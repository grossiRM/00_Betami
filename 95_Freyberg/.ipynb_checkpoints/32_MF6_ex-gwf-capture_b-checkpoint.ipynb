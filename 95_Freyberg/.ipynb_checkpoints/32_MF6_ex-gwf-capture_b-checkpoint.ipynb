{
 "cells": [
  {
   "cell_type": "markdown",
   "id": "8479bd13-e96a-4d48-b688-1f90370cc015",
   "metadata": {},
   "source": [
    "<font color='blue'> **Freyberg (1988) - Steady State** </font> "
   ]
  },
  {
   "cell_type": "code",
   "execution_count": 1,
   "id": "79659a0a",
   "metadata": {},
   "outputs": [],
   "source": [
    "import os ; import pathlib as pl ; import pandas as pd                  ; import numpy as np ;  import matplotlib.pyplot as plt \n",
    "from pathlib import Path         ; from flopy.plot.styles import styles ; import sys  ; import matplotlib as mpl ; import flopy \n",
    "from modflow_devtools.misc import get_env, timed ; write=get_env(\"WRITE\", True);run=get_env(\"RUN\", True) \n",
    "sim_ws   = Path(\"./32_Freyberg\") ; sim_ws.mkdir(exist_ok=True)          ; sim_name = \"Freyberg1988\""
   ]
  },
  {
   "cell_type": "code",
   "execution_count": 2,
   "id": "b2064102-a448-4ca7-a630-ab39760e34dd",
   "metadata": {},
   "outputs": [],
   "source": [
    "path   = 'E:\\\\15_REPOS\\\\00_BETAMI\\\\bin\\\\data_modflow6-examples\\\\ex-gwf-capture' ; fpath1  = os.path.join(path,\"bottom.txt\")\n",
    "fpath2 = os.path.join(path,\"hydraulic_conductivity.txt\")                        ; fpath3  = os.path.join(path,\"idomain.txt\")\n",
    "bottom = np.loadtxt(fpath1)               ; k11 = np.loadtxt(fpath2)            ; idomain = np.loadtxt(fpath3, dtype=np.int32)"
   ]
  },
  {
   "cell_type": "code",
   "execution_count": 3,
   "id": "aa305a74",
   "metadata": {},
   "outputs": [],
   "source": [
    "length_units=\"meters\" ;nlay=1;nrow=40;ncol=20;delr=250.0;delc=250.0      ;top=35.0;icelltype=1;strt=45.0;\n",
    "time_units=\"seconds\"  ;recharge=1.60000000e-09     ; nouter=100;ninner=25;hclose=1e-9;rclose=1e-3       ; nper=1; tdis_ds=((1.0,1.0,1),)\n",
    "wel_spd = {0: [[0,  8, 15, -0.00820000]     ,[0, 10, 12, -0.00410000] ,[0, 19, 13, -0.00390000] ,[0, 25, 9, -8.30000000e-04],\n",
    "               [0, 28,  5, -7.20000000e-04] ,[0, 33, 11, -0.00430000]]}\n",
    "chd_spd = {0: [[0, 39,  5, 16.90000000]     ,[0, 39,  6, 16.40000000] ,[0, 39,  7, 16.10000000] ,[0, 39,  8, 15.60000000]   ,[0, 39,  9, 15.10000000],\n",
    "               [0, 39, 10, 14.00000000]     ,[0, 39, 11, 13.00000000] ,[0, 39, 12, 12.50000000] ,[0, 39, 13, 12.00000000]   ,[0, 39, 14, 11.40000000]]}\n",
    "rbot = np.linspace(20.0, 10.25, num=nrow)      ; rstage = np.linspace(20.1, 11.25, num=nrow)   ; riv_spd = []\n",
    "for idx, (s, b) in enumerate(zip(rstage, rbot)): riv_spd.append([0, idx, 14, s, 0.05, b]) \n",
    "riv_spd = {0: riv_spd}"
   ]
  },
  {
   "cell_type": "code",
   "execution_count": 18,
   "id": "61c838fb",
   "metadata": {},
   "outputs": [
    {
     "name": "stdout",
     "output_type": "stream",
     "text": [
      "<flopy.mf6.data.mfstructure.MFDataItemStructure object at 0x000001E439F2CF20>\n",
      "run_models took 173.15 ms\n"
     ]
    }
   ],
   "source": [
    "def build_models():\n",
    "    sim = flopy.mf6.MFSimulation   (sim_name=sim_name,sim_ws=sim_ws,exe_name=\"mf6\",)\n",
    "    flopy.mf6.ModflowTdis    (sim, nper=nper, perioddata=tdis_ds, time_units=time_units)\n",
    "    flopy.mf6.ModflowIms     (sim,linear_acceleration=\"BICGSTAB\",outer_maximum=nouter,outer_dvclose=hclose * 10.0,inner_maximum=ninner,\n",
    "                              inner_dvclose=hclose,rcloserecord=f\"{rclose} strict\")\n",
    "    gwf = flopy.mf6.ModflowGwf     (sim,modelname=sim_name,newtonoptions=\"NEWTON UNDER_RELAXATION\")\n",
    "    flopy.mf6.ModflowGwfdis  (gwf,length_units=length_units,nlay=nlay,nrow=nrow,ncol=ncol,delr=delr,delc=delc,top=top,botm=bottom,idomain=idomain)\n",
    "    flopy.mf6.ModflowGwfnpf  (gwf,icelltype=icelltype,k=k11,)\n",
    "    flopy.mf6.ModflowGwfic   (gwf, strt=strt)\n",
    "    flopy.mf6.ModflowGwfriv  (gwf, stress_period_data = riv_spd, pname=\"RIV-1\")\n",
    "    flopy.mf6.ModflowGwfwel  (gwf, stress_period_data = wel_spd, pname=\"WEL-1\")\n",
    "    flopy.mf6.ModflowGwfrcha (gwf, recharge=recharge)\n",
    "    flopy.mf6.ModflowGwfchd  (gwf, stress_period_data = chd_spd)                                                      #; bf=f\"{sim_name}.cbc\"\n",
    "    flopy.mf6.ModflowGwfwel  (gwf,maxbound=1,pname=\"CF-1\",filename=f\"{sim_name}.cf.wel\")        ; hf=f\"{sim_name}.hds\" ; bf=f\"{sim_name}.bud\"\n",
    "    flopy.mf6.ModflowGwfoc   (gwf ,head_filerecord=hf,budget_filerecord=bf,headprintrecord=[(\"COLUMNS\", 10, \"WIDTH\", 15, \"DIGITS\", 6, \"GENERAL\")],\n",
    "                             saverecord=[(\"HEAD\", \"ALL\"), (\"BUDGET\", \"ALL\")] ,printrecord=[(\"HEAD\", \"ALL\"), (\"BUDGET\", \"ALL\")])  \n",
    "    \n",
    "    return sim\n",
    "def write_models(sim, silent=True): sim.write_simulation(silent=silent)\n",
    "@timed\n",
    "def run_models(sim, silent=True):   success, buff = sim.run_simulation(silent=silent)  ; assert success, buff\n",
    "def scenario(silent=True):\n",
    "    sim = build_models()\n",
    "    if write:  write_models(sim, silent=silent)\n",
    "    if run:    run_models  (sim, silent=silent)\n",
    "scenario()"
   ]
  },
  {
   "cell_type": "code",
   "execution_count": 19,
   "id": "0900d27b-34cf-473c-8d11-6ee91ebcbfe1",
   "metadata": {},
   "outputs": [
    {
     "name": "stdout",
     "output_type": "stream",
     "text": [
      "<flopy.mf6.data.mfstructure.MFDataItemStructure object at 0x000001E439F2CF20>\n"
     ]
    }
   ],
   "source": [
    "sim = build_models() ; gwf = sim.get_model(sim_name) ; wel = gwf.get_package(\"WEL-1\")"
   ]
  },
  {
   "cell_type": "code",
   "execution_count": 20,
   "id": "e12801a2",
   "metadata": {
    "lines_to_end_of_cell_marker": 2
   },
   "outputs": [
    {
     "data": {
      "image/png": "[encoded data removed]",
      "text/plain": [
       "<Figure size 400x400 with 2 Axes>"
      ]
     },
     "metadata": {},
     "output_type": "display_data"
    }
   ],
   "source": [
    "fig = plt.figure(figsize=(4, 4), constrained_layout=True)\n",
    "gs = mpl.gridspec.GridSpec(2, 2, figure=fig, width_ratios=(4, 1), height_ratios=(1, 6)) ; ax = fig.add_subplot(gs[:, 0]) ; ax.set_aspect(\"equal\")\n",
    "\n",
    "mm = flopy.plot.PlotMapView(model=gwf, ax=ax) \n",
    "mm.plot_grid(lw=0.5, color=\"0.5\")  ; mm.plot_bc(package=wel) ; mm.plot_bc(\"RIV\", color=\"cyan\"); mm.plot_bc(\"CHD\", color=\"green\")   ; mm.plot_ibound()   \n",
    "\n",
    "ax = fig.add_subplot(gs[0, 1])\n",
    "ax.set_xlim(0, 1)  ; ax.set_ylim(0, 1)            ; ax.set_xticks([])      ; ax.set_yticks([])\n",
    "ax.spines[\"top\"].set_color(\"none\") ; ax.spines[\"bottom\"].set_color(\"none\") ; ax.spines[\"left\"].set_color(\"none\") ; ax.spines[\"right\"].set_color(\"none\")\n",
    "ax.plot(-1000,-1000,\"s\",ms=5,color=\"green\",mec=\"black\",mew=0.5,label=\"Constant head\") ; ax.plot(-1000, -1000, color=\"cyan\", lw=1.25, label=\"River\")\n",
    "ax.plot(-1000,-1000,\"s\",ms=5,color=\"red\"  ,mec=\"black\",mew=0.5,label=\"Well\"); ax.plot(-1000,-1000,\"s\",ms=5,color=\"black\",mec=\"black\",mew=0.5,label=\"n\")\n",
    "styles.graph_legend(ax, ncol=1, frameon=False, loc=\"upper center\") ; \n",
    "plt.show()"
   ]
  },
  {
   "cell_type": "code",
   "execution_count": 25,
   "id": "7e7b6032-9863-4fc6-903e-03d1132cd36b",
   "metadata": {},
   "outputs": [],
   "source": [
    "heads = gwf.output.head()    ; times = heads.get_times()    # cobj = gwf.output.budget() "
   ]
  },
  {
   "cell_type": "code",
   "execution_count": 27,
   "id": "2e7b3efc-535a-4b1c-9694-23985e5a6ad0",
   "metadata": {},
   "outputs": [
    {
     "data": {
      "text/plain": [
       "<flopy.utils.binaryfile.HeadFile at 0x1e43c0102c0>"
      ]
     },
     "execution_count": 27,
     "metadata": {},
     "output_type": "execute_result"
    }
   ],
   "source": [
    "heads"
   ]
  },
  {
   "cell_type": "code",
   "execution_count": null,
   "id": "a7739167-82b5-4d41-816d-1a68a1c88304",
   "metadata": {},
   "outputs": [],
   "source": [
    "mm = flopy.plot.PlotMapView(model=gwf, layer=0, extent=gwf.modelgrid.extent) ; \n",
    "cbv = mm.plot_array(heads); q = mm.plot_vector(spd[\"qx\"], spd[\"qy\"]) ;  cb = plt.colorbar(cbv, ax=mm.ax, shrink=.3)\n",
    "mm.plot_grid()      ; mm.plot_bc(name=\"CHD\",color=\"blue\" )     ; mm.plot_bc(name=\"WEL\")"
   ]
  },
  {
   "cell_type": "code",
   "execution_count": null,
   "id": "d686a423-5a0a-4437-b55b-4b49d590e1f1",
   "metadata": {},
   "outputs": [],
   "source": []
  }
 ],
 "metadata": {
  "jupytext": {
   "cell_metadata_filter": "-all"
  },
  "kernelspec": {
   "display_name": "Python 3 (ipykernel)",
   "language": "python",
   "name": "python3"
  },
  "language_info": {
   "codemirror_mode": {
    "name": "ipython",
    "version": 3
   },
   "file_extension": ".py",
   "mimetype": "text/x-python",
   "name": "python",
   "nbconvert_exporter": "python",
   "pygments_lexer": "ipython3",
   "version": "3.12.7"
  }
 },
 "nbformat": 4,
 "nbformat_minor": 5
}
