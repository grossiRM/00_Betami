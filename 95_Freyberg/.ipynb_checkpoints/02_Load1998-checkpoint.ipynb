{
 "cells": [
  {
   "cell_type": "code",
   "execution_count": 1,
   "metadata": {},
   "outputs": [],
   "source": [
    "import numpy as np ; import matplotlib as mpl ; import matplotlib.pyplot as plt ; import pandas as pd\n",
    "import flopy ; from flopy.plot import styles;  from pathlib import Path; import os "
   ]
  },
  {
   "cell_type": "code",
   "execution_count": 2,
   "metadata": {},
   "outputs": [],
   "source": [
    "sim_ws1    = Path(\"00_Freyberg_Truth\")                              \n",
    "sim_ws2    = Path(\"./02\")                              ; sim_ws2.mkdir(exist_ok=True)   "
   ]
  },
  {
   "cell_type": "code",
   "execution_count": null,
   "metadata": {},
   "outputs": [],
   "source": [
    "%%capture\n",
    "sim = flopy.mf6.MFSimulation.load('freyberg', sim_ws = str(sim_ws1), exe_name='mf6')\n",
    "#sim.model_names          ; m = sim.get_model('pleasant')       ; m.modelgrid.epsg = 3070  ; m.modelgrid.units  ; m.modelgrid"
   ]
  },
  {
   "cell_type": "code",
   "execution_count": null,
   "metadata": {},
   "outputs": [],
   "source": []
  }
 ],
 "metadata": {
  "anaconda-cloud": {},
  "kernelspec": {
   "display_name": "Python 3 (ipykernel)",
   "language": "python",
   "name": "python3"
  },
  "language_info": {
   "codemirror_mode": {
    "name": "ipython",
    "version": 3
   },
   "file_extension": ".py",
   "mimetype": "text/x-python",
   "name": "python",
   "nbconvert_exporter": "python",
   "pygments_lexer": "ipython3",
   "version": "3.12.7"
  }
 },
 "nbformat": 4,
 "nbformat_minor": 4
}
