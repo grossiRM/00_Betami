{
 "cells": [
  {
   "cell_type": "markdown",
   "id": "08d4d782",
   "metadata": {},
   "source": [
    "## __01_Pleasant-lake-flopy-example_____"
   ]
  },
  {
   "cell_type": "code",
   "execution_count": 1,
   "id": "4cb7e016-97e9-4a6a-8b16-eb25f71dc3d9",
   "metadata": {},
   "outputs": [
    {
     "name": "stdout",
     "output_type": "stream",
     "text": [
      "Requirement already satisfied: sfrmaker in c:\\users\\gross.desktop-airqm2m\\anaconda3\\envs\\gmdsitut\\lib\\site-packages (0.11.3)\n",
      "Requirement already satisfied: geopandas in c:\\users\\gross.desktop-airqm2m\\anaconda3\\envs\\gmdsitut\\lib\\site-packages (from sfrmaker) (1.0.1)\n",
      "Requirement already satisfied: gis-utils in c:\\users\\gross.desktop-airqm2m\\anaconda3\\envs\\gmdsitut\\lib\\site-packages (from sfrmaker) (0.3.6)\n",
      "Requirement already satisfied: fiona in c:\\users\\gross.desktop-airqm2m\\anaconda3\\envs\\gmdsitut\\lib\\site-packages (from sfrmaker) (1.10.1)\n",
      "Requirement already satisfied: flopy in c:\\users\\gross.desktop-airqm2m\\anaconda3\\envs\\gmdsitut\\lib\\site-packages (from sfrmaker) (3.8.2)\n",
      "Requirement already satisfied: modflow-export in c:\\users\\gross.desktop-airqm2m\\anaconda3\\envs\\gmdsitut\\lib\\site-packages (from sfrmaker) (0.3.0)\n",
      "Requirement already satisfied: netcdf4 in c:\\users\\gross.desktop-airqm2m\\anaconda3\\envs\\gmdsitut\\lib\\site-packages (from sfrmaker) (1.7.2)\n",
      "Requirement already satisfied: numpy in c:\\users\\gross.desktop-airqm2m\\anaconda3\\envs\\gmdsitut\\lib\\site-packages (from sfrmaker) (1.26.4)\n",
      "Requirement already satisfied: pandas in c:\\users\\gross.desktop-airqm2m\\anaconda3\\envs\\gmdsitut\\lib\\site-packages (from sfrmaker) (2.2.3)\n",
      "Requirement already satisfied: pyproj in c:\\users\\gross.desktop-airqm2m\\anaconda3\\envs\\gmdsitut\\lib\\site-packages (from sfrmaker) (3.7.0)\n",
      "Requirement already satisfied: pyyaml in c:\\users\\gross.desktop-airqm2m\\anaconda3\\envs\\gmdsitut\\lib\\site-packages (from sfrmaker) (6.0.2)\n",
      "Requirement already satisfied: rasterio in c:\\users\\gross.desktop-airqm2m\\anaconda3\\envs\\gmdsitut\\lib\\site-packages (from sfrmaker) (1.4.3)\n",
      "Requirement already satisfied: rasterstats in c:\\users\\gross.desktop-airqm2m\\anaconda3\\envs\\gmdsitut\\lib\\site-packages (from sfrmaker) (0.20.0)\n",
      "Requirement already satisfied: rtree in c:\\users\\gross.desktop-airqm2m\\anaconda3\\envs\\gmdsitut\\lib\\site-packages (from sfrmaker) (1.3.0)\n",
      "Requirement already satisfied: scipy in c:\\users\\gross.desktop-airqm2m\\anaconda3\\envs\\gmdsitut\\lib\\site-packages (from sfrmaker) (1.14.1)\n",
      "Requirement already satisfied: shapely in c:\\users\\gross.desktop-airqm2m\\anaconda3\\envs\\gmdsitut\\lib\\site-packages (from sfrmaker) (2.0.6)\n",
      "Requirement already satisfied: xarray in c:\\users\\gross.desktop-airqm2m\\anaconda3\\envs\\gmdsitut\\lib\\site-packages (from sfrmaker) (2025.1.0)\n",
      "Requirement already satisfied: attrs>=19.2.0 in c:\\users\\gross.desktop-airqm2m\\anaconda3\\envs\\gmdsitut\\lib\\site-packages (from fiona->sfrmaker) (24.3.0)\n",
      "Requirement already satisfied: certifi in c:\\users\\gross.desktop-airqm2m\\anaconda3\\envs\\gmdsitut\\lib\\site-packages (from fiona->sfrmaker) (2024.8.30)\n",
      "Requirement already satisfied: click~=8.0 in c:\\users\\gross.desktop-airqm2m\\anaconda3\\envs\\gmdsitut\\lib\\site-packages (from fiona->sfrmaker) (8.1.8)\n",
      "Requirement already satisfied: click-plugins>=1.0 in c:\\users\\gross.desktop-airqm2m\\anaconda3\\envs\\gmdsitut\\lib\\site-packages (from fiona->sfrmaker) (1.1.1)\n",
      "Requirement already satisfied: cligj>=0.5 in c:\\users\\gross.desktop-airqm2m\\anaconda3\\envs\\gmdsitut\\lib\\site-packages (from fiona->sfrmaker) (0.7.2)\n",
      "Requirement already satisfied: matplotlib>=1.4.0 in c:\\users\\gross.desktop-airqm2m\\anaconda3\\envs\\gmdsitut\\lib\\site-packages (from flopy->sfrmaker) (3.9.4)\n",
      "Requirement already satisfied: python-dateutil>=2.8.2 in c:\\users\\gross.desktop-airqm2m\\anaconda3\\envs\\gmdsitut\\lib\\site-packages (from pandas->sfrmaker) (2.9.0.post0)\n",
      "Requirement already satisfied: pytz>=2020.1 in c:\\users\\gross.desktop-airqm2m\\anaconda3\\envs\\gmdsitut\\lib\\site-packages (from pandas->sfrmaker) (2024.1)\n",
      "Requirement already satisfied: tzdata>=2022.7 in c:\\users\\gross.desktop-airqm2m\\anaconda3\\envs\\gmdsitut\\lib\\site-packages (from pandas->sfrmaker) (2024.2)\n",
      "Requirement already satisfied: pyogrio>=0.7.2 in c:\\users\\gross.desktop-airqm2m\\anaconda3\\envs\\gmdsitut\\lib\\site-packages (from geopandas->sfrmaker) (0.10.0)\n",
      "Requirement already satisfied: packaging in c:\\users\\gross.desktop-airqm2m\\anaconda3\\envs\\gmdsitut\\lib\\site-packages (from geopandas->sfrmaker) (24.2)\n",
      "Requirement already satisfied: cftime in c:\\users\\gross.desktop-airqm2m\\anaconda3\\envs\\gmdsitut\\lib\\site-packages (from netcdf4->sfrmaker) (1.6.4.post1)\n",
      "Requirement already satisfied: affine in c:\\users\\gross.desktop-airqm2m\\anaconda3\\envs\\gmdsitut\\lib\\site-packages (from rasterio->sfrmaker) (2.4.0)\n",
      "Requirement already satisfied: pyparsing in c:\\users\\gross.desktop-airqm2m\\anaconda3\\envs\\gmdsitut\\lib\\site-packages (from rasterio->sfrmaker) (3.2.0)\n",
      "Requirement already satisfied: simplejson in c:\\users\\gross.desktop-airqm2m\\anaconda3\\envs\\gmdsitut\\lib\\site-packages (from rasterstats->sfrmaker) (3.19.3)\n",
      "Requirement already satisfied: colorama in c:\\users\\gross.desktop-airqm2m\\anaconda3\\envs\\gmdsitut\\lib\\site-packages (from click~=8.0->fiona->sfrmaker) (0.4.6)\n",
      "Requirement already satisfied: contourpy>=1.0.1 in c:\\users\\gross.desktop-airqm2m\\anaconda3\\envs\\gmdsitut\\lib\\site-packages (from matplotlib>=1.4.0->flopy->sfrmaker) (1.3.1)\n",
      "Requirement already satisfied: cycler>=0.10 in c:\\users\\gross.desktop-airqm2m\\anaconda3\\envs\\gmdsitut\\lib\\site-packages (from matplotlib>=1.4.0->flopy->sfrmaker) (0.12.1)\n",
      "Requirement already satisfied: fonttools>=4.22.0 in c:\\users\\gross.desktop-airqm2m\\anaconda3\\envs\\gmdsitut\\lib\\site-packages (from matplotlib>=1.4.0->flopy->sfrmaker) (4.55.3)\n",
      "Requirement already satisfied: kiwisolver>=1.3.1 in c:\\users\\gross.desktop-airqm2m\\anaconda3\\envs\\gmdsitut\\lib\\site-packages (from matplotlib>=1.4.0->flopy->sfrmaker) (1.4.7)\n",
      "Requirement already satisfied: pillow>=8 in c:\\users\\gross.desktop-airqm2m\\anaconda3\\envs\\gmdsitut\\lib\\site-packages (from matplotlib>=1.4.0->flopy->sfrmaker) (11.0.0)\n",
      "Requirement already satisfied: six>=1.5 in c:\\users\\gross.desktop-airqm2m\\anaconda3\\envs\\gmdsitut\\lib\\site-packages (from python-dateutil>=2.8.2->pandas->sfrmaker) (1.17.0)\n",
      "Note: you may need to restart the kernel to use updated packages.\n"
     ]
    }
   ],
   "source": [
    "pip install sfrmaker"
   ]
  },
  {
   "cell_type": "code",
   "execution_count": 2,
   "id": "5acd45ac",
   "metadata": {},
   "outputs": [],
   "source": [
    "import numpy as np                          # Environment Flopy\n",
    "import matplotlib.pyplot as plt\n",
    "import flopy\n",
    "import flopy.mf6 as mf6\n",
    "from flopy.discretization import StructuredGrid\n",
    "from flopy.utils import Raster\n",
    "import sfrmaker"
   ]
  },
  {
   "cell_type": "markdown",
   "id": "c7e69f34",
   "metadata": {},
   "source": [
    "# __Basic__ __info__"
   ]
  },
  {
   "cell_type": "code",
   "execution_count": 3,
   "id": "be85402f",
   "metadata": {},
   "outputs": [],
   "source": [
    "model_name = 'B_pleasant'\n",
    "workspace = '.'                                    # workspace\n",
    "nper, nlay, nrow, ncol = 1, 3, 60, 70              # t, z, y, x, \n",
    "delr, delc = 40, 40\n",
    "xoffset, yoffset = 554400., 389200.0\n",
    "epsg = 3070                                        # Wisconsin Transverse Mercator, denoted by EPSG code 3070 \n",
    "modelgrid = StructuredGrid(delr=np.ones(ncol) * delr, \n",
    "                           delc=np.ones(nrow) * delc, \n",
    "                           xoff=xoffset, \n",
    "                           yoff=yoffset, \n",
    "                           angrot=0)"
   ]
  },
  {
   "cell_type": "markdown",
   "id": "25dda123-1104-4485-8c2b-5b04681a2579",
   "metadata": {},
   "source": [
    "# __Rasters__"
   ]
  },
  {
   "cell_type": "code",
   "execution_count": 4,
   "id": "0d6e9f19",
   "metadata": {},
   "outputs": [],
   "source": [
    "br_surf = Raster.load('../data/br_surface.tif')\n",
    "rs = br_surf.resample_to_grid(modelgrid, band=1, method='linear')           # resample_to_grid #\n",
    "np.savetxt('../data/botm_002.dat', rs)"
   ]
  },
  {
   "cell_type": "code",
   "execution_count": 5,
   "id": "290b4ee4",
   "metadata": {},
   "outputs": [],
   "source": [
    "top = [{'filename': '../data/top.dat'}]          # 04 surfaces, 03 layers\n",
    "botm = [{'filename': '../data/botm_000.dat'},\n",
    "        {'filename': '../data/botm_001.dat'},\n",
    "        {'filename': '../data/botm_002.dat'}]\n",
    "k = [{'filename': '../data/k_000.dat'},          # KH\n",
    "     {'filename': '../data/k_001.dat'},\n",
    "     {'filename': '../data/k_002.dat'}]\n",
    "k33 = [{'filename': '../data/k33_000.dat'},      # KV\n",
    "       {'filename': '../data/k33_001.dat'},\n",
    "       {'filename': '../data/k33_002.dat'}]\n",
    "strt = [top[0]] * nlay                           # Top for starting heads\n",
    "recharge = {\n",
    "    0: {'filename': '../data/rch_000.dat'}}      # RCH    \n",
    "irch = [{'filename': '../data/irch.dat'}]        # iRCH   local\n",
    "spec_head_perimeter = {\n",
    "    0: {'filename': '../data/chd_000.dat'}}      # chd"
   ]
  },
  {
   "cell_type": "markdown",
   "id": "490e7bad-0198-4bfa-a5f6-f463ab7cdd6f",
   "metadata": {},
   "source": [
    "# __Object__ __&__ __Model__ __Instancies__"
   ]
  },
  {
   "cell_type": "code",
   "execution_count": 6,
   "id": "8b16df86",
   "metadata": {},
   "outputs": [],
   "source": [
    "sim = mf6.MFSimulation(sim_name=model_name, version=\"mf6\", exe_name=\"mf6\", sim_ws=workspace)     # __.nam  \n",
    "\n",
    "tdis = mf6.ModflowTdis(sim, time_units=\"days\", nper=1, perioddata=[(1.0, 1, 1.0)])               # __.dis  \n",
    "ims = mf6.ModflowIms(sim, complexity=\"moderate\", outer_dvclose=0.001)                            # Solver\n",
    "# sim.write_simulation() # __________        # pst = pf.build_pst() __ ?   "
   ]
  },
  {
   "cell_type": "code",
   "execution_count": 7,
   "id": "0af601f4",
   "metadata": {},
   "outputs": [],
   "source": [
    "gwf = mf6.ModflowGwf(sim, modelname=model_name, save_flows=True)              \n",
    "\n",
    "oc = mf6.ModflowGwfoc(gwf, head_filerecord=f'{gwf.name}.hds',                                    # __.oc  Output  \n",
    "    budget_filerecord=f'{gwf.name}.cbc',\n",
    "    saverecord=[('head', 'all'), (\"budget\", \"all\")])                                             \n",
    "                \n",
    "dis = mf6.ModflowGwfdis(gwf, nlay=nlay, nrow=nrow, ncol=ncol, delr=delr, delc=delc, top=top, botm=botm, idomain=1)   # __.dis "
   ]
  },
  {
   "cell_type": "code",
   "execution_count": 8,
   "id": "07d9778f-e8f1-4470-ac9d-5cbe846be6dd",
   "metadata": {},
   "outputs": [
    {
     "name": "stdout",
     "output_type": "stream",
     "text": [
      "writing simulation...\n",
      "  writing simulation name file...\n",
      "  writing simulation tdis package...\n",
      "  writing solution package ims_-1...\n",
      "  writing model B_pleasant...\n",
      "    writing model name file...\n",
      "    writing package oc...\n",
      "    writing package dis...\n"
     ]
    }
   ],
   "source": [
    "sim.write_simulation() # __________02"
   ]
  },
  {
   "cell_type": "code",
   "execution_count": 9,
   "id": "469f5cbb",
   "metadata": {},
   "outputs": [],
   "source": [
    "gwf.modelgrid.set_coord_info(xoff=xoffset, yoff=yoffset, crs=epsg)           # gwf.modelgrid"
   ]
  },
  {
   "cell_type": "markdown",
   "id": "d2855a21-cf95-4e8d-9982-7d902f5f3491",
   "metadata": {},
   "source": [
    "# __Aquifer__ __Properties__"
   ]
  },
  {
   "cell_type": "code",
   "execution_count": 10,
   "id": "b6995e4b",
   "metadata": {},
   "outputs": [],
   "source": [
    "npf = mf6.ModflowGwfnpf(gwf, icelltype=1, k=k, k33=k33)                      # K"
   ]
  },
  {
   "cell_type": "code",
   "execution_count": 11,
   "id": "1a6ae50a",
   "metadata": {},
   "outputs": [],
   "source": [
    "ic = mf6.ModflowGwfic(gwf, strt=strt)                                        # initial conditions "
   ]
  },
  {
   "cell_type": "markdown",
   "id": "de3aedf1-d40c-45b6-9917-f600413232c7",
   "metadata": {},
   "source": [
    "# <font color='green'> __Boundary__ __ Conditions__ </font>"
   ]
  },
  {
   "cell_type": "code",
   "execution_count": 12,
   "id": "14e94e72",
   "metadata": {},
   "outputs": [],
   "source": [
    "chd = mf6.ModflowGwfchd(gwf, stress_period_data=spec_head_perimeter)   # ___________ ok\n",
    "rch = mf6.ModflowGwfrcha(gwf, recharge=recharge, irch=irch)"
   ]
  },
  {
   "cell_type": "code",
   "execution_count": 13,
   "id": "1f07d270",
   "metadata": {},
   "outputs": [],
   "source": [
    "lak = mf6.ModflowGwflak(gwf, boundnames=True, nlakes=1, connectiondata={'filename': '../data/lake_cn.dat'},\n",
    "    packagedata=[[0, 290.85, 345, 'lake1']],\n",
    "    perioddata={0: [[0, 'evaporation', 0.000715], [0, 'rainfall', 0.00209]]},\n",
    "    surfdep=0.1)"
   ]
  },
  {
   "cell_type": "code",
   "execution_count": 14,
   "id": "367b74ec-5a06-4d0a-9913-76eec9e1986c",
   "metadata": {},
   "outputs": [
    {
     "name": "stdout",
     "output_type": "stream",
     "text": [
      "writing simulation...\n",
      "  writing simulation name file...\n",
      "  writing simulation tdis package...\n",
      "  writing solution package ims_-1...\n",
      "  writing model B_pleasant...\n",
      "    writing model name file...\n",
      "    writing package oc...\n",
      "    writing package dis...\n",
      "    writing package npf...\n",
      "    writing package ic...\n",
      "    writing package chd_0...\n",
      "INFORMATION: maxbound in ('gwf6', 'chd', 'dimensions') changed to 572 based on size of stress_period_data\n",
      "    writing package rcha_0...\n",
      "    writing package lak_0...\n"
     ]
    }
   ],
   "source": [
    "sim.write_simulation()"
   ]
  },
  {
   "cell_type": "markdown",
   "id": "31d791de-a8e9-4e3d-9535-02eb1f0d0f9c",
   "metadata": {},
   "source": [
    "# <font color='blue'> __Streamflow__ __!__ __..__</font>"
   ]
  },
  {
   "cell_type": "markdown",
   "id": "45f1b5b1",
   "metadata": {},
   "source": [
    "# <font color='blue'> __Add__ __next__ __SFR__ __REPO__ </font>"
   ]
  },
  {
   "cell_type": "code",
   "execution_count": 15,
   "id": "1f053a1a",
   "metadata": {},
   "outputs": [
    {
     "name": "stdout",
     "output_type": "stream",
     "text": [
      "\n",
      "SFRmaker version 0.11.3\n",
      "\n",
      "Creating sfr dataset...\n",
      "Model grid information\n",
      "structured grid\n",
      "nnodes: 4,200\n",
      "nlay: 1\n",
      "nrow: 60\n",
      "ncol: 70\n",
      "model length units: undefined\n",
      "crs: EPSG:3070\n",
      "bounds: 554400.00, 389200.00, 557200.00, 391600.00\n",
      "active area defined by: all cells\n",
      "\n",
      "name = B_pleasant\n",
      "model_type = gwf6\n",
      "version = mf6\n",
      "model_relative_path = .\n",
      "\n",
      "###################\n",
      "Package oc\n",
      "###################\n",
      "\n",
      "package_name = oc\n",
      "filename = B_pleasant.oc\n",
      "package_type = oc\n",
      "model_or_simulation_package = model\n",
      "model_name = B_pleasant\n",
      "\n",
      "\n",
      "###################\n",
      "Package dis\n",
      "###################\n",
      "\n",
      "package_name = dis\n",
      "filename = B_pleasant.dis\n",
      "package_type = dis\n",
      "model_or_simulation_package = model\n",
      "model_name = B_pleasant\n",
      "\n",
      "\n",
      "###################\n",
      "Package npf\n",
      "###################\n",
      "\n",
      "package_name = npf\n",
      "filename = B_pleasant.npf\n",
      "package_type = npf\n",
      "model_or_simulation_package = model\n",
      "model_name = B_pleasant\n",
      "\n",
      "\n",
      "###################\n",
      "Package ic\n",
      "###################\n",
      "\n",
      "package_name = ic\n",
      "filename = B_pleasant.ic\n",
      "package_type = ic\n",
      "model_or_simulation_package = model\n",
      "model_name = B_pleasant\n",
      "\n",
      "\n",
      "###################\n",
      "Package chd_0\n",
      "###################\n",
      "\n",
      "package_name = chd_0\n",
      "filename = B_pleasant.chd\n",
      "package_type = chd\n",
      "model_or_simulation_package = model\n",
      "model_name = B_pleasant\n",
      "\n",
      "\n",
      "###################\n",
      "Package rcha_0\n",
      "###################\n",
      "\n",
      "package_name = rcha_0\n",
      "filename = B_pleasant.rcha\n",
      "package_type = rcha\n",
      "model_or_simulation_package = model\n",
      "model_name = B_pleasant\n",
      "\n",
      "\n",
      "###################\n",
      "Package lak_0\n",
      "###################\n",
      "\n",
      "package_name = lak_0\n",
      "filename = B_pleasant.lak\n",
      "package_type = lak\n",
      "model_or_simulation_package = model\n",
      "model_name = B_pleasant\n",
      "\n",
      "\n",
      "\n",
      "\n",
      "reprojecting hydrography from\n",
      "EPSG:4269\n",
      "to\n",
      "EPSG:3070\n",
      "\n",
      "\n",
      "Culling hydrography to active area...\n",
      "starting lines: 49\n"
     ]
    },
    {
     "ename": "AttributeError",
     "evalue": "'NoneType' object has no attribute 'intersects'",
     "output_type": "error",
     "traceback": [
      "\u001b[1;31m---------------------------------------------------------------------------\u001b[0m",
      "\u001b[1;31mAttributeError\u001b[0m                            Traceback (most recent call last)",
      "Cell \u001b[1;32mIn[15], line 3\u001b[0m\n\u001b[0;32m      1\u001b[0m lines \u001b[38;5;241m=\u001b[39m sfrmaker\u001b[38;5;241m.\u001b[39mLines\u001b[38;5;241m.\u001b[39mfrom_shapefile(shapefile\u001b[38;5;241m=\u001b[39m\u001b[38;5;124m'\u001b[39m\u001b[38;5;124m../data/edited_flowlines.shp\u001b[39m\u001b[38;5;124m'\u001b[39m, id_column\u001b[38;5;241m=\u001b[39m\u001b[38;5;124m'\u001b[39m\u001b[38;5;124mid\u001b[39m\u001b[38;5;124m'\u001b[39m, routing_column\u001b[38;5;241m=\u001b[39m\u001b[38;5;124m'\u001b[39m\u001b[38;5;124mtoid\u001b[39m\u001b[38;5;124m'\u001b[39m,\n\u001b[0;32m      2\u001b[0m     width1_column\u001b[38;5;241m=\u001b[39m\u001b[38;5;124m'\u001b[39m\u001b[38;5;124mwidth1\u001b[39m\u001b[38;5;124m'\u001b[39m, width2_column\u001b[38;5;241m=\u001b[39m\u001b[38;5;124m'\u001b[39m\u001b[38;5;124mwidth2\u001b[39m\u001b[38;5;124m'\u001b[39m, name_column\u001b[38;5;241m=\u001b[39m\u001b[38;5;124m'\u001b[39m\u001b[38;5;124mname\u001b[39m\u001b[38;5;124m'\u001b[39m, attr_length_units\u001b[38;5;241m=\u001b[39m\u001b[38;5;124m'\u001b[39m\u001b[38;5;124mmeters\u001b[39m\u001b[38;5;124m'\u001b[39m)\n\u001b[1;32m----> 3\u001b[0m sfrdata \u001b[38;5;241m=\u001b[39m \u001b[43mlines\u001b[49m\u001b[38;5;241;43m.\u001b[39;49m\u001b[43mto_sfr\u001b[49m\u001b[43m(\u001b[49m\u001b[43mmodel\u001b[49m\u001b[38;5;241;43m=\u001b[39;49m\u001b[43mgwf\u001b[49m\u001b[43m,\u001b[49m\u001b[43m \u001b[49m\u001b[43mmodel_length_units\u001b[49m\u001b[38;5;241;43m=\u001b[39;49m\u001b[38;5;124;43m'\u001b[39;49m\u001b[38;5;124;43mmeters\u001b[39;49m\u001b[38;5;124;43m'\u001b[39;49m\u001b[43m)\u001b[49m\n\u001b[0;32m      4\u001b[0m sfrdata\u001b[38;5;241m.\u001b[39mset_streambed_top_elevations_from_dem(\u001b[38;5;124m'\u001b[39m\u001b[38;5;124m../data/dem40m.tif\u001b[39m\u001b[38;5;124m'\u001b[39m, elevation_units\u001b[38;5;241m=\u001b[39m\u001b[38;5;124m'\u001b[39m\u001b[38;5;124mmeters\u001b[39m\u001b[38;5;124m'\u001b[39m)\n\u001b[0;32m      5\u001b[0m sfrdata\u001b[38;5;241m.\u001b[39massign_layers()\n",
      "File \u001b[1;32m~\\anaconda3\\envs\\gmdsitut\\Lib\\site-packages\\sfrmaker\\lines.py:1029\u001b[0m, in \u001b[0;36mLines.to_sfr\u001b[1;34m(self, grid, active_area, isfr, model, model_length_units, model_time_units, minimum_reach_length, width_from_asum_a_param, width_from_asum_b_param, minimum_reach_width, consolidate_conductance, one_reach_per_cell, add_outlets, package_name, **kwargs)\u001b[0m\n\u001b[0;32m   1027\u001b[0m     \u001b[38;5;28mself\u001b[39m\u001b[38;5;241m.\u001b[39mcull(grid\u001b[38;5;241m.\u001b[39mactive_area, inplace\u001b[38;5;241m=\u001b[39m\u001b[38;5;28;01mTrue\u001b[39;00m, simplify\u001b[38;5;241m=\u001b[39m\u001b[38;5;28;01mTrue\u001b[39;00m, tol\u001b[38;5;241m=\u001b[39m\u001b[38;5;241m2000\u001b[39m)\n\u001b[0;32m   1028\u001b[0m \u001b[38;5;28;01melif\u001b[39;00m grid\u001b[38;5;241m.\u001b[39m_bounds \u001b[38;5;129;01mis\u001b[39;00m \u001b[38;5;129;01mnot\u001b[39;00m \u001b[38;5;28;01mNone\u001b[39;00m:  \u001b[38;5;66;03m# cull to grid bounding box if already computed\u001b[39;00m\n\u001b[1;32m-> 1029\u001b[0m     \u001b[38;5;28;43mself\u001b[39;49m\u001b[38;5;241;43m.\u001b[39;49m\u001b[43mcull\u001b[49m\u001b[43m(\u001b[49m\u001b[43mbox\u001b[49m\u001b[43m(\u001b[49m\u001b[38;5;241;43m*\u001b[39;49m\u001b[43mgrid\u001b[49m\u001b[38;5;241;43m.\u001b[39;49m\u001b[43m_bounds\u001b[49m\u001b[43m)\u001b[49m\u001b[43m,\u001b[49m\u001b[43m \u001b[49m\u001b[43minplace\u001b[49m\u001b[38;5;241;43m=\u001b[39;49m\u001b[38;5;28;43;01mTrue\u001b[39;49;00m\u001b[43m)\u001b[49m\n\u001b[0;32m   1030\u001b[0m \u001b[38;5;28;01mif\u001b[39;00m package_name \u001b[38;5;129;01mis\u001b[39;00m \u001b[38;5;28;01mNone\u001b[39;00m:\n\u001b[0;32m   1031\u001b[0m     \u001b[38;5;28;01mif\u001b[39;00m model \u001b[38;5;129;01mis\u001b[39;00m \u001b[38;5;129;01mnot\u001b[39;00m \u001b[38;5;28;01mNone\u001b[39;00m:\n",
      "File \u001b[1;32m~\\anaconda3\\envs\\gmdsitut\\Lib\\site-packages\\sfrmaker\\lines.py:294\u001b[0m, in \u001b[0;36mLines.cull\u001b[1;34m(self, feature, simplify, tol, feature_crs, inplace)\u001b[0m\n\u001b[0;32m    289\u001b[0m \u001b[38;5;28mprint\u001b[39m(\u001b[38;5;124m'\u001b[39m\u001b[38;5;124mstarting lines: \u001b[39m\u001b[38;5;132;01m{:,d}\u001b[39;00m\u001b[38;5;124m'\u001b[39m\u001b[38;5;241m.\u001b[39mformat(\u001b[38;5;28mlen\u001b[39m(lines)))\n\u001b[0;32m    290\u001b[0m \u001b[38;5;66;03m# isn = np.array([g.intersection(feature_s) for g in lines])\u001b[39;00m\n\u001b[0;32m    291\u001b[0m \u001b[38;5;66;03m# df['geometry'] = isn\u001b[39;00m\n\u001b[0;32m    292\u001b[0m \u001b[38;5;66;03m# drop = np.array([g.is_empty for g in isn])\u001b[39;00m\n\u001b[0;32m    293\u001b[0m \u001b[38;5;66;03m# df = df.loc[~drop]\u001b[39;00m\n\u001b[1;32m--> 294\u001b[0m intersects \u001b[38;5;241m=\u001b[39m \u001b[43m[\u001b[49m\u001b[43mg\u001b[49m\u001b[38;5;241;43m.\u001b[39;49m\u001b[43mintersects\u001b[49m\u001b[43m(\u001b[49m\u001b[43mfeature_s\u001b[49m\u001b[43m)\u001b[49m\u001b[43m \u001b[49m\u001b[38;5;28;43;01mfor\u001b[39;49;00m\u001b[43m \u001b[49m\u001b[43mg\u001b[49m\u001b[43m \u001b[49m\u001b[38;5;129;43;01min\u001b[39;49;00m\u001b[43m \u001b[49m\u001b[43mlines\u001b[49m\u001b[43m]\u001b[49m\n\u001b[0;32m    295\u001b[0m \u001b[38;5;28;01mif\u001b[39;00m \u001b[38;5;129;01mnot\u001b[39;00m np\u001b[38;5;241m.\u001b[39many(intersects):\n\u001b[0;32m    296\u001b[0m     \u001b[38;5;28;01mraise\u001b[39;00m \u001b[38;5;167;01mValueError\u001b[39;00m(\u001b[38;5;124m'\u001b[39m\u001b[38;5;124mNo lines in active area. Check CRS for lines, grid and active area polygon.\u001b[39m\u001b[38;5;124m'\u001b[39m)\n",
      "File \u001b[1;32m~\\anaconda3\\envs\\gmdsitut\\Lib\\site-packages\\sfrmaker\\lines.py:294\u001b[0m, in \u001b[0;36m<listcomp>\u001b[1;34m(.0)\u001b[0m\n\u001b[0;32m    289\u001b[0m \u001b[38;5;28mprint\u001b[39m(\u001b[38;5;124m'\u001b[39m\u001b[38;5;124mstarting lines: \u001b[39m\u001b[38;5;132;01m{:,d}\u001b[39;00m\u001b[38;5;124m'\u001b[39m\u001b[38;5;241m.\u001b[39mformat(\u001b[38;5;28mlen\u001b[39m(lines)))\n\u001b[0;32m    290\u001b[0m \u001b[38;5;66;03m# isn = np.array([g.intersection(feature_s) for g in lines])\u001b[39;00m\n\u001b[0;32m    291\u001b[0m \u001b[38;5;66;03m# df['geometry'] = isn\u001b[39;00m\n\u001b[0;32m    292\u001b[0m \u001b[38;5;66;03m# drop = np.array([g.is_empty for g in isn])\u001b[39;00m\n\u001b[0;32m    293\u001b[0m \u001b[38;5;66;03m# df = df.loc[~drop]\u001b[39;00m\n\u001b[1;32m--> 294\u001b[0m intersects \u001b[38;5;241m=\u001b[39m [\u001b[43mg\u001b[49m\u001b[38;5;241;43m.\u001b[39;49m\u001b[43mintersects\u001b[49m(feature_s) \u001b[38;5;28;01mfor\u001b[39;00m g \u001b[38;5;129;01min\u001b[39;00m lines]\n\u001b[0;32m    295\u001b[0m \u001b[38;5;28;01mif\u001b[39;00m \u001b[38;5;129;01mnot\u001b[39;00m np\u001b[38;5;241m.\u001b[39many(intersects):\n\u001b[0;32m    296\u001b[0m     \u001b[38;5;28;01mraise\u001b[39;00m \u001b[38;5;167;01mValueError\u001b[39;00m(\u001b[38;5;124m'\u001b[39m\u001b[38;5;124mNo lines in active area. Check CRS for lines, grid and active area polygon.\u001b[39m\u001b[38;5;124m'\u001b[39m)\n",
      "\u001b[1;31mAttributeError\u001b[0m: 'NoneType' object has no attribute 'intersects'"
     ]
    }
   ],
   "source": [
    "lines = sfrmaker.Lines.from_shapefile(shapefile='../data/edited_flowlines.shp', id_column='id', routing_column='toid',\n",
    "    width1_column='width1', width2_column='width2', name_column='name', attr_length_units='meters')\n",
    "sfrdata = lines.to_sfr(model=gwf, model_length_units='meters')\n",
    "sfrdata.set_streambed_top_elevations_from_dem('../data/dem40m.tif', elevation_units='meters')\n",
    "sfrdata.assign_layers()\n",
    "sfr = sfrdata.create_mf6sfr(gwf)"
   ]
  },
  {
   "cell_type": "code",
   "execution_count": null,
   "id": "03fb00f8",
   "metadata": {},
   "outputs": [],
   "source": [
    "sim.write_simulation()\n",
    "sim.run_simulation() "
   ]
  },
  {
   "cell_type": "markdown",
   "id": "079cd5a6",
   "metadata": {},
   "source": [
    "## Postrocessing : Get_water_table()__Module ____` err_02 `"
   ]
  },
  {
   "cell_type": "code",
   "execution_count": null,
   "id": "55ca4fcf",
   "metadata": {},
   "outputs": [],
   "source": [
    "from flopy.utils.postprocessing import get_water_table"
   ]
  },
  {
   "cell_type": "code",
   "execution_count": null,
   "id": "819940c6",
   "metadata": {},
   "outputs": [],
   "source": [
    "hds = gwf.output.head().get_data()"
   ]
  },
  {
   "cell_type": "code",
   "execution_count": null,
   "id": "cce6523e",
   "metadata": {},
   "outputs": [],
   "source": [
    "wt = get_water_table(hds, nodata=-1e10)"
   ]
  },
  {
   "cell_type": "code",
   "execution_count": null,
   "id": "12d6d77d",
   "metadata": {},
   "outputs": [],
   "source": [
    "cbc = gwf.output.budget()\n",
    "lak = cbc.get_data(text='lak', full3D=True)[0]\n",
    "sfr = cbc.get_data(text='sfr', full3D=True)[0]"
   ]
  },
  {
   "cell_type": "code",
   "execution_count": null,
   "id": "efd1ad1b",
   "metadata": {},
   "outputs": [],
   "source": [
    "fig, ax = plt.subplots(figsize=(6, 6))\n",
    "pmv = flopy.plot.PlotMapView(gwf, ax=ax)\n",
    "ctr = pmv.contour_array(\n",
    "    wt, levels=np.arange(290, 315, 1), \n",
    "    linewidths=1, colors='b')\n",
    "labels = pmv.ax.clabel(\n",
    "    ctr, inline=True, \n",
    "    fontsize=8, inline_spacing=1)\n",
    "vmin, vmax = -100, 100\n",
    "im = pmv.plot_array(\n",
    "    lak[0], cmap='coolwarm', \n",
    "    vmin=vmin, vmax=vmax)\n",
    "im = pmv.plot_array(\n",
    "    sfr.sum(axis=0), cmap='coolwarm', \n",
    "    vmin=vmin, vmax=vmax)\n",
    "cb = fig.colorbar(\n",
    "    im, shrink=0.5, label='Leakage, in m$^3$/day')\n",
    "ax.set_ylabel(\"Northing, WTM meters\")\n",
    "ax.set_xlabel(\"Easting, WTM meters\")\n",
    "ax.set_aspect(1)\n",
    "plt.tight_layout()\n",
    "plt.savefig('results.pdf')"
   ]
  }
 ],
 "metadata": {
  "kernelspec": {
   "display_name": "Python 3 (ipykernel)",
   "language": "python",
   "name": "python3"
  },
  "language_info": {
   "codemirror_mode": {
    "name": "ipython",
    "version": 3
   },
   "file_extension": ".py",
   "mimetype": "text/x-python",
   "name": "python",
   "nbconvert_exporter": "python",
   "pygments_lexer": "ipython3",
   "version": "3.11.11"
  }
 },
 "nbformat": 4,
 "nbformat_minor": 5
}
