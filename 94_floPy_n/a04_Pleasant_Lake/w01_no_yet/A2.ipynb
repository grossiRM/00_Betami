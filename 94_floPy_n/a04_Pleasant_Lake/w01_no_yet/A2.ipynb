{
 "cells": [
  {
   "cell_type": "code",
   "execution_count": 1,
   "id": "fdcfc894-6821-4506-a93a-e4c1715fe886",
   "metadata": {},
   "outputs": [],
   "source": [
    "import os\n",
    "from flopy.discretization import StructuredGrid\n",
    "import numpy as np\n",
    "import flopy.mf6 as mf6"
   ]
  },
  {
   "cell_type": "code",
   "execution_count": 2,
   "id": "f91c91d4-3299-4982-972a-57bd4a0a3bfe",
   "metadata": {},
   "outputs": [],
   "source": [
    "WS = os.mkdir(\"a_folder\") "
   ]
  },
  {
   "cell_type": "code",
   "execution_count": 3,
   "id": "c19a5cdd-3152-4914-b90a-bb7243775df8",
   "metadata": {},
   "outputs": [],
   "source": [
    "model_name = 'B_pleasant'\n",
    "nper, nlay, nrow, ncol,    delr, delc,   xoffset, yoffset, epsg, angrot = 1, 3, 60, 70,    40, 40,    554400, 389200, 3070, 0\n",
    "modelgrid = StructuredGrid(delr=np.ones(ncol) * delr, delc=np.ones(nrow) * delc, xoff=xoffset, yoff=yoffset, angrot=angrot)"
   ]
  },
  {
   "cell_type": "code",
   "execution_count": 4,
   "id": "110e43e0-4a42-4f5f-88f0-62e8da7b1cc4",
   "metadata": {},
   "outputs": [],
   "source": [
    "top = [{'filename': '../data/top.dat'}]          # 04 surfaces, 03 layers\n",
    "botm = [{'filename': '../data/botm_000.dat'},\n",
    "        {'filename': '../data/botm_001.dat'},\n",
    "        {'filename': '../data/botm_002.dat'}]\n",
    "k = [{'filename': '../data/k_000.dat'},          # KH\n",
    "     {'filename': '../data/k_001.dat'},\n",
    "     {'filename': '../data/k_002.dat'}]\n",
    "k33 = [{'filename': '../data/k33_000.dat'},      # KV\n",
    "       {'filename': '../data/k33_001.dat'},\n",
    "       {'filename': '../data/k33_002.dat'}]\n",
    "strt = [top[0]] * nlay                           # Top for starting heads\n",
    "recharge = {\n",
    "    0: {'filename': '../data/rch_000.dat'}}      # RCH    \n",
    "irch = [{'filename': '../data/irch.dat'}]        # iRCH   local\n",
    "spec_head_perimeter = {\n",
    "    0: {'filename': '../data/chd_000.dat'}}      # chd"
   ]
  },
  {
   "cell_type": "code",
   "execution_count": 22,
   "id": "f29f8b05-0031-421b-8411-a83dad166dd9",
   "metadata": {},
   "outputs": [],
   "source": [
    "sim   = mf6.MFSimulation   (sim_name=model_name, version=\"mf6\", exe_name=\"mf6\", sim_ws = \"WS\")     \n",
    "tdis  = mf6.ModflowTdis    (sim, time_units=\"days\", nper=1, perioddata=[(1.0, 1, 1.0)])               \n",
    "ims   = mf6.ModflowIms     (sim, complexity=\"moderate\", outer_dvclose=0.001)                       \n",
    "gwf   = mf6.ModflowGwf     (sim, modelname=model_name, save_flows=True)         \n",
    "oc    = mf6.ModflowGwfoc   (gwf, head_filerecord=f'{gwf.name}.hds', budget_filerecord=f'{gwf.name}.cbc',saverecord=[('head', 'all'), (\"budget\", \"all\")])                                             \n",
    "dis   = mf6.ModflowGwfdis  (gwf, nlay=nlay, nrow=nrow, ncol=ncol, delr=delr, delc=delc, top=top, botm=botm, idomain=1)   \n",
    "npf   = mf6.ModflowGwfnpf  (gwf, icelltype=1, k=k, k33=k33)                      \n",
    "ic    = mf6.ModflowGwfic   (gwf, strt=strt)        \n",
    "rch   = mf6.ModflowGwfrcha (gwf, recharge=recharge, irch=irch)"
   ]
  },
  {
   "cell_type": "code",
   "execution_count": 24,
   "id": "277a3c80-5b32-4f00-bfa1-34119869ee2c",
   "metadata": {},
   "outputs": [
    {
     "ename": "MFDataException",
     "evalue": "An error occurred in data element \"botm\" model \"B_pleasant\" package \"chd_0\". The error occurred while getting data in the \"_get_data\" method.\nAdditional Information:\n(1) Unable to open file E:\\15_REPOS\\00_BETAMI\\02_floPy__________________\\04a_Pleasant_Lake\\00_______________\\WS\\../data/botm_000.dat in mode r.  Make sure the file is not locked and the folder exists.\n(2) Error occurred while adding dataset \"stress_period_data\" to block \"period\"",
     "output_type": "error",
     "traceback": [
      "\u001b[1;31m---------------------------------------------------------------------------\u001b[0m",
      "\u001b[1;31mFileNotFoundError\u001b[0m                         Traceback (most recent call last)",
      "File \u001b[1;32m~\\anaconda3\\envs\\gmdsitut\\Lib\\site-packages\\flopy\\mf6\\data\\mffileaccess.py:159\u001b[0m, in \u001b[0;36mMFFileAccess._open_ext_file\u001b[1;34m(self, fname, binary, write)\u001b[0m\n\u001b[0;32m    158\u001b[0m \u001b[38;5;28;01mtry\u001b[39;00m:\n\u001b[1;32m--> 159\u001b[0m     fd \u001b[38;5;241m=\u001b[39m \u001b[38;5;28;43mopen\u001b[39;49m\u001b[43m(\u001b[49m\u001b[43mread_file\u001b[49m\u001b[43m,\u001b[49m\u001b[43m \u001b[49m\u001b[43moptions\u001b[49m\u001b[43m)\u001b[49m\n\u001b[0;32m    160\u001b[0m     \u001b[38;5;28;01mreturn\u001b[39;00m fd\n",
      "\u001b[1;31mFileNotFoundError\u001b[0m: [Errno 2] No such file or directory: 'E:\\\\15_REPOS\\\\00_BETAMI\\\\02_floPy__________________\\\\04a_Pleasant_Lake\\\\00_______________\\\\WS\\\\../data/botm_000.dat'",
      "\nDuring handling of the above exception, another exception occurred:\n",
      "\u001b[1;31mMFDataException\u001b[0m                           Traceback (most recent call last)",
      "File \u001b[1;32m~\\anaconda3\\envs\\gmdsitut\\Lib\\site-packages\\flopy\\mf6\\data\\mfdataarray.py:731\u001b[0m, in \u001b[0;36mMFArray._get_data\u001b[1;34m(self, layer, apply_mult, **kwargs)\u001b[0m\n\u001b[0;32m    730\u001b[0m \u001b[38;5;28;01mtry\u001b[39;00m:\n\u001b[1;32m--> 731\u001b[0m     data \u001b[38;5;241m=\u001b[39m \u001b[43mstorage\u001b[49m\u001b[38;5;241;43m.\u001b[39;49m\u001b[43mget_data\u001b[49m\u001b[43m(\u001b[49m\u001b[43mlayer\u001b[49m\u001b[43m,\u001b[49m\u001b[43m \u001b[49m\u001b[43mapply_mult\u001b[49m\u001b[43m)\u001b[49m\n\u001b[0;32m    732\u001b[0m     \u001b[38;5;28;01mif\u001b[39;00m (\n\u001b[0;32m    733\u001b[0m         \u001b[38;5;124m\"\u001b[39m\u001b[38;5;124marray\u001b[39m\u001b[38;5;124m\"\u001b[39m \u001b[38;5;129;01min\u001b[39;00m kwargs\n\u001b[0;32m    734\u001b[0m         \u001b[38;5;129;01mand\u001b[39;00m kwargs[\u001b[38;5;124m\"\u001b[39m\u001b[38;5;124marray\u001b[39m\u001b[38;5;124m\"\u001b[39m]\n\u001b[0;32m    735\u001b[0m         \u001b[38;5;129;01mand\u001b[39;00m \u001b[38;5;28misinstance\u001b[39m(\u001b[38;5;28mself\u001b[39m, MFTransientArray)\n\u001b[0;32m    736\u001b[0m         \u001b[38;5;129;01mand\u001b[39;00m data \u001b[38;5;129;01mis\u001b[39;00m \u001b[38;5;129;01mnot\u001b[39;00m []  \u001b[38;5;66;03m# noqa: F632\u001b[39;00m\n\u001b[0;32m    737\u001b[0m     ):\n",
      "File \u001b[1;32m~\\anaconda3\\envs\\gmdsitut\\Lib\\site-packages\\flopy\\mf6\\data\\mfdatastorage.py:684\u001b[0m, in \u001b[0;36mDataStorage.get_data\u001b[1;34m(self, layer, apply_mult, block_exists)\u001b[0m\n\u001b[0;32m    683\u001b[0m \u001b[38;5;28;01mdef\u001b[39;00m \u001b[38;5;21mget_data\u001b[39m(\u001b[38;5;28mself\u001b[39m, layer\u001b[38;5;241m=\u001b[39m\u001b[38;5;28;01mNone\u001b[39;00m, apply_mult\u001b[38;5;241m=\u001b[39m\u001b[38;5;28;01mTrue\u001b[39;00m, block_exists\u001b[38;5;241m=\u001b[39m\u001b[38;5;28;01mFalse\u001b[39;00m):\n\u001b[1;32m--> 684\u001b[0m     data \u001b[38;5;241m=\u001b[39m \u001b[38;5;28;43mself\u001b[39;49m\u001b[38;5;241;43m.\u001b[39;49m\u001b[43m_access_data\u001b[49m\u001b[43m(\u001b[49m\u001b[43mlayer\u001b[49m\u001b[43m,\u001b[49m\u001b[43m \u001b[49m\u001b[38;5;28;43;01mTrue\u001b[39;49;00m\u001b[43m,\u001b[49m\u001b[43m \u001b[49m\u001b[43mapply_mult\u001b[49m\u001b[38;5;241;43m=\u001b[39;49m\u001b[43mapply_mult\u001b[49m\u001b[43m)\u001b[49m\n\u001b[0;32m    685\u001b[0m     \u001b[38;5;28;01mif\u001b[39;00m data \u001b[38;5;129;01mis\u001b[39;00m \u001b[38;5;28;01mNone\u001b[39;00m \u001b[38;5;129;01mand\u001b[39;00m block_exists:\n",
      "File \u001b[1;32m~\\anaconda3\\envs\\gmdsitut\\Lib\\site-packages\\flopy\\mf6\\data\\mfdatastorage.py:711\u001b[0m, in \u001b[0;36mDataStorage._access_data\u001b[1;34m(self, layer, return_data, apply_mult)\u001b[0m\n\u001b[0;32m    702\u001b[0m \u001b[38;5;28;01mif\u001b[39;00m (\n\u001b[0;32m    703\u001b[0m     layer \u001b[38;5;129;01mis\u001b[39;00m \u001b[38;5;28;01mNone\u001b[39;00m\n\u001b[0;32m    704\u001b[0m     \u001b[38;5;129;01mand\u001b[39;00m (\n\u001b[1;32m   (...)\u001b[0m\n\u001b[0;32m    709\u001b[0m ):\n\u001b[0;32m    710\u001b[0m     \u001b[38;5;66;03m# return data from all layers\u001b[39;00m\n\u001b[1;32m--> 711\u001b[0m     data \u001b[38;5;241m=\u001b[39m \u001b[38;5;28;43mself\u001b[39;49m\u001b[38;5;241;43m.\u001b[39;49m\u001b[43m_build_full_data\u001b[49m\u001b[43m(\u001b[49m\u001b[43mapply_mult\u001b[49m\u001b[43m)\u001b[49m\n\u001b[0;32m    712\u001b[0m     \u001b[38;5;28;01mif\u001b[39;00m data \u001b[38;5;129;01mis\u001b[39;00m \u001b[38;5;28;01mNone\u001b[39;00m:\n",
      "File \u001b[1;32m~\\anaconda3\\envs\\gmdsitut\\Lib\\site-packages\\flopy\\mf6\\data\\mfdatastorage.py:2446\u001b[0m, in \u001b[0;36mDataStorage._build_full_data\u001b[1;34m(self, apply_multiplier)\u001b[0m\n\u001b[0;32m   2444\u001b[0m \u001b[38;5;28;01melse\u001b[39;00m:\n\u001b[0;32m   2445\u001b[0m     data_out \u001b[38;5;241m=\u001b[39m (\n\u001b[1;32m-> 2446\u001b[0m         \u001b[43mfile_access\u001b[49m\u001b[38;5;241;43m.\u001b[39;49m\u001b[43mread_text_data_from_file\u001b[49m\u001b[43m(\u001b[49m\n\u001b[0;32m   2447\u001b[0m \u001b[43m            \u001b[49m\u001b[38;5;28;43mself\u001b[39;49m\u001b[38;5;241;43m.\u001b[39;49m\u001b[43mget_data_size\u001b[49m\u001b[43m(\u001b[49m\u001b[43mlayer\u001b[49m\u001b[43m)\u001b[49m\u001b[43m,\u001b[49m\n\u001b[0;32m   2448\u001b[0m \u001b[43m            \u001b[49m\u001b[43mnp_data_type\u001b[49m\u001b[43m,\u001b[49m\n\u001b[0;32m   2449\u001b[0m \u001b[43m            \u001b[49m\u001b[38;5;28;43mself\u001b[39;49m\u001b[38;5;241;43m.\u001b[39;49m\u001b[43mget_data_dimensions\u001b[49m\u001b[43m(\u001b[49m\u001b[43mlayer\u001b[49m\u001b[43m)\u001b[49m\u001b[43m,\u001b[49m\n\u001b[0;32m   2450\u001b[0m \u001b[43m            \u001b[49m\u001b[43mlayer\u001b[49m\u001b[43m,\u001b[49m\n\u001b[0;32m   2451\u001b[0m \u001b[43m            \u001b[49m\u001b[38;5;28;43mself\u001b[39;49m\u001b[38;5;241;43m.\u001b[39;49m\u001b[43mlayered\u001b[49m\u001b[43m,\u001b[49m\n\u001b[0;32m   2452\u001b[0m \u001b[43m            \u001b[49m\u001b[43mread_file\u001b[49m\u001b[43m,\u001b[49m\n\u001b[0;32m   2453\u001b[0m \u001b[43m        \u001b[49m\u001b[43m)\u001b[49m[\u001b[38;5;241m0\u001b[39m]\n\u001b[0;32m   2454\u001b[0m         \u001b[38;5;241m*\u001b[39m mult\n\u001b[0;32m   2455\u001b[0m     )\n\u001b[0;32m   2456\u001b[0m \u001b[38;5;28;01mif\u001b[39;00m (\n\u001b[0;32m   2457\u001b[0m     \u001b[38;5;28mself\u001b[39m\u001b[38;5;241m.\u001b[39mlayer_storage\u001b[38;5;241m.\u001b[39mget_total_size() \u001b[38;5;241m==\u001b[39m \u001b[38;5;241m1\u001b[39m\n\u001b[0;32m   2458\u001b[0m     \u001b[38;5;129;01mor\u001b[39;00m \u001b[38;5;129;01mnot\u001b[39;00m \u001b[38;5;28mself\u001b[39m\u001b[38;5;241m.\u001b[39mlayered\n\u001b[0;32m   2459\u001b[0m ):\n",
      "File \u001b[1;32m~\\anaconda3\\envs\\gmdsitut\\Lib\\site-packages\\flopy\\mf6\\data\\mffileaccess.py:598\u001b[0m, in \u001b[0;36mMFFileAccessArray.read_text_data_from_file\u001b[1;34m(self, data_size, data_type, data_dim, layer, layered, fname, fd)\u001b[0m\n\u001b[0;32m    597\u001b[0m     close_file \u001b[38;5;241m=\u001b[39m \u001b[38;5;28;01mTrue\u001b[39;00m\n\u001b[1;32m--> 598\u001b[0m     fd \u001b[38;5;241m=\u001b[39m \u001b[38;5;28;43mself\u001b[39;49m\u001b[38;5;241;43m.\u001b[39;49m\u001b[43m_open_ext_file\u001b[49m\u001b[43m(\u001b[49m\u001b[43mfname\u001b[49m\u001b[43m)\u001b[49m\n\u001b[0;32m    599\u001b[0m data_raw \u001b[38;5;241m=\u001b[39m []\n",
      "File \u001b[1;32m~\\anaconda3\\envs\\gmdsitut\\Lib\\site-packages\\flopy\\mf6\\data\\mffileaccess.py:168\u001b[0m, in \u001b[0;36mMFFileAccess._open_ext_file\u001b[1;34m(self, fname, binary, write)\u001b[0m\n\u001b[0;32m    167\u001b[0m type_, value_, traceback_ \u001b[38;5;241m=\u001b[39m sys\u001b[38;5;241m.\u001b[39mexc_info()\n\u001b[1;32m--> 168\u001b[0m \u001b[38;5;28;01mraise\u001b[39;00m MFDataException(\n\u001b[0;32m    169\u001b[0m     \u001b[38;5;28mself\u001b[39m\u001b[38;5;241m.\u001b[39m_data_dimensions\u001b[38;5;241m.\u001b[39mstructure\u001b[38;5;241m.\u001b[39mget_model(),\n\u001b[0;32m    170\u001b[0m     \u001b[38;5;28mself\u001b[39m\u001b[38;5;241m.\u001b[39m_data_dimensions\u001b[38;5;241m.\u001b[39mstructure\u001b[38;5;241m.\u001b[39mget_package(),\n\u001b[0;32m    171\u001b[0m     \u001b[38;5;28mself\u001b[39m\u001b[38;5;241m.\u001b[39m_data_dimensions\u001b[38;5;241m.\u001b[39mstructure\u001b[38;5;241m.\u001b[39mpath,\n\u001b[0;32m    172\u001b[0m     \u001b[38;5;124m\"\u001b[39m\u001b[38;5;124mopening external file for writing\u001b[39m\u001b[38;5;124m\"\u001b[39m,\n\u001b[0;32m    173\u001b[0m     \u001b[38;5;28mself\u001b[39m\u001b[38;5;241m.\u001b[39m_data_dimensions\u001b[38;5;241m.\u001b[39mstructure\u001b[38;5;241m.\u001b[39mname,\n\u001b[0;32m    174\u001b[0m     inspect\u001b[38;5;241m.\u001b[39mstack()[\u001b[38;5;241m0\u001b[39m][\u001b[38;5;241m3\u001b[39m],\n\u001b[0;32m    175\u001b[0m     type_,\n\u001b[0;32m    176\u001b[0m     value_,\n\u001b[0;32m    177\u001b[0m     traceback_,\n\u001b[0;32m    178\u001b[0m     message,\n\u001b[0;32m    179\u001b[0m     \u001b[38;5;28mself\u001b[39m\u001b[38;5;241m.\u001b[39m_simulation_data\u001b[38;5;241m.\u001b[39mdebug,\n\u001b[0;32m    180\u001b[0m )\n",
      "\u001b[1;31mMFDataException\u001b[0m: An error occurred in data element \"botm\" model \"gwf6\" package \"dis\". The error occurred while opening external file for writing in the \"_open_ext_file\" method.\nAdditional Information:\n(1) Unable to open file E:\\15_REPOS\\00_BETAMI\\02_floPy__________________\\04a_Pleasant_Lake\\00_______________\\WS\\../data/botm_000.dat in mode r.  Make sure the file is not locked and the folder exists.",
      "\nDuring handling of the above exception, another exception occurred:\n",
      "\u001b[1;31mMFDataException\u001b[0m                           Traceback (most recent call last)",
      "File \u001b[1;32m~\\anaconda3\\envs\\gmdsitut\\Lib\\site-packages\\flopy\\mf6\\mfpackage.py:620\u001b[0m, in \u001b[0;36mMFBlock.add_dataset\u001b[1;34m(self, dataset_struct, data, var_path)\u001b[0m\n\u001b[0;32m    619\u001b[0m \u001b[38;5;28;01mtry\u001b[39;00m:\n\u001b[1;32m--> 620\u001b[0m     \u001b[38;5;28mself\u001b[39m\u001b[38;5;241m.\u001b[39mdatasets[var_path[\u001b[38;5;241m-\u001b[39m\u001b[38;5;241m1\u001b[39m]] \u001b[38;5;241m=\u001b[39m \u001b[38;5;28;43mself\u001b[39;49m\u001b[38;5;241;43m.\u001b[39;49m\u001b[43mdata_factory\u001b[49m\u001b[43m(\u001b[49m\n\u001b[0;32m    621\u001b[0m \u001b[43m        \u001b[49m\u001b[38;5;28;43mself\u001b[39;49m\u001b[38;5;241;43m.\u001b[39;49m\u001b[43m_simulation_data\u001b[49m\u001b[43m,\u001b[49m\n\u001b[0;32m    622\u001b[0m \u001b[43m        \u001b[49m\u001b[38;5;28;43mself\u001b[39;49m\u001b[38;5;241;43m.\u001b[39;49m\u001b[43m_model_or_sim\u001b[49m\u001b[43m,\u001b[49m\n\u001b[0;32m    623\u001b[0m \u001b[43m        \u001b[49m\u001b[43mdataset_struct\u001b[49m\u001b[43m,\u001b[49m\n\u001b[0;32m    624\u001b[0m \u001b[43m        \u001b[49m\u001b[38;5;28;43;01mTrue\u001b[39;49;00m\u001b[43m,\u001b[49m\n\u001b[0;32m    625\u001b[0m \u001b[43m        \u001b[49m\u001b[43mvar_path\u001b[49m\u001b[43m,\u001b[49m\n\u001b[0;32m    626\u001b[0m \u001b[43m        \u001b[49m\u001b[38;5;28;43mself\u001b[39;49m\u001b[38;5;241;43m.\u001b[39;49m\u001b[43m_dimensions\u001b[49m\u001b[43m,\u001b[49m\n\u001b[0;32m    627\u001b[0m \u001b[43m        \u001b[49m\u001b[43mdata\u001b[49m\u001b[43m,\u001b[49m\n\u001b[0;32m    628\u001b[0m \u001b[43m        \u001b[49m\u001b[38;5;28;43mself\u001b[39;49m\u001b[38;5;241;43m.\u001b[39;49m\u001b[43m_container_package\u001b[49m\u001b[43m,\u001b[49m\n\u001b[0;32m    629\u001b[0m \u001b[43m    \u001b[49m\u001b[43m)\u001b[49m\n\u001b[0;32m    630\u001b[0m \u001b[38;5;28;01mexcept\u001b[39;00m MFDataException \u001b[38;5;28;01mas\u001b[39;00m mfde:\n",
      "File \u001b[1;32m~\\anaconda3\\envs\\gmdsitut\\Lib\\site-packages\\flopy\\mf6\\mfpackage.py:505\u001b[0m, in \u001b[0;36mMFBlock.data_factory\u001b[1;34m(self, sim_data, model_or_sim, structure, enable, path, dimensions, data, package)\u001b[0m\n\u001b[0;32m    504\u001b[0m \u001b[38;5;28;01mif\u001b[39;00m structure\u001b[38;5;241m.\u001b[39mbasic_item \u001b[38;5;129;01mand\u001b[39;00m \u001b[38;5;28mself\u001b[39m\u001b[38;5;241m.\u001b[39m_simulation_data\u001b[38;5;241m.\u001b[39muse_pandas:\n\u001b[1;32m--> 505\u001b[0m     trans_list \u001b[38;5;241m=\u001b[39m \u001b[43mmfdataplist\u001b[49m\u001b[38;5;241;43m.\u001b[39;49m\u001b[43mMFPandasTransientList\u001b[49m\u001b[43m(\u001b[49m\n\u001b[0;32m    506\u001b[0m \u001b[43m        \u001b[49m\u001b[43msim_data\u001b[49m\u001b[43m,\u001b[49m\n\u001b[0;32m    507\u001b[0m \u001b[43m        \u001b[49m\u001b[43mmodel_or_sim\u001b[49m\u001b[43m,\u001b[49m\n\u001b[0;32m    508\u001b[0m \u001b[43m        \u001b[49m\u001b[43mstructure\u001b[49m\u001b[43m,\u001b[49m\n\u001b[0;32m    509\u001b[0m \u001b[43m        \u001b[49m\u001b[43menable\u001b[49m\u001b[43m,\u001b[49m\n\u001b[0;32m    510\u001b[0m \u001b[43m        \u001b[49m\u001b[43mpath\u001b[49m\u001b[43m,\u001b[49m\n\u001b[0;32m    511\u001b[0m \u001b[43m        \u001b[49m\u001b[43mdimensions\u001b[49m\u001b[43m,\u001b[49m\n\u001b[0;32m    512\u001b[0m \u001b[43m        \u001b[49m\u001b[43mpackage\u001b[49m\u001b[43m,\u001b[49m\n\u001b[0;32m    513\u001b[0m \u001b[43m        \u001b[49m\u001b[38;5;28;43mself\u001b[39;49m\u001b[43m,\u001b[49m\n\u001b[0;32m    514\u001b[0m \u001b[43m    \u001b[49m\u001b[43m)\u001b[49m\n\u001b[0;32m    515\u001b[0m \u001b[38;5;28;01melse\u001b[39;00m:\n",
      "File \u001b[1;32m~\\anaconda3\\envs\\gmdsitut\\Lib\\site-packages\\flopy\\mf6\\data\\mfdataplist.py:1971\u001b[0m, in \u001b[0;36mMFPandasTransientList.__init__\u001b[1;34m(self, sim_data, model_or_sim, structure, enable, path, dimensions, package, block)\u001b[0m\n\u001b[0;32m   1960\u001b[0m \u001b[38;5;28;01mdef\u001b[39;00m \u001b[38;5;21m__init__\u001b[39m(\n\u001b[0;32m   1961\u001b[0m     \u001b[38;5;28mself\u001b[39m,\n\u001b[0;32m   1962\u001b[0m     sim_data,\n\u001b[1;32m   (...)\u001b[0m\n\u001b[0;32m   1969\u001b[0m     block\u001b[38;5;241m=\u001b[39m\u001b[38;5;28;01mNone\u001b[39;00m,\n\u001b[0;32m   1970\u001b[0m ):\n\u001b[1;32m-> 1971\u001b[0m     \u001b[38;5;28;43msuper\u001b[39;49m\u001b[43m(\u001b[49m\u001b[43m)\u001b[49m\u001b[38;5;241;43m.\u001b[39;49m\u001b[38;5;21;43m__init__\u001b[39;49m\u001b[43m(\u001b[49m\n\u001b[0;32m   1972\u001b[0m \u001b[43m        \u001b[49m\u001b[43msim_data\u001b[49m\u001b[38;5;241;43m=\u001b[39;49m\u001b[43msim_data\u001b[49m\u001b[43m,\u001b[49m\n\u001b[0;32m   1973\u001b[0m \u001b[43m        \u001b[49m\u001b[43mmodel_or_sim\u001b[49m\u001b[38;5;241;43m=\u001b[39;49m\u001b[43mmodel_or_sim\u001b[49m\u001b[43m,\u001b[49m\n\u001b[0;32m   1974\u001b[0m \u001b[43m        \u001b[49m\u001b[43mstructure\u001b[49m\u001b[38;5;241;43m=\u001b[39;49m\u001b[43mstructure\u001b[49m\u001b[43m,\u001b[49m\n\u001b[0;32m   1975\u001b[0m \u001b[43m        \u001b[49m\u001b[43mdata\u001b[49m\u001b[38;5;241;43m=\u001b[39;49m\u001b[38;5;28;43;01mNone\u001b[39;49;00m\u001b[43m,\u001b[49m\n\u001b[0;32m   1976\u001b[0m \u001b[43m        \u001b[49m\u001b[43menable\u001b[49m\u001b[38;5;241;43m=\u001b[39;49m\u001b[43menable\u001b[49m\u001b[43m,\u001b[49m\n\u001b[0;32m   1977\u001b[0m \u001b[43m        \u001b[49m\u001b[43mpath\u001b[49m\u001b[38;5;241;43m=\u001b[39;49m\u001b[43mpath\u001b[49m\u001b[43m,\u001b[49m\n\u001b[0;32m   1978\u001b[0m \u001b[43m        \u001b[49m\u001b[43mdimensions\u001b[49m\u001b[38;5;241;43m=\u001b[39;49m\u001b[43mdimensions\u001b[49m\u001b[43m,\u001b[49m\n\u001b[0;32m   1979\u001b[0m \u001b[43m        \u001b[49m\u001b[43mpackage\u001b[49m\u001b[38;5;241;43m=\u001b[39;49m\u001b[43mpackage\u001b[49m\u001b[43m,\u001b[49m\n\u001b[0;32m   1980\u001b[0m \u001b[43m        \u001b[49m\u001b[43mblock\u001b[49m\u001b[38;5;241;43m=\u001b[39;49m\u001b[43mblock\u001b[49m\u001b[43m,\u001b[49m\n\u001b[0;32m   1981\u001b[0m \u001b[43m    \u001b[49m\u001b[43m)\u001b[49m\n\u001b[0;32m   1982\u001b[0m     \u001b[38;5;28mself\u001b[39m\u001b[38;5;241m.\u001b[39mrepeating \u001b[38;5;241m=\u001b[39m \u001b[38;5;28;01mTrue\u001b[39;00m\n",
      "File \u001b[1;32m~\\anaconda3\\envs\\gmdsitut\\Lib\\site-packages\\flopy\\mf6\\data\\mfdataplist.py:227\u001b[0m, in \u001b[0;36mMFPandasList.__init__\u001b[1;34m(self, sim_data, model_or_sim, structure, data, enable, path, dimensions, package, block)\u001b[0m\n\u001b[0;32m    226\u001b[0m \u001b[38;5;28;01mif\u001b[39;00m \u001b[38;5;28mself\u001b[39m\u001b[38;5;241m.\u001b[39m_model_or_sim\u001b[38;5;241m.\u001b[39mtype \u001b[38;5;241m==\u001b[39m \u001b[38;5;124m\"\u001b[39m\u001b[38;5;124mModel\u001b[39m\u001b[38;5;124m\"\u001b[39m:\n\u001b[1;32m--> 227\u001b[0m     \u001b[38;5;28mself\u001b[39m\u001b[38;5;241m.\u001b[39m_mg \u001b[38;5;241m=\u001b[39m \u001b[38;5;28;43mself\u001b[39;49m\u001b[38;5;241;43m.\u001b[39;49m\u001b[43m_model_or_sim\u001b[49m\u001b[38;5;241;43m.\u001b[39;49m\u001b[43mmodelgrid\u001b[49m\n\u001b[0;32m    229\u001b[0m \u001b[38;5;28;01mif\u001b[39;00m data \u001b[38;5;129;01mis\u001b[39;00m \u001b[38;5;129;01mnot\u001b[39;00m \u001b[38;5;28;01mNone\u001b[39;00m:\n",
      "File \u001b[1;32m~\\anaconda3\\envs\\gmdsitut\\Lib\\site-packages\\flopy\\mf6\\mfmodel.py:379\u001b[0m, in \u001b[0;36mMFModel.modelgrid\u001b[1;34m(self)\u001b[0m\n\u001b[0;32m    378\u001b[0m \u001b[38;5;28;01melse\u001b[39;00m:\n\u001b[1;32m--> 379\u001b[0m     botm \u001b[38;5;241m=\u001b[39m \u001b[43mdis\u001b[49m\u001b[38;5;241;43m.\u001b[39;49m\u001b[43mbotm\u001b[49m\u001b[38;5;241;43m.\u001b[39;49m\u001b[43marray\u001b[49m\n\u001b[0;32m    380\u001b[0m     idomain \u001b[38;5;241m=\u001b[39m dis\u001b[38;5;241m.\u001b[39midomain\u001b[38;5;241m.\u001b[39marray\n",
      "File \u001b[1;32m~\\anaconda3\\envs\\gmdsitut\\Lib\\site-packages\\flopy\\mf6\\data\\mfdata.py:300\u001b[0m, in \u001b[0;36mMFData.array\u001b[1;34m(self)\u001b[0m\n\u001b[0;32m    299\u001b[0m kwargs \u001b[38;5;241m=\u001b[39m {\u001b[38;5;124m\"\u001b[39m\u001b[38;5;124marray\u001b[39m\u001b[38;5;124m\"\u001b[39m: \u001b[38;5;28;01mTrue\u001b[39;00m}\n\u001b[1;32m--> 300\u001b[0m \u001b[38;5;28;01mreturn\u001b[39;00m \u001b[38;5;28;43mself\u001b[39;49m\u001b[38;5;241;43m.\u001b[39;49m\u001b[43mget_data\u001b[49m\u001b[43m(\u001b[49m\u001b[43mapply_mult\u001b[49m\u001b[38;5;241;43m=\u001b[39;49m\u001b[38;5;28;43;01mTrue\u001b[39;49;00m\u001b[43m,\u001b[49m\u001b[43m \u001b[49m\u001b[38;5;241;43m*\u001b[39;49m\u001b[38;5;241;43m*\u001b[39;49m\u001b[43mkwargs\u001b[49m\u001b[43m)\u001b[49m\n",
      "File \u001b[1;32m~\\anaconda3\\envs\\gmdsitut\\Lib\\site-packages\\flopy\\mf6\\data\\mfdataarray.py:721\u001b[0m, in \u001b[0;36mMFArray.get_data\u001b[1;34m(self, layer, apply_mult, **kwargs)\u001b[0m\n\u001b[0;32m    708\u001b[0m \u001b[38;5;250m\u001b[39m\u001b[38;5;124;03m\"\"\"Returns the data associated with layer \"layer\".  If \"layer\"\u001b[39;00m\n\u001b[0;32m    709\u001b[0m \u001b[38;5;124;03mis None, returns all data.\u001b[39;00m\n\u001b[0;32m    710\u001b[0m \n\u001b[1;32m   (...)\u001b[0m\n\u001b[0;32m    719\u001b[0m \n\u001b[0;32m    720\u001b[0m \u001b[38;5;124;03m\"\"\"\u001b[39;00m\n\u001b[1;32m--> 721\u001b[0m \u001b[38;5;28;01mreturn\u001b[39;00m \u001b[38;5;28;43mself\u001b[39;49m\u001b[38;5;241;43m.\u001b[39;49m\u001b[43m_get_data\u001b[49m\u001b[43m(\u001b[49m\u001b[43mlayer\u001b[49m\u001b[43m,\u001b[49m\u001b[43m \u001b[49m\u001b[43mapply_mult\u001b[49m\u001b[43m,\u001b[49m\u001b[43m \u001b[49m\u001b[38;5;241;43m*\u001b[39;49m\u001b[38;5;241;43m*\u001b[39;49m\u001b[43mkwargs\u001b[49m\u001b[43m)\u001b[49m\n",
      "File \u001b[1;32m~\\anaconda3\\envs\\gmdsitut\\Lib\\site-packages\\flopy\\mf6\\data\\mfdataarray.py:742\u001b[0m, in \u001b[0;36mMFArray._get_data\u001b[1;34m(self, layer, apply_mult, **kwargs)\u001b[0m\n\u001b[0;32m    741\u001b[0m         type_, value_, traceback_ \u001b[38;5;241m=\u001b[39m sys\u001b[38;5;241m.\u001b[39mexc_info()\n\u001b[1;32m--> 742\u001b[0m         \u001b[38;5;28;01mraise\u001b[39;00m MFDataException(\n\u001b[0;32m    743\u001b[0m             \u001b[38;5;28mself\u001b[39m\u001b[38;5;241m.\u001b[39mstructure\u001b[38;5;241m.\u001b[39mget_model(),\n\u001b[0;32m    744\u001b[0m             \u001b[38;5;28mself\u001b[39m\u001b[38;5;241m.\u001b[39mstructure\u001b[38;5;241m.\u001b[39mget_package(),\n\u001b[0;32m    745\u001b[0m             \u001b[38;5;28mself\u001b[39m\u001b[38;5;241m.\u001b[39m_path,\n\u001b[0;32m    746\u001b[0m             \u001b[38;5;124m\"\u001b[39m\u001b[38;5;124mgetting data\u001b[39m\u001b[38;5;124m\"\u001b[39m,\n\u001b[0;32m    747\u001b[0m             \u001b[38;5;28mself\u001b[39m\u001b[38;5;241m.\u001b[39mstructure\u001b[38;5;241m.\u001b[39mname,\n\u001b[0;32m    748\u001b[0m             inspect\u001b[38;5;241m.\u001b[39mstack()[\u001b[38;5;241m0\u001b[39m][\u001b[38;5;241m3\u001b[39m],\n\u001b[0;32m    749\u001b[0m             type_,\n\u001b[0;32m    750\u001b[0m             value_,\n\u001b[0;32m    751\u001b[0m             traceback_,\n\u001b[0;32m    752\u001b[0m             \u001b[38;5;28;01mNone\u001b[39;00m,\n\u001b[0;32m    753\u001b[0m             \u001b[38;5;28mself\u001b[39m\u001b[38;5;241m.\u001b[39m_simulation_data\u001b[38;5;241m.\u001b[39mdebug,\n\u001b[0;32m    754\u001b[0m             ex,\n\u001b[0;32m    755\u001b[0m         )\n\u001b[0;32m    756\u001b[0m \u001b[38;5;28;01mreturn\u001b[39;00m \u001b[38;5;28;01mNone\u001b[39;00m\n",
      "\u001b[1;31mMFDataException\u001b[0m: An error occurred in data element \"botm\" model \"gwf6\" package \"dis\". The error occurred while getting data in the \"_get_data\" method.\nAdditional Information:\n(1) Unable to open file E:\\15_REPOS\\00_BETAMI\\02_floPy__________________\\04a_Pleasant_Lake\\00_______________\\WS\\../data/botm_000.dat in mode r.  Make sure the file is not locked and the folder exists.",
      "\nDuring handling of the above exception, another exception occurred:\n",
      "\u001b[1;31mMFDataException\u001b[0m                           Traceback (most recent call last)",
      "Cell \u001b[1;32mIn[24], line 1\u001b[0m\n\u001b[1;32m----> 1\u001b[0m chd   \u001b[38;5;241m=\u001b[39m \u001b[43mmf6\u001b[49m\u001b[38;5;241;43m.\u001b[39;49m\u001b[43mModflowGwfchd\u001b[49m\u001b[43m  \u001b[49m\u001b[43m(\u001b[49m\u001b[43mgwf\u001b[49m\u001b[43m,\u001b[49m\u001b[43m \u001b[49m\u001b[43mstress_period_data\u001b[49m\u001b[38;5;241;43m=\u001b[39;49m\u001b[43mspec_head_perimeter\u001b[49m\u001b[43m)\u001b[49m     \n",
      "File \u001b[1;32m~\\anaconda3\\envs\\gmdsitut\\Lib\\site-packages\\flopy\\mf6\\modflow\\mfgwfchd.py:363\u001b[0m, in \u001b[0;36mModflowGwfchd.__init__\u001b[1;34m(self, model, loading_package, auxiliary, auxmultname, boundnames, print_input, print_flows, save_flows, timeseries, observations, dev_no_newton, maxbound, stress_period_data, filename, pname, **kwargs)\u001b[0m\n\u001b[0;32m    361\u001b[0m \u001b[38;5;28mself\u001b[39m\u001b[38;5;241m.\u001b[39mdev_no_newton \u001b[38;5;241m=\u001b[39m \u001b[38;5;28mself\u001b[39m\u001b[38;5;241m.\u001b[39mbuild_mfdata(\u001b[38;5;124m\"\u001b[39m\u001b[38;5;124mdev_no_newton\u001b[39m\u001b[38;5;124m\"\u001b[39m, dev_no_newton)\n\u001b[0;32m    362\u001b[0m \u001b[38;5;28mself\u001b[39m\u001b[38;5;241m.\u001b[39mmaxbound \u001b[38;5;241m=\u001b[39m \u001b[38;5;28mself\u001b[39m\u001b[38;5;241m.\u001b[39mbuild_mfdata(\u001b[38;5;124m\"\u001b[39m\u001b[38;5;124mmaxbound\u001b[39m\u001b[38;5;124m\"\u001b[39m, maxbound)\n\u001b[1;32m--> 363\u001b[0m \u001b[38;5;28mself\u001b[39m\u001b[38;5;241m.\u001b[39mstress_period_data \u001b[38;5;241m=\u001b[39m \u001b[38;5;28;43mself\u001b[39;49m\u001b[38;5;241;43m.\u001b[39;49m\u001b[43mbuild_mfdata\u001b[49m\u001b[43m(\u001b[49m\n\u001b[0;32m    364\u001b[0m \u001b[43m    \u001b[49m\u001b[38;5;124;43m\"\u001b[39;49m\u001b[38;5;124;43mstress_period_data\u001b[39;49m\u001b[38;5;124;43m\"\u001b[39;49m\u001b[43m,\u001b[49m\u001b[43m \u001b[49m\u001b[43mstress_period_data\u001b[49m\n\u001b[0;32m    365\u001b[0m \u001b[43m\u001b[49m\u001b[43m)\u001b[49m\n\u001b[0;32m    366\u001b[0m \u001b[38;5;28mself\u001b[39m\u001b[38;5;241m.\u001b[39m_init_complete \u001b[38;5;241m=\u001b[39m \u001b[38;5;28;01mTrue\u001b[39;00m\n",
      "File \u001b[1;32m~\\anaconda3\\envs\\gmdsitut\\Lib\\site-packages\\flopy\\mf6\\mfpackage.py:2668\u001b[0m, in \u001b[0;36mMFPackage.build_mfdata\u001b[1;34m(self, var_name, data)\u001b[0m\n\u001b[0;32m   2666\u001b[0m dataset_struct \u001b[38;5;241m=\u001b[39m block\u001b[38;5;241m.\u001b[39mdata_structures[var_name]\n\u001b[0;32m   2667\u001b[0m var_path \u001b[38;5;241m=\u001b[39m \u001b[38;5;28mself\u001b[39m\u001b[38;5;241m.\u001b[39mpath \u001b[38;5;241m+\u001b[39m (key, var_name)\n\u001b[1;32m-> 2668\u001b[0m ds \u001b[38;5;241m=\u001b[39m \u001b[38;5;28;43mself\u001b[39;49m\u001b[38;5;241;43m.\u001b[39;49m\u001b[43mblocks\u001b[49m\u001b[43m[\u001b[49m\u001b[43mblock\u001b[49m\u001b[38;5;241;43m.\u001b[39;49m\u001b[43mname\u001b[49m\u001b[43m]\u001b[49m\u001b[38;5;241;43m.\u001b[39;49m\u001b[43madd_dataset\u001b[49m\u001b[43m(\u001b[49m\n\u001b[0;32m   2669\u001b[0m \u001b[43m    \u001b[49m\u001b[43mdataset_struct\u001b[49m\u001b[43m,\u001b[49m\u001b[43m \u001b[49m\u001b[43mdata\u001b[49m\u001b[43m,\u001b[49m\u001b[43m \u001b[49m\u001b[43mvar_path\u001b[49m\n\u001b[0;32m   2670\u001b[0m \u001b[43m\u001b[49m\u001b[43m)\u001b[49m\n\u001b[0;32m   2671\u001b[0m \u001b[38;5;28mself\u001b[39m\u001b[38;5;241m.\u001b[39m_data_list\u001b[38;5;241m.\u001b[39mappend(ds)\n\u001b[0;32m   2672\u001b[0m \u001b[38;5;28;01mreturn\u001b[39;00m ds\n",
      "File \u001b[1;32m~\\anaconda3\\envs\\gmdsitut\\Lib\\site-packages\\flopy\\mf6\\mfpackage.py:631\u001b[0m, in \u001b[0;36mMFBlock.add_dataset\u001b[1;34m(self, dataset_struct, data, var_path)\u001b[0m\n\u001b[0;32m    620\u001b[0m     \u001b[38;5;28mself\u001b[39m\u001b[38;5;241m.\u001b[39mdatasets[var_path[\u001b[38;5;241m-\u001b[39m\u001b[38;5;241m1\u001b[39m]] \u001b[38;5;241m=\u001b[39m \u001b[38;5;28mself\u001b[39m\u001b[38;5;241m.\u001b[39mdata_factory(\n\u001b[0;32m    621\u001b[0m         \u001b[38;5;28mself\u001b[39m\u001b[38;5;241m.\u001b[39m_simulation_data,\n\u001b[0;32m    622\u001b[0m         \u001b[38;5;28mself\u001b[39m\u001b[38;5;241m.\u001b[39m_model_or_sim,\n\u001b[1;32m   (...)\u001b[0m\n\u001b[0;32m    628\u001b[0m         \u001b[38;5;28mself\u001b[39m\u001b[38;5;241m.\u001b[39m_container_package,\n\u001b[0;32m    629\u001b[0m     )\n\u001b[0;32m    630\u001b[0m \u001b[38;5;28;01mexcept\u001b[39;00m MFDataException \u001b[38;5;28;01mas\u001b[39;00m mfde:\n\u001b[1;32m--> 631\u001b[0m     \u001b[38;5;28;01mraise\u001b[39;00m MFDataException(\n\u001b[0;32m    632\u001b[0m         mfdata_except\u001b[38;5;241m=\u001b[39mmfde,\n\u001b[0;32m    633\u001b[0m         model\u001b[38;5;241m=\u001b[39m\u001b[38;5;28mself\u001b[39m\u001b[38;5;241m.\u001b[39m_container_package\u001b[38;5;241m.\u001b[39mmodel_name,\n\u001b[0;32m    634\u001b[0m         package\u001b[38;5;241m=\u001b[39m\u001b[38;5;28mself\u001b[39m\u001b[38;5;241m.\u001b[39m_container_package\u001b[38;5;241m.\u001b[39m_get_pname(),\n\u001b[0;32m    635\u001b[0m         message\u001b[38;5;241m=\u001b[39m\u001b[38;5;124m\"\u001b[39m\u001b[38;5;124mError occurred while adding\u001b[39m\u001b[38;5;124m\"\u001b[39m\n\u001b[0;32m    636\u001b[0m         \u001b[38;5;124m'\u001b[39m\u001b[38;5;124m dataset \u001b[39m\u001b[38;5;124m\"\u001b[39m\u001b[38;5;132;01m{}\u001b[39;00m\u001b[38;5;124m\"\u001b[39m\u001b[38;5;124m to block \u001b[39m\u001b[38;5;124m'\u001b[39m\n\u001b[0;32m    637\u001b[0m         \u001b[38;5;124m'\u001b[39m\u001b[38;5;124m\"\u001b[39m\u001b[38;5;132;01m{}\u001b[39;00m\u001b[38;5;124m\"\u001b[39m\u001b[38;5;124m'\u001b[39m\u001b[38;5;241m.\u001b[39mformat(dataset_struct\u001b[38;5;241m.\u001b[39mname, \u001b[38;5;28mself\u001b[39m\u001b[38;5;241m.\u001b[39mstructure\u001b[38;5;241m.\u001b[39mname),\n\u001b[0;32m    638\u001b[0m     )\n\u001b[0;32m    640\u001b[0m \u001b[38;5;28mself\u001b[39m\u001b[38;5;241m.\u001b[39m_simulation_data\u001b[38;5;241m.\u001b[39mmfdata[var_path] \u001b[38;5;241m=\u001b[39m \u001b[38;5;28mself\u001b[39m\u001b[38;5;241m.\u001b[39mdatasets[var_path[\u001b[38;5;241m-\u001b[39m\u001b[38;5;241m1\u001b[39m]]\n\u001b[0;32m    641\u001b[0m dtype \u001b[38;5;241m=\u001b[39m dataset_struct\u001b[38;5;241m.\u001b[39mget_datatype()\n",
      "\u001b[1;31mMFDataException\u001b[0m: An error occurred in data element \"botm\" model \"B_pleasant\" package \"chd_0\". The error occurred while getting data in the \"_get_data\" method.\nAdditional Information:\n(1) Unable to open file E:\\15_REPOS\\00_BETAMI\\02_floPy__________________\\04a_Pleasant_Lake\\00_______________\\WS\\../data/botm_000.dat in mode r.  Make sure the file is not locked and the folder exists.\n(2) Error occurred while adding dataset \"stress_period_data\" to block \"period\""
     ]
    }
   ],
   "source": [
    "chd   = mf6.ModflowGwfchd  (gwf, stress_period_data=spec_head_perimeter)     "
   ]
  },
  {
   "cell_type": "code",
   "execution_count": null,
   "id": "c844da1e-394a-4c20-912f-d198065b2144",
   "metadata": {},
   "outputs": [],
   "source": [
    "chd   = mf6.ModflowGwfchd  (gwf, stress_period_data=spec_head_perimeter)     \n",
    "lak   = mf6.ModflowGwflak  (gwf, boundnames=True, nlakes=1, connectiondata={'filename': '../data/lake_cn.dat'},\n",
    "    packagedata=[[0, 290.85, 345, 'lake1']],perioddata={0: [[0, 'evaporation', 0.000715], [0, 'rainfall', 0.00209]]},surfdep=0.1)"
   ]
  },
  {
   "cell_type": "code",
   "execution_count": null,
   "id": "2354f3de-274c-4e69-b333-4405a35be23b",
   "metadata": {},
   "outputs": [],
   "source": [
    "gwf.modelgrid.set_coord_info(xoff=xoffset, yoff=yoffset, crs=epsg)"
   ]
  }
 ],
 "metadata": {
  "kernelspec": {
   "display_name": "Python 3 (ipykernel)",
   "language": "python",
   "name": "python3"
  },
  "language_info": {
   "codemirror_mode": {
    "name": "ipython",
    "version": 3
   },
   "file_extension": ".py",
   "mimetype": "text/x-python",
   "name": "python",
   "nbconvert_exporter": "python",
   "pygments_lexer": "ipython3",
   "version": "3.11.11"
  }
 },
 "nbformat": 4,
 "nbformat_minor": 5
}
