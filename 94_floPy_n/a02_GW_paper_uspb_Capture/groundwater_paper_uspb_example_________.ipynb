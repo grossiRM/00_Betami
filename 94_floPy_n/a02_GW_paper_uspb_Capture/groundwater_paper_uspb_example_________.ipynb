{
 "cells": [
  {
   "cell_type": "markdown",
   "id": "257227b0",
   "metadata": {},
   "source": [
    "### <font color='red'> Afterwords, delete large folders ______ ... make in temp directory! </font>"
   ]
  },
  {
   "cell_type": "code",
   "execution_count": 1,
   "id": "cf2c8708",
   "metadata": {},
   "outputs": [],
   "source": [
    "import shutil"
   ]
  },
  {
   "cell_type": "code",
   "execution_count": 3,
   "id": "e803fc80",
   "metadata": {},
   "outputs": [],
   "source": [
    "shutil.rmtree('.docs')             # del\n",
    "shutil.rmtree('Beta_temp_out')     # del"
   ]
  },
  {
   "cell_type": "markdown",
   "id": "5a9ff60f",
   "metadata": {},
   "source": [
    "# `Capture fraction example` "
   ]
  },
  {
   "cell_type": "code",
   "execution_count": 1,
   "id": "a79a508e",
   "metadata": {},
   "outputs": [],
   "source": [
    "import os\n",
    "import sys\n",
    "import pooch\n",
    "import flopy\n",
    "import scipy.ndimage\n",
    "\n",
    "import numpy as np\n",
    "import matplotlib as mpl\n",
    "import matplotlib.pyplot as plt\n",
    "\n",
    "\n",
    "from pathlib import Path\n",
    "from pprint import pformat"
   ]
  },
  {
   "cell_type": "code",
   "execution_count": 2,
   "id": "6e0b9c76",
   "metadata": {},
   "outputs": [],
   "source": [
    "ws = os.path.join(\"Beta_temp_out\")\n",
    "if not os.path.exists(ws):\n",
    "    os.makedirs(ws)"
   ]
  },
  {
   "cell_type": "code",
   "execution_count": 3,
   "id": "3ace5f8a",
   "metadata": {},
   "outputs": [],
   "source": [
    "try:\n",
    "    root = Path(git.Repo(\".\", search_parent_directories=True).working_dir)\n",
    "except:\n",
    "    root = None"
   ]
  },
  {
   "cell_type": "code",
   "execution_count": 4,
   "id": "560fbdb4",
   "metadata": {},
   "outputs": [],
   "source": [
    "data_path = root / \".docs\" / \"groundwater_paper\" if root else Path.cwd()"
   ]
  },
  {
   "cell_type": "markdown",
   "id": "f40e4577",
   "metadata": {},
   "source": [
    "### `Pre_definitions_IN`"
   ]
  },
  {
   "cell_type": "code",
   "execution_count": null,
   "id": "c37baaf5",
   "metadata": {},
   "outputs": [],
   "source": [
    "fname = \"USPB_capture_fraction_04_01.dat\"                 # \n",
    "pooch.retrieve(\n",
    "    url=f\"https://github.com/modflowpy/flopy/raw/develop/.docs/groundwater_paper/uspb/results/{fname}\",   # IN\n",
    "    fname=fname,\n",
    "    path=data_path / \"uspb_out\" / \"results_out\",                                                          # OUT  \n",
    "    known_hash=None,\n",
    ")"
   ]
  },
  {
   "cell_type": "code",
   "execution_count": null,
   "id": "fbee164e",
   "metadata": {},
   "outputs": [],
   "source": [
    "fn = data_path / \"uspb_out\" / \"results_out\" / fname                \n",
    "cf = np.loadtxt(fn)                                        # ______ cf  _______ fn  _______ fname"
   ]
  },
  {
   "cell_type": "markdown",
   "id": "dd673162",
   "metadata": {},
   "source": [
    "### ` Just printing`\n",
    "print(cf.shape)\n",
    "cf2 = scipy.ndimage.zoom(cf, 4, order=0)\n",
    "print(cf2.shape)\n",
    "c = plt.imshow(cf2, cmap=\"jet\")\n",
    "plt.colorbar(c)"
   ]
  },
  {
   "cell_type": "markdown",
   "id": "5c5f74f3",
   "metadata": {},
   "source": [
    "## ` Flopy`        <font color='red'>______ Large folder needed (.docs) ______ </font>"
   ]
  },
  {
   "cell_type": "code",
   "execution_count": null,
   "id": "ec260fa0",
   "metadata": {},
   "outputs": [],
   "source": [
    "wsl = data_path / \".docs\" / \"groundwater_paper\" / \"uspb_prep\" / \"flopy_prep\"    # IN\n",
    "ml = flopy.modflow.Modflow.load(\"DG.nam\", model_ws=wsl, verbose=False)                 # ml"
   ]
  },
  {
   "cell_type": "code",
   "execution_count": null,
   "id": "c4212cc5",
   "metadata": {},
   "outputs": [],
   "source": [
    "nlay, nrow, ncol = ml.nlay, ml.dis.nrow, ml.dis.ncol\n",
    "xmax, ymax = ncol * 250.0, nrow * 250.0"
   ]
  },
  {
   "cell_type": "code",
   "execution_count": null,
   "id": "6a53c702-0b76-4f8c-9b0d-d6e858c63f56",
   "metadata": {},
   "outputs": [],
   "source": [
    "## ` Just ploting figure ___ `\n",
    "plt.rcParams.update({\"font.size\": 6})\n",
    "fig = plt.figure(figsize=(3.25, 4.47))\n",
    "ax1 = plt.gca()\n",
    "ax1.set_aspect(\"equal\")\n",
    "mm1 = flopy.plot.PlotMapView(model=ml, layer=4)\n",
    "plt.xlim(0, xmax)\n",
    "plt.ylim(0, ymax)\n",
    "mm1.plot_inactive(color_noflow=\"0.75\")\n",
    "c = plt.imshow(cf2, cmap=\"jet\", extent=[0, ncol * 250.0, 0, nrow * 250.0])\n",
    "cb = plt.colorbar(c, shrink=0.5)\n",
    "cb.ax.set_ylabel(\"Layer 4 capture fraction\")\n",
    "mm1.plot_bc(ftype=\"STR\", plotAll=True)\n",
    "\n",
    "plt.plot(\n",
    "    [-10000], [-10000], marker=\"s\", ms=10, lw=0.0,\n",
    "    mec=\"0.2\",\n",
    "    mfc=\"white\",\n",
    "    label=\"Maximum active model extent\",)\n",
    "\n",
    "plt.plot(\n",
    "    [-10000, 0], [-10000, 0], color=\"purple\", lw=0.75, label=\"STR reaches (all layers)\")\n",
    "\n",
    "leg = plt.legend(loc=\"upper left\", numpoints=1, prop={\"size\": 6})\n",
    "leg.draw_frame(False)\n",
    "plt.xticks([0, 20000, 40000, 60000, 80000])\n",
    "plt.tight_layout()\n",
    "plt.savefig(os.path.join(ws, \"Beta_saved_capture_fraction_010y.png\"), dpi=300)"
   ]
  },
  {
   "cell_type": "markdown",
   "id": "e818bfeb",
   "metadata": {},
   "source": [
    "### Check out. ___ How :     `  ...\\ Beta_temp_outz\\DG.nam and others`"
   ]
  },
  {
   "cell_type": "code",
   "execution_count": null,
   "id": "689bd907",
   "metadata": {},
   "outputs": [],
   "source": [
    "ml.change_model_ws(ws)                             # local, ____  ws = os.path.join(\"Beta_temp_out\")\n",
    "ml.exe_name = \"mf2005dbl\"\n",
    "ml.write_input()                                   # write_input\n",
    "success, buff = ml.run_model(silent=True)                            # ml\n",
    "assert success, pformat(buff)"
   ]
  },
  {
   "cell_type": "markdown",
   "id": "730b20f0",
   "metadata": {},
   "source": [
    "# `Then ... `  ___  flopy plotting package___fpp__frf___fff"
   ]
  },
  {
   "cell_type": "code",
   "execution_count": null,
   "id": "9496249f",
   "metadata": {},
   "outputs": [],
   "source": [
    "hedObj = flopy.utils.HeadFile(os.path.join(ws, \"DG.hds\"), precision=\"double\")           # hedObj  \n",
    "h = hedObj.get_data(kstpkper=(0, 0))                                                    # array h\n",
    "\n",
    "cbcObj = flopy.utils.CellBudgetFile(os.path.join(ws, \"DG.cbc\"), precision=\"double\")\n",
    "\n",
    "frf = cbcObj.get_data(kstpkper=(0, 0), text=\"FLOW RIGHT FACE\")[0]\n",
    "fff = cbcObj.get_data(kstpkper=(0, 0), text=\"FLOW FRONT FACE\")[0]\n",
    "\n",
    "qx, qy, qz = flopy.utils.postprocessing.get_specific_discharge((frf, fff, None), ml)"
   ]
  },
  {
   "cell_type": "code",
   "execution_count": null,
   "id": "8d0f9ea7",
   "metadata": {},
   "outputs": [],
   "source": [
    "cnt = np.arange(1200, 1700, 100)\n",
    "f, (ax1, ax2) = plt.subplots(1, 2, figsize=(6.75, 4.47), constrained_layout=True)\n",
    "ax1.set_xlim(0, xmax)\n",
    "ax1.set_ylim(0, ymax)\n",
    "ax2.set_xlim(0, xmax)\n",
    "ax2.set_ylim(0, ymax)\n",
    "ax1.set_aspect(\"equal\")\n",
    "ax2.set_aspect(\"equal\")\n",
    "\n",
    "mm1 = flopy.plot.PlotMapView(model=ml, ax=ax1, layer=3)                    # mm1\n",
    "h1 = mm1.plot_array(h, masked_values=[-888, -999], vmin=1100, vmax=1700)\n",
    "mm1.plot_inactive(color_noflow=\"0.75\")\n",
    "mm1.plot_bc(ftype=\"STR\")\n",
    "\n",
    "q1 = mm1.plot_vector(qx, qy, istep=5, jstep=5,                             # Groundwater-flow directions __ plot 5x5\n",
    "    normalize=True,\n",
    "    color=\"0.4\",\n",
    "    scale=70,\n",
    "    headwidth=3,\n",
    "    headlength=3,\n",
    "    headaxislength=3,\n",
    ")\n",
    "c1 = mm1.contour_array(\n",
    "    h, masked_values=[-888, -999], colors=\"black\", levels=cnt, linewidths=0.5\n",
    ")\n",
    "ax1.clabel(c1, fmt=\"%.0f\", inline_spacing=0.5)\n",
    "\n",
    "mm2 = flopy.plot.PlotMapView(model=ml, ax=ax2, layer=4)\n",
    "h2 = mm2.plot_array(h, masked_values=[-888, -999], vmin=1100, vmax=1700)\n",
    "mm2.plot_inactive(color_noflow=\"0.75\")\n",
    "mm2.plot_bc(ftype=\"STR\")\n",
    "q2 = mm2.plot_vector(\n",
    "    qx,\n",
    "    qy,\n",
    "    istep=5,\n",
    "    jstep=5,\n",
    "    normalize=True,\n",
    "    color=\"0.4\",\n",
    "    scale=70,\n",
    "    headwidth=3,\n",
    "    headlength=3,\n",
    "    headaxislength=3,\n",
    ")\n",
    "c2 = mm2.contour_array(\n",
    "    h, masked_values=[-888, -999], colors=\"black\", levels=cnt, linewidths=0.5\n",
    ")\n",
    "ax2.clabel(c2, fmt=\"%.0f\", inline_spacing=0.5)\n",
    "\n",
    "ax3 = f.add_axes([0.08, 0.125, 0.01, 0.15])\n",
    "cb = plt.colorbar(h2, cax=ax3)\n",
    "cb.ax.set_ylabel(\"Simulated head, m\")\n",
    "\n",
    "ax1.plot([-10000, 0], [-10000, 0], color=\"purple\", lw=0.75, label=\"STR reaches\")\n",
    "ax1.plot(\n",
    "    [-10000],\n",
    "    [-10000],\n",
    "    marker=\"s\",\n",
    "    ms=10,\n",
    "    lw=0.0,\n",
    "    mec=\"black\",\n",
    "    mfc=\"None\",\n",
    "    label=\"inactive areas\",\n",
    ")\n",
    "leg = ax1.legend(loc=\"upper left\", numpoints=1, prop={\"size\": 6})\n",
    "leg.draw_frame(False)\n",
    "\n",
    "ax1.text(0.0, 1.01, \"Model layer 4\", ha=\"left\", va=\"bottom\", transform=ax1.transAxes)\n",
    "ax2.text(\n",
    "    0.98,\n",
    "    0.02,\n",
    "    \"100 m contour interval\",\n",
    "    ha=\"right\",\n",
    "    va=\"bottom\",\n",
    "    transform=ax2.transAxes,\n",
    ")\n",
    "ax2.text(0.0, 1.01, \"Model layer 5\", ha=\"left\", va=\"bottom\", transform=ax2.transAxes)\n",
    "\n",
    "plt.savefig(os.path.join(ws, \"uspb_heads.png\"), dpi=300)"
   ]
  },
  {
   "cell_type": "code",
   "execution_count": null,
   "id": "ea7a1585",
   "metadata": {},
   "outputs": [],
   "source": [
    "fname = \"USPB_capture_fraction_04_10.dat\"                # ADD WELL\n",
    "pooch.retrieve(\n",
    "    url=f\"https://github.com/modflowpy/flopy/raw/develop/.docs/groundwater_paper/uspb/results/{fname}\",\n",
    "    fname=fname,\n",
    "    path=data_path / \"uspb\" / \"results\",\n",
    "    known_hash=None,\n",
    ")\n",
    "fn = data_path / \"uspb\" / \"results\" / fname\n",
    "cf = np.loadtxt(fn)\n",
    "cf2 = scipy.ndimage.zoom(cf, 4, order=0)"
   ]
  },
  {
   "cell_type": "code",
   "execution_count": null,
   "id": "7493ef07",
   "metadata": {},
   "outputs": [],
   "source": [
    "fig = plt.figure(figsize=(3.25, 4.47), constrained_layout=True)\n",
    "ax1 = plt.gca()\n",
    "ax1.set_aspect(\"equal\")\n",
    "mm1 = flopy.plot.PlotMapView(model=ml, layer=4)\n",
    "plt.xlim(0, xmax)\n",
    "plt.ylim(0, ymax)\n",
    "\n",
    "mm1.plot_inactive(color_noflow=\"0.75\")\n",
    "c = plt.imshow(cf2, cmap=\"jet\", extent=[0, ncol * 250.0, 0, nrow * 250.0])\n",
    "cb = plt.colorbar(c, shrink=0.5)\n",
    "cb.ax.set_ylabel(\"Layer 4 capture fraction\")\n",
    "\n",
    "mm1.plot_bc(ftype=\"STR\", plotAll=True)\n",
    "plt.plot([-10000, 0], [-10000, 0],     color=\"purple\", lw=0.75, label=\"STR reaches (all layers)\",)\n",
    "plt.plot([-10000], [-10000],           marker=\"s\", ms=10, lw=0.0, mec=\"black\", mfc=\"None\", label=\"Layer 5 inactive area\",)\n",
    "\n",
    "leg = plt.legend(loc=\"upper left\", numpoints=1, prop={\"size\": 6})\n",
    "leg.draw_frame(False)\n",
    "plt.xticks([0, 20000, 40000, 60000, 80000])\n",
    "plt.savefig(os.path.join(ws, \"capture_fraction_100y.png\"), dpi=300)"
   ]
  },
  {
   "cell_type": "code",
   "execution_count": null,
   "id": "d555a714",
   "metadata": {},
   "outputs": [],
   "source": []
  }
 ],
 "metadata": {
  "jupytext": {
   "notebook_metadata_filter": "metadata"
  },
  "kernelspec": {
   "display_name": "Python 3 (ipykernel)",
   "language": "python",
   "name": "python3"
  },
  "language_info": {
   "codemirror_mode": {
    "name": "ipython",
    "version": 3
   },
   "file_extension": ".py",
   "mimetype": "text/x-python",
   "name": "python",
   "nbconvert_exporter": "python",
   "pygments_lexer": "ipython3",
   "version": "3.12.7"
  },
  "metadata": {
   "section": "2016gw-paper"
  }
 },
 "nbformat": 4,
 "nbformat_minor": 5
}
