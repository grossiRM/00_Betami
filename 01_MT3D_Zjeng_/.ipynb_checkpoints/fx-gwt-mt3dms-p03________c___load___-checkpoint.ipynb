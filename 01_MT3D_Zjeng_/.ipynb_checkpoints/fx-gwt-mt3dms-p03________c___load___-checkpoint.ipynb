{
 "cells": [
  {
   "cell_type": "code",
   "execution_count": 1,
   "id": "f804e8ad-b670-4012-ba95-e414239d0191",
   "metadata": {
    "jupyter": {
     "source_hidden": true
    }
   },
   "outputs": [],
   "source": [
    "from pathlib import Path ; from shutil import copytree  ; from tempfile import TemporaryDirectory ; import pandas as pd\n",
    "import numpy as np ;  import flopy ;  import os ; import pathlib ; import numpy as np; import matplotlib.pyplot as plt# import git "
   ]
  },
  {
   "cell_type": "code",
   "execution_count": 2,
   "id": "03a45e29-1dba-4cd8-8b3b-e205ef374f17",
   "metadata": {},
   "outputs": [
    {
     "name": "stdout",
     "output_type": "stream",
     "text": [
      "E:\\15_REPOS\\00_BETAMI\\98_Plus\\02_MT3D\n"
     ]
    }
   ],
   "source": [
    "example_name = \"rmg\"                  # sim_name\n",
    "exe_name = 'E:\\\\15_REPOS\\\\00_BETAMI\\\\bin\\\\mf6'\n",
    "current_directory = os.getcwd();  print(current_directory)"
   ]
  },
  {
   "cell_type": "code",
   "execution_count": 3,
   "id": "9866f588-3ee3-49b0-802b-604c56580a17",
   "metadata": {},
   "outputs": [],
   "source": [
    "path = pathlib.Path('E:\\\\15_REPOS\\\\00_BETAMI\\\\98_Plus\\\\02_MT3D')\n",
    "path.mkdir(parents=True, exist_ok=True); os.chdir(path); current_directory = os.getcwd()\n",
    "directory_name = 'ex-RES'    ; workspace = os.path.join('.', directory_name)                         # sim_ws\n",
    "if os.path.isdir(workspace) is False:\n",
    "    os.mkdir(workspace) \n",
    "output_folder = Path('ex-RES\\\\p03_load') ; output_folder.mkdir(exist_ok=True)        "
   ]
  },
  {
   "cell_type": "code",
   "execution_count": 4,
   "id": "83715aab-530c-4653-b122-937acbc5634a",
   "metadata": {},
   "outputs": [],
   "source": [
    "data_path_R = 'E:\\\\15_REPOS\\\\00_BETAMI\\\\98_Plus\\\\02_MT3D\\\\ex-RES\\\\p03-mf6'  # ____________________HERE________\n",
    "sim = flopy.mf6.MFSimulation.load(sim_ws = data_path_R   ,exe_name=exe_name,  verbosity_level=0)"
   ]
  },
  {
   "cell_type": "code",
   "execution_count": 5,
   "id": "85760c83",
   "metadata": {
    "jupyter": {
     "source_hidden": true
    }
   },
   "outputs": [
    {
     "data": {
      "text/plain": [
       "(True, [])"
      ]
     },
     "execution_count": 5,
     "metadata": {},
     "output_type": "execute_result"
    }
   ],
   "source": [
    "sim.set_sim_path(output_folder) ; sim.write_simulation(silent=True) ; sim.run_simulation(silent=True)"
   ]
  },
  {
   "cell_type": "markdown",
   "id": "8f31bc12-2960-4b6e-9ffc-0ec1b69681e5",
   "metadata": {},
   "source": [
    "## **Outputs**"
   ]
  },
  {
   "cell_type": "code",
   "execution_count": 6,
   "id": "f27f3507-3999-4149-81b3-283609b51929",
   "metadata": {
    "jupyter": {
     "source_hidden": true
    }
   },
   "outputs": [],
   "source": [
    "ml = sim.get_model(\"gwf-p03-mf6\")\n",
    "hds = ml.output.head()               ; H = hds.get_data() \n",
    "bud = ml.output.budget()             ; Q = bud.get_data(idx=0, full3D=True) "
   ]
  },
  {
   "cell_type": "code",
   "execution_count": 7,
   "id": "7d87f9f7",
   "metadata": {
    "jupyter": {
     "source_hidden": true
    }
   },
   "outputs": [
    {
     "name": "stdout",
     "output_type": "stream",
     "text": [
      "OC package_Transp:  ['list()', 'zonebudget()', 'budget()', 'budgetcsv()', 'concentration()']\n"
     ]
    }
   ],
   "source": [
    "mt = sim.get_model(\"gwt_p03-mf6\")\n",
    "print(\"OC package_Transp: \", mt.oc.output.methods())"
   ]
  },
  {
   "cell_type": "code",
   "execution_count": 8,
   "id": "dce6a1f4-ad0e-49f7-bdc5-ae7008545ac1",
   "metadata": {},
   "outputs": [
    {
     "name": "stdout",
     "output_type": "stream",
     "text": [
      "(1, 31, 46)\n",
      "(1, 31, 46)\n"
     ]
    }
   ],
   "source": [
    "bud = ml.oc.output.concentration()   ; C = bud.get_data(idx=0)           ; print(H.shape), print(C.shape) ; # type(Q)"
   ]
  },
  {
   "cell_type": "code",
   "execution_count": 9,
   "id": "95cb11c1-71f1-4cb4-9cdd-8983b35cd64d",
   "metadata": {},
   "outputs": [],
   "source": [
    "H2d = H[0, :, :] ; save=pd.DataFrame(H2d)  ; save.to_csv (output_folder / \"_H.csv\") ;  # print(reshape.shape)\n",
    "C2d = C[0, :, :] ; save=pd.DataFrame(C2d)  ; save.to_csv (output_folder / \"_C.csv\") ;  # print(reshape.shape)"
   ]
  },
  {
   "cell_type": "code",
   "execution_count": 10,
   "id": "cd9834ff-c686-4243-a59a-02d6c93d0f7e",
   "metadata": {
    "jupyter": {
     "source_hidden": true
    }
   },
   "outputs": [],
   "source": [
    "# parameters and variables (again)\n",
    "length_units = \"meters\"\n",
    "time_units = \"days\"\n",
    "nlay = 1  # Number of layers\n",
    "nrow = 31  # Number of rows\n",
    "ncol = 46  # Number of columns\n",
    "delr = 10.0  # Column width ($m$)\n",
    "delc = 10.0  # Row width ($m$)\n",
    "delz = 10.0  # Layer thickness ($m$)\n",
    "top = 0.0  # Top of the model ($m$)\n",
    "prsity = 0.3  # Porosity\n",
    "perlen = 365  # Simulation time ($days$)\n",
    "k11 = 1.0  # Horizontal hydraulic conductivity ($m/d$)\n",
    "qwell = 1.0  # Volumetric injection rate ($m^3/d$)\n",
    "cwell = 1000.0  # Concentration of injected water ($mg/L$)\n",
    "al = 10.0  # Longitudinal dispersivity ($m$)\n",
    "trpt = 0.3  # Ratio of transverse to longitudinal dispersivity\n",
    "perlen = [1, 365.0]\n",
    "nper = len(perlen)\n",
    "nstp = [2, 730]\n",
    "tsmult = [1.0, 1.0]\n",
    "sconc = 0.0\n",
    "dt0 = 0.3\n",
    "ath1 = al * trpt\n",
    "dmcoef = 0.0\n",
    "botm = [top - delz]  # Model geometry\n",
    "k33 = k11  # Vertical hydraulic conductivity ($m/d$)\n",
    "icelltype = 0\n",
    "Lx = (ncol - 1) * delr\n",
    "v = 1.0 / 3.0\n",
    "prsity = 0.3\n",
    "q = v * prsity\n",
    "h1 = q * Lx\n",
    "strt = np.zeros((nlay, nrow, ncol), dtype=float)\n",
    "strt[0, :, 0] = h1\n",
    "\n",
    "nouter, ninner = 100, 300\n",
    "hclose, rclose, relax = 1e-6, 1e-6, 1.0\n",
    "ttsmult = 1.0\n",
    "percel = 1.0    # HMOC parameters in case they are invoked\n",
    "itrack = 3      # HMOC\n",
    "wd = 0.5        # HMOC\n",
    "\n",
    "dceps = 1.0e-5  # HMOC\n",
    "nplane = 1      # HMOC\n",
    "npl = 0         # HMOC\n",
    "nph = 16        # HMOC\n",
    "npmin = 4       # HMOC\n",
    "npmax = 32       # HMOC\n",
    "dchmoc = 1.0e-3  # HMOC\n",
    "nlsink = nplane  # HMOC\n",
    "npsink = nph     # HMOC\n",
    "\n",
    "tdis_rc = []"
   ]
  },
  {
   "cell_type": "raw",
   "id": "19dcc355-f3d9-4e28-8006-d03d7ee74f61",
   "metadata": {},
   "source": [
    "________________________________________________________________________________________"
   ]
  },
  {
   "cell_type": "code",
   "execution_count": 11,
   "id": "051d8378-bee6-4ca0-85e9-533733528a2a",
   "metadata": {},
   "outputs": [],
   "source": [
    "def plot_2d (map_data      ,delr, delc     , colorbar_label  , cmap):        \n",
    "    r, c   = np.shape   (map_data);                 \n",
    "    x_coord = np.linspace(0, delr*c, c+1)  ; y_coord = np.linspace(0, delc*r, r+1);          X,Y = np.meshgrid(x_coord, y_coord)\n",
    "    plt.figure(figsize=(3, 1), dpi=200)    ; plt.pcolormesh(X, Y, map_data, cmap=cmap,shading = 'auto', edgecolor ='k', linewidth = 0.01)\n",
    "    plt.gca().set_aspect('equal')          ; cbar = plt.colorbar()  ; cbar.set_label(colorbar_label)  ; plt.show()\n",
    "ibound = np.ones ((nlay, nrow, ncol), dtype=int) ; ibound[0,:,-10:-5]=-1;   "
   ]
  },
  {
   "cell_type": "code",
   "execution_count": 12,
   "id": "84581e63-42a8-4c40-a0f5-9c89d6c0dcbb",
   "metadata": {},
   "outputs": [],
   "source": [
    "# plot_2d    (ibound[0,:,:]  ,delr, delc     , 'ibound'        , 'magma' )          # ; print(ibound.shape); "
   ]
  },
  {
   "cell_type": "code",
   "execution_count": 13,
   "id": "8b60c665-d22c-4c5a-8815-3f00ca4938c5",
   "metadata": {},
   "outputs": [],
   "source": [
    "# plot_2d(C[0,:,:], 1, 1,      '[m]', 'Blues')    # H  # ... a  option"
   ]
  },
  {
   "cell_type": "code",
   "execution_count": 14,
   "id": "fdbff15f-16d5-4a6f-8891-7c81ad813c7d",
   "metadata": {},
   "outputs": [
    {
     "name": "stdout",
     "output_type": "stream",
     "text": [
      "(1, 31, 46)\n"
     ]
    }
   ],
   "source": [
    "print(C.shape)     # no #           plot_2d(C[1,:,:], 1, 1,      '[m]', 'Blues')"
   ]
  },
  {
   "cell_type": "code",
   "execution_count": 15,
   "id": "cf85cb37-f0ed-4237-b319-1a70f8b330f3",
   "metadata": {},
   "outputs": [],
   "source": [
    "# out put restrict to the fist time, ... but there were... print(' tdis_rc', tdis_rc)  =  tdis_rc [([1, 365.0], [2, 730], 1.0)]"
   ]
  }
 ],
 "metadata": {
  "jupytext": {
   "cell_metadata_filter": "-all"
  },
  "kernelspec": {
   "display_name": "Python 3 (ipykernel)",
   "language": "python",
   "name": "python3"
  },
  "language_info": {
   "codemirror_mode": {
    "name": "ipython",
    "version": 3
   },
   "file_extension": ".py",
   "mimetype": "text/x-python",
   "name": "python",
   "nbconvert_exporter": "python",
   "pygments_lexer": "ipython3",
   "version": "3.12.7"
  }
 },
 "nbformat": 4,
 "nbformat_minor": 5
}
