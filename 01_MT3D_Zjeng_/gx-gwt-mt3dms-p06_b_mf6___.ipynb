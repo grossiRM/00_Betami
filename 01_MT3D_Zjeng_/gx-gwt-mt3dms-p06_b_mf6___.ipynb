{
 "cells": [
  {
   "cell_type": "code",
   "execution_count": 1,
   "id": "870eb52b-de4d-4959-989d-7727b9258054",
   "metadata": {
    "jupyter": {
     "source_hidden": true
    }
   },
   "outputs": [],
   "source": [
    "import os; import sys ; import matplotlib as mpl ; import matplotlib.pyplot as plt ; import numpy as np ; from flopy.plot.styles import styles\n",
    "import pathlib; from pathlib import Path; import pandas as pd; import flopy ; from modflow_devtools.misc import get_env, timed\n",
    "from pprint import pformat; import csv; from flopy.utils import Mf6ListBudget \n",
    "write = get_env(\"WRITE\", True) ; run = get_env(\"RUN\", True) ;  plot = get_env(\"PLOT\", True)\n",
    "plot_show = get_env(\"PLOT_SHOW\", True) ; plot_save = get_env(\"PLOT_SAVE\", True)"
   ]
  },
  {
   "cell_type": "code",
   "execution_count": 2,
   "id": "76b81a60-48f2-4754-8c7e-235d413bf8a4",
   "metadata": {},
   "outputs": [],
   "source": [
    "sim_name = \"p06_beta_mf6\" ; exe_name = 'E:\\\\15_REPOS\\\\00_BETAMI\\\\bin\\\\mf6.exe' ; example_name = sim_name\n",
    "output_folder = Path(\"./ex-RES/p06\")                ; output_folder.mkdir(exist_ok=True) ; example_name=sim_name\n",
    "output_folder2 = Path('./ex-RES/p06/p06_beta_mf6')  ; output_folder.mkdir(exist_ok=True) ; workspace = output_folder"
   ]
  },
  {
   "cell_type": "code",
   "execution_count": 3,
   "id": "cff27202",
   "metadata": {},
   "outputs": [],
   "source": [
    "# Model parameters\n",
    "length_units = \"feet\" ; time_units = \"days\" ; nlay=1 ;  nrow=31 ;  ncol=31  ;  delr=900.0 ;  delc=900.0 ;  delz=20.0 ;  top=0.0 ;  prsity=0.35 \n",
    "dum1=2.5  ;  dum2=7.5 ;  k11=432.0 ;  qwell=1.0  ;  cwell=100.0 ;  al=100.0 ;  trpt=1.0   ; dmcoef = 0 ; k33 = k11        ; k11 = 0.005 * 86400\n",
    "perlen = [912.5, 2737.5] ; nper = len(perlen)    ; nstp = [36.5, 109.5]     ; tsmult = [1, 1]          ; dt0 = 56.25 ; sconc = 0.0 ; c0 = 0.0 \n",
    "ath1 = al * trpt ; botm = [top - delz]  ; icelltype = 0 ; mixelm = -1 ; strt = np.zeros((nlay, nrow, ncol), dtype=float)\n",
    "ibound_mf2k5 = np.ones((nlay, nrow, ncol), dtype=int) * -1    ; ibound_mf2k5[:, 1 : nrow - 1, 1 : ncol - 1] = 1\n",
    "idomain = np.ones((nlay, nrow, ncol), dtype=int)              ; icbund = 1\n",
    "qwell = 86400.0  ; cwell = 100.0                              ; spd_mf6 = {0: [[(0, 15, 15), qwell, cwell]] , 1: [[(0, 15, 15), -qwell , 0.0]]} \n",
    "chdspd = []\n",
    "for i in np.arange(nrow):\n",
    "    chdspd.append([(0, i, 0), strt[0, i, 0]])  ; chdspd.append([(0, i, ncol - 1), strt[0, i, ncol - 1]])\n",
    "for j in np.arange(1, ncol - 1):\n",
    "    chdspd.append([(0, 0, j), strt[0, 0, j]])  ; chdspd.append([(0, nrow - 1, j), strt[0, nrow - 1, j]])\n",
    "chdspd = {0: chdspd}\n",
    "nouter = 100 ; ninner = 300 ;  hclose = 1e-6 ;  rclose = 1e-6 ;  relax  = 1.0 ; percel = 1.0 ; itrack = 3 ; wd = 0.5  \n",
    "dceps = 1.0e-5 ; nplane = 1 ; npl = 0 ; nph = 16 ; npmin = 2 ; npmax = 32 ; dchmoc = 1.0e-3 ; nlsink = nplane ; npsink = nph \n",
    "name = \"p06-mf6\" ;   gwfname = \"gwf-\" + name  ; gwtname = \"gwt_\" + name"
   ]
  },
  {
   "cell_type": "code",
   "execution_count": 4,
   "id": "1d13662f",
   "metadata": {},
   "outputs": [],
   "source": [
    "def build_models(sim_name, mixelm=0, silent=False):\n",
    "    name = \"p06-mf6\"  ;     gwfname = \"gwf-\" + name  # MODFLOW 6 ____________________________________________\n",
    "    sim_ws = os.path.join(output_folder, sim_name)\n",
    "    sim = flopy.mf6.MFSimulation(sim_name=sim_name, sim_ws=sim_ws, exe_name=\"mf6\")\n",
    "    tdis_rc = []\n",
    "    for i in range(nper):\n",
    "        tdis_rc.append((perlen[i], nstp[i], tsmult[i]))\n",
    "    flopy.mf6.ModflowTdis(sim, nper=nper, perioddata=tdis_rc, time_units=time_units)\n",
    "    gwf    = flopy.mf6.ModflowGwf (sim,modelname=gwfname,save_flows=True,model_nam_file=f\"{gwfname}.nam\")\n",
    "    imsgwf = flopy.mf6.ModflowIms (sim,print_option=\"SUMMARY\",outer_dvclose=hclose,outer_maximum=nouter,under_relaxation=\"NONE\",\n",
    "                                   inner_maximum=ninner,inner_dvclose=hclose,rcloserecord=rclose,linear_acceleration=\"CG\",\n",
    "                                   scaling_method=\"NONE\",reordering_method=\"NONE\",relaxation_factor=relax,filename=f\"{gwfname}.ims\")\n",
    "    sim.register_ims_package      (imsgwf, [gwf.name])\n",
    "\n",
    "    flopy.mf6.ModflowGwfdis      (gwf,length_units=length_units,nlay=nlay,nrow=nrow,ncol=ncol,delr=delr,delc=delc,top=top,botm=botm,\n",
    "                                  idomain=np.ones((nlay, nrow, ncol), dtype=int),filename=f\"{gwfname}.dis\")\n",
    "    flopy.mf6.ModflowGwfnpf (gwf,save_flows=False,icelltype=icelltype,k=k11,k33=k33,save_specific_discharge=True,filename=f\"{gwfname}.npf\")\n",
    "    flopy.mf6.ModflowGwfsto (gwf, ss=0, sy=0, filename=f\"{gwfname}.sto\")   \n",
    "    flopy.mf6.ModflowGwfic  (gwf, strt=strt, filename=f\"{gwfname}.ic\")       \n",
    "    flopy.mf6.ModflowGwfchd  (gwf,maxbound=len(chdspd),stress_period_data=chdspd,save_flows=False,pname=\"CHD-1\",filename=f\"{gwfname}.chd\")\n",
    "    flopy.mf6.ModflowGwfwel  (gwf,print_input=True,print_flows=True,stress_period_data=spd_mf6,save_flows=False,\n",
    "                              auxiliary=\"CONCENTRATION\",pname=\"WEL-1\",filename=f\"{gwfname}.wel\")\n",
    "    flopy.mf6.ModflowGwfoc   (gwf,head_filerecord=f\"{gwfname}.hds\",budget_filerecord=f\"{gwfname}.bud\",\n",
    "                              headprintrecord=[(\"COLUMNS\", 10, \"WIDTH\", 15, \"DIGITS\", 6, \"GENERAL\")],\n",
    "                              saverecord=[(\"HEAD\", \"ALL\"), (\"BUDGET\", \"ALL\")],\n",
    "                              printrecord=[(\"HEAD\", \"ALL\"), (\"BUDGET\", \"ALL\")])                         \n",
    "    gwtname = \"gwt_\" + name  # ________________________________________________________________________________________ MF6 ___________\n",
    "    gwt = flopy.mf6.MFModel(sim,model_type=\"gwt6\",modelname=gwtname,model_nam_file=f\"{gwtname}.nam\")\n",
    "    gwt.name_file.save_flows = True\n",
    "    imsgwt = flopy.mf6.ModflowIms(sim,print_option=\"SUMMARY\",outer_dvclose=hclose,outer_maximum=nouter,under_relaxation=\"NONE\",\n",
    "                                  inner_maximum=ninner,inner_dvclose=hclose,rcloserecord=rclose,\n",
    "                                  linear_acceleration=\"BICGSTAB\",scaling_method=\"NONE\",reordering_method=\"NONE\",\n",
    "                                  relaxation_factor=relax,filename=f\"{gwtname}.ims\")                  \n",
    "    sim.register_ims_package(imsgwt, [gwt.name])\n",
    "    flopy.mf6.ModflowGwtdis(gwt,nlay=nlay,nrow=nrow,ncol=ncol,delr=delr,delc=delc,top=top,botm=botm,idomain=1,filename=f\"{gwtname}.dis\")\n",
    "    flopy.mf6.ModflowGwtic(gwt, strt=sconc, filename=f\"{gwtname}.ic\")\n",
    "    if mixelm >= 0:\n",
    "        scheme = \"UPSTREAM\"\n",
    "    elif mixelm == -1:\n",
    "        scheme = \"TVD\"\n",
    "    else:\n",
    "        raise Exception()\n",
    "    flopy.mf6.ModflowGwtadv(gwt, scheme=scheme, filename=f\"{gwtname}.adv\")\n",
    "    if al != 0:\n",
    "        flopy.mf6.ModflowGwtdsp(gwt,xt3d_off=True,alh=al,ath1=ath1,filename=f\"{gwtname}.dsp\",)\n",
    "    flopy.mf6.ModflowGwtmst(gwt,porosity=prsity,first_order_decay=False,decay=None,decay_sorbed=None,sorption=None,\n",
    "                            bulk_density=None, distcoef=None,filename=f\"{gwtname}.mst\")  \n",
    "    sourcerecarray = [(\"WEL-1\", \"AUX\", \"CONCENTRATION\")]\n",
    "    flopy.mf6.ModflowGwtssm(gwt, sources=sourcerecarray, filename=f\"{gwtname}.ssm\")\n",
    "#   flopy.mf6.ModflowGwtoc(gwt)    # LAST ONE\n",
    "    flopy.mf6.ModflowGwtoc(gwt, budget_filerecord=f\"{gwtname}.cbc\",concentration_filerecord=f\"{gwtname}.ucn\",\n",
    "                           concentrationprintrecord=[(\"COLUMNS\", 10, \"WIDTH\", 15, \"DIGITS\", 6, \"GENERAL\")],\n",
    "                           saverecord=[(\"CONCENTRATION\", \"ALL\"), (\"BUDGET\", \"ALL\")],\n",
    "                           printrecord=[(\"CONCENTRATION\", \"ALL\"), (\"BUDGET\", \"ALL\")])\n",
    "    obslist = [[\"BCKGRND\", \"concentration\", (0, 15, 15)]]                     ; obsdict = {f\"{gwtname}.obs.csv\": obslist}     # (16x , 16y)\n",
    "    obs = flopy.mf6.ModflowUtlobs(gwt, print_input=False, continuous = obsdict)  # obsdict     \n",
    "    flopy.mf6.ModflowGwfgwt(sim,exgtype=\"GWF6-GWT6\",exgmnamea=gwfname,exgmnameb=gwtname,filename=f\"{name}.gwfgwt\")\n",
    "    return sim\n",
    "def write_models(sim, silent=True):\n",
    "    sim.write_simulation(silent=silent)\n",
    "@timed\n",
    "def run_models(sim, silent=True):\n",
    "    success, buff = sim.run_simulation(silent=silent, report=True)                                ; assert success, pformat(buff)"
   ]
  },
  {
   "cell_type": "code",
   "execution_count": 5,
   "id": "8d2871bc",
   "metadata": {
    "lines_to_end_of_cell_marker": 2
   },
   "outputs": [],
   "source": [
    "def plot_results(mf6, idx, ax=None):\n",
    "    mf6_out_path = mf6.simulation_data.mfpath.get_sim_path() ; mf6.simulation_data.mfpath.get_sim_path()\n",
    "    fname = os.path.join(mf6_out_path, list(mf6.model_names)[1] + \".obs.csv\")  ; mf6cobs = flopy.utils.Mf6Obs(fname).data   # OBS Transport\n",
    "    \n",
    "    with styles.USGSPlot():\n",
    "        sim_name = mf6.name     ;         plt.rcParams[\"lines.dashed_pattern\"] = [5.0, 5.0]              # MF6 (mf6.c.OBS)   x    # cvt\n",
    "        if ax is None:\n",
    "            fig = plt.figure(figsize=(5, 2), dpi=100, tight_layout=True)                                ; ax = fig.add_subplot(1, 1, 1)\n",
    "        x_mf6      = mf6cobs[\"totim\"] / 365.0  ; y_mf6 = mf6cobs[\"BCKGRND\"] ; x_mf6_pare = x_mf6[::20]  ; y_mf6_pare = y_mf6[::20]\n",
    "        \n",
    "        ax.plot(x_mf6_pare, y_mf6_pare, label=\"MODFLOW 6\", marker=\"x\", linestyle=\":\")                    ; plt.xlim(0, 10) ; plt.ylim(0, 100.0)   \n",
    "        plt.xlabel(\"Time, in years\")      ; plt.ylabel(\"Normalized [C] % \") ; plt.legend()    ;  title = \"[C] Injection / Pumping (16x, 16y)\"\n",
    "        letter = chr(ord(\"@\") + idx + 1)  ; styles.heading(letter=letter, heading=title)\n",
    "        if plot_show:\n",
    "            plt.show()"
   ]
  },
  {
   "cell_type": "code",
   "execution_count": 6,
   "id": "2ad7d305",
   "metadata": {},
   "outputs": [
    {
     "name": "stdout",
     "output_type": "stream",
     "text": [
      "run_models took 1883.89 ms\n"
     ]
    },
    {
     "data": {
      "image/png": "[encoded data removed]",
      "text/plain": [
       "<Figure size 500x200 with 1 Axes>"
      ]
     },
     "metadata": {},
     "output_type": "display_data"
    }
   ],
   "source": [
    "def scenario(idx, silent=True):\n",
    "    sim = build_models(example_name, mixelm=mixelm)\n",
    "    if write:\n",
    "        write_models(sim)\n",
    "    if run:\n",
    "        run_models(sim)\n",
    "    if plot:\n",
    "        plot_results(sim, idx)\n",
    "scenario(1)  # 1,-1,0"
   ]
  },
  {
   "cell_type": "code",
   "execution_count": 7,
   "id": "c8114587-721b-406b-98fb-b2b7f47483b8",
   "metadata": {},
   "outputs": [
    {
     "name": "stdout",
     "output_type": "stream",
     "text": [
      "years [[2.5 1.  0. ]\n",
      " [7.5 3.  0. ]]\n"
     ]
    },
    {
     "data": {
      "text/plain": [
       "(None,\n",
       " array([[ 912.5,  365. ,    1. ],\n",
       "        [2737.5, 1095. ,    1. ]]))"
      ]
     },
     "execution_count": 7,
     "metadata": {},
     "output_type": "execute_result"
    }
   ],
   "source": [
    "# flopy.mf6.ModflowTdis         flopy.mf6.ModflowGwtdis\n",
    "perlen = [912.5, 2737.5] ; nper = len(perlen) ; nstp = [365, 1095] ; tsmult = [1.0, 1.0]\n",
    "tdis_rc = []\n",
    "for i in range(nper):\n",
    "    tdis_rc.append((perlen[i], nstp[i], tsmult[i]))\n",
    "np.set_printoptions(precision=2)                   ; tdis_rc2 = np.array(tdis_rc, ndmin=2)  ; tdis_rc3 = np.array(tdis_rc, ndmin=2) /365 \n",
    "\n",
    "print('years', tdis_rc3.round(decimals=1)) ; np.set_printoptions(suppress=True) , tdis_rc2"
   ]
  },
  {
   "cell_type": "raw",
   "id": "798a1678-3ee9-44ea-a97a-3a704168d487",
   "metadata": {},
   "source": [
    "perlen = [912.5, 2737.5] ; nper = len(perlen) ; nstp = [36.5, 109.5] ; tsmult = [1.0, 1.0], \n",
    "tdis_rc = []\n",
    "for i in range(nper):\n",
    "    tdis_rc.append((perlen[i], nstp[i], tsmult[i]))\n",
    "np.set_printoptions(precision=2)                   ; tdis_rc2 = np.array(tdis_rc, ndmin=2)  ; tdis_rc3 = np.array(tdis_rc, ndmin=2) /365 \n",
    "\n",
    "print('years', tdis_rc3.round(decimals=1)) ; np.set_printoptions(suppress=True) , tdis_rc2"
   ]
  },
  {
   "cell_type": "code",
   "execution_count": 8,
   "id": "c2ba4da4-2a1c-4c05-8a0c-b65b6dd98848",
   "metadata": {},
   "outputs": [
    {
     "name": "stdout",
     "output_type": "stream",
     "text": [
      "1460\n"
     ]
    }
   ],
   "source": [
    "print(sum(nstp))"
   ]
  },
  {
   "cell_type": "code",
   "execution_count": 9,
   "id": "8d503927-0f9d-4ea9-a910-953662e0aba3",
   "metadata": {},
   "outputs": [
    {
     "data": {
      "text/plain": [
       "array([   0.  ,   36.87,   73.74,  110.61,  147.47,  184.34,  221.21,\n",
       "        258.08,  294.95,  331.82,  368.69,  405.56,  442.42,  479.29,\n",
       "        516.16,  553.03,  589.9 ,  626.77,  663.64,  700.51,  737.37,\n",
       "        774.24,  811.11,  847.98,  884.85,  921.72,  958.59,  995.45,\n",
       "       1032.32, 1069.19, 1106.06, 1142.93, 1179.8 , 1216.67, 1253.54,\n",
       "       1290.4 , 1327.27, 1364.14, 1401.01, 1437.88, 1474.75, 1511.62,\n",
       "       1548.48, 1585.35, 1622.22, 1659.09, 1695.96, 1732.83, 1769.7 ,\n",
       "       1806.57, 1843.43, 1880.3 , 1917.17, 1954.04, 1990.91, 2027.78,\n",
       "       2064.65, 2101.52, 2138.38, 2175.25, 2212.12, 2248.99, 2285.86,\n",
       "       2322.73, 2359.6 , 2396.46, 2433.33, 2470.2 , 2507.07, 2543.94,\n",
       "       2580.81, 2617.68, 2654.55, 2691.41, 2728.28, 2765.15, 2802.02,\n",
       "       2838.89, 2875.76, 2912.63, 2949.49, 2986.36, 3023.23, 3060.1 ,\n",
       "       3096.97, 3133.84, 3170.71, 3207.58, 3244.44, 3281.31, 3318.18,\n",
       "       3355.05, 3391.92, 3428.79, 3465.66, 3502.53, 3539.39, 3576.26,\n",
       "       3613.13, 3650.  ])"
      ]
     },
     "execution_count": 9,
     "metadata": {},
     "output_type": "execute_result"
    }
   ],
   "source": [
    "perlen_mf = [912.5, 2737.5] ; nprs = 100  ; timprs = np.linspace(0, np.sum(perlen_mf), nprs, endpoint = True) ; timprs "
   ]
  },
  {
   "cell_type": "code",
   "execution_count": 10,
   "id": "09401f97-0ec2-4200-b8f2-26532241db97",
   "metadata": {},
   "outputs": [
    {
     "name": "stdout",
     "output_type": "stream",
     "text": [
      "OC package_Flow  :  ['list()', 'zonebudget()', 'budget()', 'budgetcsv()', 'head()']\n",
      "T_headss (145, 1, 31, 31)\n"
     ]
    }
   ],
   "source": [
    "sim = flopy.mf6.MFSimulation.load(sim_ws = output_folder2 , exe_name=exe_name , verbosity_level=0) ; ml = sim.get_model(\"gwf-p06-mf6\")\n",
    "gwf = sim.get_model('gwf-p06-mf6'); hobj = gwf.output.head() ; head = hobj.get_alldata()  ;  times = hobj.get_times()  \n",
    "print(\"OC package_Flow  : \", ml.oc.output.methods()) ; print('T_headss', head.shape) ; t= pd.DataFrame(times) ; t.to_csv(output_folder/\"a_T.csv\")"
   ]
  },
  {
   "cell_type": "code",
   "execution_count": 11,
   "id": "180f05e0-6099-4b0f-9ef9-012e2eb374dd",
   "metadata": {},
   "outputs": [
    {
     "name": "stdout",
     "output_type": "stream",
     "text": [
      "OC package_trans  :  ['list()', 'zonebudget()', 'budget()', 'budgetcsv()', 'concentration()']\n",
      "T_conc (145, 1, 31, 31)\n"
     ]
    }
   ],
   "source": [
    "sim = flopy.mf6.MFSimulation.load(sim_ws = output_folder2 , exe_name=exe_name , verbosity_level=0) ; mt = sim.get_model(\"gwt_p06-mf6\")\n",
    "gwt = sim.get_model('gwt_p06-mf6'); ucnobj = gwt.output.concentration() ; conc = ucnobj.get_alldata() ;  times = ucnobj.get_times()\n",
    "print(\"OC package_trans  : \", mt.oc.output.methods()) ; print('T_conc', conc.shape) "
   ]
  },
  {
   "cell_type": "code",
   "execution_count": 12,
   "id": "047c5453-3836-46cc-b05e-cbe4ce607419",
   "metadata": {},
   "outputs": [
    {
     "name": "stdout",
     "output_type": "stream",
     "text": [
      "(145, 961)\n"
     ]
    }
   ],
   "source": [
    "h2 = head.reshape(head.shape[0],-1);  c2 = conc.reshape(conc.shape[0],-1);  print(h2.shape)\n",
    "h2=pd.DataFrame(h2)  ; h2.to_csv (output_folder /\"c_H.csv\"); c2=pd.DataFrame(c2)  ; c2.to_csv (output_folder /\"d_C.csv\")"
   ]
  },
  {
   "cell_type": "code",
   "execution_count": 13,
   "id": "44e8c7db-2d8f-443d-8a83-3152161ccdd4",
   "metadata": {},
   "outputs": [
    {
     "data": {
      "text/plain": [
       "Text(0, 0.5, 'Percent mass balance error')"
      ]
     },
     "execution_count": 13,
     "metadata": {},
     "output_type": "execute_result"
    }
   ],
   "source": [
    "mfl = Mf6ListBudget(output_folder2 / 'gwf-p06-mf6.lst')             ; flux,_vol = mfl.get_dataframes(start_datetime='2023-08-02 10:52:00')   \n",
    "flux,_vol.to_csv(output_folder / \"b_flow_budget.csv\")  ;  flux.head()   \n",
    "ax = flux['PERCENT_DISCREPANCY'].plot() ; ax.set_ylabel('Percent mass balance error')"
   ]
  },
  {
   "cell_type": "raw",
   "id": "c2553162-ecf1-494e-9fa0-afa1c1929521",
   "metadata": {},
   "source": [
    "fig, ax  = plt.subplots(figsize=(4, 1))\n",
    "in_cols  = ['STO-SS_IN','WEL_IN','CHD_IN']  ; out_cols = [c.replace('_IN', '_OUT') for c in in_cols]\n",
    "flux[in_cols].plot.bar(stacked=False, ax=ax)        ;    (-flux[out_cols]).plot.bar(stacked=False, ax=ax)\n",
    "ax.legend(loc='lower left', bbox_to_anchor=(1, 0)) ; ax.axhline(0, lw=0.5, c='k') ;   ax.set_ylabel('Simulated Flux, in $m^3/d$') "
   ]
  },
  {
   "cell_type": "raw",
   "id": "4c1ea687-69a1-4e93-875f-f6507f96fd08",
   "metadata": {},
   "source": [
    "                           saverecord=[(\"CONCENTRATION\", \"ALL\"), (\"BUDGET\", \"ALL\")],   LAST\n",
    "                           printrecord=[(\"CONCENTRATION\", \"ALL\"), (\"BUDGET\", \"ALL\")])  LAST"
   ]
  },
  {
   "cell_type": "code",
   "execution_count": 14,
   "id": "e92047c4-8378-490b-bb73-a04b878dbc08",
   "metadata": {},
   "outputs": [],
   "source": [
    "fname = os.path.join  (output_folder2/ f\"{gwtname}.obs.csv\")  \n",
    "mf6gwt_ra=flopy.utils.Mf6Obs(fname).data  ; mf6conc=mf6gwt_ra[\"BCKGRND\"]   ;tn=pd.DataFrame(mf6conc) ;tn.to_csv(output_folder/\"eL_C.csv\")"
   ]
  },
  {
   "cell_type": "code",
   "execution_count": 16,
   "id": "ccc7ac4b-b5e5-46cf-9a94-cf8bc7b61cbe",
   "metadata": {},
   "outputs": [
    {
     "name": "stdout",
     "output_type": "stream",
     "text": [
      "heads (1, 31, 31)\n"
     ]
    },
    {
     "data": {
      "image/png": "[encoded data removed]",
      "text/plain": [
       "<Figure size 300x100 with 1 Axes>"
      ]
     },
     "metadata": {},
     "output_type": "display_data"
    }
   ],
   "source": [
    "fname = os.path.join (output_folder2/ f\"{gwfname}.hds\")    \n",
    "hdobj = flopy.utils.HeadFile(fname); heads=hdobj.get_data() ;heads2=heads[0,:,:] ;tn=pd.DataFrame(heads2) ;tn.to_csv(output_folder/\"fL_H.csv\")\n",
    "times = hdobj.get_times()  ; print('heads',heads.shape)  \n",
    "ttimes   =  pd.DataFrame(times)                          ; ttimes.to_csv(output_folder/\"gL_T.csv\")\n",
    "plt.figure(figsize=(3, 1))  ; plt.plot(mf6conc)          ; plt.xlabel('Distance_x_1D (m)')   ; plt.ylabel('Concentration') ; plt.show()"
   ]
  },
  {
   "cell_type": "code",
   "execution_count": null,
   "id": "f61fb9cb-7aea-4708-83d7-349a704bb53c",
   "metadata": {},
   "outputs": [],
   "source": []
  },
  {
   "cell_type": "code",
   "execution_count": null,
   "id": "abe51d34-b00e-4023-9925-382c616e0207",
   "metadata": {},
   "outputs": [],
   "source": []
  }
 ],
 "metadata": {
  "jupytext": {
   "cell_metadata_filter": "-all"
  },
  "kernelspec": {
   "display_name": "Python 3 (ipykernel)",
   "language": "python",
   "name": "python3"
  },
  "language_info": {
   "codemirror_mode": {
    "name": "ipython",
    "version": 3
   },
   "file_extension": ".py",
   "mimetype": "text/x-python",
   "name": "python",
   "nbconvert_exporter": "python",
   "pygments_lexer": "ipython3",
   "version": "3.12.7"
  }
 },
 "nbformat": 4,
 "nbformat_minor": 5
}
