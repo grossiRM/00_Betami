{
 "cells": [
  {
   "cell_type": "code",
   "execution_count": 1,
   "id": "c8bb7a07-6a09-46f0-904d-748999b460e3",
   "metadata": {
    "jupyter": {
     "source_hidden": true
    }
   },
   "outputs": [],
   "source": [
    "import os; import sys ; import matplotlib as mpl ; import matplotlib.pyplot as plt ; import numpy as np ; from flopy.plot.styles import styles\n",
    "import pathlib; from pathlib import Path; import pandas as pd; import flopy ; from modflow_devtools.misc import get_env, timed\n",
    "from pprint import pformat; import csv ; from flopy.utils.util_array import read1d ; from PIL import Image\n",
    "write = get_env(\"WRITE\", True) ; run = get_env(\"RUN\", True) ;  plot = get_env(\"PLOT\", True)\n",
    "plot_show = get_env(\"PLOT_SHOW\", True) ; plot_save = get_env(\"PLOT_SAVE\", True)"
   ]
  },
  {
   "cell_type": "code",
   "execution_count": 2,
   "id": "3929f082-487a-4fbe-bd3c-85c8fe33be17",
   "metadata": {},
   "outputs": [
    {
     "name": "stdout",
     "output_type": "stream",
     "text": [
      "E:\\15_REPOS\\00_BETAMI\\98_Plus\\02_MT3D\n"
     ]
    }
   ],
   "source": [
    "example_name = \"ex-gwt-mt3dms-p09\"\n",
    "exe_name = 'E:\\\\15_REPOS\\\\00_BETAMI\\\\bin\\\\mf6'\n",
    "current_directory = os.getcwd();  print(current_directory)"
   ]
  },
  {
   "cell_type": "code",
   "execution_count": 3,
   "id": "bca3cba3-ef85-496f-985a-cd3bc8834aba",
   "metadata": {},
   "outputs": [],
   "source": [
    "path = pathlib.Path('E:\\\\15_REPOS\\\\00_BETAMI\\\\98_Plus\\\\02_MT3D')\n",
    "path.mkdir(parents=True, exist_ok=True); os.chdir(path); current_directory = os.getcwd()\n",
    "directory_name = 'ex-RES'    ; workspace = os.path.join('.', directory_name)\n",
    "if os.path.isdir(workspace) is False:\n",
    "    os.mkdir(workspace)                         \n",
    "output_folder = Path('ex-RES\\\\p09_mf6_V01c') ; output_folder.mkdir(exist_ok=True)          # sim_name = directory_name"
   ]
  },
  {
   "cell_type": "code",
   "execution_count": 4,
   "id": "76a2def5",
   "metadata": {},
   "outputs": [],
   "source": [
    "# Parameters\n",
    "length_units = \"meters\" ; time_units = \"seconds\" ; nlay=1;\n",
    "nrow=18;ncol=14;delr=100.0;delc=100.0;delz=10.0;top=0.0;prsity=0.3  ;k1=1.474e-4;  k2=1.474e-7  ;inj=0.001;ext=-0.0189;al=20.0;trpt=0.2;perlen=2.0;\n",
    "\n",
    "hk = k1 * np.ones((nlay, nrow, ncol), dtype=float)                        ; hk[:, 5:8, 1:8]  = k2       ; laytyp = icelltype = 0\n",
    "ibound = np.ones((nlay, nrow, ncol), dtype=int)    ; ibound[0, 0, :] = -1 ; ibound[0, -1, :] = -1\n",
    "idomain = np.ones((nlay, nrow, ncol), dtype=int)   ; icbund = 1\n",
    "\n",
    "qwell1 = 0.001 ; qwell2 = -0.0189 ; welspd = {0: [[0, 3, 6, qwell1], [0, 10, 6, qwell2]]}  ; cwell1 = 57.87 ; cwell0 = 0.0   \n",
    "\n",
    "wellist_sp1 = [] ; wellist_sp1.append([(0, 3, 6), qwell1, cwell1]) ;  wellist_sp1.append([(0, 10, 6), qwell2, cwell0])    # MF6\n",
    "wellist_sp2 = [] ; wellist_sp2.append([(0, 3, 6), qwell1, cwell0]) ;  wellist_sp2.append([(0, 10, 6), qwell2, cwell0])    # Injection /  Pumping \n",
    "spd_mf6 = {0: wellist_sp1, 1: wellist_sp2}\n",
    "\n",
    "sconc = 0.0 ; ath1 = al * trpt ; dmcoef = 0.0 ; perlen = [365.0 * 86400, 365.0 * 86400] ; steady = [False, False] ; nper = len(perlen)\n",
    "nstp = [365, 365] ;  tsmult = [1.0, 1.0]  ; sconc = 0.0 ; c0 = 0.0 ; botm = [top - delz] ; mixelm = -1\n",
    "\n",
    "nouter, ninner = 100, 300 ; hclose, rclose, relax = 1e-6, 1e-6, 1.0 ; percel = 1.0 ; itrack = 2 ; wd = 0.5 ; dceps = 1.0e-5 ; \n",
    "nplane = 0 ; npl = 0 ; nph = 16 ; npmin = 2 ; npmax = 32 ; dchmoc = 1.0e-3 ; nlsink = nplane ; npsink = nph ; nadvfd = 1  ; mixelm=0"
   ]
  },
  {
   "cell_type": "code",
   "execution_count": 11,
   "id": "e9ccd50d-2f59-4604-abdd-4d2c94137283",
   "metadata": {},
   "outputs": [
    {
     "data": {
      "text/plain": [
       "(True, [])"
      ]
     },
     "execution_count": 11,
     "metadata": {},
     "output_type": "execute_result"
    }
   ],
   "source": [
    "name = \"p09-mf6\"  ;    gwfname = \"gwf-\" + name   ; sim_name = 'no_function'\n",
    "sim_ws = os.path.join(output_folder, sim_name)\n",
    "sim = flopy.mf6.MFSimulation(sim_name=sim_name, sim_ws=sim_ws, exe_name=\"mf6\")\n",
    "tdis_rc = []\n",
    "for i in range(nper):\n",
    "    tdis_rc.append((perlen[i], nstp[i], tsmult[i]))\n",
    "flopy.mf6.ModflowTdis(sim, nper=nper, perioddata = tdis_rc, time_units=time_units)   # tdis_rc\n",
    "gwf    = flopy.mf6.ModflowGwf(sim,modelname=gwfname,save_flows=True,model_nam_file=f\"{gwfname}.nam\")\n",
    "imsgwf = flopy.mf6.ModflowIms(sim,print_option=\"SUMMARY\",outer_dvclose=hclose,outer_maximum=nouter,under_relaxation=\"NONE\",\n",
    "                              inner_maximum=ninner,inner_dvclose=hclose,rcloserecord=rclose,linear_acceleration=\"CG\",\n",
    "                              scaling_method=\"NONE\",reordering_method=\"NONE\",relaxation_factor=relax,filename=f\"{gwfname}.ims\")\n",
    "sim.register_ims_package     (imsgwf, [gwf.name])                      # MF6_____________________________________________________________________\n",
    "flopy.mf6.ModflowGwfdis      (gwf,length_units=length_units,nlay=nlay,nrow=nrow,ncol=ncol,delr=delr,delc=delc,top=top,botm=botm,\n",
    "                              idomain=idomain,filename=f\"{gwfname}.dis\")\n",
    "\n",
    "strt = np.zeros((nlay, nrow, ncol), dtype=float)  ; strt[0, 0, :] = 250.0  ;      xc = gwf.modelgrid.xcellcenters                                                                     # _______________ xc \n",
    "for j in range(ncol):\n",
    "    strt[0, -1, j] = 20.0 + (xc[-1, j] - xc[-1, 0]) * 2.5 / 100                                                 # _______________ xc\n",
    "flopy.mf6.ModflowGwfic(gwf, strt=strt, filename=f\"{gwfname}.ic\")\n",
    "flopy.mf6.ModflowGwfnpf(gwf,save_flows=False,icelltype=icelltype,k=hk,k33=hk,save_specific_discharge=True,filename=f\"{gwfname}.npf\")\n",
    "sto = flopy.mf6.ModflowGwfsto(gwf, ss=1.0e-05)\n",
    "chdspd = []\n",
    "for j in np.arange(ncol):\n",
    "    chdspd.append([(0,0,j), 250, 0]) ; hd = 20 + (xc[-1,j]-xc[-1,0])*2.5/100 ; chdspd.append([(0,17,j), hd, 0])  # _______________ xc\n",
    "chdspd = {0: chdspd}\n",
    "flopy.mf6.ModflowGwfchd  (gwf,maxbound=len(chdspd),   stress_period_data=chdspd,    save_flows=False,    # stress_period_data=chdspd\n",
    "                          auxiliary=\"CONCENTRATION\",pname=\"CHD-1\",filename=f\"{gwfname}.chd\")\n",
    "\n",
    "flopy.mf6.ModflowGwfwel  (gwf,print_input=True,print_flows=True,stress_period_data=spd_mf6,save_flows=False,\n",
    "                          auxiliary=\"CONCENTRATION\",pname=\"WEL-1\",filename=f\"{gwfname}.wel\")\n",
    "flopy.mf6.ModflowGwfoc   (gwf,head_filerecord=f\"{gwfname}.hds\",budget_filerecord=f\"{gwfname}.bud\",\n",
    "                          headprintrecord=[(\"COLUMNS\", 10, \"WIDTH\", 15, \"DIGITS\", 6, \"GENERAL\")],\n",
    "                          saverecord=[(\"HEAD\", \"LAST\"), (\"BUDGET\", \"LAST\")], printrecord=[(\"HEAD\", \"LAST\"), (\"BUDGET\", \"LAST\")])                         \n",
    "gwtname = \"gwt-\" + name\n",
    "gwt = flopy.mf6.MFModel(sim,model_type=\"gwt6\",modelname=gwtname,model_nam_file=f\"{gwtname}.nam\")  ;         gwt.name_file.save_flows = True\n",
    "imsgwt = flopy.mf6.ModflowIms(sim,print_option=\"SUMMARY\",outer_dvclose=hclose,outer_maximum=nouter,under_relaxation=\"NONE\",\n",
    "                              inner_maximum=ninner,inner_dvclose=hclose,rcloserecord=rclose, linear_acceleration=\"BICGSTAB\",\n",
    "                              scaling_method=\"NONE\",reordering_method=\"NONE\",relaxation_factor=relax,filename=f\"{gwtname}.ims\")                  \n",
    "sim.register_ims_package(imsgwt, [gwt.name])\n",
    "flopy.mf6.ModflowGwtdis(gwt,nlay=nlay,nrow=nrow,ncol=ncol,delr=delr,delc=delc,top=top,botm=botm,idomain=idomain,filename=f\"{gwtname}.dis\")\n",
    "flopy.mf6.ModflowGwtic(gwt, strt=sconc, filename=f\"{gwtname}.ic\")\n",
    "if mixelm >= 0:\n",
    "    scheme = \"UPSTREAM\"\n",
    "elif mixelm == -1:\n",
    "    scheme = \"TVD\"\n",
    "else:\n",
    "    raise Exception()\n",
    "flopy.mf6.ModflowGwtadv(gwt, scheme=scheme, filename=f\"{gwtname}.adv\")\n",
    "if al != 0:\n",
    "     flopy.mf6.ModflowGwtdsp(gwt,xt3d_off=True,alh=al,ath1=ath1,filename=f\"{gwtname}.dsp\",)\n",
    "flopy.mf6.ModflowGwtmst(gwt,porosity=prsity,first_order_decay=False,decay=None,decay_sorbed=None,sorption=None,\n",
    "                        bulk_density=None,distcoef=None,filename=f\"{gwtname}.mst\") \n",
    "sourcerecarray = [(\"WEL-1\", \"AUX\", \"CONCENTRATION\"),(\"CHD-1\", \"AUX\", \"CONCENTRATION\")]\n",
    "flopy.mf6.ModflowGwtssm(gwt, sources=sourcerecarray, filename=f\"{gwtname}.ssm\")\n",
    "flopy.mf6.ModflowGwtoc(gwt,budget_filerecord=f\"{gwtname}.cbc\",concentration_filerecord=f\"{gwtname}.ucn\",\n",
    "                       concentrationprintrecord=[(\"COLUMNS\", 10, \"WIDTH\", 15, \"DIGITS\", 6, \"GENERAL\")],\n",
    "                       saverecord=[(\"CONCENTRATION\", \"LAST\"), (\"BUDGET\", \"LAST\")],\n",
    "                       printrecord=[(\"CONCENTRATION\", \"LAST\"), (\"BUDGET\", \"LAST\")], filename=f\"{gwtname}.oc\")\n",
    "flopy.mf6.ModflowGwfgwt(sim,exgtype=\"GWF6-GWT6\",exgmnamea=gwfname,exgmnameb=gwtname,filename=f\"{name}.gwfgwt\")\n",
    "\n",
    "sim.write_simulation(silent=True)\n",
    "sim.run_simulation(silent=True)"
   ]
  },
  {
   "cell_type": "raw",
   "id": "eebad455-6c32-491c-8672-3d59ab03a86e",
   "metadata": {
    "jupyter": {
     "source_hidden": true
    }
   },
   "source": [
    "def plot_results(mf6, idx, ax=None):\n",
    "    mf6.simulation_data.mfpath.get_sim_path()\n",
    "    gwt = mf6.get_model(list(mf6.model_names)[1])            ; ucnobj_mf6 = gwt.output.concentration()       ; conc_mf6 = ucnobj_mf6.get_alldata()\n",
    "\n",
    "    with styles.USGSPlot() as fs:\n",
    "        sim_name = mf6.name  ; plt.rcParams[\"lines.dashed_pattern\"] = [5.0, 5.0]   ; levels = np.arange(0.2, 10, 0.4)  ; stp_idx = 0  # 1,2\n",
    "        axWasNone = False\n",
    "        if ax is None:\n",
    "            fig = plt.figure(figsize=(5, 3), dpi=150, tight_layout=True)\n",
    "            ax = fig.add_subplot(1, 2, 1, aspect=\"equal\")\n",
    "            axWasNone = True\n",
    "\n",
    "        ax = fig.add_subplot(1, 2, 1, aspect=\"equal\")       ; cflood = np.ma.masked_less_equal(conc_mt3d[stp_idx], 0.2)\n",
    "#        mm = flopy.plot.PlotMapView(ax=ax, model=mf2k5)     ; mm.plot_array(hk, masked_values=[hk[0, 0, 0]], alpha=0.2)\n",
    "#        mm.plot_ibound()                                    ; mm.plot_grid(color=\".5\", alpha=0.2)\n",
    "        \n",
    "        cs = mm.plot_array(cflood[0], alpha=0.5, vmin=0, vmax=3)  ; cs = mm.contour_array(conc_mt3d[stp_idx], colors=\"k\", levels=levels)\n",
    "        plt.clabel(cs)                         ; plt.xlabel(\"Distance Along X-Axis, in meters\")  ; plt.ylabel(\"Distance Along Y-Axis, in meters\")\n",
    "        title = \"MT3D - End of SP \" + str(stp_idx + 1) ; letter = chr(ord(\"@\") + idx + 1)        ; styles.heading(letter=letter, heading=title)\n",
    "\n",
    "        if axWasNone:\n",
    "            ax = fig.add_subplot(1, 2, 2, aspect=\"equal\")\n",
    "        ;                                                     cflood = np.ma.masked_less_equal(conc_mf6[stp_idx], 0.2)\n",
    "#        mm = flopy.plot.PlotMapView(ax=ax, model=mf2k5)     ; mm.plot_array(hk, masked_values=[hk[0, 0, 0]], alpha=0.2)   \n",
    "#        mm.plot_ibound()                                    ; mm.plot_grid(color=\".5\", alpha=0.2)\n",
    "        \n",
    "        cs = mm.plot_array(cflood[0], alpha=0.5, vmin=0, vmax=3)   ; cs = mm.contour_array(conc_mf6[stp_idx], colors=\"k\", levels=levels)\n",
    "        plt.clabel(cs)                        ; plt.xlabel(\"Distance Along X-Axis, in meters\")  ; plt.ylabel(\"Distance Along Y-Axis, in meters\")\n",
    "        title = \"MF66- (08 years) \" + str(stp_idx + 1) ; letter = chr(ord(\"@\") + idx + 2)       ; styles.heading(letter=letter, heading=title)\n",
    "\n",
    "        if plot_show:\n",
    "            plt.show()"
   ]
  },
  {
   "cell_type": "code",
   "execution_count": 6,
   "id": "ccb0b9a2-0c64-4af4-be62-d6f04320b5ae",
   "metadata": {},
   "outputs": [],
   "source": [
    "xc = gwf.modelgrid.xcellcenters; save = pd.DataFrame(xc)   ; save.to_csv (output_folder / \"xc.csv\") "
   ]
  },
  {
   "cell_type": "code",
   "execution_count": 7,
   "id": "27b76cc7-1163-44aa-9d99-91a70fd14754",
   "metadata": {},
   "outputs": [
    {
     "name": "stdout",
     "output_type": "stream",
     "text": [
      "(18, 14)\n"
     ]
    }
   ],
   "source": [
    "print(xc.shape)"
   ]
  },
  {
   "cell_type": "code",
   "execution_count": 8,
   "id": "0a6619f1-81d6-4fd9-a6c8-311166100fca",
   "metadata": {},
   "outputs": [],
   "source": [
    "strt = np.zeros((nlay, nrow, ncol), dtype=float)  ; strt[0, 0, :] = 250.0                        # (18,14).(0,:).(c,r).(y.x)\n",
    "strt2 = strt [0,:,:] ; save = pd.DataFrame(strt2)  ; save.to_csv (output_folder / \"strt_2.csv\")  # print(strt.shape\n",
    "xc = gwf.modelgrid.xcellcenters  # (MT3D_MF5)                                                                    # _______________ xc \n",
    "for j in range(ncol):\n",
    "    strt[0, -1, j] = 20.0 + (xc[-1, j] - xc[-1, 0]) * 2.5 / 100 \n",
    "strt3 = strt [0,:,:] ; save = pd.DataFrame(strt3)   ; save.to_csv (output_folder / \"strt_3.csv\") "
   ]
  },
  {
   "cell_type": "code",
   "execution_count": 9,
   "id": "4e363632-294d-443e-919b-44b2100295fe",
   "metadata": {},
   "outputs": [
    {
     "data": {
      "text/plain": [
       "dict"
      ]
     },
     "execution_count": 9,
     "metadata": {},
     "output_type": "execute_result"
    }
   ],
   "source": [
    "chdspd = []\n",
    "for j in np.arange(ncol):\n",
    "    chdspd.append([(0,0,j), 250, 0]) ; hd = 20 + (xc[-1,j]-xc[-1,0])*2.5/100 ; chdspd.append([(0,17,j), hd, 0])  # _______________ xc\n",
    "chdspd = {0: chdspd}  ; type(chdspd)"
   ]
  },
  {
   "cell_type": "code",
   "execution_count": 10,
   "id": "cd903be4-0637-49a1-b465-79c34e7d7bc9",
   "metadata": {},
   "outputs": [],
   "source": [
    "# to do ... export dict ... or take oc .... times ... then conc ... heads .... mass ... wells ... k ... "
   ]
  }
 ],
 "metadata": {
  "jupytext": {
   "cell_metadata_filter": "-all"
  },
  "kernelspec": {
   "display_name": "Python 3 (ipykernel)",
   "language": "python",
   "name": "python3"
  },
  "language_info": {
   "codemirror_mode": {
    "name": "ipython",
    "version": 3
   },
   "file_extension": ".py",
   "mimetype": "text/x-python",
   "name": "python",
   "nbconvert_exporter": "python",
   "pygments_lexer": "ipython3",
   "version": "3.12.7"
  }
 },
 "nbformat": 4,
 "nbformat_minor": 5
}
