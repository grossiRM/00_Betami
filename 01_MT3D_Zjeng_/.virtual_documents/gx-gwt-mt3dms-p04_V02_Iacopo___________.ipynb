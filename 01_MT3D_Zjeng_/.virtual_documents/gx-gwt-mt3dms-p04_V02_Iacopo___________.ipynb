import os; import sys ; import matplotlib as mpl ; import matplotlib.pyplot as plt ; import numpy as np
import pathlib; from pathlib import Path; import pandas as pd; import flopy


example_name = "MT3D_tutorial_03"
exe_name_mf = 'E:\\15_REPOS\\00_BETAMI\\bin\\mf2005'
exe_name_mt = 'E:\\15_REPOS\\00_BETAMI\\bin\\mt3d-usgs_1.1.0_64'
current_directory = os.getcwd();  print(current_directory)


path = pathlib.Path('E:\\15_REPOS\\00_BETAMI\\98_Plus\\02_MT3D')
path.mkdir(parents=True, exist_ok=True); os.chdir(path); current_directory = os.getcwd()
directory_name = 'ex-RES'    ; workspace = os.path.join('.', directory_name)
if os.path.isdir(workspace) is False:
    os.mkdir(workspace)                   # output_folder = Path('C_p04_V02_Iacopo') ; output_folder.mkdir(exist_ok=True)


def p04(dirname, mixelm):
    model_ws = os.path.join(workspace, dirname)
    nlay = 1  ; nrow = 100 ; ncol = 100 ; delr = 10 ; delc = 10 ; delv = 1 ; Lx = (ncol - 1) * delr ; Ly = (nrow - 1) * delc
    Ls = np.sqrt(Lx**2 + Ly**2); v = 1.0 ; prsity = 0.14 ; q = v * prsity ; al = 2.0; trpt = 0.1 ; q0 = 0.01 ; c0 = 1000.0
    perlen_mf = 1000.0  ; perlen_mt = 1000.0  ;  hk = 1.0 ; laytyp = 0
    modelname_mf = f"{dirname}_mf"
    mf = flopy.modflow.Modflow(modelname=modelname_mf, model_ws=model_ws, exe_name=exe_name_mf)
    dis = flopy.modflow.ModflowDis(mf,nlay=nlay,nrow=nrow,ncol=ncol,delr=delr,delc=delc,top=0.0,botm=[0 - delv],perlen=perlen_mf)
    ibound = np.ones((nlay, nrow, ncol), dtype=int) * -1   ;  ibound[:, 1 : nrow - 1, 1 : ncol - 1] = 1
    h1 = q * Ls      ; x = mf.modelgrid.xcellcenters       ;  y = mf.modelgrid.ycellcenters
    a = -1 ; b = -1  ; c = 1 ;     d = abs(a * x + b * y + c) / np.sqrt(2)   ; strt = h1 - d / Ls * h1

    bas = flopy.modflow.ModflowBas(mf, ibound=ibound, strt=strt)
    lpf = flopy.modflow.ModflowLpf(mf, hk=hk, laytyp=laytyp)
    wel = flopy.modflow.ModflowWel(mf, stress_period_data=[[0, 79, 20, q0]])
    pcg = flopy.modflow.ModflowPcg(mf)
    lmt = flopy.modflow.ModflowLmt(mf)   ; mf.write_input() ; mf.run_model(silent=True) ;  modelname_mt = f"{dirname}_mt"
    
    mt = flopy.mt3d.Mt3dms(modelname=modelname_mt,model_ws=model_ws,exe_name=exe_name_mt,modflowmodel=mf)
    btn = flopy.mt3d.Mt3dBtn(mt, icbund=1, prsity=prsity, sconc=0)
    dceps = 1.0e-5  ; nplane = 1 ;  npl = 0 ; nph = 16 ; npmin = 2 ; npmax = 32 ; dchmoc = 1.0e-3 ; nlsink = nplane ; npsink = nph
    
    adv = flopy.mt3d.Mt3dAdv(mt,mixelm=mixelm,dceps=dceps,nplane=nplane,npl=npl,nph=nph,npmin=npmin,npmax=npmax,nlsink=nlsink,npsink=npsink,percel=0.5)
    dsp = flopy.mt3d.Mt3dDsp(mt, al=al, trpt=trpt)          ;     spd = {0: [0, 79, 20, c0, 2]}
    ssm = flopy.mt3d.Mt3dSsm(mt, stress_period_data=spd)
    gcg = flopy.mt3d.Mt3dGcg(mt)
    
    mt.write_input()
    fname = os.path.join(model_ws, "MT3D001.UCN")
    if os.path.isfile(fname):
        os.remove(fname)
    mt.run_model(silent=True)
    fname = os.path.join(model_ws, "MT3D001.UCN")
    ucnobj = flopy.utils.UcnFile(fname) ;     times = ucnobj.get_times()  ;     conc = ucnobj.get_alldata()
    fname = os.path.join(model_ws, "MT3D001.OBS")
    if os.path.isfile(fname):
        cvt = mt.load_obs(fname)
    else:
        cvt = None
    fname = os.path.join(model_ws, "MT3D001.MAS")  ;     mvt = mt.load_mas(fname)
    return mf, mt, conc, cvt, mvt


ax = plt.subplot(1,1,1,aspect="equal")  ; mf, mt, conc, cvt, mvt = p04("p04", -1)  # _________ 1 MOC   0  UPSTREAM  -1  TVD    
grid = mf.modelgrid   ;   conc = conc[0, :, :, :]       ; levels = [0.1, 1.0, 1.5, 2.0, 5.0]   ; pmv = flopy.plot.PlotMapView(model=mf)
cf = plt.contourf(grid.xcellcenters, grid.ycellcenters, conc[0], levels=levels)
plt.colorbar(cf, shrink=0.5)  ;  cs = pmv.contour_array(conc, levels=levels, colors="k")  ; plt.clabel(cs)
plt.xlabel("DISTANCE ALONG X-AXIS, IN METERS") ; plt.ylabel("DISTANCE ALONG Y-AXIS, IN METERS")  # ; plt.title("MOC")


ncol = 100 ; nrow = 100 ; delr = 10 ; delc = 10 
Lx = (ncol - 1) * delr  
Ly = (nrow - 1) * delc
Ls = np.sqrt(Lx**2 + Ly**2);   Lx, Ly, Ls


x = mf.modelgrid.xcellcenters  ; y = mf.modelgrid.ycellcenters  
a = -1 ; b = -1  ; c = 1 ;     d = abs(a * x + b * y + c) / np.sqrt(2)   ; d


v = 1.0 ; prsity = 0.14 ; q = v * prsity  ; h1 = q * Ls  ; strt = h1 - d / Ls * h1  ; strt


print(mvt.shape)


mvt



