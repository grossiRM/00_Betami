{
 "cells": [
  {
   "cell_type": "markdown",
   "id": "ff87d21c-181c-4eb3-9d09-aba41ffe8700",
   "metadata": {},
   "source": [
    "# __Basic_Flopy_example__02__"
   ]
  },
  {
   "cell_type": "code",
   "execution_count": 1,
   "id": "abbe0603-8259-4f7c-a346-722d43e4e305",
   "metadata": {},
   "outputs": [],
   "source": [
    "import os\n",
    "import sys\n",
    "import flopy\n",
    "from pathlib import Path\n",
    "import numpy as np                         # np \n",
    "import flopy.utils as fpu                  # fpu\n",
    "import matplotlib.pyplot as plt            # plt\n",
    "import flopy.utils.binaryfile as bf        # import flopy.modflow as fpm         # import matplotlib as mpl        # from pprint import pformat"
   ]
  },
  {
   "cell_type": "code",
   "execution_count": 2,
   "id": "8e3e7c6d-3827-4604-b61b-0e2881039533",
   "metadata": {},
   "outputs": [],
   "source": [
    "name = \"B\"\n",
    "ws = os.path.join(\"temp_02\")\n",
    "C = flopy.modflow.Modflow(name, exe_name=\"MF2005\", model_ws=ws)"
   ]
  },
  {
   "cell_type": "code",
   "execution_count": 3,
   "id": "71fa375f-1a73-4884-b594-a37abbeffafa",
   "metadata": {},
   "outputs": [],
   "source": [
    "Lx,Ly,   ztop,zbot,   nper = 100,10,   0,-10,   1\n",
    "nlay, nrow, ncol = 1, 40, 20\n",
    "delr, delc, delv = Lx / ncol, Ly / nrow, (ztop - zbot) / nlay           #  Lx / ncol, Ly / nrow,       # 10,1,\n",
    "botm             = np.linspace(ztop, zbot, nlay + 1)                    # perlen, nstp = [1, 100, 100], [1, 100, 100]  # steady = [True, False, False]\n",
    "dis = flopy.modflow.ModflowDis(C, nlay, nrow, ncol, delr=delr, delc=delc, top=ztop, botm=botm[1:], nper=nper)"
   ]
  },
  {
   "cell_type": "code",
   "execution_count": 4,
   "id": "3e664b52-f9f3-42c6-80be-5a79a2c62203",
   "metadata": {},
   "outputs": [],
   "source": [
    "ibound = np.ones((nlay, nrow, ncol), dtype=np.int32)                   \n",
    "ibound[0, 0] = ibound[0, -1] = -1\n",
    "bas = flopy.modflow.ModflowBas(C, ibound=ibound, strt=20)"
   ]
  },
  {
   "cell_type": "code",
   "execution_count": 5,
   "id": "190958ec-fcc9-4675-9a9d-bbc0ac22e118",
   "metadata": {},
   "outputs": [],
   "source": [
    "hk, laytyp = 1, 1    # mode convertible                 \n",
    "lpf = flopy.modflow.ModflowLpf(C, hk=hk, laytyp=laytyp, ipakcb=1)    "
   ]
  },
  {
   "cell_type": "code",
   "execution_count": 6,
   "id": "a3b34729-46e4-4af7-bcd4-3d3125add643",
   "metadata": {},
   "outputs": [],
   "source": [
    "Rch = flopy.modflow.ModflowRch(C, rech=0.001)"
   ]
  },
  {
   "cell_type": "markdown",
   "id": "99faabb1-0c83-43f6-9078-dc82295591f1",
   "metadata": {},
   "source": [
    "# __Wells_1,2__"
   ]
  },
  {
   "cell_type": "code",
   "execution_count": 7,
   "id": "797af11a-158e-46e3-acd9-c94d003638c0",
   "metadata": {},
   "outputs": [],
   "source": [
    "lrcq = {0: [0, 20, 10, -100]}                                      # nrow, ncol = 40, 20\n",
    "wel = flopy.modflow.ModflowWel(C, stress_period_data=lrcq)"
   ]
  },
  {
   "cell_type": "code",
   "execution_count": 8,
   "id": "69f0c1a4-3665-4d9e-b8d8-9104b8a109cf",
   "metadata": {},
   "outputs": [],
   "source": [
    "pcg = flopy.modflow.ModflowPcg(C)"
   ]
  },
  {
   "cell_type": "code",
   "execution_count": 9,
   "id": "b02c876f-d15b-4a8c-ab59-6777250e8f41",
   "metadata": {},
   "outputs": [],
   "source": [
    "spd = {(0, 0): [\"print head\", \"print budget\", \"save head\", \"save budget\"]}        \n",
    "oc = flopy.modflow.ModflowOc(C, stress_period_data=spd, compact=True)\n",
    "C.write_input()        # C.write_simulation() #__mf6__?"
   ]
  },
  {
   "cell_type": "code",
   "execution_count": 10,
   "id": "bd4a3f88-eb98-4429-bdcb-b996e38da768",
   "metadata": {},
   "outputs": [],
   "source": [
    "success, buff = C.run_model(silent=True, report=True)\n",
    "assert success, \"nope.\""
   ]
  },
  {
   "cell_type": "markdown",
   "id": "d7f44b38-1121-486f-be32-9f699a5834a2",
   "metadata": {},
   "source": [
    "# __Plot_01__"
   ]
  },
  {
   "cell_type": "code",
   "execution_count": 11,
   "id": "312bedb4-4416-49b7-97bf-6136a9a90d1a",
   "metadata": {},
   "outputs": [
    {
     "data": {
      "image/png": "[encoded data removed]",
      "text/plain": [
       "<Figure size 640x480 with 1 Axes>"
      ]
     },
     "metadata": {},
     "output_type": "display_data"
    }
   ],
   "source": [
    "hds = os.path.join(ws, \"B.hds\")\n",
    "hfile = fpu.HeadFile(hds)            # import flopy.utils as fpu\n",
    "h = hfile.get_data(totim=1.0)\n",
    "\n",
    "ax = plt.subplot(111)                     # import matplotlib.pyplot as plt            \n",
    "x = C.modelgrid.xcellcenters[0]\n",
    "ax.plot(x, h[0, 0, :])\n",
    "ax.set_xlim(0, x.max())\n",
    "ax.set_xlabel(\"x(m)\")\n",
    "ax.set_ylabel(\"head(m)\")\n",
    "plt.show()"
   ]
  },
  {
   "cell_type": "markdown",
   "id": "1c5e4c14-a48a-4513-95d2-a08d20a84ba0",
   "metadata": {},
   "source": [
    "# __Plot_02__"
   ]
  },
  {
   "cell_type": "code",
   "execution_count": 12,
   "id": "f594f820-0cc0-473f-a4f5-6eb7730bdde2",
   "metadata": {},
   "outputs": [],
   "source": [
    "hds = bf.HeadFile(Path(ws) / f\"{name}.hds\")           # bf\n",
    "head = hds.get_data(totim=1.0)\n",
    "# head = hds.get_data(totim=times[-1])\n",
    "times = hds.get_times()"
   ]
  },
  {
   "cell_type": "code",
   "execution_count": 13,
   "id": "6c819b2d-452c-46a4-b9da-c0c2245657d1",
   "metadata": {},
   "outputs": [
    {
     "data": {
      "text/plain": [
       "<matplotlib.contour.QuadContourSet at 0x19c8ab9d050>"
      ]
     },
     "execution_count": 13,
     "metadata": {},
     "output_type": "execute_result"
    },
    {
     "data": {
      "image/png": "[encoded data removed]",
      "text/plain": [
       "<Figure size 300x300 with 1 Axes>"
      ]
     },
     "metadata": {},
     "output_type": "display_data"
    }
   ],
   "source": [
    "extent = (delr / 2.0, Lx - delr / 2.0, Ly - delc / 2.0, delc / 2.0)      # delr / 2.0  = \n",
    "fig = plt.figure(figsize=(3, 3))\n",
    "ax = fig.add_subplot(1, 1, 1, aspect=\"equal\")\n",
    "ax.contour(head[0, :, :], levels=np.arange(1, 10, 1), extent=extent)      # plt.tight_layout()"
   ]
  },
  {
   "cell_type": "code",
   "execution_count": 14,
   "id": "a47fa760-7f20-40ed-afa4-91776ddb9b3a",
   "metadata": {},
   "outputs": [
    {
     "data": {
      "image/png": "[encoded data removed]",
      "text/plain": [
       "<Figure size 300x300 with 1 Axes>"
      ]
     },
     "metadata": {},
     "output_type": "display_data"
    }
   ],
   "source": [
    "cbb = bf.CellBudgetFile(Path(ws) / f\"{name}.cbc\")                 \n",
    "kstpkper_list = cbb.get_kstpkper()\n",
    "\n",
    "frf = cbb.get_data(text=\"FLOW RIGHT FACE\", totim=times[-1])[0]\n",
    "fff = cbb.get_data(text=\"FLOW FRONT FACE\", totim=times[-1])[0]\n",
    "qx, qy, qz = flopy.utils.postprocessing.get_specific_discharge((frf, fff, None), C, head)    \n",
    "\n",
    "fig = plt.figure(figsize=(3, 3))\n",
    "ax = fig.add_subplot(1, 1, 1, aspect=\"equal\")\n",
    "modelmap = flopy.plot.PlotMapView(model=C, layer=0, ax=ax)          \n",
    "qm = modelmap.plot_ibound()\n",
    "lc = modelmap.plot_grid()\n",
    "cs = modelmap.contour_array(head, levels=np.linspace(0, 10, 11))     \n",
    "#quiver = modelmap.plot_vector(qx, qy)"
   ]
  },
  {
   "cell_type": "code",
   "execution_count": null,
   "id": "4f36a0a4-a3bd-4ea1-8a4b-54eb7750a60c",
   "metadata": {},
   "outputs": [],
   "source": []
  }
 ],
 "metadata": {
  "jupytext": {
   "notebook_metadata_filter": "metadata"
  },
  "kernelspec": {
   "display_name": "Python 3 (ipykernel)",
   "language": "python",
   "name": "python3"
  },
  "language_info": {
   "codemirror_mode": {
    "name": "ipython",
    "version": 3
   },
   "file_extension": ".py",
   "mimetype": "text/x-python",
   "name": "python",
   "nbconvert_exporter": "python",
   "pygments_lexer": "ipython3",
   "version": "3.11.11"
  },
  "metadata": {
   "section": "2016gw-paper"
  }
 },
 "nbformat": 4,
 "nbformat_minor": 5
}
