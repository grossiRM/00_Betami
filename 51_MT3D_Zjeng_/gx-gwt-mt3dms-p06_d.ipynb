{
 "cells": [
  {
   "cell_type": "code",
   "execution_count": 1,
   "id": "accac9f8-5028-406a-ab66-11867b098823",
   "metadata": {
    "jupyter": {
     "source_hidden": true
    }
   },
   "outputs": [],
   "source": [
    "import os; import sys ; import matplotlib as mpl ; import matplotlib.pyplot as plt ; import numpy as np\n",
    "import pathlib; from pathlib import Path; import pandas as pd; import flopy; from flopy.utils import MtListBudget"
   ]
  },
  {
   "cell_type": "code",
   "execution_count": 2,
   "id": "4b39a2a1-0d49-4ef8-a630-6f3dbcd5bc12",
   "metadata": {
    "collapsed": true,
    "jupyter": {
     "outputs_hidden": true
    }
   },
   "outputs": [
    {
     "name": "stdout",
     "output_type": "stream",
     "text": [
      "E:\\15_REPOS\\00_BETAMI\\98_Plus\\02_MT3D\n"
     ]
    }
   ],
   "source": [
    "exe_name_mf = 'E:\\\\15_REPOS\\\\00_BETAMI\\\\bin\\\\mf2005'\n",
    "exe_name_mt = 'E:\\\\15_REPOS\\\\00_BETAMI\\\\bin\\\\mt3d-usgs_1.1.0_64'\n",
    "current_directory = os.getcwd();  print(current_directory)"
   ]
  },
  {
   "cell_type": "code",
   "execution_count": 3,
   "id": "1713cfd0-f1fa-42e7-8cfd-1dc1a12d636d",
   "metadata": {},
   "outputs": [],
   "source": [
    "path = pathlib.Path('E:\\\\15_REPOS\\\\00_BETAMI\\\\98_Plus\\\\02_MT3D')\n",
    "path.mkdir(parents=True, exist_ok=True); os.chdir(path); current_directory = os.getcwd()\n",
    "directory_name = 'ex-RES'    ; workspace = os.path.join('.', directory_name)\n",
    "if os.path.isdir(workspace) is False:\n",
    "    os.mkdir(workspace)                 \n",
    "output_folder = Path('ex-RES\\\\p06_d') ; output_folder.mkdir(exist_ok=True)"
   ]
  },
  {
   "cell_type": "code",
   "execution_count": 4,
   "id": "b6b32911-360f-47bf-a670-882cc22fd10a",
   "metadata": {},
   "outputs": [],
   "source": [
    "def p06_d(dirname, mixelm, dt0):\n",
    "    model_ws = os.path.join(workspace, dirname)\n",
    "    nlay = 1 ;  nrow = 31 ;  ncol = 31 ;  delr = 900 ;  delc = 900 ;  delv = 20 ;  prsity = 0.30 ;  al = 100.0 ;  trpt = 1.0 ;  \n",
    "    q0 = 86400.0 ;  c0 = 100.0 ;  perlen_mf = [912.5, 2737.5] ; perlen_mt = perlen_mf ; hk = 0.005 * 86400;     laytyp = 0\n",
    "    nprs = 100  ; timprs = np.linspace(0, np.sum(perlen_mf), nprs, endpoint = False) ; timprs   # perlen_mf = [912.5, 2737.5] before extra\n",
    "\n",
    "    modelname_mf = f\"{dirname}_mf\"\n",
    "    mf = flopy.modflow.Modflow(modelname=modelname_mf, model_ws=model_ws, exe_name=exe_name_mf)\n",
    "    dis = flopy.modflow.ModflowDis(mf,nlay=nlay,nrow=nrow,ncol=ncol,delr=delr,delc=delc,top=0.0,botm=[0 - delv],nper=2, perlen=perlen_mf)  # nper=2\n",
    "    ibound = np.ones((nlay, nrow, ncol), dtype=int) * -1 ; ibound[ : ,1:nrow-1 ,1:ncol-1 ] = 1     ; strt = 0.0\n",
    "\n",
    "    bas = flopy.modflow.ModflowBas(mf, ibound=ibound, strt=strt)\n",
    "    lpf = flopy.modflow.ModflowLpf(mf, hk=hk, laytyp=laytyp)\n",
    "    welspd = {0: [[0, 15, 15, q0]], 1: [[0, 15, 15, -q0]]}    # ___ injection / extraction, _____ steady state instantaneously\n",
    "    wel = flopy.modflow.ModflowWel(mf, stress_period_data = welspd)\n",
    "    sip = flopy.modflow.ModflowSip(mf)\n",
    "    lmt = flopy.modflow.ModflowLmt(mf)                           ; mf.write_input()   ; mf.run_model(silent=True)\n",
    "\n",
    "    modelname_mt = f\"{dirname}_mt\"\n",
    "    mt = flopy.mt3d.Mt3dms(modelname=modelname_mt,model_ws=model_ws,exe_name=exe_name_mt,modflowmodel=mf)\n",
    "    btn = flopy.mt3d.Mt3dBtn(mt,icbund=1,prsity=prsity,sconc=0,nper=2,perlen=perlen_mt,dt0=dt0,   obs=[(0, 15, 15)] , timprs=timprs ) # timprs\n",
    "    dceps = 1.0e-5 ;  nplane = 1 ;  npl = 16 ;  nph = 16 ;  npmin = 4 ;  npmax = 32 ;  dchmoc = 1.0e-3 ;  nlsink = nplane; npsink = nph\n",
    "    adv = flopy.mt3d.Mt3dAdv(mt,mixelm=mixelm,dceps=dceps,nplane=nplane,npl=npl,\n",
    "                             nph=nph,npmin=npmin,npmax=npmax,nlsink=nlsink,npsink=npsink, percel=0.5)\n",
    "    dsp = flopy.mt3d.Mt3dDsp(mt, al=al, trpt=trpt)               ; spd = {0: [0, 15, 15, c0, 2], 1: [0, 15, 15, 0.0, 2]}\n",
    "    ssm = flopy.mt3d.Mt3dSsm(mt, stress_period_data = spd)\n",
    "    gcg = flopy.mt3d.Mt3dGcg(mt)                                 ; mt.write_input()\n",
    "    \n",
    "    fname = os.path.join(model_ws, \"MT3D001.UCN\")\n",
    "    if os.path.isfile(fname):\n",
    "        os.remove(fname)\n",
    "    mt.run_model(silent=True)\n",
    "    fname = os.path.join(model_ws, \"MT3D001.UCN\")  ; ucnobj = flopy.utils.UcnFile(fname) ; conc = ucnobj.get_alldata()\n",
    "    times = np.array(ucnobj.get_times())                    # times = ucnobj.get_times() \n",
    "    fname = os.path.join(model_ws, \"MT3D001.OBS\")\n",
    "    if os.path.isfile(fname):\n",
    "        cvt = mt.load_obs(fname)\n",
    "    else:\n",
    "        cvt = None\n",
    "    fname = os.path.join(model_ws, \"MT3D001.MAS\")      ; mvt = mt.load_mas(fname)\n",
    "    return mf, mt, conc, cvt, mvt, times"
   ]
  },
  {
   "cell_type": "code",
   "execution_count": 5,
   "id": "388e3d0d-a7ba-43e4-943a-451a288d736d",
   "metadata": {},
   "outputs": [],
   "source": [
    "dt0= 56.5 ;  mf, mt, conc, cvt, mvt, times = p06_d(\"p06_d\", -1, dt0)    # mixelm -1"
   ]
  },
  {
   "cell_type": "code",
   "execution_count": 21,
   "id": "5f6a0795-e5a1-4f83-8adb-30018aa06445",
   "metadata": {},
   "outputs": [],
   "source": [
    "conc1  = conc[:,0,:,:] ; save = conc1.reshape(conc1.shape[0],-1)  ; then=pd.DataFrame(save)  ; then.to_csv (output_folder / 'a_C.csv' )   \n",
    "conc2  = conc[1]  ;   conc3 = conc2[0,:,:]  ; then = pd.DataFrame(conc3)                     ; then.to_csv (output_folder / 'b_C(x,y).csv')   \n",
    "sa    = pd.DataFrame(times)                                                                  ;   sa.to_csv (output_folder / 'c_times.csv' )\n",
    "sa    = pd.DataFrame(cvt)                                                                    ;   sa.to_csv (output_folder / 'd_cvt.csv' )\n",
    "sa    = pd.DataFrame(mvt)                                                                    ;   sa.to_csv (output_folder / 'e_mvt.csv' )"
   ]
  },
  {
   "cell_type": "code",
   "execution_count": 7,
   "id": "b224ec66-7d8f-4a40-b679-103f99299098",
   "metadata": {},
   "outputs": [
    {
     "name": "stdout",
     "output_type": "stream",
     "text": [
      "perlen     [912.5, 2737.5]\n",
      "nper       2\n",
      "nprs       100\n",
      "model_time [ 912.5 3650. ]\n"
     ]
    },
    {
     "data": {
      "text/plain": [
       "(None, None, None, None)"
      ]
     },
     "execution_count": 7,
     "metadata": {},
     "output_type": "execute_result"
    }
   ],
   "source": [
    "# parameters (within fuction)\n",
    "perlen=[912.5,2737.5] ;  nprs=100 ; nper=2  ; model_time = np.cumsum(perlen) ; timprs = np.linspace(0, np.sum(perlen), nprs, endpoint = True)\n",
    "print('perlen    ',perlen), print('nper      ',nper) , print('nprs      ', nprs), print('model_time', model_time) # print('timprs    ', timprs)"
   ]
  },
  {
   "cell_type": "code",
   "execution_count": 8,
   "id": "d2fc2804-c816-425e-828e-213676ddad13",
   "metadata": {},
   "outputs": [
    {
     "name": "stdout",
     "output_type": "stream",
     "text": [
      "conc a_C_2_csv (101, 1, 31, 31)\n",
      "                               timprs = times           0\n",
      "0       0.0\n",
      "1      36.5\n",
      "2      73.0\n",
      "3     109.5\n",
      "4     146.0\n",
      "..      ...\n",
      "96   3504.0\n",
      "97   3540.5\n",
      "98   3577.0\n",
      "99   3613.5\n",
      "100  3650.0\n",
      "\n",
      "[101 rows x 1 columns]\n"
     ]
    },
    {
     "data": {
      "text/plain": [
       "(None, None)"
      ]
     },
     "execution_count": 8,
     "metadata": {},
     "output_type": "execute_result"
    }
   ],
   "source": [
    "fname = os.path.join(output_folder, 'MT3D001.UCN')      \n",
    "ucnobj = flopy.utils.UcnFile(fname)        ; conc = ucnobj.get_alldata()      ; times = ucnobj.get_times()  ; df = pd.DataFrame(times)\n",
    "print('conc a_C_2_csv', conc.shape) , print('timprs = times', df)"
   ]
  },
  {
   "cell_type": "code",
   "execution_count": 22,
   "id": "68961edd-cb6f-45e7-abe8-45231279fd22",
   "metadata": {},
   "outputs": [],
   "source": [
    "mt_list = MtListBudget(output_folder/'p06_d_mt.list' )\n",
    "gw_df, sw_df = mt_list.parse(start_datetime=\"01-01-2015\")\n",
    "sa = pd.DataFrame(gw_df)  ;   sa.to_csv (output_folder / 'f_Budget.csv' )"
   ]
  }
 ],
 "metadata": {
  "jupytext": {
   "cell_metadata_filter": "-all"
  },
  "kernelspec": {
   "display_name": "Python 3 (ipykernel)",
   "language": "python",
   "name": "python3"
  },
  "language_info": {
   "codemirror_mode": {
    "name": "ipython",
    "version": 3
   },
   "file_extension": ".py",
   "mimetype": "text/x-python",
   "name": "python",
   "nbconvert_exporter": "python",
   "pygments_lexer": "ipython3",
   "version": "3.12.7"
  }
 },
 "nbformat": 4,
 "nbformat_minor": 5
}
