{
 "cells": [
  {
   "cell_type": "code",
   "execution_count": 1,
   "id": "870eb52b-de4d-4959-989d-7727b9258054",
   "metadata": {
    "jupyter": {
     "source_hidden": true
    }
   },
   "outputs": [],
   "source": [
    "import os; import sys ; import matplotlib as mpl ; import matplotlib.pyplot as plt ; import numpy as np ; from flopy.plot.styles import styles\n",
    "import pathlib; from pathlib import Path; import pandas as pd; import flopy ; from modflow_devtools.misc import get_env, timed\n",
    "from pprint import pformat\n",
    "write = get_env(\"WRITE\", True) ; run = get_env(\"RUN\", True) ;  plot = get_env(\"PLOT\", True)\n",
    "plot_show = get_env(\"PLOT_SHOW\", True) ; plot_save = get_env(\"PLOT_SAVE\", True)"
   ]
  },
  {
   "cell_type": "code",
   "execution_count": 2,
   "id": "61dbf67a-dd4f-4d3d-a211-1471905b8a98",
   "metadata": {
    "jupyter": {
     "source_hidden": true
    }
   },
   "outputs": [
    {
     "name": "stdout",
     "output_type": "stream",
     "text": [
      "E:\\15_REPOS\\00_BETAMI\\98_Plus\\02_MT3D\n"
     ]
    }
   ],
   "source": [
    "example_name = \"ex-gwt-mt3dms-p06\"\n",
    "exe_name_mf = 'E:\\\\15_REPOS\\\\00_BETAMI\\\\bin\\\\mf2005'\n",
    "exe_name_mt = 'E:\\\\15_REPOS\\\\00_BETAMI\\\\bin\\\\mt3d-usgs_1.1.0_64'         # mt3dusgs\n",
    "current_directory = os.getcwd();  print(current_directory)"
   ]
  },
  {
   "cell_type": "code",
   "execution_count": 3,
   "id": "77e128d2-3a20-458a-b061-100ad26e3875",
   "metadata": {
    "jupyter": {
     "source_hidden": true
    }
   },
   "outputs": [],
   "source": [
    "path = pathlib.Path('E:\\\\15_REPOS\\\\00_BETAMI\\\\98_Plus\\\\02_MT3D')\n",
    "path.mkdir(parents=True, exist_ok=True); os.chdir(path); current_directory = os.getcwd()\n",
    "directory_name = 'C_p06_V01'    ; workspace = os.path.join('.', directory_name)\n",
    "if os.path.isdir(workspace) is False:\n",
    "    os.mkdir(workspace) \n",
    "output_folder = Path('C_p06_V01') ; output_folder.mkdir(exist_ok=True)"
   ]
  },
  {
   "cell_type": "code",
   "execution_count": 4,
   "id": "cff27202",
   "metadata": {
    "jupyter": {
     "source_hidden": true
    }
   },
   "outputs": [],
   "source": [
    "# Model parameters\n",
    "length_units = \"feet\"\n",
    "time_units = \"days\"\n",
    "nlay = 1  # Number of layers\n",
    "nrow = 31  # Number of rows\n",
    "ncol = 31  # Number of columns\n",
    "delr = 900.0  # Column width ($ft$)\n",
    "delc = 900.0  # Row width ($ft$)\n",
    "delz = 20.0  # Layer thickness ($ft$)\n",
    "top = 0.0  # Top of the model ($ft$)\n",
    "prsity = 0.35  # Porosity\n",
    "dum1 = 2.5  # Length of the injection period ($years$)\n",
    "dum2 = 7.5  # Length of the extraction period ($years$)\n",
    "k11 = 432.0  # Horizontal hydraulic conductivity ($ft/d$)\n",
    "qwell = 1.0  # Volumetric injection rate ($ft^3/d$)\n",
    "cwell = 100.0  # Relative concentration of injected water ($\\%$)\n",
    "al = 100.0  # Longitudinal dispersivity ($ft$)\n",
    "trpt = 1.0  # Ratio of transverse to longitudinal dispersitivity\n",
    "perlen = [912.5, 2737.5]\n",
    "nper = len(perlen)\n",
    "nstp = [365, 1095]\n",
    "tsmult = [1.0, 1.0]\n",
    "k11 = 0.005 * 86400  # established above, but explicitly writing out its origin here\n",
    "sconc = 0.0\n",
    "c0 = 0.0\n",
    "dt0 = 56.25\n",
    "dmcoef = 0\n",
    "ath1 = al * trpt\n",
    "botm = [top - delz]  # Model geometry\n",
    "k33 = k11  # Vertical hydraulic conductivity ($m/d$)\n",
    "icelltype = 0\n",
    "mixelm = -1\n",
    "strt = np.zeros((nlay, nrow, ncol), dtype=float)\n",
    "\n",
    "ibound_mf2k5 = np.ones((nlay, nrow, ncol), dtype=int) * -1\n",
    "ibound_mf2k5[:, 1 : nrow - 1, 1 : ncol - 1] = 1\n",
    "idomain = np.ones((nlay, nrow, ncol), dtype=int)\n",
    "icbund = 1\n",
    "\n",
    "qwell = 86400.0       ; welspd  = {0: [[0, 15, 15, qwell]]          , 1: [[0, 15, 15, -qwell]] ,}       # Well pumping info for MF2K5\n",
    "cwell = 100.0         ; spd     = {0:  [0, 15, 15, cwell, 2]        , 1:  [0, 15, 15, 0.0, 2]  ,}       # Well pupming info for MT3DMS   \n",
    "\n",
    "spd_mf6                         = {0: [[(0, 15, 15), qwell, cwell]] , 1: [[(0, 15, 15), -qwell, 0.0]]}\n",
    "\n",
    "chdspd = []\n",
    "for i in np.arange(nrow):\n",
    "    chdspd.append([(0, i, 0), strt[0, i, 0]])\n",
    "    chdspd.append([(0, i, ncol - 1), strt[0, i, ncol - 1]])\n",
    "for j in np.arange(1, ncol - 1):\n",
    "    chdspd.append([(0, 0, j), strt[0, 0, j]])\n",
    "    chdspd.append([(0, nrow - 1, j), strt[0, nrow - 1, j]])\n",
    "chdspd = {0: chdspd}\n",
    "\n",
    "nouter = 100 \n",
    "ninner = 300\n",
    "hclose = 1e-6 \n",
    "rclose = 1e-6 \n",
    "relax  = 1.0\n",
    "percel = 1.0  # HMOC parameters\n",
    "itrack = 3\n",
    "wd = 0.5\n",
    "dceps = 1.0e-5\n",
    "nplane = 1\n",
    "npl = 0\n",
    "nph = 16\n",
    "npmin = 2\n",
    "npmax = 32\n",
    "dchmoc = 1.0e-3\n",
    "nlsink = nplane\n",
    "npsink = nph\n",
    "tdis_rc = []      ; tdis_rc.append((perlen, nstp, 1.0))"
   ]
  },
  {
   "cell_type": "code",
   "execution_count": 5,
   "id": "1d13662f",
   "metadata": {
    "jupyter": {
     "source_hidden": true
    }
   },
   "outputs": [],
   "source": [
    "def build_models(sim_name, mixelm=0, silent=False):\n",
    "    mt3d_ws = os.path.join(workspace, sim_name, \"mt3d\")\n",
    "    modelname_mf = \"p06-mf\"\n",
    "\n",
    "    mf = flopy.modflow.Modflow(modelname=modelname_mf, model_ws=mt3d_ws, exe_name=\"mf2005\")\n",
    "    flopy.modflow.ModflowDis(mf,nlay=nlay,nrow=nrow,ncol=ncol,delr=delr,delc=delc,\n",
    "                             top=top,botm=botm,nper=nper,nstp=nstp,perlen=perlen,itmuni=4,lenuni=2)\n",
    "    flopy.modflow.ModflowBas(mf, ibound=ibound_mf2k5, strt=strt)\n",
    "    flopy.modflow.ModflowLpf(mf, hk=k11, laytyp=icelltype)\n",
    "    flopy.modflow.ModflowWel(mf, stress_period_data=welspd)\n",
    "    flopy.modflow.ModflowSip(mf)\n",
    "    flopy.modflow.ModflowLmt(mf)\n",
    "    modelname_mt = \"p06-mt\"\n",
    "    mt = flopy.mt3d.Mt3dms(modelname=modelname_mt,model_ws=mt3d_ws,exe_name=\"mt3dusgs\",modflowmodel=mf)                    # USGS\n",
    "    flopy.mt3d.Mt3dBtn(mt,icbund=icbund,prsity=prsity,sconc=sconc,nstp=nstp,perlen=perlen,   dt0=dt0,  obs=[(0, 15, 15)] )  # -1,-2\n",
    "    flopy.mt3d.Mt3dAdv(mt,mixelm=mixelm,dceps=dceps,nplane=nplane,npl=npl,nph=nph,npmin=npmin,npmax=npmax,nlsink=nlsink,\n",
    "                       npsink=npsink,percel=percel,itrack=itrack,wd=wd)\n",
    "    flopy.mt3d.Mt3dDsp(mt, al=al, trpt=trpt, dmcoef=dmcoef)\n",
    "    flopy.mt3d.Mt3dSsm(mt, stress_period_data=spd)\n",
    "    flopy.mt3d.Mt3dGcg(mt)  # mxiter=10\n",
    "    name = \"p06-mf6\"                                # MODFLOW 6 ____________________________________________\n",
    "    gwfname = \"gwf-\" + name\n",
    "    sim_ws = os.path.join(workspace, sim_name)\n",
    "    sim = flopy.mf6.MFSimulation(sim_name=sim_name, sim_ws=sim_ws, exe_name=\"mf6\")\n",
    "    tdis_rc = []\n",
    "    for i in range(nper):\n",
    "        tdis_rc.append((perlen[i], nstp[i], tsmult[i]))\n",
    "    flopy.mf6.ModflowTdis(sim, nper=nper, perioddata=tdis_rc, time_units=time_units)\n",
    "    gwf    = flopy.mf6.ModflowGwf(sim,modelname=gwfname,save_flows=True,model_nam_file=f\"{gwfname}.nam\")\n",
    "    imsgwf = flopy.mf6.ModflowIms(sim,print_option=\"SUMMARY\",outer_dvclose=hclose,outer_maximum=nouter,under_relaxation=\"NONE\",\n",
    "                                  inner_maximum=ninner,inner_dvclose=hclose,rcloserecord=rclose,linear_acceleration=\"CG\",\n",
    "                                  scaling_method=\"NONE\",reordering_method=\"NONE\",relaxation_factor=relax,filename=f\"{gwfname}.ims\")\n",
    "    sim.register_ims_package     (imsgwf, [gwf.name])\n",
    "\n",
    "    flopy.mf6.ModflowGwfdis      (gwf,length_units=length_units,nlay=nlay,nrow=nrow,ncol=ncol,delr=delr,delc=delc,top=top,botm=botm,\n",
    "                                  idomain=np.ones((nlay, nrow, ncol), dtype=int),filename=f\"{gwfname}.dis\")\n",
    "    flopy.mf6.ModflowGwfnpf(gwf,save_flows=False,icelltype=icelltype,k=k11,k33=k33,save_specific_discharge=True,filename=f\"{gwfname}.npf\")\n",
    "    flopy.mf6.ModflowGwfsto(gwf, ss=0, sy=0, filename=f\"{gwfname}.sto\")   \n",
    "    flopy.mf6.ModflowGwfic (gwf, strt=strt, filename=f\"{gwfname}.ic\")        # ___________ ic    # ___________ chd ( ... from parameters)\n",
    "    flopy.mf6.ModflowGwfchd  (gwf,maxbound=len(chdspd),stress_period_data=chdspd,save_flows=False,pname=\"CHD-1\",filename=f\"{gwfname}.chd\")\n",
    "    flopy.mf6.ModflowGwfwel  (gwf,print_input=True,print_flows=True,stress_period_data=spd_mf6,save_flows=False,\n",
    "                              auxiliary=\"CONCENTRATION\",pname=\"WEL-1\",filename=f\"{gwfname}.wel\")\n",
    "    flopy.mf6.ModflowGwfoc   (gwf,head_filerecord=f\"{gwfname}.hds\",budget_filerecord=f\"{gwfname}.bud\",\n",
    "                              headprintrecord=[(\"COLUMNS\", 10, \"WIDTH\", 15, \"DIGITS\", 6, \"GENERAL\")],\n",
    "                              saverecord=[(\"HEAD\", \"LAST\"), (\"BUDGET\", \"LAST\")],\n",
    "                              printrecord=[(\"HEAD\", \"LAST\"), (\"BUDGET\", \"LAST\")])                         \n",
    "    gwtname = \"gwt_\" + name  # ________________________________________________________________________________________ gwt_\n",
    "    gwt = flopy.mf6.MFModel(sim,model_type=\"gwt6\",modelname=gwtname,model_nam_file=f\"{gwtname}.nam\")\n",
    "    gwt.name_file.save_flows = True\n",
    "    imsgwt = flopy.mf6.ModflowIms(sim,print_option=\"SUMMARY\",outer_dvclose=hclose,outer_maximum=nouter,under_relaxation=\"NONE\",\n",
    "                                  inner_maximum=ninner,inner_dvclose=hclose,rcloserecord=rclose,\n",
    "                                  linear_acceleration=\"BICGSTAB\",scaling_method=\"NONE\",reordering_method=\"NONE\",\n",
    "                                  relaxation_factor=relax,filename=f\"{gwtname}.ims\")                  \n",
    "    sim.register_ims_package(imsgwt, [gwt.name])\n",
    "    flopy.mf6.ModflowGwtdis(gwt,nlay=nlay,nrow=nrow,ncol=ncol,delr=delr,delc=delc,top=top,botm=botm,idomain=1,filename=f\"{gwtname}.dis\")\n",
    "    flopy.mf6.ModflowGwtic(gwt, strt=sconc, filename=f\"{gwtname}.ic\")\n",
    "    if mixelm >= 0:\n",
    "        scheme = \"UPSTREAM\"\n",
    "    elif mixelm == -1:\n",
    "        scheme = \"TVD\"\n",
    "    else:\n",
    "        raise Exception()\n",
    "    flopy.mf6.ModflowGwtadv(gwt, scheme=scheme, filename=f\"{gwtname}.adv\")\n",
    "    if al != 0:\n",
    "        flopy.mf6.ModflowGwtdsp(gwt,xt3d_off=True,alh=al,ath1=ath1,filename=f\"{gwtname}.dsp\",)\n",
    "    flopy.mf6.ModflowGwtmst(gwt,porosity=prsity,first_order_decay=False,decay=None,decay_sorbed=None,sorption=None,\n",
    "                            bulk_density=None,distcoef=None,filename=f\"{gwtname}.mst\")       ; sourcerecarray = [(\"WEL-1\", \"AUX\", \"CONCENTRATION\")]\n",
    "    flopy.mf6.ModflowGwtssm(gwt, sources=sourcerecarray, filename=f\"{gwtname}.ssm\")\n",
    "    flopy.mf6.ModflowGwtoc(gwt,budget_filerecord=f\"{gwtname}.cbc\",concentration_filerecord=f\"{gwtname}.ucn\",\n",
    "                           concentrationprintrecord=[(\"COLUMNS\", 10, \"WIDTH\", 15, \"DIGITS\", 6, \"GENERAL\")],\n",
    "                           saverecord=[(\"CONCENTRATION\", \"LAST\"), (\"BUDGET\", \"LAST\")],\n",
    "                           printrecord=[(\"CONCENTRATION\", \"LAST\"), (\"BUDGET\", \"LAST\")])    \n",
    "\n",
    "    obslist = [[\"bckgrnd_cn\", \"concentration\", (0, 15, 15)]]                     ; obsdict = {f\"{gwtname}.obs.csv\": obslist}\n",
    "    obs = flopy.mf6.ModflowUtlobs(gwt, print_input=False, continuous=obsdict)                                           #  OBS transport !\n",
    "    flopy.mf6.ModflowGwfgwt(sim,exgtype=\"GWF6-GWT6\",exgmnamea=gwfname,exgmnameb=gwtname,filename=f\"{name}.gwfgwt\")\n",
    "    return mf, mt, sim\n",
    "\n",
    "def write_models(mf2k5, mt3d, sim, silent=True):\n",
    "    mf2k5.write_input()\n",
    "    mt3d.write_input()\n",
    "    sim.write_simulation(silent=silent)\n",
    "\n",
    "@timed\n",
    "def run_models(mf2k5, mt3d, sim, silent=True):\n",
    "    success, buff = mf2k5.run_model(silent=silent, report=True)\n",
    "    assert success, pformat(buff)\n",
    "    success, buff = mt3d.run_model(silent=silent, normal_msg=\"Program completed\", report=True)    ; assert success, pformat(buff)\n",
    "    success, buff = sim.run_simulation(silent=silent, report=True)                                ; assert success, pformat(buff)"
   ]
  },
  {
   "cell_type": "code",
   "execution_count": 6,
   "id": "8d2871bc",
   "metadata": {
    "jupyter": {
     "source_hidden": true
    },
    "lines_to_end_of_cell_marker": 2
   },
   "outputs": [],
   "source": [
    "def plot_results(mt3d, mf6, idx, ax=None):\n",
    "    mt3d_out_path = mt3d.model_ws\n",
    "    mf6_out_path = mf6.simulation_data.mfpath.get_sim_path()\n",
    "    mf6.simulation_data.mfpath.get_sim_path()\n",
    "\n",
    "    fname = os.path.join(mt3d_out_path, \"MT3D001.OBS\")                        ; cvt = mt3d.load_obs(fname) if os.path.isfile(fname) else None  # cvt\n",
    "    fname = os.path.join(mf6_out_path, list(mf6.model_names)[1] + \".obs.csv\") ; mf6cobs = flopy.utils.Mf6Obs(fname).data   # OBS Transport\n",
    "\n",
    "    with styles.USGSPlot():\n",
    "        sim_name = mf6.name\n",
    "        plt.rcParams[\"lines.dashed_pattern\"] = [5.0, 5.0]\n",
    "        \n",
    "        if ax is None:\n",
    "            fig = plt.figure(figsize=(5, 2), dpi=200, tight_layout=True)      ; ax = fig.add_subplot(1, 1, 1)\n",
    "        x = cvt[\"time\"] / 365.0  ; y = cvt[\"(1, 16, 16)\"]                     ; x_pare = x[::20]  ; y_pare = y[::20]\n",
    "        ax.plot(x_pare, y_pare, label=\"Upstream FD\", marker=\"^\")\n",
    "\n",
    "        x_mf6      = mf6cobs[\"totim\"] / 365.0  ; y_mf6      = mf6cobs[\"BCKGRND_CN\"]\n",
    "        x_mf6_pare = x_mf6[::20]               ; y_mf6_pare = y_mf6[::20]\n",
    "        ax.plot(x_mf6_pare, y_mf6_pare, label=\"MODFLOW 6\", marker=\"x\", linestyle=\":\")\n",
    "\n",
    "        plt.xlim(0, 10) ; plt.ylim(0, 100.0)   ; plt.xlabel(\"Time, in years\")  ; plt.ylabel(\"Normalized [C] % \")\n",
    "        plt.legend()    ; title = \"Calculated [C]  at an Injection / Pumping Well (position 16,16)\"\n",
    "\n",
    "        letter = chr(ord(\"@\") + idx + 1)       ; styles.heading(letter=letter, heading=title)\n",
    "\n",
    "        if plot_show:\n",
    "            plt.show()"
   ]
  },
  {
   "cell_type": "code",
   "execution_count": 9,
   "id": "2ad7d305",
   "metadata": {
    "jupyter": {
     "source_hidden": true
    }
   },
   "outputs": [
    {
     "name": "stdout",
     "output_type": "stream",
     "text": [
      "run_models took 6389.08 ms\n"
     ]
    }
   ],
   "source": [
    "def scenario(idx, silent=True):\n",
    "    mf2k5, mt3d, sim = build_models(example_name, mixelm=mixelm)\n",
    "    if write:\n",
    "        write_models(mf2k5, mt3d, sim, silent=silent)\n",
    "    if run:\n",
    "        run_models(mf2k5, mt3d, sim, silent=silent)\n",
    "#    if plot:\n",
    "#        plot_results(mt3d, sim, idx)\n",
    "\n",
    "scenario(0)  # scenario(1)"
   ]
  },
  {
   "cell_type": "code",
   "execution_count": 17,
   "id": "fd253acf-7396-4961-8c87-09f314cc7555",
   "metadata": {},
   "outputs": [
    {
     "name": "stdout",
     "output_type": "stream",
     "text": [
      "(1, 31, 31)\n"
     ]
    },
    {
     "data": {
      "text/plain": [
       "(None, [912.5, 3650.0])"
      ]
     },
     "execution_count": 17,
     "metadata": {},
     "output_type": "execute_result"
    }
   ],
   "source": [
    "sim_ws = os.path.join (workspace, 'ex-gwt-mt3dms-p06')    \n",
    "fname = os.path.join(sim_ws, 'gwf-p06-mf6'+'.hds')  ; hdobj = flopy.utils.HeadFile(fname)    ; heads = hdobj.get_data()\n",
    "times = hdobj.get_times()\n",
    "print(heads.shape), times"
   ]
  },
  {
   "cell_type": "code",
   "execution_count": 22,
   "id": "c45a01a9-90c6-4d83-a9a2-8f0840861e26",
   "metadata": {},
   "outputs": [
    {
     "name": "stdout",
     "output_type": "stream",
     "text": [
      "(2, 1, 31, 31)\n"
     ]
    },
    {
     "data": {
      "text/plain": [
       "(None, [912.5, 3650.0])"
      ]
     },
     "execution_count": 22,
     "metadata": {},
     "output_type": "execute_result"
    }
   ],
   "source": [
    "sim_ws = os.path.join (workspace, 'ex-gwt-mt3dms-p06/mt3d') \n",
    "fname = os.path.join(sim_ws, 'MT3D001.UCN')                 ; fname    \n",
    "ucnobj = flopy.utils.UcnFile(fname)        ; conc = ucnobj.get_alldata()   ; ttimes = ucnobj.get_times()\n",
    "print(conc.shape) , ttimes "
   ]
  },
  {
   "cell_type": "markdown",
   "id": "7654044b-9501-483a-99ba-88fcec3332a9",
   "metadata": {},
   "source": [
    "## **conc_ok, but only for MF5.... MF6 ?...same for ex04**"
   ]
  },
  {
   "cell_type": "code",
   "execution_count": null,
   "id": "302bd016-268d-4b2c-866e-0fc96b761982",
   "metadata": {},
   "outputs": [],
   "source": []
  }
 ],
 "metadata": {
  "jupytext": {
   "cell_metadata_filter": "-all"
  },
  "kernelspec": {
   "display_name": "Python 3 (ipykernel)",
   "language": "python",
   "name": "python3"
  },
  "language_info": {
   "codemirror_mode": {
    "name": "ipython",
    "version": 3
   },
   "file_extension": ".py",
   "mimetype": "text/x-python",
   "name": "python",
   "nbconvert_exporter": "python",
   "pygments_lexer": "ipython3",
   "version": "3.12.7"
  }
 },
 "nbformat": 4,
 "nbformat_minor": 5
}
