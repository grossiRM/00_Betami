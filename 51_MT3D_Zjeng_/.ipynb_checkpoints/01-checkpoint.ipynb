{
 "cells": [
  {
   "cell_type": "code",
   "execution_count": 7,
   "metadata": {},
   "outputs": [],
   "source": [
    "import os ; import pathlib as pl ; from pprint import pformat ; import flopy ; import git ; import matplotlib.pyplot as plt\n",
    "import numpy as np; from flopy.plot.styles import styles"
   ]
  },
  {
   "cell_type": "code",
   "execution_count": null,
   "metadata": {
    "jupyter": {
     "source_hidden": true
    }
   },
   "outputs": [],
   "source": [
    "pip install modflow_devtools"
   ]
  },
  {
   "cell_type": "code",
   "execution_count": 11,
   "metadata": {},
   "outputs": [],
   "source": [
    "import modflow_devtools.misc \n",
    "from modflow_devtools.misc import get_env, timed"
   ]
  },
  {
   "cell_type": "code",
   "execution_count": 17,
   "metadata": {},
   "outputs": [],
   "source": [
    "parameters = {\"ex-gwt-mt3dms-p01a\": {\"dispersivity\": 0.0,\"retardation\": 1.0,\"decay\": 0.0,},\n",
    "              \"ex-gwt-mt3dms-p01b\": {\"dispersivity\": 10.0,\"retardation\": 1.0,\"decay\": 0.0,},\n",
    "              \"ex-gwt-mt3dms-p01c\": {\"dispersivity\": 10.0,\"retardation\": 5.0,\"decay\": 0.0,},\n",
    "              \"ex-gwt-mt3dms-p01d\": {\"dispersivity\": 10.0,\"retardation\": 5.0,\"decay\": 0.002,},}\n",
    "parameter_units = {\"dispersivity\": \"$m$\",\"retardation\": \"unitless\",\"decay\": \"$d^{-1}$\",}\n",
    "length_units = \"meters\" ; time_units = \"days\""
   ]
  },
  {
   "cell_type": "code",
   "execution_count": 19,
   "metadata": {},
   "outputs": [],
   "source": []
  },
  {
   "cell_type": "code",
   "execution_count": 28,
   "metadata": {},
   "outputs": [],
   "source": [
    "nper= 1;   nlay=1;ncol=101;nrow=1;   delr=10.0; delc=1.0;   top=0.0;botm=-1.0;   prsity=0.25;perlen=2000; k11=1.0\n",
    "\n",
    "k33=k11   ; laytyp=1   ; nstp=100.0   ; dt0=perlen/nstp   ; Lx=(ncol-1)*delr   ; v=0.24   ; q=v*prsity ; h1=q*Lx\n",
    "strt    = np.zeros((nlay,nrow,ncol),dtype=float)  ; strt[0,0,0]=h1   ; l=1000.0   ; icelltype=1\t\t\t\t\t\t\n",
    "ibound  = np.ones((nlay,nrow,ncol),dtype=int)   ; ibound[0,0,0]=-1   ; ibound[0,0,-1]=-1            ; mixelm = 0  ; rhob = 0.25  ; sp2 = 0.0  ; \n",
    "sconc   = np.zeros((nlay, nrow, ncol), dtype=float)  ;  dmcoef = 0.0                                # Molecular diffusion coefficient\n",
    "\n",
    "nouter,ninner=100,300     ; hclose,rclose,relax=1e-6,1e-6,1.0   ; ttsmult=1.0   ; dceps=1.0e-5  ; \n",
    "nplane=1   ; npl=0        ; nph=4   ; npmin=0   ; npmax=8   ; nlsink=nplane   ; npsink=nph   ; \n",
    "\n",
    "tdis_rc = []              ;   tdis_rc.append((perlen, nstp, 1.0))\n",
    "chdspd  = [[(0, 0, 0), h1], [(0, 0, ncol - 1), 0.0]]   ; c0 = 1.0   ;   cncspd = [[(0, 0, 0), c0]]"
   ]
  },
  {
   "cell_type": "code",
   "execution_count": 38,
   "metadata": {},
   "outputs": [],
   "source": [
    "def build_models(sim_name,dispersivity=0.0,retardation=0.0,decay=0.0,silent=False,):\n",
    "    mt3d_ws = os.path.join(workspace, sim_name, \"mt3d\")\n",
    "    modelname_mf = \"p01-mf\"\n",
    "    mf = flopy.modflow.Modflow(modelname=modelname_mf, model_ws=mt3d_ws, exe_name=\"mf2005\")\n",
    "    flopy.modflow.ModflowDis(mf,nlay=nlay,nrow=nrow,ncol=ncol,delr=delr,delc=delc,top=top,nstp=nstp,\n",
    "        botm=botm,perlen=perlen,itmuni=4,lenuni=2,)\n",
    "    flopy.modflow.ModflowBas(mf, ibound=ibound, strt=strt)\n",
    "    flopy.modflow.ModflowLpf(mf, hk=k11, laytyp=laytyp)\n",
    "    flopy.modflow.ModflowPcg(mf)\n",
    "    flopy.modflow.ModflowLmt(mf)\n",
    "\n",
    "    modelname_mt = \"p01-mt\"\n",
    "    mt = flopy.mt3d.Mt3dms(modelname=modelname_mt,model_ws=mt3d_ws,exe_name=\"mt3dms\",modflowmodel=mf,)         ; c0 = 1.0\n",
    "    icbund = np.ones((nlay, nrow, ncol), dtype=int)    ; icbund[0, 0, 0] = -1   \n",
    "    sconc = np.zeros((nlay, nrow, ncol), dtype=float)  ; sconc[0, 0, 0] = c0\n",
    "    flopy.mt3d.Mt3dBtn(mt,laycon=laytyp,icbund=icbund,prsity=prsity,sconc=sconc,dt0=dt0,ifmtcn=1,)"
   ]
  },
  {
   "cell_type": "code",
   "execution_count": null,
   "metadata": {},
   "outputs": [],
   "source": []
  }
 ],
 "metadata": {
  "kernelspec": {
   "display_name": "Python 3 (ipykernel)",
   "language": "python",
   "name": "python3"
  },
  "language_info": {
   "codemirror_mode": {
    "name": "ipython",
    "version": 3
   },
   "file_extension": ".py",
   "mimetype": "text/x-python",
   "name": "python",
   "nbconvert_exporter": "python",
   "pygments_lexer": "ipython3",
   "version": "3.12.7"
  }
 },
 "nbformat": 4,
 "nbformat_minor": 4
}
