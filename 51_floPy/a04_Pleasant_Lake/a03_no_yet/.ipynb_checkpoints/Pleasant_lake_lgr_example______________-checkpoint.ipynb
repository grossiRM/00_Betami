{
 "cells": [
  {
   "cell_type": "code",
   "execution_count": 1,
   "metadata": {},
   "outputs": [],
   "source": [
    "import numpy, warnings\n",
    "numpy.warnings = warnings"
   ]
  },
  {
   "cell_type": "code",
   "execution_count": 2,
   "metadata": {},
   "outputs": [],
   "source": [
    "import os\n",
    "import numpy as np\n",
    "import pandas as pd\n",
    "import matplotlib.pyplot as plt\n",
    "import flopy\n",
    "import flopy.utils.binaryfile as bf\n",
    "import mfexport\n",
    "\n",
    "from scipy.interpolate import griddata\n",
    "from matplotlib import patheffects\n",
    "from gisutils import df2shp\n",
    "from mfexport.utils import get_water_table\n",
    "\n",
    "from mfsetup import MF6model \n",
    "from mfsetup.discretization import cellids_to_kij \n",
    "\n",
    "wd = os.getcwd()"
   ]
  },
  {
   "cell_type": "code",
   "execution_count": 3,
   "metadata": {
    "scrolled": true
   },
   "outputs": [
    {
     "name": "stdout",
     "output_type": "stream",
     "text": [
      "loading configuration file examples/pleasant_lgr_parent.yml...\n",
      "loading parent model E:\\15_REPOS\\00_BETAMI\\02_floPy__________________\\04a_Pleasant_Lake__________________________soso\\01____________________new01\\examples\\data\\pleasant\\pleasant.nam...\n",
      "finished in 0.21s\n",
      "\n"
     ]
    },
    {
     "ename": "AttributeError",
     "evalue": "property 'epsg' of 'MFsetupGrid' object has no setter",
     "output_type": "error",
     "traceback": [
      "\u001b[1;31m---------------------------------------------------------------------------\u001b[0m",
      "\u001b[1;31mAttributeError\u001b[0m                            Traceback (most recent call last)",
      "Cell \u001b[1;32mIn[3], line 1\u001b[0m\n\u001b[1;32m----> 1\u001b[0m m \u001b[38;5;241m=\u001b[39m \u001b[43mMF6model\u001b[49m\u001b[43m(\u001b[49m\u001b[43mcfg\u001b[49m\u001b[38;5;241;43m=\u001b[39;49m\u001b[43m \u001b[49m\u001b[38;5;124;43m'\u001b[39;49m\u001b[38;5;124;43mexamples/pleasant_lgr_parent.yml\u001b[39;49m\u001b[38;5;124;43m'\u001b[39;49m\u001b[43m)\u001b[49m\n\u001b[0;32m      2\u001b[0m m\u001b[38;5;241m.\u001b[39msetup_grid()\n",
      "File \u001b[1;32mE:\\15_REPOS\\00_BETAMI\\02_floPy__________________\\04a_Pleasant_Lake__________________________soso\\01____________________new01\\mfsetup\\mf6model.py:88\u001b[0m, in \u001b[0;36mMF6model.__init__\u001b[1;34m(self, simulation, parent, cfg, modelname, exe_name, load, version, lgr, **kwargs)\u001b[0m\n\u001b[0;32m     85\u001b[0m \u001b[38;5;66;03m# update defaults with user-specified config. (loaded above)\u001b[39;00m\n\u001b[0;32m     86\u001b[0m \u001b[38;5;66;03m# set up and validate the model configuration dictionary\u001b[39;00m\n\u001b[0;32m     87\u001b[0m \u001b[38;5;28mself\u001b[39m\u001b[38;5;241m.\u001b[39m_load \u001b[38;5;241m=\u001b[39m load  \u001b[38;5;66;03m# whether the model is being created or loaded\u001b[39;00m\n\u001b[1;32m---> 88\u001b[0m \u001b[38;5;28;43mself\u001b[39;49m\u001b[38;5;241;43m.\u001b[39;49m\u001b[43m_set_cfg\u001b[49m\u001b[43m(\u001b[49m\u001b[43mcfg\u001b[49m\u001b[43m)\u001b[49m\n\u001b[0;32m     90\u001b[0m \u001b[38;5;66;03m# property attributes\u001b[39;00m\n\u001b[0;32m     91\u001b[0m \u001b[38;5;28mself\u001b[39m\u001b[38;5;241m.\u001b[39m_idomain \u001b[38;5;241m=\u001b[39m \u001b[38;5;28;01mNone\u001b[39;00m\n",
      "File \u001b[1;32mE:\\15_REPOS\\00_BETAMI\\02_floPy__________________\\04a_Pleasant_Lake__________________________soso\\01____________________new01\\mfsetup\\mfmodel.py:828\u001b[0m, in \u001b[0;36mMFsetupMixin._set_cfg\u001b[1;34m(self, user_specified_cfg)\u001b[0m\n\u001b[0;32m    826\u001b[0m \u001b[38;5;66;03m# load the parent model (skip if already attached)\u001b[39;00m\n\u001b[0;32m    827\u001b[0m \u001b[38;5;28;01mif\u001b[39;00m \u001b[38;5;124m'\u001b[39m\u001b[38;5;124mnamefile\u001b[39m\u001b[38;5;124m'\u001b[39m \u001b[38;5;129;01min\u001b[39;00m \u001b[38;5;28mself\u001b[39m\u001b[38;5;241m.\u001b[39mcfg\u001b[38;5;241m.\u001b[39mget(\u001b[38;5;124m'\u001b[39m\u001b[38;5;124mparent\u001b[39m\u001b[38;5;124m'\u001b[39m, {})\u001b[38;5;241m.\u001b[39mkeys():\n\u001b[1;32m--> 828\u001b[0m     \u001b[38;5;28;43mself\u001b[39;49m\u001b[38;5;241;43m.\u001b[39;49m\u001b[43m_set_parent\u001b[49m\u001b[43m(\u001b[49m\u001b[43m)\u001b[49m\n\u001b[0;32m    830\u001b[0m output_paths \u001b[38;5;241m=\u001b[39m \u001b[38;5;28mself\u001b[39m\u001b[38;5;241m.\u001b[39mcfg[\u001b[38;5;124m'\u001b[39m\u001b[38;5;124mpostprocessing\u001b[39m\u001b[38;5;124m'\u001b[39m][\u001b[38;5;124m'\u001b[39m\u001b[38;5;124moutput_folders\u001b[39m\u001b[38;5;124m'\u001b[39m]\n\u001b[0;32m    831\u001b[0m \u001b[38;5;28;01mfor\u001b[39;00m name, folder_path \u001b[38;5;129;01min\u001b[39;00m output_paths\u001b[38;5;241m.\u001b[39mitems():\n",
      "File \u001b[1;32mE:\\15_REPOS\\00_BETAMI\\02_floPy__________________\\04a_Pleasant_Lake__________________________soso\\01____________________new01\\mfsetup\\mfmodel.py:1114\u001b[0m, in \u001b[0;36mMFsetupMixin._set_parent\u001b[1;34m(self)\u001b[0m\n\u001b[0;32m   1110\u001b[0m \u001b[38;5;66;03m# set the parent model grid from mg_kwargs if not None\u001b[39;00m\n\u001b[0;32m   1111\u001b[0m \u001b[38;5;66;03m# otherwise, convert parent model grid to MFsetupGrid\u001b[39;00m\n\u001b[0;32m   1112\u001b[0m mg_kwargs \u001b[38;5;241m=\u001b[39m \u001b[38;5;28mself\u001b[39m\u001b[38;5;241m.\u001b[39mcfg[\u001b[38;5;124m'\u001b[39m\u001b[38;5;124mparent\u001b[39m\u001b[38;5;124m'\u001b[39m]\u001b[38;5;241m.\u001b[39mget(\u001b[38;5;124m'\u001b[39m\u001b[38;5;124mSpatialReference\u001b[39m\u001b[38;5;124m'\u001b[39m,\n\u001b[0;32m   1113\u001b[0m                               \u001b[38;5;28mself\u001b[39m\u001b[38;5;241m.\u001b[39mcfg[\u001b[38;5;124m'\u001b[39m\u001b[38;5;124mparent\u001b[39m\u001b[38;5;124m'\u001b[39m]\u001b[38;5;241m.\u001b[39mget(\u001b[38;5;124m'\u001b[39m\u001b[38;5;124mmodelgrid\u001b[39m\u001b[38;5;124m'\u001b[39m, \u001b[38;5;28;01mNone\u001b[39;00m))\n\u001b[1;32m-> 1114\u001b[0m \u001b[38;5;28;43mself\u001b[39;49m\u001b[38;5;241;43m.\u001b[39;49m\u001b[43m_set_parent_modelgrid\u001b[49m\u001b[43m(\u001b[49m\u001b[43mmg_kwargs\u001b[49m\u001b[43m)\u001b[49m\n\u001b[0;32m   1116\u001b[0m \u001b[38;5;66;03m# setup parent model perioddata table\u001b[39;00m\n\u001b[0;32m   1117\u001b[0m \u001b[38;5;28;01mif\u001b[39;00m \u001b[38;5;129;01mnot\u001b[39;00m \u001b[38;5;28mhasattr\u001b[39m(\u001b[38;5;28mself\u001b[39m\u001b[38;5;241m.\u001b[39mparent, \u001b[38;5;124m'\u001b[39m\u001b[38;5;124mperioddata\u001b[39m\u001b[38;5;124m'\u001b[39m):\n",
      "File \u001b[1;32mE:\\15_REPOS\\00_BETAMI\\02_floPy__________________\\04a_Pleasant_Lake__________________________soso\\01____________________new01\\mfsetup\\mfmodel.py:1047\u001b[0m, in \u001b[0;36mMFsetupMixin._set_parent_modelgrid\u001b[1;34m(self, mg_kwargs)\u001b[0m\n\u001b[0;32m   1045\u001b[0m kwargs \u001b[38;5;241m=\u001b[39m get_input_arguments(kwargs, MFsetupGrid, warn\u001b[38;5;241m=\u001b[39m\u001b[38;5;28;01mFalse\u001b[39;00m)\n\u001b[0;32m   1046\u001b[0m \u001b[38;5;28mself\u001b[39m\u001b[38;5;241m.\u001b[39m_parent\u001b[38;5;241m.\u001b[39m_mg_resync \u001b[38;5;241m=\u001b[39m \u001b[38;5;28;01mFalse\u001b[39;00m\n\u001b[1;32m-> 1047\u001b[0m \u001b[38;5;28mself\u001b[39m\u001b[38;5;241m.\u001b[39m_parent\u001b[38;5;241m.\u001b[39m_modelgrid \u001b[38;5;241m=\u001b[39m \u001b[43mMFsetupGrid\u001b[49m\u001b[43m(\u001b[49m\u001b[38;5;241;43m*\u001b[39;49m\u001b[38;5;241;43m*\u001b[39;49m\u001b[43mkwargs\u001b[49m\u001b[43m)\u001b[49m\n",
      "File \u001b[1;32mE:\\15_REPOS\\00_BETAMI\\02_floPy__________________\\04a_Pleasant_Lake__________________________soso\\01____________________new01\\mfsetup\\grid.py:103\u001b[0m, in \u001b[0;36mMFsetupGrid.__init__\u001b[1;34m(self, delc, delr, top, botm, idomain, laycbd, lenuni, binary_grid_file, epsg, proj_str, prj, wkt, crs, xoff, yoff, xul, yul, angrot)\u001b[0m\n\u001b[0;32m     99\u001b[0m \u001b[38;5;28;01mdef\u001b[39;00m\u001b[38;5;250m \u001b[39m\u001b[38;5;21m__init__\u001b[39m(\u001b[38;5;28mself\u001b[39m, delc, delr, top\u001b[38;5;241m=\u001b[39m\u001b[38;5;28;01mNone\u001b[39;00m, botm\u001b[38;5;241m=\u001b[39m\u001b[38;5;28;01mNone\u001b[39;00m, idomain\u001b[38;5;241m=\u001b[39m\u001b[38;5;28;01mNone\u001b[39;00m,\n\u001b[0;32m    100\u001b[0m              laycbd\u001b[38;5;241m=\u001b[39m\u001b[38;5;28;01mNone\u001b[39;00m, lenuni\u001b[38;5;241m=\u001b[39m\u001b[38;5;28;01mNone\u001b[39;00m, binary_grid_file\u001b[38;5;241m=\u001b[39m\u001b[38;5;28;01mNone\u001b[39;00m,\n\u001b[0;32m    101\u001b[0m              epsg\u001b[38;5;241m=\u001b[39m\u001b[38;5;28;01mNone\u001b[39;00m, proj_str\u001b[38;5;241m=\u001b[39m\u001b[38;5;28;01mNone\u001b[39;00m, prj\u001b[38;5;241m=\u001b[39m\u001b[38;5;28;01mNone\u001b[39;00m, wkt\u001b[38;5;241m=\u001b[39m\u001b[38;5;28;01mNone\u001b[39;00m, crs\u001b[38;5;241m=\u001b[39m\u001b[38;5;28;01mNone\u001b[39;00m,\n\u001b[0;32m    102\u001b[0m              xoff\u001b[38;5;241m=\u001b[39m\u001b[38;5;241m0.0\u001b[39m, yoff\u001b[38;5;241m=\u001b[39m\u001b[38;5;241m0.0\u001b[39m, xul\u001b[38;5;241m=\u001b[39m\u001b[38;5;28;01mNone\u001b[39;00m, yul\u001b[38;5;241m=\u001b[39m\u001b[38;5;28;01mNone\u001b[39;00m, angrot\u001b[38;5;241m=\u001b[39m\u001b[38;5;241m0.0\u001b[39m):\n\u001b[1;32m--> 103\u001b[0m     \u001b[38;5;28;43msuper\u001b[39;49m\u001b[43m(\u001b[49m\u001b[43mMFsetupGrid\u001b[49m\u001b[43m,\u001b[49m\u001b[43m \u001b[49m\u001b[38;5;28;43mself\u001b[39;49m\u001b[43m)\u001b[49m\u001b[38;5;241;43m.\u001b[39;49m\u001b[38;5;21;43m__init__\u001b[39;49m\u001b[43m(\u001b[49m\u001b[43mdelc\u001b[49m\u001b[38;5;241;43m=\u001b[39;49m\u001b[43mnp\u001b[49m\u001b[38;5;241;43m.\u001b[39;49m\u001b[43marray\u001b[49m\u001b[43m(\u001b[49m\u001b[43mdelc\u001b[49m\u001b[43m)\u001b[49m\u001b[43m,\u001b[49m\u001b[43m \u001b[49m\u001b[43mdelr\u001b[49m\u001b[38;5;241;43m=\u001b[39;49m\u001b[43mnp\u001b[49m\u001b[38;5;241;43m.\u001b[39;49m\u001b[43marray\u001b[49m\u001b[43m(\u001b[49m\u001b[43mdelr\u001b[49m\u001b[43m)\u001b[49m\u001b[43m,\u001b[49m\n\u001b[0;32m    104\u001b[0m \u001b[43m                                      \u001b[49m\u001b[43mtop\u001b[49m\u001b[38;5;241;43m=\u001b[39;49m\u001b[43mtop\u001b[49m\u001b[43m,\u001b[49m\u001b[43m \u001b[49m\u001b[43mbotm\u001b[49m\u001b[38;5;241;43m=\u001b[39;49m\u001b[43mbotm\u001b[49m\u001b[43m,\u001b[49m\u001b[43m \u001b[49m\u001b[43midomain\u001b[49m\u001b[38;5;241;43m=\u001b[39;49m\u001b[43midomain\u001b[49m\u001b[43m,\u001b[49m\n\u001b[0;32m    105\u001b[0m \u001b[43m                                      \u001b[49m\u001b[43mlaycbd\u001b[49m\u001b[38;5;241;43m=\u001b[39;49m\u001b[43mlaycbd\u001b[49m\u001b[43m,\u001b[49m\u001b[43m \u001b[49m\u001b[43mlenuni\u001b[49m\u001b[38;5;241;43m=\u001b[39;49m\u001b[43mlenuni\u001b[49m\u001b[43m,\u001b[49m\n\u001b[0;32m    106\u001b[0m \u001b[43m                                      \u001b[49m\u001b[43mepsg\u001b[49m\u001b[38;5;241;43m=\u001b[39;49m\u001b[43mepsg\u001b[49m\u001b[43m,\u001b[49m\u001b[43m \u001b[49m\u001b[43mproj4\u001b[49m\u001b[38;5;241;43m=\u001b[39;49m\u001b[43mproj_str\u001b[49m\u001b[43m,\u001b[49m\u001b[43m \u001b[49m\u001b[43mprj\u001b[49m\u001b[38;5;241;43m=\u001b[39;49m\u001b[43mprj\u001b[49m\u001b[43m,\u001b[49m\n\u001b[0;32m    107\u001b[0m \u001b[43m                                      \u001b[49m\u001b[43mxoff\u001b[49m\u001b[38;5;241;43m=\u001b[39;49m\u001b[43mxoff\u001b[49m\u001b[43m,\u001b[49m\u001b[43m \u001b[49m\u001b[43myoff\u001b[49m\u001b[38;5;241;43m=\u001b[39;49m\u001b[43myoff\u001b[49m\u001b[43m,\u001b[49m\u001b[43m \u001b[49m\u001b[43mangrot\u001b[49m\u001b[38;5;241;43m=\u001b[39;49m\u001b[43mangrot\u001b[49m\n\u001b[0;32m    108\u001b[0m \u001b[43m                                      \u001b[49m\u001b[43m)\u001b[49m\n\u001b[0;32m    110\u001b[0m     \u001b[38;5;66;03m# properties\u001b[39;00m\n\u001b[0;32m    111\u001b[0m     \u001b[38;5;28mself\u001b[39m\u001b[38;5;241m.\u001b[39m_crs \u001b[38;5;241m=\u001b[39m \u001b[38;5;28;01mNone\u001b[39;00m\n",
      "File \u001b[1;32m~\\anaconda3\\envs\\mfsetup\\Lib\\site-packages\\flopy\\discretization\\structuredgrid.py:167\u001b[0m, in \u001b[0;36mStructuredGrid.__init__\u001b[1;34m(self, delc, delr, top, botm, idomain, lenuni, crs, prjfile, xoff, yoff, angrot, nlay, nrow, ncol, laycbd, **kwargs)\u001b[0m\n\u001b[0;32m    148\u001b[0m \u001b[38;5;28;01mdef\u001b[39;00m\u001b[38;5;250m \u001b[39m\u001b[38;5;21m__init__\u001b[39m(\n\u001b[0;32m    149\u001b[0m     \u001b[38;5;28mself\u001b[39m,\n\u001b[0;32m    150\u001b[0m     delc\u001b[38;5;241m=\u001b[39m\u001b[38;5;28;01mNone\u001b[39;00m,\n\u001b[1;32m   (...)\u001b[0m\n\u001b[0;32m    165\u001b[0m     \u001b[38;5;241m*\u001b[39m\u001b[38;5;241m*\u001b[39mkwargs,\n\u001b[0;32m    166\u001b[0m ):\n\u001b[1;32m--> 167\u001b[0m     \u001b[38;5;28;43msuper\u001b[39;49m\u001b[43m(\u001b[49m\u001b[43m)\u001b[49m\u001b[38;5;241;43m.\u001b[39;49m\u001b[38;5;21;43m__init__\u001b[39;49m\u001b[43m(\u001b[49m\n\u001b[0;32m    168\u001b[0m \u001b[43m        \u001b[49m\u001b[38;5;124;43m\"\u001b[39;49m\u001b[38;5;124;43mstructured\u001b[39;49m\u001b[38;5;124;43m\"\u001b[39;49m\u001b[43m,\u001b[49m\n\u001b[0;32m    169\u001b[0m \u001b[43m        \u001b[49m\u001b[43mtop\u001b[49m\u001b[38;5;241;43m=\u001b[39;49m\u001b[43mtop\u001b[49m\u001b[43m,\u001b[49m\n\u001b[0;32m    170\u001b[0m \u001b[43m        \u001b[49m\u001b[43mbotm\u001b[49m\u001b[38;5;241;43m=\u001b[39;49m\u001b[43mbotm\u001b[49m\u001b[43m,\u001b[49m\n\u001b[0;32m    171\u001b[0m \u001b[43m        \u001b[49m\u001b[43midomain\u001b[49m\u001b[38;5;241;43m=\u001b[39;49m\u001b[43midomain\u001b[49m\u001b[43m,\u001b[49m\n\u001b[0;32m    172\u001b[0m \u001b[43m        \u001b[49m\u001b[43mlenuni\u001b[49m\u001b[38;5;241;43m=\u001b[39;49m\u001b[43mlenuni\u001b[49m\u001b[43m,\u001b[49m\n\u001b[0;32m    173\u001b[0m \u001b[43m        \u001b[49m\u001b[43mcrs\u001b[49m\u001b[38;5;241;43m=\u001b[39;49m\u001b[43mcrs\u001b[49m\u001b[43m,\u001b[49m\n\u001b[0;32m    174\u001b[0m \u001b[43m        \u001b[49m\u001b[43mprjfile\u001b[49m\u001b[38;5;241;43m=\u001b[39;49m\u001b[43mprjfile\u001b[49m\u001b[43m,\u001b[49m\n\u001b[0;32m    175\u001b[0m \u001b[43m        \u001b[49m\u001b[43mxoff\u001b[49m\u001b[38;5;241;43m=\u001b[39;49m\u001b[43mxoff\u001b[49m\u001b[43m,\u001b[49m\n\u001b[0;32m    176\u001b[0m \u001b[43m        \u001b[49m\u001b[43myoff\u001b[49m\u001b[38;5;241;43m=\u001b[39;49m\u001b[43myoff\u001b[49m\u001b[43m,\u001b[49m\n\u001b[0;32m    177\u001b[0m \u001b[43m        \u001b[49m\u001b[43mangrot\u001b[49m\u001b[38;5;241;43m=\u001b[39;49m\u001b[43mangrot\u001b[49m\u001b[43m,\u001b[49m\n\u001b[0;32m    178\u001b[0m \u001b[43m        \u001b[49m\u001b[38;5;241;43m*\u001b[39;49m\u001b[38;5;241;43m*\u001b[39;49m\u001b[43mkwargs\u001b[49m\u001b[43m,\u001b[49m\n\u001b[0;32m    179\u001b[0m \u001b[43m    \u001b[49m\u001b[43m)\u001b[49m\n\u001b[0;32m    180\u001b[0m     \u001b[38;5;28;01mif\u001b[39;00m delc \u001b[38;5;129;01mis\u001b[39;00m \u001b[38;5;129;01mnot\u001b[39;00m \u001b[38;5;28;01mNone\u001b[39;00m:\n\u001b[0;32m    181\u001b[0m         \u001b[38;5;28mself\u001b[39m\u001b[38;5;241m.\u001b[39m__nrow \u001b[38;5;241m=\u001b[39m \u001b[38;5;28mlen\u001b[39m(delc)\n",
      "File \u001b[1;32m~\\anaconda3\\envs\\mfsetup\\Lib\\site-packages\\flopy\\discretization\\grid.py:187\u001b[0m, in \u001b[0;36mGrid.__init__\u001b[1;34m(self, grid_type, top, botm, idomain, lenuni, crs, prjfile, xoff, yoff, angrot, **kwargs)\u001b[0m\n\u001b[0;32m    185\u001b[0m get_crs_args \u001b[38;5;241m=\u001b[39m {\u001b[38;5;124m\"\u001b[39m\u001b[38;5;124mcrs\u001b[39m\u001b[38;5;124m\"\u001b[39m: crs, \u001b[38;5;124m\"\u001b[39m\u001b[38;5;124mprjfile\u001b[39m\u001b[38;5;124m\"\u001b[39m: prjfile}\n\u001b[0;32m    186\u001b[0m \u001b[38;5;28;01mif\u001b[39;00m \u001b[38;5;124m\"\u001b[39m\u001b[38;5;124mepsg\u001b[39m\u001b[38;5;124m\"\u001b[39m \u001b[38;5;129;01min\u001b[39;00m kwargs:\n\u001b[1;32m--> 187\u001b[0m     \u001b[38;5;28;43mself\u001b[39;49m\u001b[38;5;241;43m.\u001b[39;49m\u001b[43mepsg\u001b[49m \u001b[38;5;241m=\u001b[39m get_crs_args[\u001b[38;5;124m\"\u001b[39m\u001b[38;5;124mepsg\u001b[39m\u001b[38;5;124m\"\u001b[39m] \u001b[38;5;241m=\u001b[39m kwargs\u001b[38;5;241m.\u001b[39mpop(\u001b[38;5;124m\"\u001b[39m\u001b[38;5;124mepsg\u001b[39m\u001b[38;5;124m\"\u001b[39m)\n\u001b[0;32m    188\u001b[0m \u001b[38;5;28;01mif\u001b[39;00m \u001b[38;5;124m\"\u001b[39m\u001b[38;5;124mproj4\u001b[39m\u001b[38;5;124m\"\u001b[39m \u001b[38;5;129;01min\u001b[39;00m kwargs:\n\u001b[0;32m    189\u001b[0m     \u001b[38;5;28mself\u001b[39m\u001b[38;5;241m.\u001b[39mproj4 \u001b[38;5;241m=\u001b[39m get_crs_args[\u001b[38;5;124m\"\u001b[39m\u001b[38;5;124mproj4\u001b[39m\u001b[38;5;124m\"\u001b[39m] \u001b[38;5;241m=\u001b[39m kwargs\u001b[38;5;241m.\u001b[39mpop(\u001b[38;5;124m\"\u001b[39m\u001b[38;5;124mproj4\u001b[39m\u001b[38;5;124m\"\u001b[39m)\n",
      "\u001b[1;31mAttributeError\u001b[0m: property 'epsg' of 'MFsetupGrid' object has no setter"
     ]
    }
   ],
   "source": [
    "m = MF6model(cfg= 'examples/pleasant_lgr_parent.yml')\n",
    "m.setup_grid()"
   ]
  },
  {
   "cell_type": "markdown",
   "metadata": {},
   "source": [
    "Since this model has local-grid refinement, it actually consists of two models: a parent built from ``pleasant_lgr_parent.yml``, and an inset built from ``pleasant_lgr_inset.yml``, which is referenced within ``pleasant_lgr_parent.yml``. The two sub-models are connected and solved simulataneously within the same MODFLOW 6 simulation. A model grid is made for each sub-model. The model grids are instances of the ``MFsetupGrid`` grid class, a subclass of the Flopy ``StructuredGrid`` class with some added functionality."
   ]
  },
  {
   "cell_type": "code",
   "execution_count": null,
   "metadata": {},
   "outputs": [],
   "source": [
    "m.modelgrid"
   ]
  },
  {
   "cell_type": "code",
   "execution_count": null,
   "metadata": {},
   "outputs": [],
   "source": [
    "m.inset['plsnt_lgr_inset'].modelgrid"
   ]
  },
  {
   "cell_type": "markdown",
   "metadata": {},
   "source": [
    "#### Working directory gottcha\n",
    "Currently, to facilitate working with external files in Flopy, **Modflow-setup changes the working directory to the model workspace**. In the context of a flat script that only builds the model, this is fine, but in a notebook or other workflows, this can potentially cause confusion."
   ]
  },
  {
   "cell_type": "code",
   "execution_count": null,
   "metadata": {},
   "outputs": [],
   "source": [
    "os.getcwd()"
   ]
  },
  {
   "cell_type": "markdown",
   "metadata": {},
   "source": [
    "### Write shapefiles of the inset and parent modelgrids\n",
    "A shapefile of the grid bounding box is written by default on creation of the model grid, to the location specified by ``output_files: grid_file:`` in the ``setup_grid:`` block (default is ``<model workspace>/postproc/shps/``). A shapefile of the grid cells as polygon features can be written as below:"
   ]
  },
  {
   "cell_type": "code",
   "execution_count": null,
   "metadata": {},
   "outputs": [],
   "source": [
    "m.modelgrid.write_shapefile('postproc/shps/plsnt_lgr_parent_grid.shp')\n",
    "m.inset['plsnt_lgr_inset'].modelgrid.write_shapefile('postproc/shps/plsnt_lgr_inset_grid.shp')"
   ]
  },
  {
   "cell_type": "markdown",
   "metadata": {},
   "source": [
    "##### Change the working directory back to the notebook location"
   ]
  },
  {
   "cell_type": "code",
   "execution_count": null,
   "metadata": {},
   "outputs": [],
   "source": [
    "os.chdir(wd)"
   ]
  },
  {
   "cell_type": "markdown",
   "metadata": {},
   "source": [
    "### Build the whole model"
   ]
  },
  {
   "cell_type": "code",
   "execution_count": null,
   "metadata": {},
   "outputs": [],
   "source": [
    "%%capture\n",
    "m = MF6model.setup_from_yaml('pleasant_lgr_parent.yml')"
   ]
  },
  {
   "cell_type": "markdown",
   "metadata": {},
   "source": [
    "a ``MF6model`` instance (subclass of ``flopy.mf6.ModflowGwf``) is returned"
   ]
  },
  {
   "cell_type": "code",
   "execution_count": null,
   "metadata": {},
   "outputs": [],
   "source": [
    "m"
   ]
  },
  {
   "cell_type": "markdown",
   "metadata": {},
   "source": [
    "information from the configuration file is stored in an attached ``cfg`` dictionary"
   ]
  },
  {
   "cell_type": "code",
   "execution_count": null,
   "metadata": {},
   "outputs": [],
   "source": [
    "m.cfg.keys()"
   ]
  },
  {
   "cell_type": "markdown",
   "metadata": {},
   "source": [
    "the ``cfg`` dictionary contains both information from the configuration file, and MODFLOW input (such as external text file arrays) that was developed from the original source data. Internally in Modflow-setup, MODFLOW input in ``cfg`` is fed to the various Flopy object constructors."
   ]
  },
  {
   "cell_type": "code",
   "execution_count": null,
   "metadata": {},
   "outputs": [],
   "source": [
    "m.cfg['dis']"
   ]
  },
  {
   "cell_type": "markdown",
   "metadata": {},
   "source": [
    "The inset LGR model is attached to the parent within an ``inset`` dictionary"
   ]
  },
  {
   "cell_type": "code",
   "execution_count": null,
   "metadata": {},
   "outputs": [],
   "source": [
    "m.inset"
   ]
  },
  {
   "cell_type": "markdown",
   "metadata": {},
   "source": [
    "#### Plot the inset and parent model grids with Lake Package connections by layer"
   ]
  },
  {
   "cell_type": "code",
   "execution_count": null,
   "metadata": {},
   "outputs": [],
   "source": [
    "inset = m.inset['plsnt_lgr_inset']\n",
    "\n",
    "l, r, b, t = m.modelgrid.extent\n",
    "layer = 0\n",
    "\n",
    "fig, ax = plt.subplots(figsize=(10, 10))\n",
    "parent_mv = flopy.plot.PlotMapView(model=m, ax=ax, layer=layer)\n",
    "inset_mv = flopy.plot.PlotMapView(model=inset, ax=ax, layer=layer)\n",
    "\n",
    "vconn = inset.lak.connectiondata.array[inset.lak.connectiondata.array['claktype'] == 'vertical']\n",
    "k, i, j = cellids_to_kij(vconn['cellid'])\n",
    "lakeconnections = np.zeros((inset.nrow, inset.ncol))\n",
    "lakeconnections[i, j] = np.array(k)\n",
    "lakeconnections = np.ma.masked_array(lakeconnections, mask=lakeconnections == 0)\n",
    "qmi = inset_mv.plot_array(lakeconnections)\n",
    "\n",
    "#inset_mv.plot_bc('LAK', color='navy')\n",
    "#parent_mv.plot_bc('WEL_0', color='red')\n",
    "\n",
    "lcp = parent_mv.plot_grid(lw=0.5, ax=ax)\n",
    "lci = inset_mv.plot_grid(lw=0.5)\n",
    "ax.set_ylim(b, t)\n",
    "ax.set_xlim(l, r)\n",
    "ax.set_aspect(1)\n",
    "plt.colorbar(qmi)"
   ]
  },
  {
   "cell_type": "markdown",
   "metadata": {},
   "source": [
    "### write the MODFLOW input files\n",
    "(just like you would for a Flopy model)"
   ]
  },
  {
   "cell_type": "code",
   "execution_count": null,
   "metadata": {},
   "outputs": [],
   "source": [
    "m.write_input()"
   ]
  },
  {
   "cell_type": "markdown",
   "metadata": {},
   "source": [
    "### Run the model\n",
    "\n",
    "**Note:** Running the model through Flopy (as below) requires specification of the MODFLOW executable. In Flopy, the executable is specified via the ``exe_name`` argument to the simulation constructor for MODFLOW 6, or model constructor for previous MODFLOW versions. Similarly, in Modflow-setup, the ``exe_name`` is specified in the ``simulation:`` or ``model:`` block of the [configuration file](https://doi-usgs.github.io/modflow-setup/latest/config-file-gallery.html#pleasant-lake-test-case). This example assumes that a MODFLOW 6 executable with the name \"mf6\" either resides in the model workspace, or is included in the system path."
   ]
  },
  {
   "cell_type": "code",
   "execution_count": null,
   "metadata": {},
   "outputs": [],
   "source": [
    "m.simulation.run_simulation()"
   ]
  },
  {
   "cell_type": "markdown",
   "metadata": {},
   "source": [
    "### Plot the head results"
   ]
  },
  {
   "cell_type": "code",
   "execution_count": null,
   "metadata": {},
   "outputs": [],
   "source": [
    "tmr_parent_headsobj = bf.HeadFile('../data/pleasant/pleasant.hds')\n",
    "lgr_parent_headsobj = bf.HeadFile('plsnt_lgr_parent.hds')\n",
    "lgr_inset_headsobj = bf.HeadFile('plsnt_lgr_inset.hds')\n",
    "\n",
    "# read the head results for the last stress period\n",
    "kper = 12\n",
    "lgr_parent_hds = lgr_parent_headsobj.get_data(kstpkper=(0, kper))\n",
    "lgr_inset_hds = lgr_inset_headsobj.get_data(kstpkper=(0, kper))\n",
    "\n",
    "# Get the water table elevation from the 3D head results\n",
    "inset_wt = get_water_table(lgr_inset_hds, nodata=1e30)\n",
    "parent_wt = get_water_table(lgr_parent_hds, nodata=1e30)\n",
    "\n",
    "# put in the lake level (not included in head output)\n",
    "lake_results = pd.read_csv('lake1.obs.csv')\n",
    "stage = lake_results['STAGE'][kper]\n",
    "inset_wt[inset.lakarr[0] == 1] = stage"
   ]
  },
  {
   "cell_type": "markdown",
   "metadata": {},
   "source": [
    "#### First combine the parent and inset model head results\n",
    "(into a single grid at the inset model resolution; for a nicer looking plot)"
   ]
  },
  {
   "cell_type": "code",
   "execution_count": null,
   "metadata": {},
   "outputs": [],
   "source": [
    "# make the single grid\n",
    "l, b, r, t = m.modelgrid.bounds\n",
    "xi = np.arange(l, r, 40)\n",
    "yi = np.arange(b, t, 40)[::-1]\n",
    "Xi, Yi = np.meshgrid(xi, yi)\n",
    "\n",
    "# make a single set of points\n",
    "# including both parent and inset cell centers\n",
    "# and water table values\n",
    "x = m.modelgrid.xcellcenters[~parent_wt.mask]\n",
    "y = m.modelgrid.ycellcenters[~parent_wt.mask]\n",
    "x = np.append(x, inset.modelgrid.xcellcenters[~inset_wt.mask])\n",
    "y = np.append(y, inset.modelgrid.ycellcenters[~inset_wt.mask])\n",
    "z = parent_wt[~parent_wt.mask].data\n",
    "z = np.append(z, inset_wt[~inset_wt.mask].data)\n",
    "\n",
    "# interpolate the results from the points\n",
    "# onto the single inset resolution grid\n",
    "results = griddata((x, y), z, (Xi, Yi))"
   ]
  },
  {
   "cell_type": "markdown",
   "metadata": {},
   "source": [
    "### Make the plot\n",
    "* include the parent and inset model grids\n",
    "* show the head contours for the combined parent/inset simulation\n",
    "* show SFR boundary condition cells in green\n",
    "* show the lakebed leakance zones"
   ]
  },
  {
   "cell_type": "code",
   "execution_count": null,
   "metadata": {},
   "outputs": [],
   "source": [
    "plt.rcParams['axes.labelsize'] = 8\n",
    "plt.rcParams['xtick.labelsize'] = 8\n",
    "plt.rcParams['ytick.labelsize'] = 8\n",
    "\n",
    "layer = 0\n",
    "fig, ax = plt.subplots(figsize=(6.5, 6.5))\n",
    "# create Flopy plot objects\n",
    "parent_mv = flopy.plot.PlotMapView(model=m, ax=ax, layer=layer)\n",
    "inset_mv = flopy.plot.PlotMapView(model=inset, ax=ax, layer=layer)\n",
    "\n",
    "# plot boundary condition cells from Modflow-setup array properties\n",
    "inset_bcs = np.ma.masked_array(inset._isbc2d, mask=inset._isbc2d==0)\n",
    "parent_bcs = np.ma.masked_array(m._isbc2d, mask=m._isbc2d==0)\n",
    "parent_mv.plot_array(parent_bcs, vmin=0, vmax=5)\n",
    "inset_mv.plot_array(inset_bcs, vmin=0, vmax=5)\n",
    "\n",
    "#bdlknc_values = inset.lak.connectiondata.array['bedleak']\n",
    "conn = inset.lak.connectiondata.array\n",
    "k, i, j = cellids_to_kij(conn['cellid'])\n",
    "bdlknc = np.zeros((inset.nlay, inset.nrow, inset.ncol))\n",
    "bdlknc[k, i, j] = conn['bedleak']\n",
    "bdlknc = np.max(bdlknc, axis=0)\n",
    "bdlknc = np.ma.masked_array(bdlknc, mask=bdlknc == 0)\n",
    "inset_mv.plot_array(bdlknc, cmap='Blues', zorder=200)\n",
    "\n",
    "# contour the combined inset/parent head results\n",
    "levels = np.arange(290, 315, 2)\n",
    "ctr = ax.contour(Xi, Yi, results, levels=levels, colors='b', zorder=10)\n",
    "labels = ax.clabel(ctr, inline=True, fontsize=8, inline_spacing=10)\n",
    "plt.setp(labels, path_effects=[\n",
    "    patheffects.withStroke(linewidth=3, foreground=\"w\")])\n",
    "\n",
    "# plot the grid cell edges\n",
    "lcp = parent_mv.plot_grid(lw=0.5, ax=ax)\n",
    "lci = inset_mv.plot_grid(lw=0.5)\n",
    "\n",
    "ax.set_ylim(b, t)\n",
    "ax.set_xlim(l, r)\n",
    "ax.set_aspect(1)\n",
    "ax.set_ylabel('Northing, in Wisconsin Transverse Mercator (meters)')\n",
    "ax.set_xlabel('Easting, in Wisconsin Transverse Mercator (meters)')\n",
    "\n",
    "ax.text(555600, 390450, 'Pleasant\\nLake', ha='left', va='top', color='DarkBlue', \n",
    "        fontsize=10, fontstyle='italic', family='Serif', zorder=202)\n",
    "txt = ax.text(556400, 391000, 'Chaffee Creek (SFR)', ha='left', va='top', color='DarkGreen', \n",
    "        fontsize=10, fontstyle='italic', family='Serif', zorder=20)\n",
    "txt.set_path_effects([patheffects.withStroke(linewidth=5, foreground='w')])\n",
    "txt = ax.text(556700, 388900, 'Tagatz\\nCreek (SFR)', ha='left', va='top', color='DarkGreen', \n",
    "        fontsize=10, fontstyle='italic', family='Serif', zorder=20)\n",
    "txt.set_path_effects([patheffects.withStroke(linewidth=5, foreground='w')])\n",
    "\n",
    "txt = ax.annotate(\"Littoral zone\",\n",
    "            xy=(555450, 390100), xycoords='data',\n",
    "            xytext=(555050,390100), textcoords='data',\n",
    "                  ha='right',\n",
    "            arrowprops=dict(arrowstyle=\"-|>\",\n",
    "                            connectionstyle=\"arc3\", fc='k'),\n",
    "            path_effects=[patheffects.withStroke(linewidth=4, foreground='w')],\n",
    "            zorder=203\n",
    "            )\n",
    "txt.arrow_patch.set_path_effects([\n",
    "    patheffects.Stroke(linewidth=2, foreground=\"w\"),\n",
    "    patheffects.Normal()])\n",
    "\n",
    "txt = ax.annotate(\"Profundal zone\",\n",
    "            xy=(555600, 390100), xycoords='data',\n",
    "            xytext=(555800,389500), textcoords='data',\n",
    "                  ha='right',\n",
    "            arrowprops=dict(arrowstyle=\"-|>\",\n",
    "                            connectionstyle=\"arc3\", fc='k'),\n",
    "            path_effects=[patheffects.withStroke(linewidth=4, foreground='w')],\n",
    "            zorder=203\n",
    "            )\n",
    "txt.arrow_patch.set_path_effects([\n",
    "    patheffects.Stroke(linewidth=2, foreground=\"w\"),\n",
    "    patheffects.Normal()])\n",
    "\n",
    "plt.tight_layout()\n",
    "plt.savefig('postproc/pdfs/figure_2.pdf')"
   ]
  },
  {
   "cell_type": "markdown",
   "metadata": {},
   "source": [
    "### Use [Modflow-export](https://github.com/aleaf/modflow-export) to export the modflow input to PDFs, rasters and shapefiles"
   ]
  },
  {
   "cell_type": "code",
   "execution_count": null,
   "metadata": {},
   "outputs": [],
   "source": [
    "for model in m, inset:\n",
    "    mfexport.export(model, model.modelgrid, output_path=f'postproc/{model.name}/')"
   ]
  },
  {
   "cell_type": "markdown",
   "metadata": {},
   "source": [
    "#### Modflow-export can also create a summary table of the model inputs"
   ]
  },
  {
   "cell_type": "code",
   "execution_count": null,
   "metadata": {},
   "outputs": [],
   "source": [
    "for model in m, inset:\n",
    "    mfexport.summarize(model, output_path=f'postproc/{model.name}/')"
   ]
  }
 ],
 "metadata": {
  "kernelspec": {
   "display_name": "Python 3 (ipykernel)",
   "language": "python",
   "name": "python3"
  },
  "language_info": {
   "codemirror_mode": {
    "name": "ipython",
    "version": 3
   },
   "file_extension": ".py",
   "mimetype": "text/x-python",
   "name": "python",
   "nbconvert_exporter": "python",
   "pygments_lexer": "ipython3",
   "version": "3.13.1"
  }
 },
 "nbformat": 4,
 "nbformat_minor": 4
}
