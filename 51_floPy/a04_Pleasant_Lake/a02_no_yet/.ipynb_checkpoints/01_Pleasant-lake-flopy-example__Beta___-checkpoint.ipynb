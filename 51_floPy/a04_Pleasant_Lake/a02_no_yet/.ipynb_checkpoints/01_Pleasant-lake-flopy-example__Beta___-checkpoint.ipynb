{
 "cells": [
  {
   "cell_type": "markdown",
   "id": "08d4d782",
   "metadata": {},
   "source": [
    "## __01_Pleasant-lake-flopy-example_____"
   ]
  },
  {
   "cell_type": "code",
   "execution_count": null,
   "id": "4cb7e016-97e9-4a6a-8b16-eb25f71dc3d9",
   "metadata": {},
   "outputs": [],
   "source": [
    "# pip install sfrmaker"
   ]
  },
  {
   "cell_type": "code",
   "execution_count": 1,
   "id": "5acd45ac",
   "metadata": {},
   "outputs": [],
   "source": [
    "import numpy as np                          # Environment Flopy\n",
    "import matplotlib.pyplot as plt\n",
    "import flopy\n",
    "import flopy.mf6 as mf6\n",
    "from flopy.discretization import StructuredGrid\n",
    "from flopy.utils import Raster\n",
    "import sfrmaker\n",
    "import os\n",
    "import shutil\n",
    "# import Beta_dragon as hbd                                # ______________ new"
   ]
  },
  {
   "cell_type": "code",
   "execution_count": 2,
   "id": "ab8c6fcb-bfc2-45b9-8abc-86211f612e6e",
   "metadata": {},
   "outputs": [
    {
     "data": {
      "text/plain": [
       "'v01_Beta'"
      ]
     },
     "execution_count": 2,
     "metadata": {},
     "output_type": "execute_result"
    }
   ],
   "source": [
    "org_d = os.path.join('..', 'data')                       # Path folder\n",
    "Beta_ws = os.path.join('v01_Beta')                       # ______________ New folder\n",
    "if os.path.exists(Beta_ws):\n",
    "    shutil.rmtree(Beta_ws)\n",
    "shutil.copytree(org_d,Beta_ws)"
   ]
  },
  {
   "cell_type": "code",
   "execution_count": 3,
   "id": "6ad880f2-9db4-44d8-9a7d-cf592857190f",
   "metadata": {},
   "outputs": [],
   "source": [
    "model_name = 'B_pleasant'\n",
    "template_ws = os.path.join(\"v01_Beta\")                    # New Folder !"
   ]
  },
  {
   "cell_type": "code",
   "execution_count": 4,
   "id": "749bdb02-4899-4d14-9603-5cd851294d68",
   "metadata": {},
   "outputs": [],
   "source": [
    "sim = mf6.MFSimulation(sim_name=model_name, version=\"mf6\", exe_name=\"mf6\", sim_ws=template_ws)     # __.nam  \n",
    "gwf = mf6.ModflowGwf(sim, modelname=model_name, save_flows=True)  # w = os.path.join('v01_Beta')   # if os.path.exists(w):   #    shutil.rmtree(w)"
   ]
  },
  {
   "cell_type": "markdown",
   "id": "c7e69f34",
   "metadata": {},
   "source": [
    "# __Basic__ __info__"
   ]
  },
  {
   "cell_type": "code",
   "execution_count": 5,
   "id": "be85402f",
   "metadata": {},
   "outputs": [],
   "source": [
    "nper, nlay, nrow, ncol = 1, 3, 60, 70                                       # t, z, y, x, \n",
    "delr, delc = 40, 40\n",
    "xoffset, yoffset = 554400., 389200.0\n",
    "epsg = 3070   # Wisconsin ... EPSG code 3070 \n",
    "modelgrid = StructuredGrid(delr=np.ones(ncol) * delr,    delc=np.ones(nrow) * delc,      xoff=xoffset, yoff=yoffset, angrot=0)"
   ]
  },
  {
   "cell_type": "code",
   "execution_count": 6,
   "id": "0d6e9f19",
   "metadata": {},
   "outputs": [],
   "source": [
    "br_surf = Raster.load('../data/br_surface.tif')                             #  \n",
    "rs = br_surf.resample_to_grid(modelgrid, band=1, method='linear')           \n",
    "np.savetxt('../data/botm_002.dat', rs)"
   ]
  },
  {
   "cell_type": "code",
   "execution_count": 7,
   "id": "290b4ee4",
   "metadata": {},
   "outputs": [],
   "source": [
    "top = [{'filename': '../data/top.dat'}]          # 04 surfaces, 03 layers\n",
    "botm = [{'filename': '../data/botm_000.dat'},\n",
    "        {'filename': '../data/botm_001.dat'},\n",
    "        {'filename': '../data/botm_002.dat'}]\n",
    "k = [{'filename': '../data/k_000.dat'},          # KH\n",
    "     {'filename': '../data/k_001.dat'},\n",
    "     {'filename': '../data/k_002.dat'}]\n",
    "k33 = [{'filename': '../data/k33_000.dat'},      # KV\n",
    "       {'filename': '../data/k33_001.dat'},\n",
    "       {'filename': '../data/k33_002.dat'}]\n",
    "strt = [top[0]] * nlay                           # Top for starting heads\n",
    "recharge = {\n",
    "    0: {'filename': '../data/rch_000.dat'}}      # RCH    \n",
    "irch = [{'filename': '../data/irch.dat'}]        # iRCH   local\n",
    "spec_head_perimeter = {\n",
    "    0: {'filename': '../data/chd_000.dat'}}      # chd"
   ]
  },
  {
   "cell_type": "markdown",
   "id": "490e7bad-0198-4bfa-a5f6-f463ab7cdd6f",
   "metadata": {},
   "source": [
    "# __Object__ __&__ __Model__ __Instancies__"
   ]
  },
  {
   "cell_type": "code",
   "execution_count": 8,
   "id": "0af601f4",
   "metadata": {},
   "outputs": [],
   "source": [
    "gwf.modelgrid.set_coord_info(xoff=xoffset, yoff=yoffset, crs=epsg)                                                    # gwf.modelgrid\n",
    "dis = mf6.ModflowGwfdis(gwf, nlay=nlay, nrow=nrow, ncol=ncol, delr=delr, delc=delc, top=top, botm=botm, idomain=1)    # __.dis \n",
    "tdis = mf6.ModflowTdis(sim, time_units=\"days\", nper=1, perioddata=[(1.0, 1, 1.0)])                                    # __.tdis  "
   ]
  },
  {
   "cell_type": "code",
   "execution_count": 9,
   "id": "934e5c71-c3e8-46c6-8c40-5f14e9c46f1b",
   "metadata": {},
   "outputs": [
    {
     "name": "stdout",
     "output_type": "stream",
     "text": [
      "writing simulation...\n",
      "  writing simulation name file...\n",
      "  writing simulation tdis package...\n",
      "  writing model B_pleasant...\n",
      "    writing model name file...\n",
      "    writing package dis...\n"
     ]
    }
   ],
   "source": [
    "sim.write_simulation() # __________02"
   ]
  },
  {
   "cell_type": "code",
   "execution_count": 10,
   "id": "d3f4e03c-eeb7-4385-82fa-49bbd34aee96",
   "metadata": {},
   "outputs": [],
   "source": [
    "ims = mf6.ModflowIms(sim, complexity=\"moderate\", outer_dvclose=0.001)                                                 # Solver"
   ]
  },
  {
   "cell_type": "code",
   "execution_count": 11,
   "id": "0382c664-41ba-4f79-bb6a-5dd594c4ddec",
   "metadata": {},
   "outputs": [
    {
     "ename": "MFDataException",
     "evalue": "An error occurred in data element \"budget_filerecord\" model \"B_pleasant\" package \"oc\". The error occurred while setting data in the \"__init__\" method.\nAdditional Information:\n(1) Unable to open file E:\\15_REPOS\\00_BETAMI\\02_floPy__________________\\02_Pleasant_Lake___________________soso\\00____________________again\\v01_Beta\\../data/botm_000.dat in mode r.  Make sure the file is not locked and the folder exists.\n(2) Error occurred while adding dataset \"budget_filerecord\" to block \"options\"",
     "output_type": "error",
     "traceback": [
      "\u001b[1;31m---------------------------------------------------------------------------\u001b[0m",
      "\u001b[1;31mFileNotFoundError\u001b[0m                         Traceback (most recent call last)",
      "File \u001b[1;32m~\\anaconda3\\envs\\gmdsitut\\Lib\\site-packages\\flopy\\mf6\\data\\mffileaccess.py:159\u001b[0m, in \u001b[0;36mMFFileAccess._open_ext_file\u001b[1;34m(self, fname, binary, write)\u001b[0m\n\u001b[0;32m    158\u001b[0m \u001b[38;5;28;01mtry\u001b[39;00m:\n\u001b[1;32m--> 159\u001b[0m     fd \u001b[38;5;241m=\u001b[39m \u001b[38;5;28;43mopen\u001b[39;49m\u001b[43m(\u001b[49m\u001b[43mread_file\u001b[49m\u001b[43m,\u001b[49m\u001b[43m \u001b[49m\u001b[43moptions\u001b[49m\u001b[43m)\u001b[49m\n\u001b[0;32m    160\u001b[0m     \u001b[38;5;28;01mreturn\u001b[39;00m fd\n",
      "\u001b[1;31mFileNotFoundError\u001b[0m: [Errno 2] No such file or directory: 'E:\\\\15_REPOS\\\\00_BETAMI\\\\02_floPy__________________\\\\02_Pleasant_Lake___________________soso\\\\00____________________again\\\\v01_Beta\\\\../data/botm_000.dat'",
      "\nDuring handling of the above exception, another exception occurred:\n",
      "\u001b[1;31mMFDataException\u001b[0m                           Traceback (most recent call last)",
      "File \u001b[1;32m~\\anaconda3\\envs\\gmdsitut\\Lib\\site-packages\\flopy\\mf6\\data\\mfdataarray.py:731\u001b[0m, in \u001b[0;36mMFArray._get_data\u001b[1;34m(self, layer, apply_mult, **kwargs)\u001b[0m\n\u001b[0;32m    730\u001b[0m \u001b[38;5;28;01mtry\u001b[39;00m:\n\u001b[1;32m--> 731\u001b[0m     data \u001b[38;5;241m=\u001b[39m \u001b[43mstorage\u001b[49m\u001b[38;5;241;43m.\u001b[39;49m\u001b[43mget_data\u001b[49m\u001b[43m(\u001b[49m\u001b[43mlayer\u001b[49m\u001b[43m,\u001b[49m\u001b[43m \u001b[49m\u001b[43mapply_mult\u001b[49m\u001b[43m)\u001b[49m\n\u001b[0;32m    732\u001b[0m     \u001b[38;5;28;01mif\u001b[39;00m (\n\u001b[0;32m    733\u001b[0m         \u001b[38;5;124m\"\u001b[39m\u001b[38;5;124marray\u001b[39m\u001b[38;5;124m\"\u001b[39m \u001b[38;5;129;01min\u001b[39;00m kwargs\n\u001b[0;32m    734\u001b[0m         \u001b[38;5;129;01mand\u001b[39;00m kwargs[\u001b[38;5;124m\"\u001b[39m\u001b[38;5;124marray\u001b[39m\u001b[38;5;124m\"\u001b[39m]\n\u001b[0;32m    735\u001b[0m         \u001b[38;5;129;01mand\u001b[39;00m \u001b[38;5;28misinstance\u001b[39m(\u001b[38;5;28mself\u001b[39m, MFTransientArray)\n\u001b[0;32m    736\u001b[0m         \u001b[38;5;129;01mand\u001b[39;00m data \u001b[38;5;129;01mis\u001b[39;00m \u001b[38;5;129;01mnot\u001b[39;00m []  \u001b[38;5;66;03m# noqa: F632\u001b[39;00m\n\u001b[0;32m    737\u001b[0m     ):\n",
      "File \u001b[1;32m~\\anaconda3\\envs\\gmdsitut\\Lib\\site-packages\\flopy\\mf6\\data\\mfdatastorage.py:684\u001b[0m, in \u001b[0;36mDataStorage.get_data\u001b[1;34m(self, layer, apply_mult, block_exists)\u001b[0m\n\u001b[0;32m    683\u001b[0m \u001b[38;5;28;01mdef\u001b[39;00m \u001b[38;5;21mget_data\u001b[39m(\u001b[38;5;28mself\u001b[39m, layer\u001b[38;5;241m=\u001b[39m\u001b[38;5;28;01mNone\u001b[39;00m, apply_mult\u001b[38;5;241m=\u001b[39m\u001b[38;5;28;01mTrue\u001b[39;00m, block_exists\u001b[38;5;241m=\u001b[39m\u001b[38;5;28;01mFalse\u001b[39;00m):\n\u001b[1;32m--> 684\u001b[0m     data \u001b[38;5;241m=\u001b[39m \u001b[38;5;28;43mself\u001b[39;49m\u001b[38;5;241;43m.\u001b[39;49m\u001b[43m_access_data\u001b[49m\u001b[43m(\u001b[49m\u001b[43mlayer\u001b[49m\u001b[43m,\u001b[49m\u001b[43m \u001b[49m\u001b[38;5;28;43;01mTrue\u001b[39;49;00m\u001b[43m,\u001b[49m\u001b[43m \u001b[49m\u001b[43mapply_mult\u001b[49m\u001b[38;5;241;43m=\u001b[39;49m\u001b[43mapply_mult\u001b[49m\u001b[43m)\u001b[49m\n\u001b[0;32m    685\u001b[0m     \u001b[38;5;28;01mif\u001b[39;00m data \u001b[38;5;129;01mis\u001b[39;00m \u001b[38;5;28;01mNone\u001b[39;00m \u001b[38;5;129;01mand\u001b[39;00m block_exists:\n",
      "File \u001b[1;32m~\\anaconda3\\envs\\gmdsitut\\Lib\\site-packages\\flopy\\mf6\\data\\mfdatastorage.py:711\u001b[0m, in \u001b[0;36mDataStorage._access_data\u001b[1;34m(self, layer, return_data, apply_mult)\u001b[0m\n\u001b[0;32m    702\u001b[0m \u001b[38;5;28;01mif\u001b[39;00m (\n\u001b[0;32m    703\u001b[0m     layer \u001b[38;5;129;01mis\u001b[39;00m \u001b[38;5;28;01mNone\u001b[39;00m\n\u001b[0;32m    704\u001b[0m     \u001b[38;5;129;01mand\u001b[39;00m (\n\u001b[1;32m   (...)\u001b[0m\n\u001b[0;32m    709\u001b[0m ):\n\u001b[0;32m    710\u001b[0m     \u001b[38;5;66;03m# return data from all layers\u001b[39;00m\n\u001b[1;32m--> 711\u001b[0m     data \u001b[38;5;241m=\u001b[39m \u001b[38;5;28;43mself\u001b[39;49m\u001b[38;5;241;43m.\u001b[39;49m\u001b[43m_build_full_data\u001b[49m\u001b[43m(\u001b[49m\u001b[43mapply_mult\u001b[49m\u001b[43m)\u001b[49m\n\u001b[0;32m    712\u001b[0m     \u001b[38;5;28;01mif\u001b[39;00m data \u001b[38;5;129;01mis\u001b[39;00m \u001b[38;5;28;01mNone\u001b[39;00m:\n",
      "File \u001b[1;32m~\\anaconda3\\envs\\gmdsitut\\Lib\\site-packages\\flopy\\mf6\\data\\mfdatastorage.py:2446\u001b[0m, in \u001b[0;36mDataStorage._build_full_data\u001b[1;34m(self, apply_multiplier)\u001b[0m\n\u001b[0;32m   2444\u001b[0m \u001b[38;5;28;01melse\u001b[39;00m:\n\u001b[0;32m   2445\u001b[0m     data_out \u001b[38;5;241m=\u001b[39m (\n\u001b[1;32m-> 2446\u001b[0m         \u001b[43mfile_access\u001b[49m\u001b[38;5;241;43m.\u001b[39;49m\u001b[43mread_text_data_from_file\u001b[49m\u001b[43m(\u001b[49m\n\u001b[0;32m   2447\u001b[0m \u001b[43m            \u001b[49m\u001b[38;5;28;43mself\u001b[39;49m\u001b[38;5;241;43m.\u001b[39;49m\u001b[43mget_data_size\u001b[49m\u001b[43m(\u001b[49m\u001b[43mlayer\u001b[49m\u001b[43m)\u001b[49m\u001b[43m,\u001b[49m\n\u001b[0;32m   2448\u001b[0m \u001b[43m            \u001b[49m\u001b[43mnp_data_type\u001b[49m\u001b[43m,\u001b[49m\n\u001b[0;32m   2449\u001b[0m \u001b[43m            \u001b[49m\u001b[38;5;28;43mself\u001b[39;49m\u001b[38;5;241;43m.\u001b[39;49m\u001b[43mget_data_dimensions\u001b[49m\u001b[43m(\u001b[49m\u001b[43mlayer\u001b[49m\u001b[43m)\u001b[49m\u001b[43m,\u001b[49m\n\u001b[0;32m   2450\u001b[0m \u001b[43m            \u001b[49m\u001b[43mlayer\u001b[49m\u001b[43m,\u001b[49m\n\u001b[0;32m   2451\u001b[0m \u001b[43m            \u001b[49m\u001b[38;5;28;43mself\u001b[39;49m\u001b[38;5;241;43m.\u001b[39;49m\u001b[43mlayered\u001b[49m\u001b[43m,\u001b[49m\n\u001b[0;32m   2452\u001b[0m \u001b[43m            \u001b[49m\u001b[43mread_file\u001b[49m\u001b[43m,\u001b[49m\n\u001b[0;32m   2453\u001b[0m \u001b[43m        \u001b[49m\u001b[43m)\u001b[49m[\u001b[38;5;241m0\u001b[39m]\n\u001b[0;32m   2454\u001b[0m         \u001b[38;5;241m*\u001b[39m mult\n\u001b[0;32m   2455\u001b[0m     )\n\u001b[0;32m   2456\u001b[0m \u001b[38;5;28;01mif\u001b[39;00m (\n\u001b[0;32m   2457\u001b[0m     \u001b[38;5;28mself\u001b[39m\u001b[38;5;241m.\u001b[39mlayer_storage\u001b[38;5;241m.\u001b[39mget_total_size() \u001b[38;5;241m==\u001b[39m \u001b[38;5;241m1\u001b[39m\n\u001b[0;32m   2458\u001b[0m     \u001b[38;5;129;01mor\u001b[39;00m \u001b[38;5;129;01mnot\u001b[39;00m \u001b[38;5;28mself\u001b[39m\u001b[38;5;241m.\u001b[39mlayered\n\u001b[0;32m   2459\u001b[0m ):\n",
      "File \u001b[1;32m~\\anaconda3\\envs\\gmdsitut\\Lib\\site-packages\\flopy\\mf6\\data\\mffileaccess.py:598\u001b[0m, in \u001b[0;36mMFFileAccessArray.read_text_data_from_file\u001b[1;34m(self, data_size, data_type, data_dim, layer, layered, fname, fd)\u001b[0m\n\u001b[0;32m    597\u001b[0m     close_file \u001b[38;5;241m=\u001b[39m \u001b[38;5;28;01mTrue\u001b[39;00m\n\u001b[1;32m--> 598\u001b[0m     fd \u001b[38;5;241m=\u001b[39m \u001b[38;5;28;43mself\u001b[39;49m\u001b[38;5;241;43m.\u001b[39;49m\u001b[43m_open_ext_file\u001b[49m\u001b[43m(\u001b[49m\u001b[43mfname\u001b[49m\u001b[43m)\u001b[49m\n\u001b[0;32m    599\u001b[0m data_raw \u001b[38;5;241m=\u001b[39m []\n",
      "File \u001b[1;32m~\\anaconda3\\envs\\gmdsitut\\Lib\\site-packages\\flopy\\mf6\\data\\mffileaccess.py:168\u001b[0m, in \u001b[0;36mMFFileAccess._open_ext_file\u001b[1;34m(self, fname, binary, write)\u001b[0m\n\u001b[0;32m    167\u001b[0m type_, value_, traceback_ \u001b[38;5;241m=\u001b[39m sys\u001b[38;5;241m.\u001b[39mexc_info()\n\u001b[1;32m--> 168\u001b[0m \u001b[38;5;28;01mraise\u001b[39;00m MFDataException(\n\u001b[0;32m    169\u001b[0m     \u001b[38;5;28mself\u001b[39m\u001b[38;5;241m.\u001b[39m_data_dimensions\u001b[38;5;241m.\u001b[39mstructure\u001b[38;5;241m.\u001b[39mget_model(),\n\u001b[0;32m    170\u001b[0m     \u001b[38;5;28mself\u001b[39m\u001b[38;5;241m.\u001b[39m_data_dimensions\u001b[38;5;241m.\u001b[39mstructure\u001b[38;5;241m.\u001b[39mget_package(),\n\u001b[0;32m    171\u001b[0m     \u001b[38;5;28mself\u001b[39m\u001b[38;5;241m.\u001b[39m_data_dimensions\u001b[38;5;241m.\u001b[39mstructure\u001b[38;5;241m.\u001b[39mpath,\n\u001b[0;32m    172\u001b[0m     \u001b[38;5;124m\"\u001b[39m\u001b[38;5;124mopening external file for writing\u001b[39m\u001b[38;5;124m\"\u001b[39m,\n\u001b[0;32m    173\u001b[0m     \u001b[38;5;28mself\u001b[39m\u001b[38;5;241m.\u001b[39m_data_dimensions\u001b[38;5;241m.\u001b[39mstructure\u001b[38;5;241m.\u001b[39mname,\n\u001b[0;32m    174\u001b[0m     inspect\u001b[38;5;241m.\u001b[39mstack()[\u001b[38;5;241m0\u001b[39m][\u001b[38;5;241m3\u001b[39m],\n\u001b[0;32m    175\u001b[0m     type_,\n\u001b[0;32m    176\u001b[0m     value_,\n\u001b[0;32m    177\u001b[0m     traceback_,\n\u001b[0;32m    178\u001b[0m     message,\n\u001b[0;32m    179\u001b[0m     \u001b[38;5;28mself\u001b[39m\u001b[38;5;241m.\u001b[39m_simulation_data\u001b[38;5;241m.\u001b[39mdebug,\n\u001b[0;32m    180\u001b[0m )\n",
      "\u001b[1;31mMFDataException\u001b[0m: An error occurred in data element \"botm\" model \"gwf6\" package \"dis\". The error occurred while opening external file for writing in the \"_open_ext_file\" method.\nAdditional Information:\n(1) Unable to open file E:\\15_REPOS\\00_BETAMI\\02_floPy__________________\\02_Pleasant_Lake___________________soso\\00____________________again\\v01_Beta\\../data/botm_000.dat in mode r.  Make sure the file is not locked and the folder exists.",
      "\nDuring handling of the above exception, another exception occurred:\n",
      "\u001b[1;31mMFDataException\u001b[0m                           Traceback (most recent call last)",
      "File \u001b[1;32m~\\anaconda3\\envs\\gmdsitut\\Lib\\site-packages\\flopy\\mf6\\data\\mfdatalist.py:85\u001b[0m, in \u001b[0;36mMFList.__init__\u001b[1;34m(self, sim_data, model_or_sim, structure, data, enable, path, dimensions, package, block)\u001b[0m\n\u001b[0;32m     84\u001b[0m \u001b[38;5;28;01mtry\u001b[39;00m:\n\u001b[1;32m---> 85\u001b[0m     \u001b[38;5;28;43mself\u001b[39;49m\u001b[38;5;241;43m.\u001b[39;49m\u001b[43mset_data\u001b[49m\u001b[43m(\u001b[49m\u001b[43mdata\u001b[49m\u001b[43m,\u001b[49m\u001b[43m \u001b[49m\u001b[38;5;28;43;01mTrue\u001b[39;49;00m\u001b[43m)\u001b[49m\n\u001b[0;32m     86\u001b[0m \u001b[38;5;28;01mexcept\u001b[39;00m \u001b[38;5;167;01mException\u001b[39;00m \u001b[38;5;28;01mas\u001b[39;00m ex:\n",
      "File \u001b[1;32m~\\anaconda3\\envs\\gmdsitut\\Lib\\site-packages\\flopy\\mf6\\data\\mfdatalist.py:571\u001b[0m, in \u001b[0;36mMFList.set_data\u001b[1;34m(self, data, autofill, check_data)\u001b[0m\n\u001b[0;32m    551\u001b[0m \u001b[38;5;250m\u001b[39m\u001b[38;5;124;03m\"\"\"Sets the contents of the data to \"data\".  Data can have the\u001b[39;00m\n\u001b[0;32m    552\u001b[0m \u001b[38;5;124;03mfollowing formats:\u001b[39;00m\n\u001b[0;32m    553\u001b[0m \u001b[38;5;124;03m    1) recarray - recarray containing the datalist\u001b[39;00m\n\u001b[1;32m   (...)\u001b[0m\n\u001b[0;32m    569\u001b[0m \n\u001b[0;32m    570\u001b[0m \u001b[38;5;124;03m\"\"\"\u001b[39;00m\n\u001b[1;32m--> 571\u001b[0m \u001b[38;5;28;43mself\u001b[39;49m\u001b[38;5;241;43m.\u001b[39;49m\u001b[43m_set_data\u001b[49m\u001b[43m(\u001b[49m\u001b[43mdata\u001b[49m\u001b[43m,\u001b[49m\u001b[43m \u001b[49m\u001b[43mautofill\u001b[49m\u001b[43m,\u001b[49m\u001b[43m \u001b[49m\u001b[43mcheck_data\u001b[49m\u001b[38;5;241;43m=\u001b[39;49m\u001b[43mcheck_data\u001b[49m\u001b[43m)\u001b[49m\n",
      "File \u001b[1;32m~\\anaconda3\\envs\\gmdsitut\\Lib\\site-packages\\flopy\\mf6\\data\\mfdatalist.py:420\u001b[0m, in \u001b[0;36mMFList._set_data\u001b[1;34m(self, data, autofill, check_data, preserve_record)\u001b[0m\n\u001b[0;32m    418\u001b[0m \u001b[38;5;28;01mif\u001b[39;00m check_data \u001b[38;5;129;01mand\u001b[39;00m \u001b[38;5;28mself\u001b[39m\u001b[38;5;241m.\u001b[39m_simulation_data\u001b[38;5;241m.\u001b[39mverify_data:\n\u001b[0;32m    419\u001b[0m     \u001b[38;5;66;03m# verify cellids\u001b[39;00m\n\u001b[1;32m--> 420\u001b[0m     \u001b[38;5;28;43mself\u001b[39;49m\u001b[38;5;241;43m.\u001b[39;49m\u001b[43m_check_valid_cellids\u001b[49m\u001b[43m(\u001b[49m\u001b[43m)\u001b[49m\n",
      "File \u001b[1;32m~\\anaconda3\\envs\\gmdsitut\\Lib\\site-packages\\flopy\\mf6\\data\\mfdatalist.py:424\u001b[0m, in \u001b[0;36mMFList._check_valid_cellids\u001b[1;34m(self)\u001b[0m\n\u001b[0;32m    422\u001b[0m \u001b[38;5;28;01mdef\u001b[39;00m \u001b[38;5;21m_check_valid_cellids\u001b[39m(\u001b[38;5;28mself\u001b[39m):\n\u001b[0;32m    423\u001b[0m     \u001b[38;5;66;03m# only check packages that are a part of a model\u001b[39;00m\n\u001b[1;32m--> 424\u001b[0m     \u001b[38;5;28;01mif\u001b[39;00m \u001b[38;5;28misinstance\u001b[39m(\u001b[38;5;28mself\u001b[39m\u001b[38;5;241m.\u001b[39m_model_or_sim, ModelInterface) \u001b[38;5;129;01mand\u001b[39;00m \u001b[38;5;28;43mhasattr\u001b[39;49m\u001b[43m(\u001b[49m\n\u001b[0;32m    425\u001b[0m \u001b[43m        \u001b[49m\u001b[38;5;28;43mself\u001b[39;49m\u001b[38;5;241;43m.\u001b[39;49m\u001b[43m_model_or_sim\u001b[49m\u001b[43m,\u001b[49m\u001b[43m \u001b[49m\u001b[38;5;124;43m\"\u001b[39;49m\u001b[38;5;124;43mmodelgrid\u001b[39;49m\u001b[38;5;124;43m\"\u001b[39;49m\n\u001b[0;32m    426\u001b[0m \u001b[43m    \u001b[49m\u001b[43m)\u001b[49m:\n\u001b[0;32m    427\u001b[0m         \u001b[38;5;66;03m# get model grid info\u001b[39;00m\n\u001b[0;32m    428\u001b[0m         mg \u001b[38;5;241m=\u001b[39m \u001b[38;5;28mself\u001b[39m\u001b[38;5;241m.\u001b[39m_get_model_grid()\n",
      "File \u001b[1;32m~\\anaconda3\\envs\\gmdsitut\\Lib\\site-packages\\flopy\\mf6\\mfmodel.py:379\u001b[0m, in \u001b[0;36mMFModel.modelgrid\u001b[1;34m(self)\u001b[0m\n\u001b[0;32m    378\u001b[0m \u001b[38;5;28;01melse\u001b[39;00m:\n\u001b[1;32m--> 379\u001b[0m     botm \u001b[38;5;241m=\u001b[39m \u001b[43mdis\u001b[49m\u001b[38;5;241;43m.\u001b[39;49m\u001b[43mbotm\u001b[49m\u001b[38;5;241;43m.\u001b[39;49m\u001b[43marray\u001b[49m\n\u001b[0;32m    380\u001b[0m     idomain \u001b[38;5;241m=\u001b[39m dis\u001b[38;5;241m.\u001b[39midomain\u001b[38;5;241m.\u001b[39marray\n",
      "File \u001b[1;32m~\\anaconda3\\envs\\gmdsitut\\Lib\\site-packages\\flopy\\mf6\\data\\mfdata.py:300\u001b[0m, in \u001b[0;36mMFData.array\u001b[1;34m(self)\u001b[0m\n\u001b[0;32m    299\u001b[0m kwargs \u001b[38;5;241m=\u001b[39m {\u001b[38;5;124m\"\u001b[39m\u001b[38;5;124marray\u001b[39m\u001b[38;5;124m\"\u001b[39m: \u001b[38;5;28;01mTrue\u001b[39;00m}\n\u001b[1;32m--> 300\u001b[0m \u001b[38;5;28;01mreturn\u001b[39;00m \u001b[38;5;28;43mself\u001b[39;49m\u001b[38;5;241;43m.\u001b[39;49m\u001b[43mget_data\u001b[49m\u001b[43m(\u001b[49m\u001b[43mapply_mult\u001b[49m\u001b[38;5;241;43m=\u001b[39;49m\u001b[38;5;28;43;01mTrue\u001b[39;49;00m\u001b[43m,\u001b[49m\u001b[43m \u001b[49m\u001b[38;5;241;43m*\u001b[39;49m\u001b[38;5;241;43m*\u001b[39;49m\u001b[43mkwargs\u001b[49m\u001b[43m)\u001b[49m\n",
      "File \u001b[1;32m~\\anaconda3\\envs\\gmdsitut\\Lib\\site-packages\\flopy\\mf6\\data\\mfdataarray.py:721\u001b[0m, in \u001b[0;36mMFArray.get_data\u001b[1;34m(self, layer, apply_mult, **kwargs)\u001b[0m\n\u001b[0;32m    708\u001b[0m \u001b[38;5;250m\u001b[39m\u001b[38;5;124;03m\"\"\"Returns the data associated with layer \"layer\".  If \"layer\"\u001b[39;00m\n\u001b[0;32m    709\u001b[0m \u001b[38;5;124;03mis None, returns all data.\u001b[39;00m\n\u001b[0;32m    710\u001b[0m \n\u001b[1;32m   (...)\u001b[0m\n\u001b[0;32m    719\u001b[0m \n\u001b[0;32m    720\u001b[0m \u001b[38;5;124;03m\"\"\"\u001b[39;00m\n\u001b[1;32m--> 721\u001b[0m \u001b[38;5;28;01mreturn\u001b[39;00m \u001b[38;5;28;43mself\u001b[39;49m\u001b[38;5;241;43m.\u001b[39;49m\u001b[43m_get_data\u001b[49m\u001b[43m(\u001b[49m\u001b[43mlayer\u001b[49m\u001b[43m,\u001b[49m\u001b[43m \u001b[49m\u001b[43mapply_mult\u001b[49m\u001b[43m,\u001b[49m\u001b[43m \u001b[49m\u001b[38;5;241;43m*\u001b[39;49m\u001b[38;5;241;43m*\u001b[39;49m\u001b[43mkwargs\u001b[49m\u001b[43m)\u001b[49m\n",
      "File \u001b[1;32m~\\anaconda3\\envs\\gmdsitut\\Lib\\site-packages\\flopy\\mf6\\data\\mfdataarray.py:742\u001b[0m, in \u001b[0;36mMFArray._get_data\u001b[1;34m(self, layer, apply_mult, **kwargs)\u001b[0m\n\u001b[0;32m    741\u001b[0m         type_, value_, traceback_ \u001b[38;5;241m=\u001b[39m sys\u001b[38;5;241m.\u001b[39mexc_info()\n\u001b[1;32m--> 742\u001b[0m         \u001b[38;5;28;01mraise\u001b[39;00m MFDataException(\n\u001b[0;32m    743\u001b[0m             \u001b[38;5;28mself\u001b[39m\u001b[38;5;241m.\u001b[39mstructure\u001b[38;5;241m.\u001b[39mget_model(),\n\u001b[0;32m    744\u001b[0m             \u001b[38;5;28mself\u001b[39m\u001b[38;5;241m.\u001b[39mstructure\u001b[38;5;241m.\u001b[39mget_package(),\n\u001b[0;32m    745\u001b[0m             \u001b[38;5;28mself\u001b[39m\u001b[38;5;241m.\u001b[39m_path,\n\u001b[0;32m    746\u001b[0m             \u001b[38;5;124m\"\u001b[39m\u001b[38;5;124mgetting data\u001b[39m\u001b[38;5;124m\"\u001b[39m,\n\u001b[0;32m    747\u001b[0m             \u001b[38;5;28mself\u001b[39m\u001b[38;5;241m.\u001b[39mstructure\u001b[38;5;241m.\u001b[39mname,\n\u001b[0;32m    748\u001b[0m             inspect\u001b[38;5;241m.\u001b[39mstack()[\u001b[38;5;241m0\u001b[39m][\u001b[38;5;241m3\u001b[39m],\n\u001b[0;32m    749\u001b[0m             type_,\n\u001b[0;32m    750\u001b[0m             value_,\n\u001b[0;32m    751\u001b[0m             traceback_,\n\u001b[0;32m    752\u001b[0m             \u001b[38;5;28;01mNone\u001b[39;00m,\n\u001b[0;32m    753\u001b[0m             \u001b[38;5;28mself\u001b[39m\u001b[38;5;241m.\u001b[39m_simulation_data\u001b[38;5;241m.\u001b[39mdebug,\n\u001b[0;32m    754\u001b[0m             ex,\n\u001b[0;32m    755\u001b[0m         )\n\u001b[0;32m    756\u001b[0m \u001b[38;5;28;01mreturn\u001b[39;00m \u001b[38;5;28;01mNone\u001b[39;00m\n",
      "\u001b[1;31mMFDataException\u001b[0m: An error occurred in data element \"botm\" model \"gwf6\" package \"dis\". The error occurred while getting data in the \"_get_data\" method.\nAdditional Information:\n(1) Unable to open file E:\\15_REPOS\\00_BETAMI\\02_floPy__________________\\02_Pleasant_Lake___________________soso\\00____________________again\\v01_Beta\\../data/botm_000.dat in mode r.  Make sure the file is not locked and the folder exists.",
      "\nDuring handling of the above exception, another exception occurred:\n",
      "\u001b[1;31mMFDataException\u001b[0m                           Traceback (most recent call last)",
      "File \u001b[1;32m~\\anaconda3\\envs\\gmdsitut\\Lib\\site-packages\\flopy\\mf6\\mfpackage.py:620\u001b[0m, in \u001b[0;36mMFBlock.add_dataset\u001b[1;34m(self, dataset_struct, data, var_path)\u001b[0m\n\u001b[0;32m    619\u001b[0m \u001b[38;5;28;01mtry\u001b[39;00m:\n\u001b[1;32m--> 620\u001b[0m     \u001b[38;5;28mself\u001b[39m\u001b[38;5;241m.\u001b[39mdatasets[var_path[\u001b[38;5;241m-\u001b[39m\u001b[38;5;241m1\u001b[39m]] \u001b[38;5;241m=\u001b[39m \u001b[38;5;28;43mself\u001b[39;49m\u001b[38;5;241;43m.\u001b[39;49m\u001b[43mdata_factory\u001b[49m\u001b[43m(\u001b[49m\n\u001b[0;32m    621\u001b[0m \u001b[43m        \u001b[49m\u001b[38;5;28;43mself\u001b[39;49m\u001b[38;5;241;43m.\u001b[39;49m\u001b[43m_simulation_data\u001b[49m\u001b[43m,\u001b[49m\n\u001b[0;32m    622\u001b[0m \u001b[43m        \u001b[49m\u001b[38;5;28;43mself\u001b[39;49m\u001b[38;5;241;43m.\u001b[39;49m\u001b[43m_model_or_sim\u001b[49m\u001b[43m,\u001b[49m\n\u001b[0;32m    623\u001b[0m \u001b[43m        \u001b[49m\u001b[43mdataset_struct\u001b[49m\u001b[43m,\u001b[49m\n\u001b[0;32m    624\u001b[0m \u001b[43m        \u001b[49m\u001b[38;5;28;43;01mTrue\u001b[39;49;00m\u001b[43m,\u001b[49m\n\u001b[0;32m    625\u001b[0m \u001b[43m        \u001b[49m\u001b[43mvar_path\u001b[49m\u001b[43m,\u001b[49m\n\u001b[0;32m    626\u001b[0m \u001b[43m        \u001b[49m\u001b[38;5;28;43mself\u001b[39;49m\u001b[38;5;241;43m.\u001b[39;49m\u001b[43m_dimensions\u001b[49m\u001b[43m,\u001b[49m\n\u001b[0;32m    627\u001b[0m \u001b[43m        \u001b[49m\u001b[43mdata\u001b[49m\u001b[43m,\u001b[49m\n\u001b[0;32m    628\u001b[0m \u001b[43m        \u001b[49m\u001b[38;5;28;43mself\u001b[39;49m\u001b[38;5;241;43m.\u001b[39;49m\u001b[43m_container_package\u001b[49m\u001b[43m,\u001b[49m\n\u001b[0;32m    629\u001b[0m \u001b[43m    \u001b[49m\u001b[43m)\u001b[49m\n\u001b[0;32m    630\u001b[0m \u001b[38;5;28;01mexcept\u001b[39;00m MFDataException \u001b[38;5;28;01mas\u001b[39;00m mfde:\n",
      "File \u001b[1;32m~\\anaconda3\\envs\\gmdsitut\\Lib\\site-packages\\flopy\\mf6\\mfpackage.py:492\u001b[0m, in \u001b[0;36mMFBlock.data_factory\u001b[1;34m(self, sim_data, model_or_sim, structure, enable, path, dimensions, data, package)\u001b[0m\n\u001b[0;32m    491\u001b[0m     \u001b[38;5;28;01melse\u001b[39;00m:\n\u001b[1;32m--> 492\u001b[0m         \u001b[38;5;28;01mreturn\u001b[39;00m \u001b[43mmfdatalist\u001b[49m\u001b[38;5;241;43m.\u001b[39;49m\u001b[43mMFList\u001b[49m\u001b[43m(\u001b[49m\n\u001b[0;32m    493\u001b[0m \u001b[43m            \u001b[49m\u001b[43msim_data\u001b[49m\u001b[43m,\u001b[49m\n\u001b[0;32m    494\u001b[0m \u001b[43m            \u001b[49m\u001b[43mmodel_or_sim\u001b[49m\u001b[43m,\u001b[49m\n\u001b[0;32m    495\u001b[0m \u001b[43m            \u001b[49m\u001b[43mstructure\u001b[49m\u001b[43m,\u001b[49m\n\u001b[0;32m    496\u001b[0m \u001b[43m            \u001b[49m\u001b[43mdata\u001b[49m\u001b[43m,\u001b[49m\n\u001b[0;32m    497\u001b[0m \u001b[43m            \u001b[49m\u001b[43menable\u001b[49m\u001b[43m,\u001b[49m\n\u001b[0;32m    498\u001b[0m \u001b[43m            \u001b[49m\u001b[43mpath\u001b[49m\u001b[43m,\u001b[49m\n\u001b[0;32m    499\u001b[0m \u001b[43m            \u001b[49m\u001b[43mdimensions\u001b[49m\u001b[43m,\u001b[49m\n\u001b[0;32m    500\u001b[0m \u001b[43m            \u001b[49m\u001b[43mpackage\u001b[49m\u001b[43m,\u001b[49m\n\u001b[0;32m    501\u001b[0m \u001b[43m            \u001b[49m\u001b[38;5;28;43mself\u001b[39;49m\u001b[43m,\u001b[49m\n\u001b[0;32m    502\u001b[0m \u001b[43m        \u001b[49m\u001b[43m)\u001b[49m\n\u001b[0;32m    503\u001b[0m \u001b[38;5;28;01melif\u001b[39;00m data_type \u001b[38;5;241m==\u001b[39m mfstructure\u001b[38;5;241m.\u001b[39mDataType\u001b[38;5;241m.\u001b[39mlist_transient:\n",
      "File \u001b[1;32m~\\anaconda3\\envs\\gmdsitut\\Lib\\site-packages\\flopy\\mf6\\data\\mfdatalist.py:88\u001b[0m, in \u001b[0;36mMFList.__init__\u001b[1;34m(self, sim_data, model_or_sim, structure, data, enable, path, dimensions, package, block)\u001b[0m\n\u001b[0;32m     87\u001b[0m type_, value_, traceback_ \u001b[38;5;241m=\u001b[39m sys\u001b[38;5;241m.\u001b[39mexc_info()\n\u001b[1;32m---> 88\u001b[0m \u001b[38;5;28;01mraise\u001b[39;00m MFDataException(\n\u001b[0;32m     89\u001b[0m     structure\u001b[38;5;241m.\u001b[39mget_model(),\n\u001b[0;32m     90\u001b[0m     structure\u001b[38;5;241m.\u001b[39mget_package(),\n\u001b[0;32m     91\u001b[0m     path,\n\u001b[0;32m     92\u001b[0m     \u001b[38;5;124m\"\u001b[39m\u001b[38;5;124msetting data\u001b[39m\u001b[38;5;124m\"\u001b[39m,\n\u001b[0;32m     93\u001b[0m     structure\u001b[38;5;241m.\u001b[39mname,\n\u001b[0;32m     94\u001b[0m     inspect\u001b[38;5;241m.\u001b[39mstack()[\u001b[38;5;241m0\u001b[39m][\u001b[38;5;241m3\u001b[39m],\n\u001b[0;32m     95\u001b[0m     type_,\n\u001b[0;32m     96\u001b[0m     value_,\n\u001b[0;32m     97\u001b[0m     traceback_,\n\u001b[0;32m     98\u001b[0m     \u001b[38;5;28;01mNone\u001b[39;00m,\n\u001b[0;32m     99\u001b[0m     sim_data\u001b[38;5;241m.\u001b[39mdebug,\n\u001b[0;32m    100\u001b[0m     ex,\n\u001b[0;32m    101\u001b[0m )\n",
      "\u001b[1;31mMFDataException\u001b[0m: An error occurred in data element \"budget_filerecord\" model \"gwf6\" package \"oc\". The error occurred while setting data in the \"__init__\" method.\nAdditional Information:\n(1) Unable to open file E:\\15_REPOS\\00_BETAMI\\02_floPy__________________\\02_Pleasant_Lake___________________soso\\00____________________again\\v01_Beta\\../data/botm_000.dat in mode r.  Make sure the file is not locked and the folder exists.",
      "\nDuring handling of the above exception, another exception occurred:\n",
      "\u001b[1;31mMFDataException\u001b[0m                           Traceback (most recent call last)",
      "Cell \u001b[1;32mIn[11], line 1\u001b[0m\n\u001b[1;32m----> 1\u001b[0m oc \u001b[38;5;241m=\u001b[39m \u001b[43mmf6\u001b[49m\u001b[38;5;241;43m.\u001b[39;49m\u001b[43mModflowGwfoc\u001b[49m\u001b[43m(\u001b[49m\u001b[43mgwf\u001b[49m\u001b[43m,\u001b[49m\u001b[43m \u001b[49m\u001b[43mhead_filerecord\u001b[49m\u001b[38;5;241;43m=\u001b[39;49m\u001b[38;5;124;43mf\u001b[39;49m\u001b[38;5;124;43m'\u001b[39;49m\u001b[38;5;132;43;01m{\u001b[39;49;00m\u001b[43mgwf\u001b[49m\u001b[38;5;241;43m.\u001b[39;49m\u001b[43mname\u001b[49m\u001b[38;5;132;43;01m}\u001b[39;49;00m\u001b[38;5;124;43m.hds\u001b[39;49m\u001b[38;5;124;43m'\u001b[39;49m\u001b[43m,\u001b[49m\u001b[43m                                                         \u001b[49m\u001b[38;5;66;43;03m# __.oc  Output  \u001b[39;49;00m\n\u001b[0;32m      2\u001b[0m \u001b[43m    \u001b[49m\u001b[43mbudget_filerecord\u001b[49m\u001b[38;5;241;43m=\u001b[39;49m\u001b[38;5;124;43mf\u001b[39;49m\u001b[38;5;124;43m'\u001b[39;49m\u001b[38;5;132;43;01m{\u001b[39;49;00m\u001b[43mgwf\u001b[49m\u001b[38;5;241;43m.\u001b[39;49m\u001b[43mname\u001b[49m\u001b[38;5;132;43;01m}\u001b[39;49;00m\u001b[38;5;124;43m.cbc\u001b[39;49m\u001b[38;5;124;43m'\u001b[39;49m\u001b[43m,\u001b[49m\n\u001b[0;32m      3\u001b[0m \u001b[43m    \u001b[49m\u001b[43msaverecord\u001b[49m\u001b[38;5;241;43m=\u001b[39;49m\u001b[43m[\u001b[49m\u001b[43m(\u001b[49m\u001b[38;5;124;43m'\u001b[39;49m\u001b[38;5;124;43mhead\u001b[39;49m\u001b[38;5;124;43m'\u001b[39;49m\u001b[43m,\u001b[49m\u001b[43m \u001b[49m\u001b[38;5;124;43m'\u001b[39;49m\u001b[38;5;124;43mall\u001b[39;49m\u001b[38;5;124;43m'\u001b[39;49m\u001b[43m)\u001b[49m\u001b[43m,\u001b[49m\u001b[43m \u001b[49m\u001b[43m(\u001b[49m\u001b[38;5;124;43m\"\u001b[39;49m\u001b[38;5;124;43mbudget\u001b[39;49m\u001b[38;5;124;43m\"\u001b[39;49m\u001b[43m,\u001b[49m\u001b[43m \u001b[49m\u001b[38;5;124;43m\"\u001b[39;49m\u001b[38;5;124;43mall\u001b[39;49m\u001b[38;5;124;43m\"\u001b[39;49m\u001b[43m)\u001b[49m\u001b[43m]\u001b[49m\u001b[43m)\u001b[49m                                             \n",
      "File \u001b[1;32m~\\anaconda3\\envs\\gmdsitut\\Lib\\site-packages\\flopy\\mf6\\modflow\\mfgwfoc.py:418\u001b[0m, in \u001b[0;36mModflowGwfoc.__init__\u001b[1;34m(self, model, loading_package, budget_filerecord, budgetcsv_filerecord, head_filerecord, headprintrecord, saverecord, printrecord, filename, pname, **kwargs)\u001b[0m\n\u001b[0;32m    413\u001b[0m \u001b[38;5;28msuper\u001b[39m()\u001b[38;5;241m.\u001b[39m\u001b[38;5;21m__init__\u001b[39m(\n\u001b[0;32m    414\u001b[0m     model, \u001b[38;5;124m\"\u001b[39m\u001b[38;5;124moc\u001b[39m\u001b[38;5;124m\"\u001b[39m, filename, pname, loading_package, \u001b[38;5;241m*\u001b[39m\u001b[38;5;241m*\u001b[39mkwargs\n\u001b[0;32m    415\u001b[0m )\n\u001b[0;32m    417\u001b[0m \u001b[38;5;66;03m# set up variables\u001b[39;00m\n\u001b[1;32m--> 418\u001b[0m \u001b[38;5;28mself\u001b[39m\u001b[38;5;241m.\u001b[39mbudget_filerecord \u001b[38;5;241m=\u001b[39m \u001b[38;5;28;43mself\u001b[39;49m\u001b[38;5;241;43m.\u001b[39;49m\u001b[43mbuild_mfdata\u001b[49m\u001b[43m(\u001b[49m\n\u001b[0;32m    419\u001b[0m \u001b[43m    \u001b[49m\u001b[38;5;124;43m\"\u001b[39;49m\u001b[38;5;124;43mbudget_filerecord\u001b[39;49m\u001b[38;5;124;43m\"\u001b[39;49m\u001b[43m,\u001b[49m\u001b[43m \u001b[49m\u001b[43mbudget_filerecord\u001b[49m\n\u001b[0;32m    420\u001b[0m \u001b[43m\u001b[49m\u001b[43m)\u001b[49m\n\u001b[0;32m    421\u001b[0m \u001b[38;5;28mself\u001b[39m\u001b[38;5;241m.\u001b[39mbudgetcsv_filerecord \u001b[38;5;241m=\u001b[39m \u001b[38;5;28mself\u001b[39m\u001b[38;5;241m.\u001b[39mbuild_mfdata(\n\u001b[0;32m    422\u001b[0m     \u001b[38;5;124m\"\u001b[39m\u001b[38;5;124mbudgetcsv_filerecord\u001b[39m\u001b[38;5;124m\"\u001b[39m, budgetcsv_filerecord\n\u001b[0;32m    423\u001b[0m )\n\u001b[0;32m    424\u001b[0m \u001b[38;5;28mself\u001b[39m\u001b[38;5;241m.\u001b[39mhead_filerecord \u001b[38;5;241m=\u001b[39m \u001b[38;5;28mself\u001b[39m\u001b[38;5;241m.\u001b[39mbuild_mfdata(\n\u001b[0;32m    425\u001b[0m     \u001b[38;5;124m\"\u001b[39m\u001b[38;5;124mhead_filerecord\u001b[39m\u001b[38;5;124m\"\u001b[39m, head_filerecord\n\u001b[0;32m    426\u001b[0m )\n",
      "File \u001b[1;32m~\\anaconda3\\envs\\gmdsitut\\Lib\\site-packages\\flopy\\mf6\\mfpackage.py:2668\u001b[0m, in \u001b[0;36mMFPackage.build_mfdata\u001b[1;34m(self, var_name, data)\u001b[0m\n\u001b[0;32m   2666\u001b[0m dataset_struct \u001b[38;5;241m=\u001b[39m block\u001b[38;5;241m.\u001b[39mdata_structures[var_name]\n\u001b[0;32m   2667\u001b[0m var_path \u001b[38;5;241m=\u001b[39m \u001b[38;5;28mself\u001b[39m\u001b[38;5;241m.\u001b[39mpath \u001b[38;5;241m+\u001b[39m (key, var_name)\n\u001b[1;32m-> 2668\u001b[0m ds \u001b[38;5;241m=\u001b[39m \u001b[38;5;28;43mself\u001b[39;49m\u001b[38;5;241;43m.\u001b[39;49m\u001b[43mblocks\u001b[49m\u001b[43m[\u001b[49m\u001b[43mblock\u001b[49m\u001b[38;5;241;43m.\u001b[39;49m\u001b[43mname\u001b[49m\u001b[43m]\u001b[49m\u001b[38;5;241;43m.\u001b[39;49m\u001b[43madd_dataset\u001b[49m\u001b[43m(\u001b[49m\n\u001b[0;32m   2669\u001b[0m \u001b[43m    \u001b[49m\u001b[43mdataset_struct\u001b[49m\u001b[43m,\u001b[49m\u001b[43m \u001b[49m\u001b[43mdata\u001b[49m\u001b[43m,\u001b[49m\u001b[43m \u001b[49m\u001b[43mvar_path\u001b[49m\n\u001b[0;32m   2670\u001b[0m \u001b[43m\u001b[49m\u001b[43m)\u001b[49m\n\u001b[0;32m   2671\u001b[0m \u001b[38;5;28mself\u001b[39m\u001b[38;5;241m.\u001b[39m_data_list\u001b[38;5;241m.\u001b[39mappend(ds)\n\u001b[0;32m   2672\u001b[0m \u001b[38;5;28;01mreturn\u001b[39;00m ds\n",
      "File \u001b[1;32m~\\anaconda3\\envs\\gmdsitut\\Lib\\site-packages\\flopy\\mf6\\mfpackage.py:631\u001b[0m, in \u001b[0;36mMFBlock.add_dataset\u001b[1;34m(self, dataset_struct, data, var_path)\u001b[0m\n\u001b[0;32m    620\u001b[0m     \u001b[38;5;28mself\u001b[39m\u001b[38;5;241m.\u001b[39mdatasets[var_path[\u001b[38;5;241m-\u001b[39m\u001b[38;5;241m1\u001b[39m]] \u001b[38;5;241m=\u001b[39m \u001b[38;5;28mself\u001b[39m\u001b[38;5;241m.\u001b[39mdata_factory(\n\u001b[0;32m    621\u001b[0m         \u001b[38;5;28mself\u001b[39m\u001b[38;5;241m.\u001b[39m_simulation_data,\n\u001b[0;32m    622\u001b[0m         \u001b[38;5;28mself\u001b[39m\u001b[38;5;241m.\u001b[39m_model_or_sim,\n\u001b[1;32m   (...)\u001b[0m\n\u001b[0;32m    628\u001b[0m         \u001b[38;5;28mself\u001b[39m\u001b[38;5;241m.\u001b[39m_container_package,\n\u001b[0;32m    629\u001b[0m     )\n\u001b[0;32m    630\u001b[0m \u001b[38;5;28;01mexcept\u001b[39;00m MFDataException \u001b[38;5;28;01mas\u001b[39;00m mfde:\n\u001b[1;32m--> 631\u001b[0m     \u001b[38;5;28;01mraise\u001b[39;00m MFDataException(\n\u001b[0;32m    632\u001b[0m         mfdata_except\u001b[38;5;241m=\u001b[39mmfde,\n\u001b[0;32m    633\u001b[0m         model\u001b[38;5;241m=\u001b[39m\u001b[38;5;28mself\u001b[39m\u001b[38;5;241m.\u001b[39m_container_package\u001b[38;5;241m.\u001b[39mmodel_name,\n\u001b[0;32m    634\u001b[0m         package\u001b[38;5;241m=\u001b[39m\u001b[38;5;28mself\u001b[39m\u001b[38;5;241m.\u001b[39m_container_package\u001b[38;5;241m.\u001b[39m_get_pname(),\n\u001b[0;32m    635\u001b[0m         message\u001b[38;5;241m=\u001b[39m\u001b[38;5;124m\"\u001b[39m\u001b[38;5;124mError occurred while adding\u001b[39m\u001b[38;5;124m\"\u001b[39m\n\u001b[0;32m    636\u001b[0m         \u001b[38;5;124m'\u001b[39m\u001b[38;5;124m dataset \u001b[39m\u001b[38;5;124m\"\u001b[39m\u001b[38;5;132;01m{}\u001b[39;00m\u001b[38;5;124m\"\u001b[39m\u001b[38;5;124m to block \u001b[39m\u001b[38;5;124m'\u001b[39m\n\u001b[0;32m    637\u001b[0m         \u001b[38;5;124m'\u001b[39m\u001b[38;5;124m\"\u001b[39m\u001b[38;5;132;01m{}\u001b[39;00m\u001b[38;5;124m\"\u001b[39m\u001b[38;5;124m'\u001b[39m\u001b[38;5;241m.\u001b[39mformat(dataset_struct\u001b[38;5;241m.\u001b[39mname, \u001b[38;5;28mself\u001b[39m\u001b[38;5;241m.\u001b[39mstructure\u001b[38;5;241m.\u001b[39mname),\n\u001b[0;32m    638\u001b[0m     )\n\u001b[0;32m    640\u001b[0m \u001b[38;5;28mself\u001b[39m\u001b[38;5;241m.\u001b[39m_simulation_data\u001b[38;5;241m.\u001b[39mmfdata[var_path] \u001b[38;5;241m=\u001b[39m \u001b[38;5;28mself\u001b[39m\u001b[38;5;241m.\u001b[39mdatasets[var_path[\u001b[38;5;241m-\u001b[39m\u001b[38;5;241m1\u001b[39m]]\n\u001b[0;32m    641\u001b[0m dtype \u001b[38;5;241m=\u001b[39m dataset_struct\u001b[38;5;241m.\u001b[39mget_datatype()\n",
      "\u001b[1;31mMFDataException\u001b[0m: An error occurred in data element \"budget_filerecord\" model \"B_pleasant\" package \"oc\". The error occurred while setting data in the \"__init__\" method.\nAdditional Information:\n(1) Unable to open file E:\\15_REPOS\\00_BETAMI\\02_floPy__________________\\02_Pleasant_Lake___________________soso\\00____________________again\\v01_Beta\\../data/botm_000.dat in mode r.  Make sure the file is not locked and the folder exists.\n(2) Error occurred while adding dataset \"budget_filerecord\" to block \"options\""
     ]
    }
   ],
   "source": [
    "oc = mf6.ModflowGwfoc(gwf, head_filerecord=f'{gwf.name}.hds',                                                         # __.oc  Output  \n",
    "    budget_filerecord=f'{gwf.name}.cbc',\n",
    "    saverecord=[('head', 'all'), (\"budget\", \"all\")])                                             "
   ]
  },
  {
   "cell_type": "code",
   "execution_count": null,
   "id": "269df003-9ae9-4a10-b3ed-6d629ff4cb68",
   "metadata": {},
   "outputs": [],
   "source": [
    "sim.write_simulation() # __________02"
   ]
  },
  {
   "cell_type": "markdown",
   "id": "d2855a21-cf95-4e8d-9982-7d902f5f3491",
   "metadata": {},
   "source": [
    "# __Aquifer__ __Properties__"
   ]
  },
  {
   "cell_type": "code",
   "execution_count": null,
   "id": "b6995e4b",
   "metadata": {},
   "outputs": [],
   "source": [
    "npf = mf6.ModflowGwfnpf(gwf, icelltype=1, k=k, k33=k33)                      # K"
   ]
  },
  {
   "cell_type": "code",
   "execution_count": null,
   "id": "1a6ae50a",
   "metadata": {},
   "outputs": [],
   "source": [
    "ic = mf6.ModflowGwfic(gwf, strt=strt)                                        # initial conditions "
   ]
  },
  {
   "cell_type": "markdown",
   "id": "de3aedf1-d40c-45b6-9917-f600413232c7",
   "metadata": {},
   "source": [
    "# <font color='green'> __Boundary__ __ Conditions__ </font>"
   ]
  },
  {
   "cell_type": "code",
   "execution_count": null,
   "id": "14e94e72",
   "metadata": {},
   "outputs": [],
   "source": [
    "chd = mf6.ModflowGwfchd(gwf, stress_period_data=spec_head_perimeter)   # ___________ ok\n",
    "rch = mf6.ModflowGwfrcha(gwf, recharge=recharge, irch=irch)"
   ]
  },
  {
   "cell_type": "code",
   "execution_count": null,
   "id": "1f07d270",
   "metadata": {},
   "outputs": [],
   "source": [
    "lak = mf6.ModflowGwflak(gwf, boundnames=True, nlakes=1, connectiondata={'filename': '../data/lake_cn.dat'},\n",
    "    packagedata=[[0, 290.85, 345, 'lake1']],\n",
    "    perioddata={0: [[0, 'evaporation', 0.000715], [0, 'rainfall', 0.00209]]},\n",
    "    surfdep=0.1)"
   ]
  },
  {
   "cell_type": "code",
   "execution_count": null,
   "id": "367b74ec-5a06-4d0a-9913-76eec9e1986c",
   "metadata": {},
   "outputs": [],
   "source": [
    "sim.write_simulation()"
   ]
  },
  {
   "cell_type": "markdown",
   "id": "31d791de-a8e9-4e3d-9535-02eb1f0d0f9c",
   "metadata": {},
   "source": [
    "# <font color='blue'> __Streamflow__ __err__ __!__</font>"
   ]
  },
  {
   "cell_type": "markdown",
   "id": "45f1b5b1",
   "metadata": {},
   "source": [
    "# <font color='blue'> __Add__ __next__ __SFR__ __REPO__ </font>"
   ]
  },
  {
   "cell_type": "code",
   "execution_count": null,
   "id": "1f053a1a",
   "metadata": {},
   "outputs": [],
   "source": [
    "lines = sfrmaker.Lines.from_shapefile(shapefile='../data/edited_flowlines.shp', id_column='id', routing_column='toid',\n",
    "    width1_column='width1', width2_column='width2', name_column='name', attr_length_units='meters')\n",
    "sfrdata = lines.to_sfr(model=gwf, model_length_units='meters')\n",
    "sfrdata.set_streambed_top_elevations_from_dem('../data/dem40m.tif', elevation_units='meters')\n",
    "sfrdata.assign_layers()\n",
    "sfr = sfrdata.create_mf6sfr(gwf)"
   ]
  },
  {
   "cell_type": "code",
   "execution_count": null,
   "id": "03fb00f8",
   "metadata": {},
   "outputs": [],
   "source": [
    "sim.write_simulation()\n",
    "sim.run_simulation() "
   ]
  },
  {
   "cell_type": "markdown",
   "id": "079cd5a6",
   "metadata": {},
   "source": [
    "## Postrocessing : Get_water_table()__Module ____` err_02 `"
   ]
  },
  {
   "cell_type": "code",
   "execution_count": null,
   "id": "55ca4fcf",
   "metadata": {},
   "outputs": [],
   "source": [
    "from flopy.utils.postprocessing import get_water_table"
   ]
  },
  {
   "cell_type": "code",
   "execution_count": null,
   "id": "819940c6",
   "metadata": {},
   "outputs": [],
   "source": [
    "hds = gwf.output.head().get_data()"
   ]
  },
  {
   "cell_type": "code",
   "execution_count": null,
   "id": "cce6523e",
   "metadata": {},
   "outputs": [],
   "source": [
    "wt = get_water_table(hds, nodata=-1e10)"
   ]
  },
  {
   "cell_type": "code",
   "execution_count": null,
   "id": "12d6d77d",
   "metadata": {},
   "outputs": [],
   "source": [
    "cbc = gwf.output.budget()\n",
    "lak = cbc.get_data(text='lak', full3D=True)[0]\n",
    "sfr = cbc.get_data(text='sfr', full3D=True)[0]"
   ]
  },
  {
   "cell_type": "code",
   "execution_count": null,
   "id": "efd1ad1b",
   "metadata": {},
   "outputs": [],
   "source": [
    "fig, ax = plt.subplots(figsize=(6, 6))\n",
    "pmv = flopy.plot.PlotMapView(gwf, ax=ax)\n",
    "ctr = pmv.contour_array(\n",
    "    wt, levels=np.arange(290, 315, 1), \n",
    "    linewidths=1, colors='b')\n",
    "labels = pmv.ax.clabel(\n",
    "    ctr, inline=True, \n",
    "    fontsize=8, inline_spacing=1)\n",
    "vmin, vmax = -100, 100\n",
    "im = pmv.plot_array(\n",
    "    lak[0], cmap='coolwarm', \n",
    "    vmin=vmin, vmax=vmax)\n",
    "im = pmv.plot_array(\n",
    "    sfr.sum(axis=0), cmap='coolwarm', \n",
    "    vmin=vmin, vmax=vmax)\n",
    "cb = fig.colorbar(\n",
    "    im, shrink=0.5, label='Leakage, in m$^3$/day')\n",
    "ax.set_ylabel(\"Northing, WTM meters\")\n",
    "ax.set_xlabel(\"Easting, WTM meters\")\n",
    "ax.set_aspect(1)\n",
    "plt.tight_layout()\n",
    "plt.savefig('results.pdf')"
   ]
  }
 ],
 "metadata": {
  "kernelspec": {
   "display_name": "Python 3 (ipykernel)",
   "language": "python",
   "name": "python3"
  },
  "language_info": {
   "codemirror_mode": {
    "name": "ipython",
    "version": 3
   },
   "file_extension": ".py",
   "mimetype": "text/x-python",
   "name": "python",
   "nbconvert_exporter": "python",
   "pygments_lexer": "ipython3",
   "version": "3.11.11"
  }
 },
 "nbformat": 4,
 "nbformat_minor": 5
}
