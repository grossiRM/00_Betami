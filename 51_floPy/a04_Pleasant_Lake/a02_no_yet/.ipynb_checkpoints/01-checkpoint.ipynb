{
 "cells": [
  {
   "cell_type": "code",
   "execution_count": 6,
   "id": "fdcfc894-6821-4506-a93a-e4c1715fe886",
   "metadata": {},
   "outputs": [],
   "source": [
    "import os\n",
    "from flopy.discretization import StructuredGrid\n",
    "import numpy as np\n",
    "import flopy.mf6 as mf6"
   ]
  },
  {
   "cell_type": "code",
   "execution_count": 7,
   "id": "f91c91d4-3299-4982-972a-57bd4a0a3bfe",
   "metadata": {},
   "outputs": [],
   "source": [
    "# WS = os.mkdir(\"a_folder\") "
   ]
  },
  {
   "cell_type": "code",
   "execution_count": 8,
   "id": "c19a5cdd-3152-4914-b90a-bb7243775df8",
   "metadata": {},
   "outputs": [],
   "source": [
    "model_name = 'B_pleasant'\n",
    "nper, nlay, nrow, ncol,    delr, delc,   xoffset, yoffset, epsg, angrot = 1, 3, 60, 70,    40, 40,    554400, 389200, 3070, 0\n",
    "modelgrid = StructuredGrid(delr=np.ones(ncol) * delr, delc=np.ones(nrow) * delc, xoff=xoffset, yoff=yoffset, angrot=angrot)"
   ]
  },
  {
   "cell_type": "code",
   "execution_count": 9,
   "id": "110e43e0-4a42-4f5f-88f0-62e8da7b1cc4",
   "metadata": {},
   "outputs": [],
   "source": [
    "top = [{'filename': '../data/top.dat'}]          # 04 surfaces, 03 layers\n",
    "botm = [{'filename': '../data/botm_000.dat'},\n",
    "        {'filename': '../data/botm_001.dat'},\n",
    "        {'filename': '../data/botm_002.dat'}]\n",
    "k = [{'filename': '../data/k_000.dat'},          # KH\n",
    "     {'filename': '../data/k_001.dat'},\n",
    "     {'filename': '../data/k_002.dat'}]\n",
    "k33 = [{'filename': '../data/k33_000.dat'},      # KV\n",
    "       {'filename': '../data/k33_001.dat'},\n",
    "       {'filename': '../data/k33_002.dat'}]\n",
    "strt = [top[0]] * nlay                           # Top for starting heads\n",
    "recharge = {\n",
    "    0: {'filename': '../data/rch_000.dat'}}      # RCH    \n",
    "irch = [{'filename': '../data/irch.dat'}]        # iRCH   local\n",
    "spec_head_perimeter = {\n",
    "    0: {'filename': '../data/chd_000.dat'}}      # chd"
   ]
  },
  {
   "cell_type": "code",
   "execution_count": 14,
   "id": "f29f8b05-0031-421b-8411-a83dad166dd9",
   "metadata": {},
   "outputs": [],
   "source": [
    "sim   = mf6.MFSimulation   (sim_name=model_name, version=\"mf6\", exe_name=\"mf6\")           # ,sim_ws = \"WS\"\n",
    "tdis  = mf6.ModflowTdis    (sim, time_units=\"days\", nper=1, perioddata=[(1.0, 1, 1.0)])               \n",
    "ims   = mf6.ModflowIms     (sim, complexity=\"moderate\", outer_dvclose=0.001)                       \n",
    "gwf   = mf6.ModflowGwf     (sim, modelname=model_name, save_flows=True)         \n",
    "oc    = mf6.ModflowGwfoc   (gwf, head_filerecord=f'{gwf.name}.hds', budget_filerecord=f'{gwf.name}.cbc',saverecord=[('head', 'all'), (\"budget\", \"all\")])                                             \n",
    "dis   = mf6.ModflowGwfdis  (gwf, nlay=nlay, nrow=nrow, ncol=ncol, delr=delr, delc=delc, top=top, botm=botm, idomain=1)   \n",
    "npf   = mf6.ModflowGwfnpf  (gwf, icelltype=1, k=k, k33=k33)                      \n",
    "ic    = mf6.ModflowGwfic   (gwf, strt=strt)        \n",
    "rch   = mf6.ModflowGwfrcha (gwf, recharge=recharge, irch=irch)\n",
    "chd   = mf6.ModflowGwfchd  (gwf, stress_period_data=spec_head_perimeter)    \n",
    "lak   = mf6.ModflowGwflak  (gwf, boundnames=True, nlakes=1, connectiondata={'filename': '../data/lake_cn.dat'},\n",
    "    packagedata=[[0, 290.85, 345, 'lake1']],perioddata={0: [[0, 'evaporation', 0.000715], [0, 'rainfall', 0.00209]]},surfdep=0.1)\n",
    "gwf.modelgrid.set_coord_info(xoff=xoffset, yoff=yoffset, crs=epsg)"
   ]
  },
  {
   "cell_type": "code",
   "execution_count": 15,
   "id": "74036662-bccf-4dbd-9040-2541002dbd0d",
   "metadata": {},
   "outputs": [
    {
     "name": "stdout",
     "output_type": "stream",
     "text": [
      "writing simulation...\n",
      "  writing simulation name file...\n",
      "  writing simulation tdis package...\n",
      "  writing solution package ims_-1...\n",
      "  writing model B_pleasant...\n",
      "    writing model name file...\n",
      "    writing package oc...\n",
      "    writing package dis...\n",
      "    writing package npf...\n",
      "    writing package ic...\n",
      "    writing package rcha_0...\n",
      "    writing package chd_0...\n",
      "Pandas warning occurred while loading data ('B_pleasant', 'chd', 'period', 'stress_period_data'):\n",
      "    Data File: \"E:\\15_REPOS\\00_BETAMI\\02_floPy__________________\\04a_Pleasant_Lake\\00_______________\\../data/chd_000.dat:\"\n",
      "    Pandas Message: \"Length of header or names does not match length of data. This leads to a loss of data with index_col=False.\"\n",
      "INFORMATION: maxbound in ('gwf6', 'chd', 'dimensions') changed to 572 based on size of stress_period_data\n",
      "    writing package lak_0...\n"
     ]
    }
   ],
   "source": [
    "sim.write_simulation()"
   ]
  },
  {
   "cell_type": "code",
   "execution_count": null,
   "id": "94c941f0-1af8-47bd-b5f8-ab0242b0c011",
   "metadata": {},
   "outputs": [],
   "source": []
  }
 ],
 "metadata": {
  "kernelspec": {
   "display_name": "Python 3 (ipykernel)",
   "language": "python",
   "name": "python3"
  },
  "language_info": {
   "codemirror_mode": {
    "name": "ipython",
    "version": 3
   },
   "file_extension": ".py",
   "mimetype": "text/x-python",
   "name": "python",
   "nbconvert_exporter": "python",
   "pygments_lexer": "ipython3",
   "version": "3.11.11"
  }
 },
 "nbformat": 4,
 "nbformat_minor": 5
}
