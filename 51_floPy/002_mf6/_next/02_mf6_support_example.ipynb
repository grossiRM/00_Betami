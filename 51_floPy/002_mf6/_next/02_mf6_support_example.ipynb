{
 "cells": [
  {
   "cell_type": "markdown",
   "id": "66824622-9335-4b0f-8be5-a1033199eeeb",
   "metadata": {},
   "source": [
    "# 02_mf6_support_example  `                ` __.__ __.__ __.__"
   ]
  },
  {
   "cell_type": "code",
   "execution_count": 1,
   "id": "5e847bc6-36b5-426c-a634-8a0090aaab9e",
   "metadata": {},
   "outputs": [],
   "source": [
    "import os\n",
    "from pathlib import Path\n",
    "from shutil import copyfile\n",
    "from tempfile import TemporaryDirectory\n",
    "\n",
    "# import git\n",
    "import pooch\n",
    "import flopy"
   ]
  },
  {
   "cell_type": "code",
   "execution_count": 2,
   "id": "bffa0321-da19-44c1-b6dc-56cd6592bd40",
   "metadata": {},
   "outputs": [],
   "source": [
    "proj_root = Path.cwd().parent.parent"
   ]
  },
  {
   "cell_type": "code",
   "execution_count": 3,
   "id": "0ae734cf-6b20-49fe-b269-cb42ddb5d986",
   "metadata": {},
   "outputs": [],
   "source": [
    "try:\n",
    "    root = Path(git.Repo(\".\", search_parent_directories=True).working_dir)\n",
    "except:\n",
    "    root = None\n",
    "data_path = root / \"examples\" / \"data\" if root else Path.cwd()"
   ]
  },
  {
   "cell_type": "code",
   "execution_count": 4,
   "id": "fe5df486-ce18-4d77-b9b1-ed5358b5acf8",
   "metadata": {},
   "outputs": [],
   "source": [
    "temp_dir = TemporaryDirectory()\n",
    "sim_name = \"example_sim\"\n",
    "sim_path = Path(temp_dir.name) / \"example_project\"                                                     # New\n",
    "sim = flopy.mf6.MFSimulation(sim_name=sim_name, version=\"mf6\", exe_name=\"mf6\", sim_ws=sim_path)"
   ]
  },
  {
   "cell_type": "code",
   "execution_count": 5,
   "id": "74150b3e-b7c0-417e-b583-b4defa032e51",
   "metadata": {},
   "outputs": [],
   "source": [
    "tdis = flopy.mf6.ModflowTdis(sim, pname=\"tdis\", time_units=\"DAYS\", \n",
    "                             nper=2, perioddata=[(1.0, 1, 1.0), (10.0, 5, 1.0)],)"
   ]
  },
  {
   "cell_type": "code",
   "execution_count": 6,
   "id": "90b73748-d71c-4645-b08d-ff804b1b9264",
   "metadata": {},
   "outputs": [],
   "source": [
    "model_name = \"example_model\"\n",
    "model = flopy.mf6.ModflowGwf(sim, modelname=model_name, model_nam_file=f\"{model_name}.nam\")"
   ]
  },
  {
   "cell_type": "code",
   "execution_count": 7,
   "id": "0c278af2-ef20-4557-88c5-f28a5198d783",
   "metadata": {},
   "outputs": [],
   "source": [
    "ims_package = flopy.mf6.ModflowIms(sim, pname=\"ims\", print_option=\"ALL\", complexity=\"SIMPLE\",\n",
    "    outer_dvclose=0.00001, outer_maximum=50, under_relaxation=\"NONE\", inner_maximum=30, inner_dvclose=0.00001,\n",
    "    linear_acceleration=\"CG\", preconditioner_levels=7, preconditioner_drop_tolerance=0.01, number_orthogonalizations=2,)"
   ]
  },
  {
   "cell_type": "code",
   "execution_count": null,
   "id": "f80b0108-ccae-4c16-8eb4-94f829dc47f3",
   "metadata": {},
   "outputs": [],
   "source": [
    "sim.register_ims_package(ims_package, [model_name])"
   ]
  },
  {
   "cell_type": "markdown",
   "id": "a356e72f-86d2-4071-b393-12fdf0c88e77",
   "metadata": {},
   "source": [
    "#### - DIS (`ModflowGwfDis`): Structured -  DISV (`ModflowGwfdisv`): vertices - DISU (`ModflowGwfdisu`): Unstructured "
   ]
  },
  {
   "cell_type": "code",
   "execution_count": 8,
   "id": "46134bb2-3ddb-4292-aad7-afe8164d7f37",
   "metadata": {},
   "outputs": [],
   "source": [
    "dis_package = flopy.mf6.ModflowGwfdis(model, pname=\"dis\", length_units=\"FEET\",\n",
    "    nlay=2, nrow=2, ncol=5, delr=500.0, delc=500.0, top=100.0, botm=[50.0, 20.0], filename=f\"{model_name}.dis\",)"
   ]
  },
  {
   "cell_type": "code",
   "execution_count": 9,
   "id": "04706ae3-19bb-4c7f-84b5-adca009b89a7",
   "metadata": {},
   "outputs": [
    {
     "name": "stdout",
     "output_type": "stream",
     "text": [
      "writing simulation...\n",
      "  writing simulation name file...\n",
      "  writing simulation tdis package...\n",
      "  writing solution package ims...\n",
      "  writing model example_model...\n",
      "    writing model name file...\n",
      "    writing package dis...\n"
     ]
    }
   ],
   "source": [
    "sim.write_simulation()"
   ]
  },
  {
   "cell_type": "markdown",
   "id": "13135758-4abf-44e9-8e2a-7d86312bad55",
   "metadata": {},
   "source": [
    " # __.__ __.__ __.__"
   ]
  },
  {
   "cell_type": "code",
   "execution_count": null,
   "id": "d302559b-2237-43f0-8acd-67a282a2e7f8",
   "metadata": {},
   "outputs": [],
   "source": []
  }
 ],
 "metadata": {
  "kernelspec": {
   "display_name": "Python 3 (ipykernel)",
   "language": "python",
   "name": "python3"
  },
  "language_info": {
   "codemirror_mode": {
    "name": "ipython",
    "version": 3
   },
   "file_extension": ".py",
   "mimetype": "text/x-python",
   "name": "python",
   "nbconvert_exporter": "python",
   "pygments_lexer": "ipython3",
   "version": "3.11.11"
  }
 },
 "nbformat": 4,
 "nbformat_minor": 5
}
