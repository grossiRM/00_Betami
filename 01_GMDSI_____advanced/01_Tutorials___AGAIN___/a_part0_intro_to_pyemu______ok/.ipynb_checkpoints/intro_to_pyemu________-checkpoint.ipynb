{
 "cells": [
  {
   "cell_type": "code",
   "execution_count": 2,
   "metadata": {},
   "outputs": [],
   "source": [
    "import os\n",
    "import warnings\n",
    "warnings.filterwarnings(\"ignore\")\n",
    "warnings.filterwarnings(\"ignore\", category=DeprecationWarning) \n",
    "import matplotlib.pyplot as plt\n",
    "import numpy as np\n",
    "\n",
    "import sys\n",
    "# sys.path.append(os.path.join(\"..\", \"..\", \"dependencies\"))\n",
    "import pyemu"
   ]
  },
  {
   "cell_type": "code",
   "execution_count": 4,
   "metadata": {},
   "outputs": [],
   "source": [
    "# the pest folder\n",
    "f_d = os.path.join('handling_files')"
   ]
  },
  {
   "cell_type": "code",
   "execution_count": 5,
   "metadata": {},
   "outputs": [],
   "source": [
    "pst = pyemu.Pst(os.path.join(f_d,\"freyberg_pp.pst\"))"
   ]
  },
  {
   "cell_type": "markdown",
   "metadata": {},
   "source": [
    "## Then, play ..."
   ]
  },
  {
   "cell_type": "code",
   "execution_count": 26,
   "metadata": {},
   "outputs": [
    {
     "data": {
      "text/html": [
       "<div>\n",
       "<style scoped>\n",
       "    .dataframe tbody tr th:only-of-type {\n",
       "        vertical-align: middle;\n",
       "    }\n",
       "\n",
       "    .dataframe tbody tr th {\n",
       "        vertical-align: top;\n",
       "    }\n",
       "\n",
       "    .dataframe thead th {\n",
       "        text-align: right;\n",
       "    }\n",
       "</style>\n",
       "<table border=\"1\" class=\"dataframe\">\n",
       "  <thead>\n",
       "    <tr style=\"text-align: right;\">\n",
       "      <th></th>\n",
       "      <th>pilbl</th>\n",
       "      <th>equation</th>\n",
       "      <th>weight</th>\n",
       "      <th>obgnme</th>\n",
       "      <th>extra</th>\n",
       "    </tr>\n",
       "    <tr>\n",
       "      <th>pilbl</th>\n",
       "      <th></th>\n",
       "      <th></th>\n",
       "      <th></th>\n",
       "      <th></th>\n",
       "      <th></th>\n",
       "    </tr>\n",
       "  </thead>\n",
       "  <tbody>\n",
       "    <tr>\n",
       "      <th>rch_0</th>\n",
       "      <td>rch_0</td>\n",
       "      <td>1.0 * log(rch_0) = 0.000000E+00</td>\n",
       "      <td>1.660964</td>\n",
       "      <td>regulrch</td>\n",
       "      <td>NaN</td>\n",
       "    </tr>\n",
       "    <tr>\n",
       "      <th>rch_1</th>\n",
       "      <td>rch_1</td>\n",
       "      <td>1.0 * log(rch_1) = 0.000000E+00</td>\n",
       "      <td>0.926628</td>\n",
       "      <td>regulrch</td>\n",
       "      <td>NaN</td>\n",
       "    </tr>\n",
       "    <tr>\n",
       "      <th>w0_r09_c16</th>\n",
       "      <td>w0_r09_c16</td>\n",
       "      <td>1.0 * log(w0_r09_c16) = 0.000000E+00</td>\n",
       "      <td>1.660964</td>\n",
       "      <td>regulw0</td>\n",
       "      <td>NaN</td>\n",
       "    </tr>\n",
       "    <tr>\n",
       "      <th>w0_r11_c13</th>\n",
       "      <td>w0_r11_c13</td>\n",
       "      <td>1.0 * log(w0_r11_c13) = 0.000000E+00</td>\n",
       "      <td>1.660964</td>\n",
       "      <td>regulw0</td>\n",
       "      <td>NaN</td>\n",
       "    </tr>\n",
       "    <tr>\n",
       "      <th>w0_r20_c14</th>\n",
       "      <td>w0_r20_c14</td>\n",
       "      <td>1.0 * log(w0_r20_c14) = 0.000000E+00</td>\n",
       "      <td>1.660964</td>\n",
       "      <td>regulw0</td>\n",
       "      <td>NaN</td>\n",
       "    </tr>\n",
       "  </tbody>\n",
       "</table>\n",
       "</div>"
      ],
      "text/plain": [
       "                 pilbl                              equation    weight  \\\n",
       "pilbl                                                                    \n",
       "rch_0            rch_0       1.0 * log(rch_0) = 0.000000E+00  1.660964   \n",
       "rch_1            rch_1       1.0 * log(rch_1) = 0.000000E+00  0.926628   \n",
       "w0_r09_c16  w0_r09_c16  1.0 * log(w0_r09_c16) = 0.000000E+00  1.660964   \n",
       "w0_r11_c13  w0_r11_c13  1.0 * log(w0_r11_c13) = 0.000000E+00  1.660964   \n",
       "w0_r20_c14  w0_r20_c14  1.0 * log(w0_r20_c14) = 0.000000E+00  1.660964   \n",
       "\n",
       "              obgnme  extra  \n",
       "pilbl                        \n",
       "rch_0       regulrch    NaN  \n",
       "rch_1       regulrch    NaN  \n",
       "w0_r09_c16   regulw0    NaN  \n",
       "w0_r11_c13   regulw0    NaN  \n",
       "w0_r20_c14   regulw0    NaN  "
      ]
     },
     "execution_count": 26,
     "metadata": {},
     "output_type": "execute_result"
    }
   ],
   "source": [
    "# * control data\n",
    "                 # pst.control_data.noptmax = 0        # pst.control_data.formatted_values       # edit / visualize \n",
    "# * singular value decomposition            \n",
    "# pst.parameter_data.tail()         # ______________ \n",
    "# pst.parameter_groups.head()       # ______________ \n",
    "# * observation groups head() \n",
    "# pst.observation_data.head()       # ______________ \n",
    "# * model command line\n",
    "pst.prior_information.head()      # ______________ \n",
    "# * regularization                                                           # https://help.pesthomepage.org/pestpp-ies.html\n",
    "# ++ options \n",
    "     # pst.pestpp_options['ies_parameter_ensemble'] = 'dummy_ies_par_ensemble.csv'    # the flagship of the PEST++ suite (!)\n",
    "     # pst.pestpp_options['ies_num_reals'] = 50                                       # number of realizations\n",
    "     # pst.pestpp_options[\"lambdas\"] = [0.1, 1, 10, 100, 1000]                        # calculation of parameter upgrades\n",
    "     # pst.pestpp_options['da_use_simulated_states'] = True                           # end of each cycle to the next \n",
    "# pst.pestpp_options"
   ]
  },
  {
   "cell_type": "code",
   "execution_count": 23,
   "metadata": {},
   "outputs": [],
   "source": [
    "# pst.parameter_data.columns     # See parval1"
   ]
  },
  {
   "cell_type": "code",
   "execution_count": 31,
   "metadata": {},
   "outputs": [
    {
     "data": {
      "text/html": [
       "<div>\n",
       "<style scoped>\n",
       "    .dataframe tbody tr th:only-of-type {\n",
       "        vertical-align: middle;\n",
       "    }\n",
       "\n",
       "    .dataframe tbody tr th {\n",
       "        vertical-align: top;\n",
       "    }\n",
       "\n",
       "    .dataframe thead th {\n",
       "        text-align: right;\n",
       "    }\n",
       "</style>\n",
       "<table border=\"1\" class=\"dataframe\">\n",
       "  <thead>\n",
       "    <tr style=\"text-align: right;\">\n",
       "      <th></th>\n",
       "      <th>parnme</th>\n",
       "      <th>partrans</th>\n",
       "      <th>parchglim</th>\n",
       "      <th>parval1</th>\n",
       "      <th>parlbnd</th>\n",
       "      <th>parubnd</th>\n",
       "      <th>pargp</th>\n",
       "      <th>scale</th>\n",
       "      <th>offset</th>\n",
       "      <th>dercom</th>\n",
       "      <th>extra</th>\n",
       "    </tr>\n",
       "    <tr>\n",
       "      <th>parnme</th>\n",
       "      <th></th>\n",
       "      <th></th>\n",
       "      <th></th>\n",
       "      <th></th>\n",
       "      <th></th>\n",
       "      <th></th>\n",
       "      <th></th>\n",
       "      <th></th>\n",
       "      <th></th>\n",
       "      <th></th>\n",
       "      <th></th>\n",
       "    </tr>\n",
       "  </thead>\n",
       "  <tbody>\n",
       "    <tr>\n",
       "      <th>hk00</th>\n",
       "      <td>hk00</td>\n",
       "      <td>log</td>\n",
       "      <td>factor</td>\n",
       "      <td>1.1</td>\n",
       "      <td>0.5</td>\n",
       "      <td>50.0</td>\n",
       "      <td>hk</td>\n",
       "      <td>1.0</td>\n",
       "      <td>0.0</td>\n",
       "      <td>1</td>\n",
       "      <td>NaN</td>\n",
       "    </tr>\n",
       "  </tbody>\n",
       "</table>\n",
       "</div>"
      ],
      "text/plain": [
       "       parnme partrans parchglim  parval1  parlbnd  parubnd pargp  scale  \\\n",
       "parnme                                                                     \n",
       "hk00     hk00      log    factor      1.1      0.5     50.0    hk    1.0   \n",
       "\n",
       "        offset dercom  extra  \n",
       "parnme                        \n",
       "hk00       0.0      1    NaN  "
      ]
     },
     "execution_count": 31,
     "metadata": {},
     "output_type": "execute_result"
    }
   ],
   "source": [
    "pst.parameter_data.iloc[:1,:] "
   ]
  },
  {
   "cell_type": "code",
   "execution_count": 42,
   "metadata": {},
   "outputs": [
    {
     "data": {
      "text/html": [
       "<div>\n",
       "<style scoped>\n",
       "    .dataframe tbody tr th:only-of-type {\n",
       "        vertical-align: middle;\n",
       "    }\n",
       "\n",
       "    .dataframe tbody tr th {\n",
       "        vertical-align: top;\n",
       "    }\n",
       "\n",
       "    .dataframe thead th {\n",
       "        text-align: right;\n",
       "    }\n",
       "</style>\n",
       "<table border=\"1\" class=\"dataframe\">\n",
       "  <thead>\n",
       "    <tr style=\"text-align: right;\">\n",
       "      <th></th>\n",
       "      <th>parnme</th>\n",
       "      <th>partrans</th>\n",
       "      <th>parchglim</th>\n",
       "      <th>parval1</th>\n",
       "      <th>parlbnd</th>\n",
       "      <th>parubnd</th>\n",
       "      <th>pargp</th>\n",
       "      <th>scale</th>\n",
       "      <th>offset</th>\n",
       "      <th>dercom</th>\n",
       "      <th>extra</th>\n",
       "    </tr>\n",
       "    <tr>\n",
       "      <th>parnme</th>\n",
       "      <th></th>\n",
       "      <th></th>\n",
       "      <th></th>\n",
       "      <th></th>\n",
       "      <th></th>\n",
       "      <th></th>\n",
       "      <th></th>\n",
       "      <th></th>\n",
       "      <th></th>\n",
       "      <th></th>\n",
       "      <th></th>\n",
       "    </tr>\n",
       "  </thead>\n",
       "  <tbody>\n",
       "    <tr>\n",
       "      <th>w1_r11_c13</th>\n",
       "      <td>w1_r11_c13</td>\n",
       "      <td>log</td>\n",
       "      <td>factor</td>\n",
       "      <td>99999</td>\n",
       "      <td>0.1</td>\n",
       "      <td>10.0</td>\n",
       "      <td>w1</td>\n",
       "      <td>1.0</td>\n",
       "      <td>0.0</td>\n",
       "      <td>1</td>\n",
       "      <td>NaN</td>\n",
       "    </tr>\n",
       "    <tr>\n",
       "      <th>w1_r20_c14</th>\n",
       "      <td>w1_r20_c14</td>\n",
       "      <td>log</td>\n",
       "      <td>factor</td>\n",
       "      <td>99999</td>\n",
       "      <td>0.1</td>\n",
       "      <td>10.0</td>\n",
       "      <td>w1</td>\n",
       "      <td>1.0</td>\n",
       "      <td>0.0</td>\n",
       "      <td>1</td>\n",
       "      <td>NaN</td>\n",
       "    </tr>\n",
       "    <tr>\n",
       "      <th>w1_r26_c10</th>\n",
       "      <td>w1_r26_c10</td>\n",
       "      <td>log</td>\n",
       "      <td>factor</td>\n",
       "      <td>99999</td>\n",
       "      <td>0.1</td>\n",
       "      <td>10.0</td>\n",
       "      <td>w1</td>\n",
       "      <td>1.0</td>\n",
       "      <td>0.0</td>\n",
       "      <td>1</td>\n",
       "      <td>NaN</td>\n",
       "    </tr>\n",
       "    <tr>\n",
       "      <th>w1_r29_c06</th>\n",
       "      <td>w1_r29_c06</td>\n",
       "      <td>log</td>\n",
       "      <td>factor</td>\n",
       "      <td>99999</td>\n",
       "      <td>0.1</td>\n",
       "      <td>10.0</td>\n",
       "      <td>w1</td>\n",
       "      <td>1.0</td>\n",
       "      <td>0.0</td>\n",
       "      <td>1</td>\n",
       "      <td>NaN</td>\n",
       "    </tr>\n",
       "    <tr>\n",
       "      <th>w1_r34_c12</th>\n",
       "      <td>w1_r34_c12</td>\n",
       "      <td>log</td>\n",
       "      <td>factor</td>\n",
       "      <td>99999</td>\n",
       "      <td>0.1</td>\n",
       "      <td>10.0</td>\n",
       "      <td>w1</td>\n",
       "      <td>1.0</td>\n",
       "      <td>0.0</td>\n",
       "      <td>1</td>\n",
       "      <td>NaN</td>\n",
       "    </tr>\n",
       "  </tbody>\n",
       "</table>\n",
       "</div>"
      ],
      "text/plain": [
       "                parnme partrans parchglim  parval1  parlbnd  parubnd pargp  \\\n",
       "parnme                                                                       \n",
       "w1_r11_c13  w1_r11_c13      log    factor    99999      0.1     10.0    w1   \n",
       "w1_r20_c14  w1_r20_c14      log    factor    99999      0.1     10.0    w1   \n",
       "w1_r26_c10  w1_r26_c10      log    factor    99999      0.1     10.0    w1   \n",
       "w1_r29_c06  w1_r29_c06      log    factor    99999      0.1     10.0    w1   \n",
       "w1_r34_c12  w1_r34_c12      log    factor    99999      0.1     10.0    w1   \n",
       "\n",
       "            scale  offset dercom  extra  \n",
       "parnme                                   \n",
       "w1_r11_c13    1.0     0.0      1    NaN  \n",
       "w1_r20_c14    1.0     0.0      1    NaN  \n",
       "w1_r26_c10    1.0     0.0      1    NaN  \n",
       "w1_r29_c06    1.0     0.0      1    NaN  \n",
       "w1_r34_c12    1.0     0.0      1    NaN  "
      ]
     },
     "execution_count": 42,
     "metadata": {},
     "output_type": "execute_result"
    }
   ],
   "source": [
    "#assigning values to all parameter intial values\n",
    "pst.parameter_data['parval1'] = 99999\n",
    "pst.parameter_data.tail()         # ______________ "
   ]
  },
  {
   "cell_type": "code",
   "execution_count": 41,
   "metadata": {},
   "outputs": [
    {
     "name": "stdout",
     "output_type": "stream",
     "text": [
      "noptmax:6, npar_adj:48, nnz_obs:14\n"
     ]
    }
   ],
   "source": [
    "# pst.write(os.path.join(f_d, 'temp.pst'), version=1)         # PEST and PEST_HP\n",
    "pst.write(os.path.join(f_d, \"temp_v2.pst\"), version=2)        # PEST++\n",
    "# [f for f in os.listdir(f_d) if f.endswith('.pst')]"
   ]
  },
  {
   "cell_type": "code",
   "execution_count": 42,
   "metadata": {},
   "outputs": [],
   "source": [
    "tpl_filename = os.path.join(f_d,\"special_pars.dat.tpl\")           # ... and special_pars.dat\n",
    "with open(tpl_filename,'w') as f:\n",
    "    f.write(\"ptf ~\\n\")\n",
    "    f.write(\"special_par1  ~  special_par1   ~\\n\")\n",
    "    f.write(\"special_par2  ~  special_par2   ~\\n\")\n",
    "    # f.write(\"Beta_01_____  ~  Beta_nono_____   ~\\n\")"
   ]
  },
  {
   "cell_type": "code",
   "execution_count": 43,
   "metadata": {},
   "outputs": [
    {
     "name": "stdout",
     "output_type": "stream",
     "text": [
      "2 pars added from template file .\\special_pars.dat.tpl\n"
     ]
    },
    {
     "data": {
      "text/html": [
       "<div>\n",
       "<style scoped>\n",
       "    .dataframe tbody tr th:only-of-type {\n",
       "        vertical-align: middle;\n",
       "    }\n",
       "\n",
       "    .dataframe tbody tr th {\n",
       "        vertical-align: top;\n",
       "    }\n",
       "\n",
       "    .dataframe thead th {\n",
       "        text-align: right;\n",
       "    }\n",
       "</style>\n",
       "<table border=\"1\" class=\"dataframe\">\n",
       "  <thead>\n",
       "    <tr style=\"text-align: right;\">\n",
       "      <th></th>\n",
       "      <th>parnme</th>\n",
       "      <th>partrans</th>\n",
       "      <th>parchglim</th>\n",
       "      <th>parval1</th>\n",
       "      <th>parlbnd</th>\n",
       "      <th>parubnd</th>\n",
       "      <th>pargp</th>\n",
       "      <th>scale</th>\n",
       "      <th>offset</th>\n",
       "      <th>dercom</th>\n",
       "    </tr>\n",
       "  </thead>\n",
       "  <tbody>\n",
       "    <tr>\n",
       "      <th>special_par2</th>\n",
       "      <td>special_par2</td>\n",
       "      <td>log</td>\n",
       "      <td>factor</td>\n",
       "      <td>1.0</td>\n",
       "      <td>1.100000e-10</td>\n",
       "      <td>1.100000e+10</td>\n",
       "      <td>pargp</td>\n",
       "      <td>1.0</td>\n",
       "      <td>0.0</td>\n",
       "      <td>1</td>\n",
       "    </tr>\n",
       "    <tr>\n",
       "      <th>special_par1</th>\n",
       "      <td>special_par1</td>\n",
       "      <td>log</td>\n",
       "      <td>factor</td>\n",
       "      <td>1.0</td>\n",
       "      <td>1.100000e-10</td>\n",
       "      <td>1.100000e+10</td>\n",
       "      <td>pargp</td>\n",
       "      <td>1.0</td>\n",
       "      <td>0.0</td>\n",
       "      <td>1</td>\n",
       "    </tr>\n",
       "  </tbody>\n",
       "</table>\n",
       "</div>"
      ],
      "text/plain": [
       "                    parnme partrans parchglim  parval1       parlbnd  \\\n",
       "special_par2  special_par2      log    factor      1.0  1.100000e-10   \n",
       "special_par1  special_par1      log    factor      1.0  1.100000e-10   \n",
       "\n",
       "                   parubnd  pargp  scale  offset  dercom  \n",
       "special_par2  1.100000e+10  pargp    1.0     0.0       1  \n",
       "special_par1  1.100000e+10  pargp    1.0     0.0       1  "
      ]
     },
     "execution_count": 43,
     "metadata": {},
     "output_type": "execute_result"
    }
   ],
   "source": [
    "pst.add_parameters(tpl_filename, pst_path=\".\")                    # to *.pst ? "
   ]
  },
  {
   "cell_type": "code",
   "execution_count": 44,
   "metadata": {},
   "outputs": [
    {
     "data": {
      "text/html": [
       "<div>\n",
       "<style scoped>\n",
       "    .dataframe tbody tr th:only-of-type {\n",
       "        vertical-align: middle;\n",
       "    }\n",
       "\n",
       "    .dataframe tbody tr th {\n",
       "        vertical-align: top;\n",
       "    }\n",
       "\n",
       "    .dataframe thead th {\n",
       "        text-align: right;\n",
       "    }\n",
       "</style>\n",
       "<table border=\"1\" class=\"dataframe\">\n",
       "  <thead>\n",
       "    <tr style=\"text-align: right;\">\n",
       "      <th></th>\n",
       "      <th>parnme</th>\n",
       "      <th>partrans</th>\n",
       "      <th>parchglim</th>\n",
       "      <th>parval1</th>\n",
       "      <th>parlbnd</th>\n",
       "      <th>parubnd</th>\n",
       "      <th>pargp</th>\n",
       "      <th>scale</th>\n",
       "      <th>offset</th>\n",
       "      <th>dercom</th>\n",
       "      <th>extra</th>\n",
       "    </tr>\n",
       "  </thead>\n",
       "  <tbody>\n",
       "    <tr>\n",
       "      <th>special_par2</th>\n",
       "      <td>special_par2</td>\n",
       "      <td>log</td>\n",
       "      <td>factor</td>\n",
       "      <td>1.0</td>\n",
       "      <td>999999999.0</td>\n",
       "      <td>-30000.0</td>\n",
       "      <td>pargp</td>\n",
       "      <td>1.0</td>\n",
       "      <td>0.0</td>\n",
       "      <td>1</td>\n",
       "      <td>NaN</td>\n",
       "    </tr>\n",
       "    <tr>\n",
       "      <th>special_par1</th>\n",
       "      <td>special_par1</td>\n",
       "      <td>log</td>\n",
       "      <td>factor</td>\n",
       "      <td>1.0</td>\n",
       "      <td>999999999.0</td>\n",
       "      <td>-30000.0</td>\n",
       "      <td>pargp</td>\n",
       "      <td>1.0</td>\n",
       "      <td>0.0</td>\n",
       "      <td>1</td>\n",
       "      <td>NaN</td>\n",
       "    </tr>\n",
       "  </tbody>\n",
       "</table>\n",
       "</div>"
      ],
      "text/plain": [
       "                    parnme partrans parchglim  parval1      parlbnd  parubnd  \\\n",
       "special_par2  special_par2      log    factor      1.0  999999999.0 -30000.0   \n",
       "special_par1  special_par1      log    factor      1.0  999999999.0 -30000.0   \n",
       "\n",
       "              pargp  scale  offset dercom  extra  \n",
       "special_par2  pargp    1.0     0.0      1    NaN  \n",
       "special_par1  pargp    1.0     0.0      1    NaN  "
      ]
     },
     "execution_count": 44,
     "metadata": {},
     "output_type": "execute_result"
    }
   ],
   "source": [
    "par = pst.parameter_data\n",
    "par.loc[par['pargp'] == 'pargp', ['parlbnd', 'parubnd']] = 999999999, -30000            # Beta___persists (!)\n",
    "par.loc[par['pargp'] == 'pargp']"
   ]
  },
  {
   "cell_type": "code",
   "execution_count": 45,
   "metadata": {},
   "outputs": [
    {
     "data": {
      "text/html": [
       "<div>\n",
       "<style scoped>\n",
       "    .dataframe tbody tr th:only-of-type {\n",
       "        vertical-align: middle;\n",
       "    }\n",
       "\n",
       "    .dataframe tbody tr th {\n",
       "        vertical-align: top;\n",
       "    }\n",
       "\n",
       "    .dataframe thead th {\n",
       "        text-align: right;\n",
       "    }\n",
       "</style>\n",
       "<table border=\"1\" class=\"dataframe\">\n",
       "  <thead>\n",
       "    <tr style=\"text-align: right;\">\n",
       "      <th></th>\n",
       "      <th>partrans</th>\n",
       "      <th>partied</th>\n",
       "    </tr>\n",
       "  </thead>\n",
       "  <tbody>\n",
       "    <tr>\n",
       "      <th>special_par2</th>\n",
       "      <td>tied</td>\n",
       "      <td>special_par1</td>\n",
       "    </tr>\n",
       "    <tr>\n",
       "      <th>special_par1</th>\n",
       "      <td>log</td>\n",
       "      <td>NaN</td>\n",
       "    </tr>\n",
       "  </tbody>\n",
       "</table>\n",
       "</div>"
      ],
      "text/plain": [
       "             partrans       partied\n",
       "special_par2     tied  special_par1\n",
       "special_par1      log           NaN"
      ]
     },
     "execution_count": 45,
     "metadata": {},
     "output_type": "execute_result"
    }
   ],
   "source": [
    "par.loc['special_par2', 'partrans'] = 'tied'                \n",
    "par.loc['special_par2', 'partied'] = 'special_par1'         # New column named and tied parameter \n",
    "par.loc[par['pargp'] == 'pargp', ['partrans', 'partied']]"
   ]
  },
  {
   "cell_type": "code",
   "execution_count": 46,
   "metadata": {},
   "outputs": [],
   "source": [
    "# pst.nnz_obs_groups                 # nnz non-zero         OBS\n",
    "# pst.nnz_obs, pst.npar_adj          #                      OBS PAR \n",
    "# pst.adj_par_groups[:15]            # adjustble                PAR  group names  \n",
    "# pst.write_par_summary_table()\n",
    "# pst.write_obs_summary_table()        # *.tex ?"
   ]
  },
  {
   "cell_type": "markdown",
   "metadata": {},
   "source": [
    "#### Phi and residuals"
   ]
  },
  {
   "cell_type": "code",
   "execution_count": 79,
   "metadata": {},
   "outputs": [
    {
     "data": {
      "text/html": [
       "<div>\n",
       "<style scoped>\n",
       "    .dataframe tbody tr th:only-of-type {\n",
       "        vertical-align: middle;\n",
       "    }\n",
       "\n",
       "    .dataframe tbody tr th {\n",
       "        vertical-align: top;\n",
       "    }\n",
       "\n",
       "    .dataframe thead th {\n",
       "        text-align: right;\n",
       "    }\n",
       "</style>\n",
       "<table border=\"1\" class=\"dataframe\">\n",
       "  <thead>\n",
       "    <tr style=\"text-align: right;\">\n",
       "      <th></th>\n",
       "      <th>name</th>\n",
       "      <th>group</th>\n",
       "      <th>measured</th>\n",
       "      <th>modelled</th>\n",
       "      <th>residual</th>\n",
       "      <th>weight</th>\n",
       "    </tr>\n",
       "    <tr>\n",
       "      <th>name</th>\n",
       "      <th></th>\n",
       "      <th></th>\n",
       "      <th></th>\n",
       "      <th></th>\n",
       "      <th></th>\n",
       "      <th></th>\n",
       "    </tr>\n",
       "  </thead>\n",
       "  <tbody>\n",
       "    <tr>\n",
       "      <th>c001cr03c10_19700102</th>\n",
       "      <td>c001cr03c10_19700102</td>\n",
       "      <td>calhead</td>\n",
       "      <td>26.661526</td>\n",
       "      <td>28.013775</td>\n",
       "      <td>-1.352249</td>\n",
       "      <td>5.0</td>\n",
       "    </tr>\n",
       "    <tr>\n",
       "      <th>c001cr03c16_19700102</th>\n",
       "      <td>c001cr03c16_19700102</td>\n",
       "      <td>calhead</td>\n",
       "      <td>23.460564</td>\n",
       "      <td>24.444290</td>\n",
       "      <td>-0.983726</td>\n",
       "      <td>5.0</td>\n",
       "    </tr>\n",
       "    <tr>\n",
       "      <th>c001cr04c09_19700102</th>\n",
       "      <td>c001cr04c09_19700102</td>\n",
       "      <td>calhead</td>\n",
       "      <td>28.513522</td>\n",
       "      <td>28.513071</td>\n",
       "      <td>0.000451</td>\n",
       "      <td>5.0</td>\n",
       "    </tr>\n",
       "    <tr>\n",
       "      <th>c001cr10c02_19700102</th>\n",
       "      <td>c001cr10c02_19700102</td>\n",
       "      <td>calhead</td>\n",
       "      <td>30.741689</td>\n",
       "      <td>31.881250</td>\n",
       "      <td>-1.139561</td>\n",
       "      <td>5.0</td>\n",
       "    </tr>\n",
       "    <tr>\n",
       "      <th>c001cr14c11_19700102</th>\n",
       "      <td>c001cr14c11_19700102</td>\n",
       "      <td>calhead</td>\n",
       "      <td>25.871208</td>\n",
       "      <td>25.444475</td>\n",
       "      <td>0.426733</td>\n",
       "      <td>5.0</td>\n",
       "    </tr>\n",
       "  </tbody>\n",
       "</table>\n",
       "</div>"
      ],
      "text/plain": [
       "                                      name    group   measured   modelled  \\\n",
       "name                                                                        \n",
       "c001cr03c10_19700102  c001cr03c10_19700102  calhead  26.661526  28.013775   \n",
       "c001cr03c16_19700102  c001cr03c16_19700102  calhead  23.460564  24.444290   \n",
       "c001cr04c09_19700102  c001cr04c09_19700102  calhead  28.513522  28.513071   \n",
       "c001cr10c02_19700102  c001cr10c02_19700102  calhead  30.741689  31.881250   \n",
       "c001cr14c11_19700102  c001cr14c11_19700102  calhead  25.871208  25.444475   \n",
       "\n",
       "                      residual  weight  \n",
       "name                                    \n",
       "c001cr03c10_19700102 -1.352249     5.0  \n",
       "c001cr03c16_19700102 -0.983726     5.0  \n",
       "c001cr04c09_19700102  0.000451     5.0  \n",
       "c001cr10c02_19700102 -1.139561     5.0  \n",
       "c001cr14c11_19700102  0.426733     5.0  "
      ]
     },
     "execution_count": 79,
     "metadata": {},
     "output_type": "execute_result"
    }
   ],
   "source": [
    "pst.res.head()         # *.rei"
   ]
  },
  {
   "cell_type": "code",
   "execution_count": 86,
   "metadata": {},
   "outputs": [],
   "source": [
    "# pst.res.plot.scatter('measured', 'modelled')                # MED x MOD\n",
    "# pst.res.iloc[:300].loc[:, 'residual'].plot(kind='bar')       # REI"
   ]
  },
  {
   "cell_type": "code",
   "execution_count": 95,
   "metadata": {},
   "outputs": [],
   "source": [
    "# pst.plot(kind='1to1');       # 1to1 = each observationg group with non-zero weighted observations\n",
    "# pst.phi                      # weighted sum of square residuals \n",
    "# ___________________________\n",
    "# pst.phi_components \n",
    "# pst.plot(kind=\"phi_pie\");\n",
    "# ___________________________\n",
    "# obs = pst.observation_data\n",
    "# obs['weight'] = 1.0                 # change all observation weights\n",
    "# pst.phi_components "
   ]
  },
  {
   "cell_type": "markdown",
   "metadata": {},
   "source": [
    "### Weights _____ `Pst.adjust_weights()` = `PWTADJ1`\n",
    "\n",
    "- **history-matching**, observation weights assigned to reflect observation uncertainty, and  equal \"visibility\" ...\n",
    "- **generating an observation ensemble**, weights should reflect the inverse of the standard deviation of measurement noise ...\n",
    "- when history-matching with `pestpp-ies` and using weights that **do not** reflect observation uncertainty, it is important to provide `pestpp-ies` with a previously prepared observation ensemble (we will demonstrate this further on)."
   ]
  },
  {
   "cell_type": "code",
   "execution_count": 107,
   "metadata": {},
   "outputs": [],
   "source": [
    "# pst.phi_components\n",
    "balanced_groups = {grp:100 for grp in pst.nnz_obs_groups}\n",
    "# balanced_groups                                                 # take a look supressing ´#´\n",
    "pst.adjust_weights(obsgrp_dict=balanced_groups,)\n",
    "# pst.phi_components                                              # see\n",
    "# pst.plot(kind=\"phi_pie\");"
   ]
  },
  {
   "cell_type": "markdown",
   "metadata": {},
   "source": [
    "### Discrepancy based weight adjustment ___ `Pst.adjust_weights_discrepancy()` = ` PWTADJ2` ___ u pothead\n",
    "\n",
    "- Objective function = nº observations. This really matters when we do posterior uncertainty analyses (FOSM) \n",
    "- ... after history matching! The point is for weights to represent both measurement error **and** model error.*"
   ]
  },
  {
   "cell_type": "code",
   "execution_count": 118,
   "metadata": {},
   "outputs": [
    {
     "data": {
      "text/plain": [
       "(np.float64(211.53558969631908), 1013)"
      ]
     },
     "execution_count": 118,
     "metadata": {},
     "output_type": "execute_result"
    }
   ],
   "source": [
    "pst.phi, pst.nnz_obs            # current phi and nº of non-zero observations   # pst.par_groups (?)"
   ]
  },
  {
   "cell_type": "code",
   "execution_count": 119,
   "metadata": {},
   "outputs": [
    {
     "data": {
      "text/plain": [
       "np.float64(211.53558969631908)"
      ]
     },
     "execution_count": 119,
     "metadata": {},
     "output_type": "execute_result"
    }
   ],
   "source": [
    "pst.adjust_weights_discrepancy(original_ceiling=True)       # default _________ #  true  \n",
    "pst.phi"
   ]
  },
  {
   "cell_type": "code",
   "execution_count": 25,
   "metadata": {},
   "outputs": [],
   "source": [
    "# pst.write_obs_summary_table()      # expecting Phi to be equal to ____ nnz_obs ____ (number of non zero observations)"
   ]
  },
  {
   "cell_type": "markdown",
   "metadata": {},
   "source": [
    "## Geostatistics = PPCOV"
   ]
  },
  {
   "cell_type": "code",
   "execution_count": 8,
   "metadata": {},
   "outputs": [],
   "source": [
    "v = pyemu.geostats.ExpVario(contribution=1.0,           # exponential spherical\n",
    "                                    a=1000, \n",
    "                                    anisotropy=1.0, \n",
    "                                    bearing=0.0 )"
   ]
  },
  {
   "cell_type": "code",
   "execution_count": 9,
   "metadata": {},
   "outputs": [],
   "source": [
    "v2 = pyemu.geostats.SphVario(contribution=1.0,          # sill\n",
    "                                    a=500,              # range of correlation\n",
    "                                    anisotropy=1.5,     # name says it all\n",
    "                                    bearing=45.0,       # angle in degrees East of North corresponding to anisotropy ellipse\n",
    "                                    name='var2')        # optional name"
   ]
  },
  {
   "cell_type": "code",
   "execution_count": 10,
   "metadata": {},
   "outputs": [
    {
     "data": {
      "text/plain": [
       "<Axes: xlabel='distance', ylabel='$\\\\gamma$'>"
      ]
     },
     "execution_count": 10,
     "metadata": {},
     "output_type": "execute_result"
    },
    {
     "data": {
      "image/png": "[encoded data removed]",
      "text/plain": [
       "<Figure size 640x480 with 1 Axes>"
      ]
     },
     "metadata": {},
     "output_type": "display_data"
    }
   ],
   "source": [
    "gs = pyemu.geostats.GeoStruct(variograms=[v2], transform='log') \n",
    "gs.plot()"
   ]
  },
  {
   "cell_type": "code",
   "execution_count": 6,
   "metadata": {},
   "outputs": [
    {
     "data": {
      "text/html": [
       "<div>\n",
       "<style scoped>\n",
       "    .dataframe tbody tr th:only-of-type {\n",
       "        vertical-align: middle;\n",
       "    }\n",
       "\n",
       "    .dataframe tbody tr th {\n",
       "        vertical-align: top;\n",
       "    }\n",
       "\n",
       "    .dataframe thead th {\n",
       "        text-align: right;\n",
       "    }\n",
       "</style>\n",
       "<table border=\"1\" class=\"dataframe\">\n",
       "  <thead>\n",
       "    <tr style=\"text-align: right;\">\n",
       "      <th></th>\n",
       "      <th>name</th>\n",
       "      <th>x</th>\n",
       "      <th>y</th>\n",
       "      <th>zone</th>\n",
       "      <th>parnme</th>\n",
       "    </tr>\n",
       "  </thead>\n",
       "  <tbody>\n",
       "    <tr>\n",
       "      <th>0</th>\n",
       "      <td>pp_0000</td>\n",
       "      <td>625.0</td>\n",
       "      <td>9375.0</td>\n",
       "      <td>1</td>\n",
       "      <td>hk00</td>\n",
       "    </tr>\n",
       "    <tr>\n",
       "      <th>1</th>\n",
       "      <td>pp_0001</td>\n",
       "      <td>1625.0</td>\n",
       "      <td>9375.0</td>\n",
       "      <td>1</td>\n",
       "      <td>hk01</td>\n",
       "    </tr>\n",
       "    <tr>\n",
       "      <th>2</th>\n",
       "      <td>pp_0002</td>\n",
       "      <td>2625.0</td>\n",
       "      <td>9375.0</td>\n",
       "      <td>1</td>\n",
       "      <td>hk02</td>\n",
       "    </tr>\n",
       "    <tr>\n",
       "      <th>3</th>\n",
       "      <td>pp_0003</td>\n",
       "      <td>3625.0</td>\n",
       "      <td>9375.0</td>\n",
       "      <td>1</td>\n",
       "      <td>hk03</td>\n",
       "    </tr>\n",
       "    <tr>\n",
       "      <th>4</th>\n",
       "      <td>pp_0004</td>\n",
       "      <td>625.0</td>\n",
       "      <td>8375.0</td>\n",
       "      <td>1</td>\n",
       "      <td>hk04</td>\n",
       "    </tr>\n",
       "  </tbody>\n",
       "</table>\n",
       "</div>"
      ],
      "text/plain": [
       "      name       x       y  zone parnme\n",
       "0  pp_0000   625.0  9375.0     1   hk00\n",
       "1  pp_0001  1625.0  9375.0     1   hk01\n",
       "2  pp_0002  2625.0  9375.0     1   hk02\n",
       "3  pp_0003  3625.0  9375.0     1   hk03\n",
       "4  pp_0004   625.0  8375.0     1   hk04"
      ]
     },
     "execution_count": 6,
     "metadata": {},
     "output_type": "execute_result"
    }
   ],
   "source": [
    "df = pyemu.pp_utils.pp_tpl_to_dataframe(os.path.join(f_d,\"hkpp.dat.tpl\"))\n",
    "df.head()"
   ]
  },
  {
   "cell_type": "code",
   "execution_count": 19,
   "metadata": {},
   "outputs": [],
   "source": [
    "cov = gs.covariance_matrix(x=df.x, y=df.y, names=df.parnme)      # gs ______ from the variogram \n",
    "# c = plt.imshow(cov.x)\n",
    "# plt.colorbar(c)                                                # ploting  "
   ]
  },
  {
   "cell_type": "markdown",
   "metadata": {},
   "source": [
    "We can do the same thing for a 1-D sequence (think time-series), to get a covariance matrix for parameters distributed in time:"
   ]
  },
  {
   "cell_type": "code",
   "execution_count": 22,
   "metadata": {},
   "outputs": [],
   "source": [
    "times = np.arange(0,365,1)                # \"X\"                # year \n",
    "y = np.ones_like(times)                   # \"Y\"                # time-series\n",
    "names = [\"t_\"+str(t) for t in times]      # 'parameter\" names\n",
    "\n",
    "exp_vario = pyemu.geostats.ExpVario(contribution=1.0,          # variogram\n",
    "                                    a = 5)                     # range \n",
    "# cov_t = exp_vario.covariance_matrix(times,y,names)\n",
    "# plt.imshow(cov_t.x)"
   ]
  },
  {
   "cell_type": "markdown",
   "metadata": {},
   "source": [
    "### PAR Prior Preferred Value___  `Zero Order Tikhonov`  ____ ADDREG1 and ADDREG2 ____"
   ]
  },
  {
   "cell_type": "code",
   "execution_count": 27,
   "metadata": {},
   "outputs": [],
   "source": [
    "pyemu.helpers.zero_order_tikhonov(pst,                            # preferred values\n",
    "                                par_groups=pst.adj_par_groups,    # PAR groups __________ + prior info\n",
    "                                reset=True)       # remove existing prior equations first\n",
    "\n",
    "# Weights from parameter bounds # pyemu.helpers.zero_order_tikhonov()\n",
    "# pst.prior_information.tail()  # See previous ... "
   ]
  },
  {
   "cell_type": "markdown",
   "metadata": {},
   "source": [
    "### PAR Prior Preferred Difference _____ ` First Order Pearson Tikhonov`"
   ]
  },
  {
   "cell_type": "code",
   "execution_count": 38,
   "metadata": {},
   "outputs": [
    {
     "name": "stdout",
     "output_type": "stream",
     "text": [
      "getting CC matrix\n",
      "processing\n"
     ]
    }
   ],
   "source": [
    "# Parameters which are close together should be similar to each other.  ____________________PAR weights (?)\n",
    "pyemu.helpers.first_order_pearson_tikhonov(pst, \n",
    "                                            cov=cov,             # the covariance matrix; PAR \n",
    "                                            reset=False,         # prefered value & prefered difference eqs\n",
    "                                            abs_drop_tol=0.01)   # drop pi eqs that have small weight"
   ]
  },
  {
   "cell_type": "code",
   "execution_count": 36,
   "metadata": {},
   "outputs": [
    {
     "data": {
      "text/html": [
       "<div>\n",
       "<style scoped>\n",
       "    .dataframe tbody tr th:only-of-type {\n",
       "        vertical-align: middle;\n",
       "    }\n",
       "\n",
       "    .dataframe tbody tr th {\n",
       "        vertical-align: top;\n",
       "    }\n",
       "\n",
       "    .dataframe thead th {\n",
       "        text-align: right;\n",
       "    }\n",
       "</style>\n",
       "<table border=\"1\" class=\"dataframe\">\n",
       "  <thead>\n",
       "    <tr style=\"text-align: right;\">\n",
       "      <th></th>\n",
       "      <th>pilbl</th>\n",
       "      <th>equation</th>\n",
       "      <th>obgnme</th>\n",
       "      <th>weight</th>\n",
       "    </tr>\n",
       "    <tr>\n",
       "      <th>pilbl</th>\n",
       "      <th></th>\n",
       "      <th></th>\n",
       "      <th></th>\n",
       "      <th></th>\n",
       "    </tr>\n",
       "  </thead>\n",
       "  <tbody>\n",
       "    <tr>\n",
       "      <th>w1_r11_c13</th>\n",
       "      <td>w1_r11_c13</td>\n",
       "      <td>1.0 * log(w1_r11_c13) =   0.000000E+00</td>\n",
       "      <td>regulw1</td>\n",
       "      <td>0.5</td>\n",
       "    </tr>\n",
       "    <tr>\n",
       "      <th>w1_r20_c14</th>\n",
       "      <td>w1_r20_c14</td>\n",
       "      <td>1.0 * log(w1_r20_c14) =   0.000000E+00</td>\n",
       "      <td>regulw1</td>\n",
       "      <td>0.5</td>\n",
       "    </tr>\n",
       "    <tr>\n",
       "      <th>w1_r26_c10</th>\n",
       "      <td>w1_r26_c10</td>\n",
       "      <td>1.0 * log(w1_r26_c10) =   0.000000E+00</td>\n",
       "      <td>regulw1</td>\n",
       "      <td>0.5</td>\n",
       "    </tr>\n",
       "    <tr>\n",
       "      <th>w1_r29_c06</th>\n",
       "      <td>w1_r29_c06</td>\n",
       "      <td>1.0 * log(w1_r29_c06) =   0.000000E+00</td>\n",
       "      <td>regulw1</td>\n",
       "      <td>0.5</td>\n",
       "    </tr>\n",
       "    <tr>\n",
       "      <th>w1_r34_c12</th>\n",
       "      <td>w1_r34_c12</td>\n",
       "      <td>1.0 * log(w1_r34_c12) =   0.000000E+00</td>\n",
       "      <td>regulw1</td>\n",
       "      <td>0.5</td>\n",
       "    </tr>\n",
       "  </tbody>\n",
       "</table>\n",
       "</div>"
      ],
      "text/plain": [
       "                 pilbl                                equation   obgnme  \\\n",
       "pilbl                                                                     \n",
       "w1_r11_c13  w1_r11_c13  1.0 * log(w1_r11_c13) =   0.000000E+00  regulw1   \n",
       "w1_r20_c14  w1_r20_c14  1.0 * log(w1_r20_c14) =   0.000000E+00  regulw1   \n",
       "w1_r26_c10  w1_r26_c10  1.0 * log(w1_r26_c10) =   0.000000E+00  regulw1   \n",
       "w1_r29_c06  w1_r29_c06  1.0 * log(w1_r29_c06) =   0.000000E+00  regulw1   \n",
       "w1_r34_c12  w1_r34_c12  1.0 * log(w1_r34_c12) =   0.000000E+00  regulw1   \n",
       "\n",
       "            weight  \n",
       "pilbl               \n",
       "w1_r11_c13     0.5  \n",
       "w1_r20_c14     0.5  \n",
       "w1_r26_c10     0.5  \n",
       "w1_r29_c06     0.5  \n",
       "w1_r34_c12     0.5  "
      ]
     },
     "execution_count": 36,
     "metadata": {},
     "output_type": "execute_result"
    }
   ],
   "source": [
    "# note the additional number of prior information equations\n",
    "pst.prior_information.tail()"
   ]
  },
  {
   "cell_type": "markdown",
   "metadata": {},
   "source": [
    "### Custom Prior Information Equations"
   ]
  },
  {
   "cell_type": "code",
   "execution_count": 48,
   "metadata": {},
   "outputs": [
    {
     "data": {
      "text/html": [
       "<div>\n",
       "<style scoped>\n",
       "    .dataframe tbody tr th:only-of-type {\n",
       "        vertical-align: middle;\n",
       "    }\n",
       "\n",
       "    .dataframe tbody tr th {\n",
       "        vertical-align: top;\n",
       "    }\n",
       "\n",
       "    .dataframe thead th {\n",
       "        text-align: right;\n",
       "    }\n",
       "</style>\n",
       "<table border=\"1\" class=\"dataframe\">\n",
       "  <thead>\n",
       "    <tr style=\"text-align: right;\">\n",
       "      <th></th>\n",
       "      <th>parnme</th>\n",
       "      <th>partrans</th>\n",
       "      <th>parchglim</th>\n",
       "      <th>parval1</th>\n",
       "      <th>parlbnd</th>\n",
       "      <th>parubnd</th>\n",
       "      <th>pargp</th>\n",
       "      <th>scale</th>\n",
       "      <th>offset</th>\n",
       "      <th>dercom</th>\n",
       "      <th>extra</th>\n",
       "      <th>partied</th>\n",
       "    </tr>\n",
       "  </thead>\n",
       "  <tbody>\n",
       "    <tr>\n",
       "      <th>special_par2</th>\n",
       "      <td>special_par2</td>\n",
       "      <td>log</td>\n",
       "      <td>factor</td>\n",
       "      <td>1.0</td>\n",
       "      <td>999999999.0</td>\n",
       "      <td>-30000.0</td>\n",
       "      <td>pargp</td>\n",
       "      <td>1.0</td>\n",
       "      <td>0.0</td>\n",
       "      <td>1</td>\n",
       "      <td>NaN</td>\n",
       "      <td>special_par1</td>\n",
       "    </tr>\n",
       "    <tr>\n",
       "      <th>special_par1</th>\n",
       "      <td>special_par1</td>\n",
       "      <td>log</td>\n",
       "      <td>factor</td>\n",
       "      <td>1.0</td>\n",
       "      <td>999999999.0</td>\n",
       "      <td>-30000.0</td>\n",
       "      <td>pargp</td>\n",
       "      <td>1.0</td>\n",
       "      <td>0.0</td>\n",
       "      <td>1</td>\n",
       "      <td>NaN</td>\n",
       "      <td>NaN</td>\n",
       "    </tr>\n",
       "  </tbody>\n",
       "</table>\n",
       "</div>"
      ],
      "text/plain": [
       "                    parnme partrans parchglim  parval1      parlbnd  parubnd  \\\n",
       "special_par2  special_par2      log    factor      1.0  999999999.0 -30000.0   \n",
       "special_par1  special_par1      log    factor      1.0  999999999.0 -30000.0   \n",
       "\n",
       "              pargp  scale  offset dercom  extra       partied  \n",
       "special_par2  pargp    1.0     0.0      1    NaN  special_par1  \n",
       "special_par1  pargp    1.0     0.0      1    NaN           NaN  "
      ]
     },
     "execution_count": 48,
     "metadata": {},
     "output_type": "execute_result"
    }
   ],
   "source": [
    "par = pst.parameter_data\n",
    "par.loc[par['pargp']=='pargp', 'partrans'] = 'log'        # just un-tie\n",
    "par.loc[par['pargp']=='pargp']"
   ]
  },
  {
   "cell_type": "code",
   "execution_count": 59,
   "metadata": {},
   "outputs": [
    {
     "data": {
      "text/html": [
       "<div>\n",
       "<style scoped>\n",
       "    .dataframe tbody tr th:only-of-type {\n",
       "        vertical-align: middle;\n",
       "    }\n",
       "\n",
       "    .dataframe tbody tr th {\n",
       "        vertical-align: top;\n",
       "    }\n",
       "\n",
       "    .dataframe thead th {\n",
       "        text-align: right;\n",
       "    }\n",
       "</style>\n",
       "<table border=\"1\" class=\"dataframe\">\n",
       "  <thead>\n",
       "    <tr style=\"text-align: right;\">\n",
       "      <th></th>\n",
       "      <th>pilbl</th>\n",
       "      <th>equation</th>\n",
       "      <th>obgnme</th>\n",
       "      <th>weight</th>\n",
       "      <th>names</th>\n",
       "    </tr>\n",
       "    <tr>\n",
       "      <th>pilbl</th>\n",
       "      <th></th>\n",
       "      <th></th>\n",
       "      <th></th>\n",
       "      <th></th>\n",
       "      <th></th>\n",
       "    </tr>\n",
       "  </thead>\n",
       "  <tbody>\n",
       "    <tr>\n",
       "      <th>w1_r29_c06</th>\n",
       "      <td>w1_r29_c06</td>\n",
       "      <td>1.0 * log(w1_r29_c06) =   0.000000E+00</td>\n",
       "      <td>regulw1</td>\n",
       "      <td>0.5</td>\n",
       "      <td>[w1_r29_c06]</td>\n",
       "    </tr>\n",
       "    <tr>\n",
       "      <th>w1_r34_c12</th>\n",
       "      <td>w1_r34_c12</td>\n",
       "      <td>1.0 * log(w1_r34_c12) =   0.000000E+00</td>\n",
       "      <td>regulw1</td>\n",
       "      <td>0.5</td>\n",
       "      <td>[w1_r34_c12]</td>\n",
       "    </tr>\n",
       "    <tr>\n",
       "      <th>new_pi_eq</th>\n",
       "      <td>new_pi_eq</td>\n",
       "      <td>99.0 * log(special_par1)  + 300 * log(special_par2)  = 0.0</td>\n",
       "      <td>regul_special</td>\n",
       "      <td>1.0</td>\n",
       "      <td>NaN</td>\n",
       "    </tr>\n",
       "  </tbody>\n",
       "</table>\n",
       "</div>"
      ],
      "text/plain": [
       "                 pilbl  \\\n",
       "pilbl                    \n",
       "w1_r29_c06  w1_r29_c06   \n",
       "w1_r34_c12  w1_r34_c12   \n",
       "new_pi_eq    new_pi_eq   \n",
       "\n",
       "                                                                equation  \\\n",
       "pilbl                                                                      \n",
       "w1_r29_c06                        1.0 * log(w1_r29_c06) =   0.000000E+00   \n",
       "w1_r34_c12                        1.0 * log(w1_r34_c12) =   0.000000E+00   \n",
       "new_pi_eq     99.0 * log(special_par1)  + 300 * log(special_par2)  = 0.0   \n",
       "\n",
       "                   obgnme  weight         names  \n",
       "pilbl                                            \n",
       "w1_r29_c06        regulw1     0.5  [w1_r29_c06]  \n",
       "w1_r34_c12        regulw1     0.5  [w1_r34_c12]  \n",
       "new_pi_eq   regul_special     1.0           NaN  "
      ]
     },
     "execution_count": 59,
     "metadata": {},
     "output_type": "execute_result"
    }
   ],
   "source": [
    "pst.add_pi_equation(par_names=['special_par1', 'special_par2'],            # left hand side of the equation\n",
    "                    pilbl='new_pi_eq', rhs=0.0,                            # Right hand side ; * revise prior information eq \n",
    "                    weight=1.0, \n",
    "                    obs_group='regul_special',                             # name of prior information \"OBS group\"\n",
    "                    coef_dict = {'special_par1':99.0, 'special_par2':300} ) # parameter coeficients; ... do try changes here\n",
    "pst.prior_information.iloc[-3:]"
   ]
  },
  {
   "cell_type": "markdown",
   "metadata": {},
   "source": [
    "## Matrices"
   ]
  },
  {
   "cell_type": "code",
   "execution_count": 63,
   "metadata": {},
   "outputs": [
    {
     "data": {
      "text/plain": [
       "True"
      ]
     },
     "execution_count": 63,
     "metadata": {},
     "output_type": "execute_result"
    }
   ],
   "source": [
    "parcov = pyemu.Cov.from_parameter_data(pst)   # PAR ___ bounds  ___ covariance matrix\n",
    "# parcov.row_names[:5], parcov.col_names[:5], \n",
    "# parcov.isdiagonal              # Diagonal: - uncertainty of each PAR (bounds). Off_values: - correlation within PAR"
   ]
  },
  {
   "cell_type": "code",
   "execution_count": 68,
   "metadata": {},
   "outputs": [
    {
     "data": {
      "text/plain": [
       "array([[1., 0., 0., ..., 0., 0., 0.],\n",
       "       [0., 1., 0., ..., 0., 0., 0.],\n",
       "       [0., 0., 1., ..., 0., 0., 0.],\n",
       "       ...,\n",
       "       [0., 0., 0., ..., 1., 0., 0.],\n",
       "       [0., 0., 0., ..., 0., 1., 0.],\n",
       "       [0., 0., 0., ..., 0., 0., 1.]], shape=(32, 32))"
      ]
     },
     "execution_count": 68,
     "metadata": {},
     "output_type": "execute_result"
    }
   ],
   "source": [
    "# cov.isdiagonal\n",
    "# parcov.x\n",
    "cov.x"
   ]
  },
  {
   "cell_type": "code",
   "execution_count": 69,
   "metadata": {},
   "outputs": [
    {
     "data": {
      "text/plain": [
       "((50, 1), (32, 32))"
      ]
     },
     "execution_count": 69,
     "metadata": {},
     "output_type": "execute_result"
    }
   ],
   "source": [
    "parcov.x.shape, cov.x.shape"
   ]
  },
  {
   "cell_type": "code",
   "execution_count": 70,
   "metadata": {
    "scrolled": true
   },
   "outputs": [
    {
     "data": {
      "text/plain": [
       "array([[0.25      , 0.        , 0.        , ..., 0.        , 0.        ,\n",
       "        0.        ],\n",
       "       [0.        , 0.25      , 0.        , ..., 0.        , 0.        ,\n",
       "        0.        ],\n",
       "       [0.        , 0.        , 0.25      , ..., 0.        , 0.        ,\n",
       "        0.        ],\n",
       "       ...,\n",
       "       [0.        , 0.        , 0.        , ..., 0.25      , 0.        ,\n",
       "        0.        ],\n",
       "       [0.        , 0.        , 0.        , ..., 0.        , 1.27852701,\n",
       "        0.        ],\n",
       "       [0.        , 0.        , 0.        , ..., 0.        , 0.        ,\n",
       "        1.27852701]], shape=(50, 50))"
      ]
     },
     "execution_count": 70,
     "metadata": {},
     "output_type": "execute_result"
    }
   ],
   "source": [
    "parcov.as_2d"
   ]
  },
  {
   "cell_type": "code",
   "execution_count": 77,
   "metadata": {},
   "outputs": [
    {
     "data": {
      "text/plain": [
       "<matplotlib.colorbar.Colorbar at 0x29fbc6cb110>"
      ]
     },
     "execution_count": 77,
     "metadata": {},
     "output_type": "execute_result"
    },
    {
     "data": {
      "image/png": "[encoded data removed]",
      "text/plain": [
       "<Figure size 640x480 with 4 Axes>"
      ]
     },
     "metadata": {},
     "output_type": "display_data"
    }
   ],
   "source": [
    "parnames = par.loc[par['pargp']=='hk', 'parnme'].tolist()                # PAR names (2x)\n",
    "subcov = parcov.get(row_names=parnames, col_names=parnames, drop=False)  # submatrix from cov_pb (?); \n",
    "f, (ax1, ax2) = plt.subplots(1, 2, sharey=True)      # plot both\n",
    "\n",
    "c = ax1.imshow(subcov.as_2d)                         # plot submatrix of diagonal matrix\n",
    "plt.colorbar(c, ax=ax1, shrink=0.1)                  \n",
    "\n",
    "c = ax2.imshow(0.25 * cov.as_2d)                     # plot cov matrix of correlated parameters \n",
    "plt.colorbar(c, ax=ax2, shrink=0.4)                 "
   ]
  },
  {
   "cell_type": "code",
   "execution_count": 79,
   "metadata": {},
   "outputs": [],
   "source": [
    "cov_singular_values = cov.s     #   SVD   Vector\n",
    "# cov_singular_values.x"
   ]
  },
  {
   "cell_type": "markdown",
   "metadata": {},
   "source": [
    "\"Right singular vectors\" are obtained with `.v` attribute:"
   ]
  },
  {
   "cell_type": "code",
   "execution_count": 80,
   "metadata": {},
   "outputs": [
    {
     "data": {
      "text/plain": [
       "<pyemu.mat.mat_handler.Matrix at 0x29fb9e76be0>"
      ]
     },
     "execution_count": 80,
     "metadata": {},
     "output_type": "execute_result"
    }
   ],
   "source": [
    "cov.v  # ?"
   ]
  },
  {
   "cell_type": "code",
   "execution_count": 81,
   "metadata": {},
   "outputs": [
    {
     "data": {
      "text/html": [
       "<div>\n",
       "<style scoped>\n",
       "    .dataframe tbody tr th:only-of-type {\n",
       "        vertical-align: middle;\n",
       "    }\n",
       "\n",
       "    .dataframe tbody tr th {\n",
       "        vertical-align: top;\n",
       "    }\n",
       "\n",
       "    .dataframe thead th {\n",
       "        text-align: right;\n",
       "    }\n",
       "</style>\n",
       "<table border=\"1\" class=\"dataframe\">\n",
       "  <thead>\n",
       "    <tr style=\"text-align: right;\">\n",
       "      <th></th>\n",
       "      <th>hk00</th>\n",
       "      <th>hk01</th>\n",
       "      <th>hk02</th>\n",
       "      <th>hk03</th>\n",
       "      <th>hk04</th>\n",
       "      <th>hk05</th>\n",
       "      <th>hk06</th>\n",
       "      <th>hk07</th>\n",
       "      <th>hk08</th>\n",
       "      <th>hk09</th>\n",
       "      <th>...</th>\n",
       "      <th>hk22</th>\n",
       "      <th>hk23</th>\n",
       "      <th>hk24</th>\n",
       "      <th>hk25</th>\n",
       "      <th>hk26</th>\n",
       "      <th>hk27</th>\n",
       "      <th>hk28</th>\n",
       "      <th>hk29</th>\n",
       "      <th>hk30</th>\n",
       "      <th>hk31</th>\n",
       "    </tr>\n",
       "  </thead>\n",
       "  <tbody>\n",
       "    <tr>\n",
       "      <th>hk00</th>\n",
       "      <td>1.0</td>\n",
       "      <td>0.0</td>\n",
       "      <td>0.0</td>\n",
       "      <td>0.0</td>\n",
       "      <td>0.0</td>\n",
       "      <td>0.0</td>\n",
       "      <td>0.0</td>\n",
       "      <td>0.0</td>\n",
       "      <td>0.0</td>\n",
       "      <td>0.0</td>\n",
       "      <td>...</td>\n",
       "      <td>0.0</td>\n",
       "      <td>0.0</td>\n",
       "      <td>0.0</td>\n",
       "      <td>0.0</td>\n",
       "      <td>0.0</td>\n",
       "      <td>0.0</td>\n",
       "      <td>0.0</td>\n",
       "      <td>0.0</td>\n",
       "      <td>0.0</td>\n",
       "      <td>0.0</td>\n",
       "    </tr>\n",
       "    <tr>\n",
       "      <th>hk01</th>\n",
       "      <td>0.0</td>\n",
       "      <td>1.0</td>\n",
       "      <td>0.0</td>\n",
       "      <td>0.0</td>\n",
       "      <td>0.0</td>\n",
       "      <td>0.0</td>\n",
       "      <td>0.0</td>\n",
       "      <td>0.0</td>\n",
       "      <td>0.0</td>\n",
       "      <td>0.0</td>\n",
       "      <td>...</td>\n",
       "      <td>0.0</td>\n",
       "      <td>0.0</td>\n",
       "      <td>0.0</td>\n",
       "      <td>0.0</td>\n",
       "      <td>0.0</td>\n",
       "      <td>0.0</td>\n",
       "      <td>0.0</td>\n",
       "      <td>0.0</td>\n",
       "      <td>0.0</td>\n",
       "      <td>0.0</td>\n",
       "    </tr>\n",
       "    <tr>\n",
       "      <th>hk02</th>\n",
       "      <td>0.0</td>\n",
       "      <td>0.0</td>\n",
       "      <td>1.0</td>\n",
       "      <td>0.0</td>\n",
       "      <td>0.0</td>\n",
       "      <td>0.0</td>\n",
       "      <td>0.0</td>\n",
       "      <td>0.0</td>\n",
       "      <td>0.0</td>\n",
       "      <td>0.0</td>\n",
       "      <td>...</td>\n",
       "      <td>0.0</td>\n",
       "      <td>0.0</td>\n",
       "      <td>0.0</td>\n",
       "      <td>0.0</td>\n",
       "      <td>0.0</td>\n",
       "      <td>0.0</td>\n",
       "      <td>0.0</td>\n",
       "      <td>0.0</td>\n",
       "      <td>0.0</td>\n",
       "      <td>0.0</td>\n",
       "    </tr>\n",
       "    <tr>\n",
       "      <th>hk03</th>\n",
       "      <td>0.0</td>\n",
       "      <td>0.0</td>\n",
       "      <td>0.0</td>\n",
       "      <td>1.0</td>\n",
       "      <td>0.0</td>\n",
       "      <td>0.0</td>\n",
       "      <td>0.0</td>\n",
       "      <td>0.0</td>\n",
       "      <td>0.0</td>\n",
       "      <td>0.0</td>\n",
       "      <td>...</td>\n",
       "      <td>0.0</td>\n",
       "      <td>0.0</td>\n",
       "      <td>0.0</td>\n",
       "      <td>0.0</td>\n",
       "      <td>0.0</td>\n",
       "      <td>0.0</td>\n",
       "      <td>0.0</td>\n",
       "      <td>0.0</td>\n",
       "      <td>0.0</td>\n",
       "      <td>0.0</td>\n",
       "    </tr>\n",
       "    <tr>\n",
       "      <th>hk04</th>\n",
       "      <td>0.0</td>\n",
       "      <td>0.0</td>\n",
       "      <td>0.0</td>\n",
       "      <td>0.0</td>\n",
       "      <td>1.0</td>\n",
       "      <td>0.0</td>\n",
       "      <td>0.0</td>\n",
       "      <td>0.0</td>\n",
       "      <td>0.0</td>\n",
       "      <td>0.0</td>\n",
       "      <td>...</td>\n",
       "      <td>0.0</td>\n",
       "      <td>0.0</td>\n",
       "      <td>0.0</td>\n",
       "      <td>0.0</td>\n",
       "      <td>0.0</td>\n",
       "      <td>0.0</td>\n",
       "      <td>0.0</td>\n",
       "      <td>0.0</td>\n",
       "      <td>0.0</td>\n",
       "      <td>0.0</td>\n",
       "    </tr>\n",
       "  </tbody>\n",
       "</table>\n",
       "<p>5 rows × 32 columns</p>\n",
       "</div>"
      ],
      "text/plain": [
       "      hk00  hk01  hk02  hk03  hk04  hk05  hk06  hk07  hk08  hk09  ...  hk22  \\\n",
       "hk00   1.0   0.0   0.0   0.0   0.0   0.0   0.0   0.0   0.0   0.0  ...   0.0   \n",
       "hk01   0.0   1.0   0.0   0.0   0.0   0.0   0.0   0.0   0.0   0.0  ...   0.0   \n",
       "hk02   0.0   0.0   1.0   0.0   0.0   0.0   0.0   0.0   0.0   0.0  ...   0.0   \n",
       "hk03   0.0   0.0   0.0   1.0   0.0   0.0   0.0   0.0   0.0   0.0  ...   0.0   \n",
       "hk04   0.0   0.0   0.0   0.0   1.0   0.0   0.0   0.0   0.0   0.0  ...   0.0   \n",
       "\n",
       "      hk23  hk24  hk25  hk26  hk27  hk28  hk29  hk30  hk31  \n",
       "hk00   0.0   0.0   0.0   0.0   0.0   0.0   0.0   0.0   0.0  \n",
       "hk01   0.0   0.0   0.0   0.0   0.0   0.0   0.0   0.0   0.0  \n",
       "hk02   0.0   0.0   0.0   0.0   0.0   0.0   0.0   0.0   0.0  \n",
       "hk03   0.0   0.0   0.0   0.0   0.0   0.0   0.0   0.0   0.0  \n",
       "hk04   0.0   0.0   0.0   0.0   0.0   0.0   0.0   0.0   0.0  \n",
       "\n",
       "[5 rows x 32 columns]"
      ]
     },
     "execution_count": 81,
     "metadata": {},
     "output_type": "execute_result"
    }
   ],
   "source": [
    "covdf = cov.to_dataframe()\n",
    "covdf.head()                  # Pandas"
   ]
  },
  {
   "cell_type": "code",
   "execution_count": 82,
   "metadata": {},
   "outputs": [],
   "source": [
    "# cov.to_ascii(filename=os.path.join(f_d,'ppoint.cov'))              # write to ascii; .to_binary() \n",
    "# cov = cov.from_ascii(filename=os.path.join(f_d,'ppoint.cov'))      # read from ascii\n",
    "# cov.to_uncfile(os.path.join(f_d,'test.unc'))                       # a PEST uncertainty file  "
   ]
  },
  {
   "cell_type": "code",
   "execution_count": 85,
   "metadata": {},
   "outputs": [
    {
     "data": {
      "text/plain": [
       "(1435, 48)"
      ]
     },
     "execution_count": 85,
     "metadata": {},
     "output_type": "execute_result"
    }
   ],
   "source": [
    "jco = pyemu.Jco.from_binary(os.path.join(f_d,\"freyberg_pp.jcb\"))      # Jacobian\n",
    "jco.shape"
   ]
  },
  {
   "cell_type": "markdown",
   "metadata": {},
   "source": [
    "## `First Order, Second Moment (FOSM)`___ Linear Analysis + forecasts"
   ]
  },
  {
   "cell_type": "code",
   "execution_count": 92,
   "metadata": {},
   "outputs": [
    {
     "data": {
      "text/html": [
       "<div>\n",
       "<style scoped>\n",
       "    .dataframe tbody tr th:only-of-type {\n",
       "        vertical-align: middle;\n",
       "    }\n",
       "\n",
       "    .dataframe tbody tr th {\n",
       "        vertical-align: top;\n",
       "    }\n",
       "\n",
       "    .dataframe thead th {\n",
       "        text-align: right;\n",
       "    }\n",
       "</style>\n",
       "<table border=\"1\" class=\"dataframe\">\n",
       "  <thead>\n",
       "    <tr style=\"text-align: right;\">\n",
       "      <th></th>\n",
       "      <th>hk00</th>\n",
       "      <th>hk01</th>\n",
       "      <th>hk02</th>\n",
       "      <th>hk03</th>\n",
       "      <th>hk04</th>\n",
       "      <th>hk05</th>\n",
       "      <th>hk06</th>\n",
       "      <th>hk07</th>\n",
       "      <th>hk08</th>\n",
       "      <th>hk09</th>\n",
       "      <th>...</th>\n",
       "      <th>w0_r20_c14</th>\n",
       "      <th>w0_r26_c10</th>\n",
       "      <th>w0_r29_c06</th>\n",
       "      <th>w0_r34_c12</th>\n",
       "      <th>w1_r09_c16</th>\n",
       "      <th>w1_r11_c13</th>\n",
       "      <th>w1_r20_c14</th>\n",
       "      <th>w1_r26_c10</th>\n",
       "      <th>w1_r29_c06</th>\n",
       "      <th>w1_r34_c12</th>\n",
       "    </tr>\n",
       "  </thead>\n",
       "  <tbody>\n",
       "    <tr>\n",
       "      <th>hk00</th>\n",
       "      <td>0.25</td>\n",
       "      <td>0.00</td>\n",
       "      <td>0.00</td>\n",
       "      <td>0.00</td>\n",
       "      <td>0.00</td>\n",
       "      <td>0.0</td>\n",
       "      <td>0.0</td>\n",
       "      <td>0.0</td>\n",
       "      <td>0.0</td>\n",
       "      <td>0.0</td>\n",
       "      <td>...</td>\n",
       "      <td>0.0</td>\n",
       "      <td>0.0</td>\n",
       "      <td>0.0</td>\n",
       "      <td>0.0</td>\n",
       "      <td>0.0</td>\n",
       "      <td>0.0</td>\n",
       "      <td>0.0</td>\n",
       "      <td>0.0</td>\n",
       "      <td>0.0</td>\n",
       "      <td>0.0</td>\n",
       "    </tr>\n",
       "    <tr>\n",
       "      <th>hk01</th>\n",
       "      <td>0.00</td>\n",
       "      <td>0.25</td>\n",
       "      <td>0.00</td>\n",
       "      <td>0.00</td>\n",
       "      <td>0.00</td>\n",
       "      <td>0.0</td>\n",
       "      <td>0.0</td>\n",
       "      <td>0.0</td>\n",
       "      <td>0.0</td>\n",
       "      <td>0.0</td>\n",
       "      <td>...</td>\n",
       "      <td>0.0</td>\n",
       "      <td>0.0</td>\n",
       "      <td>0.0</td>\n",
       "      <td>0.0</td>\n",
       "      <td>0.0</td>\n",
       "      <td>0.0</td>\n",
       "      <td>0.0</td>\n",
       "      <td>0.0</td>\n",
       "      <td>0.0</td>\n",
       "      <td>0.0</td>\n",
       "    </tr>\n",
       "    <tr>\n",
       "      <th>hk02</th>\n",
       "      <td>0.00</td>\n",
       "      <td>0.00</td>\n",
       "      <td>0.25</td>\n",
       "      <td>0.00</td>\n",
       "      <td>0.00</td>\n",
       "      <td>0.0</td>\n",
       "      <td>0.0</td>\n",
       "      <td>0.0</td>\n",
       "      <td>0.0</td>\n",
       "      <td>0.0</td>\n",
       "      <td>...</td>\n",
       "      <td>0.0</td>\n",
       "      <td>0.0</td>\n",
       "      <td>0.0</td>\n",
       "      <td>0.0</td>\n",
       "      <td>0.0</td>\n",
       "      <td>0.0</td>\n",
       "      <td>0.0</td>\n",
       "      <td>0.0</td>\n",
       "      <td>0.0</td>\n",
       "      <td>0.0</td>\n",
       "    </tr>\n",
       "    <tr>\n",
       "      <th>hk03</th>\n",
       "      <td>0.00</td>\n",
       "      <td>0.00</td>\n",
       "      <td>0.00</td>\n",
       "      <td>0.25</td>\n",
       "      <td>0.00</td>\n",
       "      <td>0.0</td>\n",
       "      <td>0.0</td>\n",
       "      <td>0.0</td>\n",
       "      <td>0.0</td>\n",
       "      <td>0.0</td>\n",
       "      <td>...</td>\n",
       "      <td>0.0</td>\n",
       "      <td>0.0</td>\n",
       "      <td>0.0</td>\n",
       "      <td>0.0</td>\n",
       "      <td>0.0</td>\n",
       "      <td>0.0</td>\n",
       "      <td>0.0</td>\n",
       "      <td>0.0</td>\n",
       "      <td>0.0</td>\n",
       "      <td>0.0</td>\n",
       "    </tr>\n",
       "    <tr>\n",
       "      <th>hk04</th>\n",
       "      <td>0.00</td>\n",
       "      <td>0.00</td>\n",
       "      <td>0.00</td>\n",
       "      <td>0.00</td>\n",
       "      <td>0.25</td>\n",
       "      <td>0.0</td>\n",
       "      <td>0.0</td>\n",
       "      <td>0.0</td>\n",
       "      <td>0.0</td>\n",
       "      <td>0.0</td>\n",
       "      <td>...</td>\n",
       "      <td>0.0</td>\n",
       "      <td>0.0</td>\n",
       "      <td>0.0</td>\n",
       "      <td>0.0</td>\n",
       "      <td>0.0</td>\n",
       "      <td>0.0</td>\n",
       "      <td>0.0</td>\n",
       "      <td>0.0</td>\n",
       "      <td>0.0</td>\n",
       "      <td>0.0</td>\n",
       "    </tr>\n",
       "  </tbody>\n",
       "</table>\n",
       "<p>5 rows × 48 columns</p>\n",
       "</div>"
      ],
      "text/plain": [
       "      hk00  hk01  hk02  hk03  hk04  hk05  hk06  hk07  hk08  hk09  ...  \\\n",
       "hk00  0.25  0.00  0.00  0.00  0.00   0.0   0.0   0.0   0.0   0.0  ...   \n",
       "hk01  0.00  0.25  0.00  0.00  0.00   0.0   0.0   0.0   0.0   0.0  ...   \n",
       "hk02  0.00  0.00  0.25  0.00  0.00   0.0   0.0   0.0   0.0   0.0  ...   \n",
       "hk03  0.00  0.00  0.00  0.25  0.00   0.0   0.0   0.0   0.0   0.0  ...   \n",
       "hk04  0.00  0.00  0.00  0.00  0.25   0.0   0.0   0.0   0.0   0.0  ...   \n",
       "\n",
       "      w0_r20_c14  w0_r26_c10  w0_r29_c06  w0_r34_c12  w1_r09_c16  w1_r11_c13  \\\n",
       "hk00         0.0         0.0         0.0         0.0         0.0         0.0   \n",
       "hk01         0.0         0.0         0.0         0.0         0.0         0.0   \n",
       "hk02         0.0         0.0         0.0         0.0         0.0         0.0   \n",
       "hk03         0.0         0.0         0.0         0.0         0.0         0.0   \n",
       "hk04         0.0         0.0         0.0         0.0         0.0         0.0   \n",
       "\n",
       "      w1_r20_c14  w1_r26_c10  w1_r29_c06  w1_r34_c12  \n",
       "hk00         0.0         0.0         0.0         0.0  \n",
       "hk01         0.0         0.0         0.0         0.0  \n",
       "hk02         0.0         0.0         0.0         0.0  \n",
       "hk03         0.0         0.0         0.0         0.0  \n",
       "hk04         0.0         0.0         0.0         0.0  \n",
       "\n",
       "[5 rows x 48 columns]"
      ]
     },
     "execution_count": 92,
     "metadata": {},
     "output_type": "execute_result"
    }
   ],
   "source": [
    "sc = pyemu.Schur(os.path.join(f_d,'freyberg_pp.jcb'), verbose=False)    # stored in the .parcov attribute\n",
    "sc.parcov.to_dataframe().head()  "
   ]
  },
  {
   "cell_type": "code",
   "execution_count": 94,
   "metadata": {},
   "outputs": [
    {
     "data": {
      "text/html": [
       "<div>\n",
       "<style scoped>\n",
       "    .dataframe tbody tr th:only-of-type {\n",
       "        vertical-align: middle;\n",
       "    }\n",
       "\n",
       "    .dataframe tbody tr th {\n",
       "        vertical-align: top;\n",
       "    }\n",
       "\n",
       "    .dataframe thead th {\n",
       "        text-align: right;\n",
       "    }\n",
       "</style>\n",
       "<table border=\"1\" class=\"dataframe\">\n",
       "  <thead>\n",
       "    <tr style=\"text-align: right;\">\n",
       "      <th></th>\n",
       "      <th>c001cr03c10_19700102</th>\n",
       "      <th>c001cr03c16_19700102</th>\n",
       "      <th>c001cr04c09_19700102</th>\n",
       "      <th>c001cr10c02_19700102</th>\n",
       "      <th>c001cr14c11_19700102</th>\n",
       "      <th>c001cr16c17_19700102</th>\n",
       "      <th>c001cr22c11_19700102</th>\n",
       "      <th>c001cr23c16_19700102</th>\n",
       "      <th>c001cr25c05_19700102</th>\n",
       "      <th>c001cr27c07_19700102</th>\n",
       "      <th>...</th>\n",
       "      <th>vol_storage_19800101</th>\n",
       "      <th>vol_stream__19700102</th>\n",
       "      <th>vol_stream__19791231</th>\n",
       "      <th>vol_stream__19800101</th>\n",
       "      <th>vol_total_19700102</th>\n",
       "      <th>vol_total_19791231</th>\n",
       "      <th>vol_total_19800101</th>\n",
       "      <th>vol_wells_19700102</th>\n",
       "      <th>vol_wells_19791231</th>\n",
       "      <th>vol_wells_19800101</th>\n",
       "    </tr>\n",
       "  </thead>\n",
       "  <tbody>\n",
       "    <tr>\n",
       "      <th>c001cr03c10_19700102</th>\n",
       "      <td>0.04</td>\n",
       "      <td>0.00</td>\n",
       "      <td>0.00</td>\n",
       "      <td>0.00</td>\n",
       "      <td>0.00</td>\n",
       "      <td>0.0</td>\n",
       "      <td>0.0</td>\n",
       "      <td>0.0</td>\n",
       "      <td>0.0</td>\n",
       "      <td>0.0</td>\n",
       "      <td>...</td>\n",
       "      <td>0.0</td>\n",
       "      <td>0.0</td>\n",
       "      <td>0.0</td>\n",
       "      <td>0.0</td>\n",
       "      <td>0.0</td>\n",
       "      <td>0.0</td>\n",
       "      <td>0.0</td>\n",
       "      <td>0.0</td>\n",
       "      <td>0.0</td>\n",
       "      <td>0.0</td>\n",
       "    </tr>\n",
       "    <tr>\n",
       "      <th>c001cr03c16_19700102</th>\n",
       "      <td>0.00</td>\n",
       "      <td>0.04</td>\n",
       "      <td>0.00</td>\n",
       "      <td>0.00</td>\n",
       "      <td>0.00</td>\n",
       "      <td>0.0</td>\n",
       "      <td>0.0</td>\n",
       "      <td>0.0</td>\n",
       "      <td>0.0</td>\n",
       "      <td>0.0</td>\n",
       "      <td>...</td>\n",
       "      <td>0.0</td>\n",
       "      <td>0.0</td>\n",
       "      <td>0.0</td>\n",
       "      <td>0.0</td>\n",
       "      <td>0.0</td>\n",
       "      <td>0.0</td>\n",
       "      <td>0.0</td>\n",
       "      <td>0.0</td>\n",
       "      <td>0.0</td>\n",
       "      <td>0.0</td>\n",
       "    </tr>\n",
       "    <tr>\n",
       "      <th>c001cr04c09_19700102</th>\n",
       "      <td>0.00</td>\n",
       "      <td>0.00</td>\n",
       "      <td>0.04</td>\n",
       "      <td>0.00</td>\n",
       "      <td>0.00</td>\n",
       "      <td>0.0</td>\n",
       "      <td>0.0</td>\n",
       "      <td>0.0</td>\n",
       "      <td>0.0</td>\n",
       "      <td>0.0</td>\n",
       "      <td>...</td>\n",
       "      <td>0.0</td>\n",
       "      <td>0.0</td>\n",
       "      <td>0.0</td>\n",
       "      <td>0.0</td>\n",
       "      <td>0.0</td>\n",
       "      <td>0.0</td>\n",
       "      <td>0.0</td>\n",
       "      <td>0.0</td>\n",
       "      <td>0.0</td>\n",
       "      <td>0.0</td>\n",
       "    </tr>\n",
       "    <tr>\n",
       "      <th>c001cr10c02_19700102</th>\n",
       "      <td>0.00</td>\n",
       "      <td>0.00</td>\n",
       "      <td>0.00</td>\n",
       "      <td>0.04</td>\n",
       "      <td>0.00</td>\n",
       "      <td>0.0</td>\n",
       "      <td>0.0</td>\n",
       "      <td>0.0</td>\n",
       "      <td>0.0</td>\n",
       "      <td>0.0</td>\n",
       "      <td>...</td>\n",
       "      <td>0.0</td>\n",
       "      <td>0.0</td>\n",
       "      <td>0.0</td>\n",
       "      <td>0.0</td>\n",
       "      <td>0.0</td>\n",
       "      <td>0.0</td>\n",
       "      <td>0.0</td>\n",
       "      <td>0.0</td>\n",
       "      <td>0.0</td>\n",
       "      <td>0.0</td>\n",
       "    </tr>\n",
       "    <tr>\n",
       "      <th>c001cr14c11_19700102</th>\n",
       "      <td>0.00</td>\n",
       "      <td>0.00</td>\n",
       "      <td>0.00</td>\n",
       "      <td>0.00</td>\n",
       "      <td>0.04</td>\n",
       "      <td>0.0</td>\n",
       "      <td>0.0</td>\n",
       "      <td>0.0</td>\n",
       "      <td>0.0</td>\n",
       "      <td>0.0</td>\n",
       "      <td>...</td>\n",
       "      <td>0.0</td>\n",
       "      <td>0.0</td>\n",
       "      <td>0.0</td>\n",
       "      <td>0.0</td>\n",
       "      <td>0.0</td>\n",
       "      <td>0.0</td>\n",
       "      <td>0.0</td>\n",
       "      <td>0.0</td>\n",
       "      <td>0.0</td>\n",
       "      <td>0.0</td>\n",
       "    </tr>\n",
       "  </tbody>\n",
       "</table>\n",
       "<p>5 rows × 1009 columns</p>\n",
       "</div>"
      ],
      "text/plain": [
       "                      c001cr03c10_19700102  c001cr03c16_19700102  \\\n",
       "c001cr03c10_19700102                  0.04                  0.00   \n",
       "c001cr03c16_19700102                  0.00                  0.04   \n",
       "c001cr04c09_19700102                  0.00                  0.00   \n",
       "c001cr10c02_19700102                  0.00                  0.00   \n",
       "c001cr14c11_19700102                  0.00                  0.00   \n",
       "\n",
       "                      c001cr04c09_19700102  c001cr10c02_19700102  \\\n",
       "c001cr03c10_19700102                  0.00                  0.00   \n",
       "c001cr03c16_19700102                  0.00                  0.00   \n",
       "c001cr04c09_19700102                  0.04                  0.00   \n",
       "c001cr10c02_19700102                  0.00                  0.04   \n",
       "c001cr14c11_19700102                  0.00                  0.00   \n",
       "\n",
       "                      c001cr14c11_19700102  c001cr16c17_19700102  \\\n",
       "c001cr03c10_19700102                  0.00                   0.0   \n",
       "c001cr03c16_19700102                  0.00                   0.0   \n",
       "c001cr04c09_19700102                  0.00                   0.0   \n",
       "c001cr10c02_19700102                  0.00                   0.0   \n",
       "c001cr14c11_19700102                  0.04                   0.0   \n",
       "\n",
       "                      c001cr22c11_19700102  c001cr23c16_19700102  \\\n",
       "c001cr03c10_19700102                   0.0                   0.0   \n",
       "c001cr03c16_19700102                   0.0                   0.0   \n",
       "c001cr04c09_19700102                   0.0                   0.0   \n",
       "c001cr10c02_19700102                   0.0                   0.0   \n",
       "c001cr14c11_19700102                   0.0                   0.0   \n",
       "\n",
       "                      c001cr25c05_19700102  c001cr27c07_19700102  ...  \\\n",
       "c001cr03c10_19700102                   0.0                   0.0  ...   \n",
       "c001cr03c16_19700102                   0.0                   0.0  ...   \n",
       "c001cr04c09_19700102                   0.0                   0.0  ...   \n",
       "c001cr10c02_19700102                   0.0                   0.0  ...   \n",
       "c001cr14c11_19700102                   0.0                   0.0  ...   \n",
       "\n",
       "                      vol_storage_19800101  vol_stream__19700102  \\\n",
       "c001cr03c10_19700102                   0.0                   0.0   \n",
       "c001cr03c16_19700102                   0.0                   0.0   \n",
       "c001cr04c09_19700102                   0.0                   0.0   \n",
       "c001cr10c02_19700102                   0.0                   0.0   \n",
       "c001cr14c11_19700102                   0.0                   0.0   \n",
       "\n",
       "                      vol_stream__19791231  vol_stream__19800101  \\\n",
       "c001cr03c10_19700102                   0.0                   0.0   \n",
       "c001cr03c16_19700102                   0.0                   0.0   \n",
       "c001cr04c09_19700102                   0.0                   0.0   \n",
       "c001cr10c02_19700102                   0.0                   0.0   \n",
       "c001cr14c11_19700102                   0.0                   0.0   \n",
       "\n",
       "                      vol_total_19700102  vol_total_19791231  \\\n",
       "c001cr03c10_19700102                 0.0                 0.0   \n",
       "c001cr03c16_19700102                 0.0                 0.0   \n",
       "c001cr04c09_19700102                 0.0                 0.0   \n",
       "c001cr10c02_19700102                 0.0                 0.0   \n",
       "c001cr14c11_19700102                 0.0                 0.0   \n",
       "\n",
       "                      vol_total_19800101  vol_wells_19700102  \\\n",
       "c001cr03c10_19700102                 0.0                 0.0   \n",
       "c001cr03c16_19700102                 0.0                 0.0   \n",
       "c001cr04c09_19700102                 0.0                 0.0   \n",
       "c001cr10c02_19700102                 0.0                 0.0   \n",
       "c001cr14c11_19700102                 0.0                 0.0   \n",
       "\n",
       "                      vol_wells_19791231  vol_wells_19800101  \n",
       "c001cr03c10_19700102                 0.0                 0.0  \n",
       "c001cr03c16_19700102                 0.0                 0.0  \n",
       "c001cr04c09_19700102                 0.0                 0.0  \n",
       "c001cr10c02_19700102                 0.0                 0.0  \n",
       "c001cr14c11_19700102                 0.0                 0.0  \n",
       "\n",
       "[5 rows x 1009 columns]"
      ]
     },
     "execution_count": 94,
     "metadata": {},
     "output_type": "execute_result"
    }
   ],
   "source": [
    "sc.obscov.to_dataframe().head()                  # OBS noise covariance matrix"
   ]
  },
  {
   "cell_type": "code",
   "execution_count": 95,
   "metadata": {},
   "outputs": [
    {
     "data": {
      "text/html": [
       "<div>\n",
       "<style scoped>\n",
       "    .dataframe tbody tr th:only-of-type {\n",
       "        vertical-align: middle;\n",
       "    }\n",
       "\n",
       "    .dataframe tbody tr th {\n",
       "        vertical-align: top;\n",
       "    }\n",
       "\n",
       "    .dataframe thead th {\n",
       "        text-align: right;\n",
       "    }\n",
       "</style>\n",
       "<table border=\"1\" class=\"dataframe\">\n",
       "  <thead>\n",
       "    <tr style=\"text-align: right;\">\n",
       "      <th></th>\n",
       "      <th>hk00</th>\n",
       "      <th>hk01</th>\n",
       "      <th>hk02</th>\n",
       "      <th>hk03</th>\n",
       "      <th>hk04</th>\n",
       "      <th>hk05</th>\n",
       "      <th>hk06</th>\n",
       "      <th>hk07</th>\n",
       "      <th>hk08</th>\n",
       "      <th>hk09</th>\n",
       "      <th>...</th>\n",
       "      <th>w0_r20_c14</th>\n",
       "      <th>w0_r26_c10</th>\n",
       "      <th>w0_r29_c06</th>\n",
       "      <th>w0_r34_c12</th>\n",
       "      <th>w1_r09_c16</th>\n",
       "      <th>w1_r11_c13</th>\n",
       "      <th>w1_r20_c14</th>\n",
       "      <th>w1_r26_c10</th>\n",
       "      <th>w1_r29_c06</th>\n",
       "      <th>w1_r34_c12</th>\n",
       "    </tr>\n",
       "  </thead>\n",
       "  <tbody>\n",
       "    <tr>\n",
       "      <th>hk00</th>\n",
       "      <td>0.244830</td>\n",
       "      <td>-0.008895</td>\n",
       "      <td>0.007299</td>\n",
       "      <td>0.002543</td>\n",
       "      <td>-0.017660</td>\n",
       "      <td>-0.015716</td>\n",
       "      <td>0.005581</td>\n",
       "      <td>0.001553</td>\n",
       "      <td>-0.007468</td>\n",
       "      <td>0.000299</td>\n",
       "      <td>...</td>\n",
       "      <td>1.072802e-52</td>\n",
       "      <td>4.651382e-53</td>\n",
       "      <td>3.983267e-53</td>\n",
       "      <td>4.501561e-53</td>\n",
       "      <td>3.255734e-55</td>\n",
       "      <td>1.572642e-55</td>\n",
       "      <td>3.965351e-56</td>\n",
       "      <td>1.380231e-56</td>\n",
       "      <td>1.345158e-56</td>\n",
       "      <td>-2.440006e-55</td>\n",
       "    </tr>\n",
       "    <tr>\n",
       "      <th>hk01</th>\n",
       "      <td>-0.008895</td>\n",
       "      <td>0.206416</td>\n",
       "      <td>0.009244</td>\n",
       "      <td>0.036372</td>\n",
       "      <td>-0.026315</td>\n",
       "      <td>-0.040258</td>\n",
       "      <td>-0.019464</td>\n",
       "      <td>0.004447</td>\n",
       "      <td>-0.012274</td>\n",
       "      <td>-0.008885</td>\n",
       "      <td>...</td>\n",
       "      <td>-2.849370e-52</td>\n",
       "      <td>1.774938e-53</td>\n",
       "      <td>2.074674e-53</td>\n",
       "      <td>-1.602939e-52</td>\n",
       "      <td>-5.513671e-55</td>\n",
       "      <td>-2.928261e-55</td>\n",
       "      <td>-5.005879e-55</td>\n",
       "      <td>-1.632710e-55</td>\n",
       "      <td>-1.644243e-55</td>\n",
       "      <td>-5.936551e-55</td>\n",
       "    </tr>\n",
       "    <tr>\n",
       "      <th>hk02</th>\n",
       "      <td>0.007299</td>\n",
       "      <td>0.009244</td>\n",
       "      <td>0.175363</td>\n",
       "      <td>-0.063715</td>\n",
       "      <td>0.019540</td>\n",
       "      <td>-0.007084</td>\n",
       "      <td>-0.065003</td>\n",
       "      <td>-0.048744</td>\n",
       "      <td>0.005867</td>\n",
       "      <td>-0.028997</td>\n",
       "      <td>...</td>\n",
       "      <td>-1.505624e-51</td>\n",
       "      <td>-4.791185e-52</td>\n",
       "      <td>-4.094703e-52</td>\n",
       "      <td>-9.587598e-52</td>\n",
       "      <td>-1.616659e-54</td>\n",
       "      <td>-8.162026e-55</td>\n",
       "      <td>-9.029515e-55</td>\n",
       "      <td>-2.927028e-55</td>\n",
       "      <td>-2.931907e-55</td>\n",
       "      <td>1.202457e-54</td>\n",
       "    </tr>\n",
       "    <tr>\n",
       "      <th>hk03</th>\n",
       "      <td>0.002543</td>\n",
       "      <td>0.036372</td>\n",
       "      <td>-0.063715</td>\n",
       "      <td>0.144853</td>\n",
       "      <td>0.001094</td>\n",
       "      <td>0.005050</td>\n",
       "      <td>-0.018862</td>\n",
       "      <td>-0.055774</td>\n",
       "      <td>0.000824</td>\n",
       "      <td>-0.015184</td>\n",
       "      <td>...</td>\n",
       "      <td>-1.755048e-51</td>\n",
       "      <td>-2.653509e-52</td>\n",
       "      <td>-2.037283e-52</td>\n",
       "      <td>-6.910555e-52</td>\n",
       "      <td>-5.010778e-54</td>\n",
       "      <td>-2.508259e-54</td>\n",
       "      <td>-2.062730e-54</td>\n",
       "      <td>-6.824379e-55</td>\n",
       "      <td>-6.826708e-55</td>\n",
       "      <td>1.371760e-55</td>\n",
       "    </tr>\n",
       "    <tr>\n",
       "      <th>hk04</th>\n",
       "      <td>-0.017660</td>\n",
       "      <td>-0.026315</td>\n",
       "      <td>0.019540</td>\n",
       "      <td>0.001094</td>\n",
       "      <td>0.186267</td>\n",
       "      <td>-0.062307</td>\n",
       "      <td>0.014820</td>\n",
       "      <td>0.006380</td>\n",
       "      <td>-0.028052</td>\n",
       "      <td>-0.001403</td>\n",
       "      <td>...</td>\n",
       "      <td>8.766563e-52</td>\n",
       "      <td>2.036783e-52</td>\n",
       "      <td>1.653814e-52</td>\n",
       "      <td>3.207171e-52</td>\n",
       "      <td>2.682204e-54</td>\n",
       "      <td>1.328847e-54</td>\n",
       "      <td>8.331458e-55</td>\n",
       "      <td>2.757943e-55</td>\n",
       "      <td>2.745622e-55</td>\n",
       "      <td>-7.101447e-55</td>\n",
       "    </tr>\n",
       "  </tbody>\n",
       "</table>\n",
       "<p>5 rows × 48 columns</p>\n",
       "</div>"
      ],
      "text/plain": [
       "          hk00      hk01      hk02      hk03      hk04      hk05      hk06  \\\n",
       "hk00  0.244830 -0.008895  0.007299  0.002543 -0.017660 -0.015716  0.005581   \n",
       "hk01 -0.008895  0.206416  0.009244  0.036372 -0.026315 -0.040258 -0.019464   \n",
       "hk02  0.007299  0.009244  0.175363 -0.063715  0.019540 -0.007084 -0.065003   \n",
       "hk03  0.002543  0.036372 -0.063715  0.144853  0.001094  0.005050 -0.018862   \n",
       "hk04 -0.017660 -0.026315  0.019540  0.001094  0.186267 -0.062307  0.014820   \n",
       "\n",
       "          hk07      hk08      hk09  ...    w0_r20_c14    w0_r26_c10  \\\n",
       "hk00  0.001553 -0.007468  0.000299  ...  1.072802e-52  4.651382e-53   \n",
       "hk01  0.004447 -0.012274 -0.008885  ... -2.849370e-52  1.774938e-53   \n",
       "hk02 -0.048744  0.005867 -0.028997  ... -1.505624e-51 -4.791185e-52   \n",
       "hk03 -0.055774  0.000824 -0.015184  ... -1.755048e-51 -2.653509e-52   \n",
       "hk04  0.006380 -0.028052 -0.001403  ...  8.766563e-52  2.036783e-52   \n",
       "\n",
       "        w0_r29_c06    w0_r34_c12    w1_r09_c16    w1_r11_c13    w1_r20_c14  \\\n",
       "hk00  3.983267e-53  4.501561e-53  3.255734e-55  1.572642e-55  3.965351e-56   \n",
       "hk01  2.074674e-53 -1.602939e-52 -5.513671e-55 -2.928261e-55 -5.005879e-55   \n",
       "hk02 -4.094703e-52 -9.587598e-52 -1.616659e-54 -8.162026e-55 -9.029515e-55   \n",
       "hk03 -2.037283e-52 -6.910555e-52 -5.010778e-54 -2.508259e-54 -2.062730e-54   \n",
       "hk04  1.653814e-52  3.207171e-52  2.682204e-54  1.328847e-54  8.331458e-55   \n",
       "\n",
       "        w1_r26_c10    w1_r29_c06    w1_r34_c12  \n",
       "hk00  1.380231e-56  1.345158e-56 -2.440006e-55  \n",
       "hk01 -1.632710e-55 -1.644243e-55 -5.936551e-55  \n",
       "hk02 -2.927028e-55 -2.931907e-55  1.202457e-54  \n",
       "hk03 -6.824379e-55 -6.826708e-55  1.371760e-55  \n",
       "hk04  2.757943e-55  2.745622e-55 -7.101447e-55  \n",
       "\n",
       "[5 rows x 48 columns]"
      ]
     },
     "execution_count": 95,
     "metadata": {},
     "output_type": "execute_result"
    }
   ],
   "source": [
    "sc.posterior_parameter.to_dataframe().head()     # Posterior ___ PAR covariance matrix "
   ]
  },
  {
   "cell_type": "markdown",
   "metadata": {},
   "source": [
    "# Recording  prior and posterior coavariance matrix ____ Schur"
   ]
  },
  {
   "cell_type": "code",
   "execution_count": 96,
   "metadata": {},
   "outputs": [],
   "source": [
    "prior_cov = sc.parcov\n",
    "prior_cov.to_ascii(os.path.join(f_d, 'freyberg_pp.prior.cov'))\n",
    "\n",
    "post_cov = sc.posterior_parameter\n",
    "post_cov.to_ascii(os.path.join(f_d, 'freyberg_pp.post.cov'))"
   ]
  },
  {
   "cell_type": "code",
   "execution_count": 100,
   "metadata": {},
   "outputs": [
    {
     "data": {
      "text/html": [
       "<div>\n",
       "<style scoped>\n",
       "    .dataframe tbody tr th:only-of-type {\n",
       "        vertical-align: middle;\n",
       "    }\n",
       "\n",
       "    .dataframe tbody tr th {\n",
       "        vertical-align: top;\n",
       "    }\n",
       "\n",
       "    .dataframe thead th {\n",
       "        text-align: right;\n",
       "    }\n",
       "</style>\n",
       "<table border=\"1\" class=\"dataframe\">\n",
       "  <thead>\n",
       "    <tr style=\"text-align: right;\">\n",
       "      <th></th>\n",
       "      <th>travel_time</th>\n",
       "      <th>fa_headwaters_0001</th>\n",
       "      <th>c001fr16c17_19791231</th>\n",
       "      <th>c001fr05c04_19791231</th>\n",
       "    </tr>\n",
       "  </thead>\n",
       "  <tbody>\n",
       "    <tr>\n",
       "      <th>hk00</th>\n",
       "      <td>356.367939</td>\n",
       "      <td>-7.405048</td>\n",
       "      <td>0.000463</td>\n",
       "      <td>-0.292268</td>\n",
       "    </tr>\n",
       "    <tr>\n",
       "      <th>hk01</th>\n",
       "      <td>597.032671</td>\n",
       "      <td>-28.231777</td>\n",
       "      <td>0.002083</td>\n",
       "      <td>-1.266727</td>\n",
       "    </tr>\n",
       "    <tr>\n",
       "      <th>hk02</th>\n",
       "      <td>812.241332</td>\n",
       "      <td>-37.950877</td>\n",
       "      <td>-0.000926</td>\n",
       "      <td>-1.252610</td>\n",
       "    </tr>\n",
       "    <tr>\n",
       "      <th>hk03</th>\n",
       "      <td>738.191231</td>\n",
       "      <td>-27.537541</td>\n",
       "      <td>-0.006248</td>\n",
       "      <td>-0.964508</td>\n",
       "    </tr>\n",
       "    <tr>\n",
       "      <th>hk04</th>\n",
       "      <td>719.677223</td>\n",
       "      <td>-32.628453</td>\n",
       "      <td>0.000926</td>\n",
       "      <td>-0.301987</td>\n",
       "    </tr>\n",
       "  </tbody>\n",
       "</table>\n",
       "</div>"
      ],
      "text/plain": [
       "      travel_time  fa_headwaters_0001  c001fr16c17_19791231  \\\n",
       "hk00   356.367939           -7.405048              0.000463   \n",
       "hk01   597.032671          -28.231777              0.002083   \n",
       "hk02   812.241332          -37.950877             -0.000926   \n",
       "hk03   738.191231          -27.537541             -0.006248   \n",
       "hk04   719.677223          -32.628453              0.000926   \n",
       "\n",
       "      c001fr05c04_19791231  \n",
       "hk00             -0.292268  \n",
       "hk01             -1.266727  \n",
       "hk02             -1.252610  \n",
       "hk03             -0.964508  \n",
       "hk04             -0.301987  "
      ]
     },
     "execution_count": 100,
     "metadata": {},
     "output_type": "execute_result"
    }
   ],
   "source": [
    "# sc.forecast_names\n",
    "sc.forecasts.to_dataframe().head()          # forecast sensitivity vectors"
   ]
  },
  {
   "cell_type": "code",
   "execution_count": 101,
   "metadata": {},
   "outputs": [
    {
     "data": {
      "text/html": [
       "<div>\n",
       "<style scoped>\n",
       "    .dataframe tbody tr th:only-of-type {\n",
       "        vertical-align: middle;\n",
       "    }\n",
       "\n",
       "    .dataframe tbody tr th {\n",
       "        vertical-align: top;\n",
       "    }\n",
       "\n",
       "    .dataframe thead th {\n",
       "        text-align: right;\n",
       "    }\n",
       "</style>\n",
       "<table border=\"1\" class=\"dataframe\">\n",
       "  <thead>\n",
       "    <tr style=\"text-align: right;\">\n",
       "      <th></th>\n",
       "      <th>prior_var</th>\n",
       "      <th>post_var</th>\n",
       "      <th>percent_reduction</th>\n",
       "    </tr>\n",
       "  </thead>\n",
       "  <tbody>\n",
       "    <tr>\n",
       "      <th>travel_time</th>\n",
       "      <td>6.851805e+08</td>\n",
       "      <td>4.490640e+08</td>\n",
       "      <td>34.460481</td>\n",
       "    </tr>\n",
       "    <tr>\n",
       "      <th>fa_headwaters_0001</th>\n",
       "      <td>8.430109e+05</td>\n",
       "      <td>6.322101e+05</td>\n",
       "      <td>25.005708</td>\n",
       "    </tr>\n",
       "    <tr>\n",
       "      <th>c001fr16c17_19791231</th>\n",
       "      <td>1.889666e-01</td>\n",
       "      <td>8.349993e-02</td>\n",
       "      <td>55.812338</td>\n",
       "    </tr>\n",
       "    <tr>\n",
       "      <th>c001fr05c04_19791231</th>\n",
       "      <td>6.836951e+00</td>\n",
       "      <td>1.270466e+00</td>\n",
       "      <td>81.417657</td>\n",
       "    </tr>\n",
       "  </tbody>\n",
       "</table>\n",
       "</div>"
      ],
      "text/plain": [
       "                         prior_var      post_var  percent_reduction\n",
       "travel_time           6.851805e+08  4.490640e+08          34.460481\n",
       "fa_headwaters_0001    8.430109e+05  6.322101e+05          25.005708\n",
       "c001fr16c17_19791231  1.889666e-01  8.349993e-02          55.812338\n",
       "c001fr05c04_19791231  6.836951e+00  1.270466e+00          81.417657"
      ]
     },
     "execution_count": 101,
     "metadata": {},
     "output_type": "execute_result"
    }
   ],
   "source": [
    "sc.get_forecast_summary()"
   ]
  },
  {
   "cell_type": "markdown",
   "metadata": {},
   "source": [
    "### ` PAR__OBS ` Ensembles - (multivariate) (log) gaussian, uniform and triangular distributions PAR to `Pst`"
   ]
  },
  {
   "cell_type": "code",
   "execution_count": 104,
   "metadata": {},
   "outputs": [],
   "source": [
    "pst = pyemu.Pst(os.path.join(f_d,\"freyberg_pp.pst\"))               # *.pst __re-load and get rid of changes"
   ]
  },
  {
   "cell_type": "code",
   "execution_count": 105,
   "metadata": {},
   "outputs": [],
   "source": [
    "pe = pyemu.ParameterEnsemble.from_gaussian_draw(pst,               # prior PAR ensemble from bounds\n",
    "                                                num_reals=200,)    # the number of realisations                                                 "
   ]
  },
  {
   "cell_type": "code",
   "execution_count": null,
   "metadata": {},
   "outputs": [],
   "source": [
    "pe = pyemu.ParameterEnsemble.from_gaussian_draw(pst,          \n",
    "                                                num_reals=200, \n",
    "                                                cov=prior_cov)    # parameter covariance (if any)"
   ]
  },
  {
   "cell_type": "code",
   "execution_count": 106,
   "metadata": {},
   "outputs": [
    {
     "data": {
      "text/html": [
       "<div>\n",
       "<style scoped>\n",
       "    .dataframe tbody tr th:only-of-type {\n",
       "        vertical-align: middle;\n",
       "    }\n",
       "\n",
       "    .dataframe tbody tr th {\n",
       "        vertical-align: top;\n",
       "    }\n",
       "\n",
       "    .dataframe thead th {\n",
       "        text-align: right;\n",
       "    }\n",
       "</style>\n",
       "<table border=\"1\" class=\"dataframe\">\n",
       "  <thead>\n",
       "    <tr style=\"text-align: right;\">\n",
       "      <th></th>\n",
       "      <th>hk00</th>\n",
       "      <th>hk01</th>\n",
       "      <th>hk02</th>\n",
       "      <th>hk03</th>\n",
       "      <th>hk04</th>\n",
       "      <th>hk05</th>\n",
       "      <th>hk06</th>\n",
       "      <th>hk07</th>\n",
       "      <th>hk08</th>\n",
       "      <th>hk09</th>\n",
       "      <th>...</th>\n",
       "      <th>w0_r20_c14</th>\n",
       "      <th>w0_r26_c10</th>\n",
       "      <th>w0_r29_c06</th>\n",
       "      <th>w0_r34_c12</th>\n",
       "      <th>w1_r09_c16</th>\n",
       "      <th>w1_r11_c13</th>\n",
       "      <th>w1_r20_c14</th>\n",
       "      <th>w1_r26_c10</th>\n",
       "      <th>w1_r29_c06</th>\n",
       "      <th>w1_r34_c12</th>\n",
       "    </tr>\n",
       "  </thead>\n",
       "  <tbody>\n",
       "    <tr>\n",
       "      <th>0</th>\n",
       "      <td>4.282251</td>\n",
       "      <td>0.515513</td>\n",
       "      <td>7.223507</td>\n",
       "      <td>6.598328</td>\n",
       "      <td>3.976811</td>\n",
       "      <td>13.535871</td>\n",
       "      <td>0.270134</td>\n",
       "      <td>7.083131</td>\n",
       "      <td>2.048404</td>\n",
       "      <td>3.683788</td>\n",
       "      <td>...</td>\n",
       "      <td>0.903788</td>\n",
       "      <td>1.025566</td>\n",
       "      <td>1.312461</td>\n",
       "      <td>0.872655</td>\n",
       "      <td>0.811879</td>\n",
       "      <td>0.436411</td>\n",
       "      <td>2.242973</td>\n",
       "      <td>0.355375</td>\n",
       "      <td>0.966883</td>\n",
       "      <td>2.134213</td>\n",
       "    </tr>\n",
       "    <tr>\n",
       "      <th>1</th>\n",
       "      <td>2.976066</td>\n",
       "      <td>1.180545</td>\n",
       "      <td>3.497429</td>\n",
       "      <td>45.684562</td>\n",
       "      <td>1.567815</td>\n",
       "      <td>6.020359</td>\n",
       "      <td>14.559707</td>\n",
       "      <td>2.636632</td>\n",
       "      <td>3.726345</td>\n",
       "      <td>38.282455</td>\n",
       "      <td>...</td>\n",
       "      <td>0.685774</td>\n",
       "      <td>1.883592</td>\n",
       "      <td>1.395199</td>\n",
       "      <td>1.267102</td>\n",
       "      <td>1.833112</td>\n",
       "      <td>1.181557</td>\n",
       "      <td>6.275507</td>\n",
       "      <td>0.620140</td>\n",
       "      <td>1.077183</td>\n",
       "      <td>0.150306</td>\n",
       "    </tr>\n",
       "    <tr>\n",
       "      <th>2</th>\n",
       "      <td>29.317058</td>\n",
       "      <td>3.487239</td>\n",
       "      <td>8.351074</td>\n",
       "      <td>4.415397</td>\n",
       "      <td>3.004822</td>\n",
       "      <td>16.145483</td>\n",
       "      <td>5.971614</td>\n",
       "      <td>2.112364</td>\n",
       "      <td>2.379113</td>\n",
       "      <td>1.515109</td>\n",
       "      <td>...</td>\n",
       "      <td>1.791839</td>\n",
       "      <td>0.998246</td>\n",
       "      <td>0.967017</td>\n",
       "      <td>1.484172</td>\n",
       "      <td>0.654332</td>\n",
       "      <td>2.742581</td>\n",
       "      <td>3.145955</td>\n",
       "      <td>3.422599</td>\n",
       "      <td>1.326742</td>\n",
       "      <td>0.286130</td>\n",
       "    </tr>\n",
       "    <tr>\n",
       "      <th>3</th>\n",
       "      <td>1.709065</td>\n",
       "      <td>1.389110</td>\n",
       "      <td>3.479177</td>\n",
       "      <td>12.573553</td>\n",
       "      <td>10.966852</td>\n",
       "      <td>22.722124</td>\n",
       "      <td>5.297299</td>\n",
       "      <td>1.799255</td>\n",
       "      <td>31.481663</td>\n",
       "      <td>8.067702</td>\n",
       "      <td>...</td>\n",
       "      <td>0.832192</td>\n",
       "      <td>1.092288</td>\n",
       "      <td>1.183589</td>\n",
       "      <td>0.568519</td>\n",
       "      <td>0.420843</td>\n",
       "      <td>0.675903</td>\n",
       "      <td>3.503355</td>\n",
       "      <td>1.133376</td>\n",
       "      <td>4.211715</td>\n",
       "      <td>0.850177</td>\n",
       "    </tr>\n",
       "    <tr>\n",
       "      <th>4</th>\n",
       "      <td>9.302456</td>\n",
       "      <td>4.684586</td>\n",
       "      <td>41.817348</td>\n",
       "      <td>2.917515</td>\n",
       "      <td>6.320494</td>\n",
       "      <td>3.794088</td>\n",
       "      <td>3.437952</td>\n",
       "      <td>6.623821</td>\n",
       "      <td>2.016632</td>\n",
       "      <td>4.290341</td>\n",
       "      <td>...</td>\n",
       "      <td>1.186924</td>\n",
       "      <td>1.037061</td>\n",
       "      <td>0.960814</td>\n",
       "      <td>0.604084</td>\n",
       "      <td>0.187716</td>\n",
       "      <td>0.803481</td>\n",
       "      <td>0.965624</td>\n",
       "      <td>2.498882</td>\n",
       "      <td>0.637866</td>\n",
       "      <td>4.123936</td>\n",
       "    </tr>\n",
       "  </tbody>\n",
       "</table>\n",
       "<p>5 rows × 48 columns</p>\n",
       "</div>"
      ],
      "text/plain": [
       "        hk00      hk01       hk02       hk03       hk04       hk05       hk06  \\\n",
       "0   4.282251  0.515513   7.223507   6.598328   3.976811  13.535871   0.270134   \n",
       "1   2.976066  1.180545   3.497429  45.684562   1.567815   6.020359  14.559707   \n",
       "2  29.317058  3.487239   8.351074   4.415397   3.004822  16.145483   5.971614   \n",
       "3   1.709065  1.389110   3.479177  12.573553  10.966852  22.722124   5.297299   \n",
       "4   9.302456  4.684586  41.817348   2.917515   6.320494   3.794088   3.437952   \n",
       "\n",
       "       hk07       hk08       hk09  ...  w0_r20_c14  w0_r26_c10  w0_r29_c06  \\\n",
       "0  7.083131   2.048404   3.683788  ...    0.903788    1.025566    1.312461   \n",
       "1  2.636632   3.726345  38.282455  ...    0.685774    1.883592    1.395199   \n",
       "2  2.112364   2.379113   1.515109  ...    1.791839    0.998246    0.967017   \n",
       "3  1.799255  31.481663   8.067702  ...    0.832192    1.092288    1.183589   \n",
       "4  6.623821   2.016632   4.290341  ...    1.186924    1.037061    0.960814   \n",
       "\n",
       "   w0_r34_c12  w1_r09_c16  w1_r11_c13  w1_r20_c14  w1_r26_c10  w1_r29_c06  \\\n",
       "0    0.872655    0.811879    0.436411    2.242973    0.355375    0.966883   \n",
       "1    1.267102    1.833112    1.181557    6.275507    0.620140    1.077183   \n",
       "2    1.484172    0.654332    2.742581    3.145955    3.422599    1.326742   \n",
       "3    0.568519    0.420843    0.675903    3.503355    1.133376    4.211715   \n",
       "4    0.604084    0.187716    0.803481    0.965624    2.498882    0.637866   \n",
       "\n",
       "   w1_r34_c12  \n",
       "0    2.134213  \n",
       "1    0.150306  \n",
       "2    0.286130  \n",
       "3    0.850177  \n",
       "4    4.123936  \n",
       "\n",
       "[5 rows x 48 columns]"
      ]
     },
     "execution_count": 106,
     "metadata": {},
     "output_type": "execute_result"
    }
   ],
   "source": [
    "pe.head()  # Each row is an individual realisation. Each column is a parameter"
   ]
  },
  {
   "cell_type": "code",
   "execution_count": 111,
   "metadata": {},
   "outputs": [
    {
     "data": {
      "text/plain": [
       "Text(0, 0.5, 'number of realisations')"
      ]
     },
     "execution_count": 111,
     "metadata": {},
     "output_type": "execute_result"
    },
    {
     "data": {
      "image/png": "[encoded data removed]",
      "text/plain": [
       "<Figure size 640x480 with 1 Axes>"
      ]
     },
     "metadata": {},
     "output_type": "display_data"
    }
   ],
   "source": [
    "pe.loc[:, 'rch_0'].apply(np.log10).hist(bins=50)       # par.loc[\"rch_0\",\"partrans\"] = LOG, so, ...\n",
    "plt.xlabel('$log_{10}$ parameter value')\n",
    "plt.ylabel('number of realisations')\n",
    "# pe.loc[:, 'rch_0'].hist(bins=100)                    # normal\n",
    "# plt.xlabel('parameter value')\n",
    "# plt.ylabel('number of realisations')"
   ]
  },
  {
   "cell_type": "code",
   "execution_count": 113,
   "metadata": {},
   "outputs": [
    {
     "data": {
      "text/plain": [
       "parlbnd    0.5\n",
       "parubnd    2.0\n",
       "Name: rch_0, dtype: object"
      ]
     },
     "execution_count": 113,
     "metadata": {},
     "output_type": "execute_result"
    }
   ],
   "source": [
    "par.loc['rch_0', ['parlbnd','parubnd']]"
   ]
  },
  {
   "cell_type": "code",
   "execution_count": 114,
   "metadata": {},
   "outputs": [
    {
     "data": {
      "text/plain": [
       "(np.float64(0.3857808566579352), np.float64(2.5465607610049568))"
      ]
     },
     "execution_count": 114,
     "metadata": {},
     "output_type": "execute_result"
    }
   ],
   "source": [
    "pe.loc[:,\"rch_0\"].min(),pe.loc[:,\"rch_0\"].max()"
   ]
  },
  {
   "cell_type": "code",
   "execution_count": 115,
   "metadata": {},
   "outputs": [
    {
     "data": {
      "text/plain": [
       "Text(0, 0.5, 'number of realisations')"
      ]
     },
     "execution_count": 115,
     "metadata": {},
     "output_type": "execute_result"
    },
    {
     "data": {
      "image/png": "[encoded data removed]",
      "text/plain": [
       "<Figure size 640x480 with 1 Axes>"
      ]
     },
     "metadata": {},
     "output_type": "display_data"
    }
   ],
   "source": [
    "pe.enforce()                           # enforce parmeter bounds.. as a \"truncated gaussian distribution\"\n",
    "pe.loc[:, 'rch_0'].hist()\n",
    "plt.xlabel('parameter value')\n",
    "plt.ylabel('number of realisations')"
   ]
  },
  {
   "cell_type": "code",
   "execution_count": 141,
   "metadata": {},
   "outputs": [],
   "source": [
    "# plot_cols = pe.columns[0:8].tolist()            # select column (e.g. parameter) names\n",
    "# pe.plot(bins=50, \n",
    "#         plot_cols=plot_cols,                    # columns to plot\n",
    "#         filename=None, )                        # __________________external filename to record plot  !!!"
   ]
  },
  {
   "cell_type": "code",
   "execution_count": 118,
   "metadata": {},
   "outputs": [],
   "source": [
    "# pe.to_csv(os.path.join(f_d, 'prior_pe.csv'))          # record an ensemble to external files \n",
    "# pe.to_binary(os.path.join(f_d,'prior_pe.jcb'))"
   ]
  },
  {
   "cell_type": "code",
   "execution_count": 119,
   "metadata": {},
   "outputs": [],
   "source": [
    "pe = pyemu.ParameterEnsemble.from_csv(pst, filename=os.path.join(f_d, 'prior_pe.csv'))             # read then \n",
    "pe_b = pyemu.ParameterEnsemble.from_binary(pst, filename=os.path.join(f_d, 'prior_pe.jcb'))"
   ]
  },
  {
   "cell_type": "code",
   "execution_count": 121,
   "metadata": {},
   "outputs": [
    {
     "name": "stdout",
     "output_type": "stream",
     "text": [
      "return type uncaught, losing Ensemble type, returning DataFrame\n"
     ]
    },
    {
     "data": {
      "text/plain": [
       "<matplotlib.colorbar.Colorbar at 0x29fbffe6350>"
      ]
     },
     "execution_count": 121,
     "metadata": {},
     "output_type": "execute_result"
    },
    {
     "data": {
      "image/png": "[encoded data removed]",
      "text/plain": [
       "<Figure size 640x480 with 2 Axes>"
      ]
     },
     "metadata": {},
     "output_type": "display_data"
    }
   ],
   "source": [
    "emp_cov = pe.covariance_matrix()       # form an empirical covariance matrix from an ensemble!\n",
    "x = emp_cov.x.copy()\n",
    "x[x<1.0e-2] = np.nan\n",
    "c = plt.imshow(x)\n",
    "plt.colorbar(c)"
   ]
  },
  {
   "cell_type": "markdown",
   "metadata": {},
   "source": [
    "# `Bayes  Monte Carlo ` -  linearized posterior parameter distribution\n",
    "\n",
    "- previously calibrated model and calculated post-calibration Jacobian matrix. \n",
    "- Then... post-calibration parameter covariance\n",
    "\n",
    "The \"calibrated\" parameter values = mean of the posterior parameter probability distribution. By centering the distribution on values that already provide a good fit with measurment data, we are increasing the likelihood that the realisatiosn that we draw will also fit measured data well. This can be useful in reducing subsequent history-matching computation time."
   ]
  },
  {
   "cell_type": "code",
   "execution_count": 124,
   "metadata": {},
   "outputs": [
    {
     "name": "stdout",
     "output_type": "stream",
     "text": [
      "drawing from group hk\n",
      "drawing from group porosity\n",
      "drawing from group rch\n",
      "drawing from group sfr\n",
      "drawing from group w0\n",
      "drawing from group w1\n"
     ]
    }
   ],
   "source": [
    "pe_post = pyemu.ParameterEnsemble.from_gaussian_draw(pst=pst,\n",
    "                                                    cov=post_cov, \n",
    "                                                    num_reals=200)\n",
    "pe_post.enforce()"
   ]
  },
  {
   "cell_type": "code",
   "execution_count": 133,
   "metadata": {},
   "outputs": [
    {
     "data": {
      "text/plain": [
       "<Axes: >"
      ]
     },
     "execution_count": 133,
     "metadata": {},
     "output_type": "execute_result"
    },
    {
     "data": {
      "image/png": "[encoded data removed]",
      "text/plain": [
       "<Figure size 640x480 with 1 Axes>"
      ]
     },
     "metadata": {},
     "output_type": "display_data"
    }
   ],
   "source": [
    "pe.loc[:, 'rch_0'].hist(alpha=0.5,color=\"0.5\")                           # prior \n",
    "pe_post.loc[:, 'rch_0'].hist(alpha=0.5,color=\"b\")                        # posterior\n",
    "# pe_post.loc[:, 'hk00'].plot(kind=\"hist\",bins=20,ax2=ax2,alpha=0.5)     # other Parameter .. ax1,2 err"
   ]
  },
  {
   "cell_type": "code",
   "execution_count": 135,
   "metadata": {},
   "outputs": [],
   "source": [
    "# pyemu.plot_utils.ensemble_change_summary(pe, pe_post, pst)     # plots the change between two ensembles"
   ]
  },
  {
   "cell_type": "code",
   "execution_count": 140,
   "metadata": {},
   "outputs": [],
   "source": [
    "# pyemu.plot_utils.ensemble_helper(ensemble={\"0.5\":pe, \"b\":pe_post,},\n",
    "#                                     filename=None,\n",
    "#                                     plot_cols=plot_cols,)"
   ]
  }
 ],
 "metadata": {
  "kernelspec": {
   "display_name": "Python 3 (ipykernel)",
   "language": "python",
   "name": "python3"
  },
  "language_info": {
   "codemirror_mode": {
    "name": "ipython",
    "version": 3
   },
   "file_extension": ".py",
   "mimetype": "text/x-python",
   "name": "python",
   "nbconvert_exporter": "python",
   "pygments_lexer": "ipython3",
   "version": "3.13.1"
  }
 },
 "nbformat": 4,
 "nbformat_minor": 4
}
