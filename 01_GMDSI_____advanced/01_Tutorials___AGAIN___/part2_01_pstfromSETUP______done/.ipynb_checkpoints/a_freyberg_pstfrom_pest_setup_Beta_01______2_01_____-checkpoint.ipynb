{
 "cells": [
  {
   "attachments": {},
   "cell_type": "markdown",
   "metadata": {},
   "source": [
    "## ` 01, 02, 03, 04 `   _______________   ` part2_01_PEST SETUP ` _____________ pstfrom"
   ]
  },
  {
   "cell_type": "code",
   "execution_count": 1,
   "metadata": {},
   "outputs": [],
   "source": [
    "import sys\n",
    "import os\n",
    "import shutil\n",
    "import platform\n",
    "import warnings\n",
    "warnings.filterwarnings(\"ignore\")\n",
    "warnings.filterwarnings(\"ignore\", category=DeprecationWarning) \n",
    "import pandas as pd\n",
    "import numpy as np\n",
    "import matplotlib.pyplot as plt;\n",
    "import pyemu\n",
    "import flopy                          \n",
    "sys.path.insert(0,\"..\")\n",
    "import herebedragons as hbd"
   ]
  },
  {
   "cell_type": "code",
   "execution_count": 2,
   "metadata": {},
   "outputs": [],
   "source": [
    "# assert \"dependencies\" in flopy.__file__      # assert \"dependencies\" in pyemu.__file__"
   ]
  },
  {
   "cell_type": "code",
   "execution_count": 3,
   "metadata": {},
   "outputs": [],
   "source": [
    "org_d = os.path.join('..', '..', 'models', 'monthly_model_files_1lyr_newstress')\n",
    "tmp_d = os.path.join('a1_Pstfrom_data_IN_Frey')                                                           # New folder\n",
    "if os.path.exists(tmp_d):\n",
    "    shutil.rmtree(tmp_d)\n",
    "shutil.copytree(org_d,tmp_d)\n",
    "hbd.prep_bins(tmp_d)                                      # get executables                 _____ org_d  ____   tmp_d _____\n",
    "hbd.prep_deps(tmp_d)                                      # get dependency folders"
   ]
  },
  {
   "cell_type": "code",
   "execution_count": 4,
   "metadata": {},
   "outputs": [
    {
     "name": "stdout",
     "output_type": "stream",
     "text": [
      "loading simulation...\n",
      "  loading simulation name file...\n",
      "  loading tdis package...\n",
      "  loading model gwf6...\n",
      "    loading package dis...\n",
      "    loading package ic...\n",
      "    loading package npf...\n",
      "    loading package sto...\n",
      "    loading package oc...\n",
      "    loading package wel...\n",
      "    loading package rch...\n",
      "    loading package ghb...\n",
      "    loading package sfr...\n",
      "    loading package obs...\n",
      "  loading solution package freyberg6...\n",
      "mf6.exe\n"
     ]
    }
   ],
   "source": [
    "# os.listdir(tmp_d)                                      `GUI ___PstFrom` \n",
    "sim = flopy.mf6.MFSimulation.load(sim_ws=tmp_d)           # simulation                          \n",
    "gwf = sim.get_model()                                     # flow model\n",
    "pyemu.os_utils.run(\"mf6\",cwd=tmp_d)                       # run _________________________________ made beforehand with flopy "
   ]
  },
  {
   "cell_type": "code",
   "execution_count": 5,
   "metadata": {},
   "outputs": [
    {
     "name": "stdout",
     "output_type": "stream",
     "text": [
      "mp7.exe freyberg_mp.mpsim\n"
     ]
    }
   ],
   "source": [
    "pyemu.os_utils.run(r'mp7 freyberg_mp.mpsim', cwd=tmp_d)   # run  "
   ]
  },
  {
   "cell_type": "markdown",
   "metadata": {},
   "source": [
    "## ` 05 ___ Spatial Reference`"
   ]
  },
  {
   "cell_type": "code",
   "execution_count": 6,
   "metadata": {},
   "outputs": [
    {
     "name": "stdout",
     "output_type": "stream",
     "text": [
      "   could not remove start_datetime\n"
     ]
    }
   ],
   "source": [
    "sr = pyemu.helpers.SpatialReference.from_namfile(os.path.join(tmp_d, \"freyberg6.nam\"),                               \n",
    "        delr=gwf.dis.delr.array, delc=gwf.dis.delc.array)                 \n",
    "# sr"
   ]
  },
  {
   "cell_type": "code",
   "execution_count": 7,
   "metadata": {},
   "outputs": [],
   "source": [
    "template_ws = os.path.join(\"a1_Pstfrom_Katie_new_folder\")                    # New Folder !\n",
    "start_datetime=\"1-1-2008\"\n",
    "\n",
    "pf = pyemu.utils.PstFrom(original_d=tmp_d,                 # PROJECT\n",
    "                            new_d=template_ws,             # folder\n",
    "                            remove_existing=True,           \n",
    "                            longnames=True,                 \n",
    "                            spatial_reference=sr,          # spatial reference\n",
    "                            zero_based=False,              \n",
    "                            start_datetime=start_datetime, # temporal correlation\n",
    "                            echo=False)                    "
   ]
  },
  {
   "cell_type": "markdown",
   "metadata": {},
   "source": [
    "# <font color='blue'> 06 __ OBS </font>"
   ]
  },
  {
   "cell_type": "code",
   "execution_count": 8,
   "metadata": {},
   "outputs": [],
   "source": [
    "df = pd.read_csv(os.path.join(template_ws,\"heads.csv\"),index_col=0)              # Loading dataframe (PANDAS)\n",
    "hds_df = pf.add_observations(\"heads.csv\",                                \n",
    "                            insfile=\"heads.csv.ins\",                             # INS ____ to pst\n",
    "                            index_cols=\"time\",                           \n",
    "                            use_cols=list(df.columns.values),            \n",
    "                            prefix=\"hds\")                                \n",
    "\n",
    "df = pd.read_csv(os.path.join(template_ws, \"sfr.csv\"), index_col=0)      \n",
    "sfr_df = pf.add_observations(\"sfr.csv\", \n",
    "                            insfile=\"sfr.csv.ins\", \n",
    "                            index_cols=\"time\", \n",
    "                            use_cols=list(df.columns.values),                    # index   \n",
    "                            prefix=\"sfr\")                                "
   ]
  },
  {
   "cell_type": "code",
   "execution_count": 9,
   "metadata": {},
   "outputs": [],
   "source": [
    "# df.tail()            # df.head()                                               # sfr __no__"
   ]
  },
  {
   "cell_type": "code",
   "execution_count": 10,
   "metadata": {},
   "outputs": [],
   "source": [
    "# hds_df.head()        # sfr_df.head()"
   ]
  },
  {
   "cell_type": "code",
   "execution_count": 11,
   "metadata": {},
   "outputs": [
    {
     "name": "stdout",
     "output_type": "stream",
     "text": [
      "noptmax:0, npar_adj:0, nnz_obs:400\n"
     ]
    }
   ],
   "source": [
    "pst = pf.build_pst()    "
   ]
  },
  {
   "cell_type": "markdown",
   "metadata": {},
   "source": [
    "# <font color='red'> 07 __ PAR </font>"
   ]
  },
  {
   "cell_type": "code",
   "execution_count": 12,
   "metadata": {},
   "outputs": [],
   "source": [
    "# len([f for f in os.listdir(template_ws) if f.endswith(\".txt\")])"
   ]
  },
  {
   "cell_type": "code",
   "execution_count": 13,
   "metadata": {},
   "outputs": [],
   "source": [
    "# len([f for f in os.listdir(template_ws) if f.endswith(\".tpl\")])"
   ]
  },
  {
   "cell_type": "markdown",
   "metadata": {},
   "source": [
    "### <font color='red'> Geostatistics ____________________ </font> Kh, Kv, Ss, Sy, RCH (xyz,T). GHB, SFR, WELL (,T)"
   ]
  },
  {
   "cell_type": "code",
   "execution_count": 14,
   "metadata": {},
   "outputs": [],
   "source": [
    "v_grid = pyemu.geostats.ExpVario(contribution=1.0, a=1000, anisotropy=1.0,bearing=0.0)\n",
    "grid_gs = pyemu.geostats.GeoStruct(variograms=v_grid, transform='log')                     # _____  grid_gs          # ax = grid_gs.plot()                                          \n",
    "\n",
    "v_pp = pyemu.geostats.ExpVario(contribution=1.0, a=15000, anisotropy=1.0, bearing=0.0)\n",
    "pp_gs = pyemu.geostats.GeoStruct(variograms=v_pp, transform='log')                         # _____  pp_gs            # _ = pp_gs.plot()            \n",
    "\n",
    "v_time = pyemu.geostats.ExpVario(contribution=1.0, a=60, anisotropy=1.0, bearing=0.0)\n",
    "temporal_gs = pyemu.geostats.GeoStruct(variograms=v_time, transform='none')                # ______ tempotal_gs      # ax = v_time.plot()"
   ]
  },
  {
   "cell_type": "markdown",
   "metadata": {},
   "source": [
    "### `07a __ K       ` GRID ______ PILOT POINTS ______ CTE"
   ]
  },
  {
   "cell_type": "code",
   "execution_count": 15,
   "metadata": {},
   "outputs": [],
   "source": [
    "# plot    df = pf.add_observations(f,prefix=\"hk\",zone_array=ib)        df \n",
    "# df_gr.tail()"
   ]
  },
  {
   "cell_type": "code",
   "execution_count": 16,
   "metadata": {},
   "outputs": [
    {
     "name": "stdout",
     "output_type": "stream",
     "text": [
      "['freyberg6.npf_k_layer1.txt']\n",
      "starting interp point loop for 706 points\n",
      "starting 0\n",
      "starting 1\n",
      "starting 2\n",
      "starting 3\n",
      "starting 4\n",
      "starting 5\n",
      "starting 6\n",
      "starting 7\n",
      "starting 8\n",
      "starting 9\n",
      "took 3.94727 seconds\n"
     ]
    }
   ],
   "source": [
    "tag = \"npf_k_\"\n",
    "files = [f for f in os.listdir(template_ws) if tag in f.lower() and f.endswith(\".txt\")] \n",
    "print(files) \n",
    "ib = gwf.dis.idomain.array[0]                                         # inactive cells        # ib\n",
    "# plt.imshow(ib)  \n",
    "\n",
    "f = 'freyberg6.npf_k_layer1.txt'\n",
    "df_gr = pf.add_parameters(f, zone_array=ib, par_type=\"grid\", geostruct=grid_gs,               # __________________  grid_gs\n",
    "                par_name_base=f.split('.')[1].replace(\"_\",\"\")+\"gr\",                               \n",
    "                pargp=f.split('.')[1].replace(\"_\",\"\")+\"gr\",                                   \n",
    "                ult_ubound=100, upper_bound=5.0,     lower_bound=0.2, ult_lbound=0.01)     \n",
    "\n",
    "df_pp = pf.add_parameters(f, zone_array=ib, par_type=\"pilotpoints\", geostruct=pp_gs,          # __________________ pp_gs\n",
    "                par_name_base=f.split('.')[1].replace(\"_\",\"\")+\"pp\",\n",
    "                pargp=f.split('.')[1].replace(\"_\",\"\")+\"pp\",\n",
    "                ult_ubound=100, upper_bound=5.0,      lower_bound=0.2, ult_lbound=0.01, pp_space=5)  # ___________ Position\n",
    "\n",
    "df_cst = pf.add_parameters(f, zone_array=ib, par_type=\"constant\", geostruct=grid_gs,          # __________________ grid_gs\n",
    "                par_name_base=f.split('.')[1].replace(\"_\",\"\")+\"cn\",\n",
    "                pargp=f.split('.')[1].replace(\"_\",\"\")+\"cn\",\n",
    "                ult_ubound=100, upper_bound=5.0,       lower_bound=0.2, ult_lbound=0.01)      # new archives *.zone + *.tpl = *.INS    "
   ]
  },
  {
   "cell_type": "code",
   "execution_count": 17,
   "metadata": {},
   "outputs": [
    {
     "data": {
      "text/plain": [
       "3"
      ]
     },
     "execution_count": 17,
     "metadata": {},
     "output_type": "execute_result"
    }
   ],
   "source": [
    "len([f for f in os.listdir(template_ws) if f.endswith(\".tpl\")])"
   ]
  },
  {
   "cell_type": "code",
   "execution_count": 18,
   "metadata": {},
   "outputs": [],
   "source": [
    "#fig,ax = plt.subplots(1,1,figsize=(2,3))                                                      # PLOT\n",
    "#ax.set_aspect(\"equal\")\n",
    "#ax.pcolormesh(sr.xcentergrid, sr.ycentergrid,ib)\n",
    "#ax.scatter(df_pp.x,df_pp.y)"
   ]
  },
  {
   "cell_type": "code",
   "execution_count": 19,
   "metadata": {},
   "outputs": [],
   "source": [
    " # [f for f in os.listdir(template_ws) if f.endswith(\".zone\")]  "
   ]
  },
  {
   "cell_type": "code",
   "execution_count": 20,
   "metadata": {},
   "outputs": [],
   "source": [
    "#fig,ax = plt.subplots(1,1,figsize=(2,3))                                                      # PLOT\n",
    "#ax.set_aspect(\"equal\")\n",
    "#ax.pcolormesh(sr.xcentergrid, sr.ycentergrid,ib)\n",
    "#ax.scatter(df_pp.x,df_pp.y)"
   ]
  },
  {
   "cell_type": "markdown",
   "metadata": {},
   "source": [
    "    \"\"\" def add_mult_pars(f, lb=0.2, ub=5.0, ulb=0.01, uub=100, add_coarse=True):\n",
    "    if isinstance(f,str):\n",
    "        base = f.split(\".\")[1].replace(\"_\",\"\")\n",
    "    else:\n",
    "        base = f[0].split(\".\")[1]\n",
    "    # grid (fine) scale parameters\n",
    "    pf.add_parameters(f,\n",
    "                    zone_array=ib,\n",
    "                    par_type=\"grid\", #specify the type, these will be unique parameters for each cell\n",
    "                    geostruct=grid_gs, # the gestatisical structure for spatial correlation \n",
    "                    par_name_base=base+\"gr\", #specify a parameter name base that allows us to easily identify the filename and parameter type. \"_gr\" for \"grid\", and so forth.\n",
    "                    pargp=base+\"gr\", #likewise for the parameter group name\n",
    "                    lower_bound=lb, upper_bound=ub, #parameter lower and upper bound\n",
    "                    ult_ubound=uub, ult_lbound=ulb # The ultimate bounds for multiplied model input values. Here we are stating that, after accounting for all multipliers, Kh cannot exceed these values. Very important with multipliers\n",
    "                    )\n",
    "                    \n",
    "    # pilot point (medium) scale parameters\n",
    "    pf.add_parameters(f,\n",
    "                        zone_array=ib,\n",
    "                        par_type=\"pilotpoints\",\n",
    "                        geostruct=pp_gs,\n",
    "                        par_name_base=base+\"pp\",\n",
    "                        pargp=base+\"pp\",\n",
    "                        lower_bound=lb, upper_bound=ub,\n",
    "                        ult_ubound=uub, ult_lbound=ulb,\n",
    "                        pp_space=5) # `PstFrom` will generate a unifrom grid of pilot points in every 4th row and column\n",
    "    if add_coarse==True:\n",
    "        # constant (coarse) scale parameters\n",
    "        pf.add_parameters(f,\n",
    "                            zone_array=ib,\n",
    "                            par_type=\"constant\",\n",
    "                            geostruct=grid_gs,\n",
    "                            par_name_base=base+\"cn\",\n",
    "                            pargp=base+\"cn\",\n",
    "                            lower_bound=lb, upper_bound=ub,\n",
    "                            ult_ubound=uub, ult_lbound=ulb)\n",
    "    return"
   ]
  },
  {
   "cell_type": "code",
   "execution_count": 21,
   "metadata": {},
   "outputs": [],
   "source": [
    "def add_mult_pars(f, lb=0.2, ub=5.0, ulb=0.01, uub=100, add_coarse=True):\n",
    "    if isinstance(f,str):\n",
    "        base = f.split(\".\")[1].replace(\"_\",\"\")\n",
    "    else:\n",
    "        base = f[0].split(\".\")[1]\n",
    "    return"
   ]
  },
  {
   "cell_type": "markdown",
   "metadata": {},
   "source": [
    "## <font color='red'> 07d __ PAR </font>  _____ sto_ss, _____ sto_sy, _____ ne_  "
   ]
  },
  {
   "cell_type": "code",
   "execution_count": 22,
   "metadata": {},
   "outputs": [],
   "source": [
    "tag = \"sto_ss\"\n",
    "files = [f for f in os.listdir(template_ws) if tag in f.lower() and f.endswith(\".txt\")]\n",
    "for f in files[1:]: \n",
    "    add_mult_pars(f, lb=0.2, ub=5.0,       uub=1e-3, ulb=1e-7)    # ______________________________________________\n",
    "\n",
    "tag = \"sto_sy\"\n",
    "files = [f for f in os.listdir(template_ws) if tag in f.lower() and f.endswith(\".txt\")]\n",
    "f = files[0]\n",
    "add_mult_pars(f, lb=0.2, ub=5.0,           uub=0.4, ulb=0.01)         # ______________________________________________\n",
    "\n",
    "tag = \"ne_\"\n",
    "files = [f for f in os.listdir(template_ws) if tag in f.lower() and f.endswith(\".txt\")]\n",
    "for f in files: \n",
    "    add_mult_pars(f, lb=0.2, ub=5.0,       uub=0.4, ulb=0.01)     # ______________________________________________"
   ]
  },
  {
   "cell_type": "code",
   "execution_count": 23,
   "metadata": {},
   "outputs": [
    {
     "data": {
      "text/plain": [
       "3"
      ]
     },
     "execution_count": 23,
     "metadata": {},
     "output_type": "execute_result"
    }
   ],
   "source": [
    "len([f for f in os.listdir(template_ws) if f.endswith(\".tpl\")])"
   ]
  },
  {
   "cell_type": "markdown",
   "metadata": {},
   "source": [
    "## <font color='red'> 08 __ x,y,z,T  </font> ______ `DIS Recharge (RCH) `_______ ` tDIS temp ` "
   ]
  },
  {
   "cell_type": "code",
   "execution_count": 24,
   "metadata": {},
   "outputs": [],
   "source": [
    "dts = pd.to_datetime(start_datetime) + pd.to_timedelta(np.cumsum(sim.tdis.perioddata.array[\"perlen\"]),unit='d') # container # dts   "
   ]
  },
  {
   "cell_type": "code",
   "execution_count": 25,
   "metadata": {},
   "outputs": [
    {
     "name": "stdout",
     "output_type": "stream",
     "text": [
      "['freyberg6.rch_recharge_1.txt', 'freyberg6.rch_recharge_2.txt', 'freyberg6.rch_recharge_3.txt', 'freyberg6.rch_recharge_4.txt', 'freyberg6.rch_recharge_5.txt', 'freyberg6.rch_recharge_6.txt', 'freyberg6.rch_recharge_7.txt', 'freyberg6.rch_recharge_8.txt', 'freyberg6.rch_recharge_9.txt', 'freyberg6.rch_recharge_10.txt', 'freyberg6.rch_recharge_11.txt', 'freyberg6.rch_recharge_12.txt', 'freyberg6.rch_recharge_13.txt', 'freyberg6.rch_recharge_14.txt', 'freyberg6.rch_recharge_15.txt', 'freyberg6.rch_recharge_16.txt', 'freyberg6.rch_recharge_17.txt', 'freyberg6.rch_recharge_18.txt', 'freyberg6.rch_recharge_19.txt', 'freyberg6.rch_recharge_20.txt', 'freyberg6.rch_recharge_21.txt', 'freyberg6.rch_recharge_22.txt', 'freyberg6.rch_recharge_23.txt', 'freyberg6.rch_recharge_24.txt', 'freyberg6.rch_recharge_25.txt']\n"
     ]
    }
   ],
   "source": [
    "tag = \"rch_recharge\"\n",
    "files = [f for f in os.listdir(template_ws) if tag in f.lower() and f.endswith(\".txt\")]\n",
    "sp = [int(f.split(\".\")[1].split('_')[-1]) for f in files]\n",
    "d = {s:f for s,f in zip(sp,files)}\n",
    "sp.sort()\n",
    "files = [d[s] for s in sp]                                                            \n",
    "print(files)\n"
   ]
  },
  {
   "cell_type": "code",
   "execution_count": 26,
   "metadata": {},
   "outputs": [],
   "source": [
    "add_mult_pars(files, lb=0.2, ub=5.0, ulb=0, uub=1e-3, add_coarse=False)   "
   ]
  },
  {
   "cell_type": "code",
   "execution_count": 27,
   "metadata": {},
   "outputs": [],
   "source": [
    "for f in files:                                                           \n",
    "    kper = int(f.split('.')[1].split('_')[-1]) - 1                                    # temporal correlation _______________ RCH \n",
    "    pf.add_parameters(filenames=f, zone_array=ib, par_type=\"constant\",                # ____________________________________ tDIS  \n",
    "                    par_name_base=f.split('.')[1]+\"tcn\", pargp=f.split('.')[1]+\"tcn\",\n",
    "                    ult_lbound=0, upper_bound=1.5,       lower_bound=0.5, ult_ubound=1e-3,\n",
    "                    datetime=dts[kper], geostruct=temporal_gs)  "
   ]
  },
  {
   "cell_type": "code",
   "execution_count": 28,
   "metadata": {},
   "outputs": [
    {
     "data": {
      "text/plain": [
       "28"
      ]
     },
     "execution_count": 28,
     "metadata": {},
     "output_type": "execute_result"
    }
   ],
   "source": [
    "len([f for f in os.listdir(template_ws) if f.endswith(\".tpl\")])    "
   ]
  },
  {
   "cell_type": "code",
   "execution_count": 29,
   "metadata": {},
   "outputs": [
    {
     "name": "stdout",
     "output_type": "stream",
     "text": [
      "noptmax:0, npar_adj:761, nnz_obs:400\n"
     ]
    }
   ],
   "source": [
    "pst = pf.build_pst()    "
   ]
  },
  {
   "cell_type": "markdown",
   "metadata": {},
   "source": [
    "## ` 09 ___ List Files __GHB Head (add) and Conductance (mult) ` <font color='greein'> ___  boundary-condition A </font> "
   ]
  },
  {
   "cell_type": "code",
   "execution_count": 30,
   "metadata": {},
   "outputs": [],
   "source": [
    "# tag = \"ghb_stress_period_data\"\n",
    "# files = [f for f in os.listdir(template_ws) if tag in f.lower() and f.endswith(\".txt\")]            # \n",
    "# print(files) "
   ]
  },
  {
   "cell_type": "code",
   "execution_count": 31,
   "metadata": {},
   "outputs": [],
   "source": [
    "tag = \"ghb_stress_period_data\"\n",
    "files = [f for f in os.listdir(template_ws) if tag in f.lower() and f.endswith(\".txt\")]\n",
    "for f in files:\n",
    "    \n",
    "    name = 'ghbcond'                                         \n",
    "    pf.add_parameters(f, par_type=\"grid\", geostruct=grid_gs,           # ____________________________________    \n",
    "                        par_name_base=name+\"gr\", pargp=name+\"gr\",\n",
    "                        index_cols=[0,1,2], upper_bound=10.0, use_cols=[4], lower_bound=0.1)      # ____col ____ 10 < 4 < 0.1\n",
    "    \n",
    "    pf.add_parameters(f, par_type=\"constant\", geostruct=grid_gs,       # ____________________________________ \n",
    "                        par_name_base=name+\"cn\", pargp=name+\"cn\",\n",
    "                        index_cols=[0,1,2], ult_ubound=100, upper_bound=10.0, use_cols=[4], lower_bound=0.1, ult_lbound=0.01, )      \n",
    "    \n",
    "    name = 'ghbhead'   \n",
    "    pf.add_parameters(f, par_type=\"grid\", geostruct=grid_gs,           # ____________________________________ \n",
    "                        par_name_base=name+\"gr\", pargp=name+\"gr\",\n",
    "                        index_cols=[0,1,2], ult_ubound=42, upper_bound=2.0, use_cols=[3], lower_bound=-2.0, ult_lbound=32.5,\n",
    "                        par_style=\"a\", transform=\"none\")       \n",
    "    \n",
    "    pf.add_parameters(f, par_type=\"constant\", geostruct=grid_gs,       # ____________________________________   \n",
    "                        par_name_base=name+\"cn\", pargp=name+\"cn\",\n",
    "                        index_cols=[0,1,2], ult_ubound=42, upper_bound=2.0, use_cols=[3], lower_bound=-2.0, ult_lbound=32.5,\n",
    "                        par_style=\"a\", transform=\"none\")                                                                           # added"
   ]
  },
  {
   "cell_type": "markdown",
   "metadata": {},
   "source": [
    "## `10 ___ Pumping rates ___`  well parametrization <font color='greein'> ___  boundary-condition B </font> "
   ]
  },
  {
   "cell_type": "code",
   "execution_count": 32,
   "metadata": {},
   "outputs": [],
   "source": [
    "# tag = \"wel_stress_period_data\"\n",
    "# files = [f for f in os.listdir(template_ws) if tag in f.lower() and f.endswith(\".txt\")] \n",
    "# print(files) "
   ]
  },
  {
   "cell_type": "code",
   "execution_count": 33,
   "metadata": {},
   "outputs": [],
   "source": [
    "files = [f for f in os.listdir(template_ws) if \"wel_stress_period_data\" in f and f.endswith(\".txt\")]\n",
    "sp = [int(f.split(\".\")[1].split('_')[-1]) for f in files]\n",
    "d = {s:f for s,f in zip(sp,files)}\n",
    "sp.sort()\n",
    "files = [d[s] for s in sp]\n",
    "\n",
    "for f in files:\n",
    "    kper = int(f.split('.')[1].split('_')[-1]) - 1                                            \n",
    "    \n",
    "    pf.add_parameters(filenames=f, index_cols=[0,1,2],                                     # ____________________________________ Well \n",
    "                        par_type=\"constant\", par_name_base=\"welcst\", pargp=\"welcst\", \n",
    "                        upper_bound = 4, use_cols=[3], lower_bound=0.25,                    \n",
    "                        datetime=dts[kper], geostruct=temporal_gs)\n",
    "    \n",
    "    pf.add_parameters(filenames=f, index_cols=[0,1,2],                                     # ____________________________________ Well      \n",
    "                        par_type=\"grid\", par_name_base=\"welgrd\", pargp=\"welgrd\", \n",
    "                        upper_bound = 4, use_cols=[3], lower_bound=0.25,                   # ____ 4 < 3 < 0.25 \n",
    "                        datetime=dts[kper])                                                 # added"
   ]
  },
  {
   "cell_type": "markdown",
   "metadata": {},
   "source": [
    "## `11 ___ SFR Conductance ___` (+) time-invariant `inflow`   <font color='greein'> ___  boundary-condition C </font> "
   ]
  },
  {
   "cell_type": "code",
   "execution_count": 34,
   "metadata": {},
   "outputs": [],
   "source": [
    "# tag = \"sfr_packagedata\"\n",
    "# files = [f for f in os.listdir(template_ws) if tag in f.lower() and f.endswith(\".txt\")] # print(files) supressed\n",
    "# tag = \"sfr_perioddata\"\n",
    "# files = [f for f in os.listdir(template_ws) if tag in f.lower() and f.endswith(\".txt\")] # print(files) supressed"
   ]
  },
  {
   "cell_type": "code",
   "execution_count": 35,
   "metadata": {},
   "outputs": [
    {
     "name": "stdout",
     "output_type": "stream",
     "text": [
      "['freyberg6.sfr_packagedata.txt']\n"
     ]
    }
   ],
   "source": [
    "tag = \"sfr_packagedata\"\n",
    "files = [f for f in os.listdir(template_ws) if tag in f.lower() and f.endswith(\".txt\")]\n",
    "assert len(files) == 1                                 \n",
    "print(files)\n",
    "f = files[0]                                            \n",
    "name = \"sfrcond\"\n",
    "pf.add_parameters(f,par_type=\"grid\", geostruct=grid_gs, par_name_base=name+\"gr\", pargp=name+\"gr\",           # _____________ Conductance ___ sfr   \n",
    "                index_cols=[0,2,3], upper_bound=10.0, use_cols=[9], lower_bound=0.1)\n",
    "\n",
    "pf.add_parameters(f, par_type=\"constant\", geostruct=grid_gs, par_name_base=name+\"cn\", pargp=name+\"cn\",\n",
    "                index_cols=[0,2,3], ult_ubound=100, upper_bound=10.0, use_cols=[9], lower_bound=0.1, ult_lbound=0.001)      \n",
    "\n",
    "files = [f for f in os.listdir(template_ws) if \"sfr_perioddata\" in f and f.endswith(\".txt\")]\n",
    "sp = [int(f.split(\".\")[1].split('_')[-1]) for f in files]\n",
    "d = {s:f for s,f in zip(sp,files)}\n",
    "sp.sort()\n",
    "files = [d[s] for s in sp]                                     \n",
    "for f in files:\n",
    "    kper = int(f.split('.')[1].split('_')[-1]) - 1                                          \n",
    "    pf.add_parameters(filenames=f, par_type=\"grid\", par_name_base=\"sfrgr\", pargp=\"sfrgr\",                   # _____________ INFLOW  ___ sfr\n",
    "                        index_cols=[0], upper_bound = 10, use_cols=[2], lower_bound=0.1,     \n",
    "                        datetime=dts[kper], geostruct=temporal_gs)               "
   ]
  },
  {
   "cell_type": "markdown",
   "metadata": {},
   "source": [
    "# 12 ____  Initial conditions "
   ]
  },
  {
   "cell_type": "code",
   "execution_count": 36,
   "metadata": {},
   "outputs": [
    {
     "name": "stdout",
     "output_type": "stream",
     "text": [
      "(706, 17)\n"
     ]
    }
   ],
   "source": [
    "files = [f for f in os.listdir(template_ws) if \"ic_strt\" in f and f.endswith(\".txt\")]\n",
    "files\n",
    "for f in files:\n",
    "    base = f.split(\".\")[1].replace(\"_\",\"\")\n",
    "    df = pf.add_parameters(f,par_type=\"grid\",par_style=\"d\", par_name_base=base, pargp=base,\n",
    "                           upper_bound=50,lower_bound=15, zone_array=ib, transform=\"none\")\n",
    "    print(df.shape)"
   ]
  },
  {
   "cell_type": "markdown",
   "metadata": {},
   "source": [
    "# 13, 14 _______ __Forward__   __PEST__ ___________ __Sys Commands__"
   ]
  },
  {
   "cell_type": "code",
   "execution_count": 37,
   "metadata": {},
   "outputs": [
    {
     "data": {
      "text/plain": [
       "['mf6', 'mp7 freyberg_mp.mpsim']"
      ]
     },
     "execution_count": 37,
     "metadata": {},
     "output_type": "execute_result"
    }
   ],
   "source": [
    "pf.mod_sys_cmds \n",
    "pf.mod_sys_cmds.append(\"mf6\")                    \n",
    "pf.mod_sys_cmds.append(\"mp7 freyberg_mp.mpsim\")  \n",
    "pf.mod_sys_cmds\n",
    "# pst = pf.build_pst()\n",
    "# _ = [print(line.rstrip()) for line in open(os.path.join(template_ws,\"forward_run.py\"))]"
   ]
  },
  {
   "cell_type": "markdown",
   "metadata": {},
   "source": [
    "## <font color='magenta'> 16 (15) ____ Secondary Observations </font> _____________________________________ * pst 04 __________"
   ]
  },
  {
   "cell_type": "code",
   "execution_count": 38,
   "metadata": {},
   "outputs": [
    {
     "name": "stdout",
     "output_type": "stream",
     "text": [
      "Secondary observation files processed.\n"
     ]
    }
   ],
   "source": [
    "import helpers\n",
    "helpers.process_secondary_obs(ws=template_ws)  # [f for f in os.listdir(template_ws) if f.endswith(\".csv\")]\n",
    "pf.add_py_function(\"helpers.py\",                                               \n",
    "                    \"process_secondary_obs(ws='.')\",                           \n",
    "                    is_pre_cmd=False)                                          # before | after* the model system command"
   ]
  },
  {
   "cell_type": "code",
   "execution_count": 39,
   "metadata": {},
   "outputs": [],
   "source": [
    "df = pd.read_csv(os.path.join(template_ws, \"sfr.tdiff.csv\"), index_col=0)      # Add..___ = emporal-differences between OBS\n",
    "_ = pf.add_observations(\"sfr.tdiff.csv\",                                       \n",
    "                            insfile=\"sfr.tdiff.csv.ins\",                       # NEW AUX OBS ____ sfr.tdiff _______ sfrtd\n",
    "                            index_cols=\"time\",                                 \n",
    "                            use_cols=list(df.columns.values),                 \n",
    "                            prefix=\"sfrtd\")                                    \n",
    "                            \n",
    "df = pd.read_csv(os.path.join(template_ws, \"heads.tdiff.csv\"), index_col=0)\n",
    "_ = pf.add_observations(\"heads.tdiff.csv\", \n",
    "                            insfile=\"heads.tdiff.csv.ins\",                     # NEW AUX OBS ____ heads.tdiff _____ hdstd \n",
    "                            index_cols=\"time\", \n",
    "                            use_cols=list(df.columns.values), \n",
    "                            prefix=\"hdstd\")                                    # just || time and positions || "
   ]
  },
  {
   "cell_type": "code",
   "execution_count": 40,
   "metadata": {},
   "outputs": [],
   "source": [
    "# _ = [print(line.rstrip()) for line in open(os.path.join(template_ws,\"forward_run.py\"))]  \n",
    "# `extract_hds_array_and_list_dfs()`\n",
    "# obs = pst.observation_data  # obs  "
   ]
  },
  {
   "cell_type": "code",
   "execution_count": 41,
   "metadata": {},
   "outputs": [
    {
     "name": "stdout",
     "output_type": "stream",
     "text": [
      "noptmax:0, npar_adj:1731, nnz_obs:800\n"
     ]
    }
   ],
   "source": [
    "pst = pf.build_pst()   # ________________________________________________________________* pst 04 __________"
   ]
  },
  {
   "cell_type": "markdown",
   "metadata": {},
   "source": [
    "# <font color='magenta'> 15 (16) ____ [pre-post]-Processing </font> Heads & MB ____________ * pst 03 __________"
   ]
  },
  {
   "cell_type": "code",
   "execution_count": 42,
   "metadata": {},
   "outputs": [
    {
     "name": "stdout",
     "output_type": "stream",
     "text": [
      "noptmax:0, npar_adj:1731, nnz_obs:21250\n"
     ]
    }
   ],
   "source": [
    "pf.add_py_function(\"helpers.py\",\"extract_hds_arrays_and_list_dfs()\",is_pre_cmd=False)      \n",
    "\n",
    "helpers.test_extract_hds_arrays(template_ws)\n",
    "files = [f for f in os.listdir(template_ws) if f.startswith(\"hdslay\")]\n",
    "for f in files:\n",
    "    pf.add_observations(f,prefix=f.split(\".\")[0],obsgp=f.split(\".\")[0])              # ______________ Heads of all modelled cells ______________\n",
    "# files = [f for f in os.listdir(template_ws) if f.startswith(\"hdslay\")]             # files\n",
    "\n",
    "for f in [\"inc.csv\",\"cum.csv\"]:\n",
    "    df = pd.read_csv(os.path.join(template_ws,f),index_col=0)\n",
    "    pf.add_observations(f,index_cols=[\"totim\"],use_cols=list(df.columns.values),\n",
    "                        prefix=f.split('.')[0],obsgp=f.split(\".\")[0])                # ______________ Mass Balance ____________________\n",
    "\n",
    "pst = pf.build_pst()                               # ________________________________* pst 03 __________"
   ]
  },
  {
   "cell_type": "markdown",
   "metadata": {},
   "source": [
    "## <font color='magenta'> 17 OBS particles mp7______ ` Just _____\".ins\"` </font>"
   ]
  },
  {
   "cell_type": "code",
   "execution_count": 43,
   "metadata": {},
   "outputs": [
    {
     "name": "stdout",
     "output_type": "stream",
     "text": [
      "2 obs added from instruction file a1_Pstfrom_Katie_new_folder\\.\\freyberg_mp.mpend.ins\n"
     ]
    }
   ],
   "source": [
    "out_file = \"freyberg_mp.mpend\"                                          #  ___ organization ____ ... run(r'mp7 ...\n",
    "ins_file = out_file + \".ins\"\n",
    "with open(os.path.join(template_ws, ins_file),'w') as f:\n",
    "    f.write(\"pif ~\\n\")\n",
    "    f.write(\"l7 w w w w !part_status! w w !part_time!\\n\")\n",
    "    \n",
    "pst.add_observations(ins_file=os.path.join(template_ws, ins_file),             # adding custom *.ins files  ____ new *.pst_03\n",
    "                    out_file=os.path.join(template_ws, out_file),\n",
    "                            pst_path='.')\n",
    "obs = pst.observation_data\n",
    "obs.loc[obs.obsnme=='part_status', 'obgnme'] = 'part'                          # and then check what changed   ------   \n",
    "obs.loc[obs.obsnme=='part_time', 'obgnme'] = 'part'"
   ]
  },
  {
   "cell_type": "code",
   "execution_count": 44,
   "metadata": {},
   "outputs": [],
   "source": [
    "# obs.iloc[-4:]   "
   ]
  },
  {
   "cell_type": "markdown",
   "metadata": {},
   "source": [
    "## `18 ____ Fixing possible trouble \"addictive mode of ...  \" GHB_heads "
   ]
  },
  {
   "cell_type": "code",
   "execution_count": 45,
   "metadata": {},
   "outputs": [],
   "source": [
    "head_pargps = [i for i in pst.adj_par_groups if 'head' in i]\n",
    "\n",
    "pst.parameter_groups.loc[head_pargps, 'inctyp'] = 'absolute'\n",
    "par = pst.parameter_data\n",
    "par_names = par.loc[par.parval1==0].parnme                    \n",
    "\n",
    "offset = -10\n",
    "par.loc[par_names, 'offset'] = offset\n",
    "par.loc[par_names, ['parval1', 'parlbnd', 'parubnd']] -= offset"
   ]
  },
  {
   "cell_type": "code",
   "execution_count": 46,
   "metadata": {},
   "outputs": [],
   "source": [
    "# head_pargps\n",
    "# par.loc[par_names].head()"
   ]
  },
  {
   "cell_type": "markdown",
   "metadata": {},
   "source": [
    "## 19 ____ Forecasts ____ __\"right at the beginning\"__"
   ]
  },
  {
   "cell_type": "code",
   "execution_count": 47,
   "metadata": {},
   "outputs": [],
   "source": [
    "forecasts =['oname:sfr_otype:lst_usecol:tailwater_time:4383.5',\n",
    "            'oname:sfr_otype:lst_usecol:headwater_time:4383.5',\n",
    "            'oname:hds_otype:lst_usecol:trgw-0-9-1_time:4383.5',\n",
    "            'part_time']\n",
    "# forecasts"
   ]
  },
  {
   "cell_type": "code",
   "execution_count": 48,
   "metadata": {},
   "outputs": [],
   "source": [
    "# fobs = obs.loc[forecasts,:]\n",
    "# fobs"
   ]
  },
  {
   "cell_type": "code",
   "execution_count": 49,
   "metadata": {},
   "outputs": [],
   "source": [
    "pst.pestpp_options['forecasts'] = forecasts"
   ]
  },
  {
   "cell_type": "markdown",
   "metadata": {},
   "source": [
    "## <font color='green'> __20__ __Write____ NEW _ PEST control file __.pst__04__ _____________ * external files </font>  "
   ]
  },
  {
   "cell_type": "code",
   "execution_count": 50,
   "metadata": {},
   "outputs": [
    {
     "name": "stdout",
     "output_type": "stream",
     "text": [
      "noptmax:0, npar_adj:1731, nnz_obs:21252\n"
     ]
    }
   ],
   "source": [
    "pst.write(os.path.join(template_ws, 'a1_Pstfrom_data_IN_Frey.pst'),version=2)          # First time written "
   ]
  },
  {
   "cell_type": "code",
   "execution_count": 51,
   "metadata": {},
   "outputs": [
    {
     "name": "stdout",
     "output_type": "stream",
     "text": [
      "pestpp-glm.exe a1_Pstfrom_data_IN_Frey.pst\n"
     ]
    }
   ],
   "source": [
    "pyemu.os_utils.run('pestpp-glm a1_Pstfrom_data_IN_Frey.pst', cwd=template_ws)"
   ]
  },
  {
   "cell_type": "code",
   "execution_count": 52,
   "metadata": {},
   "outputs": [
    {
     "data": {
      "text/plain": [
       "0    0\n",
       "Name: total_phi, dtype: int64"
      ]
     },
     "execution_count": 52,
     "metadata": {},
     "output_type": "execute_result"
    }
   ],
   "source": [
    "iobj = pd.read_csv(os.path.join(template_ws, 'a1_Pstfrom_data_IN_Frey.iobj'))\n",
    "iobj.total_phi"
   ]
  },
  {
   "cell_type": "markdown",
   "metadata": {},
   "source": [
    "# <font color='green'> 21 ____ Prior Parameter Covariance Matrix </font>"
   ]
  },
  {
   "cell_type": "code",
   "execution_count": 53,
   "metadata": {},
   "outputs": [
    {
     "data": {
      "image/png": "[encoded data removed]",
      "text/plain": [
       "<Figure size 640x480 with 1 Axes>"
      ]
     },
     "metadata": {},
     "output_type": "display_data"
    }
   ],
   "source": [
    "if pf.pst.npar < 35000:  \n",
    "    cov = pf.build_prior(fmt='coo', filename=os.path.join(template_ws,\"prior_cov.jcb\"))\n",
    "    try: \n",
    "        x = cov.x.copy()\n",
    "        x[x==0] = np.NaN\n",
    "        plt.imshow(x[:1000,:1000])\n",
    "    except:\n",
    "        pass"
   ]
  },
  {
   "cell_type": "code",
   "execution_count": 54,
   "metadata": {},
   "outputs": [
    {
     "data": {
      "text/plain": [
       "['pname:npfklayer1gr_inst:0_ptype:gr_pstyle:m_i:0_j:0_x:125.00_y:9875.00_zone:1',\n",
       " 'pname:npfklayer1gr_inst:0_ptype:gr_pstyle:m_i:0_j:1_x:375.00_y:9875.00_zone:1',\n",
       " 'pname:npfklayer1gr_inst:0_ptype:gr_pstyle:m_i:0_j:2_x:625.00_y:9875.00_zone:1',\n",
       " 'pname:npfklayer1gr_inst:0_ptype:gr_pstyle:m_i:0_j:3_x:875.00_y:9875.00_zone:1',\n",
       " 'pname:npfklayer1gr_inst:0_ptype:gr_pstyle:m_i:0_j:4_x:1125.00_y:9875.00_zone:1',\n",
       " 'pname:npfklayer1gr_inst:0_ptype:gr_pstyle:m_i:0_j:5_x:1375.00_y:9875.00_zone:1',\n",
       " 'pname:npfklayer1gr_inst:0_ptype:gr_pstyle:m_i:0_j:6_x:1625.00_y:9875.00_zone:1',\n",
       " 'pname:npfklayer1gr_inst:0_ptype:gr_pstyle:m_i:0_j:7_x:1875.00_y:9875.00_zone:1',\n",
       " 'pname:npfklayer1gr_inst:0_ptype:gr_pstyle:m_i:0_j:8_x:2125.00_y:9875.00_zone:1',\n",
       " 'pname:npfklayer1gr_inst:0_ptype:gr_pstyle:m_i:0_j:9_x:2375.00_y:9875.00_zone:1']"
      ]
     },
     "execution_count": 54,
     "metadata": {},
     "output_type": "execute_result"
    }
   ],
   "source": [
    "cov.row_names[:10]"
   ]
  },
  {
   "cell_type": "code",
   "execution_count": 57,
   "metadata": {},
   "outputs": [
    {
     "name": "stdout",
     "output_type": "stream",
     "text": [
      "SpecSim.initialize() summary: full_delx X full_dely: 72 X 72\n",
      "SpecSim.initialize() summary: full_delx X full_dely: 72 X 72\n",
      "SpecSim.initialize() summary: full_delx X full_dely: 72 X 72\n",
      "SpecSim.initialize() summary: full_delx X full_dely: 72 X 72\n",
      "SpecSim.initialize() summary: full_delx X full_dely: 72 X 72\n",
      "SpecSim.initialize() summary: full_delx X full_dely: 72 X 72\n",
      "SpecSim.initialize() summary: full_delx X full_dely: 72 X 72\n",
      "SpecSim.initialize() summary: full_delx X full_dely: 72 X 72\n",
      "building diagonal cov\n",
      "processing  name:struct1,nugget:0.0,structures:\n",
      "name:var1,contribution:1.0,a:1000.0,anisotropy:1.0,bearing:0.0\n",
      "\n",
      "working on pargroups ['ghbcondgr']\n",
      "build cov matrix\n",
      "done\n",
      "getting diag var cov 10\n",
      "scaling full cov by diag var cov\n",
      "working on pargroups ['sfrcondgr']\n",
      "build cov matrix\n",
      "done\n",
      "getting diag var cov 40\n",
      "scaling full cov by diag var cov\n",
      "processing  name:struct1,nugget:0.0,structures:\n",
      "name:var1,contribution:1.0,a:15000.0,anisotropy:1.0,bearing:0.0\n",
      "\n",
      "working on pargroups ['npfklayer1pp']\n",
      "build cov matrix\n",
      "done\n",
      "getting diag var cov 29\n",
      "scaling full cov by diag var cov\n",
      "working on pargroups ['stosylayer1pp']\n",
      "build cov matrix\n",
      "done\n",
      "getting diag var cov 29\n",
      "scaling full cov by diag var cov\n",
      "working on pargroups ['nelayer1pp']\n",
      "build cov matrix\n",
      "done\n",
      "getting diag var cov 29\n",
      "scaling full cov by diag var cov\n",
      "working on pargroups ['nelayer2pp']\n",
      "build cov matrix\n",
      "done\n",
      "getting diag var cov 29\n",
      "scaling full cov by diag var cov\n",
      "working on pargroups ['nelayer3pp']\n",
      "build cov matrix\n",
      "done\n",
      "getting diag var cov 29\n",
      "scaling full cov by diag var cov\n",
      "working on pargroups ['rch_recharge_1pp']\n",
      "build cov matrix\n",
      "done\n",
      "getting diag var cov 29\n",
      "scaling full cov by diag var cov\n",
      "processing  name:struct1,nugget:0.0,structures:\n",
      "name:var1,contribution:1.0,a:60.0,anisotropy:1.0,bearing:0.0\n",
      "\n",
      "working on pargroups ['welcst']\n",
      "build cov matrix\n",
      "done\n",
      "getting diag var cov 25\n",
      "scaling full cov by diag var cov\n",
      "processing  name:struct1,nugget:0.0,structures:\n",
      "name:var1,contribution:1.0,a:1000.0,anisotropy:1.0,bearing:0.0\n",
      "\n",
      "working on pargroups ['ghbheadgr']\n",
      "build cov matrix\n",
      "done\n",
      "getting diag var cov 10\n",
      "scaling full cov by diag var cov\n",
      "adding remaining parameters to diagonal\n"
     ]
    }
   ],
   "source": [
    "pe = pf.draw(num_reals=1000, use_specsim=True)                      # PAR ___ prior___ distribution\n",
    "pe.enforce()                                               \n",
    "pe.to_binary(os.path.join(template_ws,\"prior_pe.jcb\"))     \n",
    "assert pe.shape[1] == pst.npar                                      # Rolling the dice ..."
   ]
  },
  {
   "cell_type": "code",
   "execution_count": 56,
   "metadata": {},
   "outputs": [
    {
     "data": {
      "text/plain": [
       "array([ 0.72616096,  0.82076147,  1.08770186, ..., 30.96381582,\n",
       "       29.2050304 , 45.19831249])"
      ]
     },
     "execution_count": 56,
     "metadata": {},
     "output_type": "execute_result"
    }
   ],
   "source": [
    "pst.parameter_data.loc[:,\"parval1\"] = pe.loc[pe.index[0],pst.par_names].values          # PARVAL to  *.pst_05\n",
    "pst.parameter_data.parval1.values"
   ]
  },
  {
   "cell_type": "code",
   "execution_count": 58,
   "metadata": {},
   "outputs": [
    {
     "name": "stdout",
     "output_type": "stream",
     "text": [
      "noptmax:0, npar_adj:5410, nnz_obs:21252\n",
      "pestpp-glm.exe test.pst\n"
     ]
    }
   ],
   "source": [
    "pst.control_data.noptmax = 0\n",
    "pst.write(os.path.join(template_ws,\"test.pst\"),version=2)\n",
    "pyemu.os_utils.run(\"pestpp-glm test.pst\",cwd=template_ws)                               # Runing AGAIN ____ Ensable!"
   ]
  },
  {
   "cell_type": "markdown",
   "metadata": {},
   "source": [
    "# 21 ____ Bonus: Understanding Multiplier-Parameters`"
   ]
  },
  {
   "cell_type": "code",
   "execution_count": 59,
   "metadata": {},
   "outputs": [],
   "source": [
    "df = pd.read_csv(os.path.join(template_ws,\"mult2model_info.csv\"))\n",
    "kh1_df = df.loc[df.model_file.str.contains(\"npf_k_layer1\"),:]\n",
    "# kh1_df                                                                               # mult ____ folder"
   ]
  },
  {
   "cell_type": "code",
   "execution_count": 59,
   "metadata": {},
   "outputs": [
    {
     "data": {
      "image/png": "[encoded data removed]",
      "text/plain": [
       "<Figure size 1700x500 with 10 Axes>"
      ]
     },
     "metadata": {},
     "output_type": "display_data"
    }
   ],
   "source": [
    "org_arr = np.loadtxt(os.path.join(template_ws,kh1_df.org_file.iloc[0]))\n",
    "inp_arr = np.loadtxt(os.path.join(template_ws,kh1_df.model_file.iloc[0]))\n",
    "mlt_arrs = [np.loadtxt(os.path.join(template_ws,afile)) for afile in kh1_df.mlt_file]\n",
    "arrs = [org_arr]\n",
    "arrs.extend(mlt_arrs)\n",
    "arrs.append(inp_arr)\n",
    "names = [\"org\"]\n",
    "names.extend([mf.split('.')[0].split('_')[-1] for mf in kh1_df.mlt_file])\n",
    "names.append(\"MF6 input\")\n",
    "fig,axes = plt.subplots(1,kh1_df.shape[0]+2,figsize=(5*kh1_df.shape[0]+2,5))\n",
    "for i,ax in enumerate(axes.flatten()):\n",
    "    arr = np.log10(arrs[i])\n",
    "    arr[ib==0] = np.NaN\n",
    "    cb = ax.imshow(arr)\n",
    "    plt.colorbar(cb,ax=ax)\n",
    "    ax.set_title(names[i],loc=\"left\")\n",
    "plt.tight_layout()        "
   ]
  },
  {
   "cell_type": "code",
   "execution_count": 60,
   "metadata": {},
   "outputs": [
    {
     "data": {
      "text/html": [
       "<img src=\"./pest_flow2.gif\"/>"
      ],
      "text/plain": [
       "<IPython.core.display.Image object>"
      ]
     },
     "metadata": {},
     "output_type": "display_data"
    }
   ],
   "source": [
    "from IPython.display import Image, display\n",
    "display(Image(url='./pest_flow2.gif'))"
   ]
  },
  {
   "cell_type": "markdown",
   "metadata": {},
   "source": [
    "# END"
   ]
  },
  {
   "cell_type": "code",
   "execution_count": null,
   "metadata": {},
   "outputs": [],
   "source": []
  }
 ],
 "metadata": {
  "kernelspec": {
   "display_name": "Python 3 (ipykernel)",
   "language": "python",
   "name": "python3"
  },
  "language_info": {
   "codemirror_mode": {
    "name": "ipython",
    "version": 3
   },
   "file_extension": ".py",
   "mimetype": "text/x-python",
   "name": "python",
   "nbconvert_exporter": "python",
   "pygments_lexer": "ipython3",
   "version": "3.11.11"
  }
 },
 "nbformat": 4,
 "nbformat_minor": 4
}
