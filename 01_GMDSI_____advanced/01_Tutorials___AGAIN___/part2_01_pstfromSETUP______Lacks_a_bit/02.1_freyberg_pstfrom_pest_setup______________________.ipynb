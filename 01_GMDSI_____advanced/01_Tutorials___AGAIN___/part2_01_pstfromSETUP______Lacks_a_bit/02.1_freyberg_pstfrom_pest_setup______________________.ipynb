{
 "cells": [
  {
   "cell_type": "markdown",
   "metadata": {},
   "source": [
    "# Setup the PEST(++) interface around the modified Freyberg model\n",
    "\n",
    "In this notebook, we will construct a complex model independent (non-intrusive) interface around an existing `MODFLOW6` model using `pyEMU`. We assume that the reader is at least partially familiar with PEST(++) file formats and working philosophy. \n",
    "\n",
    "The modified Freyberg groundwater flow model has been constructed and is described in a previous notebook from this series (see [\"intro freyberg model\"](../part0_02_intro_to_freyberg_model/intro_freyberg_model.ipynb)). We will construct the entire PEST(++) interface from scratch here. This setup will be built upon in subsequent tutorials. \n",
    "\n",
    "We will rely heavily on the `pyemu.PstFrom` class. Although here we employ it with a `MODFLOW6` model, `PstFrom` is designed to be general and software independent (mostly). Some features are only available for `MODFLOW` models (e.g. `SpatialReference`).\n",
    "\n",
    "The `PstFrom` class automates the construction of high-dimensional PEST(++) interfaces with all the bells and whistles. It provides easy-to-use functions to process model input and output files into PEST(++) datasets. It can assist with setting up spatio-temporally varying parameters. It handles the generation of geostatistical prior covariance matrices and ensembles. It automates writing a \"model run\" script. It provides tools to add custom pre- and post-processing functions to this script. It makes adding tweaks and fixes to the PEST(++) interface a breeze. All of this from the comfort of your favorite Python IDE.\n",
    "\n",
    "You may also wish to go through the [\"intro to pyemu\"](../part0_intro_to_pyemu/intro_to_pyemu.ipynb) and [\"pstfrom sneakpeak\"](../part1_02_pest_setup/pstfrom_sneakpeak.ipynb) notebooks to get an overview of `pyemu` and a slim-downed `PstFrom` example.\n",
    "\n",
    "During this tutorial we are going to construct a PEST dataset. Amongst other things, we will demonstrate:\n",
    " - how to add observations & parameters from model output & input files;\n",
    " - how to add pre- and post-processing functions to the \"model run\" script;\n",
    " - how to generate geostatistical structures for spatially and temporally correlated parameters;\n",
    " - how to edit parameter/observation data sections;\n",
    " - how to generate a prior parameter covariance matrix and prior parameter ensemble;\n",
    "\n",
    "\n",
    "\n",
    "First, let's get our model files and sort out some admin.\n"
   ]
  },
  {
   "cell_type": "markdown",
   "metadata": {},
   "source": [
    "### Admin & Organize Folders\n",
    "First some admin. Load the dependencies and organize model folders. "
   ]
  },
  {
   "cell_type": "code",
   "execution_count": 1,
   "metadata": {},
   "outputs": [],
   "source": [
    "import sys\n",
    "import os\n",
    "import shutil\n",
    "import platform\n",
    "import warnings\n",
    "warnings.filterwarnings(\"ignore\")\n",
    "warnings.filterwarnings(\"ignore\", category=DeprecationWarning) \n",
    "import pandas as pd\n",
    "import numpy as np\n",
    "import matplotlib.pyplot as plt;\n",
    "# for this course we use locally stored version of pyemu and flopy to avoid version conflicts\n",
    "import pyemu\n",
    "import flopy\n",
    "#assert \"dependencies\" in flopy.__file__\n",
    "#assert \"dependencies\" in pyemu.__file__\n",
    "# herebedragons.py contains a series of utility functions that help us manage the tutorial repository\n",
    "sys.path.insert(0,\"..\")\n",
    "import herebedragons as hbd"
   ]
  },
  {
   "cell_type": "markdown",
   "metadata": {},
   "source": [
    "We will be calling a few external programs throughout this tutorial. Namely, MODFLOW 6 and PESTPP-GLM. For the purposes of the tutorial(s), we have included executables in the tutorial repository. They are in the `bin_new` folder, organized by operating system and will be programmatically copied into the working dirs as needed. \n",
    "\n",
    "Some may prefer that executables be located in a folder that is cited in your computer's PATH environment variable. Doing so allows you to run them from a command prompt open to any other folder without having to include the full path to these executables in the command to run them. \n",
    "\n",
    "However, in situations where someone has several active projects and each may use difference versions of compiled binary codes, this may not be practical. In such cases, we can simply place the executables in the folder from which they will be executed.  So, let's copy the necessary executables into our working folder using a simple helper function:\n"
   ]
  },
  {
   "cell_type": "markdown",
   "metadata": {},
   "source": [
    "Let's copy the original model folder into a new working directory, just to ensure we don't mess up the base files."
   ]
  },
  {
   "cell_type": "code",
   "execution_count": 2,
   "metadata": {},
   "outputs": [],
   "source": [
    "# folder containing original model files\n",
    "org_d = os.path.join('..', '..', 'models', 'monthly_model_files_1lyr_newstress')\n",
    "\n",
    "# a dir to hold a copy of the org model files\n",
    "tmp_d = os.path.join('freyberg_mf6')\n",
    "\n",
    "if os.path.exists(tmp_d):\n",
    "    shutil.rmtree(tmp_d)\n",
    "shutil.copytree(org_d,tmp_d)\n",
    "\n",
    "# get executables\n",
    "hbd.prep_bins(tmp_d)\n",
    "# get dependency folders\n",
    "hbd.prep_deps(tmp_d)"
   ]
  },
  {
   "cell_type": "markdown",
   "metadata": {},
   "source": [
    "If you inspect the model folder, you will see that all the `MODFLOW6` model files have been written \"externally\". This is key for working with the `PstFrom` class (or with PEST(++) in general, really). Essentially, all pertinent model inputs have been written as independent files in either array or list format. This makes it easier for us to programmatically access and re-write the values in these files.\n",
    "\n",
    "Array files contain a data type (usually floating points). List files will have a few columns that contain index information and then columns of floating point values (they have a tabular format; think `.csv` files or DataFrames). The `PstFrom` class provides methods for processing these file types into a PEST(++) dataset. \n",
    "\n"
   ]
  },
  {
   "cell_type": "code",
   "execution_count": 3,
   "metadata": {},
   "outputs": [
    {
     "data": {
      "text/plain": [
       "['freyberg6.dis',\n",
       " 'freyberg6.dis.grb',\n",
       " 'freyberg6.dis_botm_layer1.txt',\n",
       " 'freyberg6.dis_delc.txt',\n",
       " 'freyberg6.dis_delr.txt',\n",
       " 'freyberg6.dis_idomain_layer1.txt',\n",
       " 'freyberg6.dis_top.txt',\n",
       " 'freyberg6.ghb',\n",
       " 'freyberg6.ghb_stress_period_data_1.txt',\n",
       " 'freyberg6.gwfgwt',\n",
       " 'freyberg6.ic',\n",
       " 'freyberg6.ic_conc_strt_layer1.txt',\n",
       " 'freyberg6.ic_strt_layer1.txt',\n",
       " 'freyberg6.ims',\n",
       " 'freyberg6.lst',\n",
       " 'freyberg6.nam',\n",
       " 'freyberg6.npf',\n",
       " 'freyberg6.npf_icelltype_layer1.txt',\n",
       " 'freyberg6.npf_k33_layer1.txt',\n",
       " 'freyberg6.npf_k_layer1.txt',\n",
       " 'freyberg6.obs',\n",
       " 'freyberg6.oc',\n",
       " 'freyberg6.rch',\n",
       " 'freyberg6.rch_recharge_1.txt',\n",
       " 'freyberg6.rch_recharge_10.txt',\n",
       " 'freyberg6.rch_recharge_11.txt',\n",
       " 'freyberg6.rch_recharge_12.txt',\n",
       " 'freyberg6.rch_recharge_13.txt',\n",
       " 'freyberg6.rch_recharge_14.txt',\n",
       " 'freyberg6.rch_recharge_15.txt',\n",
       " 'freyberg6.rch_recharge_16.txt',\n",
       " 'freyberg6.rch_recharge_17.txt',\n",
       " 'freyberg6.rch_recharge_18.txt',\n",
       " 'freyberg6.rch_recharge_19.txt',\n",
       " 'freyberg6.rch_recharge_2.txt',\n",
       " 'freyberg6.rch_recharge_20.txt',\n",
       " 'freyberg6.rch_recharge_21.txt',\n",
       " 'freyberg6.rch_recharge_22.txt',\n",
       " 'freyberg6.rch_recharge_23.txt',\n",
       " 'freyberg6.rch_recharge_24.txt',\n",
       " 'freyberg6.rch_recharge_25.txt',\n",
       " 'freyberg6.rch_recharge_3.txt',\n",
       " 'freyberg6.rch_recharge_4.txt',\n",
       " 'freyberg6.rch_recharge_5.txt',\n",
       " 'freyberg6.rch_recharge_6.txt',\n",
       " 'freyberg6.rch_recharge_7.txt',\n",
       " 'freyberg6.rch_recharge_8.txt',\n",
       " 'freyberg6.rch_recharge_9.txt',\n",
       " 'freyberg6.sfr',\n",
       " 'freyberg6.sfr_connectiondata.txt',\n",
       " 'freyberg6.sfr_packagedata.txt',\n",
       " 'freyberg6.sfr_perioddata_1.txt',\n",
       " 'freyberg6.sft_package_data.txt',\n",
       " 'freyberg6.sto',\n",
       " 'freyberg6.sto_iconvert_layer1.txt',\n",
       " 'freyberg6.sto_ss_layer1.txt',\n",
       " 'freyberg6.sto_sy_layer1.txt',\n",
       " 'freyberg6.tdis',\n",
       " 'freyberg6.wel',\n",
       " 'freyberg6.wel_stress_period_data_1.txt',\n",
       " 'freyberg6.wel_stress_period_data_10.txt',\n",
       " 'freyberg6.wel_stress_period_data_11.txt',\n",
       " 'freyberg6.wel_stress_period_data_12.txt',\n",
       " 'freyberg6.wel_stress_period_data_13.txt',\n",
       " 'freyberg6.wel_stress_period_data_14.txt',\n",
       " 'freyberg6.wel_stress_period_data_15.txt',\n",
       " 'freyberg6.wel_stress_period_data_16.txt',\n",
       " 'freyberg6.wel_stress_period_data_17.txt',\n",
       " 'freyberg6.wel_stress_period_data_18.txt',\n",
       " 'freyberg6.wel_stress_period_data_19.txt',\n",
       " 'freyberg6.wel_stress_period_data_2.txt',\n",
       " 'freyberg6.wel_stress_period_data_20.txt',\n",
       " 'freyberg6.wel_stress_period_data_21.txt',\n",
       " 'freyberg6.wel_stress_period_data_22.txt',\n",
       " 'freyberg6.wel_stress_period_data_23.txt',\n",
       " 'freyberg6.wel_stress_period_data_24.txt',\n",
       " 'freyberg6.wel_stress_period_data_25.txt',\n",
       " 'freyberg6.wel_stress_period_data_3.txt',\n",
       " 'freyberg6.wel_stress_period_data_4.txt',\n",
       " 'freyberg6.wel_stress_period_data_5.txt',\n",
       " 'freyberg6.wel_stress_period_data_6.txt',\n",
       " 'freyberg6.wel_stress_period_data_7.txt',\n",
       " 'freyberg6.wel_stress_period_data_8.txt',\n",
       " 'freyberg6.wel_stress_period_data_9.txt',\n",
       " 'freyberg6_freyberg.cbc',\n",
       " 'freyberg6_freyberg.hds',\n",
       " 'freyberg_mp.mpbas',\n",
       " 'freyberg_mp.mpnam',\n",
       " 'freyberg_mp.mpsim',\n",
       " 'freyberg_mp.ne_layer1.txt',\n",
       " 'freyberg_mp.ne_layer2.txt',\n",
       " 'freyberg_mp.ne_layer3.txt',\n",
       " 'heads.csv',\n",
       " 'inschek.exe',\n",
       " 'mf2005.exe',\n",
       " 'mf5to6.exe',\n",
       " 'mf6.exe',\n",
       " 'mfsim.lst',\n",
       " 'mfsim.nam',\n",
       " 'mp7.exe',\n",
       " 'pestchek.exe',\n",
       " 'pestpp-da.exe',\n",
       " 'pestpp-glm.exe',\n",
       " 'pestpp-ies.exe',\n",
       " 'pestpp-mou.exe',\n",
       " 'pestpp-opt.exe',\n",
       " 'pestpp-sen.exe',\n",
       " 'pestpp-swp.exe',\n",
       " 'pm.pg1.sloc',\n",
       " 'sfr.csv',\n",
       " 'sfr.obs',\n",
       " 'tempchek.exe',\n",
       " 'zbud6.exe']"
      ]
     },
     "execution_count": 3,
     "metadata": {},
     "output_type": "execute_result"
    }
   ],
   "source": [
    "os.listdir(tmp_d)"
   ]
  },
  {
   "cell_type": "markdown",
   "metadata": {},
   "source": [
    "Now we need just a tiny bit of info about the spatial discretization of the model - this is needed to work out separation distances between parameters to build a geostatistical prior covariance matrix later.\n",
    "\n",
    "Here we will load the flopy sim and model instance just to help us define some quantities later - flopy is ***not required*** to use the `PstFrom` class. ***Neither is MODFLOW***. However, at the time of writing, support for `SpatialReference` to spatially locate parameters is limited to structured grid models.\n",
    "\n",
    "Load the simulation. Run it once to make sure it works and to ***make sure that model output files are in the folder***. "
   ]
  },
  {
   "cell_type": "code",
   "execution_count": 4,
   "metadata": {},
   "outputs": [
    {
     "name": "stdout",
     "output_type": "stream",
     "text": [
      "loading simulation...\n",
      "  loading simulation name file...\n",
      "  loading tdis package...\n",
      "  loading model gwf6...\n",
      "    loading package dis...\n",
      "    loading package ic...\n",
      "    loading package npf...\n",
      "    loading package sto...\n",
      "    loading package oc...\n",
      "    loading package wel...\n",
      "    loading package rch...\n",
      "    loading package ghb...\n",
      "    loading package sfr...\n",
      "    loading package obs...\n",
      "  loading solution package freyberg6...\n",
      "mf6.exe\n",
      "mp7.exe freyberg_mp.mpsim\n"
     ]
    }
   ],
   "source": [
    "# load simulation\n",
    "sim = flopy.mf6.MFSimulation.load(sim_ws=tmp_d)\n",
    "# load flow model\n",
    "gwf = sim.get_model()\n",
    "\n",
    "# run the model once to make sure it works\n",
    "pyemu.os_utils.run(\"mf6\",cwd=tmp_d)\n",
    "# run modpath7\n",
    "pyemu.os_utils.run(r'mp7 freyberg_mp.mpsim', cwd=tmp_d)"
   ]
  },
  {
   "cell_type": "markdown",
   "metadata": {},
   "source": [
    "### Spatial Reference\n",
    "Now we can instantiate a `SpatialReference`. This will later be passed to `PstFrom` to assist with spatially locating parameters (e.g. pilot points and/or cell-by-cell parameters).  You can also use the flopy `modelgrid` class instance that is attached to the simulation, but `SpatialReference` is cleaner and faster for structured grids..."
   ]
  },
  {
   "cell_type": "code",
   "execution_count": 5,
   "metadata": {},
   "outputs": [
    {
     "name": "stdout",
     "output_type": "stream",
     "text": [
      "   could not remove start_datetime\n"
     ]
    },
    {
     "data": {
      "text/plain": [
       "xul:0; yul:10000; rotation:0; proj4_str:None; units:meters; lenuni:2; length_multiplier:1.0"
      ]
     },
     "execution_count": 5,
     "metadata": {},
     "output_type": "execute_result"
    }
   ],
   "source": [
    "sr = pyemu.helpers.SpatialReference.from_namfile(\n",
    "        os.path.join(tmp_d, \"freyberg6.nam\"),\n",
    "        delr=gwf.dis.delr.array, delc=gwf.dis.delc.array)\n",
    "sr"
   ]
  },
  {
   "cell_type": "markdown",
   "metadata": {},
   "source": [
    "### Instantiate PstFrom\n",
    "\n",
    "Now we can start to construct the PEST(++) interface by instantiating a `PstFrom` class instance. There are a few things that we need to specify up front:\n",
    "\n",
    " - the folder in which we currently have model files (e.g. `tmp_d`). PstFrom will copy all the files from this directory into a new \"template\" folder.\n",
    " - **template folder**: this is a folder in which the PEST dataset will be constructed - this folder will hold the model files plus all of the files needed to run PEST(++). This folder/dataset will form the template for subsequent deployment of PEST(++).\n",
    " - **longnames**: for backwards compatibility with PEST and PEST_HP (i.e. non-PEST++ versions), which have upper limits to parameter/observation names (PEST++ does not). Setting this value to False is only recommended if required. \n",
    " - Whether the model is `zero based` or not.\n",
    " - (optional) the **spatial reference**, as previously discussed. This is only required if using `pyEMU` to define parameter spatial correlation. Alternatively, you can define these yourself or use utilities available in the PEST-suite. "
   ]
  },
  {
   "cell_type": "code",
   "execution_count": 6,
   "metadata": {},
   "outputs": [],
   "source": [
    "# specify a template directory (i.e. the PstFrom working folder)\n",
    "template_ws = os.path.join(\"freyberg6_template\")\n",
    "start_datetime=\"1-1-2008\"\n",
    "# instantiate PstFrom\n",
    "pf = pyemu.utils.PstFrom(original_d=tmp_d, # where the model is stored\n",
    "                            new_d=template_ws, # the PEST template folder\n",
    "                            remove_existing=True, # ensures a clean start\n",
    "                            longnames=True, # set False if using PEST/PEST_HP\n",
    "                            spatial_reference=sr, #the spatial reference we generated earlier\n",
    "                            zero_based=False, # does the MODEL use zero based indices? For example, MODFLOW does NOT\n",
    "                            start_datetime=start_datetime, # required when specifying temporal correlation between parameters\n",
    "                            echo=False) # to stop PstFrom from writting lots of infromation to the notebook; experiment by setting it as True to see the difference; usefull for troubleshooting"
   ]
  },
  {
   "cell_type": "code",
   "execution_count": 7,
   "metadata": {},
   "outputs": [
    {
     "data": {
      "text/plain": [
       "['freyberg6.dis',\n",
       " 'freyberg6.dis.grb',\n",
       " 'freyberg6.dis_botm_layer1.txt',\n",
       " 'freyberg6.dis_delc.txt',\n",
       " 'freyberg6.dis_delr.txt',\n",
       " 'freyberg6.dis_idomain_layer1.txt',\n",
       " 'freyberg6.dis_top.txt',\n",
       " 'freyberg6.ghb',\n",
       " 'freyberg6.ghb_stress_period_data_1.txt',\n",
       " 'freyberg6.gwfgwt',\n",
       " 'freyberg6.ic',\n",
       " 'freyberg6.ic_conc_strt_layer1.txt',\n",
       " 'freyberg6.ic_strt_layer1.txt',\n",
       " 'freyberg6.ims',\n",
       " 'freyberg6.lst',\n",
       " 'freyberg6.nam',\n",
       " 'freyberg6.npf',\n",
       " 'freyberg6.npf_icelltype_layer1.txt',\n",
       " 'freyberg6.npf_k33_layer1.txt',\n",
       " 'freyberg6.npf_k_layer1.txt',\n",
       " 'freyberg6.obs',\n",
       " 'freyberg6.oc',\n",
       " 'freyberg6.rch',\n",
       " 'freyberg6.rch_recharge_1.txt',\n",
       " 'freyberg6.rch_recharge_10.txt',\n",
       " 'freyberg6.rch_recharge_11.txt',\n",
       " 'freyberg6.rch_recharge_12.txt',\n",
       " 'freyberg6.rch_recharge_13.txt',\n",
       " 'freyberg6.rch_recharge_14.txt',\n",
       " 'freyberg6.rch_recharge_15.txt',\n",
       " 'freyberg6.rch_recharge_16.txt',\n",
       " 'freyberg6.rch_recharge_17.txt',\n",
       " 'freyberg6.rch_recharge_18.txt',\n",
       " 'freyberg6.rch_recharge_19.txt',\n",
       " 'freyberg6.rch_recharge_2.txt',\n",
       " 'freyberg6.rch_recharge_20.txt',\n",
       " 'freyberg6.rch_recharge_21.txt',\n",
       " 'freyberg6.rch_recharge_22.txt',\n",
       " 'freyberg6.rch_recharge_23.txt',\n",
       " 'freyberg6.rch_recharge_24.txt',\n",
       " 'freyberg6.rch_recharge_25.txt',\n",
       " 'freyberg6.rch_recharge_3.txt',\n",
       " 'freyberg6.rch_recharge_4.txt',\n",
       " 'freyberg6.rch_recharge_5.txt',\n",
       " 'freyberg6.rch_recharge_6.txt',\n",
       " 'freyberg6.rch_recharge_7.txt',\n",
       " 'freyberg6.rch_recharge_8.txt',\n",
       " 'freyberg6.rch_recharge_9.txt',\n",
       " 'freyberg6.sfr',\n",
       " 'freyberg6.sfr_connectiondata.txt',\n",
       " 'freyberg6.sfr_packagedata.txt',\n",
       " 'freyberg6.sfr_perioddata_1.txt',\n",
       " 'freyberg6.sft_package_data.txt',\n",
       " 'freyberg6.sto',\n",
       " 'freyberg6.sto_iconvert_layer1.txt',\n",
       " 'freyberg6.sto_ss_layer1.txt',\n",
       " 'freyberg6.sto_sy_layer1.txt',\n",
       " 'freyberg6.tdis',\n",
       " 'freyberg6.wel',\n",
       " 'freyberg6.wel_stress_period_data_1.txt',\n",
       " 'freyberg6.wel_stress_period_data_10.txt',\n",
       " 'freyberg6.wel_stress_period_data_11.txt',\n",
       " 'freyberg6.wel_stress_period_data_12.txt',\n",
       " 'freyberg6.wel_stress_period_data_13.txt',\n",
       " 'freyberg6.wel_stress_period_data_14.txt',\n",
       " 'freyberg6.wel_stress_period_data_15.txt',\n",
       " 'freyberg6.wel_stress_period_data_16.txt',\n",
       " 'freyberg6.wel_stress_period_data_17.txt',\n",
       " 'freyberg6.wel_stress_period_data_18.txt',\n",
       " 'freyberg6.wel_stress_period_data_19.txt',\n",
       " 'freyberg6.wel_stress_period_data_2.txt',\n",
       " 'freyberg6.wel_stress_period_data_20.txt',\n",
       " 'freyberg6.wel_stress_period_data_21.txt',\n",
       " 'freyberg6.wel_stress_period_data_22.txt',\n",
       " 'freyberg6.wel_stress_period_data_23.txt',\n",
       " 'freyberg6.wel_stress_period_data_24.txt',\n",
       " 'freyberg6.wel_stress_period_data_25.txt',\n",
       " 'freyberg6.wel_stress_period_data_3.txt',\n",
       " 'freyberg6.wel_stress_period_data_4.txt',\n",
       " 'freyberg6.wel_stress_period_data_5.txt',\n",
       " 'freyberg6.wel_stress_period_data_6.txt',\n",
       " 'freyberg6.wel_stress_period_data_7.txt',\n",
       " 'freyberg6.wel_stress_period_data_8.txt',\n",
       " 'freyberg6.wel_stress_period_data_9.txt',\n",
       " 'freyberg6_freyberg.cbc',\n",
       " 'freyberg6_freyberg.hds',\n",
       " 'freyberg_mp.mpbas',\n",
       " 'freyberg_mp.mpend',\n",
       " 'freyberg_mp.mplst',\n",
       " 'freyberg_mp.mpnam',\n",
       " 'freyberg_mp.mpsim',\n",
       " 'freyberg_mp.ne_layer1.txt',\n",
       " 'freyberg_mp.ne_layer2.txt',\n",
       " 'freyberg_mp.ne_layer3.txt',\n",
       " 'heads.csv',\n",
       " 'inschek.exe',\n",
       " 'mf2005.exe',\n",
       " 'mf5to6.exe',\n",
       " 'mf6.exe',\n",
       " 'mfsim.lst',\n",
       " 'mfsim.nam',\n",
       " 'mp7.exe',\n",
       " 'mpath7.log',\n",
       " 'mult',\n",
       " 'org',\n",
       " 'pestchek.exe',\n",
       " 'pestpp-da.exe',\n",
       " 'pestpp-glm.exe',\n",
       " 'pestpp-ies.exe',\n",
       " 'pestpp-mou.exe',\n",
       " 'pestpp-opt.exe',\n",
       " 'pestpp-sen.exe',\n",
       " 'pestpp-swp.exe',\n",
       " 'pm.pg1.sloc',\n",
       " 'sfr.csv',\n",
       " 'sfr.obs',\n",
       " 'tempchek.exe',\n",
       " 'zbud6.exe']"
      ]
     },
     "execution_count": 7,
     "metadata": {},
     "output_type": "execute_result"
    }
   ],
   "source": [
    "os.listdir(template_ws)"
   ]
  },
  {
   "cell_type": "markdown",
   "metadata": {},
   "source": [
    "So we see that when `PstFrom` is instantiated, it starts by copying the `original_d` to the `new_d`.  sweet as!"
   ]
  },
  {
   "cell_type": "markdown",
   "metadata": {},
   "source": [
    "### Observations\n",
    "\n",
    "We now have a `PstFrom` instance assigned to the variable `pf`. For now it is only an empty container to which we can start adding \"observations\", \"parameters\" and other bits and bobs.\n",
    "\n",
    "Let's start with observations because they are easier. `MODFLOW6` makes life even easier by recording observations in nicely organized .csv files. Isn't that a peach!\n",
    "\n",
    "#### Freyberg Recap\n",
    "As you may recall from the \"*intro to Freyberg*\" tutorial, the model is configured to record time series of head at observation wells, and flux at three locations along the river. These are recorded in external .csv files named `heads.csv` and `sfr.csv`, respectively. You should be able to see these files in the model folder.\n",
    "\n",
    "Recall that each .csv houses records of observation time-series. Outputs are recorded for each simulated stress-period. The model starts with a single steady-state stress-period, followed by 24 monthly transient stress-periods. The steady-state and first 12 transient stress-periods simulate the history-matching period. The last 12 transient stress periods simulate future conditions (i.e. the prediction period)."
   ]
  },
  {
   "cell_type": "code",
   "execution_count": 8,
   "metadata": {},
   "outputs": [
    {
     "name": "stdout",
     "output_type": "stream",
     "text": [
      "['sfr.csv']\n",
      "['heads.csv']\n"
     ]
    }
   ],
   "source": [
    "# check the output csv file names\n",
    "for i in gwf.obs:\n",
    "    print(i.output.obs_names)"
   ]
  },
  {
   "cell_type": "markdown",
   "metadata": {},
   "source": [
    "Let's start with the 'heads.csv' file. First load it as a DataFrame to take a look:"
   ]
  },
  {
   "cell_type": "code",
   "execution_count": 9,
   "metadata": {},
   "outputs": [
    {
     "data": {
      "text/html": [
       "<div>\n",
       "<style scoped>\n",
       "    .dataframe tbody tr th:only-of-type {\n",
       "        vertical-align: middle;\n",
       "    }\n",
       "\n",
       "    .dataframe tbody tr th {\n",
       "        vertical-align: top;\n",
       "    }\n",
       "\n",
       "    .dataframe thead th {\n",
       "        text-align: right;\n",
       "    }\n",
       "</style>\n",
       "<table border=\"1\" class=\"dataframe\">\n",
       "  <thead>\n",
       "    <tr style=\"text-align: right;\">\n",
       "      <th></th>\n",
       "      <th>TRGW-0-2-15</th>\n",
       "      <th>TRGW-0-2-9</th>\n",
       "      <th>TRGW-0-3-8</th>\n",
       "      <th>TRGW-0-9-1</th>\n",
       "      <th>TRGW-0-13-10</th>\n",
       "      <th>TRGW-0-15-16</th>\n",
       "      <th>TRGW-0-21-10</th>\n",
       "      <th>TRGW-0-22-15</th>\n",
       "      <th>TRGW-0-24-4</th>\n",
       "      <th>TRGW-0-26-6</th>\n",
       "      <th>TRGW-0-29-15</th>\n",
       "      <th>TRGW-0-33-7</th>\n",
       "      <th>TRGW-0-34-10</th>\n",
       "    </tr>\n",
       "    <tr>\n",
       "      <th>time</th>\n",
       "      <th></th>\n",
       "      <th></th>\n",
       "      <th></th>\n",
       "      <th></th>\n",
       "      <th></th>\n",
       "      <th></th>\n",
       "      <th></th>\n",
       "      <th></th>\n",
       "      <th></th>\n",
       "      <th></th>\n",
       "      <th></th>\n",
       "      <th></th>\n",
       "      <th></th>\n",
       "    </tr>\n",
       "  </thead>\n",
       "  <tbody>\n",
       "    <tr>\n",
       "      <th>3652.5</th>\n",
       "      <td>34.626504</td>\n",
       "      <td>35.594707</td>\n",
       "      <td>35.715488</td>\n",
       "      <td>36.718945</td>\n",
       "      <td>34.797358</td>\n",
       "      <td>34.378744</td>\n",
       "      <td>34.713368</td>\n",
       "      <td>34.239559</td>\n",
       "      <td>35.452834</td>\n",
       "      <td>35.066278</td>\n",
       "      <td>34.166173</td>\n",
       "      <td>34.636158</td>\n",
       "      <td>34.341889</td>\n",
       "    </tr>\n",
       "    <tr>\n",
       "      <th>3683.5</th>\n",
       "      <td>34.633560</td>\n",
       "      <td>35.608653</td>\n",
       "      <td>35.728759</td>\n",
       "      <td>36.732080</td>\n",
       "      <td>34.768494</td>\n",
       "      <td>34.359508</td>\n",
       "      <td>34.679023</td>\n",
       "      <td>34.205825</td>\n",
       "      <td>35.436127</td>\n",
       "      <td>35.008396</td>\n",
       "      <td>34.156127</td>\n",
       "      <td>34.604404</td>\n",
       "      <td>34.285080</td>\n",
       "    </tr>\n",
       "    <tr>\n",
       "      <th>3712.5</th>\n",
       "      <td>34.684382</td>\n",
       "      <td>35.696183</td>\n",
       "      <td>35.818154</td>\n",
       "      <td>36.833304</td>\n",
       "      <td>34.821230</td>\n",
       "      <td>34.399718</td>\n",
       "      <td>34.726236</td>\n",
       "      <td>34.240511</td>\n",
       "      <td>35.500678</td>\n",
       "      <td>35.055096</td>\n",
       "      <td>34.195098</td>\n",
       "      <td>34.654121</td>\n",
       "      <td>34.328380</td>\n",
       "    </tr>\n",
       "    <tr>\n",
       "      <th>3743.5</th>\n",
       "      <td>34.756157</td>\n",
       "      <td>35.829617</td>\n",
       "      <td>35.956444</td>\n",
       "      <td>36.997418</td>\n",
       "      <td>34.920983</td>\n",
       "      <td>34.469788</td>\n",
       "      <td>34.822798</td>\n",
       "      <td>34.303634</td>\n",
       "      <td>35.624531</td>\n",
       "      <td>35.166286</td>\n",
       "      <td>34.258479</td>\n",
       "      <td>34.754157</td>\n",
       "      <td>34.416088</td>\n",
       "    </tr>\n",
       "    <tr>\n",
       "      <th>3773.5</th>\n",
       "      <td>34.813334</td>\n",
       "      <td>35.948797</td>\n",
       "      <td>36.081709</td>\n",
       "      <td>37.157083</td>\n",
       "      <td>35.008383</td>\n",
       "      <td>34.526045</td>\n",
       "      <td>34.909527</td>\n",
       "      <td>34.354764</td>\n",
       "      <td>35.744619</td>\n",
       "      <td>35.274165</td>\n",
       "      <td>34.308607</td>\n",
       "      <td>34.844030</td>\n",
       "      <td>34.490486</td>\n",
       "    </tr>\n",
       "  </tbody>\n",
       "</table>\n",
       "</div>"
      ],
      "text/plain": [
       "        TRGW-0-2-15  TRGW-0-2-9  TRGW-0-3-8  TRGW-0-9-1  TRGW-0-13-10  \\\n",
       "time                                                                    \n",
       "3652.5    34.626504   35.594707   35.715488   36.718945     34.797358   \n",
       "3683.5    34.633560   35.608653   35.728759   36.732080     34.768494   \n",
       "3712.5    34.684382   35.696183   35.818154   36.833304     34.821230   \n",
       "3743.5    34.756157   35.829617   35.956444   36.997418     34.920983   \n",
       "3773.5    34.813334   35.948797   36.081709   37.157083     35.008383   \n",
       "\n",
       "        TRGW-0-15-16  TRGW-0-21-10  TRGW-0-22-15  TRGW-0-24-4  TRGW-0-26-6  \\\n",
       "time                                                                         \n",
       "3652.5     34.378744     34.713368     34.239559    35.452834    35.066278   \n",
       "3683.5     34.359508     34.679023     34.205825    35.436127    35.008396   \n",
       "3712.5     34.399718     34.726236     34.240511    35.500678    35.055096   \n",
       "3743.5     34.469788     34.822798     34.303634    35.624531    35.166286   \n",
       "3773.5     34.526045     34.909527     34.354764    35.744619    35.274165   \n",
       "\n",
       "        TRGW-0-29-15  TRGW-0-33-7  TRGW-0-34-10  \n",
       "time                                             \n",
       "3652.5     34.166173    34.636158     34.341889  \n",
       "3683.5     34.156127    34.604404     34.285080  \n",
       "3712.5     34.195098    34.654121     34.328380  \n",
       "3743.5     34.258479    34.754157     34.416088  \n",
       "3773.5     34.308607    34.844030     34.490486  "
      ]
     },
     "execution_count": 9,
     "metadata": {},
     "output_type": "execute_result"
    }
   ],
   "source": [
    "df = pd.read_csv(os.path.join(template_ws,\"heads.csv\"),index_col=0)\n",
    "df.head()"
   ]
  },
  {
   "cell_type": "markdown",
   "metadata": {},
   "source": [
    "As you can see, there are many columns, one for each observation site. Conveniently, * *cough* * they are named according to the cell layer, row and column. \n",
    "\n",
    "The values in the *.csv* file were generated by running the model. (***IMPORTANT!***) However, `PstFrom` assumes that values in this file are the *target* observation values, and they will be used to populate the PEST(++) dataset.  This lets the user quickly verify that the `PstFrom` process reproduces the same model output files - an important thing to test!\n",
    "\n",
    "Now, you can and should change the observation values later on for the quantities that correspond to actual observation data.  This is the standard workflow when using `PstFrom` because it allows users to separate the PEST interface setup from the always-important process of setting observation values and weights. We address this part of the workflow in a separate tutorial."
   ]
  },
  {
   "cell_type": "markdown",
   "metadata": {},
   "source": [
    "#### Adding Observations\n",
    "\n",
    "First, we will use the `PstFrom.add_observations()` method to add observations to our `pf` object. This method can use ***list-type*** files, where the data are organized in column/tabular format with one or more index columns and one or more data columns.  This method can also use ***array-type*** files, where the data are organized in a 2-D array structure (we will see this one later...)\n",
    "\n",
    "We are going to tell `pf` which columns of this file contain observations. Values in these columns will be assigned to *observation values*.\n",
    "\n",
    "We can also inform it if there is an index column (or columns). Values in this column will be included in the *observation names*. \n",
    "\n",
    "We could also specify which rows to include as observations. But observations are free...so why not keep them all! \n",
    "\n",
    "Let's add observations from `heads.csv`. The first column of this file records the time at which the value is simulated. Let's use that as the index column (this becomes useful later on to post-process results). We want all other columns as observation values.\n"
   ]
  },
  {
   "cell_type": "code",
   "execution_count": 10,
   "metadata": {},
   "outputs": [],
   "source": [
    "hds_df = pf.add_observations(\"heads.csv\", # the model output file to read\n",
    "                            insfile=\"heads.csv.ins\", #optional, the instruction file name\n",
    "                            index_cols=\"time\", #column header to use as index; can also use column number (zero-based) instead of the header name\n",
    "                            use_cols=list(df.columns.values), #names of columns that include observation values; can also use column number (zero-based) instead of the header name\n",
    "                            prefix=\"hds\") #prefix to all observation names; choose something logical and easy to find. We use it later on to select obsevrations"
   ]
  },
  {
   "cell_type": "markdown",
   "metadata": {},
   "source": [
    "Let's inspect what we just created. \n",
    "\n",
    "We can see that the `.add_observations()` method returned a dataframe with lots of useful info: \n",
    "\n",
    " - the observation names that were formed (see `obsnme` column); note that these include lots of useful metadata like the column name, index value and so on;\n",
    " - the values that were read from `heads.csv` (see `obsval` column); \n",
    " - some generic weights and group names; note that observations are grouped according to the column of the model output .csv. Alternatively, we could have specified a list of observation group names."
   ]
  },
  {
   "cell_type": "code",
   "execution_count": 11,
   "metadata": {},
   "outputs": [
    {
     "data": {
      "text/html": [
       "<div>\n",
       "<style scoped>\n",
       "    .dataframe tbody tr th:only-of-type {\n",
       "        vertical-align: middle;\n",
       "    }\n",
       "\n",
       "    .dataframe tbody tr th {\n",
       "        vertical-align: top;\n",
       "    }\n",
       "\n",
       "    .dataframe thead th {\n",
       "        text-align: right;\n",
       "    }\n",
       "</style>\n",
       "<table border=\"1\" class=\"dataframe\">\n",
       "  <thead>\n",
       "    <tr style=\"text-align: right;\">\n",
       "      <th></th>\n",
       "      <th>obsnme</th>\n",
       "      <th>obsval</th>\n",
       "      <th>weight</th>\n",
       "      <th>obgnme</th>\n",
       "    </tr>\n",
       "  </thead>\n",
       "  <tbody>\n",
       "    <tr>\n",
       "      <th>oname:hds_otype:lst_usecol:trgw-0-13-10_time:3652.5</th>\n",
       "      <td>oname:hds_otype:lst_usecol:trgw-0-13-10_time:3652.5</td>\n",
       "      <td>34.797358</td>\n",
       "      <td>1.0</td>\n",
       "      <td>oname:hds_otype:lst_usecol:trgw-0-13-10</td>\n",
       "    </tr>\n",
       "    <tr>\n",
       "      <th>oname:hds_otype:lst_usecol:trgw-0-13-10_time:3683.5</th>\n",
       "      <td>oname:hds_otype:lst_usecol:trgw-0-13-10_time:3683.5</td>\n",
       "      <td>34.768494</td>\n",
       "      <td>1.0</td>\n",
       "      <td>oname:hds_otype:lst_usecol:trgw-0-13-10</td>\n",
       "    </tr>\n",
       "    <tr>\n",
       "      <th>oname:hds_otype:lst_usecol:trgw-0-13-10_time:3712.5</th>\n",
       "      <td>oname:hds_otype:lst_usecol:trgw-0-13-10_time:3712.5</td>\n",
       "      <td>34.821230</td>\n",
       "      <td>1.0</td>\n",
       "      <td>oname:hds_otype:lst_usecol:trgw-0-13-10</td>\n",
       "    </tr>\n",
       "    <tr>\n",
       "      <th>oname:hds_otype:lst_usecol:trgw-0-13-10_time:3743.5</th>\n",
       "      <td>oname:hds_otype:lst_usecol:trgw-0-13-10_time:3743.5</td>\n",
       "      <td>34.920983</td>\n",
       "      <td>1.0</td>\n",
       "      <td>oname:hds_otype:lst_usecol:trgw-0-13-10</td>\n",
       "    </tr>\n",
       "    <tr>\n",
       "      <th>oname:hds_otype:lst_usecol:trgw-0-13-10_time:3773.5</th>\n",
       "      <td>oname:hds_otype:lst_usecol:trgw-0-13-10_time:3773.5</td>\n",
       "      <td>35.008383</td>\n",
       "      <td>1.0</td>\n",
       "      <td>oname:hds_otype:lst_usecol:trgw-0-13-10</td>\n",
       "    </tr>\n",
       "  </tbody>\n",
       "</table>\n",
       "</div>"
      ],
      "text/plain": [
       "                                                                                                  obsnme  \\\n",
       "oname:hds_otype:lst_usecol:trgw-0-13-10_time:3652.5  oname:hds_otype:lst_usecol:trgw-0-13-10_time:3652.5   \n",
       "oname:hds_otype:lst_usecol:trgw-0-13-10_time:3683.5  oname:hds_otype:lst_usecol:trgw-0-13-10_time:3683.5   \n",
       "oname:hds_otype:lst_usecol:trgw-0-13-10_time:3712.5  oname:hds_otype:lst_usecol:trgw-0-13-10_time:3712.5   \n",
       "oname:hds_otype:lst_usecol:trgw-0-13-10_time:3743.5  oname:hds_otype:lst_usecol:trgw-0-13-10_time:3743.5   \n",
       "oname:hds_otype:lst_usecol:trgw-0-13-10_time:3773.5  oname:hds_otype:lst_usecol:trgw-0-13-10_time:3773.5   \n",
       "\n",
       "                                                        obsval  weight  \\\n",
       "oname:hds_otype:lst_usecol:trgw-0-13-10_time:3652.5  34.797358     1.0   \n",
       "oname:hds_otype:lst_usecol:trgw-0-13-10_time:3683.5  34.768494     1.0   \n",
       "oname:hds_otype:lst_usecol:trgw-0-13-10_time:3712.5  34.821230     1.0   \n",
       "oname:hds_otype:lst_usecol:trgw-0-13-10_time:3743.5  34.920983     1.0   \n",
       "oname:hds_otype:lst_usecol:trgw-0-13-10_time:3773.5  35.008383     1.0   \n",
       "\n",
       "                                                                                      obgnme  \n",
       "oname:hds_otype:lst_usecol:trgw-0-13-10_time:3652.5  oname:hds_otype:lst_usecol:trgw-0-13-10  \n",
       "oname:hds_otype:lst_usecol:trgw-0-13-10_time:3683.5  oname:hds_otype:lst_usecol:trgw-0-13-10  \n",
       "oname:hds_otype:lst_usecol:trgw-0-13-10_time:3712.5  oname:hds_otype:lst_usecol:trgw-0-13-10  \n",
       "oname:hds_otype:lst_usecol:trgw-0-13-10_time:3743.5  oname:hds_otype:lst_usecol:trgw-0-13-10  \n",
       "oname:hds_otype:lst_usecol:trgw-0-13-10_time:3773.5  oname:hds_otype:lst_usecol:trgw-0-13-10  "
      ]
     },
     "execution_count": 11,
     "metadata": {},
     "output_type": "execute_result"
    }
   ],
   "source": [
    "hds_df.head()"
   ]
  },
  {
   "cell_type": "markdown",
   "metadata": {},
   "source": [
    "At this point, no PEST *control file* has been created, we have simply prepared to add these observations to the control file later. Everything is still only stored in memory. However, a PEST *instruction* file has been created in the template folder (`template_ws`):"
   ]
  },
  {
   "cell_type": "code",
   "execution_count": 12,
   "metadata": {},
   "outputs": [
    {
     "data": {
      "text/plain": [
       "['heads.csv.ins']"
      ]
     },
     "execution_count": 12,
     "metadata": {},
     "output_type": "execute_result"
    }
   ],
   "source": [
    "[f for f in os.listdir(template_ws) if f.endswith(\".ins\")]"
   ]
  },
  {
   "cell_type": "markdown",
   "metadata": {},
   "source": [
    "Blimey, wasn't that easy? Automatically monitoring thousands of model output quantities as observations into a PEST dataset becomes a breeze!\n",
    "\n",
    "Let's quickly do the same thing for the SFR observations."
   ]
  },
  {
   "cell_type": "code",
   "execution_count": 13,
   "metadata": {},
   "outputs": [
    {
     "data": {
      "text/html": [
       "<div>\n",
       "<style scoped>\n",
       "    .dataframe tbody tr th:only-of-type {\n",
       "        vertical-align: middle;\n",
       "    }\n",
       "\n",
       "    .dataframe tbody tr th {\n",
       "        vertical-align: top;\n",
       "    }\n",
       "\n",
       "    .dataframe thead th {\n",
       "        text-align: right;\n",
       "    }\n",
       "</style>\n",
       "<table border=\"1\" class=\"dataframe\">\n",
       "  <thead>\n",
       "    <tr style=\"text-align: right;\">\n",
       "      <th></th>\n",
       "      <th>HEADWATER</th>\n",
       "      <th>TAILWATER</th>\n",
       "      <th>GAGE-1</th>\n",
       "    </tr>\n",
       "    <tr>\n",
       "      <th>time</th>\n",
       "      <th></th>\n",
       "      <th></th>\n",
       "      <th></th>\n",
       "    </tr>\n",
       "  </thead>\n",
       "  <tbody>\n",
       "    <tr>\n",
       "      <th>3652.5</th>\n",
       "      <td>-1271.609373</td>\n",
       "      <td>-934.744886</td>\n",
       "      <td>2675.694849</td>\n",
       "    </tr>\n",
       "    <tr>\n",
       "      <th>3683.5</th>\n",
       "      <td>-1188.261301</td>\n",
       "      <td>-903.583105</td>\n",
       "      <td>2561.700004</td>\n",
       "    </tr>\n",
       "    <tr>\n",
       "      <th>3712.5</th>\n",
       "      <td>-1278.176409</td>\n",
       "      <td>-975.062935</td>\n",
       "      <td>2720.180988</td>\n",
       "    </tr>\n",
       "    <tr>\n",
       "      <th>3743.5</th>\n",
       "      <td>-1442.004051</td>\n",
       "      <td>-1100.483634</td>\n",
       "      <td>3005.022456</td>\n",
       "    </tr>\n",
       "    <tr>\n",
       "      <th>3773.5</th>\n",
       "      <td>-1576.905331</td>\n",
       "      <td>-1201.101468</td>\n",
       "      <td>3237.266916</td>\n",
       "    </tr>\n",
       "  </tbody>\n",
       "</table>\n",
       "</div>"
      ],
      "text/plain": [
       "          HEADWATER    TAILWATER       GAGE-1\n",
       "time                                         \n",
       "3652.5 -1271.609373  -934.744886  2675.694849\n",
       "3683.5 -1188.261301  -903.583105  2561.700004\n",
       "3712.5 -1278.176409  -975.062935  2720.180988\n",
       "3743.5 -1442.004051 -1100.483634  3005.022456\n",
       "3773.5 -1576.905331 -1201.101468  3237.266916"
      ]
     },
     "execution_count": 13,
     "metadata": {},
     "output_type": "execute_result"
    }
   ],
   "source": [
    "df = pd.read_csv(os.path.join(template_ws, \"sfr.csv\"), index_col=0)\n",
    "df.head()"
   ]
  },
  {
   "cell_type": "code",
   "execution_count": 14,
   "metadata": {},
   "outputs": [],
   "source": [
    "# add the observations to pf\n",
    "sfr_df = pf.add_observations(\"sfr.csv\", # the model output file to read\n",
    "                            insfile=\"sfr.csv.ins\", #optional, the instruction file name\n",
    "                            index_cols=\"time\", #column header to use as index; can also use column number (zero-based) instead of the header name\n",
    "                            use_cols=list(df.columns.values), #names of columns that include observation values; can also use column number (zero-based) instead of the header name\n",
    "                            prefix=\"sfr\") #prefix to all observation names"
   ]
  },
  {
   "cell_type": "markdown",
   "metadata": {},
   "source": [
    "We also want to add observations of particle travel time and status. Unfortuanately the file written by MODPATH7 is not easily injestible by `PstFrom`. So we are going to need to \"manually\" construct an instruction file. We could add that now with the `PstFrom.add_observations_from_ins()` method, but we will wait and  add these after constructing the `Pst` object - soon!"
   ]
  },
  {
   "cell_type": "markdown",
   "metadata": {},
   "source": [
    "### Parameters\n",
    "\n",
    "The `PstFrom.add_parameters()` method reads model input files and adds parameters to the PEST(++) dataset. Parameterization can be configured in several ways. \n",
    "\n",
    " - model input files can be in array or list format;\n",
    " - parameters can be setup as different \"types\". Each value in model input files can (1) each be a separate parameter (\"grid\" scale parameters), (2) be grouped into \"zones\" or (3) all be treated as a single parameter (\"constant\" type). Alternatively, (4) parameters can be assigned to pilot points, from which individual parameter values are subsequently interpolated. `PstFrom` adds the relevant pre-processing steps to assign parameter values directly into the \"model run\" script.\n",
    " - parameter values can be setup as \"direct\", \"multiplier\" or \"addend\". This means the \"parameter value\" which PEST(++) sees can be (1) the same value the model sees, (2) a multiplier on the value in the existing/original model input file, or (3) a value which is added to the value in the existing/original model input file. This is very nifty and allows for some pretty advanced parameterization schemes by allowing mixtures of different types of parameters. `PstFrom` is designed to preferentially use parameters setup as multipliers (that is the default parameter type). This lets us preserve the existing model inputs and treat them as the mean of the prior parameter distribution. Once again, relevant pre-processing scripts are automatically added to the \"model run\" script (discussed later) so that the multiplicative and additive parameterization process is not something the user has to worry about.\n",
    "\n",
    "\n",
    "#### Freyberg Recap\n",
    "\n",
    "As discussed, all model inputs are stored in external files. Some are arrays. Others are lists. Recall that our model has 1 layer. It is transient. Hydraulic properties (Kh, Kv, Ss, Sy) vary in space. Recharge varies over both space and time. We have GHBs, SFR and WEL boundary conditions. GHB parameters are constant over time, but vary spatially. SFR inflow varies over time. Pumping rates of individual wells are uncertain in space and and time.\n",
    "\n",
    "All of these have some degree of spatial and/or temporal correlation.\n",
    "\n",
    "#### Geostatistical Structures\n",
    "\n",
    "Parameter correlation plays a role in (1) regularization when giving preference to the emergence of patterns of spatial heterogeneity and (2) when specifying the prior parameter probability distribution (which is what regularization is enforcing!). Since we are all sophisticated and recognize the importance of expressing spatial and temporal uncertainty (e.g. heterogeneity) in the model inputs (and the corresponding spatial correlation in those uncertain inputs), let's use geostatistics to express uncertainty. To do that we need to define \"geostatistical structures\". \n",
    "\n",
    "For the sake of this tutorial, let's assume that heterogeneity for grid-scale parameters has a shorter correlation length than pilot point parameters.  So we will make two geostatistical structures for spatial parameters:"
   ]
  },
  {
   "cell_type": "code",
   "execution_count": 15,
   "metadata": {},
   "outputs": [
    {
     "data": {
      "image/png": "[encoded data removed]",
      "text/plain": [
       "<Figure size 640x480 with 1 Axes>"
      ]
     },
     "metadata": {},
     "output_type": "display_data"
    }
   ],
   "source": [
    "# exponential variogram for spatially varying parameters\n",
    "v_grid = pyemu.geostats.ExpVario(contribution=1.0, #sill\n",
    "                                    a=1000, # range of correlation; length units of the model. In our case 'meters'\n",
    "                                    anisotropy=1.0, #name says it all\n",
    "                                    bearing=0.0 #angle in degrees East of North corresponding to anisotropy ellipse\n",
    "                                    )\n",
    "\n",
    "# geostatistical structure for spatially varying parameters\n",
    "grid_gs = pyemu.geostats.GeoStruct(variograms=v_grid, transform='log') \n",
    "\n",
    "# plot the gs if you like:\n",
    "ax = grid_gs.plot()"
   ]
  },
  {
   "cell_type": "code",
   "execution_count": 16,
   "metadata": {},
   "outputs": [
    {
     "data": {
      "image/png": "[encoded data removed]",
      "text/plain": [
       "<Figure size 640x480 with 1 Axes>"
      ]
     },
     "metadata": {},
     "output_type": "display_data"
    }
   ],
   "source": [
    "# exponential variogram for spatially varying parameters\n",
    "v_pp = pyemu.geostats.ExpVario(contribution=1.0, #sill\n",
    "                                    a=15000, # range of correlation; length units of the model. In our case 'meters'\n",
    "                                    anisotropy=1.0, #name says it all\n",
    "                                    bearing=0.0 #angle in degrees East of North corresponding to anisotropy ellipse\n",
    "                                    )\n",
    "\n",
    "# geostatistical structure for spatially varying parameters\n",
    "pp_gs = pyemu.geostats.GeoStruct(variograms=v_pp, transform='log') \n",
    "\n",
    "# plot the gs if you like:\n",
    "_ = pp_gs.plot()"
   ]
  },
  {
   "cell_type": "code",
   "execution_count": 17,
   "metadata": {},
   "outputs": [],
   "source": [
    "# exponential variogram for time varying parameters\n",
    "v_time = pyemu.geostats.ExpVario(contribution=1.0, #sill\n",
    "                                    a=60, # range of correlation; length time units (days)\n",
    "                                    anisotropy=1.0, #do not change for 1-D time\n",
    "                                    bearing=0.0 #do not change for 1-D time\n",
    "                                    )\n",
    "\n",
    "# geostatistical structure for time varying parameters\n",
    "temporal_gs = pyemu.geostats.GeoStruct(variograms=v_time, transform='none') "
   ]
  },
  {
   "cell_type": "markdown",
   "metadata": {},
   "source": [
    "#### Add Parameters\n",
    "\n",
    "Let's start by adding parameters of hydraulic properties that vary in space (but not time) and which are housed in array-type files (e.g. Kh, Kv, Ss, Sy). We will start by demonstrating step-by-step for Kh.\n",
    "\n",
    "First, find all the external array files that contain Kh values. In our case, these are the files with \"npf_k_\" in the file name."
   ]
  },
  {
   "cell_type": "code",
   "execution_count": 18,
   "metadata": {},
   "outputs": [
    {
     "name": "stdout",
     "output_type": "stream",
     "text": [
      "['freyberg6.npf_k_layer1.txt']\n"
     ]
    }
   ],
   "source": [
    "tag = \"npf_k_\"\n",
    "files = [f for f in os.listdir(template_ws) if tag in f.lower() and f.endswith(\".txt\")]\n",
    "print(files)"
   ]
  },
  {
   "cell_type": "markdown",
   "metadata": {},
   "source": [
    "Let's setup multiple spatial scales of parameters for Kh. To do this we will use three of the parameter \"types\" described above. The coarse scale will be a `constant` single value for each array. The medium scale will `pilot points`. The finest scale will use parameters as the `grid` scale (a unique parameter for each model cell!)\n",
    "\n",
    "Each scale of parameters will work with the others as multipliers with the existing Kh arrays. (This all happens at runtime as part of the \"model run\" script.) Think of the scales as dials that PEST(++) can turn to improve the fit. The \"coarse\" scale is one big dial that allows PEST to move everything at once - that is, change the mean of the entire Kh array. The \"medium\" dials are few (but not too many) that allow PEST to adjust broad areas, but not making everything move. The \"fine\" scales are lots of small dials that allow PEST(++) to have very detailed control, tweaking parameter values within very small areas. \n",
    "\n",
    "However, because we are working with parameter `multipliers`, we will need to specify two sets of parameter bounds: \n",
    " - `upper_bound` and `lower_bound` are the standard control file bounds (the bounds on the parameters that PEST sees), while\n",
    " - `ult_ubound` and `ult_lbound` are bounds that are applied at runtime to the resulting (multiplied out) model input array that MODFLOW reads. \n",
    " \n",
    "Since we are using sets of multipliers, it is important to make sure we keep the resulting model input arrays within the range of realistic values.\n",
    "\n",
    "#### Array Files\n",
    "\n",
    "We will first demonstrate step-by-step for `freyberg6.npf_k_layer1.txt`. We will start with grid scale parameters. These are multipliers assigned to each individual value in the array.\n",
    "\n",
    "We start by getting the idomain array. As our model has inactive cells, this helps us avoid adding unnecessary parameters. It is also required later when generating pilot points."
   ]
  },
  {
   "cell_type": "code",
   "execution_count": 19,
   "metadata": {},
   "outputs": [
    {
     "data": {
      "text/plain": [
       "<matplotlib.image.AxesImage at 0x2acd87e8950>"
      ]
     },
     "execution_count": 19,
     "metadata": {},
     "output_type": "execute_result"
    },
    {
     "data": {
      "image/png": "[encoded data removed]",
      "text/plain": [
       "<Figure size 640x480 with 1 Axes>"
      ]
     },
     "metadata": {},
     "output_type": "display_data"
    }
   ],
   "source": [
    "# get the IIDOMAIN array; in our case we only have one layer\n",
    "ib = gwf.dis.idomain.array[0]\n",
    "plt.imshow(ib)"
   ]
  },
  {
   "cell_type": "code",
   "execution_count": 20,
   "metadata": {},
   "outputs": [],
   "source": [
    "f = 'freyberg6.npf_k_layer1.txt'\n",
    "\n",
    "# grid (fine) scale parameters\n",
    "df_gr = pf.add_parameters(f,\n",
    "                zone_array=ib, #as we have inactive model cells, we can avoid assigning these as parameters\n",
    "                par_type=\"grid\", #specify the type, these will be unique parameters for each cell\n",
    "                geostruct=grid_gs, # the gestatisical structure for spatial correlation \n",
    "                par_name_base=f.split('.')[1].replace(\"_\",\"\")+\"gr\", #specify a parameter name base that allows us to easily identify the filename and parameter type. \"_gr\" for \"grid\", and so forth.\n",
    "                pargp=f.split('.')[1].replace(\"_\",\"\")+\"gr\", #likewise for the parameter group name\n",
    "                lower_bound=0.2, upper_bound=5.0, #parameter lower and upper bound\n",
    "                ult_ubound=100, ult_lbound=0.01 # The ultimate bounds for multiplied model input values. Here we are stating that, after accounting for all multipliers, Kh cannot exceed these values. Very important with multipliers\n",
    "                )"
   ]
  },
  {
   "cell_type": "markdown",
   "metadata": {},
   "source": [
    "As when adding observations,  `pf.add_parameters()` returns a dataframe. Take a look. You may recognize a lot of the information that appears in a PEST `*parameter data` section. All of this is still only housed in memory for now. We will write the PEST control file later on.\n",
    "\n",
    "(HUGE) Note: The `add_parameters()` call above added grid-scale parameters, that is, one parameter per active model cell for HK.  While this is fine for this simple demo problem, in practice, adding grid-scale parameters (while sexy!) can be a massive headache re storage, memory, computation, pre- and post-processing, etc, to the point that is can derail the entire modeling analysis.  So unless you are have really, really (REALLY!!!) good prediction-driven reason to use grid-scale parameters, we suggest using (denser) pilot points as a sweet-spot between grid-scale and zones to express reasonable and relevant hetereogeneity.  "
   ]
  },
  {
   "cell_type": "code",
   "execution_count": 21,
   "metadata": {},
   "outputs": [
    {
     "data": {
      "text/html": [
       "<div>\n",
       "<style scoped>\n",
       "    .dataframe tbody tr th:only-of-type {\n",
       "        vertical-align: middle;\n",
       "    }\n",
       "\n",
       "    .dataframe tbody tr th {\n",
       "        vertical-align: top;\n",
       "    }\n",
       "\n",
       "    .dataframe thead th {\n",
       "        text-align: right;\n",
       "    }\n",
       "</style>\n",
       "<table border=\"1\" class=\"dataframe\">\n",
       "  <thead>\n",
       "    <tr style=\"text-align: right;\">\n",
       "      <th></th>\n",
       "      <th>parnme</th>\n",
       "      <th>parval1</th>\n",
       "      <th>i</th>\n",
       "      <th>j</th>\n",
       "      <th>x</th>\n",
       "      <th>y</th>\n",
       "      <th>pargp</th>\n",
       "      <th>tpl_filename</th>\n",
       "      <th>input_filename</th>\n",
       "      <th>partype</th>\n",
       "      <th>partrans</th>\n",
       "      <th>parubnd</th>\n",
       "      <th>parlbnd</th>\n",
       "      <th>offset</th>\n",
       "      <th>scale</th>\n",
       "      <th>dercom</th>\n",
       "      <th>parchglim</th>\n",
       "    </tr>\n",
       "  </thead>\n",
       "  <tbody>\n",
       "    <tr>\n",
       "      <th>pname:npfklayer1gr_inst:0_ptype:gr_pstyle:m_i:0_j:0_x:125.00_y:9875.00_zone:1</th>\n",
       "      <td>pname:npfklayer1gr_inst:0_ptype:gr_pstyle:m_i:0_j:0_x:125.00_y:9875.00_zone:1</td>\n",
       "      <td>1.0</td>\n",
       "      <td>0</td>\n",
       "      <td>0</td>\n",
       "      <td>125.0</td>\n",
       "      <td>9875.0</td>\n",
       "      <td>npfklayer1gr</td>\n",
       "      <td>freyberg6_template\\npfklayer1gr_inst0_grid.csv.tpl</td>\n",
       "      <td>freyberg6_template\\mult\\npfklayer1gr_inst0_grid.csv</td>\n",
       "      <td>grid</td>\n",
       "      <td>log</td>\n",
       "      <td>5.0</td>\n",
       "      <td>0.2</td>\n",
       "      <td>0.0</td>\n",
       "      <td>1.0</td>\n",
       "      <td>1</td>\n",
       "      <td>factor</td>\n",
       "    </tr>\n",
       "    <tr>\n",
       "      <th>pname:npfklayer1gr_inst:0_ptype:gr_pstyle:m_i:0_j:1_x:375.00_y:9875.00_zone:1</th>\n",
       "      <td>pname:npfklayer1gr_inst:0_ptype:gr_pstyle:m_i:0_j:1_x:375.00_y:9875.00_zone:1</td>\n",
       "      <td>1.0</td>\n",
       "      <td>0</td>\n",
       "      <td>1</td>\n",
       "      <td>375.0</td>\n",
       "      <td>9875.0</td>\n",
       "      <td>npfklayer1gr</td>\n",
       "      <td>freyberg6_template\\npfklayer1gr_inst0_grid.csv.tpl</td>\n",
       "      <td>freyberg6_template\\mult\\npfklayer1gr_inst0_grid.csv</td>\n",
       "      <td>grid</td>\n",
       "      <td>log</td>\n",
       "      <td>5.0</td>\n",
       "      <td>0.2</td>\n",
       "      <td>0.0</td>\n",
       "      <td>1.0</td>\n",
       "      <td>1</td>\n",
       "      <td>factor</td>\n",
       "    </tr>\n",
       "    <tr>\n",
       "      <th>pname:npfklayer1gr_inst:0_ptype:gr_pstyle:m_i:0_j:2_x:625.00_y:9875.00_zone:1</th>\n",
       "      <td>pname:npfklayer1gr_inst:0_ptype:gr_pstyle:m_i:0_j:2_x:625.00_y:9875.00_zone:1</td>\n",
       "      <td>1.0</td>\n",
       "      <td>0</td>\n",
       "      <td>2</td>\n",
       "      <td>625.0</td>\n",
       "      <td>9875.0</td>\n",
       "      <td>npfklayer1gr</td>\n",
       "      <td>freyberg6_template\\npfklayer1gr_inst0_grid.csv.tpl</td>\n",
       "      <td>freyberg6_template\\mult\\npfklayer1gr_inst0_grid.csv</td>\n",
       "      <td>grid</td>\n",
       "      <td>log</td>\n",
       "      <td>5.0</td>\n",
       "      <td>0.2</td>\n",
       "      <td>0.0</td>\n",
       "      <td>1.0</td>\n",
       "      <td>1</td>\n",
       "      <td>factor</td>\n",
       "    </tr>\n",
       "    <tr>\n",
       "      <th>pname:npfklayer1gr_inst:0_ptype:gr_pstyle:m_i:0_j:3_x:875.00_y:9875.00_zone:1</th>\n",
       "      <td>pname:npfklayer1gr_inst:0_ptype:gr_pstyle:m_i:0_j:3_x:875.00_y:9875.00_zone:1</td>\n",
       "      <td>1.0</td>\n",
       "      <td>0</td>\n",
       "      <td>3</td>\n",
       "      <td>875.0</td>\n",
       "      <td>9875.0</td>\n",
       "      <td>npfklayer1gr</td>\n",
       "      <td>freyberg6_template\\npfklayer1gr_inst0_grid.csv.tpl</td>\n",
       "      <td>freyberg6_template\\mult\\npfklayer1gr_inst0_grid.csv</td>\n",
       "      <td>grid</td>\n",
       "      <td>log</td>\n",
       "      <td>5.0</td>\n",
       "      <td>0.2</td>\n",
       "      <td>0.0</td>\n",
       "      <td>1.0</td>\n",
       "      <td>1</td>\n",
       "      <td>factor</td>\n",
       "    </tr>\n",
       "    <tr>\n",
       "      <th>pname:npfklayer1gr_inst:0_ptype:gr_pstyle:m_i:0_j:4_x:1125.00_y:9875.00_zone:1</th>\n",
       "      <td>pname:npfklayer1gr_inst:0_ptype:gr_pstyle:m_i:0_j:4_x:1125.00_y:9875.00_zone:1</td>\n",
       "      <td>1.0</td>\n",
       "      <td>0</td>\n",
       "      <td>4</td>\n",
       "      <td>1125.0</td>\n",
       "      <td>9875.0</td>\n",
       "      <td>npfklayer1gr</td>\n",
       "      <td>freyberg6_template\\npfklayer1gr_inst0_grid.csv.tpl</td>\n",
       "      <td>freyberg6_template\\mult\\npfklayer1gr_inst0_grid.csv</td>\n",
       "      <td>grid</td>\n",
       "      <td>log</td>\n",
       "      <td>5.0</td>\n",
       "      <td>0.2</td>\n",
       "      <td>0.0</td>\n",
       "      <td>1.0</td>\n",
       "      <td>1</td>\n",
       "      <td>factor</td>\n",
       "    </tr>\n",
       "  </tbody>\n",
       "</table>\n",
       "</div>"
      ],
      "text/plain": [
       "                                                                                                                                                        parnme  \\\n",
       "pname:npfklayer1gr_inst:0_ptype:gr_pstyle:m_i:0_j:0_x:125.00_y:9875.00_zone:1    pname:npfklayer1gr_inst:0_ptype:gr_pstyle:m_i:0_j:0_x:125.00_y:9875.00_zone:1   \n",
       "pname:npfklayer1gr_inst:0_ptype:gr_pstyle:m_i:0_j:1_x:375.00_y:9875.00_zone:1    pname:npfklayer1gr_inst:0_ptype:gr_pstyle:m_i:0_j:1_x:375.00_y:9875.00_zone:1   \n",
       "pname:npfklayer1gr_inst:0_ptype:gr_pstyle:m_i:0_j:2_x:625.00_y:9875.00_zone:1    pname:npfklayer1gr_inst:0_ptype:gr_pstyle:m_i:0_j:2_x:625.00_y:9875.00_zone:1   \n",
       "pname:npfklayer1gr_inst:0_ptype:gr_pstyle:m_i:0_j:3_x:875.00_y:9875.00_zone:1    pname:npfklayer1gr_inst:0_ptype:gr_pstyle:m_i:0_j:3_x:875.00_y:9875.00_zone:1   \n",
       "pname:npfklayer1gr_inst:0_ptype:gr_pstyle:m_i:0_j:4_x:1125.00_y:9875.00_zone:1  pname:npfklayer1gr_inst:0_ptype:gr_pstyle:m_i:0_j:4_x:1125.00_y:9875.00_zone:1   \n",
       "\n",
       "                                                                                parval1  \\\n",
       "pname:npfklayer1gr_inst:0_ptype:gr_pstyle:m_i:0_j:0_x:125.00_y:9875.00_zone:1       1.0   \n",
       "pname:npfklayer1gr_inst:0_ptype:gr_pstyle:m_i:0_j:1_x:375.00_y:9875.00_zone:1       1.0   \n",
       "pname:npfklayer1gr_inst:0_ptype:gr_pstyle:m_i:0_j:2_x:625.00_y:9875.00_zone:1       1.0   \n",
       "pname:npfklayer1gr_inst:0_ptype:gr_pstyle:m_i:0_j:3_x:875.00_y:9875.00_zone:1       1.0   \n",
       "pname:npfklayer1gr_inst:0_ptype:gr_pstyle:m_i:0_j:4_x:1125.00_y:9875.00_zone:1      1.0   \n",
       "\n",
       "                                                                                i  \\\n",
       "pname:npfklayer1gr_inst:0_ptype:gr_pstyle:m_i:0_j:0_x:125.00_y:9875.00_zone:1   0   \n",
       "pname:npfklayer1gr_inst:0_ptype:gr_pstyle:m_i:0_j:1_x:375.00_y:9875.00_zone:1   0   \n",
       "pname:npfklayer1gr_inst:0_ptype:gr_pstyle:m_i:0_j:2_x:625.00_y:9875.00_zone:1   0   \n",
       "pname:npfklayer1gr_inst:0_ptype:gr_pstyle:m_i:0_j:3_x:875.00_y:9875.00_zone:1   0   \n",
       "pname:npfklayer1gr_inst:0_ptype:gr_pstyle:m_i:0_j:4_x:1125.00_y:9875.00_zone:1  0   \n",
       "\n",
       "                                                                                j  \\\n",
       "pname:npfklayer1gr_inst:0_ptype:gr_pstyle:m_i:0_j:0_x:125.00_y:9875.00_zone:1   0   \n",
       "pname:npfklayer1gr_inst:0_ptype:gr_pstyle:m_i:0_j:1_x:375.00_y:9875.00_zone:1   1   \n",
       "pname:npfklayer1gr_inst:0_ptype:gr_pstyle:m_i:0_j:2_x:625.00_y:9875.00_zone:1   2   \n",
       "pname:npfklayer1gr_inst:0_ptype:gr_pstyle:m_i:0_j:3_x:875.00_y:9875.00_zone:1   3   \n",
       "pname:npfklayer1gr_inst:0_ptype:gr_pstyle:m_i:0_j:4_x:1125.00_y:9875.00_zone:1  4   \n",
       "\n",
       "                                                                                     x  \\\n",
       "pname:npfklayer1gr_inst:0_ptype:gr_pstyle:m_i:0_j:0_x:125.00_y:9875.00_zone:1    125.0   \n",
       "pname:npfklayer1gr_inst:0_ptype:gr_pstyle:m_i:0_j:1_x:375.00_y:9875.00_zone:1    375.0   \n",
       "pname:npfklayer1gr_inst:0_ptype:gr_pstyle:m_i:0_j:2_x:625.00_y:9875.00_zone:1    625.0   \n",
       "pname:npfklayer1gr_inst:0_ptype:gr_pstyle:m_i:0_j:3_x:875.00_y:9875.00_zone:1    875.0   \n",
       "pname:npfklayer1gr_inst:0_ptype:gr_pstyle:m_i:0_j:4_x:1125.00_y:9875.00_zone:1  1125.0   \n",
       "\n",
       "                                                                                     y  \\\n",
       "pname:npfklayer1gr_inst:0_ptype:gr_pstyle:m_i:0_j:0_x:125.00_y:9875.00_zone:1   9875.0   \n",
       "pname:npfklayer1gr_inst:0_ptype:gr_pstyle:m_i:0_j:1_x:375.00_y:9875.00_zone:1   9875.0   \n",
       "pname:npfklayer1gr_inst:0_ptype:gr_pstyle:m_i:0_j:2_x:625.00_y:9875.00_zone:1   9875.0   \n",
       "pname:npfklayer1gr_inst:0_ptype:gr_pstyle:m_i:0_j:3_x:875.00_y:9875.00_zone:1   9875.0   \n",
       "pname:npfklayer1gr_inst:0_ptype:gr_pstyle:m_i:0_j:4_x:1125.00_y:9875.00_zone:1  9875.0   \n",
       "\n",
       "                                                                                       pargp  \\\n",
       "pname:npfklayer1gr_inst:0_ptype:gr_pstyle:m_i:0_j:0_x:125.00_y:9875.00_zone:1   npfklayer1gr   \n",
       "pname:npfklayer1gr_inst:0_ptype:gr_pstyle:m_i:0_j:1_x:375.00_y:9875.00_zone:1   npfklayer1gr   \n",
       "pname:npfklayer1gr_inst:0_ptype:gr_pstyle:m_i:0_j:2_x:625.00_y:9875.00_zone:1   npfklayer1gr   \n",
       "pname:npfklayer1gr_inst:0_ptype:gr_pstyle:m_i:0_j:3_x:875.00_y:9875.00_zone:1   npfklayer1gr   \n",
       "pname:npfklayer1gr_inst:0_ptype:gr_pstyle:m_i:0_j:4_x:1125.00_y:9875.00_zone:1  npfklayer1gr   \n",
       "\n",
       "                                                                                                                      tpl_filename  \\\n",
       "pname:npfklayer1gr_inst:0_ptype:gr_pstyle:m_i:0_j:0_x:125.00_y:9875.00_zone:1   freyberg6_template\\npfklayer1gr_inst0_grid.csv.tpl   \n",
       "pname:npfklayer1gr_inst:0_ptype:gr_pstyle:m_i:0_j:1_x:375.00_y:9875.00_zone:1   freyberg6_template\\npfklayer1gr_inst0_grid.csv.tpl   \n",
       "pname:npfklayer1gr_inst:0_ptype:gr_pstyle:m_i:0_j:2_x:625.00_y:9875.00_zone:1   freyberg6_template\\npfklayer1gr_inst0_grid.csv.tpl   \n",
       "pname:npfklayer1gr_inst:0_ptype:gr_pstyle:m_i:0_j:3_x:875.00_y:9875.00_zone:1   freyberg6_template\\npfklayer1gr_inst0_grid.csv.tpl   \n",
       "pname:npfklayer1gr_inst:0_ptype:gr_pstyle:m_i:0_j:4_x:1125.00_y:9875.00_zone:1  freyberg6_template\\npfklayer1gr_inst0_grid.csv.tpl   \n",
       "\n",
       "                                                                                                                     input_filename  \\\n",
       "pname:npfklayer1gr_inst:0_ptype:gr_pstyle:m_i:0_j:0_x:125.00_y:9875.00_zone:1   freyberg6_template\\mult\\npfklayer1gr_inst0_grid.csv   \n",
       "pname:npfklayer1gr_inst:0_ptype:gr_pstyle:m_i:0_j:1_x:375.00_y:9875.00_zone:1   freyberg6_template\\mult\\npfklayer1gr_inst0_grid.csv   \n",
       "pname:npfklayer1gr_inst:0_ptype:gr_pstyle:m_i:0_j:2_x:625.00_y:9875.00_zone:1   freyberg6_template\\mult\\npfklayer1gr_inst0_grid.csv   \n",
       "pname:npfklayer1gr_inst:0_ptype:gr_pstyle:m_i:0_j:3_x:875.00_y:9875.00_zone:1   freyberg6_template\\mult\\npfklayer1gr_inst0_grid.csv   \n",
       "pname:npfklayer1gr_inst:0_ptype:gr_pstyle:m_i:0_j:4_x:1125.00_y:9875.00_zone:1  freyberg6_template\\mult\\npfklayer1gr_inst0_grid.csv   \n",
       "\n",
       "                                                                               partype  \\\n",
       "pname:npfklayer1gr_inst:0_ptype:gr_pstyle:m_i:0_j:0_x:125.00_y:9875.00_zone:1     grid   \n",
       "pname:npfklayer1gr_inst:0_ptype:gr_pstyle:m_i:0_j:1_x:375.00_y:9875.00_zone:1     grid   \n",
       "pname:npfklayer1gr_inst:0_ptype:gr_pstyle:m_i:0_j:2_x:625.00_y:9875.00_zone:1     grid   \n",
       "pname:npfklayer1gr_inst:0_ptype:gr_pstyle:m_i:0_j:3_x:875.00_y:9875.00_zone:1     grid   \n",
       "pname:npfklayer1gr_inst:0_ptype:gr_pstyle:m_i:0_j:4_x:1125.00_y:9875.00_zone:1    grid   \n",
       "\n",
       "                                                                               partrans  \\\n",
       "pname:npfklayer1gr_inst:0_ptype:gr_pstyle:m_i:0_j:0_x:125.00_y:9875.00_zone:1       log   \n",
       "pname:npfklayer1gr_inst:0_ptype:gr_pstyle:m_i:0_j:1_x:375.00_y:9875.00_zone:1       log   \n",
       "pname:npfklayer1gr_inst:0_ptype:gr_pstyle:m_i:0_j:2_x:625.00_y:9875.00_zone:1       log   \n",
       "pname:npfklayer1gr_inst:0_ptype:gr_pstyle:m_i:0_j:3_x:875.00_y:9875.00_zone:1       log   \n",
       "pname:npfklayer1gr_inst:0_ptype:gr_pstyle:m_i:0_j:4_x:1125.00_y:9875.00_zone:1      log   \n",
       "\n",
       "                                                                                parubnd  \\\n",
       "pname:npfklayer1gr_inst:0_ptype:gr_pstyle:m_i:0_j:0_x:125.00_y:9875.00_zone:1       5.0   \n",
       "pname:npfklayer1gr_inst:0_ptype:gr_pstyle:m_i:0_j:1_x:375.00_y:9875.00_zone:1       5.0   \n",
       "pname:npfklayer1gr_inst:0_ptype:gr_pstyle:m_i:0_j:2_x:625.00_y:9875.00_zone:1       5.0   \n",
       "pname:npfklayer1gr_inst:0_ptype:gr_pstyle:m_i:0_j:3_x:875.00_y:9875.00_zone:1       5.0   \n",
       "pname:npfklayer1gr_inst:0_ptype:gr_pstyle:m_i:0_j:4_x:1125.00_y:9875.00_zone:1      5.0   \n",
       "\n",
       "                                                                                parlbnd  \\\n",
       "pname:npfklayer1gr_inst:0_ptype:gr_pstyle:m_i:0_j:0_x:125.00_y:9875.00_zone:1       0.2   \n",
       "pname:npfklayer1gr_inst:0_ptype:gr_pstyle:m_i:0_j:1_x:375.00_y:9875.00_zone:1       0.2   \n",
       "pname:npfklayer1gr_inst:0_ptype:gr_pstyle:m_i:0_j:2_x:625.00_y:9875.00_zone:1       0.2   \n",
       "pname:npfklayer1gr_inst:0_ptype:gr_pstyle:m_i:0_j:3_x:875.00_y:9875.00_zone:1       0.2   \n",
       "pname:npfklayer1gr_inst:0_ptype:gr_pstyle:m_i:0_j:4_x:1125.00_y:9875.00_zone:1      0.2   \n",
       "\n",
       "                                                                                offset  \\\n",
       "pname:npfklayer1gr_inst:0_ptype:gr_pstyle:m_i:0_j:0_x:125.00_y:9875.00_zone:1      0.0   \n",
       "pname:npfklayer1gr_inst:0_ptype:gr_pstyle:m_i:0_j:1_x:375.00_y:9875.00_zone:1      0.0   \n",
       "pname:npfklayer1gr_inst:0_ptype:gr_pstyle:m_i:0_j:2_x:625.00_y:9875.00_zone:1      0.0   \n",
       "pname:npfklayer1gr_inst:0_ptype:gr_pstyle:m_i:0_j:3_x:875.00_y:9875.00_zone:1      0.0   \n",
       "pname:npfklayer1gr_inst:0_ptype:gr_pstyle:m_i:0_j:4_x:1125.00_y:9875.00_zone:1     0.0   \n",
       "\n",
       "                                                                                scale  \\\n",
       "pname:npfklayer1gr_inst:0_ptype:gr_pstyle:m_i:0_j:0_x:125.00_y:9875.00_zone:1     1.0   \n",
       "pname:npfklayer1gr_inst:0_ptype:gr_pstyle:m_i:0_j:1_x:375.00_y:9875.00_zone:1     1.0   \n",
       "pname:npfklayer1gr_inst:0_ptype:gr_pstyle:m_i:0_j:2_x:625.00_y:9875.00_zone:1     1.0   \n",
       "pname:npfklayer1gr_inst:0_ptype:gr_pstyle:m_i:0_j:3_x:875.00_y:9875.00_zone:1     1.0   \n",
       "pname:npfklayer1gr_inst:0_ptype:gr_pstyle:m_i:0_j:4_x:1125.00_y:9875.00_zone:1    1.0   \n",
       "\n",
       "                                                                                dercom  \\\n",
       "pname:npfklayer1gr_inst:0_ptype:gr_pstyle:m_i:0_j:0_x:125.00_y:9875.00_zone:1        1   \n",
       "pname:npfklayer1gr_inst:0_ptype:gr_pstyle:m_i:0_j:1_x:375.00_y:9875.00_zone:1        1   \n",
       "pname:npfklayer1gr_inst:0_ptype:gr_pstyle:m_i:0_j:2_x:625.00_y:9875.00_zone:1        1   \n",
       "pname:npfklayer1gr_inst:0_ptype:gr_pstyle:m_i:0_j:3_x:875.00_y:9875.00_zone:1        1   \n",
       "pname:npfklayer1gr_inst:0_ptype:gr_pstyle:m_i:0_j:4_x:1125.00_y:9875.00_zone:1       1   \n",
       "\n",
       "                                                                               parchglim  \n",
       "pname:npfklayer1gr_inst:0_ptype:gr_pstyle:m_i:0_j:0_x:125.00_y:9875.00_zone:1     factor  \n",
       "pname:npfklayer1gr_inst:0_ptype:gr_pstyle:m_i:0_j:1_x:375.00_y:9875.00_zone:1     factor  \n",
       "pname:npfklayer1gr_inst:0_ptype:gr_pstyle:m_i:0_j:2_x:625.00_y:9875.00_zone:1     factor  \n",
       "pname:npfklayer1gr_inst:0_ptype:gr_pstyle:m_i:0_j:3_x:875.00_y:9875.00_zone:1     factor  \n",
       "pname:npfklayer1gr_inst:0_ptype:gr_pstyle:m_i:0_j:4_x:1125.00_y:9875.00_zone:1    factor  "
      ]
     },
     "execution_count": 21,
     "metadata": {},
     "output_type": "execute_result"
    }
   ],
   "source": [
    "df_gr.head()"
   ]
  },
  {
   "cell_type": "markdown",
   "metadata": {},
   "source": [
    "This `add_parameters()` call also wrote a template file that PEST(++) will use to populate the multiplier array at runtime:"
   ]
  },
  {
   "cell_type": "code",
   "execution_count": 22,
   "metadata": {},
   "outputs": [
    {
     "data": {
      "text/plain": [
       "['npfklayer1gr_inst0_grid.csv.tpl']"
      ]
     },
     "execution_count": 22,
     "metadata": {},
     "output_type": "execute_result"
    }
   ],
   "source": [
    "[f for f in os.listdir(template_ws) if f.endswith(\".tpl\")]"
   ]
  },
  {
   "cell_type": "markdown",
   "metadata": {},
   "source": [
    "Remember!  no PEST control file has been made yet. `PstFrom` is simply preparing to make a control file later..."
   ]
  },
  {
   "cell_type": "markdown",
   "metadata": {},
   "source": [
    "Now, we add pilot point (medium scale) multiplier parameters to the same model input file. These multipliers are assigned to pilot points, which are subsequently interpolated to values in the array.\n",
    "\n",
    "You can add pilot points in two ways:\n",
    "\n",
    "1. `PstFrom` can generate them for you on a regular grid or \n",
    "2. you can supply `PstFrom` with existing pilot point location information in the form of a dataframe or a point-coverage shapefile. \n",
    "\n",
    "When you change `par_type` to \"pilotpoints\", by default, a regular grid of pilot points is set up using a default `pp_space` value of 10 (which is every 10th row and column). You can change this spacing by passing an integer to `pp_space` (as demonstrated below). \n",
    "\n",
    "Alternatively you can specify a filename or dataframe with pilot point locations. If you supply `pp_space` as a `str` it is assumed to be a filename. The extension is the guide: \".csv\" for dataframe, \".shp\" for shapefile (point-type). Anything else and the file is assumed to be a pilot points file type. The dataframe (or .csv file) must have \"name\", \"x\", and \"y\" as columns - it can have more, but must have those. "
   ]
  },
  {
   "cell_type": "code",
   "execution_count": 23,
   "metadata": {},
   "outputs": [
    {
     "name": "stdout",
     "output_type": "stream",
     "text": [
      "starting interp point loop for 706 points\n",
      "starting 0\n",
      "starting 1\n",
      "starting 2\n",
      "starting 3\n",
      "starting 4\n",
      "starting 5\n",
      "starting 6\n",
      "starting 7\n",
      "starting 8\n",
      "starting 9\n",
      "took 4.099295 seconds\n"
     ]
    }
   ],
   "source": [
    "# pilot point (medium) scale parameters\n",
    "df_pp = pf.add_parameters(f,\n",
    "                    zone_array=ib,\n",
    "                    par_type=\"pilotpoints\",\n",
    "                    geostruct=pp_gs,\n",
    "                    par_name_base=f.split('.')[1].replace(\"_\",\"\")+\"pp\",\n",
    "                    pargp=f.split('.')[1].replace(\"_\",\"\")+\"pp\",\n",
    "                    lower_bound=0.2,upper_bound=5.0,\n",
    "                    ult_ubound=100, ult_lbound=0.01,\n",
    "                    pp_space=5) # `PstFrom` will generate a unifrom grid of pilot points in every 4th row and column"
   ]
  },
  {
   "cell_type": "code",
   "execution_count": 24,
   "metadata": {},
   "outputs": [
    {
     "data": {
      "text/plain": [
       "<matplotlib.collections.PathCollection at 0x2acd91dd250>"
      ]
     },
     "execution_count": 24,
     "metadata": {},
     "output_type": "execute_result"
    },
    {
     "data": {
      "image/png": "[encoded data removed]",
      "text/plain": [
       "<Figure size 400x600 with 1 Axes>"
      ]
     },
     "metadata": {},
     "output_type": "display_data"
    }
   ],
   "source": [
    "fig,ax = plt.subplots(1,1,figsize=(4,6))\n",
    "ax.set_aspect(\"equal\")\n",
    "ax.pcolormesh(sr.xcentergrid, sr.ycentergrid,ib)\n",
    "ax.scatter(df_pp.x,df_pp.y)"
   ]
  },
  {
   "cell_type": "markdown",
   "metadata": {},
   "source": [
    "Lastly, add the constant (coarse) parameter multiplier. This is a single multiplier value applied to all values in the array. In practice, including a single constant parameter for each property can be an important parameter to include since it conceptually represents uncertainty in the mean property value"
   ]
  },
  {
   "cell_type": "code",
   "execution_count": 25,
   "metadata": {},
   "outputs": [],
   "source": [
    "# constant (coarse) scale parameters\n",
    "df_cst = pf.add_parameters(f,\n",
    "                    zone_array=ib,\n",
    "                    par_type=\"constant\",\n",
    "                    geostruct=grid_gs,\n",
    "                    par_name_base=f.split('.')[1].replace(\"_\",\"\")+\"cn\",\n",
    "                    pargp=f.split('.')[1].replace(\"_\",\"\")+\"cn\",\n",
    "                    lower_bound=0.2,upper_bound=5.0,\n",
    "                    ult_ubound=100, ult_lbound=0.01)"
   ]
  },
  {
   "cell_type": "markdown",
   "metadata": {},
   "source": [
    "Now we see three template files have been created:"
   ]
  },
  {
   "cell_type": "code",
   "execution_count": 26,
   "metadata": {},
   "outputs": [
    {
     "data": {
      "text/plain": [
       "['npfklayer1cn_inst0_constant.csv.tpl',\n",
       " 'npfklayer1gr_inst0_grid.csv.tpl',\n",
       " 'npfklayer1pp_inst0pp.dat.tpl']"
      ]
     },
     "execution_count": 26,
     "metadata": {},
     "output_type": "execute_result"
    }
   ],
   "source": [
    "[f for f in os.listdir(template_ws) if f.endswith(\".tpl\")]"
   ]
  },
  {
   "cell_type": "markdown",
   "metadata": {},
   "source": [
    "Feel free to navigate to the `template_ws` and inspect these files."
   ]
  },
  {
   "cell_type": "markdown",
   "metadata": {},
   "source": [
    "We are also going to visualize the HK array later (since everyone is crazy about HK in groundwater modeling).  To make this easier, we can also add the HK array as \"observations\" in the pest control file.  This isnt always a good idea, especially if your model has heaps of rows/columns/nodes (in which case, you have lots of other problems to worry about!), but for reasonably sized models, this is an easy way to access to the HK array that the model sees, especially in an ensemble framework where there are lots of parameter sets (and therefore lots of HK arrays).  `PstFrom` makes this easy..."
   ]
  },
  {
   "cell_type": "code",
   "execution_count": 27,
   "metadata": {},
   "outputs": [
    {
     "data": {
      "text/html": [
       "<div>\n",
       "<style scoped>\n",
       "    .dataframe tbody tr th:only-of-type {\n",
       "        vertical-align: middle;\n",
       "    }\n",
       "\n",
       "    .dataframe tbody tr th {\n",
       "        vertical-align: top;\n",
       "    }\n",
       "\n",
       "    .dataframe thead th {\n",
       "        text-align: right;\n",
       "    }\n",
       "</style>\n",
       "<table border=\"1\" class=\"dataframe\">\n",
       "  <thead>\n",
       "    <tr style=\"text-align: right;\">\n",
       "      <th></th>\n",
       "      <th>obsnme</th>\n",
       "      <th>obsval</th>\n",
       "      <th>weight</th>\n",
       "      <th>obgnme</th>\n",
       "    </tr>\n",
       "  </thead>\n",
       "  <tbody>\n",
       "    <tr>\n",
       "      <th>oname:hk_otype:arr_i:0_j:0_zone:1</th>\n",
       "      <td>oname:hk_otype:arr_i:0_j:0_zone:1</td>\n",
       "      <td>11.1</td>\n",
       "      <td>1.0</td>\n",
       "      <td>hk</td>\n",
       "    </tr>\n",
       "    <tr>\n",
       "      <th>oname:hk_otype:arr_i:0_j:10_zone:1</th>\n",
       "      <td>oname:hk_otype:arr_i:0_j:10_zone:1</td>\n",
       "      <td>11.1</td>\n",
       "      <td>1.0</td>\n",
       "      <td>hk</td>\n",
       "    </tr>\n",
       "    <tr>\n",
       "      <th>oname:hk_otype:arr_i:0_j:11_zone:1</th>\n",
       "      <td>oname:hk_otype:arr_i:0_j:11_zone:1</td>\n",
       "      <td>11.1</td>\n",
       "      <td>1.0</td>\n",
       "      <td>hk</td>\n",
       "    </tr>\n",
       "    <tr>\n",
       "      <th>oname:hk_otype:arr_i:0_j:12_zone:1</th>\n",
       "      <td>oname:hk_otype:arr_i:0_j:12_zone:1</td>\n",
       "      <td>11.1</td>\n",
       "      <td>1.0</td>\n",
       "      <td>hk</td>\n",
       "    </tr>\n",
       "    <tr>\n",
       "      <th>oname:hk_otype:arr_i:0_j:13_zone:1</th>\n",
       "      <td>oname:hk_otype:arr_i:0_j:13_zone:1</td>\n",
       "      <td>11.1</td>\n",
       "      <td>1.0</td>\n",
       "      <td>hk</td>\n",
       "    </tr>\n",
       "    <tr>\n",
       "      <th>...</th>\n",
       "      <td>...</td>\n",
       "      <td>...</td>\n",
       "      <td>...</td>\n",
       "      <td>...</td>\n",
       "    </tr>\n",
       "    <tr>\n",
       "      <th>oname:hk_otype:arr_i:9_j:1_zone:1</th>\n",
       "      <td>oname:hk_otype:arr_i:9_j:1_zone:1</td>\n",
       "      <td>11.1</td>\n",
       "      <td>1.0</td>\n",
       "      <td>hk</td>\n",
       "    </tr>\n",
       "    <tr>\n",
       "      <th>oname:hk_otype:arr_i:9_j:2_zone:1</th>\n",
       "      <td>oname:hk_otype:arr_i:9_j:2_zone:1</td>\n",
       "      <td>11.1</td>\n",
       "      <td>1.0</td>\n",
       "      <td>hk</td>\n",
       "    </tr>\n",
       "    <tr>\n",
       "      <th>oname:hk_otype:arr_i:9_j:3_zone:1</th>\n",
       "      <td>oname:hk_otype:arr_i:9_j:3_zone:1</td>\n",
       "      <td>11.1</td>\n",
       "      <td>1.0</td>\n",
       "      <td>hk</td>\n",
       "    </tr>\n",
       "    <tr>\n",
       "      <th>oname:hk_otype:arr_i:9_j:8_zone:1</th>\n",
       "      <td>oname:hk_otype:arr_i:9_j:8_zone:1</td>\n",
       "      <td>11.1</td>\n",
       "      <td>1.0</td>\n",
       "      <td>hk</td>\n",
       "    </tr>\n",
       "    <tr>\n",
       "      <th>oname:hk_otype:arr_i:9_j:9_zone:1</th>\n",
       "      <td>oname:hk_otype:arr_i:9_j:9_zone:1</td>\n",
       "      <td>11.1</td>\n",
       "      <td>1.0</td>\n",
       "      <td>hk</td>\n",
       "    </tr>\n",
       "  </tbody>\n",
       "</table>\n",
       "<p>706 rows × 4 columns</p>\n",
       "</div>"
      ],
      "text/plain": [
       "                                                                obsnme  \\\n",
       "oname:hk_otype:arr_i:0_j:0_zone:1    oname:hk_otype:arr_i:0_j:0_zone:1   \n",
       "oname:hk_otype:arr_i:0_j:10_zone:1  oname:hk_otype:arr_i:0_j:10_zone:1   \n",
       "oname:hk_otype:arr_i:0_j:11_zone:1  oname:hk_otype:arr_i:0_j:11_zone:1   \n",
       "oname:hk_otype:arr_i:0_j:12_zone:1  oname:hk_otype:arr_i:0_j:12_zone:1   \n",
       "oname:hk_otype:arr_i:0_j:13_zone:1  oname:hk_otype:arr_i:0_j:13_zone:1   \n",
       "...                                                                ...   \n",
       "oname:hk_otype:arr_i:9_j:1_zone:1    oname:hk_otype:arr_i:9_j:1_zone:1   \n",
       "oname:hk_otype:arr_i:9_j:2_zone:1    oname:hk_otype:arr_i:9_j:2_zone:1   \n",
       "oname:hk_otype:arr_i:9_j:3_zone:1    oname:hk_otype:arr_i:9_j:3_zone:1   \n",
       "oname:hk_otype:arr_i:9_j:8_zone:1    oname:hk_otype:arr_i:9_j:8_zone:1   \n",
       "oname:hk_otype:arr_i:9_j:9_zone:1    oname:hk_otype:arr_i:9_j:9_zone:1   \n",
       "\n",
       "                                    obsval  weight obgnme  \n",
       "oname:hk_otype:arr_i:0_j:0_zone:1     11.1     1.0     hk  \n",
       "oname:hk_otype:arr_i:0_j:10_zone:1    11.1     1.0     hk  \n",
       "oname:hk_otype:arr_i:0_j:11_zone:1    11.1     1.0     hk  \n",
       "oname:hk_otype:arr_i:0_j:12_zone:1    11.1     1.0     hk  \n",
       "oname:hk_otype:arr_i:0_j:13_zone:1    11.1     1.0     hk  \n",
       "...                                    ...     ...    ...  \n",
       "oname:hk_otype:arr_i:9_j:1_zone:1     11.1     1.0     hk  \n",
       "oname:hk_otype:arr_i:9_j:2_zone:1     11.1     1.0     hk  \n",
       "oname:hk_otype:arr_i:9_j:3_zone:1     11.1     1.0     hk  \n",
       "oname:hk_otype:arr_i:9_j:8_zone:1     11.1     1.0     hk  \n",
       "oname:hk_otype:arr_i:9_j:9_zone:1     11.1     1.0     hk  \n",
       "\n",
       "[706 rows x 4 columns]"
      ]
     },
     "execution_count": 27,
     "metadata": {},
     "output_type": "execute_result"
    }
   ],
   "source": [
    "df = pf.add_observations(f,prefix=\"hk\",zone_array=ib)\n",
    "df"
   ]
  },
  {
   "cell_type": "markdown",
   "metadata": {},
   "source": [
    "See those nice observation names with the \"i\" and \"j\" values baked in?\n",
    "\n",
    "Now, back to parameterization...We are going to be repeating this multiplier-parameter scheme for each parameter type, so let's write a function."
   ]
  },
  {
   "cell_type": "code",
   "execution_count": 28,
   "metadata": {},
   "outputs": [],
   "source": [
    "def add_mult_pars(f, lb=0.2, ub=5.0, ulb=0.01, uub=100, add_coarse=True):\n",
    "    if isinstance(f,str):\n",
    "        base = f.split(\".\")[1].replace(\"_\",\"\")\n",
    "    else:\n",
    "        base = f[0].split(\".\")[1]\n",
    "    # grid (fine) scale parameters\n",
    "    pf.add_parameters(f,\n",
    "                    zone_array=ib,\n",
    "                    par_type=\"grid\", #specify the type, these will be unique parameters for each cell\n",
    "                    geostruct=grid_gs, # the gestatisical structure for spatial correlation \n",
    "                    par_name_base=base+\"gr\", #specify a parameter name base that allows us to easily identify the filename and parameter type. \"_gr\" for \"grid\", and so forth.\n",
    "                    pargp=base+\"gr\", #likewise for the parameter group name\n",
    "                    lower_bound=lb, upper_bound=ub, #parameter lower and upper bound\n",
    "                    ult_ubound=uub, ult_lbound=ulb # The ultimate bounds for multiplied model input values. Here we are stating that, after accounting for all multipliers, Kh cannot exceed these values. Very important with multipliers\n",
    "                    )\n",
    "                    \n",
    "    # pilot point (medium) scale parameters\n",
    "    pf.add_parameters(f,\n",
    "                        zone_array=ib,\n",
    "                        par_type=\"pilotpoints\",\n",
    "                        geostruct=pp_gs,\n",
    "                        par_name_base=base+\"pp\",\n",
    "                        pargp=base+\"pp\",\n",
    "                        lower_bound=lb, upper_bound=ub,\n",
    "                        ult_ubound=uub, ult_lbound=ulb,\n",
    "                        pp_space=5) # `PstFrom` will generate a unifrom grid of pilot points in every 4th row and column\n",
    "    if add_coarse==True:\n",
    "        # constant (coarse) scale parameters\n",
    "        pf.add_parameters(f,\n",
    "                            zone_array=ib,\n",
    "                            par_type=\"constant\",\n",
    "                            geostruct=grid_gs,\n",
    "                            par_name_base=base+\"cn\",\n",
    "                            pargp=base+\"cn\",\n",
    "                            lower_bound=lb, upper_bound=ub,\n",
    "                            ult_ubound=uub, ult_lbound=ulb)\n",
    "    return"
   ]
  },
  {
   "cell_type": "markdown",
   "metadata": {},
   "source": [
    "Let's speed through the other array parameter files."
   ]
  },
  {
   "cell_type": "code",
   "execution_count": 29,
   "metadata": {},
   "outputs": [],
   "source": [
    "\n",
    "# for Ss\n",
    "tag = \"sto_ss\"\n",
    "files = [f for f in os.listdir(template_ws) if tag in f.lower() and f.endswith(\".txt\")]\n",
    "# only for layer 2 and 3; we aren't monsters\n",
    "for f in files[1:]: \n",
    "    add_mult_pars(f, lb=0.2, ub=5.0, ulb=1e-7, uub=1e-3)\n",
    "\n",
    "# For Sy\n",
    "tag = \"sto_sy\"\n",
    "files = [f for f in os.listdir(template_ws) if tag in f.lower() and f.endswith(\".txt\")]\n",
    "# only for layer 1\n",
    "f = files[0]\n",
    "add_mult_pars(f, lb=0.2, ub=5.0, ulb=0.01, uub=0.4)\n",
    "\n",
    "# For porosity (particle tracking...)\n",
    "tag = \"ne_\"\n",
    "files = [f for f in os.listdir(template_ws) if tag in f.lower() and f.endswith(\".txt\")]\n",
    "for f in files: \n",
    "    add_mult_pars(f, lb=0.2, ub=5.0, ulb=0.01, uub=0.4)\n"
   ]
  },
  {
   "cell_type": "code",
   "execution_count": 30,
   "metadata": {},
   "outputs": [
    {
     "data": {
      "text/plain": [
       "15"
      ]
     },
     "execution_count": 30,
     "metadata": {},
     "output_type": "execute_result"
    }
   ],
   "source": [
    "len([f for f in os.listdir(template_ws) if f.endswith(\".tpl\")])"
   ]
  },
  {
   "cell_type": "code",
   "execution_count": 31,
   "metadata": {},
   "outputs": [
    {
     "data": {
      "text/plain": [
       "['nelayer1cn_inst0_constant.csv.tpl',\n",
       " 'nelayer1gr_inst0_grid.csv.tpl',\n",
       " 'nelayer1pp_inst0pp.dat.tpl',\n",
       " 'nelayer2cn_inst0_constant.csv.tpl',\n",
       " 'nelayer2gr_inst0_grid.csv.tpl',\n",
       " 'nelayer2pp_inst0pp.dat.tpl',\n",
       " 'nelayer3cn_inst0_constant.csv.tpl',\n",
       " 'nelayer3gr_inst0_grid.csv.tpl',\n",
       " 'nelayer3pp_inst0pp.dat.tpl',\n",
       " 'npfklayer1cn_inst0_constant.csv.tpl',\n",
       " 'npfklayer1gr_inst0_grid.csv.tpl',\n",
       " 'npfklayer1pp_inst0pp.dat.tpl',\n",
       " 'stosylayer1cn_inst0_constant.csv.tpl',\n",
       " 'stosylayer1gr_inst0_grid.csv.tpl',\n",
       " 'stosylayer1pp_inst0pp.dat.tpl']"
      ]
     },
     "execution_count": 31,
     "metadata": {},
     "output_type": "execute_result"
    }
   ],
   "source": [
    "[f for f in os.listdir(template_ws) if f.endswith(\".tpl\")]"
   ]
  },
  {
   "cell_type": "markdown",
   "metadata": {},
   "source": [
    "Boom!  We just conquered property parameterization in a big way!"
   ]
  },
  {
   "cell_type": "markdown",
   "metadata": {},
   "source": [
    "#### Spatial and Temporal Correlation\n",
    "\n",
    "Now, you may be thinking \"shouldn't recharge have temporal correlation as well?\". \n",
    "\n",
    "Damn straight it should. Now, this requires a little trickery because native handling in spatiotemporal correlation is hard to do.  So what we are going to do is split this correlation into two setup of multiplier parameters.  One set of parameters will be constant in space but vary (and be correlated) in time.  The other set of multiplier parameters will be constant in time but vary (and be correlated) in space.  Since both of these sets of parameters are multipliers, we implicitly represent the concept that recharge is uncertain and correlated in both space and time.  Easy as!\n",
    "\n",
    "First we need to construct a container of stress period datetimes. (This relies on specifying the start_datetime argument when instantiating `PstFrom`.) These datetime values will specify the position of parameters on the time-axis.\n",
    "\n"
   ]
  },
  {
   "cell_type": "code",
   "execution_count": 32,
   "metadata": {},
   "outputs": [
    {
     "data": {
      "text/plain": [
       "DatetimeIndex(['2017-12-31 12:00:00', '2018-01-31 12:00:00',\n",
       "               '2018-03-01 12:00:00', '2018-04-01 12:00:00',\n",
       "               '2018-05-01 12:00:00', '2018-06-01 12:00:00',\n",
       "               '2018-07-01 12:00:00', '2018-08-01 12:00:00',\n",
       "               '2018-09-01 12:00:00', '2018-10-01 12:00:00',\n",
       "               '2018-11-01 12:00:00', '2018-12-01 12:00:00',\n",
       "               '2019-01-01 12:00:00', '2019-02-01 12:00:00',\n",
       "               '2019-03-01 12:00:00', '2019-04-01 12:00:00',\n",
       "               '2019-05-01 12:00:00', '2019-06-01 12:00:00',\n",
       "               '2019-07-01 12:00:00', '2019-08-01 12:00:00',\n",
       "               '2019-09-01 12:00:00', '2019-10-01 12:00:00',\n",
       "               '2019-11-01 12:00:00', '2019-12-01 12:00:00',\n",
       "               '2020-01-01 12:00:00'],\n",
       "              dtype='datetime64[ns]', freq=None)"
      ]
     },
     "execution_count": 32,
     "metadata": {},
     "output_type": "execute_result"
    }
   ],
   "source": [
    "# build up a container of stress period start datetimes - this will\n",
    "# be used to specify the datetime of each multipler parameter\n",
    "\n",
    "dts = pd.to_datetime(start_datetime) + pd.to_timedelta(np.cumsum(sim.tdis.perioddata.array[\"perlen\"]),unit='d')\n",
    "\n",
    "dts"
   ]
  },
  {
   "cell_type": "markdown",
   "metadata": {},
   "source": [
    "If you use the same parameter group name (`pargp`) and same geostruct, `PstFrom` will treat parameters setup across different calls to `add_parameters()` as correlated - ***WARNING*** do not try to express spatial and temporal correlation together - as discussed above, #badtimes.  In this case, we want to express temporal correlation in the recharge multiplier parameters that are \"constant\" type in space so that there is one recharge multiplier parameter for each stress period that shares a parameter group name across different calls to `add_parameters`. So, we use the same parameter group names for each stress period data file, and specify the `datetime` and `geostruct` arguments.\n",
    "\n",
    "Including temporal correlation introduces an additional challenge. Interpolation between points that share a common coordinate creates all types of trouble. We are going to have many parameters during each stress period (a single point on the time-axis). To get around this challenge we need to be a bit sneaky.\n",
    "\n",
    "\n",
    "First, we will apply the multiple *spatial* scales of parameter multipliers (`constant`, `pilot point` and `grid`) as we did for hydraulic properties.  We do this for all recharge files at once, which tells `PstFrom` to broadcast (e.g. share) the same parameters for all of those files: \n",
    "\n"
   ]
  },
  {
   "cell_type": "code",
   "execution_count": 33,
   "metadata": {},
   "outputs": [
    {
     "name": "stdout",
     "output_type": "stream",
     "text": [
      "['freyberg6.rch_recharge_1.txt', 'freyberg6.rch_recharge_2.txt', 'freyberg6.rch_recharge_3.txt', 'freyberg6.rch_recharge_4.txt', 'freyberg6.rch_recharge_5.txt', 'freyberg6.rch_recharge_6.txt', 'freyberg6.rch_recharge_7.txt', 'freyberg6.rch_recharge_8.txt', 'freyberg6.rch_recharge_9.txt', 'freyberg6.rch_recharge_10.txt', 'freyberg6.rch_recharge_11.txt', 'freyberg6.rch_recharge_12.txt', 'freyberg6.rch_recharge_13.txt', 'freyberg6.rch_recharge_14.txt', 'freyberg6.rch_recharge_15.txt', 'freyberg6.rch_recharge_16.txt', 'freyberg6.rch_recharge_17.txt', 'freyberg6.rch_recharge_18.txt', 'freyberg6.rch_recharge_19.txt', 'freyberg6.rch_recharge_20.txt', 'freyberg6.rch_recharge_21.txt', 'freyberg6.rch_recharge_22.txt', 'freyberg6.rch_recharge_23.txt', 'freyberg6.rch_recharge_24.txt', 'freyberg6.rch_recharge_25.txt']\n"
     ]
    }
   ],
   "source": [
    "# for Recharge; \n",
    "tag = \"rch_recharge\"\n",
    "files = [f for f in os.listdir(template_ws) if tag in f.lower() and f.endswith(\".txt\")]\n",
    "sp = [int(f.split(\".\")[1].split('_')[-1]) for f in files]\n",
    "d = {s:f for s,f in zip(sp,files)}\n",
    "sp.sort()\n",
    "files = [d[s] for s in sp]\n",
    "print(files)\n",
    "# the spatial multiplier parameters; just use the same function\n",
    "add_mult_pars(files, lb=0.2, ub=5.0, ulb=0, uub=1e-3, add_coarse=False)"
   ]
  },
  {
   "cell_type": "code",
   "execution_count": 34,
   "metadata": {},
   "outputs": [
    {
     "data": {
      "text/plain": [
       "17"
      ]
     },
     "execution_count": 34,
     "metadata": {},
     "output_type": "execute_result"
    }
   ],
   "source": [
    "len([f for f in os.listdir(template_ws) if f.endswith(\".tpl\")])"
   ]
  },
  {
   "cell_type": "markdown",
   "metadata": {},
   "source": [
    "Then, we will assign an additional `constant` multiplier parameter for each recharge stress-period file (so, a single multiplier for all recharge parameters for each stress period). We will specify temporal correlation for these `constant` multipliers. These will all have the same parameter group name, as discussed above. "
   ]
  },
  {
   "cell_type": "code",
   "execution_count": 35,
   "metadata": {},
   "outputs": [],
   "source": [
    "for f in files:   \n",
    "    # multiplier that includes temporal correlation\n",
    "    # get the stress period number from the file name\n",
    "    kper = int(f.split('.')[1].split('_')[-1]) - 1  \n",
    "    # add the constant parameters (with temporal correlation)\n",
    "    pf.add_parameters(filenames=f,\n",
    "                    zone_array=ib,\n",
    "                    par_type=\"constant\",\n",
    "                    par_name_base=f.split('.')[1]+\"tcn\",\n",
    "                    pargp=f.split('.')[1]+\"tcn\",\n",
    "                    lower_bound=0.5, upper_bound=1.5,\n",
    "                    ult_ubound=1e-3, ult_lbound=0,\n",
    "                    datetime=dts[kper], # this places the parameter value on the \"time axis\"\n",
    "                    geostruct=temporal_gs)"
   ]
  },
  {
   "cell_type": "markdown",
   "metadata": {},
   "source": [
    "Sweet! Done!"
   ]
  },
  {
   "cell_type": "markdown",
   "metadata": {},
   "source": [
    "### List Files\n",
    "\n",
    "Adding parameters from list-type files follows similar principles. As with observation files, they must be tabular. Certain columns are specified as index columns and are used to populate parameter names, as well as provide the parameters' spatial location. Other columns are specified as containing parameter values. \n",
    "\n",
    "Parameters can be `grid` or `constant`. As before, values can be assigned `directly`, as `multipliers` or as `additives`.\n",
    "\n",
    "We will demonstrate for the boundary-condition input files. \n",
    "\n",
    "Starting off with GHBs. Let's inspect the folder. As you can see, there is a single input file (here we assume GHB parameters do not vary over time)."
   ]
  },
  {
   "cell_type": "code",
   "execution_count": 36,
   "metadata": {},
   "outputs": [
    {
     "name": "stdout",
     "output_type": "stream",
     "text": [
      "['freyberg6.ghb_stress_period_data_1.txt']\n"
     ]
    }
   ],
   "source": [
    "tag = \"ghb_stress_period_data\"\n",
    "files = [f for f in os.listdir(template_ws) if tag in f.lower() and f.endswith(\".txt\")]\n",
    "print(files)"
   ]
  },
  {
   "cell_type": "markdown",
   "metadata": {},
   "source": [
    "Since these boundaries are likely to be very influential, we want to include a robust representation of their uncertainty - both head and conductance and at multiple scales.  \n",
    "\n",
    "Let's parameterize both GHB conductance and head:\n",
    "\n",
    " - For conductance, we shall use two scales of `multiplier` parameters (`constant` and `grid`).\n",
    "\n",
    " - For heads, multipliers are not ideal. Instead we will use `additive` parameters. Again, with a coarse and fine scale.\n",
    "\n",
    " **ATTENTION!** \n",
    " \n",
    " Additive parameters by default get assigned an initial parameter value of zero. This can be problematic later on when computing the derivatives. Be sure to either apply a parameter offset, or use \"absolute\" increment types in the parameter group section (we will implement the latter option further on in the current tutorial.)"
   ]
  },
  {
   "cell_type": "code",
   "execution_count": 37,
   "metadata": {},
   "outputs": [],
   "source": [
    "tag = \"ghb_stress_period_data\"\n",
    "files = [f for f in os.listdir(template_ws) if tag in f.lower() and f.endswith(\".txt\")]\n",
    "\n",
    "for f in files:\n",
    "    # constant and grid scale multiplier conductance parameters\n",
    "    name = 'ghbcond'\n",
    "    pf.add_parameters(f,\n",
    "                        par_type=\"grid\",\n",
    "                        geostruct=grid_gs,\n",
    "                        par_name_base=name+\"gr\",\n",
    "                        pargp=name+\"gr\",\n",
    "                        index_cols=[0,1,2], #column containing lay,row,col\n",
    "                        use_cols=[4], #column containing conductance values\n",
    "                        lower_bound=0.1,upper_bound=10.0)\n",
    "    pf.add_parameters(f,\n",
    "                        par_type=\"constant\",\n",
    "                        geostruct=grid_gs,\n",
    "                        par_name_base=name+\"cn\",\n",
    "                        pargp=name+\"cn\",\n",
    "                        index_cols=[0,1,2],\n",
    "                        use_cols=[4],  \n",
    "                        lower_bound=0.1,upper_bound=10.0,\n",
    "                        ult_lbound=0.01, ult_ubound=100) #absolute limits\n",
    "\n",
    "    # constant and grid scale additive head parameters\n",
    "    name = 'ghbhead'\n",
    "    pf.add_parameters(f,\n",
    "                        par_type=\"grid\",\n",
    "                        geostruct=grid_gs,\n",
    "                        par_name_base=name+\"gr\",\n",
    "                        pargp=name+\"gr\",\n",
    "                        index_cols=[0,1,2],\n",
    "                        use_cols=[3],   # column containing head values\n",
    "                        lower_bound=-2.0,upper_bound=2.0,\n",
    "                        par_style=\"a\", # specify additive parameter\n",
    "                        transform=\"none\", # specify not log-transform\n",
    "                        ult_lbound=32.5, ult_ubound=42) #absolute limits; make sure head is never lower than the bottom of layer1\n",
    "    pf.add_parameters(f,\n",
    "                        par_type=\"constant\",\n",
    "                        geostruct=grid_gs,\n",
    "                        par_name_base=name+\"cn\",\n",
    "                        pargp=name+\"cn\",\n",
    "                        index_cols=[0,1,2],\n",
    "                        use_cols=[3],\n",
    "                        lower_bound=-2.0,upper_bound=2.0, \n",
    "                        par_style=\"a\", \n",
    "                        transform=\"none\",\n",
    "                        ult_lbound=32.5, ult_ubound=42) "
   ]
  },
  {
   "cell_type": "markdown",
   "metadata": {},
   "source": [
    "Easy peasy.\n",
    "\n",
    "Now, this will make some people uncomfortable, but how well do we really ever know historic water use flux rates in space and in time? hmmm, not really! And just a little uncertainty in historic water use can result in large changes in simulated water levels...So let's add parameters to represent that uncertainty in the model inputs.\n",
    "\n",
    "For wells it may not (or it may...) make sense to include spatial correlation. Here we will assume temporal correlation - its reasonable that pumping rates today will be similar to pumping rates yesterday. \n",
    "\n",
    "Pumping rates for different stress periods are in separate files. We will call `.add_parameters()` for each file. But we want to specify correlation between parameters in different files. As explained above for recharge, we do this with the parameter group name.\n",
    "\n",
    "OK, let's get started.\n"
   ]
  },
  {
   "cell_type": "markdown",
   "metadata": {},
   "source": [
    "As discussed above, including temporal correlation introduces an additional challenge. We use the same approach described for recharge parameters:\n",
    "\n",
    " - First, we will assign a `constant` multiplier parameter for each WEL stress-period file (so, a single multiplier for all well pumping rates for each stress period). We will specify temporal correlation for these `constant` multipliers.\n",
    "\n",
    " - Then, we will also have `grid` type multiplier parameters for each WEL stress period file (so, multipliers for individual well pumping rate during each stress period). These will not include (temporal) correlation. (We could in principle include spatial correlation here if we wanted to; but let's not)."
   ]
  },
  {
   "cell_type": "code",
   "execution_count": 38,
   "metadata": {},
   "outputs": [],
   "source": [
    "files = [f for f in os.listdir(template_ws) if \"wel_stress_period_data\" in f and f.endswith(\".txt\")]\n",
    "sp = [int(f.split(\".\")[1].split('_')[-1]) for f in files]\n",
    "d = {s:f for s,f in zip(sp,files)}\n",
    "sp.sort()\n",
    "files = [d[s] for s in sp]\n",
    "\n",
    "for f in files:\n",
    "    # get the stress period number from the file name\n",
    "    kper = int(f.split('.')[1].split('_')[-1]) - 1  \n",
    "    \n",
    "    # add the constant parameters (with temporal correlation)\n",
    "    pf.add_parameters(filenames=f,\n",
    "                        index_cols=[0,1,2], #columns that specify cell location\n",
    "                        use_cols=[3],       #columns with parameter values\n",
    "                        par_type=\"constant\",    #each well will be adjustable\n",
    "                        par_name_base=\"welcst\",\n",
    "                        pargp=\"welcst\", \n",
    "                        upper_bound = 4, lower_bound=0.25,\n",
    "                        datetime=dts[kper], # this places the parameter value on the \"time axis\"\n",
    "                        geostruct=temporal_gs)\n",
    "    \n",
    "    # add the grid parameters; each individual well\n",
    "    pf.add_parameters(filenames=f,\n",
    "                        index_cols=[0,1,2], #columns that specify cell location \n",
    "                        use_cols=[3],       #columns with parameter values\n",
    "                        par_type=\"grid\",    #each well will be adjustable\n",
    "                        par_name_base=\"welgrd\",\n",
    "                        pargp=\"welgrd\", \n",
    "                        upper_bound = 4, lower_bound=0.25,\n",
    "                        datetime=dts[kper]) # this places the parameter value on the \"time axis\"\n",
    "                     "
   ]
  },
  {
   "cell_type": "markdown",
   "metadata": {},
   "source": [
    "And finally, our favorite (not!) boundary-condition: SFR.\n",
    "\n",
    "Let's parameterize conductance (time-invariant) and inflow (time-variant)."
   ]
  },
  {
   "cell_type": "code",
   "execution_count": 39,
   "metadata": {},
   "outputs": [
    {
     "name": "stdout",
     "output_type": "stream",
     "text": [
      "['freyberg6.sfr_packagedata.txt']\n"
     ]
    },
    {
     "data": {
      "text/html": [
       "<div>\n",
       "<style scoped>\n",
       "    .dataframe tbody tr th:only-of-type {\n",
       "        vertical-align: middle;\n",
       "    }\n",
       "\n",
       "    .dataframe tbody tr th {\n",
       "        vertical-align: top;\n",
       "    }\n",
       "\n",
       "    .dataframe thead th {\n",
       "        text-align: right;\n",
       "    }\n",
       "</style>\n",
       "<table border=\"1\" class=\"dataframe\">\n",
       "  <thead>\n",
       "    <tr style=\"text-align: right;\">\n",
       "      <th></th>\n",
       "      <th>parnme</th>\n",
       "      <th>pargp</th>\n",
       "      <th>covgp</th>\n",
       "      <th>tpl_filename</th>\n",
       "      <th>input_filename</th>\n",
       "      <th>parval1</th>\n",
       "      <th>partype</th>\n",
       "      <th>partrans</th>\n",
       "      <th>parubnd</th>\n",
       "      <th>parlbnd</th>\n",
       "      <th>offset</th>\n",
       "      <th>scale</th>\n",
       "      <th>dercom</th>\n",
       "      <th>parchglim</th>\n",
       "    </tr>\n",
       "  </thead>\n",
       "  <tbody>\n",
       "    <tr>\n",
       "      <th>pname:sfrcondcn_inst:0_ptype:cn_usecol:9_pstyle:m</th>\n",
       "      <td>pname:sfrcondcn_inst:0_ptype:cn_usecol:9_pstyle:m</td>\n",
       "      <td>sfrcondcn</td>\n",
       "      <td>sfrcondcn</td>\n",
       "      <td>freyberg6_template\\sfrcondcn_inst0_constant.csv.tpl</td>\n",
       "      <td>freyberg6_template\\mult\\sfrcondcn_inst0_constant.csv</td>\n",
       "      <td>1.0</td>\n",
       "      <td>constant</td>\n",
       "      <td>log</td>\n",
       "      <td>10.0</td>\n",
       "      <td>0.1</td>\n",
       "      <td>0.0</td>\n",
       "      <td>1.0</td>\n",
       "      <td>1</td>\n",
       "      <td>factor</td>\n",
       "    </tr>\n",
       "  </tbody>\n",
       "</table>\n",
       "</div>"
      ],
      "text/plain": [
       "                                                                                              parnme  \\\n",
       "pname:sfrcondcn_inst:0_ptype:cn_usecol:9_pstyle:m  pname:sfrcondcn_inst:0_ptype:cn_usecol:9_pstyle:m   \n",
       "\n",
       "                                                       pargp      covgp  \\\n",
       "pname:sfrcondcn_inst:0_ptype:cn_usecol:9_pstyle:m  sfrcondcn  sfrcondcn   \n",
       "\n",
       "                                                                                          tpl_filename  \\\n",
       "pname:sfrcondcn_inst:0_ptype:cn_usecol:9_pstyle:m  freyberg6_template\\sfrcondcn_inst0_constant.csv.tpl   \n",
       "\n",
       "                                                                                         input_filename  \\\n",
       "pname:sfrcondcn_inst:0_ptype:cn_usecol:9_pstyle:m  freyberg6_template\\mult\\sfrcondcn_inst0_constant.csv   \n",
       "\n",
       "                                                   parval1   partype partrans  \\\n",
       "pname:sfrcondcn_inst:0_ptype:cn_usecol:9_pstyle:m      1.0  constant      log   \n",
       "\n",
       "                                                   parubnd  parlbnd  offset  \\\n",
       "pname:sfrcondcn_inst:0_ptype:cn_usecol:9_pstyle:m     10.0      0.1     0.0   \n",
       "\n",
       "                                                   scale  dercom parchglim  \n",
       "pname:sfrcondcn_inst:0_ptype:cn_usecol:9_pstyle:m    1.0       1    factor  "
      ]
     },
     "execution_count": 39,
     "metadata": {},
     "output_type": "execute_result"
    }
   ],
   "source": [
    "# SFR conductance\n",
    "tag = \"sfr_packagedata\"\n",
    "files = [f for f in os.listdir(template_ws) if tag in f.lower() and f.endswith(\".txt\")]\n",
    "assert len(files) == 1 # There can be only one! It is tradition. Jokes.\n",
    "print(files)\n",
    "\n",
    "f = files[0]\n",
    "# constant and grid scale multiplier conductance parameters\n",
    "name = \"sfrcond\"\n",
    "pf.add_parameters(f,\n",
    "                par_type=\"grid\",\n",
    "                geostruct=grid_gs,\n",
    "                par_name_base=name+\"gr\",\n",
    "                pargp=name+\"gr\",\n",
    "                index_cols=[0,2,3],\n",
    "                use_cols=[9],\n",
    "                lower_bound=0.1,upper_bound=10.0)\n",
    "pf.add_parameters(f,\n",
    "                par_type=\"constant\",\n",
    "                geostruct=grid_gs,\n",
    "                par_name_base=name+\"cn\",\n",
    "                pargp=name+\"cn\",\n",
    "                index_cols=[0,2,3],\n",
    "                use_cols=[9],\n",
    "                lower_bound=0.1,upper_bound=10.0,\n",
    "                ult_lbound=0.001, ult_ubound=100) #absolute limits"
   ]
  },
  {
   "cell_type": "code",
   "execution_count": 40,
   "metadata": {},
   "outputs": [
    {
     "name": "stdout",
     "output_type": "stream",
     "text": [
      "['freyberg6.sfr_perioddata_1.txt']\n"
     ]
    }
   ],
   "source": [
    "# SFR inflow\n",
    "files = [f for f in os.listdir(template_ws) if \"sfr_perioddata\" in f and f.endswith(\".txt\")]\n",
    "sp = [int(f.split(\".\")[1].split('_')[-1]) for f in files]\n",
    "d = {s:f for s,f in zip(sp,files)}\n",
    "sp.sort()\n",
    "files = [d[s] for s in sp]\n",
    "print(files)\n",
    "for f in files:\n",
    "    # get the stress period number from the file name\n",
    "    kper = int(f.split('.')[1].split('_')[-1]) - 1  \n",
    "    # add the parameters\n",
    "    pf.add_parameters(filenames=f,\n",
    "                        index_cols=[0], #reach number\n",
    "                        use_cols=[2],   #columns with parameter values\n",
    "                        par_type=\"grid\",    \n",
    "                        par_name_base=\"sfrgr\",\n",
    "                        pargp=\"sfrgr\", \n",
    "                        upper_bound = 10, lower_bound=0.1, #don't need ult_bounds because it is a single multiplier\n",
    "                        datetime=dts[kper], # this places the parameter value on the \"time axis\"\n",
    "                        geostruct=temporal_gs)"
   ]
  },
  {
   "cell_type": "code",
   "execution_count": 41,
   "metadata": {},
   "outputs": [
    {
     "data": {
      "text/plain": [
       "['ghbcondcn_inst0_constant.csv.tpl',\n",
       " 'ghbcondgr_inst0_grid.csv.tpl',\n",
       " 'ghbheadcn_inst0_constant.csv.tpl',\n",
       " 'ghbheadgr_inst0_grid.csv.tpl',\n",
       " 'nelayer1cn_inst0_constant.csv.tpl',\n",
       " 'nelayer1gr_inst0_grid.csv.tpl',\n",
       " 'nelayer1pp_inst0pp.dat.tpl',\n",
       " 'nelayer2cn_inst0_constant.csv.tpl',\n",
       " 'nelayer2gr_inst0_grid.csv.tpl',\n",
       " 'nelayer2pp_inst0pp.dat.tpl',\n",
       " 'nelayer3cn_inst0_constant.csv.tpl',\n",
       " 'nelayer3gr_inst0_grid.csv.tpl',\n",
       " 'nelayer3pp_inst0pp.dat.tpl',\n",
       " 'npfklayer1cn_inst0_constant.csv.tpl',\n",
       " 'npfklayer1gr_inst0_grid.csv.tpl',\n",
       " 'npfklayer1pp_inst0pp.dat.tpl',\n",
       " 'rch_recharge_10tcn_inst0_constant.csv.tpl',\n",
       " 'rch_recharge_11tcn_inst0_constant.csv.tpl',\n",
       " 'rch_recharge_12tcn_inst0_constant.csv.tpl',\n",
       " 'rch_recharge_13tcn_inst0_constant.csv.tpl',\n",
       " 'rch_recharge_14tcn_inst0_constant.csv.tpl',\n",
       " 'rch_recharge_15tcn_inst0_constant.csv.tpl',\n",
       " 'rch_recharge_16tcn_inst0_constant.csv.tpl',\n",
       " 'rch_recharge_17tcn_inst0_constant.csv.tpl',\n",
       " 'rch_recharge_18tcn_inst0_constant.csv.tpl',\n",
       " 'rch_recharge_19tcn_inst0_constant.csv.tpl',\n",
       " 'rch_recharge_1gr_inst0_grid.csv.tpl',\n",
       " 'rch_recharge_1pp_inst0pp.dat.tpl',\n",
       " 'rch_recharge_1tcn_inst0_constant.csv.tpl',\n",
       " 'rch_recharge_20tcn_inst0_constant.csv.tpl',\n",
       " 'rch_recharge_21tcn_inst0_constant.csv.tpl',\n",
       " 'rch_recharge_22tcn_inst0_constant.csv.tpl',\n",
       " 'rch_recharge_23tcn_inst0_constant.csv.tpl',\n",
       " 'rch_recharge_24tcn_inst0_constant.csv.tpl',\n",
       " 'rch_recharge_25tcn_inst0_constant.csv.tpl',\n",
       " 'rch_recharge_2tcn_inst0_constant.csv.tpl',\n",
       " 'rch_recharge_3tcn_inst0_constant.csv.tpl',\n",
       " 'rch_recharge_4tcn_inst0_constant.csv.tpl',\n",
       " 'rch_recharge_5tcn_inst0_constant.csv.tpl',\n",
       " 'rch_recharge_6tcn_inst0_constant.csv.tpl',\n",
       " 'rch_recharge_7tcn_inst0_constant.csv.tpl',\n",
       " 'rch_recharge_8tcn_inst0_constant.csv.tpl',\n",
       " 'rch_recharge_9tcn_inst0_constant.csv.tpl',\n",
       " 'sfrcondcn_inst0_constant.csv.tpl',\n",
       " 'sfrcondgr_inst0_grid.csv.tpl',\n",
       " 'sfrgr_inst0_grid.csv.tpl',\n",
       " 'stosylayer1cn_inst0_constant.csv.tpl',\n",
       " 'stosylayer1gr_inst0_grid.csv.tpl',\n",
       " 'stosylayer1pp_inst0pp.dat.tpl',\n",
       " 'welcst_inst0_constant.csv.tpl',\n",
       " 'welcst_inst10_constant.csv.tpl',\n",
       " 'welcst_inst11_constant.csv.tpl',\n",
       " 'welcst_inst12_constant.csv.tpl',\n",
       " 'welcst_inst13_constant.csv.tpl',\n",
       " 'welcst_inst14_constant.csv.tpl',\n",
       " 'welcst_inst15_constant.csv.tpl',\n",
       " 'welcst_inst16_constant.csv.tpl',\n",
       " 'welcst_inst17_constant.csv.tpl',\n",
       " 'welcst_inst18_constant.csv.tpl',\n",
       " 'welcst_inst19_constant.csv.tpl',\n",
       " 'welcst_inst1_constant.csv.tpl',\n",
       " 'welcst_inst20_constant.csv.tpl',\n",
       " 'welcst_inst21_constant.csv.tpl',\n",
       " 'welcst_inst22_constant.csv.tpl',\n",
       " 'welcst_inst23_constant.csv.tpl',\n",
       " 'welcst_inst24_constant.csv.tpl',\n",
       " 'welcst_inst2_constant.csv.tpl',\n",
       " 'welcst_inst3_constant.csv.tpl',\n",
       " 'welcst_inst4_constant.csv.tpl',\n",
       " 'welcst_inst5_constant.csv.tpl',\n",
       " 'welcst_inst6_constant.csv.tpl',\n",
       " 'welcst_inst7_constant.csv.tpl',\n",
       " 'welcst_inst8_constant.csv.tpl',\n",
       " 'welcst_inst9_constant.csv.tpl',\n",
       " 'welgrd_inst0_grid.csv.tpl',\n",
       " 'welgrd_inst10_grid.csv.tpl',\n",
       " 'welgrd_inst11_grid.csv.tpl',\n",
       " 'welgrd_inst12_grid.csv.tpl',\n",
       " 'welgrd_inst13_grid.csv.tpl',\n",
       " 'welgrd_inst14_grid.csv.tpl',\n",
       " 'welgrd_inst15_grid.csv.tpl',\n",
       " 'welgrd_inst16_grid.csv.tpl',\n",
       " 'welgrd_inst17_grid.csv.tpl',\n",
       " 'welgrd_inst18_grid.csv.tpl',\n",
       " 'welgrd_inst19_grid.csv.tpl',\n",
       " 'welgrd_inst1_grid.csv.tpl',\n",
       " 'welgrd_inst20_grid.csv.tpl',\n",
       " 'welgrd_inst21_grid.csv.tpl',\n",
       " 'welgrd_inst22_grid.csv.tpl',\n",
       " 'welgrd_inst23_grid.csv.tpl',\n",
       " 'welgrd_inst24_grid.csv.tpl',\n",
       " 'welgrd_inst2_grid.csv.tpl',\n",
       " 'welgrd_inst3_grid.csv.tpl',\n",
       " 'welgrd_inst4_grid.csv.tpl',\n",
       " 'welgrd_inst5_grid.csv.tpl',\n",
       " 'welgrd_inst6_grid.csv.tpl',\n",
       " 'welgrd_inst7_grid.csv.tpl',\n",
       " 'welgrd_inst8_grid.csv.tpl',\n",
       " 'welgrd_inst9_grid.csv.tpl']"
      ]
     },
     "execution_count": 41,
     "metadata": {},
     "output_type": "execute_result"
    }
   ],
   "source": [
    "[f for f in os.listdir(template_ws) if f.endswith(\".tpl\")]"
   ]
  },
  {
   "cell_type": "markdown",
   "metadata": {},
   "source": [
    "Damn!  we just parameterized many recognized sources of model input uncertainty at several spatial and temporal scales.  And we expressed spatial and temporal correlation in those parameters.  One last set of parameters that we will need later for sequential data assimilation - initial conditions:"
   ]
  },
  {
   "cell_type": "code",
   "execution_count": 42,
   "metadata": {},
   "outputs": [
    {
     "data": {
      "text/plain": [
       "['freyberg6.ic_strt_layer1.txt']"
      ]
     },
     "execution_count": 42,
     "metadata": {},
     "output_type": "execute_result"
    }
   ],
   "source": [
    "files = [f for f in os.listdir(template_ws) if \"ic_strt\" in f and f.endswith(\".txt\")]\n",
    "files"
   ]
  },
  {
   "cell_type": "code",
   "execution_count": 43,
   "metadata": {},
   "outputs": [
    {
     "name": "stdout",
     "output_type": "stream",
     "text": [
      "(706, 17)\n"
     ]
    }
   ],
   "source": [
    "for f in files:\n",
    "    base = f.split(\".\")[1].replace(\"_\",\"\")\n",
    "    df = pf.add_parameters(f,par_type=\"grid\",par_style=\"d\",\n",
    "                      pargp=base,par_name_base=base,upper_bound=50,\n",
    "                     lower_bound=15,zone_array=ib,transform=\"none\")\n",
    "    print(df.shape)"
   ]
  },
  {
   "cell_type": "markdown",
   "metadata": {},
   "source": [
    "### The Forward Run Script\n",
    "\n",
    "OK! So, we almost have all the base building blocks for a PEST(++) dataset. We have some (1) observations and some (2) parameters. We are still missing (3) the \"forward run\" script. Recall that in the PEST world, the \"model\" is not just the numerical model (e.g. MODFLOW). Instead it is a composite of the numerical model (or models) and pre- and post-processing steps, encapsulated in a \"forward run\" script which can be called from the command line. This command line instruction is what PEST(++) sees as \"the model\". During execution, PEST(++) writes values to parameter files, runs \"the model\", and then reads values from the observation files.\n",
    "\n",
    "`PstFrom` automates the generation of such a script when constructing the PEST control file. The script is written to file named `forward_run.py`. It is written in Python (this is not a PEST(++) requirement, merely a convenience...we are working in Python after all...). \n",
    "\n",
    "How about we see that in action? Magic time! Let's create the PEST control file."
   ]
  },
  {
   "cell_type": "code",
   "execution_count": 44,
   "metadata": {},
   "outputs": [
    {
     "name": "stdout",
     "output_type": "stream",
     "text": [
      "noptmax:0, npar_adj:5410, nnz_obs:1106\n"
     ]
    }
   ],
   "source": [
    "pst = pf.build_pst()"
   ]
  },
  {
   "cell_type": "markdown",
   "metadata": {},
   "source": [
    "Boom! Done. (Well almost.) Check the folder. You should see a new .pst file and the `forward_run.py` file. By default, the .pst file is named after the original model folder name. "
   ]
  },
  {
   "cell_type": "code",
   "execution_count": 45,
   "metadata": {},
   "outputs": [
    {
     "data": {
      "text/plain": [
       "['forward_run.py', 'freyberg_mf6.pst']"
      ]
     },
     "execution_count": 45,
     "metadata": {},
     "output_type": "execute_result"
    }
   ],
   "source": [
    "[f for f in os.listdir(template_ws) if f.endswith(\".py\") or f.endswith(\".pst\") ]"
   ]
  },
  {
   "cell_type": "markdown",
   "metadata": {},
   "source": [
    "We will get to the `pst` object later on (see also the \"intro to pyemu\" tutorial notebook). For now, let's focus on the `forward_run.py` script. It is printed out below.\n",
    "\n",
    "This script does a bunch of things:\n",
    " - it loads necessary dependencies\n",
    " - it removes model output files to avoid the possibility of files from a previous model run being read by mistake;\n",
    " - it runs pre-processing steps (see `pyemu.helpers.apply_list_and_array_pars()`;\n",
    " - it executes system commands (usually running the simulator, i.e. MODFLOW). (*This is still missing. We will demonstrate next.*)\n",
    " - it executes post-processing steps; (*for now there aren't any*)\n",
    " - ...it washes the dishes (sorry, no it doesn't...this feature is still in development)."
   ]
  },
  {
   "cell_type": "code",
   "execution_count": 46,
   "metadata": {},
   "outputs": [
    {
     "name": "stdout",
     "output_type": "stream",
     "text": [
      "import os\n",
      "import multiprocessing as mp\n",
      "import numpy as np\n",
      "import pandas as pd\n",
      "import pyemu\n",
      "def main():\n",
      "\n",
      "    try:\n",
      "       os.remove(r'heads.csv')\n",
      "    except Exception as e:\n",
      "       print(r'error removing tmp file:heads.csv')\n",
      "    try:\n",
      "       os.remove(r'sfr.csv')\n",
      "    except Exception as e:\n",
      "       print(r'error removing tmp file:sfr.csv')\n",
      "    try:\n",
      "       os.remove(r'freyberg6.npf_k_layer1.txt')\n",
      "    except Exception as e:\n",
      "       print(r'error removing tmp file:freyberg6.npf_k_layer1.txt')\n",
      "    pyemu.helpers.apply_list_and_array_pars(arr_par_file='mult2model_info.csv',chunk_len=50)\n",
      "\n",
      "if __name__ == '__main__':\n",
      "    mp.freeze_support()\n",
      "    main()\n",
      "\n"
     ]
    }
   ],
   "source": [
    "_ = [print(line.rstrip()) for line in open(os.path.join(template_ws,\"forward_run.py\"))]"
   ]
  },
  {
   "cell_type": "markdown",
   "metadata": {},
   "source": [
    "That's pretty amazing. But as we just saw, we still need to add commands to actually run the model.\n",
    "\n",
    "`PstFrom` allows you to pass a list of system commands which will be executed in sequence. It also has methods for including Python functions that run before or after the system commands. These make pre-/post-processing a piece of cake. In fact, we have already started to add to it. Remember all of the multiplier and additive parameters we setup? These all require pre-processing steps to convert the PEST-generated multipliers into model input values. `PstFrom` will automatically add these functions to the `forward_run.py` script. Nifty, hey?\n",
    "\n",
    "Next we will demonstrate how to specify the system commands and add Python functions as processing steps.\n",
    "\n",
    "#### Sys Commands\n",
    "\n",
    "Let's start by adding a command line instruction. These are stored as a list in `PstFrom.mod_sys_cmds`, which is currently empty. "
   ]
  },
  {
   "cell_type": "code",
   "execution_count": 47,
   "metadata": {},
   "outputs": [
    {
     "data": {
      "text/plain": [
       "[]"
      ]
     },
     "execution_count": 47,
     "metadata": {},
     "output_type": "execute_result"
    }
   ],
   "source": [
    "pf.mod_sys_cmds "
   ]
  },
  {
   "cell_type": "markdown",
   "metadata": {},
   "source": [
    "To run a MODFLOW6 model from the command line, you can simply execute `mf6` in the model folder. So, we can add this command by appending it to the list. (Do this only once! Every time you append 'mf6' results in an additional call to MODFLOW6, meaning the model would be run multiple times.)\n",
    "\n",
    "`PstFrom` will add a line to `forward_run.py` w"
   ]
  },
  {
   "cell_type": "code",
   "execution_count": 48,
   "metadata": {},
   "outputs": [
    {
     "data": {
      "text/plain": [
       "['mf6']"
      ]
     },
     "execution_count": 48,
     "metadata": {},
     "output_type": "execute_result"
    }
   ],
   "source": [
    "pf.mod_sys_cmds.append(\"mf6\") #do this only once\n",
    "pf.mod_sys_cmds"
   ]
  },
  {
   "cell_type": "markdown",
   "metadata": {},
   "source": [
    "We also need to run MODPATH7, so we need to add that to the list of system commands. In this case we also need to specify the modpath sim file:"
   ]
  },
  {
   "cell_type": "code",
   "execution_count": 49,
   "metadata": {},
   "outputs": [
    {
     "data": {
      "text/plain": [
       "['mf6', 'mp7 freyberg_mp.mpsim']"
      ]
     },
     "execution_count": 49,
     "metadata": {},
     "output_type": "execute_result"
    }
   ],
   "source": [
    "pf.mod_sys_cmds.append(\"mp7 freyberg_mp.mpsim\") #do this only once\n",
    "pf.mod_sys_cmds"
   ]
  },
  {
   "cell_type": "markdown",
   "metadata": {},
   "source": [
    "OK, now let's re-build the Pst control file and check out the changes to the `forward_run.py` script.\n",
    "\n",
    "You should see that `pyemu.os_utils.run(r'mf6')` has been added after the pre-processing functions."
   ]
  },
  {
   "cell_type": "code",
   "execution_count": 50,
   "metadata": {},
   "outputs": [
    {
     "name": "stdout",
     "output_type": "stream",
     "text": [
      "noptmax:0, npar_adj:5410, nnz_obs:1106\n",
      "import os\n",
      "import multiprocessing as mp\n",
      "import numpy as np\n",
      "import pandas as pd\n",
      "import pyemu\n",
      "def main():\n",
      "\n",
      "    try:\n",
      "       os.remove(r'heads.csv')\n",
      "    except Exception as e:\n",
      "       print(r'error removing tmp file:heads.csv')\n",
      "    try:\n",
      "       os.remove(r'sfr.csv')\n",
      "    except Exception as e:\n",
      "       print(r'error removing tmp file:sfr.csv')\n",
      "    try:\n",
      "       os.remove(r'freyberg6.npf_k_layer1.txt')\n",
      "    except Exception as e:\n",
      "       print(r'error removing tmp file:freyberg6.npf_k_layer1.txt')\n",
      "    pyemu.helpers.apply_list_and_array_pars(arr_par_file='mult2model_info.csv',chunk_len=50)\n",
      "    pyemu.os_utils.run(r'mf6')\n",
      "\n",
      "    pyemu.os_utils.run(r'mp7 freyberg_mp.mpsim')\n",
      "\n",
      "\n",
      "if __name__ == '__main__':\n",
      "    mp.freeze_support()\n",
      "    main()\n",
      "\n"
     ]
    }
   ],
   "source": [
    "pst = pf.build_pst()\n",
    "\n",
    "_ = [print(line.rstrip()) for line in open(os.path.join(template_ws,\"forward_run.py\"))]"
   ]
  },
  {
   "cell_type": "markdown",
   "metadata": {},
   "source": [
    "#### Extra pre- and post-processing functions\n",
    "\n",
    "You will also certainly need to include some additional processing steps.  These are supported through the `PstFrom.pre_py_cmds` and `PstFrom.post_py_cmds`, which are lists for pre and post model run python commands and `PstFrom.pre_sys_cmds` and `PstFrom.post_sys_cmds`, which are lists for pre and post model run system commands (these are wrapped in `pyemu.os_utils.run()`.  \n",
    "\n",
    "But what if your additional steps are actually an entire python function? Well, we got that too! `PstFrom.add_py_function()`. This method allows you to get functions from another (pre-prepared) python source file and add them to the `forward_run.py` script. We will demonstrate this to post-process model observations after each run."
   ]
  },
  {
   "cell_type": "markdown",
   "metadata": {},
   "source": [
    "Now let's see this py-sauce in action: we are going to add a little post-processing function to extract the final simulated water level for all model cells for the last stress period from the MF6 binary headsave file and save them to ASCII format so that PEST(++) can read them with instruction files.  And, while we are at it, let's also extract the global water budget info from the MF6 listing file and store it in dataframes - these are usually good numbers to watch!  We will need the simulated water level arrays later for sequential data assimilation (wouldn't it be nice if MF6 supported the writing of ASCII format head arrays?).  Anyway, this function is stored in the \"helpers.py\" script which you can find in the tutorial folder."
   ]
  },
  {
   "cell_type": "code",
   "execution_count": 51,
   "metadata": {},
   "outputs": [],
   "source": [
    "pf.add_py_function(\"helpers.py\",\"extract_hds_arrays_and_list_dfs()\",is_pre_cmd=False)"
   ]
  },
  {
   "cell_type": "markdown",
   "metadata": {},
   "source": [
    "That last argument - `is_pre_cmd` tells `PstFrom` if the python function should be treated as a pre-processor or a post-processor. So we have added that post-processor, but we still need to setup pest observations for those ASCII head arrays.  Let's do that by first calling that function to operate once within the `template_ws` to generate the arrays and then we can add them with `add_observations()`:  "
   ]
  },
  {
   "cell_type": "code",
   "execution_count": 52,
   "metadata": {},
   "outputs": [],
   "source": [
    "import helpers\n",
    "helpers.test_extract_hds_arrays(template_ws)"
   ]
  },
  {
   "cell_type": "code",
   "execution_count": 53,
   "metadata": {},
   "outputs": [
    {
     "data": {
      "text/plain": [
       "['hdslay1_t1.txt',\n",
       " 'hdslay1_t10.txt',\n",
       " 'hdslay1_t11.txt',\n",
       " 'hdslay1_t12.txt',\n",
       " 'hdslay1_t13.txt',\n",
       " 'hdslay1_t14.txt',\n",
       " 'hdslay1_t15.txt',\n",
       " 'hdslay1_t16.txt',\n",
       " 'hdslay1_t17.txt',\n",
       " 'hdslay1_t18.txt',\n",
       " 'hdslay1_t19.txt',\n",
       " 'hdslay1_t2.txt',\n",
       " 'hdslay1_t20.txt',\n",
       " 'hdslay1_t21.txt',\n",
       " 'hdslay1_t22.txt',\n",
       " 'hdslay1_t23.txt',\n",
       " 'hdslay1_t24.txt',\n",
       " 'hdslay1_t25.txt',\n",
       " 'hdslay1_t3.txt',\n",
       " 'hdslay1_t4.txt',\n",
       " 'hdslay1_t5.txt',\n",
       " 'hdslay1_t6.txt',\n",
       " 'hdslay1_t7.txt',\n",
       " 'hdslay1_t8.txt',\n",
       " 'hdslay1_t9.txt']"
      ]
     },
     "execution_count": 53,
     "metadata": {},
     "output_type": "execute_result"
    }
   ],
   "source": [
    "files = [f for f in os.listdir(template_ws) if f.startswith(\"hdslay\")]\n",
    "files"
   ]
  },
  {
   "cell_type": "code",
   "execution_count": 54,
   "metadata": {},
   "outputs": [],
   "source": [
    "for f in files:\n",
    "    pf.add_observations(f,prefix=f.split(\".\")[0],obsgp=f.split(\".\")[0])"
   ]
  },
  {
   "cell_type": "code",
   "execution_count": 55,
   "metadata": {},
   "outputs": [],
   "source": [
    "for f in [\"inc.csv\",\"cum.csv\"]:\n",
    "    df = pd.read_csv(os.path.join(template_ws,f),index_col=0)\n",
    "    pf.add_observations(f,index_cols=[\"totim\"],use_cols=list(df.columns.values),\n",
    "                        prefix=f.split('.')[0],obsgp=f.split(\".\")[0])"
   ]
  },
  {
   "cell_type": "markdown",
   "metadata": {},
   "source": [
    "Crushed it!"
   ]
  },
  {
   "cell_type": "markdown",
   "metadata": {},
   "source": [
    "#### Secondary Observations\n",
    "\n",
    "Often it is usefull to include \"secondary model outcomes\" as observations. These can be important components in a history-matching dataset to tease out specific aspects of system behaviour (e.g. head differences between aquifer layers to inform vertical permeabilities). Or they may be simple summaries of modelled outputs which are of interest for a prediction (e.g. minimum simulated head over a given period).\n",
    "\n",
    "If you inspect the tutorial folder you will find a file named `helpers.py`. This is a python source file which we have prepared for you. (Open it to see how it is organized.) This is not standard `pyemu` functionality, but we provide it here as an example of incorporating custom code for observation processing. The sky's the limit! It contains a function named `process_secondary_obs()`. This function reads the model output .csv files, processes them and writes a series of new observation .csv files. These new files contain the temporal-differences between head and SFR observations. The new .csv files are named `heads.tdiff.csv`and `sfr.tdiff.csv`, respectively.\n",
    "\n",
    "First, let's load the function here and run it so you can see what happens. (And to make sure that the observation files are in the template folder!) \n",
    "\n",
    "Run the next cell, then inspect the template folder. You should see several new csv files. These are the new secondary observations calculated by the post-processing function."
   ]
  },
  {
   "cell_type": "code",
   "execution_count": 56,
   "metadata": {},
   "outputs": [
    {
     "name": "stdout",
     "output_type": "stream",
     "text": [
      "Secondary observation files processed.\n"
     ]
    }
   ],
   "source": [
    "# run the helper function\n",
    "helpers.process_secondary_obs(ws=template_ws)"
   ]
  },
  {
   "cell_type": "code",
   "execution_count": 57,
   "metadata": {},
   "outputs": [
    {
     "data": {
      "text/plain": [
       "['cum.csv',\n",
       " 'heads.csv',\n",
       " 'heads.tdiff.csv',\n",
       " 'inc.csv',\n",
       " 'mult2model_info.csv',\n",
       " 'sfr.csv',\n",
       " 'sfr.tdiff.csv']"
      ]
     },
     "execution_count": 57,
     "metadata": {},
     "output_type": "execute_result"
    }
   ],
   "source": [
    "[f for f in os.listdir(template_ws) if f.endswith(\".csv\")]"
   ]
  },
  {
   "cell_type": "markdown",
   "metadata": {},
   "source": [
    "OK, so now let's add this function to the `forward_run.py` script."
   ]
  },
  {
   "cell_type": "code",
   "execution_count": 58,
   "metadata": {},
   "outputs": [],
   "source": [
    "pf.add_py_function(\"helpers.py\", # the file which contains the function\n",
    "                    \"process_secondary_obs(ws='.')\", #the function, making sure to specify any arguments it may requrie\n",
    "                    is_pre_cmd=False) # whether it runs before the model system command, or after. In this case, after."
   ]
  },
  {
   "cell_type": "markdown",
   "metadata": {},
   "source": [
    "And, boom! Bob's your uncle. As easy as that.\n",
    "\n",
    "Now, of course we want to add these observations to `PstFrom` as well:"
   ]
  },
  {
   "cell_type": "code",
   "execution_count": 59,
   "metadata": {},
   "outputs": [],
   "source": [
    "\n",
    "df = pd.read_csv(os.path.join(template_ws, \"sfr.tdiff.csv\"), index_col=0)\n",
    "_ = pf.add_observations(\"sfr.tdiff.csv\", # the model output file to read\n",
    "                            insfile=\"sfr.tdiff.csv.ins\", #optional, the instruction file name\n",
    "                            index_cols=\"time\", #column header to use as index; can also use column number (zero-based) instead of the header name\n",
    "                            use_cols=list(df.columns.values), #names of columns that include observation values; can also use column number (zero-based) instead of the header name\n",
    "                            prefix=\"sfrtd\") #prefix to all observation \n",
    "                            \n",
    "df = pd.read_csv(os.path.join(template_ws, \"heads.tdiff.csv\"), index_col=0)\n",
    "_ = pf.add_observations(\"heads.tdiff.csv\", # the model output file to read\n",
    "                            insfile=\"heads.tdiff.csv.ins\", #optional, the instruction file name\n",
    "                            index_cols=\"time\", #column header to use as index; can also use column number (zero-based) instead of the header name\n",
    "                            use_cols=list(df.columns.values), #names of columns that include observation values; can also use column number (zero-based) instead of the header name\n",
    "                            prefix=\"hdstd\") #prefix to all observation names"
   ]
  },
  {
   "cell_type": "markdown",
   "metadata": {},
   "source": [
    "Remember to re-build the Pst control file:"
   ]
  },
  {
   "cell_type": "code",
   "execution_count": 60,
   "metadata": {},
   "outputs": [
    {
     "name": "stdout",
     "output_type": "stream",
     "text": [
      "noptmax:0, npar_adj:5410, nnz_obs:21956\n"
     ]
    }
   ],
   "source": [
    "pst = pf.build_pst()"
   ]
  },
  {
   "cell_type": "code",
   "execution_count": 61,
   "metadata": {},
   "outputs": [
    {
     "name": "stdout",
     "output_type": "stream",
     "text": [
      "import os\n",
      "import multiprocessing as mp\n",
      "import numpy as np\n",
      "import pandas as pd\n",
      "import pyemu\n",
      "\n",
      "# function added thru PstFrom.add_py_function()\n",
      "def extract_hds_arrays_and_list_dfs():\n",
      "    import flopy\n",
      "    hds = flopy.utils.HeadFile(\"freyberg6_freyberg.hds\")\n",
      "    for it,t in enumerate(hds.get_times()):\n",
      "        d = hds.get_data(totim=t)\n",
      "        for k,dlay in enumerate(d):\n",
      "            np.savetxt(\"hdslay{0}_t{1}.txt\".format(k+1,it+1),d[k,:,:],fmt=\"%15.6E\")\n",
      "\n",
      "    lst = flopy.utils.Mf6ListBudget(\"freyberg6.lst\")\n",
      "    inc,cum = lst.get_dataframes(diff=True,start_datetime=None)\n",
      "    inc.columns = inc.columns.map(lambda x: x.lower().replace(\"_\",\"-\"))\n",
      "    cum.columns = cum.columns.map(lambda x: x.lower().replace(\"_\", \"-\"))\n",
      "    inc.index.name = \"totim\"\n",
      "    cum.index.name = \"totim\"\n",
      "    inc.to_csv(\"inc.csv\")\n",
      "    cum.to_csv(\"cum.csv\")\n",
      "    return\n",
      "\n",
      "\n",
      "\n",
      "\n",
      "# function added thru PstFrom.add_py_function()\n",
      "def process_secondary_obs(ws='.'):\n",
      "    # load dependencies insde the function so that they get carried over to forward_run.py by PstFrom\n",
      "    import os\n",
      "    import pandas as pd\n",
      "\n",
      "    def write_tdif_obs(orgf, newf, ws='.'):\n",
      "        df = pd.read_csv(os.path.join(ws,orgf), index_col='time')\n",
      "        df = df - df.iloc[0, :]\n",
      "        df.to_csv(os.path.join(ws,newf))\n",
      "        return\n",
      "\n",
      "    # write the tdiff observation csv's\n",
      "    write_tdif_obs('heads.csv', 'heads.tdiff.csv', ws)\n",
      "    write_tdif_obs('sfr.csv', 'sfr.tdiff.csv', ws)\n",
      "\n",
      "    print('Secondary observation files processed.')\n",
      "    return\n",
      "\n",
      "\n",
      "\n",
      "def main():\n",
      "\n",
      "    try:\n",
      "       os.remove(r'heads.csv')\n",
      "    except Exception as e:\n",
      "       print(r'error removing tmp file:heads.csv')\n",
      "    try:\n",
      "       os.remove(r'sfr.csv')\n",
      "    except Exception as e:\n",
      "       print(r'error removing tmp file:sfr.csv')\n",
      "    try:\n",
      "       os.remove(r'freyberg6.npf_k_layer1.txt')\n",
      "    except Exception as e:\n",
      "       print(r'error removing tmp file:freyberg6.npf_k_layer1.txt')\n",
      "    try:\n",
      "       os.remove(r'hdslay1_t1.txt')\n",
      "    except Exception as e:\n",
      "       print(r'error removing tmp file:hdslay1_t1.txt')\n",
      "    try:\n",
      "       os.remove(r'hdslay1_t10.txt')\n",
      "    except Exception as e:\n",
      "       print(r'error removing tmp file:hdslay1_t10.txt')\n",
      "    try:\n",
      "       os.remove(r'hdslay1_t11.txt')\n",
      "    except Exception as e:\n",
      "       print(r'error removing tmp file:hdslay1_t11.txt')\n",
      "    try:\n",
      "       os.remove(r'hdslay1_t12.txt')\n",
      "    except Exception as e:\n",
      "       print(r'error removing tmp file:hdslay1_t12.txt')\n",
      "    try:\n",
      "       os.remove(r'hdslay1_t13.txt')\n",
      "    except Exception as e:\n",
      "       print(r'error removing tmp file:hdslay1_t13.txt')\n",
      "    try:\n",
      "       os.remove(r'hdslay1_t14.txt')\n",
      "    except Exception as e:\n",
      "       print(r'error removing tmp file:hdslay1_t14.txt')\n",
      "    try:\n",
      "       os.remove(r'hdslay1_t15.txt')\n",
      "    except Exception as e:\n",
      "       print(r'error removing tmp file:hdslay1_t15.txt')\n",
      "    try:\n",
      "       os.remove(r'hdslay1_t16.txt')\n",
      "    except Exception as e:\n",
      "       print(r'error removing tmp file:hdslay1_t16.txt')\n",
      "    try:\n",
      "       os.remove(r'hdslay1_t17.txt')\n",
      "    except Exception as e:\n",
      "       print(r'error removing tmp file:hdslay1_t17.txt')\n",
      "    try:\n",
      "       os.remove(r'hdslay1_t18.txt')\n",
      "    except Exception as e:\n",
      "       print(r'error removing tmp file:hdslay1_t18.txt')\n",
      "    try:\n",
      "       os.remove(r'hdslay1_t19.txt')\n",
      "    except Exception as e:\n",
      "       print(r'error removing tmp file:hdslay1_t19.txt')\n",
      "    try:\n",
      "       os.remove(r'hdslay1_t2.txt')\n",
      "    except Exception as e:\n",
      "       print(r'error removing tmp file:hdslay1_t2.txt')\n",
      "    try:\n",
      "       os.remove(r'hdslay1_t20.txt')\n",
      "    except Exception as e:\n",
      "       print(r'error removing tmp file:hdslay1_t20.txt')\n",
      "    try:\n",
      "       os.remove(r'hdslay1_t21.txt')\n",
      "    except Exception as e:\n",
      "       print(r'error removing tmp file:hdslay1_t21.txt')\n",
      "    try:\n",
      "       os.remove(r'hdslay1_t22.txt')\n",
      "    except Exception as e:\n",
      "       print(r'error removing tmp file:hdslay1_t22.txt')\n",
      "    try:\n",
      "       os.remove(r'hdslay1_t23.txt')\n",
      "    except Exception as e:\n",
      "       print(r'error removing tmp file:hdslay1_t23.txt')\n",
      "    try:\n",
      "       os.remove(r'hdslay1_t24.txt')\n",
      "    except Exception as e:\n",
      "       print(r'error removing tmp file:hdslay1_t24.txt')\n",
      "    try:\n",
      "       os.remove(r'hdslay1_t25.txt')\n",
      "    except Exception as e:\n",
      "       print(r'error removing tmp file:hdslay1_t25.txt')\n",
      "    try:\n",
      "       os.remove(r'hdslay1_t3.txt')\n",
      "    except Exception as e:\n",
      "       print(r'error removing tmp file:hdslay1_t3.txt')\n",
      "    try:\n",
      "       os.remove(r'hdslay1_t4.txt')\n",
      "    except Exception as e:\n",
      "       print(r'error removing tmp file:hdslay1_t4.txt')\n",
      "    try:\n",
      "       os.remove(r'hdslay1_t5.txt')\n",
      "    except Exception as e:\n",
      "       print(r'error removing tmp file:hdslay1_t5.txt')\n",
      "    try:\n",
      "       os.remove(r'hdslay1_t6.txt')\n",
      "    except Exception as e:\n",
      "       print(r'error removing tmp file:hdslay1_t6.txt')\n",
      "    try:\n",
      "       os.remove(r'hdslay1_t7.txt')\n",
      "    except Exception as e:\n",
      "       print(r'error removing tmp file:hdslay1_t7.txt')\n",
      "    try:\n",
      "       os.remove(r'hdslay1_t8.txt')\n",
      "    except Exception as e:\n",
      "       print(r'error removing tmp file:hdslay1_t8.txt')\n",
      "    try:\n",
      "       os.remove(r'hdslay1_t9.txt')\n",
      "    except Exception as e:\n",
      "       print(r'error removing tmp file:hdslay1_t9.txt')\n",
      "    try:\n",
      "       os.remove(r'inc.csv')\n",
      "    except Exception as e:\n",
      "       print(r'error removing tmp file:inc.csv')\n",
      "    try:\n",
      "       os.remove(r'cum.csv')\n",
      "    except Exception as e:\n",
      "       print(r'error removing tmp file:cum.csv')\n",
      "    try:\n",
      "       os.remove(r'sfr.tdiff.csv')\n",
      "    except Exception as e:\n",
      "       print(r'error removing tmp file:sfr.tdiff.csv')\n",
      "    try:\n",
      "       os.remove(r'heads.tdiff.csv')\n",
      "    except Exception as e:\n",
      "       print(r'error removing tmp file:heads.tdiff.csv')\n",
      "    pyemu.helpers.apply_list_and_array_pars(arr_par_file='mult2model_info.csv',chunk_len=50)\n",
      "    pyemu.os_utils.run(r'mf6')\n",
      "\n",
      "    pyemu.os_utils.run(r'mp7 freyberg_mp.mpsim')\n",
      "\n",
      "    extract_hds_arrays_and_list_dfs()\n",
      "    process_secondary_obs(ws='.')\n",
      "\n",
      "if __name__ == '__main__':\n",
      "    mp.freeze_support()\n",
      "    main()\n",
      "\n"
     ]
    }
   ],
   "source": [
    "_ = [print(line.rstrip()) for line in open(os.path.join(template_ws,\"forward_run.py\"))]"
   ]
  },
  {
   "cell_type": "markdown",
   "metadata": {},
   "source": [
    "Now we see that `extract_hds_array_and_list_dfs()` has been added to the forward run script and it is being called after MF6 runs. "
   ]
  },
  {
   "cell_type": "code",
   "execution_count": 62,
   "metadata": {},
   "outputs": [
    {
     "data": {
      "text/html": [
       "<div>\n",
       "<style scoped>\n",
       "    .dataframe tbody tr th:only-of-type {\n",
       "        vertical-align: middle;\n",
       "    }\n",
       "\n",
       "    .dataframe tbody tr th {\n",
       "        vertical-align: top;\n",
       "    }\n",
       "\n",
       "    .dataframe thead th {\n",
       "        text-align: right;\n",
       "    }\n",
       "</style>\n",
       "<table border=\"1\" class=\"dataframe\">\n",
       "  <thead>\n",
       "    <tr style=\"text-align: right;\">\n",
       "      <th></th>\n",
       "      <th>obsnme</th>\n",
       "      <th>obsval</th>\n",
       "      <th>weight</th>\n",
       "      <th>obgnme</th>\n",
       "      <th>i</th>\n",
       "      <th>j</th>\n",
       "      <th>oname</th>\n",
       "      <th>otype</th>\n",
       "      <th>time</th>\n",
       "      <th>totim</th>\n",
       "      <th>usecol</th>\n",
       "      <th>zone</th>\n",
       "    </tr>\n",
       "  </thead>\n",
       "  <tbody>\n",
       "    <tr>\n",
       "      <th>oname:hds_otype:lst_usecol:trgw-0-13-10_time:3652.5</th>\n",
       "      <td>oname:hds_otype:lst_usecol:trgw-0-13-10_time:3652.5</td>\n",
       "      <td>34.797358</td>\n",
       "      <td>1.0</td>\n",
       "      <td>oname:hds_otype:lst_usecol:trgw-0-13-10</td>\n",
       "      <td>NaN</td>\n",
       "      <td>NaN</td>\n",
       "      <td>hds</td>\n",
       "      <td>lst</td>\n",
       "      <td>3652.5</td>\n",
       "      <td>NaN</td>\n",
       "      <td>trgw-0-13-10</td>\n",
       "      <td>NaN</td>\n",
       "    </tr>\n",
       "    <tr>\n",
       "      <th>oname:hds_otype:lst_usecol:trgw-0-13-10_time:3683.5</th>\n",
       "      <td>oname:hds_otype:lst_usecol:trgw-0-13-10_time:3683.5</td>\n",
       "      <td>34.768494</td>\n",
       "      <td>1.0</td>\n",
       "      <td>oname:hds_otype:lst_usecol:trgw-0-13-10</td>\n",
       "      <td>NaN</td>\n",
       "      <td>NaN</td>\n",
       "      <td>hds</td>\n",
       "      <td>lst</td>\n",
       "      <td>3683.5</td>\n",
       "      <td>NaN</td>\n",
       "      <td>trgw-0-13-10</td>\n",
       "      <td>NaN</td>\n",
       "    </tr>\n",
       "    <tr>\n",
       "      <th>oname:hds_otype:lst_usecol:trgw-0-13-10_time:3712.5</th>\n",
       "      <td>oname:hds_otype:lst_usecol:trgw-0-13-10_time:3712.5</td>\n",
       "      <td>34.821230</td>\n",
       "      <td>1.0</td>\n",
       "      <td>oname:hds_otype:lst_usecol:trgw-0-13-10</td>\n",
       "      <td>NaN</td>\n",
       "      <td>NaN</td>\n",
       "      <td>hds</td>\n",
       "      <td>lst</td>\n",
       "      <td>3712.5</td>\n",
       "      <td>NaN</td>\n",
       "      <td>trgw-0-13-10</td>\n",
       "      <td>NaN</td>\n",
       "    </tr>\n",
       "    <tr>\n",
       "      <th>oname:hds_otype:lst_usecol:trgw-0-13-10_time:3743.5</th>\n",
       "      <td>oname:hds_otype:lst_usecol:trgw-0-13-10_time:3743.5</td>\n",
       "      <td>34.920983</td>\n",
       "      <td>1.0</td>\n",
       "      <td>oname:hds_otype:lst_usecol:trgw-0-13-10</td>\n",
       "      <td>NaN</td>\n",
       "      <td>NaN</td>\n",
       "      <td>hds</td>\n",
       "      <td>lst</td>\n",
       "      <td>3743.5</td>\n",
       "      <td>NaN</td>\n",
       "      <td>trgw-0-13-10</td>\n",
       "      <td>NaN</td>\n",
       "    </tr>\n",
       "    <tr>\n",
       "      <th>oname:hds_otype:lst_usecol:trgw-0-13-10_time:3773.5</th>\n",
       "      <td>oname:hds_otype:lst_usecol:trgw-0-13-10_time:3773.5</td>\n",
       "      <td>35.008383</td>\n",
       "      <td>1.0</td>\n",
       "      <td>oname:hds_otype:lst_usecol:trgw-0-13-10</td>\n",
       "      <td>NaN</td>\n",
       "      <td>NaN</td>\n",
       "      <td>hds</td>\n",
       "      <td>lst</td>\n",
       "      <td>3773.5</td>\n",
       "      <td>NaN</td>\n",
       "      <td>trgw-0-13-10</td>\n",
       "      <td>NaN</td>\n",
       "    </tr>\n",
       "    <tr>\n",
       "      <th>...</th>\n",
       "      <td>...</td>\n",
       "      <td>...</td>\n",
       "      <td>...</td>\n",
       "      <td>...</td>\n",
       "      <td>...</td>\n",
       "      <td>...</td>\n",
       "      <td>...</td>\n",
       "      <td>...</td>\n",
       "      <td>...</td>\n",
       "      <td>...</td>\n",
       "      <td>...</td>\n",
       "      <td>...</td>\n",
       "    </tr>\n",
       "    <tr>\n",
       "      <th>oname:hdstd_otype:lst_usecol:trgw-0-9-1_time:4261.5</th>\n",
       "      <td>oname:hdstd_otype:lst_usecol:trgw-0-9-1_time:4261.5</td>\n",
       "      <td>-0.416852</td>\n",
       "      <td>1.0</td>\n",
       "      <td>oname:hdstd_otype:lst_usecol:trgw-0-9-1</td>\n",
       "      <td>NaN</td>\n",
       "      <td>NaN</td>\n",
       "      <td>hdstd</td>\n",
       "      <td>lst</td>\n",
       "      <td>4261.5</td>\n",
       "      <td>NaN</td>\n",
       "      <td>trgw-0-9-1</td>\n",
       "      <td>NaN</td>\n",
       "    </tr>\n",
       "    <tr>\n",
       "      <th>oname:hdstd_otype:lst_usecol:trgw-0-9-1_time:4291.5</th>\n",
       "      <td>oname:hdstd_otype:lst_usecol:trgw-0-9-1_time:4291.5</td>\n",
       "      <td>-0.669533</td>\n",
       "      <td>1.0</td>\n",
       "      <td>oname:hdstd_otype:lst_usecol:trgw-0-9-1</td>\n",
       "      <td>NaN</td>\n",
       "      <td>NaN</td>\n",
       "      <td>hdstd</td>\n",
       "      <td>lst</td>\n",
       "      <td>4291.5</td>\n",
       "      <td>NaN</td>\n",
       "      <td>trgw-0-9-1</td>\n",
       "      <td>NaN</td>\n",
       "    </tr>\n",
       "    <tr>\n",
       "      <th>oname:hdstd_otype:lst_usecol:trgw-0-9-1_time:4322.5</th>\n",
       "      <td>oname:hdstd_otype:lst_usecol:trgw-0-9-1_time:4322.5</td>\n",
       "      <td>-0.927476</td>\n",
       "      <td>1.0</td>\n",
       "      <td>oname:hdstd_otype:lst_usecol:trgw-0-9-1</td>\n",
       "      <td>NaN</td>\n",
       "      <td>NaN</td>\n",
       "      <td>hdstd</td>\n",
       "      <td>lst</td>\n",
       "      <td>4322.5</td>\n",
       "      <td>NaN</td>\n",
       "      <td>trgw-0-9-1</td>\n",
       "      <td>NaN</td>\n",
       "    </tr>\n",
       "    <tr>\n",
       "      <th>oname:hdstd_otype:lst_usecol:trgw-0-9-1_time:4352.5</th>\n",
       "      <td>oname:hdstd_otype:lst_usecol:trgw-0-9-1_time:4352.5</td>\n",
       "      <td>-1.116548</td>\n",
       "      <td>1.0</td>\n",
       "      <td>oname:hdstd_otype:lst_usecol:trgw-0-9-1</td>\n",
       "      <td>NaN</td>\n",
       "      <td>NaN</td>\n",
       "      <td>hdstd</td>\n",
       "      <td>lst</td>\n",
       "      <td>4352.5</td>\n",
       "      <td>NaN</td>\n",
       "      <td>trgw-0-9-1</td>\n",
       "      <td>NaN</td>\n",
       "    </tr>\n",
       "    <tr>\n",
       "      <th>oname:hdstd_otype:lst_usecol:trgw-0-9-1_time:4383.5</th>\n",
       "      <td>oname:hdstd_otype:lst_usecol:trgw-0-9-1_time:4383.5</td>\n",
       "      <td>-1.159104</td>\n",
       "      <td>1.0</td>\n",
       "      <td>oname:hdstd_otype:lst_usecol:trgw-0-9-1</td>\n",
       "      <td>NaN</td>\n",
       "      <td>NaN</td>\n",
       "      <td>hdstd</td>\n",
       "      <td>lst</td>\n",
       "      <td>4383.5</td>\n",
       "      <td>NaN</td>\n",
       "      <td>trgw-0-9-1</td>\n",
       "      <td>NaN</td>\n",
       "    </tr>\n",
       "  </tbody>\n",
       "</table>\n",
       "<p>21956 rows × 12 columns</p>\n",
       "</div>"
      ],
      "text/plain": [
       "                                                                                                  obsnme     obsval  weight                                   obgnme    i    j  oname otype    time totim        usecol zone\n",
       "oname:hds_otype:lst_usecol:trgw-0-13-10_time:3652.5  oname:hds_otype:lst_usecol:trgw-0-13-10_time:3652.5  34.797358     1.0  oname:hds_otype:lst_usecol:trgw-0-13-10  NaN  NaN    hds   lst  3652.5   NaN  trgw-0-13-10  NaN\n",
       "oname:hds_otype:lst_usecol:trgw-0-13-10_time:3683.5  oname:hds_otype:lst_usecol:trgw-0-13-10_time:3683.5  34.768494     1.0  oname:hds_otype:lst_usecol:trgw-0-13-10  NaN  NaN    hds   lst  3683.5   NaN  trgw-0-13-10  NaN\n",
       "oname:hds_otype:lst_usecol:trgw-0-13-10_time:3712.5  oname:hds_otype:lst_usecol:trgw-0-13-10_time:3712.5  34.821230     1.0  oname:hds_otype:lst_usecol:trgw-0-13-10  NaN  NaN    hds   lst  3712.5   NaN  trgw-0-13-10  NaN\n",
       "oname:hds_otype:lst_usecol:trgw-0-13-10_time:3743.5  oname:hds_otype:lst_usecol:trgw-0-13-10_time:3743.5  34.920983     1.0  oname:hds_otype:lst_usecol:trgw-0-13-10  NaN  NaN    hds   lst  3743.5   NaN  trgw-0-13-10  NaN\n",
       "oname:hds_otype:lst_usecol:trgw-0-13-10_time:3773.5  oname:hds_otype:lst_usecol:trgw-0-13-10_time:3773.5  35.008383     1.0  oname:hds_otype:lst_usecol:trgw-0-13-10  NaN  NaN    hds   lst  3773.5   NaN  trgw-0-13-10  NaN\n",
       "...                                                                                                  ...        ...     ...                                      ...  ...  ...    ...   ...     ...   ...           ...  ...\n",
       "oname:hdstd_otype:lst_usecol:trgw-0-9-1_time:4261.5  oname:hdstd_otype:lst_usecol:trgw-0-9-1_time:4261.5  -0.416852     1.0  oname:hdstd_otype:lst_usecol:trgw-0-9-1  NaN  NaN  hdstd   lst  4261.5   NaN    trgw-0-9-1  NaN\n",
       "oname:hdstd_otype:lst_usecol:trgw-0-9-1_time:4291.5  oname:hdstd_otype:lst_usecol:trgw-0-9-1_time:4291.5  -0.669533     1.0  oname:hdstd_otype:lst_usecol:trgw-0-9-1  NaN  NaN  hdstd   lst  4291.5   NaN    trgw-0-9-1  NaN\n",
       "oname:hdstd_otype:lst_usecol:trgw-0-9-1_time:4322.5  oname:hdstd_otype:lst_usecol:trgw-0-9-1_time:4322.5  -0.927476     1.0  oname:hdstd_otype:lst_usecol:trgw-0-9-1  NaN  NaN  hdstd   lst  4322.5   NaN    trgw-0-9-1  NaN\n",
       "oname:hdstd_otype:lst_usecol:trgw-0-9-1_time:4352.5  oname:hdstd_otype:lst_usecol:trgw-0-9-1_time:4352.5  -1.116548     1.0  oname:hdstd_otype:lst_usecol:trgw-0-9-1  NaN  NaN  hdstd   lst  4352.5   NaN    trgw-0-9-1  NaN\n",
       "oname:hdstd_otype:lst_usecol:trgw-0-9-1_time:4383.5  oname:hdstd_otype:lst_usecol:trgw-0-9-1_time:4383.5  -1.159104     1.0  oname:hdstd_otype:lst_usecol:trgw-0-9-1  NaN  NaN  hdstd   lst  4383.5   NaN    trgw-0-9-1  NaN\n",
       "\n",
       "[21956 rows x 12 columns]"
      ]
     },
     "execution_count": 62,
     "metadata": {},
     "output_type": "execute_result"
    }
   ],
   "source": [
    "obs = pst.observation_data\n",
    "obs"
   ]
  },
  {
   "cell_type": "markdown",
   "metadata": {},
   "source": [
    "### After Building the Control File\n",
    "\n",
    "At this point, we can do some additional modifications that would typically be done that are problem specific.  Here we can tweak the setup, specifying things such as observation weights, parameter bounds, transforms, control data, etc.\n",
    "\n",
    "Note that any modifications made after calling `PstFrom.build_pst()` will only exist in memory - you need to call `pf.pst.write()` to record these changes to the control file on disk.  Also note that if you call `PstFrom.build_pst()` after making some changes, these changes will be lost.  \n",
    "\n",
    "For the current case, the main thing we haven't addressed are the observations from custom *.ins files,  observation weights, parameter group INCTYP's and forecasts.\n",
    "\n",
    "We will do so now."
   ]
  },
  {
   "cell_type": "markdown",
   "metadata": {},
   "source": [
    "#### Add Observations from INS files\n",
    "\n",
    "Recall that we wish to include observations of particle end time and status. As mentioned earlier, MP7 output files are not ina nicely organized tabular format - so we need to construct a custom instruction file. We will do this now:"
   ]
  },
  {
   "cell_type": "code",
   "execution_count": 63,
   "metadata": {},
   "outputs": [],
   "source": [
    "# write a really simple instruction file to read the MODPATH end point file\n",
    "out_file = \"freyberg_mp.mpend\"\n",
    "ins_file = out_file + \".ins\"\n",
    "with open(os.path.join(template_ws, ins_file),'w') as f:\n",
    "    f.write(\"pif ~\\n\")\n",
    "    f.write(\"l7 w w w w !part_status! w w !part_time!\\n\")"
   ]
  },
  {
   "cell_type": "markdown",
   "metadata": {},
   "source": [
    "Now add these observations to the `Pst`:"
   ]
  },
  {
   "cell_type": "code",
   "execution_count": 64,
   "metadata": {},
   "outputs": [
    {
     "name": "stdout",
     "output_type": "stream",
     "text": [
      "2 obs added from instruction file freyberg6_template\\.\\freyberg_mp.mpend.ins\n"
     ]
    },
    {
     "data": {
      "text/html": [
       "<div>\n",
       "<style scoped>\n",
       "    .dataframe tbody tr th:only-of-type {\n",
       "        vertical-align: middle;\n",
       "    }\n",
       "\n",
       "    .dataframe tbody tr th {\n",
       "        vertical-align: top;\n",
       "    }\n",
       "\n",
       "    .dataframe thead th {\n",
       "        text-align: right;\n",
       "    }\n",
       "</style>\n",
       "<table border=\"1\" class=\"dataframe\">\n",
       "  <thead>\n",
       "    <tr style=\"text-align: right;\">\n",
       "      <th></th>\n",
       "      <th>obsnme</th>\n",
       "      <th>obsval</th>\n",
       "      <th>weight</th>\n",
       "      <th>obgnme</th>\n",
       "      <th>i</th>\n",
       "      <th>j</th>\n",
       "      <th>oname</th>\n",
       "      <th>otype</th>\n",
       "      <th>time</th>\n",
       "      <th>totim</th>\n",
       "      <th>usecol</th>\n",
       "      <th>zone</th>\n",
       "    </tr>\n",
       "  </thead>\n",
       "  <tbody>\n",
       "    <tr>\n",
       "      <th>part_status</th>\n",
       "      <td>part_status</td>\n",
       "      <td>5.00000</td>\n",
       "      <td>1.0</td>\n",
       "      <td>part</td>\n",
       "      <td>NaN</td>\n",
       "      <td>NaN</td>\n",
       "      <td>NaN</td>\n",
       "      <td>NaN</td>\n",
       "      <td>NaN</td>\n",
       "      <td>NaN</td>\n",
       "      <td>NaN</td>\n",
       "      <td>NaN</td>\n",
       "    </tr>\n",
       "    <tr>\n",
       "      <th>part_time</th>\n",
       "      <td>part_time</td>\n",
       "      <td>99358.42916</td>\n",
       "      <td>1.0</td>\n",
       "      <td>part</td>\n",
       "      <td>NaN</td>\n",
       "      <td>NaN</td>\n",
       "      <td>NaN</td>\n",
       "      <td>NaN</td>\n",
       "      <td>NaN</td>\n",
       "      <td>NaN</td>\n",
       "      <td>NaN</td>\n",
       "      <td>NaN</td>\n",
       "    </tr>\n",
       "  </tbody>\n",
       "</table>\n",
       "</div>"
      ],
      "text/plain": [
       "                  obsnme       obsval  weight obgnme    i    j oname otype time totim usecol zone\n",
       "part_status  part_status      5.00000     1.0   part  NaN  NaN   NaN   NaN  NaN   NaN    NaN  NaN\n",
       "part_time      part_time  99358.42916     1.0   part  NaN  NaN   NaN   NaN  NaN   NaN    NaN  NaN"
      ]
     },
     "execution_count": 64,
     "metadata": {},
     "output_type": "execute_result"
    }
   ],
   "source": [
    "pst.add_observations(ins_file=os.path.join(template_ws, ins_file),\n",
    "                    out_file=os.path.join(template_ws, out_file),\n",
    "                            pst_path='.')\n",
    "\n",
    "# and then check what changed                            \n",
    "obs = pst.observation_data\n",
    "obs.loc[obs.obsnme=='part_status', 'obgnme'] = 'part'\n",
    "obs.loc[obs.obsnme=='part_time', 'obgnme'] = 'part'\n",
    "\n",
    "obs.iloc[-2:]"
   ]
  },
  {
   "cell_type": "markdown",
   "metadata": {},
   "source": [
    "#### Parameters with Zero as Intial Value\n",
    "\n",
    "Recall that we assigned additive parameters to the GHB heads. Our initial parameter values for these parameter types were set as 0 (zero). This creates a wee bit of trouble when calculating derivatives - this is only an issue for algorithms that use finite-difference derivatives. There are a couple of ways we could get around it. One way is to add an \"offset\" to the parameter initial values and to the parameter bounds. Another is to use \"absolute\" increment types (INCTYP). See the PEST manual or PEST++ user guides for descriptions of increment types. \n",
    "\n",
    "We will apply both here. \n",
    "\n",
    "We will assign INCTYP as 'absolute'. We will leave DERINC as 0.01 (the default). It is a reasonable value in this case."
   ]
  },
  {
   "cell_type": "code",
   "execution_count": 65,
   "metadata": {},
   "outputs": [
    {
     "data": {
      "text/plain": [
       "['ghbheadgr', 'ghbheadcn']"
      ]
     },
     "execution_count": 65,
     "metadata": {},
     "output_type": "execute_result"
    }
   ],
   "source": [
    "head_pargps = [i for i in pst.adj_par_groups if 'head' in i]\n",
    "head_pargps"
   ]
  },
  {
   "cell_type": "code",
   "execution_count": 66,
   "metadata": {},
   "outputs": [],
   "source": [
    "pst.parameter_groups.loc[head_pargps, 'inctyp'] = 'absolute'"
   ]
  },
  {
   "cell_type": "markdown",
   "metadata": {},
   "source": [
    "Now add the \"offset\" to parameter data entries:"
   ]
  },
  {
   "cell_type": "code",
   "execution_count": 67,
   "metadata": {},
   "outputs": [
    {
     "data": {
      "text/html": [
       "<div>\n",
       "<style scoped>\n",
       "    .dataframe tbody tr th:only-of-type {\n",
       "        vertical-align: middle;\n",
       "    }\n",
       "\n",
       "    .dataframe tbody tr th {\n",
       "        vertical-align: top;\n",
       "    }\n",
       "\n",
       "    .dataframe thead th {\n",
       "        text-align: right;\n",
       "    }\n",
       "</style>\n",
       "<table border=\"1\" class=\"dataframe\">\n",
       "  <thead>\n",
       "    <tr style=\"text-align: right;\">\n",
       "      <th></th>\n",
       "      <th>parnme</th>\n",
       "      <th>partrans</th>\n",
       "      <th>parchglim</th>\n",
       "      <th>parval1</th>\n",
       "      <th>parlbnd</th>\n",
       "      <th>parubnd</th>\n",
       "      <th>pargp</th>\n",
       "      <th>scale</th>\n",
       "      <th>offset</th>\n",
       "      <th>dercom</th>\n",
       "      <th>i</th>\n",
       "      <th>idx0</th>\n",
       "      <th>idx1</th>\n",
       "      <th>idx2</th>\n",
       "      <th>inst</th>\n",
       "      <th>j</th>\n",
       "      <th>pname</th>\n",
       "      <th>pstyle</th>\n",
       "      <th>ptype</th>\n",
       "      <th>usecol</th>\n",
       "      <th>x</th>\n",
       "      <th>y</th>\n",
       "      <th>zone</th>\n",
       "    </tr>\n",
       "  </thead>\n",
       "  <tbody>\n",
       "    <tr>\n",
       "      <th>pname:ghbheadgr_inst:0_ptype:gr_usecol:3_pstyle:a_idx0:0_idx1:39_idx2:5</th>\n",
       "      <td>pname:ghbheadgr_inst:0_ptype:gr_usecol:3_pstyle:a_idx0:0_idx1:39_idx2:5</td>\n",
       "      <td>none</td>\n",
       "      <td>relative</td>\n",
       "      <td>0.0</td>\n",
       "      <td>-2.0</td>\n",
       "      <td>2.0</td>\n",
       "      <td>ghbheadgr</td>\n",
       "      <td>1.0</td>\n",
       "      <td>0.0</td>\n",
       "      <td>1</td>\n",
       "      <td>NaN</td>\n",
       "      <td>0</td>\n",
       "      <td>39</td>\n",
       "      <td>5</td>\n",
       "      <td>0</td>\n",
       "      <td>NaN</td>\n",
       "      <td>ghbheadgr</td>\n",
       "      <td>a</td>\n",
       "      <td>gr</td>\n",
       "      <td>3</td>\n",
       "      <td>NaN</td>\n",
       "      <td>NaN</td>\n",
       "      <td>NaN</td>\n",
       "    </tr>\n",
       "    <tr>\n",
       "      <th>pname:ghbheadgr_inst:0_ptype:gr_usecol:3_pstyle:a_idx0:0_idx1:39_idx2:6</th>\n",
       "      <td>pname:ghbheadgr_inst:0_ptype:gr_usecol:3_pstyle:a_idx0:0_idx1:39_idx2:6</td>\n",
       "      <td>none</td>\n",
       "      <td>relative</td>\n",
       "      <td>0.0</td>\n",
       "      <td>-2.0</td>\n",
       "      <td>2.0</td>\n",
       "      <td>ghbheadgr</td>\n",
       "      <td>1.0</td>\n",
       "      <td>0.0</td>\n",
       "      <td>1</td>\n",
       "      <td>NaN</td>\n",
       "      <td>0</td>\n",
       "      <td>39</td>\n",
       "      <td>6</td>\n",
       "      <td>0</td>\n",
       "      <td>NaN</td>\n",
       "      <td>ghbheadgr</td>\n",
       "      <td>a</td>\n",
       "      <td>gr</td>\n",
       "      <td>3</td>\n",
       "      <td>NaN</td>\n",
       "      <td>NaN</td>\n",
       "      <td>NaN</td>\n",
       "    </tr>\n",
       "    <tr>\n",
       "      <th>pname:ghbheadgr_inst:0_ptype:gr_usecol:3_pstyle:a_idx0:0_idx1:39_idx2:7</th>\n",
       "      <td>pname:ghbheadgr_inst:0_ptype:gr_usecol:3_pstyle:a_idx0:0_idx1:39_idx2:7</td>\n",
       "      <td>none</td>\n",
       "      <td>relative</td>\n",
       "      <td>0.0</td>\n",
       "      <td>-2.0</td>\n",
       "      <td>2.0</td>\n",
       "      <td>ghbheadgr</td>\n",
       "      <td>1.0</td>\n",
       "      <td>0.0</td>\n",
       "      <td>1</td>\n",
       "      <td>NaN</td>\n",
       "      <td>0</td>\n",
       "      <td>39</td>\n",
       "      <td>7</td>\n",
       "      <td>0</td>\n",
       "      <td>NaN</td>\n",
       "      <td>ghbheadgr</td>\n",
       "      <td>a</td>\n",
       "      <td>gr</td>\n",
       "      <td>3</td>\n",
       "      <td>NaN</td>\n",
       "      <td>NaN</td>\n",
       "      <td>NaN</td>\n",
       "    </tr>\n",
       "    <tr>\n",
       "      <th>pname:ghbheadgr_inst:0_ptype:gr_usecol:3_pstyle:a_idx0:0_idx1:39_idx2:8</th>\n",
       "      <td>pname:ghbheadgr_inst:0_ptype:gr_usecol:3_pstyle:a_idx0:0_idx1:39_idx2:8</td>\n",
       "      <td>none</td>\n",
       "      <td>relative</td>\n",
       "      <td>0.0</td>\n",
       "      <td>-2.0</td>\n",
       "      <td>2.0</td>\n",
       "      <td>ghbheadgr</td>\n",
       "      <td>1.0</td>\n",
       "      <td>0.0</td>\n",
       "      <td>1</td>\n",
       "      <td>NaN</td>\n",
       "      <td>0</td>\n",
       "      <td>39</td>\n",
       "      <td>8</td>\n",
       "      <td>0</td>\n",
       "      <td>NaN</td>\n",
       "      <td>ghbheadgr</td>\n",
       "      <td>a</td>\n",
       "      <td>gr</td>\n",
       "      <td>3</td>\n",
       "      <td>NaN</td>\n",
       "      <td>NaN</td>\n",
       "      <td>NaN</td>\n",
       "    </tr>\n",
       "    <tr>\n",
       "      <th>pname:ghbheadgr_inst:0_ptype:gr_usecol:3_pstyle:a_idx0:0_idx1:39_idx2:9</th>\n",
       "      <td>pname:ghbheadgr_inst:0_ptype:gr_usecol:3_pstyle:a_idx0:0_idx1:39_idx2:9</td>\n",
       "      <td>none</td>\n",
       "      <td>relative</td>\n",
       "      <td>0.0</td>\n",
       "      <td>-2.0</td>\n",
       "      <td>2.0</td>\n",
       "      <td>ghbheadgr</td>\n",
       "      <td>1.0</td>\n",
       "      <td>0.0</td>\n",
       "      <td>1</td>\n",
       "      <td>NaN</td>\n",
       "      <td>0</td>\n",
       "      <td>39</td>\n",
       "      <td>9</td>\n",
       "      <td>0</td>\n",
       "      <td>NaN</td>\n",
       "      <td>ghbheadgr</td>\n",
       "      <td>a</td>\n",
       "      <td>gr</td>\n",
       "      <td>3</td>\n",
       "      <td>NaN</td>\n",
       "      <td>NaN</td>\n",
       "      <td>NaN</td>\n",
       "    </tr>\n",
       "  </tbody>\n",
       "</table>\n",
       "</div>"
      ],
      "text/plain": [
       "                                                                                                                                          parnme partrans parchglim  parval1  parlbnd  parubnd      pargp  scale  offset  dercom    i idx0 idx1 idx2 inst    j      pname pstyle ptype usecol    x    y zone\n",
       "pname:ghbheadgr_inst:0_ptype:gr_usecol:3_pstyle:a_idx0:0_idx1:39_idx2:5  pname:ghbheadgr_inst:0_ptype:gr_usecol:3_pstyle:a_idx0:0_idx1:39_idx2:5     none  relative      0.0     -2.0      2.0  ghbheadgr    1.0     0.0       1  NaN    0   39    5    0  NaN  ghbheadgr      a    gr      3  NaN  NaN  NaN\n",
       "pname:ghbheadgr_inst:0_ptype:gr_usecol:3_pstyle:a_idx0:0_idx1:39_idx2:6  pname:ghbheadgr_inst:0_ptype:gr_usecol:3_pstyle:a_idx0:0_idx1:39_idx2:6     none  relative      0.0     -2.0      2.0  ghbheadgr    1.0     0.0       1  NaN    0   39    6    0  NaN  ghbheadgr      a    gr      3  NaN  NaN  NaN\n",
       "pname:ghbheadgr_inst:0_ptype:gr_usecol:3_pstyle:a_idx0:0_idx1:39_idx2:7  pname:ghbheadgr_inst:0_ptype:gr_usecol:3_pstyle:a_idx0:0_idx1:39_idx2:7     none  relative      0.0     -2.0      2.0  ghbheadgr    1.0     0.0       1  NaN    0   39    7    0  NaN  ghbheadgr      a    gr      3  NaN  NaN  NaN\n",
       "pname:ghbheadgr_inst:0_ptype:gr_usecol:3_pstyle:a_idx0:0_idx1:39_idx2:8  pname:ghbheadgr_inst:0_ptype:gr_usecol:3_pstyle:a_idx0:0_idx1:39_idx2:8     none  relative      0.0     -2.0      2.0  ghbheadgr    1.0     0.0       1  NaN    0   39    8    0  NaN  ghbheadgr      a    gr      3  NaN  NaN  NaN\n",
       "pname:ghbheadgr_inst:0_ptype:gr_usecol:3_pstyle:a_idx0:0_idx1:39_idx2:9  pname:ghbheadgr_inst:0_ptype:gr_usecol:3_pstyle:a_idx0:0_idx1:39_idx2:9     none  relative      0.0     -2.0      2.0  ghbheadgr    1.0     0.0       1  NaN    0   39    9    0  NaN  ghbheadgr      a    gr      3  NaN  NaN  NaN"
      ]
     },
     "execution_count": 67,
     "metadata": {},
     "output_type": "execute_result"
    }
   ],
   "source": [
    "par = pst.parameter_data\n",
    "par_names = par.loc[par.parval1==0].parnme\n",
    "\n",
    "par.loc[par_names].head()"
   ]
  },
  {
   "cell_type": "code",
   "execution_count": 68,
   "metadata": {},
   "outputs": [
    {
     "data": {
      "text/html": [
       "<div>\n",
       "<style scoped>\n",
       "    .dataframe tbody tr th:only-of-type {\n",
       "        vertical-align: middle;\n",
       "    }\n",
       "\n",
       "    .dataframe tbody tr th {\n",
       "        vertical-align: top;\n",
       "    }\n",
       "\n",
       "    .dataframe thead th {\n",
       "        text-align: right;\n",
       "    }\n",
       "</style>\n",
       "<table border=\"1\" class=\"dataframe\">\n",
       "  <thead>\n",
       "    <tr style=\"text-align: right;\">\n",
       "      <th></th>\n",
       "      <th>parnme</th>\n",
       "      <th>partrans</th>\n",
       "      <th>parchglim</th>\n",
       "      <th>parval1</th>\n",
       "      <th>parlbnd</th>\n",
       "      <th>parubnd</th>\n",
       "      <th>pargp</th>\n",
       "      <th>scale</th>\n",
       "      <th>offset</th>\n",
       "      <th>dercom</th>\n",
       "      <th>i</th>\n",
       "      <th>idx0</th>\n",
       "      <th>idx1</th>\n",
       "      <th>idx2</th>\n",
       "      <th>inst</th>\n",
       "      <th>j</th>\n",
       "      <th>pname</th>\n",
       "      <th>pstyle</th>\n",
       "      <th>ptype</th>\n",
       "      <th>usecol</th>\n",
       "      <th>x</th>\n",
       "      <th>y</th>\n",
       "      <th>zone</th>\n",
       "    </tr>\n",
       "  </thead>\n",
       "  <tbody>\n",
       "    <tr>\n",
       "      <th>pname:ghbheadgr_inst:0_ptype:gr_usecol:3_pstyle:a_idx0:0_idx1:39_idx2:5</th>\n",
       "      <td>pname:ghbheadgr_inst:0_ptype:gr_usecol:3_pstyle:a_idx0:0_idx1:39_idx2:5</td>\n",
       "      <td>none</td>\n",
       "      <td>relative</td>\n",
       "      <td>10.0</td>\n",
       "      <td>8.0</td>\n",
       "      <td>12.0</td>\n",
       "      <td>ghbheadgr</td>\n",
       "      <td>1.0</td>\n",
       "      <td>-10.0</td>\n",
       "      <td>1</td>\n",
       "      <td>NaN</td>\n",
       "      <td>0</td>\n",
       "      <td>39</td>\n",
       "      <td>5</td>\n",
       "      <td>0</td>\n",
       "      <td>NaN</td>\n",
       "      <td>ghbheadgr</td>\n",
       "      <td>a</td>\n",
       "      <td>gr</td>\n",
       "      <td>3</td>\n",
       "      <td>NaN</td>\n",
       "      <td>NaN</td>\n",
       "      <td>NaN</td>\n",
       "    </tr>\n",
       "    <tr>\n",
       "      <th>pname:ghbheadgr_inst:0_ptype:gr_usecol:3_pstyle:a_idx0:0_idx1:39_idx2:6</th>\n",
       "      <td>pname:ghbheadgr_inst:0_ptype:gr_usecol:3_pstyle:a_idx0:0_idx1:39_idx2:6</td>\n",
       "      <td>none</td>\n",
       "      <td>relative</td>\n",
       "      <td>10.0</td>\n",
       "      <td>8.0</td>\n",
       "      <td>12.0</td>\n",
       "      <td>ghbheadgr</td>\n",
       "      <td>1.0</td>\n",
       "      <td>-10.0</td>\n",
       "      <td>1</td>\n",
       "      <td>NaN</td>\n",
       "      <td>0</td>\n",
       "      <td>39</td>\n",
       "      <td>6</td>\n",
       "      <td>0</td>\n",
       "      <td>NaN</td>\n",
       "      <td>ghbheadgr</td>\n",
       "      <td>a</td>\n",
       "      <td>gr</td>\n",
       "      <td>3</td>\n",
       "      <td>NaN</td>\n",
       "      <td>NaN</td>\n",
       "      <td>NaN</td>\n",
       "    </tr>\n",
       "    <tr>\n",
       "      <th>pname:ghbheadgr_inst:0_ptype:gr_usecol:3_pstyle:a_idx0:0_idx1:39_idx2:7</th>\n",
       "      <td>pname:ghbheadgr_inst:0_ptype:gr_usecol:3_pstyle:a_idx0:0_idx1:39_idx2:7</td>\n",
       "      <td>none</td>\n",
       "      <td>relative</td>\n",
       "      <td>10.0</td>\n",
       "      <td>8.0</td>\n",
       "      <td>12.0</td>\n",
       "      <td>ghbheadgr</td>\n",
       "      <td>1.0</td>\n",
       "      <td>-10.0</td>\n",
       "      <td>1</td>\n",
       "      <td>NaN</td>\n",
       "      <td>0</td>\n",
       "      <td>39</td>\n",
       "      <td>7</td>\n",
       "      <td>0</td>\n",
       "      <td>NaN</td>\n",
       "      <td>ghbheadgr</td>\n",
       "      <td>a</td>\n",
       "      <td>gr</td>\n",
       "      <td>3</td>\n",
       "      <td>NaN</td>\n",
       "      <td>NaN</td>\n",
       "      <td>NaN</td>\n",
       "    </tr>\n",
       "    <tr>\n",
       "      <th>pname:ghbheadgr_inst:0_ptype:gr_usecol:3_pstyle:a_idx0:0_idx1:39_idx2:8</th>\n",
       "      <td>pname:ghbheadgr_inst:0_ptype:gr_usecol:3_pstyle:a_idx0:0_idx1:39_idx2:8</td>\n",
       "      <td>none</td>\n",
       "      <td>relative</td>\n",
       "      <td>10.0</td>\n",
       "      <td>8.0</td>\n",
       "      <td>12.0</td>\n",
       "      <td>ghbheadgr</td>\n",
       "      <td>1.0</td>\n",
       "      <td>-10.0</td>\n",
       "      <td>1</td>\n",
       "      <td>NaN</td>\n",
       "      <td>0</td>\n",
       "      <td>39</td>\n",
       "      <td>8</td>\n",
       "      <td>0</td>\n",
       "      <td>NaN</td>\n",
       "      <td>ghbheadgr</td>\n",
       "      <td>a</td>\n",
       "      <td>gr</td>\n",
       "      <td>3</td>\n",
       "      <td>NaN</td>\n",
       "      <td>NaN</td>\n",
       "      <td>NaN</td>\n",
       "    </tr>\n",
       "    <tr>\n",
       "      <th>pname:ghbheadgr_inst:0_ptype:gr_usecol:3_pstyle:a_idx0:0_idx1:39_idx2:9</th>\n",
       "      <td>pname:ghbheadgr_inst:0_ptype:gr_usecol:3_pstyle:a_idx0:0_idx1:39_idx2:9</td>\n",
       "      <td>none</td>\n",
       "      <td>relative</td>\n",
       "      <td>10.0</td>\n",
       "      <td>8.0</td>\n",
       "      <td>12.0</td>\n",
       "      <td>ghbheadgr</td>\n",
       "      <td>1.0</td>\n",
       "      <td>-10.0</td>\n",
       "      <td>1</td>\n",
       "      <td>NaN</td>\n",
       "      <td>0</td>\n",
       "      <td>39</td>\n",
       "      <td>9</td>\n",
       "      <td>0</td>\n",
       "      <td>NaN</td>\n",
       "      <td>ghbheadgr</td>\n",
       "      <td>a</td>\n",
       "      <td>gr</td>\n",
       "      <td>3</td>\n",
       "      <td>NaN</td>\n",
       "      <td>NaN</td>\n",
       "      <td>NaN</td>\n",
       "    </tr>\n",
       "  </tbody>\n",
       "</table>\n",
       "</div>"
      ],
      "text/plain": [
       "                                                                                                                                          parnme partrans parchglim  parval1  parlbnd  parubnd      pargp  scale  offset  dercom    i idx0 idx1 idx2 inst    j      pname pstyle ptype usecol    x    y zone\n",
       "pname:ghbheadgr_inst:0_ptype:gr_usecol:3_pstyle:a_idx0:0_idx1:39_idx2:5  pname:ghbheadgr_inst:0_ptype:gr_usecol:3_pstyle:a_idx0:0_idx1:39_idx2:5     none  relative     10.0      8.0     12.0  ghbheadgr    1.0   -10.0       1  NaN    0   39    5    0  NaN  ghbheadgr      a    gr      3  NaN  NaN  NaN\n",
       "pname:ghbheadgr_inst:0_ptype:gr_usecol:3_pstyle:a_idx0:0_idx1:39_idx2:6  pname:ghbheadgr_inst:0_ptype:gr_usecol:3_pstyle:a_idx0:0_idx1:39_idx2:6     none  relative     10.0      8.0     12.0  ghbheadgr    1.0   -10.0       1  NaN    0   39    6    0  NaN  ghbheadgr      a    gr      3  NaN  NaN  NaN\n",
       "pname:ghbheadgr_inst:0_ptype:gr_usecol:3_pstyle:a_idx0:0_idx1:39_idx2:7  pname:ghbheadgr_inst:0_ptype:gr_usecol:3_pstyle:a_idx0:0_idx1:39_idx2:7     none  relative     10.0      8.0     12.0  ghbheadgr    1.0   -10.0       1  NaN    0   39    7    0  NaN  ghbheadgr      a    gr      3  NaN  NaN  NaN\n",
       "pname:ghbheadgr_inst:0_ptype:gr_usecol:3_pstyle:a_idx0:0_idx1:39_idx2:8  pname:ghbheadgr_inst:0_ptype:gr_usecol:3_pstyle:a_idx0:0_idx1:39_idx2:8     none  relative     10.0      8.0     12.0  ghbheadgr    1.0   -10.0       1  NaN    0   39    8    0  NaN  ghbheadgr      a    gr      3  NaN  NaN  NaN\n",
       "pname:ghbheadgr_inst:0_ptype:gr_usecol:3_pstyle:a_idx0:0_idx1:39_idx2:9  pname:ghbheadgr_inst:0_ptype:gr_usecol:3_pstyle:a_idx0:0_idx1:39_idx2:9     none  relative     10.0      8.0     12.0  ghbheadgr    1.0   -10.0       1  NaN    0   39    9    0  NaN  ghbheadgr      a    gr      3  NaN  NaN  NaN"
      ]
     },
     "execution_count": 68,
     "metadata": {},
     "output_type": "execute_result"
    }
   ],
   "source": [
    "offset = -10\n",
    "par.loc[par_names, 'offset'] = offset\n",
    "par.loc[par_names, ['parval1', 'parlbnd', 'parubnd']] -= offset\n",
    "\n",
    "par.loc[par_names].head()"
   ]
  },
  {
   "cell_type": "markdown",
   "metadata": {},
   "source": [
    "#### Forecasts\n",
    "\n",
    "For most models there is a forecast/prediction that someone needs. Rather than waiting until the end of the project, the forecast should be entered into your thinking and workflow __right at the beginning__.  Here we do this explicitly by monitoring the forecasts as \"observations\" in the control file.  This way, for every PEST(++) analysis we do, we can watch what is happening to the forecasts - #winning\n",
    "\n",
    "The optional PEST++ `++forecasts` control variable allows us to provide the names of one or more observations featured in the \"observation data\" section of the PEST control file; these are treated as predictions in FOSM predictive uncertainty analysis by PESTPP-GLM. It is also a convenient way to keep track of \"forecast\" observations (makes post-processing a wee bit easier later on).\n",
    "\n",
    "Recall that, for our synthetic case we are interested in forecasting:\n",
    "\n",
    " - groundwater level in the upper layer at row 9 and column 1 (site named \"trgw-0-9-1\") in stress period 22 (time=640);\n",
    " - the \"tailwater\" surface-water/groundwater exchange during stress period 13 (time=367); and\n",
    " - the \"headwater\" surface-water/groundwater exchange at stress period 22 (time=640).\n",
    " - the particle travel time.\n"
   ]
  },
  {
   "cell_type": "code",
   "execution_count": 69,
   "metadata": {},
   "outputs": [
    {
     "data": {
      "text/plain": [
       "['oname:sfr_otype:lst_usecol:tailwater_time:4383.5',\n",
       " 'oname:sfr_otype:lst_usecol:headwater_time:4383.5',\n",
       " 'oname:hds_otype:lst_usecol:trgw-0-9-1_time:4383.5',\n",
       " 'part_time']"
      ]
     },
     "execution_count": 69,
     "metadata": {},
     "output_type": "execute_result"
    }
   ],
   "source": [
    "forecasts =[\n",
    "            'oname:sfr_otype:lst_usecol:tailwater_time:4383.5',\n",
    "            'oname:sfr_otype:lst_usecol:headwater_time:4383.5',\n",
    "            'oname:hds_otype:lst_usecol:trgw-0-9-1_time:4383.5',\n",
    "            'part_time'\n",
    "            ]\n",
    "\n",
    "forecasts"
   ]
  },
  {
   "cell_type": "code",
   "execution_count": 70,
   "metadata": {},
   "outputs": [
    {
     "data": {
      "text/html": [
       "<div>\n",
       "<style scoped>\n",
       "    .dataframe tbody tr th:only-of-type {\n",
       "        vertical-align: middle;\n",
       "    }\n",
       "\n",
       "    .dataframe tbody tr th {\n",
       "        vertical-align: top;\n",
       "    }\n",
       "\n",
       "    .dataframe thead th {\n",
       "        text-align: right;\n",
       "    }\n",
       "</style>\n",
       "<table border=\"1\" class=\"dataframe\">\n",
       "  <thead>\n",
       "    <tr style=\"text-align: right;\">\n",
       "      <th></th>\n",
       "      <th>obsnme</th>\n",
       "      <th>obsval</th>\n",
       "      <th>weight</th>\n",
       "      <th>obgnme</th>\n",
       "      <th>i</th>\n",
       "      <th>j</th>\n",
       "      <th>oname</th>\n",
       "      <th>otype</th>\n",
       "      <th>time</th>\n",
       "      <th>totim</th>\n",
       "      <th>usecol</th>\n",
       "      <th>zone</th>\n",
       "    </tr>\n",
       "  </thead>\n",
       "  <tbody>\n",
       "    <tr>\n",
       "      <th>oname:sfr_otype:lst_usecol:tailwater_time:4383.5</th>\n",
       "      <td>oname:sfr_otype:lst_usecol:tailwater_time:4383.5</td>\n",
       "      <td>92.911368</td>\n",
       "      <td>1.0</td>\n",
       "      <td>oname:sfr_otype:lst_usecol:tailwater</td>\n",
       "      <td>NaN</td>\n",
       "      <td>NaN</td>\n",
       "      <td>sfr</td>\n",
       "      <td>lst</td>\n",
       "      <td>4383.5</td>\n",
       "      <td>NaN</td>\n",
       "      <td>tailwater</td>\n",
       "      <td>NaN</td>\n",
       "    </tr>\n",
       "    <tr>\n",
       "      <th>oname:sfr_otype:lst_usecol:headwater_time:4383.5</th>\n",
       "      <td>oname:sfr_otype:lst_usecol:headwater_time:4383.5</td>\n",
       "      <td>-127.192506</td>\n",
       "      <td>1.0</td>\n",
       "      <td>oname:sfr_otype:lst_usecol:headwater</td>\n",
       "      <td>NaN</td>\n",
       "      <td>NaN</td>\n",
       "      <td>sfr</td>\n",
       "      <td>lst</td>\n",
       "      <td>4383.5</td>\n",
       "      <td>NaN</td>\n",
       "      <td>headwater</td>\n",
       "      <td>NaN</td>\n",
       "    </tr>\n",
       "    <tr>\n",
       "      <th>oname:hds_otype:lst_usecol:trgw-0-9-1_time:4383.5</th>\n",
       "      <td>oname:hds_otype:lst_usecol:trgw-0-9-1_time:4383.5</td>\n",
       "      <td>35.559841</td>\n",
       "      <td>1.0</td>\n",
       "      <td>oname:hds_otype:lst_usecol:trgw-0-9-1</td>\n",
       "      <td>NaN</td>\n",
       "      <td>NaN</td>\n",
       "      <td>hds</td>\n",
       "      <td>lst</td>\n",
       "      <td>4383.5</td>\n",
       "      <td>NaN</td>\n",
       "      <td>trgw-0-9-1</td>\n",
       "      <td>NaN</td>\n",
       "    </tr>\n",
       "    <tr>\n",
       "      <th>part_time</th>\n",
       "      <td>part_time</td>\n",
       "      <td>99358.429160</td>\n",
       "      <td>1.0</td>\n",
       "      <td>part</td>\n",
       "      <td>NaN</td>\n",
       "      <td>NaN</td>\n",
       "      <td>NaN</td>\n",
       "      <td>NaN</td>\n",
       "      <td>NaN</td>\n",
       "      <td>NaN</td>\n",
       "      <td>NaN</td>\n",
       "      <td>NaN</td>\n",
       "    </tr>\n",
       "  </tbody>\n",
       "</table>\n",
       "</div>"
      ],
      "text/plain": [
       "                                                                                              obsnme        obsval  weight                                 obgnme    i    j oname otype    time totim      usecol zone\n",
       "oname:sfr_otype:lst_usecol:tailwater_time:4383.5    oname:sfr_otype:lst_usecol:tailwater_time:4383.5     92.911368     1.0   oname:sfr_otype:lst_usecol:tailwater  NaN  NaN   sfr   lst  4383.5   NaN   tailwater  NaN\n",
       "oname:sfr_otype:lst_usecol:headwater_time:4383.5    oname:sfr_otype:lst_usecol:headwater_time:4383.5   -127.192506     1.0   oname:sfr_otype:lst_usecol:headwater  NaN  NaN   sfr   lst  4383.5   NaN   headwater  NaN\n",
       "oname:hds_otype:lst_usecol:trgw-0-9-1_time:4383.5  oname:hds_otype:lst_usecol:trgw-0-9-1_time:4383.5     35.559841     1.0  oname:hds_otype:lst_usecol:trgw-0-9-1  NaN  NaN   hds   lst  4383.5   NaN  trgw-0-9-1  NaN\n",
       "part_time                                                                                  part_time  99358.429160     1.0                                   part  NaN  NaN   NaN   NaN     NaN   NaN         NaN  NaN"
      ]
     },
     "execution_count": 70,
     "metadata": {},
     "output_type": "execute_result"
    }
   ],
   "source": [
    "fobs = obs.loc[forecasts,:]\n",
    "fobs"
   ]
  },
  {
   "cell_type": "markdown",
   "metadata": {},
   "source": [
    "We will just set this optional pest++ argument because it will trigger certain automatic behavior later in PESTPP-GLM"
   ]
  },
  {
   "cell_type": "code",
   "execution_count": 71,
   "metadata": {},
   "outputs": [],
   "source": [
    "pst.pestpp_options['forecasts'] = forecasts"
   ]
  },
  {
   "cell_type": "markdown",
   "metadata": {},
   "source": [
    "### Re-write the Control File!"
   ]
  },
  {
   "cell_type": "markdown",
   "metadata": {},
   "source": [
    "Make sure to re-**write** the PEST control file. But beware, if you re-**build** the `Pst`, all these changes will be lost."
   ]
  },
  {
   "cell_type": "code",
   "execution_count": 72,
   "metadata": {},
   "outputs": [
    {
     "name": "stdout",
     "output_type": "stream",
     "text": [
      "noptmax:0, npar_adj:5410, nnz_obs:21958\n"
     ]
    }
   ],
   "source": [
    "pst.write(os.path.join(template_ws, 'freyberg_mf6.pst'),version=2)"
   ]
  },
  {
   "cell_type": "markdown",
   "metadata": {},
   "source": [
    "So that was pretty epic. We now have a (very) high-dimensional PEST interface that includes secondary observations, as well as forecasts, ready to roll. \n",
    "\n",
    "If you inspect the folder, you will see PEST control file and all the necessary instruction and template files. Because we have >10k parameters, version 2 of the PEST control file was written by default. \n",
    "\n",
    "Shall we check that it works? Let's run PEST once (i.e. with NOPTMAX=0). Now, by default, noptmax is set to zero. But just to check:"
   ]
  },
  {
   "cell_type": "code",
   "execution_count": 73,
   "metadata": {},
   "outputs": [
    {
     "data": {
      "text/plain": [
       "0"
      ]
     },
     "execution_count": 73,
     "metadata": {},
     "output_type": "execute_result"
    }
   ],
   "source": [
    "pst.control_data.noptmax"
   ]
  },
  {
   "cell_type": "markdown",
   "metadata": {},
   "source": [
    "OK, so when we run PEST it will call the model once and then stop. If the next cell is successful, then everything is working. Check the folder, you should see PEST output files. (We will go into these and how to process PEST outcomes in subsequent tutorials)."
   ]
  },
  {
   "cell_type": "code",
   "execution_count": 74,
   "metadata": {},
   "outputs": [
    {
     "name": "stdout",
     "output_type": "stream",
     "text": [
      "pestpp-glm.exe freyberg_mf6.pst\n"
     ]
    }
   ],
   "source": [
    "pyemu.os_utils.run('pestpp-glm freyberg_mf6.pst', cwd=template_ws)"
   ]
  },
  {
   "cell_type": "markdown",
   "metadata": {},
   "source": [
    "Recall that we assigned observation values generated from the \"base model run\"? If we setup everything correctly, this means that PEST should have obtained residuals very close to zero. As mentioned, this is a good way to check for problems early on.\n",
    "\n",
    "Let's check the Phi recorded in the *.iobj file (could also check the *.rec or *.rei files)."
   ]
  },
  {
   "cell_type": "code",
   "execution_count": 75,
   "metadata": {},
   "outputs": [
    {
     "data": {
      "text/plain": [
       "0    0\n",
       "Name: total_phi, dtype: int64"
      ]
     },
     "execution_count": 75,
     "metadata": {},
     "output_type": "execute_result"
    }
   ],
   "source": [
    "# read the file\n",
    "iobj = pd.read_csv(os.path.join(template_ws, 'freyberg_mf6.iobj'))\n",
    "\n",
    "# check value in phi column\n",
    "iobj.total_phi"
   ]
  },
  {
   "cell_type": "markdown",
   "metadata": {},
   "source": [
    " Sweet! Zero. All is well."
   ]
  },
  {
   "cell_type": "markdown",
   "metadata": {},
   "source": [
    "### Prior Parameter Covariance Matrix\n",
    "\n",
    "One the major reasons `PstFrom` was built is to help with building the Prior - both covariance matrix and ensemble - with geostatistical correlation.  Remember all that business above related to geostatistical structures and correlations?  This is where it pays off.\n",
    "\n",
    "Let's see how this works.  For cases with less than about 30,000 parameters, we can actually generate and visualize the prior parameter covariance matrix.  If you have more parameters, this matrix may not fit in memory.  But, not to worry, `PstFrom` has some trickery to help generate the geostatistical prior ensemble even in cases where the number of parameters is greater than 30,000. \n"
   ]
  },
  {
   "cell_type": "code",
   "execution_count": 76,
   "metadata": {},
   "outputs": [
    {
     "data": {
      "image/png": "[encoded data removed]",
      "text/plain": [
       "<Figure size 640x480 with 1 Axes>"
      ]
     },
     "metadata": {},
     "output_type": "display_data"
    }
   ],
   "source": [
    "# build the prior covariance matrix and store it as a compresed bianry file (otherwise it can get huge!)\n",
    "# depending on your machine, this may take a while...\n",
    "if pf.pst.npar < 35000:  #if you have more than about 35K pars, the cov matrix becomes hard to handle\n",
    "    cov = pf.build_prior(fmt='coo', filename=os.path.join(template_ws,\"prior_cov.jcb\"))\n",
    "    # and take a peek at a slice of the matrix\n",
    "    try: \n",
    "        x = cov.x.copy()\n",
    "        x[x==0] = np.NaN\n",
    "        plt.imshow(x[:1000,:1000])\n",
    "    except:\n",
    "        pass"
   ]
  },
  {
   "cell_type": "markdown",
   "metadata": {},
   "source": [
    "snap!  That big block must be a grid-scale parameter group..."
   ]
  },
  {
   "cell_type": "code",
   "execution_count": 77,
   "metadata": {},
   "outputs": [
    {
     "data": {
      "text/plain": [
       "['pname:npfklayer1gr_inst:0_ptype:gr_pstyle:m_i:0_j:0_x:125.00_y:9875.00_zone:1',\n",
       " 'pname:npfklayer1gr_inst:0_ptype:gr_pstyle:m_i:0_j:1_x:375.00_y:9875.00_zone:1',\n",
       " 'pname:npfklayer1gr_inst:0_ptype:gr_pstyle:m_i:0_j:2_x:625.00_y:9875.00_zone:1',\n",
       " 'pname:npfklayer1gr_inst:0_ptype:gr_pstyle:m_i:0_j:3_x:875.00_y:9875.00_zone:1',\n",
       " 'pname:npfklayer1gr_inst:0_ptype:gr_pstyle:m_i:0_j:4_x:1125.00_y:9875.00_zone:1',\n",
       " 'pname:npfklayer1gr_inst:0_ptype:gr_pstyle:m_i:0_j:5_x:1375.00_y:9875.00_zone:1',\n",
       " 'pname:npfklayer1gr_inst:0_ptype:gr_pstyle:m_i:0_j:6_x:1625.00_y:9875.00_zone:1',\n",
       " 'pname:npfklayer1gr_inst:0_ptype:gr_pstyle:m_i:0_j:7_x:1875.00_y:9875.00_zone:1',\n",
       " 'pname:npfklayer1gr_inst:0_ptype:gr_pstyle:m_i:0_j:8_x:2125.00_y:9875.00_zone:1',\n",
       " 'pname:npfklayer1gr_inst:0_ptype:gr_pstyle:m_i:0_j:9_x:2375.00_y:9875.00_zone:1']"
      ]
     },
     "execution_count": 77,
     "metadata": {},
     "output_type": "execute_result"
    }
   ],
   "source": [
    "cov.row_names[:10]"
   ]
  },
  {
   "cell_type": "markdown",
   "metadata": {},
   "source": [
    "And now generate a prior parameter ensemble. This step is relevant for using pestpp-ies in subsequent tutorials. Note: you do not have to call `build_prior()` before calling `draw()`!"
   ]
  },
  {
   "cell_type": "code",
   "execution_count": 78,
   "metadata": {},
   "outputs": [
    {
     "name": "stdout",
     "output_type": "stream",
     "text": [
      "SpecSim.initialize() summary: full_delx X full_dely: 72 X 72\n",
      "SpecSim.initialize() summary: full_delx X full_dely: 72 X 72\n",
      "SpecSim.initialize() summary: full_delx X full_dely: 72 X 72\n",
      "SpecSim.initialize() summary: full_delx X full_dely: 72 X 72\n",
      "SpecSim.initialize() summary: full_delx X full_dely: 72 X 72\n",
      "SpecSim.initialize() summary: full_delx X full_dely: 72 X 72\n",
      "SpecSim.initialize() summary: full_delx X full_dely: 72 X 72\n",
      "SpecSim.initialize() summary: full_delx X full_dely: 72 X 72\n",
      "building diagonal cov\n",
      "processing  name:struct1,nugget:0.0,structures:\n",
      "name:var1,contribution:1.0,a:1000.0,anisotropy:1.0,bearing:0.0\n",
      "\n",
      "working on pargroups ['ghbcondgr']\n",
      "build cov matrix\n",
      "done\n",
      "getting diag var cov 10\n",
      "scaling full cov by diag var cov\n",
      "working on pargroups ['sfrcondgr']\n",
      "build cov matrix\n",
      "done\n",
      "getting diag var cov 40\n",
      "scaling full cov by diag var cov\n",
      "processing  name:struct1,nugget:0.0,structures:\n",
      "name:var1,contribution:1.0,a:15000.0,anisotropy:1.0,bearing:0.0\n",
      "\n",
      "working on pargroups ['npfklayer1pp']\n",
      "build cov matrix\n",
      "done\n",
      "getting diag var cov 29\n",
      "scaling full cov by diag var cov\n",
      "working on pargroups ['stosylayer1pp']\n",
      "build cov matrix\n",
      "done\n",
      "getting diag var cov 29\n",
      "scaling full cov by diag var cov\n",
      "working on pargroups ['nelayer1pp']\n",
      "build cov matrix\n",
      "done\n",
      "getting diag var cov 29\n",
      "scaling full cov by diag var cov\n",
      "working on pargroups ['nelayer2pp']\n",
      "build cov matrix\n",
      "done\n",
      "getting diag var cov 29\n",
      "scaling full cov by diag var cov\n",
      "working on pargroups ['nelayer3pp']\n",
      "build cov matrix\n",
      "done\n",
      "getting diag var cov 29\n",
      "scaling full cov by diag var cov\n",
      "working on pargroups ['rch_recharge_1pp']\n",
      "build cov matrix\n",
      "done\n",
      "getting diag var cov 29\n",
      "scaling full cov by diag var cov\n",
      "processing  name:struct1,nugget:0.0,structures:\n",
      "name:var1,contribution:1.0,a:60.0,anisotropy:1.0,bearing:0.0\n",
      "\n",
      "working on pargroups ['welcst']\n",
      "build cov matrix\n",
      "done\n",
      "getting diag var cov 25\n",
      "scaling full cov by diag var cov\n",
      "processing  name:struct1,nugget:0.0,structures:\n",
      "name:var1,contribution:1.0,a:1000.0,anisotropy:1.0,bearing:0.0\n",
      "\n",
      "working on pargroups ['ghbheadgr']\n",
      "build cov matrix\n",
      "done\n",
      "getting diag var cov 10\n",
      "scaling full cov by diag var cov\n",
      "adding remaining parameters to diagonal\n"
     ]
    }
   ],
   "source": [
    "pe = pf.draw(num_reals=1000, use_specsim=True) # draw parameters from the prior distribution\n",
    "pe.enforce() # enforces parameter bounds\n",
    "pe.to_binary(os.path.join(template_ws,\"prior_pe.jcb\")) #writes the paramter ensemble to binary file\n",
    "assert pe.shape[1] == pst.npar"
   ]
  },
  {
   "cell_type": "markdown",
   "metadata": {},
   "source": [
    "Let's now test-run one of these geostatistical realizations (always a good idea!).  We do this by replacing the `parval1` values in the control with a row from `pe`:"
   ]
  },
  {
   "cell_type": "code",
   "execution_count": 79,
   "metadata": {},
   "outputs": [
    {
     "data": {
      "text/plain": [
       "array([ 0.72616096,  0.82076147,  1.08770186, ..., 30.96381582,\n",
       "       29.2050304 , 45.19831249])"
      ]
     },
     "execution_count": 79,
     "metadata": {},
     "output_type": "execute_result"
    }
   ],
   "source": [
    "pst.parameter_data.loc[:,\"parval1\"] = pe.loc[pe.index[0],pst.par_names].values\n",
    "pst.parameter_data.parval1.values"
   ]
  },
  {
   "cell_type": "code",
   "execution_count": 80,
   "metadata": {},
   "outputs": [
    {
     "name": "stdout",
     "output_type": "stream",
     "text": [
      "noptmax:0, npar_adj:5410, nnz_obs:21958\n",
      "pestpp-glm.exe test.pst\n"
     ]
    }
   ],
   "source": [
    "pst.control_data.noptmax = 0\n",
    "pst.write(os.path.join(template_ws,\"test.pst\"),version=2)\n",
    "pyemu.os_utils.run(\"pestpp-glm test.pst\",cwd=template_ws)"
   ]
  },
  {
   "cell_type": "markdown",
   "metadata": {},
   "source": [
    "If all went well, that's it! The PEST-interface is setup, tested and we have our prior prepared. We should be good to go!"
   ]
  },
  {
   "cell_type": "markdown",
   "metadata": {},
   "source": [
    "### Bonus: Understanding Multiplier-Parameters\n",
    "\n",
    "Now the multiplier files in the `template_ws/mult` folder and the MF6 input files in the `template_ws` folder contain the values corresponding to this realization, so we can visualize the multiplier parameter process:"
   ]
  },
  {
   "cell_type": "code",
   "execution_count": 81,
   "metadata": {},
   "outputs": [
    {
     "data": {
      "text/html": [
       "<div>\n",
       "<style scoped>\n",
       "    .dataframe tbody tr th:only-of-type {\n",
       "        vertical-align: middle;\n",
       "    }\n",
       "\n",
       "    .dataframe tbody tr th {\n",
       "        vertical-align: top;\n",
       "    }\n",
       "\n",
       "    .dataframe thead th {\n",
       "        text-align: right;\n",
       "    }\n",
       "</style>\n",
       "<table border=\"1\" class=\"dataframe\">\n",
       "  <thead>\n",
       "    <tr style=\"text-align: right;\">\n",
       "      <th></th>\n",
       "      <th>Unnamed: 0</th>\n",
       "      <th>org_file</th>\n",
       "      <th>model_file</th>\n",
       "      <th>use_cols</th>\n",
       "      <th>index_cols</th>\n",
       "      <th>fmt</th>\n",
       "      <th>sep</th>\n",
       "      <th>head_rows</th>\n",
       "      <th>upper_bound</th>\n",
       "      <th>lower_bound</th>\n",
       "      <th>operator</th>\n",
       "      <th>mlt_file</th>\n",
       "      <th>zone_file</th>\n",
       "      <th>apply_order</th>\n",
       "      <th>fac_file</th>\n",
       "      <th>pp_file</th>\n",
       "      <th>pp_fill_value</th>\n",
       "      <th>pp_lower_limit</th>\n",
       "      <th>pp_upper_limit</th>\n",
       "      <th>chkpar</th>\n",
       "      <th>zero_based</th>\n",
       "    </tr>\n",
       "  </thead>\n",
       "  <tbody>\n",
       "    <tr>\n",
       "      <th>0</th>\n",
       "      <td>0</td>\n",
       "      <td>org\\freyberg6.npf_k_layer1.txt</td>\n",
       "      <td>freyberg6.npf_k_layer1.txt</td>\n",
       "      <td>NaN</td>\n",
       "      <td>NaN</td>\n",
       "      <td>%17.1F</td>\n",
       "      <td>NaN</td>\n",
       "      <td>0</td>\n",
       "      <td>100</td>\n",
       "      <td>0.01</td>\n",
       "      <td>m</td>\n",
       "      <td>mult\\npfklayer1gr_inst0_grid.csv</td>\n",
       "      <td>npfklayer1gr_inst0_grid.csv.zone</td>\n",
       "      <td>999</td>\n",
       "      <td>NaN</td>\n",
       "      <td>NaN</td>\n",
       "      <td>NaN</td>\n",
       "      <td>NaN</td>\n",
       "      <td>NaN</td>\n",
       "      <td>NaN</td>\n",
       "      <td>False</td>\n",
       "    </tr>\n",
       "    <tr>\n",
       "      <th>1</th>\n",
       "      <td>1</td>\n",
       "      <td>org\\freyberg6.npf_k_layer1.txt</td>\n",
       "      <td>freyberg6.npf_k_layer1.txt</td>\n",
       "      <td>NaN</td>\n",
       "      <td>NaN</td>\n",
       "      <td>%17.1F</td>\n",
       "      <td>NaN</td>\n",
       "      <td>0</td>\n",
       "      <td>100</td>\n",
       "      <td>0.01</td>\n",
       "      <td>m</td>\n",
       "      <td>mult\\npfklayer1pp_inst0_pilotpoints.csv</td>\n",
       "      <td>npfklayer1pp_inst0pp.dat.zone</td>\n",
       "      <td>999</td>\n",
       "      <td>npfklayer1pp_inst0pp.fac</td>\n",
       "      <td>npfklayer1pp_inst0pp.dat</td>\n",
       "      <td>1.0</td>\n",
       "      <td>1.000000e-30</td>\n",
       "      <td>1.000000e+30</td>\n",
       "      <td>NaN</td>\n",
       "      <td>False</td>\n",
       "    </tr>\n",
       "    <tr>\n",
       "      <th>2</th>\n",
       "      <td>2</td>\n",
       "      <td>org\\freyberg6.npf_k_layer1.txt</td>\n",
       "      <td>freyberg6.npf_k_layer1.txt</td>\n",
       "      <td>NaN</td>\n",
       "      <td>NaN</td>\n",
       "      <td>%17.1F</td>\n",
       "      <td>NaN</td>\n",
       "      <td>0</td>\n",
       "      <td>100</td>\n",
       "      <td>0.01</td>\n",
       "      <td>m</td>\n",
       "      <td>mult\\npfklayer1cn_inst0_constant.csv</td>\n",
       "      <td>npfklayer1cn_inst0_constant.csv.zone</td>\n",
       "      <td>999</td>\n",
       "      <td>NaN</td>\n",
       "      <td>NaN</td>\n",
       "      <td>NaN</td>\n",
       "      <td>NaN</td>\n",
       "      <td>NaN</td>\n",
       "      <td>NaN</td>\n",
       "      <td>False</td>\n",
       "    </tr>\n",
       "  </tbody>\n",
       "</table>\n",
       "</div>"
      ],
      "text/plain": [
       "   Unnamed: 0                        org_file                  model_file use_cols index_cols     fmt  sep  head_rows upper_bound lower_bound operator                                 mlt_file                             zone_file  apply_order                  fac_file                   pp_file  pp_fill_value  pp_lower_limit  pp_upper_limit  chkpar  zero_based\n",
       "0           0  org\\freyberg6.npf_k_layer1.txt  freyberg6.npf_k_layer1.txt      NaN        NaN  %17.1F  NaN          0         100        0.01        m         mult\\npfklayer1gr_inst0_grid.csv      npfklayer1gr_inst0_grid.csv.zone          999                       NaN                       NaN            NaN             NaN             NaN     NaN       False\n",
       "1           1  org\\freyberg6.npf_k_layer1.txt  freyberg6.npf_k_layer1.txt      NaN        NaN  %17.1F  NaN          0         100        0.01        m  mult\\npfklayer1pp_inst0_pilotpoints.csv         npfklayer1pp_inst0pp.dat.zone          999  npfklayer1pp_inst0pp.fac  npfklayer1pp_inst0pp.dat            1.0    1.000000e-30    1.000000e+30     NaN       False\n",
       "2           2  org\\freyberg6.npf_k_layer1.txt  freyberg6.npf_k_layer1.txt      NaN        NaN  %17.1F  NaN          0         100        0.01        m     mult\\npfklayer1cn_inst0_constant.csv  npfklayer1cn_inst0_constant.csv.zone          999                       NaN                       NaN            NaN             NaN             NaN     NaN       False"
      ]
     },
     "execution_count": 81,
     "metadata": {},
     "output_type": "execute_result"
    }
   ],
   "source": [
    "df = pd.read_csv(os.path.join(template_ws,\"mult2model_info.csv\"))\n",
    "kh1_df = df.loc[df.model_file.str.contains(\"npf_k_layer1\"),:]\n",
    "kh1_df"
   ]
  },
  {
   "cell_type": "code",
   "execution_count": 82,
   "metadata": {},
   "outputs": [
    {
     "data": {
      "image/png": "[encoded data removed]",
      "text/plain": [
       "<Figure size 1700x500 with 10 Axes>"
      ]
     },
     "metadata": {},
     "output_type": "display_data"
    }
   ],
   "source": [
    "org_arr = np.loadtxt(os.path.join(template_ws,kh1_df.org_file.iloc[0]))\n",
    "inp_arr = np.loadtxt(os.path.join(template_ws,kh1_df.model_file.iloc[0]))\n",
    "mlt_arrs = [np.loadtxt(os.path.join(template_ws,afile)) for afile in kh1_df.mlt_file]\n",
    "arrs = [org_arr]\n",
    "arrs.extend(mlt_arrs)\n",
    "arrs.append(inp_arr)\n",
    "names = [\"org\"]\n",
    "names.extend([mf.split('.')[0].split('_')[-1] for mf in kh1_df.mlt_file])\n",
    "names.append(\"MF6 input\")\n",
    "fig,axes = plt.subplots(1,kh1_df.shape[0]+2,figsize=(5*kh1_df.shape[0]+2,5))\n",
    "for i,ax in enumerate(axes.flatten()):\n",
    "    arr = np.log10(arrs[i])\n",
    "    arr[ib==0] = np.NaN\n",
    "    cb = ax.imshow(arr)\n",
    "    plt.colorbar(cb,ax=ax)\n",
    "    ax.set_title(names[i],loc=\"left\")\n",
    "plt.tight_layout()    \n",
    "    "
   ]
  },
  {
   "cell_type": "markdown",
   "metadata": {},
   "source": [
    "So now we can see the difference the pilot point geostructure makes compared to the grid-scale geostructure.  The pilot point array has a much stronger spatial correlation (over a larger distance) than the grid-scale..."
   ]
  },
  {
   "cell_type": "markdown",
   "metadata": {},
   "source": [
    "# Finally, what's up with all these new files and folders? We can trace through them to see how multipliers are applied"
   ]
  },
  {
   "cell_type": "code",
   "execution_count": 83,
   "metadata": {},
   "outputs": [
    {
     "data": {
      "text/html": [
       "<img src=\"./pest_flow2.gif\"/>"
      ],
      "text/plain": [
       "<IPython.core.display.Image object>"
      ]
     },
     "metadata": {},
     "output_type": "display_data"
    }
   ],
   "source": [
    "from IPython.display import Image, display\n",
    "display(Image(url='./pest_flow2.gif'))"
   ]
  }
 ],
 "metadata": {
  "kernelspec": {
   "display_name": "Python 3 (ipykernel)",
   "language": "python",
   "name": "python3"
  },
  "language_info": {
   "codemirror_mode": {
    "name": "ipython",
    "version": 3
   },
   "file_extension": ".py",
   "mimetype": "text/x-python",
   "name": "python",
   "nbconvert_exporter": "python",
   "pygments_lexer": "ipython3",
   "version": "3.11.11"
  }
 },
 "nbformat": 4,
 "nbformat_minor": 4
}
