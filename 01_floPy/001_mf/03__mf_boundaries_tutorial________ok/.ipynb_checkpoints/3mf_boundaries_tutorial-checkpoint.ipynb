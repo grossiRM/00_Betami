{
 "cells": [
  {
   "cell_type": "markdown",
   "id": "20dcda62-a409-4679-aa50-c7549b8b87bc",
   "metadata": {},
   "source": [
    "## __Boundaries_tutorial_03__\n",
    "#### __01_List_of_boundaries__"
   ]
  },
  {
   "cell_type": "code",
   "execution_count": 1,
   "id": "0ab8082c",
   "metadata": {},
   "outputs": [],
   "source": [
    "# !head -n 10 '../Tdata/b0.riv'"
   ]
  },
  {
   "cell_type": "code",
   "execution_count": 2,
   "id": "73416c72",
   "metadata": {},
   "outputs": [],
   "source": [
    "import os\n",
    "import sys\n",
    "import numpy as np\n",
    "import flopy\n",
    "import pathlib as pl\n",
    "import pooch\n",
    "from tempfile import TemporaryDirectory"
   ]
  },
  {
   "cell_type": "code",
   "execution_count": 3,
   "id": "c1761cac",
   "metadata": {},
   "outputs": [],
   "source": [
    "temp_dir = TemporaryDirectory()\n",
    "ws = os.path.join(temp_dir.name)"
   ]
  },
  {
   "cell_type": "raw",
   "id": "b967c4e3-1fa4-477a-8142-b8e3cb3bfee2",
   "metadata": {},
   "source": [
    "Lx, Ly           = 1000.0, 1000.0                       # ___________________from tutorial 01\n",
    "ztop, zbot       = 0.0, -50.0\n",
    "nper, nlay, nrow, ncol = 1, 1, 10, 20                   # nper = 1  (add)\n",
    "delr, delc       = Lx / ncol, Ly / nrow\n",
    "delv             = (ztop - zbot) / nlay\n",
    "botm             = np.linspace(ztop, zbot, nlay + 1)   # xoffset, yoffset = 554400., 389200.0   # epsg = 3070      # *.dis   # modelgrid = ?\n",
    "dis = flopy.modflow.ModflowDis(mf, nlay, nrow, ncol, delr=delr, delc=delc, top=ztop, botm=botm[1:])"
   ]
  },
  {
   "cell_type": "code",
   "execution_count": 4,
   "id": "f1b0b6bf",
   "metadata": {
    "scrolled": true
   },
   "outputs": [],
   "source": [
    "stress_period_data = [ [2,3,4,  10.7, 5000.0, -5.7,],  \n",
    "                       [2,3,5,  10.7, 5000.0, -5.7,],\n",
    "                       [2,3,6,  10.7, 5000.0, -5.7,],]        # layer, row, column,        stage, conductance, river bottom\n",
    "\n",
    "m = flopy.modflow.Modflow(modelname=\"B_test\", model_ws=ws)\n",
    "riv = flopy.modflow.ModflowRiv(m, stress_period_data=stress_period_data)\n",
    "# dis = flopy.modflow.ModflowDis(m, nper=30)\n",
    "m.write_input()                                              # after FloPy  # !head -n 10 'tempIN/FOLDER-A/B_test.riv'"
   ]
  },
  {
   "cell_type": "markdown",
   "id": "10a3e625-e6a1-438d-bcb1-ed71efdbda63",
   "metadata": {},
   "source": [
    "###  __02_numpy_recarray__"
   ]
  },
  {
   "cell_type": "raw",
   "id": "f7888e91-6ffc-4866-981e-b06788e0f9a9",
   "metadata": {},
   "source": [
    "riv_dtype = flopy.modflow.ModflowRiv.get_default_dtype()           # Recarrays\n",
    "print(riv_dtype)"
   ]
  },
  {
   "cell_type": "raw",
   "id": "80301973-790d-4240-afe8-615182cd96aa",
   "metadata": {},
   "source": [
    "stress_period_data = np.zeros((3), dtype=riv_dtype)\n",
    "stress_period_data = stress_period_data.view(np.recarray)"
   ]
  },
  {
   "cell_type": "code",
   "execution_count": 5,
   "id": "60576229",
   "metadata": {},
   "outputs": [],
   "source": [
    "stress_period_data[0] = (2, 3, 4, 10.7, 5000.0, -5.7)\n",
    "stress_period_data[1] = (2, 3, 5, 10.7, 5000.0, -5.7)\n",
    "stress_period_data[2] = (2, 3, 6, 10.7, 5000.0, -5.7)          # print(stress_period_data)\n",
    "\n",
    "m = flopy.modflow.Modflow(modelname=\"d\", model_ws=ws)\n",
    "riv = flopy.modflow.ModflowRiv(m, stress_period_data=stress_period_data)\n",
    "# dis = flopy.modflow.ModflowDis(m, nper=3) _____? ___________ # superfluous ?\n",
    "m.write_input() # after FlopY"
   ]
  },
  {
   "cell_type": "markdown",
   "id": "22cb4fbc-3cf0-4094-bfdc-d3d874e1b183",
   "metadata": {},
   "source": [
    "## __03_dictionary__"
   ]
  },
  {
   "cell_type": "code",
   "execution_count": 6,
   "id": "33ce03b0-2a6e-4821-bfad-17883432599f",
   "metadata": {},
   "outputs": [],
   "source": [
    "sp1 = [ [2,3,4,  10.7, 5000.0, -5.7,],  \n",
    "                       [2,3,5,  10.7, 5000.0, -5.7,],\n",
    "                       [2,3,6,  10.7, 5000.0, -5.7,],]      "
   ]
  },
  {
   "cell_type": "code",
   "execution_count": 7,
   "id": "58fe41c4",
   "metadata": {},
   "outputs": [],
   "source": [
    "riv_dtype = flopy.modflow.ModflowRiv.get_default_dtype()\n",
    "sp5 = np.zeros((3), dtype=riv_dtype)\n",
    "sp5 = sp5.view(np.recarray)\n",
    "sp5[0] = (2, 3, 4, 20.7, 5000.0, -5.7)\n",
    "sp5[1] = (2, 3, 5, 20.7, 5000.0, -5.7)\n",
    "sp5[2] = (2, 3, 6, 20.7, 5000.0, -5.7)"
   ]
  },
  {
   "cell_type": "code",
   "execution_count": 8,
   "id": "fe7e8b16",
   "metadata": {},
   "outputs": [],
   "source": [
    "sp_dict = {0: 0, 1: sp1, 2: 0, 5: sp5}\n",
    "m = flopy.modflow.Modflow(modelname=\"B_test\", model_ws=ws)\n",
    "dis = flopy.modflow.ModflowDis(m, nper=8)\n",
    "riv = flopy.modflow.ModflowRiv(m, stress_period_data=sp_dict)\n",
    "m.write_input()"
   ]
  },
  {
   "cell_type": "markdown",
   "id": "dcae0279",
   "metadata": {},
   "source": [
    "## __Auxiliary_Variables__"
   ]
  },
  {
   "cell_type": "raw",
   "id": "9bbecfb2-6dda-484e-abb7-10afb03e30ad",
   "metadata": {},
   "source": [
    "# create an empty array with an iface auxiliary variable at the end\n",
    "riva_dtype = [\n",
    "    (\"k\", \"<i8\"),\n",
    "    (\"i\", \"<i8\"),\n",
    "    (\"j\", \"<i8\"),\n",
    "    (\"stage\", \"<f4\"),\n",
    "    (\"cond\", \"<f4\"),\n",
    "    (\"rbot\", \"<f4\"),\n",
    "    (\"iface\", \"<i4\"),\n",
    "    (\"boundname\", object),\n",
    "]\n",
    "riva_dtype = np.dtype(riva_dtype)\n",
    "stress_period_data = np.zeros((3), dtype=riva_dtype)\n",
    "stress_period_data = stress_period_data.view(np.recarray)\n",
    "print(\"stress_period_data: \", stress_period_data)\n",
    "print(\"type is: \", type(stress_period_data))\n",
    "\n",
    "stress_period_data[0] = (2, 3, 4, 10.7, 5000.0, -5.7, 1, \"riv1\")\n",
    "stress_period_data[1] = (2, 3, 5, 10.7, 5000.0, -5.7, 2, \"riv2\")\n",
    "stress_period_data[2] = (2, 3, 6, 10.7, 5000.0, -5.7, 3, \"riv3\")\n",
    "\n",
    "m = flopy.modflow.Modflow(modelname=\"test\", model_ws=workspace)\n",
    "riv = flopy.modflow.ModflowRiv(\n",
    "    m,\n",
    "    stress_period_data=stress_period_data,\n",
    "    dtype=riva_dtype,\n",
    "    options=[\"aux iface\"],\n",
    ")\n",
    "m.write_input()"
   ]
  },
  {
   "cell_type": "markdown",
   "id": "f23f94ae",
   "metadata": {},
   "source": [
    "## __Unstructured_Grids__"
   ]
  },
  {
   "cell_type": "code",
   "execution_count": 9,
   "id": "13a9a0ef",
   "metadata": {},
   "outputs": [],
   "source": [
    "rivu_dtype = [(\"nodenumber\", \"<i8\"), (\"stage\", \"<f4\"), (\"cond\", \"<f4\"), (\"rbot\", \"<f4\"),]\n",
    "rivu_dtype = np.dtype(rivu_dtype)\n",
    "stress_period_data = np.zeros((3), dtype=rivu_dtype)\n",
    "stress_period_data = stress_period_data.view(np.recarray)"
   ]
  },
  {
   "cell_type": "code",
   "execution_count": 10,
   "id": "cef3b1ac",
   "metadata": {},
   "outputs": [],
   "source": [
    "stress_period_data[0] = (77, 10.7, 5000.0, -5.7)\n",
    "stress_period_data[1] = (245, 10.7, 5000.0, -5.7)\n",
    "stress_period_data[2] = (450034, 10.7, 5000.0, -5.7)"
   ]
  },
  {
   "cell_type": "code",
   "execution_count": 11,
   "id": "13f85f01",
   "metadata": {},
   "outputs": [],
   "source": [
    "m = flopy.modflow.Modflow(modelname=\"B_test\", model_ws=ws)\n",
    "riv = flopy.modflow.ModflowRiv(m, stress_period_data=stress_period_data, dtype=rivu_dtype)\n",
    "m.write_input()"
   ]
  },
  {
   "cell_type": "markdown",
   "id": "2e75a0f6",
   "metadata": {},
   "source": [
    "## __Combining_02_BC_packages__"
   ]
  },
  {
   "cell_type": "code",
   "execution_count": 15,
   "id": "dbc240e7",
   "metadata": {},
   "outputs": [],
   "source": [
    "ml = flopy.modflow.Modflow(modelname=\"B_test\", model_ws=ws)\n",
    "dis = flopy.modflow.ModflowDis(ml, 10, 10, 10, 10)\n",
    "sp_data1 = {3: [1, 1, 1, 1.0], 5: [1, 2, 4, 4.0]}\n",
    "sp_data2 = {0: [1, 1, 3, 3.0], 8: [9, 2, 4, 4.0]}\n",
    "wel1 = flopy.modflow.ModflowWel(ml, stress_period_data=sp_data1)        # Well 01\n",
    "wel2 = flopy.modflow.ModflowWel(ml, stress_period_data=sp_data2)        # Well 02\n",
    "ml.write_input()"
   ]
  },
  {
   "cell_type": "raw",
   "id": "ac64d66e-b318-48bd-8b8a-c1bf7261387b",
   "metadata": {},
   "source": [
    "ml = flopy.modflow.Modflow(modelname=\"B_test\", model_ws=ws)\n",
    "dis = flopy.modflow.ModflowDis(ml, 10, 10, 10, 10)\n",
    "sp_data1 = {3: [1, 1, 1, 1.0], 5: [1, 2, 4, 4.0]}\n",
    "wel1 = flopy.modflow.ModflowWel(ml, stress_period_data=sp_data1)        # Well 01\n",
    "ml.write_input()"
   ]
  },
  {
   "cell_type": "raw",
   "id": "58d2f8fb-8176-48a8-943e-e691523d52a5",
   "metadata": {},
   "source": [
    "sp_data2 = {0: [1, 1, 3, 3.0], 8: [9, 2, 4, 4.0]}\n",
    "wel2 = flopy.modflow.ModflowWel(ml, stress_period_data=sp_data2)        # Well 02 \n",
    "ml.write_input()"
   ]
  },
  {
   "cell_type": "markdown",
   "id": "a90d52d0",
   "metadata": {},
   "source": [
    "##  ```MfList.append()``` method:"
   ]
  },
  {
   "cell_type": "code",
   "execution_count": 16,
   "id": "9df54953",
   "metadata": {
    "pycharm": {
     "name": "#%%\n"
    }
   },
   "outputs": [],
   "source": [
    "wel3 = flopy.modflow.ModflowWel(ml, stress_period_data=wel2.stress_period_data.append(wel1.stress_period_data),)   # Well 03 \n",
    "ml.write_input()"
   ]
  },
  {
   "cell_type": "code",
   "execution_count": null,
   "id": "105a0e04-9638-44c0-8351-fc9796500d7d",
   "metadata": {},
   "outputs": [],
   "source": []
  }
 ],
 "metadata": {
  "jupytext": {
   "notebook_metadata_filter": "metadata"
  },
  "kernelspec": {
   "display_name": "Python 3 (ipykernel)",
   "language": "python",
   "name": "python3"
  },
  "language_info": {
   "codemirror_mode": {
    "name": "ipython",
    "version": 3
   },
   "file_extension": ".py",
   "mimetype": "text/x-python",
   "name": "python",
   "nbconvert_exporter": "python",
   "pygments_lexer": "ipython3",
   "version": "3.11.11"
  },
  "metadata": {
   "section": "mf2005"
  }
 },
 "nbformat": 4,
 "nbformat_minor": 5
}
