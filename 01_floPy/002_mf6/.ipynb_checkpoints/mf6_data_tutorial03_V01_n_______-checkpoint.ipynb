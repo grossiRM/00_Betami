{
 "cells": [
  {
   "cell_type": "code",
   "execution_count": 1,
   "id": "8d5b85b1-966d-4e12-a9bf-d8a76c78cf81",
   "metadata": {},
   "outputs": [],
   "source": [
    "from pathlib import Path ; from shutil import copytree  ; from tempfile import TemporaryDirectory ; import pandas as pd\n",
    "import numpy as np ;  import flopy ;  import os ; import pathlib ; import numpy as np; import matplotlib.pyplot as plt"
   ]
  },
  {
   "cell_type": "code",
   "execution_count": 2,
   "id": "3782ba1b-831b-4d04-a097-5f3a27944cd4",
   "metadata": {},
   "outputs": [
    {
     "name": "stdout",
     "output_type": "stream",
     "text": [
      "E:\\15_REPOS\\00_BETAMI\\01_floPy\\002_mf6\n"
     ]
    }
   ],
   "source": [
    "name = \"tutorial03_mf6_data\"                  # sim_name\n",
    "exe_name = 'E:\\\\15_REPOS\\\\00_BETAMI\\\\bin\\\\mf6'\n",
    "current_directory = os.getcwd();  print(current_directory)"
   ]
  },
  {
   "cell_type": "code",
   "execution_count": 3,
   "id": "456b7bb3-2e79-4fdd-99ea-f0676dc142e2",
   "metadata": {},
   "outputs": [],
   "source": [
    "path = pathlib.Path('E:\\\\15_REPOS\\\\00_BETAMI\\\\01_floPy\\\\002_mf6')\n",
    "path.mkdir(parents=True, exist_ok=True); os.chdir(path); current_directory = os.getcwd()\n",
    "directory_name = 'A2_v01'    ; workspace = os.path.join('.', directory_name)                         # sim_ws\n",
    "if os.path.isdir(workspace) is False:\n",
    "    os.mkdir(workspace) \n",
    "output_folder = Path('A2_v01') ; output_folder.mkdir(exist_ok=True)     "
   ]
  },
  {
   "cell_type": "code",
   "execution_count": 4,
   "id": "20f4dfe0",
   "metadata": {},
   "outputs": [
    {
     "name": "stderr",
     "output_type": "stream",
     "text": [
      "C:\\Users\\gross.DESKTOP-AIRQM2M\\anaconda3\\Lib\\site-packages\\executing\\executing.py:713: DeprecationWarning: ast.Str is deprecated and will be removed in Python 3.14; use ast.Constant instead\n",
      "  right=ast.Str(s=sentinel),\n",
      "C:\\Users\\gross.DESKTOP-AIRQM2M\\anaconda3\\Lib\\site-packages\\executing\\executing.py:713: DeprecationWarning: ast.Str is deprecated and will be removed in Python 3.14; use ast.Constant instead\n",
      "  right=ast.Str(s=sentinel),\n",
      "C:\\Users\\gross.DESKTOP-AIRQM2M\\anaconda3\\Lib\\ast.py:587: DeprecationWarning: Attribute s is deprecated and will be removed in Python 3.14; use value instead\n",
      "  return Constant(*args, **kwargs)\n",
      "C:\\Users\\gross.DESKTOP-AIRQM2M\\anaconda3\\Lib\\site-packages\\executing\\executing.py:713: DeprecationWarning: ast.Str is deprecated and will be removed in Python 3.14; use ast.Constant instead\n",
      "  right=ast.Str(s=sentinel),\n",
      "C:\\Users\\gross.DESKTOP-AIRQM2M\\anaconda3\\Lib\\ast.py:587: DeprecationWarning: Attribute s is deprecated and will be removed in Python 3.14; use value instead\n",
      "  return Constant(*args, **kwargs)\n",
      "C:\\Users\\gross.DESKTOP-AIRQM2M\\anaconda3\\Lib\\site-packages\\executing\\executing.py:713: DeprecationWarning: ast.Str is deprecated and will be removed in Python 3.14; use ast.Constant instead\n",
      "  right=ast.Str(s=sentinel),\n",
      "C:\\Users\\gross.DESKTOP-AIRQM2M\\anaconda3\\Lib\\ast.py:587: DeprecationWarning: Attribute s is deprecated and will be removed in Python 3.14; use value instead\n",
      "  return Constant(*args, **kwargs)\n",
      "C:\\Users\\gross.DESKTOP-AIRQM2M\\anaconda3\\Lib\\site-packages\\executing\\executing.py:713: DeprecationWarning: ast.Str is deprecated and will be removed in Python 3.14; use ast.Constant instead\n",
      "  right=ast.Str(s=sentinel),\n",
      "C:\\Users\\gross.DESKTOP-AIRQM2M\\anaconda3\\Lib\\ast.py:587: DeprecationWarning: Attribute s is deprecated and will be removed in Python 3.14; use value instead\n",
      "  return Constant(*args, **kwargs)\n",
      "C:\\Users\\gross.DESKTOP-AIRQM2M\\anaconda3\\Lib\\site-packages\\executing\\executing.py:713: DeprecationWarning: ast.Str is deprecated and will be removed in Python 3.14; use ast.Constant instead\n",
      "  right=ast.Str(s=sentinel),\n",
      "C:\\Users\\gross.DESKTOP-AIRQM2M\\anaconda3\\Lib\\ast.py:587: DeprecationWarning: Attribute s is deprecated and will be removed in Python 3.14; use value instead\n",
      "  return Constant(*args, **kwargs)\n",
      "C:\\Users\\gross.DESKTOP-AIRQM2M\\anaconda3\\Lib\\site-packages\\executing\\executing.py:713: DeprecationWarning: ast.Str is deprecated and will be removed in Python 3.14; use ast.Constant instead\n",
      "  right=ast.Str(s=sentinel),\n",
      "C:\\Users\\gross.DESKTOP-AIRQM2M\\anaconda3\\Lib\\ast.py:587: DeprecationWarning: Attribute s is deprecated and will be removed in Python 3.14; use value instead\n",
      "  return Constant(*args, **kwargs)\n",
      "C:\\Users\\gross.DESKTOP-AIRQM2M\\anaconda3\\Lib\\site-packages\\executing\\executing.py:713: DeprecationWarning: ast.Str is deprecated and will be removed in Python 3.14; use ast.Constant instead\n",
      "  right=ast.Str(s=sentinel),\n",
      "C:\\Users\\gross.DESKTOP-AIRQM2M\\anaconda3\\Lib\\ast.py:587: DeprecationWarning: Attribute s is deprecated and will be removed in Python 3.14; use value instead\n",
      "  return Constant(*args, **kwargs)\n",
      "C:\\Users\\gross.DESKTOP-AIRQM2M\\anaconda3\\Lib\\site-packages\\executing\\executing.py:713: DeprecationWarning: ast.Str is deprecated and will be removed in Python 3.14; use ast.Constant instead\n",
      "  right=ast.Str(s=sentinel),\n",
      "C:\\Users\\gross.DESKTOP-AIRQM2M\\anaconda3\\Lib\\ast.py:587: DeprecationWarning: Attribute s is deprecated and will be removed in Python 3.14; use value instead\n",
      "  return Constant(*args, **kwargs)\n"
     ]
    },
    {
     "ename": "ValueError",
     "evalue": "Package index 0 does not exist.",
     "output_type": "error",
     "traceback": [
      "\u001b[1;31m---------------------------------------------------------------------------\u001b[0m",
      "\u001b[1;31mValueError\u001b[0m                                Traceback (most recent call last)",
      "Cell \u001b[1;32mIn[4], line 28\u001b[0m\n\u001b[0;32m     24\u001b[0m ghb \u001b[38;5;241m=\u001b[39m flopy\u001b[38;5;241m.\u001b[39mmf6\u001b[38;5;241m.\u001b[39mmodflow\u001b[38;5;241m.\u001b[39mmfgwfghb\u001b[38;5;241m.\u001b[39mModflowGwfghb(gwf,print_input\u001b[38;5;241m=\u001b[39m\u001b[38;5;28;01mTrue\u001b[39;00m,print_flows\u001b[38;5;241m=\u001b[39m\u001b[38;5;28;01mTrue\u001b[39;00m,save_flows\u001b[38;5;241m=\u001b[39m\u001b[38;5;28;01mTrue\u001b[39;00m,\n\u001b[0;32m     25\u001b[0m                                                boundnames\u001b[38;5;241m=\u001b[39m\u001b[38;5;28;01mTrue\u001b[39;00m,pname\u001b[38;5;241m=\u001b[39m\u001b[38;5;124m\"\u001b[39m\u001b[38;5;124mghb\u001b[39m\u001b[38;5;124m\"\u001b[39m,maxbound\u001b[38;5;241m=\u001b[39m\u001b[38;5;241m30\u001b[39m, stress_period_data \u001b[38;5;241m=\u001b[39m ghb_spd_ts)\n\u001b[0;32m     26\u001b[0m \u001b[38;5;66;03m#ghb.ts.time_series_namerecord = \"tides\"\u001b[39;00m\n\u001b[1;32m---> 28\u001b[0m \u001b[38;5;28mprint\u001b[39m(\u001b[38;5;124m\"\u001b[39m\u001b[38;5;132;01m{}\u001b[39;00m\u001b[38;5;124m is using \u001b[39m\u001b[38;5;132;01m{}\u001b[39;00m\u001b[38;5;124m interpolation\u001b[39m\u001b[38;5;124m\"\u001b[39m\u001b[38;5;241m.\u001b[39mformat(ghb\u001b[38;5;241m.\u001b[39mts[\u001b[38;5;241m0\u001b[39m]\u001b[38;5;241m.\u001b[39mfilename, ghb\u001b[38;5;241m.\u001b[39mts[\u001b[38;5;241m0\u001b[39m]\u001b[38;5;241m.\u001b[39minterpolation_methodrecord\u001b[38;5;241m.\u001b[39mget_data()[\u001b[38;5;241m0\u001b[39m][\u001b[38;5;241m0\u001b[39m]))\n\u001b[0;32m     29\u001b[0m \u001b[38;5;28mprint\u001b[39m(\u001b[38;5;124m\"\u001b[39m\u001b[38;5;132;01m{}\u001b[39;00m\u001b[38;5;124m is using \u001b[39m\u001b[38;5;132;01m{}\u001b[39;00m\u001b[38;5;124m interpolation\u001b[39m\u001b[38;5;124m\"\u001b[39m\u001b[38;5;241m.\u001b[39mformat(ghb\u001b[38;5;241m.\u001b[39mts[\u001b[38;5;241m1\u001b[39m]\u001b[38;5;241m.\u001b[39mfilename, ghb\u001b[38;5;241m.\u001b[39mts[\u001b[38;5;241m1\u001b[39m]\u001b[38;5;241m.\u001b[39minterpolation_methodrecord\u001b[38;5;241m.\u001b[39mget_data()[\u001b[38;5;241m0\u001b[39m][\u001b[38;5;241m0\u001b[39m]))\n\u001b[0;32m     30\u001b[0m \u001b[38;5;28mprint\u001b[39m(\u001b[38;5;124m\"\u001b[39m\u001b[38;5;132;01m{}\u001b[39;00m\u001b[38;5;124m is using \u001b[39m\u001b[38;5;132;01m{}\u001b[39;00m\u001b[38;5;124m interpolation\u001b[39m\u001b[38;5;124m\"\u001b[39m\u001b[38;5;241m.\u001b[39mformat(ghb\u001b[38;5;241m.\u001b[39mts[\u001b[38;5;241m2\u001b[39m]\u001b[38;5;241m.\u001b[39mfilename, ghb\u001b[38;5;241m.\u001b[39mts[\u001b[38;5;241m2\u001b[39m]\u001b[38;5;241m.\u001b[39minterpolation_methodrecord\u001b[38;5;241m.\u001b[39mget_data()[\u001b[38;5;241m0\u001b[39m][\u001b[38;5;241m0\u001b[39m]))\n",
      "File \u001b[1;32m~\\anaconda3\\Lib\\site-packages\\flopy\\mf6\\mfpackage.py:3469\u001b[0m, in \u001b[0;36mMFChildPackages.__getitem__\u001b[1;34m(self, k)\u001b[0m\n\u001b[0;32m   3467\u001b[0m     \u001b[38;5;28;01mif\u001b[39;00m k \u001b[38;5;241m<\u001b[39m \u001b[38;5;28mlen\u001b[39m(\u001b[38;5;28mself\u001b[39m\u001b[38;5;241m.\u001b[39m_packages):\n\u001b[0;32m   3468\u001b[0m         \u001b[38;5;28;01mreturn\u001b[39;00m \u001b[38;5;28mself\u001b[39m\u001b[38;5;241m.\u001b[39m_packages[k]\n\u001b[1;32m-> 3469\u001b[0m \u001b[38;5;28;01mraise\u001b[39;00m \u001b[38;5;167;01mValueError\u001b[39;00m(\u001b[38;5;124mf\u001b[39m\u001b[38;5;124m\"\u001b[39m\u001b[38;5;124mPackage index \u001b[39m\u001b[38;5;132;01m{\u001b[39;00mk\u001b[38;5;132;01m}\u001b[39;00m\u001b[38;5;124m does not exist.\u001b[39m\u001b[38;5;124m\"\u001b[39m)\n",
      "\u001b[1;31mValueError\u001b[0m: Package index 0 does not exist."
     ]
    }
   ],
   "source": [
    "sim = flopy.mf6.MFSimulation(sim_name=name, sim_ws=workspace, exe_name=\"mf6\", version=\"mf6\")\n",
    "tdis_rc = [(1.0, 1, 1.0), (10.0, 5, 1.0), (10.0, 5, 1.0), (10.0, 1, 1.0)]\n",
    "\n",
    "tdis_package   = flopy.mf6.modflow.mftdis.ModflowTdis(sim, time_units=\"DAYS\", nper=4, perioddata=tdis_rc)\n",
    "model_nam_file = f\"{name}.nam\"\n",
    "gwf = flopy.mf6.ModflowGwf                     (sim, modelname=name, model_nam_file = model_nam_file)\n",
    "ims = flopy.mf6.modflow.mfims.ModflowIms       (sim, pname=\"ims\", complexity=\"SIMPLE\")      ; bot= np.linspace(-3 ,-50/3 ,3)  ; delrow = delcol = 4.0\n",
    "dis = flopy.mf6.modflow.mfgwfdis.ModflowGwfdis (gwf, pname=\"dis\",nogrb=True,nlay=3,nrow=101,ncol=101,delr=delrow,delc=delcol  , top=0.0, botm=bot)\n",
    "ic_package = flopy.mf6.modflow.mfgwfic.ModflowGwfic    (gwf, strt=50.0)\n",
    "npf_package = flopy.mf6.modflow.mfgwfnpf.ModflowGwfnpf (gwf,save_flows=True,icelltype=[1, 0, 0], k=[5.0, 0.1, 4.0], k33=[0.5, 0.005, 0.1])\n",
    "\n",
    "ghb_spd_ts = {}\n",
    "ghb_period = []\n",
    "for layer, cond in zip(range(1, 3), [15.0, 1500.0]):\n",
    "    for row in range(0, 15):\n",
    "        ghb_period.append(((layer, row, 9), \"tides\", cond, \"Estuary-L2\"))\n",
    "ghb_spd_ts[0] = ghb_period\n",
    "\n",
    "ts_data = []\n",
    "for n in range(0, 365):\n",
    "    time = float(n / 11.73)  ; val = float(n / 60.0)  ; ts_data.append((time, val))\n",
    "ts_dict = {\"filename\": \"tides.ts\",\"time_series_Namerec\": \"tide\",\"ts\": ts_data,\"interpolation_methodrecord\": \"linearend\",\"sfacrecord\": 1.1}\n",
    "\n",
    "ghb = flopy.mf6.modflow.mfgwfghb.ModflowGwfghb(gwf,print_input=True,print_flows=True,save_flows=True,\n",
    "                                               boundnames=True,pname=\"ghb\",maxbound=30, stress_period_data = ghb_spd_ts)\n",
    "#ghb.ts.time_series_namerecord = \"tides\"\n",
    "\n",
    "print(\"{} is using {} interpolation\".format(ghb.ts[0].filename, ghb.ts[0].interpolation_methodrecord.get_data()[0][0]))\n",
    "print(\"{} is using {} interpolation\".format(ghb.ts[1].filename, ghb.ts[1].interpolation_methodrecord.get_data()[0][0]))\n",
    "print(\"{} is using {} interpolation\".format(ghb.ts[2].filename, ghb.ts[2].interpolation_methodrecord.get_data()[0][0]))\n",
    "\n",
    "sim.write_simulation()"
   ]
  },
  {
   "cell_type": "code",
   "execution_count": null,
   "id": "724c05c6-dc06-4054-93cc-23993e18fe3f",
   "metadata": {},
   "outputs": [],
   "source": []
  },
  {
   "cell_type": "code",
   "execution_count": null,
   "id": "19182e94-e1f0-4e24-8846-b4643c892e39",
   "metadata": {},
   "outputs": [],
   "source": []
  }
 ],
 "metadata": {
  "jupytext": {
   "cell_metadata_filter": "-all"
  },
  "kernelspec": {
   "display_name": "Python 3 (ipykernel)",
   "language": "python",
   "name": "python3"
  },
  "language_info": {
   "codemirror_mode": {
    "name": "ipython",
    "version": 3
   },
   "file_extension": ".py",
   "mimetype": "text/x-python",
   "name": "python",
   "nbconvert_exporter": "python",
   "pygments_lexer": "ipython3",
   "version": "3.12.7"
  }
 },
 "nbformat": 4,
 "nbformat_minor": 5
}
