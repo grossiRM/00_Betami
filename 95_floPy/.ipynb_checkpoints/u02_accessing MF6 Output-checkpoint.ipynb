{
 "cells": [
  {
   "cell_type": "markdown",
   "metadata": {},
   "source": [
    "**Accessing MODFLOW 6 Output**"
   ]
  },
  {
   "cell_type": "code",
   "execution_count": 1,
   "metadata": {},
   "outputs": [],
   "source": [
    "import os ; import numpy as np ; import flopy ; from pathlib import Path "
   ]
  },
  {
   "cell_type": "code",
   "execution_count": 10,
   "metadata": {},
   "outputs": [],
   "source": [
    "sim_origin = 'E:\\\\15_REPOS\\\\00_BETAMI\\\\bin\\\\\\\\Flopy_data\\\\test001e_UZF_3lay'    #   ; fpath=os.path.join(path,\"test001e_UZF_3lay.***\") \n",
    "sim_ws = Path(\"./06_Output\")   ; sim_ws.mkdir(exist_ok=True) ; sim_name = 'test001e_UZF_3lay' ; exe_name = \"mf6\" ; sim2 = \"gwf_1\""
   ]
  },
  {
   "cell_type": "code",
   "execution_count": 11,
   "metadata": {},
   "outputs": [
    {
     "data": {
      "text/plain": [
       "(True, [])"
      ]
     },
     "execution_count": 11,
     "metadata": {},
     "output_type": "execute_result"
    }
   ],
   "source": [
    "sim = flopy.mf6.MFSimulation.load(sim_ws=sim_origin, exe_name=exe_name, verbosity_level=0)\n",
    "sim.set_sim_path(sim_ws) ; sim.write_simulation(silent=True) ; sim.run_simulation(silent=True) "
   ]
  },
  {
   "cell_type": "code",
   "execution_count": 12,
   "metadata": {},
   "outputs": [
    {
     "name": "stdout",
     "output_type": "stream",
     "text": [
      "(1, 1, 124)\n",
      "(1, 1, 124)\n"
     ]
    }
   ],
   "source": [
    "ml = sim.get_model(sim2) ; bud = ml.output.budget()    ; bud2 = bud.get_data(idx=0, full3D=True) ; print(bud2[0].shape)\n",
    "ml = sim.get_model(sim2) ; bud = ml.oc.output.budget() ; bud3 = bud.get_data(idx=0, full3D=True) ; print(bud3[0].shape)\n",
    "hds = ml.output.head()    ; hds.get_data(); \n",
    "hds = ml.oc.output.head() ; hds.get_data();"
   ]
  },
  {
   "cell_type": "code",
   "execution_count": 13,
   "metadata": {},
   "outputs": [],
   "source": [
    "budcsv = ml.output.budgetcsv()  ; budcsv.data ; "
   ]
  },
  {
   "cell_type": "code",
   "execution_count": 14,
   "metadata": {},
   "outputs": [],
   "source": [
    "hds = ml.output.head() ; hds.get_data() ; "
   ]
  },
  {
   "cell_type": "code",
   "execution_count": 18,
   "metadata": {},
   "outputs": [],
   "source": [
    "uzf = ml.uzf ; uzf_bud = uzf.output.budget() ; uzf_bud.get_data(idx=0)  ; \n",
    "uzf_budcsv = uzf.output.budgetcsv()  ; uzf_budcsv.data  ; "
   ]
  },
  {
   "cell_type": "code",
   "execution_count": 20,
   "metadata": {},
   "outputs": [
    {
     "data": {
      "text/plain": [
       "rec.array([( 2., 0.05, 0.05, 0.), ( 4., 0.05, 0.05, 0.),\n",
       "           ( 6., 0.05, 0.05, 0.), ( 8., 0.05, 0.05, 0.),\n",
       "           (10., 0.05, 0.05, 0.), (12., 0.05, 0.05, 0.),\n",
       "           (14., 0.05, 0.05, 0.), (16., 0.05, 0.05, 0.),\n",
       "           (18., 0.05, 0.05, 0.), (20., 0.05, 0.05, 0.)],\n",
       "          dtype=[('totim', '<f8'), ('ID3_DPTH=8.0', '<f8'), ('ID3_DPTH=24.0', '<f8'), ('ID3_RCH', '<f8')])"
      ]
     },
     "execution_count": 20,
     "metadata": {},
     "output_type": "execute_result"
    }
   ],
   "source": [
    "uzf_conv = uzf.output.package_convergence()\n",
    "if uzf_conv is not None:\n",
    "    uzf_conv.data[0:10]\n",
    "uzf_obs = uzf.output.obs()\n",
    "uzf_obs.data[0:10]"
   ]
  },
  {
   "cell_type": "code",
   "execution_count": 21,
   "metadata": {},
   "outputs": [
    {
     "name": "stdout",
     "output_type": "stream",
     "text": [
      "UZF package:  ['zonebudget()', 'budget()', 'budgetcsv()', 'package_convergence()', 'obs()']\n",
      "Model object:  ['list()', 'zonebudget()', 'budget()', 'budgetcsv()', 'head()']\n",
      "OC package:  ['list()', 'zonebudget()', 'budget()', 'budgetcsv()', 'head()']\n",
      "DIS package:  None\n"
     ]
    }
   ],
   "source": [
    "print(\"UZF package: \", uzf.output.methods())\n",
    "print(\"Model object: \", ml.output.methods())\n",
    "print(\"OC package: \", ml.oc.output.methods())\n",
    "print(\"DIS package: \", ml.dis.output.methods())"
   ]
  },
  {
   "cell_type": "code",
   "execution_count": 24,
   "metadata": {},
   "outputs": [
    {
     "data": {
      "text/plain": [
       "rec.array([( 2., 0.05, 0.05, 0.), ( 4., 0.05, 0.05, 0.),\n",
       "           ( 6., 0.05, 0.05, 0.), ( 8., 0.05, 0.05, 0.),\n",
       "           (10., 0.05, 0.05, 0.), (12., 0.05, 0.05, 0.),\n",
       "           (14., 0.05, 0.05, 0.), (16., 0.05, 0.05, 0.),\n",
       "           (18., 0.05, 0.05, 0.), (20., 0.05, 0.05, 0.)],\n",
       "          dtype=[('totim', '<f8'), ('ID3_DPTH=8.0', '<f8'), ('ID3_DPTH=24.0', '<f8'), ('ID3_RCH', '<f8')])"
      ]
     },
     "execution_count": 24,
     "metadata": {},
     "output_type": "execute_result"
    }
   ],
   "source": [
    "output = ml.obs[0].output  ; obs_names = output.obs_names  ; output.obs(f=obs_names[0]).data[0:10]"
   ]
  },
  {
   "cell_type": "code",
   "execution_count": 26,
   "metadata": {},
   "outputs": [
    {
     "name": "stdout",
     "output_type": "stream",
     "text": [
      "FloPy is using the following executable to run the model: C:\\Users\\gross.DESKTOP-AIRQM2M\\anaconda3\\Scripts\\zbud6.exe\n",
      "                              ZONEBUDGET Version 6\n",
      "                             U.S. GEOLOGICAL SURVEY\n",
      "                            VERSION 6.6.1 02/10/2025\n",
      "...........................................................................................\n",
      " \n",
      "Normal Termination\n"
     ]
    },
    {
     "data": {
      "text/plain": [
       "(True, [])"
      ]
     },
     "execution_count": 26,
     "metadata": {},
     "output_type": "execute_result"
    }
   ],
   "source": [
    "zarr = np.ones(ml.modelgrid.shape, dtype=int)\n",
    "for i in range(1, 4): zarr[i - 1] *= i\n",
    "zonbud = ml.output.zonebudget(zarr) ; zonbud.change_model_ws(sim_ws) ; zonbud.write_input() ; zonbud.run_model()"
   ]
  },
  {
   "cell_type": "code",
   "execution_count": 28,
   "metadata": {},
   "outputs": [
    {
     "data": {
      "text/html": [
       "<div>\n",
       "<style scoped>\n",
       "    .dataframe tbody tr th:only-of-type {\n",
       "        vertical-align: middle;\n",
       "    }\n",
       "\n",
       "    .dataframe tbody tr th {\n",
       "        vertical-align: top;\n",
       "    }\n",
       "\n",
       "    .dataframe thead th {\n",
       "        text-align: right;\n",
       "    }\n",
       "</style>\n",
       "<table border=\"1\" class=\"dataframe\">\n",
       "  <thead>\n",
       "    <tr style=\"text-align: right;\">\n",
       "      <th></th>\n",
       "      <th>totim</th>\n",
       "      <th>name</th>\n",
       "      <th>ZONE_1</th>\n",
       "      <th>ZONE_2</th>\n",
       "      <th>ZONE_3</th>\n",
       "    </tr>\n",
       "  </thead>\n",
       "  <tbody>\n",
       "    <tr>\n",
       "      <th>0</th>\n",
       "      <td>2.0</td>\n",
       "      <td>ZONE_0</td>\n",
       "      <td>0.0</td>\n",
       "      <td>0.000000e+00</td>\n",
       "      <td>0.000000e+00</td>\n",
       "    </tr>\n",
       "    <tr>\n",
       "      <th>1</th>\n",
       "      <td>2.0</td>\n",
       "      <td>ZONE_1</td>\n",
       "      <td>0.0</td>\n",
       "      <td>0.000000e+00</td>\n",
       "      <td>0.000000e+00</td>\n",
       "    </tr>\n",
       "    <tr>\n",
       "      <th>2</th>\n",
       "      <td>2.0</td>\n",
       "      <td>ZONE_2</td>\n",
       "      <td>0.0</td>\n",
       "      <td>0.000000e+00</td>\n",
       "      <td>0.000000e+00</td>\n",
       "    </tr>\n",
       "    <tr>\n",
       "      <th>3</th>\n",
       "      <td>2.0</td>\n",
       "      <td>ZONE_3</td>\n",
       "      <td>0.0</td>\n",
       "      <td>0.000000e+00</td>\n",
       "      <td>0.000000e+00</td>\n",
       "    </tr>\n",
       "    <tr>\n",
       "      <th>4</th>\n",
       "      <td>4.0</td>\n",
       "      <td>ZONE_0</td>\n",
       "      <td>0.0</td>\n",
       "      <td>0.000000e+00</td>\n",
       "      <td>0.000000e+00</td>\n",
       "    </tr>\n",
       "    <tr>\n",
       "      <th>...</th>\n",
       "      <td>...</td>\n",
       "      <td>...</td>\n",
       "      <td>...</td>\n",
       "      <td>...</td>\n",
       "      <td>...</td>\n",
       "    </tr>\n",
       "    <tr>\n",
       "      <th>355</th>\n",
       "      <td>2520.0</td>\n",
       "      <td>ZONE_3</td>\n",
       "      <td>0.0</td>\n",
       "      <td>0.000000e+00</td>\n",
       "      <td>0.000000e+00</td>\n",
       "    </tr>\n",
       "    <tr>\n",
       "      <th>356</th>\n",
       "      <td>2560.0</td>\n",
       "      <td>ZONE_0</td>\n",
       "      <td>0.0</td>\n",
       "      <td>0.000000e+00</td>\n",
       "      <td>0.000000e+00</td>\n",
       "    </tr>\n",
       "    <tr>\n",
       "      <th>357</th>\n",
       "      <td>2560.0</td>\n",
       "      <td>ZONE_1</td>\n",
       "      <td>0.0</td>\n",
       "      <td>0.000000e+00</td>\n",
       "      <td>0.000000e+00</td>\n",
       "    </tr>\n",
       "    <tr>\n",
       "      <th>358</th>\n",
       "      <td>2560.0</td>\n",
       "      <td>ZONE_2</td>\n",
       "      <td>0.0</td>\n",
       "      <td>0.000000e+00</td>\n",
       "      <td>-5.684342e-10</td>\n",
       "    </tr>\n",
       "    <tr>\n",
       "      <th>359</th>\n",
       "      <td>2560.0</td>\n",
       "      <td>ZONE_3</td>\n",
       "      <td>0.0</td>\n",
       "      <td>5.684342e-10</td>\n",
       "      <td>0.000000e+00</td>\n",
       "    </tr>\n",
       "  </tbody>\n",
       "</table>\n",
       "<p>360 rows × 5 columns</p>\n",
       "</div>"
      ],
      "text/plain": [
       "      totim    name  ZONE_1        ZONE_2        ZONE_3\n",
       "0       2.0  ZONE_0     0.0  0.000000e+00  0.000000e+00\n",
       "1       2.0  ZONE_1     0.0  0.000000e+00  0.000000e+00\n",
       "2       2.0  ZONE_2     0.0  0.000000e+00  0.000000e+00\n",
       "3       2.0  ZONE_3     0.0  0.000000e+00  0.000000e+00\n",
       "4       4.0  ZONE_0     0.0  0.000000e+00  0.000000e+00\n",
       "..      ...     ...     ...           ...           ...\n",
       "355  2520.0  ZONE_3     0.0  0.000000e+00  0.000000e+00\n",
       "356  2560.0  ZONE_0     0.0  0.000000e+00  0.000000e+00\n",
       "357  2560.0  ZONE_1     0.0  0.000000e+00  0.000000e+00\n",
       "358  2560.0  ZONE_2     0.0  0.000000e+00 -5.684342e-10\n",
       "359  2560.0  ZONE_3     0.0  5.684342e-10  0.000000e+00\n",
       "\n",
       "[360 rows x 5 columns]"
      ]
     },
     "execution_count": 28,
     "metadata": {},
     "output_type": "execute_result"
    }
   ],
   "source": [
    "df = zonbud.get_dataframes(net=True)  ; df = df.reset_index()  ; df"
   ]
  },
  {
   "cell_type": "code",
   "execution_count": null,
   "metadata": {},
   "outputs": [],
   "source": []
  }
 ],
 "metadata": {
  "kernelspec": {
   "display_name": "Python 3 (ipykernel)",
   "language": "python",
   "name": "python3"
  },
  "language_info": {
   "codemirror_mode": {
    "name": "ipython",
    "version": 3
   },
   "file_extension": ".py",
   "mimetype": "text/x-python",
   "name": "python",
   "nbconvert_exporter": "python",
   "pygments_lexer": "ipython3",
   "version": "3.12.7"
  }
 },
 "nbformat": 4,
 "nbformat_minor": 4
}
