{
 "cells": [
  {
   "cell_type": "markdown",
   "id": "765a341d",
   "metadata": {},
   "source": [
    "**MF6 Parallel**  ... Mf6Splitter"
   ]
  },
  {
   "cell_type": "code",
   "execution_count": 7,
   "id": "6ae908ce",
   "metadata": {
    "execution": {
     "iopub.execute_input": "2025-06-13T11:54:49.764876Z",
     "iopub.status.busy": "2025-06-13T11:54:49.764532Z",
     "iopub.status.idle": "2025-06-13T11:54:49.769560Z",
     "shell.execute_reply": "2025-06-13T11:54:49.768985Z",
     "shell.execute_reply.started": "2025-06-13T11:54:49.764854Z"
    }
   },
   "outputs": [],
   "source": [
    "import os; import sys; import flopy ; import matplotlib.pyplot as plt ; import numpy as np\n",
    "from flopy.mf6.utils import Mf6Splitter ; from flopy.plot import styles ; from flopy.utils.geometry import LineString, Polygon\n",
    "from pathlib import Path ; sim_ws = Path(\"./08p_RES\") ; sim_ws.mkdir(exist_ok=True)  #; ref_data  = Path(\"./01_RES\")"
   ]
  },
  {
   "cell_type": "code",
   "execution_count": null,
   "id": "3bdee03e-35c9-47d1-aad6-e80719ebb756",
   "metadata": {
    "execution": {
     "iopub.execute_input": "2025-06-13T11:50:49.452584Z",
     "iopub.status.busy": "2025-06-13T11:50:49.452236Z",
     "iopub.status.idle": "2025-06-13T11:50:49.484061Z",
     "shell.execute_reply": "2025-06-13T11:50:49.483215Z",
     "shell.execute_reply.started": "2025-06-13T11:50:49.452561Z"
    }
   },
   "outputs": [],
   "source": [
    "#sys.path.append(\"../common\")\n",
    "from notebook_utils import geometries, string2geom"
   ]
  },
  {
   "cell_type": "code",
   "execution_count": 6,
   "id": "44aa2ebe",
   "metadata": {
    "collapsed": true,
    "execution": {
     "iopub.execute_input": "2025-06-13T11:52:38.864131Z",
     "iopub.status.busy": "2025-06-13T11:52:38.863804Z",
     "iopub.status.idle": "2025-06-13T11:52:39.046371Z",
     "shell.execute_reply": "2025-06-13T11:52:39.045805Z",
     "shell.execute_reply.started": "2025-06-13T11:52:38.864110Z"
    },
    "jupyter": {
     "outputs_hidden": true
    }
   },
   "outputs": [
    {
     "name": "stdout",
     "output_type": "stream",
     "text": [
      "loading simulation...\n",
      "  loading simulation name file...\n",
      "  loading tdis package...\n",
      "  loading model gwf6...\n",
      "    loading package dis...\n",
      "    loading package ic...\n",
      "    loading package oc...\n",
      "    loading package npf...\n",
      "    loading package sto...\n",
      "    loading package chd...\n",
      "    loading package riv...\n",
      "    loading package wel...\n",
      "    loading package rch...\n",
      "  loading solution package freyberg...\n"
     ]
    }
   ],
   "source": [
    "simulation_ws = Path(\"E:\\\\15_REPOS\\\\00_BETAMI\\\\bin\\\\Flopy_data\\\\mf6-freyberg\")\n",
    "sim = flopy.mf6.MFSimulation.load(sim_ws=simulation_ws)"
   ]
  },
  {
   "cell_type": "code",
   "execution_count": 10,
   "id": "6d70e974",
   "metadata": {
    "collapsed": true,
    "execution": {
     "iopub.execute_input": "2025-06-13T11:55:44.009922Z",
     "iopub.status.busy": "2025-06-13T11:55:44.009590Z",
     "iopub.status.idle": "2025-06-13T11:55:44.075949Z",
     "shell.execute_reply": "2025-06-13T11:55:44.075483Z",
     "shell.execute_reply.started": "2025-06-13T11:55:44.009900Z"
    },
    "jupyter": {
     "outputs_hidden": true
    }
   },
   "outputs": [
    {
     "name": "stdout",
     "output_type": "stream",
     "text": [
      "writing simulation...\n",
      "  writing simulation name file...\n",
      "  writing simulation tdis package...\n",
      "  writing solution package freyberg...\n",
      "  writing model freyberg...\n",
      "    writing model name file...\n",
      "    writing package dis...\n",
      "    writing package ic...\n",
      "    writing package oc...\n",
      "    writing package npf...\n",
      "    writing package sto...\n",
      "    writing package chd-1...\n",
      "    writing package riv-1...\n",
      "    writing package wel-1...\n",
      "    writing package rch-1...\n"
     ]
    }
   ],
   "source": [
    "sim.set_sim_path(sim_ws) ; sim.write_simulation() "
   ]
  },
  {
   "cell_type": "code",
   "execution_count": 11,
   "id": "37d72b3f",
   "metadata": {
    "execution": {
     "iopub.execute_input": "2025-06-13T12:53:51.097930Z",
     "iopub.status.busy": "2025-06-13T12:53:51.097581Z",
     "iopub.status.idle": "2025-06-13T12:53:51.110940Z",
     "shell.execute_reply": "2025-06-13T12:53:51.110413Z",
     "shell.execute_reply.started": "2025-06-13T12:53:51.097908Z"
    }
   },
   "outputs": [],
   "source": [
    "gwf = sim.get_model()  ; head = gwf.output.head().get_alldata()[-1]"
   ]
  },
  {
   "cell_type": "code",
   "execution_count": 24,
   "id": "b42a13ca",
   "metadata": {
    "execution": {
     "iopub.execute_input": "2025-06-13T13:00:31.025599Z",
     "iopub.status.busy": "2025-06-13T13:00:31.025246Z",
     "iopub.status.idle": "2025-06-13T13:00:31.029888Z",
     "shell.execute_reply": "2025-06-13T13:00:31.029314Z",
     "shell.execute_reply.started": "2025-06-13T13:00:31.025578Z"
    }
   },
   "outputs": [],
   "source": [
    "modelgrid = gwf.modelgrid ; array = np.ones((modelgrid.nrow, modelgrid.ncol), dtype=int) ; ncol = 1\n",
    "for row in range(modelgrid.nrow):\n",
    "    if row != 0 and row % 2 == 0: ncol += 1\n",
    "    array[row, ncol:] = 2"
   ]
  },
  {
   "cell_type": "code",
   "execution_count": 52,
   "id": "9718af46-469e-45dd-b4d4-43c77cda7588",
   "metadata": {
    "execution": {
     "iopub.execute_input": "2025-06-13T13:11:32.252607Z",
     "iopub.status.busy": "2025-06-13T13:11:32.252267Z",
     "iopub.status.idle": "2025-06-13T13:11:32.456428Z",
     "shell.execute_reply": "2025-06-13T13:11:32.455821Z",
     "shell.execute_reply.started": "2025-06-13T13:11:32.252586Z"
    }
   },
   "outputs": [
    {
     "data": {
      "image/png": "[encoded data removed]",
      "text/plain": [
       "<Figure size 500x300 with 3 Axes>"
      ]
     },
     "metadata": {},
     "output_type": "display_data"
    }
   ],
   "source": [
    "fig, (ax0, ax1) = plt.subplots(1, 2, figsize=(5, 3))\n",
    "pmv = flopy.plot.PlotMapView(gwf, ax=ax0)  ; heads = gwf.output.head().get_alldata()[-1]  ; heads = np.where(heads == 1e30, np.nan, heads)\n",
    "vmin = np.nanmin(heads) ; vmax = np.nanmax(heads) ; pc = pmv.plot_array(heads, vmin=vmin, vmax=vmax) ; \n",
    "pmv.plot_bc(\"WEL\") ;pmv.plot_bc(\"RIV\",color=\"cyan\") ;pmv.plot_bc(\"CHD\",color=\"yellow\") ;pmv.plot_grid(lw=0.5) ;pmv.plot_ibound() ; plt.colorbar(pc)\n",
    "pmv = flopy.plot.PlotMapView(gwf, ax=ax1) ; pc = pmv.plot_array(array) ; lc = pmv.plot_grid(lw=0.5); plt.yticks([]) ; plt.show()"
   ]
  },
  {
   "cell_type": "code",
   "execution_count": 31,
   "id": "f89e86cf",
   "metadata": {
    "execution": {
     "iopub.execute_input": "2025-06-13T13:04:03.158877Z",
     "iopub.status.busy": "2025-06-13T13:04:03.158513Z",
     "iopub.status.idle": "2025-06-13T13:04:03.715314Z",
     "shell.execute_reply": "2025-06-13T13:04:03.714516Z",
     "shell.execute_reply.started": "2025-06-13T13:04:03.158855Z"
    }
   },
   "outputs": [
    {
     "data": {
      "text/plain": [
       "(True, [])"
      ]
     },
     "execution_count": 31,
     "metadata": {},
     "output_type": "execute_result"
    }
   ],
   "source": [
    "mfsplit = Mf6Splitter(sim)                    ; new_sim = mfsplit.split_model(array)\n",
    "new_sim.set_sim_path(sim_ws / \"split_model\")  ; new_sim.write_simulation(silent=True)  ; new_sim.run_simulation(silent=True)"
   ]
  },
  {
   "cell_type": "code",
   "execution_count": 32,
   "id": "7ad62eea",
   "metadata": {
    "execution": {
     "iopub.execute_input": "2025-06-13T13:04:40.002023Z",
     "iopub.status.busy": "2025-06-13T13:04:40.001554Z",
     "iopub.status.idle": "2025-06-13T13:04:40.005098Z",
     "shell.execute_reply": "2025-06-13T13:04:40.004489Z",
     "shell.execute_reply.started": "2025-06-13T13:04:40.002001Z"
    }
   },
   "outputs": [],
   "source": [
    "ml0 = new_sim.get_model(\"freyberg_1\")  ; ml1 = new_sim.get_model(\"freyberg_2\")"
   ]
  },
  {
   "cell_type": "code",
   "execution_count": 33,
   "id": "80e84ad0",
   "metadata": {
    "execution": {
     "iopub.execute_input": "2025-06-13T13:04:40.240541Z",
     "iopub.status.busy": "2025-06-13T13:04:40.240179Z",
     "iopub.status.idle": "2025-06-13T13:04:40.247961Z",
     "shell.execute_reply": "2025-06-13T13:04:40.247409Z",
     "shell.execute_reply.started": "2025-06-13T13:04:40.240518Z"
    }
   },
   "outputs": [],
   "source": [
    "heads0 = ml0.output.head().get_alldata()[-1]\n",
    "heads1 = ml1.output.head().get_alldata()[-1]"
   ]
  },
  {
   "cell_type": "code",
   "execution_count": 55,
   "id": "6b230589",
   "metadata": {
    "execution": {
     "iopub.execute_input": "2025-06-13T13:12:33.010777Z",
     "iopub.status.busy": "2025-06-13T13:12:33.010443Z",
     "iopub.status.idle": "2025-06-13T13:12:33.284877Z",
     "shell.execute_reply": "2025-06-13T13:12:33.284309Z",
     "shell.execute_reply.started": "2025-06-13T13:12:33.010755Z"
    }
   },
   "outputs": [
    {
     "data": {
      "image/png": "[encoded data removed]",
      "text/plain": [
       "<Figure size 600x300 with 3 Axes>"
      ]
     },
     "metadata": {},
     "output_type": "display_data"
    }
   ],
   "source": [
    "fig, (ax0, ax1) = plt.subplots(1, 2, figsize=(6, 3))\n",
    "pmv = flopy.plot.PlotMapView(ml0, ax=ax0) ; pmv.plot_array(heads0, vmin=vmin, vmax=vmax) ; pmv.plot_ibound() ; pmv.plot_grid(lw=0.5)\n",
    "pmv.plot_bc(\"WEL\") ; pmv.plot_bc(\"RIV\", color=\"c\") ; pmv.plot_bc(\"CHD\") ; ax0.set_title(\"Model 0\")\n",
    "pmv = flopy.plot.PlotMapView(ml1, ax=ax1) ; pc = pmv.plot_array(heads1, vmin=vmin, vmax=vmax) ; pmv.plot_ibound()\n",
    "pmv.plot_bc(\"WEL\") ; pmv.plot_bc(\"RIV\", color=\"c\") ; pmv.plot_grid(lw=0.5) ; ax1.set_title(\"Model 1\") ; plt.yticks([])\n",
    "fig.subplots_adjust(right=0.8) ; cbar_ax = fig.add_axes([0.85, 0.15, 0.05, 0.7]) ; cbar = fig.colorbar(pc, cax=cbar_ax, label=\"Hydraulic heads\") "
   ]
  },
  {
   "cell_type": "code",
   "execution_count": 57,
   "id": "2b46da98",
   "metadata": {
    "execution": {
     "iopub.execute_input": "2025-06-13T13:14:17.205461Z",
     "iopub.status.busy": "2025-06-13T13:14:17.205109Z",
     "iopub.status.idle": "2025-06-13T13:14:17.260575Z",
     "shell.execute_reply": "2025-06-13T13:14:17.259909Z",
     "shell.execute_reply.started": "2025-06-13T13:14:17.205438Z"
    }
   },
   "outputs": [
    {
     "ename": "AttributeError",
     "evalue": "'NoneType' object has no attribute 'stress_period_data'",
     "output_type": "error",
     "traceback": [
      "\u001b[31m---------------------------------------------------------------------------\u001b[39m",
      "\u001b[31mAttributeError\u001b[39m                            Traceback (most recent call last)",
      "\u001b[36mCell\u001b[39m\u001b[36m \u001b[39m\u001b[32mIn[57]\u001b[39m\u001b[32m, line 8\u001b[39m\n\u001b[32m      6\u001b[39m pak = model.get_package(pkg)\n\u001b[32m      7\u001b[39m \u001b[38;5;28;01mtry\u001b[39;00m:\n\u001b[32m----> \u001b[39m\u001b[32m8\u001b[39m     rarrays[ix + \u001b[32m1\u001b[39m] = \u001b[43mpak\u001b[49m\u001b[43m.\u001b[49m\u001b[43mstress_period_data\u001b[49m.data[\u001b[32m0\u001b[39m]\n\u001b[32m      9\u001b[39m \u001b[38;5;28;01mexcept\u001b[39;00m \u001b[38;5;167;01mTypeError\u001b[39;00m:\n\u001b[32m     10\u001b[39m     \u001b[38;5;28;01mpass\u001b[39;00m\n",
      "\u001b[31mAttributeError\u001b[39m: 'NoneType' object has no attribute 'stress_period_data'"
     ]
    }
   ],
   "source": [
    "array_dict = {1: heads0, 2: heads1}  ; new_head_array = mfsplit.reconstruct_array(array_dict)   ; models = [ml0, ml1] ; pkgs = [\"wel\", \"riv\", \"chd\"]\n",
    "d = {}\n",
    "for pkg in pkgs:\n",
    "    rarrays = {}\n",
    "    for ix, model in enumerate(models):\n",
    "        pak = model.get_package(pkg)\n",
    "        try:\n",
    "            rarrays[ix + 1] = pak.stress_period_data.data[0]\n",
    "        except TypeError:\n",
    "            pass\n",
    "    recarray = mfsplit.reconstruct_recarray(rarrays)\n",
    "    if pkg == \"riv\":\n",
    "        color = \"c\"\n",
    "        bc_array, kwargs = mfsplit.recarray_bc_array(recarray, color=\"c\")\n",
    "    else:\n",
    "        bc_array, kwargs = mfsplit.recarray_bc_array(recarray, pkgtype=pkg)\n",
    "    d[pkg] = {\"bc_array\": bc_array, \"kwargs\": kwargs}"
   ]
  },
  {
   "cell_type": "code",
   "execution_count": null,
   "id": "6e605837",
   "metadata": {},
   "outputs": [],
   "source": [
    "fig, ax = plt.subplots(figsize=(5, 7))\n",
    "pmv = flopy.plot.PlotMapView(gwf, ax=ax)\n",
    "pc = pmv.plot_array(new_head_array, vmin=vmin, vmax=vmax)\n",
    "pmv.plot_ibound()\n",
    "pmv.plot_grid()\n",
    "pmv.plot_array(d[\"wel\"][\"bc_array\"], **d[\"wel\"][\"kwargs\"])\n",
    "pmv.plot_array(d[\"riv\"][\"bc_array\"], **d[\"riv\"][\"kwargs\"])\n",
    "pmv.plot_array(d[\"chd\"][\"bc_array\"], **d[\"chd\"][\"kwargs\"])\n",
    "plt.colorbar(pc)\n",
    "plt.show()"
   ]
  },
  {
   "cell_type": "markdown",
   "id": "187df743",
   "metadata": {},
   "source": [
    "## Example 2: a more comprehensive example with the watershed model from Hughes and others 2023\n",
    "\n",
    "In this example, a basin model is created and is split into many models.\n",
    "From Hughes, Joseph D., Langevin, Christian D., Paulinski, Scott R., Larsen, Joshua D., and Brakenhoff, David, 2023, FloPy Workflows for Creating Structured and Unstructured MODFLOW Models: Groundwater, https://doi.org/10.1111/gwat.13327\n",
    "\n",
    "\n",
    "### Create the model\n",
    "\n",
    "Load an ASCII raster file"
   ]
  },
  {
   "cell_type": "code",
   "execution_count": null,
   "id": "57510bbd",
   "metadata": {},
   "outputs": [],
   "source": [
    "ascii_file = Path(\"../../examples/data/geospatial/fine_topo.asc\")"
   ]
  },
  {
   "cell_type": "code",
   "execution_count": null,
   "id": "f24fbf44",
   "metadata": {},
   "outputs": [],
   "source": [
    "fine_topo = flopy.utils.Raster.load(ascii_file)\n",
    "fine_topo.plot()"
   ]
  },
  {
   "cell_type": "code",
   "execution_count": null,
   "id": "4bf9cf70",
   "metadata": {},
   "outputs": [],
   "source": [
    "Lx = 180000\n",
    "Ly = 100000\n",
    "extent = (0, Lx, 0, Ly)\n",
    "levels = np.arange(10, 110, 10)\n",
    "vmin, vmax = 0.0, 100.0"
   ]
  },
  {
   "cell_type": "code",
   "execution_count": null,
   "id": "398d2041",
   "metadata": {},
   "outputs": [],
   "source": [
    "sim_ws = TemporaryDirectory()\n",
    "sim_ws = Path(sim_ws.name)"
   ]
  },
  {
   "cell_type": "code",
   "execution_count": null,
   "id": "daed90cb",
   "metadata": {},
   "outputs": [],
   "source": [
    "boundary_polygon = string2geom(geometries[\"boundary\"])\n",
    "boundary_polygon.append(boundary_polygon[0])\n",
    "bp = np.array(boundary_polygon)"
   ]
  },
  {
   "cell_type": "code",
   "execution_count": null,
   "id": "9209c024",
   "metadata": {},
   "outputs": [],
   "source": [
    "# define stream segment locations\n",
    "segs = [string2geom(geometries[f\"streamseg{i}\"]) for i in range(1, 5)]"
   ]
  },
  {
   "cell_type": "markdown",
   "id": "dcd3d33c",
   "metadata": {},
   "source": [
    "Plot the model boundary and the individual stream segments for the RIV package"
   ]
  },
  {
   "cell_type": "code",
   "execution_count": null,
   "id": "5dd02c14",
   "metadata": {},
   "outputs": [],
   "source": [
    "fig = plt.figure(figsize=(8, 8))\n",
    "ax = fig.add_subplot()\n",
    "ax.set_aspect(\"equal\")\n",
    "riv_colors = (\"blue\", \"cyan\", \"green\", \"orange\", \"red\")\n",
    "ax.plot(bp[:, 0], bp[:, 1], \"ro-\")\n",
    "for idx, seg in enumerate(segs):\n",
    "    sa = np.array(seg)\n",
    "    ax.plot(sa[:, 0], sa[:, 1], color=riv_colors[idx], lw=0.75, marker=\"o\")"
   ]
  },
  {
   "cell_type": "markdown",
   "id": "2882986e",
   "metadata": {},
   "source": [
    "Create a MODFLOW model grid"
   ]
  },
  {
   "cell_type": "code",
   "execution_count": null,
   "id": "81fc2f8a",
   "metadata": {
    "lines_to_next_cell": 2
   },
   "outputs": [],
   "source": [
    "dx = dy = 5000\n",
    "dv0 = 5.0\n",
    "nlay = 1\n",
    "nrow = int(Ly / dy) + 1\n",
    "ncol = int(Lx / dx) + 1\n",
    "delr = np.array(ncol * [dx])\n",
    "delc = np.array(nrow * [dy])\n",
    "top = np.ones((nrow, ncol)) * 1000.0\n",
    "botm = np.ones((nlay, nrow, ncol)) * -100.0\n",
    "modelgrid = flopy.discretization.StructuredGrid(\n",
    "    nlay=nlay, delr=delr, delc=delc, xoff=0, yoff=0, top=top, botm=botm\n",
    ")"
   ]
  },
  {
   "cell_type": "markdown",
   "id": "9e3b6dc7",
   "metadata": {},
   "source": [
    "Crop the raster, resample it for the top elevation, and create an ibound array"
   ]
  },
  {
   "cell_type": "code",
   "execution_count": null,
   "id": "bdbc6186",
   "metadata": {},
   "outputs": [],
   "source": [
    "new_top = fine_topo.resample_to_grid(\n",
    "    modelgrid, band=fine_topo.bands[0], method=\"min\", extrapolate_edges=True\n",
    ")"
   ]
  },
  {
   "cell_type": "code",
   "execution_count": null,
   "id": "34883b7b",
   "metadata": {},
   "outputs": [],
   "source": [
    "# calculate and set idomain\n",
    "ix = flopy.utils.GridIntersect(modelgrid, method=\"vertex\", rtree=True)\n",
    "result = ix.intersect(Polygon(boundary_polygon))\n",
    "idxs = tuple(zip(*result.cellids))\n",
    "idomain = np.zeros((nrow, ncol), dtype=int)\n",
    "idomain[idxs] = 1"
   ]
  },
  {
   "cell_type": "code",
   "execution_count": null,
   "id": "09ae5a27",
   "metadata": {},
   "outputs": [],
   "source": [
    "# set this idomain and top to the modelgrid\n",
    "modelgrid._idomain = idomain\n",
    "modelgrid._top = new_top"
   ]
  },
  {
   "cell_type": "markdown",
   "id": "6dfd4e73",
   "metadata": {},
   "source": [
    "Intersect the stream segments with the modelgrid"
   ]
  },
  {
   "cell_type": "code",
   "execution_count": null,
   "id": "1d041d24",
   "metadata": {},
   "outputs": [],
   "source": [
    "ixs = flopy.utils.GridIntersect(modelgrid, method=\"structured\")\n",
    "cellids = []\n",
    "for seg in segs:\n",
    "    v = ixs.intersect(LineString(seg), sort_by_cellid=True)\n",
    "    cellids += v[\"cellids\"].tolist()\n",
    "intersection_rg = np.zeros(modelgrid.shape[1:])\n",
    "for loc in cellids:\n",
    "    intersection_rg[loc] = 1"
   ]
  },
  {
   "cell_type": "code",
   "execution_count": null,
   "id": "757e8181",
   "metadata": {},
   "outputs": [],
   "source": [
    "with styles.USGSMap():\n",
    "    fig, ax = plt.subplots(figsize=(8, 8))\n",
    "    pmv = flopy.plot.PlotMapView(modelgrid=modelgrid)\n",
    "    ax.set_aspect(\"equal\")\n",
    "    pmv.plot_array(modelgrid.top)\n",
    "    pmv.plot_array(\n",
    "        intersection_rg,\n",
    "        masked_values=[\n",
    "            0,\n",
    "        ],\n",
    "        alpha=0.2,\n",
    "        cmap=\"Reds_r\",\n",
    "    )\n",
    "    pmv.plot_inactive()\n",
    "    ax.plot(bp[:, 0], bp[:, 1], \"r-\")\n",
    "    for seg in segs:\n",
    "        sa = np.array(seg)\n",
    "        ax.plot(sa[:, 0], sa[:, 1], \"b-\")"
   ]
  },
  {
   "cell_type": "markdown",
   "id": "d58c8676",
   "metadata": {},
   "source": [
    "Calculate drain conductance, set simulation options, and begin building model arrays"
   ]
  },
  {
   "cell_type": "code",
   "execution_count": null,
   "id": "e93adea6",
   "metadata": {},
   "outputs": [],
   "source": [
    "# Set number of model layers to 2\n",
    "nlay = 2"
   ]
  },
  {
   "cell_type": "code",
   "execution_count": null,
   "id": "94feca8b",
   "metadata": {},
   "outputs": [],
   "source": [
    "# intersect stream segs to simulate as drains\n",
    "ixs = flopy.utils.GridIntersect(modelgrid, method=\"structured\")\n",
    "drn_cellids = []\n",
    "drn_lengths = []\n",
    "for seg in segs:\n",
    "    v = ixs.intersect(LineString(seg), sort_by_cellid=True)\n",
    "    drn_cellids += v[\"cellids\"].tolist()\n",
    "    drn_lengths += v[\"lengths\"].tolist()"
   ]
  },
  {
   "cell_type": "code",
   "execution_count": null,
   "id": "b6499af7",
   "metadata": {},
   "outputs": [],
   "source": [
    "leakance = 1.0 / (0.5 * dv0)  # kv / b\n",
    "drn_data = []\n",
    "for (r, c), length in zip(drn_cellids, drn_lengths):\n",
    "    x = modelgrid.xcellcenters[r, c]\n",
    "    width = 5.0 + (14.0 / Lx) * (Lx - x)\n",
    "    conductance = leakance * length * width\n",
    "    drn_data.append((0, r, c, modelgrid.top[r, c], conductance))\n",
    "drn_data[:10]"
   ]
  },
  {
   "cell_type": "code",
   "execution_count": null,
   "id": "09f5ec45",
   "metadata": {},
   "outputs": [],
   "source": [
    "# groundwater discharge to surface\n",
    "idomain = modelgrid.idomain.copy()\n",
    "index = tuple(zip(*drn_cellids))\n",
    "idomain[index] = -1\n",
    "\n",
    "gw_discharge_data = []\n",
    "for r in range(nrow):\n",
    "    for c in range(ncol):\n",
    "        if idomain[r, c] < 1:\n",
    "            continue\n",
    "        conductance = leakance * dx * dy\n",
    "        gw_discharge_data.append(\n",
    "            (0, r, c, modelgrid.top[r, c] - 0.5, conductance, 1.0)\n",
    "        )\n",
    "gw_discharge_data[:10]"
   ]
  },
  {
   "cell_type": "code",
   "execution_count": null,
   "id": "96a0a1a8",
   "metadata": {},
   "outputs": [],
   "source": [
    "botm = np.zeros((nlay, nrow, ncol))\n",
    "botm[0] = modelgrid.top - dv0\n",
    "for ix in range(1, nlay):\n",
    "    dv0 *= 1.5\n",
    "    botm[ix] = botm[ix - 1] - dv0"
   ]
  },
  {
   "cell_type": "code",
   "execution_count": null,
   "id": "9b30f20f",
   "metadata": {},
   "outputs": [],
   "source": [
    "idomain = np.zeros((nlay, nrow, ncol), dtype=int)\n",
    "idomain[:] = modelgrid.idomain\n",
    "\n",
    "strt = np.zeros((nlay, nrow, ncol))\n",
    "strt[:] = modelgrid.top"
   ]
  },
  {
   "cell_type": "markdown",
   "id": "a4dbe315",
   "metadata": {},
   "source": [
    "Create the watershed model using Flopy"
   ]
  },
  {
   "cell_type": "code",
   "execution_count": null,
   "id": "a5a47ee2",
   "metadata": {},
   "outputs": [],
   "source": [
    "sim_ws = TemporaryDirectory()\n",
    "sim_ws = Path(sim_ws.name) / \"basin\""
   ]
  },
  {
   "cell_type": "code",
   "execution_count": null,
   "id": "d8d18d13",
   "metadata": {
    "lines_to_next_cell": 2
   },
   "outputs": [],
   "source": [
    "sim = flopy.mf6.MFSimulation(\n",
    "    sim_name=\"basin\",\n",
    "    sim_ws=sim_ws,\n",
    "    exe_name=\"mf6\",\n",
    ")\n",
    "\n",
    "tdis = flopy.mf6.ModflowTdis(sim)\n",
    "ims = flopy.mf6.ModflowIms(\n",
    "    sim,\n",
    "    complexity=\"simple\",\n",
    "    print_option=\"SUMMARY\",\n",
    "    linear_acceleration=\"bicgstab\",\n",
    "    outer_maximum=1000,\n",
    "    inner_maximum=100,\n",
    "    outer_dvclose=1e-5,\n",
    "    inner_dvclose=1e-6,\n",
    ")\n",
    "gwf = flopy.mf6.ModflowGwf(\n",
    "    sim,\n",
    "    save_flows=True,\n",
    "    newtonoptions=\"NEWTON UNDER_RELAXATION\",\n",
    ")\n",
    "\n",
    "dis = flopy.mf6.ModflowGwfdis(\n",
    "    gwf,\n",
    "    nlay=nlay,\n",
    "    nrow=nrow,\n",
    "    ncol=ncol,\n",
    "    delr=dx,\n",
    "    delc=dy,\n",
    "    idomain=idomain,\n",
    "    top=modelgrid.top,\n",
    "    botm=botm,\n",
    "    xorigin=0.0,\n",
    "    yorigin=0.0,\n",
    ")\n",
    "\n",
    "ic = flopy.mf6.ModflowGwfic(gwf, strt=strt)\n",
    "npf = flopy.mf6.ModflowGwfnpf(\n",
    "    gwf,\n",
    "    save_specific_discharge=True,\n",
    "    icelltype=1,\n",
    "    k=1.0,\n",
    ")\n",
    "sto = flopy.mf6.ModflowGwfsto(\n",
    "    gwf,\n",
    "    iconvert=1,\n",
    "    ss=1e-5,\n",
    "    sy=0.2,\n",
    "    steady_state=True,\n",
    ")\n",
    "rch = flopy.mf6.ModflowGwfrcha(\n",
    "    gwf,\n",
    "    recharge=0.000001,\n",
    ")\n",
    "drn = flopy.mf6.ModflowGwfdrn(\n",
    "    gwf,\n",
    "    stress_period_data=drn_data,\n",
    "    pname=\"river\",\n",
    ")\n",
    "drn_gwd = flopy.mf6.ModflowGwfdrn(\n",
    "    gwf,\n",
    "    auxiliary=[\"depth\"],\n",
    "    auxdepthname=\"depth\",\n",
    "    stress_period_data=gw_discharge_data,\n",
    "    pname=\"gwd\",\n",
    ")\n",
    "oc = flopy.mf6.ModflowGwfoc(\n",
    "    gwf,\n",
    "    head_filerecord=f\"{gwf.name}.hds\",\n",
    "    budget_filerecord=f\"{gwf.name}.cbc\",\n",
    "    saverecord=[(\"HEAD\", \"ALL\"), (\"BUDGET\", \"ALL\")],\n",
    "    printrecord=[(\"BUDGET\", \"ALL\")],\n",
    ")"
   ]
  },
  {
   "cell_type": "code",
   "execution_count": null,
   "id": "bb6021b4",
   "metadata": {},
   "outputs": [],
   "source": [
    "sim.write_simulation()\n",
    "success, buff = sim.run_simulation(silent=True)\n",
    "assert success"
   ]
  },
  {
   "cell_type": "markdown",
   "id": "d406ddbc",
   "metadata": {},
   "source": [
    "Plot the model results"
   ]
  },
  {
   "cell_type": "code",
   "execution_count": null,
   "id": "6af128ec",
   "metadata": {},
   "outputs": [],
   "source": [
    "water_table = flopy.utils.postprocessing.get_water_table(\n",
    "    gwf.output.head().get_data()\n",
    ")\n",
    "heads = gwf.output.head().get_data()\n",
    "hmin, hmax = water_table.min(), water_table.max()\n",
    "contours = np.arange(0, 100, 10)\n",
    "hmin, hmax"
   ]
  },
  {
   "cell_type": "code",
   "execution_count": null,
   "id": "4ad0d032",
   "metadata": {},
   "outputs": [],
   "source": [
    "with styles.USGSMap():\n",
    "    fig = plt.figure(figsize=(10, 8))\n",
    "    ax = fig.add_subplot()\n",
    "    ax.set_xlim(0, Lx)\n",
    "    ax.set_ylim(0, Ly)\n",
    "    ax.set_aspect(\"equal\")\n",
    "    pmv = flopy.plot.PlotMapView(modelgrid=gwf.modelgrid, ax=ax)\n",
    "    h = pmv.plot_array(heads, vmin=hmin, vmax=hmax)\n",
    "    c = pmv.contour_array(\n",
    "        water_table,\n",
    "        levels=contours,\n",
    "        colors=\"white\",\n",
    "        linewidths=0.75,\n",
    "        linestyles=\":\",\n",
    "    )\n",
    "    plt.clabel(c, fontsize=8)\n",
    "    pmv.plot_inactive()\n",
    "    plt.colorbar(h, ax=ax, shrink=0.5)\n",
    "\n",
    "    ax.plot(bp[:, 0], bp[:, 1], \"r-\")\n",
    "    for seg in segs:\n",
    "        sa = np.array(seg)\n",
    "        ax.plot(sa[:, 0], sa[:, 1], \"b-\")"
   ]
  },
  {
   "cell_type": "markdown",
   "id": "d1d9c688",
   "metadata": {},
   "source": [
    "### Split the watershed model\n",
    "\n",
    "Build a splitting array and split this model into many models for parallel modflow runs"
   ]
  },
  {
   "cell_type": "code",
   "execution_count": null,
   "id": "0ff63cb1",
   "metadata": {},
   "outputs": [],
   "source": [
    "nrow_blocks, ncol_blocks = 2, 4\n",
    "row_inc, col_inc = int(nrow / nrow_blocks), int(ncol / ncol_blocks)\n",
    "row_inc, col_inc"
   ]
  },
  {
   "cell_type": "code",
   "execution_count": null,
   "id": "1f9f6623",
   "metadata": {},
   "outputs": [],
   "source": [
    "icnt = 0\n",
    "row_blocks = [icnt]\n",
    "for i in range(nrow_blocks):\n",
    "    icnt += row_inc\n",
    "    row_blocks.append(icnt)\n",
    "if row_blocks[-1] < nrow:\n",
    "    row_blocks[-1] = nrow\n",
    "row_blocks"
   ]
  },
  {
   "cell_type": "code",
   "execution_count": null,
   "id": "4d4811d6",
   "metadata": {},
   "outputs": [],
   "source": [
    "icnt = 0\n",
    "col_blocks = [icnt]\n",
    "for i in range(ncol_blocks):\n",
    "    icnt += col_inc\n",
    "    col_blocks.append(icnt)\n",
    "if col_blocks[-1] < ncol:\n",
    "    col_blocks[-1] = ncol\n",
    "col_blocks"
   ]
  },
  {
   "cell_type": "code",
   "execution_count": null,
   "id": "adc3c861",
   "metadata": {},
   "outputs": [],
   "source": [
    "mask = np.zeros((nrow, ncol), dtype=int)"
   ]
  },
  {
   "cell_type": "code",
   "execution_count": null,
   "id": "e90d2084",
   "metadata": {},
   "outputs": [],
   "source": [
    "# create masking array\n",
    "ival = 1\n",
    "model_row_col_offset = {}\n",
    "for idx in range(len(row_blocks) - 1):\n",
    "    for jdx in range(len(col_blocks) - 1):\n",
    "        mask[\n",
    "            row_blocks[idx] : row_blocks[idx + 1],\n",
    "            col_blocks[jdx] : col_blocks[jdx + 1],\n",
    "        ] = ival\n",
    "        model_row_col_offset[ival - 1] = (row_blocks[idx], col_blocks[jdx])\n",
    "        # increment model number\n",
    "        ival += 1"
   ]
  },
  {
   "cell_type": "code",
   "execution_count": null,
   "id": "f8ef8669",
   "metadata": {},
   "outputs": [],
   "source": [
    "plt.imshow(mask)"
   ]
  },
  {
   "cell_type": "markdown",
   "id": "cf0ca9ee",
   "metadata": {},
   "source": [
    "### Now split the model into many models using `Mf6Splitter()`"
   ]
  },
  {
   "cell_type": "code",
   "execution_count": null,
   "id": "03543491",
   "metadata": {
    "lines_to_next_cell": 2
   },
   "outputs": [],
   "source": [
    "mfsplit = Mf6Splitter(sim)\n",
    "new_sim = mfsplit.split_model(mask)"
   ]
  },
  {
   "cell_type": "code",
   "execution_count": null,
   "id": "aa585fe6",
   "metadata": {},
   "outputs": [],
   "source": [
    "new_ws = sim_ws / \"split_models\"\n",
    "new_sim.set_sim_path(new_ws)\n",
    "new_sim.write_simulation()\n",
    "success, buff = new_sim.run_simulation(silent=True)\n",
    "assert success"
   ]
  },
  {
   "cell_type": "markdown",
   "id": "62cc3564",
   "metadata": {},
   "source": [
    "### Reassemble the heads to the original model shape for plotting\n",
    "\n",
    "Create a dictionary of model number : heads and use the `reconstruct_array()` method to get a numpy array that is the original shape of the unsplit model."
   ]
  },
  {
   "cell_type": "code",
   "execution_count": null,
   "id": "b8211b47",
   "metadata": {},
   "outputs": [],
   "source": [
    "model_names = list(new_sim.model_names)\n",
    "head_dict = {}\n",
    "for modelname in model_names:\n",
    "    mnum = int(modelname.split(\"_\")[-1])\n",
    "    head = new_sim.get_model(modelname).output.head().get_alldata()[-1]\n",
    "    head_dict[mnum] = head"
   ]
  },
  {
   "cell_type": "code",
   "execution_count": null,
   "id": "1abb0e80",
   "metadata": {},
   "outputs": [],
   "source": [
    "ra_heads = mfsplit.reconstruct_array(head_dict)\n",
    "ra_watertable = flopy.utils.postprocessing.get_water_table(ra_heads)"
   ]
  },
  {
   "cell_type": "code",
   "execution_count": null,
   "id": "989e9b56",
   "metadata": {},
   "outputs": [],
   "source": [
    "with styles.USGSMap():\n",
    "    fig, axs = plt.subplots(nrows=3, figsize=(8, 12))\n",
    "    diff = ra_heads - heads\n",
    "    hv = [ra_heads, heads, diff]\n",
    "    titles = [\"Multiple models\", \"Single model\", \"Multiple - single\"]\n",
    "    for idx, ax in enumerate(axs):\n",
    "        ax.set_aspect(\"equal\")\n",
    "        ax.set_title(titles[idx])\n",
    "\n",
    "        if idx < 2:\n",
    "            levels = contours\n",
    "            vmin = hmin\n",
    "            vmax = hmax\n",
    "        else:\n",
    "            levels = None\n",
    "            vmin = None\n",
    "            vmax = None\n",
    "\n",
    "        pmv = flopy.plot.PlotMapView(modelgrid=gwf.modelgrid, ax=ax, layer=0)\n",
    "        h = pmv.plot_array(hv[idx], vmin=vmin, vmax=vmax)\n",
    "        if levels is not None:\n",
    "            c = pmv.contour_array(\n",
    "                hv[idx],\n",
    "                levels=levels,\n",
    "                colors=\"white\",\n",
    "                linewidths=0.75,\n",
    "                linestyles=\":\",\n",
    "            )\n",
    "            plt.clabel(c, fontsize=8)\n",
    "        pmv.plot_inactive()\n",
    "        plt.colorbar(h, ax=ax, shrink=0.5)\n",
    "\n",
    "        ax.plot(bp[:, 0], bp[:, 1], \"r-\")\n",
    "        for seg in segs:\n",
    "            sa = np.array(seg)\n",
    "            ax.plot(sa[:, 0], sa[:, 1], \"b-\")"
   ]
  },
  {
   "cell_type": "markdown",
   "id": "8b7c2e8a",
   "metadata": {},
   "source": [
    "## Example 3: create an optimized splitting mask for a model\n",
    "\n",
    "In the previous examples, the watershed model splitting mask was defined by the user. `Mf6Splitter` also has a method called `optimize_splitting_mask` that creates a mask based on the number of models the user would like to generate.\n",
    "\n",
    "The `optimize_splitting_mask()` method generates a vertex weighted adjacency graph, based on the number active and inactive nodes in all layers of the model. This adjacency graph is then provided to `pymetis` which does the work for us and returns a membership array for each node."
   ]
  },
  {
   "cell_type": "code",
   "execution_count": null,
   "id": "3f373ba9",
   "metadata": {},
   "outputs": [],
   "source": [
    "# Split the watershed model into many models\n",
    "mfsplit = Mf6Splitter(sim)\n",
    "split_array = mfsplit.optimize_splitting_mask(nparts=8)\n",
    "\n",
    "with styles.USGSMap():\n",
    "    fig, ax = plt.subplots(figsize=(12, 8))\n",
    "    pmv = flopy.plot.PlotMapView(gwf, ax=ax)\n",
    "    pmv.plot_array(split_array)\n",
    "    pmv.plot_inactive()\n",
    "    pmv.plot_grid()"
   ]
  },
  {
   "cell_type": "code",
   "execution_count": null,
   "id": "c5f41c01",
   "metadata": {},
   "outputs": [
    {
     "name": "stdout",
     "output_type": "stream",
     "text": [
      "    writing package ic...\n",
      "    writing package npf...\n",
      "    writing package sto...\n",
      "    writing package rcha_0...\n",
      "    writing package river...\n",
      "    writing package gwd...\n",
      "    writing package oc...\n"
     ]
    }
   ],
   "source": [
    "new_sim = mfsplit.split_model(split_array)\n",
    "\n",
    "sim_ws = TemporaryDirectory()\n",
    "sim_ws = Path(\"temp\")\n",
    "\n",
    "new_ws = sim_ws / \"opt_split_models\"\n",
    "new_sim.set_sim_path(new_ws)\n",
    "new_sim.write_simulation()\n",
    "success, buff = new_sim.run_simulation(silent=True)\n",
    "assert success"
   ]
  },
  {
   "cell_type": "markdown",
   "id": "de97707f",
   "metadata": {},
   "source": [
    "### Reassemble the heads and plot results"
   ]
  },
  {
   "cell_type": "code",
   "execution_count": null,
   "id": "fb2b68a4",
   "metadata": {},
   "outputs": [],
   "source": [
    "model_names = list(new_sim.model_names)\n",
    "head_dict = {}\n",
    "for modelname in model_names:\n",
    "    mnum = int(modelname.split(\"_\")[-1])\n",
    "    head = new_sim.get_model(modelname).output.head().get_alldata()[-1]\n",
    "    head_dict[mnum] = head"
   ]
  },
  {
   "cell_type": "code",
   "execution_count": null,
   "id": "c2ef5828",
   "metadata": {},
   "outputs": [],
   "source": [
    "ra_heads = mfsplit.reconstruct_array(head_dict)\n",
    "ra_watertable = flopy.utils.postprocessing.get_water_table(ra_heads)"
   ]
  },
  {
   "cell_type": "code",
   "execution_count": null,
   "id": "715a4a1b",
   "metadata": {},
   "outputs": [],
   "source": [
    "with styles.USGSMap():\n",
    "    fig, axs = plt.subplots(nrows=3, figsize=(8, 12))\n",
    "    diff = ra_heads - heads\n",
    "    hv = [ra_heads, heads, diff]\n",
    "    titles = [\"Multiple models\", \"Single model\", \"Multiple - single\"]\n",
    "    for idx, ax in enumerate(axs):\n",
    "        ax.set_aspect(\"equal\")\n",
    "        ax.set_title(titles[idx])\n",
    "\n",
    "        if idx < 2:\n",
    "            levels = contours\n",
    "            vmin = hmin\n",
    "            vmax = hmax\n",
    "        else:\n",
    "            levels = None\n",
    "            vmin = None\n",
    "            vmax = None\n",
    "\n",
    "        pmv = flopy.plot.PlotMapView(modelgrid=gwf.modelgrid, ax=ax, layer=0)\n",
    "        h = pmv.plot_array(hv[idx], vmin=vmin, vmax=vmax)\n",
    "        if levels is not None:\n",
    "            c = pmv.contour_array(\n",
    "                hv[idx],\n",
    "                levels=levels,\n",
    "                colors=\"white\",\n",
    "                linewidths=0.75,\n",
    "                linestyles=\":\",\n",
    "            )\n",
    "            plt.clabel(c, fontsize=8)\n",
    "        pmv.plot_inactive()\n",
    "        plt.colorbar(h, ax=ax, shrink=0.5)\n",
    "\n",
    "        ax.plot(bp[:, 0], bp[:, 1], \"r-\")\n",
    "        for seg in segs:\n",
    "            sa = np.array(seg)\n",
    "            ax.plot(sa[:, 0], sa[:, 1], \"b-\")"
   ]
  }
 ],
 "metadata": {
  "jupytext": {
   "notebook_metadata_filter": "metadata"
  },
  "kernelspec": {
   "display_name": "Python 3 (ipykernel)",
   "language": "python",
   "name": "python3"
  },
  "language_info": {
   "codemirror_mode": {
    "name": "ipython",
    "version": 3
   },
   "file_extension": ".py",
   "mimetype": "text/x-python",
   "name": "python",
   "nbconvert_exporter": "python",
   "pygments_lexer": "ipython3",
   "version": "3.13.3"
  },
  "metadata": {
   "section": "mf6"
  }
 },
 "nbformat": 4,
 "nbformat_minor": 5
}
