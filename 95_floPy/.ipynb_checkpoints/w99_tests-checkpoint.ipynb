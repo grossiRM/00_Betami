{
 "cells": [
  {
   "cell_type": "code",
   "execution_count": null,
   "id": "f03dc865-d505-435e-8f4d-b515ec3f746c",
   "metadata": {
    "jupyter": {
     "source_hidden": true
    }
   },
   "outputs": [],
   "source": [
    "file_names = {\n",
    "    \"EXAMPLE-1.endpoint\": None,\n",
    "    \"EXAMPLE-1.mpsim\": None,\n",
    "    \"EXAMPLE-2.endpoint\": None,\n",
    "    \"EXAMPLE-2.mplist\": None,\n",
    "    \"EXAMPLE-2.mpsim\": None,\n",
    "    \"EXAMPLE-3.endpoint\": None,\n",
    "    \"EXAMPLE-3.mplist\": None,\n",
    "    \"EXAMPLE-3.mpsim\": None,\n",
    "    \"EXAMPLE-3.pathline\": None,\n",
    "    \"EXAMPLE-4.endpoint\": None,\n",
    "    \"EXAMPLE-4.mplist\": None,\n",
    "    \"EXAMPLE-4.mpsim\": None,\n",
    "    \"EXAMPLE-4.timeseries\": None,\n",
    "    \"EXAMPLE-5.endpoint\": None,\n",
    "    \"EXAMPLE-5.mplist\": None,\n",
    "    \"EXAMPLE-5.mpsim\": None,\n",
    "    \"EXAMPLE-6.endpoint\": None,\n",
    "    \"EXAMPLE-6.mplist\": None,\n",
    "    \"EXAMPLE-6.mpsim\": None,\n",
    "    \"EXAMPLE-6.timeseries\": None,\n",
    "    \"EXAMPLE-7.endpoint\": None,\n",
    "    \"EXAMPLE-7.mplist\": None,\n",
    "    \"EXAMPLE-7.mpsim\": None,\n",
    "    \"EXAMPLE-7.timeseries\": None,\n",
    "    \"EXAMPLE-8.endpoint\": None,\n",
    "    \"EXAMPLE-8.mplist\": None,\n",
    "    \"EXAMPLE-8.mpsim\": None,\n",
    "    \"EXAMPLE-8.timeseries\": None,\n",
    "    \"EXAMPLE-9.endpoint\": None,\n",
    "    \"EXAMPLE-9.mplist\": None,\n",
    "    \"EXAMPLE-9.mpsim\": None,\n",
    "    \"EXAMPLE.BA6\": None,\n",
    "    \"EXAMPLE.BUD\": None,\n",
    "    \"EXAMPLE.DIS\": None,\n",
    "    \"EXAMPLE.DIS.metadata\": None,\n",
    "    \"EXAMPLE.HED\": None,\n",
    "    \"EXAMPLE.LPF\": None,\n",
    "    \"EXAMPLE.LST\": None,\n",
    "    \"EXAMPLE.MPBAS\": None,\n",
    "    \"EXAMPLE.OC\": None,\n",
    "    \"EXAMPLE.PCG\": None,\n",
    "    \"EXAMPLE.RCH\": None,\n",
    "    \"EXAMPLE.RIV\": None,\n",
    "    \"EXAMPLE.WEL\": None,\n",
    "    \"EXAMPLE.mpnam\": None,\n",
    "    \"EXAMPLE.nam\": None,\n",
    "    \"example-1.mplist\": None,\n",
    "    \"example-6.locations\": None,\n",
    "    \"example-7.locations\": None,\n",
    "    \"example-8.locations\": None,\n",
    "    \"example.basemap\": None,\n",
    "}"
   ]
  },
  {
   "cell_type": "code",
   "execution_count": null,
   "id": "ec00d74f-0b84-4b58-bf57-a1d1b4064f21",
   "metadata": {},
   "outputs": [],
   "source": []
  }
 ],
 "metadata": {
  "jupytext": {
   "cell_metadata_filter": "-all"
  },
  "kernelspec": {
   "display_name": "Python 3 (ipykernel)",
   "language": "python",
   "name": "python3"
  },
  "language_info": {
   "codemirror_mode": {
    "name": "ipython",
    "version": 3
   },
   "file_extension": ".py",
   "mimetype": "text/x-python",
   "name": "python",
   "nbconvert_exporter": "python",
   "pygments_lexer": "ipython3",
   "version": "3.12.7"
  }
 },
 "nbformat": 4,
 "nbformat_minor": 5
}
