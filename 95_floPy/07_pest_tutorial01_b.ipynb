{
 "cells": [
  {
   "cell_type": "markdown",
   "id": "220275f3-e8fb-4fbb-8405-0b3a315c1e64",
   "metadata": {},
   "source": [
    "<font color='blue'> **PEST_MF2005** </font>  "
   ]
  },
  {
   "cell_type": "code",
   "execution_count": 1,
   "id": "c2bf9ac8",
   "metadata": {},
   "outputs": [
    {
     "name": "stdout",
     "output_type": "stream",
     "text": [
      "3.12.7 | packaged by Anaconda, Inc. | (main, Oct  4 2024, 13:17:27) [MSC v.1929 64 bit (AMD64)]\n",
      "numpy version: 1.26.4\n",
      "flopy version: 3.9.1\n"
     ]
    }
   ],
   "source": [
    "import os ; import sys ; import numpy as np ; import flopy ; from pathlib import Path\n",
    "print(sys.version) ; print(f\"numpy version: {np.__version__}\") ; print(f\"flopy version: {flopy.__version__}\")"
   ]
  },
  {
   "cell_type": "code",
   "execution_count": 2,
   "id": "47ae64a3-1bba-40e6-b506-61f3b486266b",
   "metadata": {},
   "outputs": [],
   "source": [
    "sim_ws    = Path(\"./07_PEST\")                            ; sim_ws.mkdir(exist_ok=True)     ; modelname = \"PEST\""
   ]
  },
  {
   "cell_type": "code",
   "execution_count": 3,
   "id": "61a25355",
   "metadata": {},
   "outputs": [],
   "source": [
    "nlay = 3 ; nrow = 20 ; ncol = 20\n",
    "mm   = flopy.modflow.Modflow   (modelname=modelname, model_ws=sim_ws)\n",
    "dis = flopy.modflow.ModflowDis (mm, nlay, nrow, ncol)\n",
    "lpf = flopy.modflow.ModflowLpf (mm, hk=10.0)"
   ]
  },
  {
   "cell_type": "code",
   "execution_count": 4,
   "id": "8b49b4d3",
   "metadata": {},
   "outputs": [
    {
     "name": "stdout",
     "output_type": "stream",
     "text": [
      "The following packages will be parameterized: ['LPF']\n",
      "\n"
     ]
    }
   ],
   "source": [
    "mfpackage = \"lpf\" ; partype = \"hk\" ; parname = \"HK_LAYER_1\"\n",
    "idx  = np.empty((nlay, nrow, ncol), dtype=bool)               ; idx[0] = True   ; idx[1:] = False       ; span = {\"idx\": idx}\n",
    "startvalue = 10.0 ; lbound = 0.001 ; ubound = 1000.0          ; transform = \"log\"\n",
    "pp = flopy.pest.Params(mfpackage, partype, parname, startvalue, lbound, ubound, span)\n",
    "\n",
    "mfpackage = \"lpf\" ; partype = \"hk\" ; parname = \"HK_LAYER_1-3\"                                            ; span = {\"layers\": [0, 2]}\n",
    "startvalue = 10.0 ; lbound = 0.001 ; ubound = 1000.0 ; transform = \"log\"\n",
    "pp = flopy.pest.Params (mfpackage, partype, parname, startvalue, lbound, ubound, span)\n",
    "tw = flopy.pest.templatewriter.TemplateWriter(mm, [pp])\n",
    "tw.write_template()"
   ]
  },
  {
   "cell_type": "markdown",
   "id": "237a6366-ef2b-4355-a287-898213a26a66",
   "metadata": {},
   "source": [
    "**Multi**"
   ]
  },
  {
   "cell_type": "code",
   "execution_count": 5,
   "id": "87eea70d",
   "metadata": {},
   "outputs": [],
   "source": [
    "zonearray = np.ones((nlay, nrow, ncol), dtype=int)  ; zonearray[0, 10:, 7:] = 2 ; zonearray[0, 15:, 9:] = 3 ; zonearray[1] = 4"
   ]
  },
  {
   "cell_type": "code",
   "execution_count": 6,
   "id": "11549b36",
   "metadata": {},
   "outputs": [],
   "source": [
    "mfpackage = \"lpf\" ; parzones = [2, 3, 4] ; parvals = [56.777, 78.999, 99.0] ; lbound = 5 ; ubound = 500 ; transform = \"log\"\n",
    "plisthk = flopy.pest.zonearray2params(mfpackage, \"hk\", parzones, lbound, ubound, parvals, transform, zonearray)"
   ]
  },
  {
   "cell_type": "code",
   "execution_count": 7,
   "id": "b9289a8f",
   "metadata": {},
   "outputs": [],
   "source": [
    "parzones = [1, 2] ; parvals = [0.001, 0.0005] ; zonearray = np.ones((nlay, nrow, ncol), dtype=int) ; zonearray[1] = 2\n",
    "plistvk = flopy.pest.zonearray2params(mfpackage, \"vka\", parzones, lbound, ubound, parvals, transform, zonearray)"
   ]
  },
  {
   "cell_type": "code",
   "execution_count": 8,
   "id": "8c42ad19",
   "metadata": {},
   "outputs": [
    {
     "name": "stdout",
     "output_type": "stream",
     "text": [
      "hk_2 lpf 56.777\n",
      "hk_3 lpf 78.999\n",
      "hk_4 lpf 99.0\n",
      "vka_1 lpf 0.001\n",
      "vka_2 lpf 0.0005\n"
     ]
    }
   ],
   "source": [
    "plist = plisthk + plistvk\n",
    "for p in plist:  print(p.name, p.mfpackage, p.startvalue)"
   ]
  },
  {
   "cell_type": "code",
   "execution_count": 9,
   "id": "340ee465",
   "metadata": {},
   "outputs": [
    {
     "name": "stdout",
     "output_type": "stream",
     "text": [
      "The following packages will be parameterized: ['LPF']\n",
      "\n"
     ]
    }
   ],
   "source": [
    "tw = flopy.pest.templatewriter.TemplateWriter(mm, plist)   ; tw.write_template()"
   ]
  },
  {
   "cell_type": "markdown",
   "id": "bac183de-caa6-453d-b84c-faad0928e16b",
   "metadata": {},
   "source": [
    "**Two-Dimensional Transient Arrays** 'kper' key (list of stress periods) 'idx' key ( multiplier | iarray and jarray) "
   ]
  },
  {
   "cell_type": "code",
   "execution_count": 10,
   "id": "ceb95396",
   "metadata": {},
   "outputs": [],
   "source": [
    "nlay = 3 ; nrow = 5 ; ncol = 5 ; nper = 3\n",
    "mm = flopy.modflow.Modflow(modelname=modelname, model_ws=sim_ws)\n",
    "dis = flopy.modflow.ModflowDis(mm, nlay, nrow, ncol, nper=nper)\n",
    "lpf = flopy.modflow.ModflowLpf(mm, hk=10.0)\n",
    "rch = flopy.modflow.ModflowRch(mm, rech={0: 0.001, 2: 0.003})"
   ]
  },
  {
   "cell_type": "code",
   "execution_count": 11,
   "id": "4cc56ec5",
   "metadata": {},
   "outputs": [
    {
     "name": "stdout",
     "output_type": "stream",
     "text": [
      "The following packages will be parameterized: ['RCH']\n",
      "\n"
     ]
    }
   ],
   "source": [
    "plist = [] ;mfpackage = \"rch\" ;partype = \"rech\" ;parname = \"RECH_MULT\" ;startvalue=None ;lbound=None ;ubound=None ;transform=None ;idx=None\n",
    "span = {\"kpers\": [0, 1, 2], \"idx\": idx}   ; pp = flopy.pest.Params(mfpackage, partype, parname, startvalue, lbound, ubound, span) ; plist.append(pp)\n",
    "tw = flopy.pest.TemplateWriter(mm, plist) ; tw.write_template()"
   ]
  },
  {
   "cell_type": "code",
   "execution_count": 12,
   "id": "60017a27",
   "metadata": {},
   "outputs": [],
   "source": [
    "plist = [] ;mfpackage = \"rch\" ;partype = \"rech\" ;parname = \"RECH_MULT\" ;startvalue=None ;lbound=None ;ubound=None ;transform=None\n",
    "span = {\"kpers\": [1, 2], \"idx\": None}     ; pp = flopy.pest.Params(mfpackage, partype, parname, startvalue, lbound, ubound, span) ; plist.append(pp)"
   ]
  },
  {
   "cell_type": "code",
   "execution_count": 13,
   "id": "d5653b79",
   "metadata": {},
   "outputs": [],
   "source": [
    "plist = [] ;mfpackage = \"rch\" ;partype = \"rech\" ;parname = \"RECH_MULT\" ;startvalue=None ;lbound=None ;ubound=None ;transform=None\n",
    "idx = np.empty((nrow, ncol), dtype=bool)  ; idx[0:3, 0:3] = True  ; span = {\"kpers\": [1], \"idx\": idx}\n",
    "pp = flopy.pest.Params(mfpackage, partype, parname, startvalue, lbound, ubound, span)  ; plist.append(pp)"
   ]
  },
  {
   "cell_type": "code",
   "execution_count": 14,
   "id": "7724f133",
   "metadata": {},
   "outputs": [
    {
     "name": "stdout",
     "output_type": "stream",
     "text": [
      "The following packages will be parameterized: ['RCH']\n",
      "\n",
      "ptf ~\n",
      "# RCH package for MODFLOW-2005 generated by Flopy 3.9.1\n",
      "3         0\n",
      "1        -1 # Stress period 1\n",
      "CONSTANT    1.000000E-03                           #rech_1\n",
      "1        -1 # Stress period 2\n",
      "INTERNAL 1.0 (FREE) -1      #rech_1\n",
      "~  RECH_MULT  ~ ~  RECH_MULT  ~ ~  RECH_MULT  ~           0.001           0.001\n",
      "~  RECH_MULT  ~ ~  RECH_MULT  ~ ~  RECH_MULT  ~           0.001           0.001\n",
      "~  RECH_MULT  ~ ~  RECH_MULT  ~ ~  RECH_MULT  ~           0.001           0.001\n",
      "0.001           0.001           0.001           0.001           0.001\n",
      "0.001           0.001           0.001           0.001           0.001\n",
      "1        -1 # Stress period 3\n",
      "CONSTANT    3.000000E-03                           #rech_3\n"
     ]
    }
   ],
   "source": [
    "# Write the template file\n",
    "tw = flopy.pest.templatewriter.TemplateWriter(mm, plist)\n",
    "tw.write_template()\n",
    "\n",
    "# Print the results\n",
    "lines = open(os.path.join(sim_ws, \"PEST.rch.tpl\")).readlines()\n",
    "for l in lines:\n",
    "    print(l.strip())"
   ]
  },
  {
   "cell_type": "code",
   "execution_count": null,
   "id": "3dfa562c-6bf8-445b-abe9-b4fd1cc1e7e1",
   "metadata": {},
   "outputs": [],
   "source": []
  }
 ],
 "metadata": {
  "jupytext": {
   "notebook_metadata_filter": "metadata"
  },
  "kernelspec": {
   "display_name": "Python 3 (ipykernel)",
   "language": "python",
   "name": "python3"
  },
  "language_info": {
   "codemirror_mode": {
    "name": "ipython",
    "version": 3
   },
   "file_extension": ".py",
   "mimetype": "text/x-python",
   "name": "python",
   "nbconvert_exporter": "python",
   "pygments_lexer": "ipython3",
   "version": "3.12.7"
  },
  "metadata": {
   "section": "pest"
  }
 },
 "nbformat": 4,
 "nbformat_minor": 5
}
