{
 "cells": [
  {
   "cell_type": "markdown",
   "metadata": {},
   "source": [
    "### `MF5_1D` ___ Newton-Raphson MODFLOW-2005 unconfined ___ `*.exe at NEW BIN_FOLDER`"
   ]
  },
  {
   "cell_type": "code",
   "execution_count": 1,
   "metadata": {},
   "outputs": [],
   "source": [
    "import time\n",
    "start_time = time.time()\n",
    "import os, sys\n",
    "import numpy as np\n",
    "import pandas as pd\n",
    "import configparser\n",
    "import pyemu\n",
    "import matplotlib.pyplot as plt\n",
    "import inspect\n",
    "import shutil\n",
    "import flopy            # vs_code_dir = r\"D:\\Workspace\\projects\\mississippi\\pure_c_pestpp\\pestpp\""
   ]
  },
  {
   "cell_type": "code",
   "execution_count": 4,
   "metadata": {},
   "outputs": [
    {
     "ename": "PermissionError",
     "evalue": "[WinError 32] The process cannot access the file because it is being used by another process: '.\\\\Beta_02'",
     "output_type": "error",
     "traceback": [
      "\u001b[1;31m---------------------------------------------------------------------------\u001b[0m",
      "\u001b[1;31mPermissionError\u001b[0m                           Traceback (most recent call last)",
      "Cell \u001b[1;32mIn[4], line 6\u001b[0m\n\u001b[0;32m      4\u001b[0m     os\u001b[38;5;241m.\u001b[39mmkdir(template_ws)\n\u001b[0;32m      5\u001b[0m \u001b[38;5;28;01melse\u001b[39;00m:\n\u001b[1;32m----> 6\u001b[0m     \u001b[43mshutil\u001b[49m\u001b[38;5;241;43m.\u001b[39;49m\u001b[43mrmtree\u001b[49m\u001b[43m(\u001b[49m\u001b[43mtemplate_ws\u001b[49m\u001b[43m)\u001b[49m                           \u001b[38;5;66;03m# print(os.path.abspath(template_ws))\u001b[39;00m\n",
      "File \u001b[1;32m~\\anaconda3\\envs\\flopy\\Lib\\shutil.py:790\u001b[0m, in \u001b[0;36mrmtree\u001b[1;34m(path, ignore_errors, onerror, onexc, dir_fd)\u001b[0m\n\u001b[0;32m    788\u001b[0m     \u001b[38;5;66;03m# can't continue even if onexc hook returns\u001b[39;00m\n\u001b[0;32m    789\u001b[0m     \u001b[38;5;28;01mreturn\u001b[39;00m\n\u001b[1;32m--> 790\u001b[0m \u001b[38;5;28;01mreturn\u001b[39;00m \u001b[43m_rmtree_unsafe\u001b[49m\u001b[43m(\u001b[49m\u001b[43mpath\u001b[49m\u001b[43m,\u001b[49m\u001b[43m \u001b[49m\u001b[43monexc\u001b[49m\u001b[43m)\u001b[49m\n",
      "File \u001b[1;32m~\\anaconda3\\envs\\flopy\\Lib\\shutil.py:635\u001b[0m, in \u001b[0;36m_rmtree_unsafe\u001b[1;34m(path, onexc)\u001b[0m\n\u001b[0;32m    633\u001b[0m     \u001b[38;5;28;01mpass\u001b[39;00m\n\u001b[0;32m    634\u001b[0m \u001b[38;5;28;01mexcept\u001b[39;00m \u001b[38;5;167;01mOSError\u001b[39;00m \u001b[38;5;28;01mas\u001b[39;00m err:\n\u001b[1;32m--> 635\u001b[0m     \u001b[43monexc\u001b[49m\u001b[43m(\u001b[49m\u001b[43mos\u001b[49m\u001b[38;5;241;43m.\u001b[39;49m\u001b[43mrmdir\u001b[49m\u001b[43m,\u001b[49m\u001b[43m \u001b[49m\u001b[43mpath\u001b[49m\u001b[43m,\u001b[49m\u001b[43m \u001b[49m\u001b[43merr\u001b[49m\u001b[43m)\u001b[49m\n",
      "File \u001b[1;32m~\\anaconda3\\envs\\flopy\\Lib\\shutil.py:631\u001b[0m, in \u001b[0;36m_rmtree_unsafe\u001b[1;34m(path, onexc)\u001b[0m\n\u001b[0;32m    629\u001b[0m             onexc(os\u001b[38;5;241m.\u001b[39munlink, fullname, err)\n\u001b[0;32m    630\u001b[0m \u001b[38;5;28;01mtry\u001b[39;00m:\n\u001b[1;32m--> 631\u001b[0m     \u001b[43mos\u001b[49m\u001b[38;5;241;43m.\u001b[39;49m\u001b[43mrmdir\u001b[49m\u001b[43m(\u001b[49m\u001b[43mpath\u001b[49m\u001b[43m)\u001b[49m\n\u001b[0;32m    632\u001b[0m \u001b[38;5;28;01mexcept\u001b[39;00m \u001b[38;5;167;01mFileNotFoundError\u001b[39;00m:\n\u001b[0;32m    633\u001b[0m     \u001b[38;5;28;01mpass\u001b[39;00m\n",
      "\u001b[1;31mPermissionError\u001b[0m: [WinError 32] The process cannot access the file because it is being used by another process: '.\\\\Beta_02'"
     ]
    }
   ],
   "source": [
    "config = configparser.ConfigParser()                     \n",
    "template_ws = os.path.join(\".\",\"Beta_02\")       # NEW FOLDER\n",
    "if not(os.path.isdir(template_ws)):\n",
    "    os.mkdir(template_ws)\n",
    "else:\n",
    "    shutil.rmtree(template_ws)                           # print(os.path.abspath(template_ws))"
   ]
  },
  {
   "cell_type": "code",
   "execution_count": null,
   "metadata": {},
   "outputs": [],
   "source": [
    "from Beta_model_SETUP___01__ import generate_1d_model    # FROM 02_Beta_model_setup___01__ # generate_1d_model()"
   ]
  },
  {
   "cell_type": "code",
   "execution_count": 3,
   "metadata": {},
   "outputs": [
    {
     "ename": "FileNotFoundError",
     "evalue": "[WinError 3] The system cannot find the path specified: 'Beta_01_temp'",
     "output_type": "error",
     "traceback": [
      "\u001b[1;31m---------------------------------------------------------------------------\u001b[0m",
      "\u001b[1;31mFileNotFoundError\u001b[0m                         Traceback (most recent call last)",
      "Cell \u001b[1;32mIn[3], line 1\u001b[0m\n\u001b[1;32m----> 1\u001b[0m \u001b[43mshutil\u001b[49m\u001b[38;5;241;43m.\u001b[39;49m\u001b[43mcopytree\u001b[49m\u001b[43m(\u001b[49m\u001b[38;5;124;43m'\u001b[39;49m\u001b[38;5;124;43mBeta_01_temp\u001b[39;49m\u001b[38;5;124;43m'\u001b[39;49m\u001b[43m,\u001b[49m\u001b[43m \u001b[49m\u001b[43mos\u001b[49m\u001b[38;5;241;43m.\u001b[39;49m\u001b[43mpath\u001b[49m\u001b[38;5;241;43m.\u001b[39;49m\u001b[43mjoin\u001b[49m\u001b[43m(\u001b[49m\u001b[43mtemplate_ws\u001b[49m\u001b[43m,\u001b[49m\u001b[43m \u001b[49m\u001b[38;5;124;43m'\u001b[39;49m\u001b[38;5;124;43mBeta_03\u001b[39;49m\u001b[38;5;124;43m'\u001b[39;49m\u001b[43m)\u001b[49m\u001b[43m)\u001b[49m\n\u001b[0;32m      2\u001b[0m shutil\u001b[38;5;241m.\u001b[39mrmtree(\u001b[38;5;124m'\u001b[39m\u001b[38;5;124mBeta_01_temp\u001b[39m\u001b[38;5;124m'\u001b[39m)     \n",
      "File \u001b[1;32m~\\anaconda3\\envs\\flopy\\Lib\\shutil.py:591\u001b[0m, in \u001b[0;36mcopytree\u001b[1;34m(src, dst, symlinks, ignore, copy_function, ignore_dangling_symlinks, dirs_exist_ok)\u001b[0m\n\u001b[0;32m    552\u001b[0m \u001b[38;5;250m\u001b[39m\u001b[38;5;124;03m\"\"\"Recursively copy a directory tree and return the destination directory.\u001b[39;00m\n\u001b[0;32m    553\u001b[0m \n\u001b[0;32m    554\u001b[0m \u001b[38;5;124;03mIf exception(s) occur, an Error is raised with a list of reasons.\u001b[39;00m\n\u001b[1;32m   (...)\u001b[0m\n\u001b[0;32m    588\u001b[0m \u001b[38;5;124;03m`src` tree.\u001b[39;00m\n\u001b[0;32m    589\u001b[0m \u001b[38;5;124;03m\"\"\"\u001b[39;00m\n\u001b[0;32m    590\u001b[0m sys\u001b[38;5;241m.\u001b[39maudit(\u001b[38;5;124m\"\u001b[39m\u001b[38;5;124mshutil.copytree\u001b[39m\u001b[38;5;124m\"\u001b[39m, src, dst)\n\u001b[1;32m--> 591\u001b[0m \u001b[38;5;28;01mwith\u001b[39;00m \u001b[43mos\u001b[49m\u001b[38;5;241;43m.\u001b[39;49m\u001b[43mscandir\u001b[49m\u001b[43m(\u001b[49m\u001b[43msrc\u001b[49m\u001b[43m)\u001b[49m \u001b[38;5;28;01mas\u001b[39;00m itr:\n\u001b[0;32m    592\u001b[0m     entries \u001b[38;5;241m=\u001b[39m \u001b[38;5;28mlist\u001b[39m(itr)\n\u001b[0;32m    593\u001b[0m \u001b[38;5;28;01mreturn\u001b[39;00m _copytree(entries\u001b[38;5;241m=\u001b[39mentries, src\u001b[38;5;241m=\u001b[39msrc, dst\u001b[38;5;241m=\u001b[39mdst, symlinks\u001b[38;5;241m=\u001b[39msymlinks,\n\u001b[0;32m    594\u001b[0m                  ignore\u001b[38;5;241m=\u001b[39mignore, copy_function\u001b[38;5;241m=\u001b[39mcopy_function,\n\u001b[0;32m    595\u001b[0m                  ignore_dangling_symlinks\u001b[38;5;241m=\u001b[39mignore_dangling_symlinks,\n\u001b[0;32m    596\u001b[0m                  dirs_exist_ok\u001b[38;5;241m=\u001b[39mdirs_exist_ok)\n",
      "\u001b[1;31mFileNotFoundError\u001b[0m: [WinError 3] The system cannot find the path specified: 'Beta_01_temp'"
     ]
    }
   ],
   "source": [
    "shutil.copytree('Beta_01_temp', os.path.join(template_ws, 'Beta_03'))\n",
    "shutil.rmtree('Beta_01_temp')     "
   ]
  },
  {
   "cell_type": "code",
   "execution_count": 15,
   "metadata": {},
   "outputs": [],
   "source": [
    "fnam = os.path.join(template_ws, r'Beta_03\\flow_1d.nam')\n",
    "mf = flopy.modflow.Modflow.load(os.path.basename(fnam), model_ws= os.path.dirname(fnam))          \n",
    "#fig = plt.figure(figsize=(10, 3))                                                             # Figure\n",
    "#ax = fig.add_subplot(1, 1, 1)\n",
    "#xsect = flopy.plot.PlotCrossSection(model=mf, line={'Row': 0})\n",
    "#linecollection = xsect.plot_grid()\n",
    "#t = ax.set_title('Cross-Section - Model Grid')                                                # r\"..\\bin\\win\\mfnwt.exe"
   ]
  },
  {
   "cell_type": "code",
   "execution_count": 18,
   "metadata": {},
   "outputs": [],
   "source": [
    "np.random.seed(42)\n",
    "corr_scale = 50\n",
    "nx, ny = mf.nrow, mf.ncol   # cells, \n",
    "N = 50                      # realizations \n",
    "m = 5                       # measurements \n",
    "refence_realization = 4\n",
    "delc = mf.dis.delc.array\n",
    "delr = mf.dis.delr.array\n",
    "sr = pyemu.helpers.SpatialReference(delr=delr, delc=delc )           # GRID \n",
    "\n",
    "inputx = np.zeros_like(delr)       # delr = Lx / ncol                # delc = Ly / nrow\n",
    "inputx = inputx[np.newaxis, :]      \n",
    "np.savetxt(os.path.join(template_ws, 'inputx.dat'), inputx)          # np\n",
    "\n",
    "df_index = pd.DataFrame()\n",
    "yi = np.linspace(2,ny-2,m) \n",
    "df_index['idx'] = yi\n",
    "df_index.to_csv(os.path.join(template_ws, 'index.csv'))"
   ]
  },
  {
   "cell_type": "code",
   "execution_count": 19,
   "metadata": {},
   "outputs": [
    {
     "ename": "NameError",
     "evalue": "name 'script' is not defined",
     "output_type": "error",
     "traceback": [
      "\u001b[1;31m---------------------------------------------------------------------------\u001b[0m",
      "\u001b[1;31mNameError\u001b[0m                                 Traceback (most recent call last)",
      "Cell \u001b[1;32mIn[19], line 2\u001b[0m\n\u001b[0;32m      1\u001b[0m \u001b[38;5;28;01mwith\u001b[39;00m \u001b[38;5;28mopen\u001b[39m(os\u001b[38;5;241m.\u001b[39mpath\u001b[38;5;241m.\u001b[39mjoin(template_ws, \u001b[38;5;124mr\u001b[39m\u001b[38;5;124m\"\u001b[39m\u001b[38;5;124mforward_model.py\u001b[39m\u001b[38;5;124m\"\u001b[39m), \u001b[38;5;124m'\u001b[39m\u001b[38;5;124mw\u001b[39m\u001b[38;5;124m'\u001b[39m) \u001b[38;5;28;01mas\u001b[39;00m fidw:\n\u001b[1;32m----> 2\u001b[0m     fidw\u001b[38;5;241m.\u001b[39mwrite(\u001b[43mscript\u001b[49m)\n",
      "\u001b[1;31mNameError\u001b[0m: name 'script' is not defined"
     ]
    }
   ],
   "source": [
    "with open(os.path.join(template_ws, r\"forward_model.py\"), 'w') as fidw:\n",
    "    fidw.write(script)"
   ]
  },
  {
   "cell_type": "code",
   "execution_count": null,
   "metadata": {},
   "outputs": [],
   "source": [
    "from Beta_model_SETUP___01__ import generate_1d_model"
   ]
  },
  {
   "cell_type": "code",
   "execution_count": null,
   "metadata": {},
   "outputs": [],
   "source": []
  },
  {
   "cell_type": "code",
   "execution_count": null,
   "metadata": {},
   "outputs": [],
   "source": []
  },
  {
   "cell_type": "code",
   "execution_count": null,
   "metadata": {},
   "outputs": [],
   "source": [
    "base_folder = os.getcwd()\n",
    "os.chdir(template_ws)\n",
    "cmd = sys.executable\n",
    "cmd = cmd + \" \" + \"forward_model.py\"\n",
    "os.system(cmd)\n",
    "os.chdir(base_folder)"
   ]
  },
  {
   "cell_type": "markdown",
   "metadata": {},
   "source": [
    "# PstFrom to setup the problem."
   ]
  },
  {
   "cell_type": "code",
   "execution_count": null,
   "metadata": {},
   "outputs": [],
   "source": [
    "# Generate a pf object\n",
    "new_d =  os.path.join(\".\", \"new_\"+os.path.basename(template_ws))\n",
    "pf = pyemu.utils.PstFrom(original_d=template_ws, new_d=new_d,\n",
    "                 remove_existing=True,\n",
    "                 longnames=True, spatial_reference=sr,\n",
    "                 zero_based=False,start_datetime=\"1-1-2018\", multi_threads = False)"
   ]
  },
  {
   "cell_type": "code",
   "execution_count": null,
   "metadata": {},
   "outputs": [],
   "source": [
    "# add input file that contains parameters\n",
    "par_fn = 'inputx.dat'\n",
    "par_name_base = 'kx'\n",
    "pargp = 'KH'\n",
    "\n",
    "v = pyemu.utils.geostats.ExpVario(a=corr_scale,contribution=1.0)\n",
    "grid_gs = pyemu.utils.geostats.GeoStruct(variograms=v,nugget=0.0)\n",
    "\n",
    "pf.add_parameters(filenames=par_fn, par_type=\"grid\",\n",
    "                  par_name_base=par_name_base, pargp=pargp,\n",
    "                  upper_bound=5., lower_bound=-5, ult_ubound=3.0, ult_lbound=-3,\n",
    "                  geostruct=grid_gs, transform='none', par_style='direct')"
   ]
  },
  {
   "cell_type": "code",
   "execution_count": null,
   "metadata": {},
   "outputs": [],
   "source": [
    "output_file = r'heads_out.csv'\n",
    "df_out = pd.read_csv(os.path.join(new_d, output_file), index_col=0)\n",
    "ins_file =output_file + \".ins\"\n",
    "obs_prefix = 'h' ## Note: using capital letter will cause issues\n",
    "obsgp = 'heads'\n",
    "hds_df = pf.add_observations(output_file,insfile=ins_file,index_cols=\"id\",\n",
    "                    use_cols=list(df_out.columns),prefix=obs_prefix, obsgp = obsgp, ofile_sep = \",\")\n"
   ]
  },
  {
   "cell_type": "code",
   "execution_count": null,
   "metadata": {},
   "outputs": [],
   "source": [
    "pf.mod_sys_cmds.append(cmd)\n",
    "pst = pf.build_pst(version=2)\n",
    "\n",
    "pe = pf.draw(num_reals=N, sigma_range= 10, use_specsim=True)\n",
    "pe.to_csv(os.path.join(new_d, 'HKensemble.csv'))\n",
    "## Select one realization to represent the unknown truth (the actual reference field). From this truth realization choose observations.\n",
    "x_true = pe._df.iloc[refence_realization].values"
   ]
  },
  {
   "cell_type": "code",
   "execution_count": null,
   "metadata": {},
   "outputs": [],
   "source": []
  },
  {
   "cell_type": "code",
   "execution_count": null,
   "metadata": {},
   "outputs": [],
   "source": [
    "plt.figure()\n",
    "plt.plot(pe._df.T.values)\n",
    "plt.show()\n",
    "\n",
    "ens =  pe._df.values.T\n",
    "y_ref = ens[:, refence_realization]\n",
    "y_index = df_index['idx'].astype(int).values # measurement index\n",
    "\n",
    "print(y_ref[y_index])\n",
    "print(y_index)\n",
    "\n",
    "plt.figure()\n",
    "plt.plot(ens, color = [0.7,0.7,0.7], zorder=1)\n",
    "plt.plot(ens[:,refence_realization])\n",
    "plt.scatter(y_index, y_ref[y_index], color = 'r', zorder = 2)\n",
    "plt.show()"
   ]
  },
  {
   "cell_type": "code",
   "execution_count": null,
   "metadata": {},
   "outputs": [],
   "source": [
    "# this a synthatic problem, so we need observations. The observation is generated from the reference realization\n",
    "inputx = y_ref + np.zeros_like(delr)\n",
    "inputx = inputx[np.newaxis, :]\n",
    "np.savetxt(os.path.join(template_ws, 'inputx.dat'), inputx)"
   ]
  },
  {
   "cell_type": "code",
   "execution_count": null,
   "metadata": {},
   "outputs": [],
   "source": [
    "# run the model using the synthatic realization\n",
    "base_folder = os.getcwd()\n",
    "os.chdir(template_ws)\n",
    "cmd = sys.executable\n",
    "cmd = cmd + \" \" + \"forward_model.py\"\n",
    "os.system(cmd)\n",
    "os.chdir(base_folder)"
   ]
  },
  {
   "cell_type": "code",
   "execution_count": null,
   "metadata": {},
   "outputs": [],
   "source": [
    "# read output\n",
    "df_obs = pd.read_csv(os.path.join(template_ws,'heads_out.csv'))\n",
    "df_obs"
   ]
  },
  {
   "cell_type": "code",
   "execution_count": null,
   "metadata": {},
   "outputs": [],
   "source": [
    "## use observation from the refernce\n",
    "pst.observation_data['obsval'] = df_obs['y'].values\n",
    "pst.observation_data['weight'] = 1000 # this is 1/std\n",
    "pst.observation_data['cycle'] = 0 # ensemble smoother\n",
    "#pst.observation_data['state_par_link']\n",
    "\n",
    "pst.parameter_data['cycle'] = 0\n",
    "pst.parameter_data['parchglim'] = 'relative'\n",
    "pst.model_input_data['cycle'] = 0\n",
    "pst.model_output_data['cycle'] = 0\n",
    "\n",
    "pst.svd_data.eigthresh =  1e-5\n",
    "pst.pestpp_options['da_add_base']= False\n",
    "pst.pestpp_options['da_parameter_ensemble']= 'HKensemble.csv'\n",
    "#pst.pestpp_options['DA_SUBSET_SIZE'] = 50\n",
    "pst.pestpp_options['da_num_reals'] = N\n",
    "pst.pestpp_options['ies_init_lam'] = [1]\n",
    "pst.pestpp_options['ies_lambda_mults'] = 1\n",
    "pst.pestpp_options['lambda_scale_fac'] = 1\n",
    "pst.control_data.noptmax = 1"
   ]
  },
  {
   "cell_type": "code",
   "execution_count": null,
   "metadata": {},
   "outputs": [],
   "source": [
    "pst.model_command[0] = pst.model_command[0].replace('python', sys.executable)\n",
    "pst.write(os.path.abspath(pf.pst.filename), version=2)"
   ]
  },
  {
   "cell_type": "markdown",
   "metadata": {},
   "source": [
    "## Important check locations of ins and templpe"
   ]
  },
  {
   "cell_type": "code",
   "execution_count": null,
   "metadata": {},
   "outputs": [],
   "source": [
    "shutil.copy2(os.path.join(vs_code_dir,\"exe\",\"windows\",\"x64\",\"Debug\",\"pestpp-da.exe\"),os.path.join(new_d,\"pestpp-da.exe\"))"
   ]
  },
  {
   "cell_type": "code",
   "execution_count": null,
   "metadata": {
    "scrolled": true
   },
   "outputs": [],
   "source": [
    "import subprocess\n",
    "base_folder = os.getcwd()\n",
    "os.chdir(new_d)\n",
    "argv = [\"pestpp-da.exe\", os.path.basename(pf.pst.filename)]\n",
    "def run_command(cmd):\n",
    "    with subprocess.Popen(cmd, stdout=subprocess.PIPE, bufsize=1, universal_newlines=True) as p:\n",
    "        while True:\n",
    "            line = p.stdout.readline()\n",
    "            if not line:\n",
    "                break\n",
    "            print(line)    \n",
    "        exit_code = p.poll()\n",
    "    return exit_code\n",
    "\n",
    "\n",
    "run_command(argv)\n",
    "\n",
    "os.chdir(base_folder)"
   ]
  },
  {
   "cell_type": "code",
   "execution_count": null,
   "metadata": {},
   "outputs": [],
   "source": [
    "posterior_par = pd.read_csv(os.path.join(new_d, template_ws+\".global.0.pe.csv\"))\n",
    "fig = plt.figure()\n",
    "ax = fig.add_subplot(1,1,1)\n",
    "ax.plot(ens, color = [0.7,0.7,0.7], zorder=1, label = 'Prior K')\n",
    "handles, labels = ax.get_legend_handles_labels()\n",
    "display = []\n",
    "display.append(len(labels))\n",
    "\n",
    "ax.plot(ens[:,refence_realization], 'g', zorder = 3)\n",
    "handles, labels = ax.get_legend_handles_labels()\n",
    "display.append(len(labels))\n",
    "\n",
    "ax.scatter(y_index, y_ref[y_index], color = 'r', zorder = 3)\n",
    "handles, labels = ax.get_legend_handles_labels()\n",
    "display.append(display[-1] + len(labels))\n",
    "\n",
    "del(posterior_par['real_name'])\n",
    "ax.plot(posterior_par.values.T, color = 'b', label = 'Posterior K')\n",
    "handles, labels = ax.get_legend_handles_labels()\n",
    "display.append(display[-1] + len(labels))\n",
    "\n",
    "ax.legend([handle for i,handle in enumerate(handles) if i in display],\n",
    "      [label for i,label in enumerate(labels) if i in display], loc = 'best')\n"
   ]
  },
  {
   "cell_type": "code",
   "execution_count": null,
   "metadata": {},
   "outputs": [],
   "source": [
    "## Try more iterations for "
   ]
  },
  {
   "cell_type": "code",
   "execution_count": null,
   "metadata": {},
   "outputs": [],
   "source": [
    "pst.pestpp_options['da_num_reals'] = N\n",
    "pst.pestpp_options['DA_SUBSET_SIZE'] = 10\n",
    "pst.pestpp_options['ies_init_lam'] = [10]\n",
    "pst.pestpp_options['ies_lambda_mults'] = [0.1, 1, 10]\n",
    "pst.pestpp_options['lambda_scale_fac'] = 1\n",
    "pst.control_data.noptmax = 5 # number of iterations\n",
    "pst.write(os.path.abspath(pf.pst.filename), version=2)"
   ]
  },
  {
   "cell_type": "code",
   "execution_count": null,
   "metadata": {
    "scrolled": true
   },
   "outputs": [],
   "source": [
    "import subprocess\n",
    "base_folder = os.getcwd()\n",
    "os.chdir(new_d)\n",
    "argv = [\"pestpp-da.exe\", os.path.basename(pf.pst.filename)]\n",
    "def run_command(cmd):\n",
    "    with subprocess.Popen(cmd, stdout=subprocess.PIPE, bufsize=1, universal_newlines=True) as p:\n",
    "        while True:\n",
    "            line = p.stdout.readline()\n",
    "            if not line:\n",
    "                break\n",
    "            print(line)    \n",
    "        exit_code = p.poll()\n",
    "    return exit_code\n",
    "\n",
    "\n",
    "run_command(argv)\n",
    "\n",
    "os.chdir(base_folder)"
   ]
  },
  {
   "cell_type": "code",
   "execution_count": null,
   "metadata": {},
   "outputs": [],
   "source": [
    "posterior_par = pd.read_csv(os.path.join(new_d, template_ws+\".global.0.pe.csv\"))\n",
    "fig = plt.figure()\n",
    "ax = fig.add_subplot(1,1,1)\n",
    "ax.plot(ens, color = [0.7,0.7,0.7], zorder=1, label = 'Prior K')\n",
    "handles, labels = ax.get_legend_handles_labels()\n",
    "display = []\n",
    "display.append(len(labels))\n",
    "\n",
    "ax.plot(ens[:,refence_realization], 'g', zorder = 3)\n",
    "handles, labels = ax.get_legend_handles_labels()\n",
    "display.append(len(labels))\n",
    "\n",
    "ax.scatter(y_index, y_ref[y_index], color = 'r', zorder = 3)\n",
    "handles, labels = ax.get_legend_handles_labels()\n",
    "display.append(display[-1] + len(labels))\n",
    "\n",
    "del(posterior_par['real_name'])\n",
    "ax.plot(posterior_par.values.T, color = 'b', label = 'Posterior K')\n",
    "handles, labels = ax.get_legend_handles_labels()\n",
    "display.append(display[-1] + len(labels))\n",
    "\n",
    "ax.legend([handle for i,handle in enumerate(handles) if i in display],\n",
    "      [label for i,label in enumerate(labels) if i in display], loc = 'best')"
   ]
  },
  {
   "cell_type": "code",
   "execution_count": null,
   "metadata": {},
   "outputs": [],
   "source": [
    "sys.path.append(r\"..\")\n",
    "import rec_util \n",
    "import rec_util\n",
    "ws = r\"D:\\Workspace\\projects\\mississippi\\manuscripts\\pestppda_paper\\notebooks\\one_dim_flow\\new_od_flow_template\"\n",
    "fname = r\"od_flow_template.rec\"\n",
    "\n",
    "fname = os.path.join(ws, fname)\n",
    "rec = rec_util.RecFile(fname= os.path.join(new_d, template_ws+\".rec\"))\n",
    "\n"
   ]
  },
  {
   "cell_type": "code",
   "execution_count": null,
   "metadata": {},
   "outputs": [],
   "source": []
  }
 ],
 "metadata": {
  "kernelspec": {
   "display_name": "Python 3 (ipykernel)",
   "language": "python",
   "name": "python3"
  },
  "language_info": {
   "codemirror_mode": {
    "name": "ipython",
    "version": 3
   },
   "file_extension": ".py",
   "mimetype": "text/x-python",
   "name": "python",
   "nbconvert_exporter": "python",
   "pygments_lexer": "ipython3",
   "version": "3.13.1"
  }
 },
 "nbformat": 4,
 "nbformat_minor": 4
}
