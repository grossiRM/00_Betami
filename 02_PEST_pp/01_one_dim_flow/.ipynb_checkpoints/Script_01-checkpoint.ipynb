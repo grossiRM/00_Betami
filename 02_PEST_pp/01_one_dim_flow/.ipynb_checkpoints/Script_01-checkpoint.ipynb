{
 "cells": [
  {
   "cell_type": "markdown",
   "id": "89b20247-1c03-4f45-a1eb-5294f940fdc9",
   "metadata": {},
   "source": [
    "### **script_01_generate_1d_model**"
   ]
  },
  {
   "cell_type": "code",
   "execution_count": 1,
   "id": "83200e3c-ce11-48cb-b428-4d5f1eaab942",
   "metadata": {},
   "outputs": [],
   "source": [
    "import os, sys ; import shutil ; import numpy as np ; import flopy ; import matplotlib.pyplot as plt"
   ]
  },
  {
   "cell_type": "code",
   "execution_count": 2,
   "id": "67c8ad08-e0a2-4180-9bad-0de48bcf0760",
   "metadata": {},
   "outputs": [
    {
     "name": "stdout",
     "output_type": "stream",
     "text": [
      "FloPy is using the following executable to run the model: ..\\..\\..\\bin\\mfnwt.exe\n",
      "\n",
      "                                  MODFLOW-NWT-SWR1 \n",
      "    U.S. GEOLOGICAL SURVEY MODULAR FINITE-DIFFERENCE GROUNDWATER-FLOW MODEL\n",
      "                             WITH NEWTON FORMULATION\n",
      "                             Version 1.0.9 07/01/2014                        \n",
      "                    BASED ON MODFLOW-2005 Version 1.11.0 08/08/2013                       \n",
      "\n",
      "                    SWR1 Version 1.03.0 08/30/2013                       \n",
      "\n",
      " Using NAME file: flow_1d.nam \n",
      " Run start date and time (yyyy/mm/dd hh:mm:ss): 2025/02/15 10:01:34\n",
      "\n",
      " Solving:  Stress period:     1    Time step:     1    Groundwater-Flow Eqn.\n",
      " Run end date and time (yyyy/mm/dd hh:mm:ss): 2025/02/15 10:01:34\n",
      " Elapsed run time:  0.008 Seconds\n",
      "\n",
      "  Normal termination of simulation\n"
     ]
    },
    {
     "data": {
      "image/png": "[encoded data removed]",
      "text/plain": [
       "<Figure size 640x480 with 1 Axes>"
      ]
     },
     "metadata": {},
     "output_type": "display_data"
    }
   ],
   "source": [
    "def generate_1d_model():\n",
    "    modelname = \"flow_1d\"\n",
    "    model_ws = r\"output_01\"                                                                 # ______ WorkSpace\n",
    "    if model_ws in os.listdir(os.getcwd()):\n",
    "        shutil.rmtree(os.path.join(os.getcwd(), model_ws))\n",
    "    os.mkdir(model_ws)\n",
    "    exe = 'E:\\\\15_REPOS\\\\00_BETAMI\\\\bin\\\\mfnwt.exe'                                          # ______ *.exe\n",
    "    shutil.copy(src=exe, dst=os.path.join(model_ws, os.path.basename(exe)))\n",
    "    \n",
    "    mf = flopy.modflow.Modflow(modelname, model_ws=model_ws,exe_name = os.path.abspath(exe),version='mfnwt')                                     \n",
    "    \n",
    "    Lx = 100.0\n",
    "    Ly = 1.0\n",
    "    ztop = 0.0\n",
    "    zbot = -50.0\n",
    "    nlay = 1\n",
    "    nrow = 1\n",
    "    ncol = 100\n",
    "    delr = Lx / ncol\n",
    "    delc = Ly / nrow\n",
    "    delv = (ztop - zbot) / nlay\n",
    "    botm = np.linspace(ztop, zbot, nlay + 1)\n",
    "\n",
    "    dis = flopy.modflow.ModflowDis(mf, nlay, nrow, ncol, delr=delr, delc=delc, top=ztop, botm=botm[1:])           # DIS\n",
    "    ibound = np.ones((nlay, nrow, ncol), dtype=np.int32)              # iBound\n",
    "    strt   = np.ones((nlay, nrow, ncol), dtype=np.float32)              ;     strt[:, :, :] = -10.0\n",
    "    bas    = flopy.modflow.ModflowBas(mf, ibound=ibound, strt=strt)                                                  \n",
    "    laytyp = np.ones(nlay) ;     laywet = np.zeros(nlay)   ;     hk = np.zeros_like(bas.strt.array) + 10.0\n",
    "    \n",
    "    flopy.modflow.mfupw.ModflowUpw(mf, laytyp=laytyp, layavg=0, chani=1.0, layvka=0,laywet=laywet, hdry=-1e+30, \n",
    "                                   iphdry=0, hk=hk, hani=1.0, vka=hk, vkcb=0.0, noparcheck=False, ipakcb = 55)\n",
    "    \n",
    "    ghb_data = []                          # [lay, row, col,head,cond]\n",
    "    ghb_data.append([0,0,0,-10,15])\n",
    "    ghb_data.append([0,0,ncol-1, -15,15])\n",
    "    ghb_stress_per = {}\n",
    "    ghb_stress_per[0] = ghb_data\n",
    "    ghbs = flopy.modflow.mfghb.ModflowGhb(mf, ipakcb=55, \n",
    "                                          stress_period_data=ghb_stress_per,\n",
    "                                          dtype=None, no_print=False, options=None, extension='ghb')\n",
    "    \n",
    "    spd = {(0, 0): [\"print head\", \"print budget\", \"save head\", \"save budget\"]}\n",
    "    oc = flopy.modflow.ModflowOc(mf, stress_period_data=spd, compact=True)                     # Oc\n",
    "\n",
    "    nwt = flopy.modflow.mfnwt.ModflowNwt.load('E:\\\\15_REPOS\\\\00_BETAMI\\\\bin\\\\solver_options.nwt',mf)           # Solver\n",
    "    mf.write_input()\n",
    "    success, buff = mf.run_model()\n",
    "    \n",
    "    if not success:\n",
    "        raise Exception(\"MODFLOW did not terminate normally.\")\n",
    "\n",
    "    hds = flopy.utils.HeadFile(os.path.join(model_ws,modelname+\".hds\"))                        # Post processing\n",
    "    wl = hds.get_data(totim = 1.0)\n",
    "    plt.plot(wl[0][0])\n",
    "    \n",
    "if __name__ == \"__main__\":\n",
    "    generate_1d_model()"
   ]
  },
  {
   "cell_type": "code",
   "execution_count": null,
   "id": "f7310e13",
   "metadata": {},
   "outputs": [],
   "source": [
    "!jupyter nbconvert --to script a_Beta_Script_01.ipynb"
   ]
  },
  {
   "cell_type": "code",
   "execution_count": null,
   "id": "219258bd-b621-4939-9199-82c7108a55c3",
   "metadata": {},
   "outputs": [],
   "source": [
    "shutil.copyfile  (\"E:\\\\15_REPOS\\\\00_BETAMI\\\\bin\\\\solver_options.nwt\", \"output_01\\\\solver_options.nwt\")\n",
    "shutil.move      (\"a_Beta_Script_01.py\", \"output_01\\\\a_Beta_Script_01.py\")\n",
    "os.remove        ('output_01\\\\mfnwt.exe')"
   ]
  }
 ],
 "metadata": {
  "kernelspec": {
   "display_name": "Python 3 (ipykernel)",
   "language": "python",
   "name": "python3"
  },
  "language_info": {
   "codemirror_mode": {
    "name": "ipython",
    "version": 3
   },
   "file_extension": ".py",
   "mimetype": "text/x-python",
   "name": "python",
   "nbconvert_exporter": "python",
   "pygments_lexer": "ipython3",
   "version": "3.12.7"
  }
 },
 "nbformat": 4,
 "nbformat_minor": 5
}
