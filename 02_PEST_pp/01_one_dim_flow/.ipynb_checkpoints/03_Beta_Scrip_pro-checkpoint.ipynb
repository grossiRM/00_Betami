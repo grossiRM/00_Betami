{
 "cells": [
  {
   "cell_type": "code",
   "execution_count": 1,
   "id": "73810278",
   "metadata": {},
   "outputs": [],
   "source": [
    "import os, sys\n",
    "import numpy as np\n",
    "import pandas as pd\n",
    "import flopy"
   ]
  },
  {
   "cell_type": "code",
   "execution_count": 11,
   "id": "15bf42f0",
   "metadata": {},
   "outputs": [
    {
     "ename": "FileNotFoundError",
     "evalue": "cannot find name file: E:\\15_REPOS\\00_BETAMI\\04_PEST_pp________On_the_run-01\\benchmarks\\01_one_dim_flow\\Beta_03\\flow_1d.nam",
     "output_type": "error",
     "traceback": [
      "\u001b[1;31m---------------------------------------------------------------------------\u001b[0m",
      "\u001b[1;31mFileNotFoundError\u001b[0m                         Traceback (most recent call last)",
      "Cell \u001b[1;32mIn[11], line 36\u001b[0m\n\u001b[0;32m     33\u001b[0m     out\u001b[38;5;241m.\u001b[39mto_csv(\u001b[38;5;124m'\u001b[39m\u001b[38;5;124mheads_out.csv\u001b[39m\u001b[38;5;124m'\u001b[39m, index_label \u001b[38;5;241m=\u001b[39m \u001b[38;5;124m'\u001b[39m\u001b[38;5;124mid\u001b[39m\u001b[38;5;124m'\u001b[39m)             \u001b[38;5;66;03m# write model output\u001b[39;00m\n\u001b[0;32m     35\u001b[0m \u001b[38;5;28;01mif\u001b[39;00m \u001b[38;5;18m__name__\u001b[39m \u001b[38;5;241m==\u001b[39m \u001b[38;5;124m\"\u001b[39m\u001b[38;5;124m__main__\u001b[39m\u001b[38;5;124m\"\u001b[39m:\n\u001b[1;32m---> 36\u001b[0m     \u001b[43mforward_model\u001b[49m\u001b[43m(\u001b[49m\u001b[43m)\u001b[49m\n",
      "Cell \u001b[1;32mIn[11], line 13\u001b[0m, in \u001b[0;36mforward_model\u001b[1;34m()\u001b[0m\n\u001b[0;32m     11\u001b[0m x \u001b[38;5;241m=\u001b[39m np\u001b[38;5;241m.\u001b[39mloadtxt(\u001b[38;5;124m'\u001b[39m\u001b[38;5;124m./beta_02/inputx.dat\u001b[39m\u001b[38;5;124m'\u001b[39m)\n\u001b[0;32m     12\u001b[0m x \u001b[38;5;241m=\u001b[39m np\u001b[38;5;241m.\u001b[39mpower(\u001b[38;5;241m10.0\u001b[39m, x)\n\u001b[1;32m---> 13\u001b[0m mf \u001b[38;5;241m=\u001b[39m \u001b[43mflopy\u001b[49m\u001b[38;5;241;43m.\u001b[39;49m\u001b[43mmodflow\u001b[49m\u001b[38;5;241;43m.\u001b[39;49m\u001b[43mModflow\u001b[49m\u001b[38;5;241;43m.\u001b[39;49m\u001b[43mload\u001b[49m\u001b[43m(\u001b[49m\u001b[38;5;124;43mr\u001b[39;49m\u001b[38;5;124;43m'\u001b[39;49m\u001b[38;5;124;43mflow_1d.nam\u001b[39;49m\u001b[38;5;124;43m'\u001b[39;49m\u001b[43m,\u001b[49m\u001b[43m \u001b[49m\u001b[43mmodel_ws\u001b[49m\u001b[43m \u001b[49m\u001b[38;5;241;43m=\u001b[39;49m\u001b[43m \u001b[49m\u001b[38;5;124;43m'\u001b[39;49m\u001b[38;5;124;43mBeta_03\u001b[39;49m\u001b[38;5;124;43m'\u001b[39;49m\u001b[43m \u001b[49m\u001b[43m)\u001b[49m\n\u001b[0;32m     15\u001b[0m hk \u001b[38;5;241m=\u001b[39m mf\u001b[38;5;241m.\u001b[39mupw\u001b[38;5;241m.\u001b[39mhk\u001b[38;5;241m.\u001b[39marray\u001b[38;5;241m.\u001b[39mcopy()\n\u001b[0;32m     16\u001b[0m hk \u001b[38;5;241m=\u001b[39m x[np\u001b[38;5;241m.\u001b[39mnewaxis, np\u001b[38;5;241m.\u001b[39mnewaxis, :]\n",
      "File \u001b[1;32m~\\anaconda3\\envs\\flopy\\Lib\\site-packages\\flopy\\modflow\\mf.py:695\u001b[0m, in \u001b[0;36mModflow.load\u001b[1;34m(cls, f, version, exe_name, verbose, model_ws, load_only, forgive, check)\u001b[0m\n\u001b[0;32m    693\u001b[0m     namefile_path \u001b[38;5;241m=\u001b[39m namefile_path_sfx\n\u001b[0;32m    694\u001b[0m \u001b[38;5;28;01mif\u001b[39;00m \u001b[38;5;129;01mnot\u001b[39;00m namefile_path\u001b[38;5;241m.\u001b[39mis_file():\n\u001b[1;32m--> 695\u001b[0m     \u001b[38;5;28;01mraise\u001b[39;00m \u001b[38;5;167;01mFileNotFoundError\u001b[39;00m(\u001b[38;5;124mf\u001b[39m\u001b[38;5;124m\"\u001b[39m\u001b[38;5;124mcannot find name file: \u001b[39m\u001b[38;5;132;01m{\u001b[39;00mnamefile_path\u001b[38;5;132;01m}\u001b[39;00m\u001b[38;5;124m\"\u001b[39m)\n\u001b[0;32m    697\u001b[0m \u001b[38;5;66;03m# Determine model name from 'f', without any extension or path\u001b[39;00m\n\u001b[0;32m    698\u001b[0m modelname \u001b[38;5;241m=\u001b[39m namefile_path\u001b[38;5;241m.\u001b[39mstem\n",
      "\u001b[1;31mFileNotFoundError\u001b[0m: cannot find name file: E:\\15_REPOS\\00_BETAMI\\04_PEST_pp________On_the_run-01\\benchmarks\\01_one_dim_flow\\Beta_03\\flow_1d.nam"
     ]
    }
   ],
   "source": [
    "def forward_model():\n",
    "    try:\n",
    "        os.remove(\"heads_out.csv\")\n",
    "    except:\n",
    "        pass\n",
    "    \n",
    "    indx = pd.read_csv('./beta_02/index.csv')['idx'].values.astype(int)   \n",
    "    \n",
    "    \n",
    "    x = np.loadtxt('./beta_02/inputx.dat')\n",
    "    x = np.power(10.0, x)\n",
    "    mf = flopy.modflow.Modflow.load(r'flow_1d.nam', model_ws = 'Beta_03' )\n",
    "    \n",
    "    hk = mf.upw.hk.array.copy()\n",
    "    hk = x[np.newaxis, np.newaxis, :]\n",
    "    mf.upw.hk = hk\n",
    "    mf.upw.write_file()\n",
    "\n",
    "    basefolder = os.getcwd()\n",
    "    os.chdir(\"Beta_03\")\n",
    "    os.system(\"mfnwt.exe flow_1d.nam\")\n",
    "    os.chdir(basefolder)\n",
    "\n",
    "    hds = flopy.utils.HeadFile(os.path.join('Beta_03', 'flow_1d.hds'))\n",
    "    wl = hds.get_data(totim=1.0)\n",
    "    wl = wl.squeeze()\n",
    "    y =wl[indx]                                                 # model maping  \n",
    "    \n",
    "   \n",
    "    out = pd.DataFrame()\n",
    "    out['y'] = y\n",
    "    out.to_csv('heads_out.csv', index_label = 'id')             # write model output\n",
    "    \n",
    "if __name__ == \"__main__\":\n",
    "    forward_model()"
   ]
  },
  {
   "cell_type": "code",
   "execution_count": null,
   "id": "a583ce07",
   "metadata": {},
   "outputs": [],
   "source": []
  }
 ],
 "metadata": {
  "kernelspec": {
   "display_name": "Python 3 (ipykernel)",
   "language": "python",
   "name": "python3"
  },
  "language_info": {
   "codemirror_mode": {
    "name": "ipython",
    "version": 3
   },
   "file_extension": ".py",
   "mimetype": "text/x-python",
   "name": "python",
   "nbconvert_exporter": "python",
   "pygments_lexer": "ipython3",
   "version": "3.13.1"
  }
 },
 "nbformat": 4,
 "nbformat_minor": 5
}
