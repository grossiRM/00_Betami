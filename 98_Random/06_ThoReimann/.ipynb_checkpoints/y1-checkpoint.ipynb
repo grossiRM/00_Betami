{
 "cells": [
  {
   "cell_type": "code",
   "execution_count": 1,
   "metadata": {},
   "outputs": [],
   "source": [
    "import numpy as np\n",
    "import streamlit as st\n",
    "import matplotlib.pyplot as plt\n"
   ]
  },
  {
   "cell_type": "code",
   "execution_count": 2,
   "metadata": {},
   "outputs": [
    {
     "name": "stderr",
     "output_type": "stream",
     "text": [
      "2025-03-27 15:20:25.607 \n",
      "  \u001b[33m\u001b[1mWarning:\u001b[0m to view this Streamlit app on a browser, run it with the following\n",
      "  command:\n",
      "\n",
      "    streamlit run C:\\Users\\gross.DESKTOP-AIRQM2M\\anaconda3\\Lib\\site-packages\\ipykernel_launcher.py [ARGUMENTS]\n"
     ]
    },
    {
     "data": {
      "text/plain": [
       "DeltaGenerator()"
      ]
     },
     "execution_count": 2,
     "metadata": {},
     "output_type": "execute_result"
    }
   ],
   "source": [
    "st.title('Slugtest evaluation')\n",
    "t = np.arange(0, 60, 0.1)\n",
    "L = 2.1\n",
    "R = 0.085\n",
    "F = 2 * np.pi * L/np.log(L/R)\n",
    "r = 0.025\n",
    "prq = np.pi * r**2\n",
    "\n",
    "# Define the minimum and maximum for the logarithmic scale\n",
    "log_min = -5.0 # Corresponds to 10^-7 = 0.0000001\n",
    "log_max =  -2.0  # Corresponds to 10^0 = 1\n",
    "\n",
    "# Log slider with input and print\n",
    "K_slider_value=st.slider('(log of) hydraulic conductivity in m/s', log_min,log_max,-3.0,0.01,format=\"%4.2f\" )\n",
    "K = 10 ** K_slider_value\n",
    "st.write(\"**Hydraulic conductivity in m/s:** %5.2e\" %K)\n",
    "\n",
    "exp_decay = np.exp(-F/prq*K*t)\n",
    "\n",
    "# Plot figure\n",
    "fig = plt.figure(figsize=(12,7))\n",
    "ax = fig.add_subplot()\n",
    "ax.plot(t,exp_decay, color='magenta', label='exp_decay')\n",
    "plt.axis([0,60,0,1])\n",
    "ax.set(xlabel='t', ylabel='H/Ho', title='Slugtest positive')\n",
    "ax.grid()\n",
    "plt.legend()\n",
    "    \n",
    "#plt.show()\n",
    "\n",
    "st.pyplot(fig=fig)"
   ]
  },
  {
   "cell_type": "code",
   "execution_count": null,
   "metadata": {},
   "outputs": [],
   "source": []
  }
 ],
 "metadata": {
  "kernelspec": {
   "display_name": "Python 3 (ipykernel)",
   "language": "python",
   "name": "python3"
  },
  "language_info": {
   "codemirror_mode": {
    "name": "ipython",
    "version": 3
   },
   "file_extension": ".py",
   "mimetype": "text/x-python",
   "name": "python",
   "nbconvert_exporter": "python",
   "pygments_lexer": "ipython3",
   "version": "3.12.7"
  }
 },
 "nbformat": 4,
 "nbformat_minor": 4
}
