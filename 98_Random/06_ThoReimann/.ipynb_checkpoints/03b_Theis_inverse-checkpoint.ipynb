{
 "cells": [
  {
   "cell_type": "markdown",
   "metadata": {},
   "source": [
    "$$ s(r,t)=\\frac{Q}{4\\pi T}W(u) $$\n",
    "$$ W(u) = \\int_{u }^{+\\infty} \\frac{e^{-\\tilde u}}{\\tilde u}d\\tilde u $$\n",
    "$$ u = \\frac{Sr^2}{4Tt} $$"
   ]
  },
  {
   "cell_type": "code",
   "execution_count": 1,
   "metadata": {
    "jupyter": {
     "source_hidden": true
    }
   },
   "outputs": [],
   "source": [
    "%matplotlib inline\n",
    "import numpy as np ; import matplotlib.pyplot as plt ; import scipy.special ; from ipywidgets import * ; from pathlib import Path\n",
    "import pandas as pd"
   ]
  },
  {
   "cell_type": "code",
   "execution_count": 2,
   "metadata": {
    "jupyter": {
     "source_hidden": true
    }
   },
   "outputs": [],
   "source": [
    "output_folder = Path(\"./output_Theis_01\")     ; output_folder.mkdir(exist_ok=True)"
   ]
  },
  {
   "cell_type": "code",
   "execution_count": 3,
   "metadata": {},
   "outputs": [],
   "source": [
    "m_time = [1,1.5,2,2.5,3,4,5,6,8,10,12,14,18,24,30,40,50,60,100,120] # time in minutes\n",
    "m_time_s = [i*60 for i in m_time] # time in seconds\n",
    "m_ddown = [0.66,0.87,0.99,1.11,1.21,1.36,1.49,1.59,1.75,1.86,1.97,2.08,2.20,2.36,2.49,2.65,2.78,2.88,3.16,3.28]   # drawdown in meters\n",
    "num_times = len(m_time)\n",
    "r = 120  ;  b = 8.5  ; Qs = 0.3/60   ; Qd = Qs*60*24  ; Qm = 0.3    # m^3/s  m^3/d"
   ]
  },
  {
   "cell_type": "code",
   "execution_count": 4,
   "metadata": {},
   "outputs": [
    {
     "name": "stdout",
     "output_type": "stream",
     "text": [
      "r(m), b(m), Qm(m^3/min) ... but then .. in secounds Qs =  120 8.5 0.3 0.005\n"
     ]
    }
   ],
   "source": [
    "df1 = pd.DataFrame(m_time_s)  ; df2 = pd.DataFrame(m_ddown) ; pe = pd.concat([df1, df2], axis=1)  ; pe.columns = [\"(sec)\", \"(meters)\"]\n",
    "pe.to_csv(output_folder/ 'a_pe.csv') ; print('r(m), b(m), Qm(m^3/min) ... but then .. in secounds Qs = ', r, b, Qm, Qs)"
   ]
  },
  {
   "cell_type": "raw",
   "metadata": {
    "jupyter": {
     "source_hidden": true
    }
   },
   "source": [
    "m_timeB = [0.50,1.00,1.33,2.00,3.00,5.00,7.00,9.33,13.50,22.00,30.00] # time in minutes\n",
    "m_timeB_s = [i*60 for i in m_timeB] # time in seconds\n",
    "m_ddownB= [0.30,0.37,0.38,0.40,0.43,0.49,0.52,0.53,0.55,0.56,0.57]   # drawdown in meters\n",
    "df1 = pd.DataFrame(m_timeB_s)  ; df2 = pd.DataFrame(m_ddownB) ; pe = pd.concat([df1, df2], axis=1)  ; pe.columns = [\"(sec)\", \"(meters)\"]\n",
    "pe.to_csv(output_folder/ 'B_pe.csv') ; print('r(m), b(m), Qm(m^3/min) ... but then .. in secounds Qs = ', r, b, Qm, Qs)"
   ]
  },
  {
   "cell_type": "code",
   "execution_count": 5,
   "metadata": {},
   "outputs": [
    {
     "data": {
      "application/vnd.jupyter.widget-view+json": {
       "model_id": "57514ebd68cc499aac8d26ce3aeaee90",
       "version_major": 2,
       "version_minor": 0
      },
      "text/plain": [
       "interactive(children=(FloatLogSlider(value=0.000794, description='T', max=3.0, min=-6.0, readout_format='.2e')…"
      ]
     },
     "metadata": {},
     "output_type": "display_data"
    },
    {
     "data": {
      "text/plain": [
       "<function __main__.Theis_plot(T, S, t_search)>"
      ]
     },
     "execution_count": 5,
     "metadata": {},
     "output_type": "execute_result"
    }
   ],
   "source": [
    "def well_function(u):\n",
    "    return scipy.special.exp1(u)\n",
    "def theis_u(T,S,r,t):\n",
    "    u = r ** 2 * S / 4. / T / t\n",
    "    return u\n",
    "def theis_s(Q, T, u):\n",
    "    s = Q / 4. / np.pi / T * well_function(u)\n",
    "    return s\n",
    "def theis_wu(Q, T, s):\n",
    "    wu = s * 4. * np.pi * T / Q\n",
    "    return wu\n",
    "def compute_s(T, S, t, Q, r):\n",
    "    u = theis_u(T, S, r, t)\n",
    "    s = theis_s(Q, T, u)\n",
    "    return s\n",
    "    \n",
    "# (Here, the method computes the data for the well function. Those data can be used to generate a type curve.)\n",
    "u_max = 1  ; r_max = 100000\n",
    "u  = [u_max for x in range(r_max)]                         ; um     = [u_max for x in range(r_max)]\n",
    "u_inv  = [r_max/u_max for x in range(r_max)]               ; um_inv = [r_max/u_max for x in range(r_max)]\n",
    "w_u  = [well_function(u_max/r_max) for x in range(r_max)]  ; w_um = [well_function(u_max/r_max) for x in range(r_max)]\n",
    "for x in range(1,r_max,1):\n",
    "    if x>0:\n",
    "        u[x] = x*u_max/r_max   ; u_inv[x] = 1/u[x]   ; w_u[x] = well_function(u[x])\n",
    "def Theis_plot(T,S,t_search):\n",
    "    K = T/b     ;    SS = S/b    ;   x = 0   # m/s ; # 1/m\n",
    "    for t1 in m_time_s:\n",
    "        um[x] = theis_u(T,S,r,t1) ; um_inv[x] = 1/um[x]  ; w_um[x] = theis_wu(Qs,T,m_ddown[x])  ; x = x+1\n",
    "\n",
    "    max_t = 86400*3 ;       max_s = 10\n",
    "    t2 = np.linspace(1, max_t, 200)      ;  s  = compute_s(T, S, t2, Qs, r)\n",
    "    x_point = t_search                   ;  y_point = compute_s(T, S, t_search, Qs, r)\n",
    "\n",
    "    fig = plt.figure(figsize=(5,3))  \n",
    "    ax = fig.add_subplot(1, 2, 1) ; ax.plot(u_inv, w_u) ; ax.plot(um_inv[:num_times], w_um[:num_times],'ro')\n",
    "    plt.yscale(\"log\") ; plt.xscale(\"log\")  ; plt.axis([1,1E5,1E-1,1E+1]) ; ax.set(xlabel='1/u', ylabel='w(u)',title='Theis drawdown')\n",
    "    ax.grid(which=\"both\") ; plt.legend(('well function','measured')) \n",
    "\n",
    "    ax = fig.add_subplot(1, 2, 2) ; plt.plot(t2, s, linewidth=3., color='r', label=r'Drawdown prediction') ; plt.xlim(1, max_t) ; plt.ylim(max_s, 0)\n",
    "    plt.plot(x_point,y_point, marker='o', color='b',linestyle ='None', label='drawdown output') ; plt.xlabel(r'Time in sec', fontsize=14)\n",
    "    plt.ylabel(r'Drawdown in m', fontsize=14) ; plt.title('Drawdown prediction with Theis', fontsize=16) ; plt.legend() ; plt.grid(True) \n",
    "    plt.show()\n",
    "\n",
    "    #print(\"Max/Min for (A) 1/u and (B) w(u) in the equivalent in measured data =\", \"% 5.2E\"%min(um_inv[:num_times]),\"% 5.2E\"%max(um_inv[:num_times]),\"% 5.2E\"%min(w_um[:num_times]),\"% 5.2E\"%max(w_um[:num_times]))\n",
    "    print(\"Transmissivity T = \",\"% 10.2E\"% T, \" m^2/s\")\n",
    "    print(\"Storativity    S = \",\"% 10.2E\"% S, \"[-]\")\n",
    "    print(' ')\n",
    "    print('Distance from the well (in ): %8.2f' %r)\n",
    "    print(\"Time since pumping start (in s): \", x_point)\n",
    "    print('Drawdown at this distance and time (in m):  %5.2f' %y_point)\n",
    "interact(Theis_plot,\n",
    "         T=widgets.FloatLogSlider(value= 0.000794   , base=10,min=-6, max=3, step=0.1,readout=True,readout_format='.2e'),   # 7.94e-4\n",
    "         S=widgets.FloatLogSlider(value= 0.00000158 , base=10,min=-9, max=1, step=0.1,readout=True,readout_format='.2e'),  # 1.58e-6\n",
    "         t_search = widgets.FloatSlider(value=60,min=60, max=86400*3, step=60,readout=True))"
   ]
  },
  {
   "cell_type": "code",
   "execution_count": null,
   "metadata": {},
   "outputs": [],
   "source": []
  }
 ],
 "metadata": {
  "kernelspec": {
   "display_name": "Python 3 (ipykernel)",
   "language": "python",
   "name": "python3"
  },
  "language_info": {
   "codemirror_mode": {
    "name": "ipython",
    "version": 3
   },
   "file_extension": ".py",
   "mimetype": "text/x-python",
   "name": "python",
   "nbconvert_exporter": "python",
   "pygments_lexer": "ipython3",
   "version": "3.12.7"
  },
  "toc": {
   "base_numbering": 1,
   "nav_menu": {},
   "number_sections": true,
   "sideBar": true,
   "skip_h1_title": false,
   "title_cell": "Table of Contents",
   "title_sidebar": "Contents",
   "toc_cell": false,
   "toc_position": {},
   "toc_section_display": true,
   "toc_window_display": false
  },
  "varInspector": {
   "cols": {
    "lenName": 16,
    "lenType": 16,
    "lenVar": 40
   },
   "kernels_config": {
    "python": {
     "delete_cmd_postfix": "",
     "delete_cmd_prefix": "del ",
     "library": "var_list.py",
     "varRefreshCmd": "print(var_dic_list())"
    },
    "r": {
     "delete_cmd_postfix": ") ",
     "delete_cmd_prefix": "rm(",
     "library": "var_list.r",
     "varRefreshCmd": "cat(var_dic_list()) "
    }
   },
   "position": {
    "height": "216.667px",
    "left": "2296.33px",
    "right": "20px",
    "top": "120px",
    "width": "243.667px"
   },
   "types_to_exclude": [
    "module",
    "function",
    "builtin_function_or_method",
    "instance",
    "_Feature"
   ],
   "window_display": true
  }
 },
 "nbformat": 4,
 "nbformat_minor": 4
}
