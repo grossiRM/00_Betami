{
 "cells": [
  {
   "cell_type": "markdown",
   "metadata": {},
   "source": [
    "# Water abstraction - Drawdown prediction with the Theis solution for confined and unconfined aquifers\n",
    "This notebook demonstrate the application of the Theis solution to predict the drawdown from pumping in an unconfined and a confined aquifer.\n",
    "\n",
    "## Introduction\n",
    "\n",
    "### General situation\n",
    "We consider an unconfined aquifer with constant transmissivity. The solution is a correction of the Theis solution for confined aquifers: If a well is pumping water out of the aquifer, radial flow towards the well is induced. The following figure illustrates this situation.\n",
    "\n",
    "<img src=\"../FIGS/Flow_well_confined.png\" width=\"400\">\n",
    "\n",
    "*Fig: Radial flow in a confined aquifer (Fetter, 1994)*\n",
    "\n",
    "The calculate the hydraulic situation, the following simplified flow equation can be used. This equation accounts for 1D radial transient flow towards a fully penetrating well within a confined aquifer without further sinks and sources:\n",
    "\n",
    "$$ \\frac{\\partial^2 h}{\\partial r^2}+\\frac{1}{r}\\frac{\\partial h}{\\partial r}=\\frac{S}{T}\\frac{\\partial h}{\\partial t} $$\n",
    "\n",
    "### Solution by Theis\n",
    "Charles V. Theis presented a solution for this by deriving\n",
    "\n",
    "$$ s(r,t)=\\frac{Q}{4\\pi T}W(u) $$\n",
    "\n",
    "with the well function\n",
    "\n",
    "$$ W(u) = \\int_{u }^{+\\infty} \\frac{e^{-\\tilde u}}{\\tilde u}d\\tilde u $$\n",
    "\n",
    "and the dimensionless variable \n",
    "\n",
    "$$ u = \\frac{Sr^2}{4Tt} $$\n",
    "\n",
    "This equations are not easy to solve. Historically, values for the well function were provided by tables or as so called type-curve. The type-curve matching with experimental data for pumping test analysis can be considered as one of the basic hydrogeological methods.\n",
    "\n",
    "### Correction for unconfined aquifers\n",
    "\n",
    "Jacob (in Kruseman and de Ridder 1994) proposed an conrrection of the Theis drawdown to account for unconfined aquifers.\n",
    "\n",
    "$$ s' = s - \\frac{s^2}{2b} $$\n",
    "\n",
    "With a reformulation, this allows to compute the drawdown of unconfined aquifers as\n",
    "\n",
    "$$ s = b - b \\sqrt{1 - \\frac{2s'}{b}} $$\n",
    "\n",
    "\n",
    "### Computation and visualization\n",
    "\n",
    "However, modern computers provide an easier and more convenient way to solve the 1D radial flow equation based on the Theis approach. Subsequently, the Theis equation is solved with Python routines and you can predict the drawdown for a vertical cross section with the well in the center.\n",
    "\n",
    "You can further modify the parameters (transmissivity _T_, storage _S_, abstraction rate _Q_). And you can look (and output) the drawdown for a specific distance from the well (x_search)."
   ]
  },
  {
   "cell_type": "code",
   "execution_count": 1,
   "metadata": {},
   "outputs": [
    {
     "data": {
      "application/vnd.jupyter.widget-view+json": {
       "model_id": "6dba08ba15fc4c5aaa6bd56f6c9400fb",
       "version_major": 2,
       "version_minor": 0
      },
      "text/plain": [
       "interactive(children=(FloatSlider(value=3600.0, description='t', max=86400.0, min=60.0, step=60.0), FloatLogSl…"
      ]
     },
     "metadata": {},
     "output_type": "display_data"
    },
    {
     "data": {
      "text/plain": [
       "<function __main__.plot_s(t, T, S, SY, Q, b, x_search, max_s, max_r)>"
      ]
     },
     "execution_count": 1,
     "metadata": {},
     "output_type": "execute_result"
    }
   ],
   "source": [
    "# (First, the necessary Python functions are initiated.)\n",
    "\n",
    "%matplotlib inline\n",
    "import numpy as np\n",
    "import matplotlib.pyplot as plt\n",
    "import scipy.special\n",
    "from ipywidgets import *\n",
    "\n",
    "# (Here the necessary functions like the well function $W(u)$ are defined. Later, those functions are used in the computation)\n",
    "# Define a function, class, and object for Theis Well analysis\n",
    "\n",
    "def well_function(u):\n",
    "    return scipy.special.exp1(u)\n",
    "\n",
    "def theis_u(T,S,r,t):\n",
    "    u = r ** 2 * S / 4. / T / t\n",
    "    return u\n",
    "\n",
    "def theis_s(Q, T, u):\n",
    "    s = Q / 4. / np.pi / T * well_function(u)\n",
    "    return s\n",
    "\n",
    "# (Here, the method computes the data for the well function. Those data can be used to generate a type curve.)\n",
    "u_max = 1\n",
    "r_max = 10000\n",
    "u  = [u_max for x in range(r_max)]\n",
    "u_inv  = [r_max/u_max for x in range(r_max)]\n",
    "w_u  = [well_function(u_max/r_max) for x in range(r_max)]\n",
    "\n",
    "def compute_s(T, S, t, Q, r):\n",
    "    u = theis_u(T, S, r, t)\n",
    "    s = theis_s(Q, T, u)\n",
    "    return s\n",
    "\n",
    "def compute_s_unconfined(T, SY, t, Q, r, b):\n",
    "    S_u = SY*b\n",
    "    u = theis_u(T, S_u, r, t)\n",
    "    s = theis_s(Q, T, u)\n",
    "    s_u = b - b * np.sqrt(1-2*s/b)\n",
    "    return s_u\n",
    "\n",
    "def plot_s (t, T, S, SY, Q, b, x_search, max_s, max_r):\n",
    "    # Range of delta_h / delta_l values (hydraulic gradient)\n",
    "    r = np.linspace(1, max_r, 200)\n",
    "    r_neg = r * -1.0\n",
    "    \n",
    "    # Compute Q for each hydraulic gradient\n",
    "    s  = compute_s(T, S, t, Q, r)\n",
    "    s_u  = compute_s_unconfined(T, SY, t, Q, r, b)\n",
    "\n",
    "    # Compute s for a specific point\n",
    "    x_point = x_search\n",
    "    y_point = compute_s(T, S, t, Q, x_search)\n",
    "    \n",
    "    # Plotting\n",
    "    plt.figure(figsize=(10, 6))\n",
    "    \n",
    "    plt.plot(r, s, linewidth=1., color='b', label=r'drawdown prediction')\n",
    "    plt.plot(r_neg, s, linewidth=0.5, color='g', linestyle='dashed')\n",
    "    plt.plot(r, s_u, linewidth=0.5, color='g', linestyle='dashed')\n",
    "    plt.plot(r_neg, s_u, linewidth=1, color='g',label=r'drawdown prediction unconfined')\n",
    "    plt.fill_between(r,s,max_s, facecolor='lightblue')\n",
    "    plt.fill_between(r_neg,s_u,max_s, facecolor='lightgreen')\n",
    "    plt.xlim(-max_r, max_r)\n",
    "    plt.ylim(max_s,0)\n",
    "    plt.plot(x_point,y_point, marker='o', color='r',linestyle ='None', label='drawdown output') \n",
    "    plt.xlabel(r'Distance from the well in m', fontsize=14)\n",
    "    plt.ylabel(r'Drawdown in m', fontsize=14)\n",
    "    plt.title('Drawdown prediction with Theis', fontsize=16)\n",
    "    plt.legend()\n",
    "    plt.grid(True)\n",
    "    plt.show()\n",
    "\n",
    "    print(\"DRAWDOWN output:\")\n",
    "    print(\"Distance from the well (in m): %8.2f\" %x_point)\n",
    "    print('Drawdown at this distance (in m):  %5.2f' %y_point)\n",
    "    print('Time (in sec): ',t)\n",
    "    \n",
    "\n",
    "interact(plot_s,\n",
    "         t = widgets.FloatSlider(value=3600,min=60, max=86400, step=60,readout=True),\n",
    "         T = widgets.FloatLogSlider(value=0.03,base=10,min=-6, max=4, step=0.1,readout=True,readout_format='.2e'),\n",
    "         S = widgets.FloatLogSlider(value=0.003,base=10,min=-9, max=1, step=0.1,readout=True,readout_format='.2e'),\n",
    "         Q = widgets.FloatSlider(value=0.005,min=0.001, max=1, step=0.001,readout=True,readout_format='5.3f'),\n",
    "         b = widgets.FloatSlider(value=20,min=1, max=100, step=0.01,readout=True,readout_format='5.3f'),\n",
    "         SY = widgets.FloatSlider(value=0.25,min=0.01, max=0.60, step=0.01,readout=True,readout_format='5.3f'),\n",
    "         x_search = widgets.FloatSlider(value=1,min=1, max=10000, step=1,readout=True),\n",
    "         max_r = widgets.FloatSlider(value=1000,min=10, max=10000, step=10,readout=True),\n",
    "         max_s = widgets.FloatSlider(value=10,min=1, max=50, step=1,readout=True))"
   ]
  },
  {
   "cell_type": "code",
   "execution_count": null,
   "metadata": {},
   "outputs": [],
   "source": []
  }
 ],
 "metadata": {
  "kernelspec": {
   "display_name": "Python 3 (ipykernel)",
   "language": "python",
   "name": "python3"
  },
  "language_info": {
   "codemirror_mode": {
    "name": "ipython",
    "version": 3
   },
   "file_extension": ".py",
   "mimetype": "text/x-python",
   "name": "python",
   "nbconvert_exporter": "python",
   "pygments_lexer": "ipython3",
   "version": "3.12.7"
  },
  "toc": {
   "base_numbering": 1,
   "nav_menu": {},
   "number_sections": true,
   "sideBar": true,
   "skip_h1_title": false,
   "title_cell": "Table of Contents",
   "title_sidebar": "Contents",
   "toc_cell": false,
   "toc_position": {},
   "toc_section_display": true,
   "toc_window_display": false
  },
  "varInspector": {
   "cols": {
    "lenName": 16,
    "lenType": 16,
    "lenVar": 40
   },
   "kernels_config": {
    "python": {
     "delete_cmd_postfix": "",
     "delete_cmd_prefix": "del ",
     "library": "var_list.py",
     "varRefreshCmd": "print(var_dic_list())"
    },
    "r": {
     "delete_cmd_postfix": ") ",
     "delete_cmd_prefix": "rm(",
     "library": "var_list.r",
     "varRefreshCmd": "cat(var_dic_list()) "
    }
   },
   "position": {
    "height": "216.667px",
    "left": "2296.33px",
    "right": "20px",
    "top": "120px",
    "width": "243.667px"
   },
   "types_to_exclude": [
    "module",
    "function",
    "builtin_function_or_method",
    "instance",
    "_Feature"
   ],
   "window_display": true
  }
 },
 "nbformat": 4,
 "nbformat_minor": 4
}
