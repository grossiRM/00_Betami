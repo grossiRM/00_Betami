{
 "cells": [
  {
   "cell_type": "code",
   "execution_count": 1,
   "metadata": {
    "scrolled": true
   },
   "outputs": [
    {
     "name": "stdout",
     "output_type": "stream",
     "text": [
      "E:\\15_REPOS\\00_BETAMI\\w10_______others\\04_Mnfienen\\Cb__Python-for-hydrology__2024\\notebooks\\part1_flopy\n"
     ]
    }
   ],
   "source": [
    "import pathlib ; import os ; import flopy\n",
    "exe_name_mf = 'E:\\\\15_REPOS\\\\00_BETAMI\\\\w10_______others\\\\bin\\\\mf2005.exe'\n",
    "exe_name_mt = 'E:\\\\15_REPOS\\\\00_BETAMI\\\\w10_______others\\\\bin\\\\mt3d-usgs_1.1.0_64.exe';\n",
    "current_directory = os.getcwd();  print(current_directory)"
   ]
  },
  {
   "cell_type": "code",
   "execution_count": 7,
   "metadata": {},
   "outputs": [],
   "source": [
    "path = pathlib.Path('E:\\\\15_REPOS\\\\00_BETAMI\\\\w10_______others\\\\04_Mnfienen\\\\Cb__Python-for-hydrology__2024\\\\notebooks\\\\part1_flopy')\n",
    "path.mkdir(parents=True, exist_ok=True); os.chdir(path); current_directory = os.getcwd()\n",
    "directory_name = '_test'    ; workspace = os.path.join('.', directory_name)\n",
    "if os.path.isdir(workspace) is False:\n",
    "    os.mkdir(workspace) \n",
    "sim_ws = '.' "
   ]
  },
  {
   "cell_type": "code",
   "execution_count": 3,
   "metadata": {},
   "outputs": [],
   "source": [
    "model = flopy.modflow.Modflow(modelname='test', exe_name=exe_name_mf, version='mf2005')  # or 'mfnwt' "
   ]
  },
  {
   "cell_type": "markdown",
   "metadata": {},
   "source": [
    "For MODFLOW 6, we first have to create a simulation, which we then assign the model to:"
   ]
  },
  {
   "cell_type": "code",
   "execution_count": 4,
   "metadata": {},
   "outputs": [],
   "source": [
    "sim = flopy.mf6.MFSimulation(sim_name='test')\n",
    "gwf = flopy.mf6.ModflowGwf(sim, modelname='test')"
   ]
  },
  {
   "cell_type": "code",
   "execution_count": 5,
   "metadata": {},
   "outputs": [],
   "source": [
    "dis = flopy.mf6.ModflowGwfdis(\n",
    "    gwf,\n",
    "    nlay=3,\n",
    "    nrow=21,\n",
    "    ncol=20,\n",
    "    delr=500.,\n",
    "    delc=500.,\n",
    "    top=400.0,\n",
    "    botm=[220, 200, 0],\n",
    ")"
   ]
  },
  {
   "cell_type": "markdown",
   "metadata": {},
   "source": [
    "The [MODFLOW 6 Input and Output Guide](https://modflow6.readthedocs.io/en/latest/mf6io.html) "
   ]
  }
 ],
 "metadata": {
  "kernelspec": {
   "display_name": "Python 3 (ipykernel)",
   "language": "python",
   "name": "python3"
  },
  "language_info": {
   "codemirror_mode": {
    "name": "ipython",
    "version": 3
   },
   "file_extension": ".py",
   "mimetype": "text/x-python",
   "name": "python",
   "nbconvert_exporter": "python",
   "pygments_lexer": "ipython3",
   "version": "3.12.7"
  }
 },
 "nbformat": 4,
 "nbformat_minor": 4
}
