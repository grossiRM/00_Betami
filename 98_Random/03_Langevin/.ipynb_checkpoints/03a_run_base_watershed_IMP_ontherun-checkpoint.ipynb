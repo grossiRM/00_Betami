{
 "cells": [
  {
   "cell_type": "markdown",
   "metadata": {},
   "source": [
    "<font color='blue'> **step1_run_MPI** </font>  <font color='red'> **base_watershed** </font>  "
   ]
  },
  {
   "cell_type": "code",
   "execution_count": 1,
   "metadata": {
    "execution": {
     "iopub.execute_input": "2025-06-16T12:55:59.208465Z",
     "iopub.status.busy": "2025-06-16T12:55:59.208112Z",
     "iopub.status.idle": "2025-06-16T12:56:00.673981Z",
     "shell.execute_reply": "2025-06-16T12:56:00.673488Z",
     "shell.execute_reply.started": "2025-06-16T12:55:59.208430Z"
    }
   },
   "outputs": [],
   "source": [
    "import pathlib as pl ; import sys ; import flopy ; import matplotlib.pyplot as plt ; from pathlib import Path  \n",
    "import numpy as np; import pandas as pd; import warnings ; warnings.filterwarnings(\"ignore\", category=DeprecationWarning)"
   ]
  },
  {
   "cell_type": "code",
   "execution_count": 2,
   "metadata": {
    "execution": {
     "iopub.execute_input": "2025-06-16T12:56:00.675349Z",
     "iopub.status.busy": "2025-06-16T12:56:00.674919Z",
     "iopub.status.idle": "2025-06-16T12:56:00.679351Z",
     "shell.execute_reply": "2025-06-16T12:56:00.678747Z",
     "shell.execute_reply.started": "2025-06-16T12:56:00.675324Z"
    }
   },
   "outputs": [],
   "source": [
    "ref_data1  = Path(\"E:/15_REPOS/00_BETAMI/bin/Flopy_3099/03_RES_base_watershed\")  # PETSc MPI paralel Mf6Splitter 08b(Flopy) docker, ...\n",
    "ref_data2  = Path(\"E:/15_REPOS/00_BETAMI/bin/Flopy_3099/03.04_3099_watershed\") ; sim_ws = Path(\"./03a_run_MPI\")  ; sim_ws.mkdir(exist_ok=True)  \n",
    "ref_data3  = Path(\"E:/15_REPOS/00_BETAMI/bin/Flopy_3099/04_RES_watershed_split/opt_split_models\") ; ref_data = ref_data3"
   ]
  },
  {
   "cell_type": "code",
   "execution_count": 3,
   "metadata": {
    "execution": {
     "iopub.execute_input": "2025-06-16T12:56:00.680763Z",
     "iopub.status.busy": "2025-06-16T12:56:00.680369Z",
     "iopub.status.idle": "2025-06-16T12:56:01.540345Z",
     "shell.execute_reply": "2025-06-16T12:56:01.539804Z",
     "shell.execute_reply.started": "2025-06-16T12:56:00.680735Z"
    }
   },
   "outputs": [],
   "source": [
    "name = \"watershed\"   ; sim = flopy.mf6.MFSimulation.load(sim_name=name, sim_ws=pl.Path(ref_data),verbosity_level=0)"
   ]
  },
  {
   "cell_type": "code",
   "execution_count": 4,
   "metadata": {
    "execution": {
     "iopub.execute_input": "2025-06-16T12:56:01.541577Z",
     "iopub.status.busy": "2025-06-16T12:56:01.541305Z",
     "iopub.status.idle": "2025-06-16T12:56:01.890517Z",
     "shell.execute_reply": "2025-06-16T12:56:01.889807Z",
     "shell.execute_reply.started": "2025-06-16T12:56:01.541555Z"
    }
   },
   "outputs": [],
   "source": [
    "sim.set_sim_path(sim_ws) ; sim.write_simulation(silent=True)"
   ]
  },
  {
   "cell_type": "code",
   "execution_count": 7,
   "metadata": {
    "execution": {
     "iopub.execute_input": "2025-06-16T12:56:47.174612Z",
     "iopub.status.busy": "2025-06-16T12:56:47.174259Z",
     "iopub.status.idle": "2025-06-16T12:56:47.249987Z",
     "shell.execute_reply": "2025-06-16T12:56:47.249324Z",
     "shell.execute_reply.started": "2025-06-16T12:56:47.174590Z"
    }
   },
   "outputs": [
    {
     "name": "stdout",
     "output_type": "stream",
     "text": [
      "FloPy is using the following executable to run the model: C:\\Users\\gross.DESKTOP-AIRQM2M\\anaconda3\\Scripts\\mf6.exe\n",
      "FloPy is using C:\\Program Files\\Microsoft MPI\\Bin\\mpiexec.exe to run C:\\Users\\gross.DESKTOP-AIRQM2M\\anaconda3\\Scripts\\mf6.exe on 1 processors.\n",
      "\n",
      "\n",
      "ERROR REPORT:\n",
      "\n",
      "  1. Can not run parallel mode with this executable: no MPI\n"
     ]
    },
    {
     "data": {
      "text/plain": [
       "(False, [])"
      ]
     },
     "execution_count": 7,
     "metadata": {},
     "output_type": "execute_result"
    }
   ],
   "source": [
    "path_to_mf6 =  Path('E:/15_REPOS/00_BETAMI/bin/MF6PAR/mf6.exe')\n",
    "sim.run_simulation(processors=1, silent=False)"
   ]
  },
  {
   "cell_type": "markdown",
   "metadata": {},
   "source": [
    "<font color='blue'> **Try docker!** </font>   .. https://github.com/MODFLOW-ORG/modflow6/blob/develop/EXTENDED.md    hatarilabs"
   ]
  },
  {
   "cell_type": "raw",
   "metadata": {},
   "source": [
    "ncells, nactive = get_simulation_cell_count(sim) ; print(\"nr. of cells:\", ncells, \", active:\", nactive)"
   ]
  },
  {
   "cell_type": "raw",
   "metadata": {
    "execution": {
     "iopub.execute_input": "2025-06-14T13:45:37.488696Z",
     "iopub.status.busy": "2025-06-14T13:45:37.488696Z",
     "iopub.status.idle": "2025-06-14T13:45:37.516475Z",
     "shell.execute_reply": "2025-06-14T13:45:37.516475Z",
     "shell.execute_reply.started": "2025-06-14T13:45:37.488696Z"
    }
   },
   "source": [
    "sys.path.append(ref_data) ; from a_defaults import (figsize,geometry,sim_ws,get_simulation_cell_count,string2geom)"
   ]
  },
  {
   "cell_type": "markdown",
   "metadata": {},
   "source": [
    "### Plot the results"
   ]
  },
  {
   "cell_type": "code",
   "execution_count": 6,
   "metadata": {
    "execution": {
     "iopub.execute_input": "2025-06-16T12:56:01.974443Z",
     "iopub.status.busy": "2025-06-16T12:56:01.974104Z",
     "iopub.status.idle": "2025-06-16T12:56:02.728005Z",
     "shell.execute_reply": "2025-06-16T12:56:02.727288Z",
     "shell.execute_reply.started": "2025-06-16T12:56:01.974421Z"
    }
   },
   "outputs": [
    {
     "ename": "NameError",
     "evalue": "name 'sim' is not defined",
     "output_type": "error",
     "traceback": [
      "\u001b[31m---------------------------------------------------------------------------\u001b[39m",
      "\u001b[31mNameError\u001b[39m                                 Traceback (most recent call last)",
      "\u001b[36mCell\u001b[39m\u001b[36m \u001b[39m\u001b[32mIn[6]\u001b[39m\u001b[32m, line 2\u001b[39m\n\u001b[32m      1\u001b[39m sys.path.append(\u001b[33m\"\u001b[39m\u001b[33mE:/15_REPOS/00_BETAMI/bin/Flopy_functions\u001b[39m\u001b[33m\"\u001b[39m)\n\u001b[32m----> \u001b[39m\u001b[32m2\u001b[39m \u001b[38;5;28;01mfrom\u001b[39;00m\u001b[38;5;250m \u001b[39m\u001b[34;01mnotebook_utils_beta\u001b[39;00m\u001b[38;5;250m \u001b[39m\u001b[38;5;28;01mimport\u001b[39;00m geometries, string2geom\n",
      "\u001b[36mFile \u001b[39m\u001b[32mE:\\15_REPOS/00_BETAMI/bin/Flopy_functions\\notebook_utils_beta.py:141\u001b[39m\n\u001b[32m    139\u001b[39m         model = simulation.get_model(model_name) ; i, j = get_model_cell_count(model) ; ncells += i ; nactive += j\n\u001b[32m    140\u001b[39m     \u001b[38;5;28;01mreturn\u001b[39;00m ncells, nactive\n\u001b[32m--> \u001b[39m\u001b[32m141\u001b[39m ncells, nactive = get_simulation_cell_count(\u001b[43msim\u001b[49m) ;  \u001b[38;5;28mprint\u001b[39m(\u001b[33m\"\u001b[39m\u001b[33mnr. of cells:\u001b[39m\u001b[33m\"\u001b[39m, ncells, \u001b[33m\"\u001b[39m\u001b[33m, active:\u001b[39m\u001b[33m\"\u001b[39m, nactive)\n\u001b[32m    142\u001b[39m \u001b[38;5;66;03m#__________________\u001b[39;00m\n\u001b[32m    143\u001b[39m \u001b[38;5;66;03m#__________________\u001b[39;00m\n\u001b[32m    144\u001b[39m \u001b[38;5;28;01mdef\u001b[39;00m\u001b[38;5;250m \u001b[39m\u001b[34mread_solver_csv\u001b[39m():\n",
      "\u001b[31mNameError\u001b[39m: name 'sim' is not defined"
     ]
    }
   ],
   "source": [
    "sys.path.append(\"E:/15_REPOS/00_BETAMI/bin/Flopy_functions\")\n",
    "from notebook_utils_beta import geometries, string2geom"
   ]
  },
  {
   "cell_type": "code",
   "execution_count": null,
   "metadata": {
    "execution": {
     "iopub.status.busy": "2025-06-16T12:56:02.728521Z",
     "iopub.status.idle": "2025-06-16T12:56:02.728791Z",
     "shell.execute_reply": "2025-06-16T12:56:02.728663Z",
     "shell.execute_reply.started": "2025-06-16T12:56:02.728650Z"
    }
   },
   "outputs": [],
   "source": [
    "boundary_polygon = string2geom(geometry[\"boundary\"])\n",
    "bp = np.array(boundary_polygon)\n",
    "\n",
    "stream_segs = (geometry[\"streamseg1\"],geometry[\"streamseg2\"],geometry[\"streamseg3\"],geometry[\"streamseg4\"])\n",
    "sgs = [string2geom(sg) for sg in stream_segs]"
   ]
  },
  {
   "cell_type": "code",
   "execution_count": null,
   "metadata": {
    "execution": {
     "iopub.status.busy": "2025-06-16T12:56:02.730225Z",
     "iopub.status.idle": "2025-06-16T12:56:02.730897Z",
     "shell.execute_reply": "2025-06-16T12:56:02.730740Z",
     "shell.execute_reply.started": "2025-06-16T12:56:02.730725Z"
    }
   },
   "outputs": [],
   "source": [
    "gwf = sim.get_model()\n",
    "times = gwf.output.head().get_times()\n",
    "base_head = np.squeeze(gwf.output.head().get_data(totim=times[-1]))"
   ]
  },
  {
   "cell_type": "code",
   "execution_count": null,
   "metadata": {
    "execution": {
     "iopub.status.busy": "2025-06-16T12:56:02.731922Z",
     "iopub.status.idle": "2025-06-16T12:56:02.732263Z",
     "shell.execute_reply": "2025-06-16T12:56:02.732132Z",
     "shell.execute_reply.started": "2025-06-16T12:56:02.732119Z"
    }
   },
   "outputs": [],
   "source": [
    "fig = plt.figure(figsize=figsize)\n",
    "pmv = flopy.plot.PlotMapView(model=gwf, layer=0)\n",
    "pmv.plot_array(base_head)\n",
    "\n",
    "for sg in sgs:\n",
    "    sa = np.array(sg)\n",
    "    pmv.ax.plot(sa[:, 0], sa[:, 1], \"b-\")"
   ]
  },
  {
   "cell_type": "code",
   "execution_count": null,
   "metadata": {},
   "outputs": [],
   "source": []
  }
 ],
 "metadata": {
  "kernelspec": {
   "display_name": "Python 3 (ipykernel)",
   "language": "python",
   "name": "python3"
  },
  "language_info": {
   "codemirror_mode": {
    "name": "ipython",
    "version": 3
   },
   "file_extension": ".py",
   "mimetype": "text/x-python",
   "name": "python",
   "nbconvert_exporter": "python",
   "pygments_lexer": "ipython3",
   "version": "3.13.3"
  }
 },
 "nbformat": 4,
 "nbformat_minor": 4
}
