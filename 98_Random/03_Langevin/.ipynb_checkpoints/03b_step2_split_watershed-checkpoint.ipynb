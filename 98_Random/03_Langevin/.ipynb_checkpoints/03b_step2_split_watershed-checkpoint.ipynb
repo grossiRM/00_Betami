{
 "cells": [
  {
   "cell_type": "markdown",
   "metadata": {
    "execution": {
     "iopub.execute_input": "2025-06-16T12:54:09.849301Z",
     "iopub.status.busy": "2025-06-16T12:54:09.848978Z",
     "iopub.status.idle": "2025-06-16T12:54:09.854078Z",
     "shell.execute_reply": "2025-06-16T12:54:09.853037Z",
     "shell.execute_reply.started": "2025-06-16T12:54:09.849279Z"
    }
   },
   "source": [
    "<font color='blue'> **step2_MF6Splitter** </font> "
   ]
  },
  {
   "cell_type": "code",
   "execution_count": 1,
   "metadata": {
    "execution": {
     "iopub.execute_input": "2025-06-16T11:45:39.414794Z",
     "iopub.status.busy": "2025-06-16T11:45:39.414478Z",
     "iopub.status.idle": "2025-06-16T11:45:40.822557Z",
     "shell.execute_reply": "2025-06-16T11:45:40.822065Z",
     "shell.execute_reply.started": "2025-06-16T11:45:39.414770Z"
    }
   },
   "outputs": [],
   "source": [
    "import sys ; import flopy ; import matplotlib.pyplot as plt ; import numpy as np ; from flopy.mf6.utils import Mf6Splitter\n",
    "from pathlib import Path; import warnings  ; warnings.filterwarnings(\"ignore\", category=DeprecationWarning)  # pip install h5py"
   ]
  },
  {
   "cell_type": "code",
   "execution_count": 2,
   "metadata": {
    "execution": {
     "iopub.execute_input": "2025-06-16T11:45:40.823854Z",
     "iopub.status.busy": "2025-06-16T11:45:40.823371Z",
     "iopub.status.idle": "2025-06-16T11:45:40.827959Z",
     "shell.execute_reply": "2025-06-16T11:45:40.827280Z",
     "shell.execute_reply.started": "2025-06-16T11:45:40.823830Z"
    }
   },
   "outputs": [],
   "source": [
    "ref_data1  = Path(\"E:/15_REPOS/00_BETAMI/bin/Flopy_3099/03_RES_base_watershed\")  # PETSc MPI paralel Mf6Splitter 08b(Flopy) docker, ...\n",
    "ref_data2  = Path(\"E:/15_REPOS/00_BETAMI/bin/Flopy_3099/03.04_3099_watershed\")   # Flopy\n",
    "ref_data3  = Path(\"E:/15_REPOS/00_BETAMI/bin/Flopy_3099/04_RES_watershed_split/opt_split_models\")  # Flopy     # 3099\n",
    "\n",
    "sim_ws = Path(\"./03b_step02\")  ; sim_ws.mkdir(exist_ok=True)  "
   ]
  },
  {
   "cell_type": "code",
   "execution_count": 3,
   "metadata": {
    "execution": {
     "iopub.execute_input": "2025-06-16T11:45:40.829325Z",
     "iopub.status.busy": "2025-06-16T11:45:40.828915Z",
     "iopub.status.idle": "2025-06-16T11:45:40.835244Z",
     "shell.execute_reply": "2025-06-16T11:45:40.834751Z",
     "shell.execute_reply.started": "2025-06-16T11:45:40.829301Z"
    }
   },
   "outputs": [],
   "source": [
    "parallel_dir = Path.cwd().joinpath(\"03b_step02/parallel\")"
   ]
  },
  {
   "cell_type": "code",
   "execution_count": 4,
   "metadata": {
    "execution": {
     "iopub.execute_input": "2025-06-16T11:45:40.836753Z",
     "iopub.status.busy": "2025-06-16T11:45:40.836226Z",
     "iopub.status.idle": "2025-06-16T11:45:41.587165Z",
     "shell.execute_reply": "2025-06-16T11:45:41.586493Z",
     "shell.execute_reply.started": "2025-06-16T11:45:40.836634Z"
    }
   },
   "outputs": [],
   "source": [
    "ref_data = ref_data2 ;   base_sim = flopy.mf6.MFSimulation.load(sim_ws = ref_data, verbosity_level=0)   # base_dir\n",
    "base_sim.set_sim_path(sim_ws) ; base_sim.write_simulation(silent=False)"
   ]
  },
  {
   "cell_type": "code",
   "execution_count": 5,
   "metadata": {
    "execution": {
     "iopub.execute_input": "2025-06-16T11:45:41.588360Z",
     "iopub.status.busy": "2025-06-16T11:45:41.588044Z",
     "iopub.status.idle": "2025-06-16T11:45:41.592703Z",
     "shell.execute_reply": "2025-06-16T11:45:41.592160Z",
     "shell.execute_reply.started": "2025-06-16T11:45:41.588336Z"
    }
   },
   "outputs": [],
   "source": [
    "nr_domains = 3  ; mfsplit = Mf6Splitter(base_sim)"
   ]
  },
  {
   "cell_type": "code",
   "execution_count": 6,
   "metadata": {
    "execution": {
     "iopub.execute_input": "2025-06-16T11:45:41.595299Z",
     "iopub.status.busy": "2025-06-16T11:45:41.594976Z",
     "iopub.status.idle": "2025-06-16T11:45:41.607555Z",
     "shell.execute_reply": "2025-06-16T11:45:41.606787Z",
     "shell.execute_reply.started": "2025-06-16T11:45:41.595276Z"
    }
   },
   "outputs": [],
   "source": [
    "gwf = base_sim.get_model()  ; nrow = gwf.modelgrid.nrow  ; ncol = gwf.modelgrid.ncol\n",
    "use_metis = False\n",
    "if use_metis:\n",
    "    split_array = mfsplit.optimize_splitting_mask(nparts=nr_domains)\n",
    "else:\n",
    "    split_array = np.zeros((nrow, ncol), dtype=int)\n",
    "    for irow in range(nrow):\n",
    "        for icol in range(ncol): isub = np.floor(icol / (ncol / nr_domains)) ;  split_array[irow, icol] = isub"
   ]
  },
  {
   "cell_type": "code",
   "execution_count": 7,
   "metadata": {
    "execution": {
     "iopub.execute_input": "2025-06-16T11:45:41.608743Z",
     "iopub.status.busy": "2025-06-16T11:45:41.608346Z",
     "iopub.status.idle": "2025-06-16T11:45:41.840025Z",
     "shell.execute_reply": "2025-06-16T11:45:41.839378Z",
     "shell.execute_reply.started": "2025-06-16T11:45:41.608720Z"
    }
   },
   "outputs": [
    {
     "data": {
      "text/plain": [
       "<matplotlib.colorbar.Colorbar at 0x1c5e46a4c20>"
      ]
     },
     "execution_count": 7,
     "metadata": {},
     "output_type": "execute_result"
    },
    {
     "data": {
      "image/png": "[encoded data removed]",
      "text/plain": [
       "<Figure size 640x480 with 2 Axes>"
      ]
     },
     "metadata": {},
     "output_type": "display_data"
    }
   ],
   "source": [
    "pmv = flopy.plot.PlotMapView(model=gwf, layer=0)            ; pa = pmv.plot_array(split_array)\n",
    "pmv.plot_inactive(color_noflow=\"white\") ; plt.ylabel(\"row\") ; plt.xlabel(\"column\") ; plt.colorbar(pa, shrink=0.6)"
   ]
  },
  {
   "cell_type": "code",
   "execution_count": 8,
   "metadata": {
    "execution": {
     "iopub.execute_input": "2025-06-16T11:45:41.841466Z",
     "iopub.status.busy": "2025-06-16T11:45:41.841057Z",
     "iopub.status.idle": "2025-06-16T11:45:42.059790Z",
     "shell.execute_reply": "2025-06-16T11:45:42.059280Z",
     "shell.execute_reply.started": "2025-06-16T11:45:41.841443Z"
    }
   },
   "outputs": [],
   "source": [
    "parallel_sim = mfsplit.split_model(split_array)"
   ]
  },
  {
   "cell_type": "code",
   "execution_count": 9,
   "metadata": {
    "execution": {
     "iopub.execute_input": "2025-06-16T11:45:42.061112Z",
     "iopub.status.busy": "2025-06-16T11:45:42.060546Z",
     "iopub.status.idle": "2025-06-16T11:45:42.064525Z",
     "shell.execute_reply": "2025-06-16T11:45:42.063978Z",
     "shell.execute_reply.started": "2025-06-16T11:45:42.061081Z"
    }
   },
   "outputs": [],
   "source": [
    "models = [parallel_sim.get_model(mname) for mname in parallel_sim.model_names]  # HPC file"
   ]
  },
  {
   "cell_type": "code",
   "execution_count": 10,
   "metadata": {
    "execution": {
     "iopub.execute_input": "2025-06-16T11:45:42.065761Z",
     "iopub.status.busy": "2025-06-16T11:45:42.065401Z",
     "iopub.status.idle": "2025-06-16T11:45:42.075068Z",
     "shell.execute_reply": "2025-06-16T11:45:42.074472Z",
     "shell.execute_reply.started": "2025-06-16T11:45:42.065738Z"
    }
   },
   "outputs": [
    {
     "name": "stdout",
     "output_type": "stream",
     "text": [
      "[['model_0', 0], ['model_1', 1], ['model_2', 2]]\n"
     ]
    }
   ],
   "source": [
    "partition_data = [[m.name, i] for i, m in enumerate(models)]   ; print(partition_data)"
   ]
  },
  {
   "cell_type": "code",
   "execution_count": 11,
   "metadata": {
    "execution": {
     "iopub.execute_input": "2025-06-16T11:45:42.076313Z",
     "iopub.status.busy": "2025-06-16T11:45:42.075893Z",
     "iopub.status.idle": "2025-06-16T11:45:42.083280Z",
     "shell.execute_reply": "2025-06-16T11:45:42.082564Z",
     "shell.execute_reply.started": "2025-06-16T11:45:42.076281Z"
    }
   },
   "outputs": [],
   "source": [
    "hpc = flopy.mf6.ModflowUtlhpc(parallel_sim, partitions=partition_data)"
   ]
  },
  {
   "cell_type": "markdown",
   "metadata": {},
   "source": [
    "Now write the simulation to disk. Also write the lookup table from the splitter so we can recombine the data to represent a single domain further below"
   ]
  },
  {
   "cell_type": "code",
   "execution_count": 12,
   "metadata": {
    "execution": {
     "iopub.execute_input": "2025-06-16T11:45:42.084565Z",
     "iopub.status.busy": "2025-06-16T11:45:42.084178Z",
     "iopub.status.idle": "2025-06-16T11:45:42.560798Z",
     "shell.execute_reply": "2025-06-16T11:45:42.560220Z",
     "shell.execute_reply.started": "2025-06-16T11:45:42.084542Z"
    }
   },
   "outputs": [
    {
     "name": "stdout",
     "output_type": "stream",
     "text": [
      "writing simulation...\n",
      "  writing simulation name file...\n",
      "  writing simulation tdis package...\n",
      "  writing solution package ims_-1...\n",
      "  writing package model_0_model_1...\n",
      "  writing package model_1_model_2...\n",
      "  writing package sim.hpc...\n",
      "  writing model model_0...\n",
      "    writing model name file...\n",
      "    writing package dis...\n",
      "    writing package ic...\n",
      "    writing package npf...\n",
      "    writing package rcha_0...\n",
      "    writing package river...\n",
      "    writing package gwd...\n",
      "    writing package oc...\n",
      "  writing model model_1...\n",
      "    writing model name file...\n",
      "    writing package dis...\n",
      "    writing package ic...\n",
      "    writing package npf...\n",
      "    writing package rcha_0...\n",
      "    writing package river...\n",
      "    writing package gwd...\n",
      "    writing package oc...\n",
      "  writing model model_2...\n",
      "    writing model name file...\n",
      "    writing package dis...\n",
      "    writing package ic...\n",
      "    writing package npf...\n",
      "    writing package rcha_0...\n",
      "    writing package river...\n",
      "    writing package gwd...\n",
      "    writing package oc...\n"
     ]
    }
   ],
   "source": [
    "parallel_sim.set_sim_path(parallel_dir)  ; parallel_sim.write_simulation()\n",
    "mfsplit.save_node_mapping(parallel_dir / \"mfsplit_node_mapping.json\")"
   ]
  },
  {
   "cell_type": "markdown",
   "metadata": {},
   "source": [
    "Plot the contours of the subdomains"
   ]
  },
  {
   "cell_type": "code",
   "execution_count": 13,
   "metadata": {
    "execution": {
     "iopub.execute_input": "2025-06-16T11:45:42.562241Z",
     "iopub.status.busy": "2025-06-16T11:45:42.561786Z",
     "iopub.status.idle": "2025-06-16T11:45:42.756638Z",
     "shell.execute_reply": "2025-06-16T11:45:42.756159Z",
     "shell.execute_reply.started": "2025-06-16T11:45:42.562218Z"
    }
   },
   "outputs": [
    {
     "data": {
      "image/png": "[encoded data removed]",
      "text/plain": [
       "<Figure size 708.661x389.764 with 3 Axes>"
      ]
     },
     "metadata": {},
     "output_type": "display_data"
    }
   ],
   "source": [
    "figheight = figwidth = 180 / 10 / 2.54  # inch\n",
    "fig = plt.figure(figsize=(figwidth, 0.55 * figheight))\n",
    "\n",
    "for i, m in enumerate(parallel_sim.model_names):\n",
    "    ax = fig.add_subplot(1, nr_domains, i + 1)\n",
    "    pmv = flopy.plot.PlotMapView(models[i])\n",
    "    idomain = models[i].modelgrid.idomain\n",
    "    pmv.plot_array(idomain[0], vmax=2)\n",
    "\n",
    "    ax.set_xticklabels([])\n",
    "    ax.set_yticklabels([])"
   ]
  },
  {
   "cell_type": "markdown",
   "metadata": {},
   "source": [
    "Check if the model partitions are evenly split"
   ]
  },
  {
   "cell_type": "code",
   "execution_count": 14,
   "metadata": {
    "execution": {
     "iopub.execute_input": "2025-06-16T11:45:42.757796Z",
     "iopub.status.busy": "2025-06-16T11:45:42.757355Z",
     "iopub.status.idle": "2025-06-16T11:45:42.761892Z",
     "shell.execute_reply": "2025-06-16T11:45:42.761293Z",
     "shell.execute_reply.started": "2025-06-16T11:45:42.757773Z"
    }
   },
   "outputs": [
    {
     "name": "stdout",
     "output_type": "stream",
     "text": [
      "Nr. of active cells in model_0: 3515\n",
      "Nr. of active cells in model_1: 4200\n",
      "Nr. of active cells in model_2: 2700\n"
     ]
    }
   ],
   "source": [
    "for m in models:\n",
    "    idomain = m.modelgrid.idomain\n",
    "    print(f\"Nr. of active cells in {m.name}:\", np.count_nonzero(idomain))"
   ]
  },
  {
   "cell_type": "code",
   "execution_count": null,
   "metadata": {},
   "outputs": [],
   "source": []
  }
 ],
 "metadata": {
  "kernelspec": {
   "display_name": "Python 3 (ipykernel)",
   "language": "python",
   "name": "python3"
  },
  "language_info": {
   "codemirror_mode": {
    "name": "ipython",
    "version": 3
   },
   "file_extension": ".py",
   "mimetype": "text/x-python",
   "name": "python",
   "nbconvert_exporter": "python",
   "pygments_lexer": "ipython3",
   "version": "3.13.3"
  }
 },
 "nbformat": 4,
 "nbformat_minor": 4
}
