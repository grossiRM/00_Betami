{
 "cells": [
  {
   "cell_type": "markdown",
   "metadata": {},
   "source": [
    "Pump Test Example __ Prof. Gretchen Miller, Texas A&M University"
   ]
  },
  {
   "cell_type": "code",
   "execution_count": 1,
   "metadata": {},
   "outputs": [],
   "source": [
    "import csv ; import numpy as np ; import matplotlib.pyplot as plt ; from pathlib import Path ; import pandas as pd\n",
    "output_folder = Path(\"./output_Theis_02\")     ; output_folder.mkdir(exist_ok=True)"
   ]
  },
  {
   "cell_type": "code",
   "execution_count": 2,
   "metadata": {},
   "outputs": [
    {
     "data": {
      "image/png": "[encoded data removed]",
      "text/plain": [
       "<Figure size 400x400 with 1 Axes>"
      ]
     },
     "metadata": {},
     "output_type": "display_data"
    }
   ],
   "source": [
    "import matplotlib.pyplot as plt    \n",
    "image = plt.imread('E:/15_REPOS/00_BETAMI/bin/Figure/theis_diagram.gif')\n",
    "fig, ax = plt.subplots(figsize=(4, 4)) ; ax.imshow(image) ; ax.axis('off') ; plt.show() "
   ]
  },
  {
   "cell_type": "markdown",
   "metadata": {},
   "source": [
    "Transmissivity is calculated as: \n",
    "\n",
    "$$ T = \\frac{Q}{4 \\pi (H_0 - H)} *W(u)$$\n",
    "\n",
    "where\n",
    "\n",
    "$$u = \\frac{r^2S}{4Tt}$$\n",
    "\n",
    "\n",
    "\n",
    "As a reminder, $W(u)$ is the well function, given as:\n",
    "\n",
    "$$W(u) = \\int_{u}^{\\infty} \\frac{e^{-a}}{a}\\,da$$\n",
    "$$W(u) = -0.57721566 - ln(u) + u -\\frac{u^2}{2*2!} + \\frac{u^3}{3*3!} -\\frac{u^4}{4*4!} + ...$$\n",
    "\n",
    "\n"
   ]
  },
  {
   "cell_type": "code",
   "execution_count": 3,
   "metadata": {},
   "outputs": [],
   "source": [
    "Q = 8176.49 # in m3/d\n",
    "Q = Q/(24*60) #convert to min\n",
    "r = 91.44 # in m"
   ]
  },
  {
   "cell_type": "code",
   "execution_count": 4,
   "metadata": {},
   "outputs": [],
   "source": [
    "with open('E:\\\\15_REPOS\\\\00_BETAMI\\\\bin\\\\Pump\\\\well_test_data.csv',newline='') as csvfile:\n",
    "    datain = csv.reader(csvfile,quoting = csv.QUOTE_NONNUMERIC)  ;   data = np.array(list(datain))   \n",
    "# print(data)\n",
    "time = data[:,0]   ; s_meas = data[:,1] #measured drawdown data\n",
    "\n",
    "df1 = pd.DataFrame(time)  ; df2 = pd.DataFrame(s_meas) ; pe = pd.concat([df1, df2], axis=1)  ; pe.columns = [\"(sec)\", \"(meters)\"]\n",
    "pe.to_csv(output_folder/ 'a_pe.csv') "
   ]
  },
  {
   "cell_type": "markdown",
   "metadata": {},
   "source": [
    "Now we can plot our data for reference. Notice how it follows the general shape of the well function that we've seen before."
   ]
  },
  {
   "cell_type": "code",
   "execution_count": 5,
   "metadata": {},
   "outputs": [
    {
     "data": {
      "image/png": "[encoded data removed]",
      "text/plain": [
       "<Figure size 400x200 with 1 Axes>"
      ]
     },
     "metadata": {},
     "output_type": "display_data"
    }
   ],
   "source": [
    "plt.figure(figsize=(4, 2))  ; plt.loglog(time, s_meas,'bo') ; plt.xlabel('Time [min]') ; plt.ylabel('$H-h$ [m]') ; plt.show()"
   ]
  },
  {
   "cell_type": "markdown",
   "metadata": {},
   "source": [
    "## Fitting the Well Function to the data\n",
    "\n",
    "Now what we need to do is fit the Theis equation to this data, which is a multi-step process:\n",
    "<ol>\n",
    "<li>Program drawdown equation and well function.</li>\n",
    "<li>Make an intial guess for the values of transmissvity, $T$, and storativity, $S$.</li>\n",
    "<li>Calculate drawdown, $s'$, for each measured time based on these guesses. These become the modeled values, or $s'_{mod}$</li>\n",
    "<li>Compare $s'_{mod}$ to the actual values $s'_{act}$ using an objective function. Here we will use a sum of squared differences metric, $SS$.</li>\n",
    "<li>Change the values of $T$ and $S$ in a systematic way until $SS$ is minimized. </li>\n",
    "<li>The values of $T$ and $S$ that give you the minimum $SS$ are your aquifer parameters.</li>   \n",
    "</ol>\n",
    "\n",
    "Let's start by making our guesses:"
   ]
  },
  {
   "cell_type": "code",
   "execution_count": 6,
   "metadata": {},
   "outputs": [],
   "source": [
    "T = 500 ; S = 0.001 ; T = T/(24*60)         # m^2/d    #unitless   # min"
   ]
  },
  {
   "cell_type": "code",
   "execution_count": 7,
   "metadata": {},
   "outputs": [
    {
     "name": "stdout",
     "output_type": "stream",
     "text": [
      "[6.02011699e+00 3.01005850e+00 2.00670566e+00 1.50502925e+00\n",
      " 1.00335283e+00 7.52514624e-01 6.02011699e-01 2.00670566e-01\n",
      " 1.50502925e-01 1.20402340e-01 1.00335283e-01 7.52514624e-02\n",
      " 6.02011699e-02 3.01005850e-02 1.50502925e-02 1.00335283e-02\n",
      " 7.52514624e-03 6.02011699e-03 4.18063680e-03]\n"
     ]
    }
   ],
   "source": [
    "uvalues = ((r**2)*S) / (4*T*time) ; print(uvalues)"
   ]
  },
  {
   "cell_type": "code",
   "execution_count": 8,
   "metadata": {},
   "outputs": [],
   "source": [
    "def well_fxn(u,tol):\n",
    "    \"\"\"\n",
    "    Returns the value of the well function in the Theis equation to specified accuracy.\n",
    "\n",
    "    Parameter\n",
    "    ---------\n",
    "    u: float\n",
    "        The value of u in the Theis equation, u = r^2*S/4*pi*T\n",
    "    tol: float\n",
    "        Accuracy of calculation\n",
    "    \"\"\"\n",
    "    \n",
    "    import numpy as np\n",
    "    import math\n",
    "\n",
    "    # Initalize well function\n",
    "    wu = -0.57721566 - np.log(u)\n",
    "    i = 1\n",
    "    err =  tol + 1.0\n",
    "    \n",
    "    # Iteratively calculate value of infinite series     \n",
    "    while err>tol:\n",
    "        if (i % 2) == 0:\n",
    "            wu_new = wu - u**i/(i*math.factorial(i))\n",
    "        else:\n",
    "            wu_new = wu + u**i/(i*math.factorial(i))\n",
    "        err = abs(wu_new - wu)\n",
    "        wu = wu_new\n",
    "        i = i + 1\n",
    "     \n",
    "    return wu"
   ]
  },
  {
   "cell_type": "code",
   "execution_count": 9,
   "metadata": {},
   "outputs": [],
   "source": [
    "import well_fxn_script as wf        # tol = acceptable error for well function calculations\n",
    "tol = 1e-7    ;  s_mod = list(map(lambda uvalues: wf.well_fxn(uvalues,tol) * Q / ( 4*T*np.pi ), uvalues ))   # wu ... wf"
   ]
  },
  {
   "cell_type": "code",
   "execution_count": 10,
   "metadata": {},
   "outputs": [
    {
     "data": {
      "image/png": "[encoded data removed]",
      "text/plain": [
       "<Figure size 400x200 with 1 Axes>"
      ]
     },
     "metadata": {},
     "output_type": "display_data"
    }
   ],
   "source": [
    "plt.figure(figsize=(4, 2)) ; plt.loglog(time, s_mod,'b-',time, s_meas,'bo', ) ; plt.xlabel('Time [min]')   ; plt.ylabel('$H_0-H$ [m]') ; plt.show()"
   ]
  },
  {
   "cell_type": "markdown",
   "metadata": {},
   "source": [
    "## **Objective function**\n",
    "$$SS = \\sum_{i=1}^{n} (s'_{mod}-s'_{meas})^2 $$"
   ]
  },
  {
   "cell_type": "code",
   "execution_count": 11,
   "metadata": {},
   "outputs": [
    {
     "name": "stdout",
     "output_type": "stream",
     "text": [
      "127.55914389825942\n"
     ]
    }
   ],
   "source": [
    "SS = np.sum(np.square(s_mod - s_meas))   ; print(SS)"
   ]
  },
  {
   "cell_type": "code",
   "execution_count": 12,
   "metadata": {},
   "outputs": [
    {
     "name": "stdout",
     "output_type": "stream",
     "text": [
      "T =  3.091927657825759\n",
      "S =  0.0003924344927547226\n"
     ]
    }
   ],
   "source": [
    "from scipy.optimize import curve_fit\n",
    "\n",
    "def func(t,Tcalc,Scalc):\n",
    "    tol = 1e-6                             ; a = len(t)   ;  s_mod_fit    = np.zeros(a)\n",
    "    for i in range(0, a):\n",
    "        u = ((r**2)*Scalc)/(4*Tcalc*t[i])  ;  s_mod_fit[i] = wf.well_fxn(u,tol) * Q / ( 4*Tcalc*np.pi )\n",
    "    return s_mod_fit\n",
    "\n",
    "[T_final,S_final], junk = curve_fit(func, time, s_meas, p0=([T,S]), bounds=(0, np.inf))\n",
    "\n",
    "print('T = ', T_final)  ; print('S = ', S_final)"
   ]
  },
  {
   "cell_type": "code",
   "execution_count": 13,
   "metadata": {},
   "outputs": [
    {
     "name": "stdout",
     "output_type": "stream",
     "text": [
      "SS = 0.0035824512691457595\n"
     ]
    }
   ],
   "source": [
    "uvalues_final = ( (r**2)*S_final ) / (4*T_final*time)\n",
    "s_mod_final = list(map(lambda uvalues_final: wf.well_fxn(uvalues_final,tol) * Q / (4*T_final*np.pi), uvalues_final))\n",
    "SS = np.sum(np.square(s_meas - s_mod_final))  ; print('SS =',SS)"
   ]
  },
  {
   "cell_type": "code",
   "execution_count": 14,
   "metadata": {},
   "outputs": [
    {
     "data": {
      "image/png": "[encoded data removed]",
      "text/plain": [
       "<Figure size 400x200 with 1 Axes>"
      ]
     },
     "metadata": {},
     "output_type": "display_data"
    }
   ],
   "source": [
    "plt.figure(figsize=(4, 2))\n",
    "plt.loglog(time, s_mod_final,'b-',time, s_meas,'bo', )    ; plt.xlabel('Time [min]')  ; plt.ylabel('$H_0-H$ [m]')\n",
    "Tstring = \"T = \"+format(T_final,'.2E') +\" m^2/d\"          ; Sstring = \"S = \" + format(S_final,'.2E')\n",
    "plt.annotate(Tstring, xy=(1, 1)) ; plt.annotate(Sstring, xy=(1,0.8)) ; plt.show()"
   ]
  },
  {
   "cell_type": "code",
   "execution_count": null,
   "metadata": {},
   "outputs": [],
   "source": []
  }
 ],
 "metadata": {
  "kernelspec": {
   "display_name": "Python 3 (ipykernel)",
   "language": "python",
   "name": "python3"
  },
  "language_info": {
   "codemirror_mode": {
    "name": "ipython",
    "version": 3
   },
   "file_extension": ".py",
   "mimetype": "text/x-python",
   "name": "python",
   "nbconvert_exporter": "python",
   "pygments_lexer": "ipython3",
   "version": "3.12.7"
  }
 },
 "nbformat": 4,
 "nbformat_minor": 4
}
