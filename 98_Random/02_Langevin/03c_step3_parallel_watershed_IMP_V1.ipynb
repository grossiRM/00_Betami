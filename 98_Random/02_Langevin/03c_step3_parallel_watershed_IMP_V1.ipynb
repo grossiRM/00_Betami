{
 "cells": [
  {
   "cell_type": "markdown",
   "metadata": {},
   "source": [
    "<font color='blue'> **step3_on multiple processors** </font> "
   ]
  },
  {
   "cell_type": "code",
   "execution_count": 1,
   "metadata": {
    "execution": {
     "iopub.execute_input": "2025-06-16T13:10:25.934252Z",
     "iopub.status.busy": "2025-06-16T13:10:25.934015Z",
     "iopub.status.idle": "2025-06-16T13:10:27.299925Z",
     "shell.execute_reply": "2025-06-16T13:10:27.299210Z",
     "shell.execute_reply.started": "2025-06-16T13:10:25.934228Z"
    }
   },
   "outputs": [],
   "source": [
    "import sys ; import flopy ; import matplotlib.pyplot as plt ; import numpy as np ; from flopy.mf6.utils import Mf6Splitter\n",
    "from pathlib import Path; import warnings  ; warnings.filterwarnings(\"ignore\", category=DeprecationWarning)  # pip install h5py"
   ]
  },
  {
   "cell_type": "code",
   "execution_count": 2,
   "metadata": {
    "execution": {
     "iopub.execute_input": "2025-06-16T13:10:27.301073Z",
     "iopub.status.busy": "2025-06-16T13:10:27.300706Z",
     "iopub.status.idle": "2025-06-16T13:10:27.305127Z",
     "shell.execute_reply": "2025-06-16T13:10:27.304511Z",
     "shell.execute_reply.started": "2025-06-16T13:10:27.301050Z"
    }
   },
   "outputs": [],
   "source": [
    "ref_data4  = Path('E:/15_REPOS/00_BETAMI/bin/Flopy_3099/05_step02/parallel')  ; sim_ws = Path(\"./03c_step03\") ; sim_ws.mkdir(exist_ok=True)  \n",
    "ref_data5  = Path('E:/15_REPOS/00_BETAMI/bin/Flopy_3099/05_step02')"
   ]
  },
  {
   "cell_type": "code",
   "execution_count": 3,
   "metadata": {
    "collapsed": true,
    "execution": {
     "iopub.execute_input": "2025-06-16T13:10:27.306393Z",
     "iopub.status.busy": "2025-06-16T13:10:27.306107Z",
     "iopub.status.idle": "2025-06-16T13:10:28.137172Z",
     "shell.execute_reply": "2025-06-16T13:10:28.136417Z",
     "shell.execute_reply.started": "2025-06-16T13:10:27.306370Z"
    },
    "jupyter": {
     "outputs_hidden": true
    }
   },
   "outputs": [
    {
     "name": "stdout",
     "output_type": "stream",
     "text": [
      "loading simulation...\n",
      "  loading simulation name file...\n",
      "  loading tdis package...\n",
      "  loading model gwf6...\n",
      "    loading package dis...\n",
      "    loading package ic...\n",
      "    loading package npf...\n",
      "    loading package rch...\n",
      "    loading package drn...\n",
      "    loading package drn...\n",
      "    loading package oc...\n",
      "  loading model gwf6...\n",
      "    loading package dis...\n",
      "    loading package ic...\n",
      "    loading package npf...\n",
      "    loading package rch...\n",
      "    loading package drn...\n",
      "    loading package drn...\n",
      "    loading package oc...\n",
      "  loading model gwf6...\n",
      "    loading package dis...\n",
      "    loading package ic...\n",
      "    loading package npf...\n",
      "    loading package rch...\n",
      "    loading package drn...\n",
      "    loading package drn...\n",
      "    loading package oc...\n",
      "  loading exchange package gwf-gwf_exg_0...\n",
      "  loading exchange package gwf-gwf_exg_1...\n",
      "  loading solution package model_0...\n",
      "loading simulation...\n",
      "  loading simulation name file...\n",
      "  loading tdis package...\n",
      "  loading model gwf6...\n",
      "    loading package dis...\n",
      "    loading package ic...\n",
      "    loading package npf...\n",
      "    loading package rch...\n",
      "    loading package drn...\n",
      "    loading package drn...\n",
      "    loading package oc...\n",
      "  loading solution package model...\n"
     ]
    }
   ],
   "source": [
    "parallel_sim = flopy.mf6.MFSimulation.load(sim_ws=ref_data4)   ; serial_sim   = flopy.mf6.MFSimulation.load(sim_ws=ref_data5)"
   ]
  },
  {
   "cell_type": "markdown",
   "metadata": {},
   "source": [
    "**Set `path_to_mf6` to the path of parallel MODFLOW 6 (`path\\to\\mf6`)** </font>  <font color='red'> **otherwise `None`** </font>  "
   ]
  },
  {
   "cell_type": "code",
   "execution_count": 4,
   "metadata": {
    "execution": {
     "iopub.execute_input": "2025-06-16T13:10:28.138599Z",
     "iopub.status.busy": "2025-06-16T13:10:28.138184Z",
     "iopub.status.idle": "2025-06-16T13:10:28.233336Z",
     "shell.execute_reply": "2025-06-16T13:10:28.232775Z",
     "shell.execute_reply.started": "2025-06-16T13:10:28.138576Z"
    }
   },
   "outputs": [
    {
     "name": "stdout",
     "output_type": "stream",
     "text": [
      "FloPy is using the following executable to run the model: C:\\Users\\gross.DESKTOP-AIRQM2M\\anaconda3\\Scripts\\mf6.exe\n",
      "FloPy is using C:\\Program Files\\Microsoft MPI\\Bin\\mpiexec.exe to run C:\\Users\\gross.DESKTOP-AIRQM2M\\anaconda3\\Scripts\\mf6.exe on 6 processors.\n",
      "\n",
      "\n",
      "ERROR REPORT:\n",
      "\n",
      "  1. Can not run parallel mode with this executable: no MPI\n",
      "\n",
      "\n",
      "ERROR REPORT:\n",
      "\n",
      "  1. Can not run parallel mode with this executable: no MPI\n",
      "\n",
      "\n",
      "ERROR REPORT:\n",
      "\n",
      "  1. Can not run parallel mode with this executable: no MPI\n",
      "\n",
      "\n",
      "ERROR REPORT:\n",
      "\n",
      "  1. Can not run parallel mode with this executable: no MPI\n",
      "\n",
      "\n",
      "ERROR REPORT:\n",
      "\n",
      "  1. Can not run parallel mode with this executable: no MPI\n",
      "\n",
      "\n",
      "ERROR REPORT:\n",
      "\n",
      "  1. Can not run parallel mode with this executable: no MPI\n"
     ]
    },
    {
     "data": {
      "text/plain": [
       "(False, [])"
      ]
     },
     "execution_count": 4,
     "metadata": {},
     "output_type": "execute_result"
    }
   ],
   "source": [
    "path_to_mf6 = 'none'\n",
    "parallel_sim.run_simulation(processors = 6, silent=False)  # PETSc"
   ]
  },
  {
   "cell_type": "code",
   "execution_count": 5,
   "metadata": {
    "execution": {
     "iopub.execute_input": "2025-06-16T13:10:28.234653Z",
     "iopub.status.busy": "2025-06-16T13:10:28.234305Z",
     "iopub.status.idle": "2025-06-16T13:10:28.799397Z",
     "shell.execute_reply": "2025-06-16T13:10:28.798225Z",
     "shell.execute_reply.started": "2025-06-16T13:10:28.234629Z"
    }
   },
   "outputs": [
    {
     "ename": "AttributeError",
     "evalue": "'NoneType' object has no attribute 'get_times'",
     "output_type": "error",
     "traceback": [
      "\u001b[31m---------------------------------------------------------------------------\u001b[39m",
      "\u001b[31mAttributeError\u001b[39m                            Traceback (most recent call last)",
      "\u001b[36mCell\u001b[39m\u001b[36m \u001b[39m\u001b[32mIn[5]\u001b[39m\u001b[32m, line 2\u001b[39m\n\u001b[32m      1\u001b[39m models = [parallel_sim.get_model(mname) \u001b[38;5;28;01mfor\u001b[39;00m mname \u001b[38;5;129;01min\u001b[39;00m parallel_sim.model_names]\n\u001b[32m----> \u001b[39m\u001b[32m2\u001b[39m times  = \u001b[43mmodels\u001b[49m\u001b[43m[\u001b[49m\u001b[32;43m0\u001b[39;49m\u001b[43m]\u001b[49m\u001b[43m.\u001b[49m\u001b[43moutput\u001b[49m\u001b[43m.\u001b[49m\u001b[43mhead\u001b[49m\u001b[43m(\u001b[49m\u001b[43m)\u001b[49m\u001b[43m.\u001b[49m\u001b[43mget_times\u001b[49m()\n\u001b[32m      3\u001b[39m heads  = [m.output.head().get_data(totim=times[-\u001b[32m1\u001b[39m]) \u001b[38;5;28;01mfor\u001b[39;00m m \u001b[38;5;129;01min\u001b[39;00m models]\n\u001b[32m      4\u001b[39m hmin   = \u001b[38;5;28mmin\u001b[39m([np.amin(h) \u001b[38;5;28;01mfor\u001b[39;00m h \u001b[38;5;129;01min\u001b[39;00m heads])\n",
      "\u001b[31mAttributeError\u001b[39m: 'NoneType' object has no attribute 'get_times'"
     ]
    }
   ],
   "source": [
    "models = [parallel_sim.get_model(mname) for mname in parallel_sim.model_names]\n",
    "times  = models[0].output.head().get_times()\n",
    "heads  = [m.output.head().get_data(totim=times[-1]) for m in models]\n",
    "hmin   = min([np.amin(h) for h in heads])\n",
    "hmax   = max([np.amax(h[h < 1e30]) for h in heads])"
   ]
  },
  {
   "cell_type": "markdown",
   "metadata": {},
   "source": [
    "## Reconstruct the data\n",
    "\n",
    "The Model Splitter reconstruction functionality takes the following dictonary to merge the result back into one"
   ]
  },
  {
   "cell_type": "code",
   "execution_count": null,
   "metadata": {
    "execution": {
     "iopub.status.busy": "2025-06-16T13:10:28.799857Z",
     "iopub.status.idle": "2025-06-16T13:10:28.800138Z",
     "shell.execute_reply": "2025-06-16T13:10:28.800008Z",
     "shell.execute_reply.started": "2025-06-16T13:10:28.799995Z"
    }
   },
   "outputs": [],
   "source": [
    "head_dict = dict(zip(range(0, len(heads)), heads))"
   ]
  },
  {
   "cell_type": "markdown",
   "metadata": {},
   "source": [
    "Reconstruct the head data for the parallel run into a single array"
   ]
  },
  {
   "cell_type": "code",
   "execution_count": null,
   "metadata": {
    "execution": {
     "iopub.status.busy": "2025-06-16T13:10:28.801249Z",
     "iopub.status.idle": "2025-06-16T13:10:28.801651Z",
     "shell.execute_reply": "2025-06-16T13:10:28.801508Z",
     "shell.execute_reply.started": "2025-06-16T13:10:28.801494Z"
    }
   },
   "outputs": [],
   "source": [
    "json_path = parallel_dir / \"mfsplit_node_mapping.json\"\n",
    "mfsplit = Mf6Splitter(serial_sim)\n",
    "mfsplit.load_node_mapping(parallel_sim, json_path)\n",
    "reconstructed_head = mfsplit.reconstruct_array(head_dict)"
   ]
  },
  {
   "cell_type": "markdown",
   "metadata": {},
   "source": [
    "Get the base reference results"
   ]
  },
  {
   "cell_type": "code",
   "execution_count": null,
   "metadata": {
    "execution": {
     "iopub.status.busy": "2025-06-16T13:10:28.802718Z",
     "iopub.status.idle": "2025-06-16T13:10:28.803672Z",
     "shell.execute_reply": "2025-06-16T13:10:28.803425Z",
     "shell.execute_reply.started": "2025-06-16T13:10:28.803399Z"
    }
   },
   "outputs": [],
   "source": [
    "base_gwf = serial_sim.get_model()\n",
    "base_head = base_gwf.output.head().get_data(totim=times[-1])"
   ]
  },
  {
   "cell_type": "markdown",
   "metadata": {},
   "source": [
    "## Plot parallel versus serial simulated output"
   ]
  },
  {
   "cell_type": "code",
   "execution_count": null,
   "metadata": {
    "execution": {
     "iopub.status.busy": "2025-06-16T13:10:28.804576Z",
     "iopub.status.idle": "2025-06-16T13:10:28.804878Z",
     "shell.execute_reply": "2025-06-16T13:10:28.804747Z",
     "shell.execute_reply.started": "2025-06-16T13:10:28.804735Z"
    }
   },
   "outputs": [],
   "source": [
    "fig = plt.figure(figsize=(figwidth, figheight * 1.3333))\n",
    "dh = reconstructed_head - base_head\n",
    "hv = [reconstructed_head, base_head, dh]\n",
    "titles = [\"Parallel\", \"Serial\", \"difference Parallel and Serial\"]\n",
    "for idx in range(3):\n",
    "    ax = fig.add_subplot(3, 1, idx + 1)\n",
    "    ax.set_aspect(\"equal\")\n",
    "    ax.set_title(titles[idx])\n",
    "\n",
    "    if idx < 2:\n",
    "        levels = np.arange(0, 100, 10)\n",
    "        vmin = hmin\n",
    "        vmax = hmax\n",
    "    else:\n",
    "        levels = None\n",
    "        vmin = None\n",
    "        vmax = None\n",
    "\n",
    "    pmv = flopy.plot.PlotMapView(model=base_gwf, ax=ax, layer=0)\n",
    "    h = pmv.plot_array(hv[idx], vmin=vmin, vmax=vmax)\n",
    "    if levels is not None:\n",
    "        c = pmv.contour_array(\n",
    "            hv[idx],\n",
    "            levels=np.arange(0, 100, 10),\n",
    "            colors=\"white\",\n",
    "            linewidths=0.75,\n",
    "            linestyles=\":\",\n",
    "        )\n",
    "        plt.clabel(c, fontsize=8)\n",
    "    if base_gwf.modelgrid.idomain is not None:\n",
    "        pmv.plot_inactive(color_noflow=\"white\")\n",
    "    plt.colorbar(h, ax=ax)\n",
    "    if idx < 2:\n",
    "        ax.set_xticklabels([])\n",
    "\n",
    "plt.show(block=False)"
   ]
  }
 ],
 "metadata": {
  "kernelspec": {
   "display_name": "Python 3 (ipykernel)",
   "language": "python",
   "name": "python3"
  },
  "language_info": {
   "codemirror_mode": {
    "name": "ipython",
    "version": 3
   },
   "file_extension": ".py",
   "mimetype": "text/x-python",
   "name": "python",
   "nbconvert_exporter": "python",
   "pygments_lexer": "ipython3",
   "version": "3.13.3"
  }
 },
 "nbformat": 4,
 "nbformat_minor": 4
}
