{
 "cells": [
  {
   "cell_type": "code",
   "execution_count": 1,
   "metadata": {
    "execution": {
     "iopub.execute_input": "2025-06-14T13:43:51.123223Z",
     "iopub.status.busy": "2025-06-14T13:43:51.123223Z",
     "iopub.status.idle": "2025-06-14T13:43:52.587537Z",
     "shell.execute_reply": "2025-06-14T13:43:52.587537Z",
     "shell.execute_reply.started": "2025-06-14T13:43:51.123223Z"
    }
   },
   "outputs": [],
   "source": [
    "import pathlib as pl ; import sys ; import flopy ; import matplotlib.pyplot as plt   ; import numpy as np; import pandas as pd\n",
    "from pathlib import Path ; sim_ws = Path(\"./03a_RES\") ; sim_ws.mkdir(exist_ok=True)  ; ref_data  = Path(\"./01_RES\")\n",
    "import warnings ; warnings.filterwarnings(\"ignore\", category=DeprecationWarning)"
   ]
  },
  {
   "cell_type": "raw",
   "metadata": {
    "execution": {
     "iopub.execute_input": "2025-06-14T13:45:37.488696Z",
     "iopub.status.busy": "2025-06-14T13:45:37.488696Z",
     "iopub.status.idle": "2025-06-14T13:45:37.516475Z",
     "shell.execute_reply": "2025-06-14T13:45:37.516475Z",
     "shell.execute_reply.started": "2025-06-14T13:45:37.488696Z"
    }
   },
   "source": [
    "sys.path.append(ref_data)    ; from a_defaults import (figsize,geometry,sim_ws,get_simulation_cell_count,string2geom)"
   ]
  },
  {
   "cell_type": "code",
   "execution_count": null,
   "metadata": {
    "execution": {
     "iopub.status.busy": "2025-06-14T13:43:53.468566Z",
     "iopub.status.idle": "2025-06-14T13:43:53.468566Z",
     "shell.execute_reply": "2025-06-14T13:43:53.468566Z",
     "shell.execute_reply.started": "2025-06-14T13:43:53.468566Z"
    }
   },
   "outputs": [],
   "source": [
    "name = \"watershed\" ; sim = flopy.mf6.MFSimulation.load(sim_name=name, sim_ws=pl.Path(ref_data))\n",
    "ncells, nactive = get_simulation_cell_count(sim) ; print(\"nr. of cells:\", ncells, \", active:\", nactive)"
   ]
  },
  {
   "cell_type": "code",
   "execution_count": null,
   "metadata": {
    "execution": {
     "iopub.status.busy": "2025-06-14T13:43:53.468566Z",
     "iopub.status.idle": "2025-06-14T13:43:53.468566Z",
     "shell.execute_reply": "2025-06-14T13:43:53.468566Z",
     "shell.execute_reply.started": "2025-06-14T13:43:53.468566Z"
    }
   },
   "outputs": [],
   "source": [
    "sim.set_sim_path(sim_ws) ; sim.write_simulation()"
   ]
  },
  {
   "cell_type": "code",
   "execution_count": null,
   "metadata": {
    "execution": {
     "iopub.status.busy": "2025-06-14T13:43:53.468566Z",
     "iopub.status.idle": "2025-06-14T13:43:53.468566Z",
     "shell.execute_reply": "2025-06-14T13:43:53.468566Z",
     "shell.execute_reply.started": "2025-06-14T13:43:53.468566Z"
    }
   },
   "outputs": [],
   "source": [
    "path_to_mf6 =  Path('E:\\\\15_REPOS\\\\00_BETAMI\\\\bin\\\\mf6.exe')\n",
    "sim.run_simulation(processors=1, silent=False)"
   ]
  },
  {
   "cell_type": "markdown",
   "metadata": {},
   "source": [
    "### Plot the results"
   ]
  },
  {
   "cell_type": "code",
   "execution_count": null,
   "metadata": {
    "execution": {
     "iopub.status.busy": "2025-06-14T13:43:53.468566Z",
     "iopub.status.idle": "2025-06-14T13:43:53.468566Z",
     "shell.execute_reply": "2025-06-14T13:43:53.468566Z",
     "shell.execute_reply.started": "2025-06-14T13:43:53.468566Z"
    }
   },
   "outputs": [],
   "source": [
    "boundary_polygon = string2geom(geometry[\"boundary\"])\n",
    "bp = np.array(boundary_polygon)\n",
    "\n",
    "stream_segs = (\n",
    "    geometry[\"streamseg1\"],\n",
    "    geometry[\"streamseg2\"],\n",
    "    geometry[\"streamseg3\"],\n",
    "    geometry[\"streamseg4\"],\n",
    ")\n",
    "sgs = [string2geom(sg) for sg in stream_segs]"
   ]
  },
  {
   "cell_type": "code",
   "execution_count": null,
   "metadata": {
    "execution": {
     "iopub.status.busy": "2025-06-14T13:43:53.468566Z",
     "iopub.status.idle": "2025-06-14T13:43:53.468566Z",
     "shell.execute_reply": "2025-06-14T13:43:53.468566Z",
     "shell.execute_reply.started": "2025-06-14T13:43:53.468566Z"
    }
   },
   "outputs": [],
   "source": [
    "gwf = sim.get_model()\n",
    "times = gwf.output.head().get_times()\n",
    "base_head = np.squeeze(gwf.output.head().get_data(totim=times[-1]))"
   ]
  },
  {
   "cell_type": "code",
   "execution_count": null,
   "metadata": {
    "execution": {
     "iopub.status.busy": "2025-06-14T13:43:53.477561Z",
     "iopub.status.idle": "2025-06-14T13:43:53.477561Z",
     "shell.execute_reply": "2025-06-14T13:43:53.477561Z",
     "shell.execute_reply.started": "2025-06-14T13:43:53.477561Z"
    }
   },
   "outputs": [],
   "source": [
    "fig = plt.figure(figsize=figsize)\n",
    "pmv = flopy.plot.PlotMapView(model=gwf, layer=0)\n",
    "pmv.plot_array(base_head)\n",
    "\n",
    "for sg in sgs:\n",
    "    sa = np.array(sg)\n",
    "    pmv.ax.plot(sa[:, 0], sa[:, 1], \"b-\")"
   ]
  },
  {
   "cell_type": "code",
   "execution_count": null,
   "metadata": {},
   "outputs": [],
   "source": []
  }
 ],
 "metadata": {
  "kernelspec": {
   "display_name": "Python 3 (ipykernel)",
   "language": "python",
   "name": "python3"
  },
  "language_info": {
   "codemirror_mode": {
    "name": "ipython",
    "version": 3
   },
   "file_extension": ".py",
   "mimetype": "text/x-python",
   "name": "python",
   "nbconvert_exporter": "python",
   "pygments_lexer": "ipython3",
   "version": "3.12.7"
  }
 },
 "nbformat": 4,
 "nbformat_minor": 4
}
