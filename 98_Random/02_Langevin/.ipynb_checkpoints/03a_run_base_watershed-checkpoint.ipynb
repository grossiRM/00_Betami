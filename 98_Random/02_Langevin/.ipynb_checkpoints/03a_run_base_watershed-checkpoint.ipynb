{
 "cells": [
  {
   "cell_type": "markdown",
   "metadata": {},
   "source": [
    "<font color='blue'> **03a_run_base_watershed** </font>  <font color='red'> **MPI** </font>  "
   ]
  },
  {
   "cell_type": "code",
   "execution_count": 1,
   "metadata": {
    "execution": {
     "iopub.execute_input": "2025-06-16T10:14:52.688759Z",
     "iopub.status.busy": "2025-06-16T10:14:52.688472Z",
     "iopub.status.idle": "2025-06-16T10:14:54.068623Z",
     "shell.execute_reply": "2025-06-16T10:14:54.068137Z",
     "shell.execute_reply.started": "2025-06-16T10:14:52.688735Z"
    }
   },
   "outputs": [],
   "source": [
    "import pathlib as pl ; import sys ; import flopy ; import matplotlib.pyplot as plt ; from pathlib import Path  \n",
    "import numpy as np; import pandas as pd; import warnings ; warnings.filterwarnings(\"ignore\", category=DeprecationWarning)"
   ]
  },
  {
   "cell_type": "code",
   "execution_count": 2,
   "metadata": {
    "execution": {
     "iopub.execute_input": "2025-06-16T10:14:54.069806Z",
     "iopub.status.busy": "2025-06-16T10:14:54.069445Z",
     "iopub.status.idle": "2025-06-16T10:14:54.073941Z",
     "shell.execute_reply": "2025-06-16T10:14:54.073331Z",
     "shell.execute_reply.started": "2025-06-16T10:14:54.069783Z"
    }
   },
   "outputs": [],
   "source": [
    "ref_data1  = Path(\"E:/15_REPOS/00_BETAMI/bin/Flopy_3099/03_RES_base_watershed\")  # PETSc MPI paralel Mf6Splitter 08b(Flopy) docker, ...\n",
    "ref_data2  = Path(\"E:/15_REPOS/00_BETAMI/bin/Flopy_3099/03.04_3099_watershed\") ; sim_ws = Path(\"./03a_run_MPI\")  ; sim_ws.mkdir(exist_ok=True)  \n",
    "ref_data3  = Path(\"E:/15_REPOS/00_BETAMI/bin/Flopy_3099/04_RES_watershed_split/opt_split_models\") ; ref_data = ref_data3"
   ]
  },
  {
   "cell_type": "code",
   "execution_count": 7,
   "metadata": {
    "execution": {
     "iopub.execute_input": "2025-06-16T10:15:14.451350Z",
     "iopub.status.busy": "2025-06-16T10:15:14.450977Z",
     "iopub.status.idle": "2025-06-16T10:15:14.955940Z",
     "shell.execute_reply": "2025-06-16T10:15:14.955383Z",
     "shell.execute_reply.started": "2025-06-16T10:15:14.451328Z"
    }
   },
   "outputs": [],
   "source": [
    "name = \"watershed\"   ; sim = flopy.mf6.MFSimulation.load(sim_name=name, sim_ws=pl.Path(ref_data),verbosity_level=0)"
   ]
  },
  {
   "cell_type": "code",
   "execution_count": 8,
   "metadata": {
    "execution": {
     "iopub.execute_input": "2025-06-16T10:15:29.005193Z",
     "iopub.status.busy": "2025-06-16T10:15:29.004814Z",
     "iopub.status.idle": "2025-06-16T10:15:29.350644Z",
     "shell.execute_reply": "2025-06-16T10:15:29.350127Z",
     "shell.execute_reply.started": "2025-06-16T10:15:29.005169Z"
    }
   },
   "outputs": [],
   "source": [
    "sim.set_sim_path(sim_ws) ; sim.write_simulation(silent=True)"
   ]
  },
  {
   "cell_type": "code",
   "execution_count": 9,
   "metadata": {
    "execution": {
     "iopub.execute_input": "2025-06-16T10:15:38.445958Z",
     "iopub.status.busy": "2025-06-16T10:15:38.445582Z",
     "iopub.status.idle": "2025-06-16T10:15:38.518772Z",
     "shell.execute_reply": "2025-06-16T10:15:38.518049Z",
     "shell.execute_reply.started": "2025-06-16T10:15:38.445933Z"
    }
   },
   "outputs": [
    {
     "name": "stdout",
     "output_type": "stream",
     "text": [
      "FloPy is using the following executable to run the model: C:\\Users\\gross.DESKTOP-AIRQM2M\\anaconda3\\Scripts\\mf6.exe\n",
      "FloPy is using C:\\Program Files\\Microsoft MPI\\Bin\\mpiexec.exe to run C:\\Users\\gross.DESKTOP-AIRQM2M\\anaconda3\\Scripts\\mf6.exe on 1 processors.\n",
      "\n",
      "\n",
      "ERROR REPORT:\n",
      "\n",
      "  1. Can not run parallel mode with this executable: no MPI\n"
     ]
    },
    {
     "data": {
      "text/plain": [
       "(False, [])"
      ]
     },
     "execution_count": 9,
     "metadata": {},
     "output_type": "execute_result"
    }
   ],
   "source": [
    "#path_to_mf6 =  Path('C:\\Program Files\\Microsoft MPI\\Bin\\mpiexec.exe')\n",
    "sim.run_simulation(processors=1, silent=False)"
   ]
  },
  {
   "cell_type": "markdown",
   "metadata": {},
   "source": [
    "<font color='blue'> **Try docker!** </font>   .. https://github.com/MODFLOW-ORG/modflow6/blob/develop/EXTENDED.md    hatarilabs"
   ]
  },
  {
   "cell_type": "raw",
   "metadata": {},
   "source": [
    "ncells, nactive = get_simulation_cell_count(sim) ; print(\"nr. of cells:\", ncells, \", active:\", nactive)"
   ]
  },
  {
   "cell_type": "raw",
   "metadata": {
    "execution": {
     "iopub.execute_input": "2025-06-14T13:45:37.488696Z",
     "iopub.status.busy": "2025-06-14T13:45:37.488696Z",
     "iopub.status.idle": "2025-06-14T13:45:37.516475Z",
     "shell.execute_reply": "2025-06-14T13:45:37.516475Z",
     "shell.execute_reply.started": "2025-06-14T13:45:37.488696Z"
    }
   },
   "source": [
    "sys.path.append(ref_data) ; from a_defaults import (figsize,geometry,sim_ws,get_simulation_cell_count,string2geom)"
   ]
  },
  {
   "cell_type": "markdown",
   "metadata": {},
   "source": [
    "### Plot the results"
   ]
  },
  {
   "cell_type": "code",
   "execution_count": null,
   "metadata": {},
   "outputs": [],
   "source": [
    "sys.path.append(\"E:/15_REPOS/00_BETAMI/bin/Flopy_functions\")\n",
    "from notebook_utils_beta import geometries, string2geom"
   ]
  },
  {
   "cell_type": "code",
   "execution_count": null,
   "metadata": {
    "execution": {
     "iopub.status.busy": "2025-06-16T10:14:55.827831Z",
     "iopub.status.idle": "2025-06-16T10:14:55.828301Z",
     "shell.execute_reply": "2025-06-16T10:14:55.828163Z",
     "shell.execute_reply.started": "2025-06-16T10:14:55.828150Z"
    }
   },
   "outputs": [],
   "source": [
    "boundary_polygon = string2geom(geometry[\"boundary\"])\n",
    "bp = np.array(boundary_polygon)\n",
    "\n",
    "stream_segs = (geometry[\"streamseg1\"],geometry[\"streamseg2\"],geometry[\"streamseg3\"],geometry[\"streamseg4\"])\n",
    "sgs = [string2geom(sg) for sg in stream_segs]"
   ]
  },
  {
   "cell_type": "code",
   "execution_count": null,
   "metadata": {
    "execution": {
     "iopub.status.busy": "2025-06-16T10:14:55.829430Z",
     "iopub.status.idle": "2025-06-16T10:14:55.829806Z",
     "shell.execute_reply": "2025-06-16T10:14:55.829664Z",
     "shell.execute_reply.started": "2025-06-16T10:14:55.829652Z"
    }
   },
   "outputs": [],
   "source": [
    "gwf = sim.get_model()\n",
    "times = gwf.output.head().get_times()\n",
    "base_head = np.squeeze(gwf.output.head().get_data(totim=times[-1]))"
   ]
  },
  {
   "cell_type": "code",
   "execution_count": null,
   "metadata": {
    "execution": {
     "iopub.status.busy": "2025-06-16T10:14:55.830914Z",
     "iopub.status.idle": "2025-06-16T10:14:55.831318Z",
     "shell.execute_reply": "2025-06-16T10:14:55.831177Z",
     "shell.execute_reply.started": "2025-06-16T10:14:55.831165Z"
    }
   },
   "outputs": [],
   "source": [
    "fig = plt.figure(figsize=figsize)\n",
    "pmv = flopy.plot.PlotMapView(model=gwf, layer=0)\n",
    "pmv.plot_array(base_head)\n",
    "\n",
    "for sg in sgs:\n",
    "    sa = np.array(sg)\n",
    "    pmv.ax.plot(sa[:, 0], sa[:, 1], \"b-\")"
   ]
  },
  {
   "cell_type": "code",
   "execution_count": null,
   "metadata": {},
   "outputs": [],
   "source": []
  }
 ],
 "metadata": {
  "kernelspec": {
   "display_name": "Python 3 (ipykernel)",
   "language": "python",
   "name": "python3"
  },
  "language_info": {
   "codemirror_mode": {
    "name": "ipython",
    "version": 3
   },
   "file_extension": ".py",
   "mimetype": "text/x-python",
   "name": "python",
   "nbconvert_exporter": "python",
   "pygments_lexer": "ipython3",
   "version": "3.13.3"
  }
 },
 "nbformat": 4,
 "nbformat_minor": 4
}
