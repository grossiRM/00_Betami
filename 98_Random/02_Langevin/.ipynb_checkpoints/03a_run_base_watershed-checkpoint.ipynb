{
 "cells": [
  {
   "cell_type": "markdown",
   "metadata": {},
   "source": [
    "<font color='blue'> **08b_ Mf6 Splitter** </font>  <font color='red'> **MPI** </font>  .. err .."
   ]
  },
  {
   "cell_type": "code",
   "execution_count": 1,
   "metadata": {
    "execution": {
     "iopub.execute_input": "2025-06-15T11:29:32.496923Z",
     "iopub.status.busy": "2025-06-15T11:29:32.496560Z",
     "iopub.status.idle": "2025-06-15T11:29:33.873048Z",
     "shell.execute_reply": "2025-06-15T11:29:33.872457Z",
     "shell.execute_reply.started": "2025-06-15T11:29:32.496900Z"
    }
   },
   "outputs": [],
   "source": [
    "import pathlib as pl ; import sys ; import flopy ; import matplotlib.pyplot as plt   ; import numpy as np; import pandas as pd\n",
    "from pathlib import Path ; sim_ws = Path(\"./03a_RES\") ; sim_ws.mkdir(exist_ok=True)  ; ref_data  = Path(\"./01_RES\")\n",
    "import warnings ; warnings.filterwarnings(\"ignore\", category=DeprecationWarning)"
   ]
  },
  {
   "cell_type": "raw",
   "metadata": {
    "execution": {
     "iopub.execute_input": "2025-06-14T13:45:37.488696Z",
     "iopub.status.busy": "2025-06-14T13:45:37.488696Z",
     "iopub.status.idle": "2025-06-14T13:45:37.516475Z",
     "shell.execute_reply": "2025-06-14T13:45:37.516475Z",
     "shell.execute_reply.started": "2025-06-14T13:45:37.488696Z"
    }
   },
   "source": [
    "sys.path.append(ref_data)    ; from a_defaults import (figsize,geometry,sim_ws,get_simulation_cell_count,string2geom)"
   ]
  },
  {
   "cell_type": "code",
   "execution_count": 2,
   "metadata": {
    "execution": {
     "iopub.execute_input": "2025-06-15T11:29:33.874473Z",
     "iopub.status.busy": "2025-06-15T11:29:33.873896Z",
     "iopub.status.idle": "2025-06-15T11:29:34.264918Z",
     "shell.execute_reply": "2025-06-15T11:29:34.264462Z",
     "shell.execute_reply.started": "2025-06-15T11:29:33.874448Z"
    }
   },
   "outputs": [
    {
     "name": "stdout",
     "output_type": "stream",
     "text": [
      "loading simulation...\n",
      "  loading simulation name file...\n",
      "  loading tdis package...\n",
      "  loading model gwf6...\n",
      "    loading package dis...\n",
      "    loading package ic...\n",
      "    loading package npf...\n",
      "    loading package rch...\n",
      "    loading package drn...\n",
      "    loading package drn...\n",
      "    loading package oc...\n",
      "  loading solution package model...\n"
     ]
    }
   ],
   "source": [
    "name = \"watershed\" ; sim = flopy.mf6.MFSimulation.load(sim_name=name, sim_ws=pl.Path(ref_data))"
   ]
  },
  {
   "cell_type": "code",
   "execution_count": 3,
   "metadata": {
    "execution": {
     "iopub.execute_input": "2025-06-15T11:29:34.265982Z",
     "iopub.status.busy": "2025-06-15T11:29:34.265707Z",
     "iopub.status.idle": "2025-06-15T11:29:34.525690Z",
     "shell.execute_reply": "2025-06-15T11:29:34.525196Z",
     "shell.execute_reply.started": "2025-06-15T11:29:34.265960Z"
    }
   },
   "outputs": [
    {
     "name": "stdout",
     "output_type": "stream",
     "text": [
      "writing simulation...\n",
      "  writing simulation name file...\n",
      "  writing simulation tdis package...\n",
      "  writing solution package model...\n",
      "  writing model model...\n",
      "    writing model name file...\n",
      "    writing package dis...\n",
      "    writing package ic...\n",
      "    writing package npf...\n",
      "    writing package rcha_0...\n",
      "    writing package river...\n",
      "    writing package gwd...\n",
      "    writing package oc...\n"
     ]
    }
   ],
   "source": [
    "sim.set_sim_path(sim_ws) ; sim.write_simulation()"
   ]
  },
  {
   "cell_type": "raw",
   "metadata": {},
   "source": [
    "ncells, nactive = get_simulation_cell_count(sim) ; print(\"nr. of cells:\", ncells, \", active:\", nactive)"
   ]
  },
  {
   "cell_type": "code",
   "execution_count": 4,
   "metadata": {
    "execution": {
     "iopub.execute_input": "2025-06-15T11:29:34.526788Z",
     "iopub.status.busy": "2025-06-15T11:29:34.526515Z",
     "iopub.status.idle": "2025-06-15T11:29:34.601901Z",
     "shell.execute_reply": "2025-06-15T11:29:34.601306Z",
     "shell.execute_reply.started": "2025-06-15T11:29:34.526766Z"
    }
   },
   "outputs": [
    {
     "name": "stdout",
     "output_type": "stream",
     "text": [
      "FloPy is using the following executable to run the model: C:\\Users\\gross.DESKTOP-AIRQM2M\\anaconda3\\Scripts\\mf6.exe\n",
      "FloPy is using C:\\Program Files\\Microsoft MPI\\Bin\\mpiexec.exe to run C:\\Users\\gross.DESKTOP-AIRQM2M\\anaconda3\\Scripts\\mf6.exe on 1 processors.\n",
      "\n",
      "\n",
      "ERROR REPORT:\n",
      "\n",
      "  1. Can not run parallel mode with this executable: no MPI\n"
     ]
    },
    {
     "data": {
      "text/plain": [
       "(False, [])"
      ]
     },
     "execution_count": 4,
     "metadata": {},
     "output_type": "execute_result"
    }
   ],
   "source": [
    "path_to_mf6 =  Path('E:\\\\15_REPOS\\\\00_BETAMI\\\\bin\\\\mf6.exe')\n",
    "sim.run_simulation(processors=1, silent=False)"
   ]
  },
  {
   "cell_type": "markdown",
   "metadata": {},
   "source": [
    "### Plot the results"
   ]
  },
  {
   "cell_type": "code",
   "execution_count": 5,
   "metadata": {
    "execution": {
     "iopub.execute_input": "2025-06-15T11:29:34.603162Z",
     "iopub.status.busy": "2025-06-15T11:29:34.602819Z",
     "iopub.status.idle": "2025-06-15T11:29:35.317785Z",
     "shell.execute_reply": "2025-06-15T11:29:35.316642Z",
     "shell.execute_reply.started": "2025-06-15T11:29:34.603136Z"
    }
   },
   "outputs": [
    {
     "ename": "NameError",
     "evalue": "name 'sim' is not defined",
     "output_type": "error",
     "traceback": [
      "\u001b[31m---------------------------------------------------------------------------\u001b[39m",
      "\u001b[31mNameError\u001b[39m                                 Traceback (most recent call last)",
      "\u001b[36mCell\u001b[39m\u001b[36m \u001b[39m\u001b[32mIn[5]\u001b[39m\u001b[32m, line 2\u001b[39m\n\u001b[32m      1\u001b[39m sys.path.append(\u001b[33m\"\u001b[39m\u001b[33mE:/15_REPOS/00_BETAMI/bin/Flopy_functions\u001b[39m\u001b[33m\"\u001b[39m)\n\u001b[32m----> \u001b[39m\u001b[32m2\u001b[39m \u001b[38;5;28;01mfrom\u001b[39;00m\u001b[38;5;250m \u001b[39m\u001b[34;01mnotebook_utils_beta\u001b[39;00m\u001b[38;5;250m \u001b[39m\u001b[38;5;28;01mimport\u001b[39;00m geometries, string2geom\n",
      "\u001b[36mFile \u001b[39m\u001b[32mE:\\15_REPOS/00_BETAMI/bin/Flopy_functions\\notebook_utils_beta.py:141\u001b[39m\n\u001b[32m    139\u001b[39m         model = simulation.get_model(model_name) ; i, j = get_model_cell_count(model) ; ncells += i ; nactive += j\n\u001b[32m    140\u001b[39m     \u001b[38;5;28;01mreturn\u001b[39;00m ncells, nactive\n\u001b[32m--> \u001b[39m\u001b[32m141\u001b[39m ncells, nactive = get_simulation_cell_count(\u001b[43msim\u001b[49m) ;  \u001b[38;5;28mprint\u001b[39m(\u001b[33m\"\u001b[39m\u001b[33mnr. of cells:\u001b[39m\u001b[33m\"\u001b[39m, ncells, \u001b[33m\"\u001b[39m\u001b[33m, active:\u001b[39m\u001b[33m\"\u001b[39m, nactive)\n\u001b[32m    142\u001b[39m \u001b[38;5;66;03m#__________________\u001b[39;00m\n\u001b[32m    143\u001b[39m \u001b[38;5;66;03m#__________________\u001b[39;00m\n\u001b[32m    144\u001b[39m \u001b[38;5;66;03m#__________________\u001b[39;00m\n\u001b[32m    145\u001b[39m \u001b[38;5;66;03m#__________________\u001b[39;00m\n\u001b[32m    146\u001b[39m \u001b[38;5;66;03m#__________________\u001b[39;00m\n",
      "\u001b[31mNameError\u001b[39m: name 'sim' is not defined"
     ]
    }
   ],
   "source": [
    "sys.path.append(\"E:/15_REPOS/00_BETAMI/bin/Flopy_functions\")\n",
    "from notebook_utils_beta import geometries, string2geom"
   ]
  },
  {
   "cell_type": "code",
   "execution_count": null,
   "metadata": {
    "execution": {
     "iopub.status.busy": "2025-06-15T11:29:35.318269Z",
     "iopub.status.idle": "2025-06-15T11:29:35.318653Z",
     "shell.execute_reply": "2025-06-15T11:29:35.318524Z",
     "shell.execute_reply.started": "2025-06-15T11:29:35.318512Z"
    }
   },
   "outputs": [],
   "source": [
    "boundary_polygon = string2geom(geometry[\"boundary\"])\n",
    "bp = np.array(boundary_polygon)\n",
    "\n",
    "stream_segs = (\n",
    "    geometry[\"streamseg1\"],\n",
    "    geometry[\"streamseg2\"],\n",
    "    geometry[\"streamseg3\"],\n",
    "    geometry[\"streamseg4\"],\n",
    ")\n",
    "sgs = [string2geom(sg) for sg in stream_segs]"
   ]
  },
  {
   "cell_type": "code",
   "execution_count": null,
   "metadata": {
    "execution": {
     "iopub.status.busy": "2025-06-15T11:29:35.319636Z",
     "iopub.status.idle": "2025-06-15T11:29:35.320170Z",
     "shell.execute_reply": "2025-06-15T11:29:35.320025Z",
     "shell.execute_reply.started": "2025-06-15T11:29:35.320010Z"
    }
   },
   "outputs": [],
   "source": [
    "gwf = sim.get_model()\n",
    "times = gwf.output.head().get_times()\n",
    "base_head = np.squeeze(gwf.output.head().get_data(totim=times[-1]))"
   ]
  },
  {
   "cell_type": "code",
   "execution_count": null,
   "metadata": {
    "execution": {
     "iopub.status.busy": "2025-06-15T11:29:35.320917Z",
     "iopub.status.idle": "2025-06-15T11:29:35.321365Z",
     "shell.execute_reply": "2025-06-15T11:29:35.321192Z",
     "shell.execute_reply.started": "2025-06-15T11:29:35.321173Z"
    }
   },
   "outputs": [],
   "source": [
    "fig = plt.figure(figsize=figsize)\n",
    "pmv = flopy.plot.PlotMapView(model=gwf, layer=0)\n",
    "pmv.plot_array(base_head)\n",
    "\n",
    "for sg in sgs:\n",
    "    sa = np.array(sg)\n",
    "    pmv.ax.plot(sa[:, 0], sa[:, 1], \"b-\")"
   ]
  },
  {
   "cell_type": "code",
   "execution_count": null,
   "metadata": {},
   "outputs": [],
   "source": []
  }
 ],
 "metadata": {
  "kernelspec": {
   "display_name": "Python 3 (ipykernel)",
   "language": "python",
   "name": "python3"
  },
  "language_info": {
   "codemirror_mode": {
    "name": "ipython",
    "version": 3
   },
   "file_extension": ".py",
   "mimetype": "text/x-python",
   "name": "python",
   "nbconvert_exporter": "python",
   "pygments_lexer": "ipython3",
   "version": "3.13.3"
  }
 },
 "nbformat": 4,
 "nbformat_minor": 4
}
