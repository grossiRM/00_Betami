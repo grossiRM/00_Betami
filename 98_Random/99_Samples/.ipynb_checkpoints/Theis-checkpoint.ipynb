{
 "cells": [
  {
   "cell_type": "markdown",
   "metadata": {},
   "source": [
    "# Well Pumping Program Example\n",
    "#### Prof. Gretchen Miller, Texas A&M University\n",
    "#### Introduction to Groundwater Engineering"
   ]
  },
  {
   "cell_type": "markdown",
   "metadata": {},
   "source": [
    "## About the Theis Equation\n",
    "This program uses the Theis equation to find the drawndown due to pumping in a confined aquifer. The conceptual diagram below shows the general well configuration and the relevant variables.\n",
    "\n",
    "<img src=\"https://www.waterrights.utah.gov/wellinfo/theis/theis_diagram.gif\" alt=\"theis_diagram\" width=\"400\"/>\n",
    "\n",
    "The equation representing drawdown given as: \n",
    "\n",
    "$$H_0 - H = \\frac{Q}{4 \\pi T} \\int_{u}^{\\infty} \\frac{e^{-a}}{a}\\,da$$\n",
    "\n",
    "where\n",
    "\n",
    "$$u = \\frac{r^2S}{4Tt}$$"
   ]
  },
  {
   "cell_type": "markdown",
   "metadata": {},
   "source": [
    "## Defining our Paramters and Inputs\n",
    "First, we need to define our constant aquifer parameters, which are specific storage($Ss$), in units of 1/m; hydraulic conductivity ($K$), in units of $m$/$s$; and aquifer thickness ($b$), in units of m. Be sure to use decimals so that Python knows that these values should be typed as floating points."
   ]
  },
  {
   "cell_type": "code",
   "execution_count": 15,
   "metadata": {},
   "outputs": [],
   "source": [
    "Ss = 1.0e-5   # in 1/m\n",
    "K = 4.0e-5  # in m/s\n",
    "b = 100.0   # in m"
   ]
  },
  {
   "cell_type": "markdown",
   "metadata": {},
   "source": [
    "Next, we need to specify our pumping rate, here entered in gallons per minute:"
   ]
  },
  {
   "cell_type": "code",
   "execution_count": 16,
   "metadata": {},
   "outputs": [],
   "source": [
    "Q = 10.0   # in gpm"
   ]
  },
  {
   "cell_type": "markdown",
   "metadata": {},
   "source": [
    "Finally, we need to specify the time $(t)$, in days, and the distance from the well $(r)$, in meters, at which we want to find drawdown. Remember that Python variables are case sensitive, so we can use both t and T, like we would do in the mathematical equation!"
   ]
  },
  {
   "cell_type": "code",
   "execution_count": 17,
   "metadata": {},
   "outputs": [],
   "source": [
    "r = 1000.0  # in m\n",
    "t = 10.0    # in d"
   ]
  },
  {
   "cell_type": "markdown",
   "metadata": {},
   "source": [
    "Now we need to do a bit of cleanup - unit conversions and such. We calculate transmissivity $(T)$, in units of $m^2$/$s$, as $T=Kb$, and storativity ($S$), unitless, as $S = Ss*b$. We also need to convert $t$ to seconds from days and $Q$ to $m^3/s$ from $gallons/min$. "
   ]
  },
  {
   "cell_type": "code",
   "execution_count": 18,
   "metadata": {},
   "outputs": [],
   "source": [
    "T = K*b\n",
    "S = Ss*b\n",
    "t = t*24*60*60\n",
    "Q = Q * 6.30901964e-5"
   ]
  },
  {
   "cell_type": "markdown",
   "metadata": {},
   "source": [
    "## Calculating the Well Function\n",
    "Now we need to call a function to calculate the well function, which is given as \n",
    "\n",
    "$\\int_{u}^{\\infty} \\frac{e^{-a}}{a}\\,da = W(u) = -0.57721566 - ln(u) + u -\\frac{u^2}{2*2!} + \\frac{u^3}{3*3!} -\\frac{u^4}{4*4!} + ...$\n",
    "\n",
    "To evaluate this function, we need to specify our accuracy and calculate our u value from the previous entries. We also need to check that the value of u is valid (i.e., u<=100)."
   ]
  },
  {
   "cell_type": "code",
   "execution_count": 19,
   "metadata": {},
   "outputs": [],
   "source": [
    "tol = 1e-12\n",
    "u = ((r**2)*S)/(4*T*t)\n",
    "if u>100:\n",
    "    print('Invalid u =', u)"
   ]
  },
  {
   "cell_type": "markdown",
   "metadata": {},
   "source": [
    "Now we can import the function from the well_fxn_script.py file in the same directory, and call the function to get a value for $W(u)$ that is within the accuracy we want."
   ]
  },
  {
   "cell_type": "code",
   "execution_count": 20,
   "metadata": {},
   "outputs": [
    {
     "name": "stdout",
     "output_type": "stream",
     "text": [
      "W(u) = 2.12e+00\n"
     ]
    }
   ],
   "source": [
    "import well_fxn_script as wf\n",
    "wu = wf.well_fxn(u,tol)\n",
    "print('W(u) = %.2e' % wu)"
   ]
  },
  {
   "cell_type": "markdown",
   "metadata": {},
   "source": [
    "## Calculating Drawdown\n",
    "Now we need to calculate the drawdown, $H - H_0$, based on this $W(u)$. We also have to import the numpy library so that we can get a value for $\\pi$."
   ]
  },
  {
   "cell_type": "code",
   "execution_count": 21,
   "metadata": {},
   "outputs": [
    {
     "name": "stdout",
     "output_type": "stream",
     "text": [
      "Drawdown = 2.66e-02 m\n"
     ]
    }
   ],
   "source": [
    "import numpy as np\n",
    "drawdown = Q/(4*T*np.pi)*wu\n",
    "print('Drawdown = %.2e m' % drawdown)"
   ]
  },
  {
   "cell_type": "markdown",
   "metadata": {},
   "source": [
    "## Plotting Drawdown\n",
    "While this is handy, we might have been better off just opening our textbook and finding the answer off the lookup table in the appendix. The true power of the program comes when we use it to calculate W(u) multiple times. This method allows us to create a plot of drawdown over time at a particular distance or a plot of drawdown as a function of distance at a particular time."
   ]
  },
  {
   "cell_type": "markdown",
   "metadata": {},
   "source": [
    "### Computations - Drawdown over Time\n",
    "Here, we will input a range of times since pumping started and the distance from the well specified as $r$ above. We will input a time initial $(t_{initial})$ and a time final $(t_{final})$, both in days."
   ]
  },
  {
   "cell_type": "code",
   "execution_count": 22,
   "metadata": {},
   "outputs": [],
   "source": [
    "ti = 0 # Time in days\n",
    "tf = 300"
   ]
  },
  {
   "cell_type": "markdown",
   "metadata": {},
   "source": [
    "Now we will convert the times to seconds to match the rest of our units and then create a vector of times at equal intervals between them using the linspace function in the numpy library. We also check that our first value is not equal to zero, and if it is, we replace it with a value between it and the second value. This prevents divide by zero errors."
   ]
  },
  {
   "cell_type": "code",
   "execution_count": 23,
   "metadata": {},
   "outputs": [],
   "source": [
    "ti = ti*24*60*60\n",
    "tf = tf*24*60*60\n",
    "t_vec = np.linspace(ti,tf,num=100) \n",
    "if t_vec[0]==0:\n",
    "    t_vec[0]=(t_vec[0]+t_vec[1])*0.1"
   ]
  },
  {
   "cell_type": "markdown",
   "metadata": {},
   "source": [
    "Now we need to calculate a vector of u values based on our time values:"
   ]
  },
  {
   "cell_type": "code",
   "execution_count": 24,
   "metadata": {},
   "outputs": [],
   "source": [
    "u_vec = r**2*S/(4*T*t_vec)"
   ]
  },
  {
   "cell_type": "markdown",
   "metadata": {},
   "source": [
    "This is where we get a touch \"fancy\" with our Python code. What we want to do is use our well_fxn routine to calculate a W(u) value for each u. This is a very common \"design pattern\" in programming, so Python provides us with a special built-in \"map\" function to do this. But since the well function takes two parameters, and the second parameter is a constant and not something we have to iterate over, we need to use the lambda function as well. Once we do all this, we convert the map object that's been created back into a list."
   ]
  },
  {
   "cell_type": "code",
   "execution_count": 11,
   "metadata": {},
   "outputs": [],
   "source": [
    "t_drawdown = list(map(lambda u_vec: wf.well_fxn(u_vec,tol)*Q/(4*T*np.pi),u_vec))\n",
    "# print(t_drawdown)"
   ]
  },
  {
   "cell_type": "markdown",
   "metadata": {},
   "source": [
    "### Results - Drawdown over Time\n",
    "Now we need to plot! First, we import pyplot from the matplotlib library, and then we use the plotting function"
   ]
  },
  {
   "cell_type": "code",
   "execution_count": 12,
   "metadata": {},
   "outputs": [
    {
     "data": {
      "image/png": "[encoded data removed]",
      "text/plain": [
       "<Figure size 432x288 with 1 Axes>"
      ]
     },
     "metadata": {
      "needs_background": "light"
     },
     "output_type": "display_data"
    }
   ],
   "source": [
    "import matplotlib.pyplot as plt\n",
    "plt.plot(t_vec/60/60/24,t_drawdown,'b-',linewidth=2)\n",
    "plt.xlabel('Time [d]')\n",
    "plt.ylabel('$H_0-H$ [m]')\n",
    "plt.show()"
   ]
  },
  {
   "cell_type": "markdown",
   "metadata": {},
   "source": [
    "### Computations - Drawdown over Space\n",
    "Here, we will input a range of distances from the well and the time since pumping began. We will input a radius of $(r_{well})$ to indicate the place to start calculating drawdown and a maximum radius $(r_{max})$, both in meters.\n",
    "We then repeat the same basic procedure as above, except with variable space instead of time. The time is given as $t$ above."
   ]
  },
  {
   "cell_type": "code",
   "execution_count": 13,
   "metadata": {},
   "outputs": [],
   "source": [
    "rwell = 0.15 # in meters, equivalent to an approximately 12\" diameter well\n",
    "rmax = 1000\n",
    "r_vec = np.linspace(rwell,rmax,num=100)\n",
    "u_vec = r_vec**2*S/(4*T*t)\n",
    "r_drawdown = list(map(lambda u_vec: wf.well_fxn(u_vec,tol)*Q/(4*T*np.pi),u_vec))"
   ]
  },
  {
   "cell_type": "markdown",
   "metadata": {},
   "source": [
    "### Results - Drawdown over Space\n",
    "Repeat the plotting with the new values."
   ]
  },
  {
   "cell_type": "code",
   "execution_count": 14,
   "metadata": {},
   "outputs": [
    {
     "data": {
      "image/png": "[encoded data removed]",
      "text/plain": [
       "<Figure size 432x288 with 1 Axes>"
      ]
     },
     "metadata": {
      "needs_background": "light"
     },
     "output_type": "display_data"
    }
   ],
   "source": [
    "plt.plot(r_vec,r_drawdown,'b-',linewidth=2)\n",
    "plt.xlabel('Distance from Well [m]')\n",
    "plt.ylabel('$H_0-H$ [m]')\n",
    "plt.show()"
   ]
  },
  {
   "cell_type": "code",
   "execution_count": null,
   "metadata": {},
   "outputs": [],
   "source": []
  }
 ],
 "metadata": {
  "kernelspec": {
   "display_name": "Python 3",
   "language": "python",
   "name": "python3"
  },
  "language_info": {
   "codemirror_mode": {
    "name": "ipython",
    "version": 3
   },
   "file_extension": ".py",
   "mimetype": "text/x-python",
   "name": "python",
   "nbconvert_exporter": "python",
   "pygments_lexer": "ipython3",
   "version": "3.7.6"
  }
 },
 "nbformat": 4,
 "nbformat_minor": 4
}
