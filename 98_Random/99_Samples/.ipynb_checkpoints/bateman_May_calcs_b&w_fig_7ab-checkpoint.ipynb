{
 "cells": [
  {
   "cell_type": "markdown",
   "metadata": {},
   "source": [
    "## Bateman Equations for Multiple Decay - B&W version of Fig 7a,b\n",
    "\n",
    "The calculations in this Python Jupyter notebook investigate solutions to a multi-step reaction model describing the successive dechlorination of DDE to DDMU and finally DDNU, as discussed in Eganhouse and Pontolillo (2008) and Eganhouse et al. (in review). The calculations produce Figure 7 in the draft manuscript.\n",
    "\n",
    "R.P. Eganhouse, J. Pontolillo, Assessment of 1-chloro-4-[2,2-dichloro-1-(4-chlorophenyl)ethenyl]benzene (DDE) transformation rates on the Palos Verdes Shelf, CA,  U.S.G.S. Open-File Report 2007-1362, U.S. Geological Survey, Reston, VA, 2008, pp. 124.\n",
    "\n",
    "R. P. Eganhouse, C. R. Sherwood, J. Pontolillo, B. D. Edwards, and P. J. Dickhudt, Reductive dechlorination rates of 4,4’-DDE (1-chloro-4-[2,2-dichloro-1-(4-chlorophenyl)ethenyl]benzene) in sediments of the Palos Verdes Shelf, CA. Manuscript in review for submission to Marine Chemistry.\n",
    "\n",
    "The data associated with these calculations is included.\n",
    "\n",
    "A second notebook `Bateman_May_calcs_forecast` is used to produce forecasts through 2100 and used to generate Figure S-9 in the Supplementary Data.\n",
    "\n",
    "This is a version of `Bateman_May_calcs` that produces a gray-scale version of the figures.\n",
    "\n",
    "#### Dependencies\n",
    "\n",
    "scipy, matplotlib, and numpy are fairly standard in most Python distributions.\n",
    "lmfit (https://lmfit.github.io/lmfit-py/) \"provides a high-level interface to non-linear optimization and curve fitting problems\".\n",
    "\n",
    "Written in Python 3.6 in a Jupyter notebook. The `README.md` file in this repository describes how to create a conda environment that fulfills these dependencies.\n",
    "\n",
    "Christopher R. Sherwood, USGS. *See disclaimer and license in this repository.*"
   ]
  },
  {
   "cell_type": "markdown",
   "metadata": {},
   "source": [
    "##### Import dependencies\n",
    "LmFit (https://lmfit.github.io/lmfit-py/) \"provides a high-level interface to non-linear optimization and curve fitting problems\"."
   ]
  },
  {
   "cell_type": "code",
   "execution_count": 1,
   "metadata": {},
   "outputs": [],
   "source": [
    "import numpy as np\n",
    "import matplotlib.pyplot as plt\n",
    "from scipy import integrate\n",
    "import lmfit as lm\n",
    "\n",
    "%matplotlib inline\n",
    "\n",
    "# The next line controls whether bare variable names print in the output box\n",
    "# As suggested in https://www.dataquest.io/blog/jupyter-notebook-tips-tricks-shortcuts/\n",
    "from IPython.core.interactiveshell import InteractiveShell\n",
    "InteractiveShell.ast_node_interactivity = \"none\""
   ]
  },
  {
   "cell_type": "markdown",
   "metadata": {},
   "source": [
    "#### The next cell contains key switches\n",
    "Identify which site to process. Results from both sites are included in Figure 7.\n",
    "\n",
    "Choose whether to adjust the inventories according to PCB anomolies. If selected adjust_inventories is True then computations are performed using adjusted inventories, as presented in Figure 7 and discussed in the Supplementary Data.\n",
    "\n",
    "Choose whether to include estimates of the standard deviations of inventories in the objective function. If use_eps it True, the values in the objective function are normalized by the standard deviation of the observations, as in Figure 7. If not, the denominator is set to one."
   ]
  },
  {
   "cell_type": "code",
   "execution_count": 2,
   "metadata": {},
   "outputs": [],
   "source": [
    "# Pick one of the two sites\n",
    "#site = 'Site 3C' # creates part a of figure\n",
    "site = 'Site 6C'  # creates part b of figure\n",
    "\n",
    "# Adjust using PCBs?\n",
    "adjust_inventories=True # True reproduces results presented / discussed in paper\n",
    "\n",
    "# Use std. deviations in chi-square calculation?\n",
    "use_eps=True # True reproduces results presented / discussed in paper"
   ]
  },
  {
   "cell_type": "code",
   "execution_count": 3,
   "metadata": {},
   "outputs": [],
   "source": [
    "# These strings are used to build filenames for the output figures and set y-axis limits\n",
    "itext = '_'\n",
    "if adjust_inventories:\n",
    "    itext = \"_adj_\"\n",
    "etext = '_'\n",
    "if use_eps:\n",
    "    etext = \"_eps_\"\n",
    "yl = [0., 1.5]\n",
    "if site=='Site 6C':\n",
    "    yl = [0., 3.5]"
   ]
  },
  {
   "cell_type": "markdown",
   "metadata": {},
   "source": [
    "##### These data are from spreadsheet e-mailed to CRS from Bob Eganhouse 16-Dec-2016 'Inventories for C.Sherwood 12-16-2016.xlsx'\n",
    "Columns represent: time (decimal years), p,p'-DDE, p,p'-DDMU, p,p'-DDNU, PCB 118, PCB 153, PBC 138, PCB28, and PCB70 ($\\mu mol \\: cm^{-2}$)"
   ]
  },
  {
   "cell_type": "code",
   "execution_count": 4,
   "metadata": {},
   "outputs": [
    {
     "name": "stdout",
     "output_type": "stream",
     "text": [
      "Data from Site 6C with shape (4, 9)\n",
      "1992.5200  3.0700  0.6700  0.0260  0.0182  0.0119  0.0152  0.0084  0.0216  \n",
      "2003.5800  2.7500  0.8700  0.0720  0.0177  0.0122  0.0158  0.0106  0.0230  \n",
      "2009.2300  2.3700  0.7500  0.0950  0.0172  0.0095  0.0134  0.0112  0.0271  \n",
      "2010.3100  1.1600  0.4300  0.0460  0.0079  0.0054  0.0065  0.0032  0.0104  \n"
     ]
    }
   ],
   "source": [
    "# Load data from the selected site.\n",
    "# This data comes from the spreadsheet \"Inventories for C. Sherwood 12-16-2016.xlsx\" which was modified\n",
    "# and resent to CRS on 4/7/2016. The modifications added inventories of the congeners PCB28 and PBC70.\n",
    "cols=[\"Year\",\"DDE\",\"DDMU\",\"DDNU\",\"PCB118\",\"PCB153\",\"PCB138\",\"PCB28\",\"PCB70\"]\n",
    "A=np.array([\\\n",
    "    [1981.27,1.34,0.07,0.004,0.0081,0.0062,0.0076,0.0025,0.0077],\\\n",
    "    [1992.51,0.71,0.25,0.012,0.0066,0.0049,0.0064,0.0017,0.0057],\\\n",
    "    [2003.58,0.39,0.32,0.036,0.0050,0.0037,0.0050,0.0012,0.0038],\\\n",
    "    [2009.23,0.38,0.52,0.069,0.0076,0.0076,0.0085,0.0030,0.0057],\\\n",
    "    [2010.31,0.41,0.52,0.085,0.0075,0.0072,0.0079,0.0033,0.0061]])\n",
    "\n",
    "B=np.array([\\\n",
    "    [1992.52,3.07,0.67,0.026,0.0182,0.0119,0.0152,0.0084,0.0216],\\\n",
    "    [2003.58,2.75,0.87,0.072,0.0177,0.0122,0.0158,0.0106,0.0230],\\\n",
    "    [2009.23,2.37,0.75,0.095,0.0172,0.0095,0.0134,0.0112,0.0271],\\\n",
    "    [2010.31,1.16,0.43,0.046,0.0079,0.0054,0.0065,0.0032,0.0104]])\n",
    "\n",
    "# Load data for the selected site\n",
    "if site == 'Site 3C':  \n",
    "    t = A[:,0]\n",
    "    DDE=A[:,1]\n",
    "    DDMU=A[:,2]\n",
    "    DDNU=A[:,3]\n",
    "    PCB118=A[:,4]\n",
    "    PCB153=A[:,5]\n",
    "    PCB138=A[:,6]\n",
    "    PCB28=A[:,7]\n",
    "    PCB70=A[:,8]\n",
    "    print(\"Data from {0} with shape {1}\".format(site,A.shape))\n",
    "    print('\\n'.join([''.join(['{:5.4f}  '.format(item) for item in row]) \n",
    "      for row in A]))\n",
    "\n",
    "if site == 'Site 6C':  \n",
    "    t = B[:,0]\n",
    "    DDE=B[:,1]\n",
    "    DDMU=B[:,2]\n",
    "    DDNU=B[:,3]\n",
    "    PCB118=B[:,4]\n",
    "    PCB153=B[:,5]\n",
    "    PCB138=B[:,6]\n",
    "    PCB28=B[:,7]\n",
    "    PCB70=B[:,8]\n",
    "    print(\"Data from {0} with shape {1}\".format(site,B.shape))\n",
    "    print('\\n'.join([''.join(['{:5.4f}  '.format(item) for item in row]) \n",
    "      for row in B]))"
   ]
  },
  {
   "cell_type": "markdown",
   "metadata": {},
   "source": [
    "##### Make some plots of inventory over time"
   ]
  },
  {
   "cell_type": "code",
   "execution_count": 5,
   "metadata": {},
   "outputs": [],
   "source": [
    "# calculate adjustment according to mean of all PCBs inventory\n",
    "adj_PCB118 = np.mean(PCB118)/PCB118\n",
    "adj_PCB153 = np.mean(PCB153)/PCB153\n",
    "adj_PCB138 = np.mean(PCB138)/PCB138\n",
    "adj_PCB28  =  np.mean(PCB28)/PCB28\n",
    "adj_PCB70  = np.mean(PCB70)/PCB70"
   ]
  },
  {
   "cell_type": "code",
   "execution_count": 6,
   "metadata": {},
   "outputs": [
    {
     "data": {
      "image/png": "[encoded data removed]",
      "text/plain": [
       "<matplotlib.figure.Figure at 0x23295ae4898>"
      ]
     },
     "metadata": {},
     "output_type": "display_data"
    }
   ],
   "source": [
    "InteractiveShell.ast_node_interactivity = \"none\"\n",
    "# calculate first-order RDC for \n",
    "fig = plt.figure(figsize=(8,6))\n",
    "plt.semilogy(t,DDE,label='$DDE$',color='red')\n",
    "plt.semilogy(t,DDMU,label='$DDMU$',color='purple')\n",
    "plt.semilogy(t,DDNU,label='$DDNU$',color='blue')\n",
    "\n",
    "plt.semilogy(t,DDE*adj_PCB118,label='$DDE \\:adj. w/ \\:PCB \\: 118$',color='red',linestyle='dashed')\n",
    "plt.semilogy(t,DDMU*adj_PCB70,label='$DDMU \\:adj. w/  \\: PCB \\: 70$',color='purple',linestyle='dashed')\n",
    "plt.semilogy(t,DDNU*adj_PCB28,label='$DDNU \\:adj. w/  \\: PCB \\: 28$',color='blue',linestyle='dashed')\n",
    "\n",
    "plt.xlabel('Time (years)')\n",
    "plt.ylabel('Concentration ($\\mu$mol / kg)')\n",
    "if site=='Site 3C':\n",
    "    plt.legend(loc='lower right')\n",
    "if site=='Site 6C':\n",
    "    plt.legend(loc='lower left')\n",
    "plt.xticks(np.arange(1980,2020+1,10))\n",
    "ttle = site\n",
    "plt.title(ttle,fontsize=14)\n",
    "figname = site+\"inventory_time_series_rev.png\"\n",
    "plt.savefig(figname,bbox_inches='tight')"
   ]
  },
  {
   "cell_type": "markdown",
   "metadata": {},
   "source": [
    "##### Define the model\n",
    "This defines a three-component model with no global decay rate, and no fourth-generation product. It is a coupled set of ordinary differential equations that, in the model, are integrated with the `scipy.integrate.odeint` function."
   ]
  },
  {
   "cell_type": "code",
   "execution_count": 7,
   "metadata": {},
   "outputs": [],
   "source": [
    "# Version of ODE with three-generation transformation and only three transfer terms\n",
    "def dcdt3(c, t, k):\n",
    "    dfdt = np.zeros(3)\n",
    "    dfdt[0] = c[0]* -k[0]\n",
    "    dfdt[1] = c[1]* -k[1] + c[0]*k[0]\n",
    "    dfdt[2] = c[2]* -k[2] + c[1]*k[1]\n",
    "    return dfdt"
   ]
  },
  {
   "cell_type": "markdown",
   "metadata": {},
   "source": [
    "##### Define the objective function to minimize\n",
    "This function returns the quantity that lmfit will try to minimize. It returns vectors of length `nt`, the number of data points (and corresponding model estimates). The RMS of these vectors (concatenated) is the chi-square goodness of fit."
   ]
  },
  {
   "cell_type": "code",
   "execution_count": 8,
   "metadata": {},
   "outputs": [],
   "source": [
    "# Objective function using ODE for three-generation transformation \n",
    "def residual3(params, t, data, eps_data):\n",
    "    # Data is passed as a vector\n",
    "    # Index on length of time array to find intitial concentrations\n",
    "    nt = t.size\n",
    "    k = np.array((params['k1'],params['k2'],params['k3']))\n",
    "    C0 = np.array((data[0],data[nt],data[2*nt]))\n",
    "    C = integrate.odeint(dcdt3,C0,t, args = (k,))\n",
    "    model = np.concatenate((C[:,0],C[:,1],C[:,2]))\n",
    "    return (data-model)**2/eps_data**2\n",
    "    "
   ]
  },
  {
   "cell_type": "code",
   "execution_count": 9,
   "metadata": {},
   "outputs": [],
   "source": [
    "# guess at std. error in measurements per conv. with R.Eganhouse\n",
    "stde_DDE  = 0.05          #RE suggests 0.05\n",
    "stde_DDMU = 0.1          #RE suggested 0.1\n",
    "stde_DDNU = 0.1          #RE suggested 0.1\n",
    "stde_PCB  = 0.2          # std. error of measurements is around 0.2\n",
    "eps_DDE  = stde_DDE*DDE  \n",
    "eps_DDMU = stde_DDMU*DDMU\n",
    "eps_DDNU = stde_DDNU*DDNU\n",
    "eps_PCB118 = stde_PCB*PCB118\n",
    "eps_PCB28 = stde_PCB*PCB28\n",
    "eps_PCB70 = stde_PCB*PCB70\n",
    "# Note: we just use the std. error, because the PCB adjustments are normalized."
   ]
  },
  {
   "cell_type": "markdown",
   "metadata": {},
   "source": [
    "#### Fit the multi-step decay model, with or without PCB adjustment"
   ]
  },
  {
   "cell_type": "code",
   "execution_count": 10,
   "metadata": {},
   "outputs": [
    {
     "name": "stdout",
     "output_type": "stream",
     "text": [
      "data\n",
      "[ 2.57239011  2.36935028  2.10130814  2.23924051  0.63665509  0.77638043\n",
      "  0.56803506  0.84862981  0.02584524  0.05671698  0.07082589  0.12003125]\n",
      "eps_data\n",
      "[ 0.25211555  0.2427061   0.23246989  0.20824025  0.21092416  0.21810319\n",
      "  0.21360009  0.20457028  0.2000169   0.20012956  0.2002255   0.20005289]\n"
     ]
    }
   ],
   "source": [
    "# Put data for all compounds in a single vector\n",
    "nt = t.size\n",
    "data = np.concatenate((DDE,DDMU,DDNU))\n",
    "if(adjust_inventories):\n",
    "    data = np.concatenate((DDE*adj_PCB118,DDMU*adj_PCB70,DDNU*adj_PCB28))\n",
    "\n",
    "eps_data = np.ones_like(data)\n",
    "data_ebar = np.concatenate((eps_DDE,eps_DDMU,eps_DDNU))\n",
    "if(use_eps):\n",
    "    eps_data = np.concatenate((eps_DDE,eps_DDMU,eps_DDNU))\n",
    "    if(adjust_inventories):\n",
    "        eps_data = np.concatenate((np.sqrt(eps_DDE**2+stde_PCB**2),\\\n",
    "                                   np.sqrt(eps_DDMU**2+stde_PCB**2),\\\n",
    "                                   np.sqrt(eps_DDNU**2+stde_PCB**2)))\n",
    "        data_ebar = np.concatenate((np.sqrt(eps_DDE**2+stde_PCB**2),\\\n",
    "                                   np.sqrt(eps_DDMU**2+stde_PCB**2),\\\n",
    "                                   np.sqrt(eps_DDNU**2+stde_PCB**2)))\n",
    "\n",
    "print('data')\n",
    "print(data)\n",
    "print('eps_data')\n",
    "print(eps_data)"
   ]
  },
  {
   "cell_type": "code",
   "execution_count": 11,
   "metadata": {},
   "outputs": [
    {
     "name": "stdout",
     "output_type": "stream",
     "text": [
      "residual3 shape: (12,)\n",
      "RMS residuals: 2.5011491185429393\n",
      "\n",
      "Fit to DDE, DDMU, and DDNU\n",
      " Site 6C\n",
      "  Inventories adjusted by selected PCB inventories\n",
      "  Using estimates of std. errors\n",
      "[[Fit Statistics]]\n",
      "    # function evals   = 63\n",
      "    # data points      = 12\n",
      "    # variables        = 3\n",
      "    chi-square         = 0.450\n",
      "    reduced chi-square = 0.050\n",
      "    Akaike info crit   = -33.395\n",
      "    Bayesian info crit = -31.941\n",
      "[[Variables]]\n",
      "    k1:   0.00961086 +/- 0.001229 (12.79%) (init= 0.4)\n",
      "    k2:   0.02656324 +/- 0.004621 (17.40%) (init= 0.4)\n",
      "    k3:   0.19968438 +/- 0.272057 (136.24%) (init= 0.4)\n",
      "[[Correlations]] (unreported correlations are <  0.100)\n",
      "    C(k1, k2)                    =  0.836 \n",
      "    C(k2, k3)                    =  0.137 \n",
      "    C(k1, k3)                    =  0.124 \n",
      "4\n",
      "(4,)\n",
      "(4,)\n",
      "(12,)\n"
     ]
    },
    {
     "data": {
      "image/png": "[encoded data removed]",
      "text/plain": [
       "<matplotlib.figure.Figure at 0x23295ae5668>"
      ]
     },
     "metadata": {},
     "output_type": "display_data"
    }
   ],
   "source": [
    "# Fit the multistep model                                 \n",
    "# Make an instance of the lmfit.Parameters class\n",
    "params = lm.Parameters()\n",
    "# Initialize parameters with rough guess based on prior experimentation\n",
    "params.add('k1',value = 0.4, min =0., max = 0.6)\n",
    "params.add('k2',value = 0.4, min =0., max = 0.6)\n",
    "params.add('k3',value = 0.4, min =0., max = 2.0)\n",
    "\n",
    "# Test the ODE solver\n",
    "k = np.array((params['k1'],params['k2'],params['k3']))\n",
    "C0 = np.array((data[0],data[nt],data[2*nt]))\n",
    "C = integrate.odeint(dcdt3,C0,t, args = (k,))\n",
    "model = np.concatenate((C[:,0],C[:,1],C[:,2]))\n",
    "\n",
    "# Test the objective function outside\n",
    "res = residual3(params, t, data, np.ones_like(data))\n",
    "print(\"residual3 shape:\",np.shape(res))\n",
    "print(\"RMS residuals: {:}\".format( np.sqrt(np.mean(res**2))))\n",
    "\n",
    "# Optimize the parameters using least-squares fit\n",
    "out = lm.minimize(residual3, params, method='leastsq', args=(t,data,eps_data))\n",
    "\n",
    "# Get the fitted rates\n",
    "kf = np.zeros((3,))\n",
    "kf[0]=out.params['k1'].value\n",
    "kf[1]=out.params['k2'].value\n",
    "kf[2]=out.params['k3'].value\n",
    "ke = np.zeros((3,))\n",
    "ke[0] = out.params['k1'].stderr\n",
    "ke[1] = out.params['k2'].stderr\n",
    "ke[2] = out.params['k3'].stderr\n",
    "\n",
    "# Get fit metrics\n",
    "chis = out.chisqr\n",
    "chir = out.redchi\n",
    "\n",
    "# Run the ODE solver with best-fit results\n",
    "tm = np.linspace(t[0],2020.,50)\n",
    "C0 = np.array((data[0],data[nt],data[2*nt]))\n",
    "Cm = integrate.odeint(dcdt3,C0,tm, args = (kf,))\n",
    "\n",
    "# now run it for all of the cases with +/- uncertainty\n",
    "kmult = np.array((0.,1.,-1.))\n",
    "kep = np.zeros((27,3))\n",
    "Cc = np.zeros_like(Cm)\n",
    "Cmax = np.zeros_like(Cm)\n",
    "Cmin = np.zeros_like(Cm)\n",
    "C1 = np.zeros((27,50))\n",
    "C2 = np.zeros((27,50))\n",
    "C3 = np.zeros((27,50))\n",
    "n =0\n",
    "for k in np.arange(3):\n",
    "    for j in np.arange(3):\n",
    "        for i in np.arange(3):\n",
    "            kep[n][0]=max(0.,kf[0]+ke[0]*kmult[k])\n",
    "            kep[n][1]=max(0.,kf[1]+ke[1]*kmult[i])\n",
    "            kep[n][2]=max(0.,kf[2]+ke[2]*kmult[j])\n",
    "            C0 = np.array((data[0],data[nt],data[2*nt]))\n",
    "            Cc = integrate.odeint(dcdt3,C0,tm, args = (kep[n,:],))\n",
    "            C1[n,:] = Cc[:,0]\n",
    "            C2[n,:] = Cc[:,1]\n",
    "            C3[n,:] = Cc[:,2]\n",
    "            n=n+1\n",
    "\n",
    "Cmax[:,0] = np.amax(C1,axis=0)\n",
    "Cmin[:,0] = np.amin(C1,axis=0)\n",
    "Cmax[:,1] = np.amax(C2,axis=0)\n",
    "Cmin[:,1] = np.amin(C2,axis=0)\n",
    "Cmax[:,2] = np.amax(C3,axis=0)\n",
    "Cmin[:,2] = np.amin(C3,axis=0)\n",
    "\n",
    "print('\\nFit to DDE, DDMU, and DDNU')\n",
    "print(\" {}\".format(site))\n",
    "if(adjust_inventories):\n",
    "    print(\"  Inventories adjusted by selected PCB inventories\")\n",
    "if(use_eps):\n",
    "    print(\"  Using estimates of std. errors\")\n",
    "lm.report_fit(out)\n",
    "\n",
    "print(nt)\n",
    "print(np.shape(t))\n",
    "print(np.shape(data[0:nt]))\n",
    "print(np.shape(eps_data))\n",
    "\n",
    "\n",
    "cDDE = (.2,.2,.2)\n",
    "cDDMU = (.4,.4,.4)\n",
    "cDDNU = (.7,.7,.7)\n",
    "\n",
    "fig = plt.figure(figsize=(8,6))\n",
    "ax = fig.add_subplot(111)\n",
    "plt.plot(tm,Cm[:,0]+Cm[:,1]+Cm[:,2],'-',color=(.1,.1,.1),label=\"Total\")\n",
    "plt.plot(tm,Cmax[:,2],'--',color=cDDNU)\n",
    "plt.plot(tm,Cmin[:,2],'--',color=cDDNU)\n",
    "plt.plot(tm,Cmax[:,1],'--',color=cDDMU)\n",
    "plt.plot(tm,Cmin[:,1],'--',color=cDDMU)\n",
    "plt.plot(tm,Cmax[:,0],'--',color=cDDE)\n",
    "plt.plot(tm,Cmin[:,0],'--',color=cDDE)\n",
    "plt.plot(tm,Cm[:,2],'-', color=cDDNU,linewidth=2)\n",
    "plt.plot(tm,Cm[:,1],'-', color=cDDMU,linewidth=2)\n",
    "plt.plot(tm,Cm[:,0],'-', color=cDDE,linewidth=2)\n",
    "plt.plot(t,data[0:nt],'s',color=cDDE,markersize=12,linestyle='None',label='$DDE$')\n",
    "plt.plot(t,data[nt:2*nt],'o',color=cDDMU,markersize=12,linestyle='None',label='$DDMU$')\n",
    "plt.plot(t,data[2*nt:3*nt],'v',color=cDDNU,markersize=12,linestyle='None',label='$DDNU$')\n",
    "plt.errorbar(t,data[0:nt], yerr=data_ebar[0:nt],color=cDDE,elinewidth=2,linestyle='None')\n",
    "plt.errorbar(t,data[nt:2*nt], yerr=data_ebar[nt:2*nt],color=cDDMU,elinewidth=2,linestyle='None')\n",
    "plt.errorbar(t,data[2*nt:3*nt], yerr=data_ebar[2*nt:3*nt],color=cDDNU,elinewidth=2,linestyle='None')\n",
    "plt.xticks(np.arange(1980,2020+1,10))\n",
    "plt.xlabel(r'Time (years)', fontsize=14)\n",
    "\n",
    "ax.set_ylim(yl)\n",
    "plt.ylabel(r'Adjusted Inventory ($\\mu$ mol / cm$^2$)',fontsize=14)\n",
    "ts0 = r\"$\\chi _{\\upsilon }^{2}$\"+\"={0:.3f}\".format(chir)\n",
    "ts1=  r\"$k_1$\"+\"={0:.3f}\".format(kf[0])+r\"$\\pm${0:.3f}\".format(ke[0])\n",
    "ts2=  r\"$k_2$\"+\"={0:.3f}\".format(kf[1])+r\"$\\pm${0:.3f}\".format(ke[1])\n",
    "ts3=  r\"$k_3$\"+\"={0:.3f}\".format(kf[2])+r\"$\\pm${0:.3f}\".format(ke[2])\n",
    "#ax.text(2025.,.35,ts0)\n",
    "\n",
    "fz = 11\n",
    "if site=='Site 3C':\n",
    "    plt.legend(loc=(.55,.75))\n",
    "    ax.text(1981,1.4,\"a\",fontsize=18)\n",
    "    ax.text(2011.,1.31,ts1,fontsize=fz)\n",
    "    ax.text(2011.,1.23,ts2,fontsize=fz)\n",
    "    ax.text(2011.,1.15,ts3,fontsize=fz)\n",
    "if site=='Site 6C':\n",
    "    plt.legend(loc=(.05,.7))\n",
    "    ax.text(1981,1.4*3.5/1.5,\"b\",fontsize=18)               \n",
    "    ax.text(1982.,2.26,ts1,fontsize=fz)\n",
    "    ax.text(1982.,2.26-.187,ts2,fontsize=fz)\n",
    "    ax.text(1982.,2.26-2*(.187),ts3,fontsize=fz)\n",
    "    \n",
    "ttle = site\n",
    "if(adjust_inventories==True):\n",
    "    ttle = ttle+r\" (adj.)\"\n",
    "if(use_eps==True):\n",
    "    ttle = ttle+r\" with eps\"\n",
    "#plt.title(ttle,fontsize=14)\n",
    "figname = site+itext+etext+\"DDE_DDMU_DDNU_rev_b&w.png\"\n",
    "plt.savefig(figname, bbox_inches='tight')"
   ]
  },
  {
   "cell_type": "code",
   "execution_count": null,
   "metadata": {},
   "outputs": [],
   "source": []
  }
 ],
 "metadata": {
  "anaconda-cloud": {},
  "kernelspec": {
   "display_name": "Python 3",
   "language": "python",
   "name": "python3"
  },
  "language_info": {
   "codemirror_mode": {
    "name": "ipython",
    "version": 3
   },
   "file_extension": ".py",
   "mimetype": "text/x-python",
   "name": "python",
   "nbconvert_exporter": "python",
   "pygments_lexer": "ipython3",
   "version": "3.6.3"
  }
 },
 "nbformat": 4,
 "nbformat_minor": 1
}
