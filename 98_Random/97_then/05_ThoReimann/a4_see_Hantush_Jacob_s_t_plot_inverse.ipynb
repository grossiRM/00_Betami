{
 "cells": [
  {
   "cell_type": "markdown",
   "metadata": {},
   "source": [
    "# Pumping test evaluation - Fitting Hantush Jacob (1955) to measured data\n",
    "This notebook demonstrate the application of the Theis principle for pumping test evaluation in confined, transient setups. The notebook is based on an Spreadsheet from Prof. Rudolf Liedl.\n",
    "\n",
    "## Introduction\n",
    "\n",
    "### General situation\n",
    "We consider a confined aquifer with constant transmissivity. If a well is pumping water out of the aquifer, radial flow towards the well is induced. The following figure illustrates this situation.\n",
    "\n",
    "<img src=\"FIGS/Flow_well_confined.png\" width=\"400\">\n",
    "\n",
    "*Fig: Radial flow in a confined aquifer (Fetter, 1994)*\n",
    "\n",
    "The calculate the hydraulic situation, the following simplified flow equation can be used. This equation accounts for 1D radial transient flow towards a fully penetrating well within a confined aquifer without further sinks and sources:\n",
    "\n",
    "$$ \\frac{\\partial^2 h}{\\partial r^2}+\\frac{1}{r}\\frac{\\partial h}{\\partial r}=\\frac{S}{T}\\frac{\\partial h}{\\partial t} $$\n",
    "\n",
    "### Solution by Theis for confined aquifers\n",
    "Charles V. Theis presented a solution for this by deriving\n",
    "\n",
    "$$ s(r,t)=\\frac{Q}{4\\pi T}W(u) $$\n",
    "\n",
    "with the well function\n",
    "\n",
    "$$ W(u) = \\int_{u }^{+\\infty} \\frac{e^{-\\tilde u}}{\\tilde u}d\\tilde u $$\n",
    "\n",
    "and the dimensionless variable \n",
    "\n",
    "$$ u = \\frac{Sr^2}{4Tt} $$\n",
    "\n",
    "This equations are not easy to solve. Historically, values for the well function were provided by tables or as so called type-curve. The type-curve matching with experimental data for pumping test analysis can be considered as one of the basic hydrogeological methods.\n",
    "\n",
    "However, modern computer provide an easier and more convinient way to solve the 1D radial flow equation based on the Theis approach. Subsequently, the Theis equation is solved with Python routines. The results for the measured data are graphically presented.\n",
    "\n",
    "#### Curve fitting with s-t plots\n",
    "\n",
    "With this approach, time and drawdown are provided by the Theis solution with \n",
    "\n",
    "$$ s =\\frac{Q}{4\\pi T}W(u) $$\n",
    "\n",
    "and \n",
    "\n",
    "$$ t = \\frac{Sr^2}{4T} \\frac{1}{u} $$\n",
    "\n",
    "Subsequently, time and drawdown are plotted and fitted to measured time and drawdown data.\n",
    "\n",
    "### Solution by Hantush Jacob (1955) for leaky confined aquifers and no storage in the aquitard\n",
    "\n",
    "_PLEASE ADD SOME EXPLANATION HERE_"
   ]
  },
  {
   "cell_type": "code",
   "execution_count": 2,
   "metadata": {},
   "outputs": [],
   "source": [
    "# (First, the necessary Python functions are initiated.)\n",
    "%matplotlib inline\n",
    "import numpy as np\n",
    "import matplotlib.pyplot as plt\n",
    "import scipy.special\n",
    "from ipywidgets import *"
   ]
  },
  {
   "cell_type": "markdown",
   "metadata": {},
   "source": [
    "**The following section stores the measured data.**\n",
    "\n",
    "This are two lists with time (in minutes) and drawdown (in meters). Make sure that those elements match each other (e.g. the first time is associated with the first drawdown value etc.)\n",
    "\n",
    "**Subsequently, the given data for the processing of measured data are provided.**\n",
    "\n",
    "This are the given data like\n",
    "- pumping rate $Q$,\n",
    "- aquifer thickness $b$,\n",
    "- distance of the observation (where time and drawdown were measured) to the pumping well $r$.\n",
    "\n",
    "**These data can be adjusted for individual measurements.**"
   ]
  },
  {
   "cell_type": "code",
   "execution_count": 11,
   "metadata": {},
   "outputs": [
    {
     "name": "stdout",
     "output_type": "stream",
     "text": [
      "[1e-05, 2e-05, 4e-05, 6e-05, 0.0001, 0.0002, 0.0004, 0.0006, 0.001, 0.002, 0.004, 0.006, 0.01, 0.02, 0.04, 0.06, 0.1, 0.2, 0.4, 0.6, 1, 2]\n",
      "[99999.99999999999, 49999.99999999999, 24999.999999999996, 16666.666666666668, 10000.0, 5000.0, 2500.0, 1666.6666666666667, 1000.0, 500.0, 250.0, 166.66666666666666, 100.0, 50.0, 25.0, 16.666666666666668, 10.0, 5.0, 2.5, 1.6666666666666667, 1.0, 0.5]\n"
     ]
    }
   ],
   "source": [
    "# Data from SYMPLE exercise\n",
    "m_time = [1,1.5,2,2.5,3,4,5,6,8,10,12,14,18,24,30,40,50,60,100,120] # time in minutes\n",
    "m_time_s = [i*60 for i in m_time] # time in seconds\n",
    "m_ddown = [0.66,0.87,0.99,1.11,1.21,1.36,1.49,1.59,1.75,1.86,1.97,2.08,2.20,2.36,2.49,2.65,2.78,2.88,3.16,3.28]   # drawdown in meters\n",
    "num_times = len(m_time)\n",
    "\n",
    "# Parameters needed to solve Theis (From the SYMPLE example/excercise)\n",
    "r = 120       # m\n",
    "b = 8.5       # m\n",
    "Qs = 0.3/60   # m^3/s\n",
    "Qd = Qs*60*24 # m^3/d\n",
    "\n",
    "# (Here the necessary functions like the well function $W(u)$ are defined. Later, those functions are used in the computation)\n",
    "# Define a function, class, and object for Theis Well analysis\n",
    "\n",
    "def well_function(u):\n",
    "    return scipy.special.exp1(u)\n",
    "    \n",
    "# (Here, the methode computes the data for the well function. Those data can be used to generate a type curve.)\n",
    "# (Here, the methode computes the data for the well function. Those data can be used to generate a type curve.)\n",
    "u_min = -5\n",
    "u_max = 4\n",
    "\n",
    "u = np.logspace(u_min,u_max)\n",
    "u_inv = 1/u\n",
    "w_u = well_function(u)\n",
    "\n",
    "u_HAN = [1.00E-05, 2.00E-05, 4.00E-05, 6.00E-05, 1.00E-04, 2.00E-04, 4.00E-04, 6.00E-04, 1.00E-03, 2.00E-03, 4.00E-03, 6.00E-03, 1.00E-02, 2.00E-02, 4.00E-02, 6.00E-02, 1.00E-01, 2.00E-01, 4.00E-01, 6.00E-01, 1 , 2]\n",
    "\n",
    "t_HAN     = [0]*len(u_HAN)\n",
    "s_HAN     = [0]*len(u_HAN)\n",
    "u_inv_HAN = [0]*len(u_HAN)\n",
    "\n",
    "for x in range(0,len(u_HAN)):\n",
    "        u_inv_HAN[x] = 1/u_HAN[x]\n",
    "\n",
    "print(u_HAN)\n",
    "print(u_inv_HAN)\n",
    "\n",
    "# Hantush Jacob type curve data from tables\n",
    "\n",
    "w_u_HAN = [[9.420E+00, 6.670E+00, 4.850E+00, 3.510E+00, 2.230E+00, 1.550E+00, 8.420E-01, 4.271E-01, 2.280E-01, 1.174E-01],\n",
    "           [9.300E+00, 6.670E+00, 4.850E+00, 3.510E+00, 2.230E+00, 1.550E+00, 8.420E-01, 4.271E-01, 2.280E-01, 1.174E-01],\n",
    "           [9.010E+00, 6.670E+00, 4.850E+00, 3.510E+00, 2.230E+00, 1.550E+00, 8.420E-01, 4.271E-01, 2.280E-01, 1.174E-01],\n",
    "           [8.770E+00, 6.670E+00, 4.850E+00, 3.510E+00, 2.230E+00, 1.550E+00, 8.420E-01, 4.271E-01, 2.280E-01, 1.174E-01],\n",
    "           [8.400E+00, 6.670E+00, 4.850E+00, 3.510E+00, 2.230E+00, 1.550E+00, 8.420E-01, 4.271E-01, 2.280E-01, 1.174E-01],\n",
    "           [7.820E+00, 6.620E+00, 4.850E+00, 3.510E+00, 2.230E+00, 1.550E+00, 8.420E-01, 4.271E-01, 2.280E-01, 1.174E-01],\n",
    "           [7.190E+00, 6.450E+00, 4.850E+00, 3.510E+00, 2.230E+00, 1.550E+00, 8.420E-01, 4.271E-01, 2.280E-01, 1.174E-01],\n",
    "           [6.800E+00, 6.270E+00, 4.850E+00, 3.510E+00, 2.230E+00, 1.550E+00, 8.420E-01, 4.271E-01, 2.280E-01, 1.174E-01],\n",
    "           [6.310E+00, 5.970E+00, 4.830E+00, 3.510E+00, 2.230E+00, 1.550E+00, 8.420E-01, 4.271E-01, 2.280E-01, 1.174E-01],\n",
    "           [9.990E+02, 5.450E+00, 4.710E+00, 3.500E+00, 2.230E+00, 1.550E+00, 8.420E-01, 4.271E-01, 2.280E-01, 1.174E-01],\n",
    "           [9.990E+02, 4.850E+00, 4.420E+00, 3.480E+00, 2.230E+00, 1.550E+00, 8.420E-01, 4.271E-01, 2.280E-01, 1.174E-01],\n",
    "           [9.990E+02, 4.480E+00, 4.180E+00, 3.430E+00, 2.230E+00, 1.550E+00, 8.420E-01, 4.271E-01, 2.280E-01, 1.174E-01],\n",
    "           [9.990E+02, 4.000E+00, 3.810E+00, 3.290E+00, 2.230E+00, 1.550E+00, 8.420E-01, 4.271E-01, 2.280E-01, 1.174E-01],\n",
    "           [9.990E+02, 3.340E+00, 3.240E+00, 2.950E+00, 2.180E+00, 1.550E+00, 8.420E-01, 4.271E-01, 2.280E-01, 1.174E-01],\n",
    "           [9.990E+02, 9.990E+02, 2.630E+00, 2.480E+00, 2.020E+00, 1.520E+00, 8.420E-01, 4.271E-01, 2.280E-01, 1.174E-01],\n",
    "           [9.990E+02, 9.990E+02, 2.260E+00, 2.170E+00, 1.850E+00, 1.460E+00, 8.390E-01, 4.271E-01, 2.280E-01, 1.174E-01],\n",
    "           [9.990E+02, 9.990E+02, 1.800E+00, 1.750E+00, 1.560E+00, 1.310E+00, 8.190E-01, 4.271E-01, 2.280E-01, 1.174E-01],\n",
    "           [9.990E+02, 9.990E+02, 9.990E+02, 1.190E+00, 1.110E+00, 9.960E-01, 7.150E-01, 4.100E-01, 2.270E-01, 1.174E-01],\n",
    "           [9.990E+02, 9.990E+02, 9.990E+02, 6.930E-01, 6.650E-01, 6.210E-01, 5.020E-01, 3.400E-01, 2.100E-01, 1.174E-01],\n",
    "           [9.990E+02, 9.990E+02, 9.990E+02, 4.500E-01, 4.360E-01, 4.150E-01, 3.540E-01, 2.550E-01, 1.770E-01, 1.100E-01],\n",
    "           [9.990E+02, 9.990E+02, 9.990E+02, 9.990E+02, 2.130E-01, 2.060E-01, 1.850E-01, 1.509E-01, 1.140E-01, 8.030E-02],\n",
    "           [9.990E+02, 9.990E+02, 9.990E+02, 9.990E+02, 9.990E+02, 4.700E-02, 4.400E-02, 9.990E+02, 3.400E-02, 2.500E-02]]\n",
    "\n",
    "t_HAN = [0]*len(u_HAN)\n",
    "s_HAN = [0]*len(u_HAN)\n",
    "\n",
    "# This is the function to plot the graph with the data, it is called by interact, arguments need to be provided by sliders etc.\n",
    "def Hantush_plot(T,b, S, r_div_B):\n",
    "    # Compute K and SS to provide parameters for plausability check\n",
    "    # (i.e. are the parameter in a reasonable range)\n",
    "    K = T/b     # m/s\n",
    "\n",
    "    # Theis curve\n",
    "    t_term = r**2 * S / 4 / T\n",
    "    s_term = Qs/(4 * np.pi * T)\n",
    "\n",
    "    t = u_inv * t_term\n",
    "    s = w_u * s_term\n",
    "\n",
    "    # Hantush Jacob curve\n",
    "    for x in range(0,len(u_HAN)):\n",
    "        t_HAN[x] = u_inv_HAN[x] * t_term\n",
    "        if (w_u_HAN[x][r_div_B-1] == 999):\n",
    "            s_HAN[x] = well_function(1/u_inv_HAN[x]) * s_term\n",
    "        else:\n",
    "            s_HAN[x] = w_u_HAN[x][r_div_B-1] * s_term\n",
    "        \n",
    "    fig = plt.figure(figsize=(10,7))\n",
    "    ax = fig.add_subplot(1, 1, 1)\n",
    "    ax.plot(t, s, label=r'Computed drawdown - Theis')\n",
    "    ax.plot(t_HAN, s_HAN, 'b--', label=r'Computed drawdown - Hantush Jacob')\n",
    "    ax.plot(m_time_s, m_ddown,'ro', label=r'measured drawdown')\n",
    "    plt.yscale(\"log\")\n",
    "    plt.xscale(\"log\")\n",
    "    plt.axis([1E-1,1E8,1E-4,1E+1])\n",
    "    ax.set(xlabel='t', ylabel='s',title='Hantush Jacob drawdown')\n",
    "    ax.grid(which=\"both\")\n",
    "    plt.legend()\n",
    "    plt.show()\n",
    "\n",
    "    print(\"Transmissivity       T = \",\"% 10.2E\"% T, \" m^2/s\")\n",
    "    print(\"Storativity          S = \",\"% 10.2E\"% S, \"[-]\")"
   ]
  },
  {
   "cell_type": "markdown",
   "metadata": {},
   "source": [
    "**The pumping test evaluation is more or less the calibration of a model (i.e. the Theis equations) by adjusting parameters. Those parameters include**\n",
    "- **Transmissivity** of the entire aquifer $T$\n",
    "- **Storativity** of the aquifer $S$.\n",
    "\n",
    "See what happens and modify the parameters $T$ and $S$. Modify until the fit is fine.\n",
    "\n",
    "_(Hint: After selecting the slider you can use the mouse, your fingers, but also the arrow-keys of your keyboard to modify the parameter values.)_"
   ]
  },
  {
   "cell_type": "code",
   "execution_count": 12,
   "metadata": {},
   "outputs": [
    {
     "data": {
      "application/vnd.jupyter.widget-view+json": {
       "model_id": "e450ac8276444a66b7562e25b792f8ed",
       "version_major": 2,
       "version_minor": 0
      },
      "text/plain": [
       "interactive(children=(FloatLogSlider(value=0.001, description='T', max=3.0, min=-6.0, readout_format='.2e'), F…"
      ]
     },
     "metadata": {},
     "output_type": "display_data"
    },
    {
     "data": {
      "text/plain": [
       "<function __main__.Hantush_plot(T, b, S, r_div_B)>"
      ]
     },
     "execution_count": 12,
     "metadata": {},
     "output_type": "execute_result"
    }
   ],
   "source": [
    "interact(Hantush_plot,\n",
    "         T=widgets.FloatLogSlider(value=0.001,base=10,min=-6, max=3, step=0.1,readout=True,readout_format='.2e'),\n",
    "         b = widgets.FloatSlider(value=20,min=2, max=200, step=0.1,readout=True,readout_format='.2f'),\n",
    "         S = widgets.FloatLogSlider(value=0.0001,base=10,min=-9, max=1, step=0.1,readout=True,readout_format='.2e'),\n",
    "         r_div_B = widgets.IntSlider(value=1, min = 1, max = 10, step=1, readout=True))"
   ]
  },
  {
   "cell_type": "code",
   "execution_count": null,
   "metadata": {},
   "outputs": [],
   "source": []
  },
  {
   "cell_type": "code",
   "execution_count": null,
   "metadata": {},
   "outputs": [],
   "source": []
  }
 ],
 "metadata": {
  "kernelspec": {
   "display_name": "Python 3 (ipykernel)",
   "language": "python",
   "name": "python3"
  },
  "language_info": {
   "codemirror_mode": {
    "name": "ipython",
    "version": 3
   },
   "file_extension": ".py",
   "mimetype": "text/x-python",
   "name": "python",
   "nbconvert_exporter": "python",
   "pygments_lexer": "ipython3",
   "version": "3.11.7"
  },
  "toc": {
   "base_numbering": 1,
   "nav_menu": {},
   "number_sections": true,
   "sideBar": true,
   "skip_h1_title": false,
   "title_cell": "Table of Contents",
   "title_sidebar": "Contents",
   "toc_cell": false,
   "toc_position": {},
   "toc_section_display": true,
   "toc_window_display": false
  },
  "varInspector": {
   "cols": {
    "lenName": 16,
    "lenType": 16,
    "lenVar": 40
   },
   "kernels_config": {
    "python": {
     "delete_cmd_postfix": "",
     "delete_cmd_prefix": "del ",
     "library": "var_list.py",
     "varRefreshCmd": "print(var_dic_list())"
    },
    "r": {
     "delete_cmd_postfix": ") ",
     "delete_cmd_prefix": "rm(",
     "library": "var_list.r",
     "varRefreshCmd": "cat(var_dic_list()) "
    }
   },
   "position": {
    "height": "216.667px",
    "left": "2296.33px",
    "right": "20px",
    "top": "120px",
    "width": "243.667px"
   },
   "types_to_exclude": [
    "module",
    "function",
    "builtin_function_or_method",
    "instance",
    "_Feature"
   ],
   "window_display": true
  }
 },
 "nbformat": 4,
 "nbformat_minor": 4
}
