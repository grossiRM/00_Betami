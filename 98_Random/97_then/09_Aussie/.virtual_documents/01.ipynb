pip install ipympl





import matplotlib.pyplot as plt
import numpy as np

fig, ax = plt.subplots()

x = np.linspace(0, 2*np.pi, 100)           # ____ Ref___ x, y 
y = np.sin(3*x)                            
ax.plot(x, y)                              # Plot 


x = np.linspace(0, 2*np.pi, 25)     # ____ Ref___ x, y 
y = np.cos(x) 

fig, ax = plt.subplots()            # __
ax.plot(x,y,'-ob',label='Data') 
ax.set_title('Random numbers') 

ax.set_xlabel('X-axis') 
ax.set_ylabel('Y-axis') 
ax.set_xlim(x.min(),x.max()) 
ax.set_ylim(-1.05,1.05) 
ax.grid() 
ax.legend() 


# Q = np.loadtxt('Q_A4260557.csv')
# Q = np.loadtxt('Q_A4260557.csv',skiprows=11, delimiter=',', usecols = 1)
Q = np.genfromtxt('Q_A4260557.csv',                                          
                  delimiter=',',
                  skip_header=11,
                  skip_footer=1,
                  usecols = 1)                                              # ____ Ref___ x 


fig, ax = plt.subplots()     
ax.plot(Q,'-k')                                                             # ____ Plot





import pandas as pd


Q = pd.read_csv('Q_A4260557.csv',
                header = 8,          
                index_col = 0, 
                parse_dates = True)       # index is a data ____ parse it into a time series


# Q.head() #quick look at dataframe
plt.figure()
Q['Value'].plot()


Q.groupby('Quality Code')['Value'].count()


codes = Q['Quality Code'].unique()
fig,ax = plt.subplots()

for code in codes:
    inds = Q['Quality Code']==code          # _________________ Indices 
    ax.plot(Q.index[inds],Q['Value'][inds],'.',label=code) 
l = ax.legend()                             # _________________ label=code

#ax.set_title('Station A4260557')
#ax.set_xlabel('Time')
ax.set_ylabel('Q (m3/s)')


Q.loc[Q['Value']<0,          'Value'] = np.nan                # all ____ < 0 =  NaN
Q.loc[Q['Quality Code']==110,'Value'] = np.nan

fig,ax = plt.subplots()
ax.plot(Q.index,Q['Value'],'-k') 
ax.set_title('Station A4260557')
ax.set_xlabel('Time')
ax.set_ylabel('Q (m3/s)')


percs = np.arange(0,1.01,0.01)
discharge = Q['Value'].dropna().quantile(percs)                                       # drop NaN

FD = pd.DataFrame(index=percs,columns=['Exceedance Probability','Discharge'])         # index__ percs_____   01,02
FD['Exceedance Probability'] = 100*(1-percs)

FD['Discharge'] = discharge[-1::]
# obj.loc[i:j]

fig,ax = plt.subplots()
ax.semilogy(FD['Exceedance Probability'],FD['Discharge'],'-k')
ax.grid()
ax.set_xlabel('Exceedance probability')
# use Latex formatting
ax.set_ylabel(u'Q ($m^3/s$)') 



