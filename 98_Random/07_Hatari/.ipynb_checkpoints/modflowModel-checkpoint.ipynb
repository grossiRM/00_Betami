{
 "cells": [
  {
   "cell_type": "code",
   "execution_count": 1,
   "id": "a2814142-b0a6-4e20-b3c1-4c700aaccdf0",
   "metadata": {
    "tags": []
   },
   "outputs": [],
   "source": [
    "import os, sys, copy ; import matplotlib as mpl  ; import matplotlib.pyplot as plt  ; import numpy as np ; import pandas as pd  ; import flopy"
   ]
  },
  {
   "cell_type": "code",
   "execution_count": 2,
   "id": "2e4c8400-71c1-46e5-942e-c570f243c2b0",
   "metadata": {
    "tags": []
   },
   "outputs": [],
   "source": [
    "sim_name = \"pumpingTest\" ; length_units = \"meters\" ; time_units = \"days\" ; ws = \"../Beta/\" ; exe_name = 'E:\\\\15_REPOS\\\\00_BETAMI\\\\bin\\\\mf6'"
   ]
  },
  {
   "cell_type": "code",
   "execution_count": 14,
   "id": "461c8c3f-a3ce-4c91-807e-7df89f13de09",
   "metadata": {
    "tags": []
   },
   "outputs": [],
   "source": [
    "top = 49.07      ; botmDict = {}  ; botmList = [] ; repeatList = []\n",
    "botmDict['Lay1'] = {'topElev': 49.07,'botElev':  32.31,'lyn':2}  ; botmDict['Lay2'] = {'topElev': 32.31,'botElev': -25.29,'lyn':3}\n",
    "botmDict['Lay3'] = {'topElev':-25.29,'botElev': -57.60,'lyn':3}  ; botmDict['Lay4'] = {'topElev':-57.60,'botElev':-164.29,'lyn':3}\n",
    "for key, value in botmDict.items():   \n",
    "    botmList.append(np.linspace(value['topElev'],value['botElev'],value['lyn']+1)[1:])   ;     repeatList.append(value['lyn'])\n",
    "botm = np.hstack(botmList)  #  ; print('botm' , botm)    ; print('repeatList' , repeatList)\n",
    "nlay = botm.shape[0]   ; ncol = 121  ; nrow = 121\n",
    "delr = delc = [4 for i in range(20)] + [2 for i in range(20)] + [0.5 for i in range(41)] + [2 for i in range(20)] + [4 for i in range(20)]\n",
    "strt = np.hstack([np.array(43.43),np.linspace(43.43,36.033,3)])  ; strt = np.repeat(strt,[2, 3, 3, 3])   #  strt  # Starting head"
   ]
  },
  {
   "cell_type": "code",
   "execution_count": 5,
   "id": "9c680321-1eb1-4473-99d1-f8e9f5d261d7",
   "metadata": {
    "tags": []
   },
   "outputs": [],
   "source": [
    "icelltype = np.repeat(np.array([1, 0, 0, 0]),repeatList) # Cell conversion type\n",
    "k11 = np.repeat(np.array([1e-3, 1e-5, 1e-6, 3e-5]),repeatList)  ; k33 = np.array(k11)/10 ; ss = 1.0e-4  ; sy = 0.02  # KH, KV & ____"
   ]
  },
  {
   "cell_type": "code",
   "execution_count": 6,
   "id": "8dc27911-84d4-4297-b168-81f09e7781f7",
   "metadata": {
    "tags": []
   },
   "outputs": [],
   "source": [
    "nper = 7 #1s, 3 days pumping, 3 days recovery => 73 (#3days pumping + 3days recovery = 6 days => each hour = 72 stress periods + 1 steady state)"
   ]
  },
  {
   "cell_type": "code",
   "execution_count": 7,
   "id": "50728e4f-601f-4f3c-bd2f-8ebe39d3e559",
   "metadata": {
    "tags": []
   },
   "outputs": [
    {
     "data": {
      "text/plain": [
       "[(1.0, 1, 1.0), (86400, 8, 2), (86400, 3, 2), (86400, 3, 1), (86400, 8, 2)]"
      ]
     },
     "execution_count": 7,
     "metadata": {},
     "output_type": "execute_result"
    }
   ],
   "source": [
    "perlen = [1.0]+ [86400 for i in range(6)]    ;   nstp = [1,8,3,3,8,3,3]  ; tsmult = [1.0, 2, 2, 1, 2, 1, 1]\n",
    "tdis_ds = list(zip(perlen, nstp, tsmult))    ;   tdis_ds[:5]"
   ]
  },
  {
   "cell_type": "code",
   "execution_count": 8,
   "id": "ebc662a6-8735-4417-892b-f5914dc58a00",
   "metadata": {
    "tags": []
   },
   "outputs": [],
   "source": [
    "nouter = 50  ; ninner = 100  ; hclose = 1e-9  ; rclose = 1e-6"
   ]
  },
  {
   "cell_type": "code",
   "execution_count": 15,
   "id": "26c77fb5-5427-4943-aeef-1ecae5d1c6d2",
   "metadata": {},
   "outputs": [],
   "source": [
    "sim_ws = os.path.join(ws, sim_name) #     ; sim_ws"
   ]
  },
  {
   "cell_type": "code",
   "execution_count": 10,
   "id": "9be6b973-170d-4df9-bf04-7a555a892fea",
   "metadata": {},
   "outputs": [
    {
     "name": "stdout",
     "output_type": "stream",
     "text": [
      "<flopy.mf6.data.mfstructure.MFDataItemStructure object at 0x000001ACD04E05F0>\n"
     ]
    }
   ],
   "source": [
    "sim = flopy.mf6.MFSimulation (sim_name=sim_name,sim_ws=sim_ws,exe_name=exe_name)\n",
    "flopy.mf6.ModflowTdis        (sim, nper=nper, perioddata=tdis_ds, time_units=time_units)\n",
    "flopy.mf6.ModflowIms         (sim,outer_maximum=nouter,outer_dvclose=hclose,inner_maximum=ninner,inner_dvclose=hclose,rcloserecord=f\"{rclose} strict\")\n",
    "gwf = flopy.mf6.ModflowGwf(sim, modelname=sim_name, save_flows=True)\n",
    "flopy.mf6.ModflowGwfdis(gwf,length_units=length_units,nlay=nlay,nrow=nrow,ncol=ncol,delr=delr,delc=delc,top=top,botm=botm)\n",
    "flopy.mf6.ModflowGwfnpf(gwf,cvoptions=\"perched\",perched=True,icelltype=icelltype,k=k11,k33=k33,save_specific_discharge=True)\n",
    "flopy.mf6.ModflowGwfic(gwf, strt=strt)\n",
    "flopy.mf6.ModflowGwfsto(gwf,iconvert=1, ss=ss,sy=sy,steady_state={0: True},transient={1: True}) ; \n",
    "ghbSpd = []\n",
    "for lay in range(nlay):\n",
    "    for col in range(ncol):\n",
    "        ghbSpd += [[lay,col,0,strt[lay],0.001]] ; ghbSpd += [[lay,col,ncol-1,strt[lay],0.001]] \n",
    "        ghbSpd += [[lay,0,col,strt[lay],0.001]] ; ghbSpd += [[lay,ncol-1,col,strt[lay],0.001]] \n",
    "ghbSpd = {0:ghbSpd}\n",
    "ghb = flopy.mf6.ModflowGwfghb(gwf,stress_period_data=ghbSpd)\n",
    "welSpd={} ; welSpd[0]=[9,61,72,0] ; welSpd[1]=[9,61,72,-0.03648]  ; welSpd[4]=[9,61,72,0]  # 579 gpm for 72hours ... then well deactivation\n",
    "flopy.mf6.ModflowGwfwel(gwf, stress_period_data=welSpd)\n",
    "head_filerecord = f\"{sim_name}.hds\"   ; budget_filerecord = f\"{sim_name}.cbc\"\n",
    "flopy.mf6.ModflowGwfoc(gwf,head_filerecord=head_filerecord,budget_filerecord=budget_filerecord,saverecord=[(\"HEAD\", \"ALL\"), (\"BUDGET\", \"ALL\")])\n",
    "obsdict = {}  ; obslist = [[\"11J025\", \"head\", (9, 61, 50)],[\"11J029\", \"head\", (9, 61, 72)],[\"11J030\", \"head\", (3, 61, 61)]]\n",
    "obsdict[f\"{sim_name}.obs.head.csv\"] = obslist             ; obs = flopy.mf6.ModflowUtlobs(gwf, print_input=False, continuous=obsdict)"
   ]
  },
  {
   "cell_type": "code",
   "execution_count": 27,
   "id": "0d7c2684-adb1-44e8-8e09-775cc2544c1f",
   "metadata": {
    "tags": []
   },
   "outputs": [
    {
     "data": {
      "text/plain": [
       "<matplotlib.collections.PatchCollection at 0x1acd93cbfb0>"
      ]
     },
     "execution_count": 27,
     "metadata": {},
     "output_type": "execute_result"
    },
    {
     "data": {
      "image/png": "[encoded data removed]",
      "text/plain": [
       "<Figure size 300x300 with 1 Axes>"
      ]
     },
     "metadata": {},
     "output_type": "display_data"
    },
    {
     "data": {
      "image/png": "[encoded data removed]",
      "text/plain": [
       "<Figure size 1200x200 with 1 Axes>"
      ]
     },
     "metadata": {},
     "output_type": "display_data"
    }
   ],
   "source": [
    "fig = plt.figure(figsize=(3, 3))  ; ax = fig.add_subplot(1, 1, 1)  ; gwf.modelgrid.plot(lw=0.5)         ; ax.set_xlim(50,200) ; ax.set_ylim(50,200)\n",
    "fig = plt.figure(figsize=(12, 2)) ; ax = fig.add_subplot(1, 2, 1 ) ; crossSection = flopy.plot.PlotCrossSection(model=gwf, line={'row': 10})   \n",
    "crossSection.plot_grid(ax=ax)"
   ]
  },
  {
   "cell_type": "code",
   "execution_count": 12,
   "id": "f0b6a3b0-0cc9-49c5-b44c-53e3cf9c3ee6",
   "metadata": {
    "tags": []
   },
   "outputs": [
    {
     "name": "stdout",
     "output_type": "stream",
     "text": [
      "writing simulation...\n",
      "  writing simulation name file...\n",
      "  writing simulation tdis package...\n",
      "  writing solution package ims_-1...\n",
      "  writing model pumpingTest...\n",
      "    writing model name file...\n",
      "    writing package dis...\n",
      "    writing package npf...\n",
      "    writing package ic...\n",
      "    writing package sto...\n",
      "    writing package ghb_0...\n",
      "INFORMATION: maxbound in ('gwf6', 'ghb', 'dimensions') changed to 5324 based on size of stress_period_data\n",
      "    writing package wel_0...\n",
      "INFORMATION: maxbound in ('gwf6', 'wel', 'dimensions') changed to 1 based on size of stress_period_data\n",
      "    writing package oc...\n",
      "    writing package obs_0...\n",
      "FloPy is using the following executable to run the model: ..\\..\\..\\..\\..\\bin\\mf6.exe\n",
      "                                   MODFLOW 6\n",
      "                U.S. GEOLOGICAL SURVEY MODULAR HYDROLOGIC MODEL\n",
      "                   VERSION 6.3.0 release candidate 07/30/2021\n",
      "                               ***DEVELOP MODE***\n",
      "\n",
      "   MODFLOW 6 compiled Oct 27 2021 07:53:31 with IFORT compiler (ver. 20.21.1)\n",
      "\n",
      "This software is preliminary or provisional and is subject to \n",
      "revision. It is being provided to meet the need for timely best \n",
      "science. The software has not received final approval by the U.S. \n",
      "Geological Survey (USGS). No warranty, expressed or implied, is made \n",
      "by the USGS or the U.S. Government as to the functionality of the \n",
      "software and related material nor shall the fact of release \n",
      "constitute any such warranty. The software is provided on the \n",
      "condition that neither the USGS nor the U.S. Government shall be held \n",
      "liable for any damages resulting from the authorized or unauthorized \n",
      "use of the software.\n",
      "\n",
      " \n",
      " Run start date and time (yyyy/mm/dd hh:mm:ss): 2025/03/14 15:49:29\n",
      " \n",
      " Writing simulation list file: mfsim.lst\n",
      " Using Simulation name file: mfsim.nam\n",
      " \n",
      "    Solving:  Stress period:     1    Time step:     1\n",
      "    Solving:  Stress period:     2    Time step:     1\n",
      "    Solving:  Stress period:     2    Time step:     2\n",
      "    Solving:  Stress period:     2    Time step:     3\n",
      "    Solving:  Stress period:     2    Time step:     4\n",
      "    Solving:  Stress period:     2    Time step:     5\n",
      "    Solving:  Stress period:     2    Time step:     6\n",
      "    Solving:  Stress period:     2    Time step:     7\n",
      "    Solving:  Stress period:     2    Time step:     8\n",
      "    Solving:  Stress period:     3    Time step:     1\n",
      "    Solving:  Stress period:     3    Time step:     2\n",
      "    Solving:  Stress period:     3    Time step:     3\n",
      "    Solving:  Stress period:     4    Time step:     1\n",
      "    Solving:  Stress period:     4    Time step:     2\n",
      "    Solving:  Stress period:     4    Time step:     3\n",
      "    Solving:  Stress period:     5    Time step:     1\n",
      "    Solving:  Stress period:     5    Time step:     2\n",
      "    Solving:  Stress period:     5    Time step:     3\n",
      "    Solving:  Stress period:     5    Time step:     4\n",
      "    Solving:  Stress period:     5    Time step:     5\n",
      "    Solving:  Stress period:     5    Time step:     6\n",
      "    Solving:  Stress period:     5    Time step:     7\n",
      "    Solving:  Stress period:     5    Time step:     8\n",
      "    Solving:  Stress period:     6    Time step:     1\n",
      "    Solving:  Stress period:     6    Time step:     2\n",
      "    Solving:  Stress period:     6    Time step:     3\n",
      "    Solving:  Stress period:     7    Time step:     1\n",
      "    Solving:  Stress period:     7    Time step:     2\n",
      "    Solving:  Stress period:     7    Time step:     3\n",
      " \n",
      " Run end date and time (yyyy/mm/dd hh:mm:ss): 2025/03/14 15:50:27\n",
      " Elapsed run time: 57.689 Seconds\n",
      " \n",
      " Normal termination of simulation.\n"
     ]
    },
    {
     "data": {
      "text/plain": [
       "(True, [])"
      ]
     },
     "execution_count": 12,
     "metadata": {},
     "output_type": "execute_result"
    }
   ],
   "source": [
    "sim.write_simulation()      # sim.check()\n",
    "sim.run_simulation()"
   ]
  },
  {
   "cell_type": "code",
   "execution_count": null,
   "id": "9fdd1faf-e0f0-4207-934f-97993977fd2e",
   "metadata": {
    "tags": []
   },
   "outputs": [],
   "source": []
  },
  {
   "cell_type": "code",
   "execution_count": null,
   "id": "bc7b3ba9-c545-455f-9bf0-3495671967ba",
   "metadata": {},
   "outputs": [],
   "source": []
  }
 ],
 "metadata": {
  "kernelspec": {
   "display_name": "Python 3 (ipykernel)",
   "language": "python",
   "name": "python3"
  },
  "language_info": {
   "codemirror_mode": {
    "name": "ipython",
    "version": 3
   },
   "file_extension": ".py",
   "mimetype": "text/x-python",
   "name": "python",
   "nbconvert_exporter": "python",
   "pygments_lexer": "ipython3",
   "version": "3.12.7"
  }
 },
 "nbformat": 4,
 "nbformat_minor": 5
}
