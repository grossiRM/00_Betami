{
 "cells": [
  {
   "cell_type": "markdown",
   "id": "08d4d782",
   "metadata": {},
   "source": [
    "**Beta**"
   ]
  },
  {
   "cell_type": "code",
   "execution_count": 1,
   "id": "0e775f2c-9bd5-4407-8799-8bdfa20ad613",
   "metadata": {},
   "outputs": [],
   "source": [
    "import os\n",
    "import flopy\n",
    "from flopy.utils.gridgen import Gridgen \n",
    "from flopy.discretization import StructuredGrid\n",
    "import flopy.mf6 as mf6\n",
    "import shapefile as sf\n",
    "import sys\n",
    "sys.path.append('../dependencies/')\n",
    "import yaml\n",
    "import matplotlib.pyplot as plt\n",
    "import geopandas as gp\n",
    "import pandas as pd\n",
    "from pathlib import Path\n",
    "import numpy as np\n",
    "from shapely.geometry import Point, LineString\n",
    "import shutil\n",
    "from flopy.utils.gridintersect import GridIntersect"
   ]
  },
  {
   "cell_type": "code",
   "execution_count": 2,
   "id": "54522898-d2a4-460e-b857-14e7ef65e934",
   "metadata": {},
   "outputs": [
    {
     "ename": "PermissionError",
     "evalue": "[WinError 32] The process cannot access the file because it is being used by another process: '.'",
     "output_type": "error",
     "traceback": [
      "\u001b[1;31m---------------------------------------------------------------------------\u001b[0m",
      "\u001b[1;31mPermissionError\u001b[0m                           Traceback (most recent call last)",
      "Cell \u001b[1;32mIn[2], line 6\u001b[0m\n\u001b[0;32m      4\u001b[0m     shutil\u001b[38;5;241m.\u001b[39mrmtree(workspace)\n\u001b[0;32m      5\u001b[0m \u001b[38;5;28;01mif\u001b[39;00m os\u001b[38;5;241m.\u001b[39mpath\u001b[38;5;241m.\u001b[39mexists(workspace2):\n\u001b[1;32m----> 6\u001b[0m     \u001b[43mshutil\u001b[49m\u001b[38;5;241;43m.\u001b[39;49m\u001b[43mrmtree\u001b[49m\u001b[43m(\u001b[49m\u001b[43mworkspace2\u001b[49m\u001b[43m)\u001b[49m\n\u001b[0;32m      7\u001b[0m sim \u001b[38;5;241m=\u001b[39m \u001b[38;5;124m'\u001b[39m\u001b[38;5;124mmf6.exe\u001b[39m\u001b[38;5;124m'\u001b[39m\n\u001b[0;32m      8\u001b[0m sim \u001b[38;5;241m=\u001b[39m flopy\u001b[38;5;241m.\u001b[39mmf6\u001b[38;5;241m.\u001b[39mMFSimulation(exe_name\u001b[38;5;241m=\u001b[39msim, version\u001b[38;5;241m=\u001b[39m\u001b[38;5;124m\"\u001b[39m\u001b[38;5;124mmf6\u001b[39m\u001b[38;5;124m\"\u001b[39m,  sim_ws\u001b[38;5;241m=\u001b[39mworkspace2,  continue_\u001b[38;5;241m=\u001b[39m\u001b[38;5;28;01mTrue\u001b[39;00m)   \n",
      "File \u001b[1;32m~\\anaconda3\\envs\\gmdsitut\\Lib\\shutil.py:787\u001b[0m, in \u001b[0;36mrmtree\u001b[1;34m(path, ignore_errors, onerror, dir_fd)\u001b[0m\n\u001b[0;32m    785\u001b[0m     \u001b[38;5;66;03m# can't continue even if onerror hook returns\u001b[39;00m\n\u001b[0;32m    786\u001b[0m     \u001b[38;5;28;01mreturn\u001b[39;00m\n\u001b[1;32m--> 787\u001b[0m \u001b[38;5;28;01mreturn\u001b[39;00m \u001b[43m_rmtree_unsafe\u001b[49m\u001b[43m(\u001b[49m\u001b[43mpath\u001b[49m\u001b[43m,\u001b[49m\u001b[43m \u001b[49m\u001b[43monerror\u001b[49m\u001b[43m)\u001b[49m\n",
      "File \u001b[1;32m~\\anaconda3\\envs\\gmdsitut\\Lib\\shutil.py:638\u001b[0m, in \u001b[0;36m_rmtree_unsafe\u001b[1;34m(path, onerror)\u001b[0m\n\u001b[0;32m    636\u001b[0m     os\u001b[38;5;241m.\u001b[39mrmdir(path)\n\u001b[0;32m    637\u001b[0m \u001b[38;5;28;01mexcept\u001b[39;00m \u001b[38;5;167;01mOSError\u001b[39;00m:\n\u001b[1;32m--> 638\u001b[0m     \u001b[43monerror\u001b[49m\u001b[43m(\u001b[49m\u001b[43mos\u001b[49m\u001b[38;5;241;43m.\u001b[39;49m\u001b[43mrmdir\u001b[49m\u001b[43m,\u001b[49m\u001b[43m \u001b[49m\u001b[43mpath\u001b[49m\u001b[43m,\u001b[49m\u001b[43m \u001b[49m\u001b[43msys\u001b[49m\u001b[38;5;241;43m.\u001b[39;49m\u001b[43mexc_info\u001b[49m\u001b[43m(\u001b[49m\u001b[43m)\u001b[49m\u001b[43m)\u001b[49m\n",
      "File \u001b[1;32m~\\anaconda3\\envs\\gmdsitut\\Lib\\shutil.py:636\u001b[0m, in \u001b[0;36m_rmtree_unsafe\u001b[1;34m(path, onerror)\u001b[0m\n\u001b[0;32m    634\u001b[0m             onerror(os\u001b[38;5;241m.\u001b[39munlink, fullname, sys\u001b[38;5;241m.\u001b[39mexc_info())\n\u001b[0;32m    635\u001b[0m \u001b[38;5;28;01mtry\u001b[39;00m:\n\u001b[1;32m--> 636\u001b[0m     os\u001b[38;5;241m.\u001b[39mrmdir(path)\n\u001b[0;32m    637\u001b[0m \u001b[38;5;28;01mexcept\u001b[39;00m \u001b[38;5;167;01mOSError\u001b[39;00m:\n\u001b[0;32m    638\u001b[0m     onerror(os\u001b[38;5;241m.\u001b[39mrmdir, path, sys\u001b[38;5;241m.\u001b[39mexc_info())\n",
      "\u001b[1;31mPermissionError\u001b[0m: [WinError 32] The process cannot access the file because it is being used by another process: '.'"
     ]
    }
   ],
   "source": [
    "workspace = os.path.join('..','models','sgn_mfsetup_B')       # New folder\n",
    "workspace2 = os.path.join('.')       # New folder\n",
    "if os.path.exists(workspace):\n",
    "    shutil.rmtree(workspace)\n",
    "if os.path.exists(workspace2):\n",
    "    shutil.rmtree(workspace2)\n",
    "sim = 'mf6.exe'\n",
    "sim = flopy.mf6.MFSimulation(exe_name=sim, version=\"mf6\",  sim_ws=workspace2,  continue_=True)   "
   ]
  },
  {
   "cell_type": "code",
   "execution_count": null,
   "id": "30d3fabc-f482-4805-8498-eb17c736f58a",
   "metadata": {},
   "outputs": [],
   "source": [
    "model_name = 'sgn_50B'\n",
    "nlay, delr, delc, rot = 3, 50, 50, 14          \n",
    "Lx,Ly,  xoffset, yoffset  = 4150,4810,  1516769.1487,5033577.7911\n",
    "nrow, ncol = int(Ly / delc),int(Lx / delr)\n",
    "epsg = 3070\n",
    "modelgrid = StructuredGrid(delr=np.ones(ncol) * delr, delc=np.ones(nrow) * delc, xoff=xoffset, yoff=yoffset, angrot=rot)   # modelgrid.plot()"
   ]
  },
  {
   "cell_type": "code",
   "execution_count": null,
   "id": "290b4ee4",
   "metadata": {},
   "outputs": [],
   "source": [
    "top  = [{'filename': 'MF.Setup/22_modtop.dat'}]         \n",
    "botm = [{'filename': 'MF.Setup/24_Bott_L1.dat'},  {'filename': 'MF.Setup/25_Bott_L2.dat'}, {'filename': 'MF.Setup/26_Bott_L3.dat'}]\n",
    "k    = [{'filename': 'MF.Setup/27_K0.dat'},       {'filename': 'MF.Setup/28_K1.dat'},      {'filename': 'MF.Setup/29_K2.dat'}]\n",
    "#k33 = [{'filename': '../data/k33_000.dat'},      {'filename': '../data/k33_001.dat'},     {'filename': '../data/k33_002.dat'}]"
   ]
  },
  {
   "cell_type": "code",
   "execution_count": null,
   "id": "a3369ea7-d577-455d-8469-77267941453e",
   "metadata": {},
   "outputs": [],
   "source": [
    "# strt = nlay*[top]     # same value for each cell     # strt"
   ]
  },
  {
   "cell_type": "code",
   "execution_count": null,
   "id": "6a987f18-29e8-4843-ab34-d87b3d1d5222",
   "metadata": {},
   "outputs": [],
   "source": [
    "gwf   = flopy.mf6.ModflowGwf(sim, modelname=model_name, save_flows=True, print_flows=True)\n",
    "dis   = mf6.ModflowGwfdis(gwf, nlay=nlay, nrow=nrow, ncol=ncol, delr=delr, delc=delc, top=top, botm=botm, idomain=1)  # see _____________idomain \n",
    "tdis  = mf6.ModflowTdis(sim, time_units=\"days\", nper=1, perioddata=[(1.0, 1, 1.0)])               \n",
    "ims   = mf6.ModflowIms(sim, complexity=\"moderate\", outer_dvclose=0.001)     \n",
    "npf   = flopy.mf6.ModflowGwfnpf(gwf, save_flows=True, save_specific_discharge=None, k=k, k33=0.1, k33overk=True)    # npf.k.plot(colorbar=True)\n",
    "# ic    = flopy.mf6.ModflowGwfic(gwf, pname=\"ic\", strt=strt)\n",
    "# oc = flopy.mf6.ModflowGwfoc(gwf, pname='oc', budget_filerecord='{}.cbb'.format(model_name), head_filerecord='{}.hds'.format(model_name),\n",
    "#                            headprintrecord=[('COLUMNS', 10, 'WIDTH', 15, 'DIGITS', 3, 'GENERAL')],\n",
    "#                            saverecord=[('HEAD', 'LAST'), ('BUDGET', 'LAST')],printrecord=[('HEAD', 'LAST'), ('BUDGET', 'ALL')])\n",
    "sim.write_simulation() # ________________________________________________________________________________________________________  sim.run_simulation()"
   ]
  },
  {
   "cell_type": "code",
   "execution_count": null,
   "id": "655593c2-0617-4de7-8e0f-bf07c82e907c",
   "metadata": {},
   "outputs": [],
   "source": []
  },
  {
   "cell_type": "code",
   "execution_count": null,
   "id": "ad95f959-113a-4c6d-ab8f-0b14bef29444",
   "metadata": {},
   "outputs": [],
   "source": [
    "datapath = Path('../data/sgn/')\n",
    "ix = GridIntersect(gwf.modelgrid)\n",
    "\n",
    "riv = gp.read_file(datapath / 'shp' / 'River_Lambro.shp')  # riv\n",
    "riv1 = riv.iloc[0].geometry\n",
    "rivpts = [Point(i) for i in riv1.coords]\n",
    "newpt = Point(rivpts[0].coords[0][0],rivpts[0].coords[0][1]+150)           # _______ starting point outside the domain  \n",
    "rivpts.insert(0,newpt)                                                      \n",
    "newpt = Point(rivpts[-1].coords[0][0]+150,rivpts[-1].coords[0][1]-150)     # _______ ending point each outside the domain\n",
    "rivpts.append(newpt)  \n",
    "rivsegs = []\n",
    "totpts = len(rivpts)/10\n",
    "previous_seg = 0\n",
    "for i in range(1,10):\n",
    "    tmppts = rivpts[previous_seg:int(i*totpts)]\n",
    "    previous_seg = int(i*totpts)-1\n",
    "    rivsegs.append(LineString(zip([c.coords[0][0] for c in tmppts],[c.coords[0][1] for c in tmppts])))\n",
    "tmppts = rivpts[previous_seg:-1]\n",
    "rivsegs.append(LineString(zip([c.coords[0][0] for c in tmppts],[c.coords[0][1] for c in tmppts])))\n",
    "# ax = geology.plot(column='k', legend=True)\n",
    "# riv.plot(ax=ax)\n",
    "riv_divided = gp.GeoDataFrame({'geometry':rivsegs,'segname': [i+1+1000 for i in range(len(rivsegs))]},crs=riv.crs)  # _______\n",
    "riv_points = gp.GeoDataFrame({'geometry':rivpts,'ptname' : np.arange(len(rivpts))},crs=riv.crs)  # __________________________\n",
    "# ax=riv_divided.plot(column='segname', legend=True, figsize=(4,5))\n",
    "# riv_points.plot(column='ptname', ax=ax)\n",
    "riv_divided ['from_id'] = [i+1000 for i in range(len(riv_divided))]\n",
    "riv_divided.loc[0, 'from_id'] = 0\n",
    "riv_divided ['to_id'] = [i+2+1000 for i in range(len(riv_divided))]\n",
    "riv_divided.loc[9, 'to_id'] = 0\n",
    "riv_divided['streamwid'] = 15                                             #  width\n",
    "riv_divided.to_file(datapath / 'shp' / 'River_Lambro_segmented.shp')\n",
    "\n",
    "riv_shpfile = os.path.join(datapath, 'shp', 'River_stages_polyline.shp')  #_________________________________________________________________ #  PAR\n",
    "riv_shapes = sf.Reader(riv_shpfile).shapes()\n",
    "riv_spd=[]    \n",
    "for i in range(len(riv_shapes)):\n",
    "    shp = riv_shapes[i]\n",
    "    stage = sf.Reader(riv_shpfile).record(i)[0] - 0.4          # the shapefile records contain the stage in the first attribute \"column\";\n",
    "    cellids = ix.intersect(shp).cellids                        # get the intersect \n",
    "    cond = 0.001\n",
    "    rbot = stage - 1.0\n",
    "    for icpl in cellids:\n",
    "        riv_spd.append(((0, icpl), stage, cond, rbot, 'riv'))  # [cellid, stage, cond, rbot, aux, boundname]\n",
    "        \n",
    "riv = flopy.mf6.ModflowGwfriv(gwf, stress_period_data = riv_spd, boundnames = True)\n",
    "\n",
    "riv.set_all_data_external()"
   ]
  },
  {
   "cell_type": "raw",
   "id": "cd4c131c-febe-4537-aa7a-7ec0e91c96d3",
   "metadata": {},
   "source": [
    "riv.set_all_data_external()\n",
    "ghb.set_all_data_external()  \n",
    "rch.set_all_data_external()\n",
    "for lay in range(nlay):\n",
    "    external_file_path =  f'{gwf.name}.k{lay+1}.txt'                                                  # 'MF.Setup/27_K0.dat'   {gwf.name}\n",
    "    npf.k.store_as_external_file(external_file_path = external_file_path,   layer = lay)\n",
    "\n",
    "for f in os.listdir(workspace):                   # \\..\\models\\sgn_mfsetup_B\\MF.Setup/27_K0.dat       # npf\n",
    "    if '.k' in f:\n",
    "        print(f)"
   ]
  },
  {
   "cell_type": "code",
   "execution_count": null,
   "id": "e1f93aa0-b149-4339-a130-b320d1a64c7c",
   "metadata": {},
   "outputs": [],
   "source": []
  }
 ],
 "metadata": {
  "kernelspec": {
   "display_name": "Python 3 (ipykernel)",
   "language": "python",
   "name": "python3"
  },
  "language_info": {
   "codemirror_mode": {
    "name": "ipython",
    "version": 3
   },
   "file_extension": ".py",
   "mimetype": "text/x-python",
   "name": "python",
   "nbconvert_exporter": "python",
   "pygments_lexer": "ipython3",
   "version": "3.11.11"
  }
 },
 "nbformat": 4,
 "nbformat_minor": 5
}
