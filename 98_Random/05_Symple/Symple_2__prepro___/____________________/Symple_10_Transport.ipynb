{
 "cells": [
  {
   "cell_type": "markdown",
   "id": "87983563",
   "metadata": {},
   "source": [
    "# **Add transport**"
   ]
  },
  {
   "cell_type": "code",
   "execution_count": 1,
   "id": "061d09d6",
   "metadata": {},
   "outputs": [],
   "source": [
    "import sys, os\n",
    "sys.path.append('../../dependencies/')\n",
    "import shutil\n",
    "import flopy\n",
    "import pyemu\n",
    "from flopy.utils.gridgen import Gridgen \n",
    "from flopy.utils.gridintersect import GridIntersect\n",
    "import pandas as pd \n",
    "import numpy as np\n",
    "import matplotlib.pyplot as plt\n",
    "import shapefile as sf\n",
    "from shapely.geometry import Polygon, LineString, MultiLineString, Point"
   ]
  },
  {
   "cell_type": "code",
   "execution_count": 2,
   "id": "3f3a313b",
   "metadata": {},
   "outputs": [
    {
     "name": "stdout",
     "output_type": "stream",
     "text": [
      "loading simulation...\n",
      "  loading simulation name file...\n"
     ]
    },
    {
     "ename": "MFDataException",
     "evalue": "An error occurred in package \"None\". The error occurred while loading package file in the \"load\" method.\nAdditional Information:\n(1) File E:\\15_REPOS\\d03_Beta-Me\\02_Symple_______________________\\Symple___again_________________\\..\\models\\sgn_mfsetup_transport\\mfsim.nam of type nam could not be opened.",
     "output_type": "error",
     "traceback": [
      "\u001b[1;31m---------------------------------------------------------------------------\u001b[0m",
      "\u001b[1;31mFileNotFoundError\u001b[0m                         Traceback (most recent call last)",
      "File \u001b[1;32m~\\anaconda3\\envs\\gmdsitut\\Lib\\site-packages\\flopy\\mf6\\mfpackage.py:2779\u001b[0m, in \u001b[0;36mMFPackage.load\u001b[1;34m(self, strict)\u001b[0m\n\u001b[0;32m   2778\u001b[0m \u001b[38;5;28;01mtry\u001b[39;00m:\n\u001b[1;32m-> 2779\u001b[0m     fd_input_file \u001b[38;5;241m=\u001b[39m \u001b[38;5;28;43mopen\u001b[39;49m\u001b[43m(\u001b[49m\n\u001b[0;32m   2780\u001b[0m \u001b[43m        \u001b[49m\u001b[43mdatautil\u001b[49m\u001b[38;5;241;43m.\u001b[39;49m\u001b[43mclean_filename\u001b[49m\u001b[43m(\u001b[49m\u001b[38;5;28;43mself\u001b[39;49m\u001b[38;5;241;43m.\u001b[39;49m\u001b[43mget_file_path\u001b[49m\u001b[43m(\u001b[49m\u001b[43m)\u001b[49m\u001b[43m)\u001b[49m\u001b[43m,\u001b[49m\u001b[43m \u001b[49m\u001b[38;5;124;43m\"\u001b[39;49m\u001b[38;5;124;43mr\u001b[39;49m\u001b[38;5;124;43m\"\u001b[39;49m\n\u001b[0;32m   2781\u001b[0m \u001b[43m    \u001b[49m\u001b[43m)\u001b[49m\n\u001b[0;32m   2782\u001b[0m \u001b[38;5;28;01mexcept\u001b[39;00m \u001b[38;5;167;01mOSError\u001b[39;00m \u001b[38;5;28;01mas\u001b[39;00m e:\n",
      "\u001b[1;31mFileNotFoundError\u001b[0m: [Errno 2] No such file or directory: 'E:\\\\15_REPOS\\\\d03_Beta-Me\\\\02_Symple_______________________\\\\Symple___again_________________\\\\..\\\\models\\\\sgn_mfsetup_transport\\\\mfsim.nam'",
      "\nDuring handling of the above exception, another exception occurred:\n",
      "\u001b[1;31mMFDataException\u001b[0m                           Traceback (most recent call last)",
      "Cell \u001b[1;32mIn[2], line 6\u001b[0m\n\u001b[0;32m      4\u001b[0m     shutil\u001b[38;5;241m.\u001b[39mrmtree(model_ws)\n\u001b[0;32m      5\u001b[0m shutil\u001b[38;5;241m.\u001b[39mcopytree(org_model_ws,model_ws)\n\u001b[1;32m----> 6\u001b[0m sim \u001b[38;5;241m=\u001b[39m \u001b[43mflopy\u001b[49m\u001b[38;5;241;43m.\u001b[39;49m\u001b[43mmf6\u001b[49m\u001b[38;5;241;43m.\u001b[39;49m\u001b[43mMFSimulation\u001b[49m\u001b[38;5;241;43m.\u001b[39;49m\u001b[43mload\u001b[49m\u001b[43m(\u001b[49m\u001b[43msim_ws\u001b[49m\u001b[38;5;241;43m=\u001b[39;49m\u001b[43mmodel_ws\u001b[49m\u001b[43m)\u001b[49m\n",
      "File \u001b[1;32m~\\anaconda3\\envs\\gmdsitut\\Lib\\site-packages\\flopy\\mf6\\modflow\\mfsimulation.py:144\u001b[0m, in \u001b[0;36mMFSimulation.load\u001b[1;34m(cls, sim_name, version, exe_name, sim_ws, strict, verbosity_level, load_only, verify_data, write_headers, lazy_io, use_pandas)\u001b[0m\n\u001b[0;32m    129\u001b[0m \u001b[38;5;129m@classmethod\u001b[39m\n\u001b[0;32m    130\u001b[0m \u001b[38;5;28;01mdef\u001b[39;00m \u001b[38;5;21mload\u001b[39m(\n\u001b[0;32m    131\u001b[0m     \u001b[38;5;28mcls\u001b[39m,\n\u001b[1;32m   (...)\u001b[0m\n\u001b[0;32m    142\u001b[0m     use_pandas\u001b[38;5;241m=\u001b[39m\u001b[38;5;28;01mTrue\u001b[39;00m,\n\u001b[0;32m    143\u001b[0m ):\n\u001b[1;32m--> 144\u001b[0m     \u001b[38;5;28;01mreturn\u001b[39;00m \u001b[43mmfsimbase\u001b[49m\u001b[38;5;241;43m.\u001b[39;49m\u001b[43mMFSimulationBase\u001b[49m\u001b[38;5;241;43m.\u001b[39;49m\u001b[43mload\u001b[49m\u001b[43m(\u001b[49m\n\u001b[0;32m    145\u001b[0m \u001b[43m        \u001b[49m\u001b[38;5;28;43mcls\u001b[39;49m\u001b[43m,\u001b[49m\n\u001b[0;32m    146\u001b[0m \u001b[43m        \u001b[49m\u001b[43msim_name\u001b[49m\u001b[43m,\u001b[49m\n\u001b[0;32m    147\u001b[0m \u001b[43m        \u001b[49m\u001b[43mversion\u001b[49m\u001b[43m,\u001b[49m\n\u001b[0;32m    148\u001b[0m \u001b[43m        \u001b[49m\u001b[43mexe_name\u001b[49m\u001b[43m,\u001b[49m\n\u001b[0;32m    149\u001b[0m \u001b[43m        \u001b[49m\u001b[43msim_ws\u001b[49m\u001b[43m,\u001b[49m\n\u001b[0;32m    150\u001b[0m \u001b[43m        \u001b[49m\u001b[43mstrict\u001b[49m\u001b[43m,\u001b[49m\n\u001b[0;32m    151\u001b[0m \u001b[43m        \u001b[49m\u001b[43mverbosity_level\u001b[49m\u001b[43m,\u001b[49m\n\u001b[0;32m    152\u001b[0m \u001b[43m        \u001b[49m\u001b[43mload_only\u001b[49m\u001b[43m,\u001b[49m\n\u001b[0;32m    153\u001b[0m \u001b[43m        \u001b[49m\u001b[43mverify_data\u001b[49m\u001b[43m,\u001b[49m\n\u001b[0;32m    154\u001b[0m \u001b[43m        \u001b[49m\u001b[43mwrite_headers\u001b[49m\u001b[43m,\u001b[49m\n\u001b[0;32m    155\u001b[0m \u001b[43m        \u001b[49m\u001b[43mlazy_io\u001b[49m\u001b[43m,\u001b[49m\n\u001b[0;32m    156\u001b[0m \u001b[43m        \u001b[49m\u001b[43muse_pandas\u001b[49m\u001b[43m,\u001b[49m\n\u001b[0;32m    157\u001b[0m \u001b[43m    \u001b[49m\u001b[43m)\u001b[49m\n",
      "File \u001b[1;32m~\\anaconda3\\envs\\gmdsitut\\Lib\\site-packages\\flopy\\mf6\\mfsimbase.py:786\u001b[0m, in \u001b[0;36mMFSimulationBase.load\u001b[1;34m(cls_child, sim_name, version, exe_name, sim_ws, strict, verbosity_level, load_only, verify_data, write_headers, lazy_io, use_pandas)\u001b[0m\n\u001b[0;32m    784\u001b[0m \u001b[38;5;28;01mif\u001b[39;00m verbosity_level\u001b[38;5;241m.\u001b[39mvalue \u001b[38;5;241m>\u001b[39m\u001b[38;5;241m=\u001b[39m VerbosityLevel\u001b[38;5;241m.\u001b[39mnormal\u001b[38;5;241m.\u001b[39mvalue:\n\u001b[0;32m    785\u001b[0m     \u001b[38;5;28mprint\u001b[39m(\u001b[38;5;124m\"\u001b[39m\u001b[38;5;124m  loading simulation name file...\u001b[39m\u001b[38;5;124m\"\u001b[39m)\n\u001b[1;32m--> 786\u001b[0m \u001b[43minstance\u001b[49m\u001b[38;5;241;43m.\u001b[39;49m\u001b[43mname_file\u001b[49m\u001b[38;5;241;43m.\u001b[39;49m\u001b[43mload\u001b[49m\u001b[43m(\u001b[49m\u001b[43mstrict\u001b[49m\u001b[43m)\u001b[49m\n\u001b[0;32m    788\u001b[0m \u001b[38;5;66;03m# load TDIS file\u001b[39;00m\n\u001b[0;32m    789\u001b[0m tdis_pkg \u001b[38;5;241m=\u001b[39m \u001b[38;5;124mf\u001b[39m\u001b[38;5;124m\"\u001b[39m\u001b[38;5;124mtdis\u001b[39m\u001b[38;5;132;01m{\u001b[39;00mmfstructure\u001b[38;5;241m.\u001b[39mMFStructure()\u001b[38;5;241m.\u001b[39mget_version_string()\u001b[38;5;132;01m}\u001b[39;00m\u001b[38;5;124m\"\u001b[39m\n",
      "File \u001b[1;32m~\\anaconda3\\envs\\gmdsitut\\Lib\\site-packages\\flopy\\mf6\\mfpackage.py:2788\u001b[0m, in \u001b[0;36mMFPackage.load\u001b[1;34m(self, strict)\u001b[0m\n\u001b[0;32m   2784\u001b[0m         message \u001b[38;5;241m=\u001b[39m \u001b[38;5;124m\"\u001b[39m\u001b[38;5;124mFile \u001b[39m\u001b[38;5;132;01m{}\u001b[39;00m\u001b[38;5;124m of type \u001b[39m\u001b[38;5;132;01m{}\u001b[39;00m\u001b[38;5;124m could not be opened.\u001b[39m\u001b[38;5;124m\"\u001b[39m\u001b[38;5;241m.\u001b[39mformat(\n\u001b[0;32m   2785\u001b[0m             \u001b[38;5;28mself\u001b[39m\u001b[38;5;241m.\u001b[39mget_file_path(), \u001b[38;5;28mself\u001b[39m\u001b[38;5;241m.\u001b[39mpackage_type\n\u001b[0;32m   2786\u001b[0m         )\n\u001b[0;32m   2787\u001b[0m         type_, value_, traceback_ \u001b[38;5;241m=\u001b[39m sys\u001b[38;5;241m.\u001b[39mexc_info()\n\u001b[1;32m-> 2788\u001b[0m         \u001b[38;5;28;01mraise\u001b[39;00m MFDataException(\n\u001b[0;32m   2789\u001b[0m             \u001b[38;5;28mself\u001b[39m\u001b[38;5;241m.\u001b[39mmodel_name,\n\u001b[0;32m   2790\u001b[0m             \u001b[38;5;28mself\u001b[39m\u001b[38;5;241m.\u001b[39mpackage_name,\n\u001b[0;32m   2791\u001b[0m             \u001b[38;5;28mself\u001b[39m\u001b[38;5;241m.\u001b[39mpath,\n\u001b[0;32m   2792\u001b[0m             \u001b[38;5;124m\"\u001b[39m\u001b[38;5;124mloading package file\u001b[39m\u001b[38;5;124m\"\u001b[39m,\n\u001b[0;32m   2793\u001b[0m             \u001b[38;5;28;01mNone\u001b[39;00m,\n\u001b[0;32m   2794\u001b[0m             inspect\u001b[38;5;241m.\u001b[39mstack()[\u001b[38;5;241m0\u001b[39m][\u001b[38;5;241m3\u001b[39m],\n\u001b[0;32m   2795\u001b[0m             type_,\n\u001b[0;32m   2796\u001b[0m             value_,\n\u001b[0;32m   2797\u001b[0m             traceback_,\n\u001b[0;32m   2798\u001b[0m             message,\n\u001b[0;32m   2799\u001b[0m             \u001b[38;5;28mself\u001b[39m\u001b[38;5;241m.\u001b[39m_simulation_data\u001b[38;5;241m.\u001b[39mdebug,\n\u001b[0;32m   2800\u001b[0m         )\n\u001b[0;32m   2802\u001b[0m \u001b[38;5;28;01mtry\u001b[39;00m:\n\u001b[0;32m   2803\u001b[0m     \u001b[38;5;28mself\u001b[39m\u001b[38;5;241m.\u001b[39m_load_blocks(fd_input_file, strict)\n",
      "\u001b[1;31mMFDataException\u001b[0m: An error occurred in package \"None\". The error occurred while loading package file in the \"load\" method.\nAdditional Information:\n(1) File E:\\15_REPOS\\d03_Beta-Me\\02_Symple_______________________\\Symple___again_________________\\..\\models\\sgn_mfsetup_transport\\mfsim.nam of type nam could not be opened."
     ]
    }
   ],
   "source": [
    "org_model_ws = os.path.join(\"..\",\"models\",\"sgn_mfsetup\")\n",
    "model_ws = org_model_ws + \"_transport\"\n",
    "if os.path.exists(model_ws):\n",
    "    shutil.rmtree(model_ws)\n",
    "shutil.copytree(org_model_ws,model_ws)\n",
    "sim = flopy.mf6.MFSimulation.load(sim_ws=model_ws)"
   ]
  },
  {
   "cell_type": "code",
   "execution_count": null,
   "id": "2247fbcf",
   "metadata": {},
   "outputs": [],
   "source": [
    "model_name = \"sgn_50\"\n",
    "m = sim.get_model(model_name)"
   ]
  },
  {
   "cell_type": "markdown",
   "id": "4d7b10a3",
   "metadata": {},
   "source": [
    "### some trickery\n",
    "\n",
    "Just copy the gwt model from the flopy lesson"
   ]
  },
  {
   "cell_type": "code",
   "execution_count": null,
   "id": "107129bd",
   "metadata": {},
   "outputs": [],
   "source": [
    "gwt_name = \"gwt-sgn\"\n",
    "gwf_name = \"sgn_50\""
   ]
  },
  {
   "cell_type": "code",
   "execution_count": null,
   "id": "27adf718",
   "metadata": {},
   "outputs": [],
   "source": [
    "gwt_org_d = os.path.join(\"..\",\"..\",\"models\",\"sgn_model_3layer\")\n",
    "gwt_files = [f for f in os.listdir(gwt_org_d) if \"gwt\" in f.lower()]\n",
    "for f in gwt_files:\n",
    "    shutil.copy2(os.path.join(gwt_org_d,f),os.path.join(model_ws,f))\n",
    "#shutil.copy2(os.path.join(gwt_org_d,\"sim.tdis\"),os.path.join(model_ws,gwf_name+\"_sim.tdis\"))\n",
    "    \n",
    "# fix tdis\n",
    "lines = open(os.path.join(model_ws,gwf_name+\"_sim.tdis\"),'r').readlines()\n",
    "with open(os.path.join(model_ws,gwf_name+\"_sim.tdis\"),'w') as f:\n",
    "    for line in lines:\n",
    "        f.write(line)\n",
    "        if \"begin perioddata\" in line.lower():\n",
    "            f.write(\" 1.57680000E+09  2       1.10000000\\n\")\n",
    "            f.write(\" 1.57680000E+09  2       1.10000000\\n\")\n",
    "            f.write(\"END perioddata\\n\")\n",
    "    \n",
    "# fix the dis\n",
    "shutil.copy2(os.path.join(model_ws,model_name+\".dis\"),os.path.join(model_ws,gwt_name+\".dis\"))\n",
    "# fix the nam file\n",
    "lines = open(os.path.join(model_ws,gwt_name+\".nam\"),'r').readlines()\n",
    "with open(os.path.join(model_ws,gwt_name+\".nam\"),'w') as f:\n",
    "    for line in lines:\n",
    "        #if \"ssm\" in line.lower():\n",
    "        #    continue\n",
    "        #if \"obs\" in line.lower():\n",
    "        #    continue\n",
    "        line = line.replace(\"disv\",\"dis\")\n",
    "        f.write(line)\n",
    "# fix the mfsim nam file\n",
    "lines = open(os.path.join(model_ws,\"mfsim.nam\"),'r').readlines()\n",
    "\n",
    "with open(os.path.join(model_ws,\"mfsim.nam\"),'w') as f:\n",
    "    for line in lines:\n",
    "        f.write(line)\n",
    "        if \"begin models\" in line.lower():\n",
    "            f.write(\" gwt6 {0}.nam {0}\\n\".format(gwt_name))\n",
    "        if \"begin solutiongroup\" in line.lower():\n",
    "            f.write(\" ims6 {0}.ims {0}\\n\".format(gwt_name))\n",
    "        if \"begin exchanges\" in line.lower():\n",
    "            f.write(\"GWF6-GWT6  sgn.gwfgwt  {0}  {1}\\n\".format(gwf_name,gwt_name))\n",
    "# fix for mst so porosity is layered\n",
    "lines = open(os.path.join(model_ws,gwt_name+\".mst\"),'r').readlines()\n",
    "with open(os.path.join(model_ws,gwt_name+\".mst\"),'w') as f:\n",
    "    for line in lines:\n",
    "        if \"porosity\" in line:\n",
    "            f.write(\"  porosity layered\\n    CONSTANT  0.2\\n    CONSTANT  0.2\\n    CONSTANT 0.2\\n\")\n",
    "            f.write(\"END griddata\\n\")\n",
    "            break\n",
    "        f.write(line)"
   ]
  },
  {
   "cell_type": "code",
   "execution_count": null,
   "id": "3f9942f7",
   "metadata": {},
   "outputs": [],
   "source": [
    "ix = GridIntersect(m.modelgrid)"
   ]
  },
  {
   "cell_type": "code",
   "execution_count": null,
   "id": "2c856d2f",
   "metadata": {},
   "outputs": [],
   "source": [
    "source_shp = os.path.join(\"..\",\"..\",\"data\",\"sgn\",\"shp\",\"real_unknown_sources.shp\")\n",
    "shp = sf.Reader(source_shp)\n",
    "print(shp.fields)"
   ]
  },
  {
   "cell_type": "code",
   "execution_count": null,
   "id": "7925ede5",
   "metadata": {},
   "outputs": [],
   "source": [
    "src_ij_conc = []\n",
    "for s,r in zip(shp.shapes(),shp.records()):\n",
    "    #print(s.points[0])\n",
    "    pt = Point(*s.points[0])\n",
    "    src_cell = ix.intersect(pt)\n",
    "    ij_conc = list(src_cell[0][0])\n",
    "    ij_conc.append(r[-2])\n",
    "    if ij_conc not in src_ij_conc:\n",
    "        src_ij_conc.append(ij_conc)\n",
    "    #print(src_cell[0][0])"
   ]
  },
  {
   "cell_type": "code",
   "execution_count": null,
   "id": "cbdca386",
   "metadata": {},
   "outputs": [],
   "source": [
    "src_ij_conc"
   ]
  },
  {
   "cell_type": "code",
   "execution_count": null,
   "id": "0f189589",
   "metadata": {},
   "outputs": [],
   "source": [
    "#rewrite the cnc file\n",
    "cnc_file = os.path.join(model_ws,gwt_name+\".cnc\")\n",
    "with open(cnc_file,'w') as f:\n",
    "    f.write(\"BEGIN options\\n  BOUNDNAMES\\nEND options\\n\\n\")\n",
    "    f.write(\"BEGIN dimensions\\nMAXBOUND {0}\\nEND dimensions\\n\\n\".format(len(src_ij_conc)))\n",
    "    f.write(\"BEGIN period 1\\n\")\n",
    "    for src_rec in src_ij_conc:\n",
    "        line = \"1 {0} {1} {2}\".format(src_rec[0]+1,src_rec[1]+1,src_rec[2])\n",
    "        if src_rec[2] == 200:\n",
    "            line += \" conc-1\\n\"\n",
    "        else:\n",
    "            line += \" conc-2\\n\"\n",
    "        f.write(line)\n",
    "    f.write(\"END period 1\\n\")\n",
    "\n",
    "            \n",
    "    "
   ]
  },
  {
   "cell_type": "code",
   "execution_count": null,
   "id": "0be65b56",
   "metadata": {},
   "outputs": [],
   "source": [
    "obs_shp = os.path.join(\"..\",\"..\",\"data\",\"sgn\",\"shp\",\"Target_L1_sept2019_head_PCE.shp\")\n",
    "shp = sf.Reader(obs_shp)\n",
    "print(shp.fields)"
   ]
  },
  {
   "cell_type": "code",
   "execution_count": null,
   "id": "2106c6ba",
   "metadata": {},
   "outputs": [],
   "source": [
    "cobs_ij = []\n",
    "for s,r in zip(shp.shapes(),shp.records()):\n",
    "    #print(s.points[0])\n",
    "    pt = Point(*s.points[0])\n",
    "    src_cell = ix.intersect(pt)\n",
    "    #print(len(src_cell))\n",
    "    if len(src_cell) == 0:\n",
    "        print(\"out of grid\",r[0])\n",
    "        continue\n",
    "    #print(src_cell)\n",
    "    ij = list(src_cell[0][0])\n",
    "    if ij not in cobs_ij:\n",
    "        ij.append(r[0].lower().replace(\"_\",\"\"))\n",
    "        ij.append(r[8])\n",
    "        cobs_ij.append(ij)\n",
    "    else:\n",
    "        print(\"same cell\",ij,r[0],[r for r in ij_conc if r == ij])"
   ]
  },
  {
   "cell_type": "code",
   "execution_count": null,
   "id": "018c73f2",
   "metadata": {},
   "outputs": [],
   "source": [
    "cobs_ij"
   ]
  },
  {
   "cell_type": "code",
   "execution_count": null,
   "id": "16d13da4",
   "metadata": {},
   "outputs": [],
   "source": [
    "with open(os.path.join(model_ws,gwt_name+\".obs\"),'w') as f:\n",
    "    f.write(\"BEGIN options\\n DIGITS 15\\n PRINT_INPUT\\nEND options\\n\\n\")\n",
    "    f.write(\"BEGIN continuous FILEOUT conc_obs.csv\\n\")\n",
    "    for rec in cobs_ij:\n",
    "        f.write(\"{0} CONCENTRATION 1 {1} {2}\\n\".format(rec[2],int(rec[0])+1,int(rec[1])+1))\n",
    "    f.write(\"END continuous FILEOUT conc_obs.csv\\n\\n\")"
   ]
  },
  {
   "cell_type": "code",
   "execution_count": null,
   "id": "809936e1",
   "metadata": {},
   "outputs": [],
   "source": [
    "pyemu.os_utils.run(\"mf6\",cwd=model_ws)"
   ]
  },
  {
   "cell_type": "code",
   "execution_count": null,
   "id": "2db2e7ce",
   "metadata": {},
   "outputs": [],
   "source": [
    "df = pd.DataFrame(cobs_ij,columns=[\"i\",\"j\",\"site\",\"pce\"])\n",
    "df.to_csv(os.path.join(model_ws,\"pce_obsval.csv\"),index=False)"
   ]
  },
  {
   "cell_type": "code",
   "execution_count": null,
   "id": "bf3183b9",
   "metadata": {
    "scrolled": true
   },
   "outputs": [],
   "source": [
    "ucn = flopy.utils.HeadFile(os.path.join(model_ws,gwt_name+\".ucn\"),precision=\"double\",text=\"concentration\")\n",
    "\n",
    "fig,axes = plt.subplots(1,2,figsize=(10,5))\n",
    "times = ucn.get_times()\n",
    "assert len(times) == 2\n",
    "mn = 1.0e+100\n",
    "mx = -1.0e+100\n",
    "for t in times:\n",
    "    d = ucn.get_data(totim=t)\n",
    "    mn = min(mn,d.min())\n",
    "    mx = max(mx,d.max())\n",
    "arrs = []\n",
    "for ax,t in zip(axes,times):\n",
    "    d = ucn.get_data(totim=t)\n",
    "    cb = ax.imshow(d[0,:,:],vmin=mn,vmax=mx)\n",
    "    plt.colorbar(cb,ax=ax)\n",
    "    arrs.append(d[0,:,:])\n",
    "d = arrs[1] - arrs[0]\n",
    "d[np.abs(d)<1.0e-3] = np.nan\n",
    "plt.show()\n",
    "\n",
    "plt.imshow(d)\n",
    "plt.show()\n"
   ]
  },
  {
   "cell_type": "code",
   "execution_count": null,
   "id": "2d5a5473",
   "metadata": {},
   "outputs": [],
   "source": []
  },
  {
   "cell_type": "code",
   "execution_count": null,
   "id": "61acfa11",
   "metadata": {},
   "outputs": [],
   "source": []
  }
 ],
 "metadata": {
  "kernelspec": {
   "display_name": "Python 3 (ipykernel)",
   "language": "python",
   "name": "python3"
  },
  "language_info": {
   "codemirror_mode": {
    "name": "ipython",
    "version": 3
   },
   "file_extension": ".py",
   "mimetype": "text/x-python",
   "name": "python",
   "nbconvert_exporter": "python",
   "pygments_lexer": "ipython3",
   "version": "3.11.11"
  }
 },
 "nbformat": 4,
 "nbformat_minor": 5
}
