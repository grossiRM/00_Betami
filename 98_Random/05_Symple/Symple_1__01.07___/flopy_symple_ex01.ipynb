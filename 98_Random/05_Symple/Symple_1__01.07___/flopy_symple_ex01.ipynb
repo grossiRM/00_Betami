{
 "cells": [
  {
   "cell_type": "markdown",
   "metadata": {},
   "source": [
    "# __01__"
   ]
  },
  {
   "cell_type": "code",
   "execution_count": 1,
   "metadata": {},
   "outputs": [],
   "source": [
    "import os \n",
    "import sys\n",
    "sys.path.append('../dependencies/')\n",
    "import flopy\n",
    "import numpy as np\n",
    "import pandas as pd\n",
    "import matplotlib.pyplot as plt"
   ]
  },
  {
   "cell_type": "markdown",
   "metadata": {},
   "source": [
    "__SIM__"
   ]
  },
  {
   "cell_type": "code",
   "execution_count": 16,
   "metadata": {},
   "outputs": [],
   "source": [
    "sim_name = 'symple_ex01'\n",
    "exe_name = os.path.join('..','bin', 'mf6.exe')\n",
    "workspace = os.path.join('..','models','symple_ex01')\n",
    "sim = flopy.mf6.MFSimulation(sim_name=sim_name, exe_name=exe_name, version=\"mf6\",  sim_ws=workspace)"
   ]
  },
  {
   "cell_type": "code",
   "execution_count": null,
   "metadata": {},
   "outputs": [],
   "source": [
    "# exe_name = 'mf6.exe' #os.path.join(bindir, 'mf6.exe')"
   ]
  },
  {
   "cell_type": "markdown",
   "metadata": {},
   "source": [
    "__TDIS__"
   ]
  },
  {
   "cell_type": "code",
   "execution_count": 3,
   "metadata": {},
   "outputs": [],
   "source": [
    "time_units, perioddata, nper = 'days', [(1.0, 1, 1.0)],  1 \n",
    "tdis = flopy.mf6.ModflowTdis(sim, pname=\"tdis\", nper=nper,  perioddata=perioddata, time_units=time_units)"
   ]
  },
  {
   "cell_type": "markdown",
   "metadata": {},
   "source": [
    "__Flow__"
   ]
  },
  {
   "cell_type": "code",
   "execution_count": 4,
   "metadata": {},
   "outputs": [],
   "source": [
    "model_name = 'symp01'\n",
    "gwf = flopy.mf6.ModflowGwf(sim, modelname=model_name, save_flows=True, print_flows=True)\n",
    "ims = flopy.mf6.ModflowIms(sim, pname=\"ims\", complexity=\"SIMPLE\", linear_acceleration=\"BICGSTAB\",)\n",
    "sim.register_ims_package(ims, [gwf.name])"
   ]
  },
  {
   "cell_type": "markdown",
   "metadata": {},
   "source": [
    "__DIS__"
   ]
  },
  {
   "cell_type": "code",
   "execution_count": 2,
   "metadata": {},
   "outputs": [
    {
     "name": "stdout",
     "output_type": "stream",
     "text": [
      "Number of rows:15\n",
      "Number of columns:10\n"
     ]
    }
   ],
   "source": [
    "length_units,  nlay,Lx,Ly,  delr,delc = \"METERS\",   3,1000,1500,   100,100      # print(f'Cell size:{delr} x {delc}')\n",
    "top, botm = 50, [40, 35, 0]\n",
    "ncol, nrow = int(Lx/delc) , int(Ly/delr)  \n",
    "print(f'Number of rows:{nrow}')  \n",
    "print(f'Number of columns:{ncol}')"
   ]
  },
  {
   "cell_type": "code",
   "execution_count": 8,
   "metadata": {},
   "outputs": [
    {
     "name": "stdout",
     "output_type": "stream",
     "text": [
      "WARNING: Package with type dis already exists. Replacing existing package.\n"
     ]
    }
   ],
   "source": [
    "dis = flopy.mf6.ModflowGwfdis(gwf, nlay=nlay, nrow=nrow, ncol=ncol, delr=delr, delc=delc, top=top, botm=botm)"
   ]
  },
  {
   "cell_type": "markdown",
   "metadata": {},
   "source": [
    "__IC__"
   ]
  },
  {
   "cell_type": "code",
   "execution_count": 9,
   "metadata": {},
   "outputs": [],
   "source": [
    "strt = 50 \n",
    "strt = [50, 50, 50]\n",
    "strt = top * np.ones((nlay, nrow, ncol))\n",
    "ic = flopy.mf6.ModflowGwfic(gwf, pname=\"ic\", strt=strt)"
   ]
  },
  {
   "cell_type": "code",
   "execution_count": 11,
   "metadata": {},
   "outputs": [
    {
     "name": "stdout",
     "output_type": "stream",
     "text": [
      "WARNING: Package with type npf already exists. Replacing existing package.\n"
     ]
    }
   ],
   "source": [
    "k = [5, 0.1, 10]\n",
    "icelltype = [1, 0, 0]   # unconfiend, saturated, saturated\n",
    "npf = flopy.mf6.ModflowGwfnpf(gwf, icelltype=icelltype, k=k, save_flows=True,  save_specific_discharge=True)\n",
    "\n",
    "recharge = 50/1000/365 # 50mm/yr in m/d\n",
    "rch = flopy.mf6.ModflowGwfrcha(gwf, pname='rch', recharge=recharge)"
   ]
  },
  {
   "cell_type": "markdown",
   "metadata": {},
   "source": [
    "__LISTs__"
   ]
  },
  {
   "cell_type": "code",
   "execution_count": 12,
   "metadata": {},
   "outputs": [],
   "source": [
    "riv_row, stage, rbot, cond = 7, top - 5,       botm[0],      0.1 * delr*delc/1\n",
    "riv_spd = []\n",
    "for col in range(ncol): riv_spd.append(((0, riv_row, col), stage, cond, rbot))        # append\n",
    "riv = flopy.mf6.ModflowGwfriv(gwf, stress_period_data=riv_spd, boundnames=True)\n"
   ]
  },
  {
   "cell_type": "markdown",
   "metadata": {},
   "source": [
    "__OC__"
   ]
  },
  {
   "cell_type": "code",
   "execution_count": 13,
   "metadata": {},
   "outputs": [],
   "source": [
    "headfile = f\"{gwf.name}.hds\"\n",
    "head_filerecord = [headfile]\n",
    "\n",
    "budgetfile = f\"{gwf.name}.cbb\"\n",
    "budget_filerecord = [budgetfile]\n",
    "\n",
    "saverecord = [(\"HEAD\", \"ALL\"), (\"BUDGET\", \"ALL\")]\n",
    "\n",
    "printrecord = [(\"HEAD\", \"LAST\")]\n",
    "oc = flopy.mf6.ModflowGwfoc(gwf, saverecord=saverecord, head_filerecord=head_filerecord, \n",
    "                            budget_filerecord=budget_filerecord, printrecord=printrecord)"
   ]
  },
  {
   "cell_type": "code",
   "execution_count": null,
   "metadata": {},
   "outputs": [],
   "source": [
    "sim.write_simulation()"
   ]
  },
  {
   "cell_type": "code",
   "execution_count": 17,
   "metadata": {},
   "outputs": [
    {
     "name": "stdout",
     "output_type": "stream",
     "text": [
      "FloPy is using the following executable to run the model: ..\\..\\bin\\mf6.exe\n",
      "                                   MODFLOW 6\n",
      "                U.S. GEOLOGICAL SURVEY MODULAR HYDROLOGIC MODEL\n",
      "                            VERSION 6.2.1 02/18/2021\n",
      "\n",
      "   MODFLOW 6 compiled Feb 18 2021 08:24:05 with IFORT compiler (ver. 19.10.2)\n",
      "\n",
      "This software has been approved for release by the U.S. Geological \n",
      "Survey (USGS). Although the software has been subjected to rigorous \n",
      "review, the USGS reserves the right to update the software as needed \n",
      "pursuant to further analysis and review. No warranty, expressed or \n",
      "implied, is made by the USGS or the U.S. Government as to the \n",
      "functionality of the software and related material nor shall the \n",
      "fact of release constitute any such warranty. Furthermore, the \n",
      "software is released on condition that neither the USGS nor the U.S. \n",
      "Government shall be held liable for any damages resulting from its \n",
      "authorized or unauthorized use. Also refer to the USGS Water \n",
      "Resources Software User Rights Notice for complete use, copyright, \n",
      "and distribution information.\n",
      "\n",
      " \n",
      " Run start date and time (yyyy/mm/dd hh:mm:ss): 2025/01/20 10:27:58\n",
      " \n",
      " Writing simulation list file: mfsim.lst\n",
      " Using Simulation name file: mfsim.nam\n",
      " \n",
      "    Solving:  Stress period:     1    Time step:     1\n",
      " \n",
      " Run end date and time (yyyy/mm/dd hh:mm:ss): 2025/01/20 10:27:58\n",
      " Elapsed run time:  0.099 Seconds\n",
      " \n",
      " Normal termination of simulation.\n"
     ]
    }
   ],
   "source": [
    "success, buff = sim.run_simulation()\n",
    "if not success:\n",
    "    raise Exception(\"MODFLOW 6 did not terminate normally.\")"
   ]
  },
  {
   "cell_type": "code",
   "execution_count": 18,
   "metadata": {},
   "outputs": [
    {
     "data": {
      "text/plain": [
       "['list()', 'zonebudget()', 'budget()', 'budgetcsv()', 'head()']"
      ]
     },
     "execution_count": 18,
     "metadata": {},
     "output_type": "execute_result"
    }
   ],
   "source": [
    "gwf.output.methods()"
   ]
  },
  {
   "cell_type": "code",
   "execution_count": 19,
   "metadata": {},
   "outputs": [
    {
     "data": {
      "text/plain": [
       "['obs()']"
      ]
     },
     "execution_count": 19,
     "metadata": {},
     "output_type": "execute_result"
    }
   ],
   "source": [
    "gwf.riv.output.methods()"
   ]
  },
  {
   "cell_type": "code",
   "execution_count": 27,
   "metadata": {},
   "outputs": [
    {
     "data": {
      "text/plain": [
       "Text(0.5, 1.0, 'Column 5')"
      ]
     },
     "execution_count": 27,
     "metadata": {},
     "output_type": "execute_result"
    },
    {
     "data": {
      "image/png": "[encoded data removed]",
      "text/plain": [
       "<Figure size 500x300 with 2 Axes>"
      ]
     },
     "metadata": {},
     "output_type": "display_data"
    }
   ],
   "source": [
    "#mm.plot_bc('RIV', color='blue')\n",
    "#mm.plot_grid(lw=0.5)\n",
    "\n",
    "column = 5\n",
    "fig, ax = plt.subplots(1, 1, figsize=(5, 3), constrained_layout=True)\n",
    "\n",
    "mm = flopy.plot.PlotCrossSection(model=gwf, ax=ax, line={\"column\": column})\n",
    "head_array = mm.plot_array(heads)\n",
    "cb = plt.colorbar(head_array, shrink=0.5, ax=ax)\n",
    "contours = mm.contour_array(heads, colors=\"black\")\n",
    "ax.clabel(contours, fmt=\"%2.1f\")\n",
    "quadmesh = mm.plot_bc(\"RIV\")\n",
    "linecollection = mm.plot_grid(lw=0.5, color=\"0.5\")\n",
    "ax.set_title(f\"Column {column}\")"
   ]
  },
  {
   "cell_type": "code",
   "execution_count": 35,
   "metadata": {},
   "outputs": [
    {
     "data": {
      "text/plain": [
       "Text(0.5, 1.0, 'Heads')"
      ]
     },
     "execution_count": 35,
     "metadata": {},
     "output_type": "execute_result"
    },
    {
     "data": {
      "image/png": "[encoded data removed]",
      "text/plain": [
       "<Figure size 300x300 with 2 Axes>"
      ]
     },
     "metadata": {},
     "output_type": "display_data"
    }
   ],
   "source": [
    "hds = gwf.output.head()\n",
    "heads = hds.get_alldata()\n",
    "heads.shape\n",
    "heads = hds.get_data(idx=0)\n",
    "heads = hds.get_data(kstpkper=(0,0))\n",
    "heads = hds.get_data(totim=1)\n",
    "fig = plt.figure(figsize=(3, 3), constrained_layout=True)\n",
    "mm = flopy.plot.PlotMapView(model=gwf)\n",
    "head_array = mm.plot_array(heads)\n",
    "contours = mm.contour_array(heads, colors='black')\n",
    "plt.clabel(contours, fmt=\"%2.1f\")\n",
    "cb = plt.colorbar(head_array, shrink=0.5, )\n",
    "cb.ax.set_title('Heads')"
   ]
  },
  {
   "cell_type": "markdown",
   "metadata": {},
   "source": [
    "## err `    `     Budget"
   ]
  },
  {
   "cell_type": "raw",
   "metadata": {},
   "source": [
    "cbb = gwf.output.budget()\n",
    "bud = hds.get_alldata()\n",
    "\n",
    "spdis = cbb.get_data(text=\"SPDIS\")[0]\n",
    "qx, qy, qz = flopy.utils.postprocessing.get_specific_discharge(spdis, gwf)\n",
    "\n",
    "fig = plt.figure(figsize=(3, 3), constrained_layout=True)\n",
    "mm = flopy.plot.PlotMapView(model=gwf)\n",
    "\n",
    "bud = mm.plot_array(bud)\n",
    "contours = mm.contour_array(heads, colors='black')\n",
    "plt.clabel(contours, fmt=\"%2.1f\")\n",
    "cbb = plt.colorbar(head_array, shrink=0.5, )\n",
    "cbb.ax.set_title('bud')"
   ]
  },
  {
   "cell_type": "code",
   "execution_count": 39,
   "metadata": {},
   "outputs": [
    {
     "data": {
      "text/plain": [
       "<matplotlib.collections.LineCollection at 0x25d06b87950>"
      ]
     },
     "execution_count": 39,
     "metadata": {},
     "output_type": "execute_result"
    },
    {
     "data": {
      "image/png": "[encoded data removed]",
      "text/plain": [
       "<Figure size 300x300 with 2 Axes>"
      ]
     },
     "metadata": {},
     "output_type": "display_data"
    }
   ],
   "source": [
    "cbb = gwf.output.budget()\n",
    "spdis = cbb.get_data(text=\"SPDIS\")[0]\n",
    "qx, qy, qz = flopy.utils.postprocessing.get_specific_discharge(spdis, gwf)\n",
    "\n",
    "fig = plt.figure(figsize=(3, 3), constrained_layout=True)\n",
    "mm = flopy.plot.PlotMapView(model=gwf)\n",
    "\n",
    "\n",
    "head_array = mm.plot_array(heads)\n",
    "contours = mm.contour_array(heads, colors='black')\n",
    "plt.clabel(contours, fmt=\"%2.1f\")\n",
    "cbb = plt.colorbar(head_array, shrink=0.5, )\n",
    "cbb.ax.set_title('Heads')\n",
    "\n",
    "# Plot grid \n",
    "# you can plot BC cells using the plot_bc() \n",
    "mm.plot_bc('RIV', color='blue')\n",
    "# and plot the model grid if desired\n",
    "mm.plot_grid(lw=0.5)\n"
   ]
  },
  {
   "cell_type": "code",
   "execution_count": 40,
   "metadata": {},
   "outputs": [
    {
     "data": {
      "text/html": [
       "<div>\n",
       "<style scoped>\n",
       "    .dataframe tbody tr th:only-of-type {\n",
       "        vertical-align: middle;\n",
       "    }\n",
       "\n",
       "    .dataframe tbody tr th {\n",
       "        vertical-align: top;\n",
       "    }\n",
       "\n",
       "    .dataframe thead th {\n",
       "        text-align: right;\n",
       "    }\n",
       "</style>\n",
       "<table border=\"1\" class=\"dataframe\">\n",
       "  <thead>\n",
       "    <tr style=\"text-align: right;\">\n",
       "      <th></th>\n",
       "      <th>RIV_IN</th>\n",
       "      <th>RCH_IN</th>\n",
       "      <th>TOTAL_IN</th>\n",
       "      <th>RIV_OUT</th>\n",
       "      <th>RCH_OUT</th>\n",
       "      <th>TOTAL_OUT</th>\n",
       "      <th>IN-OUT</th>\n",
       "      <th>PERCENT_DISCREPANCY</th>\n",
       "    </tr>\n",
       "  </thead>\n",
       "  <tbody>\n",
       "    <tr>\n",
       "      <th>1970-01-02</th>\n",
       "      <td>0.0</td>\n",
       "      <td>205.479507</td>\n",
       "      <td>205.479507</td>\n",
       "      <td>205.516205</td>\n",
       "      <td>0.0</td>\n",
       "      <td>205.516205</td>\n",
       "      <td>0.036784</td>\n",
       "      <td>-0.02</td>\n",
       "    </tr>\n",
       "  </tbody>\n",
       "</table>\n",
       "</div>"
      ],
      "text/plain": [
       "            RIV_IN      RCH_IN    TOTAL_IN     RIV_OUT  RCH_OUT   TOTAL_OUT  \\\n",
       "1970-01-02     0.0  205.479507  205.479507  205.516205      0.0  205.516205   \n",
       "\n",
       "              IN-OUT  PERCENT_DISCREPANCY  \n",
       "1970-01-02  0.036784                -0.02  "
      ]
     },
     "execution_count": 40,
     "metadata": {},
     "output_type": "execute_result"
    }
   ],
   "source": [
    "quiver = mm.plot_vector(qx, qy, normalize=False, color='blue')\n",
    "\n",
    "mf_list = flopy.utils.Mf6ListBudget(os.path.join(workspace, f\"{gwf.name}.lst\"), timeunit='days')\n",
    "incremental, cumulative = mf_list.get_budget()\n",
    "incrementaldf, cumulativedf = mf_list.get_dataframes()\n",
    "\n",
    "incrementaldf.head()"
   ]
  },
  {
   "cell_type": "code",
   "execution_count": 41,
   "metadata": {},
   "outputs": [
    {
     "data": {
      "text/html": [
       "<div>\n",
       "<style scoped>\n",
       "    .dataframe tbody tr th:only-of-type {\n",
       "        vertical-align: middle;\n",
       "    }\n",
       "\n",
       "    .dataframe tbody tr th {\n",
       "        vertical-align: top;\n",
       "    }\n",
       "\n",
       "    .dataframe thead th {\n",
       "        text-align: right;\n",
       "    }\n",
       "</style>\n",
       "<table border=\"1\" class=\"dataframe\">\n",
       "  <thead>\n",
       "    <tr style=\"text-align: right;\">\n",
       "      <th></th>\n",
       "      <th>RIV_IN</th>\n",
       "      <th>RCH_IN</th>\n",
       "      <th>TOTAL_IN</th>\n",
       "      <th>RIV_OUT</th>\n",
       "      <th>RCH_OUT</th>\n",
       "      <th>TOTAL_OUT</th>\n",
       "      <th>IN-OUT</th>\n",
       "      <th>PERCENT_DISCREPANCY</th>\n",
       "    </tr>\n",
       "  </thead>\n",
       "  <tbody>\n",
       "    <tr>\n",
       "      <th>1970-01-02</th>\n",
       "      <td>0.0</td>\n",
       "      <td>205.479507</td>\n",
       "      <td>205.479507</td>\n",
       "      <td>205.516205</td>\n",
       "      <td>0.0</td>\n",
       "      <td>205.516205</td>\n",
       "      <td>0.036784</td>\n",
       "      <td>-0.02</td>\n",
       "    </tr>\n",
       "  </tbody>\n",
       "</table>\n",
       "</div>"
      ],
      "text/plain": [
       "            RIV_IN      RCH_IN    TOTAL_IN     RIV_OUT  RCH_OUT   TOTAL_OUT  \\\n",
       "1970-01-02     0.0  205.479507  205.479507  205.516205      0.0  205.516205   \n",
       "\n",
       "              IN-OUT  PERCENT_DISCREPANCY  \n",
       "1970-01-02  0.036784                -0.02  "
      ]
     },
     "execution_count": 41,
     "metadata": {},
     "output_type": "execute_result"
    }
   ],
   "source": [
    "cumulativedf.head()"
   ]
  },
  {
   "cell_type": "code",
   "execution_count": null,
   "metadata": {},
   "outputs": [],
   "source": []
  }
 ],
 "metadata": {
  "interpreter": {
   "hash": "227dbd2fab8825bf983f485131159c82d0301ad97e15b736ca5b3747747c9c56"
  },
  "kernelspec": {
   "display_name": "Python 3 (ipykernel)",
   "language": "python",
   "name": "python3"
  },
  "language_info": {
   "codemirror_mode": {
    "name": "ipython",
    "version": 3
   },
   "file_extension": ".py",
   "mimetype": "text/x-python",
   "name": "python",
   "nbconvert_exporter": "python",
   "pygments_lexer": "ipython3",
   "version": "3.11.11"
  }
 },
 "nbformat": 4,
 "nbformat_minor": 4
}
