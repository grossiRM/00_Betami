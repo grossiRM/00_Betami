{
 "cells": [
  {
   "cell_type": "markdown",
   "metadata": {},
   "source": [
    "# __07__ `     Time Series    `"
   ]
  },
  {
   "cell_type": "code",
   "execution_count": 2,
   "metadata": {},
   "outputs": [],
   "source": [
    "import os \n",
    "import sys\n",
    "sys.path.append('../dependencies/')\n",
    "import flopy\n",
    "import numpy as np\n",
    "import pandas as pd\n",
    "import matplotlib.pyplot as plt"
   ]
  },
  {
   "cell_type": "code",
   "execution_count": 3,
   "metadata": {},
   "outputs": [
    {
     "name": "stdout",
     "output_type": "stream",
     "text": [
      "loading simulation...\n",
      "  loading simulation name file...\n",
      "  loading tdis package...\n",
      "  loading model gwf6...\n",
      "    loading package dis...\n",
      "    loading package wel...\n",
      "    loading package rch...\n",
      "    loading package ic...\n",
      "    loading package oc...\n",
      "    loading package wel...\n",
      "    loading package wel...\n",
      "    loading package npf...\n",
      "    loading package sto...\n",
      "    loading package riv...\n",
      "    loading package obs...\n",
      "  loading solution package symp06...\n",
      "['DIS', 'WEL_2', 'RCH', 'IC', 'OC', 'WEL_0', 'WEL_1', 'NPF', 'STO', 'RIV_OBS', 'RIV_0', 'OBS_1']\n"
     ]
    }
   ],
   "source": [
    "exe_name = os.path.join('..','bin', 'mf6.exe')\n",
    "org_workspace = os.path.join('..','models','symple_ex06')\n",
    "workspace = os.path.join('..','models','symple_ex07')\n",
    "sim = flopy.mf6.MFSimulation.load(sim_name='symple_ex07',  exe_name=exe_name,  sim_ws=org_workspace)\n",
    "sim.set_sim_path(workspace)\n",
    "gwf = sim.get_model(list(sim.model_names)[0])\n",
    "print(gwf.get_package_list())"
   ]
  },
  {
   "cell_type": "code",
   "execution_count": 4,
   "metadata": {},
   "outputs": [],
   "source": [
    "gwf.remove_package(\"WEL_0\")"
   ]
  },
  {
   "cell_type": "code",
   "execution_count": 6,
   "metadata": {},
   "outputs": [],
   "source": [
    "# sim.ims"
   ]
  },
  {
   "cell_type": "code",
   "execution_count": 7,
   "metadata": {},
   "outputs": [],
   "source": [
    "val1, val2  = -100, -5\n",
    "ts_data = [(1, val1, val2), (183.5, val1*0.5, val2*0.5), (366, val1*0.5, val2*0.5) ]\n",
    "ts_names = ['well1', 'well2']\n",
    "ts_methods = ['stepwise', 'stepwise']\n",
    "wel_spd={}\n",
    "wel_spd[0] = []\n",
    "wel_spd[1] = [ ((2, 5, 3), 'well1', 'w1'), ((2, 10, 6), 'well2', 'w2')]   # pumping  +  observations ( pumping rate.) \n",
    "\n",
    "wel = flopy.mf6.ModflowGwfwel(gwf, stress_period_data=wel_spd, print_input=True,  print_flows=True, save_flows=True, boundnames=True)"
   ]
  },
  {
   "cell_type": "code",
   "execution_count": 8,
   "metadata": {},
   "outputs": [],
   "source": [
    "wel.ts.initialize(filename='wel.ts', timeseries=ts_data, \n",
    "                                     time_series_namerecord=ts_names,      interpolation_methodrecord=ts_methods)\n",
    "\n",
    "wel_obs = {'wel_obs.csv': [('wel1', 'WEL', 'w1') , ('wel2', 'WEL', 'w2') ]}\n",
    "wel.obs.initialize(digits=10, print_input=False,continuous=wel_obs)"
   ]
  },
  {
   "cell_type": "code",
   "execution_count": 9,
   "metadata": {},
   "outputs": [
    {
     "name": "stdout",
     "output_type": "stream",
     "text": [
      "writing simulation...\n",
      "  writing simulation name file...\n",
      "  writing simulation tdis package...\n",
      "  writing solution package symp06...\n",
      "  writing model symp06...\n",
      "    writing model name file...\n",
      "    writing package dis...\n",
      "    writing package wel_2...\n",
      "    writing package rch...\n",
      "    writing package ic...\n",
      "    writing package oc...\n",
      "    writing package wel_1...\n",
      "    writing package npf...\n",
      "    writing package sto...\n",
      "    writing package riv_obs...\n",
      "    writing package riv_0...\n",
      "    writing package obs_1...\n",
      "    writing package wel_0...\n",
      "INFORMATION: maxbound in ('gwf6', 'wel', 'dimensions') changed to 2 based on size of stress_period_data\n",
      "    writing package ts_0...\n",
      "    writing package obs_0...\n",
      "FloPy is using the following executable to run the model: ..\\..\\bin\\mf6.exe\n",
      "                                   MODFLOW 6\n",
      "                U.S. GEOLOGICAL SURVEY MODULAR HYDROLOGIC MODEL\n",
      "                            VERSION 6.2.1 02/18/2021\n",
      "\n",
      "   MODFLOW 6 compiled Feb 18 2021 08:24:05 with IFORT compiler (ver. 19.10.2)\n",
      "\n",
      "This software has been approved for release by the U.S. Geological \n",
      "Survey (USGS). Although the software has been subjected to rigorous \n",
      "review, the USGS reserves the right to update the software as needed \n",
      "pursuant to further analysis and review. No warranty, expressed or \n",
      "implied, is made by the USGS or the U.S. Government as to the \n",
      "functionality of the software and related material nor shall the \n",
      "fact of release constitute any such warranty. Furthermore, the \n",
      "software is released on condition that neither the USGS nor the U.S. \n",
      "Government shall be held liable for any damages resulting from its \n",
      "authorized or unauthorized use. Also refer to the USGS Water \n",
      "Resources Software User Rights Notice for complete use, copyright, \n",
      "and distribution information.\n",
      "\n",
      " \n",
      " Run start date and time (yyyy/mm/dd hh:mm:ss): 2025/01/20 15:09:33\n",
      " \n",
      " Writing simulation list file: mfsim.lst\n",
      " Using Simulation name file: mfsim.nam\n",
      " \n",
      "    Solving:  Stress period:     1    Time step:     1\n",
      "    Solving:  Stress period:     2    Time step:     1\n",
      "    Solving:  Stress period:     2    Time step:     2\n",
      "    Solving:  Stress period:     2    Time step:     3\n",
      "    Solving:  Stress period:     2    Time step:     4\n",
      "    Solving:  Stress period:     2    Time step:     5\n",
      "    Solving:  Stress period:     2    Time step:     6\n",
      "    Solving:  Stress period:     2    Time step:     7\n",
      "    Solving:  Stress period:     2    Time step:     8\n",
      "    Solving:  Stress period:     2    Time step:     9\n",
      "    Solving:  Stress period:     2    Time step:    10\n",
      "    Solving:  Stress period:     2    Time step:    11\n",
      "    Solving:  Stress period:     2    Time step:    12\n",
      " \n",
      " Run end date and time (yyyy/mm/dd hh:mm:ss): 2025/01/20 15:09:37\n",
      " Elapsed run time:  4.497 Seconds\n",
      " \n",
      " Normal termination of simulation.\n"
     ]
    },
    {
     "data": {
      "text/plain": [
       "(True, [])"
      ]
     },
     "execution_count": 9,
     "metadata": {},
     "output_type": "execute_result"
    }
   ],
   "source": [
    "sim.write_simulation()\n",
    "sim.run_simulation()"
   ]
  },
  {
   "cell_type": "markdown",
   "metadata": {},
   "source": [
    "__OBS__"
   ]
  },
  {
   "cell_type": "code",
   "execution_count": 10,
   "metadata": {},
   "outputs": [
    {
     "data": {
      "text/plain": [
       "['wel_obs.csv']"
      ]
     },
     "execution_count": 10,
     "metadata": {},
     "output_type": "execute_result"
    }
   ],
   "source": [
    "gwf.obs[2].output.obs_names"
   ]
  },
  {
   "cell_type": "code",
   "execution_count": 11,
   "metadata": {},
   "outputs": [
    {
     "data": {
      "text/plain": [
       "<Axes: xlabel='totim'>"
      ]
     },
     "execution_count": 11,
     "metadata": {},
     "output_type": "execute_result"
    },
    {
     "data": {
      "image/png": "[encoded data removed]",
      "text/plain": [
       "<Figure size 640x480 with 1 Axes>"
      ]
     },
     "metadata": {},
     "output_type": "display_data"
    }
   ],
   "source": [
    "welobs_data = gwf.obs[2].output.obs(f='wel_obs.csv').data\n",
    "welobs_df = pd.DataFrame(welobs_data).replace(3e30, np.nan)\n",
    "welobs_df.plot(x='totim')"
   ]
  },
  {
   "cell_type": "code",
   "execution_count": null,
   "metadata": {},
   "outputs": [],
   "source": []
  }
 ],
 "metadata": {
  "interpreter": {
   "hash": "227dbd2fab8825bf983f485131159c82d0301ad97e15b736ca5b3747747c9c56"
  },
  "kernelspec": {
   "display_name": "Python 3 (ipykernel)",
   "language": "python",
   "name": "python3"
  },
  "language_info": {
   "codemirror_mode": {
    "name": "ipython",
    "version": 3
   },
   "file_extension": ".py",
   "mimetype": "text/x-python",
   "name": "python",
   "nbconvert_exporter": "python",
   "pygments_lexer": "ipython3",
   "version": "3.11.11"
  }
 },
 "nbformat": 4,
 "nbformat_minor": 4
}
