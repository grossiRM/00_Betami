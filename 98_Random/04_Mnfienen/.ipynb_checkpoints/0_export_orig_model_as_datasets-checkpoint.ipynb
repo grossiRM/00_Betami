{
 "cells": [
  {
   "cell_type": "code",
   "execution_count": 1,
   "id": "subsequent-mystery",
   "metadata": {},
   "outputs": [],
   "source": [
    "import flopy as fp\n",
    "import mfexport\n",
    "from shapely.geometry import Point, Polygon\n",
    "import geopandas as gp\n",
    "import numpy as np\n",
    "import os"
   ]
  },
  {
   "cell_type": "code",
   "execution_count": null,
   "id": "annoying-algorithm",
   "metadata": {},
   "outputs": [],
   "source": [
    "yll,xll = 37.27943902599466, -115.93436498271853\n",
    "xy = gp.GeoDataFrame({'pts':['xllyll'],'geometry':[Point(xll,yll)]}, crs=4326)\n",
    "xy = xy.to_crs(2821)\n",
    "xy.to_file('testpt.shp')"
   ]
  },
  {
   "cell_type": "code",
   "execution_count": 6,
   "id": "turkish-kingdom",
   "metadata": {},
   "outputs": [],
   "source": [
    "x,y = xy.geometry[0].xy\n",
    "x=x[0]\n",
    "y=y[0]"
   ]
  },
  {
   "cell_type": "code",
   "execution_count": null,
   "id": "orange-medicine",
   "metadata": {},
   "outputs": [],
   "source": [
    "m = fp.mf6.MFSimulation.load(sim_ws = 'orig_mf6/').get_model()"
   ]
  },
  {
   "cell_type": "code",
   "execution_count": null,
   "id": "breeding-lexington",
   "metadata": {},
   "outputs": [],
   "source": [
    "grid = mfexport.MFexportGrid(delr=m.dis.delr.array, delc=m.dis.delc.array, xul=x, yul=y+np.sum(m.dis.delc.array), epsg=2821)"
   ]
  },
  {
   "cell_type": "code",
   "execution_count": null,
   "id": "electrical-hanging",
   "metadata": {},
   "outputs": [],
   "source": [
    "mfexport.export(m, grid, output_path='/orig_mf6/postproc')"
   ]
  },
  {
   "cell_type": "code",
   "execution_count": 9,
   "id": "fresh-george",
   "metadata": {},
   "outputs": [
    {
     "name": "stdout",
     "output_type": "stream",
     "text": [
      "wrote ../orig_mf6/postproc/shps/orig_grid.shp\n"
     ]
    }
   ],
   "source": [
    "grid.write_shapefile('../orig_mf6/postproc/shps/orig_grid.shp')"
   ]
  },
  {
   "cell_type": "code",
   "execution_count": 10,
   "id": "grateful-receipt",
   "metadata": {},
   "outputs": [
    {
     "name": "stdout",
     "output_type": "stream",
     "text": [
      "40 20 3\n"
     ]
    }
   ],
   "source": [
    "nrow,ncol, nlay = m.dis.nrow.array, m.dis.ncol.array, m.dis.nlay.array\n",
    "print(nrow,ncol, nlay)"
   ]
  },
  {
   "cell_type": "code",
   "execution_count": 11,
   "id": "under-transmission",
   "metadata": {},
   "outputs": [
    {
     "data": {
      "text/plain": [
       "40 row(s), 20 column(s)\n",
       "delr: [250.00...250.00] undefined\n",
       "delc: [250.00...250.00] undefined\n",
       "CRS: EPSG:2821\n",
       "length units: meters\n",
       "xll: 564939.1369142552; yll: 6280887.573219387; rotation: 0.0\n",
       "Bounds: (564939.1369142552, 569939.1369142552, 6280887.573219387, 6290887.573219387)"
      ]
     },
     "execution_count": 11,
     "metadata": {},
     "output_type": "execute_result"
    }
   ],
   "source": [
    "grid"
   ]
  },
  {
   "cell_type": "code",
   "execution_count": null,
   "id": "based-disease",
   "metadata": {},
   "outputs": [],
   "source": [
    "[print(f\"        {i}: 'orig_mf6/postproc/rasters/recharge_per{i}.tif'  # \") for i in range(25)]"
   ]
  },
  {
   "cell_type": "code",
   "execution_count": 13,
   "id": "portuguese-narrative",
   "metadata": {},
   "outputs": [],
   "source": [
    "# locate area of interest for LGR"
   ]
  },
  {
   "cell_type": "code",
   "execution_count": 12,
   "id": "raised-chicago",
   "metadata": {},
   "outputs": [],
   "source": [
    "UL = grid.get_cell_vertices(8,13)"
   ]
  },
  {
   "cell_type": "code",
   "execution_count": 13,
   "id": "likely-operator",
   "metadata": {},
   "outputs": [],
   "source": [
    "xUL = np.min([x[0] for x in UL])\n",
    "yUL = np.min([y[1] for y in UL])\n"
   ]
  },
  {
   "cell_type": "code",
   "execution_count": 14,
   "id": "meaningful-profession",
   "metadata": {},
   "outputs": [],
   "source": [
    "LR = grid.get_cell_vertices(19,17)"
   ]
  },
  {
   "cell_type": "code",
   "execution_count": 15,
   "id": "molecular-poland",
   "metadata": {},
   "outputs": [],
   "source": [
    "xLR = np.min([x[0] for x in LR])\n",
    "yLR = np.min([y[1] for y in LR])"
   ]
  },
  {
   "cell_type": "code",
   "execution_count": 16,
   "id": "juvenile-homeless",
   "metadata": {},
   "outputs": [],
   "source": [
    "AOI_Poly = Polygon([(xUL,yUL),(xLR,yUL),(xLR,yLR),(xUL,yLR),(xUL,yUL)])"
   ]
  },
  {
   "cell_type": "code",
   "execution_count": 18,
   "id": "informational-rhythm",
   "metadata": {},
   "outputs": [],
   "source": [
    "gp.GeoDataFrame({'poly':[\"AOI\"],'geometry':[AOI_Poly]}, crs=2821).to_file(os.path.join('LGR_AOI.shp'))"
   ]
  }
 ],
 "metadata": {
  "kernelspec": {
   "display_name": "Python 3 (ipykernel)",
   "language": "python",
   "name": "python3"
  },
  "language_info": {
   "codemirror_mode": {
    "name": "ipython",
    "version": 3
   },
   "file_extension": ".py",
   "mimetype": "text/x-python",
   "name": "python",
   "nbconvert_exporter": "python",
   "pygments_lexer": "ipython3",
   "version": "3.11.11"
  }
 },
 "nbformat": 4,
 "nbformat_minor": 5
}
