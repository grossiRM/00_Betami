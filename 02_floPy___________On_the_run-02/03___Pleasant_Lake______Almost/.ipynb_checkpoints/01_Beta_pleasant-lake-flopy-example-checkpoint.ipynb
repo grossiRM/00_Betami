{
 "cells": [
  {
   "cell_type": "code",
   "execution_count": 1,
   "id": "5acd45ac",
   "metadata": {},
   "outputs": [],
   "source": [
    "import numpy as np                          # Environment Flopy\n",
    "import matplotlib.pyplot as plt\n",
    "import flopy\n",
    "import flopy.mf6 as mf6\n",
    "from flopy.discretization import StructuredGrid\n",
    "from flopy.utils import Raster\n",
    "import sfrmaker"
   ]
  },
  {
   "cell_type": "code",
   "execution_count": 2,
   "id": "be85402f",
   "metadata": {},
   "outputs": [],
   "source": [
    "model_name = 'pleasant'\n",
    "workspace = '.'\n",
    "nper, nlay, nrow, ncol = 1, 3, 60, 70\n",
    "delr, delc = 40, 40\n",
    "xoffset, yoffset = 554400., 389200.0\n",
    "epsg = 3070\n",
    "modelgrid = StructuredGrid(delr=np.ones(ncol) * delr, \n",
    "                           delc=np.ones(nrow) * delc, \n",
    "                           xoff=xoffset, \n",
    "                           yoff=yoffset, \n",
    "                           angrot=0)"
   ]
  },
  {
   "cell_type": "code",
   "execution_count": 8,
   "id": "0d6e9f19",
   "metadata": {},
   "outputs": [
    {
     "ename": "RasterioIOError",
     "evalue": "../data/br_surface.tif: No such file or directory",
     "output_type": "error",
     "traceback": [
      "\u001b[1;31m---------------------------------------------------------------------------\u001b[0m",
      "\u001b[1;31mCPLE_OpenFailedError\u001b[0m                      Traceback (most recent call last)",
      "File \u001b[1;32mrasterio\\\\_base.pyx:310\u001b[0m, in \u001b[0;36mrasterio._base.DatasetBase.__init__\u001b[1;34m()\u001b[0m\n",
      "File \u001b[1;32mrasterio\\\\_base.pyx:221\u001b[0m, in \u001b[0;36mrasterio._base.open_dataset\u001b[1;34m()\u001b[0m\n",
      "File \u001b[1;32mrasterio\\\\_err.pyx:359\u001b[0m, in \u001b[0;36mrasterio._err.exc_wrap_pointer\u001b[1;34m()\u001b[0m\n",
      "\u001b[1;31mCPLE_OpenFailedError\u001b[0m: ../data/br_surface.tif: No such file or directory",
      "\nDuring handling of the above exception, another exception occurred:\n",
      "\u001b[1;31mRasterioIOError\u001b[0m                           Traceback (most recent call last)",
      "Cell \u001b[1;32mIn[8], line 1\u001b[0m\n\u001b[1;32m----> 1\u001b[0m br_surf \u001b[38;5;241m=\u001b[39m \u001b[43mRaster\u001b[49m\u001b[38;5;241;43m.\u001b[39;49m\u001b[43mload\u001b[49m\u001b[43m(\u001b[49m\u001b[38;5;124;43m'\u001b[39;49m\u001b[38;5;124;43m../data/br_surface.tif\u001b[39;49m\u001b[38;5;124;43m'\u001b[39;49m\u001b[43m)\u001b[49m\n\u001b[0;32m      2\u001b[0m rs \u001b[38;5;241m=\u001b[39m br_surf\u001b[38;5;241m.\u001b[39mresample_to_grid(modelgrid, band\u001b[38;5;241m=\u001b[39m\u001b[38;5;241m1\u001b[39m, method\u001b[38;5;241m=\u001b[39m\u001b[38;5;124m'\u001b[39m\u001b[38;5;124mlinear\u001b[39m\u001b[38;5;124m'\u001b[39m)           \u001b[38;5;66;03m# resample_to_grid #\u001b[39;00m\n\u001b[0;32m      3\u001b[0m np\u001b[38;5;241m.\u001b[39msavetxt(\u001b[38;5;124m'\u001b[39m\u001b[38;5;124m../data/botm_002.dat\u001b[39m\u001b[38;5;124m'\u001b[39m, rs)\n",
      "File \u001b[1;32m~\\anaconda3\\envs\\flopy\\Lib\\site-packages\\flopy\\utils\\rasters.py:893\u001b[0m, in \u001b[0;36mRaster.load\u001b[1;34m(raster)\u001b[0m\n\u001b[0;32m    877\u001b[0m \u001b[38;5;250m\u001b[39m\u001b[38;5;124;03m\"\"\"\u001b[39;00m\n\u001b[0;32m    878\u001b[0m \u001b[38;5;124;03mStatic method to load a raster file\u001b[39;00m\n\u001b[0;32m    879\u001b[0m \u001b[38;5;124;03minto the raster object\u001b[39;00m\n\u001b[1;32m   (...)\u001b[0m\n\u001b[0;32m    889\u001b[0m \n\u001b[0;32m    890\u001b[0m \u001b[38;5;124;03m\"\"\"\u001b[39;00m\n\u001b[0;32m    891\u001b[0m rasterio \u001b[38;5;241m=\u001b[39m import_optional_dependency(\u001b[38;5;124m\"\u001b[39m\u001b[38;5;124mrasterio\u001b[39m\u001b[38;5;124m\"\u001b[39m)\n\u001b[1;32m--> 893\u001b[0m dataset \u001b[38;5;241m=\u001b[39m \u001b[43mrasterio\u001b[49m\u001b[38;5;241;43m.\u001b[39;49m\u001b[43mopen\u001b[49m\u001b[43m(\u001b[49m\u001b[43mraster\u001b[49m\u001b[43m)\u001b[49m\n\u001b[0;32m    894\u001b[0m array \u001b[38;5;241m=\u001b[39m dataset\u001b[38;5;241m.\u001b[39mread()\n\u001b[0;32m    895\u001b[0m bands \u001b[38;5;241m=\u001b[39m dataset\u001b[38;5;241m.\u001b[39mindexes\n",
      "File \u001b[1;32m~\\anaconda3\\envs\\flopy\\Lib\\site-packages\\rasterio\\env.py:463\u001b[0m, in \u001b[0;36mensure_env_with_credentials.<locals>.wrapper\u001b[1;34m(*args, **kwds)\u001b[0m\n\u001b[0;32m    460\u001b[0m     session \u001b[38;5;241m=\u001b[39m DummySession()\n\u001b[0;32m    462\u001b[0m \u001b[38;5;28;01mwith\u001b[39;00m env_ctor(session\u001b[38;5;241m=\u001b[39msession):\n\u001b[1;32m--> 463\u001b[0m     \u001b[38;5;28;01mreturn\u001b[39;00m \u001b[43mf\u001b[49m\u001b[43m(\u001b[49m\u001b[38;5;241;43m*\u001b[39;49m\u001b[43margs\u001b[49m\u001b[43m,\u001b[49m\u001b[43m \u001b[49m\u001b[38;5;241;43m*\u001b[39;49m\u001b[38;5;241;43m*\u001b[39;49m\u001b[43mkwds\u001b[49m\u001b[43m)\u001b[49m\n",
      "File \u001b[1;32m~\\anaconda3\\envs\\flopy\\Lib\\site-packages\\rasterio\\__init__.py:356\u001b[0m, in \u001b[0;36mopen\u001b[1;34m(fp, mode, driver, width, height, count, crs, transform, dtype, nodata, sharing, opener, **kwargs)\u001b[0m\n\u001b[0;32m    353\u001b[0m     path \u001b[38;5;241m=\u001b[39m _parse_path(raw_dataset_path)\n\u001b[0;32m    355\u001b[0m \u001b[38;5;28;01mif\u001b[39;00m mode \u001b[38;5;241m==\u001b[39m \u001b[38;5;124m\"\u001b[39m\u001b[38;5;124mr\u001b[39m\u001b[38;5;124m\"\u001b[39m:\n\u001b[1;32m--> 356\u001b[0m     dataset \u001b[38;5;241m=\u001b[39m \u001b[43mDatasetReader\u001b[49m\u001b[43m(\u001b[49m\u001b[43mpath\u001b[49m\u001b[43m,\u001b[49m\u001b[43m \u001b[49m\u001b[43mdriver\u001b[49m\u001b[38;5;241;43m=\u001b[39;49m\u001b[43mdriver\u001b[49m\u001b[43m,\u001b[49m\u001b[43m \u001b[49m\u001b[43msharing\u001b[49m\u001b[38;5;241;43m=\u001b[39;49m\u001b[43msharing\u001b[49m\u001b[43m,\u001b[49m\u001b[43m \u001b[49m\u001b[38;5;241;43m*\u001b[39;49m\u001b[38;5;241;43m*\u001b[39;49m\u001b[43mkwargs\u001b[49m\u001b[43m)\u001b[49m\n\u001b[0;32m    357\u001b[0m \u001b[38;5;28;01melif\u001b[39;00m mode \u001b[38;5;241m==\u001b[39m \u001b[38;5;124m\"\u001b[39m\u001b[38;5;124mr+\u001b[39m\u001b[38;5;124m\"\u001b[39m:\n\u001b[0;32m    358\u001b[0m     dataset \u001b[38;5;241m=\u001b[39m get_writer_for_path(path, driver\u001b[38;5;241m=\u001b[39mdriver)(\n\u001b[0;32m    359\u001b[0m         path, mode, driver\u001b[38;5;241m=\u001b[39mdriver, sharing\u001b[38;5;241m=\u001b[39msharing, \u001b[38;5;241m*\u001b[39m\u001b[38;5;241m*\u001b[39mkwargs\n\u001b[0;32m    360\u001b[0m     )\n",
      "File \u001b[1;32mrasterio\\\\_base.pyx:312\u001b[0m, in \u001b[0;36mrasterio._base.DatasetBase.__init__\u001b[1;34m()\u001b[0m\n",
      "\u001b[1;31mRasterioIOError\u001b[0m: ../data/br_surface.tif: No such file or directory"
     ]
    }
   ],
   "source": [
    "br_surf = Raster.load('../data/br_surface.tif')\n",
    "rs = br_surf.resample_to_grid(modelgrid, band=1, method='linear')           # resample_to_grid #\n",
    "np.savetxt('../data/botm_002.dat', rs)"
   ]
  },
  {
   "cell_type": "code",
   "execution_count": null,
   "id": "290b4ee4",
   "metadata": {},
   "outputs": [],
   "source": [
    "top = [{'filename': '../data/top.dat'}]\n",
    "botm = [{'filename': '../data/botm_000.dat'},\n",
    "        {'filename': '../data/botm_001.dat'},\n",
    "        {'filename': '../data/botm_002.dat'}]\n",
    "k = [{'filename': '../data/k_000.dat'},          # KH\n",
    "     {'filename': '../data/k_001.dat'},\n",
    "     {'filename': '../data/k_002.dat'}]\n",
    "k33 = [{'filename': '../data/k33_000.dat'},      # KV\n",
    "       {'filename': '../data/k33_001.dat'},\n",
    "       {'filename': '../data/k33_002.dat'}]\n",
    "strt = [top[0]] * nlay                           # Top for starting heads\n",
    "recharge = {\n",
    "    0: {'filename': '../data/rch_000.dat'}}      # RCH    qde\n",
    "irch = [{'filename': '../data/irch.dat'}]        # iRCH   local\n",
    "spec_head_perimeter = {\n",
    "    0: {'filename': '../data/chd_000.dat'}}      # chd"
   ]
  },
  {
   "cell_type": "code",
   "execution_count": 20,
   "id": "8b16df86",
   "metadata": {},
   "outputs": [],
   "source": [
    "sim = mf6.MFSimulation(sim_name=model_name, version=\"mf6\", exe_name=\"mf6\", sim_ws=workspace)     # __.nam  \n",
    "tdis = mf6.ModflowTdis(sim, time_units=\"days\", nper=1, perioddata=[(1.0, 1, 1.0)])               # __.dis  \n",
    "ims = mf6.ModflowIms(sim, complexity=\"moderate\", outer_dvclose=0.001)                            # __.ims  Solver"
   ]
  },
  {
   "cell_type": "code",
   "execution_count": 21,
   "id": "5517e5b7",
   "metadata": {},
   "outputs": [],
   "source": [
    "# sim.write_simulation() # just in case        # !head -n 10 'mfsim.nam'       # !tail -n 10 'pleasant.tdis'"
   ]
  },
  {
   "cell_type": "code",
   "execution_count": 22,
   "id": "0af601f4",
   "metadata": {},
   "outputs": [],
   "source": [
    "gwf = mf6.ModflowGwf(sim, modelname=model_name, save_flows=True)              \n",
    "\n",
    "oc = mf6.ModflowGwfoc(gwf, head_filerecord=f'{gwf.name}.hds',                                    # __.oc  Output  \n",
    "    budget_filerecord=f'{gwf.name}.cbc',\n",
    "    saverecord=[('head', 'all'), (\"budget\", \"all\")])                                             \n",
    "                \n",
    "dis = mf6.ModflowGwfdis(gwf, nlay=nlay, nrow=nrow, ncol=ncol, delr=delr, delc=delc, top=top, botm=botm, idomain=1)   # __.dis "
   ]
  },
  {
   "cell_type": "code",
   "execution_count": 23,
   "id": "469f5cbb",
   "metadata": {},
   "outputs": [],
   "source": [
    "gwf.modelgrid.set_coord_info(xoff=xoffset, yoff=yoffset, crs=epsg)           # gwf.modelgrid"
   ]
  },
  {
   "cell_type": "code",
   "execution_count": 24,
   "id": "b6995e4b",
   "metadata": {},
   "outputs": [],
   "source": [
    "npf = mf6.ModflowGwfnpf(gwf, icelltype=1, k=k, k33=k33)                      # __.npf "
   ]
  },
  {
   "cell_type": "code",
   "execution_count": null,
   "id": "73e9e8b2",
   "metadata": {},
   "outputs": [],
   "source": []
  },
  {
   "cell_type": "code",
   "execution_count": 25,
   "id": "1a6ae50a",
   "metadata": {},
   "outputs": [],
   "source": [
    "ic = mf6.ModflowGwfic(gwf, strt=strt)                                           # .in initial conditions "
   ]
  },
  {
   "cell_type": "code",
   "execution_count": 26,
   "id": "e92de2a9",
   "metadata": {},
   "outputs": [
    {
     "name": "stdout",
     "output_type": "stream",
     "text": [
      "writing simulation...\n",
      "  writing simulation name file...\n",
      "  writing simulation tdis package...\n",
      "  writing solution package ims_-1...\n",
      "  writing model pleasant...\n",
      "    writing model name file...\n",
      "    writing package oc...\n",
      "    writing package dis...\n",
      "    writing package npf...\n",
      "    writing package ic...\n"
     ]
    }
   ],
   "source": [
    "sim.write_simulation()"
   ]
  },
  {
   "cell_type": "code",
   "execution_count": 27,
   "id": "14e94e72",
   "metadata": {},
   "outputs": [],
   "source": [
    "chd = mf6.ModflowGwfchd(gwf, stress_period_data=spec_head_perimeter)\n",
    "rch = mf6.ModflowGwfrcha(gwf, recharge=recharge, irch=irch)"
   ]
  },
  {
   "cell_type": "code",
   "execution_count": 28,
   "id": "1f07d270",
   "metadata": {},
   "outputs": [],
   "source": [
    "lak = mf6.ModflowGwflak(gwf, boundnames=True, nlakes=1, connectiondata={'filename': '../data/lake_cn.dat'},\n",
    "    packagedata=[[0, 290.85, 345, 'lake1']],\n",
    "    perioddata={0: [[0, 'evaporation', 0.000715], [0, 'rainfall', 0.00209]]},\n",
    "    surfdep=0.1)"
   ]
  },
  {
   "cell_type": "markdown",
   "id": "45f1b5b1",
   "metadata": {},
   "source": [
    "##  ` Streamflow Routing Package DEM `   "
   ]
  },
  {
   "cell_type": "code",
   "execution_count": 14,
   "id": "1f053a1a",
   "metadata": {},
   "outputs": [
    {
     "name": "stdout",
     "output_type": "stream",
     "text": [
      "\n",
      "SFRmaker version 0.11.3\n",
      "\n",
      "Creating sfr dataset...\n",
      "Model grid information\n",
      "structured grid\n",
      "nnodes: 4,200\n",
      "nlay: 1\n",
      "nrow: 60\n",
      "ncol: 70\n",
      "model length units: undefined\n",
      "crs: EPSG:3070\n",
      "bounds: 554400.00, 389200.00, 557200.00, 391600.00\n",
      "active area defined by: all cells\n",
      "\n",
      "name = pleasant\n",
      "model_type = gwf6\n",
      "version = mf6\n",
      "model_relative_path = .\n",
      "\n",
      "###################\n",
      "Package oc\n",
      "###################\n",
      "\n",
      "package_name = oc\n",
      "filename = pleasant.oc\n",
      "package_type = oc\n",
      "model_or_simulation_package = model\n",
      "model_name = pleasant\n",
      "\n",
      "\n",
      "###################\n",
      "Package dis\n",
      "###################\n",
      "\n",
      "package_name = dis\n",
      "filename = pleasant.dis\n",
      "package_type = dis\n",
      "model_or_simulation_package = model\n",
      "model_name = pleasant\n",
      "\n",
      "\n",
      "###################\n",
      "Package npf\n",
      "###################\n",
      "\n",
      "package_name = npf\n",
      "filename = pleasant.npf\n",
      "package_type = npf\n",
      "model_or_simulation_package = model\n",
      "model_name = pleasant\n",
      "\n",
      "\n",
      "###################\n",
      "Package ic\n",
      "###################\n",
      "\n",
      "package_name = ic\n",
      "filename = pleasant.ic\n",
      "package_type = ic\n",
      "model_or_simulation_package = model\n",
      "model_name = pleasant\n",
      "\n",
      "\n",
      "###################\n",
      "Package chd_0\n",
      "###################\n",
      "\n",
      "package_name = chd_0\n",
      "filename = pleasant.chd\n",
      "package_type = chd\n",
      "model_or_simulation_package = model\n",
      "model_name = pleasant\n",
      "\n",
      "\n",
      "###################\n",
      "Package rcha_0\n",
      "###################\n",
      "\n",
      "package_name = rcha_0\n",
      "filename = pleasant.rcha\n",
      "package_type = rcha\n",
      "model_or_simulation_package = model\n",
      "model_name = pleasant\n",
      "\n",
      "\n",
      "###################\n",
      "Package lak_0\n",
      "###################\n",
      "\n",
      "package_name = lak_0\n",
      "filename = pleasant.lak\n",
      "package_type = lak\n",
      "model_or_simulation_package = model\n",
      "model_name = pleasant\n",
      "\n",
      "\n",
      "\n",
      "\n",
      "reprojecting hydrography from\n",
      "EPSG:4269\n",
      "to\n",
      "EPSG:3070\n",
      "\n",
      "\n",
      "Culling hydrography to active area...\n",
      "starting lines: 49\n"
     ]
    },
    {
     "ename": "AttributeError",
     "evalue": "'NoneType' object has no attribute 'intersects'",
     "output_type": "error",
     "traceback": [
      "\u001b[1;31m---------------------------------------------------------------------------\u001b[0m",
      "\u001b[1;31mAttributeError\u001b[0m                            Traceback (most recent call last)",
      "Cell \u001b[1;32mIn[14], line 3\u001b[0m\n\u001b[0;32m      1\u001b[0m lines \u001b[38;5;241m=\u001b[39m sfrmaker\u001b[38;5;241m.\u001b[39mLines\u001b[38;5;241m.\u001b[39mfrom_shapefile(shapefile\u001b[38;5;241m=\u001b[39m\u001b[38;5;124m'\u001b[39m\u001b[38;5;124m../data/edited_flowlines.shp\u001b[39m\u001b[38;5;124m'\u001b[39m, id_column\u001b[38;5;241m=\u001b[39m\u001b[38;5;124m'\u001b[39m\u001b[38;5;124mid\u001b[39m\u001b[38;5;124m'\u001b[39m, routing_column\u001b[38;5;241m=\u001b[39m\u001b[38;5;124m'\u001b[39m\u001b[38;5;124mtoid\u001b[39m\u001b[38;5;124m'\u001b[39m,\n\u001b[0;32m      2\u001b[0m     width1_column\u001b[38;5;241m=\u001b[39m\u001b[38;5;124m'\u001b[39m\u001b[38;5;124mwidth1\u001b[39m\u001b[38;5;124m'\u001b[39m, width2_column\u001b[38;5;241m=\u001b[39m\u001b[38;5;124m'\u001b[39m\u001b[38;5;124mwidth2\u001b[39m\u001b[38;5;124m'\u001b[39m, name_column\u001b[38;5;241m=\u001b[39m\u001b[38;5;124m'\u001b[39m\u001b[38;5;124mname\u001b[39m\u001b[38;5;124m'\u001b[39m, attr_length_units\u001b[38;5;241m=\u001b[39m\u001b[38;5;124m'\u001b[39m\u001b[38;5;124mmeters\u001b[39m\u001b[38;5;124m'\u001b[39m)\n\u001b[1;32m----> 3\u001b[0m sfrdata \u001b[38;5;241m=\u001b[39m \u001b[43mlines\u001b[49m\u001b[38;5;241;43m.\u001b[39;49m\u001b[43mto_sfr\u001b[49m\u001b[43m(\u001b[49m\u001b[43mmodel\u001b[49m\u001b[38;5;241;43m=\u001b[39;49m\u001b[43mgwf\u001b[49m\u001b[43m,\u001b[49m\u001b[43m \u001b[49m\u001b[43mmodel_length_units\u001b[49m\u001b[38;5;241;43m=\u001b[39;49m\u001b[38;5;124;43m'\u001b[39;49m\u001b[38;5;124;43mmeters\u001b[39;49m\u001b[38;5;124;43m'\u001b[39;49m\u001b[43m)\u001b[49m\n\u001b[0;32m      4\u001b[0m sfrdata\u001b[38;5;241m.\u001b[39mset_streambed_top_elevations_from_dem(\u001b[38;5;124m'\u001b[39m\u001b[38;5;124m../data/dem40m.tif\u001b[39m\u001b[38;5;124m'\u001b[39m, elevation_units\u001b[38;5;241m=\u001b[39m\u001b[38;5;124m'\u001b[39m\u001b[38;5;124mmeters\u001b[39m\u001b[38;5;124m'\u001b[39m)\n\u001b[0;32m      5\u001b[0m sfrdata\u001b[38;5;241m.\u001b[39massign_layers()\n",
      "File \u001b[1;32m~\\anaconda3\\envs\\flopy\\Lib\\site-packages\\sfrmaker\\lines.py:1029\u001b[0m, in \u001b[0;36mLines.to_sfr\u001b[1;34m(self, grid, active_area, isfr, model, model_length_units, model_time_units, minimum_reach_length, width_from_asum_a_param, width_from_asum_b_param, minimum_reach_width, consolidate_conductance, one_reach_per_cell, add_outlets, package_name, **kwargs)\u001b[0m\n\u001b[0;32m   1027\u001b[0m     \u001b[38;5;28mself\u001b[39m\u001b[38;5;241m.\u001b[39mcull(grid\u001b[38;5;241m.\u001b[39mactive_area, inplace\u001b[38;5;241m=\u001b[39m\u001b[38;5;28;01mTrue\u001b[39;00m, simplify\u001b[38;5;241m=\u001b[39m\u001b[38;5;28;01mTrue\u001b[39;00m, tol\u001b[38;5;241m=\u001b[39m\u001b[38;5;241m2000\u001b[39m)\n\u001b[0;32m   1028\u001b[0m \u001b[38;5;28;01melif\u001b[39;00m grid\u001b[38;5;241m.\u001b[39m_bounds \u001b[38;5;129;01mis\u001b[39;00m \u001b[38;5;129;01mnot\u001b[39;00m \u001b[38;5;28;01mNone\u001b[39;00m:  \u001b[38;5;66;03m# cull to grid bounding box if already computed\u001b[39;00m\n\u001b[1;32m-> 1029\u001b[0m     \u001b[38;5;28;43mself\u001b[39;49m\u001b[38;5;241;43m.\u001b[39;49m\u001b[43mcull\u001b[49m\u001b[43m(\u001b[49m\u001b[43mbox\u001b[49m\u001b[43m(\u001b[49m\u001b[38;5;241;43m*\u001b[39;49m\u001b[43mgrid\u001b[49m\u001b[38;5;241;43m.\u001b[39;49m\u001b[43m_bounds\u001b[49m\u001b[43m)\u001b[49m\u001b[43m,\u001b[49m\u001b[43m \u001b[49m\u001b[43minplace\u001b[49m\u001b[38;5;241;43m=\u001b[39;49m\u001b[38;5;28;43;01mTrue\u001b[39;49;00m\u001b[43m)\u001b[49m\n\u001b[0;32m   1030\u001b[0m \u001b[38;5;28;01mif\u001b[39;00m package_name \u001b[38;5;129;01mis\u001b[39;00m \u001b[38;5;28;01mNone\u001b[39;00m:\n\u001b[0;32m   1031\u001b[0m     \u001b[38;5;28;01mif\u001b[39;00m model \u001b[38;5;129;01mis\u001b[39;00m \u001b[38;5;129;01mnot\u001b[39;00m \u001b[38;5;28;01mNone\u001b[39;00m:\n",
      "File \u001b[1;32m~\\anaconda3\\envs\\flopy\\Lib\\site-packages\\sfrmaker\\lines.py:294\u001b[0m, in \u001b[0;36mLines.cull\u001b[1;34m(self, feature, simplify, tol, feature_crs, inplace)\u001b[0m\n\u001b[0;32m    289\u001b[0m \u001b[38;5;28mprint\u001b[39m(\u001b[38;5;124m'\u001b[39m\u001b[38;5;124mstarting lines: \u001b[39m\u001b[38;5;132;01m{:,d}\u001b[39;00m\u001b[38;5;124m'\u001b[39m\u001b[38;5;241m.\u001b[39mformat(\u001b[38;5;28mlen\u001b[39m(lines)))\n\u001b[0;32m    290\u001b[0m \u001b[38;5;66;03m# isn = np.array([g.intersection(feature_s) for g in lines])\u001b[39;00m\n\u001b[0;32m    291\u001b[0m \u001b[38;5;66;03m# df['geometry'] = isn\u001b[39;00m\n\u001b[0;32m    292\u001b[0m \u001b[38;5;66;03m# drop = np.array([g.is_empty for g in isn])\u001b[39;00m\n\u001b[0;32m    293\u001b[0m \u001b[38;5;66;03m# df = df.loc[~drop]\u001b[39;00m\n\u001b[1;32m--> 294\u001b[0m intersects \u001b[38;5;241m=\u001b[39m [\u001b[43mg\u001b[49m\u001b[38;5;241;43m.\u001b[39;49m\u001b[43mintersects\u001b[49m(feature_s) \u001b[38;5;28;01mfor\u001b[39;00m g \u001b[38;5;129;01min\u001b[39;00m lines]\n\u001b[0;32m    295\u001b[0m \u001b[38;5;28;01mif\u001b[39;00m \u001b[38;5;129;01mnot\u001b[39;00m np\u001b[38;5;241m.\u001b[39many(intersects):\n\u001b[0;32m    296\u001b[0m     \u001b[38;5;28;01mraise\u001b[39;00m \u001b[38;5;167;01mValueError\u001b[39;00m(\u001b[38;5;124m'\u001b[39m\u001b[38;5;124mNo lines in active area. Check CRS for lines, grid and active area polygon.\u001b[39m\u001b[38;5;124m'\u001b[39m)\n",
      "\u001b[1;31mAttributeError\u001b[0m: 'NoneType' object has no attribute 'intersects'"
     ]
    }
   ],
   "source": [
    "lines = sfrmaker.Lines.from_shapefile(shapefile='../data/edited_flowlines.shp', id_column='id', routing_column='toid',\n",
    "    width1_column='width1', width2_column='width2', name_column='name', attr_length_units='meters')\n",
    "sfrdata = lines.to_sfr(model=gwf, model_length_units='meters')\n",
    "sfrdata.set_streambed_top_elevations_from_dem('../data/dem40m.tif', elevation_units='meters')\n",
    "sfrdata.assign_layers()\n",
    "sfr = sfrdata.create_mf6sfr(gwf)"
   ]
  },
  {
   "cell_type": "code",
   "execution_count": 15,
   "id": "03fb00f8",
   "metadata": {},
   "outputs": [
    {
     "name": "stdout",
     "output_type": "stream",
     "text": [
      "writing simulation...\n",
      "  writing simulation name file...\n",
      "  writing simulation tdis package...\n",
      "  writing solution package ims_-1...\n",
      "  writing model pleasant...\n",
      "    writing model name file...\n",
      "    writing package oc...\n",
      "    writing package dis...\n",
      "    writing package npf...\n",
      "    writing package ic...\n",
      "    writing package chd_0...\n",
      "INFORMATION: maxbound in ('gwf6', 'chd', 'dimensions') changed to 572 based on size of stress_period_data\n",
      "    writing package rcha_0...\n",
      "    writing package lak_0...\n",
      "FloPy is using the following executable to run the model: mf6.exe\n",
      "                                   MODFLOW 6\n",
      "                U.S. GEOLOGICAL SURVEY MODULAR HYDROLOGIC MODEL\n",
      "                            VERSION 6.5.0 05/23/2024\n",
      "\n",
      "   MODFLOW 6 compiled May 23 2024 18:06:57 with Intel(R) Fortran Intel(R) 64\n",
      "   Compiler Classic for applications running on Intel(R) 64, Version 2021.7.0\n",
      "                             Build 20220726_000000\n",
      "\n",
      "This software has been approved for release by the U.S. Geological \n",
      "Survey (USGS). Although the software has been subjected to rigorous \n",
      "review, the USGS reserves the right to update the software as needed \n",
      "pursuant to further analysis and review. No warranty, expressed or \n",
      "implied, is made by the USGS or the U.S. Government as to the \n",
      "functionality of the software and related material nor shall the \n",
      "fact of release constitute any such warranty. Furthermore, the \n",
      "software is released on condition that neither the USGS nor the U.S. \n",
      "Government shall be held liable for any damages resulting from its \n",
      "authorized or unauthorized use. Also refer to the USGS Water \n",
      "Resources Software User Rights Notice for complete use, copyright, \n",
      "and distribution information.\n",
      "\n",
      " \n",
      " MODFLOW runs in SEQUENTIAL mode\n",
      " \n",
      " Run start date and time (yyyy/mm/dd hh:mm:ss): 2024/12/28 10:06:26\n",
      " \n",
      " Writing simulation list file: mfsim.lst\n",
      " Using Simulation name file: mfsim.nam\n",
      " \n",
      "    Solving:  Stress period:     1    Time step:     1\n",
      " \n",
      " Run end date and time (yyyy/mm/dd hh:mm:ss): 2024/12/28 10:06:26\n",
      " Elapsed run time:  0.312 Seconds\n",
      " \n",
      " Normal termination of simulation.\n"
     ]
    },
    {
     "data": {
      "text/plain": [
       "(True, [])"
      ]
     },
     "execution_count": 15,
     "metadata": {},
     "output_type": "execute_result"
    }
   ],
   "source": [
    "sim.write_simulation()\n",
    "sim.run_simulation() "
   ]
  },
  {
   "cell_type": "markdown",
   "id": "079cd5a6",
   "metadata": {},
   "source": [
    "# Postprocessing "
   ]
  },
  {
   "cell_type": "code",
   "execution_count": null,
   "id": "55ca4fcf",
   "metadata": {},
   "outputs": [],
   "source": [
    "from flopy.utils.postprocessing import get_water_table\n",
    "\n",
    "hds = gwf.output.head().get_data()\n",
    "wt = get_water_table(hds, nodata=-1e30)"
   ]
  },
  {
   "cell_type": "markdown",
   "id": "fc75505e",
   "metadata": {},
   "source": [
    "Then, we read the Lake and SFR budget results into 3D Numpy arrays of the same shape as the model, for easy plotting. Cells that don't have these boundary conditions are masked."
   ]
  },
  {
   "cell_type": "code",
   "execution_count": null,
   "id": "12d6d77d",
   "metadata": {},
   "outputs": [],
   "source": [
    "cbc = gwf.output.budget()\n",
    "lak = cbc.get_data(text='lak', full3D=True)[0]\n",
    "sfr = cbc.get_data(text='sfr', full3D=True)[0]"
   ]
  },
  {
   "cell_type": "markdown",
   "id": "f96ae6bd",
   "metadata": {},
   "source": [
    "Now make the figure using the ``PlotMapView`` object. The budget results show simulated groundwater/surface water interactions at each model cell, in units of cubic meters per day, with negative values indicating groundwater discharge to surface water."
   ]
  },
  {
   "cell_type": "code",
   "execution_count": null,
   "id": "efd1ad1b",
   "metadata": {},
   "outputs": [],
   "source": [
    "fig, ax = plt.subplots(figsize=(6, 6))\n",
    "pmv = flopy.plot.PlotMapView(gwf, ax=ax)\n",
    "ctr = pmv.contour_array(\n",
    "    wt, levels=np.arange(290, 315, 1), \n",
    "    linewidths=1, colors='b')\n",
    "labels = pmv.ax.clabel(\n",
    "    ctr, inline=True, \n",
    "    fontsize=8, inline_spacing=1)\n",
    "vmin, vmax = -100, 100\n",
    "im = pmv.plot_array(\n",
    "    lak[0], cmap='coolwarm', \n",
    "    vmin=vmin, vmax=vmax)\n",
    "im = pmv.plot_array(\n",
    "    sfr.sum(axis=0), cmap='coolwarm', \n",
    "    vmin=vmin, vmax=vmax)\n",
    "cb = fig.colorbar(\n",
    "    im, shrink=0.5, label='Leakage, in m$^3$/day')\n",
    "ax.set_ylabel(\"Northing, WTM meters\")\n",
    "ax.set_xlabel(\"Easting, WTM meters\")\n",
    "ax.set_aspect(1)\n",
    "plt.tight_layout()\n",
    "plt.savefig('results.pdf')"
   ]
  },
  {
   "cell_type": "markdown",
   "id": "4587085b",
   "metadata": {},
   "source": [
    "### References\n",
    "\n",
    "Fienen, M.N., Haserodt, M.J., Leaf, A.T., Westenbroek, S.M., 2022, Simulation of Regional Groundwater Flow and Groundwater/Lake Interactions in the Central Sands, Wisconsin: U.S. Geological Survey Scientific Investigations Report 2022-5046, http://doi.org/10.3133/sir20225046\n",
    "\n",
    "Fienen, M.N., Haserodt, M.J., and Leaf, A.T, 2021, MODFLOW models used to simulate groundwater flow in the Wisconsin Central Sands Study Area, 2012-2018, U.S. Geological Survey Data Release, https://doi.org/10.5066/P9BVFSGJ\n",
    "\n",
    "Leaf, A.T., Fienen, M.N. and Reeves, H.W. (2021), SFRmaker and Linesink-Maker: Rapid Construction of Streamflow Routing Networks from Hydrography Data. Groundwater, 59: 761-771. https://doi.org/10.1111/gwat.13095"
   ]
  },
  {
   "cell_type": "code",
   "execution_count": null,
   "id": "2454ac4c",
   "metadata": {},
   "outputs": [],
   "source": []
  }
 ],
 "metadata": {
  "kernelspec": {
   "display_name": "Python 3 (ipykernel)",
   "language": "python",
   "name": "python3"
  },
  "language_info": {
   "codemirror_mode": {
    "name": "ipython",
    "version": 3
   },
   "file_extension": ".py",
   "mimetype": "text/x-python",
   "name": "python",
   "nbconvert_exporter": "python",
   "pygments_lexer": "ipython3",
   "version": "3.13.1"
  }
 },
 "nbformat": 4,
 "nbformat_minor": 5
}
