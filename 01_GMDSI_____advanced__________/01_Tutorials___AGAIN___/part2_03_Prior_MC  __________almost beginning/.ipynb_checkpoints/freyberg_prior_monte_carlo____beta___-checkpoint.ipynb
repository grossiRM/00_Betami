{
 "cells": [
  {
   "cell_type": "code",
   "execution_count": 5,
   "metadata": {},
   "outputs": [],
   "source": [
    "import os\n",
    "import shutil\n",
    "import warnings\n",
    "warnings.filterwarnings(\"ignore\")\n",
    "warnings.filterwarnings(\"ignore\", category=DeprecationWarning) \n",
    "import pandas as pd\n",
    "import matplotlib.pyplot as plt;\n",
    "import psutil \n",
    "import sys\n",
    "import pyemu\n",
    "import flopy\n",
    "sys.path.insert(0,\"..\")\n",
    "import herebedragons as hbd"
   ]
  },
  {
   "cell_type": "code",
   "execution_count": 6,
   "metadata": {},
   "outputs": [
    {
     "data": {
      "text/plain": [
       "'a1_Pstfrom_Katie_new_folder_II'"
      ]
     },
     "execution_count": 6,
     "metadata": {},
     "output_type": "execute_result"
    }
   ],
   "source": [
    "t_d = os.path.join('a1_Pstfrom_Katie_new_folder_II')                                           # new path \n",
    "# if os.path.exists(t_d):\n",
    "#     shutil.rmtree(t_d)                                               # this is removing ______ prior_pe.jcb \n",
    "\n",
    "org_t_d = os.path.join(\"..\",\"part2_02_OW__Reimagined__again\",\"a1_Pstfrom_Katie_new_folder\")    # old / new path \n",
    "if not os.path.exists(org_t_d):\n",
    "    raise Exception(\"try again\")\n",
    "shutil.copytree(org_t_d,t_d)                                            # org | t_d"
   ]
  },
  {
   "cell_type": "code",
   "execution_count": 11,
   "metadata": {},
   "outputs": [
    {
     "data": {
      "text/html": [
       "<div>\n",
       "<style scoped>\n",
       "    .dataframe tbody tr th:only-of-type {\n",
       "        vertical-align: middle;\n",
       "    }\n",
       "\n",
       "    .dataframe tbody tr th {\n",
       "        vertical-align: top;\n",
       "    }\n",
       "\n",
       "    .dataframe thead th {\n",
       "        text-align: right;\n",
       "    }\n",
       "</style>\n",
       "<table border=\"1\" class=\"dataframe\">\n",
       "  <thead>\n",
       "    <tr style=\"text-align: right;\">\n",
       "      <th></th>\n",
       "      <th>obsnme</th>\n",
       "      <th>obsval</th>\n",
       "      <th>weight</th>\n",
       "      <th>obgnme</th>\n",
       "      <th>i</th>\n",
       "      <th>j</th>\n",
       "      <th>oname</th>\n",
       "      <th>otype</th>\n",
       "      <th>time</th>\n",
       "      <th>totim</th>\n",
       "      <th>usecol</th>\n",
       "      <th>observed</th>\n",
       "      <th>standard_deviation</th>\n",
       "    </tr>\n",
       "    <tr>\n",
       "      <th>obsnme</th>\n",
       "      <th></th>\n",
       "      <th></th>\n",
       "      <th></th>\n",
       "      <th></th>\n",
       "      <th></th>\n",
       "      <th></th>\n",
       "      <th></th>\n",
       "      <th></th>\n",
       "      <th></th>\n",
       "      <th></th>\n",
       "      <th></th>\n",
       "      <th></th>\n",
       "      <th></th>\n",
       "    </tr>\n",
       "  </thead>\n",
       "  <tbody>\n",
       "    <tr>\n",
       "      <th>oname:hds_otype:lst_usecol:trgw-0-13-10_time:3652.5</th>\n",
       "      <td>oname:hds_otype:lst_usecol:trgw-0-13-10_time:3652.5</td>\n",
       "      <td>35.870909</td>\n",
       "      <td>0.0</td>\n",
       "      <td>oname:hds_otype:lst_usecol:trgw-0-13-10</td>\n",
       "      <td>NaN</td>\n",
       "      <td>NaN</td>\n",
       "      <td>hds</td>\n",
       "      <td>lst</td>\n",
       "      <td>3652.5</td>\n",
       "      <td>NaN</td>\n",
       "      <td>trgw-0-13-10</td>\n",
       "      <td>NaN</td>\n",
       "      <td>NaN</td>\n",
       "    </tr>\n",
       "    <tr>\n",
       "      <th>oname:hds_otype:lst_usecol:trgw-0-13-10_time:3683.5</th>\n",
       "      <td>oname:hds_otype:lst_usecol:trgw-0-13-10_time:3683.5</td>\n",
       "      <td>35.791150</td>\n",
       "      <td>0.0</td>\n",
       "      <td>oname:hds_otype:lst_usecol:trgw-0-13-10</td>\n",
       "      <td>NaN</td>\n",
       "      <td>NaN</td>\n",
       "      <td>hds</td>\n",
       "      <td>lst</td>\n",
       "      <td>3683.5</td>\n",
       "      <td>NaN</td>\n",
       "      <td>trgw-0-13-10</td>\n",
       "      <td>NaN</td>\n",
       "      <td>NaN</td>\n",
       "    </tr>\n",
       "    <tr>\n",
       "      <th>oname:hds_otype:lst_usecol:trgw-0-13-10_time:3712.5</th>\n",
       "      <td>oname:hds_otype:lst_usecol:trgw-0-13-10_time:3712.5</td>\n",
       "      <td>35.784015</td>\n",
       "      <td>0.0</td>\n",
       "      <td>oname:hds_otype:lst_usecol:trgw-0-13-10</td>\n",
       "      <td>NaN</td>\n",
       "      <td>NaN</td>\n",
       "      <td>hds</td>\n",
       "      <td>lst</td>\n",
       "      <td>3712.5</td>\n",
       "      <td>NaN</td>\n",
       "      <td>trgw-0-13-10</td>\n",
       "      <td>NaN</td>\n",
       "      <td>NaN</td>\n",
       "    </tr>\n",
       "    <tr>\n",
       "      <th>oname:hds_otype:lst_usecol:trgw-0-13-10_time:3743.5</th>\n",
       "      <td>oname:hds_otype:lst_usecol:trgw-0-13-10_time:3743.5</td>\n",
       "      <td>35.818347</td>\n",
       "      <td>0.0</td>\n",
       "      <td>oname:hds_otype:lst_usecol:trgw-0-13-10</td>\n",
       "      <td>NaN</td>\n",
       "      <td>NaN</td>\n",
       "      <td>hds</td>\n",
       "      <td>lst</td>\n",
       "      <td>3743.5</td>\n",
       "      <td>NaN</td>\n",
       "      <td>trgw-0-13-10</td>\n",
       "      <td>NaN</td>\n",
       "      <td>NaN</td>\n",
       "    </tr>\n",
       "    <tr>\n",
       "      <th>oname:hds_otype:lst_usecol:trgw-0-13-10_time:3773.5</th>\n",
       "      <td>oname:hds_otype:lst_usecol:trgw-0-13-10_time:3773.5</td>\n",
       "      <td>35.884582</td>\n",
       "      <td>0.0</td>\n",
       "      <td>oname:hds_otype:lst_usecol:trgw-0-13-10</td>\n",
       "      <td>NaN</td>\n",
       "      <td>NaN</td>\n",
       "      <td>hds</td>\n",
       "      <td>lst</td>\n",
       "      <td>3773.5</td>\n",
       "      <td>NaN</td>\n",
       "      <td>trgw-0-13-10</td>\n",
       "      <td>NaN</td>\n",
       "      <td>NaN</td>\n",
       "    </tr>\n",
       "  </tbody>\n",
       "</table>\n",
       "</div>"
      ],
      "text/plain": [
       "                                                                                                  obsnme  \\\n",
       "obsnme                                                                                                     \n",
       "oname:hds_otype:lst_usecol:trgw-0-13-10_time:3652.5  oname:hds_otype:lst_usecol:trgw-0-13-10_time:3652.5   \n",
       "oname:hds_otype:lst_usecol:trgw-0-13-10_time:3683.5  oname:hds_otype:lst_usecol:trgw-0-13-10_time:3683.5   \n",
       "oname:hds_otype:lst_usecol:trgw-0-13-10_time:3712.5  oname:hds_otype:lst_usecol:trgw-0-13-10_time:3712.5   \n",
       "oname:hds_otype:lst_usecol:trgw-0-13-10_time:3743.5  oname:hds_otype:lst_usecol:trgw-0-13-10_time:3743.5   \n",
       "oname:hds_otype:lst_usecol:trgw-0-13-10_time:3773.5  oname:hds_otype:lst_usecol:trgw-0-13-10_time:3773.5   \n",
       "\n",
       "                                                        obsval  weight  \\\n",
       "obsnme                                                                   \n",
       "oname:hds_otype:lst_usecol:trgw-0-13-10_time:3652.5  35.870909     0.0   \n",
       "oname:hds_otype:lst_usecol:trgw-0-13-10_time:3683.5  35.791150     0.0   \n",
       "oname:hds_otype:lst_usecol:trgw-0-13-10_time:3712.5  35.784015     0.0   \n",
       "oname:hds_otype:lst_usecol:trgw-0-13-10_time:3743.5  35.818347     0.0   \n",
       "oname:hds_otype:lst_usecol:trgw-0-13-10_time:3773.5  35.884582     0.0   \n",
       "\n",
       "                                                                                      obgnme  \\\n",
       "obsnme                                                                                         \n",
       "oname:hds_otype:lst_usecol:trgw-0-13-10_time:3652.5  oname:hds_otype:lst_usecol:trgw-0-13-10   \n",
       "oname:hds_otype:lst_usecol:trgw-0-13-10_time:3683.5  oname:hds_otype:lst_usecol:trgw-0-13-10   \n",
       "oname:hds_otype:lst_usecol:trgw-0-13-10_time:3712.5  oname:hds_otype:lst_usecol:trgw-0-13-10   \n",
       "oname:hds_otype:lst_usecol:trgw-0-13-10_time:3743.5  oname:hds_otype:lst_usecol:trgw-0-13-10   \n",
       "oname:hds_otype:lst_usecol:trgw-0-13-10_time:3773.5  oname:hds_otype:lst_usecol:trgw-0-13-10   \n",
       "\n",
       "                                                       i    j oname otype  \\\n",
       "obsnme                                                                      \n",
       "oname:hds_otype:lst_usecol:trgw-0-13-10_time:3652.5  NaN  NaN   hds   lst   \n",
       "oname:hds_otype:lst_usecol:trgw-0-13-10_time:3683.5  NaN  NaN   hds   lst   \n",
       "oname:hds_otype:lst_usecol:trgw-0-13-10_time:3712.5  NaN  NaN   hds   lst   \n",
       "oname:hds_otype:lst_usecol:trgw-0-13-10_time:3743.5  NaN  NaN   hds   lst   \n",
       "oname:hds_otype:lst_usecol:trgw-0-13-10_time:3773.5  NaN  NaN   hds   lst   \n",
       "\n",
       "                                                       time totim  \\\n",
       "obsnme                                                              \n",
       "oname:hds_otype:lst_usecol:trgw-0-13-10_time:3652.5  3652.5   NaN   \n",
       "oname:hds_otype:lst_usecol:trgw-0-13-10_time:3683.5  3683.5   NaN   \n",
       "oname:hds_otype:lst_usecol:trgw-0-13-10_time:3712.5  3712.5   NaN   \n",
       "oname:hds_otype:lst_usecol:trgw-0-13-10_time:3743.5  3743.5   NaN   \n",
       "oname:hds_otype:lst_usecol:trgw-0-13-10_time:3773.5  3773.5   NaN   \n",
       "\n",
       "                                                           usecol  observed  \\\n",
       "obsnme                                                                        \n",
       "oname:hds_otype:lst_usecol:trgw-0-13-10_time:3652.5  trgw-0-13-10       NaN   \n",
       "oname:hds_otype:lst_usecol:trgw-0-13-10_time:3683.5  trgw-0-13-10       NaN   \n",
       "oname:hds_otype:lst_usecol:trgw-0-13-10_time:3712.5  trgw-0-13-10       NaN   \n",
       "oname:hds_otype:lst_usecol:trgw-0-13-10_time:3743.5  trgw-0-13-10       NaN   \n",
       "oname:hds_otype:lst_usecol:trgw-0-13-10_time:3773.5  trgw-0-13-10       NaN   \n",
       "\n",
       "                                                     standard_deviation  \n",
       "obsnme                                                                   \n",
       "oname:hds_otype:lst_usecol:trgw-0-13-10_time:3652.5                 NaN  \n",
       "oname:hds_otype:lst_usecol:trgw-0-13-10_time:3683.5                 NaN  \n",
       "oname:hds_otype:lst_usecol:trgw-0-13-10_time:3712.5                 NaN  \n",
       "oname:hds_otype:lst_usecol:trgw-0-13-10_time:3743.5                 NaN  \n",
       "oname:hds_otype:lst_usecol:trgw-0-13-10_time:3773.5                 NaN  "
      ]
     },
     "execution_count": 11,
     "metadata": {},
     "output_type": "execute_result"
    }
   ],
   "source": [
    "pst_path = os.path.join(t_d, 'freyberg_mf6.pst')                                               # archive within        \n",
    "pst = pyemu.Pst(os.path.join(t_d, 'freyberg_mf6.pst'))\n",
    "if not pst.observation_data.observed.sum()>0:\n",
    "    raise Exception(\"try again\")\n",
    "pst.observation_data.head()"
   ]
  },
  {
   "cell_type": "markdown",
   "metadata": {},
   "source": [
    "# Previous Ensemble <font color='red'> possible issue </font>  shutil.rmtree(t_d)"
   ]
  },
  {
   "cell_type": "code",
   "execution_count": 20,
   "metadata": {},
   "outputs": [
    {
     "data": {
      "text/plain": [
       "(200, 48)"
      ]
     },
     "execution_count": 20,
     "metadata": {},
     "output_type": "execute_result"
    }
   ],
   "source": [
    "[f for f in os.listdir(t_d) if f.endswith(\".jcb\")]\n",
    "pe = pyemu.ParameterEnsemble.from_binary(pst=pst,filename=os.path.join(t_d,\"prior_pe.jcb\"))\n",
    "pe.shape"
   ]
  },
  {
   "cell_type": "markdown",
   "metadata": {},
   "source": [
    "pe.to_csv(os.path.join(t_d, 'prior_pe.csv'))          # record an ensemble to external files \n",
    "pe.to_binary(os.path.join(t_d,'prior_pe.jcb'))\n",
    "\n",
    "pe = pyemu.ParameterEnsemble.from_csv(pst, filename=os.path.join(t_d, 'prior_pe.csv'))             # read then \n",
    "pe_b = pyemu.ParameterEnsemble.from_binary(pst, filename=os.path.join(t_d, 'prior_pe.jcb'))\n",
    "\n",
    "emp_cov = pe.covariance_matrix()                      # form an empirical covariance matrix from an ensemble!\n",
    "x = emp_cov.x.copy()\n",
    "x[x<1.0e-2] = np.nan\n",
    "c = plt.imshow(x)\n",
    "plt.colorbar(c)                                       # ____ Beta trying to plot this covariance matrix ___ intro to pyEMU"
   ]
  },
  {
   "cell_type": "markdown",
   "metadata": {},
   "source": [
    "##  prior Monte Carlo ___ `noptmax` to be `-1`  \n",
    "> **Pro Tip**: `ies_num_reals` and sweep utility `pestpp-swp`"
   ]
  },
  {
   "cell_type": "code",
   "execution_count": 21,
   "metadata": {},
   "outputs": [],
   "source": [
    "pst.pestpp_options['ies_parameter_ensemble'] = 'prior_pe.jcb'"
   ]
  },
  {
   "cell_type": "code",
   "execution_count": 22,
   "metadata": {},
   "outputs": [
    {
     "name": "stdout",
     "output_type": "stream",
     "text": [
      "noptmax:0, npar_adj:1731, nnz_obs:72\n"
     ]
    }
   ],
   "source": [
    "pst.control_data.noptmax = 0 \n",
    "pst.write(os.path.join(t_d, 'freyberg_mf6.pst'),version=2)"
   ]
  },
  {
   "cell_type": "code",
   "execution_count": 23,
   "metadata": {},
   "outputs": [
    {
     "name": "stdout",
     "output_type": "stream",
     "text": [
      "pestpp-ies.exe freyberg_mf6.pst\n"
     ]
    }
   ],
   "source": [
    "pyemu.os_utils.run(\"pestpp-ies freyberg_mf6.pst\",cwd=t_d)"
   ]
  },
  {
   "cell_type": "code",
   "execution_count": 24,
   "metadata": {},
   "outputs": [
    {
     "name": "stdout",
     "output_type": "stream",
     "text": [
      "noptmax:-1, npar_adj:1731, nnz_obs:72\n"
     ]
    }
   ],
   "source": [
    "pst.control_data.noptmax = -1\n",
    "pst.write(os.path.join(t_d, 'freyberg_mf6.pst'),version=2)"
   ]
  },
  {
   "cell_type": "markdown",
   "metadata": {},
   "source": [
    "To speed up the process, you will want to distribute the workload across as many parallel agents as possible. Normally, you will want to use the same number of agents (or less) as you have available CPU cores. Most personal computers (i.e. desktops or laptops) these days have between 4 and 10 cores. Servers or HPCs may have many more cores than this. Another limitation to keep in mind is the read/write speed of your machines disk (e.g. your hard drive). PEST and the model software are going to be reading and writting lots of files. This often slows things down if agents are competing for the same resources to read/write to disk.\n",
    "\n",
    "The first thing we will do is specify the number of agents we are going to use.\n",
    "\n",
    "# Attention!\n",
    "\n",
    "You must specify the number which is adequate for ***your*** machine! Make sure to assign an appropriate value for the following `num_workers` variable:"
   ]
  },
  {
   "cell_type": "code",
   "execution_count": null,
   "metadata": {},
   "outputs": [],
   "source": [
    "num_workers = psutil.cpu_count(logical=False) #update this according to your resources"
   ]
  },
  {
   "cell_type": "markdown",
   "metadata": {},
   "source": [
    "Next, we shall specify the PEST run-manager/master directory folder as `m_d`. This is where outcomes of the PEST run will be recorded. It should be different from the `t_d` folder, which contains the \"template\" of the PEST dataset. This keeps everything separate and avoids silly mistakes."
   ]
  },
  {
   "cell_type": "code",
   "execution_count": null,
   "metadata": {},
   "outputs": [],
   "source": [
    "m_d = os.path.join('master_priormc')"
   ]
  },
  {
   "cell_type": "markdown",
   "metadata": {},
   "source": [
    "The following cell deploys the PEST agents and manager and then starts the run using `pestpp-ies` (using `pestpp-ies freyberg_mf6.pst /h localhost:4004` on the agents, and `pestpp-ies freyberg_mf6.pst /h :4004` on the manager).\n",
    "\n",
    "Run it by pressing `shift+enter`.\n",
    "\n",
    "If you wish to see the outputs in real-time, switch over to the terminal window (the one which you used to launch the `jupyter notebook`). There you should see `pestpp-ies`'s progress written to the terminal window in real-time. \n",
    "\n",
    "If you open the tutorial folder, you should also see a bunch of new folders there named `worker_0`, `worker_1`, etc. These are the agent folders. The `master_priormc` folder is where the manager is running. \n",
    "\n",
    "This run should take several minutes to complete (depending on the number of workers and the speed of your machine). If you get an error, make sure that your firewall or antivirus software is not blocking `pestpp-ies` from communicating with the agents (this is a common problem!).\n",
    "\n",
    "> **Pro Tip**: Running PEST from within a `jupyter notebook` has a tendency to slow things down and hog alot of RAM. When modelling in the \"real world\" it is more efficient to implement workflows in scripts which you can call from the command line."
   ]
  },
  {
   "cell_type": "code",
   "execution_count": null,
   "metadata": {},
   "outputs": [],
   "source": [
    "pyemu.os_utils.start_workers(t_d, # the folder which contains the \"template\" PEST dataset\n",
    "                            'pestpp-ies', #the PEST software version we want to run\n",
    "                            'freyberg_mf6.pst', # the control file to use with PEST\n",
    "                            num_workers=num_workers, #how many agents to deploy\n",
    "                            worker_root='.', #where to deploy the agent directories; relative to where python is running\n",
    "                            master_dir=m_d, #the manager directory\n",
    "                            )"
   ]
  },
  {
   "cell_type": "markdown",
   "metadata": {},
   "source": [
    "### Explore the Outcomes\n",
    "\n",
    "`pestpp-swp` writes the results of the the prior Monte Carlo to a csv file called `freyberg_mf6.0.obs.csv`. Note the naming convention - this is the base `pst` file name (`freyberg_mf6`) followed by the iteration number (`0` indicating this is at the beginning of the process - e.g. _prior_ Monte Carlo) and `.obs.csv` indicating this file contains observation values. This file has columns for each observation listed in the control file, plus an index column with the realization name. \n"
   ]
  },
  {
   "cell_type": "code",
   "execution_count": null,
   "metadata": {},
   "outputs": [],
   "source": [
    "obs_df = pd.read_csv(os.path.join(m_d,\"freyberg_mf6.0.obs.csv\"),index_col=0)\n",
    "print('number of realizations in the ensemble: ' + str(obs_df.shape[0]))"
   ]
  },
  {
   "cell_type": "markdown",
   "metadata": {},
   "source": [
    "We can take a look at the distribution of Phi obtained for the ensemble. These are in another file with the same root, in this case called `freyberg_mf6.phi.actual.csv`. let's read in the file."
   ]
  },
  {
   "cell_type": "code",
   "execution_count": null,
   "metadata": {},
   "outputs": [],
   "source": [
    "phi_df = pd.read_csv(os.path.join(m_d,\"freyberg_mf6.phi.actual.csv\"),index_col=0)\n",
    "phi_df"
   ]
  },
  {
   "cell_type": "markdown",
   "metadata": {},
   "source": [
    "Note there are a few summary columns here, but for now we want to check out a quick histogram so we can use some quick pandas trickery to skip those and plot a histogram:"
   ]
  },
  {
   "cell_type": "code",
   "execution_count": null,
   "metadata": {},
   "outputs": [],
   "source": [
    "phi_df = phi_df.T.iloc[5:].rename(columns={0:'phi'})\n",
    "phi_df.phi.hist(bins=50)"
   ]
  },
  {
   "cell_type": "markdown",
   "metadata": {},
   "source": [
    "Some pretty high values there. But that's fine. We are not concerned with getting a \"good fit\" in prior MC."
   ]
  },
  {
   "cell_type": "markdown",
   "metadata": {},
   "source": [
    "More important is to inspect whether the ***distribution*** of simulated observations encompass measured values. Our first concern is to ensure that the model is ***able*** to captured observed behaviour. If measured values do not fall within the range of simualted values, this is a sign that something ain't right and we should revisit our model or prior parameter distributions.\n"
   ]
  },
  {
   "cell_type": "markdown",
   "metadata": {},
   "source": [
    "A quick check is to plot stochastic (ensemble-based) 1-to-1 plots. We can plot 1to1 plots for obsvervation groups using the `pyemu.plot_utils.ensemble_res_1to1()` method. However, in our case that will result in lots of plots (we have many obs groups!). "
   ]
  },
  {
   "cell_type": "code",
   "execution_count": null,
   "metadata": {},
   "outputs": [],
   "source": [
    "# pyemu.plot_utils.ensemble_res_1to1(obs_df, pst);"
   ]
  },
  {
   "cell_type": "markdown",
   "metadata": {},
   "source": [
    "Feel free to uncomment the previous cell and see what happens. This can be usefull for a quick review, but for the purposes of this tutorial, let's just look at four observation groups (recall, each group is made up of a time series of observations from a single location).\n",
    "\n",
    "Now, this plot does not look particularily pretty...but we aren't here for pretty, we are here for results! What are we concerned with? Whether the range of ensemble simulated outcomes form the prior covers the measured values. Recall that plots on the left are 1to1 plots and on the right the residuals ar edisplayed.  In both cases, a grey line represents the range of simulated values for a given observation\n",
    "\n",
    "In plots on the left, each grey line should interesect the 1-to-1 line. In the plots on the right, each grey line should intersect the \"zero-residual\" line. "
   ]
  },
  {
   "cell_type": "code",
   "execution_count": null,
   "metadata": {},
   "outputs": [],
   "source": [
    "zero_weighted_obs_groups = [i for i in pst.obs_groups if i not in pst.nnz_obs_groups]\n",
    "len(zero_weighted_obs_groups)"
   ]
  },
  {
   "cell_type": "code",
   "execution_count": null,
   "metadata": {},
   "outputs": [],
   "source": [
    "pyemu.plot_utils.ensemble_res_1to1(obs_df, pst, skip_groups=zero_weighted_obs_groups); "
   ]
  },
  {
   "cell_type": "markdown",
   "metadata": {},
   "source": [
    "As we can see above, the prior covers the \"measured\" values (which is good).\n",
    "\n",
    "But hold on a second! What about measurement noise? If we are saying that it is *possible* that our measurements are wrong by a certain amount, shouldn't we make sure our model can represent conditions in which they are? Yes, of course!\n",
    "\n",
    "No worries, `pyemu` has you covered. Let's quickly cook up an ensemble of observations with noise. (Recall we recorded a covariance matrix of observation noise during the \"freyberg pstfrom pest setup\" notebook; this has also been discussed in the \"observation and weights\" notebook.)"
   ]
  },
  {
   "cell_type": "code",
   "execution_count": null,
   "metadata": {},
   "outputs": [],
   "source": [
    "obs_cov = pyemu.Cov.from_binary(os.path.join(t_d, 'obs_cov.jcb'))\n",
    "obs_plus_noise = pyemu.ObservationEnsemble.from_gaussian_draw(pst=pst, cov=obs_cov);"
   ]
  },
  {
   "cell_type": "markdown",
   "metadata": {},
   "source": [
    "OK, now let's plot that again but with observation noise. \n",
    "\n",
    "Aha! Good, not only do our ensemble of model outcomes cover the measured values, but they also entirely cover the range of measured values with noise (red shaded area in the plot below). "
   ]
  },
  {
   "cell_type": "code",
   "execution_count": null,
   "metadata": {},
   "outputs": [],
   "source": [
    "pyemu.plot_utils.ensemble_res_1to1(obs_df,\n",
    "                                    pst, \n",
    "                                    skip_groups=zero_weighted_obs_groups,\n",
    "                                    base_ensemble=obs_plus_noise); "
   ]
  },
  {
   "cell_type": "markdown",
   "metadata": {},
   "source": [
    "Another, perhaps coarser, method to quickly explore outcomes is to look at histograms of observations. \n",
    "\n",
    "The following figure groups observations according to type (just to lump them together and make a smaller plot) and then plots histograms of observation values. Grey shaded columns represent simulated values from the prior. Red shaded columns represent the ensemble of measured values + noise. The grey columns should ideally be spread wider than the red columns."
   ]
  },
  {
   "cell_type": "code",
   "execution_count": null,
   "metadata": {},
   "outputs": [],
   "source": [
    "plot_cols = pst.observation_data.loc[pst.nnz_obs_names].apply(lambda x: x.usecol + \" \"+x.oname,axis=1).to_dict()\n",
    "plot_cols = {v: [k] for k, v in plot_cols.items()}\n",
    "pyemu.plot_utils.ensemble_helper({\"r\":obs_plus_noise,\"0.5\":obs_df}, \n",
    "                                  plot_cols=plot_cols,bins=20,sync_bins=True,\n",
    "                                  )\n",
    "plt.show();"
   ]
  },
  {
   "cell_type": "markdown",
   "metadata": {},
   "source": [
    "Finally, let's plot the obs vs sim timeseries - everyone's fav!"
   ]
  },
  {
   "cell_type": "code",
   "execution_count": null,
   "metadata": {},
   "outputs": [],
   "source": [
    "pst.try_parse_name_metadata()\n",
    "obs = pst.observation_data.copy()\n",
    "obs = obs.loc[obs.oname.apply(lambda x: x in [\"hds\",\"sfr\"])]\n",
    "obs = obs.loc[obs.obgnme.apply(lambda x: x in pst.nnz_obs_groups),:]\n",
    "obs.obgnme.unique()"
   ]
  },
  {
   "cell_type": "markdown",
   "metadata": {},
   "source": [
    "## First let's see the entire ensemble compared with the observed values"
   ]
  },
  {
   "cell_type": "code",
   "execution_count": null,
   "metadata": {},
   "outputs": [],
   "source": [
    "ogs = obs.obgnme.unique()\n",
    "fig,axes = plt.subplots(len(ogs),1,figsize=(10,5*len(ogs)))\n",
    "ogs.sort()\n",
    "for ax,og in zip(axes,ogs):\n",
    "    oobs = obs.loc[obs.obgnme==og,:].copy()\n",
    "    oobs.loc[:,\"time\"] = oobs.time.astype(float)\n",
    "    oobs.sort_values(by=\"time\",inplace=True)\n",
    "    tvals = oobs.time.values\n",
    "    onames = oobs.obsnme.values\n",
    "    [ax.plot(tvals,obs_df.loc[i,onames].values,\"0.5\",lw=0.5,alpha=0.5) for i in obs_df.index]\n",
    "    oobs = oobs.loc[oobs.weight>0,:]\n",
    "    ax.plot(oobs.time,oobs.obsval,\"r-\",lw=2)\n",
    "    ax.set_title(og,loc=\"left\")"
   ]
  },
  {
   "cell_type": "markdown",
   "metadata": {},
   "source": [
    "## Next we can inspect a single realization"
   ]
  },
  {
   "cell_type": "code",
   "execution_count": null,
   "metadata": {},
   "outputs": [],
   "source": [
    "ogs = obs.obgnme.unique()\n",
    "fig,axes = plt.subplots(len(ogs),1,figsize=(10,5*len(ogs)))\n",
    "ogs.sort()\n",
    "for ax,og in zip(axes,ogs):\n",
    "    oobs = obs.loc[obs.obgnme==og,:].copy()\n",
    "    oobs.loc[:,\"time\"] = oobs.time.astype(float)\n",
    "    oobs.sort_values(by=\"time\",inplace=True)\n",
    "    tvals = oobs.time.values\n",
    "    onames = oobs.obsnme.values\n",
    "    i = obs_df.index[1]\n",
    "    ax.plot(tvals,obs_df.loc[i,onames].values,\"0.5\",lw=0.5,alpha=0.5)\n",
    "    oobs = oobs.loc[oobs.weight>0,:]\n",
    "    ax.plot(oobs.time,oobs.obsval,\"r-\",lw=2)\n",
    "    ax.set_title(og,loc=\"left\")"
   ]
  },
  {
   "cell_type": "markdown",
   "metadata": {},
   "source": [
    "### Forecasts\n",
    "\n",
    "As usual, we bring this story back to the forecasts - after all they are why we are modelling."
   ]
  },
  {
   "cell_type": "code",
   "execution_count": null,
   "metadata": {},
   "outputs": [],
   "source": [
    "pst.forecast_names"
   ]
  },
  {
   "cell_type": "markdown",
   "metadata": {},
   "source": [
    "The following cell will plot the distribution of each forecast obtained by running the prior parameter ensemble. Because we are using a synthetic model, we also have the privilege of being able to plot the \"truth\" (in the real world we don't know the truth of course). \n",
    "\n",
    "Many modelling analyses could stop here. If outcomes from a prior MC analysis show that the simulated distribution of forecasts *does not* cause some \"bad-thing\" to happen within an \"acceptable\" confidence, then you are done. No need to go and do expensive and time-consuming history-matching! \n",
    "\n",
    "On the other hand, if the uncertainty (e.g. variance) is unacceptably wide, then it *may* be justifiable to try to reduce forecast uncertainty through history matching. But only if you have forecast-sensitive observation data, and if the model is amenable to assimilating these data! How do I know that you ask? Worry not, we will get to this in subsequent tutorials.\n"
   ]
  },
  {
   "cell_type": "code",
   "execution_count": null,
   "metadata": {},
   "outputs": [],
   "source": [
    "for forecast in pst.forecast_names:\n",
    "    plt.figure()\n",
    "    ax = obs_df.loc[:,forecast].plot(kind=\"hist\",color=\"0.5\",alpha=0.5, bins=20)\n",
    "    ax.set_title(forecast)\n",
    "    fval = pst.observation_data.loc[forecast,\"obsval\"]\n",
    "    ax.plot([fval,fval],ax.get_ylim(),\"r-\")"
   ]
  },
  {
   "cell_type": "code",
   "execution_count": null,
   "metadata": {},
   "outputs": [],
   "source": []
  }
 ],
 "metadata": {
  "kernelspec": {
   "display_name": "Python 3 (ipykernel)",
   "language": "python",
   "name": "python3"
  },
  "language_info": {
   "codemirror_mode": {
    "name": "ipython",
    "version": 3
   },
   "file_extension": ".py",
   "mimetype": "text/x-python",
   "name": "python",
   "nbconvert_exporter": "python",
   "pygments_lexer": "ipython3",
   "version": "3.13.1"
  }
 },
 "nbformat": 4,
 "nbformat_minor": 4
}
