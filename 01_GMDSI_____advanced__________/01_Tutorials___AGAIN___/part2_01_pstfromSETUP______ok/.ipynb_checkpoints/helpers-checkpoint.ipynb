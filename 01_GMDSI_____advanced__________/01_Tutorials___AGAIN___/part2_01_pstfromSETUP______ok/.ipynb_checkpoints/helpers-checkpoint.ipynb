{
 "cells": [
  {
   "cell_type": "code",
   "execution_count": null,
   "id": "f1475000-3156-4d40-a6b0-d937df3e95ec",
   "metadata": {},
   "outputs": [],
   "source": [
    "import os\n",
    "import numpy as np"
   ]
  },
  {
   "cell_type": "code",
   "execution_count": null,
   "id": "19471cb8-9f93-4426-9912-a76c31589fad",
   "metadata": {},
   "outputs": [],
   "source": [
    "def process_secondary_obs(ws='.'):\n",
    "    import os                # load dependencies insde the function so that they get carried over to forward_run.py by PstFrom\n",
    "    import pandas as pd\n",
    "    def write_tdif_obs(orgf, newf, ws='.'):\n",
    "        df = pd.read_csv(os.path.join(ws,orgf), index_col='time')\n",
    "        df = df - df.iloc[0, :]\n",
    "        df.to_csv(os.path.join(ws,newf))\n",
    "        return\n",
    "    write_tdif_obs('heads.csv', 'heads.tdiff.csv', ws)    # write the tdiff observation csv's\n",
    "    write_tdif_obs('sfr.csv', 'sfr.tdiff.csv', ws)\n",
    "    print('Secondary observation files processed.')\n",
    "    return"
   ]
  },
  {
   "cell_type": "code",
   "execution_count": null,
   "id": "fb19caf7-968d-420b-b321-07b6a40ac37c",
   "metadata": {},
   "outputs": [],
   "source": [
    "def extract_hds_arrays_and_list_dfs():\n",
    "    import flopy\n",
    "    hds = flopy.utils.HeadFile(\"freyberg6_freyberg.hds\")\n",
    "    for it,t in enumerate(hds.get_times()):\n",
    "        d = hds.get_data(totim=t)\n",
    "        for k,dlay in enumerate(d):\n",
    "            np.savetxt(\"hdslay{0}_t{1}.txt\".format(k+1,it+1),d[k,:,:],fmt=\"%15.6E\")\n",
    "\n",
    "    lst = flopy.utils.Mf6ListBudget(\"freyberg6.lst\")\n",
    "    inc,cum = lst.get_dataframes(diff=True,start_datetime=None)\n",
    "    inc.columns = inc.columns.map(lambda x: x.lower().replace(\"_\",\"-\"))\n",
    "    cum.columns = cum.columns.map(lambda x: x.lower().replace(\"_\", \"-\"))\n",
    "    inc.index.name = \"totim\"\n",
    "    cum.index.name = \"totim\"\n",
    "    inc.to_csv(\"inc.csv\")\n",
    "    cum.to_csv(\"cum.csv\")\n",
    "    return"
   ]
  },
  {
   "cell_type": "code",
   "execution_count": null,
   "id": "9ed6664a-f813-4445-8a3c-1b59c84ee364",
   "metadata": {},
   "outputs": [],
   "source": [
    "def test_extract_hds_arrays(d):\n",
    "    cwd = os.getcwd()\n",
    "    os.chdir(d)\n",
    "    extract_hds_arrays_and_list_dfs()\n",
    "    os.chdir(cwd)\n",
    "if __name__ == \"__main__\":                            #test_extract_hds_arrays(\"freyberg6_template\")\n",
    "\tprocess_secondary_obs(\"freyberg6_template\")    "
   ]
  }
 ],
 "metadata": {
  "kernelspec": {
   "display_name": "Python 3 (ipykernel)",
   "language": "python",
   "name": "python3"
  },
  "language_info": {
   "codemirror_mode": {
    "name": "ipython",
    "version": 3
   },
   "file_extension": ".py",
   "mimetype": "text/x-python",
   "name": "python",
   "nbconvert_exporter": "python",
   "pygments_lexer": "ipython3",
   "version": "3.11.11"
  }
 },
 "nbformat": 4,
 "nbformat_minor": 5
}
