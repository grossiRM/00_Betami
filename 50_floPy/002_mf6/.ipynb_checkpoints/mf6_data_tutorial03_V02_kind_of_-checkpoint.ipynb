{
 "cells": [
  {
   "cell_type": "code",
   "execution_count": 1,
   "id": "8d5b85b1-966d-4e12-a9bf-d8a76c78cf81",
   "metadata": {},
   "outputs": [],
   "source": [
    "from pathlib import Path ; from shutil import copytree  ; from tempfile import TemporaryDirectory ; import pandas as pd\n",
    "import numpy as np ;  import flopy ;  import os ; import pathlib ; import numpy as np; import matplotlib.pyplot as plt"
   ]
  },
  {
   "cell_type": "code",
   "execution_count": 2,
   "id": "3782ba1b-831b-4d04-a097-5f3a27944cd4",
   "metadata": {},
   "outputs": [
    {
     "name": "stdout",
     "output_type": "stream",
     "text": [
      "E:\\15_REPOS\\00_BETAMI\\01_floPy\\002_mf6\n"
     ]
    }
   ],
   "source": [
    "name = \"tut_mf6_03\"                  # sim_name\n",
    "exe_name = 'E:\\\\15_REPOS\\\\00_BETAMI\\\\bin\\\\mf6'\n",
    "current_directory = os.getcwd();  print(current_directory)"
   ]
  },
  {
   "cell_type": "code",
   "execution_count": 3,
   "id": "456b7bb3-2e79-4fdd-99ea-f0676dc142e2",
   "metadata": {},
   "outputs": [],
   "source": [
    "path = pathlib.Path('E:\\\\15_REPOS\\\\00_BETAMI\\\\01_floPy\\\\002_mf6')\n",
    "path.mkdir(parents=True, exist_ok=True); os.chdir(path); current_directory = os.getcwd()\n",
    "directory_name = 'A2_v02'    ; workspace = os.path.join('.', directory_name)                         # sim_ws\n",
    "if os.path.isdir(workspace) is False:\n",
    "    os.mkdir(workspace) \n",
    "output_folder = Path('A2_v02') ; output_folder.mkdir(exist_ok=True)     "
   ]
  },
  {
   "cell_type": "code",
   "execution_count": 4,
   "id": "20f4dfe0",
   "metadata": {},
   "outputs": [
    {
     "name": "stdout",
     "output_type": "stream",
     "text": [
      "tides.ts A\n",
      "wls.ts   B\n",
      "wls2.ts  C\n",
      "writing simulation...\n",
      "  writing simulation name file...\n",
      "  writing simulation tdis package...\n",
      "  writing solution package ims...\n",
      "  writing model tut_mf6_03...\n",
      "    writing model name file...\n",
      "    writing package dis...\n",
      "    writing package ic...\n",
      "    writing package npf...\n",
      "    writing package ghb...\n",
      "    writing package ts_0...\n",
      "    writing package ts_1...\n",
      "    writing package ts_2...\n",
      "FloPy is using the following executable to run the model: C:\\Users\\gross.DESKTOP-AIRQM2M\\anaconda3\\Scripts\\mf6.exe\n",
      "                                   MODFLOW 6\n",
      "                U.S. GEOLOGICAL SURVEY MODULAR HYDROLOGIC MODEL\n",
      "                            VERSION 6.6.0 12/20/2024\n",
      "\n",
      "   MODFLOW 6 compiled Dec 31 2024 17:10:16 with Intel(R) Fortran Intel(R) 64\n",
      "   Compiler Classic for applications running on Intel(R) 64, Version 2021.7.0\n",
      "                             Build 20220726_000000\n",
      "\n",
      "This software has been approved for release by the U.S. Geological \n",
      "Survey (USGS). Although the software has been subjected to rigorous \n",
      "review, the USGS reserves the right to update the software as needed \n",
      "pursuant to further analysis and review. No warranty, expressed or \n",
      "implied, is made by the USGS or the U.S. Government as to the \n",
      "functionality of the software and related material nor shall the \n",
      "fact of release constitute any such warranty. Furthermore, the \n",
      "software is released on condition that neither the USGS nor the U.S. \n",
      "Government shall be held liable for any damages resulting from its \n",
      "authorized or unauthorized use. Also refer to the USGS Water \n",
      "Resources Software User Rights Notice for complete use, copyright, \n",
      "and distribution information.\n",
      "\n",
      " \n",
      " MODFLOW runs in SEQUENTIAL mode\n",
      " \n",
      " Run start date and time (yyyy/mm/dd hh:mm:ss): 2025/02/24 15:11:39\n",
      " \n",
      " Writing simulation list file: mfsim.lst\n",
      " Using Simulation name file: mfsim.nam\n",
      " \n",
      "    Solving:  Stress period:     1    Time step:     1\n",
      "\n",
      "ERROR REPORT:\n",
      "\n",
      "  1. Error getting value at time   0.00     for time series \"WL\"\n"
     ]
    },
    {
     "data": {
      "text/plain": [
       "(False, [])"
      ]
     },
     "execution_count": 4,
     "metadata": {},
     "output_type": "execute_result"
    }
   ],
   "source": [
    "sim = flopy.mf6.MFSimulation(sim_name=name, sim_ws=workspace, exe_name=\"mf6\", version=\"mf6\")\n",
    "tdis_rc = [(1.0, 1, 1.0), (10.0, 5, 1.0), (10.0, 5, 1.0), (10.0, 1, 1.0)]\n",
    "\n",
    "tdis_package   = flopy.mf6.modflow.mftdis.ModflowTdis(sim, time_units=\"DAYS\", nper=4, perioddata=tdis_rc)\n",
    "model_nam_file = f\"{name}.nam\"\n",
    "gwf = flopy.mf6.ModflowGwf                     (sim, modelname=name, model_nam_file = model_nam_file)\n",
    "ims = flopy.mf6.modflow.mfims.ModflowIms       (sim, pname=\"ims\", complexity=\"SIMPLE\")      ; bot= np.linspace(-3 ,-50/3 ,3)  ; delrow = delcol = 4.0\n",
    "dis = flopy.mf6.modflow.mfgwfdis.ModflowGwfdis (gwf, pname=\"dis\",nogrb=True,nlay=3,nrow=101,ncol=101,delr=delrow,delc=delcol  , top=0.0, botm=bot)\n",
    "ic_package = flopy.mf6.modflow.mfgwfic.ModflowGwfic    (gwf, strt=50.0)\n",
    "npf_package = flopy.mf6.modflow.mfgwfnpf.ModflowGwfnpf (gwf,save_flows = True, icelltype=[1, 0, 0], k=[5.0, 0.1, 4.0], k33=[0.5, 0.005, 0.1])\n",
    "\n",
    "ghb_spd_ts = {}                  # _____ ghb.ts.initialize _____ method\n",
    "ghb_period = []\n",
    "for layer, cond in zip(range(1, 3), [15.0, 1500.0]):\n",
    "    for row in range(0, 15):\n",
    "        if row < 10:\n",
    "            ghb_period.append(((layer, row, 9), \"tides\", cond, \"Estuary-L2\"))\n",
    "        else:\n",
    "            ghb_period.append(((layer, row, 9), \"wl\", cond, \"Estuary-L2\"))\n",
    "            \n",
    "ghb_spd_ts[0] = ghb_period        # ____ list of tuples _______\n",
    "ts_data = []\n",
    "for n in range(0, 365):\n",
    "    time = float(n / 11.73)           ; val = float(n / 60.0)   ;  ts_data.append((time, val))\n",
    "ts_data2 = []\n",
    "for n in range(0, 365):\n",
    "    time = float(1.0 + (n / 12.01))   ; val = float(n / 60.0)   ; ts_data2.append((time, val))\n",
    "ts_data3 = [ ]\n",
    "for n in range(0, 365):\n",
    "    time = float(10.0 + (n / 12.01))  ; val = float(n / 60.0)   ; ts_data3.append((time, val))\n",
    "\n",
    "ghb = flopy.mf6.modflow.mfgwfghb.ModflowGwfghb(gwf,print_input=True,print_flows=True,save_flows=True,\n",
    "                                               boundnames=True,pname=\"ghb\",maxbound=30,stress_period_data=ghb_spd_ts)\n",
    "\n",
    "ghb.ts.initialize(filename     = \"tides.ts\", timeseries=ts_data  , time_series_namerecord=\"tides\",interpolation_methodrecord=\"linearend\",sfacrecord=1.1)\n",
    "ghb.ts.append_package(filename = \"wls.ts\"  , timeseries=ts_data2 , time_series_namerecord=\"wl\",interpolation_methodrecord=\"stepwise\",sfacrecord=1.2)\n",
    "ghb.ts.append_package(filename = \"wls2.ts\" , timeseries=ts_data3 , time_series_namerecord=\"wl2\",interpolation_methodrecord=\"stepwise\",sfacrecord=1.3)\n",
    "\n",
    "print(\"{} A\"   . format(ghb.ts[0].filename, ghb.ts[0].interpolation_methodrecord.get_data()[0][0]))\n",
    "print(\"{}   B\" . format(ghb.ts[1].filename, ghb.ts[1].interpolation_methodrecord.get_data()[0][0]))\n",
    "print(\"{}  C\"  . format(ghb.ts[2].filename, ghb.ts[2].interpolation_methodrecord.get_data()[0][0]))\n",
    "\n",
    "sim.write_simulation()\n",
    "sim.run_simulation()"
   ]
  },
  {
   "cell_type": "code",
   "execution_count": 5,
   "id": "724c05c6-dc06-4054-93cc-23993e18fe3f",
   "metadata": {},
   "outputs": [
    {
     "data": {
      "text/plain": [
       "[(1.0, 1, 1.0), (10.0, 5, 1.0), (10.0, 5, 1.0), (10.0, 1, 1.0)]"
      ]
     },
     "execution_count": 5,
     "metadata": {},
     "output_type": "execute_result"
    }
   ],
   "source": [
    "tdis_rc"
   ]
  },
  {
   "cell_type": "code",
   "execution_count": null,
   "id": "19182e94-e1f0-4e24-8846-b4643c892e39",
   "metadata": {},
   "outputs": [],
   "source": []
  }
 ],
 "metadata": {
  "jupytext": {
   "cell_metadata_filter": "-all"
  },
  "kernelspec": {
   "display_name": "Python 3 (ipykernel)",
   "language": "python",
   "name": "python3"
  },
  "language_info": {
   "codemirror_mode": {
    "name": "ipython",
    "version": 3
   },
   "file_extension": ".py",
   "mimetype": "text/x-python",
   "name": "python",
   "nbconvert_exporter": "python",
   "pygments_lexer": "ipython3",
   "version": "3.12.7"
  }
 },
 "nbformat": 4,
 "nbformat_minor": 5
}
