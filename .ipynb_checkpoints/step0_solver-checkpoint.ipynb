{
 "cells": [
  {
   "cell_type": "code",
   "execution_count": 1,
   "id": "86f515ab-c5ca-488c-b584-31eab660e6cd",
   "metadata": {
    "execution": {
     "iopub.execute_input": "2025-06-12T18:12:18.025427Z",
     "iopub.status.busy": "2025-06-12T18:12:18.025137Z",
     "iopub.status.idle": "2025-06-12T18:12:19.449736Z",
     "shell.execute_reply": "2025-06-12T18:12:19.449028Z",
     "shell.execute_reply.started": "2025-06-12T18:12:18.025403Z"
    }
   },
   "outputs": [],
   "source": [
    "import pathlib as pl ; import flopy; import matplotlib.colors as colors ; import matplotlib.pyplot as plt ; import numpy as np\n",
    "import pandas as pd ; from pathlib import Path\n",
    "sim_ws    = Path(\"./002\")                             ; sim_ws.mkdir(exist_ok=True)  "
   ]
  },
  {
   "cell_type": "code",
   "execution_count": 2,
   "id": "124e3a7f-720c-46c2-9c33-ec070c7e8ce8",
   "metadata": {
    "execution": {
     "iopub.execute_input": "2025-06-12T18:12:19.451111Z",
     "iopub.status.busy": "2025-06-12T18:12:19.450601Z",
     "iopub.status.idle": "2025-06-12T18:12:19.454995Z",
     "shell.execute_reply": "2025-06-12T18:12:19.454420Z",
     "shell.execute_reply.started": "2025-06-12T18:12:19.451085Z"
    }
   },
   "outputs": [],
   "source": [
    "def read_solver_csv():\n",
    "    fpath = sim_ws / \"ims.inner.csv\"\n",
    "    return pd.read_csv(fpath)\n",
    "sim_ws    = Path(\"./002\")   ; sim_ws.mkdir(exist_ok=True) ; data_ws = pl.Path(\"solver/\") ; name = \"solver\"  ; processors = None"
   ]
  },
  {
   "cell_type": "code",
   "execution_count": 3,
   "id": "e13ac938-894c-44aa-8a02-1ba091554b0c",
   "metadata": {
    "execution": {
     "iopub.execute_input": "2025-06-12T18:12:19.456179Z",
     "iopub.status.busy": "2025-06-12T18:12:19.455862Z",
     "iopub.status.idle": "2025-06-12T18:12:29.361409Z",
     "shell.execute_reply": "2025-06-12T18:12:29.360749Z",
     "shell.execute_reply.started": "2025-06-12T18:12:19.456157Z"
    }
   },
   "outputs": [
    {
     "name": "stdout",
     "output_type": "stream",
     "text": [
      "loading simulation...\n",
      "  loading simulation name file...\n",
      "  loading tdis package...\n",
      "  loading model gwf6...\n",
      "    loading package dis...\n",
      "    loading package npf...\n",
      "    loading package ic...\n",
      "    loading package chd...\n",
      "    loading package ghb...\n",
      "    loading package rch...\n",
      "    loading package drn...\n",
      "    loading package oc...\n",
      "  loading solution package ngwm...\n",
      "{internal}\n",
      "(100)\n",
      "\n"
     ]
    }
   ],
   "source": [
    "sim = flopy.mf6.MFSimulation.load(sim_name=name, sim_ws=data_ws)  ; gwf = sim.get_model() ; print('outer_maximum', sim.ims.outer_maximum)"
   ]
  },
  {
   "cell_type": "code",
   "execution_count": null,
   "id": "49605693-600a-4eec-8ebd-cd50dc3aad5d",
   "metadata": {},
   "outputs": [],
   "source": [
    "mm = flopy.plot.PlotMapView(model=gwf) ; vv = mm.plot_array(gwf.dis.top.array, masked_values=[2.99999989e30]) ; plt.colorbar(vv, shrink=0.75)"
   ]
  },
  {
   "cell_type": "code",
   "execution_count": null,
   "id": "43c67388-f40e-418b-b813-0ab4dc431417",
   "metadata": {},
   "outputs": [],
   "source": [
    "sim.ims.outer_maximum = 5 ; sim.set_sim_path(sim_ws)           \n",
    "sim.write_simulation(silent=True)  ; sim.run_simulation(processors=processors, silent=True)\n",
    "df_index = [\"base\"]                ; df = read_solver_csv()  ; df.to_csv(sim_ws/\"00_solver.csv\")"
   ]
  },
  {
   "cell_type": "code",
   "execution_count": null,
   "id": "45c554fe-4316-490b-a0e1-7bb41ed57954",
   "metadata": {},
   "outputs": [],
   "source": [
    "df_index"
   ]
  },
  {
   "cell_type": "code",
   "execution_count": null,
   "id": "04cd9acf-637b-4b39-a6f4-5b839e6a9aee",
   "metadata": {},
   "outputs": [],
   "source": [
    "sim.ims.outer_maximum = 30; \n",
    "sim.ims.write() ; sim.run_simulation(processors=processors, silent=True)\n",
    "df_index.append(\"max_iter=300\")                ; df1 = read_solver_csv() ; df1.to_csv(sim_ws/\"01_solver.csv\")"
   ]
  },
  {
   "cell_type": "code",
   "execution_count": null,
   "id": "85dcd624-87f6-4d4d-9475-629f650b77e7",
   "metadata": {},
   "outputs": [],
   "source": [
    "df =df1\n",
    "fig = plt.figure(figsize=(12,2))  ; plt.plot(df.total_inner_iterations, df.solution_inner_dvmax) ;   plt.gca().set_yscale(\"symlog\")"
   ]
  },
  {
   "cell_type": "code",
   "execution_count": null,
   "id": "3510c7b8-a5bd-41be-98d6-59775c170ecd",
   "metadata": {},
   "outputs": [],
   "source": [
    "sim.ims.outer_maximum = 100 ; sim.ims.under_relaxation = \"simple\" ; \n",
    "sim.ims.write() ; sim.run_simulation(processors=processors, silent=True)\n",
    "df_index.append(\"simple\")                      ; df2 = read_solver_csv() ; df2.to_csv(sim_ws/\"02_solver.csv\")"
   ]
  },
  {
   "cell_type": "code",
   "execution_count": null,
   "id": "3214cef0-9764-44fe-8861-a4456d4092c3",
   "metadata": {},
   "outputs": [],
   "source": [
    "sim.ims.under_relaxation = \"cooley\" ; sim.ims.write()                   \n",
    "sim.run_simulation(processors=processors, silent=True)  \n",
    "df_index.append(\"cooley\")                      ; df3 = read_solver_csv() ; df3.to_csv(sim_ws/\"03_solver.csv\")    # under-relaxation"
   ]
  },
  {
   "cell_type": "code",
   "execution_count": null,
   "id": "f71741e9-22ea-464a-8254-1a18427534ca",
   "metadata": {},
   "outputs": [],
   "source": [
    "sim.ims.under_relaxation = \"dbd\" ; sim.ims.write()                      \n",
    "sim.run_simulation(processors=processors, silent=True) \n",
    "df_index.append(\"dbd\")                         ; df4 = read_solver_csv()  ; df4.to_csv(sim_ws/\"04_solver.csv\")   # delta-bar-delta under-relaxation"
   ]
  },
  {
   "cell_type": "code",
   "execution_count": null,
   "id": "8c46230e-07d1-40a3-81a3-a37c52923cdb",
   "metadata": {},
   "outputs": [],
   "source": [
    "sim.ims.under_relaxation = \"none\" ; sim.ims.backtracking_number = 5 \n",
    "sim.ims.write() ; sim.run_simulation(processors=processors, silent=True)\n",
    "df_index.append(\"backtracking\")                ; df5 = read_solver_csv()  ; df5.to_csv(sim_ws/\"05_solver.csv\")"
   ]
  },
  {
   "cell_type": "code",
   "execution_count": null,
   "id": "0e91aad8-3a03-4c21-bb52-9e7bd43234a6",
   "metadata": {},
   "outputs": [],
   "source": [
    "sim.ims.under_relaxation = \"simple\" ; sim.ims.backtracking_number = 5  \n",
    "sim.ims.write() ; sim.run_simulation(processors=processors, silent=True)\n",
    "df_index.append(\"backtracking+simple\")         ; df6 = read_solver_csv()  ; df6.to_csv(sim_ws/\"06_solver.csv\")"
   ]
  },
  {
   "cell_type": "code",
   "execution_count": null,
   "id": "be634c1b-5ba0-4116-92b2-327104bea2d7",
   "metadata": {},
   "outputs": [],
   "source": [
    "fig = plt.figure(figsize=(12,2))  \n",
    "plt.plot(df1.total_inner_iterations, df1.solution_inner_dvmax) ; plt.gca().set_yscale(\"symlog\")\n",
    "plt.plot(df2.total_inner_iterations, df2.solution_inner_dvmax) ; plt.gca().set_yscale(\"symlog\")\n",
    "plt.plot(df3.total_inner_iterations, df3.solution_inner_dvmax) ; plt.gca().set_yscale(\"symlog\")\n",
    "plt.plot(df4.total_inner_iterations, df4.solution_inner_dvmax) ; plt.gca().set_yscale(\"symlog\")\n",
    "plt.plot(df5.total_inner_iterations, df5.solution_inner_dvmax) ; plt.gca().set_yscale(\"symlog\")\n",
    "plt.plot(df6.total_inner_iterations, df6.solution_inner_dvmax) ; plt.gca().set_yscale(\"symlog\")"
   ]
  },
  {
   "cell_type": "code",
   "execution_count": null,
   "id": "72cd6b92-218a-48d5-9cce-7a0d94431734",
   "metadata": {},
   "outputs": [],
   "source": [
    "df1 ; df1.iloc[-1:].to_csv(sim_ws/\"11_df1.csv\")"
   ]
  },
  {
   "cell_type": "code",
   "execution_count": null,
   "id": "8053318b-67f5-43a7-b00a-2ceb762ecee3",
   "metadata": {},
   "outputs": [],
   "source": [
    "df_list  = [df, df1, df2, df3, df4, df5, df6]\n",
    "df_all   = pd.concat ([d.iloc[-1:] for d in df_list], ignore_index=True)               # last line of each one\n",
    "df_all.drop(columns = [\"totim\",\"kstp\",\"kper\",\"ninner\",\"solution_inner_dvmax_model\",\"solution_inner_rmax_model\",\n",
    "                       \"solution_inner_alpha\",\"solution_inner_omega\"],inplace=True)     ; df_all.to_csv(sim_ws/\"12_df_all.csv\")"
   ]
  },
  {
   "cell_type": "code",
   "execution_count": null,
   "id": "4aa9cfea-9a44-4e2f-b4ba-30b038d6791f",
   "metadata": {},
   "outputs": [],
   "source": [
    "df_all[\"simulation\"] = df_index                                                         ; df_all.to_csv(sim_ws/\"13_df_all.csv\")\n",
    "df_all.insert(0, \"converged\", True)                                                     ; df_all.to_csv(sim_ws/\"14_df_all.csv\")  # add column"
   ]
  },
  {
   "cell_type": "code",
   "execution_count": null,
   "id": "2f42f0b0-68bf-449c-8ea9-a9003abbd49a",
   "metadata": {},
   "outputs": [],
   "source": [
    "df_all.loc[(df_all[\"nouter\"] == 100) | (df_all[\"nouter\"] == 300), \"converged\"] = False  ; df_all.to_csv(sim_ws/\"15_df_all.csv\")"
   ]
  },
  {
   "cell_type": "code",
   "execution_count": null,
   "id": "6d431e73-c975-4354-a081-ceccbc6676c2",
   "metadata": {},
   "outputs": [],
   "source": [
    "df_all.set_index(keys=[\"simulation\"], inplace=True)                                     ; df_all.to_csv(sim_ws/\"16_df_all.csv\")"
   ]
  },
  {
   "cell_type": "code",
   "execution_count": null,
   "id": "3aad272f-c519-443e-8e5b-57ac6da521f6",
   "metadata": {},
   "outputs": [],
   "source": []
  }
 ],
 "metadata": {
  "kernelspec": {
   "display_name": "Python 3 (ipykernel)",
   "language": "python",
   "name": "python3"
  },
  "language_info": {
   "codemirror_mode": {
    "name": "ipython",
    "version": 3
   },
   "file_extension": ".py",
   "mimetype": "text/x-python",
   "name": "python",
   "nbconvert_exporter": "python",
   "pygments_lexer": "ipython3",
   "version": "3.13.3"
  }
 },
 "nbformat": 4,
 "nbformat_minor": 5
}
