{
 "cells": [
  {
   "cell_type": "code",
   "execution_count": 41,
   "id": "c19a5cdd-3152-4914-b90a-bb7243775df8",
   "metadata": {},
   "outputs": [],
   "source": [
    "import os\n",
    "from flopy.discretization import StructuredGrid\n",
    "import numpy as np\n",
    "import flopy.mf6 as mf6\n",
    "model_name = 'A01_pleasant'   # WS = os.mkdir(\"a_folder\")                       \n",
    "nper,     nlay, nrow, ncol,    delr, delc,    xoffset, yoffset, epsg, angrot = 1,    3, 60, 70,    40, 40,    554400, 389200,   3070, 0\n",
    "\n",
    "top = [{'filename': '../data/top.dat'}]          # 04 surfaces, 03 layers\n",
    "botm = [{'filename': '../data/botm_000.dat'},\n",
    "        {'filename': '../data/botm_001.dat'},\n",
    "        {'filename': '../data/botm_002.dat'}]\n",
    "k = [{'filename': '../data/k_000.dat'},          # KH\n",
    "     {'filename': '../data/k_001.dat'},\n",
    "     {'filename': '../data/k_002.dat'}]\n",
    "k33 = [{'filename': '../data/k33_000.dat'},      # KV\n",
    "       {'filename': '../data/k33_001.dat'},\n",
    "       {'filename': '../data/k33_002.dat'}]\n",
    "strt = [top[0]] * nlay                           # Top for starting heads\n",
    "recharge = {\n",
    "    0: {'filename': '../data/rch_000.dat'}}      # RCH    \n",
    "irch = [{'filename': '../data/irch.dat'}]        # iRCH   local\n",
    "spec_head_perimeter = {\n",
    "    0: {'filename': '../data/chd_000.dat'}}      # chd\n",
    "sim   = mf6.MFSimulation   (sim_name=model_name, version=\"mf6\", exe_name=\"mf6\")           # ,sim_ws = \"WS\"\n",
    "tdis  = mf6.ModflowTdis    (sim, time_units=\"days\", nper=1, perioddata=[(1.0, 1, 1.0)])               \n",
    "ims   = mf6.ModflowIms     (sim, complexity=\"moderate\", outer_dvclose=0.001)                       \n",
    "gwf   = mf6.ModflowGwf     (sim, modelname=model_name, save_flows=True)         \n",
    "oc    = mf6.ModflowGwfoc   (gwf, head_filerecord=f'{gwf.name}.hds', budget_filerecord=f'{gwf.name}.cbc',saverecord=[('head', 'all'), (\"budget\", \"all\")])                                             \n",
    "dis   = mf6.ModflowGwfdis  (gwf, nlay=nlay, nrow=nrow, ncol=ncol, delr=delr, delc=delc, top=top, botm=botm, idomain=1)   \n",
    "npf   = mf6.ModflowGwfnpf  (gwf, icelltype=1, k=k, k33=k33)                      \n",
    "ic    = mf6.ModflowGwfic   (gwf, strt=strt)        \n",
    "chd   = mf6.ModflowGwfchd  (gwf, stress_period_data=spec_head_perimeter)    \n",
    "rch   = mf6.ModflowGwfrcha (gwf, recharge=recharge, irch=irch)\n",
    "lak   = mf6.ModflowGwflak  (gwf, boundnames=True, nlakes=1, connectiondata={'filename': '../data/lake_cn.dat'},\n",
    "    packagedata=[[0, 290.85, 345, 'lake1']],perioddata={0: [[0, 'evaporation', 0.000715], [0, 'rainfall', 0.00209]]},surfdep=0.1)"
   ]
  },
  {
   "cell_type": "code",
   "execution_count": 42,
   "id": "3d8837bb-fa72-434f-b27b-067e9195c734",
   "metadata": {},
   "outputs": [
    {
     "name": "stdout",
     "output_type": "stream",
     "text": [
      "\n",
      "SFRmaker version 0.11.3\n",
      "\n",
      "Creating sfr dataset...\n",
      "Model grid information\n",
      "structured grid\n",
      "nnodes: 4,200\n",
      "nlay: 1\n",
      "nrow: 60\n",
      "ncol: 70\n",
      "model length units: undefined\n",
      "crs: EPSG:3070\n",
      "bounds: 554400.00, 389200.00, 557200.00, 391600.00\n",
      "active area defined by: all cells\n",
      "\n",
      "name = A01_pleasant\n",
      "model_type = gwf6\n",
      "version = mf6\n",
      "model_relative_path = .\n",
      "\n",
      "###################\n",
      "Package oc\n",
      "###################\n",
      "\n",
      "package_name = oc\n",
      "filename = A01_pleasant.oc\n",
      "package_type = oc\n",
      "model_or_simulation_package = model\n",
      "model_name = A01_pleasant\n",
      "\n",
      "\n",
      "###################\n",
      "Package dis\n",
      "###################\n",
      "\n",
      "package_name = dis\n",
      "filename = A01_pleasant.dis\n",
      "package_type = dis\n",
      "model_or_simulation_package = model\n",
      "model_name = A01_pleasant\n",
      "\n",
      "\n",
      "###################\n",
      "Package npf\n",
      "###################\n",
      "\n",
      "package_name = npf\n",
      "filename = A01_pleasant.npf\n",
      "package_type = npf\n",
      "model_or_simulation_package = model\n",
      "model_name = A01_pleasant\n",
      "\n",
      "\n",
      "###################\n",
      "Package ic\n",
      "###################\n",
      "\n",
      "package_name = ic\n",
      "filename = A01_pleasant.ic\n",
      "package_type = ic\n",
      "model_or_simulation_package = model\n",
      "model_name = A01_pleasant\n",
      "\n",
      "\n",
      "###################\n",
      "Package chd_0\n",
      "###################\n",
      "\n",
      "package_name = chd_0\n",
      "filename = A01_pleasant.chd\n",
      "package_type = chd\n",
      "model_or_simulation_package = model\n",
      "model_name = A01_pleasant\n",
      "\n",
      "\n",
      "###################\n",
      "Package rcha_0\n",
      "###################\n",
      "\n",
      "package_name = rcha_0\n",
      "filename = A01_pleasant.rcha\n",
      "package_type = rcha\n",
      "model_or_simulation_package = model\n",
      "model_name = A01_pleasant\n",
      "\n",
      "\n",
      "###################\n",
      "Package lak_0\n",
      "###################\n",
      "\n",
      "package_name = lak_0\n",
      "filename = A01_pleasant.lak\n",
      "package_type = lak\n",
      "model_or_simulation_package = model\n",
      "model_name = A01_pleasant\n",
      "\n",
      "\n",
      "\n",
      "\n",
      "reprojecting hydrography from\n",
      "EPSG:4269\n",
      "to\n",
      "EPSG:3070\n",
      "\n",
      "\n",
      "Culling hydrography to active area...\n",
      "starting lines: 49\n"
     ]
    },
    {
     "ename": "AttributeError",
     "evalue": "'NoneType' object has no attribute 'intersects'",
     "output_type": "error",
     "traceback": [
      "\u001b[1;31m---------------------------------------------------------------------------\u001b[0m",
      "\u001b[1;31mAttributeError\u001b[0m                            Traceback (most recent call last)",
      "Cell \u001b[1;32mIn[42], line 6\u001b[0m\n\u001b[0;32m      3\u001b[0m modelgrid \u001b[38;5;241m=\u001b[39m StructuredGrid(delr\u001b[38;5;241m=\u001b[39mnp\u001b[38;5;241m.\u001b[39mones(ncol) \u001b[38;5;241m*\u001b[39m delr, delc\u001b[38;5;241m=\u001b[39mnp\u001b[38;5;241m.\u001b[39mones(nrow) \u001b[38;5;241m*\u001b[39m delc, xoff\u001b[38;5;241m=\u001b[39mxoffset, yoff\u001b[38;5;241m=\u001b[39myoffset, angrot\u001b[38;5;241m=\u001b[39mangrot)\n\u001b[0;32m      4\u001b[0m lines \u001b[38;5;241m=\u001b[39m sfrmaker\u001b[38;5;241m.\u001b[39mLines\u001b[38;5;241m.\u001b[39mfrom_shapefile(shapefile\u001b[38;5;241m=\u001b[39m\u001b[38;5;124m'\u001b[39m\u001b[38;5;124m../data/edited_flowlines.shp\u001b[39m\u001b[38;5;124m'\u001b[39m, id_column\u001b[38;5;241m=\u001b[39m\u001b[38;5;124m'\u001b[39m\u001b[38;5;124mid\u001b[39m\u001b[38;5;124m'\u001b[39m,routing_column\u001b[38;5;241m=\u001b[39m\u001b[38;5;124m'\u001b[39m\u001b[38;5;124mtoid\u001b[39m\u001b[38;5;124m'\u001b[39m,\n\u001b[0;32m      5\u001b[0m                                       width1_column\u001b[38;5;241m=\u001b[39m\u001b[38;5;124m'\u001b[39m\u001b[38;5;124mwidth1\u001b[39m\u001b[38;5;124m'\u001b[39m,width2_column\u001b[38;5;241m=\u001b[39m\u001b[38;5;124m'\u001b[39m\u001b[38;5;124mwidth2\u001b[39m\u001b[38;5;124m'\u001b[39m,name_column\u001b[38;5;241m=\u001b[39m\u001b[38;5;124m'\u001b[39m\u001b[38;5;124mname\u001b[39m\u001b[38;5;124m'\u001b[39m,attr_length_units\u001b[38;5;241m=\u001b[39m\u001b[38;5;124m'\u001b[39m\u001b[38;5;124mmeters\u001b[39m\u001b[38;5;124m'\u001b[39m)\n\u001b[1;32m----> 6\u001b[0m sfrdata \u001b[38;5;241m=\u001b[39m \u001b[43mlines\u001b[49m\u001b[38;5;241;43m.\u001b[39;49m\u001b[43mto_sfr\u001b[49m\u001b[43m(\u001b[49m\u001b[43mmodel\u001b[49m\u001b[38;5;241;43m=\u001b[39;49m\u001b[43mgwf\u001b[49m\u001b[43m,\u001b[49m\u001b[43m \u001b[49m\u001b[43mmodel_length_units\u001b[49m\u001b[38;5;241;43m=\u001b[39;49m\u001b[38;5;124;43m'\u001b[39;49m\u001b[38;5;124;43mmeters\u001b[39;49m\u001b[38;5;124;43m'\u001b[39;49m\u001b[43m)\u001b[49m\n\u001b[0;32m      7\u001b[0m sfrdata\u001b[38;5;241m.\u001b[39mset_streambed_top_elevations_from_dem(\u001b[38;5;124m'\u001b[39m\u001b[38;5;124m../data/dem40m.tif\u001b[39m\u001b[38;5;124m'\u001b[39m, elevation_units\u001b[38;5;241m=\u001b[39m\u001b[38;5;124m'\u001b[39m\u001b[38;5;124mmeters\u001b[39m\u001b[38;5;124m'\u001b[39m)\n\u001b[0;32m      8\u001b[0m sfrdata\u001b[38;5;241m.\u001b[39massign_layers()\n",
      "File \u001b[1;32m~\\anaconda3\\envs\\gmdsitut\\Lib\\site-packages\\sfrmaker\\lines.py:1029\u001b[0m, in \u001b[0;36mLines.to_sfr\u001b[1;34m(self, grid, active_area, isfr, model, model_length_units, model_time_units, minimum_reach_length, width_from_asum_a_param, width_from_asum_b_param, minimum_reach_width, consolidate_conductance, one_reach_per_cell, add_outlets, package_name, **kwargs)\u001b[0m\n\u001b[0;32m   1027\u001b[0m     \u001b[38;5;28mself\u001b[39m\u001b[38;5;241m.\u001b[39mcull(grid\u001b[38;5;241m.\u001b[39mactive_area, inplace\u001b[38;5;241m=\u001b[39m\u001b[38;5;28;01mTrue\u001b[39;00m, simplify\u001b[38;5;241m=\u001b[39m\u001b[38;5;28;01mTrue\u001b[39;00m, tol\u001b[38;5;241m=\u001b[39m\u001b[38;5;241m2000\u001b[39m)\n\u001b[0;32m   1028\u001b[0m \u001b[38;5;28;01melif\u001b[39;00m grid\u001b[38;5;241m.\u001b[39m_bounds \u001b[38;5;129;01mis\u001b[39;00m \u001b[38;5;129;01mnot\u001b[39;00m \u001b[38;5;28;01mNone\u001b[39;00m:  \u001b[38;5;66;03m# cull to grid bounding box if already computed\u001b[39;00m\n\u001b[1;32m-> 1029\u001b[0m     \u001b[38;5;28;43mself\u001b[39;49m\u001b[38;5;241;43m.\u001b[39;49m\u001b[43mcull\u001b[49m\u001b[43m(\u001b[49m\u001b[43mbox\u001b[49m\u001b[43m(\u001b[49m\u001b[38;5;241;43m*\u001b[39;49m\u001b[43mgrid\u001b[49m\u001b[38;5;241;43m.\u001b[39;49m\u001b[43m_bounds\u001b[49m\u001b[43m)\u001b[49m\u001b[43m,\u001b[49m\u001b[43m \u001b[49m\u001b[43minplace\u001b[49m\u001b[38;5;241;43m=\u001b[39;49m\u001b[38;5;28;43;01mTrue\u001b[39;49;00m\u001b[43m)\u001b[49m\n\u001b[0;32m   1030\u001b[0m \u001b[38;5;28;01mif\u001b[39;00m package_name \u001b[38;5;129;01mis\u001b[39;00m \u001b[38;5;28;01mNone\u001b[39;00m:\n\u001b[0;32m   1031\u001b[0m     \u001b[38;5;28;01mif\u001b[39;00m model \u001b[38;5;129;01mis\u001b[39;00m \u001b[38;5;129;01mnot\u001b[39;00m \u001b[38;5;28;01mNone\u001b[39;00m:\n",
      "File \u001b[1;32m~\\anaconda3\\envs\\gmdsitut\\Lib\\site-packages\\sfrmaker\\lines.py:294\u001b[0m, in \u001b[0;36mLines.cull\u001b[1;34m(self, feature, simplify, tol, feature_crs, inplace)\u001b[0m\n\u001b[0;32m    289\u001b[0m \u001b[38;5;28mprint\u001b[39m(\u001b[38;5;124m'\u001b[39m\u001b[38;5;124mstarting lines: \u001b[39m\u001b[38;5;132;01m{:,d}\u001b[39;00m\u001b[38;5;124m'\u001b[39m\u001b[38;5;241m.\u001b[39mformat(\u001b[38;5;28mlen\u001b[39m(lines)))\n\u001b[0;32m    290\u001b[0m \u001b[38;5;66;03m# isn = np.array([g.intersection(feature_s) for g in lines])\u001b[39;00m\n\u001b[0;32m    291\u001b[0m \u001b[38;5;66;03m# df['geometry'] = isn\u001b[39;00m\n\u001b[0;32m    292\u001b[0m \u001b[38;5;66;03m# drop = np.array([g.is_empty for g in isn])\u001b[39;00m\n\u001b[0;32m    293\u001b[0m \u001b[38;5;66;03m# df = df.loc[~drop]\u001b[39;00m\n\u001b[1;32m--> 294\u001b[0m intersects \u001b[38;5;241m=\u001b[39m \u001b[43m[\u001b[49m\u001b[43mg\u001b[49m\u001b[38;5;241;43m.\u001b[39;49m\u001b[43mintersects\u001b[49m\u001b[43m(\u001b[49m\u001b[43mfeature_s\u001b[49m\u001b[43m)\u001b[49m\u001b[43m \u001b[49m\u001b[38;5;28;43;01mfor\u001b[39;49;00m\u001b[43m \u001b[49m\u001b[43mg\u001b[49m\u001b[43m \u001b[49m\u001b[38;5;129;43;01min\u001b[39;49;00m\u001b[43m \u001b[49m\u001b[43mlines\u001b[49m\u001b[43m]\u001b[49m\n\u001b[0;32m    295\u001b[0m \u001b[38;5;28;01mif\u001b[39;00m \u001b[38;5;129;01mnot\u001b[39;00m np\u001b[38;5;241m.\u001b[39many(intersects):\n\u001b[0;32m    296\u001b[0m     \u001b[38;5;28;01mraise\u001b[39;00m \u001b[38;5;167;01mValueError\u001b[39;00m(\u001b[38;5;124m'\u001b[39m\u001b[38;5;124mNo lines in active area. Check CRS for lines, grid and active area polygon.\u001b[39m\u001b[38;5;124m'\u001b[39m)\n",
      "File \u001b[1;32m~\\anaconda3\\envs\\gmdsitut\\Lib\\site-packages\\sfrmaker\\lines.py:294\u001b[0m, in \u001b[0;36m<listcomp>\u001b[1;34m(.0)\u001b[0m\n\u001b[0;32m    289\u001b[0m \u001b[38;5;28mprint\u001b[39m(\u001b[38;5;124m'\u001b[39m\u001b[38;5;124mstarting lines: \u001b[39m\u001b[38;5;132;01m{:,d}\u001b[39;00m\u001b[38;5;124m'\u001b[39m\u001b[38;5;241m.\u001b[39mformat(\u001b[38;5;28mlen\u001b[39m(lines)))\n\u001b[0;32m    290\u001b[0m \u001b[38;5;66;03m# isn = np.array([g.intersection(feature_s) for g in lines])\u001b[39;00m\n\u001b[0;32m    291\u001b[0m \u001b[38;5;66;03m# df['geometry'] = isn\u001b[39;00m\n\u001b[0;32m    292\u001b[0m \u001b[38;5;66;03m# drop = np.array([g.is_empty for g in isn])\u001b[39;00m\n\u001b[0;32m    293\u001b[0m \u001b[38;5;66;03m# df = df.loc[~drop]\u001b[39;00m\n\u001b[1;32m--> 294\u001b[0m intersects \u001b[38;5;241m=\u001b[39m [\u001b[43mg\u001b[49m\u001b[38;5;241;43m.\u001b[39;49m\u001b[43mintersects\u001b[49m(feature_s) \u001b[38;5;28;01mfor\u001b[39;00m g \u001b[38;5;129;01min\u001b[39;00m lines]\n\u001b[0;32m    295\u001b[0m \u001b[38;5;28;01mif\u001b[39;00m \u001b[38;5;129;01mnot\u001b[39;00m np\u001b[38;5;241m.\u001b[39many(intersects):\n\u001b[0;32m    296\u001b[0m     \u001b[38;5;28;01mraise\u001b[39;00m \u001b[38;5;167;01mValueError\u001b[39;00m(\u001b[38;5;124m'\u001b[39m\u001b[38;5;124mNo lines in active area. Check CRS for lines, grid and active area polygon.\u001b[39m\u001b[38;5;124m'\u001b[39m)\n",
      "\u001b[1;31mAttributeError\u001b[0m: 'NoneType' object has no attribute 'intersects'"
     ]
    }
   ],
   "source": [
    "import sfrmaker\n",
    "gwf.modelgrid.set_coord_info(xoff=xoffset, yoff=yoffset, crs=epsg)\n",
    "modelgrid = StructuredGrid(delr=np.ones(ncol) * delr, delc=np.ones(nrow) * delc, xoff=xoffset, yoff=yoffset, angrot=angrot)\n",
    "lines = sfrmaker.Lines.from_shapefile(shapefile='../data/edited_flowlines.shp', id_column='id',routing_column='toid',\n",
    "                                      width1_column='width1',width2_column='width2',name_column='name',attr_length_units='meters')\n",
    "sfrdata = lines.to_sfr(model=gwf, model_length_units='meters')\n",
    "sfrdata.set_streambed_top_elevations_from_dem('../data/dem40m.tif', elevation_units='meters')\n",
    "sfrdata.assign_layers()\n",
    "sfr = sfrdata.create_mf6sfr(gwf)  # ______________________________ \n",
    "sim.write_simulation(silent=True)"
   ]
  },
  {
   "cell_type": "code",
   "execution_count": 20,
   "id": "5bc5f5cc-c6fb-4e9a-938c-f74851c797c6",
   "metadata": {},
   "outputs": [
    {
     "name": "stdout",
     "output_type": "stream",
     "text": [
      "FloPy is using the following executable to run the model: C:\\Users\\gross.DESKTOP-AIRQM2M\\anaconda3\\envs\\gmdsitut\\Scripts\\mf6.exe\n",
      "                                   MODFLOW 6\n",
      "                U.S. GEOLOGICAL SURVEY MODULAR HYDROLOGIC MODEL\n",
      "                            VERSION 6.5.0 05/23/2024\n",
      "\n",
      "   MODFLOW 6 compiled Jun 21 2024 02:57:23 with Intel(R) Fortran Intel(R) 64\n",
      "   Compiler Classic for applications running on Intel(R) 64, Version 2021.7.0\n",
      "                             Build 20220726_000000\n",
      "\n",
      "This software has been approved for release by the U.S. Geological \n",
      "Survey (USGS). Although the software has been subjected to rigorous \n",
      "review, the USGS reserves the right to update the software as needed \n",
      "pursuant to further analysis and review. No warranty, expressed or \n",
      "implied, is made by the USGS or the U.S. Government as to the \n",
      "functionality of the software and related material nor shall the \n",
      "fact of release constitute any such warranty. Furthermore, the \n",
      "software is released on condition that neither the USGS nor the U.S. \n",
      "Government shall be held liable for any damages resulting from its \n",
      "authorized or unauthorized use. Also refer to the USGS Water \n",
      "Resources Software User Rights Notice for complete use, copyright, \n",
      "and distribution information.\n",
      "\n",
      " \n",
      " MODFLOW runs in SEQUENTIAL mode\n",
      " \n",
      " Run start date and time (yyyy/mm/dd hh:mm:ss): 2025/01/29  6:25:29\n",
      " \n",
      " Writing simulation list file: mfsim.lst\n",
      " Using Simulation name file: mfsim.nam\n",
      " \n",
      "    Solving:  Stress period:     1    Time step:     1\n",
      " \n",
      " Run end date and time (yyyy/mm/dd hh:mm:ss): 2025/01/29  6:25:29\n",
      " Elapsed run time:  0.370 Seconds\n",
      " \n",
      " Normal termination of simulation.\n"
     ]
    },
    {
     "data": {
      "text/plain": [
       "(True, [])"
      ]
     },
     "execution_count": 20,
     "metadata": {},
     "output_type": "execute_result"
    }
   ],
   "source": [
    "sim.run_simulation()"
   ]
  },
  {
   "cell_type": "code",
   "execution_count": 38,
   "id": "8b85ccc0-1da2-4e33-bcad-bae95adaf9f3",
   "metadata": {},
   "outputs": [
    {
     "ename": "Exception",
     "evalue": "The specified text string is not in the budget file.",
     "output_type": "error",
     "traceback": [
      "\u001b[1;31m---------------------------------------------------------------------------\u001b[0m",
      "\u001b[1;31mException\u001b[0m                                 Traceback (most recent call last)",
      "Cell \u001b[1;32mIn[38], line 7\u001b[0m\n\u001b[0;32m      5\u001b[0m cbc \u001b[38;5;241m=\u001b[39m gwf\u001b[38;5;241m.\u001b[39moutput\u001b[38;5;241m.\u001b[39mbudget()\n\u001b[0;32m      6\u001b[0m lak \u001b[38;5;241m=\u001b[39m cbc\u001b[38;5;241m.\u001b[39mget_data(text\u001b[38;5;241m=\u001b[39m\u001b[38;5;124m'\u001b[39m\u001b[38;5;124mlak\u001b[39m\u001b[38;5;124m'\u001b[39m, full3D\u001b[38;5;241m=\u001b[39m\u001b[38;5;28;01mTrue\u001b[39;00m)[\u001b[38;5;241m0\u001b[39m]\n\u001b[1;32m----> 7\u001b[0m sfr \u001b[38;5;241m=\u001b[39m \u001b[43mcbc\u001b[49m\u001b[38;5;241;43m.\u001b[39;49m\u001b[43mget_data\u001b[49m\u001b[43m(\u001b[49m\u001b[43mtext\u001b[49m\u001b[38;5;241;43m=\u001b[39;49m\u001b[38;5;124;43m'\u001b[39;49m\u001b[38;5;124;43msfr\u001b[39;49m\u001b[38;5;124;43m'\u001b[39;49m\u001b[43m,\u001b[49m\u001b[43m \u001b[49m\u001b[43mfull3D\u001b[49m\u001b[38;5;241;43m=\u001b[39;49m\u001b[38;5;28;43;01mTrue\u001b[39;49;00m\u001b[43m)\u001b[49m[\u001b[38;5;241m0\u001b[39m]\n",
      "File \u001b[1;32m~\\anaconda3\\envs\\gmdsitut\\Lib\\site-packages\\flopy\\utils\\binaryfile.py:1740\u001b[0m, in \u001b[0;36mCellBudgetFile.get_data\u001b[1;34m(self, idx, kstpkper, totim, text, paknam, paknam2, full3D)\u001b[0m\n\u001b[0;32m   1738\u001b[0m text16 \u001b[38;5;241m=\u001b[39m \u001b[38;5;28;01mNone\u001b[39;00m\n\u001b[0;32m   1739\u001b[0m \u001b[38;5;28;01mif\u001b[39;00m text \u001b[38;5;129;01mis\u001b[39;00m \u001b[38;5;129;01mnot\u001b[39;00m \u001b[38;5;28;01mNone\u001b[39;00m:\n\u001b[1;32m-> 1740\u001b[0m     text16 \u001b[38;5;241m=\u001b[39m \u001b[38;5;28;43mself\u001b[39;49m\u001b[38;5;241;43m.\u001b[39;49m\u001b[43m_find_text\u001b[49m\u001b[43m(\u001b[49m\u001b[43mtext\u001b[49m\u001b[43m)\u001b[49m\n\u001b[0;32m   1741\u001b[0m paknam16 \u001b[38;5;241m=\u001b[39m \u001b[38;5;28;01mNone\u001b[39;00m\n\u001b[0;32m   1742\u001b[0m \u001b[38;5;28;01mif\u001b[39;00m paknam \u001b[38;5;129;01mis\u001b[39;00m \u001b[38;5;129;01mnot\u001b[39;00m \u001b[38;5;28;01mNone\u001b[39;00m:\n",
      "File \u001b[1;32m~\\anaconda3\\envs\\gmdsitut\\Lib\\site-packages\\flopy\\utils\\binaryfile.py:1458\u001b[0m, in \u001b[0;36mCellBudgetFile._find_text\u001b[1;34m(self, text)\u001b[0m\n\u001b[0;32m   1456\u001b[0m     \u001b[38;5;28;01mif\u001b[39;00m text16 \u001b[38;5;129;01mis\u001b[39;00m \u001b[38;5;28;01mNone\u001b[39;00m:\n\u001b[0;32m   1457\u001b[0m         errmsg \u001b[38;5;241m=\u001b[39m \u001b[38;5;124m\"\u001b[39m\u001b[38;5;124mThe specified text string is not in the budget file.\u001b[39m\u001b[38;5;124m\"\u001b[39m\n\u001b[1;32m-> 1458\u001b[0m         \u001b[38;5;28;01mraise\u001b[39;00m \u001b[38;5;167;01mException\u001b[39;00m(errmsg)\n\u001b[0;32m   1459\u001b[0m \u001b[38;5;28;01mreturn\u001b[39;00m text16\n",
      "\u001b[1;31mException\u001b[0m: The specified text string is not in the budget file."
     ]
    }
   ],
   "source": [
    "from flopy.utils.postprocessing import get_water_table\n",
    "import matplotlib.pyplot as plt\n",
    "hds = gwf.output.head().get_data()\n",
    "wt = get_water_table(hds, hdry=-9999) # nodata=-1e30  #plt.imshow(wt)  #plt.colorbar(label=\"Elevation\")\n",
    "cbc = gwf.output.budget()\n",
    "lak = cbc.get_data(text='lak', full3D=True)[0]\n",
    "sfr = cbc.get_data(text='sfr', full3D=True)[0]"
   ]
  },
  {
   "cell_type": "code",
   "execution_count": 35,
   "id": "2a8be731-3389-42ee-a22a-ad94ab055dba",
   "metadata": {},
   "outputs": [
    {
     "ename": "Exception",
     "evalue": "The specified text string is not in the budget file.",
     "output_type": "error",
     "traceback": [
      "\u001b[1;31m---------------------------------------------------------------------------\u001b[0m",
      "\u001b[1;31mException\u001b[0m                                 Traceback (most recent call last)",
      "Cell \u001b[1;32mIn[35], line 3\u001b[0m\n\u001b[0;32m      1\u001b[0m cbc \u001b[38;5;241m=\u001b[39m gwf\u001b[38;5;241m.\u001b[39moutput\u001b[38;5;241m.\u001b[39mbudget()\n\u001b[0;32m      2\u001b[0m lak \u001b[38;5;241m=\u001b[39m cbc\u001b[38;5;241m.\u001b[39mget_data(text\u001b[38;5;241m=\u001b[39m\u001b[38;5;124m'\u001b[39m\u001b[38;5;124mlak\u001b[39m\u001b[38;5;124m'\u001b[39m, full3D\u001b[38;5;241m=\u001b[39m\u001b[38;5;28;01mTrue\u001b[39;00m)[\u001b[38;5;241m0\u001b[39m]\n\u001b[1;32m----> 3\u001b[0m sfr \u001b[38;5;241m=\u001b[39m \u001b[43mcbc\u001b[49m\u001b[38;5;241;43m.\u001b[39;49m\u001b[43mget_data\u001b[49m\u001b[43m(\u001b[49m\u001b[43mtext\u001b[49m\u001b[38;5;241;43m=\u001b[39;49m\u001b[38;5;124;43m'\u001b[39;49m\u001b[38;5;124;43msfr\u001b[39;49m\u001b[38;5;124;43m'\u001b[39;49m\u001b[43m,\u001b[49m\u001b[43m \u001b[49m\u001b[43mfull3D\u001b[49m\u001b[38;5;241;43m=\u001b[39;49m\u001b[38;5;28;43;01mTrue\u001b[39;49;00m\u001b[43m)\u001b[49m[\u001b[38;5;241m0\u001b[39m]\n",
      "File \u001b[1;32m~\\anaconda3\\envs\\gmdsitut\\Lib\\site-packages\\flopy\\utils\\binaryfile.py:1740\u001b[0m, in \u001b[0;36mCellBudgetFile.get_data\u001b[1;34m(self, idx, kstpkper, totim, text, paknam, paknam2, full3D)\u001b[0m\n\u001b[0;32m   1738\u001b[0m text16 \u001b[38;5;241m=\u001b[39m \u001b[38;5;28;01mNone\u001b[39;00m\n\u001b[0;32m   1739\u001b[0m \u001b[38;5;28;01mif\u001b[39;00m text \u001b[38;5;129;01mis\u001b[39;00m \u001b[38;5;129;01mnot\u001b[39;00m \u001b[38;5;28;01mNone\u001b[39;00m:\n\u001b[1;32m-> 1740\u001b[0m     text16 \u001b[38;5;241m=\u001b[39m \u001b[38;5;28;43mself\u001b[39;49m\u001b[38;5;241;43m.\u001b[39;49m\u001b[43m_find_text\u001b[49m\u001b[43m(\u001b[49m\u001b[43mtext\u001b[49m\u001b[43m)\u001b[49m\n\u001b[0;32m   1741\u001b[0m paknam16 \u001b[38;5;241m=\u001b[39m \u001b[38;5;28;01mNone\u001b[39;00m\n\u001b[0;32m   1742\u001b[0m \u001b[38;5;28;01mif\u001b[39;00m paknam \u001b[38;5;129;01mis\u001b[39;00m \u001b[38;5;129;01mnot\u001b[39;00m \u001b[38;5;28;01mNone\u001b[39;00m:\n",
      "File \u001b[1;32m~\\anaconda3\\envs\\gmdsitut\\Lib\\site-packages\\flopy\\utils\\binaryfile.py:1458\u001b[0m, in \u001b[0;36mCellBudgetFile._find_text\u001b[1;34m(self, text)\u001b[0m\n\u001b[0;32m   1456\u001b[0m     \u001b[38;5;28;01mif\u001b[39;00m text16 \u001b[38;5;129;01mis\u001b[39;00m \u001b[38;5;28;01mNone\u001b[39;00m:\n\u001b[0;32m   1457\u001b[0m         errmsg \u001b[38;5;241m=\u001b[39m \u001b[38;5;124m\"\u001b[39m\u001b[38;5;124mThe specified text string is not in the budget file.\u001b[39m\u001b[38;5;124m\"\u001b[39m\n\u001b[1;32m-> 1458\u001b[0m         \u001b[38;5;28;01mraise\u001b[39;00m \u001b[38;5;167;01mException\u001b[39;00m(errmsg)\n\u001b[0;32m   1459\u001b[0m \u001b[38;5;28;01mreturn\u001b[39;00m text16\n",
      "\u001b[1;31mException\u001b[0m: The specified text string is not in the budget file."
     ]
    }
   ],
   "source": []
  },
  {
   "cell_type": "code",
   "execution_count": 23,
   "id": "a43ae9be-76db-4b6e-9e7b-a98f022f2eae",
   "metadata": {},
   "outputs": [],
   "source": []
  },
  {
   "cell_type": "code",
   "execution_count": 25,
   "id": "f34635c8-588f-4489-8314-b0144f958e38",
   "metadata": {},
   "outputs": [],
   "source": []
  },
  {
   "cell_type": "code",
   "execution_count": null,
   "id": "43513a2e-ccbf-4d4a-a29a-e9d9b0bf7c41",
   "metadata": {},
   "outputs": [],
   "source": []
  }
 ],
 "metadata": {
  "kernelspec": {
   "display_name": "Python 3 (ipykernel)",
   "language": "python",
   "name": "python3"
  },
  "language_info": {
   "codemirror_mode": {
    "name": "ipython",
    "version": 3
   },
   "file_extension": ".py",
   "mimetype": "text/x-python",
   "name": "python",
   "nbconvert_exporter": "python",
   "pygments_lexer": "ipython3",
   "version": "3.11.11"
  }
 },
 "nbformat": 4,
 "nbformat_minor": 5
}
