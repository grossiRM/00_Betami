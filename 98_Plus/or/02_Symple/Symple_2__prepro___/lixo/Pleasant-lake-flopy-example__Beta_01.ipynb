{
 "cells": [
  {
   "cell_type": "markdown",
   "id": "08d4d782",
   "metadata": {},
   "source": [
    "## __01_Pleasant-lake-flopy-example_____Version__01__  <font color='red'> Sfr err </font>"
   ]
  },
  {
   "cell_type": "code",
   "execution_count": 1,
   "id": "5acd45ac",
   "metadata": {},
   "outputs": [],
   "source": [
    "import numpy as np                          \n",
    "import matplotlib.pyplot as plt\n",
    "import flopy\n",
    "import flopy.mf6 as mf6\n",
    "from flopy.discretization import StructuredGrid\n",
    "from flopy.utils import Raster\n",
    "import sfrmaker  # Environment Flopy(no)   Gmdsitut (ok)"
   ]
  },
  {
   "cell_type": "markdown",
   "id": "c7e69f34",
   "metadata": {},
   "source": [
    "# __Basic__ __info__"
   ]
  },
  {
   "cell_type": "code",
   "execution_count": 2,
   "id": "be85402f",
   "metadata": {},
   "outputs": [],
   "source": [
    "model_name = 'B_pleasant'\n",
    "workspace = '.'                                    # workspace\n",
    "nper, nlay, nrow, ncol = 1, 3, 60, 70              # t, z, y, x, \n",
    "delr, delc = 40, 40\n",
    "xoffset, yoffset = 554400., 389200.0\n",
    "epsg = 3070                                        # Wisconsin Transverse Mercator, denoted by EPSG code 3070 \n",
    "modelgrid = StructuredGrid(delr=np.ones(ncol) * delr, delc=np.ones(nrow) * delc, xoff=xoffset, yoff=yoffset, angrot=0)"
   ]
  },
  {
   "cell_type": "markdown",
   "id": "25dda123-1104-4485-8c2b-5b04681a2579",
   "metadata": {},
   "source": [
    "# __Rasters__"
   ]
  },
  {
   "cell_type": "code",
   "execution_count": null,
   "id": "0d6e9f19",
   "metadata": {},
   "outputs": [],
   "source": [
    "br_surf = Raster.load('../data/br_surface.tif')\n",
    "rs = br_surf.resample_to_grid(modelgrid, band=1, method='linear')           # resample_to_grid #\n",
    "np.savetxt('../data/botm_002.dat', rs)"
   ]
  },
  {
   "cell_type": "code",
   "execution_count": null,
   "id": "290b4ee4",
   "metadata": {},
   "outputs": [],
   "source": [
    "top = [{'filename': '../data/top.dat'}]          # 04 surfaces, 03 layers\n",
    "botm = [{'filename': '../data/botm_000.dat'},\n",
    "        {'filename': '../data/botm_001.dat'},\n",
    "        {'filename': '../data/botm_002.dat'}]\n",
    "k = [{'filename': '../data/k_000.dat'},          # KH\n",
    "     {'filename': '../data/k_001.dat'},\n",
    "     {'filename': '../data/k_002.dat'}]\n",
    "k33 = [{'filename': '../data/k33_000.dat'},      # KV\n",
    "       {'filename': '../data/k33_001.dat'},\n",
    "       {'filename': '../data/k33_002.dat'}]\n",
    "strt = [top[0]] * nlay                           # Top for starting heads\n",
    "recharge = {\n",
    "    0: {'filename': '../data/rch_000.dat'}}      # RCH    \n",
    "irch = [{'filename': '../data/irch.dat'}]        # iRCH   local\n",
    "spec_head_perimeter = {\n",
    "    0: {'filename': '../data/chd_000.dat'}}      # chd"
   ]
  },
  {
   "cell_type": "markdown",
   "id": "490e7bad-0198-4bfa-a5f6-f463ab7cdd6f",
   "metadata": {},
   "source": [
    "# __Object__ __&__ __Model__ __Instancies__"
   ]
  },
  {
   "cell_type": "code",
   "execution_count": null,
   "id": "8b16df86",
   "metadata": {},
   "outputs": [],
   "source": [
    "sim = mf6.MFSimulation(sim_name=model_name, version=\"mf6\", exe_name=\"mf6\", sim_ws=workspace)     # __.nam  \n",
    "\n",
    "tdis = mf6.ModflowTdis(sim, time_units=\"days\", nper=1, perioddata=[(1.0, 1, 1.0)])               # __.dis  \n",
    "ims = mf6.ModflowIms(sim, complexity=\"moderate\", outer_dvclose=0.001)                            # Solver\n",
    "# sim.write_simulation() # __________        # pst = pf.build_pst() __ ?   "
   ]
  },
  {
   "cell_type": "code",
   "execution_count": null,
   "id": "0af601f4",
   "metadata": {},
   "outputs": [],
   "source": [
    "gwf = mf6.ModflowGwf(sim, modelname=model_name, save_flows=True)              \n",
    "\n",
    "oc = mf6.ModflowGwfoc(gwf, head_filerecord=f'{gwf.name}.hds',                                    # __.oc  Output  \n",
    "    budget_filerecord=f'{gwf.name}.cbc',\n",
    "    saverecord=[('head', 'all'), (\"budget\", \"all\")])                                             \n",
    "                \n",
    "dis = mf6.ModflowGwfdis(gwf, nlay=nlay, nrow=nrow, ncol=ncol, delr=delr, delc=delc, top=top, botm=botm, idomain=1)   # __.dis "
   ]
  },
  {
   "cell_type": "code",
   "execution_count": null,
   "id": "07d9778f-e8f1-4470-ac9d-5cbe846be6dd",
   "metadata": {},
   "outputs": [],
   "source": [
    "sim.write_simulation() # __________02"
   ]
  },
  {
   "cell_type": "code",
   "execution_count": null,
   "id": "469f5cbb",
   "metadata": {},
   "outputs": [],
   "source": [
    "gwf.modelgrid.set_coord_info(xoff=xoffset, yoff=yoffset, crs=epsg)           # gwf.modelgrid"
   ]
  },
  {
   "cell_type": "markdown",
   "id": "d2855a21-cf95-4e8d-9982-7d902f5f3491",
   "metadata": {},
   "source": [
    "# __Aquifer__ __Properties__"
   ]
  },
  {
   "cell_type": "code",
   "execution_count": null,
   "id": "b6995e4b",
   "metadata": {},
   "outputs": [],
   "source": [
    "npf = mf6.ModflowGwfnpf(gwf, icelltype=1, k=k, k33=k33)                      # K"
   ]
  },
  {
   "cell_type": "code",
   "execution_count": null,
   "id": "1a6ae50a",
   "metadata": {},
   "outputs": [],
   "source": [
    "ic = mf6.ModflowGwfic(gwf, strt=strt)                                        # initial conditions "
   ]
  },
  {
   "cell_type": "markdown",
   "id": "de3aedf1-d40c-45b6-9917-f600413232c7",
   "metadata": {},
   "source": [
    "# <font color='green'> __Boundary__ __ Conditions__ </font>"
   ]
  },
  {
   "cell_type": "code",
   "execution_count": null,
   "id": "14e94e72",
   "metadata": {},
   "outputs": [],
   "source": [
    "chd = mf6.ModflowGwfchd(gwf, stress_period_data=spec_head_perimeter)   # ___________ ok\n",
    "rch = mf6.ModflowGwfrcha(gwf, recharge=recharge, irch=irch)"
   ]
  },
  {
   "cell_type": "code",
   "execution_count": null,
   "id": "1f07d270",
   "metadata": {},
   "outputs": [],
   "source": [
    "lak = mf6.ModflowGwflak(gwf, boundnames=True, nlakes=1, connectiondata={'filename': '../data/lake_cn.dat'},\n",
    "    packagedata=[[0, 290.85, 345, 'lake1']],\n",
    "    perioddata={0: [[0, 'evaporation', 0.000715], [0, 'rainfall', 0.00209]]},\n",
    "    surfdep=0.1)"
   ]
  },
  {
   "cell_type": "code",
   "execution_count": null,
   "id": "367b74ec-5a06-4d0a-9913-76eec9e1986c",
   "metadata": {},
   "outputs": [],
   "source": [
    "sim.write_simulation()"
   ]
  },
  {
   "cell_type": "markdown",
   "id": "31d791de-a8e9-4e3d-9535-02eb1f0d0f9c",
   "metadata": {},
   "source": [
    "# <font color='red'> __Streamflow__ __err__ __!__</font>"
   ]
  },
  {
   "cell_type": "markdown",
   "id": "45f1b5b1",
   "metadata": {},
   "source": [
    "# <font color='blue'> __Add__ __next__ __SFR__ __REPO__ </font>"
   ]
  },
  {
   "cell_type": "code",
   "execution_count": null,
   "id": "1f053a1a",
   "metadata": {},
   "outputs": [],
   "source": [
    "lines = sfrmaker.Lines.from_shapefile(shapefile='../data/edited_flowlines.shp', id_column='id', routing_column='toid',\n",
    "    width1_column='width1', width2_column='width2', name_column='name', attr_length_units='meters')\n",
    "sfrdata = lines.to_sfr(model=gwf, model_length_units='meters')\n",
    "sfrdata.set_streambed_top_elevations_from_dem('../data/dem40m.tif', elevation_units='meters')\n",
    "sfrdata.assign_layers()\n",
    "sfr = sfrdata.create_mf6sfr(gwf)"
   ]
  },
  {
   "cell_type": "code",
   "execution_count": null,
   "id": "03fb00f8",
   "metadata": {},
   "outputs": [],
   "source": [
    "sim.write_simulation()\n",
    "sim.run_simulation() "
   ]
  },
  {
   "cell_type": "markdown",
   "id": "079cd5a6",
   "metadata": {},
   "source": [
    "## Postrocessing : Get_water_table()__Module ____` err_02 `"
   ]
  },
  {
   "cell_type": "code",
   "execution_count": null,
   "id": "55ca4fcf",
   "metadata": {},
   "outputs": [],
   "source": [
    "from flopy.utils.postprocessing import get_water_table"
   ]
  },
  {
   "cell_type": "code",
   "execution_count": null,
   "id": "819940c6",
   "metadata": {},
   "outputs": [],
   "source": [
    "hds = gwf.output.head().get_data()"
   ]
  },
  {
   "cell_type": "code",
   "execution_count": null,
   "id": "cce6523e",
   "metadata": {},
   "outputs": [],
   "source": [
    "wt = get_water_table(hds, nodata=-1e10)"
   ]
  },
  {
   "cell_type": "code",
   "execution_count": null,
   "id": "12d6d77d",
   "metadata": {},
   "outputs": [],
   "source": [
    "cbc = gwf.output.budget()\n",
    "lak = cbc.get_data(text='lak', full3D=True)[0]\n",
    "sfr = cbc.get_data(text='sfr', full3D=True)[0]"
   ]
  },
  {
   "cell_type": "code",
   "execution_count": null,
   "id": "efd1ad1b",
   "metadata": {},
   "outputs": [],
   "source": [
    "fig, ax = plt.subplots(figsize=(6, 6))\n",
    "pmv = flopy.plot.PlotMapView(gwf, ax=ax)\n",
    "ctr = pmv.contour_array(\n",
    "    wt, levels=np.arange(290, 315, 1), \n",
    "    linewidths=1, colors='b')\n",
    "labels = pmv.ax.clabel(\n",
    "    ctr, inline=True, \n",
    "    fontsize=8, inline_spacing=1)\n",
    "vmin, vmax = -100, 100\n",
    "im = pmv.plot_array(\n",
    "    lak[0], cmap='coolwarm', \n",
    "    vmin=vmin, vmax=vmax)\n",
    "im = pmv.plot_array(\n",
    "    sfr.sum(axis=0), cmap='coolwarm', \n",
    "    vmin=vmin, vmax=vmax)\n",
    "cb = fig.colorbar(\n",
    "    im, shrink=0.5, label='Leakage, in m$^3$/day')\n",
    "ax.set_ylabel(\"Northing, WTM meters\")\n",
    "ax.set_xlabel(\"Easting, WTM meters\")\n",
    "ax.set_aspect(1)\n",
    "plt.tight_layout()\n",
    "plt.savefig('results.pdf')"
   ]
  }
 ],
 "metadata": {
  "kernelspec": {
   "display_name": "Python 3 (ipykernel)",
   "language": "python",
   "name": "python3"
  },
  "language_info": {
   "codemirror_mode": {
    "name": "ipython",
    "version": 3
   },
   "file_extension": ".py",
   "mimetype": "text/x-python",
   "name": "python",
   "nbconvert_exporter": "python",
   "pygments_lexer": "ipython3",
   "version": "3.11.11"
  }
 },
 "nbformat": 4,
 "nbformat_minor": 5
}
