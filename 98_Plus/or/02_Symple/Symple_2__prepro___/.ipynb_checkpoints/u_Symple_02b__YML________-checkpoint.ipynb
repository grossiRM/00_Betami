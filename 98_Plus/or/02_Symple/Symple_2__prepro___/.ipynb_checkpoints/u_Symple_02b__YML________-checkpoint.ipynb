{
 "cells": [
  {
   "cell_type": "code",
   "execution_count": 4,
   "id": "a9aa5bcd-16c1-4d0a-b7b8-e694ce957dbe",
   "metadata": {},
   "outputs": [
    {
     "name": "stdout",
     "output_type": "stream",
     "text": [
      "3.9.8\n"
     ]
    }
   ],
   "source": [
    "from platform import python_version\n",
    "print(python_version())"
   ]
  },
  {
   "cell_type": "code",
   "execution_count": 16,
   "id": "0e410e05-1009-4d36-b033-4f827bd7724f",
   "metadata": {},
   "outputs": [
    {
     "ename": "ModuleNotFoundError",
     "evalue": "No module named 'numpy'",
     "output_type": "error",
     "traceback": [
      "\u001b[1;31m---------------------------------------------------------------------------\u001b[0m",
      "\u001b[1;31mModuleNotFoundError\u001b[0m                       Traceback (most recent call last)",
      "Cell \u001b[1;32mIn[16], line 5\u001b[0m\n\u001b[0;32m      3\u001b[0m \u001b[38;5;28;01mimport\u001b[39;00m\u001b[38;5;250m \u001b[39m\u001b[38;5;21;01msys\u001b[39;00m\u001b[38;5;241m,\u001b[39m\u001b[38;5;250m \u001b[39m\u001b[38;5;21;01mos\u001b[39;00m\n\u001b[0;32m      4\u001b[0m sys\u001b[38;5;241m.\u001b[39mpath\u001b[38;5;241m.\u001b[39mappend(\u001b[38;5;124m'\u001b[39m\u001b[38;5;124m../dependencies/\u001b[39m\u001b[38;5;124m'\u001b[39m)\n\u001b[1;32m----> 5\u001b[0m \u001b[38;5;28;01mimport\u001b[39;00m\u001b[38;5;250m \u001b[39m\u001b[38;5;21;01mmfsetup\u001b[39;00m\n\u001b[0;32m      6\u001b[0m \u001b[38;5;28;01mimport\u001b[39;00m\u001b[38;5;250m \u001b[39m\u001b[38;5;21;01mflopy\u001b[39;00m\u001b[38;5;250m \u001b[39m\u001b[38;5;28;01mas\u001b[39;00m\u001b[38;5;250m \u001b[39m\u001b[38;5;21;01mfp\u001b[39;00m\n\u001b[0;32m      7\u001b[0m \u001b[38;5;28;01mimport\u001b[39;00m\u001b[38;5;250m \u001b[39m\u001b[38;5;21;01mflopy\u001b[39;00m\u001b[38;5;21;01m.\u001b[39;00m\u001b[38;5;21;01mutils\u001b[39;00m\u001b[38;5;250m \u001b[39m\u001b[38;5;28;01mas\u001b[39;00m\u001b[38;5;250m \u001b[39m\u001b[38;5;21;01mfu\u001b[39;00m\n",
      "File \u001b[1;32mE:\\15_REPOS\\d03_Beta-Me\\02_Symple_______________________\\Symple_2__prepro___\\../dependencies\\mfsetup\\__init__.py:5\u001b[0m\n\u001b[0;32m      3\u001b[0m __version__ \u001b[38;5;241m=\u001b[39m get_versions()[\u001b[38;5;124m'\u001b[39m\u001b[38;5;124mversion\u001b[39m\u001b[38;5;124m'\u001b[39m]\n\u001b[0;32m      4\u001b[0m \u001b[38;5;28;01mdel\u001b[39;00m get_versions\n\u001b[1;32m----> 5\u001b[0m \u001b[38;5;28;01mfrom\u001b[39;00m\u001b[38;5;250m \u001b[39m\u001b[38;5;21;01mmfsetup\u001b[39;00m\u001b[38;5;21;01m.\u001b[39;00m\u001b[38;5;21;01mfileio\u001b[39;00m\u001b[38;5;250m \u001b[39m\u001b[38;5;28;01mimport\u001b[39;00m load_modelgrid\n\u001b[0;32m      6\u001b[0m \u001b[38;5;28;01mfrom\u001b[39;00m\u001b[38;5;250m \u001b[39m\u001b[38;5;21;01mmfsetup\u001b[39;00m\u001b[38;5;21;01m.\u001b[39;00m\u001b[38;5;21;01mmf6model\u001b[39;00m\u001b[38;5;250m \u001b[39m\u001b[38;5;28;01mimport\u001b[39;00m MF6model\n\u001b[0;32m      7\u001b[0m \u001b[38;5;28;01mfrom\u001b[39;00m\u001b[38;5;250m \u001b[39m\u001b[38;5;21;01mmfsetup\u001b[39;00m\u001b[38;5;21;01m.\u001b[39;00m\u001b[38;5;21;01mmfnwtmodel\u001b[39;00m\u001b[38;5;250m \u001b[39m\u001b[38;5;28;01mimport\u001b[39;00m MFnwtModel\n",
      "File \u001b[1;32mE:\\15_REPOS\\d03_Beta-Me\\02_Symple_______________________\\Symple_2__prepro___\\../dependencies\\mfsetup\\fileio.py:12\u001b[0m\n\u001b[0;32m      9\u001b[0m \u001b[38;5;28;01mimport\u001b[39;00m\u001b[38;5;250m \u001b[39m\u001b[38;5;21;01mtime\u001b[39;00m\n\u001b[0;32m     10\u001b[0m \u001b[38;5;28;01mfrom\u001b[39;00m\u001b[38;5;250m \u001b[39m\u001b[38;5;21;01mpathlib\u001b[39;00m\u001b[38;5;250m \u001b[39m\u001b[38;5;28;01mimport\u001b[39;00m Path\n\u001b[1;32m---> 12\u001b[0m \u001b[38;5;28;01mimport\u001b[39;00m\u001b[38;5;250m \u001b[39m\u001b[38;5;21;01mflopy\u001b[39;00m\n\u001b[0;32m     13\u001b[0m \u001b[38;5;28;01mimport\u001b[39;00m\u001b[38;5;250m \u001b[39m\u001b[38;5;21;01mnumpy\u001b[39;00m\u001b[38;5;250m \u001b[39m\u001b[38;5;28;01mas\u001b[39;00m\u001b[38;5;250m \u001b[39m\u001b[38;5;21;01mnp\u001b[39;00m\n\u001b[0;32m     14\u001b[0m \u001b[38;5;28;01mimport\u001b[39;00m\u001b[38;5;250m \u001b[39m\u001b[38;5;21;01mpandas\u001b[39;00m\u001b[38;5;250m \u001b[39m\u001b[38;5;28;01mas\u001b[39;00m\u001b[38;5;250m \u001b[39m\u001b[38;5;21;01mpd\u001b[39;00m\n",
      "File \u001b[1;32mE:\\15_REPOS\\d03_Beta-Me\\02_Symple_______________________\\Symple_2__prepro___\\../dependencies\\flopy\\__init__.py:26\u001b[0m\n\u001b[0;32m     23\u001b[0m \u001b[38;5;28;01mfrom\u001b[39;00m\u001b[38;5;250m \u001b[39m\u001b[38;5;21;01m.\u001b[39;00m\u001b[38;5;21;01mversion\u001b[39;00m\u001b[38;5;250m \u001b[39m\u001b[38;5;28;01mimport\u001b[39;00m __version__, __author__, __author_email__\n\u001b[0;32m     25\u001b[0m \u001b[38;5;66;03m# imports\u001b[39;00m\n\u001b[1;32m---> 26\u001b[0m \u001b[38;5;28;01mfrom\u001b[39;00m\u001b[38;5;250m \u001b[39m\u001b[38;5;21;01m.\u001b[39;00m\u001b[38;5;250m \u001b[39m\u001b[38;5;28;01mimport\u001b[39;00m modflow\n\u001b[0;32m     27\u001b[0m \u001b[38;5;28;01mfrom\u001b[39;00m\u001b[38;5;250m \u001b[39m\u001b[38;5;21;01m.\u001b[39;00m\u001b[38;5;250m \u001b[39m\u001b[38;5;28;01mimport\u001b[39;00m mt3d\n\u001b[0;32m     28\u001b[0m \u001b[38;5;28;01mfrom\u001b[39;00m\u001b[38;5;250m \u001b[39m\u001b[38;5;21;01m.\u001b[39;00m\u001b[38;5;250m \u001b[39m\u001b[38;5;28;01mimport\u001b[39;00m seawat\n",
      "File \u001b[1;32mE:\\15_REPOS\\d03_Beta-Me\\02_Symple_______________________\\Symple_2__prepro___\\../dependencies\\flopy\\modflow\\__init__.py:1\u001b[0m\n\u001b[1;32m----> 1\u001b[0m \u001b[38;5;28;01mfrom\u001b[39;00m\u001b[38;5;250m \u001b[39m\u001b[38;5;21;01m.\u001b[39;00m\u001b[38;5;21;01mmf\u001b[39;00m\u001b[38;5;250m \u001b[39m\u001b[38;5;28;01mimport\u001b[39;00m Modflow\n\u001b[0;32m      2\u001b[0m \u001b[38;5;28;01mfrom\u001b[39;00m\u001b[38;5;250m \u001b[39m\u001b[38;5;21;01m.\u001b[39;00m\u001b[38;5;21;01mmfag\u001b[39;00m\u001b[38;5;250m \u001b[39m\u001b[38;5;28;01mimport\u001b[39;00m ModflowAg\n\u001b[0;32m      3\u001b[0m \u001b[38;5;28;01mfrom\u001b[39;00m\u001b[38;5;250m \u001b[39m\u001b[38;5;21;01m.\u001b[39;00m\u001b[38;5;21;01mmfbas\u001b[39;00m\u001b[38;5;250m \u001b[39m\u001b[38;5;28;01mimport\u001b[39;00m ModflowBas\n",
      "File \u001b[1;32mE:\\15_REPOS\\d03_Beta-Me\\02_Symple_______________________\\Symple_2__prepro___\\../dependencies\\flopy\\modflow\\mf.py:10\u001b[0m\n\u001b[0;32m      8\u001b[0m \u001b[38;5;28;01mimport\u001b[39;00m\u001b[38;5;250m \u001b[39m\u001b[38;5;21;01mflopy\u001b[39;00m\n\u001b[0;32m      9\u001b[0m \u001b[38;5;28;01mfrom\u001b[39;00m\u001b[38;5;250m \u001b[39m\u001b[38;5;21;01minspect\u001b[39;00m\u001b[38;5;250m \u001b[39m\u001b[38;5;28;01mimport\u001b[39;00m getfullargspec\n\u001b[1;32m---> 10\u001b[0m \u001b[38;5;28;01mfrom\u001b[39;00m\u001b[38;5;250m \u001b[39m\u001b[38;5;21;01m.\u001b[39;00m\u001b[38;5;21;01m.\u001b[39;00m\u001b[38;5;21;01mmbase\u001b[39;00m\u001b[38;5;250m \u001b[39m\u001b[38;5;28;01mimport\u001b[39;00m BaseModel\n\u001b[0;32m     11\u001b[0m \u001b[38;5;28;01mfrom\u001b[39;00m\u001b[38;5;250m \u001b[39m\u001b[38;5;21;01m.\u001b[39;00m\u001b[38;5;21;01m.\u001b[39;00m\u001b[38;5;21;01mpakbase\u001b[39;00m\u001b[38;5;250m \u001b[39m\u001b[38;5;28;01mimport\u001b[39;00m Package\n\u001b[0;32m     12\u001b[0m \u001b[38;5;28;01mfrom\u001b[39;00m\u001b[38;5;250m \u001b[39m\u001b[38;5;21;01m.\u001b[39;00m\u001b[38;5;21;01m.\u001b[39;00m\u001b[38;5;21;01mutils\u001b[39;00m\u001b[38;5;250m \u001b[39m\u001b[38;5;28;01mimport\u001b[39;00m mfreadnam\n",
      "File \u001b[1;32mE:\\15_REPOS\\d03_Beta-Me\\02_Symple_______________________\\Symple_2__prepro___\\../dependencies\\flopy\\mbase.py:18\u001b[0m\n\u001b[0;32m     16\u001b[0m \u001b[38;5;28;01mfrom\u001b[39;00m\u001b[38;5;250m \u001b[39m\u001b[38;5;21;01msubprocess\u001b[39;00m\u001b[38;5;250m \u001b[39m\u001b[38;5;28;01mimport\u001b[39;00m Popen, PIPE, STDOUT\n\u001b[0;32m     17\u001b[0m \u001b[38;5;28;01mimport\u001b[39;00m\u001b[38;5;250m \u001b[39m\u001b[38;5;21;01mcopy\u001b[39;00m\n\u001b[1;32m---> 18\u001b[0m \u001b[38;5;28;01mimport\u001b[39;00m\u001b[38;5;250m \u001b[39m\u001b[38;5;21;01mnumpy\u001b[39;00m\u001b[38;5;250m \u001b[39m\u001b[38;5;28;01mas\u001b[39;00m\u001b[38;5;250m \u001b[39m\u001b[38;5;21;01mnp\u001b[39;00m\n\u001b[0;32m     19\u001b[0m \u001b[38;5;28;01mfrom\u001b[39;00m\u001b[38;5;250m \u001b[39m\u001b[38;5;21;01mflopy\u001b[39;00m\u001b[38;5;250m \u001b[39m\u001b[38;5;28;01mimport\u001b[39;00m utils, discretization\n\u001b[0;32m     20\u001b[0m \u001b[38;5;28;01mfrom\u001b[39;00m\u001b[38;5;250m \u001b[39m\u001b[38;5;21;01m.\u001b[39;00m\u001b[38;5;21;01mversion\u001b[39;00m\u001b[38;5;250m \u001b[39m\u001b[38;5;28;01mimport\u001b[39;00m __version__\n",
      "\u001b[1;31mModuleNotFoundError\u001b[0m: No module named 'numpy'"
     ]
    }
   ],
   "source": [
    "from pathlib import Path\n",
    "datapath = Path('../data/sgn/')\n",
    "import sys, os\n",
    "sys.path.append('../dependencies/')\n",
    "import mfsetup\n",
    "import flopy as fp\n",
    "import flopy.utils as fu\n",
    "from flopy.utils.gridintersect import GridIntersect\n"
   ]
  },
  {
   "cell_type": "code",
   "execution_count": 15,
   "id": "cfb76408-0e15-47ee-8612-04c1754dc93b",
   "metadata": {},
   "outputs": [
    {
     "ename": "ModuleNotFoundError",
     "evalue": "No module named 'numpy'",
     "output_type": "error",
     "traceback": [
      "\u001b[1;31m---------------------------------------------------------------------------\u001b[0m",
      "\u001b[1;31mModuleNotFoundError\u001b[0m                       Traceback (most recent call last)",
      "Cell \u001b[1;32mIn[15], line 13\u001b[0m\n\u001b[0;32m     10\u001b[0m sys\u001b[38;5;241m.\u001b[39mpath\u001b[38;5;241m.\u001b[39mappend(\u001b[38;5;124m'\u001b[39m\u001b[38;5;124m../dependencies/\u001b[39m\u001b[38;5;124m'\u001b[39m)\n\u001b[0;32m     11\u001b[0m \u001b[38;5;66;03m#import numpy, warnings\u001b[39;00m\n\u001b[0;32m     12\u001b[0m \u001b[38;5;66;03m#numpy.warnings = warnings\u001b[39;00m\n\u001b[1;32m---> 13\u001b[0m \u001b[38;5;28;01mimport\u001b[39;00m\u001b[38;5;250m \u001b[39m\u001b[38;5;21;01mmfsetup\u001b[39;00m\n\u001b[0;32m     14\u001b[0m \u001b[38;5;28;01mimport\u001b[39;00m\u001b[38;5;250m \u001b[39m\u001b[38;5;21;01mflopy\u001b[39;00m\u001b[38;5;250m \u001b[39m\u001b[38;5;28;01mas\u001b[39;00m\u001b[38;5;250m \u001b[39m\u001b[38;5;21;01mfp\u001b[39;00m\n\u001b[0;32m     15\u001b[0m \u001b[38;5;28;01mimport\u001b[39;00m\u001b[38;5;250m \u001b[39m\u001b[38;5;21;01mflopy\u001b[39;00m\u001b[38;5;21;01m.\u001b[39;00m\u001b[38;5;21;01mutils\u001b[39;00m\u001b[38;5;250m \u001b[39m\u001b[38;5;28;01mas\u001b[39;00m\u001b[38;5;250m \u001b[39m\u001b[38;5;21;01mfu\u001b[39;00m\n",
      "File \u001b[1;32mE:\\15_REPOS\\d03_Beta-Me\\02_Symple_______________________\\Symple_2__prepro___\\../dependencies\\mfsetup\\__init__.py:5\u001b[0m\n\u001b[0;32m      3\u001b[0m __version__ \u001b[38;5;241m=\u001b[39m get_versions()[\u001b[38;5;124m'\u001b[39m\u001b[38;5;124mversion\u001b[39m\u001b[38;5;124m'\u001b[39m]\n\u001b[0;32m      4\u001b[0m \u001b[38;5;28;01mdel\u001b[39;00m get_versions\n\u001b[1;32m----> 5\u001b[0m \u001b[38;5;28;01mfrom\u001b[39;00m\u001b[38;5;250m \u001b[39m\u001b[38;5;21;01mmfsetup\u001b[39;00m\u001b[38;5;21;01m.\u001b[39;00m\u001b[38;5;21;01mfileio\u001b[39;00m\u001b[38;5;250m \u001b[39m\u001b[38;5;28;01mimport\u001b[39;00m load_modelgrid\n\u001b[0;32m      6\u001b[0m \u001b[38;5;28;01mfrom\u001b[39;00m\u001b[38;5;250m \u001b[39m\u001b[38;5;21;01mmfsetup\u001b[39;00m\u001b[38;5;21;01m.\u001b[39;00m\u001b[38;5;21;01mmf6model\u001b[39;00m\u001b[38;5;250m \u001b[39m\u001b[38;5;28;01mimport\u001b[39;00m MF6model\n\u001b[0;32m      7\u001b[0m \u001b[38;5;28;01mfrom\u001b[39;00m\u001b[38;5;250m \u001b[39m\u001b[38;5;21;01mmfsetup\u001b[39;00m\u001b[38;5;21;01m.\u001b[39;00m\u001b[38;5;21;01mmfnwtmodel\u001b[39;00m\u001b[38;5;250m \u001b[39m\u001b[38;5;28;01mimport\u001b[39;00m MFnwtModel\n",
      "File \u001b[1;32mE:\\15_REPOS\\d03_Beta-Me\\02_Symple_______________________\\Symple_2__prepro___\\../dependencies\\mfsetup\\fileio.py:12\u001b[0m\n\u001b[0;32m      9\u001b[0m \u001b[38;5;28;01mimport\u001b[39;00m\u001b[38;5;250m \u001b[39m\u001b[38;5;21;01mtime\u001b[39;00m\n\u001b[0;32m     10\u001b[0m \u001b[38;5;28;01mfrom\u001b[39;00m\u001b[38;5;250m \u001b[39m\u001b[38;5;21;01mpathlib\u001b[39;00m\u001b[38;5;250m \u001b[39m\u001b[38;5;28;01mimport\u001b[39;00m Path\n\u001b[1;32m---> 12\u001b[0m \u001b[38;5;28;01mimport\u001b[39;00m\u001b[38;5;250m \u001b[39m\u001b[38;5;21;01mflopy\u001b[39;00m\n\u001b[0;32m     13\u001b[0m \u001b[38;5;28;01mimport\u001b[39;00m\u001b[38;5;250m \u001b[39m\u001b[38;5;21;01mnumpy\u001b[39;00m\u001b[38;5;250m \u001b[39m\u001b[38;5;28;01mas\u001b[39;00m\u001b[38;5;250m \u001b[39m\u001b[38;5;21;01mnp\u001b[39;00m\n\u001b[0;32m     14\u001b[0m \u001b[38;5;28;01mimport\u001b[39;00m\u001b[38;5;250m \u001b[39m\u001b[38;5;21;01mpandas\u001b[39;00m\u001b[38;5;250m \u001b[39m\u001b[38;5;28;01mas\u001b[39;00m\u001b[38;5;250m \u001b[39m\u001b[38;5;21;01mpd\u001b[39;00m\n",
      "File \u001b[1;32mE:\\15_REPOS\\d03_Beta-Me\\02_Symple_______________________\\Symple_2__prepro___\\../dependencies\\flopy\\__init__.py:26\u001b[0m\n\u001b[0;32m     23\u001b[0m \u001b[38;5;28;01mfrom\u001b[39;00m\u001b[38;5;250m \u001b[39m\u001b[38;5;21;01m.\u001b[39;00m\u001b[38;5;21;01mversion\u001b[39;00m\u001b[38;5;250m \u001b[39m\u001b[38;5;28;01mimport\u001b[39;00m __version__, __author__, __author_email__\n\u001b[0;32m     25\u001b[0m \u001b[38;5;66;03m# imports\u001b[39;00m\n\u001b[1;32m---> 26\u001b[0m \u001b[38;5;28;01mfrom\u001b[39;00m\u001b[38;5;250m \u001b[39m\u001b[38;5;21;01m.\u001b[39;00m\u001b[38;5;250m \u001b[39m\u001b[38;5;28;01mimport\u001b[39;00m modflow\n\u001b[0;32m     27\u001b[0m \u001b[38;5;28;01mfrom\u001b[39;00m\u001b[38;5;250m \u001b[39m\u001b[38;5;21;01m.\u001b[39;00m\u001b[38;5;250m \u001b[39m\u001b[38;5;28;01mimport\u001b[39;00m mt3d\n\u001b[0;32m     28\u001b[0m \u001b[38;5;28;01mfrom\u001b[39;00m\u001b[38;5;250m \u001b[39m\u001b[38;5;21;01m.\u001b[39;00m\u001b[38;5;250m \u001b[39m\u001b[38;5;28;01mimport\u001b[39;00m seawat\n",
      "File \u001b[1;32mE:\\15_REPOS\\d03_Beta-Me\\02_Symple_______________________\\Symple_2__prepro___\\../dependencies\\flopy\\modflow\\__init__.py:1\u001b[0m\n\u001b[1;32m----> 1\u001b[0m \u001b[38;5;28;01mfrom\u001b[39;00m\u001b[38;5;250m \u001b[39m\u001b[38;5;21;01m.\u001b[39;00m\u001b[38;5;21;01mmf\u001b[39;00m\u001b[38;5;250m \u001b[39m\u001b[38;5;28;01mimport\u001b[39;00m Modflow\n\u001b[0;32m      2\u001b[0m \u001b[38;5;28;01mfrom\u001b[39;00m\u001b[38;5;250m \u001b[39m\u001b[38;5;21;01m.\u001b[39;00m\u001b[38;5;21;01mmfag\u001b[39;00m\u001b[38;5;250m \u001b[39m\u001b[38;5;28;01mimport\u001b[39;00m ModflowAg\n\u001b[0;32m      3\u001b[0m \u001b[38;5;28;01mfrom\u001b[39;00m\u001b[38;5;250m \u001b[39m\u001b[38;5;21;01m.\u001b[39;00m\u001b[38;5;21;01mmfbas\u001b[39;00m\u001b[38;5;250m \u001b[39m\u001b[38;5;28;01mimport\u001b[39;00m ModflowBas\n",
      "File \u001b[1;32mE:\\15_REPOS\\d03_Beta-Me\\02_Symple_______________________\\Symple_2__prepro___\\../dependencies\\flopy\\modflow\\mf.py:10\u001b[0m\n\u001b[0;32m      8\u001b[0m \u001b[38;5;28;01mimport\u001b[39;00m\u001b[38;5;250m \u001b[39m\u001b[38;5;21;01mflopy\u001b[39;00m\n\u001b[0;32m      9\u001b[0m \u001b[38;5;28;01mfrom\u001b[39;00m\u001b[38;5;250m \u001b[39m\u001b[38;5;21;01minspect\u001b[39;00m\u001b[38;5;250m \u001b[39m\u001b[38;5;28;01mimport\u001b[39;00m getfullargspec\n\u001b[1;32m---> 10\u001b[0m \u001b[38;5;28;01mfrom\u001b[39;00m\u001b[38;5;250m \u001b[39m\u001b[38;5;21;01m.\u001b[39;00m\u001b[38;5;21;01m.\u001b[39;00m\u001b[38;5;21;01mmbase\u001b[39;00m\u001b[38;5;250m \u001b[39m\u001b[38;5;28;01mimport\u001b[39;00m BaseModel\n\u001b[0;32m     11\u001b[0m \u001b[38;5;28;01mfrom\u001b[39;00m\u001b[38;5;250m \u001b[39m\u001b[38;5;21;01m.\u001b[39;00m\u001b[38;5;21;01m.\u001b[39;00m\u001b[38;5;21;01mpakbase\u001b[39;00m\u001b[38;5;250m \u001b[39m\u001b[38;5;28;01mimport\u001b[39;00m Package\n\u001b[0;32m     12\u001b[0m \u001b[38;5;28;01mfrom\u001b[39;00m\u001b[38;5;250m \u001b[39m\u001b[38;5;21;01m.\u001b[39;00m\u001b[38;5;21;01m.\u001b[39;00m\u001b[38;5;21;01mutils\u001b[39;00m\u001b[38;5;250m \u001b[39m\u001b[38;5;28;01mimport\u001b[39;00m mfreadnam\n",
      "File \u001b[1;32mE:\\15_REPOS\\d03_Beta-Me\\02_Symple_______________________\\Symple_2__prepro___\\../dependencies\\flopy\\mbase.py:18\u001b[0m\n\u001b[0;32m     16\u001b[0m \u001b[38;5;28;01mfrom\u001b[39;00m\u001b[38;5;250m \u001b[39m\u001b[38;5;21;01msubprocess\u001b[39;00m\u001b[38;5;250m \u001b[39m\u001b[38;5;28;01mimport\u001b[39;00m Popen, PIPE, STDOUT\n\u001b[0;32m     17\u001b[0m \u001b[38;5;28;01mimport\u001b[39;00m\u001b[38;5;250m \u001b[39m\u001b[38;5;21;01mcopy\u001b[39;00m\n\u001b[1;32m---> 18\u001b[0m \u001b[38;5;28;01mimport\u001b[39;00m\u001b[38;5;250m \u001b[39m\u001b[38;5;21;01mnumpy\u001b[39;00m\u001b[38;5;250m \u001b[39m\u001b[38;5;28;01mas\u001b[39;00m\u001b[38;5;250m \u001b[39m\u001b[38;5;21;01mnp\u001b[39;00m\n\u001b[0;32m     19\u001b[0m \u001b[38;5;28;01mfrom\u001b[39;00m\u001b[38;5;250m \u001b[39m\u001b[38;5;21;01mflopy\u001b[39;00m\u001b[38;5;250m \u001b[39m\u001b[38;5;28;01mimport\u001b[39;00m utils, discretization\n\u001b[0;32m     20\u001b[0m \u001b[38;5;28;01mfrom\u001b[39;00m\u001b[38;5;250m \u001b[39m\u001b[38;5;21;01m.\u001b[39;00m\u001b[38;5;21;01mversion\u001b[39;00m\u001b[38;5;250m \u001b[39m\u001b[38;5;28;01mimport\u001b[39;00m __version__\n",
      "\u001b[1;31mModuleNotFoundError\u001b[0m: No module named 'numpy'"
     ]
    }
   ],
   "source": [
    "#import shapefile as sf\n",
    "#import pandas as pd\n",
    "#import matplotlib.pyplot as plt\n",
    "#import numpy as np\n",
    "from pathlib import Path\n",
    "#from shapely.geometry import Point, LineString\n",
    "#import geopandas as gp\n",
    "datapath = Path('../data/sgn/')\n",
    "import sys, os\n",
    "sys.path.append('../dependencies/')\n",
    "#import numpy, warnings\n",
    "#numpy.warnings = warnings\n",
    "import mfsetup\n",
    "import flopy as fp\n",
    "import flopy.utils as fu\n",
    "from flopy.utils.gridintersect import GridIntersect\n"
   ]
  },
  {
   "cell_type": "raw",
   "id": "4dcede58-487c-4801-ae70-1f8bee88b8d6",
   "metadata": {},
   "source": [
    "https://stackoverflow.com/questions/1108974/switch-versions-of-python\n",
    "Are you running Python 3.10 or newer? Switch to an older Python version, or edit the code, .....  3.11.11  3.12.7(anaconda)"
   ]
  },
  {
   "cell_type": "code",
   "execution_count": 2,
   "id": "4e938b93",
   "metadata": {},
   "outputs": [
    {
     "name": "stdout",
     "output_type": "stream",
     "text": [
      "loading configuration file sgn_config.yml...\n"
     ]
    },
    {
     "ename": "AttributeError",
     "evalue": "module 'collections' has no attribute 'Mapping'",
     "output_type": "error",
     "traceback": [
      "\u001b[1;31m---------------------------------------------------------------------------\u001b[0m",
      "\u001b[1;31mAttributeError\u001b[0m                            Traceback (most recent call last)",
      "Cell \u001b[1;32mIn[2], line 1\u001b[0m\n\u001b[1;32m----> 1\u001b[0m m \u001b[38;5;241m=\u001b[39m \u001b[43mmfsetup\u001b[49m\u001b[38;5;241;43m.\u001b[39;49m\u001b[43mMF6model\u001b[49m\u001b[38;5;241;43m.\u001b[39;49m\u001b[43msetup_from_yaml\u001b[49m\u001b[43m(\u001b[49m\u001b[38;5;124;43m'\u001b[39;49m\u001b[38;5;124;43msgn_config.yml\u001b[39;49m\u001b[38;5;124;43m'\u001b[39;49m\u001b[43m)\u001b[49m  \u001b[38;5;66;03m# ___________________________________ sgn_mfsetup ___ Folder\u001b[39;00m\n",
      "File \u001b[1;32mE:\\15_REPOS\\d03_Beta-Me\\02_Symple_______________________\\Symple_2__prepro___\\../dependencies\\mfsetup\\mfmodel.py:1598\u001b[0m, in \u001b[0;36mMFsetupMixin.setup_from_yaml\u001b[1;34m(cls, yamlfile, verbose)\u001b[0m\n\u001b[0;32m   1584\u001b[0m \u001b[38;5;129m@classmethod\u001b[39m\n\u001b[0;32m   1585\u001b[0m \u001b[38;5;28;01mdef\u001b[39;00m \u001b[38;5;21msetup_from_yaml\u001b[39m(\u001b[38;5;28mcls\u001b[39m, yamlfile, verbose\u001b[38;5;241m=\u001b[39m\u001b[38;5;28;01mFalse\u001b[39;00m):\n\u001b[0;32m   1586\u001b[0m \u001b[38;5;250m    \u001b[39m\u001b[38;5;124;03m\"\"\"Make a model from scratch, using information in a yamlfile.\u001b[39;00m\n\u001b[0;32m   1587\u001b[0m \n\u001b[0;32m   1588\u001b[0m \u001b[38;5;124;03m    Parameters\u001b[39;00m\n\u001b[1;32m   (...)\u001b[0m\n\u001b[0;32m   1596\u001b[0m \u001b[38;5;124;03m    m : model instance\u001b[39;00m\n\u001b[0;32m   1597\u001b[0m \u001b[38;5;124;03m    \"\"\"\u001b[39;00m\n\u001b[1;32m-> 1598\u001b[0m     cfg \u001b[38;5;241m=\u001b[39m \u001b[38;5;28;43mcls\u001b[39;49m\u001b[38;5;241;43m.\u001b[39;49m\u001b[43mload_cfg\u001b[49m\u001b[43m(\u001b[49m\u001b[43myamlfile\u001b[49m\u001b[43m,\u001b[49m\u001b[43m \u001b[49m\u001b[43mverbose\u001b[49m\u001b[38;5;241;43m=\u001b[39;49m\u001b[43mverbose\u001b[49m\u001b[43m)\u001b[49m\n\u001b[0;32m   1599\u001b[0m     \u001b[38;5;28;01mreturn\u001b[39;00m \u001b[38;5;28mcls\u001b[39m\u001b[38;5;241m.\u001b[39msetup_from_cfg(cfg, verbose\u001b[38;5;241m=\u001b[39mverbose)\n",
      "File \u001b[1;32mE:\\15_REPOS\\d03_Beta-Me\\02_Symple_______________________\\Symple_2__prepro___\\../dependencies\\mfsetup\\mfmodel.py:1582\u001b[0m, in \u001b[0;36mMFsetupMixin.load_cfg\u001b[1;34m(cls, yamlfile, verbose)\u001b[0m\n\u001b[0;32m   1567\u001b[0m \u001b[38;5;129m@classmethod\u001b[39m\n\u001b[0;32m   1568\u001b[0m \u001b[38;5;28;01mdef\u001b[39;00m \u001b[38;5;21mload_cfg\u001b[39m(\u001b[38;5;28mcls\u001b[39m, yamlfile, verbose\u001b[38;5;241m=\u001b[39m\u001b[38;5;28;01mFalse\u001b[39;00m):\n\u001b[0;32m   1569\u001b[0m \u001b[38;5;250m    \u001b[39m\u001b[38;5;124;03m\"\"\"Loads a configuration file, with default settings\u001b[39;00m\n\u001b[0;32m   1570\u001b[0m \u001b[38;5;124;03m    specific to the MFnwtModel or MF6model class.\u001b[39;00m\n\u001b[0;32m   1571\u001b[0m \n\u001b[1;32m   (...)\u001b[0m\n\u001b[0;32m   1580\u001b[0m \u001b[38;5;124;03m    cfg : dict (configuration dictionary)\u001b[39;00m\n\u001b[0;32m   1581\u001b[0m \u001b[38;5;124;03m    \"\"\"\u001b[39;00m\n\u001b[1;32m-> 1582\u001b[0m     \u001b[38;5;28;01mreturn\u001b[39;00m \u001b[43mload_cfg\u001b[49m\u001b[43m(\u001b[49m\u001b[43myamlfile\u001b[49m\u001b[43m,\u001b[49m\u001b[43m \u001b[49m\u001b[43mverbose\u001b[49m\u001b[38;5;241;43m=\u001b[39;49m\u001b[43mverbose\u001b[49m\u001b[43m,\u001b[49m\u001b[43m \u001b[49m\u001b[43mdefault_file\u001b[49m\u001b[38;5;241;43m=\u001b[39;49m\u001b[38;5;28;43mcls\u001b[39;49m\u001b[38;5;241;43m.\u001b[39;49m\u001b[43mdefault_file\u001b[49m\u001b[43m)\u001b[49m\n",
      "File \u001b[1;32mE:\\15_REPOS\\d03_Beta-Me\\02_Symple_______________________\\Symple_2__prepro___\\../dependencies\\mfsetup\\fileio.py:218\u001b[0m, in \u001b[0;36mload_cfg\u001b[1;34m(cfgfile, verbose, default_file)\u001b[0m\n\u001b[0;32m    215\u001b[0m cfg \u001b[38;5;241m=\u001b[39m default_cfg\u001b[38;5;241m.\u001b[39mcopy()\n\u001b[0;32m    216\u001b[0m user_specified_cfg \u001b[38;5;241m=\u001b[39m load(cfgfile)\n\u001b[1;32m--> 218\u001b[0m \u001b[43mupdate\u001b[49m\u001b[43m(\u001b[49m\u001b[43mcfg\u001b[49m\u001b[43m,\u001b[49m\u001b[43m \u001b[49m\u001b[43muser_specified_cfg\u001b[49m\u001b[43m)\u001b[49m\n\u001b[0;32m    219\u001b[0m cfg[\u001b[38;5;124m'\u001b[39m\u001b[38;5;124mmodel\u001b[39m\u001b[38;5;124m'\u001b[39m]\u001b[38;5;241m.\u001b[39mupdate({\u001b[38;5;124m'\u001b[39m\u001b[38;5;124mverbose\u001b[39m\u001b[38;5;124m'\u001b[39m: verbose})\n\u001b[0;32m    220\u001b[0m cfg[\u001b[38;5;124m'\u001b[39m\u001b[38;5;124mfilename\u001b[39m\u001b[38;5;124m'\u001b[39m] \u001b[38;5;241m=\u001b[39m os\u001b[38;5;241m.\u001b[39mpath\u001b[38;5;241m.\u001b[39mabspath(cfgfile)\n",
      "File \u001b[1;32mE:\\15_REPOS\\d03_Beta-Me\\02_Symple_______________________\\Symple_2__prepro___\\../dependencies\\mfsetup\\utils.py:35\u001b[0m, in \u001b[0;36mupdate\u001b[1;34m(d, u)\u001b[0m\n\u001b[0;32m     30\u001b[0m \u001b[38;5;250m\u001b[39m\u001b[38;5;124;03m\"\"\"Recursively update a dictionary of varying depth\u001b[39;00m\n\u001b[0;32m     31\u001b[0m \u001b[38;5;124;03md with items from u.\u001b[39;00m\n\u001b[0;32m     32\u001b[0m \u001b[38;5;124;03mfrom: https://stackoverflow.com/questions/3232943/update-value-of-a-nested-dictionary-of-varying-depth\u001b[39;00m\n\u001b[0;32m     33\u001b[0m \u001b[38;5;124;03m\"\"\"\u001b[39;00m\n\u001b[0;32m     34\u001b[0m \u001b[38;5;28;01mfor\u001b[39;00m k, v \u001b[38;5;129;01min\u001b[39;00m u\u001b[38;5;241m.\u001b[39mitems():\n\u001b[1;32m---> 35\u001b[0m     \u001b[38;5;28;01mif\u001b[39;00m \u001b[38;5;28misinstance\u001b[39m(d, \u001b[43mcollections\u001b[49m\u001b[38;5;241;43m.\u001b[39;49m\u001b[43mMapping\u001b[49m):\n\u001b[0;32m     36\u001b[0m         \u001b[38;5;28;01mif\u001b[39;00m \u001b[38;5;28misinstance\u001b[39m(v, collections\u001b[38;5;241m.\u001b[39mMapping):\n\u001b[0;32m     37\u001b[0m             d[k] \u001b[38;5;241m=\u001b[39m update(d\u001b[38;5;241m.\u001b[39mget(k, {}), v)\n",
      "\u001b[1;31mAttributeError\u001b[0m: module 'collections' has no attribute 'Mapping'"
     ]
    }
   ],
   "source": [
    "m = mfsetup.MF6model.setup_from_yaml('sgn_config.yml')  # ___________________________________ sgn_mfsetup ___ Folder"
   ]
  },
  {
   "cell_type": "markdown",
   "id": "a1c6ec94",
   "metadata": {},
   "source": [
    "`modflow-setup` returns a `flopy` model object, which we captured in the variable `m`. Now we can make use of it both to write out and run the model, but also we need to do a couple `flopy` things to add packages that are not yet supported in `modflow-setup`"
   ]
  },
  {
   "cell_type": "code",
   "execution_count": null,
   "id": "8ce8c061",
   "metadata": {},
   "outputs": [],
   "source": [
    "m"
   ]
  },
  {
   "cell_type": "code",
   "execution_count": null,
   "id": "2f85d9d5",
   "metadata": {},
   "outputs": [],
   "source": [
    "m.write_input()"
   ]
  },
  {
   "cell_type": "markdown",
   "id": "1f6231e1",
   "metadata": {},
   "source": [
    "set up an intersection object"
   ]
  },
  {
   "cell_type": "code",
   "execution_count": null,
   "id": "06c36717",
   "metadata": {},
   "outputs": [],
   "source": [
    "ix = GridIntersect(m.modelgrid)"
   ]
  },
  {
   "cell_type": "markdown",
   "id": "420d6942",
   "metadata": {},
   "source": [
    "need to add a GHB package - manually for now"
   ]
  },
  {
   "cell_type": "code",
   "execution_count": null,
   "id": "74784609",
   "metadata": {},
   "outputs": [],
   "source": [
    "# read in the boundary polygon\n",
    "boundary = gp.read_file(datapath / 'shp' / 'Model_domain.shp')\n",
    "\n",
    "# create a polyline from the polygon\n",
    "boundary_line =  LineString([Point(i) for i in boundary.iloc[0].geometry.exterior.coords])\n",
    "boundary_line\n",
    "\n",
    "# instersect the bounding polygon with the grid to get boundary cells\n",
    "ix_boundary = ix.intersect(boundary_line.buffer(25, resolution=4))"
   ]
  },
  {
   "cell_type": "code",
   "execution_count": null,
   "id": "433def84",
   "metadata": {},
   "outputs": [],
   "source": [
    "ix_df = pd.DataFrame.from_records(ix_boundary)\n",
    "ix_df.head()"
   ]
  },
  {
   "cell_type": "code",
   "execution_count": null,
   "id": "38616ea9",
   "metadata": {},
   "outputs": [],
   "source": [
    "# read in the september 2019 measured heads to make the GHB data\n",
    "sep19_head = fu.Raster.load(datapath / 'raster' / 'heads_sep2019.asc')\n",
    "plt.imshow(sep19_head.get_array(1))\n",
    "plt.colorbar()"
   ]
  },
  {
   "cell_type": "code",
   "execution_count": null,
   "id": "113499a4",
   "metadata": {},
   "outputs": [],
   "source": [
    "# resample these heads to the model\n",
    "head = sep19_head.resample_to_grid(m.modelgrid,band=sep19_head.bands[0], method=\"nearest\")"
   ]
  },
  {
   "cell_type": "code",
   "execution_count": null,
   "id": "a7f0101f",
   "metadata": {},
   "outputs": [],
   "source": [
    "# make the GHB stress period data\n",
    "ghb_spd = []\n",
    "for icpl in ix_boundary.cellids:\n",
    "    cond = 100.0\n",
    "    for layer in [0,2]:\n",
    "        # note - structured grid so *icpl unpacks row/col\n",
    "        ghb_spd.append([(layer, *icpl), head[icpl], cond, f'GHB{layer+1}'])\n",
    "ghb_spd"
   ]
  },
  {
   "cell_type": "code",
   "execution_count": null,
   "id": "77e9d192",
   "metadata": {},
   "outputs": [],
   "source": [
    "# create the package and add it to the model object\n",
    "ghb = fp.mf6.ModflowGwfghb(model=m, \n",
    "                                stress_period_data=ghb_spd, \n",
    "                                boundnames=True) "
   ]
  },
  {
   "cell_type": "markdown",
   "id": "73561332",
   "metadata": {},
   "source": [
    "## also need to add potentially flowing multi-aquifer wells manually for now "
   ]
  },
  {
   "cell_type": "code",
   "execution_count": null,
   "id": "0b308848",
   "metadata": {},
   "outputs": [],
   "source": [
    "# read in the zero-q wells\n",
    "maw_wells = pd.read_csv(datapath / 'wells_zero.csv', index_col = 0)\n",
    "maw_wells.head()"
   ]
  },
  {
   "cell_type": "markdown",
   "id": "5de52dcf",
   "metadata": {},
   "source": [
    "### reset the index for MAW wells to be sequential only among the remaining wells"
   ]
  },
  {
   "cell_type": "code",
   "execution_count": null,
   "id": "e84f7730",
   "metadata": {},
   "outputs": [],
   "source": [
    "# get the row/column location for each well\n",
    "maw_wells['cellid']=[ix.intersect(Point(x,y))[0][0] \n",
    "                     for x,y in zip(maw_wells.x,maw_wells.y)]\n",
    "maw_wells.head()"
   ]
  },
  {
   "cell_type": "code",
   "execution_count": null,
   "id": "ff980116",
   "metadata": {},
   "outputs": [],
   "source": [
    "# also get the top, bottom, and starting head of each cell containing a well\n",
    "maw_wells['top'] = [m.dis.top.array[r,c] for r,c in maw_wells.cellid]\n",
    "maw_wells['bot'] = [m.dis.botm.array[-1,r,c] for r,c in maw_wells.cellid]\n",
    "maw_wells['strt'] = [m.ic.strt.array[0,r,c] for r,c in maw_wells.cellid]\n"
   ]
  },
  {
   "cell_type": "markdown",
   "id": "f6de5882",
   "metadata": {},
   "source": [
    "## now make the package data\n",
    "## this takes the following format\n",
    "`packagedata : [wellno, radius, bottom, strt, condeqn, ngwfnodes, aux,  boundname]`\n",
    "where:\n",
    "* `wellno` is just a sequential number used later to identify the wells\n",
    "* `radius` is the radius in model units (assuming 10cm for now)\n",
    "* `bottom` is the bottom elevation of the well\n",
    "    * note: for `bottom` we are setting the wells to span the entire aquifer\n",
    "* `strt` is the starting head for the well (using the model starting head)\n",
    "* `condeq` is how conductance is calculated (we will use THIEM)\n",
    "* `ngwfnodes` is the number of nodes the well will be connected to. In our case, this is 3 - one for each layer that the cell is in\n",
    "* `aux` is the number of auxiliary values - we will have 0\n",
    "* `boundname` is a name for the well. We will use the name from the original data"
   ]
  },
  {
   "cell_type": "code",
   "execution_count": null,
   "id": "bd9befc4",
   "metadata": {},
   "outputs": [],
   "source": [
    "maw_radius = 0.1"
   ]
  },
  {
   "cell_type": "code",
   "execution_count": null,
   "id": "a023350d",
   "metadata": {},
   "outputs": [],
   "source": [
    "maw_packagedata = []\n",
    "for wellno,cwell in maw_wells.iterrows():\n",
    "    maw_packagedata.append([\n",
    "        wellno, maw_radius, cwell.bot, cwell.strt, 'THIEM', 3\n",
    "    ])"
   ]
  },
  {
   "cell_type": "code",
   "execution_count": null,
   "id": "dacce4a0",
   "metadata": {},
   "outputs": [],
   "source": [
    "maw_packagedata"
   ]
  },
  {
   "cell_type": "markdown",
   "id": "ebbc2292",
   "metadata": {},
   "source": [
    "## now we need to set up the connection data\n",
    "## this take the following format\n",
    "`connectiondata : [wellno, icon, cellid, scrn_top, scrn_bot, hk_skin, radius_skin]`\n",
    "where:\n",
    "* `wellno` is the well number, as defined above\n",
    "* `icon` is the number of connections (3 in our case)\n",
    "* `cellid` is 3 integers indicating layer, row, and column\n",
    "* `scrn_top` is the top of the screen (the top of the model in our case)\n",
    "* `scrn_bot` is the bottom of the screen (the bottom of the model in our case)\n",
    "    * note: the previous elevations are ignored when THIEM is used to calculate conductance as MODFLOW6 uses the top and bottom of the cell automagically\n",
    "* `hk_skin` and `radius_skin` are also ignored when THIEM is used to calculate conductance\n"
   ]
  },
  {
   "cell_type": "code",
   "execution_count": null,
   "id": "51310519",
   "metadata": {},
   "outputs": [],
   "source": [
    "maw_connections = []\n",
    "for wellno,cwell in maw_wells.iterrows():\n",
    "    for clay in range(3):\n",
    "        maw_connections.append([\n",
    "            wellno, clay, clay, cwell.cellid[0], cwell.cellid[1], cwell.top, cwell.bot, -999, -999\n",
    "        ])\n"
   ]
  },
  {
   "cell_type": "code",
   "execution_count": null,
   "id": "b700adb4",
   "metadata": {},
   "outputs": [],
   "source": [
    "maw_connections"
   ]
  },
  {
   "cell_type": "code",
   "execution_count": null,
   "id": "5c45931d",
   "metadata": {},
   "outputs": [],
   "source": [
    "# explicitly set all pumping rates to 0\n",
    "maw_spd = [[i, 'rate', 0] for i in range(len(maw_wells))]"
   ]
  },
  {
   "cell_type": "markdown",
   "id": "cc85cf68",
   "metadata": {},
   "source": [
    "### now set the MAW package into the model if requested"
   ]
  },
  {
   "cell_type": "code",
   "execution_count": null,
   "id": "22b675a9",
   "metadata": {},
   "outputs": [],
   "source": [
    "include_MAW = True"
   ]
  },
  {
   "cell_type": "code",
   "execution_count": null,
   "id": "8dba3392",
   "metadata": {},
   "outputs": [],
   "source": [
    "if include_MAW:\n",
    "    maw = fp.mf6.ModflowGwfmaw(\n",
    "            model=m,\n",
    "            no_well_storage=True,\n",
    "            nmawwells=len(maw_wells),\n",
    "            packagedata=maw_packagedata,\n",
    "            connectiondata=maw_connections,\n",
    "            perioddata=maw_spd,\n",
    "        )\n",
    "    # set up some observations\n",
    "    obs_file = f\"{m.name}.maw.obs\"\n",
    "    csv_file = f\"{obs_file}.csv\"\n",
    "    head_obs =  [['head','head', i+1] for i in range(len(maw_wells))]\n",
    "    Qobs = []\n",
    "    for i in range(len(maw_wells)):\n",
    "        Qobs.extend([[f'Q.{i}_lay{j}', 'maw', i+1, j+1 ] for j in range(3)])\n",
    "    obs_dict = {\n",
    "        csv_file: \n",
    "        head_obs + Qobs\n",
    "    }\n",
    "    maw.obs.initialize(filename = obs_file, digits  = 8, print_input=True, continuous=obs_dict)"
   ]
  },
  {
   "cell_type": "code",
   "execution_count": null,
   "id": "37dcb490",
   "metadata": {},
   "outputs": [],
   "source": [
    "m.write_input()"
   ]
  },
  {
   "cell_type": "code",
   "execution_count": null,
   "id": "c6741479",
   "metadata": {},
   "outputs": [],
   "source": [
    "m.name"
   ]
  },
  {
   "cell_type": "code",
   "execution_count": null,
   "id": "ea8eba2b",
   "metadata": {},
   "outputs": [],
   "source": [
    "m.dis.export('testgrid.shp')"
   ]
  },
  {
   "cell_type": "markdown",
   "id": "d22d8bb0",
   "metadata": {},
   "source": [
    "## quick hack on IMS to turn off PTC"
   ]
  },
  {
   "cell_type": "code",
   "execution_count": null,
   "id": "93c68454",
   "metadata": {},
   "outputs": [],
   "source": [
    "ims = [i.rstrip() for i in open('../../models/sgn_mfsetup/sgn_50_sim.ims').readlines()]\n",
    "ims"
   ]
  },
  {
   "cell_type": "code",
   "execution_count": null,
   "id": "b0554837",
   "metadata": {},
   "outputs": [],
   "source": [
    "with open('../../models/sgn_mfsetup/sgn_50_sim.ims', 'w') as ofp:\n",
    "    [ofp.write(\"{}\\n\".format(\n",
    "        line.replace('END options', '  NO_PTC ALL\\nEND options'))) for line in ims]"
   ]
  },
  {
   "cell_type": "code",
   "execution_count": null,
   "id": "33bd5d04",
   "metadata": {},
   "outputs": [],
   "source": [
    "m.simulation.run_simulation()"
   ]
  },
  {
   "cell_type": "code",
   "execution_count": null,
   "id": "05d6aa79",
   "metadata": {},
   "outputs": [],
   "source": [
    "top = m.dis.top.array"
   ]
  },
  {
   "cell_type": "code",
   "execution_count": null,
   "id": "dddcf740",
   "metadata": {},
   "outputs": [],
   "source": [
    "plt.imshow(top)"
   ]
  },
  {
   "cell_type": "code",
   "execution_count": null,
   "id": "d2d29541",
   "metadata": {},
   "outputs": [],
   "source": [
    "h = fu.binaryfile.HeadFile('../../models/sgn_mfsetup/sgn_50.hds').get_alldata()"
   ]
  },
  {
   "cell_type": "code",
   "execution_count": null,
   "id": "9f019e26",
   "metadata": {},
   "outputs": [],
   "source": [
    "h.shape"
   ]
  },
  {
   "cell_type": "code",
   "execution_count": null,
   "id": "90faeb30",
   "metadata": {},
   "outputs": [],
   "source": [
    "plt.imshow(np.squeeze(h)[0][0])\n",
    "plt.colorbar()"
   ]
  },
  {
   "cell_type": "code",
   "execution_count": null,
   "id": "6a5c5822",
   "metadata": {},
   "outputs": [],
   "source": [
    "plt.imshow(np.squeeze(h)[1][0])\n",
    "plt.colorbar()"
   ]
  },
  {
   "cell_type": "markdown",
   "id": "00986cde",
   "metadata": {},
   "source": [
    "### make sure the barrier well shows up in the second stress period"
   ]
  },
  {
   "cell_type": "code",
   "execution_count": null,
   "id": "368af558",
   "metadata": {},
   "outputs": [],
   "source": [
    "plt.imshow(np.squeeze(h)[1][0]-np.squeeze(h)[0][0])\n",
    "plt.colorbar()"
   ]
  },
  {
   "cell_type": "markdown",
   "id": "c4fedc40",
   "metadata": {},
   "source": [
    "### check flooding"
   ]
  },
  {
   "cell_type": "code",
   "execution_count": null,
   "id": "935d533d",
   "metadata": {},
   "outputs": [],
   "source": [
    "flooded = top-np.squeeze(h)[0][0]\n",
    "plt.imshow(flooded)\n",
    "plt.colorbar()"
   ]
  },
  {
   "cell_type": "code",
   "execution_count": null,
   "id": "8788850c",
   "metadata": {},
   "outputs": [],
   "source": [
    "flooded[flooded>0] = np.nan\n",
    "plt.imshow(flooded)\n",
    "plt.colorbar()"
   ]
  },
  {
   "cell_type": "code",
   "execution_count": null,
   "id": "f4cc1582",
   "metadata": {},
   "outputs": [],
   "source": [
    "df1,df2 = fu.Mf6ListBudget('../../models/sgn_mfsetup/sgn_50.list').get_dataframes(\n",
    "    start_datetime='2020-12-31')"
   ]
  },
  {
   "cell_type": "code",
   "execution_count": null,
   "id": "8b68b919",
   "metadata": {},
   "outputs": [],
   "source": [
    "df1"
   ]
  },
  {
   "cell_type": "code",
   "execution_count": null,
   "id": "d592657b",
   "metadata": {},
   "outputs": [],
   "source": [
    "df2"
   ]
  },
  {
   "cell_type": "markdown",
   "id": "eea3a63d",
   "metadata": {},
   "source": [
    "## check out the MAW obs"
   ]
  },
  {
   "cell_type": "code",
   "execution_count": null,
   "id": "eb61771b",
   "metadata": {},
   "outputs": [],
   "source": [
    "if include_MAW:\n",
    "    maw_df = pd.read_csv('../../models/sgn_mfsetup/sgn_50.maw.obs.csv', index_col=0)"
   ]
  },
  {
   "cell_type": "code",
   "execution_count": null,
   "id": "ae12702c",
   "metadata": {},
   "outputs": [],
   "source": [
    "maw_df"
   ]
  },
  {
   "cell_type": "code",
   "execution_count": null,
   "id": "4531b653",
   "metadata": {},
   "outputs": [],
   "source": []
  }
 ],
 "metadata": {
  "kernelspec": {
   "display_name": "BetaPyy9.0",
   "language": "python",
   "name": "betapyy9.0"
  },
  "language_info": {
   "codemirror_mode": {
    "name": "ipython",
    "version": 3
   },
   "file_extension": ".py",
   "mimetype": "text/x-python",
   "name": "python",
   "nbconvert_exporter": "python",
   "pygments_lexer": "ipython3",
   "version": "3.9.8"
  }
 },
 "nbformat": 4,
 "nbformat_minor": 5
}
