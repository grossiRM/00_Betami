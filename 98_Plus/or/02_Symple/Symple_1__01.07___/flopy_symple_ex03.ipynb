{
 "cells": [
  {
   "cell_type": "markdown",
   "metadata": {},
   "source": [
    "# __03__ `    MFDataScalar     `"
   ]
  },
  {
   "cell_type": "markdown",
   "metadata": {},
   "source": [
    "### FloPy stores MODFLOW 6 model data in data objects. "
   ]
  },
  {
   "cell_type": "code",
   "execution_count": 1,
   "metadata": {},
   "outputs": [],
   "source": [
    "import os \n",
    "import sys\n",
    "sys.path.append('../dependencies/')\n",
    "import flopy\n",
    "import matplotlib.pyplot as plt"
   ]
  },
  {
   "cell_type": "code",
   "execution_count": null,
   "metadata": {},
   "outputs": [],
   "source": [
    "exe_name = os.path.join('..','bin', 'mf6.exe')\n",
    "org_workspace = os.path.join('..','models','symple_ex02')             # from 02\n",
    "workspace = os.path.join('..','models','symple_ex03')\n",
    "sim = flopy.mf6.MFSimulation.load(sim_name='symple_ex03', exe_name=exe_name, sim_ws=org_workspace)\n",
    "sim.set_sim_path(workspace)           # ____________________________ # \n",
    "gwf = sim.get_model(\"symp01\")\n",
    "sim.write_simulation()"
   ]
  },
  {
   "cell_type": "raw",
   "metadata": {},
   "source": [
    "k = [5, 0.1, 10]                           # option 02 (beta)  \n",
    "icelltype = [1, 0, 0]\n",
    "npf = flopy.mf6.ModflowGwfnpf(gwf, icelltype=icelltype, k=k, save_flows=True, save_specific_discharge=True)"
   ]
  },
  {
   "cell_type": "code",
   "execution_count": 3,
   "metadata": {},
   "outputs": [
    {
     "name": "stdout",
     "output_type": "stream",
     "text": [
      "['DIS', 'IC', 'NPF', 'RCH', 'RIV_0', 'OC']\n"
     ]
    }
   ],
   "source": [
    "pkg_list = gwf.get_package_list()\n",
    "print(pkg_list)"
   ]
  },
  {
   "cell_type": "markdown",
   "metadata": {},
   "source": [
    "__NPF__ (true__false)  _____________ __to__ `         save_specific_discharge               `"
   ]
  },
  {
   "cell_type": "code",
   "execution_count": 5,
   "metadata": {},
   "outputs": [
    {
     "data": {
      "text/plain": [
       "Layer_1{constant 5.0}\n",
       "Layer_2{constant 0.1}\n",
       "Layer_3{constant 10.0}"
      ]
     },
     "execution_count": 5,
     "metadata": {},
     "output_type": "execute_result"
    }
   ],
   "source": [
    "npf = gwf.get_package('npf')               # option 01 (beta)            # NPF package\n",
    "npf.k"
   ]
  },
  {
   "cell_type": "code",
   "execution_count": 6,
   "metadata": {},
   "outputs": [
    {
     "data": {
      "text/plain": [
       "True"
      ]
     },
     "execution_count": 6,
     "metadata": {},
     "output_type": "execute_result"
    }
   ],
   "source": [
    "npf.save_specific_discharge.get_data()"
   ]
  },
  {
   "cell_type": "code",
   "execution_count": null,
   "metadata": {},
   "outputs": [],
   "source": [
    "npf.save_specific_discharge = False\n",
    "npf.save_specific_discharge.get_data()"
   ]
  },
  {
   "cell_type": "raw",
   "metadata": {},
   "source": [
    "ims = flopy.mf6.ModflowIms(sim, pname=\"ims\", complexity=\"SIMPLE\", linear_acceleration=\"BICGSTAB\",)\n",
    "sim.register_ims_package(ims, [gwf.name])"
   ]
  },
  {
   "cell_type": "code",
   "execution_count": null,
   "metadata": {},
   "outputs": [],
   "source": [
    "ims.complexity.get_data()\n",
    "ims.complexity = 'moderate'\n",
    "ims.complexity.get_data()"
   ]
  },
  {
   "cell_type": "code",
   "execution_count": null,
   "metadata": {},
   "outputs": [],
   "source": [
    "sim.write_simulation()"
   ]
  }
 ],
 "metadata": {
  "interpreter": {
   "hash": "227dbd2fab8825bf983f485131159c82d0301ad97e15b736ca5b3747747c9c56"
  },
  "kernelspec": {
   "display_name": "Python 3 (ipykernel)",
   "language": "python",
   "name": "python3"
  },
  "language_info": {
   "codemirror_mode": {
    "name": "ipython",
    "version": 3
   },
   "file_extension": ".py",
   "mimetype": "text/x-python",
   "name": "python",
   "nbconvert_exporter": "python",
   "pygments_lexer": "ipython3",
   "version": "3.11.11"
  }
 },
 "nbformat": 4,
 "nbformat_minor": 4
}
