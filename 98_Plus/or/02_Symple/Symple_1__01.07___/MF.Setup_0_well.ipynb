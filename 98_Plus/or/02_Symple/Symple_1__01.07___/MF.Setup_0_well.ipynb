{
 "cells": [
  {
   "cell_type": "code",
   "execution_count": 28,
   "id": "c5bbc91a",
   "metadata": {},
   "outputs": [],
   "source": [
    "import sys, os\n",
    "import pandas as pd\n",
    "sys.path.append('../../dependencies/')\n",
    "import flopy as fp\n",
    "import numpy as np "
   ]
  },
  {
   "cell_type": "code",
   "execution_count": 15,
   "id": "eccee367",
   "metadata": {
    "collapsed": true,
    "jupyter": {
     "outputs_hidden": true,
     "source_hidden": true
    }
   },
   "outputs": [
    {
     "name": "stdout",
     "output_type": "stream",
     "text": [
      "loading simulation...\n",
      "  loading simulation name file...\n",
      "  loading tdis package...\n",
      "  loading model gwf6...\n",
      "    loading package disv...\n",
      "    skipping package ic...\n",
      "    skipping package npf...\n",
      "    skipping package rch...\n",
      "    skipping package riv...\n",
      "    skipping package drn...\n",
      "    loading package wel...\n",
      "    skipping package ghb...\n",
      "    skipping package obs...\n",
      "    skipping package oc...\n",
      "    skipping package sto...\n",
      "  loading model gwt6...\n",
      "    loading package disv...\n",
      "    skipping package ic...\n",
      "    skipping package adv...\n",
      "    skipping package dsp...\n",
      "    skipping package mst...\n",
      "    skipping package ssm...\n",
      "    skipping package oc...\n",
      "    skipping package cnc...\n",
      "    skipping package obs...\n",
      "    skipping package gwf6-gwt6...\n",
      "    skipping package ims6...\n",
      "    skipping package ims6...\n"
     ]
    }
   ],
   "source": [
    "# s = MFSimulation.load('my simulation', 'simulation.nam')  \n",
    "sim = fp.mf6.MFSimulation.load(sim_ws = '../models/sgn_model_1layer_Hydraulic_Barrier', load_only=['wel'])"
   ]
  },
  {
   "cell_type": "code",
   "execution_count": 4,
   "id": "70ce4a69",
   "metadata": {
    "jupyter": {
     "source_hidden": true
    }
   },
   "outputs": [],
   "source": [
    "gwf = sim.get_model()\n",
    "gwf.wel.stress_period_data.data.keys()"
   ]
  },
  {
   "cell_type": "code",
   "execution_count": 6,
   "id": "e20a645a",
   "metadata": {
    "collapsed": true,
    "jupyter": {
     "outputs_hidden": true
    }
   },
   "outputs": [
    {
     "data": {
      "text/plain": [
       "rec.array([((0, 6230),  0.    , 'well-p1_ln'),\n",
       "           ((0, 6229),  0.    , 'well-p2_ln'),\n",
       "           ((0, 6236),  0.    , 'well-p3_ln'),\n",
       "           ((0, 6233),  0.    , 'well-p4_ln'),\n",
       "           ((0, 6665),  0.    , 'well-p5_ln'),\n",
       "           ((0, 7115),  0.    , 'well-p6_ln'),\n",
       "           ((0, 7575),  0.    , 'well-p7_ln'),\n",
       "           ((0, 7561),  0.    , 'well-p8_ln'),\n",
       "           ((0, 7101),  0.    , 'well-p9_ln'),\n",
       "           ((0, 7098),  0.    , 'well-p10_ln'),\n",
       "           ((0, 7081),  0.    , 'well-p11_ln'),\n",
       "           ((0, 11830),  0.    , 'well-r1_ln'),\n",
       "           ((0, 11843),  0.    , 'well-r2_ln'),\n",
       "           ((0, 12397),  0.    , 'well-r3_ln'),\n",
       "           ((0, 12409),  0.    , 'well-r4_ln'),\n",
       "           ((0, 12422),  0.    , 'well-r5_ln'),\n",
       "           ((0, 12969),  0.    , 'well-r6_ln'),\n",
       "           ((0, 12976),  0.    , 'well-r7_ln'),\n",
       "           ((0, 12989),  0.    , 'well-r8_ln'),\n",
       "           ((0, 13515),  0.    , 'well-r9_ln'),\n",
       "           ((0, 13522),  0.    , 'well-r10_ln'),\n",
       "           ((0, 6639),  0.    , 'well-p12_ln'),\n",
       "           ((0, 14785),  0.    , 'well-s'),\n",
       "           ((0, 15280),  0.    , 'well-p1_ex'),\n",
       "           ((0, 15281),  0.    , 'well-p2_ex'),\n",
       "           ((0, 15281),  0.    , 'well-p3_ex'),\n",
       "           ((0, 15282),  0.    , 'well-p4_ex'),\n",
       "           ((0, 16632),  0.    , 'well-r1_ex'),\n",
       "           ((0, 16635),  0.    , 'well-r2_ex'),\n",
       "           ((0, 16635),  0.    , 'well-r3_ex'),\n",
       "           ((0, 16634),  0.    , 'well-r4_ex'),\n",
       "           ((0, 16637),  0.    , 'well-r5_ex'),\n",
       "           ((0, 15731),  0.    , 'well-p1_sky'),\n",
       "           ((0, 15734),  0.    , 'well-p2_sky'),\n",
       "           ((0, 15735),  0.    , 'well-p3_sky'),\n",
       "           ((0, 15273),  0.    , 'well-p4_sky'),\n",
       "           ((0, 16616),  0.    , 'well-r1_sky'),\n",
       "           ((0, 17012),  0.    , 'well-r2_sky'),\n",
       "           ((0, 17011),  0.    , 'well-r3_sky'),\n",
       "           ((0, 17014),  0.    , 'well-r4_sky'),\n",
       "           ((0, 11693),  0.    , 'well-pc2_ams'),\n",
       "           ((0, 12518),  0.    , 'well-prof_p2'),\n",
       "           ((0, 12841),  0.    , 'well-pc3_ams'),\n",
       "           ((0, 14784),  0.    , 'well-p1_s1'),\n",
       "           ((0, 14784),  0.    , 'well-p2_s1'),\n",
       "           ((0, 15258),  0.    , 'well-p3_s1'),\n",
       "           ((0, 15258),  0.    , 'well-p4_s1'),\n",
       "           ((0, 16176),  0.    , 'well-r1_s1'),\n",
       "           ((0, 16176),  0.    , 'well-r2_s1'),\n",
       "           ((0, 16174),  0.    , 'well-r3_s1'),\n",
       "           ((0, 16174),  0.    , 'well-r4_s1'),\n",
       "           ((0, 3117), -0.005 , 'well-636'),\n",
       "           ((0, 2749), -0.005 , 'well-637'),\n",
       "           ((0, 2531), -0.02  , 'well-826'),\n",
       "           ((0, 2038), -0.0214, 'well-828'),\n",
       "           ((0, 3878), -0.003 , 'well-830'),\n",
       "           ((0, 2298), -0.05  , 'well-833'),\n",
       "           ((0, 585),  0.    , 'well-838'),\n",
       "           ((0, 4540),  0.    , 'well-878'),\n",
       "           ((0, 7027), -0.005 , 'well-2503'),\n",
       "           ((0, 7462),  0.    , 'well-2505'),\n",
       "           ((0, 2010), -0.01  , 'well-2550'),\n",
       "           ((0, 2256), -0.008 , 'well-2551'),\n",
       "           ((0, 2137), -0.012 , 'well-2559'),\n",
       "           ((0, 645), -0.0225, 'well-4740'),\n",
       "           ((0, 645), -0.0225, 'well-4741'),\n",
       "           ((0, 5260),  0.    , 'well-5196'),\n",
       "           ((0, 8231), -0.008 , 'well-21/5'),\n",
       "           ((0, 7745), -0.008 , 'well-21/6'),\n",
       "           ((0, 18906),  0.    , 'well-5352/1-2'),\n",
       "           ((0, 9316), -0.008 , 'well-21/14'),\n",
       "           ((0, 10445), -0.008 , 'well-21/16'),\n",
       "           ((0, 16611),  0.    , 'well-5257/1'),\n",
       "           ((0, 17012),  0.    , 'well-5257/2'),\n",
       "           ((0, 9225),  0.    , 'well-5426/p1-p2'),\n",
       "           ((0, 9230),  0.    , 'well-5426/r1-r2-r3'),\n",
       "           ((0, 1919), -0.008 , 'well-5600/p1'),\n",
       "           ((0, 2048), -0.008 , 'well-5600/p2'),\n",
       "           ((0, 2173), -0.008 , 'well-5600/p3'),\n",
       "           ((0, 2169),  0.006 , 'well-5600/r1'),\n",
       "           ((0, 2169),  0.006 , 'well-5600/r2'),\n",
       "           ((0, 2295),  0.006 , 'well-5600/r3'),\n",
       "           ((0, 2295),  0.006 , 'well-5600/r4'),\n",
       "           ((0, 2527),  0.024 , 'well-5600/sca'),\n",
       "           ((0, 2287), -0.0214, 'well-5636/1'),\n",
       "           ((0, 1909),  0.0214, 'well-5636/2'),\n",
       "           ((0, 2161),  0.0214, 'well-5636/3'),\n",
       "           ((0, 2528), -0.006 , 'well-5686/p1'),\n",
       "           ((0, 2528), -0.006 , 'well-5686/p2'),\n",
       "           ((0, 2412),  0.006 , 'well-5686/r1'),\n",
       "           ((0, 2528),  0.006 , 'well-5686/r2'),\n",
       "           ((0, 2527),  0.012 , 'well-5686/sca'),\n",
       "           ((0, 2644),  0.    , 'well-5700/p1'),\n",
       "           ((0, 2644),  0.    , 'well-5700/r1'),\n",
       "           ((0, 2528),  0.008 , 'well-5700/sca'),\n",
       "           ((0, 6432),  0.    , 'well-5740/p1'),\n",
       "           ((0, 6025),  0.    , 'well-5740/p2'),\n",
       "           ((0, 6026),  0.    , 'well-5740/p3'),\n",
       "           ((0, 6027),  0.    , 'well-5740/p4'),\n",
       "           ((0, 6432),  0.    , 'well-5740/p5'),\n",
       "           ((0, 6433),  0.    , 'well-5740/p6'),\n",
       "           ((0, 8811),  0.    , 'well-5740/r1'),\n",
       "           ((0, 8811),  0.    , 'well-5740/r2'),\n",
       "           ((0, 9363),  0.    , 'well-5740/r3'),\n",
       "           ((0, 8812),  0.    , 'well-5740/r4'),\n",
       "           ((0, 9364),  0.    , 'well-5740/r5'),\n",
       "           ((0, 8815),  0.    , 'well-5740/r6'),\n",
       "           ((0, 8815),  0.    , 'well-5740/r7'),\n",
       "           ((0, 8814),  0.    , 'well-5740/r8'),\n",
       "           ((0, 14785),  0.006 , 'well-5883/sca'),\n",
       "           ((0, 2246),  0.    , 'well-5884/2'),\n",
       "           ((0, 2246),  0.    , 'well-5884/3'),\n",
       "           ((0, 502),  0.    , 'well-80/1'),\n",
       "           ((0, 502),  0.    , 'well-80/2'),\n",
       "           ((0, 628),  0.    , 'well-80/3'),\n",
       "           ((0, 628),  0.    , 'well-80/4'),\n",
       "           ((0, 629),  0.    , 'well-80/5'),\n",
       "           ((0, 629),  0.    , 'well-80/6'),\n",
       "           ((0, 629),  0.    , 'well-80/7'),\n",
       "           ((0, 630),  0.    , 'well-80/8'),\n",
       "           ((0, 2379),  0.    , 'well-82/1'),\n",
       "           ((0, 2494),  0.    , 'well-82/2'),\n",
       "           ((0, 2379),  0.    , 'well-82/3'),\n",
       "           ((0, 2495),  0.    , 'well-82/4'),\n",
       "           ((0, 6604),  0.    , 'well-sc_bonf'),\n",
       "           ((0, 19989),  0.    , 'well-6'),\n",
       "           ((0, 19630),  0.    , 'well-77'),\n",
       "           ((0, 19868),  0.    , 'well-78'),\n",
       "           ((0, 19745),  0.    , 'well-81'),\n",
       "           ((0, 727), -0.0035, 'well-5814/1'),\n",
       "           ((0, 727),  0.    , 'well-5814/2'),\n",
       "           ((0, 13252),  0.    , 'well-p3_s2'),\n",
       "           ((0, 13252),  0.    , 'well-p2_s2'),\n",
       "           ((0, 13252),  0.    , 'well-p1_s2'),\n",
       "           ((0, 14293),  0.    , 'well-r1_s2'),\n",
       "           ((0, 14293),  0.    , 'well-r2_s2'),\n",
       "           ((0, 14293),  0.    , 'well-r3_s2'),\n",
       "           ((0, 14292),  0.    , 'well-r4_s2'),\n",
       "           ((0, 9249), -0.0095, 'well-19/16'),\n",
       "           ((0, 8671), -0.0095, 'well-19/18'),\n",
       "           ((0, 9255), -0.0095, 'well-19/19'),\n",
       "           ((0, 8689), -0.0095, 'well-19/20'),\n",
       "           ((0, 7191), -0.0095, 'well-19/21'),\n",
       "           ((0, 11259), -0.03  , 'hydraulic_barrier')],\n",
       "          dtype=[('cellid', 'O'), ('q', '<f8'), ('boundname', 'O')])"
      ]
     },
     "execution_count": 6,
     "metadata": {},
     "output_type": "execute_result"
    }
   ],
   "source": [
    "gwf.wel.stress_period_data.data[0]"
   ]
  },
  {
   "cell_type": "code",
   "execution_count": 25,
   "id": "f45f465b",
   "metadata": {},
   "outputs": [
    {
     "data": {
      "text/html": [
       "<div>\n",
       "<style scoped>\n",
       "    .dataframe tbody tr th:only-of-type {\n",
       "        vertical-align: middle;\n",
       "    }\n",
       "\n",
       "    .dataframe tbody tr th {\n",
       "        vertical-align: top;\n",
       "    }\n",
       "\n",
       "    .dataframe thead th {\n",
       "        text-align: right;\n",
       "    }\n",
       "</style>\n",
       "<table border=\"1\" class=\"dataframe\">\n",
       "  <thead>\n",
       "    <tr style=\"text-align: right;\">\n",
       "      <th></th>\n",
       "      <th>cellid</th>\n",
       "      <th>q</th>\n",
       "      <th>boundname</th>\n",
       "    </tr>\n",
       "  </thead>\n",
       "  <tbody>\n",
       "    <tr>\n",
       "      <th>139</th>\n",
       "      <td>(0, 8671)</td>\n",
       "      <td>-0.0095</td>\n",
       "      <td>well-19/18</td>\n",
       "    </tr>\n",
       "    <tr>\n",
       "      <th>140</th>\n",
       "      <td>(0, 9255)</td>\n",
       "      <td>-0.0095</td>\n",
       "      <td>well-19/19</td>\n",
       "    </tr>\n",
       "    <tr>\n",
       "      <th>141</th>\n",
       "      <td>(0, 8689)</td>\n",
       "      <td>-0.0095</td>\n",
       "      <td>well-19/20</td>\n",
       "    </tr>\n",
       "    <tr>\n",
       "      <th>142</th>\n",
       "      <td>(0, 7191)</td>\n",
       "      <td>-0.0095</td>\n",
       "      <td>well-19/21</td>\n",
       "    </tr>\n",
       "    <tr>\n",
       "      <th>143</th>\n",
       "      <td>(0, 11259)</td>\n",
       "      <td>-0.0300</td>\n",
       "      <td>hydraulic_barrier</td>\n",
       "    </tr>\n",
       "  </tbody>\n",
       "</table>\n",
       "</div>"
      ],
      "text/plain": [
       "         cellid       q          boundname\n",
       "139   (0, 8671) -0.0095         well-19/18\n",
       "140   (0, 9255) -0.0095         well-19/19\n",
       "141   (0, 8689) -0.0095         well-19/20\n",
       "142   (0, 7191) -0.0095         well-19/21\n",
       "143  (0, 11259) -0.0300  hydraulic_barrier"
      ]
     },
     "execution_count": 25,
     "metadata": {},
     "output_type": "execute_result"
    }
   ],
   "source": [
    "spd = pd.DataFrame.from_records(gwf.wel.stress_period_data.data[0])      \n",
    "spd.to_csv(\"spd___________________.csv\")\n",
    "spd.tail()                                               # ____________ numpy Recarray to pandas DataFrame ____________"
   ]
  },
  {
   "cell_type": "code",
   "execution_count": 22,
   "id": "12086f68",
   "metadata": {
    "collapsed": true,
    "jupyter": {
     "outputs_hidden": true,
     "source_hidden": true
    }
   },
   "outputs": [
    {
     "data": {
      "text/plain": [
       "array([[113.17749023, 112.95309448, 112.82367706, ...,  99.97387695,\n",
       "         99.11410522,  98.89460754],\n",
       "       [ 62.76613235,  62.47645187,  62.20778275, ...,  52.99921036,\n",
       "         52.95099258,  52.88257599]])"
      ]
     },
     "execution_count": 22,
     "metadata": {},
     "output_type": "execute_result"
    }
   ],
   "source": [
    "gwf.modelgrid.top_botm"
   ]
  },
  {
   "cell_type": "code",
   "execution_count": 33,
   "id": "60314e6b-5966-4710-8eec-c26482d9dd8e",
   "metadata": {},
   "outputs": [
    {
     "data": {
      "text/plain": [
       "array([[113, 112, 112, ...,  99,  99,  98],\n",
       "       [ 62,  62,  62, ...,  52,  52,  52]], dtype=uint8)"
      ]
     },
     "execution_count": 33,
     "metadata": {},
     "output_type": "execute_result"
    }
   ],
   "source": [
    "p = gwf.modelgrid.top_botm\n",
    "p2 = np.array(list(p), dtype='uint8')  # 'float32'\n",
    "p2"
   ]
  },
  {
   "cell_type": "markdown",
   "id": "865defb7",
   "metadata": {},
   "source": [
    "# **[Link](https://docs.python.org/3/tutorial/datastructures.html#list-comprehensions)**"
   ]
  },
  {
   "cell_type": "code",
   "execution_count": 23,
   "id": "de05826f",
   "metadata": {},
   "outputs": [
    {
     "data": {
      "text/plain": [
       "[0, 1, 8, 27, 64]"
      ]
     },
     "execution_count": 23,
     "metadata": {},
     "output_type": "execute_result"
    }
   ],
   "source": [
    "[i**3 for i in range(5)]                                          # Wells () | GRID "
   ]
  },
  {
   "cell_type": "code",
   "execution_count": null,
   "id": "6b556c94",
   "metadata": {},
   "outputs": [],
   "source": [
    "spd['layer'] = [i[0] for i in spd.cellid]                         # Wells ()\n",
    "spd['cell'] = [i[1] for i in spd.cellid]\n",
    "spd['laytop'] = gwf.modelgrid.top_botm[spd.layer,spd.cell]\n",
    "spd['laybot'] = gwf.modelgrid.top_botm[spd.layer+1,spd.cell]\n",
    "spd['laymidpt'] = spd.laytop-(spd.laytop - spd.laybot)/2\n",
    "# spd"
   ]
  },
  {
   "cell_type": "code",
   "execution_count": 36,
   "id": "95d010e0-467c-4c6d-b41d-4a9e592f1d89",
   "metadata": {},
   "outputs": [],
   "source": [
    "spd2 = spd\n",
    "spd2.to_csv(\"spd_2__________________.csv\")\n",
    "# spd2.tail() "
   ]
  },
  {
   "cell_type": "markdown",
   "id": "143ef750",
   "metadata": {},
   "source": [
    "### **Boundname ___ Rootname ___ New boundname**"
   ]
  },
  {
   "cell_type": "code",
   "execution_count": 39,
   "id": "09352124",
   "metadata": {},
   "outputs": [
    {
     "data": {
      "text/plain": [
       "'well-p1_ln'"
      ]
     },
     "execution_count": 39,
     "metadata": {},
     "output_type": "execute_result"
    }
   ],
   "source": [
    "spd.iloc[0].boundname"
   ]
  },
  {
   "cell_type": "code",
   "execution_count": 45,
   "id": "5ba7acd9",
   "metadata": {},
   "outputs": [
    {
     "data": {
      "text/plain": [
       "'p1_ln'"
      ]
     },
     "execution_count": 45,
     "metadata": {},
     "output_type": "execute_result"
    }
   ],
   "source": [
    "spd['rootname'] = [i.replace('\\x00','').replace(\"well-\",\"\") for i in spd.boundname]\n",
    "spd.iloc[0].rootname            # spd.dtypes"
   ]
  },
  {
   "cell_type": "code",
   "execution_count": 43,
   "id": "66298c15-67cf-45b1-a165-7266d0e1ee9b",
   "metadata": {},
   "outputs": [],
   "source": [
    "spd3 = spd2                                     # _______ Beta\n",
    "spd3.to_csv(\"spd_3__________________.csv\")\n",
    "# spd3.tail() "
   ]
  },
  {
   "cell_type": "markdown",
   "id": "1965fca5",
   "metadata": {},
   "source": [
    "### finally, let's add the layer number to each name in the `boundname` column"
   ]
  },
  {
   "cell_type": "code",
   "execution_count": 46,
   "id": "15dbb8c6",
   "metadata": {},
   "outputs": [],
   "source": [
    "spd.boundname = [f'{i.rstrip()}__{lay}' for i,lay in zip(spd.rootname,spd.layer)]            "
   ]
  },
  {
   "cell_type": "code",
   "execution_count": 48,
   "id": "0687e2e5",
   "metadata": {},
   "outputs": [],
   "source": [
    "# spd\n",
    "spd4 = spd3                                     # _______ Beta\n",
    "spd4.to_csv(\"spd_4__________________.csv\")\n",
    "# spd4.tail() "
   ]
  },
  {
   "cell_type": "markdown",
   "id": "747159d0",
   "metadata": {},
   "source": [
    "### ...and save this out to a CSV file for use with `modflow-setup`"
   ]
  },
  {
   "cell_type": "code",
   "execution_count": 50,
   "id": "77f90537",
   "metadata": {},
   "outputs": [],
   "source": [
    "spd.to_csv('../data/sgn/wells_with_elev.dat')"
   ]
  },
  {
   "cell_type": "code",
   "execution_count": 51,
   "id": "57a22b00-db08-40fd-a740-4a8332a8f9ff",
   "metadata": {},
   "outputs": [],
   "source": [
    "spd.to_csv(\"spd_00__________________.csv\")"
   ]
  }
 ],
 "metadata": {
  "kernelspec": {
   "display_name": "Python 3 (ipykernel)",
   "language": "python",
   "name": "python3"
  },
  "language_info": {
   "codemirror_mode": {
    "name": "ipython",
    "version": 3
   },
   "file_extension": ".py",
   "mimetype": "text/x-python",
   "name": "python",
   "nbconvert_exporter": "python",
   "pygments_lexer": "ipython3",
   "version": "3.11.11"
  }
 },
 "nbformat": 4,
 "nbformat_minor": 5
}
