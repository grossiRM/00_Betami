{
 "cells": [
  {
   "cell_type": "markdown",
   "metadata": {},
   "source": [
    "# __06__ `     OBS    `"
   ]
  },
  {
   "cell_type": "code",
   "execution_count": 2,
   "metadata": {},
   "outputs": [],
   "source": [
    "import os \n",
    "import sys\n",
    "sys.path.append('../dependencies/')\n",
    "import flopy\n",
    "import numpy as np\n",
    "import matplotlib.pyplot as plt"
   ]
  },
  {
   "cell_type": "code",
   "execution_count": 3,
   "metadata": {},
   "outputs": [],
   "source": [
    "# simulation\n",
    "sim_name = 'symple_ex06'\n",
    "exe_name = os.path.join('..','bin', 'mf6.exe')\n",
    "workspace = os.path.join('..','models','symple_ex06')\n",
    "\n",
    "sim = flopy.mf6.MFSimulation(sim_name=sim_name, exe_name=exe_name, version=\"mf6\",  sim_ws=workspace)"
   ]
  },
  {
   "cell_type": "markdown",
   "metadata": {},
   "source": [
    "Change the TDIS perioddata."
   ]
  },
  {
   "cell_type": "code",
   "execution_count": 4,
   "metadata": {},
   "outputs": [],
   "source": [
    "perioddata = [(1.0, 1, 1.0), (365, 12, 1.0)] \n",
    "nper = len(perioddata)\n",
    "time_units = 'days'\n",
    "tdis = flopy.mf6.ModflowTdis(sim, pname=\"tdis\", nper=nper,  perioddata=perioddata,  time_units=time_units)"
   ]
  },
  {
   "cell_type": "code",
   "execution_count": null,
   "metadata": {},
   "outputs": [],
   "source": [
    "# tdis\n",
    "time_units = 'days'\n",
    "tdis = flopy.mf6.ModflowTdis(sim, pname=\"tdis\",\n",
    "                                  nper=nper, \n",
    "                                  perioddata=perioddata, \n",
    "                                  time_units=time_units)"
   ]
  },
  {
   "cell_type": "code",
   "execution_count": 5,
   "metadata": {},
   "outputs": [],
   "source": [
    "model_name = 'symp06'\n",
    "gwf = flopy.mf6.ModflowGwf(sim, modelname=model_name, save_flows=True, print_flows=True)\n",
    "ims = flopy.mf6.ModflowIms(sim, pname=\"ims\", complexity=\"SIMPLE\",linear_acceleration=\"BICGSTAB\",)\n",
    "sim.register_ims_package(ims, [gwf.name])"
   ]
  },
  {
   "cell_type": "code",
   "execution_count": 8,
   "metadata": {},
   "outputs": [],
   "source": [
    "length_units = \"METERS\"\n",
    "length_units,  nlay,Lx,Ly,  delr,delc = \"METERS\",   3,1000,1500,   100,100      # print(f'Cell size:{delr} x {delc}')\n",
    "top, botm = 50, [40, 35, 0]\n",
    "ncol, nrow = 100,100            # ______________  int(Lx/delc) 15 , int(Ly/delr)  10\n",
    "dis = flopy.mf6.ModflowGwfdis(gwf, nlay=nlay, nrow=nrow, ncol=ncol, delr=delr, delc=delc, top=top, botm=botm)"
   ]
  },
  {
   "cell_type": "markdown",
   "metadata": {},
   "source": [
    "__IC__ + __K__  + __RCH__"
   ]
  },
  {
   "cell_type": "code",
   "execution_count": 14,
   "metadata": {},
   "outputs": [
    {
     "name": "stdout",
     "output_type": "stream",
     "text": [
      "WARNING: Package with type ic already exists. Replacing existing package.\n",
      "WARNING: Package with type npf already exists. Replacing existing package.\n",
      "WARNING: Package with name rch already exists. Replacing existing package.\n",
      "WARNING: Package with type sto already exists. Replacing existing package.\n"
     ]
    }
   ],
   "source": [
    "strt = np.full((nlay, nrow, ncol), top)\n",
    "ic = flopy.mf6.ModflowGwfic(gwf, pname=\"ic\", strt=strt)\n",
    "\n",
    "k, icelltype  = [5, 0.1, 10],  [1, 0, 0]\n",
    "npf = flopy.mf6.ModflowGwfnpf(gwf, icelltype=icelltype, k=k,  save_flows=True,  save_specific_discharge=True)\n",
    "\n",
    "recharge = 50/1000/365\n",
    "rcha = flopy.mf6.ModflowGwfrcha(gwf, pname='rch', recharge=recharge)\n",
    "\n",
    "wel_spd = {0:[],   1:  [    ((2, 5, 3), -100),    ((2, 10, 6), -50)  ]    }\n",
    "wel = flopy.mf6.ModflowGwfwel(gwf, stress_period_data=wel_spd, print_input=True, print_flows=True, save_flows=True)\n",
    "\n",
    "ss, sy  = nlay * [1e-5], nlay * [0.2]          # (sy libre)\n",
    "\n",
    "sto = flopy.mf6.ModflowGwfsto(gwf, steady_state={0:True},  transient={1:True}, iconvert = [1, 0, 0], ss=ss,  sy=sy, save_flows=True)"
   ]
  },
  {
   "cell_type": "code",
   "execution_count": 12,
   "metadata": {},
   "outputs": [],
   "source": [
    "headfile = f\"{gwf.name}.hds\"\n",
    "head_filerecord = [headfile]\n",
    "\n",
    "budgetfile = f\"{gwf.name}.cbb\"\n",
    "budget_filerecord = [budgetfile]\n",
    "\n",
    "saverecord = [(\"HEAD\", \"ALL\"), (\"BUDGET\", \"ALL\")]\n",
    "printrecord = [(\"HEAD\", \"LAST\")]\n",
    "\n",
    "oc = flopy.mf6.ModflowGwfoc(gwf,          saverecord=saverecord,  head_filerecord=head_filerecord, \n",
    "                            budget_filerecord=budget_filerecord,  printrecord=printrecord)"
   ]
  },
  {
   "cell_type": "markdown",
   "metadata": {},
   "source": [
    "# **OBS, ...  to a Stress Package**"
   ]
  },
  {
   "cell_type": "code",
   "execution_count": 15,
   "metadata": {},
   "outputs": [],
   "source": [
    "riv_row = 7\n",
    "stage = top - 5\n",
    "rbot = botm[0]\n",
    "cond = 0.1 * delr*delc/1\n",
    "\n",
    "riv_spd = []\n",
    "for col in range(ncol): riv_spd.append(((0, riv_row, col), stage, cond, rbot, 'river_bc'))\n",
    "\n",
    "riv = flopy.mf6.ModflowGwfriv(gwf, stress_period_data=riv_spd, boundnames=True)"
   ]
  },
  {
   "cell_type": "code",
   "execution_count": 18,
   "metadata": {},
   "outputs": [],
   "source": [
    "riv_obs = {\"riv_obs.csv\": [(\"river\", \"RIV\", \"river_bc\"), (\"riv_7_9\", \"RIV\", (0, 7, 9))],\n",
    "           \"riv_obs2.csv\":                              [(\"riv_7_0\", \"RIV\", (0, 7, 0))]}\n",
    "\n",
    "riv.obs.initialize(digits=3,  print_input=False, continuous=riv_obs)"
   ]
  },
  {
   "cell_type": "code",
   "execution_count": 19,
   "metadata": {},
   "outputs": [],
   "source": [
    "hd_obs_list = [ ('h_0_7_4', 'HEAD', (0, 7, 4)),     ('h_2_7_4', 'HEAD', (2, 7, 4)), ]\n",
    "dd_obs_list = [('dd_0_7_4', 'DRAWDOWN', (0, 7, 4)), ('dd_2_7_4', 'DRAWDOWN', (2, 7, 4)), ]\n",
    "obs_data = { 'head_obs.csv':hd_obs_list, 'drawdown_obs.csv':dd_obs_list,}\n",
    "obs_package = flopy.mf6.ModflowUtlobs(gwf,  digits=10,  print_input=False, continuous=obs_data)"
   ]
  },
  {
   "cell_type": "code",
   "execution_count": null,
   "metadata": {},
   "outputs": [],
   "source": [
    "sim.write_simulation()\n",
    "sim.run_simulation()"
   ]
  },
  {
   "cell_type": "code",
   "execution_count": 21,
   "metadata": {},
   "outputs": [
    {
     "name": "stdout",
     "output_type": "stream",
     "text": [
      "Number of obs packages: 2\n"
     ]
    }
   ],
   "source": [
    "print(f'Number of obs packages: {len(gwf.obs)}')"
   ]
  },
  {
   "cell_type": "code",
   "execution_count": 22,
   "metadata": {},
   "outputs": [
    {
     "data": {
      "text/plain": [
       "['riv_obs.csv', 'riv_obs2.csv']"
      ]
     },
     "execution_count": 22,
     "metadata": {},
     "output_type": "execute_result"
    }
   ],
   "source": [
    "gwf.obs[0].output.obs_names"
   ]
  },
  {
   "cell_type": "code",
   "execution_count": 23,
   "metadata": {},
   "outputs": [
    {
     "data": {
      "text/plain": [
       "['head_obs.csv', 'drawdown_obs.csv']"
      ]
     },
     "execution_count": 23,
     "metadata": {},
     "output_type": "execute_result"
    }
   ],
   "source": [
    "gwf.obs[1].output.obs_names"
   ]
  },
  {
   "cell_type": "code",
   "execution_count": 24,
   "metadata": {},
   "outputs": [
    {
     "data": {
      "text/plain": [
       "rec.array([(  1.        , -13800., -138.), ( 31.41666667, -13700., -135.),\n",
       "           ( 61.83333333, -13600., -133.), ( 92.25      , -13600., -131.),\n",
       "           (122.66666667, -13600., -130.), (153.08333333, -13600., -129.),\n",
       "           (183.5       , -13500., -128.), (213.91666667, -13500., -127.),\n",
       "           (244.33333333, -13500., -126.), (274.75      , -13500., -125.),\n",
       "           (305.16666667, -13500., -125.), (335.58333333, -13500., -124.),\n",
       "           (366.        , -13400., -124.)],\n",
       "          dtype=[('totim', '<f8'), ('RIVER', '<f8'), ('RIV_7_9', '<f8')])"
      ]
     },
     "execution_count": 24,
     "metadata": {},
     "output_type": "execute_result"
    }
   ],
   "source": [
    "riv_obs_csv = gwf.obs[0].output.obs(f='riv_obs.csv')\n",
    "riv_obs_csv.data                                           # ________________________ 01"
   ]
  },
  {
   "cell_type": "markdown",
   "metadata": {},
   "source": [
    "# __PANDAS__"
   ]
  },
  {
   "cell_type": "code",
   "execution_count": 26,
   "metadata": {},
   "outputs": [
    {
     "data": {
      "text/html": [
       "<div>\n",
       "<style scoped>\n",
       "    .dataframe tbody tr th:only-of-type {\n",
       "        vertical-align: middle;\n",
       "    }\n",
       "\n",
       "    .dataframe tbody tr th {\n",
       "        vertical-align: top;\n",
       "    }\n",
       "\n",
       "    .dataframe thead th {\n",
       "        text-align: right;\n",
       "    }\n",
       "</style>\n",
       "<table border=\"1\" class=\"dataframe\">\n",
       "  <thead>\n",
       "    <tr style=\"text-align: right;\">\n",
       "      <th></th>\n",
       "      <th>totim</th>\n",
       "      <th>RIVER</th>\n",
       "      <th>RIV_7_9</th>\n",
       "    </tr>\n",
       "  </thead>\n",
       "  <tbody>\n",
       "    <tr>\n",
       "      <th>0</th>\n",
       "      <td>1.000000</td>\n",
       "      <td>-13800.0</td>\n",
       "      <td>-138.0</td>\n",
       "    </tr>\n",
       "    <tr>\n",
       "      <th>1</th>\n",
       "      <td>31.416667</td>\n",
       "      <td>-13700.0</td>\n",
       "      <td>-135.0</td>\n",
       "    </tr>\n",
       "    <tr>\n",
       "      <th>2</th>\n",
       "      <td>61.833333</td>\n",
       "      <td>-13600.0</td>\n",
       "      <td>-133.0</td>\n",
       "    </tr>\n",
       "    <tr>\n",
       "      <th>3</th>\n",
       "      <td>92.250000</td>\n",
       "      <td>-13600.0</td>\n",
       "      <td>-131.0</td>\n",
       "    </tr>\n",
       "    <tr>\n",
       "      <th>4</th>\n",
       "      <td>122.666667</td>\n",
       "      <td>-13600.0</td>\n",
       "      <td>-130.0</td>\n",
       "    </tr>\n",
       "  </tbody>\n",
       "</table>\n",
       "</div>"
      ],
      "text/plain": [
       "        totim    RIVER  RIV_7_9\n",
       "0    1.000000 -13800.0   -138.0\n",
       "1   31.416667 -13700.0   -135.0\n",
       "2   61.833333 -13600.0   -133.0\n",
       "3   92.250000 -13600.0   -131.0\n",
       "4  122.666667 -13600.0   -130.0"
      ]
     },
     "execution_count": 26,
     "metadata": {},
     "output_type": "execute_result"
    }
   ],
   "source": [
    "import pandas  as pd\n",
    "obs_df = pd.DataFrame(riv_obs_csv.data)\n",
    "obs_df.head()                                               # ________________________ 01"
   ]
  },
  {
   "cell_type": "code",
   "execution_count": 27,
   "metadata": {},
   "outputs": [
    {
     "data": {
      "text/plain": [
       "<Axes: xlabel='totim'>"
      ]
     },
     "execution_count": 27,
     "metadata": {},
     "output_type": "execute_result"
    },
    {
     "data": {
      "image/png": "[encoded data removed]",
      "text/plain": [
       "<Figure size 640x480 with 1 Axes>"
      ]
     },
     "metadata": {},
     "output_type": "display_data"
    }
   ],
   "source": [
    "obs_df.plot(x='totim') "
   ]
  },
  {
   "cell_type": "code",
   "execution_count": null,
   "metadata": {},
   "outputs": [],
   "source": []
  }
 ],
 "metadata": {
  "interpreter": {
   "hash": "227dbd2fab8825bf983f485131159c82d0301ad97e15b736ca5b3747747c9c56"
  },
  "kernelspec": {
   "display_name": "Python 3 (ipykernel)",
   "language": "python",
   "name": "python3"
  },
  "language_info": {
   "codemirror_mode": {
    "name": "ipython",
    "version": 3
   },
   "file_extension": ".py",
   "mimetype": "text/x-python",
   "name": "python",
   "nbconvert_exporter": "python",
   "pygments_lexer": "ipython3",
   "version": "3.11.11"
  }
 },
 "nbformat": 4,
 "nbformat_minor": 4
}
