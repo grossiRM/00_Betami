{
 "cells": [
  {
   "cell_type": "code",
   "execution_count": 1,
   "id": "4301ea86",
   "metadata": {},
   "outputs": [
    {
     "name": "stdout",
     "output_type": "stream",
     "text": [
      "E:\\15_REPOS\\00_BETAMI\\w10_______others\\05_MF6_B\n"
     ]
    }
   ],
   "source": [
    "import os; import pathlib as pl    ; import flopy  ;   import git  ; import matplotlib.pyplot as plt  ; import pandas as pd \n",
    "import numpy as np                 ; from flopy.plot.styles import styles  ; from modflow_devtools.misc import get_env, timed\n",
    "write = get_env(\"WRITE\", True) ; run = get_env(\"RUN\", True) ; plot = get_env(\"PLOT\", True)\n",
    "plot_show = get_env(\"PLOT_SHOW\", True) ; plot_save = get_env(\"PLOT_SAVE\", True)\n",
    "current_directory = os.getcwd();  print(current_directory)"
   ]
  },
  {
   "cell_type": "code",
   "execution_count": 2,
   "id": "afb23e6e-fe41-4e10-945e-2f027354f6db",
   "metadata": {},
   "outputs": [],
   "source": [
    "path = pl.Path('E:\\\\15_REPOS\\\\00_BETAMI\\\\w10_______others\\\\05_MF6_B')\n",
    "sim_name = \"ex-gwf-twri01\"\n",
    "path.mkdir(parents=True, exist_ok=True); os.chdir(path); current_directory = os.getcwd()\n",
    "directory_name = '.'    ; workspace = os.path.join('.', directory_name)\n",
    "if os.path.isdir(workspace) is False:\n",
    "    os.mkdir(workspace) \n",
    "parameter_units = {\"recharge\": \"$ft/s$\"}  ; length_units = \"feet\"  ; time_units = \"seconds\""
   ]
  },
  {
   "cell_type": "code",
   "execution_count": 3,
   "id": "d990a014",
   "metadata": {},
   "outputs": [],
   "source": [
    "nper = 1 ; nlay = 5     ; ncol = 15      ; nrow = 15            ; delr = 5000   ; delc = 5000\n",
    "top  = 200  ; botm_str = \"-150.0, -200.0, -300.0, -350.0, -450.0\"  ; strt = 0.0    ; icelltype_str = \"1, 0, 0, 0, 0\"  \n",
    "k11_str = \"1.0e-3, 1.0e-8, 1.0e-4, 5.0e-7, 2.0e-4\"                 ; k33_str = (\"1.0e-3, 1.0e-8, 1.0e-4, 5.0e-7, 2.0e-4\")  ; recharge = 3e-8  \n",
    "\n",
    "perlen = 8.640e04 ;  nstp = 1 ; tsmult = 1.0 ; tdis_ds = ((perlen, nstp, tsmult),)  ; nouter = 50  ; ninner = 100  ; hclose = 1e-9   ; rclose = 1e-6\n",
    "\n",
    "botm = [float(value) for value in botm_str.split(\",\")]             ; k11       = [float(value) for value in k11_str.split(\",\")]\n",
    "k33  = [float(value) for value in k33_str.split(\",\")]              ; icelltype = [int(value) for value in icelltype_str.split(\",\")]"
   ]
  },
  {
   "cell_type": "code",
   "execution_count": 4,
   "id": "3543377e-61c6-48b1-8992-98b3b562ad56",
   "metadata": {},
   "outputs": [
    {
     "data": {
      "text/plain": [
       "[1, 0, 0, 0, 0]"
      ]
     },
     "execution_count": 4,
     "metadata": {},
     "output_type": "execute_result"
    }
   ],
   "source": [
    "icelltype"
   ]
  },
  {
   "cell_type": "code",
   "execution_count": 5,
   "id": "cd5b0cf4-9d39-4b75-8447-a9cf03e3a12f",
   "metadata": {},
   "outputs": [],
   "source": [
    "chd_spd = []                         # chd  \n",
    "for k in (0, 2):\n",
    "    chd_spd += [[k, i, 0,     0.0] for i in range(nrow)]    \n",
    "chd_spd = {0: chd_spd}\n",
    "\n",
    "chd_spd0 = []                        # chd to MODFLOW-2005\n",
    "for k in (0, 1):\n",
    "    chd_spd0 += [[k, i, 0, 0, 0.0] for i in range(nrow)]\n",
    "chd_spd0 = {0: chd_spd0}"
   ]
  },
  {
   "cell_type": "code",
   "execution_count": 6,
   "id": "3bef772f-008a-4f15-af94-f448d9be407c",
   "metadata": {},
   "outputs": [],
   "source": [
    "wel_spd = {0: [[4, 4, 10, -5.0],[2, 3, 5, -5.0],[2, 5, 11, -5.0],[0, 8, 7, -5.0],[0, 8, 9, -5.0],[0, 8, 11, -5.0],[0, 8, 13, -5.0],[0, 10, 7, -5.0],\n",
    "        [0, 10, 9, -5.0],[0, 10, 11, -5.0],[0, 10, 13, -5.0],[0, 12, 7, -5.0],[0, 12, 9, -5.0],[0, 12, 11, -5.0],[0, 12, 13, -5.0],]}\n",
    "wel_spd0 = []\n",
    "layer_map = {0: 0  ,2: 1  ,4: 2}   # Well to  MODFLOW-2005         ([0], ...2,4) ([0], ..1,2)\n",
    "for k, i, j, q in wel_spd[0]:\n",
    "    kk = layer_map[k]\n",
    "    wel_spd0.append([kk, i, j, q])\n",
    "wel_spd0 = {0: wel_spd0}\n",
    "\n",
    "# Drain boundary conditions\n",
    "drn_spd = {0: [[0, 7, 1, 0.0, 1.0e0],[0, 7, 2, 0.0, 1.0e0],[0, 7, 3, 10.0, 1.0e0],[0, 7, 4, 20.0, 1.0e0],[0, 7, 5, 30.0, 1.0e0],\n",
    "               [0, 7, 6, 50.0, 1.0e0],[0, 7, 7, 70.0, 1.0e0],[0, 7, 8, 90.0, 1.0e0],[0, 7, 9, 100.0, 1.0e0],]}"
   ]
  },
  {
   "cell_type": "raw",
   "id": "201cc6ac-9c19-4e7d-ba99-d3b02d7adada",
   "metadata": {},
   "source": [
    "A = { 1:2 , 3:4 , 5:6 }\n",
    "type(A)\n",
    "A\n",
    "layer_map"
   ]
  },
  {
   "cell_type": "code",
   "execution_count": 7,
   "id": "541c5db1-5370-42d3-8231-4a07806d5d9c",
   "metadata": {},
   "outputs": [
    {
     "name": "stdout",
     "output_type": "stream",
     "text": [
      "chd (30, 4)\n"
     ]
    }
   ],
   "source": [
    "row = chd_spd  [0] ; sa = pd.DataFrame(row);  sa.to_csv (\"A.csv\")  ; print('chd',sa.shape)\n",
    "row = chd_spd0 [0] ; sa = pd.DataFrame(row);  sa.to_csv (\"B.csv\")  ; #print('chd',sa.shape)\n",
    "row = wel_spd  [0] ; sa = pd.DataFrame(row);  sa.to_csv (\"C.csv\")  ; #print('wel',sa.shape)\n",
    "row = wel_spd0 [0] ; sa = pd.DataFrame(row);  sa.to_csv (\"D.csv\")  ; #print('wel',sa.shape)\n",
    "row = drn_spd  [0] ; sa = pd.DataFrame(row);  sa.to_csv (\"E.csv\")  ; #print('drn',sa.shape)"
   ]
  },
  {
   "cell_type": "code",
   "execution_count": 8,
   "id": "4d4f714a",
   "metadata": {},
   "outputs": [],
   "source": [
    "def build_models():\n",
    "    sim_ws = os.path.join(workspace, sim_name)\n",
    "    sim    = flopy.mf6.MFSimulation(sim_name=sim_name, sim_ws=sim_ws, exe_name='E:\\\\15_REPOS\\\\00_BETAMI\\\\w10_______others\\\\bin\\\\mf6.exe')\n",
    "    gwf    = flopy.mf6.ModflowGwf(sim, modelname=sim_name, save_flows=True)\n",
    "    flopy.mf6.ModflowGwfdis(gwf, length_units=length_units,          nlay=nlay,nrow=nrow,ncol=ncol,delr=delr,delc=delc,top=top,botm=botm)\n",
    "    flopy.mf6.ModflowTdis(sim, nper =nper, perioddata =tdis_ds, time_units =time_units)\n",
    "    flopy.mf6.ModflowIms(sim,outer_maximum=nouter,outer_dvclose=hclose,inner_maximum=ninner,inner_dvclose=hclose,rcloserecord=f\"{rclose} strict\")\n",
    "    flopy.mf6.ModflowGwfnpf(gwf,cvoptions=\"perched\",perched=True,icelltype=icelltype,k=k11,k33=k33,save_specific_discharge=True)  # Node P. Flow\n",
    "    flopy.mf6.ModflowGwfic(gwf, strt=strt)                         # ic\n",
    "    flopy.mf6.ModflowGwfchd(gwf, stress_period_data=chd_spd)\n",
    "    flopy.mf6.ModflowGwfdrn(gwf, stress_period_data=drn_spd)\n",
    "    flopy.mf6.ModflowGwfwel(gwf, stress_period_data=wel_spd)\n",
    "    flopy.mf6.ModflowGwfrcha(gwf, recharge=recharge)               ; head_filerecord = f\"{sim_name}.hds\"   ;  budget_filerecord = f\"{sim_name}.cbc\"\n",
    "    flopy.mf6.ModflowGwfoc(gwf,head_filerecord=head_filerecord,budget_filerecord=budget_filerecord,saverecord=[(\"HEAD\", \"ALL\"), (\"BUDGET\", \"ALL\")])\n",
    "    return sim\n",
    "\n",
    "def build_mf5model():\n",
    "    sim_ws = os.path.join(workspace, sim_name, \"mf2005\")\n",
    "    mf = flopy.modflow.Modflow(modelname=sim_name, model_ws=sim_ws, exe_name=\"E:\\\\15_REPOS\\\\00_BETAMI\\\\w10_______others\\\\bin\\\\mf2005dbl.exe\")\n",
    "    flopy.modflow.ModflowDis(mf,nlay=3,nrow=nrow,ncol=ncol,delr=delr,delc=delc,laycbd=[1, 1, 0],\n",
    "                             top=top,botm=botm,nper=1,perlen=perlen,nstp=nstp,tsmult=tsmult,)\n",
    "    flopy.modflow.ModflowBas(mf, strt=strt)\n",
    "    flopy.modflow.ModflowLpf(mf,laytyp=[1, 0, 0],hk=[k11[0], k11[2], k11[4]],vka=[k11[0], k11[2], k11[4]],vkcb=[k11[1], k11[3], 0],ss=0,sy=0.0)\n",
    "    flopy.modflow.ModflowChd(mf, stress_period_data=chd_spd0)\n",
    "    flopy.modflow.ModflowDrn(mf, stress_period_data=drn_spd)\n",
    "    flopy.modflow.ModflowWel(mf, stress_period_data=wel_spd0)\n",
    "    flopy.modflow.ModflowRch(mf, rech=recharge)\n",
    "    flopy.modflow.ModflowPcg(mf, mxiter=nouter, iter1=ninner, hclose=hclose, rclose=rclose)\n",
    "    oc = flopy.modflow.ModflowOc(mf, stress_period_data={(0, 0): [\"save head\", \"save budget\"]})\n",
    "    oc.reset_budgetunit()\n",
    "    return mf\n",
    "\n",
    "def write_models(sim, mf, silent=True):\n",
    "    sim.write_simulation(silent=silent)\n",
    "    mf.write_input()"
   ]
  },
  {
   "cell_type": "code",
   "execution_count": 9,
   "id": "0dfceefe-157c-4db6-90a7-9dc428e2babb",
   "metadata": {},
   "outputs": [
    {
     "name": "stdout",
     "output_type": "stream",
     "text": [
      "<flopy.mf6.data.mfstructure.MFDataItemStructure object at 0x00000203EFDA15B0>\n"
     ]
    }
   ],
   "source": [
    "def scenario(silent=True):\n",
    "    sim = build_models()\n",
    "    mf = build_mf5model()\n",
    "    if write:\n",
    "        write_models(sim, mf, silent=silent)\n",
    "scenario()"
   ]
  },
  {
   "cell_type": "code",
   "execution_count": null,
   "id": "79a07aac-3664-45a2-985c-0c9163e9ced1",
   "metadata": {},
   "outputs": [],
   "source": [
    "@timed\n",
    "def run_models(sim, mf, silent=True):\n",
    "    success, buff = sim.run_simulation(silent=silent)\n",
    "    if not success:\n",
    "        print(buff)\n",
    "    else:\n",
    "       success, buff = mf.run_model(silent=silent) ; assert success, buff"
   ]
  },
  {
   "cell_type": "code",
   "execution_count": null,
   "id": "e3ec51c5",
   "metadata": {
    "jupyter": {
     "source_hidden": true
    },
    "lines_to_end_of_cell_marker": 2
   },
   "outputs": [],
   "source": [
    "def plot_results(sim, mf, silent=True):\n",
    "    with styles.USGSMap():\n",
    "        sim_ws = os.path.join(workspace, sim_name);           gwf = sim.get_model(sim_name)                     ; hobj  = gwf.output.head()\n",
    "        file_name = gwf.oc.head_filerecord.get_data()[0][0] ; fpth = os.path.join(sim_ws, \"mf2005\", file_name)  ; hobj0 = flopy.utils.HeadFile(fpth)\n",
    "\n",
    "        cobj = gwf.output.budget()                          ; file_name = gwf.oc.budget_filerecord.get_data()[0][0]\n",
    "        fpth = os.path.join(sim_ws, \"mf2005\", file_name)    ; cobj0 = flopy.utils.CellBudgetFile(fpth, precision=\"double\")\n",
    "\n",
    "        head = hobj.get_data() ; head0 = hobj0.get_data()   ; print(head0.shape) ; vmin, vmax = -25, 100\n",
    "\n",
    "        for idx, k in enumerate((0, 2, 4)):\n",
    "            diff = np.abs(head[k] - head0[idx])\n",
    "            msg = f\"aquifer {idx + 1}: maximum absolute head difference is {diff.max()}\"\n",
    "            assert diff.max() < 0.05, msg\n",
    "            if not silent:\n",
    "                print(msg)\n",
    "\n",
    "        qx, qy, qz = flopy.utils.postprocessing.get_specific_discharge(cobj.get_data(text=\"DATA-SPDIS\", kstpkper=(0, 0))[0], gwf)\n",
    "        frf = cobj0.get_data(text=\"FLOW RIGHT FACE\", kstpkper=(0, 0))[0]\n",
    "        fff = cobj0.get_data(text=\"FLOW FRONT FACE\", kstpkper=(0, 0))[0]\n",
    "        flf = cobj0.get_data(text=\"FLOW LOWER FACE\", kstpkper=(0, 0))[0]\n",
    "        sqx, sqy, sqz = flopy.utils.postprocessing.get_specific_discharge((frf, fff, flf), mf, head0)\n",
    "\n",
    "        layers_mf6 = [0, 2, 4] ;  titles = [\"Unconfined aquifer\", \"Middle aquifer\", \"Lower aquifer\"]\n",
    "\n",
    "        extents = (0, ncol * delc, 0, nrow * delr)  ; fig, axes = plt.subplots(2,3,figsize=(6,6),dpi=150,)\n",
    "        for ax in axes.flatten():\n",
    "            ax.set_aspect(\"equal\")\n",
    "            ax.set_xlim(extents[:2])\n",
    "            ax.set_ylim(extents[2:])\n",
    "\n",
    "        for idx, ax in enumerate(axes.flatten()[:3]):\n",
    "            k = layers_mf6[idx]\n",
    "            fmp = flopy.plot.PlotMapView(model=gwf, ax=ax, layer=k, extent=extents)\n",
    "            ax.get_xaxis().set_ticks([])\n",
    "            fmp.plot_grid(lw=0.5)\n",
    "            plot_obj = fmp.plot_array(head, vmin=vmin, vmax=vmax)\n",
    "            fmp.plot_bc(\"DRN\", color=\"green\")\n",
    "            fmp.plot_bc(\"WEL\", color=\"0.5\")\n",
    "            cv = fmp.contour_array(head, levels=[-25, 0, 25, 75, 100], linewidths=0.5, colors=\"black\")\n",
    "            plt.clabel(cv, fmt=\"%1.0f\")\n",
    "            fmp.plot_vector(qx, qy, normalize=True, color=\"0.75\")\n",
    "            title = titles[idx]\n",
    "            letter = chr(ord(\"@\") + idx + 1)\n",
    "            styles.heading(letter=letter, heading=title, ax=ax)\n",
    "\n",
    "        for idx, ax in enumerate(axes.flatten()[3:6]):\n",
    "            fmp = flopy.plot.PlotMapView(model=mf, ax=ax, layer=idx, extent=extents)  ; fmp.plot_grid(lw=0.5)\n",
    "            plot_obj = fmp.plot_array(head0, vmin=vmin, vmax=vmax)  ; fmp.plot_bc(\"DRN\", color=\"green\") ; fmp.plot_bc(\"WEL\", color=\"0.5\")\n",
    "            cv = fmp.contour_array(head0, levels=[-25, 0, 25, 75, 100], linewidths=0.5, colors=\"black\") ; plt.clabel(cv, fmt=\"%1.0f\")\n",
    "            fmp.plot_vector(sqx, sqy, normalize=True, color=\"0.75\")\n",
    "            title = titles[idx] ; letter = chr(ord(\"@\") + idx + 4) ; styles.heading(letter=letter, heading=title, ax=ax)\n",
    "\n",
    "        # create legend\n",
    "        ax = fig.add_subplot() ; ax.set_xlim(extents[:2]) ; ax.set_ylim(extents[2:]) ; ax.set_xticks([]) ; ax.set_yticks([])\n",
    "        ax.spines[\"top\"].set_color(\"none\")   ; ax.spines[\"bottom\"].set_color(\"none\") ; ax.spines[\"left\"].set_color(\"none\") ; \n",
    "        ax.spines[\"right\"].set_color(\"none\") ; ax.patch.set_alpha(0.0)\n",
    "\n",
    "        ax.plot(-10000, -10000, marker=\"s\", ms=10, mfc=\"green\", mec=\"green\", label=\"Drain\")\n",
    "        ax.plot(-10000, -10000, marker=\"s\", ms=10, mfc=\"0.5\", mec=\"0.5\", label=\"Well\")\n",
    "        ax.plot(-10000,-10000,marker=\"$\\u2192$\",ms=10,mfc=\"0.75\",mec=\"0.75\",label=\"Normalized specific discharge\")\n",
    "        ax.plot(-10000, -10000, lw=0.5, color=\"black\", label=r\"Head contour, $ft$\")\n",
    "        styles.graph_legend(ax, ncol=1, frameon=False, loc=\"center left\")\n",
    "\n",
    "        plt.subplots_adjust(top=0.9, hspace=0.5)\n",
    "\n",
    "        cax = plt.axes([0.525, 0.55, 0.35, 0.025]) ; cbar = plt.colorbar(plot_obj, shrink=0.8, orientation=\"horizontal\", cax=cax)\n",
    "        cbar.ax.tick_params(size=0)                ; cbar.ax.set_xlabel(r\"Head, $ft$\", fontsize=9)                     ; plt.show()"
   ]
  },
  {
   "cell_type": "code",
   "execution_count": null,
   "id": "299f6dfe",
   "metadata": {
    "jupyter": {
     "source_hidden": true
    },
    "scrolled": true
   },
   "outputs": [],
   "source": [
    "def scenario(silent=True):\n",
    "    sim = build_models()\n",
    "    mf = build_mf5model()\n",
    "    if write:\n",
    "        write_models(sim, mf, silent=silent)\n",
    "    if run:\n",
    "        run_models(sim, mf, silent=silent)\n",
    "    if plot:\n",
    "        plot_results(sim, mf, silent=silent)\n",
    "scenario()\n",
    "        "
   ]
  },
  {
   "cell_type": "code",
   "execution_count": null,
   "id": "ef86246e-203c-4115-b347-17f83ce7f2f7",
   "metadata": {},
   "outputs": [],
   "source": []
  }
 ],
 "metadata": {
  "jupytext": {
   "cell_metadata_filter": "-all"
  },
  "kernelspec": {
   "display_name": "Python 3 (ipykernel)",
   "language": "python",
   "name": "python3"
  },
  "language_info": {
   "codemirror_mode": {
    "name": "ipython",
    "version": 3
   },
   "file_extension": ".py",
   "mimetype": "text/x-python",
   "name": "python",
   "nbconvert_exporter": "python",
   "pygments_lexer": "ipython3",
   "version": "3.12.7"
  }
 },
 "nbformat": 4,
 "nbformat_minor": 5
}
