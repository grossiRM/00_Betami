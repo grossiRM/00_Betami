{
 "cells": [
  {
   "cell_type": "code",
   "execution_count": 2,
   "metadata": {},
   "outputs": [],
   "source": [
    "from setuptools import setup"
   ]
  },
  {
   "cell_type": "code",
   "execution_count": 13,
   "metadata": {},
   "outputs": [],
   "source": [
    "import os\n",
    "import numpy"
   ]
  },
  {
   "cell_type": "code",
   "execution_count": 21,
   "metadata": {},
   "outputs": [
    {
     "ename": "SyntaxError",
     "evalue": "Missing parentheses in call to 'print'. Did you mean print(...)? (3813469031.py, line 8)",
     "output_type": "error",
     "traceback": [
      "\u001b[1;36m  Cell \u001b[1;32mIn[21], line 8\u001b[1;36m\u001b[0m\n\u001b[1;33m    print 'Unable to load MATK module: '+str(err)\u001b[0m\n\u001b[1;37m    ^\u001b[0m\n\u001b[1;31mSyntaxError\u001b[0m\u001b[1;31m:\u001b[0m Missing parentheses in call to 'print'. Did you mean print(...)?\n"
     ]
    }
   ],
   "source": [
    "try:\n",
    "    import matk\n",
    "except:\n",
    "    try:\n",
    "        sys.path.append(os.path.join('..','src'))\n",
    "        import matk\n",
    "    except ImportError as err:\n",
    "        print 'Unable to load MATK module: '+str(err)"
   ]
  },
  {
   "cell_type": "code",
   "execution_count": 16,
   "metadata": {},
   "outputs": [],
   "source": [
    "# from scipy import arange, randn, exp"
   ]
  },
  {
   "cell_type": "code",
   "execution_count": 9,
   "metadata": {},
   "outputs": [],
   "source": [
    "def dbexpl(p):\n",
    "    t=arange(0,100,20.)\n",
    "    y = (p['par1']*exp(-p['par2']*t) + p['par3']*exp(-p['par4']*t))\n",
    "    return y"
   ]
  },
  {
   "cell_type": "code",
   "execution_count": 18,
   "metadata": {},
   "outputs": [
    {
     "data": {
      "text/plain": [
       "<function __main__.dbexpl(p)>"
      ]
     },
     "execution_count": 18,
     "metadata": {},
     "output_type": "execute_result"
    }
   ],
   "source": [
    "dbexpl"
   ]
  },
  {
   "cell_type": "code",
   "execution_count": null,
   "metadata": {},
   "outputs": [],
   "source": [
    "pars = {'par1':0.5,'par2':0.1,'par3':0.5,'par4':0.1}\n",
    "print(bexpl.pars)"
   ]
  },
  {
   "cell_type": "code",
   "execution_count": 19,
   "metadata": {},
   "outputs": [
    {
     "ename": "NameError",
     "evalue": "name 'matk' is not defined",
     "output_type": "error",
     "traceback": [
      "\u001b[1;31m---------------------------------------------------------------------------\u001b[0m",
      "\u001b[1;31mNameError\u001b[0m                                 Traceback (most recent call last)",
      "Cell \u001b[1;32mIn[19], line 9\u001b[0m\n\u001b[0;32m      6\u001b[0m     \u001b[38;5;28;01mreturn\u001b[39;00m y\n\u001b[0;32m      8\u001b[0m \u001b[38;5;66;03m# Setup MATK model with parameters\u001b[39;00m\n\u001b[1;32m----> 9\u001b[0m p \u001b[38;5;241m=\u001b[39m matk\u001b[38;5;241m.\u001b[39mmatk(model\u001b[38;5;241m=\u001b[39mdbexpl)\n\u001b[0;32m     10\u001b[0m p\u001b[38;5;241m.\u001b[39madd_par(\u001b[38;5;124m'\u001b[39m\u001b[38;5;124mpar1\u001b[39m\u001b[38;5;124m'\u001b[39m,\u001b[38;5;28mmin\u001b[39m\u001b[38;5;241m=\u001b[39m\u001b[38;5;241m0\u001b[39m,\u001b[38;5;28mmax\u001b[39m\u001b[38;5;241m=\u001b[39m\u001b[38;5;241m1\u001b[39m)\n\u001b[0;32m     11\u001b[0m p\u001b[38;5;241m.\u001b[39madd_par(\u001b[38;5;124m'\u001b[39m\u001b[38;5;124mpar2\u001b[39m\u001b[38;5;124m'\u001b[39m,\u001b[38;5;28mmin\u001b[39m\u001b[38;5;241m=\u001b[39m\u001b[38;5;241m0\u001b[39m,\u001b[38;5;28mmax\u001b[39m\u001b[38;5;241m=\u001b[39m\u001b[38;5;241m0.2\u001b[39m)\n",
      "\u001b[1;31mNameError\u001b[0m: name 'matk' is not defined"
     ]
    }
   ],
   "source": [
    "def dbexpl(p):\n",
    "    t=arange(0,100,20.)\n",
    "    y =  (p['par1']*exp(-p['par2']*t) + p['par3']*exp(-p['par4']*t))\n",
    "    #nm =  ['o1','o2','o3','o4','o5']\n",
    "    #return dict(zip(nm,y))\n",
    "    return y\n",
    "\n",
    "# Setup MATK model with parameters\n",
    "p = matk.matk(model=dbexpl)\n",
    "p.add_par('par1',min=0,max=1)\n",
    "p.add_par('par2',min=0,max=0.2)\n",
    "p.add_par('par3',min=0,max=1)\n",
    "p.add_par('par4',min=0,max=0.2)"
   ]
  },
  {
   "cell_type": "code",
   "execution_count": null,
   "metadata": {},
   "outputs": [],
   "source": []
  }
 ],
 "metadata": {
  "kernelspec": {
   "display_name": "Python 3 (ipykernel)",
   "language": "python",
   "name": "python3"
  },
  "language_info": {
   "codemirror_mode": {
    "name": "ipython",
    "version": 3
   },
   "file_extension": ".py",
   "mimetype": "text/x-python",
   "name": "python",
   "nbconvert_exporter": "python",
   "pygments_lexer": "ipython3",
   "version": "3.12.7"
  }
 },
 "nbformat": 4,
 "nbformat_minor": 4
}
