{
 "cells": [
  {
   "cell_type": "code",
   "execution_count": 1,
   "id": "0899cd7f-4ac2-444d-b6bf-409f962cd843",
   "metadata": {},
   "outputs": [],
   "source": [
    "from mfsetup import MF6model"
   ]
  },
  {
   "cell_type": "code",
   "execution_count": 2,
   "id": "53162750-0b50-4ca9-ac53-81ba7b850472",
   "metadata": {},
   "outputs": [
    {
     "name": "stdout",
     "output_type": "stream",
     "text": [
      "3.13.1\n"
     ]
    }
   ],
   "source": [
    "from platform import python_version  \n",
    "print(python_version())"
   ]
  },
  {
   "cell_type": "code",
   "execution_count": 3,
   "id": "acad9271-3e5f-4a17-989b-c6df23b4e7eb",
   "metadata": {},
   "outputs": [
    {
     "name": "stdout",
     "output_type": "stream",
     "text": [
      "loading configuration file initial_config_poly.yaml...\n"
     ]
    },
    {
     "ename": "OSError",
     "evalue": "Cannot find E:\\15_REPOS\\00_BETAMI\\w10_______others\\04_Mnfienen\\initial_config_poly.yaml",
     "output_type": "error",
     "traceback": [
      "\u001b[1;31m---------------------------------------------------------------------------\u001b[0m",
      "\u001b[1;31mOSError\u001b[0m                                   Traceback (most recent call last)",
      "Cell \u001b[1;32mIn[3], line 17\u001b[0m\n\u001b[0;32m     11\u001b[0m     m\u001b[38;5;241m.\u001b[39mmodelgrid\u001b[38;5;241m.\u001b[39mwrite_shapefile(\u001b[38;5;124m'\u001b[39m\u001b[38;5;124mpostproc/shps/grid.shp\u001b[39m\u001b[38;5;124m'\u001b[39m)\n\u001b[0;32m     14\u001b[0m \u001b[38;5;28;01mif\u001b[39;00m \u001b[38;5;18m__name__\u001b[39m \u001b[38;5;241m==\u001b[39m \u001b[38;5;124m'\u001b[39m\u001b[38;5;124m__main__\u001b[39m\u001b[38;5;124m'\u001b[39m:\n\u001b[1;32m---> 17\u001b[0m     \u001b[43msetup_grid\u001b[49m\u001b[43m(\u001b[49m\u001b[38;5;124;43m'\u001b[39;49m\u001b[38;5;124;43minitial_config_poly.yaml\u001b[39;49m\u001b[38;5;124;43m'\u001b[39;49m\u001b[43m)\u001b[49m\n",
      "Cell \u001b[1;32mIn[3], line 7\u001b[0m, in \u001b[0;36msetup_grid\u001b[1;34m(cfg_file)\u001b[0m\n\u001b[0;32m      1\u001b[0m \u001b[38;5;28;01mdef\u001b[39;00m\u001b[38;5;250m \u001b[39m\u001b[38;5;21msetup_grid\u001b[39m(cfg_file):\n\u001b[0;32m      3\u001b[0m \u001b[38;5;250m    \u001b[39m\u001b[38;5;124;03m\"\"\"Just set up (a shapefile of) the model grid.\u001b[39;00m\n\u001b[0;32m      4\u001b[0m \n\u001b[0;32m      5\u001b[0m \u001b[38;5;124;03m    For trying different grid configurations.\"\"\"\u001b[39;00m\n\u001b[1;32m----> 7\u001b[0m     m \u001b[38;5;241m=\u001b[39m \u001b[43mMF6model\u001b[49m\u001b[43m(\u001b[49m\u001b[43mcfg\u001b[49m\u001b[38;5;241;43m=\u001b[39;49m\u001b[43mcfg_file\u001b[49m\u001b[43m)\u001b[49m\n\u001b[0;32m      9\u001b[0m     m\u001b[38;5;241m.\u001b[39msetup_grid()\n\u001b[0;32m     11\u001b[0m     m\u001b[38;5;241m.\u001b[39mmodelgrid\u001b[38;5;241m.\u001b[39mwrite_shapefile(\u001b[38;5;124m'\u001b[39m\u001b[38;5;124mpostproc/shps/grid.shp\u001b[39m\u001b[38;5;124m'\u001b[39m)\n",
      "File \u001b[1;32m~\\anaconda3\\envs\\mfsetup\\Lib\\site-packages\\mfsetup\\mf6model.py:64\u001b[0m, in \u001b[0;36mMF6model.__init__\u001b[1;34m(self, simulation, modelname, parent, cfg, exe_name, load, version, lgr, **kwargs)\u001b[0m\n\u001b[0;32m     62\u001b[0m \u001b[38;5;28;01mif\u001b[39;00m cfg \u001b[38;5;129;01mis\u001b[39;00m \u001b[38;5;129;01mnot\u001b[39;00m \u001b[38;5;28;01mNone\u001b[39;00m:\n\u001b[0;32m     63\u001b[0m     \u001b[38;5;28;01mif\u001b[39;00m \u001b[38;5;129;01mnot\u001b[39;00m \u001b[38;5;28misinstance\u001b[39m(cfg, \u001b[38;5;28mdict\u001b[39m):\n\u001b[1;32m---> 64\u001b[0m         cfg \u001b[38;5;241m=\u001b[39m \u001b[38;5;28;43mself\u001b[39;49m\u001b[38;5;241;43m.\u001b[39;49m\u001b[43mload_cfg\u001b[49m\u001b[43m(\u001b[49m\u001b[43mcfg\u001b[49m\u001b[43m)\u001b[49m\n\u001b[0;32m     65\u001b[0m     cfg \u001b[38;5;241m=\u001b[39m \u001b[38;5;28mself\u001b[39m\u001b[38;5;241m.\u001b[39m_parse_model_kwargs(cfg)\n\u001b[0;32m     66\u001b[0m     defaults\u001b[38;5;241m.\u001b[39mupdate(cfg[\u001b[38;5;124m'\u001b[39m\u001b[38;5;124mmodel\u001b[39m\u001b[38;5;124m'\u001b[39m])\n",
      "File \u001b[1;32m~\\anaconda3\\envs\\mfsetup\\Lib\\site-packages\\mfsetup\\mfmodel.py:1791\u001b[0m, in \u001b[0;36mMFsetupMixin.load_cfg\u001b[1;34m(cls, yamlfile, verbose)\u001b[0m\n\u001b[0;32m   1776\u001b[0m \u001b[38;5;129m@classmethod\u001b[39m\n\u001b[0;32m   1777\u001b[0m \u001b[38;5;28;01mdef\u001b[39;00m\u001b[38;5;250m \u001b[39m\u001b[38;5;21mload_cfg\u001b[39m(\u001b[38;5;28mcls\u001b[39m, yamlfile, verbose\u001b[38;5;241m=\u001b[39m\u001b[38;5;28;01mFalse\u001b[39;00m):\n\u001b[0;32m   1778\u001b[0m \u001b[38;5;250m    \u001b[39m\u001b[38;5;124;03m\"\"\"Loads a configuration file, with default settings\u001b[39;00m\n\u001b[0;32m   1779\u001b[0m \u001b[38;5;124;03m    specific to the MFnwtModel or MF6model class.\u001b[39;00m\n\u001b[0;32m   1780\u001b[0m \n\u001b[1;32m   (...)\u001b[0m\n\u001b[0;32m   1789\u001b[0m \u001b[38;5;124;03m    cfg : dict (configuration dictionary)\u001b[39;00m\n\u001b[0;32m   1790\u001b[0m \u001b[38;5;124;03m    \"\"\"\u001b[39;00m\n\u001b[1;32m-> 1791\u001b[0m     \u001b[38;5;28;01mreturn\u001b[39;00m \u001b[43mload_cfg\u001b[49m\u001b[43m(\u001b[49m\u001b[43myamlfile\u001b[49m\u001b[43m,\u001b[49m\u001b[43m \u001b[49m\u001b[43mverbose\u001b[49m\u001b[38;5;241;43m=\u001b[39;49m\u001b[43mverbose\u001b[49m\u001b[43m,\u001b[49m\u001b[43m \u001b[49m\u001b[43mdefault_file\u001b[49m\u001b[38;5;241;43m=\u001b[39;49m\u001b[38;5;28;43mcls\u001b[39;49m\u001b[38;5;241;43m.\u001b[39;49m\u001b[43mdefault_file\u001b[49m\u001b[43m)\u001b[49m\n",
      "File \u001b[1;32m~\\anaconda3\\envs\\mfsetup\\Lib\\site-packages\\mfsetup\\fileio.py:197\u001b[0m, in \u001b[0;36mload_cfg\u001b[1;34m(cfgfile, verbose, default_file)\u001b[0m\n\u001b[0;32m    195\u001b[0m source_path \u001b[38;5;241m=\u001b[39m Path(\u001b[38;5;18m__file__\u001b[39m)\u001b[38;5;241m.\u001b[39mparent\n\u001b[0;32m    196\u001b[0m default_file \u001b[38;5;241m=\u001b[39m Path(default_file)\n\u001b[1;32m--> 197\u001b[0m \u001b[43mcheck_source_files\u001b[49m\u001b[43m(\u001b[49m\u001b[43m[\u001b[49m\u001b[43mcfgfile\u001b[49m\u001b[43m,\u001b[49m\u001b[43m \u001b[49m\u001b[43msource_path\u001b[49m\u001b[43m \u001b[49m\u001b[38;5;241;43m/\u001b[39;49m\u001b[43m \u001b[49m\u001b[43mdefault_file\u001b[49m\u001b[43m]\u001b[49m\u001b[43m)\u001b[49m\n\u001b[0;32m    199\u001b[0m \u001b[38;5;66;03m# default configuration\u001b[39;00m\n\u001b[0;32m    200\u001b[0m default_cfg \u001b[38;5;241m=\u001b[39m {}\n",
      "File \u001b[1;32m~\\anaconda3\\envs\\mfsetup\\Lib\\site-packages\\mfsetup\\fileio.py:43\u001b[0m, in \u001b[0;36mcheck_source_files\u001b[1;34m(fileslist)\u001b[0m\n\u001b[0;32m     41\u001b[0m f \u001b[38;5;241m=\u001b[39m Path(f)\n\u001b[0;32m     42\u001b[0m \u001b[38;5;28;01mif\u001b[39;00m \u001b[38;5;129;01mnot\u001b[39;00m f\u001b[38;5;241m.\u001b[39mexists():\n\u001b[1;32m---> 43\u001b[0m     \u001b[38;5;28;01mraise\u001b[39;00m \u001b[38;5;167;01mIOError\u001b[39;00m(\u001b[38;5;124mf\u001b[39m\u001b[38;5;124m'\u001b[39m\u001b[38;5;124mCannot find \u001b[39m\u001b[38;5;132;01m{\u001b[39;00mf\u001b[38;5;241m.\u001b[39mabsolute()\u001b[38;5;132;01m}\u001b[39;00m\u001b[38;5;124m'\u001b[39m)\n",
      "\u001b[1;31mOSError\u001b[0m: Cannot find E:\\15_REPOS\\00_BETAMI\\w10_______others\\04_Mnfienen\\initial_config_poly.yaml"
     ]
    }
   ],
   "source": [
    "def setup_grid(cfg_file):\n",
    "    m = MF6model(cfg=cfg_file)\n",
    "    m.setup_grid()\n",
    "    m.modelgrid.write_shapefile('postproc/shps/grid.shp')\n",
    "if __name__ == '__main__':\n",
    "    setup_grid('initial_config_poly.yaml')"
   ]
  },
  {
   "cell_type": "code",
   "execution_count": null,
   "id": "3f7bf9a3-8bde-431c-8d87-a35fede335e4",
   "metadata": {},
   "outputs": [],
   "source": []
  }
 ],
 "metadata": {
  "kernelspec": {
   "display_name": "mfsetup",
   "language": "python",
   "name": "mfsetup"
  },
  "language_info": {
   "codemirror_mode": {
    "name": "ipython",
    "version": 3
   },
   "file_extension": ".py",
   "mimetype": "text/x-python",
   "name": "python",
   "nbconvert_exporter": "python",
   "pygments_lexer": "ipython3",
   "version": "3.13.1"
  }
 },
 "nbformat": 4,
 "nbformat_minor": 5
}
