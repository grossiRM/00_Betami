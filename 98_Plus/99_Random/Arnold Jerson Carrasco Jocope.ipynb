{
 "cells": [
  {
   "cell_type": "code",
   "execution_count": 1,
   "id": "870eb52b-de4d-4959-989d-7727b9258054",
   "metadata": {},
   "outputs": [],
   "source": [
    "import os; import sys ; import matplotlib as mpl ; import matplotlib.pyplot as plt ; import numpy as np ; from flopy.plot.styles import styles\n",
    "import pathlib; from pathlib import Path; import pandas as pd; import flopy ; from modflow_devtools.misc import get_env, timed\n",
    "from pprint import pformat"
   ]
  },
  {
   "cell_type": "code",
   "execution_count": 2,
   "id": "61dbf67a-dd4f-4d3d-a211-1471905b8a98",
   "metadata": {},
   "outputs": [
    {
     "name": "stdout",
     "output_type": "stream",
     "text": [
      "E:\\15_REPOS\\00_BETAMI\\98_Plus\\99_Random\n"
     ]
    }
   ],
   "source": [
    "example_name = \"Flujo\"\n",
    "exe_name_mf = 'E:\\\\15_REPOS\\\\00_BETAMI\\\\bin\\\\mf2005'\n",
    "exe_name_mt = 'E:\\\\15_REPOS\\\\00_BETAMI\\\\bin\\\\mt3d-usgs_1.1.0_64'         # mt3dusgs\n",
    "current_directory = os.getcwd();  print(current_directory)"
   ]
  },
  {
   "cell_type": "code",
   "execution_count": 3,
   "id": "77e128d2-3a20-458a-b061-100ad26e3875",
   "metadata": {},
   "outputs": [],
   "source": [
    "path = pathlib.Path('E:\\\\15_REPOS\\\\00_BETAMI\\\\98_Plus\\\\99_Random')\n",
    "path.mkdir(parents=True, exist_ok=True); os.chdir(path); current_directory = os.getcwd()\n",
    "directory_name = 'A'    ; workspace = os.path.join('.', directory_name)\n",
    "if os.path.isdir(workspace) is False:\n",
    "    os.mkdir(workspace) \n",
    "output_folder = Path('A') ; output_folder.mkdir(exist_ok=True)"
   ]
  },
  {
   "cell_type": "code",
   "execution_count": 4,
   "id": "302bd016-268d-4b2c-866e-0fc96b761982",
   "metadata": {},
   "outputs": [],
   "source": [
    "mf = flopy.modflow.Modflow(modelname=example_name, exe_name=exe_name_mf,model_ws=output_folder)"
   ]
  },
  {
   "cell_type": "code",
   "execution_count": 5,
   "id": "bd451290-d206-4383-af0b-435f6cd4b7fd",
   "metadata": {},
   "outputs": [],
   "source": [
    "nlay, nrow, ncol = 30,1,100\n",
    "delr=delc= 10.\n",
    "laycbd=np.zeros((nlay), dtype=np.int32)\n",
    "laycbd[-1]=1\n",
    "top = 510.\n",
    "botm = np.ones((nlay), dtype=np.int32)\n",
    "for i in range (nlay):\n",
    "    botm[i]= 500 -(i*10)\n",
    "nper = 3\n",
    "nstp = [1]+[1]*2\n",
    "perlen = [1] + [864000]*1 + [314715599]*1\n",
    "steady = [True] + [False]*2"
   ]
  },
  {
   "cell_type": "code",
   "execution_count": 6,
   "id": "1ca81efd-b3cd-4c02-a3cf-0c18a0a3cb97",
   "metadata": {},
   "outputs": [],
   "source": [
    "dis=flopy.modflow.ModflowDis(mf, nlay=nlay, nrow=nrow, ncol=ncol,delr=delr, laycbd=laycbd, delc=delc,top=top, botm=botm, nper=nper,\n",
    "                             perlen=perlen, steady=steady, itmuni=1,lenuni=2)"
   ]
  },
  {
   "cell_type": "code",
   "execution_count": 7,
   "id": "687fd2da-1bcb-4485-9660-821f13e52db4",
   "metadata": {},
   "outputs": [],
   "source": [
    "ibound = np.ones((nlay, nrow, ncol), dtype=np.int32)"
   ]
  },
  {
   "cell_type": "code",
   "execution_count": 8,
   "id": "74e546cd-ab55-4275-8cfa-af8702f29bb8",
   "metadata": {},
   "outputs": [],
   "source": [
    "ibound[1:,:,0] = -1\n",
    "ibound[21:,:,-1] = -1\n",
    "bas = flopy.modflow.ModflowBas(mf, ibound=ibound, strt=top)"
   ]
  },
  {
   "cell_type": "code",
   "execution_count": null,
   "id": "aa4f2889-ea1e-430b-9960-89308f67219f",
   "metadata": {},
   "outputs": [],
   "source": [
    "chdspd={}\n",
    "chdspd[0]=[[i, 0, 0, 500., 500.] for i in range(1,30)]\n",
    "for i in range (21,30):\n",
    "    chdspd[0].append(([i, 0, 99, 300.,300.]))\n",
    "    chdspd[1]=[[i, 0, 0, 500., 500.] for i in range(1,30)]\n",
    "for i in range (21,30):\n",
    "    chdspd[1].append(([i, 0, 99, 300.,300.]))\n",
    "    chdspd[2]=[[i, 0, 0, 500., 500.] for i in range(1,30)]\n",
    "for i in range (21,30):\n",
    "    chdspd[2].append(([i, 0, 99, 300.,300.]))\n",
    "    chd = flopy.modflow.ModflowChd(mf, stress_period_data=chdspd)"
   ]
  },
  {
   "cell_type": "code",
   "execution_count": 2,
   "id": "67fcd968-ce96-4c83-8cd6-44c675f24b26",
   "metadata": {},
   "outputs": [],
   "source": [
    "kx=1"
   ]
  },
  {
   "cell_type": "code",
   "execution_count": null,
   "id": "4c5f7359-cf43-424a-b55f-4283dc46e3b5",
   "metadata": {},
   "outputs": [],
   "source": []
  }
 ],
 "metadata": {
  "jupytext": {
   "cell_metadata_filter": "-all"
  },
  "kernelspec": {
   "display_name": "Python 3 (ipykernel)",
   "language": "python",
   "name": "python3"
  },
  "language_info": {
   "codemirror_mode": {
    "name": "ipython",
    "version": 3
   },
   "file_extension": ".py",
   "mimetype": "text/x-python",
   "name": "python",
   "nbconvert_exporter": "python",
   "pygments_lexer": "ipython3",
   "version": "3.12.7"
  }
 },
 "nbformat": 4,
 "nbformat_minor": 5
}
