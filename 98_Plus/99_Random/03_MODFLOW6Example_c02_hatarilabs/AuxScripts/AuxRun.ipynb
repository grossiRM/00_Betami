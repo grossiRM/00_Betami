{
 "cells": [
  {
   "cell_type": "code",
   "execution_count": 1,
   "metadata": {},
   "outputs": [
    {
     "name": "stdout",
     "output_type": "stream",
     "text": [
      "Directory structure already exists for simulation path C:\\Users\\USER\\Documents\\Infohataris\\BasicExampleMODFLOWUZFFlopy\\Simulation\n"
     ]
    }
   ],
   "source": [
    "#%ls ..\\Exe\n",
    "\n",
    "import os, flopy\n",
    "\n",
    "#Going up to the example directory\n",
    "exampleDir = os.path.dirname(os.getcwd())\n",
    "\n",
    "simName = 'mf6uzfexamplesim'\n",
    "simPath = exampleDir + '\\Simulation'\n",
    "exeName = exampleDir + '\\Exe\\mf6.exe'\n",
    "\n",
    "sim = flopy.mf6.MFSimulation(sim_name=simName,\n",
    "                            version='mf6', exe_name=exeName,\n",
    "                            sim_ws=simPath)"
   ]
  },
  {
   "cell_type": "code",
   "execution_count": 2,
   "metadata": {},
   "outputs": [],
   "source": [
    "\n",
    "tdis = flopy.mf6.ModflowTdis(sim, pname='tdis', time_units='DAYS', nper=2, \n",
    "                             perioddata=[(1.0, 1, 1.0), (10.0, 5, 1.0)])"
   ]
  },
  {
   "cell_type": "code",
   "execution_count": 3,
   "metadata": {},
   "outputs": [],
   "source": [
    "model_name = 'example_model'\n",
    "model = flopy.mf6.MFModel(sim, modelname=model_name,\n",
    "                             model_nam_file='{}.nam'.format(model_name))"
   ]
  },
  {
   "cell_type": "code",
   "execution_count": 4,
   "metadata": {},
   "outputs": [],
   "source": [
    "\n",
    "ims_package  = flopy.mf6.ModflowIms(sim, pname='ims', print_option='ALL',\n",
    "                                   complexity='SIMPLE', outer_hclose=0.00001,\n",
    "                                   outer_maximum=50, under_relaxation='NONE',\n",
    "                                   inner_maximum=30, inner_hclose=0.00001,\n",
    "                                   linear_acceleration='CG',\n",
    "                                   preconditioner_levels=7,\n",
    "                                   preconditioner_drop_tolerance=0.01,\n",
    "                                   number_orthogonalizations=2)"
   ]
  },
  {
   "cell_type": "code",
   "execution_count": 5,
   "metadata": {},
   "outputs": [],
   "source": [
    "sim.register_ims_package(ims_package, [model_name])"
   ]
  },
  {
   "cell_type": "code",
   "execution_count": 6,
   "metadata": {},
   "outputs": [],
   "source": [
    "\n",
    "dis_packagedis_pac  = flopy.mf6.ModflowGwfdis(model, pname='dis', length_units='FEET', nlay=2,\n",
    "                                      nrow=2, ncol=5, delr=500.0,\n",
    "                                      delc=500.0,\n",
    "                                      top=100.0, botm=[50.0, 20.0],\n",
    "                                      fname='{}.dis'.format(model_name))"
   ]
  },
  {
   "cell_type": "code",
   "execution_count": 7,
   "metadata": {},
   "outputs": [],
   "source": [
    "# set the nocheck property in the simulation namefile\n",
    "sim.name_file.nocheck = True\n",
    "# set the print_input option in the model namefile\n",
    "model.name_file.print_input = True"
   ]
  },
  {
   "cell_type": "code",
   "execution_count": 8,
   "metadata": {},
   "outputs": [],
   "source": [
    "# Turn Newton option on with under relaxation \n",
    "model.name_file.newtonoptions = ('UNDER_RELAXATION')\n",
    "# Turn Newton option on without under relaxation\n",
    "model.name_file.newtonoptions = ('')\n",
    "# Turn off Newton option \n",
    "model.name_file.newtonoptions = (None)"
   ]
  },
  {
   "cell_type": "code",
   "execution_count": 9,
   "metadata": {},
   "outputs": [
    {
     "name": "stdout",
     "output_type": "stream",
     "text": [
      "[{'factor': 1.5, 'iprn': 1, 'data': [65.0, 60.0, 55.0, 50.0, 45.0, 40.0, 35.0, 30.0, 25.0, 20.0]}, 100.0]\n"
     ]
    }
   ],
   "source": [
    "# build a data template for k that stores the first layer as an internal array and the second\n",
    "# layer as a constant with the default value of k for all layers set to 100.0 \n",
    "layer_storage_types = [flopy.mf6.data.mfdata.DataStorageType.internal_array, \n",
    "                       flopy.mf6.data.mfdata.DataStorageType.internal_constant]\n",
    "k_template = flopy.mf6.ModflowGwfnpf.k.empty(model, True, layer_storage_types, 100.0)\n",
    "# change the value of the second layer to 50.0\n",
    "k_template[0]['data'] = [65.0, 60.0, 55.0, 50.0, 45.0, 40.0, 35.0, 30.0, 25.0, 20.0]\n",
    "k_template[0]['factor'] = 1.5\n",
    "print(k_template)\n",
    "# create npf package using the k template to define k\n",
    "npf_package = flopy.mf6.ModflowGwfnpf(model, pname='npf', save_flows=True, icelltype=1, k=k_template)"
   ]
  },
  {
   "cell_type": "code",
   "execution_count": 10,
   "metadata": {},
   "outputs": [],
   "source": [
    "from shutil import copyfile\n",
    "strt={'filename': 'strt.txt', 'factor':1.0, 'data':[100.0, 100.0, 100.0, 100.0, 100.0, 100.0, 100.0, 100.0, 100.0, 100.0, \n",
    "      90.0, 90.0, 90.0, 90.0, 90.0, 90.0, 90.0, 90.0, 90.0, 90.0]}\n",
    "ic_package = flopy.mf6.ModflowGwfic(model, pname='ic', strt=100,\n",
    "                                    fname='{}.ic'.format(model_name))\n",
    "\n",
    "# create storage package\n",
    "sto_package = flopy.mf6.ModflowGwfsto(model, pname='sto', save_flows=True, iconvert=0,\n",
    "                                      ss=[0.000001, 0.000002], \n",
    "                                      sy=[0.15, 0.14, 0.13, 0.12, 0.11, 0.11, 0.12, 0.13, 0.14, 0.15,\n",
    "                                         0.15, 0.14, 0.13, 0.12, 0.11, 0.11, 0.12, 0.13, 0.14, 0.15])"
   ]
  },
  {
   "cell_type": "code",
   "execution_count": 11,
   "metadata": {},
   "outputs": [],
   "source": [
    "\n",
    "maxbound  = 2\n",
    "# build a stress_period_data template with 2 wells over stress periods 1 and 2 with boundnames \n",
    "# and three aux variables\n",
    "wel_periodrec = flopy.mf6.ModflowGwfwel.stress_period_data.empty(model, maxbound=maxbound, boundnames=True, \n",
    "                                                             aux_vars=['var1', 'var2', 'var3'],\n",
    "                                                             stress_periods=[0,1])\n",
    "# define the two wells for stress period one\n",
    "wel_periodrec[0][0] = ((0,1,2), -50.0, -1, -2, -3, 'First Well')\n",
    "wel_periodrec[0][1] = ((1,1,4), -25.0, 2, 3, 4, 'Second Well')\n",
    "# define the two wells for stress period two\n",
    "wel_periodrec[1][0] = ((0,1,2), -200.0, -1, -2, -3, 'First Well')\n",
    "wel_periodrec[1][1] = ((1,1,4), -4000.0, 2, 3, 4, 'Second Well')\n",
    "# build the well package\n",
    "wel_package = flopy.mf6.ModflowGwfwel(model, pname='wel', print_input=True, print_flows=True,\n",
    "                                      auxiliary=[('var1', 'var2', 'var3')], maxbound=maxbound,\n",
    "                                      stress_period_data=wel_periodrec, boundnames=True, save_flows=True)"
   ]
  },
  {
   "cell_type": "code",
   "execution_count": 12,
   "metadata": {},
   "outputs": [],
   "source": [
    "\n",
    "# printrecord data as a list of tuples.  since no stress# print \n",
    "# period is specified it will default to stress period 1\n",
    "printrec_tuple_list = [('HEAD', 'ALL'), ('BUDGET', 'ALL')]\n",
    "# saverecord data as a dictionary of lists of tuples for \n",
    "# stress periods 1 and 2.  \n",
    "saverec_dict = {0:[('HEAD', 'ALL'), ('BUDGET', 'ALL')],1:[('HEAD', 'ALL'), ('BUDGET', 'ALL')]}\n",
    "# create oc package\n",
    "oc_package = flopy.mf6.ModflowGwfoc(model, pname='oc', \n",
    "                                    budget_filerecord=[('{}.cbc'.format(model_name),)],\n",
    "                                    head_filerecord=[('{}.hds'.format(model_name),)],\n",
    "                                    saverecord=saverec_dict,\n",
    "                                    printrecord=printrec_tuple_list)\n",
    "# add stress period two to the print record\n",
    "oc_package.printrecord.add_transient_key(1)\n",
    "# set the data for stress period two in the print record\n",
    "oc_package.printrecord.set_data([('HEAD', 'ALL'), ('BUDGET', 'ALL')], 1)"
   ]
  },
  {
   "cell_type": "code",
   "execution_count": 13,
   "metadata": {},
   "outputs": [],
   "source": [
    "stress_period_data = {0: [[(0, 0, 0), 70.]],\n",
    "                      1: [[(0, 0, 0), 60.]]}\n",
    "chd = flopy.mf6.ModflowGwfchd(model, maxbound=1, stress_period_data=stress_period_data)"
   ]
  },
  {
   "cell_type": "code",
   "execution_count": null,
   "metadata": {},
   "outputs": [],
   "source": []
  },
  {
   "cell_type": "code",
   "execution_count": 14,
   "metadata": {},
   "outputs": [
    {
     "name": "stdout",
     "output_type": "stream",
     "text": [
      "WARNING: Unable to resolve dimension of ('nam', 'solutiongroup', 'solutiongroup', 'slnmnames') based on shape \"nslnmod\".\n",
      "INFORMATION: 0 external files copied\n",
      "FloPy is using the following executable to run the model: C:\\Users\\USER\\Documents\\Infohataris\\BasicExampleMODFLOWUZFFlopy\\Exe\\mf6.exe\n",
      "                                   MODFLOW 6\n",
      "                U.S. GEOLOGICAL SURVEY MODULAR HYDROLOGIC MODEL\n",
      "                       VERSION mf6.0.2 February 23, 2018\n",
      "\n",
      "   MODFLOW 6 compiled Feb 21 2018 10:49:51 with IFORT compiler (ver. 18.0.1)\n",
      "\n",
      "This software has been approved for release by the U.S. Geological \n",
      "Survey (USGS). Although the software has been subjected to rigorous \n",
      "review, the USGS reserves the right to update the software as needed \n",
      "pursuant to further analysis and review. No warranty, expressed or \n",
      "implied, is made by the USGS or the U.S. Government as to the \n",
      "functionality of the software and related material nor shall the \n",
      "fact of release constitute any such warranty. Furthermore, the \n",
      "software is released on condition that neither the USGS nor the U.S. \n",
      "Government shall be held liable for any damages resulting from its \n",
      "authorized or unauthorized use. Also refer to the USGS Water \n",
      "Resources Software User Rights Notice for complete use, copyright, \n",
      "and distribution information.\n",
      "\n",
      " Run start date and time (yyyy/mm/dd hh:mm:ss): 2018/07/05 11:25:53\n",
      "\n",
      " Writing simulation list file: mfsim.lst\n",
      " Using Simulation name file: mfsim.nam\n",
      " Solving:  Stress period:     1    Time step:     1\n",
      " Solving:  Stress period:     2    Time step:     1\n",
      " Solving:  Stress period:     2    Time step:     2\n",
      " Solving:  Stress period:     2    Time step:     3\n",
      " Solving:  Stress period:     2    Time step:     4\n",
      " Solving:  Stress period:     2    Time step:     5\n",
      " Run end date and time (yyyy/mm/dd hh:mm:ss): 2018/07/05 11:25:53\n",
      " Elapsed run time:  0.044 Seconds\n",
      "\n",
      " Normal termination of simulation.\n"
     ]
    },
    {
     "data": {
      "text/plain": [
       "(True, [])"
      ]
     },
     "execution_count": 14,
     "metadata": {},
     "output_type": "execute_result"
    }
   ],
   "source": [
    "# write simulation to new location\n",
    "sim.write_simulation()\n",
    "\n",
    "# run simulation\n",
    "sim.run_simulation()"
   ]
  },
  {
   "cell_type": "code",
   "execution_count": null,
   "metadata": {},
   "outputs": [],
   "source": []
  },
  {
   "cell_type": "code",
   "execution_count": null,
   "metadata": {},
   "outputs": [],
   "source": []
  }
 ],
 "metadata": {
  "kernelspec": {
   "display_name": "Python 3",
   "language": "python",
   "name": "python3"
  },
  "language_info": {
   "codemirror_mode": {
    "name": "ipython",
    "version": 3
   },
   "file_extension": ".py",
   "mimetype": "text/x-python",
   "name": "python",
   "nbconvert_exporter": "python",
   "pygments_lexer": "ipython3",
   "version": "3.6.5"
  }
 },
 "nbformat": 4,
 "nbformat_minor": 2
}
