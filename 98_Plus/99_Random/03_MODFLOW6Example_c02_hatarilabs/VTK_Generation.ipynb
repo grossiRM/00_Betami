{
 "cells": [
  {
   "cell_type": "markdown",
   "metadata": {},
   "source": [
    "<br/>\n",
    "<br/>\n",
    "<br/>\n",
    "___\n",
    "\n",
    "# Import packages, read files and create empty dicts"
   ]
  },
  {
   "cell_type": "code",
   "execution_count": 1,
   "metadata": {},
   "outputs": [],
   "source": [
    "import os, re\n",
    "import numpy as np\n",
    "from workFunctions import workFunctions\n",
    "from vtkFunctions import vtkFunctions  \n",
    "from transFunctions import transFunctions\n",
    "from listFunctions import listFunctions"
   ]
  },
  {
   "cell_type": "code",
   "execution_count": 2,
   "metadata": {},
   "outputs": [],
   "source": [
    "simFileName = '../Simulation/'+'mf6uzfexample'\n",
    "#open the DIS, BAS and FHD and DRN files\n",
    "chdLines  = open(simFileName+'.chd').readlines()\n",
    "disLines  = open(simFileName+'.dis').readlines()\n",
    "icLines   = open(simFileName+'.ic').readlines()\n",
    "npfLines  = open(simFileName+'.npf').readlines()          \n",
    "welLines  = open(simFileName+'.wel').readlines()             "
   ]
  },
  {
   "cell_type": "code",
   "execution_count": 3,
   "metadata": {},
   "outputs": [],
   "source": [
    "#create a empty dictionay to store the model features\n",
    "modChd  = {}\n",
    "modDis  = {}\n",
    "modDrn  = {}\n",
    "modIc   = {}\n",
    "modNpf  = {}\n",
    "modRch  = {}\n",
    "modWel  = {}\n",
    "modHds  = {}"
   ]
  },
  {
   "cell_type": "markdown",
   "metadata": {},
   "source": [
    "<br/>\n",
    "<br/>\n",
    "<br/>\n",
    "___\n",
    "\n",
    "# Working with the DIS (Discretization Data) data"
   ]
  },
  {
   "cell_type": "markdown",
   "metadata": {},
   "source": [
    "### General model features as modDis dict"
   ]
  },
  {
   "cell_type": "code",
   "execution_count": 4,
   "metadata": {},
   "outputs": [],
   "source": [
    "########################\n",
    "### General model features as modDis dict\n",
    "#get the number of layers, rows, columns, cell and vertex numbers\n",
    "for line in disLines:\n",
    "    if 'NLAY' in line:\n",
    "        modDis['cellLays'] = int(line.split()[1])\n",
    "    elif 'NROW' in line:\n",
    "        modDis['cellRows'] = int(line.split()[1])\n",
    "    elif 'NCOL' in line:\n",
    "        modDis['cellCols'] = int(line.split()[1])\n",
    "        \n",
    "modDis[\"vertexLays\"] = modDis[\"cellLays\"] + 1\n",
    "modDis[\"vertexRows\"] = modDis[\"cellRows\"] + 1\n",
    "modDis[\"vertexCols\"] = modDis[\"cellCols\"] + 1\n",
    "modDis[\"vertexPerLay\"] = modDis[\"vertexRows\"] * modDis[\"vertexCols\"]\n",
    "modDis[\"cellsPerLay\"] = modDis[\"cellRows\"] * modDis[\"cellCols\"]\n",
    "\n",
    "########################\n",
    "### Get the DIS Breakers\n",
    "modDis['DELRArray1D'] = workFunctions.getListFromDel('delr',modDis,disLines)\n",
    "modDis['DELCArray1D'] = workFunctions.getListFromDel('delc',modDis,disLines)\n",
    "\n",
    "modDis['cellZVertexGrid']={}\n",
    "modDis['cellZVertexGrid']['lay0']=workFunctions.getUniLayerListFromTerm(modDis,disLines,'top').reshape(modDis['cellRows'],modDis['cellCols'])\n",
    "\n",
    "listFromBottom = workFunctions.getListinDictxLayFromGriddataLayered(modDis,disLines,'botm',modDis)\n",
    "#i = 0\n",
    "for lay in range(1,modDis['vertexLays']):\n",
    "    modDis['cellZVertexGrid']['lay'+str(lay)]=np.asarray(listFromBottom['lay'+str(lay-1)]).reshape(modDis['cellRows'],modDis['cellCols'])\n",
    "#    i+=1\n",
    "    \n",
    "########################\n",
    "### Geolocation model data\n",
    "modDis[\"vertexXmin\"]=0\n",
    "modDis[\"vertexYmin\"]=0\n",
    "modDis[\"vertexXmax\"]=sum(modDis['DELRArray1D'])\n",
    "modDis[\"vertexYmax\"]=sum(modDis['DELCArray1D'])\n",
    "\n",
    "########################\n",
    "### List of arrays of cells and vertex coord\n",
    "modDis['vertexEastingArray1D']  = np.array([modDis['vertexXmin']+np.sum(modDis['DELRArray1D'][:col]) for col in range(modDis['vertexCols'])])\n",
    "modDis['vertexNorthingArray1D'] = np.array([modDis['vertexYmax']-np.sum(modDis['DELCArray1D'][:row]) for row in range(modDis['vertexRows'])])\n",
    "\n",
    "modDis['cellEastingArray1D']    = np.array([modDis['vertexXmin']+np.sum(modDis['DELRArray1D'][:col])+modDis['DELRArray1D'][col]/2 for col in range(modDis['cellCols'])])\n",
    "modDis['cellNorthingArray1D']   = np.array([modDis['vertexYmax']-np.sum(modDis['DELCArray1D'][:row])-modDis['DELCArray1D'][row]/2 for row in range(modDis['cellRows'])])\n",
    "\n",
    "########################\n",
    "### Grid of XYZ Vertex Coordinates\n",
    "modDis['vertexXGrid'] = np.repeat(modDis['vertexEastingArray1D'].reshape(modDis['vertexCols'],1),modDis['vertexRows'],axis=1).T\n",
    "modDis['vertexYGrid'] = np.repeat(modDis['vertexNorthingArray1D'],modDis['vertexCols']).reshape(modDis['vertexRows'],modDis['vertexCols'])\n",
    "modDis['vertexZGrid'] = transFunctions.interpolateCelltoVertex(modDis,'cellZVertexGrid')"
   ]
  },
  {
   "cell_type": "markdown",
   "metadata": {},
   "source": [
    "<br/>\n",
    "<br/>\n",
    "<br/>\n",
    "___\n",
    "\n",
    "# Get the Info for Boundary Conditions and Cell Heads"
   ]
  },
  {
   "cell_type": "code",
   "execution_count": 5,
   "metadata": {},
   "outputs": [],
   "source": [
    "# Get the NPF Info\n",
    "modNpf['iCellTypeList'] = workFunctions.getListinDictxLayFromGriddataLayered(modNpf,npfLines,'icelltype',modDis)\n",
    "modNpf['kList'] = workFunctions.getListinDictxLayFromGriddataLayered(modNpf,npfLines,'k  LAYERED',modDis)\n",
    "\n",
    "# Get the IC Info\n",
    "modIc['strtList'] = workFunctions.getListinDictxLayFromGriddataLayered(modIc,icLines,'strt',modDis)\n",
    "\n",
    "# Get the CHD Info\n",
    "modChd['maxBound'] = workFunctions.getTermFromKeyword(chdLines,'MAXBOUND','dimensions')\n",
    "modChd['chdCells'] = workFunctions.getCellsforBoundary(chdLines,'chd',modChd['maxBound'],1)\n",
    "\n",
    "# Get the WEL Info\n",
    "modWel['maxBound'] = workFunctions.getTermFromKeyword(welLines,'MAXBOUND','dimensions')\n",
    "modWel['welCells'] = workFunctions.getCellsforBoundary(welLines,'wel',modWel['maxBound'],1)\n",
    "\n",
    "# Get the HDS info\n",
    "### Store heads per lay\n",
    "import flopy.utils.binaryfile as bf\n",
    "modHds['cellHeadGrid'] = {}\n",
    "\n",
    "headObject = bf.HeadFile(simFileName+'.hds', precision='double')\n",
    "headObjectList = headObject.get_data()\n",
    "headObject.close()\n",
    "\n",
    "for lay in range(modDis['cellLays']):\n",
    "    modHds['cellHeadGrid']['lay'+str(lay)] = headObjectList[lay]\n",
    "    \n",
    "vertexHeadGridCentroid = transFunctions.vertexHeadGridCentroidFunction(modDis,modHds)\n",
    "modHds['vertexHeadGrid'] = transFunctions.vertexHeadGridFunction(vertexHeadGridCentroid,modDis,modHds)"
   ]
  },
  {
   "cell_type": "markdown",
   "metadata": {},
   "source": [
    "<br/>\n",
    "<br/>\n",
    "<br/>\n",
    "___\n",
    "\n",
    "# VTK file of Model Geometry, Model Results and Boundary Conditions\n"
   ]
  },
  {
   "cell_type": "markdown",
   "metadata": {},
   "source": [
    "## Point Data"
   ]
  },
  {
   "cell_type": "code",
   "execution_count": 6,
   "metadata": {},
   "outputs": [],
   "source": [
    "### Vertex Heads\n",
    "listVertexHead = listFunctions.listCellHeadsFunction('vertexLays','vertexHeadGrid',modDis,modHds)\n",
    "\n",
    "### Water Tables Vextex\n",
    "listWaterTableVertex = listFunctions.listWaterTableVertexFunction(modDis,modHds)"
   ]
  },
  {
   "cell_type": "markdown",
   "metadata": {},
   "source": [
    "## Point Definition"
   ]
  },
  {
   "cell_type": "code",
   "execution_count": 7,
   "metadata": {},
   "outputs": [],
   "source": [
    "### Definition of XYZ points for All Vertex\n",
    "vertexXYZPoints = listFunctions.vertexXYZPointsFunction(modDis)\n",
    "\n",
    "### Definition of XYZ points for Water Table\n",
    "vertexWaterTableXYZPoints = listFunctions.vertexWaterTableXYZPointsFunction(listWaterTableVertex,modDis)"
   ]
  },
  {
   "cell_type": "markdown",
   "metadata": {},
   "source": [
    "## Quad and Hexa Sequences"
   ]
  },
  {
   "cell_type": "code",
   "execution_count": 8,
   "metadata": {},
   "outputs": [],
   "source": [
    "### List of Layer Quad Sequences (Works only for a single layer)\n",
    "listLayerQuadSequence = listFunctions.listLayerQuadSequenceFunction(modDis)\n",
    "\n",
    "### List of Hexa Sequences for All Cells\n",
    "listHexaSequence = listFunctions.listHexaSequenceFunction(modDis)\n",
    "\n",
    "### List of Hexa Sequences for CHD Cells\n",
    "listChdCellsHexaSecuence = listFunctions.bcCellsListFunction(modChd,'chdCells',listHexaSequence,modDis)[1]\n",
    "\n",
    "### List of Hexa Sequences for wEL Cells\n",
    "listWelCellsHexaSecuence = listFunctions.bcCellsListFunction(modWel,'welCells',listHexaSequence,modDis)[1]"
   ]
  },
  {
   "cell_type": "markdown",
   "metadata": {
    "collapsed": true
   },
   "source": [
    "## Cell Data"
   ]
  },
  {
   "cell_type": "code",
   "execution_count": 9,
   "metadata": {},
   "outputs": [],
   "source": [
    "### Definition of cellHead\n",
    "listCellHead = listFunctions.listCellHeadsFunction('cellLays','cellHeadGrid',modDis,modHds)\n",
    "\n",
    "### Definition of CHD cells values '1' as List\n",
    "listChdCellsIO = listFunctions.bcCellsListFunction(modChd,'chdCells',listHexaSequence,modDis)[0]\n",
    "\n",
    "### Definition of WEL cells values '1' as List\n",
    "listWelCellsIO = listFunctions.bcCellsListFunction(modWel,'welCells',listHexaSequence,modDis)[0]\n",
    "\n",
    "### Water Tables on Cell\n",
    "listWaterTableCell = listFunctions.listWaterTableCellFunction(modDis,modHds)"
   ]
  },
  {
   "cell_type": "markdown",
   "metadata": {},
   "source": [
    "<br/>\n",
    "<br/>\n",
    "<br/>\n",
    "___\n",
    "\n",
    "# VTK Creation"
   ]
  },
  {
   "cell_type": "markdown",
   "metadata": {
    "collapsed": true
   },
   "source": [
    "## Heads on Vertex and Cells VTK"
   ]
  },
  {
   "cell_type": "code",
   "execution_count": 10,
   "metadata": {},
   "outputs": [],
   "source": [
    "vtuFileName = '../vtuFiles/'+'mf6uzfexample'"
   ]
  },
  {
   "cell_type": "code",
   "execution_count": 11,
   "metadata": {},
   "outputs": [],
   "source": [
    "vtkText = open(vtuFileName+'_Heads.vtu','w')\n",
    "\n",
    "vtkFunctions.printHeader(vtkText,len(vertexXYZPoints),len(listHexaSequence))\n",
    "\n",
    "vtkFunctions.printPointData(vtkText,'VertexHeads',listVertexHead)\n",
    "\n",
    "vtkFunctions.printCellData(vtkText,'CellHeads',listCellHead)\n",
    "\n",
    "vtkFunctions.printPointDefinition(vtkText,vertexXYZPoints)\n",
    "\n",
    "vtkFunctions.printCellHexaConnectivityOffsetType(vtkText,listHexaSequence)\n",
    "\n",
    "vtkFunctions.printFooter(vtkText)\n",
    "\n",
    "vtkText.close()"
   ]
  },
  {
   "cell_type": "markdown",
   "metadata": {
    "collapsed": true
   },
   "source": [
    "## Water Table VTK"
   ]
  },
  {
   "cell_type": "code",
   "execution_count": 12,
   "metadata": {},
   "outputs": [],
   "source": [
    "vtkText = open(vtuFileName+'_WaterTable.vtu','w')\n",
    "\n",
    "vtkFunctions.printHeader(vtkText,len(vertexWaterTableXYZPoints),len(listWaterTableCell))\n",
    "\n",
    "vtkFunctions.printCellData(vtkText,'WaterTableElev',listWaterTableCell)\n",
    "\n",
    "vtkFunctions.printPointDefinition(vtkText,vertexWaterTableXYZPoints)\n",
    "\n",
    "vtkFunctions.printCellQuadConnectivityOffsetType(vtkText,listLayerQuadSequence)\n",
    "\n",
    "vtkFunctions.printFooter(vtkText)\n",
    "\n",
    "vtkText.close()"
   ]
  },
  {
   "cell_type": "markdown",
   "metadata": {},
   "source": [
    "## CHD Package VTK"
   ]
  },
  {
   "cell_type": "code",
   "execution_count": 13,
   "metadata": {},
   "outputs": [],
   "source": [
    "vtkText = open(vtuFileName+'_CHDCells.vtu','w')\n",
    "\n",
    "vtkFunctions.printHeader(vtkText,len(vertexXYZPoints),len(listChdCellsHexaSecuence))\n",
    "\n",
    "vtkFunctions.printCellData(vtkText,'CHDCells',listChdCellsIO)\n",
    "\n",
    "vtkFunctions.printPointDefinition(vtkText,vertexXYZPoints)\n",
    "\n",
    "vtkFunctions.printCellHexaConnectivityOffsetType(vtkText,listChdCellsHexaSecuence)\n",
    "\n",
    "vtkFunctions.printFooter(vtkText)\n",
    "\n",
    "vtkText.close()"
   ]
  },
  {
   "cell_type": "markdown",
   "metadata": {},
   "source": [
    "## WEL Package VTK"
   ]
  },
  {
   "cell_type": "code",
   "execution_count": 14,
   "metadata": {},
   "outputs": [],
   "source": [
    "vtkText = open(vtuFileName+'_WELCells.vtu','w')\n",
    "\n",
    "vtkFunctions.printHeader(vtkText,len(vertexXYZPoints),len(listWelCellsHexaSecuence))\n",
    "\n",
    "vtkFunctions.printCellData(vtkText,'WELCells',listWelCellsIO)\n",
    "\n",
    "vtkFunctions.printPointDefinition(vtkText,vertexXYZPoints)\n",
    "\n",
    "vtkFunctions.printCellHexaConnectivityOffsetType(vtkText,listWelCellsHexaSecuence)\n",
    "\n",
    "vtkFunctions.printFooter(vtkText)\n",
    "\n",
    "vtkText.close()"
   ]
  },
  {
   "cell_type": "code",
   "execution_count": null,
   "metadata": {},
   "outputs": [],
   "source": []
  }
 ],
 "metadata": {
  "kernelspec": {
   "display_name": "Python 3",
   "language": "python",
   "name": "python3"
  },
  "language_info": {
   "codemirror_mode": {
    "name": "ipython",
    "version": 3
   },
   "file_extension": ".py",
   "mimetype": "text/x-python",
   "name": "python",
   "nbconvert_exporter": "python",
   "pygments_lexer": "ipython3",
   "version": "3.6.5"
  }
 },
 "nbformat": 4,
 "nbformat_minor": 2
}
