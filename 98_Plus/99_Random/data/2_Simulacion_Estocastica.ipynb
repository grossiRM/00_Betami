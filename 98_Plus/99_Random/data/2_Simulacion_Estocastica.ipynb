{
 "cells": [
  {
   "cell_type": "markdown",
   "metadata": {},
   "source": [
    "**Importar bibliotecas**"
   ]
  },
  {
   "cell_type": "code",
   "execution_count": 1,
   "metadata": {},
   "outputs": [
    {
     "name": "stdout",
     "output_type": "stream",
     "text": [
      "flopy is installed in C:\\Users\\Jerson\\miniconda3\\lib\\site-packages\\flopy\n"
     ]
    }
   ],
   "source": [
    "import os, flopy\n",
    "import pandas as pd\n",
    "import numpy as np\n",
    "import matplotlib.pyplot as plt\n",
    "import flopy.utils.binaryfile as bf\n",
    "import shutil"
   ]
  },
  {
   "cell_type": "markdown",
   "metadata": {},
   "source": [
    "**MODELO DE FLUJO**"
   ]
  },
  {
   "cell_type": "markdown",
   "metadata": {},
   "source": [
    "**Asignación de nombre de modelo**"
   ]
  },
  {
   "cell_type": "code",
   "execution_count": 2,
   "metadata": {},
   "outputs": [],
   "source": [
    "model_ws='../4_OUT/R_SIM'\n",
    "modelname='Modelo_Flujo'\n",
    "exe_name= '../1_SOLVER/mf2005.exe'\n",
    "mf = flopy.modflow.Modflow(modelname, exe_name=exe_name, model_ws=model_ws)"
   ]
  },
  {
   "cell_type": "markdown",
   "metadata": {},
   "source": [
    "**Discretización Espacial**"
   ]
  },
  {
   "cell_type": "code",
   "execution_count": 3,
   "metadata": {},
   "outputs": [],
   "source": [
    "nlay = 30\n",
    "nrow = 1\n",
    "ncol = 100\n",
    "delr=10.\n",
    "delc=1.\n",
    "top = 510.\n",
    "botm = np.ones((nlay), dtype=np.int32)\n",
    "for i in range (nlay):\n",
    "    botm[i]= 500 -(i*10)\n",
    "nper = 3\n",
    "nstp = [1]+[1]*2 \n",
    "perlen = [1] + [864000]*1 + [2523743999]*1\n",
    "steady = [True] + [False]*2\n",
    "\n",
    "dis=flopy.modflow.ModflowDis(mf, nlay=nlay, nrow=nrow, ncol=ncol, delr=delr, delc=delc, top=top, \n",
    "                             botm=botm, nper=nper, perlen=perlen, steady=steady, itmuni=1, lenuni=2)"
   ]
  },
  {
   "cell_type": "code",
   "execution_count": 4,
   "metadata": {},
   "outputs": [],
   "source": [
    "#botm\n",
    "#dis.plot()"
   ]
  },
  {
   "cell_type": "markdown",
   "metadata": {},
   "source": [
    "**Definición de celdas activas/paquete BAS**\n",
    "\n"
   ]
  },
  {
   "cell_type": "code",
   "execution_count": 5,
   "metadata": {},
   "outputs": [],
   "source": [
    "ibound = np.ones((nlay, nrow, ncol), dtype=np.int32)\n",
    "ibound[1:,:,0] = -1\n",
    "ibound[21:,:,-1] = -1\n",
    "#ibound"
   ]
  },
  {
   "cell_type": "markdown",
   "metadata": {},
   "source": [
    "**Altura inicial - strt** "
   ]
  },
  {
   "cell_type": "code",
   "execution_count": 6,
   "metadata": {},
   "outputs": [],
   "source": [
    "bas = flopy.modflow.ModflowBas(mf, ibound=ibound, strt=top)\n",
    "#bas.plot()"
   ]
  },
  {
   "cell_type": "markdown",
   "metadata": {},
   "source": [
    "**Nivel constante - CHD**"
   ]
  },
  {
   "cell_type": "code",
   "execution_count": 7,
   "metadata": {},
   "outputs": [],
   "source": [
    "chdspd={}\n",
    "chdspd[0]=[[i, 0, 0, 500., 500.] for i in range(1,30)]\n",
    "for i in range (21,30):\n",
    "    chdspd[0].append(([i, 0, 99, 300.,300.])) \n",
    "chdspd[1]=[[i, 0, 0, 500., 500.] for i in range(1,30)]\n",
    "for i in range (21,30):\n",
    "    chdspd[1].append(([i, 0, 99, 300.,300.])) \n",
    "chdspd[2]=[[i, 0, 0, 500., 500.] for i in range(1,30)]\n",
    "for i in range (21,30):\n",
    "    chdspd[2].append(([i, 0, 99, 300.,300.])) \n",
    "    \n",
    "chd = flopy.modflow.ModflowChd(mf, stress_period_data=chdspd)"
   ]
  },
  {
   "cell_type": "markdown",
   "metadata": {},
   "source": [
    "**Conductividad Hidráulica**"
   ]
  },
  {
   "cell_type": "code",
   "execution_count": 8,
   "metadata": {},
   "outputs": [],
   "source": [
    "kx=pd.read_excel('../3_IN/SIMULACION_K.xlsx', sheet_name=None, header=None) \n",
    "#kx"
   ]
  },
  {
   "cell_type": "markdown",
   "metadata": {},
   "source": [
    "**Paquete solucionador mf2005**"
   ]
  },
  {
   "cell_type": "code",
   "execution_count": 9,
   "metadata": {},
   "outputs": [],
   "source": [
    "pcg =flopy.modflow.ModflowPcg(mf, mxiter=85, iter1=57, npcond=1, nbpol=1, hclose=1e-05, rclose=1e-05, relax=1,\n",
    "                              iprpcg=0, mutpcg=0, ihcofadd=0)"
   ]
  },
  {
   "cell_type": "code",
   "execution_count": 10,
   "metadata": {},
   "outputs": [],
   "source": [
    "#numero de simulaciones estocasticas\n",
    "n_estocasticas=['00','01','02','03','04','05','06','07','08','09','10','11','12','13','14','15','16','17','18','19',\n",
    "                '20','21','22','23','24','25','26','27','28','29','30','31','32','33','34','35','36','37','38','39',\n",
    "                '40','41','42','43','44','45','46','47','48','49','50','51','52','53','54','55','56','57','58','59',\n",
    "                '60','61','62','63','64','65','66','67','68','69','70','71','72','73','74','75','76','77','78','79',\n",
    "                '80','81','82','83','84','85','86','87','88','89','90','91','92','93','94','95','96','97','98','99']"
   ]
  },
  {
   "cell_type": "code",
   "execution_count": 11,
   "metadata": {},
   "outputs": [],
   "source": [
    "for i in n_estocasticas:\n",
    "    hk=kx[i].to_numpy()\n",
    "    \n",
    "    lpf=flopy.modflow.ModflowLpf(mf, laytyp=1, ipakcb=53, hk=hk, vka=hk, hdry=-2e+20, chani=-1.0, ss=1e-05, sy=0.15)\n",
    "                                 #laywet=1, wetfct=1, iwetit=4, ihdwet=0)\n",
    "    \n",
    "    #**Output Control - Paquete OC** \n",
    "\n",
    "    spd_oc = {}\n",
    "    for kper in range(nper):\n",
    "        for kstp in range(nstp[kper]):\n",
    "            spd_oc[(kper, kstp)] = ['save head','save budget']\n",
    "    \n",
    "    oc= flopy.modflow.ModflowOc(mf,stress_period_data=spd_oc, compact=True)\n",
    "        \n",
    "    #**LMT Linkage with MT3DMS for multi-species mass transport modeling**\n",
    "    lmt = flopy.modflow.ModflowLmt(mf, output_file_name='mt3d.ftl')\n",
    "    \n",
    "    #**Escribir los archivos de salida mf2005**\n",
    "    mf.write_input()\n",
    "    \n",
    "    #**Correr Modelo de Flujo**\n",
    "    mf.run_model(silent=True)\n",
    "    \n",
    "    #Copiar y Guardar archivos de simulaciones\n",
    "    shutil.copy(model_ws +'/'+'Modelo_flujo.hds', model_ws+'/'+'hds'+'/'+\"Modelo_Flujo_{}.hds\".format(i))\n",
    "    shutil.copy(model_ws +'/'+'Modelo_flujo.cbc', model_ws+'/'+'cbc'+'/'+\"Modelo_Flujo_{}.cbc\".format(i))\n",
    "    shutil.copy(model_ws +'/'+'Modelo_flujo.list', model_ws+'/'+'list'+'/'+\"Modelo_Flujo_{}.list\".format(i))\n",
    "    shutil.copy(model_ws +'/'+'mt3d.ftl', model_ws+'/'+'mt3d'+'/'+\"mt3d_{}.ftl\".format(i))"
   ]
  },
  {
   "cell_type": "markdown",
   "metadata": {},
   "source": [
    "**MODELO DE TRANSPORTE**"
   ]
  },
  {
   "cell_type": "markdown",
   "metadata": {},
   "source": [
    "**Definicion del modelo**"
   ]
  },
  {
   "cell_type": "code",
   "execution_count": 12,
   "metadata": {},
   "outputs": [],
   "source": [
    "for j in n_estocasticas:\n",
    "    ftlfilename='mt3d'+'/'+'/mt3d_{}.ftl'.format(j)\n",
    "    namemt3d='transModel'\n",
    "    mt_model = flopy.mt3d.Mt3dms(modelname=namemt3d,  model_ws=model_ws, ftlfilename=ftlfilename, version='mt3d-usgs', \n",
    "                                 exe_name='../1_SOLVER/mt3d-usgs_1.1.0_64.exe', modflowmodel=mf)\n",
    "          \n",
    "    #BTN file\n",
    "          \n",
    "    timprs=[10800., 1728000., 4320000., 7776000., 15552000., 31536000., 94672800., 157788000., 220903200., 946728000., \n",
    "            1105000000., 1578000000.]\n",
    "    icbund = np.ones((nlay, nrow, ncol), dtype=np.int32)\n",
    "    icbund[1:,:,0] = -1\n",
    "    nprs=len(timprs)\n",
    "    nper = 3\n",
    "    perlen = [1] + [864000]*1 + [2523800000]*1\n",
    "    btn = flopy.mt3d.Mt3dBtn(mt_model, ncomp=1, nper=nper, mcomp=1, tunit='sec', lunit='m', munit='g', prsity=0.25,\n",
    "                             sconc=0.0, cinact=-1e+30, thkmin=0.01, ifmtcn=12, ifmtnp=5, ifmtrf=12, ifmtdp=12, \n",
    "                             perlen=perlen, savucn=True, nprs=nprs, timprs=timprs, dt0=0, mxstrn=50000,ttsmult=1., \n",
    "                             ttsmax=0, icbund=icbund)\n",
    "    \n",
    "    #Paquete de Advencion - ADV\n",
    "          \n",
    "    adv = flopy.mt3d.Mt3dAdv(mt_model, mixelm=3, percel=1, mxpart=75000, nadvfd=2, itrack=2, wd=1, dceps=1e-05, \n",
    "                        nplane=0, npl=0, nph=10, npmin=2, npmax=20, npsink=10, dchmoc=0.01)\n",
    "          \n",
    "    #Solucionador - GCG\n",
    "    \n",
    "    gcg = flopy.mt3d.Mt3dGcg(mt_model, mxiter=1, iter1=200, isolve=3, ncrs=0, cclose=1e-06, iprgcg=1)\n",
    "    \n",
    "    #Paquete de Dispersion - DSP\n",
    "    \n",
    "    dsp = flopy.mt3d.Mt3dDsp(mt_model, al=0.0, multiDiff=True, dmcoef=0, trpt=0.1, trpv=0.01)\n",
    "    \n",
    "    itype = flopy.mt3d.Mt3dSsm.itype_dict()\n",
    "    #itype\n",
    "    \n",
    "    #Concentracion del contamiante - SSM\n",
    "    \n",
    "    ssm_data = {}\n",
    "    ssm_data[1] = [(k, 0, 0, 100, 1) for k in range (1,30)]\n",
    "    for k in range (1,30):\n",
    "        ssm_data[1].append((k, 0, 0, 100, -1)) \n",
    "    ssm_data[2] = [(k, 0, 0, 0, 1) for k in range (1,30)]\n",
    "    for k in range (1,30):\n",
    "        ssm_data[2].append((k, 0, 0, 0, -1)) \n",
    "    ssm = flopy.mt3d.Mt3dSsm(mt_model, stress_period_data=ssm_data)\n",
    "    \n",
    "    #Escribir archivos de Salida del modelo de transporte - MT3D\n",
    "    \n",
    "    mt_model.write_input()\n",
    "          \n",
    "    #Correr de modelo de Transporte - MT3D\n",
    "    \n",
    "    mt_model.run_model(silent=True)\n",
    "    \n",
    "    shutil.copy(model_ws +'/'+'MT3D001.UCN', model_ws+'/'+'ucn'+'/'+\"MT3D001_{}.UCN\".format(j))\n",
    "    shutil.copy(model_ws +'/'+'MT3D001.MAS', model_ws+'/'+'t_mas'+'/'+\"MT3D001_{}.MAS\".format(j))\n",
    "    shutil.copy(model_ws +'/'+'transModel.list', model_ws+'/'+'t_list'+'/'+\"Trans_{}.list\".format(j))"
   ]
  },
  {
   "cell_type": "code",
   "execution_count": null,
   "metadata": {},
   "outputs": [],
   "source": []
  }
 ],
 "metadata": {
  "kernelspec": {
   "display_name": "Python 3",
   "language": "python",
   "name": "python3"
  },
  "language_info": {
   "codemirror_mode": {
    "name": "ipython",
    "version": 3
   },
   "file_extension": ".py",
   "mimetype": "text/x-python",
   "name": "python",
   "nbconvert_exporter": "python",
   "pygments_lexer": "ipython3",
   "version": "3.8.3"
  }
 },
 "nbformat": 4,
 "nbformat_minor": 4
}
