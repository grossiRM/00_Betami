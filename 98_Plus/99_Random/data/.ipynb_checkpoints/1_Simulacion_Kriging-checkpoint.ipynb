{
 "cells": [
  {
   "cell_type": "markdown",
   "metadata": {},
   "source": [
    "**Importa library**"
   ]
  },
  {
   "cell_type": "code",
   "execution_count": 1,
   "metadata": {},
   "outputs": [
    {
     "name": "stdout",
     "output_type": "stream",
     "text": [
      "flopy is installed in C:\\Users\\Jerson\\miniconda3\\lib\\site-packages\\flopy\n"
     ]
    }
   ],
   "source": [
    "import os\n",
    "import pandas as pd\n",
    "import flopy\n",
    "import numpy as np\n",
    "import matplotlib.pyplot as plt\n",
    "import flopy.utils.binaryfile as bf\n",
    "from ipywidgets import interact\n",
    "import shutil\n",
    "import matplotlib.colors"
   ]
  },
  {
   "cell_type": "markdown",
   "metadata": {},
   "source": [
    "**Flow Model**"
   ]
  },
  {
   "cell_type": "markdown",
   "metadata": {},
   "source": [
    "**Name the model**"
   ]
  },
  {
   "cell_type": "code",
   "execution_count": 2,
   "metadata": {},
   "outputs": [],
   "source": [
    "model_ws='../4_OUT/R_SIM_KRIG'\n",
    "modelname='Modelo_Flujo'\n",
    "exe_name= '../1_SOLVER/mf2005.exe'\n",
    "mf = flopy.modflow.Modflow(modelname, exe_name=exe_name, model_ws=model_ws)"
   ]
  },
  {
   "cell_type": "markdown",
   "metadata": {},
   "source": [
    "**Spatial discretization**"
   ]
  },
  {
   "cell_type": "code",
   "execution_count": 3,
   "metadata": {},
   "outputs": [],
   "source": [
    "nlay = 30\n",
    "nrow = 1\n",
    "ncol = 100\n",
    "delr=10.\n",
    "delc=1.\n",
    "top = 510.\n",
    "botm = np.ones((nlay), dtype=np.int32)\n",
    "for i in range (nlay):\n",
    "    botm[i]= 500 -(i*10)\n",
    "nper = 3\n",
    "nstp = [1]+[1]*2 \n",
    "perlen = [1] + [864000]*1 + [2523743999]*1\n",
    "steady = [True] + [False]*2\n",
    "\n",
    "dis=flopy.modflow.ModflowDis(mf, nlay=nlay, nrow=nrow, ncol=ncol, delr=delr, delc=delc, top=top, \n",
    "                             botm=botm, nper=nper, perlen=perlen, steady=steady, itmuni=1, lenuni=2)"
   ]
  },
  {
   "cell_type": "code",
   "execution_count": 4,
   "metadata": {},
   "outputs": [],
   "source": [
    "#botm\n",
    "#dis.plot()"
   ]
  },
  {
   "cell_type": "markdown",
   "metadata": {},
   "source": [
    "**Package BAS**\n",
    "\n"
   ]
  },
  {
   "cell_type": "code",
   "execution_count": 5,
   "metadata": {},
   "outputs": [],
   "source": [
    "ibound = np.ones((nlay, nrow, ncol), dtype=np.int32)\n",
    "ibound[1:,:,0] = -1\n",
    "ibound[21:,:,-1] = -1\n",
    "#ibound"
   ]
  },
  {
   "cell_type": "markdown",
   "metadata": {},
   "source": [
    "**Package - strt** "
   ]
  },
  {
   "cell_type": "code",
   "execution_count": 6,
   "metadata": {},
   "outputs": [],
   "source": [
    "bas = flopy.modflow.ModflowBas(mf, ibound=ibound, strt=top)\n",
    "#bas.plot()"
   ]
  },
  {
   "cell_type": "markdown",
   "metadata": {},
   "source": [
    "**Package  CHD**"
   ]
  },
  {
   "cell_type": "code",
   "execution_count": 7,
   "metadata": {},
   "outputs": [],
   "source": [
    "chdspd={}\n",
    "chdspd[0]=[[i, 0, 0, 500., 500.] for i in range(1,30)]\n",
    "for i in range (21,30):\n",
    "    chdspd[0].append(([i, 0, 99, 300.,300.])) \n",
    "chdspd[1]=[[i, 0, 0, 500., 500.] for i in range(1,30)]\n",
    "for i in range (21,30):\n",
    "    chdspd[1].append(([i, 0, 99, 300.,300.])) \n",
    "chdspd[2]=[[i, 0, 0, 500., 500.] for i in range(1,30)]\n",
    "for i in range (21,30):\n",
    "    chdspd[2].append(([i, 0, 99, 300.,300.])) \n",
    "    \n",
    "chd = flopy.modflow.ModflowChd(mf, stress_period_data=chdspd)"
   ]
  },
  {
   "cell_type": "markdown",
   "metadata": {},
   "source": [
    "**Hydraulic conductivity**"
   ]
  },
  {
   "cell_type": "code",
   "execution_count": 8,
   "metadata": {},
   "outputs": [],
   "source": [
    "kx=pd.read_excel('../3_IN/SIMULACION_K.xlsx', sheet_name=None, header=None) \n",
    "#kx"
   ]
  },
  {
   "cell_type": "code",
   "execution_count": 9,
   "metadata": {},
   "outputs": [],
   "source": [
    "hk=kx['KRIGING'].to_numpy()\n",
    "lpf=flopy.modflow.ModflowLpf(mf, laytyp=1, ipakcb=53, hk=hk, vka=hk, hdry=-2e+20, chani=-1.0, ss=1e-05, sy=0.15)"
   ]
  },
  {
   "cell_type": "markdown",
   "metadata": {},
   "source": [
    "**Solver mf2005**"
   ]
  },
  {
   "cell_type": "code",
   "execution_count": 10,
   "metadata": {},
   "outputs": [],
   "source": [
    "pcg =flopy.modflow.ModflowPcg(mf, mxiter=85, iter1=57, npcond=1, nbpol=1, hclose=1e-05, rclose=1e-05, relax=1,\n",
    "                              iprpcg=0, mutpcg=0, ihcofadd=0)"
   ]
  },
  {
   "cell_type": "markdown",
   "metadata": {},
   "source": [
    "**Output Control - OC** "
   ]
  },
  {
   "cell_type": "code",
   "execution_count": 11,
   "metadata": {},
   "outputs": [],
   "source": [
    "spd_oc = {}\n",
    "for kper in range(nper):\n",
    "    for kstp in range(nstp[kper]):\n",
    "        spd_oc[(kper, kstp)] = ['save head','save budget']\n",
    "    \n",
    "oc= flopy.modflow.ModflowOc(mf,stress_period_data=spd_oc, compact=True)"
   ]
  },
  {
   "cell_type": "markdown",
   "metadata": {},
   "source": [
    "**LMT Linkage with MT3DMS for multi-species mass transport modeling**"
   ]
  },
  {
   "cell_type": "code",
   "execution_count": 12,
   "metadata": {},
   "outputs": [],
   "source": [
    "lmt = flopy.modflow.ModflowLmt(mf, output_file_name='mt3d.ftl')"
   ]
  },
  {
   "cell_type": "markdown",
   "metadata": {},
   "source": [
    "**Write output files mf2005**"
   ]
  },
  {
   "cell_type": "code",
   "execution_count": 13,
   "metadata": {},
   "outputs": [],
   "source": [
    "mf.write_input()"
   ]
  },
  {
   "cell_type": "markdown",
   "metadata": {},
   "source": [
    "**Run flow model**"
   ]
  },
  {
   "cell_type": "code",
   "execution_count": 14,
   "metadata": {},
   "outputs": [
    {
     "name": "stdout",
     "output_type": "stream",
     "text": [
      "FloPy is using the following  executable to run the model: ../1_SOLVER/mf2005.exe\n",
      "\n",
      "                                  MODFLOW-2005     \n",
      "    U.S. GEOLOGICAL SURVEY MODULAR FINITE-DIFFERENCE GROUND-WATER FLOW MODEL\n",
      "                             Version 1.12.00 2/3/2017                        \n",
      "\n",
      " Using NAME file: Modelo_Flujo.nam \n",
      " Run start date and time (yyyy/mm/dd hh:mm:ss): 2021/03/25 10:46:02\n",
      "\n",
      " Solving:  Stress period:     1    Time step:     1    Ground-Water Flow Eqn.\n",
      " Solving:  Stress period:     2    Time step:     1    Ground-Water Flow Eqn.\n",
      " Solving:  Stress period:     3    Time step:     1    Ground-Water Flow Eqn.\n",
      " Run end date and time (yyyy/mm/dd hh:mm:ss): 2021/03/25 10:46:02\n",
      " Elapsed run time:  0.333 Seconds\n",
      "\n",
      "  Normal termination of simulation\n"
     ]
    },
    {
     "data": {
      "text/plain": [
       "(True, [])"
      ]
     },
     "execution_count": 14,
     "metadata": {},
     "output_type": "execute_result"
    }
   ],
   "source": [
    "mf.run_model()"
   ]
  },
  {
   "cell_type": "markdown",
   "metadata": {},
   "source": [
    "**Transport Model**"
   ]
  },
  {
   "cell_type": "code",
   "execution_count": 15,
   "metadata": {},
   "outputs": [],
   "source": [
    "ftlfilename='mt3d.ftl'\n",
    "namemt3d='transModel'\n",
    "mt_model = flopy.mt3d.Mt3dms(modelname=namemt3d,  model_ws=model_ws, ftlfilename=ftlfilename, version='mt3d-usgs', \n",
    "                             exe_name='../1_SOLVER/mt3d-usgs_1.1.0_64.exe', modflowmodel=mf)"
   ]
  },
  {
   "cell_type": "markdown",
   "metadata": {},
   "source": [
    "**BTN file**"
   ]
  },
  {
   "cell_type": "code",
   "execution_count": 16,
   "metadata": {},
   "outputs": [],
   "source": [
    "timprs=[10800., 950400., 4320000., 7776000., 15552000., 31536000.,\n",
    "        94672800., 157788000., 220903200., 946728000., 1105000000., 1578000000.]\n",
    "icbund = np.ones((nlay, nrow, ncol), dtype=np.int32)\n",
    "icbund[1:,:,0] = -1\n",
    "\n",
    "nprs=len(timprs)\n",
    "nper = 3\n",
    "perlen = [1] + [864000]*1 + [2523800000]*1\n",
    "btn = flopy.mt3d.Mt3dBtn(mt_model, ncomp=1, nper=nper, mcomp=1, tunit='sec', lunit='m', munit='g', prsity=0.25,\n",
    "                             sconc=0.0, cinact=-1e+30, thkmin=0.01, ifmtcn=12, ifmtnp=5, ifmtrf=12, ifmtdp=12, \n",
    "                             perlen=perlen, savucn=True, nprs=nprs, timprs=timprs, dt0=0, mxstrn=50000,ttsmult=1., \n",
    "                             ttsmax=0, icbund=icbund)"
   ]
  },
  {
   "cell_type": "markdown",
   "metadata": {},
   "source": [
    "**Packege Advection - ADV**"
   ]
  },
  {
   "cell_type": "code",
   "execution_count": 17,
   "metadata": {},
   "outputs": [],
   "source": [
    "adv = flopy.mt3d.Mt3dAdv(mt_model, mixelm=3, percel=1, mxpart=75000, nadvfd=2, itrack=3, wd=1, dceps=1e-05, \n",
    "                        nplane=0, npl=0, nph=10, npmin=2, npmax=20, npsink=10, dchmoc=0.01)"
   ]
  },
  {
   "cell_type": "markdown",
   "metadata": {},
   "source": [
    "**Solver - GCG**"
   ]
  },
  {
   "cell_type": "code",
   "execution_count": 18,
   "metadata": {},
   "outputs": [],
   "source": [
    "gcg = flopy.mt3d.Mt3dGcg(mt_model, mxiter=1, iter1=200, isolve=3, ncrs=0, cclose=1e-06, iprgcg=1)"
   ]
  },
  {
   "cell_type": "markdown",
   "metadata": {},
   "source": [
    "**Package Dispersion - DSP**"
   ]
  },
  {
   "cell_type": "code",
   "execution_count": 19,
   "metadata": {},
   "outputs": [],
   "source": [
    "dsp = flopy.mt3d.Mt3dDsp(mt_model, al=0, multiDiff=True, dmcoef=0, trpt=0.1, trpv=0.01)"
   ]
  },
  {
   "cell_type": "code",
   "execution_count": 20,
   "metadata": {},
   "outputs": [
    {
     "data": {
      "text/plain": [
       "{'CHD': 1,\n",
       " 'BAS6': 1,\n",
       " 'PBC': 1,\n",
       " 'WEL': 2,\n",
       " 'DRN': 3,\n",
       " 'RIV': 4,\n",
       " 'GHB': 5,\n",
       " 'MAS': 15,\n",
       " 'CC': -1}"
      ]
     },
     "execution_count": 20,
     "metadata": {},
     "output_type": "execute_result"
    }
   ],
   "source": [
    "itype = flopy.mt3d.Mt3dSsm.itype_dict()\n",
    "itype\n"
   ]
  },
  {
   "cell_type": "markdown",
   "metadata": {},
   "source": [
    "**Concentration of pollutants - SSM**"
   ]
  },
  {
   "cell_type": "code",
   "execution_count": 21,
   "metadata": {},
   "outputs": [],
   "source": [
    "#[K,I,J,CSS,iSSType] = layer, row, column, source concentration, type of sink/source: well-constant concentration cell \n",
    "\n",
    "ssm_data = {}\n",
    "ssm_data[1] = [(k, 0, 0, 100, 1) for k in range (1,30)]\n",
    "for k in range (1,30):\n",
    "    ssm_data[1].append((k, 0, 0, 100, -1)) \n",
    "ssm_data[2] = [(k, 0, 0, 0, 1) for k in range (1,30)]\n",
    "for k in range (1,30):\n",
    "    ssm_data[2].append((k, 0, 0, 0, -1)) \n",
    "ssm = flopy.mt3d.Mt3dSsm(mt_model, stress_period_data=ssm_data)\n",
    "#ssm.plot()"
   ]
  },
  {
   "cell_type": "markdown",
   "metadata": {},
   "source": [
    "**Write output files transport model - MT3D**"
   ]
  },
  {
   "cell_type": "code",
   "execution_count": 22,
   "metadata": {},
   "outputs": [],
   "source": [
    "mt_model.write_input()"
   ]
  },
  {
   "cell_type": "markdown",
   "metadata": {},
   "source": [
    "**Run transport model - MT3D**"
   ]
  },
  {
   "cell_type": "code",
   "execution_count": 23,
   "metadata": {},
   "outputs": [
    {
     "data": {
      "text/plain": [
       "(False, [])"
      ]
     },
     "execution_count": 23,
     "metadata": {},
     "output_type": "execute_result"
    }
   ],
   "source": [
    "mt_model.run_model(silent=True)"
   ]
  },
  {
   "cell_type": "code",
   "execution_count": null,
   "metadata": {},
   "outputs": [],
   "source": []
  }
 ],
 "metadata": {
  "kernelspec": {
   "display_name": "Python 3",
   "language": "python",
   "name": "python3"
  },
  "language_info": {
   "codemirror_mode": {
    "name": "ipython",
    "version": 3
   },
   "file_extension": ".py",
   "mimetype": "text/x-python",
   "name": "python",
   "nbconvert_exporter": "python",
   "pygments_lexer": "ipython3",
   "version": "3.8.3"
  }
 },
 "nbformat": 4,
 "nbformat_minor": 4
}
