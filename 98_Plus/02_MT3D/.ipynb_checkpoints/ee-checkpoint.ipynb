{
 "cells": [
  {
   "cell_type": "code",
   "execution_count": 1,
   "id": "57180377-278f-401e-87d3-fe9c81365a31",
   "metadata": {},
   "outputs": [],
   "source": [
    "import pathlib; from pathlib import Path; import pandas as pd\n",
    "import os ; import pathlib as pl ; from pprint import pformat ; import flopy ; import git ; import matplotlib.pyplot as plt\n",
    "import numpy as np ; from flopy.plot.styles import styles  ;from modflow_devtools.misc import get_env, timed \n",
    "\n",
    "write = get_env(\"WRITE\", True) ; run = get_env(\"RUN\", True) ;  plot = get_env(\"PLOT\", True)\n",
    "plot_show = get_env(\"PLOT_SHOW\", True) ; plot_save = get_env(\"PLOT_SAVE\", True)"
   ]
  },
  {
   "cell_type": "code",
   "execution_count": 2,
   "id": "3b3983ff",
   "metadata": {},
   "outputs": [
    {
     "name": "stdout",
     "output_type": "stream",
     "text": [
      "E:\\15_REPOS\\00_BETAMI\\98_Plus\\02_MT3D\n"
     ]
    }
   ],
   "source": [
    "example_name = \"ex-gwt-mt3dms-p04\"\n",
    "exe_name = 'E:\\\\15_REPOS\\\\00_BETAMI\\\\bin\\\\mf6'\n",
    "current_directory = os.getcwd();  print(current_directory)"
   ]
  },
  {
   "cell_type": "code",
   "execution_count": 3,
   "id": "30366847-c9a6-4309-b200-8ef2b0a10652",
   "metadata": {},
   "outputs": [],
   "source": [
    "path = pathlib.Path('E:\\\\15_REPOS\\\\00_BETAMI\\\\98_Plus\\\\02_MT3D')\n",
    "path.mkdir(parents=True, exist_ok=True); os.chdir(path); current_directory = os.getcwd()\n",
    "directory_name = 'B_p04_V01'    ; workspace = os.path.join('.', directory_name)\n",
    "if os.path.isdir(workspace) is False:\n",
    "    os.mkdir(workspace) \n",
    "output_folder = Path('B_p04_V01') ; output_folder.mkdir(exist_ok=True)"
   ]
  },
  {
   "cell_type": "code",
   "execution_count": 4,
   "id": "a3322507-419b-41ed-b828-429ba6036120",
   "metadata": {},
   "outputs": [],
   "source": [
    "parameters      = {\"ex-gwt-mt3dms-p04a\": {\"mixelm\": 0},\"ex-gwt-mt3dms-p04b\": {\"mixelm\": -1},\"ex-gwt-mt3dms-p04c\": {\"mixelm\": 1},}\n",
    "parameter_units = {\"mixelm\": \"unitless\"}                                      ; length_units = \"meters\" ; time_units = \"days\"\n",
    "legendtxt_mod1  = [\"MT3DMS - FD\", \"MT3DMS - TVD\", \"MT3DMS - MOC\", \"MF6 - FD\"] ; legendtxt_mod2 = [\"MF6 - FD\", \"MF6 - TVD\", \"MF6 - FD\", \"MF6 - TVD\"]"
   ]
  },
  {
   "cell_type": "code",
   "execution_count": 5,
   "id": "64ac9350",
   "metadata": {
    "jupyter": {
     "source_hidden": true
    }
   },
   "outputs": [],
   "source": [
    "# Parameters \n",
    "nlay = 1        # Number of layers\n",
    "nrow = 100      # Number of rows\n",
    "ncol = 100      # Number of columns\n",
    "delr = 10.0     # Column width ($m$)\n",
    "delc = 10.0     # Row width ($m$)\n",
    "delz = 1.0      # Layer thickness ($m$)\n",
    "top = 0.0      # Top of the model ($m$)\n",
    "prsity = 0.14  # Porosity\n",
    "perlen = 365   # Simulation time ($days$)\n",
    "k11 = 1.0      # Horizontal hydraulic conductivity ($m/d$)\n",
    "qwell = 0.01   # Volumetric injection rate ($m^3/d$)\n",
    "cwell = 1000.0 # Concentration of injected water ($mg/L$)\n",
    "al = 2.0       # Longitudinal dispersivity ($m$)\n",
    "trpt = 0.1      # Ratio of transverse to longitudinal dispersitivity\n",
    "dmcoef = 1.0e-9  # Molecular diffusion coefficient ($m^2/d$)\n",
    "\n",
    "perlen = [1000.0]\n",
    "nper = len(perlen)\n",
    "nstp = [100]\n",
    "tsmult = [1.0]\n",
    "sconc = 0.0\n",
    "dt0 = 0.3\n",
    "ath1 = al * trpt\n",
    "xt3d = [False]\n",
    "botm = [top - delz]  # Model geometry\n",
    "k33 = k11            # Vertical hydraulic conductivity ($m/d$)\n",
    "icelltype = 0\n",
    "\n",
    "Lx = (ncol - 1) * delr\n",
    "Ly = (nrow - 1) * delc\n",
    "Ls = np.sqrt(Lx**2 + Ly**2)\n",
    "v  = 1.0\n",
    "q  = v * prsity\n",
    "h1 = q * Ls\n",
    "a  = -1\n",
    "b  = -1\n",
    "c  = 1\n",
    "\n",
    "nouter = 100\n",
    "ninner = 300\n",
    "hclose = 1e-6\n",
    "rclose = 1e-6\n",
    "relax  = 1.0\n",
    "    \n",
    "percel = 0.5  # HMOC parameters\n",
    "itrack = 3\n",
    "wd = 0.5\n",
    "dceps = 1.0e-5\n",
    "nplane = 1\n",
    "npl = 0\n",
    "nph = 16\n",
    "npmin = 2\n",
    "npmax = 32\n",
    "dchmoc = 1.0e-3\n",
    "nlsink = nplane\n",
    "npsink = nph\n",
    "\n",
    "tdis_rc = []\n",
    "tdis_rc.append((perlen, nstp, 1.0))"
   ]
  },
  {
   "cell_type": "code",
   "execution_count": 6,
   "id": "e7ce90cb-4cf1-49cb-98e8-e328bc37ca00",
   "metadata": {},
   "outputs": [],
   "source": [
    "idomain       = np.ones((nlay, nrow, ncol), dtype=int)       ; icbund = 1    #  (k,  i,  j),  flow,   conc\n",
    "spd_mf6 = {0: [[(0, 79, 20), qwell, cwell]]}"
   ]
  },
  {
   "cell_type": "code",
   "execution_count": 7,
   "id": "2fe80799",
   "metadata": {
    "lines_to_next_cell": 0
   },
   "outputs": [],
   "source": [
    "# MOFLOW | MT3DMS\n",
    "def build_models(sim_name, mixelm=0, silent=False):\n",
    "    name = \"p04-mf6\"\n",
    "    gwfname = \"gwf-\" + name\n",
    "    sim_ws = os.path.join(workspace, sim_name)\n",
    "    sim = flopy.mf6.MFSimulation(sim_name=sim_name, sim_ws=sim_ws, exe_name=\"mf6\")\n",
    "\n",
    "    tdis_rc = []\n",
    "    for i in range(nper):\n",
    "        tdis_rc.append((perlen[i], nstp[i], tsmult[i]))\n",
    "    flopy.mf6.ModflowTdis(sim, nper=nper, perioddata=tdis_rc, time_units=time_units)\n",
    "    gwf    = flopy.mf6.ModflowGwf(sim,modelname=gwfname,save_flows=True,model_nam_file=f\"{gwfname}.nam\")\n",
    "    imsgwf = flopy.mf6.ModflowIms(sim,print_option=\"SUMMARY\",outer_dvclose=hclose,outer_maximum=nouter,under_relaxation=\"NONE\",\n",
    "                                  inner_maximum=ninner,inner_dvclose=hclose,rcloserecord=rclose,linear_acceleration=\"CG\",\n",
    "                                  scaling_method=\"NONE\",reordering_method=\"NONE\",relaxation_factor=relax,filename=f\"{gwfname}.ims\")\n",
    "    sim.register_ims_package     (imsgwf, [gwf.name])\n",
    "\n",
    "    flopy.mf6.ModflowGwfdis      (gwf,length_units=length_units,nlay=nlay,nrow=nrow,ncol=ncol,delr=delr,delc=delc,top=top,botm=botm,\n",
    "                                  idomain=np.ones((nlay, nrow, ncol), dtype=int),filename=f\"{gwfname}.dis\")\n",
    "    flopy.mf6.ModflowGwfnpf(gwf,save_flows=False,icelltype=icelltype,k=k11,k33=k33,save_specific_discharge=True,filename=f\"{gwfname}.npf\")\n",
    "    flopy.mf6.ModflowGwfsto(gwf, ss=0, sy=0, filename=f\"{gwfname}.sto\")   \n",
    "    flopy.mf6.ModflowGwfsto(gwf, ss=0, sy=0, filename=f\"{gwfname}.sto\")\n",
    "    x = gwf.modelgrid.xcellcenters\n",
    "    y = gwf.modelgrid.ycellcenters\n",
    "    d = abs(a * x + b * y + c) / np.sqrt(2)\n",
    "    strt = h1 - d / Ls * h1\n",
    "    flopy.mf6.ModflowGwfic(gwf, strt=strt, filename=f\"{gwfname}.ic\")\n",
    "    chdspd = []\n",
    "    for i in np.arange(nrow):\n",
    "        chdspd.append([(0, i, 0), strt[i, 0]])\n",
    "        chdspd.append([(0, i, ncol - 1), strt[i, ncol - 1]])\n",
    "    for j in np.arange(1, ncol - 1):\n",
    "        chdspd.append([(0, 0, j), strt[0, j]])\n",
    "        chdspd.append([(0, nrow - 1, j), strt[nrow - 1, j]])\n",
    "    chdspd = {0: chdspd}\n",
    "    flopy.mf6.ModflowGwfchd  (gwf,maxbound=len(chdspd),stress_period_data=chdspd,save_flows=False,pname=\"CHD-1\",filename=f\"{gwfname}.chd\")\n",
    "    flopy.mf6.ModflowGwfwel  (gwf,print_input=True,print_flows=True,stress_period_data=spd_mf6,save_flows=False,\n",
    "                              auxiliary=\"CONCENTRATION\",pname=\"WEL-1\",filename=f\"{gwfname}.wel\")\n",
    "    flopy.mf6.ModflowGwfoc   (gwf,head_filerecord=f\"{gwfname}.hds\",budget_filerecord=f\"{gwfname}.bud\",\n",
    "                              headprintrecord=[(\"COLUMNS\", 10, \"WIDTH\", 15, \"DIGITS\", 6, \"GENERAL\")],\n",
    "                              saverecord=[(\"HEAD\", \"LAST\"), (\"BUDGET\", \"LAST\")],\n",
    "                              printrecord=[(\"HEAD\", \"LAST\"), (\"BUDGET\", \"LAST\")])                         \n",
    "    gwtname = \"gwt_\" + name\n",
    "    gwt = flopy.mf6.MFModel(sim,model_type=\"gwt6\",modelname=gwtname,model_nam_file=f\"{gwtname}.nam\")\n",
    "    gwt.name_file.save_flows = True\n",
    "    imsgwt = flopy.mf6.ModflowIms(sim,print_option=\"SUMMARY\",outer_dvclose=hclose,outer_maximum=nouter,under_relaxation=\"NONE\",\n",
    "                                  inner_maximum=ninner,inner_dvclose=hclose,rcloserecord=rclose,\n",
    "                                  linear_acceleration=\"BICGSTAB\",scaling_method=\"NONE\",reordering_method=\"NONE\",\n",
    "                                  relaxation_factor=relax,filename=f\"{gwtname}.ims\")                  \n",
    "    sim.register_ims_package(imsgwt, [gwt.name])\n",
    "    flopy.mf6.ModflowGwtdis(gwt,nlay=nlay,nrow=nrow,ncol=ncol,delr=delr,delc=delc,top=top,botm=botm,idomain=1,filename=f\"{gwtname}.dis\")\n",
    "    flopy.mf6.ModflowGwtic(gwt, strt=sconc, filename=f\"{gwtname}.ic\")\n",
    "    if mixelm >= 0:\n",
    "        scheme = \"UPSTREAM\"\n",
    "    elif mixelm == -1:\n",
    "        scheme = \"TVD\"\n",
    "    else:\n",
    "        raise Exception()\n",
    "    flopy.mf6.ModflowGwtadv(gwt, scheme=scheme, filename=f\"{gwtname}.adv\")\n",
    "    if al != 0:\n",
    "        flopy.mf6.ModflowGwtdsp(gwt,xt3d_off=True,alh=al,ath1=ath1,filename=f\"{gwtname}.dsp\",)\n",
    "    flopy.mf6.ModflowGwtmst(gwt,porosity=prsity,first_order_decay=False,decay=None,decay_sorbed=None,sorption=None,\n",
    "                            bulk_density=None,distcoef=None,filename=f\"{gwtname}.mst\")                                  # cnc ?\n",
    "    sourcerecarray = [(\"WEL-1\", \"AUX\", \"CONCENTRATION\")]\n",
    "    flopy.mf6.ModflowGwtssm(gwt, sources=sourcerecarray, filename=f\"{gwtname}.ssm\")\n",
    "    flopy.mf6.ModflowGwtoc(gwt,budget_filerecord=f\"{gwtname}.cbc\",concentration_filerecord=f\"{gwtname}.ucn\",\n",
    "                           concentrationprintrecord=[(\"COLUMNS\", 10, \"WIDTH\", 15, \"DIGITS\", 6, \"GENERAL\")],\n",
    "                           saverecord=[(\"CONCENTRATION\", \"LAST\"), (\"BUDGET\", \"LAST\")],\n",
    "                           printrecord=[(\"CONCENTRATION\", \"LAST\"), (\"BUDGET\", \"LAST\")])\n",
    "    flopy.mf6.ModflowGwfgwt(sim,exgtype=\"GWF6-GWT6\",exgmnamea=gwfname,exgmnameb=gwtname,filename=f\"{name}.gwfgwt\")\n",
    "    return sim\n",
    "def write_models(sim, silent=True):\n",
    "    sim.write_simulation(silent=silent)\n",
    "@timed\n",
    "def run_models(sim, silent=True):\n",
    "    success, buff = sim.run_simulation(silent=silent, report=True)    ; assert success, pformat(buff)"
   ]
  },
  {
   "cell_type": "code",
   "execution_count": 8,
   "id": "3ddb6910",
   "metadata": {
    "lines_to_end_of_cell_marker": 2
   },
   "outputs": [],
   "source": [
    "def plot_results(mf6, idx, leglab2, ax=None):\n",
    "    mf6.simulation_data.mfpath.get_sim_path()\n",
    "    gwt = mf6.get_model(list(mf6.model_names)[1])  ; ucnobj_mf6 = gwt.output.concentration()  ;     conc_mf6 = ucnobj_mf6.get_alldata()\n",
    "    with styles.USGSPlot() as fs:\n",
    "        sim_name = mf6.name\n",
    "        plt.rcParams[\"lines.dashed_pattern\"] = [3, 3]\n",
    "        if ax is None:\n",
    "            fig = plt.figure(figsize=(6, 4), dpi=150, tight_layout=True)\n",
    "            ax = fig.add_subplot(1, 1, 1, aspect=\"equal\")\n",
    "        x = gwt.modelgrid.xcellcenters  ; y = gwt.modelgrid.ycellcenters  ; levels = [0.15, 1.0, 2.0, 5.0] ; mm = flopy.plot.PlotMapView(model=gwt)\n",
    "        cs2 = mm.contour_array(conc_mf6[0, 0, :, :], levels=levels, colors=\"r\", linestyles=\"--\")  \n",
    "        if plot_show:\n",
    "            plt.show()"
   ]
  },
  {
   "cell_type": "code",
   "execution_count": 9,
   "id": "2bad0dfb",
   "metadata": {
    "lines_to_end_of_cell_marker": 2,
    "lines_to_next_cell": 2
   },
   "outputs": [
    {
     "name": "stdout",
     "output_type": "stream",
     "text": [
      "WARNING: Package with type sto already exists. Replacing existing package.\n",
      "run_models took 2231.47 ms\n"
     ]
    },
    {
     "data": {
      "image/png": "[encoded data removed]",
      "text/plain": [
       "<Figure size 900x600 with 1 Axes>"
      ]
     },
     "metadata": {},
     "output_type": "display_data"
    }
   ],
   "source": [
    "def scenario(idx, silent=True):\n",
    "    key = list(parameters.keys())[idx]\n",
    "    parameter_dict = parameters[key]\n",
    "    sim = build_models(key, **parameter_dict)\n",
    "    if write:\n",
    "        write_models(sim, silent=silent)\n",
    "    if run:\n",
    "        run_models(sim, silent=silent)\n",
    "    if plot:\n",
    "        plot_results(sim, idx, legendtxt_mod2[idx])  # legendtxt_mod1[idx], legendtxt_mod2[idx])\n",
    "scenario(0)   # 0 1 2 "
   ]
  },
  {
   "cell_type": "code",
   "execution_count": 10,
   "id": "08982b2c-735e-4203-962b-52e7059e6abd",
   "metadata": {},
   "outputs": [
    {
     "name": "stderr",
     "output_type": "stream",
     "text": [
      "C:\\Users\\gross.DESKTOP-AIRQM2M\\anaconda3\\Lib\\site-packages\\executing\\executing.py:713: DeprecationWarning: ast.Str is deprecated and will be removed in Python 3.14; use ast.Constant instead\n",
      "  right=ast.Str(s=sentinel),\n",
      "C:\\Users\\gross.DESKTOP-AIRQM2M\\anaconda3\\Lib\\site-packages\\executing\\executing.py:713: DeprecationWarning: ast.Str is deprecated and will be removed in Python 3.14; use ast.Constant instead\n",
      "  right=ast.Str(s=sentinel),\n",
      "C:\\Users\\gross.DESKTOP-AIRQM2M\\anaconda3\\Lib\\ast.py:587: DeprecationWarning: Attribute s is deprecated and will be removed in Python 3.14; use value instead\n",
      "  return Constant(*args, **kwargs)\n",
      "C:\\Users\\gross.DESKTOP-AIRQM2M\\anaconda3\\Lib\\site-packages\\executing\\executing.py:713: DeprecationWarning: ast.Str is deprecated and will be removed in Python 3.14; use ast.Constant instead\n",
      "  right=ast.Str(s=sentinel),\n",
      "C:\\Users\\gross.DESKTOP-AIRQM2M\\anaconda3\\Lib\\ast.py:587: DeprecationWarning: Attribute s is deprecated and will be removed in Python 3.14; use value instead\n",
      "  return Constant(*args, **kwargs)\n"
     ]
    },
    {
     "ename": "NameError",
     "evalue": "name 'conc_mf6' is not defined",
     "output_type": "error",
     "traceback": [
      "\u001b[1;31m---------------------------------------------------------------------------\u001b[0m",
      "\u001b[1;31mNameError\u001b[0m                                 Traceback (most recent call last)",
      "Cell \u001b[1;32mIn[10], line 1\u001b[0m\n\u001b[1;32m----> 1\u001b[0m conc_mf6\n",
      "\u001b[1;31mNameError\u001b[0m: name 'conc_mf6' is not defined"
     ]
    }
   ],
   "source": [
    "conc_mf6"
   ]
  },
  {
   "cell_type": "code",
   "execution_count": null,
   "id": "0268f1c1-55c1-415e-ae53-15433593ece6",
   "metadata": {},
   "outputs": [],
   "source": []
  }
 ],
 "metadata": {
  "jupytext": {
   "cell_metadata_filter": "-all"
  },
  "kernelspec": {
   "display_name": "Python 3 (ipykernel)",
   "language": "python",
   "name": "python3"
  },
  "language_info": {
   "codemirror_mode": {
    "name": "ipython",
    "version": 3
   },
   "file_extension": ".py",
   "mimetype": "text/x-python",
   "name": "python",
   "nbconvert_exporter": "python",
   "pygments_lexer": "ipython3",
   "version": "3.12.7"
  }
 },
 "nbformat": 4,
 "nbformat_minor": 5
}
