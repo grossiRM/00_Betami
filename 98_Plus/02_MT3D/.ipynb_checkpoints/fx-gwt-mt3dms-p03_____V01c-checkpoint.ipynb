{
 "cells": [
  {
   "cell_type": "code",
   "execution_count": 1,
   "id": "ddf811ad-c3d5-42f7-aa7d-23de39af2868",
   "metadata": {
    "jupyter": {
     "source_hidden": true
    }
   },
   "outputs": [],
   "source": [
    "import pathlib; from pathlib import Path; import pandas as pd\n",
    "import os ; import pathlib as pl ; from pprint import pformat ; import flopy ; import git ; import matplotlib.pyplot as plt\n",
    "import numpy as np ; from flopy.plot.styles import styles  ;from modflow_devtools.misc import get_env, timed \n",
    "from flopy.utils.postprocessing import get_water_table ; import flopy.utils.binaryfile as bf\n",
    "write = get_env(\"WRITE\", True) ; run = get_env(\"RUN\", True) ;  plot = get_env(\"PLOT\", True)\n",
    "plot_show = get_env(\"PLOT_SHOW\", True) ; plot_save = get_env(\"PLOT_SAVE\", True)"
   ]
  },
  {
   "cell_type": "code",
   "execution_count": 2,
   "id": "03a45e29-1dba-4cd8-8b3b-e205ef374f17",
   "metadata": {},
   "outputs": [
    {
     "name": "stdout",
     "output_type": "stream",
     "text": [
      "E:\\15_REPOS\\00_BETAMI\\98_Plus\\02_MT3D\n"
     ]
    }
   ],
   "source": [
    "example_name = \"ex-gwt-mt3dms-p03\"\n",
    "exe_name = 'E:\\\\15_REPOS\\\\00_BETAMI\\\\bin\\\\mf6'\n",
    "current_directory = os.getcwd();  print(current_directory)"
   ]
  },
  {
   "cell_type": "code",
   "execution_count": 3,
   "id": "9866f588-3ee3-49b0-802b-604c56580a17",
   "metadata": {},
   "outputs": [],
   "source": [
    "path = pathlib.Path('E:\\\\15_REPOS\\\\00_BETAMI\\\\98_Plus\\\\02_MT3D')\n",
    "path.mkdir(parents=True, exist_ok=True); os.chdir(path); current_directory = os.getcwd()\n",
    "directory_name = 'B_p03_V01c'    ; workspace = os.path.join('.', directory_name)\n",
    "if os.path.isdir(workspace) is False:\n",
    "    os.mkdir(workspace) \n",
    "output_folder = Path('B_p03_V01c') ; output_folder.mkdir(exist_ok=True)"
   ]
  },
  {
   "cell_type": "code",
   "execution_count": 4,
   "id": "8c8d43bc",
   "metadata": {
    "jupyter": {
     "source_hidden": true
    }
   },
   "outputs": [],
   "source": [
    "# parameters and variables \n",
    "length_units = \"meters\"\n",
    "time_units = \"days\"\n",
    "nlay = 1  # Number of layers\n",
    "nrow = 31  # Number of rows\n",
    "ncol = 46  # Number of columns\n",
    "delr = 10.0  # Column width ($m$)\n",
    "delc = 10.0  # Row width ($m$)\n",
    "delz = 10.0  # Layer thickness ($m$)\n",
    "top = 0.0  # Top of the model ($m$)\n",
    "prsity = 0.3  # Porosity\n",
    "perlen = 365  # Simulation time ($days$)\n",
    "k11 = 1.0  # Horizontal hydraulic conductivity ($m/d$)\n",
    "qwell = 1.0  # Volumetric injection rate ($m^3/d$)\n",
    "cwell = 1000.0  # Concentration of injected water ($mg/L$)\n",
    "al = 10.0  # Longitudinal dispersivity ($m$)\n",
    "trpt = 0.3  # Ratio of transverse to longitudinal dispersivity\n",
    "perlen = [1, 365.0]\n",
    "nper = len(perlen)\n",
    "nstp = [2, 730]\n",
    "tsmult = [1.0, 1.0]\n",
    "sconc = 0.0\n",
    "dt0 = 0.3\n",
    "ath1 = al * trpt\n",
    "dmcoef = 0.0\n",
    "botm = [top - delz]  # Model geometry\n",
    "k33 = k11  # Vertical hydraulic conductivity ($m/d$)\n",
    "icelltype = 0\n",
    "Lx = (ncol - 1) * delr\n",
    "v = 1.0 / 3.0\n",
    "prsity = 0.3\n",
    "q = v * prsity\n",
    "h1 = q * Lx\n",
    "strt = np.zeros((nlay, nrow, ncol), dtype=float)\n",
    "strt[0, :, 0] = h1\n",
    "\n",
    "nouter, ninner = 100, 300\n",
    "hclose, rclose, relax = 1e-6, 1e-6, 1.0\n",
    "percel = 1.0    # HMOC parameters in case they are invoked\n",
    "itrack = 3      # HMOC\n",
    "wd = 0.5        # HMOC\n",
    "\n",
    "dceps = 1.0e-5  # HMOC\n",
    "nplane = 1      # HMOC\n",
    "npl = 0         # HMOC\n",
    "nph = 16        # HMOC\n",
    "npmin = 4       # HMOC\n",
    "npmax = 32       # HMOC\n",
    "dchmoc = 1.0e-3  # HMOC\n",
    "nlsink = nplane  # HMOC\n",
    "npsink = nph     # HMOC\n",
    "\n",
    "tdis_rc = []"
   ]
  },
  {
   "cell_type": "code",
   "execution_count": 5,
   "id": "7139886e-7354-45c5-be03-48888def0809",
   "metadata": {
    "jupyter": {
     "source_hidden": true
    }
   },
   "outputs": [],
   "source": [
    "idomain = np.ones((nlay, nrow, ncol), dtype=int)\n",
    "c0 = 0.0\n",
    "cncspd = [[(0, 0, 0), c0]]\n",
    "spd_mf6 = {0: [[(0, 15, 15), qwell, cwell]]}  # MF6 pumping information\n",
    "chdspd = []        ; rowList = np.arange(0, nrow).tolist()\n",
    "for itm in rowList :\n",
    "    chdspd.append  ([(0, itm, 0), h1])\n",
    "    chdspd.append  ([(0, itm, ncol - 1), 0.0])\n",
    "chdspd = {0: chdspd}                                        # ; chdspd"
   ]
  },
  {
   "cell_type": "raw",
   "id": "794d1193-f55f-4b77-b33c-79d6c5ac5eb1",
   "metadata": {},
   "source": [
    "    tdis_rc = []\n",
    "    for i in range(nper):\n",
    "        tdis_rc.append((perlen[i], nstp[i], tsmult[i]))"
   ]
  },
  {
   "cell_type": "code",
   "execution_count": null,
   "id": "8ff044f7-3383-411b-8c98-075525ce8950",
   "metadata": {},
   "outputs": [],
   "source": []
  },
  {
   "cell_type": "code",
   "execution_count": 6,
   "id": "12aeaa2c",
   "metadata": {},
   "outputs": [],
   "source": [
    "# MOFLOW | MT3DMS\n",
    "def build_models(sim_name, mixelm=0, silent=False):\n",
    "    name = \"p03-mf6\"\n",
    "    gwfname = \"gwf-\" + name\n",
    "    sim_ws = os.path.join(workspace, sim_name)\n",
    "    sim = flopy.mf6.MFSimulation(sim_name=sim_name, sim_ws=sim_ws, exe_name=\"mf6\")\n",
    "\n",
    "    tdis_rc = ((1, 365, 1.0),(750, 750, 1.0))\n",
    "    flopy.mf6.ModflowTdis        (sim, nper=nper, perioddata=tdis_rc, time_units=time_units)\n",
    "    \n",
    "    gwf = flopy.mf6.ModflowGwf   (sim,modelname=gwfname,save_flows=True,model_nam_file=f\"{gwfname}.nam\")\n",
    "    imsgwf = flopy.mf6.ModflowIms(sim,print_option=\"SUMMARY\",outer_dvclose=hclose,outer_maximum=nouter,under_relaxation=\"NONE\",\n",
    "                                  inner_maximum=ninner,inner_dvclose=hclose,rcloserecord=rclose,linear_acceleration=\"CG\",\n",
    "                                  scaling_method=\"NONE\",reordering_method=\"NONE\",relaxation_factor=relax,filename=f\"{gwfname}.ims\")\n",
    "    sim.register_ims_package (imsgwf, [gwf.name])\n",
    "    \n",
    "    flopy.mf6.ModflowGwfdis  (gwf,length_units=length_units,nlay=nlay,nrow=nrow,ncol=ncol,delr=delr,delc=delc,top=top,botm=botm,\n",
    "                              idomain=np.ones((nlay, nrow, ncol), dtype=int),filename=f\"{gwfname}.dis\")\n",
    "    \n",
    "    flopy.mf6.ModflowGwfnpf  (gwf,save_flows=False,icelltype=icelltype,k=k11,k33=k33,save_specific_discharge=True,filename=f\"{gwfname}.npf\")\n",
    "    flopy.mf6.ModflowGwfic   (gwf, strt=strt, filename=f\"{gwfname}.ic\")\n",
    "    sto = flopy.mf6.ModflowGwfsto (gwf, ss=0, sy=0, filename=f\"{gwfname}.sto\")   ; rowList = np.arange(0, nrow).tolist()  ; chdspd = []\n",
    "    for itm in rowList:\n",
    "        chdspd.append([(0, itm, 0), h1])\n",
    "        chdspd.append([(0, itm, ncol - 1), 0.0])\n",
    "    chdspd = {0: chdspd}\n",
    "    flopy.mf6.ModflowGwfchd  (gwf,maxbound=len(chdspd),stress_period_data=chdspd,save_flows=False,pname=\"CHD-1\",filename=f\"{gwfname}.chd\")\n",
    "    flopy.mf6.ModflowGwfwel  (gwf,print_input=True,print_flows=True,stress_period_data=spd_mf6,save_flows=False,\n",
    "                              auxiliary=\"CONCENTRATION\",pname=\"WEL-1\",filename=f\"{gwfname}.wel\")\n",
    "    flopy.mf6.ModflowGwfoc   (gwf,head_filerecord=f\"{gwfname}.hds\",budget_filerecord=f\"{gwfname}.bud\",\n",
    "                              headprintrecord=[(\"COLUMNS\", 31, \"WIDTH\", 15, \"DIGITS\", 2, \"GENERAL\")],\n",
    "                              saverecord=[(\"HEAD\", \"LAST\"), (\"BUDGET\", \"LAST\")],\n",
    "                              printrecord=[(\"HEAD\", \"LAST\"), (\"BUDGET\", \"LAST\")])                            \n",
    "    \n",
    "    gwtname = \"gwt_\" + name\n",
    "    gwt    = flopy.mf6.MFModel   (sim,model_type=\"gwt6\",modelname=gwtname,model_nam_file=f\"{gwtname}.nam\")   \n",
    "    gwt.name_file.save_flows = True\n",
    "    \n",
    "    imsgwt = flopy.mf6.ModflowIms(sim,print_option=\"SUMMARY\",outer_dvclose=hclose,outer_maximum=nouter,under_relaxation=\"NONE\",\n",
    "                                  inner_maximum=ninner,inner_dvclose=hclose,rcloserecord=rclose,\n",
    "                                  linear_acceleration=\"BICGSTAB\",scaling_method=\"NONE\",reordering_method=\"NONE\",\n",
    "                                  relaxation_factor=relax,filename=f\"{gwtname}.ims\")                  \n",
    "    sim.register_ims_package  (imsgwt, [gwt.name])\n",
    "    \n",
    "    flopy.mf6.ModflowGwtdis   (gwt,nlay=nlay,nrow=nrow,ncol=ncol,delr=delr,delc=delc,top=top,botm=botm,idomain=1,filename=f\"{gwtname}.dis\")\n",
    "    \n",
    "    flopy.mf6.ModflowGwtic    (gwt, strt=sconc, filename=f\"{gwtname}.ic\")\n",
    "    if mixelm == 0:\n",
    "        scheme = \"UPSTREAM\"\n",
    "    elif mixelm == -1:\n",
    "        scheme = \"TVD\"\n",
    "    else:\n",
    "        raise Exception()\n",
    "    flopy.mf6.ModflowGwtadv     (gwt, scheme=scheme, filename=f\"{gwtname}.adv\")\n",
    "    if al != 0:\n",
    "        flopy.mf6.ModflowGwtdsp (gwt,xt3d_off=True,alh=al,ath1=ath1,filename=f\"{gwtname}.dsp\",)\n",
    "    flopy.mf6.ModflowGwtmst     (gwt,porosity=prsity,first_order_decay=False,decay=None,decay_sorbed=None,sorption=None,\n",
    "                                 bulk_density=None,distcoef=None,filename=f\"{gwtname}.mst\")\n",
    "    flopy.mf6.ModflowGwtcnc     (gwt,maxbound=len(cncspd),stress_period_data=cncspd,save_flows=False,pname=\"CNC-1\",filename=f\"{gwtname}.cnc\")      \n",
    "    sourcerecarray = [(\"WEL-1\", \"AUX\", \"CONCENTRATION\")]\n",
    "    flopy.mf6.ModflowGwtssm     (gwt, sources=sourcerecarray, filename=f\"{gwtname}.ssm\")\n",
    "    flopy.mf6.ModflowGwtoc      (gwt,budget_filerecord=f\"{gwtname}.cbc\",concentration_filerecord=f\"{gwtname}.UCN\",\n",
    "                                 concentrationprintrecord=[(\"COLUMNS\", 10, \"WIDTH\", 15, \"DIGITS\", 6, \"GENERAL\")],\n",
    "                                 saverecord=[(\"CONCENTRATION\", \"ALL\")],\n",
    "                                 printrecord=[(\"CONCENTRATION\", \"ALL\"), ])    \n",
    "    flopy.mf6.ModflowGwfgwt      (sim,exgtype=\"GWF6-GWT6\",exgmnamea=gwfname,exgmnameb=gwtname,filename=f\"{name}.gwfgwt\")\n",
    "    return sim\n",
    "\n",
    "def write_models(sim, silent=True):\n",
    "    sim.write_simulation(silent=silent)\n",
    "@timed\n",
    "def run_models(sim, silent=True):\n",
    "    success, buff = sim.run_simulation(silent=silent, report=True)    ; assert success, pformat(buff)"
   ]
  },
  {
   "cell_type": "code",
   "execution_count": 7,
   "id": "7d4e2418-e0a2-4a82-a2b0-5767f5665006",
   "metadata": {
    "lines_to_end_of_cell_marker": 2
   },
   "outputs": [],
   "source": [
    "def plot_results(mf6, idx, ax=None):\n",
    "    mf6.simulation_data.mfpath.get_sim_path()\n",
    "    gwt = mf6.get_model(list(mf6.model_names)[1])  ; ucnobj_mf6 = gwt.output.concentration()  ; conc_mf6=ucnobj_mf6.get_alldata()\n",
    "\n",
    "    with styles.USGSPlot() as fs:\n",
    "        sim_name = mf6.name  ;  plt.rcParams[\"lines.dashed_pattern\"] = [5.0, 5.0]\n",
    "        if ax is None:\n",
    "            fig = plt.figure(figsize=(5, 3), dpi=150, tight_layout=True)  ; ax = fig.add_subplot(1, 1, 1, aspect=\"equal\")\n",
    "        mm = flopy.plot.PlotMapView(model=gwt)          ; mm.plot_grid(color=\".2\", alpha=0.1)\n",
    "        cs2 = mm.contour_array(conc_mf6[1], levels=[0.1, 1.0, 10.0, 20.0], colors=\"r\", linestyles=\"-\")\n",
    "        plt.clabel(cs2, inline=1, fontsize=10)          ; title = f\"Plume at Time = 365 {time_units}\"      \n",
    "        letter = chr(ord(\"@\") + idx + 1)                ; styles.heading(letter=letter, heading=title)\n",
    "        plt.show()"
   ]
  },
  {
   "cell_type": "code",
   "execution_count": 8,
   "id": "0dd67b2b-74e4-4f9c-9da5-8eca6c79032b",
   "metadata": {
    "scrolled": true
   },
   "outputs": [
    {
     "name": "stdout",
     "output_type": "stream",
     "text": [
      "run_models took 4607.27 ms\n"
     ]
    },
    {
     "data": {
      "image/png": "[encoded data removed]",
      "text/plain": [
       "<Figure size 750x450 with 1 Axes>"
      ]
     },
     "metadata": {},
     "output_type": "display_data"
    }
   ],
   "source": [
    "def scenario(idx, silent=True):\n",
    "    sim = build_models(example_name)\n",
    "    if write:\n",
    "        write_models(sim, silent=silent)\n",
    "    if run:\n",
    "        run_models(sim, silent=silent)\n",
    "    if plot:\n",
    "        plot_results(sim, idx)\n",
    "scenario(1)"
   ]
  },
  {
   "cell_type": "code",
   "execution_count": 9,
   "id": "33417d1f-e1e3-4a1c-b728-9315902c5f22",
   "metadata": {},
   "outputs": [
    {
     "data": {
      "text/plain": [
       "[1.0, 751.0]"
      ]
     },
     "execution_count": 9,
     "metadata": {},
     "output_type": "execute_result"
    }
   ],
   "source": [
    "sim_ws = os.path.join (workspace, 'ex-gwt-mt3dms-p03')    \n",
    "fname = os.path.join(sim_ws, 'gwf-p03-mf6'+'.hds')  ; hdobj = flopy.utils.HeadFile(fname)    ; heads = hdobj.get_data()\n",
    "times = hdobj.get_times()\n",
    "times                                 # [1.0, 366.0]"
   ]
  },
  {
   "cell_type": "code",
   "execution_count": 10,
   "id": "a2329d3d-9461-437b-b4b2-33c0e4539cdf",
   "metadata": {},
   "outputs": [
    {
     "data": {
      "text/plain": [
       "'.\\\\B_p03_V01c\\\\ex-gwt-mt3dms-p03\\\\gwt_p03-mf6.UCN'"
      ]
     },
     "execution_count": 10,
     "metadata": {},
     "output_type": "execute_result"
    }
   ],
   "source": [
    "sim_ws = os.path.join (workspace, 'ex-gwt-mt3dms-p03') \n",
    "fname = os.path.join(sim_ws, 'gwt_p03-mf6.UCN')     ; fname    \n",
    "# ucnobj = flopy.utils.UcnFile(fname)   # ; times = np.array(ucnobj.get_times())  ; conc = ucnobj.get_alldata() # ??"
   ]
  },
  {
   "cell_type": "code",
   "execution_count": null,
   "id": "241d7b07-463d-48e2-8df7-076c3a1bc109",
   "metadata": {},
   "outputs": [],
   "source": []
  }
 ],
 "metadata": {
  "jupytext": {
   "cell_metadata_filter": "-all"
  },
  "kernelspec": {
   "display_name": "Python 3 (ipykernel)",
   "language": "python",
   "name": "python3"
  },
  "language_info": {
   "codemirror_mode": {
    "name": "ipython",
    "version": 3
   },
   "file_extension": ".py",
   "mimetype": "text/x-python",
   "name": "python",
   "nbconvert_exporter": "python",
   "pygments_lexer": "ipython3",
   "version": "3.12.7"
  }
 },
 "nbformat": 4,
 "nbformat_minor": 5
}
