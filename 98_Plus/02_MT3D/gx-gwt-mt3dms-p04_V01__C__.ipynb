{
 "cells": [
  {
   "cell_type": "code",
   "execution_count": 1,
   "id": "3b3983ff",
   "metadata": {
    "jupyter": {
     "source_hidden": true
    }
   },
   "outputs": [],
   "source": [
    "import os; import sys ; import matplotlib as mpl ; import matplotlib.pyplot as plt ; import numpy as np ; from flopy.plot.styles import styles\n",
    "import pathlib; from pathlib import Path; import pandas as pd; import flopy ; from modflow_devtools.misc import get_env, timed; import csv\n",
    "write = get_env(\"WRITE\", True) ; run = get_env(\"RUN\", True) ;  plot = get_env(\"PLOT\", True)\n",
    "plot_show = get_env(\"PLOT_SHOW\", True) ; plot_save = get_env(\"PLOT_SAVE\", True)"
   ]
  },
  {
   "cell_type": "code",
   "execution_count": 2,
   "id": "8bb08a03-a2ab-4a7b-9e3b-6efec922e24c",
   "metadata": {
    "jupyter": {
     "source_hidden": true
    }
   },
   "outputs": [
    {
     "name": "stdout",
     "output_type": "stream",
     "text": [
      "E:\\15_REPOS\\00_BETAMI\\98_Plus\\02_MT3D\n"
     ]
    }
   ],
   "source": [
    "example_name = \"MT3D_tutorial_03\"\n",
    "exe_name_mf = 'E:\\\\15_REPOS\\\\00_BETAMI\\\\bin\\\\mf2005'\n",
    "exe_name_mt = 'E:\\\\15_REPOS\\\\00_BETAMI\\\\bin\\\\mt3d-usgs_1.1.0_64'\n",
    "current_directory = os.getcwd();  print(current_directory)"
   ]
  },
  {
   "cell_type": "code",
   "execution_count": 3,
   "id": "cfd4418a-6537-46e4-92c4-64c409e1c54f",
   "metadata": {},
   "outputs": [],
   "source": [
    "path = pathlib.Path('E:\\\\15_REPOS\\\\00_BETAMI\\\\98_Plus\\\\02_MT3D')\n",
    "path.mkdir(parents=True, exist_ok=True); os.chdir(path); current_directory = os.getcwd()\n",
    "directory_name = 'ex-RES'    ; workspace = os.path.join('.', directory_name)\n",
    "if os.path.isdir(workspace) is False:\n",
    "    os.mkdir(workspace)                  \n",
    "output_folder = Path('ex-RES\\\\p04_a') ; output_folder.mkdir(exist_ok=True)"
   ]
  },
  {
   "cell_type": "code",
   "execution_count": 4,
   "id": "64ac9350",
   "metadata": {
    "jupyter": {
     "source_hidden": true
    }
   },
   "outputs": [],
   "source": [
    "parameters      = {\"ex-gwt-mt3dms-p04a\": {\"mixelm\": 0},\"ex-gwt-mt3dms-p04b\": {\"mixelm\": -1},\"ex-gwt-mt3dms-p04c\": {\"mixelm\": 1}}\n",
    "parameter_units = {\"mixelm\": \"unitless\"}\n",
    "legendtxt_mod1  = [\"MT3DMS - FD\", \"MT3DMS - TVD\", \"MT3DMS - MOC\", \"MF6 - FD\"]\n",
    "legendtxt_mod2  = [\"MF6 - FD\", \"MF6 - TVD\", \"MF6 - FD\", \"MF6 - TVD\"]\n",
    "length_units    = \"meters\"\n",
    "time_units      = \"days\"\n",
    "\n",
    "nlay = 1  # Number of layers\n",
    "nrow = 100  # Number of rows\n",
    "ncol = 100  # Number of columns\n",
    "delr = 10.0  # Column width ($m$)\n",
    "delc = 10.0  # Row width ($m$)\n",
    "delz = 1.0  # Layer thickness ($m$)\n",
    "top = 0.0  # Top of the model ($m$)\n",
    "prsity = 0.14  # Porosity\n",
    "perlen = 365  # Simulation time ($days$)\n",
    "k11 = 1.0  # Horizontal hydraulic conductivity ($m/d$)\n",
    "qwell = 0.01  # Volumetric injection rate ($m^3/d$)\n",
    "cwell = 1000.0  # Concentration of injected water ($mg/L$)\n",
    "al = 2.0  # Longitudinal dispersivity ($m$)\n",
    "trpt = 0.1  # Ratio of transverse to longitudinal dispersitivity\n",
    "dmcoef = 1.0e-9  # Molecular diffusion coefficient ($m^2/d$)\n",
    "\n",
    "# Additional model input\n",
    "perlen = [1000.0]\n",
    "nper = len(perlen)\n",
    "nstp = [100]\n",
    "tsmult = [1.0]\n",
    "sconc = 0.0\n",
    "dt0 = 0.3\n",
    "ath1 = al * trpt\n",
    "xt3d = [False]\n",
    "botm = [top - delz]  # Model geometry\n",
    "k33 = k11  # Vertical hydraulic conductivity ($m/d$)\n",
    "icelltype = 0\n",
    "\n",
    "# Initial conditions\n",
    "Lx = (ncol - 1) * delr\n",
    "Ly = (nrow - 1) * delc\n",
    "Ls = np.sqrt(Lx**2 + Ly**2)\n",
    "v = 1.0\n",
    "q = v * prsity\n",
    "h1 = q * Ls\n",
    "a = -1\n",
    "b = -1\n",
    "c = 1\n",
    "\n",
    "# Active model domain\n",
    "ibound_mf2k5 = np.ones((nlay, nrow, ncol), dtype=int) * -1\n",
    "ibound_mf2k5[:, 1 : nrow - 1, 1 : ncol - 1] = 1\n",
    "idomain = np.ones((nlay, nrow, ncol), dtype=int)\n",
    "icbund = 1\n",
    "\n",
    "# Boundary conditions\n",
    "# MF2K5 pumping info:\n",
    "welspd = {0: [[0, 79, 20, qwell]]}  # Well pumping info for MF2K5\n",
    "spd = {0: [0, 79, 20, cwell, 2]}  # Well pupming info for MT3DMS\n",
    "\n",
    "# MF6 pumping information\n",
    "#              (k,  i,  j),  flow,   conc\n",
    "spd_mf6 = {0: [[(0, 79, 20), qwell, cwell]]}\n",
    "\n",
    "nouter, ninner = 100, 300\n",
    "hclose, rclose, relax = 1e-6, 1e-6, 1.0\n",
    "\n",
    "percel = 0.5  # HMOC parameters\n",
    "itrack = 3\n",
    "wd = 0.5\n",
    "dceps = 1.0e-5\n",
    "nplane = 1\n",
    "npl = 0\n",
    "nph = 16\n",
    "npmin = 2\n",
    "npmax = 32\n",
    "dchmoc = 1.0e-3\n",
    "nlsink = nplane\n",
    "npsink = nph\n",
    "\n",
    "# Static temporal data used by TDIS file\n",
    "tdis_rc = []\n",
    "tdis_rc.append((perlen, nstp, 1.0))"
   ]
  },
  {
   "cell_type": "code",
   "execution_count": 5,
   "id": "2fe80799",
   "metadata": {
    "lines_to_next_cell": 0
   },
   "outputs": [],
   "source": [
    "def build_models(sim_name, mixelm=0, silent=False):\n",
    "    mt3d_ws = os.path.join(output_folder, sim_name, \"mt3d\")\n",
    "    modelname_mf = \"p04-mf\"\n",
    "    mf = flopy.modflow.Modflow(modelname=modelname_mf, model_ws=mt3d_ws, exe_name=\"mf2005\")\n",
    "    flopy.modflow.ModflowDis(mf,nlay=nlay,nrow=nrow,ncol=ncol,delr=delr,delc=delc,\n",
    "                             top=top,botm=botm,nper=nper,nstp=nstp,perlen=perlen,itmuni=4,lenuni=2)\n",
    "\n",
    "    x = mf.modelgrid.xcellcenters  ; y = mf.modelgrid.ycellcenters   ;  d = abs(a * x + b * y + c) / np.sqrt(2)  ; strt = h1 - d / Ls * h1\n",
    "    flopy.modflow.ModflowBas(mf, ibound=ibound_mf2k5, strt=strt)\n",
    "    flopy.modflow.ModflowLpf(mf, hk=k11, laytyp=icelltype)\n",
    "    flopy.modflow.ModflowWel(mf, stress_period_data=welspd)\n",
    "    flopy.modflow.ModflowPcg(mf)\n",
    "    flopy.modflow.ModflowLmt(mf)\n",
    "    modelname_mt = \"p04-mt\"\n",
    "    mt = flopy.mt3d.Mt3dms(modelname=modelname_mt,model_ws=mt3d_ws,exe_name=\"mt3dms\",modflowmodel=mf)\n",
    "\n",
    "    flopy.mt3d.Mt3dBtn(mt,icbund=icbund,prsity=prsity,sconc=sconc,nstp=nstp,perlen=perlen)\n",
    "    flopy.mt3d.Mt3dAdv(mt,mixelm=mixelm,dceps=dceps,nplane=nplane,npl=npl,nph=nph,npmin=npmin,npmax=npmax,nlsink=nlsink,\n",
    "                       npsink=npsink,percel=percel,itrack=itrack,wd=wd)\n",
    "    flopy.mt3d.Mt3dDsp(mt, al=al, trpt=trpt, dmcoef=dmcoef)\n",
    "    flopy.mt3d.Mt3dSsm(mt, stress_period_data=spd)\n",
    "    flopy.mt3d.Mt3dGcg(mt, mxiter=10)\n",
    "\n",
    "    # MODFLOW 6 ______________________________________________________________________________________________ \n",
    "    name = \"p04-mf6\"\n",
    "    gwfname = \"gwf-\" + name\n",
    "    sim_ws = os.path.join(output_folder, sim_name)\n",
    "    sim = flopy.mf6.MFSimulation(sim_name=sim_name, sim_ws=sim_ws, exe_name=\"mf6\")\n",
    "\n",
    "    tdis_rc = []       # _______________________________________________________________ tdis_rc\n",
    "    for i in range(nper):\n",
    "        tdis_rc.append((perlen[i], nstp[i], tsmult[i]))\n",
    "    flopy.mf6.ModflowTdis(sim, nper=nper, perioddata=tdis_rc, time_units=time_units)\n",
    "\n",
    "    gwf    = flopy.mf6.ModflowGwf(sim,modelname=gwfname,save_flows=True,model_nam_file=f\"{gwfname}.nam\")\n",
    "    imsgwf = flopy.mf6.ModflowIms(sim,print_option=\"SUMMARY\",outer_dvclose=hclose,outer_maximum=nouter,under_relaxation=\"NONE\",\n",
    "                                  inner_maximum=ninner,inner_dvclose=hclose,rcloserecord=rclose,linear_acceleration=\"CG\",\n",
    "                                  scaling_method=\"NONE\",reordering_method=\"NONE\",relaxation_factor=relax,filename=f\"{gwfname}.ims\")\n",
    "    sim.register_ims_package     (imsgwf, [gwf.name])\n",
    "\n",
    "    flopy.mf6.ModflowGwfdis      (gwf,length_units=length_units,nlay=nlay,nrow=nrow,ncol=ncol,delr=delr,delc=delc,top=top,botm=botm,\n",
    "                                  idomain=np.ones((nlay, nrow, ncol), dtype=int),filename=f\"{gwfname}.dis\")\n",
    "    flopy.mf6.ModflowGwfnpf(gwf,save_flows=False,icelltype=icelltype,k=k11,k33=k33,save_specific_discharge=True,filename=f\"{gwfname}.npf\")\n",
    "    flopy.mf6.ModflowGwfsto(gwf, ss=0, sy=0, filename=f\"{gwfname}.sto\")   \n",
    "\n",
    "    x = gwf.modelgrid.xcellcenters\n",
    "    y = gwf.modelgrid.ycellcenters\n",
    "    d = abs(a * x + b * y + c) / np.sqrt(2)\n",
    "    strt = h1 - d / Ls * h1\n",
    "    flopy.mf6.ModflowGwfic(gwf, strt=strt, filename=f\"{gwfname}.ic\")\n",
    "    chdspd = []\n",
    "    for i in np.arange(nrow):\n",
    "        chdspd.append([(0, i, 0), strt[i, 0]])\n",
    "        chdspd.append([(0, i, ncol - 1), strt[i, ncol - 1]])\n",
    "    for j in np.arange(1, ncol - 1):\n",
    "        chdspd.append([(0, 0, j), strt[0, j]])\n",
    "        chdspd.append([(0, nrow - 1, j), strt[nrow - 1, j]])\n",
    "    chdspd = {0: chdspd}\n",
    "    \n",
    "    flopy.mf6.ModflowGwfchd  (gwf,maxbound=len(chdspd),stress_period_data=chdspd,save_flows=False,pname=\"CHD-1\",filename=f\"{gwfname}.chd\")\n",
    "    flopy.mf6.ModflowGwfwel  (gwf,print_input=True,print_flows=True,stress_period_data=spd_mf6,save_flows=False,\n",
    "                              auxiliary=\"CONCENTRATION\",pname=\"WEL-1\",filename=f\"{gwfname}.wel\")\n",
    "    flopy.mf6.ModflowGwfoc   (gwf,head_filerecord=f\"{gwfname}.hds\",budget_filerecord=f\"{gwfname}.bud\",\n",
    "                              headprintrecord=[(\"COLUMNS\", 10, \"WIDTH\", 15, \"DIGITS\", 6, \"GENERAL\")],\n",
    "                              saverecord=[(\"HEAD\", \"LAST\"), (\"BUDGET\", \"LAST\")],\n",
    "                              printrecord=[(\"HEAD\", \"LAST\"), (\"BUDGET\", \"LAST\")])                         \n",
    "    gwtname = \"gwt_\" + name  # ________________________________________________________________________________________ gwt_\n",
    "    gwt = flopy.mf6.MFModel(sim,model_type=\"gwt6\",modelname=gwtname,model_nam_file=f\"{gwtname}.nam\")\n",
    "    gwt.name_file.save_flows = True\n",
    "    imsgwt = flopy.mf6.ModflowIms(sim,print_option=\"SUMMARY\",outer_dvclose=hclose,outer_maximum=nouter,under_relaxation=\"NONE\",\n",
    "                                  inner_maximum=ninner,inner_dvclose=hclose,rcloserecord=rclose,\n",
    "                                  linear_acceleration=\"BICGSTAB\",scaling_method=\"NONE\",reordering_method=\"NONE\",\n",
    "                                  relaxation_factor=relax,filename=f\"{gwtname}.ims\")                  \n",
    "    sim.register_ims_package(imsgwt, [gwt.name])\n",
    "    flopy.mf6.ModflowGwtdis(gwt,nlay=nlay,nrow=nrow,ncol=ncol,delr=delr,delc=delc,top=top,botm=botm,idomain=1,filename=f\"{gwtname}.dis\")\n",
    "    flopy.mf6.ModflowGwtic(gwt, strt=sconc, filename=f\"{gwtname}.ic\")\n",
    "    if mixelm >= 0:\n",
    "        scheme = \"UPSTREAM\"\n",
    "    elif mixelm == -1:\n",
    "        scheme = \"TVD\"\n",
    "    else:\n",
    "        raise Exception()\n",
    "    flopy.mf6.ModflowGwtadv(gwt, scheme=scheme, filename=f\"{gwtname}.adv\")\n",
    "    if al != 0:\n",
    "        flopy.mf6.ModflowGwtdsp (gwt,xt3d_off=True,alh=al,ath1=ath1,filename=f\"{gwtname}.dsp\",)\n",
    "    flopy.mf6.ModflowGwtmst (gwt,porosity=prsity,first_order_decay=False,decay=None,decay_sorbed=None,sorption=None,\n",
    "                             bulk_density=None,distcoef=None,filename=f\"{gwtname}.mst\")                                  # cnc ?\n",
    "    sourcerecarray = [(\"WEL-1\", \"AUX\", \"CONCENTRATION\")]\n",
    "    flopy.mf6.ModflowGwtssm (gwt, sources=sourcerecarray, filename=f\"{gwtname}.ssm\")\n",
    "    flopy.mf6.ModflowGwtoc (gwt,budget_filerecord=f\"{gwtname}.cbc\",concentration_filerecord=f\"{gwtname}.ucn\",\n",
    "                            concentrationprintrecord=[(\"COLUMNS\", 10, \"WIDTH\", 15, \"DIGITS\", 6, \"GENERAL\")],\n",
    "                            saverecord=[(\"CONCENTRATION\", \"LAST\"), (\"BUDGET\", \"LAST\")],\n",
    "                            printrecord=[(\"CONCENTRATION\", \"LAST\"), (\"BUDGET\", \"LAST\")])    # ______________________________ LAST __ ALL XY_T\n",
    "    flopy.mf6.ModflowGwfgwt(sim,exgtype=\"GWF6-GWT6\",exgmnamea=gwfname,exgmnameb=gwtname,filename=f\"{name}.gwfgwt\")  # _______\n",
    "    return mf, mt, sim\n",
    "\n",
    "def write_models(mf2k5, mt3d, sim, silent=True):\n",
    "    mf2k5.write_input()  ;     mt3d.write_input()      ;     sim.write_simulation(silent=silent)\n",
    "@timed\n",
    "def run_models(mf2k5, mt3d, sim, silent=True):\n",
    "    success, buff = mf2k5.run_model(silent=silent, report=True)                                  ;     assert success, pformat(buff)\n",
    "    success, buff = mt3d.run_model(silent=silent, normal_msg=\"Program completed\", report=True)   ;     assert success, pformat(buff)\n",
    "    success, buff = sim.run_simulation(silent=silent, report=True)                               ;     assert success, pformat(buff)"
   ]
  },
  {
   "cell_type": "code",
   "execution_count": 6,
   "id": "3ddb6910",
   "metadata": {
    "jupyter": {
     "source_hidden": true
    },
    "lines_to_end_of_cell_marker": 2
   },
   "outputs": [],
   "source": [
    "def plot_results(mt3d, mf6, idx, leglab1, leglab2, ax=None):\n",
    "    mt3d_out_path = mt3d.model_ws\n",
    "    mf6.simulation_data.mfpath.get_sim_path()\n",
    "    fname_mt3d = os.path.join(mt3d_out_path, \"MT3D001.UCN\") ; ucnobj_mt3d = flopy.utils.UcnFile(fname_mt3d)  ; conc_mt3d = ucnobj_mt3d.get_alldata()\n",
    "    gwt = mf6.get_model(list(mf6.model_names)[1])           ; ucnobj_mf6 = gwt.output.concentration()        ; conc_mf6 = ucnobj_mf6.get_alldata()\n",
    "    with styles.USGSPlot() as fs:\n",
    "        sim_name = mf6.name\n",
    "        plt.rcParams[\"lines.dashed_pattern\"] = [5.0, 5.0]\n",
    "        if ax is None:\n",
    "            fig = plt.figure(figsize=(3, 2), dpi=200, tight_layout=True)\n",
    "            ax = fig.add_subplot(1, 1, 1, aspect=\"equal\")\n",
    "        x = mt3d.modelgrid.xcellcenters  ; y =mt3d.modelgrid.ycellcenters ;  levels = [0.15,1,2,5] ;  mm = flopy.plot.PlotMapView(model=mt3d)\n",
    "        cf = plt.contourf  (x, y, conc_mt3d [0, 0, :, :], levels=levels, alpha=0.5) ; cbar = plt.colorbar(cf, shrink=0.25)\n",
    "        cs2 = mm.contour_array   (conc_mf6  [0, 0, :, :], levels=levels             , colors=\"r\", linestyles=\"--\")\n",
    "        if plot_show:\n",
    "            plt.show()"
   ]
  },
  {
   "cell_type": "code",
   "execution_count": 7,
   "id": "2bad0dfb",
   "metadata": {
    "jupyter": {
     "source_hidden": true
    },
    "lines_to_end_of_cell_marker": 2,
    "lines_to_next_cell": 2
   },
   "outputs": [],
   "source": [
    "def scenario(idx, silent=True):\n",
    "    key = list(parameters.keys())[idx]\n",
    "    parameter_dict = parameters[key]\n",
    "    mf2k5, mt3d, sim = build_models(key, **parameter_dict)\n",
    "    if write:\n",
    "        write_models(mf2k5, mt3d, sim, silent=silent)\n",
    "    if run:\n",
    "        run_models(mf2k5, mt3d, sim, silent=silent)\n",
    "    if plot:\n",
    "        plot_results(mt3d, sim, idx, legendtxt_mod1[idx], legendtxt_mod2[idx])"
   ]
  },
  {
   "cell_type": "markdown",
   "id": "6cd569fd",
   "metadata": {},
   "source": [
    "Compares the standard finite difference solutions between MT3D and MF6."
   ]
  },
  {
   "cell_type": "code",
   "execution_count": 8,
   "id": "fa076d23",
   "metadata": {},
   "outputs": [
    {
     "name": "stdout",
     "output_type": "stream",
     "text": [
      "run_models took 4708.75 ms\n"
     ]
    },
    {
     "data": {
      "image/png": "[encoded data removed]",
      "text/plain": [
       "<Figure size 600x400 with 2 Axes>"
      ]
     },
     "metadata": {},
     "output_type": "display_data"
    }
   ],
   "source": [
    "scenario(-1)  # _________________________________ RED___ MT3D __________________ colored ___MF6 (0 1 2 -1)"
   ]
  },
  {
   "cell_type": "markdown",
   "id": "90d2f9db",
   "metadata": {},
   "source": [
    "Compares the respective TVD solutions between MT3D and MF6."
   ]
  },
  {
   "cell_type": "code",
   "execution_count": 10,
   "id": "de0a3a6c-c55f-4dd6-8579-8b9e679095e1",
   "metadata": {},
   "outputs": [
    {
     "data": {
      "text/plain": [
       "[1000.0]"
      ]
     },
     "execution_count": 10,
     "metadata": {},
     "output_type": "execute_result"
    }
   ],
   "source": [
    "sim_ws = os.path.join (output_folder, 'ex-gwt-mt3dms-p04c')    \n",
    "fname = os.path.join(sim_ws, 'gwf-p04-mf6'+'.hds')  ; hdobj = flopy.utils.HeadFile(fname)    ; heads = hdobj.get_data()\n",
    "times = hdobj.get_times()\n",
    "times"
   ]
  },
  {
   "cell_type": "code",
   "execution_count": 11,
   "id": "24c80e71-5ca4-44fd-9c28-bc549623854e",
   "metadata": {},
   "outputs": [
    {
     "name": "stdout",
     "output_type": "stream",
     "text": [
      "conc_MF5 (1, 1, 100, 100)\n"
     ]
    },
    {
     "data": {
      "text/plain": [
       "(None, [1000.0])"
      ]
     },
     "execution_count": 11,
     "metadata": {},
     "output_type": "execute_result"
    }
   ],
   "source": [
    "fname = os.path.join(output_folder, 'ex-gwt-mt3dms-p04c\\\\mt3d\\\\MT3D001.UCN')                 ; fname    \n",
    "ucnobj = flopy.utils.UcnFile(fname)        ; conc = ucnobj.get_alldata()   ; ttimes = ucnobj.get_times()\n",
    "print('conc_MF5',conc.shape) , ttimes "
   ]
  },
  {
   "cell_type": "markdown",
   "id": "9ff5a41c-b4b6-44e1-a597-edaa3aa9cc60",
   "metadata": {},
   "source": [
    "## **conc_ok, but only for MF5.... MF6 ?**"
   ]
  },
  {
   "cell_type": "code",
   "execution_count": 12,
   "id": "17372d06-42cd-4f69-9e06-79acbbff2c2d",
   "metadata": {},
   "outputs": [
    {
     "data": {
      "text/plain": [
       "'.\\\\ex-RES\\\\ex-gwt-mt3dms-p04c\\\\gwt_p04-mf6.UCN'"
      ]
     },
     "execution_count": 12,
     "metadata": {},
     "output_type": "execute_result"
    }
   ],
   "source": [
    "sim_ws = os.path.join (workspace, 'ex-gwt-mt3dms-p04c') \n",
    "fname = os.path.join(sim_ws, 'gwt_p04-mf6.UCN')        ; fname    \n",
    "# ucnobj = flopy.utils.UcnFile(fname)  # Error _____________"
   ]
  },
  {
   "cell_type": "code",
   "execution_count": null,
   "id": "df4baacc-2664-4250-a287-d0ac2f6b206d",
   "metadata": {},
   "outputs": [],
   "source": []
  }
 ],
 "metadata": {
  "jupytext": {
   "cell_metadata_filter": "-all"
  },
  "kernelspec": {
   "display_name": "Python 3 (ipykernel)",
   "language": "python",
   "name": "python3"
  },
  "language_info": {
   "codemirror_mode": {
    "name": "ipython",
    "version": 3
   },
   "file_extension": ".py",
   "mimetype": "text/x-python",
   "name": "python",
   "nbconvert_exporter": "python",
   "pygments_lexer": "ipython3",
   "version": "3.12.7"
  }
 },
 "nbformat": 4,
 "nbformat_minor": 5
}
