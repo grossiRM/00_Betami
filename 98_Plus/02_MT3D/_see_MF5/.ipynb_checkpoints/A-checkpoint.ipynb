{
 "cells": [
  {
   "cell_type": "code",
   "execution_count": 1,
   "id": "ddf811ad-c3d5-42f7-aa7d-23de39af2868",
   "metadata": {},
   "outputs": [],
   "source": [
    "import pathlib; from pathlib import Path; import pandas as pd\n",
    "import os ; import pathlib as pl ; from pprint import pformat ; import flopy ; import git ; import matplotlib.pyplot as plt\n",
    "import numpy as np ; from flopy.plot.styles import styles  ;from modflow_devtools.misc import get_env, timed \n",
    "from flopy.utils.postprocessing import get_water_table ; import flopy.utils.binaryfile as bf"
   ]
  },
  {
   "cell_type": "code",
   "execution_count": 2,
   "id": "03a45e29-1dba-4cd8-8b3b-e205ef374f17",
   "metadata": {},
   "outputs": [
    {
     "name": "stdout",
     "output_type": "stream",
     "text": [
      "E:\\15_REPOS\\00_BETAMI\\98_Plus\\02_MT3D\\_see\n"
     ]
    }
   ],
   "source": [
    "example_name = \"A\"\n",
    "exe_name = 'E:\\\\15_REPOS\\\\00_BETAMI\\\\bin\\\\mf6'\n",
    "current_directory = os.getcwd();  print(current_directory)"
   ]
  },
  {
   "cell_type": "code",
   "execution_count": 3,
   "id": "9866f588-3ee3-49b0-802b-604c56580a17",
   "metadata": {},
   "outputs": [],
   "source": [
    "path = pathlib.Path('E:\\\\15_REPOS\\\\00_BETAMI\\\\98_Plus\\\\02_MT3D\\\\_see')\n",
    "path.mkdir(parents=True, exist_ok=True); os.chdir(path); current_directory = os.getcwd()\n",
    "directory_name = 'Aa'    ; workspace = os.path.join('.', directory_name)\n",
    "if os.path.isdir(workspace) is False:\n",
    "    os.mkdir(workspace) \n",
    "output_folder = Path('Aa') ; output_folder.mkdir(exist_ok=True)"
   ]
  }
 ],
 "metadata": {
  "jupytext": {
   "cell_metadata_filter": "-all"
  },
  "kernelspec": {
   "display_name": "Python 3 (ipykernel)",
   "language": "python",
   "name": "python3"
  },
  "language_info": {
   "codemirror_mode": {
    "name": "ipython",
    "version": 3
   },
   "file_extension": ".py",
   "mimetype": "text/x-python",
   "name": "python",
   "nbconvert_exporter": "python",
   "pygments_lexer": "ipython3",
   "version": "3.12.7"
  }
 },
 "nbformat": 4,
 "nbformat_minor": 5
}
