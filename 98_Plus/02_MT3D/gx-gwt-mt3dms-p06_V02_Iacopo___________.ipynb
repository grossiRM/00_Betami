{
 "cells": [
  {
   "cell_type": "code",
   "execution_count": 1,
   "id": "accac9f8-5028-406a-ab66-11867b098823",
   "metadata": {
    "jupyter": {
     "source_hidden": true
    }
   },
   "outputs": [],
   "source": [
    "import os; import sys ; import matplotlib as mpl ; import matplotlib.pyplot as plt ; import numpy as np\n",
    "import pathlib; from pathlib import Path; import pandas as pd; import flopy"
   ]
  },
  {
   "cell_type": "code",
   "execution_count": 2,
   "id": "4b39a2a1-0d49-4ef8-a630-6f3dbcd5bc12",
   "metadata": {
    "jupyter": {
     "source_hidden": true
    }
   },
   "outputs": [
    {
     "name": "stdout",
     "output_type": "stream",
     "text": [
      "E:\\15_REPOS\\00_BETAMI\\98_Plus\\02_MT3D\n"
     ]
    }
   ],
   "source": [
    "example_name = \"MT3D_tutorial_06ii\"\n",
    "exe_name_mf = 'E:\\\\15_REPOS\\\\00_BETAMI\\\\bin\\\\mf2005'\n",
    "exe_name_mt = 'E:\\\\15_REPOS\\\\00_BETAMI\\\\bin\\\\mt3d-usgs_1.1.0_64'\n",
    "current_directory = os.getcwd();  print(current_directory)"
   ]
  },
  {
   "cell_type": "code",
   "execution_count": 3,
   "id": "1713cfd0-f1fa-42e7-8cfd-1dc1a12d636d",
   "metadata": {},
   "outputs": [],
   "source": [
    "path = pathlib.Path('E:\\\\15_REPOS\\\\00_BETAMI\\\\98_Plus\\\\02_MT3D')\n",
    "path.mkdir(parents=True, exist_ok=True); os.chdir(path); current_directory = os.getcwd()\n",
    "directory_name = 'ex-RES'    ; workspace = os.path.join('.', directory_name)\n",
    "if os.path.isdir(workspace) is False:\n",
    "    os.mkdir(workspace)                 # output_folder = Path('ex-RES\\\\p06') ; output_folder.mkdir(exist_ok=True)"
   ]
  },
  {
   "cell_type": "code",
   "execution_count": 4,
   "id": "b6b32911-360f-47bf-a670-882cc22fd10a",
   "metadata": {},
   "outputs": [],
   "source": [
    "def p06(dirname, mixelm, dt0):\n",
    "    model_ws = os.path.join(workspace, dirname)\n",
    "    nlay = 1 ;  nrow = 31 ;  ncol = 31 ;  delr = 900 ;  delc = 900 ;  delv = 20 ;  prsity = 0.30 ;  al = 100.0 ;  trpt = 1.0 ;  \n",
    "    q0 = 86400.0 ;  c0 = 100.0 ;  perlen_mf = [912.5, 2737.5] ; perlen_mt = perlen_mf ; hk = 0.005 * 86400;     laytyp = 0\n",
    "\n",
    "    modelname_mf = f\"{dirname}_mf\"\n",
    "    mf = flopy.modflow.Modflow(modelname=modelname_mf, model_ws=model_ws, exe_name=exe_name_mf)\n",
    "    dis = flopy.modflow.ModflowDis(mf,nlay=nlay,nrow=nrow,ncol=ncol,delr=delr,delc=delc,top=0.0,botm=[0 - delv],nper=2, perlen=perlen_mf)  # nper=2\n",
    "    ibound = np.ones((nlay, nrow, ncol), dtype=int) * -1 ; ibound[ : ,1:nrow-1 ,1:ncol-1 ] = 1     ; strt = 0.0\n",
    "\n",
    "    bas = flopy.modflow.ModflowBas(mf, ibound=ibound, strt=strt)\n",
    "    lpf = flopy.modflow.ModflowLpf(mf, hk=hk, laytyp=laytyp)\n",
    "    welspd = {0: [[0, 15, 15, q0]], 1: [[0, 15, 15, -q0]]}    # ___ injection / extraction, _____ steady state instantaneously\n",
    "    wel = flopy.modflow.ModflowWel(mf, stress_period_data=welspd)\n",
    "    sip = flopy.modflow.ModflowSip(mf)\n",
    "    lmt = flopy.modflow.ModflowLmt(mf)\n",
    "    mf.write_input()\n",
    "    mf.run_model(silent=True)\n",
    "\n",
    "    modelname_mt = f\"{dirname}_mt\"\n",
    "    mt = flopy.mt3d.Mt3dms(modelname=modelname_mt,model_ws=model_ws,exe_name=exe_name_mt,modflowmodel=mf)\n",
    "    btn = flopy.mt3d.Mt3dBtn(mt,icbund=1,prsity=prsity,sconc=0,nper=2,perlen=perlen_mt,dt0=dt0,   obs=[(0, 15, 15)])\n",
    "    dceps = 1.0e-5 ;  nplane = 1 ;  npl = 16 ;  nph = 16 ;  npmin = 4 ;  npmax = 32 ;  dchmoc = 1.0e-3 ;  nlsink = nplane; npsink = nph\n",
    "    adv = flopy.mt3d.Mt3dAdv(mt,mixelm=mixelm,dceps=dceps,nplane=nplane,npl=npl,\n",
    "                             nph=nph,npmin=npmin,npmax=npmax,nlsink=nlsink,npsink=npsink, percel=0.5)\n",
    "    dsp = flopy.mt3d.Mt3dDsp(mt, al=al, trpt=trpt)               ; spd = {0: [0, 15, 15, c0, 2], 1: [0, 15, 15, 0.0, 2]}\n",
    "    ssm = flopy.mt3d.Mt3dSsm(mt, stress_period_data=spd)\n",
    "    gcg = flopy.mt3d.Mt3dGcg(mt)                                 ; mt.write_input()\n",
    "    fname = os.path.join(model_ws, \"MT3D001.UCN\")\n",
    "    if os.path.isfile(fname):\n",
    "        os.remove(fname)\n",
    "    mt.run_model(silent=True)\n",
    "    fname = os.path.join(model_ws, \"MT3D001.UCN\")  ; ucnobj = flopy.utils.UcnFile(fname) ; times = ucnobj.get_times()  ; conc = ucnobj.get_alldata()\n",
    "    fname = os.path.join(model_ws, \"MT3D001.OBS\")\n",
    "    if os.path.isfile(fname):\n",
    "        cvt = mt.load_obs(fname)\n",
    "    else:\n",
    "        cvt = None\n",
    "    fname = os.path.join(model_ws, \"MT3D001.MAS\")      ; mvt = mt.load_mas(fname)\n",
    "    return mf, mt, conc, cvt, mvt"
   ]
  },
  {
   "cell_type": "code",
   "execution_count": 5,
   "id": "c3b61f08-6366-48bf-8936-42e4c931fa95",
   "metadata": {},
   "outputs": [
    {
     "data": {
      "text/plain": [
       "[<matplotlib.lines.Line2D at 0x1806ad59610>]"
      ]
     },
     "execution_count": 5,
     "metadata": {},
     "output_type": "execute_result"
    },
    {
     "data": {
      "image/png": "[encoded data removed]",
      "text/plain": [
       "<Figure size 600x300 with 1 Axes>"
      ]
     },
     "metadata": {},
     "output_type": "display_data"
    }
   ],
   "source": [
    "mf, mt, conc, cvt, mvt = p06(\"p06\", -1, 56.25)   # _______________ Mixem ____________1 , -1 , 0    \n",
    "fig = plt.figure(figsize=(6, 3))  ; ax = fig.add_subplot(1, 1, 1)\n",
    "plt.xlabel(\"TIME, IN YEARS\")  ; plt.ylabel(\"[C]%\")\n",
    "x = cvt[\"time\"] / 365.0  ; y = cvt[\"(1, 16, 16)\"]  ; ax.plot(x, y, label=\"MOC\", marker=\"^\")"
   ]
  },
  {
   "cell_type": "code",
   "execution_count": 6,
   "id": "aed3a721-e05e-43c8-b3d6-1cb6cfe77df5",
   "metadata": {},
   "outputs": [
    {
     "name": "stdout",
     "output_type": "stream",
     "text": [
      "(66,)\n"
     ]
    }
   ],
   "source": [
    "print(cvt.shape) # x,y"
   ]
  },
  {
   "cell_type": "code",
   "execution_count": 7,
   "id": "590adadf-6547-433e-ac44-b319d25280d4",
   "metadata": {},
   "outputs": [
    {
     "name": "stdout",
     "output_type": "stream",
     "text": [
      "(2, 1, 31, 31)\n"
     ]
    }
   ],
   "source": [
    "print(conc.shape)"
   ]
  },
  {
   "cell_type": "raw",
   "id": "f17741ad-cb47-4097-811c-be4ea9432824",
   "metadata": {},
   "source": [
    "______________________________________________________"
   ]
  },
  {
   "cell_type": "code",
   "execution_count": 8,
   "id": "63cd406f-2489-4e29-92c3-50f93c842649",
   "metadata": {},
   "outputs": [],
   "source": [
    "# MT3D001.MAS ...... E:\\15_REPOS\\00_BETAMI\\98_Plus\\02_MT3D\\C_p06_V01\\ex-gwt-mt3dms-p06\\mt3d\\MT3D001.MAS (txt)"
   ]
  },
  {
   "cell_type": "raw",
   "id": "531f4840-79ad-40b9-b3cb-ecc26b07b8c2",
   "metadata": {},
   "source": [
    "______________________________________________________"
   ]
  },
  {
   "cell_type": "raw",
   "id": "879d4dc8-9617-4440-8700-746ebdc6ea1f",
   "metadata": {},
   "source": [
    "timprs = np.linspace(0, np.sum(perlen_mf), nprs, endpoint = False)"
   ]
  },
  {
   "cell_type": "code",
   "execution_count": 9,
   "id": "d979c0ae-b227-4a72-ac48-ae5e0ac76d54",
   "metadata": {},
   "outputs": [
    {
     "name": "stdout",
     "output_type": "stream",
     "text": [
      "timprs =  [0. 2. 4. 6. 8.]\n"
     ]
    }
   ],
   "source": [
    "A = np.linspace(0, 10, 5, endpoint = False); print('timprs = ',A)"
   ]
  },
  {
   "cell_type": "code",
   "execution_count": 10,
   "id": "f3944046-b5a9-4833-9db2-f4ce83921a9b",
   "metadata": {},
   "outputs": [
    {
     "name": "stdout",
     "output_type": "stream",
     "text": [
      "timprs =  [100. 104. 108. 112. 116.]\n"
     ]
    }
   ],
   "source": [
    "B = np.linspace(100, 120, 5, endpoint = False); print('timprs = ',B)"
   ]
  },
  {
   "cell_type": "code",
   "execution_count": 11,
   "id": "9b50d5cb-b44a-493a-b7ea-e2de3d129ee9",
   "metadata": {},
   "outputs": [
    {
     "data": {
      "text/plain": [
       "array([  0.,   2.,   4.,   6.,   8., 100., 104., 108., 112., 116.])"
      ]
     },
     "execution_count": 11,
     "metadata": {},
     "output_type": "execute_result"
    }
   ],
   "source": [
    "np.append([A],[B])"
   ]
  },
  {
   "cell_type": "code",
   "execution_count": null,
   "id": "1c9c2610-034b-491f-b9e3-2d2ca97d9a21",
   "metadata": {},
   "outputs": [],
   "source": []
  }
 ],
 "metadata": {
  "jupytext": {
   "cell_metadata_filter": "-all"
  },
  "kernelspec": {
   "display_name": "Python 3 (ipykernel)",
   "language": "python",
   "name": "python3"
  },
  "language_info": {
   "codemirror_mode": {
    "name": "ipython",
    "version": 3
   },
   "file_extension": ".py",
   "mimetype": "text/x-python",
   "name": "python",
   "nbconvert_exporter": "python",
   "pygments_lexer": "ipython3",
   "version": "3.12.7"
  }
 },
 "nbformat": 4,
 "nbformat_minor": 5
}
