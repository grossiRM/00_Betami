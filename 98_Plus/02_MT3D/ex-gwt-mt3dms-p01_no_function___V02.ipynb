{
 "cells": [
  {
   "cell_type": "code",
   "execution_count": 1,
   "id": "4b085040-cc9d-4355-af88-e574a09b27af",
   "metadata": {
    "jupyter": {
     "source_hidden": true
    }
   },
   "outputs": [],
   "source": [
    "import os ; from pprint import pformat ; import flopy ; import git ; import matplotlib.pyplot as plt ; import numpy as np; \n",
    "from flopy.plot.styles import styles ; import pandas as pd; from pathlib import Path ; import modflow_devtools.misc \n",
    "from modflow_devtools.misc import get_env, timed    # pip install modflow_devtools"
   ]
  },
  {
   "cell_type": "code",
   "execution_count": 2,
   "id": "ce51beea-36d1-4745-9da9-14f6e3fe068a",
   "metadata": {
    "jupyter": {
     "source_hidden": true
    }
   },
   "outputs": [],
   "source": [
    "parameter_units = {\"dispersivity\": \"$m$\",\"retardation\": \"unitless\",\"decay\": \"$d^{-1}$\",}  ; length_units = \"meters\" ; time_units = \"days\"\n",
    "exe_name_mt = 'E:\\\\15_REPOS\\\\00_BETAMI\\\\bin\\\\mt3d-usgs_1.1.0_64'\n",
    "exe_name_mu = 'E:\\\\15_REPOS\\\\00_BETAMI\\\\bin\\\\mf6'\n",
    "workspace = Path('A_p01_V02') ; workspace.mkdir(exist_ok=True)"
   ]
  },
  {
   "cell_type": "code",
   "execution_count": 3,
   "id": "ef0cd0cc-39ec-4a29-b806-5162ccc3a825",
   "metadata": {},
   "outputs": [],
   "source": [
    "dispersivity = 000.0  ; retardation = 1  ; decay  = 0.001    # 0,10,10,10      # 1,1,5,5    # 0,0,0,0.002"
   ]
  },
  {
   "cell_type": "code",
   "execution_count": 4,
   "id": "4d3f6740-8d67-4589-ad42-e9ee123d936e",
   "metadata": {
    "jupyter": {
     "source_hidden": true
    }
   },
   "outputs": [],
   "source": [
    "nper = 1  # Number of periods\n",
    "nlay = 1  # Number of layers\n",
    "ncol = 101  # Number of columns\n",
    "nrow = 1  # Number of rows\n",
    "delr = 10.0  # Column width ($m$)\n",
    "delc = 1.0  # Row width ($m$)\n",
    "top  = 0.0  # Top of the model ($m$)\n",
    "botm = -1.0  # Layer bottom elevations ($m$)\n",
    "prsity = 0.25  # Porosity\n",
    "perlen = 2000  # Simulation time ($days$)\n",
    "k11 = 1.0  # Horizontal hydraulic conductivity ($m/d$)\n",
    "k33 = k11  # Vertical hydraulic conductivity ($m/d$)\n",
    "laytyp = 1\n",
    "nstp = 100.0\n",
    "dt0 = perlen / nstp\n",
    "Lx = (ncol - 1) * delr\n",
    "v = 0.24\n",
    "q = v * prsity\n",
    "h1 = q * Lx\n",
    "strt = np.zeros((nlay, nrow, ncol), dtype=float)   ;   strt [0, 0, 0] = h1  # Starting head ($m$)\n",
    "l = 1000.0  # Needed for plots\n",
    "icelltype = 1  # Cell conversion type\n",
    "ibound = np.ones((nlay, nrow, ncol), dtype=int)    ; ibound [0, 0, 0] = -1 ; ibound[0, 0, -1] = -1\n",
    "\n",
    "mixelm = 0  # upstream\n",
    "rhob = 0.25\n",
    "sp2 = 0.0  \n",
    "sconc = np.zeros((nlay, nrow, ncol), dtype=float)\n",
    "dmcoef = 0.0  # Molecular diffusion coefficient\n",
    "\n",
    "nouter, ninner = 100, 300\n",
    "hclose, rclose, relax = 1e-6, 1e-6, 1.0\n",
    "ttsmult = 1.0\n",
    "dceps = 1.0e-5  # HMOC parameters in case they are invoked\n",
    "nplane = 1  # HMOC\n",
    "npl = 0  # HMOC\n",
    "nph = 4  # HMOC\n",
    "npmin = 0  # HMOC\n",
    "npmax = 8  # HMOC\n",
    "nlsink = nplane  # HMOC\n",
    "npsink = nph  # HMOC\n",
    "\n",
    "tdis_rc = []             ; tdis_rc.append((perlen, nstp, 1.0))\n",
    "\n",
    "chdspd = [[(0, 0, 0), h1], [(0, 0, ncol - 1), 0.0]]   ;   c0 = 1.0      \n",
    "cncspd = [[(0, 0, 0), c0]]"
   ]
  },
  {
   "cell_type": "code",
   "execution_count": 5,
   "id": "a6a639b7",
   "metadata": {
    "collapsed": true,
    "jupyter": {
     "outputs_hidden": true,
     "source_hidden": true
    }
   },
   "outputs": [
    {
     "data": {
      "text/plain": [
       "(True, [])"
      ]
     },
     "execution_count": 5,
     "metadata": {},
     "output_type": "execute_result"
    }
   ],
   "source": [
    "# MODFLOW | MT3D | MF6\n",
    "gwfname = 'gwf_A' ;  name = 'name'\n",
    "\n",
    "sim    = flopy.mf6.MFSimulation (sim_name= 'sim_A' , sim_ws=workspace, exe_name=exe_name_mu)\n",
    "tdis   = flopy.mf6.ModflowTdis  (sim, nper=nper, perioddata=tdis_rc, time_units=time_units)\n",
    "gwf    = flopy.mf6.ModflowGwf   (sim, modelname=gwfname, save_flows=True,model_nam_file=f\"{gwfname}.nam\")\n",
    "imsgwf = flopy.mf6.ModflowIms   (sim,print_option=\"SUMMARY\",outer_dvclose=hclose,outer_maximum=nouter,\n",
    "                                 under_relaxation=\"NONE\",inner_maximum=ninner,inner_dvclose=hclose,rcloserecord=rclose,\n",
    "                                 linear_acceleration=\"CG\",scaling_method=\"NONE\",reordering_method=\"NONE\",relaxation_factor=relax,\n",
    "                                 filename=f\"{gwfname}.ims\")                                        ; sim.register_ims_package(imsgwf, [gwf.name])\n",
    "dis = flopy.mf6.ModflowGwfdis (gwf,length_units=length_units,nlay=nlay,nrow=nrow,ncol=ncol,delr=delr,delc=delc,top=top,botm=botm,\n",
    "                               idomain=np.ones((nlay, nrow, ncol), dtype=int),filename=f\"{gwfname}.dis\")\n",
    "npf = flopy.mf6.ModflowGwfnpf (gwf,save_flows=False,icelltype=icelltype,k=k11,k33=k33,save_specific_discharge=True,filename=f\"{gwfname}.npf\")\n",
    "fic = flopy.mf6.ModflowGwfic  (gwf, strt=strt, filename=f\"{gwfname}.ic\")\n",
    "chd = flopy.mf6.ModflowGwfchd (gwf,maxbound=len(chdspd),stress_period_data=chdspd,save_flows=False,pname=\"CHD-1\",filename=f\"{gwfname}.chd\")\n",
    "foc = flopy.mf6.ModflowGwfoc  (gwf,head_filerecord=f\"{gwfname}.hds\",budget_filerecord=f\"{gwfname}.cbc\",\n",
    "                               headprintrecord=[(\"COLUMNS\", 10, \"WIDTH\", 15, \"DIGITS\", 6, \"GENERAL\")],\n",
    "                                  saverecord=[(\"HEAD\", \"LAST\"), (\"BUDGET\", \"LAST\")],\n",
    "                                      printrecord=[(\"HEAD\", \"LAST\"), (\"BUDGET\", \"LAST\")])                            \n",
    "gwtname = 'gwt_A' \n",
    "gwt = flopy.mf6.MFModel       (sim,model_type=\"gwt6\"  , modelname=gwtname  , model_nam_file=f\"{gwtname}.nam\")      ; gwt.name_file.save_flows = True\n",
    "imsgwt = flopy.mf6.ModflowIms (sim,print_option=\"SUMMARY\",outer_dvclose=hclose,outer_maximum=nouter,under_relaxation=\"NONE\",\n",
    "                               inner_maximum=ninner,inner_dvclose=hclose,rcloserecord=rclose,linear_acceleration=\"BICGSTAB\", scaling_method=\"NONE\",\n",
    "                               reordering_method=\"NONE\",relaxation_factor=relax,filename=f\"{gwtname}.ims\",); sim.register_ims_package(imsgwt, [gwt.name])\n",
    "dis = flopy.mf6.ModflowGwtdis (gwt,nlay=nlay,nrow=nrow,ncol=ncol,delr=delr,delc=delc,top=top,botm=botm,idomain=1,filename=f\"{gwtname}.dis\")\n",
    "ic = flopy.mf6.ModflowGwtic   (gwt, strt=sconc, filename=f\"{gwtname}.ic\")\n",
    "    \n",
    "if mixelm == 0:\n",
    "    scheme = \"UPSTREAM\"\n",
    "elif mixelm == -1:\n",
    "    scheme = \"TVD\"\n",
    "else:\n",
    "    raise Exception()  \n",
    "    \n",
    "adv = flopy.mf6.ModflowGwtadv  (gwt, scheme=scheme, filename=f\"{gwtname}.adv\")\n",
    "    \n",
    "if dispersivity != 0:\n",
    "    dsp = flopy.mf6.ModflowGwtdsp(gwt,xt3d_off=True,alh=dispersivity,ath1=dispersivity,filename=f\"{gwtname}.dsp\",)\n",
    "if retardation != 1.0:\n",
    "    sorption = \"linear\"        ; bulk_density = rhob    ; kd = (retardation - 1.0) * prsity / rhob  # prsity & rhob defined in\n",
    "else:  \n",
    "    sorption = None            ; bulk_density = None    ; kd = None\n",
    "if decay != 0.0:\n",
    "    first_order_decay = True   ; decay_arg = decay\n",
    "else:\n",
    "    first_order_decay = False  ; decay_arg = None\n",
    "    \n",
    "mst = flopy.mf6.ModflowGwtmst(gwt,porosity=prsity,sorption=sorption,bulk_density=bulk_density,distcoef=kd,\n",
    "                              first_order_decay=first_order_decay,decay=decay_arg,decay_sorbed=decay_arg,filename=f\"{gwtname}.mst\")\n",
    "\n",
    "cnc = flopy.mf6.ModflowGwtcnc (gwt,maxbound=len(cncspd),stress_period_data=cncspd,save_flows=False,pname=\"CNC-1\",filename=f\"{gwtname}.cnc\",)\n",
    "ssm = flopy.mf6.ModflowGwtssm (gwt, sources=[[]], filename=f\"{gwtname}.ssm\")\n",
    "toc = flopy.mf6.ModflowGwtoc  (gwt,budget_filerecord=f\"{gwtname}.cbc\",concentration_filerecord=f\"{gwtname}.ucn\",\n",
    "                               concentrationprintrecord=[(\"COLUMNS\", 10, \"WIDTH\", 15, \"DIGITS\", 6, \"GENERAL\")],\n",
    "                                 saverecord=[(\"CONCENTRATION\", \"LAST\"), (\"BUDGET\", \"LAST\")],\n",
    "                                    printrecord=[(\"CONCENTRATION\", \"LAST\"), (\"BUDGET\", \"LAST\")],)\n",
    "flopy.mf6.ModflowGwfgwt (sim,exgtype=\"GWF6-GWT6\",exgmnamea=gwfname,exgmnameb=gwtname,filename=f\"{name}.gwfgwt\")\n",
    "\n",
    "sim.write_simulation(silent=True)   ;   sim.run_simulation(silent=True) "
   ]
  },
  {
   "cell_type": "code",
   "execution_count": 6,
   "id": "15bae9a7-3c0a-45e4-ab53-a771902bb1e4",
   "metadata": {
    "jupyter": {
     "source_hidden": true
    }
   },
   "outputs": [],
   "source": [
    "hobj = gwf.output.head()                 ; hds      = hobj.get_data()                      ; #print('H (2000d) = ', hds      .shape)\n",
    "ucnobj_mf6 = gwt.output.concentration()  ; conc_mf6 = ucnobj_mf6.get_alldata()             ; #print('C (2000d) = ', conc_mf6 .shape)\n",
    "cobj = gwf.output.budget()               ; spd      = cobj.get_data(text=\"DATA-SPDIS\")[0]  ; #print('Q (2000d) = ', spd      .shape)"
   ]
  },
  {
   "cell_type": "code",
   "execution_count": 7,
   "id": "a67efc14-f508-4bb8-ba64-6d61dc38c1e8",
   "metadata": {
    "jupyter": {
     "source_hidden": true
    }
   },
   "outputs": [],
   "source": [
    "reSHP_H  = hds.reshape (hds.shape[0], -1)       ; then_H = pd.DataFrame(reSHP_H) \n",
    "reSHP_C  = conc_mf6.reshape (hds.shape[0], -1)  ; then_C = pd.DataFrame(reSHP_C)   \n",
    "then_Q = pd.DataFrame(spd)                                                      \n",
    "then_H.to_csv(workspace / \"ex-p1_H.csv\") ; #print(\"H_2D_All=\",then_H.shape) \n",
    "then_C.to_csv(workspace / \"ex-p1_C.csv\") ; #print(\"C_2D_All=\",then_H.shape)\n",
    "then_Q.to_csv(workspace / \"ex-p1_Q.csv\")"
   ]
  },
  {
   "cell_type": "raw",
   "id": "80847fd0-0aa1-412b-b075-c445a400425a",
   "metadata": {},
   "source": [
    "dispersivity = 0   ; retardation = 10  ; decay  = 0.0 \n",
    "dispersivity = 10  ; retardation =  1  ; decay  = 0.0 \n",
    "dispersivity = 10  ; retardation =  5  ; decay  = 0.0 \n",
    "dispersivity = 10  ; retardation =  5  ; decay  = 0.002 "
   ]
  },
  {
   "cell_type": "code",
   "execution_count": 8,
   "id": "9a0d37c2-3478-4efb-9abf-6051207eaac6",
   "metadata": {
    "jupyter": {
     "source_hidden": true
    }
   },
   "outputs": [],
   "source": [
    "df= conc_mf6[0,0,0,:]       ; # print(\"C2=\",df.shape) "
   ]
  },
  {
   "cell_type": "code",
   "execution_count": 9,
   "id": "7616911f-25ee-4ed2-af40-60959c35242f",
   "metadata": {},
   "outputs": [
    {
     "data": {
      "text/plain": [
       "Text(0, 0.5, 'Concentration')"
      ]
     },
     "execution_count": 9,
     "metadata": {},
     "output_type": "execute_result"
    },
    {
     "data": {
      "image/png": "[encoded data removed]",
      "text/plain": [
       "<Figure size 400x200 with 1 Axes>"
      ]
     },
     "metadata": {},
     "output_type": "display_data"
    }
   ],
   "source": [
    "plt.figure(figsize=(4, 2))  ; plt.plot(df)  ; plt.xlabel('Distance_x_1D (m)') ;  plt.ylabel('Concentration') "
   ]
  },
  {
   "cell_type": "code",
   "execution_count": null,
   "id": "34be1e9e-5883-4c99-8e5c-c1f2747c1777",
   "metadata": {},
   "outputs": [],
   "source": []
  }
 ],
 "metadata": {
  "jupytext": {
   "cell_metadata_filter": "-all"
  },
  "kernelspec": {
   "display_name": "Python 3 (ipykernel)",
   "language": "python",
   "name": "python3"
  },
  "language_info": {
   "codemirror_mode": {
    "name": "ipython",
    "version": 3
   },
   "file_extension": ".py",
   "mimetype": "text/x-python",
   "name": "python",
   "nbconvert_exporter": "python",
   "pygments_lexer": "ipython3",
   "version": "3.12.7"
  }
 },
 "nbformat": 4,
 "nbformat_minor": 5
}
