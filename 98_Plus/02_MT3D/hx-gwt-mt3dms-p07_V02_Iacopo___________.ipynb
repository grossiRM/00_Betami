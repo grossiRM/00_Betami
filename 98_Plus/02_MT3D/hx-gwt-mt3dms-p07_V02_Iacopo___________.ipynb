{
 "cells": [
  {
   "cell_type": "code",
   "execution_count": 1,
   "id": "accac9f8-5028-406a-ab66-11867b098823",
   "metadata": {},
   "outputs": [],
   "source": [
    "import os; import sys ; import matplotlib as mpl ; import matplotlib.pyplot as plt ; import numpy as np\n",
    "import pathlib; from pathlib import Path; import pandas as pd; import flopy"
   ]
  },
  {
   "cell_type": "code",
   "execution_count": 2,
   "id": "4b39a2a1-0d49-4ef8-a630-6f3dbcd5bc12",
   "metadata": {},
   "outputs": [
    {
     "name": "stdout",
     "output_type": "stream",
     "text": [
      "E:\\15_REPOS\\00_BETAMI\\98_Plus\\02_MT3D\n"
     ]
    }
   ],
   "source": [
    "example_name = \"MT3D_tutorial_07ii\"\n",
    "exe_name_mf = 'E:\\\\15_REPOS\\\\00_BETAMI\\\\bin\\\\mf2005'\n",
    "exe_name_mt = 'E:\\\\15_REPOS\\\\00_BETAMI\\\\bin\\\\mt3d-usgs_1.1.0_64'\n",
    "current_directory = os.getcwd();  print(current_directory)"
   ]
  },
  {
   "cell_type": "code",
   "execution_count": 3,
   "id": "1713cfd0-f1fa-42e7-8cfd-1dc1a12d636d",
   "metadata": {},
   "outputs": [],
   "source": [
    "path = pathlib.Path('E:\\\\15_REPOS\\\\00_BETAMI\\\\98_Plus\\\\02_MT3D')\n",
    "path.mkdir(parents=True, exist_ok=True); os.chdir(path); current_directory = os.getcwd()\n",
    "directory_name = 'C_p07_V02_Iacopo'    ; workspace = os.path.join('.', directory_name)\n",
    "if os.path.isdir(workspace) is False:\n",
    "    os.mkdir(workspace) \n",
    "output_folder = Path('C_p07_V02_Iacopo') ; output_folder.mkdir(exist_ok=True)"
   ]
  },
  {
   "cell_type": "code",
   "execution_count": 4,
   "id": "b6b32911-360f-47bf-a670-882cc22fd10a",
   "metadata": {},
   "outputs": [],
   "source": [
    "def p07(dirname, mixelm):\n",
    "    model_ws = os.path.join(workspace, dirname)\n",
    "    nlay = 8 ;  nrow = 15 ;  ncol = 21 ;  delr = 10 ;  delc = 10 ;  delv = 10 ;  Lx = (ncol - 1) * delr ;  v = 1.0 / 3.0 ;  \n",
    "    prsity = 0.2 ;  q = v * prsity ;  al = 10.0 ;  trpt = 0.3 ;  trpv = 0.3 ;  q0 = 0.5 ;  c0 = 100.0 ;  \n",
    "    perlen_mf = 100.0 ;  perlen_mt = 100.0 ;  hk = 0.5 ;  laytyp = 0 ;  \n",
    "\n",
    "    modelname_mf = dirname + \"_mf\"\n",
    "    mf = flopy.modflow.Modflow(modelname=modelname_mf, model_ws=model_ws, exe_name=exe_name_mf)\n",
    "    dis = flopy.modflow.ModflowDis(mf,nlay=nlay,nrow=nrow,ncol=ncol,delr=delr,delc=delc,top=0.0,\n",
    "                                   botm=[-delv * k for k in range(1, nlay + 1)],perlen=perlen_mf)\n",
    "    ibound = np.ones((nlay, nrow, ncol), dtype=int)                      ;  ibound [:, :, 0] = -1   ; ibound[:, :, -1] = -1\n",
    "    strt = np.zeros((nlay, nrow, ncol), dtype=float)     ;  h1 = q * Lx  ;  strt   [:, :, 0] = h1\n",
    "    bas = flopy.modflow.ModflowBas(mf, ibound=ibound, strt=strt)\n",
    "    lpf = flopy.modflow.ModflowLpf(mf, hk=hk, laytyp=laytyp)\n",
    "    wel = flopy.modflow.ModflowWel(mf, stress_period_data=[[6, 7, 2, q0]])\n",
    "    pcg = flopy.modflow.ModflowPcg(mf)\n",
    "    lmt = flopy.modflow.ModflowLmt(mf)             ; mf.write_input()    ; mf.run_model(silent=True)\n",
    "\n",
    "    modelname_mt = dirname + \"_mt\"\n",
    "    mt = flopy.mt3d.Mt3dms(modelname=modelname_mt,model_ws=model_ws,exe_name=exe_name_mt,modflowmodel=mf)\n",
    "    btn = flopy.mt3d.Mt3dBtn(mt, icbund=1, prsity=prsity, sconc=0)\n",
    "    dceps = 1.0e-5 ;  nplane = 1 ;  npl = 0 ;  nph = 16 ;  npmin = 2 ;  npmax = 32 ;  dchmoc = 1.0e-3 ;  nlsink = nplane ;  npsink = nph   \n",
    "    adv = flopy.mt3d.Mt3dAdv(mt,mixelm=mixelm,dceps=dceps,nplane=nplane,npl=npl,nph=nph,npmin=npmin,npmax=npmax,\n",
    "                             nlsink=nlsink,npsink=npsink,percel=0.5)\n",
    "    dsp = flopy.mt3d.Mt3dDsp(mt, al=al, trpt=trpt, trpv=trpv)          ;     spd = {0: [6, 7, 2, c0, 2]}\n",
    "    ssm = flopy.mt3d.Mt3dSsm(mt, stress_period_data=spd)\n",
    "    gcg = flopy.mt3d.Mt3dGcg(mt)                                       ;     mt.write_input()\n",
    "    fname = os.path.join(model_ws, \"MT3D001.UCN\")\n",
    "    if os.path.isfile(fname):\n",
    "        os.remove(fname)\n",
    "    mt.run_model(silent=True)\n",
    "    \n",
    "    fname = os.path.join(model_ws, \"MT3D001.UCN\") ; ucnobj = flopy.utils.UcnFile(fname) ; times = ucnobj.get_times() ; conc = ucnobj.get_alldata()\n",
    "    fname = os.path.join(model_ws, \"MT3D001.OBS\")\n",
    "    if os.path.isfile(fname):\n",
    "        cvt = mt.load_obs(fname)\n",
    "    else:\n",
    "        cvt = None\n",
    "    fname = os.path.join(model_ws, \"MT3D001.MAS\")  ;     mvt = mt.load_mas(fname)\n",
    "    return mf, mt, conc, cvt, mvt"
   ]
  },
  {
   "cell_type": "code",
   "execution_count": 5,
   "id": "c3b61f08-6366-48bf-8936-42e4c931fa95",
   "metadata": {},
   "outputs": [
    {
     "name": "stderr",
     "output_type": "stream",
     "text": [
      "C:\\Users\\gross.DESKTOP-AIRQM2M\\anaconda3\\Lib\\site-packages\\executing\\executing.py:713: DeprecationWarning: ast.Str is deprecated and will be removed in Python 3.14; use ast.Constant instead\n",
      "  right=ast.Str(s=sentinel),\n",
      "C:\\Users\\gross.DESKTOP-AIRQM2M\\anaconda3\\Lib\\site-packages\\executing\\executing.py:713: DeprecationWarning: ast.Str is deprecated and will be removed in Python 3.14; use ast.Constant instead\n",
      "  right=ast.Str(s=sentinel),\n",
      "C:\\Users\\gross.DESKTOP-AIRQM2M\\anaconda3\\Lib\\ast.py:587: DeprecationWarning: Attribute s is deprecated and will be removed in Python 3.14; use value instead\n",
      "  return Constant(*args, **kwargs)\n"
     ]
    },
    {
     "ename": "NameError",
     "evalue": "name 'mf' is not defined",
     "output_type": "error",
     "traceback": [
      "\u001b[1;31m---------------------------------------------------------------------------\u001b[0m",
      "\u001b[1;31mNameError\u001b[0m                                 Traceback (most recent call last)",
      "Cell \u001b[1;32mIn[5], line 1\u001b[0m\n\u001b[1;32m----> 1\u001b[0m fig \u001b[38;5;241m=\u001b[39m plt\u001b[38;5;241m.\u001b[39mfigure(figsize\u001b[38;5;241m=\u001b[39m(\u001b[38;5;241m5\u001b[39m, \u001b[38;5;241m10\u001b[39m))  ; grid \u001b[38;5;241m=\u001b[39m mf\u001b[38;5;241m.\u001b[39mmodelgrid  ; \n\u001b[0;32m      2\u001b[0m mf, mt, conc, cvt, mvt \u001b[38;5;241m=\u001b[39m p07(\u001b[38;5;124m\"\u001b[39m\u001b[38;5;124mp07\u001b[39m\u001b[38;5;124m\"\u001b[39m, \u001b[38;5;241m-\u001b[39m\u001b[38;5;241m1\u001b[39m)\n\u001b[0;32m      4\u001b[0m conc \u001b[38;5;241m=\u001b[39m conc[\u001b[38;5;241m0\u001b[39m]\n",
      "\u001b[1;31mNameError\u001b[0m: name 'mf' is not defined"
     ]
    },
    {
     "data": {
      "text/plain": [
       "<Figure size 500x1000 with 0 Axes>"
      ]
     },
     "metadata": {},
     "output_type": "display_data"
    }
   ],
   "source": [
    "fig = plt.figure(figsize=(5, 10))  ; grid = mf.modelgrid  ; \n",
    "mf, mt, conc, cvt, mvt = p07(\"p07\", -1)\n",
    "\n",
    "conc = conc[0]\n",
    "ax = fig.add_subplot(3, 1, 1, aspect=\"equal\") ; ilay = 4\n",
    "pmv = flopy.plot.PlotMapView(ax=ax, model=mf, layer=ilay)  ; pmv.plot_grid(color=\".5\", alpha=0.2) ; pmv.plot_ibound()\n",
    "cs = pmv.contour_array(conc, levels=[0.01, 0.05, 0.15, 0.50], colors=\"k\")  ; plt.clabel(cs)\n",
    "plt.xlabel(\"DISTANCE X-AXIS (m)\") ; plt.ylabel(\"DISTANCE Y-AXIS (m)\")      ; plt.title(\"LAYER {}\".format(ilay + 1))\n",
    "ax = fig.add_subplot(3, 1, 2, aspect=\"equal\") ; ilay = 5\n",
    "pmv = flopy.plot.PlotMapView(ax=ax, model=mf, layer=ilay)  ; pmv.plot_grid(color=\".5\", alpha=0.2) ; pmv.plot_ibound()\n",
    "cs = pmv.contour_array(conc, levels=[0.01, 0.05, 0.15, 0.50], colors=\"k\")  ; plt.clabel(cs)\n",
    "plt.xlabel(\"DISTANCE  X-AXIS (m)\") ; plt.ylabel(\"DISTANCE  Y-AXIS (m)\")    ; plt.title(\"LAYER {}\".format(ilay + 1))\n",
    "ax = fig.add_subplot(3, 1, 3, aspect=\"equal\")  ; ilay = 6\n",
    "pmv = flopy.plot.PlotMapView(ax=ax, model=mf, layer=ilay)  ; pmv.plot_grid(color=\".5\", alpha=0.2)  ; pmv.plot_ibound()\n",
    "cs = pmv.contour_array(conc, levels=[0.01, 0.05, 0.15, 0.50], colors=\"k\")  ; plt.clabel(cs)\n",
    "plt.xlabel(\"DISTANCE X-AXIS (m)\") ; plt.ylabel(\"DISTANCE Y-AXIS (m)\")      ; plt.title(\"LAYER {}\".format(ilay + 1))\n",
    "plt.plot(grid.xcellcenters[7, 2], grid.ycellcenters[7, 2], \"ko\")           ; plt.tight_layout()"
   ]
  },
  {
   "cell_type": "code",
   "execution_count": null,
   "id": "b1c35be5-4cf4-4e38-bd2c-a9294a9f0399",
   "metadata": {},
   "outputs": [],
   "source": [
    "print(conc.shape),  type(conc)"
   ]
  },
  {
   "cell_type": "code",
   "execution_count": null,
   "id": "031a5933-fce0-4e00-9643-2007bcf93245",
   "metadata": {},
   "outputs": [],
   "source": []
  }
 ],
 "metadata": {
  "jupytext": {
   "cell_metadata_filter": "-all"
  },
  "kernelspec": {
   "display_name": "Python 3 (ipykernel)",
   "language": "python",
   "name": "python3"
  },
  "language_info": {
   "codemirror_mode": {
    "name": "ipython",
    "version": 3
   },
   "file_extension": ".py",
   "mimetype": "text/x-python",
   "name": "python",
   "nbconvert_exporter": "python",
   "pygments_lexer": "ipython3",
   "version": "3.12.7"
  }
 },
 "nbformat": 4,
 "nbformat_minor": 5
}
