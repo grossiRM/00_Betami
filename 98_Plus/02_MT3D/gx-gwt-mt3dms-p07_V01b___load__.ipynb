{
 "cells": [
  {
   "cell_type": "code",
   "execution_count": 1,
   "id": "f804e8ad-b670-4012-ba95-e414239d0191",
   "metadata": {
    "jupyter": {
     "source_hidden": true
    }
   },
   "outputs": [],
   "source": [
    "from pathlib import Path ; from shutil import copytree  ; from tempfile import TemporaryDirectory ; import pandas as pd\n",
    "import numpy as np ;  import flopy ;  import os ; import pathlib ; import numpy as np; import matplotlib.pyplot as plt# import git "
   ]
  },
  {
   "cell_type": "code",
   "execution_count": 2,
   "id": "03a45e29-1dba-4cd8-8b3b-e205ef374f17",
   "metadata": {
    "collapsed": true,
    "jupyter": {
     "outputs_hidden": true,
     "source_hidden": true
    }
   },
   "outputs": [
    {
     "name": "stdout",
     "output_type": "stream",
     "text": [
      "E:\\15_REPOS\\00_BETAMI\\98_Plus\\02_MT3D\n"
     ]
    }
   ],
   "source": [
    "example_name = \"Beta_p07\"                  # sim_name\n",
    "exe_name = 'E:\\\\15_REPOS\\\\00_BETAMI\\\\bin\\\\mf6'\n",
    "current_directory = os.getcwd();  print(current_directory)"
   ]
  },
  {
   "cell_type": "code",
   "execution_count": 3,
   "id": "9866f588-3ee3-49b0-802b-604c56580a17",
   "metadata": {
    "jupyter": {
     "source_hidden": true
    }
   },
   "outputs": [],
   "source": [
    "path = pathlib.Path('E:\\\\15_REPOS\\\\00_BETAMI\\\\98_Plus\\\\02_MT3D')\n",
    "path.mkdir(parents=True, exist_ok=True); os.chdir(path); current_directory = os.getcwd()\n",
    "directory_name = 'C_p07_V01b'    ; workspace = os.path.join('.', directory_name)                         # sim_ws\n",
    "if os.path.isdir(workspace) is False:\n",
    "    os.mkdir(workspace) \n",
    "output_folder = Path('C_p07_V01b') ; output_folder.mkdir(exist_ok=True)        "
   ]
  },
  {
   "cell_type": "code",
   "execution_count": 4,
   "id": "83715aab-530c-4653-b122-937acbc5634a",
   "metadata": {
    "jupyter": {
     "source_hidden": true
    }
   },
   "outputs": [],
   "source": [
    "data_path_R = 'E:\\\\15_REPOS\\\\00_BETAMI\\\\98_Plus\\\\02_MT3D\\\\C_p07_V01\\\\ex-gwt-mt3dms-p07'  # ____________________HERE________\n",
    "sim = flopy.mf6.MFSimulation.load(sim_ws = data_path_R   ,exe_name=exe_name,  verbosity_level=0)"
   ]
  },
  {
   "cell_type": "code",
   "execution_count": 5,
   "id": "85760c83",
   "metadata": {
    "collapsed": true,
    "jupyter": {
     "outputs_hidden": true,
     "source_hidden": true
    }
   },
   "outputs": [
    {
     "data": {
      "text/plain": [
       "(True, [])"
      ]
     },
     "execution_count": 5,
     "metadata": {},
     "output_type": "execute_result"
    }
   ],
   "source": [
    "sim.set_sim_path(output_folder) ; sim.write_simulation(silent=True) ; sim.run_simulation(silent=True)"
   ]
  },
  {
   "cell_type": "raw",
   "id": "c8d9a759-89a8-4856-9fac-3e9d45b03e40",
   "metadata": {},
   "source": [
    "___________________________________________________________________________________"
   ]
  },
  {
   "cell_type": "code",
   "execution_count": 9,
   "id": "0a738bc7-54b4-4e5d-a480-bae71b58f32b",
   "metadata": {},
   "outputs": [
    {
     "name": "stdout",
     "output_type": "stream",
     "text": [
      "OC package_Flow:  ['list()', 'zonebudget()', 'budget()', 'budgetcsv()', 'head()']\n"
     ]
    }
   ],
   "source": [
    "ml = sim.get_model(\"gwf-p07-mf6\")\n",
    "print(\"OC package_Flow: \", ml.oc.output.methods())"
   ]
  },
  {
   "cell_type": "code",
   "execution_count": 32,
   "id": "f27f3507-3999-4149-81b3-283609b51929",
   "metadata": {},
   "outputs": [
    {
     "name": "stdout",
     "output_type": "stream",
     "text": [
      "(15, 21)\n"
     ]
    },
    {
     "data": {
      "text/plain": [
       "[array([[[ 0.        , -3.33234092,  0.        , ..., -0.        ,\n",
       "          -0.        ,  3.33375065]]])]"
      ]
     },
     "execution_count": 32,
     "metadata": {},
     "output_type": "execute_result"
    }
   ],
   "source": [
    "hds = ml.output.head()                   ; H = hds.get_data() \n",
    "bud = ml.output.budget()                 ; Q = bud.get_data(idx=0, full3D=True) \n",
    "H2 = H[0, :, :] ; save=pd.DataFrame(H2)  ; save.to_csv (output_folder / \"_H.csv\")           ; print(H2d.shape)    ; Q"
   ]
  },
  {
   "cell_type": "code",
   "execution_count": 31,
   "id": "7a7acbc6-065c-48b0-a77d-7affa7a950f4",
   "metadata": {},
   "outputs": [
    {
     "data": {
      "text/plain": [
       "list"
      ]
     },
     "execution_count": 31,
     "metadata": {},
     "output_type": "execute_result"
    }
   ],
   "source": [
    "type(Q)"
   ]
  },
  {
   "cell_type": "raw",
   "id": "04fd7e86-5f5a-46c4-9516-cca7536cc1e0",
   "metadata": {},
   "source": [
    "___________________________________________________________________________________"
   ]
  },
  {
   "cell_type": "code",
   "execution_count": 20,
   "id": "9f5ef8ce-f466-406c-ae1f-f260988536a4",
   "metadata": {},
   "outputs": [
    {
     "name": "stdout",
     "output_type": "stream",
     "text": [
      "OC package_Transp:  ['list()', 'zonebudget()', 'budget()', 'budgetcsv()', 'concentration()']\n"
     ]
    }
   ],
   "source": [
    "mt = sim.get_model(\"gwt-p07-mf6\")        # mt\n",
    "print(\"OC package_Transp: \", mt.oc.output.methods())"
   ]
  },
  {
   "cell_type": "code",
   "execution_count": 28,
   "id": "5c4b312c-60da-422f-b6d0-047064770219",
   "metadata": {},
   "outputs": [
    {
     "name": "stdout",
     "output_type": "stream",
     "text": [
      "(8, 15, 21)\n"
     ]
    }
   ],
   "source": [
    "conc_mf6 = ml.output.concentration()       ; C = conc_mf6.get_data() ; print(C.shape)\n",
    "C2 = C[0, :, :] ; save=pd.DataFrame(C2)    ; save.to_csv (output_folder / \"_C.csv\")   "
   ]
  },
  {
   "cell_type": "code",
   "execution_count": null,
   "id": "6cacb5c3-edc7-44ef-8c36-9f7f5a210410",
   "metadata": {},
   "outputs": [],
   "source": [
    "# but .... what about the times?  .... steady state ?? !  nper = 1"
   ]
  }
 ],
 "metadata": {
  "jupytext": {
   "cell_metadata_filter": "-all"
  },
  "kernelspec": {
   "display_name": "Python 3 (ipykernel)",
   "language": "python",
   "name": "python3"
  },
  "language_info": {
   "codemirror_mode": {
    "name": "ipython",
    "version": 3
   },
   "file_extension": ".py",
   "mimetype": "text/x-python",
   "name": "python",
   "nbconvert_exporter": "python",
   "pygments_lexer": "ipython3",
   "version": "3.12.7"
  }
 },
 "nbformat": 4,
 "nbformat_minor": 5
}
