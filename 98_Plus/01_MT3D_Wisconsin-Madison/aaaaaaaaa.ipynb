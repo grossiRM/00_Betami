{
 "cells": [
  {
   "cell_type": "code",
   "execution_count": 4,
   "metadata": {},
   "outputs": [],
   "source": [
    "perlen_mf = [np.sum(perlen_mt)]\n",
    "nper_mf = len(perlen_mf)\n",
    "nper = len(perlen_mt)\n",
    "nprs = 100\n",
    "timprs = np.linspace(0, np.sum(perlen_mf), nprs, endpoint=False)\n",
    "hk_size = hk.shape\n",
    "nlay = hk_size[0] # number of layers\n",
    "nrow = hk_size[1] # number of rows\n",
    "ncol = hk_size[2] # number of columns\n",
    "delr = 0.25*coarsen_factor # grid size in direction of Lx\n",
    "delc = 1.0*coarsen_factor # grid size in direction of Ly, \n",
    "delv = 0.25*coarsen_factor # grid size in direction of Lz\n",
    "laytyp = 0\n",
    "Lx = (ncol - 1) * delr\n",
    "prsity = 0.3\n",
    "ibound = np.ones((nlay, nrow, ncol), dtype=int)\n",
    "ibound[0, :, 0] = -1\n",
    "ibound[0, :, -1] = -1\n",
    "strt = np.zeros((nlay, nrow, ncol), dtype=float)\n",
    "h1 = 1.5\n",
    "strt[0, :, 0] = h1\n",
    "C_in = [1.0, 0.0] \n"
   ]
  }
 ],
 "metadata": {
  "kernelspec": {
   "display_name": "Python 3 (ipykernel)",
   "language": "python",
   "name": "python3"
  },
  "language_info": {
   "codemirror_mode": {
    "name": "ipython",
    "version": 3
   },
   "file_extension": ".py",
   "mimetype": "text/x-python",
   "name": "python",
   "nbconvert_exporter": "python",
   "pygments_lexer": "ipython3",
   "version": "3.12.7"
  }
 },
 "nbformat": 4,
 "nbformat_minor": 4
}
