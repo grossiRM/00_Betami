{
 "cells": [
  {
   "cell_type": "markdown",
   "id": "c0c867ef-76d2-4de8-8c77-94f76bd911d3",
   "metadata": {},
   "source": [
    "# <font color='blue'> __02_Frey_beta_01__function__ `          *.tif to *.dat       `  </font>"
   ]
  },
  {
   "cell_type": "code",
   "execution_count": 4,
   "id": "f0e03f07-dbe3-4011-ab78-983e2d55b78e",
   "metadata": {},
   "outputs": [],
   "source": [
    "import os\n",
    "from flopy.utils import Raster"
   ]
  },
  {
   "cell_type": "code",
   "execution_count": 5,
   "id": "777dc71e-6b9b-4bb2-86e5-67bcfaa0a9a6",
   "metadata": {},
   "outputs": [],
   "source": [
    "A_f_ws = os.path.join('A_folder')"
   ]
  },
  {
   "cell_type": "code",
   "execution_count": 11,
   "id": "17eb5f46-5500-4bf6-8c5f-b0453e110707",
   "metadata": {},
   "outputs": [],
   "source": [
    "nrow, ncol = 40, 20\n",
    "delr, delc = 40, 40\n",
    "xoffset, yoffset = 554400., 389200.0\n",
    "epsg = 3070                                        # Wisconsin Transverse Mercator, denoted by EPSG code 3070 \n",
    "modelgrid = StructuredGrid(delr=np.ones(ncol) * delr, delc=np.ones(nrow) * delc, xoff=xoffset, yoff=yoffset, angrot=0)"
   ]
  },
  {
   "cell_type": "code",
   "execution_count": 12,
   "id": "d1fdce13-4083-4ae7-86fb-06ab125ecfbb",
   "metadata": {},
   "outputs": [],
   "source": [
    "br_surf = Raster.load('data/br_surface.tif')\n",
    "rs = br_surf.resample_to_grid(modelgrid, band=1, method='linear')           # resample_to_grid #\n",
    "np.savetxt('data/botm_____002.dat', rs)"
   ]
  },
  {
   "cell_type": "code",
   "execution_count": null,
   "id": "95d7d322-f0bc-42c1-a44a-4242c8e2cc4d",
   "metadata": {},
   "outputs": [],
   "source": []
  }
 ],
 "metadata": {
  "kernelspec": {
   "display_name": "Python 3 (ipykernel)",
   "language": "python",
   "name": "python3"
  },
  "language_info": {
   "codemirror_mode": {
    "name": "ipython",
    "version": 3
   },
   "file_extension": ".py",
   "mimetype": "text/x-python",
   "name": "python",
   "nbconvert_exporter": "python",
   "pygments_lexer": "ipython3",
   "version": "3.11.11"
  }
 },
 "nbformat": 4,
 "nbformat_minor": 5
}
