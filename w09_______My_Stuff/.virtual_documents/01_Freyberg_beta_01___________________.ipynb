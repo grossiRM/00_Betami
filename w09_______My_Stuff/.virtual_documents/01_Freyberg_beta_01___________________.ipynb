


import os
import shutil
from pathlib import Path
import numpy as np
import flopy
import matplotlib.pyplot as plt
import flopy.utils.binaryfile as bf

from flopy.discretization import StructuredGrid
import flopy.mf6 as mf6


A_f_ws = os.path.join('A_folder') 
if os.path.exists(A_f_ws):
    shutil.rmtree(A_f_ws)
name = 'B_model'


nlay,nrow,ncol,    delr,delc =   3,60,70,    40,40
xoffset, yoffset, epsg = 554400, 389200,  3070                                       
modelgrid = StructuredGrid(delr=np.ones(ncol) * delr, delc=np.ones(nrow) * delc, xoff=xoffset, yoff=yoffset, angrot=0)


top = [{'filename': 'data/top.dat'}]          # 04 surfaces, 03 layers
botm = [{'filename': 'data/botm_000.dat'},
        {'filename': 'data/botm_001.dat'},
        {'filename': 'data/botm_002.dat'}]
k = [{'filename': 'data/k_000.dat'},          # KH
     {'filename': 'data/k_001.dat'},
     {'filename': 'data/k_002.dat'}]
k33 = [{'filename': 'data/k33_000.dat'},      # KV
       {'filename': 'data/k33_001.dat'},
       {'filename': 'data/k33_002.dat'}]
strt = [top[0]] * nlay                           # Top for starting heads
recharge = {
    0: {'filename': 'data/rch_000.dat'}}      # RCH    
irch = [{'filename': 'data/irch.dat'}]        # iRCH   local
spec_head_perimeter = {
    0: {'filename': 'data/chd_000.dat'}}      # chd


C_sim = mf6.MFSimulation(sim_name=name, version="mf6", exe_name="mf6", sim_ws= A_f_ws)   
tdis = mf6.ModflowTdis(C_sim, time_units="days", nper=1, perioddata=[(1.0, 1, 1.0)])                                   # __.dis  
D_gwf = mf6.ModflowGwf(C_sim, modelname=name, save_flows=True)      

dis = mf6.ModflowGwfdis(D_gwf, nlay=nlay, nrow=nrow, ncol=ncol, delr=delr, delc=delc, top=top, botm=botm, idomain=1)   # __.dis 


C_sim.write_simulation() # __________        # pst = pf.build_pst() __ ?  





ims = mf6.ModflowIms(sim, complexity="moderate", outer_dvclose=0.001)                        # Solver
oc = mf6.ModflowGwfoc(C, head_filerecord=f'{C.name}.hds',                                    # __.oc  Output  
    budget_filerecord=f'{C.name}.cbc',
    saverecord=[('head', 'all'), ("budget", "all")]) 

ibound = np.ones((nlay, nrow, ncol), dtype=np.int32)
strt = 10.0 * np.ones((nlay, nrow, ncol), dtype=np.float32)
bas = flopy.modflow.ModflowBas(B, ibound=ibound, strt=strt)

hk, vka, sy, ss, laytyp = 1.0, 1.0, 0.1, 1.0e-4, 1                      
lpf = flopy.modflow.ModflowLpf( B, hk=hk, vka=vka, sy=sy, ss=ss, laytyp=laytyp, ipakcb=53)    # laytyp ______  confined (0)
pcg = flopy.modflow.ModflowPcg(B)
B.write_input()  





stageleft, stageright = 10.0, 10.0 
stageleft, stageright = 10, 0
bound_sp1,  bound_sp2 = [], [] 

stress_period_data = {0: bound_sp1, 1: bound_sp2}





for il in range(nlay):
    condleft = hk * (stageleft - zbot) * delc
    condright = hk * (stageright - zbot) * delc
    for ir in range(nrow):
        bound_sp1.append([il, ir, 0, stageleft, condleft])
        bound_sp1.append([il, ir, ncol - 1, stageright, condright])
print("Adding ", len(bound_sp1), "GHBs for stress period 1.")    


for il in range(nlay):
    condleft = hk * (stageleft - zbot) * delc
    condright = hk * (stageright - zbot) * delc
    for ir in range(nrow):
        bound_sp2.append([il, ir, 0, stageleft, condleft])
        bound_sp2.append([il, ir, ncol - 1, stageright, condright])
print("Adding ", len(bound_sp2), "GHBs for stress period 2.")

ghb = flopy.modflow.ModflowGhb(B, stress_period_data=stress_period_data) 
B.write_input()  





pumping_rate = -500.0
wel_sp1 = [[0, nrow / 2 - 1, ncol / 2 - 1, 0.0]]
wel_sp2 = [[0, nrow / 2 - 1, ncol / 2 - 1, 0.0]]
wel_sp3 = [[0, nrow / 2 - 1, ncol / 2 - 1, pumping_rate]]
stress_period_data = {0: wel_sp1, 1: wel_sp2, 2: wel_sp3}
wel = flopy.modflow.ModflowWel(B, stress_period_data=stress_period_data)
B.write_input()  


stress_period_data = {}
for kper in range(nper):
    for kstp in range(nstp[kper]):
        stress_period_data[(kper, kstp)] = ["save head", "save drawdown", "save budget", "print head", "print budget",]
oc = flopy.modflow.ModflowOc( B, stress_period_data=stress_period_data, compact=True)
B.write_input()



success, Boutput = B.run_model(silent=True, pause=False)
assert success, "D'oh."





headobj = bf.HeadFile(Path(workspace) / f"{name}.hds")
times = headobj.get_times()
cbb = bf.CellBudgetFile(Path(workspace) / f"{name}.cbc")


levels = np.linspace(0, 10, 11)
extent = (delr / 2.0, Lx - delr / 2.0, delc / 2.0, Ly - delc / 2.0)
print("Levels: ", levels)
print("Extent: ", extent)


wpt = (450.0, 550.0)


mytimes = [1.0, 101.0, 201.0]
for iplot, time in enumerate(mytimes):
    print("*****Processing time: ", time)
    head = headobj.get_data(totim=time)
    
    print("Head statistics")
    print("  min: ", head.min())
    print("  max: ", head.max())
    print("  std: ", head.std())





fig = plt.figure(figsize=(2, 10))
mytimes = [1.0, 101.0, 201.0]
for iplot, time in enumerate(mytimes):

    ax = fig.add_subplot(len(mytimes), 1, iplot + 1, aspect="equal")
    ax.set_title(f"stress period {iplot + 1}")                            # ______ stress periods

    pmv = flopy.plot.PlotMapView(model=B, layer=0, ax=ax)
    qm = pmv.plot_ibound() # lc = pmv.plot_grid()
    qm = pmv.plot_bc("GHB", alpha=0.5)
    if head.min() != head.max():
        cs = pmv.contour_array(head, levels=levels)                       # plt.clabel(cs, inline=1, fontsize=10, fmt="%1.1f")
        # quiver = pmv.plot_vector(frf, fff)

    Bc = "None"
    if (iplot + 1) == len(mytimes):
        Bc = "red"
    ax.plot(wpt[0], wpt[1], lw=0, marker="*", markersize=20, markeredgewidth=0.5,
        markeredgecolor="black", markerfacecolor=Bc, zorder=9,)     # ax.text(wpt[0] + 25, wpt[1] - 25, "well", size=12, zorder=12)


idx = (0, int(nrow / 2) - 1, int(ncol / 2) - 1)                       # _______ nrow / 2       ncol / 2
ts = headobj.get_ts(idx)
fig = plt.figure(figsize=(3, 3))
ax = fig.add_subplot(1, 1, 1)
ttl = f"Head at cell ({idx[0] + 1},{idx[1] + 1},{idx[2] + 1})"        # _______  head          at cell 1,5,5
ax.set_title(ttl)
ax.set_xlabel("time")
ax.set_ylabel("head")
ax.plot(ts[:, 0], ts[:, 1], "bo-")


try:
    temp_dir.cleanup()
except:
    # prevent windows permission error
    pass



