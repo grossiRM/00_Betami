{
 "cells": [
  {
   "cell_type": "markdown",
   "id": "ca11b90e-c87e-479c-b44f-358c3a56d270",
   "metadata": {},
   "source": [
    "### **script_02_forward_model**"
   ]
  },
  {
   "cell_type": "code",
   "execution_count": 1,
   "id": "73810278",
   "metadata": {},
   "outputs": [],
   "source": [
    "import os, sys ; import numpy as np ; import pandas as pd ; import flopy"
   ]
  },
  {
   "cell_type": "code",
   "execution_count": 2,
   "id": "15bf42f0",
   "metadata": {},
   "outputs": [
    {
     "ename": "FileNotFoundError",
     "evalue": "cannot find name file: E:\\15_REPOS\\00_BETAMI\\02_PEST_pp\\001______one_dim_flow______\\output_02\\output_01\\flow_1d.nam",
     "output_type": "error",
     "traceback": [
      "\u001b[1;31m---------------------------------------------------------------------------\u001b[0m",
      "\u001b[1;31mFileNotFoundError\u001b[0m                         Traceback (most recent call last)",
      "Cell \u001b[1;32mIn[2], line 24\u001b[0m\n\u001b[0;32m     21\u001b[0m     out\u001b[38;5;241m.\u001b[39mto_csv(\u001b[38;5;124m'\u001b[39m\u001b[38;5;124mBeta_02/heads_out.csv\u001b[39m\u001b[38;5;124m'\u001b[39m, index_label \u001b[38;5;241m=\u001b[39m \u001b[38;5;124m'\u001b[39m\u001b[38;5;124mid\u001b[39m\u001b[38;5;124m'\u001b[39m)             \u001b[38;5;66;03m# write model output\u001b[39;00m\n\u001b[0;32m     23\u001b[0m \u001b[38;5;28;01mif\u001b[39;00m \u001b[38;5;18m__name__\u001b[39m \u001b[38;5;241m==\u001b[39m \u001b[38;5;124m\"\u001b[39m\u001b[38;5;124m__main__\u001b[39m\u001b[38;5;124m\"\u001b[39m:\n\u001b[1;32m---> 24\u001b[0m     forward_model()\n",
      "Cell \u001b[1;32mIn[2], line 6\u001b[0m, in \u001b[0;36mforward_model\u001b[1;34m()\u001b[0m\n\u001b[0;32m      3\u001b[0m indx \u001b[38;5;241m=\u001b[39m pd\u001b[38;5;241m.\u001b[39mread_csv (\u001b[38;5;124m'\u001b[39m\u001b[38;5;124mdata/index.csv\u001b[39m\u001b[38;5;124m'\u001b[39m) [\u001b[38;5;124m'\u001b[39m\u001b[38;5;124midx\u001b[39m\u001b[38;5;124m'\u001b[39m]\u001b[38;5;241m.\u001b[39mvalues\u001b[38;5;241m.\u001b[39mastype(\u001b[38;5;28mint\u001b[39m)   \n\u001b[0;32m      4\u001b[0m x    \u001b[38;5;241m=\u001b[39m np\u001b[38;5;241m.\u001b[39mloadtxt  (\u001b[38;5;124m'\u001b[39m\u001b[38;5;124mdata/inputx.dat\u001b[39m\u001b[38;5;124m'\u001b[39m)                               ; x \u001b[38;5;241m=\u001b[39m np\u001b[38;5;241m.\u001b[39mpower(\u001b[38;5;241m10.0\u001b[39m, x)\n\u001b[1;32m----> 6\u001b[0m mf \u001b[38;5;241m=\u001b[39m flopy\u001b[38;5;241m.\u001b[39mmodflow\u001b[38;5;241m.\u001b[39mModflow\u001b[38;5;241m.\u001b[39mload(\u001b[38;5;124m'\u001b[39m\u001b[38;5;124moutput_01/flow_1d.nam\u001b[39m\u001b[38;5;124m'\u001b[39m, model_ws \u001b[38;5;241m=\u001b[39m \u001b[38;5;124m'\u001b[39m\u001b[38;5;124moutput_02\u001b[39m\u001b[38;5;124m'\u001b[39m )\n\u001b[0;32m      7\u001b[0m hk \u001b[38;5;241m=\u001b[39m mf\u001b[38;5;241m.\u001b[39mupw\u001b[38;5;241m.\u001b[39mhk\u001b[38;5;241m.\u001b[39marray\u001b[38;5;241m.\u001b[39mcopy()\n\u001b[0;32m      8\u001b[0m hk \u001b[38;5;241m=\u001b[39m x[np\u001b[38;5;241m.\u001b[39mnewaxis, np\u001b[38;5;241m.\u001b[39mnewaxis, :]                  ; mf\u001b[38;5;241m.\u001b[39mupw\u001b[38;5;241m.\u001b[39mhk \u001b[38;5;241m=\u001b[39m hk  ; mf\u001b[38;5;241m.\u001b[39mupw\u001b[38;5;241m.\u001b[39mwrite_file()  \n",
      "File \u001b[1;32m~\\anaconda3\\Lib\\site-packages\\flopy\\modflow\\mf.py:681\u001b[0m, in \u001b[0;36mModflow.load\u001b[1;34m(cls, f, version, exe_name, verbose, model_ws, load_only, forgive, check)\u001b[0m\n\u001b[0;32m    679\u001b[0m     namefile_path \u001b[38;5;241m=\u001b[39m namefile_path_sfx\n\u001b[0;32m    680\u001b[0m \u001b[38;5;28;01mif\u001b[39;00m \u001b[38;5;129;01mnot\u001b[39;00m namefile_path\u001b[38;5;241m.\u001b[39mis_file():\n\u001b[1;32m--> 681\u001b[0m     \u001b[38;5;28;01mraise\u001b[39;00m \u001b[38;5;167;01mFileNotFoundError\u001b[39;00m(\u001b[38;5;124mf\u001b[39m\u001b[38;5;124m\"\u001b[39m\u001b[38;5;124mcannot find name file: \u001b[39m\u001b[38;5;132;01m{\u001b[39;00mnamefile_path\u001b[38;5;132;01m}\u001b[39;00m\u001b[38;5;124m\"\u001b[39m)\n\u001b[0;32m    683\u001b[0m \u001b[38;5;66;03m# Determine model name from 'f', without any extension or path\u001b[39;00m\n\u001b[0;32m    684\u001b[0m modelname \u001b[38;5;241m=\u001b[39m namefile_path\u001b[38;5;241m.\u001b[39mstem\n",
      "\u001b[1;31mFileNotFoundError\u001b[0m: cannot find name file: E:\\15_REPOS\\00_BETAMI\\02_PEST_pp\\001______one_dim_flow______\\output_02\\output_01\\flow_1d.nam"
     ]
    }
   ],
   "source": [
    "def forward_model():\n",
    "   \n",
    "    indx = pd.read_csv ('data/index.csv') ['idx'].values.astype(int)   \n",
    "    x    = np.loadtxt  ('data/inputx.dat')                               ; x = np.power(10.0, x)\n",
    "\n",
    "    mf = flopy.modflow.Modflow.load('output_01/flow_1d.nam', model_ws = 'output_02' )\n",
    "    hk = mf.upw.hk.array.copy()\n",
    "    hk = x[np.newaxis, np.newaxis, :]                  ; mf.upw.hk = hk  ; mf.upw.write_file()  \n",
    "\n",
    "    os.chdir  (\"Beta_02\")\n",
    "    os.system (\"mfnwt.exe flow_1d.nam\")                ; basefolder = os.getcwd()\n",
    "    os.chdir  (basefolder)\n",
    "\n",
    "    hds = flopy.utils.HeadFile(os.path.join('Beta_02/Beta_03', 'flow_1d.hds'))\n",
    "    wl = hds.get_data(totim=1.0)\n",
    "    wl = wl.squeeze()\n",
    "    y =wl[indx]                                                 # model maping  \n",
    "\n",
    "    out = pd.DataFrame()\n",
    "    out['y'] = y\n",
    "    out.to_csv('Beta_02/heads_out.csv', index_label = 'id')             # write model output\n",
    "    \n",
    "if __name__ == \"__main__\":\n",
    "    forward_model()"
   ]
  },
  {
   "cell_type": "code",
   "execution_count": null,
   "id": "7286c03d",
   "metadata": {},
   "outputs": [],
   "source": [
    "!jupyter nbconvert --to script c_Beta_Script_02.ipynb"
   ]
  },
  {
   "cell_type": "code",
   "execution_count": null,
   "id": "99e47bf1",
   "metadata": {},
   "outputs": [],
   "source": []
  }
 ],
 "metadata": {
  "kernelspec": {
   "display_name": "Python 3 (ipykernel)",
   "language": "python",
   "name": "python3"
  },
  "language_info": {
   "codemirror_mode": {
    "name": "ipython",
    "version": 3
   },
   "file_extension": ".py",
   "mimetype": "text/x-python",
   "name": "python",
   "nbconvert_exporter": "python",
   "pygments_lexer": "ipython3",
   "version": "3.12.7"
  }
 },
 "nbformat": 4,
 "nbformat_minor": 5
}
