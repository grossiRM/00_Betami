{
 "cells": [
  {
   "cell_type": "markdown",
   "id": "c0c867ef-76d2-4de8-8c77-94f76bd911d3",
   "metadata": {},
   "source": [
    "# <font color='blue'> __01_Freyberg_Flopy_Beta__ </font>"
   ]
  },
  {
   "cell_type": "code",
   "execution_count": 1,
   "id": "f0e03f07-dbe3-4011-ab78-983e2d55b78e",
   "metadata": {},
   "outputs": [],
   "source": [
    "import os\n",
    "import shutil\n",
    "from pathlib import Path\n",
    "import numpy as np\n",
    "import flopy\n",
    "import matplotlib.pyplot as plt\n",
    "import flopy.utils.binaryfile as bf\n",
    "\n",
    "from flopy.discretization import StructuredGrid\n",
    "import flopy.mf6 as mf6"
   ]
  },
  {
   "cell_type": "code",
   "execution_count": 2,
   "id": "3026a58d-1af5-4b3b-b816-2b35ef04a063",
   "metadata": {},
   "outputs": [],
   "source": [
    "A_f_ws = os.path.join('A_folder') \n",
    "if os.path.exists(A_f_ws):\n",
    "    shutil.rmtree(A_f_ws)\n",
    "name = 'B_model'"
   ]
  },
  {
   "cell_type": "code",
   "execution_count": 3,
   "id": "b9706732-b145-4ea8-ba4d-60fe2d92b6f0",
   "metadata": {},
   "outputs": [],
   "source": [
    "nlay,nrow,ncol,    delr,delc =   3,60,70,    40,40\n",
    "xoffset, yoffset, epsg = 554400, 389200,  3070                                       \n",
    "modelgrid = StructuredGrid(delr=np.ones(ncol) * delr, delc=np.ones(nrow) * delc, xoff=xoffset, yoff=yoffset, angrot=0)"
   ]
  },
  {
   "cell_type": "code",
   "execution_count": 4,
   "id": "8a639b15-6fce-4b81-9914-69799bacc374",
   "metadata": {},
   "outputs": [],
   "source": [
    "top = [{'filename': 'data/top.dat'}]          # 04 surfaces, 03 layers\n",
    "botm = [{'filename': 'data/botm_000.dat'},\n",
    "        {'filename': 'data/botm_001.dat'},\n",
    "        {'filename': 'data/botm_002.dat'}]\n",
    "k = [{'filename': 'data/k_000.dat'},          # KH\n",
    "     {'filename': 'data/k_001.dat'},\n",
    "     {'filename': 'data/k_002.dat'}]\n",
    "k33 = [{'filename': 'data/k33_000.dat'},      # KV\n",
    "       {'filename': 'data/k33_001.dat'},\n",
    "       {'filename': 'data/k33_002.dat'}]\n",
    "strt = [top[0]] * nlay                           # Top for starting heads\n",
    "recharge = {\n",
    "    0: {'filename': 'data/rch_000.dat'}}      # RCH    \n",
    "irch = [{'filename': 'data/irch.dat'}]        # iRCH   local\n",
    "spec_head_perimeter = {\n",
    "    0: {'filename': 'data/chd_000.dat'}}      # chd"
   ]
  },
  {
   "cell_type": "code",
   "execution_count": 5,
   "id": "ca73d97c-cc10-4804-8761-adfb38e23a26",
   "metadata": {},
   "outputs": [],
   "source": [
    "C_sim = mf6.MFSimulation(sim_name=name, version=\"mf6\", exe_name=\"mf6\", sim_ws= A_f_ws)   \n",
    "tdis = mf6.ModflowTdis(C_sim, time_units=\"days\", nper=1, perioddata=[(1.0, 1, 1.0)])                                   # __.dis  \n",
    "D_gwf = mf6.ModflowGwf(C_sim, modelname=name, save_flows=True)      \n",
    "\n",
    "dis = mf6.ModflowGwfdis(D_gwf, nlay=nlay, nrow=nrow, ncol=ncol, delr=delr, delc=delc, top=top, botm=botm, idomain=1)   # __.dis "
   ]
  },
  {
   "cell_type": "code",
   "execution_count": 6,
   "id": "97ec27da-8a8b-4725-8ef5-9696839b6732",
   "metadata": {},
   "outputs": [
    {
     "name": "stdout",
     "output_type": "stream",
     "text": [
      "writing simulation...\n",
      "  writing simulation name file...\n",
      "  writing simulation tdis package...\n",
      "  writing model B_model...\n",
      "    writing model name file...\n",
      "    writing package dis...\n"
     ]
    }
   ],
   "source": [
    "C_sim.write_simulation() # __________        # pst = pf.build_pst() __ ?  "
   ]
  },
  {
   "cell_type": "markdown",
   "id": "265fa1bd-36ea-4489-9015-ebd903791ca4",
   "metadata": {},
   "source": [
    "## __SEE__"
   ]
  },
  {
   "cell_type": "code",
   "execution_count": null,
   "id": "51f4fd88-2265-4189-9f1b-752188bd7cfb",
   "metadata": {},
   "outputs": [],
   "source": [
    "ims = mf6.ModflowIms(sim, complexity=\"moderate\", outer_dvclose=0.001)                        # Solver\n",
    "oc = mf6.ModflowGwfoc(C, head_filerecord=f'{C.name}.hds',                                    # __.oc  Output  \n",
    "    budget_filerecord=f'{C.name}.cbc',\n",
    "    saverecord=[('head', 'all'), (\"budget\", \"all\")]) \n",
    "\n",
    "ibound = np.ones((nlay, nrow, ncol), dtype=np.int32)\n",
    "strt = 10.0 * np.ones((nlay, nrow, ncol), dtype=np.float32)\n",
    "bas = flopy.modflow.ModflowBas(B, ibound=ibound, strt=strt)\n",
    "\n",
    "hk, vka, sy, ss, laytyp = 1.0, 1.0, 0.1, 1.0e-4, 1                      \n",
    "lpf = flopy.modflow.ModflowLpf( B, hk=hk, vka=vka, sy=sy, ss=ss, laytyp=laytyp, ipakcb=53)    # laytyp ______  confined (0)\n",
    "pcg = flopy.modflow.ModflowPcg(B)\n",
    "B.write_input()  "
   ]
  },
  {
   "cell_type": "markdown",
   "id": "c464b1ad-5cc7-479f-bddd-1a8d1ad006a9",
   "metadata": {},
   "source": [
    "# __Stress_periods_1,2__"
   ]
  },
  {
   "cell_type": "code",
   "execution_count": null,
   "id": "e8fd76bf-2f70-4094-bc96-69e027aa557f",
   "metadata": {},
   "outputs": [],
   "source": [
    "stageleft, stageright = 10.0, 10.0 \n",
    "stageleft, stageright = 10, 0\n",
    "bound_sp1,  bound_sp2 = [], [] \n",
    "\n",
    "stress_period_data = {0: bound_sp1, 1: bound_sp2}"
   ]
  },
  {
   "cell_type": "markdown",
   "id": "1b73feb8-53fa-4da3-a71a-a527d36f4937",
   "metadata": {},
   "source": [
    "# __Ghb__"
   ]
  },
  {
   "cell_type": "code",
   "execution_count": null,
   "id": "cfa9ef16-fcc3-4199-851d-e9ece6484f6a",
   "metadata": {},
   "outputs": [],
   "source": [
    "for il in range(nlay):\n",
    "    condleft = hk * (stageleft - zbot) * delc\n",
    "    condright = hk * (stageright - zbot) * delc\n",
    "    for ir in range(nrow):\n",
    "        bound_sp1.append([il, ir, 0, stageleft, condleft])\n",
    "        bound_sp1.append([il, ir, ncol - 1, stageright, condright])\n",
    "print(\"Adding \", len(bound_sp1), \"GHBs for stress period 1.\")    \n",
    "\n",
    "\n",
    "for il in range(nlay):\n",
    "    condleft = hk * (stageleft - zbot) * delc\n",
    "    condright = hk * (stageright - zbot) * delc\n",
    "    for ir in range(nrow):\n",
    "        bound_sp2.append([il, ir, 0, stageleft, condleft])\n",
    "        bound_sp2.append([il, ir, ncol - 1, stageright, condright])\n",
    "print(\"Adding \", len(bound_sp2), \"GHBs for stress period 2.\")\n",
    "\n",
    "ghb = flopy.modflow.ModflowGhb(B, stress_period_data=stress_period_data) \n",
    "B.write_input()  "
   ]
  },
  {
   "cell_type": "markdown",
   "id": "cf608145-853c-4754-90dd-64d96d3f011f",
   "metadata": {},
   "source": [
    "### __Well__"
   ]
  },
  {
   "cell_type": "code",
   "execution_count": null,
   "id": "9d853406-459c-4391-80e6-1b37ef80769d",
   "metadata": {},
   "outputs": [],
   "source": [
    "pumping_rate = -500.0\n",
    "wel_sp1 = [[0, nrow / 2 - 1, ncol / 2 - 1, 0.0]]\n",
    "wel_sp2 = [[0, nrow / 2 - 1, ncol / 2 - 1, 0.0]]\n",
    "wel_sp3 = [[0, nrow / 2 - 1, ncol / 2 - 1, pumping_rate]]\n",
    "stress_period_data = {0: wel_sp1, 1: wel_sp2, 2: wel_sp3}\n",
    "wel = flopy.modflow.ModflowWel(B, stress_period_data=stress_period_data)\n",
    "B.write_input()  "
   ]
  },
  {
   "cell_type": "code",
   "execution_count": null,
   "id": "03bc6767-1586-40a8-b51f-49615b691492",
   "metadata": {},
   "outputs": [],
   "source": [
    "stress_period_data = {}\n",
    "for kper in range(nper):\n",
    "    for kstp in range(nstp[kper]):\n",
    "        stress_period_data[(kper, kstp)] = [\"save head\", \"save drawdown\", \"save budget\", \"print head\", \"print budget\",]\n",
    "oc = flopy.modflow.ModflowOc( B, stress_period_data=stress_period_data, compact=True)\n",
    "B.write_input()"
   ]
  },
  {
   "cell_type": "code",
   "execution_count": null,
   "id": "d1eb0b48-a607-4470-b011-27ecd78e4bd1",
   "metadata": {},
   "outputs": [],
   "source": [
    "\n",
    "success, Boutput = B.run_model(silent=True, pause=False)\n",
    "assert success, \"D'oh.\""
   ]
  },
  {
   "cell_type": "markdown",
   "id": "605fa232-7e93-4b5b-b0a6-8457fc663d23",
   "metadata": {},
   "source": [
    "# __Results__"
   ]
  },
  {
   "cell_type": "code",
   "execution_count": null,
   "id": "cd524622-ff94-48a0-b6bf-10cc2e2b908f",
   "metadata": {},
   "outputs": [],
   "source": [
    "headobj = bf.HeadFile(Path(workspace) / f\"{name}.hds\")\n",
    "times = headobj.get_times()\n",
    "cbb = bf.CellBudgetFile(Path(workspace) / f\"{name}.cbc\")"
   ]
  },
  {
   "cell_type": "code",
   "execution_count": null,
   "id": "e6bce8c3-7038-483c-828d-55e2e31758e1",
   "metadata": {},
   "outputs": [],
   "source": [
    "levels = np.linspace(0, 10, 11)\n",
    "extent = (delr / 2.0, Lx - delr / 2.0, delc / 2.0, Ly - delc / 2.0)\n",
    "print(\"Levels: \", levels)\n",
    "print(\"Extent: \", extent)"
   ]
  },
  {
   "cell_type": "code",
   "execution_count": null,
   "id": "b415e61d-8e0d-4627-b33a-0bcedd525cc7",
   "metadata": {},
   "outputs": [],
   "source": [
    "wpt = (450.0, 550.0)"
   ]
  },
  {
   "cell_type": "code",
   "execution_count": null,
   "id": "124a7005-6c82-470d-814d-0d96e4c40253",
   "metadata": {},
   "outputs": [],
   "source": [
    "mytimes = [1.0, 101.0, 201.0]\n",
    "for iplot, time in enumerate(mytimes):\n",
    "    print(\"*****Processing time: \", time)\n",
    "    head = headobj.get_data(totim=time)\n",
    "    \n",
    "    print(\"Head statistics\")\n",
    "    print(\"  min: \", head.min())\n",
    "    print(\"  max: \", head.max())\n",
    "    print(\"  std: \", head.std())"
   ]
  },
  {
   "cell_type": "raw",
   "id": "b876d072-c6f9-4731-95b8-197ff90f798c",
   "metadata": {},
   "source": [
    "    # Extract flow right face and flow front face\n",
    "    frf = cbb.get_data(text=\"FLOW RIGHT FACE\", totim=time)[0]\n",
    "    fff = cbb.get_data(text=\"FLOW FRONT FACE\", totim=time)[0]"
   ]
  },
  {
   "cell_type": "code",
   "execution_count": null,
   "id": "22b1c83c-d099-4e96-9272-f79d090b7be0",
   "metadata": {},
   "outputs": [],
   "source": [
    "fig = plt.figure(figsize=(2, 10))\n",
    "mytimes = [1.0, 101.0, 201.0]\n",
    "for iplot, time in enumerate(mytimes):\n",
    "\n",
    "    ax = fig.add_subplot(len(mytimes), 1, iplot + 1, aspect=\"equal\")\n",
    "    ax.set_title(f\"stress period {iplot + 1}\")                            # ______ stress periods\n",
    "\n",
    "    pmv = flopy.plot.PlotMapView(model=B, layer=0, ax=ax)\n",
    "    qm = pmv.plot_ibound() # lc = pmv.plot_grid()\n",
    "    qm = pmv.plot_bc(\"GHB\", alpha=0.5)\n",
    "    if head.min() != head.max():\n",
    "        cs = pmv.contour_array(head, levels=levels)                       # plt.clabel(cs, inline=1, fontsize=10, fmt=\"%1.1f\")\n",
    "        # quiver = pmv.plot_vector(frf, fff)\n",
    "\n",
    "    Bc = \"None\"\n",
    "    if (iplot + 1) == len(mytimes):\n",
    "        Bc = \"red\"\n",
    "    ax.plot(wpt[0], wpt[1], lw=0, marker=\"*\", markersize=20, markeredgewidth=0.5,\n",
    "        markeredgecolor=\"black\", markerfacecolor=Bc, zorder=9,)     # ax.text(wpt[0] + 25, wpt[1] - 25, \"well\", size=12, zorder=12)"
   ]
  },
  {
   "cell_type": "code",
   "execution_count": null,
   "id": "159cb636-c1d8-4132-8e05-980ad89088df",
   "metadata": {},
   "outputs": [],
   "source": [
    "idx = (0, int(nrow / 2) - 1, int(ncol / 2) - 1)                       # _______ nrow / 2       ncol / 2\n",
    "ts = headobj.get_ts(idx)\n",
    "fig = plt.figure(figsize=(3, 3))\n",
    "ax = fig.add_subplot(1, 1, 1)\n",
    "ttl = f\"Head at cell ({idx[0] + 1},{idx[1] + 1},{idx[2] + 1})\"        # _______  head          at cell 1,5,5\n",
    "ax.set_title(ttl)\n",
    "ax.set_xlabel(\"time\")\n",
    "ax.set_ylabel(\"head\")\n",
    "ax.plot(ts[:, 0], ts[:, 1], \"bo-\")"
   ]
  },
  {
   "cell_type": "code",
   "execution_count": null,
   "id": "d275e8a9-e1f0-43ed-b774-40822b82892c",
   "metadata": {},
   "outputs": [],
   "source": [
    "try:\n",
    "    temp_dir.cleanup()\n",
    "except:\n",
    "    # prevent windows permission error\n",
    "    pass"
   ]
  },
  {
   "cell_type": "code",
   "execution_count": null,
   "id": "d1fdce13-4083-4ae7-86fb-06ab125ecfbb",
   "metadata": {},
   "outputs": [],
   "source": []
  }
 ],
 "metadata": {
  "kernelspec": {
   "display_name": "Python 3 (ipykernel)",
   "language": "python",
   "name": "python3"
  },
  "language_info": {
   "codemirror_mode": {
    "name": "ipython",
    "version": 3
   },
   "file_extension": ".py",
   "mimetype": "text/x-python",
   "name": "python",
   "nbconvert_exporter": "python",
   "pygments_lexer": "ipython3",
   "version": "3.11.11"
  }
 },
 "nbformat": 4,
 "nbformat_minor": 5
}
