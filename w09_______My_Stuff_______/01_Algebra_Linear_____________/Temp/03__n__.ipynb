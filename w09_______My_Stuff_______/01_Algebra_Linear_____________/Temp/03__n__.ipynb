{
 "cells": [
  {
   "cell_type": "code",
   "execution_count": 1,
   "metadata": {},
   "outputs": [],
   "source": [
    "import numpy as np\n",
    "import pandas as pd\n",
    "import matplotlib.pyplot as plt"
   ]
  },
  {
   "cell_type": "raw",
   "metadata": {},
   "source": [
    "plt.bar(t,r)\n",
    "plt.xlabel('Time')\n",
    "plt.ylabel('Rainfall')"
   ]
  },
  {
   "cell_type": "code",
   "execution_count": 2,
   "metadata": {},
   "outputs": [],
   "source": [
    "A = np.array([[1, 2, 3], [45, 4, 7], [9, 6, 10]])    # print(\"A : \", str(A));\n",
    "B = np.array([[1], [2], [3]])                        # print(\"B : \", str(B));\n",
    "C = np.append(A, B, axis=1)                          # print (\"resultant array\", str(C))\n",
    "\n",
    "DF = pd.DataFrame(A) \n",
    "DF.to_csv(\"A.csv\")\n",
    "DF = pd.DataFrame(B) \n",
    "DF.to_csv(\"B.csv\")\n",
    "DF = pd.DataFrame(C) \n",
    "DF.to_csv(\"C.csv\")"
   ]
  },
  {
   "cell_type": "code",
   "execution_count": 3,
   "metadata": {},
   "outputs": [],
   "source": [
    "A2 = np.linspace(0,100,20)\n",
    "B2 = np.random.rand(20)\n",
    "\n",
    "DF = pd.DataFrame(A2) \n",
    "DF.to_csv(\"A2.csv\")\n",
    "DF = pd.DataFrame(B2) \n",
    "DF.to_csv(\"B2.csv\")"
   ]
  },
  {
   "cell_type": "code",
   "execution_count": 4,
   "metadata": {},
   "outputs": [],
   "source": [
    "# A2.shape # B2.shape   # (20,)  (20,)"
   ]
  },
  {
   "cell_type": "code",
   "execution_count": 5,
   "metadata": {},
   "outputs": [],
   "source": [
    "A2 = A2.reshape(20,1)\n",
    "B2 = B2.reshape(20,1)"
   ]
  },
  {
   "cell_type": "code",
   "execution_count": 6,
   "metadata": {},
   "outputs": [],
   "source": [
    "C2 = np.concatenate((A2,B2.reshape(len(B2),1)),axis=1)\n",
    "DF = pd.DataFrame(C2) \n",
    "DF.to_csv(\"C2.csv\")"
   ]
  },
  {
   "cell_type": "code",
   "execution_count": 7,
   "metadata": {},
   "outputs": [],
   "source": [
    "a = np.array([[1, 2], [3, 4]])\n",
    "b = np.array([[5, 6]])\n",
    "# np.concatenate((a, b), axis=0)\n",
    "# np.concatenate((a, b), axis=None)"
   ]
  },
  {
   "cell_type": "markdown",
   "metadata": {},
   "source": [
    "# new"
   ]
  }
 ],
 "metadata": {
  "kernelspec": {
   "display_name": "Python 3 (ipykernel)",
   "language": "python",
   "name": "python3"
  },
  "language_info": {
   "codemirror_mode": {
    "name": "ipython",
    "version": 3
   },
   "file_extension": ".py",
   "mimetype": "text/x-python",
   "name": "python",
   "nbconvert_exporter": "python",
   "pygments_lexer": "ipython3",
   "version": "3.11.11"
  }
 },
 "nbformat": 4,
 "nbformat_minor": 4
}
