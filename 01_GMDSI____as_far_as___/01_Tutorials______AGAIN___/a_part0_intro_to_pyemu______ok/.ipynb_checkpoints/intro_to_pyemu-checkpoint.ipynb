{
 "cells": [
  {
   "cell_type": "code",
   "execution_count": 1,
   "metadata": {},
   "outputs": [],
   "source": [
    "import os\n",
    "import warnings\n",
    "warnings.filterwarnings(\"ignore\")\n",
    "warnings.filterwarnings(\"ignore\", category=DeprecationWarning) \n",
    "import matplotlib.pyplot as plt\n",
    "import numpy as np\n",
    "\n",
    "import sys\n",
    "# sys.path.append(os.path.join(\"..\", \"..\", \"dependencies\"))\n",
    "import pyemu"
   ]
  },
  {
   "cell_type": "code",
   "execution_count": 2,
   "metadata": {},
   "outputs": [],
   "source": [
    "# the pest folder\n",
    "f_d = os.path.join('handling_files')"
   ]
  },
  {
   "cell_type": "code",
   "execution_count": 3,
   "metadata": {},
   "outputs": [],
   "source": [
    "pst = pyemu.Pst(os.path.join(f_d,\"freyberg_pp.pst\"))"
   ]
  },
  {
   "cell_type": "code",
   "execution_count": 39,
   "metadata": {},
   "outputs": [],
   "source": [
    "# * control data\n",
    "                 # pst.control_data.noptmax = 0        # pst.control_data.formatted_values       # edit / visualize \n",
    "# * singular value decomposition            \n",
    "# pst.parameter_data.tail()         # ______________ \n",
    "# pst.parameter_groups.head()       # ______________ \n",
    "# * observation groups head() \n",
    "# pst.observation_data.head()       # ______________ \n",
    "# * model command line\n",
    "# pst.prior_information.head()      # ______________ \n",
    "# * regularization                                                           # https://help.pesthomepage.org/pestpp-ies.html\n",
    "# ++ options \n",
    "     # pst.pestpp_options['ies_parameter_ensemble'] = 'dummy_ies_par_ensemble.csv'    # the flagship of the PEST++ suite (!)\n",
    "     # pst.pestpp_options['ies_num_reals'] = 50                                       # number of realizations\n",
    "     # pst.pestpp_options[\"lambdas\"] = [0.1, 1, 10, 100, 1000]                        # calculation of parameter upgrades\n",
    "     # pst.pestpp_options['da_use_simulated_states'] = True                           # end of each cycle to the next \n",
    "# pst.pestpp_options"
   ]
  },
  {
   "cell_type": "code",
   "execution_count": 25,
   "metadata": {},
   "outputs": [
    {
     "data": {
      "text/plain": [
       "Index(['parnme', 'partrans', 'parchglim', 'parval1', 'parlbnd', 'parubnd',\n",
       "       'pargp', 'scale', 'offset', 'dercom', 'extra'],\n",
       "      dtype='object')"
      ]
     },
     "execution_count": 25,
     "metadata": {},
     "output_type": "execute_result"
    }
   ],
   "source": [
    "pst.parameter_data.columns     # See parval1"
   ]
  },
  {
   "cell_type": "code",
   "execution_count": 31,
   "metadata": {},
   "outputs": [
    {
     "data": {
      "text/html": [
       "<div>\n",
       "<style scoped>\n",
       "    .dataframe tbody tr th:only-of-type {\n",
       "        vertical-align: middle;\n",
       "    }\n",
       "\n",
       "    .dataframe tbody tr th {\n",
       "        vertical-align: top;\n",
       "    }\n",
       "\n",
       "    .dataframe thead th {\n",
       "        text-align: right;\n",
       "    }\n",
       "</style>\n",
       "<table border=\"1\" class=\"dataframe\">\n",
       "  <thead>\n",
       "    <tr style=\"text-align: right;\">\n",
       "      <th></th>\n",
       "      <th>parnme</th>\n",
       "      <th>partrans</th>\n",
       "      <th>parchglim</th>\n",
       "      <th>parval1</th>\n",
       "      <th>parlbnd</th>\n",
       "      <th>parubnd</th>\n",
       "      <th>pargp</th>\n",
       "      <th>scale</th>\n",
       "      <th>offset</th>\n",
       "      <th>dercom</th>\n",
       "      <th>extra</th>\n",
       "    </tr>\n",
       "    <tr>\n",
       "      <th>parnme</th>\n",
       "      <th></th>\n",
       "      <th></th>\n",
       "      <th></th>\n",
       "      <th></th>\n",
       "      <th></th>\n",
       "      <th></th>\n",
       "      <th></th>\n",
       "      <th></th>\n",
       "      <th></th>\n",
       "      <th></th>\n",
       "      <th></th>\n",
       "    </tr>\n",
       "  </thead>\n",
       "  <tbody>\n",
       "    <tr>\n",
       "      <th>hk00</th>\n",
       "      <td>hk00</td>\n",
       "      <td>log</td>\n",
       "      <td>factor</td>\n",
       "      <td>1.1</td>\n",
       "      <td>0.5</td>\n",
       "      <td>50.0</td>\n",
       "      <td>hk</td>\n",
       "      <td>1.0</td>\n",
       "      <td>0.0</td>\n",
       "      <td>1</td>\n",
       "      <td>NaN</td>\n",
       "    </tr>\n",
       "  </tbody>\n",
       "</table>\n",
       "</div>"
      ],
      "text/plain": [
       "       parnme partrans parchglim  parval1  parlbnd  parubnd pargp  scale  \\\n",
       "parnme                                                                     \n",
       "hk00     hk00      log    factor      1.1      0.5     50.0    hk    1.0   \n",
       "\n",
       "        offset dercom  extra  \n",
       "parnme                        \n",
       "hk00       0.0      1    NaN  "
      ]
     },
     "execution_count": 31,
     "metadata": {},
     "output_type": "execute_result"
    }
   ],
   "source": [
    "pst.parameter_data.iloc[:1,:] "
   ]
  },
  {
   "cell_type": "code",
   "execution_count": 42,
   "metadata": {},
   "outputs": [
    {
     "data": {
      "text/html": [
       "<div>\n",
       "<style scoped>\n",
       "    .dataframe tbody tr th:only-of-type {\n",
       "        vertical-align: middle;\n",
       "    }\n",
       "\n",
       "    .dataframe tbody tr th {\n",
       "        vertical-align: top;\n",
       "    }\n",
       "\n",
       "    .dataframe thead th {\n",
       "        text-align: right;\n",
       "    }\n",
       "</style>\n",
       "<table border=\"1\" class=\"dataframe\">\n",
       "  <thead>\n",
       "    <tr style=\"text-align: right;\">\n",
       "      <th></th>\n",
       "      <th>parnme</th>\n",
       "      <th>partrans</th>\n",
       "      <th>parchglim</th>\n",
       "      <th>parval1</th>\n",
       "      <th>parlbnd</th>\n",
       "      <th>parubnd</th>\n",
       "      <th>pargp</th>\n",
       "      <th>scale</th>\n",
       "      <th>offset</th>\n",
       "      <th>dercom</th>\n",
       "      <th>extra</th>\n",
       "    </tr>\n",
       "    <tr>\n",
       "      <th>parnme</th>\n",
       "      <th></th>\n",
       "      <th></th>\n",
       "      <th></th>\n",
       "      <th></th>\n",
       "      <th></th>\n",
       "      <th></th>\n",
       "      <th></th>\n",
       "      <th></th>\n",
       "      <th></th>\n",
       "      <th></th>\n",
       "      <th></th>\n",
       "    </tr>\n",
       "  </thead>\n",
       "  <tbody>\n",
       "    <tr>\n",
       "      <th>w1_r11_c13</th>\n",
       "      <td>w1_r11_c13</td>\n",
       "      <td>log</td>\n",
       "      <td>factor</td>\n",
       "      <td>99999</td>\n",
       "      <td>0.1</td>\n",
       "      <td>10.0</td>\n",
       "      <td>w1</td>\n",
       "      <td>1.0</td>\n",
       "      <td>0.0</td>\n",
       "      <td>1</td>\n",
       "      <td>NaN</td>\n",
       "    </tr>\n",
       "    <tr>\n",
       "      <th>w1_r20_c14</th>\n",
       "      <td>w1_r20_c14</td>\n",
       "      <td>log</td>\n",
       "      <td>factor</td>\n",
       "      <td>99999</td>\n",
       "      <td>0.1</td>\n",
       "      <td>10.0</td>\n",
       "      <td>w1</td>\n",
       "      <td>1.0</td>\n",
       "      <td>0.0</td>\n",
       "      <td>1</td>\n",
       "      <td>NaN</td>\n",
       "    </tr>\n",
       "    <tr>\n",
       "      <th>w1_r26_c10</th>\n",
       "      <td>w1_r26_c10</td>\n",
       "      <td>log</td>\n",
       "      <td>factor</td>\n",
       "      <td>99999</td>\n",
       "      <td>0.1</td>\n",
       "      <td>10.0</td>\n",
       "      <td>w1</td>\n",
       "      <td>1.0</td>\n",
       "      <td>0.0</td>\n",
       "      <td>1</td>\n",
       "      <td>NaN</td>\n",
       "    </tr>\n",
       "    <tr>\n",
       "      <th>w1_r29_c06</th>\n",
       "      <td>w1_r29_c06</td>\n",
       "      <td>log</td>\n",
       "      <td>factor</td>\n",
       "      <td>99999</td>\n",
       "      <td>0.1</td>\n",
       "      <td>10.0</td>\n",
       "      <td>w1</td>\n",
       "      <td>1.0</td>\n",
       "      <td>0.0</td>\n",
       "      <td>1</td>\n",
       "      <td>NaN</td>\n",
       "    </tr>\n",
       "    <tr>\n",
       "      <th>w1_r34_c12</th>\n",
       "      <td>w1_r34_c12</td>\n",
       "      <td>log</td>\n",
       "      <td>factor</td>\n",
       "      <td>99999</td>\n",
       "      <td>0.1</td>\n",
       "      <td>10.0</td>\n",
       "      <td>w1</td>\n",
       "      <td>1.0</td>\n",
       "      <td>0.0</td>\n",
       "      <td>1</td>\n",
       "      <td>NaN</td>\n",
       "    </tr>\n",
       "  </tbody>\n",
       "</table>\n",
       "</div>"
      ],
      "text/plain": [
       "                parnme partrans parchglim  parval1  parlbnd  parubnd pargp  \\\n",
       "parnme                                                                       \n",
       "w1_r11_c13  w1_r11_c13      log    factor    99999      0.1     10.0    w1   \n",
       "w1_r20_c14  w1_r20_c14      log    factor    99999      0.1     10.0    w1   \n",
       "w1_r26_c10  w1_r26_c10      log    factor    99999      0.1     10.0    w1   \n",
       "w1_r29_c06  w1_r29_c06      log    factor    99999      0.1     10.0    w1   \n",
       "w1_r34_c12  w1_r34_c12      log    factor    99999      0.1     10.0    w1   \n",
       "\n",
       "            scale  offset dercom  extra  \n",
       "parnme                                   \n",
       "w1_r11_c13    1.0     0.0      1    NaN  \n",
       "w1_r20_c14    1.0     0.0      1    NaN  \n",
       "w1_r26_c10    1.0     0.0      1    NaN  \n",
       "w1_r29_c06    1.0     0.0      1    NaN  \n",
       "w1_r34_c12    1.0     0.0      1    NaN  "
      ]
     },
     "execution_count": 42,
     "metadata": {},
     "output_type": "execute_result"
    }
   ],
   "source": [
    "#assigning values to all parameter intial values\n",
    "pst.parameter_data['parval1'] = 99999\n",
    "pst.parameter_data.tail()         # ______________ "
   ]
  },
  {
   "cell_type": "code",
   "execution_count": 50,
   "metadata": {},
   "outputs": [
    {
     "name": "stdout",
     "output_type": "stream",
     "text": [
      "noptmax:0, npar_adj:51, nnz_obs:14\n"
     ]
    }
   ],
   "source": [
    "# pst.write(os.path.join(f_d, 'temp.pst'), version=1)         # PEST and PEST_HP\n",
    "pst.write(os.path.join(f_d, \"temp_v2.pst\"), version=2)        # PEST++\n",
    "# [f for f in os.listdir(f_d) if f.endswith('.pst')]"
   ]
  },
  {
   "cell_type": "code",
   "execution_count": 97,
   "metadata": {},
   "outputs": [],
   "source": [
    "tpl_filename = os.path.join(f_d,\"special_pars.dat.tpl\")           # ... and special_pars.dat\n",
    "with open(tpl_filename,'w') as f:\n",
    "    f.write(\"ptf ~\\n\")\n",
    "    f.write(\"special_par1  ~  special_par1   ~\\n\")\n",
    "    f.write(\"special_par2  ~  special_par2   ~\\n\")\n",
    "    # f.write(\"Beta_01_____  ~  Beta_nono_____   ~\\n\")"
   ]
  },
  {
   "cell_type": "code",
   "execution_count": 98,
   "metadata": {},
   "outputs": [
    {
     "name": "stdout",
     "output_type": "stream",
     "text": [
      "0 pars added from template file .\\special_pars.dat.tpl\n"
     ]
    }
   ],
   "source": [
    "pst.add_parameters(tpl_filename, pst_path=\".\")                    # to *.pst ? "
   ]
  },
  {
   "cell_type": "code",
   "execution_count": 99,
   "metadata": {},
   "outputs": [
    {
     "data": {
      "text/html": [
       "<div>\n",
       "<style scoped>\n",
       "    .dataframe tbody tr th:only-of-type {\n",
       "        vertical-align: middle;\n",
       "    }\n",
       "\n",
       "    .dataframe tbody tr th {\n",
       "        vertical-align: top;\n",
       "    }\n",
       "\n",
       "    .dataframe thead th {\n",
       "        text-align: right;\n",
       "    }\n",
       "</style>\n",
       "<table border=\"1\" class=\"dataframe\">\n",
       "  <thead>\n",
       "    <tr style=\"text-align: right;\">\n",
       "      <th></th>\n",
       "      <th>parnme</th>\n",
       "      <th>partrans</th>\n",
       "      <th>parchglim</th>\n",
       "      <th>parval1</th>\n",
       "      <th>parlbnd</th>\n",
       "      <th>parubnd</th>\n",
       "      <th>pargp</th>\n",
       "      <th>scale</th>\n",
       "      <th>offset</th>\n",
       "      <th>dercom</th>\n",
       "      <th>extra</th>\n",
       "      <th>partied</th>\n",
       "    </tr>\n",
       "  </thead>\n",
       "  <tbody>\n",
       "    <tr>\n",
       "      <th>special_par1</th>\n",
       "      <td>special_par1</td>\n",
       "      <td>log</td>\n",
       "      <td>factor</td>\n",
       "      <td>1.0</td>\n",
       "      <td>999999999.0</td>\n",
       "      <td>-30000.0</td>\n",
       "      <td>pargp</td>\n",
       "      <td>1.0</td>\n",
       "      <td>0.0</td>\n",
       "      <td>1</td>\n",
       "      <td>NaN</td>\n",
       "      <td>NaN</td>\n",
       "    </tr>\n",
       "    <tr>\n",
       "      <th>beta_02_____</th>\n",
       "      <td>beta_02_____</td>\n",
       "      <td>log</td>\n",
       "      <td>factor</td>\n",
       "      <td>1.0</td>\n",
       "      <td>999999999.0</td>\n",
       "      <td>-30000.0</td>\n",
       "      <td>pargp</td>\n",
       "      <td>1.0</td>\n",
       "      <td>0.0</td>\n",
       "      <td>1</td>\n",
       "      <td>NaN</td>\n",
       "      <td>NaN</td>\n",
       "    </tr>\n",
       "    <tr>\n",
       "      <th>special_par2</th>\n",
       "      <td>special_par2</td>\n",
       "      <td>tied</td>\n",
       "      <td>factor</td>\n",
       "      <td>1.0</td>\n",
       "      <td>999999999.0</td>\n",
       "      <td>-30000.0</td>\n",
       "      <td>pargp</td>\n",
       "      <td>1.0</td>\n",
       "      <td>0.0</td>\n",
       "      <td>1</td>\n",
       "      <td>NaN</td>\n",
       "      <td>special_par1</td>\n",
       "    </tr>\n",
       "    <tr>\n",
       "      <th>beta_022222222222222222222222_____</th>\n",
       "      <td>beta_022222222222222222222222_____</td>\n",
       "      <td>log</td>\n",
       "      <td>factor</td>\n",
       "      <td>1.0</td>\n",
       "      <td>999999999.0</td>\n",
       "      <td>-30000.0</td>\n",
       "      <td>pargp</td>\n",
       "      <td>1.0</td>\n",
       "      <td>0.0</td>\n",
       "      <td>1</td>\n",
       "      <td>NaN</td>\n",
       "      <td>NaN</td>\n",
       "    </tr>\n",
       "    <tr>\n",
       "      <th>beta_0222222_____</th>\n",
       "      <td>beta_0222222_____</td>\n",
       "      <td>log</td>\n",
       "      <td>factor</td>\n",
       "      <td>1.0</td>\n",
       "      <td>999999999.0</td>\n",
       "      <td>-30000.0</td>\n",
       "      <td>pargp</td>\n",
       "      <td>1.0</td>\n",
       "      <td>0.0</td>\n",
       "      <td>1</td>\n",
       "      <td>NaN</td>\n",
       "      <td>NaN</td>\n",
       "    </tr>\n",
       "    <tr>\n",
       "      <th>beta_nono_____</th>\n",
       "      <td>beta_nono_____</td>\n",
       "      <td>log</td>\n",
       "      <td>factor</td>\n",
       "      <td>1.0</td>\n",
       "      <td>999999999.0</td>\n",
       "      <td>-30000.0</td>\n",
       "      <td>pargp</td>\n",
       "      <td>1.0</td>\n",
       "      <td>0.0</td>\n",
       "      <td>1</td>\n",
       "      <td>NaN</td>\n",
       "      <td>NaN</td>\n",
       "    </tr>\n",
       "  </tbody>\n",
       "</table>\n",
       "</div>"
      ],
      "text/plain": [
       "                                                                parnme  \\\n",
       "special_par1                                              special_par1   \n",
       "beta_02_____                                              beta_02_____   \n",
       "special_par2                                              special_par2   \n",
       "beta_022222222222222222222222_____  beta_022222222222222222222222_____   \n",
       "beta_0222222_____                                    beta_0222222_____   \n",
       "beta_nono_____                                          beta_nono_____   \n",
       "\n",
       "                                   partrans parchglim  parval1      parlbnd  \\\n",
       "special_par1                            log    factor      1.0  999999999.0   \n",
       "beta_02_____                            log    factor      1.0  999999999.0   \n",
       "special_par2                           tied    factor      1.0  999999999.0   \n",
       "beta_022222222222222222222222_____      log    factor      1.0  999999999.0   \n",
       "beta_0222222_____                       log    factor      1.0  999999999.0   \n",
       "beta_nono_____                          log    factor      1.0  999999999.0   \n",
       "\n",
       "                                    parubnd  pargp  scale  offset dercom  \\\n",
       "special_par1                       -30000.0  pargp    1.0     0.0      1   \n",
       "beta_02_____                       -30000.0  pargp    1.0     0.0      1   \n",
       "special_par2                       -30000.0  pargp    1.0     0.0      1   \n",
       "beta_022222222222222222222222_____ -30000.0  pargp    1.0     0.0      1   \n",
       "beta_0222222_____                  -30000.0  pargp    1.0     0.0      1   \n",
       "beta_nono_____                     -30000.0  pargp    1.0     0.0      1   \n",
       "\n",
       "                                    extra       partied  \n",
       "special_par1                          NaN           NaN  \n",
       "beta_02_____                          NaN           NaN  \n",
       "special_par2                          NaN  special_par1  \n",
       "beta_022222222222222222222222_____    NaN           NaN  \n",
       "beta_0222222_____                     NaN           NaN  \n",
       "beta_nono_____                        NaN           NaN  "
      ]
     },
     "execution_count": 99,
     "metadata": {},
     "output_type": "execute_result"
    }
   ],
   "source": [
    "par = pst.parameter_data\n",
    "par.loc[par['pargp'] == 'pargp', ['parlbnd', 'parubnd']] = 999999999, -30000            # Beta___persists (!)\n",
    "par.loc[par['pargp'] == 'pargp']"
   ]
  },
  {
   "cell_type": "code",
   "execution_count": 71,
   "metadata": {},
   "outputs": [
    {
     "data": {
      "text/html": [
       "<div>\n",
       "<style scoped>\n",
       "    .dataframe tbody tr th:only-of-type {\n",
       "        vertical-align: middle;\n",
       "    }\n",
       "\n",
       "    .dataframe tbody tr th {\n",
       "        vertical-align: top;\n",
       "    }\n",
       "\n",
       "    .dataframe thead th {\n",
       "        text-align: right;\n",
       "    }\n",
       "</style>\n",
       "<table border=\"1\" class=\"dataframe\">\n",
       "  <thead>\n",
       "    <tr style=\"text-align: right;\">\n",
       "      <th></th>\n",
       "      <th>partrans</th>\n",
       "      <th>partied</th>\n",
       "    </tr>\n",
       "  </thead>\n",
       "  <tbody>\n",
       "    <tr>\n",
       "      <th>special_par1</th>\n",
       "      <td>log</td>\n",
       "      <td>NaN</td>\n",
       "    </tr>\n",
       "    <tr>\n",
       "      <th>beta_02_____</th>\n",
       "      <td>log</td>\n",
       "      <td>NaN</td>\n",
       "    </tr>\n",
       "    <tr>\n",
       "      <th>special_par2</th>\n",
       "      <td>tied</td>\n",
       "      <td>special_par1</td>\n",
       "    </tr>\n",
       "    <tr>\n",
       "      <th>beta_022222222222222222222222_____</th>\n",
       "      <td>log</td>\n",
       "      <td>NaN</td>\n",
       "    </tr>\n",
       "    <tr>\n",
       "      <th>beta_0222222_____</th>\n",
       "      <td>log</td>\n",
       "      <td>NaN</td>\n",
       "    </tr>\n",
       "    <tr>\n",
       "      <th>beta_nono_____</th>\n",
       "      <td>log</td>\n",
       "      <td>NaN</td>\n",
       "    </tr>\n",
       "  </tbody>\n",
       "</table>\n",
       "</div>"
      ],
      "text/plain": [
       "                                   partrans       partied\n",
       "special_par1                            log           NaN\n",
       "beta_02_____                            log           NaN\n",
       "special_par2                           tied  special_par1\n",
       "beta_022222222222222222222222_____      log           NaN\n",
       "beta_0222222_____                       log           NaN\n",
       "beta_nono_____                          log           NaN"
      ]
     },
     "execution_count": 71,
     "metadata": {},
     "output_type": "execute_result"
    }
   ],
   "source": [
    "par.loc['special_par2', 'partrans'] = 'tied'                \n",
    "par.loc['special_par2', 'partied'] = 'special_par1'         # New column named and tied parameter \n",
    "par.loc[par['pargp'] == 'pargp', ['partrans', 'partied']]"
   ]
  },
  {
   "cell_type": "code",
   "execution_count": 96,
   "metadata": {},
   "outputs": [],
   "source": [
    "# pst.nnz_obs_groups                 # nnz non-zero         OBS\n",
    "# pst.nnz_obs, pst.npar_adj          #                      OBS PAR \n",
    "# pst.adj_par_groups[:15]            # adjustble                PAR  group names  \n",
    "# pst.write_par_summary_table()\n",
    "# pst.write_obs_summary_table()        # *.tex ?"
   ]
  },
  {
   "cell_type": "markdown",
   "metadata": {},
   "source": [
    "#### Phi and residuals"
   ]
  },
  {
   "cell_type": "code",
   "execution_count": 79,
   "metadata": {},
   "outputs": [
    {
     "data": {
      "text/html": [
       "<div>\n",
       "<style scoped>\n",
       "    .dataframe tbody tr th:only-of-type {\n",
       "        vertical-align: middle;\n",
       "    }\n",
       "\n",
       "    .dataframe tbody tr th {\n",
       "        vertical-align: top;\n",
       "    }\n",
       "\n",
       "    .dataframe thead th {\n",
       "        text-align: right;\n",
       "    }\n",
       "</style>\n",
       "<table border=\"1\" class=\"dataframe\">\n",
       "  <thead>\n",
       "    <tr style=\"text-align: right;\">\n",
       "      <th></th>\n",
       "      <th>name</th>\n",
       "      <th>group</th>\n",
       "      <th>measured</th>\n",
       "      <th>modelled</th>\n",
       "      <th>residual</th>\n",
       "      <th>weight</th>\n",
       "    </tr>\n",
       "    <tr>\n",
       "      <th>name</th>\n",
       "      <th></th>\n",
       "      <th></th>\n",
       "      <th></th>\n",
       "      <th></th>\n",
       "      <th></th>\n",
       "      <th></th>\n",
       "    </tr>\n",
       "  </thead>\n",
       "  <tbody>\n",
       "    <tr>\n",
       "      <th>c001cr03c10_19700102</th>\n",
       "      <td>c001cr03c10_19700102</td>\n",
       "      <td>calhead</td>\n",
       "      <td>26.661526</td>\n",
       "      <td>28.013775</td>\n",
       "      <td>-1.352249</td>\n",
       "      <td>5.0</td>\n",
       "    </tr>\n",
       "    <tr>\n",
       "      <th>c001cr03c16_19700102</th>\n",
       "      <td>c001cr03c16_19700102</td>\n",
       "      <td>calhead</td>\n",
       "      <td>23.460564</td>\n",
       "      <td>24.444290</td>\n",
       "      <td>-0.983726</td>\n",
       "      <td>5.0</td>\n",
       "    </tr>\n",
       "    <tr>\n",
       "      <th>c001cr04c09_19700102</th>\n",
       "      <td>c001cr04c09_19700102</td>\n",
       "      <td>calhead</td>\n",
       "      <td>28.513522</td>\n",
       "      <td>28.513071</td>\n",
       "      <td>0.000451</td>\n",
       "      <td>5.0</td>\n",
       "    </tr>\n",
       "    <tr>\n",
       "      <th>c001cr10c02_19700102</th>\n",
       "      <td>c001cr10c02_19700102</td>\n",
       "      <td>calhead</td>\n",
       "      <td>30.741689</td>\n",
       "      <td>31.881250</td>\n",
       "      <td>-1.139561</td>\n",
       "      <td>5.0</td>\n",
       "    </tr>\n",
       "    <tr>\n",
       "      <th>c001cr14c11_19700102</th>\n",
       "      <td>c001cr14c11_19700102</td>\n",
       "      <td>calhead</td>\n",
       "      <td>25.871208</td>\n",
       "      <td>25.444475</td>\n",
       "      <td>0.426733</td>\n",
       "      <td>5.0</td>\n",
       "    </tr>\n",
       "  </tbody>\n",
       "</table>\n",
       "</div>"
      ],
      "text/plain": [
       "                                      name    group   measured   modelled  \\\n",
       "name                                                                        \n",
       "c001cr03c10_19700102  c001cr03c10_19700102  calhead  26.661526  28.013775   \n",
       "c001cr03c16_19700102  c001cr03c16_19700102  calhead  23.460564  24.444290   \n",
       "c001cr04c09_19700102  c001cr04c09_19700102  calhead  28.513522  28.513071   \n",
       "c001cr10c02_19700102  c001cr10c02_19700102  calhead  30.741689  31.881250   \n",
       "c001cr14c11_19700102  c001cr14c11_19700102  calhead  25.871208  25.444475   \n",
       "\n",
       "                      residual  weight  \n",
       "name                                    \n",
       "c001cr03c10_19700102 -1.352249     5.0  \n",
       "c001cr03c16_19700102 -0.983726     5.0  \n",
       "c001cr04c09_19700102  0.000451     5.0  \n",
       "c001cr10c02_19700102 -1.139561     5.0  \n",
       "c001cr14c11_19700102  0.426733     5.0  "
      ]
     },
     "execution_count": 79,
     "metadata": {},
     "output_type": "execute_result"
    }
   ],
   "source": [
    "pst.res.head()         # *.rei"
   ]
  },
  {
   "cell_type": "code",
   "execution_count": 86,
   "metadata": {},
   "outputs": [],
   "source": [
    "# pst.res.plot.scatter('measured', 'modelled')                # MED x MOD\n",
    "# pst.res.iloc[:300].loc[:, 'residual'].plot(kind='bar')       # REI"
   ]
  },
  {
   "cell_type": "code",
   "execution_count": 95,
   "metadata": {},
   "outputs": [],
   "source": [
    "# pst.plot(kind='1to1');       # 1to1 = each observationg group with non-zero weighted observations\n",
    "# pst.phi                      # weighted sum of square residuals \n",
    "# ___________________________\n",
    "# pst.phi_components \n",
    "# pst.plot(kind=\"phi_pie\");\n",
    "# ___________________________\n",
    "# obs = pst.observation_data\n",
    "# obs['weight'] = 1.0                 # change all observation weights\n",
    "# pst.phi_components "
   ]
  },
  {
   "cell_type": "markdown",
   "metadata": {},
   "source": [
    "### Weights _____ `Pst.adjust_weights()` = `PWTADJ1`\n",
    "\n",
    "- **history-matching**, observation weights assigned to reflect observation uncertainty, and  equal \"visibility\" ...\n",
    "- **generating an observation ensemble**, weights should reflect the inverse of the standard deviation of measurement noise ...\n",
    "- when history-matching with `pestpp-ies` and using weights that **do not** reflect observation uncertainty, it is important to provide `pestpp-ies` with a previously prepared observation ensemble (we will demonstrate this further on)."
   ]
  },
  {
   "cell_type": "code",
   "execution_count": 102,
   "metadata": {},
   "outputs": [],
   "source": [
    "# pst.phi_components"
   ]
  },
  {
   "cell_type": "code",
   "execution_count": 107,
   "metadata": {},
   "outputs": [],
   "source": [
    "balanced_groups = {grp:100 for grp in pst.nnz_obs_groups}\n",
    "# balanced_groups                                                 # take a look supressing ´#´\n",
    "pst.adjust_weights(obsgrp_dict=balanced_groups,)\n",
    "# pst.phi_components                                              # see\n",
    "# pst.plot(kind=\"phi_pie\");"
   ]
  },
  {
   "cell_type": "markdown",
   "metadata": {},
   "source": [
    "### Discrepancy based weight adjustment ___ `Pst.adjust_weights_discrepancy()` = ` PWTADJ2` ___ u pothead\n",
    "\n",
    "- Objective function = nº observations. This really matters when we do posterior uncertainty analyses (FOSM) \n",
    "- ... after history matching! The point is for weights to represent both measurement error **and** model error.*"
   ]
  },
  {
   "cell_type": "code",
   "execution_count": 118,
   "metadata": {},
   "outputs": [
    {
     "data": {
      "text/plain": [
       "(np.float64(211.53558969631908), 1013)"
      ]
     },
     "execution_count": 118,
     "metadata": {},
     "output_type": "execute_result"
    }
   ],
   "source": [
    "pst.phi, pst.nnz_obs            # current phi and nº of non-zero observations   # pst.par_groups (?)"
   ]
  },
  {
   "cell_type": "code",
   "execution_count": 119,
   "metadata": {},
   "outputs": [
    {
     "data": {
      "text/plain": [
       "np.float64(211.53558969631908)"
      ]
     },
     "execution_count": 119,
     "metadata": {},
     "output_type": "execute_result"
    }
   ],
   "source": [
    "pst.adjust_weights_discrepancy(original_ceiling=True)       # default _________ #  true  \n",
    "pst.phi"
   ]
  },
  {
   "cell_type": "code",
   "execution_count": 120,
   "metadata": {},
   "outputs": [
    {
     "data": {
      "text/html": [
       "<div>\n",
       "<style scoped>\n",
       "    .dataframe tbody tr th:only-of-type {\n",
       "        vertical-align: middle;\n",
       "    }\n",
       "\n",
       "    .dataframe tbody tr th {\n",
       "        vertical-align: top;\n",
       "    }\n",
       "\n",
       "    .dataframe thead th {\n",
       "        text-align: right;\n",
       "    }\n",
       "</style>\n",
       "<table border=\"1\" class=\"dataframe\">\n",
       "  <thead>\n",
       "    <tr style=\"text-align: right;\">\n",
       "      <th></th>\n",
       "      <th>group</th>\n",
       "      <th>value</th>\n",
       "      <th>non-zero weight</th>\n",
       "      <th>zero weight</th>\n",
       "      <th>weight</th>\n",
       "      <th>standard deviation</th>\n",
       "      <th>percent error</th>\n",
       "    </tr>\n",
       "  </thead>\n",
       "  <tbody>\n",
       "    <tr>\n",
       "      <th>calflux</th>\n",
       "      <td>calflux</td>\n",
       "      <td>3242.6</td>\n",
       "      <td>1</td>\n",
       "      <td>0</td>\n",
       "      <td>0.0617284</td>\n",
       "      <td>16.2</td>\n",
       "      <td>0.499599</td>\n",
       "    </tr>\n",
       "    <tr>\n",
       "      <th>calhead</th>\n",
       "      <td>calhead</td>\n",
       "      <td>15.7487 to 30.7417</td>\n",
       "      <td>13</td>\n",
       "      <td>0</td>\n",
       "      <td>0.470008 to 2.46362</td>\n",
       "      <td>0.405907 to 2.12762</td>\n",
       "      <td>1.42356 to 12.606</td>\n",
       "    </tr>\n",
       "    <tr>\n",
       "      <th>flaqx</th>\n",
       "      <td>flaqx</td>\n",
       "      <td>-895.43 to 252.98</td>\n",
       "      <td>122</td>\n",
       "      <td>0</td>\n",
       "      <td>0.00124339 to 0.00738424</td>\n",
       "      <td>135.424 to 804.251</td>\n",
       "      <td>31.6366 to 23744.4</td>\n",
       "    </tr>\n",
       "    <tr>\n",
       "      <th>flout</th>\n",
       "      <td>flout</td>\n",
       "      <td>0 to 7229.3</td>\n",
       "      <td>122</td>\n",
       "      <td>0</td>\n",
       "      <td>0.000130634 to 0.000710888</td>\n",
       "      <td>1406.69 to  7655</td>\n",
       "      <td>43.3816 to 2.20495E+06</td>\n",
       "    </tr>\n",
       "    <tr>\n",
       "      <th>flx_constan</th>\n",
       "      <td>flx_constan</td>\n",
       "      <td>-860.052 to -490.431</td>\n",
       "      <td>3</td>\n",
       "      <td>0</td>\n",
       "      <td>0.00158795 to 0.00307546</td>\n",
       "      <td>325.155 to 629.742</td>\n",
       "      <td>37.8064 to 128.406</td>\n",
       "    </tr>\n",
       "    <tr>\n",
       "      <th>flx_in-out</th>\n",
       "      <td>flx_in-out</td>\n",
       "      <td>-2.9966 to 1.3086</td>\n",
       "      <td>3</td>\n",
       "      <td>0</td>\n",
       "      <td>0.0235489 to 0.229922</td>\n",
       "      <td>4.3493 to 42.4648</td>\n",
       "      <td>694.437 to 22268.7</td>\n",
       "    </tr>\n",
       "    <tr>\n",
       "      <th>flx_percent</th>\n",
       "      <td>flx_percent</td>\n",
       "      <td>-0.05 to  0.02</td>\n",
       "      <td>3</td>\n",
       "      <td>0</td>\n",
       "      <td>1.63934 to 16.0005</td>\n",
       "      <td>0.062498 to  0.61</td>\n",
       "      <td>650 to  1220</td>\n",
       "    </tr>\n",
       "    <tr>\n",
       "      <th>flx_recharg</th>\n",
       "      <td>flx_recharg</td>\n",
       "      <td>3475 to 6004.8</td>\n",
       "      <td>3</td>\n",
       "      <td>0</td>\n",
       "      <td>0.000383693 to 0.00270017</td>\n",
       "      <td>370.347 to 2606.25</td>\n",
       "      <td>6.16751 to    75</td>\n",
       "    </tr>\n",
       "    <tr>\n",
       "      <th>flx_storage</th>\n",
       "      <td>flx_storage</td>\n",
       "      <td>0 to 1578.27</td>\n",
       "      <td>3</td>\n",
       "      <td>0</td>\n",
       "      <td>0.000747267 to 0.00747267</td>\n",
       "      <td>133.821 to 1338.21</td>\n",
       "      <td>84.7895</td>\n",
       "    </tr>\n",
       "    <tr>\n",
       "      <th>flx_stream_</th>\n",
       "      <td>flx_stream_</td>\n",
       "      <td>-3242.62 to -603.149</td>\n",
       "      <td>3</td>\n",
       "      <td>0</td>\n",
       "      <td>0.00050656 to 0.00465919</td>\n",
       "      <td>214.629 to 1974.1</td>\n",
       "      <td>6.61901 to 327.299</td>\n",
       "    </tr>\n",
       "    <tr>\n",
       "      <th>flx_total</th>\n",
       "      <td>flx_total</td>\n",
       "      <td>-2.99658 to 1.30859</td>\n",
       "      <td>3</td>\n",
       "      <td>0</td>\n",
       "      <td>0.0235489 to 0.229922</td>\n",
       "      <td>4.3493 to 42.4648</td>\n",
       "      <td>694.44 to 22268.4</td>\n",
       "    </tr>\n",
       "    <tr>\n",
       "      <th>flx_wells</th>\n",
       "      <td>flx_wells</td>\n",
       "      <td>-2381.4 to -1905.12</td>\n",
       "      <td>3</td>\n",
       "      <td>0</td>\n",
       "      <td>0.0105396 to 0.105396</td>\n",
       "      <td>9.488 to 94.88</td>\n",
       "      <td>0.398421 to 4.98026</td>\n",
       "    </tr>\n",
       "    <tr>\n",
       "      <th>forecast</th>\n",
       "      <td>forecast</td>\n",
       "      <td>-242.577 to 26272.5</td>\n",
       "      <td>4</td>\n",
       "      <td>0</td>\n",
       "      <td>0.000168483 to 0.00167483</td>\n",
       "      <td>597.077 to 5935.3</td>\n",
       "      <td>22.5913 to 2761.95</td>\n",
       "    </tr>\n",
       "    <tr>\n",
       "      <th>pothead</th>\n",
       "      <td>pothead</td>\n",
       "      <td>11.4 to 31.6052</td>\n",
       "      <td>703</td>\n",
       "      <td>0</td>\n",
       "      <td>0.544368 to 0.549369</td>\n",
       "      <td>1.82027 to 1.83699</td>\n",
       "      <td>5.7594 to 15.9673</td>\n",
       "    </tr>\n",
       "    <tr>\n",
       "      <th>vol_constan</th>\n",
       "      <td>vol_constan</td>\n",
       "      <td>-2.70556E+06 to -860.052</td>\n",
       "      <td>3</td>\n",
       "      <td>0</td>\n",
       "      <td>6.56938E-07 to 4.64621E-06</td>\n",
       "      <td>215229 to 1.52221E+06</td>\n",
       "      <td>56.2494 to 25025.1</td>\n",
       "    </tr>\n",
       "    <tr>\n",
       "      <th>vol_in-out</th>\n",
       "      <td>vol_in-out</td>\n",
       "      <td>-2.9966 to  4774</td>\n",
       "      <td>3</td>\n",
       "      <td>0</td>\n",
       "      <td>3.01859E-05 to 0.00021346</td>\n",
       "      <td>4684.73 to 33128</td>\n",
       "      <td>693.842 to 156335</td>\n",
       "    </tr>\n",
       "    <tr>\n",
       "      <th>vol_percent</th>\n",
       "      <td>vol_percent</td>\n",
       "      <td>-0.05 to  0.02</td>\n",
       "      <td>3</td>\n",
       "      <td>0</td>\n",
       "      <td>1.63934 to 7.69231</td>\n",
       "      <td>0.13 to  0.61</td>\n",
       "      <td>650 to  1220</td>\n",
       "    </tr>\n",
       "    <tr>\n",
       "      <th>vol_recharg</th>\n",
       "      <td>vol_recharg</td>\n",
       "      <td>6004.8 to 1.26932E+07</td>\n",
       "      <td>3</td>\n",
       "      <td>0</td>\n",
       "      <td>1.05089E-07 to 7.4319E-07</td>\n",
       "      <td>1.34555E+06 to 9.51578E+06</td>\n",
       "      <td>74.9673 to 22407.9</td>\n",
       "    </tr>\n",
       "    <tr>\n",
       "      <th>vol_storage</th>\n",
       "      <td>vol_storage</td>\n",
       "      <td>0 to 5.7607E+06</td>\n",
       "      <td>3</td>\n",
       "      <td>0</td>\n",
       "      <td>2.04731E-07 to 1.44766E-06</td>\n",
       "      <td>690768 to 4.88447E+06</td>\n",
       "      <td>84.7895</td>\n",
       "    </tr>\n",
       "    <tr>\n",
       "      <th>vol_stream_</th>\n",
       "      <td>vol_stream_</td>\n",
       "      <td>-7.0472E+06 to -3242.62</td>\n",
       "      <td>3</td>\n",
       "      <td>0</td>\n",
       "      <td>3.25111E-07 to 2.29962E-06</td>\n",
       "      <td>434855 to 3.07588E+06</td>\n",
       "      <td>43.6225 to 13410.6</td>\n",
       "    </tr>\n",
       "    <tr>\n",
       "      <th>vol_total</th>\n",
       "      <td>vol_total</td>\n",
       "      <td>-2.99658 to  4774</td>\n",
       "      <td>3</td>\n",
       "      <td>0</td>\n",
       "      <td>3.01859E-05 to 0.00021346</td>\n",
       "      <td>4684.73 to 33128</td>\n",
       "      <td>693.842 to 156336</td>\n",
       "    </tr>\n",
       "    <tr>\n",
       "      <th>vol_wells</th>\n",
       "      <td>vol_wells</td>\n",
       "      <td>-8.6964E+06 to -1905.12</td>\n",
       "      <td>3</td>\n",
       "      <td>0</td>\n",
       "      <td>0.0105263 to 0.0105396</td>\n",
       "      <td>94.88 to    95</td>\n",
       "      <td>0.00109241 to 4.98026</td>\n",
       "    </tr>\n",
       "  </tbody>\n",
       "</table>\n",
       "</div>"
      ],
      "text/plain": [
       "                   group                     value  non-zero weight  \\\n",
       "calflux          calflux                    3242.6                1   \n",
       "calhead          calhead        15.7487 to 30.7417               13   \n",
       "flaqx              flaqx         -895.43 to 252.98              122   \n",
       "flout              flout               0 to 7229.3              122   \n",
       "flx_constan  flx_constan      -860.052 to -490.431                3   \n",
       "flx_in-out    flx_in-out         -2.9966 to 1.3086                3   \n",
       "flx_percent  flx_percent            -0.05 to  0.02                3   \n",
       "flx_recharg  flx_recharg            3475 to 6004.8                3   \n",
       "flx_storage  flx_storage              0 to 1578.27                3   \n",
       "flx_stream_  flx_stream_      -3242.62 to -603.149                3   \n",
       "flx_total      flx_total       -2.99658 to 1.30859                3   \n",
       "flx_wells      flx_wells       -2381.4 to -1905.12                3   \n",
       "forecast        forecast       -242.577 to 26272.5                4   \n",
       "pothead          pothead           11.4 to 31.6052              703   \n",
       "vol_constan  vol_constan  -2.70556E+06 to -860.052                3   \n",
       "vol_in-out    vol_in-out          -2.9966 to  4774                3   \n",
       "vol_percent  vol_percent            -0.05 to  0.02                3   \n",
       "vol_recharg  vol_recharg     6004.8 to 1.26932E+07                3   \n",
       "vol_storage  vol_storage           0 to 5.7607E+06                3   \n",
       "vol_stream_  vol_stream_   -7.0472E+06 to -3242.62                3   \n",
       "vol_total      vol_total         -2.99658 to  4774                3   \n",
       "vol_wells      vol_wells   -8.6964E+06 to -1905.12                3   \n",
       "\n",
       "             zero weight                      weight  \\\n",
       "calflux                0                   0.0617284   \n",
       "calhead                0         0.470008 to 2.46362   \n",
       "flaqx                  0    0.00124339 to 0.00738424   \n",
       "flout                  0  0.000130634 to 0.000710888   \n",
       "flx_constan            0    0.00158795 to 0.00307546   \n",
       "flx_in-out             0       0.0235489 to 0.229922   \n",
       "flx_percent            0          1.63934 to 16.0005   \n",
       "flx_recharg            0   0.000383693 to 0.00270017   \n",
       "flx_storage            0   0.000747267 to 0.00747267   \n",
       "flx_stream_            0    0.00050656 to 0.00465919   \n",
       "flx_total              0       0.0235489 to 0.229922   \n",
       "flx_wells              0       0.0105396 to 0.105396   \n",
       "forecast               0   0.000168483 to 0.00167483   \n",
       "pothead                0        0.544368 to 0.549369   \n",
       "vol_constan            0  6.56938E-07 to 4.64621E-06   \n",
       "vol_in-out             0   3.01859E-05 to 0.00021346   \n",
       "vol_percent            0          1.63934 to 7.69231   \n",
       "vol_recharg            0   1.05089E-07 to 7.4319E-07   \n",
       "vol_storage            0  2.04731E-07 to 1.44766E-06   \n",
       "vol_stream_            0  3.25111E-07 to 2.29962E-06   \n",
       "vol_total              0   3.01859E-05 to 0.00021346   \n",
       "vol_wells              0      0.0105263 to 0.0105396   \n",
       "\n",
       "                     standard deviation           percent error  \n",
       "calflux                            16.2                0.499599  \n",
       "calhead             0.405907 to 2.12762       1.42356 to 12.606  \n",
       "flaqx                135.424 to 804.251      31.6366 to 23744.4  \n",
       "flout                  1406.69 to  7655  43.3816 to 2.20495E+06  \n",
       "flx_constan          325.155 to 629.742      37.8064 to 128.406  \n",
       "flx_in-out            4.3493 to 42.4648      694.437 to 22268.7  \n",
       "flx_percent           0.062498 to  0.61            650 to  1220  \n",
       "flx_recharg          370.347 to 2606.25        6.16751 to    75  \n",
       "flx_storage          133.821 to 1338.21                 84.7895  \n",
       "flx_stream_           214.629 to 1974.1      6.61901 to 327.299  \n",
       "flx_total             4.3493 to 42.4648       694.44 to 22268.4  \n",
       "flx_wells                9.488 to 94.88     0.398421 to 4.98026  \n",
       "forecast              597.077 to 5935.3      22.5913 to 2761.95  \n",
       "pothead              1.82027 to 1.83699       5.7594 to 15.9673  \n",
       "vol_constan       215229 to 1.52221E+06      56.2494 to 25025.1  \n",
       "vol_in-out             4684.73 to 33128       693.842 to 156335  \n",
       "vol_percent               0.13 to  0.61            650 to  1220  \n",
       "vol_recharg  1.34555E+06 to 9.51578E+06      74.9673 to 22407.9  \n",
       "vol_storage       690768 to 4.88447E+06                 84.7895  \n",
       "vol_stream_       434855 to 3.07588E+06      43.6225 to 13410.6  \n",
       "vol_total              4684.73 to 33128       693.842 to 156336  \n",
       "vol_wells                94.88 to    95   0.00109241 to 4.98026  "
      ]
     },
     "execution_count": 120,
     "metadata": {},
     "output_type": "execute_result"
    }
   ],
   "source": [
    "pst.write_obs_summary_table()      # expecting Phi to be equal to ____ nnz_obs ____ (number of non zero observations)"
   ]
  },
  {
   "cell_type": "markdown",
   "metadata": {},
   "source": [
    "## Geostatistics = PPCOV"
   ]
  },
  {
   "cell_type": "code",
   "execution_count": 124,
   "metadata": {},
   "outputs": [],
   "source": [
    "v = pyemu.geostats.ExpVario(contribution=1.0,           # exponential spherical\n",
    "                                    a=1000, \n",
    "                                    anisotropy=1.0, \n",
    "                                    bearing=0.0 )"
   ]
  },
  {
   "cell_type": "code",
   "execution_count": 125,
   "metadata": {},
   "outputs": [],
   "source": [
    "v2 = pyemu.geostats.SphVario(contribution=1.0,          # sill\n",
    "                                    a=500,              # range of correlation\n",
    "                                    anisotropy=1.5,     # name says it all\n",
    "                                    bearing=45.0,       # angle in degrees East of North corresponding to anisotropy ellipse\n",
    "                                    name='var2')        # optional name"
   ]
  },
  {
   "cell_type": "code",
   "execution_count": 126,
   "metadata": {},
   "outputs": [
    {
     "data": {
      "text/plain": [
       "<Axes: xlabel='distance', ylabel='$\\\\gamma$'>"
      ]
     },
     "execution_count": 126,
     "metadata": {},
     "output_type": "execute_result"
    },
    {
     "data": {
      "image/png": "[encoded data removed]",
      "text/plain": [
       "<Figure size 640x480 with 1 Axes>"
      ]
     },
     "metadata": {},
     "output_type": "display_data"
    }
   ],
   "source": [
    "gs = pyemu.geostats.GeoStruct(variograms=[v2], transform='log') \n",
    "gs.plot()"
   ]
  },
  {
   "cell_type": "markdown",
   "metadata": {},
   "source": [
    "Using the geostatistical structure (or a variogram), a covariance matrix describing the statistical relationship between spatially distributed parameters can be constructed. These covariance matrices are used (1) to describe prior parameter probability distributions, and (2) specifying the weights of prior information equations as a regularisation device. \n",
    "\n",
    "For example, let's create a covariance matrix for a set of pilot point parameters from the `gs` structure. This requires a list of X and Y coordinates. Let's make use of the coordinates from a pilot points file in the `f_d` folder.\n",
    "\n",
    "First, read the pilot points file to get X and Y values:"
   ]
  },
  {
   "cell_type": "code",
   "execution_count": null,
   "metadata": {},
   "outputs": [],
   "source": [
    "df = pyemu.pp_utils.pp_tpl_to_dataframe(os.path.join(f_d,\"hkpp.dat.tpl\"))\n",
    "df.head()"
   ]
  },
  {
   "cell_type": "markdown",
   "metadata": {},
   "source": [
    "Now simply pass the respective values from the pilot points file as arguments to `gs.covariance_matrix()`. Conveniently, we can also take the parameter names from the pilot point file. This returns a `pyemu.Cov` object (which we will discuss later). The same can be accomplished with a single variogram (e.g. `v.covariance_matrix()`)"
   ]
  },
  {
   "cell_type": "code",
   "execution_count": null,
   "metadata": {},
   "outputs": [],
   "source": [
    "cov = gs.covariance_matrix(x=df.x, y=df.y, names=df.parnme)"
   ]
  },
  {
   "cell_type": "code",
   "execution_count": null,
   "metadata": {},
   "outputs": [],
   "source": [
    "# just for a bit of eye-candy; bright yellow indicates higher covariance.\n",
    "c = plt.imshow(cov.x)\n",
    "plt.colorbar(c)"
   ]
  },
  {
   "cell_type": "markdown",
   "metadata": {},
   "source": [
    "We can do the same thing for a 1-D sequence (think time-series), to get a covariance matrix for parameters distributed in time:"
   ]
  },
  {
   "cell_type": "code",
   "execution_count": null,
   "metadata": {},
   "outputs": [],
   "source": [
    "# let's make up a time-series\n",
    "times = np.arange(0,365,1) # this is the \"X\" coordinate\n",
    "y = np.ones_like(times)    # this is the \"Y\" coordinate\n",
    "names = [\"t_\"+str(t) for t in times] # 'parameter\" names\n",
    "\n",
    "# make the variogram\n",
    "exp_vario = pyemu.geostats.ExpVario(contribution=1.0,\n",
    "                                    a=5 #range in time units (e.g. days)\n",
    "                                    )\n",
    "cov_t = exp_vario.covariance_matrix(times,y,names)\n",
    "plt.imshow(cov_t.x)"
   ]
  },
  {
   "cell_type": "markdown",
   "metadata": {},
   "source": [
    "## Prior Information Equations\n",
    "\n",
    "The mathematical term for the process through which a unique solution is sought for a nonunique\n",
    "inverse problem is “regularisation”. The goal of regularised inversion is to seek a unique parameter\n",
    "field that results in a suitable fit between model outputs and field measurements, whilst minimizing\n",
    "the potential for wrongness in model predictions. That is, out of all the ways to fit a calibration dataset, regularized inversion seeks the parameter set of minimum error variance. (*Regularisation is discussed in greater detail in a separate notebook.*)\n",
    "\n",
    "One way to seek a parameter field of minimum error variance is to seek a parameter field that allows\n",
    "the model to fit the calibration dataset, but whose values are also as close as possible to a set of\n",
    "“preferred parameter values”. Ideally, preferred parameter values should also be initial parameter\n",
    "values as listed in the “parameter data” section of the PEST control file. These preferred parameter\n",
    "values are normally close to the centre of the prior parameter probability distribution. At the same\n",
    "time, scales and patterns of departures from the preferred parameter set that are required for model\n",
    "outputs to fit a calibration dataset should be achieved in ways that make “geological sense”.\n",
    "\n",
    "PEST provides a user with a great deal of flexibility in how Tikhonov constraints can be introduced to\n",
    "an inversion process. The easiest way is to do this is through the use of prior information equations.\n",
    "When prior information equations are employed, Tikhonov constraints are expressed through\n",
    "preferred values that are assigned to linear relationships between parameters. (Equality is the simplest type of linear relationship.) Weights must be assigned to these equations. As is described in PEST documentation, when PEST is run in “regularisation” mode, it makes internal adjustments to the weights that are assigned to any observations or prior information equations that belong to special observation groups that are referred to as “regularisation groups”.\n",
    "\n",
    "*Note: in a similar manner, the PEST-utilities ADDREG1 and ADDREG2 also automate the addition of prior information equations to a PEST-control file.*"
   ]
  },
  {
   "cell_type": "markdown",
   "metadata": {},
   "source": [
    "### Preferred value or Zero Order Tikhonov\n",
    "\n",
    "`pyemu` provides utilities to apply preferred value prior equations to a PEST control file. Note though, pyemu doesn't call it \"preferred value\"! Rather, it uses the mathematical term \"Zero Order Tikhonov\".\n",
    "\n",
    "Before we do so, we can inspect the control file `* prior information` section. As you may have guessed, this is accessed using the `pst.prior_information` attribute, which returns a `DataFrame`:\n"
   ]
  },
  {
   "cell_type": "code",
   "execution_count": null,
   "metadata": {},
   "outputs": [],
   "source": [
    "pst.prior_information.head()"
   ]
  },
  {
   "cell_type": "code",
   "execution_count": null,
   "metadata": {},
   "outputs": [],
   "source": [
    "# use pyemu to apply preferred value (aka zero order Tikhonov) to all adjustable parameter groups\n",
    "pyemu.helpers.zero_order_tikhonov(pst,\n",
    "                                par_groups=pst.adj_par_groups, # par groups for which prior inf eq are added\n",
    "                                reset=True) # whether to remove existing prior equations first; default is true"
   ]
  },
  {
   "cell_type": "markdown",
   "metadata": {},
   "source": [
    "Now, as you can see below, prior information equations have been added for all adjustable parameters. The \"preferred value\" is obtained from the parameter initial value in the `* parameter_data` section. The weight is calculated from the parameter bounds (this behaviour can be changed with arguments in `pyemu.helpers.zero_order_tikhonov()`)."
   ]
  },
  {
   "cell_type": "code",
   "execution_count": null,
   "metadata": {},
   "outputs": [],
   "source": [
    "pst.prior_information.head()"
   ]
  },
  {
   "cell_type": "markdown",
   "metadata": {},
   "source": [
    "### Preferred difference or First Order Pearson Tikhonov\n",
    "\n",
    "We may wish (almost certainty) to express a preference for similarity between parameters. For example, hydraulic properties of two points close together are more likely to be similar to each other, than two points which are far apart. We describe this relationship using geostatistics, encapsulated in a covariance matrix.\n",
    "\n",
    "As previously described, `pyemu.geostats` module provides tools for generating such matrices. The PEST suite also includes many utilities for this purpose (see the PPCOV* set of utilities.)\n",
    "Let's use the `cov` covariance matrix we constructed earlier for the set of pilot points."
   ]
  },
  {
   "cell_type": "code",
   "execution_count": null,
   "metadata": {},
   "outputs": [],
   "source": [
    "# a reminder\n",
    "plt.imshow(cov.x)"
   ]
  },
  {
   "cell_type": "markdown",
   "metadata": {},
   "source": [
    "Now, we can assign prior information equations for preferred difference. Note that the preferred difference = 0, which means our preferred difference regularization is really a preferred *homogeneity* condition! If observation data don't say otherwise, parameters which are close together should be similar to each other.\n",
    "\n",
    "The weights on the prior information equations are the Pearson correlation coefficients implied by the covariance matrix."
   ]
  },
  {
   "cell_type": "code",
   "execution_count": null,
   "metadata": {},
   "outputs": [],
   "source": [
    "# then assign cov pror\n",
    "pyemu.helpers.first_order_pearson_tikhonov(pst, \n",
    "                                            cov=cov,     # the covariance matrix; these can be for some OR all parameters in pst\n",
    "                                            reset=False, # so as to have both prefered value and prefered difference eqs\n",
    "                                            abs_drop_tol=0.01) # drop pi eqs that have small weight"
   ]
  },
  {
   "cell_type": "code",
   "execution_count": null,
   "metadata": {},
   "outputs": [],
   "source": [
    "# note the additional number of prior information equations\n",
    "pst.prior_information.tail()"
   ]
  },
  {
   "cell_type": "markdown",
   "metadata": {},
   "source": [
    "### Custom Prior Information Equations\n",
    "\n",
    "`Pst.add_pi_equation()` is a helper to construct prior information equations. We demonstrate below using the \"special_par\"s we added earlier."
   ]
  },
  {
   "cell_type": "code",
   "execution_count": null,
   "metadata": {},
   "outputs": [],
   "source": [
    "# reminder\n",
    "par = pst.parameter_data\n",
    "# let's just un-tie special_par2, otherwise we can't assign a prior info equation using it\n",
    "par.loc[par['pargp']=='pargp', 'partrans'] = 'log'\n",
    "#display\n",
    "par.loc[par['pargp']=='pargp']"
   ]
  },
  {
   "cell_type": "code",
   "execution_count": null,
   "metadata": {},
   "outputs": [],
   "source": [
    "pst.add_pi_equation(\n",
    "                    par_names=['special_par1', 'special_par2'], # list of parameter names included on the left hand side of the equation\n",
    "                    pilbl='new_pi_eq',\n",
    "                    rhs=0.0, # the value on the right hand side of the equation; make sure that this value is logical. you may also wish to check if it conflicts with existing prior information equations\n",
    "                    weight=1.0, # the weight assigned to the prior information equation\n",
    "                    obs_group='regul_special', # name to assign to the prior information \"observation group\"\n",
    "                    coef_dict = {'special_par1':1.0, 'special_par2':0.5} # dictionary of parameter coeficients; try specifying different values, note how the equation changes\n",
    "                    )\n",
    "\n",
    "# let's take a look; just print the last row (e.g. the latest prior info equation)\n",
    "pst.prior_information.iloc[-1:]\n"
   ]
  },
  {
   "cell_type": "markdown",
   "metadata": {},
   "source": [
    "## Matrices\n",
    "\n",
    "The `pyemu.Matrix` class is the backbone of `pyemu`. The `Matrix` class does some fancy things in the background to make manipulating matrices and linear algebra easier. The class overloads all common mathematical operators and also uses an \"auto-align\" functionality to line up matrices for multiplication, addition, etc. The `pyemu.Jco` class provides a wrapper to deal with PEST Jacobian matrices. It functions the same as the `Matrix` class.\n",
    "\n",
    "The `pyemu.Cov` class is a special class designed specifically to handle covariance matrices. (We have already seen examples of the `pyemu.Cov` earlier.) The `Cov` class makes some assumptions, such as symmetry (and accordingly that matrix rows and columns names are equal) and provides additional functionality.\n",
    "\n",
    "All classes provide functionality to record matrices to, as well as read from, external files in PEST-compatible formats (e.g. ASCII or binary). `Cov` can also write PEST uncertainty (*.unc) files. The `Cov` class has additional functionality that allows covariance matrices to be constructed from information contained in PEST control files (e.g. from parameter or observation bounds). "
   ]
  },
  {
   "cell_type": "code",
   "execution_count": null,
   "metadata": {},
   "outputs": [],
   "source": [
    "# generate covariance matrix from parameter bounds\n",
    "parcov = pyemu.Cov.from_parameter_data(pst)\n",
    "\n",
    "# generate a covariance matrix from observation data (e.g. weights):\n",
    "obscov = pyemu.Cov.from_observation_data(pst)"
   ]
  },
  {
   "cell_type": "markdown",
   "metadata": {},
   "source": [
    "As you can see below, the `Cov` object retains the parameter names as row and column names."
   ]
  },
  {
   "cell_type": "code",
   "execution_count": null,
   "metadata": {},
   "outputs": [],
   "source": [
    "# the first 5 row and col names \n",
    "parcov.row_names[:5], parcov.col_names[:5], "
   ]
  },
  {
   "cell_type": "markdown",
   "metadata": {},
   "source": [
    "We can check if the matrix is diagonal with the `.isdiagonal` attribute. "
   ]
  },
  {
   "cell_type": "code",
   "execution_count": null,
   "metadata": {},
   "outputs": [],
   "source": [
    "parcov.isdiagonal"
   ]
  },
  {
   "cell_type": "markdown",
   "metadata": {},
   "source": [
    "How about the `cov` covariance matrix we generated earlier for spatially correlated parameters?\n",
    "\n",
    "Recall that, a matrix is \"diagonal\" when all the entries off the diagonal are zero. This means that elements of the matrix are **uncorrelated**. By generating a covariance matrix from parameter data, the only information we have is the uncertainty of each individual parameter (expressed by the parameter bounds). There is no information on correlation between parameters. Therefore `cov_pb.isdiagonal` is `True`. When we generated `cov`, we specified correlation between parameters; so, off-diagonal entries in `cov` are non-zero. Therefore, `cov.isdiagonal` is `False`."
   ]
  },
  {
   "cell_type": "code",
   "execution_count": null,
   "metadata": {},
   "outputs": [],
   "source": [
    "cov.isdiagonal"
   ]
  },
  {
   "cell_type": "markdown",
   "metadata": {},
   "source": [
    "The values of the matrix are accessed in the `.x` attribute:"
   ]
  },
  {
   "cell_type": "code",
   "execution_count": null,
   "metadata": {},
   "outputs": [],
   "source": [
    "parcov.x"
   ]
  },
  {
   "cell_type": "markdown",
   "metadata": {},
   "source": [
    "Note that `parcov.x` is 1-dimensional. Again, this is because `parcov` is \"diagonal\". So `.x` only returns the diagonal entries. On the other hand, `cov.x` is 2-dimensional:"
   ]
  },
  {
   "cell_type": "code",
   "execution_count": null,
   "metadata": {},
   "outputs": [],
   "source": [
    "parcov.x.shape, cov.x.shape"
   ]
  },
  {
   "cell_type": "markdown",
   "metadata": {},
   "source": [
    "You can access the full 2-dimensional matrix with the `.as_2d` attribute (see all the off-diagonals are zero):"
   ]
  },
  {
   "cell_type": "code",
   "execution_count": null,
   "metadata": {},
   "outputs": [],
   "source": [
    "parcov.as_2d"
   ]
  },
  {
   "cell_type": "markdown",
   "metadata": {},
   "source": [
    "It may be easier to visualize this in a plot. Because `parcov` has many parameters it may be hard to see. So let's first use the `get()` method to get a submatrix. We can use this method to extract specific row and column names. We will get the same pilot point parameters that are in the `cov` matrix to compare."
   ]
  },
  {
   "cell_type": "code",
   "execution_count": null,
   "metadata": {},
   "outputs": [],
   "source": [
    "# make a list of parameter names\n",
    "parnames = par.loc[par['pargp']=='hk', 'parnme'].tolist()\n",
    "\n",
    "# get a submatrix from cov_pb; both row and column names must be the same if we want to retain a square matrix (which we do...)\n",
    "subcov = parcov.get(row_names=parnames, col_names=parnames, drop=False)\n",
    "\n",
    "\n",
    "# plot  both matrices side by side\n",
    "f, (ax1, ax2) = plt.subplots(1, 2, sharey=True)\n",
    "# plot submatrix of diagonal matrix\n",
    "c = ax1.imshow(subcov.as_2d)\n",
    "plt.colorbar(c, ax=ax1, shrink=0.3)\n",
    "# plot cov matrix of correlated parameters\n",
    "c = ax2.imshow(0.25 * cov.as_2d) #scaled to parameter unc\n",
    "plt.colorbar(c, ax=ax2, shrink=0.3)"
   ]
  },
  {
   "cell_type": "markdown",
   "metadata": {},
   "source": [
    "The singular values are the diagonal entries of the matrix, arranged in descending order. These can be accessed with the `.s` attribute. This still returns a `Matrix` object (technically a vector). Values in the matrix can be accessed in the same fashion as described above."
   ]
  },
  {
   "cell_type": "code",
   "execution_count": null,
   "metadata": {},
   "outputs": [],
   "source": [
    "# get the singular values vector\n",
    "cov_singular_values = cov.s\n",
    "\n",
    "# access the entries in the vector\n",
    "cov_singular_values.x"
   ]
  },
  {
   "cell_type": "markdown",
   "metadata": {},
   "source": [
    "\"Right singular vectors\" are obtained with `.v` attribute:"
   ]
  },
  {
   "cell_type": "code",
   "execution_count": null,
   "metadata": {},
   "outputs": [],
   "source": [
    "cov.v"
   ]
  },
  {
   "cell_type": "markdown",
   "metadata": {},
   "source": [
    "Matrices can be written to, and read from, external files. These can be ASCII or binary type files. As you saw above, we can access numpy arrays with the `.as_2d` attribute. They can also be converted to a Pandas Dataframe."
   ]
  },
  {
   "cell_type": "code",
   "execution_count": null,
   "metadata": {},
   "outputs": [],
   "source": [
    "covdf = cov.to_dataframe()\n",
    "covdf.head()"
   ]
  },
  {
   "cell_type": "code",
   "execution_count": null,
   "metadata": {},
   "outputs": [],
   "source": [
    "# write to ascii; .to_binary() for binary format\n",
    "cov.to_ascii(filename=os.path.join(f_d,'ppoint.cov'))"
   ]
  },
  {
   "cell_type": "code",
   "execution_count": null,
   "metadata": {},
   "outputs": [],
   "source": [
    "# read from ascii\n",
    "cov = cov.from_ascii(filename=os.path.join(f_d,'ppoint.cov'))"
   ]
  },
  {
   "cell_type": "code",
   "execution_count": null,
   "metadata": {},
   "outputs": [],
   "source": [
    "# a PEST uncertainty file\n",
    "cov.to_uncfile(os.path.join(f_d,'test.unc'))"
   ]
  },
  {
   "cell_type": "markdown",
   "metadata": {},
   "source": [
    "Jacobian matrices, recorded by PEST(++) during parameter estimation, can be read and manipulated with the `Jco` class. This class has the same functioanlity as the `Matrix` class."
   ]
  },
  {
   "cell_type": "code",
   "execution_count": null,
   "metadata": {},
   "outputs": [],
   "source": [
    "jco = pyemu.Jco.from_binary(os.path.join(f_d,\"freyberg_pp.jcb\"))\n",
    "\n",
    "jco.shape"
   ]
  },
  {
   "cell_type": "markdown",
   "metadata": {},
   "source": [
    "## Linear Analysis or FOSM\n",
    "\n",
    "FOSM stands for \"First Order, Second Moment\". You may also see this referred to as \"linear analysis\" (e.g. in PEST documentation). We will delve into FOSM in more detail in another tutorial. Here we merely provide a brief introduction.\n",
    "\n",
    "The ``pyemu.Schur`` object is one of the primary objects for FOSM in `pyemu`. Instantiating a `Schur` object requires, at minimum, a Jacobian matrix and a PEST(++) control file.  From these, `pyemu` builds the prior parameter covariance matrix (from parameter bounds) and the observation noise covariance matrix (from observation weights). Alternatively, the parameter and observation covariance matrices can be provided explicitly.\n",
    "\n",
    "Optionally, observation names can be specified as forecasts. The `Schur` object extracts the corresponding rows from the Jacobian matrix to serve as forecast sensitivity vectors.\n",
    "\n",
    "As we saw earlier, there is a Jacobian matrix in the tutorial folder, recorded in the file named `freyberg_pp.jcb`. "
   ]
  },
  {
   "cell_type": "code",
   "execution_count": null,
   "metadata": {},
   "outputs": [],
   "source": [
    "sc = pyemu.Schur(os.path.join(f_d,'freyberg_pp.jcb'), verbose=False)"
   ]
  },
  {
   "cell_type": "markdown",
   "metadata": {},
   "source": [
    "The prior parameter covariance matrix is stored in the `.parcov` attribute:"
   ]
  },
  {
   "cell_type": "code",
   "execution_count": null,
   "metadata": {},
   "outputs": [],
   "source": [
    "sc.parcov.to_dataframe().head()"
   ]
  },
  {
   "cell_type": "markdown",
   "metadata": {},
   "source": [
    "The same for the observation noise covariance matrix:"
   ]
  },
  {
   "cell_type": "code",
   "execution_count": null,
   "metadata": {},
   "outputs": [],
   "source": [
    "sc.obscov.to_dataframe().head()"
   ]
  },
  {
   "cell_type": "markdown",
   "metadata": {},
   "source": [
    "The **posterior** parameter covariance matrix is calculated and stored in the `.posterior_parameter` attribute:"
   ]
  },
  {
   "cell_type": "code",
   "execution_count": null,
   "metadata": {},
   "outputs": [],
   "source": [
    "sc.posterior_parameter.to_dataframe().head()"
   ]
  },
  {
   "cell_type": "markdown",
   "metadata": {},
   "source": [
    "Let's record the prior and posterior coavariance matrix to external files (we will use these later):"
   ]
  },
  {
   "cell_type": "code",
   "execution_count": null,
   "metadata": {},
   "outputs": [],
   "source": [
    "prior_cov = sc.parcov\n",
    "prior_cov.to_ascii(os.path.join(f_d, 'freyberg_pp.prior.cov'))\n",
    "\n",
    "post_cov = sc.posterior_parameter\n",
    "post_cov.to_ascii(os.path.join(f_d, 'freyberg_pp.post.cov'))"
   ]
  },
  {
   "cell_type": "markdown",
   "metadata": {},
   "source": [
    "The ``Schur`` object found the \"++forecasts()\" optional pestpp argument in the control, found the associated rows in the Jacobian matrix file and extracted those rows to serve as forecast sensitivity vectors. lterantively, we can also pass a list of observation names to use as forecasts when instantiating the `Schur` object. (e.g.`pyemu.Schur(\"jacobian.jcb\", forecasts=[obsname1, obsname2, etc...])`.)"
   ]
  },
  {
   "cell_type": "code",
   "execution_count": null,
   "metadata": {},
   "outputs": [],
   "source": [
    "sc.forecast_names"
   ]
  },
  {
   "cell_type": "code",
   "execution_count": null,
   "metadata": {},
   "outputs": [],
   "source": [
    "# forecast sensitivity vectors stores as `Matrix` objects:\n",
    "sc.forecasts.to_dataframe().head()"
   ]
  },
  {
   "cell_type": "code",
   "execution_count": null,
   "metadata": {},
   "outputs": [],
   "source": [
    "# summary of forecast prior and posterior uncertainty\n",
    "sc.get_forecast_summary()"
   ]
  },
  {
   "cell_type": "markdown",
   "metadata": {},
   "source": [
    "`pyemu` makes FOSM easy to undertake. It has lots of useful functionality. We will not go into further detail here. See the \"intro to fosm\" tutorial for a deeper dive."
   ]
  },
  {
   "cell_type": "markdown",
   "metadata": {},
   "source": [
    "## Ensembles\n",
    "\n",
    "The `pyemu.ParameterEnsemble` and `pyemu.ObservationEnsemble` ensemble classes store parameter or observation ensembles, respectively. These classes are `DataFrames` under the hood, allowing us to use all the baked in Pandas conveniences.\n",
    "\n",
    "We will focus on the `pyemu.ParameterEnsemble` class. Similar concepts apply to `pyemu.ObservationEnsemble`.\n",
    "\n",
    "Ensembles can be read from (and written to) external files, or generated by `pyemu` using one of several methods. These methods `draw` stochastic values from (multivariate) (log) gaussian, uniform and triangular distributions for parameters in a `Pst` control file.  Much of what we do is predicated on the gaussian distribution, so let's use that here by generating an ensemble with the `.from_gaussian_draw()` method. \n",
    "\n",
    "Note that these `draw` methods use initial parameter values in the control file (the `Pst.parameter_data.parval1` attribute) as the $\\boldsymbol{\\mu}$  (mean) prior parameter vector.  Unless otherwise specified, the parameter bounds are used to approximate the prior parameter covariance matrix and these bounds are assumed to represent six standard deviations of the parameter probability distribution (i.e. ~99% of parameter values lie within the lower and upper bounds).  Users can change this assumption by creating their own prior parameter covariance matrix and passing it to `.from_gaussian_draw()`. "
   ]
  },
  {
   "cell_type": "code",
   "execution_count": null,
   "metadata": {},
   "outputs": [],
   "source": [
    "# before continuing, we are going to re-load the pest control file to get rid of any changes we introduced\n",
    "pst = pyemu.Pst(os.path.join(f_d,\"freyberg_pp.pst\"))"
   ]
  },
  {
   "cell_type": "markdown",
   "metadata": {},
   "source": [
    "Now let's just draw a prior parameter ensemble using the parameter bounds:"
   ]
  },
  {
   "cell_type": "code",
   "execution_count": null,
   "metadata": {},
   "outputs": [],
   "source": [
    "pe = pyemu.ParameterEnsemble.from_gaussian_draw(pst, # the Pst control file object, parameter data here will be used to characterize the ensembles' parameter statisctical distribution\n",
    "                                                num_reals=200,) # the number of realisations to generate\n",
    "                                                "
   ]
  },
  {
   "cell_type": "markdown",
   "metadata": {},
   "source": [
    "We can express prior parameter correlation by passing a covariance matrix to the `cov` argument. In doing so, the covariance matrix describes the second moment (the standard deviation and optionally prior correlation between parameters) of the gaussian distribution. This allows us to draw parameter ensembles respecting prior parameter covariance. "
   ]
  },
  {
   "cell_type": "code",
   "execution_count": null,
   "metadata": {},
   "outputs": [],
   "source": [
    "pe = pyemu.ParameterEnsemble.from_gaussian_draw(pst,           # the Pst control file object, parameter data here will be used to characterize the ensembles' parameter statisctical distribution\n",
    "                                                num_reals=200, # the number of realisations to generate\n",
    "                                                cov=prior_cov)    # specify parameter covariance; in this case, `parcov` doesn't actualy specify any covariance, but you get the idea..."
   ]
  },
  {
   "cell_type": "markdown",
   "metadata": {},
   "source": [
    "Because the Ensemble is stored as a DataFrame, we can easily access it. Each row is an individual realisation. Each column is a parameter."
   ]
  },
  {
   "cell_type": "code",
   "execution_count": null,
   "metadata": {},
   "outputs": [],
   "source": [
    "pe.head()"
   ]
  },
  {
   "cell_type": "markdown",
   "metadata": {},
   "source": [
    "Let's plot a histogram of values generated for one of the parameters:"
   ]
  },
  {
   "cell_type": "code",
   "execution_count": null,
   "metadata": {},
   "outputs": [],
   "source": [
    "pe.loc[:, 'rch_0'].hist(bins=50)\n",
    "plt.xlabel('parameter value')\n",
    "plt.ylabel('number of realisations')"
   ]
  },
  {
   "cell_type": "markdown",
   "metadata": {},
   "source": [
    "We can see that this parameter has a \"log\" shape distribution, as expected based on it's `partrans` entry in the control file:"
   ]
  },
  {
   "cell_type": "code",
   "execution_count": null,
   "metadata": {},
   "outputs": [],
   "source": [
    "par.loc[\"rch_0\",\"partrans\"]"
   ]
  },
  {
   "cell_type": "markdown",
   "metadata": {},
   "source": [
    "Let's see its histogram in log space then:"
   ]
  },
  {
   "cell_type": "code",
   "execution_count": null,
   "metadata": {},
   "outputs": [],
   "source": [
    "pe.loc[:, 'rch_0'].apply(np.log10).hist(bins=50)\n",
    "plt.xlabel('$log_{10}$ parameter value')\n",
    "plt.ylabel('number of realisations')"
   ]
  },
  {
   "cell_type": "code",
   "execution_count": null,
   "metadata": {},
   "outputs": [],
   "source": [
    "# check the parmeter bounds; do any of the histogram bins fall above/below the upper/lower bound value?\n",
    "par.loc['rch_0', ['parlbnd','parubnd']]"
   ]
  },
  {
   "cell_type": "code",
   "execution_count": null,
   "metadata": {},
   "outputs": [],
   "source": [
    "pe.loc[:,\"rch_0\"].min(),pe.loc[:,\"rch_0\"].max()"
   ]
  },
  {
   "cell_type": "markdown",
   "metadata": {},
   "source": [
    "As you can see, parameter bounds may be violated when drawing the ensemble because gaussian distributions are continuous. The `.enforce()` method goes through it and makes sure that bounds are respected. It does this by assigning the bound value to any parameter values which exceed the bound.  Conceptually this results in a \"truncated gaussian distribution\"\n",
    "\n",
    "As you can see in the subsequent plot, bounds are now respected:"
   ]
  },
  {
   "cell_type": "code",
   "execution_count": null,
   "metadata": {},
   "outputs": [],
   "source": [
    "# enforce parmeter bounds\n",
    "pe.enforce()\n",
    "\n",
    "# plot again\n",
    "pe.loc[:, 'rch_0'].hist()\n",
    "plt.xlabel('parameter value')\n",
    "plt.ylabel('number of realisations')"
   ]
  },
  {
   "cell_type": "markdown",
   "metadata": {},
   "source": [
    "There are also built in functions to automate plotting of ensembles:"
   ]
  },
  {
   "cell_type": "code",
   "execution_count": null,
   "metadata": {},
   "outputs": [],
   "source": [
    "# generates an A4 page of histograms for specified columns (e.g. parameters)\n",
    "\n",
    "# select column (e.g. parameter) names\n",
    "plot_cols = pe.columns[0:8].tolist() \n",
    "\n",
    "# plot histograms\n",
    "pe.plot(bins=50, \n",
    "        plot_cols=plot_cols, # specifies which columns to plot\n",
    "        filename=None, )     # external filename to record plot"
   ]
  },
  {
   "cell_type": "markdown",
   "metadata": {},
   "source": [
    "You can record an ensemble to external files (.csv or binary).  Note the `.to_binary()` method saves the ensemble into the same extended compressed sparse storage file format as the jacobian matrix (\".jcb\") and the extension of the file is used to determine its type in PEST++."
   ]
  },
  {
   "cell_type": "code",
   "execution_count": null,
   "metadata": {},
   "outputs": [],
   "source": [
    "pe.to_csv(os.path.join(f_d, 'prior_pe.csv'))\n",
    "pe.to_binary(os.path.join(f_d,'prior_pe.jcb'))"
   ]
  },
  {
   "cell_type": "markdown",
   "metadata": {},
   "source": [
    "And of course, read from external files (csv, binary) or even from pandas DataFrames:"
   ]
  },
  {
   "cell_type": "code",
   "execution_count": null,
   "metadata": {},
   "outputs": [],
   "source": [
    "pe = pyemu.ParameterEnsemble.from_csv(pst, filename=os.path.join(f_d, 'prior_pe.csv'))\n",
    "pe_b = pyemu.ParameterEnsemble.from_binary(pst, filename=os.path.join(f_d, 'prior_pe.jcb'))"
   ]
  },
  {
   "cell_type": "markdown",
   "metadata": {},
   "source": [
    "We can even form an empirical covariance matrix from an ensemble!  This is some foreshadowing for the ensemble methods that are covered in later notebooks... "
   ]
  },
  {
   "cell_type": "code",
   "execution_count": null,
   "metadata": {},
   "outputs": [],
   "source": [
    "emp_cov = pe.covariance_matrix()\n",
    "\n",
    "# display for fun\n",
    "x = emp_cov.x.copy()\n",
    "x[x<1.0e-2] = np.NaN\n",
    "c = plt.imshow(x)\n",
    "plt.colorbar(c)"
   ]
  },
  {
   "cell_type": "markdown",
   "metadata": {},
   "source": [
    "and a reminder of what the initial parameter covariance matrix looked like (the one used to generate the ensemble):"
   ]
  },
  {
   "cell_type": "code",
   "execution_count": null,
   "metadata": {},
   "outputs": [],
   "source": [
    "x = prior_cov.as_2d.copy()\n",
    "x[x<1.0e-2] = np.NaN\n",
    "plt.imshow(x)"
   ]
  },
  {
   "cell_type": "markdown",
   "metadata": {},
   "source": [
    "So we can see that with 200 realizations, we can recover the diagonal pretty well, but we have some \"spurious\" covariances in the off diagonals..."
   ]
  },
  {
   "cell_type": "markdown",
   "metadata": {},
   "source": [
    "### Bayes Linear Monte Carlo\n",
    "\n",
    "We can use the Bayes linear posterior parameter covariance matrix (aka Schur compliment) to \"precondition\" the realizations using linear algebra so that they hopefully yield a lower phi.  We just need to pass this\n",
    "posterior covariance matrix to the draw method.  Note this covariance matrix is the second moment of the posterior (under the FOSM assumptions) and the final parameter values is the first moment.\n",
    "\n",
    "In other GMDSI educational material, and in the PEST Roadmaps, this approach is sometimes referred to as \"using the linearized posterior parameter distribution\". \n",
    "\n",
    "Applying Bayes linear Monte Carlo requires that we have previously calibrated a model and calculated a post-calibration Jacobian matrix.  From the Jacobian, we can obtain the post-calibration parameter covariance. The \"calibrated\" parameter values represent the mean of the posterior parameter probability distribution. By centering the distribution on values that already provide a good fit with measurment data, we are increasing the likelihood that the realisatiosn that we draw will also fit measured data well. This can be useful in reducing subsequent history-matching computation time.\n"
   ]
  },
  {
   "cell_type": "code",
   "execution_count": null,
   "metadata": {},
   "outputs": [],
   "source": [
    "pe_post = pyemu.ParameterEnsemble.from_gaussian_draw(pst=pst,\n",
    "                                                    cov=post_cov, \n",
    "                                                    num_reals=200)\n",
    "pe_post.enforce()"
   ]
  },
  {
   "cell_type": "code",
   "execution_count": null,
   "metadata": {},
   "outputs": [],
   "source": [
    "# compare the prior and the posterior\n",
    "pe.loc[:, 'rch_0'].hist(alpha=0.5,color=\"0.5\")\n",
    "pe_post.loc[:, 'rch_0'].hist(alpha=0.5,color=\"b\")\n",
    "#pe_post.loc[:, 'hk00'].plot(kind=\"hist\",bins=20,ax=ax,alpha=0.5)"
   ]
  },
  {
   "cell_type": "markdown",
   "metadata": {},
   "source": [
    "We see that the uncertainty in the recharge parameter `rch_0` has decreased substantially from prior (grey) to posterior (blue)"
   ]
  },
  {
   "cell_type": "code",
   "execution_count": null,
   "metadata": {},
   "outputs": [],
   "source": [
    "# plots the change between two ensembles\n",
    "pyemu.plot_utils.ensemble_change_summary(pe, pe_post, pst)"
   ]
  },
  {
   "cell_type": "markdown",
   "metadata": {},
   "source": [
    "Or for comparing histograms from several ensembles. (Can also be used for observation ensembles; see additional method arguments):"
   ]
  },
  {
   "cell_type": "code",
   "execution_count": null,
   "metadata": {},
   "outputs": [],
   "source": [
    "pyemu.plot_utils.ensemble_helper(ensemble={\"0.5\":pe, \"b\":pe_post,},\n",
    "                                     filename=None,\n",
    "                                     plot_cols=plot_cols,\n",
    "                                     )"
   ]
  },
  {
   "cell_type": "markdown",
   "metadata": {},
   "source": [
    "This is just a basic introduction in to handling ensembles in pyemu, we will see more later..."
   ]
  }
 ],
 "metadata": {
  "kernelspec": {
   "display_name": "Python 3 (ipykernel)",
   "language": "python",
   "name": "python3"
  },
  "language_info": {
   "codemirror_mode": {
    "name": "ipython",
    "version": 3
   },
   "file_extension": ".py",
   "mimetype": "text/x-python",
   "name": "python",
   "nbconvert_exporter": "python",
   "pygments_lexer": "ipython3",
   "version": "3.13.1"
  }
 },
 "nbformat": 4,
 "nbformat_minor": 4
}
