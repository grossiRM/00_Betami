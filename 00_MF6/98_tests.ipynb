{
 "cells": [
  {
   "cell_type": "code",
   "execution_count": null,
   "id": "304760da-8ebb-48af-9bca-9523f4ee9b34",
   "metadata": {},
   "outputs": [],
   "source": [
    "# Set default figure properties\n",
    "figure_size = (3.5, 3.5)\n",
    "\n",
    "\n",
    "def plot_grid(idx, sim):\n",
    "    with styles.USGSMap():\n",
    "        sim_name = list(parameters.keys())[idx]\n",
    "        sim_ws = os.path.join(workspace, sim_name)\n",
    "        gwf = sim.get_model(sim_name)\n",
    "\n",
    "        fig = plt.figure(figsize=figure_size)\n",
    "        fig.tight_layout()\n",
    "\n",
    "        ax = fig.add_subplot(1, 1, 1, aspect=\"equal\")\n",
    "        pmv = flopy.plot.PlotMapView(model=gwf, ax=ax, layer=0)\n",
    "        pmv.plot_grid()\n",
    "        pmv.plot_bc(name=\"CHD\")\n",
    "        pmv.plot_bc(name=\"WEL\")\n",
    "        ax.set_xlabel(\"x position (m)\")\n",
    "        ax.set_ylabel(\"y position (m)\")\n",
    "\n",
    "        if plot_show:\n",
    "            plt.show()\n",
    "        if plot_save:\n",
    "            fpth = figs_path / f\"{sim_name}-grid.png\"\n",
    "            fig.savefig(fpth)\n",
    "\n",
    "\n",
    "def plot_head(idx, sim):\n",
    "    with styles.USGSMap():\n",
    "        sim_name = list(parameters.keys())[idx]\n",
    "        sim_ws = os.path.join(workspace, sim_name)\n",
    "        gwf = sim.get_model(sim_name)\n",
    "\n",
    "        fig = plt.figure(figsize=figure_size)\n",
    "        fig.tight_layout()\n",
    "\n",
    "        head = gwf.output.head().get_data()\n",
    "\n",
    "        ax = fig.add_subplot(1, 1, 1, aspect=\"equal\")\n",
    "        pmv = flopy.plot.PlotMapView(model=gwf, ax=ax, layer=0)\n",
    "        cb = pmv.plot_array(0 - head, cmap=\"jet\", alpha=0.25)\n",
    "        cs = pmv.contour_array(0 - head, levels=np.arange(0.1, 1, 0.1))\n",
    "        cbar = plt.colorbar(cb, shrink=0.25)\n",
    "        cbar.ax.set_xlabel(r\"Drawdown, ($m$)\")\n",
    "        ax.set_xlabel(\"x position (m)\")\n",
    "        ax.set_ylabel(\"y position (m)\")\n",
    "\n",
    "        if plot_show:\n",
    "            plt.show()\n",
    "        if plot_save:\n",
    "            fpth = figs_path / f\"{sim_name}-head.png\"\n",
    "            fig.savefig(fpth)\n",
    "\n",
    "\n",
    "def plot_results(idx, sim, silent=True):\n",
    "    if idx == 0:\n",
    "        plot_grid(idx, sim)\n",
    "    plot_head(idx, sim)"
   ]
  }
 ],
 "metadata": {
  "jupytext": {
   "cell_metadata_filter": "-all"
  },
  "kernelspec": {
   "display_name": "Python 3 (ipykernel)",
   "language": "python",
   "name": "python3"
  },
  "language_info": {
   "codemirror_mode": {
    "name": "ipython",
    "version": 3
   },
   "file_extension": ".py",
   "mimetype": "text/x-python",
   "name": "python",
   "nbconvert_exporter": "python",
   "pygments_lexer": "ipython3",
   "version": "3.12.7"
  }
 },
 "nbformat": 4,
 "nbformat_minor": 5
}
