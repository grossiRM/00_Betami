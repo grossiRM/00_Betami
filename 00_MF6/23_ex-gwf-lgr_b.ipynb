{
 "cells": [
  {
   "cell_type": "markdown",
   "id": "64269ad5",
   "metadata": {},
   "source": [
    "**LGR with MVR and SFR**"
   ]
  },
  {
   "cell_type": "code",
   "execution_count": 1,
   "id": "c207d74e-5e12-459e-8d96-b7785397af35",
   "metadata": {},
   "outputs": [],
   "source": [
    "import os ; import pathlib as pl ; import pandas as pd ; import numpy as np ;  import matplotlib.pyplot as plt ; from pathlib import Path  \n",
    "from flopy.plot.styles import styles ; import shapefile as shp ; import matplotlib as mpl ; import flopy ; import flopy.utils.binaryfile as bf \n",
    "from modflow_devtools.misc import get_env, timed ; write=get_env(\"WRITE\", True);run=get_env(\"RUN\", True) ; from flopy.utils.lgrutil import Lgr "
   ]
  },
  {
   "cell_type": "raw",
   "id": "5abdfa39-7f52-4073-a2d8-a0db78fa1aea",
   "metadata": {},
   "source": [
    "with open(sim_data/ \"01_change\", 'wb') as handle:                 \n",
    "    pickle.dump(change, handle, protocol=pickle.HIGHEST_PROTOCOL)\n",
    "with open(sim_data/ \"01_change\", 'rb') as handle:\n",
    "    change = pickle.load(handle)  ; change2 = pd.DataFrame(change) ; change2.to_csv (sim_data/ \"a1_change.csv\") ; print('Qde_change',len(change))"
   ]
  },
  {
   "cell_type": "code",
   "execution_count": 2,
   "id": "1a0ab9f2-ed5a-487b-8656-3f600b6e2976",
   "metadata": {},
   "outputs": [],
   "source": [
    "sim_ws    = Path(\"./23_LGR\")                         ; sim_ws.mkdir(exist_ok=True)     ; sim_name = example_name = \"ex-gwf-lgr\"\n",
    "exe_name  = 'E:\\\\15_REPOS\\\\00_BETAMI\\\\bin\\\\mf6.exe'  ; workspace = figs_path = sim_ws       \n",
    "sim_data  = Path(\"./_aux/23_LGR\")                    ; sim_data.mkdir(exist_ok=True)"
   ]
  },
  {
   "cell_type": "code",
   "execution_count": 3,
   "id": "754b703b-78b2-4b3a-a84d-0ce0aecfa44d",
   "metadata": {},
   "outputs": [],
   "source": [
    "length_units = \"meters\" ; time_units = \"days\" ; nouter = 100  ; ninner = 300 ;hclose = 0.0000001 ;rclose = 0.000001 ;relax = 0.97  # numdays = 1\n",
    "nlayp = 3 ;nrowp = 15   ;ncolp = 15       ;delrp = 102.94     ; delcp  = 68.63 ;dum1 = 5 ;dum2 = 5 ;dum3 = 20.588 ;dum4 = 13.725 ;k11 = 1 ;k33 = 1 ;\n",
    "delrp = 1544.1/ncolp    ;delcp = 1029.4/nrowp ;perlen = [1]*1 ; nper   = len(perlen) ;nstp = [1]*1 ;tsmult = [1.0]*1 ;\n",
    "\n",
    "x = [round(x, 3) for x in np.linspace(50.0, 45.0, ncolp)]       ; topp   = np.repeat(x, nrowp).reshape((15, 15)).T\n",
    "z = [round(z, 3) for z in np.linspace(50.0, 0.0, nlayp + 1)]    ; botmp  = [topp - z[len(z) - 2], topp - z[len(z) - 3], topp - z[0]]\n",
    "idomainp = np.ones((nlayp, nrowp, ncolp), dtype=int)            ; idomainp[0:2, 6:11, 2:8] = 0  # Zero out where the child grid will reside\n",
    "icelltype = [1, 0, 0]  ; idomainp[0] ; # Water table resides in layer 1         # botmp[1]  #"
   ]
  },
  {
   "cell_type": "code",
   "execution_count": 4,
   "id": "70f3c5ca-fecd-4da2-b9c1-4e73a769aadd",
   "metadata": {},
   "outputs": [],
   "source": [
    "import pickle\n",
    "with open(sim_data/ \"01_connsp\"   , 'rb') as handle: connsp = pickle.load(handle)    ; connsp2 = pd.DataFrame(connsp)       ; connsp2.to_csv    (sim_ws/ \"a00_connsp.csv\")   # ; print('Qde_connsp',len(connsp))\n",
    "with open(sim_data/ \"01_sfrcells\" , 'rb') as handle: sfrcells = pickle.load(handle)  ; sfrcells2 = pd.DataFrame(sfrcells)   ; sfrcells2.to_csv  (sim_ws/ \"b01_sfrcells.csv\") # ; print('Qde_sfrcells',len(sfrcells))\n",
    "with open(sim_data/ \"01_sfrcellsc\", 'rb') as handle: sfrcellsc = pickle.load(handle) ; sfrcellsc2 = pd.DataFrame(sfrcellsc) ; sfrcellsc2.to_csv (sim_ws/ \"c01_sfrcellsc.csv\") #; print('Qde_sfrcellsc',len(sfrcellsc))\n",
    "with open(sim_data/ \"01_rlen\"     , 'rb') as handle: rlen = pickle.load(handle)      ; rlen2 = pd.DataFrame(rlen)           ; rlen2.to_csv      (sim_ws/ \"b02_rlen.csv\")     # ; print('Qde_rlen',len(rlen))\n",
    "with open(sim_data/ \"01_rlenc\"    , 'rb') as handle: rlenc = pickle.load(handle)     ; rlenc2 = pd.DataFrame(rlenc)         ; rlenc2.to_csv     (sim_ws/ \"c02_rlenc.csv\")     #; print('Qde_rlenc',len(rlenc))\n",
    "with open(sim_data/ \"01_rbtp\"     , 'rb') as handle: rbtp = pickle.load(handle)      ; rbtp2 = pd.DataFrame(rbtp)           ; rbtp2.to_csv      (sim_ws/ \"b03_rbtp.csv\")     # ; print('Qde_rbtp',len(rbtp))\n",
    "with open(sim_data/ \"01_rbtpc\"    , 'rb') as handle: rbtpc = pickle.load(handle)     ; rbtpc2 = pd.DataFrame(rbtpc)         ; rbtpc2.to_csv     (sim_ws/ \"c03_rbtpc.csv\")     #; print('Qde_rbtpc',len(rbtpc))"
   ]
  },
  {
   "cell_type": "code",
   "execution_count": 5,
   "id": "054b77fe-005f-409f-8d5f-1aa3b472c9e6",
   "metadata": {},
   "outputs": [],
   "source": [
    "rwid  = 5     ; rgrd1 = 0.12869035e-02     ; rgrd2 = 0.12780087e-02  \n",
    "rbth  = 1.5   ; rbhk  = 0.1                ; man   = 0.04             ; ustrf = 1.0     ; ndv = 0 ; \n",
    "rwidc = 5     ; rgrdc  = 0.14448310e-02    ; rbthc = 1.5              ; rbhkc = 0.1     ; manc = 0.04 ; ustrfc = 1.0 ; ndvc = 0 ; "
   ]
  },
  {
   "cell_type": "code",
   "execution_count": 6,
   "id": "5abdc815-e8f1-4519-9112-7274ff420edd",
   "metadata": {},
   "outputs": [],
   "source": [
    "pkdat = []\n",
    "for i in np.arange(len(rlen)):\n",
    "    if i < 8:       rgrd = rgrd1\n",
    "    else:           rgrd = rgrd2\n",
    "    ncon = len(connsp[i]) - 1        ; pkdat.append((i ,sfrcells[i] ,rlen[i] ,rwid ,rgrd ,rbtp[i] ,rbth ,rbhk ,man ,ncon ,ustrf ,ndv))\n",
    "connsc = []\n",
    "for i in np.arange(89):\n",
    "    if i == 0:     connsc.append((i, -1 * (i + 1)))\n",
    "    elif i == 88:  connsc.append((i,       i - 1 ))\n",
    "    else:          connsc.append((i,       i - 1   , -1 * (i + 1)))\n",
    "connsc2 = pd.DataFrame(connsc) ;  connsc2.to_csv    (sim_ws/ \"a01_connsc.csv\")\n",
    "pkdatc = []\n",
    "for i in np.arange(len(rlenc)):\n",
    "    nconc = len(connsc[i]) - 1      ; pkdatc.append((i ,sfrcellsc[i] ,rlenc[i] ,rwidc ,rgrdc ,rbtpc[i] ,rbthc ,rbhkc ,manc ,nconc ,ustrfc ,ndvc))\n",
    "sfrspd = {0: [[0, \"INFLOW\", 40.0]]}  ; sfrspdc = {0: [[0, \"INFLOW\", 0.0]]}\n",
    "sa = pd.DataFrame(pkdat); sa.columns= ('i','sfrcells[i]','rlen[i]','rwid','rgrd','rbtp[i]','rbth','rbhk','man','ncon','ustrf','ndv')\n",
    "sa.set_index('i', inplace=True, drop=True) ; ab2 = sa['sfrcells[i]']; ab3 = ab2.tolist()  ; np.savetxt(sim_ws / \"bb01n_pkdat.csv\", ab3, delimiter=\",\")\n",
    "ab4=pd.DataFrame(ab3); ab5 = ab4.rename(columns=lambda x:'sfrcells'+str(x)) ; df=pd.concat([sa[:],ab5[:]],axis=1) ; df.to_csv(sim_ws/\"bb01y_pkdat.csv\") \n",
    "sa = pd.DataFrame(pkdatc); sa.columns= ('i','sfrcells[i]','rlen[i]','rwid','rgrd','rbtp[i]','rbth','rbhk','man','ncon','ustrf','ndv')\n",
    "sa.set_index('i', inplace=True, drop=True) ; ab2 = sa['sfrcells[i]']; ab3 = ab2.tolist()  ; np.savetxt(sim_ws / \"cc02n_pkdatc.csv\", ab3, delimiter=\",\")\n",
    "ab4=pd.DataFrame(ab3); ab5 = ab4.rename(columns=lambda x:'sfrcells'+str(x)) ; df=pd.concat([sa[:],ab5[:]],axis=1) ; df.to_csv(sim_ws/\"cc02y_pkdatc.csv\") "
   ]
  },
  {
   "cell_type": "code",
   "execution_count": 7,
   "id": "7c4beb85",
   "metadata": {},
   "outputs": [
    {
     "name": "stdout",
     "output_type": "stream",
     "text": [
      "run_models took 339.89 ms\n"
     ]
    }
   ],
   "source": [
    "def build_models(sim_name, silent=False):\n",
    "    name = \"lgr\"  ;  gwfname = \"gwf-\"+ name  ; gwfname = gwfname+\"-parent\" ;     gwfnamec = \"gwf-\" + name + \"-child\" ;   tdis_rc = []   \n",
    "    for i in range(len(perlen)): tdis_rc.append((perlen[i], nstp[i], tsmult[i]))\n",
    "    rowList = np.arange(0, nrowp).tolist()  ; layList = np.arange(0, nlayp).tolist() ; chdspd_left = [] ; chdspd_right = []\n",
    "    hd_left = 49.75 ; hd_right = 44.75\n",
    "    for l in layList:\n",
    "        for r in rowList:\n",
    "            chdspd_left.append([(l, r, 0), hd_left]) ; chdspd_right.append([(l, r, ncolp - 1), hd_right])\n",
    "    chdspd_L = {0: chdspd_left}  ;     chdspd_R = {0:chdspd_right}\n",
    "\n",
    "    ncpp = 3 ; ncppl=[3 ,3 ,0]\n",
    "    lgr = Lgr(nlayp ,nrowp ,ncolp ,delrp ,delcp ,topp ,botmp ,idomainp ,ncpp=ncpp ,ncppl=ncppl ,xllp=0.0 ,yllp=0.0)\n",
    "    delrc, delcc  = lgr.get_delr_delc() ; idomainc = lgr.get_idomain()  ; topc, botmc = lgr.get_top_botm()  \n",
    "    child_dis_shp = lgr.get_shape()     ; nlayc=child_dis_shp[0] ; nrowc=child_dis_shp[1] ; ncolc=child_dis_shp[2]    ; icelltypec = [1 ,1 ,1 ,0 ,0 ,0]\n",
    "    strt = [topp-0.25,topp-0.25,topp-0.25]  ; strtc = [topc-0.25,topc-0.25,topc-0.25   ,topc-0.25,topc-0.25 ,topc-0.25]\n",
    "    # __________________________________________________________________________________________________________________________________________#\n",
    "    sim = flopy.mf6.MFSimulation     (sim_name = sim_name ,version = \"mf6\" ,sim_ws = sim_ws ,exe_name = \"mf6\" ,continue_ = True ,)\n",
    "    flopy.mf6.ModflowTdis  (sim, nper=nper, perioddata=tdis_rc, time_units=time_units)\n",
    "    gwf    = flopy.mf6.ModflowGwf    (sim ,modelname = gwfname ,save_flows = True ,newtonoptions = \"newton\" ,model_nam_file = f\"{gwfname}.nam\")\n",
    "    imsgwf = flopy.mf6.ModflowIms    (sim ,print_option = \"SUMMARY\" ,outer_dvclose = hclose ,outer_maximum = nouter ,under_relaxation = \"NONE\",\n",
    "                                      inner_maximum = ninner ,inner_dvclose = hclose ,rcloserecord = rclose ,linear_acceleration = \"BICGSTAB\",\n",
    "                                      scaling_method = \"NONE\" ,reordering_method = \"NONE\" ,relaxation_factor = relax ,filename = f\"{gwfname}.ims\")\n",
    "    sim.register_ims_package(imsgwf ,[gwf.name])\n",
    "    flopy.mf6.ModflowGwfdis (gwf ,nlay = nlayp ,nrow = nrowp ,ncol = ncolp ,delr = delrp ,delc = delcp ,top = topp ,botm = botmp,\n",
    "                             idomain = idomainp ,filename = f\"{gwfname}.dis\")\n",
    "    flopy.mf6.ModflowGwfic  (gwf, strt=strt, filename=f\"{gwfname}.ic\")\n",
    "    flopy.mf6.ModflowGwfnpf (gwf ,save_flows=True ,alternative_cell_averaging=\"AMT-LMK\" ,icelltype=icelltype ,k=k11 ,k33=k33,\n",
    "                             save_specific_discharge=False ,filename=f\"{gwfname}.npf\")\n",
    "    flopy.mf6.ModflowGwfoc  (gwf ,budget_filerecord=f\"{gwfname}.bud\" ,head_filerecord=f\"{gwfname}.hds\",\n",
    "                             headprintrecord=[(\"COLUMNS\" ,10 ,\"WIDTH\" ,15 ,\"DIGITS\" ,6 ,\"GENERAL\")],\n",
    "                             saverecord=[(\"HEAD\" ,\"LAST\") ,(\"BUDGET\" ,\"LAST\")] ,printrecord=[(\"HEAD\" ,\"LAST\") ,(\"BUDGET\" ,\"LAST\")])\n",
    "    flopy.mf6.ModflowGwfchd (gwf ,maxbound=len(chdspd_L) ,stress_period_data=chdspd_L ,save_flows=False,pname=\"CHD-1\" ,filename=f\"{gwfname}.chd1.chd\")\n",
    "    flopy.mf6.ModflowGwfchd (gwf ,maxbound=len(chdspd_R) ,stress_period_data=chdspd_R ,save_flows=False,pname=\"CHD-2\" ,filename=f\"{gwfname}.chd2.chd\")\n",
    "    flopy.mf6.ModflowGwfsfr (gwf ,print_stage=False ,print_flows=False ,budget_filerecord=gwfname+\".sfr.bud\" ,save_flows=True ,mover=True,\n",
    "                             pname=\"SFR-parent\" ,time_conversion=86400.0 ,boundnames=False ,nreaches=len(connsp) ,packagedata = pkdat,\n",
    "                             connectiondata=connsp ,perioddata=sfrspd ,filename=f\"{gwfname}.sfr\")\n",
    "    # __________________________________________________________________________________________________________________________________________#\n",
    "    gwfc = flopy.mf6.ModflowGwf       (sim ,modelname=gwfnamec ,save_flows=True ,newtonoptions=\"newton\" ,model_nam_file=f\"{gwfnamec}.nam\")\n",
    "    flopy.mf6.ModflowGwfdis (gwfc ,nlay=nlayc ,nrow=nrowc ,ncol=ncolc ,delr=delrc ,delc=delcc ,top=topc ,botm=botmc ,\n",
    "                             idomain=idomainc ,filename=f\"{gwfnamec}.dis\")\n",
    "    flopy.mf6.ModflowGwfic  (gwfc ,strt=strtc ,filename=f\"{gwfnamec}.ic\")\n",
    "    flopy.mf6.ModflowGwfnpf (gwfc ,save_flows=False ,alternative_cell_averaging=\"AMT-LMK\" ,icelltype=icelltypec ,k=k11 ,k33=k33,\n",
    "                             save_specific_discharge=False ,filename=f\"{gwfnamec}.npf\")\n",
    "    flopy.mf6.ModflowGwfoc  (gwfc,budget_filerecord=f\"{gwfnamec}.bud\",head_filerecord=f\"{gwfnamec}.hds\",\n",
    "                             headprintrecord=[(\"COLUMNS\", 10, \"WIDTH\", 15, \"DIGITS\", 6, \"GENERAL\")],\n",
    "                             saverecord=[(\"HEAD\", \"LAST\"), (\"BUDGET\", \"LAST\")], printrecord=[(\"HEAD\", \"LAST\"), (\"BUDGET\", \"LAST\")])\n",
    "    flopy.mf6.ModflowGwfsfr (gwfc ,print_stage=False ,print_flows=False ,budget_filerecord=gwfnamec+\".sfr.bud\" ,save_flows=True,\n",
    "                             mover=True ,pname=\"SFR-child\" ,time_conversion=86400.00 ,boundnames=False ,nreaches=len(connsc),\n",
    "                             packagedata=pkdatc ,connectiondata=connsc ,perioddata=sfrspdc ,filename=f\"{gwfnamec}.sfr\")\n",
    "    exchange_data = lgr.get_exchange_data()\n",
    "    gwfgwf = flopy.mf6.ModflowGwfgwf  (sim ,exgtype=\"GWF6-GWF6\" ,print_flows=True ,print_input=True ,exgmnamea=gwfname ,exgmnameb=gwfnamec,\n",
    "                                       nexg=len(exchange_data) ,exchangedata=exchange_data ,mvr_filerecord=f\"{name}.mvr\" ,pname=\"EXG-1\",\n",
    "                                       filename=f\"{name}.exg\")\n",
    "\n",
    "    mvrpack = [[gwfname, \"SFR-parent\"], [gwfnamec, \"SFR-child\"]]  ;    maxpackages = len(mvrpack)\n",
    "    static_mvrperioddata =[[mvrpack[0][0],mvrpack[0][1],7  ,mvrpack[1][0],mvrpack[1][1],0 ,\"FACTOR\",1.0] \n",
    "                          ,[mvrpack[1][0],mvrpack[1][1],88 ,mvrpack[0][0],mvrpack[0][1],8 ,\"FACTOR\",1 ]] ; mvrspd={0:static_mvrperioddata}; maxmvr=2\n",
    "    mvr = flopy.mf6.ModflowMvr(gwfgwf,modelnames=True,maxmvr=maxmvr,print_flows=True,maxpackages=maxpackages,packages=mvrpack,\n",
    "                               perioddata=mvrspd,filename=f\"{name}.mvr\")\n",
    "    return sim\n",
    "def write_models(sim, silent=True): sim.write_simulation(silent=silent)\n",
    "@timed\n",
    "def run_models(sim, silent=True):   success, buff = sim.run_simulation(silent=silent, report=True)  ;     assert success, buff\n",
    "def scenario(idx, silent=True):     \n",
    "    sim     = build_models(example_name)\n",
    "    if write: write_models(sim, silent=silent)\n",
    "    if run:   run_models(sim, silent=silent)\n",
    "scenario(0)"
   ]
  },
  {
   "cell_type": "code",
   "execution_count": 8,
   "id": "9d72b920-335f-4caa-99a1-cd8cb4c9afd8",
   "metadata": {},
   "outputs": [],
   "source": [
    "mf6a = build_models('gwf-lgr-child').get_model('gwf-lgr-child')  ; mf6b = build_models('gwf-lgr-parent').get_model('gwf-lgr-parent')\n",
    "sfr_parent_bud_file = Path(\"./23_LGR/gwf-lgr-parent.sfr.bud\")    ; modobjp = bf.CellBudgetFile(sfr_parent_bud_file, precision=\"double\")\n",
    "sfr_child_bud_file  = Path(\"./23_LGR/gwf-lgr-child.sfr.bud\")     ; modobjc = bf.CellBudgetFile(sfr_child_bud_file , precision=\"double\")\n",
    "ckstpkper = modobjp.get_kstpkper()                               ; qp=[] ;qc=[] ;gwswp=[] ;gwswc=[] ;toMvrp=[] ;fromMvrp=[] ;toMvrc=[] ;fromMvrc=[]\n",
    "xcenters, ycenters = mf6a.modelgrid.xycenters[0], mf6a.modelgrid.xycenters[1]  ; p1 = (xcenters[3], ycenters[3]) ; p2 = (xcenters[13], ycenters[13])"
   ]
  },
  {
   "cell_type": "code",
   "execution_count": 9,
   "id": "2c53881a-2f05-4073-8b18-e6d571927c25",
   "metadata": {},
   "outputs": [],
   "source": [
    "ncpp = 3 ; ncppl=[3 ,3 ,0] ; lgr = Lgr (nlayp,nrowp,ncolp   , delrp,delcp,topp,botmp    ,idomainp ,ncpp=ncpp ,ncppl=ncppl ,xllp=0.0 ,yllp=0.0)\n",
    "lgr2 = pd.DataFrame(lgr.get_exchange_data())                ; lgr2.columns= ('parent','child','top_bot','idomainp','ncpp','ncppl')\n",
    "ab2 = lgr2['parent'] ; ab3  = ab2.tolist()                  ; np.savetxt(sim_ws / \"e01_temp.csv\", ab3, delimiter=\",\")\n",
    "ab4=pd.DataFrame(ab3); ab5  = ab4.rename(columns=lambda x:'p'+str(x)) ; ab2 = lgr2['child'] ; ab3 = ab2.tolist()\n",
    "ab4=pd.DataFrame(ab3); ab5b = ab4.rename(columns=lambda x:'c'+str(x))  \n",
    "df=pd.concat([lgr2[:],ab5[:],ab5b[:]],axis=1) ; df.to_csv(sim_ws/\"d01_LGR.csv\") ; lgr2.head() ; "
   ]
  },
  {
   "cell_type": "code",
   "execution_count": 10,
   "id": "3d94ac9d-0354-4128-b08f-26b5f6512a07",
   "metadata": {},
   "outputs": [
    {
     "data": {
      "image/png": "[encoded data removed]",
      "text/plain": [
       "<Figure size 1200x200 with 3 Axes>"
      ]
     },
     "metadata": {},
     "output_type": "display_data"
    }
   ],
   "source": [
    "fig = plt.figure(figsize=(12, 2)) ; fig.tight_layout()     \n",
    "ax = fig.add_subplot(131)  ; pmv = flopy.plot.PlotMapView(model=mf6b, ax=ax, layer=0)    ; pmv.plot_grid() ; pmv.plot_bc(name=\"SFR\",color=\"blue\") \n",
    "styles.add_text(ax,\"p8\",x=p1[0]+220,y=p1[1]+280  ,transform=False,bold=True,color=\"red\") \n",
    "styles.add_text(ax,\"p9\",x=p1[0]+600,y=p1[1]+140  ,transform=False,bold=True,color=\"red\") ; pmv.plot_bc(name=\"chd\",color=\"yellow\")\n",
    "ax = fig.add_subplot(132)  ; pmv = flopy.plot.PlotMapView(model=mf6a, ax=ax, layer=0)    ; pmv.plot_grid() ; pmv.plot_bc(name=\"SFR\",color=\"cyan\")\n",
    "styles.add_text(ax,\"p8\",x=p1[0]- 10,y=p1[1]+ 80  ,transform=False,bold=True,color=\"red\") \n",
    "styles.add_text(ax,\"p9\",x=p1[0]+ 500,y=p1[1]- 80  ,transform=False,bold=True,color=\"red\") \n",
    "ax = fig.add_subplot(133)  ; pmv = flopy.plot.PlotMapView(model=mf6b, ax=ax, layer=0)    ; pmv.plot_grid() ; pmv.plot_bc(name=\"SFR\",color=\"blue\")\n",
    "pmv = flopy.plot.PlotMapView(model=mf6a, ax=ax, layer=0)                                 ; pmv.plot_bc(name=\"SFR\",color=\"cyan\") ; plt.show()"
   ]
  },
  {
   "cell_type": "code",
   "execution_count": 11,
   "id": "0cd31d07-0a99-4b48-9e01-75a0a9098a4d",
   "metadata": {},
   "outputs": [],
   "source": [
    "for kstpkper in ckstpkper:\n",
    "    datc    = modobjc.get_data(kstpkper=kstpkper, text= \"FLOW-JA-FACE\") ; qc.append(datc)               #11\n",
    "    datp    = modobjp.get_data(kstpkper=kstpkper, text= \"FLOW-JA-FACE\") ; qp.append(datp)               #12\n",
    "    datc    = modobjc.get_data(kstpkper=kstpkper, text= \"         GWF\") ; gwswc.append(datc[0])         #21\n",
    "    datp    = modobjp.get_data(kstpkper=kstpkper, text= \"         GWF\") ; gwswp.append(datp[0])         #22\n",
    "    dat_fmc = modobjc.get_data(kstpkper=kstpkper, text= \"    FROM-MVR\") ; toMvrc.append(dat_fmc[0])     #31\n",
    "    dat_fmp = modobjp.get_data(kstpkper=kstpkper, text= \"    FROM-MVR\") ; toMvrp.append(dat_fmp[0])     #32"
   ]
  },
  {
   "cell_type": "code",
   "execution_count": 12,
   "id": "77238cda-5392-4fee-91f0-374bf48fc65d",
   "metadata": {},
   "outputs": [],
   "source": [
    "d11 = np.array(qc[0]).T.tolist()     ; sa11=pd.DataFrame(d11); sad11=pd.DataFrame(sa11[0].to_list()) ; sad11.to_csv(sim_ws/\"ef11_qc.csv\") \n",
    "d12 = np.array(qp[0]).T.tolist()     ; sa12=pd.DataFrame(d12); sad12=pd.DataFrame(sa12[0].to_list()) ; sad12.to_csv(sim_ws/\"ef12_qp.csv\") \n",
    "d21 = np.array(gwswc[0]).T.tolist()  ; sa21=pd.DataFrame(d21)                                        ; sa21.to_csv(sim_ws/\"ef21_gwswc.csv\") \n",
    "d22 = np.array(gwswp[0]).T.tolist()  ; sa22=pd.DataFrame(d22)                                        ; sa22.to_csv(sim_ws/\"ef22_gwswp.csv\") \n",
    "d31 = np.array(toMvrc[0]).T.tolist() ; sa31=pd.DataFrame(d31)                                        ; sa31.to_csv(sim_ws/\"ef31_toMvrc.csv\") \n",
    "d32 = np.array(toMvrp[0]).T.tolist() ; sa32=pd.DataFrame(d32)                                        ; sa32.to_csv(sim_ws/\"ef32_toMvrp.csv\") "
   ]
  },
  {
   "cell_type": "code",
   "execution_count": 13,
   "id": "38f9babd-32de-4722-80c5-c4e8af558e0c",
   "metadata": {},
   "outputs": [],
   "source": [
    "all_rch_lengths = rlen[0:8] + rlenc + rlen[8:]                \n",
    "rch_lengths = []\n",
    "for i in np.arange(len(all_rch_lengths)):\n",
    "    rch_lengths.append(np.sum(all_rch_lengths[0:i]) + (all_rch_lengths[i] / 2))  \n",
    "rch_lengths2 = pd.DataFrame(rch_lengths) ; rch_lengths2.tail()    ; rch_lengths2.to_csv(sim_ws/\"eg_01_rch_lengths2.csv\")        # rch_L "
   ]
  },
  {
   "cell_type": "code",
   "execution_count": 14,
   "id": "588d538c-21b4-49cc-b4aa-8f06df9be8c6",
   "metadata": {},
   "outputs": [],
   "source": [
    "strmQ = np.zeros(len(connsp) + len(connsc))                     ; strmQ[0] = 40.0\n",
    "for i, itm in enumerate(np.arange(1, len(qp[0][0]), 2)):        # ______________________ qp.append(datp)\n",
    "    if qp[0][0][itm][0] <= 8:  strmQ[i + 1] = qp[0][0][itm][2]\n",
    "    if i >= 8:                 break\n",
    "strmQ[i] = dat_fmc[0][0][2]  \n",
    "for j, jtm in enumerate(np.arange(1, len(qc[0][0]), 2)):        strmQ[i + (j + 1)] = qc[0][0][jtm][2]         \n",
    "\n",
    "from_mvr = next(itm[2] for itm in dat_fmp[0] if itm[2] > 0)     # ______________________ toMvrp.append(dat_fmp[0])\n",
    "strmQ[i + j + 2] = from_mvr\n",
    "\n",
    "for k, ktm in enumerate(np.arange(15, len(qp[0][0]), 2)):\n",
    "    strmQ[i + j + 2 + (k + 1)] = qp[0][0][ktm][2]               #; print('strmQ',strmQ,'strmQ[i]',strmQ[i])                    # strmQ "
   ]
  },
  {
   "cell_type": "code",
   "execution_count": 15,
   "id": "89c22214-d2ad-4e82-b2a3-851b13785de8",
   "metadata": {},
   "outputs": [],
   "source": [
    "gwsw_exg = np.zeros(len(connsp) + len(connsc))\n",
    "for i, itm in enumerate(gwswp[0]):\n",
    "    if itm[0] <= 8:     gwsw_exg[i] = itm[2]\n",
    "    elif itm[0] > 8:    gwsw_exg[(len(gwsw_exg) - (len(gwswp[0]) - i))] = itm[2]\n",
    "        \n",
    "for j, jtm in enumerate(gwswc[0]):       gwsw_exg[8 + j] = jtm[2]                                                              # gwsw_exg "
   ]
  },
  {
   "cell_type": "code",
   "execution_count": 16,
   "id": "8bb7f677-a44f-414a-9132-6e6fefafabdf",
   "metadata": {},
   "outputs": [
    {
     "data": {
      "image/png": "[encoded data removed]",
      "text/plain": [
       "<Figure size 600x300 with 2 Axes>"
      ]
     },
     "metadata": {},
     "output_type": "display_data"
    }
   ],
   "source": [
    "fig, ax1 = plt.subplots(figsize=(6,3), dpi=100, tight_layout=True)        \n",
    "pts = ax1.plot(rch_lengths, strmQ, \"r^\", label=\"Stream Flow\", zorder=3)      ; ax1.set_zorder(4) ; ax1.set_facecolor(\"none\")   # rch_L x strmQ \n",
    "ax1.text(rch_lengths[int(len(rch_lengths) / 2)],160,\"Local Grid Refinement\",ha=\"center\",fontsize=10)\n",
    "ax2 = ax1.twinx() ; ax2.set_xlim([0, 3500]) ; ax2.set_ylim([-11, 25])\n",
    "bar = ax2.bar(rch_lengths,gwsw_exg,align=\"center\",color=\"b\",width=[itm / 2 for itm in all_rch_lengths],label=\"GW-SW Exchange\") # rch_L x gwsw_exg \n",
    "plt.show()"
   ]
  },
  {
   "cell_type": "raw",
   "id": "26787dde-8707-462b-9f41-e47b7f780356",
   "metadata": {
    "jupyter": {
     "source_hidden": true
    }
   },
   "source": [
    "# datc2 = np.array(datc).T.tolist() ; sa=pd.DataFrame(datc2,columns=['N']);  sa2=pd.DataFrame(sa[\"N\"].to_list()); sa2.to_csv(sim_ws/\"ef10.csv\")\n",
    "for kstpkper in ckstpkper:\n",
    "    dat_tmc = modobjc.get_data(kstpkper=kstpkper, text= \"      TO-MVR\") ; fromMvrc.append(dat_tmc[0])   \n",
    "    dat_tmp = modobjp.get_data(kstpkper=kstpkper, text= \"      TO-MVR\") ; fromMvrp.append(dat_tmp[0])   \n",
    "d41 = np.array(fromMvrc).T.tolist()  ; sa41=pd.DataFrame(d41) ; sae1=pd.DataFrame(sa41[0].to_list())   ; sae2=pd.DataFrame(sa41[1].to_list())\n",
    "sae1 = ab4.rename(columns=lambda x:'cA'+str(x)) ; sae2 = ab4.rename(columns=lambda x:'cB'+str(x)) ; \n",
    "df=pd.concat([sae1[:],sae2[:]],axis=1) ; df.to_csv(sim_ws/\"ef41_fromMvrc.csv\")\n",
    "d42 = np.array(fromMvrp).T.tolist()  ; sa41=pd.DataFrame(d41) ; sae1=pd.DataFrame(sa41[0].to_list())   ; sae2=pd.DataFrame(sa41[1].to_list())\n",
    "sae1 = ab4.rename(columns=lambda x:'cA'+str(x)) ; sae2 = ab4.rename(columns=lambda x:'cB'+str(x)) ; \n",
    "df=pd.concat([sae1[:],sae2[:]],axis=1) ; df.to_csv(sim_ws/\"ef42_fromMvrp.csv\")"
   ]
  }
 ],
 "metadata": {
  "jupytext": {
   "cell_metadata_filter": "-all"
  },
  "kernelspec": {
   "display_name": "Python 3 (ipykernel)",
   "language": "python",
   "name": "python3"
  },
  "language_info": {
   "codemirror_mode": {
    "name": "ipython",
    "version": 3
   },
   "file_extension": ".py",
   "mimetype": "text/x-python",
   "name": "python",
   "nbconvert_exporter": "python",
   "pygments_lexer": "ipython3",
   "version": "3.12.7"
  }
 },
 "nbformat": 4,
 "nbformat_minor": 5
}
