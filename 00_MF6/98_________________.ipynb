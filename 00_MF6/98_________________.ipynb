{
 "cells": [
  {
   "cell_type": "code",
   "execution_count": 1,
   "id": "304760da-8ebb-48af-9bca-9523f4ee9b34",
   "metadata": {},
   "outputs": [],
   "source": [
    "import os ; import pathlib as pl ; import pandas as pd ; import numpy as np ;  import matplotlib.pyplot as plt ; from pathlib import Path  \n",
    "from flopy.plot.styles import styles ; import shapefile as shp ; import matplotlib as mpl ; import flopy ; import flopy.utils.binaryfile as bf \n",
    "from modflow_devtools.misc import get_env, timed ; write=get_env(\"WRITE\", True);run=get_env(\"RUN\", True) ; from flopy.utils.lgrutil import Lgr \n",
    "sim_ws    = Path(\"./24it_LGR\")                       ; sim_ws.mkdir(exist_ok=True)     ; sim_name = modelname= 'ex-gwf-lgrv-gc'\n",
    "exe_name  = 'E:\\\\15_REPOS\\\\00_BETAMI\\\\bin\\\\mf6.exe'  ; workspace = figs_path = sim_ws       "
   ]
  },
  {
   "cell_type": "code",
   "execution_count": 2,
   "id": "77eaa5f1-7f0f-4e2b-b2dc-ea69fc691d21",
   "metadata": {},
   "outputs": [],
   "source": [
    "length_units = \"meters\" ; time_units = \"seconds\"    ; k11_str = \"5.e-07, 1.e-06, 5.e-05\" ; nouter = 50 ; ninner = 100 ; hclose = 1e-6 ; rclose = 100.0\n",
    "nper = 1 ;nlay = 25 ;nrow = 183 ;ncol = 147         ; nlaygc = 9 ;nrowcg = 61 ;ncolcg = 49 ;delr = 35 ;delc = 25 ;delv = 5 ;delrgc = 105 \n",
    "delcgc = 75 ;delvgc = 15 ; top_str = \"variable\"     ; botm_str = \"30 to -90\" ; icelltype = 0 ; recharge = 0.0000000011098 ;"
   ]
  },
  {
   "cell_type": "code",
   "execution_count": 3,
   "id": "49d70f68-8a8b-4c78-9dc2-7f0c3e7b1027",
   "metadata": {
    "collapsed": true,
    "jupyter": {
     "outputs_hidden": true
    }
   },
   "outputs": [
    {
     "name": "stdout",
     "output_type": "stream",
     "text": [
      "ikzone (25, 183, 147)\n"
     ]
    }
   ],
   "source": [
    "path = 'E:\\\\15_REPOS\\\\00_BETAMI\\\\bin\\\\data_modflow6-examples\\\\ex-gwf-lgrv'                 ; top = np.loadtxt(os.path.join(path,\"top.dat\"))\n",
    "dt = [(\"k\",int),(\"i\",int),(\"j\",int) ,(\"stage\",float),(\"conductance\",float),(\"rbot\",float)] ; rivdat=np.loadtxt(os.path.join(path,\"riv.dat\"), dtype=dt)\n",
    "ikzone = np.empty((nlay, nrow, ncol),dtype=float)\n",
    "for k in range(nlay):                        \n",
    "    fname = f\"ikzone{k + 1}.dat\"    ;f_ikzone = os.path.join(path, fname)                   ; ikzone[k, :, :] = np.loadtxt(f_ikzone)\n",
    "a1 = pd.DataFrame(ikzone[24,:,:]) ; a1.to_csv (sim_ws/ \"03_ikzone_xy.csv\")                  ; print('ikzone',ikzone.shape)   # 01 02 03 *.csv\n",
    "a1 = pd.DataFrame(top)    ; a1.to_csv (sim_ws/ \"01_top.csv\") ; a1 = pd.DataFrame(rivdat)    ; a1.to_csv (sim_ws/ \"02_riv.csv\")"
   ]
  },
  {
   "cell_type": "code",
   "execution_count": 5,
   "id": "f03dc865-d505-435e-8f4d-b515ec3f746c",
   "metadata": {
    "collapsed": true,
    "jupyter": {
     "outputs_hidden": true
    }
   },
   "outputs": [
    {
     "name": "stdout",
     "output_type": "stream",
     "text": [
      "parent_domain [0.0, 5145, 0.0, 4575]     child [1575.0, 4305.0, 900, 3150]     layers 25     riv_spd = 02_riv.csv\n",
      "layer_index [0] k11 (183, 147)\n"
     ]
    }
   ],
   "source": [
    "perlen = [1.0]    ; nstp = [1] ; tsmult = [1.0]             ; tdis_ds = list(zip(perlen, nstp, tsmult))\n",
    "rivdat[\"k\"] -= 1  ; rivdat[\"i\"] -= 1  ; rivdat[\"j\"] -= 1    ; riv_spd = [[(k, i, j), stage, cond, rbot] for k, i, j, stage, cond, rbot in rivdat]\n",
    "botm = [30 - k * delv for k in range(nlay)]                 ; botm = np.array(botm)\n",
    "\n",
    "k11_values = [float(value) for value in k11_str.split(\",\")] ; k11 = np.zeros((nlay, nrow, ncol), dtype=float)\n",
    "for i, kval in enumerate(k11_values):                         k11 = np.where(ikzone == i + 1, kval, k11)\n",
    "\n",
    "xmin = 0.0 ; xmax = ncol * delr          ; ymin = 0.0 ; ymax = nrow * delc   ; parent_domain = [xmin, xmax, ymin, ymax]\n",
    "child_domain = [xmin + 15 * 3 * delr   , xmin + 41 * 3 * delr                , ymax - 49 * 3 * delc,ymax - 19 * 3 * delc]    # child_domain\n",
    "print('parent_domain', parent_domain, '    child', child_domain, \"    layers\",len(botm) , '    riv_spd = 02_riv.csv')\n",
    "ncppl = [1, 3, 3, 3, 3, 3, 3, 3, 3]  ;nlayc = len(ncppl) ;layer_index = [ncppl[0] - 1] ;print('layer_index', layer_index, 'k11',k11[0].shape)\n",
    "idomainp = np.ones((nlay, nrow, ncol), dtype=int)  ; xorigin = xmin ; yorigin = ymin \n",
    "a1=pd.DataFrame(k11[20]) ;a1.to_csv(sim_ws/\"04_k11_3x.csv\")"
   ]
  },
  {
   "cell_type": "code",
   "execution_count": 6,
   "id": "b6e782fc-b106-4270-a1db-5226b28fb114",
   "metadata": {
    "collapsed": true,
    "jupyter": {
     "outputs_hidden": true
    }
   },
   "outputs": [
    {
     "name": "stdout",
     "output_type": "stream",
     "text": [
      "nlayc 9\n"
     ]
    },
    {
     "data": {
      "text/plain": [
       "array([[76.59 , 77.193, 77.795, ..., 32.582, 32.068, 31.554],\n",
       "       [76.126, 76.61 , 77.094, ..., 32.732, 32.253, 31.774],\n",
       "       [75.662, 76.027, 76.392, ..., 32.882, 32.438, 31.995],\n",
       "       ...,\n",
       "       [60.739, 62.666, 64.594, ..., 58.634, 57.358, 56.082],\n",
       "       [60.555, 63.01 , 65.465, ..., 58.837, 57.389, 55.941],\n",
       "       [60.371, 63.354, 66.337, ..., 59.04 , 57.42 , 55.8  ]])"
      ]
     },
     "execution_count": 6,
     "metadata": {},
     "output_type": "execute_result"
    }
   ],
   "source": [
    "k11_values = [float(value) for value in k11_str.split(\",\")] ; k11_values\n",
    "\n",
    "k11 = np.zeros((nlay, nrow, ncol), dtype=float)\n",
    "for i, kval in enumerate(k11_values):                k11 = np.where(ikzone == i + 1, kval, k11)  # link between ikzone\n",
    "print('nlayc',nlayc) \n",
    "top"
   ]
  },
  {
   "cell_type": "code",
   "execution_count": null,
   "id": "1f6c1bda-d133-48cb-8010-2d933963337b",
   "metadata": {},
   "outputs": [],
   "source": []
  }
 ],
 "metadata": {
  "jupytext": {
   "cell_metadata_filter": "-all"
  },
  "kernelspec": {
   "display_name": "Python 3 (ipykernel)",
   "language": "python",
   "name": "python3"
  },
  "language_info": {
   "codemirror_mode": {
    "name": "ipython",
    "version": 3
   },
   "file_extension": ".py",
   "mimetype": "text/x-python",
   "name": "python",
   "nbconvert_exporter": "python",
   "pygments_lexer": "ipython3",
   "version": "3.12.7"
  }
 },
 "nbformat": 4,
 "nbformat_minor": 5
}
