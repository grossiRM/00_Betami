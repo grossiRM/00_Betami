{
 "cells": [
  {
   "cell_type": "markdown",
   "id": "4d8d6304-cd3b-4974-9fbf-65d96461df74",
   "metadata": {},
   "source": [
    "**test**"
   ]
  },
  {
   "cell_type": "code",
   "execution_count": 1,
   "id": "304760da-8ebb-48af-9bca-9523f4ee9b34",
   "metadata": {},
   "outputs": [],
   "source": [
    "import os ; import pathlib as pl ; import pandas as pd ; import numpy as np ;  import matplotlib.pyplot as plt ; from pathlib import Path  \n",
    "from flopy.plot.styles import styles ; import shapefile as shp ; import matplotlib as mpl ; import flopy ; import flopy.utils.binaryfile as bf \n",
    "from modflow_devtools.misc import get_env, timed ; write=get_env(\"WRITE\", True);run=get_env(\"RUN\", True) ; from flopy.utils.lgrutil import Lgr \n",
    "sim_ws    = Path(\"./99_test\")                       ; sim_ws.mkdir(exist_ok=True)     ; sim_name = modelname= 'ex-gwf-lgrv-gc'\n",
    "exe_name  = 'E:\\\\15_REPOS\\\\00_BETAMI\\\\bin\\\\mf6.exe'  ; workspace = figs_path = sim_ws       "
   ]
  },
  {
   "cell_type": "code",
   "execution_count": 2,
   "id": "77eaa5f1-7f0f-4e2b-b2dc-ea69fc691d21",
   "metadata": {},
   "outputs": [],
   "source": [
    "length_units = \"meters\" ; time_units = \"seconds\"    ; k11_str = \"5.e-07, 1.e-06, 5.e-05\" ; nouter = 50 ; ninner = 100 ; hclose = 1e-6 ; rclose = 100.0\n",
    "nper = 1 ;nlay = 25 ;nrow = 183 ;ncol = 147         ; nlaygc = 9 ;nrowcg = 61 ;ncolcg = 49 ;delr = 35 ;delc = 25 ;delv = 5 ;delrgc = 105 \n",
    "delcgc = 75 ;delvgc = 15 ; top_str = \"variable\"     ; botm_str = \"30 to -90\" ; icelltype = 0 ; recharge = 0.0000000011098 ;"
   ]
  },
  {
   "cell_type": "code",
   "execution_count": 3,
   "id": "49d70f68-8a8b-4c78-9dc2-7f0c3e7b1027",
   "metadata": {},
   "outputs": [
    {
     "name": "stdout",
     "output_type": "stream",
     "text": [
      "ikzone (25, 183, 147)\n"
     ]
    }
   ],
   "source": [
    "path = 'E:\\\\15_REPOS\\\\00_BETAMI\\\\bin\\\\data_modflow6-examples\\\\ex-gwf-lgrv'                 ; top = np.loadtxt(os.path.join(path,\"top.dat\"))\n",
    "dt = [(\"k\",int),(\"i\",int),(\"j\",int) ,(\"stage\",float),(\"conductance\",float),(\"rbot\",float)] ; rivdat=np.loadtxt(os.path.join(path,\"riv.dat\"), dtype=dt)\n",
    "ikzone = np.empty((nlay, nrow, ncol),dtype=float)\n",
    "for k in range(nlay):                        \n",
    "    fname = f\"ikzone{k + 1}.dat\"    ;f_ikzone = os.path.join(path, fname)                   ; ikzone[k, :, :] = np.loadtxt(f_ikzone)\n",
    "a1 = pd.DataFrame(ikzone[24,:,:]) ; a1.to_csv (sim_ws/ \"03_ikzone_xy.csv\")                  ; print('ikzone',ikzone.shape)   # 01 02 03 *.csv\n",
    "a1 = pd.DataFrame(top)    ; a1.to_csv (sim_ws/ \"01_top.csv\") ; a1 = pd.DataFrame(rivdat)    ; a1.to_csv (sim_ws/ \"02_riv.csv\")"
   ]
  },
  {
   "cell_type": "code",
   "execution_count": 4,
   "id": "1f6c1bda-d133-48cb-8010-2d933963337b",
   "metadata": {},
   "outputs": [],
   "source": [
    "modelname = 'child' \n",
    "def build_models(name,icoarsen=1,ncppl=None,rowcolspan=None,idomain=None,sim=None,modelname=None,xorigin=None,yorigin=None):\n",
    "\n",
    "    nrowc, ncolc = coarsen_shape(icoarsen,nrow,ncol) ;delrc=delr*icoarsen ;delcc=delc*icoarsen  ; topc = array_resampler(top, icoarsen, \"mean\")\n",
    "    if rowcolspan is not None:     istart    ,istop       ,jstart    ,jstop = rowcolspan        ;    nrowc = istop-istart    ;ncolc = jstop-jstart\n",
    "    else:                          istart=0  ;istop=nrow  ;jstart=0  ;jstop = ncol\n",
    "    topc = topc[istart: istop, jstart: jstop]\n",
    "    # _______________________________________________________________________________________________________\n",
    "    if ncppl is not None:\n",
    "        nlayc = len(ncppl)         ; layer_index = [ncppl[0] - 1]\n",
    "        for iln in ncppl[1:]:\n",
    "            last = layer_index[-1] ; layer_index.append(iln + last)\n",
    "    else:\n",
    "        nlayc = nlay               ; layer_index = list(range(nlayc))\n",
    "    # _______________________________________________________________________________________________________\n",
    "    k11c = []\n",
    "    for k in range(nlayc):\n",
    "        ilay = layer_index[k]   ; a = array_resampler(k11[ilay], icoarsen, \"maximum\")  ; k11c.append(a[istart:istop, jstart:jstop])\n",
    "    strt = nlayc * [topc]       ; head_filerecord = f\"{modelname}.hds\"     ; budget_filerecord = f\"{modelname}.cbc\"  \n",
    "    # _______________________________________________________________________________________________________\n",
    "    gwf = flopy.mf6.ModflowGwf     (sim, modelname = modelname, save_flows=True)       \n",
    "    if idomain is None: idomain = 1\n",
    "    flopy.mf6.ModflowGwfdis  (gwf,length_units=length_units,nlay=nlayc,nrow=nrowc,ncol=ncolc,\n",
    "                              delr=delrc,delc=delcc,top=topc,botm=botm[layer_index],idomain=idomain,xorigin=xorigin,yorigin=yorigin)    \n",
    "    flopy.mf6.ModflowGwfnpf  (gwf,k33overk=True,icelltype=icelltype,k=k11c,save_specific_discharge=True,k33=1.0)\n",
    "    flopy.mf6.ModflowGwfic   (gwf,strt=strt);i2=gwf.dis.idomain.array ;rivdatc=riv_resample(icoarsen,nrow,ncol,rivdat,i2,rowcolspan);riv_spd={0:rivdatc}\n",
    "    flopy.mf6.ModflowGwfriv  (gwf,stress_period_data=riv_spd,pname=\"RIV\",)\n",
    "    flopy.mf6.ModflowGwfrcha (gwf, recharge=recharge, pname=\"RCH\")\n",
    "    flopy.mf6.ModflowGwfoc   (gwf,head_filerecord=head_filerecord,budget_filerecord=budget_filerecord,saverecord=[(\"HEAD\", \"ALL\"), (\"BUDGET\", \"ALL\")])\n",
    "    return sim"
   ]
  }
 ],
 "metadata": {
  "jupytext": {
   "cell_metadata_filter": "-all"
  },
  "kernelspec": {
   "display_name": "Python 3 (ipykernel)",
   "language": "python",
   "name": "python3"
  },
  "language_info": {
   "codemirror_mode": {
    "name": "ipython",
    "version": 3
   },
   "file_extension": ".py",
   "mimetype": "text/x-python",
   "name": "python",
   "nbconvert_exporter": "python",
   "pygments_lexer": "ipython3",
   "version": "3.12.7"
  }
 },
 "nbformat": 4,
 "nbformat_minor": 5
}
