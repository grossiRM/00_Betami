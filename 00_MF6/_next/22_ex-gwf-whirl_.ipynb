{
 "cells": [
  {
   "cell_type": "markdown",
   "id": "4b3fb0cd",
   "metadata": {},
   "source": [
    "## Groundwater Whirls\n",
    "\n",
    "This is a 10 layer steady-state problem involving anisotropic groundwater\n",
    "flow.  The XT3D formulation is used to represent variable hydraulic\n",
    "conductivitity ellipsoid orientations.  The resulting flow pattern consists\n",
    "of groundwater whirls, as described in the XT3D documentation report."
   ]
  },
  {
   "cell_type": "markdown",
   "id": "e7ff6078",
   "metadata": {},
   "source": [
    "### Initial setup\n",
    "\n",
    "Import dependencies, define the example name and workspace, and read settings from environment variables."
   ]
  },
  {
   "cell_type": "code",
   "execution_count": 1,
   "id": "843b0c8d",
   "metadata": {
    "execution": {
     "iopub.execute_input": "2025-02-08T12:38:20.628646Z",
     "iopub.status.busy": "2025-02-08T12:38:20.628440Z",
     "iopub.status.idle": "2025-02-08T12:38:21.455738Z",
     "shell.execute_reply": "2025-02-08T12:38:21.454750Z"
    }
   },
   "outputs": [],
   "source": [
    "import os\n",
    "import pathlib as pl\n",
    "\n",
    "import flopy\n",
    "import git\n",
    "import matplotlib.pyplot as plt\n",
    "import numpy as np\n",
    "from flopy.plot.styles import styles\n",
    "from modflow_devtools.misc import get_env, timed\n",
    "\n",
    "# Example name and workspace paths. If this example is running\n",
    "# in the git repository, use the folder structure described in\n",
    "# the README. Otherwise just use the current working directory.\n",
    "sim_name = \"ex-gwf-whirl\"\n",
    "try:\n",
    "    root = pl.Path(git.Repo(\".\", search_parent_directories=True).working_dir)\n",
    "except:\n",
    "    root = None\n",
    "workspace = root / \"examples\" if root else pl.Path.cwd()\n",
    "figs_path = root / \"figures\" if root else pl.Path.cwd()\n",
    "\n",
    "# Settings from environment variables\n",
    "write = get_env(\"WRITE\", True)\n",
    "run = get_env(\"RUN\", True)\n",
    "plot = get_env(\"PLOT\", True)\n",
    "plot_show = get_env(\"PLOT_SHOW\", True)\n",
    "plot_save = get_env(\"PLOT_SAVE\", True)"
   ]
  },
  {
   "cell_type": "markdown",
   "id": "63bd68b1",
   "metadata": {},
   "source": [
    "### Define parameters\n",
    "\n",
    "Define model units, parameters and other settings."
   ]
  },
  {
   "cell_type": "code",
   "execution_count": 2,
   "id": "7c8c2e8b",
   "metadata": {
    "execution": {
     "iopub.execute_input": "2025-02-08T12:38:21.459243Z",
     "iopub.status.busy": "2025-02-08T12:38:21.458500Z",
     "iopub.status.idle": "2025-02-08T12:38:21.468822Z",
     "shell.execute_reply": "2025-02-08T12:38:21.467965Z"
    }
   },
   "outputs": [],
   "source": [
    "# Model units\n",
    "length_units = \"meters\"\n",
    "time_units = \"days\"\n",
    "\n",
    "# Model parameters\n",
    "nper = 1  # Number of periods\n",
    "nlay = 10  # Number of layers\n",
    "nrow = 10  # Number of rows\n",
    "ncol = 51  # Number of columns\n",
    "delr = 100.0  # Spacing along rows ($m$)\n",
    "delc = 100.0  # Spacing along columns ($m$)\n",
    "top = 0.0  # Top of the model ($m$)\n",
    "botm_str = \"-100, -200, -300, -400, -500, -600, -700, -800, -900, -1000\"  # Layer bottom elevations ($m$)\n",
    "strt = 0.0  # Starting head ($m$)\n",
    "icelltype = 0  # Cell conversion type\n",
    "k11 = 1.0  # Hydraulic conductivity in the 11 direction ($m/d$)\n",
    "k22 = 0.1  # Hydraulic conductivity in the 22 direction ($m/d$)\n",
    "k33 = 1.0  # Hydraulic conductivity in the 33 direction ($m/d$)\n",
    "angle1_str = \"45, 45, 45, 45, 45, -45, -45, -45, -45, -45\"  # Rotation of the hydraulic conductivity ellipsoid in the x-y plane\n",
    "inflow_rate = 0.01  # Inflow rate ($m^3/d$)\n",
    "\n",
    "# Static temporal data used by TDIS file\n",
    "# Simulation has 1 steady stress period (1 day)\n",
    "perlen = [1.0]\n",
    "nstp = [1]\n",
    "tsmult = [1.0]\n",
    "tdis_ds = list(zip(perlen, nstp, tsmult))\n",
    "\n",
    "# Parse strings into lists\n",
    "botm = [float(value) for value in botm_str.split(\",\")]\n",
    "angle1 = [float(value) for value in angle1_str.split(\",\")]\n",
    "\n",
    "# Solver settings\n",
    "nouter = 50\n",
    "ninner = 100\n",
    "hclose = 1e-9\n",
    "rclose = 1e-6"
   ]
  },
  {
   "cell_type": "markdown",
   "id": "65c588ac",
   "metadata": {
    "lines_to_next_cell": 2
   },
   "source": [
    "### Model setup\n",
    "\n",
    "Define functions to build models, write input files, and run the simulation."
   ]
  },
  {
   "cell_type": "code",
   "execution_count": 3,
   "id": "0c1689f0",
   "metadata": {
    "execution": {
     "iopub.execute_input": "2025-02-08T12:38:21.471501Z",
     "iopub.status.busy": "2025-02-08T12:38:21.470973Z",
     "iopub.status.idle": "2025-02-08T12:38:21.482381Z",
     "shell.execute_reply": "2025-02-08T12:38:21.481566Z"
    }
   },
   "outputs": [],
   "source": [
    "def build_models():\n",
    "    sim_ws = os.path.join(workspace, sim_name)\n",
    "    sim = flopy.mf6.MFSimulation(sim_name=sim_name, sim_ws=sim_ws, exe_name=\"mf6\")\n",
    "    flopy.mf6.ModflowTdis(sim, nper=nper, perioddata=tdis_ds, time_units=time_units)\n",
    "    flopy.mf6.ModflowIms(\n",
    "        sim,\n",
    "        linear_acceleration=\"bicgstab\",\n",
    "        outer_maximum=nouter,\n",
    "        outer_dvclose=hclose,\n",
    "        inner_maximum=ninner,\n",
    "        inner_dvclose=hclose,\n",
    "        rcloserecord=f\"{rclose} strict\",\n",
    "    )\n",
    "    gwf = flopy.mf6.ModflowGwf(sim, modelname=sim_name, save_flows=True)\n",
    "    flopy.mf6.ModflowGwfdis(\n",
    "        gwf,\n",
    "        length_units=length_units,\n",
    "        nlay=nlay,\n",
    "        nrow=nrow,\n",
    "        ncol=ncol,\n",
    "        delr=delr,\n",
    "        delc=delc,\n",
    "        top=top,\n",
    "        botm=botm,\n",
    "    )\n",
    "    flopy.mf6.ModflowGwfnpf(\n",
    "        gwf,\n",
    "        icelltype=icelltype,\n",
    "        k=k11,\n",
    "        k22=k22,\n",
    "        k33=k33,\n",
    "        angle1=angle1,\n",
    "        save_specific_discharge=True,\n",
    "        xt3doptions=True,\n",
    "    )\n",
    "    flopy.mf6.ModflowGwfic(gwf, strt=strt)\n",
    "    rate = np.zeros((nlay, nrow, ncol), dtype=float)\n",
    "    rate[:, :, 0] = inflow_rate\n",
    "    rate[:, :, -1] = -inflow_rate\n",
    "    wellay, welrow, welcol = np.where(rate != 0.0)\n",
    "    wel_spd = [((k, i, j), rate[k, i, j]) for k, i, j in zip(wellay, welrow, welcol)]\n",
    "    wel_spd = {0: wel_spd}\n",
    "    flopy.mf6.ModflowGwfwel(\n",
    "        gwf,\n",
    "        stress_period_data=wel_spd,\n",
    "        pname=\"WEL\",\n",
    "    )\n",
    "    head_filerecord = f\"{sim_name}.hds\"\n",
    "    budget_filerecord = f\"{sim_name}.cbc\"\n",
    "    flopy.mf6.ModflowGwfoc(\n",
    "        gwf,\n",
    "        head_filerecord=head_filerecord,\n",
    "        budget_filerecord=budget_filerecord,\n",
    "        saverecord=[(\"HEAD\", \"ALL\"), (\"BUDGET\", \"ALL\")],\n",
    "    )\n",
    "    return sim\n",
    "\n",
    "\n",
    "def write_models(sim, silent=True):\n",
    "    sim.write_simulation(silent=silent)\n",
    "\n",
    "\n",
    "@timed\n",
    "def run_models(sim, silent=False):\n",
    "    success, buff = sim.run_simulation(silent=silent, report=True)\n",
    "    assert success, buff"
   ]
  },
  {
   "cell_type": "markdown",
   "id": "4e29dfb8",
   "metadata": {},
   "source": [
    "### Plotting results\n",
    "\n",
    "Define functions to plot model results."
   ]
  },
  {
   "cell_type": "code",
   "execution_count": 4,
   "id": "510828a5",
   "metadata": {
    "execution": {
     "iopub.execute_input": "2025-02-08T12:38:21.484566Z",
     "iopub.status.busy": "2025-02-08T12:38:21.484201Z",
     "iopub.status.idle": "2025-02-08T12:38:21.490291Z",
     "shell.execute_reply": "2025-02-08T12:38:21.489664Z"
    },
    "lines_to_end_of_cell_marker": 2
   },
   "outputs": [],
   "source": [
    "# Figure properties\n",
    "figure_size = (3.5, 3.5)\n",
    "\n",
    "\n",
    "def plot_spdis(sim):\n",
    "    with styles.USGSMap():\n",
    "        gwf = sim.get_model(sim_name)\n",
    "\n",
    "        fig = plt.figure(figsize=figure_size)\n",
    "        fig.tight_layout()\n",
    "\n",
    "        # create MODFLOW 6 cell-by-cell budget object\n",
    "        qx, qy, qz = flopy.utils.postprocessing.get_specific_discharge(\n",
    "            gwf.output.budget().get_data(text=\"DATA-SPDIS\", totim=1.0)[0], gwf\n",
    "        )\n",
    "\n",
    "        ax = fig.add_subplot(1, 1, 1)\n",
    "        pxs = flopy.plot.PlotCrossSection(model=gwf, ax=ax, line={\"column\": 0})\n",
    "        pxs.plot_grid(linewidth=0.5)\n",
    "        pxs.plot_vector(qx, qy, qz, normalize=True)\n",
    "        ax.set_xlabel(\"y position (m)\")\n",
    "        ax.set_ylabel(\"z position (m)\")\n",
    "\n",
    "        if plot_show:\n",
    "            plt.show()\n",
    "        if plot_save:\n",
    "            fpth = figs_path / f\"{sim_name}-spdis.png\"\n",
    "            fig.savefig(fpth)\n",
    "\n",
    "\n",
    "def plot_results(sim, silent=True):\n",
    "    plot_spdis(sim)"
   ]
  },
  {
   "cell_type": "markdown",
   "id": "9b3d375c",
   "metadata": {
    "lines_to_next_cell": 2
   },
   "source": [
    "### Running the example\n",
    "\n",
    "Define and invoke a function to run the example scenario, then plot results."
   ]
  },
  {
   "cell_type": "code",
   "execution_count": 5,
   "id": "4c76b179",
   "metadata": {
    "execution": {
     "iopub.execute_input": "2025-02-08T12:38:21.492470Z",
     "iopub.status.busy": "2025-02-08T12:38:21.492107Z",
     "iopub.status.idle": "2025-02-08T12:38:22.110013Z",
     "shell.execute_reply": "2025-02-08T12:38:22.109156Z"
    }
   },
   "outputs": [
    {
     "name": "stdout",
     "output_type": "stream",
     "text": [
      "<flopy.mf6.data.mfstructure.MFDataItemStructure object at 0x7f472734c1f0>\n"
     ]
    },
    {
     "name": "stdout",
     "output_type": "stream",
     "text": [
      "run_models took 171.64 ms\n"
     ]
    },
    {
     "data": {
      "image/png": "[encoded data removed]",
      "text/plain": [
       "<Figure size 350x350 with 1 Axes>"
      ]
     },
     "metadata": {},
     "output_type": "display_data"
    }
   ],
   "source": [
    "def scenario(idx, silent=True):\n",
    "    sim = build_models()\n",
    "    if write:\n",
    "        write_models(sim, silent=silent)\n",
    "    if run:\n",
    "        run_models(sim, silent=silent)\n",
    "    if plot:\n",
    "        plot_results(sim, silent=silent)\n",
    "\n",
    "\n",
    "# Simulated heads in the Whirl model with anisotropy in x direction.\n",
    "scenario(0)"
   ]
  }
 ],
 "metadata": {
  "jupytext": {
   "cell_metadata_filter": "-all"
  },
  "kernelspec": {
   "display_name": "python_kernel",
   "language": "python",
   "name": "python_kernel"
  },
  "language_info": {
   "codemirror_mode": {
    "name": "ipython",
    "version": 3
   },
   "file_extension": ".py",
   "mimetype": "text/x-python",
   "name": "python",
   "nbconvert_exporter": "python",
   "pygments_lexer": "ipython3",
   "version": "3.9.21"
  }
 },
 "nbformat": 4,
 "nbformat_minor": 5
}
