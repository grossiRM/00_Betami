{
 "cells": [
  {
   "cell_type": "markdown",
   "id": "a14a1ae7",
   "metadata": {},
   "source": [
    "**18_MAW_iii**"
   ]
  },
  {
   "cell_type": "code",
   "execution_count": 1,
   "id": "f02db72e-b62c-4085-b6ed-96172df8c3e3",
   "metadata": {},
   "outputs": [],
   "source": [
    "import os ; import pathlib as pl ; import flopy ; import matplotlib.pyplot as plt ; import numpy as np; from pathlib import Path  \n",
    "from flopy.plot.styles import styles ; import shapefile as shp ; import matplotlib as mpl ; import pandas as pd  "
   ]
  },
  {
   "cell_type": "code",
   "execution_count": 2,
   "id": "f8390f8d-69ce-44fa-ab27-7581387a8e1c",
   "metadata": {},
   "outputs": [],
   "source": [
    "sim_ws    = Path(\"./18_MAW_iii\")                    ; sim_ws.mkdir(exist_ok=True) ; sim_name = \"ex-gwf-maw-p03\"   ; name = 'mult'   \n",
    "exe_name  = 'E:\\\\15_REPOS\\\\00_BETAMI\\\\bin\\\\mf6.exe' ; workspace = figs_path = sim_ws ; gwf_name = sim_name ; output_folder = sim_ws   "
   ]
  },
  {
   "cell_type": "code",
   "execution_count": 3,
   "id": "cabae2f5-ad8a-4655-8922-53968783a5ac",
   "metadata": {},
   "outputs": [],
   "source": [
    "nper = 1 ;  nlay_r = 21 ;nrow_r = 1 ;ncol_r = 200   ; maw_highK = 1000000000 ;nouter = 500 ;ninner = 100 ;hclose = 0.000000001 ;rclose = 0.0001\n",
    "strt = 10 ; nlay = 41   ;nrow = 16  ;ncol = 27 ;delr_r = 50 ;delc_r = 1 ;top = 10 ;aq_bottom = -205 ; k11 = 250 ;k33 = 50 ;recharge = 0.004566 \n",
    "H1 = 0 ;maw_loc = (15,13) ;maw_lay = (1,12) ;maw_radius = 0.1333 ;maw_bot = -65   ; length_units = \"feet\" ; time_units = \"days\" \n",
    "\n",
    "delr = [10.0 ,10.0 ,9.002 ,6.0 ,4.0 ,3.0 ,2.0 ,1.33 ,1.25 ,1.00 ,1.00 ,0.75 ,0.50 ,0.333 ,0.50 ,0.75 ,1.00 ,1.00 ,1.25 ,1.333 ,\n",
    "        2.0 ,3.0 ,4.0 ,6.0 ,9.002 ,10.0 ,10.0]      ; delc = [10, 9.38, 9, 6, 4, 3, 2, 1.33, 1.25, 1, 1, 0.75, 0.5, 0.3735, 0.25, 0.1665]\n",
    "tdis_ds = ((1.0, 1, 1.0),) ; extents = (0.0, np.array(delr).sum(), 0.0, np.array(delc).sum())         ;shape2d=(nrow,ncol);shape3d=(nlay,nrow,ncol)\n",
    "nconn = 2 + 3 * (maw_lay[1] - maw_lay[0] + 1)       ; maw_packagedata = [[0, maw_radius, maw_bot, strt, \"SPECIFIED\", nconn]]\n",
    "np.savetxt(output_folder / \"01_maw_packagedata.csv\" , maw_packagedata, fmt =\"%s\", delimiter=\",\") \n",
    "np.savetxt(output_folder / \"03_delr.csv\", delr, delimiter=\",\") ;np.savetxt(output_folder / \"04_delc.csv\", delc, delimiter=\",\")    # delr delc"
   ]
  },
  {
   "cell_type": "code",
   "execution_count": 4,
   "id": "7e6bf570-1468-45e0-a4ed-bc76afa35b81",
   "metadata": {},
   "outputs": [],
   "source": [
    "i, j = maw_loc  ; obs_elev = {}   ; maw_conn = []   \n",
    "for k in range(maw_lay[0], maw_lay[1] + 1, 1):       \n",
    "    maw_obs = [[\"H0\", \"HEAD\", (0,)]]    ; iconn = 0  ; z = -5.0        \n",
    "\n",
    "def calc_cond(area, l1, l2, k1, k2):\n",
    "    c1 = area * k1/l1     ; c2 = area * k2 / l2 ;     return c1 * c2/(c1 + c2)\n",
    "for k in range(maw_lay[0], maw_lay[1] + 1, 1):   \n",
    "    if k == maw_lay[0]:\n",
    "        area=delc[i]*delr[j]  ;l1=2.5;l2=2.5           ;cond=calc_cond(area,l1,l2,k33,maw_highK)  ;maw_conn.append([0,iconn,k-1,i,j ,top,maw_bot,cond,-999.0])        \n",
    "        tag = f\"Q{iconn:02d}\" ;obs_elev[tag] = z       ;maw_obs.append([tag, \"maw\", (0,), (iconn,)])       ;iconn += 1              ;z -= 2.5 \n",
    "    area=delc[i]*5.0 ;l1=0.5*delr[j] ;l2=0.5*delr[j-1] ;cond=calc_cond(area,l1,l2,maw_highK,k11)  ;maw_conn.append([0,iconn,k,i,j-1 ,top,maw_bot,cond,-999.0]) \n",
    "    tag = f\"Q{iconn:02d}\"     ;obs_elev[tag] = z       ;maw_obs.append([tag, \"maw\", (0,), (iconn,)])       ;iconn += 1              \n",
    "    area=delr[j]*5.0 ;l1=0.5*delc[i] ;l2=0.5*delc[i-1] ;cond=calc_cond(area,l1,l2,maw_highK,k11)  ;maw_conn.append([0,iconn,k,i-1,j ,top,maw_bot,cond,-999.0]) \n",
    "    tag=f\"Q{iconn:02d}\"       ;obs_elev[tag] = z       ;maw_obs.append([tag,\"maw\",(0,),(iconn,)])          ;iconn+=1\n",
    "    area=delc[i]*5.0 ;l1=0.5*delr[j] ;l2=0.5*delr[j+1] ;cond=calc_cond(area,l1,l2,maw_highK,k11)  ;maw_conn.append([0,iconn,k,i,j+1 ,top,maw_bot,cond,-999.0]) \n",
    "    tag=f\"Q{iconn:02d}\"       ;obs_elev[tag] = z       ;maw_obs.append([tag,\"maw\",(0,),(iconn,)])          ;iconn+=1                ;z-=5.0\n",
    "    if k == maw_lay[1]:\n",
    "        z += 2.5 ; area=delc[i]*delr[j] ;l1=2.5 ;l2=2.5 ;cond=calc_cond(area,l1,l2,maw_highK,k33) ;maw_conn.append([0,iconn,k+1,i,j ,top,maw_bot,cond,-999.0]) \n",
    "        tag=f\"Q{iconn:02d}\"   ; obs_elev[tag]=z        ;maw_obs.append([tag,\"maw\",(0,),(iconn,)])          ;iconn+=1\n",
    "        \n",
    "obs_dict2 = maw_obs                                    ;ab=pd.DataFrame(obs_dict2) ; ab.to_csv(output_folder/\"06_obs_dict.csv\") \n",
    "np.savetxt(output_folder / \"02_maw_conn.csv\", maw_conn ,delimiter=\",\") "
   ]
  },
  {
   "cell_type": "code",
   "execution_count": 5,
   "id": "44898372-6d11-4dff-8221-4d5a0e58be1c",
   "metadata": {},
   "outputs": [
    {
     "name": "stdout",
     "output_type": "stream",
     "text": [
      "regional heads (21, 1, 200)\n"
     ]
    }
   ],
   "source": [
    "aux_ws = Path(\"./_aux\") ; pth = '14'; fpth = os.path.join(aux_ws, pth, '14_reg_ex-gwf-maw-p03.hds')\n",
    "h = flopy.utils.HeadFile(fpth).get_data()\n",
    "f1 = 0.5 * (delr_r + delr[0]) / delc_r           ; f2 = 0.5 * (delr_r + delr[-1]) / delc_r\n",
    "regional_range = [k for k in range(nlay_r)]      ; local_range = [[0]] + [[k, k + 1] for k in range(1, nlay, 2)]    ; chd_spd = []\n",
    "for kr, kl in zip(regional_range, local_range):\n",
    "    h1 = h[kr ,0 ,0]   ;h2=h[kr ,0 ,1]           ; hi1=h1+f1*(h2-h1);h1=h[kr ,0 ,2]             ; h2=h[kr ,0 ,3] ; hi2=h1+f2*(h2-h1)\n",
    "    for k in kl:\n",
    "        for il in range(nrow):     chd_spd.append([k, il, 0, hi1])                              ; chd_spd.append([k, il, ncol - 1, hi2])\n",
    "chd_spd2 = pd.DataFrame(chd_spd) ; chd_spd2.to_csv (sim_ws/ \"07_chd_spd.csv\")                   ; print('regional heads', h.shape)         # !!"
   ]
  },
  {
   "cell_type": "code",
   "execution_count": 6,
   "id": "56de12b4-766c-49fd-9d23-abd4c03ba32b",
   "metadata": {},
   "outputs": [],
   "source": [
    "botm = np.arange(-5, aq_bottom - 5.0, -5.0)  ; icelltype2 = [1] + [0 for k in range(1, nlay)]   ; i, j = maw_loc\n",
    "k11_sim = k11          ; k33_sim = k33   ; idomain = np.ones(shape3d, dtype=float)\n",
    "for k in range(maw_lay[0], maw_lay[1] + 1, 1): idomain[k, i, j] = 0    ;sa=pd.DataFrame(idomain[0,:,:]);sa.to_csv(output_folder/\"05_idomain.csv\") "
   ]
  },
  {
   "cell_type": "code",
   "execution_count": 7,
   "id": "0dad13d5",
   "metadata": {},
   "outputs": [
    {
     "name": "stdout",
     "output_type": "stream",
     "text": [
      "<flopy.mf6.data.mfstructure.MFDataItemStructure object at 0x0000020ED72059D0>\n"
     ]
    },
    {
     "data": {
      "text/plain": [
       "(True, [])"
      ]
     },
     "execution_count": 7,
     "metadata": {},
     "output_type": "execute_result"
    }
   ],
   "source": [
    "obs_file = f\"{sim_name}.maw.obs\"      ; csv_file = obs_file +\".csv\"            ; obs_dict = { csv_file: maw_obs}       \n",
    "head_filerecord = f\"{sim_name}.hds\"   ; budget_filerecord=f\"{sim_name}.cbc\"   \n",
    "csv_file = obs_file+\".csv\"          # ; obsdict = {csv_file:gwf_obs} \n",
    "\n",
    "sim = flopy.mf6.MFSimulation (sim_name=sim_name, sim_ws=sim_ws, exe_name=\"mf6\")\n",
    "flopy.mf6.ModflowTdis (sim, nper=nper, perioddata=tdis_ds, time_units=time_units)\n",
    "flopy.mf6.ModflowIms  (sim,print_option=\"summary\",outer_maximum=nouter,outer_dvclose=hclose,\n",
    "                       inner_maximum=ninner,inner_dvclose=hclose,rcloserecord=f\"{rclose} strict\")\n",
    "gwf = flopy.mf6.ModflowGwf   (sim, modelname=sim_name, save_flows=True)\n",
    "flopy.mf6.ModflowGwfdis   (gwf,length_units=length_units,nlay=nlay,nrow=nrow,ncol=ncol,delr=delr,delc=delc,top=top,botm=botm,idomain=idomain)\n",
    "flopy.mf6.ModflowGwfnpf   (gwf,icelltype=icelltype2, k=k11_sim, k33=k33_sim, save_specific_discharge=True)\n",
    "flopy.mf6.ModflowGwfic    (gwf, strt=strt)\n",
    "flopy.mf6.ModflowGwfchd   (gwf, stress_period_data=chd_spd)\n",
    "flopy.mf6.ModflowGwfrcha  (gwf, recharge=recharge)\n",
    "maw = flopy.mf6.ModflowGwfmaw (gwf ,no_well_storage=True ,nmawwells=1   , packagedata = maw_packagedata    ,connectiondata=maw_conn)\n",
    "maw.obs.initialize            (filename = obs_file ,digits = 10 ,print_input=True    , continuous  = obs_dict)\n",
    "#flopy.mf6.ModflowUtlobs       (gwf ,filename = obs_file ,print_input=False    , continuous  = obsdict)           # err ?\n",
    "flopy.mf6.ModflowGwfoc    (gwf ,head_filerecord=head_filerecord ,budget_filerecord=budget_filerecord ,\n",
    "                           saverecord=[(\"HEAD\" ,\"LAST\") ,(\"BUDGET\" ,\"LAST\")] ,printrecord=[(\"BUDGET\" ,\"LAST\")])\n",
    "sim.write_simulation(silent=True)  ; sim.run_simulation(silent=True)"
   ]
  },
  {
   "cell_type": "code",
   "execution_count": 8,
   "id": "a147ce51-5086-4e90-bc86-a56f4c6d5a23",
   "metadata": {},
   "outputs": [
    {
     "data": {
      "text/html": [
       "<div>\n",
       "<style scoped>\n",
       "    .dataframe tbody tr th:only-of-type {\n",
       "        vertical-align: middle;\n",
       "    }\n",
       "\n",
       "    .dataframe tbody tr th {\n",
       "        vertical-align: top;\n",
       "    }\n",
       "\n",
       "    .dataframe thead th {\n",
       "        text-align: right;\n",
       "    }\n",
       "</style>\n",
       "<table border=\"1\" class=\"dataframe\">\n",
       "  <thead>\n",
       "    <tr style=\"text-align: right;\">\n",
       "      <th></th>\n",
       "      <th>0</th>\n",
       "    </tr>\n",
       "  </thead>\n",
       "  <tbody>\n",
       "    <tr>\n",
       "      <th>time</th>\n",
       "      <td>1.000000</td>\n",
       "    </tr>\n",
       "    <tr>\n",
       "      <th>H0</th>\n",
       "      <td>4.925854</td>\n",
       "    </tr>\n",
       "    <tr>\n",
       "      <th>Q00</th>\n",
       "      <td>0.002057</td>\n",
       "    </tr>\n",
       "    <tr>\n",
       "      <th>Q01</th>\n",
       "      <td>0.427359</td>\n",
       "    </tr>\n",
       "    <tr>\n",
       "      <th>Q02</th>\n",
       "      <td>0.872791</td>\n",
       "    </tr>\n",
       "  </tbody>\n",
       "</table>\n",
       "</div>"
      ],
      "text/plain": [
       "             0\n",
       "time  1.000000\n",
       "H0    4.925854\n",
       "Q00   0.002057\n",
       "Q01   0.427359\n",
       "Q02   0.872791"
      ]
     },
     "execution_count": 8,
     "metadata": {},
     "output_type": "execute_result"
    }
   ],
   "source": [
    "maw_B = pd.read_csv(sim_ws / 'ex-gwf-maw-p03.maw.obs.csv') ;maw_C= maw_B.T; maw_C.head()"
   ]
  },
  {
   "cell_type": "code",
   "execution_count": 9,
   "id": "2fc13c6c-7199-403f-9f30-843e3ccef5a2",
   "metadata": {},
   "outputs": [
    {
     "name": "stdout",
     "output_type": "stream",
     "text": [
      "extents (0.0, 99.99999999999999, 0.0, 50.0)\n"
     ]
    }
   ],
   "source": [
    "sim = flopy.mf6.MFSimulation.load(sim_ws = sim_ws ,exe_name = exe_name ,verbosity_level = 0)  \n",
    "gwf = sim.get_model(sim_name); extents = gwf.modelgrid.extent ; print('extents',extents)  ; #gwf.dtype.names\n",
    "fpth = os.path.join(workspace, f\"{sim_name}.maw.obs.csv\")  ; maw = flopy.utils.Mf6Obs(fpth).data; "
   ]
  },
  {
   "cell_type": "code",
   "execution_count": 10,
   "id": "18600f18-c92d-4dab-93fe-350c5575feba",
   "metadata": {},
   "outputs": [
    {
     "data": {
      "image/png": "[encoded data removed]",
      "text/plain": [
       "<Figure size 400x400 with 1 Axes>"
      ]
     },
     "metadata": {},
     "output_type": "display_data"
    }
   ],
   "source": [
    "zelev = sorted(list(set(list(obs_elev.values()))), reverse=True)  ; results = {\"maw\": {}}\n",
    "for z in zelev: results[\"maw\"][z] = 0.0\n",
    "for name in maw.dtype.names:\n",
    "    if name.startswith(\"Q\"):\n",
    "        z = obs_elev[name]  ; results[\"maw\"][z] += 2.0 * maw[name]\n",
    "        \n",
    "q0 = np.array(list(results[\"maw\"].values()))\n",
    "fig, ax = plt.subplots(ncols=1, nrows=1, sharex=True, figsize=(4, 4), constrained_layout=True)\n",
    "ax.set_xlim(-3.5, 3.5) ; ax.set_ylim(-67.5, -2.5) ; ax.axvline(0, lw=0.5, ls=\":\", color=\"0.5\")\n",
    "for z in np.arange(-5, -70, -5):\n",
    "    ax.axhline(z, lw=0.5, color=\"0.5\")\n",
    "ax.plot(results[\"maw\"].values(),zelev, lw=0.75, ls=\"-\",color=\"blue\", label=\"Multi-aquifer well\")   \n",
    "ax.plot(-1000, -1000,                  lw=0.5, ls=\"-\" , color=\"0.5\", label=\"Grid cell\") ; styles.graph_legend(ax, loc=\"center\", ncol=3)\n",
    "ax.set_xlabel(\"Discharge rate, ft3/day\")              ; ax.set_ylabel(\"Elevation (ft)\")   ; plt.show()"
   ]
  },
  {
   "cell_type": "code",
   "execution_count": null,
   "id": "104709b5-77dc-43c5-9232-4beb6eb2d683",
   "metadata": {},
   "outputs": [],
   "source": []
  },
  {
   "cell_type": "code",
   "execution_count": null,
   "id": "ed632433-2597-47b1-910e-6b04e0e28d44",
   "metadata": {},
   "outputs": [],
   "source": []
  }
 ],
 "metadata": {
  "jupytext": {
   "cell_metadata_filter": "-all"
  },
  "kernelspec": {
   "display_name": "Python 3 (ipykernel)",
   "language": "python",
   "name": "python3"
  },
  "language_info": {
   "codemirror_mode": {
    "name": "ipython",
    "version": 3
   },
   "file_extension": ".py",
   "mimetype": "text/x-python",
   "name": "python",
   "nbconvert_exporter": "python",
   "pygments_lexer": "ipython3",
   "version": "3.12.7"
  }
 },
 "nbformat": 4,
 "nbformat_minor": 5
}
