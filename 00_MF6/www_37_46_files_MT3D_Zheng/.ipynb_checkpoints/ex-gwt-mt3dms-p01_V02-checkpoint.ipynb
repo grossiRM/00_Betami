{
 "cells": [
  {
   "cell_type": "markdown",
   "id": "e80ed7ff-2d6e-497f-a4b3-3230fa3e55b7",
   "metadata": {},
   "source": [
    "## **MF6, 1D, SIM_WS**"
   ]
  },
  {
   "cell_type": "code",
   "execution_count": 1,
   "id": "4b085040-cc9d-4355-af88-e574a09b27af",
   "metadata": {
    "jupyter": {
     "source_hidden": true
    }
   },
   "outputs": [],
   "source": [
    "import os ; import pathlib as pl ; from pprint import pformat ; import flopy ; import git ; import matplotlib.pyplot as plt\n",
    "import numpy as np; from flopy.plot.styles import styles ; import pathlib\n",
    "import modflow_devtools.misc \n",
    "from modflow_devtools.misc import get_env, timed    # pip install modflow_devtools\n",
    "write = get_env(\"WRITE\", True) ; run = get_env(\"RUN\", True) ;  plot = get_env(\"PLOT\", True)\n",
    "plot_show = get_env(\"PLOT_SHOW\", True) ; plot_save = get_env(\"PLOT_SAVE\", True)"
   ]
  },
  {
   "cell_type": "code",
   "execution_count": 2,
   "id": "ce51beea-36d1-4745-9da9-14f6e3fe068a",
   "metadata": {
    "jupyter": {
     "source_hidden": true
    }
   },
   "outputs": [
    {
     "name": "stdout",
     "output_type": "stream",
     "text": [
      "E:\\15_REPOS\\00_BETAMI\\w10_______others\\02_MT3D\n"
     ]
    }
   ],
   "source": [
    "parameters = {\"ex-gwt-mt3dms-p01a\": {\"dispersivity\": 0.0,\"retardation\": 1.0,\"decay\": 0.0,},\n",
    "              \"ex-gwt-mt3dms-p01b\": {\"dispersivity\": 10.0,\"retardation\": 1.0,\"decay\": 0.0,},\n",
    "              \"ex-gwt-mt3dms-p01c\": {\"dispersivity\": 10.0,\"retardation\": 5.0,\"decay\": 0.0,},\n",
    "              \"ex-gwt-mt3dms-p01d\": {\"dispersivity\": 10.0,\"retardation\": 5.0,\"decay\": 0.002,},}\n",
    "\n",
    "parameter_units = {\"dispersivity\": \"$m$\",\"retardation\": \"unitless\",\"decay\": \"$d^{-1}$\",}  ; length_units = \"meters\" ; time_units = \"days\"\n",
    "exe_name_mt = 'E:\\\\15_REPOS\\\\00_BETAMI\\\\w10_______others\\\\bin\\\\mt3d-usgs_1.1.0_64'\n",
    "exe_name_mu = 'E:\\\\15_REPOS\\\\00_BETAMI\\\\w10_______others\\\\bin\\\\mf6'\n",
    "current_directory = os.getcwd();  print(current_directory)"
   ]
  },
  {
   "cell_type": "code",
   "execution_count": 3,
   "id": "2fce0087-c9f5-4199-a731-359afaa30cde",
   "metadata": {},
   "outputs": [],
   "source": [
    "path = pathlib.Path('E:\\\\15_REPOS\\\\00_BETAMI\\\\w10_______others\\\\02_MT3D')\n",
    "path.mkdir(parents=True, exist_ok=True); os.chdir(path); current_directory = os.getcwd()\n",
    "directory_name = 'A_p01_Beta_V02'    ; workspace = os.path.join('.', directory_name)\n",
    "if os.path.isdir(workspace) is False:\n",
    "    os.mkdir(workspace) "
   ]
  },
  {
   "cell_type": "code",
   "execution_count": 7,
   "id": "4d3f6740-8d67-4589-ad42-e9ee123d936e",
   "metadata": {},
   "outputs": [],
   "source": [
    "nper = 1    ; nlay = 1     ; ncol = 101      ; nrow = 1      ; delr = 10.0  ; delc = 1.0  \n",
    "top  = 0.0  ; botm = -1.0  ; prsity = 0.25   ; perlen = 2000 ; k11 = 1.0    ; k33 = k11 \n",
    "laytyp = 1  ; nstp = 100.0 ; dt0 = perlen / nstp  ; Lx = (ncol - 1) * delr  ; v = 0.24  ; q = v * prsity   ; h1 = q * Lx\n",
    "\n",
    "strt   = np.zeros((nlay, nrow, ncol), dtype=float)  ; strt[0, 0, 0] = h1    ;  l = 1000.0             ; icelltype = 1  # (l) Needed for plots\n",
    "ibound = np.ones ((nlay, nrow, ncol), dtype=int)    ; ibound[0, 0, 0] = -1  ;  ibound[0, 0, -1] = -1  ; mixelm = 0 ;    rhob = 0.25 ; sp2 = 0.0  \n",
    "sconc = np.zeros ((nlay, nrow, ncol), dtype=float)  ; dmcoef = 0.0          ; nouter, ninner = 100, 300                                  \n",
    "\n",
    "hclose, rclose, relax = 1e-6, 1e-6, 1.0       ; ttsmult = 1.0 ; dceps = 1.0e-5  ; nplane = 1  ; npl = 0  ; nph = 4  ; npmin = 0  # HMOC\n",
    "npmax = 8  ; nlsink = nplane  ; npsink = nph  ; tdis_rc = []                                              \n",
    "\n",
    "tdis_rc.append((perlen, nstp, 1.0))  ; chdspd = [[(0, 0, 0), h1], [(0, 0, ncol - 1), 0.0]] ; c0 = 1.0 ; cncspd = [[(0, 0, 0), c0]]\n",
    "\n",
    "c0 = 1.0\n",
    "icbund = np.ones((nlay, nrow, ncol), dtype=int)      ; icbund [0, 0, 0] = -1\n",
    "sconc = np.zeros((nlay, nrow, ncol), dtype=float)    ; sconc  [0, 0, 0] = c0"
   ]
  },
  {
   "cell_type": "code",
   "execution_count": 6,
   "id": "a6a639b7",
   "metadata": {},
   "outputs": [
    {
     "name": "stderr",
     "output_type": "stream",
     "text": [
      "C:\\Users\\gross.DESKTOP-AIRQM2M\\anaconda3\\Lib\\site-packages\\executing\\executing.py:713: DeprecationWarning: ast.Str is deprecated and will be removed in Python 3.14; use ast.Constant instead\n",
      "  right=ast.Str(s=sentinel),\n",
      "C:\\Users\\gross.DESKTOP-AIRQM2M\\anaconda3\\Lib\\ast.py:587: DeprecationWarning: Attribute s is deprecated and will be removed in Python 3.14; use value instead\n",
      "  return Constant(*args, **kwargs)\n"
     ]
    },
    {
     "ename": "NameError",
     "evalue": "name 'sim_name' is not defined",
     "output_type": "error",
     "traceback": [
      "\u001b[1;31m---------------------------------------------------------------------------\u001b[0m",
      "\u001b[1;31mNameError\u001b[0m                                 Traceback (most recent call last)",
      "Cell \u001b[1;32mIn[6], line 5\u001b[0m\n\u001b[0;32m      2\u001b[0m icbund \u001b[38;5;241m=\u001b[39m np\u001b[38;5;241m.\u001b[39mones((nlay, nrow, ncol), dtype\u001b[38;5;241m=\u001b[39m\u001b[38;5;28mint\u001b[39m)      ; icbund [\u001b[38;5;241m0\u001b[39m, \u001b[38;5;241m0\u001b[39m, \u001b[38;5;241m0\u001b[39m] \u001b[38;5;241m=\u001b[39m \u001b[38;5;241m-\u001b[39m\u001b[38;5;241m1\u001b[39m\n\u001b[0;32m      3\u001b[0m sconc \u001b[38;5;241m=\u001b[39m np\u001b[38;5;241m.\u001b[39mzeros((nlay, nrow, ncol), dtype\u001b[38;5;241m=\u001b[39m\u001b[38;5;28mfloat\u001b[39m)    ; sconc  [\u001b[38;5;241m0\u001b[39m, \u001b[38;5;241m0\u001b[39m, \u001b[38;5;241m0\u001b[39m] \u001b[38;5;241m=\u001b[39m c0\n\u001b[1;32m----> 5\u001b[0m name   \u001b[38;5;241m=\u001b[39m \u001b[38;5;124m\"\u001b[39m\u001b[38;5;124mp01-mf6\u001b[39m\u001b[38;5;124m\"\u001b[39m              ; gwfname \u001b[38;5;241m=\u001b[39m \u001b[38;5;124m\"\u001b[39m\u001b[38;5;124mgwf-\u001b[39m\u001b[38;5;124m\"\u001b[39m \u001b[38;5;241m+\u001b[39m name      ;     sim_ws \u001b[38;5;241m=\u001b[39m os\u001b[38;5;241m.\u001b[39mpath\u001b[38;5;241m.\u001b[39mjoin(workspace, sim_name)   \u001b[38;5;66;03m# ____ MODFLOW 6 _______\u001b[39;00m\n\u001b[0;32m      6\u001b[0m sim    \u001b[38;5;241m=\u001b[39m flopy\u001b[38;5;241m.\u001b[39mmf6\u001b[38;5;241m.\u001b[39mMFSimulation(sim_name\u001b[38;5;241m=\u001b[39mname, sim_ws\u001b[38;5;241m=\u001b[39msim_ws, exe_name\u001b[38;5;241m=\u001b[39mexe_name_mu)\n\u001b[0;32m      7\u001b[0m tdis   \u001b[38;5;241m=\u001b[39m flopy\u001b[38;5;241m.\u001b[39mmf6\u001b[38;5;241m.\u001b[39mModflowTdis(sim, nper\u001b[38;5;241m=\u001b[39mnper, perioddata\u001b[38;5;241m=\u001b[39mtdis_rc, time_units\u001b[38;5;241m=\u001b[39mtime_units)\n",
      "\u001b[1;31mNameError\u001b[0m: name 'sim_name' is not defined"
     ]
    }
   ],
   "source": [
    "sim_ws = '.'\n",
    "\n",
    "sim    = flopy.mf6.MFSimulation(sim_name= \"p01-mf6\" , sim_ws=sim_ws, exe_name=exe_name_mu)\n",
    "tdis   = flopy.mf6.ModflowTdis(sim, nper=nper, perioddata=tdis_rc, time_units=time_units)\n",
    "gwf    = flopy.mf6.ModflowGwf(sim,modelname=gwfname,save_flows=True,model_nam_file=f\"{gwfname}.nam\")\n",
    "imsgwf = flopy.mf6.ModflowIms(sim,print_option=\"SUMMARY\",outer_dvclose=hclose,outer_maximum=nouter,\n",
    "                              under_relaxation=\"NONE\",inner_maximum=ninner,inner_dvclose=hclose,rcloserecord=rclose,\n",
    "                              linear_acceleration=\"CG\",scaling_method=\"NONE\",reordering_method=\"NONE\",relaxation_factor=relax,\n",
    "                              filename=f\"{gwfname}.ims\")                                       \n",
    "sim.register_ims_package(imsgwf, [gwf.name])\n",
    "dis = flopy.mf6.ModflowGwfdis(gwf,length_units=length_units,nlay=nlay,nrow=nrow,ncol=ncol,delr=delr,delc=delc,top=top,botm=botm,\n",
    "                              idomain=np.ones((nlay, nrow, ncol), dtype=int),filename=f\"{gwfname}.dis\")\n",
    "npf = flopy.mf6.ModflowGwfnpf(gwf,save_flows=False,icelltype=icelltype,k=k11,k33=k33,save_specific_discharge=True,filename=f\"{gwfname}.npf\")\n",
    "fic = flopy.mf6.ModflowGwfic(gwf, strt=strt, filename=f\"{gwfname}.ic\")\n",
    "chd = flopy.mf6.ModflowGwfchd(gwf,maxbound=len(chdspd),stress_period_data=chdspd,save_flows=False,pname=\"CHD-1\",filename=f\"{gwfname}.chd\")\n",
    "foc = flopy.mf6.ModflowGwfoc(gwf,head_filerecord=f\"{gwfname}.hds\",budget_filerecord=f\"{gwfname}.cbc\",\n",
    "                             headprintrecord=[(\"COLUMNS\", 10, \"WIDTH\", 15, \"DIGITS\", 6, \"GENERAL\")],\n",
    "                                saverecord=[(\"HEAD\", \"LAST\"), (\"BUDGET\", \"LAST\")],\n",
    "                                    printrecord=[(\"HEAD\", \"LAST\"), (\"BUDGET\", \"LAST\")])                            \n",
    "gwtname = \"gwt-\" + name\n",
    "gwt = flopy.mf6.MFModel(sim,model_type=\"gwt6\"  , modelname=gwtname  , model_nam_file=f\"{gwtname}.nam\")      ; \n",
    "gwt.name_file.save_flows = True\n",
    "imsgwt = flopy.mf6.ModflowIms(sim,print_option=\"SUMMARY\",outer_dvclose=hclose,outer_maximum=nouter,under_relaxation=\"NONE\",\n",
    "                              inner_maximum=ninner,inner_dvclose=hclose,rcloserecord=rclose,linear_acceleration=\"BICGSTAB\",\n",
    "                              scaling_method=\"NONE\",reordering_method=\"NONE\",relaxation_factor=relax,filename=f\"{gwtname}.ims\",)\n",
    "sim.register_ims_package(imsgwt, [gwt.name])\n",
    "dis = flopy.mf6.ModflowGwtdis(gwt,nlay=nlay,nrow=nrow,ncol=ncol,delr=delr,delc=delc,top=top,botm=botm,idomain=1,filename=f\"{gwtname}.dis\")\n",
    "ic = flopy.mf6.ModflowGwtic(gwt, strt=sconc, filename=f\"{gwtname}.ic\")\n",
    "    \n",
    "if mixelm == 0:\n",
    "    scheme = \"UPSTREAM\"\n",
    "elif mixelm == -1:\n",
    "    scheme = \"TVD\"\n",
    "else:\n",
    "    raise Exception()  \n",
    "flopy.mf6.ModflowGwtadv(gwt, scheme=scheme, filename=f\"{gwtname}.adv\")\n",
    "    \n",
    "if dispersivity != 0:\n",
    "    dsp = flopy.mf6.ModflowGwtdsp(gwt,xt3d_off=True,alh=dispersivity,ath1=dispersivity,filename=f\"{gwtname}.dsp\",)\n",
    "if retardation != 1.0:\n",
    "    sorption = \"linear\"        ; bulk_density = rhob    ; kd = (retardation - 1.0) * prsity / rhob  # prsity & rhob defined in\n",
    "else:  \n",
    "    sorption = None            ; bulk_density = None    ; kd = None\n",
    "if decay != 0.0:\n",
    "    first_order_decay = True   ; decay_arg = decay\n",
    "else:\n",
    "    first_order_decay = False  ; decay_arg = None\n",
    "mst = flopy.mf6.ModflowGwtmst(gwt,porosity=prsity,sorption=sorption,bulk_density=bulk_density,distcoef=kd,\n",
    "                              first_order_decay=first_order_decay,decay=decay_arg,decay_sorbed=decay_arg,filename=f\"{gwtname}.mst\")\n",
    "\n",
    "cnc = flopy.mf6.ModflowGwtcnc(gwt,maxbound=len(cncspd),stress_period_data=cncspd,save_flows=False,pname=\"CNC-1\",filename=f\"{gwtname}.cnc\",)\n",
    "ssm = flopy.mf6.ModflowGwtssm(gwt, sources=[[]], filename=f\"{gwtname}.ssm\")\n",
    "toc = flopy.mf6.ModflowGwtoc(gwt,budget_filerecord=f\"{gwtname}.cbc\",concentration_filerecord=f\"{gwtname}.ucn\",\n",
    "                             concentrationprintrecord=[(\"COLUMNS\", 10, \"WIDTH\", 15, \"DIGITS\", 6, \"GENERAL\")],\n",
    "                                saverecord=[(\"CONCENTRATION\", \"LAST\"), (\"BUDGET\", \"LAST\")],\n",
    "                                    printrecord=[(\"CONCENTRATION\", \"LAST\"), (\"BUDGET\", \"LAST\")],)\n",
    "flopy.mf6.ModflowGwfgwt(sim,exgtype=\"GWF6-GWT6\",exgmnamea=gwfname,exgmnameb=gwtname,filename=f\"{name}.gwfgwt\")\n",
    "\n",
    "sim.write_simulation(silent=silent)\n",
    "\n",
    "sim.run_simulation(silent=silent, report=True) \n"
   ]
  },
  {
   "cell_type": "code",
   "execution_count": null,
   "id": "666c0c5c-5145-46a6-85ec-c03b11837d8b",
   "metadata": {
    "jupyter": {
     "source_hidden": true
    }
   },
   "outputs": [],
   "source": [
    "#def scenario(idx, silent=True):\n",
    "#    key = list(parameters.keys())[idx]\n",
    "#    parameter_dict = parameters[key]\n",
    "#    sim = build_models(key, **parameter_dict)\n",
    "#    if write:\n",
    "#        write_models(sim, silent=silent)\n",
    "#    if run:\n",
    "#        run_models(sim, silent=silent)\n",
    "#scenario(0) ; scenario(1); scenario(2); scenario(3)"
   ]
  },
  {
   "cell_type": "code",
   "execution_count": null,
   "id": "6dddcda0-73af-43e3-ac5c-e3db766174d9",
   "metadata": {
    "lines_to_end_of_cell_marker": 2
   },
   "outputs": [],
   "source": [
    "def plot_results( mf6, idx, ax=None):\n",
    "    mf6.simulation_data.mfpath.get_sim_path()\n",
    "    gwt = mf6.get_model(list(mf6.model_names)[1])    ; ucnobj_mf6 = gwt.output.concentration()  ; conc_mf6 = ucnobj_mf6.get_alldata()\n",
    "\n",
    "    with styles.USGSPlot() as fs:\n",
    "        sim_name = mf6.name\n",
    "        if ax is None:\n",
    "            fig, ax = plt.subplots(1, 1, figsize=(6, 2), dpi=100, tight_layout=True)\n",
    "        ax.plot(np.linspace(0, l, ncol), conc_mf6  [0,0,0,:], \"^\" , markeredgewidth=0.5  ,color=\"blue\" ,fillstyle=\"none\" ,label=\"MF6\",markersize=3)\n",
    "        \n",
    "        ax.set_ylim(0, 1.2)  ;   ax.set_xlim(0, 1000)   ; ax.set_xlabel(\"Distance, in m\")    ; ax.set_ylabel(\"Concentration\") ; \n",
    "        title = f\"Concentration Profile at Time = 2,000 {time_units}\"  ; ax.legend()         ; letter = chr(ord(\"@\") + idx + 1)     \n",
    "        styles.heading(letter=letter, heading=title);             plt.show()"
   ]
  },
  {
   "cell_type": "code",
   "execution_count": null,
   "id": "c8e23476",
   "metadata": {
    "lines_to_end_of_cell_marker": 2,
    "lines_to_next_cell": 2,
    "scrolled": true
   },
   "outputs": [],
   "source": [
    "def scenario(idx, silent=True):\n",
    "    key = list(parameters.keys())[idx]\n",
    "    parameter_dict = parameters[key]\n",
    "    sim = build_models(key, **parameter_dict)\n",
    "    if write:\n",
    "        write_models(sim, silent=silent)\n",
    "    if run:\n",
    "        run_models(sim, silent=silent)\n",
    "    if plot:\n",
    "        plot_results(sim, idx)\n",
    "scenario(0) ; scenario(1); scenario(2); scenario(3)"
   ]
  },
  {
   "cell_type": "code",
   "execution_count": null,
   "id": "d830a799-c59c-479d-a03b-80527424329b",
   "metadata": {},
   "outputs": [],
   "source": []
  }
 ],
 "metadata": {
  "jupytext": {
   "cell_metadata_filter": "-all"
  },
  "kernelspec": {
   "display_name": "Python 3 (ipykernel)",
   "language": "python",
   "name": "python3"
  },
  "language_info": {
   "codemirror_mode": {
    "name": "ipython",
    "version": 3
   },
   "file_extension": ".py",
   "mimetype": "text/x-python",
   "name": "python",
   "nbconvert_exporter": "python",
   "pygments_lexer": "ipython3",
   "version": "3.12.7"
  }
 },
 "nbformat": 4,
 "nbformat_minor": 5
}
