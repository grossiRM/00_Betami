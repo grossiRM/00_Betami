{
 "cells": [
  {
   "cell_type": "markdown",
   "id": "a45ce7f2",
   "metadata": {},
   "source": [
    "b"
   ]
  },
  {
   "cell_type": "code",
   "execution_count": 1,
   "id": "ef04df74-8dc1-49f4-b566-91d511076261",
   "metadata": {},
   "outputs": [],
   "source": [
    "import os ; import pathlib as pl ; from pprint import pformat ; import flopy ; import git ; import matplotlib.pyplot as plt\n",
    "import numpy as np; from flopy.plot.styles import styles ; import pathlib; from pathlib import Path; import pandas as pd\n",
    "import modflow_devtools.misc ; from modflow_devtools.misc import get_env, timed ; import flopy.utils.binaryfile as bf   # pip install modflow_devtools\n",
    "from flopy.utils import Mf6ListBudget ; import csv\n",
    "write = get_env(\"WRITE\", True) ; run = get_env(\"RUN\", True) ;  plot = get_env(\"PLOT\", True)\n",
    "plot_show = get_env(\"PLOT_SHOW\", True) ; plot_save = get_env(\"PLOT_SAVE\", True)"
   ]
  },
  {
   "cell_type": "code",
   "execution_count": 2,
   "id": "a044f41f-9e5a-4fec-8f45-8c2d83bd280f",
   "metadata": {},
   "outputs": [
    {
     "name": "stdout",
     "output_type": "stream",
     "text": [
      "E:\\15_REPOS\\00_BETAMI\\51_MT3D_Zjeng_\n"
     ]
    }
   ],
   "source": [
    "parameters = {\"p02n2\": {\"sorption\": \"freundlich\",\"Kf\": 0.3,\"a\": 0.7,}  , \"p02n2nn\": {\"sorption\": \"langmuir\",\"Kl\": 100.0,\"S\": 0.003,},      \n",
    "              \"p02c\": {\"beta\": 0.0,}      , \"p02d\": {\"beta\": 0.002,}  , \"p02e\": {\"beta\": 0.01,}        , \"p02f\": {\"beta\": 20.0,},}\n",
    "parameter_units={\"beta\":\"$s^{-1}$\",\"sorption\":\"text string\",\"Kf\": r\"$\\mu g L g^{} mg^{-1}$\",\"a\":\"unitless\",\"Kl\": \"$L mg^{-1}$\",\"S\": r\"$\\mu g g^{-1}$\"}  \n",
    "exe_name_mu = 'E:\\\\15_REPOS\\\\00_BETAMI\\\\bin\\\\mf6'\n",
    "length_units = \"centimeters\" ; time_units = \"seconds\"               ; current_directory = os.getcwd();  print(current_directory)"
   ]
  },
  {
   "cell_type": "code",
   "execution_count": 3,
   "id": "b6b177a2-2de0-430e-8455-d2269bcfb83c",
   "metadata": {},
   "outputs": [],
   "source": [
    "path = pathlib.Path('E:\\\\15_REPOS\\\\00_BETAMI\\\\51_MT3D_Zjeng_')\n",
    "path.mkdir(parents=True, exist_ok=True); os.chdir(path); current_directory = os.getcwd()\n",
    "directory_name = 'ex-RES'    ; workspace = os.path.join('.', directory_name)\n",
    "if os.path.isdir(workspace) is False:\n",
    "    os.mkdir(workspace) \n",
    "output_folder = Path('ex-RES\\\\p02n2') ; output_folder.mkdir(exist_ok=True)\n",
    "output_folder2 = Path('ex-RES\\\\p02n2\\\\mf6gwf') ; output_folder.mkdir(exist_ok=True)\n",
    "output_folder3 = Path('ex-RES\\\\p02n2\\\\mf6gwt') ; output_folder.mkdir(exist_ok=True)"
   ]
  },
  {
   "cell_type": "code",
   "execution_count": 4,
   "id": "c5f6ca0e",
   "metadata": {
    "lines_to_next_cell": 2
   },
   "outputs": [],
   "source": [
    "nlay = 1; nrow = 1; ncol = 101       ; nper = 2 ; period1 = 160  ; period2 = 1340  ; perlen = [period1, period2]   ; delta_time = 1.0 \n",
    "delr = 0.16;delc = 0.16;top = 1.0    ; botm = 0 ; velocity = 0.1 ; hydraulic_conductivity = 0.01 ; porosity = 0.37 ; bulk_density = 1.587\n",
    "distribution_coefficient = 0.933     ; dispersivity = 1.0        ; source_concentration = 0.05   ; initial_concentration = 0.0 "
   ]
  },
  {
   "cell_type": "code",
   "execution_count": 5,
   "id": "378b2423-4ba7-499c-8ae9-3284356102dd",
   "metadata": {},
   "outputs": [
    {
     "data": {
      "text/plain": [
       "(0.037, 0.00592, 16.16)"
      ]
     },
     "execution_count": 5,
     "metadata": {},
     "output_type": "execute_result"
    }
   ],
   "source": [
    "specific_discharge = velocity * porosity                            ; nstp = [6, 40]  ; tsmult = [1.1, 1.1]\n",
    "inflow_rate        = specific_discharge * delc * (top - botm)      \n",
    "system_length      = ncol * delr          \n",
    "wel_spd            = {0: [[(0, 0, 0), inflow_rate, source_concentration],],1: [[(0, 0, 0), inflow_rate, 0.0],],}\n",
    "\n",
    "specific_discharge, inflow_rate,  system_length"
   ]
  },
  {
   "cell_type": "code",
   "execution_count": 6,
   "id": "cee28aa7-a072-41c7-a1e7-821ffce6fd47",
   "metadata": {},
   "outputs": [
    {
     "data": {
      "text/plain": [
       "[(1, 6, 1.2), (1340, 40, 1.2)]"
      ]
     },
     "execution_count": 6,
     "metadata": {},
     "output_type": "execute_result"
    }
   ],
   "source": [
    "perlen=[(1),(1),(1340)] ; nstp=[1,6,40,1] ; tsmult=[1, 1.2, 1.2] ; tdis_ds=list(zip(perlen, nstp, tsmult)) ; tdis_ds[-2:]   # tdis_ds[:2]"
   ]
  },
  {
   "cell_type": "code",
   "execution_count": 7,
   "id": "e9cd783e",
   "metadata": {},
   "outputs": [],
   "source": [
    "def build_mf6gwf(sim_folder):\n",
    "    name    = \"flow\"\n",
    "    sim_ws  = os.path.join(workspace, sim_folder, \"mf6gwf\")\n",
    "    sim     = flopy.mf6.MFSimulation(sim_name=name, sim_ws=sim_ws, exe_name=\"mf6\")\n",
    "#    tdis_ds = [(1, 20, 1.2), (1340, 40, 1.2)] ;  nper = 2\n",
    "    tdis_ds = ((period1, int(period1 / delta_time), 1.0),(period2, int(period2 / delta_time), 1.0))\n",
    "    flopy.mf6.ModflowTdis         (sim, nper=nper , perioddata = tdis_ds , time_units=time_units)                    \n",
    "    flopy.mf6.ModflowIms          (sim, print_option=\"summary\", outer_dvclose=1.0e-8, inner_dvclose=1.0e-8)\n",
    "    gwf = flopy.mf6.ModflowGwf    (sim, modelname=name, save_flows=True)  # hobj = gwf.output.head()      ; hds= hobj.get_data()\n",
    "    dis = flopy.mf6.ModflowGwfdis (gwf,nlay=nlay,nrow=nrow,ncol=ncol,delr=delr,delc=delc,top=top,botm=botm)    \n",
    "    flopy.mf6.ModflowGwfnpf       (gwf,save_specific_discharge=True,save_saturation=True,icelltype=0,k=hydraulic_conductivity)\n",
    "    flopy.mf6.ModflowGwfic        (gwf, strt=1.0)\n",
    "    flopy.mf6.ModflowGwfchd       (gwf, stress_period_data=[[(0, 0, ncol - 1), 1.0]])\n",
    "    flopy.mf6.ModflowGwfwel       (gwf,stress_period_data=wel_spd,pname=\"WEL-1\",auxiliary=[\"CONCENTRATION\"],)\n",
    "    head_filerecord = f\"{name}.hds\"\n",
    "    budget_filerecord = f\"{name}.bud\"\n",
    "    flopy.mf6.ModflowGwfoc  (gwf,head_filerecord = head_filerecord,\n",
    "                             budget_filerecord   = budget_filerecord,\n",
    "                             saverecord=[(\"HEAD\", \"ALL\"), (\"BUDGET\", \"ALL\")])\n",
    "    return sim\n",
    "\n",
    "def build_mf6gwt(sim_folder, sorption=None, Kf=None, a=None, Kl=None, S=None, beta=None):\n",
    "    name    = \"trans\"\n",
    "    sim_ws  = os.path.join(workspace, sim_folder, \"mf6gwt\")\n",
    "    sim     = flopy.mf6.MFSimulation(sim_name=name, sim_ws=sim_ws, exe_name=\"mf6\")\n",
    "#    tdis_ds = [(1, 20, 1.2), (1340, 40, 1.2)] ;  nper = 2\n",
    "    tdis_ds = ((period1, int(period1 / delta_time), 1.0),(period2, int(period2 / delta_time), 1.0))\n",
    "    flopy.mf6.ModflowTdis(sim, nper=nper        , perioddata=tdis_ds   , time_units = time_units)                                \n",
    "    flopy.mf6.ModflowIms(sim,linear_acceleration=\"bicgstab\",print_option=\"summary\" , outer_dvclose = 1.0e-8 , inner_dvclose=1.0e-8)\n",
    "    gwt = flopy.mf6.ModflowGwt(sim, modelname=name, save_flows=True)\n",
    "    flopy.mf6.ModflowGwtdis(gwt,length_units=length_units,nlay=nlay,nrow=nrow,ncol=ncol,delr=delr,delc=delc,top=top,botm=botm)\n",
    "    flopy.mf6.ModflowGwtic(gwt, strt=initial_concentration)\n",
    "\n",
    "    distcoef = None\n",
    "    if Kf is not None:\n",
    "        distcoef = Kf\n",
    "    if Kl is not None:\n",
    "        distcoef = Kl\n",
    "    sp2 = None\n",
    "    if a is not None:\n",
    "        sp2 = a\n",
    "    if S is not None:\n",
    "        sp2 = S\n",
    "    volfracim = 0.0\n",
    "    if beta is not None:\n",
    "        if beta > 0:\n",
    "            volfracim = bulk_density / (bulk_density + porosity)\n",
    "\n",
    "    flopy.mf6.ModflowGwtmst(gwt,porosity=porosity / (1.0 - volfracim),\n",
    "                            bulk_density=bulk_density if sorption else None,sorption=sorption,distcoef=distcoef,sp2=sp2)\n",
    "    flopy.mf6.ModflowGwtadv(gwt, scheme=\"UPSTREAM\")\n",
    "    flopy.mf6.ModflowGwtdsp(gwt, xt3d_off=True, alh=dispersivity, ath1=dispersivity)\n",
    "    \n",
    "    if beta is not None:\n",
    "        if beta > 0:\n",
    "            porosity_im = bulk_density / volfracim          ; flopy.mf6.ModflowGwtist(gwt, volfrac=volfracim, porosity=porosity_im, zetaim=beta)\n",
    "    pd = [ (\"GWFHEAD\", \"../mf6gwf/flow.hds\", None),(\"GWFBUDGET\", \"../mf6gwf/flow.bud\", None)]\n",
    "    \n",
    "    flopy.mf6.ModflowGwtfmi(gwt, packagedata=pd)            ; sourcerecarray = [[\"WEL-1\", \"AUX\", \"CONCENTRATION\"]]\n",
    "    flopy.mf6.ModflowGwtssm(gwt, sources=sourcerecarray)    ; obs_data = {f\"{name}.obs.csv\": [(\"X008\", \"CONCENTRATION\", (0, 0, 50)),],}  # !!!!\n",
    "    obs_package = flopy.mf6.ModflowUtlobs(gwt, digits=10    , print_input=True, continuous=obs_data)\n",
    "    flopy.mf6.ModflowGwtoc(gwt,\n",
    "                           budget_filerecord=f\"{name}.cbc\",\n",
    "                           concentration_filerecord=f\"{name}.ucn\",\n",
    "                           saverecord=[(\"CONCENTRATION\", \"ALL\"), (\"BUDGET\", \"ALL\")],printrecord=[(\"CONCENTRATION\", \"ALL\"), (\"BUDGET\", \"ALL\")])\n",
    "    return sim\n",
    "    \n",
    "def build_models(sim_name, **kwargs):\n",
    "    sim_mf6gwf = build_mf6gwf(sim_name) ; sim_mf6gwt = build_mf6gwt(sim_name, **kwargs)\n",
    "    return sim_mf6gwf, sim_mf6gwt \n",
    "    \n",
    "def write_models(sims, silent=True):\n",
    "    sim_mf6gwf, sim_mf6gwt = sims       ; sim_mf6gwf.write_simulation(silent=silent)  ; sim_mf6gwt.write_simulation(silent=silent)\n",
    "@timed\n",
    "def run_models(sims, silent=True):\n",
    "    sim_mf6gwf, sim_mf6gwt = sims \n",
    "    success, buff = sim_mf6gwf.run_simulation(silent=silent, report=True)  ; assert success, pformat(buff)\n",
    "    success, buff = sim_mf6gwt.run_simulation(silent=silent, report=True)  ; assert success, pformat(buff)"
   ]
  },
  {
   "cell_type": "code",
   "execution_count": 8,
   "id": "6bec77b5",
   "metadata": {},
   "outputs": [],
   "source": [
    "def scenario(idx, silent=True):\n",
    "    key = list(parameters.keys())[idx]      ; parameter_dict = parameters[key]  ;  sims = build_models(key, **parameter_dict)\n",
    "    if write:\n",
    "        write_models(sims, silent=silent)\n",
    "    if run:\n",
    "        run_models(sims, silent=silent)"
   ]
  },
  {
   "cell_type": "code",
   "execution_count": 9,
   "id": "0d1eb384-6426-4831-9157-aae3505be2bb",
   "metadata": {},
   "outputs": [
    {
     "name": "stdout",
     "output_type": "stream",
     "text": [
      "run_models took 3726.95 ms\n"
     ]
    }
   ],
   "source": [
    "scenario(0) "
   ]
  },
  {
   "cell_type": "code",
   "execution_count": 10,
   "id": "49e89762-ca27-4aee-ba97-ad9eac288e4b",
   "metadata": {},
   "outputs": [
    {
     "name": "stdout",
     "output_type": "stream",
     "text": [
      "OC package_Flow  :  ['list()', 'zonebudget()', 'budget()', 'budgetcsv()', 'head()']\n",
      "headss (1500, 1, 1, 101)\n"
     ]
    }
   ],
   "source": [
    "sim = flopy.mf6.MFSimulation.load(sim_ws = output_folder2 , exe_name=exe_name_mu , verbosity_level=0) ; ml = sim.get_model(\"flow\")\n",
    "gwf = sim.get_model('flow'); hobj = gwf.output.head() ; head = hobj.get_alldata()  ;  times = hobj.get_times()\n",
    "print(\"OC package_Flow  : \", ml.oc.output.methods()) ; print('headss', head.shape) #  type(times)"
   ]
  },
  {
   "cell_type": "code",
   "execution_count": 18,
   "id": "089bec6b-b49c-455c-b10f-0cfff9b7c06c",
   "metadata": {},
   "outputs": [
    {
     "data": {
      "text/plain": [
       "Text(0, 0.5, 'Simulated Flux, in $m^3/d$')"
      ]
     },
     "execution_count": 18,
     "metadata": {},
     "output_type": "execute_result"
    },
    {
     "data": {
      "image/png": "[encoded data removed]",
      "text/plain": [
       "<Figure size 400x100 with 1 Axes>"
      ]
     },
     "metadata": {},
     "output_type": "display_data"
    }
   ],
   "source": [
    "mfl = Mf6ListBudget(output_folder2 / 'flow.lst')             ; flux,_vol = mfl.get_dataframes(start_datetime='2023-08-02 10:52:00')   \n",
    "flux,_vol.to_csv(output_folder / \"a.csv\")  ;  # flux.head()   # ax = flux['PERCENT_DISCREPANCY'].plot() ; ax.set_ylabel('Percent mass balance error')\n",
    "fig, ax  = plt.subplots(figsize=(4, 1))\n",
    "in_cols  = ['WEL_IN','CHD_IN']  ; out_cols = [c.replace('_IN', '_OUT') for c in in_cols]\n",
    "flux[in_cols].plot.bar(stacked=False, ax=ax)        ;    (-flux[out_cols]).plot.bar(stacked=False, ax=ax)\n",
    "ax.legend(loc='lower left', bbox_to_anchor=(1, 0)) ; ax.axhline(0, lw=0.5, c='k') ;   ax.set_ylabel('Simulated Flux, in $m^3/d$')"
   ]
  },
  {
   "cell_type": "code",
   "execution_count": 12,
   "id": "115896be-0f54-425a-afbd-57abcfd4d37b",
   "metadata": {},
   "outputs": [
    {
     "name": "stdout",
     "output_type": "stream",
     "text": [
      "OC package_trans  :  ['list()', 'zonebudget()', 'budget()', 'budgetcsv()', 'concentration()']\n",
      "conc (1500, 1, 1, 101)\n"
     ]
    }
   ],
   "source": [
    "sim = flopy.mf6.MFSimulation.load(sim_ws = output_folder3 , exe_name=exe_name_mu , verbosity_level=0) ; mt = sim.get_model(\"trans\")\n",
    "gwt = sim.get_model('trans'); ucnobj = gwt.output.concentration() ; conc = ucnobj.get_alldata() ;  times = ucnobj.get_times()\n",
    "print(\"OC package_trans  : \", mt.oc.output.methods()) ; print('conc', conc.shape) "
   ]
  },
  {
   "cell_type": "code",
   "execution_count": 13,
   "id": "13a6b2ac-cc5f-4b82-aea7-432ab13668b9",
   "metadata": {},
   "outputs": [
    {
     "name": "stdout",
     "output_type": "stream",
     "text": [
      "heads (1, 1, 101)\n"
     ]
    },
    {
     "data": {
      "text/plain": [
       "Text(0, 0.5, 'Concentration')"
      ]
     },
     "execution_count": 13,
     "metadata": {},
     "output_type": "execute_result"
    },
    {
     "data": {
      "image/png": "[encoded data removed]",
      "text/plain": [
       "<Figure size 300x100 with 1 Axes>"
      ]
     },
     "metadata": {},
     "output_type": "display_data"
    }
   ],
   "source": [
    "# \"OBS\" #\n",
    "sim_ws = os.path.join (workspace, 'p02n2')    \n",
    "fname = os.path.join  (sim_ws, 'mf6gwt', 'trans.obs.csv')   ; mf6gwt_ra = flopy.utils.Mf6Obs(fname).data\n",
    "mf6conc = mf6gwt_ra[\"X008\"] / source_concentration          ; then = pd.DataFrame(mf6conc)  ; then.to_csv(output_folder /\"a_C.csv\");   # OBS\n",
    "fname  = os.path.join (sim_ws, 'mf6gwf','flow.hds')         ; hdobj  = flopy.utils.HeadFile (fname)  ; times = hdobj.get_times()    \n",
    "heads  = hdobj.get_data()   ; heads2 = heads[0,:,:] ; then=pd.DataFrame(heads2);then.to_csv(output_folder/\"b_H.csv\") ; print('heads',heads.shape)\n",
    "ttimes   =  pd.DataFrame(times);ttimes.to_csv(output_folder/\"c_T.csv\")\n",
    "plt.figure(figsize=(3, 1))  ; plt.plot(mf6conc)   ; plt.xlabel('Distance_x_1D (m)')   ; plt.ylabel('Concentration') "
   ]
  },
  {
   "cell_type": "code",
   "execution_count": 14,
   "id": "10133342-46f4-465e-a142-829e8de9c310",
   "metadata": {},
   "outputs": [],
   "source": [
    "# https://flopy.readthedocs.io/en/3.3.4/_notebooks/tutorial01_mf6_output.html"
   ]
  },
  {
   "cell_type": "code",
   "execution_count": 15,
   "id": "12f03fd4-369a-42d4-932b-2a6ad4477d04",
   "metadata": {},
   "outputs": [
    {
     "data": {
      "text/plain": [
       "((160, 160, 1.0), (1340, 1340, 1.0))"
      ]
     },
     "execution_count": 15,
     "metadata": {},
     "output_type": "execute_result"
    }
   ],
   "source": [
    "tdis_ds = ((period1, int(period1 / delta_time), 1.0),(period2, int(period2 / delta_time), 1.0))\n",
    "tdis_ds"
   ]
  },
  {
   "cell_type": "code",
   "execution_count": 16,
   "id": "d1bd16b8-591c-4f3c-a509-f1f48a0e3d74",
   "metadata": {},
   "outputs": [
    {
     "data": {
      "text/plain": [
       "[(1, 6, 1.2), (1340, 40, 1.2)]"
      ]
     },
     "execution_count": 16,
     "metadata": {},
     "output_type": "execute_result"
    }
   ],
   "source": [
    "perlen=[(1),(1),(1340)] ; nstp=[1,6,40,1] ; tsmult=[1, 1.2, 1.2] ; tdis_ds=list(zip(perlen, nstp, tsmult)) ; tdis_ds[-2:]   # tdis_ds[:2]"
   ]
  },
  {
   "cell_type": "code",
   "execution_count": null,
   "id": "1dd20fe9-c0e6-4ee8-9a4d-af648d7be304",
   "metadata": {},
   "outputs": [],
   "source": []
  }
 ],
 "metadata": {
  "jupytext": {
   "cell_metadata_filter": "-all"
  },
  "kernelspec": {
   "display_name": "Python 3 (ipykernel)",
   "language": "python",
   "name": "python3"
  },
  "language_info": {
   "codemirror_mode": {
    "name": "ipython",
    "version": 3
   },
   "file_extension": ".py",
   "mimetype": "text/x-python",
   "name": "python",
   "nbconvert_exporter": "python",
   "pygments_lexer": "ipython3",
   "version": "3.12.7"
  }
 },
 "nbformat": 4,
 "nbformat_minor": 5
}
