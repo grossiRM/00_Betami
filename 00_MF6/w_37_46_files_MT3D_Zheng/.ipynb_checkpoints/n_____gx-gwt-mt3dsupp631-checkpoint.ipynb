{
 "cells": [
  {
   "cell_type": "code",
   "execution_count": 1,
   "id": "54f38dd1-1ad0-4a45-a439-901928fc5fab",
   "metadata": {},
   "outputs": [],
   "source": [
    "import pathlib; from pathlib import Path; import pandas as pd\n",
    "import os ; import pathlib as pl ; from pprint import pformat ; import flopy ; import git ; import matplotlib.pyplot as plt\n",
    "import numpy as np ; from flopy.plot.styles import styles  ;from modflow_devtools.misc import get_env, timed \n",
    "\n",
    "write = get_env(\"WRITE\", True) ; run = get_env(\"RUN\", True) ;  plot = get_env(\"PLOT\", True)\n",
    "plot_show = get_env(\"PLOT_SHOW\", True) ; plot_save = get_env(\"PLOT_SAVE\", True)"
   ]
  },
  {
   "cell_type": "code",
   "execution_count": 2,
   "id": "92fb3b42-cd28-4bbd-a2a2-d9ef28988c19",
   "metadata": {},
   "outputs": [
    {
     "name": "stdout",
     "output_type": "stream",
     "text": [
      "E:\\15_REPOS\\00_BETAMI\\98_Plus\\02_MT3D\n"
     ]
    }
   ],
   "source": [
    "example_name = \"ex-gwt-mt3dsupp631\"\n",
    "exe_name = 'E:\\\\15_REPOS\\\\00_BETAMI\\\\bin\\\\mf6'\n",
    "current_directory = os.getcwd();  print(current_directory)"
   ]
  },
  {
   "cell_type": "code",
   "execution_count": 3,
   "id": "af6d0418-e09e-46b3-836e-b87b7d38d85c",
   "metadata": {},
   "outputs": [],
   "source": [
    "path = pathlib.Path('E:\\\\15_REPOS\\\\00_BETAMI\\\\98_Plus\\\\02_MT3D')\n",
    "path.mkdir(parents=True, exist_ok=True); os.chdir(path); current_directory = os.getcwd()\n",
    "directory_name = 'C_A_V01'    ; workspace = os.path.join('.', directory_name)\n",
    "if os.path.isdir(workspace) is False:\n",
    "    os.mkdir(workspace) \n",
    "output_folder = Path('C_A_V01') ; output_folder.mkdir(exist_ok=True)"
   ]
  },
  {
   "cell_type": "code",
   "execution_count": 4,
   "id": "cdf86ffb",
   "metadata": {},
   "outputs": [],
   "source": [
    "# Model parameters\n",
    "length_units = \"meters\"\n",
    "time_units = \"days\"\n",
    "nper = 2  # Number of periods\n",
    "nlay = 1  # Number of layers\n",
    "nrow = 1  # Number of rows\n",
    "ncol = 101  # Number of columns\n",
    "delr = 0.16  # Column width ($m$)\n",
    "delc = 1.0  # Row width ($m$)\n",
    "top = 1.0  # Top of the model ($m$)\n",
    "botm = 0  # Layer bottom elevation ($m$)\n",
    "specific_discharge = 0.1  # Specific discharge ($md^{-1}$)\n",
    "longitudinal_dispersivity = 1.0  # Longitudinal dispersivity ($m$)\n",
    "porosity = 0.37  # Porosity of mobile domain (unitless)\n",
    "zero_order_decay = -2.0e-3  # Zero-order production rate ($mg/L d^{-1}$)\n",
    "source_duration = 160.0  # Source duration ($d$)\n",
    "total_time = 840.0  # Simulation time ($t$)\n",
    "obs_xloc = 8.0  # Observation x location ($m$)"
   ]
  },
  {
   "cell_type": "code",
   "execution_count": 5,
   "id": "3e12445d",
   "metadata": {},
   "outputs": [],
   "source": [
    "def build_mf6gwf(sim_folder):\n",
    "    name = \"flow\"\n",
    "    sim_ws = os.path.join(workspace, sim_folder, \"mf6gwf\")\n",
    "    sim = flopy.mf6.MFSimulation(sim_name=name, sim_ws=sim_ws, exe_name=\"mf6\")\n",
    "    tdis_ds = ((source_duration, 1, 1.0),(total_time - source_duration, 1, 1.0),)\n",
    "    flopy.mf6.ModflowTdis (sim, nper=nper, perioddata=tdis_ds, time_units=time_units)\n",
    "    flopy.mf6.ModflowIms  (sim)\n",
    "    gwf = flopy.mf6.ModflowGwf(sim, modelname=name, save_flows=True)\n",
    "    \n",
    "    flopy.mf6.ModflowGwfdis (gwf,length_units=length_units,nlay=nlay,nrow=nrow,ncol=ncol,delr=delr,delc=delc,top=top,botm=botm)  # new\n",
    "    flopy.mf6.ModflowGwfnpf (gwf,save_specific_discharge=True,save_saturation=True,icelltype=0,k=1.0,)                                 # new\n",
    "    flopy.mf6.ModflowGwfic  (gwf, strt=1.0)\n",
    "    flopy.mf6.ModflowGwfchd (gwf, stress_period_data=[[(0, 0, ncol - 1), 1.0]])\n",
    "    wel_spd = {0: [[(0, 0, 0), specific_discharge * delc * top, 1.0]],1: [[(0, 0, 0), specific_discharge * delc * top, 0.0]],}\n",
    "    \n",
    "    flopy.mf6.ModflowGwfwel(gwf,stress_period_data=wel_spd,pname=\"WEL-1\",auxiliary=[\"CONCENTRATION\"],)\n",
    "    \n",
    "    head_filerecord = f\"{name}.hds\"\n",
    "    budget_filerecord = f\"{name}.bud\"\n",
    "    flopy.mf6.ModflowGwfoc(gwf,head_filerecord=head_filerecord,budget_filerecord=budget_filerecord,saverecord=[(\"HEAD\",\"ALL\"), (\"BUDGET\",\"ALL\")])\n",
    "    return sim\n",
    "\n",
    "def build_mf6gwt(sim_folder):\n",
    "    name = \"trans\"\n",
    "    \n",
    "    sim_ws = os.path.join(workspace, sim_folder, \"mf6gwt\")\n",
    "    sim = flopy.mf6.MFSimulation(sim_name=name, sim_ws=sim_ws, exe_name = \"mf6\")\n",
    "    pertim1 = source_duration   ; pertim2 = total_time - source_duration ;  tdis_ds = ((pertim1, 16, 1.0), (pertim2, 84, 1.0))\n",
    "    flopy.mf6.ModflowTdis (sim, nper=nper, perioddata=tdis_ds, time_units=time_units)\n",
    "    flopy.mf6.ModflowIms  (sim, linear_acceleration=\"bicgstab\")\n",
    "    gwt = flopy.mf6.ModflowGwt (sim, modelname=name, save_flows=True)\n",
    "    flopy.mf6.ModflowGwtdis (gwt,length_units=length_units,nlay=nlay,nrow=nrow,ncol=ncol,delr=delr,delc=delc,top=top,botm=botm)\n",
    "    flopy.mf6.ModflowGwtic  (gwt, strt=0)\n",
    "    flopy.mf6.ModflowGwtmst (gwt, zero_order_decay=True, porosity=porosity, decay=zero_order_decay)\n",
    "    flopy.mf6.ModflowGwtadv (gwt)\n",
    "    flopy.mf6.ModflowGwtdsp (gwt,xt3d_off=True,alh=longitudinal_dispersivity,ath1=longitudinal_dispersivity)\n",
    "    \n",
    "    pd = [(\"GWFHEAD\", \"../mf6gwf/flow.hds\", None),(\"GWFBUDGET\", \"../mf6gwf/flow.bud\", None)]\n",
    "    flopy.mf6.ModflowGwtfmi(gwt, packagedata=pd)\n",
    "    sourcerecarray = [[\"WEL-1\", \"AUX\", \"CONCENTRATION\"]]\n",
    "    \n",
    "    flopy.mf6.ModflowGwtssm(gwt, sources = sourcerecarray)\n",
    "    obsj = int(obs_xloc / delr) + 1\n",
    "    obs_data = {f\"{name}.obs.csv\": [(\"myobs\", \"CONCENTRATION\", (0, 0, obsj)),],}\n",
    "    obs_package = flopy.mf6.ModflowUtlobs(gwt, digits=10, print_input=True, continuous=obs_data)\n",
    "    return sim\n",
    "\n",
    "def build_models(sim_name):\n",
    "    sim_mf6gwf = build_mf6gwf(sim_name)\n",
    "    sim_mf6gwt = build_mf6gwt(sim_name)\n",
    "    return sim_mf6gwf, sim_mf6gwt\n",
    "def write_models(sims, silent=True):\n",
    "    sim_mf6gwf, sim_mf6gwt = sims \n",
    "    sim_mf6gwf.write_simulation(silent=silent)\n",
    "    sim_mf6gwt.write_simulation(silent=silent)\n",
    "@timed\n",
    "def run_models(sims, silent=True):\n",
    "    sim_mf6gwf, sim_mf6gwt = sims \n",
    "    success, buff = sim_mf6gwf.run_simulation(silent=silent, report=True)    ; assert success, pformat(buff)\n",
    "    success, buff = sim_mf6gwt.run_simulation(silent=silent, report=True)    ; assert success, pformat(buff)"
   ]
  },
  {
   "cell_type": "code",
   "execution_count": 6,
   "id": "2022b465",
   "metadata": {
    "lines_to_end_of_cell_marker": 2
   },
   "outputs": [],
   "source": [
    "def plot_results(sims, idx):\n",
    "    sim_mf6gwt, sim_mt3dms = sims\n",
    "    with styles.USGSPlot():\n",
    "        mf6gwt_ra = sim_mf6gwt.get_model(\"trans\").obs.output.obs().data  ; fig, axs = plt.subplots(1, 1, figsize=(5, 3), dpi=100, tight_layout=True)\n",
    "        axs.plot(mf6gwt_ra[\"totim\"], mf6gwt_ra[\"MYOBS\"],  marker=\"o\",ls=\"none\",mec=\"blue\",mfc=\"none\",markersize=\"4\",label=\"MODFLOW 6 GWT\")\n",
    "\n",
    "        sim_ws = sim_mt3dms.model_ws   ;  fname = os.path.join(sim_ws, \"MT3D001.OBS\")  ;  mt3dms_ra = sim_mt3dms.load_obs(fname)\n",
    "        colname = mt3dms_ra.dtype.names[2]\n",
    "        \n",
    "        axs.plot(mt3dms_ra[\"time\"], mt3dms_ra[colname], linestyle=\"-\", color=\"k\", label=\"MT3DMS\")\n",
    "        axs.set_xlabel(\"Time (days)\") ; axs.set_ylabel(\"Normalized Concentration (unitless)\")  ; axs.legend() ; plt.show()"
   ]
  },
  {
   "cell_type": "code",
   "execution_count": 7,
   "id": "f9e20868",
   "metadata": {},
   "outputs": [
    {
     "name": "stdout",
     "output_type": "stream",
     "text": [
      "run_models took 399.65 ms\n"
     ]
    }
   ],
   "source": [
    "def scenario(idx, silent=True):\n",
    "    sim = build_models(example_name)\n",
    "    if write:\n",
    "        write_models(sim, silent=silent)\n",
    "    if run:\n",
    "        run_models(sim, silent=silent)\n",
    "#    if plot:\n",
    "#        plot_results(sim, idx)\n",
    "scenario(0)"
   ]
  },
  {
   "cell_type": "raw",
   "id": "935d8c8e-1e79-4f3f-897d-1d67be9fea94",
   "metadata": {},
   "source": [
    "oc transport ...\n",
    "sim_ws = os.path.join (workspace, 'ex-gwt-mt3dms-p03')    \n",
    "fname = os.path.join(sim_ws, 'gwf-p03-mf6'+'.hds')  ; hdobj = flopy.utils.HeadFile(fname)    ; heads = hdobj.get_data()\n",
    "sim_ws = os.path.join (workspace, 'ex-gwt-mt3dms-p03') \n",
    "fname = os.path.join(sim_ws, 'gwt_p03-mf6.UCN')     ; fname    \n",
    "# ucnobj = flopy.utils.UcnFile(fname)   # ; times = np.array(ucnobj.get_times())  ; conc = ucnobj.get_alldata() # ??"
   ]
  }
 ],
 "metadata": {
  "jupytext": {
   "cell_metadata_filter": "-all"
  },
  "kernelspec": {
   "display_name": "Python 3 (ipykernel)",
   "language": "python",
   "name": "python3"
  },
  "language_info": {
   "codemirror_mode": {
    "name": "ipython",
    "version": 3
   },
   "file_extension": ".py",
   "mimetype": "text/x-python",
   "name": "python",
   "nbconvert_exporter": "python",
   "pygments_lexer": "ipython3",
   "version": "3.12.7"
  }
 },
 "nbformat": 4,
 "nbformat_minor": 5
}
