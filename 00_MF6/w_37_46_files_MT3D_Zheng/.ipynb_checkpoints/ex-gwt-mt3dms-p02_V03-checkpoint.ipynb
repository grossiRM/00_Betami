{
 "cells": [
  {
   "cell_type": "markdown",
   "id": "a45ce7f2",
   "metadata": {},
   "source": [
    "Zheng 1999, titled \"One-dimensional transport with nonlinear or nonequilibrium sorption.   # No environment"
   ]
  },
  {
   "cell_type": "code",
   "execution_count": 1,
   "id": "ef04df74-8dc1-49f4-b566-91d511076261",
   "metadata": {
    "jupyter": {
     "source_hidden": true
    }
   },
   "outputs": [],
   "source": [
    "import os ; import pathlib as pl ; from pprint import pformat ; import flopy ; import git ; import matplotlib.pyplot as plt\n",
    "import numpy as np; from flopy.plot.styles import styles ; import pathlib; from pathlib import Path; import pandas as pd\n",
    "import modflow_devtools.misc \n",
    "from modflow_devtools.misc import get_env, timed    # pip install modflow_devtools\n",
    "write = get_env(\"WRITE\", True) ; run = get_env(\"RUN\", True) ;  plot = get_env(\"PLOT\", True)\n",
    "plot_show = get_env(\"PLOT_SHOW\", True) ; plot_save = get_env(\"PLOT_SAVE\", True)"
   ]
  },
  {
   "cell_type": "code",
   "execution_count": 2,
   "id": "fa1736cd",
   "metadata": {},
   "outputs": [],
   "source": [
    "example_name = \"ex-gwt-mt3dms-p02\""
   ]
  },
  {
   "cell_type": "code",
   "execution_count": 3,
   "id": "a044f41f-9e5a-4fec-8f45-8c2d83bd280f",
   "metadata": {},
   "outputs": [
    {
     "name": "stdout",
     "output_type": "stream",
     "text": [
      "E:\\15_REPOS\\00_BETAMI\\98_Plus\\02_MT3D\n"
     ]
    }
   ],
   "source": [
    "parameters = {\"ex-gwt-mt3dms-p02a\": {\"sorption\": \"freundlich\",\"Kf\": 0.3,\"a\": 0.7,},\n",
    "              \"ex-gwt-mt3dms-p02b\": {\"sorption\": \"langmuir\",\"Kl\": 100.0,\"S\": 0.003,},\n",
    "              \"ex-gwt-mt3dms-p02c\": {\"beta\": 0.0,},\n",
    "              \"ex-gwt-mt3dms-p02d\": {\"beta\": 0.002,},\n",
    "              \"ex-gwt-mt3dms-p02e\": {\"beta\": 0.01,},\n",
    "              \"ex-gwt-mt3dms-p02f\": {\"beta\": 20.0,},}\n",
    "parameter_units = {\"beta\": \"$s^{-1}$\",\"sorption\": \"text string\",\"Kf\": r\"$\\mu g L g^{} mg^{-1}$\",\"a\": \"unitless\",\"Kl\": \"$L mg^{-1}$\",\"S\": r\"$\\mu g g^{-1}$\",}  \n",
    "length_units = \"centimeters\" ; time_units = \"seconds\"\n",
    "exe_name_mt = 'E:\\\\15_REPOS\\\\00_BETAMI\\\\bin\\\\mt3d-usgs_1.1.0_64'\n",
    "exe_name_mu = 'E:\\\\15_REPOS\\\\00_BETAMI\\\\bin\\\\mf6'\n",
    "current_directory = os.getcwd();  print(current_directory)"
   ]
  },
  {
   "cell_type": "code",
   "execution_count": 4,
   "id": "b6b177a2-2de0-430e-8455-d2269bcfb83c",
   "metadata": {},
   "outputs": [],
   "source": [
    "path = pathlib.Path('E:\\\\15_REPOS\\\\00_BETAMI\\\\98_Plus\\\\02_MT3D')\n",
    "path.mkdir(parents=True, exist_ok=True); os.chdir(path); current_directory = os.getcwd()\n",
    "directory_name = 'A_p02_V02_scenario(01-05)'    ; workspace = os.path.join('.', directory_name)\n",
    "if os.path.isdir(workspace) is False:\n",
    "    os.mkdir(workspace) \n",
    "output_folder = Path('A_p02_V02_scenario(01-05)') ; output_folder.mkdir(exist_ok=True)"
   ]
  },
  {
   "cell_type": "code",
   "execution_count": 5,
   "id": "c5f6ca0e",
   "metadata": {
    "lines_to_next_cell": 2
   },
   "outputs": [],
   "source": [
    "nper = 2            # Number of periods\n",
    "nlay = 1            # Number of layers\n",
    "nrow = 1            # Number of rows\n",
    "ncol = 101          # Number of columns\n",
    "period1 = 160       # Length of period 1 ($s$)\n",
    "period2 = 1340      # Length of period 2 ($s$)\n",
    "perlen = [period1, period2]\n",
    "delta_time = 1.0    # Length of time steps ($s$)\n",
    "delr = 0.16  \n",
    "delc = 0.16  \n",
    "top = 1.0  \n",
    "botm = 0                          # Layer bottom elevation ($cm$)\n",
    "velocity = 0.1                    # Velocity ($cm s^{-1}$)\n",
    "hydraulic_conductivity = 0.01     # Hydraulic conductivity ($cm s^{-1}$)\n",
    "porosity = 0.37                   # Porosity of mobile domain (unitless)\n",
    "bulk_density = 1.587              # Bulk density ($g cm^{-3}$)\n",
    "distribution_coefficient = 0.933  # Distribution coefficient ($cm^3 g^{-1}$)\n",
    "dispersivity = 1.0                # Longitudinal dispersivity ($cm$)\n",
    "source_concentration = 0.05       # Source concentration (unitless)\n",
    "initial_concentration = 0.0       # Initial concentration (unitless)"
   ]
  },
  {
   "cell_type": "code",
   "execution_count": 6,
   "id": "378b2423-4ba7-499c-8ae9-3284356102dd",
   "metadata": {},
   "outputs": [
    {
     "data": {
      "text/plain": [
       "(0.037, 0.00592, 16.16)"
      ]
     },
     "execution_count": 6,
     "metadata": {},
     "output_type": "execute_result"
    }
   ],
   "source": [
    "specific_discharge = velocity * porosity  \n",
    "inflow_rate        = specific_discharge * delc * (top - botm)      \n",
    "system_length      = ncol * delr          \n",
    "wel_spd            = {0: [[(0, 0, 0), inflow_rate, source_concentration],],1: [[(0, 0, 0), inflow_rate, 0.0],],}\n",
    "\n",
    "specific_discharge, inflow_rate,  system_length"
   ]
  },
  {
   "cell_type": "code",
   "execution_count": 7,
   "id": "e9cd783e",
   "metadata": {
    "jupyter": {
     "source_hidden": true
    }
   },
   "outputs": [],
   "source": [
    "def build_mf6gwf(sim_folder):\n",
    "    print(f\"Building mf6gwf model...{sim_folder}\")\n",
    "    name    = \"flow\"\n",
    "    sim_ws  = os.path.join(workspace, sim_folder, \"mf6gwf\")\n",
    "    sim     = flopy.mf6.MFSimulation(sim_name=name, sim_ws=sim_ws, exe_name=\"mf6\")\n",
    "    tdis_ds = ((period1, int(period1 / delta_time), 1.0),(period2, int(period2 / delta_time), 1.0))\n",
    "    flopy.mf6.ModflowTdis         (sim, nper=nper, perioddata=tdis_ds, time_units=time_units)                    ; htol = 1.0e-8\n",
    "    flopy.mf6.ModflowIms          (sim, print_option=\"summary\", outer_dvclose=htol, inner_dvclose=htol)\n",
    "    gwf = flopy.mf6.ModflowGwf    (sim, modelname=name, save_flows=True)  # hobj = gwf.output.head()      ; hds= hobj.get_data()\n",
    "    dis = flopy.mf6.ModflowGwfdis (gwf,nlay=nlay,nrow=nrow,ncol=ncol,delr=delr,delc=delc,top=top,botm=botm)    \n",
    "    flopy.mf6.ModflowGwfnpf       (gwf,save_specific_discharge=True,save_saturation=True,icelltype=0,k=hydraulic_conductivity)\n",
    "    flopy.mf6.ModflowGwfic        (gwf, strt=1.0)\n",
    "    flopy.mf6.ModflowGwfchd       (gwf, stress_period_data=[[(0, 0, ncol - 1), 1.0]])\n",
    "    flopy.mf6.ModflowGwfwel       (gwf,stress_period_data=wel_spd,pname=\"WEL-1\",auxiliary=[\"CONCENTRATION\"],)\n",
    "    head_filerecord = f\"{name}.hds\"\n",
    "    budget_filerecord = f\"{name}.bud\"\n",
    "    flopy.mf6.ModflowGwfoc  (gwf,head_filerecord=head_filerecord,budget_filerecord=budget_filerecord,saverecord=[(\"HEAD\", \"ALL\"), (\"BUDGET\", \"ALL\")])\n",
    "    return sim\n",
    "\n",
    "def build_mf6gwt(sim_folder, sorption=None, Kf=None, a=None, Kl=None, S=None, beta=None):\n",
    "    print(f\"Building mf6gwt model...{sim_folder}\")\n",
    "    name    = \"trans\"\n",
    "    sim_ws  = os.path.join(workspace, sim_folder, \"mf6gwt\")\n",
    "    sim     = flopy.mf6.MFSimulation(sim_name=name, sim_ws=sim_ws, exe_name=\"mf6\")\n",
    "    tdis_ds = ((period1, int(period1 / delta_time), 1.0),(period2, int(period2 / delta_time), 1.0),)\n",
    "    flopy.mf6.ModflowTdis(sim, nper=nper, perioddata=tdis_ds, time_units=time_units)                     ; ctol = 1.0e-8\n",
    "    flopy.mf6.ModflowIms(sim,linear_acceleration=\"bicgstab\",print_option=\"summary\",outer_dvclose=ctol,inner_dvclose=ctol,)\n",
    "    gwt = flopy.mf6.ModflowGwt(sim, modelname=name, save_flows=True)\n",
    "    flopy.mf6.ModflowGwtdis(gwt,length_units=length_units,nlay=nlay,nrow=nrow,ncol=ncol,delr=delr,delc=delc,top=top,botm=botm)\n",
    "    flopy.mf6.ModflowGwtic(gwt, strt=initial_concentration)\n",
    "\n",
    "    distcoef = None\n",
    "    if Kf is not None:\n",
    "        distcoef = Kf\n",
    "    if Kl is not None:\n",
    "        distcoef = Kl\n",
    "    sp2 = None\n",
    "    if a is not None:\n",
    "        sp2 = a\n",
    "    if S is not None:\n",
    "        sp2 = S\n",
    "    volfracim = 0.0\n",
    "    if beta is not None:\n",
    "        if beta > 0:\n",
    "            volfracim = bulk_density / (bulk_density + porosity)\n",
    "\n",
    "    flopy.mf6.ModflowGwtmst(gwt,porosity=porosity / (1.0 - volfracim),\n",
    "                            bulk_density=bulk_density if sorption else None,sorption=sorption,distcoef=distcoef,sp2=sp2)\n",
    "    flopy.mf6.ModflowGwtadv(gwt, scheme=\"UPSTREAM\")\n",
    "    flopy.mf6.ModflowGwtdsp(gwt, xt3d_off=True, alh=dispersivity, ath1=dispersivity)\n",
    "    \n",
    "    if beta is not None:\n",
    "        if beta > 0:\n",
    "            porosity_im = bulk_density / volfracim          ; flopy.mf6.ModflowGwtist(gwt, volfrac=volfracim, porosity=porosity_im, zetaim=beta)\n",
    "    pd = [ (\"GWFHEAD\", \"../mf6gwf/flow.hds\", None),(\"GWFBUDGET\", \"../mf6gwf/flow.bud\", None)]\n",
    "    flopy.mf6.ModflowGwtfmi(gwt, packagedata=pd)            ; sourcerecarray = [[\"WEL-1\", \"AUX\", \"CONCENTRATION\"]]\n",
    "    flopy.mf6.ModflowGwtssm(gwt, sources=sourcerecarray)    ; obs_data = {f\"{name}.obs.csv\": [(\"X008\", \"CONCENTRATION\", (0, 0, 50)),],}  # !!!!\n",
    "    obs_package = flopy.mf6.ModflowUtlobs(gwt, digits=10    , print_input=True, continuous=obs_data)\n",
    "    flopy.mf6.ModflowGwtoc(gwt,budget_filerecord=f\"{name}.cbc\",concentration_filerecord=f\"{name}.ucn\",\n",
    "                           saverecord=[(\"CONCENTRATION\", \"ALL\"), (\"BUDGET\", \"LAST\")],\n",
    "                           printrecord=[(\"CONCENTRATION\", \"LAST\"), (\"BUDGET\", \"LAST\")])\n",
    "    return sim\n",
    "def build_models(sim_name, **kwargs):\n",
    "    sim_mf6gwf = build_mf6gwf(sim_name) ; sim_mf6gwt = build_mf6gwt(sim_name, **kwargs)\n",
    "    return sim_mf6gwf, sim_mf6gwt \n",
    "    \n",
    "def write_models(sims, silent=True):\n",
    "    sim_mf6gwf, sim_mf6gwt = sims       ; sim_mf6gwf.write_simulation(silent=silent)  ; sim_mf6gwt.write_simulation(silent=silent)\n",
    "@timed\n",
    "def run_models(sims, silent=True):\n",
    "    sim_mf6gwf, sim_mf6gwt = sims \n",
    "    success, buff = sim_mf6gwf.run_simulation(silent=silent, report=True)  ; assert success, pformat(buff)\n",
    "    success, buff = sim_mf6gwt.run_simulation(silent=silent, report=True)  ; assert success, pformat(buff)"
   ]
  },
  {
   "cell_type": "code",
   "execution_count": 8,
   "id": "6bec77b5",
   "metadata": {},
   "outputs": [],
   "source": [
    "def scenario(idx, silent=True):\n",
    "    key = list(parameters.keys())[idx]\n",
    "    parameter_dict = parameters[key]\n",
    "    sims = build_models(key, **parameter_dict)\n",
    "    if write:\n",
    "        write_models(sims, silent=silent)\n",
    "    if run:\n",
    "        run_models(sims, silent=silent)"
   ]
  },
  {
   "cell_type": "code",
   "execution_count": 9,
   "id": "0d1eb384-6426-4831-9157-aae3505be2bb",
   "metadata": {},
   "outputs": [
    {
     "name": "stdout",
     "output_type": "stream",
     "text": [
      "Building mf6gwf model...ex-gwt-mt3dms-p02a\n",
      "Building mf6gwt model...ex-gwt-mt3dms-p02a\n",
      "run_models took 3144.04 ms\n"
     ]
    }
   ],
   "source": [
    "scenario(0) "
   ]
  },
  {
   "cell_type": "code",
   "execution_count": 10,
   "id": "3373bfa0-ff75-4502-a945-6daa7cb4dbe8",
   "metadata": {},
   "outputs": [],
   "source": [
    "# build_mf6gwf('ex-gwt-mt3dms-p02f')    ; build_mf6gwt('ex-gwt-mt3dms-p02f')\n",
    "# hobj = sim_mf6gwf.output.head()    ; hds= hobj.get_data()   ; print('H (2000d)=', hds.shape)"
   ]
  },
  {
   "cell_type": "code",
   "execution_count": 11,
   "id": "78e3bd76-bf41-4bef-9f94-590444776b81",
   "metadata": {},
   "outputs": [],
   "source": [
    "sim_ws = os.path.join (workspace, 'ex-gwt-mt3dms-p02a')    \n",
    "fname = os.path.join  (sim_ws,    'mf6gwt' ,  'trans.obs.csv')   ; mf6gwt_ra = flopy.utils.Mf6Obs(fname).data\n",
    "mf6conc = mf6gwt_ra[\"X008\"] / source_concentration               ; then = pd.DataFrame(mf6conc) ; then.to_csv(output_folder / \"scenario(0)_C.csv\")"
   ]
  },
  {
   "cell_type": "code",
   "execution_count": 12,
   "id": "19e7c4e8-10c6-4e8b-85b8-799a66554767",
   "metadata": {},
   "outputs": [
    {
     "name": "stdout",
     "output_type": "stream",
     "text": [
      "(1500,)\n"
     ]
    }
   ],
   "source": [
    "print(mf6gwt_ra.shape)"
   ]
  },
  {
   "cell_type": "code",
   "execution_count": 13,
   "id": "d17ee123-c06b-4529-bbed-53e2288784a8",
   "metadata": {},
   "outputs": [],
   "source": [
    "fname = os.path.join(sim_ws, 'mf6gwt', 'trans.UCN')  # ;ucnobj = flopy.utils.UcnFile(fname)  # ; times = np.array(ucnobj.get_times()) # err ..."
   ]
  },
  {
   "cell_type": "code",
   "execution_count": 14,
   "id": "cd2c624b-48f0-44df-9d52-f306ffe1fb8c",
   "metadata": {},
   "outputs": [
    {
     "name": "stdout",
     "output_type": "stream",
     "text": [
      "heads= (1, 1, 101) perlen= [160, 1340]\n"
     ]
    }
   ],
   "source": [
    "fname  = os.path.join  (sim_ws,    'mf6gwf'  ,  'flow.hds')  \n",
    "hdobj  = flopy.utils.HeadFile(fname)    \n",
    "heads  = hdobj.get_data()            ; print('heads=',heads.shape, 'perlen=',perlen)       \n",
    "heads2 = heads[0,:,:]                ; then = pd.DataFrame(heads2) ; then.to_csv(output_folder / \"scenario(0)_H.csv\") "
   ]
  },
  {
   "cell_type": "code",
   "execution_count": 15,
   "id": "377c6747-df53-43de-8766-983bce99164e",
   "metadata": {},
   "outputs": [
    {
     "name": "stdout",
     "output_type": "stream",
     "text": [
      "[ 160 1500]\n"
     ]
    },
    {
     "data": {
      "text/plain": [
       "<Figure size 300x100 with 0 Axes>"
      ]
     },
     "execution_count": 15,
     "metadata": {},
     "output_type": "execute_result"
    },
    {
     "data": {
      "text/plain": [
       "<Figure size 300x100 with 0 Axes>"
      ]
     },
     "metadata": {},
     "output_type": "display_data"
    }
   ],
   "source": [
    "model_time = np.cumsum(perlen); print(model_time);   plt.figure(figsize=(3,1)) \n",
    "# plt.plot( [model_time[0],model_time[0]],  [0, 1],   '--k') ; plt.plot( [model_time[1],model_time[1]],  [0, 1],   '--k') "
   ]
  },
  {
   "cell_type": "raw",
   "id": "27f9933c-1a9b-4702-8e27-e134e6a8a8dc",
   "metadata": {
    "jupyter": {
     "source_hidden": true
    }
   },
   "source": [
    "with styles.USGSPlot():\n",
    "    sim_ws = os.path.join(workspace, 'ex-gwt-mt3dms-p02f')\n",
    "    fname = os.path.join(sim_ws, \"mf6gwt\", \"trans.obs.csv\")\n",
    "    mf6gwt_ra = flopy.utils.Mf6Obs(fname).data\n",
    "    mf6conc = mf6gwt_ra[\"X008\"] / source_concentration\n",
    "    iskip = 20\n",
    "    axs = plt.subplots(1, 1, figsize=(9, 2), dpi=100, tight_layout=True)\n",
    "    axs.plot(  mf6gwt_ra[\"totim\"][::iskip] , mf6conc[::iskip] ,\n",
    "             markerfacecolor = \"None\" , markeredgecolor = \"k\" , marker = \"o\" , markersize = \"3\" , linestyle = \"None\")\n",
    "    axs.set_ylim(0, 1)\n",
    "    axs.set_xlabel(\"Time (days)\")\n",
    "    axs.set_ylabel(\"Normalized Concentration (unitless)\")\n",
    "    axs.legend()\n",
    "    plt.show()"
   ]
  },
  {
   "cell_type": "code",
   "execution_count": 16,
   "id": "13a6b2ac-cc5f-4b82-aea7-432ab13668b9",
   "metadata": {},
   "outputs": [
    {
     "data": {
      "text/plain": [
       "Text(0, 0.5, 'Concentration')"
      ]
     },
     "execution_count": 16,
     "metadata": {},
     "output_type": "execute_result"
    },
    {
     "data": {
      "image/png": "[encoded data removed]",
      "text/plain": [
       "<Figure size 300x100 with 1 Axes>"
      ]
     },
     "metadata": {},
     "output_type": "display_data"
    }
   ],
   "source": [
    "plt.figure(figsize=(3, 1))  ; plt.plot(mf6conc)   ; plt.xlabel('Distance_x_1D (m)')   ; plt.ylabel('Concentration') "
   ]
  },
  {
   "cell_type": "code",
   "execution_count": 17,
   "id": "5a8550f5-a6f6-41c6-b0ca-e3df5fc9f560",
   "metadata": {},
   "outputs": [],
   "source": [
    "# obs_data"
   ]
  },
  {
   "cell_type": "code",
   "execution_count": null,
   "id": "c77119e7-ba89-40af-adec-f59ae2a233f6",
   "metadata": {},
   "outputs": [],
   "source": []
  }
 ],
 "metadata": {
  "jupytext": {
   "cell_metadata_filter": "-all"
  },
  "kernelspec": {
   "display_name": "Python 3 (ipykernel)",
   "language": "python",
   "name": "python3"
  },
  "language_info": {
   "codemirror_mode": {
    "name": "ipython",
    "version": 3
   },
   "file_extension": ".py",
   "mimetype": "text/x-python",
   "name": "python",
   "nbconvert_exporter": "python",
   "pygments_lexer": "ipython3",
   "version": "3.12.7"
  }
 },
 "nbformat": 4,
 "nbformat_minor": 5
}
