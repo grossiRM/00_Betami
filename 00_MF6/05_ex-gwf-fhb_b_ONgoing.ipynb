{
 "cells": [
  {
   "cell_type": "markdown",
   "id": "35fe29ec",
   "metadata": {},
   "source": [
    "## Flow and Head Boundary (FHB) Package Replication\n",
    "\n",
    "This example shows how the time series capability in MODFLOW 6 can be\n",
    "combined with the constant head and well packages to replicate the\n",
    "functionality of the Flow and Head Boundary (FHB) Package in previous\n",
    "versions of MODFLOW.\n"
   ]
  },
  {
   "cell_type": "markdown",
   "id": "721d9035",
   "metadata": {},
   "source": [
    "### Initial setup\n",
    "\n",
    "Import dependencies, define the example name and workspace, and read settings from environment variables."
   ]
  },
  {
   "cell_type": "code",
   "execution_count": 1,
   "id": "fc29f76b",
   "metadata": {
    "execution": {
     "iopub.execute_input": "2025-02-08T12:36:07.548524Z",
     "iopub.status.busy": "2025-02-08T12:36:07.548248Z",
     "iopub.status.idle": "2025-02-08T12:36:08.336415Z",
     "shell.execute_reply": "2025-02-08T12:36:08.335547Z"
    }
   },
   "outputs": [],
   "source": [
    "import os\n",
    "import pathlib as pl\n",
    "\n",
    "import flopy\n",
    "import git\n",
    "import matplotlib.pyplot as plt\n",
    "from flopy.plot.styles import styles\n",
    "from modflow_devtools.misc import get_env, timed\n",
    "\n",
    "# Example name and workspace paths. If this example is running\n",
    "# in the git repository, use the folder structure described in\n",
    "# the README. Otherwise just use the current working directory.\n",
    "sim_name = \"ex-gwf-fhb\"\n",
    "try:\n",
    "    root = pl.Path(git.Repo(\".\", search_parent_directories=True).working_dir)\n",
    "except:\n",
    "    root = None\n",
    "workspace = root / \"examples\" if root else pl.Path.cwd()\n",
    "figs_path = root / \"figures\" if root else pl.Path.cwd()\n",
    "\n",
    "# Settings from environment variables\n",
    "write = get_env(\"WRITE\", True)\n",
    "run = get_env(\"RUN\", True)\n",
    "plot = get_env(\"PLOT\", True)\n",
    "plot_show = get_env(\"PLOT_SHOW\", True)\n",
    "plot_save = get_env(\"PLOT_SAVE\", True)"
   ]
  },
  {
   "cell_type": "markdown",
   "id": "623514ba",
   "metadata": {},
   "source": [
    "### Define parameters\n",
    "\n",
    "Define model units, parameters and other settings."
   ]
  },
  {
   "cell_type": "code",
   "execution_count": 2,
   "id": "b9a28d14",
   "metadata": {
    "execution": {
     "iopub.execute_input": "2025-02-08T12:36:08.339272Z",
     "iopub.status.busy": "2025-02-08T12:36:08.338919Z",
     "iopub.status.idle": "2025-02-08T12:36:08.346003Z",
     "shell.execute_reply": "2025-02-08T12:36:08.345254Z"
    }
   },
   "outputs": [],
   "source": [
    "# Model units\n",
    "length_units = \"meters\"\n",
    "time_units = \"days\"\n",
    "\n",
    "# Model parameters\n",
    "nper = 3  # Number of periods\n",
    "nlay = 1  # Number of layers\n",
    "ncol = 10  # Number of columns\n",
    "nrow = 3  # Number of rows\n",
    "delr = 1000.0  # Column width ($m$)\n",
    "delc = 1000.0  # Row width ($m$)\n",
    "top = 50.0  # Top of the model ($m$)\n",
    "botm_str = \"-200.0\"  # Layer bottom elevations ($m$)\n",
    "strt = 0.0  # Starting head ($m$)\n",
    "icelltype_str = \"0\"  # Cell conversion type\n",
    "k11_str = \"20.0\"  # Horizontal hydraulic conductivity ($m/d$)\n",
    "ss = 0.01  # Specific storage ($/m$)\n",
    "\n",
    "# Static temporal data used by TDIS file\n",
    "# Simulation has 1 steady stress period (1 day)\n",
    "# and 3 transient stress periods (10 days each).\n",
    "# Each transient stress period has 120 2-hour time steps.\n",
    "perlen = [400.0, 200.0, 400.0]\n",
    "nstp = [10, 4, 6]\n",
    "tsmult = [1.0, 1.0, 1.0]\n",
    "tdis_ds = list(zip(perlen, nstp, tsmult))\n",
    "\n",
    "# Parse parameter strings into tuples\n",
    "botm = [float(value) for value in botm_str.split(\",\")]\n",
    "k11 = [float(value) for value in k11_str.split(\",\")]\n",
    "icelltype = [int(value) for value in icelltype_str.split(\",\")]\n",
    "\n",
    "# Solver parameters\n",
    "nouter = 50\n",
    "ninner = 100\n",
    "hclose = 1e-9\n",
    "rclose = 1e-6"
   ]
  },
  {
   "cell_type": "markdown",
   "id": "01cd38eb",
   "metadata": {
    "lines_to_next_cell": 2
   },
   "source": [
    "### Model setup\n",
    "\n",
    "Define functions to build models, write input files, and run the simulation."
   ]
  },
  {
   "cell_type": "code",
   "execution_count": 3,
   "id": "214c398a",
   "metadata": {
    "execution": {
     "iopub.execute_input": "2025-02-08T12:36:08.348739Z",
     "iopub.status.busy": "2025-02-08T12:36:08.348362Z",
     "iopub.status.idle": "2025-02-08T12:36:08.360662Z",
     "shell.execute_reply": "2025-02-08T12:36:08.359946Z"
    }
   },
   "outputs": [],
   "source": [
    "def build_models():\n",
    "    sim_ws = os.path.join(workspace, sim_name)\n",
    "    sim = flopy.mf6.MFSimulation(sim_name=sim_name, sim_ws=sim_ws, exe_name=\"mf6\")\n",
    "    flopy.mf6.ModflowTdis(sim, nper=nper, perioddata=tdis_ds, time_units=time_units)\n",
    "    flopy.mf6.ModflowIms(\n",
    "        sim,\n",
    "        outer_maximum=nouter,\n",
    "        outer_dvclose=hclose,\n",
    "        inner_maximum=ninner,\n",
    "        inner_dvclose=hclose,\n",
    "        rcloserecord=f\"{rclose} strict\",\n",
    "    )\n",
    "    gwf = flopy.mf6.ModflowGwf(sim, modelname=sim_name, save_flows=True)\n",
    "    flopy.mf6.ModflowGwfdis(\n",
    "        gwf,\n",
    "        length_units=length_units,\n",
    "        nlay=nlay,\n",
    "        nrow=nrow,\n",
    "        ncol=ncol,\n",
    "        delr=delr,\n",
    "        delc=delc,\n",
    "        top=top,\n",
    "        botm=botm,\n",
    "    )\n",
    "    flopy.mf6.ModflowGwfnpf(\n",
    "        gwf,\n",
    "        icelltype=icelltype,\n",
    "        k=k11,\n",
    "        save_specific_discharge=True,\n",
    "    )\n",
    "    flopy.mf6.ModflowGwfic(gwf, strt=strt)\n",
    "    flopy.mf6.ModflowGwfsto(\n",
    "        gwf,\n",
    "        storagecoefficient=True,\n",
    "        iconvert=0,\n",
    "        ss=1.0e-6,\n",
    "        sy=None,\n",
    "        transient={0: True},\n",
    "    )\n",
    "\n",
    "    chd_spd = []\n",
    "    chd_spd += [[0, i, 9, \"CHDHEAD\"] for i in range(3)]\n",
    "    chd_spd = {0: chd_spd}\n",
    "    tsdata = [(0.0, 0.0), (307.0, 1.0), (791.0, 5.0), (1000.0, 2.0)]\n",
    "    tsdict = {\n",
    "        \"timeseries\": tsdata,\n",
    "        \"time_series_namerecord\": \"CHDHEAD\",\n",
    "        \"interpolation_methodrecord\": \"LINEAREND\",\n",
    "    }\n",
    "    flopy.mf6.ModflowGwfchd(\n",
    "        gwf,\n",
    "        stress_period_data=chd_spd,\n",
    "        timeseries=tsdict,\n",
    "        pname=\"CHD\",\n",
    "    )\n",
    "\n",
    "    wel_spd = []\n",
    "    wel_spd += [[0, 1, 0, \"FLOWRATE\"]]\n",
    "    wel_spd = {0: wel_spd}\n",
    "    tsdata = [\n",
    "        (0.0, 2000.0),\n",
    "        (307.0, 6000.0),\n",
    "        (791.0, 5000.0),\n",
    "        (1000.0, 9000.0),\n",
    "    ]\n",
    "    tsdict = {\n",
    "        \"timeseries\": tsdata,\n",
    "        \"time_series_namerecord\": \"FLOWRATE\",\n",
    "        \"interpolation_methodrecord\": \"LINEAREND\",\n",
    "    }\n",
    "    flopy.mf6.ModflowGwfwel(\n",
    "        gwf,\n",
    "        stress_period_data=wel_spd,\n",
    "        timeseries=tsdict,\n",
    "        pname=\"WEL\",\n",
    "    )\n",
    "\n",
    "    head_filerecord = f\"{sim_name}.hds\"\n",
    "    budget_filerecord = f\"{sim_name}.cbc\"\n",
    "    flopy.mf6.ModflowGwfoc(\n",
    "        gwf,\n",
    "        head_filerecord=head_filerecord,\n",
    "        budget_filerecord=budget_filerecord,\n",
    "        saverecord=[(\"HEAD\", \"ALL\"), (\"BUDGET\", \"ALL\")],\n",
    "    )\n",
    "\n",
    "    obsdict = {}\n",
    "    obslist = [\n",
    "        [\"h1_2_1\", \"head\", (0, 1, 0)],\n",
    "        [\"h1_2_10\", \"head\", (0, 1, 9)],\n",
    "    ]\n",
    "    obsdict[f\"{sim_name}.obs.head.csv\"] = obslist\n",
    "    obslist = [[\"icf1\", \"flow-ja-face\", (0, 1, 1), (0, 1, 0)]]\n",
    "    obsdict[f\"{sim_name}.obs.flow.csv\"] = obslist\n",
    "    obs = flopy.mf6.ModflowUtlobs(gwf, print_input=False, continuous=obsdict)\n",
    "\n",
    "    return sim\n",
    "\n",
    "\n",
    "def write_models(sim, silent=True):\n",
    "    sim.write_simulation(silent=silent)\n",
    "\n",
    "\n",
    "@timed\n",
    "def run_models(sim, silent=False):\n",
    "    success, buff = sim.run_simulation(silent=silent, report=True)\n",
    "    assert success, buff"
   ]
  },
  {
   "cell_type": "markdown",
   "id": "708dcd51",
   "metadata": {},
   "source": [
    "### Plotting results\n",
    "\n",
    "Define functions to plot model results."
   ]
  },
  {
   "cell_type": "code",
   "execution_count": 4,
   "id": "05b12432",
   "metadata": {
    "execution": {
     "iopub.execute_input": "2025-02-08T12:36:08.363470Z",
     "iopub.status.busy": "2025-02-08T12:36:08.362786Z",
     "iopub.status.idle": "2025-02-08T12:36:08.374436Z",
     "shell.execute_reply": "2025-02-08T12:36:08.373728Z"
    },
    "lines_to_end_of_cell_marker": 2
   },
   "outputs": [],
   "source": [
    "# Figure properties\n",
    "figure_size = (4, 4)\n",
    "\n",
    "\n",
    "def plot_grid(sim):\n",
    "    with styles.USGSMap():\n",
    "        gwf = sim.get_model(sim_name)\n",
    "\n",
    "        fig = plt.figure(figsize=(4, 3.0))\n",
    "        fig.tight_layout()\n",
    "\n",
    "        ax = fig.add_subplot(1, 1, 1, aspect=\"equal\")\n",
    "        pmv = flopy.plot.PlotMapView(model=gwf, ax=ax, layer=0)\n",
    "        pmv.plot_grid()\n",
    "        pmv.plot_bc(name=\"CHD\")\n",
    "        pmv.plot_bc(name=\"WEL\")\n",
    "        ax.set_xlabel(\"x position (m)\")\n",
    "        ax.set_ylabel(\"y position (m)\")\n",
    "\n",
    "        if plot_show:\n",
    "            plt.show()\n",
    "        if plot_save:\n",
    "            fpth = figs_path / f\"{sim_name}-grid.png\"\n",
    "            fig.savefig(fpth)\n",
    "\n",
    "\n",
    "def plot_ts(sim):\n",
    "    with styles.USGSPlot():\n",
    "        gwf = sim.get_model(sim_name)\n",
    "        obsnames = gwf.obs.output.obs_names\n",
    "        obs_list = [\n",
    "            gwf.obs.output.obs(f=obsnames[0]),\n",
    "            gwf.obs.output.obs(f=obsnames[1]),\n",
    "        ]\n",
    "        ylabel = [\"head (m)\", \"flow ($m^3/d$)\"]\n",
    "        obs_fig = (\"obs-head\", \"obs-flow\", \"ghb-obs\")\n",
    "        for iplot, obstype in enumerate(obs_list):\n",
    "            fig = plt.figure(figsize=(5, 3))\n",
    "            ax = fig.add_subplot()\n",
    "            tsdata = obstype.data\n",
    "            for name in tsdata.dtype.names[1:]:\n",
    "                ax.plot(tsdata[\"totim\"], tsdata[name], label=name, marker=\"o\")\n",
    "            ax.set_xlabel(\"time (d)\")\n",
    "            ax.set_ylabel(ylabel[iplot])\n",
    "            styles.graph_legend(ax)\n",
    "            if plot_save:\n",
    "                fpth = figs_path / f\"{sim_name}-{obs_fig[iplot]}.png\"\n",
    "                fig.savefig(fpth)\n",
    "\n",
    "\n",
    "def plot_results(sim, silent=True):\n",
    "    plot_grid(sim)\n",
    "    plot_ts(sim)"
   ]
  },
  {
   "cell_type": "markdown",
   "id": "5af950d6",
   "metadata": {
    "lines_to_next_cell": 2
   },
   "source": [
    "### Running the example\n",
    "\n",
    "Define and invoke a function to run the example scenario, then plot results."
   ]
  },
  {
   "cell_type": "code",
   "execution_count": 5,
   "id": "53040b2b",
   "metadata": {
    "execution": {
     "iopub.execute_input": "2025-02-08T12:36:08.376511Z",
     "iopub.status.busy": "2025-02-08T12:36:08.376318Z",
     "iopub.status.idle": "2025-02-08T12:36:09.261639Z",
     "shell.execute_reply": "2025-02-08T12:36:09.260934Z"
    }
   },
   "outputs": [
    {
     "name": "stdout",
     "output_type": "stream",
     "text": [
      "<flopy.mf6.data.mfstructure.MFDataItemStructure object at 0x7f8b3cf5b1c0>\n",
      "run_models took 20.09 ms\n"
     ]
    },
    {
     "data": {
      "image/png": "[encoded data removed]",
      "text/plain": [
       "<Figure size 400x300 with 1 Axes>"
      ]
     },
     "metadata": {},
     "output_type": "display_data"
    },
    {
     "data": {
      "image/png": "[encoded data removed]",
      "text/plain": [
       "<Figure size 500x300 with 1 Axes>"
      ]
     },
     "metadata": {},
     "output_type": "display_data"
    },
    {
     "data": {
      "image/png": "[encoded data removed]",
      "text/plain": [
       "<Figure size 500x300 with 1 Axes>"
      ]
     },
     "metadata": {},
     "output_type": "display_data"
    }
   ],
   "source": [
    "def scenario(silent=True):\n",
    "    sim = build_models()\n",
    "    if write:\n",
    "        write_models(sim, silent=silent)\n",
    "    if run:\n",
    "        run_models(sim, silent=silent)\n",
    "    if plot:\n",
    "        plot_results(sim, silent=silent)\n",
    "\n",
    "\n",
    "scenario()"
   ]
  }
 ],
 "metadata": {
  "jupytext": {
   "cell_metadata_filter": "-all"
  },
  "kernelspec": {
   "display_name": "Python 3 (ipykernel)",
   "language": "python",
   "name": "python3"
  },
  "language_info": {
   "codemirror_mode": {
    "name": "ipython",
    "version": 3
   },
   "file_extension": ".py",
   "mimetype": "text/x-python",
   "name": "python",
   "nbconvert_exporter": "python",
   "pygments_lexer": "ipython3",
   "version": "3.12.7"
  }
 },
 "nbformat": 4,
 "nbformat_minor": 5
}
