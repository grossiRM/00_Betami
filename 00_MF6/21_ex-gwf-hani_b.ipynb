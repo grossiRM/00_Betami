{
 "cells": [
  {
   "cell_type": "markdown",
   "id": "e7b11c89-75c8-4ef6-9565-a2f7f952e2e9",
   "metadata": {},
   "source": [
    "**21_HANI_VANI**"
   ]
  },
  {
   "cell_type": "code",
   "execution_count": 1,
   "id": "8deb18d3",
   "metadata": {},
   "outputs": [],
   "source": [
    "import os ; import pathlib as pl ; import flopy ; import matplotlib.pyplot as plt ; import numpy as np; from pathlib import Path  \n",
    "from flopy.plot.styles import styles ; import shapefile as shp ; import matplotlib as mpl ; import pandas as pd  \n",
    "from modflow_devtools.misc import get_env, timed ; write=get_env(\"WRITE\", True);run=get_env(\"RUN\", True)"
   ]
  },
  {
   "cell_type": "code",
   "execution_count": 2,
   "id": "78c450f7-562c-4d06-8a0c-e0b4dca933d0",
   "metadata": {},
   "outputs": [],
   "source": [
    "sim_ws    = Path(\"./21_HANI_VANI\")                     ; sim_ws.mkdir(exist_ok=True)  ; #sim_name = \"parameters\"   \n",
    "ex1  = 'E:\\\\15_REPOS\\\\00_BETAMI\\\\bin\\\\mf6.exe'    ; workspace = figs_path = sim_ws    ; output_folder = sim_ws   "
   ]
  },
  {
   "cell_type": "code",
   "execution_count": 3,
   "id": "e551f842",
   "metadata": {},
   "outputs": [],
   "source": [
    "length_units = \"meters\" ; time_units = \"days\"         ; nper = 1 ;nlay = 1 ;nrow = 51 ;ncol = 51 ;delr = 10 ;delc = 10 \n",
    "parameters = {\"ex-gwf-hani_a\": {\"angle1\":  0, \"xt3d\": False} ,\n",
    "              \"ex-gwf-hani_b\": {\"angle1\": 25, \"xt3d\": True}  ,\"ex-gwf-hani_c\": {\"angle1\": 90, \"xt3d\": False}}\n",
    "top = 0 ;botm = -10 ;strt = 0 ;icelltype = 0 ;k11 = 1 ;k22 = 0.01 ; perlen = [1.0] ;nstp = [1] ;tsmult = [1.0] ;nouter = 50 ;\n",
    "ninner = 100 ;hclose = 0.000000001 ; rclose = 0.000001 ;  pumping_rate = -1 ; tdis_ds = list(zip(perlen, nstp, tsmult))"
   ]
  },
  {
   "cell_type": "code",
   "execution_count": 4,
   "id": "7b73fed5",
   "metadata": {},
   "outputs": [
    {
     "name": "stdout",
     "output_type": "stream",
     "text": [
      "<flopy.mf6.data.mfstructure.MFDataItemStructure object at 0x0000021354F07260>\n",
      "run_models took 106.53 ms\n",
      "<flopy.mf6.data.mfstructure.MFDataItemStructure object at 0x0000021354F07260>\n",
      "run_models took 94.32 ms\n",
      "<flopy.mf6.data.mfstructure.MFDataItemStructure object at 0x0000021354F07260>\n",
      "run_models took 94.34 ms\n"
     ]
    }
   ],
   "source": [
    "def build_models(sim_name, angle1, xt3d):\n",
    "    ibd = -1 * np.ones((nrow, ncol), dtype=int) ; ibd[1:-1, 1:-1] = 1 ; chdrow, chdcol = np.where(ibd == -1)\n",
    "    chd_spd = [[0, i, j, 0.0] for i, j in zip(chdrow, chdcol)]\n",
    "    head_filerecord = f\"{sim_name}.hds\" ; budget_filerecord = f\"{sim_name}.cbc\" ; rcloserecord = f\"{rclose}strict\"\n",
    "    \n",
    "    sim_ws = os.path.join(workspace, sim_name)\n",
    "    sim = flopy.mf6.MFSimulation  (sim_name=sim_name, sim_ws=sim_ws, exe_name=ex1)\n",
    "    flopy.mf6.ModflowTdis (sim, nper=nper, perioddata=tdis_ds, time_units=time_units)\n",
    "    flopy.mf6.ModflowIms  (sim ,linear_acceleration = \"bicgstab\" ,outer_maximum = nouter ,outer_dvclose = hclose ,inner_maximum = ninner ,\n",
    "                             inner_dvclose = hclose ,rcloserecord = rcloserecord)\n",
    "    gwf = flopy.mf6.ModflowGwf    (sim ,modelname = sim_name ,save_flows = True)\n",
    "    flopy.mf6.ModflowGwfdis (gwf ,length_units = length_units ,nlay = nlay ,nrow = nrow ,ncol = ncol ,top = top ,botm = botm)\n",
    "    flopy.mf6.ModflowGwfnpf (gwf ,icelltype = icelltype ,k = k11 ,k22 = k22 ,angle1 = angle1 ,save_specific_discharge = True ,xt3doptions = xt3d)\n",
    "    flopy.mf6.ModflowGwfic  (gwf, strt=strt)\n",
    "    flopy.mf6.ModflowGwfchd (gwf ,stress_period_data = chd_spd ,pname = \"CHD\")\n",
    "    flopy.mf6.ModflowGwfwel (gwf ,stress_period_data = [0 ,25 ,25 ,pumping_rate] ,pname = \"WEL\")\n",
    "    flopy.mf6.ModflowGwfoc  (gwf,head_filerecord=head_filerecord,budget_filerecord=budget_filerecord,saverecord=[(\"HEAD\",\"ALL\"),(\"BUDGET\",\"ALL\")])\n",
    "    return sim\n",
    "def write_models(sim, silent=True):  sim.write_simulation(silent=silent)\n",
    "@timed\n",
    "def run_models(sim, silent=False):\n",
    "    success, buff = sim.run_simulation(silent=silent, report=True)  ;  assert success, buff\n",
    "\n",
    "def scenario(idx, silent=True):\n",
    "    key = list(parameters.keys())[idx] ;     params = parameters[key].copy() ;     sim = build_models(key, **params)\n",
    "    if write: write_models(sim, silent=silent)\n",
    "    if run:   run_models(sim, silent=silent)\n",
    "scenario(0); scenario(1) ; scenario(2)"
   ]
  },
  {
   "cell_type": "code",
   "execution_count": 5,
   "id": "be12df89-1863-4c72-acfc-1aded4b0d04c",
   "metadata": {},
   "outputs": [],
   "source": [
    "s1=Path(\"21_HANI_VANI/ex-gwf-hani_a\") ; sim=flopy.mf6.MFSimulation.load(sim_ws=s1,exe_name=ex1,verbosity_level=0) ;gwf1=sim.get_model('ex-gwf-hani_a')\n",
    "s1=Path(\"21_HANI_VANI/ex-gwf-hani_b\") ; sim=flopy.mf6.MFSimulation.load(sim_ws=s1,exe_name=ex1,verbosity_level=0) ;gwf2=sim.get_model('ex-gwf-hani_b')\n",
    "s1=Path(\"21_HANI_VANI/ex-gwf-hani_c\") ; sim=flopy.mf6.MFSimulation.load(sim_ws=s1,exe_name=ex1,verbosity_level=0) ;gwf3=sim.get_model('ex-gwf-hani_c')"
   ]
  },
  {
   "cell_type": "code",
   "execution_count": 6,
   "id": "0cc74327-bbf6-414d-b383-52554edfa7fc",
   "metadata": {},
   "outputs": [
    {
     "data": {
      "image/png": "[encoded data removed]",
      "text/plain": [
       "<Figure size 1300x400 with 3 Axes>"
      ]
     },
     "metadata": {},
     "output_type": "display_data"
    }
   ],
   "source": [
    "fig = plt.figure(figsize=(13, 4))                             \n",
    "ax = fig.add_subplot(1, 3, 1, aspect=\"equal\")             ; head = gwf1.output.head().get_data()   ; h_L0 = pd.DataFrame(head[0,:,:])\n",
    "pmv = flopy.plot.PlotMapView(model=gwf1, ax=ax, layer=0)  ; cb = pmv.plot_array(0 - head, cmap=\"jet\", alpha=0.25)\n",
    "ax = fig.add_subplot(1, 3, 2, aspect=\"equal\")             ; head = gwf2.output.head().get_data()   ; h_L0 = pd.DataFrame(head[0,:,:])\n",
    "pmv = flopy.plot.PlotMapView(model=gwf2, ax=ax, layer=0)  ; cb = pmv.plot_array(0 - head, cmap=\"jet\", alpha=0.25)\n",
    "ax = fig.add_subplot(1, 3, 3, aspect=\"equal\")             ; head = gwf3.output.head().get_data()   ; h_L0 = pd.DataFrame(head[0,:,:])\n",
    "pmv = flopy.plot.PlotMapView(model=gwf3, ax=ax, layer=0)  ; cb = pmv.plot_array(0 - head, cmap=\"jet\", alpha=0.25)  ;  plt.show()"
   ]
  },
  {
   "cell_type": "code",
   "execution_count": null,
   "id": "5a043e81-0ec2-41fd-a125-f260729fd40c",
   "metadata": {},
   "outputs": [],
   "source": []
  }
 ],
 "metadata": {
  "jupytext": {
   "cell_metadata_filter": "-all"
  },
  "kernelspec": {
   "display_name": "Python 3 (ipykernel)",
   "language": "python",
   "name": "python3"
  },
  "language_info": {
   "codemirror_mode": {
    "name": "ipython",
    "version": 3
   },
   "file_extension": ".py",
   "mimetype": "text/x-python",
   "name": "python",
   "nbconvert_exporter": "python",
   "pygments_lexer": "ipython3",
   "version": "3.12.7"
  }
 },
 "nbformat": 4,
 "nbformat_minor": 5
}
