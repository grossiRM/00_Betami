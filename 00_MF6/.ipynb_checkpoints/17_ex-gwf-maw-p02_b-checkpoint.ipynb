{
 "cells": [
  {
   "cell_type": "markdown",
   "id": "4dfa6ef6",
   "metadata": {},
   "source": [
    "**17_MAW_ii**"
   ]
  },
  {
   "cell_type": "code",
   "execution_count": 1,
   "id": "1a5f2b88-12ba-4706-b5d1-916b2f225e19",
   "metadata": {},
   "outputs": [],
   "source": [
    "import os ; import pathlib as pl ; import flopy ; import matplotlib.pyplot as plt ; import numpy as np; from pathlib import Path  \n",
    "from flopy.plot.styles import styles ; import shapefile as shp ; import matplotlib as mpl\n",
    "import pandas as pd ; from modflow_devtools.misc import get_env, timed ; write=get_env(\"WRITE\", True);run=get_env(\"RUN\", True)"
   ]
  },
  {
   "cell_type": "code",
   "execution_count": 2,
   "id": "0d1ea10b-70a0-4e3c-8aa8-4d6fa14fda00",
   "metadata": {},
   "outputs": [],
   "source": [
    "sim_ws         = Path(\"./17_MAW_ii\")                        ; sim_ws.mkdir(exist_ok=True) ; sim_name = \"ex-gwf-maw-p02\"\n",
    "exe_name       = 'E:\\\\15_REPOS\\\\00_BETAMI\\\\bin\\\\mf6.exe'    ; workspace = figs_path = sim_ws ; gwf_name = sim_name ; output_folder = sim_ws"
   ]
  },
  {
   "cell_type": "code",
   "execution_count": 8,
   "id": "e6b7c5ab",
   "metadata": {},
   "outputs": [],
   "source": [
    "length_units = \"meters\" ; time_units = \"days\" ; nper = 1 ;nlay = 2 ;nrow = 101 ;ncol = 101 ;delr = 142 ;delc = 142 ;top = -50 ;\n",
    "botm_str = \"-142.9,-514.5\" ;strt_str = \"3.05,9.14\" ;k11 = 1 ;k33 = 0.0000000000000001 ;ss = 0.0001 ;maw_radius = 0.15 ;maw_rate = 0 ;\n",
    "nouter = 500 ;ninner = 100 ;hclose = 0.000000001 ;rclose = 0.0001 ;\n",
    "\n",
    "botm = [float(value) for value in botm_str.split(\",\")]                                      ; strt = [float(value) for value in strt_str.split(\",\")]\n",
    "tdis_ds = ((2.314815, 50, 1.2),)        ; extents = (0.0, delr * ncol, 0.0, delc * nrow)    ; shape2d = (nrow, ncol)  ; shape3d = (nlay, nrow, ncol)\n",
    "idomain = np.ones(shape3d, dtype=float) ; xw, yw = (ncol / 2) * delr, (nrow / 2) * delc     ; y = 0.0\n",
    "for i in range(nrow):\n",
    "    x = 0.0 ; y = (float(i) + 0.5) * delc\n",
    "    for j in range(ncol):\n",
    "        x = (float(j) + 0.5) * delr  ; r = np.sqrt((x - xw) ** 2.0 + (y - yw) ** 2.0)\n",
    "        if r > 7163.0: idomain[:, i, j] = 0\n",
    "maw_row = int(nrow / 2)  ; maw_col = int(ncol / 2)   ; maw_packagedata = [[0, maw_radius, botm[-1], strt[-1], \"SPECIFIED\", 2]]\n",
    "maw_conn = [[0, 0, 0, maw_row, maw_col, top, botm[-1], 111.3763, -999.0],[0, 1, 1, maw_row, maw_col, top, botm[-1], 445.9849, -999.0]]\n",
    "maw_spd = [[0, \"rate\", maw_rate], [0, \"flowing_well\", 0.0, 7500.0, 0.5]]"
   ]
  },
  {
   "cell_type": "code",
   "execution_count": 9,
   "id": "8500fb7d",
   "metadata": {},
   "outputs": [
    {
     "name": "stdout",
     "output_type": "stream",
     "text": [
      "<flopy.mf6.data.mfstructure.MFDataItemStructure object at 0x000001CCB07FCE90>\n",
      "run_models took 2589.56 ms\n"
     ]
    }
   ],
   "source": [
    "def build_models():\n",
    "    obs_file = f\"{sim_name}.maw.obs\" ; csv_file = obs_file + \".csv\"\n",
    "    obs_dict = {csv_file: [(\"head\", \"head\", (0,)),(\"Q1\", \"maw\", (0,), (0,)),(\"Q2\", \"maw\", (0,), (1,)),(\"FW\", \"fw-rate\", (0,))]}\n",
    "\n",
    "    sim_ws = os.path.join(workspace,sim_name)\n",
    "    sim = flopy.mf6.MFSimulation    (sim_name=sim_name,sim_ws=sim_ws,exe_name=\"mf6\")\n",
    "    flopy.mf6.ModflowTdis   (sim,nper=nper,perioddata=tdis_ds,time_units=time_units)\n",
    "    flopy.mf6.ModflowIms    (sim,print_option=\"summary\",outer_maximum=nouter,outer_dvclose=hclose,inner_maximum=ninner,inner_dvclose=hclose,rcloserecord=f\"{rclose}strict\")\n",
    "    gwf = flopy.mf6.ModflowGwf      (sim,modelname=sim_name,save_flows=True)\n",
    "    flopy.mf6.ModflowGwfdis     (gwf,length_units=length_units,nlay=nlay,nrow=nrow,ncol=ncol,delr=delr,delc=delc,top=top,botm=botm,idomain=idomain)\n",
    "    flopy.mf6.ModflowGwfnpf     (gwf,icelltype=0,k=k11,k33=k33,save_specific_discharge=True)\n",
    "    flopy.mf6.ModflowGwfsto     (gwf,iconvert=0,ss=ss)\n",
    "    flopy.mf6.ModflowGwfic      (gwf,strt=strt)\n",
    "    maw=flopy.mf6.ModflowGwfmaw (gwf,flowing_wells=True,nmawwells=1,packagedata=maw_packagedata,connectiondata=maw_conn,perioddata=maw_spd)\n",
    "    maw.obs.initialize (filename= obs_file, digits=10, print_input=True, continuous=obs_dict)\n",
    "    flopy.mf6.ModflowGwfoc      (gwf, printrecord=[(\"BUDGET\", \"LAST\")])\n",
    "    return sim\n",
    "def write_models(sim, silent=True):\n",
    "    sim.write_simulation(silent=silent)\n",
    "@timed\n",
    "def run_models(sim, silent=True):\n",
    "    success, buff = sim.run_simulation(silent=silent)  ; assert success, buff\n",
    "def scenario(silent=True):\n",
    "    sim = build_models()\n",
    "    if write:  write_models(sim, silent=silent)\n",
    "    if run:    run_models  (sim, silent=silent)\n",
    "scenario()"
   ]
  },
  {
   "cell_type": "code",
   "execution_count": null,
   "id": "863a8efb-7e54-4ea2-aaa4-9cf863741b22",
   "metadata": {},
   "outputs": [],
   "source": []
  }
 ],
 "metadata": {
  "jupytext": {
   "cell_metadata_filter": "-all"
  },
  "kernelspec": {
   "display_name": "Python 3 (ipykernel)",
   "language": "python",
   "name": "python3"
  },
  "language_info": {
   "codemirror_mode": {
    "name": "ipython",
    "version": 3
   },
   "file_extension": ".py",
   "mimetype": "text/x-python",
   "name": "python",
   "nbconvert_exporter": "python",
   "pygments_lexer": "ipython3",
   "version": "3.12.7"
  }
 },
 "nbformat": 4,
 "nbformat_minor": 5
}
