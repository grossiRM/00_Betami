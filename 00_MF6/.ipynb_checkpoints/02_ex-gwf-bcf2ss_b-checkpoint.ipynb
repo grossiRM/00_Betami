{
 "cells": [
  {
   "cell_type": "markdown",
   "id": "4ac969c3-cac8-4260-9305-9c91442519aa",
   "metadata": {},
   "source": [
    "**02_BCF2SS Model___BCF___Block-Centered Flow Package**"
   ]
  },
  {
   "cell_type": "code",
   "execution_count": null,
   "id": "da5de64a",
   "metadata": {},
   "outputs": [],
   "source": [
    "import os ; import pathlib as pl ; import flopy ; import git ; import matplotlib as mpl ; import matplotlib.pyplot as plt; import pandas as pd\n",
    "import numpy as np ; from flopy.plot.styles import styles ; from modflow_devtools.misc import get_env, timed; from pathlib import Path"
   ]
  },
  {
   "cell_type": "code",
   "execution_count": null,
   "id": "c2bf6bae-bd4a-4d2f-b8e3-475808f367a6",
   "metadata": {},
   "outputs": [],
   "source": [
    "sim_name = \"ex-gwf-bcf2ss\" ; output_folder = Path(\"./02_BCF2SS\")        ; output_folder.mkdir(exist_ok=True)  \n",
    "data_file_with_path = os.path.join('E:\\\\15_REPOS\\\\00_BETAMI\\\\bin\\\\data_modflow6-examples\\\\ex-gwf-bcf2ss', \"wetdry01.txt\")    \n",
    "wetdry_layer0 = np.loadtxt(data_file_with_path)   # _____________________________________________________________input 01 \n",
    "workspace = output_folder ; figs_path = output_folder; np.savetxt(workspace/\"a_wetdry_layer0.csv\", wetdry_layer0, delimiter = \",\")    "
   ]
  },
  {
   "cell_type": "code",
   "execution_count": null,
   "id": "449ec04c-49f5-44a7-b526-332aa032bf80",
   "metadata": {},
   "outputs": [],
   "source": [
    "length_units = \"feet\" ; time_units = \"days\"\n",
    "parameters = {\"ex-gwf-bcf2ss-p01a\": {\"rewet\": True,\"wetfct\": 1.0,\"iwetit\": 1,\"ihdwet\": 0,\"linear_acceleration\": \"cg\",\"newton\": None},\n",
    "              \"ex-gwf-bcf2ss-p02a\": {\"rewet\": False,\"wetfct\": None,\"iwetit\": None,\"ihdwet\": None,\"linear_acceleration\": \"bicgstab\",\"newton\": \"NEWTON\"}}"
   ]
  },
  {
   "cell_type": "code",
   "execution_count": null,
   "id": "e47b2642",
   "metadata": {},
   "outputs": [],
   "source": [
    "nper = 2 ;               nlay = 2 ;nrow = 10 ;ncol = 15 ;delr = 500 ;delc = 500            ;top = 150 ;botm_str = \"50.0,-50.\" ;icelltype_str = \"1,0\"   \n",
    "k33 = 0.1 ;  strt = 0 ;  recharge = 0.004 ;  nouter = 500 ;  ninner = 100 ;  hclose = 0.000001 ;  rclose = 0.001 ;  relax = 0.97 ;  k11_str = \"10,5\"\n",
    "tdis_ds = ((1.0, 1.0, 1),(1.0, 1.0, 1),)                           \n",
    "\n",
    "botm = [float(value) for value in botm_str.split(\",\")]            \n",
    "icelltype = [int(value) for value in icelltype_str.split(\",\")]     ; k11 = [float(value) for value in k11_str.split(\",\")]\n",
    "wel_spd = {1: [[1, 2, 3, -35000.0],[1, 7, 3, -35000.0],]}          ; riv_spd = {0: [[1, i, 14, 0.0, 10000.0, -5] for i in range(nrow)]}"
   ]
  },
  {
   "cell_type": "code",
   "execution_count": null,
   "id": "c2999c27-f38a-4ab1-8272-cd44db05f43b",
   "metadata": {},
   "outputs": [],
   "source": [
    "with open(workspace/'_a_parameters.txt', 'w') as f:             # ModflowIms\n",
    "    print(parameters, file=f)    "
   ]
  },
  {
   "cell_type": "code",
   "execution_count": null,
   "id": "2b1e7a36-1a15-4dcc-9efa-c96af0889fe2",
   "metadata": {},
   "outputs": [],
   "source": [
    "row = wel_spd ; sa = pd.DataFrame(row)      ;  sa.to_csv (output_folder / \"b_wel_spd.csv\")      ; print('wel_spd',sa.shape)\n",
    "row = riv_spd  [0] ; sa = pd.DataFrame(row) ;  sa.to_csv (output_folder / \"c_river.csv\")        ; print('river',sa.shape)\n",
    "# top_list = [top]; top_list.extend([i-top for i in botm])                                      ; print('layers_err',top_list)  # see ex:01\n",
    "top=[top] ;sa1=pd.DataFrame(top) ;sa2=pd.DataFrame(botm) ;fr=[sa1,sa2] ;rs=pd.concat(fr) ; rs=rs.values.tolist() ; print('sufaces',rs)\n",
    "image = plt.imread('_aux\\\\02_BCF2SS.png'); fig, ax = plt.subplots() ; ax.imshow(image) ; ax.axis('off') ; plt.show() "
   ]
  },
  {
   "cell_type": "code",
   "execution_count": null,
   "id": "00ab3678-1c31-4b23-a3d5-d10cf03e172e",
   "metadata": {},
   "outputs": [],
   "source": [
    "rewet = []\n",
    "if rewet:\n",
    "    rewet_record = [\"wetfct\", wetfct, \"iwetit\", iwetit, \"ihdwet\", ihdwet]       ; wetdry = [wetdry_layer0, 0]\n",
    "else:\n",
    "    rewet_record = None  ; wetdry = None"
   ]
  },
  {
   "cell_type": "code",
   "execution_count": null,
   "id": "78ba037b",
   "metadata": {
    "lines_to_end_of_cell_marker": 2,
    "lines_to_next_cell": 2,
    "scrolled": true
   },
   "outputs": [],
   "source": [
    "sim_ws = os.path.join(output_folder, sim_name)\n",
    "sim = flopy.mf6.MFSimulation(sim_name=sim_name, sim_ws=sim_ws, exe_name=\"mf6\")\n",
    "flopy.mf6.ModflowTdis(sim, nper=nper, perioddata=tdis_ds, time_units=time_units)\n",
    "flopy.mf6.ModflowIms(sim,linear_acceleration='bicgstab'    , outer_maximum=nouter, outer_dvclose=hclose,         # linear  cg  bicgstab\n",
    "                     inner_maximum=ninner, inner_dvclose=hclose,rcloserecord=f\"{rclose} strict\",relaxation_factor=relax)\n",
    "gwf = flopy.mf6.ModflowGwf(sim, modelname=sim_name, save_flows=True, newtonoptions=\"NEWTON\")\n",
    "flopy.mf6.ModflowGwfdis(gwf,length_units=length_units,nlay=nlay,nrow=nrow,ncol=ncol,delr=delr,delc=delc,top=top,botm=botm)\n",
    "\n",
    "flopy.mf6.ModflowGwfnpf(gwf,rewet_record=rewet_record,      wetdry=wetdry,icelltype=icelltype,    k=k11,k33=k33,save_specific_discharge=True)\n",
    "flopy.mf6.ModflowGwfic(gwf, strt=strt)\n",
    "flopy.mf6.ModflowGwfriv(gwf, stress_period_data=riv_spd)\n",
    "flopy.mf6.ModflowGwfwel(gwf, stress_period_data=wel_spd)\n",
    "flopy.mf6.ModflowGwfrcha(gwf, recharge=recharge)\n",
    "head_filerecord = f\"{sim_name}.hds\"\n",
    "budget_filerecord = f\"{sim_name}.cbc\"\n",
    "flopy.mf6.ModflowGwfoc(gwf,head_filerecord=head_filerecord,budget_filerecord=budget_filerecord,saverecord=[(\"HEAD\", \"ALL\"), (\"BUDGET\", \"ALL\")])\n",
    "\n",
    "sim.write_simulation(silent=False)  ; sim.run_simulation(silent=False)  # False True"
   ]
  },
  {
   "cell_type": "code",
   "execution_count": null,
   "id": "34686fc6-d254-40ca-9530-833eb9c9bf95",
   "metadata": {},
   "outputs": [],
   "source": [
    "sim_ws=os.path.join(workspace,sim_name) ;gwf=sim.get_model(sim_name) ; hobj=gwf.output.head() ; head=hobj.get_data() ; cobj=gwf.output.budget()  \n",
    "print('heads=', head.shape); sv = head.reshape(head.shape[0],-1)     ; then=pd.DataFrame(sv)  ; then.to_csv (output_folder / 'd_H_3D.csv' )  "
   ]
  },
  {
   "cell_type": "code",
   "execution_count": null,
   "id": "42e34561-a609-40f3-afee-b32a20cb2f1a",
   "metadata": {},
   "outputs": [],
   "source": [
    "def annotate_axes(fig):\n",
    "    for i, ax in enumerate(fig.axes):\n",
    "        L = 0; ax1.contour( head [L,:,:]   ,levels=np.arange(L, np.percentile(sv[0],95),10)   , extent=gwf.modelgrid.extent)\n",
    "        L = 1; ax2.contour( head [L,:,:]   ,levels=np.arange(L, np.percentile(sv[0],95),10)   , extent=gwf.modelgrid.extent)\n",
    "fig = plt.figure()    ; ax1 = plt.subplot2grid((2, 2), (1, 0))        ; ax2 = plt.subplot2grid((2, 2), (1, 1))  ; annotate_axes(fig) ; plt.show()"
   ]
  },
  {
   "cell_type": "code",
   "execution_count": null,
   "id": "dccadd6c-578f-4625-8c53-01f6a506bc36",
   "metadata": {},
   "outputs": [],
   "source": [
    "qx, qy, qz = flopy.utils.postprocessing.get_specific_discharge(cobj.get_data(text=\"DATA-SPDIS\", kstpkper=(0, 0))[0], gwf)\n",
    "fig = plt.figure(figsize=(3, 3))          \n",
    "L = 0 ; mm = flopy.plot.PlotMapView(model=gwf, layer=L, extent=gwf.modelgrid.extent) \n",
    "cbv = mm.plot_array(head) ; q = mm.plot_vector(qx, qy)  ; cb = plt.colorbar(cbv, ax=mm.ax, shrink=.5) # grid, vectors, Legend\n",
    "mm.plot_bc(ftype=\"RIV\", color=\"red\", plotAll=True)\n",
    "\n",
    "qx, qy, qz = flopy.utils.postprocessing.get_specific_discharge(cobj.get_data(text=\"DATA-SPDIS\", kstpkper=(0, 0))[0], gwf)\n",
    "fig = plt.figure(figsize=(3, 3))          \n",
    "L = 1 ; mm = flopy.plot.PlotMapView(model=gwf, layer=L, extent=gwf.modelgrid.extent) \n",
    "cbv = mm.plot_array(head) ; q = mm.plot_vector(qx, qy)  ; cb = plt.colorbar(cbv, ax=mm.ax, shrink=.5) # grid, vectors, Legend\n",
    "mm.plot_bc(ftype=\"RIV\", color=\"red\", plotAll=True); mm.plot_bc(ftype=\"WEL\", kper=1, plotAll=True)"
   ]
  },
  {
   "cell_type": "raw",
   "id": "cb1f76cb-0c63-4d8e-a066-fb971af0cf09",
   "metadata": {},
   "source": [
    "gs = mpl.gridspec.GridSpec(nrows=8, ncols=10, figure=fig)  ; plt.axis(\"off\")\n",
    "fig = plt.figure(figsize=(3, 3)) \n",
    "\n",
    "ax = fig.add_subplot(gs[:5, 7:])\n",
    "mm = flopy.plot.PlotCrossSection(model=gwf, ax=ax, line={\"row\": 7})     ; mm.plot_array(np.ones((nlay, nrow, ncol)), head=head, cmap=\"jet\")\n",
    "mm.plot_bc(ftype=\"WEL\", kper=1)      ; mm.plot_bc(ftype=\"RIV\", color=\"green\", head=head)   ; mm.plot_grid(lw=0.5, color=\"0.5\")\n",
    "#ax.set_ylabel(\"Elevation, in feet\")  ; ax.set_xlabel(\"x-coordinate along \\nrow 8, in feet\")\n",
    "#styles.heading(ax, letter=\"B\", heading=\"Cross-section view\")    ; styles.remove_edge_ticks(ax)\n",
    "plt.show()"
   ]
  },
  {
   "cell_type": "code",
   "execution_count": null,
   "id": "5fcd7f70-6eb0-4995-b3e5-26cd5a33bd06",
   "metadata": {},
   "outputs": [],
   "source": [
    "fig = plt.figure(figsize=(4, 3), constrained_layout=True)   ; ax = fig.add_subplot(1, 1, 1) ; ax.set_aspect(\"equal\")\n",
    "mm = flopy.plot.PlotMapView(model=gwf, ax=ax)  ; wd = mm.plot_array(wetdry_layer0)  ; mm.plot_grid(lw=0.5, color=\"0.5\")\n",
    "cbar = plt.colorbar(wd, shrink=0.5) ; cbar.ax.set_ylabel(\"WETDRY parameter\")\n",
    "ax.set_ylabel(\"y-coordinate, in feet\") ; ax.set_xlabel(\"x-coordinate, in feet\") ; styles.remove_edge_ticks(ax) ; plt.show()"
   ]
  },
  {
   "cell_type": "code",
   "execution_count": null,
   "id": "d2020f27-8e1c-4d45-bf9a-e064a261b3f5",
   "metadata": {},
   "outputs": [],
   "source": []
  }
 ],
 "metadata": {
  "jupytext": {
   "cell_metadata_filter": "-all"
  },
  "kernelspec": {
   "display_name": "Python 3 (ipykernel)",
   "language": "python",
   "name": "python3"
  },
  "language_info": {
   "codemirror_mode": {
    "name": "ipython",
    "version": 3
   },
   "file_extension": ".py",
   "mimetype": "text/x-python",
   "name": "python",
   "nbconvert_exporter": "python",
   "pygments_lexer": "ipython3",
   "version": "3.12.7"
  }
 },
 "nbformat": 4,
 "nbformat_minor": 5
}
