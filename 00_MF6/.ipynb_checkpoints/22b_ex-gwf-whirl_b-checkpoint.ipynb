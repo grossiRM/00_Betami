{
 "cells": [
  {
   "cell_type": "markdown",
   "id": "a2d25999-b087-420d-8873-c34d2f7c6968",
   "metadata": {},
   "source": [
    "**22_whirl**"
   ]
  },
  {
   "cell_type": "code",
   "execution_count": 1,
   "id": "3d82ba53-2bc5-4af8-ae50-d6853d30053b",
   "metadata": {},
   "outputs": [],
   "source": [
    "import os ; import pathlib as pl ; import flopy ; import matplotlib.pyplot as plt ; import numpy as np; from pathlib import Path  \n",
    "from flopy.plot.styles import styles ; import shapefile as shp ; import matplotlib as mpl ; import pandas as pd  \n",
    "from modflow_devtools.misc import get_env, timed ; write=get_env(\"WRITE\", True);run=get_env(\"RUN\", True)\n",
    "plot = get_env(\"PLOT\", True) ; plot_show = get_env(\"PLOT_SHOW\", True)"
   ]
  },
  {
   "cell_type": "code",
   "execution_count": 2,
   "id": "3e07c7be-63ee-44db-adf4-f3cec340f7cd",
   "metadata": {},
   "outputs": [],
   "source": [
    "sim_ws  = Path(\"./22_whirl\")                         ; sim_ws.mkdir(exist_ok=True)       ; sim_name = \"ex-gwf-whirl\"\n",
    "ex1     = 'E:\\\\15_REPOS\\\\00_BETAMI\\\\bin\\\\mf6.exe'    ; workspace = figs_path = sim_ws    ; ws = output_folder = sim_ws   "
   ]
  },
  {
   "cell_type": "code",
   "execution_count": 3,
   "id": "7c8c2e8b",
   "metadata": {},
   "outputs": [],
   "source": [
    "length_units = \"meters\"   ; time_units = \"days\" ; nper = 1 ;nouter = 50    ; ninner = 100 ;hclose = 0.000000001 ;rclose = 0.000001 \n",
    "nlay = 10      ;nrow = 10 ; ncol = 51    ;delr = 100 ;delc = 100  ;top = 0 ; strt = 0     ;icelltype = 0        ;k11 =1 ; k22 =0.1 ;k33 =1 \n",
    "inflow_rate = 0.01 ;perlen = [1.0] ;nstp = [1] ;tsmult = [1.0] \n",
    "\n",
    "botm_str = \"-100, -200, -300, -400, -500, -600, -700, -800, -900, -1000\"  ; angle1_str = \"45, 45, 45, 45, 45, -45, -45, -45, -45, -45\"  \n",
    "#angle1_str = \"90, 90, 90, 90, 90, -90, -90, -90, -90, -90\"  \n",
    "#angle1_str = \"0, 0, 0, 0, 0, -0, -0, -0, -0, -0\"  \n",
    "#angle1_str = \"75, 75, 75, 75, 75, -75, -75, -75, -75, -75\"  \n",
    "tdis_ds=list(zip(perlen,nstp,tsmult)) ;botm=[float(value)for value in botm_str.split(\",\")]  ;angle1=[float(value)for value in angle1_str.split(\",\")]"
   ]
  },
  {
   "cell_type": "code",
   "execution_count": 4,
   "id": "0c1689f0",
   "metadata": {},
   "outputs": [
    {
     "name": "stdout",
     "output_type": "stream",
     "text": [
      "<flopy.mf6.data.mfstructure.MFDataItemStructure object at 0x00000218DC838830>\n",
      "run_models took 272.26 ms\n"
     ]
    }
   ],
   "source": [
    "def build_models():\n",
    "    rate       = np.zeros((nlay, nrow, ncol), dtype=float)                          ; rate[:,:,0]=inflow_rate   ; rate[:,:,-1]=-inflow_rate\n",
    "    wZ, wR, wL = np.where(rate != 0.0)     ;wel_spd=[((k, i, j), rate[k, i, j]) for k,i,j in zip(wZ, wR, wL)]   ; wel_spd={0:wel_spd}\n",
    "    head_filerecord=f\"{sim_name}.hds\" ; budget_filerecord=f\"{sim_name}.cbc\"\n",
    "\n",
    "    sim = flopy.mf6.MFSimulation (sim_name=sim_name, sim_ws=sim_ws, exe_name=\"mf6\")\n",
    "    flopy.mf6.ModflowTdis (sim, nper=nper, perioddata=tdis_ds, time_units=time_units)\n",
    "    flopy.mf6.ModflowIms  (sim,linear_acceleration=\"bicgstab\",outer_maximum=nouter,outer_dvclose=hclose,\n",
    "                               inner_maximum=ninner,inner_dvclose=hclose,rcloserecord=f\"{rclose}strict\")\n",
    "    gwf=flopy.mf6.ModflowGwf (sim,modelname=sim_name,save_flows=True)\n",
    "    flopy.mf6.ModflowGwfdis  (gwf,length_units=length_units,nlay=nlay,nrow=nrow,ncol=ncol,delr=delr,delc=delc,top=top,botm=botm)\n",
    "    flopy.mf6.ModflowGwfnpf  (gwf,icelltype=icelltype,  k=k11,  k22=k22,  k33=k33  ,angle1=angle1,   save_specific_discharge=True,xt3doptions=True)\n",
    "    flopy.mf6.ModflowGwfic   (gwf, strt=strt)\n",
    "    flopy.mf6.ModflowGwfwel  (gwf,stress_period_data=wel_spd,pname=\"WEL\")\n",
    "    flopy.mf6.ModflowGwfoc   (gwf,head_filerecord=head_filerecord,budget_filerecord=budget_filerecord,saverecord=[(\"HEAD\",\"ALL\"),(\"BUDGET\",\"ALL\")])\n",
    "    return sim\n",
    "def write_models(sim, silent=True):\n",
    "    sim.write_simulation(silent=silent)\n",
    "@timed\n",
    "def run_models(sim, silent=False):     success, buff = sim.run_simulation(silent=silent, report=True)  ; assert success, buff\n",
    "def scenario(idx, silent=True):\n",
    "    sim = build_models()\n",
    "    if write:  write_models(sim, silent=silent) \n",
    "    if run:  run_models(sim, silent=silent)\n",
    "scenario(0)"
   ]
  },
  {
   "cell_type": "code",
   "execution_count": 5,
   "id": "0f9e7953-39f5-49de-ace3-827e18e38b49",
   "metadata": {},
   "outputs": [
    {
     "name": "stdout",
     "output_type": "stream",
     "text": [
      "<flopy.mf6.data.mfstructure.MFDataItemStructure object at 0x00000218DC838830>\n",
      "(10, 10, 51)\n"
     ]
    }
   ],
   "source": [
    "sim = build_models() ; gwf = sim.get_model(sim_name); hobj = gwf.output.head()  ;  head = hobj.get_data(totim=1.0) ; print(head.shape)\n",
    "#x1 = gwf.output.budget().get_data(text=\"DATA-SPDIS\", totim=1.0);  x2 = pd.DataFrame(x1); x2.T.head()"
   ]
  },
  {
   "cell_type": "code",
   "execution_count": 16,
   "id": "47bc720b-d835-4eee-8348-b43fcf03b22a",
   "metadata": {},
   "outputs": [
    {
     "data": {
      "text/plain": [
       "array([[[ 2.07542317e-14, -8.30010132e-03,  2.29036304e-03, ...,\n",
       "         -2.23878142e-03,  4.08385016e-03,  8.15493126e-03]]])"
      ]
     },
     "execution_count": 16,
     "metadata": {},
     "output_type": "execute_result"
    }
   ],
   "source": [
    "x1 = gwf.output.budget().get_data(totim=1)[0] ; x1"
   ]
  },
  {
   "cell_type": "code",
   "execution_count": 6,
   "id": "29d97da3-29ac-4873-a520-00e8c86deaa4",
   "metadata": {},
   "outputs": [
    {
     "data": {
      "text/plain": [
       "rec.array([(   1,    1, 0., 8.30010132e-07,  2.29036304e-07, -3.99026171e-07),\n",
       "           (   2,    2, 0., 7.90996258e-07,  2.62454121e-07, -3.40481868e-07),\n",
       "           (   3,    3, 0., 7.27149889e-07,  2.51615962e-07, -3.01280977e-07),\n",
       "           ...,\n",
       "           (5098, 5098, 0., 7.11091994e-07, -3.01252990e-07,  2.64305121e-07),\n",
       "           (5099, 5099, 0., 7.72529528e-07, -3.39260802e-07,  2.53333605e-07),\n",
       "           (5100, 5100, 0., 8.15493126e-07, -4.08385016e-07,  2.23878142e-07)],\n",
       "          dtype=[('node', '<i4'), ('node2', '<i4'), ('q', '<f8'), ('qx', '<f8'), ('qy', '<f8'), ('qz', '<f8')])"
      ]
     },
     "execution_count": 6,
     "metadata": {},
     "output_type": "execute_result"
    }
   ],
   "source": [
    "x1 = gwf.output.budget().get_data(text=\"DATA-SPDIS\")[0] ; x1"
   ]
  },
  {
   "cell_type": "code",
   "execution_count": 7,
   "id": "36b0fefb-ea3e-4c94-9184-7cae8d27af0c",
   "metadata": {},
   "outputs": [
    {
     "data": {
      "image/png": "[encoded data removed]",
      "text/plain": [
       "<Figure size 800x800 with 2 Axes>"
      ]
     },
     "metadata": {},
     "output_type": "display_data"
    }
   ],
   "source": [
    "qx,  qy, qz = flopy.utils.postprocessing.get_specific_discharge(x1, gwf)\n",
    "fig = plt.figure(figsize=(8, 8))    ; fig.tight_layout()     ; ax = fig.add_subplot(121, aspect=\"equal\")    ; ax.set_title(\"Cross section (Z)\")\n",
    "pxs = flopy.plot.PlotCrossSection(model=gwf, ax=ax, line={\"column\": 0})  ; pxs.plot_grid(linewidth=0.5)     ; pxs.plot_vector(qx,qy,qz,normalize=True) \n",
    "ax.set_xlabel(\"10Z_10Y (m) .. 51X\") ; ax.set_ylabel(\"Z(m) 10 Layers\")    ; ax.yaxis.label.set_color('blue') ; ax.spines['left'].set_color('blue')     \n",
    "\n",
    "ax = fig.add_subplot(122, aspect=\"equal\")  ; head = gwf.output.head().get_data()   ; h_L0 = pd.DataFrame(head[0,:,:])\n",
    "pmv = flopy.plot.PlotMapView(model=gwf, ax=ax, layer=0)  ; pmv.plot_bc(\"WEL\", plotAll=True) ; ax.set_title(\"Plain View (x,y)\") \n",
    "cb = pmv.plot_array(head, cmap=\"jet\", alpha=0.25)        ; plt.show() "
   ]
  },
  {
   "cell_type": "code",
   "execution_count": 8,
   "id": "629068ca-16ff-4548-9517-02ab97dc840b",
   "metadata": {},
   "outputs": [
    {
     "data": {
      "text/html": [
       "<div>\n",
       "<style scoped>\n",
       "    .dataframe tbody tr th:only-of-type {\n",
       "        vertical-align: middle;\n",
       "    }\n",
       "\n",
       "    .dataframe tbody tr th {\n",
       "        vertical-align: top;\n",
       "    }\n",
       "\n",
       "    .dataframe thead th {\n",
       "        text-align: right;\n",
       "    }\n",
       "</style>\n",
       "<table border=\"1\" class=\"dataframe\">\n",
       "  <thead>\n",
       "    <tr style=\"text-align: right;\">\n",
       "      <th></th>\n",
       "      <th>Z_layers</th>\n",
       "      <th>HANI_angle1_XY</th>\n",
       "    </tr>\n",
       "  </thead>\n",
       "  <tbody>\n",
       "    <tr>\n",
       "      <th>5</th>\n",
       "      <td>-600.0</td>\n",
       "      <td>-45.0</td>\n",
       "    </tr>\n",
       "    <tr>\n",
       "      <th>6</th>\n",
       "      <td>-700.0</td>\n",
       "      <td>-45.0</td>\n",
       "    </tr>\n",
       "    <tr>\n",
       "      <th>7</th>\n",
       "      <td>-800.0</td>\n",
       "      <td>-45.0</td>\n",
       "    </tr>\n",
       "    <tr>\n",
       "      <th>8</th>\n",
       "      <td>-900.0</td>\n",
       "      <td>-45.0</td>\n",
       "    </tr>\n",
       "    <tr>\n",
       "      <th>9</th>\n",
       "      <td>-1000.0</td>\n",
       "      <td>-45.0</td>\n",
       "    </tr>\n",
       "  </tbody>\n",
       "</table>\n",
       "</div>"
      ],
      "text/plain": [
       "   Z_layers  HANI_angle1_XY\n",
       "5    -600.0           -45.0\n",
       "6    -700.0           -45.0\n",
       "7    -800.0           -45.0\n",
       "8    -900.0           -45.0\n",
       "9   -1000.0           -45.0"
      ]
     },
     "execution_count": 8,
     "metadata": {},
     "output_type": "execute_result"
    }
   ],
   "source": [
    "botmB = pd.DataFrame(botm) ; angle1B = pd.DataFrame(angle1) ; df = pd.concat([botmB[:], angle1B[:]], axis=1); \n",
    "df.columns=['Z_layers', 'HANI_angle1_XY']; df.tail()"
   ]
  },
  {
   "cell_type": "code",
   "execution_count": 9,
   "id": "89d20344-d238-4619-b31b-422508ab0a03",
   "metadata": {},
   "outputs": [
    {
     "name": "stdout",
     "output_type": "stream",
     "text": [
      "nº wells at each cell .. last face (200, 2)\n"
     ]
    },
    {
     "data": {
      "text/html": [
       "<div>\n",
       "<style scoped>\n",
       "    .dataframe tbody tr th:only-of-type {\n",
       "        vertical-align: middle;\n",
       "    }\n",
       "\n",
       "    .dataframe tbody tr th {\n",
       "        vertical-align: top;\n",
       "    }\n",
       "\n",
       "    .dataframe thead th {\n",
       "        text-align: right;\n",
       "    }\n",
       "</style>\n",
       "<table border=\"1\" class=\"dataframe\">\n",
       "  <thead>\n",
       "    <tr style=\"text-align: right;\">\n",
       "      <th></th>\n",
       "      <th>Kij</th>\n",
       "      <th>Q</th>\n",
       "      <th>b0</th>\n",
       "      <th>b1</th>\n",
       "      <th>b2</th>\n",
       "    </tr>\n",
       "  </thead>\n",
       "  <tbody>\n",
       "    <tr>\n",
       "      <th>0</th>\n",
       "      <td>(0, 0, 0)</td>\n",
       "      <td>0.01</td>\n",
       "      <td>0</td>\n",
       "      <td>0</td>\n",
       "      <td>0</td>\n",
       "    </tr>\n",
       "    <tr>\n",
       "      <th>1</th>\n",
       "      <td>(0, 0, 50)</td>\n",
       "      <td>-0.01</td>\n",
       "      <td>0</td>\n",
       "      <td>0</td>\n",
       "      <td>50</td>\n",
       "    </tr>\n",
       "    <tr>\n",
       "      <th>2</th>\n",
       "      <td>(0, 1, 0)</td>\n",
       "      <td>0.01</td>\n",
       "      <td>0</td>\n",
       "      <td>1</td>\n",
       "      <td>0</td>\n",
       "    </tr>\n",
       "    <tr>\n",
       "      <th>3</th>\n",
       "      <td>(0, 1, 50)</td>\n",
       "      <td>-0.01</td>\n",
       "      <td>0</td>\n",
       "      <td>1</td>\n",
       "      <td>50</td>\n",
       "    </tr>\n",
       "    <tr>\n",
       "      <th>4</th>\n",
       "      <td>(0, 2, 0)</td>\n",
       "      <td>0.01</td>\n",
       "      <td>0</td>\n",
       "      <td>2</td>\n",
       "      <td>0</td>\n",
       "    </tr>\n",
       "  </tbody>\n",
       "</table>\n",
       "</div>"
      ],
      "text/plain": [
       "          Kij     Q  b0  b1  b2\n",
       "0   (0, 0, 0)  0.01   0   0   0\n",
       "1  (0, 0, 50) -0.01   0   0  50\n",
       "2   (0, 1, 0)  0.01   0   1   0\n",
       "3  (0, 1, 50) -0.01   0   1  50\n",
       "4   (0, 2, 0)  0.01   0   2   0"
      ]
     },
     "execution_count": 9,
     "metadata": {},
     "output_type": "execute_result"
    }
   ],
   "source": [
    "rate = np.zeros((nlay,nrow,ncol),dtype = float) ;rate[:,:,0] = inflow_rate ;rate[:,:,-1] = -inflow_rate ; wellay,welrow,welcol = np.where(rate!=0.0) \n",
    "wel_spd = [((k,i,j),rate[k,i,j]) for k,i,j in zip(wellay,welrow,welcol)] ;sa = pd.DataFrame(wel_spd) ;sa.to_csv(output_folder/\"01_wel_spd.csv\") ;\n",
    "print('nº wells at each cell .. last face', sa.shape) ; sa.columns=['Kij', 'Q'];  #sa.tail()\n",
    "sa2 = sa['Kij']; sa3 = sa2.tolist() ; np.savetxt(output_folder / \"03_.csv\", sa3, delimiter=\",\") \n",
    "sa4=pd.DataFrame(sa3); sa5 = sa4.rename(columns = lambda x : 'b' + str(x)); df = pd.concat([sa[:], sa5[:]], axis=1)\n",
    "df.to_csv (output_folder / \"04b_Wel.csv\") ; df.head() "
   ]
  },
  {
   "cell_type": "code",
   "execution_count": 10,
   "id": "3befa3b5-a103-40e6-a2ca-bdc65519257e",
   "metadata": {},
   "outputs": [],
   "source": [
    "vvv   = [(0,0,2),(0,1,2),(0,2,2),(0,3,2),(0,7,2),(0,8,2),(0,9,2),(0,10,2)] ; \n",
    "part1 = flopy.modpath.ParticleData(vvv, drape=1, structured=True, particleids=[1001, 1002, 1003, 1004, 1005, 1006, 1007, 1008])  \n",
    "pg1   = flopy.modpath.ParticleGroup(particledata=part1, filename=\"filename2\") ; particlegroups = [pg1]  ;np.savetxt(sim_ws/\"05_v.csv\",vvv,delimiter=\",\")"
   ]
  },
  {
   "cell_type": "raw",
   "id": "0a5a6fbe-f137-46be-a4d3-c88cc2c10ec7",
   "metadata": {},
   "source": [
    "# NOPE\n",
    "wel_loc = (0, 1, 1)                        # ; (nlay,nrow, ncol)\n",
    "exe_name = \"mp7\"                  ; zone3 = np.ones((nrow, ncol), dtype=np.int32)   ;  zone3[wel_loc[1:]] = 2  ; zones = [0, 0, zone3]\n",
    "mp    = flopy.modpath.Modpath7    (modelname=sim_name + \"_mp\", flowmodel=gwf, exe_name=exe_name, model_ws=ws)\n",
    "mpbas = flopy.modpath.Modpath7Bas (mp, porosity=0.1)\n",
    "mpsim = flopy.modpath.Modpath7Sim (mp, simulationtype=\"combined\"  ,trackingdirection =\"forward\",weaksinkoption =\"pass_through\",\n",
    "                                   weaksourceoption=\"pass_through\",budgetoutputoption=\"summary\",stoptimeoption =\"extend\",\n",
    "                                   zonedataoption=\"on\"    ,zones=zones  ,particlegroups = particlegroups)   # zones  # particlegroups\n",
    "#mp.write_input() ; mp.run_model(silent=True, report=False)"
   ]
  },
  {
   "cell_type": "code",
   "execution_count": null,
   "id": "73c0210b-7368-4495-873c-cd547d2ed584",
   "metadata": {},
   "outputs": [],
   "source": []
  }
 ],
 "metadata": {
  "jupytext": {
   "cell_metadata_filter": "-all"
  },
  "kernelspec": {
   "display_name": "Python 3 (ipykernel)",
   "language": "python",
   "name": "python3"
  },
  "language_info": {
   "codemirror_mode": {
    "name": "ipython",
    "version": 3
   },
   "file_extension": ".py",
   "mimetype": "text/x-python",
   "name": "python",
   "nbconvert_exporter": "python",
   "pygments_lexer": "ipython3",
   "version": "3.12.7"
  }
 },
 "nbformat": 4,
 "nbformat_minor": 5
}
