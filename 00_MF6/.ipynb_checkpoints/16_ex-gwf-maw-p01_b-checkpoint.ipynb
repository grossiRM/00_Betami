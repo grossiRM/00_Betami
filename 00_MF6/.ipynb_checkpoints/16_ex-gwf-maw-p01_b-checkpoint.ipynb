{
 "cells": [
  {
   "cell_type": "markdown",
   "id": "d97e30e2",
   "metadata": {},
   "source": [
    "**16_MAW_i**"
   ]
  },
  {
   "cell_type": "code",
   "execution_count": 1,
   "id": "8fe5d6a3-0ed0-47f4-9e78-2002e15b5659",
   "metadata": {},
   "outputs": [],
   "source": [
    "import os ; import pathlib as pl ; import flopy ; import matplotlib.pyplot as plt ; import numpy as np; from pathlib import Path  \n",
    "from flopy.plot.styles import styles ; import shapefile as shp ; import matplotlib as mpl\n",
    "import pandas as pd ; from modflow_devtools.misc import get_env, timed ; write=get_env(\"WRITE\", True);run=get_env(\"RUN\", True)"
   ]
  },
  {
   "cell_type": "code",
   "execution_count": 2,
   "id": "e1116b8f-53f5-4dfe-b86f-1250c08f6b3d",
   "metadata": {},
   "outputs": [],
   "source": [
    "sim_ws         = Path(\"./16_MAW\")                        ; sim_ws.mkdir(exist_ok=True) ; sim_name = \"ex-gwf-maw-p01\"\n",
    "exe_name       = 'E:\\\\15_REPOS\\\\00_BETAMI\\\\bin\\\\mf6.exe' ; workspace = figs_path = sim_ws ; gwf_name = sim_name ; output_folder = sim_ws"
   ]
  },
  {
   "cell_type": "code",
   "execution_count": 3,
   "id": "11aa6d95",
   "metadata": {},
   "outputs": [],
   "source": [
    "length_units = \"meters\" ; time_units = \"days\" ; parameters = {\"ex-gwf-maw-p01a\": {\"rate\": 0.0,},\"ex-gwf-maw-p01b\": {\"rate\": -1767.0,}}\n",
    "nper = 1 ;nlay = 2 ;nrow = 101 ;ncol = 101 ;delr = 142 ;delc = 142 ;top = -50  ;botm_str = \"-142.9,-514.5\"  ;strt_str = \"3.05,9.14\" \n",
    "k11 = 1 ;k33 = 0.0000000000000001 ;ss = 0.0001 ;maw_radius = 0.15 ;nouter = 500 ;ninner = 100 ;hclose = 0.000000001 ;rclose = 0.0001 ;\n",
    "botm = [float(value) for value in botm_str.split(\",\")]  ; strt = [float(value) for value in strt_str.split(\",\")]\n",
    "tdis_ds = ((2.314815, 50, 1.2),)\n",
    "extents = (0.0, delr * ncol, 0.0, delc * nrow)          ; shape2d = (nrow, ncol)   ; shape3d = (nlay, nrow, ncol)\n",
    "idomain = np.ones(shape3d, dtype=float)                 ; xw, yw = (ncol / 2) * delr, (nrow / 2) * delc   ; y = 0.0\n",
    "for i in range(nrow):\n",
    "    x = 0.0   ; y = (float(i) + 0.5) * delc\n",
    "    for j in range(ncol):\n",
    "        x = (float(j) + 0.5) * delr     ; r = np.sqrt((x - xw) ** 2.0 + (y - yw) ** 2.0)\n",
    "        if r > 7163.0:\n",
    "            idomain[:, i, j] = 0\n",
    "maw_packagedata = [[0, maw_radius, botm[-1], strt[-1], \"THIEM\", 2]]  ; maw_row = int(nrow / 2)     ; maw_col = int(ncol / 2) \n",
    "maw_conn = [[0, 0, 0, maw_row, maw_col, top, botm[-1], -999.0, -999.0],[0, 1, 1, maw_row, maw_col, top, botm[-1], -999.0, -999.0]]"
   ]
  },
  {
   "cell_type": "code",
   "execution_count": 4,
   "id": "81754430-fcaa-4075-b219-e6cc162fc05e",
   "metadata": {},
   "outputs": [],
   "source": [
    "np.savetxt(output_folder / \"a1_maw_packagedata.csv\", maw_packagedata, fmt =\"%s\", delimiter=\",\") \n",
    "np.savetxt(output_folder / \"a2_maw_conn.csv\", maw_conn, delimiter=\",\") "
   ]
  },
  {
   "cell_type": "code",
   "execution_count": 5,
   "id": "c2cbb5c6-6bc6-42d4-af76-ce638321a55f",
   "metadata": {},
   "outputs": [],
   "source": [
    "obs_dict=[(\"head\" ,\"head\" ,(0 ,)) ,(\"Q1\" ,\"maw\" ,(0 ,) ,(0 ,)) ,(\"Q2\" ,\"maw\" ,(0 ,) ,(1 ,))]\n",
    "variable2 = np.asarray(obs_dict, dtype=\"object\")  ; np.savetxt(output_folder / \"b1_obs_dict_n_.csv\", variable2, fmt =\"%s\", delimiter=\",\") "
   ]
  },
  {
   "cell_type": "code",
   "execution_count": 6,
   "id": "bd04ea90-bbda-459c-8fc0-e08e2bd9c456",
   "metadata": {},
   "outputs": [
    {
     "data": {
      "text/html": [
       "<div>\n",
       "<style scoped>\n",
       "    .dataframe tbody tr th:only-of-type {\n",
       "        vertical-align: middle;\n",
       "    }\n",
       "\n",
       "    .dataframe tbody tr th {\n",
       "        vertical-align: top;\n",
       "    }\n",
       "\n",
       "    .dataframe thead th {\n",
       "        text-align: right;\n",
       "    }\n",
       "</style>\n",
       "<table border=\"1\" class=\"dataframe\">\n",
       "  <thead>\n",
       "    <tr style=\"text-align: right;\">\n",
       "      <th></th>\n",
       "      <th>0</th>\n",
       "      <th>1</th>\n",
       "      <th>2</th>\n",
       "      <th>3</th>\n",
       "    </tr>\n",
       "  </thead>\n",
       "  <tbody>\n",
       "    <tr>\n",
       "      <th>0</th>\n",
       "      <td>head</td>\n",
       "      <td>head</td>\n",
       "      <td>(0,)</td>\n",
       "      <td>None</td>\n",
       "    </tr>\n",
       "    <tr>\n",
       "      <th>1</th>\n",
       "      <td>Q1</td>\n",
       "      <td>maw</td>\n",
       "      <td>(0,)</td>\n",
       "      <td>(0,)</td>\n",
       "    </tr>\n",
       "    <tr>\n",
       "      <th>2</th>\n",
       "      <td>Q2</td>\n",
       "      <td>maw</td>\n",
       "      <td>(0,)</td>\n",
       "      <td>(1,)</td>\n",
       "    </tr>\n",
       "  </tbody>\n",
       "</table>\n",
       "</div>"
      ],
      "text/plain": [
       "      0     1     2     3\n",
       "0  head  head  (0,)  None\n",
       "1    Q1   maw  (0,)  (0,)\n",
       "2    Q2   maw  (0,)  (1,)"
      ]
     },
     "execution_count": 6,
     "metadata": {},
     "output_type": "execute_result"
    }
   ],
   "source": [
    "ab=pd.DataFrame(obs_dict); ab.to_csv(output_folder/\"b2_obs_dict.csv\"); ab"
   ]
  },
  {
   "cell_type": "code",
   "execution_count": 7,
   "id": "0522be16-1931-484e-9d9c-dab8d5558abf",
   "metadata": {},
   "outputs": [
    {
     "name": "stdout",
     "output_type": "stream",
     "text": [
      "<flopy.mf6.data.mfstructure.MFDataItemStructure object at 0x00000218900CB3E0>\n",
      "run_models took 1237.11 ms\n",
      "<flopy.mf6.data.mfstructure.MFDataItemStructure object at 0x00000218900CB3E0>\n",
      "run_models took 1196.61 ms\n"
     ]
    }
   ],
   "source": [
    "def build_models(name ,rate=0.0):\n",
    "    obs_file=f\"{sim_name}.maw.obs\"  ; csv_file=obs_file+\".csv\"  \n",
    "    obs_dict={csv_file:[(\"head\" ,\"head\" ,(0 ,)) ,(\"Q1\" ,\"maw\" ,(0 ,) ,(0 ,)) ,(\"Q2\" ,\"maw\" ,(0 ,) ,(1 ,))]}\n",
    "    maw_spd=[[0 ,\"rate\" ,rate]]\n",
    "    \n",
    "    sim_ws=os.path.join (workspace ,name)\n",
    "    sim=flopy.mf6.MFSimulation    (sim_name=sim_name ,sim_ws=sim_ws ,exe_name=\"mf6\")\n",
    "    flopy.mf6.ModflowTdis   (sim ,nper=nper ,perioddata=tdis_ds ,time_units=time_units)\n",
    "    flopy.mf6.ModflowIms    (sim ,print_option=\"summary\" ,outer_maximum=nouter ,outer_dvclose=hclose ,inner_maximum=ninner ,inner_dvclose=hclose ,\n",
    "                             rcloserecord=f\"{rclose}strict\")\n",
    "    gwf=flopy.mf6.ModflowGwf       (sim ,modelname=sim_name ,save_flows=True)\n",
    "    flopy.mf6.ModflowGwfdis (gwf ,length_units=length_units ,nlay=nlay ,nrow=nrow ,ncol=ncol ,delr=delr ,delc=delc ,top=top ,botm=botm ,idomain=idomain)\n",
    "    flopy.mf6.ModflowGwfnpf (gwf ,icelltype=0 ,k=k11 ,k33=k33 ,save_specific_discharge=True)\n",
    "    flopy.mf6.ModflowGwfsto (gwf ,iconvert=0 ,ss=ss)\n",
    "    flopy.mf6.ModflowGwfic  (gwf ,strt=strt)\n",
    "    maw=flopy.mf6.ModflowGwfmaw (gwf ,no_well_storage=True ,nmawwells=1 ,packagedata=maw_packagedata ,connectiondata=maw_conn ,perioddata=maw_spd)\n",
    "    maw.obs.initialize          (filename=obs_file ,digits=10 ,print_input=True ,continuous=obs_dict)\n",
    "    flopy.mf6.ModflowGwfoc      (gwf ,printrecord=[(\"BUDGET\" ,\"LAST\")])\n",
    "    return sim\n",
    "def write_models(sim, silent=True):\n",
    "    sim.write_simulation(silent=silent)\n",
    "@timed\n",
    "def run_models(sim, silent=True):\n",
    "    success, buff = sim.run_simulation(silent=silent)  ;     assert success, buff\n",
    "def scenario(idx=0, silent=True):\n",
    "    key = list(parameters.keys())[idx]   ; params = parameters[key].copy()  ; sim = build_models(key, **params)\n",
    "    if write:  write_models(sim, silent=silent)\n",
    "    if run:   run_models(sim, silent=silent)\n",
    "scenario(0) ; scenario(1)"
   ]
  },
  {
   "cell_type": "code",
   "execution_count": 8,
   "id": "e3f486e2-e856-4a72-bc83-3e0c2f065532",
   "metadata": {},
   "outputs": [
    {
     "data": {
      "image/png": "[encoded data removed]",
      "text/plain": [
       "<Figure size 600x400 with 3 Axes>"
      ]
     },
     "metadata": {},
     "output_type": "display_data"
    }
   ],
   "source": [
    "name = list(parameters.keys())[0] ; fpth = os.path.join(workspace, name, f\"{sim_name}.maw.obs.csv\")   ; maw0 = flopy.utils.Mf6Obs(fpth).data\n",
    "name = list(parameters.keys())[1] ; fpth = os.path.join(workspace, name, f\"{sim_name}.maw.obs.csv\")   ; maw1 = flopy.utils.Mf6Obs(fpth).data\n",
    "time = maw0[\"totim\"] * 86400.0  ; tmin = time[0]  ; tmax = time[-1]\n",
    "\n",
    "fig, axes = plt.subplots(ncols=1, nrows=2, sharex=True, figsize=(6,4), constrained_layout=True)\n",
    "ax = axes[0] ; ax.set_xlim(tmin, tmax)  ; ax.set_ylim(-1000, 1000)                   \n",
    "ax.semilogx(time, maw0[\"Q1\"], lw=0.75, ls=\"-\", color=\"blue\", label=\"Upper aquifer\")\n",
    "ax.semilogx(time, maw0[\"Q2\"], lw=0.75, ls=\"-\", color=\"red\" , label=\"Lower aquifer\")\n",
    "ax.axhline(0, lw=0.5, color=\"0.5\")   ; ax.set_ylabel(\" \")  ; styles.heading(ax, heading=\"Non-pumping case\", idx=0)\n",
    "\n",
    "ax = axes[1] ; ax.set_xlim(tmin, tmax)  ; ax.set_ylim(-500 , 2500)\n",
    "ax.semilogx(time, maw1[\"Q1\"], lw=0.75, ls=\"-\", color=\"blue\", label=\"Upper aquifer\")\n",
    "ax.semilogx(time, maw1[\"Q2\"], lw=0.75, ls=\"-\", color=\"red\" , label=\"Lower aquifer\")\n",
    "ax.axhline(0, lw=0.5, color=\"0.5\")   ; ax.set_xlabel(\" \")  ; ax.set_ylabel(\" \")  ; styles.graph_legend(ax, loc=\"upper left\", ncol=1)\n",
    "for axis in (ax.xaxis,):\n",
    "    axis.set_major_formatter(mpl.ticker.ScalarFormatter())\n",
    "styles.heading(ax, heading=\"Pumping case\", idx=1)\n",
    "ax = fig.add_subplot(1, 1, 1)  ; ax.set_xlim(0, 1) ; ax.set_ylim(0, 1)  ; ax.set_xticks([]) ; ax.set_yticks([])        ;  ax.patch.set_alpha(0.0)\n",
    "ax.spines[\"top\"].set_color(\"none\");ax.spines[\"bottom\"].set_color(\"none\");ax.spines[\"left\"].set_color(\"none\");ax.spines[\"right\"].set_color(\"none\") \n",
    "\n",
    "ax.set_xlabel(\"Simulation time, in seconds\") ; ax.set_ylabel(\"Discharge rate, in cubic meters per day\") ; plt.show()"
   ]
  },
  {
   "cell_type": "code",
   "execution_count": 9,
   "id": "b8194a50-e901-4d45-a8f4-74c9e8dc606d",
   "metadata": {},
   "outputs": [
    {
     "data": {
      "image/png": "[encoded data removed]",
      "text/plain": [
       "<Figure size 400x430 with 3 Axes>"
      ]
     },
     "metadata": {},
     "output_type": "display_data"
    }
   ],
   "source": [
    "name  = next(iter(parameters.keys()))               ; sim_ws = os.path.join(workspace ,name)\n",
    "sim = flopy.mf6.MFSimulation.load(sim_name=sim_name , sim_ws = sim_ws ,verbosity_level=0)          ; gwf = sim.get_model(sim_name)\n",
    "fig = plt.figure(figsize=(4 ,4.3) ,tight_layout=True) ; plt.axis(\"off\")   ; nrows,ncols = 10 ,1 ; axes=[fig.add_subplot(nrows ,ncols ,(1 ,8))]\n",
    "\n",
    "for idx , ax in enumerate (axes):\n",
    "    ax.set_xlim(extents[:2]) ; ax.set_ylim(extents[2:]) ; ax.set_aspect(\"equal\")\n",
    "\n",
    "axes.append(fig.add_subplot(nrows ,ncols ,(9 ,10)))          ; ax=axes[-1] ; ax.set_xlim(0 ,1) ; ax.set_ylim(0 ,1)\n",
    "ax.axis(\"off\"); ax.set_xticks([]); ax.set_yticks([]); ax.spines[\"top\"].set_color(\"none\")\n",
    "ax.spines[\"bottom\"].set_color(\"none\") ; ax.spines[\"left\"].set_color(\"none\") ; ax.spines[\"right\"].set_color(\"none\") ; ax.patch.set_alpha(0.0)\n",
    "\n",
    "ax=axes[0] ; mm=flopy.plot.PlotMapView(gwf ,ax=ax ,extent=extents) ; mm.plot_bc(\"MAW\" ,color=\"red\")\n",
    "mm.plot_inactive(color_noflow=\"black\") ; ax.set_xticks([0 ,extents[1]/2 ,extents[1]]) ; ax.set_yticks([0 ,extents[1]/2 ,extents[1]])\n",
    "\n",
    "ax=axes[-1]\n",
    "ax.plot(-10000 ,-10000 ,lw=0 ,marker=\"s\" ,ms=10 ,mfc=\"black\" ,mec=\"black\" ,markeredgewidth=0.5 ,label=\"Inactivecells\")\n",
    "ax.plot(-10000 ,-10000 ,lw=0 ,marker=\"s\" ,ms=10 ,mfc=\"red\" ,mec=\"red\" ,markeredgewidth=0.5 ,label=\"Multi-aquiferwell\") ; plt.show()"
   ]
  },
  {
   "cell_type": "code",
   "execution_count": 10,
   "id": "a25d9a26-4eb7-4e56-bd15-0f747d5b5d3c",
   "metadata": {},
   "outputs": [
    {
     "data": {
      "text/plain": [
       "<function matplotlib.pyplot.show(close=None, block=None)>"
      ]
     },
     "execution_count": 10,
     "metadata": {},
     "output_type": "execute_result"
    },
    {
     "data": {
      "image/png": "[encoded data removed]",
      "text/plain": [
       "<Figure size 1050x150 with 1 Axes>"
      ]
     },
     "metadata": {},
     "output_type": "display_data"
    }
   ],
   "source": [
    "fig, ax = plt.subplots(1, 1, figsize=(7, 1), dpi=150, tight_layout=True)     \n",
    "xs = flopy.plot.PlotCrossSection(gwf, ax=ax, line={\"row\": 8})                          \n",
    "xs.plot_ibound(color_noflow=\"yellow\", head=1) ; xs.plot_grid(lw=0.5, color=\"black\") ; plt.show"
   ]
  },
  {
   "cell_type": "code",
   "execution_count": 11,
   "id": "3c0cccfc-1209-4db6-8c38-f76d97779a6c",
   "metadata": {},
   "outputs": [
    {
     "name": "stdout",
     "output_type": "stream",
     "text": [
      "OC package_Flow  :  ['list()', 'zonebudget()', 'budget()', 'budgetcsv()', 'head()']\n"
     ]
    }
   ],
   "source": [
    "print(\"OC package_Flow  : \", gwf.oc.output.methods())"
   ]
  },
  {
   "cell_type": "code",
   "execution_count": 12,
   "id": "07134578-c5e8-4a63-b283-cc04068fb3b6",
   "metadata": {},
   "outputs": [],
   "source": [
    "hobj=gwf.output.head() ; cobj=gwf.output.budget()  #;  head=hobj.get_data()    # ? head ?"
   ]
  },
  {
   "cell_type": "code",
   "execution_count": null,
   "id": "78c1ac08-1ced-4b7a-b6b1-5fa0c779ec84",
   "metadata": {},
   "outputs": [],
   "source": []
  }
 ],
 "metadata": {
  "jupytext": {
   "cell_metadata_filter": "-all"
  },
  "kernelspec": {
   "display_name": "Python 3 (ipykernel)",
   "language": "python",
   "name": "python3"
  },
  "language_info": {
   "codemirror_mode": {
    "name": "ipython",
    "version": 3
   },
   "file_extension": ".py",
   "mimetype": "text/x-python",
   "name": "python",
   "nbconvert_exporter": "python",
   "pygments_lexer": "ipython3",
   "version": "3.12.7"
  }
 },
 "nbformat": 4,
 "nbformat_minor": 5
}
