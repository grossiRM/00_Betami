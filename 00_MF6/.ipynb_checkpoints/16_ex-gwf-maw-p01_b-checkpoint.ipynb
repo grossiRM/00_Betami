{
 "cells": [
  {
   "cell_type": "markdown",
   "id": "d97e30e2",
   "metadata": {},
   "source": [
    "**16_MAW_i**"
   ]
  },
  {
   "cell_type": "code",
   "execution_count": 1,
   "id": "8fe5d6a3-0ed0-47f4-9e78-2002e15b5659",
   "metadata": {},
   "outputs": [],
   "source": [
    "import os ; import pathlib as pl ; import flopy ; import matplotlib.pyplot as plt ; import numpy as np; from pathlib import Path  \n",
    "from flopy.plot.styles import styles ; import shapefile as shp ; import matplotlib as mpl ; import pandas as pd  \n",
    "from modflow_devtools.misc import get_env, timed ; write=get_env(\"WRITE\", True);run=get_env(\"RUN\", True)"
   ]
  },
  {
   "cell_type": "code",
   "execution_count": 2,
   "id": "e1116b8f-53f5-4dfe-b86f-1250c08f6b3d",
   "metadata": {},
   "outputs": [],
   "source": [
    "sim_ws       = Path(\"./16_MAW_i\")                           ; sim_ws.mkdir(exist_ok=True) ; name = sim_name = \"ex-gwf-maw-p01\"\n",
    "exe_name     = 'E:\\\\15_REPOS\\\\00_BETAMI\\\\bin\\\\mf6.exe'      ; workspace = figs_path = sim_ws ; gwf_name = sim_name ; out_f = sim_ws"
   ]
  },
  {
   "cell_type": "code",
   "execution_count": 3,
   "id": "bab7fc1b-b729-43de-b4b2-7e0216b9c7d9",
   "metadata": {},
   "outputs": [],
   "source": [
    "botm_str=\"-142.9,-514.5\";botm=[float(value)for value in botm_str.split(\",\")]  ;strt_str=\"3.05,9.14\";strt=[float(value)for value in strt_str.split(\",\")]\n",
    "\n",
    "length_units = \"meters\" ; time_units = \"days\"               ; parameters = {\"ex-gwf-maw-p01a\": {\"rate\": 0.0,},\"ex-gwf-maw-p01b\": {\"rate\": -1767.0,}}\n",
    "nlay = 2 ; nrow = 101 ;ncol = 101 ;delr = 142 ;delc = 142   ; top = -50        ; k11 = 1 ;k33 = 0.0000000000000001 ; ss = 0.0001 ;maw_radius = 0.15     \n",
    "nper = 1 ; nouter = 500 ;ninner = 100 ;hclose = 0.000000001 ; rclose = 0.0001                                      ; tdis_ds = ((2.314815, 50, 1.2),)\n",
    "extents = (0.0, delr * ncol, 0.0, delc * nrow)              ; shape2d = (nrow, ncol)   ; shape3d = (nlay, nrow, ncol)\n",
    "idomain = np.ones(shape3d, dtype=float)                     ; xw, yw = (ncol / 2) * delr, (nrow / 2) * delc   ; y = 0.0\n",
    "for i in range(nrow):                                     # ; maw_rate = parameters (ex a, ex b))    \n",
    "    x = 0.0   ; y = (float(i) + 0.5) * delc\n",
    "    for j in range(ncol):\n",
    "        x = (float(j) + 0.5) * delr    ; r = np.sqrt((x - xw) ** 2.0 + (y - yw) ** 2.0)\n",
    "        if r > 7163.0:                 idomain[:, i, j] = 0\n",
    "maw_packagedata = [[0, maw_radius, botm[-1], strt[-1], \"THIEM\"  , 2]]            ; maw_row = int(nrow / 2)  ; maw_col = int(ncol / 2) \n",
    "maw_conn = [[0, 0, 0, maw_row, maw_col, top, botm[-1], -999.0,   -999.0],[0, 1, 1, maw_row, maw_col, top, botm[-1], -999.0, -999.0]]\n",
    "# maw_spd  = [[0, \"rate\", rate]]"
   ]
  },
  {
   "cell_type": "code",
   "execution_count": 4,
   "id": "56f5ce8f-eadc-4097-8f5b-080c0fd6ede8",
   "metadata": {},
   "outputs": [
    {
     "name": "stdout",
     "output_type": "stream",
     "text": [
      "THIEM_maw_conn [[0, 0, 0, 50, 50, -50, -514.5, -999.0, -999.0], [0, 1, 1, 50, 50, -50, -514.5, -999.0, -999.0]]\n"
     ]
    }
   ],
   "source": [
    "print(\"THIEM_maw_conn\",maw_conn)"
   ]
  },
  {
   "cell_type": "code",
   "execution_count": 5,
   "id": "81754430-fcaa-4075-b219-e6cc162fc05e",
   "metadata": {},
   "outputs": [],
   "source": [
    "np.savetxt(out_f / \"01_maw_packagedata.csv\" , maw_packagedata   , fmt =\"%s\", delimiter=\",\") \n",
    "np.savetxt(out_f / \"02_maw_conn.csv\", maw_conn , delimiter=\",\") ; sa = pd.DataFrame(idomain[0,:,:]) ; sa.to_csv(out_f/\"03_idomain.csv\") \n",
    "obs_dict = [(\"head\" ,\"head\" ,(0 ,))         ,(\"Q1\" ,\"maw\" ,(0,) ,(0,)) ,(\"Q2\" ,\"maw\" ,(0,) ,(1,))]   # (\"FW\", \"fw-rate\", (0,))] _________________\n",
    "ab=pd.DataFrame(obs_dict)                   ; ab.to_csv(out_f/\"04_obs_dict.csv\")  "
   ]
  },
  {
   "cell_type": "code",
   "execution_count": 6,
   "id": "0522be16-1931-484e-9d9c-dab8d5558abf",
   "metadata": {},
   "outputs": [
    {
     "name": "stdout",
     "output_type": "stream",
     "text": [
      "<flopy.mf6.data.mfstructure.MFDataItemStructure object at 0x000001FCAB4EDD60>\n",
      "run_models took 1258.02 ms\n",
      "<flopy.mf6.data.mfstructure.MFDataItemStructure object at 0x000001FCAB4EDD60>\n",
      "run_models took 1263.38 ms\n"
     ]
    }
   ],
   "source": [
    "def build_models(name ,rate=0.0):\n",
    "    obs_file=f\"{sim_name}.maw.obs\"  ; csv_file=obs_file+\".csv\"  \n",
    "    obs_dict={csv_file:[(\"head\" ,\"head\" ,(0 ,)) ,(\"Q1\" ,\"maw\" ,(0 ,) ,(0 ,)) ,(\"Q2\" ,\"maw\" ,(0 ,) ,(1 ,))]}    \n",
    "    head_filerecord = f\"{sim_name}.hds\"   ; budget_filerecord=f\"{sim_name}.cbc\"                                 ; maw_spd  = [[0, \"rate\", rate]]\n",
    "    \n",
    "    sim_ws=os.path.join (workspace ,name)\n",
    "    sim=flopy.mf6.MFSimulation    (sim_name=sim_name ,sim_ws=sim_ws ,exe_name=\"mf6\")\n",
    "    flopy.mf6.ModflowTdis   (sim ,nper=nper ,perioddata=tdis_ds ,time_units=time_units)\n",
    "    flopy.mf6.ModflowIms    (sim ,print_option=\"summary\" ,outer_maximum=nouter ,outer_dvclose=hclose ,inner_maximum=ninner ,inner_dvclose=hclose ,\n",
    "                             rcloserecord=f\"{rclose}strict\")\n",
    "    gwf=flopy.mf6.ModflowGwf       (sim ,modelname=sim_name ,save_flows=True)\n",
    "    flopy.mf6.ModflowGwfdis (gwf ,length_units=length_units ,nlay=nlay ,nrow=nrow ,ncol=ncol ,delr=delr ,delc=delc ,top=top ,botm=botm ,idomain=idomain)\n",
    "    flopy.mf6.ModflowGwfnpf (gwf ,icelltype=0 ,k=k11 ,k33=k33 ,save_specific_discharge=True)\n",
    "    flopy.mf6.ModflowGwfsto (gwf ,iconvert=0 ,ss=ss)\n",
    "    flopy.mf6.ModflowGwfic  (gwf ,strt=strt)\n",
    "    maw=flopy.mf6.ModflowGwfmaw (gwf ,no_well_storage=True ,nmawwells=1 ,packagedata=maw_packagedata ,connectiondata=maw_conn ,perioddata=maw_spd)\n",
    "    maw.obs.initialize          (filename=obs_file ,digits=10 ,print_input=True ,continuous=obs_dict)\n",
    "    flopy.mf6.ModflowGwfoc    (gwf ,head_filerecord=head_filerecord ,budget_filerecord=budget_filerecord ,\n",
    "                                             saverecord=[(\"HEAD\" ,\"LAST\") ,(\"BUDGET\" ,\"LAST\")] ,printrecord=[(\"BUDGET\" ,\"LAST\")])\n",
    "    return sim\n",
    "def write_models(sim, silent=True): sim.write_simulation(silent=silent)\n",
    "@timed\n",
    "def run_models(sim, silent=True):\n",
    "    success, buff = sim.run_simulation(silent=silent)  ;     assert success, buff\n",
    "def scenario(idx=0, silent=True):\n",
    "    key = list(parameters.keys())[idx]   ; params = parameters[key].copy()  ; sim = build_models(key, **params)\n",
    "    if write:  write_models(sim, silent=silent)\n",
    "    if run:    run_models(sim, silent=silent)\n",
    "scenario(0) ; scenario(1)"
   ]
  },
  {
   "cell_type": "code",
   "execution_count": 7,
   "id": "38bd4540-71c0-4ce0-97eb-1b7521610459",
   "metadata": {},
   "outputs": [],
   "source": [
    "maw0 = pd.read_csv(sim_ws / 'ex-gwf-maw-p01a\\\\ex-gwf-maw-p01.maw.obs.csv')    \n",
    "maw1 = pd.read_csv(sim_ws / 'ex-gwf-maw-p01b\\\\ex-gwf-maw-p01.maw.obs.csv')    "
   ]
  },
  {
   "cell_type": "code",
   "execution_count": 8,
   "id": "61d146d5-fba0-4fc1-b1e0-9f87c017960a",
   "metadata": {},
   "outputs": [],
   "source": [
    "sa0 = pd.DataFrame(maw0)  ; sa0.columns=['totim' ,'Head_a' ,'qa_A_upper_no_pump' ,'qb_A_lower_aq']          ; sa0['totim'] = sa0['totim'] * 24\n",
    "sa1=pd.DataFrame(maw1)    ; sa1 = sa1.drop(sa1.columns[[0]],axis=1)   ; sa1.columns=['Head_b' , 'Q1_b_pumping(-1767m3d)', 'Q2_b_lower_aquifer']  \n",
    "df = pd.concat([sa0[:], sa1[:]], axis=1); df.set_index('totim', inplace=True, drop=True)   ;df.drop(['Head_a', 'Head_b'], axis=1, inplace=True) "
   ]
  },
  {
   "cell_type": "code",
   "execution_count": 9,
   "id": "b27a5372-4838-426a-a93a-1fcbf63d8b75",
   "metadata": {},
   "outputs": [
    {
     "data": {
      "text/html": [
       "<div>\n",
       "<style scoped>\n",
       "    .dataframe tbody tr th:only-of-type {\n",
       "        vertical-align: middle;\n",
       "    }\n",
       "\n",
       "    .dataframe tbody tr th {\n",
       "        vertical-align: top;\n",
       "    }\n",
       "\n",
       "    .dataframe thead th {\n",
       "        text-align: right;\n",
       "    }\n",
       "</style>\n",
       "<table border=\"1\" class=\"dataframe\">\n",
       "  <thead>\n",
       "    <tr style=\"text-align: right;\">\n",
       "      <th></th>\n",
       "      <th>qa_A_upper_no_pump</th>\n",
       "      <th>qb_A_lower_aq</th>\n",
       "      <th>Q1_b_pumping(-1767m3d)</th>\n",
       "      <th>Q2_b_lower_aquifer</th>\n",
       "    </tr>\n",
       "    <tr>\n",
       "      <th>totim</th>\n",
       "      <th></th>\n",
       "      <th></th>\n",
       "      <th></th>\n",
       "      <th></th>\n",
       "    </tr>\n",
       "  </thead>\n",
       "  <tbody>\n",
       "    <tr>\n",
       "      <th>0.001221</th>\n",
       "      <td>-542.609080</td>\n",
       "      <td>542.609080</td>\n",
       "      <td>-189.209080</td>\n",
       "      <td>1956.209080</td>\n",
       "    </tr>\n",
       "    <tr>\n",
       "      <th>0.002686</th>\n",
       "      <td>-542.589389</td>\n",
       "      <td>542.589389</td>\n",
       "      <td>-189.189389</td>\n",
       "      <td>1956.189389</td>\n",
       "    </tr>\n",
       "    <tr>\n",
       "      <th>0.004445</th>\n",
       "      <td>-542.565763</td>\n",
       "      <td>542.565763</td>\n",
       "      <td>-189.165763</td>\n",
       "      <td>1956.165763</td>\n",
       "    </tr>\n",
       "    <tr>\n",
       "      <th>0.006555</th>\n",
       "      <td>-542.537418</td>\n",
       "      <td>542.537418</td>\n",
       "      <td>-189.137418</td>\n",
       "      <td>1956.137418</td>\n",
       "    </tr>\n",
       "    <tr>\n",
       "      <th>0.009087</th>\n",
       "      <td>-542.503414</td>\n",
       "      <td>542.503414</td>\n",
       "      <td>-189.103414</td>\n",
       "      <td>1956.103414</td>\n",
       "    </tr>\n",
       "  </tbody>\n",
       "</table>\n",
       "</div>"
      ],
      "text/plain": [
       "          qa_A_upper_no_pump  qb_A_lower_aq  Q1_b_pumping(-1767m3d)  \\\n",
       "totim                                                                 \n",
       "0.001221         -542.609080     542.609080             -189.209080   \n",
       "0.002686         -542.589389     542.589389             -189.189389   \n",
       "0.004445         -542.565763     542.565763             -189.165763   \n",
       "0.006555         -542.537418     542.537418             -189.137418   \n",
       "0.009087         -542.503414     542.503414             -189.103414   \n",
       "\n",
       "          Q2_b_lower_aquifer  \n",
       "totim                         \n",
       "0.001221         1956.209080  \n",
       "0.002686         1956.189389  \n",
       "0.004445         1956.165763  \n",
       "0.006555         1956.137418  \n",
       "0.009087         1956.103414  "
      ]
     },
     "execution_count": 9,
     "metadata": {},
     "output_type": "execute_result"
    },
    {
     "data": {
      "image/png": "[encoded data removed]",
      "text/plain": [
       "<Figure size 500x300 with 1 Axes>"
      ]
     },
     "metadata": {},
     "output_type": "display_data"
    }
   ],
   "source": [
    "ax = df.plot(y= list(df) , kind=\"line\", rot=30, figsize=(5,3),color=['green','green','red','red'], style=['-', '--','-', '--'],logx=True)\n",
    "ax.grid('on', which='minor', axis='x') ; ax.set_xlabel(\"Simulation time (h)\") ; ax.set_ylabel(\"Discharge rate, in cubic m/d\"); plt.grid(); df.head()"
   ]
  },
  {
   "cell_type": "code",
   "execution_count": 10,
   "id": "1fd5d545-edfd-4c54-b0a2-7fb14fc2c516",
   "metadata": {},
   "outputs": [
    {
     "name": "stdout",
     "output_type": "stream",
     "text": [
      "<flopy.mf6.data.mfstructure.MFDataItemStructure object at 0x000001FCAB4EDD60>\n",
      "just idomain\n"
     ]
    },
    {
     "data": {
      "text/plain": [
       "[<matplotlib.axis.YTick at 0x1fcab9e2780>,\n",
       " <matplotlib.axis.YTick at 0x1fcab9e2330>,\n",
       " <matplotlib.axis.YTick at 0x1fcab9e2060>]"
      ]
     },
     "execution_count": 10,
     "metadata": {},
     "output_type": "execute_result"
    },
    {
     "data": {
      "image/png": "[encoded data removed]",
      "text/plain": [
       "<Figure size 400x400 with 1 Axes>"
      ]
     },
     "metadata": {},
     "output_type": "display_data"
    }
   ],
   "source": [
    "name  = list(parameters.keys())[0]  ; sim = build_models(name)                         ; gwf = sim.get_model(sim_name); extents = gwf.modelgrid.extent\n",
    "print('just idomain') ; fig = plt.figure(figsize = (4,4) ,tight_layout=True)            ; axes=[fig.add_subplot(10 ,1 ,(1 ,8))] ; ax=axes[0]  \n",
    "mm = flopy.plot.PlotMapView(gwf ,ax=ax  ,extent  = extents)                             ; mm.plot_bc(\"MAW\" ,color=\"blue\")\n",
    "mm.plot_inactive(color_noflow=\"silver\") ; ax.set_xticks([0 ,extents[1]/2 ,extents[1]])  ; ax.set_yticks([0 ,extents[1]/2 ,extents[1]])"
   ]
  },
  {
   "cell_type": "code",
   "execution_count": 11,
   "id": "3c0cccfc-1209-4db6-8c38-f76d97779a6c",
   "metadata": {},
   "outputs": [
    {
     "name": "stdout",
     "output_type": "stream",
     "text": [
      "OC package_Flow  :  ['list()', 'zonebudget()', 'budget()', 'budgetcsv()', 'head()']\n"
     ]
    }
   ],
   "source": [
    "print(\"OC package_Flow  : \", gwf.oc.output.methods());   hobj=gwf.output.head() ; head=hobj.get_data()   "
   ]
  },
  {
   "cell_type": "code",
   "execution_count": 12,
   "id": "a25d9a26-4eb7-4e56-bd15-0f747d5b5d3c",
   "metadata": {},
   "outputs": [
    {
     "name": "stdout",
     "output_type": "stream",
     "text": [
      "(2, 101, 101)\n"
     ]
    },
    {
     "data": {
      "text/plain": [
       "<function matplotlib.pyplot.show(close=None, block=None)>"
      ]
     },
     "execution_count": 12,
     "metadata": {},
     "output_type": "execute_result"
    },
    {
     "data": {
      "image/png": "[encoded data removed]",
      "text/plain": [
       "<Figure size 1050x150 with 1 Axes>"
      ]
     },
     "metadata": {},
     "output_type": "display_data"
    }
   ],
   "source": [
    "print(head.shape) # levels=np.arange(-500, 0, 125); mn.contour_array (head, head=head,  levels=levels,  colors=\"b\",  masked_values=[1e30])\n",
    "fig, ax = plt.subplots(1, 1, figsize=(7, 1), dpi=150, tight_layout=True) ; mn = flopy.plot.PlotCrossSection(gwf, ax=ax, line={\"row\": 8})\n",
    "mn.plot_ibound( head=head ) ; mn.plot_grid(lw=0.5, color=\"green\")        ; mn.plot_array(head, head=head, alpha=0.5, masked_values=[1e30]); plt.show"
   ]
  },
  {
   "cell_type": "code",
   "execution_count": null,
   "id": "6a4c4437-f5ac-4920-9959-00bfc576007e",
   "metadata": {},
   "outputs": [],
   "source": []
  },
  {
   "cell_type": "code",
   "execution_count": null,
   "id": "3a644a71-6f20-437d-b783-fa3369113257",
   "metadata": {},
   "outputs": [],
   "source": []
  }
 ],
 "metadata": {
  "jupytext": {
   "cell_metadata_filter": "-all"
  },
  "kernelspec": {
   "display_name": "Python 3 (ipykernel)",
   "language": "python",
   "name": "python3"
  },
  "language_info": {
   "codemirror_mode": {
    "name": "ipython",
    "version": 3
   },
   "file_extension": ".py",
   "mimetype": "text/x-python",
   "name": "python",
   "nbconvert_exporter": "python",
   "pygments_lexer": "ipython3",
   "version": "3.12.7"
  }
 },
 "nbformat": 4,
 "nbformat_minor": 5
}
