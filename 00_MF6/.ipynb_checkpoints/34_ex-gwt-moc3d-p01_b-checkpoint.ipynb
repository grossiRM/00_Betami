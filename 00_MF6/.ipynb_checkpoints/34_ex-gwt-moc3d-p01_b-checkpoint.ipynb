{
 "cells": [
  {
   "cell_type": "markdown",
   "id": "d6b05a1a",
   "metadata": {},
   "source": [
    "**34_MOC_3D_i**"
   ]
  },
  {
   "cell_type": "code",
   "execution_count": 1,
   "id": "0583556c",
   "metadata": {},
   "outputs": [],
   "source": [
    "import os ; import pathlib as pl ; import flopy ; import matplotlib.pyplot as plt ; import numpy as np; from pathlib import Path  \n",
    "from flopy.plot.styles import styles ; from scipy.optimize import fsolve\n",
    "import pandas as pd ; from modflow_devtools.misc import get_env, timed ; write=get_env(\"WRITE\", True);run=get_env(\"RUN\", True)\n",
    "plot = get_env(\"PLOT\", True) ; plot_show = get_env(\"PLOT_SHOW\", True)"
   ]
  },
  {
   "cell_type": "code",
   "execution_count": 2,
   "id": "6ffd5f7d-bb51-48e4-948d-a81761c8cacc",
   "metadata": {},
   "outputs": [],
   "source": [
    "sim_ws    = Path(\"./34\")                            ; sim_ws.mkdir(exist_ok=True) ; sim_name = \"ex-gwt-moc3dp1\"\n",
    "exe_name  = 'E:\\\\15_REPOS\\\\00_BETAMI\\\\bin\\\\mf6.exe' ; workspace = figs_path = sim_ws ; gwf_name = sim_name ; output_folder = sim_ws"
   ]
  },
  {
   "cell_type": "code",
   "execution_count": 3,
   "id": "c6d01b10",
   "metadata": {},
   "outputs": [],
   "source": [
    "parameters = {\"ex-gwt-moc3d-p01a\": {\"longitudinal_dispersivity\": 0.1,\"retardation_factor\": 1.0,\"decay_rate\": 0.0},\n",
    "              \"ex-gwt-moc3d-p01b\": {\"longitudinal_dispersivity\": 1.0,\"retardation_factor\": 1.0,\"decay_rate\": 0.0},\n",
    "              \"ex-gwt-moc3d-p01c\": {\"longitudinal_dispersivity\": 1.0,\"retardation_factor\": 2.0,\"decay_rate\": 0.0},\n",
    "              \"ex-gwt-moc3d-p01d\": {\"longitudinal_dispersivity\": 1.0,\"retardation_factor\": 1.0,\"decay_rate\": 0.01}}\n",
    "parameter_units = {\"longitudinal_dispersivity\": \"$cm$\",\"retardation_factor\": \"unitless\",\"decay_rate\": \"$s^{-1}$\"}\n",
    "\n",
    "length_units = \"centimeters\" ; nper = 1 ;nlay = 1 ;nrow = 1 ;ncol = 122 ;system_length = 12 ;delr = 0.1 ;delc = 0.1 ;top = 1 \n",
    "time_units = \"seconds\" ; botm = 0 ; specific_discharge = 0.1 ;hydraulic_conductivity = 0.01 ;porosity = 0.1 ; total_time = 120  \n",
    "tdis_ds1 = ((total_time, 1, 1.0),)  ; tdis_ds2 = ((total_time, 240, 1.0),) ; source_concentration = 1 "
   ]
  },
  {
   "cell_type": "raw",
   "id": "de1733c7-5032-4bcc-abd8-9b7f7a324940",
   "metadata": {
    "jupyter": {
     "source_hidden": true
    }
   },
   "source": [
    "class Wexler1d:\n",
    "    def betaeqn(self, beta, d, v, l): return beta / np.tan(beta) - beta**2 * d / v / l + v * l / 4.0 / d\n",
    "    def fprimebetaeqn(self, beta, d, v, l):\n",
    "        c = v * l / 4.0 / d         ; return 1.0 / np.tan(beta) - beta / np.sin(beta) ** 2 - 2.0 * c * beta\n",
    "    def fprime2betaeqn(self, beta, d, v, l):\n",
    "        c = v * l / 4.0 / d ;    \n",
    "        sinx2 = np.sin(beta) ** 2   ; return (-1.0 / sinx2- (sinx2 - beta * np.sin(beta * 2.0)) / (sinx2 * sinx2)- 2.0 * c)\n",
    "    def solvebetaeqn(self, beta, d, v, l, xtol=1.0e-12):\n",
    "        t = fsolve(self.betaeqn,beta,args=(d, v, l),fprime=self.fprime2betaeqn,xtol=xtol,full_output=True)\n",
    "        result = t[0][0]  ; infod = t[1]  ; isoln = t[2]  ; msg = t[3]\n",
    "        if abs(result - beta) > np.pi: \n",
    "            raise Exception(\"Error in beta solution\")\n",
    "        err = self.betaeqn(result, d, v, l)  ; fvec = infod[\"fvec\"][0]\n",
    "        if isoln != 1:\n",
    "            print(\"Error in beta solve\", err, result, d, v, l, msg)\n",
    "        return result\n",
    "    def root3(self, d, v, l, nval=1000):\n",
    "        b = 0.5 * np.pi          ; betalist = []\n",
    "        for i in range(nval):\n",
    "            b = self.solvebetaeqn(b, d, v, l)  ; err = self.betaeqn(b, d, v, l)  ; betalist.append(b) ; b += np.pi\n",
    "        return betalist\n",
    "    def analytical(self, x, t, v, l, d, tol=1.0e-20, nval=5000):\n",
    "        sigma = 0.0   ; betalist = self.root3(d, v, l, nval=nval)  ; concold = None\n",
    "        for i, bi in enumerate(betalist):\n",
    "            denom =  bi**2 + (v * l / 2.0 / d) ** 2 + v * l / d\n",
    "            x1 =    (bi* (bi * np.cos(bi * x / l) + v * l / 2.0 / d * np.sin(bi * x / l))/ denom)\n",
    "            denom =  bi**2 + (v * l / 2.0 / d) ** 2            ; x2 = np.exp(-1 * bi**2 * d * t / l**2) / denom\n",
    "\n",
    "            sigma += x1 * x2   ; term1 = 2.0 * v * l / d * np.exp(v * x / 2.0 / d - v**2 * t / 4.0 / d)  ;conc = 1.0 - term1 * sigma\n",
    "            if i > 0:\n",
    "                assert concold is not None   \n",
    "                diff = abs(conc - concold)\n",
    "                if np.all(diff < tol):\n",
    "                    break\n",
    "            concold = conc\n",
    "        return conc\n",
    "    def analytical2(self, x, t, v, l, d, e=0.0, tol=1.0e-20, nval=5000):\n",
    "        u = v**2 + 4.0 * e * d  ; u = np.sqrt(u)  ; sigma = 0.0\n",
    "        denom = (u + v) / 2.0 / v - (u - v) ** 2.0 / 2.0 / v / (u + v) * np.exp(-u * l / d)\n",
    "        term1 = np.exp((v - u) * x / 2.0 / d) + (u - v) / (u + v) * np.exp((v + u) * x / 2.0 / d - u * l / d)  ; term1 = term1 / denom\n",
    "        term2 = 2.0 * v * l / d * np.exp(v * x / 2.0 / d - v**2 * t / 4.0 / d - e * t)\n",
    "        betalist = self.root3(d, v, l, nval=nval)  ; concold = None\n",
    "        for i, bi in enumerate(betalist):\n",
    "            denom = bi**2 + (v * l / 2.0 / d) ** 2 + v * l / d\n",
    "            x1 = (bi* (bi * np.cos(bi * x / l) + v * l / 2.0 / d * np.sin(bi * x / l))/ denom)\n",
    "            denom = bi**2 + (v * l / 2.0 / d) ** 2 + e * l**2 / d\n",
    "            x2 = np.exp(-1 * bi**2 * d * t / l**2) / denom            ; sigma += x1 * x2    ; conc = term1 - term2 * sigma\n",
    "            if i > 0:\n",
    "                assert concold is not None\n",
    "                diff = abs(conc - concold)\n",
    "                if np.all(diff < tol):\n",
    "                    break\n",
    "            concold = conc\n",
    "        return conc\n",
    "def get_sorption_dict(retardation_factor):\n",
    "    sorption = None  ; bulk_density = None  ; distcoef = None \n",
    "    if retardation_factor > 1.0:\n",
    "        sorption = \"linear\"       ; bulk_density = 1.0      ; distcoef = (retardation_factor - 1.0) * porosity / bulk_density\n",
    "    sorption_dict = {\"sorption\"   : sorption,\"bulk_density\" : bulk_density,\"distcoef\": distcoef}\n",
    "    return sorption_dict\n",
    "def get_decay_dict(decay_rate, sorption=False):\n",
    "    first_order_decay = None      ; decay = None            ; decay_sorbed = None\n",
    "    if decay_rate != 0.0:\n",
    "        first_order_decay = True  ; decay = decay_rate\n",
    "        if sorption:\n",
    "            decay_sorbed = decay_rate\n",
    "    decay_dict = {\"first_order_decay\": first_order_decay,\"decay\": decay,\"decay_sorbed\": decay_sorbed,}\n",
    "    return decay_dict"
   ]
  },
  {
   "cell_type": "code",
   "execution_count": 4,
   "id": "9a4dbb21",
   "metadata": {},
   "outputs": [
    {
     "name": "stdout",
     "output_type": "stream",
     "text": [
      "Building mf6gwt model...ex-gwt-moc3d-p01a\n",
      "run_models took 257.66 ms\n",
      "Building mf6gwt model...ex-gwt-moc3d-p01b\n",
      "run_models took 97.87 ms\n",
      "Building mf6gwt model...ex-gwt-moc3d-p01c\n",
      "run_models took 100.19 ms\n",
      "Building mf6gwt model...ex-gwt-moc3d-p01d\n",
      "run_models took 98.27 ms\n"
     ]
    }
   ],
   "source": [
    "# class Wexler1d:\n",
    "def get_sorption_dict(retardation_factor):\n",
    "    sorption = None  ; bulk_density = None  ; distcoef = None \n",
    "    if retardation_factor > 1.0:\n",
    "        sorption = \"linear\"       ; bulk_density = 1.0      ; distcoef = (retardation_factor - 1.0) * porosity / bulk_density\n",
    "    sorption_dict = {\"sorption\"   : sorption,\"bulk_density\" : bulk_density,\"distcoef\": distcoef}\n",
    "    return sorption_dict\n",
    "def get_decay_dict(decay_rate, sorption=False):\n",
    "    first_order_decay = None      ; decay = None            ; decay_sorbed = None\n",
    "    if decay_rate != 0.0:\n",
    "        first_order_decay = True  ; decay = decay_rate\n",
    "        if sorption:\n",
    "            decay_sorbed = decay_rate\n",
    "    decay_dict = {\"first_order_decay\": first_order_decay,\"decay\": decay,\"decay_sorbed\": decay_sorbed}\n",
    "    return decay_dict\n",
    "\n",
    "def build_mf6gwf(sim_folder):\n",
    "    name = \"flow\"               ; head_filerecord=f\"{name}.hds\"  ; budget_filerecord=f\"{name}.bud\"\n",
    "    sim_ws = os.path.join (workspace, sim_folder, \"mf6gwf\")\n",
    "    sim = flopy.mf6.MFSimulation (sim_name=name, sim_ws=sim_ws, exe_name=exe_name)\n",
    "    flopy.mf6.ModflowTdis (sim, nper=nper, perioddata=tdis_ds1, time_units=time_units)\n",
    "    flopy.mf6.ModflowIms  (sim)\n",
    "    gwf = flopy.mf6.ModflowGwf   (sim, modelname=name, save_flows=True)\n",
    "    flopy.mf6.ModflowGwfdis (gwf ,length_units=length_units ,nlay=nlay ,nrow=nrow ,ncol=ncol ,delr=delr ,delc=delc ,top=top ,botm=botm)\n",
    "    flopy.mf6.ModflowGwfnpf (gwf ,save_specific_discharge=True ,save_saturation=True ,icelltype=0 ,k=hydraulic_conductivity)\n",
    "    flopy.mf6.ModflowGwfic  (gwf ,strt=1.0)\n",
    "    flopy.mf6.ModflowGwfchd (gwf ,stress_period_data=[[(0 ,0 ,ncol-1) ,1.0]])\n",
    "    wel_spd={0:[[(0 ,0 ,0) ,specific_discharge*delc*delr*top ,source_concentration]] }\n",
    "    flopy.mf6.ModflowGwfwel (gwf ,stress_period_data=wel_spd ,pname=\"WEL-1\" ,auxiliary=[\"CONCENTRATION\"])\n",
    "    flopy.mf6.ModflowGwfoc  (gwf ,head_filerecord=head_filerecord,budget_filerecord=budget_filerecord,saverecord=[(\"HEAD\",\"ALL\") ,(\"BUDGET\",\"ALL\")])\n",
    "    return sim\n",
    "\n",
    "def build_mf6gwt(sim_folder, longitudinal_dispersivity, retardation_factor, decay_rate):\n",
    "    print(f\"Building mf6gwt model...{sim_folder}\") ; name = \"trans\"\n",
    "    pd = [(\"GWFHEAD\", \"../mf6gwf/flow.hds\", None),(\"GWFBUDGET\", \"../mf6gwf/flow.bud\", None)] ; sourcerecarray = [[\"WEL-1\", \"AUX\", \"CONCENTRATION\"]]\n",
    "    obs_data={f\"{name} ,obs ,csv\":[(\"X005\",\"CONCENTRATION\",(0,0,0)),(\"X405\",\"CONCENTRATION\",(0,0,40)),(\"X1105\",\"CONCENTRATION\",(0,0,110))]}\n",
    "\n",
    "    sim_ws = os.path.join(workspace, sim_folder, \"mf6gwt\")\n",
    "    sim = flopy.mf6.MFSimulation  (sim_name=name, sim_ws=sim_ws, exe_name=exe_name)\n",
    "    flopy.mf6.ModflowTdis (sim, nper=nper, perioddata=tdis_ds2, time_units=time_units)\n",
    "    flopy.mf6.ModflowIms  (sim, linear_acceleration=\"bicgstab\")\n",
    "    gwt = flopy.mf6.ModflowGwt    (sim, modelname=name, save_flows=True)\n",
    "    flopy.mf6.ModflowGwtdis (gwt ,length_units=length_units ,nlay=nlay ,nrow=nrow ,ncol=ncol ,delr=delr ,delc=delc ,top=top ,botm=botm)\n",
    "    flopy.mf6.ModflowGwtic  (gwt ,strt=0)\n",
    "    flopy.mf6.ModflowGwtmst (gwt ,porosity=porosity ,**get_sorption_dict(retardation_factor) ,**get_decay_dict(decay_rate ,retardation_factor>1.0))\n",
    "    flopy.mf6.ModflowGwtadv (gwt ,scheme=\"TVD\")\n",
    "    flopy.mf6.ModflowGwtdsp (gwt ,xt3d_off=True ,alh=longitudinal_dispersivity ,ath1=longitudinal_dispersivity)\n",
    "    flopy.mf6.ModflowGwtfmi (gwt, packagedata=pd)\n",
    "    flopy.mf6.ModflowGwtssm (gwt, sources=sourcerecarray)\n",
    "#    flopy.mf6.ModflowGwtcnc (gwt, stress_period_data=[((0, 0, 0), source_concentration)])  # PLUS\n",
    "    obs_package = flopy.mf6.ModflowUtlobs(gwt, digits=10, print_input=True, continuous=obs_data)\n",
    "    flopy.mf6.ModflowGwtoc(gwt,budget_filerecord=f\"{name}.cbc\",concentration_filerecord=f\"{name}.ucn\",\n",
    "                           saverecord=[(\"CONCENTRATION\", \"ALL\"), (\"BUDGET\", \"LAST\")],\n",
    "                           printrecord=[(\"CONCENTRATION\", \"LAST\"), (\"BUDGET\", \"LAST\")])\n",
    "    return sim\n",
    "def build_models(sim_name, longitudinal_dispersivity, retardation_factor, decay_rate):\n",
    "    sim_mf6gwf = build_mf6gwf(sim_name)\n",
    "    sim_mf6gwt = build_mf6gwt(sim_name, longitudinal_dispersivity, retardation_factor, decay_rate)\n",
    "    return sim_mf6gwf, sim_mf6gwt\n",
    "def write_models(sims, silent=True):\n",
    "    sim_mf6gwf, sim_mf6gwt = sims ; sim_mf6gwf.write_simulation(silent=silent)  ; sim_mf6gwt.write_simulation(silent=silent)\n",
    "@timed\n",
    "def run_models(sims, silent=True):\n",
    "    sim_mf6gwf, sim_mf6gwt = sims\n",
    "    success, buff = sim_mf6gwf.run_simulation(silent=silent)  ; assert success, buff\n",
    "    success, buff = sim_mf6gwt.run_simulation(silent=silent)  ; assert success, buff\n",
    "def scenario(idx, silent=True):\n",
    "    key = list(parameters.keys())[idx] ; parameter_dict = parameters[key] ; sims = build_models(key, **parameter_dict)\n",
    "    if write: write_models (sims, silent=silent)\n",
    "    if run:   run_models   (sims, silent=silent)\n",
    "scenario(0) ; scenario(1); scenario(2); scenario(3)"
   ]
  },
  {
   "cell_type": "code",
   "execution_count": 5,
   "id": "e94ae799-cf39-4ceb-af82-e7eb7b8d8a79",
   "metadata": {},
   "outputs": [],
   "source": [
    "print(dog1.species)"
   ]
  },
  {
   "cell_type": "code",
   "execution_count": null,
   "id": "1b311a78-b6cb-4be8-82a5-dc172086ef6c",
   "metadata": {},
   "outputs": [],
   "source": []
  },
  {
   "cell_type": "code",
   "execution_count": 10,
   "id": "a4cf41db-a377-49ee-8ad5-50a111915e04",
   "metadata": {},
   "outputs": [
    {
     "name": "stdout",
     "output_type": "stream",
     "text": [
      "Canine\n",
      "bark\n",
      "Buddy\n",
      "3\n"
     ]
    }
   ],
   "source": [
    "\n",
    "\n",
    "\n",
    "\n",
    "\n",
    "class Dog:\n",
    "    species = \"Canine\"               ; sound = \"bark\"\n",
    "    def __init__(self, name, age):\n",
    "        self.name = name             ; self.age = age  \n",
    "dog1 = Dog(\"Buddy\", 3)\n",
    "print(dog1.species) ; print(dog1.sound) ; print(dog1.name)  ; print(dog1.age) "
   ]
  }
 ],
 "metadata": {
  "jupytext": {
   "cell_metadata_filter": "-all"
  },
  "kernelspec": {
   "display_name": "Python 3 (ipykernel)",
   "language": "python",
   "name": "python3"
  },
  "language_info": {
   "codemirror_mode": {
    "name": "ipython",
    "version": 3
   },
   "file_extension": ".py",
   "mimetype": "text/x-python",
   "name": "python",
   "nbconvert_exporter": "python",
   "pygments_lexer": "ipython3",
   "version": "3.12.7"
  }
 },
 "nbformat": 4,
 "nbformat_minor": 5
}
