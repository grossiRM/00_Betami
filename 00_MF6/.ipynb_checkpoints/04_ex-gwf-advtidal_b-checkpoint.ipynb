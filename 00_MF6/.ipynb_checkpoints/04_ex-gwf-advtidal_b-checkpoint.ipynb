{
 "cells": [
  {
   "cell_type": "code",
   "execution_count": null,
   "id": "07ff88e8-9d47-4001-bf97-78ba28215bf7",
   "metadata": {},
   "outputs": [],
   "source": [
    "# pip install shapely"
   ]
  },
  {
   "cell_type": "code",
   "execution_count": null,
   "id": "47519fde-c82b-441e-a582-655b0303de25",
   "metadata": {},
   "outputs": [],
   "source": [
    "import os; import pathlib as pl ; import flopy ; import git ; import matplotlib.pyplot as plt ; import pandas as pd \n",
    "import numpy as np ; from flopy.plot.styles import styles  ; from modflow_devtools.misc import get_env, timed ; from pathlib import Path\n",
    "import matplotlib as mpl; import csv; from shapely.geometry import Polygon; from flopy.utils.gridintersect import GridIntersect"
   ]
  },
  {
   "cell_type": "code",
   "execution_count": null,
   "id": "a2203f6b-772a-45ae-aa89-9dbb83805f6d",
   "metadata": {},
   "outputs": [],
   "source": [
    "sim_name = \"ex-gwf-advtidal\" ; output_folder = Path(\"./04_advtidal\") ; output_folder.mkdir(exist_ok=True) \n",
    "parameter_units = {\"recharge\": \"$ft/s$\"}  ; length_units = \"feet\"  ; time_units = \"seconds\" \n",
    "path = 'E:\\\\15_REPOS\\\\00_BETAMI\\\\bin\\\\data_modflow6-examples\\\\ex-gwf-advtidal'\n",
    "data_FP1=os.path.join(path,\"tides.csv\")      ; data_FP2=os.path.join(path,\"wellrates.csv\")   \n",
    "data_FP3=os.path.join(path,\"riverstage.csv\") ; data_FP4=os.path.join(path,\"recharge1.csv\")\n",
    "exe_name = 'E:\\\\15_REPOS\\\\00_BETAMI\\\\bin\\\\mf6.exe' ; workspace = output_folder  ; figs_path = output_folder ;gwf_name = sim_name # \"toth\""
   ]
  },
  {
   "cell_type": "code",
   "execution_count": null,
   "id": "c45a5afa",
   "metadata": {},
   "outputs": [],
   "source": [
    "length_units = \"meters\"       ;  nper = 4 ;  nlay = 3 ;  ncol = 10 ;  nrow = 15 ;  delr = 500 ;  delc = 500 ;  top = 50 \n",
    "time_units = \"days\"           ;  strt = 50 ;  icelltype_str = \"1,0,0\" ;  k11_str = \"5.0,0.1,4.0\" ;  k33_str = \"0.5,5.0e-3,0.1\"   \n",
    "botm_str = \"5.0,-10.0,-100.0\" ; ss = 0.000001 ;  sy = 0.2 ;  nouter = 50 ;  ninner = 100 ;  hclose = 0.000000001 ;  rclose = 0.000001   \n",
    "\n",
    "recharge_zone_1 = Polygon(shell=[(0, 0), (3000, 0), (3000, 5500), (1000, 7500), (0, 7500), (0, 0)])\n",
    "recharge_zone_2 = Polygon(shell=[(1000, 7500), (3000, 5500), (5000, 7500), (1000, 7500)])\n",
    "recharge_zone_3 = Polygon(shell=[(3000, 0), (5000, 0), (5000, 7500), (3000, 5500), (3000, 0)])\n",
    "\n",
    "nseg = 3 ;  etsurf = 50 ;  etrate = 0.0004 ;  depth = 10 ;  pxdp = [0.2,0.5] ;  petm = [0.3,0.1] ;  \n",
    "\n",
    "botm = [float(value) for value in botm_str.split(\",\")]  ; k11 = [float(value) for value in k11_str.split(\",\")]\n",
    "k33 = [float(value) for value in k33_str.split(\",\")]    ; icelltype = [int(value) for value in icelltype_str.split(\",\")]"
   ]
  },
  {
   "cell_type": "code",
   "execution_count": null,
   "id": "84ff347b-66b4-4c3b-89f7-54813e5bd0b1",
   "metadata": {},
   "outputs": [],
   "source": [
    "perlen = [1.0, 10.0, 10.0, 10.0]  ; nstp = [1, 120, 120, 120] ; tsmult = [1.0, 1.0, 1.0, 1.0] ; tdis_ds = list(zip(perlen, nstp, tsmult))\n",
    "days = np.sum(perlen) ; print('tdis_ds' ,tdis_ds, '         perlen', days, 'days' ,', nstp = 120' )\n",
    "timprs = np.linspace(1, 10, 120, endpoint=True) ; np.savetxt(output_folder / \"a_timprs.csv\", timprs, delimiter=\",\")"
   ]
  },
  {
   "cell_type": "code",
   "execution_count": null,
   "id": "2278329c-24d1-46e1-9ecf-46c244de306f",
   "metadata": {},
   "outputs": [],
   "source": [
    "tw1=np.linspace(1,10,4,endpoint=True) ;tw2=np.linspace(11,20,4,endpoint=True) ;tw3=np.linspace(21,30,4,endpoint=True) ;print('T [1]',tw1,tw2,tw3)"
   ]
  },
  {
   "cell_type": "code",
   "execution_count": null,
   "id": "30c98fe2-da73-4207-846b-165d04d752cd",
   "metadata": {},
   "outputs": [],
   "source": [
    "def get_timeseries(fname, names, interpolation, filename=None):\n",
    "    tsdata = []\n",
    "    for row in np.genfromtxt(fname, delimiter=\",\", comments=\"#\"):\n",
    "        tsdata.append(tuple(row))\n",
    "    tsdict = {\"timeseries\": tsdata,\"time_series_namerecord\": names,\"interpolation_methodrecord\": interpolation}\n",
    "    if filename is not None:\n",
    "        tsdict[\"filename\"] = filename\n",
    "    return tsdict\n",
    "tsdict = get_timeseries(data_FP1, \"tides\", \"linear\")    ;tm = tsdict[\"timeseries\"] ;np.savetxt(workspace/\"b_FP1_tides.csv\",tm,delimiter = \",\") "
   ]
  },
  {
   "cell_type": "code",
   "execution_count": null,
   "id": "3f12ccd6-c319-4ca8-a33a-d3fae530701e",
   "metadata": {},
   "outputs": [],
   "source": [
    "sim_ws = os.path.join(workspace, sim_name)\n",
    "sim = flopy.mf6.MFSimulation(sim_name=sim_name,sim_ws=sim_ws,exe_name=exe_name,verbosity_level=0,)\n",
    "flopy.mf6.ModflowTdis(sim, nper=nper, perioddata=tdis_ds, time_units=time_units)\n",
    "flopy.mf6.ModflowIms(sim,outer_maximum=nouter,outer_dvclose=hclose,inner_maximum=ninner,inner_dvclose=hclose,rcloserecord=f\"{rclose} strict\")\n",
    "gwf = flopy.mf6.ModflowGwf(sim, modelname=sim_name, save_flows=True)\n",
    "flopy.mf6.ModflowGwfdis(gwf,length_units=length_units,nlay=nlay,nrow=nrow,ncol=ncol,delr=delr,delc=delc,top=top,botm=botm)\n",
    "flopy.mf6.ModflowGwfnpf(gwf,cvoptions=\"perched\",perched=True,icelltype=icelltype,k=k11,k33=k33,save_specific_discharge=True)\n",
    "flopy.mf6.ModflowGwfic(gwf, strt=strt)\n",
    "flopy.mf6.ModflowGwfsto(gwf,iconvert=1,ss=1.0e-6,sy=sy,steady_state={0: True},transient={1: True},)"
   ]
  },
  {
   "cell_type": "code",
   "execution_count": null,
   "id": "a40ab95d-84d3-4469-9740-6e2ef1af403c",
   "metadata": {},
   "outputs": [],
   "source": [
    "ghb_spd = []  \n",
    "ghb_spd += [[1, i, 9, \"tides\", 15.0  , \"ESTUARY-L2\"] for i in range(nrow)]\n",
    "ghb_spd += [[2, i, 9, \"tides\", 1500.0, \"ESTUARY-L3\"] for i in range(nrow)] ; ghb_spd = {0: ghb_spd} ; \n",
    "sa2 = pd.DataFrame(ghb_spd) ; sa2.to_csv (output_folder / \"ccccc_GHB_input.csv\"); print('GHB_inputs'); sa2.tail()"
   ]
  },
  {
   "cell_type": "code",
   "execution_count": null,
   "id": "56b282a7-4fca-4647-aa36-4608ca600623",
   "metadata": {},
   "outputs": [],
   "source": [
    "ghbobs_dict = {}   \n",
    "ghbobs_dict[f\"{sim_name}.ghb.obs.csv\"] = [(\"ghb_2_6_10\", \"ghb\", (1, 5, 9)),(\"ghb_3_6_10\", \"ghb\", (2, 5, 9)),\n",
    "                                          (\"estuary2\", \"ghb\", \"ESTUARY-L2\"),(\"estuary3\", \"ghb\" , \"ESTUARY-L3\"),]\n",
    "sa2 = pd.DataFrame(ghbobs_dict) ; sa2.to_csv (output_folder / \"c_GHB_OBS.csv\")   \n",
    "flopy.mf6.ModflowGwfghb(gwf   ,stress_period_data=ghb_spd,boundnames=True   ,timeseries=tsdict  ,observations=ghbobs_dict,pname=\"GHB-TIDAL\") ;  \n",
    "print('GHB_OBS'); df = pd.DataFrame.from_dict(ghbobs_dict, orient='index'); df"
   ]
  },
  {
   "cell_type": "code",
   "execution_count": null,
   "id": "2fcc7345-94f4-45ca-b2e6-947f227c7126",
   "metadata": {},
   "outputs": [],
   "source": [
    "wel_spd = {}\n",
    "wel_spd[1] = [[0, 11, 2, -50, \"\"]               ,[2, 4, 7, \"well_1_rate\", \"well_1\"]  , [2, 3, 2, \"well_2_rate\", \"well_2\"]]\n",
    "wel_spd[2] = [[2, 3, 2, \"well_2_rate\", \"well_2\"],[2, 4, 7, \"well_1_rate\", \"well_1\"]]\n",
    "wel_spd[3] = [[2, 4, 7, \"well_1_rate\", \"well_1\"],[2, 3, 2, \"well_2_rate\", \"well_2\"]  , [0, 11, 2, -10, \"\"],[0, 2, 4, -20, \"\"],[0, 13, 5, -40, \"\"]]\n",
    "df = pd.DataFrame.from_dict(wel_spd, orient='index', columns=['a', 'b','c','d','e']) ; df.to_csv (output_folder / \"d_W_n.csv\")   \n",
    "sa2 = pd.DataFrame(wel_spd[1]) ; sa2.to_csv (output_folder / \"e_W_s_1.csv\")               ; print('wel_spd[1]', wel_spd[1])  #, df\n",
    "sa2 = pd.DataFrame(wel_spd[2]) ; sa2.to_csv (output_folder / \"e_W_s_2.csv\")\n",
    "sa2 = pd.DataFrame(wel_spd[3]) ; sa2.to_csv (output_folder / \"e_W_s_3.csv\")"
   ]
  },
  {
   "cell_type": "code",
   "execution_count": null,
   "id": "be595ae3-4ba1-40d2-a834-38fe7692b93d",
   "metadata": {},
   "outputs": [],
   "source": [
    "#df1 = pd.DataFrame(wel_spd[1]); a1=df1.drop([1,2]); a2=df1.drop([0,2]); a3=df1.drop([0,1]) ; print('df3',df3);  \n",
    "#df2 = pd.DataFrame(wel_spd[2]); b1=df2.drop([1])  ; b2=df2.drop([0]);\n",
    "#df3 = pd.DataFrame(wel_spd[3]); c1=df3.drop([1,2,3,4]); c2=df3.drop([0,2,3,4]) ; c3=df3.drop([0,1,3,4]); c4=df3.drop([0,1,2,4]); c5=df3.drop([0,1,2,3])"
   ]
  },
  {
   "cell_type": "code",
   "execution_count": null,
   "id": "e25038ab-f596-4129-8729-07ae9e7cff5b",
   "metadata": {},
   "outputs": [],
   "source": [
    "# cl = pd.concat([a1, a2, a3], axis=1) ; cl.to_csv (output_folder / \"f_W_s_1 of 3.csv\"); cl"
   ]
  },
  {
   "cell_type": "code",
   "execution_count": null,
   "id": "9adf5f4a-d794-466d-bf79-06a97f87839b",
   "metadata": {},
   "outputs": [],
   "source": [
    "# cl = pd.concat([b1, b2 ], axis=1) ; cl.to_csv (output_folder / \"f_W_s_2 of 3.csv\"); \n",
    "# cl = pd.concat([c1, c2, c3, c4, c5 ], axis=1) ; cl.to_csv (output_folder / \"f_W_s_3 of 3.csv\"); "
   ]
  },
  {
   "cell_type": "code",
   "execution_count": null,
   "id": "fdbf7cb3-30ab-4da8-927c-954b69a541aa",
   "metadata": {},
   "outputs": [],
   "source": [
    "tsdict = get_timeseries(data_FP2, [\"well_1_rate\", \"well_2_rate\", \"well_6_rate\"], 3 * [\"stepwise\"])\n",
    "tm = tsdict[\"timeseries\"] ;np.savetxt(workspace/\"g_FP2_wellrates.csv\",tm,delimiter = \",\")\n",
    "flopy.mf6.ModflowGwfwel(gwf          ,stress_period_data=wel_spd,boundnames=True             ,timeseries=tsdict,pname=\"WEL\"); "
   ]
  },
  {
   "cell_type": "code",
   "execution_count": null,
   "id": "710e2d60-7847-456b-b076-a80894d55d75",
   "metadata": {},
   "outputs": [],
   "source": [
    "rivrow = [2, 3, 4, 4, 5, 5, 5, 4, 4, 4, 9, 8, 7, 6, 6, 5, 5, 6, 6, 6]     ; rivcol = [0, 1, 2, 3, 4, 5, 6, 7, 8, 9, 0, 1, 2, 3, 4, 5, 6, 7, 8, 9]\n",
    "rivstg = 10 * [\"river_stage_1\"] + 10 * [\"river_stage_2\"]                  ; rivcnd = 2 * [1000 + f + 1 for f in range(10)]\n",
    "rivrbt = list(np.linspace(35.9, 35.0, 10)) + list(np.linspace(36.9, 36.0, 10))   ; rivlay = 20 * [0]\n",
    "rivbnd = (5 * [\"\"]+ [\"riv1_c6\", \"riv1_c7\"]+ 3 * [\"\"]+ 3 * [\"riv2_upper\"]+ 2 * [\"\"]+ [\"riv2_c6\", \"riv2_c7\"]+ 3 * [\"\"])\n",
    "riv_spd = list(zip(rivlay, rivrow, rivcol, rivstg, rivcnd, rivrbt, rivbnd))\n",
    "s2=pd.DataFrame(riv_spd); s2.columns = ['rivlay','rivrow','rivcol','rivstg','rivcnd','rivrbt','rivbnd']; s2.to_csv (output_folder/\"h_river_.csv\")  "
   ]
  },
  {
   "cell_type": "code",
   "execution_count": null,
   "id": "2a3279f8-a7b8-41cb-9518-b1b4f975af74",
   "metadata": {},
   "outputs": [],
   "source": [
    "tsdict = get_timeseries(data_FP3,[\"river_stage_1\", \"river_stage_2\"],[\"linear\", \"stepwise\"])\n",
    "tm = tsdict[\"timeseries\"] ;np.savetxt(workspace/\"i_FP3_riverstages.csv\",tm,delimiter = \",\")\n",
    "flopy.mf6.ModflowGwfriv(gwf     , stress_period_data=riv_spd       ,boundnames=True           ,timeseries=tsdict,pname=\"RIV\") ; "
   ]
  },
  {
   "cell_type": "markdown",
   "id": "4b9f4216-dce9-4c8e-95c3-9a2c1cc7d598",
   "metadata": {},
   "source": [
    "An issue RCH 1 2 3"
   ]
  },
  {
   "cell_type": "code",
   "execution_count": null,
   "id": "93630697-7fd8-41d0-8d5b-f811e9ee421e",
   "metadata": {},
   "outputs": [],
   "source": [
    "for ipak, p in enumerate([recharge_zone_1, recharge_zone_2, recharge_zone_3]) :\n",
    "    ix = GridIntersect(gwf.modelgrid, method=\"vertex\", rtree=True)  ; result = ix.intersect(p)       ; rch_spd = []\n",
    "    for i in range(result.shape[0]):\n",
    "        rch_spd.append([0,*result[\"cellids\"][i],f\"rch_{ipak + 1}\",result[\"areas\"][i] / delr / delc])\n",
    "        \n",
    "    fname = f\"recharge{ipak + 1}.csv\"  \n",
    "    tsdict = get_timeseries(data_FP4,[f\"rch_{ipak + 1}\"],[\"stepwise\"],filename=f\"{sim_name}.rch{ipak + 1}.ts\")   # err = data_FP4\n",
    "    \n",
    "    flopy.mf6.ModflowGwfrch(gwf,stress_period_data=rch_spd,boundnames=True,     timeseries=tsdict    ,fixed_cell=True,print_input=True,\n",
    "                            print_flows=True,save_flows=True,auxiliary=[\"MULTIPLIER\"],auxmultname=\"MULTIPLIER\",\n",
    "                            pname=f\"RCH-ZONE_{ipak + 1}\",filename=f\"{sim_name}.rch{ipak + 1}\")\n",
    "    tm = tsdict[\"timeseries\"] ;np.savetxt(workspace/\"j_recharge1_.csv\",tm,delimiter = \",\")                       # err = data_FP4 ___ an issue RCH"
   ]
  },
  {
   "cell_type": "code",
   "execution_count": null,
   "id": "a30e8e4d-fc54-4893-a5ea-c31d239ff2b4",
   "metadata": {},
   "outputs": [],
   "source": [
    "row, col = np.where(np.zeros((nrow, ncol)) == 0)  ; cellids = list(zip(nrow * ncol * [0], row, col))\n",
    "evt_spd  = [[k, i, j, etsurf, etrate, depth, *pxdp, *petm] for k, i, j in cellids]\n",
    "flopy.mf6.ModflowGwfevt(gwf, nseg=nseg  ,stress_period_data=evt_spd ,pname=\"EVT\") ; evt_spd\n",
    "s15=pd.DataFrame(evt_spd); s15.to_csv (output_folder/\"k_ET_.csv\")  # s15.columns = ['k', 'i', 'j', 'etsurf', 'etrate', 'depth', 'pxdp', 'petm'];"
   ]
  },
  {
   "cell_type": "code",
   "execution_count": null,
   "id": "80c413d1-2690-4093-8f85-5bcd60d06e1e",
   "metadata": {
    "scrolled": true
   },
   "outputs": [],
   "source": [
    "head_filerecord = f\"{sim_name}.hds\"  ; budget_filerecord = f\"{sim_name}.cbc\"\n",
    "flopy.mf6.ModflowGwfoc(gwf,head_filerecord=head_filerecord,budget_filerecord=budget_filerecord,saverecord=[(\"HEAD\", \"ALL\"), (\"BUDGET\", \"ALL\")])\n",
    "\n",
    "obsdict = {}  ; obslist = [[\"h1_13_8\", \"head\", (2, 12, 7)]]      ; obsdict[f\"{sim_name}.obs.head.csv\"] = obslist\n",
    "obslist = [[\"icf1\", \"flow-ja-face\", (0, 4, 5), (0, 5, 5)]]       ; obsdict[f\"{sim_name}.obs.flow.csv\"] = obslist\n",
    "\n",
    "obs = flopy.mf6.ModflowUtlobs(gwf, print_input=False, continuous=obsdict) ; sim.write_simulation(silent=False)  ; sim.run_simulation(silent=False)  "
   ]
  },
  {
   "cell_type": "raw",
   "id": "ac17c7fe-414a-4012-8bed-0702f8f02548",
   "metadata": {},
   "source": [
    "pmv = flopy.plot.PlotMapView(model=gwf, ax=ax, layer=0)  ; pmv.__dict__.keys()"
   ]
  },
  {
   "cell_type": "code",
   "execution_count": null,
   "id": "92b33a73",
   "metadata": {
    "lines_to_end_of_cell_marker": 2
   },
   "outputs": [],
   "source": [
    "with styles.USGSMap():\n",
    "    fig = plt.figure(figsize=(6, 10),dpi=150)\n",
    "    ax = fig.add_subplot(4, 4, 1, aspect=\"equal\")\n",
    "    pmv = flopy.plot.PlotMapView(model=gwf, ax=ax, layer=0) ; pmv.plot_grid() ; pmv.plot_bc(name=\"WEL\", kper=3) ; pmv.plot_bc(name=\"RIV\")  # Wel, RIV\n",
    "    title=\"Layer 1\";letter=chr(ord(\"@\")+1);styles.heading(letter=letter,heading=title,ax=ax);ax.set_xlabel(\"x (m)\");ax.set_ylabel(\"y (m)\")\n",
    "\n",
    "    ax = fig.add_subplot(4, 4, 2, aspect=\"equal\")\n",
    "    pmv = flopy.plot.PlotMapView(model=gwf, ax=ax, layer=1) ; pmv.plot_grid() ; pmv.plot_bc(name=\"GHB\") ; pmv.plot_bc(ftype=\"WEL\", kper=3)  # GHB\n",
    "    title = \"Layer 2\" ; letter = chr(ord(\"@\") + 2) ; styles.heading(letter=letter, heading=title, ax=ax) ; ax.set_xlabel(\"x (m)\")\n",
    "\n",
    "    ax = fig.add_subplot(4, 4, 3, aspect=\"equal\")\n",
    "    pmv = flopy.plot.PlotMapView(model=gwf, ax=ax, layer=2) ;pmv.plot_grid() ; pmv.plot_bc(name=\"GHB\") ; pmv.plot_bc(ftype=\"WEL\", kper=3)   # GHB, WEL\n",
    "    title = \"Layer 3\" ; letter = chr(ord(\"@\") + 3) ; styles.heading(letter=letter, heading=title, ax=ax) ; ax.set_xlabel(\"x (m)\")\n",
    "\n",
    "    ax = fig.add_subplot(4, 4, 4, aspect=\"equal\")\n",
    "    pmv = flopy.plot.PlotMapView(model=gwf, ax=ax) ; pmv.plot_grid(linewidth=0)\n",
    "    \n",
    "    for ip, (p, fc) in enumerate([(recharge_zone_1, \"r\"), (recharge_zone_2, \"b\"), (recharge_zone_3, \"g\")]):\n",
    "        xs, ys = p.exterior.xy ; ax.fill(xs, ys, alpha=0.25, fc=fc, ec=\"none\", label=f\"Recharge Zone {ip + 1}\")\n",
    "    ax.set_xlabel(\"x (m)\")  ; styles.graph_legend(ax) ; title = \"Recharge zones\" ; letter = chr(ord(\"@\") + 4)\n",
    "    \n",
    "    styles.heading(letter=letter, heading=title, ax=ax); ax.legend(bbox_to_anchor=(1.0, 1.0))\n",
    "    plt.show() ; fig.savefig(output_folder/'04_advtidal')"
   ]
  },
  {
   "cell_type": "code",
   "execution_count": null,
   "id": "0d23bb12-1c18-4c05-856d-3f842d1643c6",
   "metadata": {},
   "outputs": [],
   "source": [
    "obsnames = gwf.obs[1].output.obs_names           ; print('obsnames:  ', obsnames)  \n",
    "tsdata1  = gwf.obs[1].output.obs(f=obsnames[0])  ; ts1 = tsdata1.data ; ts1na = ts1.dtype.names[1:]\n",
    "tsdata2  = gwf.obs[1].output.obs(f=obsnames[1])  ; ts2 = tsdata2.data ; ts2na = ts2.dtype.names[1:]\n",
    "tsdata3  = gwf.ghb.output.obs()                  ; ts3 = tsdata3.data ; ts3na = ts3.dtype.names[1:]\n",
    "print('ts.names_   ts1:',ts1na, '   ts2:', ts2na, '   ts3:', ts3na)  \n",
    "print('tsdata 1-3:', tsdata3.__dict__.keys())"
   ]
  },
  {
   "cell_type": "code",
   "execution_count": null,
   "id": "b707e90a-09f3-47d0-8c69-59d58a140d96",
   "metadata": {},
   "outputs": [],
   "source": [
    "ts_na = ts1na;          fig, ax = plt.subplots(figsize=(12, 2))        ; ax.plot(ts1['totim']  ,ts1['H1_13_8'],  label=ts_na)  \n",
    "ax.set_xlabel(\"time (days)\") ; ax.set_ylabel(\"head (m)\") ; styles.graph_legend(ax) ; plt.show()   "
   ]
  },
  {
   "cell_type": "code",
   "execution_count": null,
   "id": "8d1493c3-b30f-4613-a087-14b34972787b",
   "metadata": {},
   "outputs": [],
   "source": [
    "ts_na = ts2na;           fig, ax = plt.subplots(figsize=(12, 2))       ; ax.plot(ts1['totim'] ,ts2['ICF1'],label=ts_na)  \n",
    "ax.set_xlabel(\"time (days)\") ; ax.set_ylabel(\"head (m)\") ; styles.graph_legend(ax) ; plt.show()"
   ]
  },
  {
   "cell_type": "code",
   "execution_count": null,
   "id": "0598c271-679f-425e-b746-8b8ad868c22e",
   "metadata": {},
   "outputs": [],
   "source": [
    "df = pd.DataFrame(ts3); df ; ax = df.plot(x=\"totim\", y= list(ts3na) , kind=\"line\", rot=0, figsize=(10,2)); \n",
    "ax.legend(bbox_to_anchor=(1.0, 1.0)); ax.set(xlabel=\"time (days)\", ylabel=\"flow ($m^3/d$)\"); plt.show()"
   ]
  },
  {
   "cell_type": "code",
   "execution_count": null,
   "id": "00ce33a8-cfa7-454c-b1fa-9cbe56401abd",
   "metadata": {},
   "outputs": [],
   "source": [
    "df = pd.DataFrame(ts3); df ; ax = df.plot(x=\"totim\", y= list(ts3na) , kind=\"line\", rot=0, figsize=(5,2)); \n",
    "ax.legend(bbox_to_anchor=(1.0, 1.0)); ax.set(xlabel=\"time (days)\", ylabel=\"flow ($m^3/d$)\"); plt.show()"
   ]
  },
  {
   "cell_type": "raw",
   "id": "c095efa4-825b-4bff-bbd1-dae032249429",
   "metadata": {},
   "source": [
    "PS : # There still remains a issue that needs to be adressed : See # err = data_FP4 "
   ]
  },
  {
   "cell_type": "code",
   "execution_count": null,
   "id": "2150c558-c7e5-4f0c-a71d-873bc77479ab",
   "metadata": {},
   "outputs": [],
   "source": [
    "def plot_ts(sim):\n",
    "    with styles.USGSMap():\n",
    "        gwf = sim.get_model(sim_name)\n",
    "        obsnames = gwf.obs[1].output.obs_names\n",
    "        obs_list = [\n",
    "            gwf.obs[1].output.obs(f=obsnames[0]),\n",
    "            gwf.obs[1].output.obs(f=obsnames[1]),\n",
    "            gwf.ghb.output.obs(),\n",
    "        ]\n",
    "        ylabel = (\"head (m)\", \"flow ($m^3/d$)\", \"flow ($m^3/d$)\")\n",
    "        obs_fig = (\"obs-head\", \"obs-flow\", \"ghb-obs\")\n",
    "        for iplot, obstype in enumerate(obs_list):\n",
    "            fig = plt.figure(figsize=(6, 3))\n",
    "            ax = fig.add_subplot()\n",
    "            tsdata = obstype.data\n",
    "            for name in tsdata.dtype.names[1:]:\n",
    "                ax.plot(tsdata[\"totim\"], tsdata[name], label=name)\n",
    "            ax.set_xlabel(\"time (d)\")\n",
    "            ax.set_ylabel(ylabel[iplot])\n",
    "            styles.graph_legend(ax)\n",
    "            if plot_show:\n",
    "                plt.show()\n",
    "def plot_results(sim, silent=True):\n",
    "    plot_grid(sim)\n",
    "    plot_ts(sim)"
   ]
  },
  {
   "cell_type": "code",
   "execution_count": null,
   "id": "335afd12-7012-459e-b159-5b31e1d69d38",
   "metadata": {},
   "outputs": [],
   "source": [
    "df = pd.DataFrame(ts3) \n",
    "ax = df.plot(x=\"totim\", y= list(ts3na), kind=\"line\")\n",
    "ax.legend(bbox_to_anchor=(1.0, 1.0))\n",
    "ax.set(xlabel=\"time (days)\", ylabel=\"flow ($m^3/d$)\")\n",
    "plt.show()"
   ]
  }
 ],
 "metadata": {
  "jupytext": {
   "cell_metadata_filter": "-all"
  },
  "kernelspec": {
   "display_name": "Python 3 (ipykernel)",
   "language": "python",
   "name": "python3"
  },
  "language_info": {
   "codemirror_mode": {
    "name": "ipython",
    "version": 3
   },
   "file_extension": ".py",
   "mimetype": "text/x-python",
   "name": "python",
   "nbconvert_exporter": "python",
   "pygments_lexer": "ipython3",
   "version": "3.12.7"
  }
 },
 "nbformat": 4,
 "nbformat_minor": 5
}
