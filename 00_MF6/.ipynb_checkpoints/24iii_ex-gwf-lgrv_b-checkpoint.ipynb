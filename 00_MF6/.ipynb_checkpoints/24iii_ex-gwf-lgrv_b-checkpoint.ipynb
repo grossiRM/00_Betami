{
 "cells": [
  {
   "cell_type": "markdown",
   "id": "7beec4e3",
   "metadata": {},
   "source": [
    "**24_Vilhelmsen LGR**"
   ]
  },
  {
   "cell_type": "code",
   "execution_count": 1,
   "id": "2d50eb30-6322-45fd-ab87-2d8aa4a3c85c",
   "metadata": {},
   "outputs": [],
   "source": [
    "import os ; import pathlib as pl ; import pandas as pd ; import numpy as np ;  import matplotlib.pyplot as plt ; from pathlib import Path  \n",
    "from flopy.plot.styles import styles ; import shapefile as shp ; import matplotlib as mpl ; import flopy ; import flopy.utils.binaryfile as bf \n",
    "from modflow_devtools.misc import get_env, timed ; write=get_env(\"WRITE\", True);run=get_env(\"RUN\", True) ; from flopy.utils.lgrutil import Lgr \n",
    "sim_ws    = Path(\"./24iii_LGR\")                         ; sim_ws.mkdir(exist_ok=True)     ; sim_name = example_name = name = \"ex-gwf-lgrv\"\n",
    "exe_name  = 'E:\\\\15_REPOS\\\\00_BETAMI\\\\bin\\\\mf6.exe'  ; workspace = figs_path = sim_ws       "
   ]
  },
  {
   "cell_type": "code",
   "execution_count": 2,
   "id": "f36fc796-3149-4f55-9444-3fe7df5fc265",
   "metadata": {},
   "outputs": [],
   "source": [
    "length_units = \"meters\" ; time_units = \"seconds\"    ; k11_str = \"5.e-07, 1.e-06, 5.e-05\" ; nouter = 50 ; ninner = 100 ; hclose = 1e-6 ; rclose = 100.0\n",
    "nper = 1 ;nlay = 25 ;nrow = 183 ;ncol = 147         ; nlaygc = 9 ;nrowcg = 61 ;ncolcg = 49 ;delr = 35 ;delc = 25 ;delv = 5   # ;delrgc = 105 \n",
    "delcgc = 75 ;delvgc = 15 ; top_str = \"variable\"     ; botm_str = \"30 to -90\" ; icelltype = 0 ; recharge = 0.0000000011098 ;\n",
    "parameters = {\"ex-gwf-lgrv-gc\": {\"configuration\": \"Coarse\"},\"ex-gwf-lgrv-lgr\": {\"configuration\": \"LGR\"}}"
   ]
  },
  {
   "cell_type": "code",
   "execution_count": 3,
   "id": "d9acdd24-acca-4f9e-bf0d-6bcd87a812a3",
   "metadata": {},
   "outputs": [],
   "source": [
    "path = 'E:\\\\15_REPOS\\\\00_BETAMI\\\\bin\\\\data_modflow6-examples\\\\ex-gwf-lgrv'                 ; top = np.loadtxt(os.path.join(path,\"top.dat\"))\n",
    "dt = [(\"k\",int),(\"i\",int),(\"j\",int) ,(\"stage\",float),(\"conductance\",float),(\"rbot\",float)] ; rivdat=np.loadtxt(os.path.join(path,\"riv.dat\"), dtype=dt)\n",
    "ikzone = np.empty((nlay, nrow, ncol),dtype=float)\n",
    "for k in range(nlay):                        \n",
    "    fname = f\"ikzone{k + 1}.dat\"    ;f_ikzone = os.path.join(path, fname)                   ; ikzone[k, :, :] = np.loadtxt(f_ikzone)\n",
    "a1 = pd.DataFrame(top)    ; a1.to_csv (sim_ws/ \"01_top.csv\") ; a1 = pd.DataFrame(rivdat)    ; a1.to_csv (sim_ws/ \"02_riv.csv\")\n",
    "a1 = pd.DataFrame(ikzone[24,:,:]) ; a1.to_csv (sim_ws/ \"03_ikzone_xy.csv\")                 "
   ]
  },
  {
   "cell_type": "code",
   "execution_count": 4,
   "id": "7e63ecd7",
   "metadata": {},
   "outputs": [],
   "source": [
    "perlen = [1.0]    ; nstp = [1] ; tsmult = [1.0]             ; tdis_ds = list(zip(perlen, nstp, tsmult))\n",
    "rivdat[\"k\"] -= 1  ; rivdat[\"i\"] -= 1  ; rivdat[\"j\"] -= 1    ; riv_spd = [[(k, i, j), stage, cond, rbot] for k, i, j, stage, cond, rbot in rivdat]\n",
    "botm = [30 - k * delv for k in range(nlay)]                 ; botm = np.array(botm)\n",
    "\n",
    "k11_values = [float(value) for value in k11_str.split(\",\")] ; k11 = np.zeros((nlay, nrow, ncol), dtype=float)\n",
    "for i, kval in enumerate(k11_values):                         k11 = np.where(ikzone == i + 1, kval, k11)\n",
    "\n",
    "xmin = 0.0 ; xmax = ncol * delr          ; ymin = 0.0 ; ymax = nrow * delc   ; parent_domain = [xmin, xmax, ymin, ymax]\n",
    "child_domain = [xmin + 15 * 3 * delr   , xmin + 41 * 3 * delr              , ymax - 49 * 3 * delc,ymax - 19 * 3 * delc]    # child_domain"
   ]
  },
  {
   "cell_type": "code",
   "execution_count": 5,
   "id": "9dfe9918-0f5c-4995-a545-7c00c4b4a70f",
   "metadata": {},
   "outputs": [
    {
     "name": "stdout",
     "output_type": "stream",
     "text": [
      "parent_domain [0.0, 5145, 0.0, 4575]    child [1575.0, 4305.0, 900, 3150]     layers 25         riv_spd = 02_riv.csv\n",
      "ikzone        (25, 183, 147)            nlayc 9           layer_index [0]     k11 (25, 183, 147)\n"
     ]
    }
   ],
   "source": [
    "ncppl = [1, 3, 3, 3, 3, 3, 3, 3, 3]                          ; nlayc = len(ncppl)           ; layer_index = [ncppl[0] - 1]  \n",
    "idomainp = np.ones((nlay , nrow , ncol ), dtype=int)         ; xorigin = xmin               ; yorigin = ymin \n",
    "#idomainc = np.ones((nlayc, nrowc, ncolc), dtype=int) \n",
    "    \n",
    "print('parent_domain', parent_domain, '   child', child_domain, \"    layers\",len(botm) ,        '        riv_spd = 02_riv.csv')\n",
    "print('ikzone       ', ikzone.shape , '           nlayc',nlayc,         '          layer_index', layer_index, '    k11',k11.shape)"
   ]
  },
  {
   "cell_type": "code",
   "execution_count": 6,
   "id": "d569b850-a46e-479d-aa92-2d4d74c7743a",
   "metadata": {},
   "outputs": [
    {
     "name": "stdout",
     "output_type": "stream",
     "text": [
      "stage_grid1, cond_grid1, rbot_grid1, count_grid1       50.981 0.01837 50.481 1\n"
     ]
    }
   ],
   "source": [
    "def coarsen_shape(icoarsen, nrow, ncol):\n",
    "    nrowc = int(np.ceil(nrow / icoarsen))   ; ncolc = int(np.ceil(ncol / icoarsen)) ;    return (nrowc, ncolc)\n",
    "def create_resampling_labels(a, icoarsen):\n",
    "    nrow, ncol = a.shape                    ; labels = np.zeros((nrow, ncol), dtype=int) ;     nodec = 0\n",
    "    for ic in range(0, nrow, icoarsen):\n",
    "        for jc in range(0, ncol, icoarsen):\n",
    "            labels[ic : ic + icoarsen, jc : jc + icoarsen] = nodec          ; nodec += 1\n",
    "    return labels\n",
    "def array_resampler(aaa, icoarsen, method):  \n",
    "    import scipy.ndimage as ndimage\n",
    "    assert method in [\"mean\", \"minimum\", \"maximum\", \"sum\"]\n",
    "    nrow, ncol = aaa.shape\n",
    "    nrowc, ncolc = coarsen_shape(icoarsen, nrow, ncol)  ; labels = create_resampling_labels(aaa, icoarsen) ;  idx = np.array(range(nrowc * ncolc))\n",
    "    if method   == \"mean\":      ar = ndimage.mean    (aaa, labels=labels, index=idx)\n",
    "    elif method == \"minimum\":   ar = ndimage.minimum (aaa, labels=labels, index=idx)\n",
    "    elif method == \"maximum\":   ar = ndimage.maximum (aaa, labels=labels, index=idx)\n",
    "    elif method == \"sum\":       ar = ndimage.sum     (aaa, labels=labels, index=idx)\n",
    "    return ar.reshape((nrowc, ncolc))\n",
    "stage_grid1 = np.zeros((nrow, ncol), dtype=float)               ; cond_grid1 = np.zeros((nrow, ncol), dtype=float)\n",
    "rbot_grid1  = np.zeros((nrow, ncol), dtype=float)               ; count_grid1 = np.zeros((nrow, ncol), dtype=int)       ;   icoarsen = 3\n",
    "for k, i, j, stage, cond, rbot in rivdat:\n",
    "    stage_grid1[i, j] = stage   ; cond_grid1[i, j] = cond       ; rbot_grid1[i, j] = rbot            ; count_grid1[i, j] += 1\n",
    "print('stage_grid1, cond_grid1, rbot_grid1, count_grid1      ', stage_grid1[i, j], cond_grid1[i, j], rbot_grid1[i, j], count_grid1[i, j])"
   ]
  },
  {
   "cell_type": "code",
   "execution_count": 7,
   "id": "4fda9af7-d2c9-492d-babb-c6f2633ace8e",
   "metadata": {},
   "outputs": [
    {
     "name": "stdout",
     "output_type": "stream",
     "text": [
      "stagec_grid2 1|1     183 61\n",
      "len(topc) 61 nlayc 9\n",
      "len(top) 183 nlay 25\n",
      "grid 0|1\n"
     ]
    },
    {
     "data": {
      "text/plain": [
       "array([0., 0., 0., 0., 0., 0., 0., 0., 0., 0., 0., 0., 0., 0., 0., 0., 0.,\n",
       "       0., 0., 0., 0., 0., 0., 0., 0., 0., 0., 0., 0., 0., 0., 0., 0., 0.,\n",
       "       0., 0., 0., 0., 0., 0., 0., 0., 0., 0., 0., 0., 0., 0., 0.])"
      ]
     },
     "execution_count": 7,
     "metadata": {},
     "output_type": "execute_result"
    }
   ],
   "source": [
    "stagec_grid2 = array_resampler  (stage_grid1, icoarsen, \"sum\")         ; condc_grid2  = array_resampler (cond_grid1 , icoarsen, \"sum\")\n",
    "rbotc_grid2  = array_resampler  (rbot_grid1 , icoarsen, \"sum\")         ; countc_grid2 = array_resampler (count_grid1, icoarsen, \"sum\")\n",
    "print('stagec_grid2 1|1    ',len(stage_grid1), len(stagec_grid2))      ; topc = array_resampler(top,icoarsen,\"mean\")  \n",
    "print('len(topc)',len(topc),'nlayc',nlayc) ; print('len(top)',len(top) ,'nlay',nlay) ;print('grid 0|1') ;stagec_grid2[0]"
   ]
  },
  {
   "cell_type": "code",
   "execution_count": 8,
   "id": "74967bb9-eb17-46f6-9f27-5e4136e8fa16",
   "metadata": {},
   "outputs": [
    {
     "data": {
      "text/plain": [
       "array([nan, nan, nan, nan, nan, nan, nan, nan, nan, nan, nan, nan, nan,\n",
       "       nan, nan, nan, nan, nan, nan, nan, nan, nan, nan, nan, nan, nan,\n",
       "       nan, nan, nan, nan, nan, nan, nan, nan, nan, nan, nan, nan, nan,\n",
       "       nan, nan, nan, nan, nan, nan, nan, nan, nan, nan])"
      ]
     },
     "execution_count": 8,
     "metadata": {},
     "output_type": "execute_result"
    }
   ],
   "source": [
    "stagec_grid3 = np.divide(stagec_grid2, countc_grid2)  ; rbotc_grid3  = np.divide(rbotc_grid2, countc_grid2)\n",
    "stagec_grid3[0]"
   ]
  },
  {
   "cell_type": "code",
   "execution_count": 9,
   "id": "870fe86d-6291-43e2-9d84-55252750f110",
   "metadata": {},
   "outputs": [],
   "source": [
    "def riv_resample(icoarsen, nrow, ncol, rivdat, idomain, rowcolspan):\n",
    "    stage_grid = np.zeros((nrow, ncol), dtype=float)             ; cond_grid = np.zeros((nrow, ncol), dtype=float)\n",
    "    rbot_grid  = np.zeros((nrow, ncol), dtype=float)             ; count_grid = np.zeros((nrow, ncol), dtype=int)\n",
    "    for k, i, j, stage, cond, rbot in rivdat:\n",
    "        stage_grid[i, j] = stage   ; cond_grid[i, j] = cond       ; rbot_grid[i, j] = rbot            ; count_grid[i, j] += 1\n",
    "\n",
    "    stagec_grid                      = array_resampler  (stage_grid, icoarsen, \"sum\")  ; condc_grid  = array_resampler  (cond_grid, icoarsen, \"sum\")\n",
    "    rbotc_grid                       = array_resampler  (rbot_grid , icoarsen, \"sum\")  ; countc_grid = array_resampler  (count_grid, icoarsen, \"sum\")\n",
    "    stagec_grid = np.divide(stagec_grid, countc_grid)  ; rbotc_grid  = np.divide(rbotc_grid, countc_grid)\n",
    "    \n",
    "    if rowcolspan is not None: \n",
    "        istart, istop, jstart, jstop = rowcolspan               \n",
    "        stagec_grid                  = stagec_grid [istart:istop, jstart:jstop]        ; condc_grid  = condc_grid   [istart:istop, jstart:jstop]     \n",
    "        rbotc_grid                   = rbotc_grid  [istart:istop, jstart:jstop]        ; countc_grid = countc_grid [istart:istop, jstart:jstop]\n",
    "        \n",
    "    rows, cols = np.where(condc_grid > 0.0)                     ;  rivdatc = []\n",
    "    for i, j in zip(rows, cols): \n",
    "        k = 0\n",
    "        if idomain[k, i, j] == 1:             rivdatc.append([(k, i, j), stagec_grid[i, j], condc_grid[i, j], rbotc_grid[i, j]])\n",
    "    return rivdatc"
   ]
  },
  {
   "cell_type": "code",
   "execution_count": 10,
   "id": "870f545f-823a-4dc0-a0f3-ee677e3ad7ca",
   "metadata": {},
   "outputs": [
    {
     "name": "stdout",
     "output_type": "stream",
     "text": [
      "grid 1|1     183 61\n",
      "grid 0|1\n"
     ]
    },
    {
     "data": {
      "text/plain": [
       "array([0., 0., 0., 0., 0., 0., 0., 0., 0., 0., 0., 0., 0., 0., 0., 0., 0.,\n",
       "       0., 0., 0., 0., 0., 0., 0., 0., 0., 0., 0., 0., 0., 0., 0., 0., 0.,\n",
       "       0., 0., 0., 0., 0., 0., 0., 0., 0., 0., 0., 0., 0., 0., 0.])"
      ]
     },
     "execution_count": 10,
     "metadata": {},
     "output_type": "execute_result"
    }
   ],
   "source": [
    "print('grid 1|1    ',len(stage_grid1), len(stagec_grid2))       ; print('grid 0|1')   ; stagec_grid2[0]"
   ]
  },
  {
   "cell_type": "code",
   "execution_count": 15,
   "id": "2f60b677-fd2f-44bc-bf3f-aa140023236b",
   "metadata": {},
   "outputs": [
    {
     "name": "stdout",
     "output_type": "stream",
     "text": [
      "<flopy.mf6.data.mfstructure.MFDataItemStructure object at 0x00000245E6ECCA70>\n"
     ]
    },
    {
     "name": "stderr",
     "output_type": "stream",
     "text": [
      "C:\\Users\\gross.DESKTOP-AIRQM2M\\anaconda3\\Lib\\site-packages\\executing\\executing.py:713: DeprecationWarning: ast.Str is deprecated and will be removed in Python 3.14; use ast.Constant instead\n",
      "  right=ast.Str(s=sentinel),\n",
      "C:\\Users\\gross.DESKTOP-AIRQM2M\\anaconda3\\Lib\\ast.py:587: DeprecationWarning: Attribute s is deprecated and will be removed in Python 3.14; use value instead\n",
      "  return Constant(*args, **kwargs)\n",
      "C:\\Users\\gross.DESKTOP-AIRQM2M\\anaconda3\\Lib\\site-packages\\executing\\executing.py:713: DeprecationWarning: ast.Str is deprecated and will be removed in Python 3.14; use ast.Constant instead\n",
      "  right=ast.Str(s=sentinel),\n",
      "C:\\Users\\gross.DESKTOP-AIRQM2M\\anaconda3\\Lib\\ast.py:587: DeprecationWarning: Attribute s is deprecated and will be removed in Python 3.14; use value instead\n",
      "  return Constant(*args, **kwargs)\n"
     ]
    },
    {
     "ename": "NameError",
     "evalue": "name 'build_models' is not defined",
     "output_type": "error",
     "traceback": [
      "\u001b[1;31m---------------------------------------------------------------------------\u001b[0m",
      "\u001b[1;31mNameError\u001b[0m                                 Traceback (most recent call last)",
      "Cell \u001b[1;32mIn[15], line 31\u001b[0m\n\u001b[0;32m     29\u001b[0m     \u001b[38;5;28;01mif\u001b[39;00m write: write_models(sim, silent\u001b[38;5;241m=\u001b[39msilent)\n\u001b[0;32m     30\u001b[0m     \u001b[38;5;28;01mif\u001b[39;00m run:   run_models(sim, silent\u001b[38;5;241m=\u001b[39msilent)\n\u001b[1;32m---> 31\u001b[0m scenario(\u001b[38;5;241m0\u001b[39m)\n",
      "Cell \u001b[1;32mIn[15], line 28\u001b[0m, in \u001b[0;36mscenario\u001b[1;34m(idx, silent)\u001b[0m\n\u001b[0;32m     27\u001b[0m \u001b[38;5;28;01mdef\u001b[39;00m \u001b[38;5;21mscenario\u001b[39m(idx, silent\u001b[38;5;241m=\u001b[39m\u001b[38;5;28;01mTrue\u001b[39;00m):     \n\u001b[1;32m---> 28\u001b[0m     sim     \u001b[38;5;241m=\u001b[39m build_lgr_model(sim_name)\n\u001b[0;32m     29\u001b[0m     \u001b[38;5;28;01mif\u001b[39;00m write: write_models(sim, silent\u001b[38;5;241m=\u001b[39msilent)\n\u001b[0;32m     30\u001b[0m     \u001b[38;5;28;01mif\u001b[39;00m run:   run_models(sim, silent\u001b[38;5;241m=\u001b[39msilent)\n",
      "Cell \u001b[1;32mIn[15], line 6\u001b[0m, in \u001b[0;36mbuild_lgr_model\u001b[1;34m(sim_name, silent)\u001b[0m\n\u001b[0;32m      4\u001b[0m flopy\u001b[38;5;241m.\u001b[39mmf6\u001b[38;5;241m.\u001b[39mModflowTdis (sim, nper\u001b[38;5;241m=\u001b[39mnper, perioddata\u001b[38;5;241m=\u001b[39mtdis_ds, time_units\u001b[38;5;241m=\u001b[39mtime_units)\n\u001b[0;32m      5\u001b[0m flopy\u001b[38;5;241m.\u001b[39mmf6\u001b[38;5;241m.\u001b[39mModflowIms  (sim,outer_maximum\u001b[38;5;241m=\u001b[39mnouter,outer_dvclose\u001b[38;5;241m=\u001b[39mhclose,inner_maximum\u001b[38;5;241m=\u001b[39mninner,inner_dvclose\u001b[38;5;241m=\u001b[39mhclose,rcloserecord\u001b[38;5;241m=\u001b[39m\u001b[38;5;124mf\u001b[39m\u001b[38;5;124m\"\u001b[39m\u001b[38;5;132;01m{\u001b[39;00mrclose\u001b[38;5;132;01m}\u001b[39;00m\u001b[38;5;124m strict\u001b[39m\u001b[38;5;124m\"\u001b[39m)\n\u001b[1;32m----> 6\u001b[0m sim \u001b[38;5;241m=\u001b[39m build_parent_model (sim, name, icoarsen\u001b[38;5;241m=\u001b[39micoarsen, ncppl\u001b[38;5;241m=\u001b[39mncppl)   ;     gwf \u001b[38;5;241m=\u001b[39m sim\u001b[38;5;241m.\u001b[39mget_model(\u001b[38;5;124m\"\u001b[39m\u001b[38;5;124mparent\u001b[39m\u001b[38;5;124m\"\u001b[39m)\n\u001b[0;32m     12\u001b[0m sim \u001b[38;5;241m=\u001b[39m build_child_model  (sim, name)                                   ;     gwfc \u001b[38;5;241m=\u001b[39m sim\u001b[38;5;241m.\u001b[39mget_model(\u001b[38;5;124m\"\u001b[39m\u001b[38;5;124mchild\u001b[39m\u001b[38;5;124m\"\u001b[39m)\n\u001b[0;32m     16\u001b[0m nlayp   \u001b[38;5;241m=\u001b[39m \u001b[38;5;28mlen\u001b[39m(ncppl)              ; nrowp \u001b[38;5;241m=\u001b[39m gwf\u001b[38;5;241m.\u001b[39mdis\u001b[38;5;241m.\u001b[39mnrow\u001b[38;5;241m.\u001b[39mget_data()  ; ncolp \u001b[38;5;241m=\u001b[39m gwf\u001b[38;5;241m.\u001b[39mdis\u001b[38;5;241m.\u001b[39mncol\u001b[38;5;241m.\u001b[39mget_data() ; delrp \u001b[38;5;241m=\u001b[39m gwf\u001b[38;5;241m.\u001b[39mdis\u001b[38;5;241m.\u001b[39mdelr\u001b[38;5;241m.\u001b[39marray ; \n",
      "Cell \u001b[1;32mIn[14], line 7\u001b[0m, in \u001b[0;36mbuild_parent_model\u001b[1;34m(sim, name, icoarsen, ncppl)\u001b[0m\n\u001b[0;32m      5\u001b[0m nrowp, ncolp \u001b[38;5;241m=\u001b[39m coarsen_shape(icoarsen, nrow, ncol)   ; nlayp \u001b[38;5;241m=\u001b[39m \u001b[38;5;28mlen\u001b[39m(ncppl)\n\u001b[0;32m      6\u001b[0m idomain \u001b[38;5;241m=\u001b[39m np\u001b[38;5;241m.\u001b[39mones((nlayp, nrowp, ncolp), dtype\u001b[38;5;241m=\u001b[39m\u001b[38;5;28mint\u001b[39m)  ; idomain[:, istart:istop, jstart:jstop] \u001b[38;5;241m=\u001b[39m \u001b[38;5;241m0\u001b[39m\n\u001b[1;32m----> 7\u001b[0m sim \u001b[38;5;241m=\u001b[39m build_models (name ,icoarsen\u001b[38;5;241m=\u001b[39micoarsen ,ncppl\u001b[38;5;241m=\u001b[39mncppl ,idomain\u001b[38;5;241m=\u001b[39midomain ,sim\u001b[38;5;241m=\u001b[39msim ,modelname\u001b[38;5;241m=\u001b[39m\u001b[38;5;124m\"\u001b[39m\u001b[38;5;124mparent\u001b[39m\u001b[38;5;124m\"\u001b[39m)                       ; \u001b[38;5;28;01mreturn\u001b[39;00m sim\n",
      "\u001b[1;31mNameError\u001b[0m: name 'build_models' is not defined"
     ]
    }
   ],
   "source": [
    "def build_lgr_model(sim_name, silent=False):\n",
    "    icoarsen = 3               ;     ncppl = [1, 3, 3, 3, 3, 3, 3, 3, 3] ;     \n",
    "    sim = flopy.mf6.MFSimulation  (sim_name=name, sim_ws=sim_ws, exe_name=\"mf6\")\n",
    "    flopy.mf6.ModflowTdis (sim, nper=nper, perioddata=tdis_ds, time_units=time_units)\n",
    "    flopy.mf6.ModflowIms  (sim,outer_maximum=nouter,outer_dvclose=hclose,inner_maximum=ninner,inner_dvclose=hclose,rcloserecord=f\"{rclose} strict\")\n",
    "    sim = build_parent_model (sim, name, icoarsen=icoarsen, ncppl=ncppl)   ;     gwf = sim.get_model(\"parent\")\n",
    "\n",
    "    \n",
    "    \n",
    "    \n",
    "    \n",
    "    sim = build_child_model  (sim, name)                                   ;     gwfc = sim.get_model(\"child\")\n",
    "\n",
    "\n",
    "    \n",
    "    nlayp   = len(ncppl)              ; nrowp = gwf.dis.nrow.get_data()  ; ncolp = gwf.dis.ncol.get_data() ; delrp = gwf.dis.delr.array ; \n",
    "    delcp   = gwf.dis.delc.array      ; topp = gwf.dis.top.array         ; botmp = gwf.dis.botm.array      ; idomainp = gwf.dis.idomain.array\n",
    "    lgr     = flopy.utils.lgrutil.Lgr (nlayp ,nrowp ,ncolp ,delrp ,delcp ,topp ,botmp ,idomainp ,ncpp=icoarsen ,ncppl=ncppl)\n",
    "    topc    = gwfc.dis.top.array      ; botmc = gwfc.dis.botm.array      ; lgr.top = topc ; lgr.botm = botmc\n",
    "    exgdata = lgr.get_exchange_data   (angldegx=True, cdist=True)\n",
    "    flopy.mf6.ModflowGwfgwf  (sim ,nexg=len(exgdata) ,exgtype=\"GWF6-GWF6\" ,exgmnamea=\"parent\" ,exgmnameb=\"child\",\n",
    "                              exchangedata=exgdata ,auxiliary=[\"angldegx\", \"cdist\"])                                           \n",
    "    return sim\n",
    "def write_models(sim, silent=True): sim.write_simulation(silent=silent)\n",
    "@timed\n",
    "def run_models(sim, silent=False):  success, buff = sim.run_simulation(silent=silent, report=True)  ;     assert success, buff\n",
    "def scenario(idx, silent=True):     \n",
    "    sim     = build_lgr_model(sim_name)\n",
    "    if write: write_models(sim, silent=silent)\n",
    "    if run:   run_models(sim, silent=silent)\n",
    "scenario(0) "
   ]
  },
  {
   "cell_type": "code",
   "execution_count": 13,
   "id": "f6d9f927-d187-4c13-8fff-cfd3f748d4f6",
   "metadata": {},
   "outputs": [
    {
     "data": {
      "text/plain": [
       "147"
      ]
     },
     "execution_count": 13,
     "metadata": {},
     "output_type": "execute_result"
    }
   ],
   "source": [
    "istop = int((ymax - ymin) / delc) ; jstop = int((xmax - xmin) / delr) ; jstop"
   ]
  },
  {
   "cell_type": "code",
   "execution_count": 14,
   "id": "0e3e64d1-49b9-443c-983e-90197defa1a6",
   "metadata": {},
   "outputs": [],
   "source": [
    "def build_parent_model(sim, name, icoarsen, ncppl):\n",
    "    xminp, xmaxp, yminp, ymaxp = parent_domain            ; xminc, xmaxc, yminc, ymaxc = child_domain\n",
    "    delcp = delc * icoarsen                              ; istart = int((ymaxp - ymaxc) / delcp)  ; istop = int((ymaxp - yminc) / delcp)      \n",
    "    delrp = delr * icoarsen                              ; jstart = int((xminc - xminp) / delrp)  ; jstop = int((xmaxc - xminp) / delrp) \n",
    "    nrowp, ncolp = coarsen_shape(icoarsen, nrow, ncol)   ; nlayp = len(ncppl)\n",
    "    idomain = np.ones((nlayp, nrowp, ncolp), dtype=int)  ; idomain[:, istart:istop, jstart:jstop] = 0\n",
    "    sim = build_models (name ,icoarsen=icoarsen ,ncppl=ncppl ,idomain=idomain ,sim=sim ,modelname=\"parent\")                       \n",
    "    return sim\n",
    "    \n",
    "def build_child_model(sim, name):\n",
    "    icoarsen = 1\n",
    "    xminp, xmaxp, yminp, ymaxp = parent_domain            ; xminc, xmaxc, yminc, ymaxc = child_domain\n",
    "    delcp = delc * icoarsen                              ; istart = int((ymaxp - ymaxc) / delcp)   ; istop = int((ymaxp - yminc) / delcp)\n",
    "    delrp = delr * icoarsen                              ; jstart = int((xminc - xminp) / delrp)   ; jstop = int((xmaxc - xminp) / delrp)\n",
    "    nrowp, ncolp = coarsen_shape(icoarsen, nrow, ncol)\n",
    "    sim = build_models(name,rowcolspan=[istart, istop, jstart, jstop],sim=sim,modelname=\"child\",xorigin=xminc,yorigin=yminc)   \n",
    "    return sim"
   ]
  },
  {
   "cell_type": "code",
   "execution_count": null,
   "id": "2a777be3-3312-4857-a949-a8249f743aa3",
   "metadata": {},
   "outputs": [],
   "source": [
    "ncppl = None                    # ncppl = [1, 3, 3, 3, 3, 3, 3, 3, 3] \n",
    "if ncppl is not None:\n",
    "    nlayc = len(ncppl)          ; layer_index = [ncppl[0] - 1]\n",
    "    for iln in ncppl[1:]:\n",
    "        last = layer_index[-1]  ; layer_index.append(iln + last)\n",
    "else:\n",
    "    nlayc = nlay                ; layer_index_beta = list(range(nlayc))   "
   ]
  },
  {
   "cell_type": "code",
   "execution_count": null,
   "id": "838665ca-afbd-4190-a011-109c689a58f6",
   "metadata": {},
   "outputs": [],
   "source": [
    "icoarsen = 3                 ; rowcolspan=None  \n",
    "nrowc, ncolc = coarsen_shape(icoarsen,nrow,ncol)  ;delrc = delr*icoarsen   ;delcc = delc*icoarsen    ; topc  =array_resampler(top,icoarsen,\"mean\")\n",
    "if rowcolspan is not None: istart    ,istop       ,jstart    ,jstop = rowcolspan                     ; nrowc = istop-istart    ;ncolc = jstop-jstart\n",
    "else:                      istart=0  ;istop=nrow  ;jstart=0  ;jstop = ncol\n",
    "print('layer_index (25 | 9)',len(layer_index_beta), '  i_start 0', '   i_stop', nrow, '   j_start 0', '   j_stop', ncol)\n",
    "print('delr_p ', delr, 'delc_p' , delc)  ; print('delr_c', delrc, 'delc_c', delcc, '     nrowc 105 |',nrowc, '   ncolc 75 |', ncolc)\n",
    "\n",
    "istart=0  ;istop=nrow  ;jstart=0  ;jstop = ncol   ; rowcolspan_c =[istart, istop, jstart, jstop]  ; print('rowcolspan_c', rowcolspan_c)"
   ]
  },
  {
   "cell_type": "code",
   "execution_count": null,
   "id": "d82f270a-56c4-40dd-a2bb-e9d3e534ebef",
   "metadata": {},
   "outputs": [],
   "source": [
    "idomain = 1\n",
    "if idomain is None: idomain = 1\n",
    "topc = topc[istart: istop, jstart: jstop]\n",
    "strt = nlayc * [topc]"
   ]
  },
  {
   "cell_type": "raw",
   "id": "c1cf963e-14d4-4a31-8842-86429e36514f",
   "metadata": {},
   "source": [
    "def build_models(name,icoarsen=1,ncppl=None,rowcolspan=None,idomain=None,sim=None,modelname=None,xorigin=None,yorigin=None):\n",
    "    head_filerecord = f\"{modelname}.hds\" ;     budget_filerecord = f\"{modelname}.cbc\"  \n",
    "    if sim is None:\n",
    "        sim_ws = os.path.join  (workspace, name)   \n",
    "        sim = flopy.mf6.MFSimulation (sim_name=name, sim_ws=sim_ws, exe_name=\"mf6\")\n",
    "        flopy.mf6.ModflowTdis  (sim, nper=nper, perioddata=tdis_ds, time_units=time_units)\n",
    "        flopy.mf6.ModflowIms   (sim,outer_maximum=nouter,outer_dvclose=hclose,inner_maximum=ninner,inner_dvclose=hclose,rcloserecord=f\"{rclose} strict\")\n",
    "    if modelname is None:       modelname = name\n",
    "    gwf = flopy.mf6.ModflowGwf (sim, modelname = modelname, save_flows=True)       \n",
    "    \n",
    "    if ncppl is not None:\n",
    "        nlayc = len(ncppl)         ; layer_index = [ncppl[0] - 1]\n",
    "        for iln in ncppl[1:]:\n",
    "            last = layer_index[-1] ; layer_index.append(iln + last)\n",
    "    else:\n",
    "        nlayc = nlay               ; layer_index = list(range(nlayc))\n",
    "    nrowc, ncolc = coarsen_shape(icoarsen,nrow,ncol) ;delrc=delr*icoarsen ;delcc=delc*icoarsen  ; topc = array_resampler(top, icoarsen, \"mean\")\n",
    "\n",
    "    if rowcolspan is not None:     istart    ,istop       ,jstart    ,jstop = rowcolspan        ; nrowc = istop-istart    ;ncolc = jstop-jstart\n",
    "    else:                          istart=0  ;istop=nrow  ;jstart=0  ;jstop = ncol\n",
    "    \n",
    "    if idomain is None: idomain = 1\n",
    "    topc = topc[istart: istop, jstart: jstop]\n",
    "    flopy.mf6.ModflowGwfdis (gwf,length_units=length_units,nlay=nlayc,nrow=nrowc,ncol=ncolc,delr=delrc,delc=delcc,\n",
    "                             top=topc,botm=botm[layer_index],idomain=idomain,xorigin=xorigin,yorigin=yorigin)    \n",
    "    k11c = []\n",
    "    for k in range(nlayc):\n",
    "        ilay = layer_index[k]   ; a = array_resampler(k11[ilay], icoarsen, \"maximum\")  ; k11c.append(a[istart:istop, jstart:jstop])\n",
    "    flopy.mf6.ModflowGwfnpf (gwf,k33overk=True,icelltype=icelltype,k=k11c,save_specific_discharge=True,k33=1.0)\n",
    "    strt = nlayc * [topc]\n",
    "    flopy.mf6.ModflowGwfic  (gwf, strt=strt)\n",
    "    idomain2 = gwf.dis.idomain.array ;     rivdatc = riv_resample(icoarsen, nrow, ncol,rivdat,idomain2,rowcolspan)    ; riv_spd = {0: rivdatc}\n",
    "    flopy.mf6.ModflowGwfriv(gwf,stress_period_data=riv_spd,pname=\"RIV\",)\n",
    "    flopy.mf6.ModflowGwfrcha(gwf, recharge=recharge, pname=\"RCH\")\n",
    "    flopy.mf6.ModflowGwfoc(gwf,head_filerecord=head_filerecord,budget_filerecord=budget_filerecord,saverecord=[(\"HEAD\", \"ALL\"), (\"BUDGET\", \"ALL\")])\n",
    "    return sim\n",
    "def write_models(sim, silent=True): sim.write_simulation(silent=silent)\n",
    "@timed\n",
    "def run_models(sim, silent=False):\n",
    "    success, buff = sim.run_simulation(silent=silent, report=True)  ;     assert success, buff\n",
    "def scenario(idx, silent=True):\n",
    "    key = list(parameters.keys())[idx]        ;  params = parameters[key].copy()\n",
    "    if params[\"configuration\"]   == \"Refined\" :  sim = build_models(key, modelname=\"parent\")\n",
    "    elif params[\"configuration\"] == \"Coarse\"  :\n",
    "        ncppl = [1, 3, 3, 3, 3, 3, 3, 3, 3]   ;  sim = build_models(key, icoarsen=3, ncppl=ncppl, modelname=\"parent\")\n",
    "    elif params[\"configuration\"] == \"LGR\":       sim = build_lgr_model(key)\n",
    "    if write:  write_models (sim, silent=silent)\n",
    "    if run:    run_models   (sim, silent=silent)\n",
    "scenario(0) ; scenario(1)"
   ]
  },
  {
   "cell_type": "code",
   "execution_count": null,
   "id": "0eaa0593-e45d-404e-b412-715b1327fd7f",
   "metadata": {},
   "outputs": [],
   "source": [
    "sim_ws3 = Path(\"./24i_LGR/ex-gwf-lgrv-lgr\")         ; sim3  = flopy.mf6.MFSimulation.load(sim_ws = sim_ws3 ,exe_name=exe_name, verbosity_level=0) \n",
    "gwf3 = sim3.get_model(\"parent\")    ; gwfc = None     ; gwfc3 = sim3.get_model(\"child\")  ; idomain_p = gwf3.dis.idomain.array\n",
    "tpp  = np.ma.masked_where(idomain_p[0] == 0, gwf3.dis.top.array)     ; vmin = tpp.min()               ;   vmax = tpp.max()\n",
    "tpcc = gwfc3.dis.top.array                                           ; vmin = min(vmin, tpcc.min())   ;   vmax = max(vmax, tpcc.max())\n",
    "irow, icol = gwf3.modelgrid.intersect(3000.0, 3000.0)                ; hyc = np.log(gwf3.npf.k.array)"
   ]
  },
  {
   "cell_type": "code",
   "execution_count": null,
   "id": "b37242ad-e372-429c-a981-3c0dbf3c8e1c",
   "metadata": {},
   "outputs": [],
   "source": [
    "def beta_plot(ax):\n",
    "    pmv=flopy.plot.PlotMapView(model=gwf3, ax=ax1, layer=0)              ; cb = pmv.plot_array(tpp, cmap=\"jet\", alpha=0.25, vmin=vmin, vmax=vmax) \n",
    "    pmv.plot_bc(name=\"RIV\", color='black')  ; xmin, xmax, ymin, ymax = child_domain                          \n",
    "    ax1.plot([xmin, xmax, xmax, xmin, xmin], [ymin, ymin, ymax, ymax, ymin], color = 'red')\n",
    "    pmv = flopy.plot.PlotMapView(model=gwfc3, ax=ax2, layer=0)              ; _  = pmv.plot_array(tpcc,cmap=\"jet\",alpha=0.2,masked_values=[1e30])    \n",
    "    pmv.plot_bc(name=\"RIV\", color='black')  #; cbar=plt.colorbar(_)\n",
    "    pmv = flopy.plot.PlotCrossSection(model=gwf3, ax=ax3, line={\"column\": icol})            ; cc = pmv.plot_array(hyc, cmap=\"Accent\", alpha=0.25)\n",
    "    pmv.plot_grid(linewidth=0.5) ; ax3.set_title(\"ZY, (col dis 3000x) _ child 9x61x49 _ materials 2|1|3\")\n",
    "plt.figure(figsize=(13,8))\n",
    "ax1 = plt.subplot2grid((4, 4), (0, 0), colspan=1, rowspan=1)  ; ax2 = plt.subplot2grid((4, 4), (0, 1), colspan=1, rowspan=1)  \n",
    "ax3 = plt.subplot2grid((4, 4), (0, 2), colspan=2, rowspan=1)  ; beta_plot(ax1) ; beta_plot(ax2) ; beta_plot(ax3)"
   ]
  },
  {
   "cell_type": "code",
   "execution_count": null,
   "id": "a8e2e99b-adc2-44ed-a5a4-f2cdec1d9ede",
   "metadata": {},
   "outputs": [],
   "source": [
    "sim_ws3 = Path(\"./24i_LGR/ex-gwf-lgrv-lgr\")         ; sim3  = flopy.mf6.MFSimulation.load(sim_ws = sim_ws3 ,exe_name=exe_name, verbosity_level=0) \n",
    "gwf31 = sim3.get_model(\"parent\")    ; gwf32 = sim3.get_model(\"child\")\n",
    "layer=0 ;head31=gwf31.output.head().get_data() ;head31= np.ma.masked_where(head31 > 1e29, head31) ;vmin=head31[layer].min() ;vmax=head31[layer].max()\n",
    "layer=0 ;head32=gwf32.output.head().get_data() ;head32= np.ma.masked_where(head32 > 1e29, head32) ;vmin=head32[layer].min() ;vmax=head32[layer].max()"
   ]
  },
  {
   "cell_type": "code",
   "execution_count": null,
   "id": "1242bfc0-0dd3-4d33-833f-64157a854937",
   "metadata": {},
   "outputs": [],
   "source": [
    "fig = plt.figure(figsize=(11,5))  \n",
    "ax = fig.add_subplot(1, 3, 1, aspect=\"equal\")  ; fig.tight_layout()\n",
    "pmv = flopy.plot.PlotMapView(model=gwf31, ax=ax, layer=0)        ; cb = pmv.plot_array(head31, cmap=\"jet\", masked_values=[1e30], vmin=vmin, vmax=vmax)  \n",
    "cbar = plt.colorbar(cb, shrink=0.4) ; cbar.ax.set_xlabel(r\"        Head, ($m$)\")         \n",
    "\n",
    "ax = fig.add_subplot(1, 3, 2, aspect=\"equal\")  ; fig.tight_layout()\n",
    "pmv = flopy.plot.PlotMapView(model=gwf32, ax=ax, layer=0)        ; cb = pmv.plot_array(head32, cmap=\"jet\", masked_values=[1e30], vmin=vmin, vmax=vmax)  \n",
    "cbar = plt.colorbar(cb, shrink=0.4) ; cbar.ax.set_xlabel(r\"        Head, ($m$)\")       \n",
    "\n",
    "ax = fig.add_subplot(1, 3, 3, aspect=\"equal\")  ; fig.tight_layout()\n",
    "pmv = flopy.plot.PlotMapView(model=gwfc3, ax=ax, layer=0)              ; _  = pmv.plot_array(tpcc,cmap=\"jet\",alpha=0.2,masked_values=[1e30])    \n",
    "pmv.plot_bc(name=\"RIV\", color='red')  ; cbar=plt.colorbar(_, shrink=0.4)     ; cbar.ax.set_xlabel('    topo, ($m$)')  \n",
    "\n",
    "plt.show()"
   ]
  }
 ],
 "metadata": {
  "jupytext": {
   "cell_metadata_filter": "-all"
  },
  "kernelspec": {
   "display_name": "Python 3 (ipykernel)",
   "language": "python",
   "name": "python3"
  },
  "language_info": {
   "codemirror_mode": {
    "name": "ipython",
    "version": 3
   },
   "file_extension": ".py",
   "mimetype": "text/x-python",
   "name": "python",
   "nbconvert_exporter": "python",
   "pygments_lexer": "ipython3",
   "version": "3.12.7"
  }
 },
 "nbformat": 4,
 "nbformat_minor": 5
}
