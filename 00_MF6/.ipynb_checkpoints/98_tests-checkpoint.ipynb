{
 "cells": [
  {
   "cell_type": "code",
   "execution_count": null,
   "id": "304760da-8ebb-48af-9bca-9523f4ee9b34",
   "metadata": {},
   "outputs": [],
   "source": [
    "f, axes = plt.subplots(ncols=3, nrows=1, sharey=True, figsize=(15, 10))\n",
    "axes = axes.flatten()\n",
    "ax = axes[0]\n",
    "ax.set_aspect(\"equal\")\n",
    "mm = flopy.plot.PlotMapView(model=m, ax=ax)\n",
    "mm.plot_grid(lw=0.5)\n",
    "mm.plot_pathline(\n",
    "    pw0,\n",
    "    layer=\"all\",\n",
    "    colors=\"blue\",\n",
    "    lw=1,\n",
    "    marker=\"o\",\n",
    "    markercolor=\"black\",\n",
    "    markersize=3,\n",
    "    markerevery=5,\n",
    ")\n",
    "mm.plot_pathline(\n",
    "    pr0,\n",
    "    layer=\"all\",\n",
    "    colors=\"green\",\n",
    "    lw=1,\n",
    "    marker=\"o\",\n",
    "    markercolor=\"black\",\n",
    "    markersize=3,\n",
    "    markerevery=5,\n",
    ")\n",
    "ax.set_title(\"MODFLOW-2005\")\n",
    "\n",
    "ax = axes[1]\n",
    "ax.set_aspect(\"equal\")\n",
    "mm = flopy.plot.PlotMapView(model=gwf, ax=ax)\n",
    "mm.plot_grid(lw=0.5)\n",
    "mm.plot_pathline(\n",
    "    pw1,\n",
    "    layer=\"all\",\n",
    "    colors=\"blue\",\n",
    "    lw=1,\n",
    "    marker=\"o\",\n",
    "    markercolor=\"black\",\n",
    "    markersize=3,\n",
    "    markerevery=5,\n",
    ")\n",
    "mm.plot_pathline(\n",
    "    pr1,\n",
    "    layer=\"all\",\n",
    "    colors=\"green\",\n",
    "    lw=1,\n",
    "    marker=\"o\",\n",
    "    markercolor=\"black\",\n",
    "    markersize=3,\n",
    "    markerevery=5,\n",
    ")\n",
    "ax.set_title(\"MODFLOW 6\")\n",
    "\n",
    "\n",
    "ax = axes[2]\n",
    "ax.set_aspect(\"equal\")\n",
    "mm = flopy.plot.PlotMapView(model=m, ax=ax)\n",
    "mm.plot_grid(lw=0.5)\n",
    "mm.plot_pathline(pw1, layer=\"all\", colors=\"blue\", lw=1, label=\"MODFLOW 6\")\n",
    "mm.plot_pathline(\n",
    "    pw0, layer=\"all\", colors=\"blue\", lw=1, linestyle=\":\", label=\"MODFLOW-2005\"\n",
    ")\n",
    "mm.plot_pathline(pr1, layer=\"all\", colors=\"green\", lw=1, label=\"_none\")\n",
    "mm.plot_pathline(\n",
    "    pr0, layer=\"all\", colors=\"green\", lw=1, linestyle=\":\", label=\"_none\"\n",
    ")\n",
    "ax.legend()\n",
    "ax.set_title(\"MODFLOW 2005 and MODFLOW 6\")"
   ]
  },
  {
   "cell_type": "code",
   "execution_count": null,
   "id": "77eaa5f1-7f0f-4e2b-b2dc-ea69fc691d21",
   "metadata": {},
   "outputs": [],
   "source": [
    "# Example 1B\n",
    "mp7_particle_data_1b = \n",
    "flopy.modpath.LRCParticleData(subdivisiondata=\n",
    "                              [flopy.modpath.FaceDataType(drape=0,verticaldivisions1=0,horizontaldivisions1=0,verticaldivisions2=0,\n",
    "                                                          horizontaldivisions2=0,verticaldivisions3=0,horizontaldivisions3=0,verticaldivisions4=0,\n",
    "                                                          horizontaldivisions4=0,rowdivisions5=0,columndivisions5=0,rowdivisions6=3,\n",
    "                                                          columndivisions6=3,)],lrcregions=[[[0, 0, 0, 0, nrow - 1, ncol - 1]]])"
   ]
  },
  {
   "cell_type": "code",
   "execution_count": null,
   "id": "49d70f68-8a8b-4c78-9dc2-7f0c3e7b1027",
   "metadata": {},
   "outputs": [],
   "source": [
    "nodes = {}\n",
    "k, i, j = wel_loc\n",
    "nodes[\"well\"] = [ncol * (nrow * k + i) + j] ; nodes[\"river\"] = []\n",
    "for rivspec in rd:\n",
    "    k, i, j = rivspec[0] ;     node = ncol * (nrow * k + i) + j ; nodes[\"river\"].append(node)"
   ]
  },
  {
   "cell_type": "code",
   "execution_count": null,
   "id": "f03dc865-d505-435e-8f4d-b515ec3f746c",
   "metadata": {},
   "outputs": [],
   "source": []
  }
 ],
 "metadata": {
  "jupytext": {
   "cell_metadata_filter": "-all"
  },
  "kernelspec": {
   "display_name": "Python 3 (ipykernel)",
   "language": "python",
   "name": "python3"
  },
  "language_info": {
   "codemirror_mode": {
    "name": "ipython",
    "version": 3
   },
   "file_extension": ".py",
   "mimetype": "text/x-python",
   "name": "python",
   "nbconvert_exporter": "python",
   "pygments_lexer": "ipython3",
   "version": "3.12.7"
  }
 },
 "nbformat": 4,
 "nbformat_minor": 5
}
