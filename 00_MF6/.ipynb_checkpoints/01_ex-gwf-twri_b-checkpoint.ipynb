{
 "cells": [
  {
   "cell_type": "markdown",
   "id": "ebc90019-c819-4010-a372-b8159a40538c",
   "metadata": {},
   "source": [
    "**01_TWRI**"
   ]
  },
  {
   "cell_type": "code",
   "execution_count": null,
   "id": "4301ea86",
   "metadata": {},
   "outputs": [],
   "source": [
    "import os; import pathlib as pl ; import flopy ; import git ; import matplotlib.pyplot as plt ; import pandas as pd \n",
    "import numpy as np ; from flopy.plot.styles import styles  ; from modflow_devtools.misc import get_env, timed ; from pathlib import Path\n",
    "import matplotlib as mpl; import csv "
   ]
  },
  {
   "cell_type": "code",
   "execution_count": null,
   "id": "afb23e6e-fe41-4e10-945e-2f027354f6db",
   "metadata": {},
   "outputs": [],
   "source": [
    "sim_name = \"ex-gwf-twri01\" ; output_folder = Path(\"./01_TWRI\") ; output_folder.mkdir(exist_ok=True)  \n",
    "parameter_units = {\"recharge\": \"$ft/s$\"}  ; length_units = \"feet\"  ; time_units = \"seconds\" \n",
    "exe_name = 'E:\\\\15_REPOS\\\\00_BETAMI\\\\bin\\\\mf6.exe' ; workspace = output_folder  ; figs_path = output_folder"
   ]
  },
  {
   "cell_type": "code",
   "execution_count": null,
   "id": "d990a014",
   "metadata": {},
   "outputs": [],
   "source": [
    "nper = 1 ; nlay = 5     ; ncol = 15      ; nrow = 15               ; delr = 5000   ; delc = 5000\n",
    "top  = 200  ; botm_str = \"-150.0, -200.0, -300.0, -350.0, -450.0\"  ; strt = 0.0    ; icelltype_str = \"1, 0, 0, 0, 0\"  \n",
    "k11_str = \"1.0e-3, 1.0e-8, 1.0e-4, 5.0e-7, 2.0e-4\"                 ; k33_str = (\"1.0e-3, 1.0e-8, 1.0e-4, 5.0e-7, 2.0e-4\")  ; recharge = 3e-8  \n",
    "\n",
    "perlen = 8.640e04 ;  nstp = 1 ; tsmult = 1.0 ; tdis_ds = ((perlen, nstp, tsmult),)  ; nouter = 50  ; ninner = 100  ; hclose = 1e-9   ; rclose = 1e-6\n",
    "\n",
    "botm = [float(value) for value in botm_str.split(\",\")]             ; k11       = [float(value) for value in k11_str.split(\",\")]\n",
    "k33  = [float(value) for value in k33_str.split(\",\")]              ; icelltype = [int  (value) for value in icelltype_str.split(\",\")]  #_ic_chd"
   ]
  },
  {
   "cell_type": "code",
   "execution_count": null,
   "id": "cd5b0cf4-9d39-4b75-8447-a9cf03e3a12f",
   "metadata": {},
   "outputs": [],
   "source": [
    "chd_spd = []             # { dictinaries } \n",
    "for k in (0, 2):\n",
    "    chd_spd += [[k, i, 0, 0.0] for i in range(nrow)]    \n",
    "chd_spd = {0: chd_spd}\n",
    "\n",
    "wel_spd = {0: [[4, 4, 10, -5.0],[2, 3, 5, -5.0],[2, 5, 11, -5.0],[0, 8, 7, -5.0],[0, 8, 9, -5.0],[0, 8, 11, -5.0],[0, 8, 13, -5.0],[0, 10, 7, -5.0],\n",
    "        [0, 10, 9, -5.0],[0, 10, 11, -5.0],[0, 10, 13, -5.0],[0, 12, 7, -5.0],[0, 12, 9, -5.0],[0, 12, 11, -5.0],[0, 12, 13, -5.0],]}\n",
    "\n",
    "drn_spd = {0: [[0, 7, 1, 0.0, 1.0e0],[0, 7, 2, 0.0, 1.0e0],[0, 7, 3, 10.0, 1.0e0],[0, 7, 4, 20.0, 1.0e0],[0, 7, 5, 30.0, 1.0e0],\n",
    "               [0, 7, 6, 50.0, 1.0e0],[0, 7, 7, 70.0, 1.0e0],[0, 7, 8, 90.0, 1.0e0],[0, 7, 9, 100.0, 1.0e0],]}   ; top, botm"
   ]
  },
  {
   "cell_type": "code",
   "execution_count": null,
   "id": "b976faf9-0ab5-477a-8c0b-8a1e6b1e39f9",
   "metadata": {},
   "outputs": [],
   "source": [
    "row = chd_spd  [0] ; sa1 = pd.DataFrame(row);  sa1.to_csv (output_folder / \"a_chd.csv\")      \n",
    "row = wel_spd  [0] ; sa2= pd.DataFrame(row) ;  sa2.to_csv (output_folder / \"b_wel_spd.csv\")  \n",
    "row = drn_spd  [0] ; sa3 = pd.DataFrame(row);  sa3.to_csv (output_folder / \"c_drn_spd.csv\")  \n",
    "image = plt.imread('_aux\\\\01_TWRI.png'); fig, ax = plt.subplots() ; ax.imshow(image) ; ax.axis('off') ; plt.show() \n",
    "top_list = [top]; top_list.extend([i+top for i in botm])   \n",
    "# sa1 = pd.DataFrame(top);   sa2 = pd.DataFrame(botm); frames = [sa1, sa2] ; rs = pd.concat(frames); rs.values.tolist() # see ex:02\n",
    "print('layers',top_list, '   ', '   ', 'chd',sa1.shape, 'wel',sa2.shape,'drn',sa3.shape)"
   ]
  },
  {
   "cell_type": "code",
   "execution_count": null,
   "id": "4d4f714a",
   "metadata": {},
   "outputs": [],
   "source": [
    "sim_ws = os.path.join(workspace, sim_name)\n",
    "sim    = flopy.mf6.MFSimulation(sim_name=sim_name, sim_ws=sim_ws, exe_name=exe_name)\n",
    "gwf    = flopy.mf6.ModflowGwf(sim, modelname=sim_name, save_flows=True)\n",
    "\n",
    "flopy.mf6.ModflowGwfdis  (gwf, length_units=length_units,          nlay=nlay,nrow=nrow,ncol=ncol,delr=delr,delc=delc,top=top,botm=botm)\n",
    "flopy.mf6.ModflowTdis    (sim, nper =nper, perioddata =tdis_ds, time_units =time_units)\n",
    "flopy.mf6.ModflowIms     (sim,outer_maximum=nouter,outer_dvclose=hclose,inner_maximum=ninner,inner_dvclose=hclose,rcloserecord=f\"{rclose} strict\")\n",
    "flopy.mf6.ModflowGwfnpf  (gwf,cvoptions=\"perched\",perched=True,icelltype=icelltype,k=k11,k33=k33,save_specific_discharge=True)  # Node P. Flow\n",
    "flopy.mf6.ModflowGwfic   (gwf, strt=strt)                         \n",
    "flopy.mf6.ModflowGwfchd  (gwf, stress_period_data=chd_spd)\n",
    "flopy.mf6.ModflowGwfdrn  (gwf, stress_period_data=drn_spd)\n",
    "flopy.mf6.ModflowGwfwel  (gwf, stress_period_data=wel_spd)\n",
    "flopy.mf6.ModflowGwfrcha (gwf, recharge=recharge)                 ; head_filerecord = f\"{sim_name}.hds\"   ;  budget_filerecord = f\"{sim_name}.cbc\"\n",
    "flopy.mf6.ModflowGwfoc   (gwf,head_filerecord=head_filerecord,budget_filerecord=budget_filerecord,saverecord=[(\"HEAD\", \"ALL\"), (\"BUDGET\", \"ALL\")])\n",
    "sim.write_simulation(silent=True)  ; sim.run_simulation(silent=True)"
   ]
  },
  {
   "cell_type": "code",
   "execution_count": null,
   "id": "c579a0eb-63dd-4cf7-a4fb-9e5f64f29cdd",
   "metadata": {},
   "outputs": [],
   "source": [
    "sim_ws=os.path.join(workspace,sim_name) ;gwf=sim.get_model(sim_name) ; hobj=gwf.output.head() ; head=hobj.get_data() ; cobj=gwf.output.budget()  \n",
    "print('heads=', head.shape); sv = head.reshape(head.shape[0],-1)     ; then=pd.DataFrame(sv)  ; then.to_csv (output_folder / 'd_H_3D.csv' )  "
   ]
  },
  {
   "cell_type": "code",
   "execution_count": null,
   "id": "1ee11c06-dfd0-4000-ac4a-1dbf67e8d654",
   "metadata": {},
   "outputs": [],
   "source": [
    "head2 = np.flip(head,1)"
   ]
  },
  {
   "cell_type": "markdown",
   "id": "68aa64fb-f4e2-446b-95f1-87ce7089bc7c",
   "metadata": {},
   "source": [
    "## **L = 0,1,2,3 layers**"
   ]
  },
  {
   "cell_type": "code",
   "execution_count": null,
   "id": "a44546ba-b213-43dc-be21-7dd747a46b65",
   "metadata": {},
   "outputs": [],
   "source": [
    "def annotate_axes(fig):\n",
    "    for i, ax in enumerate(fig.axes):\n",
    "        L = 0; ax1.contour( head2 [L,:,:]   ,levels=np.arange(L, np.percentile(sv[0],95),10)   , extent=gwf.modelgrid.extent)\n",
    "        L = 1; ax2.contour( head2 [L,:,:]   ,levels=np.arange(L, np.percentile(sv[0],95),10)   , extent=gwf.modelgrid.extent)\n",
    "        L = 2; ax3.contour( head2 [L,:,:]   ,levels=np.arange(L, np.percentile(sv[0],95),10)   , extent=gwf.modelgrid.extent)\n",
    "        L = 3; ax4.contour( head2 [L,:,:]   ,levels=np.arange(L, np.percentile(sv[0],95),10)   , extent=gwf.modelgrid.extent)\n",
    "        ax.tick_params(labelbottom=False, labelleft=False)\n",
    "fig = plt.figure(figsize=(10, 10),facecolor='lightblue')    \n",
    "ax1 = plt.subplot2grid((4, 4), (1, 0))        \n",
    "ax2 = plt.subplot2grid((4, 4), (1, 1))  \n",
    "ax3 = plt.subplot2grid((4, 4), (1, 2))  \n",
    "ax4 = plt.subplot2grid((4, 4), (1, 3))  ; annotate_axes(fig) ; plt.show()"
   ]
  },
  {
   "cell_type": "markdown",
   "id": "2ae00090-b82d-4f36-b8fb-3cdc23c1d796",
   "metadata": {},
   "source": [
    "## **L = 1,2,3,4**"
   ]
  },
  {
   "cell_type": "code",
   "execution_count": null,
   "id": "7fb3a5c3-04e8-4bae-a677-3210027ba505",
   "metadata": {},
   "outputs": [],
   "source": [
    "fig = plt.figure(figsize=(5, 5))\n",
    "L = 0; ax.contour( head2 [L,:,:]   ,levels=np.arange(L, np.percentile(sv[0],95),10)   , extent=gwf.modelgrid.extent)\n",
    "L = 0  ;     qx, qy, qz = flopy.utils.postprocessing.get_specific_discharge(cobj.get_data(text=\"DATA-SPDIS\", kstpkper=(0, 0))[0], gwf)\n",
    "fig = plt.figure(figsize=(5, 5))        \n",
    "mm = flopy.plot.PlotMapView(model=gwf, layer=L, extent=gwf.modelgrid.extent) ; cbv = mm.plot_array(head) ;  q = mm.plot_vector(qx, qy)  \n",
    "mm.plot_bc(\"WEL\", plotAll=True, color = 'grey' ) ; mm.plot_bc(\"CHD\", plotAll=True, color = 'orange' ); mm.plot_bc(\"DRN\", plotAll=True, color = 'red' )\n",
    "mm.plot_grid(lw=0.5, color=\"black\")  ; cb = plt.colorbar(cbv, ax=mm.ax, shrink=.8) "
   ]
  }
 ],
 "metadata": {
  "jupytext": {
   "cell_metadata_filter": "-all"
  },
  "kernelspec": {
   "display_name": "Python 3 (ipykernel)",
   "language": "python",
   "name": "python3"
  },
  "language_info": {
   "codemirror_mode": {
    "name": "ipython",
    "version": 3
   },
   "file_extension": ".py",
   "mimetype": "text/x-python",
   "name": "python",
   "nbconvert_exporter": "python",
   "pygments_lexer": "ipython3",
   "version": "3.12.7"
  }
 },
 "nbformat": 4,
 "nbformat_minor": 5
}
