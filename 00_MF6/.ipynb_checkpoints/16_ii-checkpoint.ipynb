{
 "cells": [
  {
   "cell_type": "markdown",
   "id": "d97e30e2",
   "metadata": {},
   "source": [
    "**16_MAW_i**"
   ]
  },
  {
   "cell_type": "code",
   "execution_count": 1,
   "id": "8fe5d6a3-0ed0-47f4-9e78-2002e15b5659",
   "metadata": {},
   "outputs": [],
   "source": [
    "import os ; import pathlib as pl ; import flopy ; import matplotlib.pyplot as plt ; import numpy as np; from pathlib import Path  \n",
    "from flopy.plot.styles import styles ; import shapefile as shp ; import matplotlib as mpl\n",
    "import pandas as pd ; from modflow_devtools.misc import get_env, timed ; write=get_env(\"WRITE\", True);run=get_env(\"RUN\", True)"
   ]
  },
  {
   "cell_type": "code",
   "execution_count": 2,
   "id": "e1116b8f-53f5-4dfe-b86f-1250c08f6b3d",
   "metadata": {},
   "outputs": [],
   "source": [
    "sim_ws         = Path(\"./16_MAW_i\")                        ; sim_ws.mkdir(exist_ok=True) ; sim_name = \"ex-gwf-maw-p01\"\n",
    "exe_name       = 'E:\\\\15_REPOS\\\\00_BETAMI\\\\bin\\\\mf6.exe' ; workspace = figs_path = sim_ws ; gwf_name = sim_name ; output_folder = sim_ws"
   ]
  },
  {
   "cell_type": "code",
   "execution_count": 3,
   "id": "a53eac1c-0024-464a-a3f0-1541cfb45096",
   "metadata": {},
   "outputs": [
    {
     "name": "stdout",
     "output_type": "stream",
     "text": [
      "maw_radius 0.15      [-142.9, -514.5] botm[-1] -514.5          [3.05, 9.14] strt[-1] (HEAD) 9.14\n"
     ]
    }
   ],
   "source": [
    "length_units = \"meters\" ; time_units = \"days\"            ; parameters = {\"ex-gwf-maw-p01a\": {\"rate\": 0.0,},\"ex-gwf-maw-p01b\": {\"rate\": -1767.0,}}\n",
    "nper = 1 ;nlay = 2 ;nrow = 101 ;ncol = 101 ;delr = 142   ; delc = 142 ;top = -50  ;botm_str = \"-142.9,-514.5\"  ;strt_str = \"3.05,9.14\" \n",
    "k11 = 1 ;k33 = 0.0000000000000001 ;ss = 0.0001 ;maw_radius = 0.15 ;nouter = 500 ;ninner = 100 ;hclose = 0.000000001 ;rclose = 0.0001 ;\n",
    "botm = [float(value) for value in botm_str.split(\",\")]   ; strt = [float(value) for value in strt_str.split(\",\")]\n",
    "tdis_ds = ((2.314815, 50, 1.2))\n",
    "extents = (0.0, delr * ncol, 0.0, delc * nrow)           ; shape2d = (nrow, ncol)   ; shape3d = (nlay, nrow, ncol)\n",
    "idomain = np.ones(shape3d, dtype=float)                  ; xw, yw = (ncol / 2) * delr, (nrow / 2) * delc   ; y = 0.0\n",
    "for i in range(nrow):\n",
    "    x = 0.0   ; y = (float(i) + 0.5) * delc\n",
    "    for j in range(ncol):\n",
    "        x = (float(j) + 0.5) * delr     ; r = np.sqrt((x - xw) ** 2.0 + (y - yw) ** 2.0)\n",
    "        if r > 7163.0:\n",
    "            idomain[:, i, j] = 0\n",
    "maw_packagedata = [[0, maw_radius, botm[-1], strt[-1], \"THIEM\", 2]]  ; maw_row = int(nrow / 2)     ; maw_col = int(ncol / 2) \n",
    "maw_conn = [[0, 0, 0, maw_row, maw_col, top, botm[-1], -999.0, -999.0],[0, 1, 1, maw_row, maw_col, top, botm[-1], -999.0, -999.0]]\n",
    "print ('maw_radius' , 0.15, '    ', botm,'botm[-1]', botm[-1], '        ', strt, 'strt[-1] (HEAD)', strt[-1]) "
   ]
  },
  {
   "cell_type": "code",
   "execution_count": 4,
   "id": "81754430-fcaa-4075-b219-e6cc162fc05e",
   "metadata": {},
   "outputs": [],
   "source": [
    "np.savetxt(output_folder / \"a1_maw_packagedata.csv\", maw_packagedata, fmt =\"%s\", delimiter=\",\") \n",
    "np.savetxt(output_folder / \"a2_maw_conn.csv\", maw_conn, delimiter=\",\") \n",
    "sa = pd.DataFrame(idomain[0,:,:]) ; sa.to_csv (output_folder / \"c1_idomain.csv\") \n",
    "obs_dict=[(\"head\" ,\"head\" ,(0 ,))                 ,(\"Q1\" ,\"maw\" ,(0 ,) ,(0 ,)) ,(\"Q2\" ,\"maw\" ,(0 ,) ,(1 ,))]\n",
    "ab=pd.DataFrame(obs_dict) ; ab.to_csv(output_folder/\"b2_obs_dict.csv\")  "
   ]
  },
  {
   "cell_type": "code",
   "execution_count": 5,
   "id": "0522be16-1931-484e-9d9c-dab8d5558abf",
   "metadata": {},
   "outputs": [
    {
     "name": "stdout",
     "output_type": "stream",
     "text": [
      "<flopy.mf6.data.mfstructure.MFDataItemStructure object at 0x0000026CEAE10E60>\n",
      "run_models took 1184.91 ms\n",
      "<flopy.mf6.data.mfstructure.MFDataItemStructure object at 0x0000026CEAE10E60>\n",
      "run_models took 1204.17 ms\n"
     ]
    }
   ],
   "source": [
    "def build_models(name ,rate=0.0):\n",
    "    obs_file=f\"{sim_name}.maw.obs\"  ; csv_file=obs_file+\".csv\"  \n",
    "    obs_dict={csv_file:[(\"head\" ,\"head\" ,(0 ,)) ,(\"Q1\" ,\"maw\" ,(0 ,) ,(0 ,)) ,(\"Q2\" ,\"maw\" ,(0 ,) ,(1 ,))]}\n",
    "    maw_spd=[[0 ,\"rate\" ,rate]]\n",
    "    \n",
    "    sim_ws=os.path.join (workspace ,name)\n",
    "    sim=flopy.mf6.MFSimulation    (sim_name=sim_name ,sim_ws=sim_ws ,exe_name=\"mf6\")\n",
    "    flopy.mf6.ModflowTdis   (sim ,nper=nper ,perioddata=tdis_ds ,time_units=time_units)\n",
    "    flopy.mf6.ModflowIms    (sim ,print_option=\"summary\" ,outer_maximum=nouter ,outer_dvclose=hclose ,inner_maximum=ninner ,inner_dvclose=hclose ,\n",
    "                             rcloserecord=f\"{rclose}strict\")\n",
    "    gwf=flopy.mf6.ModflowGwf       (sim ,modelname=sim_name ,save_flows=True)\n",
    "    flopy.mf6.ModflowGwfdis (gwf ,length_units=length_units ,nlay=nlay ,nrow=nrow ,ncol=ncol ,delr=delr ,delc=delc ,top=top ,botm=botm ,idomain=idomain)\n",
    "    flopy.mf6.ModflowGwfnpf (gwf ,icelltype=0 ,k=k11 ,k33=k33 ,save_specific_discharge=True)\n",
    "    flopy.mf6.ModflowGwfsto (gwf ,iconvert=0 ,ss=ss)\n",
    "    flopy.mf6.ModflowGwfic  (gwf ,strt=strt)\n",
    "    maw=flopy.mf6.ModflowGwfmaw (gwf ,no_well_storage=True ,nmawwells=1 ,packagedata=maw_packagedata ,connectiondata=maw_conn ,perioddata=maw_spd)\n",
    "    maw.obs.initialize          (filename=obs_file ,digits=10 ,print_input=True ,continuous=obs_dict)\n",
    "    flopy.mf6.ModflowGwfoc      (gwf ,printrecord=[(\"BUDGET\" ,\"LAST\")])\n",
    "    return sim\n",
    "def write_models(sim, silent=True):\n",
    "    sim.write_simulation(silent=silent)\n",
    "@timed\n",
    "def run_models(sim, silent=True):\n",
    "    success, buff = sim.run_simulation(silent=silent)  ;     assert success, buff\n",
    "def scenario(idx=0, silent=True):\n",
    "    key = list(parameters.keys())[idx]   ; params = parameters[key].copy()  ; sim = build_models(key, **params)\n",
    "    if write:  write_models(sim, silent=silent)\n",
    "    if run:   run_models(sim, silent=silent)\n",
    "scenario(0) ; scenario(1)"
   ]
  },
  {
   "cell_type": "code",
   "execution_count": 6,
   "id": "1cf9b1c0-ee7d-4542-9487-dcfff305d44c",
   "metadata": {},
   "outputs": [],
   "source": [
    "name = list(parameters.keys())[0]   ; pathh = os.path.join(workspace, name, f\"{sim_name}.maw.obs.csv\")   ; maw0 = flopy.utils.Mf6Obs(pathh).data\n",
    "name = list(parameters.keys())[1]   ; pathh = os.path.join(workspace, name, f\"{sim_name}.maw.obs.csv\")   ; maw1 = flopy.utils.Mf6Obs(pathh).data"
   ]
  },
  {
   "cell_type": "code",
   "execution_count": 7,
   "id": "61d146d5-fba0-4fc1-b1e0-9f87c017960a",
   "metadata": {},
   "outputs": [],
   "source": [
    "sa0 = pd.DataFrame(maw0) ; sa0.columns=['totim', 'Head_a' , 'Q1_a_upper' , 'Q2_a_lower']  ; sa0['totim'] = sa0['totim'] * 24\n",
    "sa1=pd.DataFrame(maw1) ;sa1 = sa1.drop(sa1.columns[[0]],axis=1) ; sa1.columns=['Head_b'          , 'Q1_b_upper_pump', 'Q2_b_lowerpump']  \n",
    "df = pd.concat([sa0[:], sa1[:]], axis=1); df.set_index('totim', inplace=True, drop=True); df.drop(['Head_a', 'Head_b'], axis=1, inplace=True) "
   ]
  },
  {
   "cell_type": "code",
   "execution_count": 8,
   "id": "b27a5372-4838-426a-a93a-1fcbf63d8b75",
   "metadata": {},
   "outputs": [
    {
     "data": {
      "text/html": [
       "<div>\n",
       "<style scoped>\n",
       "    .dataframe tbody tr th:only-of-type {\n",
       "        vertical-align: middle;\n",
       "    }\n",
       "\n",
       "    .dataframe tbody tr th {\n",
       "        vertical-align: top;\n",
       "    }\n",
       "\n",
       "    .dataframe thead th {\n",
       "        text-align: right;\n",
       "    }\n",
       "</style>\n",
       "<table border=\"1\" class=\"dataframe\">\n",
       "  <thead>\n",
       "    <tr style=\"text-align: right;\">\n",
       "      <th></th>\n",
       "      <th>Q1_a_upper</th>\n",
       "      <th>Q2_a_lower</th>\n",
       "      <th>Q1_b_upper_pump</th>\n",
       "      <th>Q2_b_lowerpump</th>\n",
       "    </tr>\n",
       "    <tr>\n",
       "      <th>totim</th>\n",
       "      <th></th>\n",
       "      <th></th>\n",
       "      <th></th>\n",
       "      <th></th>\n",
       "    </tr>\n",
       "  </thead>\n",
       "  <tbody>\n",
       "    <tr>\n",
       "      <th>26.788679</th>\n",
       "      <td>-414.006995</td>\n",
       "      <td>414.006995</td>\n",
       "      <td>-60.606995</td>\n",
       "      <td>1827.606995</td>\n",
       "    </tr>\n",
       "    <tr>\n",
       "      <th>32.147636</th>\n",
       "      <td>-406.781389</td>\n",
       "      <td>406.781389</td>\n",
       "      <td>-53.381389</td>\n",
       "      <td>1820.381389</td>\n",
       "    </tr>\n",
       "    <tr>\n",
       "      <th>38.578384</th>\n",
       "      <td>-400.119609</td>\n",
       "      <td>400.119609</td>\n",
       "      <td>-46.719609</td>\n",
       "      <td>1813.719609</td>\n",
       "    </tr>\n",
       "    <tr>\n",
       "      <th>46.295282</th>\n",
       "      <td>-393.980092</td>\n",
       "      <td>393.980092</td>\n",
       "      <td>-40.580092</td>\n",
       "      <td>1807.580092</td>\n",
       "    </tr>\n",
       "    <tr>\n",
       "      <th>55.555560</th>\n",
       "      <td>-388.293667</td>\n",
       "      <td>388.293667</td>\n",
       "      <td>-34.893667</td>\n",
       "      <td>1801.893667</td>\n",
       "    </tr>\n",
       "  </tbody>\n",
       "</table>\n",
       "</div>"
      ],
      "text/plain": [
       "           Q1_a_upper  Q2_a_lower  Q1_b_upper_pump  Q2_b_lowerpump\n",
       "totim                                                             \n",
       "26.788679 -414.006995  414.006995       -60.606995     1827.606995\n",
       "32.147636 -406.781389  406.781389       -53.381389     1820.381389\n",
       "38.578384 -400.119609  400.119609       -46.719609     1813.719609\n",
       "46.295282 -393.980092  393.980092       -40.580092     1807.580092\n",
       "55.555560 -388.293667  388.293667       -34.893667     1801.893667"
      ]
     },
     "execution_count": 8,
     "metadata": {},
     "output_type": "execute_result"
    },
    {
     "data": {
      "image/png": "[encoded data removed]",
      "text/plain": [
       "<Figure size 1000x300 with 2 Axes>"
      ]
     },
     "metadata": {},
     "output_type": "display_data"
    }
   ],
   "source": [
    "ax = df.plot(y= list(df) , kind=\"line\", rot=30, figsize=(10,3),\n",
    "             color=['blue','blue','red','red'], style=['-', '--','-', '--'],\n",
    "             secondary_y=['Q1_b_upper_pump', 'Q2_b_lowerpump'],  logx=True) \n",
    "ax.yaxis.label.set_color('blue')       ; ax.spines['right'].set_linewidth(3)    ; ax.spines['right'].set_color('red')  \n",
    "ax.grid('on', which='minor', axis='x') ; ax.set_xlabel(\"Simulation time (h)\") ; ax.set_ylabel(\"Discharge rate, in cubic m/d\"); plt.grid(); df.tail()"
   ]
  },
  {
   "cell_type": "code",
   "execution_count": 9,
   "id": "1fd5d545-edfd-4c54-b0a2-7fb14fc2c516",
   "metadata": {},
   "outputs": [],
   "source": [
    "name  = list(parameters.keys())[0]              ; sim_ws = os.path.join(workspace ,name)       \n",
    "sim=flopy.mf6.MFSimulation.load(sim_name=sim_name,sim_ws=sim_ws ,verbosity_level=0) ; gwf = sim.get_model(sim_name); extents = gwf.modelgrid.extent"
   ]
  },
  {
   "cell_type": "code",
   "execution_count": 10,
   "id": "b8194a50-e901-4d45-a8f4-74c9e8dc606d",
   "metadata": {},
   "outputs": [
    {
     "name": "stdout",
     "output_type": "stream",
     "text": [
      "just idomain\n"
     ]
    },
    {
     "data": {
      "text/plain": [
       "[<matplotlib.axis.YTick at 0x26ceb057da0>,\n",
       " <matplotlib.axis.YTick at 0x26ceb054770>,\n",
       " <matplotlib.axis.YTick at 0x26ceaf45a30>]"
      ]
     },
     "execution_count": 10,
     "metadata": {},
     "output_type": "execute_result"
    },
    {
     "data": {
      "image/png": "[encoded data removed]",
      "text/plain": [
       "<Figure size 400x400 with 1 Axes>"
      ]
     },
     "metadata": {},
     "output_type": "display_data"
    }
   ],
   "source": [
    "print('just idomain') ; fig = plt.figure(figsize = (4,4) ,tight_layout=True)            ; axes=[fig.add_subplot(10 ,1 ,(1 ,8))] ; ax=axes[0]  \n",
    "mm = flopy.plot.PlotMapView(gwf ,ax=ax  ,extent  = extents)                             ; mm.plot_bc(\"MAW\" ,color=\"blue\")\n",
    "mm.plot_inactive(color_noflow=\"silver\") ; ax.set_xticks([0 ,extents[1]/2 ,extents[1]])  ; ax.set_yticks([0 ,extents[1]/2 ,extents[1]])"
   ]
  },
  {
   "cell_type": "code",
   "execution_count": 11,
   "id": "a25d9a26-4eb7-4e56-bd15-0f747d5b5d3c",
   "metadata": {},
   "outputs": [
    {
     "data": {
      "text/plain": [
       "<function matplotlib.pyplot.show(close=None, block=None)>"
      ]
     },
     "execution_count": 11,
     "metadata": {},
     "output_type": "execute_result"
    },
    {
     "data": {
      "image/png": "[encoded data removed]",
      "text/plain": [
       "<Figure size 1050x150 with 1 Axes>"
      ]
     },
     "metadata": {},
     "output_type": "display_data"
    }
   ],
   "source": [
    "fig, ax = plt.subplots(1, 1, figsize=(7, 1), dpi=150, tight_layout=True)             ; mn = flopy.plot.PlotCrossSection(gwf, ax=ax, line={\"row\": 8})\n",
    "mn.plot_ibound(color_noflow=\"yellow\", head=1) ; mn.plot_grid(lw=0.5, color=\"black\")  ; plt.show"
   ]
  },
  {
   "cell_type": "code",
   "execution_count": 12,
   "id": "3c0cccfc-1209-4db6-8c38-f76d97779a6c",
   "metadata": {},
   "outputs": [
    {
     "name": "stdout",
     "output_type": "stream",
     "text": [
      "OC package_Flow  :  ['list()', 'zonebudget()', 'budget()', 'budgetcsv()', 'head()']\n"
     ]
    }
   ],
   "source": [
    "print(\"OC package_Flow  : \", gwf.oc.output.methods())"
   ]
  },
  {
   "cell_type": "code",
   "execution_count": 13,
   "id": "07134578-c5e8-4a63-b283-cc04068fb3b6",
   "metadata": {},
   "outputs": [
    {
     "name": "stdout",
     "output_type": "stream",
     "text": [
      "None None\n"
     ]
    }
   ],
   "source": [
    "hobj=gwf.output.head() ; cobj=gwf.output.budget()  ; print(hobj, cobj) # ? #;  head=hobj.get_data()    # ? head ?"
   ]
  },
  {
   "cell_type": "code",
   "execution_count": 25,
   "id": "c3f9b921-a072-42a2-9117-4575c2e098cf",
   "metadata": {},
   "outputs": [
    {
     "data": {
      "text/plain": [
       "[(1, 2, 1.0), (365.0, 730, 1.0)]"
      ]
     },
     "execution_count": 25,
     "metadata": {},
     "output_type": "execute_result"
    }
   ],
   "source": [
    "perlen = [1, 365.0]  ;nper = len(perlen)  ; nstp = [2, 730]  ; tsmult = [1.0, 1.0]  ; \n",
    "tdis_1 = []\n",
    "for i in range(nper):  \n",
    "    tdis_1.append((perlen[i], nstp[i], tsmult[i]))\n",
    "tdis_1"
   ]
  },
  {
   "cell_type": "code",
   "execution_count": 27,
   "id": "4d659e01-c168-406a-a7c8-5473decd8ef3",
   "metadata": {},
   "outputs": [
    {
     "name": "stdout",
     "output_type": "stream",
     "text": [
      "tdis_ds_true ((2.314815, 50, 1.2),)\n"
     ]
    }
   ],
   "source": [
    "print('tdis_ds_true',tdis_ds)"
   ]
  },
  {
   "cell_type": "code",
   "execution_count": 29,
   "id": "d2d1cc6f-58a1-47e6-b87f-c7fa92535ca2",
   "metadata": {},
   "outputs": [
    {
     "data": {
      "text/plain": [
       "[(2.314815, 50, 1.2)]"
      ]
     },
     "execution_count": 29,
     "metadata": {},
     "output_type": "execute_result"
    }
   ],
   "source": [
    "perlen = [2.314815]  ;nper = len(perlen)  ; nstp = [50]  ; tsmult = [1.2]   \n",
    "tdis_2 = []\n",
    "for i in range(nper):  \n",
    "    tdis_2.append((perlen[i], nstp[i], tsmult[i]))\n",
    "tdis_2"
   ]
  },
  {
   "cell_type": "code",
   "execution_count": null,
   "id": "2a8ab4ff-0372-4f3d-9a5b-95991c7b5c28",
   "metadata": {},
   "outputs": [],
   "source": []
  }
 ],
 "metadata": {
  "jupytext": {
   "cell_metadata_filter": "-all"
  },
  "kernelspec": {
   "display_name": "Python 3 (ipykernel)",
   "language": "python",
   "name": "python3"
  },
  "language_info": {
   "codemirror_mode": {
    "name": "ipython",
    "version": 3
   },
   "file_extension": ".py",
   "mimetype": "text/x-python",
   "name": "python",
   "nbconvert_exporter": "python",
   "pygments_lexer": "ipython3",
   "version": "3.12.7"
  }
 },
 "nbformat": 4,
 "nbformat_minor": 5
}
