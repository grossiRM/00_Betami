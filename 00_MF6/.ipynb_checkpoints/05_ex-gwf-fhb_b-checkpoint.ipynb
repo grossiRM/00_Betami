{
 "cells": [
  {
   "cell_type": "code",
   "execution_count": null,
   "id": "8f423b84-5965-4b2f-8376-c57754b033fe",
   "metadata": {},
   "outputs": [],
   "source": [
    "import os; import pathlib as pl ; import flopy ; import git ; import matplotlib.pyplot as plt ; import pandas as pd \n",
    "import numpy as np ; from flopy.plot.styles import styles  ; from modflow_devtools.misc import get_env, timed ; from pathlib import Path\n",
    "import matplotlib as mpl; import csv; from shapely.geometry import Polygon; from flopy.utils.gridintersect import GridIntersect"
   ]
  },
  {
   "cell_type": "code",
   "execution_count": null,
   "id": "1be22d73-5db6-4b41-9933-a48b3bad0e97",
   "metadata": {},
   "outputs": [],
   "source": [
    "sim_name = \"ex-gwf-fhb\" ; output_folder = Path(\"./05_ex-gwf-fhb\") ; output_folder.mkdir(exist_ok=True) \n",
    "parameter_units = {\"recharge\": \"$ft/s$\"}  ; length_units = \"feet\"  ; time_units = \"seconds\" \n",
    "exe_name = 'E:\\\\15_REPOS\\\\00_BETAMI\\\\bin\\\\mf6.exe' ; workspace = output_folder  ; figs_path = output_folder ;gwf_name = sim_name \n",
    "output_folder2 = output_folder/sim_name"
   ]
  },
  {
   "cell_type": "code",
   "execution_count": null,
   "id": "b9a28d14",
   "metadata": {},
   "outputs": [],
   "source": [
    "length_units = \"meters\" ; nper = 3 ;  nlay = 1 ;  ncol = 10 ;  nrow = 3 ;  delr = 1000 ;  delc = 1000 ;  top = 50 ;  \n",
    "time_units = \"days\" ; botm_str = \"-200.0\" ;  strt = 0 ;  icelltype_str = \"0\" ;  k11_str = \"20.0\" ;  ss = 0.01 ;  \n",
    "perlen = [400.0,200.0,400.0] ;  nstp = [10,4,6] ;  tsmult = [1.0,1.0,1.0] ;  tdis_ds = list(zip(perlen,nstp,tsmult)) ;  \n",
    "nouter = 50 ;  ninner = 100 ;  hclose = 0.000000001 ;  rclose = 0.000001 ;  \n",
    "botm = [float(value) for value in botm_str.split(\",\")]\n",
    "k11 = [float(value) for value in k11_str.split(\",\")]\n",
    "icelltype = [int(value) for value in icelltype_str.split(\",\")]"
   ]
  },
  {
   "cell_type": "code",
   "execution_count": null,
   "id": "45316e9d-caeb-4dc3-bb5e-f0523a69a4a0",
   "metadata": {},
   "outputs": [],
   "source": [
    "print('tdis_ds    ',tdis_ds)"
   ]
  },
  {
   "cell_type": "raw",
   "id": "1593b714-c632-4971-a66b-f7db2fbb70d4",
   "metadata": {},
   "source": [
    "tdis_rc = []\n",
    "for i in range(nper):\n",
    "    tdis_rc.append((perlen[i], nstp[i], tsmult[i]))\n",
    "tdis_rc  ; tdis_ds = tdis_rc"
   ]
  },
  {
   "cell_type": "code",
   "execution_count": null,
   "id": "214c398a",
   "metadata": {},
   "outputs": [],
   "source": [
    "sim_ws = os.path.join(workspace, sim_name)\n",
    "sim = flopy.mf6.MFSimulation(sim_name=sim_name, sim_ws=sim_ws, exe_name=\"mf6\")\n",
    "flopy.mf6.ModflowTdis(sim, nper=nper, perioddata=tdis_ds, time_units=time_units)\n",
    "flopy.mf6.ModflowIms(sim,outer_maximum=nouter,outer_dvclose=hclose,inner_maximum=ninner,inner_dvclose=hclose,rcloserecord=f\"{rclose} strict\")\n",
    "gwf = flopy.mf6.ModflowGwf(sim, modelname=sim_name, save_flows=True)\n",
    "flopy.mf6.ModflowGwfdis(gwf,length_units=length_units,nlay=nlay,nrow=nrow,ncol=ncol,delr=delr,delc=delc,top=top,botm=botm)\n",
    "flopy.mf6.ModflowGwfnpf(gwf,icelltype=icelltype,k=k11,save_specific_discharge=True,)\n",
    "flopy.mf6.ModflowGwfic(gwf,strt=strt)\n",
    "flopy.mf6.ModflowGwfsto(gwf,storagecoefficient=True,iconvert=0,ss=1.0e-6,sy=None,transient={0:True},)\n",
    "\n",
    "chd_spd=[] ; chd_spd+=[[0,i,9,\"CHDHEAD\"]for i in range(3)] ; chd_spd={0:chd_spd}  \n",
    "tsdata=[(0.0,0.0),(307.0,1.0),(791.0,5.0),(1000.0,2.0)]\n",
    "tsdict={\"timeseries\":tsdata,\"time_series_namerecord\":\"CHDHEAD\",\"interpolation_methodrecord\":\"LINEAREND\"}  \n",
    "flopy.mf6.ModflowGwfchd(gwf,stress_period_data=chd_spd,timeseries=tsdict,pname=\"CHD\",)                    ; tsdataCHD= tsdata\n",
    "\n",
    "wel_spd=[] ; wel_spd+=[[0,1,0,\"FLOWRATE\"]] ; wel_spd={0:wel_spd}\n",
    "tsdata=[(0.0,2000.0),(307.0,6000.0),(791.0,5000.0),(1000.0,9000.0)]\n",
    "tsdict={\"timeseries\":tsdata,\"time_series_namerecord\":\"FLOWRATE\",\"interpolation_methodrecord\":\"LINEAREND\"}\n",
    "flopy.mf6.ModflowGwfwel(gwf,stress_period_data=wel_spd,timeseries=tsdict,pname=\"WEL\")                     ; tsdataWel= tsdata\n",
    "\n",
    "head_filerecord=f\"{sim_name}.hds\" ; budget_filerecord=f\"{sim_name}.cbc\" ; \n",
    "\n",
    "#flopy.mf6.ModflowGwfoc(gwf,head_filerecord=head_filerecord,budget_filerecord=budget_filerecord,saverecord=[(\"HEAD\",\"ALL\"),(\"BUDGET\",\"ALL\")])\n",
    "flopy.mf6.ModflowGwfoc   (gwf,head_filerecord=f\"{sim_name}.hds\",budget_filerecord=f\"{sim_name}.bud\",\n",
    "                          headprintrecord=[(\"COLUMNS\", 10, \"WIDTH\", 15, \"DIGITS\", 6, \"GENERAL\")],\n",
    "                            saverecord=[(\"HEAD\", \"ALL\"), (\"BUDGET\", \"ALL\")],printrecord=[(\"HEAD\", \"ALL\"), (\"BUDGET\", \"ALL\")])   \n",
    "\n",
    "obsdict={} ; obslist=[[\"h1_2_1\",\"head\",(0,1,0)],[\"h1_2_10\",\"head\",(0,1,9)]]   ; obsdict[f\"{sim_name}.obs.head.csv\"]=obslist\n",
    "obslist=[[\"icf1\",\"flow-ja-face\",(0,1,1),(0,1,0)]]                             ; obsdict[f\"{sim_name}.obs.flow.csv\"]=obslist  \n",
    "\n",
    "obs=flopy.mf6.ModflowUtlobs(gwf,print_input=False,continuous=obsdict)\n",
    "sim.write_simulation(silent=True)  ; sim.run_simulation(silent=True)  "
   ]
  },
  {
   "cell_type": "code",
   "execution_count": null,
   "id": "05b12432",
   "metadata": {
    "lines_to_end_of_cell_marker": 2
   },
   "outputs": [],
   "source": [
    "fig = plt.figure(figsize=(4, 3.0)) ; fig.tight_layout()   ; ax = fig.add_subplot(1, 1, 1, aspect=\"equal\")\n",
    "pmv = flopy.plot.PlotMapView(model=gwf, ax=ax, layer=0)   ; pmv.plot_grid()      ; pmv.plot_bc(name=\"CHD\",color=\"blue\") ; pmv.plot_bc(name=\"WEL\") \n",
    "ax.set_xlabel(\"x (m)\") ; ax.set_ylabel(\"y (m)\") ; plt.show()"
   ]
  },
  {
   "cell_type": "code",
   "execution_count": null,
   "id": "616f200b-9456-4884-878b-b4303d903224",
   "metadata": {},
   "outputs": [],
   "source": [
    "obsnames = gwf.obs.output.obs_names    # ; obs_list = [gwf.obs.output.obs(f=obsnames[0]),    gwf.obs.output.obs(f=obsnames[1])]\n",
    "print('obsnames:  ', obsnames)"
   ]
  },
  {
   "cell_type": "code",
   "execution_count": null,
   "id": "f615e35f-2471-46a6-bb8f-6640e3c63404",
   "metadata": {},
   "outputs": [],
   "source": [
    "tsdata1  = gwf.obs.output.obs(f=obsnames[0])  ; ts1 = tsdata1.data ; ts1na = ts1.dtype.names[1:] ; print('ts.names_   ts1:',ts1na) \n",
    "tsdata2  = gwf.obs.output.obs(f=obsnames[1])  ; ts2 = tsdata2.data ; ts2na = ts2.dtype.names[1:] ; print('ts.names_   ts2:',ts2na) "
   ]
  },
  {
   "cell_type": "code",
   "execution_count": null,
   "id": "ec1d123a-cb84-4032-8aaf-5aa5b78f69cd",
   "metadata": {},
   "outputs": [],
   "source": [
    "df = pd.DataFrame(ts1); ax = df.plot(x=\"totim\", y= list(ts1na) , kind=\"line\", rot=0, figsize=(10,2)); \n",
    "ax.legend(bbox_to_anchor=(1.0, 1.0)); ax.set(xlabel=\"time (days)\", ylabel=\"head (m)\"); plt.show()"
   ]
  },
  {
   "cell_type": "code",
   "execution_count": null,
   "id": "cc04215d-b7bd-4efb-815a-223d6b8b9057",
   "metadata": {},
   "outputs": [],
   "source": [
    "df = pd.DataFrame(ts2); ax = df.plot(x=\"totim\", y= list(ts2na) , kind=\"line\",marker = 'o', rot=0, figsize=(10,2)); \n",
    "ax.legend(bbox_to_anchor=(1.0, 1.0)); ax.set(xlabel=\"time (days)\", ylabel=\"flow ($m^3/d$)\"); plt.show()\n",
    "np.savetxt(output_folder / \"a_.csv\", df, delimiter=\",\")"
   ]
  },
  {
   "cell_type": "code",
   "execution_count": null,
   "id": "55690d54-6d66-4e23-9201-9423bf91fae6",
   "metadata": {},
   "outputs": [],
   "source": [
    "fname = os.path.join (output_folder2/ f\"{sim_name}.hds\")    \n",
    "hdobj = flopy.utils.HeadFile(fname); headsA=hdobj.get_data() ; headsB=headsA[0,:,:] ;tn=pd.DataFrame(headsB) ;tn.to_csv(output_folder/\"c_H_2d.csv\")\n",
    "print(headsA.shape) "
   ]
  },
  {
   "cell_type": "code",
   "execution_count": null,
   "id": "659648cb-fe46-4c2d-9f4b-58fa6d07d11d",
   "metadata": {},
   "outputs": [],
   "source": [
    "hobj = gwf.output.head()    ; hds = hobj.get_data()                      ; print('H (2000d) = ', hds      .shape)\n",
    "cobj = gwf.output.budget()  ; spd = cobj.get_data(text=\"DATA-SPDIS\")[0]  ; print('Q (2000d) = ', spd      .shape) "
   ]
  },
  {
   "cell_type": "code",
   "execution_count": null,
   "id": "a37046e0-46d4-4dbf-92a6-25a8ea366bdd",
   "metadata": {},
   "outputs": [],
   "source": [
    "mm = flopy.plot.PlotMapView(model=gwf, layer=0, extent=gwf.modelgrid.extent) ; \n",
    "cbv = mm.plot_array(hds); q = mm.plot_vector(spd[\"qx\"], spd[\"qy\"]) ;  cb = plt.colorbar(cbv, ax=mm.ax, shrink=.3)\n",
    "mm.plot_grid()      ; mm.plot_bc(name=\"CHD\",color=\"blue\" )     ; mm.plot_bc(name=\"WEL\")"
   ]
  },
  {
   "cell_type": "markdown",
   "id": "a30ef716-a18b-4c38-aa31-a35ce13849d9",
   "metadata": {},
   "source": [
    "## **x,y = distancies (m)**"
   ]
  },
  {
   "cell_type": "code",
   "execution_count": null,
   "id": "848fbaf4-4041-4e16-b9cf-77f342c62314",
   "metadata": {},
   "outputs": [],
   "source": [
    "sv = hds.reshape(hds.shape[0],-1)  ; then=pd.DataFrame(sv)  ; then.to_csv (output_folder / 'b_H_xy.csv' )  ; print('sv_HDS   ', sv.shape)\n",
    "sv_2D = hds.reshape(ncol , nrow)  ; print('sv_HDS_2D', sv.shape)"
   ]
  },
  {
   "cell_type": "code",
   "execution_count": null,
   "id": "b8129ba6-8cb5-4d10-8024-4c32a087cae8",
   "metadata": {},
   "outputs": [],
   "source": [
    "fig = plt.figure(figsize=(6, 6)) ; ax = fig.add_subplot(1, 1, 1, aspect=\"equal\"); ll=90\n",
    "ax.contour(hds[0,:,:],  levels=np.arange(0,   np.percentile(sv,99.9)    ,0.25) ,  extent = gwf.modelgrid.extent) ; plt.show()"
   ]
  },
  {
   "cell_type": "markdown",
   "id": "15a8e038-f2f9-4949-9c27-0c5f883cade1",
   "metadata": {},
   "source": [
    "## **x,y = distancies (m)**"
   ]
  },
  {
   "cell_type": "code",
   "execution_count": null,
   "id": "51d6c64d-e2ab-49cd-bb8c-55d0aa322d65",
   "metadata": {},
   "outputs": [],
   "source": [
    "perlen = [400.0,200.0,400.0] ;  nstp = [10,4,6] ;  tsmult = [1.0,1.0,1.0] ;  tdis_ds = list(zip(perlen,nstp,tsmult)) \n",
    "print('tdis_ds    ',tdis_ds) ; print('sum(perlen)', np.sum(perlen))\n",
    "#a1=list(map(lambda x: perlen[x],[0])); a2=list(map(lambda x: nstp[x],[0])); a3=list(map(lambda x: tsmult[x],[0])) ; a1, a2, a3\n",
    "#list(map(lambda x:  tdis_ds[x],[0]))  "
   ]
  },
  {
   "cell_type": "code",
   "execution_count": null,
   "id": "8c622252-8503-44e1-bb28-48c36db5f2de",
   "metadata": {},
   "outputs": [],
   "source": [
    "b1=np.linspace(0,400,num=10,endpoint=True) ;b2=np.linspace(400,600,num=4,endpoint=True) ; b3=np.linspace(600,1000,num=6,endpoint=True); b1,b2,b3\n",
    "np.savetxt(output_folder / \"d_timprs.csv\", np.concatenate((b1, b2, b3)), delimiter=\",\")"
   ]
  },
  {
   "cell_type": "markdown",
   "id": "abc37e5a-b605-4af3-a7ba-918b13b21f00",
   "metadata": {},
   "source": [
    "**starts at 40, why?**"
   ]
  },
  {
   "cell_type": "code",
   "execution_count": null,
   "id": "39fd0b95-ce8a-4580-a943-a056466c036a",
   "metadata": {},
   "outputs": [],
   "source": [
    "times = hobj.get_times()    ;  print('bj = gwf.output.head() ... times', times)\n",
    "np.savetxt(output_folder / \"e_times.csv\", times, delimiter=\",\")"
   ]
  },
  {
   "cell_type": "markdown",
   "id": "f4b44a63-07ff-445b-9c67-3891c21f154b",
   "metadata": {},
   "source": [
    "**Where are the times here ? ... , already identifield at df = pd.DataFrame(ts2) ...**"
   ]
  },
  {
   "cell_type": "code",
   "execution_count": null,
   "id": "6156eb34-f025-47df-b4a5-355d0bd35882",
   "metadata": {},
   "outputs": [],
   "source": [
    "print('tsdataCHD', tsdataCHD) ; print('');  print('tsdataWel', tsdataWel)\n",
    "\n",
    "np.savetxt(output_folder / \"f_tsdataCHD.csv\", tsdataCHD, delimiter=\",\")\n",
    "np.savetxt(output_folder / \"g_tsdataWel.csv\", tsdataWel, delimiter=\",\")"
   ]
  },
  {
   "cell_type": "code",
   "execution_count": null,
   "id": "ac55d29e-c75c-4533-bd15-8252618bf066",
   "metadata": {},
   "outputs": [],
   "source": []
  }
 ],
 "metadata": {
  "jupytext": {
   "cell_metadata_filter": "-all"
  },
  "kernelspec": {
   "display_name": "Python 3 (ipykernel)",
   "language": "python",
   "name": "python3"
  },
  "language_info": {
   "codemirror_mode": {
    "name": "ipython",
    "version": 3
   },
   "file_extension": ".py",
   "mimetype": "text/x-python",
   "name": "python",
   "nbconvert_exporter": "python",
   "pygments_lexer": "ipython3",
   "version": "3.12.7"
  }
 },
 "nbformat": 4,
 "nbformat_minor": 5
}
