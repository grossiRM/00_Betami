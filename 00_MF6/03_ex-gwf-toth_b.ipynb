{
 "cells": [
  {
   "cell_type": "code",
   "execution_count": null,
   "id": "c3513543-6789-44d3-99c1-a742516eb5f4",
   "metadata": {},
   "outputs": [],
   "source": [
    "import os; import pathlib as pl ; import flopy ; import git ; import matplotlib.pyplot as plt ; import pandas as pd \n",
    "import numpy as np ; from flopy.plot.styles import styles  ; from modflow_devtools.misc import get_env, timed ; from pathlib import Path\n",
    "import matplotlib as mpl; import csv "
   ]
  },
  {
   "cell_type": "code",
   "execution_count": null,
   "id": "a039b4ea-5254-4186-aab1-24965b901763",
   "metadata": {},
   "outputs": [],
   "source": [
    "sim_name = \"ex-gwf-toth\" ; output_folder = Path(\"./03_Toth\") ; output_folder.mkdir(exist_ok=True) \n",
    "parameter_units = {\"recharge\": \"$ft/s$\"}  ; length_units = \"feet\"  ; time_units = \"seconds\" \n",
    "exe_name = 'E:\\\\15_REPOS\\\\00_BETAMI\\\\bin\\\\mf6.exe' ; workspace = output_folder  ; figs_path = output_folder ;gwf_name = sim_name # \"toth\""
   ]
  },
  {
   "cell_type": "code",
   "execution_count": null,
   "id": "3b6fdf9d-17e7-46a8-9e66-518ca28acd69",
   "metadata": {},
   "outputs": [],
   "source": [
    "length_units = \"feet\" ; Lx = 20000 ; top = 10000 ;  nper = 1 ;  nlay = 200  ; nrow = 1 ;  ncol = 100 ;  \n",
    "time_units = \"days\"   ; delr = 200 ; hk = 1      ; delz = top / nlay        ; botm = [top - (k + 1) * delz for k in range(nlay)]  \n",
    "\n",
    "a = 200.0  ; alpha = np.arctan2(1000, Lx)           ;period=5000.0 ;b=2*np.pi/period        # Toth's water table \n",
    "\n",
    "def get_z(z0, a, b, alpha, x):       \n",
    "    return z0 + x * np.tan(alpha) + a * np.sin(b * x / np.cos(alpha)) / np.cos(alpha)\n",
    "x = np.arange(delr / 2, Lx + delr / 2, delr)                                                ; z = get_z(top, a, b, alpha, x)      \n",
    "\n",
    "tdis_ds = ((1.0, 1.0, 1),) ; chdspd = [[0, 0, j, z[j]] for j in range(ncol)]     ; ninner = 100"
   ]
  },
  {
   "cell_type": "code",
   "execution_count": null,
   "id": "302b9519-c696-486c-9bec-c0a9e8e04c5a",
   "metadata": {},
   "outputs": [],
   "source": [
    "np.savetxt(workspace/\"a_botn.csv\", botm, delimiter = \",\") ; np.savetxt(workspace/\"b_z.csv\"   , z, delimiter = \",\") \n",
    "np.savetxt(workspace/\"c_x.csv\", x, delimiter = \",\")       ; np.savetxt(workspace/\"d_chd.csv\" , chdspd, delimiter = \",\")  \n",
    "alpha"
   ]
  },
  {
   "cell_type": "code",
   "execution_count": null,
   "id": "37172748",
   "metadata": {
    "lines_to_end_of_cell_marker": 2,
    "lines_to_next_cell": 2
   },
   "outputs": [],
   "source": [
    "sim_ws = os.path.join(workspace, sim_name)\n",
    "sim = flopy.mf6.MFSimulation  (sim_name=sim_name, sim_ws=sim_ws, exe_name=\"mf6\")\n",
    "tdis = flopy.mf6.ModflowTdis  (sim)\n",
    "ims = flopy.mf6.ModflowIms    (sim, print_option=\"all\", inner_maximum=ninner)\n",
    "gwf = flopy.mf6.ModflowGwf    (sim, modelname=gwf_name, save_flows=True)\n",
    "dis = flopy.mf6.ModflowGwfdis (gwf, nlay=nlay, nrow=nrow, ncol=ncol, top=top, botm=botm, delr=delr)\n",
    "ic = flopy.mf6.ModflowGwfic   (gwf, strt=top)\n",
    "npf = flopy.mf6.ModflowGwfnpf (gwf, save_specific_discharge=True, k=hk)\n",
    "chd = flopy.mf6.ModflowGwfchd (gwf, stress_period_data=chdspd)\n",
    "oc = flopy.mf6.ModflowGwfoc   (gwf,budget_filerecord=f\"{gwf_name}.bud\",head_filerecord=f\"{gwf_name}.hds\",\n",
    "                               printrecord=[(\"HEAD\", \"ALL\"), (\"BUDGET\", \"ALL\")],saverecord=[(\"HEAD\", \"ALL\"), (\"BUDGET\", \"ALL\")])\n",
    "sim.write_simulation(silent=True)  ; sim.run_simulation(silent=True)"
   ]
  },
  {
   "cell_type": "code",
   "execution_count": null,
   "id": "df7aab90-09eb-4c23-8854-9bc02a7e0aaf",
   "metadata": {},
   "outputs": [],
   "source": [
    "ml = sim.get_model(sim_name) ; print(\"OC package_Flow  : \", ml.oc.output.methods()) "
   ]
  },
  {
   "cell_type": "code",
   "execution_count": null,
   "id": "e1b5cf59-3c3a-4843-99e5-410636a42a53",
   "metadata": {},
   "outputs": [],
   "source": [
    "sim_ws = sim.simulation_data.mfpath.get_sim_path(); head = gwf.output.head().get_data()  ; bud = gwf.output.budget()      # head, bud\n",
    "spdis = bud.get_data(text=\"DATA-SPDIS\")[0]  ; qx, qy, qz = flopy.utils.postprocessing.get_specific_discharge(spdis, gwf)  # spdis\n",
    "u = qx.reshape((nlay, ncol)) ; phi = u[-1::-1].cumsum(axis=0)  ; phi = np.flipud(phi)                                     # gwf = sim.gwf[0]"
   ]
  },
  {
   "cell_type": "code",
   "execution_count": null,
   "id": "ea8c700d-e5ae-43e4-b4ed-6f4a1295ac69",
   "metadata": {},
   "outputs": [],
   "source": [
    "qx2 = qx[:,0,:] ; sa1 = pd.DataFrame(qx2);  sa1.to_csv (output_folder / \"e_qx2(2D).csv\")    \n",
    "print('u',u.shape, 'qx',qx.shape, 'qx2 = u',qx2.shape); print('phi',phi.shape)\n",
    "sa2 = pd.DataFrame(phi);  sa2.to_csv (output_folder / \"f_phi(2D).csv\")    "
   ]
  },
  {
   "cell_type": "code",
   "execution_count": null,
   "id": "1d6f0b3d",
   "metadata": {
    "lines_to_end_of_cell_marker": 2
   },
   "outputs": [],
   "source": [
    "with styles.USGSMap():\n",
    "    fig, ax = plt.subplots(1, 1, figsize=(12, 2), dpi=150, tight_layout=True)\n",
    "    pxs = flopy.plot.PlotCrossSection(model=gwf, ax=ax, line={\"row\": 0})\n",
    "    pxs.contour_array(head,levels=np.arange(top, z.max(), 25),linewidths=0.5,colors=\"b\",linestyles=\"solid\")\n",
    "    pxs.contour_array(phi, levels=np.linspace(phi.min(), phi.max(), 10))\n",
    "    \n",
    "    ax.plot(x,z,\"k-\") ; ax.set_xlabel(\"x position (ft)\") ;ax.set_ylabel(\"elevation (ft)\")    # synoidal\n",
    "    ax.set_aspect(1.0) ;ax.set_xlim(0,20000) ; ax.set_ylim(0,11000)                          ; plt.show() ; fig.savefig(output_folder/'03_Toth')"
   ]
  }
 ],
 "metadata": {
  "jupytext": {
   "cell_metadata_filter": "-all"
  },
  "kernelspec": {
   "display_name": "Python 3 (ipykernel)",
   "language": "python",
   "name": "python3"
  },
  "language_info": {
   "codemirror_mode": {
    "name": "ipython",
    "version": 3
   },
   "file_extension": ".py",
   "mimetype": "text/x-python",
   "name": "python",
   "nbconvert_exporter": "python",
   "pygments_lexer": "ipython3",
   "version": "3.12.7"
  }
 },
 "nbformat": 4,
 "nbformat_minor": 5
}
