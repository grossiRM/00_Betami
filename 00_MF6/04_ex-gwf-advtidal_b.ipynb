{
 "cells": [
  {
   "cell_type": "markdown",
   "id": "e3d5a07e-0b53-4f90-8522-7d425262f63e",
   "metadata": {},
   "source": [
    "**Tidal Model**"
   ]
  },
  {
   "cell_type": "code",
   "execution_count": 1,
   "id": "07ff88e8-9d47-4001-bf97-78ba28215bf7",
   "metadata": {},
   "outputs": [],
   "source": [
    "# pip install shapely"
   ]
  },
  {
   "cell_type": "code",
   "execution_count": 2,
   "id": "47519fde-c82b-441e-a582-655b0303de25",
   "metadata": {},
   "outputs": [],
   "source": [
    "import os; import flopy ; import matplotlib.pyplot as plt ; import pandas as pd ; import numpy as np ; import csv ; from pathlib import Path\n",
    "from flopy.plot.styles import styles ; from shapely.geometry import Polygon     ; from flopy.utils.gridintersect import GridIntersect"
   ]
  },
  {
   "cell_type": "code",
   "execution_count": 3,
   "id": "daa264e7-168e-4029-b483-0449a716df80",
   "metadata": {},
   "outputs": [],
   "source": [
    "sim_name = \"ex-gwf-advtidal\" ; output_folder = Path(\"./04_advtidal\") ; output_folder.mkdir(exist_ok=True) \n",
    "path = 'E:\\\\15_REPOS\\\\00_BETAMI\\\\bin\\\\data_modflow6-examples\\\\ex-gwf-advtidal'                       ; sim_ws = output_folder\n",
    "data_FP1 = os.path.join(path ,\"tides.csv\")         ; data_FP2  = os.path.join(path,\"wellrates.csv\")   \n",
    "data_FP3 = os.path.join(path ,\"riverstage.csv\")    ; data_FP4a = os.path.join(path,\"recharge1.csv\")\n",
    "data_FP4b = os.path.join(path,\"recharge2.csv\")     ; data_FP4 = data_FP4c = os.path.join(path,\"recharge3.csv\")\n",
    "exe_name = 'E:\\\\15_REPOS\\\\00_BETAMI\\\\bin\\\\mf6.exe' ; workspace = figs_path =  output_folder          ; gwf_name = sim_name"
   ]
  },
  {
   "cell_type": "code",
   "execution_count": 4,
   "id": "ca4a10ac-88d5-4673-8bab-b8d9aed3abfb",
   "metadata": {},
   "outputs": [
    {
     "name": "stdout",
     "output_type": "stream",
     "text": [
      "tdis_ds [(1.0, 1, 1.0), (10.0, 120, 1.0), (10.0, 120, 1.0), (10.0, 120, 1.0)]          perlen 31.0 days , nstp = 120\n"
     ]
    }
   ],
   "source": [
    "length_units = \"meters\"         ;  nper = 4     ;  nlay = 3 ;  ncol = 10     ;  nrow = 15    ;  delr = 500 ;  delc = 500 ;  top = 50 \n",
    "time_units = \"days\"             ;  strt = 50    ;  icelltype_str = \"1 ,0 ,0\" ;  k11_str = \"5.0 ,0.1 ,4.0\"  ;  k33_str = \"0.5 ,5.0e-3 ,0.1\"   \n",
    "botm_str = \"5.0 ,-10.0 ,-100.0\" ; ss = 0.000001 ;  sy = 0.2 ;  nouter = 50   ;  ninner = 100 ;  hclose = 0.000000001     ;  rclose = 0.000001   \n",
    "nseg = 3 ;  etsurf = 50 ;  etrate = 0.0004 ;  depth = 10    ;  pxdp = [0.2 ,0.5]  ;  petm = [0.3 ,0.1]                   #  EVT\n",
    "botm = [float(value) for value in botm_str.split(\",\")]      ; k11 = [float(value) for value in k11_str.split(\",\")]\n",
    "k33 = [float(value) for value in k33_str.split(\",\")]        ; icelltype = [int(value) for value in icelltype_str.split(\",\")]\n",
    "perlen = [1.0, 10.0, 10.0, 10.0]  ; nstp = [1, 120, 120, 120] ; tsmult = [1.0, 1.0, 1.0, 1.0] ; tdis_ds = list(zip(perlen, nstp, tsmult))\n",
    "days = np.sum(perlen) ; print('tdis_ds' ,tdis_ds, '         perlen', days, 'days' ,', nstp = 120' )\n",
    "timprs = np.linspace(1, 10, 120, endpoint=True) ; np.savetxt(output_folder / \"001_timprs.csv\", timprs, delimiter=\",\")"
   ]
  },
  {
   "cell_type": "code",
   "execution_count": 5,
   "id": "2278329c-24d1-46e1-9ecf-46c244de306f",
   "metadata": {
    "jupyter": {
     "source_hidden": true
    }
   },
   "outputs": [
    {
     "name": "stdout",
     "output_type": "stream",
     "text": [
      "T [1] [ 1.  4.  7. 10.] [11. 14. 17. 20.] [21. 24. 27. 30.]\n"
     ]
    }
   ],
   "source": [
    "tw1=np.linspace(1,10,4,endpoint=True) ;tw2=np.linspace(11,20,4,endpoint=True) ;tw3=np.linspace(21,30,4,endpoint=True) ;print('T [1]',tw1,tw2,tw3)"
   ]
  },
  {
   "cell_type": "code",
   "execution_count": 16,
   "id": "d1f7e290-d39b-412b-a3b0-69d707898be7",
   "metadata": {},
   "outputs": [],
   "source": [
    "def get_timeseries(fname, names, interpolation, filename=None):\n",
    "    tsdata = []\n",
    "    for row in np.genfromtxt(fname, delimiter=\",\", comments=\"#\"):\n",
    "        tsdata.append(tuple(row))\n",
    "    tsdict = {\"timeseries\": tsdata,\"time_series_namerecord\": names,\"interpolation_methodrecord\": interpolation}\n",
    "    if filename is not None:\n",
    "        tsdict[\"filename\"] = filename\n",
    "    return  tsdict"
   ]
  },
  {
   "cell_type": "code",
   "execution_count": 17,
   "id": "07461631-164f-4c00-ae96-43b8aa290971",
   "metadata": {},
   "outputs": [],
   "source": [
    "wel_spd = {}\n",
    "wel_spd[1] = [[0, 11, 2, -50, \"\"]               ,[2, 4, 7, \"well_1_rate\", \"well_1\"]  , [2, 3, 2, \"well_2_rate\", \"well_2\"]]\n",
    "wel_spd[2] = [[2, 3, 2, \"well_2_rate\", \"well_2\"],[2, 4, 7, \"well_1_rate\", \"well_1\"]]\n",
    "wel_spd[3] = [[2, 4, 7, \"well_1_rate\", \"well_1\"],[2, 3, 2, \"well_2_rate\", \"well_2\"]  , [0, 11, 2, -10, \"\"],[0, 2, 4, -20, \"\"],[0, 13, 5, -40, \"\"]]\n",
    "df = pd.DataFrame.from_dict(wel_spd, orient='index', columns=['a', 'b','c','d','e'])    ; df.to_csv  (output_folder / \"06a_wel_n.csv\")   \n",
    "sa1 = pd.DataFrame(wel_spd[1]) ; sa2 = pd.DataFrame(wel_spd[2]) ; sa3 = pd.DataFrame(wel_spd[3])  \n",
    "sa4 = pd.concat([sa1[:], sa2[:], sa3[:]], axis=1)                                       ; sa4.to_csv (output_folder / \"06b_wel_spd_all.csv\") \n",
    "\n",
    "wel_ts = get_timeseries(data_FP2, [\"well_1_rate\", \"well_2_rate\", \"well_6_rate\"], 3 * [\"stepwise\"])   \n",
    "df = pd.DataFrame.from_dict(wel_ts, orient='index')    ; df.to_csv (output_folder / \"05a_wel_ts_n.csv\")  \n",
    "tm = wel_ts[\"timeseries\"] ; np.savetxt(workspace/\"05b_wel_ts.csv\",tm,delimiter = \",\") ; wel_ts ;"
   ]
  },
  {
   "cell_type": "code",
   "execution_count": null,
   "id": "c1c9cf86-c40c-4b9a-9b81-42fd4eda8793",
   "metadata": {},
   "outputs": [],
   "source": [
    "ghb_spd = []  ;  ghb_spd += [[1, i, 9, \"tides\", 15.0  , \"ESTUARY-L2\"] for i in range(nrow)]\n",
    "ghb_spd +=                  [[2, i, 9, \"tides\", 1500.0, \"ESTUARY-L3\"] for i in range(nrow)]   ; ghb_spd = {0: ghb_spd}  \n",
    "ghb_spd2 = pd.DataFrame.from_dict(ghb_spd, orient='index')             #; ghb_spd2.to_csv (output_folder/ \"03a_ghb_spd.csv\")\n",
    "sa = pd.DataFrame(ghb_spd[0]);  sa.to_csv (output_folder / \"03d_ghb_spd.csv\") ; print('ghb_spd, ghb_ts, ghb_OBS')\n",
    "\n",
    "ghbobs_dict = {}     ; ghbobs_dict[f\"{sim_name}.ghb.obs.csv\"] = \\\n",
    "[(\"ghb_2_6_10\", \"ghb\", (1, 5, 9)),(\"ghb_3_6_10\", \"ghb\", (2, 5, 9)) ,(\"estuary2\", \"ghb\", \"ESTUARY-L2\"),(\"estuary3\", \"ghb\" , \"ESTUARY-L3\")]\n",
    "df = pd.DataFrame.from_dict(ghbobs_dict, orient='index')           ; df1 = df.rename(columns = lambda x : 'a' + str(x))  # ; df1\n",
    "\n",
    "dfa0 = df1['a0'].apply(pd.Series)  ;dfa1 = df1['a1'].apply(pd.Series)    ; dfa2 = df1['a2'].apply(pd.Series); dfa3 = df1['a3'].apply(pd.Series)\n",
    "df4 = pd.concat([dfa0[:], dfa1[:], dfa2[:], dfa3[:]], axis=1); df4.shape ; df4.columns = np.arange(12) ; df5=df4.rename(columns=lambda x:'B'+str(x))\n",
    "dg1 = df5['B2'].apply(pd.Series); dg2 = df5['B5'].apply(pd.Series)       ; df6 = pd.concat([df5[:], dg1[:], dg2[:]], axis=1)\n",
    "df6.to_csv (output_folder / \"03c_ghb_obs.csv\") \n",
    "\n",
    "ghb_ts = get_timeseries(data_FP1, \"tides\", \"linear\")\n",
    "ghbobs_dict = {}   \n",
    "ghbobs_dict[f\"{sim_name}.ghb.obs.csv\"] = [(\"ghb_2_6_10\", \"ghb\", (1, 5, 9)),(\"ghb_3_6_10\", \"ghb\", (2, 5, 9)),\n",
    "                                          (\"estuary2\", \"ghb\", \"ESTUARY-L2\"),(\"estuary3\", \"ghb\" , \"ESTUARY-L3\"),]\n",
    "df = pd.DataFrame.from_dict(ghb_ts, orient='index')    ; df.to_csv (output_folder / \"03a_ghb_ts_n.csv\")  \n",
    "tm = ghb_ts[\"timeseries\"] ; np.savetxt(workspace/\"03b_ghb_ts.csv\",tm,delimiter = \",\") ; ghb_ts;  # sa.tail()"
   ]
  },
  {
   "cell_type": "code",
   "execution_count": null,
   "id": "6d2daa77-3069-45ab-bd57-edb5bf2f3b6e",
   "metadata": {},
   "outputs": [],
   "source": [
    "rivrow = [2, 3, 4, 4, 5, 5, 5, 4, 4, 4, 9, 8, 7, 6, 6, 5, 5, 6, 6, 6]     ; rivcol = [0, 1, 2, 3, 4, 5, 6, 7, 8, 9, 0, 1, 2, 3, 4, 5, 6, 7, 8, 9]\n",
    "#rivrow = [2,3,4,4,5,5,5,4,4,4,9,8,7,6,6,5,5,6,6,6]                              ; rivcol = [0,1,2,3,4,5,6,7,8,9,0,1,2,3,4,5,6,7,8,9]\n",
    "rivstg = 10 * [\"river_stage_1\"] + 10 * [\"river_stage_2\"]                        ; rivcnd = 2 * [1000 + f + 1 for f in range(10)]\n",
    "rivrbt = list(np.linspace(35.9, 35.0, 10)) + list(np.linspace(36.9, 36.0, 10))  ; rivlay = 20 * [0]\n",
    "rivbnd = (5 * [\"\"]+ [\"riv1_c6\", \"riv1_c7\"]+ 3 * [\"\"]+ 3 * [\"riv2_upper\"]+ 2 * [\"\"]+ [\"riv2_c6\", \"riv2_c7\"]+ 3 * [\"\"])\n",
    "riv_spd = list(zip(rivlay, rivrow, rivcol, rivstg, rivcnd, rivrbt, rivbnd))\n",
    "s2=pd.DataFrame(riv_spd); s2.columns = ['rivlay','rivrow','rivcol','rivstg','rivcnd','rivrbt','rivbnd']; s2.to_csv (output_folder/\"07a_riv_spd.csv\")  \n",
    "\n",
    "riv_ts = get_timeseries(data_FP3,[\"river_stage_1\", \"river_stage_2\"],[\"linear\", \"stepwise\"])\n",
    "tm = riv_ts[\"timeseries\"] ;np.savetxt(workspace/\"07b_riv_ts.csv\",tm,delimiter = \",\")"
   ]
  },
  {
   "cell_type": "code",
   "execution_count": null,
   "id": "d951e4c8-a6a3-46a9-9974-294da188176a",
   "metadata": {},
   "outputs": [],
   "source": [
    "row, col = np.where(np.zeros((nrow, ncol)) == 0)     ; cellids = list(zip(nrow * ncol * [0], row, col))\n",
    "evt_spd  = [[k, i, j, etsurf, etrate, depth, *pxdp, *petm] for k, i, j in cellids] ;  print('EVT')\n",
    "s15=pd.DataFrame(evt_spd);  s15.columns = ['k','i','j','etsurf','etrate','depth','pxdpA','pxdpB','petmA','petmB'] \n",
    "s15.to_csv (output_folder/\"09_evt_spd_.csv\")   # _______________________________________"
   ]
  },
  {
   "cell_type": "code",
   "execution_count": null,
   "id": "9f5b6107-f2ae-47df-b8e9-71041be3ced5",
   "metadata": {},
   "outputs": [],
   "source": [
    "head_filerecord = f\"{sim_name}.hds\"                            ; budget_filerecord = f\"{sim_name}.cbc\"\n",
    "obsdict = {}  ; obslist = [[\"h1_13_8\", \"head\", (2, 12, 7)]]    ; obsdict[f\"{sim_name}.obs.head.csv\"] = obslist\n",
    "obslist = [[\"icf1\", \"flow-ja-face\", (0, 4, 5), (0, 5, 5)]]     ; obsdict[f\"{sim_name}.obs.flow.csv\"] = obslist"
   ]
  },
  {
   "cell_type": "code",
   "execution_count": null,
   "id": "3f12ccd6-c319-4ca8-a33a-d3fae530701e",
   "metadata": {},
   "outputs": [],
   "source": [
    "sim = flopy.mf6.MFSimulation (sim_name=sim_name,sim_ws=sim_ws,exe_name=exe_name,verbosity_level=0)\n",
    "flopy.mf6.ModflowTdis  (sim, nper=nper, perioddata=tdis_ds, time_units=time_units)\n",
    "flopy.mf6.ModflowIms   (sim ,outer_maximum=nouter,outer_dvclose=hclose,inner_maximum=ninner,inner_dvclose=hclose,rcloserecord=f\"{rclose} strict\")\n",
    "gwf = flopy.mf6.ModflowGwf   (sim, modelname=sim_name, save_flows=True)\n",
    "flopy.mf6.ModflowGwfdis(gwf ,length_units=length_units,nlay=nlay,nrow=nrow,ncol=ncol,delr=delr,delc=delc,top=top,botm=botm)\n",
    "flopy.mf6.ModflowGwfnpf(gwf ,cvoptions=\"perched\",perched=True,icelltype=icelltype,k=k11,k33=k33,save_specific_discharge=True)\n",
    "flopy.mf6.ModflowGwfic (gwf ,strt=strt)\n",
    "flopy.mf6.ModflowGwfsto(gwf ,iconvert=1,ss=1.0e-6,sy=sy,steady_state={0: True},transient={1: True}) \n",
    "flopy.mf6.ModflowGwfwel(gwf ,stress_period_data=wel_spd ,boundnames=True   ,timeseries=wel_ts                            , pname=\"WEL\") \n",
    "flopy.mf6.ModflowGwfghb(gwf ,stress_period_data=ghb_spd ,boundnames=True   ,timeseries=ghb_ts  ,observations=ghbobs_dict , pname=\"GHB-TIDAL\")   \n",
    "flopy.mf6.ModflowGwfriv(gwf ,stress_period_data=riv_spd ,boundnames=True   ,timeseries=riv_ts                            , pname=\"RIV\")  \n",
    "flopy.mf6.ModflowGwfevt(gwf ,nseg=nseg  ,stress_period_data=evt_spd                                                      , pname=\"EVT\") ;                  "
   ]
  },
  {
   "cell_type": "code",
   "execution_count": null,
   "id": "93630697-7fd8-41d0-8d5b-f811e9ee421e",
   "metadata": {},
   "outputs": [],
   "source": [
    "rchA = pd.read_csv(data_FP4a) ; rchB = pd.read_csv(data_FP4b) ; rchC = pd.read_csv(data_FP4c) \n",
    "df = pd.concat([rchA, rchB.iloc[:,1], rchC.iloc[:,1]], axis=1); df.columns = ['index','z1','z2','z3']  # df_rch3 = df.to_dict(); df_rch3\n",
    "df.to_csv (output_folder / \"08a_RCH_spd_B.csv\")            ; print('RCH_spd_B')    ; df\n",
    "\n",
    "recharge_zone_1 = Polygon(shell=[(0, 0), (3000, 0), (3000, 5500), (1000, 7500), (0, 7500), (0, 0)])\n",
    "recharge_zone_2 = Polygon(shell=[(1000, 7500), (3000, 5500), (5000, 7500), (1000, 7500)])\n",
    "recharge_zone_3 = Polygon(shell=[(3000, 0), (5000, 0), (5000, 7500), (3000, 5500), (3000, 0)])\n",
    "\n",
    "for ipak, p in enumerate([recharge_zone_1, recharge_zone_2, recharge_zone_3]) :\n",
    "    ix = GridIntersect(gwf.modelgrid, method=\"vertex\", rtree=True)            ; result = ix.intersect(p)     ; rch_spd = []\n",
    "    for i in range(result.shape[0]):\n",
    "        rch_spd.append([0,*result[\"cellids\"][i],f\"rch_{ipak + 1}\",result[\"areas\"][i] / delr / delc])\n",
    "\n",
    "#   data_FP4 = 'E:\\\\15_REPOS\\\\00_BETAMI\\\\bin\\\\data_modflow6-examples\\\\ex-gwf-advtidal'/{fname}                  # attept 01 loop to place 03 rch ...\n",
    "#   fname = f\"recharge{ipak + 1}.csv\"  ;      data_FP4 = os.path.join(path,{fname})                             # attept 02 loop to place 03 rch ... \n",
    "    \n",
    "    rch_ts = get_timeseries(data_FP4b,[f\"rch_{ipak + 1}\"],[\"stepwise\"],filename=f\"{sim_name}.rch{ipak + 1}.ts\") # err = data_FP4 a, b, c \n",
    "    tmm = rch_ts[\"timeseries\"] ;np.savetxt(workspace/\"08b_RCH_ts_.csv\",tmm,delimiter = \",\")                     # err = data_FP4 ___ an issue RCH\n",
    "    rch_spd2 = pd.DataFrame(rch_spd)             ; rch_spd2.to_csv (workspace/ \"08c_3.3_rch_spd.csv\")\n",
    "\n",
    "    flopy.mf6.ModflowGwfrch(gwf,stress_period_data=rch_spd,boundnames=True , timeseries=rch_ts        ,fixed_cell=True,print_input=True,\n",
    "                            print_flows=True             , save_flows=True , auxiliary=[\"MULTIPLIER\"] ,auxmultname=\"MULTIPLIER\",\n",
    "                            pname=f\"RCH-ZONE_{ipak + 1}\" , filename=f\"{sim_name}.rch{ipak + 1}\")"
   ]
  },
  {
   "cell_type": "code",
   "execution_count": null,
   "id": "80c413d1-2690-4093-8f85-5bcd60d06e1e",
   "metadata": {
    "scrolled": true
   },
   "outputs": [],
   "source": [
    "flopy.mf6.ModflowGwfoc(gwf,head_filerecord=head_filerecord,budget_filerecord=budget_filerecord,saverecord=[(\"HEAD\", \"ALL\"), (\"BUDGET\", \"ALL\")])\n",
    "obs = flopy.mf6.ModflowUtlobs(gwf, print_input=False, continuous=obsdict) \n",
    "sim.write_simulation(silent=False)  ; sim.run_simulation(silent=False)  "
   ]
  },
  {
   "cell_type": "raw",
   "id": "ac17c7fe-414a-4012-8bed-0702f8f02548",
   "metadata": {},
   "source": [
    "pmv = flopy.plot.PlotMapView(model=gwf, ax=ax, layer=0)  ; pmv.__dict__.keys()"
   ]
  },
  {
   "cell_type": "code",
   "execution_count": null,
   "id": "92b33a73",
   "metadata": {
    "lines_to_end_of_cell_marker": 2
   },
   "outputs": [],
   "source": [
    "with styles.USGSMap():\n",
    "    fig = plt.figure(figsize=(6, 10),dpi=150)\n",
    "    ax = fig.add_subplot(4, 4, 1, aspect=\"equal\")\n",
    "    pmv = flopy.plot.PlotMapView(model=gwf, ax=ax, layer=0) ; pmv.plot_grid() ; pmv.plot_bc(name=\"WEL\", kper=3) ; pmv.plot_bc(name=\"RIV\")  # Wel, RIV\n",
    "    title=\"Layer 1\";letter=chr(ord(\"@\")+1);styles.heading(letter=letter,heading=title,ax=ax);ax.set_xlabel(\"x (m)\");ax.set_ylabel(\"y (m)\")\n",
    "\n",
    "    ax = fig.add_subplot(4, 4, 2, aspect=\"equal\")\n",
    "    pmv = flopy.plot.PlotMapView(model=gwf, ax=ax, layer=1) ; pmv.plot_grid() ; pmv.plot_bc(name=\"GHB\") ; pmv.plot_bc(ftype=\"WEL\", kper=3)  # GHB\n",
    "    title = \"Layer 2\" ; letter = chr(ord(\"@\") + 2) ; styles.heading(letter=letter, heading=title, ax=ax) ; ax.set_xlabel(\"x (m)\")\n",
    "\n",
    "    ax = fig.add_subplot(4, 4, 3, aspect=\"equal\")\n",
    "    pmv = flopy.plot.PlotMapView(model=gwf, ax=ax, layer=2) ;pmv.plot_grid() ; pmv.plot_bc(name=\"GHB\") ; pmv.plot_bc(ftype=\"WEL\", kper=3)   # GHB, WEL\n",
    "    title = \"Layer 3\" ; letter = chr(ord(\"@\") + 3) ; styles.heading(letter=letter, heading=title, ax=ax) ; ax.set_xlabel(\"x (m)\")\n",
    "\n",
    "    ax = fig.add_subplot(4, 4, 4, aspect=\"equal\")\n",
    "    pmv = flopy.plot.PlotMapView(model=gwf, ax=ax) ; pmv.plot_grid(linewidth=0)\n",
    "    \n",
    "    for ip, (p, fc) in enumerate([(recharge_zone_1, \"r\"), (recharge_zone_2, \"b\"), (recharge_zone_3, \"g\")]):\n",
    "        xs, ys = p.exterior.xy ; ax.fill(xs, ys, alpha=0.25, fc=fc, ec=\"none\", label=f\"Recharge Zone {ip + 1}\")\n",
    "    ax.set_xlabel(\"x (m)\")  ; styles.graph_legend(ax) ; title = \"Recharge zones\" ; letter = chr(ord(\"@\") + 4)\n",
    "    \n",
    "    styles.heading(letter=letter, heading=title, ax=ax); ax.legend(bbox_to_anchor=(1.0, 1.0))\n",
    "    plt.show() ; fig.savefig(output_folder/'04_advtidal')"
   ]
  },
  {
   "cell_type": "code",
   "execution_count": null,
   "id": "0d23bb12-1c18-4c05-856d-3f842d1643c6",
   "metadata": {},
   "outputs": [],
   "source": [
    "obsnames = gwf.obs[1].output.obs_names           ; print('obsnames:  ', obsnames)  \n",
    "tsdata1  = gwf.obs[1].output.obs(f=obsnames[0])  ; ts1 = tsdata1.data ; ts1na = ts1.dtype.names[1:]\n",
    "tsdata2  = gwf.obs[1].output.obs(f=obsnames[1])  ; ts2 = tsdata2.data ; ts2na = ts2.dtype.names[1:]\n",
    "tsdata3  = gwf.ghb.output.obs()                  ; ts3 = tsdata3.data ; ts3na = ts3.dtype.names[1:]\n",
    "print('ts.names_   ts1:',ts1na, '   ts2:', ts2na, '   ts3:', ts3na)  \n",
    "print('tsdata 1-3:', tsdata3.__dict__.keys())"
   ]
  },
  {
   "cell_type": "code",
   "execution_count": null,
   "id": "bd85e8ee-d269-4a99-ba6f-40c317de71b6",
   "metadata": {},
   "outputs": [],
   "source": [
    "ts1; "
   ]
  },
  {
   "cell_type": "code",
   "execution_count": null,
   "id": "b707e90a-09f3-47d0-8c69-59d58a140d96",
   "metadata": {},
   "outputs": [],
   "source": [
    "ts_na = ts1na;          fig, ax = plt.subplots(figsize=(12, 2))        ; ax.plot(ts1['totim']  ,ts1['H1_13_8'],  label=ts_na)  \n",
    "ax.set_xlabel(\"time (days)\") ; ax.set_ylabel(\"head (m)\") ; styles.graph_legend(ax) ; plt.show()   "
   ]
  },
  {
   "cell_type": "code",
   "execution_count": null,
   "id": "8d1493c3-b30f-4613-a087-14b34972787b",
   "metadata": {},
   "outputs": [],
   "source": [
    "ts_na = ts2na;   fig, ax = plt.subplots(figsize=(12, 2))       ; ax.plot(ts1['totim'] ,ts2['ICF1'],label=ts_na)  \n",
    "ax.set_xlabel(\"time (days)\") ; ax.set_ylabel(\"head (m)\") ; styles.graph_legend(ax) ; plt.show()"
   ]
  },
  {
   "cell_type": "code",
   "execution_count": null,
   "id": "0598c271-679f-425e-b746-8b8ad868c22e",
   "metadata": {},
   "outputs": [],
   "source": [
    "df = pd.DataFrame(ts3); df                  ; ax = df.plot(x=\"totim\", y= list(ts3na) , kind=\"line\", rot=0, figsize=(10,2)) \n",
    "ax.legend(bbox_to_anchor=(1.0, 1.0)); ax.set(xlabel=\"time (days)\", ylabel=\"flow ($m^3/d$)\"); plt.show()"
   ]
  },
  {
   "cell_type": "code",
   "execution_count": null,
   "id": "a8473618-bfe3-4abe-9834-255a3ebc6838",
   "metadata": {},
   "outputs": [],
   "source": [
    "df"
   ]
  },
  {
   "cell_type": "code",
   "execution_count": null,
   "id": "b503b38a-f1a4-47f3-8642-7771be997122",
   "metadata": {},
   "outputs": [],
   "source": [
    "list(ts3na)"
   ]
  }
 ],
 "metadata": {
  "jupytext": {
   "cell_metadata_filter": "-all"
  },
  "kernelspec": {
   "display_name": "Python 3 (ipykernel)",
   "language": "python",
   "name": "python3"
  },
  "language_info": {
   "codemirror_mode": {
    "name": "ipython",
    "version": 3
   },
   "file_extension": ".py",
   "mimetype": "text/x-python",
   "name": "python",
   "nbconvert_exporter": "python",
   "pygments_lexer": "ipython3",
   "version": "3.12.7"
  }
 },
 "nbformat": 4,
 "nbformat_minor": 5
}
