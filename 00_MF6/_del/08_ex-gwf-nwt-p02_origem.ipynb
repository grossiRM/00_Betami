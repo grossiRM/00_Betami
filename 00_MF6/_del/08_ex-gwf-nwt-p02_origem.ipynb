{
 "cells": [
  {
   "cell_type": "markdown",
   "id": "ff3bf2f7",
   "metadata": {},
   "source": [
    "## MODFLOW-NWT Problem 2\n",
    "\n",
    "This example is based on problem 2 in Niswonger et al 2011, which\n",
    "used the Newton-Raphson formulation to simulate dry cells under a\n",
    "recharge pond. The problem is also described in McDonald et al 1991\n",
    "and used the \\MF rewetting option to rewet dry cells."
   ]
  },
  {
   "cell_type": "markdown",
   "id": "525ca571",
   "metadata": {},
   "source": [
    "### Initial setup\n",
    "\n",
    "Import dependencies, define the example name and workspace, and read settings from environment variables."
   ]
  },
  {
   "cell_type": "code",
   "execution_count": 1,
   "id": "f47ad7e5",
   "metadata": {},
   "outputs": [],
   "source": [
    "import os ; import flopy ; import matplotlib.pyplot as plt ; from matplotlib.colors import ListedColormap ; from pathlib import Path\n",
    "from flopy.plot.styles import styles ; import pandas as pd ; import numpy as np \n",
    "from modflow_devtools.misc import get_env, timed ;\n",
    "write = get_env(\"WRITE\", True)\n",
    "run = get_env(\"RUN\", True)\n",
    "plot = get_env(\"PLOT\", True)\n",
    "plot_show = get_env(\"PLOT_SHOW\", True)\n",
    "plot_save = get_env(\"PLOT_SAVE\", True)"
   ]
  },
  {
   "cell_type": "markdown",
   "id": "520d944e",
   "metadata": {},
   "source": [
    "### Define parameters\n",
    "\n",
    "Define model units, parameters and other settings."
   ]
  },
  {
   "cell_type": "code",
   "execution_count": 2,
   "id": "e4a588db-3909-44fa-8d96-37e71fc49766",
   "metadata": {},
   "outputs": [],
   "source": [
    "sim_name = \"08_p02\" ; output_folder = Path(\"./08_ex-gwf-nwt-p02_o\") ; output_folder.mkdir(exist_ok=True)  ;gwf_name = sim_name \n",
    "exe_name = 'E:\\\\15_REPOS\\\\00_BETAMI\\\\bin\\\\mf6.exe'                ; workspace = figs_path = output_folder "
   ]
  },
  {
   "cell_type": "code",
   "execution_count": 3,
   "id": "db7bec5a",
   "metadata": {},
   "outputs": [],
   "source": [
    "# Model units\n",
    "length_units = \"feet\"\n",
    "time_units = \"days\"\n",
    "\n",
    "# Scenario-specific parameters\n",
    "parameters = {\n",
    "    \"ex-gwf-nwt-p02a\": {\n",
    "        \"newton\": \"newton\",\n",
    "    },\n",
    "    \"ex-gwf-nwt-p02b\": {\n",
    "        \"rewet\": True,\n",
    "        \"wetfct\": 0.5,\n",
    "        \"iwetit\": 1,\n",
    "        \"ihdwet\": 1,\n",
    "        \"wetdry\": -0.5,\n",
    "    },\n",
    "}\n",
    "\n",
    "# Model parameters\n",
    "nper = 4  # Number of periods\n",
    "nlay = 14  # Number of layers\n",
    "nrow = 40  # Number of rows\n",
    "ncol = 40  # Number of columns\n",
    "delr = 125.0  # Column width ($ft$)\n",
    "delc = 125.0  # Row width ($ft$)\n",
    "top = 80.0  # Top of the model ($ft$)\n",
    "k11 = 5.0  # Horizontal hydraulic conductivity ($ft/day$)\n",
    "k33 = 0.25  # Horizontal hydraulic conductivity ($ft/day$)\n",
    "ss = 0.0002  # Specific storage ($1/day$)\n",
    "sy = 0.2  # Specific yield (unitless)\n",
    "H1 = 25.0  # Constant head along left and lower edges and starting head ($ft$)\n",
    "rech = 0.05  # Recharge rate ($ft/day$)\n",
    "\n",
    "\n",
    "# Time discretization\n",
    "tdis_ds = (\n",
    "    (190.0, 10, 1.0),\n",
    "    (518.0, 2, 1.0),\n",
    "    (1921.0, 17, 1.0),\n",
    "    (1.0, 1, 1.0),\n",
    ")\n",
    "\n",
    "# Calculate extents, and shape3d\n",
    "extents = (0, delr * ncol, 20, 65)\n",
    "shape3d = (nlay, nrow, ncol)\n",
    "\n",
    "# Create the bottom\n",
    "botm = np.arange(65.0, -5.0, -5.0)\n",
    "\n",
    "# Create icelltype (which is the same as iconvert)\n",
    "icelltype = 9 * [1] + 5 * [0]\n",
    "\n",
    "# Constant head boundary conditions\n",
    "chd_spd = []\n",
    "for k in range(9, nlay, 1):\n",
    "    chd_spd += [[k, i, ncol - 1, H1] for i in range(nrow - 1)]\n",
    "    chd_spd += [[k, nrow - 1, j, H1] for j in range(ncol)]\n",
    "\n",
    "\n",
    "# Recharge boundary conditions\n",
    "rch_spd = []\n",
    "for i in range(0, 2, 1):\n",
    "    for j in range(0, 2, 1):\n",
    "        rch_spd.append([0, i, j, rech])\n",
    "\n",
    "# Solver parameters\n",
    "nouter = 500\n",
    "ninner = 100\n",
    "hclose = 1e-6\n",
    "rclose = 1000.0"
   ]
  },
  {
   "cell_type": "markdown",
   "id": "01dcebab",
   "metadata": {
    "lines_to_next_cell": 2
   },
   "source": [
    "### Model setup\n",
    "\n",
    "Define functions to build models, write input files, and run the simulation."
   ]
  },
  {
   "cell_type": "code",
   "execution_count": 4,
   "id": "df78db14",
   "metadata": {},
   "outputs": [],
   "source": [
    "def build_models(\n",
    "    name,\n",
    "    newton=False,\n",
    "    rewet=False,\n",
    "    wetfct=None,\n",
    "    iwetit=None,\n",
    "    ihdwet=None,\n",
    "    wetdry=None,\n",
    "):\n",
    "    sim_ws = os.path.join(workspace, name)\n",
    "    sim = flopy.mf6.MFSimulation(sim_name=sim_name, sim_ws=sim_ws, exe_name=\"mf6\")\n",
    "    flopy.mf6.ModflowTdis(sim, nper=nper, perioddata=tdis_ds, time_units=time_units)\n",
    "    if newton:\n",
    "        newtonoptions = \"newton\"\n",
    "        no_ptc = \"ALL\"\n",
    "        complexity = \"complex\"\n",
    "    else:\n",
    "        newtonoptions = None\n",
    "        no_ptc = None\n",
    "        complexity = \"simple\"\n",
    "\n",
    "    flopy.mf6.ModflowIms(\n",
    "        sim,\n",
    "        complexity=complexity,\n",
    "        print_option=\"SUMMARY\",\n",
    "        no_ptcrecord=no_ptc,\n",
    "        outer_maximum=nouter,\n",
    "        outer_dvclose=hclose,\n",
    "        inner_maximum=ninner,\n",
    "        inner_dvclose=hclose,\n",
    "        rcloserecord=rclose,\n",
    "    )\n",
    "    gwf = flopy.mf6.ModflowGwf(\n",
    "        sim,\n",
    "        modelname=sim_name,\n",
    "        newtonoptions=newtonoptions,\n",
    "    )\n",
    "    flopy.mf6.ModflowGwfdis(\n",
    "        gwf,\n",
    "        length_units=length_units,\n",
    "        nlay=nlay,\n",
    "        nrow=nrow,\n",
    "        ncol=ncol,\n",
    "        delr=delr,\n",
    "        delc=delc,\n",
    "        top=top,\n",
    "        botm=botm,\n",
    "    )\n",
    "    if rewet:\n",
    "        rewet_record = [\"wetfct\", wetfct, \"iwetit\", iwetit, \"ihdwet\", ihdwet]\n",
    "        wetdry = 9 * [wetdry] + 5 * [0]\n",
    "    else:\n",
    "        rewet_record = None\n",
    "    flopy.mf6.ModflowGwfnpf(\n",
    "        gwf,\n",
    "        rewet_record=rewet_record,\n",
    "        icelltype=icelltype,\n",
    "        k=k11,\n",
    "        k33=k33,\n",
    "        wetdry=wetdry,\n",
    "    )\n",
    "    flopy.mf6.ModflowGwfsto(\n",
    "        gwf,\n",
    "        iconvert=icelltype,\n",
    "        ss=ss,\n",
    "        sy=sy,\n",
    "        steady_state={3: True},\n",
    "    )\n",
    "    flopy.mf6.ModflowGwfic(gwf, strt=H1)\n",
    "    flopy.mf6.ModflowGwfchd(gwf, stress_period_data=chd_spd)\n",
    "    flopy.mf6.ModflowGwfrch(gwf, stress_period_data=rch_spd)\n",
    "\n",
    "    head_filerecord = f\"{sim_name}.hds\"\n",
    "    flopy.mf6.ModflowGwfoc(\n",
    "        gwf,\n",
    "        head_filerecord=head_filerecord,\n",
    "        saverecord=[(\"HEAD\", \"LAST\")],\n",
    "    )\n",
    "    return sim\n",
    "\n",
    "\n",
    "def write_models(sim, silent=True):\n",
    "    sim.write_simulation(silent=silent)\n",
    "\n",
    "\n",
    "@timed\n",
    "def run_models(sim, silent=True):\n",
    "    success, buff = sim.run_simulation(silent=silent)\n",
    "    assert success, buff"
   ]
  },
  {
   "cell_type": "markdown",
   "id": "ec80b6ee",
   "metadata": {},
   "source": [
    "### Plotting results\n",
    "\n",
    "Define functions to plot model results."
   ]
  },
  {
   "cell_type": "code",
   "execution_count": 5,
   "id": "c4f1175b",
   "metadata": {
    "lines_to_end_of_cell_marker": 2
   },
   "outputs": [],
   "source": [
    "figure_size = (6.3, 6.3)  ; masked_values = (1e30, -1e30)\n",
    "def get_water_table(h, bot):\n",
    "    imask = (h > -1e30) & (h <= bot)\n",
    "    h[imask] = -1e30\n",
    "    return np.amax(h, axis=0)\n",
    "def plot_results(silent=True):\n",
    "    if not plot:\n",
    "        return\n",
    "\n",
    "    verbose = not silent\n",
    "    if verbose:\n",
    "        verbosity_level = 1\n",
    "    else:\n",
    "        verbosity_level = 0\n",
    "\n",
    "    with styles.USGSMap():\n",
    "        # load the newton model\n",
    "        name = next(iter(parameters.keys()))\n",
    "        sim_ws = os.path.join(workspace, name)\n",
    "        sim = flopy.mf6.MFSimulation.load(\n",
    "            sim_name=sim_name, sim_ws=sim_ws, verbosity_level=verbosity_level\n",
    "        )\n",
    "        gwf = sim.get_model(sim_name)\n",
    "        bot = gwf.dis.botm.array\n",
    "        xnode = gwf.modelgrid.xcellcenters[0, :]\n",
    "\n",
    "        # create MODFLOW 6 head object\n",
    "        hobj = gwf.output.head()\n",
    "\n",
    "        # get a list of times\n",
    "        times = hobj.get_times()\n",
    "\n",
    "        # load rewet model\n",
    "        name = list(parameters.keys())[1]\n",
    "        sim_ws = os.path.join(workspace, name)\n",
    "        sim1 = flopy.mf6.MFSimulation.load(\n",
    "            sim_name=sim_name, sim_ws=sim_ws, verbosity_level=verbosity_level\n",
    "        )\n",
    "        gwf1 = sim1.get_model(sim_name)\n",
    "\n",
    "        # create MODFLOW 6 head object\n",
    "        hobj1 = gwf1.output.head()\n",
    "\n",
    "        # Create figure for simulation\n",
    "        fig, axes = plt.subplots(\n",
    "            ncols=1, nrows=4, sharex=True, figsize=figure_size, constrained_layout=False\n",
    "        )\n",
    "\n",
    "        # plot the results\n",
    "        for idx, ax in enumerate(axes):\n",
    "            # extract heads and specific discharge for newton model\n",
    "            head = hobj.get_data(totim=times[idx])\n",
    "            head = get_water_table(head, bot)\n",
    "\n",
    "            # extract heads and specific discharge for newton model\n",
    "            head1 = hobj1.get_data(totim=times[idx])\n",
    "            head1 = get_water_table(head1, bot)\n",
    "\n",
    "            # calculate mean error\n",
    "            diff = np.abs(head - head1)\n",
    "            # print(\"max\", diff.max(), np.argmax(diff))\n",
    "            me = diff.sum() / float(ncol * nrow)\n",
    "            me_text = f\"Mean absolute water-table error {me:.3f} feet\"\n",
    "\n",
    "            ax.set_xlim(extents[:2]) ; ax.set_ylim(extents[2:])  ; mm = flopy.plot.PlotCrossSection(model=gwf, ax=ax, extent=extents, line={\"row\": 1}) \n",
    "            mm.plot_bc(\"CHD\", color=\"cyan\")  ; mm.plot_grid(lw=0.5)  ; \n",
    "            ax.plot(xnode, head[0, :], lw=0.75, color=\"black\", label=\"Newton-Raphson\")\n",
    "            ax.plot(xnode,head1[0, :],lw=0,marker=\"o\",ms=4,mfc=\"none\",mec=\"blue\",label=\"Rewetting\")\n",
    "            letter = chr(ord(\"@\") + idx + 1)\n",
    "            styles.heading(letter=letter, ax=ax)\n",
    "            styles.add_text(ax, text=me_text, x=1, y=1.01, ha=\"right\", bold=False)\n",
    "            styles.remove_edge_ticks(ax)\n",
    "\n",
    "            # set fake y-axis label\n",
    "            ax.set_ylabel(\" \")\n",
    "\n",
    "        # set fake x-axis label\n",
    "        ax.set_xlabel(\" \")\n",
    "\n",
    "        ax = fig.add_subplot(1, 1, 1, frameon=False)\n",
    "        ax.tick_params(\n",
    "            labelcolor=\"none\", top=\"off\", bottom=\"off\", left=\"off\", right=\"off\"\n",
    "        )\n",
    "        ax.set_xlim(0, 1)\n",
    "        ax.set_xticks([0, 1])\n",
    "        ax.set_xlabel(\"x-coordinate, in feet\")\n",
    "        ax.set_ylim(0, 1)\n",
    "        ax.set_yticks([0, 1])\n",
    "        ax.set_ylabel(\"Water-table elevation above arbitrary datum, in meters\")\n",
    "        styles.remove_edge_ticks(ax)\n",
    "\n",
    "        if plot_show:\n",
    "            plt.show()\n",
    "        if plot_save:\n",
    "            fpth = figs_path / f\"{sim_name}-01.png\"\n",
    "            fig.savefig(fpth)"
   ]
  },
  {
   "cell_type": "markdown",
   "id": "c6a9e485",
   "metadata": {
    "lines_to_next_cell": 2
   },
   "source": [
    "### Running the example\n",
    "\n",
    "Define and invoke a function to run the example scenario, then plot results."
   ]
  },
  {
   "cell_type": "code",
   "execution_count": 6,
   "id": "4a6f93b1",
   "metadata": {
    "lines_to_end_of_cell_marker": 2,
    "lines_to_next_cell": 2
   },
   "outputs": [],
   "source": [
    "def scenario(idx, silent=True):\n",
    "    key = list(parameters.keys())[idx]\n",
    "    params = parameters[key].copy()\n",
    "    sim = build_models(key, **params)\n",
    "    if write:\n",
    "        write_models(sim, silent=silent)\n",
    "    if run:\n",
    "        run_models(sim, silent=silent)"
   ]
  },
  {
   "cell_type": "markdown",
   "id": "d75a55c4",
   "metadata": {},
   "source": [
    "Run with Newton-Raphson."
   ]
  },
  {
   "cell_type": "code",
   "execution_count": 7,
   "id": "effc3166",
   "metadata": {},
   "outputs": [
    {
     "name": "stdout",
     "output_type": "stream",
     "text": [
      "run_models took 9421.52 ms\n"
     ]
    }
   ],
   "source": [
    "scenario(0)"
   ]
  },
  {
   "cell_type": "markdown",
   "id": "685aedc4",
   "metadata": {},
   "source": [
    "Run with rewetting."
   ]
  },
  {
   "cell_type": "code",
   "execution_count": 8,
   "id": "2321c2a7",
   "metadata": {},
   "outputs": [
    {
     "name": "stdout",
     "output_type": "stream",
     "text": [
      "run_models took 4139.56 ms\n"
     ]
    }
   ],
   "source": [
    "scenario(1)"
   ]
  },
  {
   "cell_type": "markdown",
   "id": "d94eb29c",
   "metadata": {},
   "source": [
    "Plot results."
   ]
  },
  {
   "cell_type": "code",
   "execution_count": 9,
   "id": "48e52326",
   "metadata": {},
   "outputs": [
    {
     "data": {
      "image/png": "[encoded data removed]",
      "text/plain": [
       "<Figure size 630x630 with 5 Axes>"
      ]
     },
     "metadata": {},
     "output_type": "display_data"
    }
   ],
   "source": [
    "if plot:\n",
    "    plot_results()"
   ]
  },
  {
   "cell_type": "code",
   "execution_count": null,
   "id": "9ad93218-8b68-45e4-9801-ed008ff32781",
   "metadata": {},
   "outputs": [],
   "source": []
  }
 ],
 "metadata": {
  "jupytext": {
   "cell_metadata_filter": "-all"
  },
  "kernelspec": {
   "display_name": "Python 3 (ipykernel)",
   "language": "python",
   "name": "python3"
  },
  "language_info": {
   "codemirror_mode": {
    "name": "ipython",
    "version": 3
   },
   "file_extension": ".py",
   "mimetype": "text/x-python",
   "name": "python",
   "nbconvert_exporter": "python",
   "pygments_lexer": "ipython3",
   "version": "3.12.7"
  }
 },
 "nbformat": 4,
 "nbformat_minor": 5
}
