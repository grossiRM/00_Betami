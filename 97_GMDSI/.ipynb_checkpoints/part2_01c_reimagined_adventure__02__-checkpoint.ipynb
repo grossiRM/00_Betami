{
 "cells": [
  {
   "cell_type": "markdown",
   "metadata": {},
   "source": [
    "**GMDSI_part2_01_pstfrom_pest_setup_b_freyberg_pstfrom_pest_setup__01__** <font color='blue'> **Weights** </font> **`reimagine adventure`** `... conda activate gmdsitut`"
   ]
  },
  {
   "cell_type": "code",
   "execution_count": 1,
   "metadata": {},
   "outputs": [],
   "source": [
    "import sys ; import os ; import platform ; from pathlib import Path ; import shutil                # ; import herebedragons as hbd\n",
    "import warnings ; warnings.filterwarnings(\"ignore\") ; import pandas as pd ; import numpy as np     # ; import helpers\n",
    "import matplotlib.pyplot as plt; import pyemu ; import flopy ; warnings.filterwarnings(\"ignore\", category=DeprecationWarning) "
   ]
  },
  {
   "cell_type": "code",
   "execution_count": 2,
   "metadata": {},
   "outputs": [],
   "source": [
    "sim_ws1   = tmp_d = Path('E:\\\\15_REPOS\\\\00_BETAMI\\\\97_GMDSI\\\\models\\\\monthly_model_files_1lyr_newstress')   ; sim_name = \"freyberg_mf6\"\n",
    "sim_ws    = Path(\"./part2_01c\")                                                                             ; sim_ws.mkdir(exist_ok=True) \n",
    "# print(sys.version) ; print(f\"numpy version: {np.__version__}\") ; print(f\"flopy version: {flopy.__version__}\")"
   ]
  },
  {
   "cell_type": "code",
   "execution_count": 3,
   "metadata": {},
   "outputs": [
    {
     "name": "stdout",
     "output_type": "stream",
     "text": [
      "mf6.exe\n",
      "mp7.exe freyberg_mp.mpsim\n"
     ]
    }
   ],
   "source": [
    "shutil.copytree(sim_ws1, sim_ws, dirs_exist_ok=True) ; sim = flopy.mf6.MFSimulation.load(sim_ws=sim_ws,verbosity_level=0) #; sim.set_sim_path(sim_ws) \n",
    "sim.run_simulation() ; pyemu.os_utils.run(\"mf6\",cwd=sim_ws) ; pyemu.os_utils.run(r'mp7 freyberg_mp.mpsim', cwd=sim_ws) ;gwf = sim.get_model()"
   ]
  },
  {
   "cell_type": "markdown",
   "metadata": {},
   "source": [
    "<font color='blue'> **OBS_PAR** </font> "
   ]
  },
  {
   "cell_type": "code",
   "execution_count": 4,
   "metadata": {},
   "outputs": [
    {
     "name": "stdout",
     "output_type": "stream",
     "text": [
      "   could not remove start_datetime\n",
      "xul:0; yul:10000; rotation:0; proj4_str:None; units:meters; lenuni:2; length_multiplier:1.0\n"
     ]
    }
   ],
   "source": [
    "sr = pyemu.helpers.SpatialReference.from_namfile(os.path.join(sim_ws, \"freyberg6.nam\"),delr=gwf.dis.delr.array, delc=gwf.dis.delc.array); print(sr)\n",
    "template_ws = os.path.join(sim_ws,\"beta_template\")      ; start_datetime=\"1-1-2008\"                  # PEST Template\n",
    "pf = pyemu.utils.PstFrom(original_d=sim_ws, new_d=template_ws, \n",
    "                         remove_existing=True, longnames=True, spatial_reference=sr, zero_based=False, start_datetime=start_datetime, echo=False) "
   ]
  },
  {
   "cell_type": "code",
   "execution_count": 5,
   "metadata": {},
   "outputs": [
    {
     "name": "stdout",
     "output_type": "stream",
     "text": [
      "noptmax:0, npar_adj:0, nnz_obs:0\n"
     ]
    }
   ],
   "source": [
    "pst = pf.build_pst()"
   ]
  },
  {
   "cell_type": "code",
   "execution_count": 6,
   "metadata": {},
   "outputs": [
    {
     "data": {
      "text/html": [
       "<div>\n",
       "<style scoped>\n",
       "    .dataframe tbody tr th:only-of-type {\n",
       "        vertical-align: middle;\n",
       "    }\n",
       "\n",
       "    .dataframe tbody tr th {\n",
       "        vertical-align: top;\n",
       "    }\n",
       "\n",
       "    .dataframe thead th {\n",
       "        text-align: right;\n",
       "    }\n",
       "</style>\n",
       "<table border=\"1\" class=\"dataframe\">\n",
       "  <thead>\n",
       "    <tr style=\"text-align: right;\">\n",
       "      <th></th>\n",
       "      <th>parnme</th>\n",
       "      <th>partrans</th>\n",
       "      <th>parchglim</th>\n",
       "      <th>parval1</th>\n",
       "      <th>parlbnd</th>\n",
       "      <th>parubnd</th>\n",
       "      <th>pargp</th>\n",
       "      <th>scale</th>\n",
       "      <th>offset</th>\n",
       "      <th>dercom</th>\n",
       "    </tr>\n",
       "  </thead>\n",
       "  <tbody>\n",
       "  </tbody>\n",
       "</table>\n",
       "</div>"
      ],
      "text/plain": [
       "Empty DataFrame\n",
       "Columns: [parnme, partrans, parchglim, parval1, parlbnd, parubnd, pargp, scale, offset, dercom]\n",
       "Index: []"
      ]
     },
     "execution_count": 6,
     "metadata": {},
     "output_type": "execute_result"
    }
   ],
   "source": [
    "pst.parameter_data.head()"
   ]
  },
  {
   "cell_type": "code",
   "execution_count": 7,
   "metadata": {},
   "outputs": [],
   "source": [
    "PAR = pf.add_parameters('freyberg6.npf_k_layer1.txt',par_type='grid')        ; hh = pd.read_csv(os.path.join(sim_ws, 'heads.csv'))        \n",
    "OBS = pf.add_observations('heads.csv',index_cols='time',use_cols=hh.columns.tolist()[1:])"
   ]
  },
  {
   "cell_type": "code",
   "execution_count": 8,
   "metadata": {},
   "outputs": [],
   "source": [
    "#PAR.head(2) ; # OBS.head(2)"
   ]
  },
  {
   "cell_type": "code",
   "execution_count": 9,
   "metadata": {},
   "outputs": [],
   "source": [
    "PAR.to_csv (sim_ws/ \"01_PAR.csv\") ; OBS.to_csv (sim_ws/ \"02_OBS.csv\") "
   ]
  },
  {
   "cell_type": "markdown",
   "metadata": {},
   "source": [
    "<font color='red'> **PEST** </font> "
   ]
  },
  {
   "cell_type": "code",
   "execution_count": 10,
   "metadata": {},
   "outputs": [
    {
     "name": "stdout",
     "output_type": "stream",
     "text": [
      "noptmax:0, npar_adj:800, nnz_obs:325\n"
     ]
    }
   ],
   "source": [
    "pf.mod_sys_cmds.append('mf6')       ; pst = pf.build_pst(filename=os.path.join(pf.new_d,'freyberg.pst'),version=2)"
   ]
  },
  {
   "cell_type": "code",
   "execution_count": 11,
   "metadata": {},
   "outputs": [
    {
     "name": "stdout",
     "output_type": "stream",
     "text": [
      "pestpp-ies.exe freyberg.pst\n"
     ]
    },
    {
     "ename": "Exception",
     "evalue": "run() returned non-zero: -1073740940",
     "output_type": "error",
     "traceback": [
      "\u001b[1;31m---------------------------------------------------------------------------\u001b[0m",
      "\u001b[1;31mException\u001b[0m                                 Traceback (most recent call last)",
      "Cell \u001b[1;32mIn[11], line 1\u001b[0m\n\u001b[1;32m----> 1\u001b[0m pyemu\u001b[38;5;241m.\u001b[39mos_utils\u001b[38;5;241m.\u001b[39mrun(\u001b[38;5;124m'\u001b[39m\u001b[38;5;124mpestpp-ies freyberg.pst\u001b[39m\u001b[38;5;124m'\u001b[39m,cwd\u001b[38;5;241m=\u001b[39mtemplate_ws)\n",
      "File \u001b[1;32m~\\anaconda3\\Lib\\site-packages\\pyemu\\utils\\os_utils.py:100\u001b[0m, in \u001b[0;36mrun\u001b[1;34m(cmd_str, cwd, verbose, use_sp, **kwargs)\u001b[0m\n\u001b[0;32m     98\u001b[0m     run_sp(cmd_str, cwd, verbose, \u001b[38;5;241m*\u001b[39m\u001b[38;5;241m*\u001b[39mkwargs)\n\u001b[0;32m     99\u001b[0m \u001b[38;5;28;01melse\u001b[39;00m:       \n\u001b[1;32m--> 100\u001b[0m     run_ossystem(cmd_str, cwd, verbose)\n",
      "File \u001b[1;32m~\\anaconda3\\Lib\\site-packages\\pyemu\\utils\\os_utils.py:156\u001b[0m, in \u001b[0;36mrun_ossystem\u001b[1;34m(cmd_str, cwd, verbose)\u001b[0m\n\u001b[0;32m    154\u001b[0m \u001b[38;5;28;01mif\u001b[39;00m \u001b[38;5;124m\"\u001b[39m\u001b[38;5;124mwindow\u001b[39m\u001b[38;5;124m\"\u001b[39m \u001b[38;5;129;01min\u001b[39;00m platform\u001b[38;5;241m.\u001b[39mplatform()\u001b[38;5;241m.\u001b[39mlower():\n\u001b[0;32m    155\u001b[0m     \u001b[38;5;28;01mif\u001b[39;00m ret_val \u001b[38;5;241m!=\u001b[39m \u001b[38;5;241m0\u001b[39m:\n\u001b[1;32m--> 156\u001b[0m         \u001b[38;5;28;01mraise\u001b[39;00m \u001b[38;5;167;01mException\u001b[39;00m(\u001b[38;5;124m\"\u001b[39m\u001b[38;5;124mrun() returned non-zero: \u001b[39m\u001b[38;5;132;01m{0}\u001b[39;00m\u001b[38;5;124m\"\u001b[39m\u001b[38;5;241m.\u001b[39mformat(ret_val))\n\u001b[0;32m    157\u001b[0m \u001b[38;5;28;01melse\u001b[39;00m:\n\u001b[0;32m    158\u001b[0m     estat \u001b[38;5;241m=\u001b[39m os\u001b[38;5;241m.\u001b[39mWEXITSTATUS(ret_val)\n",
      "\u001b[1;31mException\u001b[0m: run() returned non-zero: -1073740940"
     ]
    }
   ],
   "source": [
    "pyemu.os_utils.run('pestpp-ies freyberg.pst',cwd=template_ws)  # New Beta path"
   ]
  },
  {
   "cell_type": "code",
   "execution_count": null,
   "metadata": {},
   "outputs": [],
   "source": [
    "pst = pyemu.Pst('part2_01_OUT_b/beta_template/freyberg.pst')  "
   ]
  },
  {
   "cell_type": "code",
   "execution_count": null,
   "metadata": {},
   "outputs": [],
   "source": [
    "path = 'E:\\\\15_REPOS\\\\00_BETAMI\\\\97_GMDSI\\\\models\\\\data'  ; fpath=os.path.join(path,\"obstrue.csv\")  "
   ]
  },
  {
   "cell_type": "code",
   "execution_count": null,
   "metadata": {},
   "outputs": [],
   "source": [
    "trueobs = pd.read_csv(fpath, index_col=0) ; trueobs.to_csv (sim_ws/ \"03_trueobs.csv\")  #; trueobs.head(2)"
   ]
  },
  {
   "cell_type": "code",
   "execution_count": null,
   "metadata": {},
   "outputs": [],
   "source": [
    "OBS1 = OBS.loc[:, ['obsval']]; OBS1.reset_index(drop=True, inplace=True)          ; trueobs.reset_index(drop=True, inplace=True)\n",
    "df = pd.concat([OBS1[:], trueobs[:]], axis=1); df2 = df.set_index('time')         ; df2.columns = ['Mod_first_OBS', 'location', 'true_OBS']"
   ]
  },
  {
   "cell_type": "code",
   "execution_count": null,
   "metadata": {},
   "outputs": [],
   "source": [
    "ax = df.plot(use_index=True, y= ['obsval','observation'] , kind=\"line\", rot=0, figsize=(12,2), title='Mod_first_OBS x true_OBS') #; df2.head(2)"
   ]
  },
  {
   "cell_type": "code",
   "execution_count": null,
   "metadata": {},
   "outputs": [],
   "source": [
    "obs = pst.observation_data                   # index\n",
    "for cob in obs.index:\n",
    "    tmp = obs.loc[cob]   # print(trueobs.loc[(trueobs.time==float(tmp.time))&(trueobs.location==tmp.usecol), 'observation'].values[0])\n",
    "    obs.loc[cob,'obsval']      = trueobs.loc[(trueobs.time==float(tmp.time))&(trueobs.location==tmp.usecol), 'observation'].values[0] "
   ]
  },
  {
   "cell_type": "code",
   "execution_count": null,
   "metadata": {},
   "outputs": [],
   "source": [
    "pst.plot(kind='phi_pie')"
   ]
  },
  {
   "cell_type": "code",
   "execution_count": null,
   "metadata": {},
   "outputs": [],
   "source": [
    "newbalance={grp:1/len(pst.obs_groups)*pst.phi for grp in pst.obs_groups} ;pst.adjust_weights(obsgrp_dict=newbalance)   ;pst.plot(kind='phi_pie')   "
   ]
  },
  {
   "cell_type": "code",
   "execution_count": null,
   "metadata": {},
   "outputs": [],
   "source": [
    "OBS_groups = pst.obs_groups"
   ]
  },
  {
   "cell_type": "code",
   "execution_count": null,
   "metadata": {},
   "outputs": [],
   "source": [
    "# newbalance = {grp:1/len(pst.obs_groups)*pst.phi for grp in pst.obs_groups}\n",
    "from IPython.display import Image, display ;     \n",
    "display(Image('E:\\\\15_REPOS\\\\00_BETAMI\\\\97_GMDSI\\\\_aux\\\\monthly_heads_xls.png',width = 300, height = 300)); print('phi (!)', pst.phi)"
   ]
  },
  {
   "cell_type": "markdown",
   "metadata": {},
   "source": [
    "<font color='red'> **_________________RUNNING Parallel____** </font> "
   ]
  },
  {
   "cell_type": "code",
   "execution_count": null,
   "metadata": {},
   "outputs": [],
   "source": [
    "pst.control_data.noptmax=-1  ;   pst.pestpp_options['ies_num_reals']=100"
   ]
  },
  {
   "cell_type": "code",
   "execution_count": null,
   "metadata": {},
   "outputs": [],
   "source": [
    "#pst.parameter_data.head(2) "
   ]
  },
  {
   "cell_type": "code",
   "execution_count": null,
   "metadata": {},
   "outputs": [],
   "source": [
    "pst.parameter_data.parlbnd=0.5 ; pst.parameter_data.parubnd=1.5       #; pst.parameter_data.head(2)   "
   ]
  },
  {
   "cell_type": "code",
   "execution_count": null,
   "metadata": {},
   "outputs": [],
   "source": [
    "pst.write('part2_01_OUT_b/beta_template/freyberg_prior.pst') "
   ]
  },
  {
   "cell_type": "code",
   "execution_count": null,
   "metadata": {},
   "outputs": [],
   "source": [
    "#exe_rel_path  = 'E:\\\\15_REPOS\\\\00_BETAMI\\\\97_GMDSI\\\\00_bin\\\\pestpp-ies.exe'\n",
    "#sys.path.insert(0,\"models_b\")        ; import herebedragons1 as hbd    ; hbd.prep_bins(template_ws)  "
   ]
  },
  {
   "cell_type": "code",
   "execution_count": null,
   "metadata": {},
   "outputs": [],
   "source": [
    "pyemu.utils.start_workers('E:\\\\15_REPOS\\\\00_BETAMI\\\\97_GMDSI\\\\part2_01_OUT_b\\\\beta_template'  , master_dir='part2_01_OUT_b\\\\cm_prior', \n",
    "                          exe_rel_path='pestpp-ies.exe', pst_rel_path='freyberg_prior.pst'        , worker_root='.'      , num_workers=10)"
   ]
  },
  {
   "cell_type": "raw",
   "metadata": {},
   "source": [
    "RES\n",
    "[I 2025-06-06 13:52:42.550 ServerApp] Saving file at /97_GMDSI/part2_01b_reimagined_adventure_______________________________02__.ipynb\n",
    "06/06 13:53:14 mn:0.079 runs(C100  |F0    |T0    ) agents(R0   |W10  |U0   ) 0\n",
    "\n",
    "   100 runs complete :  0 runs failed\n",
    "   0.0789 avg run time (min) : 0.951 run mgr time (min)\n",
    "   10 agents connected\n",
    "\n",
    "group                                               mean       std       min       max   percent       std\n",
    "oname:heads.csv_otype:lst_usecol:trgw-0-22-15       75.7     0.725      73.8      77.5      7.78    0.0942\n",
    "oname:heads.csv_otype:lst_usecol:trgw-0-15-16       75.5     0.796      73.7      77.3      7.76     0.101\n",
    "oname:heads.csv_otype:lst_usecol:trgw-0-29-15       75.4      1.06      73.3      78.4      7.76     0.123\n",
    "oname:heads.csv_otype:lst_usecol:trgw-0-34-10       75.3      1.72      70.6      78.6      7.74     0.164\n",
    "oname:heads.csv_otype:lst_usecol:trgw-0-21-10         75      1.33      72.1      78.8      7.71     0.116\n",
    "oname:heads.csv_otype:lst_usecol:trgw-0-2-15          75      2.42      69.7      81.5      7.71     0.239\n",
    "oname:heads.csv_otype:lst_usecol:trgw-0-33-7          75      1.02      71.1      77.5      7.71    0.0941\n",
    "oname:heads.csv_otype:lst_usecol:trgw-0-26-6        74.9      1.12        72        78       7.7    0.0973\n",
    "oname:heads.csv_otype:lst_usecol:trgw-0-24-4        74.9      1.57        70      77.8       7.7     0.159\n",
    "oname:heads.csv_otype:lst_usecol:trgw-0-13-10       74.7      1.92      69.4      79.1      7.68     0.174\n",
    "oname:heads.csv_otype:lst_usecol:trgw-0-3-8         74.1      2.08      68.2      79.3      7.61      0.17\n",
    "    Note: 'percent' is the percentage of the actual phi for each realization.\n",
    "    Note: only the first 10 highest mean phi groups are listed. See rec file for full listing\n",
    "\n",
    "  ---  initial phi summary  ---\n",
    "       phi type           mean            std            min            max\n",
    "       measured        1286.67        69.7363        982.983        1434.02\n",
    "         actual          972.7        9.33404         947.51        993.068"
   ]
  },
  {
   "cell_type": "code",
   "execution_count": null,
   "metadata": {},
   "outputs": [],
   "source": []
  }
 ],
 "metadata": {
  "kernelspec": {
   "display_name": "Python 3 (ipykernel)",
   "language": "python",
   "name": "python3"
  },
  "language_info": {
   "codemirror_mode": {
    "name": "ipython",
    "version": 3
   },
   "file_extension": ".py",
   "mimetype": "text/x-python",
   "name": "python",
   "nbconvert_exporter": "python",
   "pygments_lexer": "ipython3",
   "version": "3.12.7"
  }
 },
 "nbformat": 4,
 "nbformat_minor": 4
}
