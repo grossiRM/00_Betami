{
 "cells": [
  {
   "cell_type": "markdown",
   "metadata": {},
   "source": [
    "**GMDSI_part2_01_pstfrom_pest_setup_b_freyberg_pstfrom_pest_setup__01__** <font color='blue'> **Weights** </font> .. reimagine adventure"
   ]
  },
  {
   "cell_type": "code",
   "execution_count": 1,
   "metadata": {},
   "outputs": [],
   "source": [
    "import sys ; import os ; import platform ; from pathlib import Path ; import shutil                # ; import herebedragons as hbd\n",
    "import warnings ; warnings.filterwarnings(\"ignore\") ; import pandas as pd ; import numpy as np     # ; import helpers\n",
    "import matplotlib.pyplot as plt; import pyemu ; import flopy ; warnings.filterwarnings(\"ignore\", category=DeprecationWarning) "
   ]
  },
  {
   "cell_type": "code",
   "execution_count": 2,
   "metadata": {},
   "outputs": [],
   "source": [
    "sim_ws1   = tmp_d = Path('E:\\\\15_REPOS\\\\00_BETAMI\\\\97_GMDSI\\\\models\\\\monthly_model_files_1lyr_newstress_2')  ; sim_name = \"freyberg_mf6\"\n",
    "sim_ws    = Path(\"./part2_01_OUT_b\")                                                                         ; sim_ws.mkdir(exist_ok=True) \n",
    "exe_name  = 'E:\\\\15_REPOS\\\\00_BETAMI\\\\97_GMDSI\\\\00_bin\\\\mf6.exe'  ;  exe_name2  = 'E:\\\\15_REPOS\\\\00_BETAMI\\\\97_GMDSI\\\\00_bin\\\\mp7.exe'"
   ]
  },
  {
   "cell_type": "code",
   "execution_count": 3,
   "metadata": {},
   "outputs": [
    {
     "name": "stdout",
     "output_type": "stream",
     "text": [
      "mf6.exe\n",
      "mp7.exe freyberg_mp.mpsim\n"
     ]
    }
   ],
   "source": [
    "shutil.copytree(sim_ws1, sim_ws, dirs_exist_ok=True) ; sim = flopy.mf6.MFSimulation.load(sim_ws=sim_ws,verbosity_level=0) #; sim.set_sim_path(sim_ws) \n",
    "sim.run_simulation() ; pyemu.os_utils.run(\"mf6\",cwd=sim_ws) ; pyemu.os_utils.run(r'mp7 freyberg_mp.mpsim', cwd=sim_ws) ;gwf = sim.get_model()"
   ]
  },
  {
   "cell_type": "markdown",
   "metadata": {},
   "source": [
    "<font color='blue'> **OBS_PAR** </font> "
   ]
  },
  {
   "cell_type": "code",
   "execution_count": 4,
   "metadata": {},
   "outputs": [
    {
     "name": "stdout",
     "output_type": "stream",
     "text": [
      "   could not remove start_datetime\n",
      "xul:0; yul:10000; rotation:0; proj4_str:None; units:meters; lenuni:2; length_multiplier:1.0\n"
     ]
    }
   ],
   "source": [
    "sr = pyemu.helpers.SpatialReference.from_namfile(os.path.join(sim_ws, \"freyberg6.nam\"),delr=gwf.dis.delr.array, delc=gwf.dis.delc.array); print(sr)\n",
    "template_ws = os.path.join(sim_ws,\"freyberg6_template\")      ; start_datetime=\"1-1-2008\"                  # PEST Template\n",
    "pf = pyemu.utils.PstFrom(original_d=sim_ws, new_d=template_ws, \n",
    "                         remove_existing=True, longnames=True, spatial_reference=sr, zero_based=False, start_datetime=start_datetime, echo=False) "
   ]
  },
  {
   "cell_type": "code",
   "execution_count": 5,
   "metadata": {},
   "outputs": [
    {
     "name": "stdout",
     "output_type": "stream",
     "text": [
      "noptmax:0, npar_adj:0, nnz_obs:0\n"
     ]
    }
   ],
   "source": [
    "pst = pf.build_pst()"
   ]
  },
  {
   "cell_type": "code",
   "execution_count": 6,
   "metadata": {},
   "outputs": [
    {
     "data": {
      "text/html": [
       "<div>\n",
       "<style scoped>\n",
       "    .dataframe tbody tr th:only-of-type {\n",
       "        vertical-align: middle;\n",
       "    }\n",
       "\n",
       "    .dataframe tbody tr th {\n",
       "        vertical-align: top;\n",
       "    }\n",
       "\n",
       "    .dataframe thead th {\n",
       "        text-align: right;\n",
       "    }\n",
       "</style>\n",
       "<table border=\"1\" class=\"dataframe\">\n",
       "  <thead>\n",
       "    <tr style=\"text-align: right;\">\n",
       "      <th></th>\n",
       "      <th>parnme</th>\n",
       "      <th>partrans</th>\n",
       "      <th>parchglim</th>\n",
       "      <th>parval1</th>\n",
       "      <th>parlbnd</th>\n",
       "      <th>parubnd</th>\n",
       "      <th>pargp</th>\n",
       "      <th>scale</th>\n",
       "      <th>offset</th>\n",
       "      <th>dercom</th>\n",
       "    </tr>\n",
       "  </thead>\n",
       "  <tbody>\n",
       "  </tbody>\n",
       "</table>\n",
       "</div>"
      ],
      "text/plain": [
       "Empty DataFrame\n",
       "Columns: [parnme, partrans, parchglim, parval1, parlbnd, parubnd, pargp, scale, offset, dercom]\n",
       "Index: []"
      ]
     },
     "execution_count": 6,
     "metadata": {},
     "output_type": "execute_result"
    }
   ],
   "source": [
    "pst.parameter_data.head()"
   ]
  },
  {
   "cell_type": "code",
   "execution_count": 7,
   "metadata": {},
   "outputs": [],
   "source": [
    "PAR = pf.add_parameters('freyberg6.npf_k_layer1.txt',par_type='grid')\n",
    "hh = pd.read_csv(os.path.join(sim_ws, 'heads.csv'))  ;  OBS = pf.add_observations('heads.csv',index_cols='time',use_cols=hh.columns.tolist()[1:])"
   ]
  },
  {
   "cell_type": "code",
   "execution_count": 12,
   "metadata": {},
   "outputs": [
    {
     "data": {
      "text/html": [
       "<div>\n",
       "<style scoped>\n",
       "    .dataframe tbody tr th:only-of-type {\n",
       "        vertical-align: middle;\n",
       "    }\n",
       "\n",
       "    .dataframe tbody tr th {\n",
       "        vertical-align: top;\n",
       "    }\n",
       "\n",
       "    .dataframe thead th {\n",
       "        text-align: right;\n",
       "    }\n",
       "</style>\n",
       "<table border=\"1\" class=\"dataframe\">\n",
       "  <thead>\n",
       "    <tr style=\"text-align: right;\">\n",
       "      <th></th>\n",
       "      <th>parnme</th>\n",
       "      <th>parval1</th>\n",
       "      <th>i</th>\n",
       "      <th>j</th>\n",
       "      <th>x</th>\n",
       "      <th>y</th>\n",
       "      <th>pargp</th>\n",
       "      <th>tpl_filename</th>\n",
       "      <th>input_filename</th>\n",
       "      <th>partype</th>\n",
       "      <th>partrans</th>\n",
       "      <th>parubnd</th>\n",
       "      <th>parlbnd</th>\n",
       "      <th>parchglim</th>\n",
       "      <th>offset</th>\n",
       "      <th>dercom</th>\n",
       "      <th>scale</th>\n",
       "    </tr>\n",
       "  </thead>\n",
       "  <tbody>\n",
       "    <tr>\n",
       "      <th>pname:p_inst:0_ptype:gr_pstyle:m_i:0_j:0_x:125.00_y:9875.00</th>\n",
       "      <td>pname:p_inst:0_ptype:gr_pstyle:m_i:0_j:0_x:125.00_y:9875.00</td>\n",
       "      <td>1.0</td>\n",
       "      <td>0</td>\n",
       "      <td>0</td>\n",
       "      <td>125.0</td>\n",
       "      <td>9875.0</td>\n",
       "      <td>p_inst:0</td>\n",
       "      <td>part2_01_OUT_b\\freyberg6_template\\p_inst0_grid.csv.tpl</td>\n",
       "      <td>part2_01_OUT_b\\freyberg6_template\\mult\\p_inst0_grid.csv</td>\n",
       "      <td>grid</td>\n",
       "      <td>log</td>\n",
       "      <td>1.000000e+10</td>\n",
       "      <td>1.000000e-10</td>\n",
       "      <td>factor</td>\n",
       "      <td>0.0</td>\n",
       "      <td>1</td>\n",
       "      <td>1.0</td>\n",
       "    </tr>\n",
       "    <tr>\n",
       "      <th>pname:p_inst:0_ptype:gr_pstyle:m_i:0_j:1_x:375.00_y:9875.00</th>\n",
       "      <td>pname:p_inst:0_ptype:gr_pstyle:m_i:0_j:1_x:375.00_y:9875.00</td>\n",
       "      <td>1.0</td>\n",
       "      <td>0</td>\n",
       "      <td>1</td>\n",
       "      <td>375.0</td>\n",
       "      <td>9875.0</td>\n",
       "      <td>p_inst:0</td>\n",
       "      <td>part2_01_OUT_b\\freyberg6_template\\p_inst0_grid.csv.tpl</td>\n",
       "      <td>part2_01_OUT_b\\freyberg6_template\\mult\\p_inst0_grid.csv</td>\n",
       "      <td>grid</td>\n",
       "      <td>log</td>\n",
       "      <td>1.000000e+10</td>\n",
       "      <td>1.000000e-10</td>\n",
       "      <td>factor</td>\n",
       "      <td>0.0</td>\n",
       "      <td>1</td>\n",
       "      <td>1.0</td>\n",
       "    </tr>\n",
       "  </tbody>\n",
       "</table>\n",
       "</div>"
      ],
      "text/plain": [
       "                                                                                                                  parnme  parval1  i  j      x       y     pargp                                            tpl_filename                                           input_filename partype partrans       parubnd       parlbnd parchglim  offset  dercom  scale\n",
       "pname:p_inst:0_ptype:gr_pstyle:m_i:0_j:0_x:125.00_y:9875.00  pname:p_inst:0_ptype:gr_pstyle:m_i:0_j:0_x:125.00_y:9875.00      1.0  0  0  125.0  9875.0  p_inst:0  part2_01_OUT_b\\freyberg6_template\\p_inst0_grid.csv.tpl  part2_01_OUT_b\\freyberg6_template\\mult\\p_inst0_grid.csv    grid      log  1.000000e+10  1.000000e-10    factor     0.0       1    1.0\n",
       "pname:p_inst:0_ptype:gr_pstyle:m_i:0_j:1_x:375.00_y:9875.00  pname:p_inst:0_ptype:gr_pstyle:m_i:0_j:1_x:375.00_y:9875.00      1.0  0  1  375.0  9875.0  p_inst:0  part2_01_OUT_b\\freyberg6_template\\p_inst0_grid.csv.tpl  part2_01_OUT_b\\freyberg6_template\\mult\\p_inst0_grid.csv    grid      log  1.000000e+10  1.000000e-10    factor     0.0       1    1.0"
      ]
     },
     "execution_count": 12,
     "metadata": {},
     "output_type": "execute_result"
    }
   ],
   "source": [
    "PAR.head(2)"
   ]
  },
  {
   "cell_type": "code",
   "execution_count": 13,
   "metadata": {},
   "outputs": [
    {
     "data": {
      "text/html": [
       "<div>\n",
       "<style scoped>\n",
       "    .dataframe tbody tr th:only-of-type {\n",
       "        vertical-align: middle;\n",
       "    }\n",
       "\n",
       "    .dataframe tbody tr th {\n",
       "        vertical-align: top;\n",
       "    }\n",
       "\n",
       "    .dataframe thead th {\n",
       "        text-align: right;\n",
       "    }\n",
       "</style>\n",
       "<table border=\"1\" class=\"dataframe\">\n",
       "  <thead>\n",
       "    <tr style=\"text-align: right;\">\n",
       "      <th></th>\n",
       "      <th>obsnme</th>\n",
       "      <th>obsval</th>\n",
       "      <th>weight</th>\n",
       "      <th>obgnme</th>\n",
       "    </tr>\n",
       "  </thead>\n",
       "  <tbody>\n",
       "    <tr>\n",
       "      <th>oname:heads.csv_otype:lst_usecol:trgw-0-13-10_time:3652.5</th>\n",
       "      <td>oname:heads.csv_otype:lst_usecol:trgw-0-13-10_time:3652.5</td>\n",
       "      <td>34.797358</td>\n",
       "      <td>1.0</td>\n",
       "      <td>oname:heads.csv_otype:lst_usecol:trgw-0-13-10</td>\n",
       "    </tr>\n",
       "    <tr>\n",
       "      <th>oname:heads.csv_otype:lst_usecol:trgw-0-13-10_time:3683.5</th>\n",
       "      <td>oname:heads.csv_otype:lst_usecol:trgw-0-13-10_time:3683.5</td>\n",
       "      <td>34.768494</td>\n",
       "      <td>1.0</td>\n",
       "      <td>oname:heads.csv_otype:lst_usecol:trgw-0-13-10</td>\n",
       "    </tr>\n",
       "    <tr>\n",
       "      <th>oname:heads.csv_otype:lst_usecol:trgw-0-13-10_time:3712.5</th>\n",
       "      <td>oname:heads.csv_otype:lst_usecol:trgw-0-13-10_time:3712.5</td>\n",
       "      <td>34.821230</td>\n",
       "      <td>1.0</td>\n",
       "      <td>oname:heads.csv_otype:lst_usecol:trgw-0-13-10</td>\n",
       "    </tr>\n",
       "  </tbody>\n",
       "</table>\n",
       "</div>"
      ],
      "text/plain": [
       "                                                                                                              obsnme     obsval  weight                                         obgnme\n",
       "oname:heads.csv_otype:lst_usecol:trgw-0-13-10_time:3652.5  oname:heads.csv_otype:lst_usecol:trgw-0-13-10_time:3652.5  34.797358     1.0  oname:heads.csv_otype:lst_usecol:trgw-0-13-10\n",
       "oname:heads.csv_otype:lst_usecol:trgw-0-13-10_time:3683.5  oname:heads.csv_otype:lst_usecol:trgw-0-13-10_time:3683.5  34.768494     1.0  oname:heads.csv_otype:lst_usecol:trgw-0-13-10\n",
       "oname:heads.csv_otype:lst_usecol:trgw-0-13-10_time:3712.5  oname:heads.csv_otype:lst_usecol:trgw-0-13-10_time:3712.5  34.821230     1.0  oname:heads.csv_otype:lst_usecol:trgw-0-13-10"
      ]
     },
     "execution_count": 13,
     "metadata": {},
     "output_type": "execute_result"
    }
   ],
   "source": [
    "OBS.head(3)"
   ]
  },
  {
   "cell_type": "code",
   "execution_count": null,
   "metadata": {},
   "outputs": [],
   "source": []
  }
 ],
 "metadata": {
  "kernelspec": {
   "display_name": "Python 3 (ipykernel)",
   "language": "python",
   "name": "python3"
  },
  "language_info": {
   "codemirror_mode": {
    "name": "ipython",
    "version": 3
   },
   "file_extension": ".py",
   "mimetype": "text/x-python",
   "name": "python",
   "nbconvert_exporter": "python",
   "pygments_lexer": "ipython3",
   "version": "3.11.11"
  }
 },
 "nbformat": 4,
 "nbformat_minor": 4
}
