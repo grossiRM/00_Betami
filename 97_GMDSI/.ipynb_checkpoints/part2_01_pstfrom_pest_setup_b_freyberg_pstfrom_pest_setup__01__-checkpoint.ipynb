{
 "cells": [
  {
   "cell_type": "markdown",
   "metadata": {},
   "source": [
    "**GMDSI_part2_01_pstfrom_pest_setup_b_freyberg_pstfrom_pest_setup__01__**"
   ]
  },
  {
   "cell_type": "code",
   "execution_count": 1,
   "metadata": {},
   "outputs": [],
   "source": [
    "import sys ; import os ; import platform ; from pathlib import Path ; import shutil                # ; import herebedragons as hbd\n",
    "import warnings ; warnings.filterwarnings(\"ignore\") ; import pandas as pd ; import numpy as np     # ; import helpers\n",
    "import matplotlib.pyplot as plt; import pyemu ; import flopy ; warnings.filterwarnings(\"ignore\", category=DeprecationWarning) "
   ]
  },
  {
   "cell_type": "code",
   "execution_count": 2,
   "metadata": {},
   "outputs": [],
   "source": [
    "sim_ws1   = tmp_d = Path('E:\\\\15_REPOS\\\\00_BETAMI\\\\97_GMDSI\\\\models\\\\monthly_model_files_1lyr_newstress')  ; sim_name = \"freyberg_mf6\"\n",
    "sim_ws    = Path(\"./part2_01_OUT\")                                                                         ; sim_ws.mkdir(exist_ok=True) \n",
    "exe_name  = 'E:\\\\15_REPOS\\\\00_BETAMI\\\\97_GMDSI\\\\00_bin\\\\mf6.exe'  ;  exe_name2  = 'E:\\\\15_REPOS\\\\00_BETAMI\\\\97_GMDSI\\\\00_bin\\\\mp7.exe'"
   ]
  },
  {
   "cell_type": "code",
   "execution_count": 3,
   "metadata": {},
   "outputs": [
    {
     "name": "stdout",
     "output_type": "stream",
     "text": [
      "mf6.exe\n",
      "mp7.exe freyberg_mp.mpsim\n"
     ]
    }
   ],
   "source": [
    "shutil.copytree(sim_ws1, sim_ws, dirs_exist_ok=True) ; sim = flopy.mf6.MFSimulation.load(sim_ws=sim_ws,verbosity_level=0) #; sim.set_sim_path(sim_ws) \n",
    "sim.run_simulation() ; pyemu.os_utils.run(\"mf6\",cwd=sim_ws) ; pyemu.os_utils.run(r'mp7 freyberg_mp.mpsim', cwd=sim_ws) ;gwf = sim.get_model()"
   ]
  },
  {
   "cell_type": "code",
   "execution_count": 4,
   "metadata": {},
   "outputs": [
    {
     "name": "stdout",
     "output_type": "stream",
     "text": [
      "   could not remove start_datetime\n",
      "xul:0; yul:10000; rotation:0; proj4_str:None; units:meters; lenuni:2; length_multiplier:1.0\n"
     ]
    }
   ],
   "source": [
    "sr = pyemu.helpers.SpatialReference.from_namfile(os.path.join(sim_ws, \"freyberg6.nam\"),delr=gwf.dis.delr.array, delc=gwf.dis.delc.array); print(sr)\n",
    "template_ws = os.path.join(sim_ws,\"freyberg6_template\")      ; start_datetime=\"1-1-2008\"                  # PEST Template\n",
    "pf = pyemu.utils.PstFrom(original_d=sim_ws, new_d=template_ws, \n",
    "                         remove_existing=True, longnames=True, spatial_reference=sr, zero_based=False, start_datetime=start_datetime, echo=False) "
   ]
  },
  {
   "cell_type": "code",
   "execution_count": 5,
   "metadata": {},
   "outputs": [],
   "source": [
    "sys.path.insert(0,\"models_b\")        ; import herebedragons1 as hbd    ; hbd.prep_bins(template_ws)         "
   ]
  },
  {
   "cell_type": "code",
   "execution_count": 6,
   "metadata": {},
   "outputs": [
    {
     "name": "stdout",
     "output_type": "stream",
     "text": [
      "['sfr.csv']\n",
      "['heads.csv']\n"
     ]
    }
   ],
   "source": [
    "os.listdir(template_ws); \n",
    "for i in gwf.obs:         print(i.output.obs_names)"
   ]
  },
  {
   "cell_type": "code",
   "execution_count": 7,
   "metadata": {},
   "outputs": [
    {
     "name": "stdout",
     "output_type": "stream",
     "text": [
      "list ['heads.csv.ins', 'sfr.csv.ins']\n"
     ]
    }
   ],
   "source": [
    "df1 = pd.read_csv(os.path.join(template_ws,\"heads.csv\") ,index_col=0)                                            ; df1.to_csv (sim_ws/\"01_H.csv\")  \n",
    "df2 = pd.read_csv(os.path.join(template_ws,\"sfr.csv\")   ,index_col=0)                                          ; df2.to_csv (sim_ws/\"02_SFR.csv\") \n",
    "\n",
    "hds_df1 = pf.add_observations          (\"heads.csv\", insfile=\"heads.csv.ins\", index_cols=\"time\", use_cols=list(df1.columns.values), prefix=\"hds\") \n",
    "sfr_df2 = pf.add_observations          (\"sfr.csv\"  , insfile=\"sfr.csv.ins\"  , index_cols=\"time\", use_cols=list(df2.columns.values), prefix=\"sfr\")  \n",
    "p1_ins = [f for f in os.listdir(template_ws) if f.endswith(\".ins\")]; print('list', p1_ins)           ; hds_df1.to_csv (sim_ws/\"03ab_hds_df1.csv\")  ;"
   ]
  },
  {
   "cell_type": "markdown",
   "metadata": {},
   "source": [
    "<font color='blue'> **Freyberg** </font> **1 layer - transient - Kh, Kv, Ss, Sy varing in space**<font color='blue'> **`GHB`__cte time, varing spatially -`SFR`__varing in time - `WEL`__pumping rates varing in time and space)** </font>"
   ]
  },
  {
   "cell_type": "code",
   "execution_count": 8,
   "metadata": {},
   "outputs": [],
   "source": [
    "v_grid   = pyemu.geostats.ExpVario (contribution=1.0, a=1000  , anisotropy=1.0, bearing=0.0)  \n",
    "v_pp     = pyemu.geostats.ExpVario (contribution=1.0, a=15000 , anisotropy=1.0, bearing=0.0 ) \n",
    "v_time   = pyemu.geostats.ExpVario (contribution=1.0, a=60    , anisotropy=1.0, bearing=0.0 ) \n",
    "grid_gs     = pyemu.geostats.GeoStruct (variograms=v_grid     , transform='log')\n",
    "pp_gs       = pyemu.geostats.GeoStruct (variograms=v_pp       , transform='log') \n",
    "temporal_gs = pyemu.geostats.GeoStruct (variograms=v_time     , transform='none')"
   ]
  },
  {
   "cell_type": "code",
   "execution_count": null,
   "metadata": {},
   "outputs": [],
   "source": []
  },
  {
   "cell_type": "code",
   "execution_count": 9,
   "metadata": {},
   "outputs": [
    {
     "data": {
      "image/png": "[encoded data removed]",
      "text/plain": [
       "<Figure size 1200x600 with 3 Axes>"
      ]
     },
     "metadata": {},
     "output_type": "display_data"
    }
   ],
   "source": [
    "def beta_plot(ax):\n",
    "    aa = grid_gs.plot(ax=ax1)  ; ab = pp_gs.plot  (ax=ax2)  ; ac = temporal_gs.plot(ax=ax3)\n",
    "plt.figure(figsize=(12,6))\n",
    "ax1 = plt.subplot2grid((3, 3), (0, 0), colspan=1, rowspan=1) ; ax1.text(2000,.5  ,\"Grid_Variogram\",ha=\"center\",fontsize=10)\n",
    "ax2 = plt.subplot2grid((3, 3), (0, 1), colspan=1, rowspan=1) ; ax2.text(30000,.5 ,\"v_pp_Variogram\",ha=\"center\",fontsize=10)\n",
    "ax3 = plt.subplot2grid((3, 3), (0, 2), colspan=1, rowspan=1) ; ax3.text(120,.5   ,\"time_Variogram\",ha=\"center\",fontsize=10)\n",
    "beta_plot(ax1) ; beta_plot(ax2) ; beta_plot(ax3)"
   ]
  },
  {
   "cell_type": "code",
   "execution_count": 10,
   "metadata": {},
   "outputs": [
    {
     "name": "stdout",
     "output_type": "stream",
     "text": [
      "['freyberg6.npf_k_layer1.txt']\n",
      "(40, 20)\n"
     ]
    }
   ],
   "source": [
    "tag = \"npf_k_\"  ; files = [f for f in os.listdir(template_ws) if tag in f.lower() and f.endswith(\".txt\")]  ; print(files)\n",
    "k1 = np.loadtxt(os.path.join(template_ws,'freyberg6.npf_k_layer1.txt')); print(k1.shape) ; k1 = pd.DataFrame(k1)    ; k1.to_csv (sim_ws/ \"04_k1.csv\") "
   ]
  },
  {
   "cell_type": "markdown",
   "metadata": {},
   "source": [
    "<font color='blue'> **coarse scale** </font> constant K, single layer <font color='blue'> **coarse scale** </font> pilot points <font color='blue'> **coarse scale** </font> a unique K each cell"
   ]
  },
  {
   "cell_type": "code",
   "execution_count": 11,
   "metadata": {},
   "outputs": [],
   "source": [
    "ib = gwf.dis.idomain.array[0]  #; plt.imshow(ib)  "
   ]
  },
  {
   "cell_type": "raw",
   "metadata": {},
   "source": [
    "f = 'freyberg6.npf_k_layer1.txt'\n",
    "def fix_wrapped_float(arr_file, out_file):\n",
    "\tarr = pd.read_fwf(arr_file, header=None).values ;arr = arr[~np.isnan(arr)] ;arr = arr.reshape((nrow,ncol)) ;np.savetxt(out_file,arr,fmt=\"%15.6E\")"
   ]
  },
  {
   "cell_type": "code",
   "execution_count": 12,
   "metadata": {},
   "outputs": [],
   "source": [
    "f = 'freyberg6.npf_k_layer1.txt'\n",
    "\n",
    "df_gr = pf.add_parameters(f,zone_array=ib, par_type=\"grid\", geostruct=grid_gs, par_name_base=f.split('.')[1].replace(\"_\",\"\")+\"gr\", \n",
    "                          pargp=f.split('.')[1].replace(\"_\",\"\")+\"gr\", lower_bound=0.2, upper_bound=5.0, ult_ubound=100, ult_lbound=0.01 )\n",
    "df_gr = pd.DataFrame(df_gr)    ; df_gr.to_csv (sim_ws/ \"05a_df_gr.csv\")  ; df_gr.head(2); #[f for f in os.listdir(template_ws) if f.endswith(\".tpl\")]"
   ]
  },
  {
   "cell_type": "code",
   "execution_count": 13,
   "metadata": {},
   "outputs": [
    {
     "name": "stdout",
     "output_type": "stream",
     "text": [
      "starting interp point loop for 706 points\n",
      "starting 0\n",
      "starting 1\n",
      "starting 2\n",
      "starting 3\n",
      "starting 4\n",
      "starting 5\n",
      "starting 6\n",
      "starting 7\n",
      "starting 8\n",
      "starting 9\n",
      "took 4.480013 seconds\n",
      "pilot points\n"
     ]
    }
   ],
   "source": [
    "df_pp = pf.add_parameters(f,zone_array=ib,par_type=\"pilotpoints\",geostruct=pp_gs,par_name_base=f.split('.')[1].replace(\"_\",\"\")+\"pp\",\n",
    "                          pargp=f.split('.')[1].replace(\"_\",\"\")+\"pp\",lower_bound=0.2,upper_bound=5.0,ult_ubound=100, ult_lbound=0.01,\n",
    "                          pp_space=5) \n",
    "df_pp = pd.DataFrame(df_pp)    ; df_pp.to_csv (sim_ws/ \"05b_df_pp.csv\"); print('pilot points') \n",
    "# fig,ax = plt.subplots(1,1,figsize=(2,3)) ; ax.set_aspect(\"equal\") ; ax.pcolormesh(sr.xcentergrid, sr.ycentergrid,ib) ; ax.scatter(df_pp.x,df_pp.y)\n",
    "df_cst = pf.add_parameters(f,zone_array=ib,par_type=\"constant\",geostruct=grid_gs,par_name_base=f.split('.')[1].replace(\"_\",\"\")+\"cn\",\n",
    "                           pargp=f.split('.')[1].replace(\"_\",\"\")+\"cn\",lower_bound=0.2,upper_bound=5.0,ult_ubound=100, ult_lbound=0.01)\n",
    "df_cst = pd.DataFrame(df_cst)    ; df_cst.to_csv (sim_ws/ \"05c_df_cte.csv\")"
   ]
  },
  {
   "cell_type": "code",
   "execution_count": 14,
   "metadata": {},
   "outputs": [],
   "source": [
    "df = pf.add_observations(f,prefix=\"hk\",zone_array=ib) ; df.to_csv (sim_ws/ \"06_HK_as_observations.csv\")"
   ]
  },
  {
   "cell_type": "markdown",
   "metadata": {},
   "source": [
    "<font color='blue'> **parameterization** </font> ...again"
   ]
  },
  {
   "cell_type": "code",
   "execution_count": 15,
   "metadata": {},
   "outputs": [],
   "source": [
    "def add_mult_pars(f, lb=0.2, ub=5.0, ulb=0.01, uub=100, add_coarse=True):\n",
    "    if isinstance(f,str):    base  = f.split   (\".\")[1].replace(\"_\",\"\")\n",
    "    else:                    base  = f[0].split(\".\")[1]\n",
    "    pf.add_parameters(f,zone_array = ib,par_type=\"grid\"  ,geostruct=grid_gs, par_name_base=base+\"gr\", pargp=base+\"gr\", lower_bound=lb, \n",
    "                      upper_bound  = ub, ult_ubound=uub  ,ult_lbound=ulb)\n",
    "    pf.add_parameters(f,zone_array = ib,par_type=\"pilotpoints\",geostruct=pp_gs,par_name_base=base+\"pp\",pargp=base+\"pp\",lower_bound=lb, \n",
    "                      upper_bound  = ub,ult_ubound=uub   ,ult_lbound=ulb ,pp_space=5) \n",
    "    if add_coarse==True:\n",
    "        pf.add_parameters(f,zone_array=ib,par_type=\"constant\",geostruct=grid_gs,par_name_base=base+\"cn\",pargp=base+\"cn\",lower_bound=lb, \n",
    "                          upper_bound=ub,ult_ubound=uub, ult_lbound=ulb)                       ; return"
   ]
  },
  {
   "cell_type": "code",
   "execution_count": 16,
   "metadata": {},
   "outputs": [
    {
     "name": "stdout",
     "output_type": "stream",
     "text": [
      "PAR_groups_first_batch_K= 3\n"
     ]
    },
    {
     "data": {
      "text/plain": [
       "['npfklayer1cn_inst0_constant.csv.tpl',\n",
       " 'npfklayer1gr_inst0_grid.csv.tpl',\n",
       " 'npfklayer1pp_inst0pp.dat.tpl']"
      ]
     },
     "execution_count": 16,
     "metadata": {},
     "output_type": "execute_result"
    }
   ],
   "source": [
    "qde_PAR1 = len([f for f in os.listdir(template_ws) if f.endswith(\".tpl\")]); print('PAR_groups_first_batch_K=',qde_PAR1)\n",
    "[f for f in os.listdir(template_ws) if f.endswith(\".tpl\")]"
   ]
  },
  {
   "cell_type": "code",
   "execution_count": 17,
   "metadata": {},
   "outputs": [],
   "source": [
    "#tag = \"sto_ss\"       ; files =         [f for f in  os.listdir(template_ws) if tag in f.lower() and f.endswith(\".txt\")]\n",
    "#for f in files[1:]:    add_mult_pars   (f, lb=0.2 , ub=5.0,   ulb=1e-7 ,uub=1e-3)\n",
    "tag = \"sto_sy\"       ; files =         [f for f in  os.listdir(template_ws) if tag in f.lower() and f.endswith(\".txt\")]\n",
    "f = files[0]         ; add_mult_pars   (f, lb=0.2 , ub=5.0,   ulb=0.01 ,uub=0.4)\n",
    "tag = \"ne_\"          ; files =         [f for f in os.listdir(template_ws) if tag in f.lower() and f.endswith(\".txt\")]\n",
    "for f in files:        add_mult_pars   (f, lb=0.2 , ub=5.0,   ulb=0.01 ,uub=0.4)"
   ]
  },
  {
   "cell_type": "code",
   "execution_count": 18,
   "metadata": {},
   "outputs": [
    {
     "name": "stdout",
     "output_type": "stream",
     "text": [
      "3 + PAR_groups_second_batch_sto(SsSy,)_ne_= 15\n"
     ]
    }
   ],
   "source": [
    "qde_PAR2 = len([f for f in os.listdir(template_ws) if f.endswith(\".tpl\")]); print(qde_PAR1,'+','PAR_groups_second_batch_sto(SsSy,)_ne_=',qde_PAR2)\n",
    "#[f for f in os.listdir(template_ws) if f.endswith(\".tpl\")]"
   ]
  },
  {
   "cell_type": "markdown",
   "metadata": {},
   "source": [
    "<font color='blue'> **recharge | space and time uncertainties** </font> ... 1º cte in space varing in time; 2º cte in time varing in space "
   ]
  },
  {
   "cell_type": "code",
   "execution_count": 19,
   "metadata": {},
   "outputs": [],
   "source": [
    "dts = pd.to_datetime(start_datetime) + pd.to_timedelta(np.cumsum(sim.tdis.perioddata.array[\"perlen\"]),unit='d')\n",
    "dts2 = pd.DataFrame(dts)    ; dts2.to_csv (sim_ws/ \"07_HK_Perlen.csv\") "
   ]
  },
  {
   "cell_type": "code",
   "execution_count": 20,
   "metadata": {},
   "outputs": [
    {
     "name": "stdout",
     "output_type": "stream",
     "text": [
      "15 +\n"
     ]
    }
   ],
   "source": [
    "tag = \"rch_recharge\"   ;   files = [f for f in os.listdir(template_ws) if tag in f.lower() and f.endswith(\".txt\")]\n",
    "sp = [int(f.split(\".\")[1].split('_')[-1]) for f in files]    \n",
    "dd = {s:f for s,f in zip(sp,files)}   ;  sp.sort()                  ; files = [dd[s] for s in sp]                                # dd\n",
    "print(qde_PAR2,'+')                                  ; add_mult_pars (files, lb=0.2, ub=5.0, ulb=0, uub=1e-3, add_coarse=False)    # fron function"
   ]
  },
  {
   "cell_type": "code",
   "execution_count": 21,
   "metadata": {},
   "outputs": [
    {
     "name": "stdout",
     "output_type": "stream",
     "text": [
      "15 +2 PAR_groups_third_batch_RCH1(space)= 17\n"
     ]
    }
   ],
   "source": [
    "qde_PAR3 = len([f for f in os.listdir(template_ws) if f.endswith(\".tpl\")]); print(qde_PAR2,'+2', 'PAR_groups_third_batch_RCH1(space)=',qde_PAR3)\n",
    "#[f for f in os.listdir(template_ws) if f.endswith(\".tpl\")]"
   ]
  },
  {
   "cell_type": "code",
   "execution_count": 22,
   "metadata": {},
   "outputs": [
    {
     "data": {
      "text/html": [
       "<div>\n",
       "<style scoped>\n",
       "    .dataframe tbody tr th:only-of-type {\n",
       "        vertical-align: middle;\n",
       "    }\n",
       "\n",
       "    .dataframe tbody tr th {\n",
       "        vertical-align: top;\n",
       "    }\n",
       "\n",
       "    .dataframe thead th {\n",
       "        text-align: right;\n",
       "    }\n",
       "</style>\n",
       "<table border=\"1\" class=\"dataframe\">\n",
       "  <thead>\n",
       "    <tr style=\"text-align: right;\">\n",
       "      <th></th>\n",
       "      <th>0</th>\n",
       "    </tr>\n",
       "  </thead>\n",
       "  <tbody>\n",
       "    <tr>\n",
       "      <th>23</th>\n",
       "      <td>freyberg6.rch_recharge_24.txt</td>\n",
       "    </tr>\n",
       "    <tr>\n",
       "      <th>24</th>\n",
       "      <td>freyberg6.rch_recharge_25.txt</td>\n",
       "    </tr>\n",
       "  </tbody>\n",
       "</table>\n",
       "</div>"
      ],
      "text/plain": [
       "                                0\n",
       "23  freyberg6.rch_recharge_24.txt\n",
       "24  freyberg6.rch_recharge_25.txt"
      ]
     },
     "execution_count": 22,
     "metadata": {},
     "output_type": "execute_result"
    }
   ],
   "source": [
    "ffiles = pd.DataFrame(files) ; ffiles.tail(2)"
   ]
  },
  {
   "cell_type": "code",
   "execution_count": 23,
   "metadata": {},
   "outputs": [],
   "source": [
    "for f in files:   \n",
    "    kper = int(f.split('.')[1].split('_')[-1]) - 1  \n",
    "    pf.add_parameters(filenames=f  ,zone_array=ib,par_type=\"constant\",par_name_base=f.split('.')[1]+\"tcn\",pargp=f.split('.')[1]+\"tcn\",\n",
    "                      lower_bound=0.5, upper_bound=1.5,ult_ubound=1e-3, ult_lbound=0,datetime=dts[kper], geostruct=temporal_gs)"
   ]
  },
  {
   "cell_type": "code",
   "execution_count": 24,
   "metadata": {},
   "outputs": [
    {
     "name": "stdout",
     "output_type": "stream",
     "text": [
      "17 +25  PAR_groups_fourth_batch_RCH_2(time)= 42\n"
     ]
    }
   ],
   "source": [
    "qde_PAR4 = len([f for f in os.listdir(template_ws) if f.endswith(\".tpl\")]); print(qde_PAR3,'+25  ''PAR_groups_fourth_batch_RCH_2(time)=',qde_PAR4)\n",
    "#[f for f in os.listdir(template_ws) if f.endswith(\".tpl\")]"
   ]
  },
  {
   "cell_type": "code",
   "execution_count": 25,
   "metadata": {},
   "outputs": [
    {
     "name": "stdout",
     "output_type": "stream",
     "text": [
      "['freyberg6.ghb_stress_period_data_1.txt']\n"
     ]
    }
   ],
   "source": [
    "tag = \"ghb_stress_period_data\"    ; files = [f for f in os.listdir(template_ws) if tag in f.lower() and f.endswith(\".txt\")]; print(files)"
   ]
  },
  {
   "cell_type": "code",
   "execution_count": 26,
   "metadata": {},
   "outputs": [],
   "source": [
    "tag = \"ghb_stress_period_data\"    ; files = [f for f in os.listdir(template_ws) if tag in f.lower() and f.endswith(\".txt\")]\n",
    "for f in files:\n",
    "    name = 'ghbcond'\n",
    "    pf.add_parameters(f,par_type=\"grid\",geostruct=grid_gs,par_name_base=name+\"gr\",pargp=name+\"gr\",index_cols=[0,1,2], use_cols=[4],\n",
    "                      lower_bound=0.1,upper_bound=10.0)\n",
    "    pf.add_parameters(f,par_type=\"constant\",geostruct=grid_gs,par_name_base=name+\"cn\",pargp=name+\"cn\",index_cols=[0,1,2],use_cols=[4],\n",
    "                      lower_bound=0.1,upper_bound=10.0,ult_lbound=0.01, ult_ubound=100) \n",
    "    name = 'ghbhead'\n",
    "    pf.add_parameters(f,par_type=\"grid\",geostruct=grid_gs,par_name_base=name+\"gr\",pargp=name+\"gr\",index_cols=[0,1,2],use_cols=[3],\n",
    "                      lower_bound=-2.0,upper_bound=2.0,par_style=\"a\", transform=\"none\", ult_lbound=32.5, ult_ubound=42) \n",
    "    pf.add_parameters(f,par_type=\"constant\",geostruct=grid_gs,par_name_base=name+\"cn\",pargp=name+\"cn\",index_cols=[0,1,2],use_cols=[3],\n",
    "                      lower_bound=-2.0,upper_bound=2.0, par_style=\"a\", transform=\"none\",ult_lbound=32.5, ult_ubound=42) "
   ]
  },
  {
   "cell_type": "code",
   "execution_count": 27,
   "metadata": {},
   "outputs": [
    {
     "name": "stdout",
     "output_type": "stream",
     "text": [
      "42 +4  PAR_groups_fourth_batch_GHB= 46\n"
     ]
    }
   ],
   "source": [
    "qde_PAR5 = len([f for f in os.listdir(template_ws) if f.endswith(\".tpl\")]); print(qde_PAR4,'+4  ''PAR_groups_fourth_batch_GHB=',qde_PAR5)\n",
    "#[f for f in os.listdir(template_ws) if f.endswith(\".tpl\")]"
   ]
  },
  {
   "cell_type": "code",
   "execution_count": 28,
   "metadata": {},
   "outputs": [
    {
     "data": {
      "text/html": [
       "<div>\n",
       "<style scoped>\n",
       "    .dataframe tbody tr th:only-of-type {\n",
       "        vertical-align: middle;\n",
       "    }\n",
       "\n",
       "    .dataframe tbody tr th {\n",
       "        vertical-align: top;\n",
       "    }\n",
       "\n",
       "    .dataframe thead th {\n",
       "        text-align: right;\n",
       "    }\n",
       "</style>\n",
       "<table border=\"1\" class=\"dataframe\">\n",
       "  <thead>\n",
       "    <tr style=\"text-align: right;\">\n",
       "      <th></th>\n",
       "      <th>0</th>\n",
       "    </tr>\n",
       "  </thead>\n",
       "  <tbody>\n",
       "    <tr>\n",
       "      <th>23</th>\n",
       "      <td>freyberg6.wel_stress_period_data_8.txt</td>\n",
       "    </tr>\n",
       "    <tr>\n",
       "      <th>24</th>\n",
       "      <td>freyberg6.wel_stress_period_data_9.txt</td>\n",
       "    </tr>\n",
       "  </tbody>\n",
       "</table>\n",
       "</div>"
      ],
      "text/plain": [
       "                                         0\n",
       "23  freyberg6.wel_stress_period_data_8.txt\n",
       "24  freyberg6.wel_stress_period_data_9.txt"
      ]
     },
     "execution_count": 28,
     "metadata": {},
     "output_type": "execute_result"
    }
   ],
   "source": [
    "files = [f for f in os.listdir(template_ws) if \"wel_stress_period_data\" in f and f.endswith(\".txt\")]; ffiles = pd.DataFrame(files) ; ffiles.tail(2)"
   ]
  },
  {
   "cell_type": "code",
   "execution_count": 29,
   "metadata": {},
   "outputs": [],
   "source": [
    "files = [f for f in os.listdir(template_ws) if \"wel_stress_period_data\" in f and f.endswith(\".txt\")]\n",
    "sp = [int(f.split(\".\")[1].split('_')[-1]) for f in files]      ; d = {s:f for s,f in zip(sp,files)}     ; sp.sort() ; files = [d[s] for s in sp]\n",
    "for f in files:\n",
    "    kper = int(f.split('.')[1].split('_')[-1]) - 1  \n",
    "    pf.add_parameters(filenames=f,index_cols=[0,1,2]    ,use_cols=[3]       ,par_type=\"constant\" ,par_name_base=\"welcst\",pargp=\"welcst\", \n",
    "                      upper_bound = 4, lower_bound=0.25 ,datetime=dts[kper] ,geostruct=temporal_gs)\n",
    "    pf.add_parameters(filenames=f,index_cols=[0,1,2]    ,use_cols=[3]       , par_type=\"grid\"    ,par_name_base=\"welgrd\",pargp=\"welgrd\", \n",
    "                      upper_bound = 4, lower_bound=0.25 ,datetime=dts[kper])"
   ]
  },
  {
   "cell_type": "code",
   "execution_count": 30,
   "metadata": {},
   "outputs": [
    {
     "name": "stdout",
     "output_type": "stream",
     "text": [
      "46 +25|+25  PAR_groups_fifth_batch_Wel(cte|grid)= 96\n"
     ]
    }
   ],
   "source": [
    "qde_PAR6 = len([f for f in os.listdir(template_ws) if f.endswith(\".tpl\")]); print(qde_PAR5,'+25|+25  ''PAR_groups_fifth_batch_Wel(cte|grid)=',qde_PAR6)\n",
    "#[f for f in os.listdir(template_ws) if f.endswith(\".tpl\")]"
   ]
  },
  {
   "cell_type": "code",
   "execution_count": 31,
   "metadata": {},
   "outputs": [
    {
     "data": {
      "text/html": [
       "<div>\n",
       "<style scoped>\n",
       "    .dataframe tbody tr th:only-of-type {\n",
       "        vertical-align: middle;\n",
       "    }\n",
       "\n",
       "    .dataframe tbody tr th {\n",
       "        vertical-align: top;\n",
       "    }\n",
       "\n",
       "    .dataframe thead th {\n",
       "        text-align: right;\n",
       "    }\n",
       "</style>\n",
       "<table border=\"1\" class=\"dataframe\">\n",
       "  <thead>\n",
       "    <tr style=\"text-align: right;\">\n",
       "      <th></th>\n",
       "      <th>parnme</th>\n",
       "      <th>pargp</th>\n",
       "      <th>covgp</th>\n",
       "      <th>tpl_filename</th>\n",
       "      <th>input_filename</th>\n",
       "      <th>parval1</th>\n",
       "      <th>partype</th>\n",
       "      <th>partrans</th>\n",
       "      <th>parubnd</th>\n",
       "      <th>parlbnd</th>\n",
       "      <th>offset</th>\n",
       "      <th>parchglim</th>\n",
       "      <th>scale</th>\n",
       "      <th>dercom</th>\n",
       "    </tr>\n",
       "  </thead>\n",
       "  <tbody>\n",
       "    <tr>\n",
       "      <th>pname:sfrcondcn_inst:0_ptype:cn_usecol:9_pstyle:m</th>\n",
       "      <td>pname:sfrcondcn_inst:0_ptype:cn_usecol:9_pstyle:m</td>\n",
       "      <td>sfrcondcn</td>\n",
       "      <td>sfrcondcn</td>\n",
       "      <td>part2_01_OUT\\freyberg6_template\\sfrcondcn_inst0_constant.csv.tpl</td>\n",
       "      <td>part2_01_OUT\\freyberg6_template\\mult\\sfrcondcn_inst0_constant.csv</td>\n",
       "      <td>1.0</td>\n",
       "      <td>constant</td>\n",
       "      <td>log</td>\n",
       "      <td>10.0</td>\n",
       "      <td>0.1</td>\n",
       "      <td>0.0</td>\n",
       "      <td>factor</td>\n",
       "      <td>1.0</td>\n",
       "      <td>1</td>\n",
       "    </tr>\n",
       "  </tbody>\n",
       "</table>\n",
       "</div>"
      ],
      "text/plain": [
       "                                                                                              parnme  \\\n",
       "pname:sfrcondcn_inst:0_ptype:cn_usecol:9_pstyle:m  pname:sfrcondcn_inst:0_ptype:cn_usecol:9_pstyle:m   \n",
       "\n",
       "                                                       pargp      covgp  \\\n",
       "pname:sfrcondcn_inst:0_ptype:cn_usecol:9_pstyle:m  sfrcondcn  sfrcondcn   \n",
       "\n",
       "                                                                                                       tpl_filename  \\\n",
       "pname:sfrcondcn_inst:0_ptype:cn_usecol:9_pstyle:m  part2_01_OUT\\freyberg6_template\\sfrcondcn_inst0_constant.csv.tpl   \n",
       "\n",
       "                                                                                                      input_filename  \\\n",
       "pname:sfrcondcn_inst:0_ptype:cn_usecol:9_pstyle:m  part2_01_OUT\\freyberg6_template\\mult\\sfrcondcn_inst0_constant.csv   \n",
       "\n",
       "                                                   parval1   partype partrans  \\\n",
       "pname:sfrcondcn_inst:0_ptype:cn_usecol:9_pstyle:m      1.0  constant      log   \n",
       "\n",
       "                                                   parubnd  parlbnd  offset  \\\n",
       "pname:sfrcondcn_inst:0_ptype:cn_usecol:9_pstyle:m     10.0      0.1     0.0   \n",
       "\n",
       "                                                  parchglim  scale  dercom  \n",
       "pname:sfrcondcn_inst:0_ptype:cn_usecol:9_pstyle:m    factor    1.0       1  "
      ]
     },
     "execution_count": 31,
     "metadata": {},
     "output_type": "execute_result"
    }
   ],
   "source": [
    "files = [f for f in os.listdir(template_ws) if \"sfr_packagedata\" in f.lower() and f.endswith(\".txt\")] ; assert len(files) == 1 ; # print(files)\n",
    "f = files[0]  ; name = \"sfrcond\"\n",
    "pf.add_parameters(f,par_type=\"grid\",geostruct=grid_gs,par_name_base=name+\"gr\",pargp=name+\"gr\",index_cols=[0,2,3],use_cols=[9],\n",
    "                  lower_bound=0.1,upper_bound=10.0)\n",
    "pf.add_parameters(f,par_type=\"constant\",geostruct=grid_gs,par_name_base=name+\"cn\",pargp=name+\"cn\",index_cols=[0,2,3],use_cols=[9],\n",
    "                  lower_bound=0.1,upper_bound=10.0,ult_lbound=0.001, ult_ubound=100) "
   ]
  },
  {
   "cell_type": "code",
   "execution_count": 32,
   "metadata": {},
   "outputs": [
    {
     "name": "stdout",
     "output_type": "stream",
     "text": [
      "96 +1+1  PAR_groups_sixth_batch_SFR= 98\n"
     ]
    }
   ],
   "source": [
    "qde_PAR7 = len([f for f in os.listdir(template_ws) if f.endswith(\".tpl\")]); print(qde_PAR6,'+1+1  ''PAR_groups_sixth_batch_SFR=',qde_PAR7)\n",
    "# [f for f in os.listdir(template_ws) if f.endswith(\".tpl\")]"
   ]
  },
  {
   "cell_type": "code",
   "execution_count": 33,
   "metadata": {},
   "outputs": [],
   "source": [
    "files = [f for f in os.listdir(template_ws) if \"sfr_perioddata\" in f and f.endswith(\".txt\")]\n",
    "sp = [int(f.split(\".\")[1].split('_')[-1]) for f in files]    ; d = {s:f for s,f in zip(sp,files)}   ; sp.sort()  ; files = [d[s] for s in sp]\n",
    "for f in files:\n",
    "    kper = int(f.split('.')[1].split('_')[-1]) - 1  \n",
    "    pf.add_parameters(filenames=f,index_cols=[0], use_cols=[2],par_type=\"grid\", \n",
    "                      par_name_base=\"sfrgr\",pargp=\"sfrgr\", upper_bound = 10, lower_bound=0.1, datetime=dts[kper], geostruct=temporal_gs)"
   ]
  },
  {
   "cell_type": "code",
   "execution_count": 34,
   "metadata": {},
   "outputs": [
    {
     "name": "stdout",
     "output_type": "stream",
     "text": [
      "98 +1  PAR_groups_fifth_batch_Wel= 99\n"
     ]
    }
   ],
   "source": [
    "qde_PAR8 = len([f for f in os.listdir(template_ws) if f.endswith(\".tpl\")]); print(qde_PAR7,'+1  ''PAR_groups_fifth_batch_Wel=',qde_PAR8)\n",
    "# [f for f in os.listdir(template_ws) if f.endswith(\".tpl\")]"
   ]
  },
  {
   "cell_type": "code",
   "execution_count": 35,
   "metadata": {},
   "outputs": [
    {
     "data": {
      "text/plain": [
       "['freyberg6.ic_strt_layer1.txt']"
      ]
     },
     "execution_count": 35,
     "metadata": {},
     "output_type": "execute_result"
    }
   ],
   "source": [
    "files = [f for f in os.listdir(template_ws) if \"ic_strt\" in f and f.endswith(\".txt\")]\n",
    "files"
   ]
  },
  {
   "cell_type": "code",
   "execution_count": 36,
   "metadata": {},
   "outputs": [
    {
     "name": "stdout",
     "output_type": "stream",
     "text": [
      "IC40x20x1-(inactives_ibound) x TDIS (706, 17)\n"
     ]
    }
   ],
   "source": [
    "for f in files:\n",
    "    base = f.split(\".\")[1].replace(\"_\",\"\")\n",
    "    df = pf.add_parameters(f,par_type=\"grid\",par_style=\"d\",pargp=base,par_name_base=base,upper_bound=50,lower_bound=15,zone_array=ib,transform=\"none\")\n",
    "    df2 = pd.DataFrame(df)    ; df2.to_csv (sim_ws/ \"08_IC.csv\")  ; print('IC40x20x1-(inactives_ibound) x TDIS' ,df.shape) "
   ]
  },
  {
   "cell_type": "code",
   "execution_count": 37,
   "metadata": {},
   "outputs": [],
   "source": [
    "df2.tail(2); "
   ]
  },
  {
   "cell_type": "code",
   "execution_count": 38,
   "metadata": {},
   "outputs": [
    {
     "name": "stdout",
     "output_type": "stream",
     "text": [
      "99 +1  PAR_groups_fifth_batch_IC= 100\n"
     ]
    }
   ],
   "source": [
    "qde_PAR9 = len([f for f in os.listdir(template_ws) if f.endswith(\".tpl\")]); print(qde_PAR8,'+1  ''PAR_groups_fifth_batch_IC=',qde_PAR9)\n",
    "#[f for f in os.listdir(template_ws) if f.endswith(\".tpl\")]"
   ]
  },
  {
   "cell_type": "markdown",
   "metadata": {},
   "source": [
    "<font color='blue'> **PEST \"model\"** </font> ... MODFLOW + PAR + OBS"
   ]
  },
  {
   "cell_type": "code",
   "execution_count": 39,
   "metadata": {},
   "outputs": [
    {
     "name": "stdout",
     "output_type": "stream",
     "text": [
      "noptmax:0, npar_adj:5410, nnz_obs:1106\n"
     ]
    }
   ],
   "source": [
    "pst = pf.build_pst()"
   ]
  },
  {
   "cell_type": "code",
   "execution_count": 40,
   "metadata": {},
   "outputs": [
    {
     "data": {
      "text/plain": [
       "['forward_run.py', 'part2_01_OUT.pst']"
      ]
     },
     "execution_count": 40,
     "metadata": {},
     "output_type": "execute_result"
    }
   ],
   "source": [
    "[f for f in os.listdir(template_ws) if f.endswith(\".py\") or f.endswith(\".pst\") ]"
   ]
  },
  {
   "cell_type": "markdown",
   "metadata": {},
   "source": [
    "# <font color='red'> **Second part!**  </font> ... after 38 commands and inspections ..."
   ]
  },
  {
   "cell_type": "markdown",
   "metadata": {},
   "source": [
    "**A list of system commands which will be executed in sequence.**  Python functions that run before or after the system commands. "
   ]
  },
  {
   "cell_type": "code",
   "execution_count": 41,
   "metadata": {},
   "outputs": [
    {
     "name": "stdout",
     "output_type": "stream",
     "text": [
      "noptmax:0, npar_adj:5410, nnz_obs:1106\n"
     ]
    }
   ],
   "source": [
    "pf.mod_sys_cmds.append(\"mf6\") ; pf.mod_sys_cmds.append(\"mp7 freyberg_mp.mpsim\") ; pf.mod_sys_cmds ; pst = pf.build_pst()"
   ]
  },
  {
   "cell_type": "raw",
   "metadata": {},
   "source": [
    "Extract the final simulated water level for all model cells for the last stress period from the MF6 binary headsave file and save them to ASCII format\n",
    "Extract the global water budget info from the MF6 listing file and store it in dataframes  ... setup pest observations for those ASCII head arrays"
   ]
  },
  {
   "cell_type": "code",
   "execution_count": 42,
   "metadata": {},
   "outputs": [],
   "source": [
    "pf.add_py_function(\"helpers.py\",\"extract_hds_arrays_and_list_dfs()\",is_pre_cmd=False)"
   ]
  },
  {
   "cell_type": "code",
   "execution_count": 43,
   "metadata": {},
   "outputs": [],
   "source": [
    "import helpers     ; helpers.test_extract_hds_arrays(template_ws)         ; files = [f for f in os.listdir(template_ws) if f.startswith(\"hdslay\")]  \n",
    "for f in files: pf.add_observations(f,prefix=f.split(\".\")[0],obsgp=f.split(\".\")[0])\n",
    "for f in [\"inc.csv\",\"cum.csv\"]:\n",
    "    df = pd.read_csv(os.path.join(template_ws,f),index_col=0)\n",
    "    pf.add_observations(f,index_cols=[\"totim\"],use_cols=list(df.columns.values), prefix=f.split('.')[0],obsgp=f.split(\".\")[0])"
   ]
  },
  {
   "cell_type": "code",
   "execution_count": 44,
   "metadata": {},
   "outputs": [
    {
     "name": "stdout",
     "output_type": "stream",
     "text": [
      "Secondary observation files processed.\n"
     ]
    }
   ],
   "source": [
    "helpers.process_secondary_obs(ws=template_ws)"
   ]
  },
  {
   "cell_type": "code",
   "execution_count": 45,
   "metadata": {},
   "outputs": [],
   "source": [
    "#[f for f in os.listdir(template_ws) if f.endswith(\".csv\")]"
   ]
  },
  {
   "cell_type": "code",
   "execution_count": 46,
   "metadata": {},
   "outputs": [],
   "source": [
    "pf.add_py_function(\"helpers.py\", \"process_secondary_obs(ws='.')\", is_pre_cmd=False) "
   ]
  },
  {
   "cell_type": "code",
   "execution_count": 47,
   "metadata": {},
   "outputs": [
    {
     "name": "stdout",
     "output_type": "stream",
     "text": [
      "noptmax:0, npar_adj:5410, nnz_obs:21956\n"
     ]
    }
   ],
   "source": [
    "df = pd.read_csv(os.path.join (template_ws, \"sfr.tdiff.csv\"), index_col=0)\n",
    "_  = pf.add_observations      (\"sfr.tdiff.csv\"  , insfile=\"sfr.tdiff.csv.ins\"  , index_cols=\"time\", use_cols=list(df.columns.values), prefix=\"sfrtd\") \n",
    "df = pd.read_csv(os.path.join (template_ws, \"heads.tdiff.csv\"), index_col=0)\n",
    "_  = pf.add_observations      (\"heads.tdiff.csv\", insfile=\"heads.tdiff.csv.ins\", index_cols=\"time\", use_cols=list(df.columns.values), prefix=\"hdstd\") \n",
    "pst = pf.build_pst()          #_ = [print(line.rstrip()) for line in open(os.path.join(template_ws,\"forward_run.py\"))]"
   ]
  },
  {
   "cell_type": "code",
   "execution_count": 48,
   "metadata": {},
   "outputs": [],
   "source": [
    "obs = pst.observation_data  ; obs.to_csv (sim_ws/ \"09_OBS_2.csv\") "
   ]
  },
  {
   "cell_type": "markdown",
   "metadata": {},
   "source": [
    "<font color='blue'> **OBS Weights, PAR bounds, ctrls     ...**  </font> *.ins, weights, PAR group INCTYP's and forecasts  `    `  OBS particles end time and status"
   ]
  },
  {
   "cell_type": "code",
   "execution_count": 49,
   "metadata": {},
   "outputs": [],
   "source": [
    "out_file = \"freyberg_mp.mpend\" ; ins_file = out_file + \".ins\"\n",
    "with open(os.path.join(template_ws, ins_file),'w') as f:     f.write(\"pif ~\\n\")  ; f.write(\"l7 w w w w !part_status! w w !part_time!\\n\")"
   ]
  },
  {
   "cell_type": "code",
   "execution_count": 50,
   "metadata": {},
   "outputs": [
    {
     "name": "stdout",
     "output_type": "stream",
     "text": [
      "2 obs added from instruction file part2_01_OUT\\freyberg6_template\\.\\freyberg_mp.mpend.ins\n"
     ]
    }
   ],
   "source": [
    "pst.add_observations(ins_file=os.path.join(template_ws, ins_file),out_file=os.path.join(template_ws, out_file),pst_path='.')\n",
    "obs=pst.observation_data            ;obs.loc[obs.obsnme=='part_status', 'obgnme']='part'   ;obs.loc[obs.obsnme=='part_time','obgnme']='part' \n",
    "obs.to_csv (sim_ws/ \"10_OBS_3.csv\") "
   ]
  },
  {
   "cell_type": "markdown",
   "metadata": {},
   "source": [
    "<font color='blue'> **Offset\" PAR values and bounds... or...  use \"absolute\" increment types (INCTYP)**  </font> \n",
    "INCTYP 'absolute'. DERINC as 0.01 ... for this case."
   ]
  },
  {
   "cell_type": "code",
   "execution_count": 51,
   "metadata": {},
   "outputs": [
    {
     "data": {
      "text/plain": [
       "['ghbheadgr', 'ghbheadcn']"
      ]
     },
     "execution_count": 51,
     "metadata": {},
     "output_type": "execute_result"
    }
   ],
   "source": [
    "head_pargps = [i for i in pst.adj_par_groups if 'head' in i]  ; head_pargps"
   ]
  },
  {
   "cell_type": "code",
   "execution_count": 52,
   "metadata": {},
   "outputs": [],
   "source": [
    "pst.parameter_groups.loc[head_pargps, 'inctyp'] = 'absolute'\n",
    "par = pst.parameter_data                        ; par_names = par.loc[par.parval1==0].parnme    # ; par.to_csv (sim_ws/ \"11_PAR.csv\") \n",
    "offset=-10 ;par.loc[par_names,'offset']=offset  ; par.loc[par_names,['parval1','parlbnd','parubnd']]-=offset   ; par.to_csv (sim_ws/ \"11_PAR.csv\") "
   ]
  },
  {
   "cell_type": "markdown",
   "metadata": {},
   "source": [
    "<font color='blue'> **Adding forecasts as \"observations\" in the control file** </font>  ...our interest this time: ... forecast:\n",
    "\n",
    " - groundwater level in the upper layer at row 9 and column 1 (site named \"trgw-0-9-1\") in stress period 22 (time=640);\n",
    " - the \"tailwater\" surface-water/groundwater exchange during stress period 13 (time=367); and\n",
    " - the \"headwater\" surface-water/groundwater exchange at stress period 22 (time=640).\n",
    " - the particle travel time."
   ]
  },
  {
   "cell_type": "code",
   "execution_count": 53,
   "metadata": {},
   "outputs": [],
   "source": [
    "forecasts =['oname:sfr_otype:lst_usecol:tailwater_time:4383.5'   ,'oname:sfr_otype:lst_usecol:headwater_time:4383.5',\n",
    "            'oname:hds_otype:lst_usecol:trgw-0-9-1_time:4383.5'  ,'part_time'] \n",
    "fobs = obs.loc[forecasts,:]   ; fobs2 = pd.DataFrame(fobs) ; fobs.to_csv (sim_ws/ \"12_forecasts.csv\")   ; pst.pestpp_options['forecasts'] = forecasts"
   ]
  },
  {
   "cell_type": "code",
   "execution_count": 54,
   "metadata": {},
   "outputs": [
    {
     "name": "stdout",
     "output_type": "stream",
     "text": [
      "noptmax:0, npar_adj:5410, nnz_obs:21958\n"
     ]
    }
   ],
   "source": [
    "pst.write(os.path.join(template_ws, 'freyberg_mf6.pst'),version=2)   "
   ]
  },
  {
   "cell_type": "code",
   "execution_count": 55,
   "metadata": {},
   "outputs": [],
   "source": [
    "pst.control_data.noptmax = 0"
   ]
  },
  {
   "cell_type": "code",
   "execution_count": 56,
   "metadata": {},
   "outputs": [
    {
     "name": "stdout",
     "output_type": "stream",
     "text": [
      "pestpp-glm.exe freyberg_mf6.pst\n"
     ]
    }
   ],
   "source": [
    "pyemu.os_utils.run('pestpp-glm freyberg_mf6.pst', cwd = template_ws)"
   ]
  },
  {
   "cell_type": "code",
   "execution_count": 57,
   "metadata": {},
   "outputs": [
    {
     "data": {
      "text/plain": [
       "0    35365.7\n",
       "Name: total_phi, dtype: float64"
      ]
     },
     "execution_count": 57,
     "metadata": {},
     "output_type": "execute_result"
    }
   ],
   "source": [
    "iobj = pd.read_csv(os.path.join(template_ws, 'freyberg_mf6.iobj'))\n",
    "iobj.total_phi"
   ]
  },
  {
   "cell_type": "code",
   "execution_count": 58,
   "metadata": {},
   "outputs": [],
   "source": [
    "if pf.pst.npar < 35000:  \n",
    "    cov = pf.build_prior(fmt='coo', filename=os.path.join(template_ws,\"prior_cov.jcb\"))\n",
    "    try: \n",
    "        x = cov.x.copy()  ;  x[x==0] = np.NaN  \n",
    "    except: pass"
   ]
  },
  {
   "cell_type": "code",
   "execution_count": 59,
   "metadata": {},
   "outputs": [
    {
     "data": {
      "text/plain": [
       "<matplotlib.image.AxesImage at 0x29636b83510>"
      ]
     },
     "execution_count": 59,
     "metadata": {},
     "output_type": "execute_result"
    },
    {
     "data": {
      "image/png": "[encoded data removed]",
      "text/plain": [
       "<Figure size 500x300 with 1 Axes>"
      ]
     },
     "metadata": {},
     "output_type": "display_data"
    }
   ],
   "source": [
    "plt.figure(figsize=(5,3)) ; plt.imshow(x[:1000,:1000])"
   ]
  },
  {
   "cell_type": "code",
   "execution_count": 60,
   "metadata": {},
   "outputs": [],
   "source": [
    "cov2 = cov.row_names[:] ; cov3 = pd.DataFrame(cov2)    ; cov3.to_csv (sim_ws/ \"13_covariance_matix__prior.csv\") "
   ]
  },
  {
   "cell_type": "code",
   "execution_count": 61,
   "metadata": {},
   "outputs": [],
   "source": [
    "pst.control_data.noptmax = 0   # Fienen (Objective function 37:00) video ii  (-1 .. 15)"
   ]
  },
  {
   "cell_type": "markdown",
   "metadata": {},
   "source": [
    "<font color='blue'> **Ensemble** </font> "
   ]
  },
  {
   "cell_type": "code",
   "execution_count": 62,
   "metadata": {},
   "outputs": [
    {
     "name": "stdout",
     "output_type": "stream",
     "text": [
      "SpecSim.initialize() summary: full_delx X full_dely: 72 X 72\n",
      "SpecSim.initialize() summary: full_delx X full_dely: 72 X 72\n",
      "SpecSim.initialize() summary: full_delx X full_dely: 72 X 72\n",
      "SpecSim.initialize() summary: full_delx X full_dely: 72 X 72\n",
      "SpecSim.initialize() summary: full_delx X full_dely: 72 X 72\n",
      "SpecSim.initialize() summary: full_delx X full_dely: 72 X 72\n",
      "SpecSim.initialize() summary: full_delx X full_dely: 72 X 72\n",
      "SpecSim.initialize() summary: full_delx X full_dely: 72 X 72\n",
      "building diagonal cov\n",
      "processing  name:struct1,nugget:0.0,structures:\n",
      "name:var1,contribution:1.0,a:1000.0,anisotropy:1.0,bearing:0.0\n",
      "\n",
      "working on pargroups ['ghbcondgr']\n",
      "build cov matrix\n",
      "done\n",
      "getting diag var cov 10\n",
      "scaling full cov by diag var cov\n",
      "working on pargroups ['sfrcondgr']\n",
      "build cov matrix\n",
      "done\n",
      "getting diag var cov 40\n",
      "scaling full cov by diag var cov\n",
      "processing  name:struct1,nugget:0.0,structures:\n",
      "name:var1,contribution:1.0,a:15000.0,anisotropy:1.0,bearing:0.0\n",
      "\n",
      "working on pargroups ['npfklayer1pp']\n",
      "build cov matrix\n",
      "done\n",
      "getting diag var cov 29\n",
      "scaling full cov by diag var cov\n",
      "working on pargroups ['stosylayer1pp']\n",
      "build cov matrix\n",
      "done\n",
      "getting diag var cov 29\n",
      "scaling full cov by diag var cov\n",
      "working on pargroups ['nelayer1pp']\n",
      "build cov matrix\n",
      "done\n",
      "getting diag var cov 29\n",
      "scaling full cov by diag var cov\n",
      "working on pargroups ['nelayer2pp']\n",
      "build cov matrix\n",
      "done\n",
      "getting diag var cov 29\n",
      "scaling full cov by diag var cov\n",
      "working on pargroups ['nelayer3pp']\n",
      "build cov matrix\n",
      "done\n",
      "getting diag var cov 29\n",
      "scaling full cov by diag var cov\n",
      "working on pargroups ['rch_recharge_1pp']\n",
      "build cov matrix\n",
      "done\n",
      "getting diag var cov 29\n",
      "scaling full cov by diag var cov\n",
      "processing  name:struct1,nugget:0.0,structures:\n",
      "name:var1,contribution:1.0,a:60.0,anisotropy:1.0,bearing:0.0\n",
      "\n",
      "working on pargroups ['welcst']\n",
      "build cov matrix\n",
      "done\n",
      "getting diag var cov 25\n",
      "scaling full cov by diag var cov\n",
      "processing  name:struct1,nugget:0.0,structures:\n",
      "name:var1,contribution:1.0,a:1000.0,anisotropy:1.0,bearing:0.0\n",
      "\n",
      "working on pargroups ['ghbheadgr']\n",
      "build cov matrix\n",
      "done\n",
      "getting diag var cov 10\n",
      "scaling full cov by diag var cov\n",
      "adding remaining parameters to diagonal\n",
      " _____pe(shape)____  (1000, 5410)\n"
     ]
    }
   ],
   "source": [
    "pe=pf.draw(num_reals=1000, use_specsim=True)  ;pe.enforce() ;pe.to_binary(os.path.join(template_ws,\"prior_pe.jcb\")) ; assert pe.shape[1] == pst.npar\n",
    "pe2 = pd.DataFrame(pe)     ; pe2[100].to_csv (sim_ws/ \"14_Best_PAR[100]_IN_1.csv\")  ; print(' _____pe(shape)____ ', pe.shape)"
   ]
  },
  {
   "cell_type": "code",
   "execution_count": 63,
   "metadata": {},
   "outputs": [
    {
     "data": {
      "text/plain": [
       "array([ 0.72616096,  0.82076147,  1.08770186, ..., 30.96381582,\n",
       "       29.2050304 , 45.19831249])"
      ]
     },
     "execution_count": 63,
     "metadata": {},
     "output_type": "execute_result"
    }
   ],
   "source": [
    "pst.parameter_data.loc[:,\"parval1\"] = pe.loc[pe.index[0],pst.par_names].values       ; pst2 = pst.parameter_data.parval1.values \n",
    "pst3 = pd.DataFrame(pst2)  ; pst3.to_csv (sim_ws/ \"15_pst2.csv\") ; pst2"
   ]
  },
  {
   "cell_type": "markdown",
   "metadata": {},
   "source": [
    "<font color='blue'> **Running again** </font> "
   ]
  },
  {
   "cell_type": "code",
   "execution_count": 64,
   "metadata": {},
   "outputs": [
    {
     "name": "stdout",
     "output_type": "stream",
     "text": [
      "noptmax:0, npar_adj:5410, nnz_obs:21958\n",
      "pestpp-glm.exe test.pst\n"
     ]
    }
   ],
   "source": [
    "pst.write(os.path.join(template_ws,\"test.pst\"),version=2)      ; pyemu.os_utils.run(\"pestpp-glm test.pst\",cwd=template_ws)"
   ]
  },
  {
   "cell_type": "markdown",
   "metadata": {},
   "source": [
    "<font color='blue'> **Post processing** </font> "
   ]
  },
  {
   "cell_type": "code",
   "execution_count": 65,
   "metadata": {},
   "outputs": [],
   "source": [
    "df = pd.read_csv(os.path.join(template_ws,\"mult2model_info.csv\"))  ; kh1_df = df.loc[df.model_file.str.contains(\"npf_k_layer1\"),:]   ; kh1_df;"
   ]
  },
  {
   "cell_type": "code",
   "execution_count": 66,
   "metadata": {},
   "outputs": [
    {
     "name": "stdout",
     "output_type": "stream",
     "text": [
      "(40, 20)\n"
     ]
    }
   ],
   "source": [
    "org_arr=np.loadtxt(os.path.join(template_ws,kh1_df.org_file.iloc[0]))       ; inp_arr = np.loadtxt(os.path.join(template_ws,kh1_df.model_file.iloc[0]))\n",
    "mlt_arrs=[np.loadtxt(os.path.join(template_ws,afile)) for afile in kh1_df.mlt_file]       ;arrs=[org_arr] ;arrs.extend(mlt_arrs)  ;arrs.append(inp_arr)\n",
    "print(org_arr.shape); mlt_arrs;"
   ]
  },
  {
   "cell_type": "code",
   "execution_count": 67,
   "metadata": {},
   "outputs": [
    {
     "data": {
      "image/png": "[encoded data removed]",
      "text/plain": [
       "<Figure size 1700x500 with 10 Axes>"
      ]
     },
     "metadata": {},
     "output_type": "display_data"
    }
   ],
   "source": [
    "names = [\"org\"]                           ; names.extend([mf.split('.')[0].split('_')[-1]  for mf in kh1_df.mlt_file])\n",
    "names.append(\"MF6 input\")                 ; fig,axes = plt.subplots(1, kh1_df.shape[0]+2, figsize=(5*kh1_df.shape[0]+2,5))\n",
    "for i,ax in enumerate(axes.flatten()):\n",
    "    arr = np.log10(arrs[i]) ; arr[ib==0] = np.NaN ; cb = ax.imshow(arr) ; plt.colorbar(cb,ax=ax) ; ax.set_title(names[i],loc=\"left\")\n",
    "plt.tight_layout()    "
   ]
  },
  {
   "cell_type": "markdown",
   "metadata": {},
   "source": [
    "**ORG|CTE** `  `**GRID|MF6** `  `**Pilot points** `  `\n",
    "**Pilot Point array has a much stronger spatial correlation (over a larger distance) than the grid-scale...**"
   ]
  },
  {
   "cell_type": "code",
   "execution_count": 68,
   "metadata": {},
   "outputs": [],
   "source": [
    "from IPython.display import Image, display\n",
    "# display(Image('E:\\\\15_REPOS\\\\00_BETAMI\\\\97_GMDSI\\\\models_b\\\\_next_or_source\\\\pest_flow2.gif'))"
   ]
  },
  {
   "cell_type": "code",
   "execution_count": 70,
   "metadata": {},
   "outputs": [
    {
     "data": {
      "text/html": [
       "<div>\n",
       "<style scoped>\n",
       "    .dataframe tbody tr th:only-of-type {\n",
       "        vertical-align: middle;\n",
       "    }\n",
       "\n",
       "    .dataframe tbody tr th {\n",
       "        vertical-align: top;\n",
       "    }\n",
       "\n",
       "    .dataframe thead th {\n",
       "        text-align: right;\n",
       "    }\n",
       "</style>\n",
       "<table border=\"1\" class=\"dataframe\">\n",
       "  <thead>\n",
       "    <tr style=\"text-align: right;\">\n",
       "      <th></th>\n",
       "      <th>parnme</th>\n",
       "      <th>partrans</th>\n",
       "      <th>parchglim</th>\n",
       "      <th>parval1</th>\n",
       "      <th>parlbnd</th>\n",
       "      <th>parubnd</th>\n",
       "      <th>pargp</th>\n",
       "      <th>scale</th>\n",
       "      <th>offset</th>\n",
       "      <th>dercom</th>\n",
       "      <th>i</th>\n",
       "      <th>idx0</th>\n",
       "      <th>idx1</th>\n",
       "      <th>idx2</th>\n",
       "      <th>inst</th>\n",
       "      <th>j</th>\n",
       "      <th>pname</th>\n",
       "      <th>pstyle</th>\n",
       "      <th>ptype</th>\n",
       "      <th>usecol</th>\n",
       "      <th>x</th>\n",
       "      <th>y</th>\n",
       "      <th>zone</th>\n",
       "      <th>parval1_trans</th>\n",
       "      <th>parlbnd_trans</th>\n",
       "      <th>parubnd_trans</th>\n",
       "    </tr>\n",
       "  </thead>\n",
       "  <tbody>\n",
       "    <tr>\n",
       "      <th>pname:npfklayer1gr_inst:0_ptype:gr_pstyle:m_i:0_j:0_x:125.00_y:9875.00_zone:1</th>\n",
       "      <td>pname:npfklayer1gr_inst:0_ptype:gr_pstyle:m_i:0_j:0_x:125.00_y:9875.00_zone:1</td>\n",
       "      <td>log</td>\n",
       "      <td>factor</td>\n",
       "      <td>0.726161</td>\n",
       "      <td>0.2</td>\n",
       "      <td>5.0</td>\n",
       "      <td>npfklayer1gr</td>\n",
       "      <td>1.0</td>\n",
       "      <td>0.0</td>\n",
       "      <td>1</td>\n",
       "      <td>0</td>\n",
       "      <td>NaN</td>\n",
       "      <td>NaN</td>\n",
       "      <td>NaN</td>\n",
       "      <td>0</td>\n",
       "      <td>0</td>\n",
       "      <td>npfklayer1gr</td>\n",
       "      <td>m</td>\n",
       "      <td>gr</td>\n",
       "      <td>NaN</td>\n",
       "      <td>125.00</td>\n",
       "      <td>9875.00</td>\n",
       "      <td>1</td>\n",
       "      <td>0.0</td>\n",
       "      <td>-0.69897</td>\n",
       "      <td>0.69897</td>\n",
       "    </tr>\n",
       "    <tr>\n",
       "      <th>pname:npfklayer1gr_inst:0_ptype:gr_pstyle:m_i:0_j:1_x:375.00_y:9875.00_zone:1</th>\n",
       "      <td>pname:npfklayer1gr_inst:0_ptype:gr_pstyle:m_i:0_j:1_x:375.00_y:9875.00_zone:1</td>\n",
       "      <td>log</td>\n",
       "      <td>factor</td>\n",
       "      <td>0.820761</td>\n",
       "      <td>0.2</td>\n",
       "      <td>5.0</td>\n",
       "      <td>npfklayer1gr</td>\n",
       "      <td>1.0</td>\n",
       "      <td>0.0</td>\n",
       "      <td>1</td>\n",
       "      <td>0</td>\n",
       "      <td>NaN</td>\n",
       "      <td>NaN</td>\n",
       "      <td>NaN</td>\n",
       "      <td>0</td>\n",
       "      <td>1</td>\n",
       "      <td>npfklayer1gr</td>\n",
       "      <td>m</td>\n",
       "      <td>gr</td>\n",
       "      <td>NaN</td>\n",
       "      <td>375.00</td>\n",
       "      <td>9875.00</td>\n",
       "      <td>1</td>\n",
       "      <td>0.0</td>\n",
       "      <td>-0.69897</td>\n",
       "      <td>0.69897</td>\n",
       "    </tr>\n",
       "  </tbody>\n",
       "</table>\n",
       "</div>"
      ],
      "text/plain": [
       "                                                                                                                                                      parnme partrans parchglim   parval1  parlbnd  parubnd         pargp  scale  offset  dercom  i idx0 idx1 idx2 inst  j         pname pstyle ptype usecol       x        y zone  parval1_trans  parlbnd_trans  parubnd_trans\n",
       "pname:npfklayer1gr_inst:0_ptype:gr_pstyle:m_i:0_j:0_x:125.00_y:9875.00_zone:1  pname:npfklayer1gr_inst:0_ptype:gr_pstyle:m_i:0_j:0_x:125.00_y:9875.00_zone:1      log    factor  0.726161      0.2      5.0  npfklayer1gr    1.0     0.0       1  0  NaN  NaN  NaN    0  0  npfklayer1gr      m    gr    NaN  125.00  9875.00    1            0.0       -0.69897        0.69897\n",
       "pname:npfklayer1gr_inst:0_ptype:gr_pstyle:m_i:0_j:1_x:375.00_y:9875.00_zone:1  pname:npfklayer1gr_inst:0_ptype:gr_pstyle:m_i:0_j:1_x:375.00_y:9875.00_zone:1      log    factor  0.820761      0.2      5.0  npfklayer1gr    1.0     0.0       1  0  NaN  NaN  NaN    0  1  npfklayer1gr      m    gr    NaN  375.00  9875.00    1            0.0       -0.69897        0.69897"
      ]
     },
     "execution_count": 70,
     "metadata": {},
     "output_type": "execute_result"
    }
   ],
   "source": [
    "pst.parameter_data.head(2)"
   ]
  },
  {
   "cell_type": "code",
   "execution_count": 74,
   "metadata": {},
   "outputs": [
    {
     "data": {
      "text/html": [
       "<div>\n",
       "<style scoped>\n",
       "    .dataframe tbody tr th:only-of-type {\n",
       "        vertical-align: middle;\n",
       "    }\n",
       "\n",
       "    .dataframe tbody tr th {\n",
       "        vertical-align: top;\n",
       "    }\n",
       "\n",
       "    .dataframe thead th {\n",
       "        text-align: right;\n",
       "    }\n",
       "</style>\n",
       "<table border=\"1\" class=\"dataframe\">\n",
       "  <thead>\n",
       "    <tr style=\"text-align: right;\">\n",
       "      <th></th>\n",
       "      <th>parnme</th>\n",
       "      <th>partrans</th>\n",
       "      <th>parchglim</th>\n",
       "      <th>parval1</th>\n",
       "      <th>parlbnd</th>\n",
       "      <th>parubnd</th>\n",
       "      <th>pargp</th>\n",
       "      <th>scale</th>\n",
       "      <th>offset</th>\n",
       "      <th>dercom</th>\n",
       "      <th>i</th>\n",
       "      <th>idx0</th>\n",
       "      <th>idx1</th>\n",
       "      <th>idx2</th>\n",
       "      <th>inst</th>\n",
       "      <th>j</th>\n",
       "      <th>pname</th>\n",
       "      <th>pstyle</th>\n",
       "      <th>ptype</th>\n",
       "      <th>usecol</th>\n",
       "      <th>x</th>\n",
       "      <th>y</th>\n",
       "      <th>zone</th>\n",
       "      <th>parval1_trans</th>\n",
       "      <th>parlbnd_trans</th>\n",
       "      <th>parubnd_trans</th>\n",
       "    </tr>\n",
       "  </thead>\n",
       "  <tbody>\n",
       "    <tr>\n",
       "      <th>pname:npfklayer1gr_inst:0_ptype:gr_pstyle:m_i:0_j:0_x:125.00_y:9875.00_zone:1</th>\n",
       "      <td>pname:npfklayer1gr_inst:0_ptype:gr_pstyle:m_i:0_j:0_x:125.00_y:9875.00_zone:1</td>\n",
       "      <td>log</td>\n",
       "      <td>factor</td>\n",
       "      <td>0.726161</td>\n",
       "      <td>0.5</td>\n",
       "      <td>1.5</td>\n",
       "      <td>npfklayer1gr</td>\n",
       "      <td>1.0</td>\n",
       "      <td>0.0</td>\n",
       "      <td>1</td>\n",
       "      <td>0</td>\n",
       "      <td>NaN</td>\n",
       "      <td>NaN</td>\n",
       "      <td>NaN</td>\n",
       "      <td>0</td>\n",
       "      <td>0</td>\n",
       "      <td>npfklayer1gr</td>\n",
       "      <td>m</td>\n",
       "      <td>gr</td>\n",
       "      <td>NaN</td>\n",
       "      <td>125.00</td>\n",
       "      <td>9875.00</td>\n",
       "      <td>1</td>\n",
       "      <td>0.0</td>\n",
       "      <td>-0.69897</td>\n",
       "      <td>0.69897</td>\n",
       "    </tr>\n",
       "    <tr>\n",
       "      <th>pname:npfklayer1gr_inst:0_ptype:gr_pstyle:m_i:0_j:1_x:375.00_y:9875.00_zone:1</th>\n",
       "      <td>pname:npfklayer1gr_inst:0_ptype:gr_pstyle:m_i:0_j:1_x:375.00_y:9875.00_zone:1</td>\n",
       "      <td>log</td>\n",
       "      <td>factor</td>\n",
       "      <td>0.820761</td>\n",
       "      <td>0.5</td>\n",
       "      <td>1.5</td>\n",
       "      <td>npfklayer1gr</td>\n",
       "      <td>1.0</td>\n",
       "      <td>0.0</td>\n",
       "      <td>1</td>\n",
       "      <td>0</td>\n",
       "      <td>NaN</td>\n",
       "      <td>NaN</td>\n",
       "      <td>NaN</td>\n",
       "      <td>0</td>\n",
       "      <td>1</td>\n",
       "      <td>npfklayer1gr</td>\n",
       "      <td>m</td>\n",
       "      <td>gr</td>\n",
       "      <td>NaN</td>\n",
       "      <td>375.00</td>\n",
       "      <td>9875.00</td>\n",
       "      <td>1</td>\n",
       "      <td>0.0</td>\n",
       "      <td>-0.69897</td>\n",
       "      <td>0.69897</td>\n",
       "    </tr>\n",
       "  </tbody>\n",
       "</table>\n",
       "</div>"
      ],
      "text/plain": [
       "                                                                                                                                                      parnme partrans parchglim   parval1  parlbnd  parubnd         pargp  scale  offset  dercom  i idx0 idx1 idx2 inst  j         pname pstyle ptype usecol       x        y zone  parval1_trans  parlbnd_trans  parubnd_trans\n",
       "pname:npfklayer1gr_inst:0_ptype:gr_pstyle:m_i:0_j:0_x:125.00_y:9875.00_zone:1  pname:npfklayer1gr_inst:0_ptype:gr_pstyle:m_i:0_j:0_x:125.00_y:9875.00_zone:1      log    factor  0.726161      0.5      1.5  npfklayer1gr    1.0     0.0       1  0  NaN  NaN  NaN    0  0  npfklayer1gr      m    gr    NaN  125.00  9875.00    1            0.0       -0.69897        0.69897\n",
       "pname:npfklayer1gr_inst:0_ptype:gr_pstyle:m_i:0_j:1_x:375.00_y:9875.00_zone:1  pname:npfklayer1gr_inst:0_ptype:gr_pstyle:m_i:0_j:1_x:375.00_y:9875.00_zone:1      log    factor  0.820761      0.5      1.5  npfklayer1gr    1.0     0.0       1  0  NaN  NaN  NaN    0  1  npfklayer1gr      m    gr    NaN  375.00  9875.00    1            0.0       -0.69897        0.69897"
      ]
     },
     "execution_count": 74,
     "metadata": {},
     "output_type": "execute_result"
    }
   ],
   "source": [
    "pst.parameter_data.parlbnd = 0.5 ; pst.parameter_data.parubnd  = 1.5 ; pst.parameter_data ; pst.parameter_data.head(2)"
   ]
  },
  {
   "cell_type": "code",
   "execution_count": null,
   "metadata": {},
   "outputs": [],
   "source": []
  }
 ],
 "metadata": {
  "kernelspec": {
   "display_name": "Python 3 (ipykernel)",
   "language": "python",
   "name": "python3"
  },
  "language_info": {
   "codemirror_mode": {
    "name": "ipython",
    "version": 3
   },
   "file_extension": ".py",
   "mimetype": "text/x-python",
   "name": "python",
   "nbconvert_exporter": "python",
   "pygments_lexer": "ipython3",
   "version": "3.11.11"
  }
 },
 "nbformat": 4,
 "nbformat_minor": 4
}
