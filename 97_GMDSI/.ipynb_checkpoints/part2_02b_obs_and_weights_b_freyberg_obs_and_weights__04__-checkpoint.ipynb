{
 "cells": [
  {
   "cell_type": "markdown",
   "metadata": {},
   "source": [
    "**Iterative Ensemble Smoother (iES)_ii** `_______freyberg_obs_and_weights_______` `... conda activate gmdsitut`"
   ]
  },
  {
   "cell_type": "code",
   "execution_count": 1,
   "metadata": {},
   "outputs": [],
   "source": [
    "import sys ; import os ; import platform ; from pathlib import Path ; import shutil ; import pyemu ; import flopy\n",
    "import warnings ; warnings.filterwarnings(\"ignore\") ; import pandas as pd ; import numpy as np     \n",
    "import matplotlib.pyplot as plt; plt.rcParams.update({'font.size': 10}) ; warnings.filterwarnings(\"ignore\", category=DeprecationWarning) \n",
    "sys.path.insert(0,\".\")        ; import herebedragons as hbd  #  ; hbd.prep_bins(template_ws)      "
   ]
  },
  {
   "cell_type": "code",
   "execution_count": 2,
   "metadata": {},
   "outputs": [
    {
     "data": {
      "text/plain": [
       "WindowsPath('part2_01b2')"
      ]
     },
     "execution_count": 2,
     "metadata": {},
     "output_type": "execute_result"
    }
   ],
   "source": [
    "sim_ws1   = tmp_d = Path('E:\\\\15_REPOS\\\\00_BETAMI\\\\97_GMDSI\\\\00\\\\part2_01b')  #; sim_name = \"freyberg_mf6\"\n",
    "sim_ws2   = Path(\"./part2_01b2\")                                                                        ; sim_ws2.mkdir(exist_ok=True) \n",
    "sim_ws3   = Path(\"./part2_01b2/beta\")                                                                   ; sim_ws3.mkdir(exist_ok=True)\n",
    "shutil.copytree(sim_ws1, sim_ws2, dirs_exist_ok=True)      #;sim=flopy.mf6.MFSimulation.load(sim_ws=sim_ws2,verbosity_level=0) ;gwf = sim.get_model()"
   ]
  },
  {
   "cell_type": "code",
   "execution_count": 3,
   "metadata": {},
   "outputs": [],
   "source": [
    "pst = pyemu.Pst('E:\\\\15_REPOS\\\\00_BETAMI\\\\97_GMDSI\\\\part2_01b2\\\\freyberg6_template\\\\freyberg_mf6.pst')  "
   ]
  },
  {
   "cell_type": "code",
   "execution_count": 4,
   "metadata": {},
   "outputs": [
    {
     "data": {
      "text/plain": [
       "weight\n",
       "1.0    21958\n",
       "Name: count, dtype: int64"
      ]
     },
     "execution_count": 4,
     "metadata": {},
     "output_type": "execute_result"
    }
   ],
   "source": [
    "obs = pst.observation_data ; obs.weight.value_counts() "
   ]
  },
  {
   "cell_type": "code",
   "execution_count": 5,
   "metadata": {},
   "outputs": [
    {
     "data": {
      "text/plain": [
       "array([0.])"
      ]
     },
     "execution_count": 5,
     "metadata": {},
     "output_type": "execute_result"
    }
   ],
   "source": [
    "obs.loc[:, 'weight'] = 0 ; obs = pst.observation_data  ; obs.to_csv (sim_ws3/ \"01_OBS.csv\") ; obs.weight.value_counts() ; obs.weight.unique()"
   ]
  },
  {
   "cell_type": "code",
   "execution_count": 6,
   "metadata": {},
   "outputs": [],
   "source": [
    "#pst.observation_data.time"
   ]
  },
  {
   "cell_type": "code",
   "execution_count": 7,
   "metadata": {},
   "outputs": [],
   "source": [
    "model_times = pst.observation_data.time.dropna().astype(float).unique()      ;np.savetxt(sim_ws3/\"03_model_times.csv\", model_times,delimiter=\",\")"
   ]
  },
  {
   "cell_type": "markdown",
   "metadata": {},
   "source": [
    "<font color='blue'> **Daily x Monthly ... datasets** </font>"
   ]
  },
  {
   "cell_type": "code",
   "execution_count": 8,
   "metadata": {},
   "outputs": [
    {
     "data": {
      "text/plain": [
       "['GAGE-1', 'TRGW-0-26-6', 'TRGW-2-26-6', 'TRGW-0-3-8', 'TRGW-2-3-8']"
      ]
     },
     "execution_count": 8,
     "metadata": {},
     "output_type": "execute_result"
    }
   ],
   "source": [
    "obs_csv   =  os.path.join('models', 'daily_freyberg_mf6_truth',\"obs_data.csv\")  ; assert os.path.exists(obs_csv)   \n",
    "obs_data  =  pd.read_csv(obs_csv) ; obs_data.set_index('site', inplace=True)    ; obs_data.to_csv (sim_ws3/ \"02_OBS_true_days.csv\")\n",
    "obs_sites =  obs_data.index.unique().tolist() ; obs_sites"
   ]
  },
  {
   "cell_type": "code",
   "execution_count": 9,
   "metadata": {},
   "outputs": [],
   "source": [
    "simplest_sample = []       # simple sample\n",
    "for site in obs_sites:\n",
    "    SO = obs_data.loc[site,:].copy()\n",
    "    if isinstance  (SO, pd.Series):            SO.loc[\"site\"] = SO.index.values\n",
    "    elif isinstance(SO, pd.DataFrame):\n",
    "        SO.loc[:,\"site\"] = SO.index.values   ; SO.index = SO.time  ; SO = SO.reindex(model_times,method=\"nearest\")\n",
    "    simplest_sample.append(SO)\n",
    "simplest_sample = pd.concat(simplest_sample,axis=0,ignore_index=True)                ; simplest_sample.to_csv (sim_ws3/ \"04_simplest_sample.csv\")"
   ]
  },
  {
   "cell_type": "code",
   "execution_count": 10,
   "metadata": {},
   "outputs": [],
   "source": [
    "low_pass_filter = {}     # mooving average ... to be used a little later ...\n",
    "for site in obs_sites:\n",
    "    TO = obs_data.loc[site,:].copy()\n",
    "    if isinstance(TO, pd.Series):            TO.loc[\"site\"] = TO.index.values\n",
    "    if isinstance(TO, pd.DataFrame):\n",
    "        TO.loc[:,\"site\"] = TO.index.values ; TO.index = TO.time\n",
    "        sm = TO.value.rolling(window=20,center=True,min_periods=1).mean()        ; sm_TO = sm.reindex(model_times,method=\"nearest\")\n",
    "    low_pass_filter[site] = sm_TO\n",
    "moving_average = pd.DataFrame(low_pass_filter) ; moving_average.to_csv (sim_ws3/ \"06_moving_average.csv\")"
   ]
  },
  {
   "cell_type": "code",
   "execution_count": 11,
   "metadata": {},
   "outputs": [],
   "source": [
    "last_check = 0 ; dfs = []\n",
    "for ind in [25,50,75,100,125]:\n",
    "    dfs.append(simplest_sample.loc[last_check:ind-1]) ; last_check = ind\n",
    "dfs[1].index = range(len(dfs[1].index)) ; df1 = dfs[1].drop(['time', 'site'], axis=1); df1.columns = ['TRGW-0-26-6'] ; df1.tail(2)\n",
    "dfs[2].index = range(len(dfs[2].index)) ; df2 = dfs[2].drop(['time', 'site'], axis=1); df2.columns = ['TRGW-2-26-6'] ; df2.tail(2)\n",
    "dfs[3].index = range(len(dfs[3].index)) ; df3 = dfs[3].drop(['time', 'site'], axis=1); df3.columns = ['TRGW-0-3-8' ] ; df3.tail(2)\n",
    "dfs[4].index = range(len(dfs[4].index)) ; df4 = dfs[4].drop(['time', 'site'], axis=1); df4.columns = ['TRGW-2-3-8' ] ; df4.tail(2)\n",
    "df0=dfs[0] ; df0 = dfs[0].drop(['site'], axis=1); df0.columns = ['time','GAGE-1']    \n",
    "df = pd.concat([df0,df1,df2,df3,df4],axis=1); dff = df.set_index('time')"
   ]
  },
  {
   "cell_type": "code",
   "execution_count": 12,
   "metadata": {},
   "outputs": [],
   "source": [
    "df5 = df0['GAGE-1'] / df0['GAGE-1'].mean()* df1['TRGW-0-26-6'].mean(); df5\n",
    "dfg = pd.concat([df.loc[:, ['time']],df5],axis=1) ;dfg = dfg.set_index('time'); dfg.head(2); "
   ]
  },
  {
   "cell_type": "code",
   "execution_count": 13,
   "metadata": {},
   "outputs": [
    {
     "data": {
      "image/png": "[encoded data removed]",
      "text/plain": [
       "<Figure size 1200x200 with 1 Axes>"
      ]
     },
     "metadata": {},
     "output_type": "display_data"
    }
   ],
   "source": [
    "ax = dff.plot(use_index=True, y= ['TRGW-0-26-6','TRGW-2-26-6','TRGW-0-3-8','TRGW-2-3-8'] , figsize=(12,2), title='closest measured values 25 in 732')"
   ]
  },
  {
   "cell_type": "code",
   "execution_count": 14,
   "metadata": {},
   "outputs": [
    {
     "name": "stdout",
     "output_type": "stream",
     "text": [
      "732.0 [ 732 1464 2196 2928 3660]\n"
     ]
    }
   ],
   "source": [
    "print(obs_data.shape[0]/5 , np.linspace(732, obs_data.shape[0], num=5,dtype=int))"
   ]
  },
  {
   "cell_type": "code",
   "execution_count": 15,
   "metadata": {},
   "outputs": [],
   "source": [
    "OBSa = obs_data;  OBSa.reset_index(inplace=True); OBSa\n",
    "last_check = 0 ; dfs = []\n",
    "for ind in [732,1464,2169,2928,3600]:\n",
    "    dfs.append(OBSa.loc[last_check:ind-1]) ; last_check = ind\n",
    "ref_1 = dfs[1]; ref_1b = ref_1.set_index('time') ; ref_1b.head(2)  ; ref_1b.to_csv (sim_ws3/ \"05_ref_1b.csv\")"
   ]
  },
  {
   "cell_type": "code",
   "execution_count": 16,
   "metadata": {},
   "outputs": [],
   "source": [
    "#fig, axes = plt.subplots(1,1, figsize=(12,2))         ; ax = dff['TRGW-0-26-6'].plot(color='black')  ; _ = ref_1b['value'].plot(ax = ax)      \n",
    "#fig.suptitle('sampling closest x measured values 25 x 732_ data 1 of 5 (TRGW-0-26-6)'   , fontsize=12)         ; plt.show()"
   ]
  },
  {
   "cell_type": "markdown",
   "metadata": {},
   "source": [
    "<font color='blue'> **... moving_average - low-pass filter** </font>  <font color='red'> **- time-series** </font>"
   ]
  },
  {
   "cell_type": "code",
   "execution_count": 17,
   "metadata": {},
   "outputs": [
    {
     "data": {
      "image/png": "[encoded data removed]",
      "text/plain": [
       "<Figure size 1200x300 with 2 Axes>"
      ]
     },
     "metadata": {},
     "output_type": "display_data"
    }
   ],
   "source": [
    "fig, axes = plt.subplots(1,1, figsize=(12,3))   \n",
    "ax = dff['TRGW-0-26-6'].plot(color='black' ,lw=1)                 ; ax.set_ylabel('Heads(m)')\n",
    "ax = dfg['GAGE-1'].plot(color='blue' ,lw=0.25,  secondary_y=True) ; ax.set_ylabel('GAGE-1 (m3)', color='blue')\n",
    "_  = ref_1b['value'].plot(ax = ax, lw=0.25, grid=True)      \n",
    "_  = moving_average['TRGW-0-26-6'].plot(ax = ax, color='red')     ; fig.suptitle('Measured x Simplest x Moving_average', fontsize=12) ; plt.show()"
   ]
  },
  {
   "cell_type": "markdown",
   "metadata": {},
   "source": [
    "<font color='blue'> **Updating Target Observation Values** "
   ]
  },
  {
   "cell_type": "code",
   "execution_count": 36,
   "metadata": {},
   "outputs": [
    {
     "data": {
      "text/html": [
       "<div>\n",
       "<style scoped>\n",
       "    .dataframe tbody tr th:only-of-type {\n",
       "        vertical-align: middle;\n",
       "    }\n",
       "\n",
       "    .dataframe tbody tr th {\n",
       "        vertical-align: top;\n",
       "    }\n",
       "\n",
       "    .dataframe thead th {\n",
       "        text-align: right;\n",
       "    }\n",
       "</style>\n",
       "<table border=\"1\" class=\"dataframe\">\n",
       "  <thead>\n",
       "    <tr style=\"text-align: right;\">\n",
       "      <th></th>\n",
       "      <th>GAGE-1</th>\n",
       "      <th>TRGW-0-26-6</th>\n",
       "      <th>TRGW-2-26-6</th>\n",
       "      <th>TRGW-0-3-8</th>\n",
       "      <th>TRGW-2-3-8</th>\n",
       "    </tr>\n",
       "    <tr>\n",
       "      <th>time</th>\n",
       "      <th></th>\n",
       "      <th></th>\n",
       "      <th></th>\n",
       "      <th></th>\n",
       "      <th></th>\n",
       "    </tr>\n",
       "  </thead>\n",
       "  <tbody>\n",
       "    <tr>\n",
       "      <th>3652.5</th>\n",
       "      <td>2943.238710</td>\n",
       "      <td>37.375797</td>\n",
       "      <td>37.32817</td>\n",
       "      <td>38.030892</td>\n",
       "      <td>37.987255</td>\n",
       "    </tr>\n",
       "    <tr>\n",
       "      <th>3683.5</th>\n",
       "      <td>2815.377509</td>\n",
       "      <td>37.168420</td>\n",
       "      <td>37.16685</td>\n",
       "      <td>38.006539</td>\n",
       "      <td>37.987231</td>\n",
       "    </tr>\n",
       "  </tbody>\n",
       "</table>\n",
       "</div>"
      ],
      "text/plain": [
       "             GAGE-1  TRGW-0-26-6  TRGW-2-26-6  TRGW-0-3-8  TRGW-2-3-8\n",
       "time                                                                 \n",
       "3652.5  2943.238710    37.375797     37.32817   38.030892   37.987255\n",
       "3683.5  2815.377509    37.168420     37.16685   38.006539   37.987231"
      ]
     },
     "execution_count": 36,
     "metadata": {},
     "output_type": "execute_result"
    }
   ],
   "source": [
    "obs_names = obs.loc[obs.oname.isin(['hds', 'sfr']), 'obsnme']  ;obs_names ;np.savetxt(sim_ws3/\"07a_obs_names.csv\", obs_names, fmt =\"%s\",delimiter=\",\")\n",
    "time_str = obs_data.index.map(lambda x: f\"time:{x}\").values    ;time_str  ;np.savetxt(sim_ws3/\"07b_time_str.csv\" , time_str , fmt =\"%s\",delimiter=\",\")\n",
    "obs_data.tail(2)\n",
    "moving_average.head(2)"
   ]
  },
  {
   "cell_type": "code",
   "execution_count": 23,
   "metadata": {},
   "outputs": [],
   "source": [
    "missing=[]\n",
    "for col in obs_data.columns:\n",
    "    obs_sufix = col.lower()+\"_\"+time_str\n",
    "    for string, oval, time in zip(obs_sufix,obs_data.loc[:,col].values, obs_data.index.values):\n",
    "            if not any(string in obsnme for obsnme in obs_names):\n",
    "                if string.startswith(\"trgw-2\"):\n",
    "                    pass\n",
    "                else:      missing.append(string)\n",
    "            else:\n",
    "                obsnme=[ks for ks in obs_names if string in ks] ;assert len(obsnme)==1,string     ;obsnme=obsnme[0]   ;obs.loc[obsnme,\"obsval\"]=oval\n",
    "                if time > 3652.5 and time <=4018.5:                     obs.loc[obsnme,\"weight\"] = 1.0\n",
    "obs.to_csv (sim_ws3/ \"08(01b)_OBS2.csv\")"
   ]
  },
  {
   "cell_type": "code",
   "execution_count": null,
   "metadata": {},
   "outputs": [],
   "source": [
    "pst.nnz_obs_groups"
   ]
  },
  {
   "cell_type": "code",
   "execution_count": 37,
   "metadata": {},
   "outputs": [
    {
     "data": {
      "text/plain": [
       "array(['hds', 'sfr', 'hk', 'hdslay1', 'inc', 'cum', 'sfrtd', 'hdstd', nan],\n",
       "      dtype=object)"
      ]
     },
     "execution_count": 37,
     "metadata": {},
     "output_type": "execute_result"
    }
   ],
   "source": [
    "pst.observation_data.oname.unique()"
   ]
  },
  {
   "cell_type": "markdown",
   "metadata": {},
   "source": [
    "So that has sorted out the absolute observation groups. But remember the 'sfrtd' and 'hdstd' observation groups? Yeah thats right, we also added in a bunch of other \"secondary observations\" (the time difference between obsevrations) as well as postprocessing functions to get them from model outputs. We need to get target values for these observations into our control file as well!\n",
    "\n",
    "Let's start by calculating the secondary values from the absolute measured values. In our case, the easiest is to populate the model output files with measured values and then call our postprocessing function.\n",
    "\n",
    "Let's first read in the SFR model output file, just so we can see what is happening:"
   ]
  },
  {
   "cell_type": "code",
   "execution_count": null,
   "metadata": {},
   "outputs": [],
   "source": [
    "obs_sfr = pd.read_csv(os.path.join(sim_ws2,\"sfr.csv\"),\n",
    "                    index_col=0)\n",
    "\n",
    "obs_sfr.head()"
   ]
  },
  {
   "cell_type": "markdown",
   "metadata": {},
   "source": [
    "Now update the model output csv files with the smooth-sampled measured values:"
   ]
  },
  {
   "cell_type": "code",
   "execution_count": null,
   "metadata": {},
   "outputs": [],
   "source": [
    "def update_obs_csv(obs_csv):\n",
    "    obsdf = pd.read_csv(obs_csv, index_col=0)\n",
    "    check = obsdf.copy()\n",
    "    # update values in reelvant cols\n",
    "    for col in low_pass_filter.columns:\n",
    "        if col in obsdf.columns:\n",
    "            obsdf.loc[:,col] = low_pass_filter.loc[:,col]\n",
    "    # keep only measured data columns; helps for vdiff and tdiff obs later on\n",
    "    #obsdf = obsdf.loc[:,[col for col in low_pass_filter.columns if col in obsdf.columns]]\n",
    "    # rewrite the model output file\n",
    "    obsdf.to_csv(obs_csv)\n",
    "    # check \n",
    "    obsdf = pd.read_csv(obs_csv, index_col=0)\n",
    "    assert (obsdf.index==check.index).all()\n",
    "    return obsdf\n",
    "\n",
    "# update the SFR obs csv\n",
    "obs_srf = update_obs_csv(os.path.join(sim_ws2,\"sfr.csv\"))\n",
    "# update the heads obs csv\n",
    "obs_hds = update_obs_csv(os.path.join(sim_ws2,\"heads.csv\"))"
   ]
  },
  {
   "cell_type": "markdown",
   "metadata": {},
   "source": [
    "OK...now we can run the postprocessing function to update the \"tdiff\" model output csv's. Copy across the `helpers.py` we used during the `PstFrom` tutorial. Then import it and run the `process_secondary_obs()` function."
   ]
  },
  {
   "cell_type": "code",
   "execution_count": null,
   "metadata": {},
   "outputs": [],
   "source": [
    "shutil.copy2(os.path.join('..','part2_01_pstfrom_pest_setup', 'helpers.py'),\n",
    "            os.path.join('helpers.py'))\n",
    "\n",
    "import helpers\n",
    "helpers.process_secondary_obs(ws=sim_ws2)"
   ]
  },
  {
   "cell_type": "code",
   "execution_count": null,
   "metadata": {},
   "outputs": [],
   "source": [
    "# the oname column in the pst.observation_data provides a useful way to select observations in this case\n",
    "obs.oname.unique()"
   ]
  },
  {
   "cell_type": "code",
   "execution_count": null,
   "metadata": {},
   "outputs": [],
   "source": [
    "org_nnzobs = pst.nnz_obs\n",
    "    #if (pst.nnz_obs-org_nnzobs)!=0:\n",
    "    #    assert (pst.nnz_obs-org_nnzobs)==obs_data.count().sum()"
   ]
  },
  {
   "cell_type": "code",
   "execution_count": null,
   "metadata": {},
   "outputs": [],
   "source": [
    "print('Number of nonzero obs:', pst.nnz_obs)\n",
    "\n",
    "diff_obsdict = {'sfrtd': \"sfr.tdiff.csv\", \n",
    "                'hdstd': \"heads.tdiff.csv\",\n",
    "                }\n",
    "\n",
    "for keys, value in diff_obsdict.items():\n",
    "    print(keys)\n",
    "    # get subselct of obs names\n",
    "    obs_names = obs.loc[obs.oname.isin([keys]), 'obsnme']\n",
    "    # get df\n",
    "    obs_csv = pd.read_csv(os.path.join(sim_ws2,value),index_col=0)\n",
    "    # specify cols to use; make use of info recorded in pst.observation_data to only select cols with measured data\n",
    "    usecols = list(set((map(str.upper, obs.loc[pst.nnz_obs_names,'usecol'].unique()))) & set(obs_csv.columns.tolist()))\n",
    "    obs_csv = obs_csv.loc[:, usecols]\n",
    "    # for checking\n",
    "    org_nnz_obs_names = pst.nnz_obs_names\n",
    "    # run the function\n",
    "    update_pst_obsvals(obs_names,\n",
    "                        obs_csv)\n",
    "    # verify num of new nnz obs\n",
    "    print(pst.nnz_obs)\n",
    "    print(len(org_nnz_obs_names))\n",
    "    print(len(usecols))\n",
    "    assert (pst.nnz_obs-len(org_nnz_obs_names))==12*len(usecols), [i for i in pst.nnz_obs_names if i not in org_nnz_obs_names]"
   ]
  },
  {
   "cell_type": "code",
   "execution_count": null,
   "metadata": {},
   "outputs": [],
   "source": [
    "pst.nnz_obs_groups"
   ]
  },
  {
   "cell_type": "code",
   "execution_count": null,
   "metadata": {},
   "outputs": [],
   "source": [
    "pst.nnz_obs_names"
   ]
  },
  {
   "cell_type": "markdown",
   "metadata": {},
   "source": [
    "The next cell does some sneaky things in the background to populate `obsvals` for forecast observations just so that we can keep track of the truth. In real-world applications you might assign values that reflect decision-criteria (such as limits at which \"bad things\" happen, for example) simply as a convenience. For the purposes of history matching, these values have no impact because they are assigned zero weight. They can play a role in specifying constraints when undertaking optimisation problems.  "
   ]
  },
  {
   "cell_type": "code",
   "execution_count": null,
   "metadata": {},
   "outputs": [],
   "source": [
    "pst.observation_data.loc[pst.forecast_names]"
   ]
  },
  {
   "cell_type": "code",
   "execution_count": null,
   "metadata": {},
   "outputs": [],
   "source": [
    "hbd.prep_forecasts(pst)"
   ]
  },
  {
   "cell_type": "code",
   "execution_count": null,
   "metadata": {},
   "outputs": [],
   "source": [
    "pst.observation_data.loc[pst.forecast_names]"
   ]
  },
  {
   "cell_type": "markdown",
   "metadata": {},
   "source": [
    "## Observation Weights\n",
    "\n",
    "Of all the issues that we have seen over the years, none is greater than (in)appropriate weighting strategies.  It is a critical and fundamental component of any inverse problem, but is especially important in settings where the model is imperfect simulator and the observation data are noisy and there are diverse types of data.  Goundwater modeling anyone? \n",
    "\n",
    "In essence the weights will change the shape of the objective function surface in parameter space, moving the minimum around and altering the path to the minimum (this can be seen visually in the response surface notebooks).  Given the important role weights play in the outcome of a history-matching/data assimilation analysis, rarely is a weighting strategy \"one and done\", instead it is continuously revisited during a modeling analysis, based on what happened during the previous history-matching attempt.  \n",
    "\n",
    "We are going to start off by taking a look at our current objective function value and the relative contributions from the various observation groups - these relative contributions are a function of the residuals and weights in each group. Recall that this is the objective function value with **initial parameter values** and the default observations weights.\n",
    "\n",
    "First off, we need to get PEST to run the model once so that the objective function can be calculated. Let's do that now. Start by reading the control file and checking that NOPTMAX is set to zero:\n",
    "\n"
   ]
  },
  {
   "cell_type": "code",
   "execution_count": null,
   "metadata": {},
   "outputs": [],
   "source": [
    "# check noptmax\n",
    "pst.control_data.noptmax"
   ]
  },
  {
   "cell_type": "markdown",
   "metadata": {},
   "source": [
    "You got a zero? Alrighty then! Let's write the uprated control file and run PEST again and see what that has done to our Phi:"
   ]
  },
  {
   "cell_type": "code",
   "execution_count": null,
   "metadata": {},
   "outputs": [],
   "source": [
    "pst.write(os.path.join(sim_ws2,pst_file),version=2)"
   ]
  },
  {
   "cell_type": "code",
   "execution_count": null,
   "metadata": {},
   "outputs": [],
   "source": [
    "pyemu.os_utils.run(\"pestpp-ies.exe {0}\".format(pst_file),cwd=sim_ws2)"
   ]
  },
  {
   "cell_type": "markdown",
   "metadata": {},
   "source": [
    "Now we need to reload the `Pst` control file so that the residuals are updated:"
   ]
  },
  {
   "cell_type": "code",
   "execution_count": null,
   "metadata": {},
   "outputs": [],
   "source": [
    "pst = pyemu.Pst(os.path.join(sim_ws2, pst_file))\n",
    "pst.phi"
   ]
  },
  {
   "cell_type": "markdown",
   "metadata": {},
   "source": [
    "Jeepers - that's large! Before we race off and start running PEST to lower it we should compare simualted and measured values and take a look at the components of Phi. \n",
    "\n",
    "Let's start with taking a closer look. The `pst.phi_components` attribute returns a dictionary of the observation group names and their contribution to the overal value of Phi. "
   ]
  },
  {
   "cell_type": "code",
   "execution_count": null,
   "metadata": {},
   "outputs": [],
   "source": [
    "pst.phi_components"
   ]
  },
  {
   "cell_type": "markdown",
   "metadata": {},
   "source": [
    "\n",
    "Unfortunately, in this case we have too many observation groups to easily display (we assigned each individual time series to its own observation group; this is a default setting in `pyemu.PstFrom`). \n",
    "\n",
    "So let's use `Pandas` to help us sumamrize this information (note: `pyemu.plot_utils.res_phi_pie()` does the same thing, but it looks a bit ugly because of the large number of observation groups). To make it easier, we are going to just look at the nonzero observation groups:"
   ]
  },
  {
   "cell_type": "code",
   "execution_count": null,
   "metadata": {},
   "outputs": [],
   "source": [
    "nnz_phi_components = {k:pst.phi_components[k] for k in pst.nnz_obs_groups} # that's a dictionary comprehension there y'all\n",
    "nnz_phi_components"
   ]
  },
  {
   "cell_type": "markdown",
   "metadata": {},
   "source": [
    "And while we are at it, plot these in a pie chart. \n",
    "\n",
    "If you wish, try displaying this with `pyemu.plot_utils.res_phi_pie()` instead. Because of the large number of columns it's not going to be pretty, but it gets the job done."
   ]
  },
  {
   "cell_type": "code",
   "execution_count": null,
   "metadata": {},
   "outputs": [],
   "source": [
    "phicomp = pd.Series(nnz_phi_components)\n",
    "plt.pie(phicomp, labels=phicomp.index.values);\n",
    "#pyemu.plot_utils.res_phi_pie(pst,);"
   ]
  },
  {
   "cell_type": "markdown",
   "metadata": {},
   "source": [
    "Well that is certainly not ideal - phi is dominated by the SFR observation groups. Why? Because the magnitude of these observation values are much larger than groundwater-level based observations, so we can expect the residuals in SFR observations to be yuge compared to groundwater level residuals...and we assigned the same weight to all of them...\n",
    "\n",
    "Now we have some choices to make.  In many settings, there are certain observations (or observation groups) that are of increased importance, whether its for predictive reasons (like some data are more similar to the predictive outputs from the modeling) or political - \"show me obs vs sim for well XXX\"...If this is the case, then it is probably important to give those observations a larger portion of the composite objective function so that the results of the history matching better reproduce those important observations.  \n",
    "\n",
    "In this set of notebooks, we will use another very common approach: give all observations groups an equal portion of the composite objective function.  This basically says \"all of the different observation groups are important, so do your best with all of them\"\n",
    "\n",
    "The `Pst.adjust_weights()` method provides a mechanism to fine tune observation weights according to their contribution to the objective function. (*Side note: the PWTADJ1 utility from the PEST-suite automates this same process of \"weighting for visibility\".*) \n",
    "\n",
    "We start by creating a dictionary of non-zero weighted observation group names and their respective contributions to the objective function. Herein, we will use the existing composite phi value as the target composite phi...\n"
   ]
  },
  {
   "cell_type": "code",
   "execution_count": null,
   "metadata": {},
   "outputs": [],
   "source": [
    "# create a dictionary of group names and weights\n",
    "contrib_per_group = pst.phi / float(len(pst.nnz_obs_groups))\n",
    "balanced_groups = {grp:contrib_per_group for grp in pst.nnz_obs_groups}\n",
    "balanced_groups"
   ]
  },
  {
   "cell_type": "code",
   "execution_count": null,
   "metadata": {},
   "outputs": [],
   "source": [
    "# make all non-zero weighted groups have a contribution of 100.0\n",
    "pst.adjust_weights(obsgrp_dict=balanced_groups,)"
   ]
  },
  {
   "cell_type": "markdown",
   "metadata": {},
   "source": [
    "Let's take a look at how that has affected the contributions to Phi:"
   ]
  },
  {
   "cell_type": "code",
   "execution_count": null,
   "metadata": {},
   "outputs": [],
   "source": [
    "plt.figure(figsize=(7,7))\n",
    "phicomp = pd.Series({k:pst.phi_components[k] for k in pst.nnz_obs_groups})\n",
    "plt.pie(phicomp, labels=phicomp.index.values);\n",
    "plt.tight_layout()"
   ]
  },
  {
   "cell_type": "markdown",
   "metadata": {},
   "source": [
    "Better! Now each observation group contributes equally to the objective function"
   ]
  },
  {
   "cell_type": "markdown",
   "metadata": {},
   "source": [
    "The next cell adds in a column to the `pst.observation_data` for checking purposes in subsequent tutorials. In practice, when you have lots of model outputs treated as \"obserations\" in the pest control file, setting a flag to indicate exactly which observation quantities correspond to actual real-world information can be important for tracking things through your workflow..."
   ]
  },
  {
   "cell_type": "code",
   "execution_count": null,
   "metadata": {},
   "outputs": [],
   "source": [
    "pst.observation_data.loc[pst.nnz_obs_names,'observed'] = 1"
   ]
  },
  {
   "cell_type": "markdown",
   "metadata": {},
   "source": [
    "### Understanding Observation Weights and Measurement Noise\n",
    "\n",
    "Let's have a look at what weight values were assigned to our observation groups:"
   ]
  },
  {
   "cell_type": "code",
   "execution_count": null,
   "metadata": {},
   "outputs": [],
   "source": [
    "obs = pst.observation_data\n",
    "for group in pst.nnz_obs_groups:\n",
    "    print(group,obs.loc[obs.obgnme==group,\"weight\"].unique())"
   ]
  },
  {
   "cell_type": "markdown",
   "metadata": {},
   "source": [
    "Ok, some variability there, and, as expected, the sfr flowout observations have been given a very low weight and the groundwater level obs have been given a very high weight - this is simply to overcome the difference in magnitudes between these two different data types.  All good...or is it?\n",
    "\n",
    "In standard deterministic parameter estimation, only the relative difference between the weights matters, so we are fine there...but in uncertainty analysis, we often want to account for the contribution from measurement noise and we havent told any of the pest++ tools not to use the inverse of the weights to approximate measurement noise, and this is a problem because those weights we assigned have no relation to measurement noise!  This can cause massive problems later, especially is you are using explicit noise realizations in uncertainty analysis - Imagine how much SFR flow noise is implied by that tiny weight?  It's easy to see how negative SFR flow noise values might be drawn with that small of a weight (high of a standard deviation) #badtimes.   \n",
    "\n",
    "So what can we do?  Well there are options.  An easy way is to simply supply a \"standard_deviation\" column in the `pst.observation_data` dataframe that will cause these values to be used to represent measurement noise.  "
   ]
  },
  {
   "cell_type": "code",
   "execution_count": null,
   "metadata": {},
   "outputs": [],
   "source": [
    "obs = pst.observation_data\n",
    "obs.loc[:,\"standard_deviation\"] = np.nan\n",
    "hds_obs = [o for o in pst.nnz_obs_names if \"oname:hds_\" in o]\n",
    "assert len(hds_obs) > 0\n",
    "obs.loc[hds_obs,\"standard_deviation\"] = 0.5\n",
    "hdstd_obs = [o for o in pst.nnz_obs_names if \"oname:hdstd_\" in o]\n",
    "assert len(hdstd_obs) > 0\n",
    "obs.loc[hdstd_obs,\"standard_deviation\"] = 0.01\n",
    "\n",
    "sfr_obs = [o for o in pst.nnz_obs_names if \"oname:sfr_\" in o]\n",
    "assert len(sfr_obs) > 0\n",
    "# here we will used noise that is a function of the observed flow value so that \n",
    "# when flow is high, noise is high.\n",
    "obs.loc[sfr_obs,\"standard_deviation\"] = abs(obs.loc[sfr_obs,\"obsval\"] * 0.1)\n",
    "sfrtd_obs = [o for o in pst.nnz_obs_names if \"oname:sfrtd_\" in o]\n",
    "assert len(sfrtd_obs) > 0\n",
    "obs.loc[sfrtd_obs,\"standard_deviation\"] = abs(obs.loc[sfrtd_obs,\"obsval\"] * 0.1)"
   ]
  },
  {
   "cell_type": "code",
   "execution_count": null,
   "metadata": {},
   "outputs": [],
   "source": [
    "pst.write(os.path.join(sim_ws2,pst_file),version=2)"
   ]
  },
  {
   "cell_type": "markdown",
   "metadata": {},
   "source": [
    "Some **caution** is required here. Observation weights and how these pertain to history-matching *versus* how they pertain to generating an observation ensemble for use with `pestpp-ies` or FOSM is a frequent source of confusion.\n",
    "\n",
    " - when **history-matching**, observation weights listed in the control file determine their contribution to the objective function, and therefore to the parameter estimation process. Here, observation weights may be assigned to reflect observation uncertainty, the balance required for equal \"visibility\", or other modeller-defined (and perhaps subjective...) measures of observation worth.  \n",
    " - when undertaking **uncertainty analysis**, weights should reflect ideally the inverse of observation error (or the standard deviation of measurement noise). Keep this in mind when using `pestpp-glm` or `pestpp-ies`. If the observations in the control file do not have error-based weighting then (1) care is required if using `pestpp-glm` for FOSM and (2) make sure to provide an adequately prepared observation ensemble to `pestpp-ies`.\n",
    "\n"
   ]
  },
  {
   "cell_type": "markdown",
   "metadata": {},
   "source": [
    "Made it this far? Congratulations! Have a cookie :)"
   ]
  }
 ],
 "metadata": {
  "kernelspec": {
   "display_name": "Python 3 (ipykernel)",
   "language": "python",
   "name": "python3"
  },
  "language_info": {
   "codemirror_mode": {
    "name": "ipython",
    "version": 3
   },
   "file_extension": ".py",
   "mimetype": "text/x-python",
   "name": "python",
   "nbconvert_exporter": "python",
   "pygments_lexer": "ipython3",
   "version": "3.12.7"
  }
 },
 "nbformat": 4,
 "nbformat_minor": 4
}
