{
 "cells": [
  {
   "cell_type": "markdown",
   "id": "6bbd8b3e-96b3-4256-bcda-65b974348ff6",
   "metadata": {},
   "source": [
    "**part2_01c_reimagined**"
   ]
  },
  {
   "cell_type": "code",
   "execution_count": 1,
   "id": "0e4bbe3f-a7d1-4378-9e85-2023851907b9",
   "metadata": {
    "collapsed": true,
    "jupyter": {
     "outputs_hidden": true
    }
   },
   "outputs": [
    {
     "name": "stdout",
     "output_type": "stream",
     "text": [
      "2025-06-05 15:47:19.878035 starting: opening PstFrom.log for logging\n",
      "2025-06-05 15:47:19.879035 starting PstFrom process\n",
      "2025-06-05 15:47:19.879035 starting: setting up dirs\n",
      "2025-06-05 15:47:19.879035 starting: removing existing new_d 'part2_01_OUTb'\n",
      "2025-06-05 15:47:19.899040 finished: removing existing new_d 'part2_01_OUTb' took: 0:00:00.020005\n",
      "2025-06-05 15:47:19.899040 starting: copying original_d 'E:\\15_REPOS\\00_BETAMI\\97_GMDSI\\models\\monthly_model_files_1lyr_newstress_2' to new_d 'part2_01_OUTb'\n",
      "2025-06-05 15:47:19.970056 finished: copying original_d 'E:\\15_REPOS\\00_BETAMI\\97_GMDSI\\models\\monthly_model_files_1lyr_newstress_2' to new_d 'part2_01_OUTb' took: 0:00:00.071016\n",
      "2025-06-05 15:47:19.971056 finished: setting up dirs took: 0:00:00.092021\n"
     ]
    }
   ],
   "source": [
    "import flopy; import os ; import pyemu ; import pandas as pd ; from pathlib import Path ; import matplotlib.pyplot as plt\n",
    "sim_ws1 = Path('E:\\\\15_REPOS\\\\00_BETAMI\\\\97_GMDSI\\\\models\\\\monthly_model_files_1lyr_newstress_2') \n",
    "pf = pyemu.utils.PstFrom(sim_ws1,'part2_01_OUTb', remove_existing=True)                              ; model_ws = 'part2_01_OUTb'"
   ]
  },
  {
   "cell_type": "markdown",
   "id": "ec91332c-cb69-492e-b4a2-4c7bd90e73d4",
   "metadata": {},
   "source": [
    "## <font color='blue'> **OBS_PAR** </font> "
   ]
  },
  {
   "cell_type": "code",
   "execution_count": 2,
   "id": "1c4a6c9e-77ef-4f46-95da-cbdf9ae3b2f6",
   "metadata": {
    "collapsed": true,
    "jupyter": {
     "outputs_hidden": true
    }
   },
   "outputs": [
    {
     "name": "stdout",
     "output_type": "stream",
     "text": [
      "2025-06-05 15:47:19.975733 transform was not passed, setting default tranform to 'log'\n",
      "2025-06-05 15:47:19.975733 starting: adding grid type m style parameters for file(s) ['freyberg6.npf_k_layer1.txt']\n",
      "2025-06-05 15:47:19.976733 starting: loading array part2_01_OUTb\\freyberg6.npf_k_layer1.txt\n",
      "2025-06-05 15:47:19.985736 finished: loading array part2_01_OUTb\\freyberg6.npf_k_layer1.txt took: 0:00:00.009003\n",
      "2025-06-05 15:47:19.985736 loaded array 'E:\\15_REPOS\\00_BETAMI\\97_GMDSI\\models\\monthly_model_files_1lyr_newstress_2\\freyberg6.npf_k_layer1.txt' of shape (40, 20)\n",
      "2025-06-05 15:47:19.987736 starting: writing array-style template file 'part2_01_OUTb\\p_inst0_grid.csv.tpl'\n",
      "2025-06-05 15:47:19.987736 starting: writing template file part2_01_OUTb\\p_inst0_grid.csv.tpl for ['p_inst:0']\n",
      "2025-06-05 15:47:20.000739 finished: writing template file part2_01_OUTb\\p_inst0_grid.csv.tpl for ['p_inst:0'] took: 0:00:00.013003\n",
      "2025-06-05 15:47:20.000739 starting: writing array-based template file 'part2_01_OUTb\\p_inst0_grid.csv.tpl'\n",
      "2025-06-05 15:47:20.005740 finished: adding grid type m style parameters for file(s) ['freyberg6.npf_k_layer1.txt'] took: 0:00:00.030007\n",
      "2025-06-05 15:47:20.010741 starting: adding observations from output file heads.csv\n",
      "2025-06-05 15:47:20.011741 starting: adding observations from tabular output file '['heads.csv']'\n",
      "2025-06-05 15:47:20.011741 starting: reading list-style file: part2_01_OUTb\\heads.csv\n",
      "2025-06-05 15:47:20.014742 finished: reading list-style file: part2_01_OUTb\\heads.csv took: 0:00:00.003001\n",
      "2025-06-05 15:47:20.016743 starting: building insfile for tabular output file heads.csv\n",
      "2025-06-05 15:47:20.021744 finished: building insfile for tabular output file heads.csv took: 0:00:00.005001\n",
      "2025-06-05 15:47:20.021744 starting: adding observation from instruction file 'part2_01_OUTb\\heads.csv.ins'\n",
      "2025-06-05 15:47:20.038747 finished: adding observation from instruction file 'part2_01_OUTb\\heads.csv.ins' took: 0:00:00.017003\n",
      "2025-06-05 15:47:20.039748 finished: adding observations from tabular output file '['heads.csv']' took: 0:00:00.028007\n",
      "2025-06-05 15:47:20.039748 finished: adding observations from output file heads.csv took: 0:00:00.029007\n"
     ]
    },
    {
     "data": {
      "text/html": [
       "<div>\n",
       "<style scoped>\n",
       "    .dataframe tbody tr th:only-of-type {\n",
       "        vertical-align: middle;\n",
       "    }\n",
       "\n",
       "    .dataframe tbody tr th {\n",
       "        vertical-align: top;\n",
       "    }\n",
       "\n",
       "    .dataframe thead th {\n",
       "        text-align: right;\n",
       "    }\n",
       "</style>\n",
       "<table border=\"1\" class=\"dataframe\">\n",
       "  <thead>\n",
       "    <tr style=\"text-align: right;\">\n",
       "      <th></th>\n",
       "      <th>obsnme</th>\n",
       "      <th>obsval</th>\n",
       "      <th>weight</th>\n",
       "      <th>obgnme</th>\n",
       "    </tr>\n",
       "  </thead>\n",
       "  <tbody>\n",
       "    <tr>\n",
       "      <th>oname:heads.csv_otype:lst_usecol:trgw-0-13-10_time:3652.5</th>\n",
       "      <td>oname:heads.csv_otype:lst_usecol:trgw-0-13-10_time:3652.5</td>\n",
       "      <td>34.797358</td>\n",
       "      <td>1.0</td>\n",
       "      <td>oname:heads.csv_otype:lst_usecol:trgw-0-13-10</td>\n",
       "    </tr>\n",
       "    <tr>\n",
       "      <th>oname:heads.csv_otype:lst_usecol:trgw-0-13-10_time:3683.5</th>\n",
       "      <td>oname:heads.csv_otype:lst_usecol:trgw-0-13-10_time:3683.5</td>\n",
       "      <td>34.768494</td>\n",
       "      <td>1.0</td>\n",
       "      <td>oname:heads.csv_otype:lst_usecol:trgw-0-13-10</td>\n",
       "    </tr>\n",
       "    <tr>\n",
       "      <th>oname:heads.csv_otype:lst_usecol:trgw-0-13-10_time:3712.5</th>\n",
       "      <td>oname:heads.csv_otype:lst_usecol:trgw-0-13-10_time:3712.5</td>\n",
       "      <td>34.821230</td>\n",
       "      <td>1.0</td>\n",
       "      <td>oname:heads.csv_otype:lst_usecol:trgw-0-13-10</td>\n",
       "    </tr>\n",
       "    <tr>\n",
       "      <th>oname:heads.csv_otype:lst_usecol:trgw-0-13-10_time:3743.5</th>\n",
       "      <td>oname:heads.csv_otype:lst_usecol:trgw-0-13-10_time:3743.5</td>\n",
       "      <td>34.920983</td>\n",
       "      <td>1.0</td>\n",
       "      <td>oname:heads.csv_otype:lst_usecol:trgw-0-13-10</td>\n",
       "    </tr>\n",
       "    <tr>\n",
       "      <th>oname:heads.csv_otype:lst_usecol:trgw-0-13-10_time:3773.5</th>\n",
       "      <td>oname:heads.csv_otype:lst_usecol:trgw-0-13-10_time:3773.5</td>\n",
       "      <td>35.008383</td>\n",
       "      <td>1.0</td>\n",
       "      <td>oname:heads.csv_otype:lst_usecol:trgw-0-13-10</td>\n",
       "    </tr>\n",
       "    <tr>\n",
       "      <th>...</th>\n",
       "      <td>...</td>\n",
       "      <td>...</td>\n",
       "      <td>...</td>\n",
       "      <td>...</td>\n",
       "    </tr>\n",
       "    <tr>\n",
       "      <th>oname:heads.csv_otype:lst_usecol:trgw-0-9-1_time:4261.5</th>\n",
       "      <td>oname:heads.csv_otype:lst_usecol:trgw-0-9-1_time:4261.5</td>\n",
       "      <td>36.302093</td>\n",
       "      <td>1.0</td>\n",
       "      <td>oname:heads.csv_otype:lst_usecol:trgw-0-9-1</td>\n",
       "    </tr>\n",
       "    <tr>\n",
       "      <th>oname:heads.csv_otype:lst_usecol:trgw-0-9-1_time:4291.5</th>\n",
       "      <td>oname:heads.csv_otype:lst_usecol:trgw-0-9-1_time:4291.5</td>\n",
       "      <td>36.049412</td>\n",
       "      <td>1.0</td>\n",
       "      <td>oname:heads.csv_otype:lst_usecol:trgw-0-9-1</td>\n",
       "    </tr>\n",
       "    <tr>\n",
       "      <th>oname:heads.csv_otype:lst_usecol:trgw-0-9-1_time:4322.5</th>\n",
       "      <td>oname:heads.csv_otype:lst_usecol:trgw-0-9-1_time:4322.5</td>\n",
       "      <td>35.791469</td>\n",
       "      <td>1.0</td>\n",
       "      <td>oname:heads.csv_otype:lst_usecol:trgw-0-9-1</td>\n",
       "    </tr>\n",
       "    <tr>\n",
       "      <th>oname:heads.csv_otype:lst_usecol:trgw-0-9-1_time:4352.5</th>\n",
       "      <td>oname:heads.csv_otype:lst_usecol:trgw-0-9-1_time:4352.5</td>\n",
       "      <td>35.602397</td>\n",
       "      <td>1.0</td>\n",
       "      <td>oname:heads.csv_otype:lst_usecol:trgw-0-9-1</td>\n",
       "    </tr>\n",
       "    <tr>\n",
       "      <th>oname:heads.csv_otype:lst_usecol:trgw-0-9-1_time:4383.5</th>\n",
       "      <td>oname:heads.csv_otype:lst_usecol:trgw-0-9-1_time:4383.5</td>\n",
       "      <td>35.559841</td>\n",
       "      <td>1.0</td>\n",
       "      <td>oname:heads.csv_otype:lst_usecol:trgw-0-9-1</td>\n",
       "    </tr>\n",
       "  </tbody>\n",
       "</table>\n",
       "<p>325 rows × 4 columns</p>\n",
       "</div>"
      ],
      "text/plain": [
       "                                                                                                              obsnme  \\\n",
       "oname:heads.csv_otype:lst_usecol:trgw-0-13-10_time:3652.5  oname:heads.csv_otype:lst_usecol:trgw-0-13-10_time:3652.5   \n",
       "oname:heads.csv_otype:lst_usecol:trgw-0-13-10_time:3683.5  oname:heads.csv_otype:lst_usecol:trgw-0-13-10_time:3683.5   \n",
       "oname:heads.csv_otype:lst_usecol:trgw-0-13-10_time:3712.5  oname:heads.csv_otype:lst_usecol:trgw-0-13-10_time:3712.5   \n",
       "oname:heads.csv_otype:lst_usecol:trgw-0-13-10_time:3743.5  oname:heads.csv_otype:lst_usecol:trgw-0-13-10_time:3743.5   \n",
       "oname:heads.csv_otype:lst_usecol:trgw-0-13-10_time:3773.5  oname:heads.csv_otype:lst_usecol:trgw-0-13-10_time:3773.5   \n",
       "...                                                                                                              ...   \n",
       "oname:heads.csv_otype:lst_usecol:trgw-0-9-1_time:4261.5      oname:heads.csv_otype:lst_usecol:trgw-0-9-1_time:4261.5   \n",
       "oname:heads.csv_otype:lst_usecol:trgw-0-9-1_time:4291.5      oname:heads.csv_otype:lst_usecol:trgw-0-9-1_time:4291.5   \n",
       "oname:heads.csv_otype:lst_usecol:trgw-0-9-1_time:4322.5      oname:heads.csv_otype:lst_usecol:trgw-0-9-1_time:4322.5   \n",
       "oname:heads.csv_otype:lst_usecol:trgw-0-9-1_time:4352.5      oname:heads.csv_otype:lst_usecol:trgw-0-9-1_time:4352.5   \n",
       "oname:heads.csv_otype:lst_usecol:trgw-0-9-1_time:4383.5      oname:heads.csv_otype:lst_usecol:trgw-0-9-1_time:4383.5   \n",
       "\n",
       "                                                              obsval  weight  \\\n",
       "oname:heads.csv_otype:lst_usecol:trgw-0-13-10_time:3652.5  34.797358     1.0   \n",
       "oname:heads.csv_otype:lst_usecol:trgw-0-13-10_time:3683.5  34.768494     1.0   \n",
       "oname:heads.csv_otype:lst_usecol:trgw-0-13-10_time:3712.5  34.821230     1.0   \n",
       "oname:heads.csv_otype:lst_usecol:trgw-0-13-10_time:3743.5  34.920983     1.0   \n",
       "oname:heads.csv_otype:lst_usecol:trgw-0-13-10_time:3773.5  35.008383     1.0   \n",
       "...                                                              ...     ...   \n",
       "oname:heads.csv_otype:lst_usecol:trgw-0-9-1_time:4261.5    36.302093     1.0   \n",
       "oname:heads.csv_otype:lst_usecol:trgw-0-9-1_time:4291.5    36.049412     1.0   \n",
       "oname:heads.csv_otype:lst_usecol:trgw-0-9-1_time:4322.5    35.791469     1.0   \n",
       "oname:heads.csv_otype:lst_usecol:trgw-0-9-1_time:4352.5    35.602397     1.0   \n",
       "oname:heads.csv_otype:lst_usecol:trgw-0-9-1_time:4383.5    35.559841     1.0   \n",
       "\n",
       "                                                                                                  obgnme  \n",
       "oname:heads.csv_otype:lst_usecol:trgw-0-13-10_time:3652.5  oname:heads.csv_otype:lst_usecol:trgw-0-13-10  \n",
       "oname:heads.csv_otype:lst_usecol:trgw-0-13-10_time:3683.5  oname:heads.csv_otype:lst_usecol:trgw-0-13-10  \n",
       "oname:heads.csv_otype:lst_usecol:trgw-0-13-10_time:3712.5  oname:heads.csv_otype:lst_usecol:trgw-0-13-10  \n",
       "oname:heads.csv_otype:lst_usecol:trgw-0-13-10_time:3743.5  oname:heads.csv_otype:lst_usecol:trgw-0-13-10  \n",
       "oname:heads.csv_otype:lst_usecol:trgw-0-13-10_time:3773.5  oname:heads.csv_otype:lst_usecol:trgw-0-13-10  \n",
       "...                                                                                                  ...  \n",
       "oname:heads.csv_otype:lst_usecol:trgw-0-9-1_time:4261.5      oname:heads.csv_otype:lst_usecol:trgw-0-9-1  \n",
       "oname:heads.csv_otype:lst_usecol:trgw-0-9-1_time:4291.5      oname:heads.csv_otype:lst_usecol:trgw-0-9-1  \n",
       "oname:heads.csv_otype:lst_usecol:trgw-0-9-1_time:4322.5      oname:heads.csv_otype:lst_usecol:trgw-0-9-1  \n",
       "oname:heads.csv_otype:lst_usecol:trgw-0-9-1_time:4352.5      oname:heads.csv_otype:lst_usecol:trgw-0-9-1  \n",
       "oname:heads.csv_otype:lst_usecol:trgw-0-9-1_time:4383.5      oname:heads.csv_otype:lst_usecol:trgw-0-9-1  \n",
       "\n",
       "[325 rows x 4 columns]"
      ]
     },
     "execution_count": 2,
     "metadata": {},
     "output_type": "execute_result"
    }
   ],
   "source": [
    "pf.add_parameters('freyberg6.npf_k_layer1.txt',par_type='grid')\n",
    "hh = pd.read_csv(os.path.join(model_ws, 'heads.csv'))  ;  pf.add_observations('heads.csv',index_cols='time',use_cols=hh.columns.tolist()[1:])"
   ]
  },
  {
   "cell_type": "code",
   "execution_count": 3,
   "id": "f8d89593-8248-4487-a428-42f787845fab",
   "metadata": {
    "collapsed": true,
    "jupyter": {
     "outputs_hidden": true
    }
   },
   "outputs": [
    {
     "name": "stdout",
     "output_type": "stream",
     "text": [
      "noptmax:0, npar_adj:800, nnz_obs:325\n",
      "2025-06-05 15:47:20.095675 forward_run line:pyemu.os_utils.run(r'mf6')\n",
      "\n",
      "pestpp-ies.exe freyberg.pst\n"
     ]
    }
   ],
   "source": [
    "pf.mod_sys_cmds.append('mf6')              ; pst = pf.build_pst(filename=os.path.join(pf.new_d,'freyberg.pst'),version=2)\n",
    "pyemu.os_utils.run('pestpp-ies freyberg.pst',cwd=model_ws)  "
   ]
  },
  {
   "cell_type": "code",
   "execution_count": 4,
   "id": "98014382-c9dc-4db5-8b93-1abe1c4480a3",
   "metadata": {
    "collapsed": true,
    "jupyter": {
     "outputs_hidden": true
    }
   },
   "outputs": [
    {
     "data": {
      "text/html": [
       "<div>\n",
       "<style scoped>\n",
       "    .dataframe tbody tr th:only-of-type {\n",
       "        vertical-align: middle;\n",
       "    }\n",
       "\n",
       "    .dataframe tbody tr th {\n",
       "        vertical-align: top;\n",
       "    }\n",
       "\n",
       "    .dataframe thead th {\n",
       "        text-align: right;\n",
       "    }\n",
       "</style>\n",
       "<table border=\"1\" class=\"dataframe\">\n",
       "  <thead>\n",
       "    <tr style=\"text-align: right;\">\n",
       "      <th></th>\n",
       "      <th>parnme</th>\n",
       "      <th>partrans</th>\n",
       "      <th>parchglim</th>\n",
       "      <th>parval1</th>\n",
       "      <th>parlbnd</th>\n",
       "      <th>parubnd</th>\n",
       "      <th>pargp</th>\n",
       "      <th>scale</th>\n",
       "      <th>offset</th>\n",
       "      <th>dercom</th>\n",
       "      <th>i</th>\n",
       "      <th>inst</th>\n",
       "      <th>j</th>\n",
       "      <th>pname</th>\n",
       "      <th>pstyle</th>\n",
       "      <th>ptype</th>\n",
       "      <th>x</th>\n",
       "      <th>y</th>\n",
       "    </tr>\n",
       "  </thead>\n",
       "  <tbody>\n",
       "    <tr>\n",
       "      <th>pname:p_inst:0_ptype:gr_pstyle:m_i:0_j:0_x:0.00_y:0.00</th>\n",
       "      <td>pname:p_inst:0_ptype:gr_pstyle:m_i:0_j:0_x:0.00_y:0.00</td>\n",
       "      <td>log</td>\n",
       "      <td>factor</td>\n",
       "      <td>1.0</td>\n",
       "      <td>1.000000e-10</td>\n",
       "      <td>1.000000e+10</td>\n",
       "      <td>p_inst:0</td>\n",
       "      <td>1.0</td>\n",
       "      <td>0.0</td>\n",
       "      <td>1</td>\n",
       "      <td>0</td>\n",
       "      <td>0</td>\n",
       "      <td>0</td>\n",
       "      <td>p</td>\n",
       "      <td>m</td>\n",
       "      <td>gr</td>\n",
       "      <td>0.00</td>\n",
       "      <td>0.00</td>\n",
       "    </tr>\n",
       "    <tr>\n",
       "      <th>pname:p_inst:0_ptype:gr_pstyle:m_i:0_j:1_x:0.00_y:1.00</th>\n",
       "      <td>pname:p_inst:0_ptype:gr_pstyle:m_i:0_j:1_x:0.00_y:1.00</td>\n",
       "      <td>log</td>\n",
       "      <td>factor</td>\n",
       "      <td>1.0</td>\n",
       "      <td>1.000000e-10</td>\n",
       "      <td>1.000000e+10</td>\n",
       "      <td>p_inst:0</td>\n",
       "      <td>1.0</td>\n",
       "      <td>0.0</td>\n",
       "      <td>1</td>\n",
       "      <td>0</td>\n",
       "      <td>0</td>\n",
       "      <td>1</td>\n",
       "      <td>p</td>\n",
       "      <td>m</td>\n",
       "      <td>gr</td>\n",
       "      <td>0.00</td>\n",
       "      <td>1.00</td>\n",
       "    </tr>\n",
       "  </tbody>\n",
       "</table>\n",
       "</div>"
      ],
      "text/plain": [
       "                                                                                                        parnme partrans parchglim  parval1       parlbnd       parubnd     pargp  scale  offset  dercom  i inst  j pname pstyle ptype     x     y\n",
       "pname:p_inst:0_ptype:gr_pstyle:m_i:0_j:0_x:0.00_y:0.00  pname:p_inst:0_ptype:gr_pstyle:m_i:0_j:0_x:0.00_y:0.00      log    factor      1.0  1.000000e-10  1.000000e+10  p_inst:0    1.0     0.0       1  0    0  0     p      m    gr  0.00  0.00\n",
       "pname:p_inst:0_ptype:gr_pstyle:m_i:0_j:1_x:0.00_y:1.00  pname:p_inst:0_ptype:gr_pstyle:m_i:0_j:1_x:0.00_y:1.00      log    factor      1.0  1.000000e-10  1.000000e+10  p_inst:0    1.0     0.0       1  0    0  1     p      m    gr  0.00  1.00"
      ]
     },
     "execution_count": 4,
     "metadata": {},
     "output_type": "execute_result"
    }
   ],
   "source": [
    "pst.parameter_data.head(2)"
   ]
  },
  {
   "cell_type": "code",
   "execution_count": 5,
   "id": "d5f4324a-622b-41de-a263-9674c0be25d1",
   "metadata": {
    "collapsed": true,
    "jupyter": {
     "outputs_hidden": true
    }
   },
   "outputs": [
    {
     "data": {
      "text/html": [
       "<div>\n",
       "<style scoped>\n",
       "    .dataframe tbody tr th:only-of-type {\n",
       "        vertical-align: middle;\n",
       "    }\n",
       "\n",
       "    .dataframe tbody tr th {\n",
       "        vertical-align: top;\n",
       "    }\n",
       "\n",
       "    .dataframe thead th {\n",
       "        text-align: right;\n",
       "    }\n",
       "</style>\n",
       "<table border=\"1\" class=\"dataframe\">\n",
       "  <thead>\n",
       "    <tr style=\"text-align: right;\">\n",
       "      <th></th>\n",
       "      <th>obsnme</th>\n",
       "      <th>obsval</th>\n",
       "      <th>weight</th>\n",
       "      <th>obgnme</th>\n",
       "      <th>oname</th>\n",
       "      <th>otype</th>\n",
       "      <th>time</th>\n",
       "      <th>usecol</th>\n",
       "    </tr>\n",
       "  </thead>\n",
       "  <tbody>\n",
       "    <tr>\n",
       "      <th>oname:heads.csv_otype:lst_usecol:trgw-0-13-10_time:3652.5</th>\n",
       "      <td>oname:heads.csv_otype:lst_usecol:trgw-0-13-10_time:3652.5</td>\n",
       "      <td>34.797358</td>\n",
       "      <td>1.0</td>\n",
       "      <td>oname:heads.csv_otype:lst_usecol:trgw-0-13-10</td>\n",
       "      <td>heads.csv</td>\n",
       "      <td>lst</td>\n",
       "      <td>3652.5</td>\n",
       "      <td>trgw-0-13-10</td>\n",
       "    </tr>\n",
       "    <tr>\n",
       "      <th>oname:heads.csv_otype:lst_usecol:trgw-0-13-10_time:3683.5</th>\n",
       "      <td>oname:heads.csv_otype:lst_usecol:trgw-0-13-10_time:3683.5</td>\n",
       "      <td>34.768494</td>\n",
       "      <td>1.0</td>\n",
       "      <td>oname:heads.csv_otype:lst_usecol:trgw-0-13-10</td>\n",
       "      <td>heads.csv</td>\n",
       "      <td>lst</td>\n",
       "      <td>3683.5</td>\n",
       "      <td>trgw-0-13-10</td>\n",
       "    </tr>\n",
       "  </tbody>\n",
       "</table>\n",
       "</div>"
      ],
      "text/plain": [
       "                                                                                                              obsnme     obsval  weight                                         obgnme      oname otype    time        usecol\n",
       "oname:heads.csv_otype:lst_usecol:trgw-0-13-10_time:3652.5  oname:heads.csv_otype:lst_usecol:trgw-0-13-10_time:3652.5  34.797358     1.0  oname:heads.csv_otype:lst_usecol:trgw-0-13-10  heads.csv   lst  3652.5  trgw-0-13-10\n",
       "oname:heads.csv_otype:lst_usecol:trgw-0-13-10_time:3683.5  oname:heads.csv_otype:lst_usecol:trgw-0-13-10_time:3683.5  34.768494     1.0  oname:heads.csv_otype:lst_usecol:trgw-0-13-10  heads.csv   lst  3683.5  trgw-0-13-10"
      ]
     },
     "execution_count": 5,
     "metadata": {},
     "output_type": "execute_result"
    }
   ],
   "source": [
    "pst.observation_data.head(2)"
   ]
  },
  {
   "cell_type": "markdown",
   "id": "1e7fc1ee-9543-4b59-bf8f-fedb8f85cc39",
   "metadata": {},
   "source": [
    "## <font color='red'> **OBS Weights** </font> "
   ]
  },
  {
   "cell_type": "code",
   "execution_count": 12,
   "id": "a555ce6c-3bac-4ef2-9cd8-a91707b0bfc5",
   "metadata": {},
   "outputs": [
    {
     "data": {
      "text/html": [
       "<div>\n",
       "<style scoped>\n",
       "    .dataframe tbody tr th:only-of-type {\n",
       "        vertical-align: middle;\n",
       "    }\n",
       "\n",
       "    .dataframe tbody tr th {\n",
       "        vertical-align: top;\n",
       "    }\n",
       "\n",
       "    .dataframe thead th {\n",
       "        text-align: right;\n",
       "    }\n",
       "</style>\n",
       "<table border=\"1\" class=\"dataframe\">\n",
       "  <thead>\n",
       "    <tr style=\"text-align: right;\">\n",
       "      <th></th>\n",
       "      <th>time</th>\n",
       "      <th>location</th>\n",
       "      <th>observation</th>\n",
       "    </tr>\n",
       "  </thead>\n",
       "  <tbody>\n",
       "    <tr>\n",
       "      <th>0</th>\n",
       "      <td>3652.5</td>\n",
       "      <td>trgw-0-13-10</td>\n",
       "      <td>35.880168</td>\n",
       "    </tr>\n",
       "    <tr>\n",
       "      <th>0</th>\n",
       "      <td>3683.5</td>\n",
       "      <td>trgw-0-13-10</td>\n",
       "      <td>35.786774</td>\n",
       "    </tr>\n",
       "  </tbody>\n",
       "</table>\n",
       "</div>"
      ],
      "text/plain": [
       "     time      location  observation\n",
       "0  3652.5  trgw-0-13-10    35.880168\n",
       "0  3683.5  trgw-0-13-10    35.786774"
      ]
     },
     "execution_count": 12,
     "metadata": {},
     "output_type": "execute_result"
    }
   ],
   "source": [
    "beta_ws = os.path.join(model_ws) ; pst = pyemu.Pst('part2_01_OUTb/freyberg.pst')\n",
    "trueobs = pd.read_csv('models/data/obstrue.csv', index_col=0)   ; trueobs.head(2)"
   ]
  },
  {
   "cell_type": "code",
   "execution_count": 10,
   "id": "84b95b94-ae39-472a-bc85-b5a115cf8aa1",
   "metadata": {
    "collapsed": true,
    "jupyter": {
     "outputs_hidden": true
    },
    "scrolled": true
   },
   "outputs": [
    {
     "name": "stdout",
     "output_type": "stream",
     "text": [
      "35.88016773\n",
      "35.7867735\n",
      "35.78463464\n",
      "35.81843897\n",
      "35.88725726\n",
      "35.93567392\n",
      "35.94577231\n",
      "35.92082717\n",
      "35.86105688\n",
      "35.67364845\n",
      "35.47040371\n",
      "35.30551308\n",
      "35.2238309\n",
      "35.25642906\n",
      "35.34517989\n",
      "35.47839102\n",
      "35.5918731\n",
      "35.71176064\n",
      "35.78496164\n",
      "35.79768162\n",
      "35.69234994\n",
      "35.48965616\n",
      "35.26465122\n",
      "35.09536629\n",
      "34.96031282\n",
      "35.23109255\n",
      "35.15742713\n",
      "35.14732154\n",
      "35.18849072\n",
      "35.26233823\n",
      "35.31237888\n",
      "35.30556272\n",
      "35.24908381\n",
      "35.17835713\n",
      "35.03732028\n",
      "34.90155737\n",
      "34.78683512\n",
      "34.71675972\n",
      "34.72397708\n",
      "34.80477803\n",
      "34.92759017\n",
      "35.03894715\n",
      "35.14078638\n",
      "35.18564878\n",
      "35.17440704\n",
      "35.06846277\n",
      "34.91605067\n",
      "34.75965813\n",
      "34.63786718\n",
      "34.52733821\n",
      "35.15626217\n",
      "35.13854355\n",
      "35.14377989\n",
      "35.17989508\n",
      "35.24008305\n",
      "35.29105008\n",
      "35.31042826\n",
      "35.2841944\n",
      "35.2329732\n",
      "35.15348678\n",
      "35.07410528\n",
      "35.00384546\n",
      "34.94364716\n",
      "34.9239258\n",
      "34.95869786\n",
      "35.02959903\n",
      "35.10462349\n",
      "35.17733373\n",
      "35.21303988\n",
      "35.21028853\n",
      "35.15430159\n",
      "35.07419602\n",
      "34.9899994\n",
      "34.91699312\n",
      "34.84687015\n",
      "37.65065077\n",
      "37.64106837\n",
      "37.6647146\n",
      "37.73063359\n",
      "37.84311648\n",
      "37.9488985\n",
      "38.01799093\n",
      "38.01249807\n",
      "37.9425574\n",
      "37.80575477\n",
      "37.63568255\n",
      "37.46652075\n",
      "37.31114761\n",
      "37.2334472\n",
      "37.25689809\n",
      "37.35934266\n",
      "37.48204019\n",
      "37.60814545\n",
      "37.68641607\n",
      "37.70185865\n",
      "37.63363871\n",
      "37.50103771\n",
      "37.33262041\n",
      "37.16338571\n",
      "36.99781973\n",
      "36.32424578\n",
      "36.19482298\n",
      "36.14875131\n",
      "36.15753826\n",
      "36.22281955\n",
      "36.27981212\n",
      "36.27092476\n",
      "36.23903324\n",
      "36.17118196\n",
      "35.98153696\n",
      "35.756695\n",
      "35.54972492\n",
      "35.40828405\n",
      "35.35268038\n",
      "35.39657223\n",
      "35.47316716\n",
      "35.57132119\n",
      "35.67812968\n",
      "35.75420643\n",
      "35.79115457\n",
      "35.67289185\n",
      "35.44858042\n",
      "35.17577601\n",
      "34.95121156\n",
      "34.74197664\n",
      "35.19711589\n",
      "35.0919725\n",
      "35.06908478\n",
      "35.08382286\n",
      "35.14075696\n",
      "35.18333304\n",
      "35.1699868\n",
      "35.13877233\n",
      "35.08450372\n",
      "34.96169712\n",
      "34.83871131\n",
      "34.7196302\n",
      "34.62930924\n",
      "34.60518542\n",
      "34.65021241\n",
      "34.73116461\n",
      "34.82496102\n",
      "34.91589831\n",
      "34.97254452\n",
      "34.97423619\n",
      "34.88406491\n",
      "34.74567762\n",
      "34.59955457\n",
      "34.46635916\n",
      "34.3346773\n",
      "38.31680837\n",
      "38.2565792\n",
      "38.23563972\n",
      "38.26405372\n",
      "38.33618234\n",
      "38.44347639\n",
      "38.49011913\n",
      "38.45695178\n",
      "38.34776781\n",
      "38.07763554\n",
      "37.75293612\n",
      "37.47679677\n",
      "33.34723135\n",
      "32.40801786\n",
      "29.76899626\n",
      "31.32925347\n",
      "31.0534261\n",
      "31.97695378\n",
      "32.93289506\n",
      "31.63750019\n",
      "33.09244194\n",
      "31.30882234\n",
      "29.27811373\n",
      "28.48525379\n",
      "28.10658142\n",
      "37.37371215\n",
      "37.20404746\n",
      "37.17793906\n",
      "37.1761832\n",
      "37.2536486\n",
      "37.30907664\n",
      "37.30123776\n",
      "37.30200064\n",
      "37.23100101\n",
      "36.94555965\n",
      "36.62836525\n",
      "36.36315011\n",
      "36.18029673\n",
      "36.01031557\n",
      "35.97628764\n",
      "35.94376046\n",
      "36.00088134\n",
      "36.10018572\n",
      "36.20745153\n",
      "36.29895715\n",
      "36.11062582\n",
      "35.74551657\n",
      "35.37239844\n",
      "35.09570401\n",
      "34.81246586\n",
      "34.91457661\n",
      "34.86926337\n",
      "34.85013116\n",
      "34.8684091\n",
      "34.92309341\n",
      "34.96632826\n",
      "34.96150375\n",
      "34.91399153\n",
      "34.8490292\n",
      "34.73417256\n",
      "34.60633252\n",
      "34.49576366\n",
      "34.41569574\n",
      "34.40814461\n",
      "34.4665745\n",
      "34.56010155\n",
      "34.6478011\n",
      "34.72372817\n",
      "34.75929027\n",
      "34.75593566\n",
      "34.67944984\n",
      "34.55452529\n",
      "34.40702977\n",
      "34.28552186\n",
      "34.17270874\n",
      "38.00429269\n",
      "37.99381933\n",
      "38.01940006\n",
      "38.08862495\n",
      "38.20362719\n",
      "38.31149208\n",
      "38.38334919\n",
      "38.38085269\n",
      "38.30941741\n",
      "38.15454922\n",
      "37.95866896\n",
      "37.77110717\n",
      "37.61231354\n",
      "37.54446994\n",
      "37.57878998\n",
      "37.68706417\n",
      "37.81184378\n",
      "37.94054986\n",
      "38.02184018\n",
      "38.03919833\n",
      "37.96526858\n",
      "37.81323207\n",
      "37.61846953\n",
      "37.43085599\n",
      "37.25501693\n",
      "36.43789409\n",
      "36.31670973\n",
      "36.29095826\n",
      "36.32421996\n",
      "36.41321474\n",
      "36.4797958\n",
      "36.42594854\n",
      "36.36607942\n",
      "36.27238088\n",
      "36.00062213\n",
      "35.6814981\n",
      "35.45079976\n",
      "35.36775264\n",
      "35.42978239\n",
      "35.52090006\n",
      "35.61958409\n",
      "35.72030505\n",
      "35.8201294\n",
      "35.90175259\n",
      "35.9485624\n",
      "35.84050912\n",
      "35.54424393\n",
      "35.16495107\n",
      "34.90824893\n",
      "34.71220997\n",
      "35.38970068\n",
      "35.19251818\n",
      "35.19097454\n",
      "35.20851333\n",
      "35.26939717\n",
      "35.33773327\n",
      "35.29026436\n",
      "35.26843448\n",
      "35.20149239\n",
      "34.94747383\n",
      "34.74606495\n",
      "34.57524422\n",
      "34.4733645\n",
      "34.54322379\n",
      "34.65105674\n",
      "34.78387976\n",
      "34.8817551\n",
      "35.00236348\n",
      "35.08490349\n",
      "35.07080825\n",
      "34.92734583\n",
      "34.6625868\n",
      "34.40999621\n",
      "34.22588004\n",
      "34.04015031\n",
      "39.72085911\n",
      "39.70613539\n",
      "39.75151931\n",
      "39.84619339\n",
      "39.98200867\n",
      "40.11553879\n",
      "40.21344696\n",
      "40.22620903\n",
      "40.13562669\n",
      "39.91999884\n",
      "39.64368307\n",
      "39.38455685\n",
      "39.1775779\n",
      "39.09199874\n",
      "39.13061103\n",
      "39.24129165\n",
      "39.35667023\n",
      "39.47526083\n",
      "39.55031964\n",
      "39.55039819\n",
      "39.43283029\n",
      "39.21451907\n",
      "38.93656175\n",
      "38.67605992\n",
      "38.43780157\n"
     ]
    }
   ],
   "source": [
    "obs = pst.observation_data                   # index\n",
    "for cob in obs.index:\n",
    "    tmp = obs.loc[cob]                       # Loop OBS_location  & Time\n",
    "    print(trueobs.loc[(trueobs.time==float(tmp.time))&(trueobs.location==tmp.usecol), 'observation'].values[0])\n",
    "    obs.loc[cob,'obsval'] = trueobs.loc[(trueobs.time==float(tmp.time))&(trueobs.location==tmp.usecol), 'observation'].values[0]\n",
    "#pst.plot(kind='phi_pie')"
   ]
  },
  {
   "cell_type": "code",
   "execution_count": 11,
   "id": "3434f713-077d-4353-993d-5e770e84ab2a",
   "metadata": {},
   "outputs": [
    {
     "data": {
      "text/plain": [
       "<Axes: >"
      ]
     },
     "execution_count": 11,
     "metadata": {},
     "output_type": "execute_result"
    },
    {
     "data": {
      "image/png": "[encoded data removed]",
      "text/plain": [
       "<Figure size 800x1050 with 1 Axes>"
      ]
     },
     "metadata": {},
     "output_type": "display_data"
    }
   ],
   "source": [
    "obs.weight=0.5  ; newbalance = {grp:1/len(pst.obs_groups)*pst.phi for grp in pst.obs_groups} ; pst.adjust_weights(obsgrp_dict = newbalance)\n",
    "pst.plot(kind='phi_pie')"
   ]
  },
  {
   "cell_type": "raw",
   "id": "2043150b-7b5a-46f7-950b-42f08678c8f1",
   "metadata": {},
   "source": [
    "def beta_plot(ax):\n",
    "    aa = p1  ; ab = p2  \n",
    "plt.figure(figsize=(12,6))\n",
    "ax1 = plt.subplot2grid((2, 2), (0, 0), colspan=1, rowspan=1) ; \n",
    "ax2 = plt.subplot2grid((2, 2), (0, 1), colspan=1, rowspan=1) ; beta_plot(ax1) ; beta_plot(ax2) "
   ]
  },
  {
   "cell_type": "markdown",
   "id": "9c131de6-c2d3-4a05-9451-7467edfaddf7",
   "metadata": {},
   "source": [
    "<font color='red'> **Weights Group ______ Heads x Flux x Concentration** </font> "
   ]
  },
  {
   "cell_type": "code",
   "execution_count": null,
   "id": "12519972-2094-4e97-b0bf-a16e67662f66",
   "metadata": {},
   "outputs": [],
   "source": [
    "# pst.observation_data       # Weights varing in groups !"
   ]
  },
  {
   "cell_type": "code",
   "execution_count": null,
   "id": "24393f01-dd72-4c19-8966-47012fdef307",
   "metadata": {},
   "outputs": [],
   "source": [
    "pst.control_data.noptmax=-1\n",
    "pst.pestpp_options['ies_num_reals']=100"
   ]
  },
  {
   "cell_type": "code",
   "execution_count": null,
   "id": "e9c8475a-4243-449c-bbdf-499e14f549ae",
   "metadata": {},
   "outputs": [],
   "source": [
    "pst.parameter_data.parlbnd=0.5\n",
    "pst.parameter_data.parubnd=1.5"
   ]
  },
  {
   "cell_type": "code",
   "execution_count": null,
   "id": "d9bc375b-d9b6-4866-8ec9-b731fada4e8f",
   "metadata": {},
   "outputs": [],
   "source": [
    "pst.write('a2_Pstfrom_Fienen_new_folder/freyberg_prior.pst')                       # New Beta path"
   ]
  },
  {
   "cell_type": "code",
   "execution_count": null,
   "id": "bb2fc233-8a5f-4754-a15c-f423bdb0486c",
   "metadata": {},
   "outputs": [],
   "source": [
    "# import shutil  shutil.copy2('pestpp-ies','Beta_template/pestpp-ies')"
   ]
  },
  {
   "cell_type": "markdown",
   "id": "3d396871-13cf-4491-8cc6-c134e7424669",
   "metadata": {},
   "source": [
    "<font color='red'> **Running _____ w/ slaves** </font> "
   ]
  },
  {
   "cell_type": "code",
   "execution_count": null,
   "id": "4283e4d4-144a-49bd-b22c-08f8f4adde86",
   "metadata": {},
   "outputs": [],
   "source": [
    "pyemu.utils.start_workers('./a2_Pstfrom_Fienen_new_folder',\n",
    "                          master_dir='a2_cm_prior_Fienen', \n",
    "                          exe_rel_path='pestpp-ies',\n",
    "                          pst_rel_path='freyberg_prior.pst',\n",
    "                          worker_root='.', num_workers=10)"
   ]
  },
  {
   "cell_type": "markdown",
   "id": "442fc418-b98c-4bb8-9f48-ccb785d74fdd",
   "metadata": {},
   "source": [
    "#  ` 08 ___ afterwords` "
   ]
  },
  {
   "cell_type": "code",
   "execution_count": null,
   "id": "69135707-600f-4e55-a8c8-2ada96044eeb",
   "metadata": {},
   "outputs": [],
   "source": [
    "phi = pd.read_csv('a2_cm_prior_Fienen/freyberg_prior.phi.actual.csv').T[6:]         \n",
    "phi"
   ]
  },
  {
   "cell_type": "code",
   "execution_count": null,
   "id": "a1231e5e-088a-40b3-b96b-c3762fd9be10",
   "metadata": {},
   "outputs": [],
   "source": [
    "phi.hist(bins=20)  # err "
   ]
  },
  {
   "cell_type": "code",
   "execution_count": null,
   "id": "39460f8f-f052-4cbf-b115-77cfaab8becc",
   "metadata": {},
   "outputs": [],
   "source": [
    "# Beta Paste picture err"
   ]
  },
  {
   "cell_type": "markdown",
   "id": "aaa49b29",
   "metadata": {},
   "source": [
    "# ... still under BETA revision ... "
   ]
  },
  {
   "cell_type": "code",
   "execution_count": null,
   "id": "ef0fb7ed",
   "metadata": {},
   "outputs": [],
   "source": [
    "df = pd.read_csv('a2_cm_prior_Fienen/freyberg_prior.phi.actual.csv').T[6:] \n",
    "print(df)"
   ]
  },
  {
   "cell_type": "markdown",
   "id": "ba44c117",
   "metadata": {},
   "source": [
    "# PART 1.5 - rejection sampling ___   <font color='red'> err ... </font> "
   ]
  },
  {
   "cell_type": "markdown",
   "id": "ff1f8431",
   "metadata": {},
   "source": [
    "#reject by convergence fail counts                                              # Markdown / code / err\n",
    "pr_oe = pd.read_csv(os.path.join('a2_cm_prior_Fienen','freyberg_prior.0.obs.csv'))\n",
    "fails = pr_oe.loc[:,pr_oe.columns.str.contains('fail')]\n",
    "good_enough = fails.loc[fails['oname:convergence_failure_counts.csv_otype:lst_usecol:count_type:flow_fails']<1].index.values\n",
    "print(\"number of good enough realisations:\", good_enough.shape[0])"
   ]
  },
  {
   "cell_type": "code",
   "execution_count": null,
   "id": "02cedf63",
   "metadata": {},
   "outputs": [],
   "source": [
    "#reject by mass balance error (> 5%)\n",
    "mbe = pr_oe.loc[:,pr_oe.columns.str.contains('percent_discrepancy')].max(axis=1)\n",
    "good_enough = mbe.loc[mbe.values<5].index.values\n",
    "print(\"number of good enough realisations:\", good_enough.shape[0])"
   ]
  },
  {
   "cell_type": "markdown",
   "id": "81b25d91",
   "metadata": {},
   "source": [
    "#reject by phi                                                                  # Markdown / code / err\n",
    "acceptable_phi = og_phi * 2\n",
    "good_enough = df.loc[df[0]<acceptable_phi].index.values\n",
    "print(\"number of good enough realisations:\", good_enough.shape[0])\n",
    "print(good_enough)"
   ]
  },
  {
   "cell_type": "markdown",
   "id": "07dd307d",
   "metadata": {},
   "source": [
    "PART 2 - iES"
   ]
  },
  {
   "cell_type": "code",
   "execution_count": null,
   "id": "11868fa4",
   "metadata": {},
   "outputs": [],
   "source": [
    "import shutil"
   ]
  },
  {
   "cell_type": "code",
   "execution_count": null,
   "id": "eeb4d288",
   "metadata": {},
   "outputs": [],
   "source": [
    "t_d = 'tmp'\n",
    "if os.path.exists(t_d):\n",
    "    shutil.rmtree(t_d)\n",
    "shutil.copytree('a2_cm_prior_Fienen',t_d)\n",
    "#hot start with rejection prior. need to rename files!\n",
    "for filename,argname in zip([\"freyberg_prior.0.par.csv\",\"freyberg_prior.0.obs.csv\",\"freyberg_prior.obs+noise.csv\"],\n",
    "                            [\"ies_parameter_ensemble\",\"ies_restart_observation_ensemble\",\"ies_observation_ensemble\"]):\n",
    "    #load in and only keep \"good enough\" index\n",
    "    df = pd.read_csv(os.path.join('a2_cm_prior_Fienen',filename),index_col=0)    \n",
    "    df = df.loc[df.index.isin(good_enough),:]\n",
    "    # a simple renaming scheme\n",
    "    renamed_filename = \"restart_\"+filename\n",
    "    # copy the original restart file from the prior master dir to the renamed filename in the template dir\n",
    "    df.to_csv(os.path.join(t_d,renamed_filename))\n",
    "    #modify/set the pestpp option\n",
    "    pst.pestpp_options[argname] = renamed_filename"
   ]
  },
  {
   "cell_type": "markdown",
   "id": "d60f218d",
   "metadata": {},
   "source": [
    "pst.control_data.noptmax = 2                                                                    # Markdown / code / err\n",
    "pst.pestpp_options['ies_drop_conflicts']=True\n",
    "pst.write(os.path.join(t_d,\"freyberg_ies.pst\"),version=2)\n",
    "prep_deps(t_d)"
   ]
  },
  {
   "cell_type": "markdown",
   "id": "9cd8afb9",
   "metadata": {},
   "source": [
    "m_d = 'master_ies'                                                                              # Markdown / code / err\n",
    "pyemu.os_utils.start_workers(t_d, # the folder which contains the \"template\" PEST dataset\n",
    "                            'pestpp-ies', #the PEST software version we want to run\n",
    "                            'freyberg_ies.pst', # the control file to use with PEST\n",
    "                            num_workers=10, #how many agents to deploy\n",
    "                            worker_root='.', #where to deploy the agent directories; relative to where python is running\n",
    "                            master_dir=m_d, #the manager directory\n",
    "                            )"
   ]
  },
  {
   "cell_type": "markdown",
   "id": "d65ae01b",
   "metadata": {},
   "source": [
    "## `On spurious correlation` \n",
    "\n",
    "Calculating an empirical cross-covariance between large numbers of parameters and observations from a limited number of realizations is likely to result in spurious cross-correlations. \n",
    "\n",
    "Because of this, some parameters will be adjusted when they should not be adjusted. \n",
    "\n",
    "Furthermore, when large numbers of independent observations comprise a calibration dataset, a small ensemble size will almost certainly not provide enough degrees of freedom to reproduce these data..."
   ]
  },
  {
   "cell_type": "markdown",
   "id": "b2d12036",
   "metadata": {},
   "source": [
    "## `Solutions:` \n",
    "- pass ies a csv that explicitly tells it what data can inform which parameters (e.g., so heads don't inform porosity)\n",
    "- orrrr `' just run a larger ensemble... (if you can)`\n",
    "__________\n",
    "Larger ensemble also has the effect of exploring uncertainty (remember we are sampling a distribution!) \n",
    "\n",
    "... and for more \"accurately\" approximating the jacobian"
   ]
  },
  {
   "cell_type": "code",
   "execution_count": null,
   "id": "db7365c5",
   "metadata": {},
   "outputs": [],
   "source": []
  }
 ],
 "metadata": {
  "kernelspec": {
   "display_name": "Python 3 (ipykernel)",
   "language": "python",
   "name": "python3"
  },
  "language_info": {
   "codemirror_mode": {
    "name": "ipython",
    "version": 3
   },
   "file_extension": ".py",
   "mimetype": "text/x-python",
   "name": "python",
   "nbconvert_exporter": "python",
   "pygments_lexer": "ipython3",
   "version": "3.11.11"
  }
 },
 "nbformat": 4,
 "nbformat_minor": 5
}
