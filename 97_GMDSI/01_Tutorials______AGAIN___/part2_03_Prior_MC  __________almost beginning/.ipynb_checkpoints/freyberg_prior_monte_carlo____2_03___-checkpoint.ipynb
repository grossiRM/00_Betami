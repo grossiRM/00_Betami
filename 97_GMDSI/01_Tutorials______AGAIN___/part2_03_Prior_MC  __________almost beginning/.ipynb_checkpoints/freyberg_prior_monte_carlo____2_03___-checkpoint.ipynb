{
 "cells": [
  {
   "cell_type": "code",
   "execution_count": 1,
   "metadata": {},
   "outputs": [],
   "source": [
    "import os\n",
    "import shutil\n",
    "import warnings\n",
    "warnings.filterwarnings(\"ignore\")\n",
    "warnings.filterwarnings(\"ignore\", category=DeprecationWarning) \n",
    "import pandas as pd\n",
    "import matplotlib.pyplot as plt;\n",
    "import psutil \n",
    "import sys\n",
    "import pyemu\n",
    "import flopy\n",
    "sys.path.insert(0,\"..\")\n",
    "import herebedragons as hbd"
   ]
  },
  {
   "cell_type": "code",
   "execution_count": 2,
   "metadata": {},
   "outputs": [
    {
     "data": {
      "text/plain": [
       "'a1_Pstfrom_Katie_new_folder_II'"
      ]
     },
     "execution_count": 2,
     "metadata": {},
     "output_type": "execute_result"
    }
   ],
   "source": [
    "t_d = os.path.join('a1_Pstfrom_Katie_new_folder_II')       # t_d Virtual folder                # new path \n",
    "# if os.path.exists(t_d):\n",
    "#     shutil.rmtree(t_d)                                           # this removes the needed prior_pe.jcb \n",
    "\n",
    "org_t_d = os.path.join(\"..\",\"part2_02_OW__Reimagined__again\",\"a1_Pstfrom_Katie_new_folder\")    # old / new path \n",
    "if not os.path.exists(org_t_d):\n",
    "    raise Exception(\"try again\")\n",
    "shutil.copytree(org_t_d,t_d)                                            # org | t_d"
   ]
  },
  {
   "cell_type": "code",
   "execution_count": 3,
   "metadata": {},
   "outputs": [
    {
     "data": {
      "text/html": [
       "<div>\n",
       "<style scoped>\n",
       "    .dataframe tbody tr th:only-of-type {\n",
       "        vertical-align: middle;\n",
       "    }\n",
       "\n",
       "    .dataframe tbody tr th {\n",
       "        vertical-align: top;\n",
       "    }\n",
       "\n",
       "    .dataframe thead th {\n",
       "        text-align: right;\n",
       "    }\n",
       "</style>\n",
       "<table border=\"1\" class=\"dataframe\">\n",
       "  <thead>\n",
       "    <tr style=\"text-align: right;\">\n",
       "      <th></th>\n",
       "      <th>obsnme</th>\n",
       "      <th>obsval</th>\n",
       "      <th>weight</th>\n",
       "      <th>obgnme</th>\n",
       "      <th>i</th>\n",
       "      <th>j</th>\n",
       "      <th>oname</th>\n",
       "      <th>otype</th>\n",
       "      <th>time</th>\n",
       "      <th>totim</th>\n",
       "      <th>usecol</th>\n",
       "      <th>observed</th>\n",
       "      <th>standard_deviation</th>\n",
       "    </tr>\n",
       "    <tr>\n",
       "      <th>obsnme</th>\n",
       "      <th></th>\n",
       "      <th></th>\n",
       "      <th></th>\n",
       "      <th></th>\n",
       "      <th></th>\n",
       "      <th></th>\n",
       "      <th></th>\n",
       "      <th></th>\n",
       "      <th></th>\n",
       "      <th></th>\n",
       "      <th></th>\n",
       "      <th></th>\n",
       "      <th></th>\n",
       "    </tr>\n",
       "  </thead>\n",
       "  <tbody>\n",
       "    <tr>\n",
       "      <th>oname:hds_otype:lst_usecol:trgw-0-13-10_time:3652.5</th>\n",
       "      <td>oname:hds_otype:lst_usecol:trgw-0-13-10_time:3652.5</td>\n",
       "      <td>35.870909</td>\n",
       "      <td>0.0</td>\n",
       "      <td>oname:hds_otype:lst_usecol:trgw-0-13-10</td>\n",
       "      <td>NaN</td>\n",
       "      <td>NaN</td>\n",
       "      <td>hds</td>\n",
       "      <td>lst</td>\n",
       "      <td>3652.5</td>\n",
       "      <td>NaN</td>\n",
       "      <td>trgw-0-13-10</td>\n",
       "      <td>NaN</td>\n",
       "      <td>NaN</td>\n",
       "    </tr>\n",
       "    <tr>\n",
       "      <th>oname:hds_otype:lst_usecol:trgw-0-13-10_time:3683.5</th>\n",
       "      <td>oname:hds_otype:lst_usecol:trgw-0-13-10_time:3683.5</td>\n",
       "      <td>35.791150</td>\n",
       "      <td>0.0</td>\n",
       "      <td>oname:hds_otype:lst_usecol:trgw-0-13-10</td>\n",
       "      <td>NaN</td>\n",
       "      <td>NaN</td>\n",
       "      <td>hds</td>\n",
       "      <td>lst</td>\n",
       "      <td>3683.5</td>\n",
       "      <td>NaN</td>\n",
       "      <td>trgw-0-13-10</td>\n",
       "      <td>NaN</td>\n",
       "      <td>NaN</td>\n",
       "    </tr>\n",
       "    <tr>\n",
       "      <th>oname:hds_otype:lst_usecol:trgw-0-13-10_time:3712.5</th>\n",
       "      <td>oname:hds_otype:lst_usecol:trgw-0-13-10_time:3712.5</td>\n",
       "      <td>35.784015</td>\n",
       "      <td>0.0</td>\n",
       "      <td>oname:hds_otype:lst_usecol:trgw-0-13-10</td>\n",
       "      <td>NaN</td>\n",
       "      <td>NaN</td>\n",
       "      <td>hds</td>\n",
       "      <td>lst</td>\n",
       "      <td>3712.5</td>\n",
       "      <td>NaN</td>\n",
       "      <td>trgw-0-13-10</td>\n",
       "      <td>NaN</td>\n",
       "      <td>NaN</td>\n",
       "    </tr>\n",
       "    <tr>\n",
       "      <th>oname:hds_otype:lst_usecol:trgw-0-13-10_time:3743.5</th>\n",
       "      <td>oname:hds_otype:lst_usecol:trgw-0-13-10_time:3743.5</td>\n",
       "      <td>35.818347</td>\n",
       "      <td>0.0</td>\n",
       "      <td>oname:hds_otype:lst_usecol:trgw-0-13-10</td>\n",
       "      <td>NaN</td>\n",
       "      <td>NaN</td>\n",
       "      <td>hds</td>\n",
       "      <td>lst</td>\n",
       "      <td>3743.5</td>\n",
       "      <td>NaN</td>\n",
       "      <td>trgw-0-13-10</td>\n",
       "      <td>NaN</td>\n",
       "      <td>NaN</td>\n",
       "    </tr>\n",
       "    <tr>\n",
       "      <th>oname:hds_otype:lst_usecol:trgw-0-13-10_time:3773.5</th>\n",
       "      <td>oname:hds_otype:lst_usecol:trgw-0-13-10_time:3773.5</td>\n",
       "      <td>35.884582</td>\n",
       "      <td>0.0</td>\n",
       "      <td>oname:hds_otype:lst_usecol:trgw-0-13-10</td>\n",
       "      <td>NaN</td>\n",
       "      <td>NaN</td>\n",
       "      <td>hds</td>\n",
       "      <td>lst</td>\n",
       "      <td>3773.5</td>\n",
       "      <td>NaN</td>\n",
       "      <td>trgw-0-13-10</td>\n",
       "      <td>NaN</td>\n",
       "      <td>NaN</td>\n",
       "    </tr>\n",
       "  </tbody>\n",
       "</table>\n",
       "</div>"
      ],
      "text/plain": [
       "                                                                                                  obsnme  \\\n",
       "obsnme                                                                                                     \n",
       "oname:hds_otype:lst_usecol:trgw-0-13-10_time:3652.5  oname:hds_otype:lst_usecol:trgw-0-13-10_time:3652.5   \n",
       "oname:hds_otype:lst_usecol:trgw-0-13-10_time:3683.5  oname:hds_otype:lst_usecol:trgw-0-13-10_time:3683.5   \n",
       "oname:hds_otype:lst_usecol:trgw-0-13-10_time:3712.5  oname:hds_otype:lst_usecol:trgw-0-13-10_time:3712.5   \n",
       "oname:hds_otype:lst_usecol:trgw-0-13-10_time:3743.5  oname:hds_otype:lst_usecol:trgw-0-13-10_time:3743.5   \n",
       "oname:hds_otype:lst_usecol:trgw-0-13-10_time:3773.5  oname:hds_otype:lst_usecol:trgw-0-13-10_time:3773.5   \n",
       "\n",
       "                                                        obsval  weight  \\\n",
       "obsnme                                                                   \n",
       "oname:hds_otype:lst_usecol:trgw-0-13-10_time:3652.5  35.870909     0.0   \n",
       "oname:hds_otype:lst_usecol:trgw-0-13-10_time:3683.5  35.791150     0.0   \n",
       "oname:hds_otype:lst_usecol:trgw-0-13-10_time:3712.5  35.784015     0.0   \n",
       "oname:hds_otype:lst_usecol:trgw-0-13-10_time:3743.5  35.818347     0.0   \n",
       "oname:hds_otype:lst_usecol:trgw-0-13-10_time:3773.5  35.884582     0.0   \n",
       "\n",
       "                                                                                      obgnme  \\\n",
       "obsnme                                                                                         \n",
       "oname:hds_otype:lst_usecol:trgw-0-13-10_time:3652.5  oname:hds_otype:lst_usecol:trgw-0-13-10   \n",
       "oname:hds_otype:lst_usecol:trgw-0-13-10_time:3683.5  oname:hds_otype:lst_usecol:trgw-0-13-10   \n",
       "oname:hds_otype:lst_usecol:trgw-0-13-10_time:3712.5  oname:hds_otype:lst_usecol:trgw-0-13-10   \n",
       "oname:hds_otype:lst_usecol:trgw-0-13-10_time:3743.5  oname:hds_otype:lst_usecol:trgw-0-13-10   \n",
       "oname:hds_otype:lst_usecol:trgw-0-13-10_time:3773.5  oname:hds_otype:lst_usecol:trgw-0-13-10   \n",
       "\n",
       "                                                       i    j oname otype  \\\n",
       "obsnme                                                                      \n",
       "oname:hds_otype:lst_usecol:trgw-0-13-10_time:3652.5  NaN  NaN   hds   lst   \n",
       "oname:hds_otype:lst_usecol:trgw-0-13-10_time:3683.5  NaN  NaN   hds   lst   \n",
       "oname:hds_otype:lst_usecol:trgw-0-13-10_time:3712.5  NaN  NaN   hds   lst   \n",
       "oname:hds_otype:lst_usecol:trgw-0-13-10_time:3743.5  NaN  NaN   hds   lst   \n",
       "oname:hds_otype:lst_usecol:trgw-0-13-10_time:3773.5  NaN  NaN   hds   lst   \n",
       "\n",
       "                                                       time totim  \\\n",
       "obsnme                                                              \n",
       "oname:hds_otype:lst_usecol:trgw-0-13-10_time:3652.5  3652.5   NaN   \n",
       "oname:hds_otype:lst_usecol:trgw-0-13-10_time:3683.5  3683.5   NaN   \n",
       "oname:hds_otype:lst_usecol:trgw-0-13-10_time:3712.5  3712.5   NaN   \n",
       "oname:hds_otype:lst_usecol:trgw-0-13-10_time:3743.5  3743.5   NaN   \n",
       "oname:hds_otype:lst_usecol:trgw-0-13-10_time:3773.5  3773.5   NaN   \n",
       "\n",
       "                                                           usecol  observed  \\\n",
       "obsnme                                                                        \n",
       "oname:hds_otype:lst_usecol:trgw-0-13-10_time:3652.5  trgw-0-13-10       NaN   \n",
       "oname:hds_otype:lst_usecol:trgw-0-13-10_time:3683.5  trgw-0-13-10       NaN   \n",
       "oname:hds_otype:lst_usecol:trgw-0-13-10_time:3712.5  trgw-0-13-10       NaN   \n",
       "oname:hds_otype:lst_usecol:trgw-0-13-10_time:3743.5  trgw-0-13-10       NaN   \n",
       "oname:hds_otype:lst_usecol:trgw-0-13-10_time:3773.5  trgw-0-13-10       NaN   \n",
       "\n",
       "                                                     standard_deviation  \n",
       "obsnme                                                                   \n",
       "oname:hds_otype:lst_usecol:trgw-0-13-10_time:3652.5                 NaN  \n",
       "oname:hds_otype:lst_usecol:trgw-0-13-10_time:3683.5                 NaN  \n",
       "oname:hds_otype:lst_usecol:trgw-0-13-10_time:3712.5                 NaN  \n",
       "oname:hds_otype:lst_usecol:trgw-0-13-10_time:3743.5                 NaN  \n",
       "oname:hds_otype:lst_usecol:trgw-0-13-10_time:3773.5                 NaN  "
      ]
     },
     "execution_count": 3,
     "metadata": {},
     "output_type": "execute_result"
    }
   ],
   "source": [
    "pst_path = os.path.join(t_d, 'freyberg_mf6.pst')                                               # archive within        \n",
    "pst = pyemu.Pst(os.path.join(t_d, 'freyberg_mf6.pst'))\n",
    "if not pst.observation_data.observed.sum()>0:\n",
    "    raise Exception(\"try again\")\n",
    "pst.observation_data.head()"
   ]
  },
  {
   "cell_type": "markdown",
   "metadata": {},
   "source": [
    "# Previous Ensemble <font color='red'> possible issue </font>  shutil.rmtree(t_d)"
   ]
  },
  {
   "cell_type": "code",
   "execution_count": 4,
   "metadata": {},
   "outputs": [
    {
     "ename": "Exception",
     "evalue": "Matrix.read_binary(): filename 'a1_Pstfrom_Katie_new_folder_II\\prior_pe.jcb' not found",
     "output_type": "error",
     "traceback": [
      "\u001b[1;31m---------------------------------------------------------------------------\u001b[0m",
      "\u001b[1;31mException\u001b[0m                                 Traceback (most recent call last)",
      "Cell \u001b[1;32mIn[4], line 2\u001b[0m\n\u001b[0;32m      1\u001b[0m [f \u001b[38;5;28;01mfor\u001b[39;00m f \u001b[38;5;129;01min\u001b[39;00m os\u001b[38;5;241m.\u001b[39mlistdir(t_d) \u001b[38;5;28;01mif\u001b[39;00m f\u001b[38;5;241m.\u001b[39mendswith(\u001b[38;5;124m\"\u001b[39m\u001b[38;5;124m.jcb\u001b[39m\u001b[38;5;124m\"\u001b[39m)]\n\u001b[1;32m----> 2\u001b[0m pe \u001b[38;5;241m=\u001b[39m \u001b[43mpyemu\u001b[49m\u001b[38;5;241;43m.\u001b[39;49m\u001b[43mParameterEnsemble\u001b[49m\u001b[38;5;241;43m.\u001b[39;49m\u001b[43mfrom_binary\u001b[49m\u001b[43m(\u001b[49m\u001b[43mpst\u001b[49m\u001b[38;5;241;43m=\u001b[39;49m\u001b[43mpst\u001b[49m\u001b[43m,\u001b[49m\u001b[43mfilename\u001b[49m\u001b[38;5;241;43m=\u001b[39;49m\u001b[43mos\u001b[49m\u001b[38;5;241;43m.\u001b[39;49m\u001b[43mpath\u001b[49m\u001b[38;5;241;43m.\u001b[39;49m\u001b[43mjoin\u001b[49m\u001b[43m(\u001b[49m\u001b[43mt_d\u001b[49m\u001b[43m,\u001b[49m\u001b[38;5;124;43m\"\u001b[39;49m\u001b[38;5;124;43mprior_pe.jcb\u001b[39;49m\u001b[38;5;124;43m\"\u001b[39;49m\u001b[43m)\u001b[49m\u001b[43m)\u001b[49m\n\u001b[0;32m      3\u001b[0m pe\u001b[38;5;241m.\u001b[39mshape\n",
      "File \u001b[1;32m~\\anaconda3\\envs\\flopy\\Lib\\site-packages\\pyemu\\en.py:298\u001b[0m, in \u001b[0;36mEnsemble.from_binary\u001b[1;34m(cls, pst, filename)\u001b[0m\n\u001b[0;32m    279\u001b[0m \u001b[38;5;129m@classmethod\u001b[39m\n\u001b[0;32m    280\u001b[0m \u001b[38;5;28;01mdef\u001b[39;00m \u001b[38;5;21mfrom_binary\u001b[39m(\u001b[38;5;28mcls\u001b[39m, pst, filename):\n\u001b[0;32m    281\u001b[0m \u001b[38;5;250m    \u001b[39m\u001b[38;5;124;03m\"\"\"create an `Ensemble` from a PEST-style binary file\u001b[39;00m\n\u001b[0;32m    282\u001b[0m \n\u001b[0;32m    283\u001b[0m \u001b[38;5;124;03m    Args:\u001b[39;00m\n\u001b[1;32m   (...)\u001b[0m\n\u001b[0;32m    295\u001b[0m \n\u001b[0;32m    296\u001b[0m \u001b[38;5;124;03m    \"\"\"\u001b[39;00m\n\u001b[1;32m--> 298\u001b[0m     df \u001b[38;5;241m=\u001b[39m \u001b[43mpyemu\u001b[49m\u001b[38;5;241;43m.\u001b[39;49m\u001b[43mMatrix\u001b[49m\u001b[38;5;241;43m.\u001b[39;49m\u001b[43mfrom_binary\u001b[49m\u001b[43m(\u001b[49m\u001b[43mfilename\u001b[49m\u001b[43m)\u001b[49m\u001b[38;5;241m.\u001b[39mto_dataframe()\n\u001b[0;32m    299\u001b[0m     \u001b[38;5;28;01mreturn\u001b[39;00m \u001b[38;5;28mcls\u001b[39m(pst\u001b[38;5;241m=\u001b[39mpst, df\u001b[38;5;241m=\u001b[39mdf)\n",
      "File \u001b[1;32m~\\anaconda3\\envs\\flopy\\Lib\\site-packages\\pyemu\\mat\\mat_handler.py:2287\u001b[0m, in \u001b[0;36mMatrix.from_binary\u001b[1;34m(cls, filename, forgive)\u001b[0m\n\u001b[0;32m   2268\u001b[0m \u001b[38;5;129m@classmethod\u001b[39m\n\u001b[0;32m   2269\u001b[0m \u001b[38;5;28;01mdef\u001b[39;00m \u001b[38;5;21mfrom_binary\u001b[39m(\u001b[38;5;28mcls\u001b[39m, filename, forgive\u001b[38;5;241m=\u001b[39m\u001b[38;5;28;01mFalse\u001b[39;00m):\n\u001b[0;32m   2270\u001b[0m \u001b[38;5;250m    \u001b[39m\u001b[38;5;124;03m\"\"\"class method load from PEST-compatible binary file into a\u001b[39;00m\n\u001b[0;32m   2271\u001b[0m \u001b[38;5;124;03m    Matrix instance\u001b[39;00m\n\u001b[0;32m   2272\u001b[0m \n\u001b[1;32m   (...)\u001b[0m\n\u001b[0;32m   2285\u001b[0m \n\u001b[0;32m   2286\u001b[0m \u001b[38;5;124;03m    \"\"\"\u001b[39;00m\n\u001b[1;32m-> 2287\u001b[0m     x, row_names, col_names \u001b[38;5;241m=\u001b[39m \u001b[43mMatrix\u001b[49m\u001b[38;5;241;43m.\u001b[39;49m\u001b[43mread_binary\u001b[49m\u001b[43m(\u001b[49m\u001b[43mfilename\u001b[49m\u001b[43m,\u001b[49m\u001b[43m \u001b[49m\u001b[43mforgive\u001b[49m\u001b[38;5;241;43m=\u001b[39;49m\u001b[43mforgive\u001b[49m\u001b[43m)\u001b[49m\n\u001b[0;32m   2288\u001b[0m     \u001b[38;5;28;01mif\u001b[39;00m np\u001b[38;5;241m.\u001b[39many(np\u001b[38;5;241m.\u001b[39misnan(x)):\n\u001b[0;32m   2289\u001b[0m         warnings\u001b[38;5;241m.\u001b[39mwarn(\u001b[38;5;124m\"\u001b[39m\u001b[38;5;124mMatrix.from_binary(): nans in matrix\u001b[39m\u001b[38;5;124m\"\u001b[39m, PyemuWarning)\n",
      "File \u001b[1;32m~\\anaconda3\\envs\\flopy\\Lib\\site-packages\\pyemu\\mat\\mat_handler.py:2336\u001b[0m, in \u001b[0;36mMatrix.read_binary\u001b[1;34m(filename, forgive)\u001b[0m\n\u001b[0;32m   2319\u001b[0m \u001b[38;5;250m\u001b[39m\u001b[38;5;124;03m\"\"\"static method to read PEST-format binary files\u001b[39;00m\n\u001b[0;32m   2320\u001b[0m \n\u001b[0;32m   2321\u001b[0m \u001b[38;5;124;03mArgs:\u001b[39;00m\n\u001b[1;32m   (...)\u001b[0m\n\u001b[0;32m   2333\u001b[0m \n\u001b[0;32m   2334\u001b[0m \u001b[38;5;124;03m\"\"\"\u001b[39;00m\n\u001b[0;32m   2335\u001b[0m \u001b[38;5;28;01mif\u001b[39;00m \u001b[38;5;129;01mnot\u001b[39;00m os\u001b[38;5;241m.\u001b[39mpath\u001b[38;5;241m.\u001b[39mexists(filename):\n\u001b[1;32m-> 2336\u001b[0m     \u001b[38;5;28;01mraise\u001b[39;00m \u001b[38;5;167;01mException\u001b[39;00m(\n\u001b[0;32m   2337\u001b[0m         \u001b[38;5;124m\"\u001b[39m\u001b[38;5;124mMatrix.read_binary(): filename \u001b[39m\u001b[38;5;124m'\u001b[39m\u001b[38;5;132;01m{0}\u001b[39;00m\u001b[38;5;124m'\u001b[39m\u001b[38;5;124m not found\u001b[39m\u001b[38;5;124m\"\u001b[39m\u001b[38;5;241m.\u001b[39mformat(filename)\n\u001b[0;32m   2338\u001b[0m     )\n\u001b[0;32m   2339\u001b[0m f \u001b[38;5;241m=\u001b[39m \u001b[38;5;28mopen\u001b[39m(filename, \u001b[38;5;124m\"\u001b[39m\u001b[38;5;124mrb\u001b[39m\u001b[38;5;124m\"\u001b[39m)\n\u001b[0;32m   2340\u001b[0m itemp1, itemp2, icount \u001b[38;5;241m=\u001b[39m np\u001b[38;5;241m.\u001b[39mfromfile(f, Matrix\u001b[38;5;241m.\u001b[39mbinary_header_dt, \u001b[38;5;241m1\u001b[39m)[\u001b[38;5;241m0\u001b[39m]\n",
      "\u001b[1;31mException\u001b[0m: Matrix.read_binary(): filename 'a1_Pstfrom_Katie_new_folder_II\\prior_pe.jcb' not found"
     ]
    }
   ],
   "source": [
    "[f for f in os.listdir(t_d) if f.endswith(\".jcb\")]\n",
    "pe = pyemu.ParameterEnsemble.from_binary(pst=pst,filename=os.path.join(t_d,\"prior_pe.jcb\"))\n",
    "pe.shape"
   ]
  },
  {
   "cell_type": "markdown",
   "metadata": {},
   "source": [
    "pe.to_csv(os.path.join(t_d, 'prior_pe.csv'))          # record an ensemble to external files \n",
    "pe.to_binary(os.path.join(t_d,'prior_pe.jcb'))\n",
    "\n",
    "pe = pyemu.ParameterEnsemble.from_csv(pst, filename=os.path.join(t_d, 'prior_pe.csv'))             # read then \n",
    "pe_b = pyemu.ParameterEnsemble.from_binary(pst, filename=os.path.join(t_d, 'prior_pe.jcb'))\n",
    "\n",
    "emp_cov = pe.covariance_matrix()                      # form an empirical covariance matrix from an ensemble!\n",
    "x = emp_cov.x.copy()\n",
    "x[x<1.0e-2] = np.nan\n",
    "c = plt.imshow(x)\n",
    "plt.colorbar(c)                                       # ____ Beta trying to plot this covariance matrix ___ intro to pyEMU"
   ]
  },
  {
   "cell_type": "markdown",
   "metadata": {},
   "source": [
    "##  Prior Monte Carlo ___ `noptmax` to be `-1`  \n",
    "> **Pro Tip**: `ies_num_reals` and sweep utility `pestpp-swp`"
   ]
  },
  {
   "cell_type": "code",
   "execution_count": null,
   "metadata": {},
   "outputs": [],
   "source": [
    "pst.pestpp_options['ies_parameter_ensemble'] = 'prior_pe.jcb'"
   ]
  },
  {
   "cell_type": "code",
   "execution_count": null,
   "metadata": {},
   "outputs": [],
   "source": [
    "pst.control_data.noptmax = 0 \n",
    "pst.write(os.path.join(t_d, 'freyberg_mf6.pst'),version=2)"
   ]
  },
  {
   "cell_type": "code",
   "execution_count": null,
   "metadata": {},
   "outputs": [],
   "source": [
    "pyemu.os_utils.run(\"pestpp-ies freyberg_mf6.pst\",cwd=t_d)"
   ]
  },
  {
   "cell_type": "code",
   "execution_count": null,
   "metadata": {},
   "outputs": [],
   "source": [
    "pst.control_data.noptmax = -1\n",
    "pst.write(os.path.join(t_d, 'freyberg_mf6.pst'),version=2)"
   ]
  },
  {
   "cell_type": "code",
   "execution_count": null,
   "metadata": {},
   "outputs": [],
   "source": [
    "# num_workers = psutil.cpu_count(logical=10) "
   ]
  },
  {
   "cell_type": "code",
   "execution_count": null,
   "metadata": {},
   "outputs": [],
   "source": [
    "# m_d = os.path.join('master_priormc')"
   ]
  },
  {
   "cell_type": "markdown",
   "metadata": {},
   "source": [
    "> **Pro Tip**: Running PEST from within a `jupyter notebook` has a tendency to slow things down and hog alot of RAM. When modelling in the \"real world\" it is more efficient to implement workflows in scripts which you can call from the command line."
   ]
  },
  {
   "cell_type": "code",
   "execution_count": null,
   "metadata": {},
   "outputs": [],
   "source": [
    "pyemu.os_utils.start_workers('./a1_Pstfrom_Katie_new_folder_II',\n",
    "                             master_dir='master_priormc',\n",
    "                             exe_rel_path='pestpp-ies', \n",
    "                             pst_rel_path='freyberg_mf6.pst', \n",
    "                             worker_root='.', num_workers=10 )                 # Fienen Version __ Doesn't work"
   ]
  },
  {
   "cell_type": "code",
   "execution_count": null,
   "metadata": {},
   "outputs": [],
   "source": [
    "pyemu.os_utils.start_workers(t_d, \n",
    "                             'pestpp-ies', \n",
    "                             'freyberg_mf6.pst', \n",
    "                             num_workers=num_workers, \n",
    "                             worker_root='.', \n",
    "                             master_dir=m_d, )                                 # Katie Version __ Doesn't work"
   ]
  },
  {
   "cell_type": "markdown",
   "metadata": {},
   "source": [
    "### Explore the Outcomes\n",
    "\n",
    "`pestpp-swp` writes the results of the the prior Monte Carlo to a csv file called `freyberg_mf6.0.obs.csv`. Note the naming convention - this is the base `pst` file name (`freyberg_mf6`) followed by the iteration number (`0` indicating this is at the beginning of the process - e.g. _prior_ Monte Carlo) and `.obs.csv` indicating this file contains observation values. This file has columns for each observation listed in the control file, plus an index column with the realization name. \n"
   ]
  },
  {
   "cell_type": "code",
   "execution_count": null,
   "metadata": {},
   "outputs": [],
   "source": [
    "obs_df = pd.read_csv(os.path.join(m_d,\"freyberg_mf6.0.obs.csv\"),index_col=0)\n",
    "print('number of realizations in the ensemble: ' + str(obs_df.shape[0]))"
   ]
  },
  {
   "cell_type": "markdown",
   "metadata": {},
   "source": [
    "We can take a look at the distribution of Phi obtained for the ensemble. These are in another file with the same root, in this case called `freyberg_mf6.phi.actual.csv`. let's read in the file."
   ]
  },
  {
   "cell_type": "code",
   "execution_count": null,
   "metadata": {},
   "outputs": [],
   "source": [
    "phi_df = pd.read_csv(os.path.join(m_d,\"freyberg_mf6.phi.actual.csv\"),index_col=0)\n",
    "phi_df"
   ]
  },
  {
   "cell_type": "markdown",
   "metadata": {},
   "source": [
    "Note there are a few summary columns here, but for now we want to check out a quick histogram so we can use some quick pandas trickery to skip those and plot a histogram:"
   ]
  },
  {
   "cell_type": "code",
   "execution_count": null,
   "metadata": {},
   "outputs": [],
   "source": [
    "phi_df = phi_df.T.iloc[5:].rename(columns={0:'phi'})\n",
    "phi_df.phi.hist(bins=50)"
   ]
  },
  {
   "cell_type": "markdown",
   "metadata": {},
   "source": [
    "Some pretty high values there. But that's fine. We are not concerned with getting a \"good fit\" in prior MC."
   ]
  },
  {
   "cell_type": "markdown",
   "metadata": {},
   "source": [
    "More important is to inspect whether the ***distribution*** of simulated observations encompass measured values. Our first concern is to ensure that the model is ***able*** to captured observed behaviour. If measured values do not fall within the range of simualted values, this is a sign that something ain't right and we should revisit our model or prior parameter distributions.\n"
   ]
  },
  {
   "cell_type": "markdown",
   "metadata": {},
   "source": [
    "A quick check is to plot stochastic (ensemble-based) 1-to-1 plots. We can plot 1to1 plots for obsvervation groups using the `pyemu.plot_utils.ensemble_res_1to1()` method. However, in our case that will result in lots of plots (we have many obs groups!). "
   ]
  },
  {
   "cell_type": "code",
   "execution_count": null,
   "metadata": {},
   "outputs": [],
   "source": [
    "# pyemu.plot_utils.ensemble_res_1to1(obs_df, pst);"
   ]
  },
  {
   "cell_type": "markdown",
   "metadata": {},
   "source": [
    "Feel free to uncomment the previous cell and see what happens. This can be usefull for a quick review, but for the purposes of this tutorial, let's just look at four observation groups (recall, each group is made up of a time series of observations from a single location).\n",
    "\n",
    "Now, this plot does not look particularily pretty...but we aren't here for pretty, we are here for results! What are we concerned with? Whether the range of ensemble simulated outcomes form the prior covers the measured values. Recall that plots on the left are 1to1 plots and on the right the residuals ar edisplayed.  In both cases, a grey line represents the range of simulated values for a given observation\n",
    "\n",
    "In plots on the left, each grey line should interesect the 1-to-1 line. In the plots on the right, each grey line should intersect the \"zero-residual\" line. "
   ]
  },
  {
   "cell_type": "code",
   "execution_count": null,
   "metadata": {},
   "outputs": [],
   "source": [
    "zero_weighted_obs_groups = [i for i in pst.obs_groups if i not in pst.nnz_obs_groups]\n",
    "len(zero_weighted_obs_groups)"
   ]
  },
  {
   "cell_type": "code",
   "execution_count": null,
   "metadata": {},
   "outputs": [],
   "source": [
    "pyemu.plot_utils.ensemble_res_1to1(obs_df, pst, skip_groups=zero_weighted_obs_groups); "
   ]
  },
  {
   "cell_type": "markdown",
   "metadata": {},
   "source": [
    "As we can see above, the prior covers the \"measured\" values (which is good).\n",
    "\n",
    "But hold on a second! What about measurement noise? If we are saying that it is *possible* that our measurements are wrong by a certain amount, shouldn't we make sure our model can represent conditions in which they are? Yes, of course!\n",
    "\n",
    "No worries, `pyemu` has you covered. Let's quickly cook up an ensemble of observations with noise. (Recall we recorded a covariance matrix of observation noise during the \"freyberg pstfrom pest setup\" notebook; this has also been discussed in the \"observation and weights\" notebook.)"
   ]
  },
  {
   "cell_type": "code",
   "execution_count": null,
   "metadata": {},
   "outputs": [],
   "source": [
    "obs_cov = pyemu.Cov.from_binary(os.path.join(t_d, 'obs_cov.jcb'))\n",
    "obs_plus_noise = pyemu.ObservationEnsemble.from_gaussian_draw(pst=pst, cov=obs_cov);"
   ]
  },
  {
   "cell_type": "markdown",
   "metadata": {},
   "source": [
    "OK, now let's plot that again but with observation noise. \n",
    "\n",
    "Aha! Good, not only do our ensemble of model outcomes cover the measured values, but they also entirely cover the range of measured values with noise (red shaded area in the plot below). "
   ]
  },
  {
   "cell_type": "code",
   "execution_count": null,
   "metadata": {},
   "outputs": [],
   "source": [
    "pyemu.plot_utils.ensemble_res_1to1(obs_df,\n",
    "                                    pst, \n",
    "                                    skip_groups=zero_weighted_obs_groups,\n",
    "                                    base_ensemble=obs_plus_noise); "
   ]
  },
  {
   "cell_type": "markdown",
   "metadata": {},
   "source": [
    "Another, perhaps coarser, method to quickly explore outcomes is to look at histograms of observations. \n",
    "\n",
    "The following figure groups observations according to type (just to lump them together and make a smaller plot) and then plots histograms of observation values. Grey shaded columns represent simulated values from the prior. Red shaded columns represent the ensemble of measured values + noise. The grey columns should ideally be spread wider than the red columns."
   ]
  },
  {
   "cell_type": "code",
   "execution_count": null,
   "metadata": {},
   "outputs": [],
   "source": [
    "plot_cols = pst.observation_data.loc[pst.nnz_obs_names].apply(lambda x: x.usecol + \" \"+x.oname,axis=1).to_dict()\n",
    "plot_cols = {v: [k] for k, v in plot_cols.items()}\n",
    "pyemu.plot_utils.ensemble_helper({\"r\":obs_plus_noise,\"0.5\":obs_df}, \n",
    "                                  plot_cols=plot_cols,bins=20,sync_bins=True,\n",
    "                                  )\n",
    "plt.show();"
   ]
  },
  {
   "cell_type": "markdown",
   "metadata": {},
   "source": [
    "Finally, let's plot the obs vs sim timeseries - everyone's fav!"
   ]
  },
  {
   "cell_type": "code",
   "execution_count": null,
   "metadata": {},
   "outputs": [],
   "source": [
    "pst.try_parse_name_metadata()\n",
    "obs = pst.observation_data.copy()\n",
    "obs = obs.loc[obs.oname.apply(lambda x: x in [\"hds\",\"sfr\"])]\n",
    "obs = obs.loc[obs.obgnme.apply(lambda x: x in pst.nnz_obs_groups),:]\n",
    "obs.obgnme.unique()"
   ]
  },
  {
   "cell_type": "markdown",
   "metadata": {},
   "source": [
    "## First let's see the entire ensemble compared with the observed values"
   ]
  },
  {
   "cell_type": "code",
   "execution_count": null,
   "metadata": {},
   "outputs": [],
   "source": [
    "ogs = obs.obgnme.unique()\n",
    "fig,axes = plt.subplots(len(ogs),1,figsize=(10,5*len(ogs)))\n",
    "ogs.sort()\n",
    "for ax,og in zip(axes,ogs):\n",
    "    oobs = obs.loc[obs.obgnme==og,:].copy()\n",
    "    oobs.loc[:,\"time\"] = oobs.time.astype(float)\n",
    "    oobs.sort_values(by=\"time\",inplace=True)\n",
    "    tvals = oobs.time.values\n",
    "    onames = oobs.obsnme.values\n",
    "    [ax.plot(tvals,obs_df.loc[i,onames].values,\"0.5\",lw=0.5,alpha=0.5) for i in obs_df.index]\n",
    "    oobs = oobs.loc[oobs.weight>0,:]\n",
    "    ax.plot(oobs.time,oobs.obsval,\"r-\",lw=2)\n",
    "    ax.set_title(og,loc=\"left\")"
   ]
  },
  {
   "cell_type": "markdown",
   "metadata": {},
   "source": [
    "## Next we can inspect a single realization"
   ]
  },
  {
   "cell_type": "code",
   "execution_count": null,
   "metadata": {},
   "outputs": [],
   "source": [
    "ogs = obs.obgnme.unique()\n",
    "fig,axes = plt.subplots(len(ogs),1,figsize=(10,5*len(ogs)))\n",
    "ogs.sort()\n",
    "for ax,og in zip(axes,ogs):\n",
    "    oobs = obs.loc[obs.obgnme==og,:].copy()\n",
    "    oobs.loc[:,\"time\"] = oobs.time.astype(float)\n",
    "    oobs.sort_values(by=\"time\",inplace=True)\n",
    "    tvals = oobs.time.values\n",
    "    onames = oobs.obsnme.values\n",
    "    i = obs_df.index[1]\n",
    "    ax.plot(tvals,obs_df.loc[i,onames].values,\"0.5\",lw=0.5,alpha=0.5)\n",
    "    oobs = oobs.loc[oobs.weight>0,:]\n",
    "    ax.plot(oobs.time,oobs.obsval,\"r-\",lw=2)\n",
    "    ax.set_title(og,loc=\"left\")"
   ]
  },
  {
   "cell_type": "markdown",
   "metadata": {},
   "source": [
    "### Forecasts\n",
    "\n",
    "As usual, we bring this story back to the forecasts - after all they are why we are modelling."
   ]
  },
  {
   "cell_type": "code",
   "execution_count": null,
   "metadata": {},
   "outputs": [],
   "source": [
    "pst.forecast_names"
   ]
  },
  {
   "cell_type": "markdown",
   "metadata": {},
   "source": [
    "The following cell will plot the distribution of each forecast obtained by running the prior parameter ensemble. Because we are using a synthetic model, we also have the privilege of being able to plot the \"truth\" (in the real world we don't know the truth of course). \n",
    "\n",
    "Many modelling analyses could stop here. If outcomes from a prior MC analysis show that the simulated distribution of forecasts *does not* cause some \"bad-thing\" to happen within an \"acceptable\" confidence, then you are done. No need to go and do expensive and time-consuming history-matching! \n",
    "\n",
    "On the other hand, if the uncertainty (e.g. variance) is unacceptably wide, then it *may* be justifiable to try to reduce forecast uncertainty through history matching. But only if you have forecast-sensitive observation data, and if the model is amenable to assimilating these data! How do I know that you ask? Worry not, we will get to this in subsequent tutorials.\n"
   ]
  },
  {
   "cell_type": "code",
   "execution_count": null,
   "metadata": {},
   "outputs": [],
   "source": [
    "for forecast in pst.forecast_names:\n",
    "    plt.figure()\n",
    "    ax = obs_df.loc[:,forecast].plot(kind=\"hist\",color=\"0.5\",alpha=0.5, bins=20)\n",
    "    ax.set_title(forecast)\n",
    "    fval = pst.observation_data.loc[forecast,\"obsval\"]\n",
    "    ax.plot([fval,fval],ax.get_ylim(),\"r-\")"
   ]
  },
  {
   "cell_type": "code",
   "execution_count": null,
   "metadata": {},
   "outputs": [],
   "source": []
  }
 ],
 "metadata": {
  "kernelspec": {
   "display_name": "Python 3 (ipykernel)",
   "language": "python",
   "name": "python3"
  },
  "language_info": {
   "codemirror_mode": {
    "name": "ipython",
    "version": 3
   },
   "file_extension": ".py",
   "mimetype": "text/x-python",
   "name": "python",
   "nbconvert_exporter": "python",
   "pygments_lexer": "ipython3",
   "version": "3.13.1"
  }
 },
 "nbformat": 4,
 "nbformat_minor": 4
}
