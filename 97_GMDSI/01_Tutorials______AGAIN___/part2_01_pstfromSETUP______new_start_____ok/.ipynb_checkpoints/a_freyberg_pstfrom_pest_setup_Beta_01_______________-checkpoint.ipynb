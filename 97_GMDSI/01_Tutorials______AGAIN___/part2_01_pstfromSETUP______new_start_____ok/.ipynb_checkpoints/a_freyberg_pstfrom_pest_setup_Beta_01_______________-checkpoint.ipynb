{
 "cells": [
  {
   "cell_type": "markdown",
   "metadata": {},
   "source": [
    "## `01, 02, 03`   _______________   ` part2_01_PEST SETUP `  ___Fienen"
   ]
  },
  {
   "cell_type": "code",
   "execution_count": 1,
   "metadata": {},
   "outputs": [],
   "source": [
    "import sys\n",
    "import os\n",
    "import shutil\n",
    "import platform\n",
    "import warnings\n",
    "warnings.filterwarnings(\"ignore\")\n",
    "warnings.filterwarnings(\"ignore\", category=DeprecationWarning) \n",
    "import pandas as pd\n",
    "import numpy as np\n",
    "import matplotlib.pyplot as plt;\n",
    "import pyemu\n",
    "import flopy                          # assert \"dependencies\" in flopy.__file__      # assert \"dependencies\" in pyemu.__file__\n",
    "sys.path.insert(0,\"..\")\n",
    "import herebedragons as hbd"
   ]
  },
  {
   "cell_type": "code",
   "execution_count": 2,
   "metadata": {},
   "outputs": [],
   "source": [
    "org_d = os.path.join('..', '..', 'models', 'monthly_model_files_1lyr_newstress')\n",
    "tmp_d = os.path.join('freyberg_mf6')\n",
    "if os.path.exists(tmp_d):\n",
    "    shutil.rmtree(tmp_d)\n",
    "shutil.copytree(org_d,tmp_d)\n",
    "hbd.prep_bins(tmp_d)                                      # get executables                 _____ org_d  ____   tmp_d _____\n",
    "hbd.prep_deps(tmp_d)                                      # get dependency folders"
   ]
  },
  {
   "cell_type": "code",
   "execution_count": 3,
   "metadata": {},
   "outputs": [
    {
     "name": "stdout",
     "output_type": "stream",
     "text": [
      "loading simulation...\n",
      "  loading simulation name file...\n",
      "  loading tdis package...\n",
      "  loading model gwf6...\n",
      "    loading package dis...\n",
      "    loading package ic...\n",
      "    loading package npf...\n",
      "    loading package sto...\n",
      "    loading package oc...\n",
      "    loading package wel...\n",
      "    loading package rch...\n",
      "    loading package ghb...\n",
      "    loading package sfr...\n",
      "    loading package obs...\n",
      "  loading solution package freyberg6...\n",
      "mf6.exe\n",
      "mp7.exe freyberg_mp.mpsim\n"
     ]
    }
   ],
   "source": [
    "# os.listdir(tmp_d)                                      `GUI ___PstFrom` \n",
    "sim = flopy.mf6.MFSimulation.load(sim_ws=tmp_d)           # simulation                          ####   *_ws\n",
    "gwf = sim.get_model()                                     # flow model\n",
    "pyemu.os_utils.run(\"mf6\",cwd=tmp_d)                       # run ______ in 'freyberg_mf6' folder\n",
    "pyemu.os_utils.run(r'mp7 freyberg_mp.mpsim', cwd=tmp_d)   # run modpath7 "
   ]
  },
  {
   "cell_type": "markdown",
   "metadata": {},
   "source": [
    "### `04, 05 ___ PEST Template _________ PstFrom.log `"
   ]
  },
  {
   "cell_type": "code",
   "execution_count": 4,
   "metadata": {},
   "outputs": [
    {
     "name": "stdout",
     "output_type": "stream",
     "text": [
      "   could not remove start_datetime\n"
     ]
    }
   ],
   "source": [
    "sr = pyemu.helpers.SpatialReference.from_namfile(\n",
    "        os.path.join(tmp_d, \"freyberg6.nam\"),                # PstFrom (alternative) \n",
    "        delr=gwf.dis.delr.array, delc=gwf.dis.delc.array)    # sr "
   ]
  },
  {
   "cell_type": "code",
   "execution_count": 5,
   "metadata": {},
   "outputs": [],
   "source": [
    "template_ws = os.path.join(\"a1_Pstfrom_Katie_new_folder\")           # a1_Pstfrom_Katie_new_folder\n",
    "start_datetime=\"1-1-2008\"\n",
    "\n",
    "pf = pyemu.utils.PstFrom(original_d=tmp_d,                 # PROJECT\n",
    "                            new_d=template_ws,             # folder\n",
    "                            remove_existing=True,           \n",
    "                            longnames=True,                 \n",
    "                            spatial_reference=sr,          # spatial reference\n",
    "                            zero_based=False,              \n",
    "                            start_datetime=start_datetime, # temporal correlation\n",
    "                            echo=False)                    "
   ]
  },
  {
   "cell_type": "markdown",
   "metadata": {},
   "source": [
    "## `06 ____ Adding Observations OBS`"
   ]
  },
  {
   "cell_type": "code",
   "execution_count": 6,
   "metadata": {},
   "outputs": [],
   "source": [
    "df = pd.read_csv(os.path.join(template_ws,\"heads.csv\"),index_col=0)             \n",
    "hds_df = pf.add_observations(\"heads.csv\",                                \n",
    "                            insfile=\"heads.csv.ins\",                     # *.csv.INS\n",
    "                            index_cols=\"time\",                           \n",
    "                            use_cols=list(df.columns.values),            # index x columns.values\n",
    "                            prefix=\"hds\")                                # + Weights\n",
    "\n",
    "df = pd.read_csv(os.path.join(template_ws, \"sfr.csv\"), index_col=0)      \n",
    "sfr_df = pf.add_observations(\"sfr.csv\", \n",
    "                            insfile=\"sfr.csv.ins\", \n",
    "                            index_cols=\"time\", \n",
    "                            use_cols=list(df.columns.values), \n",
    "                            prefix=\"sfr\")                                "
   ]
  },
  {
   "cell_type": "code",
   "execution_count": 7,
   "metadata": {},
   "outputs": [],
   "source": [
    "# Before\n",
    "# os.listdir(template_ws)\n",
    "# for i in gwf.obs:                                                      # Stored in memory, ... from mf6\n",
    "#    print(i.output.obs_names\n",
    "\n",
    "# After\n",
    "# hds_df.head()\n",
    "# sfr_df.head()\n",
    "# [f for f in os.listdir(template_ws) if f.endswith(\".ins\")]"
   ]
  },
  {
   "cell_type": "markdown",
   "metadata": {},
   "source": [
    "## `07 ____ Adding Parameters`"
   ]
  },
  {
   "cell_type": "markdown",
   "metadata": {},
   "source": [
    "### `Geostatistics`____________________Kh, Kv, Ss, Sy, RCH (xyz,T). GHB, SFR inflow , + Pumping WELL uncertainties (xyz,T)"
   ]
  },
  {
   "cell_type": "code",
   "execution_count": 8,
   "metadata": {},
   "outputs": [],
   "source": [
    "v_grid = pyemu.geostats.ExpVario(contribution=1.0,      # sill  \n",
    "                                    a=1000,             # range \n",
    "                                    anisotropy=1.0,    \n",
    "                                    bearing=0.0         # angle in degrees East of North corresponding to anisotropy ellipse\n",
    "                                    )\n",
    "grid_gs = pyemu.geostats.GeoStruct(variograms=v_grid, transform='log')          # _______Grid                   # ax = grid_gs.plot()                                                     \n",
    "v_pp = pyemu.geostats.ExpVario(contribution=1.0,        \n",
    "                                    a=15000,           \n",
    "                                    anisotropy=1.0,    \n",
    "                                    bearing=0.0         \n",
    "                                    )\n",
    "pp_gs = pyemu.geostats.GeoStruct(variograms=v_pp, transform='log')             # _____ Pilot Points             # _ = pp_gs.plot() \n",
    "v_time = pyemu.geostats.ExpVario(contribution=1.0,       \n",
    "                                    a=60, \n",
    "                                    anisotropy=1.0, \n",
    "                                    bearing=0.0 \n",
    "                                    )\n",
    "temporal_gs = pyemu.geostats.GeoStruct(variograms=v_time, transform='none')    # _______Time"
   ]
  },
  {
   "cell_type": "markdown",
   "metadata": {},
   "source": [
    "### `07a __ K __ Option 01 cel by cel __GRID` "
   ]
  },
  {
   "cell_type": "code",
   "execution_count": 9,
   "metadata": {},
   "outputs": [],
   "source": [
    "# tag = \"npf_k_\"\n",
    "# files = [f for f in os.listdir(template_ws) if tag in f.lower() and f.endswith(\".txt\")] # print(files) \n",
    "\n",
    "ib = gwf.dis.idomain.array[0]                                       # iDOMAIN ______# plt.imshow(ib)  supressed"
   ]
  },
  {
   "cell_type": "code",
   "execution_count": 10,
   "metadata": {},
   "outputs": [],
   "source": [
    "f = 'freyberg6.npf_k_layer1.txt'\n",
    "df_gr = pf.add_parameters(f,                                        # scale _______________________   * CTRL df_gr\n",
    "                zone_array=ib,                                      \n",
    "                par_type=\"grid\",                                    \n",
    "                geostruct=grid_gs,           \n",
    "                par_name_base=f.split('.')[1].replace(\"_\",\"\")+\"gr\", # GRID\n",
    "                pargp=f.split('.')[1].replace(\"_\",\"\")+\"gr\",         # Group \n",
    "                lower_bound=0.2, upper_bound=5.0,                    \n",
    "                ult_ubound=100, ult_lbound=0.01)                    # Multiplied. _____ Kh cannot exceed these values.multipliers !                    \n",
    "\n",
    "# df_gr.tail()   # *.tpl  # *.zone \n",
    "# [f for f in os.listdir(template_ws) if f.endswith(\".tpl\")]   "
   ]
  },
  {
   "cell_type": "markdown",
   "metadata": {},
   "source": [
    "### `07b __ K __  Option 02 PILOT POINTS` "
   ]
  },
  {
   "cell_type": "code",
   "execution_count": 11,
   "metadata": {},
   "outputs": [
    {
     "name": "stdout",
     "output_type": "stream",
     "text": [
      "starting interp point loop for 706 points\n",
      "starting 0\n",
      "starting 1\n",
      "starting 2\n",
      "starting 3\n",
      "starting 4\n",
      "starting 5\n",
      "starting 6\n",
      "starting 7\n",
      "starting 8\n",
      "starting 9\n",
      "took 4.191234 seconds\n"
     ]
    }
   ],
   "source": [
    "df_pp = pf.add_parameters(f,\n",
    "                    zone_array=ib,\n",
    "                    par_type=\"pilotpoints\",\n",
    "                    geostruct=pp_gs,\n",
    "                    par_name_base=f.split('.')[1].replace(\"_\",\"\")+\"pp\",\n",
    "                    pargp=f.split('.')[1].replace(\"_\",\"\")+\"pp\",\n",
    "                    lower_bound=0.2,upper_bound=5.0,\n",
    "                    ult_ubound=100, ult_lbound=0.01,\n",
    "                    pp_space=5)                                      # Unifrom grid ___PILOT POINTS ___ at every 4th row and column\n",
    "\n",
    "#fig,ax = plt.subplots(1,1,figsize=(2,3))               # PLOT\n",
    "#ax.set_aspect(\"equal\")\n",
    "#ax.pcolormesh(sr.xcentergrid, sr.ycentergrid,ib)\n",
    "#ax.scatter(df_pp.x,df_pp.y)"
   ]
  },
  {
   "cell_type": "markdown",
   "metadata": {},
   "source": [
    "### `07c __ K __  Option 03 Cte` "
   ]
  },
  {
   "cell_type": "code",
   "execution_count": 12,
   "metadata": {},
   "outputs": [],
   "source": [
    "df_cst = pf.add_parameters(f,                  \n",
    "                    zone_array=ib,\n",
    "                    par_type=\"constant\",\n",
    "                    geostruct=grid_gs,\n",
    "                    par_name_base=f.split('.')[1].replace(\"_\",\"\")+\"cn\",\n",
    "                    pargp=f.split('.')[1].replace(\"_\",\"\")+\"cn\",\n",
    "                    lower_bound=0.2,upper_bound=5.0,\n",
    "                    ult_ubound=100, ult_lbound=0.01)\n",
    "\n",
    "# [f for f in os.listdir(template_ws) if f.endswith(\".tpl\")]      \n",
    "#df = pf.add_observations(f,prefix=\"hk\",zone_array=ib)             \n",
    "#df  "
   ]
  },
  {
   "cell_type": "markdown",
   "metadata": {},
   "source": [
    "### `07_D __ All at once` 'sto_ss', 'sto_sy', 'ne_'  "
   ]
  },
  {
   "cell_type": "code",
   "execution_count": 13,
   "metadata": {},
   "outputs": [],
   "source": [
    "def add_mult_pars(f, lb=0.2, ub=5.0, ulb=0.01, uub=100, add_coarse=True):   # a function.... for each PAR \n",
    "    if isinstance(f,str):\n",
    "        base = f.split(\".\")[1].replace(\"_\",\"\")\n",
    "    else:\n",
    "        base = f[0].split(\".\")[1]\n",
    "        \n",
    "tag = \"sto_ss\"\n",
    "files = [f for f in os.listdir(template_ws) if tag in f.lower() and f.endswith(\".txt\")]\n",
    "for f in files[1:]: \n",
    "    add_mult_pars(f, lb=0.2, ub=5.0, ulb=1e-7, uub=1e-3)\n",
    "\n",
    "tag = \"sto_sy\"\n",
    "files = [f for f in os.listdir(template_ws) if tag in f.lower() and f.endswith(\".txt\")]\n",
    "f = files[0]\n",
    "add_mult_pars(f, lb=0.2, ub=5.0, ulb=0.01, uub=0.4)\n",
    "\n",
    "tag = \"ne_\"\n",
    "files = [f for f in os.listdir(template_ws) if tag in f.lower() and f.endswith(\".txt\")]\n",
    "for f in files: \n",
    "    add_mult_pars(f, lb=0.2, ub=5.0, ulb=0.01, uub=0.4)                                     #  stored in the inter memory?\n",
    "\n",
    "# len([f for f in os.listdir(template_ws) if f.endswith(\".tpl\")])\n",
    "# [f for f in os.listdir(template_ws) if f.endswith(\".tpl\")]                                # PRINT ?"
   ]
  },
  {
   "cell_type": "markdown",
   "metadata": {},
   "source": [
    "## `08 __ x,y,z,T ___ RECHARGE __ RCH ` "
   ]
  },
  {
   "cell_type": "code",
   "execution_count": 14,
   "metadata": {},
   "outputs": [],
   "source": [
    "dts = pd.to_datetime(start_datetime) + pd.to_timedelta(np.cumsum(sim.tdis.perioddata.array[\"perlen\"]),unit='d') # dts   # A container (Where is feb?)"
   ]
  },
  {
   "cell_type": "code",
   "execution_count": 15,
   "metadata": {},
   "outputs": [],
   "source": [
    "tag = \"rch_recharge\"\n",
    "files = [f for f in os.listdir(template_ws) if tag in f.lower() and f.endswith(\".txt\")]\n",
    "sp = [int(f.split(\".\")[1].split('_')[-1]) for f in files]\n",
    "d = {s:f for s,f in zip(sp,files)}\n",
    "sp.sort()\n",
    "files = [d[s] for s in sp]                                                # _____ supressed ______ print(files)\n",
    "add_mult_pars(files, lb=0.2, ub=5.0, ulb=0, uub=1e-3, add_coarse=False)   # len([f for f in os.listdir(template_ws) if f.endswith(\".tpl\")]) Supressed"
   ]
  },
  {
   "cell_type": "code",
   "execution_count": 16,
   "metadata": {},
   "outputs": [],
   "source": [
    "for f in files:                                          # = files\n",
    "    kper = int(f.split('.')[1].split('_')[-1]) - 1       # add temporal correlation\n",
    "    pf.add_parameters(filenames=f,\n",
    "                    zone_array=ib,\n",
    "                    par_type=\"constant\",\n",
    "                    par_name_base=f.split('.')[1]+\"tcn\",\n",
    "                    pargp=f.split('.')[1]+\"tcn\",\n",
    "                    lower_bound=0.5, upper_bound=1.5,\n",
    "                    ult_ubound=1e-3, ult_lbound=0,\n",
    "                    datetime=dts[kper],                  # this places the parameter value on the \"time axis\"\n",
    "                    geostruct=temporal_gs)"
   ]
  },
  {
   "cell_type": "markdown",
   "metadata": {},
   "source": [
    "## `09 ___ GHB` Head (+) and Conductance (*) ________`List Files`"
   ]
  },
  {
   "cell_type": "code",
   "execution_count": 17,
   "metadata": {},
   "outputs": [],
   "source": [
    "tag = \"ghb_stress_period_data\"\n",
    "files = [f for f in os.listdir(template_ws) if tag in f.lower() and f.endswith(\".txt\")] # print(files) supressed"
   ]
  },
  {
   "cell_type": "code",
   "execution_count": 18,
   "metadata": {},
   "outputs": [],
   "source": [
    "tag = \"ghb_stress_period_data\"\n",
    "files = [f for f in os.listdir(template_ws) if tag in f.lower() and f.endswith(\".txt\")]\n",
    "for f in files:\n",
    "    name = 'ghbcond'                                         \n",
    "    pf.add_parameters(f,                                      # scale multiplier\n",
    "                        par_type=\"grid\",                      # GRID\n",
    "                        geostruct=grid_gs,\n",
    "                        par_name_base=name+\"gr\",\n",
    "                        pargp=name+\"gr\",\n",
    "                        index_cols=[0,1,2],                   # column containing lay,row,col\n",
    "                        use_cols=[4],                         # column containing conductance values\n",
    "                        lower_bound=0.1,upper_bound=10.0)\n",
    "    pf.add_parameters(f,\n",
    "                        par_type=\"constant\",                  # CTE   \n",
    "                        geostruct=grid_gs,\n",
    "                        par_name_base=name+\"cn\",\n",
    "                        pargp=name+\"cn\",\n",
    "                        index_cols=[0,1,2],\n",
    "                        use_cols=[4],  \n",
    "                        lower_bound=0.1,upper_bound=10.0,\n",
    "                        ult_lbound=0.01, ult_ubound=100)      # absolute limits\n",
    "    name = 'ghbhead'   \n",
    "    pf.add_parameters(f,                                      # Scale additive\n",
    "                        par_type=\"grid\",                      # GRID\n",
    "                        geostruct=grid_gs,\n",
    "                        par_name_base=name+\"gr\",\n",
    "                        pargp=name+\"gr\",\n",
    "                        index_cols=[0,1,2],\n",
    "                        use_cols=[3],                         # column containing head values\n",
    "                        lower_bound=-2.0,upper_bound=2.0,\n",
    "                        par_style=\"a\",                        # specify additive parameter\n",
    "                        transform=\"none\",                     \n",
    "                        ult_lbound=32.5, ult_ubound=42)       # * never lower than the bottom of layer 1\n",
    "    pf.add_parameters(f,\n",
    "                        par_type=\"constant\",                  # CTE\n",
    "                        geostruct=grid_gs,\n",
    "                        par_name_base=name+\"cn\",\n",
    "                        pargp=name+\"cn\",\n",
    "                        index_cols=[0,1,2],\n",
    "                        use_cols=[3],\n",
    "                        lower_bound=-2.0,upper_bound=2.0, \n",
    "                        par_style=\"a\", \n",
    "                        transform=\"none\",\n",
    "                        ult_lbound=32.5, ult_ubound=42) "
   ]
  },
  {
   "cell_type": "markdown",
   "metadata": {},
   "source": [
    "## `10 ___ Pumping rates` (time-invariant.. fixed space) Well parametrization"
   ]
  },
  {
   "cell_type": "code",
   "execution_count": 19,
   "metadata": {},
   "outputs": [],
   "source": [
    "tag = \"wel_stress_period_data\"\n",
    "files = [f for f in os.listdir(template_ws) if tag in f.lower() and f.endswith(\".txt\")] # print(files) supressed"
   ]
  },
  {
   "cell_type": "code",
   "execution_count": 20,
   "metadata": {},
   "outputs": [],
   "source": [
    "files = [f for f in os.listdir(template_ws) if \"wel_stress_period_data\" in f and f.endswith(\".txt\")]\n",
    "sp = [int(f.split(\".\")[1].split('_')[-1]) for f in files]\n",
    "d = {s:f for s,f in zip(sp,files)}\n",
    "sp.sort()\n",
    "files = [d[s] for s in sp]\n",
    "\n",
    "for f in files:\n",
    "    kper = int(f.split('.')[1].split('_')[-1]) - 1            # get the stress period number from the file name\n",
    "    pf.add_parameters(filenames=f,                            # add the constant parameters (with temporal correlation)\n",
    "                        index_cols=[0,1,2],                   # columns that specify cell location\n",
    "                        use_cols=[3],                         # columns with parameter values\n",
    "                        par_type=\"constant\",                  # each well will be adjustable\n",
    "                        par_name_base=\"welcst\",\n",
    "                        pargp=\"welcst\", \n",
    "                        upper_bound = 4, lower_bound=0.25,\n",
    "                        datetime=dts[kper],                   # this places the parameter value on the \"time axis\"\n",
    "                        geostruct=temporal_gs)\n",
    "    pf.add_parameters(filenames=f,                            # add the grid parameters; each individual well\n",
    "                        index_cols=[0,1,2],                   # columns that specify cell location \n",
    "                        use_cols=[3],                         # columns with parameter values\n",
    "                        par_type=\"grid\",                      # each well will be adjustable\n",
    "                        par_name_base=\"welgrd\",\n",
    "                        pargp=\"welgrd\", \n",
    "                        upper_bound = 4, lower_bound=0.25,\n",
    "                        datetime=dts[kper])                   # this places the parameter value on the \"time axis\"                     "
   ]
  },
  {
   "cell_type": "markdown",
   "metadata": {},
   "source": [
    "## `11 ____ SFR Conductance Conductance ` & ` SFR Inflow (time-invariant) ` "
   ]
  },
  {
   "cell_type": "code",
   "execution_count": 21,
   "metadata": {},
   "outputs": [],
   "source": [
    "tag = \"sfr_packagedata\"\n",
    "files = [f for f in os.listdir(template_ws) if tag in f.lower() and f.endswith(\".txt\")] # print(files) supressed\n",
    "tag = \"sfr_perioddata\"\n",
    "files = [f for f in os.listdir(template_ws) if tag in f.lower() and f.endswith(\".txt\")] # print(files) supressed"
   ]
  },
  {
   "cell_type": "code",
   "execution_count": 22,
   "metadata": {},
   "outputs": [
    {
     "name": "stdout",
     "output_type": "stream",
     "text": [
      "['freyberg6.sfr_packagedata.txt']\n"
     ]
    }
   ],
   "source": [
    "tag = \"sfr_packagedata\"\n",
    "files = [f for f in os.listdir(template_ws) if tag in f.lower() and f.endswith(\".txt\")]\n",
    "assert len(files) == 1                                 # There can be only one! It is tradition. Jokes.\n",
    "print(files)\n",
    "f = files[0]                                            # CONDUCTANCE\n",
    "name = \"sfrcond\"\n",
    "pf.add_parameters(f,\n",
    "                par_type=\"grid\",                        # grid\n",
    "                geostruct=grid_gs,\n",
    "                par_name_base=name+\"gr\",\n",
    "                pargp=name+\"gr\",\n",
    "                index_cols=[0,2,3],\n",
    "                use_cols=[9],\n",
    "                lower_bound=0.1,upper_bound=10.0)\n",
    "pf.add_parameters(f,\n",
    "                par_type=\"constant\",                    # cte\n",
    "                geostruct=grid_gs,\n",
    "                par_name_base=name+\"cn\",\n",
    "                pargp=name+\"cn\",\n",
    "                index_cols=[0,2,3],\n",
    "                use_cols=[9],\n",
    "                lower_bound=0.1,upper_bound=10.0,\n",
    "                ult_lbound=0.001, ult_ubound=100)      # absolute limits\n",
    "\n",
    "files = [f for f in os.listdir(template_ws) if \"sfr_perioddata\" in f and f.endswith(\".txt\")]\n",
    "sp = [int(f.split(\".\")[1].split('_')[-1]) for f in files]\n",
    "d = {s:f for s,f in zip(sp,files)}\n",
    "sp.sort()\n",
    "files = [d[s] for s in sp]                                     # INFLOW               # print(files) supressed\n",
    "for f in files:\n",
    "    kper = int(f.split('.')[1].split('_')[-1]) - 1             # get the stress period number from the file name\n",
    "    pf.add_parameters(filenames=f,                             # add the parameters   \n",
    "                        index_cols=[0],                        # reach number\n",
    "                        use_cols=[2],                          # columns with parameter values\n",
    "                        par_type=\"grid\",    \n",
    "                        par_name_base=\"sfrgr\",\n",
    "                        pargp=\"sfrgr\", \n",
    "                        upper_bound = 10, lower_bound=0.1,     # don't need ult_bounds because it is a single multiplier\n",
    "                        datetime=dts[kper],                    # this places the parameter value on the \"time axis\"\n",
    "                        geostruct=temporal_gs)\n",
    "# [f for f in os.listdir(template_ws) if f.endswith(\".tpl\")]"
   ]
  },
  {
   "cell_type": "markdown",
   "metadata": {},
   "source": [
    "### `12 ____ Initial conditions`"
   ]
  },
  {
   "cell_type": "code",
   "execution_count": 23,
   "metadata": {},
   "outputs": [
    {
     "name": "stdout",
     "output_type": "stream",
     "text": [
      "(706, 17)\n"
     ]
    }
   ],
   "source": [
    "files = [f for f in os.listdir(template_ws) if \"ic_strt\" in f and f.endswith(\".txt\")]\n",
    "files\n",
    "for f in files:\n",
    "    base = f.split(\".\")[1].replace(\"_\",\"\")\n",
    "    df = pf.add_parameters(f,par_type=\"grid\",par_style=\"d\",\n",
    "                      pargp=base,par_name_base=base,upper_bound=50,\n",
    "                     lower_bound=15,zone_array=ib,transform=\"none\")\n",
    "    print(df.shape)"
   ]
  },
  {
   "cell_type": "markdown",
   "metadata": {},
   "source": [
    "### `13 ____ Forward_run.py`"
   ]
  },
  {
   "cell_type": "code",
   "execution_count": 24,
   "metadata": {},
   "outputs": [
    {
     "name": "stdout",
     "output_type": "stream",
     "text": [
      "noptmax:0, npar_adj:1731, nnz_obs:400\n"
     ]
    }
   ],
   "source": [
    "pst = pf.build_pst()\n",
    "# [f for f in os.listdir(template_ws) if f.endswith(\".py\") or f.endswith(\".pst\") ]\n",
    "# _ = [print(line.rstrip()) for line in open(os.path.join(template_ws,\"forward_run.py\"))]"
   ]
  },
  {
   "cell_type": "markdown",
   "metadata": {},
   "source": [
    "### `14 ____ Sys Commands`, __________  `PstFrom.mod_sys_cmds`"
   ]
  },
  {
   "cell_type": "code",
   "execution_count": 25,
   "metadata": {},
   "outputs": [
    {
     "name": "stdout",
     "output_type": "stream",
     "text": [
      "noptmax:0, npar_adj:1731, nnz_obs:400\n"
     ]
    }
   ],
   "source": [
    "pf.mod_sys_cmds \n",
    "pf.mod_sys_cmds.append(\"mf6\")                    # do this only once\n",
    "pf.mod_sys_cmds\n",
    "pf.mod_sys_cmds.append(\"mp7 freyberg_mp.mpsim\")  # do this only once\n",
    "pf.mod_sys_cmds\n",
    "pst = pf.build_pst()\n",
    "# _ = [print(line.rstrip()) for line in open(os.path.join(template_ws,\"forward_run.py\"))]"
   ]
  },
  {
   "cell_type": "markdown",
   "metadata": {},
   "source": [
    "### `15 ____ [pre-post]-Processing Functions ` "
   ]
  },
  {
   "cell_type": "code",
   "execution_count": 26,
   "metadata": {},
   "outputs": [],
   "source": [
    "#### extract the final simulated water level for all model cells for the last stress period from MF6\n",
    "#### extract the global water budget info from the MF6\n",
    "#### PstFrom.pre_py_cmds | PstFrom.post_py_cmds | pyemu.os_utils.run() | PstFrom.add_py_function() | PstFrom.add_py_function() | forward_run.py "
   ]
  },
  {
   "cell_type": "code",
   "execution_count": 27,
   "metadata": {},
   "outputs": [],
   "source": [
    "pf.add_py_function(\"helpers.py\",\"extract_hds_arrays_and_list_dfs()\",is_pre_cmd=False)  #  pre-post___processor"
   ]
  },
  {
   "cell_type": "code",
   "execution_count": 28,
   "metadata": {},
   "outputs": [],
   "source": [
    "import helpers\n",
    "helpers.test_extract_hds_arrays(template_ws)\n",
    "for f in files:\n",
    "    pf.add_observations(f,prefix=f.split(\".\")[0],obsgp=f.split(\".\")[0])"
   ]
  },
  {
   "cell_type": "code",
   "execution_count": 29,
   "metadata": {},
   "outputs": [],
   "source": [
    "# files = [f for f in os.listdir(template_ws) if f.startswith(\"hdslay\")]\n",
    "# files"
   ]
  },
  {
   "cell_type": "code",
   "execution_count": 30,
   "metadata": {},
   "outputs": [],
   "source": [
    "for f in [\"inc.csv\",\"cum.csv\"]:\n",
    "    df = pd.read_csv(os.path.join(template_ws,f),index_col=0)\n",
    "    pf.add_observations(f,index_cols=[\"totim\"],use_cols=list(df.columns.values),\n",
    "                        prefix=f.split('.')[0],obsgp=f.split(\".\")[0])"
   ]
  },
  {
   "cell_type": "markdown",
   "metadata": {},
   "source": [
    "### `16 ____ Secondary Observations` \n"
   ]
  },
  {
   "cell_type": "code",
   "execution_count": 31,
   "metadata": {},
   "outputs": [
    {
     "name": "stdout",
     "output_type": "stream",
     "text": [
      "Secondary observation files processed.\n"
     ]
    }
   ],
   "source": [
    "helpers.process_secondary_obs(ws=template_ws)  # [f for f in os.listdir(template_ws) if f.endswith(\".csv\")]"
   ]
  },
  {
   "cell_type": "code",
   "execution_count": 32,
   "metadata": {},
   "outputs": [],
   "source": [
    "pf.add_py_function(\"helpers.py\",                                               \n",
    "                    \"process_secondary_obs(ws='.')\",                           \n",
    "                    is_pre_cmd=False)                                          # before | after* the model system command"
   ]
  },
  {
   "cell_type": "code",
   "execution_count": 33,
   "metadata": {},
   "outputs": [],
   "source": [
    "df = pd.read_csv(os.path.join(template_ws, \"sfr.tdiff.csv\"), index_col=0)      # PstFrom \n",
    "_ = pf.add_observations(\"sfr.tdiff.csv\",                                       \n",
    "                            insfile=\"sfr.tdiff.csv.ins\",                       # ins\n",
    "                            index_cols=\"time\",                                 \n",
    "                            use_cols=list(df.columns.values),                 \n",
    "                            prefix=\"sfrtd\")                                    \n",
    "                            \n",
    "df = pd.read_csv(os.path.join(template_ws, \"heads.tdiff.csv\"), index_col=0)\n",
    "_ = pf.add_observations(\"heads.tdiff.csv\", \n",
    "                            insfile=\"heads.tdiff.csv.ins\", \n",
    "                            index_cols=\"time\", \n",
    "                            use_cols=list(df.columns.values), \n",
    "                            prefix=\"hdstd\") "
   ]
  },
  {
   "cell_type": "markdown",
   "metadata": {},
   "source": [
    "## `PEST control file ____ New `"
   ]
  },
  {
   "cell_type": "code",
   "execution_count": 34,
   "metadata": {},
   "outputs": [
    {
     "name": "stdout",
     "output_type": "stream",
     "text": [
      "noptmax:0, npar_adj:1731, nnz_obs:2050\n"
     ]
    }
   ],
   "source": [
    "pst = pf.build_pst()    # _ = [print(line.rstrip()) for line in open(os.path.join(template_ws,\"forward_run.py\"))]  # `extract_hds_array_and_list_dfs()`\n",
    "#obs = pst.observation_data    #obs  "
   ]
  },
  {
   "cell_type": "markdown",
   "metadata": {},
   "source": [
    "### `17 ____ Weights ...`"
   ]
  },
  {
   "cell_type": "code",
   "execution_count": 35,
   "metadata": {},
   "outputs": [
    {
     "name": "stdout",
     "output_type": "stream",
     "text": [
      "2 obs added from instruction file a1_Pstfrom_Katie_new_folder\\.\\freyberg_mp.mpend.ins\n"
     ]
    },
    {
     "data": {
      "text/html": [
       "<div>\n",
       "<style scoped>\n",
       "    .dataframe tbody tr th:only-of-type {\n",
       "        vertical-align: middle;\n",
       "    }\n",
       "\n",
       "    .dataframe tbody tr th {\n",
       "        vertical-align: top;\n",
       "    }\n",
       "\n",
       "    .dataframe thead th {\n",
       "        text-align: right;\n",
       "    }\n",
       "</style>\n",
       "<table border=\"1\" class=\"dataframe\">\n",
       "  <thead>\n",
       "    <tr style=\"text-align: right;\">\n",
       "      <th></th>\n",
       "      <th>obsnme</th>\n",
       "      <th>obsval</th>\n",
       "      <th>weight</th>\n",
       "      <th>obgnme</th>\n",
       "      <th>i</th>\n",
       "      <th>j</th>\n",
       "      <th>oname</th>\n",
       "      <th>otype</th>\n",
       "      <th>time</th>\n",
       "      <th>totim</th>\n",
       "      <th>usecol</th>\n",
       "    </tr>\n",
       "  </thead>\n",
       "  <tbody>\n",
       "    <tr>\n",
       "      <th>part_status</th>\n",
       "      <td>part_status</td>\n",
       "      <td>5.00000</td>\n",
       "      <td>1.0</td>\n",
       "      <td>part</td>\n",
       "      <td>NaN</td>\n",
       "      <td>NaN</td>\n",
       "      <td>NaN</td>\n",
       "      <td>NaN</td>\n",
       "      <td>NaN</td>\n",
       "      <td>NaN</td>\n",
       "      <td>NaN</td>\n",
       "    </tr>\n",
       "    <tr>\n",
       "      <th>part_time</th>\n",
       "      <td>part_time</td>\n",
       "      <td>99358.42916</td>\n",
       "      <td>1.0</td>\n",
       "      <td>part</td>\n",
       "      <td>NaN</td>\n",
       "      <td>NaN</td>\n",
       "      <td>NaN</td>\n",
       "      <td>NaN</td>\n",
       "      <td>NaN</td>\n",
       "      <td>NaN</td>\n",
       "      <td>NaN</td>\n",
       "    </tr>\n",
       "  </tbody>\n",
       "</table>\n",
       "</div>"
      ],
      "text/plain": [
       "                  obsnme       obsval  weight obgnme    i    j oname otype time totim usecol\n",
       "part_status  part_status      5.00000     1.0   part  NaN  NaN   NaN   NaN  NaN   NaN    NaN\n",
       "part_time      part_time  99358.42916     1.0   part  NaN  NaN   NaN   NaN  NaN   NaN    NaN"
      ]
     },
     "execution_count": 35,
     "metadata": {},
     "output_type": "execute_result"
    }
   ],
   "source": [
    "out_file = \"freyberg_mp.mpend\"\n",
    "ins_file = out_file + \".ins\"\n",
    "with open(os.path.join(template_ws, ins_file),'w') as f:\n",
    "    f.write(\"pif ~\\n\")\n",
    "    f.write(\"l7 w w w w !part_status! w w !part_time!\\n\")\n",
    "    \n",
    "pst.add_observations(ins_file=os.path.join(template_ws, ins_file),             # add\n",
    "                    out_file=os.path.join(template_ws, out_file),\n",
    "                            pst_path='.')\n",
    "obs = pst.observation_data\n",
    "obs.loc[obs.obsnme=='part_status', 'obgnme'] = 'part'                          # and then check what changed                            \n",
    "obs.loc[obs.obsnme=='part_time', 'obgnme'] = 'part'\n",
    "\n",
    "obs.iloc[-2:]   "
   ]
  },
  {
   "cell_type": "markdown",
   "metadata": {},
   "source": [
    "#### `18 ____ Initial Values PAR INCTYP __DERINC `"
   ]
  },
  {
   "cell_type": "code",
   "execution_count": 36,
   "metadata": {},
   "outputs": [
    {
     "data": {
      "text/plain": [
       "['ghbheadgr', 'ghbheadcn']"
      ]
     },
     "execution_count": 36,
     "metadata": {},
     "output_type": "execute_result"
    }
   ],
   "source": [
    "head_pargps = [i for i in pst.adj_par_groups if 'head' in i]\n",
    "head_pargps"
   ]
  },
  {
   "cell_type": "code",
   "execution_count": 37,
   "metadata": {},
   "outputs": [],
   "source": [
    "pst.parameter_groups.loc[head_pargps, 'inctyp'] = 'absolute'"
   ]
  },
  {
   "cell_type": "markdown",
   "metadata": {},
   "source": [
    "Now add the \"offset\" to parameter data entries:"
   ]
  },
  {
   "cell_type": "code",
   "execution_count": 38,
   "metadata": {},
   "outputs": [
    {
     "data": {
      "text/html": [
       "<div>\n",
       "<style scoped>\n",
       "    .dataframe tbody tr th:only-of-type {\n",
       "        vertical-align: middle;\n",
       "    }\n",
       "\n",
       "    .dataframe tbody tr th {\n",
       "        vertical-align: top;\n",
       "    }\n",
       "\n",
       "    .dataframe thead th {\n",
       "        text-align: right;\n",
       "    }\n",
       "</style>\n",
       "<table border=\"1\" class=\"dataframe\">\n",
       "  <thead>\n",
       "    <tr style=\"text-align: right;\">\n",
       "      <th></th>\n",
       "      <th>parnme</th>\n",
       "      <th>partrans</th>\n",
       "      <th>parchglim</th>\n",
       "      <th>parval1</th>\n",
       "      <th>parlbnd</th>\n",
       "      <th>parubnd</th>\n",
       "      <th>pargp</th>\n",
       "      <th>scale</th>\n",
       "      <th>offset</th>\n",
       "      <th>dercom</th>\n",
       "      <th>i</th>\n",
       "      <th>idx0</th>\n",
       "      <th>idx1</th>\n",
       "      <th>idx2</th>\n",
       "      <th>inst</th>\n",
       "      <th>j</th>\n",
       "      <th>pname</th>\n",
       "      <th>pstyle</th>\n",
       "      <th>ptype</th>\n",
       "      <th>usecol</th>\n",
       "      <th>x</th>\n",
       "      <th>y</th>\n",
       "      <th>zone</th>\n",
       "    </tr>\n",
       "  </thead>\n",
       "  <tbody>\n",
       "    <tr>\n",
       "      <th>pname:ghbheadgr_inst:0_ptype:gr_usecol:3_pstyle:a_idx0:0_idx1:39_idx2:5</th>\n",
       "      <td>pname:ghbheadgr_inst:0_ptype:gr_usecol:3_pstyle:a_idx0:0_idx1:39_idx2:5</td>\n",
       "      <td>none</td>\n",
       "      <td>relative</td>\n",
       "      <td>0.0</td>\n",
       "      <td>-2.0</td>\n",
       "      <td>2.0</td>\n",
       "      <td>ghbheadgr</td>\n",
       "      <td>1.0</td>\n",
       "      <td>0.0</td>\n",
       "      <td>1</td>\n",
       "      <td>NaN</td>\n",
       "      <td>0</td>\n",
       "      <td>39</td>\n",
       "      <td>5</td>\n",
       "      <td>0</td>\n",
       "      <td>NaN</td>\n",
       "      <td>ghbheadgr</td>\n",
       "      <td>a</td>\n",
       "      <td>gr</td>\n",
       "      <td>3</td>\n",
       "      <td>NaN</td>\n",
       "      <td>NaN</td>\n",
       "      <td>NaN</td>\n",
       "    </tr>\n",
       "    <tr>\n",
       "      <th>pname:ghbheadgr_inst:0_ptype:gr_usecol:3_pstyle:a_idx0:0_idx1:39_idx2:6</th>\n",
       "      <td>pname:ghbheadgr_inst:0_ptype:gr_usecol:3_pstyle:a_idx0:0_idx1:39_idx2:6</td>\n",
       "      <td>none</td>\n",
       "      <td>relative</td>\n",
       "      <td>0.0</td>\n",
       "      <td>-2.0</td>\n",
       "      <td>2.0</td>\n",
       "      <td>ghbheadgr</td>\n",
       "      <td>1.0</td>\n",
       "      <td>0.0</td>\n",
       "      <td>1</td>\n",
       "      <td>NaN</td>\n",
       "      <td>0</td>\n",
       "      <td>39</td>\n",
       "      <td>6</td>\n",
       "      <td>0</td>\n",
       "      <td>NaN</td>\n",
       "      <td>ghbheadgr</td>\n",
       "      <td>a</td>\n",
       "      <td>gr</td>\n",
       "      <td>3</td>\n",
       "      <td>NaN</td>\n",
       "      <td>NaN</td>\n",
       "      <td>NaN</td>\n",
       "    </tr>\n",
       "    <tr>\n",
       "      <th>pname:ghbheadgr_inst:0_ptype:gr_usecol:3_pstyle:a_idx0:0_idx1:39_idx2:7</th>\n",
       "      <td>pname:ghbheadgr_inst:0_ptype:gr_usecol:3_pstyle:a_idx0:0_idx1:39_idx2:7</td>\n",
       "      <td>none</td>\n",
       "      <td>relative</td>\n",
       "      <td>0.0</td>\n",
       "      <td>-2.0</td>\n",
       "      <td>2.0</td>\n",
       "      <td>ghbheadgr</td>\n",
       "      <td>1.0</td>\n",
       "      <td>0.0</td>\n",
       "      <td>1</td>\n",
       "      <td>NaN</td>\n",
       "      <td>0</td>\n",
       "      <td>39</td>\n",
       "      <td>7</td>\n",
       "      <td>0</td>\n",
       "      <td>NaN</td>\n",
       "      <td>ghbheadgr</td>\n",
       "      <td>a</td>\n",
       "      <td>gr</td>\n",
       "      <td>3</td>\n",
       "      <td>NaN</td>\n",
       "      <td>NaN</td>\n",
       "      <td>NaN</td>\n",
       "    </tr>\n",
       "    <tr>\n",
       "      <th>pname:ghbheadgr_inst:0_ptype:gr_usecol:3_pstyle:a_idx0:0_idx1:39_idx2:8</th>\n",
       "      <td>pname:ghbheadgr_inst:0_ptype:gr_usecol:3_pstyle:a_idx0:0_idx1:39_idx2:8</td>\n",
       "      <td>none</td>\n",
       "      <td>relative</td>\n",
       "      <td>0.0</td>\n",
       "      <td>-2.0</td>\n",
       "      <td>2.0</td>\n",
       "      <td>ghbheadgr</td>\n",
       "      <td>1.0</td>\n",
       "      <td>0.0</td>\n",
       "      <td>1</td>\n",
       "      <td>NaN</td>\n",
       "      <td>0</td>\n",
       "      <td>39</td>\n",
       "      <td>8</td>\n",
       "      <td>0</td>\n",
       "      <td>NaN</td>\n",
       "      <td>ghbheadgr</td>\n",
       "      <td>a</td>\n",
       "      <td>gr</td>\n",
       "      <td>3</td>\n",
       "      <td>NaN</td>\n",
       "      <td>NaN</td>\n",
       "      <td>NaN</td>\n",
       "    </tr>\n",
       "    <tr>\n",
       "      <th>pname:ghbheadgr_inst:0_ptype:gr_usecol:3_pstyle:a_idx0:0_idx1:39_idx2:9</th>\n",
       "      <td>pname:ghbheadgr_inst:0_ptype:gr_usecol:3_pstyle:a_idx0:0_idx1:39_idx2:9</td>\n",
       "      <td>none</td>\n",
       "      <td>relative</td>\n",
       "      <td>0.0</td>\n",
       "      <td>-2.0</td>\n",
       "      <td>2.0</td>\n",
       "      <td>ghbheadgr</td>\n",
       "      <td>1.0</td>\n",
       "      <td>0.0</td>\n",
       "      <td>1</td>\n",
       "      <td>NaN</td>\n",
       "      <td>0</td>\n",
       "      <td>39</td>\n",
       "      <td>9</td>\n",
       "      <td>0</td>\n",
       "      <td>NaN</td>\n",
       "      <td>ghbheadgr</td>\n",
       "      <td>a</td>\n",
       "      <td>gr</td>\n",
       "      <td>3</td>\n",
       "      <td>NaN</td>\n",
       "      <td>NaN</td>\n",
       "      <td>NaN</td>\n",
       "    </tr>\n",
       "  </tbody>\n",
       "</table>\n",
       "</div>"
      ],
      "text/plain": [
       "                                                                                                                                          parnme partrans parchglim  parval1  parlbnd  parubnd      pargp  scale  offset  dercom    i idx0 idx1 idx2 inst    j      pname pstyle ptype usecol    x    y zone\n",
       "pname:ghbheadgr_inst:0_ptype:gr_usecol:3_pstyle:a_idx0:0_idx1:39_idx2:5  pname:ghbheadgr_inst:0_ptype:gr_usecol:3_pstyle:a_idx0:0_idx1:39_idx2:5     none  relative      0.0     -2.0      2.0  ghbheadgr    1.0     0.0       1  NaN    0   39    5    0  NaN  ghbheadgr      a    gr      3  NaN  NaN  NaN\n",
       "pname:ghbheadgr_inst:0_ptype:gr_usecol:3_pstyle:a_idx0:0_idx1:39_idx2:6  pname:ghbheadgr_inst:0_ptype:gr_usecol:3_pstyle:a_idx0:0_idx1:39_idx2:6     none  relative      0.0     -2.0      2.0  ghbheadgr    1.0     0.0       1  NaN    0   39    6    0  NaN  ghbheadgr      a    gr      3  NaN  NaN  NaN\n",
       "pname:ghbheadgr_inst:0_ptype:gr_usecol:3_pstyle:a_idx0:0_idx1:39_idx2:7  pname:ghbheadgr_inst:0_ptype:gr_usecol:3_pstyle:a_idx0:0_idx1:39_idx2:7     none  relative      0.0     -2.0      2.0  ghbheadgr    1.0     0.0       1  NaN    0   39    7    0  NaN  ghbheadgr      a    gr      3  NaN  NaN  NaN\n",
       "pname:ghbheadgr_inst:0_ptype:gr_usecol:3_pstyle:a_idx0:0_idx1:39_idx2:8  pname:ghbheadgr_inst:0_ptype:gr_usecol:3_pstyle:a_idx0:0_idx1:39_idx2:8     none  relative      0.0     -2.0      2.0  ghbheadgr    1.0     0.0       1  NaN    0   39    8    0  NaN  ghbheadgr      a    gr      3  NaN  NaN  NaN\n",
       "pname:ghbheadgr_inst:0_ptype:gr_usecol:3_pstyle:a_idx0:0_idx1:39_idx2:9  pname:ghbheadgr_inst:0_ptype:gr_usecol:3_pstyle:a_idx0:0_idx1:39_idx2:9     none  relative      0.0     -2.0      2.0  ghbheadgr    1.0     0.0       1  NaN    0   39    9    0  NaN  ghbheadgr      a    gr      3  NaN  NaN  NaN"
      ]
     },
     "execution_count": 38,
     "metadata": {},
     "output_type": "execute_result"
    }
   ],
   "source": [
    "par = pst.parameter_data\n",
    "par_names = par.loc[par.parval1==0].parnme\n",
    "\n",
    "par.loc[par_names].head()"
   ]
  },
  {
   "cell_type": "code",
   "execution_count": 39,
   "metadata": {},
   "outputs": [
    {
     "data": {
      "text/html": [
       "<div>\n",
       "<style scoped>\n",
       "    .dataframe tbody tr th:only-of-type {\n",
       "        vertical-align: middle;\n",
       "    }\n",
       "\n",
       "    .dataframe tbody tr th {\n",
       "        vertical-align: top;\n",
       "    }\n",
       "\n",
       "    .dataframe thead th {\n",
       "        text-align: right;\n",
       "    }\n",
       "</style>\n",
       "<table border=\"1\" class=\"dataframe\">\n",
       "  <thead>\n",
       "    <tr style=\"text-align: right;\">\n",
       "      <th></th>\n",
       "      <th>parnme</th>\n",
       "      <th>partrans</th>\n",
       "      <th>parchglim</th>\n",
       "      <th>parval1</th>\n",
       "      <th>parlbnd</th>\n",
       "      <th>parubnd</th>\n",
       "      <th>pargp</th>\n",
       "      <th>scale</th>\n",
       "      <th>offset</th>\n",
       "      <th>dercom</th>\n",
       "      <th>i</th>\n",
       "      <th>idx0</th>\n",
       "      <th>idx1</th>\n",
       "      <th>idx2</th>\n",
       "      <th>inst</th>\n",
       "      <th>j</th>\n",
       "      <th>pname</th>\n",
       "      <th>pstyle</th>\n",
       "      <th>ptype</th>\n",
       "      <th>usecol</th>\n",
       "      <th>x</th>\n",
       "      <th>y</th>\n",
       "      <th>zone</th>\n",
       "    </tr>\n",
       "  </thead>\n",
       "  <tbody>\n",
       "    <tr>\n",
       "      <th>pname:ghbheadgr_inst:0_ptype:gr_usecol:3_pstyle:a_idx0:0_idx1:39_idx2:5</th>\n",
       "      <td>pname:ghbheadgr_inst:0_ptype:gr_usecol:3_pstyle:a_idx0:0_idx1:39_idx2:5</td>\n",
       "      <td>none</td>\n",
       "      <td>relative</td>\n",
       "      <td>10.0</td>\n",
       "      <td>8.0</td>\n",
       "      <td>12.0</td>\n",
       "      <td>ghbheadgr</td>\n",
       "      <td>1.0</td>\n",
       "      <td>-10.0</td>\n",
       "      <td>1</td>\n",
       "      <td>NaN</td>\n",
       "      <td>0</td>\n",
       "      <td>39</td>\n",
       "      <td>5</td>\n",
       "      <td>0</td>\n",
       "      <td>NaN</td>\n",
       "      <td>ghbheadgr</td>\n",
       "      <td>a</td>\n",
       "      <td>gr</td>\n",
       "      <td>3</td>\n",
       "      <td>NaN</td>\n",
       "      <td>NaN</td>\n",
       "      <td>NaN</td>\n",
       "    </tr>\n",
       "    <tr>\n",
       "      <th>pname:ghbheadgr_inst:0_ptype:gr_usecol:3_pstyle:a_idx0:0_idx1:39_idx2:6</th>\n",
       "      <td>pname:ghbheadgr_inst:0_ptype:gr_usecol:3_pstyle:a_idx0:0_idx1:39_idx2:6</td>\n",
       "      <td>none</td>\n",
       "      <td>relative</td>\n",
       "      <td>10.0</td>\n",
       "      <td>8.0</td>\n",
       "      <td>12.0</td>\n",
       "      <td>ghbheadgr</td>\n",
       "      <td>1.0</td>\n",
       "      <td>-10.0</td>\n",
       "      <td>1</td>\n",
       "      <td>NaN</td>\n",
       "      <td>0</td>\n",
       "      <td>39</td>\n",
       "      <td>6</td>\n",
       "      <td>0</td>\n",
       "      <td>NaN</td>\n",
       "      <td>ghbheadgr</td>\n",
       "      <td>a</td>\n",
       "      <td>gr</td>\n",
       "      <td>3</td>\n",
       "      <td>NaN</td>\n",
       "      <td>NaN</td>\n",
       "      <td>NaN</td>\n",
       "    </tr>\n",
       "    <tr>\n",
       "      <th>pname:ghbheadgr_inst:0_ptype:gr_usecol:3_pstyle:a_idx0:0_idx1:39_idx2:7</th>\n",
       "      <td>pname:ghbheadgr_inst:0_ptype:gr_usecol:3_pstyle:a_idx0:0_idx1:39_idx2:7</td>\n",
       "      <td>none</td>\n",
       "      <td>relative</td>\n",
       "      <td>10.0</td>\n",
       "      <td>8.0</td>\n",
       "      <td>12.0</td>\n",
       "      <td>ghbheadgr</td>\n",
       "      <td>1.0</td>\n",
       "      <td>-10.0</td>\n",
       "      <td>1</td>\n",
       "      <td>NaN</td>\n",
       "      <td>0</td>\n",
       "      <td>39</td>\n",
       "      <td>7</td>\n",
       "      <td>0</td>\n",
       "      <td>NaN</td>\n",
       "      <td>ghbheadgr</td>\n",
       "      <td>a</td>\n",
       "      <td>gr</td>\n",
       "      <td>3</td>\n",
       "      <td>NaN</td>\n",
       "      <td>NaN</td>\n",
       "      <td>NaN</td>\n",
       "    </tr>\n",
       "    <tr>\n",
       "      <th>pname:ghbheadgr_inst:0_ptype:gr_usecol:3_pstyle:a_idx0:0_idx1:39_idx2:8</th>\n",
       "      <td>pname:ghbheadgr_inst:0_ptype:gr_usecol:3_pstyle:a_idx0:0_idx1:39_idx2:8</td>\n",
       "      <td>none</td>\n",
       "      <td>relative</td>\n",
       "      <td>10.0</td>\n",
       "      <td>8.0</td>\n",
       "      <td>12.0</td>\n",
       "      <td>ghbheadgr</td>\n",
       "      <td>1.0</td>\n",
       "      <td>-10.0</td>\n",
       "      <td>1</td>\n",
       "      <td>NaN</td>\n",
       "      <td>0</td>\n",
       "      <td>39</td>\n",
       "      <td>8</td>\n",
       "      <td>0</td>\n",
       "      <td>NaN</td>\n",
       "      <td>ghbheadgr</td>\n",
       "      <td>a</td>\n",
       "      <td>gr</td>\n",
       "      <td>3</td>\n",
       "      <td>NaN</td>\n",
       "      <td>NaN</td>\n",
       "      <td>NaN</td>\n",
       "    </tr>\n",
       "    <tr>\n",
       "      <th>pname:ghbheadgr_inst:0_ptype:gr_usecol:3_pstyle:a_idx0:0_idx1:39_idx2:9</th>\n",
       "      <td>pname:ghbheadgr_inst:0_ptype:gr_usecol:3_pstyle:a_idx0:0_idx1:39_idx2:9</td>\n",
       "      <td>none</td>\n",
       "      <td>relative</td>\n",
       "      <td>10.0</td>\n",
       "      <td>8.0</td>\n",
       "      <td>12.0</td>\n",
       "      <td>ghbheadgr</td>\n",
       "      <td>1.0</td>\n",
       "      <td>-10.0</td>\n",
       "      <td>1</td>\n",
       "      <td>NaN</td>\n",
       "      <td>0</td>\n",
       "      <td>39</td>\n",
       "      <td>9</td>\n",
       "      <td>0</td>\n",
       "      <td>NaN</td>\n",
       "      <td>ghbheadgr</td>\n",
       "      <td>a</td>\n",
       "      <td>gr</td>\n",
       "      <td>3</td>\n",
       "      <td>NaN</td>\n",
       "      <td>NaN</td>\n",
       "      <td>NaN</td>\n",
       "    </tr>\n",
       "  </tbody>\n",
       "</table>\n",
       "</div>"
      ],
      "text/plain": [
       "                                                                                                                                          parnme partrans parchglim  parval1  parlbnd  parubnd      pargp  scale  offset  dercom    i idx0 idx1 idx2 inst    j      pname pstyle ptype usecol    x    y zone\n",
       "pname:ghbheadgr_inst:0_ptype:gr_usecol:3_pstyle:a_idx0:0_idx1:39_idx2:5  pname:ghbheadgr_inst:0_ptype:gr_usecol:3_pstyle:a_idx0:0_idx1:39_idx2:5     none  relative     10.0      8.0     12.0  ghbheadgr    1.0   -10.0       1  NaN    0   39    5    0  NaN  ghbheadgr      a    gr      3  NaN  NaN  NaN\n",
       "pname:ghbheadgr_inst:0_ptype:gr_usecol:3_pstyle:a_idx0:0_idx1:39_idx2:6  pname:ghbheadgr_inst:0_ptype:gr_usecol:3_pstyle:a_idx0:0_idx1:39_idx2:6     none  relative     10.0      8.0     12.0  ghbheadgr    1.0   -10.0       1  NaN    0   39    6    0  NaN  ghbheadgr      a    gr      3  NaN  NaN  NaN\n",
       "pname:ghbheadgr_inst:0_ptype:gr_usecol:3_pstyle:a_idx0:0_idx1:39_idx2:7  pname:ghbheadgr_inst:0_ptype:gr_usecol:3_pstyle:a_idx0:0_idx1:39_idx2:7     none  relative     10.0      8.0     12.0  ghbheadgr    1.0   -10.0       1  NaN    0   39    7    0  NaN  ghbheadgr      a    gr      3  NaN  NaN  NaN\n",
       "pname:ghbheadgr_inst:0_ptype:gr_usecol:3_pstyle:a_idx0:0_idx1:39_idx2:8  pname:ghbheadgr_inst:0_ptype:gr_usecol:3_pstyle:a_idx0:0_idx1:39_idx2:8     none  relative     10.0      8.0     12.0  ghbheadgr    1.0   -10.0       1  NaN    0   39    8    0  NaN  ghbheadgr      a    gr      3  NaN  NaN  NaN\n",
       "pname:ghbheadgr_inst:0_ptype:gr_usecol:3_pstyle:a_idx0:0_idx1:39_idx2:9  pname:ghbheadgr_inst:0_ptype:gr_usecol:3_pstyle:a_idx0:0_idx1:39_idx2:9     none  relative     10.0      8.0     12.0  ghbheadgr    1.0   -10.0       1  NaN    0   39    9    0  NaN  ghbheadgr      a    gr      3  NaN  NaN  NaN"
      ]
     },
     "execution_count": 39,
     "metadata": {},
     "output_type": "execute_result"
    }
   ],
   "source": [
    "offset = -10\n",
    "par.loc[par_names, 'offset'] = offset\n",
    "par.loc[par_names, ['parval1', 'parlbnd', 'parubnd']] -= offset\n",
    "\n",
    "par.loc[par_names].head()"
   ]
  },
  {
   "cell_type": "markdown",
   "metadata": {},
   "source": [
    "#### `19 ____ Forecasts ____ at the beginning`"
   ]
  },
  {
   "cell_type": "code",
   "execution_count": 40,
   "metadata": {},
   "outputs": [
    {
     "data": {
      "text/plain": [
       "['oname:sfr_otype:lst_usecol:tailwater_time:4383.5',\n",
       " 'oname:sfr_otype:lst_usecol:headwater_time:4383.5',\n",
       " 'oname:hds_otype:lst_usecol:trgw-0-9-1_time:4383.5',\n",
       " 'part_time']"
      ]
     },
     "execution_count": 40,
     "metadata": {},
     "output_type": "execute_result"
    }
   ],
   "source": [
    "forecasts =[\n",
    "            'oname:sfr_otype:lst_usecol:tailwater_time:4383.5',\n",
    "            'oname:sfr_otype:lst_usecol:headwater_time:4383.5',\n",
    "            'oname:hds_otype:lst_usecol:trgw-0-9-1_time:4383.5',\n",
    "            'part_time'\n",
    "            ]\n",
    "\n",
    "forecasts"
   ]
  },
  {
   "cell_type": "code",
   "execution_count": 41,
   "metadata": {},
   "outputs": [
    {
     "data": {
      "text/html": [
       "<div>\n",
       "<style scoped>\n",
       "    .dataframe tbody tr th:only-of-type {\n",
       "        vertical-align: middle;\n",
       "    }\n",
       "\n",
       "    .dataframe tbody tr th {\n",
       "        vertical-align: top;\n",
       "    }\n",
       "\n",
       "    .dataframe thead th {\n",
       "        text-align: right;\n",
       "    }\n",
       "</style>\n",
       "<table border=\"1\" class=\"dataframe\">\n",
       "  <thead>\n",
       "    <tr style=\"text-align: right;\">\n",
       "      <th></th>\n",
       "      <th>obsnme</th>\n",
       "      <th>obsval</th>\n",
       "      <th>weight</th>\n",
       "      <th>obgnme</th>\n",
       "      <th>i</th>\n",
       "      <th>j</th>\n",
       "      <th>oname</th>\n",
       "      <th>otype</th>\n",
       "      <th>time</th>\n",
       "      <th>totim</th>\n",
       "      <th>usecol</th>\n",
       "    </tr>\n",
       "  </thead>\n",
       "  <tbody>\n",
       "    <tr>\n",
       "      <th>oname:sfr_otype:lst_usecol:tailwater_time:4383.5</th>\n",
       "      <td>oname:sfr_otype:lst_usecol:tailwater_time:4383.5</td>\n",
       "      <td>92.911368</td>\n",
       "      <td>1.0</td>\n",
       "      <td>oname:sfr_otype:lst_usecol:tailwater</td>\n",
       "      <td>NaN</td>\n",
       "      <td>NaN</td>\n",
       "      <td>sfr</td>\n",
       "      <td>lst</td>\n",
       "      <td>4383.5</td>\n",
       "      <td>NaN</td>\n",
       "      <td>tailwater</td>\n",
       "    </tr>\n",
       "    <tr>\n",
       "      <th>oname:sfr_otype:lst_usecol:headwater_time:4383.5</th>\n",
       "      <td>oname:sfr_otype:lst_usecol:headwater_time:4383.5</td>\n",
       "      <td>-127.192506</td>\n",
       "      <td>1.0</td>\n",
       "      <td>oname:sfr_otype:lst_usecol:headwater</td>\n",
       "      <td>NaN</td>\n",
       "      <td>NaN</td>\n",
       "      <td>sfr</td>\n",
       "      <td>lst</td>\n",
       "      <td>4383.5</td>\n",
       "      <td>NaN</td>\n",
       "      <td>headwater</td>\n",
       "    </tr>\n",
       "    <tr>\n",
       "      <th>oname:hds_otype:lst_usecol:trgw-0-9-1_time:4383.5</th>\n",
       "      <td>oname:hds_otype:lst_usecol:trgw-0-9-1_time:4383.5</td>\n",
       "      <td>35.559841</td>\n",
       "      <td>1.0</td>\n",
       "      <td>oname:hds_otype:lst_usecol:trgw-0-9-1</td>\n",
       "      <td>NaN</td>\n",
       "      <td>NaN</td>\n",
       "      <td>hds</td>\n",
       "      <td>lst</td>\n",
       "      <td>4383.5</td>\n",
       "      <td>NaN</td>\n",
       "      <td>trgw-0-9-1</td>\n",
       "    </tr>\n",
       "    <tr>\n",
       "      <th>part_time</th>\n",
       "      <td>part_time</td>\n",
       "      <td>99358.429160</td>\n",
       "      <td>1.0</td>\n",
       "      <td>part</td>\n",
       "      <td>NaN</td>\n",
       "      <td>NaN</td>\n",
       "      <td>NaN</td>\n",
       "      <td>NaN</td>\n",
       "      <td>NaN</td>\n",
       "      <td>NaN</td>\n",
       "      <td>NaN</td>\n",
       "    </tr>\n",
       "  </tbody>\n",
       "</table>\n",
       "</div>"
      ],
      "text/plain": [
       "                                                                                              obsnme        obsval  weight                                 obgnme    i    j oname otype    time totim      usecol\n",
       "oname:sfr_otype:lst_usecol:tailwater_time:4383.5    oname:sfr_otype:lst_usecol:tailwater_time:4383.5     92.911368     1.0   oname:sfr_otype:lst_usecol:tailwater  NaN  NaN   sfr   lst  4383.5   NaN   tailwater\n",
       "oname:sfr_otype:lst_usecol:headwater_time:4383.5    oname:sfr_otype:lst_usecol:headwater_time:4383.5   -127.192506     1.0   oname:sfr_otype:lst_usecol:headwater  NaN  NaN   sfr   lst  4383.5   NaN   headwater\n",
       "oname:hds_otype:lst_usecol:trgw-0-9-1_time:4383.5  oname:hds_otype:lst_usecol:trgw-0-9-1_time:4383.5     35.559841     1.0  oname:hds_otype:lst_usecol:trgw-0-9-1  NaN  NaN   hds   lst  4383.5   NaN  trgw-0-9-1\n",
       "part_time                                                                                  part_time  99358.429160     1.0                                   part  NaN  NaN   NaN   NaN     NaN   NaN         NaN"
      ]
     },
     "execution_count": 41,
     "metadata": {},
     "output_type": "execute_result"
    }
   ],
   "source": [
    "fobs = obs.loc[forecasts,:]\n",
    "fobs"
   ]
  },
  {
   "cell_type": "code",
   "execution_count": 42,
   "metadata": {},
   "outputs": [],
   "source": [
    "pst.pestpp_options['forecasts'] = forecasts"
   ]
  },
  {
   "cell_type": "markdown",
   "metadata": {},
   "source": [
    "## `PEST control file ____ New ____ Again`"
   ]
  },
  {
   "cell_type": "code",
   "execution_count": 43,
   "metadata": {},
   "outputs": [
    {
     "name": "stdout",
     "output_type": "stream",
     "text": [
      "noptmax:0, npar_adj:1731, nnz_obs:2052\n",
      "pestpp-glm.exe freyberg_mf6.pst\n"
     ]
    }
   ],
   "source": [
    "pst.write(os.path.join(template_ws, 'freyberg_mf6.pst'),version=2)\n",
    "pst.control_data.noptmax\n",
    "pyemu.os_utils.run('pestpp-glm freyberg_mf6.pst', cwd=template_ws)"
   ]
  },
  {
   "cell_type": "code",
   "execution_count": 44,
   "metadata": {},
   "outputs": [
    {
     "data": {
      "text/plain": [
       "0    94186200.0\n",
       "Name: total_phi, dtype: float64"
      ]
     },
     "execution_count": 44,
     "metadata": {},
     "output_type": "execute_result"
    }
   ],
   "source": [
    "iobj = pd.read_csv(os.path.join(template_ws, 'freyberg_mf6.iobj'))\n",
    "iobj.total_phi"
   ]
  },
  {
   "cell_type": "markdown",
   "metadata": {},
   "source": [
    "### `20 ____ Prior Parameter Covariance Matrix`"
   ]
  },
  {
   "cell_type": "markdown",
   "metadata": {},
   "source": [
    "if pf.pst.npar < 35000:  \n",
    "    cov = pf.build_prior(fmt='coo', filename=os.path.join(template_ws,\"prior_cov.jcb\"))\n",
    "    try: \n",
    "        x = cov.x.copy()\n",
    "        x[x==0] = np.NaN\n",
    "        plt.imshow(x[:1000,:1000])\n",
    "    except:\n",
    "        pass"
   ]
  },
  {
   "cell_type": "code",
   "execution_count": 45,
   "metadata": {},
   "outputs": [],
   "source": [
    "# cov.row_names[:10]"
   ]
  },
  {
   "cell_type": "markdown",
   "metadata": {},
   "source": [
    "pe = pf.draw(num_reals=1000, use_specsim=True)             # draw parameters from the prior distribution\n",
    "pe.enforce()                                               # enforces parameter bounds\n",
    "pe.to_binary(os.path.join(template_ws,\"prior_pe.jcb\"))     # writes the paramter ensemble to binary file\n",
    "assert pe.shape[1] == pst.npar"
   ]
  },
  {
   "cell_type": "markdown",
   "metadata": {},
   "source": [
    "Let's now test-run one of these geostatistical realizations (always a good idea!).  We do this by replacing the `parval1` values in the control with a row from `pe`:"
   ]
  },
  {
   "cell_type": "code",
   "execution_count": 46,
   "metadata": {},
   "outputs": [
    {
     "ename": "NameError",
     "evalue": "name 'pe' is not defined",
     "output_type": "error",
     "traceback": [
      "\u001b[1;31m---------------------------------------------------------------------------\u001b[0m",
      "\u001b[1;31mNameError\u001b[0m                                 Traceback (most recent call last)",
      "Cell \u001b[1;32mIn[46], line 1\u001b[0m\n\u001b[1;32m----> 1\u001b[0m pst\u001b[38;5;241m.\u001b[39mparameter_data\u001b[38;5;241m.\u001b[39mloc[:,\u001b[38;5;124m\"\u001b[39m\u001b[38;5;124mparval1\u001b[39m\u001b[38;5;124m\"\u001b[39m] \u001b[38;5;241m=\u001b[39m \u001b[43mpe\u001b[49m\u001b[38;5;241m.\u001b[39mloc[pe\u001b[38;5;241m.\u001b[39mindex[\u001b[38;5;241m0\u001b[39m],pst\u001b[38;5;241m.\u001b[39mpar_names]\u001b[38;5;241m.\u001b[39mvalues\n\u001b[0;32m      2\u001b[0m pst\u001b[38;5;241m.\u001b[39mparameter_data\u001b[38;5;241m.\u001b[39mparval1\u001b[38;5;241m.\u001b[39mvalues\n",
      "\u001b[1;31mNameError\u001b[0m: name 'pe' is not defined"
     ]
    }
   ],
   "source": [
    "pst.parameter_data.loc[:,\"parval1\"] = pe.loc[pe.index[0],pst.par_names].values\n",
    "pst.parameter_data.parval1.values"
   ]
  },
  {
   "cell_type": "code",
   "execution_count": null,
   "metadata": {},
   "outputs": [],
   "source": [
    "pst.control_data.noptmax = 0\n",
    "pst.write(os.path.join(template_ws,\"test.pst\"),version=2)\n",
    "pyemu.os_utils.run(\"pestpp-glm test.pst\",cwd=template_ws)"
   ]
  },
  {
   "cell_type": "markdown",
   "metadata": {},
   "source": [
    "### `21 ____ Bonus: Understanding Multiplier-Parameters`"
   ]
  },
  {
   "cell_type": "code",
   "execution_count": null,
   "metadata": {},
   "outputs": [],
   "source": [
    "df = pd.read_csv(os.path.join(template_ws,\"mult2model_info.csv\"))\n",
    "kh1_df = df.loc[df.model_file.str.contains(\"npf_k_layer1\"),:]\n",
    "kh1_df"
   ]
  },
  {
   "cell_type": "code",
   "execution_count": null,
   "metadata": {},
   "outputs": [],
   "source": [
    "org_arr = np.loadtxt(os.path.join(template_ws,kh1_df.org_file.iloc[0]))\n",
    "inp_arr = np.loadtxt(os.path.join(template_ws,kh1_df.model_file.iloc[0]))\n",
    "mlt_arrs = [np.loadtxt(os.path.join(template_ws,afile)) for afile in kh1_df.mlt_file]\n",
    "arrs = [org_arr]\n",
    "arrs.extend(mlt_arrs)\n",
    "arrs.append(inp_arr)\n",
    "names = [\"org\"]\n",
    "names.extend([mf.split('.')[0].split('_')[-1] for mf in kh1_df.mlt_file])\n",
    "names.append(\"MF6 input\")\n",
    "fig,axes = plt.subplots(1,kh1_df.shape[0]+2,figsize=(5*kh1_df.shape[0]+2,5))\n",
    "for i,ax in enumerate(axes.flatten()):\n",
    "    arr = np.log10(arrs[i])\n",
    "    arr[ib==0] = np.NaN\n",
    "    cb = ax.imshow(arr)\n",
    "    plt.colorbar(cb,ax=ax)\n",
    "    ax.set_title(names[i],loc=\"left\")\n",
    "plt.tight_layout()        "
   ]
  },
  {
   "cell_type": "markdown",
   "metadata": {},
   "source": [
    "So now we can see the difference the pilot point geostructure makes compared to the grid-scale geostructure.  The pilot point array has a much stronger spatial correlation (over a larger distance) than the grid-scale..."
   ]
  },
  {
   "cell_type": "code",
   "execution_count": null,
   "metadata": {},
   "outputs": [],
   "source": [
    "# from IPython.display import Image, display\n",
    "# display(Image(url='./pest_flow2.gif'))"
   ]
  },
  {
   "cell_type": "markdown",
   "metadata": {},
   "source": [
    "# END"
   ]
  },
  {
   "cell_type": "markdown",
   "metadata": {},
   "source": [
    "### BETA EXTRA NOPE! `ALl at once`  'npf_k_ above',  + + +   \n",
    "\n",
    "def add_mult_pars(f, lb=0.2, ub=5.0, ulb=0.01, uub=100, add_coarse=True):   # a function.... for each PAR \n",
    "    if isinstance(f,str):\n",
    "        base = f.split(\".\")[1].replace(\"_\",\"\")\n",
    "    else:\n",
    "        base = f[0].split(\".\")[1]\n",
    "    pf.add_parameters(f,                                        \n",
    "                    zone_array=ib,\n",
    "                    par_type=\"grid\", #_________________________ # grid (fine) scale parameters\n",
    "                    geostruct=grid_gs,  \n",
    "                    par_name_base=base+\"gr\", \n",
    "                    pargp=base+\"gr\", \n",
    "                    lower_bound=lb, upper_bound=ub, \n",
    "                    ult_ubound=uub, ult_lbound=ulb)\n",
    "    pf.add_parameters(f,                                        \n",
    "                        zone_array=ib,\n",
    "                        par_type=\"pilotpoints\", #______________ # pilot point (medium) scale parameters\n",
    "                        geostruct=pp_gs,\n",
    "                        par_name_base=base+\"pp\",\n",
    "                        pargp=base+\"pp\",\n",
    "                        lower_bound=lb, upper_bound=ub,\n",
    "                        ult_ubound=uub, ult_lbound=ulb,\n",
    "                        pp_space=5) \n",
    "    if add_coarse==True:\n",
    "        pf.add_parameters(f,                                    \n",
    "                            zone_array=ib,\n",
    "                            par_type=\"constant\", #______________ # constant (coarse) scale parameters\n",
    "                            geostruct=grid_gs,\n",
    "                            par_name_base=base+\"cn\",\n",
    "                            pargp=base+\"cn\",\n",
    "                            lower_bound=lb, upper_bound=ub,\n",
    "                            ult_ubound=uub, ult_lbound=ulb)\n",
    "    return"
   ]
  },
  {
   "cell_type": "code",
   "execution_count": null,
   "metadata": {},
   "outputs": [],
   "source": []
  }
 ],
 "metadata": {
  "kernelspec": {
   "display_name": "Python 3 (ipykernel)",
   "language": "python",
   "name": "python3"
  },
  "language_info": {
   "codemirror_mode": {
    "name": "ipython",
    "version": 3
   },
   "file_extension": ".py",
   "mimetype": "text/x-python",
   "name": "python",
   "nbconvert_exporter": "python",
   "pygments_lexer": "ipython3",
   "version": "3.13.1"
  }
 },
 "nbformat": 4,
 "nbformat_minor": 4
}
