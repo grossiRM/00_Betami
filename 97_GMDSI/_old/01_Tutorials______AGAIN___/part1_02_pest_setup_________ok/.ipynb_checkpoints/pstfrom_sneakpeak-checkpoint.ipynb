{
 "cells": [
  {
   "cell_type": "markdown",
   "id": "d293e2a6-77d4-4ec3-a5a5-ad12501f0da5",
   "metadata": {},
   "source": [
    "import pyemu"
   ]
  },
  {
   "cell_type": "markdown",
   "id": "bbca3964-14e8-4801-96d6-440f6a5bfe62",
   "metadata": {},
   "source": [
    "pf = pyemu.utils.PstFrom(original_d, new_d)\n",
    "pyemu.utils.PstFrom?"
   ]
  },
  {
   "cell_type": "code",
   "execution_count": null,
   "id": "0029d3fb-f506-473b-a3f4-10f701faef50",
   "metadata": {},
   "outputs": [],
   "source": [
    "pf.add_parameters(filename[s], par_type)\n",
    "Index\n",
    "pyemu.utils.PstFrom.add_parameters?"
   ]
  },
  {
   "cell_type": "code",
   "execution_count": null,
   "id": "0c68bbef-81b6-4b76-8dd9-474284ad7877",
   "metadata": {},
   "outputs": [],
   "source": [
    "pf.add_observations(filename)\n",
    "Index\n",
    "pf.add_observations?"
   ]
  },
  {
   "cell_type": "code",
   "execution_count": null,
   "id": "f6151a92-f032-4c80-876d-61c30ad33f53",
   "metadata": {},
   "outputs": [],
   "source": [
    "pf.mod_sys_cmds.append(command)"
   ]
  },
  {
   "cell_type": "code",
   "execution_count": null,
   "id": "cc6c02b3-19fe-4163-a005-3d077dd0d290",
   "metadata": {},
   "outputs": [],
   "source": [
    "pst = pf.build_pst()"
   ]
  },
  {
   "cell_type": "code",
   "execution_count": null,
   "id": "08f8bcab-5c25-4408-b6b2-4621602d8709",
   "metadata": {},
   "outputs": [],
   "source": [
    "pyemu.os_utils.run(run_cmd, cwd)"
   ]
  },
  {
   "cell_type": "code",
   "execution_count": null,
   "id": "24cab634-eb0b-4eff-837c-eac6040d4498",
   "metadata": {},
   "outputs": [],
   "source": [
    "from IPython.display import Image, display\n",
    "display(Image(url='./pest_flow2.gif'))"
   ]
  },
  {
   "cell_type": "code",
   "execution_count": null,
   "id": "ae2ff72d-ab93-4c8f-936a-68b88bdfa336",
   "metadata": {},
   "outputs": [],
   "source": [
    "# 0. Import packages\n",
    "import os, sys, pyemu\n",
    "sys.path.insert(0,\"..\")\n",
    "import herebedragons as hbd\n",
    "\n",
    "# 1. Instantiate a PstFrom object:\n",
    "org_d = os.path.join('..', '..', 'models', 'monthly_model_files_1lyr_newstress')\n",
    "pf = pyemu.utils.PstFrom(org_d, 'template', remove_existing=True)\n",
    "   # ------- these lines don't count! haha! -------->\n",
    "hbd.prep_bins(\"template\")  # just a bit of admin\n",
    "pyemu.os_utils.run(\"mf6\", \"template\") # so we have up2date outputs\n",
    "   # <---------------------------------------------\n",
    "\n",
    "# 2. Add Parameters\n",
    "pf.add_parameters(\"freyberg6.npf_k_layer1.txt\", 'grid')\n",
    "\n",
    "# 3. Add Observations\n",
    "pf.add_observations(\"sfr.csv\", index_cols='time', use_cols='TAILWATER')\n",
    "\n",
    "# 4. Add forward model run command\n",
    "pf.mod_sys_cmds.append(\"mf6\")\n",
    "\n",
    "# 5. Finalize interface and build PEST Control File\n",
    "pst = pf.build_pst('eg.pst')\n",
    "\n",
    "# 6. Run PEST(++)\n",
    "pyemu.os_utils.run(\"pestpp-glm eg.pst\", \"template\")\n"
   ]
  },
  {
   "cell_type": "markdown",
   "id": "7d5baac2-20ed-45a0-b20d-538736687b4b",
   "metadata": {},
   "source": [
    "`PstFrom` & `pyemu` `add_py_function()` \n",
    "\n",
    "```\n",
    "0. python\n",
    "1. pyemu.utils.PstFrom()\n",
    "2. add_parameters() [PstFrom method]\n",
    "3. add_observations() [PstFrom method\n",
    "4. mod_sys_cmds [PstFrom method]\n",
    "5. build_pst() [PstFrom method]\n",
    "6. os_utils.run() [pyemu.os_utils method]\n",
    "```\n",
    "```\n",
    "* add_py_function() [PstFrom method]\n",
    "* build_prior() [PstFrom method]\n",
    "* draw() [PstFrom method]\n",
    "* Pst.write() [pyemu.Pst method]\n",
    "```"
   ]
  }
 ],
 "metadata": {
  "kernelspec": {
   "display_name": "Python 3 (ipykernel)",
   "language": "python",
   "name": "python3"
  },
  "language_info": {
   "codemirror_mode": {
    "name": "ipython",
    "version": 3
   },
   "file_extension": ".py",
   "mimetype": "text/x-python",
   "name": "python",
   "nbconvert_exporter": "python",
   "pygments_lexer": "ipython3",
   "version": "3.11.11"
  }
 },
 "nbformat": 4,
 "nbformat_minor": 5
}
