{
 "cells": [
  {
   "cell_type": "code",
   "execution_count": 4,
   "id": "3196a895-8cf5-4a98-8ef4-140dc652af22",
   "metadata": {},
   "outputs": [],
   "source": [
    "import os \n",
    "import pyemu\n",
    "import pandas as pd"
   ]
  },
  {
   "cell_type": "code",
   "execution_count": 5,
   "id": "6e61123f-6922-4783-9ed3-4ab795b5f32a",
   "metadata": {},
   "outputs": [],
   "source": [
    "pst=pyemu.Pst('Beta_template/freyberg.pst')                  # From the earlier RUN ___ PEST"
   ]
  },
  {
   "cell_type": "code",
   "execution_count": 9,
   "id": "de2563dd-a146-4214-b263-c09cc27fd0f6",
   "metadata": {},
   "outputs": [],
   "source": [
    "obs=pst.observation_data                                   # obs"
   ]
  },
  {
   "cell_type": "code",
   "execution_count": 10,
   "id": "ed061328-481b-4583-9af2-fafd8ce07581",
   "metadata": {},
   "outputs": [],
   "source": [
    "truth = pd.read_csv('data/truth.obs_data.csv')             # truth"
   ]
  },
  {
   "cell_type": "markdown",
   "id": "45a82ba6-709a-4d7e-ac03-b6b1edf0ae68",
   "metadata": {},
   "source": [
    "### `could not convert string to float: 'trgw-0-13-10'`"
   ]
  },
  {
   "cell_type": "code",
   "execution_count": 8,
   "id": "0272941e-0e4f-49ad-9c94-04fb6dc939d2",
   "metadata": {
    "scrolled": true
   },
   "outputs": [
    {
     "ename": "ValueError",
     "evalue": "could not convert string to float: 'trgw-0-13-10'",
     "output_type": "error",
     "traceback": [
      "\u001b[1;31m---------------------------------------------------------------------------\u001b[0m",
      "\u001b[1;31mValueError\u001b[0m                                Traceback (most recent call last)",
      "Cell \u001b[1;32mIn[8], line 3\u001b[0m\n\u001b[0;32m      1\u001b[0m dfs \u001b[38;5;241m=\u001b[39m []\n\u001b[0;32m      2\u001b[0m \u001b[38;5;28;01mfor\u001b[39;00m i \u001b[38;5;129;01min\u001b[39;00m \u001b[38;5;28mrange\u001b[39m(\u001b[38;5;28mlen\u001b[39m(obs)):\n\u001b[1;32m----> 3\u001b[0m     \u001b[38;5;28mprint\u001b[39m (truth\u001b[38;5;241m.\u001b[39mloc[((truth\u001b[38;5;241m.\u001b[39mtime \u001b[38;5;241m==\u001b[39m \u001b[38;5;28;43mfloat\u001b[39;49m\u001b[43m(\u001b[49m\u001b[43mobs\u001b[49m\u001b[38;5;241;43m.\u001b[39;49m\u001b[43miloc\u001b[49m\u001b[43m[\u001b[49m\u001b[43mi\u001b[49m\u001b[43m,\u001b[49m\u001b[38;5;241;43m7\u001b[39;49m\u001b[43m]\u001b[49m\u001b[43m)\u001b[49m) \u001b[38;5;241m&\u001b[39m\n\u001b[0;32m      4\u001b[0m            (truth\u001b[38;5;241m.\u001b[39musecol \u001b[38;5;241m==\u001b[39m  obs\u001b[38;5;241m.\u001b[39miloc[i,\u001b[38;5;241m6\u001b[39m]) \u001b[38;5;241m&\u001b[39m \n\u001b[0;32m      5\u001b[0m            (truth\u001b[38;5;241m.\u001b[39moname\u001b[38;5;241m==\u001b[39m\u001b[38;5;124m'\u001b[39m\u001b[38;5;124mhds\u001b[39m\u001b[38;5;124m'\u001b[39m)), \u001b[38;5;124m'\u001b[39m\u001b[38;5;124mobsval\u001b[39m\u001b[38;5;124m'\u001b[39m]\u001b[38;5;241m.\u001b[39mvalues[\u001b[38;5;241m0\u001b[39m])\n\u001b[0;32m      6\u001b[0m     obs\u001b[38;5;241m.\u001b[39miloc[i,\u001b[38;5;241m1\u001b[39m] \u001b[38;5;241m=\u001b[39m truth\u001b[38;5;241m.\u001b[39mloc[((truth\u001b[38;5;241m.\u001b[39mtime \u001b[38;5;241m==\u001b[39m \u001b[38;5;28mfloat\u001b[39m(obs\u001b[38;5;241m.\u001b[39miloc[i,\u001b[38;5;241m7\u001b[39m])) \u001b[38;5;241m&\u001b[39m\n\u001b[0;32m      7\u001b[0m            (truth\u001b[38;5;241m.\u001b[39musecol \u001b[38;5;241m==\u001b[39m  obs\u001b[38;5;241m.\u001b[39miloc[i,\u001b[38;5;241m6\u001b[39m]) \u001b[38;5;241m&\u001b[39m \n\u001b[0;32m      8\u001b[0m            (truth\u001b[38;5;241m.\u001b[39moname\u001b[38;5;241m==\u001b[39m\u001b[38;5;124m'\u001b[39m\u001b[38;5;124mhds\u001b[39m\u001b[38;5;124m'\u001b[39m)), \u001b[38;5;124m'\u001b[39m\u001b[38;5;124mobsval\u001b[39m\u001b[38;5;124m'\u001b[39m]\u001b[38;5;241m.\u001b[39mvalues[\u001b[38;5;241m0\u001b[39m]\n\u001b[0;32m      9\u001b[0m     dfs\u001b[38;5;241m.\u001b[39mappend(pd\u001b[38;5;241m.\u001b[39mDataFrame(data\u001b[38;5;241m=\u001b[39m{\u001b[38;5;124m'\u001b[39m\u001b[38;5;124mtime\u001b[39m\u001b[38;5;124m'\u001b[39m:[\u001b[38;5;28mfloat\u001b[39m(obs\u001b[38;5;241m.\u001b[39miloc[i,\u001b[38;5;241m7\u001b[39m])],\n\u001b[0;32m     10\u001b[0m                                       \u001b[38;5;124m'\u001b[39m\u001b[38;5;124mlocation\u001b[39m\u001b[38;5;124m'\u001b[39m:[obs\u001b[38;5;241m.\u001b[39miloc[i,\u001b[38;5;241m6\u001b[39m]],\n\u001b[0;32m     11\u001b[0m                                         \u001b[38;5;124m'\u001b[39m\u001b[38;5;124mobservation\u001b[39m\u001b[38;5;124m'\u001b[39m: [truth\u001b[38;5;241m.\u001b[39mloc[((truth\u001b[38;5;241m.\u001b[39mtime \u001b[38;5;241m==\u001b[39m \u001b[38;5;28mfloat\u001b[39m(obs\u001b[38;5;241m.\u001b[39miloc[i,\u001b[38;5;241m7\u001b[39m])) \u001b[38;5;241m&\u001b[39m\n\u001b[0;32m     12\u001b[0m                                        (truth\u001b[38;5;241m.\u001b[39musecol \u001b[38;5;241m==\u001b[39m  obs\u001b[38;5;241m.\u001b[39miloc[i,\u001b[38;5;241m6\u001b[39m]) \u001b[38;5;241m&\u001b[39m \n\u001b[0;32m     13\u001b[0m                                        (truth\u001b[38;5;241m.\u001b[39moname\u001b[38;5;241m==\u001b[39m\u001b[38;5;124m'\u001b[39m\u001b[38;5;124mhds\u001b[39m\u001b[38;5;124m'\u001b[39m)), \u001b[38;5;124m'\u001b[39m\u001b[38;5;124mobsval\u001b[39m\u001b[38;5;124m'\u001b[39m]\u001b[38;5;241m.\u001b[39mvalues[\u001b[38;5;241m0\u001b[39m]]}))\n",
      "\u001b[1;31mValueError\u001b[0m: could not convert string to float: 'trgw-0-13-10'"
     ]
    }
   ],
   "source": [
    "dfs = []\n",
    "for i in range(len(obs)):\n",
    "    print (truth.loc[((truth.time == float(obs.iloc[i,7])) &\n",
    "           (truth.usecol ==  obs.iloc[i,6]) & \n",
    "           (truth.oname=='hds')), 'obsval'].values[0])\n",
    "    obs.iloc[i,1] = truth.loc[((truth.time == float(obs.iloc[i,7])) &\n",
    "           (truth.usecol ==  obs.iloc[i,6]) & \n",
    "           (truth.oname=='hds')), 'obsval'].values[0]\n",
    "    dfs.append(pd.DataFrame(data={'time':[float(obs.iloc[i,7])],\n",
    "                                      'location':[obs.iloc[i,6]],\n",
    "                                        'observation': [truth.loc[((truth.time == float(obs.iloc[i,7])) &\n",
    "                                       (truth.usecol ==  obs.iloc[i,6]) & \n",
    "                                       (truth.oname=='hds')), 'obsval'].values[0]]}))\n",
    "                                "
   ]
  },
  {
   "cell_type": "code",
   "execution_count": null,
   "id": "639c43f1-cce5-4776-b10a-ddced271c5f7",
   "metadata": {},
   "outputs": [],
   "source": [
    "obstrue = pd.concat(dfs)"
   ]
  },
  {
   "cell_type": "code",
   "execution_count": null,
   "id": "365e1ca9-99b2-40c6-a961-23342efc0961",
   "metadata": {},
   "outputs": [],
   "source": [
    "obstrue"
   ]
  },
  {
   "cell_type": "code",
   "execution_count": null,
   "id": "b91d6bcc-fd2a-46ad-a588-6d523bae615f",
   "metadata": {},
   "outputs": [],
   "source": [
    "obstrue.to_csv('data/obstrue.csv')"
   ]
  },
  {
   "cell_type": "code",
   "execution_count": null,
   "id": "7be918da-b587-4030-a472-3cca8fe2153d",
   "metadata": {},
   "outputs": [],
   "source": []
  }
 ],
 "metadata": {
  "kernelspec": {
   "display_name": "Python 3 (ipykernel)",
   "language": "python",
   "name": "python3"
  },
  "language_info": {
   "codemirror_mode": {
    "name": "ipython",
    "version": 3
   },
   "file_extension": ".py",
   "mimetype": "text/x-python",
   "name": "python",
   "nbconvert_exporter": "python",
   "pygments_lexer": "ipython3",
   "version": "3.11.11"
  }
 },
 "nbformat": 4,
 "nbformat_minor": 5
}
