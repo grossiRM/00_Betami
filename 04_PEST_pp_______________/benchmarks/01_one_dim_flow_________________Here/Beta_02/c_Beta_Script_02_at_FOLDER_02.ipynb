{
 "cells": [
  {
   "cell_type": "code",
   "execution_count": 1,
   "id": "73810278",
   "metadata": {},
   "outputs": [],
   "source": [
    "import os, sys\n",
    "import numpy as np\n",
    "import pandas as pd\n",
    "import flopy"
   ]
  },
  {
   "cell_type": "code",
   "execution_count": 4,
   "id": "15bf42f0",
   "metadata": {},
   "outputs": [],
   "source": [
    "def forward_model():\n",
    "    try:\n",
    "        os.remove(\"heads_out.csv\")\n",
    "    except:\n",
    "        pass\n",
    "    \n",
    "    indx = pd.read_csv('index.csv')['idx'].values.astype(int)   \n",
    "    \n",
    "    \n",
    "    x = np.loadtxt('inputx.dat')\n",
    "    x = np.power(10.0, x)\n",
    "    mf = flopy.modflow.Modflow.load(r'flow_1d.nam', model_ws = 'Beta_03' )\n",
    "    \n",
    "    hk = mf.upw.hk.array.copy()\n",
    "    hk = x[np.newaxis, np.newaxis, :]\n",
    "    mf.upw.hk = hk\n",
    "    mf.upw.write_file()\n",
    "\n",
    "    basefolder = os.getcwd()\n",
    "    os.chdir(\"Beta_03\")\n",
    "    os.system(\"mfnwt.exe flow_1d.nam\")\n",
    "    os.chdir(basefolder)\n",
    "\n",
    "    hds = flopy.utils.HeadFile(os.path.join('Beta_03', 'flow_1d.hds'))\n",
    "    wl = hds.get_data(totim=1.0)\n",
    "    wl = wl.squeeze()\n",
    "    y =wl[indx]                                                 # model maping  \n",
    "    \n",
    "    out = pd.DataFrame()\n",
    "    out['y'] = y\n",
    "    out.to_csv('heads_out.csv', index_label = 'id')             # write model output\n",
    "    \n",
    "if __name__ == \"__main__\":\n",
    "    forward_model()"
   ]
  },
  {
   "cell_type": "code",
   "execution_count": 1,
   "id": "a583ce07",
   "metadata": {},
   "outputs": [
    {
     "name": "stderr",
     "output_type": "stream",
     "text": [
      "[NbConvertApp] Converting notebook c_Beta_Script_02_at_FOLDER_02.ipynb to script\n",
      "[NbConvertApp] Writing 1077 bytes to c_Beta_Script_02_at_FOLDER_02.py\n"
     ]
    }
   ],
   "source": [
    "!jupyter nbconvert --to script c_Beta_Script_02_at_FOLDER_02.ipynb"
   ]
  },
  {
   "cell_type": "code",
   "execution_count": null,
   "id": "9a566485",
   "metadata": {},
   "outputs": [],
   "source": []
  }
 ],
 "metadata": {
  "kernelspec": {
   "display_name": "Python 3 (ipykernel)",
   "language": "python",
   "name": "python3"
  },
  "language_info": {
   "codemirror_mode": {
    "name": "ipython",
    "version": 3
   },
   "file_extension": ".py",
   "mimetype": "text/x-python",
   "name": "python",
   "nbconvert_exporter": "python",
   "pygments_lexer": "ipython3",
   "version": "3.13.1"
  }
 },
 "nbformat": 4,
 "nbformat_minor": 5
}
