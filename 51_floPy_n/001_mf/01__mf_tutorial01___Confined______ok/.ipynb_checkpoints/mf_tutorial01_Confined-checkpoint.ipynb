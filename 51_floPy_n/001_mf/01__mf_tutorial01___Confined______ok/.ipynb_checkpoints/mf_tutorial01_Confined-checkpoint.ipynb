{
 "cells": [
  {
   "cell_type": "markdown",
   "id": "e70ced92",
   "metadata": {},
   "source": [
    "## __Confined_01__"
   ]
  },
  {
   "cell_type": "code",
   "execution_count": 1,
   "id": "7a9f3e71",
   "metadata": {},
   "outputs": [],
   "source": [
    "from pathlib import Path\n",
    "from tempfile import TemporaryDirectory\n",
    "import numpy as np\n",
    "import flopy"
   ]
  },
  {
   "cell_type": "code",
   "execution_count": 2,
   "id": "874fdf64",
   "metadata": {},
   "outputs": [],
   "source": [
    "temp_dir = TemporaryDirectory()\n",
    "workspace = Path(temp_dir.name)\n",
    "name = \"tutorial01_mf\"     \n",
    "mf = flopy.modflow.Modflow(name, exe_name=\"mf2005\", model_ws=workspace)                    # *.nam        # MF2005"
   ]
  },
  {
   "cell_type": "code",
   "execution_count": 3,
   "id": "54e3c165",
   "metadata": {},
   "outputs": [],
   "source": [
    "Lx, Ly           = 1000.0, 1000.0\n",
    "ztop, zbot       = 0.0, -50.0\n",
    "nper, nlay, nrow, ncol = 1, 1, 10, 20                   # nper = 1  (add)\n",
    "delr, delc       = Lx / ncol, Ly / nrow\n",
    "delv             = (ztop - zbot) / nlay\n",
    "botm             = np.linspace(ztop, zbot, nlay + 1)   # xoffset, yoffset = 554400., 389200.0   # epsg = 3070      # *.dis   # modelgrid = ?\n",
    "dis = flopy.modflow.ModflowDis(mf, nlay, nrow, ncol, delr=delr, delc=delc, top=ztop, botm=botm[1:])"
   ]
  },
  {
   "cell_type": "code",
   "execution_count": 4,
   "id": "52fd0801",
   "metadata": {},
   "outputs": [],
   "source": [
    "ibound = np.ones((nlay, nrow, ncol), dtype=np.int32)\n",
    "ibound[:, :, 0] = -1\n",
    "ibound[:, :, -1] = -1\n",
    "strt = np.ones((nlay, nrow, ncol), dtype=np.float32)\n",
    "strt[:, :, 0] = 10.0\n",
    "strt[:, :, -1] = 0.0\n",
    "bas = flopy.modflow.ModflowBas(mf, ibound=ibound, strt=strt)                               # *.bas _______________\n",
    "mf.write_input()"
   ]
  },
  {
   "cell_type": "code",
   "execution_count": 5,
   "id": "17a77009",
   "metadata": {},
   "outputs": [],
   "source": [
    "lpf = flopy.modflow.ModflowLpf(mf, hk=10.0, vka=10.0, ipakcb=53)\n",
    "spd = {(0, 0): [\"print head\", \"print budget\", \"save head\", \"save budget\"]}        # stress period and time step.\n",
    "oc = flopy.modflow.ModflowOc(mf, stress_period_data=spd, compact=True)"
   ]
  },
  {
   "cell_type": "code",
   "execution_count": 6,
   "id": "86de68ce",
   "metadata": {},
   "outputs": [],
   "source": [
    "pcg = flopy.modflow.ModflowPcg(mf)                                                # solver Precond. Conj. Grad.\n",
    "mf.write_input()"
   ]
  },
  {
   "cell_type": "code",
   "execution_count": 7,
   "id": "aa0aeb9e",
   "metadata": {},
   "outputs": [
    {
     "name": "stdout",
     "output_type": "stream",
     "text": [
      "FloPy is using the following executable to run the model: E:\\15_REPOS\\00_BETAMI\\02_floPy__________________\\05_mf______________________________________ok\\01__mf_tutorial01___Confined______ok\\mf2005.exe\n",
      "\n",
      "                                  MODFLOW-2005     \n",
      "    U.S. GEOLOGICAL SURVEY MODULAR FINITE-DIFFERENCE GROUND-WATER FLOW MODEL\n",
      "                             Version 1.12.00 2/3/2017                        \n",
      "\n",
      " Using NAME file: tutorial01_mf.nam \n",
      " Run start date and time (yyyy/mm/dd hh:mm:ss): 2025/02/15  7:29:33\n",
      "\n",
      " Solving:  Stress period:     1    Time step:     1    Ground-Water Flow Eqn.\n",
      " Run end date and time (yyyy/mm/dd hh:mm:ss): 2025/02/15  7:29:33\n",
      " Elapsed run time:  0.038 Seconds\n",
      "\n",
      "  Normal termination of simulation\n"
     ]
    }
   ],
   "source": [
    "success, buff = mf.run_model()   # model object ___mf____ has an attached method that will run the mode ____mf2005\n",
    "assert success, \"nope.\""
   ]
  },
  {
   "cell_type": "markdown",
   "id": "0e77c8c7",
   "metadata": {},
   "source": [
    "## ___Results_01__"
   ]
  },
  {
   "cell_type": "code",
   "execution_count": 8,
   "id": "423a1ae8",
   "metadata": {},
   "outputs": [],
   "source": [
    "import matplotlib.pyplot as plt\n",
    "import flopy.utils.binaryfile as bf"
   ]
  },
  {
   "cell_type": "code",
   "execution_count": 9,
   "id": "e8fbd50e",
   "metadata": {},
   "outputs": [],
   "source": [
    "hds = bf.HeadFile(Path(workspace) / f\"{name}.hds\")           # __________ Flopy binary utility to read the heads __________ \n",
    "head = hds.get_data(totim=1.0)\n",
    "times = hds.get_times()\n",
    "head = hds.get_data(totim=times[-1])"
   ]
  },
  {
   "cell_type": "code",
   "execution_count": 10,
   "id": "bcaa93b2",
   "metadata": {},
   "outputs": [
    {
     "data": {
      "text/plain": [
       "<matplotlib.contour.QuadContourSet at 0x15c22a87b60>"
      ]
     },
     "execution_count": 10,
     "metadata": {},
     "output_type": "execute_result"
    },
    {
     "data": {
      "image/png": "[encoded data removed]",
      "text/plain": [
       "<Figure size 300x300 with 1 Axes>"
      ]
     },
     "metadata": {},
     "output_type": "display_data"
    }
   ],
   "source": [
    "extent = (delr / 2.0, Lx - delr / 2.0, Ly - delc / 2.0, delc / 2.0)      # delr / 2.0  = \n",
    "fig = plt.figure(figsize=(3, 3))\n",
    "ax = fig.add_subplot(1, 1, 1, aspect=\"equal\")\n",
    "ax.contour(head[0, :, :], levels=np.arange(1, 10, 1), extent=extent)      # plt.tight_layout()"
   ]
  },
  {
   "cell_type": "markdown",
   "id": "f9261825-4933-438f-87a8-c924dadfa9a2",
   "metadata": {},
   "source": [
    "## ___Results_02__"
   ]
  },
  {
   "cell_type": "code",
   "execution_count": 13,
   "id": "c5b56780",
   "metadata": {},
   "outputs": [],
   "source": [
    "cbb = bf.CellBudgetFile(Path(workspace) / f\"{name}.cbc\")                 # ____ CHD ______ ?\n",
    "kstpkper_list = cbb.get_kstpkper()\n",
    "frf = cbb.get_data(text=\"FLOW RIGHT FACE\", totim=times[-1])[0]\n",
    "fff = cbb.get_data(text=\"FLOW FRONT FACE\", totim=times[-1])[0]\n",
    "qx, qy, qz = flopy.utils.postprocessing.get_specific_discharge((frf, fff, None), mf, head)    # _____frf  _____ fff "
   ]
  },
  {
   "cell_type": "code",
   "execution_count": 14,
   "id": "dc4fd39c",
   "metadata": {},
   "outputs": [
    {
     "data": {
      "image/png": "[encoded data removed]",
      "text/plain": [
       "<Figure size 300x300 with 1 Axes>"
      ]
     },
     "metadata": {},
     "output_type": "display_data"
    }
   ],
   "source": [
    "fig = plt.figure(figsize=(3, 3))\n",
    "ax = fig.add_subplot(1, 1, 1, aspect=\"equal\")\n",
    "modelmap = flopy.plot.PlotMapView(model=mf, layer=0, ax=ax)          # mf \n",
    "qm = modelmap.plot_ibound()\n",
    "lc = modelmap.plot_grid()\n",
    "cs = modelmap.contour_array(head, levels=np.linspace(0, 10, 11))     # countor\n",
    "#quiver = modelmap.plot_vector(qx, qy)"
   ]
  },
  {
   "cell_type": "code",
   "execution_count": 15,
   "id": "9d0d38ae",
   "metadata": {},
   "outputs": [],
   "source": [
    "try:\n",
    "    temp_dir.cleanup()\n",
    "except:\n",
    "    # prevent windows permission error\n",
    "    pass"
   ]
  },
  {
   "cell_type": "code",
   "execution_count": null,
   "id": "b7496e2c-8cce-4f2f-ab62-bb149ce7492c",
   "metadata": {},
   "outputs": [],
   "source": []
  }
 ],
 "metadata": {
  "jupytext": {
   "notebook_metadata_filter": "metadata"
  },
  "kernelspec": {
   "display_name": "Python 3 (ipykernel)",
   "language": "python",
   "name": "python3"
  },
  "language_info": {
   "codemirror_mode": {
    "name": "ipython",
    "version": 3
   },
   "file_extension": ".py",
   "mimetype": "text/x-python",
   "name": "python",
   "nbconvert_exporter": "python",
   "pygments_lexer": "ipython3",
   "version": "3.12.7"
  },
  "metadata": {
   "section": "mf2005"
  }
 },
 "nbformat": 4,
 "nbformat_minor": 5
}
