{
 "cells": [
  {
   "cell_type": "code",
   "execution_count": null,
   "metadata": {},
   "outputs": [],
   "source": []
  },
  {
   "cell_type": "code",
   "execution_count": 4,
   "metadata": {},
   "outputs": [
    {
     "name": "stdout",
     "output_type": "stream",
     "text": [
      "3.11.11 | packaged by conda-forge | (main, Dec  5 2024, 14:06:23) [MSC v.1942 64 bit (AMD64)]\n",
      "numpy version: 1.26.4\n",
      "flopy version: 3.8.2\n"
     ]
    }
   ],
   "source": [
    "import os ; import numpy as np ; import pandas as pd ; import matplotlib.pyplot as plt ; import pyemu ; plt.rcParams['font.size'] = 12\n",
    "from pathlib import Path; print(sys.version) ; import sys; import flopy\n",
    "print(f\"numpy version: {np.__version__}\") ; print(f\"flopy version: {flopy.__version__}\")"
   ]
  },
  {
   "cell_type": "code",
   "execution_count": null,
   "metadata": {},
   "outputs": [],
   "source": [
    "sim_ws1   = tmp_d = Path('E:\\\\15_REPOS\\\\00_BETAMI\\\\97_GMDSI\\\\00\\\\part2_01b')  #; sim_name = \"freyberg_mf6\"\n",
    "sim_ws2   = Path(\"./part2_01b2\")                                                                        ; sim_ws2.mkdir(exist_ok=True) \n",
    "sim_ws3   = Path(\"./part2_01b2/beta\")                                                                   ; sim_ws3.mkdir(exist_ok=True)\n",
    "shutil.copytree(sim_ws1, sim_ws2, dirs_exist_ok=True)      #;sim=flopy.mf6.MFSimulation.load(sim_ws=sim_ws2,verbosity_level=0) ;gwf = sim.get_model()"
   ]
  },
  {
   "cell_type": "code",
   "execution_count": null,
   "metadata": {},
   "outputs": [],
   "source": [
    "ID = \"freyberg6_template\"\n",
    "assert os.path.exists(ID),\" need to run the setup_pestpp_interface notebook first!\""
   ]
  },
  {
   "cell_type": "code",
   "execution_count": null,
   "metadata": {},
   "outputs": [],
   "source": [
    "pst = pyemu.Pst(os.path.join(ID,\"freyberg6.pst\"))"
   ]
  },
  {
   "cell_type": "code",
   "execution_count": null,
   "metadata": {},
   "outputs": [],
   "source": [
    "pst.pestpp_options"
   ]
  },
  {
   "cell_type": "code",
   "execution_count": null,
   "metadata": {},
   "outputs": [],
   "source": [
    "pst.control_data.noptmax = -1\n",
    "pst_filename = \"freyberg6_pmc.pst\"\n",
    "pst.write(os.path.join(ID,pst_filename),version=2)"
   ]
  },
  {
   "cell_type": "code",
   "execution_count": null,
   "metadata": {},
   "outputs": [],
   "source": [
    "pyemu.os_utils.start_workers(ID,\"pestpp-ies\",pst_filename,num_workers=8,master_dir=\"master_pmc\", worker_root='.')"
   ]
  },
  {
   "cell_type": "code",
   "execution_count": null,
   "metadata": {},
   "outputs": [],
   "source": [
    "obs_filename = pst_filename.replace(\".pst\",\".0.obs.csv\")\n",
    "obs_df = pd.read_csv(os.path.join(\"master_pmc\",obs_filename),index_col=0)"
   ]
  },
  {
   "cell_type": "code",
   "execution_count": null,
   "metadata": {},
   "outputs": [],
   "source": [
    "obs_df"
   ]
  },
  {
   "cell_type": "code",
   "execution_count": null,
   "metadata": {},
   "outputs": [],
   "source": [
    "pst.obs_groups"
   ]
  },
  {
   "cell_type": "code",
   "execution_count": null,
   "metadata": {},
   "outputs": [],
   "source": [
    "pst.try_parse_name_metadata()\n",
    "#pst.observation_data.loc[:,\"time\"] = pst.observation_data.time.apply(np.float)\n",
    "obs = pst.observation_data\n",
    "for obs_group in pst.obs_groups:\n",
    "    obs_g = obs.loc[obs.obgnme==obs_group,:].copy()\n",
    "    obs_g.sort_values(by=\"datetime\",inplace=True)\n",
    "    obs_g_df = obs_df.loc[:,obs_g.obsnme]\n",
    "    fig,ax = plt.subplots(1,1,figsize=(15,2))\n",
    "    [ax.plot(obs_g.datetime,obs_g_df.loc[i,obs_g.obsnme],color='0.5',alpha=0.5,lw=0.2) for i in obs_g_df.index]\n",
    "    ax.set_title(obs_group)\n",
    "    plt.setp( ax.xaxis.get_majorticklabels(), rotation=45, horizontalalignment='right' )\n",
    "    plt.show()\n",
    "    \n",
    "    "
   ]
  }
 ],
 "metadata": {
  "kernelspec": {
   "display_name": "Python 3 (ipykernel)",
   "language": "python",
   "name": "python3"
  },
  "language_info": {
   "codemirror_mode": {
    "name": "ipython",
    "version": 3
   },
   "file_extension": ".py",
   "mimetype": "text/x-python",
   "name": "python",
   "nbconvert_exporter": "python",
   "pygments_lexer": "ipython3",
   "version": "3.11.11"
  }
 },
 "nbformat": 4,
 "nbformat_minor": 4
}
