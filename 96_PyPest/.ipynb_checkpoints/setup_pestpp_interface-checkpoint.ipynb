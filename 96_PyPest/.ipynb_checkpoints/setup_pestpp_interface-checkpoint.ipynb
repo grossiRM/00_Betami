{
 "cells": [
  {
   "cell_type": "markdown",
   "metadata": {},
   "source": [
    "<font color='blue'> **PstFrom** </font>  MF6"
   ]
  },
  {
   "cell_type": "code",
   "execution_count": 1,
   "metadata": {},
   "outputs": [
    {
     "name": "stdout",
     "output_type": "stream",
     "text": [
      "3.11.11 | packaged by conda-forge | (main, Dec  5 2024, 14:06:23) [MSC v.1942 64 bit (AMD64)]\n",
      "numpy version: 1.26.4\n",
      "flopy version: 3.8.2\n"
     ]
    }
   ],
   "source": [
    "import os ; import shutil ; import numpy as np ; import pandas as pd ; import matplotlib.pyplot as plt ; import pyemu ; import flopy ; import sys\n",
    "from pathlib import Path; print(sys.version) ; import sys; import flopy ; plt.rcParams['font.size'] = 14\n",
    "#sys.path.append(os.path.abspath(os.path.join('..', 'pestpp_exes'))) ; sys.path.append(os.path.abspath(os.path.join('..', 'mf_exes')))\n",
    "print(f\"numpy version: {np.__version__}\") ; print(f\"flopy version: {flopy.__version__}\")  \n",
    "org_model_ws = os.path.join('model_files_lowres')        #          ; os.listdir(org_model_ws)\n",
    "sim_ws   = Path(\"./PstFrom_Setup\")                                  ; sim_ws.mkdir(exist_ok=True) "
   ]
  },
  {
   "cell_type": "code",
   "execution_count": 2,
   "metadata": {},
   "outputs": [
    {
     "name": "stdout",
     "output_type": "stream",
     "text": [
      "mf6.exe\n"
     ]
    },
    {
     "data": {
      "text/plain": [
       "<Figure size 500x500 with 0 Axes>"
      ]
     },
     "metadata": {},
     "output_type": "display_data"
    }
   ],
   "source": [
    "id_arr  = np.loadtxt (os.path.join(org_model_ws,\"freyberg6.dis_idomain_layer3.txt\"))\n",
    "top_arr = np.loadtxt (os.path.join(org_model_ws,\"freyberg6.dis_top.txt\")) ; \n",
    "top_arr[id_arr==0] = np.nan ; fig = plt.figure(figsize=(5,5))  #; im = plt.imshow(top_arr)   \n",
    "pyemu.os_utils.run(\"mf6\",cwd=org_model_ws)"
   ]
  },
  {
   "cell_type": "code",
   "execution_count": 3,
   "metadata": {
    "collapsed": true,
    "jupyter": {
     "outputs_hidden": true
    },
    "scrolled": true
   },
   "outputs": [
    {
     "name": "stdout",
     "output_type": "stream",
     "text": [
      "loading simulation...\n",
      "  loading simulation name file...\n",
      "  loading tdis package...\n",
      "  loading model gwf6...\n",
      "    loading package dis...\n",
      "    loading package ic...\n",
      "    loading package npf...\n",
      "    loading package sto...\n",
      "    loading package oc...\n",
      "    loading package wel...\n",
      "    loading package rch...\n",
      "    loading package ghb...\n",
      "    loading package sfr...\n",
      "    loading package obs...\n",
      "  loading solution package freyberg6...\n"
     ]
    },
    {
     "data": {
      "text/plain": [
       "xul:0; yul:10000; rotation:0; proj4_str:None; units:meters; lenuni:2; length_multiplier:1.0"
      ]
     },
     "execution_count": 3,
     "metadata": {},
     "output_type": "execute_result"
    }
   ],
   "source": [
    "shutil.copytree(org_model_ws,sim_ws,dirs_exist_ok=True) ; # os.listdir(sim_ws)\n",
    "sim = flopy.mf6.MFSimulation.load(sim_ws=sim_ws) ; mm = sim.get_model(\"freyberg6\")\n",
    "sr = pyemu.helpers.SpatialReference(delr=mm.dis.delr.array, delc=mm.dis.delc.array) ; sr\n",
    "# sr = pyemu.helpers.SpatialReference.from_namfile(os.path.join(sim_ws, \"freyberg6.nam\"),delr=m.dis.delr.array, delc=m.dis.delc.array)"
   ]
  },
  {
   "cell_type": "code",
   "execution_count": 4,
   "metadata": {
    "collapsed": true,
    "jupyter": {
     "outputs_hidden": true
    },
    "scrolled": true
   },
   "outputs": [
    {
     "name": "stdout",
     "output_type": "stream",
     "text": [
      "2025-06-09 16:06:01.508203 starting: opening PstFrom.log for logging\n",
      "2025-06-09 16:06:01.508203 starting PstFrom process\n",
      "2025-06-09 16:06:01.508203 starting: setting up dirs\n",
      "2025-06-09 16:06:01.508203 starting: removing existing new_d 'PstFrom_Setup\\freyberg6_template'\n",
      "2025-06-09 16:06:01.539458 finished: removing existing new_d 'PstFrom_Setup\\freyberg6_template' took: 0:00:00.031255\n",
      "2025-06-09 16:06:01.539458 starting: copying original_d 'PstFrom_Setup' to new_d 'PstFrom_Setup\\freyberg6_template'\n",
      "2025-06-09 16:06:02.056913 finished: copying original_d 'PstFrom_Setup' to new_d 'PstFrom_Setup\\freyberg6_template' took: 0:00:00.517455\n",
      "2025-06-09 16:06:02.056913 finished: setting up dirs took: 0:00:00.548710\n"
     ]
    }
   ],
   "source": [
    "template_ws = os.path.join(sim_ws,\"freyberg6_template\")                   ; start_datetime=\"1-1-2008\"                 \n",
    "pf = pyemu.utils.PstFrom(original_d=sim_ws, new_d=template_ws, remove_existing=True, longnames=True, spatial_reference=sr, \n",
    "                         zero_based=False, start_datetime=\"1-1-2018\")  "
   ]
  },
  {
   "cell_type": "code",
   "execution_count": 5,
   "metadata": {
    "scrolled": true
   },
   "outputs": [],
   "source": [
    "df1 = pd.read_csv(os.path.join(sim_ws,\"heads.csv\"),index_col=0)             ; df1.to_csv (sim_ws/ \"01_heads.csv\"); df1.tail(2); \n",
    "df2 = pd.read_csv(os.path.join(sim_ws, \"sfr.csv\"), index_col=0)             ; df2.to_csv (sim_ws/ \"02_sfr.csv\"  ); df2.tail(2); \n",
    "#pst = pf.build_pst()  # pst.observation_data ; pst.parameter_data"
   ]
  },
  {
   "cell_type": "code",
   "execution_count": 6,
   "metadata": {
    "collapsed": true,
    "jupyter": {
     "outputs_hidden": true
    }
   },
   "outputs": [
    {
     "name": "stdout",
     "output_type": "stream",
     "text": [
      "2025-06-09 16:06:02.077269 starting: adding observations from output file heads.csv\n",
      "2025-06-09 16:06:02.077269 starting: adding observations from tabular output file '['heads.csv']'\n",
      "2025-06-09 16:06:02.077269 starting: reading list-style file: PstFrom_Setup\\freyberg6_template\\heads.csv\n",
      "2025-06-09 16:06:02.092898 finished: reading list-style file: PstFrom_Setup\\freyberg6_template\\heads.csv took: 0:00:00.015629\n",
      "2025-06-09 16:06:02.092898 starting: building insfile for tabular output file heads.csv\n",
      "2025-06-09 16:06:02.092898 finished: building insfile for tabular output file heads.csv took: 0:00:00\n",
      "2025-06-09 16:06:02.092898 starting: adding observation from instruction file 'PstFrom_Setup\\freyberg6_template\\heads.csv.ins'\n",
      "2025-06-09 16:06:02.124150 finished: adding observation from instruction file 'PstFrom_Setup\\freyberg6_template\\heads.csv.ins' took: 0:00:00.031252\n",
      "2025-06-09 16:06:02.124150 finished: adding observations from tabular output file '['heads.csv']' took: 0:00:00.046881\n",
      "2025-06-09 16:06:02.124150 finished: adding observations from output file heads.csv took: 0:00:00.046881\n",
      "2025-06-09 16:06:02.124150 starting: adding observations from output file sfr.csv\n",
      "2025-06-09 16:06:02.124150 starting: adding observations from tabular output file '['sfr.csv']'\n",
      "2025-06-09 16:06:02.124150 starting: reading list-style file: PstFrom_Setup\\freyberg6_template\\sfr.csv\n",
      "2025-06-09 16:06:02.124150 finished: reading list-style file: PstFrom_Setup\\freyberg6_template\\sfr.csv took: 0:00:00\n",
      "2025-06-09 16:06:02.124150 starting: building insfile for tabular output file sfr.csv\n",
      "2025-06-09 16:06:02.124150 finished: building insfile for tabular output file sfr.csv took: 0:00:00\n",
      "2025-06-09 16:06:02.124150 starting: adding observation from instruction file 'PstFrom_Setup\\freyberg6_template\\sfr.csv.ins'\n",
      "2025-06-09 16:06:02.139777 finished: adding observation from instruction file 'PstFrom_Setup\\freyberg6_template\\sfr.csv.ins' took: 0:00:00.015627\n",
      "2025-06-09 16:06:02.139777 finished: adding observations from tabular output file '['sfr.csv']' took: 0:00:00.015627\n",
      "2025-06-09 16:06:02.139777 finished: adding observations from output file sfr.csv took: 0:00:00.015627\n"
     ]
    }
   ],
   "source": [
    "hds_df = pf.add_observations(\"heads.csv\",  insfile=\"heads.csv.ins\",  index_cols=\"time\",  use_cols=list(df1.columns.values),  prefix=\"hds\")\n",
    "sfr_df = pf.add_observations(\"sfr.csv\"  , insfile=\"sfr.csv.ins\"   ,  index_cols=\"time\", use_cols=list(df2.columns.values)) ; sfr_df.tail(2) ; \n",
    "# [f for f in os.listdir(template_ws) if f.endswith(\".ins\")]"
   ]
  },
  {
   "cell_type": "markdown",
   "metadata": {
    "scrolled": true
   },
   "source": [
    "<font color='red'> **PAR** </font> "
   ]
  },
  {
   "cell_type": "code",
   "execution_count": 7,
   "metadata": {
    "scrolled": true
   },
   "outputs": [],
   "source": [
    "v = pyemu.geostats.ExpVario(contribution=1.0,a=1000)\n",
    "grid_gs = pyemu.geostats.GeoStruct(variograms=v, transform='log')\n",
    "temporal_gs = pyemu.geostats.GeoStruct(variograms=pyemu.geostats.ExpVario(contribution=1.0,a=60))\n",
    "ib = mm.dis.idomain[0].array"
   ]
  },
  {
   "cell_type": "code",
   "execution_count": 8,
   "metadata": {
    "collapsed": true,
    "jupyter": {
     "outputs_hidden": true
    },
    "scrolled": true
   },
   "outputs": [
    {
     "name": "stdout",
     "output_type": "stream",
     "text": [
      "2025-06-09 16:06:02.150982 transform was not passed, setting default tranform to 'log'\n",
      "2025-06-09 16:06:02.150982 starting: adding grid type m style parameters for file(s) ['freyberg6.npf_k_layer1.txt']\n",
      "2025-06-09 16:06:02.150982 starting: loading array PstFrom_Setup\\freyberg6_template\\freyberg6.npf_k_layer1.txt\n",
      "2025-06-09 16:06:02.163487 WARNING: \n",
      "_load_array_get_fmt(), likely fixed format file:\n",
      "freyberg6.npf_k_layer1.txt appears to contain some float notation (%F) values.\n",
      "Can't define a generic format specifier that\n",
      "will guarantee file is readable by downstream engine.\n",
      "Will try to use %E, but this could cause issues\n",
      "downstream...\n",
      "2025-06-09 16:06:02.163487 finished: loading array PstFrom_Setup\\freyberg6_template\\freyberg6.npf_k_layer1.txt took: 0:00:00.012505\n",
      "2025-06-09 16:06:02.163487 loaded array 'PstFrom_Setup\\freyberg6.npf_k_layer1.txt' of shape (40, 20)\n",
      "2025-06-09 16:06:02.163487 starting: writing array-style template file 'PstFrom_Setup\\freyberg6_template\\hk_layer_1_inst0_grid.csv.tpl'\n",
      "2025-06-09 16:06:02.163487 starting: writing template file PstFrom_Setup\\freyberg6_template\\hk_layer_1_inst0_grid.csv.tpl for ['hk_layer_1_inst:0']\n",
      "2025-06-09 16:06:02.179118 finished: writing template file PstFrom_Setup\\freyberg6_template\\hk_layer_1_inst0_grid.csv.tpl for ['hk_layer_1_inst:0'] took: 0:00:00.015631\n",
      "2025-06-09 16:06:02.179118 starting: writing array-based template file 'PstFrom_Setup\\freyberg6_template\\hk_layer_1_inst0_grid.csv.tpl'\n",
      "2025-06-09 16:06:02.179118 saving zone array PstFrom_Setup\\freyberg6_template\\hk_layer_1_inst0_grid.csv.zone for tpl file PstFrom_Setup\\freyberg6_template\\hk_layer_1_inst0_grid.csv.tpl\n",
      "2025-06-09 16:06:02.179118 finished: adding grid type m style parameters for file(s) ['freyberg6.npf_k_layer1.txt'] took: 0:00:00.028136\n"
     ]
    },
    {
     "name": "stderr",
     "output_type": "stream",
     "text": [
      "C:\\Users\\gross.DESKTOP-AIRQM2M\\anaconda3\\envs\\gmdsitut\\Lib\\site-packages\\pyemu\\logger.py:100: PyemuWarning: 2025-06-09 16:06:02.163487 WARNING: \n",
      "_load_array_get_fmt(), likely fixed format file:\n",
      "freyberg6.npf_k_layer1.txt appears to contain some float notation (%F) values.\n",
      "Can't define a generic format specifier that\n",
      "will guarantee file is readable by downstream engine.\n",
      "Will try to use %E, but this could cause issues\n",
      "downstream...\n",
      "\n"
     ]
    }
   ],
   "source": [
    "pf.add_parameters(filenames=\"freyberg6.npf_k_layer1.txt\"   , par_type=\"grid\"     ,par_name_base=\"hk_layer_1\" ,pargp=\"hk_layer_1\",  \n",
    "                  zone_array=ib , upper_bound=10.          , lower_bound=0.1     , ult_ubound=100 , ult_lbound=0.01   )\n",
    "par1 = pd.read_csv(os.path.join(sim_ws, 'freyberg6.npf_k_layer1.txt'))           ; par1.to_csv (sim_ws/ \"03_par1.csv\"  ); df2.tail(2);   #PAR"
   ]
  },
  {
   "cell_type": "raw",
   "metadata": {
    "scrolled": true
   },
   "source": [
    "hk_arr_files = [f for f in os.listdir(sim_ws) if \"npf_k_\" in f and f.endswith(\".txt\")] ; hk_arr_files\n",
    "[f for f in os.listdir(template_ws) if f.endswith(\".tpl\")]\n",
    "with open(os.path.join(template_ws,\"hk_layer_1_inst0_grid.csv.tpl\"),'r') as f:\n",
    "    for _ in range(2):\n",
    "        print(f.readline().strip())        "
   ]
  },
  {
   "cell_type": "markdown",
   "metadata": {
    "scrolled": true
   },
   "source": [
    "<font color='blue'> **PEST** </font> "
   ]
  },
  {
   "cell_type": "code",
   "execution_count": 9,
   "metadata": {
    "scrolled": true
   },
   "outputs": [
    {
     "name": "stdout",
     "output_type": "stream",
     "text": [
      "noptmax:0, npar_adj:706, nnz_obs:725\n"
     ]
    }
   ],
   "source": [
    "pst = pf.build_pst()    # new doc ... template/PstFrom_Setup.pst   # "
   ]
  },
  {
   "cell_type": "code",
   "execution_count": 10,
   "metadata": {
    "scrolled": true
   },
   "outputs": [
    {
     "name": "stdout",
     "output_type": "stream",
     "text": [
      "noptmax:0, npar_adj:706, nnz_obs:725\n",
      "2025-06-09 16:06:02.410582 forward_run line:pyemu.os_utils.run(r'mf6')\n",
      "\n"
     ]
    }
   ],
   "source": [
    "pf.mod_sys_cmds.append(\"mf6\")    ; pst = pf.build_pst()   # forward_run.py"
   ]
  },
  {
   "cell_type": "markdown",
   "metadata": {},
   "source": [
    "<font color='red'> **PAR_V2** </font> "
   ]
  },
  {
   "cell_type": "code",
   "execution_count": 11,
   "metadata": {
    "collapsed": true,
    "jupyter": {
     "outputs_hidden": true
    },
    "scrolled": true
   },
   "outputs": [
    {
     "name": "stdout",
     "output_type": "stream",
     "text": [
      "2025-06-09 16:06:02.424557 transform was not passed, setting default tranform to 'log'\n",
      "2025-06-09 16:06:02.424557 starting: adding grid type m style parameters for file(s) ['freyberg6.npf_k_layer3.txt']\n",
      "2025-06-09 16:06:02.424557 starting: using geostruct:name:struct1,nugget:0.0,structures:\n",
      "name:var1,contribution:1.0,a:1000.0,anisotropy:1.0,bearing:0.0\n",
      "\n",
      "2025-06-09 16:06:02.424557 starting: loading array PstFrom_Setup\\freyberg6_template\\freyberg6.npf_k_layer3.txt\n",
      "2025-06-09 16:06:02.424557 WARNING: \n",
      "_load_array_get_fmt(), likely fixed format file:\n",
      "freyberg6.npf_k_layer3.txt appears to contain some float notation (%F) values.\n",
      "Can't define a generic format specifier that\n",
      "will guarantee file is readable by downstream engine.\n",
      "Will try to use %E, but this could cause issues\n",
      "downstream...\n",
      "2025-06-09 16:06:02.424557 finished: loading array PstFrom_Setup\\freyberg6_template\\freyberg6.npf_k_layer3.txt took: 0:00:00\n",
      "2025-06-09 16:06:02.424557 loaded array 'PstFrom_Setup\\freyberg6.npf_k_layer3.txt' of shape (40, 20)\n",
      "2025-06-09 16:06:02.440186 starting: writing array-style template file 'PstFrom_Setup\\freyberg6_template\\hk_layer_3_inst0_grid.csv.tpl'\n",
      "2025-06-09 16:06:02.440186 starting: writing template file PstFrom_Setup\\freyberg6_template\\hk_layer_3_inst0_grid.csv.tpl for ['hk_layer_3_inst:0']\n",
      "2025-06-09 16:06:02.455812 finished: writing template file PstFrom_Setup\\freyberg6_template\\hk_layer_3_inst0_grid.csv.tpl for ['hk_layer_3_inst:0'] took: 0:00:00.015626\n",
      "2025-06-09 16:06:02.455812 starting: writing array-based template file 'PstFrom_Setup\\freyberg6_template\\hk_layer_3_inst0_grid.csv.tpl'\n",
      "2025-06-09 16:06:02.455812 saving zone array PstFrom_Setup\\freyberg6_template\\hk_layer_3_inst0_grid.csv.zone for tpl file PstFrom_Setup\\freyberg6_template\\hk_layer_3_inst0_grid.csv.tpl\n",
      "2025-06-09 16:06:02.455812 finished: adding grid type m style parameters for file(s) ['freyberg6.npf_k_layer3.txt'] took: 0:00:00.031255\n",
      "noptmax:0, npar_adj:1412, nnz_obs:725\n",
      "2025-06-09 16:06:02.579716 WARNING: sys_cmd 'pyemu.os_utils.run(r'mf6')\n",
      "' already in sys cmds, skipping...\n"
     ]
    },
    {
     "name": "stderr",
     "output_type": "stream",
     "text": [
      "C:\\Users\\gross.DESKTOP-AIRQM2M\\anaconda3\\envs\\gmdsitut\\Lib\\site-packages\\pyemu\\logger.py:100: PyemuWarning: 2025-06-09 16:06:02.424557 WARNING: \n",
      "_load_array_get_fmt(), likely fixed format file:\n",
      "freyberg6.npf_k_layer3.txt appears to contain some float notation (%F) values.\n",
      "Can't define a generic format specifier that\n",
      "will guarantee file is readable by downstream engine.\n",
      "Will try to use %E, but this could cause issues\n",
      "downstream...\n",
      "\n",
      "C:\\Users\\gross.DESKTOP-AIRQM2M\\anaconda3\\envs\\gmdsitut\\Lib\\site-packages\\pyemu\\logger.py:100: PyemuWarning: 2025-06-09 16:06:02.579716 WARNING: sys_cmd 'pyemu.os_utils.run(r'mf6')\n",
      "' already in sys cmds, skipping...\n",
      "\n"
     ]
    }
   ],
   "source": [
    "pf.add_parameters(filenames=\"freyberg6.npf_k_layer3.txt\"   , par_type=\"grid\"     ,par_name_base=\"hk_layer_3\" ,pargp=\"hk_layer_3\",  \n",
    "                  zone_array=ib , upper_bound=10.          , lower_bound=0.1     , ult_ubound=100 , ult_lbound=0.01   , geostruct=grid_gs )\n",
    "pst = pf.build_pst()"
   ]
  },
  {
   "cell_type": "markdown",
   "metadata": {},
   "source": [
    "<font color='purple'> **parameter covariance matrix and prior parameter ensemble** </font> "
   ]
  },
  {
   "cell_type": "code",
   "execution_count": 17,
   "metadata": {},
   "outputs": [
    {
     "name": "stdout",
     "output_type": "stream",
     "text": [
      "2025-06-09 16:09:51.233598 starting: building prior covariance matrix\n",
      "2025-06-09 16:09:51.440661 saving prior covariance matrix to file PstFrom_Setup\\freyberg6_template\\PstFrom_Setup.prior.cov\n",
      "2025-06-09 16:09:52.631028 finished: building prior covariance matrix took: 0:00:01.397430\n"
     ]
    }
   ],
   "source": [
    "cov = pf.build_prior()  ; x = cov.x.copy()  ; x[x==0.0] = np.NaN"
   ]
  },
  {
   "cell_type": "code",
   "execution_count": 18,
   "metadata": {},
   "outputs": [
    {
     "data": {
      "image/png": "[encoded data removed]",
      "text/plain": [
       "<Figure size 600x200 with 2 Axes>"
      ]
     },
     "metadata": {},
     "output_type": "display_data"
    }
   ],
   "source": [
    "fig = plt.figure(figsize=(6, 2))                             \n",
    "ax = fig.add_subplot(121, aspect=\"equal\") ; im = plt.imshow(x, interpolation='none')  ; plt.gca().set_facecolor('k')\n",
    "ax = fig.add_subplot(122, aspect=\"equal\") ; im = plt.imshow(x[700:,700:], interpolation='none')  ; plt.gca().set_facecolor('k') ; plt.show()"
   ]
  },
  {
   "cell_type": "markdown",
   "metadata": {},
   "source": [
    "**first block of HK \"uncorrelated (diagonal only)** ________ **second block of HK spatially correlated !**"
   ]
  },
  {
   "cell_type": "markdown",
   "metadata": {},
   "source": [
    "<font color='red'> **Well uncertainty** </font> "
   ]
  },
  {
   "cell_type": "code",
   "execution_count": 29,
   "metadata": {
    "scrolled": true
   },
   "outputs": [],
   "source": [
    "wel_files = [f for f in os.listdir(sim_ws) if \"wel_stress_period\" in f and f.endswith(\".txt\")] \n",
    "np.savetxt(sim_ws/\"04_wells.csv\",wel_files,fmt =\"%s\",delimiter=\",\")"
   ]
  },
  {
   "cell_type": "code",
   "execution_count": 33,
   "metadata": {
    "scrolled": true
   },
   "outputs": [],
   "source": [
    "w1 = pd.read_csv(os.path.join(sim_ws,wel_files[0]),header=None) ; w2 = pd.DataFrame(w1[0]) ; w2.to_csv (sim_ws/ \"05_W01.csv\") "
   ]
  },
  {
   "cell_type": "code",
   "execution_count": 35,
   "metadata": {
    "collapsed": true,
    "jupyter": {
     "outputs_hidden": true
    },
    "scrolled": true
   },
   "outputs": [
    {
     "name": "stdout",
     "output_type": "stream",
     "text": [
      "2025-06-09 16:25:42.531042 transform was not passed, setting default tranform to 'log'\n",
      "2025-06-09 16:25:42.531042 starting: adding constant type m style parameters for file(s) ['freyberg6.wel_stress_period_data_1.txt']\n",
      "2025-06-09 16:25:42.531042 starting: using geostruct:name:struct1,nugget:0.0,structures:\n",
      "name:var1,contribution:1.0,a:60.0,anisotropy:1.0,bearing:0.0\n",
      "\n",
      "2025-06-09 16:25:42.531042 WARNING: 0) Inconsistency between geostruct transform and partrans.\n",
      "2025-06-09 16:25:42.531042 WARNING: 1) Setting geostruct transform to log\n",
      "2025-06-09 16:25:42.531042 WARNING: -) Better to pass an appropriately transformed geostruct\n",
      "2025-06-09 16:25:42.531042 starting: loading array PstFrom_Setup\\freyberg6_template\\freyberg6.wel_stress_period_data_1.txt\n",
      "2025-06-09 16:25:42.531042 finished: loading array PstFrom_Setup\\freyberg6_template\\freyberg6.wel_stress_period_data_1.txt took: 0:00:00\n",
      "2025-06-09 16:25:42.531042 loaded array 'PstFrom_Setup\\freyberg6.wel_stress_period_data_1.txt' of shape (6, 4)\n",
      "2025-06-09 16:25:42.531042 starting: writing array-style template file 'PstFrom_Setup\\freyberg6_template\\wel_cn_inst0_constant.csv.tpl'\n",
      "2025-06-09 16:25:42.531042 starting: writing template file PstFrom_Setup\\freyberg6_template\\wel_cn_inst0_constant.csv.tpl for ['wel_cn_inst:0']\n",
      "2025-06-09 16:25:42.531042 finished: writing template file PstFrom_Setup\\freyberg6_template\\wel_cn_inst0_constant.csv.tpl for ['wel_cn_inst:0'] took: 0:00:00\n",
      "2025-06-09 16:25:42.531042 starting: writing array-based template file 'PstFrom_Setup\\freyberg6_template\\wel_cn_inst0_constant.csv.tpl'\n",
      "2025-06-09 16:25:42.531042 finished: adding constant type m style parameters for file(s) ['freyberg6.wel_stress_period_data_1.txt'] took: 0:00:00\n",
      "2025-06-09 16:25:42.531042 transform was not passed, setting default tranform to 'log'\n",
      "2025-06-09 16:25:42.531042 starting: adding constant type m style parameters for file(s) ['freyberg6.wel_stress_period_data_10.txt']\n",
      "2025-06-09 16:25:42.531042 finished: using geostruct:name:struct1,nugget:0.0,structures:\n",
      "name:var1,contribution:1.0,a:60.0,anisotropy:1.0,bearing:0.0\n",
      " took: 0:00:00\n",
      "2025-06-09 16:25:42.531042 starting: loading array PstFrom_Setup\\freyberg6_template\\freyberg6.wel_stress_period_data_10.txt\n",
      "2025-06-09 16:25:42.546668 finished: loading array PstFrom_Setup\\freyberg6_template\\freyberg6.wel_stress_period_data_10.txt took: 0:00:00.015626\n",
      "2025-06-09 16:25:42.546668 loaded array 'PstFrom_Setup\\freyberg6.wel_stress_period_data_10.txt' of shape (6, 4)\n",
      "2025-06-09 16:25:42.546668 starting: writing array-style template file 'PstFrom_Setup\\freyberg6_template\\wel_cn_inst1_constant.csv.tpl'\n",
      "2025-06-09 16:25:42.546668 starting: writing template file PstFrom_Setup\\freyberg6_template\\wel_cn_inst1_constant.csv.tpl for ['wel_cn_inst:1']\n",
      "2025-06-09 16:25:42.546668 finished: writing template file PstFrom_Setup\\freyberg6_template\\wel_cn_inst1_constant.csv.tpl for ['wel_cn_inst:1'] took: 0:00:00\n",
      "2025-06-09 16:25:42.546668 starting: writing array-based template file 'PstFrom_Setup\\freyberg6_template\\wel_cn_inst1_constant.csv.tpl'\n",
      "2025-06-09 16:25:42.546668 finished: adding constant type m style parameters for file(s) ['freyberg6.wel_stress_period_data_10.txt'] took: 0:00:00.015626\n",
      "2025-06-09 16:25:42.546668 transform was not passed, setting default tranform to 'log'\n",
      "2025-06-09 16:25:42.546668 starting: adding constant type m style parameters for file(s) ['freyberg6.wel_stress_period_data_11.txt']\n",
      "2025-06-09 16:25:42.546668 starting: using geostruct:name:struct1,nugget:0.0,structures:\n",
      "name:var1,contribution:1.0,a:60.0,anisotropy:1.0,bearing:0.0\n",
      "\n",
      "2025-06-09 16:25:42.546668 starting: loading array PstFrom_Setup\\freyberg6_template\\freyberg6.wel_stress_period_data_11.txt\n",
      "2025-06-09 16:25:42.546668 finished: loading array PstFrom_Setup\\freyberg6_template\\freyberg6.wel_stress_period_data_11.txt took: 0:00:00\n",
      "2025-06-09 16:25:42.546668 loaded array 'PstFrom_Setup\\freyberg6.wel_stress_period_data_11.txt' of shape (6, 4)\n",
      "2025-06-09 16:25:42.546668 starting: writing array-style template file 'PstFrom_Setup\\freyberg6_template\\wel_cn_inst2_constant.csv.tpl'\n",
      "2025-06-09 16:25:42.546668 starting: writing template file PstFrom_Setup\\freyberg6_template\\wel_cn_inst2_constant.csv.tpl for ['wel_cn_inst:2']\n",
      "2025-06-09 16:25:42.562293 finished: writing template file PstFrom_Setup\\freyberg6_template\\wel_cn_inst2_constant.csv.tpl for ['wel_cn_inst:2'] took: 0:00:00.015625\n",
      "2025-06-09 16:25:42.562293 starting: writing array-based template file 'PstFrom_Setup\\freyberg6_template\\wel_cn_inst2_constant.csv.tpl'\n",
      "2025-06-09 16:25:42.562293 finished: adding constant type m style parameters for file(s) ['freyberg6.wel_stress_period_data_11.txt'] took: 0:00:00.015625\n",
      "2025-06-09 16:25:42.562293 transform was not passed, setting default tranform to 'log'\n",
      "2025-06-09 16:25:42.562293 starting: adding constant type m style parameters for file(s) ['freyberg6.wel_stress_period_data_12.txt']\n",
      "2025-06-09 16:25:42.562293 finished: using geostruct:name:struct1,nugget:0.0,structures:\n",
      "name:var1,contribution:1.0,a:60.0,anisotropy:1.0,bearing:0.0\n",
      " took: 0:00:00.015625\n",
      "2025-06-09 16:25:42.562293 starting: loading array PstFrom_Setup\\freyberg6_template\\freyberg6.wel_stress_period_data_12.txt\n",
      "2025-06-09 16:25:42.562293 finished: loading array PstFrom_Setup\\freyberg6_template\\freyberg6.wel_stress_period_data_12.txt took: 0:00:00\n",
      "2025-06-09 16:25:42.562293 loaded array 'PstFrom_Setup\\freyberg6.wel_stress_period_data_12.txt' of shape (6, 4)\n",
      "2025-06-09 16:25:42.562293 starting: writing array-style template file 'PstFrom_Setup\\freyberg6_template\\wel_cn_inst3_constant.csv.tpl'\n",
      "2025-06-09 16:25:42.562293 starting: writing template file PstFrom_Setup\\freyberg6_template\\wel_cn_inst3_constant.csv.tpl for ['wel_cn_inst:3']\n",
      "2025-06-09 16:25:42.562293 finished: writing template file PstFrom_Setup\\freyberg6_template\\wel_cn_inst3_constant.csv.tpl for ['wel_cn_inst:3'] took: 0:00:00\n",
      "2025-06-09 16:25:42.562293 starting: writing array-based template file 'PstFrom_Setup\\freyberg6_template\\wel_cn_inst3_constant.csv.tpl'\n",
      "2025-06-09 16:25:42.577919 finished: adding constant type m style parameters for file(s) ['freyberg6.wel_stress_period_data_12.txt'] took: 0:00:00.015626\n",
      "2025-06-09 16:25:42.577919 transform was not passed, setting default tranform to 'log'\n",
      "2025-06-09 16:25:42.577919 starting: adding constant type m style parameters for file(s) ['freyberg6.wel_stress_period_data_13.txt']\n",
      "2025-06-09 16:25:42.577919 starting: using geostruct:name:struct1,nugget:0.0,structures:\n",
      "name:var1,contribution:1.0,a:60.0,anisotropy:1.0,bearing:0.0\n",
      "\n",
      "2025-06-09 16:25:42.577919 starting: loading array PstFrom_Setup\\freyberg6_template\\freyberg6.wel_stress_period_data_13.txt\n",
      "2025-06-09 16:25:42.577919 finished: loading array PstFrom_Setup\\freyberg6_template\\freyberg6.wel_stress_period_data_13.txt took: 0:00:00\n",
      "2025-06-09 16:25:42.577919 loaded array 'PstFrom_Setup\\freyberg6.wel_stress_period_data_13.txt' of shape (6, 4)\n",
      "2025-06-09 16:25:42.577919 starting: writing array-style template file 'PstFrom_Setup\\freyberg6_template\\wel_cn_inst4_constant.csv.tpl'\n",
      "2025-06-09 16:25:42.577919 starting: writing template file PstFrom_Setup\\freyberg6_template\\wel_cn_inst4_constant.csv.tpl for ['wel_cn_inst:4']\n",
      "2025-06-09 16:25:42.577919 finished: writing template file PstFrom_Setup\\freyberg6_template\\wel_cn_inst4_constant.csv.tpl for ['wel_cn_inst:4'] took: 0:00:00\n",
      "2025-06-09 16:25:42.577919 starting: writing array-based template file 'PstFrom_Setup\\freyberg6_template\\wel_cn_inst4_constant.csv.tpl'\n",
      "2025-06-09 16:25:42.577919 finished: adding constant type m style parameters for file(s) ['freyberg6.wel_stress_period_data_13.txt'] took: 0:00:00\n",
      "2025-06-09 16:25:42.577919 transform was not passed, setting default tranform to 'log'\n",
      "2025-06-09 16:25:42.577919 starting: adding constant type m style parameters for file(s) ['freyberg6.wel_stress_period_data_14.txt']\n",
      "2025-06-09 16:25:42.577919 finished: using geostruct:name:struct1,nugget:0.0,structures:\n",
      "name:var1,contribution:1.0,a:60.0,anisotropy:1.0,bearing:0.0\n",
      " took: 0:00:00\n",
      "2025-06-09 16:25:42.577919 starting: loading array PstFrom_Setup\\freyberg6_template\\freyberg6.wel_stress_period_data_14.txt\n",
      "2025-06-09 16:25:42.577919 finished: loading array PstFrom_Setup\\freyberg6_template\\freyberg6.wel_stress_period_data_14.txt took: 0:00:00\n",
      "2025-06-09 16:25:42.577919 loaded array 'PstFrom_Setup\\freyberg6.wel_stress_period_data_14.txt' of shape (6, 4)\n",
      "2025-06-09 16:25:42.577919 starting: writing array-style template file 'PstFrom_Setup\\freyberg6_template\\wel_cn_inst5_constant.csv.tpl'\n",
      "2025-06-09 16:25:42.577919 starting: writing template file PstFrom_Setup\\freyberg6_template\\wel_cn_inst5_constant.csv.tpl for ['wel_cn_inst:5']\n",
      "2025-06-09 16:25:42.593545 finished: writing template file PstFrom_Setup\\freyberg6_template\\wel_cn_inst5_constant.csv.tpl for ['wel_cn_inst:5'] took: 0:00:00.015626\n",
      "2025-06-09 16:25:42.593545 starting: writing array-based template file 'PstFrom_Setup\\freyberg6_template\\wel_cn_inst5_constant.csv.tpl'\n",
      "2025-06-09 16:25:42.593545 finished: adding constant type m style parameters for file(s) ['freyberg6.wel_stress_period_data_14.txt'] took: 0:00:00.015626\n",
      "2025-06-09 16:25:42.593545 transform was not passed, setting default tranform to 'log'\n",
      "2025-06-09 16:25:42.593545 starting: adding constant type m style parameters for file(s) ['freyberg6.wel_stress_period_data_15.txt']\n",
      "2025-06-09 16:25:42.593545 starting: using geostruct:name:struct1,nugget:0.0,structures:\n",
      "name:var1,contribution:1.0,a:60.0,anisotropy:1.0,bearing:0.0\n",
      "\n",
      "2025-06-09 16:25:42.593545 starting: loading array PstFrom_Setup\\freyberg6_template\\freyberg6.wel_stress_period_data_15.txt\n",
      "2025-06-09 16:25:42.593545 finished: loading array PstFrom_Setup\\freyberg6_template\\freyberg6.wel_stress_period_data_15.txt took: 0:00:00\n",
      "2025-06-09 16:25:42.593545 loaded array 'PstFrom_Setup\\freyberg6.wel_stress_period_data_15.txt' of shape (6, 4)\n",
      "2025-06-09 16:25:42.593545 starting: writing array-style template file 'PstFrom_Setup\\freyberg6_template\\wel_cn_inst6_constant.csv.tpl'\n",
      "2025-06-09 16:25:42.593545 starting: writing template file PstFrom_Setup\\freyberg6_template\\wel_cn_inst6_constant.csv.tpl for ['wel_cn_inst:6']\n",
      "2025-06-09 16:25:42.593545 finished: writing template file PstFrom_Setup\\freyberg6_template\\wel_cn_inst6_constant.csv.tpl for ['wel_cn_inst:6'] took: 0:00:00\n",
      "2025-06-09 16:25:42.593545 starting: writing array-based template file 'PstFrom_Setup\\freyberg6_template\\wel_cn_inst6_constant.csv.tpl'\n",
      "2025-06-09 16:25:42.609171 finished: adding constant type m style parameters for file(s) ['freyberg6.wel_stress_period_data_15.txt'] took: 0:00:00.015626\n",
      "2025-06-09 16:25:42.609171 transform was not passed, setting default tranform to 'log'\n",
      "2025-06-09 16:25:42.609171 starting: adding constant type m style parameters for file(s) ['freyberg6.wel_stress_period_data_16.txt']\n",
      "2025-06-09 16:25:42.609171 finished: using geostruct:name:struct1,nugget:0.0,structures:\n",
      "name:var1,contribution:1.0,a:60.0,anisotropy:1.0,bearing:0.0\n",
      " took: 0:00:00.015626\n",
      "2025-06-09 16:25:42.609171 starting: loading array PstFrom_Setup\\freyberg6_template\\freyberg6.wel_stress_period_data_16.txt\n",
      "2025-06-09 16:25:42.609171 finished: loading array PstFrom_Setup\\freyberg6_template\\freyberg6.wel_stress_period_data_16.txt took: 0:00:00\n",
      "2025-06-09 16:25:42.609171 loaded array 'PstFrom_Setup\\freyberg6.wel_stress_period_data_16.txt' of shape (6, 4)\n",
      "2025-06-09 16:25:42.609171 starting: writing array-style template file 'PstFrom_Setup\\freyberg6_template\\wel_cn_inst7_constant.csv.tpl'\n",
      "2025-06-09 16:25:42.609171 starting: writing template file PstFrom_Setup\\freyberg6_template\\wel_cn_inst7_constant.csv.tpl for ['wel_cn_inst:7']\n",
      "2025-06-09 16:25:42.609171 finished: writing template file PstFrom_Setup\\freyberg6_template\\wel_cn_inst7_constant.csv.tpl for ['wel_cn_inst:7'] took: 0:00:00\n",
      "2025-06-09 16:25:42.609171 starting: writing array-based template file 'PstFrom_Setup\\freyberg6_template\\wel_cn_inst7_constant.csv.tpl'\n",
      "2025-06-09 16:25:42.615678 finished: adding constant type m style parameters for file(s) ['freyberg6.wel_stress_period_data_16.txt'] took: 0:00:00.006507\n",
      "2025-06-09 16:25:42.615678 transform was not passed, setting default tranform to 'log'\n",
      "2025-06-09 16:25:42.615678 starting: adding constant type m style parameters for file(s) ['freyberg6.wel_stress_period_data_17.txt']\n",
      "2025-06-09 16:25:42.615678 starting: using geostruct:name:struct1,nugget:0.0,structures:\n",
      "name:var1,contribution:1.0,a:60.0,anisotropy:1.0,bearing:0.0\n",
      "\n",
      "2025-06-09 16:25:42.615678 starting: loading array PstFrom_Setup\\freyberg6_template\\freyberg6.wel_stress_period_data_17.txt\n",
      "2025-06-09 16:25:42.615678 finished: loading array PstFrom_Setup\\freyberg6_template\\freyberg6.wel_stress_period_data_17.txt took: 0:00:00\n",
      "2025-06-09 16:25:42.615678 loaded array 'PstFrom_Setup\\freyberg6.wel_stress_period_data_17.txt' of shape (6, 4)\n",
      "2025-06-09 16:25:42.615678 starting: writing array-style template file 'PstFrom_Setup\\freyberg6_template\\wel_cn_inst8_constant.csv.tpl'\n",
      "2025-06-09 16:25:42.615678 starting: writing template file PstFrom_Setup\\freyberg6_template\\wel_cn_inst8_constant.csv.tpl for ['wel_cn_inst:8']\n",
      "2025-06-09 16:25:42.615678 finished: writing template file PstFrom_Setup\\freyberg6_template\\wel_cn_inst8_constant.csv.tpl for ['wel_cn_inst:8'] took: 0:00:00\n",
      "2025-06-09 16:25:42.615678 starting: writing array-based template file 'PstFrom_Setup\\freyberg6_template\\wel_cn_inst8_constant.csv.tpl'\n",
      "2025-06-09 16:25:42.615678 finished: adding constant type m style parameters for file(s) ['freyberg6.wel_stress_period_data_17.txt'] took: 0:00:00\n",
      "2025-06-09 16:25:42.615678 transform was not passed, setting default tranform to 'log'\n",
      "2025-06-09 16:25:42.615678 starting: adding constant type m style parameters for file(s) ['freyberg6.wel_stress_period_data_18.txt']\n",
      "2025-06-09 16:25:42.615678 finished: using geostruct:name:struct1,nugget:0.0,structures:\n",
      "name:var1,contribution:1.0,a:60.0,anisotropy:1.0,bearing:0.0\n",
      " took: 0:00:00\n",
      "2025-06-09 16:25:42.615678 starting: loading array PstFrom_Setup\\freyberg6_template\\freyberg6.wel_stress_period_data_18.txt\n",
      "2025-06-09 16:25:42.631307 finished: loading array PstFrom_Setup\\freyberg6_template\\freyberg6.wel_stress_period_data_18.txt took: 0:00:00.015629\n",
      "2025-06-09 16:25:42.631307 loaded array 'PstFrom_Setup\\freyberg6.wel_stress_period_data_18.txt' of shape (6, 4)\n",
      "2025-06-09 16:25:42.631307 starting: writing array-style template file 'PstFrom_Setup\\freyberg6_template\\wel_cn_inst9_constant.csv.tpl'\n",
      "2025-06-09 16:25:42.631307 starting: writing template file PstFrom_Setup\\freyberg6_template\\wel_cn_inst9_constant.csv.tpl for ['wel_cn_inst:9']\n",
      "2025-06-09 16:25:42.631307 finished: writing template file PstFrom_Setup\\freyberg6_template\\wel_cn_inst9_constant.csv.tpl for ['wel_cn_inst:9'] took: 0:00:00\n",
      "2025-06-09 16:25:42.631307 starting: writing array-based template file 'PstFrom_Setup\\freyberg6_template\\wel_cn_inst9_constant.csv.tpl'\n",
      "2025-06-09 16:25:42.631307 finished: adding constant type m style parameters for file(s) ['freyberg6.wel_stress_period_data_18.txt'] took: 0:00:00.015629\n",
      "2025-06-09 16:25:42.631307 transform was not passed, setting default tranform to 'log'\n",
      "2025-06-09 16:25:42.631307 starting: adding constant type m style parameters for file(s) ['freyberg6.wel_stress_period_data_19.txt']\n",
      "2025-06-09 16:25:42.631307 starting: using geostruct:name:struct1,nugget:0.0,structures:\n",
      "name:var1,contribution:1.0,a:60.0,anisotropy:1.0,bearing:0.0\n",
      "\n",
      "2025-06-09 16:25:42.631307 starting: loading array PstFrom_Setup\\freyberg6_template\\freyberg6.wel_stress_period_data_19.txt\n",
      "2025-06-09 16:25:42.631307 finished: loading array PstFrom_Setup\\freyberg6_template\\freyberg6.wel_stress_period_data_19.txt took: 0:00:00\n",
      "2025-06-09 16:25:42.631307 loaded array 'PstFrom_Setup\\freyberg6.wel_stress_period_data_19.txt' of shape (6, 4)\n",
      "2025-06-09 16:25:42.631307 starting: writing array-style template file 'PstFrom_Setup\\freyberg6_template\\wel_cn_inst10_constant.csv.tpl'\n",
      "2025-06-09 16:25:42.631307 starting: writing template file PstFrom_Setup\\freyberg6_template\\wel_cn_inst10_constant.csv.tpl for ['wel_cn_inst:10']\n",
      "2025-06-09 16:25:42.631307 finished: writing template file PstFrom_Setup\\freyberg6_template\\wel_cn_inst10_constant.csv.tpl for ['wel_cn_inst:10'] took: 0:00:00\n",
      "2025-06-09 16:25:42.631307 starting: writing array-based template file 'PstFrom_Setup\\freyberg6_template\\wel_cn_inst10_constant.csv.tpl'\n",
      "2025-06-09 16:25:42.646934 finished: adding constant type m style parameters for file(s) ['freyberg6.wel_stress_period_data_19.txt'] took: 0:00:00.015627\n",
      "2025-06-09 16:25:42.646934 transform was not passed, setting default tranform to 'log'\n",
      "2025-06-09 16:25:42.646934 starting: adding constant type m style parameters for file(s) ['freyberg6.wel_stress_period_data_2.txt']\n",
      "2025-06-09 16:25:42.646934 finished: using geostruct:name:struct1,nugget:0.0,structures:\n",
      "name:var1,contribution:1.0,a:60.0,anisotropy:1.0,bearing:0.0\n",
      " took: 0:00:00.015627\n",
      "2025-06-09 16:25:42.646934 starting: loading array PstFrom_Setup\\freyberg6_template\\freyberg6.wel_stress_period_data_2.txt\n",
      "2025-06-09 16:25:42.646934 finished: loading array PstFrom_Setup\\freyberg6_template\\freyberg6.wel_stress_period_data_2.txt took: 0:00:00\n",
      "2025-06-09 16:25:42.646934 loaded array 'PstFrom_Setup\\freyberg6.wel_stress_period_data_2.txt' of shape (6, 4)\n",
      "2025-06-09 16:25:42.646934 starting: writing array-style template file 'PstFrom_Setup\\freyberg6_template\\wel_cn_inst11_constant.csv.tpl'\n",
      "2025-06-09 16:25:42.646934 starting: writing template file PstFrom_Setup\\freyberg6_template\\wel_cn_inst11_constant.csv.tpl for ['wel_cn_inst:11']\n",
      "2025-06-09 16:25:42.646934 finished: writing template file PstFrom_Setup\\freyberg6_template\\wel_cn_inst11_constant.csv.tpl for ['wel_cn_inst:11'] took: 0:00:00\n",
      "2025-06-09 16:25:42.646934 starting: writing array-based template file 'PstFrom_Setup\\freyberg6_template\\wel_cn_inst11_constant.csv.tpl'\n",
      "2025-06-09 16:25:42.646934 finished: adding constant type m style parameters for file(s) ['freyberg6.wel_stress_period_data_2.txt'] took: 0:00:00\n",
      "2025-06-09 16:25:42.646934 transform was not passed, setting default tranform to 'log'\n",
      "2025-06-09 16:25:42.646934 starting: adding constant type m style parameters for file(s) ['freyberg6.wel_stress_period_data_20.txt']\n",
      "2025-06-09 16:25:42.646934 starting: using geostruct:name:struct1,nugget:0.0,structures:\n",
      "name:var1,contribution:1.0,a:60.0,anisotropy:1.0,bearing:0.0\n",
      "\n",
      "2025-06-09 16:25:42.646934 starting: loading array PstFrom_Setup\\freyberg6_template\\freyberg6.wel_stress_period_data_20.txt\n",
      "2025-06-09 16:25:42.662560 finished: loading array PstFrom_Setup\\freyberg6_template\\freyberg6.wel_stress_period_data_20.txt took: 0:00:00.015626\n",
      "2025-06-09 16:25:42.662560 loaded array 'PstFrom_Setup\\freyberg6.wel_stress_period_data_20.txt' of shape (6, 4)\n",
      "2025-06-09 16:25:42.662560 starting: writing array-style template file 'PstFrom_Setup\\freyberg6_template\\wel_cn_inst12_constant.csv.tpl'\n",
      "2025-06-09 16:25:42.662560 starting: writing template file PstFrom_Setup\\freyberg6_template\\wel_cn_inst12_constant.csv.tpl for ['wel_cn_inst:12']\n",
      "2025-06-09 16:25:42.662560 finished: writing template file PstFrom_Setup\\freyberg6_template\\wel_cn_inst12_constant.csv.tpl for ['wel_cn_inst:12'] took: 0:00:00\n",
      "2025-06-09 16:25:42.662560 starting: writing array-based template file 'PstFrom_Setup\\freyberg6_template\\wel_cn_inst12_constant.csv.tpl'\n",
      "2025-06-09 16:25:42.662560 finished: adding constant type m style parameters for file(s) ['freyberg6.wel_stress_period_data_20.txt'] took: 0:00:00.015626\n",
      "2025-06-09 16:25:42.662560 transform was not passed, setting default tranform to 'log'\n",
      "2025-06-09 16:25:42.662560 starting: adding constant type m style parameters for file(s) ['freyberg6.wel_stress_period_data_21.txt']\n",
      "2025-06-09 16:25:42.662560 finished: using geostruct:name:struct1,nugget:0.0,structures:\n",
      "name:var1,contribution:1.0,a:60.0,anisotropy:1.0,bearing:0.0\n",
      " took: 0:00:00.015626\n",
      "2025-06-09 16:25:42.662560 starting: loading array PstFrom_Setup\\freyberg6_template\\freyberg6.wel_stress_period_data_21.txt\n",
      "2025-06-09 16:25:42.662560 finished: loading array PstFrom_Setup\\freyberg6_template\\freyberg6.wel_stress_period_data_21.txt took: 0:00:00\n",
      "2025-06-09 16:25:42.662560 loaded array 'PstFrom_Setup\\freyberg6.wel_stress_period_data_21.txt' of shape (6, 4)\n",
      "2025-06-09 16:25:42.662560 starting: writing array-style template file 'PstFrom_Setup\\freyberg6_template\\wel_cn_inst13_constant.csv.tpl'\n",
      "2025-06-09 16:25:42.662560 starting: writing template file PstFrom_Setup\\freyberg6_template\\wel_cn_inst13_constant.csv.tpl for ['wel_cn_inst:13']\n",
      "2025-06-09 16:25:42.662560 finished: writing template file PstFrom_Setup\\freyberg6_template\\wel_cn_inst13_constant.csv.tpl for ['wel_cn_inst:13'] took: 0:00:00\n",
      "2025-06-09 16:25:42.662560 starting: writing array-based template file 'PstFrom_Setup\\freyberg6_template\\wel_cn_inst13_constant.csv.tpl'\n",
      "2025-06-09 16:25:42.678186 finished: adding constant type m style parameters for file(s) ['freyberg6.wel_stress_period_data_21.txt'] took: 0:00:00.015626\n",
      "2025-06-09 16:25:42.678186 transform was not passed, setting default tranform to 'log'\n",
      "2025-06-09 16:25:42.678186 starting: adding constant type m style parameters for file(s) ['freyberg6.wel_stress_period_data_22.txt']\n",
      "2025-06-09 16:25:42.678186 starting: using geostruct:name:struct1,nugget:0.0,structures:\n",
      "name:var1,contribution:1.0,a:60.0,anisotropy:1.0,bearing:0.0\n",
      "\n",
      "2025-06-09 16:25:42.678186 starting: loading array PstFrom_Setup\\freyberg6_template\\freyberg6.wel_stress_period_data_22.txt\n",
      "2025-06-09 16:25:42.678186 finished: loading array PstFrom_Setup\\freyberg6_template\\freyberg6.wel_stress_period_data_22.txt took: 0:00:00\n",
      "2025-06-09 16:25:42.678186 loaded array 'PstFrom_Setup\\freyberg6.wel_stress_period_data_22.txt' of shape (6, 4)\n",
      "2025-06-09 16:25:42.678186 starting: writing array-style template file 'PstFrom_Setup\\freyberg6_template\\wel_cn_inst14_constant.csv.tpl'\n",
      "2025-06-09 16:25:42.678186 starting: writing template file PstFrom_Setup\\freyberg6_template\\wel_cn_inst14_constant.csv.tpl for ['wel_cn_inst:14']\n",
      "2025-06-09 16:25:42.678186 finished: writing template file PstFrom_Setup\\freyberg6_template\\wel_cn_inst14_constant.csv.tpl for ['wel_cn_inst:14'] took: 0:00:00\n",
      "2025-06-09 16:25:42.678186 starting: writing array-based template file 'PstFrom_Setup\\freyberg6_template\\wel_cn_inst14_constant.csv.tpl'\n",
      "2025-06-09 16:25:42.678186 finished: adding constant type m style parameters for file(s) ['freyberg6.wel_stress_period_data_22.txt'] took: 0:00:00\n",
      "2025-06-09 16:25:42.678186 transform was not passed, setting default tranform to 'log'\n",
      "2025-06-09 16:25:42.678186 starting: adding constant type m style parameters for file(s) ['freyberg6.wel_stress_period_data_23.txt']\n",
      "2025-06-09 16:25:42.678186 finished: using geostruct:name:struct1,nugget:0.0,structures:\n",
      "name:var1,contribution:1.0,a:60.0,anisotropy:1.0,bearing:0.0\n",
      " took: 0:00:00\n",
      "2025-06-09 16:25:42.678186 starting: loading array PstFrom_Setup\\freyberg6_template\\freyberg6.wel_stress_period_data_23.txt\n",
      "2025-06-09 16:25:42.693812 finished: loading array PstFrom_Setup\\freyberg6_template\\freyberg6.wel_stress_period_data_23.txt took: 0:00:00.015626\n",
      "2025-06-09 16:25:42.693812 loaded array 'PstFrom_Setup\\freyberg6.wel_stress_period_data_23.txt' of shape (6, 4)\n",
      "2025-06-09 16:25:42.693812 starting: writing array-style template file 'PstFrom_Setup\\freyberg6_template\\wel_cn_inst15_constant.csv.tpl'\n",
      "2025-06-09 16:25:42.693812 starting: writing template file PstFrom_Setup\\freyberg6_template\\wel_cn_inst15_constant.csv.tpl for ['wel_cn_inst:15']\n",
      "2025-06-09 16:25:42.693812 finished: writing template file PstFrom_Setup\\freyberg6_template\\wel_cn_inst15_constant.csv.tpl for ['wel_cn_inst:15'] took: 0:00:00\n",
      "2025-06-09 16:25:42.693812 starting: writing array-based template file 'PstFrom_Setup\\freyberg6_template\\wel_cn_inst15_constant.csv.tpl'\n",
      "2025-06-09 16:25:42.693812 finished: adding constant type m style parameters for file(s) ['freyberg6.wel_stress_period_data_23.txt'] took: 0:00:00.015626\n",
      "2025-06-09 16:25:42.693812 transform was not passed, setting default tranform to 'log'\n",
      "2025-06-09 16:25:42.693812 starting: adding constant type m style parameters for file(s) ['freyberg6.wel_stress_period_data_24.txt']\n",
      "2025-06-09 16:25:42.693812 starting: using geostruct:name:struct1,nugget:0.0,structures:\n",
      "name:var1,contribution:1.0,a:60.0,anisotropy:1.0,bearing:0.0\n",
      "\n",
      "2025-06-09 16:25:42.693812 starting: loading array PstFrom_Setup\\freyberg6_template\\freyberg6.wel_stress_period_data_24.txt\n",
      "2025-06-09 16:25:42.693812 finished: loading array PstFrom_Setup\\freyberg6_template\\freyberg6.wel_stress_period_data_24.txt took: 0:00:00\n",
      "2025-06-09 16:25:42.693812 loaded array 'PstFrom_Setup\\freyberg6.wel_stress_period_data_24.txt' of shape (6, 4)\n",
      "2025-06-09 16:25:42.693812 starting: writing array-style template file 'PstFrom_Setup\\freyberg6_template\\wel_cn_inst16_constant.csv.tpl'\n",
      "2025-06-09 16:25:42.693812 starting: writing template file PstFrom_Setup\\freyberg6_template\\wel_cn_inst16_constant.csv.tpl for ['wel_cn_inst:16']\n",
      "2025-06-09 16:25:42.693812 finished: writing template file PstFrom_Setup\\freyberg6_template\\wel_cn_inst16_constant.csv.tpl for ['wel_cn_inst:16'] took: 0:00:00\n",
      "2025-06-09 16:25:42.693812 starting: writing array-based template file 'PstFrom_Setup\\freyberg6_template\\wel_cn_inst16_constant.csv.tpl'\n",
      "2025-06-09 16:25:42.709438 finished: adding constant type m style parameters for file(s) ['freyberg6.wel_stress_period_data_24.txt'] took: 0:00:00.015626\n",
      "2025-06-09 16:25:42.709438 transform was not passed, setting default tranform to 'log'\n",
      "2025-06-09 16:25:42.709438 starting: adding constant type m style parameters for file(s) ['freyberg6.wel_stress_period_data_25.txt']\n",
      "2025-06-09 16:25:42.709438 finished: using geostruct:name:struct1,nugget:0.0,structures:\n",
      "name:var1,contribution:1.0,a:60.0,anisotropy:1.0,bearing:0.0\n",
      " took: 0:00:00.015626\n",
      "2025-06-09 16:25:42.709438 starting: loading array PstFrom_Setup\\freyberg6_template\\freyberg6.wel_stress_period_data_25.txt\n",
      "2025-06-09 16:25:42.709438 finished: loading array PstFrom_Setup\\freyberg6_template\\freyberg6.wel_stress_period_data_25.txt took: 0:00:00\n",
      "2025-06-09 16:25:42.709438 loaded array 'PstFrom_Setup\\freyberg6.wel_stress_period_data_25.txt' of shape (6, 4)\n",
      "2025-06-09 16:25:42.709438 starting: writing array-style template file 'PstFrom_Setup\\freyberg6_template\\wel_cn_inst17_constant.csv.tpl'\n",
      "2025-06-09 16:25:42.709438 starting: writing template file PstFrom_Setup\\freyberg6_template\\wel_cn_inst17_constant.csv.tpl for ['wel_cn_inst:17']\n",
      "2025-06-09 16:25:42.715945 finished: writing template file PstFrom_Setup\\freyberg6_template\\wel_cn_inst17_constant.csv.tpl for ['wel_cn_inst:17'] took: 0:00:00.006507\n",
      "2025-06-09 16:25:42.715945 starting: writing array-based template file 'PstFrom_Setup\\freyberg6_template\\wel_cn_inst17_constant.csv.tpl'\n",
      "2025-06-09 16:25:42.715945 finished: adding constant type m style parameters for file(s) ['freyberg6.wel_stress_period_data_25.txt'] took: 0:00:00.006507\n",
      "2025-06-09 16:25:42.715945 transform was not passed, setting default tranform to 'log'\n",
      "2025-06-09 16:25:42.715945 starting: adding constant type m style parameters for file(s) ['freyberg6.wel_stress_period_data_3.txt']\n",
      "2025-06-09 16:25:42.715945 starting: using geostruct:name:struct1,nugget:0.0,structures:\n",
      "name:var1,contribution:1.0,a:60.0,anisotropy:1.0,bearing:0.0\n",
      "\n",
      "2025-06-09 16:25:42.715945 starting: loading array PstFrom_Setup\\freyberg6_template\\freyberg6.wel_stress_period_data_3.txt\n",
      "2025-06-09 16:25:42.715945 finished: loading array PstFrom_Setup\\freyberg6_template\\freyberg6.wel_stress_period_data_3.txt took: 0:00:00\n",
      "2025-06-09 16:25:42.715945 loaded array 'PstFrom_Setup\\freyberg6.wel_stress_period_data_3.txt' of shape (6, 4)\n",
      "2025-06-09 16:25:42.715945 starting: writing array-style template file 'PstFrom_Setup\\freyberg6_template\\wel_cn_inst18_constant.csv.tpl'\n",
      "2025-06-09 16:25:42.715945 starting: writing template file PstFrom_Setup\\freyberg6_template\\wel_cn_inst18_constant.csv.tpl for ['wel_cn_inst:18']\n",
      "2025-06-09 16:25:42.715945 finished: writing template file PstFrom_Setup\\freyberg6_template\\wel_cn_inst18_constant.csv.tpl for ['wel_cn_inst:18'] took: 0:00:00\n",
      "2025-06-09 16:25:42.715945 starting: writing array-based template file 'PstFrom_Setup\\freyberg6_template\\wel_cn_inst18_constant.csv.tpl'\n"
     ]
    },
    {
     "name": "stderr",
     "output_type": "stream",
     "text": [
      "C:\\Users\\gross.DESKTOP-AIRQM2M\\anaconda3\\envs\\gmdsitut\\Lib\\site-packages\\pyemu\\logger.py:100: PyemuWarning: 2025-06-09 16:25:42.531042 WARNING: 0) Inconsistency between geostruct transform and partrans.\n",
      "\n",
      "C:\\Users\\gross.DESKTOP-AIRQM2M\\anaconda3\\envs\\gmdsitut\\Lib\\site-packages\\pyemu\\logger.py:100: PyemuWarning: 2025-06-09 16:25:42.531042 WARNING: 1) Setting geostruct transform to log\n",
      "\n",
      "C:\\Users\\gross.DESKTOP-AIRQM2M\\anaconda3\\envs\\gmdsitut\\Lib\\site-packages\\pyemu\\logger.py:100: PyemuWarning: 2025-06-09 16:25:42.531042 WARNING: -) Better to pass an appropriately transformed geostruct\n",
      "\n"
     ]
    },
    {
     "name": "stdout",
     "output_type": "stream",
     "text": [
      "2025-06-09 16:25:42.731574 finished: adding constant type m style parameters for file(s) ['freyberg6.wel_stress_period_data_3.txt'] took: 0:00:00.015629\n",
      "2025-06-09 16:25:42.731574 transform was not passed, setting default tranform to 'log'\n",
      "2025-06-09 16:25:42.731574 starting: adding constant type m style parameters for file(s) ['freyberg6.wel_stress_period_data_4.txt']\n",
      "2025-06-09 16:25:42.731574 finished: using geostruct:name:struct1,nugget:0.0,structures:\n",
      "name:var1,contribution:1.0,a:60.0,anisotropy:1.0,bearing:0.0\n",
      " took: 0:00:00.015629\n",
      "2025-06-09 16:25:42.731574 starting: loading array PstFrom_Setup\\freyberg6_template\\freyberg6.wel_stress_period_data_4.txt\n",
      "2025-06-09 16:25:42.731574 finished: loading array PstFrom_Setup\\freyberg6_template\\freyberg6.wel_stress_period_data_4.txt took: 0:00:00\n",
      "2025-06-09 16:25:42.731574 loaded array 'PstFrom_Setup\\freyberg6.wel_stress_period_data_4.txt' of shape (6, 4)\n",
      "2025-06-09 16:25:42.731574 starting: writing array-style template file 'PstFrom_Setup\\freyberg6_template\\wel_cn_inst19_constant.csv.tpl'\n",
      "2025-06-09 16:25:42.731574 starting: writing template file PstFrom_Setup\\freyberg6_template\\wel_cn_inst19_constant.csv.tpl for ['wel_cn_inst:19']\n",
      "2025-06-09 16:25:42.731574 finished: writing template file PstFrom_Setup\\freyberg6_template\\wel_cn_inst19_constant.csv.tpl for ['wel_cn_inst:19'] took: 0:00:00\n",
      "2025-06-09 16:25:42.731574 starting: writing array-based template file 'PstFrom_Setup\\freyberg6_template\\wel_cn_inst19_constant.csv.tpl'\n",
      "2025-06-09 16:25:42.731574 finished: adding constant type m style parameters for file(s) ['freyberg6.wel_stress_period_data_4.txt'] took: 0:00:00\n",
      "2025-06-09 16:25:42.731574 transform was not passed, setting default tranform to 'log'\n",
      "2025-06-09 16:25:42.731574 starting: adding constant type m style parameters for file(s) ['freyberg6.wel_stress_period_data_5.txt']\n",
      "2025-06-09 16:25:42.731574 starting: using geostruct:name:struct1,nugget:0.0,structures:\n",
      "name:var1,contribution:1.0,a:60.0,anisotropy:1.0,bearing:0.0\n",
      "\n",
      "2025-06-09 16:25:42.731574 starting: loading array PstFrom_Setup\\freyberg6_template\\freyberg6.wel_stress_period_data_5.txt\n",
      "2025-06-09 16:25:42.747201 finished: loading array PstFrom_Setup\\freyberg6_template\\freyberg6.wel_stress_period_data_5.txt took: 0:00:00.015627\n",
      "2025-06-09 16:25:42.747201 loaded array 'PstFrom_Setup\\freyberg6.wel_stress_period_data_5.txt' of shape (6, 4)\n",
      "2025-06-09 16:25:42.747201 starting: writing array-style template file 'PstFrom_Setup\\freyberg6_template\\wel_cn_inst20_constant.csv.tpl'\n",
      "2025-06-09 16:25:42.747201 starting: writing template file PstFrom_Setup\\freyberg6_template\\wel_cn_inst20_constant.csv.tpl for ['wel_cn_inst:20']\n",
      "2025-06-09 16:25:42.747201 finished: writing template file PstFrom_Setup\\freyberg6_template\\wel_cn_inst20_constant.csv.tpl for ['wel_cn_inst:20'] took: 0:00:00\n",
      "2025-06-09 16:25:42.747201 starting: writing array-based template file 'PstFrom_Setup\\freyberg6_template\\wel_cn_inst20_constant.csv.tpl'\n",
      "2025-06-09 16:25:42.747201 finished: adding constant type m style parameters for file(s) ['freyberg6.wel_stress_period_data_5.txt'] took: 0:00:00.015627\n",
      "2025-06-09 16:25:42.747201 transform was not passed, setting default tranform to 'log'\n",
      "2025-06-09 16:25:42.747201 starting: adding constant type m style parameters for file(s) ['freyberg6.wel_stress_period_data_6.txt']\n",
      "2025-06-09 16:25:42.747201 finished: using geostruct:name:struct1,nugget:0.0,structures:\n",
      "name:var1,contribution:1.0,a:60.0,anisotropy:1.0,bearing:0.0\n",
      " took: 0:00:00.015627\n",
      "2025-06-09 16:25:42.747201 starting: loading array PstFrom_Setup\\freyberg6_template\\freyberg6.wel_stress_period_data_6.txt\n",
      "2025-06-09 16:25:42.747201 finished: loading array PstFrom_Setup\\freyberg6_template\\freyberg6.wel_stress_period_data_6.txt took: 0:00:00\n",
      "2025-06-09 16:25:42.747201 loaded array 'PstFrom_Setup\\freyberg6.wel_stress_period_data_6.txt' of shape (6, 4)\n",
      "2025-06-09 16:25:42.747201 starting: writing array-style template file 'PstFrom_Setup\\freyberg6_template\\wel_cn_inst21_constant.csv.tpl'\n",
      "2025-06-09 16:25:42.747201 starting: writing template file PstFrom_Setup\\freyberg6_template\\wel_cn_inst21_constant.csv.tpl for ['wel_cn_inst:21']\n",
      "2025-06-09 16:25:42.747201 finished: writing template file PstFrom_Setup\\freyberg6_template\\wel_cn_inst21_constant.csv.tpl for ['wel_cn_inst:21'] took: 0:00:00\n",
      "2025-06-09 16:25:42.747201 starting: writing array-based template file 'PstFrom_Setup\\freyberg6_template\\wel_cn_inst21_constant.csv.tpl'\n",
      "2025-06-09 16:25:42.762827 finished: adding constant type m style parameters for file(s) ['freyberg6.wel_stress_period_data_6.txt'] took: 0:00:00.015626\n",
      "2025-06-09 16:25:42.762827 transform was not passed, setting default tranform to 'log'\n",
      "2025-06-09 16:25:42.762827 starting: adding constant type m style parameters for file(s) ['freyberg6.wel_stress_period_data_7.txt']\n",
      "2025-06-09 16:25:42.762827 starting: using geostruct:name:struct1,nugget:0.0,structures:\n",
      "name:var1,contribution:1.0,a:60.0,anisotropy:1.0,bearing:0.0\n",
      "\n",
      "2025-06-09 16:25:42.762827 starting: loading array PstFrom_Setup\\freyberg6_template\\freyberg6.wel_stress_period_data_7.txt\n",
      "2025-06-09 16:25:42.762827 finished: loading array PstFrom_Setup\\freyberg6_template\\freyberg6.wel_stress_period_data_7.txt took: 0:00:00\n",
      "2025-06-09 16:25:42.762827 loaded array 'PstFrom_Setup\\freyberg6.wel_stress_period_data_7.txt' of shape (6, 4)\n",
      "2025-06-09 16:25:42.762827 starting: writing array-style template file 'PstFrom_Setup\\freyberg6_template\\wel_cn_inst22_constant.csv.tpl'\n",
      "2025-06-09 16:25:42.762827 starting: writing template file PstFrom_Setup\\freyberg6_template\\wel_cn_inst22_constant.csv.tpl for ['wel_cn_inst:22']\n",
      "2025-06-09 16:25:42.762827 finished: writing template file PstFrom_Setup\\freyberg6_template\\wel_cn_inst22_constant.csv.tpl for ['wel_cn_inst:22'] took: 0:00:00\n",
      "2025-06-09 16:25:42.762827 starting: writing array-based template file 'PstFrom_Setup\\freyberg6_template\\wel_cn_inst22_constant.csv.tpl'\n",
      "2025-06-09 16:25:42.762827 finished: adding constant type m style parameters for file(s) ['freyberg6.wel_stress_period_data_7.txt'] took: 0:00:00\n",
      "2025-06-09 16:25:42.762827 transform was not passed, setting default tranform to 'log'\n",
      "2025-06-09 16:25:42.762827 starting: adding constant type m style parameters for file(s) ['freyberg6.wel_stress_period_data_8.txt']\n",
      "2025-06-09 16:25:42.762827 finished: using geostruct:name:struct1,nugget:0.0,structures:\n",
      "name:var1,contribution:1.0,a:60.0,anisotropy:1.0,bearing:0.0\n",
      " took: 0:00:00\n",
      "2025-06-09 16:25:42.762827 starting: loading array PstFrom_Setup\\freyberg6_template\\freyberg6.wel_stress_period_data_8.txt\n",
      "2025-06-09 16:25:42.778453 finished: loading array PstFrom_Setup\\freyberg6_template\\freyberg6.wel_stress_period_data_8.txt took: 0:00:00.015626\n",
      "2025-06-09 16:25:42.778453 loaded array 'PstFrom_Setup\\freyberg6.wel_stress_period_data_8.txt' of shape (6, 4)\n",
      "2025-06-09 16:25:42.778453 starting: writing array-style template file 'PstFrom_Setup\\freyberg6_template\\wel_cn_inst23_constant.csv.tpl'\n",
      "2025-06-09 16:25:42.778453 starting: writing template file PstFrom_Setup\\freyberg6_template\\wel_cn_inst23_constant.csv.tpl for ['wel_cn_inst:23']\n",
      "2025-06-09 16:25:42.778453 finished: writing template file PstFrom_Setup\\freyberg6_template\\wel_cn_inst23_constant.csv.tpl for ['wel_cn_inst:23'] took: 0:00:00\n",
      "2025-06-09 16:25:42.778453 starting: writing array-based template file 'PstFrom_Setup\\freyberg6_template\\wel_cn_inst23_constant.csv.tpl'\n",
      "2025-06-09 16:25:42.778453 finished: adding constant type m style parameters for file(s) ['freyberg6.wel_stress_period_data_8.txt'] took: 0:00:00.015626\n",
      "2025-06-09 16:25:42.778453 transform was not passed, setting default tranform to 'log'\n",
      "2025-06-09 16:25:42.778453 starting: adding constant type m style parameters for file(s) ['freyberg6.wel_stress_period_data_9.txt']\n",
      "2025-06-09 16:25:42.778453 starting: using geostruct:name:struct1,nugget:0.0,structures:\n",
      "name:var1,contribution:1.0,a:60.0,anisotropy:1.0,bearing:0.0\n",
      "\n",
      "2025-06-09 16:25:42.778453 starting: loading array PstFrom_Setup\\freyberg6_template\\freyberg6.wel_stress_period_data_9.txt\n",
      "2025-06-09 16:25:42.778453 finished: loading array PstFrom_Setup\\freyberg6_template\\freyberg6.wel_stress_period_data_9.txt took: 0:00:00\n",
      "2025-06-09 16:25:42.778453 loaded array 'PstFrom_Setup\\freyberg6.wel_stress_period_data_9.txt' of shape (6, 4)\n",
      "2025-06-09 16:25:42.778453 starting: writing array-style template file 'PstFrom_Setup\\freyberg6_template\\wel_cn_inst24_constant.csv.tpl'\n",
      "2025-06-09 16:25:42.778453 starting: writing template file PstFrom_Setup\\freyberg6_template\\wel_cn_inst24_constant.csv.tpl for ['wel_cn_inst:24']\n",
      "2025-06-09 16:25:42.778453 finished: writing template file PstFrom_Setup\\freyberg6_template\\wel_cn_inst24_constant.csv.tpl for ['wel_cn_inst:24'] took: 0:00:00\n",
      "2025-06-09 16:25:42.778453 starting: writing array-based template file 'PstFrom_Setup\\freyberg6_template\\wel_cn_inst24_constant.csv.tpl'\n",
      "2025-06-09 16:25:42.794079 finished: adding constant type m style parameters for file(s) ['freyberg6.wel_stress_period_data_9.txt'] took: 0:00:00.015626\n"
     ]
    }
   ],
   "source": [
    "dts = pd.to_datetime(pf.start_datetime) + pd.to_timedelta(np.cumsum(sim.tdis.perioddata.array[\"perlen\"]),unit='d')\n",
    "for wel_file in wel_files: \n",
    "    kper = int(wel_file.split('.')[1].split('_')[-1]) - 1  \n",
    "    pf.add_parameters(filenames=wel_file, par_type=\"constant\",par_name_base=\"wel_cn\",pargp=\"wel_cn\", upper_bound = 1.5, \n",
    "                      lower_bound=0.5,datetime=dts[kper],geostruct=temporal_gs)\n",
    "pst = pf.build_pst()"
   ]
  },
  {
   "cell_type": "code",
   "execution_count": 61,
   "metadata": {},
   "outputs": [
    {
     "name": "stdout",
     "output_type": "stream",
     "text": [
      "2025-06-09 16:44:15.845598 starting: building prior covariance matrix\n",
      "2025-06-09 16:44:16.076557 finished: building prior covariance matrix took: 0:00:00.230959\n",
      "(1437, 1437)\n"
     ]
    }
   ],
   "source": [
    "cov = pf.build_prior(fmt=\"none\") ; x = cov.x.copy() ;  x[x==0] = np.NaN    ; print(x.shape) # see border ... end  (row, col)\n",
    "#pip install objsize ; import objsize ; objsize.get_deep_size(cov)"
   ]
  },
  {
   "cell_type": "code",
   "execution_count": 47,
   "metadata": {},
   "outputs": [
    {
     "data": {
      "image/png": "[encoded data removed]",
      "text/plain": [
       "<Figure size 600x200 with 4 Axes>"
      ]
     },
     "metadata": {},
     "output_type": "display_data"
    }
   ],
   "source": [
    "fig = plt.figure(figsize=(6, 2))                  \n",
    "ax = fig.add_subplot(121,aspect=\"equal\") ;im = plt.imshow(x, interpolation='none') ; plt.gca().set_facecolor('k') ; cb = plt.colorbar()\n",
    "ax = fig.add_subplot(122,aspect=\"equal\") ;im = ax.imshow(x[1415:,1415:], interpolation='none') ; ax.set_facecolor('k') ; cn=plt.colorbar(im) ;plt.show()"
   ]
  },
  {
   "cell_type": "markdown",
   "metadata": {},
   "source": [
    "<font color='red'> **new** </font> "
   ]
  },
  {
   "cell_type": "markdown",
   "metadata": {},
   "source": [
    "### Spatial pars on same model files\n",
    "To compliment those stress period level constant multipliers, lets add a **set of multipliers**, one for each pumping well, that is **broadcast across all stress periods** (and let's add spatial correlation for these):"
   ]
  },
  {
   "cell_type": "code",
   "execution_count": null,
   "metadata": {
    "scrolled": true
   },
   "outputs": [],
   "source": [
    "pf.add_parameters(\n",
    "    filenames=wel_files,  # one set of parameters across all files\n",
    "    par_type=\"grid\",\n",
    "    par_name_base=\"wel_gr\",\n",
    "    pargp=\"wel_gr\", \n",
    "    upper_bound = 1.5, \n",
    "    lower_bound=0.5,\n",
    "    geostruct=grid_gs  # spatial covariance\n",
    ")"
   ]
  },
  {
   "cell_type": "code",
   "execution_count": null,
   "metadata": {},
   "outputs": [],
   "source": [
    "pst = pf.build_pst()\n",
    "cov = pf.build_prior(fmt=\"none\")\n",
    "x = cov.x.copy()\n",
    "x[x==0] = np.NaN\n",
    "fig = plt.figure(figsize=(12,12))\n",
    "im = plt.imshow(x, interpolation='none')\n",
    "plt.gca().set_facecolor('k')\n",
    "cb = plt.colorbar(im)\n",
    "\n",
    "fig, ax = plt.subplots(1,1, figsize=(12,12))\n",
    "im = ax.imshow(x[1415:,1415:], interpolation='none')\n",
    "ax.set_facecolor('k')\n",
    "cn = plt.colorbar(im)"
   ]
  },
  {
   "cell_type": "markdown",
   "metadata": {},
   "source": [
    "Boom!"
   ]
  },
  {
   "cell_type": "markdown",
   "metadata": {},
   "source": [
    "## Generating a prior parameter ensemble\n",
    "\n",
    "This is crazy easy - using the previous defined correlation structures, we can draw from the block diagonal covariance matrix (and use spectral simulation for the grid-scale parameters):"
   ]
  },
  {
   "cell_type": "code",
   "execution_count": null,
   "metadata": {},
   "outputs": [],
   "source": [
    "pe = pf.draw(num_reals=100,use_specsim=True)"
   ]
  },
  {
   "cell_type": "code",
   "execution_count": null,
   "metadata": {
    "scrolled": true
   },
   "outputs": [],
   "source": [
    "pe.to_csv(os.path.join(template_ws,\"prior.csv\"))\n",
    "display(pe)"
   ]
  },
  {
   "cell_type": "code",
   "execution_count": null,
   "metadata": {},
   "outputs": [],
   "source": [
    "display(pe.loc[:,pst.adj_par_names[:5]])\n",
    "fig, ax = plt.subplots(1,1, figsize=(12,8))\n",
    "h = pe.loc[:,pst.adj_par_names[0]]._df.hist(bins=20)"
   ]
  },
  {
   "cell_type": "markdown",
   "metadata": {},
   "source": [
    "---\n",
    "\n",
    "---\n",
    "\n",
    "---\n",
    "\n",
    "___\n",
    "\n",
    "\n",
    "\n",
    "# Industrial strength control file setup\n",
    "\n",
    "Let's kick it up a notch!"
   ]
  },
  {
   "cell_type": "code",
   "execution_count": null,
   "metadata": {
    "scrolled": true
   },
   "outputs": [],
   "source": [
    "# load the mf6 model with flopy to get the spatial reference\n",
    "sim = flopy.mf6.MFSimulation.load(sim_ws=sim_ws)\n",
    "m = sim.get_model(\"freyberg6\")\n",
    "\n",
    "# work out the spatial rediscretization factor\n",
    "redis_fac = m.dis.nrow.data / 40\n",
    "\n",
    "# where the pest interface will be constructed\n",
    "template_ws = \"freyberg6_templateeeeeeeeeee\"\n",
    "\n",
    "\n",
    "# instantiate PstFrom object\n",
    "pf = pyemu.utils.PstFrom(\n",
    "    original_d=sim_ws, \n",
    "    new_d=template_ws,\n",
    "    remove_existing=True,\n",
    "    longnames=True, \n",
    "    spatial_reference=m.modelgrid,\n",
    "    zero_based=False,\n",
    "    start_datetime=\"1-1-2018\"\n",
    ")\n",
    "\n",
    "\n",
    "\n",
    "\n"
   ]
  },
  {
   "cell_type": "markdown",
   "metadata": {},
   "source": [
    "## Observations\n",
    "add observations from the sfr and heads observation output files...but instead using the \"time\" in these files,  let's use datetime instead. To do this, we need some trickeration\n",
    "\n",
    "First we need to **add a generic function to the forward run process** that does the swap from time to datetime.  Its stored in a stand alone python script called \"helpers.py\"\n"
   ]
  },
  {
   "cell_type": "code",
   "execution_count": null,
   "metadata": {},
   "outputs": [],
   "source": [
    "\n",
    "# this simply adds that helper function to the forward run process.  The None arg says\n",
    "# dont actually add a call to this function yet\n",
    "pf.add_py_function(\"helpers.py\", \"replace_time_with_datetime(csv_file)\", is_pre_cmd=None)\n",
    "\n",
    "import helpers\n",
    "# process the sfr file\n",
    "out_file,df = helpers.replace_time_with_datetime(os.path.join(template_ws, \"sfr.csv\"))\n",
    "out_file = os.path.split(out_file)[-1]\n",
    "pf.post_py_cmds.append(\"replace_time_with_datetime('sfr.csv')\")  # Add to forward run file\n",
    "pf.add_observations(\n",
    "    out_file, \n",
    "    insfile=out_file+\".ins\", \n",
    "    index_cols=\"datetime\", \n",
    "    use_cols=list(df.columns.values),\n",
    "    prefix=\"sfr\", \n",
    "    ofile_sep=\",\"\n",
    ")\n",
    "\n",
    "# process the heads file\n",
    "out_file,df = helpers.replace_time_with_datetime(os.path.join(template_ws, \"heads.csv\"))\n",
    "out_file = os.path.split(out_file)[-1]\n",
    "pf.post_py_cmds.append(\"replace_time_with_datetime('heads.csv')\")\n",
    "pf.add_observations(\n",
    "    out_file, \n",
    "    insfile=out_file+\".ins\", \n",
    "    index_cols=\"datetime\", \n",
    "    use_cols=list(df.columns.values),\n",
    "    prefix=\"hds\", \n",
    "    ofile_sep=\",\"\n",
    ")"
   ]
  },
  {
   "cell_type": "markdown",
   "metadata": {},
   "source": [
    "## Parameters"
   ]
  },
  {
   "cell_type": "code",
   "execution_count": null,
   "metadata": {
    "scrolled": true
   },
   "outputs": [],
   "source": [
    "# the geostruct object for grid-scale parameters\n",
    "grid_v = pyemu.geostats.ExpVario(contribution=1.0,a=500)\n",
    "grid_gs = pyemu.geostats.GeoStruct(variograms=grid_v)\n",
    "\n",
    "# the geostruct object for pilot-point-scale parameters\n",
    "pp_v = pyemu.geostats.ExpVario(contribution=1.0, a=2000)\n",
    "pp_gs = pyemu.geostats.GeoStruct(variograms=pp_v)\n",
    "\n",
    "# the geostruct for recharge grid-scale parameters\n",
    "rch_v = pyemu.geostats.ExpVario(contribution=1.0, a=1000)\n",
    "rch_gs = pyemu.geostats.GeoStruct(variograms=rch_v)\n",
    "\n",
    "# the geostruct for temporal correlation\n",
    "temporal_v = pyemu.geostats.ExpVario(contribution=1.0,a=60)\n",
    "temporal_gs = pyemu.geostats.GeoStruct(variograms=temporal_v)\n",
    "\n",
    "# import flopy as part of the forward run process\n",
    "pf.extra_py_imports.append('flopy')\n",
    "\n",
    "# use the idomain array for masking parameter locations\n",
    "ib = m.dis.idomain[0].array\n",
    "\n",
    "# define a dict that contains file name tags and lower/upper bound information\n",
    "tags = {\"npf_k_\":[0.1,10.],\"npf_k33_\":[.1,10],\"sto_ss\":[.1,10],\n",
    "        \"sto_sy\":[.9,1.1],\"rch_recharge\":[.5,1.5]}\n",
    "dts = pd.to_datetime(\"1-1-2018\") + \\\n",
    "      pd.to_timedelta(np.cumsum(sim.tdis.perioddata.array[\"perlen\"]),unit=\"d\")\n",
    "\n",
    "# loop over each tag, bound info pair\n",
    "for tag,bnd in tags.items():\n",
    "    lb,ub = bnd[0],bnd[1]\n",
    "    # find all array based files that have the tag in the name\n",
    "    arr_files = [f for f in os.listdir(template_ws) if tag in f \n",
    "\t\t\t\t and f.endswith(\".txt\")]\n",
    "\n",
    "    if len(arr_files) == 0:\n",
    "        print(\"warning: no array files found for \",tag)\n",
    "        continue\n",
    "    \n",
    "    # make sure each array file in nrow X ncol dimensions (not wrapped, sigh)\n",
    "    for arr_file in arr_files:\n",
    "        arr = np.loadtxt(os.path.join(template_ws,arr_file)).reshape(ib.shape)\n",
    "        np.savetxt(os.path.join(template_ws,arr_file),arr,fmt=\"%15.6E\")\n",
    "    \n",
    "    # if this is the recharge tag\n",
    "    if \"rch\" in tag:\n",
    "        # add one set of grid-scale parameters for all files\n",
    "        pf.add_parameters(\n",
    "            filenames=arr_files, \n",
    "            par_type=\"grid\", \n",
    "            par_name_base=\"rch_gr\",\n",
    "            pargp=\"rch_gr\", \n",
    "            zone_array=ib, \n",
    "            upper_bound=ub, \n",
    "            lower_bound=lb,\n",
    "            geostruct=rch_gs\n",
    "        )\n",
    "\n",
    "        # add one constant parameter for each array, and \n",
    "        # assign it a datetime so we can work out the \n",
    "        # temporal correlation\n",
    "        for arr_file in arr_files:\n",
    "            kper = int(arr_file.split('.')[1].split('_')[-1]) - 1\n",
    "            pf.add_parameters(\n",
    "                filenames=arr_file,\n",
    "                par_type=\"constant\",\n",
    "                par_name_base=arr_file.split('.')[1]+\"_cn\",\n",
    "                pargp=\"rch_const\",\n",
    "                zone_array=ib,\n",
    "                upper_bound=ub,\n",
    "                lower_bound=lb,\n",
    "                geostruct=temporal_gs,\n",
    "                datetime=dts[kper]\n",
    "            )\n",
    "    # otherwise...\n",
    "    else:\n",
    "        # for each array add both grid-scale and pilot-point scale parameters\n",
    "        for arr_file in arr_files:\n",
    "            pf.add_parameters(\n",
    "                filenames=arr_file,\n",
    "                par_type=\"grid\",\n",
    "                par_name_base=arr_file.split('.')[1]+\"_gr\",\n",
    "                pargp=arr_file.split('.')[1]+\"_gr\",\n",
    "                zone_array=ib,\n",
    "                upper_bound=ub,\n",
    "                lower_bound=lb,\n",
    "                geostruct=grid_gs\n",
    "            )\n",
    "            pf.add_parameters(\n",
    "                filenames=arr_file, \n",
    "                par_type=\"pilotpoints\",\n",
    "                par_name_base=arr_file.split('.')[1]+\"_pp\",\n",
    "                pargp=arr_file.split('.')[1]+\"_pp\",\n",
    "                zone_array=ib,\n",
    "                upper_bound=ub,\n",
    "                lower_bound=lb,\n",
    "                pp_space=int(5 * redis_fac),\n",
    "                geostruct=pp_gs\n",
    "            )\n",
    "\n",
    "\n",
    "# get all the list-type files associated with the wel package\n",
    "list_files = [f for f in os.listdir(sim_ws) if \n",
    "\t\t\t  \"freyberg6.wel_stress_period_data_\" \n",
    "              in f and f.endswith(\".txt\")]\n",
    "# for each wel-package list-type file \n",
    "for list_file in list_files:\n",
    "    kper = int(list_file.split(\".\")[1].split('_')[-1]) - 1\n",
    "    # add spatially constant, but temporally correlated parameter\n",
    "    pf.add_parameters(\n",
    "        filenames=list_file,\n",
    "        par_type=\"constant\",\n",
    "        par_name_base=\"twel_mlt_{0}\".format(kper),\n",
    "        pargp=\"twel_mlt\".format(kper),\n",
    "        index_cols=[0,1,2],\n",
    "        use_cols=[3],\n",
    "        upper_bound=1.5,\n",
    "        lower_bound=0.5, \n",
    "        datetime=dts[kper], \n",
    "        geostruct=temporal_gs\n",
    "    )\n",
    "\n",
    "    # add temporally indep, but spatially correlated grid-scale \n",
    "    # parameters, one per well\n",
    "    pf.add_parameters(\n",
    "        filenames=list_file, \n",
    "        par_type=\"grid\", \n",
    "        par_name_base=\"wel_grid_{0}\".format(kper),\n",
    "        pargp=\"wel_{0}\".format(kper), \n",
    "        index_cols=[0, 1, 2], \n",
    "        use_cols=[3],\n",
    "        upper_bound=1.5, \n",
    "        lower_bound=0.5\n",
    "    )\n",
    "\n",
    "# add grid-scale parameters for SFR reach conductance.  \n",
    "# Use layer, row, col and reach number in the \n",
    "# parameter names\n",
    "pf.add_parameters(\n",
    "    filenames=\"freyberg6.sfr_packagedata.txt\", \n",
    "    par_name_base=\"sfr_rhk\",\n",
    "    pargp=\"sfr_rhk\", \n",
    "    index_cols=[0,1,2,3], \n",
    "    use_cols=[9], \n",
    "    upper_bound=10.,\n",
    "    lower_bound=0.1,\n",
    "    par_type=\"grid\"\n",
    ")\n"
   ]
  },
  {
   "cell_type": "markdown",
   "metadata": {},
   "source": [
    "## Final bits"
   ]
  },
  {
   "cell_type": "code",
   "execution_count": null,
   "metadata": {
    "scrolled": true
   },
   "outputs": [],
   "source": [
    "# add model run command\n",
    "pf.mod_sys_cmds.append(\"mf6\")\n",
    "\n",
    "# build pest control file\n",
    "pst = pf.build_pst('freyberg6.pst',version=2)\n",
    "\n",
    "# draw from the prior and save the ensemble in binary format\n",
    "pe = pf.draw(300, use_specsim=True)\n",
    "pe.to_binary(os.path.join(template_ws, \"prior.jcb\"))\n",
    "\n",
    "# set some algorithmic controls\n",
    "pst.control_data.noptmax = 0\n",
    "\n",
    "# write the control file\n",
    "pst.write(os.path.join(pf.new_d, \"freyberg.pst\"))\n",
    "\n",
    "# run with noptmax = 0\n",
    "pyemu.os_utils.run(\"{0} freyberg.pst\".format(\n",
    "    os.path.join(\"pestpp-ies\")), cwd=pf.new_d)\n",
    "\n",
    "# make sure it ran\n",
    "res_file = os.path.join(pf.new_d, \"freyberg.base.rei\")\n",
    "assert os.path.exists(res_file), res_file\n",
    "pst.set_res(res_file)\n",
    "print(pst.phi)\n",
    "\n",
    "# if successful, set noptmax = -1 for prior-based Monte Carlo\n",
    "pst.control_data.noptmax = -1\n",
    "\n",
    "# define what file has the prior parameter ensemble\n",
    "pst.pestpp_options[\"ies_par_en\"] = \"prior.jcb\"\n",
    "\n",
    "# write the updated pest control file\n",
    "pst.write(os.path.join(pf.new_d, \"freyberg6.pst\"),version=2)"
   ]
  },
  {
   "cell_type": "code",
   "execution_count": null,
   "metadata": {},
   "outputs": [],
   "source": []
  }
 ],
 "metadata": {
  "kernelspec": {
   "display_name": "Python 3 (ipykernel)",
   "language": "python",
   "name": "python3"
  },
  "language_info": {
   "codemirror_mode": {
    "name": "ipython",
    "version": 3
   },
   "file_extension": ".py",
   "mimetype": "text/x-python",
   "name": "python",
   "nbconvert_exporter": "python",
   "pygments_lexer": "ipython3",
   "version": "3.11.11"
  }
 },
 "nbformat": 4,
 "nbformat_minor": 4
}
