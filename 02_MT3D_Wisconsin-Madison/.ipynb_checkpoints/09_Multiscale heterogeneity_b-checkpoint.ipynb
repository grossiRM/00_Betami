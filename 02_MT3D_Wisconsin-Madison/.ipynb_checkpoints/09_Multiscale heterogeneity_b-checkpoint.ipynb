{
 "cells": [
  {
   "cell_type": "markdown",
   "metadata": {},
   "source": [
    "**09_Multiscale heterogeneity**"
   ]
  },
  {
   "cell_type": "code",
   "execution_count": 1,
   "metadata": {},
   "outputs": [],
   "source": [
    "import flopy; import sys; import pathlib; import os; import time; import numpy as np; import matplotlib.pyplot as plt ; import pandas as pd\n",
    "from pathlib import Path \n",
    "exe_name_mf = 'E:\\\\15_REPOS\\\\00_BETAMI\\\\bin\\\\mf2005'                   ; exe_name_mt = 'E:\\\\15_REPOS\\\\00_BETAMI\\\\bin\\\\mt3d-usgs_1.1.0_64'"
   ]
  },
  {
   "cell_type": "code",
   "execution_count": 2,
   "metadata": {},
   "outputs": [],
   "source": [
    "dirname = sim_ws  = Path(\"./b09\")                    ; sim_ws.mkdir(exist_ok=True)      ; sim_name = example_name = \"c09\"\n",
    "exe_name  = 'E:\\\\15_REPOS\\\\00_BETAMI\\\\bin\\\\mf6.exe'  ; workspace = figs_path = sim_ws   ; data_f = ('E:\\\\15_REPOS\\\\00_BETAMI\\\\bin\\\\Madison')   \n",
    "data_1 = 'perm_2d_correlat_10_md_500_var_n0101.csv'   ; data_p1 = os.path.join(data_f, data_1)    \n",
    "data_2 = 'perm_2d_correlat_10_md_500_var_n0102.csv'   ; data_p2 = os.path.join(data_f, data_2)             \n",
    "data_3 = 'perm_2d_correlat_10_md_500_var_n0103.csv'   ; data_p3 = os.path.join(data_f, data_3)             "
   ]
  },
  {
   "cell_type": "code",
   "execution_count": 5,
   "metadata": {},
   "outputs": [],
   "source": [
    "def model_2D(dirname, perlen_mt, hk, al, coarsen_factor):\n",
    "    model_ws = os.path.join(workdir, dirname)                        \n",
    "\n",
    "    itmuni   = 4                     ; mt_tunit = 'D'                ; lenuni = 2                    ; mt_lunit = 'M'   \n",
    "    perlen_mf = [np.sum(perlen_mt)]  ; nper_mf  = len(perlen_mf)     ; nper   = len(perlen_mt)       ; nprs     = 100    ; hk_size  = hk.shape\n",
    "    nlay      = hk_size[0]           ; nrow = hk_size[1]             ; ncol = hk_size[2]             ; # botm=-np.linspace(delv,delv*nlay,nlay)\n",
    "    delv      = 0.25*coarsen_factor  ; delr = 0.25*coarsen_factor    ; delc = 1*coarsen_factor       #______________________ coarsen_factor\n",
    "    laytyp = 0                       ; Lx = (ncol - 1) * delr        ; prsity = 0.3\n",
    "\n",
    "    timprs = np.linspace(0, np.sum(perlen_mf), nprs, endpoint = False)\n",
    "    ibound = np.ones((nlay, nrow, ncol) , dtype=int)                 ; ibound[0,:,0]= -1      ; ibound[0,:,-1] = -1 #(index)inlet|outlet\n",
    "    strt   = np.zeros((nlay, nrow, ncol), dtype=float) ; h1 = 1.5    ; strt  [0,:,0]= h1      ; print(\"H diff across model: \" + str(h1) + \"m\")\n",
    "    icbund = np.ones((nlay, nrow, ncol) , dtype=int)\n",
    "    sconc  = np.zeros((nlay, nrow, ncol), dtype=float)               ; C_in = [1.0, 0.0]      ; itype = -1\n",
    "\n",
    "    cwell_info = np.zeros((nrow, 5), dtype=float)                    \n",
    "    for row in range(0, nrow):   cwell_info[row] = [0, row, 0, C_in[0], itype] \n",
    "    cwell_info2       = cwell_info.copy()   ; cwell_info2[:,3]  = C_in[1] ; spd_mt = {0:cwell_info, 1:cwell_info2} ;  \n",
    "    \n",
    "    modelname_mf = dirname + '_mf'    \n",
    "    mf = flopy.modflow.Modflow     (modelname=modelname_mf, model_ws=model_ws, exe_name=exe_name_mf)\n",
    "    dis = flopy.modflow.ModflowDis (mf, nlay=nlay, nrow=nrow, ncol=ncol, nper=nper_mf,delr=delr, delc=delc, top=0., botm=[0 - delv],\n",
    "                                    perlen=perlen_mf, itmuni=itmuni, lenuni=lenuni)\n",
    "    flopy.modflow.ModflowBas (mf, ibound=ibound, strt=strt)\n",
    "    flopy.modflow.ModflowLpf (mf, hk=hk, laytyp=laytyp)\n",
    "    flopy.modflow.ModflowPcg (mf)\n",
    "    flopy.modflow.ModflowLmt (mf)\n",
    "    flopy.modflow.ModflowOc   (mf)  ; mf.write_input()      ; mf.run_model(silent=True)                  ; modelname_mt = dirname + '_mt'\n",
    "    mt = flopy.mt3d.Mt3dms   (modelname=modelname_mt, model_ws=model_ws, exe_name=exe_name_mt, modflowmodel=mf)  \n",
    "    flopy.mt3d.Mt3dBtn (mt, icbund=icbund, prsity=prsity, sconc=sconc, tunit=mt_tunit, lunit=mt_lunit, \n",
    "                              nper=nper,perlen=perlen_mt, nprs=nprs, timprs=timprs)          \n",
    "    mixelm = -1\n",
    "    flopy.mt3d.Mt3dAdv (mt, mixelm=mixelm)\n",
    "    flopy.mt3d.Mt3dDsp (mt, al=al)\n",
    "    flopy.mt3d.Mt3dSsm (mt, stress_period_data=spd_mt)\n",
    "    flopy.mt3d.Mt3dGcg (mt)                                          \n",
    "    mt.write_input()    \n",
    "    \n",
    "    fname = os.path.join(model_ws, 'MT3D001.UCN')\n",
    "    if os.path.isfile(fname):\n",
    "        os.remove(fname)                                                  \n",
    "    \n",
    "    mt.run_model(silent=True)\n",
    "   \n",
    "    return mf, mt, times, conc, heads"
   ]
  },
  {
   "cell_type": "code",
   "execution_count": null,
   "metadata": {},
   "outputs": [],
   "source": [
    "\n",
    "    fname = os.path.join(model_ws, modelname_mf+'.hds')  ; hdobj = flopy.utils.HeadFile(fname)    ; heads = hdobj.get_data()\n",
    "    fname = os.path.join(model_ws, 'MT3D001.UCN')        ; ucnobj = flopy.utils.UcnFile(fname)    ; times = np.array(ucnobj.get_times())\n",
    "    conc = ucnobj.get_alldata()"
   ]
  },
  {
   "cell_type": "code",
   "execution_count": null,
   "metadata": {},
   "outputs": [],
   "source": []
  },
  {
   "cell_type": "code",
   "execution_count": null,
   "metadata": {},
   "outputs": [],
   "source": [
    "kdata_m2 = np.loadtxt(data1, delimiter=',')               ;  nrow = int(kdata_m2[-2]) ;  ncol = int(kdata_m2[-1]) ; \n",
    "kdata_m2 = kdata_m2[0:-2] ;  rawk_m2 = kdata_m2.reshape(1, nrow, ncol)   ; real1_cmsec = rawk_m2*(1000*9.81*3600*24/8.9E-4)  # m/d"
   ]
  },
  {
   "cell_type": "code",
   "execution_count": null,
   "metadata": {},
   "outputs": [],
   "source": [
    "def plot_2d(map_data, dx, dy, colorbar_label, title, cmap):\n",
    "    r, c = np.shape(map_data)                   ; x_coord = np.linspace(0, dx*c, c+1)   ; y_coord = np.linspace(0, dy*r, r+1)\n",
    "    X, Y = np.meshgrid(x_coord, y_coord)        ; plt.figure(figsize=(6, 2), dpi=100) \n",
    "    plt.pcolormesh(X, Y, map_data, cmap=cmap, shading = 'auto') ; plt.gca().set_aspect('equal')  ; cbar = plt.colorbar() \n",
    "    cbar.set_label(colorbar_label) ; plt.tick_params(axis='both', which='major') ; plt.xlim((0, dx*c)) ; plt.ylim((0, dy*r)); plt.title(title)\n",
    "    # plot_2d(real1_cmsec[0,:,:], 1, 1, '[m/day]', 'Realization 1 hydraulic conductivity', 'viridis')\n",
    "\n",
    "def coarsen_geomean(array2d, coarseness):\n",
    "    array_size = array2d.shape          ; rem0 = array_size[0] % coarseness    ; rem1 = array_size[1] % coarseness\n",
    "    if rem0 + rem1 > 0:\n",
    "        raise NameError('array is not divisible by coarseness factor')\n",
    "    coarse_array = np.zeros([int(array_size[0]/coarseness), int(array_size[1]/coarseness)])\n",
    "    n = coarseness**2  ; rind = 0\n",
    "    for i in range(0, array_size[0], coarseness):\n",
    "        cind = 0\n",
    "        for j in range(0, array_size[1], coarseness):\n",
    "            geo_mean_cell = np.exp(np.sum(np.log(array2d[ i:i + coarseness, j:j + coarseness] ))/n)\n",
    "            coarse_array[rind, cind] = geo_mean_cell\n",
    "            cind += 1\n",
    "        rind +=1\n",
    "    return coarse_array\n",
    "    \n",
    "geo_mean     = np.exp(np.sum(np.log(real1_cmsec))/real1_cmsec.size)*np.ones([1, nrow, ncol])\n",
    "real1_4x     = coarsen_geomean(real1_cmsec[0,:,:], 4)\n",
    "cnrow, cncol = real1_4x.shape\n",
    "real1_4x_3d  = real1_4x.reshape(1, cnrow, cncol)  ; plot_2d(real1_4x_3d[0,:,:], 4, 4, '[m/day]', 'Realization 1 coarsened K', 'viridis')\n",
    "real1_12x    = coarsen_geomean(real1_cmsec[0,:,:], 12)\n",
    "cnrow, cncol = real1_12x.shape\n",
    "real1_12x_3d = real1_12x.reshape(1, cnrow, cncol) ; plot_2d(real1_12x_3d[0,:,:],12,12,'[m/day]', 'Realization 1 coarsened K', 'viridis')"
   ]
  },
  {
   "cell_type": "code",
   "execution_count": null,
   "metadata": {},
   "outputs": [],
   "source": [
    "dirname = 'multiscale1'     ; perlen_mt = [7, 3*365]        ; al = 1\n",
    "mf, mt, times, conc_hom     , heads       = model_2D(dirname, perlen_mt, geo_mean     , al, 1)\n",
    "mf, mt, times1,    conc1    , heads1      = model_2D(dirname, perlen_mt, real1_cmsec  , al, 1)\n",
    "mf, mt, times1c4,  conc_1c4 , heads_1c4   = model_2D(dirname, perlen_mt, real1_4x_3d  , al, 4)\n",
    "mf, mt, times1c12, conc_1c12, heads_1c12  = model_2D(dirname, perlen_mt, real1_12x_3d , al, 12)"
   ]
  },
  {
   "cell_type": "code",
   "execution_count": null,
   "metadata": {},
   "outputs": [],
   "source": [
    "plot_2d(heads1[0,:,:], 1, 1,      '[m]',    'Realization 1 steady state heads', 'Blues')\n",
    "plot_2d(conc1[16,0,:,:], 1, 1,    '[C/C0]', 'Realization 1 concentration after 6 months', 'Reds')\n",
    "plot_2d(conc_1c4[16,0,:,:], 4, 4, '[C/C0]', 'Realization 1 concentration after 6 months', 'Reds')"
   ]
  },
  {
   "cell_type": "code",
   "execution_count": null,
   "metadata": {},
   "outputs": [],
   "source": [
    "C_btc_r1_geomean = np.mean([conc_hom[:, 0, :, -1]], axis=2)\n",
    "C_btc_r1 = np.mean([conc1[:, 0, :, -1]], axis=2)\n",
    "C_btc_r1c4 = np.mean([conc_1c4[:, 0, :, -1]], axis=2)\n",
    "C_btc_r1c12 = np.mean([conc_1c12[:, 0, :, -1]], axis=2)\n",
    "\n",
    "plt.figure(figsize=(6, 2), dpi=100) ; plt.plot(times, np.transpose(C_btc_r1_geomean), label='realization 1 geometric average')\n",
    "plt.plot(times, np.transpose(C_btc_r1), label='realization 1') ; plt.plot(times, np.transpose(C_btc_r1c4), label='realization 1, coarsened 4x')\n",
    "plt.plot(times, np.transpose(C_btc_r1c12), label='realization 1, coarsened 12x') ; plt.xlabel('Time [days]'); plt.legend()"
   ]
  },
  {
   "cell_type": "code",
   "execution_count": null,
   "metadata": {},
   "outputs": [],
   "source": [
    "kdata_m2_2  = np.loadtxt(data2, delimiter=',')  ;  kdata_m2_3  = np.loadtxt(data3, delimiter=',')\n",
    "\n",
    "kdata_m2_2  = kdata_m2_2[0:-2] ;    kdata_m2_2 = kdata_m2_2.reshape(1, nrow, ncol)\n",
    "real2_cmsec = kdata_m2_2*(1000*9.81*3600*24/8.9E-4)\n",
    "kdata_m2_3 = kdata_m2_3[0:-2]  ;   kdata_m2_3 = kdata_m2_3.reshape(1, nrow, ncol)\n",
    "real3_cmsec = kdata_m2_3*(1000*9.81*3600*24/8.9E-4)\n",
    "\n",
    "plot_2d(real2_cmsec[0,:,:], 1, 1, '[m/day]', 'Realization 2 hydraulic conductivity', 'viridis')\n",
    "plot_2d(real3_cmsec[0,:,:], 1, 1, '[m/day]', 'Realization 3 hydraulic conductivity', 'viridis')"
   ]
  },
  {
   "cell_type": "code",
   "execution_count": null,
   "metadata": {},
   "outputs": [],
   "source": [
    "mf, mt, times2, conc2, heads2 = model_2D(dirname, perlen_mt, real2_cmsec, al, 1)\n",
    "mf, mt, times3, conc3, heads3 = model_2D(dirname, perlen_mt, real3_cmsec, al, 1)"
   ]
  },
  {
   "cell_type": "code",
   "execution_count": null,
   "metadata": {},
   "outputs": [],
   "source": [
    "C_btc_r2 = np.mean([conc2[:, 0, :, -1]], axis=2)                #  uncoarsened\n",
    "C_btc_r3 = np.mean([conc3[:, 0, :, -1]], axis=2)                ;  plt.figure(figsize=(6, 2), dpi=100)\n",
    "plt.plot(times, np.transpose(C_btc_r1), label='realization 1')\n",
    "plt.plot(times, np.transpose(C_btc_r2), label='realization 2')\n",
    "plt.plot(times, np.transpose(C_btc_r3), label='realization 3')  ;  plt.xlabel('Time [days]')  ; plt.legend()"
   ]
  },
  {
   "cell_type": "markdown",
   "metadata": {},
   "source": [
    "Bonus function to generate random fields using the [gstools python toolbox](https://github.com/GeoStat-Framework/GSTools)."
   ]
  },
  {
   "cell_type": "code",
   "execution_count": null,
   "metadata": {},
   "outputs": [],
   "source": [
    "# function to generate 3D random permeability fields \n",
    "def perm_field_generation(log_mD, log_var, correlat_len, ycorrelat_len, nlay, nrow, ncol, angle):\n",
    "    x = np.arange(nlay)   ; y = np.arange(nrow)    ; z = np.arange(ncol)\n",
    "    model = gs.Exponential(dim=3, var=10**log_var, len_scale=[1.0, ycorrelat_len, correlat_len], angles=[0.0, 0.0, angle])\n",
    "    srf = gs.SRF(model)   #  srf = gs.SRF(model, seed=25300)\n",
    "    field = 10**(srf.structured([x, y, z]) + log_mD)\n",
    "    print('Geometric mean: ' + str(np.log10(np.max(field)/np.min(field))) + ' mD')\n",
    "    field_km2 = field*(9.869233E-13/1000)    # convert from mD to km^2\n",
    "    return field_km2"
   ]
  },
  {
   "cell_type": "raw",
   "metadata": {},
   "source": [
    "log_mD, log_var, correlat_len, ycorrelat_len, nlay, nrow, ncol, angle = perm_field_generation ()\n",
    "\n",
    "model_2D(dirname, perlen_mt, real2_cmsec, al, 1)"
   ]
  },
  {
   "cell_type": "code",
   "execution_count": null,
   "metadata": {},
   "outputs": [],
   "source": []
  }
 ],
 "metadata": {
  "kernelspec": {
   "display_name": "Python 3 (ipykernel)",
   "language": "python",
   "name": "python3"
  },
  "language_info": {
   "codemirror_mode": {
    "name": "ipython",
    "version": 3
   },
   "file_extension": ".py",
   "mimetype": "text/x-python",
   "name": "python",
   "nbconvert_exporter": "python",
   "pygments_lexer": "ipython3",
   "version": "3.12.7"
  }
 },
 "nbformat": 4,
 "nbformat_minor": 4
}
