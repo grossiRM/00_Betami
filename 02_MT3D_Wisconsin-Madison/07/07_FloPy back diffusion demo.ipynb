{
 "cells": [
  {
   "cell_type": "code",
   "execution_count": 1,
   "metadata": {},
   "outputs": [
    {
     "name": "stdout",
     "output_type": "stream",
     "text": [
      "E:\\15_REPOS\\00_BETAMI\\w10_______others\\01_MT3D_Wisconsin-Madison\\07\n"
     ]
    }
   ],
   "source": [
    "import flopy ; import sys ; import pathlib ; import os ; import time ; import numpy as np ; import matplotlib.pyplot as plt; from math import pi;  \n",
    "from copy import deepcopy as deepcopy; from scipy.special import erfc as erfc; from scipy.special import erf as erf; import pandas as pd\n",
    "exe_name_mf = 'E:\\\\15_REPOS\\\\00_BETAMI\\\\w10_______others\\\\bin\\\\mf2005.exe'\n",
    "exe_name_mt = 'E:\\\\15_REPOS\\\\00_BETAMI\\\\w10_______others\\\\bin\\\\mt3d-usgs_1.1.0_64.exe';\n",
    "current_directory = os.getcwd();  print(current_directory)"
   ]
  },
  {
   "cell_type": "code",
   "execution_count": 2,
   "metadata": {},
   "outputs": [],
   "source": [
    "path = pathlib.Path('E:\\\\15_REPOS\\\\d03_Beta-Me\\\\04_Wisconsin-Madison\\\\07')\n",
    "path.mkdir(parents=True, exist_ok=True)  ; os.chdir(path)  ;   current_directory = os.getcwd() # print(current_directory)\n",
    "directory_name = 'backdiff'\n",
    "workdir = os.path.join('.', directory_name)\n",
    "if os.path.isdir(workdir) is False:\n",
    "    os.mkdir(workdir)                       # print(\"Directory '% s' created\" % workdir) \n",
    "datadir = os.path.join('..', directory_name, 'mt3d_test', 'mt3dms')  # See ?"
   ]
  },
  {
   "cell_type": "code",
   "execution_count": 3,
   "metadata": {},
   "outputs": [],
   "source": [
    "def plot_2d(map_data, dx, dy, colorbar_label=''  , cmap='cividis', title='', clim=0):                           # FUNCTION_01\n",
    "    r, c   = np.shape   (map_data)               ; x_coord = np.linspace(0, dx*c, c+1);  y_coord = np.linspace(0, dy*r, r+1);  \n",
    "    X,Y    = np.meshgrid(x_coord, y_coord)       ; plt.figure(figsize=(6, 3), dpi = 100 )\n",
    "    plt.pcolormesh(X, Y, map_data, cmap=cmap,    shading = 'auto', edgecolor ='k', linewidth = 0.001)\n",
    "    plt.gca().set_aspect('equal')                ; cbar = plt.colorbar()                                ; cbar.set_label(colorbar_label)\n",
    "    if clim != 0:\n",
    "        plt.clim(clim)\n",
    "    plt.xlabel('Distance [m]')                   ; plt.tick_params(axis='both', which='major')     ; plt.xlim((0, dx*c)) \n",
    "    plt.ylim((0, dy*r));     plt.title(title)    ; plt.show()"
   ]
  },
  {
   "cell_type": "code",
   "execution_count": 4,
   "metadata": {},
   "outputs": [
    {
     "name": "stdout",
     "output_type": "stream",
     "text": [
      "Tank pore vol 0.006030 m^3\n"
     ]
    },
    {
     "data": {
      "image/png": "[encoded data removed]",
      "text/plain": [
       "<Figure size 600x300 with 2 Axes>"
      ]
     },
     "metadata": {},
     "output_type": "display_data"
    }
   ],
   "source": [
    "nlay = 40; nrow = 1; ncol = 120                             ; delv = 0.01; delr = 0.01 ; delc = 0.03 ;     \n",
    "material_location = np.zeros([nlay, nrow, ncol])            ; material_location [10:20,:, 15:-15] = 1             \n",
    "sec2day = 86400                                             ; ksand = 2.4e-4*sec2day; kclay = 1e-10*sec2day     \n",
    "Hk = np.ones([nlay, nrow, ncol]) * ksand                    ; Hk[material_location==1] = kclay\n",
    "por_sand = 0.4 ; por_clay = 0.5                             ; Por = np.ones([nlay, nrow, ncol]) * por_sand   \n",
    "Por[material_location==1] = por_clay                        ; PV  = Por*delr*delc*delv ; tank_pv = np.sum(PV); print('Tank pore vol %f m^3' %tank_pv)\n",
    "# plot_2d(np.squeeze(material_location), delr, delv, cmap='PiYG')\n",
    "# plot_2d(np.squeeze(Hk),                delr, delv, cmap='viridis', colorbar_label = 'K [m/day]')   \n",
    "plot_2d(np.squeeze(Por),                 delr, delv, colorbar_label = 'Porosity [-]') "
   ]
  },
  {
   "cell_type": "code",
   "execution_count": 5,
   "metadata": {},
   "outputs": [],
   "source": [
    "def model_2D(dirname, perlen_mt, Hk, Por, Q, Cinj, D0, nprs, delr, delc, delv):\n",
    "    \n",
    "    model_ws = os.path.join(workdir, dirname)                  ; print(model_ws)   \n",
    "    itmuni   = 4               ; mt_tunit = 'D'                ; lenuni = 2                ; mt_lunit = 'M'      ; al = 0.01; trpv = 0.001/al\n",
    "    perlen_mf = perlen_mt      ; nper_mf  = len(perlen_mf)     ; nper   = len(perlen_mt)   ; nprs     = nprs\n",
    "    timprs    = np.linspace(0, np.sum(perlen_mf), nprs, endpoint = False)                  ; hk_size  = Hk.shape\n",
    "    nlay = hk_size[0]          ; nrow = hk_size[1]             ;  ncol = hk_size[2]        ; botm = -np.linspace(delv, delv*nlay, nlay)\n",
    "    \n",
    "    ibound         = np.ones((nlay, nrow, ncol), dtype=int)    ;  ibound[:, :, -1] = -1    ; strt = np.zeros((nlay, nrow, ncol), dtype=float)\n",
    "    well_info      = np.zeros((nlay, 4),dtype=float); \n",
    "    well_info[:,0] = range(0, nlay) \n",
    "    well_info[:,3] = Q[0] / (nrow * nlay)                      ; w = deepcopy(well_info)   ; spd_mf = { 0 : w }\n",
    "    for i in range(1, nper):\n",
    "        if isinstance(Q, (list, tuple, np.ndarray)):             \n",
    "            well_info[:,3] = Q[i] / (nrow * nlay)\n",
    "        else:\n",
    "            well_info[:,3] = Q / (nrow * nlay)                 ; w = deepcopy(well_info)   ; spd_mf.update({i:w})  \n",
    "\n",
    "    icbund          = np.ones((nlay, nrow, ncol), dtype=int)                               ; sconc = np.zeros((nlay, nrow, ncol), dtype=float) \n",
    "    cwell_info      = np.zeros((int(nlay), 5), dtype=float)                         \n",
    "    cwell_info[:,0] = range(0, nlay);  \n",
    "    cwell_info[:,3] = Cinj[0]                                  ; itype = 2\n",
    "    cwell_info[:,4] = int(itype)                               ; cw = deepcopy(cwell_info) ; spd_mt = { 0 : cw }\n",
    "    for i in range(1,nper):\n",
    "        if isinstance(Cinj, (list, tuple, np.ndarray)):\n",
    "            cwell_info[:,3] = Cinj[i]                    \n",
    "        else:\n",
    "            cwell_info[:,3] = Cinj                             ; cw = deepcopy(cwell_info) ; spd_mt.update({i:cw})  \n",
    "    \n",
    "    modelname_mf = dirname + '_mf' ;\n",
    "    mf  = flopy.modflow.Modflow(modelname=modelname_mf, model_ws=model_ws, exe_name=exe_name_mf)\n",
    "    dis = flopy.modflow.ModflowDis(mf,  nlay = nlay, nrow=nrow, ncol=ncol, nper=nper_mf, delr=delr, delc=delc, top=0., botm = botm,\n",
    "                                   perlen=perlen_mf, itmuni=itmuni, lenuni=lenuni)\n",
    "    bas = flopy.modflow.ModflowBas(mf, ibound=ibound, strt=strt)\n",
    "    lpf = flopy.modflow.ModflowLpf(mf, hk=Hk, laytyp=0)\n",
    "    wel = flopy.modflow.ModflowWel(mf, stress_period_data=spd_mf)\n",
    "    pcg = flopy.modflow.ModflowPcg(mf, rclose=1.0e-5, mxiter=100, iter1=50)\n",
    "    lmt = flopy.modflow.ModflowLmt(mf)\n",
    "    spd = {(0, 0): ['save head'], (0, 1): ['save head'], (0, 2): ['save head'], (0, 3): ['save head']}\n",
    "    oc  = flopy.modflow.ModflowOc(mf, stress_period_data=spd) ;  mf.write_input();   mf.run_model(silent=True);  \n",
    "    \n",
    "    modelname_mt = dirname + '_mt'    \n",
    "    mt  = flopy.mt3d.Mt3dms(modelname=modelname_mt, model_ws=model_ws, exe_name=exe_name_mt, modflowmodel=mf)  \n",
    "    btn = flopy.mt3d.Mt3dBtn(mt, icbund=icbund, prsity=Por, sconc=sconc, tunit=mt_tunit, lunit=mt_lunit, nper=nper, \n",
    "                             perlen=perlen_mt, nprs=nprs, timprs=timprs)              ;                                    mixelm = -1\n",
    "    adv = flopy.mt3d.Mt3dAdv(mt, mixelm=mixelm)\n",
    "    dsp = flopy.mt3d.Mt3dDsp(mt, al=al, trpv =trpv, dmcoef=D0)                        # dmcoef  dispesion..difusion\n",
    "    ssm = flopy.mt3d.Mt3dSsm(mt, stress_period_data=spd_mt)\n",
    "    gcg = flopy.mt3d.Mt3dGcg(mt)                                                      ;     mt.write_input()\n",
    "    \n",
    "    fname = os.path.join(model_ws, 'MT3D001.UCN')\n",
    "    if os.path.isfile(fname):\n",
    "        os.remove(fname)\n",
    "    mt.run_model(silent=True)\n",
    "    \n",
    "    fname = os.path.join(model_ws, 'MT3D001.UCN') ;    ucnobj = flopy.utils.UcnFile(fname)\n",
    "    times = np.array(ucnobj.get_times());                conc = ucnobj.get_alldata()\n",
    "    \n",
    "    h = flopy.utils.HeadFile(os.path.join(model_ws, modelname_mf+'.hds'), model=mf)\n",
    "    htimes = h.times;                                    fname = os.path.join(model_ws, modelname_mf+'.hds')\n",
    "    hdobj = flopy.utils.HeadFile(fname);                 heads = hdobj.get_data()\n",
    "    \n",
    "    if len(times) != nprs+len(perlen_mt):\n",
    "        print('The model output has {} timesteps, the model input requested {} timesteps. Simulation may have terminated early'.format(len(times), nprs+len(perlen_mt)))\n",
    "    else:\n",
    "        print('Simulation ran to requested model time.')         ;           return heads, htimes, conc, times"
   ]
  },
  {
   "cell_type": "code",
   "execution_count": 6,
   "metadata": {
    "scrolled": true
   },
   "outputs": [
    {
     "name": "stdout",
     "output_type": "stream",
     "text": [
      "ibound (40, 1, 120)\n",
      "bound_2D (40, 120)\n",
      "W (40, 4)\n",
      "cW (40, 5)\n"
     ]
    }
   ],
   "source": [
    "sf = nlay * delv / 0.84;    nper = 3;    Q = np.array([0.9, 1.5, 1.5]) * (60*24/100**3) * sf;  Cinj = [1, 0, 0]\n",
    "\n",
    "ibound = np.ones((nlay, nrow, ncol), dtype=int)  ; ibound[:, :, -1] = -1         ; print('ibound',ibound.shape)\n",
    "iB     = ibound[:,0,:];  cr = pd.DataFrame(iB)                                   ; print('bound_2D',cr.shape)    ; cr.to_csv (\"07c__(ibound).csv\") \n",
    "well_info       = np.zeros((nlay, 4),dtype=float)  ; print('W', well_info.shape) ; cr = pd.DataFrame(well_info)  ; cr.to_csv (\"07d(W_info).csv\")\n",
    "well_info[:,0]  = range(0, nlay)                                                 ; cr = pd.DataFrame(well_info)  ; cr.to_csv (\"07e(W_info).csv\")\n",
    "well_info[:,3]  = Q[0] / (nrow * nlay)                                           ; cr = pd.DataFrame(well_info)  ; cr.to_csv (\"07f(W_info).csv\")\n",
    "for i in range(1, nper):\n",
    "    if isinstance(Q, (list, tuple, np.ndarray)):\n",
    "        well_info[:,3] = Q[i] / (nrow * nlay)\n",
    "    else:\n",
    "        well_info[:,3] = Q / (nrow * nlay)                                       ; # cr = pd.DataFrame(well_info)  ; cr.to_csv (\"07g(W_info).csv\")  \n",
    "     \n",
    "cwell_info      = np.zeros((int(nlay), 5), dtype=float)                          ; print('cW', cwell_info.shape)\n",
    "cwell_info[:,0] = range(0, nlay)                                                 ; cr = pd.DataFrame(cwell_info) ; cr.to_csv (\"07h__(W_info_C).csv\")\n",
    "cwell_info[:,3]  = Cinj[0]                                                       ; cr = pd.DataFrame(cwell_info) ; cr.to_csv (\"07i__(W_info_C).csv\") "
   ]
  },
  {
   "cell_type": "code",
   "execution_count": 7,
   "metadata": {},
   "outputs": [],
   "source": [
    "dirname = 'Chapman_model'   ;     perlen_mt = [10, 22, 50]       ;            nprs = 100  # 165\n",
    "sf = nlay * delv / 0.84        # scale factor based on height of model relative to tank in Chapman paper\n",
    "Q = np.array([0.9, 1.5, 1.5]) * (60*24/100**3) * sf    ; Cinj = [1, 0, 0] ;   D0 = 13E-10 * sec2day # [m^2/day]   # Bulk diffusion coefficient"
   ]
  },
  {
   "cell_type": "code",
   "execution_count": 8,
   "metadata": {},
   "outputs": [
    {
     "name": "stdout",
     "output_type": "stream",
     "text": [
      ".\\backdiff\\Chapman_model\n",
      "Simulation ran to requested model time.\n"
     ]
    }
   ],
   "source": [
    "heads, htimes, conc, times = model_2D(dirname, perlen_mt, Hk, Por, Q, Cinj, D0, nprs, delr, delc, delv) # ____ RUNING _____"
   ]
  },
  {
   "cell_type": "raw",
   "metadata": {},
   "source": [
    "print(heads.shape)\n",
    "plot_2d(np.squeeze(heads), delr, delv, colorbar_label='Head', cmap='Blues', title='Steady State Head')"
   ]
  },
  {
   "cell_type": "code",
   "execution_count": 9,
   "metadata": {},
   "outputs": [
    {
     "name": "stdout",
     "output_type": "stream",
     "text": [
      "(103, 40, 1, 120)\n"
     ]
    }
   ],
   "source": [
    "print(conc.shape)"
   ]
  },
  {
   "cell_type": "code",
   "execution_count": 10,
   "metadata": {
    "tags": []
   },
   "outputs": [
    {
     "data": {
      "image/png": "[encoded data removed]",
      "text/plain": [
       "<Figure size 600x300 with 2 Axes>"
      ]
     },
     "metadata": {},
     "output_type": "display_data"
    },
    {
     "name": "stdout",
     "output_type": "stream",
     "text": [
      "(40, 120)\n"
     ]
    },
    {
     "data": {
      "text/plain": [
       "(None,)"
      ]
     },
     "execution_count": 10,
     "metadata": {},
     "output_type": "execute_result"
    }
   ],
   "source": [
    "ts_plot = 6   \n",
    "plot_2d(np.squeeze(conc[ts_plot,:,:,:]), delr, delv, colorbar_label='Conc.', cmap='YlGn', title='Time: %1.1f days' %(times[ts_plot]), clim=[0,1])\n",
    "c1 = conc[ 6,:,0,:];   c2 = pd.DataFrame(c1);     c2.to_csv (\"06a(conc_t06_see'').csv\");    # print(cr.shape),  # c    # [0, :20, 39]\n",
    "d1 = conc[20,:,0,:];   d2 = pd.DataFrame(d1);     d2.to_csv (\"06a(conc_t20_see'').csv\");      print(d2.shape),  # d2    # [0, :20, 39]"
   ]
  },
  {
   "cell_type": "raw",
   "metadata": {},
   "source": [
    "ts_plot = 20  \n",
    "plot_2d(np.squeeze(conc[ts_plot,:,:,:]), delr, delv, colorbar_label='Conc', cmap='YlGn', title='Time: %1.1f days' %(times[ts_plot]), clim=[0,1])"
   ]
  },
  {
   "cell_type": "raw",
   "metadata": {},
   "source": [
    "ts_plot = 30  \n",
    "plot_2d(np.squeeze(conc[ts_plot,:,:,:]), delr, delv, colorbar_label='Conc.', cmap='YlGn', title='Time: %1.1f days' %(times[ts_plot]), clim=[0,1])\n",
    "ts_plot = 120   \n",
    "plot_2d(np.squeeze(conc[ts_plot,:,:,:]), delr, delv, colorbar_label='Conc.', cmap='YlGn', title='Time: %1.1f days' %(times[ts_plot]), clim=[0,0.01])"
   ]
  },
  {
   "cell_type": "markdown",
   "metadata": {},
   "source": [
    "## **Breakthrough curve**"
   ]
  },
  {
   "cell_type": "raw",
   "metadata": {
    "tags": []
   },
   "source": [
    "C_btc_model = np.mean([conc[:, 0, :, -1]], axis=2)\n",
    "plt.figure(figsize=(7, 2), dpi=80) ; plt.plot(times, np.transpose(C_btc_model), 'k', label='')\n",
    "plt.xlabel('Time [days]'); plt.ylabel('Mean outlet BC. concentration'); plt.show()"
   ]
  },
  {
   "cell_type": "code",
   "execution_count": 13,
   "metadata": {
    "tags": []
   },
   "outputs": [
    {
     "data": {
      "image/png": "[encoded data removed]",
      "text/plain": [
       "<Figure size 560x160 with 1 Axes>"
      ]
     },
     "metadata": {},
     "output_type": "display_data"
    },
    {
     "name": "stdout",
     "output_type": "stream",
     "text": [
      "(103, 4800)\n"
     ]
    }
   ],
   "source": [
    "C_btc_model = np.mean([conc[:, 0, :, -1]], axis=2)                             ; plt.figure(figsize=(7, 2), dpi=80)\n",
    "plt.plot(times, np.transpose(C_btc_model), 'k', label='')                      ; plt.yscale('log') \n",
    "plt.xlabel('Time [days]'); plt.ylabel('Mean outlet boundary concentration')    ; plt.ylim([1E-5, 1.2]); plt.show()\n",
    "Cr = conc.reshape(conc.shape[0],  -1);   Cs = pd.DataFrame(Cr);      Cs.to_csv (\"07_C_all.csv\") ; print(Cr.shape)   # 20*40=800"
   ]
  },
  {
   "cell_type": "markdown",
   "metadata": {},
   "source": [
    "## **..there is some long-term transport of solute as it is diffused from the clay layer = 'tailing'!** "
   ]
  },
  {
   "cell_type": "markdown",
   "metadata": {},
   "source": [
    "**_coarse, ... med, ...**"
   ]
  },
  {
   "cell_type": "code",
   "execution_count": 14,
   "metadata": {},
   "outputs": [],
   "source": [
    "nlay = 8 ; nrow = 1 ; ncol = 24                    ; delv = 0.05 ; delr = 0.05 ; delc = 0.03 \n",
    "material_location = np.zeros([nlay, nrow, ncol])   ; material_location[2:4, :, 3:-3] = 1  ; \n",
    "Hk = np.ones([nlay, nrow, ncol])*ksand             ;  Hk[material_location==1] = kclay\n",
    "Por = np.ones([nlay, nrow, ncol])*por_sand         ; Por[material_location==1] = por_clay"
   ]
  },
  {
   "cell_type": "code",
   "execution_count": 15,
   "metadata": {},
   "outputs": [
    {
     "name": "stdout",
     "output_type": "stream",
     "text": [
      ".\\backdiff\\Chapman_model_coarse\n",
      "Simulation ran to requested model time.\n"
     ]
    },
    {
     "data": {
      "image/png": "[encoded data removed]",
      "text/plain": [
       "<Figure size 500x100 with 1 Axes>"
      ]
     },
     "metadata": {},
     "output_type": "display_data"
    },
    {
     "name": "stdout",
     "output_type": "stream",
     "text": [
      "(103, 192)\n"
     ]
    }
   ],
   "source": [
    "dirname = 'Chapman_model_coarse'; heads_c, htimes_c, conc_c, times_c = model_2D(dirname, perlen_mt, Hk, Por, Q, Cinj, D0, nprs, delr, delc, delv)\n",
    "C_btc_model_c = np.mean([conc_c[:, 0, :, -1]], axis=2) ; \n",
    "plt.figure(figsize=(5, 1), dpi=100); plt.plot(times, np.transpose(C_btc_model), 'k', label='original'); \n",
    "plt.plot(times_c, np.transpose(C_btc_model_c), '--r', label='5x coarser'); plt.legend(); plt.yscale('log')\n",
    "plt.xlabel('Time [days]');plt.ylabel('Mean outlet boundary concentration'); plt.ylim([1E-5, 1.1]); plt.show()\n",
    "Cr_c = conc_c.reshape(conc_c.shape[0],  -1);   Cs_c = pd.DataFrame(Cr_c);      Cs_c.to_csv (\"07_C_all_coarse.csv\") ; print(Cs_c.shape)   # 20*40=800"
   ]
  },
  {
   "cell_type": "code",
   "execution_count": 16,
   "metadata": {},
   "outputs": [],
   "source": [
    "nlay = 20; nrow = 1 ;   ncol = 40               ;  delv = 0.01;  delr = 0.01 ; delc = 0.03     # 20*60=1200  20*40=800  10*80\n",
    "material_location = np.zeros([nlay, nrow, ncol])\n",
    "material_location[5:10, :, 7:-8] = 1            ;     # plot_2d(np.squeeze(material_location), delr, delv, cmap='PiYG')\n",
    "Hk = np.ones([nlay, nrow, ncol])*ksand          ;     Hk[material_location==1] = kclay\n",
    "Por = np.ones([nlay, nrow, ncol])*por_sand      ;     Por[material_location==1] = por_clay"
   ]
  },
  {
   "cell_type": "code",
   "execution_count": 17,
   "metadata": {},
   "outputs": [
    {
     "name": "stdout",
     "output_type": "stream",
     "text": [
      ".\\backdiff\\Chapman_model_med\n",
      "Simulation ran to requested model time.\n"
     ]
    },
    {
     "data": {
      "image/png": "[encoded data removed]",
      "text/plain": [
       "<Figure size 500x100 with 1 Axes>"
      ]
     },
     "metadata": {},
     "output_type": "display_data"
    },
    {
     "name": "stdout",
     "output_type": "stream",
     "text": [
      "(103, 800)\n"
     ]
    }
   ],
   "source": [
    "dirname = 'Chapman_model_med'; heads_m, htimes_m, conc_m, times_m = model_2D(dirname, perlen_mt, Hk, Por, Q, Cinj, D0, nprs, delr, delc, delv)\n",
    "C_btc_model_m = np.mean([conc_m[:, 0, :, -1]], axis=2)\n",
    "plt.figure(figsize=(5, 1), dpi=100); plt.plot(times, np.transpose(C_btc_model), 'k', label='original')\n",
    "# plt.plot(times_c, np.transpose(C_btc_model_c), '--r', label='5x coarser')\n",
    "plt.plot(times_m, np.transpose(C_btc_model_m), '--g', label='Beta')\n",
    "plt.legend(); plt.yscale('log'); plt.xlabel('Time [days]'); plt.ylabel('Mean outlet boundary concentration')\n",
    "plt.ylim([1E-5, 1.1]); plt.show()\n",
    "Cr_m = conc_m.reshape(conc_m.shape[0],  -1);   Cs_m = pd.DataFrame(Cr_m);      Cs_m.to_csv (\"07_C_all_m.csv\") ; print(Cs_m.shape)   # 20*40=800"
   ]
  },
  {
   "cell_type": "markdown",
   "metadata": {},
   "source": [
    "We can see that going a little coarser still captures most of the tailing behavior and therefore is probably sufficient."
   ]
  },
  {
   "cell_type": "code",
   "execution_count": 18,
   "metadata": {},
   "outputs": [],
   "source": [
    "model_time = np.cumsum(perlen_mt)\n",
    "D = pd.DataFrame(model_time); D.to_csv(\"07_B(Time)_y.csv\")"
   ]
  },
  {
   "cell_type": "code",
   "execution_count": 19,
   "metadata": {},
   "outputs": [
    {
     "name": "stdout",
     "output_type": "stream",
     "text": [
      "(103,)\n"
     ]
    }
   ],
   "source": [
    " print(times.shape)"
   ]
  },
  {
   "cell_type": "code",
   "execution_count": 20,
   "metadata": {},
   "outputs": [],
   "source": [
    " Cs_m = pd.DataFrame(times);      Cs_m.to_csv (\"08_times.csv\")"
   ]
  },
  {
   "cell_type": "code",
   "execution_count": null,
   "metadata": {},
   "outputs": [],
   "source": []
  },
  {
   "cell_type": "code",
   "execution_count": null,
   "metadata": {},
   "outputs": [],
   "source": []
  }
 ],
 "metadata": {
  "kernelspec": {
   "display_name": "Python 3 (ipykernel)",
   "language": "python",
   "name": "python3"
  },
  "language_info": {
   "codemirror_mode": {
    "name": "ipython",
    "version": 3
   },
   "file_extension": ".py",
   "mimetype": "text/x-python",
   "name": "python",
   "nbconvert_exporter": "python",
   "pygments_lexer": "ipython3",
   "version": "3.12.7"
  }
 },
 "nbformat": 4,
 "nbformat_minor": 4
}
