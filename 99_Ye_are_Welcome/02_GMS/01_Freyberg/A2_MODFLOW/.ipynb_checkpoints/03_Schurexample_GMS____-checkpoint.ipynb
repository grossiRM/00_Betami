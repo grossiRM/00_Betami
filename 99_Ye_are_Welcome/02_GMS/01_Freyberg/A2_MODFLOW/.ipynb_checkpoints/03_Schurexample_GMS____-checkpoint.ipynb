{
 "cells": [
  {
   "cell_type": "markdown",
   "metadata": {},
   "source": [
    "# __03_Freyberg__ `   ` __GMS__Steady__State__"
   ]
  },
  {
   "cell_type": "code",
   "execution_count": null,
   "metadata": {},
   "outputs": [],
   "source": [
    "pip install hdf5view"
   ]
  },
  {
   "cell_type": "code",
   "execution_count": 5,
   "metadata": {},
   "outputs": [],
   "source": [
    "import numpy as np\n",
    "import h5py"
   ]
  },
  {
   "cell_type": "code",
   "execution_count": 19,
   "metadata": {},
   "outputs": [
    {
     "name": "stdout",
     "output_type": "stream",
     "text": [
      "List: \n",
      " ['Arrays', 'Drain', 'Drain Return', 'ET', 'ETS', 'File Type', 'File Version', 'General Head', 'MFH5 Version', 'MNW2', 'Multi-Node Well', 'PCB', 'Pilot Points', 'Recharge', 'River', 'SUB', 'Specified Head', 'Stream', 'Stream (SFR2)', 'UZF', 'WEL (CLN)', 'Well']\n"
     ]
    }
   ],
   "source": [
    "with h5py.File('A__MODFLOW_0 / A.h5','r') as hdf:\n",
    "    ls = list(hdf.keys())\n",
    "    print ('List: \\n', ls)\n",
    "    data = hdf.get('Arrays')\n",
    "    Arrays = np.array(data)\n",
    "    # print('Shape: \\n', Arrays.shape)"
   ]
  },
  {
   "cell_type": "code",
   "execution_count": 20,
   "metadata": {},
   "outputs": [
    {
     "data": {
      "text/plain": [
       "array(['HANI1', 'HANI2', 'HANI3', 'HK1', 'HK2', 'HK3', 'StartHead1',\n",
       "       'StartHead2', 'StartHead3', 'VANI1', 'VANI2', 'VANI3', 'bot1',\n",
       "       'bot2', 'bot3', 'ibound1', 'ibound2', 'ibound3', 'top1'],\n",
       "      dtype='<U10')"
      ]
     },
     "execution_count": 20,
     "metadata": {},
     "output_type": "execute_result"
    }
   ],
   "source": [
    "Arrays"
   ]
  },
  {
   "cell_type": "code",
   "execution_count": 24,
   "metadata": {},
   "outputs": [],
   "source": [
    "f = h5py.File('A.h5', 'r')\n",
    "ls = list(f)\n",
    "f.close()        # 2º Option     # https://www.youtube.com/watch?v=xuWB_byi-6Q          # ls"
   ]
  },
  {
   "cell_type": "code",
   "execution_count": null,
   "metadata": {},
   "outputs": [],
   "source": []
  }
 ],
 "metadata": {
  "kernelspec": {
   "display_name": "Python 3 (ipykernel)",
   "language": "python",
   "name": "python3"
  },
  "language_info": {
   "codemirror_mode": {
    "name": "ipython",
    "version": 3
   },
   "file_extension": ".py",
   "mimetype": "text/x-python",
   "name": "python",
   "nbconvert_exporter": "python",
   "pygments_lexer": "ipython3",
   "version": "3.11.11"
  }
 },
 "nbformat": 4,
 "nbformat_minor": 4
}
