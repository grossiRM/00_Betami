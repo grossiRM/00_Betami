{
 "cells": [
  {
   "cell_type": "markdown",
   "metadata": {},
   "source": [
    "# __03_Freyberg__ `   ` __GMS__Steady__State__"
   ]
  },
  {
   "cell_type": "code",
   "execution_count": 1,
   "metadata": {},
   "outputs": [
    {
     "name": "stdout",
     "output_type": "stream",
     "text": [
      "Requirement already satisfied: hdf5view in c:\\users\\gross.desktop-airqm2m\\anaconda3\\envs\\gmdsitut\\lib\\site-packages (0.2.2)\n",
      "Requirement already satisfied: h5py in c:\\users\\gross.desktop-airqm2m\\anaconda3\\envs\\gmdsitut\\lib\\site-packages (from hdf5view) (3.12.1)\n",
      "Requirement already satisfied: qtpy in c:\\users\\gross.desktop-airqm2m\\anaconda3\\envs\\gmdsitut\\lib\\site-packages (from hdf5view) (2.4.2)\n",
      "Requirement already satisfied: psutil in c:\\users\\gross.desktop-airqm2m\\anaconda3\\envs\\gmdsitut\\lib\\site-packages (from hdf5view) (6.1.0)\n",
      "Requirement already satisfied: pyqtgraph in c:\\users\\gross.desktop-airqm2m\\anaconda3\\envs\\gmdsitut\\lib\\site-packages (from hdf5view) (0.13.7)\n",
      "Requirement already satisfied: numpy>=1.19.3 in c:\\users\\gross.desktop-airqm2m\\anaconda3\\envs\\gmdsitut\\lib\\site-packages (from h5py->hdf5view) (1.26.4)\n",
      "Requirement already satisfied: packaging in c:\\users\\gross.desktop-airqm2m\\anaconda3\\envs\\gmdsitut\\lib\\site-packages (from qtpy->hdf5view) (24.2)\n",
      "Note: you may need to restart the kernel to use updated packages.\n"
     ]
    }
   ],
   "source": [
    "pip install hdf5view"
   ]
  },
  {
   "cell_type": "code",
   "execution_count": 2,
   "metadata": {},
   "outputs": [],
   "source": [
    "import numpy as np\n",
    "import h5py"
   ]
  },
  {
   "cell_type": "markdown",
   "metadata": {},
   "source": [
    "# __A.h5__"
   ]
  },
  {
   "cell_type": "code",
   "execution_count": 3,
   "metadata": {},
   "outputs": [
    {
     "name": "stdout",
     "output_type": "stream",
     "text": [
      "List: \n",
      " ['Arrays', 'Drain', 'Drain Return', 'ET', 'ETS', 'File Type', 'File Version', 'General Head', 'MFH5 Version', 'MNW2', 'Multi-Node Well', 'PCB', 'Pilot Points', 'Recharge', 'River', 'SUB', 'Specified Head', 'Stream', 'Stream (SFR2)', 'UZF', 'WEL (CLN)', 'Well']\n",
      "Shape: \n",
      " (19,)\n"
     ]
    }
   ],
   "source": [
    "with h5py.File('A_MODFLOW\\A.h5','r') as hdf:\n",
    "    ls = list(hdf.keys())\n",
    "    print ('List: \\n', ls)\n",
    "    data = hdf.get('Arrays')\n",
    "    Arrays = np.array(data)\n",
    "    print('Shape: \\n', Arrays.shape)"
   ]
  },
  {
   "cell_type": "code",
   "execution_count": 4,
   "metadata": {},
   "outputs": [
    {
     "data": {
      "text/plain": [
       "array(['HANI1', 'HANI2', 'HANI3', 'HK1', 'HK2', 'HK3', 'StartHead1',\n",
       "       'StartHead2', 'StartHead3', 'VANI1', 'VANI2', 'VANI3', 'bot1',\n",
       "       'bot2', 'bot3', 'ibound1', 'ibound2', 'ibound3', 'top1'],\n",
       "      dtype='<U10')"
      ]
     },
     "execution_count": 4,
     "metadata": {},
     "output_type": "execute_result"
    }
   ],
   "source": [
    "Arrays"
   ]
  },
  {
   "cell_type": "code",
   "execution_count": 5,
   "metadata": {},
   "outputs": [],
   "source": [
    "f = h5py.File('A__MODFLOW_0\\A.h5', 'r')\n",
    "ls = list(f)\n",
    "f.close()        # 2º Option     # https://www.youtube.com/watch?v=xuWB_byi-6Q          # ls"
   ]
  },
  {
   "cell_type": "raw",
   "metadata": {},
   "source": [
    "    if pf.pst.npar < 35000:  \n",
    "        cov = pf.build_prior(fmt='coo', filename=os.path.join(template_ws,\"prior_cov.jcb\"))\n",
    "        try: \n",
    "            x = cov.x.copy()\n",
    "            x[x==0] = np.NaN\n",
    "            plt.imshow(x[:1000,:1000])\n",
    "        except:\n",
    "            pass"
   ]
  },
  {
   "cell_type": "markdown",
   "metadata": {},
   "source": [
    "# *.h5 `   ` aassist.jco (__Jacobian__) `   ` *.jac `   ` *.jst `   ` _______ __but_no__ *.jcb__"
   ]
  },
  {
   "cell_type": "code",
   "execution_count": 6,
   "metadata": {},
   "outputs": [],
   "source": [
    "# g = h5py.File('A_MODFLOW\\aassist.jac', 'r')\n",
    "# g = h5py.File('A_MODFLOW\\A.h5', 'r')\n",
    "# ls = list(g)\n",
    "# g.close()        # 2º Option     # https://www.youtube.com/watch?v=xuWB_byi-6Q       # ls"
   ]
  },
  {
   "cell_type": "code",
   "execution_count": null,
   "metadata": {},
   "outputs": [],
   "source": []
  }
 ],
 "metadata": {
  "kernelspec": {
   "display_name": "Python 3 (ipykernel)",
   "language": "python",
   "name": "python3"
  },
  "language_info": {
   "codemirror_mode": {
    "name": "ipython",
    "version": 3
   },
   "file_extension": ".py",
   "mimetype": "text/x-python",
   "name": "python",
   "nbconvert_exporter": "python",
   "pygments_lexer": "ipython3",
   "version": "3.11.11"
  }
 },
 "nbformat": 4,
 "nbformat_minor": 4
}
