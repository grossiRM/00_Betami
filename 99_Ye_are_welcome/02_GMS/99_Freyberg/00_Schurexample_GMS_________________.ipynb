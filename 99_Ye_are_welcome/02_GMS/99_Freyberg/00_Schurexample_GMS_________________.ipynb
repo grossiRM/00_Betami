{
 "cells": [
  {
   "cell_type": "markdown",
   "metadata": {},
   "source": [
    "# __03_Freyberg__ `   ` __GMS__Steady__State__"
   ]
  },
  {
   "cell_type": "code",
   "execution_count": null,
   "metadata": {},
   "outputs": [],
   "source": [
    "pip install hdf5view"
   ]
  },
  {
   "cell_type": "code",
   "execution_count": 1,
   "metadata": {},
   "outputs": [],
   "source": [
    "import numpy as np\n",
    "import h5py"
   ]
  },
  {
   "cell_type": "raw",
   "metadata": {},
   "source": [
    "# g = h5py.File('A2_MODFLOW\\aassist.jac', 'r')\n",
    "g = h5py.File('A2_MODFLOW\\A.h5', 'r')\n",
    "ls = list(g)\n",
    "g.close()        # 2º Option     # https://www.youtube.com/watch?v=xuWB_byi-6Q      \n",
    "ls"
   ]
  },
  {
   "cell_type": "markdown",
   "metadata": {},
   "source": [
    "# __A.h5__"
   ]
  },
  {
   "cell_type": "code",
   "execution_count": 2,
   "metadata": {},
   "outputs": [
    {
     "name": "stdout",
     "output_type": "stream",
     "text": [
      "List: \n",
      " ['Arrays', 'Drain', 'Drain Return', 'ET', 'ETS', 'File Type', 'File Version', 'General Head', 'MFH5 Version', 'MNW2', 'Multi-Node Well', 'PCB', 'Pilot Points', 'Recharge', 'River', 'SUB', 'Specified Head', 'Stream', 'Stream (SFR2)', 'UZF', 'WEL (CLN)', 'Well']\n"
     ]
    }
   ],
   "source": [
    "with h5py.File('A_MODFLOW\\A.h5','r') as hdf:               # 01\n",
    "    ls = list(hdf.keys())\n",
    "    print ('List: \\n', ls)  "
   ]
  },
  {
   "cell_type": "code",
   "execution_count": 17,
   "metadata": {},
   "outputs": [
    {
     "data": {
      "text/plain": [
       "array(['HANI1', 'HANI2', 'HANI3', 'HK1', 'HK2', 'HK3', 'StartHead1',\n",
       "       'StartHead2', 'StartHead3', 'VANI1', 'VANI2', 'VANI3', 'bot1',\n",
       "       'bot2', 'bot3', 'ibound1', 'ibound2', 'ibound3', 'top1'],\n",
       "      dtype='<U10')"
      ]
     },
     "execution_count": 17,
     "metadata": {},
     "output_type": "execute_result"
    }
   ],
   "source": [
    "with h5py.File('A_MODFLOW\\A.h5','r') as hdf:               # 02 \n",
    "    ls = list(hdf.keys()) # print ('List: \\n', ls)  \n",
    "    data = hdf.get('Arrays')                               # ________ Arrays\n",
    "    Arrays = np.array(data)       \n",
    "    # print('Shape: \\n', Arrays.shape)\n",
    "Arrays"
   ]
  },
  {
   "cell_type": "code",
   "execution_count": 16,
   "metadata": {},
   "outputs": [
    {
     "data": {
      "text/plain": [
       "array(['01. Use Last', '07. Property', '08. Property Multiplier',\n",
       "       '09. Layer', '10. Layer Multiplier'], dtype='<U23')"
      ]
     },
     "execution_count": 16,
     "metadata": {},
     "output_type": "execute_result"
    }
   ],
   "source": [
    "with h5py.File('A_MODFLOW\\A.h5','r') as hdf:               # 02  \n",
    "    ls = list(hdf.keys()) # print ('List: \\n', ls)  \n",
    "    data = hdf.get('Recharge')                             # ________ Arrays\n",
    "    Recharge = np.array(data)       \n",
    "    # print('Shape: \\n', Recharge.shape)\n",
    "Recharge"
   ]
  },
  {
   "cell_type": "code",
   "execution_count": null,
   "metadata": {},
   "outputs": [],
   "source": [
    "with h5py.File('A_MODFLOW\\aassist_jac.h5','r') as hdf:              # 01 ______ nope\n",
    "    ls = list(hdf.keys())\n",
    "    print ('List: \\n', ls)  "
   ]
  },
  {
   "cell_type": "raw",
   "metadata": {},
   "source": [
    "    if pf.pst.npar < 35000:                                                # Jacobian ____________failed____not yet\n",
    "        cov = pf.build_prior(fmt='coo', filename=os.path.join(template_ws,\"prior_cov.jcb\"))\n",
    "        try: \n",
    "            x = cov.x.copy()\n",
    "            x[x==0] = np.NaN\n",
    "            plt.imshow(x[:1000,:1000])\n",
    "        except:\n",
    "            pass"
   ]
  },
  {
   "cell_type": "markdown",
   "metadata": {},
   "source": [
    "# *.h5 `   ` aassist.jco (__Jacobian__) `   ` *.jac `   ` *.jst `   ` _______ __but_no__ *.jcb__"
   ]
  },
  {
   "cell_type": "markdown",
   "metadata": {},
   "source": [
    "https://matk.lanl.gov/example_pyemu.html                                  # *.jco\n",
    "https://pyemu.readthedocs.io/en/develop/autoapi/pyemu/index.html          # *.jco\n",
    "https://pyemu.readthedocs.io/en/develop/autoapi/pyemu/la/                 # *.jco"
   ]
  }
 ],
 "metadata": {
  "kernelspec": {
   "display_name": "Python 3 (ipykernel)",
   "language": "python",
   "name": "python3"
  },
  "language_info": {
   "codemirror_mode": {
    "name": "ipython",
    "version": 3
   },
   "file_extension": ".py",
   "mimetype": "text/x-python",
   "name": "python",
   "nbconvert_exporter": "python",
   "pygments_lexer": "ipython3",
   "version": "3.11.11"
  }
 },
 "nbformat": 4,
 "nbformat_minor": 4
}
