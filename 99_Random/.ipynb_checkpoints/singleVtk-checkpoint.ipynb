{
 "cells": [
  {
   "cell_type": "code",
   "execution_count": 1,
   "id": "1770d94f-00b4-44ba-9d2a-87a8f341dd64",
   "metadata": {
    "tags": []
   },
   "outputs": [],
   "source": [
    "import os\n",
    "from workingTools import Mf6VtkGenerator"
   ]
  },
  {
   "cell_type": "code",
   "execution_count": 2,
   "id": "96304022-a140-4e31-bd5f-5029ed7b39f7",
   "metadata": {
    "tags": []
   },
   "outputs": [],
   "source": [
    "# load model for examples\n",
    "simName = \"mfsim.nam\"\n",
    "simWs = os.path.abspath(\"modelFiles\")\n",
    "exeName = \"bin/mf6.exe\"\n",
    "vtkDir = \"vtk\""
   ]
  },
  {
   "cell_type": "code",
   "execution_count": 3,
   "id": "bc7c6bb3-434d-4c6b-aa17-73c9b9872c28",
   "metadata": {
    "tags": []
   },
   "outputs": [],
   "source": [
    "vtkGen = Mf6VtkGenerator(simName=simName,\n",
    "                         simWs=simWs,\n",
    "                         exeName=exeName,\n",
    "                         vtkDir=vtkDir)"
   ]
  },
  {
   "cell_type": "code",
   "execution_count": 4,
   "id": "04ad6830-997d-438c-ab31-2b4268002e68",
   "metadata": {
    "tags": []
   },
   "outputs": [
    {
     "name": "stdout",
     "output_type": "stream",
     "text": [
      "Check for files in 'vtk'.\n",
      "Deleted file: vtk\\param_icelltype.npy\n",
      "Deleted file: vtk\\param_iconvert.npy\n",
      "Deleted file: vtk\\param_k.npy\n",
      "Deleted file: vtk\\param_ss.npy\n",
      "Deleted file: vtk\\param_strt.npy\n",
      "Deleted file: vtk\\param_sy.npy\n",
      "\n",
      "All files in 'vtk' have been deleted.\n",
      "\n",
      "loading simulation...\n",
      "  loading simulation name file...\n",
      "  loading tdis package...\n",
      "  loading model gwf6...\n",
      "    loading package disv...\n",
      "    loading package ic...\n",
      "    loading package npf...\n",
      "    loading package sto...\n",
      "    loading package rch...\n",
      "    loading package evt...\n",
      "    loading package drn...\n",
      "    loading package oc...\n",
      "  loading solution package mf6model...\n",
      "\n",
      " Models in simulation: ['mf6model']\n"
     ]
    }
   ],
   "source": [
    "#load simulation\n",
    "vtkGen.loadSimulation()"
   ]
  },
  {
   "cell_type": "code",
   "execution_count": 5,
   "id": "6d1c200e-3b36-46de-86ef-659a8a63e647",
   "metadata": {
    "tags": []
   },
   "outputs": [
    {
     "name": "stdout",
     "output_type": "stream",
     "text": [
      "Package list: ['DISV', 'IC', 'NPF', 'STO', 'RCHA_0', 'EVTA_0', 'DRN_0', 'OC']\n"
     ]
    }
   ],
   "source": [
    "#load model\n",
    "vtkGen.loadModel('mf6Model')"
   ]
  },
  {
   "cell_type": "code",
   "execution_count": 6,
   "id": "f36e14e8-36fe-41c9-b32b-92d3c3ff33ca",
   "metadata": {
    "tags": []
   },
   "outputs": [],
   "source": [
    "#generate model geometry as vtk and parameter array\n",
    "vtkGen.generateGeometryArrays()"
   ]
  },
  {
   "cell_type": "code",
   "execution_count": 7,
   "id": "042d1fa7-4723-4e50-9307-406400ab2119",
   "metadata": {
    "tags": []
   },
   "outputs": [
    {
     "name": "stdout",
     "output_type": "stream",
     "text": [
      "Parameter Vtk Generated\n"
     ]
    }
   ],
   "source": [
    "#generate parameter vtk\n",
    "vtkGen.generateParamVtk()"
   ]
  },
  {
   "cell_type": "code",
   "execution_count": 8,
   "id": "b1a41111-8a84-400f-ba14-91f3b6a47a85",
   "metadata": {
    "tags": []
   },
   "outputs": [
    {
     "name": "stdout",
     "output_type": "stream",
     "text": [
      "Vtk file took 3.5713 seconds to be generated.\n",
      "DRN_0 vtk generated\n"
     ]
    }
   ],
   "source": [
    "#generate bc and obs vtk\n",
    "vtkGen.generateBcObsVtk()"
   ]
  },
  {
   "cell_type": "code",
   "execution_count": 9,
   "id": "24bab4f5-f989-4753-9882-a6300fb128d2",
   "metadata": {},
   "outputs": [],
   "source": [
    "#generate head vtk\n",
    "vtkGen.generateHeadVtk()"
   ]
  },
  {
   "cell_type": "code",
   "execution_count": null,
   "id": "aef2e849",
   "metadata": {},
   "outputs": [],
   "source": []
  }
 ],
 "metadata": {
  "kernelspec": {
   "display_name": "Python 3 (ipykernel)",
   "language": "python",
   "name": "python3"
  },
  "language_info": {
   "codemirror_mode": {
    "name": "ipython",
    "version": 3
   },
   "file_extension": ".py",
   "mimetype": "text/x-python",
   "name": "python",
   "nbconvert_exporter": "python",
   "pygments_lexer": "ipython3",
   "version": "3.12.7"
  }
 },
 "nbformat": 4,
 "nbformat_minor": 5
}
