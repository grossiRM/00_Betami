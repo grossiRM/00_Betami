{
 "cells": [
  {
   "cell_type": "markdown",
   "metadata": {},
   "source": [
    "# Pump Test Example\n",
    "#### Prof. Gretchen Miller, Texas A&M University\n",
    "#### Introduction to Groundwater Engineering"
   ]
  },
  {
   "cell_type": "markdown",
   "metadata": {},
   "source": [
    "## About the Theis Equation\n",
    "This program uses the <i>inverted</i> Theis equation to find aquifer parameters for a confined aquifer based on the data from a pump test. The conceptual diagram below shows the general well configuration and the relevant variables.\n",
    "\n",
    "<img src=\"https://www.waterrights.utah.gov/wellinfo/theis/theis_diagram.gif\" alt=\"theis_diagram\" width=\"400\"/>\n",
    "\n",
    "Transmissivity is calculated as: \n",
    "\n",
    "$$ T = \\frac{Q}{4 \\pi (H_0 - H)} *W(u)$$\n",
    "\n",
    "where\n",
    "\n",
    "$$u = \\frac{r^2S}{4Tt}$$\n",
    "\n",
    "We have an issue now: $T$ essential appears on both sides of that equation, as the indepent variable and as part of $W(u)$. Thus, the equation is implict and we need to solve it iteratively. The goal is that the curve calculated by the well function matches the data measured, which will allow us to then calculate $T$. \n",
    "\n",
    "As a reminder, $W(u)$ is the well function, given as:\n",
    "\n",
    "$$W(u) = \\int_{u}^{\\infty} \\frac{e^{-a}}{a}\\,da$$\n",
    "\n",
    "\n"
   ]
  },
  {
   "cell_type": "markdown",
   "metadata": {},
   "source": [
    "## Defining our Paramters and Inputs\n",
    "First, we need to define our pump test variables, which are the pumping rate ($Q$), in units of m<sup>3</sup>/d, and radius ($r$), in units of m. Be sure to use decimals so that Python knows that these values should be typed as floating points."
   ]
  },
  {
   "cell_type": "code",
   "execution_count": null,
   "metadata": {},
   "outputs": [],
   "source": [
    "Q = 8176.49 # in m3/d\n",
    "Q = Q/(24*60) #convert to min\n",
    "r = 91.44 # in m"
   ]
  },
  {
   "cell_type": "markdown",
   "metadata": {},
   "source": [
    "Now we need to import the data from our pump test and convert it to two 1-D arrays. Your script will vary depending on where you are storing your data, so you will need to change the code below. Right now, the data file, in the comma seperated variable format (.csv), is shown as being in the same folder as the Jupyter notebook file. The first column is expected to contain time values ($t$) in minutes and the second should contain drawdown at those times, ($H_0 - H$), in units of m. The file has no headers."
   ]
  },
  {
   "cell_type": "code",
   "execution_count": null,
   "metadata": {},
   "outputs": [],
   "source": [
    "import csv\n",
    "import numpy as np\n",
    "\n",
    "with open('well_test_data.csv',newline='') as csvfile:\n",
    "    datain = csv.reader(csvfile,quoting = csv.QUOTE_NONNUMERIC)\n",
    "    data = np.array(list(datain))\n",
    "print(data)\n",
    "time = data[:,0]\n",
    "s_meas = data[:,1] #measured drawdown data"
   ]
  },
  {
   "cell_type": "markdown",
   "metadata": {},
   "source": [
    "Now we can plot our data for reference. Notice how it follows the general shape of the well function that we've seen before."
   ]
  },
  {
   "cell_type": "code",
   "execution_count": null,
   "metadata": {},
   "outputs": [],
   "source": [
    "import matplotlib.pyplot as plt\n",
    "plt.loglog(time, s_meas,'bo')\n",
    "plt.xlabel('Time [min]')\n",
    "plt.ylabel('$H_0-H$ [m]')\n",
    "plt.show()"
   ]
  },
  {
   "cell_type": "markdown",
   "metadata": {},
   "source": [
    "## Fitting the Well Function to the data\n",
    "\n",
    "Now what we need to do is fit the Theis equation to this data, which is a multi-step process:\n",
    "<ol>\n",
    "<li>Program drawdown equation and well function.</li>\n",
    "<li>Make an intial guess for the values of transmissvity, $T$, and storativity, $S$.</li>\n",
    "<li>Calculate drawdown, $s'$, for each measured time based on these guesses. These become the modeled values, or $s'_{mod}$</li>\n",
    "<li>Compare $s'_{mod}$ to the actual values $s'_{act}$ using an objective function. Here we will use a sum of squared differences metric, $SS$.</li>\n",
    "<li>Change the values of $T$ and $S$ in a systematic way until $SS$ is minimized. </li>\n",
    "<li>The values of $T$ and $S$ that give you the minimum $SS$ are your aquifer parameters.</li>   \n",
    "</ol>\n",
    "\n",
    "Let's start by making our guesses:"
   ]
  },
  {
   "cell_type": "code",
   "execution_count": null,
   "metadata": {},
   "outputs": [],
   "source": [
    "T = 500 #in m^2/d\n",
    "S = 0.001 #unitless\n",
    "\n",
    "T = T/(24*60) # convert to m/min"
   ]
  },
  {
   "cell_type": "markdown",
   "metadata": {},
   "source": [
    "Now we need to call a function to calculate the well function from these initial guesses. We can do this by using the infinite series that solves the integral above:\n",
    "\n",
    "$$W(u) = -0.57721566 - ln(u) + u -\\frac{u^2}{2*2!} + \\frac{u^3}{3*3!} -\\frac{u^4}{4*4!} + ...$$\n",
    "\n",
    "Then we need to evaluate this well function for the value of u at every time."
   ]
  },
  {
   "cell_type": "code",
   "execution_count": null,
   "metadata": {},
   "outputs": [],
   "source": [
    "uvalues = ((r**2)*S)/(4*T*time)\n",
    "print(uvalues)"
   ]
  },
  {
   "cell_type": "markdown",
   "metadata": {},
   "source": [
    "Now we use the <i>fancy Python</i> again (see the Theis function Jupyter notebook for more details) to calculate the modeled drawdown for each time."
   ]
  },
  {
   "cell_type": "code",
   "execution_count": null,
   "metadata": {},
   "outputs": [],
   "source": [
    "import well_fxn_script as wf\n",
    "tol = 1e-7 #acceptable error for well function calculations\n",
    "s_mod = list(map(lambda uvalues: wf.well_fxn(uvalues,tol)*Q/(4*T*np.pi),uvalues))"
   ]
  },
  {
   "cell_type": "markdown",
   "metadata": {},
   "source": [
    "Now let's see how we did with our first guesses!"
   ]
  },
  {
   "cell_type": "code",
   "execution_count": null,
   "metadata": {},
   "outputs": [],
   "source": [
    "plt.loglog(time, s_mod,'b-',time, s_meas,'bo', )\n",
    "plt.xlabel('Time [min]')\n",
    "plt.ylabel('$H_0-H$ [m]')\n",
    "plt.show()"
   ]
  },
  {
   "cell_type": "markdown",
   "metadata": {},
   "source": [
    "We calculate the objective function for this as:\n",
    "\n",
    "$$SS = \\sum_{i=1}^{n} (s'_{mod}-s'_{meas})^2 $$"
   ]
  },
  {
   "cell_type": "code",
   "execution_count": null,
   "metadata": {},
   "outputs": [],
   "source": [
    "SS = np.sum(np.square(s_mod - s_meas))\n",
    "print(SS)"
   ]
  },
  {
   "cell_type": "markdown",
   "metadata": {},
   "source": [
    "The value of $SS$ does not have much meaning right now. We want to find the minimum $SS$ value possible, or the least sum of squares, $LSS$. To do this, we are going to need some sort of curve fitting function, like \"Solver\" in Excel. We don't want to write this from scratch, so we'll use the scipy optimize function. It already has the $LSS$ approach built in, and it is appropriate for a non-linear function like W(u)."
   ]
  },
  {
   "cell_type": "code",
   "execution_count": null,
   "metadata": {},
   "outputs": [],
   "source": [
    "from scipy.optimize import curve_fit\n",
    "\n",
    "def func(t,Tcalc,Scalc):\n",
    "    tol = 1e-6\n",
    "    a = len(t)\n",
    "    s_mod_fit = np.zeros(a)\n",
    "\n",
    "    for i in range(0, a):\n",
    "        u = ((r**2)*Scalc)/(4*Tcalc*t[i])\n",
    "        s_mod_fit[i] = wf.well_fxn(u,tol)*Q/(4*Tcalc*np.pi)\n",
    "    return s_mod_fit\n",
    "\n",
    "[T_final,S_final], junk = curve_fit(func, time, s_meas, p0=([T,S]), bounds=(0, np.inf))\n",
    "print('T = ', T_final)\n",
    "print('S = ', S_final)"
   ]
  },
  {
   "cell_type": "markdown",
   "metadata": {},
   "source": [
    "## Final Aquifer Parameters\n",
    "Now, we can create a new plot showing the data with the final curve fit. We rerun the function to calculate the final model and its $SS$ value, which is now much smaller:"
   ]
  },
  {
   "cell_type": "code",
   "execution_count": null,
   "metadata": {},
   "outputs": [],
   "source": [
    "uvalues_final = ((r**2)*S_final)/(4*T_final*time)\n",
    "s_mod_final = list(map(lambda uvalues_final: wf.well_fxn(uvalues_final,tol)*Q/(4*T_final*np.pi),uvalues_final))\n",
    "SS = np.sum(np.square(s_meas - s_mod_final))\n",
    "print('SS =',SS)"
   ]
  },
  {
   "cell_type": "markdown",
   "metadata": {},
   "source": [
    "Finally, we create our plot and label it with our "
   ]
  },
  {
   "cell_type": "code",
   "execution_count": null,
   "metadata": {},
   "outputs": [],
   "source": [
    "plt.loglog(time, s_mod_final,'b-',time, s_meas,'bo', )\n",
    "plt.xlabel('Time [min]')\n",
    "plt.ylabel('$H_0-H$ [m]')\n",
    "Tstring = \"T = \"+format(T_final,'.2E') +\" m^2/d\"\n",
    "Sstring = \"S = \" + format(S_final,'.2E')\n",
    "plt.annotate(Tstring, xy=(1, 1))\n",
    "plt.annotate(Sstring, xy=(1,0.8))\n",
    "plt.show()"
   ]
  },
  {
   "cell_type": "code",
   "execution_count": null,
   "metadata": {},
   "outputs": [],
   "source": []
  }
 ],
 "metadata": {
  "kernelspec": {
   "display_name": "Python 3 (ipykernel)",
   "language": "python",
   "name": "python3"
  },
  "language_info": {
   "codemirror_mode": {
    "name": "ipython",
    "version": 3
   },
   "file_extension": ".py",
   "mimetype": "text/x-python",
   "name": "python",
   "nbconvert_exporter": "python",
   "pygments_lexer": "ipython3",
   "version": "3.9.7"
  }
 },
 "nbformat": 4,
 "nbformat_minor": 4
}
