{
 "cells": [
  {
   "cell_type": "code",
   "execution_count": 1,
   "id": "a9aa5bcd-16c1-4d0a-b7b8-e694ce957dbe",
   "metadata": {},
   "outputs": [
    {
     "name": "stdout",
     "output_type": "stream",
     "text": [
      "3.13.1\n"
     ]
    }
   ],
   "source": [
    "from platform import python_version  \n",
    "print(python_version())"
   ]
  },
  {
   "cell_type": "code",
   "execution_count": 2,
   "id": "494fccb3-41f5-4150-859f-65425cb028c0",
   "metadata": {},
   "outputs": [],
   "source": [
    "import sys, os\n",
    "sys.path.append('../dependencies/')\n",
    "import mfsetup\n",
    "import flopy as fp\n",
    "import flopy.utils as fu\n",
    "from flopy.utils.gridintersect import GridIntersect\n",
    "import shapefile as sf\n",
    "import pandas as pd\n",
    "import matplotlib.pyplot as plt\n",
    "import numpy as np\n",
    "from pathlib import Path\n",
    "from shapely.geometry import Point, LineString\n",
    "import geopandas as gp\n",
    "datapath = Path('../data/sgn/')# stdir = os.getcwd()"
   ]
  },
  {
   "cell_type": "code",
   "execution_count": null,
   "id": "2c70f55a-d8dd-4008-9548-c41d53ccecea",
   "metadata": {},
   "outputs": [],
   "source": [
    "m = mfsetup.MF6model.setup_from_yaml('sgn_config.yml')  # ___________________________________ sgn_mfsetup ___ Folder"
   ]
  },
  {
   "cell_type": "code",
   "execution_count": null,
   "id": "2f85d9d5",
   "metadata": {},
   "outputs": [],
   "source": [
    "m.write_input()"
   ]
  },
  {
   "cell_type": "code",
   "execution_count": 5,
   "id": "06c36717",
   "metadata": {},
   "outputs": [],
   "source": [
    "ix = GridIntersect(m.modelgrid)"
   ]
  },
  {
   "cell_type": "code",
   "execution_count": 6,
   "id": "74784609",
   "metadata": {},
   "outputs": [],
   "source": [
    "boundary = gp.read_file('../../data/sgn/shp/Model_domain.shp')\n",
    "boundary_line =  LineString([Point(i) for i in boundary.iloc[0].geometry.exterior.coords])    # boundary_line\n",
    "ix_boundary = ix.intersect(boundary_line.buffer(25, resolution=4))\n",
    "ix_df = pd.DataFrame.from_records(ix_boundary)   # ix_df.head()"
   ]
  },
  {
   "cell_type": "code",
   "execution_count": 7,
   "id": "38616ea9",
   "metadata": {},
   "outputs": [],
   "source": [
    "sep19_head = fu.Raster.load('../../data/sgn/csv/heads_sep2019.asc')  # OBS heads to make the GHB data\n",
    "# plt.imshow(sep19_head.get_array(1))  # plt.colorbar()"
   ]
  },
  {
   "cell_type": "code",
   "execution_count": 8,
   "id": "113499a4",
   "metadata": {},
   "outputs": [],
   "source": [
    "# resample these heads to the model\n",
    "head = sep19_head.resample_to_grid(m.modelgrid,band=sep19_head.bands[0], method=\"nearest\")"
   ]
  },
  {
   "cell_type": "code",
   "execution_count": 9,
   "id": "a7f0101f",
   "metadata": {},
   "outputs": [],
   "source": [
    "ghb_spd = []                         # make the GHB stress period data\n",
    "for icpl in ix_boundary.cellids:\n",
    "    cond = 100.0\n",
    "    for layer in [0,2]:\n",
    "        # note - structured grid so *icpl unpacks row/col\n",
    "        ghb_spd.append([(layer, *icpl), head[icpl], cond, f'GHB{layer+1}'])    # ghb_spd"
   ]
  },
  {
   "cell_type": "code",
   "execution_count": 10,
   "id": "77e9d192",
   "metadata": {},
   "outputs": [],
   "source": [
    "ghb = fp.mf6.ModflowGwfghb(model=m, stress_period_data=ghb_spd, boundnames=True) "
   ]
  },
  {
   "cell_type": "code",
   "execution_count": 34,
   "id": "0b308848",
   "metadata": {},
   "outputs": [],
   "source": [
    "maw_wells = pd.read_csv('../../data/sgn/wells_zero.csv', index_col = 0)\n",
    "# maw_wells.head()\n",
    "maw_wells['cellid']=[ix.intersect(Point(x,y))[0][0] for x,y in zip(maw_wells.x,maw_wells.y)]\n",
    "# maw_wells.head()    # reset the index for MAW wells to be sequential only among the remaining wells\n",
    "maw_wells['top'] = [m.dis.top.array[r,c] for r,c in maw_wells.cellid]               # multi aquifer wells - MAW\n",
    "maw_wells['bot'] = [m.dis.botm.array[-1,r,c] for r,c in maw_wells.cellid]\n",
    "maw_wells['strt'] = [m.ic.strt.array[0,r,c] for r,c in maw_wells.cellid]\n",
    "maw_radius = 0.1         # packagedata : [wellno, radius, bottom, strt, condeqn, ngwfnodes, aux,  boundname] where:\n",
    "maw_packagedata = []\n",
    "for wellno,cwell in maw_wells.iterrows(): maw_packagedata.append([wellno, maw_radius, cwell.bot, cwell.strt, 'THIEM', 3])  # maw_packagedata\n",
    "maw_connections = []   # connectiondata : [wellno, icon, cellid, scrn_top, scrn_bot, hk_skin, radius_skin] where\n",
    "for wellno,cwell in maw_wells.iterrows():\n",
    "    for clay in range(3):\n",
    "        maw_connections.append([wellno, clay, clay, cwell.cellid[0], cwell.cellid[1], cwell.top, cwell.bot, -999, -999])  # maw_connections\n",
    "maw_spd = [[i, 'rate', 0] for i in range(len(maw_wells))]"
   ]
  },
  {
   "cell_type": "code",
   "execution_count": 35,
   "id": "22b675a9",
   "metadata": {},
   "outputs": [],
   "source": [
    "include_MAW = True"
   ]
  },
  {
   "cell_type": "code",
   "execution_count": 38,
   "id": "8dba3392",
   "metadata": {},
   "outputs": [
    {
     "ename": "MFDataException",
     "evalue": "An error occurred in data element \"packagedata\" model \"sgn_50\" package \"maw_3\". The error occurred while setting data in the \"__init__\" method.\nAdditional Information:\n(1) Error occurred while adding dataset \"packagedata\" to block \"packagedata\"",
     "output_type": "error",
     "traceback": [
      "\u001b[1;31m---------------------------------------------------------------------------\u001b[0m",
      "\u001b[1;31mIndexError\u001b[0m                                Traceback (most recent call last)",
      "File \u001b[1;32m~\\anaconda3\\envs\\mfsetup\\Lib\\site-packages\\flopy\\mf6\\data\\mfdatalist.py:396\u001b[0m, in \u001b[0;36mMFList._set_data\u001b[1;34m(self, data, autofill, check_data, preserve_record)\u001b[0m\n\u001b[0;32m    395\u001b[0m     \u001b[38;5;66;03m# store data\u001b[39;00m\n\u001b[1;32m--> 396\u001b[0m     \u001b[38;5;28;43mself\u001b[39;49m\u001b[38;5;241;43m.\u001b[39;49m\u001b[43m_get_storage_obj\u001b[49m\u001b[43m(\u001b[49m\u001b[43m)\u001b[49m\u001b[38;5;241;43m.\u001b[39;49m\u001b[43mset_data\u001b[49m\u001b[43m(\u001b[49m\n\u001b[0;32m    397\u001b[0m \u001b[43m        \u001b[49m\u001b[43mdata\u001b[49m\u001b[43m,\u001b[49m\n\u001b[0;32m    398\u001b[0m \u001b[43m        \u001b[49m\u001b[43mautofill\u001b[49m\u001b[38;5;241;43m=\u001b[39;49m\u001b[43mautofill\u001b[49m\u001b[43m,\u001b[49m\n\u001b[0;32m    399\u001b[0m \u001b[43m        \u001b[49m\u001b[43mcheck_data\u001b[49m\u001b[38;5;241;43m=\u001b[39;49m\u001b[43mcheck_data\u001b[49m\u001b[43m,\u001b[49m\n\u001b[0;32m    400\u001b[0m \u001b[43m        \u001b[49m\u001b[43mpreserve_record\u001b[49m\u001b[38;5;241;43m=\u001b[39;49m\u001b[43mpreserve_record\u001b[49m\u001b[43m,\u001b[49m\n\u001b[0;32m    401\u001b[0m \u001b[43m    \u001b[49m\u001b[43m)\u001b[49m\n\u001b[0;32m    402\u001b[0m \u001b[38;5;28;01mexcept\u001b[39;00m \u001b[38;5;167;01mException\u001b[39;00m \u001b[38;5;28;01mas\u001b[39;00m ex:\n",
      "File \u001b[1;32m~\\anaconda3\\envs\\mfsetup\\Lib\\site-packages\\flopy\\mf6\\data\\mfdatastorage.py:923\u001b[0m, in \u001b[0;36mDataStorage.set_data\u001b[1;34m(self, data, layer, multiplier, key, autofill, check_data, preserve_record)\u001b[0m\n\u001b[0;32m    919\u001b[0m \u001b[38;5;28;01mif\u001b[39;00m (\n\u001b[0;32m    920\u001b[0m     \u001b[38;5;28mself\u001b[39m\u001b[38;5;241m.\u001b[39mdata_structure_type \u001b[38;5;241m==\u001b[39m DataStructureType\u001b[38;5;241m.\u001b[39mrecarray\n\u001b[0;32m    921\u001b[0m     \u001b[38;5;129;01mor\u001b[39;00m \u001b[38;5;28mself\u001b[39m\u001b[38;5;241m.\u001b[39mdata_structure_type \u001b[38;5;241m==\u001b[39m DataStructureType\u001b[38;5;241m.\u001b[39mscalar\n\u001b[0;32m    922\u001b[0m ):\n\u001b[1;32m--> 923\u001b[0m     \u001b[38;5;28;43mself\u001b[39;49m\u001b[38;5;241;43m.\u001b[39;49m\u001b[43m_set_list\u001b[49m\u001b[43m(\u001b[49m\n\u001b[0;32m    924\u001b[0m \u001b[43m        \u001b[49m\u001b[43mdata\u001b[49m\u001b[43m,\u001b[49m\n\u001b[0;32m    925\u001b[0m \u001b[43m        \u001b[49m\u001b[43mlayer\u001b[49m\u001b[43m,\u001b[49m\n\u001b[0;32m    926\u001b[0m \u001b[43m        \u001b[49m\u001b[43mmultiplier\u001b[49m\u001b[43m,\u001b[49m\n\u001b[0;32m    927\u001b[0m \u001b[43m        \u001b[49m\u001b[43mkey\u001b[49m\u001b[43m,\u001b[49m\n\u001b[0;32m    928\u001b[0m \u001b[43m        \u001b[49m\u001b[43mautofill\u001b[49m\u001b[43m,\u001b[49m\n\u001b[0;32m    929\u001b[0m \u001b[43m        \u001b[49m\u001b[43mcheck_data\u001b[49m\u001b[43m,\u001b[49m\n\u001b[0;32m    930\u001b[0m \u001b[43m        \u001b[49m\u001b[43mpreserve_record\u001b[49m\u001b[43m,\u001b[49m\n\u001b[0;32m    931\u001b[0m \u001b[43m    \u001b[49m\u001b[43m)\u001b[49m\n\u001b[0;32m    932\u001b[0m \u001b[38;5;28;01melse\u001b[39;00m:\n",
      "File \u001b[1;32m~\\anaconda3\\envs\\mfsetup\\Lib\\site-packages\\flopy\\mf6\\data\\mfdatastorage.py:995\u001b[0m, in \u001b[0;36mDataStorage._set_list\u001b[1;34m(self, data, layer, multiplier, key, autofill, check_data, preserve_record)\u001b[0m\n\u001b[0;32m    994\u001b[0m         \u001b[38;5;28;01mreturn\u001b[39;00m\n\u001b[1;32m--> 995\u001b[0m \u001b[38;5;28;43mself\u001b[39;49m\u001b[38;5;241;43m.\u001b[39;49m\u001b[43mstore_internal\u001b[49m\u001b[43m(\u001b[49m\n\u001b[0;32m    996\u001b[0m \u001b[43m    \u001b[49m\u001b[43mdata\u001b[49m\u001b[43m,\u001b[49m\n\u001b[0;32m    997\u001b[0m \u001b[43m    \u001b[49m\u001b[43mlayer\u001b[49m\u001b[43m,\u001b[49m\n\u001b[0;32m    998\u001b[0m \u001b[43m    \u001b[49m\u001b[38;5;28;43;01mFalse\u001b[39;49;00m\u001b[43m,\u001b[49m\n\u001b[0;32m    999\u001b[0m \u001b[43m    \u001b[49m\u001b[43mmultiplier\u001b[49m\u001b[43m,\u001b[49m\n\u001b[0;32m   1000\u001b[0m \u001b[43m    \u001b[49m\u001b[43mkey\u001b[49m\u001b[38;5;241;43m=\u001b[39;49m\u001b[43mkey\u001b[49m\u001b[43m,\u001b[49m\n\u001b[0;32m   1001\u001b[0m \u001b[43m    \u001b[49m\u001b[43mautofill\u001b[49m\u001b[38;5;241;43m=\u001b[39;49m\u001b[43mautofill\u001b[49m\u001b[43m,\u001b[49m\n\u001b[0;32m   1002\u001b[0m \u001b[43m    \u001b[49m\u001b[43mcheck_data\u001b[49m\u001b[38;5;241;43m=\u001b[39;49m\u001b[43mcheck_data\u001b[49m\u001b[43m,\u001b[49m\n\u001b[0;32m   1003\u001b[0m \u001b[43m    \u001b[49m\u001b[43mpreserve_record\u001b[49m\u001b[38;5;241;43m=\u001b[39;49m\u001b[43mpreserve_record\u001b[49m\u001b[43m,\u001b[49m\n\u001b[0;32m   1004\u001b[0m \u001b[43m\u001b[49m\u001b[43m)\u001b[49m\n",
      "File \u001b[1;32m~\\anaconda3\\envs\\mfsetup\\Lib\\site-packages\\flopy\\mf6\\data\\mfdatastorage.py:1330\u001b[0m, in \u001b[0;36mDataStorage.store_internal\u001b[1;34m(self, data, layer, const, multiplier, key, autofill, print_format, check_data, preserve_record)\u001b[0m\n\u001b[0;32m   1324\u001b[0m \u001b[38;5;28;01mif\u001b[39;00m (\n\u001b[0;32m   1325\u001b[0m     data \u001b[38;5;129;01mis\u001b[39;00m \u001b[38;5;129;01mnot\u001b[39;00m \u001b[38;5;28;01mNone\u001b[39;00m\n\u001b[0;32m   1326\u001b[0m     \u001b[38;5;129;01mand\u001b[39;00m check_data\n\u001b[0;32m   1327\u001b[0m     \u001b[38;5;129;01mand\u001b[39;00m \u001b[38;5;28mself\u001b[39m\u001b[38;5;241m.\u001b[39m_simulation_data\u001b[38;5;241m.\u001b[39mverify_data\n\u001b[0;32m   1328\u001b[0m ):\n\u001b[0;32m   1329\u001b[0m     \u001b[38;5;66;03m# check data line length\u001b[39;00m\n\u001b[1;32m-> 1330\u001b[0m     \u001b[38;5;28;43mself\u001b[39;49m\u001b[38;5;241;43m.\u001b[39;49m\u001b[43m_check_list_length\u001b[49m\u001b[43m(\u001b[49m\u001b[43mdata\u001b[49m\u001b[43m)\u001b[49m\n\u001b[0;32m   1332\u001b[0m \u001b[38;5;28;01mif\u001b[39;00m \u001b[38;5;28misinstance\u001b[39m(data, np\u001b[38;5;241m.\u001b[39mrecarray):\n",
      "File \u001b[1;32m~\\anaconda3\\envs\\mfsetup\\Lib\\site-packages\\flopy\\mf6\\data\\mfdatastorage.py:1533\u001b[0m, in \u001b[0;36mDataStorage._check_list_length\u001b[1;34m(self, data_check)\u001b[0m\n\u001b[0;32m   1532\u001b[0m min_line_size \u001b[38;5;241m=\u001b[39m \u001b[38;5;28mself\u001b[39m\u001b[38;5;241m.\u001b[39m_get_min_record_entries(data_check)\n\u001b[1;32m-> 1533\u001b[0m \u001b[38;5;28;01mif\u001b[39;00m \u001b[38;5;28misinstance\u001b[39m(\u001b[43mdata_check\u001b[49m\u001b[43m[\u001b[49m\u001b[38;5;241;43m0\u001b[39;49m\u001b[43m]\u001b[49m, np\u001b[38;5;241m.\u001b[39mrecord) \u001b[38;5;129;01mor\u001b[39;00m (\n\u001b[0;32m   1534\u001b[0m     iterable(data_check[\u001b[38;5;241m0\u001b[39m]) \u001b[38;5;129;01mand\u001b[39;00m \u001b[38;5;129;01mnot\u001b[39;00m \u001b[38;5;28misinstance\u001b[39m(data_check[\u001b[38;5;241m0\u001b[39m], \u001b[38;5;28mstr\u001b[39m)\n\u001b[0;32m   1535\u001b[0m ):\n\u001b[0;32m   1536\u001b[0m     \u001b[38;5;66;03m# data contains multiple records\u001b[39;00m\n\u001b[0;32m   1537\u001b[0m     \u001b[38;5;28;01mfor\u001b[39;00m data_line \u001b[38;5;129;01min\u001b[39;00m data_check:\n",
      "\u001b[1;31mIndexError\u001b[0m: list index out of range",
      "\nDuring handling of the above exception, another exception occurred:\n",
      "\u001b[1;31mMFDataException\u001b[0m                           Traceback (most recent call last)",
      "File \u001b[1;32m~\\anaconda3\\envs\\mfsetup\\Lib\\site-packages\\flopy\\mf6\\data\\mfdatalist.py:85\u001b[0m, in \u001b[0;36mMFList.__init__\u001b[1;34m(self, sim_data, model_or_sim, structure, data, enable, path, dimensions, package, block)\u001b[0m\n\u001b[0;32m     84\u001b[0m \u001b[38;5;28;01mtry\u001b[39;00m:\n\u001b[1;32m---> 85\u001b[0m     \u001b[38;5;28;43mself\u001b[39;49m\u001b[38;5;241;43m.\u001b[39;49m\u001b[43mset_data\u001b[49m\u001b[43m(\u001b[49m\u001b[43mdata\u001b[49m\u001b[43m,\u001b[49m\u001b[43m \u001b[49m\u001b[38;5;28;43;01mTrue\u001b[39;49;00m\u001b[43m)\u001b[49m\n\u001b[0;32m     86\u001b[0m \u001b[38;5;28;01mexcept\u001b[39;00m \u001b[38;5;167;01mException\u001b[39;00m \u001b[38;5;28;01mas\u001b[39;00m ex:\n",
      "File \u001b[1;32m~\\anaconda3\\envs\\mfsetup\\Lib\\site-packages\\flopy\\mf6\\data\\mfdatalist.py:571\u001b[0m, in \u001b[0;36mMFList.set_data\u001b[1;34m(self, data, autofill, check_data)\u001b[0m\n\u001b[0;32m    551\u001b[0m \u001b[38;5;250m\u001b[39m\u001b[38;5;124;03m\"\"\"Sets the contents of the data to \"data\".  Data can have the\u001b[39;00m\n\u001b[0;32m    552\u001b[0m \u001b[38;5;124;03mfollowing formats:\u001b[39;00m\n\u001b[0;32m    553\u001b[0m \u001b[38;5;124;03m    1) recarray - recarray containing the datalist\u001b[39;00m\n\u001b[1;32m   (...)\u001b[0m\n\u001b[0;32m    569\u001b[0m \n\u001b[0;32m    570\u001b[0m \u001b[38;5;124;03m\"\"\"\u001b[39;00m\n\u001b[1;32m--> 571\u001b[0m \u001b[38;5;28;43mself\u001b[39;49m\u001b[38;5;241;43m.\u001b[39;49m\u001b[43m_set_data\u001b[49m\u001b[43m(\u001b[49m\u001b[43mdata\u001b[49m\u001b[43m,\u001b[49m\u001b[43m \u001b[49m\u001b[43mautofill\u001b[49m\u001b[43m,\u001b[49m\u001b[43m \u001b[49m\u001b[43mcheck_data\u001b[49m\u001b[38;5;241;43m=\u001b[39;49m\u001b[43mcheck_data\u001b[49m\u001b[43m)\u001b[49m\n",
      "File \u001b[1;32m~\\anaconda3\\envs\\mfsetup\\Lib\\site-packages\\flopy\\mf6\\data\\mfdatalist.py:404\u001b[0m, in \u001b[0;36mMFList._set_data\u001b[1;34m(self, data, autofill, check_data, preserve_record)\u001b[0m\n\u001b[0;32m    403\u001b[0m     type_, value_, traceback_ \u001b[38;5;241m=\u001b[39m sys\u001b[38;5;241m.\u001b[39mexc_info()\n\u001b[1;32m--> 404\u001b[0m     \u001b[38;5;28;01mraise\u001b[39;00m MFDataException(\n\u001b[0;32m    405\u001b[0m         \u001b[38;5;28mself\u001b[39m\u001b[38;5;241m.\u001b[39mstructure\u001b[38;5;241m.\u001b[39mget_model(),\n\u001b[0;32m    406\u001b[0m         \u001b[38;5;28mself\u001b[39m\u001b[38;5;241m.\u001b[39mstructure\u001b[38;5;241m.\u001b[39mget_package(),\n\u001b[0;32m    407\u001b[0m         \u001b[38;5;28mself\u001b[39m\u001b[38;5;241m.\u001b[39m_path,\n\u001b[0;32m    408\u001b[0m         \u001b[38;5;124m\"\u001b[39m\u001b[38;5;124msetting data\u001b[39m\u001b[38;5;124m\"\u001b[39m,\n\u001b[0;32m    409\u001b[0m         \u001b[38;5;28mself\u001b[39m\u001b[38;5;241m.\u001b[39mstructure\u001b[38;5;241m.\u001b[39mname,\n\u001b[0;32m    410\u001b[0m         inspect\u001b[38;5;241m.\u001b[39mstack()[\u001b[38;5;241m0\u001b[39m][\u001b[38;5;241m3\u001b[39m],\n\u001b[0;32m    411\u001b[0m         type_,\n\u001b[0;32m    412\u001b[0m         value_,\n\u001b[0;32m    413\u001b[0m         traceback_,\n\u001b[0;32m    414\u001b[0m         \u001b[38;5;28;01mNone\u001b[39;00m,\n\u001b[0;32m    415\u001b[0m         \u001b[38;5;28mself\u001b[39m\u001b[38;5;241m.\u001b[39m_simulation_data\u001b[38;5;241m.\u001b[39mdebug,\n\u001b[0;32m    416\u001b[0m         ex,\n\u001b[0;32m    417\u001b[0m     )\n\u001b[0;32m    418\u001b[0m \u001b[38;5;28;01mif\u001b[39;00m check_data \u001b[38;5;129;01mand\u001b[39;00m \u001b[38;5;28mself\u001b[39m\u001b[38;5;241m.\u001b[39m_simulation_data\u001b[38;5;241m.\u001b[39mverify_data:\n\u001b[0;32m    419\u001b[0m     \u001b[38;5;66;03m# verify cellids\u001b[39;00m\n",
      "\u001b[1;31mMFDataException\u001b[0m: An error occurred in data element \"packagedata\" model \"gwf6\" package \"maw\". The error occurred while setting data in the \"_set_data\" method.",
      "\nDuring handling of the above exception, another exception occurred:\n",
      "\u001b[1;31mMFDataException\u001b[0m                           Traceback (most recent call last)",
      "File \u001b[1;32m~\\anaconda3\\envs\\mfsetup\\Lib\\site-packages\\flopy\\mf6\\mfpackage.py:621\u001b[0m, in \u001b[0;36mMFBlock.add_dataset\u001b[1;34m(self, dataset_struct, data, var_path)\u001b[0m\n\u001b[0;32m    620\u001b[0m \u001b[38;5;28;01mtry\u001b[39;00m:\n\u001b[1;32m--> 621\u001b[0m     \u001b[38;5;28mself\u001b[39m\u001b[38;5;241m.\u001b[39mdatasets[var_path[\u001b[38;5;241m-\u001b[39m\u001b[38;5;241m1\u001b[39m]] \u001b[38;5;241m=\u001b[39m \u001b[38;5;28;43mself\u001b[39;49m\u001b[38;5;241;43m.\u001b[39;49m\u001b[43mdata_factory\u001b[49m\u001b[43m(\u001b[49m\n\u001b[0;32m    622\u001b[0m \u001b[43m        \u001b[49m\u001b[38;5;28;43mself\u001b[39;49m\u001b[38;5;241;43m.\u001b[39;49m\u001b[43m_simulation_data\u001b[49m\u001b[43m,\u001b[49m\n\u001b[0;32m    623\u001b[0m \u001b[43m        \u001b[49m\u001b[38;5;28;43mself\u001b[39;49m\u001b[38;5;241;43m.\u001b[39;49m\u001b[43m_model_or_sim\u001b[49m\u001b[43m,\u001b[49m\n\u001b[0;32m    624\u001b[0m \u001b[43m        \u001b[49m\u001b[43mdataset_struct\u001b[49m\u001b[43m,\u001b[49m\n\u001b[0;32m    625\u001b[0m \u001b[43m        \u001b[49m\u001b[38;5;28;43;01mTrue\u001b[39;49;00m\u001b[43m,\u001b[49m\n\u001b[0;32m    626\u001b[0m \u001b[43m        \u001b[49m\u001b[43mvar_path\u001b[49m\u001b[43m,\u001b[49m\n\u001b[0;32m    627\u001b[0m \u001b[43m        \u001b[49m\u001b[38;5;28;43mself\u001b[39;49m\u001b[38;5;241;43m.\u001b[39;49m\u001b[43m_dimensions\u001b[49m\u001b[43m,\u001b[49m\n\u001b[0;32m    628\u001b[0m \u001b[43m        \u001b[49m\u001b[43mdata\u001b[49m\u001b[43m,\u001b[49m\n\u001b[0;32m    629\u001b[0m \u001b[43m        \u001b[49m\u001b[38;5;28;43mself\u001b[39;49m\u001b[38;5;241;43m.\u001b[39;49m\u001b[43m_container_package\u001b[49m\u001b[43m,\u001b[49m\n\u001b[0;32m    630\u001b[0m \u001b[43m    \u001b[49m\u001b[43m)\u001b[49m\n\u001b[0;32m    631\u001b[0m \u001b[38;5;28;01mexcept\u001b[39;00m MFDataException \u001b[38;5;28;01mas\u001b[39;00m mfde:\n",
      "File \u001b[1;32m~\\anaconda3\\envs\\mfsetup\\Lib\\site-packages\\flopy\\mf6\\mfpackage.py:493\u001b[0m, in \u001b[0;36mMFBlock.data_factory\u001b[1;34m(self, sim_data, model_or_sim, structure, enable, path, dimensions, data, package)\u001b[0m\n\u001b[0;32m    492\u001b[0m     \u001b[38;5;28;01melse\u001b[39;00m:\n\u001b[1;32m--> 493\u001b[0m         \u001b[38;5;28;01mreturn\u001b[39;00m \u001b[43mmfdatalist\u001b[49m\u001b[38;5;241;43m.\u001b[39;49m\u001b[43mMFList\u001b[49m\u001b[43m(\u001b[49m\n\u001b[0;32m    494\u001b[0m \u001b[43m            \u001b[49m\u001b[43msim_data\u001b[49m\u001b[43m,\u001b[49m\n\u001b[0;32m    495\u001b[0m \u001b[43m            \u001b[49m\u001b[43mmodel_or_sim\u001b[49m\u001b[43m,\u001b[49m\n\u001b[0;32m    496\u001b[0m \u001b[43m            \u001b[49m\u001b[43mstructure\u001b[49m\u001b[43m,\u001b[49m\n\u001b[0;32m    497\u001b[0m \u001b[43m            \u001b[49m\u001b[43mdata\u001b[49m\u001b[43m,\u001b[49m\n\u001b[0;32m    498\u001b[0m \u001b[43m            \u001b[49m\u001b[43menable\u001b[49m\u001b[43m,\u001b[49m\n\u001b[0;32m    499\u001b[0m \u001b[43m            \u001b[49m\u001b[43mpath\u001b[49m\u001b[43m,\u001b[49m\n\u001b[0;32m    500\u001b[0m \u001b[43m            \u001b[49m\u001b[43mdimensions\u001b[49m\u001b[43m,\u001b[49m\n\u001b[0;32m    501\u001b[0m \u001b[43m            \u001b[49m\u001b[43mpackage\u001b[49m\u001b[43m,\u001b[49m\n\u001b[0;32m    502\u001b[0m \u001b[43m            \u001b[49m\u001b[38;5;28;43mself\u001b[39;49m\u001b[43m,\u001b[49m\n\u001b[0;32m    503\u001b[0m \u001b[43m        \u001b[49m\u001b[43m)\u001b[49m\n\u001b[0;32m    504\u001b[0m \u001b[38;5;28;01melif\u001b[39;00m data_type \u001b[38;5;241m==\u001b[39m mfstructure\u001b[38;5;241m.\u001b[39mDataType\u001b[38;5;241m.\u001b[39mlist_transient:\n",
      "File \u001b[1;32m~\\anaconda3\\envs\\mfsetup\\Lib\\site-packages\\flopy\\mf6\\data\\mfdatalist.py:88\u001b[0m, in \u001b[0;36mMFList.__init__\u001b[1;34m(self, sim_data, model_or_sim, structure, data, enable, path, dimensions, package, block)\u001b[0m\n\u001b[0;32m     87\u001b[0m type_, value_, traceback_ \u001b[38;5;241m=\u001b[39m sys\u001b[38;5;241m.\u001b[39mexc_info()\n\u001b[1;32m---> 88\u001b[0m \u001b[38;5;28;01mraise\u001b[39;00m MFDataException(\n\u001b[0;32m     89\u001b[0m     structure\u001b[38;5;241m.\u001b[39mget_model(),\n\u001b[0;32m     90\u001b[0m     structure\u001b[38;5;241m.\u001b[39mget_package(),\n\u001b[0;32m     91\u001b[0m     path,\n\u001b[0;32m     92\u001b[0m     \u001b[38;5;124m\"\u001b[39m\u001b[38;5;124msetting data\u001b[39m\u001b[38;5;124m\"\u001b[39m,\n\u001b[0;32m     93\u001b[0m     structure\u001b[38;5;241m.\u001b[39mname,\n\u001b[0;32m     94\u001b[0m     inspect\u001b[38;5;241m.\u001b[39mstack()[\u001b[38;5;241m0\u001b[39m][\u001b[38;5;241m3\u001b[39m],\n\u001b[0;32m     95\u001b[0m     type_,\n\u001b[0;32m     96\u001b[0m     value_,\n\u001b[0;32m     97\u001b[0m     traceback_,\n\u001b[0;32m     98\u001b[0m     \u001b[38;5;28;01mNone\u001b[39;00m,\n\u001b[0;32m     99\u001b[0m     sim_data\u001b[38;5;241m.\u001b[39mdebug,\n\u001b[0;32m    100\u001b[0m     ex,\n\u001b[0;32m    101\u001b[0m )\n",
      "\u001b[1;31mMFDataException\u001b[0m: An error occurred in data element \"packagedata\" model \"gwf6\" package \"maw\". The error occurred while setting data in the \"__init__\" method.",
      "\nDuring handling of the above exception, another exception occurred:\n",
      "\u001b[1;31mMFDataException\u001b[0m                           Traceback (most recent call last)",
      "Cell \u001b[1;32mIn[38], line 2\u001b[0m\n\u001b[0;32m      1\u001b[0m \u001b[38;5;28;01mif\u001b[39;00m include_MAW:\n\u001b[1;32m----> 2\u001b[0m     maw \u001b[38;5;241m=\u001b[39m \u001b[43mfp\u001b[49m\u001b[38;5;241;43m.\u001b[39;49m\u001b[43mmf6\u001b[49m\u001b[38;5;241;43m.\u001b[39;49m\u001b[43mModflowGwfmaw\u001b[49m\u001b[43m(\u001b[49m\n\u001b[0;32m      3\u001b[0m \u001b[43m            \u001b[49m\u001b[43mmodel\u001b[49m\u001b[38;5;241;43m=\u001b[39;49m\u001b[43mm\u001b[49m\u001b[43m,\u001b[49m\n\u001b[0;32m      4\u001b[0m \u001b[43m            \u001b[49m\u001b[43mno_well_storage\u001b[49m\u001b[38;5;241;43m=\u001b[39;49m\u001b[38;5;28;43;01mTrue\u001b[39;49;00m\u001b[43m,\u001b[49m\n\u001b[0;32m      5\u001b[0m \u001b[43m            \u001b[49m\u001b[43mnmawwells\u001b[49m\u001b[38;5;241;43m=\u001b[39;49m\u001b[38;5;28;43mlen\u001b[39;49m\u001b[43m(\u001b[49m\u001b[43mmaw_wells\u001b[49m\u001b[43m)\u001b[49m\u001b[43m,\u001b[49m\n\u001b[0;32m      6\u001b[0m \u001b[43m            \u001b[49m\u001b[43mpackagedata\u001b[49m\u001b[38;5;241;43m=\u001b[39;49m\u001b[43mmaw_packagedata\u001b[49m\u001b[43m,\u001b[49m\n\u001b[0;32m      7\u001b[0m \u001b[43m            \u001b[49m\u001b[43mconnectiondata\u001b[49m\u001b[38;5;241;43m=\u001b[39;49m\u001b[43mmaw_connections\u001b[49m\u001b[43m,\u001b[49m\n\u001b[0;32m      8\u001b[0m \u001b[43m            \u001b[49m\u001b[43mperioddata\u001b[49m\u001b[38;5;241;43m=\u001b[39;49m\u001b[43mmaw_spd\u001b[49m\u001b[43m,\u001b[49m\n\u001b[0;32m      9\u001b[0m \u001b[43m        \u001b[49m\u001b[43m)\u001b[49m\n\u001b[0;32m     10\u001b[0m     \u001b[38;5;66;03m# set up some observations\u001b[39;00m\n\u001b[0;32m     11\u001b[0m     obs_file \u001b[38;5;241m=\u001b[39m \u001b[38;5;124mf\u001b[39m\u001b[38;5;124m\"\u001b[39m\u001b[38;5;132;01m{\u001b[39;00mm\u001b[38;5;241m.\u001b[39mname\u001b[38;5;132;01m}\u001b[39;00m\u001b[38;5;124m.maw.obs\u001b[39m\u001b[38;5;124m\"\u001b[39m\n",
      "File \u001b[1;32m~\\anaconda3\\envs\\mfsetup\\Lib\\site-packages\\flopy\\mf6\\modflow\\mfgwfmaw.py:642\u001b[0m, in \u001b[0;36mModflowGwfmaw.__init__\u001b[1;34m(self, model, loading_package, auxiliary, boundnames, print_input, print_head, print_flows, save_flows, head_filerecord, budget_filerecord, budgetcsv_filerecord, no_well_storage, flow_correction, flowing_wells, shutdown_theta, shutdown_kappa, mfrcsv_filerecord, timeseries, observations, mover, nmawwells, packagedata, connectiondata, perioddata, filename, pname, **kwargs)\u001b[0m\n\u001b[0;32m    640\u001b[0m \u001b[38;5;28mself\u001b[39m\u001b[38;5;241m.\u001b[39mmover \u001b[38;5;241m=\u001b[39m \u001b[38;5;28mself\u001b[39m\u001b[38;5;241m.\u001b[39mbuild_mfdata(\u001b[38;5;124m\"\u001b[39m\u001b[38;5;124mmover\u001b[39m\u001b[38;5;124m\"\u001b[39m, mover)\n\u001b[0;32m    641\u001b[0m \u001b[38;5;28mself\u001b[39m\u001b[38;5;241m.\u001b[39mnmawwells \u001b[38;5;241m=\u001b[39m \u001b[38;5;28mself\u001b[39m\u001b[38;5;241m.\u001b[39mbuild_mfdata(\u001b[38;5;124m\"\u001b[39m\u001b[38;5;124mnmawwells\u001b[39m\u001b[38;5;124m\"\u001b[39m, nmawwells)\n\u001b[1;32m--> 642\u001b[0m \u001b[38;5;28mself\u001b[39m\u001b[38;5;241m.\u001b[39mpackagedata \u001b[38;5;241m=\u001b[39m \u001b[38;5;28;43mself\u001b[39;49m\u001b[38;5;241;43m.\u001b[39;49m\u001b[43mbuild_mfdata\u001b[49m\u001b[43m(\u001b[49m\u001b[38;5;124;43m\"\u001b[39;49m\u001b[38;5;124;43mpackagedata\u001b[39;49m\u001b[38;5;124;43m\"\u001b[39;49m\u001b[43m,\u001b[49m\u001b[43m \u001b[49m\u001b[43mpackagedata\u001b[49m\u001b[43m)\u001b[49m\n\u001b[0;32m    643\u001b[0m \u001b[38;5;28mself\u001b[39m\u001b[38;5;241m.\u001b[39mconnectiondata \u001b[38;5;241m=\u001b[39m \u001b[38;5;28mself\u001b[39m\u001b[38;5;241m.\u001b[39mbuild_mfdata(\u001b[38;5;124m\"\u001b[39m\u001b[38;5;124mconnectiondata\u001b[39m\u001b[38;5;124m\"\u001b[39m,\n\u001b[0;32m    644\u001b[0m                                         connectiondata)\n\u001b[0;32m    645\u001b[0m \u001b[38;5;28mself\u001b[39m\u001b[38;5;241m.\u001b[39mperioddata \u001b[38;5;241m=\u001b[39m \u001b[38;5;28mself\u001b[39m\u001b[38;5;241m.\u001b[39mbuild_mfdata(\u001b[38;5;124m\"\u001b[39m\u001b[38;5;124mperioddata\u001b[39m\u001b[38;5;124m\"\u001b[39m, perioddata)\n",
      "File \u001b[1;32m~\\anaconda3\\envs\\mfsetup\\Lib\\site-packages\\flopy\\mf6\\mfpackage.py:2796\u001b[0m, in \u001b[0;36mMFPackage.build_mfdata\u001b[1;34m(self, var_name, data)\u001b[0m\n\u001b[0;32m   2794\u001b[0m dataset_struct \u001b[38;5;241m=\u001b[39m block\u001b[38;5;241m.\u001b[39mdata_structures[var_name]\n\u001b[0;32m   2795\u001b[0m var_path \u001b[38;5;241m=\u001b[39m \u001b[38;5;28mself\u001b[39m\u001b[38;5;241m.\u001b[39mpath \u001b[38;5;241m+\u001b[39m (key, var_name)\n\u001b[1;32m-> 2796\u001b[0m ds \u001b[38;5;241m=\u001b[39m \u001b[38;5;28;43mself\u001b[39;49m\u001b[38;5;241;43m.\u001b[39;49m\u001b[43mblocks\u001b[49m\u001b[43m[\u001b[49m\u001b[43mblock\u001b[49m\u001b[38;5;241;43m.\u001b[39;49m\u001b[43mname\u001b[49m\u001b[43m]\u001b[49m\u001b[38;5;241;43m.\u001b[39;49m\u001b[43madd_dataset\u001b[49m\u001b[43m(\u001b[49m\n\u001b[0;32m   2797\u001b[0m \u001b[43m    \u001b[49m\u001b[43mdataset_struct\u001b[49m\u001b[43m,\u001b[49m\u001b[43m \u001b[49m\u001b[43mdata\u001b[49m\u001b[43m,\u001b[49m\u001b[43m \u001b[49m\u001b[43mvar_path\u001b[49m\n\u001b[0;32m   2798\u001b[0m \u001b[43m\u001b[49m\u001b[43m)\u001b[49m\n\u001b[0;32m   2799\u001b[0m \u001b[38;5;28mself\u001b[39m\u001b[38;5;241m.\u001b[39m_data_list\u001b[38;5;241m.\u001b[39mappend(ds)\n\u001b[0;32m   2800\u001b[0m \u001b[38;5;28;01mreturn\u001b[39;00m ds\n",
      "File \u001b[1;32m~\\anaconda3\\envs\\mfsetup\\Lib\\site-packages\\flopy\\mf6\\mfpackage.py:632\u001b[0m, in \u001b[0;36mMFBlock.add_dataset\u001b[1;34m(self, dataset_struct, data, var_path)\u001b[0m\n\u001b[0;32m    621\u001b[0m     \u001b[38;5;28mself\u001b[39m\u001b[38;5;241m.\u001b[39mdatasets[var_path[\u001b[38;5;241m-\u001b[39m\u001b[38;5;241m1\u001b[39m]] \u001b[38;5;241m=\u001b[39m \u001b[38;5;28mself\u001b[39m\u001b[38;5;241m.\u001b[39mdata_factory(\n\u001b[0;32m    622\u001b[0m         \u001b[38;5;28mself\u001b[39m\u001b[38;5;241m.\u001b[39m_simulation_data,\n\u001b[0;32m    623\u001b[0m         \u001b[38;5;28mself\u001b[39m\u001b[38;5;241m.\u001b[39m_model_or_sim,\n\u001b[1;32m   (...)\u001b[0m\n\u001b[0;32m    629\u001b[0m         \u001b[38;5;28mself\u001b[39m\u001b[38;5;241m.\u001b[39m_container_package,\n\u001b[0;32m    630\u001b[0m     )\n\u001b[0;32m    631\u001b[0m \u001b[38;5;28;01mexcept\u001b[39;00m MFDataException \u001b[38;5;28;01mas\u001b[39;00m mfde:\n\u001b[1;32m--> 632\u001b[0m     \u001b[38;5;28;01mraise\u001b[39;00m MFDataException(\n\u001b[0;32m    633\u001b[0m         mfdata_except\u001b[38;5;241m=\u001b[39mmfde,\n\u001b[0;32m    634\u001b[0m         model\u001b[38;5;241m=\u001b[39m\u001b[38;5;28mself\u001b[39m\u001b[38;5;241m.\u001b[39m_container_package\u001b[38;5;241m.\u001b[39mmodel_name,\n\u001b[0;32m    635\u001b[0m         package\u001b[38;5;241m=\u001b[39m\u001b[38;5;28mself\u001b[39m\u001b[38;5;241m.\u001b[39m_container_package\u001b[38;5;241m.\u001b[39m_get_pname(),\n\u001b[0;32m    636\u001b[0m         message\u001b[38;5;241m=\u001b[39m\u001b[38;5;124m\"\u001b[39m\u001b[38;5;124mError occurred while adding\u001b[39m\u001b[38;5;124m\"\u001b[39m\n\u001b[0;32m    637\u001b[0m         \u001b[38;5;124m'\u001b[39m\u001b[38;5;124m dataset \u001b[39m\u001b[38;5;124m\"\u001b[39m\u001b[38;5;132;01m{}\u001b[39;00m\u001b[38;5;124m\"\u001b[39m\u001b[38;5;124m to block \u001b[39m\u001b[38;5;124m'\u001b[39m\n\u001b[0;32m    638\u001b[0m         \u001b[38;5;124m'\u001b[39m\u001b[38;5;124m\"\u001b[39m\u001b[38;5;132;01m{}\u001b[39;00m\u001b[38;5;124m\"\u001b[39m\u001b[38;5;124m'\u001b[39m\u001b[38;5;241m.\u001b[39mformat(dataset_struct\u001b[38;5;241m.\u001b[39mname, \u001b[38;5;28mself\u001b[39m\u001b[38;5;241m.\u001b[39mstructure\u001b[38;5;241m.\u001b[39mname),\n\u001b[0;32m    639\u001b[0m     )\n\u001b[0;32m    641\u001b[0m \u001b[38;5;28mself\u001b[39m\u001b[38;5;241m.\u001b[39m_simulation_data\u001b[38;5;241m.\u001b[39mmfdata[var_path] \u001b[38;5;241m=\u001b[39m \u001b[38;5;28mself\u001b[39m\u001b[38;5;241m.\u001b[39mdatasets[var_path[\u001b[38;5;241m-\u001b[39m\u001b[38;5;241m1\u001b[39m]]\n\u001b[0;32m    642\u001b[0m dtype \u001b[38;5;241m=\u001b[39m dataset_struct\u001b[38;5;241m.\u001b[39mget_datatype()\n",
      "\u001b[1;31mMFDataException\u001b[0m: An error occurred in data element \"packagedata\" model \"sgn_50\" package \"maw_3\". The error occurred while setting data in the \"__init__\" method.\nAdditional Information:\n(1) Error occurred while adding dataset \"packagedata\" to block \"packagedata\""
     ]
    }
   ],
   "source": [
    "if include_MAW:\n",
    "    maw = fp.mf6.ModflowGwfmaw(model=m,no_well_storage=True,nmawwells=len(maw_wells),\n",
    "                               packagedata=maw_packagedata,connectiondata=maw_connections,perioddata=maw_spd,)\n",
    "    obs_file = f\"{m.name}.maw.obs\"         # set up some observations\n",
    "    csv_file = f\"{obs_file}.csv\"\n",
    "    head_obs =  [['head','head', i+1] for i in range(len(maw_wells))]\n",
    "    Qobs = []\n",
    "    for i in range(len(maw_wells)):\n",
    "        Qobs.extend([[f'Q.{i}_lay{j}', 'maw', i+1, j+1 ] for j in range(3)])\n",
    "    obs_dict = {csv_file: head_obs + Qobs}\n",
    "    maw.obs.initialize(filename = obs_file, digits  = 8, print_input=True, continuous=obs_dict)"
   ]
  },
  {
   "cell_type": "code",
   "execution_count": null,
   "id": "37dcb490",
   "metadata": {},
   "outputs": [],
   "source": [
    "m.write_input()"
   ]
  },
  {
   "cell_type": "code",
   "execution_count": 21,
   "id": "c6741479",
   "metadata": {},
   "outputs": [
    {
     "data": {
      "text/plain": [
       "'sgn_50'"
      ]
     },
     "execution_count": 21,
     "metadata": {},
     "output_type": "execute_result"
    }
   ],
   "source": [
    "m.name"
   ]
  },
  {
   "cell_type": "code",
   "execution_count": 22,
   "id": "ea8eba2b",
   "metadata": {},
   "outputs": [],
   "source": [
    "m.dis.export('testgrid.shp')"
   ]
  },
  {
   "cell_type": "code",
   "execution_count": 23,
   "id": "93c68454",
   "metadata": {},
   "outputs": [],
   "source": [
    "ims = [i.rstrip() for i in open('../../models/sgn_mfsetup/sgn_50_sim.ims').readlines()]  # ims"
   ]
  },
  {
   "cell_type": "code",
   "execution_count": 24,
   "id": "b0554837",
   "metadata": {},
   "outputs": [],
   "source": [
    "with open('../../models/sgn_mfsetup/sgn_50_sim.ims', 'w') as ofp:\n",
    "    [ofp.write(\"{}\\n\".format(line.replace('END options', '  NO_PTC ALL\\nEND options'))) for line in ims]"
   ]
  },
  {
   "cell_type": "code",
   "execution_count": 25,
   "id": "33bd5d04",
   "metadata": {},
   "outputs": [
    {
     "name": "stdout",
     "output_type": "stream",
     "text": [
      "FloPy is using the following executable to run the model: mf6.exe\n",
      "                                   MODFLOW 6\n",
      "                U.S. GEOLOGICAL SURVEY MODULAR HYDROLOGIC MODEL\n",
      "                   VERSION 6.3.0 release candidate 02/06/2022\n",
      "                               ***DEVELOP MODE***\n",
      "\n",
      "   MODFLOW 6 compiled Feb 06 2022 02:35:51 with Intel(R) Fortran Intel(R) 64\n",
      "   Compiler Classic for applications running on Intel(R) 64, Version 2021.5.0\n",
      "                             Build 20211109_000000\n",
      "\n",
      "This software is preliminary or provisional and is subject to \n",
      "revision. It is being provided to meet the need for timely best \n",
      "science. The software has not received final approval by the U.S. \n",
      "Geological Survey (USGS). No warranty, expressed or implied, is made \n",
      "by the USGS or the U.S. Government as to the functionality of the \n",
      "software and related material nor shall the fact of release \n",
      "constitute any such warranty. The software is provided on the \n",
      "condition that neither the USGS nor the U.S. Government shall be held \n",
      "liable for any damages resulting from the authorized or unauthorized \n",
      "use of the software.\n",
      "\n",
      " \n",
      " Run start date and time (yyyy/mm/dd hh:mm:ss): 2025/02/01  6:12:21\n",
      " \n",
      " Writing simulation list file: mfsim.lst\n",
      " Using Simulation name file: mfsim.nam\n",
      " \n",
      "\n",
      "ERROR REPORT:\n",
      "\n",
      "  1. File unit 1021: Error converting \"19/16__0\" to an integer in following\n",
      "     line:\n",
      "  2.   19/16__0\n",
      "\n",
      "UNIT ERROR REPORT:\n",
      "\n",
      "  1. ERROR OCCURRED WHILE READING FILE\n",
      "     'E:\\15_REPOS\\d03_Beta-Me\\02_Symple_______________________\\models\\sgn_mfse\n",
      "     tup\\sgn_50.wel.obs'\n",
      "\n",
      "2\n"
     ]
    },
    {
     "data": {
      "text/plain": [
       "(False, [])"
      ]
     },
     "execution_count": 25,
     "metadata": {},
     "output_type": "execute_result"
    }
   ],
   "source": [
    "m.simulation.run_simulation()"
   ]
  },
  {
   "cell_type": "code",
   "execution_count": null,
   "id": "05d6aa79",
   "metadata": {},
   "outputs": [],
   "source": [
    "top = m.dis.top.array"
   ]
  },
  {
   "cell_type": "code",
   "execution_count": null,
   "id": "dddcf740",
   "metadata": {},
   "outputs": [],
   "source": [
    "plt.imshow(top)"
   ]
  },
  {
   "cell_type": "code",
   "execution_count": null,
   "id": "d2d29541",
   "metadata": {},
   "outputs": [],
   "source": [
    "h = fu.binaryfile.HeadFile('../../models/sgn_mfsetup/sgn_50.hds').get_alldata()"
   ]
  },
  {
   "cell_type": "code",
   "execution_count": null,
   "id": "9f019e26",
   "metadata": {},
   "outputs": [],
   "source": [
    "h.shape"
   ]
  },
  {
   "cell_type": "code",
   "execution_count": null,
   "id": "90faeb30",
   "metadata": {},
   "outputs": [],
   "source": [
    "plt.imshow(np.squeeze(h)[0][0])\n",
    "plt.colorbar()"
   ]
  },
  {
   "cell_type": "code",
   "execution_count": null,
   "id": "6a5c5822",
   "metadata": {},
   "outputs": [],
   "source": [
    "plt.imshow(np.squeeze(h)[1][0])\n",
    "plt.colorbar()"
   ]
  },
  {
   "cell_type": "markdown",
   "id": "00986cde",
   "metadata": {},
   "source": [
    "### make sure the barrier well shows up in the second stress period"
   ]
  },
  {
   "cell_type": "code",
   "execution_count": null,
   "id": "368af558",
   "metadata": {},
   "outputs": [],
   "source": [
    "plt.imshow(np.squeeze(h)[1][0]-np.squeeze(h)[0][0])\n",
    "plt.colorbar()"
   ]
  },
  {
   "cell_type": "markdown",
   "id": "c4fedc40",
   "metadata": {},
   "source": [
    "### check flooding"
   ]
  },
  {
   "cell_type": "code",
   "execution_count": null,
   "id": "935d533d",
   "metadata": {},
   "outputs": [],
   "source": [
    "flooded = top-np.squeeze(h)[0][0]\n",
    "plt.imshow(flooded)\n",
    "plt.colorbar()"
   ]
  },
  {
   "cell_type": "code",
   "execution_count": null,
   "id": "8788850c",
   "metadata": {},
   "outputs": [],
   "source": [
    "flooded[flooded>0] = np.nan\n",
    "plt.imshow(flooded)\n",
    "plt.colorbar()"
   ]
  },
  {
   "cell_type": "code",
   "execution_count": null,
   "id": "f4cc1582",
   "metadata": {},
   "outputs": [],
   "source": [
    "df1,df2 = fu.Mf6ListBudget('../../models/sgn_mfsetup/sgn_50.list').get_dataframes(\n",
    "    start_datetime='2020-12-31')"
   ]
  },
  {
   "cell_type": "code",
   "execution_count": null,
   "id": "8b68b919",
   "metadata": {},
   "outputs": [],
   "source": [
    "df1"
   ]
  },
  {
   "cell_type": "code",
   "execution_count": null,
   "id": "d592657b",
   "metadata": {},
   "outputs": [],
   "source": [
    "df2"
   ]
  },
  {
   "cell_type": "markdown",
   "id": "eea3a63d",
   "metadata": {},
   "source": [
    "## check out the MAW obs"
   ]
  },
  {
   "cell_type": "code",
   "execution_count": null,
   "id": "eb61771b",
   "metadata": {},
   "outputs": [],
   "source": [
    "if include_MAW:\n",
    "    maw_df = pd.read_csv('../../models/sgn_mfsetup/sgn_50.maw.obs.csv', index_col=0)"
   ]
  },
  {
   "cell_type": "code",
   "execution_count": null,
   "id": "ae12702c",
   "metadata": {},
   "outputs": [],
   "source": [
    "maw_df"
   ]
  },
  {
   "cell_type": "code",
   "execution_count": null,
   "id": "4531b653",
   "metadata": {},
   "outputs": [],
   "source": []
  }
 ],
 "metadata": {
  "kernelspec": {
   "display_name": "mfsetup",
   "language": "python",
   "name": "mfsetup"
  },
  "language_info": {
   "codemirror_mode": {
    "name": "ipython",
    "version": 3
   },
   "file_extension": ".py",
   "mimetype": "text/x-python",
   "name": "python",
   "nbconvert_exporter": "python",
   "pygments_lexer": "ipython3",
   "version": "3.13.1"
  }
 },
 "nbformat": 4,
 "nbformat_minor": 5
}
