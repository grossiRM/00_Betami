{
 "cells": [
  {
   "cell_type": "code",
   "execution_count": 1,
   "id": "ecbb7115",
   "metadata": {},
   "outputs": [],
   "source": [
    "import sys\n",
    "sys.path.append('../dependencies/')\n",
    "import yaml\n",
    "import matplotlib.pyplot as plt\n",
    "import rasterio\n",
    "from rasterio import features\n",
    "import geopandas as gp\n",
    "import pandas as pd\n",
    "from pathlib import Path\n",
    "import numpy as np\n",
    "from shapely.geometry import Point, LineString"
   ]
  },
  {
   "cell_type": "markdown",
   "id": "070f0869",
   "metadata": {},
   "source": [
    "## **`geopandas` shapefiles**"
   ]
  },
  {
   "cell_type": "code",
   "execution_count": 2,
   "id": "78dac6b7",
   "metadata": {},
   "outputs": [],
   "source": [
    "datapath = Path('../data/sgn/')\n",
    "domain = gp.read_file(datapath / 'shp' / 'Model_domain.shp')\n",
    "# domain.plot()"
   ]
  },
  {
   "cell_type": "code",
   "execution_count": 3,
   "id": "752d3c21",
   "metadata": {},
   "outputs": [],
   "source": [
    "# domain.crs                   # coordinate reference system"
   ]
  },
  {
   "cell_type": "markdown",
   "id": "1843f875",
   "metadata": {},
   "source": [
    "### **rotation is anticlockwise**"
   ]
  },
  {
   "cell_type": "code",
   "execution_count": 4,
   "id": "240cd48a",
   "metadata": {},
   "outputs": [],
   "source": [
    "x,y = domain.geometry[0].exterior.coords.xy\n",
    "xul, yul = x[np.argmin(x)],y[np.argmin(x)]\n",
    "xtop, ytop = x[np.argmax(y)],y[np.argmax(y)]\n",
    "xll, yll = x[np.argmin(y)],y[np.argmin(y)]\n",
    "xlr,ylr = x[np.argmax(x)],y[np.argmax(x)]"
   ]
  },
  {
   "cell_type": "raw",
   "id": "79ffaa30-8b30-4782-b241-7a016eff0a5a",
   "metadata": {},
   "source": [
    "ax = domain.plot(color=None)\n",
    "ax.plot(xul,yul, 'x', ms=12)    # x mark\n",
    "ax.plot(xtop,ytop, 'o', ms=12)  # circle mark\n",
    "ax.plot(xll,yll,'*', ms=12)     # star mark\n",
    "ax.plot(xlr,ylr,'d', ms=12)     # diamond mark"
   ]
  },
  {
   "cell_type": "markdown",
   "id": "2e72ec9c",
   "metadata": {},
   "source": [
    "### $\\sin\\theta=\\frac{opposite}{hypotenuse}$\n",
    "### $\\theta=\\sin^{-1} \\frac{opposite}{hypotenuse}$"
   ]
  },
  {
   "cell_type": "code",
   "execution_count": 5,
   "id": "310dbfb5",
   "metadata": {},
   "outputs": [],
   "source": [
    "opp_over_hyp = np.abs(ytop-yul)/np.sqrt((xtop-xul)**2+(ytop-yul)**2)\n",
    "# opp_over_hyp\n",
    "theta = np.arcsin(opp_over_hyp)\n",
    "theta = float(theta * 180/np.pi)\n",
    "# theta\n",
    "length = np.round(np.sqrt((xll-xul)**2+(yll-yul)**2), decimals=-1)\n",
    "# length\n",
    "width = np.round(np.sqrt((xll-xlr)**2+(yll-ylr)**2), decimals=-1)\n",
    "# width"
   ]
  },
  {
   "cell_type": "markdown",
   "id": "02ff0c76",
   "metadata": {},
   "source": [
    "# **Recharge**"
   ]
  },
  {
   "cell_type": "code",
   "execution_count": 6,
   "id": "38d061cd",
   "metadata": {},
   "outputs": [
    {
     "data": {
      "text/plain": [
       "Index(['DESCR', 'RCH_mmy', 'geometry'], dtype='object')"
      ]
     },
     "execution_count": 6,
     "metadata": {},
     "output_type": "execute_result"
    }
   ],
   "source": [
    "rch = gp.read_file(datapath / 'shp' / 'Recharge_4.shp')\n",
    "rch.to_csv(\"rch___________________.csv\")\n",
    "rch.to_csv('rch_B.dat')    # rhc.tail()   # rch.plot(column = 'RCH_mmy', legend=True)\n",
    "rch.columns"
   ]
  },
  {
   "cell_type": "code",
   "execution_count": 7,
   "id": "bdee4d2e",
   "metadata": {},
   "outputs": [],
   "source": [
    "bot2_rast = rasterio.open(datapath/ 'raster' / 'Bott_L2_fix.tif') \n",
    "rastermeta = bot2_rast.meta.copy()\n",
    "rastermeta.update(compress='lzw') # set compression to be sure file is small as possible"
   ]
  },
  {
   "cell_type": "code",
   "execution_count": 8,
   "id": "9c746ea1",
   "metadata": {},
   "outputs": [],
   "source": [
    "rchpolygons = ((geom,value) for geom, value in zip(rch.geometry, rch.RCH_mmy))        #-1   #-2    # ______ of rch.shp\n",
    "with rasterio.open(datapath/ 'raster' / 'rch.tif', 'w+', **rastermeta) as ofp:        #_______________________________      \n",
    "    out_arr = ofp.read(1)  #________________________________________________________________________________________\n",
    "    rchraster = features.rasterize(shapes=rchpolygons, fill=-9999, out=out_arr, transform=ofp.transform)\n",
    "    ofp.write_band(1,rchraster)"
   ]
  },
  {
   "cell_type": "code",
   "execution_count": 9,
   "id": "f7aeb79d-fcd2-428d-9454-65443530fba7",
   "metadata": {},
   "outputs": [],
   "source": [
    "with rasterio.open(datapath/ 'raster' / 'rch.tif') as src:   # just confirm, BUT SET..... rch\n",
    "    rch = src.read(1)\n",
    "rch[rch<-1] = np.nan\n",
    "# plt.imshow(rch)\n",
    "# plt.colorbar()"
   ]
  },
  {
   "cell_type": "markdown",
   "id": "ca1eb43e",
   "metadata": {},
   "source": [
    "## **Geology**"
   ]
  },
  {
   "cell_type": "code",
   "execution_count": 10,
   "id": "9d9c1209",
   "metadata": {},
   "outputs": [
    {
     "data": {
      "text/plain": [
       "Index(['COD', 'LITOLOGIA', 'geometry'], dtype='object')"
      ]
     },
     "execution_count": 10,
     "metadata": {},
     "output_type": "execute_result"
    }
   ],
   "source": [
    "geology = gp.read_file(datapath / 'shp' / 'Geology_250000_clip.shp')         # datapath = Path('../data/sgn/')\n",
    "geology.to_csv(\"geology_00__________________.csv\")\n",
    "# geology.plot(column = 'LITOLOGIA', legend=True)\n",
    "geology.columns"
   ]
  },
  {
   "cell_type": "code",
   "execution_count": 11,
   "id": "6c9c19da",
   "metadata": {},
   "outputs": [
    {
     "name": "stderr",
     "output_type": "stream",
     "text": [
      "C:\\Users\\gross.DESKTOP-AIRQM2M\\AppData\\Local\\Temp\\ipykernel_10776\\3284507228.py:2: FutureWarning: Setting an item of incompatible dtype is deprecated and will raise an error in a future version of pandas. Value '0.0045' has dtype incompatible with int64, please explicitly cast to a compatible dtype first.\n",
      "  geology.loc[geology.LITOLOGIA == 'Gravel and sand', 'k'] = 0.0045            # geology\n"
     ]
    }
   ],
   "source": [
    "geology['k'] = -999999\n",
    "geology.loc[geology.LITOLOGIA == 'Gravel and sand', 'k'] = 0.0045            # geology\n",
    "geology.loc[geology.LITOLOGIA == 'Gravel, sand and silt', 'k'] = 0.0023\n",
    "assert geology.k.min()>0 # this assert statment will throw an error if we have any k values of 0 or less\n",
    "                         # it's embarassment prevention to be sure we assigned a real K value to each lithology\n",
    "# geology.plot(column='k', legend=True)"
   ]
  },
  {
   "cell_type": "code",
   "execution_count": 12,
   "id": "2fb6ed07",
   "metadata": {},
   "outputs": [],
   "source": [
    "geopolygons = ((geom,value) for geom, value in zip(geology.geometry, geology.k))\n",
    "with rasterio.open(datapath/ 'raster' / 'k_field0.tif', 'w+', **rastermeta) as ofp: #_______________________________\n",
    "    out_arr = ofp.read(1)   #_______________________________________________________________________________________\n",
    "    georaster = features.rasterize(shapes=geopolygons, fill=-9999, out=out_arr, transform=ofp.transform)\n",
    "    ofp.write_band(1,georaster)"
   ]
  },
  {
   "cell_type": "code",
   "execution_count": 13,
   "id": "40d47ad5-a5a5-4785-adc3-e4716ac478ed",
   "metadata": {},
   "outputs": [],
   "source": [
    "# confirm we wrote this ok\n",
    "with rasterio.open(datapath/ 'raster' / 'k_field0.tif') as src:\n",
    "    k0 = src.read(1)\n",
    "k0[k0<-1] = np.nan\n",
    "#plt.imshow(k0)\n",
    "#plt.colorbar()"
   ]
  },
  {
   "cell_type": "code",
   "execution_count": 14,
   "id": "b2167dcc",
   "metadata": {},
   "outputs": [],
   "source": [
    "k1 = np.ones_like(k0) * 1e-8 # aquitard\n",
    "k2 = np.ones_like(k0) * 2.3e-3 # deep aquifer"
   ]
  },
  {
   "cell_type": "code",
   "execution_count": 15,
   "id": "6103c598",
   "metadata": {},
   "outputs": [],
   "source": [
    "with rasterio.open(datapath/ 'raster' / 'k_field1.tif', 'w+', **rastermeta) as ofp:\n",
    "    ofp.write_band(1, k1)     #________________________________________________________________________________________\n",
    "with rasterio.open(datapath/ 'raster' / 'k_field2.tif', 'w+', **rastermeta) as ofp:\n",
    "    ofp.write_band(1, k2)     #________________________________________________________________________________________"
   ]
  },
  {
   "cell_type": "markdown",
   "id": "03ee5b2a",
   "metadata": {},
   "source": [
    "## **River**"
   ]
  },
  {
   "cell_type": "code",
   "execution_count": 16,
   "id": "b49bd622",
   "metadata": {},
   "outputs": [],
   "source": [
    "riv = gp.read_file(datapath / 'shp' / 'River_Lambro.shp')\n",
    "# riv"
   ]
  },
  {
   "cell_type": "raw",
   "id": "5f4ace35-ed61-400d-811e-95e8070a9050",
   "metadata": {},
   "source": [
    "ax = geology.plot(column='k', legend=True)\n",
    "riv.plot(ax=ax)"
   ]
  },
  {
   "cell_type": "code",
   "execution_count": 17,
   "id": "a61b543e",
   "metadata": {},
   "outputs": [],
   "source": [
    "riv1 = riv.iloc[0].geometry"
   ]
  },
  {
   "cell_type": "code",
   "execution_count": 18,
   "id": "fd2b2045",
   "metadata": {},
   "outputs": [],
   "source": [
    "rivpts = [Point(i) for i in riv1.coords]\n",
    "newpt = Point(rivpts[0].coords[0][0],rivpts[0].coords[0][1]+150)           # _______ starting point outside the domain  \n",
    "rivpts.insert(0,newpt)                                                      \n",
    "newpt = Point(rivpts[-1].coords[0][0]+150,rivpts[-1].coords[0][1]-150)     # _______ ending point each outside the domain\n",
    "\n",
    "rivpts.append(newpt)                                                         "
   ]
  },
  {
   "cell_type": "code",
   "execution_count": 19,
   "id": "7ac7feb3",
   "metadata": {},
   "outputs": [],
   "source": [
    "rivsegs = []\n",
    "totpts = len(rivpts)/10\n",
    "previous_seg = 0\n",
    "for i in range(1,10):\n",
    "    tmppts = rivpts[previous_seg:int(i*totpts)]\n",
    "    previous_seg = int(i*totpts)-1\n",
    "    rivsegs.append(LineString(zip([c.coords[0][0] for c in tmppts],[c.coords[0][1] for c in tmppts])))\n",
    "tmppts = rivpts[previous_seg:-1]\n",
    "rivsegs.append(LineString(zip([c.coords[0][0] for c in tmppts],[c.coords[0][1] for c in tmppts])))"
   ]
  },
  {
   "cell_type": "code",
   "execution_count": 20,
   "id": "76ea68bc",
   "metadata": {},
   "outputs": [],
   "source": [
    "riv_divided = gp.GeoDataFrame({'geometry':rivsegs,'segname': [i+1+1000 for i in range(len(rivsegs))]},crs=riv.crs)  # _______\n",
    "riv_points = gp.GeoDataFrame({'geometry':rivpts,'ptname' : np.arange(len(rivpts))},crs=riv.crs)  # __________________________"
   ]
  },
  {
   "cell_type": "raw",
   "id": "1ef75552-8831-48d5-8a49-d201b7388101",
   "metadata": {},
   "source": [
    "ax=riv_divided.plot(column='segname', legend=True, figsize=(4,5))\n",
    "riv_points.plot(column='ptname', ax=ax)"
   ]
  },
  {
   "cell_type": "code",
   "execution_count": 21,
   "id": "a3d6c650-a517-416e-b4f3-0ba6b32640f1",
   "metadata": {},
   "outputs": [],
   "source": [
    "riv_points.to_csv(\"04_riv_points__________________.csv\")"
   ]
  },
  {
   "cell_type": "markdown",
   "id": "cffaf6a6",
   "metadata": {},
   "source": [
    "## **River routing**"
   ]
  },
  {
   "cell_type": "code",
   "execution_count": 22,
   "id": "e97addc1",
   "metadata": {},
   "outputs": [],
   "source": [
    "riv_divided ['from_id'] = [i+1000 for i in range(len(riv_divided))]\n",
    "riv_divided.loc[0, 'from_id'] = 0\n",
    "riv_divided ['to_id'] = [i+2+1000 for i in range(len(riv_divided))]\n",
    "riv_divided.loc[9, 'to_id'] = 0\n",
    "riv_divided['streamwid'] = 15                          # wild guess on river width"
   ]
  },
  {
   "cell_type": "code",
   "execution_count": 23,
   "id": "79a1ee82",
   "metadata": {},
   "outputs": [],
   "source": [
    "riv_divided.to_csv(\"05_riv_divided__________________.csv\")         # riv_divided\n",
    "riv_divided.to_file(datapath / 'shp' / 'River_Lambro_segmented.shp')\n",
    "with rasterio.open(datapath/ 'raster' / 'DTM_domain.tif') as src:\n",
    "    modtop = src.read(1)\n",
    "with rasterio.open(datapath/ 'raster' / 'Bott_L1_fix.tif') as src:\n",
    "    bot1 = src.read(1)\n",
    "with rasterio.open(datapath/ 'raster' / 'Bott_L2_fix.tif') as src:\n",
    "    bot2 = src.read(1)        # _____________________________________________plt.imshow(bot1) # plt.colorbar()"
   ]
  },
  {
   "cell_type": "code",
   "execution_count": 24,
   "id": "4ff6b8b6",
   "metadata": {},
   "outputs": [],
   "source": [
    "bot2_rast = rasterio.open(datapath/ 'raster' / 'Bott_L2_fix.tif') \n",
    "meta_lay3 = bot2_rast.meta.copy()\n",
    "meta_lay3.update(compress='lzw') \n",
    "bot2_rast.close()\n",
    "\n",
    "bot3 = bot2-60.  #plt.imshow(bot3)   #plt.colorbar()\n",
    "with rasterio.open(datapath/ 'raster' / 'Bott_L3_fix.tif', 'w+', **meta_lay3) as ofp:\n",
    "    ofp.write_band(1, bot3)       # ________________________________________________________________________________________\n",
    "with rasterio.open(datapath/ 'raster' / 'Bott_L3_fix.tif') as src:\n",
    "    bot3 = src.read(1)            # ________________________________________ # plt.imshow(bot3)    # plt.colorbar()"
   ]
  },
  {
   "cell_type": "markdown",
   "id": "a9f0fa9e-9502-442c-8934-ca8970dedf4e",
   "metadata": {},
   "source": [
    "## **Streamflow routing (SFR observations)**"
   ]
  },
  {
   "cell_type": "code",
   "execution_count": 25,
   "id": "a4ea23d3-b71b-4859-8ee6-a0875071c74b",
   "metadata": {},
   "outputs": [],
   "source": [
    "rivfile = str(datapath / 'shp' / 'River_Lambro_segmented.shp')                    \n",
    "inriv = gp.read_file(rivfile)           # 1º a CSV file with the segments identified\n",
    "inriv['obsname'] = [f'seg_{i}' for i in inriv.segname]\n",
    "inriv.head()\n",
    "rivsegfile = str(datapath / 'csv' / 'river_segments.csv')\n",
    "inriv[['segname', 'obsname']].to_csv(rivsegfile)\n",
    "riv_points.to_csv(\"05.2_SFR_points__________________.csv\")"
   ]
  },
  {
   "cell_type": "markdown",
   "id": "05573cbf",
   "metadata": {},
   "source": [
    "# **Wells**"
   ]
  },
  {
   "cell_type": "code",
   "execution_count": 26,
   "id": "8abae0b7",
   "metadata": {},
   "outputs": [],
   "source": [
    "wells = gp.read_file(datapath / 'shp' / 'wells.shp')   # ax = domain.plot(facecolor=\"none\", edgecolor='black')         # wells.plot( ax=ax)"
   ]
  },
  {
   "cell_type": "code",
   "execution_count": 27,
   "id": "e481ba60",
   "metadata": {},
   "outputs": [
    {
     "data": {
      "text/plain": [
       "Index(['WellName', 'X', 'Y', 'TopLayer', 'BottomLaye', 'DefaultQ', 'geometry'], dtype='object')"
      ]
     },
     "execution_count": 27,
     "metadata": {},
     "output_type": "execute_result"
    }
   ],
   "source": [
    "wells.columns"
   ]
  },
  {
   "cell_type": "code",
   "execution_count": 28,
   "id": "6fd2378a",
   "metadata": {},
   "outputs": [],
   "source": [
    "wells.WellName = wells.WellName.apply(lambda x: x.lower())\n",
    "well_metadata = pd.read_csv(datapath / 'wells_with_elev.dat', index_col=0)\n",
    "well_metadata.to_csv(\"06_Wells__________________.csv\")                          # len(well_metadata)        # well_metadata.head()\n",
    "\n",
    "well_metadata = well_metadata.loc[well_metadata.q != 0]         # q = 0  supressing     # len(well_metadata)\n",
    "well_metadata.head()\n",
    "well_metadata.to_csv(\"07_Wells__________________.csv\")"
   ]
  },
  {
   "cell_type": "markdown",
   "id": "905bb4ce",
   "metadata": {},
   "source": [
    "### **Pulling together the well metadata & pumping data**"
   ]
  },
  {
   "cell_type": "code",
   "execution_count": 29,
   "id": "bde5415d",
   "metadata": {},
   "outputs": [],
   "source": [
    "well_data = well_metadata.merge(wells[['X','Y','WellName']], left_on='rootname', right_on='WellName')  # well_data.head()"
   ]
  },
  {
   "cell_type": "code",
   "execution_count": 30,
   "id": "fb2e6198",
   "metadata": {},
   "outputs": [],
   "source": [
    "well_data = well_data.rename(columns = {'X':'x', 'Y':'y', 'laytop':'screen_top', 'laybot':'screen_botm'})\n",
    "well_data['datetime'] = '2021-01-01'             # need to add datetime for pumping\n",
    "well_data['enddatetime'] = '2022-12-31'\n",
    "well_data.to_csv(\"08_Wells_data_pump____________.csv\")      # well_data.head()"
   ]
  },
  {
   "cell_type": "markdown",
   "id": "2b143467",
   "metadata": {},
   "source": [
    "### **Barrier well**"
   ]
  },
  {
   "cell_type": "code",
   "execution_count": 31,
   "id": "d62a695b",
   "metadata": {},
   "outputs": [],
   "source": [
    "x_barrier, y_barrier = 1519614, 5031870\n",
    "\n",
    "DTM_raster= rasterio.open(datapath/ 'raster' / 'DTM_domain.tif')\n",
    "rDTM,cDTM = DTM_raster.index(x_barrier, y_barrier)\n",
    "DTM_barrier = modtop[rDTM,cDTM]\n",
    "\n",
    "Lay1_raster= rasterio.open(datapath/ 'raster' / 'Bott_L1_fix.tif')\n",
    "rLay1,cLay1 = Lay1_raster.index(x_barrier, y_barrier)\n",
    "bot1_barrier = bot1[rLay1,cLay1]"
   ]
  },
  {
   "cell_type": "code",
   "execution_count": 32,
   "id": "5e6cf7c0",
   "metadata": {},
   "outputs": [
    {
     "data": {
      "text/plain": [
       "(np.int32(464), np.int32(483))"
      ]
     },
     "execution_count": 32,
     "metadata": {},
     "output_type": "execute_result"
    }
   ],
   "source": [
    "rasterio.transform.rowcol(Lay1_raster.transform, x_barrier, y_barrier)       # must read unique coordinates"
   ]
  },
  {
   "cell_type": "markdown",
   "id": "a4b52264",
   "metadata": {},
   "source": [
    "#### **no zero pumping wells**"
   ]
  },
  {
   "cell_type": "code",
   "execution_count": 33,
   "id": "7ba9cb2e",
   "metadata": {},
   "outputs": [],
   "source": [
    "well_no_pumping = well_data.loc[well_data.q == 0].copy()\n",
    "well_no_pumping.loc[:,'screen_botm'] = -300            # set an arbitrarily low    # elevation for the screen bottom\n",
    "                                            \n",
    "well_no_pumping.index = range(len(well_no_pumping))\n",
    "well_no_pumping[['q','x','y','boundname','screen_top','screen_botm', 'enddatetime','datetime','laymidpt']].to_csv(datapath / 'wells_zero.csv')\n",
    "\n",
    "well_data_2 = well_data.loc[well_data.q != 0].copy()\n",
    "well_data_2.loc[:,'datetime'] = '2022-01-01'\n",
    "\n",
    "well_data = pd.concat((well_data,well_data_2))  # ____________concat ______________ append "
   ]
  },
  {
   "cell_type": "raw",
   "id": "5942228a-c6b7-4829-90f0-7d6b42f413d2",
   "metadata": {
    "jupyter": {
     "source_hidden": true
    }
   },
   "source": [
    "rivpts *** = [Point(i) for i in riv1.coords]\n",
    "newpt = Point(rivpts[0].coords[0][0],rivpts[0].coords[0][1]+150)           # _______ starting point outside the domain  \n",
    "rivpts***.insert(0,newpt)                                                      \n",
    "newpt = Point(rivpts[-1].coords[0][0]+150,rivpts[-1].coords[0][1]-150)     # _______ ending point each outside the domain\n",
    "\n",
    "rivpts.append(newpt *** )  \n",
    "\n",
    "rivsegs = []\n",
    "totpts = len(rivpts *** )/10 \n",
    "previous_seg = 0\n",
    "for i in range(1,10):\n",
    "    tmppts = rivpts *** [previous_seg:int(i*totpts)]\n",
    "    previous_seg = int(i*totpts)-1\n",
    "    rivsegs.append(LineString(zip([c.coords[0][0] for c in tmppts],[c.coords[0][1] for c in tmppts])))\n",
    "tmppts = rivpts *** [previous_seg:-1]\n",
    "rivsegs.append(LineString(zip([c.coords[0][0] for c in tmppts],[c.coords[0][1] for c in tmppts])))"
   ]
  },
  {
   "cell_type": "markdown",
   "id": "e703b936-520e-40a4-bccc-83436c7a4d12",
   "metadata": {},
   "source": [
    "# **This trouble needs revision** "
   ]
  },
  {
   "cell_type": "code",
   "execution_count": 34,
   "id": "e147b014-f887-4830-a676-9e84aabab19a",
   "metadata": {},
   "outputs": [
    {
     "ename": "AttributeError",
     "evalue": "'DataFrame' object has no attribute 'append'",
     "output_type": "error",
     "traceback": [
      "\u001b[1;31m---------------------------------------------------------------------------\u001b[0m",
      "\u001b[1;31mAttributeError\u001b[0m                            Traceback (most recent call last)",
      "\u001b[1;32m~\\AppData\\Local\\Temp\\ipykernel_10776\\1026043622.py\u001b[0m in \u001b[0;36m?\u001b[1;34m()\u001b[0m\n\u001b[1;32m----> 1\u001b[1;33m well_data = well_data.append(pd.DataFrame({'cellid':[np.nan],'q':[-30/1000],'x':[x_barrier],'y':[y_barrier],\n\u001b[0m\u001b[0;32m      2\u001b[0m                               \u001b[1;34m'boundname'\u001b[0m\u001b[1;33m:\u001b[0m\u001b[1;33m[\u001b[0m\u001b[1;34m'barrier'\u001b[0m\u001b[1;33m]\u001b[0m\u001b[1;33m,\u001b[0m\u001b[1;34m'screen_top'\u001b[0m\u001b[1;33m:\u001b[0m\u001b[1;33m[\u001b[0m\u001b[0mDTM_barrier\u001b[0m\u001b[1;33m]\u001b[0m\u001b[1;33m,\u001b[0m\u001b[1;34m'screen_botm'\u001b[0m\u001b[1;33m:\u001b[0m\u001b[1;33m[\u001b[0m\u001b[0mbot1_barrier\u001b[0m\u001b[1;33m]\u001b[0m\u001b[1;33m,\u001b[0m\u001b[1;33m\u001b[0m\u001b[1;33m\u001b[0m\u001b[0m\n\u001b[0;32m      3\u001b[0m                               \u001b[1;34m'datetime'\u001b[0m\u001b[1;33m:\u001b[0m\u001b[1;33m[\u001b[0m\u001b[1;34m'2022-01-01'\u001b[0m\u001b[1;33m]\u001b[0m\u001b[1;33m,\u001b[0m\u001b[1;34m'enddatetime'\u001b[0m\u001b[1;33m:\u001b[0m\u001b[1;33m[\u001b[0m\u001b[1;34m'2022-12-31'\u001b[0m\u001b[1;33m]\u001b[0m\u001b[1;33m,\u001b[0m\u001b[1;33m\u001b[0m\u001b[1;33m\u001b[0m\u001b[0m\n\u001b[0;32m      4\u001b[0m                               'laymidpt':[np.mean((DTM_barrier, bot1_barrier))],'layer':[0],'cell':[np.nan],'WellName':['barrier']}))\n",
      "\u001b[1;32m~\\anaconda3\\envs\\symple\\lib\\site-packages\\pandas\\core\\generic.py\u001b[0m in \u001b[0;36m?\u001b[1;34m(self, name)\u001b[0m\n\u001b[0;32m   6295\u001b[0m             \u001b[1;32mand\u001b[0m \u001b[0mname\u001b[0m \u001b[1;32mnot\u001b[0m \u001b[1;32min\u001b[0m \u001b[0mself\u001b[0m\u001b[1;33m.\u001b[0m\u001b[0m_accessors\u001b[0m\u001b[1;33m\u001b[0m\u001b[1;33m\u001b[0m\u001b[0m\n\u001b[0;32m   6296\u001b[0m             \u001b[1;32mand\u001b[0m \u001b[0mself\u001b[0m\u001b[1;33m.\u001b[0m\u001b[0m_info_axis\u001b[0m\u001b[1;33m.\u001b[0m\u001b[0m_can_hold_identifiers_and_holds_name\u001b[0m\u001b[1;33m(\u001b[0m\u001b[0mname\u001b[0m\u001b[1;33m)\u001b[0m\u001b[1;33m\u001b[0m\u001b[1;33m\u001b[0m\u001b[0m\n\u001b[0;32m   6297\u001b[0m         ):\n\u001b[0;32m   6298\u001b[0m             \u001b[1;32mreturn\u001b[0m \u001b[0mself\u001b[0m\u001b[1;33m[\u001b[0m\u001b[0mname\u001b[0m\u001b[1;33m]\u001b[0m\u001b[1;33m\u001b[0m\u001b[1;33m\u001b[0m\u001b[0m\n\u001b[1;32m-> 6299\u001b[1;33m         \u001b[1;32mreturn\u001b[0m \u001b[0mobject\u001b[0m\u001b[1;33m.\u001b[0m\u001b[0m__getattribute__\u001b[0m\u001b[1;33m(\u001b[0m\u001b[0mself\u001b[0m\u001b[1;33m,\u001b[0m \u001b[0mname\u001b[0m\u001b[1;33m)\u001b[0m\u001b[1;33m\u001b[0m\u001b[1;33m\u001b[0m\u001b[0m\n\u001b[0m",
      "\u001b[1;31mAttributeError\u001b[0m: 'DataFrame' object has no attribute 'append'"
     ]
    }
   ],
   "source": [
    "well_data = well_data.append(pd.DataFrame({'cellid':[np.nan],'q':[-30/1000],'x':[x_barrier],'y':[y_barrier],\n",
    "                              'boundname':['barrier'],'screen_top':[DTM_barrier],'screen_botm':[bot1_barrier],\n",
    "                              'datetime':['2022-01-01'],'enddatetime':['2022-12-31'],\n",
    "                              'laymidpt':[np.mean((DTM_barrier, bot1_barrier))],'layer':[0],'cell':[np.nan],'WellName':['barrier']}))\n",
    "# _______________             'laymidpt':[np.mean((DTM_barrier, bot1_barrier))],'layer':[0],'cell':[np.nan],'WellName':['barrier']}))"
   ]
  },
  {
   "cell_type": "code",
   "execution_count": 35,
   "id": "00c3e505",
   "metadata": {},
   "outputs": [],
   "source": [
    "well_data.to_csv(\"10_Wells_data_pump____________.csv\")    # ______________________________err\n",
    "well_data[['q','x','y','boundname','screen_top','screen_botm', 'enddatetime',\n",
    "                   'datetime','laymidpt']].to_csv(datapath / 'wells_nonzero.csv')\n",
    "well_data.to_csv(\"10_Wells_data_pump____________.csv\")"
   ]
  },
  {
   "cell_type": "markdown",
   "id": "6653bddf",
   "metadata": {},
   "source": [
    "# **Config_data**"
   ]
  },
  {
   "cell_type": "code",
   "execution_count": 36,
   "id": "db00ac07",
   "metadata": {},
   "outputs": [],
   "source": [
    "dxdy = 50 \n",
    "from collections import OrderedDict\n",
    "def represent_dictionary_order(self, dict_data):\n",
    "    return self.represent_mapping('tag:yaml.org,2002:map', dict_data.items())  \n",
    "config_data = OrderedDict()"
   ]
  },
  {
   "cell_type": "code",
   "execution_count": 37,
   "id": "54ad59d8",
   "metadata": {},
   "outputs": [
    {
     "data": {
      "text/plain": [
       "OrderedDict([('simulation',\n",
       "              {'sim_name': 'sgn_50_sim',\n",
       "               'sim_ws': '../models/sgn_mfsetup',\n",
       "               'version': 'mf6',\n",
       "               'options': {'continue': True}})])"
      ]
     },
     "execution_count": 37,
     "metadata": {},
     "output_type": "execute_result"
    }
   ],
   "source": [
    "config_data['simulation'] = dict()\n",
    "config_data['simulation']['sim_name'] = f'sgn_{dxdy}_sim'\n",
    "config_data['simulation']['sim_ws'] = '../models/sgn_mfsetup'\n",
    "config_data['simulation']['version'] = 'mf6'\n",
    "config_data['simulation']['options'] = dict()\n",
    "config_data['simulation']['options']['continue'] = True\n",
    "config_data"
   ]
  },
  {
   "cell_type": "code",
   "execution_count": 38,
   "id": "e0d1722a-31ba-40f3-bdbf-ffeab55e1c58",
   "metadata": {},
   "outputs": [],
   "source": [
    "# sim.write_simulation()"
   ]
  },
  {
   "cell_type": "code",
   "execution_count": 39,
   "id": "9944555b",
   "metadata": {},
   "outputs": [],
   "source": [
    "config_data['model'] = dict()\n",
    "config_data['model']['external_path'] = './' \n",
    "config_data['model']['modelname'] = f'sgn_{dxdy}'\n",
    "config_data['model']['relative_external_filepaths'] = True\n",
    "config_data['model']['simulation'] = f'sgn_{dxdy}_sim'\n",
    "\n",
    "# options subblock\n",
    "config_data['model']['options'] = dict()\n",
    "config_data['model']['options']['newton'] = True\n",
    "config_data['model']['options']['newton_under_relaxation'] = True\n",
    "config_data['model']['options']['print_input'] = True\n",
    "config_data['model']['options']['save_flows'] = True\n",
    "# packages block\n",
    "config_data['model']['packages'] = ['dis', 'ims', 'ic', 'wel', 'oc', 'npf', 'rch', 'sfr',\"obs\"]"
   ]
  },
  {
   "cell_type": "code",
   "execution_count": 40,
   "id": "8837bde4",
   "metadata": {},
   "outputs": [],
   "source": [
    "# config_data "
   ]
  },
  {
   "cell_type": "code",
   "execution_count": 41,
   "id": "e5690110",
   "metadata": {},
   "outputs": [],
   "source": [
    "config_data['intermediate_data'] = dict()\n",
    "config_data['intermediate_data']['output_folder'] = 'original/'"
   ]
  },
  {
   "cell_type": "code",
   "execution_count": 42,
   "id": "4c11e8b1",
   "metadata": {},
   "outputs": [],
   "source": [
    "# set up the grid\n",
    "config_data['setup_grid'] = dict()\n",
    "config_data['setup_grid']['epsg'] = domain.crs.to_epsg() # read in from the domain crs\n",
    "config_data['setup_grid']['rotation'] = float(np.round(theta, decimals=5)) # calculated above\n",
    "config_data['setup_grid']['xoff'] = xll # calculated above - lower left corner\n",
    "config_data['setup_grid']['yoff'] = yll # calculated above - lower left corner"
   ]
  },
  {
   "cell_type": "code",
   "execution_count": 43,
   "id": "5fdffbce",
   "metadata": {},
   "outputs": [],
   "source": [
    "# set up the discretization\n",
    "config_data['dis'] = dict()"
   ]
  },
  {
   "cell_type": "code",
   "execution_count": 44,
   "id": "da0489af",
   "metadata": {},
   "outputs": [],
   "source": [
    "#dimensions block\n",
    "config_data['dis']['dimensions'] = dict()\n",
    "# from the calcs above and using the specified cell spacing\n",
    "config_data['dis']['dimensions']['ncol'] = int(np.round(width/dxdy) )\n",
    "config_data['dis']['dimensions']['nrow'] = int(np.round(length/dxdy) )\n",
    "config_data['dis']['dimensions']['nlay'] = 3\n",
    "config_data['dis']['drop_thin_cells'] =  True       # ___________________________\n",
    "config_data['dis']['minimum_layer_thickness'] = 1.0\n",
    "config_data['dis']['remake_top'] = True\n",
    "config_data['dis']['griddata'] = dict()             # ___________________________\n",
    "config_data['dis']['griddata']['delr'] = dxdy\n",
    "config_data['dis']['griddata']['delc'] = dxdy\n",
    "config_data['dis']['options'] = dict()              # ___________________________\n",
    "config_data['dis']['options']['length_units'] = 'meters'\n",
    "# _____________________________________________________________________________________________________\n",
    "config_data['dis']['source_data'] = dict()\n",
    "config_data['dis']['source_data']['top'] = dict()\n",
    "\n",
    "config_data['dis']['source_data']['top']['filename'] = \\\n",
    "            str(datapath/ 'raster' / 'DTM_domain.tif')                 # __________ 00\n",
    "config_data['dis']['source_data']['botm'] = dict()\n",
    "config_data['dis']['source_data']['botm']['filenames'] = dict()\n",
    "config_data['dis']['source_data']['botm']['filenames'][0] =\\\n",
    "            str(datapath/ 'raster' / 'Bott_L1_fix.tif')                # __________ 01\n",
    "config_data['dis']['source_data']['botm']['filenames'][1] =\\\n",
    "            str(datapath/ 'raster' / 'Bott_L2_fix.tif')                # __________ 01 \n",
    "config_data['dis']['source_data']['botm']['filenames'][2] =\\\n",
    "            str(datapath/ 'raster' / 'Bott_L3_fix.tif')                # __________ 01\n",
    "\n",
    "config_data['dis']['source_data']['top']['elevation_units'] = 'meters'\n",
    "config_data['dis']['source_data']['botm']['elevation_units'] = 'meters'"
   ]
  },
  {
   "cell_type": "code",
   "execution_count": 45,
   "id": "7fe8a664",
   "metadata": {},
   "outputs": [],
   "source": [
    "config_data['tdis'] = dict()\n",
    "config_data['tdis']['options'] = dict()\n",
    "config_data['tdis']['options']['start_date_time'] = '2021-01-01'\n",
    "config_data['tdis']['options']['time_units'] = 'seconds'\n",
    "config_data['tdis']['perioddata'] = dict()\n",
    "config_data['tdis']['perioddata']['group 1'] = dict()\n",
    "config_data['tdis']['perioddata']['group 1']['nper'] = 1\n",
    "config_data['tdis']['perioddata']['group 1']['perlen'] = 1.57e9 \n",
    "config_data['tdis']['perioddata']['group 1']['nstp'] = 1\n",
    "config_data['tdis']['perioddata']['group 1']['steady'] = True\n",
    "config_data['tdis']['perioddata']['group 1']['tsmult'] = 1\n",
    "config_data['tdis']['perioddata']['group 1']['start_date_time'] = '2021-01-01'\n",
    "config_data['tdis']['perioddata']['group 1']['end_date_time'] = '2021-12-31'\n",
    "config_data['tdis']['perioddata']['group 2'] = dict() # _____________________________________________________________\n",
    "config_data['tdis']['perioddata']['group 2'] = dict()\n",
    "config_data['tdis']['perioddata']['group 2']['nper'] = 1\n",
    "config_data['tdis']['perioddata']['group 2']['perlen'] = 1.57e9 \n",
    "config_data['tdis']['perioddata']['group 2']['nstp'] = 1\n",
    "config_data['tdis']['perioddata']['group 2']['steady'] = True\n",
    "config_data['tdis']['perioddata']['group 2']['tsmult'] = 1\n",
    "config_data['tdis']['perioddata']['group 2']['start_date_time'] = '2022-01-01'\n",
    "config_data['tdis']['perioddata']['group 2']['end_date_time'] = '2022-12-31'"
   ]
  },
  {
   "cell_type": "code",
   "execution_count": 46,
   "id": "66483a1d",
   "metadata": {},
   "outputs": [],
   "source": [
    "config_data['ic'] = dict()\n",
    "config_data['ic']['strt_filename_fmt'] = \\\n",
    "    str(datapath/ 'raster' / 'DTM_domain.tif')"
   ]
  },
  {
   "cell_type": "code",
   "execution_count": 47,
   "id": "7e99b678",
   "metadata": {},
   "outputs": [],
   "source": [
    "wellfile = str(datapath / 'wells_nonzero.csv')\n",
    "config_data['wel'] = dict()\n",
    "config_data['wel']['options'] = dict()\n",
    "config_data['wel']['options']['print_input'] = True\n",
    "config_data['wel']['options']['print_flows'] = True\n",
    "config_data['wel']['options']['save_flows'] = True  # _____________________________________________________________\n",
    "config_data['wel']['source_data'] = dict()\n",
    "config_data['wel']['source_data']['csvfiles'] = dict()\n",
    "config_data['wel']['source_data']['csvfiles']['filenames'] = [wellfile]    # _____________________________________________________________\n",
    "config_data['wel']['source_data']['csvfiles']['volume_units'] = 'meters'\n",
    "\n",
    "config_data['wel']['source_data']['csvfiles']['time_units'] = 'seconds'\n",
    "config_data['wel']['source_data']['csvfiles']['data_column'] = 'q'\n",
    "config_data['wel']['source_data']['csvfiles']['id_column'] = 'boundname'\n",
    "config_data['wel']['source_data']['csvfiles']['datetime_column'] = 'datetime'\n",
    "config_data['wel']['source_data']['csvfiles']['end_datetime_column'] = 'enddatetime'\n",
    "config_data['wel']['source_data']['csvfiles']['period_stats'] = dict()\n",
    "config_data['wel']['source_data']['csvfiles']['period_stats'][0] = ['mean', '2021-01-01', '2021-12-31']\n",
    "config_data['wel']['source_data']['csvfiles']['period_stats'][1] = ['mean', '2022-01-01', '2022-12-31']\n",
    "\n",
    "config_data['wel']['source_data']['csvfiles']['vertical_flux_distribution'] = dict()\n",
    "config_data['wel']['source_data']['csvfiles']['vertical_flux_distribution']['across_layers'] = False\n",
    "config_data['wel']['source_data']['csvfiles']['vertical_flux_distribution']['distribute_by'] = 'transmissivity'\n",
    "config_data['wel']['source_data']['csvfiles']['vertical_flux_distribution']['screen_top_col'] = 'screen_top'\n",
    "config_data['wel']['source_data']['csvfiles']['vertical_flux_distribution']['screen_botm_col'] = 'screen_botm'\n",
    "\n",
    "#config_data['wel']['source_data']['csvfiles']['vertical_flux_distribution']['minimum_layer_thickess'] = 10"
   ]
  },
  {
   "cell_type": "code",
   "execution_count": 48,
   "id": "74881bf6",
   "metadata": {},
   "outputs": [],
   "source": [
    "config_data['oc'] = dict()\n",
    "config_data['oc']['budget_fileout_fmt'] = '{}.cbc'\n",
    "config_data['oc']['head_fileout_fmt'] = '{}.hds'\n",
    "config_data['oc']['saverecord'] = dict()\n",
    "config_data['oc']['saverecord'][0] = dict()\n",
    "\n",
    "config_data['oc']['saverecord'][0]['budget'] = 'last'\n",
    "config_data['oc']['saverecord'][0]['head'] = 'last'"
   ]
  },
  {
   "cell_type": "code",
   "execution_count": 49,
   "id": "b2b07749",
   "metadata": {},
   "outputs": [],
   "source": [
    "geology_file = str(datapath / 'raster' / 'k_field{}.tif')\n",
    "config_data['npf'] = dict()\n",
    "config_data['npf']['source_data'] = dict()\n",
    "config_data['npf']['source_data']['k'] = dict()\n",
    "\n",
    "config_data['npf']['source_data']['k']['filenames'] = dict()\n",
    "config_data['npf']['source_data']['k']['filenames'][0] = geology_file.format(0)\n",
    "config_data['npf']['source_data']['k']['filenames'][1] = geology_file.format(1)\n",
    "config_data['npf']['source_data']['k']['filenames'][2] = geology_file.format(2)"
   ]
  },
  {
   "cell_type": "code",
   "execution_count": 50,
   "id": "d55fb5cb",
   "metadata": {},
   "outputs": [],
   "source": [
    "rch_file = str(datapath / 'raster' / 'rch.tif')\n",
    "config_data['rch'] = dict()\n",
    "config_data['rch']['options'] = dict()\n",
    "config_data['rch']['options']['print_output'] = True\n",
    "config_data['rch']['options']['print_flows'] = False\n",
    "config_data['rch']['options']['save_flows'] = True\n",
    "config_data['rch']['options']['readasarrays'] = True\n",
    "config_data['rch']['source_data'] = dict()\n",
    "config_data['rch']['source_data']['recharge'] = dict()\n",
    "config_data['rch']['source_data']['recharge']['filenames'] = dict()\n",
    "config_data['rch']['source_data']['recharge']['filenames'][0] = rch_file\n",
    "config_data['rch']['source_data']['recharge']['length_units'] = 'millimeters'\n",
    "config_data['rch']['source_data']['recharge']['time_units'] = 'years'\n",
    "config_data['rch']['source_data']['recharge']['period_stats'] = dict()\n",
    "config_data['rch']['source_data']['recharge']['period_stats'][0] = 'mean'\n",
    "config_data['rch']['source_data']['recharge']['period_stats'][1] = 'mean'"
   ]
  },
  {
   "cell_type": "code",
   "execution_count": 51,
   "id": "841a61a0",
   "metadata": {},
   "outputs": [],
   "source": [
    "config_data['sfr'] = dict()\n",
    "config_data['sfr']['source_data'] = dict()\n",
    "config_data['sfr']['source_data']['flowlines'] = dict()\n",
    "config_data['sfr']['source_data']['flowlines']['filename'] = rivfile\n",
    "config_data['sfr']['source_data']['flowlines']['id_column'] = 'segname'\n",
    "config_data['sfr']['source_data']['flowlines']['routing_column'] = 'to_id'\n",
    "config_data['sfr']['source_data']['flowlines']['width1'] = 'streamwid'\n",
    "config_data['sfr']['source_data']['flowlines']['width2'] = 'streamwid'\n",
    "\n",
    "config_data['sfr']['source_data']['dem'] = dict()\n",
    "config_data['sfr']['source_data']['dem']['filename'] = \\\n",
    "         str(datapath/ 'raster' / 'DTM_domain.tif')\n",
    "config_data['sfr']['source_data']['dem']['elevation_units'] = 'meters'\n",
    "\n",
    "config_data['sfr']['source_data']['observations'] = dict()\n",
    "config_data['sfr']['source_data']['observations']['filename'] = rivsegfile\n",
    "config_data['sfr']['source_data']['observations']['obstype'] = \\\n",
    "        ['sfr','outflow', 'downstream-flow','ext-outflow']\n",
    "config_data['sfr']['source_data']['observations']['line_id_column'] = 'segname'\n",
    "config_data['sfr']['source_data']['observations']['obsname_column'] = 'obsname'\n",
    "\n",
    "config_data['sfr']['set_streambed_top_elevations_from_dem'] = True"
   ]
  },
  {
   "cell_type": "code",
   "execution_count": 52,
   "id": "425bc8bd",
   "metadata": {},
   "outputs": [],
   "source": [
    "config_data['ims'] = dict()\n",
    "config_data['ims']['options'] = dict()\n",
    "config_data['ims']['options']['print_options'] = 'all'\n",
    "config_data['ims']['options']['complexity'] = 'moderate'\n",
    "config_data['ims']['options']['no_ptc'] = 'all'\n",
    "\n",
    "config_data['ims']['nonlinear'] = dict()\n",
    "config_data['ims']['nonlinear']['outer_dvclose'] = 0.01\n",
    "config_data['ims']['linear'] = dict()\n",
    "config_data['ims']['linear']['inner_dvclose'] = 5e-6"
   ]
  },
  {
   "cell_type": "code",
   "execution_count": 53,
   "id": "7e3e3314",
   "metadata": {},
   "outputs": [],
   "source": [
    "config_data['obs'] = dict()\n",
    "config_data['obs']['source_data'] = dict()\n",
    "config_data['obs']['source_data']['filenames'] = '../data/sgn/csv/heads_sep2019.csv'\n",
    "config_data['obs']['source_data']['column_mappings'] = dict()\n",
    "\n",
    "config_data['obs']['source_data']['column_mappings']['obsname'] = 'ID'\n",
    "config_data['obs']['source_data']['column_mappings']['x'] = 'X'\n",
    "config_data['obs']['source_data']['column_mappings']['y'] = 'Y'"
   ]
  },
  {
   "cell_type": "code",
   "execution_count": 54,
   "id": "e1cce203",
   "metadata": {},
   "outputs": [],
   "source": [
    "yaml.add_representer(OrderedDict, represent_dictionary_order)\n",
    "with open('sgn_config.yml', 'w') as outfile:\n",
    "    yaml.dump(config_data, outfile, default_flow_style=False)"
   ]
  },
  {
   "cell_type": "markdown",
   "id": "242ef79d-98fa-4863-8975-fcacbfa13a0b",
   "metadata": {},
   "source": [
    "# __Ha__!"
   ]
  },
  {
   "cell_type": "code",
   "execution_count": null,
   "id": "49c98250-e293-41fb-bc5c-d8d173ae5ee0",
   "metadata": {},
   "outputs": [],
   "source": []
  },
  {
   "cell_type": "code",
   "execution_count": null,
   "id": "38d4e962-55f1-40dd-b352-8e84e7f25bc2",
   "metadata": {},
   "outputs": [],
   "source": []
  },
  {
   "cell_type": "code",
   "execution_count": null,
   "id": "b2c07d7b-50d3-4e22-9790-5c0a97de4a54",
   "metadata": {},
   "outputs": [],
   "source": []
  },
  {
   "cell_type": "code",
   "execution_count": null,
   "id": "47229180-e059-4c26-a6d9-52d362b2fc57",
   "metadata": {},
   "outputs": [],
   "source": []
  }
 ],
 "metadata": {
  "kernelspec": {
   "display_name": "Python 3 (ipykernel)",
   "language": "python",
   "name": "python3"
  },
  "language_info": {
   "codemirror_mode": {
    "name": "ipython",
    "version": 3
   },
   "file_extension": ".py",
   "mimetype": "text/x-python",
   "name": "python",
   "nbconvert_exporter": "python",
   "pygments_lexer": "ipython3",
   "version": "3.9.21"
  }
 },
 "nbformat": 4,
 "nbformat_minor": 5
}
