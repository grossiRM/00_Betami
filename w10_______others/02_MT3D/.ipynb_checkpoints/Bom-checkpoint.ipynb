{
 "cells": [
  {
   "cell_type": "code",
   "execution_count": 1,
   "id": "f76809be-fe49-4b25-9208-0dd2419fd5c5",
   "metadata": {},
   "outputs": [],
   "source": [
    "import os ; import pathlib as pl ; from pprint import pformat ; import flopy ; import git ; import matplotlib.pyplot as plt\n",
    "import numpy as np; from flopy.plot.styles import styles ; import pathlib\n",
    "import modflow_devtools.misc \n",
    "from modflow_devtools.misc import get_env, timed    # pip install modflow_devtools\n"
   ]
  },
  {
   "cell_type": "raw",
   "id": "cbfbcbd5-4bca-4c17-bd73-d3bfff5fcee6",
   "metadata": {},
   "source": [
    "# Settings from environment variables\n",
    "write = get_env(\"WRITE\", True)\n",
    "run = get_env(\"RUN\", True)\n",
    "plot = get_env(\"PLOT\", True)\n",
    "plot_show = get_env(\"PLOT_SHOW\", True)\n",
    "plot_save = get_env(\"PLOT_SAVE\", True)"
   ]
  },
  {
   "cell_type": "code",
   "execution_count": 2,
   "id": "441601c7",
   "metadata": {},
   "outputs": [
    {
     "name": "stdout",
     "output_type": "stream",
     "text": [
      "E:\\15_REPOS\\00_BETAMI\\w10_______others\\02_MT3D\n"
     ]
    }
   ],
   "source": [
    "parameters = {\"ex-gwt-mt3dms-p01a\": {\"dispersivity\": 0.0,\"retardation\": 1.0,\"decay\": 0.0,},\n",
    "              \"ex-gwt-mt3dms-p01b\": {\"dispersivity\": 10.0,\"retardation\": 1.0,\"decay\": 0.0,},\n",
    "              \"ex-gwt-mt3dms-p01c\": {\"dispersivity\": 10.0,\"retardation\": 5.0,\"decay\": 0.0,},\n",
    "              \"ex-gwt-mt3dms-p01d\": {\"dispersivity\": 10.0,\"retardation\": 5.0,\"decay\": 0.002,},}\n",
    "parameter_units = {\"dispersivity\": \"$m$\",\"retardation\": \"unitless\",\"decay\": \"$d^{-1}$\",}  ; length_units = \"meters\" ; time_units = \"days\"\n",
    "exe_name_mf = 'E:\\\\15_REPOS\\\\00_BETAMI\\\\w10_______others\\\\bin\\\\mf2005'\n",
    "exe_name_mt = 'E:\\\\15_REPOS\\\\00_BETAMI\\\\w10_______others\\\\bin\\\\mt3d-usgs_1.1.0_64'\n",
    "current_directory = os.getcwd();  print(current_directory)"
   ]
  },
  {
   "cell_type": "code",
   "execution_count": 3,
   "id": "044aaaa9-6f1f-4d80-8643-aeaa7d1aaa8c",
   "metadata": {},
   "outputs": [],
   "source": [
    "path = pathlib.Path('E:\\\\15_REPOS\\\\00_BETAMI\\\\w10_______others\\\\02_MT3D')\n",
    "path.mkdir(parents=True, exist_ok=True); os.chdir(path); current_directory = os.getcwd()\n",
    "directory_name = 'A01_01_ex-gwt-mt3dms-p01'    ; workspace = os.path.join('.', directory_name)\n",
    "if os.path.isdir(workspace) is False:\n",
    "    os.mkdir(workspace) \n",
    "datadir = os.path.join('..', directory_name, 'a1A', 'b1B')"
   ]
  },
  {
   "cell_type": "code",
   "execution_count": 4,
   "id": "7c20d902",
   "metadata": {
    "jupyter": {
     "source_hidden": true
    }
   },
   "outputs": [],
   "source": [
    "nper = 1  # Number of periods                                # Model parameters\n",
    "nlay = 1  # Number of layers\n",
    "ncol = 101  # Number of columns\n",
    "nrow = 1  # Number of rows\n",
    "delr = 10.0  # Column width ($m$)\n",
    "delc = 1.0  # Row width ($m$)\n",
    "top  = 0.0  # Top of the model ($m$)\n",
    "botm = -1.0  # Layer bottom elevations ($m$)\n",
    "prsity = 0.25  # Porosity\n",
    "perlen = 2000  # Simulation time ($days$)\n",
    "k11 = 1.0  # Horizontal hydraulic conductivity ($m/d$)\n",
    "k33 = k11  # Vertical hydraulic conductivity ($m/d$)          # Set some static model parameter values\n",
    "laytyp = 1\n",
    "nstp = 100.0\n",
    "dt0 = perlen / nstp\n",
    "Lx = (ncol - 1) * delr\n",
    "v = 0.24\n",
    "q = v * prsity\n",
    "h1 = q * Lx\n",
    "strt = np.zeros((nlay, nrow, ncol), dtype=float)\n",
    "strt[0, 0, 0] = h1  # Starting head ($m$)\n",
    "l = 1000.0  # Needed for plots\n",
    "icelltype = 1  # Cell conversion type\n",
    "ibound = np.ones((nlay, nrow, ncol), dtype=int)\n",
    "ibound[0, 0, 0] = -1\n",
    "ibound[0, 0, -1] = -1\n",
    "mixelm = 0  # upstream                                      # Set some static transport related model parameter values\n",
    "rhob = 0.25\n",
    "sp2 = 0.0  # red, but not used in this problem\n",
    "sconc = np.zeros((nlay, nrow, ncol), dtype=float)\n",
    "dmcoef = 0.0  # Molecular diffusion coefficient\n",
    "nouter, ninner = 100, 300                                  # Set solver parameter values (and related)\n",
    "hclose, rclose, relax = 1e-6, 1e-6, 1.0\n",
    "ttsmult = 1.0\n",
    "dceps = 1.0e-5  # HMOC parameters in case they are invoked\n",
    "nplane = 1  # HMOC\n",
    "npl = 0  # HMOC\n",
    "nph = 4  # HMOC\n",
    "npmin = 0  # HMOC\n",
    "npmax = 8  # HMOC\n",
    "nlsink = nplane  # HMOC\n",
    "npsink = nph  # HMOC\n",
    "tdis_rc = []                                              # Time discretization\n",
    "tdis_rc.append((perlen, nstp, 1.0))\n",
    "chdspd = [[(0, 0, 0), h1], [(0, 0, ncol - 1), 0.0]]\n",
    "c0 = 1.0\n",
    "cncspd = [[(0, 0, 0), c0]]"
   ]
  },
  {
   "cell_type": "code",
   "execution_count": 5,
   "id": "a6a639b7",
   "metadata": {},
   "outputs": [],
   "source": [
    "def build_models(sim_name,dispersivity=0.0,retardation=0.0,decay=0.0,silent=False,):\n",
    "    c0 = 1.0\n",
    "    icbund = np.ones((nlay, nrow, ncol), dtype=int)      ; icbund [0, 0, 0] = -1\n",
    "    sconc = np.zeros((nlay, nrow, ncol), dtype=float)    ; sconc  [0, 0, 0] = c0\n",
    "    \n",
    "    if mixelm == 0:      scheme = \"UPSTREAM\"   # ___ to advection\n",
    "    elif mixelm == -1:   scheme = \"TVD\"\n",
    "    else:\n",
    "        raise Exception()\n",
    "        \n",
    "    if retardation == 1.0:  isothm = 0.0 ; rc1 = 0.0     # ___ to advection\n",
    "    else: isothm = 1\n",
    "    if decay != 0:          ireact = 1   ; rc1 = decay\n",
    "    else: ireact = 0.0                   ; rc1 = 0.0\n",
    "    kd = (retardation - 1.0) * prsity / rhob    \n",
    "        \n",
    "    modelname_mf = \"p01-mf\"       ; mt3d_ws = os.path.join(workspace, sim_name, \"mt3d\")\n",
    "    \n",
    "    mf  = flopy.modflow.Modflow(modelname=modelname_mf, model_ws=mt3d_ws, exe_name=exe_name_mf)\n",
    "    dis = flopy.modflow.ModflowDis(mf,nlay=nlay,nrow=nrow,ncol=ncol,delr=delr,delc=delc,\n",
    "                                   top=top,nstp=nstp,botm=botm,perlen=perlen,itmuni=4,lenuni=2,)\n",
    "    bas = flopy.modflow.ModflowBas(mf, ibound=ibound, strt=strt)\n",
    "    lpf = flopy.modflow.ModflowLpf(mf, hk=k11, laytyp=laytyp)\n",
    "    pcg = flopy.modflow.ModflowPcg(mf)\n",
    "    lmt = flopy.modflow.ModflowLmt(mf)                              \n",
    "    oc  = flopy.modflow.ModflowOc(mf)            # no write, no run                  \n",
    "    \n",
    "    modelname_mt = \"p01-mt\"\n",
    "    mt = flopy.mt3d.Mt3dms(modelname=modelname_mt,model_ws=mt3d_ws,exe_name=exe_name_mt,modflowmodel=mf,)            \n",
    "    btn = flopy.mt3d.Mt3dBtn(mt,laycon=laytyp,icbund=icbund,prsity=prsity,sconc=sconc,dt0=dt0,ifmtcn=1,)\n",
    "    adv = flopy.mt3d.Mt3dAdv(mt,mixelm=mixelm,dceps=dceps,nplane=nplane,npl=npl,nph=nph,npmin=npmin,npmax=npmax,nlsink=nlsink,npsink=npsink,percel=0.5,)\n",
    "    dsp = flopy.mt3d.Mt3dDsp(mt, al=dispersivity) # _____________________________________________________________ dispersivity\n",
    "    rct = flopy.mt3d.Mt3dRct(mt,isothm=isothm,ireact=ireact,igetsc=0,rhob=rhob,sp1=kd,rc1=rc1,rc2=rc1,)\n",
    "    ssm = flopy.mt3d.Mt3dSsm(mt)\n",
    "    gcg = flopy.mt3d.Mt3dGcg(mt, mxiter=10)     # no write, no run \n",
    "    \n",
    "    name = \"p01-mf6\"               ; sim_ws = os.path.join(workspace, sim_name);       gwfname = \"gwf-\" + name  # ___ mf6 ___________________\n",
    "    \n",
    "    sim  = flopy.mf6.MFSimulation(sim_name=sim_name, sim_ws=sim_ws, exe_name=\"mf6\")\n",
    "    tdis = flopy.mf6.ModflowTdis(sim, nper=nper, perioddata=tdis_rc, time_units=time_units)\n",
    "    gwf  = flopy.mf6.ModflowGwf(sim,modelname=gwfname,save_flows=True,model_nam_file=f\"{gwfname}.nam\")\n",
    "    imsgwf = flopy.mf6.ModflowIms(sim,print_option=\"SUMMARY\",outer_dvclose=hclose,outer_maximum=nouter,\n",
    "                                  under_relaxation=\"NONE\",inner_maximum=ninner,inner_dvclose=hclose,rcloserecord=rclose,\n",
    "                                  linear_acceleration=\"CG\",scaling_method=\"NONE\",reordering_method=\"NONE\",relaxation_factor=relax,\n",
    "                                  filename=f\"{gwfname}.ims\")                         ; sim.register_ims_package(imsgwf, [gwf.name])\n",
    "    dis = flopy.mf6.ModflowGwfdis(gwf,length_units=length_units,nlay=nlay,nrow=nrow,ncol=ncol,delr=delr,delc=delc,top=top,\n",
    "                                  botm=botm,idomain=np.ones((nlay, nrow, ncol), dtype=int),filename=f\"{gwfname}.dis\")\n",
    "    npf = flopy.mf6.ModflowGwfnpf(gwf,save_flows=False,icelltype=icelltype,k=k11,k33=k33,\n",
    "                                  save_specific_discharge=True,filename=f\"{gwfname}.npf\")\n",
    "    fic = flopy.mf6.ModflowGwfic(gwf, strt=strt, filename=f\"{gwfname}.ic\")\n",
    "    chd = flopy.mf6.ModflowGwfchd(gwf,maxbound=len(chdspd),stress_period_data=chdspd,save_flows=False,pname=\"CHD-1\",filename=f\"{gwfname}.chd\")\n",
    "    foc = flopy.mf6.ModflowGwfoc(gwf,head_filerecord=f\"{gwfname}.hds\",budget_filerecord=f\"{gwfname}.cbc\",\n",
    "                                 headprintrecord=[(\"COLUMNS\", 10, \"WIDTH\", 15, \"DIGITS\", 6, \"GENERAL\")],\n",
    "                                 saverecord=[(\"HEAD\", \"LAST\"), (\"BUDGET\", \"LAST\")],\n",
    "                                 printrecord=[(\"HEAD\", \"LAST\"), (\"BUDGET\", \"LAST\")])                        ; gwtname = \"gwt-\" + name\n",
    "    gwt = flopy.mf6.MFModel(sim,model_type=\"gwt6\",modelname=gwtname,model_nam_file=f\"{gwtname}.nam\")        ; gwt.name_file.save_flows = True\n",
    "    \n",
    "    imsgwt = flopy.mf6.ModflowIms(sim,print_option=\"SUMMARY\",outer_dvclose=hclose,outer_maximum=nouter,under_relaxation=\"NONE\",\n",
    "                                  inner_maximum=ninner,inner_dvclose=hclose,rcloserecord=rclose,linear_acceleration=\"BICGSTAB\",\n",
    "                                  scaling_method=\"NONE\",reordering_method=\"NONE\",\n",
    "                                  relaxation_factor=relax,filename=f\"{gwtname}.ims\",)              ; sim.register_ims_package(imsgwt, [gwt.name])\n",
    "    dis = flopy.mf6.ModflowGwtdis(gwt,nlay=nlay,nrow=nrow,ncol=ncol,delr=delr,delc=delc,top=top,botm=botm,idomain=1,filename=f\"{gwtname}.dis\")\n",
    "    tic = flopy.mf6.ModflowGwtic(gwt, strt=sconc, filename=f\"{gwtname}.ic\")   \n",
    "    adv = flopy.mf6.ModflowGwtadv(gwt, scheme=scheme, filename=f\"{gwtname}.adv\")      # ________________________________advection____\n",
    "    if dispersivity != 0:   dsp = flopy.mf6.ModflowGwtdsp(gwt,xt3d_off=True,alh=dispersivity,ath1=dispersivity,filename=f\"{gwtname}.dsp\",)\n",
    "\n",
    "    if retardation != 1.0:    sorption = \"linear\"       ; bulk_density = rhob ; kd = (retardation - 1.0) * prsity / rhob  \n",
    "    else:                     sorption = None           ; bulk_density = None ; kd = None\n",
    "    if decay != 0.0:          first_order_decay = True  ; decay_arg = decay\n",
    "    else:                     first_order_decay = False ; decay_arg = None\n",
    "    mst = flopy.mf6.ModflowGwtmst(gwt,porosity=prsity,sorption=sorption,bulk_density=bulk_density,distcoef=kd,\n",
    "                                  first_order_decay=first_order_decay,decay=decay_arg,decay_sorbed=decay_arg,filename=f\"{gwtname}.mst\")\n",
    "    \n",
    "    cnc = flopy.mf6.ModflowGwtcnc(gwt,maxbound=len(cncspd),stress_period_data=cncspd,save_flows=False,pname=\"CNC-1\",filename=f\"{gwtname}.cnc\",)\n",
    "    ssm = flopy.mf6.ModflowGwtssm(gwt, sources=[[]], filename=f\"{gwtname}.ssm\")\n",
    "    toc = flopy.mf6.ModflowGwtoc(gwt,budget_filerecord=f\"{gwtname}.cbc\",concentration_filerecord=f\"{gwtname}.ucn\",\n",
    "                                 concentrationprintrecord=[(\"COLUMNS\", 10, \"WIDTH\", 15, \"DIGITS\", 6, \"GENERAL\")],\n",
    "                                 saverecord=[(\"CONCENTRATION\", \"LAST\"), (\"BUDGET\", \"LAST\")],\n",
    "                                 printrecord=[(\"CONCENTRATION\", \"LAST\"), (\"BUDGET\", \"LAST\")],)\n",
    "    gwt = flopy.mf6.ModflowGwfgwt(sim,exgtype=\"GWF6-GWT6\",exgmnamea=gwfname,exgmnameb=gwtname,filename=f\"{name}.gwfgwt\",)\n",
    "\n",
    "    return mf, mt, sim\n",
    "\n",
    "def write_models(mf2k5, mt3d, sim, silent=True):\n",
    "    mf2k5.write_input() ;     mt3d.write_input()   ;     sim.write_simulation(silent=silent)\n",
    "@timed\n",
    "def run_models(mf2k5, mt3d, sim, silent=True):\n",
    "    success, buff = mf2k5.run_model(silent=silent, report=True)                                 ; assert success, pformat(buff)\n",
    "    success, buff = mt3d.run_model(silent=silent, report=True, normal_msg=\"Program completed\")  ; assert success, pformat(buff)\n",
    "    success, buff = sim.run_simulation(silent=silent, report=True)                              ; assert success, pformat(buff)"
   ]
  },
  {
   "cell_type": "code",
   "execution_count": 6,
   "id": "4af980da-8566-4245-89b2-540ab2404211",
   "metadata": {
    "lines_to_end_of_cell_marker": 2
   },
   "outputs": [],
   "source": [
    "figure_size = (5, 3.5)          #   Plot results \n",
    "\n",
    "def plot_results(mt3d, mf6, idx, ax=None):\n",
    "    mt3d_out_path = mt3d.model_ws                            ; mf6.simulation_data.mfpath.get_sim_path()\n",
    "    fname_mt3d  = os.path.join(mt3d_out_path, \"MT3D001.UCN\") ; ucnobj_mt3d = flopy.utils.UcnFile(fname_mt3d)  ; conc_mt3d = ucnobj_mt3d.get_alldata()\n",
    "    gwt         = mf6.get_model(list(mf6.model_names)[1])    ; ucnobj_mf6 = gwt.output.concentration()  ; conc_mf6 = ucnobj_mf6.get_alldata()\n",
    "\n",
    "    with styles.USGSPlot() as fs:\n",
    "        sim_name = mf6.name\n",
    "        if ax is None:\n",
    "            fig, ax = plt.subplots(1, 1, figsize=figure_size, dpi=300, tight_layout=True)\n",
    "        ax.plot(np.linspace(0, l, ncol), conc_mt3d [0, 0, 0, :], color=\"k\"    , label=\"MT3DMS\"       ,linewidth=0.5,)\n",
    "        ax.plot(np.linspace(0, l, ncol), conc_mf6  [0, 0, 0, :],  \"^\"         , markeredgewidth=0.5,\n",
    "                color=\"blue\",fillstyle=\"none\",label=\"MF6\",markersize=3)\n",
    "        \n",
    "        ax.set_ylim(0, 1.2)  ;   ax.set_xlim(0, 1000)   ; ax.set_xlabel(\"Distance, in m\")    ; ax.set_ylabel(\"Concentration\") ; \n",
    "        title = f\"Concentration Profile at Time = 2,000 {time_units}\"  ; ax.legend()         ; letter = chr(ord(\"@\") + idx + 1)    ; \n",
    "        styles.heading(letter=letter, heading=title)\n",
    "\n",
    "        if plot_show:\n",
    "            plt.show()\n",
    "        if plot_save:\n",
    "            fpth = figs_path / f\"{sim_name}.png\"  ;   fig.savefig(fpth)"
   ]
  },
  {
   "cell_type": "raw",
   "id": "8af51294-af13-4784-961e-fb4d68b89fad",
   "metadata": {},
   "source": [
    "    fname = os.path.join(sim_ws, 'MT3D001.UCN')   # or mt3d_ws \n",
    "    if os.path.isfile(fname):\n",
    "        os.remove(fname)                                                  ; mt.run_model(silent=True)\n",
    "    fname = os.path.join(sim_ws, sim_name+'.hds')      ; hdobj = flopy.utils.HeadFile(fname)    ; heads = hdobj.get_data()\n",
    "    fname = os.path.join(sim_ws, 'MT3D001.UCN')        ; ucnobj = flopy.utils.UcnFile(fname)    ; times = np.array(ucnobj.get_times())\n",
    "    conc = ucnobj.get_alldata()    \n",
    "    \n",
    "    return mf, mt, sim, times, conc, heads"
   ]
  },
  {
   "cell_type": "raw",
   "id": "312b462e-40fb-411e-abb2-f578a796d223",
   "metadata": {},
   "source": [
    "idx = 0           ; key = list(parameters.keys())[idx]      ; parameter_dict = parameters[key]\n",
    "mf2k5, mt3d, sim = build_models(key, **parameter_dict)      ; write_models(mf2k5, mt3d, sim)     ; # plot_results(mt3d, sim, idx)\n",
    "idx = 1           ; key = list(parameters.keys())[idx]      ; parameter_dict = parameters[key]\n",
    "mf2k5, mt3d, sim = build_models(key, **parameter_dict)      ; write_models(mf2k5, mt3d, sim)     ; # plot_results(mt3d, sim, idx)\n",
    "idx = 2           ; key = list(parameters.keys())[idx]      ; parameter_dict = parameters[key]\n",
    "mf2k5, mt3d, sim = build_models(key, **parameter_dict)      ; write_models(mf2k5, mt3d, sim)     ; # plot_results(mt3d, sim, idx)\n",
    "idx = 3           ; key = list(parameters.keys())[idx]      ; parameter_dict = parameters[key]\n",
    "mf2k5, mt3d, sim = build_models(key, **parameter_dict)      ; write_models(mf2k5, mt3d, sim)     ; # plot_results(mt3d, sim, idx)"
   ]
  },
  {
   "cell_type": "code",
   "execution_count": 7,
   "id": "4da2395f-288e-4a5a-9889-54a834403a6a",
   "metadata": {},
   "outputs": [
    {
     "name": "stderr",
     "output_type": "stream",
     "text": [
      "C:\\Users\\gross.DESKTOP-AIRQM2M\\anaconda3\\Lib\\site-packages\\executing\\executing.py:713: DeprecationWarning: ast.Str is deprecated and will be removed in Python 3.14; use ast.Constant instead\n",
      "  right=ast.Str(s=sentinel),\n",
      "C:\\Users\\gross.DESKTOP-AIRQM2M\\anaconda3\\Lib\\site-packages\\executing\\executing.py:713: DeprecationWarning: ast.Str is deprecated and will be removed in Python 3.14; use ast.Constant instead\n",
      "  right=ast.Str(s=sentinel),\n",
      "C:\\Users\\gross.DESKTOP-AIRQM2M\\anaconda3\\Lib\\ast.py:587: DeprecationWarning: Attribute s is deprecated and will be removed in Python 3.14; use value instead\n",
      "  return Constant(*args, **kwargs)\n",
      "C:\\Users\\gross.DESKTOP-AIRQM2M\\anaconda3\\Lib\\site-packages\\executing\\executing.py:713: DeprecationWarning: ast.Str is deprecated and will be removed in Python 3.14; use ast.Constant instead\n",
      "  right=ast.Str(s=sentinel),\n",
      "C:\\Users\\gross.DESKTOP-AIRQM2M\\anaconda3\\Lib\\ast.py:587: DeprecationWarning: Attribute s is deprecated and will be removed in Python 3.14; use value instead\n",
      "  return Constant(*args, **kwargs)\n"
     ]
    },
    {
     "ename": "NameError",
     "evalue": "name 'write' is not defined",
     "output_type": "error",
     "traceback": [
      "\u001b[1;31m---------------------------------------------------------------------------\u001b[0m",
      "\u001b[1;31mNameError\u001b[0m                                 Traceback (most recent call last)",
      "Cell \u001b[1;32mIn[7], line 11\u001b[0m\n\u001b[0;32m      9\u001b[0m     \u001b[38;5;28;01mif\u001b[39;00m plot:\n\u001b[0;32m     10\u001b[0m         plot_results(mt3d, sim, idx)\n\u001b[1;32m---> 11\u001b[0m scenario(\u001b[38;5;241m0\u001b[39m)\n",
      "Cell \u001b[1;32mIn[7], line 5\u001b[0m, in \u001b[0;36mscenario\u001b[1;34m(idx, silent)\u001b[0m\n\u001b[0;32m      3\u001b[0m parameter_dict \u001b[38;5;241m=\u001b[39m parameters[key]\n\u001b[0;32m      4\u001b[0m mf2k5, mt3d, sim \u001b[38;5;241m=\u001b[39m build_models(key, \u001b[38;5;241m*\u001b[39m\u001b[38;5;241m*\u001b[39mparameter_dict)\n\u001b[1;32m----> 5\u001b[0m \u001b[38;5;28;01mif\u001b[39;00m write:\n\u001b[0;32m      6\u001b[0m     write_models(mf2k5, mt3d, sim, silent\u001b[38;5;241m=\u001b[39msilent)\n\u001b[0;32m      7\u001b[0m \u001b[38;5;28;01mif\u001b[39;00m run:\n",
      "\u001b[1;31mNameError\u001b[0m: name 'write' is not defined"
     ]
    }
   ],
   "source": [
    "def scenario(idx, silent=True):\n",
    "    key = list(parameters.keys())[idx]\n",
    "    parameter_dict = parameters[key]\n",
    "    mf2k5, mt3d, sim = build_models(key, **parameter_dict)\n",
    "    if write:\n",
    "        write_models(mf2k5, mt3d, sim, silent=silent)\n",
    "    if run:\n",
    "        run_models(mf2k5, mt3d, sim, silent=silent)\n",
    "    if plot:\n",
    "        plot_results(mt3d, sim, idx)\n",
    "scenario(0)"
   ]
  },
  {
   "cell_type": "raw",
   "id": "8fd3df0c-6f9a-417e-9557-3e69d963bde6",
   "metadata": {
    "collapsed": true,
    "jupyter": {
     "outputs_hidden": true
    }
   },
   "source": []
  },
  {
   "cell_type": "code",
   "execution_count": null,
   "id": "98532d5c-c5a6-4d91-8f60-765b1fc0e11a",
   "metadata": {},
   "outputs": [],
   "source": []
  }
 ],
 "metadata": {
  "jupytext": {
   "cell_metadata_filter": "-all"
  },
  "kernelspec": {
   "display_name": "Python 3 (ipykernel)",
   "language": "python",
   "name": "python3"
  },
  "language_info": {
   "codemirror_mode": {
    "name": "ipython",
    "version": 3
   },
   "file_extension": ".py",
   "mimetype": "text/x-python",
   "name": "python",
   "nbconvert_exporter": "python",
   "pygments_lexer": "ipython3",
   "version": "3.12.7"
  }
 },
 "nbformat": 4,
 "nbformat_minor": 5
}
