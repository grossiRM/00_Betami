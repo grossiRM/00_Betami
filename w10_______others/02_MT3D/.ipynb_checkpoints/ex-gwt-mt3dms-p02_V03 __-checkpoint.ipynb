{
 "cells": [
  {
   "cell_type": "markdown",
   "id": "a45ce7f2",
   "metadata": {},
   "source": [
    "Zheng 1999, titled \"One-dimensional transport with nonlinear or nonequilibrium sorption.   # No environment"
   ]
  },
  {
   "cell_type": "code",
   "execution_count": 1,
   "id": "ef04df74-8dc1-49f4-b566-91d511076261",
   "metadata": {},
   "outputs": [],
   "source": [
    "import os ; import pathlib as pl ; from pprint import pformat ; import flopy ; import git ; import matplotlib.pyplot as plt\n",
    "import numpy as np; from flopy.plot.styles import styles ; import pathlib; from pathlib import Path\n",
    "import modflow_devtools.misc \n",
    "from modflow_devtools.misc import get_env, timed    # pip install modflow_devtools\n",
    "write = get_env(\"WRITE\", True) ; run = get_env(\"RUN\", True) ;  plot = get_env(\"PLOT\", True)\n",
    "plot_show = get_env(\"PLOT_SHOW\", True) ; plot_save = get_env(\"PLOT_SAVE\", True)"
   ]
  },
  {
   "cell_type": "code",
   "execution_count": 2,
   "id": "fa1736cd",
   "metadata": {},
   "outputs": [],
   "source": [
    "example_name = \"ex-gwt-mt3dms-p02\""
   ]
  },
  {
   "cell_type": "code",
   "execution_count": 3,
   "id": "a044f41f-9e5a-4fec-8f45-8c2d83bd280f",
   "metadata": {},
   "outputs": [],
   "source": [
    "parameter_units = {\"beta\": \"$s^{-1}$\",\"sorption\": \"text string\",\"Kf\":r\"\\mu g L g^{} mg^{-1}$\",\"a\":\"unitless\",\"Kl\": \"L mg^{-1}$\",\"S\":r\"\\mu g g^{-1}$\"}  \n",
    "length_units = \"centimeters\" ; time_units = \"seconds\"\n",
    "exe_name_mt = 'E:\\\\15_REPOS\\\\00_BETAMI\\\\w10_______others\\\\bin\\\\mt3d-usgs_1.1.0_64'\n",
    "exe_name_mu = 'E:\\\\15_REPOS\\\\00_BETAMI\\\\w10_______others\\\\bin\\\\mf6'\n",
    "workspace = Path('A_p02_V03') ; workspace.mkdir(exist_ok=True)"
   ]
  },
  {
   "cell_type": "code",
   "execution_count": 4,
   "id": "c5f6ca0e",
   "metadata": {
    "lines_to_next_cell": 2
   },
   "outputs": [],
   "source": [
    "sorption = 'langmuir'  # sorption = 'freundlich' \n",
    "Kf   = 0.3      \n",
    "a    =  0.7       \n",
    "Kl   = 100.0    \n",
    "S    = 0.003 \n",
    "beta = 20    #  beta =0  beta =0.002   beta = 0.01   beta = 20.0\n",
    "nper = 2  # Number of periods\n",
    "nlay = 1  # Number of layers\n",
    "nrow = 1  # Number of rows\n",
    "ncol = 101  # Number of columns\n",
    "period1 = 160  # Length of period 1 ($s$)\n",
    "period2 = 1340  # Length of period 2 ($s$)\n",
    "delta_time = 1.0  # Length of time steps ($s$)\n",
    "delr = 0.16  # Column width ($cm$)\n",
    "delc = 0.16  # Row width ($cm$)\n",
    "top = 1.0  # Top of the model ($cm$)\n",
    "botm = 0  # Layer bottom elevation ($cm$)\n",
    "velocity = 0.1  # Velocity ($cm s^{-1}$)\n",
    "hydraulic_conductivity = 0.01  # Hydraulic conductivity ($cm s^{-1}$)\n",
    "porosity = 0.37  # Porosity of mobile domain (unitless)\n",
    "bulk_density = 1.587  # Bulk density ($g cm^{-3}$)\n",
    "distribution_coefficient = 0.933  # Distribution coefficient ($cm^3 g^{-1}$)\n",
    "dispersivity = 1.0  # Longitudinal dispersivity ($cm$)\n",
    "source_concentration = 0.05  # Source concentration (unitless)\n",
    "initial_concentration = 0.0  # Initial concentration (unitless)"
   ]
  },
  {
   "cell_type": "code",
   "execution_count": 5,
   "id": "378b2423-4ba7-499c-8ae9-3284356102dd",
   "metadata": {},
   "outputs": [],
   "source": [
    "specific_discharge = velocity * porosity\n",
    "inflow_rate        = specific_discharge * delc * (top - botm)\n",
    "system_length      = ncol * delr\n",
    "wel_spd       = {0: [[(0, 0, 0), inflow_rate, source_concentration],]  , 1: [[(0, 0, 0), inflow_rate, 0.0],],}\n",
    "tdis_ds       = ( (period1, int(period1 / delta_time), 1.0)            , (period2, int(period2 / delta_time), 1.0), )"
   ]
  },
  {
   "cell_type": "code",
   "execution_count": 10,
   "id": "e9cd783e",
   "metadata": {},
   "outputs": [
    {
     "name": "stdout",
     "output_type": "stream",
     "text": [
      "FloPy is using the following executable to run the model: C:\\Users\\gross.DESKTOP-AIRQM2M\\anaconda3\\Scripts\\mf6.exe\n",
      "                                   MODFLOW 6\n",
      "                U.S. GEOLOGICAL SURVEY MODULAR HYDROLOGIC MODEL\n",
      "                            VERSION 6.6.0 12/20/2024\n",
      "\n",
      "   MODFLOW 6 compiled Dec 31 2024 17:10:16 with Intel(R) Fortran Intel(R) 64\n",
      "   Compiler Classic for applications running on Intel(R) 64, Version 2021.7.0\n",
      "                             Build 20220726_000000\n",
      "\n",
      "This software has been approved for release by the U.S. Geological \n",
      "Survey (USGS). Although the software has been subjected to rigorous \n",
      "review, the USGS reserves the right to update the software as needed \n",
      "pursuant to further analysis and review. No warranty, expressed or \n",
      "implied, is made by the USGS or the U.S. Government as to the \n",
      "functionality of the software and related material nor shall the \n",
      "fact of release constitute any such warranty. Furthermore, the \n",
      "software is released on condition that neither the USGS nor the U.S. \n",
      "Government shall be held liable for any damages resulting from its \n",
      "authorized or unauthorized use. Also refer to the USGS Water \n",
      "Resources Software User Rights Notice for complete use, copyright, \n",
      "and distribution information.\n",
      "\n",
      " \n",
      " MODFLOW runs in SEQUENTIAL mode\n",
      " \n",
      " Run start date and time (yyyy/mm/dd hh:mm:ss): 2025/02/14 15:13:21\n",
      " \n",
      " Writing simulation list file: mfsim.lst\n",
      " Using Simulation name file: mfsim.nam\n",
      " \n",
      "\n",
      "ERROR REPORT:\n",
      "\n",
      "  1. Sorption is active for the IST Package but it is not compatible with the\n",
      "     sorption option selected for the MST Package.  If sorption is active for\n",
      "     the IST Package, then the same type of sorption (LINEAR, FREUNDLICH, or\n",
      "     LANGMUIR) must be specified in the options block of the MST Package.\n",
      "\n",
      "UNIT ERROR REPORT:\n",
      "\n",
      "  1. Error occurred while reading file\n",
      "     'E:\\15_REPOS\\00_BETAMI\\w10_______others\\02_MT3D\\A_p02_V03\\trans.ist'\n"
     ]
    },
    {
     "data": {
      "text/plain": [
       "(False, [])"
      ]
     },
     "execution_count": 10,
     "metadata": {},
     "output_type": "execute_result"
    }
   ],
   "source": [
    "name    = \"flow\"     \n",
    "sim     = flopy.mf6.MFSimulation (sim_name=name, sim_ws=workspace, exe_name=\"mf6\")\n",
    "tdis    = flopy.mf6.ModflowTdis  (sim, nper=nper, perioddata=tdis_ds, time_units=time_units)                    ; htol = 1.0e-8\n",
    "ims     = flopy.mf6.ModflowIms   (sim, print_option=\"summary\", outer_dvclose=htol, inner_dvclose=htol)\n",
    "gwf     = flopy.mf6.ModflowGwf   (sim, modelname=name, save_flows=True)\n",
    "dis = flopy.mf6.ModflowGwfdis (gwf,nlay=nlay,nrow=nrow,ncol=ncol,delr=delr,delc=delc,top=top,botm=botm)    \n",
    "npf = flopy.mf6.ModflowGwfnpf (gwf,save_specific_discharge=True,save_saturation=True,icelltype=0,k=hydraulic_conductivity)\n",
    "ic  = flopy.mf6.ModflowGwfic  (gwf, strt=1.0)\n",
    "chd = flopy.mf6.ModflowGwfchd (gwf, stress_period_data=[[(0, 0, ncol - 1), 1.0]])\n",
    "wel = flopy.mf6.ModflowGwfwel (gwf,stress_period_data=wel_spd,pname=\"WEL-1\",auxiliary=[\"[CONC]\"],)  \n",
    "n='n'                             ; head_filerecord = f\"{name}.hds\"; budget_filerecord = f\"{name}.bud\"\n",
    "oc = flopy.mf6.ModflowGwfoc   (gwf, head_filerecord=head_filerecord, budget_filerecord=budget_filerecord,saverecord=[(\"HEAD\",\"ALL\"),(\"BUDGET\",\"ALL\")])\n",
    "sim.write_simulation(silent=True) ; sim.run_simulation(silent=True)                  \n",
    "\n",
    "name = \"trans\"  ; ctol = 1.0e-8\n",
    "sim  = flopy.mf6.MFSimulation  (sim_name=name, sim_ws=workspace, exe_name=\"mf6\")                 # again                \n",
    "tdis = flopy.mf6.ModflowTdis   (sim, nper=nper, perioddata=tdis_ds, time_units=time_units)                     \n",
    "ms   = flopy.mf6.ModflowIms    (sim,linear_acceleration=\"bicgstab\",print_option=\"summary\",outer_dvclose=ctol,inner_dvclose=ctol,)\n",
    "gwt  = flopy.mf6.ModflowGwt        (sim, modelname=name, save_flows=True)                        # transport\n",
    "tdis = flopy.mf6.ModflowGwtdis     (gwt,length_units=length_units,nlay=nlay,nrow=nrow,ncol=ncol,delr=delr,delc=delc,top=top,botm=botm)\n",
    "ic   = flopy.mf6.ModflowGwtic      (gwt, strt=initial_concentration)\n",
    "\n",
    "distcoef = None\n",
    "if Kf is not None:\n",
    "    distcoef = Kf\n",
    "if Kl is not None:\n",
    "    distcoef = Kl\n",
    "sp2 = None\n",
    "if a is not None:\n",
    "    sp2 = a\n",
    "if S is not None:\n",
    "    sp2 = S\n",
    "volfracim = 0.0\n",
    "if beta is not None:\n",
    "    if beta > 0:\n",
    "        volfracim = bulk_density / (bulk_density + porosity)\n",
    "mst = flopy.mf6.ModflowGwtmst  (gwt,porosity=porosity / (1.0 - volfracim),\n",
    "                                bulk_density=bulk_density if sorption else None,sorption=sorption,distcoef=distcoef,sp2=sp2)  # sorption\n",
    "adv = flopy.mf6.ModflowGwtadv  (gwt, scheme=\"UPSTREAM\")\n",
    "dsp = flopy.mf6.ModflowGwtdsp  (gwt, xt3d_off=True, alh=dispersivity, ath1=dispersivity)\n",
    "if beta is not None:\n",
    "    if beta > 0:\n",
    "        porosity_im = bulk_density / volfracim          \n",
    "ist = flopy.mf6.ModflowGwtist  (gwt, volfrac=volfracim, porosity=porosity_im, zetaim=beta)                                    # sorption\n",
    "\n",
    "\n",
    "sim.write_simulation(silent=True) ; sim.run_simulation()   # scenario__**__"
   ]
  },
  {
   "cell_type": "code",
   "execution_count": 7,
   "id": "a0032f14-f4f9-4671-ab59-a57b873ef8a7",
   "metadata": {},
   "outputs": [],
   "source": [
    "pd = [ (\"GWFHEAD\", 'flow.hds', None),(\"GWFBUDGET\", 'flow.bud', None)]\n",
    "\n",
    "fmi = flopy.mf6.ModflowGwtfmi         (gwt, packagedata=pd)         ; sourcerecarray = [[\"WEL-1\", \"AUX\", \"CONCENTRATION\"]]\n",
    "ssm = flopy.mf6.ModflowGwtssm         (gwt, sources=sourcerecarray) ; obs_data = {f\"{name}.obs.csv\": [(\"X008\", \"CONCENTRATION\", (0, 0, 50)),],}\n",
    "obs_package = flopy.mf6.ModflowUtlobs (gwt, digits=10 , print_input=True, continuous=obs_data)\n",
    "oc = flopy.mf6.ModflowGwtoc           (gwt,budget_filerecord=f\"{name}.cbc\",concentration_filerecord=f\"{name}.ucn\",\n",
    "                                       saverecord=[(\"CONCENTRATION\", \"ALL\"), (\"BUDGET\", \"LAST\")],\n",
    "                                        printrecord=[(\"CONCENTRATION\", \"LAST\"), (\"BUDGET\", \"LAST\")])\n"
   ]
  },
  {
   "cell_type": "code",
   "execution_count": 8,
   "id": "abb4aed2-086c-4717-a92e-6604926e0343",
   "metadata": {},
   "outputs": [],
   "source": [
    "# scenario(0)  ; # scenario(1) ; scenario(2); scenario(3) ; scenario(4) ; scenario(5) "
   ]
  }
 ],
 "metadata": {
  "jupytext": {
   "cell_metadata_filter": "-all"
  },
  "kernelspec": {
   "display_name": "Python 3 (ipykernel)",
   "language": "python",
   "name": "python3"
  },
  "language_info": {
   "codemirror_mode": {
    "name": "ipython",
    "version": 3
   },
   "file_extension": ".py",
   "mimetype": "text/x-python",
   "name": "python",
   "nbconvert_exporter": "python",
   "pygments_lexer": "ipython3",
   "version": "3.12.7"
  }
 },
 "nbformat": 4,
 "nbformat_minor": 5
}
