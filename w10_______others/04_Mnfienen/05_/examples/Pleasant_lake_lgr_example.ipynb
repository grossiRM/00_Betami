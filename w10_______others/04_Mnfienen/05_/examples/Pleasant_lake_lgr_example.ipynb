{
 "cells": [
  {
   "cell_type": "code",
   "execution_count": 1,
   "metadata": {},
   "outputs": [],
   "source": [
    "%%capture\n",
    "import os\n",
    "import numpy as np\n",
    "import pandas as pd\n",
    "from scipy.interpolate import griddata\n",
    "import matplotlib.pyplot as plt\n",
    "from matplotlib import patheffects\n",
    "import flopy\n",
    "import flopy.utils.binaryfile as bf\n",
    "from mfsetup import MF6model\n",
    "from mfsetup.discretization import cellids_to_kij\n",
    "from gisutils import df2shp\n",
    "import mfexport\n",
    "from mfexport.utils import get_water_table\n",
    "\n",
    "wd = os.getcwd()"
   ]
  },
  {
   "cell_type": "code",
   "execution_count": 2,
   "metadata": {},
   "outputs": [],
   "source": [
    "%%capture\n",
    "m = MF6model(cfg='pleasant_lgr_parent.yml')\n",
    "m.setup_grid()"
   ]
  },
  {
   "cell_type": "code",
   "execution_count": 3,
   "metadata": {},
   "outputs": [
    {
     "data": {
      "text/plain": [
       "5 layer(s), 25 row(s), 25 column(s)\n",
       "delr: [200.00...200.00] undefined\n",
       "delc: [200.00...200.00] undefined\n",
       "CRS: EPSG:3070\n",
       "length units: meters\n",
       "xll: 553400.0; yll: 387800.0; rotation: 0.0\n",
       "Bounds: (np.float64(553400.0), np.float64(558400.0), np.float64(387800.0), np.float64(392800.0))"
      ]
     },
     "execution_count": 3,
     "metadata": {},
     "output_type": "execute_result"
    }
   ],
   "source": [
    "m.modelgrid"
   ]
  },
  {
   "cell_type": "code",
   "execution_count": null,
   "metadata": {},
   "outputs": [],
   "source": [
    "m.inset['plsnt_lgr_inset'].modelgrid"
   ]
  },
  {
   "cell_type": "markdown",
   "metadata": {},
   "source": [
    "#### Working directory gottcha\n",
    "Currently, to facilitate working with external files in Flopy, **Modflow-setup changes the working directory to the model workspace**. In the context of a flat script that only builds the model, this is fine, but in a notebook or other workflows, this can potentially cause confusion."
   ]
  },
  {
   "cell_type": "code",
   "execution_count": null,
   "metadata": {},
   "outputs": [],
   "source": [
    "os.getcwd()"
   ]
  },
  {
   "cell_type": "markdown",
   "metadata": {},
   "source": [
    "### Write shapefiles of the inset and parent modelgrids\n",
    "A shapefile of the grid bounding box is written by default on creation of the model grid, to the location specified by ``output_files: grid_file:`` in the ``setup_grid:`` block (default is ``<model workspace>/postproc/shps/``). A shapefile of the grid cells as polygon features can be written as below:"
   ]
  },
  {
   "cell_type": "code",
   "execution_count": null,
   "metadata": {},
   "outputs": [],
   "source": [
    "m.modelgrid.write_shapefile('postproc/shps/plsnt_lgr_parent_grid.shp')\n",
    "m.inset['plsnt_lgr_inset'].modelgrid.write_shapefile('postproc/shps/plsnt_lgr_inset_grid.shp')"
   ]
  },
  {
   "cell_type": "markdown",
   "metadata": {},
   "source": [
    "##### Change the working directory back to the notebook location"
   ]
  },
  {
   "cell_type": "code",
   "execution_count": null,
   "metadata": {},
   "outputs": [],
   "source": [
    "os.chdir(wd)"
   ]
  },
  {
   "cell_type": "markdown",
   "metadata": {},
   "source": [
    "### Build the whole model"
   ]
  },
  {
   "cell_type": "code",
   "execution_count": null,
   "metadata": {},
   "outputs": [],
   "source": [
    "%%capture\n",
    "m = MF6model.setup_from_yaml('pleasant_lgr_parent.yml')"
   ]
  },
  {
   "cell_type": "markdown",
   "metadata": {},
   "source": [
    "a ``MF6model`` instance (subclass of ``flopy.mf6.ModflowGwf``) is returned"
   ]
  },
  {
   "cell_type": "code",
   "execution_count": null,
   "metadata": {},
   "outputs": [],
   "source": [
    "m"
   ]
  },
  {
   "cell_type": "markdown",
   "metadata": {},
   "source": [
    "information from the configuration file is stored in an attached ``cfg`` dictionary"
   ]
  },
  {
   "cell_type": "code",
   "execution_count": null,
   "metadata": {},
   "outputs": [],
   "source": [
    "m.cfg.keys()"
   ]
  },
  {
   "cell_type": "markdown",
   "metadata": {},
   "source": [
    "the ``cfg`` dictionary contains both information from the configuration file, and MODFLOW input (such as external text file arrays) that was developed from the original source data. Internally in Modflow-setup, MODFLOW input in ``cfg`` is fed to the various Flopy object constructors."
   ]
  },
  {
   "cell_type": "code",
   "execution_count": null,
   "metadata": {},
   "outputs": [],
   "source": [
    "m.cfg['dis']"
   ]
  },
  {
   "cell_type": "markdown",
   "metadata": {},
   "source": [
    "The inset LGR model is attached to the parent within an ``inset`` dictionary"
   ]
  },
  {
   "cell_type": "code",
   "execution_count": null,
   "metadata": {},
   "outputs": [],
   "source": [
    "m.inset"
   ]
  },
  {
   "cell_type": "markdown",
   "metadata": {},
   "source": [
    "#### Plot the inset and parent model grids with Lake Package connections by layer"
   ]
  },
  {
   "cell_type": "code",
   "execution_count": null,
   "metadata": {},
   "outputs": [],
   "source": [
    "inset = m.inset['plsnt_lgr_inset']\n",
    "\n",
    "l, r, b, t = m.modelgrid.extent\n",
    "layer = 0\n",
    "\n",
    "fig, ax = plt.subplots(figsize=(10, 10))\n",
    "parent_mv = flopy.plot.PlotMapView(model=m, ax=ax, layer=layer)\n",
    "inset_mv = flopy.plot.PlotMapView(model=inset, ax=ax, layer=layer)\n",
    "\n",
    "vconn = inset.lak.connectiondata.array[inset.lak.connectiondata.array['claktype'] == 'vertical']\n",
    "k, i, j = cellids_to_kij(vconn['cellid'])\n",
    "lakeconnections = np.zeros((inset.nrow, inset.ncol))\n",
    "lakeconnections[i, j] = np.array(k+1)\n",
    "lakeconnections = np.ma.masked_array(lakeconnections, mask=lakeconnections == 0)\n",
    "qmi = inset_mv.plot_array(lakeconnections)\n",
    "\n",
    "#inset_mv.plot_bc('LAK', color='navy')\n",
    "#parent_mv.plot_bc('WEL_0', color='red')\n",
    "\n",
    "lcp = parent_mv.plot_grid(lw=0.5, ax=ax)\n",
    "lci = inset_mv.plot_grid(lw=0.5)\n",
    "ax.set_ylim(b, t)\n",
    "ax.set_xlim(l, r)\n",
    "ax.set_aspect(1)\n",
    "plt.colorbar(qmi)"
   ]
  },
  {
   "cell_type": "markdown",
   "metadata": {},
   "source": [
    "#### Make a cross section of the grid"
   ]
  },
  {
   "cell_type": "code",
   "execution_count": null,
   "metadata": {},
   "outputs": [],
   "source": [
    "fig, ax = plt.subplots(figsize=(14, 5))\n",
    "xs_line = [(553000, 390200), (558000, 390200)]\n",
    "xs = flopy.plot.PlotCrossSection(model=m,\n",
    "                                line={\"line\": xs_line}, ax=ax,\n",
    "                                geographic_coords=True)\n",
    "lc = xs.plot_grid(zorder=4)\n",
    "xs2 = flopy.plot.PlotCrossSection(model=inset,\n",
    "                                line={\"line\": xs_line}, ax=ax,\n",
    "                                geographic_coords=True)\n",
    "lc = xs2.plot_grid(zorder=4)\n",
    "ax.set_ylim(190, 400)\n",
    "plt.savefig('../../docs/source/_static/pleasant_lgr_xsection.png', bbox_inches='tight')"
   ]
  },
  {
   "cell_type": "markdown",
   "metadata": {},
   "source": [
    "### write the MODFLOW input files\n",
    "(just like you would for a Flopy model)"
   ]
  },
  {
   "cell_type": "code",
   "execution_count": null,
   "metadata": {},
   "outputs": [],
   "source": [
    "m.write_input()"
   ]
  },
  {
   "cell_type": "markdown",
   "metadata": {},
   "source": [
    "### Run the model\n",
    "\n",
    "**Note:** Running the model through Flopy (as below) requires specification of the MODFLOW executable. In Flopy, the executable is specified via the ``exe_name`` argument to the simulation constructor for MODFLOW 6, or model constructor for previous MODFLOW versions. Similarly, in Modflow-setup, the ``exe_name`` is specified in the ``simulation:`` or ``model:`` block of the [configuration file](https://doi-usgs.github.io/modflow-setup/latest/config-file-gallery.html#pleasant-lake-test-case). This example assumes that a MODFLOW 6 executable with the name \"mf6\" either resides in the model workspace, or is included in the system path."
   ]
  },
  {
   "cell_type": "code",
   "execution_count": null,
   "metadata": {},
   "outputs": [],
   "source": [
    "m.simulation.run_simulation()"
   ]
  },
  {
   "cell_type": "markdown",
   "metadata": {},
   "source": [
    "### Plot the head results"
   ]
  },
  {
   "cell_type": "code",
   "execution_count": null,
   "metadata": {},
   "outputs": [],
   "source": [
    "tmr_parent_headsobj = bf.HeadFile('../data/pleasant/pleasant.hds')\n",
    "lgr_parent_headsobj = bf.HeadFile('plsnt_lgr_parent.hds')\n",
    "lgr_inset_headsobj = bf.HeadFile('plsnt_lgr_inset.hds')\n",
    "\n",
    "# read the head results for the last stress period\n",
    "kper = 12\n",
    "lgr_parent_hds = lgr_parent_headsobj.get_data(kstpkper=(0, kper))\n",
    "lgr_inset_hds = lgr_inset_headsobj.get_data(kstpkper=(0, kper))\n",
    "\n",
    "# Get the water table elevation from the 3D head results\n",
    "inset_wt = get_water_table(lgr_inset_hds, nodata=1e30)\n",
    "parent_wt = get_water_table(lgr_parent_hds, nodata=1e30)\n",
    "\n",
    "# put in the lake level (not included in head output)\n",
    "lake_results = pd.read_csv('lake1.obs.csv')\n",
    "stage = lake_results['STAGE'][kper]\n",
    "inset_wt[inset.lakarr[0] == 1] = stage"
   ]
  },
  {
   "cell_type": "markdown",
   "metadata": {},
   "source": [
    "#### First combine the parent and inset model head results\n",
    "(into a single grid at the inset model resolution; for a nicer looking plot)"
   ]
  },
  {
   "cell_type": "code",
   "execution_count": null,
   "metadata": {},
   "outputs": [],
   "source": [
    "# make the single grid\n",
    "l, b, r, t = m.modelgrid.bounds\n",
    "xi = np.arange(l, r, 40)\n",
    "yi = np.arange(b, t, 40)[::-1]\n",
    "Xi, Yi = np.meshgrid(xi, yi)\n",
    "\n",
    "# make a single set of points\n",
    "# including both parent and inset cell centers\n",
    "# and water table values\n",
    "x = m.modelgrid.xcellcenters[~parent_wt.mask]\n",
    "y = m.modelgrid.ycellcenters[~parent_wt.mask]\n",
    "x = np.append(x, inset.modelgrid.xcellcenters[~inset_wt.mask])\n",
    "y = np.append(y, inset.modelgrid.ycellcenters[~inset_wt.mask])\n",
    "z = parent_wt[~parent_wt.mask].data\n",
    "z = np.append(z, inset_wt[~inset_wt.mask].data)\n",
    "\n",
    "# interpolate the results from the points\n",
    "# onto the single inset resolution grid\n",
    "results = griddata((x, y), z, (Xi, Yi))"
   ]
  },
  {
   "cell_type": "markdown",
   "metadata": {},
   "source": [
    "### Make the plot\n",
    "* include the parent and inset model grids\n",
    "* show the head contours for the combined parent/inset simulation\n",
    "* show SFR boundary condition cells in green\n",
    "* show the lakebed leakance zones"
   ]
  },
  {
   "cell_type": "code",
   "execution_count": null,
   "metadata": {},
   "outputs": [],
   "source": [
    "plt.rcParams['axes.labelsize'] = 8\n",
    "plt.rcParams['xtick.labelsize'] = 8\n",
    "plt.rcParams['ytick.labelsize'] = 8\n",
    "\n",
    "layer = 0\n",
    "fig, ax = plt.subplots(figsize=(6.5, 6.5))\n",
    "# create Flopy plot objects\n",
    "parent_mv = flopy.plot.PlotMapView(model=m, ax=ax, layer=layer)\n",
    "inset_mv = flopy.plot.PlotMapView(model=inset, ax=ax, layer=layer)\n",
    "\n",
    "# plot boundary condition cells from Modflow-setup array properties\n",
    "inset_bcs = np.ma.masked_array(inset._isbc2d, mask=inset._isbc2d==0)\n",
    "parent_bcs = np.ma.masked_array(m._isbc2d, mask=m._isbc2d==0)\n",
    "parent_mv.plot_array(parent_bcs, vmin=0, vmax=5)\n",
    "inset_mv.plot_array(inset_bcs, vmin=0, vmax=5)\n",
    "\n",
    "#bdlknc_values = inset.lak.connectiondata.array['bedleak']\n",
    "conn = inset.lak.connectiondata.array\n",
    "k, i, j = cellids_to_kij(conn['cellid'])\n",
    "bdlknc = np.zeros((inset.nlay, inset.nrow, inset.ncol))\n",
    "bdlknc[k, i, j] = conn['bedleak']\n",
    "bdlknc = np.max(bdlknc, axis=0)\n",
    "bdlknc = np.ma.masked_array(bdlknc, mask=bdlknc == 0)\n",
    "inset_mv.plot_array(bdlknc, cmap='Blues', zorder=200)\n",
    "\n",
    "# contour the combined inset/parent head results\n",
    "levels = np.arange(290, 315, 2)\n",
    "ctr = ax.contour(Xi, Yi, results, levels=levels, colors='b', zorder=10)\n",
    "labels = ax.clabel(ctr, inline=True, fontsize=8, inline_spacing=10)\n",
    "plt.setp(labels, path_effects=[\n",
    "    patheffects.withStroke(linewidth=3, foreground=\"w\")])\n",
    "\n",
    "# plot the grid cell edges\n",
    "lcp = parent_mv.plot_grid(lw=0.5, ax=ax)\n",
    "lci = inset_mv.plot_grid(lw=0.5)\n",
    "\n",
    "ax.set_ylim(b, t)\n",
    "ax.set_xlim(l, r)\n",
    "ax.set_aspect(1)\n",
    "ax.set_ylabel('Northing, in Wisconsin Transverse Mercator (meters)')\n",
    "ax.set_xlabel('Easting, in Wisconsin Transverse Mercator (meters)')\n",
    "\n",
    "ax.text(555600, 390450, 'Pleasant\\nLake', ha='left', va='top', color='DarkBlue', \n",
    "        fontsize=10, fontstyle='italic', family='Serif', zorder=202)\n",
    "txt = ax.text(556400, 391000, 'Chaffee Creek (SFR)', ha='left', va='top', color='DarkGreen', \n",
    "        fontsize=10, fontstyle='italic', family='Serif', zorder=20)\n",
    "txt.set_path_effects([patheffects.withStroke(linewidth=5, foreground='w')])\n",
    "txt = ax.text(556700, 388900, 'Tagatz\\nCreek (SFR)', ha='left', va='top', color='DarkGreen', \n",
    "        fontsize=10, fontstyle='italic', family='Serif', zorder=20)\n",
    "txt.set_path_effects([patheffects.withStroke(linewidth=5, foreground='w')])\n",
    "\n",
    "txt = ax.annotate(\"Littoral zone\",\n",
    "            xy=(555450, 390100), xycoords='data',\n",
    "            xytext=(555050,390100), textcoords='data',\n",
    "                  ha='right',\n",
    "            arrowprops=dict(arrowstyle=\"-|>\",\n",
    "                            connectionstyle=\"arc3\", fc='k'),\n",
    "            path_effects=[patheffects.withStroke(linewidth=4, foreground='w')],\n",
    "            zorder=203\n",
    "            )\n",
    "txt.arrow_patch.set_path_effects([\n",
    "    patheffects.Stroke(linewidth=2, foreground=\"w\"),\n",
    "    patheffects.Normal()])\n",
    "\n",
    "txt = ax.annotate(\"Profundal zone\",\n",
    "            xy=(555600, 390100), xycoords='data',\n",
    "            xytext=(555800,389500), textcoords='data',\n",
    "                  ha='right',\n",
    "            arrowprops=dict(arrowstyle=\"-|>\",\n",
    "                            connectionstyle=\"arc3\", fc='k'),\n",
    "            path_effects=[patheffects.withStroke(linewidth=4, foreground='w')],\n",
    "            zorder=203\n",
    "            )\n",
    "txt.arrow_patch.set_path_effects([\n",
    "    patheffects.Stroke(linewidth=2, foreground=\"w\"),\n",
    "    patheffects.Normal()])\n",
    "\n",
    "plt.tight_layout()\n",
    "plt.savefig('postproc/pdfs/figure_2.pdf')"
   ]
  },
  {
   "cell_type": "markdown",
   "metadata": {},
   "source": [
    "### Use [Modflow-export](https://github.com/aleaf/modflow-export) to export the modflow input to PDFs, rasters and shapefiles"
   ]
  },
  {
   "cell_type": "code",
   "execution_count": null,
   "metadata": {},
   "outputs": [],
   "source": [
    "for model in m, inset:\n",
    "    mfexport.export(model, model.modelgrid, output_path=f'postproc/{model.name}/')"
   ]
  },
  {
   "cell_type": "markdown",
   "metadata": {},
   "source": [
    "#### Modflow-export can also create a summary table of the model inputs"
   ]
  },
  {
   "cell_type": "code",
   "execution_count": null,
   "metadata": {},
   "outputs": [],
   "source": [
    "for model in m, inset:\n",
    "    mfexport.summarize(model, output_path=f'postproc/{model.name}/')"
   ]
  }
 ],
 "metadata": {
  "kernelspec": {
   "display_name": "mfsetup",
   "language": "python",
   "name": "mfsetup"
  },
  "language_info": {
   "codemirror_mode": {
    "name": "ipython",
    "version": 3
   },
   "file_extension": ".py",
   "mimetype": "text/x-python",
   "name": "python",
   "nbconvert_exporter": "python",
   "pygments_lexer": "ipython3",
   "version": "3.13.1"
  }
 },
 "nbformat": 4,
 "nbformat_minor": 4
}
