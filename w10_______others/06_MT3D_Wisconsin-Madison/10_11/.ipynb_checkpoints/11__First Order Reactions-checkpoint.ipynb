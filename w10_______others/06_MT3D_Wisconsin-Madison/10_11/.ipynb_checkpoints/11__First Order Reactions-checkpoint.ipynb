{
 "cells": [
  {
   "cell_type": "code",
   "execution_count": 1,
   "metadata": {},
   "outputs": [],
   "source": [
    "from scipy.special import erfc as erfc  ; import numpy as np  ; import math  ; import matplotlib.pyplot as plt"
   ]
  },
  {
   "cell_type": "markdown",
   "metadata": {},
   "source": [
    "$^{[18]}$F$_{t_{1/2}}=110$ min - positron-emitting isotope used in PET imaging experiments \n",
    "\n",
    "$^{[222]}$R$_{t_{1/2}}=3.8$ days - Radon-222 ... permeate soil and rocks, ... decay of uranium-238, and concentrates in buildings ...\n",
    "\n",
    "$^{[137]}$Cs$_{t_{1/2}}=30.17$ yrs - Caesium-137 "
   ]
  },
  {
   "cell_type": "code",
   "execution_count": 3,
   "metadata": {},
   "outputs": [],
   "source": [
    "# Define the half lifes in minutes\n",
    "half_life_f18 = 110\n",
    "half_life_r222 = 3.8*24*60\n",
    "half_life_cs137 = 30.17*365.25*24*60"
   ]
  },
  {
   "cell_type": "code",
   "execution_count": null,
   "metadata": {},
   "outputs": [],
   "source": [
    "def first_order_decay(t, t_half, C0):\n",
    "    C = t/ t_half**2 * C0\n",
    "    return C\n",
    "t = np.linspace(0, half_life_f18 *15, num = 100)\n",
    "C_f18 = first_order_decay(t, half_life_f18, 1)\n",
    "plt.figure(figsize=(5, 2), dpi=100) ; plt.plot(t/60, C_f18, label='F_{18}') ; plt.xlabel('Time [hr]') ; plt.ylabel('Normalized concentration [-]')"
   ]
  },
  {
   "cell_type": "markdown",
   "metadata": {},
   "source": [
    "## **Analytical transport model**"
   ]
  },
  {
   "cell_type": "code",
   "execution_count": 18,
   "metadata": {},
   "outputs": [
    {
     "name": "stdout",
     "output_type": "stream",
     "text": [
      "advection velocity: 0.005658842421045167\n"
     ]
    }
   ],
   "source": [
    "experiment_length = 60*180  ; t = np.linspace(0.1, experiment_length, num=1000)  ; t0 = 0 ; q = 2 ;  C0 = 1 ; Ci = 0\n",
    "x = 10 ; col_radius = 2.5 ; phi = 0.3 ; dispersivity = 0.3 \n",
    "area = math.pi*(col_radius)**2    ; v = q/60/area/phi  ; print(\"advection velocity: \" + str(v))  ; D = v*dispersivity"
   ]
  },
  {
   "cell_type": "code",
   "execution_count": 24,
   "metadata": {},
   "outputs": [
    {
     "name": "stdout",
     "output_type": "stream",
     "text": [
      "Retardation factor: 1.5666666666666669\n"
     ]
    }
   ],
   "source": [
    "rhob = 1.700  # porous medium bulk density [g/cm^3]\n",
    "kd = 0.1      # adsorption isotherm [L^3/Mass] \n",
    "gamma_w = 0.000 ; gamma_s = 0.00000    ; mu_w = np.log(2)/(half_life_f18*60)     ; mu_s = mu_w\n",
    "R = 1 + rhob*kd/phi   ; print('Retardation factor: ' +str(R)) ;   \n",
    "gamma = gamma_w + gamma_s   *rhob /phi\n",
    "mu    = mu_w    + mu_s*rhob *kd   /phi"
   ]
  },
  {
   "cell_type": "markdown",
   "metadata": {},
   "source": [
    "### Analytical solution: Type 1 boundary conditions with retardation"
   ]
  },
  {
   "cell_type": "code",
   "execution_count": 27,
   "metadata": {},
   "outputs": [],
   "source": [
    "def ADEwReactions_type1_fun(x, t, v, D, R, gamma, mu, C0, t0, Ci):\n",
    "    u = v*(1+(4*mu*D/v**2))**(1/2)\n",
    "    Atrf = np.exp(-mu*t/R)*(1- (1/2)* erfc((R*x - v*t)/(2*(D*R*t)**(1/2))) - (1/2)*np.exp(v*x/D)*erfc((R*x + v*t)/(2*(D*R*t)**(1/2))))\n",
    "    Btrf = 1/2*np.exp((v-u)*x/(2*D))* erfc((R*x - u*t)/(2*(D*R*t)**(1/2))) + 1/2*np.exp((v+u)*x/(2*D))* erfc((R*x + u*t)/ (2*(D*R*t)**(1/2)))\n",
    "    if t0 > 0:\n",
    "        tt0 = t - t0\n",
    "        indices_below_zero = tt0 <= 0\n",
    "        tt0[indices_below_zero] = 1\n",
    "        Bttrf = 1/2*np.exp((v-u)*x/(2*D))* erfc((R*x - u*tt0)/(2*(D*R*tt0)**(1/2))) + 1/2*np.exp((v+u)*x/(2*D))* erfc((R*x + u*tt0)/ \\\n",
    "            (2*(D*R*tt0)**(1/2)))\n",
    "        Bttrf[indices_below_zero] = 0\n",
    "        if mu >0:\n",
    "            C_out = (gamma/mu)+ (Ci- gamma/mu)*Atrf + (C0 - gamma/mu)*Btrf - C0*Bttrf\n",
    "        else:\n",
    "            C_out = Ci*Atrf + C0 *Btrf - C0*Bttrf\n",
    "    else: # if a continous injection then ignore the Bttrf term (no superposition)\n",
    "        if mu >0:\n",
    "            C_out = (gamma/mu)+ (Ci- gamma/mu)*Atrf + (C0 - gamma/mu)*Btrf;\n",
    "        else: # if mu = 0 then we would get nans\n",
    "            C_out = (Ci)*Atrf + (C0)*Btrf\n",
    "    return C_out"
   ]
  },
  {
   "cell_type": "code",
   "execution_count": 29,
   "metadata": {},
   "outputs": [
    {
     "data": {
      "text/plain": [
       "Text(0.5, 0, 'Time [minutes]')"
      ]
     },
     "execution_count": 29,
     "metadata": {},
     "output_type": "execute_result"
    },
    {
     "data": {
      "image/png": "[encoded data removed]",
      "text/plain": [
       "<Figure size 560x160 with 1 Axes>"
      ]
     },
     "metadata": {},
     "output_type": "display_data"
    }
   ],
   "source": [
    "Retard_pulse_solution = ADEwReactions_type1_fun(x, t, v, D, R, gamma, mu, C0, t0, Ci)\n",
    "plt.figure(figsize=(7, 2), dpi=80)     ; plt.plot(t/60, Retard_pulse_solution)      ; plt.xlabel('Time [minutes]')"
   ]
  },
  {
   "cell_type": "code",
   "execution_count": 31,
   "metadata": {},
   "outputs": [
    {
     "data": {
      "text/plain": [
       "<matplotlib.legend.Legend at 0x1a8c169eea0>"
      ]
     },
     "execution_count": 31,
     "metadata": {},
     "output_type": "execute_result"
    },
    {
     "data": {
      "image/png": "[encoded data removed]",
      "text/plain": [
       "<Figure size 560x160 with 1 Axes>"
      ]
     },
     "metadata": {},
     "output_type": "display_data"
    }
   ],
   "source": [
    "Conservative_pulse_solution = ADEwReactions_type1_fun(x, t, v, D, 1, 0, 0, C0, t0, Ci)      ; plt.figure(figsize=(7, 2), dpi=80)\n",
    "c1, = plt.plot(t, Retard_pulse_solution, label='retarded and decayed')\n",
    "c2, = plt.plot(t, Conservative_pulse_solution, label='conservative');     plt.legend(handles=[c1, c2])"
   ]
  },
  {
   "cell_type": "markdown",
   "metadata": {},
   "source": [
    "What controls the concentration of the breakthrough curve plateau? What controls the delay in the mean arrival time? \n",
    "\n",
    "### Zero-order term\n",
    "What happens if the first order term is zero but the zero-order liquid phase source term (```gamma_w```) is equal to 0.0001? How is that different if (```gamma_s```) is equal to 0.0001? What does this physically correspond to?\n",
    "\n",
    "### Finite pulse length\n",
    "If you have time, explore the breakthrough curve behavior for pulse injections (with superposition). This is already implemented into the ```ADEwReactions_type1_fun``` function. To run the function with a finite pulse length the ```t0``` variable must be greater than zero. The value assigned to this variable gives the pulse injection time in seconds. To begin, define ```t0 = 60``` and keep all other parameters the same."
   ]
  },
  {
   "cell_type": "code",
   "execution_count": null,
   "metadata": {},
   "outputs": [],
   "source": []
  }
 ],
 "metadata": {
  "kernelspec": {
   "display_name": "Python 3 (ipykernel)",
   "language": "python",
   "name": "python3"
  },
  "language_info": {
   "codemirror_mode": {
    "name": "ipython",
    "version": 3
   },
   "file_extension": ".py",
   "mimetype": "text/x-python",
   "name": "python",
   "nbconvert_exporter": "python",
   "pygments_lexer": "ipython3",
   "version": "3.12.7"
  }
 },
 "nbformat": 4,
 "nbformat_minor": 4
}
