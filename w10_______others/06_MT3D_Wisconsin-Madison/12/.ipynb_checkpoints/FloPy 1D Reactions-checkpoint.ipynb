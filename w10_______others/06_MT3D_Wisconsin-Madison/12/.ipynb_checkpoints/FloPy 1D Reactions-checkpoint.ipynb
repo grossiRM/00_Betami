{
 "cells": [
  {
   "cell_type": "code",
   "execution_count": 1,
   "metadata": {},
   "outputs": [
    {
     "name": "stdout",
     "output_type": "stream",
     "text": [
      "E:\\15_REPOS\\00_BETAMI\\w10_______others\\06_MT3D_Wisconsin-Madison\\12\n"
     ]
    }
   ],
   "source": [
    "import flopy; import sys; import pathlib; import os; import time; import numpy as np; import matplotlib.pyplot as plt\n",
    "import pandas as pd\n",
    "exe_name_mf = 'E:\\\\15_REPOS\\\\00_BETAMI\\\\w10_______others\\\\06_MT3D_Wisconsin-Madison\\\\bin\\\\mf2005'\n",
    "exe_name_mt = 'E:\\\\15_REPOS\\\\00_BETAMI\\\\w10_______others\\\\06_MT3D_Wisconsin-Madison\\\\bin\\\\mt3d-usgs_1.1.0_64'\n",
    "current_directory = os.getcwd();  print(current_directory)"
   ]
  },
  {
   "cell_type": "code",
   "execution_count": 2,
   "metadata": {},
   "outputs": [],
   "source": [
    "path = pathlib.Path('E:\\\\15_REPOS\\\\00_BETAMI\\\\w10_______others\\\\06_MT3D_Wisconsin-Madison\\\\12')\n",
    "path.mkdir(parents=True, exist_ok=True); os.chdir(path); current_directory = os.getcwd()\n",
    "directory_name = 'multiscale_heterogeneity_illustration'          ; workdir = os.path.join('.', directory_name)\n",
    "if os.path.isdir(workdir) is False:\n",
    "    os.mkdir(workdir) \n",
    "datadir = os.path.join('..', directory_name, 'mt3d_test', 'mt3dms')"
   ]
  },
  {
   "cell_type": "code",
   "execution_count": 3,
   "metadata": {},
   "outputs": [],
   "source": [
    "def reaction_model_1D(dirname, perlen_mt, prsity, v, al, isothm, rhob, sp1, sp2):\n",
    "    # Model workspace and new sub-directory\n",
    "    model_ws = os.path.join(workdir, dirname)\n",
    "    print(model_ws)\n",
    "    \n",
    "    # time units (itmuni in discretization package), unfortunately this entered differently into MODFLOW and MT3D\n",
    "    # 1 = seconds, 2 = minutes, 3 = hours, 4 = days, 5 = years\n",
    "    itmuni = 1 # MODFLOW\n",
    "    mt_tunit = 'S' # MT3D units\n",
    "    # length units (lenuniint in discretization package)\n",
    "    # 0 = undefined, 1 = feet, 2 = meters, 3 = centimeters\n",
    "    lenuni = 3 # MODFLOW units\n",
    "    mt_lunit = 'CM' # MT3D units\n",
    "    \n",
    "    # Modflow stress periods\n",
    "    perlen_mf = [np.sum(perlen_mt)]\n",
    "    # number of stress periods (MF input), calculated from period length input\n",
    "    nper_mf = len(perlen_mf)\n",
    "    \n",
    "    # number of stress periods (MT input), calculated from period length input\n",
    "    nper = len(perlen_mt)\n",
    "    \n",
    "    # Frequency of output, If nprs > 0 results will be saved at \n",
    "    #     the times as specified in timprs; \n",
    "    nprs = 100\n",
    "    # timprs (list of float): The total elapsed time at which the simulation \n",
    "    #     results are saved. The number of entries in timprs must equal nprs. (default is None).\n",
    "    timprs = np.linspace(0, np.sum(perlen_mf), nprs, endpoint=False)\n",
    "    \n",
    "    # Model information \n",
    "    nlay = 1 # number of layers\n",
    "    nrow = 1 # number of rows\n",
    "    ncol = 101 # number of columns\n",
    "    delr = 0.2 # grid size in direction of Lx\n",
    "    delc = 4.4 # grid size in direction of Ly, this was choosen such that the model has the same cross-sectional area as the column from the dispersion notebook example\n",
    "    delv = 4.4 # grid size in direction of Lz\n",
    "    laytyp = 0\n",
    "    \n",
    "    # length of model in selected units \n",
    "    Lx = (ncol - 1) * delr\n",
    "    print(\"Model length is: \" + str(Lx + delr) + \" (check units of 'lenuni')\")\n",
    "    \n",
    "    # hydraulic conductivity\n",
    "    hk = 1.\n",
    "    # advection velocity (function input)\n",
    "    # v = 0.014\n",
    "    # porosity\n",
    "    prsity = prsity\n",
    "    # discharge (again in selected units)\n",
    "    q = v * prsity\n",
    "    \n",
    "    # Flow field boundary conditions\n",
    "    # boundary conditions, <0 = specified head, 0 = no flow, >0 variable head\n",
    "    ibound = np.ones((nlay, nrow, ncol), dtype=int)\n",
    "    # index the inlet cell\n",
    "    ibound[0, 0, 0] = -1\n",
    "    # index the outlet cell\n",
    "    ibound[0, 0, -1] = -1\n",
    "    # constant head conditions\n",
    "    strt = np.zeros((nlay, nrow, ncol), dtype=float)\n",
    "    h1 = q * Lx\n",
    "    # index the inlet cell\n",
    "    strt[0, 0, 0] = h1\n",
    "    \n",
    "    # Solute transport boundary conditions\n",
    "    # Concentration at inlet boundary\n",
    "    C_in = [1.0, 0.0]\n",
    "\n",
    "    # Boundary conditions: if icbund = 0, the cell is an inactive concentration cell; \n",
    "    # If icbund < 0, the cell is a constant-concentration cell; \n",
    "    # If icbund > 0, the cell is an active concentration cell where the concentration value will be calculated.\n",
    "    icbund = np.ones((nlay, nrow, ncol), dtype=int)\n",
    "\n",
    "    # Initial conditions: concentration zero everywhere, except the inlet\n",
    "    sconc = np.zeros((nlay, nrow, ncol), dtype=float)\n",
    "    \n",
    "    # MT3D stress period data, note that the indices between 'spd_mt' must exist in 'spd_mf' \n",
    "    # This is used as input for the source and sink mixing package\n",
    "    # Itype is an integer indicating the type of point source, 2=well, 3=drain, -1=constant concentration\n",
    "    itype = -1\n",
    "    cwell_info = np.zeros((nrow, 5), dtype=float)\n",
    "    # Nested loop to define every inlet face grid cell as a well\n",
    "    for row in range(0, nrow):\n",
    "        cwell_info[row] = [0, row, 0, C_in[0], itype] \n",
    "            \n",
    "    # Second stress period        \n",
    "    cwell_info2 = cwell_info.copy()   \n",
    "    cwell_info2[:,3] = C_in[1] \n",
    "    # Now apply stress period info    \n",
    "    spd_mt = {0:cwell_info, 1:cwell_info2}\n",
    "    \n",
    "    \n",
    "    # Setup models\n",
    "    # MODFLOW model name\n",
    "    modelname_mf = dirname + '_mf'\n",
    "    # MODFLOW package class\n",
    "    mf = flopy.modflow.Modflow(modelname=modelname_mf, model_ws=model_ws, exe_name=exe_name_mf)\n",
    "    # MODFLOW model discretization package class\n",
    "    dis = flopy.modflow.ModflowDis(mf, nlay=nlay, nrow=nrow, ncol=ncol, nper=nper_mf,\n",
    "                                   delr=delr, delc=delc, top=0., botm=[0 - delv],\n",
    "                                   perlen=perlen_mf, itmuni=itmuni, lenuni=lenuni)\n",
    "    # MODFLOW basic package class\n",
    "    bas = flopy.modflow.ModflowBas(mf, ibound=ibound, strt=strt)\n",
    "    # MODFLOW layer properties flow package class\n",
    "    lpf = flopy.modflow.ModflowLpf(mf, hk=hk, laytyp=laytyp)\n",
    "    # MODFLOW preconditioned conjugate-gradient package class\n",
    "    pcg = flopy.modflow.ModflowPcg(mf)\n",
    "    # MODFLOW Link-MT3DMS Package Class (this is the package for solute transport)\n",
    "    lmt = flopy.modflow.ModflowLmt(mf)\n",
    "    \n",
    "    mf.write_input()\n",
    "    mf.run_model(silent=True) # Set this to false to produce output in command window\n",
    "    \n",
    "    # RUN MT3dms solute tranport \n",
    "    modelname_mt = dirname + '_mt'\n",
    "    # MT3DMS Model Class\n",
    "    # Input: modelname = 'string', namefile_ext = 'string' (Extension for the namefile (the default is 'nam'))\n",
    "    # modflowmodelflopy.modflow.mf.Modflow = This is a flopy Modflow model object upon which this Mt3dms model is based. (the default is None)\n",
    "    mt = flopy.mt3d.Mt3dms(modelname=modelname_mt, model_ws=model_ws, \n",
    "                           exe_name=exe_name_mt, modflowmodel=mf)  \n",
    "    \n",
    "    \n",
    "    # Basic transport package class\n",
    "    btn = flopy.mt3d.Mt3dBtn(mt, icbund=icbund, prsity=prsity, sconc=sconc, \n",
    "                             tunit=mt_tunit, lunit=mt_lunit, nper=nper, \n",
    "                             perlen=perlen_mt, nprs=nprs, timprs=timprs)\n",
    "    \n",
    "    # mixelm is an integer flag for the advection solution option, \n",
    "    # mixelm = 0 is the standard finite difference method with upstream or central in space weighting.\n",
    "    # mixelm = 1 is the forward tracking method of characteristics, this seems to result in minimal numerical dispersion.\n",
    "    # mixelm = 2 is the backward tracking\n",
    "    # mixelm = 3 is the hybrid method\n",
    "    # mixelm = -1 is the third-ord TVD scheme (ULTIMATE)\n",
    "    mixelm = 1\n",
    "    \n",
    "    adv = flopy.mt3d.Mt3dAdv(mt, mixelm=mixelm)\n",
    "    \n",
    "    dsp = flopy.mt3d.Mt3dDsp(mt, al=al)\n",
    "    \n",
    "    # =============================================================================    \n",
    "    ## Note this additional line to call the \n",
    "    rct = flopy.mt3d.Mt3dRct(mt, isothm=isothm, ireact=0, igetsc=0,\n",
    "                             rhob=rhob, sp1=sp1, sp2=sp2)\n",
    "    # =============================================================================\n",
    "    ssm = flopy.mt3d.Mt3dSsm(mt, stress_period_data=spd_mt)\n",
    "    gcg = flopy.mt3d.Mt3dGcg(mt)\n",
    "    mt.write_input()\n",
    "    fname = os.path.join(model_ws, 'MT3D001.UCN')\n",
    "    if os.path.isfile(fname):\n",
    "        os.remove(fname)\n",
    "    mt.run_model(silent=True)\n",
    "    \n",
    "    fname = os.path.join(model_ws, 'MT3D001.UCN')\n",
    "    ucnobj = flopy.utils.UcnFile(fname)\n",
    "    # Extract the output time information, convert from list to np array\n",
    "    times = np.array(ucnobj.get_times())\n",
    "    # Extract the 4D concentration values (t, x, y, z)\n",
    "    conc = ucnobj.get_alldata()\n",
    "    \n",
    "    return mf, mt, times, conc"
   ]
  },
  {
   "cell_type": "markdown",
   "metadata": {},
   "source": [
    "Now lets trying running a model by calling our 'model_1D' function"
   ]
  },
  {
   "cell_type": "code",
   "execution_count": 4,
   "metadata": {},
   "outputs": [
    {
     "name": "stdout",
     "output_type": "stream",
     "text": [
      ".\\multiscale_heterogeneity_illustration\\linear\n",
      "Model length is: 20.2 (check units of 'lenuni')\n"
     ]
    },
    {
     "ename": "PermissionError",
     "evalue": "[WinError 32] The process cannot access the file because it is being used by another process: '.\\\\multiscale_heterogeneity_illustration\\\\linear\\\\MT3D001.UCN'",
     "output_type": "error",
     "traceback": [
      "\u001b[1;31m---------------------------------------------------------------------------\u001b[0m",
      "\u001b[1;31mPermissionError\u001b[0m                           Traceback (most recent call last)",
      "Cell \u001b[1;32mIn[4], line 14\u001b[0m\n\u001b[0;32m     10\u001b[0m sp2 \u001b[38;5;241m=\u001b[39m \u001b[38;5;241m0\u001b[39m\n\u001b[0;32m     13\u001b[0m \u001b[38;5;66;03m# Call the FloPy model function\u001b[39;00m\n\u001b[1;32m---> 14\u001b[0m mf, mt, times_analytic_comp, conc \u001b[38;5;241m=\u001b[39m reaction_model_1D(dirname, perlen_mt, \n\u001b[0;32m     15\u001b[0m         prsity, v, al, isothm, rhob, kd, sp2)\n",
      "Cell \u001b[1;32mIn[3], line 150\u001b[0m, in \u001b[0;36mreaction_model_1D\u001b[1;34m(dirname, perlen_mt, prsity, v, al, isothm, rhob, sp1, sp2)\u001b[0m\n\u001b[0;32m    148\u001b[0m fname \u001b[38;5;241m=\u001b[39m os\u001b[38;5;241m.\u001b[39mpath\u001b[38;5;241m.\u001b[39mjoin(model_ws, \u001b[38;5;124m'\u001b[39m\u001b[38;5;124mMT3D001.UCN\u001b[39m\u001b[38;5;124m'\u001b[39m)\n\u001b[0;32m    149\u001b[0m \u001b[38;5;28;01mif\u001b[39;00m os\u001b[38;5;241m.\u001b[39mpath\u001b[38;5;241m.\u001b[39misfile(fname):\n\u001b[1;32m--> 150\u001b[0m     os\u001b[38;5;241m.\u001b[39mremove(fname)\n\u001b[0;32m    151\u001b[0m mt\u001b[38;5;241m.\u001b[39mrun_model(silent\u001b[38;5;241m=\u001b[39m\u001b[38;5;28;01mTrue\u001b[39;00m)\n\u001b[0;32m    153\u001b[0m fname \u001b[38;5;241m=\u001b[39m os\u001b[38;5;241m.\u001b[39mpath\u001b[38;5;241m.\u001b[39mjoin(model_ws, \u001b[38;5;124m'\u001b[39m\u001b[38;5;124mMT3D001.UCN\u001b[39m\u001b[38;5;124m'\u001b[39m)\n",
      "\u001b[1;31mPermissionError\u001b[0m: [WinError 32] The process cannot access the file because it is being used by another process: '.\\\\multiscale_heterogeneity_illustration\\\\linear\\\\MT3D001.UCN'"
     ]
    }
   ],
   "source": [
    "dirname = 'linear'\n",
    "perlen_mt = [60*120, 0]\n",
    "prsity = 0.3\n",
    "v = 0.014\n",
    "al = 0.3 # cm\n",
    "\n",
    "isothm = 1\n",
    "rhob = 1.6\n",
    "kd = 0.4 \n",
    "sp2 = 0\n",
    "\n",
    "\n",
    "# Call the FloPy model function\n",
    "mf, mt, times_analytic_comp, conc = reaction_model_1D(dirname, perlen_mt, \n",
    "        prsity, v, al, isothm, rhob, kd, sp2)"
   ]
  },
  {
   "cell_type": "markdown",
   "metadata": {},
   "source": [
    "Now let's plot the model output as a function of time"
   ]
  },
  {
   "cell_type": "code",
   "execution_count": null,
   "metadata": {},
   "outputs": [],
   "source": [
    "C_btc = conc[:, 0, 0, -1]\n",
    "print(np.max(conc))\n",
    "plt.plot(times/60, C_btc, label='Breakthrough Curve')\n",
    "plt.xlabel('Time [min]');"
   ]
  },
  {
   "cell_type": "markdown",
   "metadata": {},
   "source": [
    "## 1D Analytical Solution Function\n",
    "Now lets compare the numerical results with the analytical solution we looked at in our previous notebook."
   ]
  },
  {
   "cell_type": "code",
   "execution_count": null,
   "metadata": {},
   "outputs": [],
   "source": [
    "# Remember that we need a few special functions\n",
    "from scipy.special import erfc as erfc\n",
    "from scipy.special import erf as erf\n",
    "\n",
    "# Analytical solution\n",
    "def ADE_type1_Rfun(x, t, v, D, rhob, kd, phi, C0):\n",
    "    R = 1 + rhob*kd/phi\n",
    "    \n",
    "    # Note that the '\\' means continued on the next line\n",
    "    C = C0*((1/2)*erfc((R*x - v*t)/(2*np.sqrt(D*R*t))) + \\\n",
    "        (1/2)*np.exp(v*x/D)*erfc((R*x + v*t)/(2*np.sqrt(D*R*t))))\n",
    "    # Return the concentration (C) from this function\n",
    "    return C"
   ]
  },
  {
   "cell_type": "markdown",
   "metadata": {},
   "source": [
    "Call the function to calculate the breakthrough curve at outlet of the core"
   ]
  },
  {
   "cell_type": "code",
   "execution_count": null,
   "metadata": {},
   "outputs": [],
   "source": [
    "# Extract the model grid cell location (in selected units, cm in this case)\n",
    "y, x, z = mf.dis.get_node_coordinates()\n",
    "print('Outlet of model: ' + str(x[-1]) + ' cm')"
   ]
  },
  {
   "cell_type": "code",
   "execution_count": null,
   "metadata": {},
   "outputs": [],
   "source": [
    "# Call the FloPy model function\n",
    "D = v*al\n",
    "C_analytical = ADE_type1_Rfun(x[-1], times, v, D, rhob, kd, prsity, 1)"
   ]
  },
  {
   "cell_type": "markdown",
   "metadata": {},
   "source": [
    "Now let's plot a comparison."
   ]
  },
  {
   "cell_type": "code",
   "execution_count": null,
   "metadata": {},
   "outputs": [],
   "source": [
    "plt.plot(times_analytic_comp/60, C_btc, label='BTC FloPy Linear Adsorption')\n",
    "plt.plot(times_analytic_comp/60, C_analytical, '--', label='BTC 1D analytical, type 1')\n",
    "plt.xlabel('Time [min]');\n",
    "\n",
    "plt.legend()\n",
    "plt.show()"
   ]
  },
  {
   "cell_type": "markdown",
   "metadata": {},
   "source": [
    "It is always a good idea to this type of numerical-analytical model comparison when you are building new numerical models or using packages that you are unfamiliar with to make sure the numerical model is performing as expected!"
   ]
  },
  {
   "cell_type": "markdown",
   "metadata": {},
   "source": [
    "## Activity:\n",
    "Use this model explore how the breakthrough curves for pulse injections change with different adsorption behavior.\n",
    "\n",
    "Below are initial models for comparing conservative transport with linear, Freundlich, and Langmuir adsorption solute transport."
   ]
  },
  {
   "cell_type": "code",
   "execution_count": null,
   "metadata": {},
   "outputs": [],
   "source": [
    "dirname = 'conserv_pulse'\n",
    "perlen_mt = [60*2, 60*150]\n",
    "al = 0.3 # cm\n",
    "\n",
    "isothm = 1\n",
    "kd = 0 \n",
    "sp2 = 0\n",
    "\n",
    "# Call the FloPy model function\n",
    "mf, mt, times, conc = reaction_model_1D(dirname, perlen_mt, \n",
    "        prsity, v, al, isothm, rhob, kd, sp2)\n",
    "\n",
    "C_conservative_btc = conc[:, 0, 0, -1]"
   ]
  },
  {
   "cell_type": "code",
   "execution_count": null,
   "metadata": {},
   "outputs": [],
   "source": [
    "dirname = 'linear_pulse'\n",
    "isothm = 1\n",
    "kd = 0.4 \n",
    "sp2 = 0\n",
    "\n",
    "\n",
    "# Call the FloPy model function\n",
    "mf, mt, times, conc = reaction_model_1D(dirname, perlen_mt, \n",
    "        prsity, v, al, isothm, rhob, kd, sp2)\n",
    "\n",
    "C_linear_btc = conc[:, 0, 0, -1]"
   ]
  },
  {
   "cell_type": "code",
   "execution_count": null,
   "metadata": {},
   "outputs": [],
   "source": [
    "dirname = 'freundlich_pulse'\n",
    "isothm = 2\n",
    "kf = 0.2 \n",
    "N = 0.7\n",
    "\n",
    "# Call the FloPy model function\n",
    "mf, mt, times, conc = reaction_model_1D(dirname, perlen_mt, \n",
    "        prsity, v, al, isothm, rhob, kf, N)\n",
    "\n",
    "C_freund_btc = conc[:, 0, 0, -1]"
   ]
  },
  {
   "cell_type": "code",
   "execution_count": null,
   "metadata": {},
   "outputs": [],
   "source": [
    "dirname = 'langmuir_pulse'\n",
    "isothm = 3\n",
    "alpha = 2 \n",
    "beta = 0.2\n",
    "\n",
    "# Call the FloPy model function\n",
    "mf, mt, times, conc = reaction_model_1D(dirname, perlen_mt, \n",
    "        prsity, v, al, isothm, rhob, alpha, beta)\n",
    "\n",
    "C_langmuir_btc = conc[:, 0, 0, -1]"
   ]
  },
  {
   "cell_type": "markdown",
   "metadata": {},
   "source": [
    "Before looking at the breakthrough curves it is useful to explore what these isotherms look like. Based on these differences in isotherms, what differences do you expect in the breakthrough curve behavior?"
   ]
  },
  {
   "cell_type": "code",
   "execution_count": null,
   "metadata": {},
   "outputs": [],
   "source": [
    "# Calculate Isotherms\n",
    "C_iso = np.linspace(0, 1, num=200)\n",
    "Cs_linear = kd*C_iso\n",
    "Cs_freundlich = kf*C_iso**N\n",
    "Cs_langmuir = alpha*beta*C_iso/(1+ alpha*C_iso)\n",
    "\n",
    "# Plot the results\n",
    "plt.figure(figsize=(4, 3), dpi=150)\n",
    "plt.plot(C_iso, Cs_linear, label='Linear')\n",
    "plt.plot(C_iso, Cs_freundlich, label='Freundlich')\n",
    "plt.plot(C_iso, Cs_langmuir, label='Langmuir')\n",
    "plt.xlabel('Aqueous Concentration')\n",
    "plt.ylabel('Sorbed Concentration')\n",
    "# plt.xlim([0, 0.05])\n",
    "# plt.ylim([0, 0.03])\n",
    "plt.legend()\n",
    "plt.show()"
   ]
  },
  {
   "cell_type": "code",
   "execution_count": null,
   "metadata": {},
   "outputs": [],
   "source": [
    "plt.figure(figsize=(4, 3), dpi=150)\n",
    "plt.plot(times/60, C_linear_btc, label='FloPy Linear Adsorption')\n",
    "plt.plot(times/60, C_freund_btc, label='FloPy Freundlich Adsorption')\n",
    "plt.plot(times/60, C_langmuir_btc, label='FloPy Langmuir Adsorption')\n",
    "plt.plot(times/60, C_conservative_btc, label='FloPy Conservative')\n",
    "plt.xlabel('Time [min]')\n",
    "plt.ylabel('Aqueous Concentration')\n",
    "\n",
    "plt.legend()\n",
    "plt.show()"
   ]
  },
  {
   "cell_type": "markdown",
   "metadata": {},
   "source": [
    "**Why does the Freundlich model have the longest tail? Why does the Langmuir model breakthrough faster than the linear or Freundlich model?**\n",
    "\n",
    "Test the breakthrough behavior for different isotherms. After playing around with different adsorption models discuss the following with a partner. How do the different models lead to skewing of the breakthrough curves? How does the steepness of the isoterm and the plateau value impact the breakthrough curve behavior?"
   ]
  },
  {
   "cell_type": "code",
   "execution_count": null,
   "metadata": {},
   "outputs": [],
   "source": []
  }
 ],
 "metadata": {
  "kernelspec": {
   "display_name": "Python 3 (ipykernel)",
   "language": "python",
   "name": "python3"
  },
  "language_info": {
   "codemirror_mode": {
    "name": "ipython",
    "version": 3
   },
   "file_extension": ".py",
   "mimetype": "text/x-python",
   "name": "python",
   "nbconvert_exporter": "python",
   "pygments_lexer": "ipython3",
   "version": "3.12.7"
  }
 },
 "nbformat": 4,
 "nbformat_minor": 4
}
