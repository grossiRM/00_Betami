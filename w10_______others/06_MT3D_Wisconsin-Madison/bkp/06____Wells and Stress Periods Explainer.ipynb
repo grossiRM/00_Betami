{
 "cells": [
  {
   "cell_type": "code",
   "execution_count": 1,
   "metadata": {},
   "outputs": [],
   "source": [
    "import flopy\n",
    "import sys\n",
    "import os\n",
    "import pathlib\n",
    "import numpy as np\n",
    "import pandas as pd\n",
    "import matplotlib.pyplot as plt\n",
    "from copy import deepcopy as deepcopy"
   ]
  },
  {
   "cell_type": "code",
   "execution_count": 2,
   "metadata": {},
   "outputs": [],
   "source": [
    "exe_name_mf = '../bin/mf2005.exe'; exe_name_mt = '../bin/mt3dusgs1.1.0/bin/mt3d-usgs_1.1.0_64.exe' \n",
    "model_ws    = '.';  dirname = '.'"
   ]
  },
  {
   "cell_type": "code",
   "execution_count": 3,
   "metadata": {},
   "outputs": [],
   "source": [
    "def plot_2d(map_data, dx, dy, colorbar_label, cmap):                                                             # FUNCTION_01\n",
    "    r, c   = np.shape   (map_data);                 x_coord = np.linspace(0, dx*c, c+1);  y_coord = np.linspace(0, dy*r, r+1);  \n",
    "    X,Y    = np.meshgrid(x_coord, y_coord)\n",
    "    plt.figure(figsize=(3, 1), dpi=150)\n",
    "    plt.pcolormesh(X, Y, map_data, cmap=cmap,    shading = 'auto', edgecolor ='k', linewidth = 0.001)\n",
    "    plt.gca().set_aspect('equal');                  cbar = plt.colorbar();         cbar.set_label(colorbar_label)\n",
    "    plt.tick_params(axis='both', which='major');    plt.xlim((0, dx*c));           plt.ylim((0, dy*r)) ; plt.show()"
   ]
  },
  {
   "cell_type": "code",
   "execution_count": 4,
   "metadata": {},
   "outputs": [],
   "source": [
    "def model_with_wells(dirname, perlen_mf, al, ibound, strt, icbund, sconc, spd_mf, spd_mt, nlay, nrow, ncol):     # FUNCTION_02\n",
    "    itmuni = 4; mt_tunit = 'D';   lenuni = 2; mt_lunit = 'M'     # Days | Meters\n",
    "    nper = len(perlen_mf);        nprs = 100 ;                   timprs = np.linspace(0, np.sum(perlen_mf), nprs, endpoint=False)\n",
    "    hk = 1 ; prsity = 0.3 ;       delv = 1 ; delc = 1 ; delr = 1 \n",
    "    \n",
    "    modelname_mf = 'mf06_mf'\n",
    "    mf     = flopy.modflow.Modflow(modelname    = modelname_mf,      model_ws = model_ws,  exe_name   = exe_name_mf)\n",
    "    dis    = flopy.modflow.ModflowDis(mf, nlay  = nlay, nrow = nrow, ncol=ncol,  nper = nper, delr    = delr, delc=delc, \n",
    "                                   top=0., botm =[0 - delv], perlen=perlen_mf, itmuni =itmuni, lenuni = lenuni)\n",
    "    bas    = flopy.modflow.ModflowBas(mf, ibound=ibound, strt=strt)\n",
    "    laytyp = 0\n",
    "    lpf    = flopy.modflow.ModflowLpf(mf, hk=hk, laytyp=laytyp)\n",
    "    wel    = flopy.modflow.ModflowWel(mf, stress_period_data=spd_mf)\n",
    "    pcg    = flopy.modflow.ModflowPcg(mf)\n",
    "    lmt    = flopy.modflow.ModflowLmt(mf)\n",
    "    oc     =  flopy.modflow.ModflowOc(mf)\n",
    "    mf.write_input() ;             mf.run_model(silent=True)         # ____________________________ write | run __mf\n",
    "    \n",
    "    modelname_mt = 'mt_____06_mt'\n",
    "    mt     = flopy.mt3d.Mt3dms(modelname=modelname_mt, model_ws=model_ws, exe_name=exe_name_mt, modflowmodel=mf)  \n",
    "    btn    = flopy.mt3d.Mt3dBtn(mt, icbund=icbund, prsity=prsity, sconc=sconc, tunit=mt_tunit, lunit=mt_lunit, nprs=nprs, timprs=timprs)\n",
    "    mixelm = -1\n",
    "    adv    = flopy.mt3d.Mt3dAdv(mt, mixelm=mixelm, percel=0.5)\n",
    "    dsp    = flopy.mt3d.Mt3dDsp(mt, al=al)\n",
    "    ssm    = flopy.mt3d.Mt3dSsm(mt, stress_period_data=spd_mt)\n",
    "    gcg    = flopy.mt3d.Mt3dGcg(mt, cclose=1e-6)\n",
    "    mt.write_input();              mt.run_model(silent=True)         # ____________________________ write | run __mt\n",
    "\n",
    "    fname   = os.path.join(model_ws, 'mf06_mf'+'.hds')   # heads (103, 1, 20, 40)\n",
    "    hdobj   = flopy.utils.HeadFile(fname)\n",
    "    heads   = hdobj.get_data();                       Ar = heads.reshape(heads.shape[0], -1);  Ar2 = pd.DataFrame(Ar);      Ar2.to_csv (\"06a1_H(x).csv\")\n",
    "    fname   = os.path.join(model_ws, 'MT3D001.UCN');\n",
    "    ucnobj  = flopy.utils.UcnFile(fname);    \n",
    "    conc = ucnobj.get_alldata();                      Cr = conc.reshape(conc.shape[0],  -1);   Cr2 = pd.DataFrame(Cr);      Cr2.to_csv (\"06b1_C(x).csv\") \n",
    "    times  = np.array(ucnobj.get_times());           \n",
    "    return mf, mt, times, conc;                       # Binaries                           "
   ]
  },
  {
   "cell_type": "code",
   "execution_count": 5,
   "metadata": {},
   "outputs": [
    {
     "data": {
      "image/png": "[encoded data removed]",
      "text/plain": [
       "<Figure size 450x150 with 2 Axes>"
      ]
     },
     "metadata": {},
     "output_type": "display_data"
    },
    {
     "name": "stdout",
     "output_type": "stream",
     "text": [
      "(1, 20, 40)\n"
     ]
    }
   ],
   "source": [
    "nlay = 1;   nrow = 20; ncol = 40\n",
    "strt             = np.zeros((nlay, nrow, ncol), dtype=float)          \n",
    "ibound           = np.ones ((nlay, nrow, ncol), dtype=int)\n",
    "ibound[0, :, -1] = -1;      plot_2d(ibound[0,:,:], 1, 1, 'ibound ', 'magma');         print(ibound.shape); # [0,:,:]"
   ]
  },
  {
   "cell_type": "raw",
   "metadata": {},
   "source": [
    "for i in range(1,nper):\n",
    "    print(q[i])\n",
    "    if isinstance(q, (list, tuple, np.ndarray)):\n",
    "        well_info[:,3] = q[i] / ( nrow * nlay )\n",
    "    else:\n",
    "        well_info[:,3] = q / (nrow * nlay)\n",
    "    w = deepcopy(well_info)\n",
    "    # spd_mf = dict(spd_mf, {i: well_info)})\n",
    "    spd_mf.update({i:w})"
   ]
  },
  {
   "cell_type": "code",
   "execution_count": 6,
   "metadata": {},
   "outputs": [],
   "source": [
    "strt = np.zeros((nlay, nrow, ncol), dtype=float)        ; q = [0.5, 0.5, -0.5] # ...  spd_mf = {0:[[0, 0, 1, q],[0, 5, 1, q]]}\n",
    "well_info       = np.zeros((int(nrow), 4), dtype=float)        # define well info structure\n",
    "well_info[:,1]  = range(0, nrow)                               # set indices of left face [:,1] = range(0, nrow)   # set volumetric flow [:,3] = q[0]  \n",
    "well_info[:,3]  = q[0];       w = deepcopy(well_info);                   spd_mf        = {0 : w}         \n",
    "well_info[:,3]  = q[1];       w = deepcopy(well_info);                   spd_mf.update ( {1 : w} )       # Second stress period\n",
    "well_info[:,3]  = q[2];       w = deepcopy(well_info);                   spd_mf.update ( {2 : w} )       # Third  stress period \n",
    "\n",
    "icbund          = np.ones  ((nlay, nrow, ncol), dtype=int)                                               # active concentration cells      \n",
    "sconc           = np.zeros ((nlay, nrow, ncol), dtype=float);             c = [1, 0, 0]; itype = -1      # initial concentrations  # C at 1º S. Period\n",
    "cwell_info      = np.zeros ((  int(nrow),   5), dtype=float)                           # itype = -1 (cst conc), 2=well, 3=drain \n",
    "\n",
    "cwell_info[:,1] = range(0, nrow)\n",
    "cwell_info[:,3] = c[0]            # set conc. [:,3] = c[0] at position [:,1], ... range 1,2,3,..20\n",
    "cwell_info[:,4] = itype;                                                 spd_mt =      {0:cwell_info };    \n",
    "cwell_info2     = deepcopy(cwell_info);     cwell_info2[:,3] = c[1];     spd_mt.update({1:cwell_info2})  # Second stress period\n",
    "cwell_info2     = deepcopy(cwell_info);     cwell_info2[:,3] = c[2];     spd_mt.update({2:cwell_info2})  # Third  stress period\n",
    "\n",
    "w0 = well_info[:,3];     Ar1 = pd.DataFrame(w0);   Ar1.to_csv (\"01.csv\")\n",
    "z0 = range(0, nrow);     Ar1 = pd.DataFrame(z0);   Ar1.to_csv (\"00.csv\")\n",
    "Ar1 = pd.DataFrame(cwell_info);        Ar1.to_csv (\"06_cwell_info1.csv\")\n",
    "Ar2 = pd.DataFrame(cwell_info2);       Ar2.to_csv (\"06_cwell_info2.csv\")      # Ar3 = pd.DataFrame(spd_mt);  Ar3.to_csv (\"06_cwell_info2.csv\")"
   ]
  },
  {
   "cell_type": "markdown",
   "metadata": {},
   "source": [
    "# **spd_mf spd_mt** `sources sincks sensitive`"
   ]
  },
  {
   "cell_type": "code",
   "execution_count": 7,
   "metadata": {},
   "outputs": [
    {
     "name": "stdout",
     "output_type": "stream",
     "text": [
      "[ 1 19 29]\n"
     ]
    },
    {
     "data": {
      "image/png": "[encoded data removed]",
      "text/plain": [
       "<Figure size 600x200 with 1 Axes>"
      ]
     },
     "metadata": {},
     "output_type": "display_data"
    }
   ],
   "source": [
    "perlen_mf                    = [1, 18, 10];             nper = len(perlen_mf)                        # Strees periods\n",
    "model_time = np.cumsum(perlen_mf); print(model_time);   plt.figure(figsize=(6,2))\n",
    "plt.plot( [0,            model_time[0]],  [q[0],  q[0] ], color='r',  label= 'Flow rate [m/day]')\n",
    "plt.plot( [model_time[0],model_time[1]],  [q[1],  q[1] ], color='r') \n",
    "plt.plot( [model_time[1],model_time[2]],  [q[2],  q[2] ], color='r')\n",
    "\n",
    "plt.plot( [0,            model_time[0]],  [c[0],  c[0] ], color='b',  label= 'Concentration')\n",
    "plt.plot( [model_time[0],model_time[1]],  [c[1],  c[1] ], color='b') \n",
    "plt.plot( [model_time[1],model_time[2]],  [c[2],  c[2] ], color='b')\n",
    "\n",
    "plt.plot( [model_time[0],model_time[0]],  [-1, 1],   '--k',  label= 'Stress period boundary')\n",
    "plt.plot( [model_time[1],model_time[1]],  [-1, 1],   '--k') \n",
    "plt.plot( [model_time[2],model_time[2]],  [-1, 1],   '--k'); plt.xlabel('Time [days]'); plt.ylabel('Concentration / Flow rate');plt.legend();plt.show()"
   ]
  },
  {
   "cell_type": "code",
   "execution_count": 8,
   "metadata": {},
   "outputs": [],
   "source": [
    "D = pd.DataFrame(model_time); D.to_csv(\"06a(Time)_y.csv\")"
   ]
  },
  {
   "cell_type": "code",
   "execution_count": 9,
   "metadata": {
    "scrolled": true
   },
   "outputs": [],
   "source": [
    "dirname = 'run1';   al = 0.1  # meters            # RUN FUNCTION\n",
    "mf, mt, times, conc = model_with_wells(dirname, perlen_mf, al, ibound, strt, icbund, sconc, spd_mf, spd_mt, nlay, nrow, ncol)  "
   ]
  },
  {
   "cell_type": "code",
   "execution_count": 10,
   "metadata": {
    "scrolled": true
   },
   "outputs": [
    {
     "data": {
      "image/png": "[encoded data removed]",
      "text/plain": [
       "<Figure size 450x150 with 2 Axes>"
      ]
     },
     "metadata": {},
     "output_type": "display_data"
    }
   ],
   "source": [
    "#plot_2d(conc [1,  0,:,:], 1, 1, 'C', 'Reds')        # early time\n",
    "plot_2d(conc [58, 0,:,:], 1, 1, 'C', 'Reds')        # around the switch in flow (stress period 1 - 2 boundary)\n",
    "#plot_2d(conc [-1, 0,:,:], 1, 1, 'C', 'Reds')        # last time step"
   ]
  },
  {
   "cell_type": "code",
   "execution_count": 11,
   "metadata": {},
   "outputs": [
    {
     "name": "stdout",
     "output_type": "stream",
     "text": [
      "(103, 1, 20, 40)\n"
     ]
    }
   ],
   "source": [
    "# print(heads.shape)  \n",
    "print(conc.shape) "
   ]
  },
  {
   "cell_type": "code",
   "execution_count": 12,
   "metadata": {},
   "outputs": [
    {
     "data": {
      "image/png": "[encoded data removed]",
      "text/plain": [
       "<Figure size 500x300 with 1 Axes>"
      ]
     },
     "metadata": {},
     "output_type": "display_data"
    }
   ],
   "source": [
    "ym, xm, zm = mf.dis.get_node_coordinates();                        Cr = pd.DataFrame(xm); Cr.to_csv(\"06d1_x.csv\") \n",
    "plt.figure(figsize=(5,3));                                         Dr = pd.DataFrame(ym); Dr.to_csv(\"06d2_y.csv\")\n",
    "plt.plot(xm, np.mean(conc[1,  0, :, :], axis=0), label='ts = 1')\n",
    "plt.plot(xm, np.mean(conc[74, 0, :, :], axis=0), label='ts = 74')          # mean ? _(X)_____________________________________    \n",
    "plt.plot(xm, np.mean(conc[-1, 0, :, :], axis=0), label='end of sim');      plt.xlabel('X [m]'); plt.legend() ; plt.show()"
   ]
  },
  {
   "cell_type": "code",
   "execution_count": 13,
   "metadata": {},
   "outputs": [
    {
     "name": "stdout",
     "output_type": "stream",
     "text": [
      "(20, 40)\n"
     ]
    },
    {
     "data": {
      "text/plain": [
       "(None,)"
      ]
     },
     "execution_count": 13,
     "metadata": {},
     "output_type": "execute_result"
    }
   ],
   "source": [
    "iB = ibound[0,:,:];  cr = pd.DataFrame(iB);     cr.to_csv (\"06f(ibound).csv\");    print(cr.shape),  # c    # [0, :20, 39]"
   ]
  },
  {
   "cell_type": "code",
   "execution_count": 14,
   "metadata": {},
   "outputs": [
    {
     "name": "stdout",
     "output_type": "stream",
     "text": [
      "(1, 20, 40)\n"
     ]
    }
   ],
   "source": [
    "fname   = os.path.join(model_ws, 'mf06_mf'+'.hds')   \n",
    "hdobj   = flopy.utils.HeadFile(fname)\n",
    "heads   = hdobj.get_data();               print(heads.shape)  "
   ]
  },
  {
   "cell_type": "code",
   "execution_count": 15,
   "metadata": {},
   "outputs": [
    {
     "name": "stdout",
     "output_type": "stream",
     "text": [
      "(20, 40)\n"
     ]
    },
    {
     "data": {
      "text/plain": [
       "(None,)"
      ]
     },
     "execution_count": 15,
     "metadata": {},
     "output_type": "execute_result"
    }
   ],
   "source": [
    "ir2 = heads[0,:,:];   cr = pd.DataFrame(ir2);     cr.to_csv (\"06g(heads).csv\");    print(cr.shape),  # c    # [0, :20, 39]"
   ]
  },
  {
   "cell_type": "raw",
   "metadata": {},
   "source": [
    "perlen_mf                    = [1, 18, 10];             nper = len(perlen_mf)                        # Strees periods\n",
    "model_time = np.cumsum(perlen_mf); print(model_time);   plt.figure(figsize=(6,2))\n",
    "\n",
    "plt.plot( [model_time[0],model_time[0]],  [-1, 1],           '--k',  label= 'Stress period boundary')\n",
    "plt.plot( [model_time[1],model_time[1]],  [-1, 1],           '--k') \n",
    "plt.plot( [model_time[2],model_time[2]],  [-1, 1],           '--k');  plt.xlabel('Time [days]');   plt.ylabel('Concentration / Flow rate');plt.legend();plt.show()"
   ]
  },
  {
   "cell_type": "raw",
   "metadata": {},
   "source": [
    "perlen_mf                    = [1, 18, 10];             nper = len(perlen_mf)                        # Strees periods\n",
    "model_time = np.cumsum(perlen_mf); print(model_time);   plt.figure(figsize=(6,2))\n",
    "plt.plot( [0,            model_time[0]],  [c[0],  c[0] ], color='b',  label= 'Flow rate [m/day]')\n",
    "plt.plot( [model_time[0],model_time[1]],  [c[1],  c[1] ], color='b') \n",
    "plt.plot( [model_time[1],model_time[2]],  [c[2],  c[2] ], color='b')\n",
    "plt.xlabel('Time [days]');   plt.ylabel('Concentration / Flow rate');plt.legend();plt.show()"
   ]
  },
  {
   "cell_type": "raw",
   "metadata": {},
   "source": [
    "perlen_mf                    = [1, 18, 10];             nper = len(perlen_mf)                        # Strees periods\n",
    "model_time = np.cumsum(perlen_mf); print(model_time);   plt.figure(figsize=(6,2))\n",
    "plt.plot( [0,            model_time[0]],  [q[0],  q[0] ], color='r',  label= 'Flow rate [m/day]')\n",
    "plt.plot( [model_time[0],model_time[1]],  [q[1],  q[1] ], color='r') \n",
    "plt.plot( [model_time[1],model_time[2]],  [q[2],  q[2] ], color='r')\n",
    "plt.xlabel('Time [days]');   plt.ylabel('Concentration / Flow rate');plt.legend();plt.show()"
   ]
  },
  {
   "cell_type": "code",
   "execution_count": 16,
   "metadata": {},
   "outputs": [
    {
     "data": {
      "image/png": "[encoded data removed]",
      "text/plain": [
       "<Figure size 560x160 with 1 Axes>"
      ]
     },
     "metadata": {},
     "output_type": "display_data"
    }
   ],
   "source": [
    "C_btc_model = np.mean([conc[:, 0, :, -1]], axis=2)\n",
    "plt.figure(figsize=(7, 2), dpi=80) ; plt.plot(times, np.transpose(C_btc_model), 'k', label='')\n",
    "plt.xlabel('Time [days]'); plt.ylabel('Mean outlet BC. conc'); plt.show()"
   ]
  },
  {
   "cell_type": "code",
   "execution_count": 17,
   "metadata": {},
   "outputs": [
    {
     "name": "stdout",
     "output_type": "stream",
     "text": [
      "(103, 1, 20, 40)\n"
     ]
    }
   ],
   "source": [
    "print(conc.shape)   # print(C_btc_model.shape) = (1,103)"
   ]
  },
  {
   "cell_type": "code",
   "execution_count": 18,
   "metadata": {},
   "outputs": [
    {
     "name": "stdout",
     "output_type": "stream",
     "text": [
      "(1, 103)\n"
     ]
    }
   ],
   "source": [
    "print(C_btc_model.shape)"
   ]
  },
  {
   "cell_type": "code",
   "execution_count": 19,
   "metadata": {},
   "outputs": [],
   "source": [
    "bt = np.transpose(C_btc_model);           cr = pd.DataFrame(bt);              cr.to_csv (\"C_btc.csv\")\n",
    "a = np.array([[1, 2], [3, 4], [5, 6]]);   cr = pd.DataFrame(a);               cr.to_csv (\"a1.csv\")\n",
    "b = np.mean(a, axis=1) ;                  cr = pd.DataFrame(b);               cr.to_csv (\"a2.csv\");    # b "
   ]
  },
  {
   "cell_type": "code",
   "execution_count": 21,
   "metadata": {},
   "outputs": [
    {
     "data": {
      "text/plain": [
       "array([0.95, 0.95, 0.95, 0.95, 0.95, 0.95, 0.95, 0.95, 0.95, 0.95, 0.95,\n",
       "       0.95, 0.95, 0.95, 0.95, 0.95, 0.95, 0.95, 0.95, 0.95])"
      ]
     },
     "execution_count": 21,
     "metadata": {},
     "output_type": "execute_result"
    }
   ],
   "source": [
    "np.mean(iB, axis=1)"
   ]
  },
  {
   "cell_type": "code",
   "execution_count": 22,
   "metadata": {
    "collapsed": true,
    "jupyter": {
     "outputs_hidden": true,
     "source_hidden": true
    }
   },
   "outputs": [
    {
     "name": "stdout",
     "output_type": "stream",
     "text": [
      "(2, 5)\n"
     ]
    },
    {
     "data": {
      "text/plain": [
       "array([[ 1,  2,  3,  4,  5],\n",
       "       [ 6,  7,  8,  9, 10]])"
      ]
     },
     "execution_count": 22,
     "metadata": {},
     "output_type": "execute_result"
    }
   ],
   "source": [
    "a2D = np.array( [ [ 1, 2, 3, 4,  5 ] ,\n",
    "                  [ 6, 7, 8, 9, 10 ] ] )                        ; print(a2D.shape);   a2D "
   ]
  },
  {
   "cell_type": "code",
   "execution_count": 24,
   "metadata": {
    "collapsed": true,
    "jupyter": {
     "outputs_hidden": true,
     "source_hidden": true
    },
    "scrolled": true
   },
   "outputs": [
    {
     "name": "stdout",
     "output_type": "stream",
     "text": [
      "(3, 2, 5)\n"
     ]
    },
    {
     "data": {
      "text/plain": [
       "array([[[ 1,  2,  1,  1,  1],\n",
       "        [ 3,  4,  1,  1,  1]],\n",
       "\n",
       "       [[ 5,  6,  1,  1,  1],\n",
       "        [ 7,  8,  1,  1,  1]],\n",
       "\n",
       "       [[13, 14,  1,  1,  1],\n",
       "        [16, 17,  1,  1,  1]]])"
      ]
     },
     "execution_count": 24,
     "metadata": {},
     "output_type": "execute_result"
    }
   ],
   "source": [
    "a3D = np.array( [ [ [ 1,2,1,1,1]    , [ 3, 4,1,1,1]  ],\n",
    "                    [ [5,6,1,1,1]   , [ 7, 8,1,1,1]  ],\n",
    "                    [ [13,14,1,1,1] , [16,17,1,1,1]  ] ]);       print(a3D.shape);    a3D"
   ]
  },
  {
   "cell_type": "code",
   "execution_count": 65,
   "metadata": {
    "collapsed": true,
    "jupyter": {
     "outputs_hidden": true
    }
   },
   "outputs": [
    {
     "name": "stdout",
     "output_type": "stream",
     "text": [
      "(3, 1, 3, 5)\n"
     ]
    },
    {
     "data": {
      "text/plain": [
       "array([[[[ 1,  2,  1,  1, -1],\n",
       "         [ 3,  4,  1,  1, -1],\n",
       "         [ 5,  6,  1,  1, -1]]],\n",
       "\n",
       "\n",
       "       [[[ 7,  8,  1,  1, -1],\n",
       "         [ 9, 10,  1,  1, -1],\n",
       "         [11, 12,  1,  1, -1]]],\n",
       "\n",
       "\n",
       "       [[[13, 14,  1,  1, -1],\n",
       "         [15, 16,  1,  1, -1],\n",
       "         [17, 18,  1,  1, -1]]]])"
      ]
     },
     "execution_count": 65,
     "metadata": {},
     "output_type": "execute_result"
    }
   ],
   "source": [
    "a4D = np.array([ [  [ [1, 2, 1,1,-1] ,[ 3, 4,1,1,-1] ,[ 5, 6,1,1,-1] ]  ],         # 2D = array of vectors (rows or columns)   (2 x 4), ... (10, 3)\n",
    "                 [  [ [7, 8, 1,1,-1] ,[ 9,10,1,1,-1] ,[11,12,1,1,-1] ]  ],         # 3D = array of 2D array \n",
    "                 [  [ [13,14,1,1,-1] ,[15,16,1,1,-1] ,[17,18,1,1,-1] ]  ] ])       # 4D = array of 3D arrays \n",
    "print(a4D.shape)\n",
    "a4D "
   ]
  },
  {
   "cell_type": "code",
   "execution_count": 69,
   "metadata": {},
   "outputs": [
    {
     "name": "stdout",
     "output_type": "stream",
     "text": [
      "(3, 3)\n"
     ]
    },
    {
     "data": {
      "text/plain": [
       "array([[-1, -1, -1],\n",
       "       [-1, -1, -1],\n",
       "       [-1, -1, -1]])"
      ]
     },
     "execution_count": 69,
     "metadata": {},
     "output_type": "execute_result"
    }
   ],
   "source": [
    "ab1 = a4D[:, 0, :, -1];       print(ab1.shape);    cr = pd.DataFrame(ab1);        cr.to_csv (\"ab1.csv\"); ab1   "
   ]
  },
  {
   "cell_type": "code",
   "execution_count": 70,
   "metadata": {},
   "outputs": [
    {
     "name": "stdout",
     "output_type": "stream",
     "text": [
      "(103, 1, 20, 40)\n"
     ]
    }
   ],
   "source": [
    "print(conc.shape) "
   ]
  },
  {
   "cell_type": "code",
   "execution_count": 72,
   "metadata": {},
   "outputs": [
    {
     "name": "stdout",
     "output_type": "stream",
     "text": [
      "(103, 800)\n"
     ]
    }
   ],
   "source": [
    " Cr = conc.reshape(conc.shape[0],  -1);   Cr2 = pd.DataFrame(Cr);      Cr2.to_csv (\"06b1_C(x).csv\") ; print(Cr2.shape)   # 20*40=800"
   ]
  },
  {
   "cell_type": "code",
   "execution_count": 66,
   "metadata": {
    "collapsed": true,
    "jupyter": {
     "outputs_hidden": true,
     "source_hidden": true
    }
   },
   "outputs": [
    {
     "name": "stdout",
     "output_type": "stream",
     "text": [
      "(3, 1, 3, 2)\n"
     ]
    },
    {
     "data": {
      "text/plain": [
       "array([[[[ 1,  2],\n",
       "         [ 3,  4],\n",
       "         [ 5,  6]]],\n",
       "\n",
       "\n",
       "       [[[ 7,  8],\n",
       "         [ 9, 10],\n",
       "         [11, 12]]],\n",
       "\n",
       "\n",
       "       [[[13, 14],\n",
       "         [15, 16],\n",
       "         [17, 18]]]])"
      ]
     },
     "execution_count": 66,
     "metadata": {},
     "output_type": "execute_result"
    }
   ],
   "source": [
    "a4d = np.array([ [  [ [1,2]  ,[3,4]   ,[5,6]   ]  ],         # 2D = array of vectors (rows or columns)   (2 x 4), ... (10, 3)\n",
    "                 [  [ [7,8]  ,[9,10]  ,[11,12] ]  ],         # 3D = array of 2D array \n",
    "                 [  [ [13,14],[15,16] ,[17,18] ]  ] ]) ; print(a4d.shape)  ; a4d "
   ]
  },
  {
   "cell_type": "code",
   "execution_count": 67,
   "metadata": {
    "collapsed": true,
    "jupyter": {
     "outputs_hidden": true,
     "source_hidden": true
    }
   },
   "outputs": [
    {
     "data": {
      "text/plain": [
       "array([[ 2,  4,  6],\n",
       "       [ 8, 10, 12],\n",
       "       [14, 16, 18]])"
      ]
     },
     "execution_count": 67,
     "metadata": {},
     "output_type": "execute_result"
    }
   ],
   "source": [
    "ab2 = a4d[:, 0, :, -1];        cr = pd.DataFrame(ab1);              cr.to_csv (\"ab2.csv\"); ab1   "
   ]
  },
  {
   "cell_type": "code",
   "execution_count": 40,
   "metadata": {
    "collapsed": true,
    "jupyter": {
     "outputs_hidden": true,
     "source_hidden": true
    }
   },
   "outputs": [
    {
     "name": "stdout",
     "output_type": "stream",
     "text": [
      "(1, 3)\n"
     ]
    },
    {
     "data": {
      "text/plain": [
       "array([[ 4., 10., 16.]])"
      ]
     },
     "execution_count": 40,
     "metadata": {},
     "output_type": "execute_result"
    }
   ],
   "source": [
    "ab3 = np.mean([a4d[:, 0, :, -1]], axis=2)  ;              print(ab3.shape) ;  ab3"
   ]
  },
  {
   "cell_type": "code",
   "execution_count": 58,
   "metadata": {},
   "outputs": [],
   "source": [
    "# ab3 = np.mean(ab1, axis=1)  ;                             print(ab3.shape) ;  ab3"
   ]
  },
  {
   "cell_type": "code",
   "execution_count": null,
   "metadata": {},
   "outputs": [],
   "source": []
  }
 ],
 "metadata": {
  "kernelspec": {
   "display_name": "Python 3 (ipykernel)",
   "language": "python",
   "name": "python3"
  },
  "language_info": {
   "codemirror_mode": {
    "name": "ipython",
    "version": 3
   },
   "file_extension": ".py",
   "mimetype": "text/x-python",
   "name": "python",
   "nbconvert_exporter": "python",
   "pygments_lexer": "ipython3",
   "version": "3.12.7"
  }
 },
 "nbformat": 4,
 "nbformat_minor": 4
}
