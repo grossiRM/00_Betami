{
 "cells": [
  {
   "cell_type": "code",
   "execution_count": 22,
   "id": "e1f93aa0-b149-4339-a130-b320d1a64c7c",
   "metadata": {},
   "outputs": [],
   "source": [
    "import os \n",
    "from flopy.utils.gridgen import Gridgen \n",
    "from flopy.utils.gridintersect import GridIntersect\n",
    "import flopy\n",
    "from flopy.discretization import StructuredGrid\n",
    "import numpy as np  \n",
    "from flopy.utils import Raster"
   ]
  },
  {
   "cell_type": "code",
   "execution_count": 12,
   "id": "c51cd817-08fd-4c6c-ae0a-ce7438ba9519",
   "metadata": {},
   "outputs": [],
   "source": [
    "gridgen_exe = 'gridgen.exe' \n",
    "gridgen_ws = os.path.join('.', 'gridgen')\n",
    "if not os.path.exists(gridgen_ws):\n",
    "    os.makedirs(gridgen_ws)\n",
    "\n",
    "Lx, Ly, xul, yul, rot = 4150, 4810, 1516769.1487, 5033577.7911, 14\n",
    "delr = delc = 50\n",
    "nrow, ncol = int(Ly / delc), int(Lx / delr)\n",
    "top  = 1\n",
    "botm = 0\n",
    "ms = flopy.modflow.Modflow(rotation=rot)\n",
    "dis = flopy.modflow.ModflowDis(ms, nlay=1, nrow=nrow, ncol=ncol, delr=delr, delc=delc, top=top, botm=botm, xul=xul, yul=yul) # dis.botm.plot(colorbar=True, grid=True);\n",
    "# g = Gridgen(dis, model_ws=gridgen_ws, exe_name=gridgen_exe)\n",
    "xoffset, yoffset, angrot = 1516769.1487, 5033577.7911, 0\n",
    "modelgrid = StructuredGrid(delr=np.ones(ncol) * delr, delc=np.ones(nrow) * delc, xoff=xoffset, yoff=yoffset, angrot=angrot)"
   ]
  },
  {
   "cell_type": "code",
   "execution_count": 27,
   "id": "439b5952-86ca-4605-bdec-0f7bafdd0c4d",
   "metadata": {},
   "outputs": [],
   "source": [
    "br_surf = Raster.load('Symple_p/07b_DTM_domain.tif')\n",
    "rs0 = br_surf.resample_to_grid(modelgrid, band=1, method='linear')           # resample_to_grid #\n",
    "np.savetxt('Symple_p/34_Test_Topo___.dat', rs0)"
   ]
  },
  {
   "cell_type": "raw",
   "id": "d3d8614e-ea13-430f-83b7-639a14aff7c0",
   "metadata": {},
   "source": [
    "______________________________________________________________________________________________________________________________________________________"
   ]
  },
  {
   "cell_type": "code",
   "execution_count": 26,
   "id": "c0f3aebd-5218-4378-9eeb-5a7eb073545d",
   "metadata": {},
   "outputs": [],
   "source": [
    "br_surf = Raster.load('Symple_p/07b_DTM_domain.tif')\n",
    "br_surf = Raster.load('Symple_p/08_Bott_L1_fix.tif')\n",
    "br_surf = Raster.load('Symple_p/09_Bott_L2_fix.tif')\n",
    "br_surf = Raster.load('Symple_p/10_Bott_L3_fix.tif')\n",
    "br_surf = Raster.load('Symple_p/03_k_field0.tif')\n",
    "br_surf = Raster.load('Symple_p/04_k_field1.tif')\n",
    "br_surf = Raster.load('Symple_p/05_k_field2.tif')\n",
    "rs0 = br_surf.resample_to_grid(modelgrid, band=1, method='linear')           # resample_to_grid #\n",
    "rs1 = br_surf.resample_to_grid(modelgrid, band=1, method='linear')           # resample_to_grid #\n",
    "rs2 = br_surf.resample_to_grid(modelgrid, band=1, method='linear')           # resample_to_grid #\n",
    "rs3 = br_surf.resample_to_grid(modelgrid, band=1, method='linear')           # resample_to_grid #\n",
    "rs4 = br_surf.resample_to_grid(modelgrid, band=1, method='linear')           # resample_to_grid #\n",
    "rs5 = br_surf.resample_to_grid(modelgrid, band=1, method='linear')           # resample_to_grid #\n",
    "rs6 = br_surf.resample_to_grid(modelgrid, band=1, method='linear')           # resample_to_grid #\n",
    "np.savetxt('Symple_p/27_Topo___.dat', rs0)\n",
    "np.savetxt('Symple_p/28_Botm_L1.dat', rs1)\n",
    "np.savetxt('Symple_p/29_Botm_L2.dat', rs2)\n",
    "np.savetxt('Symple_p/30_Botm_L3.dat', rs3)\n",
    "np.savetxt('Symple_p/31_K_01.dat', rs4)\n",
    "np.savetxt('Symple_p/32_K_02.dat', rs5)\n",
    "np.savetxt('Symple_p/33_K_03.dat', rs6)\n"
   ]
  },
  {
   "cell_type": "code",
   "execution_count": null,
   "id": "26c92e97-7f7c-4e89-9ba1-f3e9acc2c89e",
   "metadata": {},
   "outputs": [],
   "source": []
  }
 ],
 "metadata": {
  "kernelspec": {
   "display_name": "Python 3 (ipykernel)",
   "language": "python",
   "name": "python3"
  },
  "language_info": {
   "codemirror_mode": {
    "name": "ipython",
    "version": 3
   },
   "file_extension": ".py",
   "mimetype": "text/x-python",
   "name": "python",
   "nbconvert_exporter": "python",
   "pygments_lexer": "ipython3",
   "version": "3.11.11"
  }
 },
 "nbformat": 4,
 "nbformat_minor": 5
}
