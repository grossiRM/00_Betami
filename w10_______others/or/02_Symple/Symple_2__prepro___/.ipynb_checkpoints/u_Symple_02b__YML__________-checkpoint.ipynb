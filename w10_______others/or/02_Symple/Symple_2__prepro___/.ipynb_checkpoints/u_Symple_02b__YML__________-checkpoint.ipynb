{
 "cells": [
  {
   "cell_type": "code",
   "execution_count": null,
   "id": "a9aa5bcd-16c1-4d0a-b7b8-e694ce957dbe",
   "metadata": {},
   "outputs": [],
   "source": [
    "from platform import python_version  \n",
    "print(python_version())"
   ]
  },
  {
   "cell_type": "code",
   "execution_count": 1,
   "id": "494fccb3-41f5-4150-859f-65425cb028c0",
   "metadata": {
    "jupyter": {
     "source_hidden": true
    }
   },
   "outputs": [],
   "source": [
    "import sys, os\n",
    "sys.path.append('../dependencies/')\n",
    "import mfsetup\n",
    "import flopy as fp\n",
    "import flopy.utils as fu\n",
    "from flopy.utils.gridintersect import GridIntersect\n",
    "import shapefile as sf\n",
    "import pandas as pd\n",
    "import matplotlib.pyplot as plt\n",
    "import numpy as np\n",
    "from pathlib import Path\n",
    "from shapely.geometry import Point, LineString\n",
    "import geopandas as gp\n",
    "datapath = Path('../data/sgn/')# stdir = os.getcwd()"
   ]
  },
  {
   "cell_type": "code",
   "execution_count": 2,
   "id": "2c70f55a-d8dd-4008-9548-c41d53ccecea",
   "metadata": {},
   "outputs": [
    {
     "name": "stdout",
     "output_type": "stream",
     "text": [
      "loading configuration file sgn_config.yml...\n",
      "\n",
      "Setting up sgn_50 model from configuration in sgn_config.yml\n",
      "\n",
      "validating configuration...\n",
      "DIS package\n",
      "done with validation.\n",
      "\n",
      "setting up model grid...\n",
      "wrote E:\\15_REPOS\\d03_Beta-Me\\models\\sgn_mfsetup\\sgn_50_grid.json\n",
      "finished in 0.03s\n",
      "\n",
      "\n",
      "Setting up TDIS package...\n",
      "finished in 0.01s\n",
      "\n",
      "\n",
      "Setting up IMS package...\n",
      "finished in 0.00s\n",
      "\n",
      "\n",
      "Setting up DIS package...\n",
      "reading data from E:\\15_REPOS\\d03_Beta-Me\\02_Symple_______________________\\data\\sgn\\raster\\DTM_domain.tif...\n",
      "finished in 0.05s\n",
      "wrote .\\.\\top.dat, took 0.00s\n",
      "reading data from E:\\15_REPOS\\d03_Beta-Me\\02_Symple_______________________\\data\\sgn\\raster\\Bott_L1_fix.tif...\n",
      "finished in 0.07s\n",
      "reading data from E:\\15_REPOS\\d03_Beta-Me\\02_Symple_______________________\\data\\sgn\\raster\\Bott_L2_fix.tif...\n",
      "finished in 0.05s\n",
      "reading data from E:\\15_REPOS\\d03_Beta-Me\\02_Symple_______________________\\data\\sgn\\raster\\Bott_L3_fix.tif...\n",
      "finished in 0.07s\n",
      "loading .\\.\\top.dat, shape=(96, 83), took 0.01s\n",
      "computing cell thicknesses...\n",
      "finished in 0.22s\n",
      "\n",
      "wrote .\\.\\botm_000.dat, took 0.00s\n",
      "wrote .\\.\\botm_001.dat, took 0.00s\n",
      "wrote .\\.\\botm_002.dat, took 0.00s\n",
      "wrote .\\.\\idomain_000.dat, took 0.00s\n",
      "wrote .\\.\\idomain_001.dat, took 0.00s\n",
      "wrote .\\.\\idomain_002.dat, took 0.00s\n",
      "(re)setting the idomain array...\n",
      "computing cell thicknesses...\n",
      "finished in 0.22s\n",
      "\n",
      "loading .\\.\\top.dat, shape=(96, 83), took 0.01s\n",
      "computing cell thicknesses...\n",
      "finished in 0.22s\n",
      "\n",
      "wrote .\\.\\botm_000.dat, took 0.00s\n",
      "wrote .\\.\\botm_001.dat, took 0.00s\n",
      "wrote .\\.\\botm_002.dat, took 0.00s\n",
      "wrote .\\.\\idomain_000.dat, took 0.00s\n",
      "wrote .\\.\\idomain_001.dat, took 0.00s\n",
      "wrote .\\.\\idomain_002.dat, took 0.00s\n",
      "setting up model grid...\n",
      "wrote E:\\15_REPOS\\d03_Beta-Me\\models\\sgn_mfsetup\\sgn_50_grid.json\n",
      "finished in 0.01s\n",
      "\n",
      "wrote .\\.\\irch.dat, took 0.00s\n",
      "finished in 1.78s\n",
      "\n",
      "\n",
      "Setting up IC package...\n",
      "wrote .\\.\\DTM_domain.tif, took 0.00s\n",
      "wrote .\\.\\DTM_domain.tif, took 0.00s\n",
      "wrote .\\.\\DTM_domain.tif, took 0.00s\n",
      "finished in 0.06s\n",
      "\n",
      "\n",
      "Setting up NPF package...\n",
      "reading data from E:\\15_REPOS\\d03_Beta-Me\\02_Symple_______________________\\data\\sgn\\raster\\k_field0.tif...\n",
      "finished in 0.06s\n",
      "reading data from E:\\15_REPOS\\d03_Beta-Me\\02_Symple_______________________\\data\\sgn\\raster\\k_field1.tif...\n",
      "finished in 0.06s\n",
      "reading data from E:\\15_REPOS\\d03_Beta-Me\\02_Symple_______________________\\data\\sgn\\raster\\k_field2.tif...\n",
      "finished in 0.06s\n",
      "wrote .\\.\\k_000.dat, took 0.01s\n",
      "wrote .\\.\\k_001.dat, took 0.01s\n",
      "wrote .\\.\\k_002.dat, took 0.01s\n",
      "No data were specified for npf package, variable k33\n",
      "finished in 0.23s\n",
      "\n",
      "\n",
      "Setting up RCH package...\n",
      "wrote .\\.\\irch.dat, took 0.00s\n",
      "reading data from E:\\15_REPOS\\d03_Beta-Me\\02_Symple_______________________\\data\\sgn\\raster\\rch.tif...\n",
      "finished in 0.44s\n"
     ]
    },
    {
     "ename": "IndexError",
     "evalue": "index 1 is out of bounds for axis 0 with size 1",
     "output_type": "error",
     "traceback": [
      "\u001b[1;31m---------------------------------------------------------------------------\u001b[0m",
      "\u001b[1;31mIndexError\u001b[0m                                Traceback (most recent call last)",
      "Cell \u001b[1;32mIn[2], line 1\u001b[0m\n\u001b[1;32m----> 1\u001b[0m m \u001b[38;5;241m=\u001b[39m \u001b[43mmfsetup\u001b[49m\u001b[38;5;241;43m.\u001b[39;49m\u001b[43mMF6model\u001b[49m\u001b[38;5;241;43m.\u001b[39;49m\u001b[43msetup_from_yaml\u001b[49m\u001b[43m(\u001b[49m\u001b[38;5;124;43m'\u001b[39;49m\u001b[38;5;124;43msgn_config.yml\u001b[39;49m\u001b[38;5;124;43m'\u001b[39;49m\u001b[43m)\u001b[49m  \u001b[38;5;66;03m# ___________________________________ sgn_mfsetup ___ Folder\u001b[39;00m\n",
      "File \u001b[1;32m~\\anaconda3\\envs\\mfsetup\\Lib\\site-packages\\mfsetup\\mfmodel.py:1808\u001b[0m, in \u001b[0;36mMFsetupMixin.setup_from_yaml\u001b[1;34m(cls, yamlfile, verbose)\u001b[0m\n\u001b[0;32m   1795\u001b[0m \u001b[38;5;250m\u001b[39m\u001b[38;5;124;03m\"\"\"Make a model from scratch, using information in a yamlfile.\u001b[39;00m\n\u001b[0;32m   1796\u001b[0m \n\u001b[0;32m   1797\u001b[0m \u001b[38;5;124;03mParameters\u001b[39;00m\n\u001b[1;32m   (...)\u001b[0m\n\u001b[0;32m   1805\u001b[0m \u001b[38;5;124;03mm : model instance\u001b[39;00m\n\u001b[0;32m   1806\u001b[0m \u001b[38;5;124;03m\"\"\"\u001b[39;00m\n\u001b[0;32m   1807\u001b[0m cfg \u001b[38;5;241m=\u001b[39m \u001b[38;5;28mcls\u001b[39m\u001b[38;5;241m.\u001b[39mload_cfg(yamlfile, verbose\u001b[38;5;241m=\u001b[39mverbose)\n\u001b[1;32m-> 1808\u001b[0m \u001b[38;5;28;01mreturn\u001b[39;00m \u001b[38;5;28;43mcls\u001b[39;49m\u001b[38;5;241;43m.\u001b[39;49m\u001b[43msetup_from_cfg\u001b[49m\u001b[43m(\u001b[49m\u001b[43mcfg\u001b[49m\u001b[43m,\u001b[49m\u001b[43m \u001b[49m\u001b[43mverbose\u001b[49m\u001b[38;5;241;43m=\u001b[39;49m\u001b[43mverbose\u001b[49m\u001b[43m)\u001b[49m\n",
      "File \u001b[1;32m~\\anaconda3\\envs\\mfsetup\\Lib\\site-packages\\mfsetup\\mfmodel.py:1844\u001b[0m, in \u001b[0;36mMFsetupMixin.setup_from_cfg\u001b[1;34m(cls, cfg, verbose)\u001b[0m\n\u001b[0;32m   1841\u001b[0m m\u001b[38;5;241m.\u001b[39msetup_solver()\n\u001b[0;32m   1843\u001b[0m \u001b[38;5;66;03m# set up all of the packages specified in the config file\u001b[39;00m\n\u001b[1;32m-> 1844\u001b[0m \u001b[43mm\u001b[49m\u001b[38;5;241;43m.\u001b[39;49m\u001b[43msetup_packages\u001b[49m\u001b[43m(\u001b[49m\u001b[43mreset_existing\u001b[49m\u001b[38;5;241;43m=\u001b[39;49m\u001b[38;5;28;43;01mFalse\u001b[39;49;00m\u001b[43m)\u001b[49m\n\u001b[0;32m   1846\u001b[0m \u001b[38;5;66;03m# LGR inset model(s)\u001b[39;00m\n\u001b[0;32m   1847\u001b[0m \u001b[38;5;28;01mif\u001b[39;00m m\u001b[38;5;241m.\u001b[39minset \u001b[38;5;129;01mis\u001b[39;00m \u001b[38;5;129;01mnot\u001b[39;00m \u001b[38;5;28;01mNone\u001b[39;00m:\n",
      "File \u001b[1;32m~\\anaconda3\\envs\\mfsetup\\Lib\\site-packages\\mfsetup\\mfmodel.py:1773\u001b[0m, in \u001b[0;36mMFsetupMixin.setup_packages\u001b[1;34m(self, reset_existing)\u001b[0m\n\u001b[0;32m   1771\u001b[0m \u001b[38;5;66;03m# avoid multiple package instances for now, except for obs\u001b[39;00m\n\u001b[0;32m   1772\u001b[0m \u001b[38;5;28;01mif\u001b[39;00m \u001b[38;5;28mself\u001b[39m\u001b[38;5;241m.\u001b[39mversion \u001b[38;5;241m!=\u001b[39m \u001b[38;5;124m'\u001b[39m\u001b[38;5;124mmf6\u001b[39m\u001b[38;5;124m'\u001b[39m \u001b[38;5;129;01mor\u001b[39;00m pkg \u001b[38;5;241m==\u001b[39m \u001b[38;5;124m'\u001b[39m\u001b[38;5;124mobs\u001b[39m\u001b[38;5;124m'\u001b[39m \u001b[38;5;129;01mor\u001b[39;00m \u001b[38;5;129;01mnot\u001b[39;00m \u001b[38;5;28mhasattr\u001b[39m(\u001b[38;5;28mself\u001b[39m, pkg):\n\u001b[1;32m-> 1773\u001b[0m     \u001b[43mpackage_setup\u001b[49m\u001b[43m(\u001b[49m\u001b[38;5;241;43m*\u001b[39;49m\u001b[38;5;241;43m*\u001b[39;49m\u001b[38;5;28;43mself\u001b[39;49m\u001b[38;5;241;43m.\u001b[39;49m\u001b[43mcfg\u001b[49m\u001b[43m[\u001b[49m\u001b[43mpkg\u001b[49m\u001b[43m]\u001b[49m\u001b[43m,\u001b[49m\u001b[43m \u001b[49m\u001b[38;5;241;43m*\u001b[39;49m\u001b[38;5;241;43m*\u001b[39;49m\u001b[38;5;28;43mself\u001b[39;49m\u001b[38;5;241;43m.\u001b[39;49m\u001b[43mcfg\u001b[49m\u001b[43m[\u001b[49m\u001b[43mpkg\u001b[49m\u001b[43m]\u001b[49m\u001b[43m[\u001b[49m\u001b[38;5;124;43m'\u001b[39;49m\u001b[38;5;124;43mmfsetup_options\u001b[39;49m\u001b[38;5;124;43m'\u001b[39;49m\u001b[43m]\u001b[49m\u001b[43m)\u001b[49m\n",
      "File \u001b[1;32m~\\anaconda3\\envs\\mfsetup\\Lib\\site-packages\\mfsetup\\mf6model.py:696\u001b[0m, in \u001b[0;36mMF6model.setup_rch\u001b[1;34m(self, **kwargs)\u001b[0m\n\u001b[0;32m    690\u001b[0m \u001b[38;5;28mself\u001b[39m\u001b[38;5;241m.\u001b[39m_setup_array(\u001b[38;5;124m'\u001b[39m\u001b[38;5;124mrch\u001b[39m\u001b[38;5;124m'\u001b[39m, \u001b[38;5;124m'\u001b[39m\u001b[38;5;124mirch\u001b[39m\u001b[38;5;124m'\u001b[39m,\n\u001b[0;32m    691\u001b[0m                   data\u001b[38;5;241m=\u001b[39m{\u001b[38;5;241m0\u001b[39m: irch},\n\u001b[0;32m    692\u001b[0m                   datatype\u001b[38;5;241m=\u001b[39m\u001b[38;5;124m'\u001b[39m\u001b[38;5;124marray2d\u001b[39m\u001b[38;5;124m'\u001b[39m,\n\u001b[0;32m    693\u001b[0m                   write_fmt\u001b[38;5;241m=\u001b[39m\u001b[38;5;124m'\u001b[39m\u001b[38;5;132;01m%d\u001b[39;00m\u001b[38;5;124m'\u001b[39m, dtype\u001b[38;5;241m=\u001b[39m\u001b[38;5;28mint\u001b[39m)\n\u001b[0;32m    695\u001b[0m \u001b[38;5;66;03m# make the rech array\u001b[39;00m\n\u001b[1;32m--> 696\u001b[0m \u001b[38;5;28;43mself\u001b[39;49m\u001b[38;5;241;43m.\u001b[39;49m\u001b[43m_setup_array\u001b[49m\u001b[43m(\u001b[49m\u001b[43mpackage\u001b[49m\u001b[43m,\u001b[49m\u001b[43m \u001b[49m\u001b[38;5;124;43m'\u001b[39;49m\u001b[38;5;124;43mrecharge\u001b[39;49m\u001b[38;5;124;43m'\u001b[39;49m\u001b[43m,\u001b[49m\u001b[43m \u001b[49m\u001b[43mdatatype\u001b[49m\u001b[38;5;241;43m=\u001b[39;49m\u001b[38;5;124;43m'\u001b[39;49m\u001b[38;5;124;43mtransient2d\u001b[39;49m\u001b[38;5;124;43m'\u001b[39;49m\u001b[43m,\u001b[49m\n\u001b[0;32m    697\u001b[0m \u001b[43m                  \u001b[49m\u001b[43mresample_method\u001b[49m\u001b[38;5;241;43m=\u001b[39;49m\u001b[38;5;124;43m'\u001b[39;49m\u001b[38;5;124;43mnearest\u001b[39;49m\u001b[38;5;124;43m'\u001b[39;49m\u001b[43m,\u001b[49m\u001b[43m \u001b[49m\u001b[43mwrite_fmt\u001b[49m\u001b[38;5;241;43m=\u001b[39;49m\u001b[38;5;124;43m'\u001b[39;49m\u001b[38;5;132;43;01m%.6e\u001b[39;49;00m\u001b[38;5;124;43m'\u001b[39;49m\u001b[43m,\u001b[49m\n\u001b[0;32m    698\u001b[0m \u001b[43m                  \u001b[49m\u001b[43mwrite_nodata\u001b[49m\u001b[38;5;241;43m=\u001b[39;49m\u001b[38;5;241;43m0.\u001b[39;49m\u001b[43m)\u001b[49m\n\u001b[0;32m    700\u001b[0m kwargs \u001b[38;5;241m=\u001b[39m \u001b[38;5;28mself\u001b[39m\u001b[38;5;241m.\u001b[39mcfg[package]\u001b[38;5;241m.\u001b[39mcopy()\n\u001b[0;32m    701\u001b[0m kwargs\u001b[38;5;241m.\u001b[39mupdate(\u001b[38;5;28mself\u001b[39m\u001b[38;5;241m.\u001b[39mcfg[package][\u001b[38;5;124m'\u001b[39m\u001b[38;5;124moptions\u001b[39m\u001b[38;5;124m'\u001b[39m])\n",
      "File \u001b[1;32m~\\anaconda3\\envs\\mfsetup\\Lib\\site-packages\\mfsetup\\mfmodel.py:1251\u001b[0m, in \u001b[0;36mMFsetupMixin._setup_array\u001b[1;34m(self, package, var, vmin, vmax, source_model, source_package, **kwargs)\u001b[0m\n\u001b[0;32m   1248\u001b[0m \u001b[38;5;28;01mdef\u001b[39;00m\u001b[38;5;250m \u001b[39m\u001b[38;5;21m_setup_array\u001b[39m(\u001b[38;5;28mself\u001b[39m, package, var, vmin\u001b[38;5;241m=\u001b[39m\u001b[38;5;241m-\u001b[39m\u001b[38;5;241m1e30\u001b[39m, vmax\u001b[38;5;241m=\u001b[39m\u001b[38;5;241m1e30\u001b[39m,\n\u001b[0;32m   1249\u001b[0m                   source_model\u001b[38;5;241m=\u001b[39m\u001b[38;5;28;01mNone\u001b[39;00m, source_package\u001b[38;5;241m=\u001b[39m\u001b[38;5;28;01mNone\u001b[39;00m,\n\u001b[0;32m   1250\u001b[0m                   \u001b[38;5;241m*\u001b[39m\u001b[38;5;241m*\u001b[39mkwargs):\n\u001b[1;32m-> 1251\u001b[0m     \u001b[38;5;28;01mreturn\u001b[39;00m \u001b[43msetup_array\u001b[49m\u001b[43m(\u001b[49m\u001b[38;5;28;43mself\u001b[39;49m\u001b[43m,\u001b[49m\u001b[43m \u001b[49m\u001b[43mpackage\u001b[49m\u001b[43m,\u001b[49m\u001b[43m \u001b[49m\u001b[43mvar\u001b[49m\u001b[43m,\u001b[49m\u001b[43m \u001b[49m\u001b[43mvmin\u001b[49m\u001b[38;5;241;43m=\u001b[39;49m\u001b[43mvmin\u001b[49m\u001b[43m,\u001b[49m\u001b[43m \u001b[49m\u001b[43mvmax\u001b[49m\u001b[38;5;241;43m=\u001b[39;49m\u001b[43mvmax\u001b[49m\u001b[43m,\u001b[49m\n\u001b[0;32m   1252\u001b[0m \u001b[43m                       \u001b[49m\u001b[43msource_model\u001b[49m\u001b[38;5;241;43m=\u001b[39;49m\u001b[43msource_model\u001b[49m\u001b[43m,\u001b[49m\u001b[43m \u001b[49m\u001b[43msource_package\u001b[49m\u001b[38;5;241;43m=\u001b[39;49m\u001b[43msource_package\u001b[49m\u001b[43m,\u001b[49m\n\u001b[0;32m   1253\u001b[0m \u001b[43m                       \u001b[49m\u001b[38;5;241;43m*\u001b[39;49m\u001b[38;5;241;43m*\u001b[39;49m\u001b[43mkwargs\u001b[49m\u001b[43m)\u001b[49m\n",
      "File \u001b[1;32m~\\anaconda3\\envs\\mfsetup\\Lib\\site-packages\\mfsetup\\sourcedata.py:1379\u001b[0m, in \u001b[0;36msetup_array\u001b[1;34m(model, package, var, data, vmin, vmax, datatype, source_model, source_package, write_fmt, write_nodata, **kwargs)\u001b[0m\n\u001b[0;32m   1376\u001b[0m     \u001b[38;5;28mprint\u001b[39m(\u001b[38;5;124m'\u001b[39m\u001b[38;5;124mNo data were specified for \u001b[39m\u001b[38;5;132;01m{}\u001b[39;00m\u001b[38;5;124m package, variable \u001b[39m\u001b[38;5;132;01m{}\u001b[39;00m\u001b[38;5;124m'\u001b[39m\u001b[38;5;241m.\u001b[39mformat(package, var))\n\u001b[0;32m   1377\u001b[0m     \u001b[38;5;28;01mreturn\u001b[39;00m\n\u001b[1;32m-> 1379\u001b[0m data \u001b[38;5;241m=\u001b[39m \u001b[43msd\u001b[49m\u001b[38;5;241;43m.\u001b[39;49m\u001b[43mget_data\u001b[49m\u001b[43m(\u001b[49m\u001b[43m)\u001b[49m\n\u001b[0;32m   1381\u001b[0m \u001b[38;5;66;03m# special handling of some variables\u001b[39;00m\n\u001b[0;32m   1382\u001b[0m \u001b[38;5;66;03m# (for lakes)\u001b[39;00m\n\u001b[0;32m   1383\u001b[0m simulate_high_k_lakes \u001b[38;5;241m=\u001b[39m model\u001b[38;5;241m.\u001b[39mcfg[\u001b[38;5;124m'\u001b[39m\u001b[38;5;124mhigh_k_lakes\u001b[39m\u001b[38;5;124m'\u001b[39m][\u001b[38;5;124m'\u001b[39m\u001b[38;5;124msimulate_high_k_lakes\u001b[39m\u001b[38;5;124m'\u001b[39m]\n",
      "File \u001b[1;32m~\\anaconda3\\envs\\mfsetup\\Lib\\site-packages\\mfsetup\\sourcedata.py:622\u001b[0m, in \u001b[0;36mTransientArraySourceData.get_data\u001b[1;34m(self)\u001b[0m\n\u001b[0;32m    620\u001b[0m results \u001b[38;5;241m=\u001b[39m {}\n\u001b[0;32m    621\u001b[0m \u001b[38;5;28;01mfor\u001b[39;00m dest_kper, source_kper \u001b[38;5;129;01min\u001b[39;00m \u001b[38;5;28mself\u001b[39m\u001b[38;5;241m.\u001b[39mstress_period_mapping\u001b[38;5;241m.\u001b[39mitems():\n\u001b[1;32m--> 622\u001b[0m     data \u001b[38;5;241m=\u001b[39m \u001b[43msource_data\u001b[49m\u001b[43m[\u001b[49m\u001b[43msource_kper\u001b[49m\u001b[43m]\u001b[49m\u001b[38;5;241m.\u001b[39mcopy()\n\u001b[0;32m    623\u001b[0m     \u001b[38;5;28;01mif\u001b[39;00m regrid:\n\u001b[0;32m    624\u001b[0m         \u001b[38;5;66;03m# sample the data onto the model grid\u001b[39;00m\n\u001b[0;32m    625\u001b[0m         resampled \u001b[38;5;241m=\u001b[39m \u001b[38;5;28mself\u001b[39m\u001b[38;5;241m.\u001b[39mregrid_from_source_model(data, method\u001b[38;5;241m=\u001b[39m\u001b[38;5;28mself\u001b[39m\u001b[38;5;241m.\u001b[39mresample_method)\n",
      "\u001b[1;31mIndexError\u001b[0m: index 1 is out of bounds for axis 0 with size 1"
     ]
    }
   ],
   "source": [
    "m = mfsetup.MF6model.setup_from_yaml('sgn_config.yml')  # ___________________________________ sgn_mfsetup ___ Folder"
   ]
  },
  {
   "cell_type": "code",
   "execution_count": null,
   "id": "8ce8c061",
   "metadata": {},
   "outputs": [],
   "source": [
    "m"
   ]
  },
  {
   "cell_type": "code",
   "execution_count": null,
   "id": "2f85d9d5",
   "metadata": {},
   "outputs": [],
   "source": [
    "m.write_input()"
   ]
  },
  {
   "cell_type": "markdown",
   "id": "1f6231e1",
   "metadata": {},
   "source": [
    "set up an intersection object"
   ]
  },
  {
   "cell_type": "code",
   "execution_count": null,
   "id": "06c36717",
   "metadata": {},
   "outputs": [],
   "source": [
    "ix = GridIntersect(m.modelgrid)"
   ]
  },
  {
   "cell_type": "markdown",
   "id": "420d6942",
   "metadata": {},
   "source": [
    "need to add a GHB package - manually for now"
   ]
  },
  {
   "cell_type": "code",
   "execution_count": null,
   "id": "74784609",
   "metadata": {},
   "outputs": [],
   "source": [
    "# read in the boundary polygon\n",
    "boundary = gp.read_file(datapath / 'shp' / 'Model_domain.shp')\n",
    "\n",
    "# create a polyline from the polygon\n",
    "boundary_line =  LineString([Point(i) for i in boundary.iloc[0].geometry.exterior.coords])\n",
    "boundary_line\n",
    "\n",
    "# instersect the bounding polygon with the grid to get boundary cells\n",
    "ix_boundary = ix.intersect(boundary_line.buffer(25, resolution=4))"
   ]
  },
  {
   "cell_type": "code",
   "execution_count": null,
   "id": "433def84",
   "metadata": {},
   "outputs": [],
   "source": [
    "ix_df = pd.DataFrame.from_records(ix_boundary)\n",
    "ix_df.head()"
   ]
  },
  {
   "cell_type": "code",
   "execution_count": null,
   "id": "38616ea9",
   "metadata": {},
   "outputs": [],
   "source": [
    "# read in the september 2019 measured heads to make the GHB data\n",
    "sep19_head = fu.Raster.load(datapath / 'raster' / 'heads_sep2019.asc')\n",
    "plt.imshow(sep19_head.get_array(1))\n",
    "plt.colorbar()"
   ]
  },
  {
   "cell_type": "code",
   "execution_count": null,
   "id": "113499a4",
   "metadata": {},
   "outputs": [],
   "source": [
    "# resample these heads to the model\n",
    "head = sep19_head.resample_to_grid(m.modelgrid,band=sep19_head.bands[0], method=\"nearest\")"
   ]
  },
  {
   "cell_type": "code",
   "execution_count": null,
   "id": "a7f0101f",
   "metadata": {},
   "outputs": [],
   "source": [
    "# make the GHB stress period data\n",
    "ghb_spd = []\n",
    "for icpl in ix_boundary.cellids:\n",
    "    cond = 100.0\n",
    "    for layer in [0,2]:\n",
    "        # note - structured grid so *icpl unpacks row/col\n",
    "        ghb_spd.append([(layer, *icpl), head[icpl], cond, f'GHB{layer+1}'])\n",
    "ghb_spd"
   ]
  },
  {
   "cell_type": "code",
   "execution_count": null,
   "id": "77e9d192",
   "metadata": {},
   "outputs": [],
   "source": [
    "# create the package and add it to the model object\n",
    "ghb = fp.mf6.ModflowGwfghb(model=m, \n",
    "                                stress_period_data=ghb_spd, \n",
    "                                boundnames=True) "
   ]
  },
  {
   "cell_type": "markdown",
   "id": "73561332",
   "metadata": {},
   "source": [
    "## also need to add potentially flowing multi-aquifer wells manually for now "
   ]
  },
  {
   "cell_type": "code",
   "execution_count": null,
   "id": "0b308848",
   "metadata": {},
   "outputs": [],
   "source": [
    "# read in the zero-q wells\n",
    "maw_wells = pd.read_csv(datapath / 'wells_zero.csv', index_col = 0)\n",
    "maw_wells.head()"
   ]
  },
  {
   "cell_type": "markdown",
   "id": "5de52dcf",
   "metadata": {},
   "source": [
    "### reset the index for MAW wells to be sequential only among the remaining wells"
   ]
  },
  {
   "cell_type": "code",
   "execution_count": null,
   "id": "e84f7730",
   "metadata": {},
   "outputs": [],
   "source": [
    "# get the row/column location for each well\n",
    "maw_wells['cellid']=[ix.intersect(Point(x,y))[0][0] \n",
    "                     for x,y in zip(maw_wells.x,maw_wells.y)]\n",
    "maw_wells.head()"
   ]
  },
  {
   "cell_type": "code",
   "execution_count": null,
   "id": "ff980116",
   "metadata": {},
   "outputs": [],
   "source": [
    "# also get the top, bottom, and starting head of each cell containing a well\n",
    "maw_wells['top'] = [m.dis.top.array[r,c] for r,c in maw_wells.cellid]\n",
    "maw_wells['bot'] = [m.dis.botm.array[-1,r,c] for r,c in maw_wells.cellid]\n",
    "maw_wells['strt'] = [m.ic.strt.array[0,r,c] for r,c in maw_wells.cellid]\n"
   ]
  },
  {
   "cell_type": "markdown",
   "id": "f6de5882",
   "metadata": {},
   "source": [
    "## now make the package data\n",
    "## this takes the following format\n",
    "`packagedata : [wellno, radius, bottom, strt, condeqn, ngwfnodes, aux,  boundname]`\n",
    "where:\n",
    "* `wellno` is just a sequential number used later to identify the wells\n",
    "* `radius` is the radius in model units (assuming 10cm for now)\n",
    "* `bottom` is the bottom elevation of the well\n",
    "    * note: for `bottom` we are setting the wells to span the entire aquifer\n",
    "* `strt` is the starting head for the well (using the model starting head)\n",
    "* `condeq` is how conductance is calculated (we will use THIEM)\n",
    "* `ngwfnodes` is the number of nodes the well will be connected to. In our case, this is 3 - one for each layer that the cell is in\n",
    "* `aux` is the number of auxiliary values - we will have 0\n",
    "* `boundname` is a name for the well. We will use the name from the original data"
   ]
  },
  {
   "cell_type": "code",
   "execution_count": null,
   "id": "bd9befc4",
   "metadata": {},
   "outputs": [],
   "source": [
    "maw_radius = 0.1"
   ]
  },
  {
   "cell_type": "code",
   "execution_count": null,
   "id": "a023350d",
   "metadata": {},
   "outputs": [],
   "source": [
    "maw_packagedata = []\n",
    "for wellno,cwell in maw_wells.iterrows():\n",
    "    maw_packagedata.append([\n",
    "        wellno, maw_radius, cwell.bot, cwell.strt, 'THIEM', 3\n",
    "    ])"
   ]
  },
  {
   "cell_type": "code",
   "execution_count": null,
   "id": "dacce4a0",
   "metadata": {},
   "outputs": [],
   "source": [
    "maw_packagedata"
   ]
  },
  {
   "cell_type": "markdown",
   "id": "ebbc2292",
   "metadata": {},
   "source": [
    "## now we need to set up the connection data\n",
    "## this take the following format\n",
    "`connectiondata : [wellno, icon, cellid, scrn_top, scrn_bot, hk_skin, radius_skin]`\n",
    "where:\n",
    "* `wellno` is the well number, as defined above\n",
    "* `icon` is the number of connections (3 in our case)\n",
    "* `cellid` is 3 integers indicating layer, row, and column\n",
    "* `scrn_top` is the top of the screen (the top of the model in our case)\n",
    "* `scrn_bot` is the bottom of the screen (the bottom of the model in our case)\n",
    "    * note: the previous elevations are ignored when THIEM is used to calculate conductance as MODFLOW6 uses the top and bottom of the cell automagically\n",
    "* `hk_skin` and `radius_skin` are also ignored when THIEM is used to calculate conductance\n"
   ]
  },
  {
   "cell_type": "code",
   "execution_count": null,
   "id": "51310519",
   "metadata": {},
   "outputs": [],
   "source": [
    "maw_connections = []\n",
    "for wellno,cwell in maw_wells.iterrows():\n",
    "    for clay in range(3):\n",
    "        maw_connections.append([\n",
    "            wellno, clay, clay, cwell.cellid[0], cwell.cellid[1], cwell.top, cwell.bot, -999, -999\n",
    "        ])\n"
   ]
  },
  {
   "cell_type": "code",
   "execution_count": null,
   "id": "b700adb4",
   "metadata": {},
   "outputs": [],
   "source": [
    "maw_connections"
   ]
  },
  {
   "cell_type": "code",
   "execution_count": null,
   "id": "5c45931d",
   "metadata": {},
   "outputs": [],
   "source": [
    "# explicitly set all pumping rates to 0\n",
    "maw_spd = [[i, 'rate', 0] for i in range(len(maw_wells))]"
   ]
  },
  {
   "cell_type": "markdown",
   "id": "cc85cf68",
   "metadata": {},
   "source": [
    "### now set the MAW package into the model if requested"
   ]
  },
  {
   "cell_type": "code",
   "execution_count": null,
   "id": "22b675a9",
   "metadata": {},
   "outputs": [],
   "source": [
    "include_MAW = True"
   ]
  },
  {
   "cell_type": "code",
   "execution_count": null,
   "id": "8dba3392",
   "metadata": {},
   "outputs": [],
   "source": [
    "if include_MAW:\n",
    "    maw = fp.mf6.ModflowGwfmaw(\n",
    "            model=m,\n",
    "            no_well_storage=True,\n",
    "            nmawwells=len(maw_wells),\n",
    "            packagedata=maw_packagedata,\n",
    "            connectiondata=maw_connections,\n",
    "            perioddata=maw_spd,\n",
    "        )\n",
    "    # set up some observations\n",
    "    obs_file = f\"{m.name}.maw.obs\"\n",
    "    csv_file = f\"{obs_file}.csv\"\n",
    "    head_obs =  [['head','head', i+1] for i in range(len(maw_wells))]\n",
    "    Qobs = []\n",
    "    for i in range(len(maw_wells)):\n",
    "        Qobs.extend([[f'Q.{i}_lay{j}', 'maw', i+1, j+1 ] for j in range(3)])\n",
    "    obs_dict = {\n",
    "        csv_file: \n",
    "        head_obs + Qobs\n",
    "    }\n",
    "    maw.obs.initialize(filename = obs_file, digits  = 8, print_input=True, continuous=obs_dict)"
   ]
  },
  {
   "cell_type": "code",
   "execution_count": null,
   "id": "37dcb490",
   "metadata": {},
   "outputs": [],
   "source": [
    "m.write_input()"
   ]
  },
  {
   "cell_type": "code",
   "execution_count": null,
   "id": "c6741479",
   "metadata": {},
   "outputs": [],
   "source": [
    "m.name"
   ]
  },
  {
   "cell_type": "code",
   "execution_count": null,
   "id": "ea8eba2b",
   "metadata": {},
   "outputs": [],
   "source": [
    "m.dis.export('testgrid.shp')"
   ]
  },
  {
   "cell_type": "markdown",
   "id": "d22d8bb0",
   "metadata": {},
   "source": [
    "## quick hack on IMS to turn off PTC"
   ]
  },
  {
   "cell_type": "code",
   "execution_count": null,
   "id": "93c68454",
   "metadata": {},
   "outputs": [],
   "source": [
    "ims = [i.rstrip() for i in open('../../models/sgn_mfsetup/sgn_50_sim.ims').readlines()]\n",
    "ims"
   ]
  },
  {
   "cell_type": "code",
   "execution_count": null,
   "id": "b0554837",
   "metadata": {},
   "outputs": [],
   "source": [
    "with open('../../models/sgn_mfsetup/sgn_50_sim.ims', 'w') as ofp:\n",
    "    [ofp.write(\"{}\\n\".format(\n",
    "        line.replace('END options', '  NO_PTC ALL\\nEND options'))) for line in ims]"
   ]
  },
  {
   "cell_type": "code",
   "execution_count": null,
   "id": "33bd5d04",
   "metadata": {},
   "outputs": [],
   "source": [
    "m.simulation.run_simulation()"
   ]
  },
  {
   "cell_type": "code",
   "execution_count": null,
   "id": "05d6aa79",
   "metadata": {},
   "outputs": [],
   "source": [
    "top = m.dis.top.array"
   ]
  },
  {
   "cell_type": "code",
   "execution_count": null,
   "id": "dddcf740",
   "metadata": {},
   "outputs": [],
   "source": [
    "plt.imshow(top)"
   ]
  },
  {
   "cell_type": "code",
   "execution_count": null,
   "id": "d2d29541",
   "metadata": {},
   "outputs": [],
   "source": [
    "h = fu.binaryfile.HeadFile('../../models/sgn_mfsetup/sgn_50.hds').get_alldata()"
   ]
  },
  {
   "cell_type": "code",
   "execution_count": null,
   "id": "9f019e26",
   "metadata": {},
   "outputs": [],
   "source": [
    "h.shape"
   ]
  },
  {
   "cell_type": "code",
   "execution_count": null,
   "id": "90faeb30",
   "metadata": {},
   "outputs": [],
   "source": [
    "plt.imshow(np.squeeze(h)[0][0])\n",
    "plt.colorbar()"
   ]
  },
  {
   "cell_type": "code",
   "execution_count": null,
   "id": "6a5c5822",
   "metadata": {},
   "outputs": [],
   "source": [
    "plt.imshow(np.squeeze(h)[1][0])\n",
    "plt.colorbar()"
   ]
  },
  {
   "cell_type": "markdown",
   "id": "00986cde",
   "metadata": {},
   "source": [
    "### make sure the barrier well shows up in the second stress period"
   ]
  },
  {
   "cell_type": "code",
   "execution_count": null,
   "id": "368af558",
   "metadata": {},
   "outputs": [],
   "source": [
    "plt.imshow(np.squeeze(h)[1][0]-np.squeeze(h)[0][0])\n",
    "plt.colorbar()"
   ]
  },
  {
   "cell_type": "markdown",
   "id": "c4fedc40",
   "metadata": {},
   "source": [
    "### check flooding"
   ]
  },
  {
   "cell_type": "code",
   "execution_count": null,
   "id": "935d533d",
   "metadata": {},
   "outputs": [],
   "source": [
    "flooded = top-np.squeeze(h)[0][0]\n",
    "plt.imshow(flooded)\n",
    "plt.colorbar()"
   ]
  },
  {
   "cell_type": "code",
   "execution_count": null,
   "id": "8788850c",
   "metadata": {},
   "outputs": [],
   "source": [
    "flooded[flooded>0] = np.nan\n",
    "plt.imshow(flooded)\n",
    "plt.colorbar()"
   ]
  },
  {
   "cell_type": "code",
   "execution_count": null,
   "id": "f4cc1582",
   "metadata": {},
   "outputs": [],
   "source": [
    "df1,df2 = fu.Mf6ListBudget('../../models/sgn_mfsetup/sgn_50.list').get_dataframes(\n",
    "    start_datetime='2020-12-31')"
   ]
  },
  {
   "cell_type": "code",
   "execution_count": null,
   "id": "8b68b919",
   "metadata": {},
   "outputs": [],
   "source": [
    "df1"
   ]
  },
  {
   "cell_type": "code",
   "execution_count": null,
   "id": "d592657b",
   "metadata": {},
   "outputs": [],
   "source": [
    "df2"
   ]
  },
  {
   "cell_type": "markdown",
   "id": "eea3a63d",
   "metadata": {},
   "source": [
    "## check out the MAW obs"
   ]
  },
  {
   "cell_type": "code",
   "execution_count": null,
   "id": "eb61771b",
   "metadata": {},
   "outputs": [],
   "source": [
    "if include_MAW:\n",
    "    maw_df = pd.read_csv('../../models/sgn_mfsetup/sgn_50.maw.obs.csv', index_col=0)"
   ]
  },
  {
   "cell_type": "code",
   "execution_count": null,
   "id": "ae12702c",
   "metadata": {},
   "outputs": [],
   "source": [
    "maw_df"
   ]
  },
  {
   "cell_type": "code",
   "execution_count": null,
   "id": "4531b653",
   "metadata": {},
   "outputs": [],
   "source": []
  }
 ],
 "metadata": {
  "kernelspec": {
   "display_name": "mfsetup",
   "language": "python",
   "name": "mfsetup"
  },
  "language_info": {
   "codemirror_mode": {
    "name": "ipython",
    "version": 3
   },
   "file_extension": ".py",
   "mimetype": "text/x-python",
   "name": "python",
   "nbconvert_exporter": "python",
   "pygments_lexer": "ipython3",
   "version": "3.13.1"
  }
 },
 "nbformat": 4,
 "nbformat_minor": 5
}
