{
 "cells": [
  {
   "cell_type": "markdown",
   "id": "a31ef962-3848-406d-b382-606812ca003e",
   "metadata": {},
   "source": [
    "## **Task 02 _________ Shapes Layers, 1, 2, 3**"
   ]
  },
  {
   "cell_type": "code",
   "execution_count": 36,
   "id": "e1f93aa0-b149-4339-a130-b320d1a64c7c",
   "metadata": {},
   "outputs": [],
   "source": [
    "import os \n",
    "import flopy\n",
    "from flopy.discretization import StructuredGrid\n",
    "from flopy.utils.gridintersect import GridIntersect\n",
    "\n",
    "import numpy as np  \n",
    "from flopy.utils import Raster\n",
    "import flopy.mf6 as mf6\n",
    "import matplotlib.pyplot as plt"
   ]
  },
  {
   "cell_type": "code",
   "execution_count": 52,
   "id": "c51cd817-08fd-4c6c-ae0a-ce7438ba9519",
   "metadata": {},
   "outputs": [],
   "source": [
    "if not os.path.exists(gridgen_ws):\n",
    "    os.makedirs(gridgen_ws)\n",
    "delr = delc = 200  # _____________ 50\n",
    "Lx, Ly, top, botm, nlay,       nrow, ncol = 4150, 4810, 1, 0, 3,           int(Ly / delc), int(Lx / delr)\n",
    "xorigin, yorigin,  angrot   = 1516769.1487, 5033577.7911, 14\n",
    "epsg = 3003\n",
    "units = \"METERS\""
   ]
  },
  {
   "cell_type": "code",
   "execution_count": 38,
   "id": "439b5952-86ca-4605-bdec-0f7bafdd0c4d",
   "metadata": {},
   "outputs": [],
   "source": [
    "xoffset, yoffset, angrot = 1516769.1487, 5033577.7911, 14\n",
    "modelgrid = StructuredGrid(delr=np.ones(ncol) * delr, delc=np.ones(nrow) * delc, xoff=xoffset, yoff=yoffset, angrot=angrot) # modelgrid.plot()"
   ]
  },
  {
   "cell_type": "code",
   "execution_count": 54,
   "id": "c2c922c3-125e-48bb-9e45-5dead0e33b42",
   "metadata": {},
   "outputs": [
    {
     "name": "stdout",
     "output_type": "stream",
     "text": [
      "Then: xll:1516769.1487; yll:5033577.7911; rotation:14; crs:EPSG:3003; units:undefined; lenuni:0\n",
      "\n"
     ]
    }
   ],
   "source": [
    "modelgrid.set_coord_info(crs=epsg)\n",
    "print(f\"Then: {modelgrid}\\n\")"
   ]
  },
  {
   "cell_type": "code",
   "execution_count": 45,
   "id": "83bbce6e-d4c6-4fdc-b510-77579f61a936",
   "metadata": {},
   "outputs": [
    {
     "name": "stdout",
     "output_type": "stream",
     "text": [
      "EPSG:3003\n"
     ]
    }
   ],
   "source": [
    "a01_top = Raster.load('Symple_p/07b_DTM_domain.tif')\n",
    "cur_crs = a01_top.crs\n",
    "print(cur_crs)  # print(a01_top.transform)"
   ]
  },
  {
   "cell_type": "raw",
   "id": "d3d8614e-ea13-430f-83b7-639a14aff7c0",
   "metadata": {},
   "source": [
    "___________________________________________________________________________________________________________________________________________________"
   ]
  },
  {
   "cell_type": "code",
   "execution_count": 51,
   "id": "2b081963-ab26-4a38-862a-cfc2d7b064a4",
   "metadata": {},
   "outputs": [],
   "source": [
    "rs0 = a01_top.resample_to_grid(modelgrid, band=1, method='linear')          \n",
    "np.savetxt('Symple_p/34_Test_Topo________________________.dat', rs0) "
   ]
  },
  {
   "cell_type": "raw",
   "id": "6cfe1a33-41c5-4a5d-ad74-70bc5ad21b61",
   "metadata": {},
   "source": [
    "with open('Symple_p/GMS_001_L0.txt','r') as f:\n",
    "    r = f.read()\n",
    "with open('Symple_p/GMS_001_L0.dat','w') as f:\n",
    "    f.write(r)"
   ]
  },
  {
   "cell_type": "code",
   "execution_count": null,
   "id": "86f0d258-6b09-4f32-9048-5bdd8a683932",
   "metadata": {},
   "outputs": [],
   "source": [
    "Resultado medíocre"
   ]
  },
  {
   "cell_type": "raw",
   "id": "cb3bc322-79dc-43d3-8d2d-f8a0b634d65e",
   "metadata": {},
   "source": [
    "br_surf = Raster.load('Symple_p/07b_DTM_domain.tif')\n",
    "br_surf = Raster.load('Symple_p/08_Bott_L1_fix.tif')\n",
    "br_surf = Raster.load('Symple_p/09_Bott_L2_fix.tif')\n",
    "br_surf = Raster.load('Symple_p/10_Bott_L3_fix.tif')\n",
    "br_surf = Raster.load('Symple_p/03_k_field0.tif')\n",
    "br_surf = Raster.load('Symple_p/04_k_field1.tif')\n",
    "br_surf = Raster.load('Symple_p/05_k_field2.tif')\n",
    "rs0 = br_surf.resample_to_grid(modelgrid, band=1, method='linear')           # resample_to_grid #\n",
    "rs1 = br_surf.resample_to_grid(modelgrid, band=1, method='linear')           # resample_to_grid #\n",
    "rs2 = br_surf.resample_to_grid(modelgrid, band=1, method='linear')           # resample_to_grid #\n",
    "rs3 = br_surf.resample_to_grid(modelgrid, band=1, method='linear')           # resample_to_grid #\n",
    "rs4 = br_surf.resample_to_grid(modelgrid, band=1, method='linear')           # resample_to_grid #\n",
    "rs5 = br_surf.resample_to_grid(modelgrid, band=1, method='linear')           # resample_to_grid #\n",
    "rs6 = br_surf.resample_to_grid(modelgrid, band=1, method='linear')           # resample_to_grid #\n",
    "np.savetxt('Symple_p/27_Topo___.dat', rs0)\n",
    "np.savetxt('Symple_p/28_Botm_L1.dat', rs1)\n",
    "np.savetxt('Symple_p/29_Botm_L2.dat', rs2)\n",
    "np.savetxt('Symple_p/30_Botm_L3.dat', rs3)\n",
    "np.savetxt('Symple_p/31_K_01.dat', rs4)\n",
    "np.savetxt('Symple_p/32_K_02.dat', rs5)\n",
    "np.savetxt('Symple_p/33_K_03.dat', rs6)"
   ]
  },
  {
   "cell_type": "code",
   "execution_count": null,
   "id": "26c92e97-7f7c-4e89-9ba1-f3e9acc2c89e",
   "metadata": {},
   "outputs": [],
   "source": []
  }
 ],
 "metadata": {
  "kernelspec": {
   "display_name": "Python 3 (ipykernel)",
   "language": "python",
   "name": "python3"
  },
  "language_info": {
   "codemirror_mode": {
    "name": "ipython",
    "version": 3
   },
   "file_extension": ".py",
   "mimetype": "text/x-python",
   "name": "python",
   "nbconvert_exporter": "python",
   "pygments_lexer": "ipython3",
   "version": "3.11.11"
  }
 },
 "nbformat": 4,
 "nbformat_minor": 5
}
