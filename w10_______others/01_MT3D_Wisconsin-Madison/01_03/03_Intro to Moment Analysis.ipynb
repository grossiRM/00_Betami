{
 "cells": [
  {
   "cell_type": "code",
   "execution_count": 1,
   "metadata": {},
   "outputs": [],
   "source": [
    "import numpy as np ; import pandas as pd ; import matplotlib.pyplot as plt"
   ]
  },
  {
   "cell_type": "code",
   "execution_count": 2,
   "metadata": {},
   "outputs": [],
   "source": [
    "x = np.linspace(1, 20, num=8)\n",
    "C = np.array([0, 1, 4, 7, 8, 10, 2, 0])  "
   ]
  },
  {
   "cell_type": "code",
   "execution_count": 3,
   "metadata": {},
   "outputs": [],
   "source": [
    "M0_dx = np.trapz(C, dx=x[1]-x[0])    # Perform numerical integration by defining dx spacing    # print(M0_dx)        \n",
    "M0_x = np.trapz(C, x)                # Perform numerical integration by defining x array       # print(M0_x)    = 86   This one"
   ]
  },
  {
   "cell_type": "code",
   "execution_count": 4,
   "metadata": {},
   "outputs": [],
   "source": [
    "M1_x = np.trapz(x*C, x)             #  first moment"
   ]
  },
  {
   "cell_type": "code",
   "execution_count": 5,
   "metadata": {},
   "outputs": [],
   "source": [
    "center_of_mass = M1_x / M0_x         # The equation for the zero moment is: $m_{x,0} = \\int C(x)  dx$      \n",
    "# print(center_of_mass)              # Where do you expect the center for mass to be? .. numpy.trapz.html "
   ]
  },
  {
   "cell_type": "code",
   "execution_count": 6,
   "metadata": {},
   "outputs": [],
   "source": [
    "x = np.linspace(1, 20, num=8) ;      C = np.array([0, 1, 4, 7, 8, 10, 2, 0])    ; D = np.array([center_of_mass]*8)              \n",
    "# D2 = pd.DataFrame(D)               ; E = D[:, np.newaxis] "
   ]
  },
  {
   "cell_type": "code",
   "execution_count": 7,
   "metadata": {},
   "outputs": [
    {
     "data": {
      "image/png": "[encoded data removed]",
      "text/plain": [
       "<Figure size 500x400 with 1 Axes>"
      ]
     },
     "metadata": {},
     "output_type": "display_data"
    }
   ],
   "source": [
    "fig = plt.figure(figsize=(5, 4))    ; gs = plt.GridSpec(nrows=2, ncols=1, height_ratios=[3, 1]) \n",
    "ax1 = fig.add_subplot(gs[0, 0])     ; ax1.plot(x, C)  ; ax1.plot(D, x)  ; plt.show()"
   ]
  },
  {
   "cell_type": "code",
   "execution_count": null,
   "metadata": {},
   "outputs": [],
   "source": []
  }
 ],
 "metadata": {
  "kernelspec": {
   "display_name": "Python 3 (ipykernel)",
   "language": "python",
   "name": "python3"
  },
  "language_info": {
   "codemirror_mode": {
    "name": "ipython",
    "version": 3
   },
   "file_extension": ".py",
   "mimetype": "text/x-python",
   "name": "python",
   "nbconvert_exporter": "python",
   "pygments_lexer": "ipython3",
   "version": "3.12.7"
  }
 },
 "nbformat": 4,
 "nbformat_minor": 4
}
