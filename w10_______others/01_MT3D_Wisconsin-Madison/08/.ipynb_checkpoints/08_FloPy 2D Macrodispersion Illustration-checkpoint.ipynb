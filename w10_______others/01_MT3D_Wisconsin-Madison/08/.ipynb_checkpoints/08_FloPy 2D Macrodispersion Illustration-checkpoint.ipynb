{
 "cells": [
  {
   "cell_type": "code",
   "execution_count": 1,
   "metadata": {},
   "outputs": [
    {
     "name": "stdout",
     "output_type": "stream",
     "text": [
      "E:\\15_REPOS\\00_BETAMI\\w10_______others\\01_MT3D_Wisconsin-Madison\\08\n"
     ]
    }
   ],
   "source": [
    "import flopy; import sys; import pathlib; import os; import time; import numpy as np; import matplotlib.pyplot as plt\n",
    "import pandas as pd\n",
    "exe_name_mf = 'E:\\\\15_REPOS\\\\00_BETAMI\\\\w10_______others\\\\bin\\\\mf2005'\n",
    "exe_name_mt = 'E:\\\\15_REPOS\\\\00_BETAMI\\\\w10_______others\\\\bin\\\\mt3d-usgs_1.1.0_64'\n",
    "current_directory = os.getcwd();  print(current_directory)"
   ]
  },
  {
   "cell_type": "code",
   "execution_count": 2,
   "metadata": {},
   "outputs": [],
   "source": [
    "path = pathlib.Path('E:\\\\15_REPOS\\\\00_BETAMI\\\\w10_______others\\\\06_MT3D_Wisconsin-Madison\\\\08')\n",
    "path.mkdir(parents=True, exist_ok=True); os.chdir(path); current_directory = os.getcwd()\n",
    "directory_name = 'macrodispersion_illustration'           ; workdir = os.path.join('.', directory_name)\n",
    "if os.path.isdir(workdir) is False:\n",
    "    os.mkdir(workdir) \n",
    "folder_w_datafile = ('E:\\\\15_REPOS\\\\00_BETAMI\\\\w10_______others\\\\01_MT3D_Wisconsin-Madison\\\\data_for_models')\n",
    "datafile_name1 = 'anisotropic_perm_field_sig100.csv'       ; data_file_with_path1 = os.path.join(folder_w_datafile, datafile_name1)             \n",
    "datafile_name2 = 'anisotropic_perm_field_sig100000.csv'    ; data_file_with_path2 = os.path.join(folder_w_datafile, datafile_name2) "
   ]
  },
  {
   "cell_type": "code",
   "execution_count": 3,
   "metadata": {},
   "outputs": [
    {
     "name": "stdout",
     "output_type": "stream",
     "text": [
      "Nrows = 20 Ncolumns = 40\n",
      "kdata_m2.shape (802,)\n",
      "K      = 0.0005412218263527298 cm/sec\n",
      "Kstrong= 0.0007188879381530694 cm/sec\n"
     ]
    }
   ],
   "source": [
    "kdata_m2   = np.loadtxt(data_file_with_path1, delimiter=',')                        # anisotropic_perm_field_sig100.csv\n",
    "nrow       = int(kdata_m2[-2])       ; ncol = int(kdata_m2[-1])                   ; print('Nrows = ' + str(nrow), 'Ncolumns = ' + str(ncol))\n",
    "kdata_m2   = kdata_m2[0:-2]          ; rawk_m2 = kdata_m2.reshape(1, nrow, ncol)  ; # print('Vector = ', kdata_m2.shape)   \n",
    "hk_weak    = rawk_m2*(1000*9.81*100/8.9E-4)                                         # Permeabiltiy (in m^2) to K (cm/sec)\n",
    "\n",
    "kdata_m2   = np.loadtxt(data_file_with_path2, delimiter=',')                      ; print('kdata_m2.shape', kdata_m2.shape)\n",
    "nrow       = int(kdata_m2[-2])       ; ncol = int(kdata_m2[-1])                   ; # print('Nrows = ' + str(nrow), 'Ncolumns = ' + str(ncol))\n",
    "kdata_m2   = kdata_m2[0:-2]          ; rawk_m2 = kdata_m2.reshape(1, nrow, ncol)  ; # print('Vector = ', kdata_m2.shape)   \n",
    "hk_strong  = rawk_m2*(1000*9.81*100/8.9E-4)                                         # ________________________________________ sa = rawk_m2[0,:,:]\n",
    "\n",
    "geo_mean_weak   = np.exp(np.sum(np.log(hk_weak))   / hk_weak.size)                ; print('K      =', geo_mean_weak,   'cm/sec')\n",
    "geo_mean_strong = np.exp(np.sum(np.log(hk_strong)) / hk_strong.size)              ; print('Kstrong=', geo_mean_strong, 'cm/sec')\n",
    "hk_hom          = geo_mean_weak*np.ones([1, 20, 40]) ; perlen_mt = [60*3,60*58]   ; v = 0.01 ; al = 0.2 ; trpt = 0.1 ; itype= -1"
   ]
  },
  {
   "cell_type": "code",
   "execution_count": 4,
   "metadata": {},
   "outputs": [],
   "source": [
    "sa = kdata_m2.reshape(nrow, ncol) ; save = pd.DataFrame(sa) ; save.to_csv (\"01_anis_perm_field_.csv\"); # print('bdata_m2.shape',bawk_m2.shape)"
   ]
  },
  {
   "cell_type": "code",
   "execution_count": 5,
   "metadata": {},
   "outputs": [],
   "source": [
    "grid_size = [0.25, 0.25] ;         Lx = (ncol - 1) * grid_size[1]   ; Ly = (nrow - 1) * grid_size[0]   \n",
    "y, x = np.mgrid[slice(0, Ly + grid_size[0], grid_size[0]),  slice(0, Lx + grid_size[1], grid_size[1])]\n",
    "\n",
    "def plot_2d(map_data, X, Y, cmap, colorbar_label, title_text):\n",
    "    plt.figure(figsize=(5, 2), dpi=100)                        ; plt.pcolor(X,Y,map_data,cmap=cmap,shading='auto',edgecolor='k',linewidth=0.1)\n",
    "    plt.gca().set_aspect('equal') ; cbar = plt.colorbar()      ; cbar.set_label(colorbar_label);  plt.title(title_text)\n",
    "# plot_2d(hk_weak[0,:,:]   *60, x, y, 'cividis', 'Hydraulic conductivity [cm/min]', 'Weak heterogeneity')\n",
    "# plot_2d(hk_strong[0,:,:] *60, x, y, 'cividis', 'K  [cm/min]', 'Strong heterogeneity')"
   ]
  },
  {
   "cell_type": "code",
   "execution_count": 6,
   "metadata": {},
   "outputs": [],
   "source": [
    "save = pd.DataFrame(y)  ; save.to_csv (\"02_grid.csv\")"
   ]
  },
  {
   "cell_type": "code",
   "execution_count": 7,
   "metadata": {},
   "outputs": [
    {
     "name": "stdout",
     "output_type": "stream",
     "text": [
      "H1\"\"= 54.04438360720681\n"
     ]
    }
   ],
   "source": [
    "hk_size = hk_hom.shape  ; nlay = hk_size[0]        ; nrow = hk_size[1]  ;  ncol = hk_size[2]\n",
    "ibound = np.ones((nlay, nrow, ncol) , dtype=int)   ; ibound[0,:,0]= -1  ; ibound[0,:,-1] = -1 \n",
    "sa = ibound [0,:,:] ; save = pd.DataFrame(sa)      ; save.to_csv (\"03_ibound.csv\") \n",
    "v = 0.01; prsity = 0.3; q = v * prsity   ; geo_mean_k = np.exp(np.sum(np.log(hk_hom))/hk_hom.size) ; h1 = q * Lx/geo_mean_k; print('H1\"\"=',h1)"
   ]
  },
  {
   "cell_type": "code",
   "execution_count": 8,
   "metadata": {},
   "outputs": [],
   "source": [
    "cwell_info = np.zeros((nrow, 5), dtype=float)                               ; itype = itype ; C_in = [1.0, 0.0] \n",
    "for row in range(0, nrow):\n",
    "        cwell_info[row] = [0, row, 0, C_in[0], itype]                           #  inlet face grid cell as a well\n",
    "cwell_info2 = cwell_info.copy()   \n",
    "cwell_info2[:,3] = C_in[1]          ; spd_mt = {0:cwell_info, 1:cwell_info2}                 \n",
    "# cwell_info = np.zeros((nrow, 5), dtype=float)  \n",
    "save = pd.DataFrame(cwell_info2)  ; save.to_csv (\"04_cwell_info2.csv\")"
   ]
  },
  {
   "cell_type": "code",
   "execution_count": 9,
   "metadata": {},
   "outputs": [],
   "source": [
    "def model_2D(dirname, perlen_mt, hk, v, al, trpt, itype):\n",
    "    model_ws = os.path.join(workdir, dirname)                        ; print(model_ws)   \n",
    "    itmuni   = 1                     ; mt_tunit = 'S'                ; lenuni = 3                    ; mt_lunit = 'CM'   ; al = 0.01; trpv = 0.001/al\n",
    "    perlen_mf = [np.sum(perlen_mt)]  ; nper_mf  = len(perlen_mf)     ; nper   = len(perlen_mt)       ; nprs     = 100\n",
    "    timprs    = np.linspace(0, np.sum(perlen_mf), nprs, endpoint = False)                            ; hk_size  = hk.shape\n",
    "    nlay      = hk_size[0]           ; nrow = hk_size[1]             ;  ncol = hk_size[2]            ; # botm=-np.linspace(delv,delv*nlay,nlay)\n",
    "    delv      = 0.25                 ; delr = 0.25                   ; delc = 1 ; \n",
    "    \n",
    "    laytyp = 0          ; geo_mean_k = np.exp(np.sum(np.log(hk))/hk.size)          ; prsity = 0.3    ; q = v * prsity  ; Lx = (ncol - 1) * delr\n",
    "    print(\"Model length is: \" + str(Lx + delr) + \" (check units of 'lenuni')\")\n",
    "\n",
    "    ibound = np.ones((nlay, nrow, ncol) , dtype=int)                            ; ibound[0,:,0]= -1  ; ibound[0,:,-1] = -1 #(index)inlet|outlet\n",
    "    strt   = np.zeros((nlay, nrow, ncol), dtype=float) ; h1 = q * Lx/geo_mean_k ; strt  [0,:,0]= h1  ; print(\"Inlet_H:\"+str(h1) + \"('lenuni units')\")\n",
    "    icbund = np.ones((nlay, nrow, ncol) , dtype=int)\n",
    "    sconc  = np.zeros((nlay, nrow, ncol), dtype=float)                          ; C_in = [1.0, 0.0]    \n",
    "    cwell_info = np.zeros((nrow, 5), dtype=float)                               ; itype = itype\n",
    "    \n",
    "    for row in range(0, nrow):\n",
    "        cwell_info[row] = [0, row, 0, C_in[0], itype]                           #  inlet face grid cell as a well\n",
    "    cwell_info2 = cwell_info.copy()   \n",
    "    cwell_info2[:,3] = C_in[1]          ; spd_mt = {0:cwell_info, 1:cwell_info2}                           ; modelname_mf = dirname + '_mf'\n",
    "    \n",
    "    mf  = flopy.modflow.Modflow(modelname=modelname_mf, model_ws=model_ws, exe_name=exe_name_mf)\n",
    "    dis = flopy.modflow.ModflowDis(mf, nlay=nlay, nrow=nrow, ncol=ncol, nper=nper_mf, delr=delr, delc=delc, top=0., botm=[0 - delv],\n",
    "                                   perlen=perlen_mf, itmuni=itmuni, lenuni=lenuni)\n",
    "    bas = flopy.modflow.ModflowBas(mf, ibound=ibound, strt=strt)                            # BAS\n",
    "    lpf = flopy.modflow.ModflowLpf(mf, hk=hk, laytyp=laytyp)\n",
    "    pcg = flopy.modflow.ModflowPcg(mf)\n",
    "    lmt = flopy.modflow.ModflowLmt(mf)\n",
    "    oc  = flopy.modflow.ModflowOc(mf)    ; mf.write_input()   ; mf.run_model(silent=True)                    ; modelname_mt = dirname + '_mt'\n",
    "    \n",
    "    mt  = flopy.mt3d.Mt3dms(modelname=modelname_mt, model_ws=model_ws, exe_name=exe_name_mt, modflowmodel=mf)  \n",
    "    btn = flopy.mt3d.Mt3dBtn(mt, icbund=icbund, prsity=prsity, sconc=sconc, tunit=mt_tunit, lunit=mt_lunit, nper=nper, \n",
    "                             perlen=perlen_mt, nprs=nprs, timprs=timprs)                                                   ; mixelm = -1\n",
    "    adv = flopy.mt3d.Mt3dAdv(mt, mixelm=mixelm)\n",
    "    dsp = flopy.mt3d.Mt3dDsp(mt, al=al, trpt=trpt)                      # no dmcoef\n",
    "    ssm = flopy.mt3d.Mt3dSsm(mt, stress_period_data=spd_mt)\n",
    "    gcg = flopy.mt3d.Mt3dGcg(mt)       ; mt.write_input()    ; \n",
    "    \n",
    "    fname = os.path.join(model_ws, 'MT3D001.UCN')\n",
    "    if os.path.isfile(fname):\n",
    "        os.remove(fname)\n",
    "    mt.run_model(silent=True)\n",
    "    \n",
    "    fname = os.path.join(model_ws, modelname_mf+'.hds')     ; hdobj  = flopy.utils.HeadFile(fname)   ; heads = hdobj.get_data()\n",
    "    fname = os.path.join(model_ws, 'MT3D001.UCN')           ; ucnobj = flopy.utils.UcnFile(fname)    ; times = np.array(ucnobj.get_times())\n",
    "    conc = ucnobj.get_alldata()\n",
    "    return mf, mt, times, conc, heads"
   ]
  },
  {
   "cell_type": "code",
   "execution_count": 10,
   "metadata": {},
   "outputs": [
    {
     "name": "stdout",
     "output_type": "stream",
     "text": [
      ".\\macrodispersion_illustration\\homogeneous_2D\n",
      "Model length is: 10.0 (check units of 'lenuni')\n",
      "Inlet_H:54.04438360720681('lenuni units')\n",
      ".\\macrodispersion_illustration\\anisotropic_weak\n",
      "Model length is: 10.0 (check units of 'lenuni')\n",
      "Inlet_H:54.04438360720681('lenuni units')\n",
      ".\\macrodispersion_illustration\\anisotropic_strong\n",
      "Model length is: 10.0 (check units of 'lenuni')\n",
      "Inlet_H:40.687843609043746('lenuni units')\n",
      "(1, 20, 40)\n",
      "(102, 1, 20, 40)\n"
     ]
    }
   ],
   "source": [
    "dirname = 'homogeneous_2D'                  ; mf, mt, times, conc, heads          = model_2D(dirname, perlen_mt, hk_hom,    v, al, trpt, itype) \n",
    "dirname = 'anisotropic_weak'                ; mf, mt, times_w, conc_weak, heads   = model_2D(dirname, perlen_mt, hk_weak,   v, al, trpt, itype)\n",
    "dirname = 'anisotropic_strong'              ; mf, mt, times_s, conc_strong, heads = model_2D(dirname, perlen_mt, hk_strong, v, al, trpt, itype)\n",
    "print(heads.shape)                          ; print(conc_strong.shape)\n",
    "sa = heads       [0,:,:]                    ; save = pd.DataFrame(sa)  ; save.to_csv (\"05_H_steady.csv\") \n",
    "sa = conc_strong [16,0,:,:]                 ; save = pd.DataFrame(sa)  ; save.to_csv (\"06_C16.csv\") "
   ]
  },
  {
   "cell_type": "raw",
   "metadata": {},
   "source": [
    "time_step = 16 ; colorbar_label = 'Solute [C]' ; plot_title = 'Time: %1.1f min' %(times[time_step]/60) \n",
    "head_colorbar_label = 'H[cm]' ; plot_title_head = 'Steady_H__time_step = 16' ; plot_2d(np.squeeze(heads), x, y,'Blues',head_colorbar_label,plot_title_head)\n",
    "plot_2d(conc[time_step,0,:,:], x, y,  'OrRd', colorbar_label, plot_title)\n",
    "plot_2d(conc_weak[time_step,0,:,:], x, y,  'OrRd', colorbar_label, plot_title)\n",
    "plot_2d(conc_strong[time_step,0,:,:], x, y,  'OrRd', colorbar_label, plot_title)"
   ]
  },
  {
   "cell_type": "code",
   "execution_count": 11,
   "metadata": {
    "jupyter": {
     "source_hidden": true
    }
   },
   "outputs": [],
   "source": [
    "from scipy.special import erfc as erfc    ; from scipy.special import erf as erf\n",
    "def analytical_model_1D_finite_t1(x, t, v, al, L):\n",
    "    D = v*al\n",
    "    indices_below_zero = t <= 0\n",
    "    if indices_below_zero.any() == True:\n",
    "        t[indices_below_zero] = 1\n",
    "    C = (1/2)*erfc((x - v*t)/(2*np.sqrt(D*t))) + (1/2)*np.exp(v*x/D)*erfc((x + v*t)/(2*np.sqrt(D*t))) + \\\n",
    "        (1/2)*(2 + (v*(2*L - x)/D) + v**2*t/D)* np.exp(v*L/D)*erfc(((2*L - x)+ v*t)/(2*np.sqrt(D*t))) - \\\n",
    "        (v**2 *t/(3.1415*D))**(1/2) * np.exp(v*L/D - ((2*L - x + v*t)**2)/(4*D*t))\n",
    "    if indices_below_zero.any() == True:\n",
    "        C[indices_below_zero] = 0\n",
    "    return C"
   ]
  },
  {
   "cell_type": "code",
   "execution_count": 12,
   "metadata": {},
   "outputs": [],
   "source": [
    "ym, xm, zm = mf.dis.get_node_coordinates()     ; # print(xm)"
   ]
  },
  {
   "cell_type": "code",
   "execution_count": 13,
   "metadata": {},
   "outputs": [],
   "source": [
    "sa = conc_strong.reshape(conc_strong.shape[0],  -1);   sa2 = pd.DataFrame(sa);      sa2.to_csv (\"07_C_all_XY.csv\")\n",
    "sa = pd.DataFrame(times);      sa.to_csv (\"08_times.csv\")\n",
    "model_time = np.cumsum(perlen_mt)\n",
    "sa = pd.DataFrame(model_time); sa.to_csv(\"09_Times_b.csv\")"
   ]
  },
  {
   "cell_type": "code",
   "execution_count": 14,
   "metadata": {},
   "outputs": [
    {
     "data": {
      "image/png": "[encoded data removed]",
      "text/plain": [
       "<Figure size 560x160 with 1 Axes>"
      ]
     },
     "metadata": {},
     "output_type": "display_data"
    }
   ],
   "source": [
    "Conc_time_type1_t    = analytical_model_1D_finite_t1(xm[-1], times, v, al, xm[-1])        ; t_t0 = times - perlen_mt[0]\n",
    "Conc_time_type1_t_t0 = analytical_model_1D_finite_t1(xm[-1], t_t0,  v, al, xm[-1])\n",
    "Conc_pulse_solution  = Conc_time_type1_t - Conc_time_type1_t_t0\n",
    "C_btc_h = np.mean([conc       [:, 0, :, -1]], axis=2)     ; C_btc_w = np.mean([conc_weak  [:, 0, :, -1]], axis=2)\n",
    "C_btc_s = np.mean([conc_strong[:, 0, :, -1]], axis=2)     ; plt.figure(figsize=(7, 2), dpi=80)\n",
    "plt.plot(times  /60, np.transpose(C_btc_h), linewidth = 5, label='FloPy Homogeneous')\n",
    "plt.plot(times_w/60, np.transpose(C_btc_w),                label='FloPy Weak Anisotropic')\n",
    "plt.plot(times_s/60, np.transpose(C_btc_s),                label='FloPy Strong Anisotropic')\n",
    "plt.plot(times  /60, Conc_pulse_solution, '--',            label='BTC 1D analytical, type 1, finite length')\n",
    "plt.xlabel('Time [min]')   ; plt.legend()    ; plt.show()"
   ]
  },
  {
   "cell_type": "code",
   "execution_count": 15,
   "metadata": {},
   "outputs": [
    {
     "name": "stdout",
     "output_type": "stream",
     "text": [
      "Model time: 5.48999989827474 min\n"
     ]
    },
    {
     "data": {
      "image/png": "[encoded data removed]",
      "text/plain": [
       "<Figure size 560x160 with 1 Axes>"
      ]
     },
     "metadata": {},
     "output_type": "display_data"
    }
   ],
   "source": [
    "timestep = 10     ; print('Model time: ' + str(times[timestep]/60) + ' min') ; plt.figure(figsize=(7, 2), dpi=80)\n",
    "C_profile_h = np.mean([conc[timestep,        0, :, :]], axis=1)\n",
    "C_profile_w = np.mean([conc_weak[timestep,   0, :, :]], axis=1)\n",
    "C_profile_s = np.mean([conc_strong[timestep, 0, :, :]], axis=1)\n",
    "Conc_time_type1_x    = analytical_model_1D_finite_t1(xm-xm[0], times[timestep], v, al, xm[-1])     ; time_t0 = times[timestep] - perlen_mt[0]\n",
    "Conc_time_type1_x_t0 = analytical_model_1D_finite_t1(xm-xm[0], time_t0,         v, al, xm[-1])\n",
    "Conc_pulse_solution_in_space = Conc_time_type1_x - Conc_time_type1_x_t0\n",
    "plt.plot(xm, np.transpose(C_profile_h), label='Vol Avg FloPy Homogeneous') ; plt.plot(xm, np.transpose(C_profile_w), label='Vol Avg FloPy Weak Anisotropic')\n",
    "plt.plot(xm, np.transpose(C_profile_s), label='Vol Avg FloPy Strong Anisotropic') ; plt.plot(xm, Conc_pulse_solution_in_space, '--', label='1D analytical, type 1')\n",
    "plt.xlabel('Distance from inlet [cm]') ; plt.legend() ; plt.show()"
   ]
  },
  {
   "cell_type": "raw",
   "metadata": {
    "jupyter": {
     "source_hidden": true
    }
   },
   "source": [
    "# Finding a analitical function to mach Flopy, ...\n",
    "\n",
    "def spatial_moment_calc(conc, timestep): ### BUUGGG X\n",
    "    C_x = np.sum([conc[timestep, 0, :, :]], axis=1)   ; Mx0 = np.trapz(C_x, xm)   ; print('Zero moment =    ' + str(Mx0  )        )\n",
    "    Mx1 = np.trapz(xm*C_x, xm)                        ; x_bar = Mx1/Mx0           ; print('Center of mass = ' + str(x_bar) + ' cm')\n",
    "    var = 0 # FILL THIS IN                            # Second spatial moment      # Mx2 = # FILL THIS IN   \n",
    "    return x_bar, var\n",
    "x_bar1, var1 = spatial_moment_calc(conc_strong, timestep    ) ;      x_bar2, var2 = spatial_moment_calc(conc_strong, timestep + 1)\n",
    "# 0 # FILL THIS IN     # Now ... macrodispersion, ... # print(D_macro)  ; # al_macro = D_macro/v  ; # print(al_macro)\n",
    "\n",
    "al_macro =0.4\n",
    "Conc_time_type1_x    = analytical_model_1D_finite_t1(xm-xm[0], times[timestep], v, al_macro, xm[-1]) ;    time_t0 = times[timestep] - perlen_mt[0]\n",
    "Conc_time_type1_x_t0 = analytical_model_1D_finite_t1(xm-xm[0], time_t0,         v, al_macro, xm[-1])\n",
    "Conc_pulse_solution_in_space_macro = Conc_time_type1_x - Conc_time_type1_x_t0\n",
    "plt.figure(figsize=(7, 2), dpi=80)\n",
    "plt.plot(xm, np.transpose (C_profile_s), label              ='Vol Avg FloPy Strong Anisotropic')\n",
    "plt.plot(xm, Conc_pulse_solution_in_space_macro, '--', label='1D Analytical Macrodispersion')\n",
    "plt.plot(xm, Conc_pulse_solution_in_space, '--', label      ='1D Analytical w/dispersivity (numerical)')\n",
    "plt.plot([x_bar1, x_bar1], [0, 1], 'k:', label              ='Center of mass (FloPy)')\n",
    "plt.xlabel('Distance from inlet [cm]')                      ; plt.legend()\n",
    "\n",
    "Conc_time_type1_t    = analytical_model_1D_finite_t1(xm[-1], times, v, al_macro, xm[-1])     ; t_t0 = times - perlen_mt[0]\n",
    "Conc_time_type1_t_t0 = analytical_model_1D_finite_t1(xm[-1], t_t0,  v, al_macro, xm[-1])\n",
    "Conc_pulse_solution_macro = Conc_time_type1_t - Conc_time_type1_t_t0                         ; plt.figure(figsize=(7, 2), dpi=80)\n",
    "plt.plot(times/60, np.transpose(C_btc_h), linewidth = 5, label ='FloPy Homogeneous')\n",
    "plt.plot(times/60, Conc_pulse_solution_macro, label            ='BTC 1D analytical macro')\n",
    "plt.plot(times_s/60, np.transpose(C_btc_s), label              ='FloPy Strong Anisotropic')\n",
    "plt.plot(times/60, Conc_pulse_solution, '--', label            ='BTC 1D analytical, type 1, finite length')\n",
    "plt.xlabel('Time [min]') ; plt.legend()\n",
    "\n",
    "# Why does the 1D analytical model with a larger dispersivity better match the heterogeneous numerical model ?"
   ]
  },
  {
   "cell_type": "code",
   "execution_count": null,
   "metadata": {},
   "outputs": [],
   "source": []
  }
 ],
 "metadata": {
  "kernelspec": {
   "display_name": "Python 3 (ipykernel)",
   "language": "python",
   "name": "python3"
  },
  "language_info": {
   "codemirror_mode": {
    "name": "ipython",
    "version": 3
   },
   "file_extension": ".py",
   "mimetype": "text/x-python",
   "name": "python",
   "nbconvert_exporter": "python",
   "pygments_lexer": "ipython3",
   "version": "3.12.7"
  }
 },
 "nbformat": 4,
 "nbformat_minor": 4
}
