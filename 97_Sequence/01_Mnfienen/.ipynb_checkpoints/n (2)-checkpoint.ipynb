{
 "cells": [
  {
   "cell_type": "code",
   "execution_count": 1,
   "id": "daf9de9c-f315-4460-a596-d129df3998ee",
   "metadata": {},
   "outputs": [
    {
     "name": "stdout",
     "output_type": "stream",
     "text": [
      "3.9.8\n"
     ]
    }
   ],
   "source": [
    "from platform import python_version  \n",
    "print(python_version())"
   ]
  },
  {
   "cell_type": "code",
   "execution_count": null,
   "id": "5ac834a5-8e80-45d7-8abc-0a2efdaf4e19",
   "metadata": {},
   "outputs": [],
   "source": [
    "import geopandas as gp\n",
    "from pathlib import Path\n",
    "import rasterio\n",
    "import numpy as np\n",
    "from rasterio import features\n",
    "import matplotlib.pyplot as plt\n",
    "import shutil\n",
    "from flopy.utils.gridintersect import GridIntersect\n",
    "import flopy\n",
    "import os \n",
    "from shapely.geometry import Point, LineString\n",
    "import pandas as pd\n",
    "from flopy.utils import Raster\n",
    "from flopy.utils.gridgen import Gridgen \n",
    "from flopy.utils.gridintersect import GridIntersect\n",
    "import yaml"
   ]
  },
  {
   "cell_type": "code",
   "execution_count": 2,
   "id": "d8f086b6-e7f0-4ce4-aef8-40e020b2071d",
   "metadata": {},
   "outputs": [
    {
     "ename": "ModuleNotFoundError",
     "evalue": "No module named 'mfsetup'",
     "output_type": "error",
     "traceback": [
      "\u001b[1;31m---------------------------------------------------------------------------\u001b[0m",
      "\u001b[1;31mModuleNotFoundError\u001b[0m                       Traceback (most recent call last)",
      "Cell \u001b[1;32mIn[2], line 1\u001b[0m\n\u001b[1;32m----> 1\u001b[0m \u001b[38;5;28;01mimport\u001b[39;00m\u001b[38;5;250m \u001b[39m\u001b[38;5;21;01mmfsetup\u001b[39;00m\n",
      "\u001b[1;31mModuleNotFoundError\u001b[0m: No module named 'mfsetup'"
     ]
    }
   ],
   "source": [
    "import mfsetup"
   ]
  },
  {
   "cell_type": "code",
   "execution_count": 5,
   "id": "e725dc29-ad22-485d-a7ec-5509de9f97f8",
   "metadata": {},
   "outputs": [
    {
     "ename": "ModuleNotFoundError",
     "evalue": "No module named 'geopandas'",
     "output_type": "error",
     "traceback": [
      "\u001b[1;31m---------------------------------------------------------------------------\u001b[0m",
      "\u001b[1;31mModuleNotFoundError\u001b[0m                       Traceback (most recent call last)",
      "Cell \u001b[1;32mIn[5], line 1\u001b[0m\n\u001b[1;32m----> 1\u001b[0m \u001b[38;5;28;01mimport\u001b[39;00m\u001b[38;5;250m \u001b[39m\u001b[38;5;21;01mgeopandas\u001b[39;00m\u001b[38;5;250m \u001b[39m\u001b[38;5;28;01mas\u001b[39;00m\u001b[38;5;250m \u001b[39m\u001b[38;5;21;01mgp\u001b[39;00m\n",
      "\u001b[1;31mModuleNotFoundError\u001b[0m: No module named 'geopandas'"
     ]
    }
   ],
   "source": [
    "import geopandas as gp"
   ]
  },
  {
   "cell_type": "code",
   "execution_count": 5,
   "id": "cd0a0d3e-53b7-4461-be6d-c240a6143142",
   "metadata": {},
   "outputs": [
    {
     "data": {
      "text/plain": [
       "'C:\\\\Users\\\\gross.DESKTOP-AIRQM2M\\\\anaconda3\\\\envs\\\\gmdsitut\\\\Lib\\\\site-packages\\\\rasterio'"
      ]
     },
     "execution_count": 5,
     "metadata": {},
     "output_type": "execute_result"
    }
   ],
   "source": [
    "path = os.path.dirname(rasterio.__file__)\n",
    "path"
   ]
  },
  {
   "cell_type": "code",
   "execution_count": 4,
   "id": "fd5d1adc-24f5-4860-a957-81112ac09198",
   "metadata": {},
   "outputs": [
    {
     "data": {
      "text/plain": [
       "'C:\\\\Users\\\\gross.DESKTOP-AIRQM2M\\\\anaconda3\\\\envs\\\\gmdsitut\\\\Lib\\\\site-packages\\\\rasterio'"
      ]
     },
     "execution_count": 4,
     "metadata": {},
     "output_type": "execute_result"
    }
   ],
   "source": []
  },
  {
   "cell_type": "code",
   "execution_count": null,
   "id": "35ad17ca-88da-4170-a546-6c4859e59126",
   "metadata": {},
   "outputs": [],
   "source": []
  }
 ],
 "metadata": {
  "kernelspec": {
   "display_name": "BetaPyy9.0",
   "language": "python",
   "name": "betapyy9.0"
  },
  "language_info": {
   "codemirror_mode": {
    "name": "ipython",
    "version": 3
   },
   "file_extension": ".py",
   "mimetype": "text/x-python",
   "name": "python",
   "nbconvert_exporter": "python",
   "pygments_lexer": "ipython3",
   "version": "3.9.8"
  }
 },
 "nbformat": 4,
 "nbformat_minor": 5
}
