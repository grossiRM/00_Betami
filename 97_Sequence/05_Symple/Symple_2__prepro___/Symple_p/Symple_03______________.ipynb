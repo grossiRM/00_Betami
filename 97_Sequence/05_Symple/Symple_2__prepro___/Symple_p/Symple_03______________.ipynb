{
 "cells": [
  {
   "cell_type": "markdown",
   "id": "08d4d782",
   "metadata": {},
   "source": [
    "**Beta**"
   ]
  },
  {
   "cell_type": "code",
   "execution_count": 1,
   "id": "98a9e072-7e49-4896-873f-953a16719e0a",
   "metadata": {},
   "outputs": [],
   "source": [
    "import os\n",
    "from flopy.discretization import StructuredGrid\n",
    "import numpy as np\n",
    "import flopy.mf6 as mf6\n",
    "import flopy"
   ]
  },
  {
   "cell_type": "code",
   "execution_count": 2,
   "id": "c2a5e673-3f3c-400f-81a5-8ac4ebbb95ab",
   "metadata": {},
   "outputs": [],
   "source": [
    "model_name = 'Symple_03'  \n",
    "Lx = 4150\n",
    "Ly = 4810 \n",
    "delr = delc = 50 \n",
    "nlay, nrow, ncol = 3, int(Lx / delr), int(Ly / delc)   \n",
    "xorigin, yorigin,  angrot   = 1516769.1487, 5033577.7911, 14"
   ]
  },
  {
   "cell_type": "code",
   "execution_count": 3,
   "id": "b326a5c5-ea15-4494-9486-b6bdaeaf0880",
   "metadata": {},
   "outputs": [],
   "source": [
    "top  = [{'filename': 'GMS_001_L0.dat'}]          # 04 surfaces, 03 layers\n",
    "botm = [{'filename': 'GMS_002_L1.dat'},  {'filename': 'GMS_003_L2.dat'}, {'filename': 'GMS_004_L3.dat'}]\n",
    "k    = [{'filename': 'GMS_005_K1.dat'},  {'filename': 'GMS_006_K2.dat'}, {'filename': 'GMS_007_K3.dat'}]\n",
    "strt                 = [top[0]] * nlay                               # Top for starting heads\n",
    "recharge             = {0: {'filename': '01_rch.dat'}}               \n",
    "irch                 = [{'filename': '27_Topo___.dat'}]              # iRCH   Needs a confirmation __________________\n",
    "#spec_head_perimeter = {0: {'filename': '../data/chd_000.dat'}}      # chd\n",
    "perioddata = [(1.0, 1, 1.0)] \n",
    "nper= len(perioddata)           # or 1\n",
    "nouter, ninner, hclose, rclose = 50, 100, 1e-9, 1e-6"
   ]
  },
  {
   "cell_type": "code",
   "execution_count": 4,
   "id": "bf75fd73-826c-4fb2-90e1-9d0f0347f92c",
   "metadata": {},
   "outputs": [
    {
     "name": "stdout",
     "output_type": "stream",
     "text": [
      "<flopy.mf6.data.mfstructure.MFDataItemStructure object at 0x000002CA751ECDD0>\n"
     ]
    }
   ],
   "source": [
    "sim   = mf6.MFSimulation   (sim_name=model_name, version=\"mf6\", exe_name=\"mf6\")                                # ,sim_ws = \"WS\"\n",
    "tdis  = mf6.ModflowTdis    (sim, time_units=\"days\", nper=nper, perioddata=perioddata)               \n",
    "ims   = mf6.ModflowIms     (sim, outer_maximum=nouter, outer_dvclose=hclose, inner_maximum=ninner,inner_dvclose=hclose,\n",
    "                           rcloserecord=\"{} strict\".format(rclose))\n",
    "gwf   = mf6.ModflowGwf     (sim, modelname=model_name, save_flows=True, print_flows=True)         \n",
    "dis   = mf6.ModflowGwfdis  (gwf, nlay=nlay, nrow=nrow, ncol=ncol, delr=delr,delc=delc, top=top, botm=botm, xorigin=xorigin, yorigin=yorigin, angrot=angrot)   \n",
    "rch   = mf6.ModflowGwfrcha (gwf, recharge=recharge, irch=irch)                                                 # rch = flopy.mf6.ModflowGwfrch\n",
    "npf   = mf6.ModflowGwfnpf  (gwf, save_flows=True, save_specific_discharge=None, k=k, k33=0.1, k33overk=True)   # npf.k.plot(colorbar=True)\n",
    "ic    = mf6.ModflowGwfic   (gwf, pname=\"ic\", strt=strt)\n",
    "oc    = mf6.ModflowGwfoc   (gwf, pname='oc')\n",
    "sim.write_simulation(silent=True) # __________________________________________________________________________ # sim.run_simulation()\n",
    "#oc    = mf6.ModflowGwfoc   (gwf, pname='oc', budget_filerecord='{}.cbb'.format(model_name), head_filerecord='{}.hds'.format(model_name),\n",
    "#                            headprintrecord=[('COLUMNS', 10, 'WIDTH', 15, 'DIGITS', 3, 'GENERAL')],\n",
    "#                            saverecord=[('HEAD', 'LAST'), ('BUDGET', 'LAST')],printrecord=[('HEAD', 'LAST'), ('BUDGET', 'ALL')])"
   ]
  },
  {
   "cell_type": "code",
   "execution_count": 5,
   "id": "3a28199f-04ec-471e-94cf-3a48bbe3dd24",
   "metadata": {},
   "outputs": [
    {
     "name": "stdout",
     "output_type": "stream",
     "text": [
      "FloPy is using the following executable to run the model: C:\\Users\\gross.DESKTOP-AIRQM2M\\anaconda3\\envs\\gmdsitut\\Scripts\\mf6.exe\n",
      "                                   MODFLOW 6\n",
      "                U.S. GEOLOGICAL SURVEY MODULAR HYDROLOGIC MODEL\n",
      "                            VERSION 6.5.0 05/23/2024\n",
      "\n",
      "   MODFLOW 6 compiled Jun 21 2024 02:57:23 with Intel(R) Fortran Intel(R) 64\n",
      "   Compiler Classic for applications running on Intel(R) 64, Version 2021.7.0\n",
      "                             Build 20220726_000000\n",
      "\n",
      "This software has been approved for release by the U.S. Geological \n",
      "Survey (USGS). Although the software has been subjected to rigorous \n",
      "review, the USGS reserves the right to update the software as needed \n",
      "pursuant to further analysis and review. No warranty, expressed or \n",
      "implied, is made by the USGS or the U.S. Government as to the \n",
      "functionality of the software and related material nor shall the \n",
      "fact of release constitute any such warranty. Furthermore, the \n",
      "software is released on condition that neither the USGS nor the U.S. \n",
      "Government shall be held liable for any damages resulting from its \n",
      "authorized or unauthorized use. Also refer to the USGS Water \n",
      "Resources Software User Rights Notice for complete use, copyright, \n",
      "and distribution information.\n",
      "\n",
      " \n",
      " MODFLOW runs in SEQUENTIAL mode\n",
      " \n",
      " Run start date and time (yyyy/mm/dd hh:mm:ss): 2025/01/30  9:09:01\n",
      " \n",
      " Writing simulation list file: mfsim.lst\n",
      " Using Simulation name file: mfsim.nam\n",
      " \n",
      "\n",
      "ERROR REPORT:\n",
      "\n",
      "  1. Could not open \"GMS_001_L0.dat\" on unit 1005. Specified file status OLD.\n",
      "     Specified file format FORMATTED. Specified file access SEQUENTIAL.\n",
      "     Specified file action READ. IOSTAT error number 29. STOP EXECUTION in\n",
      "     subroutine openfile().\n"
     ]
    },
    {
     "data": {
      "text/plain": [
       "(False, [])"
      ]
     },
     "execution_count": 5,
     "metadata": {},
     "output_type": "execute_result"
    }
   ],
   "source": [
    "sim.run_simulation()"
   ]
  },
  {
   "cell_type": "raw",
   "id": "aa5dea84-bb91-4310-9e17-b04e01c527d0",
   "metadata": {},
   "source": [
    "config_data['simulation']            = dict() 1          ok   \n",
    "config_data['model']                 = dict() 2          ok\n",
    "config_data['intermediate_data']     = dict() 3          \n",
    "config_data['setup_grid']            = dict() 4          \n",
    "config_data['dis']                   = dict() 5          \n",
    "config_data['tdis']                  = dict() 6          \n",
    "config_data['ic']                    = dict() 7          \n",
    "config_data['wel']                   = dict() 8          \n",
    "config_data['oc']                    = dict() 9          \n",
    "config_data['npf']                   = dict() 10          \n",
    "config_data['rch']                   = dict() 11\n",
    "config_data['sfr']                   = dict() 12\n",
    "config_data['ims']                   = dict() 13\n",
    "config_data['obs']                   = dict() 14"
   ]
  },
  {
   "cell_type": "code",
   "execution_count": null,
   "id": "e1f93aa0-b149-4339-a130-b320d1a64c7c",
   "metadata": {},
   "outputs": [],
   "source": []
  }
 ],
 "metadata": {
  "kernelspec": {
   "display_name": "Python 3 (ipykernel)",
   "language": "python",
   "name": "python3"
  },
  "language_info": {
   "codemirror_mode": {
    "name": "ipython",
    "version": 3
   },
   "file_extension": ".py",
   "mimetype": "text/x-python",
   "name": "python",
   "nbconvert_exporter": "python",
   "pygments_lexer": "ipython3",
   "version": "3.11.11"
  }
 },
 "nbformat": 4,
 "nbformat_minor": 5
}
