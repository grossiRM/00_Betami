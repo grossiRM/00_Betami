{
 "cells": [
  {
   "cell_type": "code",
   "execution_count": 1,
   "id": "ecbb7115",
   "metadata": {},
   "outputs": [],
   "source": [
    "import sys\n",
    "sys.path.append('../dependencies/')\n",
    "import yaml\n",
    "import matplotlib.pyplot as plt\n",
    "import rasterio\n",
    "from rasterio import features\n",
    "import geopandas as gp\n",
    "import pandas as pd\n",
    "from pathlib import Path\n",
    "import numpy as np\n",
    "from shapely.geometry import Point, LineString\n",
    "import shutil"
   ]
  },
  {
   "cell_type": "code",
   "execution_count": 2,
   "id": "78dac6b7",
   "metadata": {},
   "outputs": [],
   "source": [
    "datapath = Path('../data/sgn/')\n",
    "domain = gp.read_file(datapath / 'shp' / 'Model_domain.shp')\n",
    "# domain.plot()  # domain.crs # coordinate reference system\n",
    "domain.to_file('MF.Setup/01_Model_domain.shp')"
   ]
  },
  {
   "cell_type": "code",
   "execution_count": 3,
   "id": "1b5bc347-feeb-4240-8d3f-1229c431bb06",
   "metadata": {},
   "outputs": [
    {
     "data": {
      "text/plain": [
       "'MF.Setup/02_Bott_L2_fix.tif'"
      ]
     },
     "execution_count": 3,
     "metadata": {},
     "output_type": "execute_result"
    }
   ],
   "source": [
    "bot2_rast = rasterio.open(datapath/ 'raster' / 'Bott_L2_fix.tif') \n",
    "rastermeta = bot2_rast.meta.copy()\n",
    "rastermeta.update(compress='lzw')               # _____________________________________jut meta\n",
    "shutil.copy('../data/sgn/raster/Bott_L2_fix.tif', 'MF.Setup/02_Bott_L2_fix.tif')"
   ]
  },
  {
   "cell_type": "markdown",
   "id": "ca1eb43e",
   "metadata": {},
   "source": [
    "## **Geology**"
   ]
  },
  {
   "cell_type": "code",
   "execution_count": 4,
   "id": "9d9c1209",
   "metadata": {},
   "outputs": [
    {
     "name": "stderr",
     "output_type": "stream",
     "text": [
      "C:\\Users\\gross.DESKTOP-AIRQM2M\\AppData\\Local\\Temp\\ipykernel_9252\\1675873199.py:5: FutureWarning: Setting an item of incompatible dtype is deprecated and will raise an error in a future version of pandas. Value '0.0045' has dtype incompatible with int64, please explicitly cast to a compatible dtype first.\n",
      "  geology.loc[geology.LITOLOGIA == 'Gravel and sand', 'k'] = 0.0045            # geology\n"
     ]
    }
   ],
   "source": [
    "geology = gp.read_file(datapath / 'shp' / 'Geology_250000_clip.shp')         # datapath = Path('../data/sgn/')\n",
    "geology.to_csv(\"MF.Setup/03_geology.csv\")                                                                              # 01\n",
    "# geology.plot(column = 'LITOLOGIA', legend=True)                            # geology.columns\n",
    "geology['k'] = -999999\n",
    "geology.loc[geology.LITOLOGIA == 'Gravel and sand', 'k'] = 0.0045            # geology\n",
    "geology.loc[geology.LITOLOGIA == 'Gravel, sand and silt', 'k'] = 0.0023\n",
    "assert geology.k.min()>0                                                     #  geology.plot(column='k', legend=True)"
   ]
  },
  {
   "cell_type": "code",
   "execution_count": 5,
   "id": "2fb6ed07",
   "metadata": {},
   "outputs": [
    {
     "data": {
      "text/plain": [
       "'MF.Setup/06_k_field2.tif'"
      ]
     },
     "execution_count": 5,
     "metadata": {},
     "output_type": "execute_result"
    }
   ],
   "source": [
    "geopolygons = ((geom,value) for geom, value in zip(geology.geometry, geology.k))\n",
    "with rasterio.open(datapath/ 'raster' / 'k_field0.tif', 'w+', **rastermeta) as ofp: #_________________________________\n",
    "    out_arr = ofp.read(1)   \n",
    "    georaster = features.rasterize(shapes=geopolygons, fill=-9999, out=out_arr, transform=ofp.transform)\n",
    "    ofp.write_band(1,georaster)       #_________________________________________________________________________________________ *.a_tif\n",
    "\n",
    "with rasterio.open(datapath/ 'raster' / 'k_field0.tif') as src:\n",
    "    k0 = src.read(1)\n",
    "k0[k0<-1] = np.nan                                     # plt.imshow(k0)        # plt.colorbar()\n",
    "k1 = np.ones_like(k0) * 1e-8                           # aquitard\n",
    "k2 = np.ones_like(k0) * 2.3e-3                         # deep aquifer\n",
    "with rasterio.open(datapath/ 'raster' / 'k_field1.tif', 'w+', **rastermeta) as ofp:\n",
    "    ofp.write_band(1, k1)             #________________________________________________________________________________________ *.b_tif\n",
    "with rasterio.open(datapath/ 'raster' / 'k_field2.tif', 'w+', **rastermeta) as ofp:\n",
    "    ofp.write_band(1, k2)             #________________________________________________________________________________________ *.c_tif\n",
    "shutil.copy('../data/sgn/raster/k_field0.tif', 'MF.Setup/04_k_field0.tif')\n",
    "shutil.copy('../data/sgn/raster/k_field1.tif', 'MF.Setup/05_k_field1.tif')\n",
    "shutil.copy('../data/sgn/raster/k_field2.tif', 'MF.Setup/06_k_field2.tif')"
   ]
  },
  {
   "cell_type": "markdown",
   "id": "03ee5b2a",
   "metadata": {},
   "source": [
    "## **River**  "
   ]
  },
  {
   "cell_type": "code",
   "execution_count": 6,
   "id": "fd2b2045",
   "metadata": {},
   "outputs": [],
   "source": [
    "riv = gp.read_file(datapath / 'shp' / 'River_Lambro.shp')  # riv\n",
    "riv1 = riv.iloc[0].geometry\n",
    "\n",
    "rivpts = [Point(i) for i in riv1.coords]\n",
    "newpt = Point(rivpts[0].coords[0][0],rivpts[0].coords[0][1]+150)           # _______ starting point outside the domain  \n",
    "rivpts.insert(0,newpt)                                                      \n",
    "newpt = Point(rivpts[-1].coords[0][0]+150,rivpts[-1].coords[0][1]-150)     # _______ ending point each outside the domain\n",
    "\n",
    "rivpts.append(newpt)  \n",
    "\n",
    "rivsegs = []\n",
    "totpts = len(rivpts)/10\n",
    "previous_seg = 0\n",
    "for i in range(1,10):\n",
    "    tmppts = rivpts[previous_seg:int(i*totpts)]\n",
    "    previous_seg = int(i*totpts)-1\n",
    "    rivsegs.append(LineString(zip([c.coords[0][0] for c in tmppts],[c.coords[0][1] for c in tmppts])))\n",
    "tmppts = rivpts[previous_seg:-1]\n",
    "rivsegs.append(LineString(zip([c.coords[0][0] for c in tmppts],[c.coords[0][1] for c in tmppts])))\n",
    "# ax = geology.plot(column='k', legend=True)\n",
    "# riv.plot(ax=ax)"
   ]
  },
  {
   "cell_type": "code",
   "execution_count": 7,
   "id": "76ea68bc",
   "metadata": {},
   "outputs": [],
   "source": [
    "riv_divided = gp.GeoDataFrame({'geometry':rivsegs,'segname': [i+1+1000 for i in range(len(rivsegs))]},crs=riv.crs)  # _______\n",
    "riv_points = gp.GeoDataFrame({'geometry':rivpts,'ptname' : np.arange(len(rivpts))},crs=riv.crs)  # __________________________\n",
    "riv_points.to_csv(\"MF.Setup/07_riv_points.csv\")\n",
    "# ax=riv_divided.plot(column='segname', legend=True, figsize=(4,5))\n",
    "# riv_points.plot(column='ptname', ax=ax)"
   ]
  },
  {
   "cell_type": "code",
   "execution_count": 8,
   "id": "79a1ee82",
   "metadata": {},
   "outputs": [],
   "source": [
    "riv_divided ['from_id'] = [i+1000 for i in range(len(riv_divided))]\n",
    "riv_divided.loc[0, 'from_id'] = 0\n",
    "riv_divided ['to_id'] = [i+2+1000 for i in range(len(riv_divided))]\n",
    "riv_divided.loc[9, 'to_id'] = 0\n",
    "riv_divided['streamwid'] = 15                                             #  width\n",
    "\n",
    "riv_divided.to_csv(\"MF.Setup/08a_riv_divided.csv\")                        # riv_divided\n",
    "riv_divided.to_file(datapath / 'shp' / 'River_Lambro_segmented.shp')\n",
    "riv_divided.to_file('MF.Setup/08b_River_Lambro_segmented.shp')            # ___________ * shp"
   ]
  },
  {
   "cell_type": "code",
   "execution_count": 9,
   "id": "4ff6b8b6",
   "metadata": {},
   "outputs": [
    {
     "data": {
      "text/plain": [
       "'MF.Setup/11_Bott_L3_fix.tif'"
      ]
     },
     "execution_count": 9,
     "metadata": {},
     "output_type": "execute_result"
    }
   ],
   "source": [
    "#with rasterio.open(datapath/ 'raster' / 'DTM_domain.tif') as src:\n",
    "#    modtop = src.read(1)\n",
    "#with rasterio.open(datapath/ 'raster' / 'Bott_L1_fix.tif') as src:\n",
    "#    bot1 = src.read(1)\n",
    "with rasterio.open(datapath/ 'raster' / 'Bott_L2_fix.tif') as src:\n",
    "    bot2 = src.read(1)        # _____________________________________________plt.imshow(bot1) # plt.colorbar()\n",
    "    \n",
    "bot2_rast = rasterio.open(datapath/ 'raster' / 'Bott_L2_fix.tif') \n",
    "meta_lay3 = bot2_rast.meta.copy()\n",
    "meta_lay3.update(compress='lzw') \n",
    "bot2_rast.close()\n",
    "\n",
    "bot3 = bot2-60.  #plt.imshow(bot3)   #plt.colorbar()\n",
    "with rasterio.open(datapath/ 'raster' / 'Bott_L3_fix.tif', 'w+', **meta_lay3) as ofp:\n",
    "    ofp.write_band(1, bot3)       # ________________________________________________________________________________________ *.d_tif\n",
    "with rasterio.open(datapath/ 'raster' / 'Bott_L3_fix.tif') as src:\n",
    "    bot3 = src.read(1)            # ________________________________________ # plt.imshow(bot3)    # plt.colorbar()      ___ *.tif     \n",
    "\n",
    "shutil.copy('../data/sgn/raster/Bott_L1_fix.tif', 'MF.Setup/09_Bott_L1_fix.tif')\n",
    "shutil.copy('../data/sgn/raster/Bott_L2_fix.tif', 'MF.Setup/10_Bott_L2_fix.tif')\n",
    "shutil.copy('../data/sgn/raster/Bott_L3_fix.tif', 'MF.Setup/11_Bott_L3_fix.tif')"
   ]
  },
  {
   "cell_type": "markdown",
   "id": "a9f0fa9e-9502-442c-8934-ca8970dedf4e",
   "metadata": {},
   "source": [
    "### **Stream OBS**"
   ]
  },
  {
   "cell_type": "code",
   "execution_count": 10,
   "id": "a4ea23d3-b71b-4859-8ee6-a0875071c74b",
   "metadata": {},
   "outputs": [],
   "source": [
    "rivfile = str(datapath / 'shp' / 'River_Lambro_segmented.shp')                    \n",
    "inriv = gp.read_file(rivfile)                                           # Segment identification \n",
    "inriv['obsname'] = [f'seg_{i}' for i in inriv.segname]\n",
    "inriv.head()\n",
    "rivsegfile = str(datapath / 'csv' / 'river_segments.csv')\n",
    "inriv[['segname', 'obsname']].to_csv(rivsegfile)\n",
    "riv_points.to_csv(\"MF.Setup/12_SFR_points.csv\")"
   ]
  },
  {
   "cell_type": "markdown",
   "id": "05573cbf",
   "metadata": {},
   "source": [
    "# **Wells**"
   ]
  },
  {
   "cell_type": "code",
   "execution_count": 11,
   "id": "8abae0b7",
   "metadata": {},
   "outputs": [],
   "source": [
    "wells = gp.read_file(datapath / 'shp' / 'wells.shp')   # ax = domain.plot(facecolor=\"none\", edgecolor='black')         \n",
    "wells.to_csv(\"MF.Setup/13_a_Wells.csv\")                # wells.columns           # wells.plot( ax=ax)\n",
    "wells.WellName = wells.WellName.apply(lambda x: x.lower())\n",
    "\n",
    "well_metadata = pd.read_csv(datapath / 'wells_with_elev.dat', index_col=0)       # _________________________ # *.dat\n",
    "well_metadata.to_csv(\"MF.Setup/14_b_Wells.csv\")                                  # len(well_metadata)        # well_metadata.head()\n",
    "well_metadata = well_metadata.loc[well_metadata.q != 0]                          # q = 0  supressing         # len(well_metadata)\n",
    "well_metadata.head()\n",
    "well_metadata.to_csv(\"MF.Setup/15_c_Wells.csv\")"
   ]
  },
  {
   "cell_type": "markdown",
   "id": "905bb4ce",
   "metadata": {},
   "source": [
    "### **OBS & pumping data**"
   ]
  },
  {
   "cell_type": "code",
   "execution_count": 12,
   "id": "bde5415d",
   "metadata": {},
   "outputs": [],
   "source": [
    "well_data = well_metadata.merge(wells[['X','Y','WellName']], left_on='rootname', right_on='WellName')    # rootname | Wellname\n",
    "well_data = well_data.rename(columns = {'X':'x', 'Y':'y', 'laytop':'screen_top', 'laybot':'screen_botm'})\n",
    "well_data['datetime'] = '2021-01-01'                                 \n",
    "well_data['enddatetime'] = '2022-12-31'\n",
    "well_data.to_csv(\"MF.Setup/16_d_Wells_data_pump.csv\")      # well_data.head()  "
   ]
  },
  {
   "cell_type": "markdown",
   "id": "2b143467",
   "metadata": {},
   "source": [
    "### **Barrier well**"
   ]
  },
  {
   "cell_type": "code",
   "execution_count": 13,
   "id": "d62a695b",
   "metadata": {},
   "outputs": [
    {
     "ename": "NameError",
     "evalue": "name 'modtop' is not defined",
     "output_type": "error",
     "traceback": [
      "\u001b[1;31m---------------------------------------------------------------------------\u001b[0m",
      "\u001b[1;31mNameError\u001b[0m                                 Traceback (most recent call last)",
      "Cell \u001b[1;32mIn[13], line 5\u001b[0m\n\u001b[0;32m      3\u001b[0m DTM_raster\u001b[38;5;241m=\u001b[39m rasterio\u001b[38;5;241m.\u001b[39mopen(datapath\u001b[38;5;241m/\u001b[39m \u001b[38;5;124m'\u001b[39m\u001b[38;5;124mraster\u001b[39m\u001b[38;5;124m'\u001b[39m \u001b[38;5;241m/\u001b[39m \u001b[38;5;124m'\u001b[39m\u001b[38;5;124mDTM_domain.tif\u001b[39m\u001b[38;5;124m'\u001b[39m)\n\u001b[0;32m      4\u001b[0m rDTM,cDTM \u001b[38;5;241m=\u001b[39m DTM_raster\u001b[38;5;241m.\u001b[39mindex(x_barrier, y_barrier)\n\u001b[1;32m----> 5\u001b[0m DTM_barrier \u001b[38;5;241m=\u001b[39m \u001b[43mmodtop\u001b[49m[rDTM,cDTM]\n\u001b[0;32m      7\u001b[0m Lay1_raster\u001b[38;5;241m=\u001b[39m rasterio\u001b[38;5;241m.\u001b[39mopen(datapath\u001b[38;5;241m/\u001b[39m \u001b[38;5;124m'\u001b[39m\u001b[38;5;124mraster\u001b[39m\u001b[38;5;124m'\u001b[39m \u001b[38;5;241m/\u001b[39m \u001b[38;5;124m'\u001b[39m\u001b[38;5;124mBott_L1_fix.tif\u001b[39m\u001b[38;5;124m'\u001b[39m)\n\u001b[0;32m      8\u001b[0m rLay1,cLay1 \u001b[38;5;241m=\u001b[39m Lay1_raster\u001b[38;5;241m.\u001b[39mindex(x_barrier, y_barrier)\n",
      "\u001b[1;31mNameError\u001b[0m: name 'modtop' is not defined"
     ]
    }
   ],
   "source": [
    "x_barrier, y_barrier = 1519614, 5031870\n",
    "\n",
    "DTM_raster= rasterio.open(datapath/ 'raster' / 'DTM_domain.tif')\n",
    "rDTM,cDTM = DTM_raster.index(x_barrier, y_barrier)\n",
    "DTM_barrier = modtop[rDTM,cDTM]\n",
    "\n",
    "Lay1_raster= rasterio.open(datapath/ 'raster' / 'Bott_L1_fix.tif')\n",
    "rLay1,cLay1 = Lay1_raster.index(x_barrier, y_barrier)\n",
    "bot1_barrier = bot1[rLay1,cLay1]\n",
    "\n",
    "rasterio.transform.rowcol(Lay1_raster.transform, x_barrier, y_barrier)       # must read unique coordinates"
   ]
  },
  {
   "cell_type": "code",
   "execution_count": null,
   "id": "7ba9cb2e",
   "metadata": {},
   "outputs": [],
   "source": [
    "well_no_pumping = well_data.loc[well_data.q == 0].copy()\n",
    "well_no_pumping.loc[:,'screen_botm'] = -300            # set an arbitrarily low    # elevation for the screen bottom\n",
    "well_no_pumping.index = range(len(well_no_pumping))\n",
    "well_no_pumping[['q','x','y','boundname','screen_top','screen_botm', 'enddatetime','datetime','laymidpt']].to_csv(datapath / 'wells_zero.csv')\n",
    "well_data_2 = well_data.loc[well_data.q != 0].copy()\n",
    "well_data_2.loc[:,'datetime'] = '2022-01-01'\n",
    "\n",
    "well_data = pd.concat((well_data,well_data_2))  # ____________concat ______________ append \n",
    "well_data.to_csv(\"MF.Setup/05d_Wells_data_pump.csv\")  "
   ]
  },
  {
   "cell_type": "markdown",
   "id": "e703b936-520e-40a4-bccc-83436c7a4d12",
   "metadata": {},
   "source": [
    "# **This trouble needs revision** "
   ]
  },
  {
   "cell_type": "code",
   "execution_count": null,
   "id": "e147b014-f887-4830-a676-9e84aabab19a",
   "metadata": {},
   "outputs": [],
   "source": [
    "well_data = well_data.append(pd.DataFrame({'cellid':[np.nan],'q':[-30/1000],'x':[x_barrier],'y':[y_barrier],\n",
    "                              'boundname':['barrier'],'screen_top':[DTM_barrier],'screen_botm':[bot1_barrier],\n",
    "                              'datetime':['2022-01-01'],'enddatetime':['2022-12-31'],\n",
    "                              'laymidpt':[np.mean((DTM_barrier, bot1_barrier))],'layer':[0],'cell':[np.nan],'WellName':['barrier']}))\n",
    "# _______________             'laymidpt':[np.mean((DTM_barrier, bot1_barrier))],'layer':[0],'cell':[np.nan],'WellName':['barrier']}))\n",
    "well_data.to_csv(\"MF.Setup/05e_ERR_Wells_BArrier.csv\")  "
   ]
  },
  {
   "cell_type": "code",
   "execution_count": null,
   "id": "00c3e505",
   "metadata": {},
   "outputs": [],
   "source": [
    "well_data.to_csv(\"10_Wells_data_pump____________.csv\")    # ______________________________err\n",
    "well_data[['q','x','y','boundname','screen_top','screen_botm', 'enddatetime',\n",
    "                   'datetime','laymidpt']].to_csv(datapath / 'wells_nonzero.csv')\n",
    "well_data.to_csv(\"10_Wells_data_pump____________.csv\")"
   ]
  },
  {
   "cell_type": "raw",
   "id": "5942228a-c6b7-4829-90f0-7d6b42f413d2",
   "metadata": {},
   "source": [
    "rivpts *** = [Point(i) for i in riv1.coords]\n",
    "newpt = Point(rivpts[0].coords[0][0],rivpts[0].coords[0][1]+150)           # _______ starting point outside the domain  \n",
    "rivpts***.insert(0,newpt)                                                      \n",
    "newpt = Point(rivpts[-1].coords[0][0]+150,rivpts[-1].coords[0][1]-150)     # _______ ending point each outside the domain\n",
    "\n",
    "rivpts.append(newpt *** )  \n",
    "\n",
    "rivsegs = []\n",
    "totpts = len(rivpts *** )/10 \n",
    "previous_seg = 0\n",
    "for i in range(1,10):\n",
    "    tmppts = rivpts *** [previous_seg:int(i*totpts)]\n",
    "    previous_seg = int(i*totpts)-1\n",
    "    rivsegs.append(LineString(zip([c.coords[0][0] for c in tmppts],[c.coords[0][1] for c in tmppts])))\n",
    "tmppts = rivpts *** [previous_seg:-1]\n",
    "rivsegs.append(LineString(zip([c.coords[0][0] for c in tmppts],[c.coords[0][1] for c in tmppts])))"
   ]
  },
  {
   "cell_type": "markdown",
   "id": "6653bddf",
   "metadata": {},
   "source": [
    "# **Config_data**"
   ]
  },
  {
   "cell_type": "raw",
   "id": "4460971f-641e-41a0-b61d-1ca6e896ae76",
   "metadata": {},
   "source": [
    "config_data['simulation']            = dict() 1 \n",
    "config_data['model']                 = dict() 2\n",
    "config_data['intermediate_data']     = dict() 3\n",
    "config_data['setup_grid']            = dict() 4\n",
    "config_data['dis']                   = dict() 5\n",
    "config_data['dis']['dimensions']     = dict() 6\n",
    "config_data['dis']['griddata']       = dict() 7             \n",
    "config_data['dis']['options']        = dict() 8             \n",
    "config_data['dis']['source_data']    = dict() 9\n",
    "config_data['tdis']                  = dict() 10\n",
    "config_data['ic']                    = dict() 11\n",
    "config_data['wel']                   = dict() 12\n",
    "config_data['oc']                    = dict() 13\n",
    "config_data['npf']                   = dict() 14\n",
    "config_data['rch']                   = dict() 15\n",
    "config_data['sfr']                   = dict() 16\n",
    "config_data['ims']                   = dict() 17\n",
    "config_data['obs']                   = dict() 18"
   ]
  },
  {
   "cell_type": "markdown",
   "id": "9bbfc882-0ae7-4ee0-a382-998ba689fc6f",
   "metadata": {},
   "source": [
    "## **Extra**"
   ]
  },
  {
   "cell_type": "raw",
   "id": "c1e7211c-da9d-4b22-a229-1148a42e144f",
   "metadata": {},
   "source": [
    "x,y = domain.geometry[0].exterior.coords.xy\n",
    "xul, yul = x[np.argmin(x)],y[np.argmin(x)]\n",
    "xtop, ytop = x[np.argmax(y)],y[np.argmax(y)]\n",
    "xll, yll = x[np.argmin(y)],y[np.argmin(y)]\n",
    "xlr,ylr = x[np.argmax(x)],y[np.argmax(x)]\n",
    "\n",
    "ax = domain.plot(color=None)\n",
    "ax.plot(xul,yul, 'x', ms=12)    # x mark\n",
    "ax.plot(xtop,ytop, 'o', ms=12)  # circle mark\n",
    "ax.plot(xll,yll,'*', ms=12)     # star mark\n",
    "ax.plot(xlr,ylr,'d', ms=12)     # diamond mark\n",
    "\n",
    "opp_over_hyp = np.abs(ytop-yul)/np.sqrt((xtop-xul)**2+(ytop-yul)**2)\n",
    "# opp_over_hyp\n",
    "theta = np.arcsin(opp_over_hyp)\n",
    "theta = float(theta * 180/np.pi)\n",
    "# theta\n",
    "length = np.round(np.sqrt((xll-xul)**2+(yll-yul)**2), decimals=-1)\n",
    "# length\n",
    "width = np.round(np.sqrt((xll-xlr)**2+(yll-ylr)**2), decimals=-1)\n",
    "# width"
   ]
  },
  {
   "cell_type": "markdown",
   "id": "94fd87eb-bb7c-4306-8252-74fa4f2f04f6",
   "metadata": {},
   "source": [
    "## **Recharge**"
   ]
  },
  {
   "cell_type": "code",
   "execution_count": null,
   "id": "5faa5968-f6f4-476d-be07-c314621f3a58",
   "metadata": {},
   "outputs": [],
   "source": [
    "rch = gp.read_file(datapath / 'shp' / 'Recharge_4.shp')\n",
    "rch.to_csv(\"MF.Setup/01_rch.csv\")\n",
    "rch.to_csv('MF.Setup/01_rch.dat')    # rhc.tail()   # rch.plot(column = 'RCH_mmy', legend=True)   # rch.columns"
   ]
  },
  {
   "cell_type": "code",
   "execution_count": null,
   "id": "3e6703ad-57b7-4ec9-980a-2c200b2bb7be",
   "metadata": {},
   "outputs": [],
   "source": [
    "rchpolygons = ((geom,value) for geom, value in zip(rch.geometry, rch.RCH_mmy))        #-1   #-2    # ______ of rch.shp\n",
    "with rasterio.open(datapath/ 'raster' / 'rch.tif', 'w+', **rastermeta) as ofp:        #_______________________________      \n",
    "    out_arr = ofp.read(1)  #________________________________________________________________________________________\n",
    "    rchraster = features.rasterize(shapes=rchpolygons, fill=-9999, out=out_arr, transform=ofp.transform)\n",
    "    ofp.write_band(1,rchraster)"
   ]
  },
  {
   "cell_type": "code",
   "execution_count": null,
   "id": "e2a80564-4d05-491c-9451-3b3675fb7047",
   "metadata": {},
   "outputs": [],
   "source": [
    "with rasterio.open(datapath/ 'raster' / 'rch.tif') as src:   # just confirm, BUT SET..... rch\n",
    "    rch = src.read(1)\n",
    "rch[rch<-1] = np.nan         # plt.imshow(rch)        # plt.colorbar()"
   ]
  }
 ],
 "metadata": {
  "kernelspec": {
   "display_name": "Python 3 (ipykernel)",
   "language": "python",
   "name": "python3"
  },
  "language_info": {
   "codemirror_mode": {
    "name": "ipython",
    "version": 3
   },
   "file_extension": ".py",
   "mimetype": "text/x-python",
   "name": "python",
   "nbconvert_exporter": "python",
   "pygments_lexer": "ipython3",
   "version": "3.11.11"
  }
 },
 "nbformat": 4,
 "nbformat_minor": 5
}
