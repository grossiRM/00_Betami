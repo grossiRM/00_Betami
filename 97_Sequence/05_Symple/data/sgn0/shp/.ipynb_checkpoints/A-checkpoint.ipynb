{
 "cells": [
  {
   "cell_type": "code",
   "execution_count": null,
   "id": "b7496e2c-8cce-4f2f-ab62-bb149ce7492c",
   "metadata": {},
   "outputs": [],
   "source": [
    "pip install pandas\n",
    "pip install pyshp"
   ]
  },
  {
   "cell_type": "code",
   "execution_count": 1,
   "id": "2b79c03c-31ce-49c7-a57f-3c35ef94f011",
   "metadata": {},
   "outputs": [],
   "source": [
    "import shapefile\n",
    "import pandas as pd\n"
   ]
  },
  {
   "cell_type": "code",
   "execution_count": 1,
   "id": "508c65ed-d68d-4073-9ad8-8afa8841284d",
   "metadata": {},
   "outputs": [
    {
     "ename": "NameError",
     "evalue": "name 'shapefile' is not defined",
     "output_type": "error",
     "traceback": [
      "\u001b[1;31m---------------------------------------------------------------------------\u001b[0m",
      "\u001b[1;31mNameError\u001b[0m                                 Traceback (most recent call last)",
      "Cell \u001b[1;32mIn[1], line 1\u001b[0m\n\u001b[1;32m----> 1\u001b[0m sf \u001b[38;5;241m=\u001b[39m \u001b[43mshapefile\u001b[49m\u001b[38;5;241m.\u001b[39mReader(\u001b[38;5;124m'\u001b[39m\u001b[38;5;124m.\u001b[39m\u001b[38;5;124m\\\u001b[39m\u001b[38;5;124mRiver_stages_polyline.shp\u001b[39m\u001b[38;5;124m'\u001b[39m)\n",
      "\u001b[1;31mNameError\u001b[0m: name 'shapefile' is not defined"
     ]
    }
   ],
   "source": [
    "sf = shapefile.Reader('.\\River_stages_polyline.shp')"
   ]
  },
  {
   "cell_type": "code",
   "execution_count": null,
   "id": "4f4ccd85-5549-4144-8eb0-90d94b2cdb6f",
   "metadata": {},
   "outputs": [],
   "source": [
    "fields = [x[0] for x in sf.fields][1:]\n",
    "records = sf.records()\n",
    "shps = [s.points for s in sf.shapes()]\n",
    "\n",
    "#write into a dataframe\n",
    "df = pd.DataFrame(columns=fields, data=records)\n",
    "df = df.assign(coords=shps)\n",
    "df.to_csv('output.csv', index=False)"
   ]
  },
  {
   "cell_type": "code",
   "execution_count": null,
   "id": "82b8669b-bd2d-4303-91cb-f1a7dd3f50b9",
   "metadata": {},
   "outputs": [],
   "source": [
    "https://github.com/fmooraby/Shapefile2Excel"
   ]
  }
 ],
 "metadata": {
  "jupytext": {
   "notebook_metadata_filter": "metadata"
  },
  "kernelspec": {
   "display_name": "Python 3 (ipykernel)",
   "language": "python",
   "name": "python3"
  },
  "language_info": {
   "codemirror_mode": {
    "name": "ipython",
    "version": 3
   },
   "file_extension": ".py",
   "mimetype": "text/x-python",
   "name": "python",
   "nbconvert_exporter": "python",
   "pygments_lexer": "ipython3",
   "version": "3.11.11"
  },
  "metadata": {
   "section": "mf2005"
  }
 },
 "nbformat": 4,
 "nbformat_minor": 5
}
