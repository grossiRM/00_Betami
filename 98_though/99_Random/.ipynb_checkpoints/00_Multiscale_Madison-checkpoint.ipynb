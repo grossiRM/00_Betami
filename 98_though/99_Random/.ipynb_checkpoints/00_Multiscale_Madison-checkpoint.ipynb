{
 "cells": [
  {
   "cell_type": "code",
   "execution_count": 1,
   "metadata": {},
   "outputs": [],
   "source": [
    "import flopy ; import sys ; import pathlib ; import os ; import time ; import numpy as np ; import matplotlib.pyplot as plt "
   ]
  },
  {
   "cell_type": "code",
   "execution_count": 2,
   "metadata": {},
   "outputs": [
    {
     "name": "stdout",
     "output_type": "stream",
     "text": [
      "E:\\15_REPOS\\00_BETAMI\\bin\\mf2005\n",
      "E:\\15_REPOS\\00_BETAMI\\bin\\mt3d-usgs_1.1.0_64\n",
      "E:\\15_REPOS\\00_BETAMI\\98_though\n",
      "E:\\15_REPOS\\00_BETAMI\\98_though\n"
     ]
    }
   ],
   "source": [
    "# Path to MODFLOW executable, probably called 'mf2005'\n",
    "exe_name_mf = 'E:\\\\15_REPOS\\\\00_BETAMI\\\\bin\\\\mf2005'\n",
    "# Print to make sure it is formated correctly\n",
    "print(exe_name_mf)\n",
    "# Path to MT3D-USGS executable, probably called 'mt3dms'\n",
    "exe_name_mt = 'E:\\\\15_REPOS\\\\00_BETAMI\\\\bin\\\\mt3d-usgs_1.1.0_64'\n",
    "# Print to make sure it is formated correctly\n",
    "print(exe_name_mt)\n",
    "\n",
    "# This should return a path to your current working directory\n",
    "current_directory = os.getcwd()\n",
    "print(current_directory)\n",
    "\n",
    "# if this is not where you want to save stuff then change your directory using 'os.chdir()'\n",
    "# if this is not where you want to save stuff then change your directory using 'os.chdir()'\n",
    "# define path\n",
    "path = pathlib.Path('E:\\\\15_REPOS\\\\00_BETAMI\\\\98_though')\n",
    "# if folder doesn't exist then make it \n",
    "path.mkdir(parents=True, exist_ok=True)\n",
    "# set working directory to this new folder\n",
    "os.chdir(path)\n",
    "current_directory = os.getcwd()\n",
    "print(current_directory)"
   ]
  },
  {
   "cell_type": "code",
   "execution_count": 3,
   "metadata": {},
   "outputs": [
    {
     "name": "stdout",
     "output_type": "stream",
     "text": [
      "Directory '.\\multiscale_heterogeneity_illustration' created\n"
     ]
    }
   ],
   "source": [
    "# now lets give a name to the directory to save data, this directory should be present in your \n",
    "# current working directory (but if it's not don't worry!)\n",
    "directory_name = 'multiscale_heterogeneity_illustration'\n",
    "# Let's add that to the path of the current directory\n",
    "workdir = os.path.join('.', directory_name)\n",
    "\n",
    "# if the path exists then we will move on, if not then create a folder with the 'directory_name'\n",
    "if os.path.isdir(workdir) is False:\n",
    "    os.mkdir(workdir) \n",
    "print(\"Directory '% s' created\" % workdir) \n",
    "# directory to save data\n",
    "datadir = os.path.join('..', directory_name, 'mt3d_test', 'mt3dms')"
   ]
  },
  {
   "cell_type": "raw",
   "metadata": {},
   "source": [
    "kdata_m2 = np.loadtxt(data_file_with_path1, delimiter=',')               ; nrow = int(kdata_m2[-2]) ;  ncol = int(kdata_m2[-1]) ; \n",
    "print('Number of rows (nrow) = ' + str(nrow))                            ; print('Number of columns (ncol)  = ' + str(ncol))\n",
    "kdata_m2 = kdata_m2[0:-2] ;  rawk_m2 = kdata_m2.reshape(1, nrow, ncol)   ; real1_cmsec = rawk_m2*(1000*9.81*3600*24/8.9E-4)  # m/d\n",
    "df = real1_cmsec[0,:,:] ; np.savetxt(output_folder /\"d.csv\", df, delimiter=\",\")"
   ]
  },
  {
   "cell_type": "raw",
   "metadata": {},
   "source": [
    "kdata_m4 = np.loadtxt(data_file_with_path4, delimiter=',')    ; nrow4 = str(kdata_m4[-2]); nrow4   # 18 .. 240"
   ]
  },
  {
   "cell_type": "code",
   "execution_count": 4,
   "metadata": {},
   "outputs": [],
   "source": [
    "def plot_2d(map_data, dx, dy, colorbar_label, title, cmap):\n",
    "    r, c = np.shape(map_data)                   ; x_coord = np.linspace(0, dx*c, c+1)   ; y_coord = np.linspace(0, dy*r, r+1)\n",
    "    X, Y = np.meshgrid(x_coord, y_coord)        ; plt.figure(figsize=(6, 2), dpi=100) \n",
    "    plt.pcolormesh(X, Y, map_data, cmap=cmap, shading = 'auto') ; plt.gca().set_aspect('equal')  ; cbar = plt.colorbar() \n",
    "    cbar.set_label(colorbar_label) ; plt.tick_params(axis='both', which='major') ; plt.xlim((0, dx*c)) ; plt.ylim((0, dy*r)); plt.title(title)\n",
    "    \n",
    "def coarsen_geomean(array2d, coarseness):\n",
    "    array_size = array2d.shape          ; rem0 = array_size[0] % coarseness    ; rem1 = array_size[1] % coarseness\n",
    "    if rem0 + rem1 > 0:\n",
    "        raise NameError('array is not divisible by coarseness factor')\n",
    "    coarse_array = np.zeros([int(array_size[0]/coarseness), int(array_size[1]/coarseness)])\n",
    "    n = coarseness**2  ; rind = 0\n",
    "    for i in range(0, array_size[0], coarseness):\n",
    "        cind = 0\n",
    "        for j in range(0, array_size[1], coarseness):\n",
    "            geo_mean_cell = np.exp(np.sum(np.log(array2d[ i:i + coarseness, j:j + coarseness] ))/n)\n",
    "            coarse_array[rind, cind] = geo_mean_cell\n",
    "            cind += 1\n",
    "        rind +=1\n",
    "    return coarse_array"
   ]
  },
  {
   "cell_type": "raw",
   "metadata": {},
   "source": [
    "df = np.ones([nrow, ncol]) ; np.savetxt(output_folder /\"e1.csv\", df, delimiter=\",\")"
   ]
  },
  {
   "cell_type": "code",
   "execution_count": null,
   "metadata": {},
   "outputs": [],
   "source": [
    "geo_mean     = np.exp(np.sum ( np.log(real1_cmsec) ) / real1_cmsec.size ) * np.ones([1, nrow, ncol])\n",
    "real1_4x     = coarsen_geomean(real1_cmsec[0,:,:], 1)   ; cnrowA, cncolA = real1_4x.shape; print(cnrowA, cncolA)\n",
    "real1_12x    = coarsen_geomean(real1_cmsec[0,:,:], 12)  ; cnrowB, cncolB = real1_12x.shape\n",
    "real1_4x_3d  = real1_4x.reshape(1, cnrowA, cncolA)        ; plot_2d ( real1_4x_3d[0,:,:],4,4, '[m/day]' , 'coarsen_geomean 1 (no)    ', 'viridis')\n",
    "real1_12x_3d = real1_12x.reshape(1, cnrowB, cncolB)       ; plot_2d ( real1_12x_3d[0,:,:],1,1, '[m/day]', 'coarsen_geomean factor 12 ', 'viridis')"
   ]
  },
  {
   "cell_type": "raw",
   "metadata": {},
   "source": [
    "coarsen_factor = 1          ;  nlay, ncol = real1_4x.shape           ; nrow = 1 ;    nlay, ncol"
   ]
  },
  {
   "cell_type": "raw",
   "metadata": {},
   "source": [
    "type(nlay)"
   ]
  },
  {
   "cell_type": "code",
   "execution_count": null,
   "metadata": {},
   "outputs": [],
   "source": [
    "perlen_mt = [7, 3*365]           ; al = 1  ;       itmuni   = 4  ; mt_tunit = 'D'                ; lenuni = 2        ; mt_lunit = 'M'   \n",
    "perlen_mf = [np.sum(perlen_mt)]  ; nper_mf  = len(perlen_mf)     ; nper   = len(perlen_mt)       ; nprs     = 100    \n",
    "delv      = 0.25*coarsen_factor  ; delr = 0.25*coarsen_factor    ; delc = 1*coarsen_factor       #______________________ coarsen_factor\n",
    "laytyp = 0                       ; Lx = (ncol - 1) * delr        ; prsity = 0.3"
   ]
  },
  {
   "cell_type": "code",
   "execution_count": null,
   "metadata": {},
   "outputs": [],
   "source": [
    "timprs = np.linspace(0, np.sum(perlen_mf), nprs, endpoint = False)\n",
    "ibound = np.ones((nlay, nrow, ncol) , dtype=int) ; print(ibound.shape)          ; ibound[0,:,0]= -1 ; ibound[0,:,-1] = -1 \n",
    "ibound = ibound[:,:,0]; np.savetxt(output_folder /\"f_ibound.csv\", ibound, delimiter=\",\")"
   ]
  },
  {
   "cell_type": "code",
   "execution_count": null,
   "metadata": {},
   "outputs": [],
   "source": [
    "\n",
    "\n",
    "strt   = np.zeros((nlay, nrow, ncol), dtype=float) ; h1 = 1.5    ; strt  [0,:,0]= h1      ; print(\"H diff across model: \" + str(h1) + \"m\")\n",
    "icbund = np.ones((nlay, nrow, ncol) , dtype=int)\n",
    "sconc  = np.zeros((nlay, nrow, ncol), dtype=float)               ; C_in = [1.0, 0.0]      ; itype = -1\n",
    "\n",
    "cwell_info = np.zeros((nrow, 5), dtype=float)                    \n",
    "for row in range(0, nrow):\n",
    "    cwell_info[row] = [0, row, 0, C_in[0], itype] \n",
    "cwell_info2         = cwell_info.copy()   \n",
    "cwell_info2[:,3]    = C_in[1]                ; spd_mt = {0:cwell_info, 1:cwell_info2}                    "
   ]
  },
  {
   "cell_type": "code",
   "execution_count": 5,
   "metadata": {},
   "outputs": [
    {
     "name": "stderr",
     "output_type": "stream",
     "text": [
      "C:\\Users\\gross.DESKTOP-AIRQM2M\\anaconda3\\Lib\\site-packages\\executing\\executing.py:713: DeprecationWarning: ast.Str is deprecated and will be removed in Python 3.14; use ast.Constant instead\n",
      "  right=ast.Str(s=sentinel),\n",
      "C:\\Users\\gross.DESKTOP-AIRQM2M\\anaconda3\\Lib\\site-packages\\executing\\executing.py:713: DeprecationWarning: ast.Str is deprecated and will be removed in Python 3.14; use ast.Constant instead\n",
      "  right=ast.Str(s=sentinel),\n",
      "C:\\Users\\gross.DESKTOP-AIRQM2M\\anaconda3\\Lib\\ast.py:587: DeprecationWarning: Attribute s is deprecated and will be removed in Python 3.14; use value instead\n",
      "  return Constant(*args, **kwargs)\n",
      "C:\\Users\\gross.DESKTOP-AIRQM2M\\anaconda3\\Lib\\site-packages\\executing\\executing.py:713: DeprecationWarning: ast.Str is deprecated and will be removed in Python 3.14; use ast.Constant instead\n",
      "  right=ast.Str(s=sentinel),\n",
      "C:\\Users\\gross.DESKTOP-AIRQM2M\\anaconda3\\Lib\\ast.py:587: DeprecationWarning: Attribute s is deprecated and will be removed in Python 3.14; use value instead\n",
      "  return Constant(*args, **kwargs)\n"
     ]
    },
    {
     "ename": "NameError",
     "evalue": "name 'model_ws' is not defined",
     "output_type": "error",
     "traceback": [
      "\u001b[1;31m---------------------------------------------------------------------------\u001b[0m",
      "\u001b[1;31mNameError\u001b[0m                                 Traceback (most recent call last)",
      "Cell \u001b[1;32mIn[5], line 1\u001b[0m\n\u001b[1;32m----> 1\u001b[0m mf \u001b[38;5;241m=\u001b[39m flopy\u001b[38;5;241m.\u001b[39mmodflow\u001b[38;5;241m.\u001b[39mModflow     (modelname\u001b[38;5;241m=\u001b[39m\u001b[38;5;124m'\u001b[39m\u001b[38;5;124ma1_mf\u001b[39m\u001b[38;5;124m'\u001b[39m, model_ws\u001b[38;5;241m=\u001b[39mmodel_ws, exe_name\u001b[38;5;241m=\u001b[39mexe_name_mf)\n\u001b[0;32m      2\u001b[0m dis \u001b[38;5;241m=\u001b[39m flopy\u001b[38;5;241m.\u001b[39mmodflow\u001b[38;5;241m.\u001b[39mModflowDis (mf, nlay\u001b[38;5;241m=\u001b[39mnlay, nrow\u001b[38;5;241m=\u001b[39mnrow, ncol\u001b[38;5;241m=\u001b[39mncol, nper\u001b[38;5;241m=\u001b[39mnper_mf,delr\u001b[38;5;241m=\u001b[39mdelr, delc\u001b[38;5;241m=\u001b[39mdelc, top\u001b[38;5;241m=\u001b[39m\u001b[38;5;241m0.\u001b[39m, botm\u001b[38;5;241m=\u001b[39m[\u001b[38;5;241m0\u001b[39m \u001b[38;5;241m-\u001b[39m delv],\n\u001b[0;32m      3\u001b[0m                                 perlen\u001b[38;5;241m=\u001b[39mperlen_mf, itmuni\u001b[38;5;241m=\u001b[39mitmuni, lenuni\u001b[38;5;241m=\u001b[39mlenuni)\n\u001b[0;32m      4\u001b[0m bas \u001b[38;5;241m=\u001b[39m flopy\u001b[38;5;241m.\u001b[39mmodflow\u001b[38;5;241m.\u001b[39mModflowBas (mf, ibound\u001b[38;5;241m=\u001b[39mibound, strt\u001b[38;5;241m=\u001b[39mstrt)\n",
      "\u001b[1;31mNameError\u001b[0m: name 'model_ws' is not defined"
     ]
    }
   ],
   "source": [
    "mf = flopy.modflow.Modflow     (modelname='a1_mf', model_ws=model_ws, exe_name=exe_name_mf)\n",
    "dis = flopy.modflow.ModflowDis (mf, nlay=nlay, nrow=nrow, ncol=ncol, nper=nper_mf,delr=delr, delc=delc, top=0., botm=[0 - delv],\n",
    "                                perlen=perlen_mf, itmuni=itmuni, lenuni=lenuni)\n",
    "bas = flopy.modflow.ModflowBas (mf, ibound=ibound, strt=strt)\n",
    "lpf = flopy.modflow.ModflowLpf (mf, hk=hk, laytyp=laytyp)\n",
    "pcg = flopy.modflow.ModflowPcg (mf)\n",
    "lmt = flopy.modflow.ModflowLmt (mf)\n",
    "oc = flopy.modflow.ModflowOc   (mf)  ; mf.write_input()      ; mf.run_model(silent=True)                  ; modelname_mt = dirname + '_mt'\n",
    "\n",
    "mt = flopy.mt3d.Mt3dms   (modelname='a1_mt', model_ws=model_ws, exe_name=exe_name_mt, modflowmodel=mf)  \n",
    "btn = flopy.mt3d.Mt3dBtn (mt, icbund=icbund, prsity=prsity, sconc=sconc, tunit=mt_tunit, lunit=mt_lunit, nper=nper, \n",
    "                         perlen=perlen_mt, nprs=nprs, timprs=timprs)          \n",
    "mixelm = -1\n",
    "adv = flopy.mt3d.Mt3dAdv (mt, mixelm=mixelm)\n",
    "dsp = flopy.mt3d.Mt3dDsp (mt, al=al)\n",
    "ssm = flopy.mt3d.Mt3dSsm (mt, stress_period_data=spd_mt)\n",
    "gcg = flopy.mt3d.Mt3dGcg (mt)                                          ; mt.write_input()  ;   mt.run_model(silent=True)\n"
   ]
  },
  {
   "cell_type": "code",
   "execution_count": null,
   "metadata": {},
   "outputs": [],
   "source": [
    "kdata_m2 = np.loadtxt(data_file_with_path1, delimiter=',')                 # perm_2d_correlat_10_md_500_var_n0101.csv\n",
    "nrow = int(kdata_m2[-2]) ;  ncol = int(kdata_m2[-1]) ; \n",
    "print('Number of rows in permeability map = ' + str(nrow))               ; print('Number of columns in permeability map = ' + str(ncol))\n",
    "kdata_m2 = kdata_m2[0:-2] ;  rawk_m2 = kdata_m2.reshape(1, nrow, ncol)   ; real1_cmsec = rawk_m2*(1000*9.81*3600*24/8.9E-4)  # m/d"
   ]
  },
  {
   "cell_type": "code",
   "execution_count": null,
   "metadata": {},
   "outputs": [],
   "source": [
    "def plot_2d(map_data, dx, dy, colorbar_label, title, cmap):\n",
    "    r, c = np.shape(map_data)                   ; x_coord = np.linspace(0, dx*c, c+1)   ; y_coord = np.linspace(0, dy*r, r+1)\n",
    "    X, Y = np.meshgrid(x_coord, y_coord)        ; plt.figure(figsize=(6, 2), dpi=100) \n",
    "    plt.pcolormesh(X, Y, map_data, cmap=cmap, shading = 'auto') ; plt.gca().set_aspect('equal')  ; cbar = plt.colorbar() \n",
    "    cbar.set_label(colorbar_label) ; plt.tick_params(axis='both', which='major') ; plt.xlim((0, dx*c)) ; plt.ylim((0, dy*r)); plt.title(title)\n",
    "    # plot_2d(real1_cmsec[0,:,:], 1, 1, '[m/day]', 'Realization 1 hydraulic conductivity', 'viridis')\n",
    "\n",
    "def coarsen_geomean(array2d, coarseness):\n",
    "    array_size = array2d.shape          ; rem0 = array_size[0] % coarseness    ; rem1 = array_size[1] % coarseness\n",
    "    if rem0 + rem1 > 0:\n",
    "        raise NameError('array is not divisible by coarseness factor')\n",
    "    coarse_array = np.zeros([int(array_size[0]/coarseness), int(array_size[1]/coarseness)])\n",
    "    n = coarseness**2  ; rind = 0\n",
    "    for i in range(0, array_size[0], coarseness):\n",
    "        cind = 0\n",
    "        for j in range(0, array_size[1], coarseness):\n",
    "            geo_mean_cell = np.exp(np.sum(np.log(array2d[ i:i + coarseness, j:j + coarseness] ))/n)\n",
    "            coarse_array[rind, cind] = geo_mean_cell\n",
    "            cind += 1\n",
    "        rind +=1\n",
    "    return coarse_array\n",
    "    \n",
    "geo_mean     = np.exp(np.sum(np.log(real1_cmsec))/real1_cmsec.size)*np.ones([1, nrow, ncol])\n",
    "real1_4x     = coarsen_geomean(real1_cmsec[0,:,:], 4)\n",
    "cnrow, cncol = real1_4x.shape\n",
    "real1_4x_3d  = real1_4x.reshape(1, cnrow, cncol)  ; plot_2d(real1_4x_3d[0,:,:], 4, 4, '[m/day]', 'Realization 1 coarsened K', 'viridis')\n",
    "real1_12x    = coarsen_geomean(real1_cmsec[0,:,:], 12)\n",
    "cnrow, cncol = real1_12x.shape\n",
    "real1_12x_3d = real1_12x.reshape(1, cnrow, cncol) ; plot_2d(real1_12x_3d[0,:,:],12,12,'[m/day]', 'Realization 1 coarsened K', 'viridis')"
   ]
  },
  {
   "cell_type": "code",
   "execution_count": null,
   "metadata": {},
   "outputs": [],
   "source": [
    "dirname = 'multiscale1'      ; perlen_mt = [7, 3*365]        ; al = 1\n",
    "mf, mt, times,     conc_hom  , heads       = model_2D(dirname, perlen_mt, geo_mean     , al, 1)\n",
    "mf, mt, times1,    conc1     , heads1      = model_2D(dirname, perlen_mt, real1_cmsec  , al, 1)\n",
    "mf, mt, times1c4,  conc_1c4  , heads_1c4   = model_2D(dirname, perlen_mt, real1_4x_3d  , al, 4)\n",
    "mf, mt, times1c12, conc_1c12 , heads_1c12  = model_2D(dirname, perlen_mt, real1_12x_3d , al, 12)"
   ]
  },
  {
   "cell_type": "code",
   "execution_count": null,
   "metadata": {},
   "outputs": [],
   "source": [
    "plot_2d(heads1[0,:,:], 1, 1,      '[m]',    'Realization 1 steady state heads', 'Blues')\n",
    "plot_2d(conc1[16,0,:,:], 1, 1,    '[C/C0]', 'Realization 1 concentration after 6 months', 'Reds')\n",
    "plot_2d(conc_1c4[16,0,:,:], 4, 4, '[C/C0]', 'Realization 1 concentration after 6 months', 'Reds')"
   ]
  },
  {
   "cell_type": "code",
   "execution_count": null,
   "metadata": {},
   "outputs": [],
   "source": [
    "C_btc_r1_geomean = np.mean([conc_hom[:, 0, :, -1]], axis=2)\n",
    "C_btc_r1 = np.mean([conc1[:, 0, :, -1]], axis=2)\n",
    "C_btc_r1c4 = np.mean([conc_1c4[:, 0, :, -1]], axis=2)\n",
    "C_btc_r1c12 = np.mean([conc_1c12[:, 0, :, -1]], axis=2)\n",
    "\n",
    "plt.figure(figsize=(6, 2), dpi=100) ; plt.plot(times, np.transpose(C_btc_r1_geomean), label='realization 1 geometric average')\n",
    "plt.plot(times, np.transpose(C_btc_r1), label='realization 1') ; plt.plot(times, np.transpose(C_btc_r1c4), label='realization 1, coarsened 4x')\n",
    "plt.plot(times, np.transpose(C_btc_r1c12), label='realization 1, coarsened 12x') ; plt.xlabel('Time [days]'); plt.legend()"
   ]
  },
  {
   "cell_type": "code",
   "execution_count": null,
   "metadata": {},
   "outputs": [],
   "source": [
    "kdata_m2_2  = np.loadtxt(data_file_with_path2, delimiter=',')  ;  kdata_m2_3  = np.loadtxt(data_file_with_path3, delimiter=',')\n",
    "\n",
    "kdata_m2_2  = kdata_m2_2[0:-2] ;    kdata_m2_2 = kdata_m2_2.reshape(1, nrow, ncol)\n",
    "real2_cmsec = kdata_m2_2*(1000*9.81*3600*24/8.9E-4)\n",
    "kdata_m2_3 = kdata_m2_3[0:-2]  ;   kdata_m2_3 = kdata_m2_3.reshape(1, nrow, ncol)\n",
    "real3_cmsec = kdata_m2_3*(1000*9.81*3600*24/8.9E-4)\n",
    "\n",
    "plot_2d(real2_cmsec[0,:,:], 1, 1, '[m/day]', 'Realization 2 hydraulic conductivity', 'viridis')\n",
    "plot_2d(real3_cmsec[0,:,:], 1, 1, '[m/day]', 'Realization 3 hydraulic conductivity', 'viridis')"
   ]
  },
  {
   "cell_type": "code",
   "execution_count": null,
   "metadata": {},
   "outputs": [],
   "source": [
    "mf, mt, times2, conc2, heads2 = model_2D(dirname, perlen_mt, real2_cmsec, al, 1)\n",
    "mf, mt, times3, conc3, heads3 = model_2D(dirname, perlen_mt, real3_cmsec, al, 1)"
   ]
  },
  {
   "cell_type": "code",
   "execution_count": null,
   "metadata": {},
   "outputs": [],
   "source": [
    "C_btc_r2 = np.mean([conc2[:, 0, :, -1]], axis=2)                #  uncoarsened\n",
    "C_btc_r3 = np.mean([conc3[:, 0, :, -1]], axis=2)                ;  plt.figure(figsize=(6, 2), dpi=100)\n",
    "plt.plot(times, np.transpose(C_btc_r1), label='realization 1')\n",
    "#plt.plot(times, np.transpose(C_btc_r2), label='realization 2')\n",
    "#plt.plot(times, np.transpose(C_btc_r3), label='realization 3')  ;  plt.xlabel('Time [days]')  ; plt.legend()"
   ]
  },
  {
   "cell_type": "markdown",
   "metadata": {},
   "source": [
    "Bonus function to generate random fields using the [gstools python toolbox](https://github.com/GeoStat-Framework/GSTools)."
   ]
  },
  {
   "cell_type": "code",
   "execution_count": null,
   "metadata": {},
   "outputs": [],
   "source": [
    "# function to generate 3D random permeability fields \n",
    "def perm_field_generation(log_mD, log_var, correlat_len, ycorrelat_len, nlay, nrow, ncol, angle):\n",
    "    x = np.arange(nlay)   ; y = np.arange(nrow)    ; z = np.arange(ncol)\n",
    "    model = gs.Exponential(dim=3, var=10**log_var, len_scale=[1.0, ycorrelat_len, correlat_len], angles=[0.0, 0.0, angle])\n",
    "    srf = gs.SRF(model)   #  srf = gs.SRF(model, seed=25300)\n",
    "    field = 10**(srf.structured([x, y, z]) + log_mD)\n",
    "    print('Geometric mean: ' + str(np.log10(np.max(field)/np.min(field))) + ' mD')\n",
    "    field_km2 = field*(9.869233E-13/1000)    # convert from mD to km^2\n",
    "    return field_km2"
   ]
  },
  {
   "cell_type": "raw",
   "metadata": {},
   "source": [
    "log_mD, log_var, correlat_len, ycorrelat_len, nlay, nrow, ncol, angle = perm_field_generation ()\n",
    "\n",
    "model_2D(dirname, perlen_mt, real2_cmsec, al, 1)"
   ]
  },
  {
   "cell_type": "code",
   "execution_count": null,
   "metadata": {},
   "outputs": [],
   "source": [
    "class Adder(object):\n",
    "    def __init__(self, num=0):\n",
    "        self.num = num\n",
    "    def __iadd__(self, other):\n",
    "        self.num = self.num * other\n",
    "        return self.num\n",
    "a = Adder(10)   ; a += 3  ; a    "
   ]
  }
 ],
 "metadata": {
  "kernelspec": {
   "display_name": "Python 3 (ipykernel)",
   "language": "python",
   "name": "python3"
  },
  "language_info": {
   "codemirror_mode": {
    "name": "ipython",
    "version": 3
   },
   "file_extension": ".py",
   "mimetype": "text/x-python",
   "name": "python",
   "nbconvert_exporter": "python",
   "pygments_lexer": "ipython3",
   "version": "3.12.7"
  }
 },
 "nbformat": 4,
 "nbformat_minor": 4
}
