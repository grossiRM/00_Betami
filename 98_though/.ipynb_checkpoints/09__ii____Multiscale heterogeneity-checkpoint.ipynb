{
 "cells": [
  {
   "cell_type": "code",
   "execution_count": 1,
   "metadata": {
    "jupyter": {
     "source_hidden": true
    }
   },
   "outputs": [
    {
     "name": "stdout",
     "output_type": "stream",
     "text": [
      "E:\\15_REPOS\\00_BETAMI\\98_though\n"
     ]
    }
   ],
   "source": [
    "import flopy; import sys; import pathlib; import os; import time; import numpy as np; import matplotlib.pyplot as plt\n",
    "import pandas as pd\n",
    "exe_name_mf = 'E:\\\\15_REPOS\\\\00_BETAMI\\\\bin\\\\mf2005'\n",
    "exe_name_mt = 'E:\\\\15_REPOS\\\\00_BETAMI\\\\bin\\\\mt3d-usgs_1.1.0_64'\n",
    "current_directory = os.getcwd();  print(current_directory)"
   ]
  },
  {
   "cell_type": "code",
   "execution_count": 2,
   "metadata": {},
   "outputs": [],
   "source": [
    "path = pathlib.Path('E:\\\\15_REPOS\\\\00_BETAMI\\\\98_though')\n",
    "path.mkdir(parents=True, exist_ok=True); os.chdir(path); current_directory = os.getcwd()\n",
    "directory_name = 'multiscale_heterogeneity_illustration'          ; workdir = os.path.join('.', directory_name)\n",
    "if os.path.isdir(workdir) is False:\n",
    "    os.mkdir(workdir) \n",
    "folder_w_datafile = ('E:\\\\15_REPOS\\\\00_BETAMI\\\\bin\\\\Madison')\n",
    "datafile_name1 = 'perm_2d_correlat_10_md_500_var_n0101.csv'       ; data_file_with_path1 = os.path.join(folder_w_datafile, datafile_name1)    \n",
    "datafile_name2 = 'perm_2d_correlat_10_md_500_var_n0102.csv'       ; data_file_with_path2 = os.path.join(folder_w_datafile, datafile_name2)             \n",
    "datafile_name3 = 'perm_2d_correlat_10_md_500_var_n0103.csv'       ; data_file_with_path3 = os.path.join(folder_w_datafile, datafile_name3)             "
   ]
  },
  {
   "cell_type": "code",
   "execution_count": 3,
   "metadata": {},
   "outputs": [],
   "source": [
    "def model_2D(dirname, perlen_mt, hk, al, coarsen_factor):\n",
    "    model_ws = os.path.join(workdir, dirname)                        ;  print(model_ws)\n",
    "\n",
    "    itmuni   = 4                     ; mt_tunit = 'D'                ; lenuni = 2                    ; mt_lunit = 'M'   \n",
    "    perlen_mf = [np.sum(perlen_mt)]  ; nper_mf  = len(perlen_mf)     ; nper   = len(perlen_mt)       ; nprs     = 100    ; hk_size  = hk.shape\n",
    "    nlay      = hk_size[0]           ; nrow = hk_size[1]             ; ncol = hk_size[2]             ; # botm=-np.linspace(delv,delv*nlay,nlay)\n",
    "    delv      = 0.25*coarsen_factor  ; delr = 0.25*coarsen_factor    ; delc = 1*coarsen_factor       #______________________ coarsen_factor\n",
    "    laytyp = 0                       ; Lx = (ncol - 1) * delr        ; prsity = 0.3\n",
    "\n",
    "    timprs = np.linspace(0, np.sum(perlen_mf), nprs, endpoint = False)\n",
    "    ibound = np.ones((nlay, nrow, ncol) , dtype=int)                 ; ibound[0,:,0]= -1      ; ibound[0,:,-1] = -1   #(index)inlet|outlet\n",
    "    strt   = np.zeros((nlay, nrow, ncol), dtype=float) ; h1 = 1.5    ; strt  [0,:,0]= h1      ; print(\"H diff across model: \" + str(h1) + \"m\")\n",
    "    icbund = np.ones((nlay, nrow, ncol) , dtype=int)\n",
    "    sconc  = np.zeros((nlay, nrow, ncol), dtype=float)               ; C_in = [1.0, 0.0]      ; itype = -1\n",
    "\n",
    "    cwell_info = np.zeros((nrow, 5), dtype=float)                    \n",
    "    for row in range(0, nrow):\n",
    "        cwell_info[row] = [0, row, 0, C_in[0], itype] \n",
    "    cwell_info2         = cwell_info.copy()   \n",
    "    cwell_info2[:,3]    = C_in[1]                ; spd_mt = {0:cwell_info, 1:cwell_info2}                    ;  modelname_mf = dirname + '_mf'\n",
    "    \n",
    "    mf = flopy.modflow.Modflow     (modelname=modelname_mf, model_ws=model_ws, exe_name=exe_name_mf)\n",
    "    dis = flopy.modflow.ModflowDis (mf, nlay=nlay, nrow=nrow, ncol=ncol, nper=nper_mf,delr=delr, delc=delc, top=0., botm=[0 - delv],\n",
    "                                    perlen=perlen_mf, itmuni=itmuni, lenuni=lenuni)\n",
    "    bas = flopy.modflow.ModflowBas (mf, ibound=ibound, strt=strt)\n",
    "    lpf = flopy.modflow.ModflowLpf (mf, hk=hk, laytyp=laytyp)\n",
    "    pcg = flopy.modflow.ModflowPcg (mf)\n",
    "    lmt = flopy.modflow.ModflowLmt (mf)\n",
    "    oc = flopy.modflow.ModflowOc   (mf)  ; mf.write_input()      ; mf.run_model(silent=True)                  ; modelname_mt = dirname + '_mt'\n",
    "    \n",
    "    mt = flopy.mt3d.Mt3dms   (modelname=modelname_mt, model_ws=model_ws, exe_name=exe_name_mt, modflowmodel=mf)  \n",
    "    btn = flopy.mt3d.Mt3dBtn (mt, icbund=icbund, prsity=prsity, sconc=sconc, tunit=mt_tunit, lunit=mt_lunit, nper=nper, \n",
    "                             perlen=perlen_mt, nprs=nprs, timprs=timprs)           \n",
    "    mixelm = -1\n",
    "    adv = flopy.mt3d.Mt3dAdv (mt, mixelm=mixelm)\n",
    "    dsp = flopy.mt3d.Mt3dDsp (mt, al=al)\n",
    "    ssm = flopy.mt3d.Mt3dSsm (mt, stress_period_data=spd_mt)\n",
    "    gcg = flopy.mt3d.Mt3dGcg (mt)                                          ; mt.write_input()\n",
    "\n",
    "    fname = os.path.join(model_ws, 'MT3D001.UCN')\n",
    "    #if os.path.isfile(fname):\n",
    "    #    os.remove(fname)                                                  \n",
    "    mt.run_model(silent=True)\n",
    "    fname = os.path.join(model_ws, modelname_mf+'.hds')  ; hdobj = flopy.utils.HeadFile(fname)    ; heads = hdobj.get_data()\n",
    "    fname = os.path.join(model_ws, 'MT3D001.UCN')        ; ucnobj = flopy.utils.UcnFile(fname)    ; times = np.array(ucnobj.get_times())\n",
    "    conc = ucnobj.get_alldata()\n",
    "   \n",
    "    return mf, mt, times, conc, heads"
   ]
  },
  {
   "cell_type": "raw",
   "metadata": {},
   "source": [
    "datafile_name1\n",
    "hk_size  = hk.shape\n",
    "nlay      = hk_size[0]           ; nrow = hk_size[1]             ; ncol = hk_size[2]\n",
    "nlay; nrow; ncol"
   ]
  },
  {
   "cell_type": "code",
   "execution_count": 4,
   "metadata": {},
   "outputs": [
    {
     "name": "stdout",
     "output_type": "stream",
     "text": [
      "Number of rows in permeability map = 36\n",
      "Number of columns in permeability map = 120\n"
     ]
    }
   ],
   "source": [
    "kdata_m2 = np.loadtxt(data_file_with_path1, delimiter=',')                 # perm_2d_correlat_10_md_500_var_n0101.csv\n",
    "nrow = int(kdata_m2[-2]) ;  ncol = int(kdata_m2[-1]) ; \n",
    "print('Number of rows in permeability map = ' + str(nrow))               ; print('Number of columns in permeability map = ' + str(ncol))\n",
    "kdata_m2 = kdata_m2[0:-2] ;  rawk_m2 = kdata_m2.reshape(1, nrow, ncol)   ; real1_cmsec = rawk_m2*(1000*9.81*3600*24/8.9E-4)  # m/d"
   ]
  },
  {
   "cell_type": "code",
   "execution_count": 5,
   "metadata": {},
   "outputs": [
    {
     "data": {
      "image/png": "[encoded data removed]",
      "text/plain": [
       "<Figure size 600x200 with 2 Axes>"
      ]
     },
     "metadata": {},
     "output_type": "display_data"
    },
    {
     "data": {
      "image/png": "[encoded data removed]",
      "text/plain": [
       "<Figure size 600x200 with 2 Axes>"
      ]
     },
     "metadata": {},
     "output_type": "display_data"
    }
   ],
   "source": [
    "def plot_2d(map_data, dx, dy, colorbar_label, title, cmap):\n",
    "    r, c = np.shape(map_data)                   ; x_coord = np.linspace(0, dx*c, c+1)   ; y_coord = np.linspace(0, dy*r, r+1)\n",
    "    X, Y = np.meshgrid(x_coord, y_coord)        ; plt.figure(figsize=(6, 2), dpi=100) \n",
    "    plt.pcolormesh(X, Y, map_data, cmap=cmap, shading = 'auto') ; plt.gca().set_aspect('equal')  ; cbar = plt.colorbar() \n",
    "    cbar.set_label(colorbar_label) ; plt.tick_params(axis='both', which='major') ; plt.xlim((0, dx*c)) ; plt.ylim((0, dy*r)); plt.title(title)\n",
    "    # plot_2d(real1_cmsec[0,:,:], 1, 1, '[m/day]', 'Realization 1 hydraulic conductivity', 'viridis')\n",
    "\n",
    "def coarsen_geomean(array2d, coarseness):\n",
    "    array_size = array2d.shape          ; rem0 = array_size[0] % coarseness    ; rem1 = array_size[1] % coarseness\n",
    "    if rem0 + rem1 > 0:\n",
    "        raise NameError('array is not divisible by coarseness factor')\n",
    "    coarse_array = np.zeros([int(array_size[0]/coarseness), int(array_size[1]/coarseness)])\n",
    "    n = coarseness**2  ; rind = 0\n",
    "    for i in range(0, array_size[0], coarseness):\n",
    "        cind = 0\n",
    "        for j in range(0, array_size[1], coarseness):\n",
    "            geo_mean_cell = np.exp(np.sum(np.log(array2d[ i:i + coarseness, j:j + coarseness] ))/n)\n",
    "            coarse_array[rind, cind] = geo_mean_cell\n",
    "            cind += 1\n",
    "        rind +=1\n",
    "    return coarse_array\n",
    "    \n",
    "geo_mean     = np.exp(np.sum(np.log(real1_cmsec))/real1_cmsec.size)*np.ones([1, nrow, ncol])\n",
    "real1_4x     = coarsen_geomean(real1_cmsec[0,:,:], 4)\n",
    "cnrow, cncol = real1_4x.shape\n",
    "real1_4x_3d  = real1_4x.reshape(1, cnrow, cncol)  ; plot_2d(real1_4x_3d[0,:,:], 4, 4, '[m/day]', 'Realization 1 coarsened K', 'viridis')\n",
    "real1_12x    = coarsen_geomean(real1_cmsec[0,:,:], 12)\n",
    "cnrow, cncol = real1_12x.shape\n",
    "real1_12x_3d = real1_12x.reshape(1, cnrow, cncol) ; plot_2d(real1_12x_3d[0,:,:],12,12,'[m/day]', 'Realization 1 coarsened K', 'viridis')"
   ]
  },
  {
   "cell_type": "code",
   "execution_count": 6,
   "metadata": {},
   "outputs": [
    {
     "name": "stdout",
     "output_type": "stream",
     "text": [
      ".\\multiscale_heterogeneity_illustration\\multiscale1\n",
      "H diff across model: 1.5m\n",
      ".\\multiscale_heterogeneity_illustration\\multiscale1\n",
      "H diff across model: 1.5m\n",
      ".\\multiscale_heterogeneity_illustration\\multiscale1\n",
      "H diff across model: 1.5m\n"
     ]
    },
    {
     "name": "stderr",
     "output_type": "stream",
     "text": [
      "C:\\Users\\gross.DESKTOP-AIRQM2M\\anaconda3\\Lib\\site-packages\\executing\\executing.py:713: DeprecationWarning: ast.Str is deprecated and will be removed in Python 3.14; use ast.Constant instead\n",
      "  right=ast.Str(s=sentinel),\n",
      "C:\\Users\\gross.DESKTOP-AIRQM2M\\anaconda3\\Lib\\site-packages\\executing\\executing.py:713: DeprecationWarning: ast.Str is deprecated and will be removed in Python 3.14; use ast.Constant instead\n",
      "  right=ast.Str(s=sentinel),\n",
      "C:\\Users\\gross.DESKTOP-AIRQM2M\\anaconda3\\Lib\\ast.py:587: DeprecationWarning: Attribute s is deprecated and will be removed in Python 3.14; use value instead\n",
      "  return Constant(*args, **kwargs)\n",
      "C:\\Users\\gross.DESKTOP-AIRQM2M\\anaconda3\\Lib\\site-packages\\executing\\executing.py:713: DeprecationWarning: ast.Str is deprecated and will be removed in Python 3.14; use ast.Constant instead\n",
      "  right=ast.Str(s=sentinel),\n",
      "C:\\Users\\gross.DESKTOP-AIRQM2M\\anaconda3\\Lib\\ast.py:587: DeprecationWarning: Attribute s is deprecated and will be removed in Python 3.14; use value instead\n",
      "  return Constant(*args, **kwargs)\n",
      "C:\\Users\\gross.DESKTOP-AIRQM2M\\anaconda3\\Lib\\site-packages\\executing\\executing.py:713: DeprecationWarning: ast.Str is deprecated and will be removed in Python 3.14; use ast.Constant instead\n",
      "  right=ast.Str(s=sentinel),\n",
      "C:\\Users\\gross.DESKTOP-AIRQM2M\\anaconda3\\Lib\\ast.py:587: DeprecationWarning: Attribute s is deprecated and will be removed in Python 3.14; use value instead\n",
      "  return Constant(*args, **kwargs)\n",
      "C:\\Users\\gross.DESKTOP-AIRQM2M\\anaconda3\\Lib\\site-packages\\executing\\executing.py:713: DeprecationWarning: ast.Str is deprecated and will be removed in Python 3.14; use ast.Constant instead\n",
      "  right=ast.Str(s=sentinel),\n",
      "C:\\Users\\gross.DESKTOP-AIRQM2M\\anaconda3\\Lib\\ast.py:587: DeprecationWarning: Attribute s is deprecated and will be removed in Python 3.14; use value instead\n",
      "  return Constant(*args, **kwargs)\n",
      "C:\\Users\\gross.DESKTOP-AIRQM2M\\anaconda3\\Lib\\site-packages\\executing\\executing.py:713: DeprecationWarning: ast.Str is deprecated and will be removed in Python 3.14; use ast.Constant instead\n",
      "  right=ast.Str(s=sentinel),\n",
      "C:\\Users\\gross.DESKTOP-AIRQM2M\\anaconda3\\Lib\\ast.py:587: DeprecationWarning: Attribute s is deprecated and will be removed in Python 3.14; use value instead\n",
      "  return Constant(*args, **kwargs)\n",
      "C:\\Users\\gross.DESKTOP-AIRQM2M\\anaconda3\\Lib\\site-packages\\executing\\executing.py:713: DeprecationWarning: ast.Str is deprecated and will be removed in Python 3.14; use ast.Constant instead\n",
      "  right=ast.Str(s=sentinel),\n",
      "C:\\Users\\gross.DESKTOP-AIRQM2M\\anaconda3\\Lib\\ast.py:587: DeprecationWarning: Attribute s is deprecated and will be removed in Python 3.14; use value instead\n",
      "  return Constant(*args, **kwargs)\n",
      "C:\\Users\\gross.DESKTOP-AIRQM2M\\anaconda3\\Lib\\site-packages\\executing\\executing.py:713: DeprecationWarning: ast.Str is deprecated and will be removed in Python 3.14; use ast.Constant instead\n",
      "  right=ast.Str(s=sentinel),\n",
      "C:\\Users\\gross.DESKTOP-AIRQM2M\\anaconda3\\Lib\\ast.py:587: DeprecationWarning: Attribute s is deprecated and will be removed in Python 3.14; use value instead\n",
      "  return Constant(*args, **kwargs)\n",
      "C:\\Users\\gross.DESKTOP-AIRQM2M\\anaconda3\\Lib\\site-packages\\executing\\executing.py:713: DeprecationWarning: ast.Str is deprecated and will be removed in Python 3.14; use ast.Constant instead\n",
      "  right=ast.Str(s=sentinel),\n",
      "C:\\Users\\gross.DESKTOP-AIRQM2M\\anaconda3\\Lib\\ast.py:587: DeprecationWarning: Attribute s is deprecated and will be removed in Python 3.14; use value instead\n",
      "  return Constant(*args, **kwargs)\n"
     ]
    },
    {
     "ename": "ValueError",
     "evalue": "Length of values (3882) does not match length of index (188)",
     "output_type": "error",
     "traceback": [
      "\u001b[1;31m---------------------------------------------------------------------------\u001b[0m",
      "\u001b[1;31mValueError\u001b[0m                                Traceback (most recent call last)",
      "Cell \u001b[1;32mIn[6], line 4\u001b[0m\n\u001b[0;32m      2\u001b[0m mf, mt, times, conc_hom     , heads       \u001b[38;5;241m=\u001b[39m model_2D(dirname, perlen_mt, geo_mean     , al, \u001b[38;5;241m1\u001b[39m)\n\u001b[0;32m      3\u001b[0m mf, mt, times1,    conc1    , heads1      \u001b[38;5;241m=\u001b[39m model_2D(dirname, perlen_mt, real1_cmsec  , al, \u001b[38;5;241m1\u001b[39m)\n\u001b[1;32m----> 4\u001b[0m mf, mt, times1c4,  conc_1c4 , heads_1c4   \u001b[38;5;241m=\u001b[39m model_2D(dirname, perlen_mt, real1_4x_3d  , al, \u001b[38;5;241m4\u001b[39m)\n\u001b[0;32m      5\u001b[0m mf, mt, times1c12, conc_1c12, heads_1c12  \u001b[38;5;241m=\u001b[39m model_2D(dirname, perlen_mt, real1_12x_3d , al, \u001b[38;5;241m12\u001b[39m)\n",
      "Cell \u001b[1;32mIn[3], line 45\u001b[0m, in \u001b[0;36mmodel_2D\u001b[1;34m(dirname, perlen_mt, hk, al, coarsen_factor)\u001b[0m\n\u001b[0;32m     43\u001b[0m mt\u001b[38;5;241m.\u001b[39mrun_model(silent\u001b[38;5;241m=\u001b[39m\u001b[38;5;28;01mTrue\u001b[39;00m)\n\u001b[0;32m     44\u001b[0m fname \u001b[38;5;241m=\u001b[39m os\u001b[38;5;241m.\u001b[39mpath\u001b[38;5;241m.\u001b[39mjoin(model_ws, modelname_mf\u001b[38;5;241m+\u001b[39m\u001b[38;5;124m'\u001b[39m\u001b[38;5;124m.hds\u001b[39m\u001b[38;5;124m'\u001b[39m)  ; hdobj \u001b[38;5;241m=\u001b[39m flopy\u001b[38;5;241m.\u001b[39mutils\u001b[38;5;241m.\u001b[39mHeadFile(fname)    ; heads \u001b[38;5;241m=\u001b[39m hdobj\u001b[38;5;241m.\u001b[39mget_data()\n\u001b[1;32m---> 45\u001b[0m fname \u001b[38;5;241m=\u001b[39m os\u001b[38;5;241m.\u001b[39mpath\u001b[38;5;241m.\u001b[39mjoin(model_ws, \u001b[38;5;124m'\u001b[39m\u001b[38;5;124mMT3D001.UCN\u001b[39m\u001b[38;5;124m'\u001b[39m)        ; ucnobj \u001b[38;5;241m=\u001b[39m flopy\u001b[38;5;241m.\u001b[39mutils\u001b[38;5;241m.\u001b[39mUcnFile(fname)    ; times \u001b[38;5;241m=\u001b[39m np\u001b[38;5;241m.\u001b[39marray(ucnobj\u001b[38;5;241m.\u001b[39mget_times())\n\u001b[0;32m     46\u001b[0m conc \u001b[38;5;241m=\u001b[39m ucnobj\u001b[38;5;241m.\u001b[39mget_alldata()\n\u001b[0;32m     48\u001b[0m \u001b[38;5;28;01mreturn\u001b[39;00m mf, mt, times, conc, heads\n",
      "File \u001b[1;32m~\\anaconda3\\Lib\\site-packages\\flopy\\utils\\binaryfile\\__init__.py:786\u001b[0m, in \u001b[0;36mUcnFile.__init__\u001b[1;34m(self, filename, text, precision, verbose, **kwargs)\u001b[0m\n\u001b[0;32m    784\u001b[0m     \u001b[38;5;28;01mraise\u001b[39;00m \u001b[38;5;167;01mException\u001b[39;00m()\n\u001b[0;32m    785\u001b[0m \u001b[38;5;28mself\u001b[39m\u001b[38;5;241m.\u001b[39mheader_dtype \u001b[38;5;241m=\u001b[39m BinaryHeader\u001b[38;5;241m.\u001b[39mset_dtype(bintype\u001b[38;5;241m=\u001b[39m\u001b[38;5;124m\"\u001b[39m\u001b[38;5;124mUcn\u001b[39m\u001b[38;5;124m\"\u001b[39m, precision\u001b[38;5;241m=\u001b[39mprecision)\n\u001b[1;32m--> 786\u001b[0m \u001b[38;5;28msuper\u001b[39m()\u001b[38;5;241m.\u001b[39m\u001b[38;5;21m__init__\u001b[39m(filename, precision, verbose, \u001b[38;5;241m*\u001b[39m\u001b[38;5;241m*\u001b[39mkwargs)\n\u001b[0;32m    787\u001b[0m \u001b[38;5;28;01mreturn\u001b[39;00m\n",
      "File \u001b[1;32m~\\anaconda3\\Lib\\site-packages\\flopy\\utils\\binaryfile\\__init__.py:436\u001b[0m, in \u001b[0;36mBinaryLayerFile.__init__\u001b[1;34m(self, filename, precision, verbose, **kwargs)\u001b[0m\n\u001b[0;32m    435\u001b[0m \u001b[38;5;28;01mdef\u001b[39;00m \u001b[38;5;21m__init__\u001b[39m(\u001b[38;5;28mself\u001b[39m, filename: Union[\u001b[38;5;28mstr\u001b[39m, os\u001b[38;5;241m.\u001b[39mPathLike], precision, verbose, \u001b[38;5;241m*\u001b[39m\u001b[38;5;241m*\u001b[39mkwargs):\n\u001b[1;32m--> 436\u001b[0m     \u001b[38;5;28msuper\u001b[39m()\u001b[38;5;241m.\u001b[39m\u001b[38;5;21m__init__\u001b[39m(filename, precision, verbose, \u001b[38;5;241m*\u001b[39m\u001b[38;5;241m*\u001b[39mkwargs)\n",
      "File \u001b[1;32m~\\anaconda3\\Lib\\site-packages\\flopy\\utils\\datafile.py:217\u001b[0m, in \u001b[0;36mLayerFile.__init__\u001b[1;34m(self, filename, precision, verbose, **kwargs)\u001b[0m\n\u001b[0;32m    214\u001b[0m     \u001b[38;5;28;01mraise\u001b[39;00m \u001b[38;5;167;01mException\u001b[39;00m(\u001b[38;5;124mf\u001b[39m\u001b[38;5;124m\"\u001b[39m\u001b[38;5;124mLayerFile error: unrecognized kwargs: \u001b[39m\u001b[38;5;132;01m{\u001b[39;00margs\u001b[38;5;132;01m}\u001b[39;00m\u001b[38;5;124m\"\u001b[39m)\n\u001b[0;32m    216\u001b[0m \u001b[38;5;66;03m# read through the file and build the pointer index\u001b[39;00m\n\u001b[1;32m--> 217\u001b[0m \u001b[38;5;28mself\u001b[39m\u001b[38;5;241m.\u001b[39m_build_index()\n\u001b[0;32m    219\u001b[0m \u001b[38;5;66;03m# now that we read the data and know nrow and ncol,\u001b[39;00m\n\u001b[0;32m    220\u001b[0m \u001b[38;5;66;03m# we can make a generic mg if needed\u001b[39;00m\n\u001b[0;32m    221\u001b[0m \u001b[38;5;28;01mif\u001b[39;00m \u001b[38;5;28mself\u001b[39m\u001b[38;5;241m.\u001b[39mmg \u001b[38;5;129;01mis\u001b[39;00m \u001b[38;5;28;01mNone\u001b[39;00m:\n",
      "File \u001b[1;32m~\\anaconda3\\Lib\\site-packages\\flopy\\utils\\binaryfile\\__init__.py:488\u001b[0m, in \u001b[0;36mBinaryLayerFile._build_index\u001b[1;34m(self)\u001b[0m\n\u001b[0;32m    485\u001b[0m \u001b[38;5;28mself\u001b[39m\u001b[38;5;241m.\u001b[39mnlay \u001b[38;5;241m=\u001b[39m np\u001b[38;5;241m.\u001b[39mmax(\u001b[38;5;28mself\u001b[39m\u001b[38;5;241m.\u001b[39mrecordarray[\u001b[38;5;124m\"\u001b[39m\u001b[38;5;124milay\u001b[39m\u001b[38;5;124m\"\u001b[39m])\n\u001b[0;32m    487\u001b[0m \u001b[38;5;66;03m# provide headers as a pandas frame\u001b[39;00m\n\u001b[1;32m--> 488\u001b[0m \u001b[38;5;28mself\u001b[39m\u001b[38;5;241m.\u001b[39mheaders \u001b[38;5;241m=\u001b[39m pd\u001b[38;5;241m.\u001b[39mDataFrame(\u001b[38;5;28mself\u001b[39m\u001b[38;5;241m.\u001b[39mrecordarray, index\u001b[38;5;241m=\u001b[39m\u001b[38;5;28mself\u001b[39m\u001b[38;5;241m.\u001b[39miposarray)\n\u001b[0;32m    489\u001b[0m \u001b[38;5;28mself\u001b[39m\u001b[38;5;241m.\u001b[39mheaders[\u001b[38;5;124m\"\u001b[39m\u001b[38;5;124mtext\u001b[39m\u001b[38;5;124m\"\u001b[39m] \u001b[38;5;241m=\u001b[39m (\n\u001b[0;32m    490\u001b[0m     \u001b[38;5;28mself\u001b[39m\u001b[38;5;241m.\u001b[39mheaders[\u001b[38;5;124m\"\u001b[39m\u001b[38;5;124mtext\u001b[39m\u001b[38;5;124m\"\u001b[39m]\u001b[38;5;241m.\u001b[39mstr\u001b[38;5;241m.\u001b[39mdecode(\u001b[38;5;124m\"\u001b[39m\u001b[38;5;124mascii\u001b[39m\u001b[38;5;124m\"\u001b[39m, \u001b[38;5;124m\"\u001b[39m\u001b[38;5;124mstrict\u001b[39m\u001b[38;5;124m\"\u001b[39m)\u001b[38;5;241m.\u001b[39mstr\u001b[38;5;241m.\u001b[39mstrip()\n\u001b[0;32m    491\u001b[0m )\n",
      "File \u001b[1;32m~\\anaconda3\\Lib\\site-packages\\pandas\\core\\frame.py:805\u001b[0m, in \u001b[0;36mDataFrame.__init__\u001b[1;34m(self, data, index, columns, dtype, copy)\u001b[0m\n\u001b[0;32m    802\u001b[0m \u001b[38;5;28;01mif\u001b[39;00m data\u001b[38;5;241m.\u001b[39mdtype\u001b[38;5;241m.\u001b[39mnames:\n\u001b[0;32m    803\u001b[0m     \u001b[38;5;66;03m# i.e. numpy structured array\u001b[39;00m\n\u001b[0;32m    804\u001b[0m     data \u001b[38;5;241m=\u001b[39m cast(np\u001b[38;5;241m.\u001b[39mndarray, data)\n\u001b[1;32m--> 805\u001b[0m     mgr \u001b[38;5;241m=\u001b[39m rec_array_to_mgr(\n\u001b[0;32m    806\u001b[0m         data,\n\u001b[0;32m    807\u001b[0m         index,\n\u001b[0;32m    808\u001b[0m         columns,\n\u001b[0;32m    809\u001b[0m         dtype,\n\u001b[0;32m    810\u001b[0m         copy,\n\u001b[0;32m    811\u001b[0m         typ\u001b[38;5;241m=\u001b[39mmanager,\n\u001b[0;32m    812\u001b[0m     )\n\u001b[0;32m    813\u001b[0m \u001b[38;5;28;01melif\u001b[39;00m \u001b[38;5;28mgetattr\u001b[39m(data, \u001b[38;5;124m\"\u001b[39m\u001b[38;5;124mname\u001b[39m\u001b[38;5;124m\"\u001b[39m, \u001b[38;5;28;01mNone\u001b[39;00m) \u001b[38;5;129;01mis\u001b[39;00m \u001b[38;5;129;01mnot\u001b[39;00m \u001b[38;5;28;01mNone\u001b[39;00m:\n\u001b[0;32m    814\u001b[0m     \u001b[38;5;66;03m# i.e. Series/Index with non-None name\u001b[39;00m\n\u001b[0;32m    815\u001b[0m     _copy \u001b[38;5;241m=\u001b[39m copy \u001b[38;5;28;01mif\u001b[39;00m using_copy_on_write() \u001b[38;5;28;01melse\u001b[39;00m \u001b[38;5;28;01mTrue\u001b[39;00m\n",
      "File \u001b[1;32m~\\anaconda3\\Lib\\site-packages\\pandas\\core\\internals\\construction.py:189\u001b[0m, in \u001b[0;36mrec_array_to_mgr\u001b[1;34m(data, index, columns, dtype, copy, typ)\u001b[0m\n\u001b[0;32m    186\u001b[0m \u001b[38;5;28;01mif\u001b[39;00m columns \u001b[38;5;129;01mis\u001b[39;00m \u001b[38;5;28;01mNone\u001b[39;00m:\n\u001b[0;32m    187\u001b[0m     columns \u001b[38;5;241m=\u001b[39m arr_columns\n\u001b[1;32m--> 189\u001b[0m mgr \u001b[38;5;241m=\u001b[39m arrays_to_mgr(arrays, columns, index, dtype\u001b[38;5;241m=\u001b[39mdtype, typ\u001b[38;5;241m=\u001b[39mtyp)\n\u001b[0;32m    191\u001b[0m \u001b[38;5;28;01mif\u001b[39;00m copy:\n\u001b[0;32m    192\u001b[0m     mgr \u001b[38;5;241m=\u001b[39m mgr\u001b[38;5;241m.\u001b[39mcopy()\n",
      "File \u001b[1;32m~\\anaconda3\\Lib\\site-packages\\pandas\\core\\internals\\construction.py:119\u001b[0m, in \u001b[0;36marrays_to_mgr\u001b[1;34m(arrays, columns, index, dtype, verify_integrity, typ, consolidate)\u001b[0m\n\u001b[0;32m    116\u001b[0m         index \u001b[38;5;241m=\u001b[39m ensure_index(index)\n\u001b[0;32m    118\u001b[0m     \u001b[38;5;66;03m# don't force copy because getting jammed in an ndarray anyway\u001b[39;00m\n\u001b[1;32m--> 119\u001b[0m     arrays, refs \u001b[38;5;241m=\u001b[39m _homogenize(arrays, index, dtype)\n\u001b[0;32m    120\u001b[0m     \u001b[38;5;66;03m# _homogenize ensures\u001b[39;00m\n\u001b[0;32m    121\u001b[0m     \u001b[38;5;66;03m#  - all(len(x) == len(index) for x in arrays)\u001b[39;00m\n\u001b[0;32m    122\u001b[0m     \u001b[38;5;66;03m#  - all(x.ndim == 1 for x in arrays)\u001b[39;00m\n\u001b[1;32m   (...)\u001b[0m\n\u001b[0;32m    125\u001b[0m \n\u001b[0;32m    126\u001b[0m \u001b[38;5;28;01melse\u001b[39;00m:\n\u001b[0;32m    127\u001b[0m     index \u001b[38;5;241m=\u001b[39m ensure_index(index)\n",
      "File \u001b[1;32m~\\anaconda3\\Lib\\site-packages\\pandas\\core\\internals\\construction.py:630\u001b[0m, in \u001b[0;36m_homogenize\u001b[1;34m(data, index, dtype)\u001b[0m\n\u001b[0;32m    627\u001b[0m         val \u001b[38;5;241m=\u001b[39m lib\u001b[38;5;241m.\u001b[39mfast_multiget(val, oindex\u001b[38;5;241m.\u001b[39m_values, default\u001b[38;5;241m=\u001b[39mnp\u001b[38;5;241m.\u001b[39mnan)\n\u001b[0;32m    629\u001b[0m     val \u001b[38;5;241m=\u001b[39m sanitize_array(val, index, dtype\u001b[38;5;241m=\u001b[39mdtype, copy\u001b[38;5;241m=\u001b[39m\u001b[38;5;28;01mFalse\u001b[39;00m)\n\u001b[1;32m--> 630\u001b[0m     com\u001b[38;5;241m.\u001b[39mrequire_length_match(val, index)\n\u001b[0;32m    631\u001b[0m     refs\u001b[38;5;241m.\u001b[39mappend(\u001b[38;5;28;01mNone\u001b[39;00m)\n\u001b[0;32m    633\u001b[0m homogenized\u001b[38;5;241m.\u001b[39mappend(val)\n",
      "File \u001b[1;32m~\\anaconda3\\Lib\\site-packages\\pandas\\core\\common.py:573\u001b[0m, in \u001b[0;36mrequire_length_match\u001b[1;34m(data, index)\u001b[0m\n\u001b[0;32m    569\u001b[0m \u001b[38;5;250m\u001b[39m\u001b[38;5;124;03m\"\"\"\u001b[39;00m\n\u001b[0;32m    570\u001b[0m \u001b[38;5;124;03mCheck the length of data matches the length of the index.\u001b[39;00m\n\u001b[0;32m    571\u001b[0m \u001b[38;5;124;03m\"\"\"\u001b[39;00m\n\u001b[0;32m    572\u001b[0m \u001b[38;5;28;01mif\u001b[39;00m \u001b[38;5;28mlen\u001b[39m(data) \u001b[38;5;241m!=\u001b[39m \u001b[38;5;28mlen\u001b[39m(index):\n\u001b[1;32m--> 573\u001b[0m     \u001b[38;5;28;01mraise\u001b[39;00m \u001b[38;5;167;01mValueError\u001b[39;00m(\n\u001b[0;32m    574\u001b[0m         \u001b[38;5;124m\"\u001b[39m\u001b[38;5;124mLength of values \u001b[39m\u001b[38;5;124m\"\u001b[39m\n\u001b[0;32m    575\u001b[0m         \u001b[38;5;124mf\u001b[39m\u001b[38;5;124m\"\u001b[39m\u001b[38;5;124m(\u001b[39m\u001b[38;5;132;01m{\u001b[39;00m\u001b[38;5;28mlen\u001b[39m(data)\u001b[38;5;132;01m}\u001b[39;00m\u001b[38;5;124m) \u001b[39m\u001b[38;5;124m\"\u001b[39m\n\u001b[0;32m    576\u001b[0m         \u001b[38;5;124m\"\u001b[39m\u001b[38;5;124mdoes not match length of index \u001b[39m\u001b[38;5;124m\"\u001b[39m\n\u001b[0;32m    577\u001b[0m         \u001b[38;5;124mf\u001b[39m\u001b[38;5;124m\"\u001b[39m\u001b[38;5;124m(\u001b[39m\u001b[38;5;132;01m{\u001b[39;00m\u001b[38;5;28mlen\u001b[39m(index)\u001b[38;5;132;01m}\u001b[39;00m\u001b[38;5;124m)\u001b[39m\u001b[38;5;124m\"\u001b[39m\n\u001b[0;32m    578\u001b[0m     )\n",
      "\u001b[1;31mValueError\u001b[0m: Length of values (3882) does not match length of index (188)"
     ]
    }
   ],
   "source": [
    "dirname = 'multiscale1'     ; perlen_mt = [7, 3*365]        ; al = 1\n",
    "mf, mt, times, conc_hom     , heads       = model_2D(dirname, perlen_mt, geo_mean     , al, 1)\n",
    "mf, mt, times1,    conc1    , heads1      = model_2D(dirname, perlen_mt, real1_cmsec  , al, 1)\n",
    "mf, mt, times1c4,  conc_1c4 , heads_1c4   = model_2D(dirname, perlen_mt, real1_4x_3d  , al, 4)\n",
    "mf, mt, times1c12, conc_1c12, heads_1c12  = model_2D(dirname, perlen_mt, real1_12x_3d , al, 12)"
   ]
  },
  {
   "cell_type": "code",
   "execution_count": null,
   "metadata": {},
   "outputs": [],
   "source": [
    "plot_2d(heads1[0,:,:], 1, 1,      '[m]',    'Realization 1 steady state heads', 'Blues')\n",
    "plot_2d(conc1[16,0,:,:], 1, 1,    '[C/C0]', 'Realization 1 concentration after 6 months', 'Reds')\n",
    "plot_2d(conc_1c4[16,0,:,:], 4, 4, '[C/C0]', 'Realization 1 concentration after 6 months', 'Reds')"
   ]
  },
  {
   "cell_type": "code",
   "execution_count": null,
   "metadata": {},
   "outputs": [],
   "source": [
    "C_btc_r1_geomean = np.mean([conc_hom[:, 0, :, -1]], axis=2)\n",
    "C_btc_r1 = np.mean([conc1[:, 0, :, -1]], axis=2)\n",
    "C_btc_r1c4 = np.mean([conc_1c4[:, 0, :, -1]], axis=2)\n",
    "C_btc_r1c12 = np.mean([conc_1c12[:, 0, :, -1]], axis=2)\n",
    "\n",
    "plt.figure(figsize=(6, 2), dpi=100) ; plt.plot(times, np.transpose(C_btc_r1_geomean), label='realization 1 geometric average')\n",
    "plt.plot(times, np.transpose(C_btc_r1), label='realization 1') ; plt.plot(times, np.transpose(C_btc_r1c4), label='realization 1, coarsened 4x')\n",
    "plt.plot(times, np.transpose(C_btc_r1c12), label='realization 1, coarsened 12x') ; plt.xlabel('Time [days]'); plt.legend()"
   ]
  },
  {
   "cell_type": "code",
   "execution_count": null,
   "metadata": {},
   "outputs": [],
   "source": [
    "kdata_m2_2  = np.loadtxt(data_file_with_path2, delimiter=',')  ;  kdata_m2_3  = np.loadtxt(data_file_with_path3, delimiter=',')\n",
    "\n",
    "kdata_m2_2  = kdata_m2_2[0:-2] ;    kdata_m2_2 = kdata_m2_2.reshape(1, nrow, ncol)\n",
    "real2_cmsec = kdata_m2_2*(1000*9.81*3600*24/8.9E-4)\n",
    "kdata_m2_3 = kdata_m2_3[0:-2]  ;   kdata_m2_3 = kdata_m2_3.reshape(1, nrow, ncol)\n",
    "real3_cmsec = kdata_m2_3*(1000*9.81*3600*24/8.9E-4)\n",
    "\n",
    "plot_2d(real2_cmsec[0,:,:], 1, 1, '[m/day]', 'Realization 2 hydraulic conductivity', 'viridis')\n",
    "plot_2d(real3_cmsec[0,:,:], 1, 1, '[m/day]', 'Realization 3 hydraulic conductivity', 'viridis')"
   ]
  },
  {
   "cell_type": "code",
   "execution_count": null,
   "metadata": {},
   "outputs": [],
   "source": [
    "mf, mt, times2, conc2, heads2 = model_2D(dirname, perlen_mt, real2_cmsec, al, 1)\n",
    "mf, mt, times3, conc3, heads3 = model_2D(dirname, perlen_mt, real3_cmsec, al, 1)"
   ]
  },
  {
   "cell_type": "code",
   "execution_count": null,
   "metadata": {},
   "outputs": [],
   "source": [
    "C_btc_r2 = np.mean([conc2[:, 0, :, -1]], axis=2)                #  uncoarsened\n",
    "C_btc_r3 = np.mean([conc3[:, 0, :, -1]], axis=2)                ;  plt.figure(figsize=(6, 2), dpi=100)\n",
    "plt.plot(times, np.transpose(C_btc_r1), label='realization 1')\n",
    "plt.plot(times, np.transpose(C_btc_r2), label='realization 2')\n",
    "plt.plot(times, np.transpose(C_btc_r3), label='realization 3')  ;  plt.xlabel('Time [days]')  ; plt.legend()"
   ]
  },
  {
   "cell_type": "markdown",
   "metadata": {},
   "source": [
    "Bonus function to generate random fields using the [gstools python toolbox](https://github.com/GeoStat-Framework/GSTools)."
   ]
  },
  {
   "cell_type": "code",
   "execution_count": null,
   "metadata": {},
   "outputs": [],
   "source": [
    "# function to generate 3D random permeability fields \n",
    "def perm_field_generation(log_mD, log_var, correlat_len, ycorrelat_len, nlay, nrow, ncol, angle):\n",
    "    x = np.arange(nlay)   ; y = np.arange(nrow)    ; z = np.arange(ncol)\n",
    "    model = gs.Exponential(dim=3, var=10**log_var, len_scale=[1.0, ycorrelat_len, correlat_len], angles=[0.0, 0.0, angle])\n",
    "    srf = gs.SRF(model)   #  srf = gs.SRF(model, seed=25300)\n",
    "    field = 10**(srf.structured([x, y, z]) + log_mD)\n",
    "    print('Geometric mean: ' + str(np.log10(np.max(field)/np.min(field))) + ' mD')\n",
    "    field_km2 = field*(9.869233E-13/1000)    # convert from mD to km^2\n",
    "    return field_km2"
   ]
  },
  {
   "cell_type": "raw",
   "metadata": {},
   "source": [
    "log_mD, log_var, correlat_len, ycorrelat_len, nlay, nrow, ncol, angle = perm_field_generation ()\n",
    "\n",
    "model_2D(dirname, perlen_mt, real2_cmsec, al, 1)"
   ]
  },
  {
   "cell_type": "code",
   "execution_count": null,
   "metadata": {},
   "outputs": [],
   "source": []
  }
 ],
 "metadata": {
  "kernelspec": {
   "display_name": "Python 3 (ipykernel)",
   "language": "python",
   "name": "python3"
  },
  "language_info": {
   "codemirror_mode": {
    "name": "ipython",
    "version": 3
   },
   "file_extension": ".py",
   "mimetype": "text/x-python",
   "name": "python",
   "nbconvert_exporter": "python",
   "pygments_lexer": "ipython3",
   "version": "3.12.7"
  }
 },
 "nbformat": 4,
 "nbformat_minor": 4
}
