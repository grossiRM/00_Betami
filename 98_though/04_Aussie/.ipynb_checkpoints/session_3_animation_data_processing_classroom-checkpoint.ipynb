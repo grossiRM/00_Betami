{
 "cells": [
  {
   "cell_type": "markdown",
   "metadata": {},
   "source": [
    "# Session 3: Visualisation and data processing\n",
    "\n",
    "This material has been prepared by Vincent Post and will be presented on 17 June 2021\n",
    "\n",
    "During this session we will look at data visualisation. We have already seen how easy it is to create good looking graphs in Python using the matplotlib library. While this is probably the most popular package for plotting, there are others as well, such as \n",
    "\n",
    " - <A href=\"https://plotly.com/python/\">plotly</A>, \n",
    " - <A href=\"https://seaborn.pydata.org/\">seaborn</A>\n",
    " - <A href=\"https://www.paraview.org/python/\">paraview</A>\n",
    " - <A href=\"https://docs.enthought.com/mayavi/mayavi/\">mayavi</A>\n",
    " \n",
    "The latter two are for 3D plotting specifically. "
   ]
  },
  {
   "cell_type": "markdown",
   "metadata": {},
   "source": [
    "## 0. Three-dimensional plotting using matplotlib\n",
    "\n",
    "Matplotlib has options to create 3D plots, albeit not as sophisticated as mayavi and paraview. It is still very useful for plotting relatively simple 3D graphs, such as flow paths calculated by a groundwater model. In the first example of this session, we will import the data from a pathline output file created by MODPATH. This could be handled using `numpy`'s `genfromtxt` function, but to make life a little easier, we will use the `flopy` library because it has a built-in function that will decipher the file structure automatically. Before continuing, you may want to view the contents of the file. As you can infer from its structure, there are 17 pathlines, each visualising the path of the groundwater to one of the 17 screens of two multi-level observation wells.\n",
    "\n",
    "Before we can do anything, we have to import the packages that we will be using during this session. In order to use the 3D plotting functions of `matplotlib` we have to import from `mpl_toolkits.mplot3d` as well."
   ]
  },
  {
   "cell_type": "code",
   "execution_count": null,
   "metadata": {},
   "outputs": [],
   "source": [
    "import flopy as fp\n",
    "import matplotlib.pyplot as plt\n",
    "from mpl_toolkits.mplot3d import Axes3D\n",
    "import numpy as np\n",
    "import pandas as pd\n",
    "\n",
    "%matplotlib notebook"
   ]
  },
  {
   "cell_type": "markdown",
   "metadata": {},
   "source": [
    "Let's load the data first"
   ]
  },
  {
   "cell_type": "code",
   "execution_count": null,
   "metadata": {},
   "outputs": [],
   "source": [
    "fname = \"flowpaths.mppth\"\n",
    "p = fp.utils.PathlineFile(fname)\n",
    "npl = p.get_maxid() + 1 # There are 17 pathlines, yet get_maxid() returns 16 because counting starts at 0\n",
    "print(f'Number of pathlines in {fname} = {npl}')"
   ]
  },
  {
   "cell_type": "markdown",
   "metadata": {},
   "source": [
    "That was easy! What happened in the background remains a little mysterious but we now have an object `p` which stores the x, y and z coordinates of the pathlines. It will become clear in the next code block how these can be accessed.\n",
    "\n",
    "In order to create a 3D figure, it is necessary to specify that the projection of the axes as 3d, as shown in the first two lines of the code block. Because `flopy` already did the hard work of reading the file, the plotting of the pathlines is not all that hard. We loop over all the pathline ids, get the x, y and z coordinates that define the line and provide the `plot` command to draw them. Note that the variables `xll` and `yll` are used to convert the model coordinates to real-world coordinates. One the graph appears on the screen, you can tilt and rotate it using your mouse (holding the left button)."
   ]
  },
  {
   "cell_type": "code",
   "execution_count": null,
   "metadata": {},
   "outputs": [],
   "source": [
    "fig = plt.figure()\n",
    "ax = fig.add_subplot(111, projection='3d')\n",
    "\n",
    "xll, yll = 171310, 2840534\n",
    "for i in range(p.get_maxid()+1):\n",
    "    pi = p.get_data(partid=i)\n",
    "    ax.plot(xll + pi['x'], yll + pi['y'], pi['z'], color='k', ls='--')\n",
    "\n",
    "ax.set_xlabel(\"Easting\")\n",
    "ax.set_ylabel(\"Northing\")\n",
    "ax.set_zlabel(\"Elevation (m)\")\n",
    "\n",
    "ax.set_box_aspect(aspect = (1,1,0.5))\n",
    "\n",
    "plt.tight_layout() # Makes optimal use of figure space"
   ]
  },
  {
   "cell_type": "markdown",
   "metadata": {},
   "source": [
    "*Exercise*: All lines are now black. Think of a way to plot the lines of one of the wells in a certain colour, and the lines for the other well in a different colour. Hint: Seven pathlines go to the one well, and ten to the other."
   ]
  },
  {
   "cell_type": "markdown",
   "metadata": {},
   "source": [
    "Without a map, it is hard to get a good sense of where these lines are located. There is no official way to import a map into a 3D plot in `matplotlib`, but there is a trick. The `imread` function can be used to import bitmap images (in 'normal' 2D images, you can plot them using `imshow`). It is used here to open a png file that was created in QGIS. It contains OpenStreetMap (OSM) data for a specified region of which the corner coordinates are known. The values of the pixels in the image are used to define the facecolors of a `surface plot`. The plotted surface has as many cells as there are pixels in the image and is plotted at a fixed elevation. Note how the `alpha` keyworde is used to define the transparency of the bitmap."
   ]
  },
  {
   "cell_type": "code",
   "execution_count": null,
   "metadata": {},
   "outputs": [],
   "source": [
    "img = plt.imread(\"osm_flowpaths.png\")\n",
    "\n",
    "top = 15\n",
    "y = np.linspace(2850000, 2847000, img.shape[0])\n",
    "x = np.linspace(176000, 179000, img.shape[1])\n",
    "z =  np.full((len(y), len(x)), top)\n",
    "x, y = np.meshgrid(x, y)\n",
    "\n",
    "ax.plot_surface(x, y, z, rstride=2, cstride=2, \n",
    "                facecolors=img, edgecolor='none', \n",
    "                linewidth=0,\n",
    "                alpha=0.4, shade=False)"
   ]
  },
  {
   "cell_type": "markdown",
   "metadata": {},
   "source": [
    "*Exercise*: Change the code block above so that the map has no transparancy. Also look up the meaning of `rstride` and `cstride` and try to improve the resolution of the map."
   ]
  },
  {
   "cell_type": "markdown",
   "metadata": {},
   "source": [
    "Instead of using the mouse, the camera viewpoint of the 3D figure can also be changed using `ax.view_init(elev=x, azim=y)` where `x` and `y` are some number. You can create a `for` loop in which `x` or `y` (or both) gradually change. By calling the `plt.savefig` function after each update of the figure, a sequence of bitmap images can be saved, which can be stitched together to create a avi movie file. This is how the animation shown during the webinar prior to this course was created. A good piece of software to use for this is `mencoder`, which can be downloaded for free and works from the command line. Unfortunately we can not demonstrate this in the online environment, so the next section demonstrates a different way to create animations."
   ]
  },
  {
   "cell_type": "markdown",
   "metadata": {},
   "source": [
    "## 1. Animation\n",
    "\n",
    "In the following example it will be demonstrated how the drawdown (i.e. the fall of the groundwater level) of an abstraction well as a function of time can be visualised in an animation. The first step is to define the function that calculates the drawdown of the well as a function of time $t$ and radial distance $r$\n",
    "\n",
    "$s = \\frac{Q}{4 \\pi T} W(u)$\n",
    "\n",
    "where $Q$ is the well abstraction rate, $T$ the aquifer transmissivity and $W(u)$ is the Theis well function, known as the exponential integral outside hydrogeology\n",
    "\n",
    "$\\int_u^\\infty \\frac{e^u}{u} du$\n",
    "\n",
    "in which \n",
    "\n",
    "$u = \\frac{r^2S}{4Tt}$\n",
    "\n",
    "where $S$ is the aquifer storativity.\n",
    "\n",
    "As luck would have it, the exponential integral is part of `scipy`'s special functions, so all we have to do is import it, and we can code up a function to calculate the drawdown according to the Theis equation."
   ]
  },
  {
   "cell_type": "code",
   "execution_count": null,
   "metadata": {},
   "outputs": [],
   "source": [
    "from scipy.special import exp1\n",
    "\n",
    "def theis(r, t, S, T, Q=100): # Q is a kwargt (keyword argument), it is optional and has a default value\n",
    "    u = S * r ** 2 / (4.0 * T * t)\n",
    "    s = Q / (4 * np.pi * T) * exp1(u)\n",
    "    return s"
   ]
  },
  {
   "cell_type": "markdown",
   "metadata": {},
   "source": [
    "With the function defined, we can create a graph that shows the drawdown for a given set of aquifer parameters after 0.1, 1, and 10 days since the well started pumping"
   ]
  },
  {
   "cell_type": "code",
   "execution_count": null,
   "metadata": {
    "scrolled": true
   },
   "outputs": [],
   "source": [
    "fig, ax = plt.subplots()\n",
    "S = .01 # Storativity\n",
    "T = 10 # Transmissivity\n",
    "r = np.linspace(0.1, 100, 200) # Radial distance from well\n",
    "for t in [0.1, 1, 10]: # Times\n",
    "    ax.plot(r, theis(r, t, S, T), label = f'time = {t} d')\n",
    "\n",
    "ax.set_xlabel('radial distance')\n",
    "ax.set_ylabel('head ')\n",
    "ax.legend(loc='best')"
   ]
  },
  {
   "cell_type": "markdown",
   "metadata": {},
   "source": [
    "This does not look as nice as it could. A different way of visualizing is to show a single line and plot the different times one after another. This can be done interactively in `matplotlib` using the `FuncAnimation` function. In the following example, an empty graph is created first. The animation is created by `FuncAnimation`, which requires information about the figure that contains the graph to be animated, a function that does the actual updating, and the times to be passed to the `update` function. An `init` function is optional, it can be used to create the intial appearance of the graph."
   ]
  },
  {
   "cell_type": "code",
   "execution_count": null,
   "metadata": {},
   "outputs": [],
   "source": [
    "from matplotlib.animation import FuncAnimation\n",
    "r = np.linspace(0.1, 1000, 200)\n",
    "\n",
    "fig, ax = plt.subplots()\n",
    "ln, = ax.plot(r, np.zeros_like(r))\n",
    "t_str = ax.text(800, 8, \"t = {:0.1f} d\".format(0),\n",
    "                ha='center', va='center')\n",
    "\n",
    "def init():\n",
    "    ax.set_xlim(0, 1000)\n",
    "    ax.set_ylim(10, 0)\n",
    "    ax.grid(True, ls=':')\n",
    "\n",
    "def update(t):\n",
    "    ln.set_ydata(theis(r, t, S, T))\n",
    "    t_str.set_text(\"t = {:0.2f} d\".format(t))\n",
    "\n",
    "ani = FuncAnimation(fig, update, frames=[0.1, 1, 10], init_func=init)"
   ]
  },
  {
   "cell_type": "markdown",
   "metadata": {},
   "source": [
    "It works, but there is room for improvement! Before continuing, hit the blue/white on-off button in the upper right corner of the graph above to stop interaction. This will stop the animation and avoid any interference with  the next example, which is actually an exercise.\n",
    "\n",
    "*Exercise*: Play around with the `frames` argument of the `FuncAnimation` function. Define a set of times that will result in a smooth looking animation. Hint: Look up the `logspace` function in `numpy`. This can be used to create an array with time intervals that are small initially and get bigger with time. This is useful because drawdown near the well changes rapidly in the beginning."
   ]
  },
  {
   "cell_type": "code",
   "execution_count": null,
   "metadata": {},
   "outputs": [],
   "source": [
    "from matplotlib.animation import FuncAnimation\n",
    "r = np.linspace(0.1, 1000, 200)\n",
    "\n",
    "fig, ax = plt.subplots()\n",
    "ln, = ax.plot(r, np.zeros_like(r))\n",
    "t_str = ax.text(800, 8, \"t = {:0.1f} d\".format(0),\n",
    "                ha='center', va='center')\n",
    "\n",
    "def init():\n",
    "    ax.set_xlim(0, 1000)\n",
    "    ax.set_ylim(10, 0)\n",
    "    ax.grid(True, ls=':')\n",
    "\n",
    "def update(t):\n",
    "    ln.set_ydata(theis(r, t, S, T))\n",
    "    t_str.set_text(\"t = {:0.2f} d\".format(t))\n",
    "\n",
    "ani = FuncAnimation(fig, update, frames=xyz, init_func=init,\n",
    "                    blit=True, interval=2, repeat=True)"
   ]
  },
  {
   "cell_type": "markdown",
   "metadata": {},
   "source": [
    "The nice thing about this way of creating animations is that they can be saved to a video file directly from Python (no need for a tool like mencoder). See <A href=\"https://matplotlib.org/stable/api/animation_api.html\">this page</A> for more information.\n",
    "\n",
    "Before continuing remember to stop the animation by clicking the blue/white button again."
   ]
  },
  {
   "cell_type": "markdown",
   "metadata": {},
   "source": [
    "## 2. Optimisation\n",
    "\n",
    "With the Theis equation defined, we can try to use it to do some parameter optimisation with it. In this case we will use measured drawdown data from Walton (1962) and try to estimate the aquifer transmissivity $T$ and storativity $S$. The spreadsheet is available in the repository, and below is a screenshot that show its contents.\n",
    "\n",
    "![Screenshot of spreadsheet contents](walton_1962_screenshot.png)"
   ]
  },
  {
   "cell_type": "markdown",
   "metadata": {},
   "source": [
    "*Exercise*: Use the `pandas` `read_excel` function to load the contents of the file walton_1962.xlsx."
   ]
  },
  {
   "cell_type": "code",
   "execution_count": null,
   "metadata": {},
   "outputs": [],
   "source": [
    "xldata = pd.read_excel()\n",
    "xldata.tail()"
   ]
  },
  {
   "cell_type": "markdown",
   "metadata": {},
   "source": [
    "In the previous sessions we have already seen how a model can be fitted to data in Python using least squares fitting. Here we will use the `lmfit` package, which has extensive functionality for parameter optimisation. It minimises an objective function, which is defined as follows"
   ]
  },
  {
   "cell_type": "code",
   "execution_count": null,
   "metadata": {},
   "outputs": [],
   "source": [
    "def residual(p, data, r):\n",
    "    p_vals = p.valuesdict()\n",
    "\n",
    "    times = data['t'].values\n",
    "    s_meas = data['s'].values\n",
    "    \n",
    "    rv = (s_meas - theis(r, times, p_vals['S'], p_vals['T'], p_vals['Q']))\n",
    "        \n",
    "    return rv"
   ]
  },
  {
   "cell_type": "markdown",
   "metadata": {},
   "source": [
    "Reading from the bottom up, the `residual` function returns the difference between the measured and calculated values at the times defined in the `data` `DataFrame` that is passed to the function as an argument. The parameters for the `theis` function are stored in a dictionary, which is part of the `lmfit` object that stores the parameters to be optimised. The code below shows how it is defined"
   ]
  },
  {
   "cell_type": "code",
   "execution_count": null,
   "metadata": {},
   "outputs": [],
   "source": [
    "import lmfit as lm\n",
    "# No need to interact with the graphs anymore from this point onward\n",
    "%matplotlib inline \n",
    "\n",
    "Q = 220 # gpm\n",
    "Q *= 0.00378541 # m3\n",
    "r = 824 # ft\n",
    "r *= 0.3048\n",
    "\n",
    "p = lm.Parameters()\n",
    "p.add('S', value = 1e-4, min = 0., vary = True)\n",
    "p.add('T', value = 1e-2, min = 0., vary = True)\n",
    "p.add('Q', value = Q, vary = False)\n",
    "\n",
    "p_out = lm.minimize(residual, p, args=(xldata, r))\n",
    "                    \n",
    "print(lm.fit_report(p_out))\n",
    "\n",
    "S = p_out.params['S'].value\n",
    "T = p_out.params['T'].value\n",
    "\n",
    "fig, ax = plt.subplots()\n",
    "ax.plot(xldata['t'], xldata['s'], 'o', mfc='w', mec='C0')\n",
    "t = np.linspace(xldata['t'].min(), xldata['t'].max())\n",
    "ax.plot(t, theis(r, t, S, T, Q))\n",
    "\n",
    "ax.set_xlabel(\"Time (min)\")\n",
    "ax.set_ylabel(\"Drawdown (m)\")\n",
    "#ax.set_xlim(0, 24)\n",
    "#ax.set_ylim(0, 0.65)\n",
    "ax.grid(True, ls=':')\n",
    "\n",
    "plt.tight_layout()"
   ]
  },
  {
   "cell_type": "markdown",
   "metadata": {},
   "source": [
    "*Exercise*: Change the appearance of the graph so that both axes are logarithmic. Let the time vary from 1 to 1000 min."
   ]
  },
  {
   "cell_type": "markdown",
   "metadata": {},
   "source": [
    "## 3. Linking with Google Earth"
   ]
  },
  {
   "cell_type": "markdown",
   "metadata": {},
   "source": [
    "The Excel file `ameland_exercise.xlsx` contains multiple sheets with groundwater data on the island of Ameland in the Netherlands. The first sheet contains the coordinates of the observation wells where the head was measured. The other sheets contain the heads measured at four observation wells. The names of the sheets are the identification codes of the observation wells. The following code block creates a graph for each tabsheet in the spreadsheet file so that the data can be inspected visually"
   ]
  },
  {
   "cell_type": "code",
   "execution_count": null,
   "metadata": {},
   "outputs": [],
   "source": [
    "xldata = pd.read_excel('ameland_exercise.xlsx', sheet_name=None, index_col=0, parse_dates=True)\n",
    "nc = len(xldata) - 1\n",
    "\n",
    "fig, axs = plt.subplots(nrows=nc, figsize=(5,10))\n",
    "for i, sheet in enumerate(xldata):\n",
    "    if (i == 0): # Skip the first tabsheet with the coordinates\n",
    "        continue\n",
    "\n",
    "    ax = axs[i - 1]\n",
    "    xldata[sheet].plot(ax=ax, legend=False)\n",
    "    ax.set_title(sheet)\n",
    "    ax.set_xlabel('')\n",
    "    ax.set_ylabel('h (cm)')\n",
    "\n",
    "plt.tight_layout()"
   ]
  },
  {
   "cell_type": "markdown",
   "metadata": {},
   "source": [
    "The goal of this exercise is to create one graph for each piezometer and save it as a bitmap file. These bitmap files can be stored in a kmz file (see below) that can be loaded into Google Earth. Note that this is not expected to work easily in the online environment so this exercise is best done on your own computer.\n",
    "\n",
    "We will first define a function that draws the graph, and then loop over the tabsheets to get the data. After the `for` loop has been executed, a png file will have been created for each of the piezometers stored in the spreadsheet file. Their names will be stored in the list `fnames`."
   ]
  },
  {
   "cell_type": "code",
   "execution_count": null,
   "metadata": {},
   "outputs": [],
   "source": [
    "def plot_df(df):\n",
    "    fig, ax = plt.subplots()\n",
    "    ax.plot(df.index, df[\"head (cm amsl)\"])\n",
    "    ax.set_ylabel('h (cm)')\n",
    "    ax.set_title(sheet)\n",
    "    fname = f\"{sheet}.png\"\n",
    "    plt.savefig(fname)\n",
    "    \n",
    "    return fname\n",
    "\n",
    "for i, sheet in enumerate(xldata):\n",
    "    if (i == 0):\n",
    "        continue\n",
    "    plot_df(xldata[sheet])"
   ]
  },
  {
   "cell_type": "markdown",
   "metadata": {},
   "source": [
    "A KML file (Keyhole Markup Language) can be used to display geographic data on Google Earth or Google Maps. Here, we will use the package `simplekml` to create a KMZ file. A KMZ file is like a KML file, except that the graphs that we created can be packed (zipped, hence the z instead of an l in the filename extension) into it, which makes it much easier to distribute the file. \n",
    "\n",
    "The next code block shows how to extend the previous code block to create the kmz file"
   ]
  },
  {
   "cell_type": "code",
   "execution_count": null,
   "metadata": {},
   "outputs": [],
   "source": [
    "import simplekml\n",
    "\n",
    "kmlfile = simplekml.Kml()\n",
    "\n",
    "xldata = pd.read_excel('ameland_exercise.xlsx', sheet_name=None, index_col=0, parse_dates=True)\n",
    "xydata = pd.read_excel('ameland_exercise.xlsx', sheet_name=\"coordinates\")\n",
    "print(xydata.columns)\n",
    "\n",
    "for i, sheet in enumerate(xldata):\n",
    "    if (i == 0):\n",
    "        continue\n",
    "    \n",
    "    well_id = sheet[:-3]\n",
    "    idx = xydata['well_id'] == well_id\n",
    "    x = xydata['long'].loc[idx].values[0]\n",
    "    y = xydata['lat'].loc[idx].values[0]\n",
    "\n",
    "    fname = plot_df(xldata[sheet])\n",
    "\n",
    "    path = kmlfile.addfile(fname)\n",
    "    point = kmlfile.newpoint(name=well_id, coords=[[str(x), str(y)]])\n",
    "    point.description = '<img src=\"' + path +'\" alt={well_id} width=\"400\" height=\"300\" align=\"left\" />'\n",
    "    \n",
    "kmlfile.savekmz('ameland.kmz', format=False)  # create kmz file"
   ]
  },
  {
   "cell_type": "markdown",
   "metadata": {},
   "source": [
    "Finally, open the file in Google Earth. If it is not installed on your computer, you can also use the website [http://kmlviewer.nsspot.net](http://kmlviewer.nsspot.net) to view it."
   ]
  }
 ],
 "metadata": {
  "kernelspec": {
   "display_name": "Python 3",
   "language": "python",
   "name": "python3"
  },
  "language_info": {
   "codemirror_mode": {
    "name": "ipython",
    "version": 3
   },
   "file_extension": ".py",
   "mimetype": "text/x-python",
   "name": "python",
   "nbconvert_exporter": "python",
   "pygments_lexer": "ipython3",
   "version": "3.8.5"
  },
  "latex_envs": {
   "LaTeX_envs_menu_present": true,
   "autoclose": false,
   "autocomplete": true,
   "bibliofile": "biblio.bib",
   "cite_by": "apalike",
   "current_citInitial": 1,
   "eqLabelWithNumbers": true,
   "eqNumInitial": 1,
   "hotkeys": {
    "equation": "Ctrl-E",
    "itemize": "Ctrl-I"
   },
   "labels_anchors": false,
   "latex_user_defs": false,
   "report_style_numbering": false,
   "user_envs_cfg": false
  },
  "varInspector": {
   "cols": {
    "lenName": 16,
    "lenType": 16,
    "lenVar": 40
   },
   "kernels_config": {
    "python": {
     "delete_cmd_postfix": "",
     "delete_cmd_prefix": "del ",
     "library": "var_list.py",
     "varRefreshCmd": "print(var_dic_list())"
    },
    "r": {
     "delete_cmd_postfix": ") ",
     "delete_cmd_prefix": "rm(",
     "library": "var_list.r",
     "varRefreshCmd": "cat(var_dic_list()) "
    }
   },
   "types_to_exclude": [
    "module",
    "function",
    "builtin_function_or_method",
    "instance",
    "_Feature"
   ],
   "window_display": false
  }
 },
 "nbformat": 4,
 "nbformat_minor": 4
}
