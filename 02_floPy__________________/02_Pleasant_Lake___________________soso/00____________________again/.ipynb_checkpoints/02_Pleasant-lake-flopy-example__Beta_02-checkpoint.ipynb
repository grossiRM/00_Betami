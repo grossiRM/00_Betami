{
 "cells": [
  {
   "cell_type": "markdown",
   "id": "08d4d782",
   "metadata": {},
   "source": [
    "## __02_Pleasant-lake-flopy-example_____Version__02__ <font color='red'> Sfr err </font>"
   ]
  },
  {
   "cell_type": "markdown",
   "id": "f4ea0f71-cbc2-49fa-9ab0-3f59b6220b5e",
   "metadata": {},
   "source": [
    "## Trying to changing folders <font color='red'> __not_yet__ </font>"
   ]
  },
  {
   "cell_type": "code",
   "execution_count": 1,
   "id": "4cb7e016-97e9-4a6a-8b16-eb25f71dc3d9",
   "metadata": {},
   "outputs": [],
   "source": [
    "# pip install sfrmaker"
   ]
  },
  {
   "cell_type": "code",
   "execution_count": 2,
   "id": "5acd45ac",
   "metadata": {},
   "outputs": [],
   "source": [
    "import numpy as np                          # Environment Flopy\n",
    "import matplotlib.pyplot as plt\n",
    "import flopy\n",
    "import flopy.mf6 as mf6\n",
    "from flopy.discretization import StructuredGrid\n",
    "from flopy.utils import Raster\n",
    "import sfrmaker\n",
    "import os\n",
    "import shutil\n",
    "# import Beta_dragon as hbd                                # ______________ new"
   ]
  },
  {
   "cell_type": "code",
   "execution_count": 3,
   "id": "ab8c6fcb-bfc2-45b9-8abc-86211f612e6e",
   "metadata": {},
   "outputs": [
    {
     "data": {
      "text/plain": [
       "'v01_Beta'"
      ]
     },
     "execution_count": 3,
     "metadata": {},
     "output_type": "execute_result"
    }
   ],
   "source": [
    "org_d = os.path.join('..', 'data')                       # Path folder\n",
    "Beta_ws = os.path.join('v01_Beta')                       # ______________ New folder\n",
    "if os.path.exists(Beta_ws):\n",
    "    shutil.rmtree(Beta_ws)\n",
    "shutil.copytree(org_d,Beta_ws)"
   ]
  },
  {
   "cell_type": "code",
   "execution_count": 4,
   "id": "6ad880f2-9db4-44d8-9a7d-cf592857190f",
   "metadata": {},
   "outputs": [],
   "source": [
    "model_name = 'B_pleasant'\n",
    "# template_ws = os.path.join(\"v02_Beta\")                    # New Folder !"
   ]
  },
  {
   "cell_type": "code",
   "execution_count": 5,
   "id": "749bdb02-4899-4d14-9603-5cd851294d68",
   "metadata": {},
   "outputs": [],
   "source": [
    "sim = mf6.MFSimulation(sim_name=model_name, version=\"mf6\", exe_name=\"mf6\", sim_ws=Beta_ws)     # __.nam  \n",
    "gwf = mf6.ModflowGwf(sim, modelname=model_name, save_flows=True)  # w = os.path.join('v01_Beta')   # if os.path.exists(w):   #    shutil.rmtree(w)"
   ]
  },
  {
   "cell_type": "markdown",
   "id": "c7e69f34",
   "metadata": {},
   "source": [
    "# __Basic__ __info__"
   ]
  },
  {
   "cell_type": "code",
   "execution_count": 6,
   "id": "be85402f",
   "metadata": {},
   "outputs": [],
   "source": [
    "nper, nlay, nrow, ncol = 1, 3, 60, 70                                       # t, z, y, x, \n",
    "delr, delc = 40, 40\n",
    "xoffset, yoffset = 554400., 389200.0\n",
    "epsg = 3070   # Wisconsin ... EPSG code 3070 \n",
    "modelgrid = StructuredGrid(delr=np.ones(ncol) * delr,    delc=np.ones(nrow) * delc,      xoff=xoffset, yoff=yoffset, angrot=0)"
   ]
  },
  {
   "cell_type": "code",
   "execution_count": 7,
   "id": "0d6e9f19",
   "metadata": {},
   "outputs": [],
   "source": [
    "br_surf = Raster.load('../data/br_surface.tif')                             #  \n",
    "rs = br_surf.resample_to_grid(modelgrid, band=1, method='linear')           \n",
    "np.savetxt('../data/botm_002.dat', rs)"
   ]
  },
  {
   "cell_type": "code",
   "execution_count": 8,
   "id": "290b4ee4",
   "metadata": {},
   "outputs": [],
   "source": [
    "top = [{'filename': '../data/top.dat'}]          # 04 surfaces, 03 layers\n",
    "botm = [{'filename': '../data/botm_000.dat'},\n",
    "        {'filename': '../data/botm_001.dat'},\n",
    "        {'filename': '../data/botm_002.dat'}]\n",
    "k = [{'filename': '../data/k_000.dat'},          # KH\n",
    "     {'filename': '../data/k_001.dat'},\n",
    "     {'filename': '../data/k_002.dat'}]\n",
    "k33 = [{'filename': '../data/k33_000.dat'},      # KV\n",
    "       {'filename': '../data/k33_001.dat'},\n",
    "       {'filename': '../data/k33_002.dat'}]\n",
    "strt = [top[0]] * nlay                           # Top for starting heads\n",
    "recharge = {\n",
    "    0: {'filename': '../data/rch_000.dat'}}      # RCH    \n",
    "irch = [{'filename': '../data/irch.dat'}]        # iRCH   local\n",
    "spec_head_perimeter = {\n",
    "    0: {'filename': '../data/chd_000.dat'}}      # chd"
   ]
  },
  {
   "cell_type": "markdown",
   "id": "490e7bad-0198-4bfa-a5f6-f463ab7cdd6f",
   "metadata": {},
   "source": [
    "# __Object__ __&__ __Model__ __Instancies__"
   ]
  },
  {
   "cell_type": "code",
   "execution_count": 9,
   "id": "0af601f4",
   "metadata": {},
   "outputs": [],
   "source": [
    "gwf.modelgrid.set_coord_info(xoff=xoffset, yoff=yoffset, crs=epsg)                                                    # gwf.modelgrid\n",
    "dis = mf6.ModflowGwfdis(gwf, nlay=nlay, nrow=nrow, ncol=ncol, delr=delr, delc=delc, top=top, botm=botm, idomain=1)    # __.dis \n",
    "tdis = mf6.ModflowTdis(sim, time_units=\"days\", nper=1, perioddata=[(1.0, 1, 1.0)])                                    # __.tdis  \n",
    "ims = mf6.ModflowIms(sim, complexity=\"moderate\", outer_dvclose=0.001)                                                 # Solver "
   ]
  },
  {
   "cell_type": "code",
   "execution_count": 10,
   "id": "934e5c71-c3e8-46c6-8c40-5f14e9c46f1b",
   "metadata": {},
   "outputs": [
    {
     "name": "stdout",
     "output_type": "stream",
     "text": [
      "writing simulation...\n",
      "  writing simulation name file...\n",
      "  writing simulation tdis package...\n",
      "  writing solution package ims_-1...\n",
      "  writing model B_pleasant...\n",
      "    writing model name file...\n",
      "    writing package dis...\n"
     ]
    }
   ],
   "source": [
    "sim.write_simulation() # __________02"
   ]
  },
  {
   "cell_type": "code",
   "execution_count": 26,
   "id": "0382c664-41ba-4f79-bb6a-5dd594c4ddec",
   "metadata": {},
   "outputs": [
    {
     "ename": "NameError",
     "evalue": "name 'B_pleasant' is not defined",
     "output_type": "error",
     "traceback": [
      "\u001b[1;31m---------------------------------------------------------------------------\u001b[0m",
      "\u001b[1;31mNameError\u001b[0m                                 Traceback (most recent call last)",
      "Cell \u001b[1;32mIn[26], line 2\u001b[0m\n\u001b[0;32m      1\u001b[0m oc \u001b[38;5;241m=\u001b[39m mf6\u001b[38;5;241m.\u001b[39mModflowGwfoc(gwf, \n\u001b[1;32m----> 2\u001b[0m                       head_filerecord\u001b[38;5;241m=\u001b[39m\u001b[38;5;124mf\u001b[39m\u001b[38;5;124m'\u001b[39m\u001b[38;5;132;01m{\u001b[39;00m\u001b[43mB_pleasant\u001b[49m\u001b[38;5;241m.\u001b[39mname\u001b[38;5;132;01m}\u001b[39;00m\u001b[38;5;124m.hds\u001b[39m\u001b[38;5;124m'\u001b[39m,\n\u001b[0;32m      3\u001b[0m                       budget_filerecord\u001b[38;5;241m=\u001b[39m\u001b[38;5;124mf\u001b[39m\u001b[38;5;124m'\u001b[39m\u001b[38;5;132;01m{\u001b[39;00mB_pleasant\u001b[38;5;241m.\u001b[39mname\u001b[38;5;132;01m}\u001b[39;00m\u001b[38;5;124m.cbc\u001b[39m\u001b[38;5;124m'\u001b[39m,\n\u001b[0;32m      4\u001b[0m                       saverecord\u001b[38;5;241m=\u001b[39m[(\u001b[38;5;124m'\u001b[39m\u001b[38;5;124mhead\u001b[39m\u001b[38;5;124m'\u001b[39m, \u001b[38;5;124m'\u001b[39m\u001b[38;5;124mall\u001b[39m\u001b[38;5;124m'\u001b[39m), (\u001b[38;5;124m\"\u001b[39m\u001b[38;5;124mbudget\u001b[39m\u001b[38;5;124m\"\u001b[39m, \u001b[38;5;124m\"\u001b[39m\u001b[38;5;124mall\u001b[39m\u001b[38;5;124m\"\u001b[39m)]) \n",
      "\u001b[1;31mNameError\u001b[0m: name 'B_pleasant' is not defined"
     ]
    }
   ],
   "source": [
    "oc = mf6.ModflowGwfoc(gwf, \n",
    "                      head_filerecord=f'{B_pleasant.name}.hds',\n",
    "                      budget_filerecord=f'{B_pleasant.name}.cbc',\n",
    "                      saverecord=[('head', 'all'), (\"budget\", \"all\")]) "
   ]
  },
  {
   "cell_type": "code",
   "execution_count": null,
   "id": "688fb5ef-d6ac-449d-92bf-a026befb51c8",
   "metadata": {},
   "outputs": [],
   "source": [
    "oc = mf6.ModflowGwfoc(gwf, \n",
    "                      head_filerecord=f'{gwf.name}.hds',                                                         # __.oc  Output  \n",
    "                      budget_filerecord=f'{gwf.name}.cbc',\n",
    "                      saverecord=[('head', 'all'), (\"budget\", \"all\")])        "
   ]
  },
  {
   "cell_type": "code",
   "execution_count": null,
   "id": "269df003-9ae9-4a10-b3ed-6d629ff4cb68",
   "metadata": {},
   "outputs": [],
   "source": [
    "sim.write_simulation() # __________02"
   ]
  },
  {
   "cell_type": "markdown",
   "id": "d2855a21-cf95-4e8d-9982-7d902f5f3491",
   "metadata": {},
   "source": [
    "# __Aquifer__ __Properties__"
   ]
  },
  {
   "cell_type": "code",
   "execution_count": null,
   "id": "b6995e4b",
   "metadata": {},
   "outputs": [],
   "source": [
    "npf = mf6.ModflowGwfnpf(gwf, icelltype=1, k=k, k33=k33)                      # K"
   ]
  },
  {
   "cell_type": "code",
   "execution_count": null,
   "id": "1a6ae50a",
   "metadata": {},
   "outputs": [],
   "source": [
    "ic = mf6.ModflowGwfic(gwf, strt=strt)                                        # initial conditions "
   ]
  },
  {
   "cell_type": "markdown",
   "id": "de3aedf1-d40c-45b6-9917-f600413232c7",
   "metadata": {},
   "source": [
    "# <font color='green'> __Boundary__ __ Conditions__ </font>"
   ]
  },
  {
   "cell_type": "code",
   "execution_count": null,
   "id": "14e94e72",
   "metadata": {},
   "outputs": [],
   "source": [
    "chd = mf6.ModflowGwfchd(gwf, stress_period_data=spec_head_perimeter)   # ___________ ok\n",
    "rch = mf6.ModflowGwfrcha(gwf, recharge=recharge, irch=irch)"
   ]
  },
  {
   "cell_type": "code",
   "execution_count": null,
   "id": "1f07d270",
   "metadata": {},
   "outputs": [],
   "source": [
    "lak = mf6.ModflowGwflak(gwf, boundnames=True, nlakes=1, connectiondata={'filename': '../data/lake_cn.dat'},\n",
    "    packagedata=[[0, 290.85, 345, 'lake1']],\n",
    "    perioddata={0: [[0, 'evaporation', 0.000715], [0, 'rainfall', 0.00209]]},\n",
    "    surfdep=0.1)"
   ]
  },
  {
   "cell_type": "code",
   "execution_count": null,
   "id": "367b74ec-5a06-4d0a-9913-76eec9e1986c",
   "metadata": {},
   "outputs": [],
   "source": [
    "sim.write_simulation()"
   ]
  },
  {
   "cell_type": "markdown",
   "id": "31d791de-a8e9-4e3d-9535-02eb1f0d0f9c",
   "metadata": {},
   "source": [
    "# <font color='red'> __Streamflow__ __err__ __!__</font>"
   ]
  },
  {
   "cell_type": "markdown",
   "id": "45f1b5b1",
   "metadata": {},
   "source": [
    "# <font color='blue'> __Add__ __next__ __SFR__ __REPO__ </font>"
   ]
  },
  {
   "cell_type": "code",
   "execution_count": null,
   "id": "1f053a1a",
   "metadata": {},
   "outputs": [],
   "source": [
    "lines = sfrmaker.Lines.from_shapefile(shapefile='../data/edited_flowlines.shp', id_column='id', routing_column='toid',\n",
    "    width1_column='width1', width2_column='width2', name_column='name', attr_length_units='meters')\n",
    "sfrdata = lines.to_sfr(model=gwf, model_length_units='meters')\n",
    "sfrdata.set_streambed_top_elevations_from_dem('../data/dem40m.tif', elevation_units='meters')\n",
    "sfrdata.assign_layers()\n",
    "sfr = sfrdata.create_mf6sfr(gwf)"
   ]
  },
  {
   "cell_type": "code",
   "execution_count": null,
   "id": "03fb00f8",
   "metadata": {},
   "outputs": [],
   "source": [
    "sim.write_simulation()\n",
    "sim.run_simulation() "
   ]
  },
  {
   "cell_type": "markdown",
   "id": "079cd5a6",
   "metadata": {},
   "source": [
    "## Postrocessing : Get_water_table()__Module ____` err_02 `"
   ]
  },
  {
   "cell_type": "code",
   "execution_count": null,
   "id": "55ca4fcf",
   "metadata": {},
   "outputs": [],
   "source": [
    "from flopy.utils.postprocessing import get_water_table"
   ]
  },
  {
   "cell_type": "code",
   "execution_count": null,
   "id": "819940c6",
   "metadata": {},
   "outputs": [],
   "source": [
    "hds = gwf.output.head().get_data()"
   ]
  },
  {
   "cell_type": "code",
   "execution_count": null,
   "id": "cce6523e",
   "metadata": {},
   "outputs": [],
   "source": [
    "wt = get_water_table(hds, nodata=-1e10)"
   ]
  },
  {
   "cell_type": "code",
   "execution_count": null,
   "id": "12d6d77d",
   "metadata": {},
   "outputs": [],
   "source": [
    "cbc = gwf.output.budget()\n",
    "lak = cbc.get_data(text='lak', full3D=True)[0]\n",
    "sfr = cbc.get_data(text='sfr', full3D=True)[0]"
   ]
  },
  {
   "cell_type": "code",
   "execution_count": null,
   "id": "efd1ad1b",
   "metadata": {},
   "outputs": [],
   "source": [
    "fig, ax = plt.subplots(figsize=(6, 6))\n",
    "pmv = flopy.plot.PlotMapView(gwf, ax=ax)\n",
    "ctr = pmv.contour_array(\n",
    "    wt, levels=np.arange(290, 315, 1), \n",
    "    linewidths=1, colors='b')\n",
    "labels = pmv.ax.clabel(\n",
    "    ctr, inline=True, \n",
    "    fontsize=8, inline_spacing=1)\n",
    "vmin, vmax = -100, 100\n",
    "im = pmv.plot_array(\n",
    "    lak[0], cmap='coolwarm', \n",
    "    vmin=vmin, vmax=vmax)\n",
    "im = pmv.plot_array(\n",
    "    sfr.sum(axis=0), cmap='coolwarm', \n",
    "    vmin=vmin, vmax=vmax)\n",
    "cb = fig.colorbar(\n",
    "    im, shrink=0.5, label='Leakage, in m$^3$/day')\n",
    "ax.set_ylabel(\"Northing, WTM meters\")\n",
    "ax.set_xlabel(\"Easting, WTM meters\")\n",
    "ax.set_aspect(1)\n",
    "plt.tight_layout()\n",
    "plt.savefig('results.pdf')"
   ]
  }
 ],
 "metadata": {
  "kernelspec": {
   "display_name": "Python 3 (ipykernel)",
   "language": "python",
   "name": "python3"
  },
  "language_info": {
   "codemirror_mode": {
    "name": "ipython",
    "version": 3
   },
   "file_extension": ".py",
   "mimetype": "text/x-python",
   "name": "python",
   "nbconvert_exporter": "python",
   "pygments_lexer": "ipython3",
   "version": "3.11.11"
  }
 },
 "nbformat": 4,
 "nbformat_minor": 5
}
