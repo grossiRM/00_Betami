{
 "cells": [
  {
   "cell_type": "code",
   "execution_count": 1,
   "id": "56f441fc",
   "metadata": {},
   "outputs": [],
   "source": [
    "import os\n",
    "import sys\n",
    "from pprint import pformat\n",
    "import matplotlib as mpl\n",
    "import matplotlib.pyplot as plt\n",
    "import numpy as np\n",
    "import flopy\n",
    "\n",
    "from tempfile import TemporaryDirectory"
   ]
  },
  {
   "cell_type": "code",
   "execution_count": 2,
   "id": "4841d122-f222-4526-a16c-bbf8bc286ac2",
   "metadata": {},
   "outputs": [],
   "source": [
    "temp_dir = TemporaryDirectory()\n",
    "workspace = os.path.join(temp_dir.name, \"mf6lake\")"
   ]
  },
  {
   "cell_type": "code",
   "execution_count": 12,
   "id": "2713fc5b-10b1-4ee2-9500-b680dfcb06a6",
   "metadata": {},
   "outputs": [],
   "source": [
    "name = \"mf6lake\"\n",
    "h1, h2, Nlay,      N, L,    H, k = 100, 90, 10,       101, 400.0,     50.0, 1.0"
   ]
  },
  {
   "cell_type": "code",
   "execution_count": 4,
   "id": "41228d4f-0fb8-483e-b742-091ecf8e1855",
   "metadata": {},
   "outputs": [],
   "source": [
    "sim = flopy.mf6.MFSimulation(sim_name=name, exe_name=\"mf6\", version=\"mf6\", sim_ws=workspace)"
   ]
  },
  {
   "cell_type": "code",
   "execution_count": 5,
   "id": "fa322c93-e3a1-42ba-a673-1bd20b8bdfc4",
   "metadata": {},
   "outputs": [],
   "source": [
    "tdis = flopy.mf6.modflow.mftdis.ModflowTdis(sim, pname=\"tdis\", time_units=\"DAYS\", nper=1, perioddata=[(1.0, 1, 1.0)])"
   ]
  },
  {
   "cell_type": "code",
   "execution_count": 6,
   "id": "5408f572-86fb-4a0d-85c5-426451d100a3",
   "metadata": {},
   "outputs": [],
   "source": [
    "model_nam_file = f\"{name}.nam\"\n",
    "gwf = flopy.mf6.ModflowGwf(sim, modelname=name, model_nam_file=model_nam_file)\n",
    "ims = flopy.mf6.modflow.mfims.ModflowIms(sim, pname=\"ims\", complexity=\"SIMPLE\")"
   ]
  },
  {
   "cell_type": "code",
   "execution_count": 7,
   "id": "33f8a428-181b-4d49-9957-3400c290df73",
   "metadata": {},
   "outputs": [],
   "source": [
    "bot = np.linspace(-H / Nlay, -H, Nlay)\n",
    "delrow = delcol = L / (N - 1)\n",
    "dis = flopy.mf6.modflow.mfgwfdis.ModflowGwfdis(gwf, pname=\"dis\", nlay=Nlay, nrow=N, ncol=N,\n",
    "    delr=delrow, delc=delcol, top=0.0, botm=bot,)"
   ]
  },
  {
   "cell_type": "code",
   "execution_count": 8,
   "id": "fc3b90bf-ca0b-4eec-851d-e4073166f48b",
   "metadata": {},
   "outputs": [],
   "source": [
    "start = h1 * np.ones((Nlay, N, N))\n",
    "ic = flopy.mf6.modflow.mfgwfic.ModflowGwfic(gwf, pname=\"ic\", strt=start)\n",
    "npf = flopy.mf6.modflow.mfgwfnpf.ModflowGwfnpf(gwf, pname=\"npf\", icelltype=1, k=k, save_flows=True)"
   ]
  },
  {
   "cell_type": "code",
   "execution_count": null,
   "id": "2681e24e-fb1c-4751-89c9-ce4969e6c780",
   "metadata": {},
   "outputs": [],
   "source": [
    "B = flopy.modflow.Modflow(name, exe_name=\"MF2005\", model_ws=tmp_ws)\n",
    "B.write_input() "
   ]
  },
  {
   "cell_type": "markdown",
   "id": "8dec7d0d-fad7-45ba-b5bc-4885d80be2b1",
   "metadata": {},
   "source": [
    "# __List__"
   ]
  },
  {
   "cell_type": "code",
   "execution_count": null,
   "id": "48655290-3e44-4f3f-be8a-3acd45a2bb78",
   "metadata": {},
   "outputs": [],
   "source": []
  }
 ],
 "metadata": {
  "kernelspec": {
   "display_name": "Python 3 (ipykernel)",
   "language": "python",
   "name": "python3"
  },
  "language_info": {
   "codemirror_mode": {
    "name": "ipython",
    "version": 3
   },
   "file_extension": ".py",
   "mimetype": "text/x-python",
   "name": "python",
   "nbconvert_exporter": "python",
   "pygments_lexer": "ipython3",
   "version": "3.11.11"
  }
 },
 "nbformat": 4,
 "nbformat_minor": 5
}
