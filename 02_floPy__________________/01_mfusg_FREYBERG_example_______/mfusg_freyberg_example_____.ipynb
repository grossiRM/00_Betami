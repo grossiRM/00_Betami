{
 "cells": [
  {
   "cell_type": "markdown",
   "metadata": {},
   "source": [
    "# __mfusg_freyberg_example__"
   ]
  },
  {
   "cell_type": "code",
   "execution_count": 1,
   "metadata": {},
   "outputs": [
    {
     "name": "stdout",
     "output_type": "stream",
     "text": [
      "Requirement already satisfied: pooch in c:\\users\\gross.desktop-airqm2m\\anaconda3\\envs\\gmdsitut\\lib\\site-packages (1.8.2)Note: you may need to restart the kernel to use updated packages.\n",
      "\n",
      "Requirement already satisfied: platformdirs>=2.5.0 in c:\\users\\gross.desktop-airqm2m\\anaconda3\\envs\\gmdsitut\\lib\\site-packages (from pooch) (4.3.6)\n",
      "Requirement already satisfied: packaging>=20.0 in c:\\users\\gross.desktop-airqm2m\\anaconda3\\envs\\gmdsitut\\lib\\site-packages (from pooch) (24.2)\n",
      "Requirement already satisfied: requests>=2.19.0 in c:\\users\\gross.desktop-airqm2m\\anaconda3\\envs\\gmdsitut\\lib\\site-packages (from pooch) (2.32.3)\n",
      "Requirement already satisfied: charset_normalizer<4,>=2 in c:\\users\\gross.desktop-airqm2m\\anaconda3\\envs\\gmdsitut\\lib\\site-packages (from requests>=2.19.0->pooch) (3.4.0)\n",
      "Requirement already satisfied: idna<4,>=2.5 in c:\\users\\gross.desktop-airqm2m\\anaconda3\\envs\\gmdsitut\\lib\\site-packages (from requests>=2.19.0->pooch) (3.10)\n",
      "Requirement already satisfied: urllib3<3,>=1.21.1 in c:\\users\\gross.desktop-airqm2m\\anaconda3\\envs\\gmdsitut\\lib\\site-packages (from requests>=2.19.0->pooch) (2.2.3)\n",
      "Requirement already satisfied: certifi>=2017.4.17 in c:\\users\\gross.desktop-airqm2m\\anaconda3\\envs\\gmdsitut\\lib\\site-packages (from requests>=2.19.0->pooch) (2024.8.30)\n"
     ]
    }
   ],
   "source": [
    "pip install pooch"
   ]
  },
  {
   "cell_type": "code",
   "execution_count": 11,
   "metadata": {},
   "outputs": [],
   "source": [
    "from pathlib import Path\n",
    "from pprint import pformat\n",
    "# import git\n",
    "import pooch\n",
    "import flopy\n",
    "import os\n",
    "import shutil"
   ]
  },
  {
   "cell_type": "code",
   "execution_count": 13,
   "metadata": {},
   "outputs": [
    {
     "data": {
      "text/plain": [
       "'v01_Beta'"
      ]
     },
     "execution_count": 13,
     "metadata": {},
     "output_type": "execute_result"
    }
   ],
   "source": [
    "org_d = os.path.join('freyberg_usg')\n",
    "tmp_d = os.path.join('v01_Beta')                                                  # New folder\n",
    "if os.path.exists(tmp_d):\n",
    "    shutil.rmtree(tmp_d)\n",
    "shutil.copytree(org_d,tmp_d)\n",
    "# hbd.prep_bins(tmp_d)                                      # executables  \n",
    "# hbd.prep_deps(tmp_d)   "
   ]
  },
  {
   "cell_type": "code",
   "execution_count": 14,
   "metadata": {},
   "outputs": [
    {
     "name": "stdout",
     "output_type": "stream",
     "text": [
      "loading simulation...\n",
      "  loading simulation name file...\n"
     ]
    },
    {
     "ename": "MFDataException",
     "evalue": "An error occurred in package \"None\". The error occurred while loading package file in the \"load\" method.\nAdditional Information:\n(1) File E:\\15_REPOS\\00_BETAMI\\02_floPy__________________\\01_mfusg_FREYBERG_example_______\\v01_Beta\\mfsim.nam of type nam could not be opened.",
     "output_type": "error",
     "traceback": [
      "\u001b[1;31m---------------------------------------------------------------------------\u001b[0m",
      "\u001b[1;31mFileNotFoundError\u001b[0m                         Traceback (most recent call last)",
      "File \u001b[1;32m~\\anaconda3\\envs\\gmdsitut\\Lib\\site-packages\\flopy\\mf6\\mfpackage.py:2779\u001b[0m, in \u001b[0;36mMFPackage.load\u001b[1;34m(self, strict)\u001b[0m\n\u001b[0;32m   2778\u001b[0m \u001b[38;5;28;01mtry\u001b[39;00m:\n\u001b[1;32m-> 2779\u001b[0m     fd_input_file \u001b[38;5;241m=\u001b[39m \u001b[38;5;28;43mopen\u001b[39;49m\u001b[43m(\u001b[49m\n\u001b[0;32m   2780\u001b[0m \u001b[43m        \u001b[49m\u001b[43mdatautil\u001b[49m\u001b[38;5;241;43m.\u001b[39;49m\u001b[43mclean_filename\u001b[49m\u001b[43m(\u001b[49m\u001b[38;5;28;43mself\u001b[39;49m\u001b[38;5;241;43m.\u001b[39;49m\u001b[43mget_file_path\u001b[49m\u001b[43m(\u001b[49m\u001b[43m)\u001b[49m\u001b[43m)\u001b[49m\u001b[43m,\u001b[49m\u001b[43m \u001b[49m\u001b[38;5;124;43m\"\u001b[39;49m\u001b[38;5;124;43mr\u001b[39;49m\u001b[38;5;124;43m\"\u001b[39;49m\n\u001b[0;32m   2781\u001b[0m \u001b[43m    \u001b[49m\u001b[43m)\u001b[49m\n\u001b[0;32m   2782\u001b[0m \u001b[38;5;28;01mexcept\u001b[39;00m \u001b[38;5;167;01mOSError\u001b[39;00m \u001b[38;5;28;01mas\u001b[39;00m e:\n",
      "\u001b[1;31mFileNotFoundError\u001b[0m: [Errno 2] No such file or directory: 'E:\\\\15_REPOS\\\\00_BETAMI\\\\02_floPy__________________\\\\01_mfusg_FREYBERG_example_______\\\\v01_Beta\\\\mfsim.nam'",
      "\nDuring handling of the above exception, another exception occurred:\n",
      "\u001b[1;31mMFDataException\u001b[0m                           Traceback (most recent call last)",
      "Cell \u001b[1;32mIn[14], line 1\u001b[0m\n\u001b[1;32m----> 1\u001b[0m sim \u001b[38;5;241m=\u001b[39m \u001b[43mflopy\u001b[49m\u001b[38;5;241;43m.\u001b[39;49m\u001b[43mmf6\u001b[49m\u001b[38;5;241;43m.\u001b[39;49m\u001b[43mMFSimulation\u001b[49m\u001b[38;5;241;43m.\u001b[39;49m\u001b[43mload\u001b[49m\u001b[43m(\u001b[49m\u001b[43msim_ws\u001b[49m\u001b[38;5;241;43m=\u001b[39;49m\u001b[43mtmp_d\u001b[49m\u001b[43m)\u001b[49m \n",
      "File \u001b[1;32m~\\anaconda3\\envs\\gmdsitut\\Lib\\site-packages\\flopy\\mf6\\modflow\\mfsimulation.py:144\u001b[0m, in \u001b[0;36mMFSimulation.load\u001b[1;34m(cls, sim_name, version, exe_name, sim_ws, strict, verbosity_level, load_only, verify_data, write_headers, lazy_io, use_pandas)\u001b[0m\n\u001b[0;32m    129\u001b[0m \u001b[38;5;129m@classmethod\u001b[39m\n\u001b[0;32m    130\u001b[0m \u001b[38;5;28;01mdef\u001b[39;00m \u001b[38;5;21mload\u001b[39m(\n\u001b[0;32m    131\u001b[0m     \u001b[38;5;28mcls\u001b[39m,\n\u001b[1;32m   (...)\u001b[0m\n\u001b[0;32m    142\u001b[0m     use_pandas\u001b[38;5;241m=\u001b[39m\u001b[38;5;28;01mTrue\u001b[39;00m,\n\u001b[0;32m    143\u001b[0m ):\n\u001b[1;32m--> 144\u001b[0m     \u001b[38;5;28;01mreturn\u001b[39;00m \u001b[43mmfsimbase\u001b[49m\u001b[38;5;241;43m.\u001b[39;49m\u001b[43mMFSimulationBase\u001b[49m\u001b[38;5;241;43m.\u001b[39;49m\u001b[43mload\u001b[49m\u001b[43m(\u001b[49m\n\u001b[0;32m    145\u001b[0m \u001b[43m        \u001b[49m\u001b[38;5;28;43mcls\u001b[39;49m\u001b[43m,\u001b[49m\n\u001b[0;32m    146\u001b[0m \u001b[43m        \u001b[49m\u001b[43msim_name\u001b[49m\u001b[43m,\u001b[49m\n\u001b[0;32m    147\u001b[0m \u001b[43m        \u001b[49m\u001b[43mversion\u001b[49m\u001b[43m,\u001b[49m\n\u001b[0;32m    148\u001b[0m \u001b[43m        \u001b[49m\u001b[43mexe_name\u001b[49m\u001b[43m,\u001b[49m\n\u001b[0;32m    149\u001b[0m \u001b[43m        \u001b[49m\u001b[43msim_ws\u001b[49m\u001b[43m,\u001b[49m\n\u001b[0;32m    150\u001b[0m \u001b[43m        \u001b[49m\u001b[43mstrict\u001b[49m\u001b[43m,\u001b[49m\n\u001b[0;32m    151\u001b[0m \u001b[43m        \u001b[49m\u001b[43mverbosity_level\u001b[49m\u001b[43m,\u001b[49m\n\u001b[0;32m    152\u001b[0m \u001b[43m        \u001b[49m\u001b[43mload_only\u001b[49m\u001b[43m,\u001b[49m\n\u001b[0;32m    153\u001b[0m \u001b[43m        \u001b[49m\u001b[43mverify_data\u001b[49m\u001b[43m,\u001b[49m\n\u001b[0;32m    154\u001b[0m \u001b[43m        \u001b[49m\u001b[43mwrite_headers\u001b[49m\u001b[43m,\u001b[49m\n\u001b[0;32m    155\u001b[0m \u001b[43m        \u001b[49m\u001b[43mlazy_io\u001b[49m\u001b[43m,\u001b[49m\n\u001b[0;32m    156\u001b[0m \u001b[43m        \u001b[49m\u001b[43muse_pandas\u001b[49m\u001b[43m,\u001b[49m\n\u001b[0;32m    157\u001b[0m \u001b[43m    \u001b[49m\u001b[43m)\u001b[49m\n",
      "File \u001b[1;32m~\\anaconda3\\envs\\gmdsitut\\Lib\\site-packages\\flopy\\mf6\\mfsimbase.py:786\u001b[0m, in \u001b[0;36mMFSimulationBase.load\u001b[1;34m(cls_child, sim_name, version, exe_name, sim_ws, strict, verbosity_level, load_only, verify_data, write_headers, lazy_io, use_pandas)\u001b[0m\n\u001b[0;32m    784\u001b[0m \u001b[38;5;28;01mif\u001b[39;00m verbosity_level\u001b[38;5;241m.\u001b[39mvalue \u001b[38;5;241m>\u001b[39m\u001b[38;5;241m=\u001b[39m VerbosityLevel\u001b[38;5;241m.\u001b[39mnormal\u001b[38;5;241m.\u001b[39mvalue:\n\u001b[0;32m    785\u001b[0m     \u001b[38;5;28mprint\u001b[39m(\u001b[38;5;124m\"\u001b[39m\u001b[38;5;124m  loading simulation name file...\u001b[39m\u001b[38;5;124m\"\u001b[39m)\n\u001b[1;32m--> 786\u001b[0m \u001b[43minstance\u001b[49m\u001b[38;5;241;43m.\u001b[39;49m\u001b[43mname_file\u001b[49m\u001b[38;5;241;43m.\u001b[39;49m\u001b[43mload\u001b[49m\u001b[43m(\u001b[49m\u001b[43mstrict\u001b[49m\u001b[43m)\u001b[49m\n\u001b[0;32m    788\u001b[0m \u001b[38;5;66;03m# load TDIS file\u001b[39;00m\n\u001b[0;32m    789\u001b[0m tdis_pkg \u001b[38;5;241m=\u001b[39m \u001b[38;5;124mf\u001b[39m\u001b[38;5;124m\"\u001b[39m\u001b[38;5;124mtdis\u001b[39m\u001b[38;5;132;01m{\u001b[39;00mmfstructure\u001b[38;5;241m.\u001b[39mMFStructure()\u001b[38;5;241m.\u001b[39mget_version_string()\u001b[38;5;132;01m}\u001b[39;00m\u001b[38;5;124m\"\u001b[39m\n",
      "File \u001b[1;32m~\\anaconda3\\envs\\gmdsitut\\Lib\\site-packages\\flopy\\mf6\\mfpackage.py:2788\u001b[0m, in \u001b[0;36mMFPackage.load\u001b[1;34m(self, strict)\u001b[0m\n\u001b[0;32m   2784\u001b[0m         message \u001b[38;5;241m=\u001b[39m \u001b[38;5;124m\"\u001b[39m\u001b[38;5;124mFile \u001b[39m\u001b[38;5;132;01m{}\u001b[39;00m\u001b[38;5;124m of type \u001b[39m\u001b[38;5;132;01m{}\u001b[39;00m\u001b[38;5;124m could not be opened.\u001b[39m\u001b[38;5;124m\"\u001b[39m\u001b[38;5;241m.\u001b[39mformat(\n\u001b[0;32m   2785\u001b[0m             \u001b[38;5;28mself\u001b[39m\u001b[38;5;241m.\u001b[39mget_file_path(), \u001b[38;5;28mself\u001b[39m\u001b[38;5;241m.\u001b[39mpackage_type\n\u001b[0;32m   2786\u001b[0m         )\n\u001b[0;32m   2787\u001b[0m         type_, value_, traceback_ \u001b[38;5;241m=\u001b[39m sys\u001b[38;5;241m.\u001b[39mexc_info()\n\u001b[1;32m-> 2788\u001b[0m         \u001b[38;5;28;01mraise\u001b[39;00m MFDataException(\n\u001b[0;32m   2789\u001b[0m             \u001b[38;5;28mself\u001b[39m\u001b[38;5;241m.\u001b[39mmodel_name,\n\u001b[0;32m   2790\u001b[0m             \u001b[38;5;28mself\u001b[39m\u001b[38;5;241m.\u001b[39mpackage_name,\n\u001b[0;32m   2791\u001b[0m             \u001b[38;5;28mself\u001b[39m\u001b[38;5;241m.\u001b[39mpath,\n\u001b[0;32m   2792\u001b[0m             \u001b[38;5;124m\"\u001b[39m\u001b[38;5;124mloading package file\u001b[39m\u001b[38;5;124m\"\u001b[39m,\n\u001b[0;32m   2793\u001b[0m             \u001b[38;5;28;01mNone\u001b[39;00m,\n\u001b[0;32m   2794\u001b[0m             inspect\u001b[38;5;241m.\u001b[39mstack()[\u001b[38;5;241m0\u001b[39m][\u001b[38;5;241m3\u001b[39m],\n\u001b[0;32m   2795\u001b[0m             type_,\n\u001b[0;32m   2796\u001b[0m             value_,\n\u001b[0;32m   2797\u001b[0m             traceback_,\n\u001b[0;32m   2798\u001b[0m             message,\n\u001b[0;32m   2799\u001b[0m             \u001b[38;5;28mself\u001b[39m\u001b[38;5;241m.\u001b[39m_simulation_data\u001b[38;5;241m.\u001b[39mdebug,\n\u001b[0;32m   2800\u001b[0m         )\n\u001b[0;32m   2802\u001b[0m \u001b[38;5;28;01mtry\u001b[39;00m:\n\u001b[0;32m   2803\u001b[0m     \u001b[38;5;28mself\u001b[39m\u001b[38;5;241m.\u001b[39m_load_blocks(fd_input_file, strict)\n",
      "\u001b[1;31mMFDataException\u001b[0m: An error occurred in package \"None\". The error occurred while loading package file in the \"load\" method.\nAdditional Information:\n(1) File E:\\15_REPOS\\00_BETAMI\\02_floPy__________________\\01_mfusg_FREYBERG_example_______\\v01_Beta\\mfsim.nam of type nam could not be opened."
     ]
    }
   ],
   "source": [
    "sim = flopy.mf6.MFSimulation.load(sim_ws=tmp_d)                   # Beta _____ to get freyberg.usg.nam"
   ]
  },
  {
   "cell_type": "code",
   "execution_count": 6,
   "metadata": {},
   "outputs": [],
   "source": [
    "root_name = \"freyberg.usg\"                 "
   ]
  },
  {
   "cell_type": "raw",
   "metadata": {},
   "source": [
    "try:                                                                            # ___ Download \n",
    "    root = Path(git.Repo(\".\", search_parent_directories=True).working_dir)\n",
    "except:\n",
    "    root = None\n",
    "data_path = root / \"examples\" / \"data\" if root else Path.cwd()\n",
    "for fname, fhash in file_names.items():\n",
    "    pooch.retrieve(\n",
    "        url=f\"https://github.com/modflowpy/flopy/raw/develop/examples/data/{root_name.replace('.', '_')}/{fname}\",\n",
    "        fname=fname,\n",
    "        path=data_path / root_name.replace(\".\", \"_\"),\n",
    "        known_hash=None,\n",
    "    )"
   ]
  },
  {
   "cell_type": "raw",
   "metadata": {},
   "source": [
    "model_ws = data_path / root_name.replace(\".\", \"_\")"
   ]
  },
  {
   "cell_type": "code",
   "execution_count": 7,
   "metadata": {},
   "outputs": [
    {
     "ename": "NameError",
     "evalue": "name 'freyberg_usg' is not defined",
     "output_type": "error",
     "traceback": [
      "\u001b[1;31m---------------------------------------------------------------------------\u001b[0m",
      "\u001b[1;31mNameError\u001b[0m                                 Traceback (most recent call last)",
      "Cell \u001b[1;32mIn[7], line 1\u001b[0m\n\u001b[1;32m----> 1\u001b[0m model_ws \u001b[38;5;241m=\u001b[39m \u001b[43mfreyberg_usg\u001b[49m \u001b[38;5;241m/\u001b[39m root_name\u001b[38;5;241m.\u001b[39mreplace(\u001b[38;5;124m\"\u001b[39m\u001b[38;5;124m.\u001b[39m\u001b[38;5;124m\"\u001b[39m, \u001b[38;5;124m\"\u001b[39m\u001b[38;5;124m_\u001b[39m\u001b[38;5;124m\"\u001b[39m)\n",
      "\u001b[1;31mNameError\u001b[0m: name 'freyberg_usg' is not defined"
     ]
    }
   ],
   "source": [
    "model_ws = freyberg_usg / root_name.replace(\".\", \"_\")"
   ]
  },
  {
   "cell_type": "code",
   "execution_count": null,
   "metadata": {},
   "outputs": [],
   "source": [
    "from flopy.discretization import UnstructuredGrid                                     # dependency\n",
    "mfgrid = UnstructuredGrid.from_gridspec(str(model_ws / f\"{root_name}.gsf\"))"
   ]
  },
  {
   "cell_type": "raw",
   "metadata": {},
   "source": [
    "import matplotlib.pyplot as plt\n",
    "fig = plt.figure(figsize=(4, 4))\n",
    "ax = fig.add_subplot(1, 1, 1, aspect=\"equal\")\n",
    "pmv = flopy.plot.PlotMapView(modelgrid=mfgrid, ax=ax)\n",
    "pmv.plot_grid(alpha=0.1)      "
   ]
  },
  {
   "cell_type": "code",
   "execution_count": null,
   "metadata": {},
   "outputs": [],
   "source": [
    "from flopy.utils.geometry import LineString\n",
    "\n",
    "lines = [\n",
    "    LineString(ls)\n",
    "    for ls in [\n",
    "        [(623000, 3364000), (623000, 3372000)],\n",
    "        [(623650, 3364000), (623650, 3372000)],\n",
    "    ]\n",
    "]"
   ]
  },
  {
   "cell_type": "code",
   "execution_count": null,
   "metadata": {},
   "outputs": [],
   "source": [
    "gwf = flopy.mfusg.MfUsg.load(\n",
    "    f\"{root_name}.nam\",\n",
    "    model_ws=str(model_ws),\n",
    "    verbose=False,\n",
    "    check=False,\n",
    "    exe_name=\"mfusg\",\n",
    ") # Loading the model\n",
    "bas6 = gwf.get_package(\"bas6\")\n",
    "ibound = bas6.ibound.array"
   ]
  },
  {
   "cell_type": "raw",
   "metadata": {},
   "source": [
    "fig = plt.figure(figsize=(8, 8))                           # ___ Plot cross sections\n",
    "ax = fig.add_subplot(1, 1, 1, aspect=\"equal\")\n",
    "pmv = flopy.plot.PlotMapView(modelgrid=mfgrid, ax=ax)\n",
    "grid = pmv.plot_grid(alpha=0.2)\n",
    "shps = pmv.plot_shapes(lines, edgecolor=\"purple\", lw=2, alpha=0.7)\n",
    "inac = pmv.plot_inactive(ibound=ibound)"
   ]
  },
  {
   "cell_type": "code",
   "execution_count": null,
   "metadata": {},
   "outputs": [],
   "source": [
    "from tempfile import TemporaryDirectory\n",
    "\n",
    "temp_dir = TemporaryDirectory()\n",
    "work_dir = Path(temp_dir.name) / \"freyberg_usg\"\n",
    "\n",
    "gwf.change_model_ws(str(work_dir))\n",
    "gwf.write_name_file()\n",
    "gwf.write_input()\n",
    "success, buff = gwf.run_model(silent=True, report=True)\n",
    "assert success, pformat(buff)"
   ]
  },
  {
   "cell_type": "raw",
   "metadata": {},
   "source": [
    "import numpy as np\n",
    "\n",
    "hds = flopy.utils.HeadUFile(str(work_dir / f\"{root_name}.hds\"), model=gwf)\n",
    "times = hds.get_times()\n",
    "head = np.array(hds.get_data())\n",
    "print(head.shape)"
   ]
  },
  {
   "cell_type": "code",
   "execution_count": null,
   "metadata": {},
   "outputs": [],
   "source": [
    "levels = np.arange(30, 35.4, 0.1)\n",
    "fig = plt.figure(figsize=(15, 10))\n",
    "\n",
    "for layer, h in enumerate(head):\n",
    "    ax = fig.add_subplot(1, len(head), layer + 1)\n",
    "    ax.set_title(f\"Freyberg head (layer {layer})\")\n",
    "    pmv = flopy.plot.PlotMapView(modelgrid=mfgrid, ax=ax)\n",
    "    mesh = pmv.plot_array(h, alpha=0.2)\n",
    "    grid = pmv.plot_grid(alpha=0.2)\n",
    "    shps = pmv.plot_shapes(lines, edgecolor=\"purple\", lw=2, alpha=0.8)\n",
    "    inac = pmv.plot_inactive(ibound=ibound)\n",
    "    ctrs = pmv.contour_array(h, levels=levels)"
   ]
  },
  {
   "cell_type": "code",
   "execution_count": null,
   "metadata": {},
   "outputs": [],
   "source": [
    "\n",
    "# -\n",
    "\n",
    "# A `head` argument can be provided to `CrossSectionPlot.contour_array()` to show the phreatic surface.\n",
    "\n",
    "# +\n",
    "fig = plt.figure(figsize=(25, 5))\n",
    "\n",
    "for i, line in enumerate(lines):\n",
    "    ax = fig.add_subplot(1, len(lines), i + 1)\n",
    "    ax.set_title(f\"Freyberg head cross-section (line {i})\")\n",
    "    xsect = flopy.plot.PlotCrossSection(\n",
    "        modelgrid=mfgrid, ax=ax, line={\"line\": lines[i]}, geographic_coords=True\n",
    "    )\n",
    "    xsect.plot_array(head, head=head, alpha=0.4)\n",
    "    xsect.plot_ibound(ibound=ibound, head=head)\n",
    "    xsect.plot_inactive(ibound=ibound)\n",
    "    contours = xsect.contour_array(\n",
    "        head, masked_values=[999.0], head=head, levels=levels, alpha=1.0, colors=\"blue\"\n",
    "    )\n",
    "    plt.clabel(contours, fmt=\"%.0f\", colors=\"blue\", fontsize=12)\n",
    "    xsect.plot_grid(alpha=0.2)\n",
    "    ax.set_ylim([0, 40])  # set y axis range to ignore low elevations\n",
    "# -\n",
    "\n",
    "# The `head` argument can be a 1D array or a 2D array matching the shape of the grid (i.e., `head.shape == (layer count, ncpl)`).\n",
    "\n",
    "# +\n",
    "line = lines[0]\n",
    "\n",
    "for time in times[0:3]:\n",
    "    head = np.array(hds.get_data(totim=time))\n",
    "    head2 = np.hstack(head)\n",
    "\n",
    "    fig = plt.figure(figsize=(25, 5))\n",
    "    ax = fig.add_subplot(1, 3, 1)\n",
    "    ax.set_title(f\"Freyberg cross-section (t = {int(time)}, no head)\")\n",
    "    xsect = flopy.plot.PlotCrossSection(\n",
    "        modelgrid=mfgrid, ax=ax, line={\"line\": line}, geographic_coords=True\n",
    "    )\n",
    "    cmap = xsect.plot_array(head2, masked_values=[-999.99], alpha=0.4)\n",
    "    contours = xsect.contour_array(head2, levels=levels, alpha=1.0, colors=\"blue\")\n",
    "    xsect.plot_inactive(ibound=ibound, color_noflow=(0.8, 0.8, 0.8))\n",
    "    xsect.plot_grid(alpha=0.2)\n",
    "    ax.set_ylim([0, 40])  # set y axis range to ignore low elevations\n",
    "\n",
    "    ax = fig.add_subplot(1, 3, 2)\n",
    "    ax.set_title(\n",
    "        f\"Freyberg head cross-section (t = {int(time)}, head shape = {head.shape})\"\n",
    "    )\n",
    "    xsect = flopy.plot.PlotCrossSection(\n",
    "        modelgrid=mfgrid, ax=ax, line={\"line\": line}, geographic_coords=True\n",
    "    )\n",
    "    cmap = xsect.plot_array(head, masked_values=[-999.99], head=head, alpha=0.4)\n",
    "    contours = xsect.contour_array(\n",
    "        head, head=head, levels=levels, alpha=1.0, colors=\"blue\"\n",
    "    )\n",
    "    xsect.plot_inactive(ibound=ibound, color_noflow=(0.8, 0.8, 0.8))\n",
    "    xsect.plot_grid(alpha=0.2)\n",
    "    ax.set_ylim([0, 40])\n",
    "\n",
    "    ax = fig.add_subplot(1, 3, 3)\n",
    "    ax.set_title(\n",
    "        f\"Freyberg head cross-section (t = {int(time)}, head shape = {head2.shape})\"\n",
    "    )\n",
    "    xsect = flopy.plot.PlotCrossSection(\n",
    "        modelgrid=mfgrid, ax=ax, line={\"line\": line}, geographic_coords=True\n",
    "    )\n",
    "    cmap = xsect.plot_array(head2, masked_values=[-999.99], head=head2, alpha=0.4)\n",
    "    contours = xsect.contour_array(\n",
    "        head2, head=head2, levels=levels, alpha=1.0, colors=\"blue\"\n",
    "    )\n",
    "    xsect.plot_inactive(ibound=ibound, color_noflow=(0.8, 0.8, 0.8))\n",
    "    xsect.plot_grid(alpha=0.2)\n",
    "    ax.set_ylim([0, 40])\n",
    "# -\n",
    "\n",
    "try:\n",
    "    # ignore PermissionError on Windows\n",
    "    temp_dir.cleanup()\n",
    "except:\n",
    "    pass\n"
   ]
  }
 ],
 "metadata": {
  "kernelspec": {
   "display_name": "Python 3 (ipykernel)",
   "language": "python",
   "name": "python3"
  },
  "language_info": {
   "codemirror_mode": {
    "name": "ipython",
    "version": 3
   },
   "file_extension": ".py",
   "mimetype": "text/x-python",
   "name": "python",
   "nbconvert_exporter": "python",
   "pygments_lexer": "ipython3",
   "version": "3.11.11"
  }
 },
 "nbformat": 4,
 "nbformat_minor": 4
}
