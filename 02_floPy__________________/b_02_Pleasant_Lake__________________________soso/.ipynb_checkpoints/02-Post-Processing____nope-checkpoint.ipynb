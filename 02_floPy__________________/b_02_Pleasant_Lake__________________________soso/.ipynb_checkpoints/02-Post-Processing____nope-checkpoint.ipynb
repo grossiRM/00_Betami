{
 "cells": [
  {
   "cell_type": "code",
   "execution_count": 1,
   "metadata": {},
   "outputs": [],
   "source": [
    "# ![ex01a.png](attachment:ex01a.png)      # MarkDown  __  Code"
   ]
  },
  {
   "cell_type": "code",
   "execution_count": 2,
   "metadata": {},
   "outputs": [],
   "source": [
    "import numpy as np\n",
    "import matplotlib as mpl\n",
    "import matplotlib.pyplot as plt\n",
    "import flopy\n",
    "from flopy.plot import styles"
   ]
  },
  {
   "cell_type": "code",
   "execution_count": 3,
   "metadata": {},
   "outputs": [
    {
     "name": "stdout",
     "output_type": "stream",
     "text": [
      "auto-selecting option ':python' for 'bindir'\n",
      "fetched release '19.0' info from MODFLOW-USGS/executables\n",
      "using previous download 'C:\\Users\\gross.DESKTOP-AIRQM2M\\Downloads\\modflow_executables-19.0-win64.zip' (use 'force=True' to re-download)\n",
      "extracting 25 files to 'C:\\Users\\gross.DESKTOP-AIRQM2M\\anaconda3\\envs\\gmdsitut\\Scripts'\n",
      "crt.exe (1.3.1)         mfnwt.exe (1.3.0)       sutra.exe (3.0)\n",
      "gridgen.exe (1.0.02)    mfnwtdbl.exe (1.3.0)    swtv4.exe (4.00.05)\n",
      "libmf6.dll (6.5.0)      mfusg.exe (1.5)         triangle.exe (1.6)\n",
      "mf2000.exe (1.19.01)    mfusgdbl.exe (1.5)      vs2dt.exe (3.3)\n",
      "mf2005.exe (1.12.00)    mfusg_gsi.exe (2.3.0)   zbud6.exe (6.5.0)\n",
      "mf2005dbl.exe (1.12.00) mp6.exe (6.0.1)         zonbud3.exe (3.01)\n",
      "mf6.exe (6.5.0)         mp7.exe (7.2.001)       zonbudusg.exe (1.5)\n",
      "mflgr.exe (2.0.0)       mt3dms.exe (5.3.0)\n",
      "mflgrdbl.exe (2.0.0)    mt3dusgs.exe (1.1.0)\n",
      "updated flopy metadata file: 'C:\\Users\\gross.DESKTOP-AIRQM2M\\AppData\\Local\\flopy\\get_modflow.json'\n"
     ]
    }
   ],
   "source": [
    "flopy.utils.get_modflow(\":python\")"
   ]
  },
  {
   "cell_type": "code",
   "execution_count": 7,
   "metadata": {},
   "outputs": [],
   "source": [
    "ws = \"./Beta_incognito_temp/ex01b\" \n",
    "name = \"Beta_ex01b\""
   ]
  },
  {
   "cell_type": "code",
   "execution_count": 8,
   "metadata": {},
   "outputs": [],
   "source": [
    "sim = flopy.mf6.MFSimulation()\n",
    "tdis = flopy.mf6.ModflowTdis(sim)\n",
    "ims = flopy.mf6.ModflowIms(sim)"
   ]
  },
  {
   "cell_type": "code",
   "execution_count": 9,
   "metadata": {},
   "outputs": [],
   "source": [
    "gwf=sim\n",
    "# flopy.mf6.ModflowGwf()\n",
    "# flopy.mf6.ModflowGwf() \n",
    "# modelname \n",
    "# name"
   ]
  },
  {
   "cell_type": "markdown",
   "metadata": {},
   "source": [
    "# not yet"
   ]
  },
  {
   "cell_type": "markdown",
   "metadata": {},
   "source": [
    "Create the discretization package using `flopy.mf6.ModflowGwfdis()`. Use `Shift-Tab` to see the optional variables that can be specified. A description of the data required by the `DIS` package (`flopy.mf6.ModflowGwfdis()`) can be found in the MODFLOW 6 [ReadTheDocs document](https://modflow6.readthedocs.io/en/latest/_mf6io/gwf-dis.html).\n",
    "\n",
    "FloPy can accommodate all of the options for specifying array data for a model. `CONSTANT` values for a variable can be specified by using a `float` or `int` python variable (as is done below for `DELR`, `DELC`, and `TOP`). `LAYERED` data can be specified by using a list or `CONSTANT` values for each layer (as is done below for `BOTM` data) or a list of numpy arrays or lists. Three-Dimensional data can be specified using a three-dimensional numpy array (with a shape of `(nlay, nrow, ncol)`) for this example. More information on how to specify array data can be found in the [FloPy ReadTheDocs](https://flopy.readthedocs.io/en/latest/Notebooks/mf6_data_tutorial07.html#MODFLOW-6:-Working-with-MODFLOW-Grid-Array-Data). "
   ]
  },
  {
   "cell_type": "code",
   "execution_count": null,
   "metadata": {},
   "outputs": [],
   "source": [
    "# dis data\n"
   ]
  },
  {
   "cell_type": "code",
   "execution_count": null,
   "metadata": {},
   "outputs": [],
   "source": []
  },
  {
   "cell_type": "markdown",
   "metadata": {},
   "source": [
    "`flopy.plot.PlotMapView()` and `flopy.plot.PlotCrossSection()` can be used to confirm that the discretization is correctly defined."
   ]
  },
  {
   "cell_type": "code",
   "execution_count": null,
   "metadata": {},
   "outputs": [],
   "source": []
  },
  {
   "cell_type": "code",
   "execution_count": null,
   "metadata": {},
   "outputs": [],
   "source": []
  },
  {
   "cell_type": "markdown",
   "metadata": {},
   "source": [
    "#### Create the initial conditions (IC) package\n",
    "\n",
    "Create the initial conditions package (`IC`) using `flopy.mf6.ModflowGwfic()` and set the initial head (`strt`) to 320. Default values can be used for the rest of the initial conditions package input. Use `Shift-Tab` to see the optional variables that can be specified. A description of the data required by the `IC` package (`flopy.mf6.ModflowGwfic()`) can be found in the MODFLOW 6 [ReadTheDocs document](https://modflow6.readthedocs.io/en/latest/_mf6io/gwf-ic.html)."
   ]
  },
  {
   "cell_type": "code",
   "execution_count": null,
   "metadata": {},
   "outputs": [],
   "source": []
  },
  {
   "cell_type": "markdown",
   "metadata": {},
   "source": [
    "#### Create the node property flow (NPF) package\n",
    "\n",
    "The hydraulic properties for the model are defined in the image above and are specified in the node property flow package (`NPF`) using `flopy.mf6.ModflowGwfnpf()`. The first layer should be convertible (unconfined) and the remaining two layers will be non-convertible so `icelltype` should be `[1, 0, 0]`. The variable `save_specific_discharge` should be set to `True` so that specific discharge data are saved to the cell-by-cell file and can be used to plot discharge. Use `Shift-Tab` to see the optional variables that can be specified. A description of the data required by the `NPF` package (`flopy.mf6.ModflowGwfic()`) can be found in the MODFLOW 6 [ReadTheDocs document](https://modflow6.readthedocs.io/en/latest/_mf6io/gwf-npf.html)."
   ]
  },
  {
   "cell_type": "code",
   "execution_count": null,
   "metadata": {},
   "outputs": [],
   "source": [
    "# create kh, kv, and icelltype\n"
   ]
  },
  {
   "cell_type": "code",
   "execution_count": null,
   "metadata": {},
   "outputs": [],
   "source": []
  },
  {
   "cell_type": "markdown",
   "metadata": {},
   "source": [
    "#### Create the recharge package\n",
    "\n",
    "The recharge rate is defined in the image above. Use the `flopy.mf6.ModflowGwfrcha()` method to specify recharge data using arrays. Use `Shift-Tab` to see the optional variables that can be specified. A description of the data required by the `RCH` package (`flopy.mf6.ModflowGwfrcha()`) can be found in the MODFLOW 6 [ReadTheDocs document](https://modflow6.readthedocs.io/en/latest/_mf6io/gwf-rcha.html)."
   ]
  },
  {
   "cell_type": "code",
   "execution_count": null,
   "metadata": {},
   "outputs": [],
   "source": []
  },
  {
   "cell_type": "markdown",
   "metadata": {},
   "source": [
    "#### Create the well package\n",
    "\n",
    "The well is located in layer 3, row 11, column 10. The pumping rate is defined in the image above. Use the `flopy.mf6.ModflowGwfwel()` method to specify well data for the well package (`WEL`). Use `Shift-Tab` to see the optional variables that can be specified. A description of the data required by the `WEL` package (`flopy.mf6.ModflowGwfwel()`) can be found in the MODFLOW 6 [ReadTheDocs document](https://modflow6.readthedocs.io/en/latest/_mf6io/gwf-wel.html).\n",
    "\n",
    "`stress_period_data` for list-based stress packages (for example, `WEL`, `DRN`, `RIV`, and `GHB`) is specified as a dictionary with the zero-based stress-period number as the key and a list of tuples, with the tuple containing the data required for each stress entry. For example, each tuple for the `WEL` package includes a zero-based cellid and the well rate `(cellid, q)`. For this example, the zero-based cellid for `WEL` package can be a tuple with the `(layer, row, column)` for the well or three integers separated by a comma `layer, row, column`. More information on how to specify `stress_period_data` for list based stress packages can be found in the [FloPy ReadTheDocs](https://flopy.readthedocs.io/en/latest/Notebooks/mf6_data_tutorial06.html#Adding-Stress-Period-List-Data). \n",
    "\n",
    "An example of a `stress_period_data` tuple for the `WEL` package is\n",
    "\n",
    "```python\n",
    "# (layer, row, column, q)\n",
    "(0, 0, 0, -1e5)\n",
    "```"
   ]
  },
  {
   "cell_type": "code",
   "execution_count": null,
   "metadata": {},
   "outputs": [],
   "source": []
  },
  {
   "cell_type": "markdown",
   "metadata": {},
   "source": [
    "#### Create the river package\n",
    "\n",
    "The river is located in layer 1 and column 20 in every row in the model. The river stage stage and bottom are at 320 and 318, respectively; the river conductance is 1e5. Use the `flopy.mf6.ModflowGwfriv()` method to specify well data for the river package (`RIV`). Use `Shift-Tab` to see the optional variables that can be specified. A description of the data required by the `RIV` package (`flopy.mf6.ModflowGwfriv()`) can be found in the MODFLOW 6 [ReadTheDocs document](https://modflow6.readthedocs.io/en/latest/_mf6io/gwf-riv.html).\n",
    "\n",
    "An example of a `stress_period_data` tuple for the `RIV` package is\n",
    "\n",
    "```python\n",
    "# (layer, row, column, stage, cond, rbot)\n",
    "(0, 0, 0, 320., 1e5, 318.)\n",
    "```\n",
    "\n",
    "**HINT**: list comprehension is an easy way to create a river cell in every row in column 20 of the model."
   ]
  },
  {
   "cell_type": "code",
   "execution_count": null,
   "metadata": {},
   "outputs": [],
   "source": []
  },
  {
   "cell_type": "code",
   "execution_count": null,
   "metadata": {},
   "outputs": [],
   "source": []
  },
  {
   "cell_type": "markdown",
   "metadata": {},
   "source": [
    "#### Build output control\n",
    "\n",
    "Define the output control package (`OC`) for the model using the `flopy.mf6.ModflowGwfoc()` method to `[('HEAD', 'ALL'), ('BUDGET', 'ALL')]` to save the head and flow for the model. Also the head (`head_filerecord`) and cell-by-cell flow (`budget_filerecord`) files should be set to `f\"{name}.hds\"` and `f\"{name}.cbc\"`, respectively. Use `Shift-Tab` to see the optional variables that can be specified. A description of the data required by the `OC` package (`flopy.mf6.ModflowGwfoc()`) can be found in the MODFLOW 6 [ReadTheDocs document](https://modflow6.readthedocs.io/en/latest/_mf6io/gwf-oc.html)."
   ]
  },
  {
   "cell_type": "code",
   "execution_count": null,
   "metadata": {},
   "outputs": [],
   "source": []
  },
  {
   "cell_type": "markdown",
   "metadata": {},
   "source": [
    "Because we haven't set `SAVE_FLOWS` to `True` in all of the packages we can set `.name_file.save_flows` to `True` for the groundwater flow model (`gwf`) to save flows for all packages that can save flows. "
   ]
  },
  {
   "cell_type": "code",
   "execution_count": null,
   "metadata": {},
   "outputs": [],
   "source": []
  },
  {
   "cell_type": "markdown",
   "metadata": {},
   "source": [
    "#### Write the model files and run the model\n",
    "\n",
    "Write the MODFLOW 6 model files using `sim.write_simulation()`. Use `Shift-Tab` to see the optional variables that can be specified for `.write_simulation()`."
   ]
  },
  {
   "cell_type": "code",
   "execution_count": null,
   "metadata": {},
   "outputs": [],
   "source": []
  },
  {
   "cell_type": "markdown",
   "metadata": {},
   "source": [
    "Run the model using `sim.run_simulation()`, which will run the MODFLOW 6 executable installed in the Miniforge class environment (`pyclass`) and the MODFLOW 6 model files created with `.write_simulation()`. Use `Shift-Tab` to see the optional variables that can be specified for `.run_simulation()`."
   ]
  },
  {
   "cell_type": "code",
   "execution_count": null,
   "metadata": {},
   "outputs": [],
   "source": []
  },
  {
   "cell_type": "markdown",
   "metadata": {},
   "source": [
    "#### Post-process the results\n",
    "\n",
    "Load the heads and face flows from the hds and cbc files. The head file can be loaded with the `gwf.output.head()` method. The cell-by-cell file can be loaded with the `gwf.output.budget()` method. \n",
    "\n",
    "Name the heads data `hds`."
   ]
  },
  {
   "cell_type": "code",
   "execution_count": null,
   "metadata": {},
   "outputs": [],
   "source": []
  },
  {
   "cell_type": "code",
   "execution_count": null,
   "metadata": {},
   "outputs": [],
   "source": []
  },
  {
   "cell_type": "code",
   "execution_count": null,
   "metadata": {},
   "outputs": [],
   "source": []
  },
  {
   "cell_type": "markdown",
   "metadata": {},
   "source": [
    "The entries in the cell-by-cell file can be determined with the `.list_unique_records()` method on the cell budget file object."
   ]
  },
  {
   "cell_type": "code",
   "execution_count": null,
   "metadata": {},
   "outputs": [],
   "source": []
  },
  {
   "cell_type": "markdown",
   "metadata": {},
   "source": [
    "Retrieve the `'DATA-SPDIS'` data type from the cell-by-cell file. Name the specific discharge data `spd`.\n",
    "\n",
    "Cell-by-cell data is returned as a list so access the data by using `spd = gwf.output.budget().get_data(text=\"DATA-SPDIS\")[0]`."
   ]
  },
  {
   "cell_type": "code",
   "execution_count": null,
   "metadata": {},
   "outputs": [],
   "source": []
  },
  {
   "cell_type": "markdown",
   "metadata": {},
   "source": [
    "#### Plot the results\n",
    "\n",
    "Plot the results using `flopy.plot.PlotMapView()`. The head results can be plotted using the `.plot_array()` method. The discharge results can be plotted using the `plot_specific_discharge()` method. Boundary conditions can be plotted using the `.plot_bc()` method."
   ]
  },
  {
   "cell_type": "code",
   "execution_count": null,
   "metadata": {},
   "outputs": [],
   "source": [
    "with styles.USGSMap():\n",
    "    mm = flopy.plot.PlotMapView(model=gwf, layer=0, extent=gwf.modelgrid.extent)\n",
    "    cbv = mm.plot_array(hds)\n",
    "    q = mm.plot_vector(spd[\"qx\"], spd[\"qy\"])\n",
    "    mm.plot_bc(\"RIV\", color=\"blue\")\n",
    "    mm.plot_bc(\"WEL\", plotAll=True)\n",
    "    mm.plot_grid(lw=0.5, color=\"black\")\n",
    "\n",
    "    # create data outside of plot limits for legend data\n",
    "    font_prop = mpl.font_manager.FontProperties(size=9, weight=\"bold\")\n",
    "    mm.ax.plot(-100, -100, marker=\"s\", lw=0, ms=4, mfc=\"red\", mec=\"black\", mew=0.5, label=\"Well\")\n",
    "    mm.ax.plot(-100, -100, marker=\"s\", lw=0, ms=4, mfc=\"blue\", mec=\"black\", mew=0.5, label=\"River cell\")\n",
    "    \n",
    "    # plot legend\n",
    "    styles.graph_legend(bbox_to_anchor=(1.05, 1.05))\n",
    "    plt.quiverkey(q, X = 1.15, Y = 0.825, U = .200, label ='Specific\\nDischarge', labelpos=\"E\", fontproperties=font_prop) \n",
    "\n",
    "    # plot colorbar\n",
    "    cb = plt.colorbar(cbv, ax=mm.ax, shrink=0.5)\n",
    "    cb.set_label(label=\"Head, ft\", weight=\"bold\")"
   ]
  },
  {
   "cell_type": "code",
   "execution_count": null,
   "metadata": {},
   "outputs": [],
   "source": []
  },
  {
   "cell_type": "code",
   "execution_count": null,
   "metadata": {},
   "outputs": [],
   "source": []
  },
  {
   "cell_type": "code",
   "execution_count": null,
   "metadata": {},
   "outputs": [],
   "source": []
  }
 ],
 "metadata": {
  "kernelspec": {
   "display_name": "Python 3 (ipykernel)",
   "language": "python",
   "name": "python3"
  },
  "language_info": {
   "codemirror_mode": {
    "name": "ipython",
    "version": 3
   },
   "file_extension": ".py",
   "mimetype": "text/x-python",
   "name": "python",
   "nbconvert_exporter": "python",
   "pygments_lexer": "ipython3",
   "version": "3.13.1"
  }
 },
 "nbformat": 4,
 "nbformat_minor": 4
}
