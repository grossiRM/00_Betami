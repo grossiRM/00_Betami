{
 "cells": [
  {
   "cell_type": "code",
   "execution_count": 1,
   "id": "7707ee2f-bca4-437d-aa85-1ee6519bcbea",
   "metadata": {},
   "outputs": [],
   "source": [
    "from tempfile import TemporaryDirectory\n",
    "import numpy as np\n",
    "import flopy"
   ]
  },
  {
   "cell_type": "code",
   "execution_count": 9,
   "id": "bcca9049-fac7-41e3-891e-e6433b678314",
   "metadata": {},
   "outputs": [
    {
     "name": "stdout",
     "output_type": "stream",
     "text": [
      "<flopy.mf6.data.mfstructure.MFDataItemStructure object at 0x000001FB73BEF510>\n",
      "<flopy.mf6.data.mfstructure.MFDataItemStructure object at 0x000001FB73BEF890>\n"
     ]
    }
   ],
   "source": [
    "temp_dir = TemporaryDirectory()\n",
    "workspace = temp_dir.name\n",
    "name = \"tutorial06_mf6_data\"\n",
    "sim = flopy.mf6.MFSimulation(sim_name=name, exe_name=\"mf6\", version=\"mf6\", sim_ws=workspace)\n",
    "tdis = flopy.mf6.modflow.mftdis.ModflowTdis(sim,pname=\"tdis\",time_units=\"DAYS\",nper=2,perioddata=[(1.0, 1, 1.0), (1.0, 1, 1.0)],)\n",
    "model_nam_file = f\"{name}.nam\"\n",
    "gwf = flopy.mf6.ModflowGwf(sim, modelname=name, model_nam_file=model_nam_file)  # _________________________________________________________\n",
    "ims = flopy.mf6.modflow.mfims.ModflowIms(sim, pname=\"ims\", complexity=\"SIMPLE\")\n",
    "bot = np.linspace(-50.0 / 3.0, -3.0, 3)\n",
    "delrow = delcol = 4.0\n",
    "dis = flopy.mf6.modflow.mfgwfdis.ModflowGwfdis(gwf,pname=\"dis\",nogrb=True,nlay=3,nrow=10,ncol=10,delr=delrow,delc=delcol,top=0.0,botm=bot)\n",
    "npf = flopy.mf6.modflow.mfgwfnpf.ModflowGwfnpf(gwf,rewet_record=\"REWET WETFCT 1.0 IWETIT 1 IHDWET 0\",pname=\"npf\",\n",
    "                                               icelltype=1,k=1.0,save_flows=True,xt3doptions=\"xt3d rhs\")\n",
    "npf.rewet_record = [(\"WETFCT\", 1.1, \"IWETIT\", 0, \"IHDWET\", 1)]"
   ]
  },
  {
   "cell_type": "code",
   "execution_count": 7,
   "id": "69ca618a-3565-4f2f-8354-ab4e0700cc3c",
   "metadata": {},
   "outputs": [],
   "source": [
    "stress_period_data = [((1, 8, 8), 100.0), ((1, 9, 9), 105.0)]\n",
    "chd = flopy.mf6.modflow.mfgwfchd.ModflowGwfchd(gwf,pname=\"chd\",maxbound=len(stress_period_data),\n",
    "                                               stress_period_data=stress_period_data,save_flows=True)"
   ]
  },
  {
   "cell_type": "code",
   "execution_count": null,
   "id": "e7b3b30d-101c-4589-b42f-7adf04128ed6",
   "metadata": {},
   "outputs": [],
   "source": []
  }
 ],
 "metadata": {
  "kernelspec": {
   "display_name": "Python 3 (ipykernel)",
   "language": "python",
   "name": "python3"
  },
  "language_info": {
   "codemirror_mode": {
    "name": "ipython",
    "version": 3
   },
   "file_extension": ".py",
   "mimetype": "text/x-python",
   "name": "python",
   "nbconvert_exporter": "python",
   "pygments_lexer": "ipython3",
   "version": "3.11.11"
  }
 },
 "nbformat": 4,
 "nbformat_minor": 5
}
