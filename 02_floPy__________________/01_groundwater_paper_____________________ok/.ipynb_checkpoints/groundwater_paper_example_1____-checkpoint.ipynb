{
 "cells": [
  {
   "cell_type": "markdown",
   "id": "ff87d21c-181c-4eb3-9d09-aba41ffe8700",
   "metadata": {},
   "source": [
    "# __Basic_Flopy_example__01__ok__"
   ]
  },
  {
   "cell_type": "code",
   "execution_count": 5,
   "id": "abbe0603-8259-4f7c-a346-722d43e4e305",
   "metadata": {},
   "outputs": [],
   "source": [
    "import os\n",
    "import sys\n",
    "import flopy\n",
    "import flopy.modflow as fpm\n",
    "import flopy.utils as fpu\n",
    "import matplotlib as mpl\n",
    "import numpy as np\n",
    "from pprint import pformat"
   ]
  },
  {
   "cell_type": "code",
   "execution_count": 6,
   "id": "8e3e7c6d-3827-4604-b61b-0e2881039533",
   "metadata": {},
   "outputs": [],
   "source": [
    "exe = \"mf2005\"\n",
    "ws = os.path.join(\"temp\")\n",
    "model = fpm.Modflow(modelname=\"gwexample\", exe_name=exe, model_ws=ws)"
   ]
  },
  {
   "cell_type": "code",
   "execution_count": 7,
   "id": "7f968be1-bf89-4d07-afbe-d2c4d5db8fbf",
   "metadata": {},
   "outputs": [],
   "source": [
    "fpm.ModflowDis(model, nlay=1, nrow=1, ncol=201, delr=10, delc=1, top=50, botm=0)\n",
    "model.write_input()"
   ]
  },
  {
   "cell_type": "code",
   "execution_count": 8,
   "id": "e13f712d-d1b7-4ee6-bcc9-fbc9b49e9020",
   "metadata": {},
   "outputs": [],
   "source": [
    "ibound = np.ones((1, 201))\n",
    "ibound[0, 0] = ibound[0, -1] = -1\n",
    "fpm.ModflowBas(model, ibound=ibound, strt=20)\n",
    "model.write_input()"
   ]
  },
  {
   "cell_type": "code",
   "execution_count": 9,
   "id": "ef27e832-4dfe-44ec-ac2a-277135e2ef15",
   "metadata": {},
   "outputs": [],
   "source": [
    "fpm.ModflowLpf(model, hk=10, laytyp=1)\n",
    "model.write_input()"
   ]
  },
  {
   "cell_type": "code",
   "execution_count": 10,
   "id": "42bcef77-d8f8-4cee-9595-f469f30987dd",
   "metadata": {},
   "outputs": [],
   "source": [
    "fpm.ModflowRch(model, rech=0.001)\n",
    "model.write_input()"
   ]
  },
  {
   "cell_type": "code",
   "execution_count": 11,
   "id": "577919ee-9b96-4e7c-a50d-e3b55a2ff9f3",
   "metadata": {},
   "outputs": [],
   "source": [
    "lrcQ = {0: [[0, 0, 50, -1], [0, 0, 150, -1]]}\n",
    "fpm.ModflowWel(model, stress_period_data=lrcQ)\n",
    "model.write_input()"
   ]
  },
  {
   "cell_type": "code",
   "execution_count": 12,
   "id": "69f0c1a4-3665-4d9e-b8d8-9104b8a109cf",
   "metadata": {},
   "outputs": [],
   "source": [
    "fpm.ModflowPcg(model)\n",
    "model.write_input()"
   ]
  },
  {
   "cell_type": "code",
   "execution_count": 13,
   "id": "55223cf3-17f1-4b07-a09d-045e73c30bb0",
   "metadata": {},
   "outputs": [],
   "source": [
    "fpm.ModflowOc(model)\n",
    "model.write_input()"
   ]
  },
  {
   "cell_type": "markdown",
   "id": "b6ec23fb-228c-46ab-8bbb-9d8dafdc6b00",
   "metadata": {},
   "source": [
    "# __*.hds__ __!__"
   ]
  },
  {
   "cell_type": "code",
   "execution_count": 14,
   "id": "8328aeb2-97cc-40ac-96a4-9f9dc42e3b62",
   "metadata": {},
   "outputs": [],
   "source": [
    "success, buff = model.run_model(silent=True, report=True)\n",
    "assert success, pformat(buff)"
   ]
  },
  {
   "cell_type": "code",
   "execution_count": null,
   "id": "bdd0ed5a-708f-4fe5-9d58-59cb0decd46e",
   "metadata": {},
   "outputs": [],
   "source": [
    "fpth = os.path.join(ws, \"gwexample.hds\")\n",
    "hfile = fpu.HeadFile(fpth)\n",
    "h = hfile.get_data(totim=1.0)"
   ]
  },
  {
   "cell_type": "code",
   "execution_count": null,
   "id": "9e24fa9c-adc0-45c4-bbb9-cb607f8c3cc6",
   "metadata": {},
   "outputs": [],
   "source": [
    "import matplotlib.pyplot as plt\n",
    "\n",
    "ax = plt.subplot(111)\n",
    "x = model.modelgrid.xcellcenters[0]\n",
    "ax.plot(x, h[0, 0, :])\n",
    "ax.set_xlim(0, x.max())\n",
    "ax.set_xlabel(\"x(m)\")\n",
    "ax.set_ylabel(\"head(m)\")\n",
    "plt.show()"
   ]
  },
  {
   "cell_type": "code",
   "execution_count": null,
   "id": "4f36a0a4-a3bd-4ea1-8a4b-54eb7750a60c",
   "metadata": {},
   "outputs": [],
   "source": []
  }
 ],
 "metadata": {
  "jupytext": {
   "notebook_metadata_filter": "metadata"
  },
  "kernelspec": {
   "display_name": "Python 3 (ipykernel)",
   "language": "python",
   "name": "python3"
  },
  "language_info": {
   "codemirror_mode": {
    "name": "ipython",
    "version": 3
   },
   "file_extension": ".py",
   "mimetype": "text/x-python",
   "name": "python",
   "nbconvert_exporter": "python",
   "pygments_lexer": "ipython3",
   "version": "3.11.11"
  },
  "metadata": {
   "section": "2016gw-paper"
  }
 },
 "nbformat": 4,
 "nbformat_minor": 5
}
