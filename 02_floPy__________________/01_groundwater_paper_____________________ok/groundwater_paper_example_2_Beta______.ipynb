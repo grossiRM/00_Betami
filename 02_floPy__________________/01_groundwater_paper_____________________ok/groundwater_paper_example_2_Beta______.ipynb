{
 "cells": [
  {
   "cell_type": "markdown",
   "id": "ff87d21c-181c-4eb3-9d09-aba41ffe8700",
   "metadata": {},
   "source": [
    "# __Basic_Flopy_example__02__"
   ]
  },
  {
   "cell_type": "code",
   "execution_count": 1,
   "id": "abbe0603-8259-4f7c-a346-722d43e4e305",
   "metadata": {},
   "outputs": [],
   "source": [
    "import os\n",
    "import sys\n",
    "import flopy\n",
    "import flopy.modflow as fpm\n",
    "import flopy.utils as fpu\n",
    "import matplotlib as mpl\n",
    "import numpy as np\n",
    "from pprint import pformat\n",
    "import flopy.utils.binaryfile as bf\n",
    "from pathlib import Path"
   ]
  },
  {
   "cell_type": "code",
   "execution_count": 2,
   "id": "8e3e7c6d-3827-4604-b61b-0e2881039533",
   "metadata": {},
   "outputs": [],
   "source": [
    "name = \"B\"\n",
    "ws = os.path.join(\"temp_02\")"
   ]
  },
  {
   "cell_type": "code",
   "execution_count": 3,
   "id": "b127f0a5-7ca4-4f1c-9aeb-eae7ea8e098c",
   "metadata": {},
   "outputs": [],
   "source": [
    "C = flopy.modflow.Modflow(name, exe_name=\"MF2005\", model_ws=ws)"
   ]
  },
  {
   "cell_type": "code",
   "execution_count": 4,
   "id": "71fa375f-1a73-4884-b594-a37abbeffafa",
   "metadata": {},
   "outputs": [],
   "source": [
    "Lx, Ly, ztop, zbot, nper = 1000,1000,   0,-100,   3\n",
    "nlay, nrow, ncol = 1, 40, 20\n",
    "delr, delc, delv = 10, 1, (ztop - zbot) / nlay           #  Lx / ncol, Ly / nrow, (ztop - zbot) / nlay\n",
    "botm             = np.linspace(ztop, zbot, nlay + 1)     # perlen, nstp = [1, 100, 100], [1, 100, 100]  # steady = [True, False, False]\n",
    "dis = flopy.modflow.ModflowDis(C, nlay, nrow, ncol, delr=delr, delc=delc, top=ztop, botm=botm[1:], nper=nper)"
   ]
  },
  {
   "cell_type": "code",
   "execution_count": 5,
   "id": "3e664b52-f9f3-42c6-80be-5a79a2c62203",
   "metadata": {},
   "outputs": [],
   "source": [
    "ibound = np.ones((nlay, nrow, ncol), dtype=np.int32)     # strt = 10.0 * np.ones((nlay, nrow, ncol), dtype=np.float32)\n",
    "ibound[0, 0] = ibound[0, -1] = -1\n",
    "bas = flopy.modflow.ModflowBas(C, ibound=ibound, strt=20)"
   ]
  },
  {
   "cell_type": "code",
   "execution_count": 6,
   "id": "190958ec-fcc9-4675-9a9d-bbc0ac22e118",
   "metadata": {},
   "outputs": [],
   "source": [
    "hk, laytyp = 10, 1                                        # convertible                 \n",
    "lpf = flopy.modflow.ModflowLpf(C, hk=hk, laytyp=laytyp, ipakcb=1)    "
   ]
  },
  {
   "cell_type": "code",
   "execution_count": 7,
   "id": "a3b34729-46e4-4af7-bcd4-3d3125add643",
   "metadata": {},
   "outputs": [],
   "source": [
    "Rch = flopy.modflow.ModflowRch(C, rech=0.001)"
   ]
  },
  {
   "cell_type": "code",
   "execution_count": 8,
   "id": "797af11a-158e-46e3-acd9-c94d003638c0",
   "metadata": {},
   "outputs": [],
   "source": [
    "lrcq = {0: [[0, 20, 10, -1], [0, 25, 15, -1]]}\n",
    "wel = flopy.modflow.ModflowWel(C, stress_period_data=lrcq)"
   ]
  },
  {
   "cell_type": "code",
   "execution_count": 9,
   "id": "69f0c1a4-3665-4d9e-b8d8-9104b8a109cf",
   "metadata": {},
   "outputs": [],
   "source": [
    "pcg = flopy.modflow.ModflowPcg(C)\n",
    "C.write_input()"
   ]
  },
  {
   "cell_type": "code",
   "execution_count": 10,
   "id": "b02c876f-d15b-4a8c-ab59-6777250e8f41",
   "metadata": {},
   "outputs": [],
   "source": [
    "spd = {(0, 0): [\"print head\", \"print budget\", \"save head\", \"save budget\"]}        \n",
    "oc = flopy.modflow.ModflowOc(C, stress_period_data=spd, compact=True)"
   ]
  },
  {
   "cell_type": "code",
   "execution_count": 11,
   "id": "bd4a3f88-eb98-4429-bdcb-b996e38da768",
   "metadata": {},
   "outputs": [
    {
     "name": "stdout",
     "output_type": "stream",
     "text": [
      "FloPy is using the following executable to run the model: C:\\Users\\gross.DESKTOP-AIRQM2M\\anaconda3\\envs\\gmdsitut\\Scripts\\mf2005.exe\n",
      "\n",
      "                                  MODFLOW-2005     \n",
      "    U.S. GEOLOGICAL SURVEY MODULAR FINITE-DIFFERENCE GROUND-WATER FLOW MODEL\n",
      "                             Version 1.12.00 2/3/2017                        \n",
      "\n",
      " Using NAME file: B.nam \n",
      " Run start date and time (yyyy/mm/dd hh:mm:ss): 2025/01/12 17:29:43\n",
      "\n",
      " Solving:  Stress period:     1    Time step:     1    Ground-Water Flow Eqn.\n",
      " Solving:  Stress period:     2    Time step:     1    Ground-Water Flow Eqn.\n",
      " Solving:  Stress period:     3    Time step:     1    Ground-Water Flow Eqn.\n",
      " Run end date and time (yyyy/mm/dd hh:mm:ss): 2025/01/12 17:29:43\n",
      " Elapsed run time:  0.015 Seconds\n",
      "\n",
      "  Normal termination of simulation\n"
     ]
    }
   ],
   "source": [
    "success, buff = C.run_model()\n",
    "assert success, \"nope.\""
   ]
  },
  {
   "cell_type": "markdown",
   "id": "e8716302-eb66-4c98-9693-e9c8610bfb1a",
   "metadata": {},
   "source": [
    "# __*.hds?__"
   ]
  },
  {
   "cell_type": "markdown",
   "id": "99faabb1-0c83-43f6-9078-dc82295591f1",
   "metadata": {},
   "source": [
    "# __Then__"
   ]
  },
  {
   "cell_type": "code",
   "execution_count": null,
   "id": "312bedb4-4416-49b7-97bf-6136a9a90d1a",
   "metadata": {},
   "outputs": [],
   "source": [
    "fpth = os.path.join(ws, \"C.hds\")\n",
    "hfile = fpu.HeadFile(fpth)\n",
    "h = hfile.get_data(totim=1.0)"
   ]
  },
  {
   "cell_type": "code",
   "execution_count": null,
   "id": "9e24fa9c-adc0-45c4-bbb9-cb607f8c3cc6",
   "metadata": {},
   "outputs": [],
   "source": [
    "import matplotlib.pyplot as plt\n",
    "\n",
    "ax = plt.subplot(111)\n",
    "x = model.modelgrid.xcellcenters[0]\n",
    "ax.plot(x, h[0, 0, :])\n",
    "ax.set_xlim(0, x.max())\n",
    "ax.set_xlabel(\"x(m)\")\n",
    "ax.set_ylabel(\"head(m)\")\n",
    "plt.show()"
   ]
  },
  {
   "cell_type": "code",
   "execution_count": null,
   "id": "4f36a0a4-a3bd-4ea1-8a4b-54eb7750a60c",
   "metadata": {},
   "outputs": [],
   "source": []
  }
 ],
 "metadata": {
  "jupytext": {
   "notebook_metadata_filter": "metadata"
  },
  "kernelspec": {
   "display_name": "Python 3 (ipykernel)",
   "language": "python",
   "name": "python3"
  },
  "language_info": {
   "codemirror_mode": {
    "name": "ipython",
    "version": 3
   },
   "file_extension": ".py",
   "mimetype": "text/x-python",
   "name": "python",
   "nbconvert_exporter": "python",
   "pygments_lexer": "ipython3",
   "version": "3.11.11"
  },
  "metadata": {
   "section": "2016gw-paper"
  }
 },
 "nbformat": 4,
 "nbformat_minor": 5
}
