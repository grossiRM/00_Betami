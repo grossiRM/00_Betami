{
 "cells": [
  {
   "cell_type": "markdown",
   "id": "08d4d782",
   "metadata": {},
   "source": [
    "### `Stoped at ____:   Postrocessing : Get_water_table()__Module`     __________ err __ 2x"
   ]
  },
  {
   "cell_type": "code",
   "execution_count": 1,
   "id": "5acd45ac",
   "metadata": {},
   "outputs": [],
   "source": [
    "import numpy as np                          # Environment Flopy\n",
    "import matplotlib.pyplot as plt\n",
    "import flopy\n",
    "import flopy.mf6 as mf6\n",
    "from flopy.discretization import StructuredGrid\n",
    "from flopy.utils import Raster\n",
    "import sfrmaker"
   ]
  },
  {
   "cell_type": "code",
   "execution_count": 2,
   "id": "be85402f",
   "metadata": {},
   "outputs": [],
   "source": [
    "model_name = 'pleasant'\n",
    "workspace = '.'\n",
    "nper, nlay, nrow, ncol = 1, 3, 60, 70\n",
    "delr, delc = 40, 40\n",
    "xoffset, yoffset = 554400., 389200.0\n",
    "epsg = 3070\n",
    "modelgrid = StructuredGrid(delr=np.ones(ncol) * delr, \n",
    "                           delc=np.ones(nrow) * delc, \n",
    "                           xoff=xoffset, \n",
    "                           yoff=yoffset, \n",
    "                           angrot=0)"
   ]
  },
  {
   "cell_type": "markdown",
   "id": "c7e69f34",
   "metadata": {},
   "source": [
    "### `__*.tif    to   __*.dat`"
   ]
  },
  {
   "cell_type": "code",
   "execution_count": 3,
   "id": "0d6e9f19",
   "metadata": {},
   "outputs": [],
   "source": [
    "br_surf = Raster.load('../data/br_surface.tif')\n",
    "rs = br_surf.resample_to_grid(modelgrid, band=1, method='linear')           # resample_to_grid #\n",
    "np.savetxt('../data/botm_002.dat', rs)"
   ]
  },
  {
   "cell_type": "code",
   "execution_count": 4,
   "id": "290b4ee4",
   "metadata": {},
   "outputs": [],
   "source": [
    "top = [{'filename': '../data/top.dat'}]\n",
    "botm = [{'filename': '../data/botm_000.dat'},\n",
    "        {'filename': '../data/botm_001.dat'},\n",
    "        {'filename': '../data/botm_002.dat'}]\n",
    "k = [{'filename': '../data/k_000.dat'},          # KH\n",
    "     {'filename': '../data/k_001.dat'},\n",
    "     {'filename': '../data/k_002.dat'}]\n",
    "k33 = [{'filename': '../data/k33_000.dat'},      # KV\n",
    "       {'filename': '../data/k33_001.dat'},\n",
    "       {'filename': '../data/k33_002.dat'}]\n",
    "strt = [top[0]] * nlay                           # Top for starting heads\n",
    "recharge = {\n",
    "    0: {'filename': '../data/rch_000.dat'}}      # RCH    qde\n",
    "irch = [{'filename': '../data/irch.dat'}]        # iRCH   local\n",
    "spec_head_perimeter = {\n",
    "    0: {'filename': '../data/chd_000.dat'}}      # chd"
   ]
  },
  {
   "cell_type": "code",
   "execution_count": 5,
   "id": "8b16df86",
   "metadata": {},
   "outputs": [],
   "source": [
    "sim = mf6.MFSimulation(sim_name=model_name, version=\"mf6\", exe_name=\"mf6\", sim_ws=workspace)     # __.nam  \n",
    "\n",
    "tdis = mf6.ModflowTdis(sim, time_units=\"days\", nper=1, perioddata=[(1.0, 1, 1.0)])               # __.dis  \n",
    "ims = mf6.ModflowIms(sim, complexity=\"moderate\", outer_dvclose=0.001)                            # __.ims  Solver\n",
    "# sim.write_simulation() # just in case        # !head -n 10 'mfsim.nam'       # !tail -n 10 'pleasant.tdis'"
   ]
  },
  {
   "cell_type": "code",
   "execution_count": 6,
   "id": "0af601f4",
   "metadata": {},
   "outputs": [],
   "source": [
    "gwf = mf6.ModflowGwf(sim, modelname=model_name, save_flows=True)              \n",
    "\n",
    "oc = mf6.ModflowGwfoc(gwf, head_filerecord=f'{gwf.name}.hds',                                    # __.oc  Output  \n",
    "    budget_filerecord=f'{gwf.name}.cbc',\n",
    "    saverecord=[('head', 'all'), (\"budget\", \"all\")])                                             \n",
    "                \n",
    "dis = mf6.ModflowGwfdis(gwf, nlay=nlay, nrow=nrow, ncol=ncol, delr=delr, delc=delc, top=top, botm=botm, idomain=1)   # __.dis "
   ]
  },
  {
   "cell_type": "code",
   "execution_count": 7,
   "id": "469f5cbb",
   "metadata": {},
   "outputs": [],
   "source": [
    "gwf.modelgrid.set_coord_info(xoff=xoffset, yoff=yoffset, crs=epsg)           # gwf.modelgrid"
   ]
  },
  {
   "cell_type": "code",
   "execution_count": 8,
   "id": "b6995e4b",
   "metadata": {},
   "outputs": [],
   "source": [
    "npf = mf6.ModflowGwfnpf(gwf, icelltype=1, k=k, k33=k33)                      # __.npf "
   ]
  },
  {
   "cell_type": "code",
   "execution_count": 9,
   "id": "1a6ae50a",
   "metadata": {},
   "outputs": [],
   "source": [
    "ic = mf6.ModflowGwfic(gwf, strt=strt)                                        # .in initial conditions "
   ]
  },
  {
   "cell_type": "code",
   "execution_count": 1,
   "id": "e92de2a9",
   "metadata": {},
   "outputs": [],
   "source": [
    "# sim.write_simulation()"
   ]
  },
  {
   "cell_type": "code",
   "execution_count": 11,
   "id": "14e94e72",
   "metadata": {},
   "outputs": [],
   "source": [
    "chd = mf6.ModflowGwfchd(gwf, stress_period_data=spec_head_perimeter)\n",
    "rch = mf6.ModflowGwfrcha(gwf, recharge=recharge, irch=irch)"
   ]
  },
  {
   "cell_type": "code",
   "execution_count": 12,
   "id": "1f07d270",
   "metadata": {},
   "outputs": [],
   "source": [
    "lak = mf6.ModflowGwflak(gwf, boundnames=True, nlakes=1, connectiondata={'filename': '../data/lake_cn.dat'},\n",
    "    packagedata=[[0, 290.85, 345, 'lake1']],\n",
    "    perioddata={0: [[0, 'evaporation', 0.000715], [0, 'rainfall', 0.00209]]},\n",
    "    surfdep=0.1)"
   ]
  },
  {
   "cell_type": "markdown",
   "id": "45f1b5b1",
   "metadata": {},
   "source": [
    "##  ` Streamflow err... intersects`  ____________` err_01 `   "
   ]
  },
  {
   "cell_type": "code",
   "execution_count": null,
   "id": "1f053a1a",
   "metadata": {},
   "outputs": [],
   "source": [
    "lines = sfrmaker.Lines.from_shapefile(shapefile='../data/edited_flowlines.shp', id_column='id', routing_column='toid',\n",
    "    width1_column='width1', width2_column='width2', name_column='name', attr_length_units='meters')\n",
    "sfrdata = lines.to_sfr(model=gwf, model_length_units='meters')\n",
    "sfrdata.set_streambed_top_elevations_from_dem('../data/dem40m.tif', elevation_units='meters')\n",
    "sfrdata.assign_layers()\n",
    "sfr = sfrdata.create_mf6sfr(gwf)"
   ]
  },
  {
   "cell_type": "code",
   "execution_count": null,
   "id": "03fb00f8",
   "metadata": {},
   "outputs": [],
   "source": [
    "sim.write_simulation()\n",
    "sim.run_simulation() "
   ]
  },
  {
   "cell_type": "markdown",
   "id": "079cd5a6",
   "metadata": {},
   "source": [
    "## Postrocessing : Get_water_table()__Module ____` err_02 `"
   ]
  },
  {
   "cell_type": "code",
   "execution_count": 26,
   "id": "55ca4fcf",
   "metadata": {},
   "outputs": [],
   "source": [
    "from flopy.utils.postprocessing import get_water_table"
   ]
  },
  {
   "cell_type": "code",
   "execution_count": 27,
   "id": "819940c6",
   "metadata": {},
   "outputs": [],
   "source": [
    "hds = gwf.output.head().get_data()"
   ]
  },
  {
   "cell_type": "code",
   "execution_count": null,
   "id": "cce6523e",
   "metadata": {},
   "outputs": [],
   "source": [
    "wt = get_water_table(hds, nodata=-1e10)"
   ]
  },
  {
   "cell_type": "code",
   "execution_count": null,
   "id": "12d6d77d",
   "metadata": {},
   "outputs": [],
   "source": [
    "cbc = gwf.output.budget()\n",
    "lak = cbc.get_data(text='lak', full3D=True)[0]\n",
    "sfr = cbc.get_data(text='sfr', full3D=True)[0]"
   ]
  },
  {
   "cell_type": "code",
   "execution_count": null,
   "id": "efd1ad1b",
   "metadata": {},
   "outputs": [],
   "source": [
    "fig, ax = plt.subplots(figsize=(6, 6))\n",
    "pmv = flopy.plot.PlotMapView(gwf, ax=ax)\n",
    "ctr = pmv.contour_array(\n",
    "    wt, levels=np.arange(290, 315, 1), \n",
    "    linewidths=1, colors='b')\n",
    "labels = pmv.ax.clabel(\n",
    "    ctr, inline=True, \n",
    "    fontsize=8, inline_spacing=1)\n",
    "vmin, vmax = -100, 100\n",
    "im = pmv.plot_array(\n",
    "    lak[0], cmap='coolwarm', \n",
    "    vmin=vmin, vmax=vmax)\n",
    "im = pmv.plot_array(\n",
    "    sfr.sum(axis=0), cmap='coolwarm', \n",
    "    vmin=vmin, vmax=vmax)\n",
    "cb = fig.colorbar(\n",
    "    im, shrink=0.5, label='Leakage, in m$^3$/day')\n",
    "ax.set_ylabel(\"Northing, WTM meters\")\n",
    "ax.set_xlabel(\"Easting, WTM meters\")\n",
    "ax.set_aspect(1)\n",
    "plt.tight_layout()\n",
    "plt.savefig('results.pdf')"
   ]
  }
 ],
 "metadata": {
  "kernelspec": {
   "display_name": "Python 3 (ipykernel)",
   "language": "python",
   "name": "python3"
  },
  "language_info": {
   "codemirror_mode": {
    "name": "ipython",
    "version": 3
   },
   "file_extension": ".py",
   "mimetype": "text/x-python",
   "name": "python",
   "nbconvert_exporter": "python",
   "pygments_lexer": "ipython3",
   "version": "3.13.1"
  }
 },
 "nbformat": 4,
 "nbformat_minor": 5
}
