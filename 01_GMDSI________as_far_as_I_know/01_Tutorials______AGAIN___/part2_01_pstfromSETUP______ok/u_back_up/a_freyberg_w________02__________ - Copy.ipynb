{
 "cells": [
  {
   "attachments": {},
   "cell_type": "markdown",
   "metadata": {},
   "source": [
    "## ` 01, 02, 03, 04 `   _______________   ` part2_01_PEST SETUP ` _____________ pstfrom"
   ]
  },
  {
   "cell_type": "code",
   "execution_count": 1,
   "metadata": {},
   "outputs": [],
   "source": [
    "import sys\n",
    "import os\n",
    "import shutil\n",
    "import platform\n",
    "import warnings\n",
    "warnings.filterwarnings(\"ignore\")\n",
    "warnings.filterwarnings(\"ignore\", category=DeprecationWarning) \n",
    "import pandas as pd\n",
    "import numpy as np\n",
    "import matplotlib.pyplot as plt;\n",
    "import pyemu\n",
    "import flopy                          \n",
    "sys.path.insert(0,\"..\")\n",
    "import herebedragons as hbd"
   ]
  },
  {
   "cell_type": "code",
   "execution_count": 2,
   "metadata": {},
   "outputs": [],
   "source": [
    "# assert \"dependencies\" in flopy.__file__      # assert \"dependencies\" in pyemu.__file__"
   ]
  },
  {
   "cell_type": "code",
   "execution_count": 3,
   "metadata": {},
   "outputs": [],
   "source": [
    "org_d = os.path.join('..', '..', 'models', 'monthly_model_files_1lyr_newstress')\n",
    "tmp_d = os.path.join('v1_Pstfrom_data_IN_Frey')                                                           # New folder\n",
    "if os.path.exists(tmp_d):\n",
    "    shutil.rmtree(tmp_d)\n",
    "shutil.copytree(org_d,tmp_d)\n",
    "hbd.prep_bins(tmp_d)                                      # get executables                 _____ org_d  ____   tmp_d _____\n",
    "hbd.prep_deps(tmp_d)                                      # get dependency folders"
   ]
  },
  {
   "cell_type": "code",
   "execution_count": 4,
   "metadata": {},
   "outputs": [
    {
     "name": "stdout",
     "output_type": "stream",
     "text": [
      "loading simulation...\n",
      "  loading simulation name file...\n",
      "  loading tdis package...\n",
      "  loading model gwf6...\n",
      "    loading package dis...\n",
      "    loading package ic...\n",
      "    loading package npf...\n",
      "    loading package sto...\n",
      "    loading package oc...\n",
      "    loading package wel...\n",
      "    loading package rch...\n",
      "    loading package ghb...\n",
      "    loading package sfr...\n",
      "    loading package obs...\n",
      "  loading solution package freyberg6...\n",
      "mf6.exe\n"
     ]
    }
   ],
   "source": [
    "# os.listdir(tmp_d)                                      `GUI ___PstFrom` \n",
    "sim = flopy.mf6.MFSimulation.load(sim_ws=tmp_d)           # simulation                          \n",
    "gwf = sim.get_model()                                     # flow model\n",
    "pyemu.os_utils.run(\"mf6\",cwd=tmp_d)                       # run _________________________________ made beforehand with flopy "
   ]
  },
  {
   "cell_type": "markdown",
   "metadata": {},
   "source": [
    "## ` 05 ___ Spatial Reference`"
   ]
  },
  {
   "cell_type": "code",
   "execution_count": 5,
   "metadata": {},
   "outputs": [
    {
     "name": "stdout",
     "output_type": "stream",
     "text": [
      "   could not remove start_datetime\n"
     ]
    }
   ],
   "source": [
    "sr = pyemu.helpers.SpatialReference.from_namfile(os.path.join(tmp_d, \"freyberg6.nam\"),                               \n",
    "        delr=gwf.dis.delr.array, delc=gwf.dis.delc.array)                 \n",
    "# sr"
   ]
  },
  {
   "cell_type": "code",
   "execution_count": 6,
   "metadata": {},
   "outputs": [],
   "source": [
    "template_ws = os.path.join(\"v1_Pstfrom_Katie_new_folder\")                    # New Folder !\n",
    "start_datetime=\"1-1-2008\"\n",
    "\n",
    "pf = pyemu.utils.PstFrom(original_d=tmp_d,                 # PROJECT\n",
    "                            new_d=template_ws,             # folder\n",
    "                            remove_existing=True,           \n",
    "                            longnames=True,                 \n",
    "                            spatial_reference=sr,          # spatial reference\n",
    "                            zero_based=False,              \n",
    "                            start_datetime=start_datetime, # temporal correlation\n",
    "                            echo=False)                    "
   ]
  },
  {
   "cell_type": "markdown",
   "metadata": {},
   "source": [
    "# <font color='blue'> 06 __ OBS </font>"
   ]
  },
  {
   "cell_type": "code",
   "execution_count": 7,
   "metadata": {},
   "outputs": [],
   "source": [
    "df = pd.read_csv(os.path.join(template_ws,\"heads.csv\"),index_col=0)              # Loading dataframe (PANDAS)\n",
    "hds_df = pf.add_observations(\"heads.csv\",                                \n",
    "                            insfile=\"heads.csv.ins\",                             # INS ____ to pst\n",
    "                            index_cols=\"time\",                           \n",
    "                            use_cols=list(df.columns.values),            \n",
    "                            prefix=\"hds\")                                \n",
    "\n",
    "df = pd.read_csv(os.path.join(template_ws, \"sfr.csv\"), index_col=0)      \n",
    "sfr_df = pf.add_observations(\"sfr.csv\", \n",
    "                            insfile=\"sfr.csv.ins\", \n",
    "                            index_cols=\"time\", \n",
    "                            use_cols=list(df.columns.values),                    # index   \n",
    "                            prefix=\"sfr\")                                "
   ]
  },
  {
   "cell_type": "code",
   "execution_count": 8,
   "metadata": {},
   "outputs": [],
   "source": [
    "# df.tail()            # df.head()                                               # sfr __no__"
   ]
  },
  {
   "cell_type": "code",
   "execution_count": 9,
   "metadata": {},
   "outputs": [],
   "source": [
    "# hds_df.head()        # sfr_df.head()"
   ]
  },
  {
   "cell_type": "code",
   "execution_count": 10,
   "metadata": {},
   "outputs": [
    {
     "name": "stdout",
     "output_type": "stream",
     "text": [
      "noptmax:0, npar_adj:0, nnz_obs:400\n"
     ]
    }
   ],
   "source": [
    "pst = pf.build_pst()    "
   ]
  },
  {
   "cell_type": "markdown",
   "metadata": {},
   "source": [
    "# <font color='red'> 07 __ PAR </font>"
   ]
  },
  {
   "cell_type": "code",
   "execution_count": 11,
   "metadata": {},
   "outputs": [],
   "source": [
    "# len([f for f in os.listdir(template_ws) if f.endswith(\".txt\")])"
   ]
  },
  {
   "cell_type": "code",
   "execution_count": 12,
   "metadata": {},
   "outputs": [],
   "source": [
    "# len([f for f in os.listdir(template_ws) if f.endswith(\".tpl\")])"
   ]
  },
  {
   "cell_type": "markdown",
   "metadata": {},
   "source": [
    "### <font color='red'> Geostatistics ____________________ </font> Kh, Kv, Ss, Sy, RCH (xyz,T). GHB, SFR, WELL (,T)"
   ]
  },
  {
   "cell_type": "code",
   "execution_count": 13,
   "metadata": {},
   "outputs": [],
   "source": [
    "v_grid = pyemu.geostats.ExpVario(contribution=1.0, a=1000, anisotropy=1.0,bearing=0.0)\n",
    "grid_gs = pyemu.geostats.GeoStruct(variograms=v_grid, transform='log')                     # _____  grid_gs          # ax = grid_gs.plot()                                          \n",
    "\n",
    "v_pp = pyemu.geostats.ExpVario(contribution=1.0, a=15000, anisotropy=1.0, bearing=0.0)\n",
    "pp_gs = pyemu.geostats.GeoStruct(variograms=v_pp, transform='log')                         # _____  pp_gs            # _ = pp_gs.plot()            \n",
    "\n",
    "v_time = pyemu.geostats.ExpVario(contribution=1.0, a=60, anisotropy=1.0, bearing=0.0)\n",
    "temporal_gs = pyemu.geostats.GeoStruct(variograms=v_time, transform='none')                # ______ tempotal_gs      # ax = v_time.plot()"
   ]
  },
  {
   "cell_type": "markdown",
   "metadata": {},
   "source": [
    "### `07a __ K       ` GRID ______ PILOT POINTS ______ CTE"
   ]
  },
  {
   "cell_type": "code",
   "execution_count": 14,
   "metadata": {},
   "outputs": [],
   "source": [
    "# plot    df = pf.add_observations(f,prefix=\"hk\",zone_array=ib)        df \n",
    "# df_gr.tail()"
   ]
  },
  {
   "cell_type": "code",
   "execution_count": 15,
   "metadata": {},
   "outputs": [
    {
     "name": "stdout",
     "output_type": "stream",
     "text": [
      "['freyberg6.npf_k_layer1.txt']\n",
      "starting interp point loop for 706 points\n",
      "starting 0\n",
      "starting 1\n",
      "starting 2\n",
      "starting 3\n",
      "starting 4\n",
      "starting 5\n",
      "starting 6\n",
      "starting 7\n",
      "starting 8\n",
      "starting 9\n",
      "took 4.158493 seconds\n"
     ]
    }
   ],
   "source": [
    "tag = \"npf_k_\"\n",
    "files = [f for f in os.listdir(template_ws) if tag in f.lower() and f.endswith(\".txt\")] \n",
    "print(files) \n",
    "ib = gwf.dis.idomain.array[0]                                         # inactive cells        # ib        # plt.imshow(ib)  \n",
    "\n",
    "f = 'freyberg6.npf_k_layer1.txt'\n",
    "df_pp = pf.add_parameters(f, zone_array=ib, par_type=\"pilotpoints\", geostruct=pp_gs,          # __________________ pp_gs\n",
    "                par_name_base=f.split('.')[1].replace(\"_\",\"\")+\"pp\",\n",
    "                pargp=f.split('.')[1].replace(\"_\",\"\")+\"pp\",\n",
    "                ult_ubound=100, upper_bound=5.0,      lower_bound=0.2, ult_lbound=0.01, pp_space=5)  # ___________ Position  "
   ]
  },
  {
   "cell_type": "markdown",
   "metadata": {},
   "source": [
    "## <font color='red'> 07d __ PAR </font>  _____ sto_ss, _____ sto_sy, _____ ne_  "
   ]
  },
  {
   "cell_type": "code",
   "execution_count": 16,
   "metadata": {},
   "outputs": [
    {
     "name": "stdout",
     "output_type": "stream",
     "text": [
      "['freyberg6.sto_ss_layer1.txt']\n"
     ]
    }
   ],
   "source": [
    "tag = \"sto_ss\"\n",
    "files = [f for f in os.listdir(template_ws) if tag in f.lower() and f.endswith(\".txt\")]\n",
    "print(files)"
   ]
  },
  {
   "cell_type": "code",
   "execution_count": 17,
   "metadata": {},
   "outputs": [
    {
     "name": "stdout",
     "output_type": "stream",
     "text": [
      "starting interp point loop for 706 points\n",
      "starting 0\n",
      "starting 1\n",
      "starting 2\n",
      "starting 3\n",
      "starting 4\n",
      "starting 5\n",
      "starting 6\n",
      "starting 7\n",
      "starting 8\n",
      "starting 9\n",
      "took 3.704677 seconds\n"
     ]
    }
   ],
   "source": [
    "f = 'freyberg6.sto_ss_layer1.txt'\n",
    "df_pp = pf.add_parameters(f, zone_array=ib, par_type=\"pilotpoints\", geostruct=pp_gs,          # __________________ pp_gs\n",
    "                par_name_base=f.split('.')[1].replace(\"_\",\"\")+\"pp\",\n",
    "                pargp=f.split('.')[1].replace(\"_\",\"\")+\"pp\",\n",
    "                ult_ubound=0.2, upper_bound=5.0,      lower_bound=1e-3, ult_lbound=1e-7, pp_space=10)  # ___________ Position  "
   ]
  },
  {
   "cell_type": "code",
   "execution_count": 18,
   "metadata": {},
   "outputs": [],
   "source": [
    "f = 'freyberg6.sto_sy_layer1.txt'\n",
    "df_pp = pf.add_parameters(f, zone_array=ib, par_type=\"pilotpoints\", geostruct=pp_gs,          # __________________ pp_gs\n",
    "                par_name_base=f.split('.')[1].replace(\"_\",\"\")+\"pp\",\n",
    "                pargp=f.split('.')[1].replace(\"_\",\"\")+\"pp\",\n",
    "                ult_ubound=0.2, upper_bound=5.0,      lower_bound=0.4, ult_lbound=0.01, pp_space=10)  # ___________ Position  "
   ]
  },
  {
   "cell_type": "code",
   "execution_count": 19,
   "metadata": {},
   "outputs": [
    {
     "name": "stdout",
     "output_type": "stream",
     "text": [
      "['freyberg_mp.ne_layer1.txt', 'freyberg_mp.ne_layer2.txt', 'freyberg_mp.ne_layer3.txt']\n"
     ]
    }
   ],
   "source": [
    "tag = \"ne_\"\n",
    "files = [f for f in os.listdir(template_ws) if tag in f.lower() and f.endswith(\".txt\")]\n",
    "print(files)"
   ]
  },
  {
   "cell_type": "code",
   "execution_count": 20,
   "metadata": {},
   "outputs": [],
   "source": [
    "f = 'freyberg_mp.ne_layer1.txt'\n",
    "df_pp = pf.add_parameters(f, zone_array=ib, par_type=\"pilotpoints\", geostruct=pp_gs,          # __________________ pp_gs\n",
    "                par_name_base=f.split('.')[1].replace(\"_\",\"\")+\"pp\",\n",
    "                pargp=f.split('.')[1].replace(\"_\",\"\")+\"pp\",\n",
    "                ult_ubound=0.2, upper_bound=5.0,      lower_bound=0.4, ult_lbound=0.01, pp_space=10)  # ___________ Position  "
   ]
  },
  {
   "cell_type": "code",
   "execution_count": 21,
   "metadata": {},
   "outputs": [],
   "source": [
    "f = 'freyberg_mp.ne_layer2.txt'\n",
    "df_pp = pf.add_parameters(f, zone_array=ib, par_type=\"pilotpoints\", geostruct=pp_gs,          # __________________ pp_gs\n",
    "                par_name_base=f.split('.')[1].replace(\"_\",\"\")+\"pp\",\n",
    "                pargp=f.split('.')[1].replace(\"_\",\"\")+\"pp\",\n",
    "                ult_ubound=0.2, upper_bound=5.0,      lower_bound=0.4, ult_lbound=0.01, pp_space=10)  # ___________ Position  "
   ]
  },
  {
   "cell_type": "code",
   "execution_count": 22,
   "metadata": {},
   "outputs": [],
   "source": [
    "f = 'freyberg_mp.ne_layer3.txt'\n",
    "df_pp = pf.add_parameters(f, zone_array=ib, par_type=\"pilotpoints\", geostruct=pp_gs,          # __________________ pp_gs\n",
    "                par_name_base=f.split('.')[1].replace(\"_\",\"\")+\"pp\",\n",
    "                pargp=f.split('.')[1].replace(\"_\",\"\")+\"pp\",\n",
    "                ult_ubound=0.2, upper_bound=5.0,      lower_bound=0.4, ult_lbound=0.01, pp_space=10)  # ___________ Position  "
   ]
  },
  {
   "cell_type": "code",
   "execution_count": 23,
   "metadata": {},
   "outputs": [
    {
     "data": {
      "text/plain": [
       "6"
      ]
     },
     "execution_count": 23,
     "metadata": {},
     "output_type": "execute_result"
    }
   ],
   "source": [
    "len([f for f in os.listdir(template_ws) if f.endswith(\".tpl\")])"
   ]
  },
  {
   "cell_type": "markdown",
   "metadata": {},
   "source": [
    "## <font color='red'> 08 __ x,y,z,T  </font> ______ `DIS Recharge (RCH) `_______ ` tDIS temp ` "
   ]
  },
  {
   "cell_type": "code",
   "execution_count": 24,
   "metadata": {},
   "outputs": [],
   "source": [
    "dts = pd.to_datetime(start_datetime) + pd.to_timedelta(np.cumsum(sim.tdis.perioddata.array[\"perlen\"]),unit='d') # container # dts   "
   ]
  },
  {
   "cell_type": "code",
   "execution_count": 25,
   "metadata": {},
   "outputs": [],
   "source": [
    "tag = \"rch_recharge\"\n",
    "files = [f for f in os.listdir(template_ws) if tag in f.lower() and f.endswith(\".txt\")]\n",
    "sp = [int(f.split(\".\")[1].split('_')[-1]) for f in files]\n",
    "d = {s:f for s,f in zip(sp,files)}\n",
    "sp.sort()\n",
    "files = [d[s] for s in sp]                                                            \n",
    "# print(files)"
   ]
  },
  {
   "cell_type": "code",
   "execution_count": 26,
   "metadata": {},
   "outputs": [],
   "source": [
    "for f in files:                                                           \n",
    "    kper = int(f.split('.')[1].split('_')[-1]) - 1                                    # temporal correlation _______________ RCH \n",
    "    pf.add_parameters(filenames=f, zone_array=ib, par_type=\"constant\",                # ____________________________________ tDIS  \n",
    "                    par_name_base=f.split('.')[1]+\"tcn\", pargp=f.split('.')[1]+\"tcn\",\n",
    "                    ult_lbound=0, upper_bound=1.5,       lower_bound=0.5, ult_ubound=1e-3,\n",
    "                    datetime=dts[kper], geostruct=temporal_gs)  "
   ]
  },
  {
   "cell_type": "code",
   "execution_count": 27,
   "metadata": {},
   "outputs": [
    {
     "data": {
      "text/plain": [
       "31"
      ]
     },
     "execution_count": 27,
     "metadata": {},
     "output_type": "execute_result"
    }
   ],
   "source": [
    "len([f for f in os.listdir(template_ws) if f.endswith(\".tpl\")])    "
   ]
  },
  {
   "cell_type": "code",
   "execution_count": 28,
   "metadata": {},
   "outputs": [
    {
     "name": "stdout",
     "output_type": "stream",
     "text": [
      "noptmax:0, npar_adj:89, nnz_obs:400\n"
     ]
    }
   ],
   "source": [
    "pst = pf.build_pst()                                    # ________________________________________________  *. pst _____01 "
   ]
  },
  {
   "cell_type": "markdown",
   "metadata": {},
   "source": [
    "## ` 09 ___ List Files __GHB Head (add) and Conductance (mult) ` <font color='greein'> ___  boundary-condition A </font> "
   ]
  },
  {
   "cell_type": "code",
   "execution_count": 29,
   "metadata": {},
   "outputs": [],
   "source": [
    "# tag = \"ghb_stress_period_data\"\n",
    "# files = [f for f in os.listdir(template_ws) if tag in f.lower() and f.endswith(\".txt\")]            # \n",
    "# print(files) "
   ]
  },
  {
   "cell_type": "code",
   "execution_count": 30,
   "metadata": {},
   "outputs": [],
   "source": [
    "tag = \"ghb_stress_period_data\"\n",
    "files = [f for f in os.listdir(template_ws) if tag in f.lower() and f.endswith(\".txt\")]\n",
    "for f in files:\n",
    "    \n",
    "    name = 'ghbcond'                                         \n",
    "#    pf.add_parameters(f, par_type=\"grid\", geostruct=grid_gs,           # ____________________________________    \n",
    "#                        par_name_base=name+\"gr\", pargp=name+\"gr\",\n",
    "#                        index_cols=[0,1,2], upper_bound=10.0, use_cols=[4], lower_bound=0.1)      # ____col ____ 10 < 4 < 0.1\n",
    "    \n",
    "    pf.add_parameters(f, par_type=\"constant\", geostruct=grid_gs,       # ____________________________________ \n",
    "                        par_name_base=name+\"cn\", pargp=name+\"cn\",\n",
    "                        index_cols=[0,1,2], ult_ubound=100, upper_bound=10.0, use_cols=[4], lower_bound=0.1, ult_lbound=0.01, )      \n",
    "    \n",
    "    name = 'ghbhead'   \n",
    "#    pf.add_parameters(f, par_type=\"grid\", geostruct=grid_gs,           # ____________________________________ \n",
    "#                       par_name_base=name+\"gr\", pargp=name+\"gr\",\n",
    "#                        index_cols=[0,1,2], ult_ubound=42, upper_bound=2.0, use_cols=[3], lower_bound=-2.0, ult_lbound=32.5,\n",
    "#                        par_style=\"a\", transform=\"none\")       \n",
    "    \n",
    "    pf.add_parameters(f, par_type=\"constant\", geostruct=grid_gs,       # ____________________________________   \n",
    "                        par_name_base=name+\"cn\", pargp=name+\"cn\",\n",
    "                        index_cols=[0,1,2], ult_ubound=42, upper_bound=2.0, use_cols=[3], lower_bound=-2.0, ult_lbound=32.5,\n",
    "                        par_style=\"a\", transform=\"none\")                                                                           # added"
   ]
  },
  {
   "cell_type": "code",
   "execution_count": 31,
   "metadata": {},
   "outputs": [
    {
     "name": "stdout",
     "output_type": "stream",
     "text": [
      "noptmax:0, npar_adj:91, nnz_obs:400\n"
     ]
    }
   ],
   "source": [
    "pst = pf.build_pst()   # ________________________________________________________________* pst 04 __________"
   ]
  },
  {
   "cell_type": "markdown",
   "metadata": {},
   "source": [
    "## `10 ___ Pumping rates ___`  well parametrization <font color='greein'> ___  boundary-condition B </font> "
   ]
  },
  {
   "cell_type": "code",
   "execution_count": 32,
   "metadata": {},
   "outputs": [],
   "source": [
    "# tag = \"wel_stress_period_data\"\n",
    "# files = [f for f in os.listdir(template_ws) if tag in f.lower() and f.endswith(\".txt\")] \n",
    "# print(files) "
   ]
  },
  {
   "cell_type": "code",
   "execution_count": 33,
   "metadata": {},
   "outputs": [],
   "source": [
    "files = [f for f in os.listdir(template_ws) if \"wel_stress_period_data\" in f and f.endswith(\".txt\")]\n",
    "sp = [int(f.split(\".\")[1].split('_')[-1]) for f in files]\n",
    "d = {s:f for s,f in zip(sp,files)}\n",
    "sp.sort()\n",
    "files = [d[s] for s in sp]\n",
    "\n",
    "for f in files:\n",
    "    kper = int(f.split('.')[1].split('_')[-1]) - 1                                            \n",
    "    \n",
    "#    pf.add_parameters(filenames=f, index_cols=[0,1,2],                                     # ____________________________________ Well      \n",
    "#                        par_type=\"grid\", par_name_base=\"welgrd\", pargp=\"welgrd\", \n",
    "#                        upper_bound = 4, use_cols=[3], lower_bound=0.25,                   # ____ 4 < 3 < 0.25 \n",
    "#                        datetime=dts[kper])                                                 # added\n",
    "\n",
    "    pf.add_parameters(filenames=f, index_cols=[0,1,2],                                     # ____________________________________ Well \n",
    "                        par_type=\"constant\", par_name_base=\"welcst\", pargp=\"welcst\", \n",
    "                        upper_bound = 4, use_cols=[3], lower_bound=0.25,                    \n",
    "                        datetime=dts[kper], geostruct=temporal_gs)"
   ]
  },
  {
   "cell_type": "code",
   "execution_count": 34,
   "metadata": {},
   "outputs": [
    {
     "name": "stdout",
     "output_type": "stream",
     "text": [
      "noptmax:0, npar_adj:116, nnz_obs:400\n"
     ]
    }
   ],
   "source": [
    "pst = pf.build_pst()   # ________________________________________________________________* pst 04 __________"
   ]
  },
  {
   "cell_type": "markdown",
   "metadata": {},
   "source": [
    "## `11 ___ SFR Conductance ___` (+) time-invariant `inflow`   <font color='greein'> ___  boundary-condition C </font> "
   ]
  },
  {
   "cell_type": "code",
   "execution_count": 35,
   "metadata": {},
   "outputs": [],
   "source": [
    "# tag = \"sfr_packagedata\"\n",
    "# files = [f for f in os.listdir(template_ws) if tag in f.lower() and f.endswith(\".txt\")] # print(files) supressed\n",
    "# tag = \"sfr_perioddata\"\n",
    "# files = [f for f in os.listdir(template_ws) if tag in f.lower() and f.endswith(\".txt\")] # print(files) supressed"
   ]
  },
  {
   "cell_type": "code",
   "execution_count": 36,
   "metadata": {},
   "outputs": [
    {
     "name": "stdout",
     "output_type": "stream",
     "text": [
      "['freyberg6.sfr_packagedata.txt']\n"
     ]
    }
   ],
   "source": [
    "tag = \"sfr_packagedata\"\n",
    "files = [f for f in os.listdir(template_ws) if tag in f.lower() and f.endswith(\".txt\")]\n",
    "assert len(files) == 1                                 \n",
    "print(files)                            # ___________________ ?"
   ]
  },
  {
   "cell_type": "code",
   "execution_count": 37,
   "metadata": {},
   "outputs": [],
   "source": [
    "f = files[0]                                            \n",
    "name = \"sfrcond\"\n",
    "#pf.add_parameters(f,par_type=\"grid\", geostruct=grid_gs, par_name_base=name+\"gr\", pargp=name+\"gr\",           # _____________ Conductance ___ sfr   \n",
    "#                index_cols=[0,2,3], upper_bound=10.0, use_cols=[9], lower_bound=0.1)\n",
    "\n",
    "pf.add_parameters(f, par_type=\"constant\", geostruct=grid_gs, par_name_base=name+\"cn\", pargp=name+\"cn\",\n",
    "                index_cols=[0,2,3], ult_ubound=100, upper_bound=10.0, use_cols=[9], lower_bound=0.1, ult_lbound=0.001)      \n",
    "\n",
    "files = [f for f in os.listdir(template_ws) if \"sfr_perioddata\" in f and f.endswith(\".txt\")]\n",
    "sp = [int(f.split(\".\")[1].split('_')[-1]) for f in files]\n",
    "d = {s:f for s,f in zip(sp,files)}\n",
    "sp.sort()\n",
    "files = [d[s] for s in sp]                                     \n",
    "\n",
    "for f in files:\n",
    "    kper = int(f.split('.')[1].split('_')[-1]) - 1                                          \n",
    "    pf.add_parameters(filenames=f, par_type=\"grid\", par_name_base=\"sfrgr\", pargp=\"sfrgr\",                   # _____________ INFLOW  ___ sfr\n",
    "                        index_cols=[0], upper_bound = 10, use_cols=[2], lower_bound=0.1,     \n",
    "                        datetime=dts[kper], geostruct=temporal_gs)                                           # grid ____ ?"
   ]
  },
  {
   "cell_type": "code",
   "execution_count": 38,
   "metadata": {},
   "outputs": [
    {
     "name": "stdout",
     "output_type": "stream",
     "text": [
      "noptmax:0, npar_adj:118, nnz_obs:400\n"
     ]
    }
   ],
   "source": [
    "pst = pf.build_pst()   # ________________________________________________________________* pst 04 __________"
   ]
  },
  {
   "cell_type": "markdown",
   "metadata": {},
   "source": [
    "# 12 ____  Initial conditions "
   ]
  },
  {
   "cell_type": "code",
   "execution_count": 39,
   "metadata": {},
   "outputs": [
    {
     "name": "stdout",
     "output_type": "stream",
     "text": [
      "(706, 17)\n"
     ]
    }
   ],
   "source": [
    "files = [f for f in os.listdir(template_ws) if \"ic_strt\" in f and f.endswith(\".txt\")]\n",
    "files\n",
    "for f in files:\n",
    "    base = f.split(\".\")[1].replace(\"_\",\"\")\n",
    "    df = pf.add_parameters(f,par_type=\"grid\",par_style=\"d\", par_name_base=base, pargp=base,\n",
    "                           upper_bound=50,lower_bound=15, zone_array=ib, transform=\"none\")\n",
    "    print(df.shape)"
   ]
  },
  {
   "cell_type": "code",
   "execution_count": 40,
   "metadata": {},
   "outputs": [
    {
     "name": "stdout",
     "output_type": "stream",
     "text": [
      "noptmax:0, npar_adj:824, nnz_obs:400\n"
     ]
    }
   ],
   "source": [
    "pst = pf.build_pst()   # ________________________________________________________________* pst 04 __________"
   ]
  },
  {
   "cell_type": "markdown",
   "metadata": {},
   "source": [
    "# 13, 14 _______ __Forward__   __PEST__ ___________ __Sys Commands__"
   ]
  },
  {
   "cell_type": "code",
   "execution_count": 41,
   "metadata": {},
   "outputs": [
    {
     "data": {
      "text/plain": [
       "['mf6']"
      ]
     },
     "execution_count": 41,
     "metadata": {},
     "output_type": "execute_result"
    }
   ],
   "source": [
    "pf.mod_sys_cmds \n",
    "pf.mod_sys_cmds.append(\"mf6\")                    \n",
    "pf.mod_sys_cmds\n",
    "# pst = pf.build_pst()\n",
    "# _ = [print(line.rstrip()) for line in open(os.path.join(template_ws,\"forward_run.py\"))]"
   ]
  },
  {
   "cell_type": "markdown",
   "metadata": {},
   "source": [
    "## <font color='magenta'> 16 (15) ____ Secondary Observations </font> _____________________________________ * pst 04 __________"
   ]
  },
  {
   "cell_type": "code",
   "execution_count": 42,
   "metadata": {},
   "outputs": [
    {
     "name": "stdout",
     "output_type": "stream",
     "text": [
      "Secondary observation files processed.\n"
     ]
    }
   ],
   "source": [
    "import helpers\n",
    "helpers.process_secondary_obs(ws=template_ws)  # [f for f in os.listdir(template_ws) if f.endswith(\".csv\")]\n",
    "pf.add_py_function(\"helpers.py\",                                               \n",
    "                    \"process_secondary_obs(ws='.')\",                           \n",
    "                    is_pre_cmd=False)                                          # before | after* the model system command"
   ]
  },
  {
   "cell_type": "code",
   "execution_count": 43,
   "metadata": {},
   "outputs": [],
   "source": [
    "df = pd.read_csv(os.path.join(template_ws, \"sfr.tdiff.csv\"), index_col=0)      # Add..___ = emporal-differences between OBS\n",
    "_ = pf.add_observations(\"sfr.tdiff.csv\",                                       \n",
    "                            insfile=\"sfr.tdiff.csv.ins\",                       # NEW AUX OBS ____ sfr.tdiff _______ sfrtd\n",
    "                            index_cols=\"time\",                                 \n",
    "                            use_cols=list(df.columns.values),                 \n",
    "                            prefix=\"sfrtd\")                                    \n",
    "                            \n",
    "df = pd.read_csv(os.path.join(template_ws, \"heads.tdiff.csv\"), index_col=0)\n",
    "_ = pf.add_observations(\"heads.tdiff.csv\", \n",
    "                            insfile=\"heads.tdiff.csv.ins\",                     # NEW AUX OBS ____ heads.tdiff _____ hdstd \n",
    "                            index_cols=\"time\", \n",
    "                            use_cols=list(df.columns.values), \n",
    "                            prefix=\"hdstd\")                                    # just || time and positions || "
   ]
  },
  {
   "cell_type": "code",
   "execution_count": 44,
   "metadata": {},
   "outputs": [],
   "source": [
    "# _ = [print(line.rstrip()) for line in open(os.path.join(template_ws,\"forward_run.py\"))]  \n",
    "# `extract_hds_array_and_list_dfs()`\n",
    "# obs = pst.observation_data  # obs  "
   ]
  },
  {
   "cell_type": "markdown",
   "metadata": {},
   "source": [
    "# <font color='magenta'> 15 (16) ____ [pre-post]-Processing </font> Heads & MB ____________ * pst 03 __________"
   ]
  },
  {
   "cell_type": "code",
   "execution_count": 45,
   "metadata": {},
   "outputs": [
    {
     "name": "stdout",
     "output_type": "stream",
     "text": [
      "noptmax:0, npar_adj:824, nnz_obs:21250\n"
     ]
    }
   ],
   "source": [
    "pf.add_py_function(\"helpers.py\",\"extract_hds_arrays_and_list_dfs()\",is_pre_cmd=False)      \n",
    "\n",
    "helpers.test_extract_hds_arrays(template_ws)\n",
    "files = [f for f in os.listdir(template_ws) if f.startswith(\"hdslay\")]\n",
    "for f in files:\n",
    "    pf.add_observations(f,prefix=f.split(\".\")[0],obsgp=f.split(\".\")[0])              # ______________ Heads of all modelled cells ______________\n",
    "# files = [f for f in os.listdir(template_ws) if f.startswith(\"hdslay\")]             # files\n",
    "\n",
    "for f in [\"inc.csv\",\"cum.csv\"]:\n",
    "    df = pd.read_csv(os.path.join(template_ws,f),index_col=0)\n",
    "    pf.add_observations(f,index_cols=[\"totim\"],use_cols=list(df.columns.values),\n",
    "                        prefix=f.split('.')[0],obsgp=f.split(\".\")[0])                # ______________ Mass Balance ____________________\n",
    "\n",
    "pst = pf.build_pst()                               # ________________________________* pst 03 __________"
   ]
  },
  {
   "cell_type": "markdown",
   "metadata": {},
   "source": [
    "## `18 ____ Fixing possible trouble \"addictive mode of ...  \" GHB_heads "
   ]
  },
  {
   "cell_type": "code",
   "execution_count": 46,
   "metadata": {},
   "outputs": [],
   "source": [
    "head_pargps = [i for i in pst.adj_par_groups if 'head' in i]\n",
    "\n",
    "pst.parameter_groups.loc[head_pargps, 'inctyp'] = 'absolute'\n",
    "par = pst.parameter_data\n",
    "par_names = par.loc[par.parval1==0].parnme                    \n",
    "\n",
    "offset = -10\n",
    "par.loc[par_names, 'offset'] = offset\n",
    "par.loc[par_names, ['parval1', 'parlbnd', 'parubnd']] -= offset"
   ]
  },
  {
   "cell_type": "code",
   "execution_count": 47,
   "metadata": {},
   "outputs": [],
   "source": [
    "# head_pargps\n",
    "# par.loc[par_names].head()"
   ]
  },
  {
   "cell_type": "markdown",
   "metadata": {},
   "source": [
    "## 19 ____ Forecasts ____ __\"right at the beginning\"__"
   ]
  },
  {
   "cell_type": "code",
   "execution_count": 48,
   "metadata": {},
   "outputs": [],
   "source": [
    "forecasts =['oname:sfr_otype:lst_usecol:tailwater_time:4383.5',\n",
    "            'oname:sfr_otype:lst_usecol:headwater_time:4383.5',\n",
    "            'oname:hds_otype:lst_usecol:trgw-0-9-1_time:4383.5',\n",
    "            'part_time']\n",
    "# forecasts"
   ]
  },
  {
   "cell_type": "code",
   "execution_count": 49,
   "metadata": {},
   "outputs": [],
   "source": [
    "# fobs = obs.loc[forecasts,:]\n",
    "# fobs"
   ]
  },
  {
   "cell_type": "code",
   "execution_count": 50,
   "metadata": {},
   "outputs": [],
   "source": [
    "pst.pestpp_options['forecasts'] = forecasts"
   ]
  },
  {
   "cell_type": "markdown",
   "metadata": {},
   "source": [
    "## <font color='green'> __20__ __Write____ NEW _ PEST control file __.pst__04__ _____________ * external files </font>  "
   ]
  },
  {
   "cell_type": "code",
   "execution_count": 51,
   "metadata": {},
   "outputs": [
    {
     "name": "stdout",
     "output_type": "stream",
     "text": [
      "noptmax:0, npar_adj:824, nnz_obs:21250\n"
     ]
    }
   ],
   "source": [
    "pst.write(os.path.join(template_ws, 'v1_Pstfrom_data_IN_Frey.pst'),version=2)          # First time written "
   ]
  },
  {
   "cell_type": "code",
   "execution_count": 52,
   "metadata": {},
   "outputs": [
    {
     "name": "stdout",
     "output_type": "stream",
     "text": [
      "pestpp-glm.exe v1_Pstfrom_data_IN_Frey.pst\n"
     ]
    }
   ],
   "source": [
    "pyemu.os_utils.run('pestpp-glm v1_Pstfrom_data_IN_Frey.pst', cwd=template_ws)"
   ]
  },
  {
   "cell_type": "code",
   "execution_count": 53,
   "metadata": {},
   "outputs": [
    {
     "data": {
      "text/plain": [
       "0    0\n",
       "Name: total_phi, dtype: int64"
      ]
     },
     "execution_count": 53,
     "metadata": {},
     "output_type": "execute_result"
    }
   ],
   "source": [
    "iobj = pd.read_csv(os.path.join(template_ws, 'v1_Pstfrom_data_IN_Frey.iobj'))\n",
    "iobj.total_phi"
   ]
  },
  {
   "cell_type": "markdown",
   "metadata": {},
   "source": [
    "# <font color='green'> 21 ____ Prior Parameter Covariance Matrix </font>"
   ]
  },
  {
   "cell_type": "code",
   "execution_count": 54,
   "metadata": {},
   "outputs": [
    {
     "data": {
      "image/png": "[encoded data removed]",
      "text/plain": [
       "<Figure size 640x480 with 1 Axes>"
      ]
     },
     "metadata": {},
     "output_type": "display_data"
    }
   ],
   "source": [
    "if pf.pst.npar < 35000:  \n",
    "    cov = pf.build_prior(fmt='coo', filename=os.path.join(template_ws,\"prior_cov.jcb\"))\n",
    "    try: \n",
    "        x = cov.x.copy()\n",
    "        x[x==0] = np.NaN\n",
    "        plt.imshow(x[:1000,:1000])\n",
    "    except:\n",
    "        pass"
   ]
  },
  {
   "cell_type": "code",
   "execution_count": 55,
   "metadata": {},
   "outputs": [
    {
     "data": {
      "text/plain": [
       "['pname:npfklayer1pp_inst:0_ptype:pp_pstyle:m_i:2_j:2_zone:1',\n",
       " 'pname:npfklayer1pp_inst:0_ptype:pp_pstyle:m_i:2_j:7_zone:1',\n",
       " 'pname:npfklayer1pp_inst:0_ptype:pp_pstyle:m_i:2_j:12_zone:1',\n",
       " 'pname:npfklayer1pp_inst:0_ptype:pp_pstyle:m_i:2_j:17_zone:1',\n",
       " 'pname:npfklayer1pp_inst:0_ptype:pp_pstyle:m_i:7_j:2_zone:1',\n",
       " 'pname:npfklayer1pp_inst:0_ptype:pp_pstyle:m_i:7_j:7_zone:1',\n",
       " 'pname:npfklayer1pp_inst:0_ptype:pp_pstyle:m_i:7_j:12_zone:1',\n",
       " 'pname:npfklayer1pp_inst:0_ptype:pp_pstyle:m_i:7_j:17_zone:1',\n",
       " 'pname:npfklayer1pp_inst:0_ptype:pp_pstyle:m_i:12_j:2_zone:1',\n",
       " 'pname:npfklayer1pp_inst:0_ptype:pp_pstyle:m_i:12_j:12_zone:1']"
      ]
     },
     "execution_count": 55,
     "metadata": {},
     "output_type": "execute_result"
    }
   ],
   "source": [
    "cov.row_names[:10]"
   ]
  },
  {
   "cell_type": "code",
   "execution_count": 56,
   "metadata": {},
   "outputs": [
    {
     "name": "stdout",
     "output_type": "stream",
     "text": [
      "building diagonal cov\n",
      "processing  name:struct1,nugget:0.0,structures:\n",
      "name:var1,contribution:1.0,a:15000.0,anisotropy:1.0,bearing:0.0\n",
      "\n",
      "working on pargroups ['npfklayer1pp']\n",
      "build cov matrix\n",
      "done\n",
      "getting diag var cov 29\n",
      "scaling full cov by diag var cov\n",
      "working on pargroups ['stosslayer1pp']\n",
      "build cov matrix\n",
      "done\n",
      "getting diag var cov 7\n",
      "scaling full cov by diag var cov\n",
      "working on pargroups ['stosylayer1pp']\n",
      "build cov matrix\n",
      "done\n",
      "getting diag var cov 7\n",
      "scaling full cov by diag var cov\n",
      "working on pargroups ['nelayer1pp']\n",
      "build cov matrix\n",
      "done\n",
      "getting diag var cov 7\n",
      "scaling full cov by diag var cov\n",
      "working on pargroups ['nelayer2pp']\n",
      "build cov matrix\n",
      "done\n",
      "getting diag var cov 7\n",
      "scaling full cov by diag var cov\n",
      "working on pargroups ['nelayer3pp']\n",
      "build cov matrix\n",
      "done\n",
      "getting diag var cov 7\n",
      "scaling full cov by diag var cov\n",
      "processing  name:struct1,nugget:0.0,structures:\n",
      "name:var1,contribution:1.0,a:60.0,anisotropy:1.0,bearing:0.0\n",
      "\n",
      "working on pargroups ['welcst']\n",
      "build cov matrix\n",
      "done\n",
      "getting diag var cov 25\n",
      "scaling full cov by diag var cov\n",
      "adding remaining parameters to diagonal\n"
     ]
    }
   ],
   "source": [
    "pe = pf.draw(num_reals=1000, use_specsim=True)                      # PAR ___ prior___ distribution\n",
    "pe.enforce()                                               \n",
    "pe.to_binary(os.path.join(template_ws,\"prior_pe.jcb\"))     \n",
    "assert pe.shape[1] == pst.npar                                      # Rolling the dice ..."
   ]
  },
  {
   "cell_type": "code",
   "execution_count": 57,
   "metadata": {},
   "outputs": [
    {
     "data": {
      "text/plain": [
       "array([ 1.86669938,  1.78913106,  1.81592163,  1.578436  ,  1.62775225,\n",
       "        1.61249676,  1.99630014,  1.58510384,  1.58071355,  1.43020939,\n",
       "        1.38476712,  1.22814692,  1.69772864,  1.77779245,  1.42942713,\n",
       "        1.0318787 ,  1.32291671,  1.85408292,  1.5769109 ,  1.09391305,\n",
       "        1.39787512,  1.87748518,  1.56259481,  1.29012886,  1.5538447 ,\n",
       "        1.97372058,  1.14360499,  1.46684186,  1.9486279 ,  0.19463997,\n",
       "        0.23161156,  1.38454634,  1.40006231,  2.05832046,  3.70402718,\n",
       "        2.59246022,  0.96927514,  0.86212478,  0.75597392,  0.97618158,\n",
       "        1.02044311,  0.68943449,  1.1175396 ,  0.7578896 ,  0.96077957,\n",
       "        0.9150772 ,  0.61570515,  0.89425969,  0.44582327,  0.60388472,\n",
       "        0.88896317,  1.07301651,  1.00112774,  0.94307716,  0.92992686,\n",
       "        1.05092601,  1.17864061,  0.57086109,  0.70965819,  0.57673503,\n",
       "        0.9082352 ,  0.69823529,  0.80389357,  0.84175255,  1.29761122,\n",
       "        1.32833627,  0.98855026,  0.84361906,  1.13962366,  1.16231168,\n",
       "        1.01258444,  0.96172806,  1.11060609,  1.03832581,  1.02072323,\n",
       "        1.15017891,  1.19291946,  1.07721052,  0.54953819,  0.90523875,\n",
       "        0.9797739 ,  0.94107286,  0.99300028,  0.72208284,  1.2104687 ,\n",
       "        1.23385711,  0.93442397,  0.91672734,  1.01157356,  0.7434967 ,\n",
       "        9.99689711,  0.70141002,  0.58510366,  0.48990459,  0.81368928,\n",
       "        0.38568544,  0.54125498,  0.59726986,  1.19628625,  1.37844192,\n",
       "        0.78837178,  1.37454784,  1.36052477,  1.1590937 ,  0.77252829,\n",
       "        0.42257965,  0.64750493,  1.24952187,  1.08668359,  0.99436431,\n",
       "        0.4685845 ,  1.16807334,  0.7810595 ,  0.74335191,  0.81534708,\n",
       "        0.55338134,  1.76812876,  0.85968183, 41.23433983, 27.62561914,\n",
       "       43.09764335, 36.08851243, 35.12237553, 41.67400905, 46.65045414,\n",
       "       33.83055999, 29.32846842, 35.95567228, 45.00688686, 42.23892774,\n",
       "       41.5344966 , 42.87551383, 27.43509084, 34.46417909, 37.11121028,\n",
       "       42.76660488, 24.99401202, 42.23805897, 45.52141436, 45.69160295,\n",
       "       46.38000624, 45.29155227, 37.81182438, 45.67164282, 27.81607774,\n",
       "       42.84770503, 38.54980081, 27.41828398, 50.        , 38.0050991 ,\n",
       "       20.73751987, 24.06886955, 38.44207236, 46.46255026, 38.56992282,\n",
       "       43.33112073, 34.74768109, 38.54973943, 43.76131679, 43.632798  ,\n",
       "       50.        , 39.96405172, 31.29194712, 36.51314907, 34.12967837,\n",
       "       33.87068412, 43.92578526, 39.58613809, 31.66881299, 35.08863559,\n",
       "       32.28133879, 34.92892374, 36.16284984, 34.76947367, 29.45288099,\n",
       "       35.17306697, 35.53803665, 37.77785596, 41.43312113, 37.76999332,\n",
       "       39.45619147, 30.86149095, 27.95688022, 45.70729792, 25.55678416,\n",
       "       37.30070184, 40.05800665, 48.13504056, 44.22443432, 47.78451735,\n",
       "       44.04773833, 42.31891258, 44.24784566, 29.90735919, 32.43501442,\n",
       "       29.67262475, 43.85726753, 38.18798826, 36.71458686, 39.11229233,\n",
       "       33.87292538, 41.96624211, 39.25708318, 46.78015724, 34.14668857,\n",
       "       40.04159552, 32.32985575, 36.33174474, 30.28228034, 30.80431188,\n",
       "       36.05882498, 36.75055021, 31.91023913, 34.98179845, 25.37557693,\n",
       "       32.50811514, 50.        , 35.60192998, 38.25360683, 38.61852137,\n",
       "       46.17580886, 43.59186568, 45.54657568, 36.16308907, 37.32344576,\n",
       "       41.21186551, 32.68765803, 42.11155572, 26.72620208, 39.61477021,\n",
       "       29.42497362, 38.03290732, 28.7433298 , 29.91114803, 32.69144612,\n",
       "       36.58785021, 31.93877132, 23.49555749, 33.67478953, 28.64423776,\n",
       "       40.96208437, 37.94870168, 38.02011938, 41.01595909, 35.70385624,\n",
       "       45.59516747, 37.41224346, 31.29496753, 26.77361898, 27.65824359,\n",
       "       38.93566717, 27.48649558, 28.16448832, 33.74961919, 37.6541269 ,\n",
       "       27.99246871, 31.08771834, 29.23877104, 36.90442695, 38.19892004,\n",
       "       44.53138013, 35.38010538, 41.22093087, 32.11399629, 28.62858583,\n",
       "       37.58575959, 34.94994073, 30.79545416, 35.84352132, 31.50370055,\n",
       "       16.50869154, 27.57002881, 37.52396163, 35.56814437, 45.77996407,\n",
       "       33.7874262 , 34.08727138, 38.81162734, 47.27207302, 38.96497358,\n",
       "       40.02890387, 41.27935463, 29.80402108, 38.53376207, 37.2790555 ,\n",
       "       27.52663294, 31.88800798, 28.4728488 , 44.31248391, 39.24848043,\n",
       "       29.43459081, 41.93152784, 27.72876021, 35.59812428, 33.37997803,\n",
       "       40.50726106, 37.73903068, 35.53028964, 49.44453942, 42.75578097,\n",
       "       34.31594151, 19.89927775, 41.31257172, 24.32737463, 40.14545081,\n",
       "       34.27950903, 31.99651255, 33.84983676, 39.37820778, 28.29398944,\n",
       "       43.36129419, 34.3122331 , 44.40627642, 32.96199504, 37.72643571,\n",
       "       37.1936787 , 36.33370271, 32.08990228, 32.79977407, 31.01003478,\n",
       "       38.24780427, 28.83079112, 24.97712352, 30.71231932, 45.22154702,\n",
       "       42.65360074, 41.87219418, 37.67643078, 46.30102506, 46.06553327,\n",
       "       37.43363063, 46.98991408, 25.09092542, 41.64423993, 29.85425623,\n",
       "       30.72226559, 23.17935291, 25.52923762, 22.04986169, 41.88809717,\n",
       "       33.97557285, 29.90770662, 33.1212105 , 48.91244395, 38.25601193,\n",
       "       44.83286764, 36.80330321, 29.64964492, 37.51451569, 36.15706403,\n",
       "       33.79514887, 32.23595587, 41.68694051, 33.05666903, 44.1109002 ,\n",
       "       36.07461147, 39.53391194, 33.33604387, 37.89223023, 39.57312574,\n",
       "       49.21599913, 35.65148408, 36.22233779, 40.30245413, 31.94321137,\n",
       "       37.58445472, 27.61587386, 22.79688225, 31.81555683, 43.95486508,\n",
       "       37.75892466, 30.28678703, 36.42920635, 37.80477216, 48.92366009,\n",
       "       47.57772773, 35.44922968, 36.77876845, 30.52126633, 37.16363589,\n",
       "       38.77213276, 43.11480438, 31.6197308 , 27.03767824, 37.84931389,\n",
       "       43.7620794 , 29.46269127, 36.08078832, 31.54885262, 34.21673007,\n",
       "       34.86080464, 38.48573345, 41.39906457, 43.51466486, 33.36632132,\n",
       "       38.76105064, 49.60712604, 43.67816386, 27.89854746, 45.57640305,\n",
       "       37.58780408, 23.15201563, 23.02754346, 31.72717288, 32.86987426,\n",
       "       42.28908809, 39.05241106, 29.6766491 , 41.41122772, 50.        ,\n",
       "       50.        , 36.31962504, 33.83740021, 32.29610202, 36.82283692,\n",
       "       37.50236033, 38.21038186, 42.14073094, 42.02093076, 37.21222675,\n",
       "       28.94003407, 28.94133024, 36.30305268, 44.69141471, 38.62755617,\n",
       "       42.63412264, 33.4567936 , 43.24923534, 37.26551866, 44.17256752,\n",
       "       28.34548792, 37.1319573 , 32.36227093, 32.60940297, 34.55178392,\n",
       "       33.7743632 , 27.19285737, 32.85262635, 38.46306682, 38.81700043,\n",
       "       34.74658009, 48.2451825 , 50.        , 33.14954086, 40.55333386,\n",
       "       34.14479176, 28.54747526, 37.54031434, 43.16101912, 43.23175021,\n",
       "       40.34243319, 38.29614721, 33.62087036, 31.65936647, 29.27271937,\n",
       "       41.96894245, 35.03811846, 39.50462096, 37.9057601 , 38.8353913 ,\n",
       "       47.94317467, 30.95343142, 47.30616239, 36.82091628, 24.21006426,\n",
       "       34.27473064, 31.43016823, 32.40541173, 34.84017942, 23.43770336,\n",
       "       37.82113128, 38.88366431, 27.54522158, 41.86446993, 45.97107519,\n",
       "       31.63558478, 37.99342081, 31.49023038, 40.01462972, 42.17418841,\n",
       "       38.59459636, 29.88789797, 31.5352619 , 32.72290948, 39.80158688,\n",
       "       42.33514443, 34.34802551, 35.24429785, 49.84621579, 32.39682908,\n",
       "       37.57808451, 37.67887047, 38.77330619, 41.31304391, 40.30056658,\n",
       "       37.21083637, 36.88863916, 34.54194132, 38.40165848, 39.92669131,\n",
       "       41.27700778, 48.18485661, 35.87454282, 41.09860065, 33.68272759,\n",
       "       43.34184113, 39.75620859, 31.9869919 , 36.68750678, 32.04986291,\n",
       "       38.97677589, 30.80840743, 43.64386696, 32.01846438, 40.34691721,\n",
       "       35.1693155 , 38.91757525, 33.41582428, 27.68770508, 32.44865792,\n",
       "       33.3832097 , 38.26309702, 38.9002088 , 24.36644629, 45.22062766,\n",
       "       35.61687709, 47.8127843 , 31.52222484, 30.27269567, 27.79088631,\n",
       "       43.47797626, 33.37144895, 38.05921763, 37.22654385, 32.59843174,\n",
       "       30.70518734, 42.94254668, 34.52013835, 44.06421936, 45.18713324,\n",
       "       36.59190686, 36.47347208, 33.625041  , 37.39075365, 38.20739008,\n",
       "       30.81033919, 36.32625084, 39.47953227, 37.9227915 , 36.12740365,\n",
       "       21.46433656, 24.84119091, 38.91645491, 26.93372655, 31.25878917,\n",
       "       39.78972177, 41.29019755, 28.86106041, 29.81703211, 38.34878159,\n",
       "       36.16663746, 32.66399355, 30.18463244, 37.44046821, 37.16904861,\n",
       "       39.65099729, 50.        , 37.83173398, 35.51598187, 34.49558252,\n",
       "       33.33018763, 30.09032817, 28.55156781, 36.29682867, 46.87731925,\n",
       "       33.10463197, 33.83662454, 27.59673013, 38.82139344, 34.39639849,\n",
       "       45.04178325, 32.13406507, 28.72659021, 30.64674512, 31.21386897,\n",
       "       34.83385044, 24.84561538, 43.81856367, 30.86683027, 35.8112368 ,\n",
       "       32.06154741, 35.76848151, 32.63619381, 35.72210964, 42.27515324,\n",
       "       29.87884427, 39.39141932, 39.99042723, 43.36080816, 25.91593497,\n",
       "       25.89021266, 34.89298348, 35.67262646, 42.93451419, 26.32204562,\n",
       "       48.75472355, 37.82625838, 35.60665287, 23.23337594, 34.08381654,\n",
       "       36.89222759, 37.54305922, 40.38487019, 34.8305438 , 28.42030583,\n",
       "       38.53848701, 27.47300265, 41.39004236, 35.97844464, 30.22780306,\n",
       "       34.77879956, 40.61717851, 29.39640729, 32.59175366, 35.5303666 ,\n",
       "       30.53425074, 41.49015196, 37.03860028, 31.00720081, 32.39135418,\n",
       "       43.70701964, 30.8407365 , 40.13824102, 41.61080322, 28.26849116,\n",
       "       35.74071969, 37.69895798, 40.43325544, 37.89970058, 34.00719348,\n",
       "       27.25160957, 34.27395748, 36.32761183, 33.22649491, 37.61499229,\n",
       "       35.67475405, 42.46713355, 45.31733013, 35.47103975, 33.34189815,\n",
       "       27.18135794, 28.09469591, 40.71449455, 29.71717769, 30.66055027,\n",
       "       30.14956662, 30.71755993, 23.93148755, 37.78673185, 34.77796629,\n",
       "       37.28499035, 43.2130771 , 37.07425981, 30.5079932 , 28.30666666,\n",
       "       33.44994383, 35.02556322, 43.73486949, 39.15510726, 30.38930466,\n",
       "       35.26570579, 35.24458143, 23.1643756 , 41.15875203, 42.8261021 ,\n",
       "       30.20874986, 36.58916911, 37.9107461 , 36.33196016, 34.30948115,\n",
       "       28.83825607, 47.83121273, 37.56512473, 37.31877466, 28.31208104,\n",
       "       32.23191259, 41.24338324, 30.10217614, 37.07157628, 36.49078993,\n",
       "       38.11792788, 46.14624404, 38.631657  , 35.5908421 , 37.62854361,\n",
       "       28.9778995 , 34.12527415, 32.96484774, 28.55871813, 38.0817412 ,\n",
       "       30.83888319, 32.29089555, 41.20948369, 33.95515388, 37.42335038,\n",
       "       33.48307615, 40.77546971, 31.90567844, 38.23093718, 36.3193687 ,\n",
       "       25.8303102 , 40.86557776, 40.46354933, 34.20320715, 40.53519948,\n",
       "       30.62199832, 48.49247726, 30.70463416, 27.59298119, 42.14922797,\n",
       "       30.12882469, 39.07356224, 39.01289569, 38.63540532, 37.68538112,\n",
       "       37.27949045, 24.14922785, 37.38211047, 28.96200772, 40.36728584,\n",
       "       38.18206289, 32.63070485, 25.69917726, 24.92516392, 33.72702015,\n",
       "       39.5969354 , 28.73401845, 37.5119721 , 31.42797685, 38.62427479,\n",
       "       32.46014025, 32.42154599, 32.70550826, 26.79057302, 48.84902112,\n",
       "       36.71943048, 36.05898633, 32.81472878, 35.00922004, 41.67842262,\n",
       "       31.03386363, 29.74509833, 28.9206991 , 38.64381087, 26.02574094,\n",
       "       42.17284092, 35.52020723, 35.38149441, 30.76646846, 34.43581595,\n",
       "       39.02706347, 32.49867805, 28.54366422, 31.15486317, 34.55734129,\n",
       "       28.24907052, 31.15026015, 34.06940562, 36.82494897, 40.70696454,\n",
       "       36.75387171, 39.36746566, 43.51895678, 28.85870454, 36.17704922,\n",
       "       34.08675687, 35.15144056, 31.10058032, 30.63157626, 40.06280042,\n",
       "       25.42253327, 26.27800466, 30.27992213, 34.43917789, 36.36185245,\n",
       "       30.51704968, 34.79814364, 39.45483096, 44.56233749, 28.2894844 ,\n",
       "       27.38579346, 40.24684731, 19.99813233, 39.96906125, 35.91466384,\n",
       "       44.7846675 , 32.55216626, 34.66899404, 36.15240748, 25.10468871,\n",
       "       31.06869447, 39.47948561, 35.42476664, 46.46808875, 31.79521889,\n",
       "       31.73454762, 35.56315398, 31.19738819, 33.55114761, 34.52509613,\n",
       "       39.00511389, 35.90441409, 35.75373424, 36.72851161, 40.90473833,\n",
       "       28.72736859, 31.17599753, 38.59284797, 25.11655969, 26.73029771,\n",
       "       29.00962786, 29.56060814, 36.34140017, 27.02691732])"
      ]
     },
     "execution_count": 57,
     "metadata": {},
     "output_type": "execute_result"
    }
   ],
   "source": [
    "pst.parameter_data.loc[:,\"parval1\"] = pe.loc[pe.index[0],pst.par_names].values          # PARVAL to  *.pst_05\n",
    "pst.parameter_data.parval1.values"
   ]
  },
  {
   "cell_type": "code",
   "execution_count": 58,
   "metadata": {},
   "outputs": [
    {
     "name": "stdout",
     "output_type": "stream",
     "text": [
      "noptmax:0, npar_adj:824, nnz_obs:21250\n",
      "pestpp-glm.exe test.pst\n"
     ]
    }
   ],
   "source": [
    "pst.control_data.noptmax = 0\n",
    "pst.write(os.path.join(template_ws,\"test.pst\"),version=2)\n",
    "pyemu.os_utils.run(\"pestpp-glm test.pst\",cwd=template_ws)                               # Runing AGAIN ____ Ensable!"
   ]
  },
  {
   "cell_type": "markdown",
   "metadata": {},
   "source": [
    "# 21 ____ Bonus: Understanding Multiplier-Parameters`"
   ]
  },
  {
   "cell_type": "code",
   "execution_count": 59,
   "metadata": {},
   "outputs": [],
   "source": [
    "df = pd.read_csv(os.path.join(template_ws,\"mult2model_info.csv\"))\n",
    "kh1_df = df.loc[df.model_file.str.contains(\"npf_k_layer1\"),:]\n",
    "# kh1_df                                                                               # mult ____ folder"
   ]
  },
  {
   "cell_type": "code",
   "execution_count": 60,
   "metadata": {},
   "outputs": [
    {
     "data": {
      "image/png": "[encoded data removed]",
      "text/plain": [
       "<Figure size 600x500 with 6 Axes>"
      ]
     },
     "metadata": {},
     "output_type": "display_data"
    }
   ],
   "source": [
    "org_arr = np.loadtxt(os.path.join(template_ws,kh1_df.org_file.iloc[0]))\n",
    "inp_arr = np.loadtxt(os.path.join(template_ws,kh1_df.model_file.iloc[0]))\n",
    "mlt_arrs = [np.loadtxt(os.path.join(template_ws,afile)) for afile in kh1_df.mlt_file]\n",
    "arrs = [org_arr]\n",
    "arrs.extend(mlt_arrs)\n",
    "arrs.append(inp_arr)\n",
    "names = [\"org\"]\n",
    "names.extend([mf.split('.')[0].split('_')[-1] for mf in kh1_df.mlt_file])\n",
    "names.append(\"MF6 input\")\n",
    "fig,axes = plt.subplots(1,kh1_df.shape[0]+2,figsize=(5*kh1_df.shape[0]+1,5))\n",
    "for i,ax in enumerate(axes.flatten()):\n",
    "    arr = np.log10(arrs[i])\n",
    "    arr[ib==0] = np.NaN\n",
    "    cb = ax.imshow(arr)\n",
    "    plt.colorbar(cb,ax=ax)\n",
    "    ax.set_title(names[i],loc=\"left\")\n",
    "plt.tight_layout()        "
   ]
  },
  {
   "cell_type": "markdown",
   "metadata": {},
   "source": [
    "# END"
   ]
  },
  {
   "cell_type": "code",
   "execution_count": null,
   "metadata": {},
   "outputs": [],
   "source": []
  }
 ],
 "metadata": {
  "kernelspec": {
   "display_name": "Python 3 (ipykernel)",
   "language": "python",
   "name": "python3"
  },
  "language_info": {
   "codemirror_mode": {
    "name": "ipython",
    "version": 3
   },
   "file_extension": ".py",
   "mimetype": "text/x-python",
   "name": "python",
   "nbconvert_exporter": "python",
   "pygments_lexer": "ipython3",
   "version": "3.11.11"
  }
 },
 "nbformat": 4,
 "nbformat_minor": 4
}
