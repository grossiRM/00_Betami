{
 "cells": [
  {
   "cell_type": "markdown",
   "metadata": {},
   "source": [
    "# a_freyberg_pstfrom_pest_setup_Beta_01______2_01___ __Symplifield_version_____"
   ]
  },
  {
   "cell_type": "code",
   "execution_count": 1,
   "metadata": {},
   "outputs": [],
   "source": [
    "import sys\n",
    "import os\n",
    "import shutil\n",
    "import platform\n",
    "import warnings\n",
    "warnings.filterwarnings(\"ignore\")\n",
    "warnings.filterwarnings(\"ignore\", category=DeprecationWarning) \n",
    "import pandas as pd\n",
    "import numpy as np\n",
    "import matplotlib.pyplot as plt;\n",
    "import pyemu\n",
    "import flopy                          \n",
    "sys.path.insert(0,\"..\")\n",
    "import herebedragons as hbd"
   ]
  },
  {
   "cell_type": "code",
   "execution_count": 2,
   "metadata": {},
   "outputs": [],
   "source": [
    "# A_f_ws = os.path.join('..', Freyberg','a_REF_01_extra_crispy',)\n",
    "A_f_ws = os.path.join('..', '..', 'models', 'monthly_model_files_1lyr_newstress')\n",
    "B_f_ws = os.path.join('B_folder')                                                  # New folder\n",
    "if os.path.exists(B_f_ws):\n",
    "    shutil.rmtree(B_f_ws)\n",
    "shutil.copytree(A_f_ws,B_f_ws)\n",
    "hbd.prep_bins(B_f_ws)                                      # executables  \n",
    "hbd.prep_deps(B_f_ws)                                      # get dependency folders"
   ]
  },
  {
   "cell_type": "code",
   "execution_count": 3,
   "metadata": {},
   "outputs": [
    {
     "name": "stdout",
     "output_type": "stream",
     "text": [
      "mf6.exe\n"
     ]
    }
   ],
   "source": [
    "pyemu.os_utils.run(\"mf6\",cwd=B_f_ws)"
   ]
  },
  {
   "cell_type": "code",
   "execution_count": 4,
   "metadata": {},
   "outputs": [
    {
     "name": "stdout",
     "output_type": "stream",
     "text": [
      "loading simulation...\n",
      "  loading simulation name file...\n",
      "  loading tdis package...\n",
      "  loading model gwf6...\n",
      "    loading package dis...\n",
      "    loading package ic...\n",
      "    loading package npf...\n",
      "    loading package sto...\n",
      "    loading package oc...\n",
      "    loading package wel...\n",
      "    loading package rch...\n",
      "    loading package ghb...\n",
      "    loading package sfr...\n",
      "    loading package obs...\n",
      "  loading solution package freyberg6...\n"
     ]
    }
   ],
   "source": [
    "C_sim = flopy.mf6.MFSimulation.load(sim_ws=B_f_ws)                                   \n",
    "D_gwf = C_sim.get_model()  "
   ]
  },
  {
   "cell_type": "markdown",
   "metadata": {},
   "source": [
    "# __C_folder__"
   ]
  },
  {
   "cell_type": "code",
   "execution_count": 5,
   "metadata": {},
   "outputs": [
    {
     "name": "stdout",
     "output_type": "stream",
     "text": [
      "   could not remove start_datetime\n"
     ]
    }
   ],
   "source": [
    "sr = pyemu.helpers.SpatialReference.from_namfile(os.path.join(B_f_ws, \"freyberg6.nam\"), delr=D_gwf.dis.delr.array, delc=D_gwf.dis.delc.array)                    # sr\n",
    "start_datetime=\"1-1-2008\"\n",
    "\n",
    "C_f_ws = os.path.join(\"C_folder\")       \n",
    "pf = pyemu.utils.PstFrom(original_d=B_f_ws, new_d=C_f_ws, remove_existing=True, longnames=True,                  # sr            \n",
    "                            spatial_reference = sr,       zero_based=False, start_datetime=start_datetime, echo=False)                    "
   ]
  },
  {
   "cell_type": "markdown",
   "metadata": {},
   "source": [
    "# <font color='blue'> __01__OBS(a)__ </font>"
   ]
  },
  {
   "cell_type": "code",
   "execution_count": 6,
   "metadata": {},
   "outputs": [],
   "source": [
    "df = pd.read_csv(os.path.join(C_f_ws,\"heads.csv\"),index_col=0)              # Loading dataframe (PANDAS)\n",
    "hds_df = pf.add_observations(\"heads.csv\", insfile=\"heads.csv.ins\", index_cols=\"time\",                           \n",
    "                            use_cols=list(df.columns.values), prefix=\"hds\")                                \n",
    "\n",
    "df = pd.read_csv(os.path.join(C_f_ws, \"sfr.csv\"), index_col=0)      \n",
    "sfr_df = pf.add_observations(\"sfr.csv\", insfile=\"sfr.csv.ins\", index_cols=\"time\", \n",
    "                             use_cols=list(df.columns.values), prefix=\"sfr\")                  "
   ]
  },
  {
   "cell_type": "code",
   "execution_count": 7,
   "metadata": {},
   "outputs": [
    {
     "name": "stdout",
     "output_type": "stream",
     "text": [
      "noptmax:0, npar_adj:0, nnz_obs:400\n"
     ]
    }
   ],
   "source": [
    "pst = pf.build_pst()                                                    # o 400"
   ]
  },
  {
   "cell_type": "markdown",
   "metadata": {},
   "source": [
    "# <font color='red'> __02__PAR(a)__ </font>"
   ]
  },
  {
   "cell_type": "code",
   "execution_count": null,
   "metadata": {},
   "outputs": [],
   "source": [
    "v_pp = pyemu.geostats.ExpVario(contribution=1.0, a=15000, anisotropy=1.0, bearing=0.0)\n",
    "pp_gs = pyemu.geostats.GeoStruct(variograms=v_pp, transform='log')                             # geostatistics to pilot points \n",
    "\n",
    "tag = \"npf_k_\"\n",
    "files = [f for f in os.listdir(C_f_ws) if tag in f.lower() and f.endswith(\".txt\")] \n",
    "print(files) \n",
    "ib = gwf.dis.idomain.array[0]                                         # inactive cells        # ib        # plt.imshow(ib)  \n",
    "\n",
    "f = 'freyberg6.npf_k_layer1.txt'\n",
    "df_pp = pf.add_parameters(f, zone_array=ib, par_type=\"pilotpoints\", geostruct=pp_gs,          # __________________ pp_gs\n",
    "                par_name_base=f.split('.')[1].replace(\"_\",\"\")+\"pp\",\n",
    "                pargp=f.split('.')[1].replace(\"_\",\"\")+\"pp\",\n",
    "                ult_ubound=100, upper_bound=5.0,      lower_bound=0.2, ult_lbound=0.01, pp_space=6)  # ___________ Position  "
   ]
  },
  {
   "cell_type": "code",
   "execution_count": null,
   "metadata": {},
   "outputs": [],
   "source": [
    "pst = pf.build_pst()                                                  # p 18 "
   ]
  },
  {
   "cell_type": "code",
   "execution_count": null,
   "metadata": {},
   "outputs": [],
   "source": [
    "tag = \"sto_ss\"\n",
    "files = [f for f in os.listdir(C_f_ws) if tag in f.lower() and f.endswith(\".txt\")]\n",
    "print(files)"
   ]
  },
  {
   "cell_type": "code",
   "execution_count": null,
   "metadata": {},
   "outputs": [],
   "source": [
    "f = 'freyberg6.sto_ss_layer1.txt'\n",
    "df_pp = pf.add_parameters(f, zone_array=ib, par_type=\"pilotpoints\", geostruct=pp_gs,          # __________________ pp_gs\n",
    "                par_name_base=f.split('.')[1].replace(\"_\",\"\")+\"pp\",\n",
    "                pargp=f.split('.')[1].replace(\"_\",\"\")+\"pp\",\n",
    "                ult_ubound=0.2, upper_bound=5.0,      lower_bound=1e-3, ult_lbound=1e-7, pp_space=5)  # ___________ Position  "
   ]
  },
  {
   "cell_type": "code",
   "execution_count": null,
   "metadata": {},
   "outputs": [],
   "source": [
    "pst = pf.build_pst()                                                  # p 47"
   ]
  },
  {
   "cell_type": "code",
   "execution_count": null,
   "metadata": {},
   "outputs": [],
   "source": [
    "f = 'freyberg6.sto_sy_layer1.txt'\n",
    "df_pp = pf.add_parameters(f, zone_array=ib, par_type=\"pilotpoints\", geostruct=pp_gs,          # __________________ pp_gs\n",
    "                par_name_base=f.split('.')[1].replace(\"_\",\"\")+\"pp\",\n",
    "                pargp=f.split('.')[1].replace(\"_\",\"\")+\"pp\",\n",
    "                ult_ubound=0.2, upper_bound=5.0,      lower_bound=0.4, ult_lbound=0.01, pp_space=10)  # ___________ Position  "
   ]
  },
  {
   "cell_type": "code",
   "execution_count": null,
   "metadata": {},
   "outputs": [],
   "source": [
    "pst = pf.build_pst()                                                  # p 54"
   ]
  },
  {
   "cell_type": "code",
   "execution_count": null,
   "metadata": {},
   "outputs": [],
   "source": [
    "f = 'freyberg_mp.ne_layer1.txt'\n",
    "df_pp = pf.add_parameters(f, zone_array=ib, par_type=\"pilotpoints\", geostruct=pp_gs,          # __________________ pp_gs\n",
    "                par_name_base=f.split('.')[1].replace(\"_\",\"\")+\"pp\",\n",
    "                pargp=f.split('.')[1].replace(\"_\",\"\")+\"pp\",\n",
    "                ult_ubound=0.2, upper_bound=5.0,      lower_bound=0.4, ult_lbound=0.01, pp_space=10)  # ___________ Position  "
   ]
  },
  {
   "cell_type": "code",
   "execution_count": null,
   "metadata": {},
   "outputs": [],
   "source": [
    "pst = pf.build_pst()                                                  # p 61 "
   ]
  },
  {
   "cell_type": "code",
   "execution_count": null,
   "metadata": {},
   "outputs": [],
   "source": [
    "f = 'freyberg_mp.ne_layer2.txt'\n",
    "df_pp = pf.add_parameters(f, zone_array=ib, par_type=\"pilotpoints\", geostruct=pp_gs,          # __________________ pp_gs\n",
    "                par_name_base=f.split('.')[1].replace(\"_\",\"\")+\"pp\",\n",
    "                pargp=f.split('.')[1].replace(\"_\",\"\")+\"pp\",\n",
    "                ult_ubound=0.2, upper_bound=5.0,      lower_bound=0.4, ult_lbound=0.01, pp_space=10)  # ___________ Position  "
   ]
  },
  {
   "cell_type": "code",
   "execution_count": null,
   "metadata": {},
   "outputs": [],
   "source": [
    "f = 'freyberg_mp.ne_layer3.txt'\n",
    "df_pp = pf.add_parameters(f, zone_array=ib, par_type=\"pilotpoints\", geostruct=pp_gs,          # __________________ pp_gs\n",
    "                par_name_base=f.split('.')[1].replace(\"_\",\"\")+\"pp\",\n",
    "                pargp=f.split('.')[1].replace(\"_\",\"\")+\"pp\",\n",
    "                ult_ubound=0.2, upper_bound=5.0,      lower_bound=0.4, ult_lbound=0.01, pp_space=10)  # ___________ Position  "
   ]
  },
  {
   "cell_type": "code",
   "execution_count": null,
   "metadata": {},
   "outputs": [],
   "source": [
    "pst = pf.build_pst()                                                 # p 75 (\"2x\")"
   ]
  },
  {
   "cell_type": "code",
   "execution_count": null,
   "metadata": {},
   "outputs": [],
   "source": [
    "# len([f for f in os.listdir(C_f_ws) if f.endswith(\".tpl\")])"
   ]
  },
  {
   "cell_type": "markdown",
   "metadata": {},
   "source": [
    "### <font color='red'> Recharge </font>   "
   ]
  },
  {
   "cell_type": "code",
   "execution_count": null,
   "metadata": {},
   "outputs": [],
   "source": [
    "dts = pd.to_datetime(start_datetime) + pd.to_timedelta(np.cumsum(C_sim.tdis.perioddata.array[\"perlen\"]),unit='d') # container # dts   "
   ]
  },
  {
   "cell_type": "code",
   "execution_count": null,
   "metadata": {},
   "outputs": [],
   "source": [
    "v_time = pyemu.geostats.ExpVario(contribution=1.0, a=60, anisotropy=1.0, bearing=0.0)\n",
    "temporal_gs = pyemu.geostats.GeoStruct(variograms=v_time, transform='none')                    # geostatistics time\n",
    "\n",
    "tag = \"rch_recharge\"\n",
    "files = [f for f in os.listdir(C_f_ws) if tag in f.lower() and f.endswith(\".txt\")]\n",
    "sp = [int(f.split(\".\")[1].split('_')[-1]) for f in files]\n",
    "d = {s:f for s,f in zip(sp,files)}\n",
    "sp.sort()\n",
    "files = [d[s] for s in sp]                                                            \n",
    "# print(files)"
   ]
  },
  {
   "cell_type": "code",
   "execution_count": null,
   "metadata": {},
   "outputs": [],
   "source": [
    "for f in files:                                                           \n",
    "    kper = int(f.split('.')[1].split('_')[-1]) - 1                                    # temporal correlation _______________ RCH \n",
    "    pf.add_parameters(filenames=f, zone_array=ib, par_type=\"constant\",                # ____________________________________ tDIS  \n",
    "                    par_name_base=f.split('.')[1]+\"tcn\", pargp=f.split('.')[1]+\"tcn\",\n",
    "                    ult_lbound=0, upper_bound=1.5,       lower_bound=0.5, ult_ubound=1e-3,\n",
    "                    datetime=dts[kper], geostruct=temporal_gs)  "
   ]
  },
  {
   "cell_type": "code",
   "execution_count": null,
   "metadata": {},
   "outputs": [],
   "source": [
    "pst = pf.build_pst()                                                   # p 100"
   ]
  },
  {
   "cell_type": "markdown",
   "metadata": {},
   "source": [
    "# <font color='green'> __03__Boundary-Conditions__ </font> # <font color='red'> &__PAR(b)__ </font> "
   ]
  },
  {
   "cell_type": "code",
   "execution_count": null,
   "metadata": {},
   "outputs": [],
   "source": [
    "v_grid = pyemu.geostats.ExpVario(contribution=1.0, a=1000, anisotropy=1.0,bearing=0.0)\n",
    "grid_gs = pyemu.geostats.GeoStruct(variograms=v_grid, transform='log')                     # Geoestatistics\n",
    "\n",
    "tag = \"ghb_stress_period_data\"\n",
    "files = [f for f in os.listdir(C_f_ws) if tag in f.lower() and f.endswith(\".txt\")]\n",
    "for f in files:\n",
    "    \n",
    "    name = 'ghbcond'                                         \n",
    "    pf.add_parameters(f, par_type=\"constant\", geostruct=grid_gs,       # _________HEAD___________________________ \n",
    "                        par_name_base=name+\"cn\", pargp=name+\"cn\",\n",
    "                        index_cols=[0,1,2], ult_ubound=100, upper_bound=10.0, use_cols=[4], lower_bound=0.1, ult_lbound=0.01, )      \n",
    "    \n",
    "    name = 'ghbhead'   \n",
    "    pf.add_parameters(f, par_type=\"constant\", geostruct=grid_gs,       # _________CONDUCTANCE___________________   \n",
    "                        par_name_base=name+\"cn\", pargp=name+\"cn\",\n",
    "                        index_cols=[0,1,2], ult_ubound=42, upper_bound=2.0, use_cols=[3], lower_bound=-2.0, ult_lbound=32.5,\n",
    "                        par_style=\"a\", transform=\"none\")                                                                           # added"
   ]
  },
  {
   "cell_type": "code",
   "execution_count": null,
   "metadata": {},
   "outputs": [],
   "source": [
    "pst = pf.build_pst()                                                   # p 102"
   ]
  },
  {
   "cell_type": "code",
   "execution_count": null,
   "metadata": {},
   "outputs": [],
   "source": [
    "files = [f for f in os.listdir(C_f_ws) if \"wel_stress_period_data\" in f and f.endswith(\".txt\")]\n",
    "sp = [int(f.split(\".\")[1].split('_')[-1]) for f in files]\n",
    "d = {s:f for s,f in zip(sp,files)}\n",
    "sp.sort()\n",
    "files = [d[s] for s in sp]\n",
    "\n",
    "for f in files:\n",
    "    kper = int(f.split('.')[1].split('_')[-1]) - 1                                            \n",
    "    \n",
    "    pf.add_parameters(filenames=f, index_cols=[0,1,2],                                     # ____________________________________ Well \n",
    "                        par_type=\"constant\", par_name_base=\"welcst\", pargp=\"welcst\", \n",
    "                        upper_bound = 4, use_cols=[3], lower_bound=0.25,                    \n",
    "                        datetime=dts[kper], geostruct=temporal_gs)"
   ]
  },
  {
   "cell_type": "code",
   "execution_count": null,
   "metadata": {},
   "outputs": [],
   "source": [
    "pst = pf.build_pst()                                                   # p 127"
   ]
  },
  {
   "cell_type": "code",
   "execution_count": null,
   "metadata": {},
   "outputs": [],
   "source": [
    "#tag = \"sfr\"\n",
    "#files = [f for f in os.listdir(C_f_ws) if tag in f.lower() and f.endswith(\".txt\")]\n",
    "#print(files)\n",
    "tag = \"sfr_packagedata\"\n",
    "files = [f for f in os.listdir(C_f_ws) if tag in f.lower() and f.endswith(\".txt\")]\n",
    "assert len(files) == 1                                 \n",
    "print(files)                            # ___________________ ?"
   ]
  },
  {
   "cell_type": "code",
   "execution_count": null,
   "metadata": {},
   "outputs": [],
   "source": [
    "f = files[0]                                            \n",
    "name = \"sfrcond\"\n",
    "\n",
    "pf.add_parameters(f, par_type=\"constant\", geostruct=grid_gs, par_name_base=name+\"cn\", pargp=name+\"cn\",\n",
    "                index_cols=[0,2,3], ult_ubound=100, upper_bound=10.0, use_cols=[9], lower_bound=0.1, ult_lbound=0.001)      \n",
    "\n",
    "files = [f for f in os.listdir(C_f_ws) if \"sfr_perioddata\" in f and f.endswith(\".txt\")]\n",
    "sp = [int(f.split(\".\")[1].split('_')[-1]) for f in files]\n",
    "d = {s:f for s,f in zip(sp,files)}\n",
    "sp.sort()\n",
    "files = [d[s] for s in sp]                                     \n",
    "\n",
    "for f in files:\n",
    "    kper = int(f.split('.')[1].split('_')[-1]) - 1                                          \n",
    "    pf.add_parameters(filenames=f, par_type=\"grid\", par_name_base=\"sfrgr\", pargp=\"sfrgr\",                   # _____________ INFLOW  ___ sfr\n",
    "                        index_cols=[0], upper_bound = 10, use_cols=[2], lower_bound=0.1,     \n",
    "                        datetime=dts[kper], geostruct=temporal_gs)                                           # grid ____ ?"
   ]
  },
  {
   "cell_type": "code",
   "execution_count": null,
   "metadata": {},
   "outputs": [],
   "source": [
    "pst = pf.build_pst()                                                   # p 129"
   ]
  },
  {
   "cell_type": "markdown",
   "metadata": {},
   "source": [
    "# __04_IC__"
   ]
  },
  {
   "cell_type": "code",
   "execution_count": null,
   "metadata": {},
   "outputs": [],
   "source": [
    "files = [f for f in os.listdir(C_f_ws) if \"ic_strt\" in f and f.endswith(\".txt\")]\n",
    "files\n",
    "for f in files:\n",
    "    base = f.split(\".\")[1].replace(\"_\",\"\")\n",
    "    df = pf.add_parameters(f,par_type=\"grid\",par_style=\"d\", par_name_base=base, pargp=base,\n",
    "                           upper_bound=50,lower_bound=15, zone_array=ib, transform=\"none\")\n",
    "    print(df.shape)"
   ]
  },
  {
   "cell_type": "code",
   "execution_count": null,
   "metadata": {},
   "outputs": [],
   "source": [
    "pst = pf.build_pst()                                                   # p 835 _______________ * "
   ]
  },
  {
   "cell_type": "code",
   "execution_count": null,
   "metadata": {},
   "outputs": [],
   "source": [
    "pf.mod_sys_cmds.append(\"mf6\")                                          # _________ Forward"
   ]
  },
  {
   "cell_type": "markdown",
   "metadata": {},
   "source": [
    "# <font color='blue'> __05__2º___OBS(b)__ </font>"
   ]
  },
  {
   "cell_type": "code",
   "execution_count": null,
   "metadata": {},
   "outputs": [],
   "source": [
    "import helpers\n",
    "helpers.process_secondary_obs(ws=C_f_ws)  \n",
    "[f for f in os.listdir(C_f_ws) if f.endswith(\".csv\")]"
   ]
  },
  {
   "cell_type": "code",
   "execution_count": null,
   "metadata": {},
   "outputs": [],
   "source": [
    "pf.add_py_function(\"helpers.py\", \"process_secondary_obs(ws='.')\", is_pre_cmd=False)                         "
   ]
  },
  {
   "cell_type": "code",
   "execution_count": null,
   "metadata": {},
   "outputs": [],
   "source": [
    "df = pd.read_csv(os.path.join(C_f_ws, \"sfr.tdiff.csv\"), index_col=0)      # Adding.. temporal-differences between OBS\n",
    "_ = pf.add_observations(\"sfr.tdiff.csv\",                                       \n",
    "                            insfile=\"sfr.tdiff.csv.ins\",                       \n",
    "                            index_cols=\"time\",                                 \n",
    "                            use_cols=list(df.columns.values),                 \n",
    "                            prefix=\"sfrtd\")                                    \n",
    "                            \n",
    "df = pd.read_csv(os.path.join(C_f_ws, \"heads.tdiff.csv\"), index_col=0)\n",
    "_ = pf.add_observations(\"heads.tdiff.csv\", \n",
    "                            insfile=\"heads.tdiff.csv.ins\",                     \n",
    "                            index_cols=\"time\", \n",
    "                            use_cols=list(df.columns.values), \n",
    "                            prefix=\"hdstd\")                                    "
   ]
  },
  {
   "cell_type": "code",
   "execution_count": null,
   "metadata": {},
   "outputs": [],
   "source": [
    "pst = pf.build_pst()                                                   # p 835 _______________ * "
   ]
  },
  {
   "cell_type": "markdown",
   "metadata": {},
   "source": [
    "### __bugs__"
   ]
  },
  {
   "cell_type": "code",
   "execution_count": null,
   "metadata": {},
   "outputs": [],
   "source": [
    "head_pargps = [i for i in pst.adj_par_groups if 'head' in i]\n",
    "\n",
    "pst.parameter_groups.loc[head_pargps, 'inctyp'] = 'absolute'\n",
    "par = pst.parameter_data\n",
    "par_names = par.loc[par.parval1==0].parnme                    \n",
    "\n",
    "offset = -10\n",
    "par.loc[par_names, 'offset'] = offset\n",
    "par.loc[par_names, ['parval1', 'parlbnd', 'parubnd']] -= offset"
   ]
  },
  {
   "cell_type": "markdown",
   "metadata": {},
   "source": [
    "### __forecasts__"
   ]
  },
  {
   "cell_type": "code",
   "execution_count": null,
   "metadata": {},
   "outputs": [],
   "source": [
    "forecasts =['oname:sfr_otype:lst_usecol:tailwater_time:4383.5',\n",
    "            'oname:sfr_otype:lst_usecol:headwater_time:4383.5',\n",
    "            'oname:hds_otype:lst_usecol:trgw-0-9-1_time:4383.5',\n",
    "            'part_time']\n",
    "# forecasts"
   ]
  },
  {
   "cell_type": "code",
   "execution_count": null,
   "metadata": {},
   "outputs": [],
   "source": [
    "pst.pestpp_options['forecasts'] = forecasts"
   ]
  },
  {
   "cell_type": "markdown",
   "metadata": {},
   "source": [
    "# __06__Writing______RUNNING PEST__"
   ]
  },
  {
   "cell_type": "code",
   "execution_count": null,
   "metadata": {},
   "outputs": [],
   "source": [
    "pst.write(os.path.join(C_f_ws, 'B_folder.pst'),version=2) \n",
    "pyemu.os_utils.run('pestpp-glm B_folder.pst', cwd=C_f_ws)\n",
    "iobj = pd.read_csv(os.path.join(C_f_ws, 'B_folder.iobj'))\n",
    "iobj.total_phi"
   ]
  },
  {
   "cell_type": "markdown",
   "metadata": {},
   "source": [
    "# __07__Ensemble__`   prior_01_cov.jcb, prior_02_pe.jcb   `"
   ]
  },
  {
   "cell_type": "code",
   "execution_count": null,
   "metadata": {},
   "outputs": [],
   "source": [
    "if pf.pst.npar < 900:                                                       #___max 35.000 lines _*.xls\n",
    "    cov = pf.build_prior(fmt='coo', \n",
    "                         filename=os.path.join(C_f_ws,\"prior_01_cov.jcb\"))\n",
    "    try: \n",
    "        x = cov.x.copy()\n",
    "        x[x==0] = np.NaN\n",
    "        plt.imshow(x[:1000,:1000])\n",
    "    except:\n",
    "        pass"
   ]
  },
  {
   "cell_type": "code",
   "execution_count": null,
   "metadata": {},
   "outputs": [],
   "source": [
    "from IPython.display import Image, display\n",
    "display(Image(url='./COV_ideal.png'))"
   ]
  },
  {
   "cell_type": "markdown",
   "metadata": {},
   "source": [
    "## __BETA__New_COV__? \" no, cause it comes from *.pst (PAR), .... just ensemble in memory (?!) "
   ]
  },
  {
   "cell_type": "code",
   "execution_count": null,
   "metadata": {},
   "outputs": [],
   "source": [
    "pst.pestpp_options['ies_parameter_ensemble'] = 'dummy_ies_par_ensemble.csv'    # Flagship _________________________________\n",
    "pst.pestpp_options"
   ]
  },
  {
   "cell_type": "code",
   "execution_count": null,
   "metadata": {},
   "outputs": [],
   "source": [
    "# pst.control_data.formatted_values                  # ________________ from *.pst"
   ]
  },
  {
   "cell_type": "code",
   "execution_count": null,
   "metadata": {},
   "outputs": [],
   "source": [
    "cov.row_names[:10]"
   ]
  },
  {
   "cell_type": "code",
   "execution_count": null,
   "metadata": {},
   "outputs": [],
   "source": [
    "pe = pf.draw(num_reals=1000, use_specC_sim=True)                      # PAR ___ prior___ distribution\n",
    "pe.enforce()                                               \n",
    "pe.to_binary(os.path.join(C_f_ws,\"prior_02_pe.jcb\"))     \n",
    "assert pe.shape[1] == pst.npar                                      # Rolling the dice ..."
   ]
  },
  {
   "attachments": {},
   "cell_type": "markdown",
   "metadata": {},
   "source": [
    "# __08__Run_Again__"
   ]
  },
  {
   "cell_type": "code",
   "execution_count": null,
   "metadata": {},
   "outputs": [],
   "source": [
    "pst.parameter_data.loc[:,\"parval1\"] = pe.loc[pe.index[0],pst.par_names].values          \n",
    "pst.control_data.noptmax = 0\n",
    "pst.write(os.path.join(C_f_ws,\"Beta_Emsemble.pst\"),version=2)\n",
    "pyemu.os_utils.run(\"pestpp-glm Beta_Emsemble.pst\",cwd=C_f_ws)                                                   "
   ]
  },
  {
   "cell_type": "code",
   "execution_count": null,
   "metadata": {},
   "outputs": [],
   "source": [
    "iobj = pd.read_csv(os.path.join(C_f_ws, 'Beta_Emsemble.iobj'))\n",
    "iobj.total_phi"
   ]
  },
  {
   "cell_type": "markdown",
   "metadata": {},
   "source": [
    "# __09__Graphics...__"
   ]
  },
  {
   "cell_type": "code",
   "execution_count": null,
   "metadata": {},
   "outputs": [],
   "source": [
    "# hdobj = gwf.output.head()                     #  C_simulated heads.... earlier results ..... \n",
    "# times = hdobj.get_times()\n",
    "# hdobj.plot(mflay=0, colorbar=True, totim=times[-1], masked_values=[1e30]);          # gwf = C_sim.get_model()"
   ]
  },
  {
   "cell_type": "code",
   "execution_count": null,
   "metadata": {},
   "outputs": [],
   "source": [
    "# pst.phi_components \n",
    "# pst.plot(kind=\"phi_pie\");"
   ]
  },
  {
   "cell_type": "code",
   "execution_count": null,
   "metadata": {},
   "outputs": [],
   "source": []
  }
 ],
 "metadata": {
  "kernelspec": {
   "display_name": "Python 3 (ipykernel)",
   "language": "python",
   "name": "python3"
  },
  "language_info": {
   "codemirror_mode": {
    "name": "ipython",
    "version": 3
   },
   "file_extension": ".py",
   "mimetype": "text/x-python",
   "name": "python",
   "nbconvert_exporter": "python",
   "pygments_lexer": "ipython3",
   "version": "3.11.11"
  }
 },
 "nbformat": 4,
 "nbformat_minor": 4
}
