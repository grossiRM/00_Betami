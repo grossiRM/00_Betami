{
 "cells": [
  {
   "cell_type": "code",
   "execution_count": 1,
   "id": "f804e8ad-b670-4012-ba95-e414239d0191",
   "metadata": {
    "jupyter": {
     "source_hidden": true
    }
   },
   "outputs": [],
   "source": [
    "from pathlib import Path ; from shutil import copytree  ; from tempfile import TemporaryDirectory ; import pandas as pd\n",
    "import numpy as np ;  import flopy ;  import os ; import pathlib ; import numpy as np; import matplotlib.pyplot as plt# import git "
   ]
  },
  {
   "cell_type": "code",
   "execution_count": 2,
   "id": "03a45e29-1dba-4cd8-8b3b-e205ef374f17",
   "metadata": {
    "jupyter": {
     "source_hidden": true
    }
   },
   "outputs": [
    {
     "name": "stdout",
     "output_type": "stream",
     "text": [
      "E:\\15_REPOS\\00_BETAMI\\98_Plus\\02_MT3D\n"
     ]
    }
   ],
   "source": [
    "example_name = \"rmg\"                  # sim_name\n",
    "exe_name = 'E:\\\\15_REPOS\\\\00_BETAMI\\\\bin\\\\mf6'\n",
    "current_directory = os.getcwd();  print(current_directory)"
   ]
  },
  {
   "cell_type": "code",
   "execution_count": 3,
   "id": "9866f588-3ee3-49b0-802b-604c56580a17",
   "metadata": {},
   "outputs": [],
   "source": [
    "path = pathlib.Path('E:\\\\15_REPOS\\\\00_BETAMI\\\\98_Plus\\\\02_MT3D')\n",
    "path.mkdir(parents=True, exist_ok=True); os.chdir(path); current_directory = os.getcwd()\n",
    "directory_name = 'B_p03_V02c'    ; workspace = os.path.join('.', directory_name)                         # sim_ws\n",
    "if os.path.isdir(workspace) is False:\n",
    "    os.mkdir(workspace) \n",
    "output_folder = Path('B_p03_V02c') ; output_folder.mkdir(exist_ok=True)        "
   ]
  },
  {
   "cell_type": "code",
   "execution_count": 4,
   "id": "83715aab-530c-4653-b122-937acbc5634a",
   "metadata": {},
   "outputs": [],
   "source": [
    "data_path_R = 'E:\\\\15_REPOS\\\\00_BETAMI\\\\98_Plus\\\\02_MT3D\\\\B_p03_V01c\\\\ex-gwt-mt3dms-p03'  #   ____________________HERE________01b\n",
    "sim = flopy.mf6.MFSimulation.load(sim_ws = data_path_R   ,exe_name=exe_name,  verbosity_level=0)"
   ]
  },
  {
   "cell_type": "code",
   "execution_count": 5,
   "id": "85760c83",
   "metadata": {
    "jupyter": {
     "source_hidden": true
    }
   },
   "outputs": [
    {
     "data": {
      "text/plain": [
       "(True, [])"
      ]
     },
     "execution_count": 5,
     "metadata": {},
     "output_type": "execute_result"
    }
   ],
   "source": [
    "sim.set_sim_path(output_folder) ; sim.write_simulation(silent=True) ; sim.run_simulation(silent=True)"
   ]
  },
  {
   "cell_type": "markdown",
   "id": "8f31bc12-2960-4b6e-9ffc-0ec1b69681e5",
   "metadata": {},
   "source": [
    "## **Outputs**"
   ]
  },
  {
   "cell_type": "code",
   "execution_count": 6,
   "id": "7d87f9f7",
   "metadata": {},
   "outputs": [
    {
     "name": "stdout",
     "output_type": "stream",
     "text": [
      "(1, 31, 46)\n"
     ]
    }
   ],
   "source": [
    "mttt = sim.get_model(\"gwt_p03-mf6\")\n",
    "bud = mttt.oc.output.concentration()   ; C = bud.get_data(idx=0)       ;     print(C.shape)"
   ]
  },
  {
   "cell_type": "code",
   "execution_count": 7,
   "id": "170d5e16-ca54-4118-9e45-fb6ef0446f98",
   "metadata": {},
   "outputs": [],
   "source": [
    "reshape = C.reshape(C.shape[1],-1) ; then=pd.DataFrame(reshape)  ; then.to_csv (output_folder / \"_Cb.csv\") ;  # print(reshape.shape)"
   ]
  },
  {
   "cell_type": "code",
   "execution_count": 8,
   "id": "5042a705-7110-46d8-adf1-226067ec923c",
   "metadata": {},
   "outputs": [],
   "source": [
    "# where is the time steps ?  tdis_rc [([1, 365.0], [2, 730], 1.0)]  ... what a format !? [by the way]"
   ]
  }
 ],
 "metadata": {
  "jupytext": {
   "cell_metadata_filter": "-all"
  },
  "kernelspec": {
   "display_name": "Python 3 (ipykernel)",
   "language": "python",
   "name": "python3"
  },
  "language_info": {
   "codemirror_mode": {
    "name": "ipython",
    "version": 3
   },
   "file_extension": ".py",
   "mimetype": "text/x-python",
   "name": "python",
   "nbconvert_exporter": "python",
   "pygments_lexer": "ipython3",
   "version": "3.12.7"
  }
 },
 "nbformat": 4,
 "nbformat_minor": 5
}
