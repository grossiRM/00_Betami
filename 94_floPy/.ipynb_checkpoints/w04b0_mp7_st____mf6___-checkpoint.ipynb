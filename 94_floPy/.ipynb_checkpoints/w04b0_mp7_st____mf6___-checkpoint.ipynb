{
 "cells": [
  {
   "cell_type": "markdown",
   "id": "b2262c76-91c5-4f6b-8aaa-db0fce9e7198",
   "metadata": {},
   "source": [
    "**Pathlines_mf6_mp7** w04b"
   ]
  },
  {
   "cell_type": "code",
   "execution_count": 1,
   "id": "2a0bf877-1f54-4733-a3c0-bf37ca457b55",
   "metadata": {},
   "outputs": [],
   "source": [
    "import os; import sys; from pathlib import Path; from pprint import pformat ; from shutil import copytree ; import matplotlib as mpl ; \n",
    "import matplotlib.pyplot as plt ; import numpy as np ; import pandas as pd; import shapefile ; import flopy ; from os.path import join; import csv "
   ]
  },
  {
   "cell_type": "code",
   "execution_count": 2,
   "id": "bef1d5af-dbcb-4446-bc68-d95595417245",
   "metadata": {},
   "outputs": [],
   "source": [
    "sim_ws = Path('E:\\\\15_REPOS\\\\00_BETAMI\\\\94_floPy\\\\04_Path_w04b')  ; sim_ws.mkdir(exist_ok=True)  \n",
    "sim_name = model_name   = \"ex01_mf6\" ; exe_name = \"mf6\"           ; ws = workspace = sim_ws  "
   ]
  },
  {
   "cell_type": "code",
   "execution_count": 3,
   "id": "81e05916",
   "metadata": {},
   "outputs": [],
   "source": [
    "nper, nstp, perlen, tsmult = 1, 1, 1.0, 1.0    ; nlay, nrow, ncol = 3, 21, 20 ; delr = delc = 500.0\n",
    "top = 400.0 ; botm = [220.0, 200.0, 0.0]       ; kh = [50.0, 0.01, 200.0] ; kv = [10.0, 0.01, 20.0]     ; laytyp = [1, 0, 0]\n",
    "wel_loc = (2, 10, 9) ; wel_q = -150000.0       ; riv_h = 320.0; riv_z = 317.0 ; riv_c = 1.0e5           ; rch = 0.005  \n",
    "filename1=\"ex01a.pg1.sloc\" ; filename2=\"ex01a.pg2.sloc\"                                                 ; pdd = (perlen, nstp, tsmult)"
   ]
  },
  {
   "cell_type": "code",
   "execution_count": 4,
   "id": "59bb9454",
   "metadata": {
    "jupyter": {
     "source_hidden": true
    }
   },
   "outputs": [
    {
     "data": {
      "text/plain": [
       "(True, [])"
      ]
     },
     "execution_count": 4,
     "metadata": {},
     "output_type": "execute_result"
    }
   ],
   "source": [
    "wd = [(wel_loc, wel_q)]                                            ; riv_spd = []     # ; iu_cbc = 130\n",
    "for i in range(nrow):      riv_spd.append([(0, i, ncol - 1), riv_h, riv_c, riv_z])\n",
    "\n",
    "sim = flopy.mf6.MFSimulation(sim_name=sim_name, exe_name=\"mf6\", version=\"mf6\", sim_ws=ws)\n",
    "flopy.mf6.ModflowTdis(sim, time_units=\"DAYS\", nper=nper, perioddata=[pdd])\n",
    "model_nam_file = \"{}.nam\".format(sim_name)\n",
    "\n",
    "gwf = flopy.mf6.ModflowGwf    (sim, modelname=sim_name, model_nam_file=model_nam_file, save_flows=True)\n",
    "flopy.mf6.ModflowIms     (sim ,complexity=\"SIMPLE\" ,outer_dvclose=1e-6 ,inner_dvclose=1e-6 ,rcloserecord=1e-6)\n",
    "flopy.mf6.ModflowGwfdis  (gwf ,nlay=nlay ,nrow=nrow ,ncol=ncol ,length_units=\"FEET\" ,delr=delr ,delc=delc ,top=top ,botm=botm)\n",
    "flopy.mf6.ModflowGwfic   (gwf ,strt=top)\n",
    "flopy.mf6.ModflowGwfnpf  (gwf, icelltype=laytyp, k=kh, k33=kv)\n",
    "flopy.mf6.ModflowGwfrcha (gwf, recharge=rch)\n",
    "flopy.mf6.ModflowGwfwel  (gwf, maxbound=1, stress_period_data={0: wd})\n",
    "flopy.mf6.ModflowGwfriv  (gwf, stress_period_data={0: riv_spd})\n",
    "flopy.mf6.ModflowGwfoc   (gwf, head_filerecord=[\"{}.hds\".format(sim_name)],budget_filerecord=[\"{}.cbb\".format(sim_name)] ,saverecord=[(\"HEAD\",\"ALL\"), \n",
    "                                      (\"BUDGET\",\"ALL\")]) ;sim.write_simulation(silent=True) ;sim.run_simulation(silent=True,report=False)"
   ]
  },
  {
   "cell_type": "code",
   "execution_count": 5,
   "id": "4102f7f5-863a-4c3b-9285-69bba295130d",
   "metadata": {},
   "outputs": [
    {
     "data": {
      "text/html": [
       "<div>\n",
       "<style scoped>\n",
       "    .dataframe tbody tr th:only-of-type {\n",
       "        vertical-align: middle;\n",
       "    }\n",
       "\n",
       "    .dataframe tbody tr th {\n",
       "        vertical-align: top;\n",
       "    }\n",
       "\n",
       "    .dataframe thead th {\n",
       "        text-align: right;\n",
       "    }\n",
       "</style>\n",
       "<table border=\"1\" class=\"dataframe\">\n",
       "  <thead>\n",
       "    <tr style=\"text-align: right;\">\n",
       "      <th></th>\n",
       "      <th>a0</th>\n",
       "      <th>a1</th>\n",
       "      <th>a2</th>\n",
       "      <th>a3</th>\n",
       "      <th>ab0</th>\n",
       "      <th>ab1</th>\n",
       "      <th>ab2</th>\n",
       "    </tr>\n",
       "  </thead>\n",
       "  <tbody>\n",
       "    <tr>\n",
       "      <th>0</th>\n",
       "      <td>(0, 0, 19)</td>\n",
       "      <td>320.0</td>\n",
       "      <td>100000.0</td>\n",
       "      <td>317.0</td>\n",
       "      <td>0</td>\n",
       "      <td>0</td>\n",
       "      <td>19</td>\n",
       "    </tr>\n",
       "    <tr>\n",
       "      <th>1</th>\n",
       "      <td>(0, 1, 19)</td>\n",
       "      <td>320.0</td>\n",
       "      <td>100000.0</td>\n",
       "      <td>317.0</td>\n",
       "      <td>0</td>\n",
       "      <td>1</td>\n",
       "      <td>19</td>\n",
       "    </tr>\n",
       "    <tr>\n",
       "      <th>2</th>\n",
       "      <td>(0, 2, 19)</td>\n",
       "      <td>320.0</td>\n",
       "      <td>100000.0</td>\n",
       "      <td>317.0</td>\n",
       "      <td>0</td>\n",
       "      <td>2</td>\n",
       "      <td>19</td>\n",
       "    </tr>\n",
       "    <tr>\n",
       "      <th>3</th>\n",
       "      <td>(0, 3, 19)</td>\n",
       "      <td>320.0</td>\n",
       "      <td>100000.0</td>\n",
       "      <td>317.0</td>\n",
       "      <td>0</td>\n",
       "      <td>3</td>\n",
       "      <td>19</td>\n",
       "    </tr>\n",
       "    <tr>\n",
       "      <th>4</th>\n",
       "      <td>(0, 4, 19)</td>\n",
       "      <td>320.0</td>\n",
       "      <td>100000.0</td>\n",
       "      <td>317.0</td>\n",
       "      <td>0</td>\n",
       "      <td>4</td>\n",
       "      <td>19</td>\n",
       "    </tr>\n",
       "  </tbody>\n",
       "</table>\n",
       "</div>"
      ],
      "text/plain": [
       "           a0     a1        a2     a3  ab0  ab1  ab2\n",
       "0  (0, 0, 19)  320.0  100000.0  317.0    0    0   19\n",
       "1  (0, 1, 19)  320.0  100000.0  317.0    0    1   19\n",
       "2  (0, 2, 19)  320.0  100000.0  317.0    0    2   19\n",
       "3  (0, 3, 19)  320.0  100000.0  317.0    0    3   19\n",
       "4  (0, 4, 19)  320.0  100000.0  317.0    0    4   19"
      ]
     },
     "execution_count": 5,
     "metadata": {},
     "output_type": "execute_result"
    }
   ],
   "source": [
    "rd2 = pd.DataFrame(riv_spd) ; rd3 = rd2.rename(columns = lambda x : 'a'  + str(x)) ; rd4 = rd3['a0']; rd5 = rd4.tolist() ; rd6 = pd.DataFrame(rd5)     \n",
    "rd7 = rd6.rename(columns = lambda x : 'ab' + str(x)) ; df = pd.concat([rd3[:], rd7[:]], axis=1)   ; df.to_csv (sim_ws / \"01_riv_spd.csv\") ; df.head()"
   ]
  },
  {
   "cell_type": "code",
   "execution_count": 6,
   "id": "2a1397ab-3457-4220-a63a-52c8aa1defc3",
   "metadata": {},
   "outputs": [],
   "source": [
    "vvv   = [(0,0,2),(0,1,2),(0,2,2),(0,3,2),(0,17,2),(0,18,2),(0,19,2),(0,20,2)] ; \n",
    "part1 = flopy.modpath.ParticleData(vvv, drape=1, structured=True, particleids=[1001, 1002, 1003, 1004, 1005, 1006, 1007, 1008])  \n",
    "pg1   = flopy.modpath.ParticleGroup(particledata=part1, filename=filename2) ; particlegroups = [pg1]  ;np.savetxt(sim_ws/\"05_v.csv\",vvv,delimiter=\",\")"
   ]
  },
  {
   "cell_type": "raw",
   "id": "2c0f9437-3f0e-4711-8b60-14e66266b787",
   "metadata": {
    "jupyter": {
     "source_hidden": true
    }
   },
   "source": [
    "locsa = [[0,0,0,0, nrow - 1, ncol - 1], [1,0,0,1, nrow - 1, ncol - 1]]       ; locsb = [[2, 0, 0, 2, nrow - 1, ncol - 1]]\n",
    "sd    = flopy.modpath.CellDataType    (drape=0, columncelldivisions=1, rowcelldivisions  = 1, layercelldivisions=1)\n",
    "pp    = flopy.modpath.LRCParticleData (subdivisiondata=[sd, sd], lrcregions=[locsa, locsb])              \n",
    "pg2   = flopy.modpath.ParticleGroupLRCTemplate (particlegroupname=\"PG3\", particledata = pp, filename=\"ex01a.pg3.sloc\")\n",
    "particlegroups = [pg2]  ; defaultiface6 = {\"RCH\": 6, \"EVT\": 6}\n",
    "np.savetxt(sim_ws/\"02a_locsa.csv\", locsa,delimiter=\",\") ;np.savetxt(sim_ws/\"02b_locsb.csv\",locsb,delimiter=\",\"); print('locsa',locsa,' shape_b',locsb)"
   ]
  },
  {
   "cell_type": "raw",
   "id": "dd1fedc8-724a-4838-b7cf-60f6e576abcb",
   "metadata": {
    "jupyter": {
     "source_hidden": true
    }
   },
   "source": [
    "plocs = [(0,0,2),(0,1,2),(0,2,2),(0,3,2),(0,17,2),(0,18,2),(0,19,2),(0,20,2)]  ; pids = [1,2,3,4,5,6,7,8]\n",
    "part0 = flopy.modpath.ParticleData  (plocs, drape=0, structured=True, particleids=pids)                 # pg0 \n",
    "pg0   = flopy.modpath.ParticleGroup (particledata=part0, filename=filename1)          \n",
    "particlegroups = [pg0]  ; defaultiface6 = {\"RCH\": 6, \"EVT\": 6}\n",
    "np.savetxt(sim_ws / \"02_start.csv\", plocs, delimiter=\",\") ; np.savetxt(sim_ws / \"03_st2.csv\", pids, delimiter=\",\") ; print('plocs,pids', len(plocs))\n",
    "plocs = [] ; pids = []\n",
    "for idx in range(nrow):\n",
    "    plocs.append((0, idx, 2))  ; pids.append(idx)\n",
    "part0 = flopy.modpath.ParticleData  (plocs, drape=0, structured=True, particleids=pids)                 # pg0 \n",
    "pg0   = flopy.modpath.ParticleGroup (particledata=part0, filename=filename1)          \n",
    "particlegroups = [pg0]  ; defaultiface6 = {\"RCH\": 6, \"EVT\": 6}"
   ]
  },
  {
   "cell_type": "code",
   "execution_count": 7,
   "id": "1f9ceaab",
   "metadata": {},
   "outputs": [
    {
     "data": {
      "text/plain": [
       "(True, [])"
      ]
     },
     "execution_count": 7,
     "metadata": {},
     "output_type": "execute_result"
    }
   ],
   "source": [
    "exe_name = \"mp7\"                  ; zone3 = np.ones((nrow, ncol), dtype=np.int32)   ;  zone3[wel_loc[1:]] = 2  ; zones = [0, 0, zone3]\n",
    "mp    = flopy.modpath.Modpath7    (modelname=sim_name + \"_mp\", flowmodel=gwf, exe_name=exe_name, model_ws=ws)\n",
    "mpbas = flopy.modpath.Modpath7Bas (mp, porosity=0.1)\n",
    "mpsim = flopy.modpath.Modpath7Sim (mp, simulationtype=\"combined\"  ,trackingdirection =\"forward\",weaksinkoption =\"pass_through\",\n",
    "                                   weaksourceoption=\"pass_through\",budgetoutputoption=\"summary\",stoptimeoption =\"extend\",\n",
    "                                   zonedataoption=\"on\"    ,zones=zones  ,particlegroups = particlegroups)   # zones  # particlegroups\n",
    "mp.write_input() ; mp.run_model(silent=True, report=False)"
   ]
  },
  {
   "cell_type": "code",
   "execution_count": 8,
   "id": "3d7bef74-1143-4d4c-b9ae-f9b218b4a7db",
   "metadata": {},
   "outputs": [],
   "source": [
    "def get_nodes(locs):\n",
    "    nodes = []\n",
    "    for k, i, j in locs: nodes.append(k * nrow * ncol + i * ncol + j)\n",
    "    return nodes\n",
    "nodew   = get_nodes([wel_loc]) ; cellids = gwf.riv.stress_period_data.get_data()[0][\"cellid\"]    ; nodesr  = get_nodes(cellids)\n",
    "fpth = os.path.join(ws, model_name + \"_mp.mppth\")  ; pp = flopy.utils.PathlineFile(fpth)\n",
    "pw0 = pp.get_destination_pathline_data(nodew, to_recarray=True) ; pr1 = pp.get_destination_pathline_data(nodesr, to_recarray=True)"
   ]
  },
  {
   "cell_type": "code",
   "execution_count": 9,
   "id": "0749b496-7559-4ce7-ac41-46d1e96db72f",
   "metadata": {},
   "outputs": [
    {
     "data": {
      "text/plain": [
       "<matplotlib.legend.Legend at 0x1907c06f2f0>"
      ]
     },
     "execution_count": 9,
     "metadata": {},
     "output_type": "execute_result"
    },
    {
     "data": {
      "image/png": "[encoded data removed]",
      "text/plain": [
       "<Figure size 640x480 with 1 Axes>"
      ]
     },
     "metadata": {},
     "output_type": "display_data"
    }
   ],
   "source": [
    "mm = flopy.plot.PlotMapView(model=gwf) ; mm.plot_grid(lw=0.5)              \n",
    "mm.plot_pathline(pw0, layer=\"all\", colors=\"blue\" , label=\"captured by wells\", lw=0.25)\n",
    "mm.plot_pathline(pr1, layer=\"all\", colors=\"green\", label=\"captured by rivers\", lw=0.25) ; mm.ax.legend()"
   ]
  },
  {
   "cell_type": "code",
   "execution_count": 10,
   "id": "9c91c003",
   "metadata": {},
   "outputs": [],
   "source": [
    "#fpth = os.path.join(ws, model_name + \"_mp.mpend\")  ; ee = flopy.utils.EndpointFile(fpth)\n",
    "#well_epd = ee.get_destination_endpoint_data(dest_cells=nodew)    \n",
    "#riv_epd = ee.get_destination_endpoint_data(dest_cells=nodesr) ;epd0 = np.concatenate((well_epd,riv_epd))\n",
    "# mm.plot_endpoint(epd0, direction=\"starting\", colorbar=True)"
   ]
  },
  {
   "cell_type": "code",
   "execution_count": null,
   "id": "d95447c2-f6d7-42e6-a89e-346e2a08ebc6",
   "metadata": {},
   "outputs": [],
   "source": []
  }
 ],
 "metadata": {
  "jupytext": {
   "notebook_metadata_filter": "all"
  },
  "kernelspec": {
   "display_name": "Python 3 (ipykernel)",
   "language": "python",
   "name": "python3"
  },
  "language_info": {
   "codemirror_mode": {
    "name": "ipython",
    "version": 3
   },
   "file_extension": ".py",
   "mimetype": "text/x-python",
   "name": "python",
   "nbconvert_exporter": "python",
   "pygments_lexer": "ipython3",
   "version": "3.12.7"
  },
  "metadata": {
   "authors": [
    {
     "name": "Joseph Hughes"
    }
   ],
   "section": "modpath"
  }
 },
 "nbformat": 4,
 "nbformat_minor": 5
}
