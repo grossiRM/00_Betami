{
 "cells": [
  {
   "cell_type": "code",
   "execution_count": 6,
   "id": "c19a5cdd-3152-4914-b90a-bb7243775df8",
   "metadata": {},
   "outputs": [],
   "source": [
    "import os\n",
    "from flopy.discretization import StructuredGrid\n",
    "import numpy as np\n",
    "import flopy.mf6 as mf6\n",
    "model_name = 'A01_pleasant'   # WS = os.mkdir(\"a_folder\")                       \n",
    "nper,     nlay, nrow, ncol,    delr, delc,    xoffset, yoffset, epsg, angrot = 1,    3, 60, 70,    40, 40,    554400, 389200,   3070, 0\n",
    "modelgrid = StructuredGrid(delr=np.ones(ncol) * delr, delc=np.ones(nrow) * delc, xoff=xoffset, yoff=yoffset, angrot=angrot)\n",
    "top = [{'filename': '../data/top.dat'}]          # 04 surfaces, 03 layers\n",
    "botm = [{'filename': '../data/botm_000.dat'},\n",
    "        {'filename': '../data/botm_001.dat'},\n",
    "        {'filename': '../data/botm_002.dat'}]\n",
    "k = [{'filename': '../data/k_000.dat'},          # KH\n",
    "     {'filename': '../data/k_001.dat'},\n",
    "     {'filename': '../data/k_002.dat'}]\n",
    "k33 = [{'filename': '../data/k33_000.dat'},      # KV\n",
    "       {'filename': '../data/k33_001.dat'},\n",
    "       {'filename': '../data/k33_002.dat'}]\n",
    "strt = [top[0]] * nlay                           # Top for starting heads\n",
    "recharge = {\n",
    "    0: {'filename': '../data/rch_000.dat'}}      # RCH    \n",
    "irch = [{'filename': '../data/irch.dat'}]        # iRCH   local\n",
    "spec_head_perimeter = {\n",
    "    0: {'filename': '../data/chd_000.dat'}}      # chd\n",
    "sim   = mf6.MFSimulation   (sim_name=model_name, version=\"mf6\", exe_name=\"mf6\")           # ,sim_ws = \"WS\"\n",
    "tdis  = mf6.ModflowTdis    (sim, time_units=\"days\", nper=1, perioddata=[(1.0, 1, 1.0)])               \n",
    "ims   = mf6.ModflowIms     (sim, complexity=\"moderate\", outer_dvclose=0.001)                       \n",
    "gwf   = mf6.ModflowGwf     (sim, modelname=model_name, save_flows=True)         \n",
    "oc    = mf6.ModflowGwfoc   (gwf, head_filerecord=f'{gwf.name}.hds', budget_filerecord=f'{gwf.name}.cbc',saverecord=[('head', 'all'), (\"budget\", \"all\")])                                             \n",
    "dis   = mf6.ModflowGwfdis  (gwf, nlay=nlay, nrow=nrow, ncol=ncol, delr=delr, delc=delc, top=top, botm=botm, idomain=1)   \n",
    "npf   = mf6.ModflowGwfnpf  (gwf, icelltype=1, k=k, k33=k33)                      \n",
    "ic    = mf6.ModflowGwfic   (gwf, strt=strt)        \n",
    "rch   = mf6.ModflowGwfrcha (gwf, recharge=recharge, irch=irch)\n",
    "chd   = mf6.ModflowGwfchd  (gwf, stress_period_data=spec_head_perimeter)    \n",
    "lak   = mf6.ModflowGwflak  (gwf, boundnames=True, nlakes=1, connectiondata={'filename': '../data/lake_cn.dat'},\n",
    "    packagedata=[[0, 290.85, 345, 'lake1']],perioddata={0: [[0, 'evaporation', 0.000715], [0, 'rainfall', 0.00209]]},surfdep=0.1)\n",
    "gwf.modelgrid.set_coord_info(xoff=xoffset, yoff=yoffset, crs=epsg)\n",
    "sim.write_simulation(silent=True)"
   ]
  },
  {
   "cell_type": "code",
   "execution_count": null,
   "id": "3d8837bb-fa72-434f-b27b-067e9195c734",
   "metadata": {},
   "outputs": [],
   "source": []
  }
 ],
 "metadata": {
  "kernelspec": {
   "display_name": "Python 3 (ipykernel)",
   "language": "python",
   "name": "python3"
  },
  "language_info": {
   "codemirror_mode": {
    "name": "ipython",
    "version": 3
   },
   "file_extension": ".py",
   "mimetype": "text/x-python",
   "name": "python",
   "nbconvert_exporter": "python",
   "pygments_lexer": "ipython3",
   "version": "3.11.11"
  }
 },
 "nbformat": 4,
 "nbformat_minor": 5
}
