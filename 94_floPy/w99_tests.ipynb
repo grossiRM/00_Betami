{
 "cells": [
  {
   "cell_type": "code",
   "execution_count": null,
   "id": "722f6e69-d38b-40f5-a2a8-3b5d80552dd3",
   "metadata": {
    "jupyter": {
     "source_hidden": true
    }
   },
   "outputs": [],
   "source": [
    "file_names = {\n",
    "    \"EXAMPLE-1.endpoint\": None,\n",
    "    \"EXAMPLE-1.mpsim\": None,\n",
    "    \"EXAMPLE-2.endpoint\": None,\n",
    "    \"EXAMPLE-2.mplist\": None,\n",
    "    \"EXAMPLE-2.mpsim\": None,\n",
    "    \"EXAMPLE-3.endpoint\": None,\n",
    "    \"EXAMPLE-3.mplist\": None,\n",
    "    \"EXAMPLE-3.mpsim\": None,\n",
    "    \"EXAMPLE-3.pathline\": None,\n",
    "    \"EXAMPLE-4.endpoint\": None,\n",
    "    \"EXAMPLE-4.mplist\": None,\n",
    "    \"EXAMPLE-4.mpsim\": None,\n",
    "    \"EXAMPLE-4.timeseries\": None,\n",
    "    \"EXAMPLE-5.endpoint\": None,\n",
    "    \"EXAMPLE-5.mplist\": None,\n",
    "    \"EXAMPLE-5.mpsim\": None,\n",
    "    \"EXAMPLE-6.endpoint\": None,\n",
    "    \"EXAMPLE-6.mplist\": None,\n",
    "    \"EXAMPLE-6.mpsim\": None,\n",
    "    \"EXAMPLE-6.timeseries\": None,\n",
    "    \"EXAMPLE-7.endpoint\": None,\n",
    "    \"EXAMPLE-7.mplist\": None,\n",
    "    \"EXAMPLE-7.mpsim\": None,\n",
    "    \"EXAMPLE-7.timeseries\": None,\n",
    "    \"EXAMPLE-8.endpoint\": None,\n",
    "    \"EXAMPLE-8.mplist\": None,\n",
    "    \"EXAMPLE-8.mpsim\": None,\n",
    "    \"EXAMPLE-8.timeseries\": None,\n",
    "    \"EXAMPLE-9.endpoint\": None,\n",
    "    \"EXAMPLE-9.mplist\": None,\n",
    "    \"EXAMPLE-9.mpsim\": None,\n",
    "    \"EXAMPLE.BA6\": None,\n",
    "    \"EXAMPLE.BUD\": None,\n",
    "    \"EXAMPLE.DIS\": None,\n",
    "    \"EXAMPLE.DIS.metadata\": None,\n",
    "    \"EXAMPLE.HED\": None,\n",
    "    \"EXAMPLE.LPF\": None,\n",
    "    \"EXAMPLE.LST\": None,\n",
    "    \"EXAMPLE.MPBAS\": None,\n",
    "    \"EXAMPLE.OC\": None,\n",
    "    \"EXAMPLE.PCG\": None,\n",
    "    \"EXAMPLE.RCH\": None,\n",
    "    \"EXAMPLE.RIV\": None,\n",
    "    \"EXAMPLE.WEL\": None,\n",
    "    \"EXAMPLE.mpnam\": None,\n",
    "    \"EXAMPLE.nam\": None,\n",
    "    \"example-1.mplist\": None,\n",
    "    \"example-6.locations\": None,\n",
    "    \"example-7.locations\": None,\n",
    "    \"example-8.locations\": None,\n",
    "    \"example.basemap\": None,\n",
    "}"
   ]
  },
  {
   "cell_type": "code",
   "execution_count": null,
   "id": "ec00d74f-0b84-4b58-bf57-a1d1b4064f21",
   "metadata": {},
   "outputs": [],
   "source": [
    "for fname, fhash in file_names.items():\n",
    "    pooch.retrieve(\n",
    "        url=f\"https://github.com/modflowpy/flopy/raw/develop/examples/data/mp6/{fname}\",\n",
    "        fname=fname,\n",
    "        path=data_path / \"mp6\",\n",
    "        known_hash=fhash,\n",
    "    )\n",
    "\n",
    "shutil.copytree(data_path / \"mp6\", model_ws, dirs_exist_ok=True)\n",
    "\n",
    "mffiles = list(model_ws.glob(\"EXAMPLE.*\"))\n",
    "\n",
    "m = flopy.modflow.Modflow.load(\"EXAMPLE.nam\", model_ws=model_ws)\n",
    "\n",
    "hdsfile = flopy.utils.HeadFile(os.path.join(model_ws, \"EXAMPLE.HED\"))\n",
    "hdsfile.get_kstpkper()\n",
    "\n",
    "hds = hdsfile.get_data(kstpkper=(0, 2))\n",
    "# -\n",
    "\n",
    "# Plot RIV bc and head results.\n",
    "\n",
    "plt.imshow(hds[4, :, :])\n",
    "plt.colorbar()\n",
    "\n",
    "fig = plt.figure(figsize=(8, 8))\n",
    "ax = fig.add_subplot(1, 1, 1, aspect=\"equal\")\n",
    "mapview = flopy.plot.PlotMapView(model=m, layer=4)\n",
    "quadmesh = mapview.plot_ibound()\n",
    "linecollection = mapview.plot_grid()\n",
    "riv = mapview.plot_bc(\"RIV\", color=\"g\", plotAll=True)\n",
    "quadmesh = mapview.plot_bc(\"WEL\", kper=1, plotAll=True)\n",
    "contour_set = mapview.contour_array(\n",
    "    hds, levels=np.arange(np.min(hds), np.max(hds), 0.5), colors=\"b\"\n",
    ")\n",
    "plt.clabel(contour_set, inline=1, fontsize=14)"
   ]
  }
 ],
 "metadata": {
  "jupytext": {
   "cell_metadata_filter": "-all"
  },
  "kernelspec": {
   "display_name": "Python 3 (ipykernel)",
   "language": "python",
   "name": "python3"
  },
  "language_info": {
   "codemirror_mode": {
    "name": "ipython",
    "version": 3
   },
   "file_extension": ".py",
   "mimetype": "text/x-python",
   "name": "python",
   "nbconvert_exporter": "python",
   "pygments_lexer": "ipython3",
   "version": "3.12.7"
  }
 },
 "nbformat": 4,
 "nbformat_minor": 5
}
