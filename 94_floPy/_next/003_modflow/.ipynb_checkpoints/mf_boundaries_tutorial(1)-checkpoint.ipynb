{
 "cells": [
  {
   "cell_type": "markdown",
   "id": "19b66d44",
   "metadata": {},
   "source": [
    "# MODFLOW-2005 Basic stress packages\n",
    "\n",
    "Flopy has a new way to enter boundary conditions for some MODFLOW packages.  These changes are substantial.  Boundary conditions can now be entered as a list of boundaries, as a numpy recarray, or as a dictionary.  These different styles are described in this notebook.\n",
    "\n",
    "Flopy also now requires zero-based input.  This means that **all boundaries are entered in zero-based layer, row, and column indices**.  This means that older Flopy scripts will need to be modified to account for this change.  If you are familiar with Python, this should be natural, but if not, then it may take some time to get used to zero-based numbering.  Flopy users submit all information in zero-based form, and Flopy converts this to the one-based form required by MODFLOW.\n",
    "\n",
    "The following MODFLOW-2005 packages are affected by this change:\n",
    "\n",
    "  * Well\n",
    "  * Drain\n",
    "  * River\n",
    "  * General-Head Boundary\n",
    "  * Time-Variant Constant Head\n",
    "\n",
    "This notebook explains the different ways to enter these types of boundary conditions.\n"
   ]
  },
  {
   "cell_type": "code",
   "execution_count": 1,
   "id": "c7603e13",
   "metadata": {
    "execution": {
     "iopub.execute_input": "2024-12-20T13:18:13.405274Z",
     "iopub.status.busy": "2024-12-20T13:18:13.404770Z",
     "iopub.status.idle": "2024-12-20T13:18:14.140723Z",
     "shell.execute_reply": "2024-12-20T13:18:14.140167Z"
    }
   },
   "outputs": [
    {
     "name": "stdout",
     "output_type": "stream",
     "text": [
      "3.12.7 | packaged by conda-forge | (main, Oct  4 2024, 16:05:46) [GCC 13.3.0]\n",
      "numpy version: 2.1.3\n",
      "flopy version: 3.9.1\n"
     ]
    }
   ],
   "source": [
    "# begin by importing flopy\n",
    "import os\n",
    "import sys\n",
    "from tempfile import TemporaryDirectory\n",
    "\n",
    "import numpy as np\n",
    "\n",
    "import flopy\n",
    "\n",
    "# temporary directory\n",
    "temp_dir = TemporaryDirectory()\n",
    "workspace = os.path.join(temp_dir.name)\n",
    "\n",
    "print(sys.version)\n",
    "print(f\"numpy version: {np.__version__}\")\n",
    "print(f\"flopy version: {flopy.__version__}\")"
   ]
  },
  {
   "cell_type": "markdown",
   "id": "b6e57fc5",
   "metadata": {},
   "source": [
    "## List of Boundaries"
   ]
  },
  {
   "cell_type": "markdown",
   "id": "7da03c61",
   "metadata": {},
   "source": [
    "Boundary condition information is passed to a package constructor as stress_period_data.  In its simplest form, stress_period_data can be a list of individual boundaries, which themselves are lists.  The following shows a simple example for a MODFLOW River Package boundary:"
   ]
  },
  {
   "cell_type": "code",
   "execution_count": 2,
   "id": "5194e4cb",
   "metadata": {
    "execution": {
     "iopub.execute_input": "2024-12-20T13:18:14.142757Z",
     "iopub.status.busy": "2024-12-20T13:18:14.142364Z",
     "iopub.status.idle": "2024-12-20T13:18:14.147122Z",
     "shell.execute_reply": "2024-12-20T13:18:14.146670Z"
    }
   },
   "outputs": [],
   "source": [
    "stress_period_data = [\n",
    "    [\n",
    "        2,\n",
    "        3,\n",
    "        4,\n",
    "        10.7,\n",
    "        5000.0,\n",
    "        -5.7,\n",
    "    ],  # layer, row, column, stage, conductance, river bottom\n",
    "    [\n",
    "        2,\n",
    "        3,\n",
    "        5,\n",
    "        10.7,\n",
    "        5000.0,\n",
    "        -5.7,\n",
    "    ],  # layer, row, column, stage, conductance, river bottom\n",
    "    [\n",
    "        2,\n",
    "        3,\n",
    "        6,\n",
    "        10.7,\n",
    "        5000.0,\n",
    "        -5.7,\n",
    "    ],  # layer, row, column, stage, conductance, river bottom\n",
    "]\n",
    "m = flopy.modflow.Modflow(modelname=\"test\", model_ws=workspace)\n",
    "riv = flopy.modflow.ModflowRiv(m, stress_period_data=stress_period_data)\n",
    "m.write_input()"
   ]
  },
  {
   "cell_type": "markdown",
   "id": "be7548ab",
   "metadata": {},
   "source": [
    "If we look at the River Package created here, you see that the layer, row, and column numbers have been increased by one."
   ]
  },
  {
   "cell_type": "code",
   "execution_count": 3,
   "id": "9b93ac4b",
   "metadata": {
    "execution": {
     "iopub.execute_input": "2024-12-20T13:18:14.148648Z",
     "iopub.status.busy": "2024-12-20T13:18:14.148485Z",
     "iopub.status.idle": "2024-12-20T13:18:14.282607Z",
     "shell.execute_reply": "2024-12-20T13:18:14.281936Z"
    }
   },
   "outputs": [
    {
     "name": "stdout",
     "output_type": "stream",
     "text": [
      "head: cannot open '../../examples/data/test.riv' for reading: No such file or directory\r\n"
     ]
    },
    {
     "name": "stderr",
     "output_type": "stream",
     "text": [
      "/home/runner/micromamba/envs/flopy/lib/python3.12/pty.py:95: DeprecationWarning: This process (pid=3355) is multi-threaded, use of forkpty() may lead to deadlocks in the child.\n",
      "  pid, fd = os.forkpty()\n"
     ]
    }
   ],
   "source": [
    "!head -n 10 '../../examples/data/test.riv'"
   ]
  },
  {
   "cell_type": "markdown",
   "id": "c0d64dbf",
   "metadata": {},
   "source": [
    "If this model had more than one stress period, then Flopy will assume that this boundary condition information applies until the end of the simulation"
   ]
  },
  {
   "cell_type": "code",
   "execution_count": 4,
   "id": "747f4fe5",
   "metadata": {
    "execution": {
     "iopub.execute_input": "2024-12-20T13:18:14.284549Z",
     "iopub.status.busy": "2024-12-20T13:18:14.284367Z",
     "iopub.status.idle": "2024-12-20T13:18:14.418915Z",
     "shell.execute_reply": "2024-12-20T13:18:14.418283Z"
    }
   },
   "outputs": [
    {
     "name": "stdout",
     "output_type": "stream",
     "text": [
      "head: cannot open '../../examples/data/test.riv' for reading: No such file or directory\r\n"
     ]
    },
    {
     "name": "stderr",
     "output_type": "stream",
     "text": [
      "/home/runner/micromamba/envs/flopy/lib/python3.12/pty.py:95: DeprecationWarning: This process (pid=3355) is multi-threaded, use of forkpty() may lead to deadlocks in the child.\n",
      "  pid, fd = os.forkpty()\n"
     ]
    }
   ],
   "source": [
    "m = flopy.modflow.Modflow(modelname=\"test\", model_ws=workspace)\n",
    "dis = flopy.modflow.ModflowDis(m, nper=3)\n",
    "riv = flopy.modflow.ModflowRiv(m, stress_period_data=stress_period_data)\n",
    "m.write_input()\n",
    "!head -n 10 '../../examples/data/test.riv'"
   ]
  },
  {
   "cell_type": "markdown",
   "id": "f31dd8e9",
   "metadata": {},
   "source": [
    "## Recarray of Boundaries\n",
    "\n",
    "Numpy allows the use of recarrays, which are numpy arrays in which each column of the array may be given a different type.  Boundary conditions can be entered as recarrays.  Information on the structure of the recarray for a boundary condition package can be obtained from that particular package.  The structure of the recarray is contained in the dtype."
   ]
  },
  {
   "cell_type": "code",
   "execution_count": 5,
   "id": "58abd430",
   "metadata": {
    "execution": {
     "iopub.execute_input": "2024-12-20T13:18:14.421067Z",
     "iopub.status.busy": "2024-12-20T13:18:14.420886Z",
     "iopub.status.idle": "2024-12-20T13:18:14.424049Z",
     "shell.execute_reply": "2024-12-20T13:18:14.423599Z"
    }
   },
   "outputs": [
    {
     "name": "stdout",
     "output_type": "stream",
     "text": [
      "[('k', '<i8'), ('i', '<i8'), ('j', '<i8'), ('stage', '<f4'), ('cond', '<f4'), ('rbot', '<f4')]\n"
     ]
    }
   ],
   "source": [
    "riv_dtype = flopy.modflow.ModflowRiv.get_default_dtype()\n",
    "print(riv_dtype)"
   ]
  },
  {
   "cell_type": "markdown",
   "id": "c10b9e99",
   "metadata": {},
   "source": [
    "Now that we know the structure of the recarray that we want to create, we can create a new one as follows."
   ]
  },
  {
   "cell_type": "code",
   "execution_count": 6,
   "id": "af61be31",
   "metadata": {
    "execution": {
     "iopub.execute_input": "2024-12-20T13:18:14.425765Z",
     "iopub.status.busy": "2024-12-20T13:18:14.425346Z",
     "iopub.status.idle": "2024-12-20T13:18:14.429411Z",
     "shell.execute_reply": "2024-12-20T13:18:14.428960Z"
    }
   },
   "outputs": [
    {
     "name": "stdout",
     "output_type": "stream",
     "text": [
      "stress_period_data:  [(0, 0, 0, 0., 0., 0.) (0, 0, 0, 0., 0., 0.) (0, 0, 0, 0., 0., 0.)]\n",
      "type is:  <class 'numpy.rec.recarray'>\n"
     ]
    }
   ],
   "source": [
    "stress_period_data = np.zeros((3), dtype=riv_dtype)\n",
    "stress_period_data = stress_period_data.view(np.recarray)\n",
    "print(\"stress_period_data: \", stress_period_data)\n",
    "print(\"type is: \", type(stress_period_data))"
   ]
  },
  {
   "cell_type": "markdown",
   "id": "c688d2c6",
   "metadata": {},
   "source": [
    "We can then fill the recarray with our boundary conditions."
   ]
  },
  {
   "cell_type": "code",
   "execution_count": 7,
   "id": "d48b47be",
   "metadata": {
    "execution": {
     "iopub.execute_input": "2024-12-20T13:18:14.431142Z",
     "iopub.status.busy": "2024-12-20T13:18:14.430735Z",
     "iopub.status.idle": "2024-12-20T13:18:14.434561Z",
     "shell.execute_reply": "2024-12-20T13:18:14.434090Z"
    }
   },
   "outputs": [
    {
     "name": "stdout",
     "output_type": "stream",
     "text": [
      "[(2, 3, 4, 10.7, 5000., -5.7) (2, 3, 5, 10.7, 5000., -5.7)\n",
      " (2, 3, 6, 10.7, 5000., -5.7)]\n"
     ]
    }
   ],
   "source": [
    "stress_period_data[0] = (2, 3, 4, 10.7, 5000.0, -5.7)\n",
    "stress_period_data[1] = (2, 3, 5, 10.7, 5000.0, -5.7)\n",
    "stress_period_data[2] = (2, 3, 6, 10.7, 5000.0, -5.7)\n",
    "print(stress_period_data)"
   ]
  },
  {
   "cell_type": "code",
   "execution_count": 8,
   "id": "c96fa2be",
   "metadata": {
    "execution": {
     "iopub.execute_input": "2024-12-20T13:18:14.436050Z",
     "iopub.status.busy": "2024-12-20T13:18:14.435856Z",
     "iopub.status.idle": "2024-12-20T13:18:14.568973Z",
     "shell.execute_reply": "2024-12-20T13:18:14.568321Z"
    }
   },
   "outputs": [
    {
     "name": "stdout",
     "output_type": "stream",
     "text": [
      "head: cannot open '../../examples/data/test.riv' for reading: No such file or directory\r\n"
     ]
    },
    {
     "name": "stderr",
     "output_type": "stream",
     "text": [
      "/home/runner/micromamba/envs/flopy/lib/python3.12/pty.py:95: DeprecationWarning: This process (pid=3355) is multi-threaded, use of forkpty() may lead to deadlocks in the child.\n",
      "  pid, fd = os.forkpty()\n"
     ]
    }
   ],
   "source": [
    "m = flopy.modflow.Modflow(modelname=\"test\", model_ws=workspace)\n",
    "riv = flopy.modflow.ModflowRiv(m, stress_period_data=stress_period_data)\n",
    "m.write_input()\n",
    "!head -n 10 '../../examples/data/test.riv'"
   ]
  },
  {
   "cell_type": "markdown",
   "id": "f4a5570a",
   "metadata": {},
   "source": [
    "As before, if we have multiple stress periods, then this recarray will apply to all of them."
   ]
  },
  {
   "cell_type": "code",
   "execution_count": 9,
   "id": "0daf4db4",
   "metadata": {
    "execution": {
     "iopub.execute_input": "2024-12-20T13:18:14.571112Z",
     "iopub.status.busy": "2024-12-20T13:18:14.570926Z",
     "iopub.status.idle": "2024-12-20T13:18:14.706346Z",
     "shell.execute_reply": "2024-12-20T13:18:14.705714Z"
    }
   },
   "outputs": [
    {
     "name": "stdout",
     "output_type": "stream",
     "text": [
      "head: cannot open '../../examples/data/test.riv' for reading: No such file or directory\r\n"
     ]
    },
    {
     "name": "stderr",
     "output_type": "stream",
     "text": [
      "/home/runner/micromamba/envs/flopy/lib/python3.12/pty.py:95: DeprecationWarning: This process (pid=3355) is multi-threaded, use of forkpty() may lead to deadlocks in the child.\n",
      "  pid, fd = os.forkpty()\n"
     ]
    }
   ],
   "source": [
    "m = flopy.modflow.Modflow(modelname=\"test\", model_ws=workspace)\n",
    "dis = flopy.modflow.ModflowDis(m, nper=3)\n",
    "riv = flopy.modflow.ModflowRiv(m, stress_period_data=stress_period_data)\n",
    "m.write_input()\n",
    "!head -n 10 '../../examples/data/test.riv'"
   ]
  },
  {
   "cell_type": "markdown",
   "id": "6301ca62",
   "metadata": {},
   "source": [
    "## Dictionary of Boundaries\n",
    "\n",
    "The power of the new functionality in Flopy3 is the ability to specify a dictionary for stress_period_data.  If specified as a dictionary, the key is the stress period number (**as a zero-based number**), and the value is either a nested list, an integer value of 0 or -1, or a recarray for that stress period.\n",
    "\n",
    "Let's say that we want to use the following schedule for our rivers:\n",
    "  0. No rivers in stress period zero\n",
    "  1. Rivers specified by a list in stress period 1\n",
    "  2. No rivers\n",
    "  3. No rivers\n",
    "  4. No rivers\n",
    "  5. Rivers specified by a recarray\n",
    "  6. Same recarray rivers\n",
    "  7. Same recarray rivers\n",
    "  8. Same recarray rivers\n"
   ]
  },
  {
   "cell_type": "code",
   "execution_count": 10,
   "id": "bd4a5651",
   "metadata": {
    "execution": {
     "iopub.execute_input": "2024-12-20T13:18:14.708596Z",
     "iopub.status.busy": "2024-12-20T13:18:14.708414Z",
     "iopub.status.idle": "2024-12-20T13:18:14.712376Z",
     "shell.execute_reply": "2024-12-20T13:18:14.711876Z"
    }
   },
   "outputs": [
    {
     "name": "stdout",
     "output_type": "stream",
     "text": [
      "[[2, 3, 4, 10.7, 5000.0, -5.7], [2, 3, 5, 10.7, 5000.0, -5.7], [2, 3, 6, 10.7, 5000.0, -5.7]]\n"
     ]
    }
   ],
   "source": [
    "sp1 = [\n",
    "    [\n",
    "        2,\n",
    "        3,\n",
    "        4,\n",
    "        10.7,\n",
    "        5000.0,\n",
    "        -5.7,\n",
    "    ],  # layer, row, column, stage, conductance, river bottom\n",
    "    [\n",
    "        2,\n",
    "        3,\n",
    "        5,\n",
    "        10.7,\n",
    "        5000.0,\n",
    "        -5.7,\n",
    "    ],  # layer, row, column, stage, conductance, river bottom\n",
    "    [\n",
    "        2,\n",
    "        3,\n",
    "        6,\n",
    "        10.7,\n",
    "        5000.0,\n",
    "        -5.7,\n",
    "    ],  # layer, row, column, stage, conductance, river bottom\n",
    "]\n",
    "print(sp1)"
   ]
  },
  {
   "cell_type": "code",
   "execution_count": 11,
   "id": "b2bb3281",
   "metadata": {
    "execution": {
     "iopub.execute_input": "2024-12-20T13:18:14.713915Z",
     "iopub.status.busy": "2024-12-20T13:18:14.713751Z",
     "iopub.status.idle": "2024-12-20T13:18:14.717451Z",
     "shell.execute_reply": "2024-12-20T13:18:14.716964Z"
    }
   },
   "outputs": [
    {
     "name": "stdout",
     "output_type": "stream",
     "text": [
      "[(2, 3, 4, 20.7, 5000., -5.7) (2, 3, 5, 20.7, 5000., -5.7)\n",
      " (2, 3, 6, 20.7, 5000., -5.7)]\n"
     ]
    }
   ],
   "source": [
    "riv_dtype = flopy.modflow.ModflowRiv.get_default_dtype()\n",
    "sp5 = np.zeros((3), dtype=riv_dtype)\n",
    "sp5 = sp5.view(np.recarray)\n",
    "sp5[0] = (2, 3, 4, 20.7, 5000.0, -5.7)\n",
    "sp5[1] = (2, 3, 5, 20.7, 5000.0, -5.7)\n",
    "sp5[2] = (2, 3, 6, 20.7, 5000.0, -5.7)\n",
    "print(sp5)"
   ]
  },
  {
   "cell_type": "code",
   "execution_count": 12,
   "id": "3174a48d",
   "metadata": {
    "execution": {
     "iopub.execute_input": "2024-12-20T13:18:14.718910Z",
     "iopub.status.busy": "2024-12-20T13:18:14.718750Z",
     "iopub.status.idle": "2024-12-20T13:18:14.851734Z",
     "shell.execute_reply": "2024-12-20T13:18:14.851211Z"
    }
   },
   "outputs": [
    {
     "name": "stdout",
     "output_type": "stream",
     "text": [
      "head: cannot open '../../examples/data/test.riv' for reading: No such file or directory\r\n"
     ]
    },
    {
     "name": "stderr",
     "output_type": "stream",
     "text": [
      "/home/runner/micromamba/envs/flopy/lib/python3.12/pty.py:95: DeprecationWarning: This process (pid=3355) is multi-threaded, use of forkpty() may lead to deadlocks in the child.\n",
      "  pid, fd = os.forkpty()\n"
     ]
    }
   ],
   "source": [
    "sp_dict = {0: 0, 1: sp1, 2: 0, 5: sp5}\n",
    "m = flopy.modflow.Modflow(modelname=\"test\", model_ws=workspace)\n",
    "dis = flopy.modflow.ModflowDis(m, nper=8)\n",
    "riv = flopy.modflow.ModflowRiv(m, stress_period_data=sp_dict)\n",
    "m.write_input()\n",
    "!head -n 10 '../../examples/data/test.riv'"
   ]
  },
  {
   "cell_type": "markdown",
   "id": "ea15c13d",
   "metadata": {},
   "source": [
    "## MODFLOW Auxiliary Variables\n",
    "\n",
    "Flopy works with MODFLOW auxiliary variables by allowing the recarray to contain additional columns of information.  The auxiliary variables must be specified as package options as shown in the example below.\n",
    "\n",
    "In this example, we also add a string in the last column of the list in order to name each boundary condition.  In this case, however, we do not include boundname as an auxiliary variable as MODFLOW would try to read it as a floating point number."
   ]
  },
  {
   "cell_type": "code",
   "execution_count": 13,
   "id": "e2c7fd71",
   "metadata": {
    "execution": {
     "iopub.execute_input": "2024-12-20T13:18:14.853565Z",
     "iopub.status.busy": "2024-12-20T13:18:14.853395Z",
     "iopub.status.idle": "2024-12-20T13:18:14.857803Z",
     "shell.execute_reply": "2024-12-20T13:18:14.857394Z"
    }
   },
   "outputs": [
    {
     "name": "stdout",
     "output_type": "stream",
     "text": [
      "stress_period_data:  [(0, 0, 0, 0., 0., 0., 0, 0) (0, 0, 0, 0., 0., 0., 0, 0)\n",
      " (0, 0, 0, 0., 0., 0., 0, 0)]\n",
      "type is:  <class 'numpy.rec.recarray'>\n"
     ]
    }
   ],
   "source": [
    "# create an empty array with an iface auxiliary variable at the end\n",
    "riva_dtype = [\n",
    "    (\"k\", \"<i8\"),\n",
    "    (\"i\", \"<i8\"),\n",
    "    (\"j\", \"<i8\"),\n",
    "    (\"stage\", \"<f4\"),\n",
    "    (\"cond\", \"<f4\"),\n",
    "    (\"rbot\", \"<f4\"),\n",
    "    (\"iface\", \"<i4\"),\n",
    "    (\"boundname\", object),\n",
    "]\n",
    "riva_dtype = np.dtype(riva_dtype)\n",
    "stress_period_data = np.zeros((3), dtype=riva_dtype)\n",
    "stress_period_data = stress_period_data.view(np.recarray)\n",
    "print(\"stress_period_data: \", stress_period_data)\n",
    "print(\"type is: \", type(stress_period_data))"
   ]
  },
  {
   "cell_type": "code",
   "execution_count": 14,
   "id": "cbbdd17b",
   "metadata": {
    "execution": {
     "iopub.execute_input": "2024-12-20T13:18:14.859130Z",
     "iopub.status.busy": "2024-12-20T13:18:14.858988Z",
     "iopub.status.idle": "2024-12-20T13:18:14.862362Z",
     "shell.execute_reply": "2024-12-20T13:18:14.861955Z"
    }
   },
   "outputs": [
    {
     "name": "stdout",
     "output_type": "stream",
     "text": [
      "[(2, 3, 4, 10.7, 5000., -5.7, 1, 'riv1')\n",
      " (2, 3, 5, 10.7, 5000., -5.7, 2, 'riv2')\n",
      " (2, 3, 6, 10.7, 5000., -5.7, 3, 'riv3')]\n"
     ]
    }
   ],
   "source": [
    "stress_period_data[0] = (2, 3, 4, 10.7, 5000.0, -5.7, 1, \"riv1\")\n",
    "stress_period_data[1] = (2, 3, 5, 10.7, 5000.0, -5.7, 2, \"riv2\")\n",
    "stress_period_data[2] = (2, 3, 6, 10.7, 5000.0, -5.7, 3, \"riv3\")\n",
    "print(stress_period_data)"
   ]
  },
  {
   "cell_type": "code",
   "execution_count": 15,
   "id": "fcdabf9f",
   "metadata": {
    "execution": {
     "iopub.execute_input": "2024-12-20T13:18:14.863915Z",
     "iopub.status.busy": "2024-12-20T13:18:14.863613Z",
     "iopub.status.idle": "2024-12-20T13:18:14.995911Z",
     "shell.execute_reply": "2024-12-20T13:18:14.995268Z"
    }
   },
   "outputs": [
    {
     "name": "stdout",
     "output_type": "stream",
     "text": [
      "head: cannot open '../../examples/data/test.riv' for reading: No such file or directory\r\n"
     ]
    },
    {
     "name": "stderr",
     "output_type": "stream",
     "text": [
      "/home/runner/micromamba/envs/flopy/lib/python3.12/pty.py:95: DeprecationWarning: This process (pid=3355) is multi-threaded, use of forkpty() may lead to deadlocks in the child.\n",
      "  pid, fd = os.forkpty()\n"
     ]
    }
   ],
   "source": [
    "m = flopy.modflow.Modflow(modelname=\"test\", model_ws=workspace)\n",
    "riv = flopy.modflow.ModflowRiv(\n",
    "    m,\n",
    "    stress_period_data=stress_period_data,\n",
    "    dtype=riva_dtype,\n",
    "    options=[\"aux iface\"],\n",
    ")\n",
    "m.write_input()\n",
    "!head -n 10 '../../examples/data/test.riv'"
   ]
  },
  {
   "cell_type": "markdown",
   "id": "295b859e",
   "metadata": {},
   "source": [
    "## Working with Unstructured Grids\n",
    "\n",
    "Flopy can create an unstructured grid boundary condition package for MODFLOW-USG.  This can be done by specifying a custom dtype for the recarray.  The following shows an example of how that can be done."
   ]
  },
  {
   "cell_type": "code",
   "execution_count": 16,
   "id": "6d725e59",
   "metadata": {
    "execution": {
     "iopub.execute_input": "2024-12-20T13:18:14.998036Z",
     "iopub.status.busy": "2024-12-20T13:18:14.997852Z",
     "iopub.status.idle": "2024-12-20T13:18:15.001820Z",
     "shell.execute_reply": "2024-12-20T13:18:15.001343Z"
    }
   },
   "outputs": [
    {
     "name": "stdout",
     "output_type": "stream",
     "text": [
      "stress_period_data:  [(0, 0., 0., 0.) (0, 0., 0., 0.) (0, 0., 0., 0.)]\n",
      "type is:  <class 'numpy.rec.recarray'>\n"
     ]
    }
   ],
   "source": [
    "# create an empty array based on nodenumber instead of layer, row, and column\n",
    "rivu_dtype = [\n",
    "    (\"nodenumber\", \"<i8\"),\n",
    "    (\"stage\", \"<f4\"),\n",
    "    (\"cond\", \"<f4\"),\n",
    "    (\"rbot\", \"<f4\"),\n",
    "]\n",
    "rivu_dtype = np.dtype(rivu_dtype)\n",
    "stress_period_data = np.zeros((3), dtype=rivu_dtype)\n",
    "stress_period_data = stress_period_data.view(np.recarray)\n",
    "print(\"stress_period_data: \", stress_period_data)\n",
    "print(\"type is: \", type(stress_period_data))"
   ]
  },
  {
   "cell_type": "code",
   "execution_count": 17,
   "id": "b0d6eb0d",
   "metadata": {
    "execution": {
     "iopub.execute_input": "2024-12-20T13:18:15.003294Z",
     "iopub.status.busy": "2024-12-20T13:18:15.003137Z",
     "iopub.status.idle": "2024-12-20T13:18:15.006158Z",
     "shell.execute_reply": "2024-12-20T13:18:15.005732Z"
    }
   },
   "outputs": [
    {
     "name": "stdout",
     "output_type": "stream",
     "text": [
      "[(    77, 10.7, 5000., -5.7) (   245, 10.7, 5000., -5.7)\n",
      " (450034, 10.7, 5000., -5.7)]\n"
     ]
    }
   ],
   "source": [
    "stress_period_data[0] = (77, 10.7, 5000.0, -5.7)\n",
    "stress_period_data[1] = (245, 10.7, 5000.0, -5.7)\n",
    "stress_period_data[2] = (450034, 10.7, 5000.0, -5.7)\n",
    "print(stress_period_data)"
   ]
  },
  {
   "cell_type": "code",
   "execution_count": 18,
   "id": "2a38eaf2",
   "metadata": {
    "execution": {
     "iopub.execute_input": "2024-12-20T13:18:15.007623Z",
     "iopub.status.busy": "2024-12-20T13:18:15.007473Z",
     "iopub.status.idle": "2024-12-20T13:18:15.144880Z",
     "shell.execute_reply": "2024-12-20T13:18:15.144271Z"
    }
   },
   "outputs": [
    {
     "name": "stdout",
     "output_type": "stream",
     "text": [
      "head: cannot open '../../examples/data/test.riv' for reading: No such file or directory\r\n"
     ]
    },
    {
     "name": "stderr",
     "output_type": "stream",
     "text": [
      "/home/runner/micromamba/envs/flopy/lib/python3.12/pty.py:95: DeprecationWarning: This process (pid=3355) is multi-threaded, use of forkpty() may lead to deadlocks in the child.\n",
      "  pid, fd = os.forkpty()\n"
     ]
    }
   ],
   "source": [
    "m = flopy.modflow.Modflow(modelname=\"test\", model_ws=workspace)\n",
    "riv = flopy.modflow.ModflowRiv(\n",
    "    m, stress_period_data=stress_period_data, dtype=rivu_dtype\n",
    ")\n",
    "m.write_input()\n",
    "!head -n 10 '../../examples/data/test.riv'"
   ]
  },
  {
   "cell_type": "markdown",
   "id": "e24f191f",
   "metadata": {},
   "source": [
    "## Combining two boundary condition packages"
   ]
  },
  {
   "cell_type": "code",
   "execution_count": 19,
   "id": "fa8831fa",
   "metadata": {
    "execution": {
     "iopub.execute_input": "2024-12-20T13:18:15.147078Z",
     "iopub.status.busy": "2024-12-20T13:18:15.146900Z",
     "iopub.status.idle": "2024-12-20T13:18:15.280647Z",
     "shell.execute_reply": "2024-12-20T13:18:15.279998Z"
    }
   },
   "outputs": [
    {
     "name": "stdout",
     "output_type": "stream",
     "text": [
      "head: cannot open '../../examples/data/test.wel' for reading: No such file or directory\r\n"
     ]
    },
    {
     "name": "stderr",
     "output_type": "stream",
     "text": [
      "/home/runner/micromamba/envs/flopy/lib/python3.12/pty.py:95: DeprecationWarning: This process (pid=3355) is multi-threaded, use of forkpty() may lead to deadlocks in the child.\n",
      "  pid, fd = os.forkpty()\n"
     ]
    }
   ],
   "source": [
    "ml = flopy.modflow.Modflow(modelname=\"test\", model_ws=workspace)\n",
    "dis = flopy.modflow.ModflowDis(ml, 10, 10, 10, 10)\n",
    "sp_data1 = {3: [1, 1, 1, 1.0], 5: [1, 2, 4, 4.0]}\n",
    "wel1 = flopy.modflow.ModflowWel(ml, stress_period_data=sp_data1)\n",
    "ml.write_input()\n",
    "!head -n 10 '../../examples/data/test.wel'"
   ]
  },
  {
   "cell_type": "code",
   "execution_count": 20,
   "id": "e910c778",
   "metadata": {
    "execution": {
     "iopub.execute_input": "2024-12-20T13:18:15.282646Z",
     "iopub.status.busy": "2024-12-20T13:18:15.282465Z",
     "iopub.status.idle": "2024-12-20T13:18:15.423274Z",
     "shell.execute_reply": "2024-12-20T13:18:15.422665Z"
    }
   },
   "outputs": [
    {
     "name": "stdout",
     "output_type": "stream",
     "text": [
      "head: cannot open '../../examples/data/test.wel' for reading: No such file or directory\r\n"
     ]
    },
    {
     "name": "stderr",
     "output_type": "stream",
     "text": [
      "/home/runner/micromamba/envs/flopy/lib/python3.12/site-packages/flopy/mbase.py:616: UserWarning: Unit 20 of package WEL already in use.\n",
      "  warn(\n",
      "/home/runner/micromamba/envs/flopy/lib/python3.12/site-packages/flopy/mbase.py:625: UserWarning: Two packages of the same type, Replacing existing 'WEL' package.\n",
      "  warn(\n",
      "/home/runner/micromamba/envs/flopy/lib/python3.12/pty.py:95: DeprecationWarning: This process (pid=3355) is multi-threaded, use of forkpty() may lead to deadlocks in the child.\n",
      "  pid, fd = os.forkpty()\n"
     ]
    }
   ],
   "source": [
    "sp_data2 = {0: [1, 1, 3, 3.0], 8: [9, 2, 4, 4.0]}\n",
    "wel2 = flopy.modflow.ModflowWel(ml, stress_period_data=sp_data2)\n",
    "ml.write_input()\n",
    "!head -n 10 '../../examples/data/test.wel'"
   ]
  },
  {
   "cell_type": "markdown",
   "id": "43f9f2a4",
   "metadata": {},
   "source": [
    "Now we create a third wel package, using the ```MfList.append()``` method:"
   ]
  },
  {
   "cell_type": "code",
   "execution_count": 21,
   "id": "909f3053",
   "metadata": {
    "execution": {
     "iopub.execute_input": "2024-12-20T13:18:15.425658Z",
     "iopub.status.busy": "2024-12-20T13:18:15.425217Z",
     "iopub.status.idle": "2024-12-20T13:18:15.561071Z",
     "shell.execute_reply": "2024-12-20T13:18:15.560444Z"
    },
    "pycharm": {
     "name": "#%%\n"
    }
   },
   "outputs": [
    {
     "name": "stdout",
     "output_type": "stream",
     "text": [
      "head: cannot open '../../examples/data/test.wel' for reading: No such file or directory\r\n"
     ]
    },
    {
     "name": "stderr",
     "output_type": "stream",
     "text": [
      "/home/runner/micromamba/envs/flopy/lib/python3.12/pty.py:95: DeprecationWarning: This process (pid=3355) is multi-threaded, use of forkpty() may lead to deadlocks in the child.\n",
      "  pid, fd = os.forkpty()\n"
     ]
    }
   ],
   "source": [
    "wel3 = flopy.modflow.ModflowWel(\n",
    "    ml,\n",
    "    stress_period_data=wel2.stress_period_data.append(wel1.stress_period_data),\n",
    ")\n",
    "ml.write_input()\n",
    "!head -n 10 '../../examples/data/test.wel'"
   ]
  }
 ],
 "metadata": {
  "jupytext": {
   "notebook_metadata_filter": "metadata"
  },
  "kernelspec": {
   "display_name": "Python 3 (ipykernel)",
   "language": "python",
   "name": "python3"
  },
  "language_info": {
   "codemirror_mode": {
    "name": "ipython",
    "version": 3
   },
   "file_extension": ".py",
   "mimetype": "text/x-python",
   "name": "python",
   "nbconvert_exporter": "python",
   "pygments_lexer": "ipython3",
   "version": "3.12.7"
  },
  "metadata": {
   "section": "mf2005"
  }
 },
 "nbformat": 4,
 "nbformat_minor": 5
}
