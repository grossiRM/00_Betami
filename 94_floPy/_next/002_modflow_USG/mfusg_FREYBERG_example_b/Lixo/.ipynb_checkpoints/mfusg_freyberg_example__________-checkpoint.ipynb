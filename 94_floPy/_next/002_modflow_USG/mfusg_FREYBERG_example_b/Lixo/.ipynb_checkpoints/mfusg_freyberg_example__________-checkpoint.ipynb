{
 "cells": [
  {
   "cell_type": "markdown",
   "metadata": {},
   "source": [
    "# __mfusg_freyberg_example__Original"
   ]
  },
  {
   "cell_type": "code",
   "execution_count": 1,
   "metadata": {},
   "outputs": [
    {
     "name": "stdout",
     "output_type": "stream",
     "text": [
      "Requirement already satisfied: pooch in c:\\users\\gross.desktop-airqm2m\\anaconda3\\envs\\gmdsitut\\lib\\site-packages (1.8.2)\n",
      "Requirement already satisfied: platformdirs>=2.5.0 in c:\\users\\gross.desktop-airqm2m\\anaconda3\\envs\\gmdsitut\\lib\\site-packages (from pooch) (4.3.6)\n",
      "Requirement already satisfied: packaging>=20.0 in c:\\users\\gross.desktop-airqm2m\\anaconda3\\envs\\gmdsitut\\lib\\site-packages (from pooch) (24.2)\n",
      "Requirement already satisfied: requests>=2.19.0 in c:\\users\\gross.desktop-airqm2m\\anaconda3\\envs\\gmdsitut\\lib\\site-packages (from pooch) (2.32.3)\n",
      "Requirement already satisfied: charset_normalizer<4,>=2 in c:\\users\\gross.desktop-airqm2m\\anaconda3\\envs\\gmdsitut\\lib\\site-packages (from requests>=2.19.0->pooch) (3.4.0)\n",
      "Requirement already satisfied: idna<4,>=2.5 in c:\\users\\gross.desktop-airqm2m\\anaconda3\\envs\\gmdsitut\\lib\\site-packages (from requests>=2.19.0->pooch) (3.10)\n",
      "Requirement already satisfied: urllib3<3,>=1.21.1 in c:\\users\\gross.desktop-airqm2m\\anaconda3\\envs\\gmdsitut\\lib\\site-packages (from requests>=2.19.0->pooch) (2.2.3)\n",
      "Requirement already satisfied: certifi>=2017.4.17 in c:\\users\\gross.desktop-airqm2m\\anaconda3\\envs\\gmdsitut\\lib\\site-packages (from requests>=2.19.0->pooch) (2024.8.30)\n",
      "Note: you may need to restart the kernel to use updated packages.\n"
     ]
    }
   ],
   "source": [
    "pip install pooch"
   ]
  },
  {
   "cell_type": "code",
   "execution_count": 2,
   "metadata": {},
   "outputs": [],
   "source": [
    "from pathlib import Path\n",
    "from pprint import pformat\n",
    "# import git\n",
    "import pooch\n",
    "import flopy"
   ]
  },
  {
   "cell_type": "code",
   "execution_count": 4,
   "metadata": {},
   "outputs": [],
   "source": [
    "try:                                                                            # ___ Download \n",
    "    root = Path(git.Repo(\".\", search_parent_directories=True).working_dir)\n",
    "except:\n",
    "    root = None"
   ]
  },
  {
   "cell_type": "code",
   "execution_count": 16,
   "metadata": {},
   "outputs": [],
   "source": [
    "root_name = \"freyberg.usg\"      \n",
    "data_path = root / \"examples\" / \"data\" if root else Path.cwd()\n",
    "\n",
    "file_names = {\"freyberg.usg.bas\": None, \"freyberg.usg.disu\": None, \"freyberg.usg.ghb\": None, \"freyberg.usg.gnc\": None,    \n",
    "              \"freyberg.usg.gsf\": None, \"freyberg.usg.gsf.with_comment\": None, \"freyberg.usg.lpf\": None, \"freyberg.usg.nam\": None,    \n",
    "              \"freyberg.usg.oc\": None, \"freyberg.usg.rch\": None, \"freyberg.usg.sfr\": None,    \"freyberg.usg.sms\": None, \"freyberg.usg.wel\": None,}\n",
    "for fname, fhash in file_names.items():\n",
    "    pooch.retrieve(\n",
    "        url=f\"https://github.com/modflowpy/flopy/raw/develop/examples/data/{root_name.replace('.', '_')}/{fname}\",    # examples/data\n",
    "        fname=fname,\n",
    "        path=data_path / root_name.replace(\".\", \"_\"),\n",
    "        known_hash=None,)"
   ]
  },
  {
   "cell_type": "code",
   "execution_count": 8,
   "metadata": {},
   "outputs": [],
   "source": [
    "model_ws = data_path / root_name.replace(\".\", \"_\")\n",
    "\n",
    "from flopy.discretization import UnstructuredGrid                               # ____ Dependency\n",
    "mfgrid = UnstructuredGrid.from_gridspec(str(model_ws / f\"{root_name}.gsf\"))"
   ]
  },
  {
   "cell_type": "raw",
   "metadata": {},
   "source": [
    "import matplotlib.pyplot as plt\n",
    "fig = plt.figure(figsize=(4, 4))\n",
    "ax = fig.add_subplot(1, 1, 1, aspect=\"equal\")\n",
    "pmv = flopy.plot.PlotMapView(modelgrid=mfgrid, ax=ax)\n",
    "pmv.plot_grid(alpha=0.1)      "
   ]
  },
  {
   "cell_type": "code",
   "execution_count": 9,
   "metadata": {},
   "outputs": [],
   "source": [
    "from flopy.utils.geometry import LineString                                     # dependency     \n",
    "\n",
    "lines = [\n",
    "    LineString(ls)\n",
    "    for ls in [\n",
    "        [(623000, 3364000), (623000, 3372000)],\n",
    "        [(623650, 3364000), (623650, 3372000)],\n",
    "    ]\n",
    "]"
   ]
  },
  {
   "cell_type": "code",
   "execution_count": 11,
   "metadata": {},
   "outputs": [],
   "source": [
    "gwf = flopy.mfusg.MfUsg.load(f\"{root_name}.nam\", model_ws=str(model_ws),\n",
    "    verbose=False,    check=False,    exe_name=\"mfusg\",)                         # Loading the model\n",
    "\n",
    "bas6 = gwf.get_package(\"bas6\")\n",
    "ibound = bas6.ibound.array"
   ]
  },
  {
   "cell_type": "raw",
   "metadata": {},
   "source": [
    "fig = plt.figure(figsize=(8, 8))                           # ___ Plot cross sections\n",
    "ax = fig.add_subplot(1, 1, 1, aspect=\"equal\")\n",
    "pmv = flopy.plot.PlotMapView(modelgrid=mfgrid, ax=ax)\n",
    "grid = pmv.plot_grid(alpha=0.2)\n",
    "shps = pmv.plot_shapes(lines, edgecolor=\"purple\", lw=2, alpha=0.7)\n",
    "inac = pmv.plot_inactive(ibound=ibound)"
   ]
  },
  {
   "cell_type": "code",
   "execution_count": null,
   "metadata": {},
   "outputs": [],
   "source": [
    "from tempfile import TemporaryDirectory\n",
    "\n",
    "temp_dir = TemporaryDirectory()\n",
    "work_dir = Path(temp_dir.name) / \"freyberg_usg\"\n",
    "\n",
    "gwf.change_model_ws(str(work_dir))\n",
    "gwf.write_name_file()\n",
    "gwf.write_input()\n",
    "success, buff = gwf.run_model(silent=True, report=True)\n",
    "assert success, pformat(buff)"
   ]
  },
  {
   "cell_type": "code",
   "execution_count": null,
   "metadata": {},
   "outputs": [],
   "source": [
    "import numpy as np\n",
    "\n",
    "hds = flopy.utils.HeadUFile(str(work_dir / f\"{root_name}.hds\"), model=gwf)\n",
    "times = hds.get_times()\n",
    "head = np.array(hds.get_data())\n",
    "print(head.shape)"
   ]
  },
  {
   "cell_type": "code",
   "execution_count": null,
   "metadata": {},
   "outputs": [],
   "source": [
    "levels = np.arange(30, 35.4, 0.1)\n",
    "fig = plt.figure(figsize=(15, 10))\n",
    "\n",
    "for layer, h in enumerate(head):\n",
    "    ax = fig.add_subplot(1, len(head), layer + 1)\n",
    "    ax.set_title(f\"Freyberg head (layer {layer})\")\n",
    "    pmv = flopy.plot.PlotMapView(modelgrid=mfgrid, ax=ax)\n",
    "    mesh = pmv.plot_array(h, alpha=0.2)\n",
    "    grid = pmv.plot_grid(alpha=0.2)\n",
    "    shps = pmv.plot_shapes(lines, edgecolor=\"purple\", lw=2, alpha=0.8)\n",
    "    inac = pmv.plot_inactive(ibound=ibound)\n",
    "    ctrs = pmv.contour_array(h, levels=levels)"
   ]
  },
  {
   "cell_type": "code",
   "execution_count": null,
   "metadata": {},
   "outputs": [],
   "source": [
    "\n",
    "# -\n",
    "\n",
    "# A `head` argument can be provided to `CrossSectionPlot.contour_array()` to show the phreatic surface.\n",
    "\n",
    "# +\n",
    "fig = plt.figure(figsize=(25, 5))\n",
    "\n",
    "for i, line in enumerate(lines):\n",
    "    ax = fig.add_subplot(1, len(lines), i + 1)\n",
    "    ax.set_title(f\"Freyberg head cross-section (line {i})\")\n",
    "    xsect = flopy.plot.PlotCrossSection(\n",
    "        modelgrid=mfgrid, ax=ax, line={\"line\": lines[i]}, geographic_coords=True\n",
    "    )\n",
    "    xsect.plot_array(head, head=head, alpha=0.4)\n",
    "    xsect.plot_ibound(ibound=ibound, head=head)\n",
    "    xsect.plot_inactive(ibound=ibound)\n",
    "    contours = xsect.contour_array(\n",
    "        head, masked_values=[999.0], head=head, levels=levels, alpha=1.0, colors=\"blue\"\n",
    "    )\n",
    "    plt.clabel(contours, fmt=\"%.0f\", colors=\"blue\", fontsize=12)\n",
    "    xsect.plot_grid(alpha=0.2)\n",
    "    ax.set_ylim([0, 40])  # set y axis range to ignore low elevations\n",
    "# -\n",
    "\n",
    "# The `head` argument can be a 1D array or a 2D array matching the shape of the grid (i.e., `head.shape == (layer count, ncpl)`).\n",
    "\n",
    "# +\n",
    "line = lines[0]\n",
    "\n",
    "for time in times[0:3]:\n",
    "    head = np.array(hds.get_data(totim=time))\n",
    "    head2 = np.hstack(head)\n",
    "\n",
    "    fig = plt.figure(figsize=(25, 5))\n",
    "    ax = fig.add_subplot(1, 3, 1)\n",
    "    ax.set_title(f\"Freyberg cross-section (t = {int(time)}, no head)\")\n",
    "    xsect = flopy.plot.PlotCrossSection(\n",
    "        modelgrid=mfgrid, ax=ax, line={\"line\": line}, geographic_coords=True\n",
    "    )\n",
    "    cmap = xsect.plot_array(head2, masked_values=[-999.99], alpha=0.4)\n",
    "    contours = xsect.contour_array(head2, levels=levels, alpha=1.0, colors=\"blue\")\n",
    "    xsect.plot_inactive(ibound=ibound, color_noflow=(0.8, 0.8, 0.8))\n",
    "    xsect.plot_grid(alpha=0.2)\n",
    "    ax.set_ylim([0, 40])  # set y axis range to ignore low elevations\n",
    "\n",
    "    ax = fig.add_subplot(1, 3, 2)\n",
    "    ax.set_title(\n",
    "        f\"Freyberg head cross-section (t = {int(time)}, head shape = {head.shape})\"\n",
    "    )\n",
    "    xsect = flopy.plot.PlotCrossSection(\n",
    "        modelgrid=mfgrid, ax=ax, line={\"line\": line}, geographic_coords=True\n",
    "    )\n",
    "    cmap = xsect.plot_array(head, masked_values=[-999.99], head=head, alpha=0.4)\n",
    "    contours = xsect.contour_array(\n",
    "        head, head=head, levels=levels, alpha=1.0, colors=\"blue\"\n",
    "    )\n",
    "    xsect.plot_inactive(ibound=ibound, color_noflow=(0.8, 0.8, 0.8))\n",
    "    xsect.plot_grid(alpha=0.2)\n",
    "    ax.set_ylim([0, 40])\n",
    "\n",
    "    ax = fig.add_subplot(1, 3, 3)\n",
    "    ax.set_title(\n",
    "        f\"Freyberg head cross-section (t = {int(time)}, head shape = {head2.shape})\"\n",
    "    )\n",
    "    xsect = flopy.plot.PlotCrossSection(\n",
    "        modelgrid=mfgrid, ax=ax, line={\"line\": line}, geographic_coords=True\n",
    "    )\n",
    "    cmap = xsect.plot_array(head2, masked_values=[-999.99], head=head2, alpha=0.4)\n",
    "    contours = xsect.contour_array(\n",
    "        head2, head=head2, levels=levels, alpha=1.0, colors=\"blue\"\n",
    "    )\n",
    "    xsect.plot_inactive(ibound=ibound, color_noflow=(0.8, 0.8, 0.8))\n",
    "    xsect.plot_grid(alpha=0.2)\n",
    "    ax.set_ylim([0, 40])\n",
    "# -\n",
    "\n",
    "try:\n",
    "    # ignore PermissionError on Windows\n",
    "    temp_dir.cleanup()\n",
    "except:\n",
    "    pass\n"
   ]
  }
 ],
 "metadata": {
  "kernelspec": {
   "display_name": "Python 3 (ipykernel)",
   "language": "python",
   "name": "python3"
  },
  "language_info": {
   "codemirror_mode": {
    "name": "ipython",
    "version": 3
   },
   "file_extension": ".py",
   "mimetype": "text/x-python",
   "name": "python",
   "nbconvert_exporter": "python",
   "pygments_lexer": "ipython3",
   "version": "3.11.11"
  }
 },
 "nbformat": 4,
 "nbformat_minor": 4
}
