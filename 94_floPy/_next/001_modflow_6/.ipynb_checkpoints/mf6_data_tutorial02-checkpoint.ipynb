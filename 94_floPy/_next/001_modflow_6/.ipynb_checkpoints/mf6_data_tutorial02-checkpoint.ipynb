{
 "cells": [
  {
   "cell_type": "code",
   "execution_count": 1,
   "id": "a412ec8b",
   "metadata": {},
   "outputs": [],
   "source": [
    "import os ; from pathlib import Path ; from tempfile import TemporaryDirectory ; import numpy as np ; import flopy"
   ]
  },
  {
   "cell_type": "code",
   "execution_count": 2,
   "id": "625ccc7f",
   "metadata": {},
   "outputs": [],
   "source": [
    "temp_dir = TemporaryDirectory() ; workspace = temp_dir.name ; name = \"tutorial02_mf6_data\""
   ]
  },
  {
   "cell_type": "code",
   "execution_count": 3,
   "id": "84b2bf82",
   "metadata": {},
   "outputs": [],
   "source": [
    "sim = flopy.mf6.MFSimulation(sim_name=name, exe_name=\"mf6\", version=\"mf6\", sim_ws=workspace)\n",
    "tdis_rc = [(1.0, 1, 1.0), (10.0, 5, 1.0), (10.0, 5, 1.0), (10.0, 1, 1.0)]\n",
    "tdis_package = flopy.mf6.modflow.mftdis.ModflowTdis(sim, time_units=\"DAYS\", nper=4, perioddata=tdis_rc)\n",
    "model_nam_file = f\"{name}.nam\"\n",
    "gwf = flopy.mf6.ModflowGwf(sim, modelname=name, model_nam_file=model_nam_file)\n",
    "ims = flopy.mf6.modflow.mfims.ModflowIms(sim, pname=\"ims\", complexity=\"SIMPLE\")\n",
    "bot = np.linspace(-3.0, -50.0 / 3.0, 3)  ; delrow = delcol = 4.0\n",
    "dis = flopy.mf6.modflow.mfgwfdis.ModflowGwfdis(gwf,pname=\"dis\",nogrb=True,nlay=3,nrow=101,ncol=101,delr=delrow,delc=delcol,top=0.0,botm=bot)\n",
    "ic_package = flopy.mf6.modflow.mfgwfic.ModflowGwfic(gwf, strt=50.0)\n",
    "npf_package = flopy.mf6.modflow.mfgwfnpf.ModflowGwfnpf(gwf,save_flows=True,icelltype=[1, 0, 0],k=[5.0, 0.1, 4.0],k33=[0.5, 0.005, 0.1])"
   ]
  },
  {
   "cell_type": "code",
   "execution_count": 4,
   "id": "19aa826a",
   "metadata": {},
   "outputs": [],
   "source": [
    "ghb_spd = {} ; ghb_period = []\n",
    "for layer, cond in zip(range(1, 3), [15.0, 1500.0]):\n",
    "    for row in range(0, 15):\n",
    "        ghb_period.append(((layer, row, 9), 1.0, cond, \"Estuary-L2\"))\n",
    "ghb_spd[0] = ghb_period"
   ]
  },
  {
   "cell_type": "code",
   "execution_count": 5,
   "id": "edd6055a",
   "metadata": {},
   "outputs": [],
   "source": [
    "ghb_obs = {(\"ghb_obs.csv\", \"binary\"): [(\"ghb-2-6-10\", \"GHB\", (1, 5, 9)),(\"ghb-3-6-10\", \"GHB\", (2, 5, 9)),],\n",
    "           \"ghb_flows.csv\": [(\"Estuary2\", \"GHB\", \"Estuary-L2\"),(\"Estuary3\", \"GHB\", \"Estuary-L3\")]}"
   ]
  },
  {
   "cell_type": "code",
   "execution_count": 9,
   "id": "e5ddd075",
   "metadata": {},
   "outputs": [],
   "source": [
    "ghb = flopy.mf6.modflow.mfgwfghb.ModflowGwfghb(gwf,print_input=True,print_flows=True,save_flows=True,boundnames=True,\n",
    "                                               observations=ghb_obs,pname=\"ghb\",maxbound=30,stress_period_data=ghb_spd)\n",
    "ghb.obs.print_input = True\n",
    "gwf.remove_package(\"ghb\")"
   ]
  },
  {
   "cell_type": "code",
   "execution_count": 10,
   "id": "6d30fdaa",
   "metadata": {},
   "outputs": [],
   "source": [
    "ghb = flopy.mf6.modflow.mfgwfghb.ModflowGwfghb(gwf,print_input=True,print_flows=True,save_flows=True,boundnames=True,\n",
    "                                               maxbound=30,stress_period_data=ghb_spd,pname=\"ghb\")"
   ]
  },
  {
   "cell_type": "code",
   "execution_count": 11,
   "id": "0994f513",
   "metadata": {},
   "outputs": [],
   "source": [
    "ghb_obs = {(\"ghb_obs.csv\", \"binary\"): [(\"ghb-2-6-10\", \"GHB\", (1, 5, 9)),(\"ghb-3-6-10\", \"GHB\", (2, 5, 9)),],\n",
    "           \"ghb_flows.csv\": [(\"Estuary2\", \"GHB\", \"Estuary-L2\"),(\"Estuary3\", \"GHB\", \"Estuary-L3\")]}"
   ]
  },
  {
   "cell_type": "code",
   "execution_count": 12,
   "id": "80f8b807",
   "metadata": {},
   "outputs": [],
   "source": [
    "ghb.obs.initialize(filename=\"child_pkgs_test.ghb.obs\",digits=9,print_input=True,continuous=ghb_obs)"
   ]
  },
  {
   "cell_type": "code",
   "execution_count": 13,
   "id": "14725a0c",
   "metadata": {},
   "outputs": [],
   "source": [
    "try:\n",
    "    temp_dir.cleanup()\n",
    "except PermissionError:\n",
    "    # can occur on windows: https://docs.python.org/3/library/tempfile.html#tempfile.TemporaryDirectory\n",
    "    pass"
   ]
  },
  {
   "cell_type": "code",
   "execution_count": null,
   "id": "afdd0bc1-7208-48cb-bbe7-853f5000a748",
   "metadata": {},
   "outputs": [],
   "source": [
    "... plots ?"
   ]
  }
 ],
 "metadata": {
  "jupytext": {
   "notebook_metadata_filter": "metadata"
  },
  "kernelspec": {
   "display_name": "Python 3 (ipykernel)",
   "language": "python",
   "name": "python3"
  },
  "language_info": {
   "codemirror_mode": {
    "name": "ipython",
    "version": 3
   },
   "file_extension": ".py",
   "mimetype": "text/x-python",
   "name": "python",
   "nbconvert_exporter": "python",
   "pygments_lexer": "ipython3",
   "version": "3.12.7"
  },
  "metadata": {
   "section": "mf6"
  }
 },
 "nbformat": 4,
 "nbformat_minor": 5
}
