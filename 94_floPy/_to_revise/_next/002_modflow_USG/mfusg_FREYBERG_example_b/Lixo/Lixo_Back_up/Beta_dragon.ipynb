{
 "cells": [
  {
   "cell_type": "markdown",
   "metadata": {},
   "source": [
    "# __Beta Dragon__"
   ]
  },
  {
   "cell_type": "code",
   "execution_count": null,
   "metadata": {},
   "outputs": [],
   "source": [
    "import nbformat\n",
    "from nbconvert.preprocessors import ExecutePreprocessor\n",
    "import os\n",
    "import shutil\n",
    "import platform\n",
    "import pandas as pd\n",
    "import numpy as np\n",
    "import matplotlib.pyplot as plt\n",
    "import zipfile\n",
    "import shutil\n",
    "import sys\n",
    "# sys.path.insert(0,os.path.join(\"..\",\"..\",\"dependencies\"))                               \n",
    "import pyemu\n",
    "import flopy"
   ]
  },
  {
   "cell_type": "code",
   "execution_count": null,
   "metadata": {},
   "outputs": [],
   "source": [
    "if \"linux\" in platform.platform().lower():\n",
    "    bin_path = os.path.join(\"..\",\"..\", \"bin_new\", \"linux\")\n",
    "elif \"darwin\" in platform.platform().lower() or \"macos\" in platform.platform().lower():\n",
    "    bin_path = os.path.join(\"..\",\"..\", \"bin_new\", \"mac\")\n",
    "else:\n",
    "    bin_path = os.path.join(\"..\", \"..\", \"bin_new\", \"win\")"
   ]
  },
  {
   "cell_type": "code",
   "execution_count": null,
   "metadata": {},
   "outputs": [],
   "source": [
    "def prep_bins(dest_path):\n",
    "    files = os.listdir(bin_path)\n",
    "    for f in files:\n",
    "        if os.path.exists(os.path.join(dest_path,f)):\n",
    "            os.remove(os.path.join(dest_path,f))\n",
    "        shutil.copy2(os.path.join(bin_path,f),os.path.join(dest_path,f))"
   ]
  },
  {
   "cell_type": "code",
   "execution_count": null,
   "metadata": {},
   "outputs": [],
   "source": [
    "def dir_cleancopy(org_d, new_d, delete_orgdir=False):\n",
    "    # remove existing folder\n",
    "    if os.path.exists(new_d):\n",
    "        shutil.rmtree(new_d)\n",
    "    # copy the original model folder across\n",
    "    shutil.copytree(org_d, new_d)\n",
    "    print(f'Files copied from:{org_d}\\nFiles copied to:{new_d}')\n",
    "\n",
    "    if delete_orgdir==True:\n",
    "        shutil.rmtree(org_d)\n",
    "        print(f'Hope you did that on purpose. {org_d} has been deleted.')\n",
    "    #prep_bins(new_d)\n",
    "    return"
   ]
  }
 ],
 "metadata": {
  "kernelspec": {
   "display_name": "Python 3 (ipykernel)",
   "language": "python",
   "name": "python3"
  },
  "language_info": {
   "codemirror_mode": {
    "name": "ipython",
    "version": 3
   },
   "file_extension": ".py",
   "mimetype": "text/x-python",
   "name": "python",
   "nbconvert_exporter": "python",
   "pygments_lexer": "ipython3",
   "version": "3.11.11"
  }
 },
 "nbformat": 4,
 "nbformat_minor": 4
}
