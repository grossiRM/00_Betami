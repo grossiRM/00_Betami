{
 "cells": [
  {
   "cell_type": "markdown",
   "id": "813d74c0-f2ab-4982-8690-110b627c7389",
   "metadata": {},
   "source": [
    "## **Boundary conditions ... <font color='blue'> as a list of boundaries, </font><font color='red'> as a numpy recarray, </font> <font color='green'> or as a dictionary! </font>**"
   ]
  },
  {
   "cell_type": "code",
   "execution_count": 1,
   "id": "73416c72",
   "metadata": {},
   "outputs": [],
   "source": [
    "import os ; import numpy as np ; import flopy; from pathlib import Path"
   ]
  },
  {
   "cell_type": "code",
   "execution_count": 2,
   "id": "f5733f18-e121-49d9-b1b1-deae67d3540a",
   "metadata": {},
   "outputs": [],
   "source": [
    "sim_name = Path(\"./01_mf_boundaries_tutorial\") ; sim_name.mkdir(exist_ok=True) ;  modelname = \"B_test\"\n",
    "exe_name = 'E:\\\\15_REPOS\\\\00_BETAMI\\\\bin\\\\mf6.exe'                    ; workspace  = output_folder = model_ws = ws = sim_name"
   ]
  },
  {
   "cell_type": "code",
   "execution_count": 3,
   "id": "f1b0b6bf",
   "metadata": {
    "scrolled": true
   },
   "outputs": [],
   "source": [
    "stress_period_data = [ [2,3,4,  10.7, 5000.0, -5.7,],  \n",
    "                       [2,3,5,  10.7, 5000.0, -5.7,],\n",
    "                       [2,3,6,  10.7, 5000.0, -5.7,],]                  # layer, row, column,        stage, conductance, river bottom"
   ]
  },
  {
   "cell_type": "code",
   "execution_count": 4,
   "id": "fad99c64-4eb8-4a83-8c13-179b110c11e2",
   "metadata": {},
   "outputs": [
    {
     "name": "stdout",
     "output_type": "stream",
     "text": [
      "[('k', '<i4'), ('i', '<i4'), ('j', '<i4'), ('stage', '<f4'), ('cond', '<f4'), ('rbot', '<f4')]\n"
     ]
    }
   ],
   "source": [
    "riv_dtype = flopy.modflow.ModflowRiv.get_default_dtype()   ; print(riv_dtype)             # Recarrays"
   ]
  },
  {
   "cell_type": "code",
   "execution_count": 5,
   "id": "1a5554d0-807f-48db-ad15-df6058b9eee2",
   "metadata": {},
   "outputs": [
    {
     "name": "stdout",
     "output_type": "stream",
     "text": [
      "stress_period_data:  [(0, 0, 0, 0., 0., 0.) (0, 0, 0, 0., 0., 0.) (0, 0, 0, 0., 0., 0.)] type is:  <class 'numpy.recarray'>\n"
     ]
    }
   ],
   "source": [
    "stress_period_data = np.zeros((3), dtype=riv_dtype)   ;   stress_period_data = stress_period_data.view(np.recarray)\n",
    "print(\"stress_period_data: \", stress_period_data, \"type is: \", type(stress_period_data))"
   ]
  },
  {
   "cell_type": "code",
   "execution_count": 6,
   "id": "60576229",
   "metadata": {},
   "outputs": [
    {
     "name": "stdout",
     "output_type": "stream",
     "text": [
      "[(2, 3, 4, 10.7, 5000., -5.7) (2, 3, 5, 10.7, 5000., -5.7)\n",
      " (2, 3, 6, 10.7, 5000., -5.7)]\n"
     ]
    }
   ],
   "source": [
    "stress_period_data[0] = (2, 3, 4, 10.7, 5000.0, -5.7)  \n",
    "stress_period_data[1] = (2, 3, 5, 10.7, 5000.0, -5.7)\n",
    "stress_period_data[2] = (2, 3, 6, 10.7, 5000.0, -5.7)          ; print(stress_period_data)"
   ]
  },
  {
   "cell_type": "code",
   "execution_count": 7,
   "id": "33ce03b0-2a6e-4821-bfad-17883432599f",
   "metadata": {},
   "outputs": [
    {
     "data": {
      "text/plain": [
       "[[2, 3, 4, 10.7, 5000.0, -5.7],\n",
       " [2, 3, 5, 10.7, 5000.0, -5.7],\n",
       " [2, 3, 6, 10.7, 5000.0, -5.7]]"
      ]
     },
     "execution_count": 7,
     "metadata": {},
     "output_type": "execute_result"
    }
   ],
   "source": [
    "sp1 = [ [2,3,4,  10.7, 5000.0, -5.7,],  [2,3,5,  10.7, 5000.0, -5.7,], [2,3,6,  10.7, 5000.0, -5.7]]; sp1"
   ]
  },
  {
   "cell_type": "code",
   "execution_count": 8,
   "id": "58fe41c4",
   "metadata": {},
   "outputs": [],
   "source": [
    "riv_dtype = flopy.modflow.ModflowRiv.get_default_dtype()\n",
    "sp5 = np.zeros((3), dtype=riv_dtype)    ; sp5 = sp5.view(np.recarray)\n",
    "sp5[0] = (2, 3, 4, 20.7, 5000.0, -5.7)  ; sp5[1] = (2, 3, 5, 20.7, 5000.0, -5.7)  ; sp5[2] = (2, 3, 6, 20.7, 5000.0, -5.7)\n",
    "\n",
    "sp_dict = {0: 0, 1: sp1, 2: 0, 5: sp5}\n",
    "m   = flopy.modflow.Modflow    (modelname=modelname, model_ws=ws )\n",
    "riv = flopy.modflow.ModflowRiv (m, stress_period_data=sp_dict )\n",
    "m.write_input()"
   ]
  },
  {
   "cell_type": "markdown",
   "id": "6c7bf428-aca7-4be1-9d5c-7da01089fbaf",
   "metadata": {},
   "source": [
    "## **riva_dtype**  ... string in the last column of the list in order to name each boundary condition."
   ]
  },
  {
   "cell_type": "code",
   "execution_count": 9,
   "id": "2eb9d831-4ec5-4d6e-8a84-a77f22c41ff9",
   "metadata": {},
   "outputs": [
    {
     "name": "stdout",
     "output_type": "stream",
     "text": [
      "stress_period_data:  [(0, 0, 0, 0., 0., 0., 0, 0) (0, 0, 0, 0., 0., 0., 0, 0)\n",
      " (0, 0, 0, 0., 0., 0., 0, 0)]\n",
      "type is:  <class 'numpy.recarray'>\n"
     ]
    }
   ],
   "source": [
    "# create an empty array with an iface auxiliary variable at the end\n",
    "riva_dtype = [(\"k\", \"<i8\"),(\"i\", \"<i8\"),(\"j\", \"<i8\"),(\"stage\", \"<f4\"),(\"cond\", \"<f4\"),(\"rbot\", \"<f4\"),(\"iface\", \"<i4\"),(\"boundname\", object)]\n",
    "\n",
    "riva_dtype = np.dtype(riva_dtype)     ;stress_period_data = np.zeros((3),dtype=riva_dtype)   ; stress_period_data = stress_period_data.view(np.recarray)\n",
    "print(\"stress_period_data: \", stress_period_data)  ; print(\"type is: \", type(stress_period_data))\n",
    "\n",
    "stress_period_data[0] = (2, 3, 4, 10.7, 5000.0, -5.7, 1, \"riv1\")\n",
    "stress_period_data[1] = (2, 3, 5, 10.7, 5000.0, -5.7, 2, \"riv2\")\n",
    "stress_period_data[2] = (2, 3, 6, 10.7, 5000.0, -5.7, 3, \"riv3\")\n",
    "\n",
    "m = flopy.modflow.Modflow(modelname=\"test\", model_ws=workspace)\n",
    "riv = flopy.modflow.ModflowRiv(m ,stress_period_data=stress_period_data  ,dtype=riva_dtype   ,options=[\"aux iface\"])\n",
    "m.write_input()"
   ]
  },
  {
   "cell_type": "markdown",
   "id": "e7573811-82e1-43c5-a2e8-103ba10d01d1",
   "metadata": {},
   "source": [
    "## **rivu_dtype**  MODFLOW-USG"
   ]
  },
  {
   "cell_type": "code",
   "execution_count": 10,
   "id": "13a9a0ef",
   "metadata": {},
   "outputs": [],
   "source": [
    "rivu_dtype = [(\"nodenumber\", \"<i8\"), (\"stage\", \"<f4\"), (\"cond\", \"<f4\"), (\"rbot\", \"<f4\"),]     \n",
    "rivu_dtype = np.dtype(rivu_dtype)  ; stress_period_data = np.zeros((3), dtype=rivu_dtype) ; stress_period_data = stress_period_data.view(np.recarray)\n",
    "stress_period_data[0] = (77, 10.7, 5000.0, -5.7)\n",
    "stress_period_data[1] = (245, 10.7, 5000.0, -5.7)\n",
    "stress_period_data[2] = (450034, 10.7, 5000.0, -5.7)\n",
    "\n",
    "m = flopy.modflow.Modflow(modelname=modelname, model_ws=ws)\n",
    "riv = flopy.modflow.ModflowRiv(m, stress_period_data=stress_period_data   ,dtype=rivu_dtype)\n",
    "m.write_input()"
   ]
  },
  {
   "cell_type": "markdown",
   "id": "ea35db0f-2672-496f-bd16-e5572beb5061",
   "metadata": {},
   "source": [
    "## **Combining** two boundary condition packages"
   ]
  },
  {
   "cell_type": "code",
   "execution_count": 12,
   "id": "dbc240e7",
   "metadata": {},
   "outputs": [],
   "source": [
    "ml       = flopy.modflow.Modflow(modelname=modelname, model_ws=ws)     ; dis = flopy.modflow.ModflowDis(ml, 10, 10, 10, 10) # AUX\n",
    "sp_data1 = {3: [1, 1, 1, 1.0], 5: [1, 2, 4, 4.0]}                    \n",
    "wel1     = flopy.modflow.ModflowWel(ml, stress_period_data = sp_data1)  # ml.write_input()        \n",
    "sp_data2 = {0: [1, 1, 3, 3.0], 8: [9, 2, 4, 4.0]}\n",
    "wel2     = flopy.modflow.ModflowWel(ml, stress_period_data=sp_data2)        # ml.write_input()\n",
    "wel3 = flopy.modflow.ModflowWel(ml, stress_period_data = wel2.stress_period_data.append(wel1.stress_period_data),)  \n",
    "ml.write_input()"
   ]
  },
  {
   "cell_type": "code",
   "execution_count": null,
   "id": "1a114e72-57d3-4baa-aa7b-e7d42fd836ff",
   "metadata": {},
   "outputs": [],
   "source": []
  }
 ],
 "metadata": {
  "jupytext": {
   "notebook_metadata_filter": "metadata"
  },
  "kernelspec": {
   "display_name": "Python 3 (ipykernel)",
   "language": "python",
   "name": "python3"
  },
  "language_info": {
   "codemirror_mode": {
    "name": "ipython",
    "version": 3
   },
   "file_extension": ".py",
   "mimetype": "text/x-python",
   "name": "python",
   "nbconvert_exporter": "python",
   "pygments_lexer": "ipython3",
   "version": "3.12.7"
  },
  "metadata": {
   "section": "mf2005"
  }
 },
 "nbformat": 4,
 "nbformat_minor": 5
}
