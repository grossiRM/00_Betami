{
 "cells": [
  {
   "cell_type": "markdown",
   "id": "cb5ea2fc",
   "metadata": {},
   "source": [
    "# Support for PEST\n",
    "This notebook demonstrates the current parameter estimation functionality that is available with FloPy.  The capability to write a simple template file for PEST is the only capability implemented so far.  The plan is to develop functionality for creating PEST instruction files as well as the PEST control file."
   ]
  },
  {
   "cell_type": "code",
   "execution_count": 1,
   "id": "b87a6748",
   "metadata": {
    "execution": {
     "iopub.execute_input": "2024-12-20T13:18:33.334149Z",
     "iopub.status.busy": "2024-12-20T13:18:33.333934Z",
     "iopub.status.idle": "2024-12-20T13:18:34.003210Z",
     "shell.execute_reply": "2024-12-20T13:18:34.002618Z"
    }
   },
   "outputs": [
    {
     "name": "stdout",
     "output_type": "stream",
     "text": [
      "3.12.7 | packaged by conda-forge | (main, Oct  4 2024, 16:05:46) [GCC 13.3.0]\n",
      "numpy version: 2.1.3\n",
      "flopy version: 3.9.1\n"
     ]
    }
   ],
   "source": [
    "import os\n",
    "import sys\n",
    "from tempfile import TemporaryDirectory\n",
    "\n",
    "import numpy as np\n",
    "\n",
    "import flopy\n",
    "\n",
    "print(sys.version)\n",
    "print(f\"numpy version: {np.__version__}\")\n",
    "print(f\"flopy version: {flopy.__version__}\")"
   ]
  },
  {
   "cell_type": "markdown",
   "id": "d87bcc0e",
   "metadata": {},
   "source": [
    "This notebook will work with a simple model using the dimensions below"
   ]
  },
  {
   "cell_type": "code",
   "execution_count": 2,
   "id": "4233082c",
   "metadata": {
    "execution": {
     "iopub.execute_input": "2024-12-20T13:18:34.005007Z",
     "iopub.status.busy": "2024-12-20T13:18:34.004779Z",
     "iopub.status.idle": "2024-12-20T13:18:34.010318Z",
     "shell.execute_reply": "2024-12-20T13:18:34.009793Z"
    }
   },
   "outputs": [],
   "source": [
    "# temporary directory\n",
    "temp_dir = TemporaryDirectory()\n",
    "workspace = temp_dir.name\n",
    "\n",
    "# Define the model dimensions\n",
    "nlay = 3\n",
    "nrow = 20\n",
    "ncol = 20\n",
    "\n",
    "# Create the flopy model object and add the dis and lpf packages\n",
    "m = flopy.modflow.Modflow(modelname=\"mymodel\", model_ws=workspace)\n",
    "dis = flopy.modflow.ModflowDis(m, nlay, nrow, ncol)\n",
    "lpf = flopy.modflow.ModflowLpf(m, hk=10.0)"
   ]
  },
  {
   "cell_type": "markdown",
   "id": "f35083c1",
   "metadata": {},
   "source": [
    "### Simple One Parameter Example\n",
    "In order to create a PEST template file, we first need to define a parameter.  For example, let's say we want to parameterize hydraulic conductivity, which is a static variable in flopy and MODFLOW.  As a first step, let's define a parameter called HK_LAYER_1 and assign it to all of layer 1.  We will not parameterize hydraulic conductivity for layers 2 and 3 and instead leave HK at its value of 10. (as assigned in the block above this one). We can do this as follows."
   ]
  },
  {
   "cell_type": "code",
   "execution_count": 3,
   "id": "efa72a35",
   "metadata": {
    "execution": {
     "iopub.execute_input": "2024-12-20T13:18:34.012165Z",
     "iopub.status.busy": "2024-12-20T13:18:34.011709Z",
     "iopub.status.idle": "2024-12-20T13:18:34.015652Z",
     "shell.execute_reply": "2024-12-20T13:18:34.015161Z"
    }
   },
   "outputs": [],
   "source": [
    "mfpackage = \"lpf\"\n",
    "partype = \"hk\"\n",
    "parname = \"HK_LAYER_1\"\n",
    "idx = np.empty((nlay, nrow, ncol), dtype=bool)\n",
    "idx[0] = True\n",
    "idx[1:] = False\n",
    "\n",
    "# The span variable defines how the parameter spans the package\n",
    "span = {\"idx\": idx}\n",
    "\n",
    "# These parameters have not affect yet, but may in the future\n",
    "startvalue = 10.0\n",
    "lbound = 0.001\n",
    "ubound = 1000.0\n",
    "transform = \"log\"\n",
    "\n",
    "p = flopy.pest.Params(mfpackage, partype, parname, startvalue, lbound, ubound, span)"
   ]
  },
  {
   "cell_type": "markdown",
   "id": "ae1c5122",
   "metadata": {},
   "source": [
    "At this point, we have enough information to the write a PEST template file for the LPF package.  We can do this using the following statement:"
   ]
  },
  {
   "cell_type": "code",
   "execution_count": 4,
   "id": "19852d61",
   "metadata": {
    "execution": {
     "iopub.execute_input": "2024-12-20T13:18:34.017355Z",
     "iopub.status.busy": "2024-12-20T13:18:34.016994Z",
     "iopub.status.idle": "2024-12-20T13:18:34.022288Z",
     "shell.execute_reply": "2024-12-20T13:18:34.021812Z"
    }
   },
   "outputs": [
    {
     "name": "stdout",
     "output_type": "stream",
     "text": [
      "The following packages will be parameterized: ['LPF']\n",
      "\n"
     ]
    }
   ],
   "source": [
    "tw = flopy.pest.TemplateWriter(m, [p])\n",
    "tw.write_template()"
   ]
  },
  {
   "cell_type": "markdown",
   "id": "dc423763",
   "metadata": {},
   "source": [
    "At this point, the lpf template file will have been created.  The following block will print the template file."
   ]
  },
  {
   "cell_type": "code",
   "execution_count": 5,
   "id": "2268300a",
   "metadata": {
    "execution": {
     "iopub.execute_input": "2024-12-20T13:18:34.023949Z",
     "iopub.status.busy": "2024-12-20T13:18:34.023576Z",
     "iopub.status.idle": "2024-12-20T13:18:34.027071Z",
     "shell.execute_reply": "2024-12-20T13:18:34.026589Z"
    }
   },
   "outputs": [
    {
     "name": "stdout",
     "output_type": "stream",
     "text": [
      "ptf ~\n",
      "# LPF package for MODFLOW-2005 generated by Flopy 3.9.1\n",
      "0    -1E+30         0\n",
      "0         0         0\n",
      "0         0         0\n",
      "1.000000E+00   1.000000E+00   1.000000E+00\n",
      "0         0         0\n",
      "0         0         0\n",
      "CONSTANT ~ HK_LAYER_1  ~    #hk Layer 1\n",
      "CONSTANT    1.000000E+00                           #vka1\n",
      "CONSTANT 10.0    #hk Layer 2\n",
      "CONSTANT    1.000000E+00                           #vka2\n",
      "CONSTANT 10.0    #hk Layer 3\n",
      "CONSTANT    1.000000E+00                           #vka3\n"
     ]
    }
   ],
   "source": [
    "lines = open(os.path.join(workspace, \"mymodel.lpf.tpl\")).readlines()\n",
    "for l in lines:\n",
    "    print(l.strip())"
   ]
  },
  {
   "cell_type": "markdown",
   "id": "537fe0af",
   "metadata": {},
   "source": [
    "The span variable will also accept 'layers', in which the parameter applies to the list of layers, as shown next.  When 'layers' is specified in the span dictionary, then the original hk value of 10. remains in the array, and the multiplier is specified on the array control line."
   ]
  },
  {
   "cell_type": "code",
   "execution_count": 6,
   "id": "705475dc",
   "metadata": {
    "execution": {
     "iopub.execute_input": "2024-12-20T13:18:34.028815Z",
     "iopub.status.busy": "2024-12-20T13:18:34.028441Z",
     "iopub.status.idle": "2024-12-20T13:18:34.035845Z",
     "shell.execute_reply": "2024-12-20T13:18:34.035378Z"
    }
   },
   "outputs": [
    {
     "name": "stdout",
     "output_type": "stream",
     "text": [
      "The following packages will be parameterized: ['LPF']\n",
      "\n"
     ]
    }
   ],
   "source": [
    "mfpackage = \"lpf\"\n",
    "partype = \"hk\"\n",
    "parname = \"HK_LAYER_1-3\"\n",
    "\n",
    "# Span indicates that the hk parameter applies as a multiplier to layers 0 and 2 (MODFLOW layers 1 and 3)\n",
    "span = {\"layers\": [0, 2]}\n",
    "\n",
    "# These parameters have not affect yet, but may in the future\n",
    "startvalue = 10.0\n",
    "lbound = 0.001\n",
    "ubound = 1000.0\n",
    "transform = \"log\"\n",
    "\n",
    "p = flopy.pest.Params(mfpackage, partype, parname, startvalue, lbound, ubound, span)\n",
    "tw = flopy.pest.templatewriter.TemplateWriter(m, [p])\n",
    "tw.write_template()"
   ]
  },
  {
   "cell_type": "code",
   "execution_count": 7,
   "id": "934c593f",
   "metadata": {
    "execution": {
     "iopub.execute_input": "2024-12-20T13:18:34.037444Z",
     "iopub.status.busy": "2024-12-20T13:18:34.037287Z",
     "iopub.status.idle": "2024-12-20T13:18:34.040699Z",
     "shell.execute_reply": "2024-12-20T13:18:34.040228Z"
    }
   },
   "outputs": [
    {
     "name": "stdout",
     "output_type": "stream",
     "text": [
      "ptf ~\n",
      "# LPF package for MODFLOW-2005 generated by Flopy 3.9.1\n",
      "0    -1E+30         0\n",
      "0         0         0\n",
      "0         0         0\n",
      "1.000000E+00   1.000000E+00   1.000000E+00\n",
      "0         0         0\n",
      "0         0         0\n",
      "INTERNAL ~ HK_LAYER_1-3  ~ (FREE) -1      #hk Layer 1\n",
      "10.0            10.0            10.0            10.0            10.0            10.0            10.0            10.0            10.0            10.0\n",
      "10.0            10.0            10.0            10.0            10.0            10.0            10.0            10.0            10.0            10.0\n",
      "10.0            10.0            10.0            10.0            10.0            10.0            10.0            10.0            10.0            10.0\n",
      "10.0            10.0            10.0            10.0            10.0            10.0            10.0            10.0            10.0            10.0\n",
      "10.0            10.0            10.0            10.0            10.0            10.0            10.0            10.0            10.0            10.0\n",
      "10.0            10.0            10.0            10.0            10.0            10.0            10.0            10.0            10.0            10.0\n",
      "10.0            10.0            10.0            10.0            10.0            10.0            10.0            10.0            10.0            10.0\n",
      "10.0            10.0            10.0            10.0            10.0            10.0            10.0            10.0            10.0            10.0\n",
      "10.0            10.0            10.0            10.0            10.0            10.0            10.0            10.0            10.0            10.0\n",
      "10.0            10.0            10.0            10.0            10.0            10.0            10.0            10.0            10.0            10.0\n",
      "10.0            10.0            10.0            10.0            10.0            10.0            10.0            10.0            10.0            10.0\n",
      "10.0            10.0            10.0            10.0            10.0            10.0            10.0            10.0            10.0            10.0\n",
      "10.0            10.0            10.0            10.0            10.0            10.0            10.0            10.0            10.0            10.0\n",
      "10.0            10.0            10.0            10.0            10.0            10.0            10.0            10.0            10.0            10.0\n",
      "10.0            10.0            10.0            10.0            10.0            10.0            10.0            10.0            10.0            10.0\n",
      "10.0            10.0            10.0            10.0            10.0            10.0            10.0            10.0            10.0            10.0\n",
      "10.0            10.0            10.0            10.0            10.0            10.0            10.0            10.0            10.0            10.0\n",
      "10.0            10.0            10.0            10.0            10.0            10.0            10.0            10.0            10.0            10.0\n",
      "10.0            10.0            10.0            10.0            10.0            10.0            10.0            10.0            10.0            10.0\n",
      "10.0            10.0            10.0            10.0            10.0            10.0            10.0            10.0            10.0            10.0\n",
      "10.0            10.0            10.0            10.0            10.0            10.0            10.0            10.0            10.0            10.0\n",
      "10.0            10.0            10.0            10.0            10.0            10.0            10.0            10.0            10.0            10.0\n",
      "10.0            10.0            10.0            10.0            10.0            10.0            10.0            10.0            10.0            10.0\n",
      "10.0            10.0            10.0            10.0            10.0            10.0            10.0            10.0            10.0            10.0\n",
      "10.0            10.0            10.0            10.0            10.0            10.0            10.0            10.0            10.0            10.0\n",
      "10.0            10.0            10.0            10.0            10.0            10.0            10.0            10.0            10.0            10.0\n",
      "10.0            10.0            10.0            10.0            10.0            10.0            10.0            10.0            10.0            10.0\n",
      "10.0            10.0            10.0            10.0            10.0            10.0            10.0            10.0            10.0            10.0\n",
      "10.0            10.0            10.0            10.0            10.0            10.0            10.0            10.0            10.0            10.0\n",
      "10.0            10.0            10.0            10.0            10.0            10.0            10.0            10.0            10.0            10.0\n",
      "10.0            10.0            10.0            10.0            10.0            10.0            10.0            10.0            10.0            10.0\n",
      "10.0            10.0            10.0            10.0            10.0            10.0            10.0            10.0            10.0            10.0\n",
      "10.0            10.0            10.0            10.0            10.0            10.0            10.0            10.0            10.0            10.0\n",
      "10.0            10.0            10.0            10.0            10.0            10.0            10.0            10.0            10.0            10.0\n",
      "10.0            10.0            10.0            10.0            10.0            10.0            10.0            10.0            10.0            10.0\n",
      "10.0            10.0            10.0            10.0            10.0            10.0            10.0            10.0            10.0            10.0\n",
      "10.0            10.0            10.0            10.0            10.0            10.0            10.0            10.0            10.0            10.0\n",
      "10.0            10.0            10.0            10.0            10.0            10.0            10.0            10.0            10.0            10.0\n",
      "10.0            10.0            10.0            10.0            10.0            10.0            10.0            10.0            10.0            10.0\n",
      "10.0            10.0            10.0            10.0            10.0            10.0            10.0            10.0            10.0            10.0\n",
      "CONSTANT    1.000000E+00                           #vka1\n",
      "CONSTANT 10.0    #hk Layer 2\n",
      "CONSTANT    1.000000E+00                           #vka2\n",
      "INTERNAL ~ HK_LAYER_1-3  ~ (FREE) -1      #hk Layer 3\n",
      "10.0            10.0            10.0            10.0            10.0            10.0            10.0            10.0            10.0            10.0\n",
      "10.0            10.0            10.0            10.0            10.0            10.0            10.0            10.0            10.0            10.0\n",
      "10.0            10.0            10.0            10.0            10.0            10.0            10.0            10.0            10.0            10.0\n",
      "10.0            10.0            10.0            10.0            10.0            10.0            10.0            10.0            10.0            10.0\n",
      "10.0            10.0            10.0            10.0            10.0            10.0            10.0            10.0            10.0            10.0\n",
      "10.0            10.0            10.0            10.0            10.0            10.0            10.0            10.0            10.0            10.0\n",
      "10.0            10.0            10.0            10.0            10.0            10.0            10.0            10.0            10.0            10.0\n",
      "10.0            10.0            10.0            10.0            10.0            10.0            10.0            10.0            10.0            10.0\n",
      "10.0            10.0            10.0            10.0            10.0            10.0            10.0            10.0            10.0            10.0\n",
      "10.0            10.0            10.0            10.0            10.0            10.0            10.0            10.0            10.0            10.0\n",
      "10.0            10.0            10.0            10.0            10.0            10.0            10.0            10.0            10.0            10.0\n",
      "10.0            10.0            10.0            10.0            10.0            10.0            10.0            10.0            10.0            10.0\n",
      "10.0            10.0            10.0            10.0            10.0            10.0            10.0            10.0            10.0            10.0\n",
      "10.0            10.0            10.0            10.0            10.0            10.0            10.0            10.0            10.0            10.0\n",
      "10.0            10.0            10.0            10.0            10.0            10.0            10.0            10.0            10.0            10.0\n",
      "10.0            10.0            10.0            10.0            10.0            10.0            10.0            10.0            10.0            10.0\n",
      "10.0            10.0            10.0            10.0            10.0            10.0            10.0            10.0            10.0            10.0\n",
      "10.0            10.0            10.0            10.0            10.0            10.0            10.0            10.0            10.0            10.0\n",
      "10.0            10.0            10.0            10.0            10.0            10.0            10.0            10.0            10.0            10.0\n",
      "10.0            10.0            10.0            10.0            10.0            10.0            10.0            10.0            10.0            10.0\n",
      "10.0            10.0            10.0            10.0            10.0            10.0            10.0            10.0            10.0            10.0\n",
      "10.0            10.0            10.0            10.0            10.0            10.0            10.0            10.0            10.0            10.0\n",
      "10.0            10.0            10.0            10.0            10.0            10.0            10.0            10.0            10.0            10.0\n",
      "10.0            10.0            10.0            10.0            10.0            10.0            10.0            10.0            10.0            10.0\n",
      "10.0            10.0            10.0            10.0            10.0            10.0            10.0            10.0            10.0            10.0\n",
      "10.0            10.0            10.0            10.0            10.0            10.0            10.0            10.0            10.0            10.0\n",
      "10.0            10.0            10.0            10.0            10.0            10.0            10.0            10.0            10.0            10.0\n",
      "10.0            10.0            10.0            10.0            10.0            10.0            10.0            10.0            10.0            10.0\n",
      "10.0            10.0            10.0            10.0            10.0            10.0            10.0            10.0            10.0            10.0\n",
      "10.0            10.0            10.0            10.0            10.0            10.0            10.0            10.0            10.0            10.0\n",
      "10.0            10.0            10.0            10.0            10.0            10.0            10.0            10.0            10.0            10.0\n",
      "10.0            10.0            10.0            10.0            10.0            10.0            10.0            10.0            10.0            10.0\n",
      "10.0            10.0            10.0            10.0            10.0            10.0            10.0            10.0            10.0            10.0\n",
      "10.0            10.0            10.0            10.0            10.0            10.0            10.0            10.0            10.0            10.0\n",
      "10.0            10.0            10.0            10.0            10.0            10.0            10.0            10.0            10.0            10.0\n",
      "10.0            10.0            10.0            10.0            10.0            10.0            10.0            10.0            10.0            10.0\n",
      "10.0            10.0            10.0            10.0            10.0            10.0            10.0            10.0            10.0            10.0\n",
      "10.0            10.0            10.0            10.0            10.0            10.0            10.0            10.0            10.0            10.0\n",
      "10.0            10.0            10.0            10.0            10.0            10.0            10.0            10.0            10.0            10.0\n",
      "10.0            10.0            10.0            10.0            10.0            10.0            10.0            10.0            10.0            10.0\n",
      "CONSTANT    1.000000E+00                           #vka3\n"
     ]
    }
   ],
   "source": [
    "lines = open(os.path.join(workspace, \"mymodel.lpf.tpl\")).readlines()\n",
    "for l in lines:\n",
    "    print(l.strip())"
   ]
  },
  {
   "cell_type": "markdown",
   "id": "dc588e4c",
   "metadata": {},
   "source": [
    "### Multiple Parameter Zoned Approach\n",
    "\n",
    "The params module has a helper function called zonearray2params that will take a zone array and some other information and create a list of parameters, which can then be passed to the template writer.  This next example shows how to create a slightly more complicated LPF template file in which both HK and VKA are parameterized."
   ]
  },
  {
   "cell_type": "code",
   "execution_count": 8,
   "id": "cb2ba08a",
   "metadata": {
    "execution": {
     "iopub.execute_input": "2024-12-20T13:18:34.042321Z",
     "iopub.status.busy": "2024-12-20T13:18:34.042167Z",
     "iopub.status.idle": "2024-12-20T13:18:34.044892Z",
     "shell.execute_reply": "2024-12-20T13:18:34.044388Z"
    }
   },
   "outputs": [],
   "source": [
    "# Create a zone array\n",
    "zonearray = np.ones((nlay, nrow, ncol), dtype=int)\n",
    "zonearray[0, 10:, 7:] = 2\n",
    "zonearray[0, 15:, 9:] = 3\n",
    "zonearray[1] = 4"
   ]
  },
  {
   "cell_type": "code",
   "execution_count": 9,
   "id": "246867a3",
   "metadata": {
    "execution": {
     "iopub.execute_input": "2024-12-20T13:18:34.046275Z",
     "iopub.status.busy": "2024-12-20T13:18:34.046119Z",
     "iopub.status.idle": "2024-12-20T13:18:34.049089Z",
     "shell.execute_reply": "2024-12-20T13:18:34.048630Z"
    }
   },
   "outputs": [],
   "source": [
    "# Create a list of parameters for HK\n",
    "mfpackage = \"lpf\"\n",
    "parzones = [2, 3, 4]\n",
    "parvals = [56.777, 78.999, 99.0]\n",
    "lbound = 5\n",
    "ubound = 500\n",
    "transform = \"log\"\n",
    "plisthk = flopy.pest.zonearray2params(\n",
    "    mfpackage, \"hk\", parzones, lbound, ubound, parvals, transform, zonearray\n",
    ")"
   ]
  },
  {
   "cell_type": "markdown",
   "id": "acba475b",
   "metadata": {},
   "source": [
    "In this case, Flopy will create three parameters: hk_2, hk_3, and hk_4, which will apply to the horizontal hydraulic conductivity for cells in zones 2, 3, and 4, respectively.  Only those zone numbers listed in parzones will be parameterized.  For example, many cells in zonearray have a value of 1.  Those cells will not be parameterized.  Instead, their hydraulic conductivity values will remain fixed at the value that was specified when the Flopy LPF package was created."
   ]
  },
  {
   "cell_type": "code",
   "execution_count": 10,
   "id": "bff957c0",
   "metadata": {
    "execution": {
     "iopub.execute_input": "2024-12-20T13:18:34.050731Z",
     "iopub.status.busy": "2024-12-20T13:18:34.050577Z",
     "iopub.status.idle": "2024-12-20T13:18:34.053568Z",
     "shell.execute_reply": "2024-12-20T13:18:34.053075Z"
    }
   },
   "outputs": [],
   "source": [
    "# Create a list of parameters for VKA\n",
    "parzones = [1, 2]\n",
    "parvals = [0.001, 0.0005]\n",
    "zonearray = np.ones((nlay, nrow, ncol), dtype=int)\n",
    "zonearray[1] = 2\n",
    "plistvk = flopy.pest.zonearray2params(\n",
    "    mfpackage, \"vka\", parzones, lbound, ubound, parvals, transform, zonearray\n",
    ")"
   ]
  },
  {
   "cell_type": "code",
   "execution_count": 11,
   "id": "e60a494c",
   "metadata": {
    "execution": {
     "iopub.execute_input": "2024-12-20T13:18:34.055316Z",
     "iopub.status.busy": "2024-12-20T13:18:34.054884Z",
     "iopub.status.idle": "2024-12-20T13:18:34.058167Z",
     "shell.execute_reply": "2024-12-20T13:18:34.057707Z"
    }
   },
   "outputs": [
    {
     "name": "stdout",
     "output_type": "stream",
     "text": [
      "hk_2 lpf 56.777\n",
      "hk_3 lpf 78.999\n",
      "hk_4 lpf 99.0\n",
      "vka_1 lpf 0.001\n",
      "vka_2 lpf 0.0005\n"
     ]
    }
   ],
   "source": [
    "# Combine the HK and VKA parameters together\n",
    "plist = plisthk + plistvk\n",
    "for p in plist:\n",
    "    print(p.name, p.mfpackage, p.startvalue)"
   ]
  },
  {
   "cell_type": "code",
   "execution_count": 12,
   "id": "813624e8",
   "metadata": {
    "execution": {
     "iopub.execute_input": "2024-12-20T13:18:34.059758Z",
     "iopub.status.busy": "2024-12-20T13:18:34.059605Z",
     "iopub.status.idle": "2024-12-20T13:18:34.064625Z",
     "shell.execute_reply": "2024-12-20T13:18:34.064166Z"
    }
   },
   "outputs": [
    {
     "name": "stdout",
     "output_type": "stream",
     "text": [
      "The following packages will be parameterized: ['LPF']\n",
      "\n"
     ]
    }
   ],
   "source": [
    "# Write the template file\n",
    "tw = flopy.pest.templatewriter.TemplateWriter(m, plist)\n",
    "tw.write_template()"
   ]
  },
  {
   "cell_type": "code",
   "execution_count": 13,
   "id": "dfc02f3f",
   "metadata": {
    "execution": {
     "iopub.execute_input": "2024-12-20T13:18:34.066345Z",
     "iopub.status.busy": "2024-12-20T13:18:34.065907Z",
     "iopub.status.idle": "2024-12-20T13:18:34.069650Z",
     "shell.execute_reply": "2024-12-20T13:18:34.069191Z"
    }
   },
   "outputs": [
    {
     "name": "stdout",
     "output_type": "stream",
     "text": [
      "ptf ~\n",
      "# LPF package for MODFLOW-2005 generated by Flopy 3.9.1\n",
      "0    -1E+30         0\n",
      "0         0         0\n",
      "0         0         0\n",
      "1.000000E+00   1.000000E+00   1.000000E+00\n",
      "0         0         0\n",
      "0         0         0\n",
      "INTERNAL 1.0 (FREE) -1      #hk Layer 1\n",
      "10.0            10.0            10.0            10.0            10.0            10.0            10.0            10.0            10.0            10.0\n",
      "10.0            10.0            10.0            10.0            10.0            10.0            10.0            10.0            10.0            10.0\n",
      "10.0            10.0            10.0            10.0            10.0            10.0            10.0            10.0            10.0            10.0\n",
      "10.0            10.0            10.0            10.0            10.0            10.0            10.0            10.0            10.0            10.0\n",
      "10.0            10.0            10.0            10.0            10.0            10.0            10.0            10.0            10.0            10.0\n",
      "10.0            10.0            10.0            10.0            10.0            10.0            10.0            10.0            10.0            10.0\n",
      "10.0            10.0            10.0            10.0            10.0            10.0            10.0            10.0            10.0            10.0\n",
      "10.0            10.0            10.0            10.0            10.0            10.0            10.0            10.0            10.0            10.0\n",
      "10.0            10.0            10.0            10.0            10.0            10.0            10.0            10.0            10.0            10.0\n",
      "10.0            10.0            10.0            10.0            10.0            10.0            10.0            10.0            10.0            10.0\n",
      "10.0            10.0            10.0            10.0            10.0            10.0            10.0            10.0            10.0            10.0\n",
      "10.0            10.0            10.0            10.0            10.0            10.0            10.0            10.0            10.0            10.0\n",
      "10.0            10.0            10.0            10.0            10.0            10.0            10.0            10.0            10.0            10.0\n",
      "10.0            10.0            10.0            10.0            10.0            10.0            10.0            10.0            10.0            10.0\n",
      "10.0            10.0            10.0            10.0            10.0            10.0            10.0            10.0            10.0            10.0\n",
      "10.0            10.0            10.0            10.0            10.0            10.0            10.0            10.0            10.0            10.0\n",
      "10.0            10.0            10.0            10.0            10.0            10.0            10.0            10.0            10.0            10.0\n",
      "10.0            10.0            10.0            10.0            10.0            10.0            10.0            10.0            10.0            10.0\n",
      "10.0            10.0            10.0            10.0            10.0            10.0            10.0            10.0            10.0            10.0\n",
      "10.0            10.0            10.0            10.0            10.0            10.0            10.0            10.0            10.0            10.0\n",
      "10.0            10.0            10.0            10.0            10.0            10.0            10.0 ~    hk_2     ~ ~    hk_2     ~ ~    hk_2     ~\n",
      "~    hk_2     ~ ~    hk_2     ~ ~    hk_2     ~ ~    hk_2     ~ ~    hk_2     ~ ~    hk_2     ~ ~    hk_2     ~ ~    hk_2     ~ ~    hk_2     ~ ~    hk_2     ~\n",
      "10.0            10.0            10.0            10.0            10.0            10.0            10.0 ~    hk_2     ~ ~    hk_2     ~ ~    hk_2     ~\n",
      "~    hk_2     ~ ~    hk_2     ~ ~    hk_2     ~ ~    hk_2     ~ ~    hk_2     ~ ~    hk_2     ~ ~    hk_2     ~ ~    hk_2     ~ ~    hk_2     ~ ~    hk_2     ~\n",
      "10.0            10.0            10.0            10.0            10.0            10.0            10.0 ~    hk_2     ~ ~    hk_2     ~ ~    hk_2     ~\n",
      "~    hk_2     ~ ~    hk_2     ~ ~    hk_2     ~ ~    hk_2     ~ ~    hk_2     ~ ~    hk_2     ~ ~    hk_2     ~ ~    hk_2     ~ ~    hk_2     ~ ~    hk_2     ~\n",
      "10.0            10.0            10.0            10.0            10.0            10.0            10.0 ~    hk_2     ~ ~    hk_2     ~ ~    hk_2     ~\n",
      "~    hk_2     ~ ~    hk_2     ~ ~    hk_2     ~ ~    hk_2     ~ ~    hk_2     ~ ~    hk_2     ~ ~    hk_2     ~ ~    hk_2     ~ ~    hk_2     ~ ~    hk_2     ~\n",
      "10.0            10.0            10.0            10.0            10.0            10.0            10.0 ~    hk_2     ~ ~    hk_2     ~ ~    hk_2     ~\n",
      "~    hk_2     ~ ~    hk_2     ~ ~    hk_2     ~ ~    hk_2     ~ ~    hk_2     ~ ~    hk_2     ~ ~    hk_2     ~ ~    hk_2     ~ ~    hk_2     ~ ~    hk_2     ~\n",
      "10.0            10.0            10.0            10.0            10.0            10.0            10.0 ~    hk_2     ~ ~    hk_2     ~ ~    hk_3     ~\n",
      "~    hk_3     ~ ~    hk_3     ~ ~    hk_3     ~ ~    hk_3     ~ ~    hk_3     ~ ~    hk_3     ~ ~    hk_3     ~ ~    hk_3     ~ ~    hk_3     ~ ~    hk_3     ~\n",
      "10.0            10.0            10.0            10.0            10.0            10.0            10.0 ~    hk_2     ~ ~    hk_2     ~ ~    hk_3     ~\n",
      "~    hk_3     ~ ~    hk_3     ~ ~    hk_3     ~ ~    hk_3     ~ ~    hk_3     ~ ~    hk_3     ~ ~    hk_3     ~ ~    hk_3     ~ ~    hk_3     ~ ~    hk_3     ~\n",
      "10.0            10.0            10.0            10.0            10.0            10.0            10.0 ~    hk_2     ~ ~    hk_2     ~ ~    hk_3     ~\n",
      "~    hk_3     ~ ~    hk_3     ~ ~    hk_3     ~ ~    hk_3     ~ ~    hk_3     ~ ~    hk_3     ~ ~    hk_3     ~ ~    hk_3     ~ ~    hk_3     ~ ~    hk_3     ~\n",
      "10.0            10.0            10.0            10.0            10.0            10.0            10.0 ~    hk_2     ~ ~    hk_2     ~ ~    hk_3     ~\n",
      "~    hk_3     ~ ~    hk_3     ~ ~    hk_3     ~ ~    hk_3     ~ ~    hk_3     ~ ~    hk_3     ~ ~    hk_3     ~ ~    hk_3     ~ ~    hk_3     ~ ~    hk_3     ~\n",
      "10.0            10.0            10.0            10.0            10.0            10.0            10.0 ~    hk_2     ~ ~    hk_2     ~ ~    hk_3     ~\n",
      "~    hk_3     ~ ~    hk_3     ~ ~    hk_3     ~ ~    hk_3     ~ ~    hk_3     ~ ~    hk_3     ~ ~    hk_3     ~ ~    hk_3     ~ ~    hk_3     ~ ~    hk_3     ~\n",
      "CONSTANT ~    vka_1    ~    #vka1\n",
      "CONSTANT ~    hk_4     ~    #hk Layer 2\n",
      "CONSTANT ~    vka_2    ~    #vka2\n",
      "CONSTANT 10.0    #hk Layer 3\n",
      "CONSTANT ~    vka_1    ~    #vka3\n"
     ]
    }
   ],
   "source": [
    "# Print contents of template file\n",
    "lines = open(os.path.join(workspace, \"mymodel.lpf.tpl\")).readlines()\n",
    "for l in lines:\n",
    "    print(l.strip())"
   ]
  },
  {
   "cell_type": "markdown",
   "id": "6f63b2cd",
   "metadata": {},
   "source": [
    "## Two-Dimensional Transient Arrays\n",
    "\n",
    "Flopy supports parameterization of transient two dimensional arrays, like recharge.  This is similar to the approach for three dimensional static arrays, but there are some important differences in how span is specified.  The parameter span here is also a dictionary, and it must contain a 'kper' key, which corresponds to a list of stress periods (zero based, of course) for which the parameter applies.  The span dictionary must also contain an 'idx' key.  If span['idx'] is None, then the parameter is a multiplier for those stress periods.  If span['idx'] is a tuple (iarray, jarray), where iarray and jarray are a list of array indices, or a boolean array of shape (nrow, ncol), then the parameter applies only to the cells specified in idx."
   ]
  },
  {
   "cell_type": "code",
   "execution_count": 14,
   "id": "719af1a3",
   "metadata": {
    "execution": {
     "iopub.execute_input": "2024-12-20T13:18:34.071381Z",
     "iopub.status.busy": "2024-12-20T13:18:34.071029Z",
     "iopub.status.idle": "2024-12-20T13:18:34.077634Z",
     "shell.execute_reply": "2024-12-20T13:18:34.077208Z"
    }
   },
   "outputs": [],
   "source": [
    "# Define the model dimensions (made smaller for easier viewing)\n",
    "nlay = 3\n",
    "nrow = 5\n",
    "ncol = 5\n",
    "nper = 3\n",
    "\n",
    "# Create the flopy model object and add the dis and lpf packages\n",
    "m = flopy.modflow.Modflow(modelname=\"mymodel\", model_ws=workspace)\n",
    "dis = flopy.modflow.ModflowDis(m, nlay, nrow, ncol, nper=nper)\n",
    "lpf = flopy.modflow.ModflowLpf(m, hk=10.0)\n",
    "rch = flopy.modflow.ModflowRch(m, rech={0: 0.001, 2: 0.003})"
   ]
  },
  {
   "cell_type": "markdown",
   "id": "8c7fb792",
   "metadata": {},
   "source": [
    "Next, we create the parameters"
   ]
  },
  {
   "cell_type": "code",
   "execution_count": 15,
   "id": "f9296c66",
   "metadata": {
    "execution": {
     "iopub.execute_input": "2024-12-20T13:18:34.079243Z",
     "iopub.status.busy": "2024-12-20T13:18:34.078894Z",
     "iopub.status.idle": "2024-12-20T13:18:34.081495Z",
     "shell.execute_reply": "2024-12-20T13:18:34.081035Z"
    }
   },
   "outputs": [],
   "source": [
    "plist = []"
   ]
  },
  {
   "cell_type": "code",
   "execution_count": 16,
   "id": "6491fb9a",
   "metadata": {
    "execution": {
     "iopub.execute_input": "2024-12-20T13:18:34.083074Z",
     "iopub.status.busy": "2024-12-20T13:18:34.082923Z",
     "iopub.status.idle": "2024-12-20T13:18:34.085949Z",
     "shell.execute_reply": "2024-12-20T13:18:34.085434Z"
    }
   },
   "outputs": [],
   "source": [
    "# Create a multiplier parameter for recharge\n",
    "mfpackage = \"rch\"\n",
    "partype = \"rech\"\n",
    "parname = \"RECH_MULT\"\n",
    "startvalue = None\n",
    "lbound = None\n",
    "ubound = None\n",
    "transform = None\n",
    "\n",
    "# For a recharge multiplier, span['idx'] must be None\n",
    "idx = None\n",
    "span = {\"kpers\": [0, 1, 2], \"idx\": idx}\n",
    "p = flopy.pest.Params(mfpackage, partype, parname, startvalue, lbound, ubound, span)\n",
    "plist.append(p)"
   ]
  },
  {
   "cell_type": "code",
   "execution_count": 17,
   "id": "a02293c4",
   "metadata": {
    "execution": {
     "iopub.execute_input": "2024-12-20T13:18:34.087370Z",
     "iopub.status.busy": "2024-12-20T13:18:34.087213Z",
     "iopub.status.idle": "2024-12-20T13:18:34.090706Z",
     "shell.execute_reply": "2024-12-20T13:18:34.090192Z"
    }
   },
   "outputs": [
    {
     "name": "stdout",
     "output_type": "stream",
     "text": [
      "The following packages will be parameterized: ['RCH']\n",
      "\n"
     ]
    }
   ],
   "source": [
    "# Write the template file\n",
    "tw = flopy.pest.TemplateWriter(m, plist)\n",
    "tw.write_template()"
   ]
  },
  {
   "cell_type": "code",
   "execution_count": 18,
   "id": "4d82a49c",
   "metadata": {
    "execution": {
     "iopub.execute_input": "2024-12-20T13:18:34.092272Z",
     "iopub.status.busy": "2024-12-20T13:18:34.092119Z",
     "iopub.status.idle": "2024-12-20T13:18:34.095377Z",
     "shell.execute_reply": "2024-12-20T13:18:34.094855Z"
    }
   },
   "outputs": [
    {
     "name": "stdout",
     "output_type": "stream",
     "text": [
      "ptf ~\n",
      "# RCH package for MODFLOW-2005 generated by Flopy 3.9.1\n",
      "3         0\n",
      "1        -1 # Stress period 1\n",
      "INTERNAL ~   RECH_MULT   ~ (FREE) -1      #rech_1\n",
      "0.001           0.001           0.001           0.001           0.001\n",
      "0.001           0.001           0.001           0.001           0.001\n",
      "0.001           0.001           0.001           0.001           0.001\n",
      "0.001           0.001           0.001           0.001           0.001\n",
      "0.001           0.001           0.001           0.001           0.001\n",
      "1        -1 # Stress period 2\n",
      "INTERNAL ~   RECH_MULT   ~ (FREE) -1      #rech_1\n",
      "0.001           0.001           0.001           0.001           0.001\n",
      "0.001           0.001           0.001           0.001           0.001\n",
      "0.001           0.001           0.001           0.001           0.001\n",
      "0.001           0.001           0.001           0.001           0.001\n",
      "0.001           0.001           0.001           0.001           0.001\n",
      "1        -1 # Stress period 3\n",
      "INTERNAL ~   RECH_MULT   ~ (FREE) -1      #rech_3\n",
      "0.003           0.003           0.003           0.003           0.003\n",
      "0.003           0.003           0.003           0.003           0.003\n",
      "0.003           0.003           0.003           0.003           0.003\n",
      "0.003           0.003           0.003           0.003           0.003\n",
      "0.003           0.003           0.003           0.003           0.003\n"
     ]
    }
   ],
   "source": [
    "# Print the results\n",
    "lines = open(os.path.join(workspace, \"mymodel.rch.tpl\")).readlines()\n",
    "for l in lines:\n",
    "    print(l.strip())"
   ]
  },
  {
   "cell_type": "markdown",
   "id": "47336a50",
   "metadata": {},
   "source": [
    "Multiplier parameters can also be combined with index parameters as follows."
   ]
  },
  {
   "cell_type": "code",
   "execution_count": 19,
   "id": "ad1b3c60",
   "metadata": {
    "execution": {
     "iopub.execute_input": "2024-12-20T13:18:34.096855Z",
     "iopub.status.busy": "2024-12-20T13:18:34.096701Z",
     "iopub.status.idle": "2024-12-20T13:18:34.099715Z",
     "shell.execute_reply": "2024-12-20T13:18:34.099220Z"
    }
   },
   "outputs": [],
   "source": [
    "plist = []\n",
    "\n",
    "# Create a multiplier parameter for recharge\n",
    "mfpackage = \"rch\"\n",
    "partype = \"rech\"\n",
    "parname = \"RECH_MULT\"\n",
    "startvalue = None\n",
    "lbound = None\n",
    "ubound = None\n",
    "transform = None\n",
    "\n",
    "# For a recharge multiplier, span['idx'] must be None\n",
    "span = {\"kpers\": [1, 2], \"idx\": None}\n",
    "p = flopy.pest.Params(mfpackage, partype, parname, startvalue, lbound, ubound, span)\n",
    "plist.append(p)"
   ]
  },
  {
   "cell_type": "code",
   "execution_count": 20,
   "id": "dd036c48",
   "metadata": {
    "execution": {
     "iopub.execute_input": "2024-12-20T13:18:34.101325Z",
     "iopub.status.busy": "2024-12-20T13:18:34.101175Z",
     "iopub.status.idle": "2024-12-20T13:18:34.104312Z",
     "shell.execute_reply": "2024-12-20T13:18:34.103785Z"
    }
   },
   "outputs": [],
   "source": [
    "# Now create an index parameter\n",
    "mfpackage = \"rch\"\n",
    "partype = \"rech\"\n",
    "parname = \"RECH_ZONE\"\n",
    "startvalue = None\n",
    "lbound = None\n",
    "ubound = None\n",
    "transform = None\n",
    "\n",
    "# For a recharge index parameter, span['idx'] must be a boolean array or tuple of array indices\n",
    "idx = np.empty((nrow, ncol), dtype=bool)\n",
    "idx[0:3, 0:3] = True\n",
    "span = {\"kpers\": [1], \"idx\": idx}\n",
    "p = flopy.pest.Params(mfpackage, partype, parname, startvalue, lbound, ubound, span)\n",
    "plist.append(p)"
   ]
  },
  {
   "cell_type": "code",
   "execution_count": 21,
   "id": "beb28135",
   "metadata": {
    "execution": {
     "iopub.execute_input": "2024-12-20T13:18:34.105644Z",
     "iopub.status.busy": "2024-12-20T13:18:34.105494Z",
     "iopub.status.idle": "2024-12-20T13:18:34.109438Z",
     "shell.execute_reply": "2024-12-20T13:18:34.108920Z"
    }
   },
   "outputs": [
    {
     "name": "stdout",
     "output_type": "stream",
     "text": [
      "The following packages will be parameterized: ['RCH']\n",
      "\n",
      "ptf ~\n",
      "# RCH package for MODFLOW-2005 generated by Flopy 3.9.1\n",
      "3         0\n",
      "1        -1 # Stress period 1\n",
      "CONSTANT    1.000000E-03                           #rech_1\n",
      "1        -1 # Stress period 2\n",
      "INTERNAL ~   RECH_MULT   ~ (FREE) -1      #rech_1\n",
      "~  RECH_ZONE  ~ ~  RECH_ZONE  ~ ~  RECH_ZONE  ~           0.001           0.001\n",
      "~  RECH_ZONE  ~ ~  RECH_ZONE  ~ ~  RECH_ZONE  ~           0.001           0.001\n",
      "~  RECH_ZONE  ~ ~  RECH_ZONE  ~ ~  RECH_ZONE  ~           0.001           0.001\n",
      "0.001           0.001           0.001           0.001           0.001\n",
      "0.001           0.001           0.001           0.001           0.001\n",
      "1        -1 # Stress period 3\n",
      "INTERNAL ~   RECH_MULT   ~ (FREE) -1      #rech_3\n",
      "0.003           0.003           0.003           0.003           0.003\n",
      "0.003           0.003           0.003           0.003           0.003\n",
      "0.003           0.003           0.003           0.003           0.003\n",
      "0.003           0.003           0.003           0.003           0.003\n",
      "0.003           0.003           0.003           0.003           0.003\n"
     ]
    }
   ],
   "source": [
    "# Write the template file\n",
    "tw = flopy.pest.templatewriter.TemplateWriter(m, plist)\n",
    "tw.write_template()\n",
    "\n",
    "# Print the results\n",
    "lines = open(os.path.join(workspace, \"mymodel.rch.tpl\")).readlines()\n",
    "for l in lines:\n",
    "    print(l.strip())"
   ]
  },
  {
   "cell_type": "code",
   "execution_count": 22,
   "id": "af4fb011",
   "metadata": {
    "execution": {
     "iopub.execute_input": "2024-12-20T13:18:34.110946Z",
     "iopub.status.busy": "2024-12-20T13:18:34.110794Z",
     "iopub.status.idle": "2024-12-20T13:18:34.113739Z",
     "shell.execute_reply": "2024-12-20T13:18:34.113241Z"
    }
   },
   "outputs": [],
   "source": [
    "try:\n",
    "    # ignore PermissionError on Windows\n",
    "    temp_dir.cleanup()\n",
    "except:\n",
    "    pass"
   ]
  }
 ],
 "metadata": {
  "jupytext": {
   "notebook_metadata_filter": "metadata"
  },
  "kernelspec": {
   "display_name": "Python 3",
   "language": "python",
   "name": "python3"
  },
  "language_info": {
   "codemirror_mode": {
    "name": "ipython",
    "version": 3
   },
   "file_extension": ".py",
   "mimetype": "text/x-python",
   "name": "python",
   "nbconvert_exporter": "python",
   "pygments_lexer": "ipython3",
   "version": "3.12.7"
  },
  "metadata": {
   "section": "pest"
  }
 },
 "nbformat": 4,
 "nbformat_minor": 5
}
