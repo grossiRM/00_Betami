{
 "cells": [
  {
   "cell_type": "markdown",
   "id": "a0fcef1a",
   "metadata": {},
   "source": [
    "# Using FloPy to simplify the use of the MT3DMS ```SSM``` package\n",
    "\n",
    "A multi-component transport demonstration"
   ]
  },
  {
   "cell_type": "code",
   "execution_count": 1,
   "id": "d6908c4e",
   "metadata": {
    "execution": {
     "iopub.execute_input": "2024-12-20T13:18:28.883674Z",
     "iopub.status.busy": "2024-12-20T13:18:28.883180Z",
     "iopub.status.idle": "2024-12-20T13:18:29.556220Z",
     "shell.execute_reply": "2024-12-20T13:18:29.555699Z"
    }
   },
   "outputs": [
    {
     "name": "stdout",
     "output_type": "stream",
     "text": [
      "3.12.7 | packaged by conda-forge | (main, Oct  4 2024, 16:05:46) [GCC 13.3.0]\n",
      "numpy version: 2.1.3\n",
      "flopy version: 3.9.1\n"
     ]
    }
   ],
   "source": [
    "import os\n",
    "import sys\n",
    "from tempfile import TemporaryDirectory\n",
    "\n",
    "import numpy as np\n",
    "\n",
    "import flopy\n",
    "\n",
    "print(sys.version)\n",
    "print(f\"numpy version: {np.__version__}\")\n",
    "print(f\"flopy version: {flopy.__version__}\")"
   ]
  },
  {
   "cell_type": "markdown",
   "id": "22fd8308",
   "metadata": {},
   "source": [
    "First, we will create a simple model structure"
   ]
  },
  {
   "cell_type": "code",
   "execution_count": 2,
   "id": "547ca64e",
   "metadata": {
    "execution": {
     "iopub.execute_input": "2024-12-20T13:18:29.557870Z",
     "iopub.status.busy": "2024-12-20T13:18:29.557643Z",
     "iopub.status.idle": "2024-12-20T13:18:29.560876Z",
     "shell.execute_reply": "2024-12-20T13:18:29.560392Z"
    }
   },
   "outputs": [],
   "source": [
    "nlay, nrow, ncol = 10, 10, 10\n",
    "perlen = np.zeros((10), dtype=float) + 10\n",
    "nper = len(perlen)\n",
    "\n",
    "ibound = np.ones((nlay, nrow, ncol), dtype=int)\n",
    "\n",
    "botm = np.arange(-1, -11, -1)\n",
    "top = 0.0"
   ]
  },
  {
   "cell_type": "markdown",
   "id": "abaaafa4",
   "metadata": {},
   "source": [
    "## Create the ```MODFLOW``` packages"
   ]
  },
  {
   "cell_type": "code",
   "execution_count": 3,
   "id": "7888ab4b",
   "metadata": {
    "execution": {
     "iopub.execute_input": "2024-12-20T13:18:29.562510Z",
     "iopub.status.busy": "2024-12-20T13:18:29.562171Z",
     "iopub.status.idle": "2024-12-20T13:18:29.569171Z",
     "shell.execute_reply": "2024-12-20T13:18:29.568785Z"
    }
   },
   "outputs": [],
   "source": [
    "# temporary directory\n",
    "temp_dir = TemporaryDirectory()\n",
    "model_ws = temp_dir.name\n",
    "\n",
    "modelname = \"ssmex\"\n",
    "mf = flopy.modflow.Modflow(modelname, model_ws=model_ws)\n",
    "dis = flopy.modflow.ModflowDis(\n",
    "    mf,\n",
    "    nlay=nlay,\n",
    "    nrow=nrow,\n",
    "    ncol=ncol,\n",
    "    perlen=perlen,\n",
    "    nper=nper,\n",
    "    botm=botm,\n",
    "    top=top,\n",
    "    steady=False,\n",
    ")\n",
    "bas = flopy.modflow.ModflowBas(mf, ibound=ibound, strt=top)\n",
    "lpf = flopy.modflow.ModflowLpf(mf, hk=100, vka=100, ss=0.00001, sy=0.1)\n",
    "oc = flopy.modflow.ModflowOc(mf)\n",
    "pcg = flopy.modflow.ModflowPcg(mf)\n",
    "rch = flopy.modflow.ModflowRch(mf)"
   ]
  },
  {
   "cell_type": "markdown",
   "id": "b79bc636",
   "metadata": {},
   "source": [
    "We'll track the cell locations for the ```SSM``` data using the ```MODFLOW``` boundary conditions.\n",
    "\n",
    "\n",
    "Get a dictionary (```dict```) that has the ```SSM``` ```itype``` for each of the boundary types."
   ]
  },
  {
   "cell_type": "code",
   "execution_count": 4,
   "id": "aa508b27",
   "metadata": {
    "execution": {
     "iopub.execute_input": "2024-12-20T13:18:29.570689Z",
     "iopub.status.busy": "2024-12-20T13:18:29.570395Z",
     "iopub.status.idle": "2024-12-20T13:18:29.573036Z",
     "shell.execute_reply": "2024-12-20T13:18:29.572671Z"
    }
   },
   "outputs": [
    {
     "name": "stdout",
     "output_type": "stream",
     "text": [
      "{'CHD': 1, 'BAS6': 1, 'PBC': 1, 'WEL': 2, 'DRN': 3, 'RIV': 4, 'GHB': 5, 'MAS': 15, 'CC': -1}\n",
      "[('k', '<i8'), ('i', '<i8'), ('j', '<i8'), ('css', '<f4'), ('itype', '<i8')]\n"
     ]
    }
   ],
   "source": [
    "itype = flopy.mt3d.Mt3dSsm.itype_dict()\n",
    "print(itype)\n",
    "print(flopy.mt3d.Mt3dSsm.get_default_dtype())\n",
    "ssm_data = {}"
   ]
  },
  {
   "cell_type": "markdown",
   "id": "4f56b822",
   "metadata": {},
   "source": [
    "Add a general head boundary (```ghb```).  The general head boundary head (```bhead```) is 0.1 for the first 5 stress periods with a component 1 (comp_1) concentration of 1.0 and a component 2 (comp_2) concentration of 100.0.  Then ```bhead``` is increased to 0.25 and comp_1 concentration is reduced to 0.5 and comp_2 concentration is increased to 200.0"
   ]
  },
  {
   "cell_type": "code",
   "execution_count": 5,
   "id": "de82beca",
   "metadata": {
    "execution": {
     "iopub.execute_input": "2024-12-20T13:18:29.574517Z",
     "iopub.status.busy": "2024-12-20T13:18:29.574205Z",
     "iopub.status.idle": "2024-12-20T13:18:29.578685Z",
     "shell.execute_reply": "2024-12-20T13:18:29.578227Z"
    }
   },
   "outputs": [
    {
     "name": "stdout",
     "output_type": "stream",
     "text": [
      "[('k', '<i8'), ('i', '<i8'), ('j', '<i8'), ('bhead', '<f4'), ('cond', '<f4')]\n"
     ]
    }
   ],
   "source": [
    "ghb_data = {}\n",
    "print(flopy.modflow.ModflowGhb.get_default_dtype())\n",
    "ghb_data[0] = [(4, 4, 4, 0.1, 1.5)]\n",
    "ssm_data[0] = [(4, 4, 4, 1.0, itype[\"GHB\"], 1.0, 100.0)]\n",
    "ghb_data[5] = [(4, 4, 4, 0.25, 1.5)]\n",
    "ssm_data[5] = [(4, 4, 4, 0.5, itype[\"GHB\"], 0.5, 200.0)]\n",
    "\n",
    "for k in range(nlay):\n",
    "    for i in range(nrow):\n",
    "        ghb_data[0].append((k, i, 0, 0.0, 100.0))\n",
    "        ssm_data[0].append((k, i, 0, 0.0, itype[\"GHB\"], 0.0, 0.0))\n",
    "\n",
    "ghb_data[5] = [(4, 4, 4, 0.25, 1.5)]\n",
    "ssm_data[5] = [(4, 4, 4, 0.5, itype[\"GHB\"], 0.5, 200.0)]\n",
    "for k in range(nlay):\n",
    "    for i in range(nrow):\n",
    "        ghb_data[5].append((k, i, 0, -0.5, 100.0))\n",
    "        ssm_data[5].append((k, i, 0, 0.0, itype[\"GHB\"], 0.0, 0.0))"
   ]
  },
  {
   "cell_type": "markdown",
   "id": "8f5342d1",
   "metadata": {},
   "source": [
    "Add an injection ```well```.  The injection rate (```flux```) is 10.0 with a comp_1 concentration of 10.0 and a comp_2 concentration of 0.0 for all stress periods.  WARNING: since we changed the ```SSM``` data in stress period 6, we need to add the well to the ssm_data for stress period 6."
   ]
  },
  {
   "cell_type": "code",
   "execution_count": 6,
   "id": "a74f9beb",
   "metadata": {
    "execution": {
     "iopub.execute_input": "2024-12-20T13:18:29.580084Z",
     "iopub.status.busy": "2024-12-20T13:18:29.579896Z",
     "iopub.status.idle": "2024-12-20T13:18:29.583016Z",
     "shell.execute_reply": "2024-12-20T13:18:29.582562Z"
    }
   },
   "outputs": [
    {
     "name": "stdout",
     "output_type": "stream",
     "text": [
      "[('k', '<i8'), ('i', '<i8'), ('j', '<i8'), ('flux', '<f4')]\n"
     ]
    }
   ],
   "source": [
    "wel_data = {}\n",
    "print(flopy.modflow.ModflowWel.get_default_dtype())\n",
    "wel_data[0] = [(0, 4, 8, 10.0)]\n",
    "ssm_data[0].append((0, 4, 8, 10.0, itype[\"WEL\"], 10.0, 0.0))\n",
    "ssm_data[5].append((0, 4, 8, 10.0, itype[\"WEL\"], 10.0, 0.0))"
   ]
  },
  {
   "cell_type": "markdown",
   "id": "a2360b6b",
   "metadata": {},
   "source": [
    "Add the ```GHB``` and ```WEL``` packages to the ```mf``` ```MODFLOW``` object instance."
   ]
  },
  {
   "cell_type": "code",
   "execution_count": 7,
   "id": "fa6b60c4",
   "metadata": {
    "execution": {
     "iopub.execute_input": "2024-12-20T13:18:29.584602Z",
     "iopub.status.busy": "2024-12-20T13:18:29.584227Z",
     "iopub.status.idle": "2024-12-20T13:18:29.587429Z",
     "shell.execute_reply": "2024-12-20T13:18:29.586972Z"
    }
   },
   "outputs": [],
   "source": [
    "ghb = flopy.modflow.ModflowGhb(mf, stress_period_data=ghb_data)\n",
    "wel = flopy.modflow.ModflowWel(mf, stress_period_data=wel_data)"
   ]
  },
  {
   "cell_type": "markdown",
   "id": "5883963a",
   "metadata": {},
   "source": [
    "## Create the ```MT3DMS``` packages"
   ]
  },
  {
   "cell_type": "code",
   "execution_count": 8,
   "id": "0011ff88",
   "metadata": {
    "execution": {
     "iopub.execute_input": "2024-12-20T13:18:29.589160Z",
     "iopub.status.busy": "2024-12-20T13:18:29.588766Z",
     "iopub.status.idle": "2024-12-20T13:18:29.594654Z",
     "shell.execute_reply": "2024-12-20T13:18:29.594273Z"
    }
   },
   "outputs": [
    {
     "name": "stdout",
     "output_type": "stream",
     "text": [
      "found 'rch' in modflow model, resetting crch to 0.0\n",
      "SSM: setting crch for component 2 to zero. kwarg name crch2\n"
     ]
    }
   ],
   "source": [
    "mt = flopy.mt3d.Mt3dms(modflowmodel=mf, modelname=modelname, model_ws=model_ws)\n",
    "btn = flopy.mt3d.Mt3dBtn(mt, sconc=0, ncomp=2, sconc2=50.0)\n",
    "adv = flopy.mt3d.Mt3dAdv(mt)\n",
    "ssm = flopy.mt3d.Mt3dSsm(mt, stress_period_data=ssm_data)\n",
    "gcg = flopy.mt3d.Mt3dGcg(mt)"
   ]
  },
  {
   "cell_type": "markdown",
   "id": "54bb1e0b",
   "metadata": {},
   "source": [
    "Let's verify that ```stress_period_data``` has the right ```dtype```"
   ]
  },
  {
   "cell_type": "code",
   "execution_count": 9,
   "id": "ec85c807",
   "metadata": {
    "execution": {
     "iopub.execute_input": "2024-12-20T13:18:29.596188Z",
     "iopub.status.busy": "2024-12-20T13:18:29.595857Z",
     "iopub.status.idle": "2024-12-20T13:18:29.598541Z",
     "shell.execute_reply": "2024-12-20T13:18:29.598067Z"
    }
   },
   "outputs": [
    {
     "name": "stdout",
     "output_type": "stream",
     "text": [
      "[('k', '<i8'), ('i', '<i8'), ('j', '<i8'), ('css', '<f4'), ('itype', '<i8'), ('cssm(01)', '<f4'), ('cssm(02)', '<f4')]\n"
     ]
    }
   ],
   "source": [
    "print(ssm.stress_period_data.dtype)"
   ]
  },
  {
   "cell_type": "markdown",
   "id": "a764f889",
   "metadata": {},
   "source": [
    "## Create the ```SEAWAT``` packages"
   ]
  },
  {
   "cell_type": "code",
   "execution_count": 10,
   "id": "d1c1f80e",
   "metadata": {
    "execution": {
     "iopub.execute_input": "2024-12-20T13:18:29.600103Z",
     "iopub.status.busy": "2024-12-20T13:18:29.599774Z",
     "iopub.status.idle": "2024-12-20T13:18:29.602944Z",
     "shell.execute_reply": "2024-12-20T13:18:29.602578Z"
    }
   },
   "outputs": [],
   "source": [
    "swt = flopy.seawat.Seawat(\n",
    "    modflowmodel=mf,\n",
    "    mt3dmodel=mt,\n",
    "    modelname=modelname,\n",
    "    namefile_ext=\"nam_swt\",\n",
    "    model_ws=model_ws,\n",
    ")\n",
    "vdf = flopy.seawat.SeawatVdf(swt, mtdnconc=0, iwtable=0, indense=-1)"
   ]
  },
  {
   "cell_type": "code",
   "execution_count": 11,
   "id": "024ae7bb",
   "metadata": {
    "execution": {
     "iopub.execute_input": "2024-12-20T13:18:29.604205Z",
     "iopub.status.busy": "2024-12-20T13:18:29.604062Z",
     "iopub.status.idle": "2024-12-20T13:18:29.621566Z",
     "shell.execute_reply": "2024-12-20T13:18:29.621055Z"
    }
   },
   "outputs": [],
   "source": [
    "mf.write_input()\n",
    "mt.write_input()\n",
    "swt.write_input()"
   ]
  },
  {
   "cell_type": "markdown",
   "id": "96346d07",
   "metadata": {},
   "source": [
    "And finally, modify the ```vdf``` package to fix ```indense```."
   ]
  },
  {
   "cell_type": "code",
   "execution_count": 12,
   "id": "d085bd8f",
   "metadata": {
    "execution": {
     "iopub.execute_input": "2024-12-20T13:18:29.623499Z",
     "iopub.status.busy": "2024-12-20T13:18:29.623141Z",
     "iopub.status.idle": "2024-12-20T13:18:29.627253Z",
     "shell.execute_reply": "2024-12-20T13:18:29.626825Z"
    }
   },
   "outputs": [],
   "source": [
    "fname = f\"{modelname}.vdf\"\n",
    "f = open(os.path.join(model_ws, fname))\n",
    "lines = f.readlines()\n",
    "f.close()\n",
    "f = open(os.path.join(model_ws, fname), \"w\")\n",
    "for line in lines:\n",
    "    f.write(line)\n",
    "for kper in range(nper):\n",
    "    f.write(\"-1\\n\")\n",
    "f.close()"
   ]
  },
  {
   "cell_type": "code",
   "execution_count": 13,
   "id": "14faa67e",
   "metadata": {
    "execution": {
     "iopub.execute_input": "2024-12-20T13:18:29.628880Z",
     "iopub.status.busy": "2024-12-20T13:18:29.628539Z",
     "iopub.status.idle": "2024-12-20T13:18:29.631689Z",
     "shell.execute_reply": "2024-12-20T13:18:29.631300Z"
    }
   },
   "outputs": [],
   "source": [
    "try:\n",
    "    # ignore PermissionError on Windows\n",
    "    temp_dir.cleanup()\n",
    "except:\n",
    "    pass"
   ]
  }
 ],
 "metadata": {
  "jupytext": {
   "notebook_metadata_filter": "all"
  },
  "kernelspec": {
   "display_name": "Python 3",
   "language": "python",
   "name": "python3"
  },
  "language_info": {
   "codemirror_mode": {
    "name": "ipython",
    "version": 3
   },
   "file_extension": ".py",
   "mimetype": "text/x-python",
   "name": "python",
   "nbconvert_exporter": "python",
   "pygments_lexer": "ipython3",
   "version": "3.12.7"
  },
  "metadata": {
   "authors": [
    {
     "name": "Jeremy White"
    }
   ],
   "section": "mt3dms"
  }
 },
 "nbformat": 4,
 "nbformat_minor": 5
}
