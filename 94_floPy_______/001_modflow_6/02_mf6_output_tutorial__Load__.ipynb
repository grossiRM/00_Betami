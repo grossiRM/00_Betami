{
 "cells": [
  {
   "cell_type": "code",
   "execution_count": 7,
   "id": "f804e8ad-b670-4012-ba95-e414239d0191",
   "metadata": {},
   "outputs": [],
   "source": [
    "from pathlib import Path ; import numpy as np ; import pooch ;  import flopy ;  import os  "
   ]
  },
  {
   "cell_type": "code",
   "execution_count": 8,
   "id": "03a45e29-1dba-4cd8-8b3b-e205ef374f17",
   "metadata": {},
   "outputs": [],
   "source": [
    "model_ws   = 'E:\\\\15_REPOS\\\\00_BETAMI\\\\bin\\\\test001e_UZF_3lay_fPy'       ; example_name = \"test001e_UZF_3lay\"     \n",
    "exe_name   = 'E:\\\\15_REPOS\\\\00_BETAMI\\\\bin\\\\mf6'\n",
    "model_ws_2 = Path(\"./02_mf6\")       ; model_ws_2.mkdir(exist_ok=True)"
   ]
  },
  {
   "cell_type": "code",
   "execution_count": 9,
   "id": "9b25dce1",
   "metadata": {},
   "outputs": [],
   "source": [
    "sim = flopy.mf6.MFSimulation.load(sim_ws = model_ws,  exe_name=exe_name, verbosity_level=0)"
   ]
  },
  {
   "cell_type": "code",
   "execution_count": 10,
   "id": "85760c83",
   "metadata": {},
   "outputs": [
    {
     "data": {
      "text/plain": [
       "(True, [])"
      ]
     },
     "execution_count": 10,
     "metadata": {},
     "output_type": "execute_result"
    }
   ],
   "source": [
    "sim.set_sim_path(model_ws_2) ; sim.write_simulation(silent=True) ; sim.run_simulation(silent=True)"
   ]
  },
  {
   "cell_type": "code",
   "execution_count": 11,
   "id": "52cb8d15",
   "metadata": {},
   "outputs": [],
   "source": [
    "ml = sim.get_model(\"gwf_1\")\n",
    "bud = ml.oc.output.budget()    ; bud.get_data(idx=0, full3D=True) ; \n",
    "hds = ml.oc.output.head()      ; hds.get_data() ; "
   ]
  },
  {
   "cell_type": "code",
   "execution_count": 6,
   "id": "20f4dfe0",
   "metadata": {},
   "outputs": [],
   "source": [
    "uzf = ml.uzf\n",
    "uzf_obs = uzf.output.obs()     ; uzf_obs.data[0:10] ; "
   ]
  },
  {
   "cell_type": "code",
   "execution_count": null,
   "id": "0b99882e-fff7-4e6b-b470-c1a7004b9905",
   "metadata": {},
   "outputs": [],
   "source": []
  }
 ],
 "metadata": {
  "jupytext": {
   "cell_metadata_filter": "-all"
  },
  "kernelspec": {
   "display_name": "Python 3 (ipykernel)",
   "language": "python",
   "name": "python3"
  },
  "language_info": {
   "codemirror_mode": {
    "name": "ipython",
    "version": 3
   },
   "file_extension": ".py",
   "mimetype": "text/x-python",
   "name": "python",
   "nbconvert_exporter": "python",
   "pygments_lexer": "ipython3",
   "version": "3.12.7"
  }
 },
 "nbformat": 4,
 "nbformat_minor": 5
}
