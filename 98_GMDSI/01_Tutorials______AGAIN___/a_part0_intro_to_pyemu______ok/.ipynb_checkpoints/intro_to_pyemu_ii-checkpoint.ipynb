{
 "cells": [
  {
   "cell_type": "code",
   "execution_count": null,
   "metadata": {},
   "outputs": [],
   "source": [
    "import os\n",
    "import warnings\n",
    "warnings.filterwarnings(\"ignore\")\n",
    "warnings.filterwarnings(\"ignore\", category=DeprecationWarning) \n",
    "import matplotlib.pyplot as plt\n",
    "import numpy as np\n",
    "\n",
    "import sys\n",
    "# sys.path.append(os.path.join(\"..\", \"..\", \"dependencies\"))\n",
    "import pyemu"
   ]
  },
  {
   "cell_type": "code",
   "execution_count": null,
   "metadata": {},
   "outputs": [],
   "source": [
    "# the pest folder\n",
    "f_d = os.path.join('handling_files')"
   ]
  },
  {
   "cell_type": "code",
   "execution_count": null,
   "metadata": {},
   "outputs": [],
   "source": [
    "pst = pyemu.Pst(os.path.join(f_d,\"freyberg_pp.pst\"))"
   ]
  },
  {
   "cell_type": "code",
   "execution_count": null,
   "metadata": {},
   "outputs": [],
   "source": [
    "# * control data\n",
    "                 # pst.control_data.noptmax = 0        # pst.control_data.formatted_values       # edit / visualize \n",
    "# * singular value decomposition            \n",
    "# pst.parameter_data.tail()         # ______________ \n",
    "# pst.parameter_groups.head()       # ______________ \n",
    "# * observation groups head() \n",
    "# pst.observation_data.head()       # ______________ \n",
    "# * model command line\n",
    "pst.prior_information.head()      # ______________ \n",
    "# * regularization                                                           # https://help.pesthomepage.org/pestpp-ies.html\n",
    "# ++ options \n",
    "     # pst.pestpp_options['ies_parameter_ensemble'] = 'dummy_ies_par_ensemble.csv'    # the flagship of the PEST++ suite (!)\n",
    "     # pst.pestpp_options['ies_num_reals'] = 50                                       # number of realizations\n",
    "     # pst.pestpp_options[\"lambdas\"] = [0.1, 1, 10, 100, 1000]                        # calculation of parameter upgrades\n",
    "     # pst.pestpp_options['da_use_simulated_states'] = True                           # end of each cycle to the next \n",
    "# pst.pestpp_options"
   ]
  },
  {
   "cell_type": "code",
   "execution_count": null,
   "metadata": {},
   "outputs": [],
   "source": [
    "# pst.parameter_data.columns     # See parval1"
   ]
  },
  {
   "cell_type": "code",
   "execution_count": null,
   "metadata": {},
   "outputs": [],
   "source": [
    "pst.parameter_data.iloc[:1,:] "
   ]
  },
  {
   "cell_type": "code",
   "execution_count": null,
   "metadata": {},
   "outputs": [],
   "source": [
    "#assigning values to all parameter intial values\n",
    "pst.parameter_data['parval1'] = 99999\n",
    "pst.parameter_data.tail()         # ______________ "
   ]
  },
  {
   "cell_type": "code",
   "execution_count": null,
   "metadata": {},
   "outputs": [],
   "source": [
    "# pst.write(os.path.join(f_d, 'temp.pst'), version=1)         # PEST and PEST_HP\n",
    "pst.write(os.path.join(f_d, \"temp_v2.pst\"), version=2)        # PEST++\n",
    "# [f for f in os.listdir(f_d) if f.endswith('.pst')]"
   ]
  },
  {
   "cell_type": "code",
   "execution_count": null,
   "metadata": {},
   "outputs": [],
   "source": [
    "tpl_filename = os.path.join(f_d,\"special_pars.dat.tpl\")           # ... and special_pars.dat\n",
    "with open(tpl_filename,'w') as f:\n",
    "    f.write(\"ptf ~\\n\")\n",
    "    f.write(\"special_par1  ~  special_par1   ~\\n\")\n",
    "    f.write(\"special_par2  ~  special_par2   ~\\n\")\n",
    "    # f.write(\"Beta_01_____  ~  Beta_nono_____   ~\\n\")"
   ]
  },
  {
   "cell_type": "code",
   "execution_count": null,
   "metadata": {},
   "outputs": [],
   "source": [
    "pst.add_parameters(tpl_filename, pst_path=\".\")                    # to *.pst ? "
   ]
  },
  {
   "cell_type": "code",
   "execution_count": null,
   "metadata": {},
   "outputs": [],
   "source": [
    "par = pst.parameter_data\n",
    "par.loc[par['pargp'] == 'pargp', ['parlbnd', 'parubnd']] = 999999999, -30000            # Beta___persists (!)\n",
    "par.loc[par['pargp'] == 'pargp']"
   ]
  },
  {
   "cell_type": "code",
   "execution_count": null,
   "metadata": {},
   "outputs": [],
   "source": [
    "par.loc['special_par2', 'partrans'] = 'tied'                \n",
    "par.loc['special_par2', 'partied'] = 'special_par1'         # New column named and tied parameter \n",
    "par.loc[par['pargp'] == 'pargp', ['partrans', 'partied']]"
   ]
  },
  {
   "cell_type": "code",
   "execution_count": null,
   "metadata": {},
   "outputs": [],
   "source": [
    "# pst.nnz_obs_groups                 # nnz non-zero         OBS\n",
    "# pst.nnz_obs, pst.npar_adj          #                      OBS PAR \n",
    "# pst.adj_par_groups[:15]            # adjustble                PAR  group names  \n",
    "# pst.write_par_summary_table()\n",
    "# pst.write_obs_summary_table()        # *.tex ?"
   ]
  },
  {
   "cell_type": "code",
   "execution_count": null,
   "metadata": {},
   "outputs": [],
   "source": [
    "pst.res.head()         # *.rei"
   ]
  },
  {
   "cell_type": "code",
   "execution_count": null,
   "metadata": {},
   "outputs": [],
   "source": [
    "# pst.res.plot.scatter('measured', 'modelled')                # MED x MOD\n",
    "# pst.res.iloc[:300].loc[:, 'residual'].plot(kind='bar')       # REI"
   ]
  },
  {
   "cell_type": "code",
   "execution_count": null,
   "metadata": {},
   "outputs": [],
   "source": [
    "# pst.plot(kind='1to1');       # 1to1 = each observationg group with non-zero weighted observations\n",
    "# pst.phi                      # weighted sum of square residuals \n",
    "# ___________________________\n",
    "# pst.phi_components \n",
    "# pst.plot(kind=\"phi_pie\");\n",
    "# ___________________________\n",
    "# obs = pst.observation_data\n",
    "# obs['weight'] = 1.0                 # change all observation weights\n",
    "# pst.phi_components "
   ]
  },
  {
   "cell_type": "code",
   "execution_count": null,
   "metadata": {},
   "outputs": [],
   "source": [
    "# pst.phi_components\n",
    "balanced_groups = {grp:100 for grp in pst.nnz_obs_groups}\n",
    "# balanced_groups                                                 # take a look supressing ´#´\n",
    "pst.adjust_weights(obsgrp_dict=balanced_groups,)\n",
    "# pst.phi_components                                              # see\n",
    "# pst.plot(kind=\"phi_pie\");"
   ]
  },
  {
   "cell_type": "code",
   "execution_count": null,
   "metadata": {},
   "outputs": [],
   "source": [
    "pst.phi, pst.nnz_obs            # current phi and nº of non-zero observations   # pst.par_groups (?)"
   ]
  },
  {
   "cell_type": "code",
   "execution_count": null,
   "metadata": {},
   "outputs": [],
   "source": [
    "pst.adjust_weights_discrepancy(original_ceiling=True)       # default _________ #  true  \n",
    "pst.phi"
   ]
  },
  {
   "cell_type": "code",
   "execution_count": null,
   "metadata": {},
   "outputs": [],
   "source": [
    "# pst.write_obs_summary_table()      # expecting Phi to be equal to ____ nnz_obs ____ (number of non zero observations)"
   ]
  },
  {
   "cell_type": "code",
   "execution_count": null,
   "metadata": {},
   "outputs": [],
   "source": [
    "v = pyemu.geostats.ExpVario(contribution=1.0,           # exponential spherical\n",
    "                                    a=1000, \n",
    "                                    anisotropy=1.0, \n",
    "                                    bearing=0.0 )"
   ]
  },
  {
   "cell_type": "code",
   "execution_count": null,
   "metadata": {},
   "outputs": [],
   "source": [
    "v2 = pyemu.geostats.SphVario(contribution=1.0,          # sill\n",
    "                                    a=500,              # range of correlation\n",
    "                                    anisotropy=1.5,     # name says it all\n",
    "                                    bearing=45.0,       # angle in degrees East of North corresponding to anisotropy ellipse\n",
    "                                    name='var2')        # optional name"
   ]
  },
  {
   "cell_type": "code",
   "execution_count": null,
   "metadata": {},
   "outputs": [],
   "source": [
    "gs = pyemu.geostats.GeoStruct(variograms=[v2], transform='log') \n",
    "gs.plot()"
   ]
  },
  {
   "cell_type": "code",
   "execution_count": null,
   "metadata": {},
   "outputs": [],
   "source": [
    "df = pyemu.pp_utils.pp_tpl_to_dataframe(os.path.join(f_d,\"hkpp.dat.tpl\"))\n",
    "df.head()"
   ]
  },
  {
   "cell_type": "code",
   "execution_count": null,
   "metadata": {},
   "outputs": [],
   "source": [
    "cov = gs.covariance_matrix(x=df.x, y=df.y, names=df.parnme)      # gs ______ from the variogram \n",
    "# c = plt.imshow(cov.x)\n",
    "# plt.colorbar(c)                                                # ploting  "
   ]
  },
  {
   "cell_type": "code",
   "execution_count": null,
   "metadata": {},
   "outputs": [],
   "source": [
    "times = np.arange(0,365,1)                # \"X\"                # year \n",
    "y = np.ones_like(times)                   # \"Y\"                # time-series\n",
    "names = [\"t_\"+str(t) for t in times]      # 'parameter\" names\n",
    "\n",
    "exp_vario = pyemu.geostats.ExpVario(contribution=1.0,          # variogram\n",
    "                                    a = 5)                     # range \n",
    "# cov_t = exp_vario.covariance_matrix(times,y,names)\n",
    "# plt.imshow(cov_t.x)"
   ]
  },
  {
   "cell_type": "code",
   "execution_count": null,
   "metadata": {},
   "outputs": [],
   "source": [
    "pyemu.helpers.zero_order_tikhonov(pst,                            # preferred values\n",
    "                                par_groups=pst.adj_par_groups,    # PAR groups __________ + prior info\n",
    "                                reset=True)       # remove existing prior equations first\n",
    "\n",
    "# Weights from parameter bounds # pyemu.helpers.zero_order_tikhonov()\n",
    "# pst.prior_information.tail()  # See previous ... "
   ]
  },
  {
   "cell_type": "code",
   "execution_count": null,
   "metadata": {},
   "outputs": [],
   "source": [
    "# Parameters which are close together should be similar to each other.  ____________________PAR weights (?)\n",
    "pyemu.helpers.first_order_pearson_tikhonov(pst, \n",
    "                                            cov=cov,             # the covariance matrix; PAR \n",
    "                                            reset=False,         # prefered value & prefered difference eqs\n",
    "                                            abs_drop_tol=0.01)   # drop pi eqs that have small weight"
   ]
  },
  {
   "cell_type": "code",
   "execution_count": null,
   "metadata": {},
   "outputs": [],
   "source": [
    "# note the additional number of prior information equations\n",
    "pst.prior_information.tail()"
   ]
  },
  {
   "cell_type": "code",
   "execution_count": null,
   "metadata": {},
   "outputs": [],
   "source": [
    "par = pst.parameter_data\n",
    "par.loc[par['pargp']=='pargp', 'partrans'] = 'log'        # just un-tie\n",
    "par.loc[par['pargp']=='pargp']"
   ]
  },
  {
   "cell_type": "code",
   "execution_count": null,
   "metadata": {},
   "outputs": [],
   "source": [
    "pst.add_pi_equation(par_names=['special_par1', 'special_par2'],            # left hand side of the equation\n",
    "                    pilbl='new_pi_eq', rhs=0.0,                            # Right hand side ; * revise prior information eq \n",
    "                    weight=1.0, \n",
    "                    obs_group='regul_special',                             # name of prior information \"OBS group\"\n",
    "                    coef_dict = {'special_par1':99.0, 'special_par2':300} ) # parameter coeficients; ... do try changes here\n",
    "pst.prior_information.iloc[-3:]"
   ]
  },
  {
   "cell_type": "code",
   "execution_count": null,
   "metadata": {},
   "outputs": [],
   "source": [
    "parcov = pyemu.Cov.from_parameter_data(pst)   # PAR ___ bounds  ___ covariance matrix\n",
    "# parcov.row_names[:5], parcov.col_names[:5], \n",
    "# parcov.isdiagonal              # Diagonal: - uncertainty of each PAR (bounds). Off_values: - correlation within PAR"
   ]
  },
  {
   "cell_type": "code",
   "execution_count": null,
   "metadata": {},
   "outputs": [],
   "source": [
    "# cov.isdiagonal\n",
    "# parcov.x\n",
    "cov.x"
   ]
  },
  {
   "cell_type": "code",
   "execution_count": null,
   "metadata": {},
   "outputs": [],
   "source": [
    "parcov.x.shape, cov.x.shape"
   ]
  },
  {
   "cell_type": "code",
   "execution_count": null,
   "metadata": {
    "scrolled": true
   },
   "outputs": [],
   "source": [
    "parcov.as_2d"
   ]
  },
  {
   "cell_type": "code",
   "execution_count": null,
   "metadata": {},
   "outputs": [],
   "source": [
    "parnames = par.loc[par['pargp']=='hk', 'parnme'].tolist()                # PAR names (2x)\n",
    "subcov = parcov.get(row_names=parnames, col_names=parnames, drop=False)  # submatrix from cov_pb (?); \n",
    "f, (ax1, ax2) = plt.subplots(1, 2, sharey=True)      # plot both\n",
    "\n",
    "c = ax1.imshow(subcov.as_2d)                         # plot submatrix of diagonal matrix\n",
    "plt.colorbar(c, ax=ax1, shrink=0.1)                  \n",
    "\n",
    "c = ax2.imshow(0.25 * cov.as_2d)                     # plot cov matrix of correlated parameters \n",
    "plt.colorbar(c, ax=ax2, shrink=0.4)                 "
   ]
  },
  {
   "cell_type": "code",
   "execution_count": null,
   "metadata": {},
   "outputs": [],
   "source": [
    "cov_singular_values = cov.s     #   SVD   Vector\n",
    "# cov_singular_values.x"
   ]
  },
  {
   "cell_type": "code",
   "execution_count": null,
   "metadata": {},
   "outputs": [],
   "source": [
    "cov.v  # ?"
   ]
  },
  {
   "cell_type": "code",
   "execution_count": null,
   "metadata": {},
   "outputs": [],
   "source": [
    "covdf = cov.to_dataframe()\n",
    "covdf.head()                  # Pandas"
   ]
  },
  {
   "cell_type": "code",
   "execution_count": null,
   "metadata": {},
   "outputs": [],
   "source": [
    "# cov.to_ascii(filename=os.path.join(f_d,'ppoint.cov'))              # write to ascii; .to_binary() \n",
    "# cov = cov.from_ascii(filename=os.path.join(f_d,'ppoint.cov'))      # read from ascii\n",
    "# cov.to_uncfile(os.path.join(f_d,'test.unc'))                       # a PEST uncertainty file  "
   ]
  },
  {
   "cell_type": "code",
   "execution_count": null,
   "metadata": {},
   "outputs": [],
   "source": [
    "jco = pyemu.Jco.from_binary(os.path.join(f_d,\"freyberg_pp.jcb\"))      # Jacobian\n",
    "jco.shape"
   ]
  },
  {
   "cell_type": "code",
   "execution_count": null,
   "metadata": {},
   "outputs": [],
   "source": [
    "sc = pyemu.Schur(os.path.join(f_d,'freyberg_pp.jcb'), verbose=False)    # stored in the .parcov attribute\n",
    "sc.parcov.to_dataframe().head()  "
   ]
  },
  {
   "cell_type": "code",
   "execution_count": null,
   "metadata": {},
   "outputs": [],
   "source": [
    "sc.obscov.to_dataframe().head()                  # OBS noise covariance matrix"
   ]
  },
  {
   "cell_type": "code",
   "execution_count": null,
   "metadata": {},
   "outputs": [],
   "source": [
    "sc.posterior_parameter.to_dataframe().head()     # Posterior ___ PAR covariance matrix "
   ]
  },
  {
   "cell_type": "code",
   "execution_count": null,
   "metadata": {},
   "outputs": [],
   "source": [
    "prior_cov = sc.parcov\n",
    "prior_cov.to_ascii(os.path.join(f_d, 'freyberg_pp.prior.cov'))\n",
    "\n",
    "post_cov = sc.posterior_parameter\n",
    "post_cov.to_ascii(os.path.join(f_d, 'freyberg_pp.post.cov'))"
   ]
  },
  {
   "cell_type": "code",
   "execution_count": null,
   "metadata": {},
   "outputs": [],
   "source": [
    "# sc.forecast_names\n",
    "sc.forecasts.to_dataframe().head()          # forecast sensitivity vectors"
   ]
  },
  {
   "cell_type": "code",
   "execution_count": null,
   "metadata": {},
   "outputs": [],
   "source": [
    "sc.get_forecast_summary()"
   ]
  },
  {
   "cell_type": "code",
   "execution_count": null,
   "metadata": {},
   "outputs": [],
   "source": [
    "pst = pyemu.Pst(os.path.join(f_d,\"freyberg_pp.pst\"))               # *.pst __re-load and get rid of changes"
   ]
  },
  {
   "cell_type": "code",
   "execution_count": null,
   "metadata": {},
   "outputs": [],
   "source": [
    "pe = pyemu.ParameterEnsemble.from_gaussian_draw(pst,               # prior PAR ensemble from bounds\n",
    "                                                num_reals=200,)    # the number of realisations"
   ]
  },
  {
   "cell_type": "code",
   "execution_count": null,
   "metadata": {},
   "outputs": [],
   "source": [
    "pe = pyemu.ParameterEnsemble.from_gaussian_draw(pst,          \n",
    "                                                num_reals=200, \n",
    "                                                cov=prior_cov)    # parameter covariance (if any)"
   ]
  },
  {
   "cell_type": "code",
   "execution_count": null,
   "metadata": {},
   "outputs": [],
   "source": [
    "pe.head()  # Each row is an individual realisation. Each column is a parameter"
   ]
  },
  {
   "cell_type": "code",
   "execution_count": null,
   "metadata": {},
   "outputs": [],
   "source": [
    "pe.loc[:, 'rch_0'].apply(np.log10).hist(bins=50)       # par.loc[\"rch_0\",\"partrans\"] = LOG, so, ...\n",
    "plt.xlabel('$log_{10}$ parameter value')\n",
    "plt.ylabel('number of realisations')\n",
    "# pe.loc[:, 'rch_0'].hist(bins=100)                    # normal\n",
    "# plt.xlabel('parameter value')\n",
    "# plt.ylabel('number of realisations')"
   ]
  },
  {
   "cell_type": "code",
   "execution_count": null,
   "metadata": {},
   "outputs": [],
   "source": [
    "par.loc['rch_0', ['parlbnd','parubnd']]"
   ]
  },
  {
   "cell_type": "code",
   "execution_count": null,
   "metadata": {},
   "outputs": [],
   "source": [
    "pe.loc[:,\"rch_0\"].min(),pe.loc[:,\"rch_0\"].max()"
   ]
  },
  {
   "cell_type": "code",
   "execution_count": null,
   "metadata": {},
   "outputs": [],
   "source": [
    "pe.enforce()                           # enforce parmeter bounds.. as a \"truncated gaussian distribution\"\n",
    "pe.loc[:, 'rch_0'].hist()\n",
    "plt.xlabel('parameter value')\n",
    "plt.ylabel('number of realisations')"
   ]
  },
  {
   "cell_type": "code",
   "execution_count": null,
   "metadata": {},
   "outputs": [],
   "source": [
    "# plot_cols = pe.columns[0:8].tolist()            # select column (e.g. parameter) names\n",
    "# pe.plot(bins=50, \n",
    "#         plot_cols=plot_cols,                    # columns to plot\n",
    "#         filename=None, )                        # __________________external filename to record plot  !!!"
   ]
  },
  {
   "cell_type": "code",
   "execution_count": null,
   "metadata": {},
   "outputs": [],
   "source": [
    "# pe.to_csv(os.path.join(f_d, 'prior_pe.csv'))          # record an ensemble to external files \n",
    "# pe.to_binary(os.path.join(f_d,'prior_pe.jcb'))"
   ]
  },
  {
   "cell_type": "code",
   "execution_count": null,
   "metadata": {},
   "outputs": [],
   "source": [
    "pe = pyemu.ParameterEnsemble.from_csv(pst, filename=os.path.join(f_d, 'prior_pe.csv'))             # read then \n",
    "pe_b = pyemu.ParameterEnsemble.from_binary(pst, filename=os.path.join(f_d, 'prior_pe.jcb'))"
   ]
  },
  {
   "cell_type": "code",
   "execution_count": null,
   "metadata": {},
   "outputs": [],
   "source": [
    "emp_cov = pe.covariance_matrix()       # form an empirical covariance matrix from an ensemble!\n",
    "x = emp_cov.x.copy()\n",
    "x[x<1.0e-2] = np.nan\n",
    "c = plt.imshow(x)\n",
    "plt.colorbar(c)"
   ]
  },
  {
   "cell_type": "code",
   "execution_count": null,
   "metadata": {},
   "outputs": [],
   "source": [
    "pe_post = pyemu.ParameterEnsemble.from_gaussian_draw(pst=pst,\n",
    "                                                    cov=post_cov, \n",
    "                                                    num_reals=200)\n",
    "pe_post.enforce()"
   ]
  },
  {
   "cell_type": "code",
   "execution_count": null,
   "metadata": {},
   "outputs": [],
   "source": [
    "pe.loc[:, 'rch_0'].hist(alpha=0.5,color=\"0.5\")                           # prior \n",
    "pe_post.loc[:, 'rch_0'].hist(alpha=0.5,color=\"b\")                        # posterior\n",
    "# pe_post.loc[:, 'hk00'].plot(kind=\"hist\",bins=20,ax2=ax2,alpha=0.5)     # other Parameter .. ax1,2 err"
   ]
  },
  {
   "cell_type": "code",
   "execution_count": null,
   "metadata": {},
   "outputs": [],
   "source": [
    "# pyemu.plot_utils.ensemble_change_summary(pe, pe_post, pst)     # plots the change between two ensembles"
   ]
  },
  {
   "cell_type": "code",
   "execution_count": null,
   "metadata": {},
   "outputs": [],
   "source": [
    "# pyemu.plot_utils.ensemble_helper(ensemble={\"0.5\":pe, \"b\":pe_post,},\n",
    "#                                     filename=None,\n",
    "#                                     plot_cols=plot_cols,)"
   ]
  }
 ],
 "metadata": {
  "kernelspec": {
   "display_name": "Python 3 (ipykernel)",
   "language": "python",
   "name": "python3"
  },
  "language_info": {
   "codemirror_mode": {
    "name": "ipython",
    "version": 3
   },
   "file_extension": ".py",
   "mimetype": "text/x-python",
   "name": "python",
   "nbconvert_exporter": "python",
   "pygments_lexer": "ipython3",
   "version": "3.13.1"
  }
 },
 "nbformat": 4,
 "nbformat_minor": 4
}
